{
 "cells": [
  {
   "cell_type": "code",
   "execution_count": 1,
   "id": "2e533a4e",
   "metadata": {},
   "outputs": [],
   "source": [
    "import re\n",
    "import sys\n",
    "from time import time, sleep\n",
    "from pprint import pprint\n",
    "from functools import partial\n",
    "from multiprocessing import Pool\n",
    "\n",
    "import numpy as np\n",
    "import pandas as pd\n",
    "import optuna\n",
    "import matplotlib.pyplot as plt\n",
    "\n",
    "FILENAME = \"main.cpp\""
   ]
  },
  {
   "cell_type": "code",
   "execution_count": 2,
   "id": "276c3bc4",
   "metadata": {},
   "outputs": [],
   "source": [
    "!cp ../answer/{FILENAME} ./{FILENAME}"
   ]
  },
  {
   "cell_type": "code",
   "execution_count": 3,
   "id": "c31d5cd3",
   "metadata": {
    "scrolled": true
   },
   "outputs": [
    {
     "name": "stdout",
     "output_type": "stream",
     "text": [
      "\u001b[01m\u001b[Kmain.cpp:49:\u001b[m\u001b[K \u001b[01;35m\u001b[Kwarning: \u001b[m\u001b[Kignoring #pragma clang attribute [\u001b[01;35m\u001b[K-Wunknown-pragmas\u001b[m\u001b[K]\n",
      "   49 | #pragma clang attribute push (__attribute__((target(\"arch=skylake\"))),apply_to=function)\n",
      "      | \n",
      "\u001b[01m\u001b[Kmain.cpp:1656:\u001b[m\u001b[K \u001b[01;35m\u001b[Kwarning: \u001b[m\u001b[Kignoring #pragma clang attribute [\u001b[01;35m\u001b[K-Wunknown-pragmas\u001b[m\u001b[K]\n",
      " 1656 | #pragma clang attribute pop\n",
      "      | \n",
      "\u001b[01m\u001b[Kmain.cpp:\u001b[m\u001b[K In function ‘\u001b[01m\u001b[Kvoid test::TestBitBoardGetSpeed()\u001b[m\u001b[K’:\n",
      "\u001b[01m\u001b[Kmain.cpp:852:9:\u001b[m\u001b[K \u001b[01;35m\u001b[Kwarning: \u001b[m\u001b[Kunused variable ‘\u001b[01m\u001b[Kt0\u001b[m\u001b[K’ [\u001b[01;35m\u001b[K-Wunused-variable\u001b[m\u001b[K]\n",
      "  852 |  double \u001b[01;35m\u001b[Kt0\u001b[m\u001b[K;\n",
      "      |         \u001b[01;35m\u001b[K^~\u001b[m\u001b[K\n",
      "\u001b[01m\u001b[Kmain.cpp:\u001b[m\u001b[K In function ‘\u001b[01m\u001b[Kvoid globals::UpdateValueTable()\u001b[m\u001b[K’:\n",
      "\u001b[01m\u001b[Kmain.cpp:958:15:\u001b[m\u001b[K \u001b[01;35m\u001b[Kwarning: \u001b[m\u001b[Kunused variable ‘\u001b[01m\u001b[Kvm\u001b[m\u001b[K’ [\u001b[01;35m\u001b[K-Wunused-variable\u001b[m\u001b[K]\n",
      "  958 |   const auto& \u001b[01;35m\u001b[Kvm\u001b[m\u001b[K = v_modified[idx_RCSEV];\n",
      "      |               \u001b[01;35m\u001b[K^~\u001b[m\u001b[K\n",
      "\u001b[01m\u001b[Kmain.cpp:\u001b[m\u001b[K In member function ‘\u001b[01m\u001b[Kvoid State::RecalcFutureScore()\u001b[m\u001b[K’:\n",
      "\u001b[01m\u001b[Kmain.cpp:1057:14:\u001b[m\u001b[K \u001b[01;35m\u001b[Kwarning: \u001b[m\u001b[Kunused variable ‘\u001b[01m\u001b[Kold_subscore2\u001b[m\u001b[K’ [\u001b[01;35m\u001b[K-Wunused-variable\u001b[m\u001b[K]\n",
      " 1057 |   const auto \u001b[01;35m\u001b[Kold_subscore2\u001b[m\u001b[K = subscore2;\n",
      "      |              \u001b[01;35m\u001b[K^~~~~~~~~~~~~\u001b[m\u001b[K\n",
      "\u001b[01m\u001b[Kmain.cpp:\u001b[m\u001b[K In function ‘\u001b[01m\u001b[Kvoid Solve()\u001b[m\u001b[K’:\n",
      "\u001b[01m\u001b[Kmain.cpp:1463:54:\u001b[m\u001b[K \u001b[01;35m\u001b[Kwarning: \u001b[m\u001b[Ksuggest parentheses around ‘\u001b[01m\u001b[K-\u001b[m\u001b[K’ in operand of ‘\u001b[01m\u001b[K&\u001b[m\u001b[K’ [\u001b[01;35m\u001b[K-Wparentheses\u001b[m\u001b[K]\n",
      " 1463 |    r = (unsigned)rng.next() & \u001b[01;35m\u001b[K(1 << hash_table_size) - 1\u001b[m\u001b[K;\n",
      "      |                               \u001b[01;35m\u001b[K~~~~~~~~~~~~~~~~~~~~~~~^~~\u001b[m\u001b[K\n",
      "\u001b[01m\u001b[Kmain.cpp:1534:72:\u001b[m\u001b[K \u001b[01;35m\u001b[Kwarning: \u001b[m\u001b[Kmissing initializer for member ‘\u001b[01m\u001b[KSolve()::Node::action\u001b[m\u001b[K’ [\u001b[01;35m\u001b[K-Wmissing-field-initializers\u001b[m\u001b[K]\n",
      " 1534 |   node_buffer.push({ state_buffer[0].score, nullptr, &state_buffer[0] }\u001b[01;35m\u001b[K)\u001b[m\u001b[K;\n",
      "      |                                                                        \u001b[01;35m\u001b[K^\u001b[m\u001b[K\n",
      "main.cpp: In instantiation of ‘\u001b[01m\u001b[KMinimumHashMap<T, size, KeyType>::MinimumHashMap() [with T = int; int size = 512; KeyType = unsigned int]\u001b[m\u001b[K’:\n",
      "\u001b[01m\u001b[Kmain.cpp:1543:53:\u001b[m\u001b[K   required from here\n",
      "\u001b[01m\u001b[Kmain.cpp:477:30:\u001b[m\u001b[K \u001b[01;35m\u001b[Kwarning: \u001b[m\u001b[Ksuggest parentheses around ‘\u001b[01m\u001b[K-\u001b[m\u001b[K’ in operand of ‘\u001b[01m\u001b[K&\u001b[m\u001b[K’ [\u001b[01;35m\u001b[K-Wparentheses\u001b[m\u001b[K]\n",
      "  477 |   static_assert((size & \u001b[01;35m\u001b[Ksize - 1\u001b[m\u001b[K) == 0, \"not pow of 2\");\n",
      "      |                         \u001b[01;35m\u001b[K~~~~~^~~\u001b[m\u001b[K\n",
      "\u001b[01m\u001b[Kmain.cpp:1452:8:\u001b[m\u001b[K \u001b[01;35m\u001b[Kwarning: \u001b[m\u001b[Kignoring return value of ‘\u001b[01m\u001b[Kint scanf(const char*, ...)\u001b[m\u001b[K’, declared with attribute warn_unused_result [\u001b[01;35m\u001b[K-Wunused-result\u001b[m\u001b[K]\n",
      " 1452 |   \u001b[01;35m\u001b[Kscanf(\"%d %d %d\", &buf, &buf, &buf)\u001b[m\u001b[K;\n",
      "      |   \u001b[01;35m\u001b[K~~~~~^~~~~~~~~~~~~~~~~~~~~~~~~~~~~~\u001b[m\u001b[K\n",
      "\u001b[01m\u001b[Kmain.cpp:1454:9:\u001b[m\u001b[K \u001b[01;35m\u001b[Kwarning: \u001b[m\u001b[Kignoring return value of ‘\u001b[01m\u001b[Kint scanf(const char*, ...)\u001b[m\u001b[K’, declared with attribute warn_unused_result [\u001b[01;35m\u001b[K-Wunused-result\u001b[m\u001b[K]\n",
      " 1454 |    \u001b[01;35m\u001b[Kscanf(\"%hhd %hhd %hd %hd %hd\", &R[i], &C[i], &S[i], &E[i], &V[i])\u001b[m\u001b[K;\n",
      "      |    \u001b[01;35m\u001b[K~~~~~^~~~~~~~~~~~~~~~~~~~~~~~~~~~~~~~~~~~~~~~~~~~~~~~~~~~~~~~~~~~\u001b[m\u001b[K\n"
     ]
    }
   ],
   "source": [
    "#!g++ {FILENAME} -std=gnu++17 -Wall -Wextra -O2 -DONLINE_JUDGE -o {FILENAME}.out\n",
    "!g++ {FILENAME} -std=gnu++17 -Wall -Wextra -O2 -o {FILENAME}.out"
   ]
  },
  {
   "cell_type": "code",
   "execution_count": 4,
   "id": "d79ff613",
   "metadata": {},
   "outputs": [
    {
     "name": "stdout",
     "output_type": "stream",
     "text": [
      "0000.txt  0063.txt  0126.txt  0189.txt\t0252.txt  0315.txt  0378.txt  0441.txt\r\n",
      "0001.txt  0064.txt  0127.txt  0190.txt\t0253.txt  0316.txt  0379.txt  0442.txt\r\n",
      "0002.txt  0065.txt  0128.txt  0191.txt\t0254.txt  0317.txt  0380.txt  0443.txt\r\n",
      "0003.txt  0066.txt  0129.txt  0192.txt\t0255.txt  0318.txt  0381.txt  0444.txt\r\n",
      "0004.txt  0067.txt  0130.txt  0193.txt\t0256.txt  0319.txt  0382.txt  0445.txt\r\n",
      "0005.txt  0068.txt  0131.txt  0194.txt\t0257.txt  0320.txt  0383.txt  0446.txt\r\n",
      "0006.txt  0069.txt  0132.txt  0195.txt\t0258.txt  0321.txt  0384.txt  0447.txt\r\n",
      "0007.txt  0070.txt  0133.txt  0196.txt\t0259.txt  0322.txt  0385.txt  0448.txt\r\n",
      "0008.txt  0071.txt  0134.txt  0197.txt\t0260.txt  0323.txt  0386.txt  0449.txt\r\n",
      "0009.txt  0072.txt  0135.txt  0198.txt\t0261.txt  0324.txt  0387.txt  0450.txt\r\n",
      "0010.txt  0073.txt  0136.txt  0199.txt\t0262.txt  0325.txt  0388.txt  0451.txt\r\n",
      "0011.txt  0074.txt  0137.txt  0200.txt\t0263.txt  0326.txt  0389.txt  0452.txt\r\n",
      "0012.txt  0075.txt  0138.txt  0201.txt\t0264.txt  0327.txt  0390.txt  0453.txt\r\n",
      "0013.txt  0076.txt  0139.txt  0202.txt\t0265.txt  0328.txt  0391.txt  0454.txt\r\n",
      "0014.txt  0077.txt  0140.txt  0203.txt\t0266.txt  0329.txt  0392.txt  0455.txt\r\n",
      "0015.txt  0078.txt  0141.txt  0204.txt\t0267.txt  0330.txt  0393.txt  0456.txt\r\n",
      "0016.txt  0079.txt  0142.txt  0205.txt\t0268.txt  0331.txt  0394.txt  0457.txt\r\n",
      "0017.txt  0080.txt  0143.txt  0206.txt\t0269.txt  0332.txt  0395.txt  0458.txt\r\n",
      "0018.txt  0081.txt  0144.txt  0207.txt\t0270.txt  0333.txt  0396.txt  0459.txt\r\n",
      "0019.txt  0082.txt  0145.txt  0208.txt\t0271.txt  0334.txt  0397.txt  0460.txt\r\n",
      "0020.txt  0083.txt  0146.txt  0209.txt\t0272.txt  0335.txt  0398.txt  0461.txt\r\n",
      "0021.txt  0084.txt  0147.txt  0210.txt\t0273.txt  0336.txt  0399.txt  0462.txt\r\n",
      "0022.txt  0085.txt  0148.txt  0211.txt\t0274.txt  0337.txt  0400.txt  0463.txt\r\n",
      "0023.txt  0086.txt  0149.txt  0212.txt\t0275.txt  0338.txt  0401.txt  0464.txt\r\n",
      "0024.txt  0087.txt  0150.txt  0213.txt\t0276.txt  0339.txt  0402.txt  0465.txt\r\n",
      "0025.txt  0088.txt  0151.txt  0214.txt\t0277.txt  0340.txt  0403.txt  0466.txt\r\n",
      "0026.txt  0089.txt  0152.txt  0215.txt\t0278.txt  0341.txt  0404.txt  0467.txt\r\n",
      "0027.txt  0090.txt  0153.txt  0216.txt\t0279.txt  0342.txt  0405.txt  0468.txt\r\n",
      "0028.txt  0091.txt  0154.txt  0217.txt\t0280.txt  0343.txt  0406.txt  0469.txt\r\n",
      "0029.txt  0092.txt  0155.txt  0218.txt\t0281.txt  0344.txt  0407.txt  0470.txt\r\n",
      "0030.txt  0093.txt  0156.txt  0219.txt\t0282.txt  0345.txt  0408.txt  0471.txt\r\n",
      "0031.txt  0094.txt  0157.txt  0220.txt\t0283.txt  0346.txt  0409.txt  0472.txt\r\n",
      "0032.txt  0095.txt  0158.txt  0221.txt\t0284.txt  0347.txt  0410.txt  0473.txt\r\n",
      "0033.txt  0096.txt  0159.txt  0222.txt\t0285.txt  0348.txt  0411.txt  0474.txt\r\n",
      "0034.txt  0097.txt  0160.txt  0223.txt\t0286.txt  0349.txt  0412.txt  0475.txt\r\n",
      "0035.txt  0098.txt  0161.txt  0224.txt\t0287.txt  0350.txt  0413.txt  0476.txt\r\n",
      "0036.txt  0099.txt  0162.txt  0225.txt\t0288.txt  0351.txt  0414.txt  0477.txt\r\n",
      "0037.txt  0100.txt  0163.txt  0226.txt\t0289.txt  0352.txt  0415.txt  0478.txt\r\n",
      "0038.txt  0101.txt  0164.txt  0227.txt\t0290.txt  0353.txt  0416.txt  0479.txt\r\n",
      "0039.txt  0102.txt  0165.txt  0228.txt\t0291.txt  0354.txt  0417.txt  0480.txt\r\n",
      "0040.txt  0103.txt  0166.txt  0229.txt\t0292.txt  0355.txt  0418.txt  0481.txt\r\n",
      "0041.txt  0104.txt  0167.txt  0230.txt\t0293.txt  0356.txt  0419.txt  0482.txt\r\n",
      "0042.txt  0105.txt  0168.txt  0231.txt\t0294.txt  0357.txt  0420.txt  0483.txt\r\n",
      "0043.txt  0106.txt  0169.txt  0232.txt\t0295.txt  0358.txt  0421.txt  0484.txt\r\n",
      "0044.txt  0107.txt  0170.txt  0233.txt\t0296.txt  0359.txt  0422.txt  0485.txt\r\n",
      "0045.txt  0108.txt  0171.txt  0234.txt\t0297.txt  0360.txt  0423.txt  0486.txt\r\n",
      "0046.txt  0109.txt  0172.txt  0235.txt\t0298.txt  0361.txt  0424.txt  0487.txt\r\n",
      "0047.txt  0110.txt  0173.txt  0236.txt\t0299.txt  0362.txt  0425.txt  0488.txt\r\n",
      "0048.txt  0111.txt  0174.txt  0237.txt\t0300.txt  0363.txt  0426.txt  0489.txt\r\n",
      "0049.txt  0112.txt  0175.txt  0238.txt\t0301.txt  0364.txt  0427.txt  0490.txt\r\n",
      "0050.txt  0113.txt  0176.txt  0239.txt\t0302.txt  0365.txt  0428.txt  0491.txt\r\n",
      "0051.txt  0114.txt  0177.txt  0240.txt\t0303.txt  0366.txt  0429.txt  0492.txt\r\n",
      "0052.txt  0115.txt  0178.txt  0241.txt\t0304.txt  0367.txt  0430.txt  0493.txt\r\n",
      "0053.txt  0116.txt  0179.txt  0242.txt\t0305.txt  0368.txt  0431.txt  0494.txt\r\n",
      "0054.txt  0117.txt  0180.txt  0243.txt\t0306.txt  0369.txt  0432.txt  0495.txt\r\n",
      "0055.txt  0118.txt  0181.txt  0244.txt\t0307.txt  0370.txt  0433.txt  0496.txt\r\n",
      "0056.txt  0119.txt  0182.txt  0245.txt\t0308.txt  0371.txt  0434.txt  0497.txt\r\n",
      "0057.txt  0120.txt  0183.txt  0246.txt\t0309.txt  0372.txt  0435.txt  0498.txt\r\n",
      "0058.txt  0121.txt  0184.txt  0247.txt\t0310.txt  0373.txt  0436.txt  0499.txt\r\n",
      "0059.txt  0122.txt  0185.txt  0248.txt\t0311.txt  0374.txt  0437.txt\r\n",
      "0060.txt  0123.txt  0186.txt  0249.txt\t0312.txt  0375.txt  0438.txt\r\n",
      "0061.txt  0124.txt  0187.txt  0250.txt\t0313.txt  0376.txt  0439.txt\r\n",
      "0062.txt  0125.txt  0188.txt  0251.txt\t0314.txt  0377.txt  0440.txt\r\n"
     ]
    }
   ],
   "source": [
    "# テストケース生成\n",
    "SEED = 0\n",
    "N_TESTCASES = 500\n",
    "\n",
    "!mkdir in\n",
    "for i in range(N_TESTCASES):\n",
    "    filename = f\"{i:04d}.txt\"\n",
    "    seed = SEED + i\n",
    "    !python3 ../A/tester/generator.py {seed} > ./in/{filename}\n",
    "!ls in"
   ]
  },
  {
   "cell_type": "code",
   "execution_count": 5,
   "id": "4ba3d57a",
   "metadata": {},
   "outputs": [],
   "source": [
    "TESTCASE_DIRECTORY = \"./in/\"\n",
    "TESTCASES = [f\"{i:04d}.txt\" for i in range(N_TESTCASES)]"
   ]
  },
  {
   "cell_type": "code",
   "execution_count": 8,
   "id": "86a00e1c",
   "metadata": {},
   "outputs": [
    {
     "name": "stdout",
     "output_type": "stream",
     "text": [
      "mkdir: cannot create directory ‘out’: File exists\n",
      "elapsed_time=0.010691  cum_base_sec/elapsed_time=7.8736e+09  modified=4.77888e+09\n",
      "remaining_time=3.43262\n",
      "turn=49\n",
      "time / width = 1.67165e-06\n",
      "beam_width=195\n",
      "q.size()=377\n",
      "\n",
      "elapsed_time=0.0244121  cum_base_sec/elapsed_time=1.00154e+10  modified=7.05491e+09\n",
      "remaining_time=3.4189\n",
      "turn=99\n",
      "time / width = 1.2577e-06\n",
      "beam_width=324\n",
      "q.size()=481\n",
      "\n",
      "elapsed_time=0.048535  cum_base_sec/elapsed_time=1.01726e+10  modified=8.25709e+09\n",
      "remaining_time=3.39477\n",
      "turn=149\n",
      "time / width = 1.52111e-06\n",
      "beam_width=421\n",
      "q.size()=510\n",
      "\n",
      "elapsed_time=0.0822014  cum_base_sec/elapsed_time=1.00389e+10  modified=8.79525e+09\n",
      "remaining_time=3.36111\n",
      "turn=199\n",
      "time / width = 1.78552e-06\n",
      "beam_width=493\n",
      "q.size()=512\n",
      "\n",
      "elapsed_time=0.12537  cum_base_sec/elapsed_time=9.78751e+09  modified=8.95071e+09\n",
      "remaining_time=3.31794\n",
      "turn=249\n",
      "time / width = 1.84493e-06\n",
      "beam_width=547\n",
      "q.size()=512\n",
      "\n",
      "elapsed_time=0.177522  cum_base_sec/elapsed_time=9.57028e+09  modified=8.97679e+09\n",
      "remaining_time=3.26579\n",
      "turn=299\n",
      "time / width = 2.26974e-06\n",
      "beam_width=593\n",
      "q.size()=512\n",
      "\n",
      "elapsed_time=0.236877  cum_base_sec/elapsed_time=9.3486e+09  modified=8.90876e+09\n",
      "remaining_time=3.20643\n",
      "turn=349\n",
      "time / width = 2.04406e-06\n",
      "beam_width=596\n",
      "q.size()=512\n",
      "\n",
      "elapsed_time=0.303394  cum_base_sec/elapsed_time=9.20272e+09  modified=8.86197e+09\n",
      "remaining_time=3.13991\n",
      "turn=399\n",
      "time / width = 2.16228e-06\n",
      "beam_width=596\n",
      "q.size()=512\n",
      "\n",
      "elapsed_time=0.368135  cum_base_sec/elapsed_time=9.27954e+09  modified=8.9926e+09\n",
      "remaining_time=3.07517\n",
      "turn=449\n",
      "time / width = 2.7367e-06\n",
      "beam_width=596\n",
      "q.size()=512\n",
      "\n",
      "elapsed_time=0.456517  cum_base_sec/elapsed_time=8.98318e+09  modified=8.76054e+09\n",
      "remaining_time=2.98679\n",
      "turn=499\n",
      "time / width = 3.26458e-06\n",
      "beam_width=596\n",
      "q.size()=512\n",
      "\n",
      "elapsed_time=0.5661  cum_base_sec/elapsed_time=8.63091e+09  modified=8.4605e+09\n",
      "remaining_time=2.87721\n",
      "turn=549\n",
      "time / width = 4.61627e-06\n",
      "beam_width=596\n",
      "q.size()=512\n",
      "\n",
      "elapsed_time=0.698697  cum_base_sec/elapsed_time=8.24571e+09  modified=8.11613e+09\n",
      "remaining_time=2.74461\n",
      "turn=599\n",
      "time / width = 4.94494e-06\n",
      "beam_width=596\n",
      "q.size()=512\n",
      "\n",
      "elapsed_time=0.856271  cum_base_sec/elapsed_time=7.91791e+09  modified=7.81816e+09\n",
      "remaining_time=2.58704\n",
      "turn=649\n",
      "time / width = 5.34953e-06\n",
      "beam_width=596\n",
      "q.size()=512\n",
      "\n",
      "elapsed_time=1.03318  cum_base_sec/elapsed_time=7.70674e+09  modified=7.62725e+09\n",
      "remaining_time=2.41012\n",
      "turn=699\n",
      "time / width = 6.48115e-06\n",
      "beam_width=596\n",
      "q.size()=512\n",
      "\n",
      "elapsed_time=1.23478  cum_base_sec/elapsed_time=7.54991e+09  modified=7.48537e+09\n",
      "remaining_time=2.20853\n",
      "turn=749\n",
      "time / width = 6.62132e-06\n",
      "beam_width=596\n",
      "q.size()=512\n",
      "\n",
      "elapsed_time=1.51095  cum_base_sec/elapsed_time=7.23649e+09  modified=7.18715e+09\n",
      "remaining_time=1.93236\n",
      "turn=799\n",
      "time / width = 9.48238e-06\n",
      "beam_width=596\n",
      "q.size()=512\n",
      "\n",
      "elapsed_time=1.90152  cum_base_sec/elapsed_time=6.76396e+09  modified=6.72891e+09\n",
      "remaining_time=1.54179\n",
      "turn=849\n",
      "time / width = 1.24668e-05\n",
      "beam_width=596\n",
      "q.size()=512\n",
      "\n",
      "elapsed_time=2.32593  cum_base_sec/elapsed_time=6.45123e+09  modified=6.42482e+09\n",
      "remaining_time=1.11738\n",
      "turn=899\n",
      "time / width = 1.38532e-05\n",
      "beam_width=596\n",
      "q.size()=512\n",
      "\n",
      "elapsed_time=2.75172  cum_base_sec/elapsed_time=6.23606e+09  modified=6.21505e+09\n",
      "remaining_time=0.691591\n",
      "turn=949\n",
      "time / width = 1.28789e-05\n",
      "beam_width=596\n",
      "q.size()=512\n",
      "\n",
      "elapsed_time=3.21447  cum_base_sec/elapsed_time=5.96605e+09  modified=5.94948e+09\n",
      "remaining_time=0.228842\n",
      "turn=999\n",
      "time / width = 1.86008e-05\n",
      "beam_width=596\n",
      "q.size()=512\n",
      "\n",
      "5.37857e+06\n",
      "0000 time:3.4036 score:5378572\n"
     ]
    },
    {
     "data": {
      "text/plain": [
       "(5378572, 3.4035723209381104)"
      ]
     },
     "execution_count": 8,
     "metadata": {},
     "output_type": "execute_result"
    }
   ],
   "source": [
    "# 速度チェック\n",
    "\n",
    "!mkdir out\n",
    "\n",
    "def parallel(i):\n",
    "    testcase = TESTCASES[i]\n",
    "    i = f\"{i:04d}\"\n",
    "    t0 = time()\n",
    "    !./{FILENAME}.out < {TESTCASE_DIRECTORY}{testcase} > ./out/{testcase}\n",
    "    t = time() - t0\n",
    "    score = !python3 ../A/tester/judge.py {TESTCASE_DIRECTORY}{testcase} ./out/{testcase}\n",
    "    print(i, f\"time:{t:.4f}\", *score)\n",
    "    score = int(score[0].split(\":\")[-1])\n",
    "    return score, t\n",
    "\n",
    "parallel(0)"
   ]
  },
  {
   "cell_type": "code",
   "execution_count": 10,
   "id": "7ac0eda2",
   "metadata": {},
   "outputs": [
    {
     "name": "stdout",
     "output_type": "stream",
     "text": [
      "mkdir: cannot create directory ‘out’: File exists\n",
      "0025 time:3.6763 score:4611637\n",
      "0040 time:3.7868 score:4764868\n",
      "0085 time:3.7418 score:5439869\n",
      "0110 time:3.7989 score:5167111\n",
      "00300130  time:3.8072time:3.8035 score:46652420100\n",
      " score:5086014 \n",
      "time:3.80220135  score:4989834time:3.7721\n",
      " score:5796417\n",
      "0065 0060time:3.7925 0090score:5111870 \n",
      "time:3.78700145 0035score:54975170055  0105\n",
      "0050time:3.7921    time:3.8079time:3.7867time:3.7903time:3.7932time:3.7998    score:5154190score:56656670115score:5481959 0080\n",
      "\n",
      "0005score:4721003  score:5636499\n",
      "0120time:3.8101 0075 score:58608840125\n",
      "time:3.8015   score:4923162 \n",
      "time:3.79940070time:3.7985\n",
      "\n",
      "00000045 0140 score:5056047 0015time:3.8079score:5157976  \n",
      " time:3.7987 \n",
      "0020  time:3.8064score:4865497 time:3.8058time:3.8072 score:4608911time:3.8009  score:4839208time:3.8004 \n",
      "score:5186982score:5049103time:3.8059 \n",
      "score:5000858 \n",
      "score:4814396\n",
      "\n",
      "0095\n",
      "\n",
      " score:5569314time:3.8003 score:5265743\n",
      " score:4975839\n",
      "\n",
      "0010 time:3.8071 score:5117125\n",
      "0036 time:3.2029 score:4653168\n",
      "00260101  time:3.6097time:3.7899  score:5001151score:5480483\n",
      "\n",
      "0041 time:3.7951 score:4938788\n",
      "0086 time:3.7912 score:5084468\n",
      "0111 time:3.7866 score:5043808\n",
      "0131 0066time:3.7682 time:3.7755 score:4804221 \n",
      "0081score:4970425 time:3.7794\n",
      " 01360031score:5432376 \n",
      "time:3.7935 score:4729114\n",
      " time:3.8005 score:53067630071\n",
      "0046 time:3.7749  score:5802730time:3.7709 score:43996710076\n",
      "\n",
      " time:3.7945 0061score:5412784\n",
      "0121 time:3.7742 0006time:3.7921 0106score:4745603 \n",
      "  time:3.7812score:4764055 time:3.7952\n",
      " 01410091score:4762879 score:5297737time:3.7789\n",
      "\n",
      " score:5090155\n",
      "002100560126 0051time:3.7970  time:3.7870  0146  time:3.7924score:5177067  score:5092166time:3.7947time:3.7985\n",
      "\n",
      "time:3.7795score:5056953  0016 score:5316089score:5043427score:5384658\n",
      "\n",
      "\n",
      "0116 time:3.7991 0001 \n",
      "score:5463800 time:3.7882\n",
      " time:3.7887score:5220094\n",
      " 0096score:5396711 time:3.7823\n",
      " score:4876366\n",
      "0011 time:3.7753 score:5761878\n",
      "0042 time:3.3422 score:4750032\n",
      "0037 time:3.7757 score:5326659\n",
      "0027 time:3.7927 score:4664256\n",
      "0102 time:3.7892 score:4788704\n",
      "0087 time:3.7949 score:5377623\n",
      "0062 time:3.6638 score:4805971\n",
      "0112 time:3.8035 score:52982580082 \n",
      "0067 time:3.7758 score:4688126\n",
      "time:3.7712 score:4974902\n",
      "0032 time:3.7792 score:5202019\n",
      "0132 time:3.8132 score:5281259\n",
      "00720137  time:3.7812 time:3.7971 score:4684062\n",
      "score:4757942\n",
      "0047 time:3.7772 score:5616108\n",
      "0077 time:3.7793 score:5327430\n",
      "0097 time:3.7726 score:4304697\n",
      "0142 time:3.7650 score:5498421\n",
      "0127 time:3.77950122  time:3.7814 score:47404610107\n",
      " score:4782261\n",
      "time:3.7788 score:4839060\n",
      "0057 time:3.77190022  score:4791262time:3.80400007 \n",
      " score:49269410092time:3.7931  \n",
      "score:54739700147 time:3.7798 score:5382966\n",
      "0017 \n",
      "time:3.7976 score:5332423\n",
      "time:3.7772 score:56107070002\n",
      "0117  time:3.7932 score:5016965\n",
      "0052time:3.7809 score:5316987 time:3.80560012\n",
      " time:3.7180 score:4399185\n",
      " score:5817179\n",
      "elapsed_time=0.0162757  cum_base_sec/elapsed_time=4.05721e+09  modified=3.44256e+09\n",
      "remaining_time=3.40143\n",
      "turn=49\n",
      "time / width = 2.76942e-06\n",
      "beam_width=139\n",
      "q.size()=295\n",
      "\n",
      "elapsed_time=0.0321061  cum_base_sec/elapsed_time=5.36047e+09  modified=4.4909e+09\n",
      "remaining_time=3.3856\n",
      "turn=99\n",
      "time / width = 2.77612e-06\n",
      "beam_width=204\n",
      "q.size()=422\n",
      "\n",
      "elapsed_time=0.0576849  cum_base_sec/elapsed_time=5.63199e+09  modified=4.99783e+09\n",
      "remaining_time=3.36002\n",
      "turn=149\n",
      "time / width = 4.17433e-06\n",
      "beam_width=252\n",
      "q.size()=503\n",
      "\n",
      "elapsed_time=0.091967  cum_base_sec/elapsed_time=5.62625e+09  modified=5.19234e+09\n",
      "remaining_time=3.32574\n",
      "turn=199\n",
      "time / width = 3.19666e-06\n",
      "beam_width=288\n",
      "q.size()=512\n",
      "\n",
      "elapsed_time=0.136358  cum_base_sec/elapsed_time=5.50921e+09  modified=5.21386e+09\n",
      "remaining_time=3.28135\n",
      "turn=249\n",
      "time / width = 2.89793e-06\n",
      "beam_width=315\n",
      "q.size()=512\n",
      "\n",
      "elapsed_time=0.189936  cum_base_sec/elapsed_time=5.3827e+09  modified=5.17423e+09\n",
      "remaining_time=3.22777\n",
      "turn=299\n",
      "time / width = 3.89355e-06\n",
      "beam_width=338\n",
      "q.size()=512\n",
      "\n",
      "elapsed_time=0.26002  cum_base_sec/elapsed_time=5.0703e+09  modified=4.93382e+09\n",
      "remaining_time=3.15768\n",
      "turn=349\n",
      "time / width = 4.59268e-06\n",
      "beam_width=345\n",
      "q.size()=512\n",
      "\n",
      "elapsed_time=0.343019  cum_base_sec/elapsed_time=4.83524e+09  modified=4.74137e+09\n",
      "remaining_time=3.07468\n",
      "turn=399\n",
      "time / width = 6.41331e-06\n",
      "beam_width=354\n",
      "q.size()=512\n",
      "\n",
      "elapsed_time=0.442057  cum_base_sec/elapsed_time=4.59218e+09  modified=4.52761e+09\n",
      "remaining_time=2.97565\n",
      "turn=449\n",
      "time / width = 6.1766e-06\n",
      "beam_width=358\n",
      "q.size()=512\n",
      "\n",
      "elapsed_time=0.558433  cum_base_sec/elapsed_time=4.37587e+09  modified=4.33077e+09\n",
      "remaining_time=2.85927\n",
      "turn=499\n",
      "time / width = 7.83234e-06\n",
      "beam_width=361\n",
      "q.size()=512\n",
      "\n",
      "elapsed_time=0.689827  cum_base_sec/elapsed_time=4.23612e+09  modified=4.20279e+09\n",
      "remaining_time=2.72788\n",
      "turn=549\n",
      "time / width = 8.7101e-06\n",
      "beam_width=368\n",
      "q.size()=512\n",
      "\n",
      "elapsed_time=0.848272  cum_base_sec/elapsed_time=4.08729e+09  modified=4.063e+09\n",
      "remaining_time=2.56943\n",
      "turn=599\n",
      "time / width = 7.85872e-06\n",
      "beam_width=372\n",
      "q.size()=512\n",
      "\n",
      "elapsed_time=1.0347  cum_base_sec/elapsed_time=3.96931e+09  modified=3.95124e+09\n",
      "remaining_time=2.383\n",
      "turn=649\n",
      "time / width = 1.54256e-05\n",
      "beam_width=377\n",
      "q.size()=512\n",
      "\n",
      "elapsed_time=1.23911  cum_base_sec/elapsed_time=3.93212e+09  modified=3.91749e+09\n",
      "remaining_time=2.17859\n",
      "turn=699\n",
      "time / width = 1.61819e-05\n",
      "beam_width=390\n",
      "q.size()=512\n",
      "\n",
      "elapsed_time=1.49778  cum_base_sec/elapsed_time=3.84597e+09  modified=3.83481e+09\n",
      "remaining_time=1.91993\n",
      "turn=749\n",
      "time / width = 1.34568e-05\n",
      "beam_width=395\n",
      "q.size()=512\n",
      "\n",
      "elapsed_time=1.82349  cum_base_sec/elapsed_time=3.75191e+09  modified=3.7436e+09\n",
      "remaining_time=1.59421\n",
      "turn=799\n",
      "time / width = 2.39189e-05\n",
      "beam_width=394\n",
      "q.size()=512\n",
      "\n",
      "elapsed_time=2.28006  cum_base_sec/elapsed_time=3.53307e+09  modified=3.52804e+09\n",
      "remaining_time=1.13764\n",
      "turn=849\n",
      "time / width = 2.84363e-05\n",
      "beam_width=354\n",
      "q.size()=512\n",
      "\n",
      "elapsed_time=2.74276  cum_base_sec/elapsed_time=3.37509e+09  modified=3.37189e+09\n",
      "remaining_time=0.674945\n",
      "turn=899\n",
      "time / width = 3.3417e-05\n",
      "beam_width=309\n",
      "q.size()=512\n",
      "\n",
      "elapsed_time=3.12833  cum_base_sec/elapsed_time=3.28672e+09  modified=3.28438e+09\n",
      "remaining_time=0.289371\n",
      "turn=949\n",
      "time / width = 4.06764e-05\n",
      "beam_width=270\n",
      "q.size()=512\n",
      "\n",
      "0038 time:3.7802 score:5218694\n",
      "0043 time:3.8051 score:5334904\n",
      "0028 time:3.7783 score:5133708\n",
      "elapsed_time=3.58054  cum_base_sec/elapsed_time=3.20457e+09  modified=3.20292e+09\n",
      "remaining_time=-0.16284\n",
      "turn=999\n",
      "time / width = 4.415e-05\n",
      "beam_width=24\n",
      "q.size()=512\n",
      "\n",
      "5.49227e+06\n",
      "0103 time:3.7851 score:5082215\n",
      "0128 time:3.4550 score:5428870\n",
      "0063 time:3.8002 score:5311616\n",
      "00680088  time:3.78770083time:3.8111   score:5001321score:5250561time:3.7801\n",
      "\n",
      " score:4882619\n",
      "0033 time:3.7726 score:5871404\n",
      "0113 time:3.8033 score:5460355\n",
      "0048 time:3.7787 score:5425507\n",
      "0133 time:3.7934 score:5223532\n",
      "0073 time:3.7847 score:5392907\n",
      "0023 time:3.7718 01380078 score:46464730098time:3.7878\n",
      " time:3.7861 score:4872547 \n",
      "0018time:3.7219   score:4820124\n",
      "score:4981443\n",
      "time:3.7044 score:5433624\n",
      "0143 time:3.7829 score:5538742\n",
      "0108 time:3.79380013  score:5830004time:3.6909\n",
      " score:51387600123 0008 time:3.7979 time:3.7864score:5492269 \n",
      "score:4351762\n",
      "0058\n",
      " time:3.7873 0093score:5776079 \n",
      "time:3.7861 score:5107945\n",
      "0003 time:3.7645 score:49365760148\n",
      "0118 time:3.7938 score:4888891\n",
      " time:3.7844 score:4678169\n",
      "0053 time:3.7726 score:4626142\n",
      "0039 time:3.7847 score:5272832\n",
      "0044 time:3.7949 score:4736991\n",
      "0029 time:3.7841 score:5471583\n",
      "0089 time:3.7858 score:5515784\n",
      "0104 time:3.7917 0129score:4789680\n",
      " time:3.7945 score:5512907\n",
      "0069 time:3.7918 score:5195718\n",
      "0114 time:3.7760 score:5039447\n",
      "0064 time:3.8058 score:5221236\n",
      "0074 time:3.72090084 score:5320659 time:3.7858\n",
      " score:6051545\n",
      "0034 time:3.7823 score:4581071\n",
      "0049 time:3.7922 score:5620304\n",
      "0099 time:3.7999 score:51518610134\n",
      " time:3.7806 score:5066852\n",
      "0139 time:3.7731 score:5005844\n",
      "0019 time:3.7832 00240109score:5462748 \n",
      "0079time:3.8008 score:5061611\n",
      " time:3.7661  score:5136155time:3.7834 \n",
      "score:5190580\n",
      "0124 time:3.7695 score:4424754\n",
      "0094 time:3.7600 score:5047137\n",
      "00140009  time:3.7878time:3.7871 score:4755962\n",
      "0144 score:5131857\n",
      " 0054time:3.8010 score:49789360149\n",
      " 0059 time:3.7899 score:5579199\n",
      "00040119   time:3.7748time:3.7746time:3.7801 time:3.7876score:5390321  \n",
      "score:5351712score:4790826\n",
      " \n",
      "score:4978736\n",
      "0150 time:3.6404 score:5610919\n",
      "0155 time:3.7933 score:5178102\n"
     ]
    },
    {
     "name": "stdout",
     "output_type": "stream",
     "text": [
      "0175 time:3.7251 score:4961227\n",
      "0165 time:3.7913 score:5134163\n",
      "0160 time:3.7966 score:4968934\n",
      "0170 time:3.7792 score:5032662\n",
      "0180 time:3.7872 score:4965205\n",
      "0185 time:3.7896 score:4995622\n",
      "0200 time:3.7944 score:5148001\n",
      "0190 time:3.7966 score:5011020\n",
      "0195 time:3.7983 score:5130115\n",
      "0205 time:3.7875 score:5098033\n",
      "0220 0225time:3.7266 time:3.7929  score:5207991score:5447257\n",
      "0210 time:3.7824 score:5077373\n",
      "\n",
      "0215 time:3.7867 score:4584109\n",
      "0290 time:3.6732 score:5047163\n",
      "02300295  time:3.7909 time:3.66580240score:5962381 \n",
      "time:3.7685 score:4985807\n",
      " 0235 score:5215895time:3.7904\n",
      " score:5312613\n",
      "0245 time:3.7955 score:5381835\n",
      "0255 time:3.7533 score:4843668\n",
      "02500260  time:3.7759time:3.7813 score:4359547\n",
      " score:4992070\n",
      "0280 time:3.7702 score:4783229\n",
      "028502750265  time:3.7944 time:3.7773  0270score:5280012score:4973119 \n",
      "time:3.7912\n",
      " score:5721841\n",
      "time:3.7758 score:5487607\n",
      "0176 time:3.1589 score:4884626\n",
      "0151 time:3.7939 score:5216603\n",
      "0156 time:3.7776 score:4780059\n",
      "0161 time:3.7749 score:5107595\n",
      "0166 time:3.7755 score:4575090\n",
      "0181 time:3.7857 score:4997951\n",
      "0206 time:3.7810 score:4463996\n",
      "0171 time:3.7851 score:5084191\n",
      "0201 0186time:3.7785  time:3.7853score:5489649 \n",
      "score:5638190\n",
      "0191 time:3.7738 score:5079714\n",
      "0211 time:3.7864 0196score:5172006\n",
      " time:3.8023 score:5157933\n",
      "0221 time:3.77250226 score:5594939 \n",
      "time:3.7843 score:5194662\n",
      "0291 time:3.7902 score:4790118\n",
      "0231 time:3.7698 score:5645349\n",
      "0216 time:3.7833 score:5164615\n",
      "0296 time:3.76320256 score:4931477 \n",
      "time:3.76620246  time:3.76530241  score:4816747score:4798323time:3.7742\n",
      " score:4836907\n",
      "\n",
      "0236 time:3.7891 score:5113476\n",
      "0251 time:3.7642 score:5759854\n",
      "0281 time:3.7844 score:5280300\n",
      "02660271  time:3.7647time:3.7748 score:5090581 \n",
      " 0286score:5141853\n",
      "time:3.7925 score:4965410\n",
      "0261 time:3.8104 score:5554460\n",
      "0276 time:3.7827 score:5094652\n",
      "0177 time:3.8076 score:5286324\n",
      "0152 time:3.8174 score:5163247\n",
      "0212 time:3.3658 score:4628773\n",
      "0157 time:3.7734 score:4537984\n",
      "0162 time:3.7795 score:4850475\n",
      "0207 time:3.7807 score:5138569\n",
      "0167 time:3.7868 score:4928569\n",
      "0197 time:3.7753 score:5229981\n",
      "0182 0172time:3.7917  time:3.7749score:5516880\n",
      " score:52363450192\n",
      " time:3.7949 score:4581394\n",
      "0202 time:3.7829 score:5420995\n",
      "0187 time:3.7819 score:4807685\n",
      "0222 time:3.7898 score:5038374\n",
      "0257 time:3.7704 score:4408333\n",
      "0227 time:3.7992 score:5069897\n",
      "0237 time:3.7743 score:5242925\n",
      "0232 time:3.7934 score:4559337\n",
      "0292 time:3.8009 score:5152651\n",
      "0217 time:3.7954 score:4840156\n",
      "0297 0242time:3.7907  time:3.7736score:4896655 score:5087169\n",
      "\n",
      "0247 time:3.7846 score:5422092\n",
      "0272 time:3.7896 0282score:4945501 \n",
      "0252time:3.7272  time:3.7737score:4385898\n",
      " score:4704915\n",
      "0287 time:3.7720 score:5143400\n",
      "0267 0262time:3.7841 score:4703869\n",
      " time:3.7829 score:4908181\n",
      "0277 time:3.8025 score:5329090\n",
      "0178 time:3.7784 score:5138830\n",
      "0213 time:3.7214 score:5365851\n",
      "0153 time:3.8174 score:5143455\n",
      "0158 time:3.7766 score:5501699\n",
      "0163 time:3.7828 score:5217189\n",
      "0208 time:3.7932 score:4991933\n",
      "0198 time:3.7598 score:4872952\n",
      "0183 time:3.7853 score:4613254\n",
      "0168 time:3.7706 score:5120789\n",
      "0193 time:3.7711 score:4838834\n",
      "0203 0173time:3.7970  score:5103720\n",
      "0188 time:3.7939 score:5392928\n",
      "time:3.8212 score:5929211\n",
      "0223 time:3.7741 score:4779073\n",
      "0228 time:3.7861 score:5337082\n",
      "0238 time:3.8004 score:4855748\n",
      "0258 time:3.7895 score:5003422\n",
      "0218 time:3.8003 score:5307573\n",
      "0293 time:3.7943 score:5294230\n",
      "0243 time:3.7807 score:5423275\n",
      "0233 time:3.7739 score:5162182\n",
      "0248 time:3.7983 score:60493570298\n",
      " time:3.7929 score:4939518\n",
      "0273 time:3.7851 score:5239261\n",
      "02530288  time:3.7902time:3.7885  score:6015867score:4817585\n",
      "\n",
      "0283 time:3.7745 score:5438577\n",
      "0268 time:3.7451 score:5338154\n",
      "0263 time:3.7889 score:5497699\n",
      "0278 time:3.7794 score:6171981\n",
      "0179 time:3.7912 score:5211374\n",
      "0214 time:3.8050 score:5400774\n",
      "0154 time:3.7902 score:5768960\n",
      "0159 time:3.7671 score:5304707\n",
      "0194 time:3.7439 score:5347678\n",
      "0164 time:3.7968 score:5185005\n",
      "0199 time:3.7672 score:5347660\n",
      "0174 time:3.7882 score:4711326\n",
      "0209 time:3.7984 score:5266373\n",
      "0189 time:3.7417 score:4923194\n",
      "0184 time:3.7895 score:5002444\n",
      "0169 time:3.79900229 score:4973781 0204\n",
      " time:3.7884 time:3.7898 score:4738122score:5264327\n",
      "\n",
      "0249 time:3.5886 score:5414773\n",
      "0224 time:3.7852 score:5609616\n",
      "0239 time:3.8037 score:4828603\n",
      "0259 time:3.7709 score:5627248\n",
      "0294 time:3.7797 score:5337327\n",
      "0219 time:3.7838 score:5989979\n",
      "0244 time:3.7819 score:5636156\n",
      "0234 time:3.7991 score:5773588\n",
      "0299 time:3.7935 score:5191789\n",
      "0289 time:3.77480274 score:4907942 \n",
      "time:3.7786 score:5348333\n",
      "0254 time:3.7793 score:5304570\n",
      "0284 time:3.7854 0269 time:3.7717 score:4752638\n",
      "score:4819362\n",
      "0264 time:3.7908 score:5430924\n",
      "0279 time:3.7802 score:5200608\n",
      "0300 time:3.7964 score:4850937\n",
      "0370 time:3.1136 score:4888997\n",
      "0305 time:3.8187 score:5303702\n",
      "0315 time:3.7938 score:5023573\n",
      "0310 time:3.7956 score:5947873\n",
      "0320 time:3.7750 score:5291748\n",
      "0330 time:3.8015 score:5138044\n",
      "0375 time:3.6589 score:5269662\n",
      "0325 time:3.7962 score:4571620\n",
      "03450335 time:3.7882 time:3.7901  score:5359702score:5409191\n",
      "\n",
      "0340 0350time:3.7838  score:4854000time:3.7960\n",
      " 0360score:6175280 \n",
      "time:3.7865 score:5683118\n",
      "0365 time:3.7781 score:5767356\n",
      "03850355  time:3.7966time:3.7764  score:5376703score:4529172\n",
      "\n",
      "0380 time:3.7892 score:4700162\n",
      "0405 time:3.7368 score:5638970\n",
      "0395 time:3.7887 score:5328592\n",
      "0390 time:3.7895 score:5658395\n",
      "0400 time:3.7990 score:5235782\n",
      "0420 time:3.7897 score:5129416\n",
      "0410 time:3.7857 score:4807277\n",
      "0415 time:3.7937 score:4750060\n",
      "0425 time:3.7828 score:4948563\n",
      "0435 time:3.6933 score:4947617\n",
      "0430 time:3.7749 score:5530732\n",
      "0440 time:3.7765 score:5206198\n",
      "0445 time:3.7808 score:4912716\n",
      "0301 time:3.4787 score:5835386\n",
      "0371 time:3.7970 score:4753822\n",
      "0306 time:3.7849 score:5426033\n",
      "0316 time:3.7669 score:4872052\n",
      "0311 time:3.7755 score:5541416\n",
      "0321 time:3.7781 score:5861876\n",
      "0331 time:3.7859 score:4459791\n",
      "0376 time:3.7772 score:4695745\n",
      "0326 time:3.7998 score:5230796\n",
      "0336 time:3.8004 score:4859679\n",
      "0346 time:3.7768 score:5133093\n",
      "0341 time:3.7399 score:5504731\n",
      "0351 time:3.74670361  score:5146443time:3.7775\n",
      " score:5100721\n",
      "0356 time:3.7812 score:5062919\n",
      "0366 time:3.7804 score:5073538\n",
      "0386 time:3.7792 score:5217158\n",
      "0381 time:3.8029 score:5419959\n",
      "0406 time:3.7804 score:5602100\n",
      "0396 time:3.7783 score:4945473\n",
      "0401 time:3.7651 score:4508609\n",
      "0426 0391time:3.7668  0421time:3.7929score:5384983\n",
      "  score:4952624time:3.7897\n",
      " score:5430710\n",
      "0411 time:3.7960 score:5060772\n",
      "0416 time:3.7669 score:5206082\n",
      "0436 time:3.7896 score:5889395\n",
      "0431 time:3.7878 score:5113356\n",
      "0441 time:3.7786 score:5250036\n",
      "0446 time:3.8192 score:5380663\n",
      "0302 time:3.7974 score:4493941\n",
      "0372time:3.7799  score:4866795\n",
      "0317 time:3.8144 score:5860845\n",
      "0307 time:3.7900 score:5416463\n",
      "0312 time:3.8012 score:5649215\n",
      "0322 time:3.7874 score:5257388\n",
      "0332 time:3.7976 score:5362804\n",
      "0337 time:3.7758 score:5282154\n",
      "0377 time:3.7772 score:5381126\n",
      "0327 time:3.7829 score:5178752\n",
      "0342 time:3.7637 score:5459495\n",
      "0392 time:3.5023 score:48713200357\n",
      " time:3.77160347  score:5396529time:3.79950362\n",
      "\n",
      "   time:3.7837score:5144015score:5409422\n",
      "0352 time:3.7694 score:5140104\n",
      "0387 time:3.8022 score:5061878\n",
      "0367 0407time:3.8051  time:3.7985score:5965142 \n",
      "score:5471894\n",
      "0382 time:3.7672 score:5628959\n",
      "0397 time:3.7873 score:4739890\n",
      "0422 time:3.7612 score:4300511\n",
      "0402 time:3.7960 score:5300894\n",
      "0427 time:3.8060 score:5265818\n",
      "0412 time:3.7843 score:5251830\n",
      "0417 0437time:3.7946 score:6074439\n",
      " time:3.7714 score:5111600\n",
      "0442 time:3.7919 score:5121831\n",
      "0432 time:3.7819 score:5124245\n",
      "0447 time:3.7935 score:5412936\n",
      "0303 time:3.7903 score:5076193\n",
      "0318 time:3.78520373  score:4988775\n",
      "time:3.7844 score:4683210\n",
      "0353 time:3.1911 score:5223252\n",
      "0308 time:3.7876 score:4919713\n",
      "0323 time:3.7769 score:5073664\n",
      "0313 time:3.7941 score:4913523\n",
      "0333 time:3.7886 score:4783222\n",
      "0338 time:3.7710 score:4667434\n",
      "0378 time:3.7746 score:4969827\n",
      "0328 time:3.7696 score:5236240\n",
      "0343 time:3.7852 score:5394272\n",
      "0393 time:3.7967 score:5133556\n",
      "0363 time:3.7331 score:5070963\n",
      "0348 0358time:3.7813  time:3.7751 score:4965302\n",
      "score:5172433\n",
      "0368 time:3.8009 score:5018744\n",
      "04080388 time:3.8116  time:3.8157score:5899616\n",
      " score:5229237\n",
      "0383 time:3.8010 score:4981903\n",
      "0428 time:3.6506 score:5334543\n",
      "0398 time:3.7730 score:5271361\n",
      "0423 time:3.7780 score:4566610\n",
      "0403 time:3.7871 score:4822033\n",
      "0413 time:3.8031 score:5728266\n",
      "0438 time:3.7641 0418score:4543996\n"
     ]
    },
    {
     "name": "stdout",
     "output_type": "stream",
     "text": [
      " time:3.7835 score:4803393\n",
      "0443 time:3.7695 score:5208964\n",
      "0433 time:3.7819 score:4924022\n",
      "0448 time:3.7747 score:4733474\n",
      "0304 time:3.7829 score:4767663\n",
      "0319 time:3.8034 score:5191266\n",
      "0374 time:3.7997 score:5091063\n",
      "0354 time:3.7977 score:5332045\n",
      "0324 time:3.7856 0309score:4376834 time:3.7960 score:5036881\n",
      "\n",
      "0339 time:3.5864 score:4854916\n",
      "0314 time:3.7707 score:5241047\n",
      "0334 time:3.7483 score:4871488\n",
      "0379 time:3.8060 score:4993304\n",
      "0349 time:3.68700364  score:5301011\n",
      "time:3.8041 score:4944577\n",
      "0329 time:3.8039 score:4635090\n",
      "0394 time:3.7776 score:5117521\n",
      "0344 time:3.7774 score:4978553\n",
      "0409 time:3.7926 score:5276331\n",
      "0359 time:3.7841 score:4797310\n",
      "0424 time:3.7786 score:4938506\n",
      "0369 time:3.7820 score:4404912\n",
      "0389 time:3.8006 score:5674560\n",
      "0384 time:3.7974 score:5492044\n",
      "0404 time:3.8087 score:5673570\n",
      "0399 time:3.7916 score:5267500\n",
      "0429 time:3.7830 score:5659825\n",
      "0414 time:3.7698 score:5167577\n",
      "0419 time:3.7658 score:5590443\n",
      "0439 time:3.7776 score:4839486\n",
      "0444 time:3.7627 score:5722345\n",
      "0434 time:3.7457 score:5402853\n",
      "0449 time:3.7761 score:5328054\n",
      "0450 time:3.6969 score:5470262\n",
      "0455 time:3.5314 score:5627804\n",
      "0480 time:3.3704 score:4925940\n",
      "0475 time:3.4870 score:6084871\n",
      "0470 time:3.4798 score:5202949\n",
      "0460 time:3.6512 score:5091495\n",
      "0465 time:3.7487 score:5314348\n",
      "0490 time:3.41270485  score:5737433time:3.5831\n",
      " score:5453176\n",
      "0495 time:3.4529 score:4940380\n",
      "0451 time:3.4165 score:4674448\n",
      "0481 time:3.2264 score:5232814\n",
      "0486 0471 time:3.1289time:3.3442  score:4970932score:5115573\n",
      "\n",
      "0456 time:3.5073 score:5859635\n",
      "0476 time:3.4702 score:4877320\n",
      "0491 time:3.2561 score:5685945\n",
      "0466 time:3.4242 score:5401467\n",
      "0461 time:3.5885 score:5304706\n",
      "0496 time:3.4892 score:4997145\n",
      "0452 time:3.1380 score:5231652\n",
      "0482 time:3.1807 score:5216932\n",
      "0477 time:3.0843 score:4880117\n",
      "0492 time:3.1392 score:5149989\n",
      "0487 time:3.4092 score:5821964\n",
      "0457 time:3.4345 score:5408364\n",
      "0472 time:3.5855 score:5538652\n",
      "0467 time:3.4946 score:4964716\n",
      "0497 time:3.4355 score:5466078\n",
      "0462 time:3.7191 score:5441425\n",
      "0453 time:3.2453 score:5211169\n",
      "0483 time:3.1533 score:5348135\n",
      "0478 time:3.3193 score:5402665\n",
      "0493 time:3.3183 score:4971163\n",
      "0458 time:3.1193 score:5113329\n",
      "0488 time:3.3495 score:4906968\n",
      "0468 time:3.1600 score:5514714\n",
      "0498 time:3.2672 score:5470229\n",
      "0473 time:3.7244 score:6110321\n",
      "0463 time:3.3286 score:4923515\n",
      "0484 time:3.1159 score:5421510\n",
      "0454 time:3.3294 score:5448391\n",
      "0494 time:3.1046 score:4974032\n",
      "0479 time:3.3238 score:5389083\n",
      "0459 time:3.3613 score:5396262\n",
      "0489 time:3.3920 score:4747887\n",
      "0469 time:3.2849 score:5217519\n",
      "0499 time:3.1358 score:4657598\n",
      "0474 time:3.2902 score:5123321\n",
      "0464 time:3.3641 score:4791644\n"
     ]
    },
    {
     "data": {
      "text/plain": [
       "(258.00363539999995, 17.708076108622212)"
      ]
     },
     "execution_count": 10,
     "metadata": {},
     "output_type": "execute_result"
    }
   ],
   "source": [
    "# もとのスコアの確認\n",
    "\n",
    "scores = []\n",
    "times = []\n",
    "\n",
    "!mkdir out\n",
    "\n",
    "def parallel(i):\n",
    "    testcase = TESTCASES[i]\n",
    "    i = f\"{i:04d}\"\n",
    "    t0 = time()\n",
    "    if i == \"0123\":\n",
    "        !./{FILENAME}.out < {TESTCASE_DIRECTORY}{testcase} > ./out/{testcase}\n",
    "    else:\n",
    "        !./{FILENAME}.out < {TESTCASE_DIRECTORY}{testcase} > ./out/{testcase} 2> /dev/null\n",
    "    t = time() - t0\n",
    "    score = !python3 ../A/tester/judge.py {TESTCASE_DIRECTORY}{testcase} ./out/{testcase}\n",
    "    print(i, f\"time:{t:.4f}\", *score)\n",
    "    score = int(score[0].split(\":\")[-1])\n",
    "    return score, t\n",
    "\n",
    "# for i in range(200):\n",
    "#     score, t = parallel(i)\n",
    "#     scores.append(score)\n",
    "#     times.append(t)\n",
    "\n",
    "with Pool(30) as p:\n",
    "    for score, t in p.map(parallel, range(N_TESTCASES)):\n",
    "        scores.append(score)\n",
    "        times.append(t)\n",
    "\n",
    "np.mean(scores) * 50 / 1e6, np.std(scores) * 50 / 1e6"
   ]
  },
  {
   "cell_type": "code",
   "execution_count": 11,
   "id": "c073d4da",
   "metadata": {},
   "outputs": [
    {
     "data": {
      "image/png": "[encoded data removed]",
      "text/plain": [
       "<Figure size 432x288 with 1 Axes>"
      ]
     },
     "metadata": {
      "needs_background": "light"
     },
     "output_type": "display_data"
    }
   ],
   "source": [
    "plt.hist(scores, bins=20)\n",
    "plt.show()"
   ]
  },
  {
   "cell_type": "code",
   "execution_count": 12,
   "id": "8c1bfedc",
   "metadata": {},
   "outputs": [
    {
     "name": "stdout",
     "output_type": "stream",
     "text": [
      "9 variables were found.\n"
     ]
    },
    {
     "data": {
      "text/html": [
       "<div>\n",
       "<style scoped>\n",
       "    .dataframe tbody tr th:only-of-type {\n",
       "        vertical-align: middle;\n",
       "    }\n",
       "\n",
       "    .dataframe tbody tr th {\n",
       "        vertical-align: top;\n",
       "    }\n",
       "\n",
       "    .dataframe thead th {\n",
       "        text-align: right;\n",
       "    }\n",
       "</style>\n",
       "<table border=\"1\" class=\"dataframe\">\n",
       "  <thead>\n",
       "    <tr style=\"text-align: right;\">\n",
       "      <th></th>\n",
       "      <th>name</th>\n",
       "      <th>method</th>\n",
       "      <th>min</th>\n",
       "      <th>max</th>\n",
       "      <th>log</th>\n",
       "      <th>left</th>\n",
       "      <th>right</th>\n",
       "      <th>choices</th>\n",
       "    </tr>\n",
       "  </thead>\n",
       "  <tbody>\n",
       "    <tr>\n",
       "      <th>0</th>\n",
       "      <td>hash_table_size</td>\n",
       "      <td>suggest_int</td>\n",
       "      <td>6.000</td>\n",
       "      <td>18.000</td>\n",
       "      <td>False</td>\n",
       "      <td>constexpr int hash_table_size =</td>\n",
       "      <td>;         // OPTIMIZE [6, 18]</td>\n",
       "      <td>NaN</td>\n",
       "    </tr>\n",
       "    <tr>\n",
       "      <th>1</th>\n",
       "      <td>K_START</td>\n",
       "      <td>suggest_float</td>\n",
       "      <td>0.040</td>\n",
       "      <td>0.200</td>\n",
       "      <td>True</td>\n",
       "      <td>constexpr double K_START =</td>\n",
       "      <td>;  // OPTIMIZE [0.04, 0.2] LOG</td>\n",
       "      <td>NaN</td>\n",
       "    </tr>\n",
       "    <tr>\n",
       "      <th>2</th>\n",
       "      <td>K_END</td>\n",
       "      <td>suggest_float</td>\n",
       "      <td>0.030</td>\n",
       "      <td>0.100</td>\n",
       "      <td>True</td>\n",
       "      <td>constexpr double K_END =</td>\n",
       "      <td>;   // OPTIMIZE [0.03, 0.1] LOG</td>\n",
       "      <td>NaN</td>\n",
       "    </tr>\n",
       "    <tr>\n",
       "      <th>3</th>\n",
       "      <td>K_H</td>\n",
       "      <td>suggest_float</td>\n",
       "      <td>0.001</td>\n",
       "      <td>0.999</td>\n",
       "      <td>False</td>\n",
       "      <td>constexpr double K_H =</td>\n",
       "      <td>;      // OPTIMIZE [0.001, 0.999]</td>\n",
       "      <td>NaN</td>\n",
       "    </tr>\n",
       "    <tr>\n",
       "      <th>4</th>\n",
       "      <td>PURCHASE_TURN_LIMIT</td>\n",
       "      <td>suggest_int</td>\n",
       "      <td>790.000</td>\n",
       "      <td>870.000</td>\n",
       "      <td>False</td>\n",
       "      <td>constexpr short PURCHASE_TURN_LIMIT =</td>\n",
       "      <td>;  // OPTIMIZE [790, 870]</td>\n",
       "      <td>NaN</td>\n",
       "    </tr>\n",
       "    <tr>\n",
       "      <th>5</th>\n",
       "      <td>ROUGH_HASH</td>\n",
       "      <td>suggest_categorical</td>\n",
       "      <td>NaN</td>\n",
       "      <td>NaN</td>\n",
       "      <td>NaN</td>\n",
       "      <td>constexpr int ROUGH_HASH =</td>\n",
       "      <td>;      // OPTIMIZE {0, 0b00000001, 0b00010001,...</td>\n",
       "      <td>[0, 0b00000001, 0b00010001, 0b00010011, 0b0011...</td>\n",
       "    </tr>\n",
       "    <tr>\n",
       "      <th>6</th>\n",
       "      <td>TARGET_BEAM_WIDTH_INCREASE_RATE</td>\n",
       "      <td>suggest_float</td>\n",
       "      <td>0.250</td>\n",
       "      <td>4.000</td>\n",
       "      <td>True</td>\n",
       "      <td>constexpr double TARGET_BEAM_WIDTH_INCREASE_RA...</td>\n",
       "      <td>;      // OPTIMIZE [0.25, 4.0] LOG</td>\n",
       "      <td>NaN</td>\n",
       "    </tr>\n",
       "    <tr>\n",
       "      <th>7</th>\n",
       "      <td>TARGET_BEAM_WIDTH_HALF_PROGRES_RATE</td>\n",
       "      <td>suggest_float</td>\n",
       "      <td>0.020</td>\n",
       "      <td>0.980</td>\n",
       "      <td>False</td>\n",
       "      <td>constexpr double TARGET_BEAM_WIDTH_HALF_PROGRE...</td>\n",
       "      <td>;  // OPTIMIZE [0.02, 0.98]</td>\n",
       "      <td>NaN</td>\n",
       "    </tr>\n",
       "    <tr>\n",
       "      <th>8</th>\n",
       "      <td>MAX_BEAM_WIDTH</td>\n",
       "      <td>suggest_int</td>\n",
       "      <td>400.000</td>\n",
       "      <td>4000.000</td>\n",
       "      <td>True</td>\n",
       "      <td>constexpr auto MAX_BEAM_WIDTH =</td>\n",
       "      <td>;                        // OPTIMIZE [400, 400...</td>\n",
       "      <td>NaN</td>\n",
       "    </tr>\n",
       "  </tbody>\n",
       "</table>\n",
       "</div>"
      ],
      "text/plain": [
       "                                  name               method      min  \\\n",
       "0                      hash_table_size          suggest_int    6.000   \n",
       "1                              K_START        suggest_float    0.040   \n",
       "2                                K_END        suggest_float    0.030   \n",
       "3                                  K_H        suggest_float    0.001   \n",
       "4                  PURCHASE_TURN_LIMIT          suggest_int  790.000   \n",
       "5                           ROUGH_HASH  suggest_categorical      NaN   \n",
       "6      TARGET_BEAM_WIDTH_INCREASE_RATE        suggest_float    0.250   \n",
       "7  TARGET_BEAM_WIDTH_HALF_PROGRES_RATE        suggest_float    0.020   \n",
       "8                       MAX_BEAM_WIDTH          suggest_int  400.000   \n",
       "\n",
       "        max    log                                               left  \\\n",
       "0    18.000  False                   constexpr int hash_table_size =    \n",
       "1     0.200   True                        constexpr double K_START =    \n",
       "2     0.100   True                          constexpr double K_END =    \n",
       "3     0.999  False                            constexpr double K_H =    \n",
       "4   870.000  False             constexpr short PURCHASE_TURN_LIMIT =    \n",
       "5       NaN    NaN                        constexpr int ROUGH_HASH =    \n",
       "6     4.000   True  constexpr double TARGET_BEAM_WIDTH_INCREASE_RA...   \n",
       "7     0.980  False  constexpr double TARGET_BEAM_WIDTH_HALF_PROGRE...   \n",
       "8  4000.000   True                   constexpr auto MAX_BEAM_WIDTH =    \n",
       "\n",
       "                                               right  \\\n",
       "0                      ;         // OPTIMIZE [6, 18]   \n",
       "1                     ;  // OPTIMIZE [0.04, 0.2] LOG   \n",
       "2                    ;   // OPTIMIZE [0.03, 0.1] LOG   \n",
       "3                  ;      // OPTIMIZE [0.001, 0.999]   \n",
       "4                          ;  // OPTIMIZE [790, 870]   \n",
       "5  ;      // OPTIMIZE {0, 0b00000001, 0b00010001,...   \n",
       "6                 ;      // OPTIMIZE [0.25, 4.0] LOG   \n",
       "7                        ;  // OPTIMIZE [0.02, 0.98]   \n",
       "8  ;                        // OPTIMIZE [400, 400...   \n",
       "\n",
       "                                             choices  \n",
       "0                                                NaN  \n",
       "1                                                NaN  \n",
       "2                                                NaN  \n",
       "3                                                NaN  \n",
       "4                                                NaN  \n",
       "5  [0, 0b00000001, 0b00010001, 0b00010011, 0b0011...  \n",
       "6                                                NaN  \n",
       "7                                                NaN  \n",
       "8                                                NaN  "
      ]
     },
     "metadata": {},
     "output_type": "display_data"
    }
   ],
   "source": [
    "# ここでエラー出力は何かおかしいかもしれない\n",
    "\n",
    "\n",
    "# パラメータ抽出\n",
    "with open(FILENAME) as f:\n",
    "    answer = f.read()\n",
    "\n",
    "\n",
    "variables_optimize = []\n",
    "\n",
    "for left, value, right, options in re.findall(r\"^([^/\\n]*=\\s*)(.+?)(\\s*;\\s*//(?:.*\\W)?OPTIMIZE(\\W.*))$\", answer, re.MULTILINE):\n",
    "    name = left.replace(\"=\", \"\").strip().split()[-1]\n",
    "    \n",
    "    searched = re.search(r\".*\\[(?P<min>.*),(?P<max>.*)\\].*\", options)\n",
    "    if searched:\n",
    "        min_value = max_value = None\n",
    "        try:\n",
    "            min_value = eval(searched.group(\"min\"))\n",
    "            max_value = eval(searched.group(\"max\"))\n",
    "            assert min_value <= max_value\n",
    "        except Exception as e:\n",
    "            print(f\"searched={searched}\", file=sys.stderr)\n",
    "            print(e, file=sys.stderr)\n",
    "            continue\n",
    "        log = \"LOG\" in options  # 雑、直したほうが良い\n",
    "        if type(min_value) != type(max_value):\n",
    "            print(f\"searched={searched}\", file=sys.stderr)\n",
    "            print(\"types not matched\", file=sys.stderr)\n",
    "            continue\n",
    "        if isinstance(min_value, int):\n",
    "            method = \"suggest_int\"\n",
    "        elif isinstance(min_value, float):\n",
    "            method = \"suggest_float\"\n",
    "        else:\n",
    "            print(f\"searched={searched}\", file=sys.stderr)\n",
    "            print(f\"unknown type ({type(min_value)})\", file=sys.stderr)\n",
    "            continue\n",
    "        variables_optimize.append({\n",
    "            \"name\": name,\n",
    "            \"method\": method,\n",
    "            \"min\": min_value,\n",
    "            \"max\": max_value,\n",
    "            \"log\": log,\n",
    "            \"left\": left,\n",
    "            \"right\": right,\n",
    "        })\n",
    "    elif searched := re.search(r\".*\\{(?P<choices>.*?)\\}.*\", options):\n",
    "        choices = list(map(lambda x: x.strip(), searched.group(\"choices\").split(\",\")))\n",
    "        variables_optimize.append({\n",
    "            \"name\": name,\n",
    "            \"method\": \"suggest_categorical\",\n",
    "            \"choices\": choices,\n",
    "            \"left\": left,\n",
    "            \"right\": right,\n",
    "        })\n",
    "    else:\n",
    "        print(f\"searched={searched}\", file=sys.stderr)\n",
    "        print(f\"pattern was matched but options are incorrect.\", file=sys.stderr)\n",
    "\n",
    "print(len(variables_optimize), \"variables were found.\")\n",
    "if globals().get(\"pd\"):\n",
    "    display(pd.DataFrame(variables_optimize))\n",
    "else:\n",
    "    pprint(variables_optimize)"
   ]
  },
  {
   "cell_type": "code",
   "execution_count": 24,
   "id": "e721a5ac",
   "metadata": {},
   "outputs": [],
   "source": [
    "def escape(string):  # 正規表現の中でそのまま使いたい文字列をエスケープ\n",
    "    res = !echo '{string}' | sed -e 's/[]\\/$*.^[]/\\\\&/g'\n",
    "    return res[0]\n",
    "\n",
    "def escape_sed(string):  # sed の置換後の文字列用のエスケープ\n",
    "    res = !echo '{string}' | sed -e 's/[\\/&]/\\\\&/g'\n",
    "    return res[0]\n",
    "\n",
    "\n",
    "def objective_with_index(trial, n_internal_parallel):\n",
    "    index_parallel = trial.number % 12  # これ変数にする\n",
    "    print(f\"{index_parallel=}\")\n",
    "    \n",
    "    parameters_changed_filename = f\"{index_parallel}_{FILENAME}\"\n",
    "    #directory_input = \"./in\"  # \"/\" をつけない  # 中のすべてのファイルに対して実行される\n",
    "    \n",
    "    !mkdir {index_parallel}_out 2> /dev/null\n",
    "    !mkdir {index_parallel}_score 2> /dev/null\n",
    "    !rm {index_parallel}_out/*\n",
    "    !rm {index_parallel}_score/*\n",
    "    \n",
    "    # ファイル作成\n",
    "    !cp {FILENAME} {parameters_changed_filename}\n",
    "    sed_options = [f\"-i {parameters_changed_filename}\"]\n",
    "    for variable in variables_optimize:\n",
    "        if variable[\"method\"] == \"suggest_categorical\":\n",
    "            val =  trial.suggest_categorical(variable[\"name\"], variable[\"choices\"])\n",
    "        else:\n",
    "            val = getattr(trial, variable[\"method\"])(variable[\"name\"], variable[\"min\"], variable[\"max\"], log=variable[\"log\"])\n",
    "        left = variable[\"left\"]\n",
    "        right = variable[\"right\"]\n",
    "        sed_options.append(f\"\"\"-e 's/^{escape(left)}.*{escape(right)}$/{escape_sed(left)}{val}{escape_sed(right)}/'\"\"\")\n",
    "    command_sed = f\"sed {' '.join(sed_options)}\"\n",
    "    print(command_sed)\n",
    "    !{command_sed}\n",
    "    \n",
    "    # コンパイル\n",
    "    #command_compile = f\"g++ {parameters_changed_filename} -std=gnu++17 -O2 -DONLINE_JUDGE -o {parameters_changed_filename}.out 2> /dev/null\"\n",
    "    command_compile = f\"g++ {parameters_changed_filename} -std=gnu++17 -O2 -o {parameters_changed_filename}.out 2> /dev/null\"\n",
    "    print(command_compile)\n",
    "    !{command_compile}\n",
    "    \n",
    "    # 実行・採点コマンド (@ はファイル名)\n",
    "    command_exec = (\n",
    "        f\"./{parameters_changed_filename}.out < {TESTCASE_DIRECTORY}@ >./{index_parallel}_out/@ 2> /dev/null;\"\n",
    "        f\"python3 ../A/tester/judge.py {TESTCASE_DIRECTORY}@ ./{index_parallel}_out/@ > ./{index_parallel}_score/@\"\n",
    "        \n",
    "        #f\"cargo run --release --manifest-path ../tools/Cargo.toml --bin tester {directory_input}/@ $(pwd)/{parameters_changed_filename}.out 2>&1 | grep Score | sed -E s/[^0-9]+// > ./{index_parallel}_score/@;\"\n",
    "        \n",
    "        #f\"./{parameters_changed_filename}.out < {directory_input}/@ > ./{index_parallel}_out/@;\"\n",
    "        #f\"cargo run --release --manifest-path ./tools/Cargo.toml --bin vis {directory_input}/@ ./{index_parallel}_out/@ 2> /dev/null > ./{index_parallel}_score/@;\"\n",
    "    )\n",
    "    \n",
    "    # 並列実行 (sed はパスのディレクトリ部分を消してファイル名にしてる)\n",
    "    !find {TESTCASE_DIRECTORY}/* | sed 's!^.*/!!' | xargs -I@ -P {n_internal_parallel} sh -c '{command_exec}'\n",
    "    \n",
    "    # 集計\n",
    "    file_paths = !find ./{index_parallel}_score/*\n",
    "    sum_score = 0\n",
    "    for file_path in file_paths:  \n",
    "        with open(file_path) as f:\n",
    "            sum_score += int(f.read().split(\":\")[-1])\n",
    "    return sum_score"
   ]
  },
  {
   "cell_type": "code",
   "execution_count": 26,
   "id": "7fa60ff4",
   "metadata": {},
   "outputs": [
    {
     "name": "stderr",
     "output_type": "stream",
     "text": [
      "\u001b[32m[I 2021-09-11 13:36:51,378]\u001b[0m A new study created in RDB with name: study\u001b[0m\n"
     ]
    },
    {
     "name": "stdout",
     "output_type": "stream",
     "text": [
      "index_parallel=1\n",
      "index_parallel=3\n",
      "index_parallel=0\n",
      "index_parallel=2\n",
      "index_parallel=4\n"
     ]
    },
    {
     "name": "stderr",
     "output_type": "stream",
     "text": [
      "/home/nagis/anaconda3/lib/python3.8/site-packages/optuna/study/study.py:393: FutureWarning: `n_jobs` argument has been deprecated in v2.7.0. This feature will be removed in v4.0.0. See https://github.com/optuna/optuna/releases/tag/v2.7.0.\n",
      "  warnings.warn(\n"
     ]
    },
    {
     "name": "stdout",
     "output_type": "stream",
     "text": [
      "rm: cannot remove '1_out/*': No such file or directory\n",
      "rm: cannot remove '3_out/*': No such file or directory\n",
      "rm: cannot remove '2_out/*': No such file or directory\n",
      "rm: cannot remove '4_out/*': No such file or directory\n",
      "rm: cannot remove '0_out/*': No such file or directory\n",
      "rm: cannot remove '1_score/*': No such file or directory\n",
      "rm: cannot remove '3_score/*': No such file or directory\n",
      "rm: cannot remove '2_score/*': No such file or directory\n",
      "rm: cannot remove '0_score/*': No such file or directory\n",
      "rm: cannot remove '4_score/*': No such file or directory\n",
      "sed -i 3_main.cpp -e 's/^constexpr int hash_table_size = .*;         \\/\\/ OPTIMIZE \\[6, 18\\]$/constexpr int hash_table_size = 9;         \\/\\/ OPTIMIZE [6, 18]/' -e 's/^constexpr double K_START = .*;  \\/\\/ OPTIMIZE \\[0\\.04, 0\\.2\\] LOG$/constexpr double K_START = 0.13416582930357568;  \\/\\/ OPTIMIZE [0.04, 0.2] LOG/' -e 's/^constexpr double K_END = .*;   \\/\\/ OPTIMIZE \\[0\\.03, 0\\.1\\] LOG$/constexpr double K_END = 0.05016246977656931;   \\/\\/ OPTIMIZE [0.03, 0.1] LOG/' -e 's/^constexpr double K_H = .*;      \\/\\/ OPTIMIZE \\[0\\.001, 0\\.999\\]$/constexpr double K_H = 0.8175841869835615;      \\/\\/ OPTIMIZE [0.001, 0.999]/' -e 's/^constexpr short PURCHASE_TURN_LIMIT = .*;  \\/\\/ OPTIMIZE \\[790, 870\\]$/constexpr short PURCHASE_TURN_LIMIT = 791;  \\/\\/ OPTIMIZE [790, 870]/' -e 's/^constexpr int ROUGH_HASH = .*;      \\/\\/ OPTIMIZE {0, 0b00000001, 0b00010001, 0b00010011, 0b00110011}$/constexpr int ROUGH_HASH = 0;      \\/\\/ OPTIMIZE {0, 0b00000001, 0b00010001, 0b00010011, 0b00110011}/' -e 's/^constexpr double TARGET_BEAM_WIDTH_INCREASE_RATE = .*;      \\/\\/ OPTIMIZE \\[0\\.25, 4\\.0\\] LOG$/constexpr double TARGET_BEAM_WIDTH_INCREASE_RATE = 1.5808507780720698;      \\/\\/ OPTIMIZE [0.25, 4.0] LOG/' -e 's/^constexpr double TARGET_BEAM_WIDTH_HALF_PROGRES_RATE = .*;  \\/\\/ OPTIMIZE \\[0\\.02, 0\\.98\\]$/constexpr double TARGET_BEAM_WIDTH_HALF_PROGRES_RATE = 0.04658373782342132;  \\/\\/ OPTIMIZE [0.02, 0.98]/' -e 's/^constexpr auto MAX_BEAM_WIDTH = .*;                        \\/\\/ OPTIMIZE \\[400, 4000\\] LOG$/constexpr auto MAX_BEAM_WIDTH = 1748;                        \\/\\/ OPTIMIZE [400, 4000] LOG/'\n",
      "sed -i 1_main.cpp -e 's/^constexpr int hash_table_size = .*;         \\/\\/ OPTIMIZE \\[6, 18\\]$/constexpr int hash_table_size = 6;         \\/\\/ OPTIMIZE [6, 18]/' -e 's/^constexpr double K_START = .*;  \\/\\/ OPTIMIZE \\[0\\.04, 0\\.2\\] LOG$/constexpr double K_START = 0.10859058917903176;  \\/\\/ OPTIMIZE [0.04, 0.2] LOG/' -e 's/^constexpr double K_END = .*;   \\/\\/ OPTIMIZE \\[0\\.03, 0\\.1\\] LOG$/constexpr double K_END = 0.08445245865649212;   \\/\\/ OPTIMIZE [0.03, 0.1] LOG/' -e 's/^constexpr double K_H = .*;      \\/\\/ OPTIMIZE \\[0\\.001, 0\\.999\\]$/constexpr double K_H = 0.5948233900348715;      \\/\\/ OPTIMIZE [0.001, 0.999]/' -e 's/^constexpr short PURCHASE_TURN_LIMIT = .*;  \\/\\/ OPTIMIZE \\[790, 870\\]$/constexpr short PURCHASE_TURN_LIMIT = 831;  \\/\\/ OPTIMIZE [790, 870]/' -e 's/^constexpr int ROUGH_HASH = .*;      \\/\\/ OPTIMIZE {0, 0b00000001, 0b00010001, 0b00010011, 0b00110011}$/constexpr int ROUGH_HASH = 0;      \\/\\/ OPTIMIZE {0, 0b00000001, 0b00010001, 0b00010011, 0b00110011}/' -e 's/^constexpr double TARGET_BEAM_WIDTH_INCREASE_RATE = .*;      \\/\\/ OPTIMIZE \\[0\\.25, 4\\.0\\] LOG$/constexpr double TARGET_BEAM_WIDTH_INCREASE_RATE = 0.3669764222974813;      \\/\\/ OPTIMIZE [0.25, 4.0] LOG/' -e 's/^constexpr double TARGET_BEAM_WIDTH_HALF_PROGRES_RATE = .*;  \\/\\/ OPTIMIZE \\[0\\.02, 0\\.98\\]$/constexpr double TARGET_BEAM_WIDTH_HALF_PROGRES_RATE = 0.27605662023930205;  \\/\\/ OPTIMIZE [0.02, 0.98]/' -e 's/^constexpr auto MAX_BEAM_WIDTH = .*;                        \\/\\/ OPTIMIZE \\[400, 4000\\] LOG$/constexpr auto MAX_BEAM_WIDTH = 2161;                        \\/\\/ OPTIMIZE [400, 4000] LOG/'\n",
      "sed -i 4_main.cpp -e 's/^constexpr int hash_table_size = .*;         \\/\\/ OPTIMIZE \\[6, 18\\]$/constexpr int hash_table_size = 12;         \\/\\/ OPTIMIZE [6, 18]/' -e 's/^constexpr double K_START = .*;  \\/\\/ OPTIMIZE \\[0\\.04, 0\\.2\\] LOG$/constexpr double K_START = 0.14892135695645567;  \\/\\/ OPTIMIZE [0.04, 0.2] LOG/' -e 's/^constexpr double K_END = .*;   \\/\\/ OPTIMIZE \\[0\\.03, 0\\.1\\] LOG$/constexpr double K_END = 0.04692022688124217;   \\/\\/ OPTIMIZE [0.03, 0.1] LOG/' -e 's/^constexpr double K_H = .*;      \\/\\/ OPTIMIZE \\[0\\.001, 0\\.999\\]$/constexpr double K_H = 0.19085678945475512;      \\/\\/ OPTIMIZE [0.001, 0.999]/' -e 's/^constexpr short PURCHASE_TURN_LIMIT = .*;  \\/\\/ OPTIMIZE \\[790, 870\\]$/constexpr short PURCHASE_TURN_LIMIT = 837;  \\/\\/ OPTIMIZE [790, 870]/' -e 's/^constexpr int ROUGH_HASH = .*;      \\/\\/ OPTIMIZE {0, 0b00000001, 0b00010001, 0b00010011, 0b00110011}$/constexpr int ROUGH_HASH = 0;      \\/\\/ OPTIMIZE {0, 0b00000001, 0b00010001, 0b00010011, 0b00110011}/' -e 's/^constexpr double TARGET_BEAM_WIDTH_INCREASE_RATE = .*;      \\/\\/ OPTIMIZE \\[0\\.25, 4\\.0\\] LOG$/constexpr double TARGET_BEAM_WIDTH_INCREASE_RATE = 0.7413277301325024;      \\/\\/ OPTIMIZE [0.25, 4.0] LOG/' -e 's/^constexpr double TARGET_BEAM_WIDTH_HALF_PROGRES_RATE = .*;  \\/\\/ OPTIMIZE \\[0\\.02, 0\\.98\\]$/constexpr double TARGET_BEAM_WIDTH_HALF_PROGRES_RATE = 0.12317771464715342;  \\/\\/ OPTIMIZE [0.02, 0.98]/' -e 's/^constexpr auto MAX_BEAM_WIDTH = .*;                        \\/\\/ OPTIMIZE \\[400, 4000\\] LOG$/constexpr auto MAX_BEAM_WIDTH = 3029;                        \\/\\/ OPTIMIZE [400, 4000] LOG/'\n",
      "g++ 3_main.cpp -std=gnu++17 -O2 -o 3_main.cpp.out 2> /dev/null\n",
      "sed -i 2_main.cpp -e 's/^constexpr int hash_table_size = .*;         \\/\\/ OPTIMIZE \\[6, 18\\]$/constexpr int hash_table_size = 6;         \\/\\/ OPTIMIZE [6, 18]/' -e 's/^constexpr double K_START = .*;  \\/\\/ OPTIMIZE \\[0\\.04, 0\\.2\\] LOG$/constexpr double K_START = 0.12901151918594464;  \\/\\/ OPTIMIZE [0.04, 0.2] LOG/' -e 's/^constexpr double K_END = .*;   \\/\\/ OPTIMIZE \\[0\\.03, 0\\.1\\] LOG$/constexpr double K_END = 0.08538737777579115;   \\/\\/ OPTIMIZE [0.03, 0.1] LOG/' -e 's/^constexpr double K_H = .*;      \\/\\/ OPTIMIZE \\[0\\.001, 0\\.999\\]$/constexpr double K_H = 0.2070540081632988;      \\/\\/ OPTIMIZE [0.001, 0.999]/' -e 's/^constexpr short PURCHASE_TURN_LIMIT = .*;  \\/\\/ OPTIMIZE \\[790, 870\\]$/constexpr short PURCHASE_TURN_LIMIT = 806;  \\/\\/ OPTIMIZE [790, 870]/' -e 's/^constexpr int ROUGH_HASH = .*;      \\/\\/ OPTIMIZE {0, 0b00000001, 0b00010001, 0b00010011, 0b00110011}$/constexpr int ROUGH_HASH = 0b00010011;      \\/\\/ OPTIMIZE {0, 0b00000001, 0b00010001, 0b00010011, 0b00110011}/' -e 's/^constexpr double TARGET_BEAM_WIDTH_INCREASE_RATE = .*;      \\/\\/ OPTIMIZE \\[0\\.25, 4\\.0\\] LOG$/constexpr double TARGET_BEAM_WIDTH_INCREASE_RATE = 0.44851203576906745;      \\/\\/ OPTIMIZE [0.25, 4.0] LOG/' -e 's/^constexpr double TARGET_BEAM_WIDTH_HALF_PROGRES_RATE = .*;  \\/\\/ OPTIMIZE \\[0\\.02, 0\\.98\\]$/constexpr double TARGET_BEAM_WIDTH_HALF_PROGRES_RATE = 0.024460732471798217;  \\/\\/ OPTIMIZE [0.02, 0.98]/' -e 's/^constexpr auto MAX_BEAM_WIDTH = .*;                        \\/\\/ OPTIMIZE \\[400, 4000\\] LOG$/constexpr auto MAX_BEAM_WIDTH = 603;                        \\/\\/ OPTIMIZE [400, 4000] LOG/'\n",
      "g++ 1_main.cpp -std=gnu++17 -O2 -o 1_main.cpp.out 2> /dev/null\n",
      "sed -i 0_main.cpp -e 's/^constexpr int hash_table_size = .*;         \\/\\/ OPTIMIZE \\[6, 18\\]$/constexpr int hash_table_size = 18;         \\/\\/ OPTIMIZE [6, 18]/' -e 's/^constexpr double K_START = .*;  \\/\\/ OPTIMIZE \\[0\\.04, 0\\.2\\] LOG$/constexpr double K_START = 0.07740044121781983;  \\/\\/ OPTIMIZE [0.04, 0.2] LOG/' -e 's/^constexpr double K_END = .*;   \\/\\/ OPTIMIZE \\[0\\.03, 0\\.1\\] LOG$/constexpr double K_END = 0.04672877795909802;   \\/\\/ OPTIMIZE [0.03, 0.1] LOG/' -e 's/^constexpr double K_H = .*;      \\/\\/ OPTIMIZE \\[0\\.001, 0\\.999\\]$/constexpr double K_H = 0.3540308115651504;      \\/\\/ OPTIMIZE [0.001, 0.999]/' -e 's/^constexpr short PURCHASE_TURN_LIMIT = .*;  \\/\\/ OPTIMIZE \\[790, 870\\]$/constexpr short PURCHASE_TURN_LIMIT = 820;  \\/\\/ OPTIMIZE [790, 870]/' -e 's/^constexpr int ROUGH_HASH = .*;      \\/\\/ OPTIMIZE {0, 0b00000001, 0b00010001, 0b00010011, 0b00110011}$/constexpr int ROUGH_HASH = 0b00110011;      \\/\\/ OPTIMIZE {0, 0b00000001, 0b00010001, 0b00010011, 0b00110011}/' -e 's/^constexpr double TARGET_BEAM_WIDTH_INCREASE_RATE = .*;      \\/\\/ OPTIMIZE \\[0\\.25, 4\\.0\\] LOG$/constexpr double TARGET_BEAM_WIDTH_INCREASE_RATE = 1.0802199058556399;      \\/\\/ OPTIMIZE [0.25, 4.0] LOG/' -e 's/^constexpr double TARGET_BEAM_WIDTH_HALF_PROGRES_RATE = .*;  \\/\\/ OPTIMIZE \\[0\\.02, 0\\.98\\]$/constexpr double TARGET_BEAM_WIDTH_HALF_PROGRES_RATE = 0.28948552973836117;  \\/\\/ OPTIMIZE [0.02, 0.98]/' -e 's/^constexpr auto MAX_BEAM_WIDTH = .*;                        \\/\\/ OPTIMIZE \\[400, 4000\\] LOG$/constexpr auto MAX_BEAM_WIDTH = 2017;                        \\/\\/ OPTIMIZE [400, 4000] LOG/'\n"
     ]
    },
    {
     "name": "stdout",
     "output_type": "stream",
     "text": [
      "g++ 4_main.cpp -std=gnu++17 -O2 -o 4_main.cpp.out 2> /dev/null\n",
      "g++ 2_main.cpp -std=gnu++17 -O2 -o 2_main.cpp.out 2> /dev/null\n",
      "g++ 0_main.cpp -std=gnu++17 -O2 -o 0_main.cpp.out 2> /dev/null\n"
     ]
    },
    {
     "name": "stderr",
     "output_type": "stream",
     "text": [
      "\u001b[32m[I 2021-09-11 13:38:16,370]\u001b[0m Trial 2 finished with value: 2337228501.0 and parameters: {'hash_table_size': 6, 'K_START': 0.12901151918594464, 'K_END': 0.08538737777579115, 'K_H': 0.2070540081632988, 'PURCHASE_TURN_LIMIT': 806, 'ROUGH_HASH': '0b00010011', 'TARGET_BEAM_WIDTH_INCREASE_RATE': 0.44851203576906745, 'TARGET_BEAM_WIDTH_HALF_PROGRES_RATE': 0.024460732471798217, 'MAX_BEAM_WIDTH': 603}. Best is trial 2 with value: 2337228501.0.\u001b[0m\n"
     ]
    },
    {
     "name": "stdout",
     "output_type": "stream",
     "text": [
      "Updated! 2337228501.0\n",
      "callback ok\n",
      "index_parallel=5\n",
      "rm: cannot remove '5_out/*': No such file or directory\n",
      "rm: cannot remove '5_score/*': No such file or directory\n",
      "sed -i 5_main.cpp -e 's/^constexpr int hash_table_size = .*;         \\/\\/ OPTIMIZE \\[6, 18\\]$/constexpr int hash_table_size = 8;         \\/\\/ OPTIMIZE [6, 18]/' -e 's/^constexpr double K_START = .*;  \\/\\/ OPTIMIZE \\[0\\.04, 0\\.2\\] LOG$/constexpr double K_START = 0.16648109077919065;  \\/\\/ OPTIMIZE [0.04, 0.2] LOG/' -e 's/^constexpr double K_END = .*;   \\/\\/ OPTIMIZE \\[0\\.03, 0\\.1\\] LOG$/constexpr double K_END = 0.05046911382693697;   \\/\\/ OPTIMIZE [0.03, 0.1] LOG/' -e 's/^constexpr double K_H = .*;      \\/\\/ OPTIMIZE \\[0\\.001, 0\\.999\\]$/constexpr double K_H = 0.6828570432443508;      \\/\\/ OPTIMIZE [0.001, 0.999]/' -e 's/^constexpr short PURCHASE_TURN_LIMIT = .*;  \\/\\/ OPTIMIZE \\[790, 870\\]$/constexpr short PURCHASE_TURN_LIMIT = 852;  \\/\\/ OPTIMIZE [790, 870]/' -e 's/^constexpr int ROUGH_HASH = .*;      \\/\\/ OPTIMIZE {0, 0b00000001, 0b00010001, 0b00010011, 0b00110011}$/constexpr int ROUGH_HASH = 0b00000001;      \\/\\/ OPTIMIZE {0, 0b00000001, 0b00010001, 0b00010011, 0b00110011}/' -e 's/^constexpr double TARGET_BEAM_WIDTH_INCREASE_RATE = .*;      \\/\\/ OPTIMIZE \\[0\\.25, 4\\.0\\] LOG$/constexpr double TARGET_BEAM_WIDTH_INCREASE_RATE = 1.8453716844316688;      \\/\\/ OPTIMIZE [0.25, 4.0] LOG/' -e 's/^constexpr double TARGET_BEAM_WIDTH_HALF_PROGRES_RATE = .*;  \\/\\/ OPTIMIZE \\[0\\.02, 0\\.98\\]$/constexpr double TARGET_BEAM_WIDTH_HALF_PROGRES_RATE = 0.46492385188115426;  \\/\\/ OPTIMIZE [0.02, 0.98]/' -e 's/^constexpr auto MAX_BEAM_WIDTH = .*;                        \\/\\/ OPTIMIZE \\[400, 4000\\] LOG$/constexpr auto MAX_BEAM_WIDTH = 689;                        \\/\\/ OPTIMIZE [400, 4000] LOG/'\n",
      "g++ 5_main.cpp -std=gnu++17 -O2 -o 5_main.cpp.out 2> /dev/null\n"
     ]
    },
    {
     "name": "stderr",
     "output_type": "stream",
     "text": [
      "\u001b[32m[I 2021-09-11 13:38:36,409]\u001b[0m Trial 1 finished with value: 2410925254.0 and parameters: {'hash_table_size': 6, 'K_START': 0.10859058917903176, 'K_END': 0.08445245865649212, 'K_H': 0.5948233900348715, 'PURCHASE_TURN_LIMIT': 831, 'ROUGH_HASH': '0', 'TARGET_BEAM_WIDTH_INCREASE_RATE': 0.3669764222974813, 'TARGET_BEAM_WIDTH_HALF_PROGRES_RATE': 0.27605662023930205, 'MAX_BEAM_WIDTH': 2161}. Best is trial 1 with value: 2410925254.0.\u001b[0m\n"
     ]
    },
    {
     "name": "stdout",
     "output_type": "stream",
     "text": [
      "Updated! 2410925254.0\n",
      "callback ok\n",
      "index_parallel=6\n",
      "rm: cannot remove '6_out/*': No such file or directory\n",
      "rm: cannot remove '6_score/*': No such file or directory\n",
      "sed -i 6_main.cpp -e 's/^constexpr int hash_table_size = .*;         \\/\\/ OPTIMIZE \\[6, 18\\]$/constexpr int hash_table_size = 7;         \\/\\/ OPTIMIZE [6, 18]/' -e 's/^constexpr double K_START = .*;  \\/\\/ OPTIMIZE \\[0\\.04, 0\\.2\\] LOG$/constexpr double K_START = 0.16820490360800505;  \\/\\/ OPTIMIZE [0.04, 0.2] LOG/' -e 's/^constexpr double K_END = .*;   \\/\\/ OPTIMIZE \\[0\\.03, 0\\.1\\] LOG$/constexpr double K_END = 0.037295756059961806;   \\/\\/ OPTIMIZE [0.03, 0.1] LOG/' -e 's/^constexpr double K_H = .*;      \\/\\/ OPTIMIZE \\[0\\.001, 0\\.999\\]$/constexpr double K_H = 0.2547538538375127;      \\/\\/ OPTIMIZE [0.001, 0.999]/' -e 's/^constexpr short PURCHASE_TURN_LIMIT = .*;  \\/\\/ OPTIMIZE \\[790, 870\\]$/constexpr short PURCHASE_TURN_LIMIT = 821;  \\/\\/ OPTIMIZE [790, 870]/' -e 's/^constexpr int ROUGH_HASH = .*;      \\/\\/ OPTIMIZE {0, 0b00000001, 0b00010001, 0b00010011, 0b00110011}$/constexpr int ROUGH_HASH = 0b00110011;      \\/\\/ OPTIMIZE {0, 0b00000001, 0b00010001, 0b00010011, 0b00110011}/' -e 's/^constexpr double TARGET_BEAM_WIDTH_INCREASE_RATE = .*;      \\/\\/ OPTIMIZE \\[0\\.25, 4\\.0\\] LOG$/constexpr double TARGET_BEAM_WIDTH_INCREASE_RATE = 2.2526313131066016;      \\/\\/ OPTIMIZE [0.25, 4.0] LOG/' -e 's/^constexpr double TARGET_BEAM_WIDTH_HALF_PROGRES_RATE = .*;  \\/\\/ OPTIMIZE \\[0\\.02, 0\\.98\\]$/constexpr double TARGET_BEAM_WIDTH_HALF_PROGRES_RATE = 0.7827494218562648;  \\/\\/ OPTIMIZE [0.02, 0.98]/' -e 's/^constexpr auto MAX_BEAM_WIDTH = .*;                        \\/\\/ OPTIMIZE \\[400, 4000\\] LOG$/constexpr auto MAX_BEAM_WIDTH = 525;                        \\/\\/ OPTIMIZE [400, 4000] LOG/'\n",
      "g++ 6_main.cpp -std=gnu++17 -O2 -o 6_main.cpp.out 2> /dev/null\n"
     ]
    },
    {
     "name": "stderr",
     "output_type": "stream",
     "text": [
      "\u001b[32m[I 2021-09-11 13:40:54,375]\u001b[0m Trial 6 finished with value: 2447848052.0 and parameters: {'hash_table_size': 7, 'K_START': 0.16820490360800505, 'K_END': 0.037295756059961806, 'K_H': 0.2547538538375127, 'PURCHASE_TURN_LIMIT': 821, 'ROUGH_HASH': '0b00110011', 'TARGET_BEAM_WIDTH_INCREASE_RATE': 2.2526313131066016, 'TARGET_BEAM_WIDTH_HALF_PROGRES_RATE': 0.7827494218562648, 'MAX_BEAM_WIDTH': 525}. Best is trial 6 with value: 2447848052.0.\u001b[0m\n"
     ]
    },
    {
     "name": "stdout",
     "output_type": "stream",
     "text": [
      "Updated! 2447848052.0\n",
      "callback ok\n",
      "index_parallel=7\n",
      "rm: cannot remove '7_out/*': No such file or directory\n",
      "rm: cannot remove '7_score/*': No such file or directory\n",
      "sed -i 7_main.cpp -e 's/^constexpr int hash_table_size = .*;         \\/\\/ OPTIMIZE \\[6, 18\\]$/constexpr int hash_table_size = 17;         \\/\\/ OPTIMIZE [6, 18]/' -e 's/^constexpr double K_START = .*;  \\/\\/ OPTIMIZE \\[0\\.04, 0\\.2\\] LOG$/constexpr double K_START = 0.1678016392063049;  \\/\\/ OPTIMIZE [0.04, 0.2] LOG/' -e 's/^constexpr double K_END = .*;   \\/\\/ OPTIMIZE \\[0\\.03, 0\\.1\\] LOG$/constexpr double K_END = 0.034286179075006855;   \\/\\/ OPTIMIZE [0.03, 0.1] LOG/' -e 's/^constexpr double K_H = .*;      \\/\\/ OPTIMIZE \\[0\\.001, 0\\.999\\]$/constexpr double K_H = 0.6814849425745764;      \\/\\/ OPTIMIZE [0.001, 0.999]/' -e 's/^constexpr short PURCHASE_TURN_LIMIT = .*;  \\/\\/ OPTIMIZE \\[790, 870\\]$/constexpr short PURCHASE_TURN_LIMIT = 829;  \\/\\/ OPTIMIZE [790, 870]/' -e 's/^constexpr int ROUGH_HASH = .*;      \\/\\/ OPTIMIZE {0, 0b00000001, 0b00010001, 0b00010011, 0b00110011}$/constexpr int ROUGH_HASH = 0b00000001;      \\/\\/ OPTIMIZE {0, 0b00000001, 0b00010001, 0b00010011, 0b00110011}/' -e 's/^constexpr double TARGET_BEAM_WIDTH_INCREASE_RATE = .*;      \\/\\/ OPTIMIZE \\[0\\.25, 4\\.0\\] LOG$/constexpr double TARGET_BEAM_WIDTH_INCREASE_RATE = 2.1400474700987924;      \\/\\/ OPTIMIZE [0.25, 4.0] LOG/' -e 's/^constexpr double TARGET_BEAM_WIDTH_HALF_PROGRES_RATE = .*;  \\/\\/ OPTIMIZE \\[0\\.02, 0\\.98\\]$/constexpr double TARGET_BEAM_WIDTH_HALF_PROGRES_RATE = 0.5801836011153916;  \\/\\/ OPTIMIZE [0.02, 0.98]/' -e 's/^constexpr auto MAX_BEAM_WIDTH = .*;                        \\/\\/ OPTIMIZE \\[400, 4000\\] LOG$/constexpr auto MAX_BEAM_WIDTH = 1071;                        \\/\\/ OPTIMIZE [400, 4000] LOG/'\n",
      "g++ 7_main.cpp -std=gnu++17 -O2 -o 7_main.cpp.out 2> /dev/null\n"
     ]
    },
    {
     "name": "stderr",
     "output_type": "stream",
     "text": [
      "\u001b[32m[I 2021-09-11 13:41:56,104]\u001b[0m Trial 3 finished with value: 2460618143.0 and parameters: {'hash_table_size': 9, 'K_START': 0.13416582930357568, 'K_END': 0.05016246977656931, 'K_H': 0.8175841869835615, 'PURCHASE_TURN_LIMIT': 791, 'ROUGH_HASH': '0', 'TARGET_BEAM_WIDTH_INCREASE_RATE': 1.5808507780720698, 'TARGET_BEAM_WIDTH_HALF_PROGRES_RATE': 0.04658373782342132, 'MAX_BEAM_WIDTH': 1748}. Best is trial 3 with value: 2460618143.0.\u001b[0m\n"
     ]
    },
    {
     "name": "stdout",
     "output_type": "stream",
     "text": [
      "Updated! 2460618143.0\n",
      "callback ok\n",
      "index_parallel=8\n",
      "rm: cannot remove '8_out/*': No such file or directory\n",
      "rm: cannot remove '8_score/*': No such file or directory\n",
      "sed -i 8_main.cpp -e 's/^constexpr int hash_table_size = .*;         \\/\\/ OPTIMIZE \\[6, 18\\]$/constexpr int hash_table_size = 16;         \\/\\/ OPTIMIZE [6, 18]/' -e 's/^constexpr double K_START = .*;  \\/\\/ OPTIMIZE \\[0\\.04, 0\\.2\\] LOG$/constexpr double K_START = 0.046480556354358944;  \\/\\/ OPTIMIZE [0.04, 0.2] LOG/' -e 's/^constexpr double K_END = .*;   \\/\\/ OPTIMIZE \\[0\\.03, 0\\.1\\] LOG$/constexpr double K_END = 0.08633558644468219;   \\/\\/ OPTIMIZE [0.03, 0.1] LOG/' -e 's/^constexpr double K_H = .*;      \\/\\/ OPTIMIZE \\[0\\.001, 0\\.999\\]$/constexpr double K_H = 0.35457206290055693;      \\/\\/ OPTIMIZE [0.001, 0.999]/' -e 's/^constexpr short PURCHASE_TURN_LIMIT = .*;  \\/\\/ OPTIMIZE \\[790, 870\\]$/constexpr short PURCHASE_TURN_LIMIT = 797;  \\/\\/ OPTIMIZE [790, 870]/' -e 's/^constexpr int ROUGH_HASH = .*;      \\/\\/ OPTIMIZE {0, 0b00000001, 0b00010001, 0b00010011, 0b00110011}$/constexpr int ROUGH_HASH = 0b00010011;      \\/\\/ OPTIMIZE {0, 0b00000001, 0b00010001, 0b00010011, 0b00110011}/' -e 's/^constexpr double TARGET_BEAM_WIDTH_INCREASE_RATE = .*;      \\/\\/ OPTIMIZE \\[0\\.25, 4\\.0\\] LOG$/constexpr double TARGET_BEAM_WIDTH_INCREASE_RATE = 0.56872098209193;      \\/\\/ OPTIMIZE [0.25, 4.0] LOG/' -e 's/^constexpr double TARGET_BEAM_WIDTH_HALF_PROGRES_RATE = .*;  \\/\\/ OPTIMIZE \\[0\\.02, 0\\.98\\]$/constexpr double TARGET_BEAM_WIDTH_HALF_PROGRES_RATE = 0.5571650149393936;  \\/\\/ OPTIMIZE [0.02, 0.98]/' -e 's/^constexpr auto MAX_BEAM_WIDTH = .*;                        \\/\\/ OPTIMIZE \\[400, 4000\\] LOG$/constexpr auto MAX_BEAM_WIDTH = 500;                        \\/\\/ OPTIMIZE [400, 4000] LOG/'\n",
      "g++ 8_main.cpp -std=gnu++17 -O2 -o 8_main.cpp.out 2> /dev/null\n"
     ]
    },
    {
     "name": "stderr",
     "output_type": "stream",
     "text": [
      "\u001b[32m[I 2021-09-11 13:42:13,088]\u001b[0m Trial 4 finished with value: 2486546297.0 and parameters: {'hash_table_size': 12, 'K_START': 0.14892135695645567, 'K_END': 0.04692022688124217, 'K_H': 0.19085678945475512, 'PURCHASE_TURN_LIMIT': 837, 'ROUGH_HASH': '0', 'TARGET_BEAM_WIDTH_INCREASE_RATE': 0.7413277301325024, 'TARGET_BEAM_WIDTH_HALF_PROGRES_RATE': 0.12317771464715342, 'MAX_BEAM_WIDTH': 3029}. Best is trial 4 with value: 2486546297.0.\u001b[0m\n"
     ]
    },
    {
     "name": "stdout",
     "output_type": "stream",
     "text": [
      "Updated! 2486546297.0\n",
      "callback ok\n",
      "index_parallel=9\n",
      "rm: cannot remove '9_out/*': No such file or directory\n",
      "rm: cannot remove '9_score/*': No such file or directory\n",
      "sed -i 9_main.cpp -e 's/^constexpr int hash_table_size = .*;         \\/\\/ OPTIMIZE \\[6, 18\\]$/constexpr int hash_table_size = 14;         \\/\\/ OPTIMIZE [6, 18]/' -e 's/^constexpr double K_START = .*;  \\/\\/ OPTIMIZE \\[0\\.04, 0\\.2\\] LOG$/constexpr double K_START = 0.05565433802822493;  \\/\\/ OPTIMIZE [0.04, 0.2] LOG/' -e 's/^constexpr double K_END = .*;   \\/\\/ OPTIMIZE \\[0\\.03, 0\\.1\\] LOG$/constexpr double K_END = 0.05507133809729035;   \\/\\/ OPTIMIZE [0.03, 0.1] LOG/' -e 's/^constexpr double K_H = .*;      \\/\\/ OPTIMIZE \\[0\\.001, 0\\.999\\]$/constexpr double K_H = 0.15136041540315334;      \\/\\/ OPTIMIZE [0.001, 0.999]/' -e 's/^constexpr short PURCHASE_TURN_LIMIT = .*;  \\/\\/ OPTIMIZE \\[790, 870\\]$/constexpr short PURCHASE_TURN_LIMIT = 864;  \\/\\/ OPTIMIZE [790, 870]/' -e 's/^constexpr int ROUGH_HASH = .*;      \\/\\/ OPTIMIZE {0, 0b00000001, 0b00010001, 0b00010011, 0b00110011}$/constexpr int ROUGH_HASH = 0b00010011;      \\/\\/ OPTIMIZE {0, 0b00000001, 0b00010001, 0b00010011, 0b00110011}/' -e 's/^constexpr double TARGET_BEAM_WIDTH_INCREASE_RATE = .*;      \\/\\/ OPTIMIZE \\[0\\.25, 4\\.0\\] LOG$/constexpr double TARGET_BEAM_WIDTH_INCREASE_RATE = 1.1626883021836303;      \\/\\/ OPTIMIZE [0.25, 4.0] LOG/' -e 's/^constexpr double TARGET_BEAM_WIDTH_HALF_PROGRES_RATE = .*;  \\/\\/ OPTIMIZE \\[0\\.02, 0\\.98\\]$/constexpr double TARGET_BEAM_WIDTH_HALF_PROGRES_RATE = 0.8810692276703781;  \\/\\/ OPTIMIZE [0.02, 0.98]/' -e 's/^constexpr auto MAX_BEAM_WIDTH = .*;                        \\/\\/ OPTIMIZE \\[400, 4000\\] LOG$/constexpr auto MAX_BEAM_WIDTH = 1073;                        \\/\\/ OPTIMIZE [400, 4000] LOG/'\n",
      "g++ 9_main.cpp -std=gnu++17 -O2 -o 9_main.cpp.out 2> /dev/null\n"
     ]
    },
    {
     "name": "stderr",
     "output_type": "stream",
     "text": [
      "\u001b[32m[I 2021-09-11 13:42:15,450]\u001b[0m Trial 0 finished with value: 2458195194.0 and parameters: {'hash_table_size': 18, 'K_START': 0.07740044121781983, 'K_END': 0.04672877795909802, 'K_H': 0.3540308115651504, 'PURCHASE_TURN_LIMIT': 820, 'ROUGH_HASH': '0b00110011', 'TARGET_BEAM_WIDTH_INCREASE_RATE': 1.0802199058556399, 'TARGET_BEAM_WIDTH_HALF_PROGRES_RATE': 0.28948552973836117, 'MAX_BEAM_WIDTH': 2017}. Best is trial 4 with value: 2486546297.0.\u001b[0m\n"
     ]
    },
    {
     "name": "stdout",
     "output_type": "stream",
     "text": [
      "callback ok\n",
      "index_parallel=10\n",
      "rm: cannot remove '10_out/*': No such file or directory\n",
      "rm: cannot remove '10_score/*': No such file or directory\n",
      "sed -i 10_main.cpp -e 's/^constexpr int hash_table_size = .*;         \\/\\/ OPTIMIZE \\[6, 18\\]$/constexpr int hash_table_size = 16;         \\/\\/ OPTIMIZE [6, 18]/' -e 's/^constexpr double K_START = .*;  \\/\\/ OPTIMIZE \\[0\\.04, 0\\.2\\] LOG$/constexpr double K_START = 0.08776378778652333;  \\/\\/ OPTIMIZE [0.04, 0.2] LOG/' -e 's/^constexpr double K_END = .*;   \\/\\/ OPTIMIZE \\[0\\.03, 0\\.1\\] LOG$/constexpr double K_END = 0.045249719358808935;   \\/\\/ OPTIMIZE [0.03, 0.1] LOG/' -e 's/^constexpr double K_H = .*;      \\/\\/ OPTIMIZE \\[0\\.001, 0\\.999\\]$/constexpr double K_H = 0.3951887749377645;      \\/\\/ OPTIMIZE [0.001, 0.999]/' -e 's/^constexpr short PURCHASE_TURN_LIMIT = .*;  \\/\\/ OPTIMIZE \\[790, 870\\]$/constexpr short PURCHASE_TURN_LIMIT = 839;  \\/\\/ OPTIMIZE [790, 870]/' -e 's/^constexpr int ROUGH_HASH = .*;      \\/\\/ OPTIMIZE {0, 0b00000001, 0b00010001, 0b00010011, 0b00110011}$/constexpr int ROUGH_HASH = 0b00010001;      \\/\\/ OPTIMIZE {0, 0b00000001, 0b00010001, 0b00010011, 0b00110011}/' -e 's/^constexpr double TARGET_BEAM_WIDTH_INCREASE_RATE = .*;      \\/\\/ OPTIMIZE \\[0\\.25, 4\\.0\\] LOG$/constexpr double TARGET_BEAM_WIDTH_INCREASE_RATE = 0.5652109634904102;      \\/\\/ OPTIMIZE [0.25, 4.0] LOG/' -e 's/^constexpr double TARGET_BEAM_WIDTH_HALF_PROGRES_RATE = .*;  \\/\\/ OPTIMIZE \\[0\\.02, 0\\.98\\]$/constexpr double TARGET_BEAM_WIDTH_HALF_PROGRES_RATE = 0.09399232263521039;  \\/\\/ OPTIMIZE [0.02, 0.98]/' -e 's/^constexpr auto MAX_BEAM_WIDTH = .*;                        \\/\\/ OPTIMIZE \\[400, 4000\\] LOG$/constexpr auto MAX_BEAM_WIDTH = 3045;                        \\/\\/ OPTIMIZE [400, 4000] LOG/'\n",
      "g++ 10_main.cpp -std=gnu++17 -O2 -o 10_main.cpp.out 2> /dev/null\n"
     ]
    },
    {
     "name": "stderr",
     "output_type": "stream",
     "text": [
      "\u001b[32m[I 2021-09-11 13:42:34,567]\u001b[0m Trial 5 finished with value: 2554896315.0 and parameters: {'hash_table_size': 8, 'K_START': 0.16648109077919065, 'K_END': 0.05046911382693697, 'K_H': 0.6828570432443508, 'PURCHASE_TURN_LIMIT': 852, 'ROUGH_HASH': '0b00000001', 'TARGET_BEAM_WIDTH_INCREASE_RATE': 1.8453716844316688, 'TARGET_BEAM_WIDTH_HALF_PROGRES_RATE': 0.46492385188115426, 'MAX_BEAM_WIDTH': 689}. Best is trial 5 with value: 2554896315.0.\u001b[0m\n"
     ]
    },
    {
     "name": "stdout",
     "output_type": "stream",
     "text": [
      "Updated! 2554896315.0\n",
      "callback ok\n",
      "index_parallel=11\n",
      "rm: cannot remove '11_out/*': No such file or directory\n",
      "rm: cannot remove '11_score/*': No such file or directory\n",
      "sed -i 11_main.cpp -e 's/^constexpr int hash_table_size = .*;         \\/\\/ OPTIMIZE \\[6, 18\\]$/constexpr int hash_table_size = 7;         \\/\\/ OPTIMIZE [6, 18]/' -e 's/^constexpr double K_START = .*;  \\/\\/ OPTIMIZE \\[0\\.04, 0\\.2\\] LOG$/constexpr double K_START = 0.1929806499405583;  \\/\\/ OPTIMIZE [0.04, 0.2] LOG/' -e 's/^constexpr double K_END = .*;   \\/\\/ OPTIMIZE \\[0\\.03, 0\\.1\\] LOG$/constexpr double K_END = 0.053909143247845605;   \\/\\/ OPTIMIZE [0.03, 0.1] LOG/' -e 's/^constexpr double K_H = .*;      \\/\\/ OPTIMIZE \\[0\\.001, 0\\.999\\]$/constexpr double K_H = 0.08930204929419103;      \\/\\/ OPTIMIZE [0.001, 0.999]/' -e 's/^constexpr short PURCHASE_TURN_LIMIT = .*;  \\/\\/ OPTIMIZE \\[790, 870\\]$/constexpr short PURCHASE_TURN_LIMIT = 848;  \\/\\/ OPTIMIZE [790, 870]/' -e 's/^constexpr int ROUGH_HASH = .*;      \\/\\/ OPTIMIZE {0, 0b00000001, 0b00010001, 0b00010011, 0b00110011}$/constexpr int ROUGH_HASH = 0;      \\/\\/ OPTIMIZE {0, 0b00000001, 0b00010001, 0b00010011, 0b00110011}/' -e 's/^constexpr double TARGET_BEAM_WIDTH_INCREASE_RATE = .*;      \\/\\/ OPTIMIZE \\[0\\.25, 4\\.0\\] LOG$/constexpr double TARGET_BEAM_WIDTH_INCREASE_RATE = 0.3249852614964634;      \\/\\/ OPTIMIZE [0.25, 4.0] LOG/' -e 's/^constexpr double TARGET_BEAM_WIDTH_HALF_PROGRES_RATE = .*;  \\/\\/ OPTIMIZE \\[0\\.02, 0\\.98\\]$/constexpr double TARGET_BEAM_WIDTH_HALF_PROGRES_RATE = 0.2286735111262734;  \\/\\/ OPTIMIZE [0.02, 0.98]/' -e 's/^constexpr auto MAX_BEAM_WIDTH = .*;                        \\/\\/ OPTIMIZE \\[400, 4000\\] LOG$/constexpr auto MAX_BEAM_WIDTH = 3164;                        \\/\\/ OPTIMIZE [400, 4000] LOG/'\n",
      "g++ 11_main.cpp -std=gnu++17 -O2 -o 11_main.cpp.out 2> /dev/null\n"
     ]
    },
    {
     "name": "stderr",
     "output_type": "stream",
     "text": [
      "\u001b[32m[I 2021-09-11 13:45:18,321]\u001b[0m Trial 11 finished with value: 2416260104.0 and parameters: {'hash_table_size': 7, 'K_START': 0.1929806499405583, 'K_END': 0.053909143247845605, 'K_H': 0.08930204929419103, 'PURCHASE_TURN_LIMIT': 848, 'ROUGH_HASH': '0', 'TARGET_BEAM_WIDTH_INCREASE_RATE': 0.3249852614964634, 'TARGET_BEAM_WIDTH_HALF_PROGRES_RATE': 0.2286735111262734, 'MAX_BEAM_WIDTH': 3164}. Best is trial 5 with value: 2554896315.0.\u001b[0m\n"
     ]
    },
    {
     "name": "stdout",
     "output_type": "stream",
     "text": [
      "callback ok\n",
      "index_parallel=0\n",
      "sed -i 0_main.cpp -e 's/^constexpr int hash_table_size = .*;         \\/\\/ OPTIMIZE \\[6, 18\\]$/constexpr int hash_table_size = 16;         \\/\\/ OPTIMIZE [6, 18]/' -e 's/^constexpr double K_START = .*;  \\/\\/ OPTIMIZE \\[0\\.04, 0\\.2\\] LOG$/constexpr double K_START = 0.04846617783509053;  \\/\\/ OPTIMIZE [0.04, 0.2] LOG/' -e 's/^constexpr double K_END = .*;   \\/\\/ OPTIMIZE \\[0\\.03, 0\\.1\\] LOG$/constexpr double K_END = 0.031071293599514077;   \\/\\/ OPTIMIZE [0.03, 0.1] LOG/' -e 's/^constexpr double K_H = .*;      \\/\\/ OPTIMIZE \\[0\\.001, 0\\.999\\]$/constexpr double K_H = 0.7713696553582114;      \\/\\/ OPTIMIZE [0.001, 0.999]/' -e 's/^constexpr short PURCHASE_TURN_LIMIT = .*;  \\/\\/ OPTIMIZE \\[790, 870\\]$/constexpr short PURCHASE_TURN_LIMIT = 811;  \\/\\/ OPTIMIZE [790, 870]/' -e 's/^constexpr int ROUGH_HASH = .*;      \\/\\/ OPTIMIZE {0, 0b00000001, 0b00010001, 0b00010011, 0b00110011}$/constexpr int ROUGH_HASH = 0;      \\/\\/ OPTIMIZE {0, 0b00000001, 0b00010001, 0b00010011, 0b00110011}/' -e 's/^constexpr double TARGET_BEAM_WIDTH_INCREASE_RATE = .*;      \\/\\/ OPTIMIZE \\[0\\.25, 4\\.0\\] LOG$/constexpr double TARGET_BEAM_WIDTH_INCREASE_RATE = 2.1568489232971895;      \\/\\/ OPTIMIZE [0.25, 4.0] LOG/' -e 's/^constexpr double TARGET_BEAM_WIDTH_HALF_PROGRES_RATE = .*;  \\/\\/ OPTIMIZE \\[0\\.02, 0\\.98\\]$/constexpr double TARGET_BEAM_WIDTH_HALF_PROGRES_RATE = 0.3494739266983329;  \\/\\/ OPTIMIZE [0.02, 0.98]/' -e 's/^constexpr auto MAX_BEAM_WIDTH = .*;                        \\/\\/ OPTIMIZE \\[400, 4000\\] LOG$/constexpr auto MAX_BEAM_WIDTH = 563;                        \\/\\/ OPTIMIZE [400, 4000] LOG/'\n",
      "g++ 0_main.cpp -std=gnu++17 -O2 -o 0_main.cpp.out 2> /dev/null\n"
     ]
    },
    {
     "name": "stderr",
     "output_type": "stream",
     "text": [
      "\u001b[32m[I 2021-09-11 13:46:22,222]\u001b[0m Trial 7 finished with value: 2517867275.0 and parameters: {'hash_table_size': 17, 'K_START': 0.1678016392063049, 'K_END': 0.034286179075006855, 'K_H': 0.6814849425745764, 'PURCHASE_TURN_LIMIT': 829, 'ROUGH_HASH': '0b00000001', 'TARGET_BEAM_WIDTH_INCREASE_RATE': 2.1400474700987924, 'TARGET_BEAM_WIDTH_HALF_PROGRES_RATE': 0.5801836011153916, 'MAX_BEAM_WIDTH': 1071}. Best is trial 5 with value: 2554896315.0.\u001b[0m\n"
     ]
    },
    {
     "name": "stdout",
     "output_type": "stream",
     "text": [
      "callback ok\n",
      "index_parallel=1\n",
      "sed -i 1_main.cpp -e 's/^constexpr int hash_table_size = .*;         \\/\\/ OPTIMIZE \\[6, 18\\]$/constexpr int hash_table_size = 10;         \\/\\/ OPTIMIZE [6, 18]/' -e 's/^constexpr double K_START = .*;  \\/\\/ OPTIMIZE \\[0\\.04, 0\\.2\\] LOG$/constexpr double K_START = 0.04200191191856688;  \\/\\/ OPTIMIZE [0.04, 0.2] LOG/' -e 's/^constexpr double K_END = .*;   \\/\\/ OPTIMIZE \\[0\\.03, 0\\.1\\] LOG$/constexpr double K_END = 0.06780871914440799;   \\/\\/ OPTIMIZE [0.03, 0.1] LOG/' -e 's/^constexpr double K_H = .*;      \\/\\/ OPTIMIZE \\[0\\.001, 0\\.999\\]$/constexpr double K_H = 0.4430220082467376;      \\/\\/ OPTIMIZE [0.001, 0.999]/' -e 's/^constexpr short PURCHASE_TURN_LIMIT = .*;  \\/\\/ OPTIMIZE \\[790, 870\\]$/constexpr short PURCHASE_TURN_LIMIT = 837;  \\/\\/ OPTIMIZE [790, 870]/' -e 's/^constexpr int ROUGH_HASH = .*;      \\/\\/ OPTIMIZE {0, 0b00000001, 0b00010001, 0b00010011, 0b00110011}$/constexpr int ROUGH_HASH = 0b00110011;      \\/\\/ OPTIMIZE {0, 0b00000001, 0b00010001, 0b00010011, 0b00110011}/' -e 's/^constexpr double TARGET_BEAM_WIDTH_INCREASE_RATE = .*;      \\/\\/ OPTIMIZE \\[0\\.25, 4\\.0\\] LOG$/constexpr double TARGET_BEAM_WIDTH_INCREASE_RATE = 0.48869484454918877;      \\/\\/ OPTIMIZE [0.25, 4.0] LOG/' -e 's/^constexpr double TARGET_BEAM_WIDTH_HALF_PROGRES_RATE = .*;  \\/\\/ OPTIMIZE \\[0\\.02, 0\\.98\\]$/constexpr double TARGET_BEAM_WIDTH_HALF_PROGRES_RATE = 0.02253143527007335;  \\/\\/ OPTIMIZE [0.02, 0.98]/' -e 's/^constexpr auto MAX_BEAM_WIDTH = .*;                        \\/\\/ OPTIMIZE \\[400, 4000\\] LOG$/constexpr auto MAX_BEAM_WIDTH = 984;                        \\/\\/ OPTIMIZE [400, 4000] LOG/'\n",
      "g++ 1_main.cpp -std=gnu++17 -O2 -o 1_main.cpp.out 2> /dev/null\n"
     ]
    },
    {
     "name": "stderr",
     "output_type": "stream",
     "text": [
      "\u001b[32m[I 2021-09-11 13:47:19,569]\u001b[0m Trial 8 finished with value: 2450424985.0 and parameters: {'hash_table_size': 16, 'K_START': 0.046480556354358944, 'K_END': 0.08633558644468219, 'K_H': 0.35457206290055693, 'PURCHASE_TURN_LIMIT': 797, 'ROUGH_HASH': '0b00010011', 'TARGET_BEAM_WIDTH_INCREASE_RATE': 0.56872098209193, 'TARGET_BEAM_WIDTH_HALF_PROGRES_RATE': 0.5571650149393936, 'MAX_BEAM_WIDTH': 500}. Best is trial 5 with value: 2554896315.0.\u001b[0m\n"
     ]
    },
    {
     "name": "stdout",
     "output_type": "stream",
     "text": [
      "callback ok\n",
      "index_parallel=2\n",
      "sed -i 2_main.cpp -e 's/^constexpr int hash_table_size = .*;         \\/\\/ OPTIMIZE \\[6, 18\\]$/constexpr int hash_table_size = 11;         \\/\\/ OPTIMIZE [6, 18]/' -e 's/^constexpr double K_START = .*;  \\/\\/ OPTIMIZE \\[0\\.04, 0\\.2\\] LOG$/constexpr double K_START = 0.07602775360891662;  \\/\\/ OPTIMIZE [0.04, 0.2] LOG/' -e 's/^constexpr double K_END = .*;   \\/\\/ OPTIMIZE \\[0\\.03, 0\\.1\\] LOG$/constexpr double K_END = 0.06496890430237433;   \\/\\/ OPTIMIZE [0.03, 0.1] LOG/' -e 's/^constexpr double K_H = .*;      \\/\\/ OPTIMIZE \\[0\\.001, 0\\.999\\]$/constexpr double K_H = 0.9979561685396229;      \\/\\/ OPTIMIZE [0.001, 0.999]/' -e 's/^constexpr short PURCHASE_TURN_LIMIT = .*;  \\/\\/ OPTIMIZE \\[790, 870\\]$/constexpr short PURCHASE_TURN_LIMIT = 868;  \\/\\/ OPTIMIZE [790, 870]/' -e 's/^constexpr int ROUGH_HASH = .*;      \\/\\/ OPTIMIZE {0, 0b00000001, 0b00010001, 0b00010011, 0b00110011}$/constexpr int ROUGH_HASH = 0b00000001;      \\/\\/ OPTIMIZE {0, 0b00000001, 0b00010001, 0b00010011, 0b00110011}/' -e 's/^constexpr double TARGET_BEAM_WIDTH_INCREASE_RATE = .*;      \\/\\/ OPTIMIZE \\[0\\.25, 4\\.0\\] LOG$/constexpr double TARGET_BEAM_WIDTH_INCREASE_RATE = 3.202182112283857;      \\/\\/ OPTIMIZE [0.25, 4.0] LOG/' -e 's/^constexpr double TARGET_BEAM_WIDTH_HALF_PROGRES_RATE = .*;  \\/\\/ OPTIMIZE \\[0\\.02, 0\\.98\\]$/constexpr double TARGET_BEAM_WIDTH_HALF_PROGRES_RATE = 0.8926920610809764;  \\/\\/ OPTIMIZE [0.02, 0.98]/' -e 's/^constexpr auto MAX_BEAM_WIDTH = .*;                        \\/\\/ OPTIMIZE \\[400, 4000\\] LOG$/constexpr auto MAX_BEAM_WIDTH = 844;                        \\/\\/ OPTIMIZE [400, 4000] LOG/'\n",
      "g++ 2_main.cpp -std=gnu++17 -O2 -o 2_main.cpp.out 2> /dev/null\n"
     ]
    },
    {
     "name": "stderr",
     "output_type": "stream",
     "text": [
      "\u001b[32m[I 2021-09-11 13:47:40,496]\u001b[0m Trial 9 finished with value: 2467694379.0 and parameters: {'hash_table_size': 14, 'K_START': 0.05565433802822493, 'K_END': 0.05507133809729035, 'K_H': 0.15136041540315334, 'PURCHASE_TURN_LIMIT': 864, 'ROUGH_HASH': '0b00010011', 'TARGET_BEAM_WIDTH_INCREASE_RATE': 1.1626883021836303, 'TARGET_BEAM_WIDTH_HALF_PROGRES_RATE': 0.8810692276703781, 'MAX_BEAM_WIDTH': 1073}. Best is trial 5 with value: 2554896315.0.\u001b[0m\n"
     ]
    },
    {
     "name": "stdout",
     "output_type": "stream",
     "text": [
      "callback ok\n",
      "index_parallel=3\n",
      "sed -i 3_main.cpp -e 's/^constexpr int hash_table_size = .*;         \\/\\/ OPTIMIZE \\[6, 18\\]$/constexpr int hash_table_size = 11;         \\/\\/ OPTIMIZE [6, 18]/' -e 's/^constexpr double K_START = .*;  \\/\\/ OPTIMIZE \\[0\\.04, 0\\.2\\] LOG$/constexpr double K_START = 0.09079851564961362;  \\/\\/ OPTIMIZE [0.04, 0.2] LOG/' -e 's/^constexpr double K_END = .*;   \\/\\/ OPTIMIZE \\[0\\.03, 0\\.1\\] LOG$/constexpr double K_END = 0.03108439795279348;   \\/\\/ OPTIMIZE [0.03, 0.1] LOG/' -e 's/^constexpr double K_H = .*;      \\/\\/ OPTIMIZE \\[0\\.001, 0\\.999\\]$/constexpr double K_H = 0.7643809597702157;      \\/\\/ OPTIMIZE [0.001, 0.999]/' -e 's/^constexpr short PURCHASE_TURN_LIMIT = .*;  \\/\\/ OPTIMIZE \\[790, 870\\]$/constexpr short PURCHASE_TURN_LIMIT = 851;  \\/\\/ OPTIMIZE [790, 870]/' -e 's/^constexpr int ROUGH_HASH = .*;      \\/\\/ OPTIMIZE {0, 0b00000001, 0b00010001, 0b00010011, 0b00110011}$/constexpr int ROUGH_HASH = 0b00000001;      \\/\\/ OPTIMIZE {0, 0b00000001, 0b00010001, 0b00010011, 0b00110011}/' -e 's/^constexpr double TARGET_BEAM_WIDTH_INCREASE_RATE = .*;      \\/\\/ OPTIMIZE \\[0\\.25, 4\\.0\\] LOG$/constexpr double TARGET_BEAM_WIDTH_INCREASE_RATE = 3.9821325612463805;      \\/\\/ OPTIMIZE [0.25, 4.0] LOG/' -e 's/^constexpr double TARGET_BEAM_WIDTH_HALF_PROGRES_RATE = .*;  \\/\\/ OPTIMIZE \\[0\\.02, 0\\.98\\]$/constexpr double TARGET_BEAM_WIDTH_HALF_PROGRES_RATE = 0.5412202970905369;  \\/\\/ OPTIMIZE [0.02, 0.98]/' -e 's/^constexpr auto MAX_BEAM_WIDTH = .*;                        \\/\\/ OPTIMIZE \\[400, 4000\\] LOG$/constexpr auto MAX_BEAM_WIDTH = 902;                        \\/\\/ OPTIMIZE [400, 4000] LOG/'\n",
      "g++ 3_main.cpp -std=gnu++17 -O2 -o 3_main.cpp.out 2> /dev/null\n"
     ]
    },
    {
     "name": "stderr",
     "output_type": "stream",
     "text": [
      "\u001b[32m[I 2021-09-11 13:47:43,067]\u001b[0m Trial 10 finished with value: 2483152748.0 and parameters: {'hash_table_size': 16, 'K_START': 0.08776378778652333, 'K_END': 0.045249719358808935, 'K_H': 0.3951887749377645, 'PURCHASE_TURN_LIMIT': 839, 'ROUGH_HASH': '0b00010001', 'TARGET_BEAM_WIDTH_INCREASE_RATE': 0.5652109634904102, 'TARGET_BEAM_WIDTH_HALF_PROGRES_RATE': 0.09399232263521039, 'MAX_BEAM_WIDTH': 3045}. Best is trial 5 with value: 2554896315.0.\u001b[0m\n"
     ]
    },
    {
     "name": "stdout",
     "output_type": "stream",
     "text": [
      "callback ok\n",
      "index_parallel=4\n",
      "sed -i 4_main.cpp -e 's/^constexpr int hash_table_size = .*;         \\/\\/ OPTIMIZE \\[6, 18\\]$/constexpr int hash_table_size = 11;         \\/\\/ OPTIMIZE [6, 18]/' -e 's/^constexpr double K_START = .*;  \\/\\/ OPTIMIZE \\[0\\.04, 0\\.2\\] LOG$/constexpr double K_START = 0.19342979295648796;  \\/\\/ OPTIMIZE [0.04, 0.2] LOG/' -e 's/^constexpr double K_END = .*;   \\/\\/ OPTIMIZE \\[0\\.03, 0\\.1\\] LOG$/constexpr double K_END = 0.033716317188790035;   \\/\\/ OPTIMIZE [0.03, 0.1] LOG/' -e 's/^constexpr double K_H = .*;      \\/\\/ OPTIMIZE \\[0\\.001, 0\\.999\\]$/constexpr double K_H = 0.6994730206428114;      \\/\\/ OPTIMIZE [0.001, 0.999]/' -e 's/^constexpr short PURCHASE_TURN_LIMIT = .*;  \\/\\/ OPTIMIZE \\[790, 870\\]$/constexpr short PURCHASE_TURN_LIMIT = 858;  \\/\\/ OPTIMIZE [790, 870]/' -e 's/^constexpr int ROUGH_HASH = .*;      \\/\\/ OPTIMIZE {0, 0b00000001, 0b00010001, 0b00010011, 0b00110011}$/constexpr int ROUGH_HASH = 0b00000001;      \\/\\/ OPTIMIZE {0, 0b00000001, 0b00010001, 0b00010011, 0b00110011}/' -e 's/^constexpr double TARGET_BEAM_WIDTH_INCREASE_RATE = .*;      \\/\\/ OPTIMIZE \\[0\\.25, 4\\.0\\] LOG$/constexpr double TARGET_BEAM_WIDTH_INCREASE_RATE = 3.434910290111564;      \\/\\/ OPTIMIZE [0.25, 4.0] LOG/' -e 's/^constexpr double TARGET_BEAM_WIDTH_HALF_PROGRES_RATE = .*;  \\/\\/ OPTIMIZE \\[0\\.02, 0\\.98\\]$/constexpr double TARGET_BEAM_WIDTH_HALF_PROGRES_RATE = 0.5463991091503604;  \\/\\/ OPTIMIZE [0.02, 0.98]/' -e 's/^constexpr auto MAX_BEAM_WIDTH = .*;                        \\/\\/ OPTIMIZE \\[400, 4000\\] LOG$/constexpr auto MAX_BEAM_WIDTH = 851;                        \\/\\/ OPTIMIZE [400, 4000] LOG/'\n",
      "g++ 4_main.cpp -std=gnu++17 -O2 -o 4_main.cpp.out 2> /dev/null\n"
     ]
    },
    {
     "name": "stderr",
     "output_type": "stream",
     "text": [
      "\u001b[32m[I 2021-09-11 13:50:26,430]\u001b[0m Trial 12 finished with value: 2425858534.0 and parameters: {'hash_table_size': 16, 'K_START': 0.04846617783509053, 'K_END': 0.031071293599514077, 'K_H': 0.7713696553582114, 'PURCHASE_TURN_LIMIT': 811, 'ROUGH_HASH': '0', 'TARGET_BEAM_WIDTH_INCREASE_RATE': 2.1568489232971895, 'TARGET_BEAM_WIDTH_HALF_PROGRES_RATE': 0.3494739266983329, 'MAX_BEAM_WIDTH': 563}. Best is trial 5 with value: 2554896315.0.\u001b[0m\n"
     ]
    },
    {
     "name": "stdout",
     "output_type": "stream",
     "text": [
      "callback ok\n",
      "index_parallel=5\n",
      "sed -i 5_main.cpp -e 's/^constexpr int hash_table_size = .*;         \\/\\/ OPTIMIZE \\[6, 18\\]$/constexpr int hash_table_size = 10;         \\/\\/ OPTIMIZE [6, 18]/' -e 's/^constexpr double K_START = .*;  \\/\\/ OPTIMIZE \\[0\\.04, 0\\.2\\] LOG$/constexpr double K_START = 0.19751847739746758;  \\/\\/ OPTIMIZE [0.04, 0.2] LOG/' -e 's/^constexpr double K_END = .*;   \\/\\/ OPTIMIZE \\[0\\.03, 0\\.1\\] LOG$/constexpr double K_END = 0.06761863580368584;   \\/\\/ OPTIMIZE [0.03, 0.1] LOG/' -e 's/^constexpr double K_H = .*;      \\/\\/ OPTIMIZE \\[0\\.001, 0\\.999\\]$/constexpr double K_H = 0.9980335661231345;      \\/\\/ OPTIMIZE [0.001, 0.999]/' -e 's/^constexpr short PURCHASE_TURN_LIMIT = .*;  \\/\\/ OPTIMIZE \\[790, 870\\]$/constexpr short PURCHASE_TURN_LIMIT = 858;  \\/\\/ OPTIMIZE [790, 870]/' -e 's/^constexpr int ROUGH_HASH = .*;      \\/\\/ OPTIMIZE {0, 0b00000001, 0b00010001, 0b00010011, 0b00110011}$/constexpr int ROUGH_HASH = 0b00000001;      \\/\\/ OPTIMIZE {0, 0b00000001, 0b00010001, 0b00010011, 0b00110011}/' -e 's/^constexpr double TARGET_BEAM_WIDTH_INCREASE_RATE = .*;      \\/\\/ OPTIMIZE \\[0\\.25, 4\\.0\\] LOG$/constexpr double TARGET_BEAM_WIDTH_INCREASE_RATE = 3.2415260736278753;      \\/\\/ OPTIMIZE [0.25, 4.0] LOG/' -e 's/^constexpr double TARGET_BEAM_WIDTH_HALF_PROGRES_RATE = .*;  \\/\\/ OPTIMIZE \\[0\\.02, 0\\.98\\]$/constexpr double TARGET_BEAM_WIDTH_HALF_PROGRES_RATE = 0.5874827411832905;  \\/\\/ OPTIMIZE [0.02, 0.98]/' -e 's/^constexpr auto MAX_BEAM_WIDTH = .*;                        \\/\\/ OPTIMIZE \\[400, 4000\\] LOG$/constexpr auto MAX_BEAM_WIDTH = 924;                        \\/\\/ OPTIMIZE [400, 4000] LOG/'\n",
      "g++ 5_main.cpp -std=gnu++17 -O2 -o 5_main.cpp.out 2> /dev/null\n"
     ]
    },
    {
     "name": "stderr",
     "output_type": "stream",
     "text": [
      "\u001b[32m[I 2021-09-11 13:51:47,411]\u001b[0m Trial 13 finished with value: 2470155062.0 and parameters: {'hash_table_size': 10, 'K_START': 0.04200191191856688, 'K_END': 0.06780871914440799, 'K_H': 0.4430220082467376, 'PURCHASE_TURN_LIMIT': 837, 'ROUGH_HASH': '0b00110011', 'TARGET_BEAM_WIDTH_INCREASE_RATE': 0.48869484454918877, 'TARGET_BEAM_WIDTH_HALF_PROGRES_RATE': 0.02253143527007335, 'MAX_BEAM_WIDTH': 984}. Best is trial 5 with value: 2554896315.0.\u001b[0m\n"
     ]
    },
    {
     "name": "stdout",
     "output_type": "stream",
     "text": [
      "callback ok\n",
      "index_parallel=6\n",
      "sed -i 6_main.cpp -e 's/^constexpr int hash_table_size = .*;         \\/\\/ OPTIMIZE \\[6, 18\\]$/constexpr int hash_table_size = 12;         \\/\\/ OPTIMIZE [6, 18]/' -e 's/^constexpr double K_START = .*;  \\/\\/ OPTIMIZE \\[0\\.04, 0\\.2\\] LOG$/constexpr double K_START = 0.19975623169436468;  \\/\\/ OPTIMIZE [0.04, 0.2] LOG/' -e 's/^constexpr double K_END = .*;   \\/\\/ OPTIMIZE \\[0\\.03, 0\\.1\\] LOG$/constexpr double K_END = 0.031671338916298516;   \\/\\/ OPTIMIZE [0.03, 0.1] LOG/' -e 's/^constexpr double K_H = .*;      \\/\\/ OPTIMIZE \\[0\\.001, 0\\.999\\]$/constexpr double K_H = 0.6507555327360847;      \\/\\/ OPTIMIZE [0.001, 0.999]/' -e 's/^constexpr short PURCHASE_TURN_LIMIT = .*;  \\/\\/ OPTIMIZE \\[790, 870\\]$/constexpr short PURCHASE_TURN_LIMIT = 858;  \\/\\/ OPTIMIZE [790, 870]/' -e 's/^constexpr int ROUGH_HASH = .*;      \\/\\/ OPTIMIZE {0, 0b00000001, 0b00010001, 0b00010011, 0b00110011}$/constexpr int ROUGH_HASH = 0b00000001;      \\/\\/ OPTIMIZE {0, 0b00000001, 0b00010001, 0b00010011, 0b00110011}/' -e 's/^constexpr double TARGET_BEAM_WIDTH_INCREASE_RATE = .*;      \\/\\/ OPTIMIZE \\[0\\.25, 4\\.0\\] LOG$/constexpr double TARGET_BEAM_WIDTH_INCREASE_RATE = 3.7863094430689137;      \\/\\/ OPTIMIZE [0.25, 4.0] LOG/' -e 's/^constexpr double TARGET_BEAM_WIDTH_HALF_PROGRES_RATE = .*;  \\/\\/ OPTIMIZE \\[0\\.02, 0\\.98\\]$/constexpr double TARGET_BEAM_WIDTH_HALF_PROGRES_RATE = 0.5305104788283171;  \\/\\/ OPTIMIZE [0.02, 0.98]/' -e 's/^constexpr auto MAX_BEAM_WIDTH = .*;                        \\/\\/ OPTIMIZE \\[400, 4000\\] LOG$/constexpr auto MAX_BEAM_WIDTH = 821;                        \\/\\/ OPTIMIZE [400, 4000] LOG/'\n",
      "g++ 6_main.cpp -std=gnu++17 -O2 -o 6_main.cpp.out 2> /dev/null\n"
     ]
    },
    {
     "name": "stderr",
     "output_type": "stream",
     "text": [
      "\u001b[32m[I 2021-09-11 13:52:50,238]\u001b[0m Trial 14 finished with value: 2474087880.0 and parameters: {'hash_table_size': 11, 'K_START': 0.07602775360891662, 'K_END': 0.06496890430237433, 'K_H': 0.9979561685396229, 'PURCHASE_TURN_LIMIT': 868, 'ROUGH_HASH': '0b00000001', 'TARGET_BEAM_WIDTH_INCREASE_RATE': 3.202182112283857, 'TARGET_BEAM_WIDTH_HALF_PROGRES_RATE': 0.8926920610809764, 'MAX_BEAM_WIDTH': 844}. Best is trial 5 with value: 2554896315.0.\u001b[0m\n"
     ]
    },
    {
     "name": "stdout",
     "output_type": "stream",
     "text": [
      "callback ok\n",
      "index_parallel=7\n",
      "sed -i 7_main.cpp -e 's/^constexpr int hash_table_size = .*;         \\/\\/ OPTIMIZE \\[6, 18\\]$/constexpr int hash_table_size = 14;         \\/\\/ OPTIMIZE [6, 18]/' -e 's/^constexpr double K_START = .*;  \\/\\/ OPTIMIZE \\[0\\.04, 0\\.2\\] LOG$/constexpr double K_START = 0.19044517992663743;  \\/\\/ OPTIMIZE [0.04, 0.2] LOG/' -e 's/^constexpr double K_END = .*;   \\/\\/ OPTIMIZE \\[0\\.03, 0\\.1\\] LOG$/constexpr double K_END = 0.03028809098119934;   \\/\\/ OPTIMIZE [0.03, 0.1] LOG/' -e 's/^constexpr double K_H = .*;      \\/\\/ OPTIMIZE \\[0\\.001, 0\\.999\\]$/constexpr double K_H = 0.6614608334093468;      \\/\\/ OPTIMIZE [0.001, 0.999]/' -e 's/^constexpr short PURCHASE_TURN_LIMIT = .*;  \\/\\/ OPTIMIZE \\[790, 870\\]$/constexpr short PURCHASE_TURN_LIMIT = 853;  \\/\\/ OPTIMIZE [790, 870]/' -e 's/^constexpr int ROUGH_HASH = .*;      \\/\\/ OPTIMIZE {0, 0b00000001, 0b00010001, 0b00010011, 0b00110011}$/constexpr int ROUGH_HASH = 0b00000001;      \\/\\/ OPTIMIZE {0, 0b00000001, 0b00010001, 0b00010011, 0b00110011}/' -e 's/^constexpr double TARGET_BEAM_WIDTH_INCREASE_RATE = .*;      \\/\\/ OPTIMIZE \\[0\\.25, 4\\.0\\] LOG$/constexpr double TARGET_BEAM_WIDTH_INCREASE_RATE = 3.8708119825987946;      \\/\\/ OPTIMIZE [0.25, 4.0] LOG/' -e 's/^constexpr double TARGET_BEAM_WIDTH_HALF_PROGRES_RATE = .*;  \\/\\/ OPTIMIZE \\[0\\.02, 0\\.98\\]$/constexpr double TARGET_BEAM_WIDTH_HALF_PROGRES_RATE = 0.5636251033930705;  \\/\\/ OPTIMIZE [0.02, 0.98]/' -e 's/^constexpr auto MAX_BEAM_WIDTH = .*;                        \\/\\/ OPTIMIZE \\[400, 4000\\] LOG$/constexpr auto MAX_BEAM_WIDTH = 760;                        \\/\\/ OPTIMIZE [400, 4000] LOG/'\n",
      "g++ 7_main.cpp -std=gnu++17 -O2 -o 7_main.cpp.out 2> /dev/null\n"
     ]
    },
    {
     "name": "stderr",
     "output_type": "stream",
     "text": [
      "\u001b[32m[I 2021-09-11 13:53:08,803]\u001b[0m Trial 15 finished with value: 2502350683.0 and parameters: {'hash_table_size': 11, 'K_START': 0.09079851564961362, 'K_END': 0.03108439795279348, 'K_H': 0.7643809597702157, 'PURCHASE_TURN_LIMIT': 851, 'ROUGH_HASH': '0b00000001', 'TARGET_BEAM_WIDTH_INCREASE_RATE': 3.9821325612463805, 'TARGET_BEAM_WIDTH_HALF_PROGRES_RATE': 0.5412202970905369, 'MAX_BEAM_WIDTH': 902}. Best is trial 5 with value: 2554896315.0.\u001b[0m\n"
     ]
    },
    {
     "name": "stdout",
     "output_type": "stream",
     "text": [
      "callback ok\n",
      "index_parallel=8\n",
      "sed -i 8_main.cpp -e 's/^constexpr int hash_table_size = .*;         \\/\\/ OPTIMIZE \\[6, 18\\]$/constexpr int hash_table_size = 14;         \\/\\/ OPTIMIZE [6, 18]/' -e 's/^constexpr double K_START = .*;  \\/\\/ OPTIMIZE \\[0\\.04, 0\\.2\\] LOG$/constexpr double K_START = 0.18733029791356068;  \\/\\/ OPTIMIZE [0.04, 0.2] LOG/' -e 's/^constexpr double K_END = .*;   \\/\\/ OPTIMIZE \\[0\\.03, 0\\.1\\] LOG$/constexpr double K_END = 0.03891619199214504;   \\/\\/ OPTIMIZE [0.03, 0.1] LOG/' -e 's/^constexpr double K_H = .*;      \\/\\/ OPTIMIZE \\[0\\.001, 0\\.999\\]$/constexpr double K_H = 0.5955386365737042;      \\/\\/ OPTIMIZE [0.001, 0.999]/' -e 's/^constexpr short PURCHASE_TURN_LIMIT = .*;  \\/\\/ OPTIMIZE \\[790, 870\\]$/constexpr short PURCHASE_TURN_LIMIT = 855;  \\/\\/ OPTIMIZE [790, 870]/' -e 's/^constexpr int ROUGH_HASH = .*;      \\/\\/ OPTIMIZE {0, 0b00000001, 0b00010001, 0b00010011, 0b00110011}$/constexpr int ROUGH_HASH = 0b00000001;      \\/\\/ OPTIMIZE {0, 0b00000001, 0b00010001, 0b00010011, 0b00110011}/' -e 's/^constexpr double TARGET_BEAM_WIDTH_INCREASE_RATE = .*;      \\/\\/ OPTIMIZE \\[0\\.25, 4\\.0\\] LOG$/constexpr double TARGET_BEAM_WIDTH_INCREASE_RATE = 1.6804497740742643;      \\/\\/ OPTIMIZE [0.25, 4.0] LOG/' -e 's/^constexpr double TARGET_BEAM_WIDTH_HALF_PROGRES_RATE = .*;  \\/\\/ OPTIMIZE \\[0\\.02, 0\\.98\\]$/constexpr double TARGET_BEAM_WIDTH_HALF_PROGRES_RATE = 0.6691124227140681;  \\/\\/ OPTIMIZE [0.02, 0.98]/' -e 's/^constexpr auto MAX_BEAM_WIDTH = .*;                        \\/\\/ OPTIMIZE \\[400, 4000\\] LOG$/constexpr auto MAX_BEAM_WIDTH = 1437;                        \\/\\/ OPTIMIZE [400, 4000] LOG/'\n",
      "g++ 8_main.cpp -std=gnu++17 -O2 -o 8_main.cpp.out 2> /dev/null\n"
     ]
    },
    {
     "name": "stderr",
     "output_type": "stream",
     "text": [
      "\u001b[32m[I 2021-09-11 13:53:13,303]\u001b[0m Trial 16 finished with value: 2516511992.0 and parameters: {'hash_table_size': 11, 'K_START': 0.19342979295648796, 'K_END': 0.033716317188790035, 'K_H': 0.6994730206428114, 'PURCHASE_TURN_LIMIT': 858, 'ROUGH_HASH': '0b00000001', 'TARGET_BEAM_WIDTH_INCREASE_RATE': 3.434910290111564, 'TARGET_BEAM_WIDTH_HALF_PROGRES_RATE': 0.5463991091503604, 'MAX_BEAM_WIDTH': 851}. Best is trial 5 with value: 2554896315.0.\u001b[0m\n"
     ]
    },
    {
     "name": "stdout",
     "output_type": "stream",
     "text": [
      "callback ok\n",
      "index_parallel=9\n",
      "sed -i 9_main.cpp -e 's/^constexpr int hash_table_size = .*;         \\/\\/ OPTIMIZE \\[6, 18\\]$/constexpr int hash_table_size = 14;         \\/\\/ OPTIMIZE [6, 18]/' -e 's/^constexpr double K_START = .*;  \\/\\/ OPTIMIZE \\[0\\.04, 0\\.2\\] LOG$/constexpr double K_START = 0.11964165271553516;  \\/\\/ OPTIMIZE [0.04, 0.2] LOG/' -e 's/^constexpr double K_END = .*;   \\/\\/ OPTIMIZE \\[0\\.03, 0\\.1\\] LOG$/constexpr double K_END = 0.03921892118957019;   \\/\\/ OPTIMIZE [0.03, 0.1] LOG/' -e 's/^constexpr double K_H = .*;      \\/\\/ OPTIMIZE \\[0\\.001, 0\\.999\\]$/constexpr double K_H = 0.5861220238642637;      \\/\\/ OPTIMIZE [0.001, 0.999]/' -e 's/^constexpr short PURCHASE_TURN_LIMIT = .*;  \\/\\/ OPTIMIZE \\[790, 870\\]$/constexpr short PURCHASE_TURN_LIMIT = 848;  \\/\\/ OPTIMIZE [790, 870]/' -e 's/^constexpr int ROUGH_HASH = .*;      \\/\\/ OPTIMIZE {0, 0b00000001, 0b00010001, 0b00010011, 0b00110011}$/constexpr int ROUGH_HASH = 0b00000001;      \\/\\/ OPTIMIZE {0, 0b00000001, 0b00010001, 0b00010011, 0b00110011}/' -e 's/^constexpr double TARGET_BEAM_WIDTH_INCREASE_RATE = .*;      \\/\\/ OPTIMIZE \\[0\\.25, 4\\.0\\] LOG$/constexpr double TARGET_BEAM_WIDTH_INCREASE_RATE = 1.7109606773423423;      \\/\\/ OPTIMIZE [0.25, 4.0] LOG/' -e 's/^constexpr double TARGET_BEAM_WIDTH_HALF_PROGRES_RATE = .*;  \\/\\/ OPTIMIZE \\[0\\.02, 0\\.98\\]$/constexpr double TARGET_BEAM_WIDTH_HALF_PROGRES_RATE = 0.6896698276401182;  \\/\\/ OPTIMIZE [0.02, 0.98]/' -e 's/^constexpr auto MAX_BEAM_WIDTH = .*;                        \\/\\/ OPTIMIZE \\[400, 4000\\] LOG$/constexpr auto MAX_BEAM_WIDTH = 1462;                        \\/\\/ OPTIMIZE [400, 4000] LOG/'\n",
      "g++ 9_main.cpp -std=gnu++17 -O2 -o 9_main.cpp.out 2> /dev/null\n"
     ]
    },
    {
     "name": "stderr",
     "output_type": "stream",
     "text": [
      "\u001b[32m[I 2021-09-11 13:55:55,477]\u001b[0m Trial 17 finished with value: 2517624753.0 and parameters: {'hash_table_size': 10, 'K_START': 0.19751847739746758, 'K_END': 0.06761863580368584, 'K_H': 0.9980335661231345, 'PURCHASE_TURN_LIMIT': 858, 'ROUGH_HASH': '0b00000001', 'TARGET_BEAM_WIDTH_INCREASE_RATE': 3.2415260736278753, 'TARGET_BEAM_WIDTH_HALF_PROGRES_RATE': 0.5874827411832905, 'MAX_BEAM_WIDTH': 924}. Best is trial 5 with value: 2554896315.0.\u001b[0m\n"
     ]
    },
    {
     "name": "stdout",
     "output_type": "stream",
     "text": [
      "callback ok\n",
      "index_parallel=10\n",
      "sed -i 10_main.cpp -e 's/^constexpr int hash_table_size = .*;         \\/\\/ OPTIMIZE \\[6, 18\\]$/constexpr int hash_table_size = 14;         \\/\\/ OPTIMIZE [6, 18]/' -e 's/^constexpr double K_START = .*;  \\/\\/ OPTIMIZE \\[0\\.04, 0\\.2\\] LOG$/constexpr double K_START = 0.11888732883542055;  \\/\\/ OPTIMIZE [0.04, 0.2] LOG/' -e 's/^constexpr double K_END = .*;   \\/\\/ OPTIMIZE \\[0\\.03, 0\\.1\\] LOG$/constexpr double K_END = 0.039826548182390537;   \\/\\/ OPTIMIZE [0.03, 0.1] LOG/' -e 's/^constexpr double K_H = .*;      \\/\\/ OPTIMIZE \\[0\\.001, 0\\.999\\]$/constexpr double K_H = 0.5690803354137245;      \\/\\/ OPTIMIZE [0.001, 0.999]/' -e 's/^constexpr short PURCHASE_TURN_LIMIT = .*;  \\/\\/ OPTIMIZE \\[790, 870\\]$/constexpr short PURCHASE_TURN_LIMIT = 826;  \\/\\/ OPTIMIZE [790, 870]/' -e 's/^constexpr int ROUGH_HASH = .*;      \\/\\/ OPTIMIZE {0, 0b00000001, 0b00010001, 0b00010011, 0b00110011}$/constexpr int ROUGH_HASH = 0b00000001;      \\/\\/ OPTIMIZE {0, 0b00000001, 0b00010001, 0b00010011, 0b00110011}/' -e 's/^constexpr double TARGET_BEAM_WIDTH_INCREASE_RATE = .*;      \\/\\/ OPTIMIZE \\[0\\.25, 4\\.0\\] LOG$/constexpr double TARGET_BEAM_WIDTH_INCREASE_RATE = 1.670839391212277;      \\/\\/ OPTIMIZE [0.25, 4.0] LOG/' -e 's/^constexpr double TARGET_BEAM_WIDTH_HALF_PROGRES_RATE = .*;  \\/\\/ OPTIMIZE \\[0\\.02, 0\\.98\\]$/constexpr double TARGET_BEAM_WIDTH_HALF_PROGRES_RATE = 0.6740837467772776;  \\/\\/ OPTIMIZE [0.02, 0.98]/' -e 's/^constexpr auto MAX_BEAM_WIDTH = .*;                        \\/\\/ OPTIMIZE \\[400, 4000\\] LOG$/constexpr auto MAX_BEAM_WIDTH = 1373;                        \\/\\/ OPTIMIZE [400, 4000] LOG/'\n",
      "g++ 10_main.cpp -std=gnu++17 -O2 -o 10_main.cpp.out 2> /dev/null\n"
     ]
    },
    {
     "name": "stderr",
     "output_type": "stream",
     "text": [
      "\u001b[32m[I 2021-09-11 13:57:16,570]\u001b[0m Trial 18 finished with value: 2514816202.0 and parameters: {'hash_table_size': 12, 'K_START': 0.19975623169436468, 'K_END': 0.031671338916298516, 'K_H': 0.6507555327360847, 'PURCHASE_TURN_LIMIT': 858, 'ROUGH_HASH': '0b00000001', 'TARGET_BEAM_WIDTH_INCREASE_RATE': 3.7863094430689137, 'TARGET_BEAM_WIDTH_HALF_PROGRES_RATE': 0.5305104788283171, 'MAX_BEAM_WIDTH': 821}. Best is trial 5 with value: 2554896315.0.\u001b[0m\n"
     ]
    },
    {
     "name": "stdout",
     "output_type": "stream",
     "text": [
      "callback ok\n",
      "index_parallel=11\n",
      "sed -i 11_main.cpp -e 's/^constexpr int hash_table_size = .*;         \\/\\/ OPTIMIZE \\[6, 18\\]$/constexpr int hash_table_size = 18;         \\/\\/ OPTIMIZE [6, 18]/' -e 's/^constexpr double K_START = .*;  \\/\\/ OPTIMIZE \\[0\\.04, 0\\.2\\] LOG$/constexpr double K_START = 0.11187137800353729;  \\/\\/ OPTIMIZE [0.04, 0.2] LOG/' -e 's/^constexpr double K_END = .*;   \\/\\/ OPTIMIZE \\[0\\.03, 0\\.1\\] LOG$/constexpr double K_END = 0.03800799462706413;   \\/\\/ OPTIMIZE [0.03, 0.1] LOG/' -e 's/^constexpr double K_H = .*;      \\/\\/ OPTIMIZE \\[0\\.001, 0\\.999\\]$/constexpr double K_H = 0.5482989145004329;      \\/\\/ OPTIMIZE [0.001, 0.999]/' -e 's/^constexpr short PURCHASE_TURN_LIMIT = .*;  \\/\\/ OPTIMIZE \\[790, 870\\]$/constexpr short PURCHASE_TURN_LIMIT = 824;  \\/\\/ OPTIMIZE [790, 870]/' -e 's/^constexpr int ROUGH_HASH = .*;      \\/\\/ OPTIMIZE {0, 0b00000001, 0b00010001, 0b00010011, 0b00110011}$/constexpr int ROUGH_HASH = 0b00000001;      \\/\\/ OPTIMIZE {0, 0b00000001, 0b00010001, 0b00010011, 0b00110011}/' -e 's/^constexpr double TARGET_BEAM_WIDTH_INCREASE_RATE = .*;      \\/\\/ OPTIMIZE \\[0\\.25, 4\\.0\\] LOG$/constexpr double TARGET_BEAM_WIDTH_INCREASE_RATE = 1.5716558686368591;      \\/\\/ OPTIMIZE [0.25, 4.0] LOG/' -e 's/^constexpr double TARGET_BEAM_WIDTH_HALF_PROGRES_RATE = .*;  \\/\\/ OPTIMIZE \\[0\\.02, 0\\.98\\]$/constexpr double TARGET_BEAM_WIDTH_HALF_PROGRES_RATE = 0.6840499231038901;  \\/\\/ OPTIMIZE [0.02, 0.98]/' -e 's/^constexpr auto MAX_BEAM_WIDTH = .*;                        \\/\\/ OPTIMIZE \\[400, 4000\\] LOG$/constexpr auto MAX_BEAM_WIDTH = 1365;                        \\/\\/ OPTIMIZE [400, 4000] LOG/'\n",
      "g++ 11_main.cpp -std=gnu++17 -O2 -o 11_main.cpp.out 2> /dev/null\n"
     ]
    },
    {
     "name": "stderr",
     "output_type": "stream",
     "text": [
      "\u001b[32m[I 2021-09-11 13:58:18,673]\u001b[0m Trial 19 finished with value: 2515775175.0 and parameters: {'hash_table_size': 14, 'K_START': 0.19044517992663743, 'K_END': 0.03028809098119934, 'K_H': 0.6614608334093468, 'PURCHASE_TURN_LIMIT': 853, 'ROUGH_HASH': '0b00000001', 'TARGET_BEAM_WIDTH_INCREASE_RATE': 3.8708119825987946, 'TARGET_BEAM_WIDTH_HALF_PROGRES_RATE': 0.5636251033930705, 'MAX_BEAM_WIDTH': 760}. Best is trial 5 with value: 2554896315.0.\u001b[0m\n"
     ]
    },
    {
     "name": "stdout",
     "output_type": "stream",
     "text": [
      "callback ok\n",
      "index_parallel=0\n",
      "sed -i 0_main.cpp -e 's/^constexpr int hash_table_size = .*;         \\/\\/ OPTIMIZE \\[6, 18\\]$/constexpr int hash_table_size = 18;         \\/\\/ OPTIMIZE [6, 18]/' -e 's/^constexpr double K_START = .*;  \\/\\/ OPTIMIZE \\[0\\.04, 0\\.2\\] LOG$/constexpr double K_START = 0.11491118459115977;  \\/\\/ OPTIMIZE [0.04, 0.2] LOG/' -e 's/^constexpr double K_END = .*;   \\/\\/ OPTIMIZE \\[0\\.03, 0\\.1\\] LOG$/constexpr double K_END = 0.040208588779977746;   \\/\\/ OPTIMIZE [0.03, 0.1] LOG/' -e 's/^constexpr double K_H = .*;      \\/\\/ OPTIMIZE \\[0\\.001, 0\\.999\\]$/constexpr double K_H = 0.5496720823740653;      \\/\\/ OPTIMIZE [0.001, 0.999]/' -e 's/^constexpr short PURCHASE_TURN_LIMIT = .*;  \\/\\/ OPTIMIZE \\[790, 870\\]$/constexpr short PURCHASE_TURN_LIMIT = 821;  \\/\\/ OPTIMIZE [790, 870]/' -e 's/^constexpr int ROUGH_HASH = .*;      \\/\\/ OPTIMIZE {0, 0b00000001, 0b00010001, 0b00010011, 0b00110011}$/constexpr int ROUGH_HASH = 0b00010001;      \\/\\/ OPTIMIZE {0, 0b00000001, 0b00010001, 0b00010011, 0b00110011}/' -e 's/^constexpr double TARGET_BEAM_WIDTH_INCREASE_RATE = .*;      \\/\\/ OPTIMIZE \\[0\\.25, 4\\.0\\] LOG$/constexpr double TARGET_BEAM_WIDTH_INCREASE_RATE = 1.672979626538461;      \\/\\/ OPTIMIZE [0.25, 4.0] LOG/' -e 's/^constexpr double TARGET_BEAM_WIDTH_HALF_PROGRES_RATE = .*;  \\/\\/ OPTIMIZE \\[0\\.02, 0\\.98\\]$/constexpr double TARGET_BEAM_WIDTH_HALF_PROGRES_RATE = 0.4249204270844622;  \\/\\/ OPTIMIZE [0.02, 0.98]/' -e 's/^constexpr auto MAX_BEAM_WIDTH = .*;                        \\/\\/ OPTIMIZE \\[400, 4000\\] LOG$/constexpr auto MAX_BEAM_WIDTH = 1303;                        \\/\\/ OPTIMIZE [400, 4000] LOG/'\n",
      "g++ 0_main.cpp -std=gnu++17 -O2 -o 0_main.cpp.out 2> /dev/null\n"
     ]
    },
    {
     "name": "stderr",
     "output_type": "stream",
     "text": [
      "\u001b[32m[I 2021-09-11 13:58:38,122]\u001b[0m Trial 20 finished with value: 2507282979.0 and parameters: {'hash_table_size': 14, 'K_START': 0.18733029791356068, 'K_END': 0.03891619199214504, 'K_H': 0.5955386365737042, 'PURCHASE_TURN_LIMIT': 855, 'ROUGH_HASH': '0b00000001', 'TARGET_BEAM_WIDTH_INCREASE_RATE': 1.6804497740742643, 'TARGET_BEAM_WIDTH_HALF_PROGRES_RATE': 0.6691124227140681, 'MAX_BEAM_WIDTH': 1437}. Best is trial 5 with value: 2554896315.0.\u001b[0m\n"
     ]
    },
    {
     "name": "stdout",
     "output_type": "stream",
     "text": [
      "callback ok\n",
      "index_parallel=1\n",
      "sed -i 1_main.cpp -e 's/^constexpr int hash_table_size = .*;         \\/\\/ OPTIMIZE \\[6, 18\\]$/constexpr int hash_table_size = 9;         \\/\\/ OPTIMIZE [6, 18]/' -e 's/^constexpr double K_START = .*;  \\/\\/ OPTIMIZE \\[0\\.04, 0\\.2\\] LOG$/constexpr double K_START = 0.13936573006567626;  \\/\\/ OPTIMIZE [0.04, 0.2] LOG/' -e 's/^constexpr double K_END = .*;   \\/\\/ OPTIMIZE \\[0\\.03, 0\\.1\\] LOG$/constexpr double K_END = 0.06774960938678369;   \\/\\/ OPTIMIZE [0.03, 0.1] LOG/' -e 's/^constexpr double K_H = .*;      \\/\\/ OPTIMIZE \\[0\\.001, 0\\.999\\]$/constexpr double K_H = 0.9290003284885541;      \\/\\/ OPTIMIZE [0.001, 0.999]/' -e 's/^constexpr short PURCHASE_TURN_LIMIT = .*;  \\/\\/ OPTIMIZE \\[790, 870\\]$/constexpr short PURCHASE_TURN_LIMIT = 842;  \\/\\/ OPTIMIZE [790, 870]/' -e 's/^constexpr int ROUGH_HASH = .*;      \\/\\/ OPTIMIZE {0, 0b00000001, 0b00010001, 0b00010011, 0b00110011}$/constexpr int ROUGH_HASH = 0b00000001;      \\/\\/ OPTIMIZE {0, 0b00000001, 0b00010001, 0b00010011, 0b00110011}/' -e 's/^constexpr double TARGET_BEAM_WIDTH_INCREASE_RATE = .*;      \\/\\/ OPTIMIZE \\[0\\.25, 4\\.0\\] LOG$/constexpr double TARGET_BEAM_WIDTH_INCREASE_RATE = 2.606460262991655;      \\/\\/ OPTIMIZE [0.25, 4.0] LOG/' -e 's/^constexpr double TARGET_BEAM_WIDTH_HALF_PROGRES_RATE = .*;  \\/\\/ OPTIMIZE \\[0\\.02, 0\\.98\\]$/constexpr double TARGET_BEAM_WIDTH_HALF_PROGRES_RATE = 0.41620897794121975;  \\/\\/ OPTIMIZE [0.02, 0.98]/' -e 's/^constexpr auto MAX_BEAM_WIDTH = .*;                        \\/\\/ OPTIMIZE \\[400, 4000\\] LOG$/constexpr auto MAX_BEAM_WIDTH = 416;                        \\/\\/ OPTIMIZE [400, 4000] LOG/'\n",
      "g++ 1_main.cpp -std=gnu++17 -O2 -o 1_main.cpp.out 2> /dev/null\n"
     ]
    },
    {
     "name": "stderr",
     "output_type": "stream",
     "text": [
      "\u001b[32m[I 2021-09-11 13:58:42,621]\u001b[0m Trial 21 finished with value: 2522738300.0 and parameters: {'hash_table_size': 14, 'K_START': 0.11964165271553516, 'K_END': 0.03921892118957019, 'K_H': 0.5861220238642637, 'PURCHASE_TURN_LIMIT': 848, 'ROUGH_HASH': '0b00000001', 'TARGET_BEAM_WIDTH_INCREASE_RATE': 1.7109606773423423, 'TARGET_BEAM_WIDTH_HALF_PROGRES_RATE': 0.6896698276401182, 'MAX_BEAM_WIDTH': 1462}. Best is trial 5 with value: 2554896315.0.\u001b[0m\n"
     ]
    },
    {
     "name": "stdout",
     "output_type": "stream",
     "text": [
      "callback ok\n",
      "index_parallel=2\n",
      "sed -i 2_main.cpp -e 's/^constexpr int hash_table_size = .*;         \\/\\/ OPTIMIZE \\[6, 18\\]$/constexpr int hash_table_size = 15;         \\/\\/ OPTIMIZE [6, 18]/' -e 's/^constexpr double K_START = .*;  \\/\\/ OPTIMIZE \\[0\\.04, 0\\.2\\] LOG$/constexpr double K_START = 0.11660736161824753;  \\/\\/ OPTIMIZE [0.04, 0.2] LOG/' -e 's/^constexpr double K_END = .*;   \\/\\/ OPTIMIZE \\[0\\.03, 0\\.1\\] LOG$/constexpr double K_END = 0.03982000469461256;   \\/\\/ OPTIMIZE [0.03, 0.1] LOG/' -e 's/^constexpr double K_H = .*;      \\/\\/ OPTIMIZE \\[0\\.001, 0\\.999\\]$/constexpr double K_H = 0.5073881318527202;      \\/\\/ OPTIMIZE [0.001, 0.999]/' -e 's/^constexpr short PURCHASE_TURN_LIMIT = .*;  \\/\\/ OPTIMIZE \\[790, 870\\]$/constexpr short PURCHASE_TURN_LIMIT = 844;  \\/\\/ OPTIMIZE [790, 870]/' -e 's/^constexpr int ROUGH_HASH = .*;      \\/\\/ OPTIMIZE {0, 0b00000001, 0b00010001, 0b00010011, 0b00110011}$/constexpr int ROUGH_HASH = 0b00010001;      \\/\\/ OPTIMIZE {0, 0b00000001, 0b00010001, 0b00010011, 0b00110011}/' -e 's/^constexpr double TARGET_BEAM_WIDTH_INCREASE_RATE = .*;      \\/\\/ OPTIMIZE \\[0\\.25, 4\\.0\\] LOG$/constexpr double TARGET_BEAM_WIDTH_INCREASE_RATE = 2.3044855116527554;      \\/\\/ OPTIMIZE [0.25, 4.0] LOG/' -e 's/^constexpr double TARGET_BEAM_WIDTH_HALF_PROGRES_RATE = .*;  \\/\\/ OPTIMIZE \\[0\\.02, 0\\.98\\]$/constexpr double TARGET_BEAM_WIDTH_HALF_PROGRES_RATE = 0.698351803215614;  \\/\\/ OPTIMIZE [0.02, 0.98]/' -e 's/^constexpr auto MAX_BEAM_WIDTH = .*;                        \\/\\/ OPTIMIZE \\[400, 4000\\] LOG$/constexpr auto MAX_BEAM_WIDTH = 1355;                        \\/\\/ OPTIMIZE [400, 4000] LOG/'\n",
      "g++ 2_main.cpp -std=gnu++17 -O2 -o 2_main.cpp.out 2> /dev/null\n"
     ]
    },
    {
     "name": "stderr",
     "output_type": "stream",
     "text": [
      "\u001b[32m[I 2021-09-11 14:01:22,428]\u001b[0m Trial 22 finished with value: 2532855791.0 and parameters: {'hash_table_size': 14, 'K_START': 0.11888732883542055, 'K_END': 0.039826548182390537, 'K_H': 0.5690803354137245, 'PURCHASE_TURN_LIMIT': 826, 'ROUGH_HASH': '0b00000001', 'TARGET_BEAM_WIDTH_INCREASE_RATE': 1.670839391212277, 'TARGET_BEAM_WIDTH_HALF_PROGRES_RATE': 0.6740837467772776, 'MAX_BEAM_WIDTH': 1373}. Best is trial 5 with value: 2554896315.0.\u001b[0m\n"
     ]
    },
    {
     "name": "stdout",
     "output_type": "stream",
     "text": [
      "callback ok\n",
      "index_parallel=3\n",
      "sed -i 3_main.cpp -e 's/^constexpr int hash_table_size = .*;         \\/\\/ OPTIMIZE \\[6, 18\\]$/constexpr int hash_table_size = 13;         \\/\\/ OPTIMIZE [6, 18]/' -e 's/^constexpr double K_START = .*;  \\/\\/ OPTIMIZE \\[0\\.04, 0\\.2\\] LOG$/constexpr double K_START = 0.11465727577052863;  \\/\\/ OPTIMIZE [0.04, 0.2] LOG/' -e 's/^constexpr double K_END = .*;   \\/\\/ OPTIMIZE \\[0\\.03, 0\\.1\\] LOG$/constexpr double K_END = 0.04041459164865729;   \\/\\/ OPTIMIZE [0.03, 0.1] LOG/' -e 's/^constexpr double K_H = .*;      \\/\\/ OPTIMIZE \\[0\\.001, 0\\.999\\]$/constexpr double K_H = 0.5184678272748175;      \\/\\/ OPTIMIZE [0.001, 0.999]/' -e 's/^constexpr short PURCHASE_TURN_LIMIT = .*;  \\/\\/ OPTIMIZE \\[790, 870\\]$/constexpr short PURCHASE_TURN_LIMIT = 844;  \\/\\/ OPTIMIZE [790, 870]/' -e 's/^constexpr int ROUGH_HASH = .*;      \\/\\/ OPTIMIZE {0, 0b00000001, 0b00010001, 0b00010011, 0b00110011}$/constexpr int ROUGH_HASH = 0b00010001;      \\/\\/ OPTIMIZE {0, 0b00000001, 0b00010001, 0b00010011, 0b00110011}/' -e 's/^constexpr double TARGET_BEAM_WIDTH_INCREASE_RATE = .*;      \\/\\/ OPTIMIZE \\[0\\.25, 4\\.0\\] LOG$/constexpr double TARGET_BEAM_WIDTH_INCREASE_RATE = 1.4889879721687398;      \\/\\/ OPTIMIZE [0.25, 4.0] LOG/' -e 's/^constexpr double TARGET_BEAM_WIDTH_HALF_PROGRES_RATE = .*;  \\/\\/ OPTIMIZE \\[0\\.02, 0\\.98\\]$/constexpr double TARGET_BEAM_WIDTH_HALF_PROGRES_RATE = 0.41853004673594413;  \\/\\/ OPTIMIZE [0.02, 0.98]/' -e 's/^constexpr auto MAX_BEAM_WIDTH = .*;                        \\/\\/ OPTIMIZE \\[400, 4000\\] LOG$/constexpr auto MAX_BEAM_WIDTH = 1392;                        \\/\\/ OPTIMIZE [400, 4000] LOG/'\n",
      "g++ 3_main.cpp -std=gnu++17 -O2 -o 3_main.cpp.out 2> /dev/null\n"
     ]
    },
    {
     "name": "stderr",
     "output_type": "stream",
     "text": [
      "\u001b[32m[I 2021-09-11 14:02:43,501]\u001b[0m Trial 23 finished with value: 2512678989.0 and parameters: {'hash_table_size': 18, 'K_START': 0.11187137800353729, 'K_END': 0.03800799462706413, 'K_H': 0.5482989145004329, 'PURCHASE_TURN_LIMIT': 824, 'ROUGH_HASH': '0b00000001', 'TARGET_BEAM_WIDTH_INCREASE_RATE': 1.5716558686368591, 'TARGET_BEAM_WIDTH_HALF_PROGRES_RATE': 0.6840499231038901, 'MAX_BEAM_WIDTH': 1365}. Best is trial 5 with value: 2554896315.0.\u001b[0m\n"
     ]
    },
    {
     "name": "stdout",
     "output_type": "stream",
     "text": [
      "callback ok\n",
      "index_parallel=4\n",
      "sed -i 4_main.cpp -e 's/^constexpr int hash_table_size = .*;         \\/\\/ OPTIMIZE \\[6, 18\\]$/constexpr int hash_table_size = 13;         \\/\\/ OPTIMIZE [6, 18]/' -e 's/^constexpr double K_START = .*;  \\/\\/ OPTIMIZE \\[0\\.04, 0\\.2\\] LOG$/constexpr double K_START = 0.1130030375472871;  \\/\\/ OPTIMIZE [0.04, 0.2] LOG/' -e 's/^constexpr double K_END = .*;   \\/\\/ OPTIMIZE \\[0\\.03, 0\\.1\\] LOG$/constexpr double K_END = 0.04183141225837629;   \\/\\/ OPTIMIZE [0.03, 0.1] LOG/' -e 's/^constexpr double K_H = .*;      \\/\\/ OPTIMIZE \\[0\\.001, 0\\.999\\]$/constexpr double K_H = 0.4881228316516552;      \\/\\/ OPTIMIZE [0.001, 0.999]/' -e 's/^constexpr short PURCHASE_TURN_LIMIT = .*;  \\/\\/ OPTIMIZE \\[790, 870\\]$/constexpr short PURCHASE_TURN_LIMIT = 845;  \\/\\/ OPTIMIZE [790, 870]/' -e 's/^constexpr int ROUGH_HASH = .*;      \\/\\/ OPTIMIZE {0, 0b00000001, 0b00010001, 0b00010011, 0b00110011}$/constexpr int ROUGH_HASH = 0b00010001;      \\/\\/ OPTIMIZE {0, 0b00000001, 0b00010001, 0b00010011, 0b00110011}/' -e 's/^constexpr double TARGET_BEAM_WIDTH_INCREASE_RATE = .*;      \\/\\/ OPTIMIZE \\[0\\.25, 4\\.0\\] LOG$/constexpr double TARGET_BEAM_WIDTH_INCREASE_RATE = 1.226296828103247;      \\/\\/ OPTIMIZE [0.25, 4.0] LOG/' -e 's/^constexpr double TARGET_BEAM_WIDTH_HALF_PROGRES_RATE = .*;  \\/\\/ OPTIMIZE \\[0\\.02, 0\\.98\\]$/constexpr double TARGET_BEAM_WIDTH_HALF_PROGRES_RATE = 0.4333828460652944;  \\/\\/ OPTIMIZE [0.02, 0.98]/' -e 's/^constexpr auto MAX_BEAM_WIDTH = .*;                        \\/\\/ OPTIMIZE \\[400, 4000\\] LOG$/constexpr auto MAX_BEAM_WIDTH = 419;                        \\/\\/ OPTIMIZE [400, 4000] LOG/'\n",
      "g++ 4_main.cpp -std=gnu++17 -O2 -o 4_main.cpp.out 2> /dev/null\n"
     ]
    },
    {
     "name": "stderr",
     "output_type": "stream",
     "text": [
      "\u001b[32m[I 2021-09-11 14:03:58,468]\u001b[0m Trial 25 finished with value: 2545153915.0 and parameters: {'hash_table_size': 9, 'K_START': 0.13936573006567626, 'K_END': 0.06774960938678369, 'K_H': 0.9290003284885541, 'PURCHASE_TURN_LIMIT': 842, 'ROUGH_HASH': '0b00000001', 'TARGET_BEAM_WIDTH_INCREASE_RATE': 2.606460262991655, 'TARGET_BEAM_WIDTH_HALF_PROGRES_RATE': 0.41620897794121975, 'MAX_BEAM_WIDTH': 416}. Best is trial 5 with value: 2554896315.0.\u001b[0m\n"
     ]
    },
    {
     "name": "stdout",
     "output_type": "stream",
     "text": [
      "callback ok\n",
      "index_parallel=5\n",
      "sed -i 5_main.cpp -e 's/^constexpr int hash_table_size = .*;         \\/\\/ OPTIMIZE \\[6, 18\\]$/constexpr int hash_table_size = 8;         \\/\\/ OPTIMIZE [6, 18]/' -e 's/^constexpr double K_START = .*;  \\/\\/ OPTIMIZE \\[0\\.04, 0\\.2\\] LOG$/constexpr double K_START = 0.14692083588133228;  \\/\\/ OPTIMIZE [0.04, 0.2] LOG/' -e 's/^constexpr double K_END = .*;   \\/\\/ OPTIMIZE \\[0\\.03, 0\\.1\\] LOG$/constexpr double K_END = 0.06076805595789326;   \\/\\/ OPTIMIZE [0.03, 0.1] LOG/' -e 's/^constexpr double K_H = .*;      \\/\\/ OPTIMIZE \\[0\\.001, 0\\.999\\]$/constexpr double K_H = 0.8652180300972785;      \\/\\/ OPTIMIZE [0.001, 0.999]/' -e 's/^constexpr short PURCHASE_TURN_LIMIT = .*;  \\/\\/ OPTIMIZE \\[790, 870\\]$/constexpr short PURCHASE_TURN_LIMIT = 842;  \\/\\/ OPTIMIZE [790, 870]/' -e 's/^constexpr int ROUGH_HASH = .*;      \\/\\/ OPTIMIZE {0, 0b00000001, 0b00010001, 0b00010011, 0b00110011}$/constexpr int ROUGH_HASH = 0b00010001;      \\/\\/ OPTIMIZE {0, 0b00000001, 0b00010001, 0b00010011, 0b00110011}/' -e 's/^constexpr double TARGET_BEAM_WIDTH_INCREASE_RATE = .*;      \\/\\/ OPTIMIZE \\[0\\.25, 4\\.0\\] LOG$/constexpr double TARGET_BEAM_WIDTH_INCREASE_RATE = 2.6799591616987977;      \\/\\/ OPTIMIZE [0.25, 4.0] LOG/' -e 's/^constexpr double TARGET_BEAM_WIDTH_HALF_PROGRES_RATE = .*;  \\/\\/ OPTIMIZE \\[0\\.02, 0\\.98\\]$/constexpr double TARGET_BEAM_WIDTH_HALF_PROGRES_RATE = 0.4214618908245542;  \\/\\/ OPTIMIZE [0.02, 0.98]/' -e 's/^constexpr auto MAX_BEAM_WIDTH = .*;                        \\/\\/ OPTIMIZE \\[400, 4000\\] LOG$/constexpr auto MAX_BEAM_WIDTH = 440;                        \\/\\/ OPTIMIZE [400, 4000] LOG/'\n",
      "g++ 5_main.cpp -std=gnu++17 -O2 -o 5_main.cpp.out 2> /dev/null\n"
     ]
    },
    {
     "name": "stderr",
     "output_type": "stream",
     "text": [
      "\u001b[32m[I 2021-09-11 14:04:00,421]\u001b[0m Trial 24 finished with value: 2491840972.0 and parameters: {'hash_table_size': 18, 'K_START': 0.11491118459115977, 'K_END': 0.040208588779977746, 'K_H': 0.5496720823740653, 'PURCHASE_TURN_LIMIT': 821, 'ROUGH_HASH': '0b00010001', 'TARGET_BEAM_WIDTH_INCREASE_RATE': 1.672979626538461, 'TARGET_BEAM_WIDTH_HALF_PROGRES_RATE': 0.4249204270844622, 'MAX_BEAM_WIDTH': 1303}. Best is trial 5 with value: 2554896315.0.\u001b[0m\n"
     ]
    },
    {
     "name": "stdout",
     "output_type": "stream",
     "text": [
      "callback ok\n",
      "index_parallel=6\n",
      "sed -i 6_main.cpp -e 's/^constexpr int hash_table_size = .*;         \\/\\/ OPTIMIZE \\[6, 18\\]$/constexpr int hash_table_size = 8;         \\/\\/ OPTIMIZE [6, 18]/' -e 's/^constexpr double K_START = .*;  \\/\\/ OPTIMIZE \\[0\\.04, 0\\.2\\] LOG$/constexpr double K_START = 0.14859079412090892;  \\/\\/ OPTIMIZE [0.04, 0.2] LOG/' -e 's/^constexpr double K_END = .*;   \\/\\/ OPTIMIZE \\[0\\.03, 0\\.1\\] LOG$/constexpr double K_END = 0.06043614007886569;   \\/\\/ OPTIMIZE [0.03, 0.1] LOG/' -e 's/^constexpr double K_H = .*;      \\/\\/ OPTIMIZE \\[0\\.001, 0\\.999\\]$/constexpr double K_H = 0.8778739291440917;      \\/\\/ OPTIMIZE [0.001, 0.999]/' -e 's/^constexpr short PURCHASE_TURN_LIMIT = .*;  \\/\\/ OPTIMIZE \\[790, 870\\]$/constexpr short PURCHASE_TURN_LIMIT = 844;  \\/\\/ OPTIMIZE [790, 870]/' -e 's/^constexpr int ROUGH_HASH = .*;      \\/\\/ OPTIMIZE {0, 0b00000001, 0b00010001, 0b00010011, 0b00110011}$/constexpr int ROUGH_HASH = 0b00010001;      \\/\\/ OPTIMIZE {0, 0b00000001, 0b00010001, 0b00010011, 0b00110011}/' -e 's/^constexpr double TARGET_BEAM_WIDTH_INCREASE_RATE = .*;      \\/\\/ OPTIMIZE \\[0\\.25, 4\\.0\\] LOG$/constexpr double TARGET_BEAM_WIDTH_INCREASE_RATE = 2.7789310271896333;      \\/\\/ OPTIMIZE [0.25, 4.0] LOG/' -e 's/^constexpr double TARGET_BEAM_WIDTH_HALF_PROGRES_RATE = .*;  \\/\\/ OPTIMIZE \\[0\\.02, 0\\.98\\]$/constexpr double TARGET_BEAM_WIDTH_HALF_PROGRES_RATE = 0.4478483775195061;  \\/\\/ OPTIMIZE [0.02, 0.98]/' -e 's/^constexpr auto MAX_BEAM_WIDTH = .*;                        \\/\\/ OPTIMIZE \\[400, 4000\\] LOG$/constexpr auto MAX_BEAM_WIDTH = 418;                        \\/\\/ OPTIMIZE [400, 4000] LOG/'\n",
      "g++ 6_main.cpp -std=gnu++17 -O2 -o 6_main.cpp.out 2> /dev/null\n"
     ]
    },
    {
     "name": "stderr",
     "output_type": "stream",
     "text": [
      "\u001b[32m[I 2021-09-11 14:04:10,185]\u001b[0m Trial 26 finished with value: 2522604133.0 and parameters: {'hash_table_size': 15, 'K_START': 0.11660736161824753, 'K_END': 0.03982000469461256, 'K_H': 0.5073881318527202, 'PURCHASE_TURN_LIMIT': 844, 'ROUGH_HASH': '0b00010001', 'TARGET_BEAM_WIDTH_INCREASE_RATE': 2.3044855116527554, 'TARGET_BEAM_WIDTH_HALF_PROGRES_RATE': 0.698351803215614, 'MAX_BEAM_WIDTH': 1355}. Best is trial 5 with value: 2554896315.0.\u001b[0m\n"
     ]
    },
    {
     "name": "stdout",
     "output_type": "stream",
     "text": [
      "callback ok\n",
      "index_parallel=7\n",
      "sed -i 7_main.cpp -e 's/^constexpr int hash_table_size = .*;         \\/\\/ OPTIMIZE \\[6, 18\\]$/constexpr int hash_table_size = 8;         \\/\\/ OPTIMIZE [6, 18]/' -e 's/^constexpr double K_START = .*;  \\/\\/ OPTIMIZE \\[0\\.04, 0\\.2\\] LOG$/constexpr double K_START = 0.15026828828730823;  \\/\\/ OPTIMIZE [0.04, 0.2] LOG/' -e 's/^constexpr double K_END = .*;   \\/\\/ OPTIMIZE \\[0\\.03, 0\\.1\\] LOG$/constexpr double K_END = 0.06116744510863606;   \\/\\/ OPTIMIZE [0.03, 0.1] LOG/' -e 's/^constexpr double K_H = .*;      \\/\\/ OPTIMIZE \\[0\\.001, 0\\.999\\]$/constexpr double K_H = 0.8291593404265977;      \\/\\/ OPTIMIZE [0.001, 0.999]/' -e 's/^constexpr short PURCHASE_TURN_LIMIT = .*;  \\/\\/ OPTIMIZE \\[790, 870\\]$/constexpr short PURCHASE_TURN_LIMIT = 841;  \\/\\/ OPTIMIZE [790, 870]/' -e 's/^constexpr int ROUGH_HASH = .*;      \\/\\/ OPTIMIZE {0, 0b00000001, 0b00010001, 0b00010011, 0b00110011}$/constexpr int ROUGH_HASH = 0b00000001;      \\/\\/ OPTIMIZE {0, 0b00000001, 0b00010001, 0b00010011, 0b00110011}/' -e 's/^constexpr double TARGET_BEAM_WIDTH_INCREASE_RATE = .*;      \\/\\/ OPTIMIZE \\[0\\.25, 4\\.0\\] LOG$/constexpr double TARGET_BEAM_WIDTH_INCREASE_RATE = 1.270868198579261;      \\/\\/ OPTIMIZE [0.25, 4.0] LOG/' -e 's/^constexpr double TARGET_BEAM_WIDTH_HALF_PROGRES_RATE = .*;  \\/\\/ OPTIMIZE \\[0\\.02, 0\\.98\\]$/constexpr double TARGET_BEAM_WIDTH_HALF_PROGRES_RATE = 0.40802619602473;  \\/\\/ OPTIMIZE [0.02, 0.98]/' -e 's/^constexpr auto MAX_BEAM_WIDTH = .*;                        \\/\\/ OPTIMIZE \\[400, 4000\\] LOG$/constexpr auto MAX_BEAM_WIDTH = 406;                        \\/\\/ OPTIMIZE [400, 4000] LOG/'\n",
      "g++ 7_main.cpp -std=gnu++17 -O2 -o 7_main.cpp.out 2> /dev/null\n"
     ]
    },
    {
     "name": "stderr",
     "output_type": "stream",
     "text": [
      "\u001b[32m[I 2021-09-11 14:07:03,301]\u001b[0m Trial 27 finished with value: 2515468654.0 and parameters: {'hash_table_size': 13, 'K_START': 0.11465727577052863, 'K_END': 0.04041459164865729, 'K_H': 0.5184678272748175, 'PURCHASE_TURN_LIMIT': 844, 'ROUGH_HASH': '0b00010001', 'TARGET_BEAM_WIDTH_INCREASE_RATE': 1.4889879721687398, 'TARGET_BEAM_WIDTH_HALF_PROGRES_RATE': 0.41853004673594413, 'MAX_BEAM_WIDTH': 1392}. Best is trial 5 with value: 2554896315.0.\u001b[0m\n"
     ]
    },
    {
     "name": "stdout",
     "output_type": "stream",
     "text": [
      "callback ok\n",
      "index_parallel=8\n",
      "sed -i 8_main.cpp -e 's/^constexpr int hash_table_size = .*;         \\/\\/ OPTIMIZE \\[6, 18\\]$/constexpr int hash_table_size = 8;         \\/\\/ OPTIMIZE [6, 18]/' -e 's/^constexpr double K_START = .*;  \\/\\/ OPTIMIZE \\[0\\.04, 0\\.2\\] LOG$/constexpr double K_START = 0.14754426745562763;  \\/\\/ OPTIMIZE [0.04, 0.2] LOG/' -e 's/^constexpr double K_END = .*;   \\/\\/ OPTIMIZE \\[0\\.03, 0\\.1\\] LOG$/constexpr double K_END = 0.05959407554656947;   \\/\\/ OPTIMIZE [0.03, 0.1] LOG/' -e 's/^constexpr double K_H = .*;      \\/\\/ OPTIMIZE \\[0\\.001, 0\\.999\\]$/constexpr double K_H = 0.9054799795140227;      \\/\\/ OPTIMIZE [0.001, 0.999]/' -e 's/^constexpr short PURCHASE_TURN_LIMIT = .*;  \\/\\/ OPTIMIZE \\[790, 870\\]$/constexpr short PURCHASE_TURN_LIMIT = 830;  \\/\\/ OPTIMIZE [790, 870]/' -e 's/^constexpr int ROUGH_HASH = .*;      \\/\\/ OPTIMIZE {0, 0b00000001, 0b00010001, 0b00010011, 0b00110011}$/constexpr int ROUGH_HASH = 0b00000001;      \\/\\/ OPTIMIZE {0, 0b00000001, 0b00010001, 0b00010011, 0b00110011}/' -e 's/^constexpr double TARGET_BEAM_WIDTH_INCREASE_RATE = .*;      \\/\\/ OPTIMIZE \\[0\\.25, 4\\.0\\] LOG$/constexpr double TARGET_BEAM_WIDTH_INCREASE_RATE = 2.6200633317905333;      \\/\\/ OPTIMIZE [0.25, 4.0] LOG/' -e 's/^constexpr double TARGET_BEAM_WIDTH_HALF_PROGRES_RATE = .*;  \\/\\/ OPTIMIZE \\[0\\.02, 0\\.98\\]$/constexpr double TARGET_BEAM_WIDTH_HALF_PROGRES_RATE = 0.4341195553610038;  \\/\\/ OPTIMIZE [0.02, 0.98]/' -e 's/^constexpr auto MAX_BEAM_WIDTH = .*;                        \\/\\/ OPTIMIZE \\[400, 4000\\] LOG$/constexpr auto MAX_BEAM_WIDTH = 420;                        \\/\\/ OPTIMIZE [400, 4000] LOG/'\n",
      "g++ 8_main.cpp -std=gnu++17 -O2 -o 8_main.cpp.out 2> /dev/null\n"
     ]
    },
    {
     "name": "stderr",
     "output_type": "stream",
     "text": [
      "\u001b[32m[I 2021-09-11 14:08:00,015]\u001b[0m Trial 29 finished with value: 2534710206.0 and parameters: {'hash_table_size': 8, 'K_START': 0.14692083588133228, 'K_END': 0.06076805595789326, 'K_H': 0.8652180300972785, 'PURCHASE_TURN_LIMIT': 842, 'ROUGH_HASH': '0b00010001', 'TARGET_BEAM_WIDTH_INCREASE_RATE': 2.6799591616987977, 'TARGET_BEAM_WIDTH_HALF_PROGRES_RATE': 0.4214618908245542, 'MAX_BEAM_WIDTH': 440}. Best is trial 5 with value: 2554896315.0.\u001b[0m\n"
     ]
    },
    {
     "name": "stdout",
     "output_type": "stream",
     "text": [
      "callback ok\n",
      "index_parallel=9\n",
      "sed -i 9_main.cpp -e 's/^constexpr int hash_table_size = .*;         \\/\\/ OPTIMIZE \\[6, 18\\]$/constexpr int hash_table_size = 8;         \\/\\/ OPTIMIZE [6, 18]/' -e 's/^constexpr double K_START = .*;  \\/\\/ OPTIMIZE \\[0\\.04, 0\\.2\\] LOG$/constexpr double K_START = 0.15078105576080192;  \\/\\/ OPTIMIZE [0.04, 0.2] LOG/' -e 's/^constexpr double K_END = .*;   \\/\\/ OPTIMIZE \\[0\\.03, 0\\.1\\] LOG$/constexpr double K_END = 0.07536438669641639;   \\/\\/ OPTIMIZE [0.03, 0.1] LOG/' -e 's/^constexpr double K_H = .*;      \\/\\/ OPTIMIZE \\[0\\.001, 0\\.999\\]$/constexpr double K_H = 0.9411032294062633;      \\/\\/ OPTIMIZE [0.001, 0.999]/' -e 's/^constexpr short PURCHASE_TURN_LIMIT = .*;  \\/\\/ OPTIMIZE \\[790, 870\\]$/constexpr short PURCHASE_TURN_LIMIT = 832;  \\/\\/ OPTIMIZE [790, 870]/' -e 's/^constexpr int ROUGH_HASH = .*;      \\/\\/ OPTIMIZE {0, 0b00000001, 0b00010001, 0b00010011, 0b00110011}$/constexpr int ROUGH_HASH = 0b00010001;      \\/\\/ OPTIMIZE {0, 0b00000001, 0b00010001, 0b00010011, 0b00110011}/' -e 's/^constexpr double TARGET_BEAM_WIDTH_INCREASE_RATE = .*;      \\/\\/ OPTIMIZE \\[0\\.25, 4\\.0\\] LOG$/constexpr double TARGET_BEAM_WIDTH_INCREASE_RATE = 2.785323558265573;      \\/\\/ OPTIMIZE [0.25, 4.0] LOG/' -e 's/^constexpr double TARGET_BEAM_WIDTH_HALF_PROGRES_RATE = .*;  \\/\\/ OPTIMIZE \\[0\\.02, 0\\.98\\]$/constexpr double TARGET_BEAM_WIDTH_HALF_PROGRES_RATE = 0.4288262179885655;  \\/\\/ OPTIMIZE [0.02, 0.98]/' -e 's/^constexpr auto MAX_BEAM_WIDTH = .*;                        \\/\\/ OPTIMIZE \\[400, 4000\\] LOG$/constexpr auto MAX_BEAM_WIDTH = 401;                        \\/\\/ OPTIMIZE [400, 4000] LOG/'\n",
      "g++ 9_main.cpp -std=gnu++17 -O2 -o 9_main.cpp.out 2> /dev/null\n"
     ]
    },
    {
     "name": "stderr",
     "output_type": "stream",
     "text": [
      "\u001b[32m[I 2021-09-11 14:08:07,565]\u001b[0m Trial 31 finished with value: 2523338084.0 and parameters: {'hash_table_size': 8, 'K_START': 0.15026828828730823, 'K_END': 0.06116744510863606, 'K_H': 0.8291593404265977, 'PURCHASE_TURN_LIMIT': 841, 'ROUGH_HASH': '0b00000001', 'TARGET_BEAM_WIDTH_INCREASE_RATE': 1.270868198579261, 'TARGET_BEAM_WIDTH_HALF_PROGRES_RATE': 0.40802619602473, 'MAX_BEAM_WIDTH': 406}. Best is trial 5 with value: 2554896315.0.\u001b[0m\n"
     ]
    },
    {
     "name": "stdout",
     "output_type": "stream",
     "text": [
      "callback ok\n",
      "index_parallel=10\n",
      "sed -i 10_main.cpp -e 's/^constexpr int hash_table_size = .*;         \\/\\/ OPTIMIZE \\[6, 18\\]$/constexpr int hash_table_size = 8;         \\/\\/ OPTIMIZE [6, 18]/' -e 's/^constexpr double K_START = .*;  \\/\\/ OPTIMIZE \\[0\\.04, 0\\.2\\] LOG$/constexpr double K_START = 0.09817096763032723;  \\/\\/ OPTIMIZE [0.04, 0.2] LOG/' -e 's/^constexpr double K_END = .*;   \\/\\/ OPTIMIZE \\[0\\.03, 0\\.1\\] LOG$/constexpr double K_END = 0.07457812403531813;   \\/\\/ OPTIMIZE [0.03, 0.1] LOG/' -e 's/^constexpr double K_H = .*;      \\/\\/ OPTIMIZE \\[0\\.001, 0\\.999\\]$/constexpr double K_H = 0.9033224111039232;      \\/\\/ OPTIMIZE [0.001, 0.999]/' -e 's/^constexpr short PURCHASE_TURN_LIMIT = .*;  \\/\\/ OPTIMIZE \\[790, 870\\]$/constexpr short PURCHASE_TURN_LIMIT = 834;  \\/\\/ OPTIMIZE [790, 870]/' -e 's/^constexpr int ROUGH_HASH = .*;      \\/\\/ OPTIMIZE {0, 0b00000001, 0b00010001, 0b00010011, 0b00110011}$/constexpr int ROUGH_HASH = 0b00010001;      \\/\\/ OPTIMIZE {0, 0b00000001, 0b00010001, 0b00010011, 0b00110011}/' -e 's/^constexpr double TARGET_BEAM_WIDTH_INCREASE_RATE = .*;      \\/\\/ OPTIMIZE \\[0\\.25, 4\\.0\\] LOG$/constexpr double TARGET_BEAM_WIDTH_INCREASE_RATE = 2.6773751913838875;      \\/\\/ OPTIMIZE [0.25, 4.0] LOG/' -e 's/^constexpr double TARGET_BEAM_WIDTH_HALF_PROGRES_RATE = .*;  \\/\\/ OPTIMIZE \\[0\\.02, 0\\.98\\]$/constexpr double TARGET_BEAM_WIDTH_HALF_PROGRES_RATE = 0.19698427698812618;  \\/\\/ OPTIMIZE [0.02, 0.98]/' -e 's/^constexpr auto MAX_BEAM_WIDTH = .*;                        \\/\\/ OPTIMIZE \\[400, 4000\\] LOG$/constexpr auto MAX_BEAM_WIDTH = 405;                        \\/\\/ OPTIMIZE [400, 4000] LOG/'\n",
      "g++ 10_main.cpp -std=gnu++17 -O2 -o 10_main.cpp.out 2> /dev/null\n"
     ]
    },
    {
     "name": "stderr",
     "output_type": "stream",
     "text": [
      "\u001b[32m[I 2021-09-11 14:08:09,819]\u001b[0m Trial 30 finished with value: 2549001788.0 and parameters: {'hash_table_size': 8, 'K_START': 0.14859079412090892, 'K_END': 0.06043614007886569, 'K_H': 0.8778739291440917, 'PURCHASE_TURN_LIMIT': 844, 'ROUGH_HASH': '0b00010001', 'TARGET_BEAM_WIDTH_INCREASE_RATE': 2.7789310271896333, 'TARGET_BEAM_WIDTH_HALF_PROGRES_RATE': 0.4478483775195061, 'MAX_BEAM_WIDTH': 418}. Best is trial 5 with value: 2554896315.0.\u001b[0m\n"
     ]
    },
    {
     "name": "stdout",
     "output_type": "stream",
     "text": [
      "callback ok\n",
      "index_parallel=11\n",
      "sed -i 11_main.cpp -e 's/^constexpr int hash_table_size = .*;         \\/\\/ OPTIMIZE \\[6, 18\\]$/constexpr int hash_table_size = 8;         \\/\\/ OPTIMIZE [6, 18]/' -e 's/^constexpr double K_START = .*;  \\/\\/ OPTIMIZE \\[0\\.04, 0\\.2\\] LOG$/constexpr double K_START = 0.15049037096472248;  \\/\\/ OPTIMIZE [0.04, 0.2] LOG/' -e 's/^constexpr double K_END = .*;   \\/\\/ OPTIMIZE \\[0\\.03, 0\\.1\\] LOG$/constexpr double K_END = 0.07556476994229272;   \\/\\/ OPTIMIZE [0.03, 0.1] LOG/' -e 's/^constexpr double K_H = .*;      \\/\\/ OPTIMIZE \\[0\\.001, 0\\.999\\]$/constexpr double K_H = 0.9094601445131819;      \\/\\/ OPTIMIZE [0.001, 0.999]/' -e 's/^constexpr short PURCHASE_TURN_LIMIT = .*;  \\/\\/ OPTIMIZE \\[790, 870\\]$/constexpr short PURCHASE_TURN_LIMIT = 833;  \\/\\/ OPTIMIZE [790, 870]/' -e 's/^constexpr int ROUGH_HASH = .*;      \\/\\/ OPTIMIZE {0, 0b00000001, 0b00010001, 0b00010011, 0b00110011}$/constexpr int ROUGH_HASH = 0b00010001;      \\/\\/ OPTIMIZE {0, 0b00000001, 0b00010001, 0b00010011, 0b00110011}/' -e 's/^constexpr double TARGET_BEAM_WIDTH_INCREASE_RATE = .*;      \\/\\/ OPTIMIZE \\[0\\.25, 4\\.0\\] LOG$/constexpr double TARGET_BEAM_WIDTH_INCREASE_RATE = 2.628902293510322;      \\/\\/ OPTIMIZE [0.25, 4.0] LOG/' -e 's/^constexpr double TARGET_BEAM_WIDTH_HALF_PROGRES_RATE = .*;  \\/\\/ OPTIMIZE \\[0\\.02, 0\\.98\\]$/constexpr double TARGET_BEAM_WIDTH_HALF_PROGRES_RATE = 0.461749345909863;  \\/\\/ OPTIMIZE [0.02, 0.98]/' -e 's/^constexpr auto MAX_BEAM_WIDTH = .*;                        \\/\\/ OPTIMIZE \\[400, 4000\\] LOG$/constexpr auto MAX_BEAM_WIDTH = 445;                        \\/\\/ OPTIMIZE [400, 4000] LOG/'\n",
      "g++ 11_main.cpp -std=gnu++17 -O2 -o 11_main.cpp.out 2> /dev/null\n"
     ]
    },
    {
     "name": "stderr",
     "output_type": "stream",
     "text": [
      "\u001b[32m[I 2021-09-11 14:08:13,042]\u001b[0m Trial 28 finished with value: 2534422696.0 and parameters: {'hash_table_size': 13, 'K_START': 0.1130030375472871, 'K_END': 0.04183141225837629, 'K_H': 0.4881228316516552, 'PURCHASE_TURN_LIMIT': 845, 'ROUGH_HASH': '0b00010001', 'TARGET_BEAM_WIDTH_INCREASE_RATE': 1.226296828103247, 'TARGET_BEAM_WIDTH_HALF_PROGRES_RATE': 0.4333828460652944, 'MAX_BEAM_WIDTH': 419}. Best is trial 5 with value: 2554896315.0.\u001b[0m\n"
     ]
    },
    {
     "name": "stdout",
     "output_type": "stream",
     "text": [
      "callback ok\n",
      "index_parallel=0\n",
      "sed -i 0_main.cpp -e 's/^constexpr int hash_table_size = .*;         \\/\\/ OPTIMIZE \\[6, 18\\]$/constexpr int hash_table_size = 8;         \\/\\/ OPTIMIZE [6, 18]/' -e 's/^constexpr double K_START = .*;  \\/\\/ OPTIMIZE \\[0\\.04, 0\\.2\\] LOG$/constexpr double K_START = 0.14926803945790454;  \\/\\/ OPTIMIZE [0.04, 0.2] LOG/' -e 's/^constexpr double K_END = .*;   \\/\\/ OPTIMIZE \\[0\\.03, 0\\.1\\] LOG$/constexpr double K_END = 0.0750325612435459;   \\/\\/ OPTIMIZE [0.03, 0.1] LOG/' -e 's/^constexpr double K_H = .*;      \\/\\/ OPTIMIZE \\[0\\.001, 0\\.999\\]$/constexpr double K_H = 0.9045726149741209;      \\/\\/ OPTIMIZE [0.001, 0.999]/' -e 's/^constexpr short PURCHASE_TURN_LIMIT = .*;  \\/\\/ OPTIMIZE \\[790, 870\\]$/constexpr short PURCHASE_TURN_LIMIT = 835;  \\/\\/ OPTIMIZE [790, 870]/' -e 's/^constexpr int ROUGH_HASH = .*;      \\/\\/ OPTIMIZE {0, 0b00000001, 0b00010001, 0b00010011, 0b00110011}$/constexpr int ROUGH_HASH = 0b00010001;      \\/\\/ OPTIMIZE {0, 0b00000001, 0b00010001, 0b00010011, 0b00110011}/' -e 's/^constexpr double TARGET_BEAM_WIDTH_INCREASE_RATE = .*;      \\/\\/ OPTIMIZE \\[0\\.25, 4\\.0\\] LOG$/constexpr double TARGET_BEAM_WIDTH_INCREASE_RATE = 2.6315201140563484;      \\/\\/ OPTIMIZE [0.25, 4.0] LOG/' -e 's/^constexpr double TARGET_BEAM_WIDTH_HALF_PROGRES_RATE = .*;  \\/\\/ OPTIMIZE \\[0\\.02, 0\\.98\\]$/constexpr double TARGET_BEAM_WIDTH_HALF_PROGRES_RATE = 0.31920736204000266;  \\/\\/ OPTIMIZE [0.02, 0.98]/' -e 's/^constexpr auto MAX_BEAM_WIDTH = .*;                        \\/\\/ OPTIMIZE \\[400, 4000\\] LOG$/constexpr auto MAX_BEAM_WIDTH = 638;                        \\/\\/ OPTIMIZE [400, 4000] LOG/'\n",
      "g++ 0_main.cpp -std=gnu++17 -O2 -o 0_main.cpp.out 2> /dev/null\n"
     ]
    },
    {
     "name": "stderr",
     "output_type": "stream",
     "text": [
      "\u001b[32m[I 2021-09-11 14:11:07,219]\u001b[0m Trial 32 finished with value: 2549989305.0 and parameters: {'hash_table_size': 8, 'K_START': 0.14754426745562763, 'K_END': 0.05959407554656947, 'K_H': 0.9054799795140227, 'PURCHASE_TURN_LIMIT': 830, 'ROUGH_HASH': '0b00000001', 'TARGET_BEAM_WIDTH_INCREASE_RATE': 2.6200633317905333, 'TARGET_BEAM_WIDTH_HALF_PROGRES_RATE': 0.4341195553610038, 'MAX_BEAM_WIDTH': 420}. Best is trial 5 with value: 2554896315.0.\u001b[0m\n"
     ]
    },
    {
     "name": "stdout",
     "output_type": "stream",
     "text": [
      "callback ok\n",
      "index_parallel=1\n",
      "sed -i 1_main.cpp -e 's/^constexpr int hash_table_size = .*;         \\/\\/ OPTIMIZE \\[6, 18\\]$/constexpr int hash_table_size = 8;         \\/\\/ OPTIMIZE [6, 18]/' -e 's/^constexpr double K_START = .*;  \\/\\/ OPTIMIZE \\[0\\.04, 0\\.2\\] LOG$/constexpr double K_START = 0.16970783287773508;  \\/\\/ OPTIMIZE [0.04, 0.2] LOG/' -e 's/^constexpr double K_END = .*;   \\/\\/ OPTIMIZE \\[0\\.03, 0\\.1\\] LOG$/constexpr double K_END = 0.07913073006349723;   \\/\\/ OPTIMIZE [0.03, 0.1] LOG/' -e 's/^constexpr double K_H = .*;      \\/\\/ OPTIMIZE \\[0\\.001, 0\\.999\\]$/constexpr double K_H = 0.9099499998609736;      \\/\\/ OPTIMIZE [0.001, 0.999]/' -e 's/^constexpr short PURCHASE_TURN_LIMIT = .*;  \\/\\/ OPTIMIZE \\[790, 870\\]$/constexpr short PURCHASE_TURN_LIMIT = 830;  \\/\\/ OPTIMIZE [790, 870]/' -e 's/^constexpr int ROUGH_HASH = .*;      \\/\\/ OPTIMIZE {0, 0b00000001, 0b00010001, 0b00010011, 0b00110011}$/constexpr int ROUGH_HASH = 0b00110011;      \\/\\/ OPTIMIZE {0, 0b00000001, 0b00010001, 0b00010011, 0b00110011}/' -e 's/^constexpr double TARGET_BEAM_WIDTH_INCREASE_RATE = .*;      \\/\\/ OPTIMIZE \\[0\\.25, 4\\.0\\] LOG$/constexpr double TARGET_BEAM_WIDTH_INCREASE_RATE = 2.706026340493597;      \\/\\/ OPTIMIZE [0.25, 4.0] LOG/' -e 's/^constexpr double TARGET_BEAM_WIDTH_HALF_PROGRES_RATE = .*;  \\/\\/ OPTIMIZE \\[0\\.02, 0\\.98\\]$/constexpr double TARGET_BEAM_WIDTH_HALF_PROGRES_RATE = 0.31697002392752066;  \\/\\/ OPTIMIZE [0.02, 0.98]/' -e 's/^constexpr auto MAX_BEAM_WIDTH = .*;                        \\/\\/ OPTIMIZE \\[400, 4000\\] LOG$/constexpr auto MAX_BEAM_WIDTH = 663;                        \\/\\/ OPTIMIZE [400, 4000] LOG/'\n",
      "g++ 1_main.cpp -std=gnu++17 -O2 -o 1_main.cpp.out 2> /dev/null\n"
     ]
    },
    {
     "name": "stderr",
     "output_type": "stream",
     "text": [
      "\u001b[32m[I 2021-09-11 14:11:55,784]\u001b[0m Trial 33 finished with value: 2524204299.0 and parameters: {'hash_table_size': 8, 'K_START': 0.15078105576080192, 'K_END': 0.07536438669641639, 'K_H': 0.9411032294062633, 'PURCHASE_TURN_LIMIT': 832, 'ROUGH_HASH': '0b00010001', 'TARGET_BEAM_WIDTH_INCREASE_RATE': 2.785323558265573, 'TARGET_BEAM_WIDTH_HALF_PROGRES_RATE': 0.4288262179885655, 'MAX_BEAM_WIDTH': 401}. Best is trial 5 with value: 2554896315.0.\u001b[0m\n"
     ]
    },
    {
     "name": "stdout",
     "output_type": "stream",
     "text": [
      "callback ok\n",
      "index_parallel=2\n"
     ]
    },
    {
     "name": "stderr",
     "output_type": "stream",
     "text": [
      "\u001b[32m[I 2021-09-11 14:11:55,883]\u001b[0m Trial 34 finished with value: 2508865762.0 and parameters: {'hash_table_size': 8, 'K_START': 0.09817096763032723, 'K_END': 0.07457812403531813, 'K_H': 0.9033224111039232, 'PURCHASE_TURN_LIMIT': 834, 'ROUGH_HASH': '0b00010001', 'TARGET_BEAM_WIDTH_INCREASE_RATE': 2.6773751913838875, 'TARGET_BEAM_WIDTH_HALF_PROGRES_RATE': 0.19698427698812618, 'MAX_BEAM_WIDTH': 405}. Best is trial 5 with value: 2554896315.0.\u001b[0m\n"
     ]
    },
    {
     "name": "stdout",
     "output_type": "stream",
     "text": [
      "callback ok\n",
      "index_parallel=3\n",
      "sed -i 2_main.cpp -e 's/^constexpr int hash_table_size = .*;         \\/\\/ OPTIMIZE \\[6, 18\\]$/constexpr int hash_table_size = 6;         \\/\\/ OPTIMIZE [6, 18]/' -e 's/^constexpr double K_START = .*;  \\/\\/ OPTIMIZE \\[0\\.04, 0\\.2\\] LOG$/constexpr double K_START = 0.13112710388027776;  \\/\\/ OPTIMIZE [0.04, 0.2] LOG/' -e 's/^constexpr double K_END = .*;   \\/\\/ OPTIMIZE \\[0\\.03, 0\\.1\\] LOG$/constexpr double K_END = 0.09566908005357674;   \\/\\/ OPTIMIZE [0.03, 0.1] LOG/' -e 's/^constexpr double K_H = .*;      \\/\\/ OPTIMIZE \\[0\\.001, 0\\.999\\]$/constexpr double K_H = 0.9129130143716708;      \\/\\/ OPTIMIZE [0.001, 0.999]/' -e 's/^constexpr short PURCHASE_TURN_LIMIT = .*;  \\/\\/ OPTIMIZE \\[790, 870\\]$/constexpr short PURCHASE_TURN_LIMIT = 811;  \\/\\/ OPTIMIZE [790, 870]/' -e 's/^constexpr int ROUGH_HASH = .*;      \\/\\/ OPTIMIZE {0, 0b00000001, 0b00010001, 0b00010011, 0b00110011}$/constexpr int ROUGH_HASH = 0b00110011;      \\/\\/ OPTIMIZE {0, 0b00000001, 0b00010001, 0b00010011, 0b00110011}/' -e 's/^constexpr double TARGET_BEAM_WIDTH_INCREASE_RATE = .*;      \\/\\/ OPTIMIZE \\[0\\.25, 4\\.0\\] LOG$/constexpr double TARGET_BEAM_WIDTH_INCREASE_RATE = 0.9120151239797418;      \\/\\/ OPTIMIZE [0.25, 4.0] LOG/' -e 's/^constexpr double TARGET_BEAM_WIDTH_HALF_PROGRES_RATE = .*;  \\/\\/ OPTIMIZE \\[0\\.02, 0\\.98\\]$/constexpr double TARGET_BEAM_WIDTH_HALF_PROGRES_RATE = 0.31996962625488445;  \\/\\/ OPTIMIZE [0.02, 0.98]/' -e 's/^constexpr auto MAX_BEAM_WIDTH = .*;                        \\/\\/ OPTIMIZE \\[400, 4000\\] LOG$/constexpr auto MAX_BEAM_WIDTH = 654;                        \\/\\/ OPTIMIZE [400, 4000] LOG/'\n",
      "sed -i 3_main.cpp -e 's/^constexpr int hash_table_size = .*;         \\/\\/ OPTIMIZE \\[6, 18\\]$/constexpr int hash_table_size = 6;         \\/\\/ OPTIMIZE [6, 18]/' -e 's/^constexpr double K_START = .*;  \\/\\/ OPTIMIZE \\[0\\.04, 0\\.2\\] LOG$/constexpr double K_START = 0.13310454666331487;  \\/\\/ OPTIMIZE [0.04, 0.2] LOG/' -e 's/^constexpr double K_END = .*;   \\/\\/ OPTIMIZE \\[0\\.03, 0\\.1\\] LOG$/constexpr double K_END = 0.05518785816597476;   \\/\\/ OPTIMIZE [0.03, 0.1] LOG/' -e 's/^constexpr double K_H = .*;      \\/\\/ OPTIMIZE \\[0\\.001, 0\\.999\\]$/constexpr double K_H = 0.9225080180651853;      \\/\\/ OPTIMIZE [0.001, 0.999]/' -e 's/^constexpr short PURCHASE_TURN_LIMIT = .*;  \\/\\/ OPTIMIZE \\[790, 870\\]$/constexpr short PURCHASE_TURN_LIMIT = 817;  \\/\\/ OPTIMIZE [790, 870]/' -e 's/^constexpr int ROUGH_HASH = .*;      \\/\\/ OPTIMIZE {0, 0b00000001, 0b00010001, 0b00010011, 0b00110011}$/constexpr int ROUGH_HASH = 0b00110011;      \\/\\/ OPTIMIZE {0, 0b00000001, 0b00010001, 0b00010011, 0b00110011}/' -e 's/^constexpr double TARGET_BEAM_WIDTH_INCREASE_RATE = .*;      \\/\\/ OPTIMIZE \\[0\\.25, 4\\.0\\] LOG$/constexpr double TARGET_BEAM_WIDTH_INCREASE_RATE = 1.95669141549152;      \\/\\/ OPTIMIZE [0.25, 4.0] LOG/' -e 's/^constexpr double TARGET_BEAM_WIDTH_HALF_PROGRES_RATE = .*;  \\/\\/ OPTIMIZE \\[0\\.02, 0\\.98\\]$/constexpr double TARGET_BEAM_WIDTH_HALF_PROGRES_RATE = 0.3241200851832273;  \\/\\/ OPTIMIZE [0.02, 0.98]/' -e 's/^constexpr auto MAX_BEAM_WIDTH = .*;                        \\/\\/ OPTIMIZE \\[400, 4000\\] LOG$/constexpr auto MAX_BEAM_WIDTH = 659;                        \\/\\/ OPTIMIZE [400, 4000] LOG/'\n",
      "g++ 2_main.cpp -std=gnu++17 -O2 -o 2_main.cpp.out 2> /dev/null\n",
      "g++ 3_main.cpp -std=gnu++17 -O2 -o 3_main.cpp.out 2> /dev/null\n"
     ]
    },
    {
     "name": "stderr",
     "output_type": "stream",
     "text": [
      "\u001b[32m[I 2021-09-11 14:12:02,093]\u001b[0m Trial 36 finished with value: 2507737861.0 and parameters: {'hash_table_size': 8, 'K_START': 0.14926803945790454, 'K_END': 0.0750325612435459, 'K_H': 0.9045726149741209, 'PURCHASE_TURN_LIMIT': 835, 'ROUGH_HASH': '0b00010001', 'TARGET_BEAM_WIDTH_INCREASE_RATE': 2.6315201140563484, 'TARGET_BEAM_WIDTH_HALF_PROGRES_RATE': 0.31920736204000266, 'MAX_BEAM_WIDTH': 638}. Best is trial 5 with value: 2554896315.0.\u001b[0m\n"
     ]
    },
    {
     "name": "stdout",
     "output_type": "stream",
     "text": [
      "callback ok\n",
      "index_parallel=4\n",
      "sed -i 4_main.cpp -e 's/^constexpr int hash_table_size = .*;         \\/\\/ OPTIMIZE \\[6, 18\\]$/constexpr int hash_table_size = 6;         \\/\\/ OPTIMIZE [6, 18]/' -e 's/^constexpr double K_START = .*;  \\/\\/ OPTIMIZE \\[0\\.04, 0\\.2\\] LOG$/constexpr double K_START = 0.13277779569297687;  \\/\\/ OPTIMIZE [0.04, 0.2] LOG/' -e 's/^constexpr double K_END = .*;   \\/\\/ OPTIMIZE \\[0\\.03, 0\\.1\\] LOG$/constexpr double K_END = 0.09883776603033177;   \\/\\/ OPTIMIZE [0.03, 0.1] LOG/' -e 's/^constexpr double K_H = .*;      \\/\\/ OPTIMIZE \\[0\\.001, 0\\.999\\]$/constexpr double K_H = 0.7594909482291009;      \\/\\/ OPTIMIZE [0.001, 0.999]/' -e 's/^constexpr short PURCHASE_TURN_LIMIT = .*;  \\/\\/ OPTIMIZE \\[790, 870\\]$/constexpr short PURCHASE_TURN_LIMIT = 815;  \\/\\/ OPTIMIZE [790, 870]/' -e 's/^constexpr int ROUGH_HASH = .*;      \\/\\/ OPTIMIZE {0, 0b00000001, 0b00010001, 0b00010011, 0b00110011}$/constexpr int ROUGH_HASH = 0b00110011;      \\/\\/ OPTIMIZE {0, 0b00000001, 0b00010001, 0b00010011, 0b00110011}/' -e 's/^constexpr double TARGET_BEAM_WIDTH_INCREASE_RATE = .*;      \\/\\/ OPTIMIZE \\[0\\.25, 4\\.0\\] LOG$/constexpr double TARGET_BEAM_WIDTH_INCREASE_RATE = 2.0071308588775656;      \\/\\/ OPTIMIZE [0.25, 4.0] LOG/' -e 's/^constexpr double TARGET_BEAM_WIDTH_HALF_PROGRES_RATE = .*;  \\/\\/ OPTIMIZE \\[0\\.02, 0\\.98\\]$/constexpr double TARGET_BEAM_WIDTH_HALF_PROGRES_RATE = 0.494097129300285;  \\/\\/ OPTIMIZE [0.02, 0.98]/' -e 's/^constexpr auto MAX_BEAM_WIDTH = .*;                        \\/\\/ OPTIMIZE \\[400, 4000\\] LOG$/constexpr auto MAX_BEAM_WIDTH = 691;                        \\/\\/ OPTIMIZE [400, 4000] LOG/'\n",
      "g++ 4_main.cpp -std=gnu++17 -O2 -o 4_main.cpp.out 2> /dev/null\n"
     ]
    },
    {
     "name": "stderr",
     "output_type": "stream",
     "text": [
      "\u001b[32m[I 2021-09-11 14:12:12,401]\u001b[0m Trial 35 finished with value: 2548709127.0 and parameters: {'hash_table_size': 8, 'K_START': 0.15049037096472248, 'K_END': 0.07556476994229272, 'K_H': 0.9094601445131819, 'PURCHASE_TURN_LIMIT': 833, 'ROUGH_HASH': '0b00010001', 'TARGET_BEAM_WIDTH_INCREASE_RATE': 2.628902293510322, 'TARGET_BEAM_WIDTH_HALF_PROGRES_RATE': 0.461749345909863, 'MAX_BEAM_WIDTH': 445}. Best is trial 5 with value: 2554896315.0.\u001b[0m\n"
     ]
    },
    {
     "name": "stdout",
     "output_type": "stream",
     "text": [
      "callback ok\n",
      "index_parallel=5\n",
      "sed -i 5_main.cpp -e 's/^constexpr int hash_table_size = .*;         \\/\\/ OPTIMIZE \\[6, 18\\]$/constexpr int hash_table_size = 6;         \\/\\/ OPTIMIZE [6, 18]/' -e 's/^constexpr double K_START = .*;  \\/\\/ OPTIMIZE \\[0\\.04, 0\\.2\\] LOG$/constexpr double K_START = 0.16931497090547587;  \\/\\/ OPTIMIZE [0.04, 0.2] LOG/' -e 's/^constexpr double K_END = .*;   \\/\\/ OPTIMIZE \\[0\\.03, 0\\.1\\] LOG$/constexpr double K_END = 0.09488918442366509;   \\/\\/ OPTIMIZE [0.03, 0.1] LOG/' -e 's/^constexpr double K_H = .*;      \\/\\/ OPTIMIZE \\[0\\.001, 0\\.999\\]$/constexpr double K_H = 0.7545136762693198;      \\/\\/ OPTIMIZE [0.001, 0.999]/' -e 's/^constexpr short PURCHASE_TURN_LIMIT = .*;  \\/\\/ OPTIMIZE \\[790, 870\\]$/constexpr short PURCHASE_TURN_LIMIT = 813;  \\/\\/ OPTIMIZE [790, 870]/' -e 's/^constexpr int ROUGH_HASH = .*;      \\/\\/ OPTIMIZE {0, 0b00000001, 0b00010001, 0b00010011, 0b00110011}$/constexpr int ROUGH_HASH = 0b00110011;      \\/\\/ OPTIMIZE {0, 0b00000001, 0b00010001, 0b00010011, 0b00110011}/' -e 's/^constexpr double TARGET_BEAM_WIDTH_INCREASE_RATE = .*;      \\/\\/ OPTIMIZE \\[0\\.25, 4\\.0\\] LOG$/constexpr double TARGET_BEAM_WIDTH_INCREASE_RATE = 1.9130411361811708;      \\/\\/ OPTIMIZE [0.25, 4.0] LOG/' -e 's/^constexpr double TARGET_BEAM_WIDTH_HALF_PROGRES_RATE = .*;  \\/\\/ OPTIMIZE \\[0\\.02, 0\\.98\\]$/constexpr double TARGET_BEAM_WIDTH_HALF_PROGRES_RATE = 0.4850965087377759;  \\/\\/ OPTIMIZE [0.02, 0.98]/' -e 's/^constexpr auto MAX_BEAM_WIDTH = .*;                        \\/\\/ OPTIMIZE \\[400, 4000\\] LOG$/constexpr auto MAX_BEAM_WIDTH = 690;                        \\/\\/ OPTIMIZE [400, 4000] LOG/'\n",
      "g++ 5_main.cpp -std=gnu++17 -O2 -o 5_main.cpp.out 2> /dev/null\n"
     ]
    },
    {
     "name": "stderr",
     "output_type": "stream",
     "text": [
      "\u001b[32m[I 2021-09-11 14:13:20,211]\u001b[0m Trial 38 finished with value: 2340285766.0 and parameters: {'hash_table_size': 6, 'K_START': 0.13112710388027776, 'K_END': 0.09566908005357674, 'K_H': 0.9129130143716708, 'PURCHASE_TURN_LIMIT': 811, 'ROUGH_HASH': '0b00110011', 'TARGET_BEAM_WIDTH_INCREASE_RATE': 0.9120151239797418, 'TARGET_BEAM_WIDTH_HALF_PROGRES_RATE': 0.31996962625488445, 'MAX_BEAM_WIDTH': 654}. Best is trial 5 with value: 2554896315.0.\u001b[0m\n"
     ]
    },
    {
     "name": "stdout",
     "output_type": "stream",
     "text": [
      "callback ok\n",
      "index_parallel=6\n"
     ]
    },
    {
     "name": "stderr",
     "output_type": "stream",
     "text": [
      "\u001b[32m[I 2021-09-11 14:13:21,496]\u001b[0m Trial 39 finished with value: 2384211226.0 and parameters: {'hash_table_size': 6, 'K_START': 0.13310454666331487, 'K_END': 0.05518785816597476, 'K_H': 0.9225080180651853, 'PURCHASE_TURN_LIMIT': 817, 'ROUGH_HASH': '0b00110011', 'TARGET_BEAM_WIDTH_INCREASE_RATE': 1.95669141549152, 'TARGET_BEAM_WIDTH_HALF_PROGRES_RATE': 0.3241200851832273, 'MAX_BEAM_WIDTH': 659}. Best is trial 5 with value: 2554896315.0.\u001b[0m\n"
     ]
    },
    {
     "name": "stdout",
     "output_type": "stream",
     "text": [
      "callback ok\n",
      "index_parallel=7\n",
      "sed -i 6_main.cpp -e 's/^constexpr int hash_table_size = .*;         \\/\\/ OPTIMIZE \\[6, 18\\]$/constexpr int hash_table_size = 7;         \\/\\/ OPTIMIZE [6, 18]/' -e 's/^constexpr double K_START = .*;  \\/\\/ OPTIMIZE \\[0\\.04, 0\\.2\\] LOG$/constexpr double K_START = 0.16954756611644553;  \\/\\/ OPTIMIZE [0.04, 0.2] LOG/' -e 's/^constexpr double K_END = .*;   \\/\\/ OPTIMIZE \\[0\\.03, 0\\.1\\] LOG$/constexpr double K_END = 0.052292888942220894;   \\/\\/ OPTIMIZE [0.03, 0.1] LOG/' -e 's/^constexpr double K_H = .*;      \\/\\/ OPTIMIZE \\[0\\.001, 0\\.999\\]$/constexpr double K_H = 0.7388309531566197;      \\/\\/ OPTIMIZE [0.001, 0.999]/' -e 's/^constexpr short PURCHASE_TURN_LIMIT = .*;  \\/\\/ OPTIMIZE \\[790, 870\\]$/constexpr short PURCHASE_TURN_LIMIT = 829;  \\/\\/ OPTIMIZE [790, 870]/' -e 's/^constexpr int ROUGH_HASH = .*;      \\/\\/ OPTIMIZE {0, 0b00000001, 0b00010001, 0b00010011, 0b00110011}$/constexpr int ROUGH_HASH = 0b00010011;      \\/\\/ OPTIMIZE {0, 0b00000001, 0b00010001, 0b00010011, 0b00110011}/' -e 's/^constexpr double TARGET_BEAM_WIDTH_INCREASE_RATE = .*;      \\/\\/ OPTIMIZE \\[0\\.25, 4\\.0\\] LOG$/constexpr double TARGET_BEAM_WIDTH_INCREASE_RATE = 3.0797984230056583;      \\/\\/ OPTIMIZE [0.25, 4.0] LOG/' -e 's/^constexpr double TARGET_BEAM_WIDTH_HALF_PROGRES_RATE = .*;  \\/\\/ OPTIMIZE \\[0\\.02, 0\\.98\\]$/constexpr double TARGET_BEAM_WIDTH_HALF_PROGRES_RATE = 0.4771358619919681;  \\/\\/ OPTIMIZE [0.02, 0.98]/' -e 's/^constexpr auto MAX_BEAM_WIDTH = .*;                        \\/\\/ OPTIMIZE \\[400, 4000\\] LOG$/constexpr auto MAX_BEAM_WIDTH = 484;                        \\/\\/ OPTIMIZE [400, 4000] LOG/'\n",
      "g++ 6_main.cpp -std=gnu++17 -O2 -o 6_main.cpp.out 2> /dev/null\n",
      "sed -i 7_main.cpp -e 's/^constexpr int hash_table_size = .*;         \\/\\/ OPTIMIZE \\[6, 18\\]$/constexpr int hash_table_size = 7;         \\/\\/ OPTIMIZE [6, 18]/' -e 's/^constexpr double K_START = .*;  \\/\\/ OPTIMIZE \\[0\\.04, 0\\.2\\] LOG$/constexpr double K_START = 0.17035293189437614;  \\/\\/ OPTIMIZE [0.04, 0.2] LOG/' -e 's/^constexpr double K_END = .*;   \\/\\/ OPTIMIZE \\[0\\.03, 0\\.1\\] LOG$/constexpr double K_END = 0.04847089455342107;   \\/\\/ OPTIMIZE [0.03, 0.1] LOG/' -e 's/^constexpr double K_H = .*;      \\/\\/ OPTIMIZE \\[0\\.001, 0\\.999\\]$/constexpr double K_H = 0.7892686829598413;      \\/\\/ OPTIMIZE [0.001, 0.999]/' -e 's/^constexpr short PURCHASE_TURN_LIMIT = .*;  \\/\\/ OPTIMIZE \\[790, 870\\]$/constexpr short PURCHASE_TURN_LIMIT = 830;  \\/\\/ OPTIMIZE [790, 870]/' -e 's/^constexpr int ROUGH_HASH = .*;      \\/\\/ OPTIMIZE {0, 0b00000001, 0b00010001, 0b00010011, 0b00110011}$/constexpr int ROUGH_HASH = 0b00010011;      \\/\\/ OPTIMIZE {0, 0b00000001, 0b00010001, 0b00010011, 0b00110011}/' -e 's/^constexpr double TARGET_BEAM_WIDTH_INCREASE_RATE = .*;      \\/\\/ OPTIMIZE \\[0\\.25, 4\\.0\\] LOG$/constexpr double TARGET_BEAM_WIDTH_INCREASE_RATE = 1.9786975409279202;      \\/\\/ OPTIMIZE [0.25, 4.0] LOG/' -e 's/^constexpr double TARGET_BEAM_WIDTH_HALF_PROGRES_RATE = .*;  \\/\\/ OPTIMIZE \\[0\\.02, 0\\.98\\]$/constexpr double TARGET_BEAM_WIDTH_HALF_PROGRES_RATE = 0.612222328020747;  \\/\\/ OPTIMIZE [0.02, 0.98]/' -e 's/^constexpr auto MAX_BEAM_WIDTH = .*;                        \\/\\/ OPTIMIZE \\[400, 4000\\] LOG$/constexpr auto MAX_BEAM_WIDTH = 504;                        \\/\\/ OPTIMIZE [400, 4000] LOG/'\n",
      "g++ 7_main.cpp -std=gnu++17 -O2 -o 7_main.cpp.out 2> /dev/null\n"
     ]
    },
    {
     "name": "stderr",
     "output_type": "stream",
     "text": [
      "\u001b[32m[I 2021-09-11 14:13:27,457]\u001b[0m Trial 40 finished with value: 2354466345.0 and parameters: {'hash_table_size': 6, 'K_START': 0.13277779569297687, 'K_END': 0.09883776603033177, 'K_H': 0.7594909482291009, 'PURCHASE_TURN_LIMIT': 815, 'ROUGH_HASH': '0b00110011', 'TARGET_BEAM_WIDTH_INCREASE_RATE': 2.0071308588775656, 'TARGET_BEAM_WIDTH_HALF_PROGRES_RATE': 0.494097129300285, 'MAX_BEAM_WIDTH': 691}. Best is trial 5 with value: 2554896315.0.\u001b[0m\n"
     ]
    },
    {
     "name": "stdout",
     "output_type": "stream",
     "text": [
      "callback ok\n",
      "index_parallel=8\n",
      "sed -i 8_main.cpp -e 's/^constexpr int hash_table_size = .*;         \\/\\/ OPTIMIZE \\[6, 18\\]$/constexpr int hash_table_size = 9;         \\/\\/ OPTIMIZE [6, 18]/' -e 's/^constexpr double K_START = .*;  \\/\\/ OPTIMIZE \\[0\\.04, 0\\.2\\] LOG$/constexpr double K_START = 0.1635143418176866;  \\/\\/ OPTIMIZE [0.04, 0.2] LOG/' -e 's/^constexpr double K_END = .*;   \\/\\/ OPTIMIZE \\[0\\.03, 0\\.1\\] LOG$/constexpr double K_END = 0.049534982186172506;   \\/\\/ OPTIMIZE [0.03, 0.1] LOG/' -e 's/^constexpr double K_H = .*;      \\/\\/ OPTIMIZE \\[0\\.001, 0\\.999\\]$/constexpr double K_H = 0.8279207752903897;      \\/\\/ OPTIMIZE [0.001, 0.999]/' -e 's/^constexpr short PURCHASE_TURN_LIMIT = .*;  \\/\\/ OPTIMIZE \\[790, 870\\]$/constexpr short PURCHASE_TURN_LIMIT = 827;  \\/\\/ OPTIMIZE [790, 870]/' -e 's/^constexpr int ROUGH_HASH = .*;      \\/\\/ OPTIMIZE {0, 0b00000001, 0b00010001, 0b00010011, 0b00110011}$/constexpr int ROUGH_HASH = 0b00010011;      \\/\\/ OPTIMIZE {0, 0b00000001, 0b00010001, 0b00010011, 0b00110011}/' -e 's/^constexpr double TARGET_BEAM_WIDTH_INCREASE_RATE = .*;      \\/\\/ OPTIMIZE \\[0\\.25, 4\\.0\\] LOG$/constexpr double TARGET_BEAM_WIDTH_INCREASE_RATE = 3.134383378341652;      \\/\\/ OPTIMIZE [0.25, 4.0] LOG/' -e 's/^constexpr double TARGET_BEAM_WIDTH_HALF_PROGRES_RATE = .*;  \\/\\/ OPTIMIZE \\[0\\.02, 0\\.98\\]$/constexpr double TARGET_BEAM_WIDTH_HALF_PROGRES_RATE = 0.48917494980250287;  \\/\\/ OPTIMIZE [0.02, 0.98]/' -e 's/^constexpr auto MAX_BEAM_WIDTH = .*;                        \\/\\/ OPTIMIZE \\[400, 4000\\] LOG$/constexpr auto MAX_BEAM_WIDTH = 484;                        \\/\\/ OPTIMIZE [400, 4000] LOG/'\n",
      "g++ 8_main.cpp -std=gnu++17 -O2 -o 8_main.cpp.out 2> /dev/null\n"
     ]
    },
    {
     "name": "stderr",
     "output_type": "stream",
     "text": [
      "\u001b[32m[I 2021-09-11 14:13:38,255]\u001b[0m Trial 41 finished with value: 2354513192.0 and parameters: {'hash_table_size': 6, 'K_START': 0.16931497090547587, 'K_END': 0.09488918442366509, 'K_H': 0.7545136762693198, 'PURCHASE_TURN_LIMIT': 813, 'ROUGH_HASH': '0b00110011', 'TARGET_BEAM_WIDTH_INCREASE_RATE': 1.9130411361811708, 'TARGET_BEAM_WIDTH_HALF_PROGRES_RATE': 0.4850965087377759, 'MAX_BEAM_WIDTH': 690}. Best is trial 5 with value: 2554896315.0.\u001b[0m\n"
     ]
    },
    {
     "name": "stdout",
     "output_type": "stream",
     "text": [
      "callback ok\n",
      "index_parallel=9\n",
      "sed -i 9_main.cpp -e 's/^constexpr int hash_table_size = .*;         \\/\\/ OPTIMIZE \\[6, 18\\]$/constexpr int hash_table_size = 9;         \\/\\/ OPTIMIZE [6, 18]/' -e 's/^constexpr double K_START = .*;  \\/\\/ OPTIMIZE \\[0\\.04, 0\\.2\\] LOG$/constexpr double K_START = 0.1671044770036418;  \\/\\/ OPTIMIZE [0.04, 0.2] LOG/' -e 's/^constexpr double K_END = .*;   \\/\\/ OPTIMIZE \\[0\\.03, 0\\.1\\] LOG$/constexpr double K_END = 0.05163425321903419;   \\/\\/ OPTIMIZE [0.03, 0.1] LOG/' -e 's/^constexpr double K_H = .*;      \\/\\/ OPTIMIZE \\[0\\.001, 0\\.999\\]$/constexpr double K_H = 0.8421591809696238;      \\/\\/ OPTIMIZE [0.001, 0.999]/' -e 's/^constexpr short PURCHASE_TURN_LIMIT = .*;  \\/\\/ OPTIMIZE \\[790, 870\\]$/constexpr short PURCHASE_TURN_LIMIT = 831;  \\/\\/ OPTIMIZE [790, 870]/' -e 's/^constexpr int ROUGH_HASH = .*;      \\/\\/ OPTIMIZE {0, 0b00000001, 0b00010001, 0b00010011, 0b00110011}$/constexpr int ROUGH_HASH = 0b00010011;      \\/\\/ OPTIMIZE {0, 0b00000001, 0b00010001, 0b00010011, 0b00110011}/' -e 's/^constexpr double TARGET_BEAM_WIDTH_INCREASE_RATE = .*;      \\/\\/ OPTIMIZE \\[0\\.25, 4\\.0\\] LOG$/constexpr double TARGET_BEAM_WIDTH_INCREASE_RATE = 3.0398292553456487;      \\/\\/ OPTIMIZE [0.25, 4.0] LOG/' -e 's/^constexpr double TARGET_BEAM_WIDTH_HALF_PROGRES_RATE = .*;  \\/\\/ OPTIMIZE \\[0\\.02, 0\\.98\\]$/constexpr double TARGET_BEAM_WIDTH_HALF_PROGRES_RATE = 0.25584195654330366;  \\/\\/ OPTIMIZE [0.02, 0.98]/' -e 's/^constexpr auto MAX_BEAM_WIDTH = .*;                        \\/\\/ OPTIMIZE \\[400, 4000\\] LOG$/constexpr auto MAX_BEAM_WIDTH = 490;                        \\/\\/ OPTIMIZE [400, 4000] LOG/'\n",
      "g++ 9_main.cpp -std=gnu++17 -O2 -o 9_main.cpp.out 2> /dev/null\n"
     ]
    },
    {
     "name": "stderr",
     "output_type": "stream",
     "text": [
      "\u001b[32m[I 2021-09-11 14:14:44,377]\u001b[0m Trial 37 finished with value: 2475924436.0 and parameters: {'hash_table_size': 8, 'K_START': 0.16970783287773508, 'K_END': 0.07913073006349723, 'K_H': 0.9099499998609736, 'PURCHASE_TURN_LIMIT': 830, 'ROUGH_HASH': '0b00110011', 'TARGET_BEAM_WIDTH_INCREASE_RATE': 2.706026340493597, 'TARGET_BEAM_WIDTH_HALF_PROGRES_RATE': 0.31697002392752066, 'MAX_BEAM_WIDTH': 663}. Best is trial 5 with value: 2554896315.0.\u001b[0m\n"
     ]
    },
    {
     "name": "stdout",
     "output_type": "stream",
     "text": [
      "callback ok\n",
      "index_parallel=10\n",
      "sed -i 10_main.cpp -e 's/^constexpr int hash_table_size = .*;         \\/\\/ OPTIMIZE \\[6, 18\\]$/constexpr int hash_table_size = 9;         \\/\\/ OPTIMIZE [6, 18]/' -e 's/^constexpr double K_START = .*;  \\/\\/ OPTIMIZE \\[0\\.04, 0\\.2\\] LOG$/constexpr double K_START = 0.1575808731981883;  \\/\\/ OPTIMIZE [0.04, 0.2] LOG/' -e 's/^constexpr double K_END = .*;   \\/\\/ OPTIMIZE \\[0\\.03, 0\\.1\\] LOG$/constexpr double K_END = 0.049733565869002315;   \\/\\/ OPTIMIZE [0.03, 0.1] LOG/' -e 's/^constexpr double K_H = .*;      \\/\\/ OPTIMIZE \\[0\\.001, 0\\.999\\]$/constexpr double K_H = 0.8095104893140156;      \\/\\/ OPTIMIZE [0.001, 0.999]/' -e 's/^constexpr short PURCHASE_TURN_LIMIT = .*;  \\/\\/ OPTIMIZE \\[790, 870\\]$/constexpr short PURCHASE_TURN_LIMIT = 839;  \\/\\/ OPTIMIZE [790, 870]/' -e 's/^constexpr int ROUGH_HASH = .*;      \\/\\/ OPTIMIZE {0, 0b00000001, 0b00010001, 0b00010011, 0b00110011}$/constexpr int ROUGH_HASH = 0b00000001;      \\/\\/ OPTIMIZE {0, 0b00000001, 0b00010001, 0b00010011, 0b00110011}/' -e 's/^constexpr double TARGET_BEAM_WIDTH_INCREASE_RATE = .*;      \\/\\/ OPTIMIZE \\[0\\.25, 4\\.0\\] LOG$/constexpr double TARGET_BEAM_WIDTH_INCREASE_RATE = 2.3617059965203637;      \\/\\/ OPTIMIZE [0.25, 4.0] LOG/' -e 's/^constexpr double TARGET_BEAM_WIDTH_HALF_PROGRES_RATE = .*;  \\/\\/ OPTIMIZE \\[0\\.02, 0\\.98\\]$/constexpr double TARGET_BEAM_WIDTH_HALF_PROGRES_RATE = 0.37602122807661525;  \\/\\/ OPTIMIZE [0.02, 0.98]/' -e 's/^constexpr auto MAX_BEAM_WIDTH = .*;                        \\/\\/ OPTIMIZE \\[400, 4000\\] LOG$/constexpr auto MAX_BEAM_WIDTH = 480;                        \\/\\/ OPTIMIZE [400, 4000] LOG/'\n",
      "g++ 10_main.cpp -std=gnu++17 -O2 -o 10_main.cpp.out 2> /dev/null\n"
     ]
    },
    {
     "name": "stderr",
     "output_type": "stream",
     "text": [
      "\u001b[32m[I 2021-09-11 14:15:39,923]\u001b[0m Trial 42 finished with value: 2483619669.0 and parameters: {'hash_table_size': 7, 'K_START': 0.16954756611644553, 'K_END': 0.052292888942220894, 'K_H': 0.7388309531566197, 'PURCHASE_TURN_LIMIT': 829, 'ROUGH_HASH': '0b00010011', 'TARGET_BEAM_WIDTH_INCREASE_RATE': 3.0797984230056583, 'TARGET_BEAM_WIDTH_HALF_PROGRES_RATE': 0.4771358619919681, 'MAX_BEAM_WIDTH': 484}. Best is trial 5 with value: 2554896315.0.\u001b[0m\n"
     ]
    },
    {
     "name": "stdout",
     "output_type": "stream",
     "text": [
      "callback ok\n",
      "index_parallel=11\n",
      "sed -i 11_main.cpp -e 's/^constexpr int hash_table_size = .*;         \\/\\/ OPTIMIZE \\[6, 18\\]$/constexpr int hash_table_size = 9;         \\/\\/ OPTIMIZE [6, 18]/' -e 's/^constexpr double K_START = .*;  \\/\\/ OPTIMIZE \\[0\\.04, 0\\.2\\] LOG$/constexpr double K_START = 0.15778535279153105;  \\/\\/ OPTIMIZE [0.04, 0.2] LOG/' -e 's/^constexpr double K_END = .*;   \\/\\/ OPTIMIZE \\[0\\.03, 0\\.1\\] LOG$/constexpr double K_END = 0.048915924587013146;   \\/\\/ OPTIMIZE [0.03, 0.1] LOG/' -e 's/^constexpr double K_H = .*;      \\/\\/ OPTIMIZE \\[0\\.001, 0\\.999\\]$/constexpr double K_H = 0.832348017715525;      \\/\\/ OPTIMIZE [0.001, 0.999]/' -e 's/^constexpr short PURCHASE_TURN_LIMIT = .*;  \\/\\/ OPTIMIZE \\[790, 870\\]$/constexpr short PURCHASE_TURN_LIMIT = 849;  \\/\\/ OPTIMIZE [790, 870]/' -e 's/^constexpr int ROUGH_HASH = .*;      \\/\\/ OPTIMIZE {0, 0b00000001, 0b00010001, 0b00010011, 0b00110011}$/constexpr int ROUGH_HASH = 0b00010011;      \\/\\/ OPTIMIZE {0, 0b00000001, 0b00010001, 0b00010011, 0b00110011}/' -e 's/^constexpr double TARGET_BEAM_WIDTH_INCREASE_RATE = .*;      \\/\\/ OPTIMIZE \\[0\\.25, 4\\.0\\] LOG$/constexpr double TARGET_BEAM_WIDTH_INCREASE_RATE = 2.383187200740624;      \\/\\/ OPTIMIZE [0.25, 4.0] LOG/' -e 's/^constexpr double TARGET_BEAM_WIDTH_HALF_PROGRES_RATE = .*;  \\/\\/ OPTIMIZE \\[0\\.02, 0\\.98\\]$/constexpr double TARGET_BEAM_WIDTH_HALF_PROGRES_RATE = 0.37550705813676133;  \\/\\/ OPTIMIZE [0.02, 0.98]/' -e 's/^constexpr auto MAX_BEAM_WIDTH = .*;                        \\/\\/ OPTIMIZE \\[400, 4000\\] LOG$/constexpr auto MAX_BEAM_WIDTH = 487;                        \\/\\/ OPTIMIZE [400, 4000] LOG/'\n",
      "g++ 11_main.cpp -std=gnu++17 -O2 -o 11_main.cpp.out 2> /dev/null\n"
     ]
    },
    {
     "name": "stderr",
     "output_type": "stream",
     "text": [
      "\u001b[32m[I 2021-09-11 14:15:41,866]\u001b[0m Trial 43 finished with value: 2480296329.0 and parameters: {'hash_table_size': 7, 'K_START': 0.17035293189437614, 'K_END': 0.04847089455342107, 'K_H': 0.7892686829598413, 'PURCHASE_TURN_LIMIT': 830, 'ROUGH_HASH': '0b00010011', 'TARGET_BEAM_WIDTH_INCREASE_RATE': 1.9786975409279202, 'TARGET_BEAM_WIDTH_HALF_PROGRES_RATE': 0.612222328020747, 'MAX_BEAM_WIDTH': 504}. Best is trial 5 with value: 2554896315.0.\u001b[0m\n"
     ]
    },
    {
     "name": "stdout",
     "output_type": "stream",
     "text": [
      "callback ok\n",
      "index_parallel=0\n",
      "sed -i 0_main.cpp -e 's/^constexpr int hash_table_size = .*;         \\/\\/ OPTIMIZE \\[6, 18\\]$/constexpr int hash_table_size = 9;         \\/\\/ OPTIMIZE [6, 18]/' -e 's/^constexpr double K_START = .*;  \\/\\/ OPTIMIZE \\[0\\.04, 0\\.2\\] LOG$/constexpr double K_START = 0.14029268859613916;  \\/\\/ OPTIMIZE [0.04, 0.2] LOG/' -e 's/^constexpr double K_END = .*;   \\/\\/ OPTIMIZE \\[0\\.03, 0\\.1\\] LOG$/constexpr double K_END = 0.05777849842399432;   \\/\\/ OPTIMIZE [0.03, 0.1] LOG/' -e 's/^constexpr double K_H = .*;      \\/\\/ OPTIMIZE \\[0\\.001, 0\\.999\\]$/constexpr double K_H = 0.8380247620715198;      \\/\\/ OPTIMIZE [0.001, 0.999]/' -e 's/^constexpr short PURCHASE_TURN_LIMIT = .*;  \\/\\/ OPTIMIZE \\[790, 870\\]$/constexpr short PURCHASE_TURN_LIMIT = 848;  \\/\\/ OPTIMIZE [790, 870]/' -e 's/^constexpr int ROUGH_HASH = .*;      \\/\\/ OPTIMIZE {0, 0b00000001, 0b00010001, 0b00010011, 0b00110011}$/constexpr int ROUGH_HASH = 0;      \\/\\/ OPTIMIZE {0, 0b00000001, 0b00010001, 0b00010011, 0b00110011}/' -e 's/^constexpr double TARGET_BEAM_WIDTH_INCREASE_RATE = .*;      \\/\\/ OPTIMIZE \\[0\\.25, 4\\.0\\] LOG$/constexpr double TARGET_BEAM_WIDTH_INCREASE_RATE = 2.292600336895543;      \\/\\/ OPTIMIZE [0.25, 4.0] LOG/' -e 's/^constexpr double TARGET_BEAM_WIDTH_HALF_PROGRES_RATE = .*;  \\/\\/ OPTIMIZE \\[0\\.02, 0\\.98\\]$/constexpr double TARGET_BEAM_WIDTH_HALF_PROGRES_RATE = 0.2555679207388625;  \\/\\/ OPTIMIZE [0.02, 0.98]/' -e 's/^constexpr auto MAX_BEAM_WIDTH = .*;                        \\/\\/ OPTIMIZE \\[400, 4000\\] LOG$/constexpr auto MAX_BEAM_WIDTH = 558;                        \\/\\/ OPTIMIZE [400, 4000] LOG/'\n",
      "g++ 0_main.cpp -std=gnu++17 -O2 -o 0_main.cpp.out 2> /dev/null\n"
     ]
    },
    {
     "name": "stderr",
     "output_type": "stream",
     "text": [
      "\u001b[32m[I 2021-09-11 14:18:39,624]\u001b[0m Trial 45 finished with value: 2517811729.0 and parameters: {'hash_table_size': 9, 'K_START': 0.1671044770036418, 'K_END': 0.05163425321903419, 'K_H': 0.8421591809696238, 'PURCHASE_TURN_LIMIT': 831, 'ROUGH_HASH': '0b00010011', 'TARGET_BEAM_WIDTH_INCREASE_RATE': 3.0398292553456487, 'TARGET_BEAM_WIDTH_HALF_PROGRES_RATE': 0.25584195654330366, 'MAX_BEAM_WIDTH': 490}. Best is trial 5 with value: 2554896315.0.\u001b[0m\n"
     ]
    },
    {
     "name": "stdout",
     "output_type": "stream",
     "text": [
      "callback ok\n",
      "index_parallel=1\n",
      "sed -i 1_main.cpp -e 's/^constexpr int hash_table_size = .*;         \\/\\/ OPTIMIZE \\[6, 18\\]$/constexpr int hash_table_size = 9;         \\/\\/ OPTIMIZE [6, 18]/' -e 's/^constexpr double K_START = .*;  \\/\\/ OPTIMIZE \\[0\\.04, 0\\.2\\] LOG$/constexpr double K_START = 0.10224697390551489;  \\/\\/ OPTIMIZE [0.04, 0.2] LOG/' -e 's/^constexpr double K_END = .*;   \\/\\/ OPTIMIZE \\[0\\.03, 0\\.1\\] LOG$/constexpr double K_END = 0.05914730221700956;   \\/\\/ OPTIMIZE [0.03, 0.1] LOG/' -e 's/^constexpr double K_H = .*;      \\/\\/ OPTIMIZE \\[0\\.001, 0\\.999\\]$/constexpr double K_H = 0.9674514551639545;      \\/\\/ OPTIMIZE [0.001, 0.999]/' -e 's/^constexpr short PURCHASE_TURN_LIMIT = .*;  \\/\\/ OPTIMIZE \\[790, 870\\]$/constexpr short PURCHASE_TURN_LIMIT = 838;  \\/\\/ OPTIMIZE [790, 870]/' -e 's/^constexpr int ROUGH_HASH = .*;      \\/\\/ OPTIMIZE {0, 0b00000001, 0b00010001, 0b00010011, 0b00110011}$/constexpr int ROUGH_HASH = 0;      \\/\\/ OPTIMIZE {0, 0b00000001, 0b00010001, 0b00010011, 0b00110011}/' -e 's/^constexpr double TARGET_BEAM_WIDTH_INCREASE_RATE = .*;      \\/\\/ OPTIMIZE \\[0\\.25, 4\\.0\\] LOG$/constexpr double TARGET_BEAM_WIDTH_INCREASE_RATE = 2.382913370009112;      \\/\\/ OPTIMIZE [0.25, 4.0] LOG/' -e 's/^constexpr double TARGET_BEAM_WIDTH_HALF_PROGRES_RATE = .*;  \\/\\/ OPTIMIZE \\[0\\.02, 0\\.98\\]$/constexpr double TARGET_BEAM_WIDTH_HALF_PROGRES_RATE = 0.622771585501461;  \\/\\/ OPTIMIZE [0.02, 0.98]/' -e 's/^constexpr auto MAX_BEAM_WIDTH = .*;                        \\/\\/ OPTIMIZE \\[400, 4000\\] LOG$/constexpr auto MAX_BEAM_WIDTH = 557;                        \\/\\/ OPTIMIZE [400, 4000] LOG/'\n",
      "g++ 1_main.cpp -std=gnu++17 -O2 -o 1_main.cpp.out 2> /dev/null\n"
     ]
    },
    {
     "name": "stderr",
     "output_type": "stream",
     "text": [
      "\u001b[32m[I 2021-09-11 14:18:57,956]\u001b[0m Trial 44 finished with value: 2552674871.0 and parameters: {'hash_table_size': 9, 'K_START': 0.1635143418176866, 'K_END': 0.049534982186172506, 'K_H': 0.8279207752903897, 'PURCHASE_TURN_LIMIT': 827, 'ROUGH_HASH': '0b00010011', 'TARGET_BEAM_WIDTH_INCREASE_RATE': 3.134383378341652, 'TARGET_BEAM_WIDTH_HALF_PROGRES_RATE': 0.48917494980250287, 'MAX_BEAM_WIDTH': 484}. Best is trial 5 with value: 2554896315.0.\u001b[0m\n"
     ]
    },
    {
     "name": "stdout",
     "output_type": "stream",
     "text": [
      "callback ok\n",
      "index_parallel=2\n",
      "sed -i 2_main.cpp -e 's/^constexpr int hash_table_size = .*;         \\/\\/ OPTIMIZE \\[6, 18\\]$/constexpr int hash_table_size = 10;         \\/\\/ OPTIMIZE [6, 18]/' -e 's/^constexpr double K_START = .*;  \\/\\/ OPTIMIZE \\[0\\.04, 0\\.2\\] LOG$/constexpr double K_START = 0.15870543792593333;  \\/\\/ OPTIMIZE [0.04, 0.2] LOG/' -e 's/^constexpr double K_END = .*;   \\/\\/ OPTIMIZE \\[0\\.03, 0\\.1\\] LOG$/constexpr double K_END = 0.04457914984444999;   \\/\\/ OPTIMIZE [0.03, 0.1] LOG/' -e 's/^constexpr double K_H = .*;      \\/\\/ OPTIMIZE \\[0\\.001, 0\\.999\\]$/constexpr double K_H = 0.8613408408921263;      \\/\\/ OPTIMIZE [0.001, 0.999]/' -e 's/^constexpr short PURCHASE_TURN_LIMIT = .*;  \\/\\/ OPTIMIZE \\[790, 870\\]$/constexpr short PURCHASE_TURN_LIMIT = 803;  \\/\\/ OPTIMIZE [790, 870]/' -e 's/^constexpr int ROUGH_HASH = .*;      \\/\\/ OPTIMIZE {0, 0b00000001, 0b00010001, 0b00010011, 0b00110011}$/constexpr int ROUGH_HASH = 0b00010011;      \\/\\/ OPTIMIZE {0, 0b00000001, 0b00010001, 0b00010011, 0b00110011}/' -e 's/^constexpr double TARGET_BEAM_WIDTH_INCREASE_RATE = .*;      \\/\\/ OPTIMIZE \\[0\\.25, 4\\.0\\] LOG$/constexpr double TARGET_BEAM_WIDTH_INCREASE_RATE = 2.3196827968294302;      \\/\\/ OPTIMIZE [0.25, 4.0] LOG/' -e 's/^constexpr double TARGET_BEAM_WIDTH_HALF_PROGRES_RATE = .*;  \\/\\/ OPTIMIZE \\[0\\.02, 0\\.98\\]$/constexpr double TARGET_BEAM_WIDTH_HALF_PROGRES_RATE = 0.37511044315606373;  \\/\\/ OPTIMIZE [0.02, 0.98]/' -e 's/^constexpr auto MAX_BEAM_WIDTH = .*;                        \\/\\/ OPTIMIZE \\[400, 4000\\] LOG$/constexpr auto MAX_BEAM_WIDTH = 556;                        \\/\\/ OPTIMIZE [400, 4000] LOG/'\n",
      "g++ 2_main.cpp -std=gnu++17 -O2 -o 2_main.cpp.out 2> /dev/null\n"
     ]
    },
    {
     "name": "stderr",
     "output_type": "stream",
     "text": [
      "\u001b[32m[I 2021-09-11 14:19:51,182]\u001b[0m Trial 46 finished with value: 2534089990.0 and parameters: {'hash_table_size': 9, 'K_START': 0.1575808731981883, 'K_END': 0.049733565869002315, 'K_H': 0.8095104893140156, 'PURCHASE_TURN_LIMIT': 839, 'ROUGH_HASH': '0b00000001', 'TARGET_BEAM_WIDTH_INCREASE_RATE': 2.3617059965203637, 'TARGET_BEAM_WIDTH_HALF_PROGRES_RATE': 0.37602122807661525, 'MAX_BEAM_WIDTH': 480}. Best is trial 5 with value: 2554896315.0.\u001b[0m\n"
     ]
    },
    {
     "name": "stdout",
     "output_type": "stream",
     "text": [
      "callback ok\n",
      "index_parallel=3\n",
      "sed -i 3_main.cpp -e 's/^constexpr int hash_table_size = .*;         \\/\\/ OPTIMIZE \\[6, 18\\]$/constexpr int hash_table_size = 10;         \\/\\/ OPTIMIZE [6, 18]/' -e 's/^constexpr double K_START = .*;  \\/\\/ OPTIMIZE \\[0\\.04, 0\\.2\\] LOG$/constexpr double K_START = 0.10243726399738912;  \\/\\/ OPTIMIZE [0.04, 0.2] LOG/' -e 's/^constexpr double K_END = .*;   \\/\\/ OPTIMIZE \\[0\\.03, 0\\.1\\] LOG$/constexpr double K_END = 0.04423507319431001;   \\/\\/ OPTIMIZE [0.03, 0.1] LOG/' -e 's/^constexpr double K_H = .*;      \\/\\/ OPTIMIZE \\[0\\.001, 0\\.999\\]$/constexpr double K_H = 0.8527971790674398;      \\/\\/ OPTIMIZE [0.001, 0.999]/' -e 's/^constexpr short PURCHASE_TURN_LIMIT = .*;  \\/\\/ OPTIMIZE \\[790, 870\\]$/constexpr short PURCHASE_TURN_LIMIT = 804;  \\/\\/ OPTIMIZE [790, 870]/' -e 's/^constexpr int ROUGH_HASH = .*;      \\/\\/ OPTIMIZE {0, 0b00000001, 0b00010001, 0b00010011, 0b00110011}$/constexpr int ROUGH_HASH = 0b00010011;      \\/\\/ OPTIMIZE {0, 0b00000001, 0b00010001, 0b00010011, 0b00110011}/' -e 's/^constexpr double TARGET_BEAM_WIDTH_INCREASE_RATE = .*;      \\/\\/ OPTIMIZE \\[0\\.25, 4\\.0\\] LOG$/constexpr double TARGET_BEAM_WIDTH_INCREASE_RATE = 3.5097979027997965;      \\/\\/ OPTIMIZE [0.25, 4.0] LOG/' -e 's/^constexpr double TARGET_BEAM_WIDTH_HALF_PROGRES_RATE = .*;  \\/\\/ OPTIMIZE \\[0\\.02, 0\\.98\\]$/constexpr double TARGET_BEAM_WIDTH_HALF_PROGRES_RATE = 0.3714969792854429;  \\/\\/ OPTIMIZE [0.02, 0.98]/' -e 's/^constexpr auto MAX_BEAM_WIDTH = .*;                        \\/\\/ OPTIMIZE \\[400, 4000\\] LOG$/constexpr auto MAX_BEAM_WIDTH = 553;                        \\/\\/ OPTIMIZE [400, 4000] LOG/'\n",
      "g++ 3_main.cpp -std=gnu++17 -O2 -o 3_main.cpp.out 2> /dev/null\n"
     ]
    },
    {
     "name": "stderr",
     "output_type": "stream",
     "text": [
      "\u001b[32m[I 2021-09-11 14:20:48,685]\u001b[0m Trial 47 finished with value: 2508377730.0 and parameters: {'hash_table_size': 9, 'K_START': 0.15778535279153105, 'K_END': 0.048915924587013146, 'K_H': 0.832348017715525, 'PURCHASE_TURN_LIMIT': 849, 'ROUGH_HASH': '0b00010011', 'TARGET_BEAM_WIDTH_INCREASE_RATE': 2.383187200740624, 'TARGET_BEAM_WIDTH_HALF_PROGRES_RATE': 0.37550705813676133, 'MAX_BEAM_WIDTH': 487}. Best is trial 5 with value: 2554896315.0.\u001b[0m\n"
     ]
    },
    {
     "name": "stdout",
     "output_type": "stream",
     "text": [
      "callback ok\n",
      "index_parallel=4\n"
     ]
    },
    {
     "name": "stderr",
     "output_type": "stream",
     "text": [
      "\u001b[32m[I 2021-09-11 14:20:49,108]\u001b[0m Trial 48 finished with value: 2531150512.0 and parameters: {'hash_table_size': 9, 'K_START': 0.14029268859613916, 'K_END': 0.05777849842399432, 'K_H': 0.8380247620715198, 'PURCHASE_TURN_LIMIT': 848, 'ROUGH_HASH': '0', 'TARGET_BEAM_WIDTH_INCREASE_RATE': 2.292600336895543, 'TARGET_BEAM_WIDTH_HALF_PROGRES_RATE': 0.2555679207388625, 'MAX_BEAM_WIDTH': 558}. Best is trial 5 with value: 2554896315.0.\u001b[0m\n"
     ]
    },
    {
     "name": "stdout",
     "output_type": "stream",
     "text": [
      "callback ok\n",
      "index_parallel=5\n",
      "sed -i 4_main.cpp -e 's/^constexpr int hash_table_size = .*;         \\/\\/ OPTIMIZE \\[6, 18\\]$/constexpr int hash_table_size = 10;         \\/\\/ OPTIMIZE [6, 18]/' -e 's/^constexpr double K_START = .*;  \\/\\/ OPTIMIZE \\[0\\.04, 0\\.2\\] LOG$/constexpr double K_START = 0.07964944743319141;  \\/\\/ OPTIMIZE [0.04, 0.2] LOG/' -e 's/^constexpr double K_END = .*;   \\/\\/ OPTIMIZE \\[0\\.03, 0\\.1\\] LOG$/constexpr double K_END = 0.044841916963893544;   \\/\\/ OPTIMIZE [0.03, 0.1] LOG/' -e 's/^constexpr double K_H = .*;      \\/\\/ OPTIMIZE \\[0\\.001, 0\\.999\\]$/constexpr double K_H = 0.9639223491119322;      \\/\\/ OPTIMIZE [0.001, 0.999]/' -e 's/^constexpr short PURCHASE_TURN_LIMIT = .*;  \\/\\/ OPTIMIZE \\[790, 870\\]$/constexpr short PURCHASE_TURN_LIMIT = 826;  \\/\\/ OPTIMIZE [790, 870]/' -e 's/^constexpr int ROUGH_HASH = .*;      \\/\\/ OPTIMIZE {0, 0b00000001, 0b00010001, 0b00010011, 0b00110011}$/constexpr int ROUGH_HASH = 0b00010011;      \\/\\/ OPTIMIZE {0, 0b00000001, 0b00010001, 0b00010011, 0b00110011}/' -e 's/^constexpr double TARGET_BEAM_WIDTH_INCREASE_RATE = .*;      \\/\\/ OPTIMIZE \\[0\\.25, 4\\.0\\] LOG$/constexpr double TARGET_BEAM_WIDTH_INCREASE_RATE = 0.2606748107145703;      \\/\\/ OPTIMIZE [0.25, 4.0] LOG/' -e 's/^constexpr double TARGET_BEAM_WIDTH_HALF_PROGRES_RATE = .*;  \\/\\/ OPTIMIZE \\[0\\.02, 0\\.98\\]$/constexpr double TARGET_BEAM_WIDTH_HALF_PROGRES_RATE = 0.6310770652902117;  \\/\\/ OPTIMIZE [0.02, 0.98]/' -e 's/^constexpr auto MAX_BEAM_WIDTH = .*;                        \\/\\/ OPTIMIZE \\[400, 4000\\] LOG$/constexpr auto MAX_BEAM_WIDTH = 2142;                        \\/\\/ OPTIMIZE [400, 4000] LOG/'\n",
      "g++ 4_main.cpp -std=gnu++17 -O2 -o 4_main.cpp.out 2> /dev/null\n",
      "sed -i 5_main.cpp -e 's/^constexpr int hash_table_size = .*;         \\/\\/ OPTIMIZE \\[6, 18\\]$/constexpr int hash_table_size = 10;         \\/\\/ OPTIMIZE [6, 18]/' -e 's/^constexpr double K_START = .*;  \\/\\/ OPTIMIZE \\[0\\.04, 0\\.2\\] LOG$/constexpr double K_START = 0.0672147651671899;  \\/\\/ OPTIMIZE [0.04, 0.2] LOG/' -e 's/^constexpr double K_END = .*;   \\/\\/ OPTIMIZE \\[0\\.03, 0\\.1\\] LOG$/constexpr double K_END = 0.044995534540106276;   \\/\\/ OPTIMIZE [0.03, 0.1] LOG/' -e 's/^constexpr double K_H = .*;      \\/\\/ OPTIMIZE \\[0\\.001, 0\\.999\\]$/constexpr double K_H = 0.7129889463958813;      \\/\\/ OPTIMIZE [0.001, 0.999]/' -e 's/^constexpr short PURCHASE_TURN_LIMIT = .*;  \\/\\/ OPTIMIZE \\[790, 870\\]$/constexpr short PURCHASE_TURN_LIMIT = 826;  \\/\\/ OPTIMIZE [790, 870]/' -e 's/^constexpr int ROUGH_HASH = .*;      \\/\\/ OPTIMIZE {0, 0b00000001, 0b00010001, 0b00010011, 0b00110011}$/constexpr int ROUGH_HASH = 0b00010011;      \\/\\/ OPTIMIZE {0, 0b00000001, 0b00010001, 0b00010011, 0b00110011}/' -e 's/^constexpr double TARGET_BEAM_WIDTH_INCREASE_RATE = .*;      \\/\\/ OPTIMIZE \\[0\\.25, 4\\.0\\] LOG$/constexpr double TARGET_BEAM_WIDTH_INCREASE_RATE = 0.2507590964584256;      \\/\\/ OPTIMIZE [0.25, 4.0] LOG/' -e 's/^constexpr double TARGET_BEAM_WIDTH_HALF_PROGRES_RATE = .*;  \\/\\/ OPTIMIZE \\[0\\.02, 0\\.98\\]$/constexpr double TARGET_BEAM_WIDTH_HALF_PROGRES_RATE = 0.6111771531736394;  \\/\\/ OPTIMIZE [0.02, 0.98]/' -e 's/^constexpr auto MAX_BEAM_WIDTH = .*;                        \\/\\/ OPTIMIZE \\[400, 4000\\] LOG$/constexpr auto MAX_BEAM_WIDTH = 562;                        \\/\\/ OPTIMIZE [400, 4000] LOG/'\n",
      "g++ 5_main.cpp -std=gnu++17 -O2 -o 5_main.cpp.out 2> /dev/null\n"
     ]
    },
    {
     "name": "stderr",
     "output_type": "stream",
     "text": [
      "\u001b[32m[I 2021-09-11 14:24:00,743]\u001b[0m Trial 50 finished with value: 2467623378.0 and parameters: {'hash_table_size': 10, 'K_START': 0.15870543792593333, 'K_END': 0.04457914984444999, 'K_H': 0.8613408408921263, 'PURCHASE_TURN_LIMIT': 803, 'ROUGH_HASH': '0b00010011', 'TARGET_BEAM_WIDTH_INCREASE_RATE': 2.3196827968294302, 'TARGET_BEAM_WIDTH_HALF_PROGRES_RATE': 0.37511044315606373, 'MAX_BEAM_WIDTH': 556}. Best is trial 5 with value: 2554896315.0.\u001b[0m\n"
     ]
    },
    {
     "name": "stdout",
     "output_type": "stream",
     "text": [
      "callback ok\n",
      "index_parallel=6\n",
      "sed -i 6_main.cpp -e 's/^constexpr int hash_table_size = .*;         \\/\\/ OPTIMIZE \\[6, 18\\]$/constexpr int hash_table_size = 10;         \\/\\/ OPTIMIZE [6, 18]/' -e 's/^constexpr double K_START = .*;  \\/\\/ OPTIMIZE \\[0\\.04, 0\\.2\\] LOG$/constexpr double K_START = 0.09998665498063117;  \\/\\/ OPTIMIZE [0.04, 0.2] LOG/' -e 's/^constexpr double K_END = .*;   \\/\\/ OPTIMIZE \\[0\\.03, 0\\.1\\] LOG$/constexpr double K_END = 0.06259161774957868;   \\/\\/ OPTIMIZE [0.03, 0.1] LOG/' -e 's/^constexpr double K_H = .*;      \\/\\/ OPTIMIZE \\[0\\.001, 0\\.999\\]$/constexpr double K_H = 0.9637230917297522;      \\/\\/ OPTIMIZE [0.001, 0.999]/' -e 's/^constexpr short PURCHASE_TURN_LIMIT = .*;  \\/\\/ OPTIMIZE \\[790, 870\\]$/constexpr short PURCHASE_TURN_LIMIT = 825;  \\/\\/ OPTIMIZE [790, 870]/' -e 's/^constexpr int ROUGH_HASH = .*;      \\/\\/ OPTIMIZE {0, 0b00000001, 0b00010001, 0b00010011, 0b00110011}$/constexpr int ROUGH_HASH = 0b00010001;      \\/\\/ OPTIMIZE {0, 0b00000001, 0b00010001, 0b00010011, 0b00110011}/' -e 's/^constexpr double TARGET_BEAM_WIDTH_INCREASE_RATE = .*;      \\/\\/ OPTIMIZE \\[0\\.25, 4\\.0\\] LOG$/constexpr double TARGET_BEAM_WIDTH_INCREASE_RATE = 3.47900990486783;      \\/\\/ OPTIMIZE [0.25, 4.0] LOG/' -e 's/^constexpr double TARGET_BEAM_WIDTH_HALF_PROGRES_RATE = .*;  \\/\\/ OPTIMIZE \\[0\\.02, 0\\.98\\]$/constexpr double TARGET_BEAM_WIDTH_HALF_PROGRES_RATE = 0.971723178227792;  \\/\\/ OPTIMIZE [0.02, 0.98]/' -e 's/^constexpr auto MAX_BEAM_WIDTH = .*;                        \\/\\/ OPTIMIZE \\[400, 4000\\] LOG$/constexpr auto MAX_BEAM_WIDTH = 1878;                        \\/\\/ OPTIMIZE [400, 4000] LOG/'\n",
      "g++ 6_main.cpp -std=gnu++17 -O2 -o 6_main.cpp.out 2> /dev/null\n"
     ]
    },
    {
     "name": "stderr",
     "output_type": "stream",
     "text": [
      "\u001b[32m[I 2021-09-11 14:24:06,745]\u001b[0m Trial 49 finished with value: 2561768169.0 and parameters: {'hash_table_size': 9, 'K_START': 0.10224697390551489, 'K_END': 0.05914730221700956, 'K_H': 0.9674514551639545, 'PURCHASE_TURN_LIMIT': 838, 'ROUGH_HASH': '0', 'TARGET_BEAM_WIDTH_INCREASE_RATE': 2.382913370009112, 'TARGET_BEAM_WIDTH_HALF_PROGRES_RATE': 0.622771585501461, 'MAX_BEAM_WIDTH': 557}. Best is trial 49 with value: 2561768169.0.\u001b[0m\n"
     ]
    },
    {
     "name": "stdout",
     "output_type": "stream",
     "text": [
      "Updated! 2561768169.0\n",
      "callback ok\n",
      "index_parallel=7\n",
      "sed -i 7_main.cpp -e 's/^constexpr int hash_table_size = .*;         \\/\\/ OPTIMIZE \\[6, 18\\]$/constexpr int hash_table_size = 10;         \\/\\/ OPTIMIZE [6, 18]/' -e 's/^constexpr double K_START = .*;  \\/\\/ OPTIMIZE \\[0\\.04, 0\\.2\\] LOG$/constexpr double K_START = 0.0688546283717342;  \\/\\/ OPTIMIZE [0.04, 0.2] LOG/' -e 's/^constexpr double K_END = .*;   \\/\\/ OPTIMIZE \\[0\\.03, 0\\.1\\] LOG$/constexpr double K_END = 0.05798944058328245;   \\/\\/ OPTIMIZE [0.03, 0.1] LOG/' -e 's/^constexpr double K_H = .*;      \\/\\/ OPTIMIZE \\[0\\.001, 0\\.999\\]$/constexpr double K_H = 0.9688877406698728;      \\/\\/ OPTIMIZE [0.001, 0.999]/' -e 's/^constexpr short PURCHASE_TURN_LIMIT = .*;  \\/\\/ OPTIMIZE \\[790, 870\\]$/constexpr short PURCHASE_TURN_LIMIT = 825;  \\/\\/ OPTIMIZE [790, 870]/' -e 's/^constexpr int ROUGH_HASH = .*;      \\/\\/ OPTIMIZE {0, 0b00000001, 0b00010001, 0b00010011, 0b00110011}$/constexpr int ROUGH_HASH = 0;      \\/\\/ OPTIMIZE {0, 0b00000001, 0b00010001, 0b00010011, 0b00110011}/' -e 's/^constexpr double TARGET_BEAM_WIDTH_INCREASE_RATE = .*;      \\/\\/ OPTIMIZE \\[0\\.25, 4\\.0\\] LOG$/constexpr double TARGET_BEAM_WIDTH_INCREASE_RATE = 3.4779713852640133;      \\/\\/ OPTIMIZE [0.25, 4.0] LOG/' -e 's/^constexpr double TARGET_BEAM_WIDTH_HALF_PROGRES_RATE = .*;  \\/\\/ OPTIMIZE \\[0\\.02, 0\\.98\\]$/constexpr double TARGET_BEAM_WIDTH_HALF_PROGRES_RATE = 0.7991387123107914;  \\/\\/ OPTIMIZE [0.02, 0.98]/' -e 's/^constexpr auto MAX_BEAM_WIDTH = .*;                        \\/\\/ OPTIMIZE \\[400, 4000\\] LOG$/constexpr auto MAX_BEAM_WIDTH = 575;                        \\/\\/ OPTIMIZE [400, 4000] LOG/'\n",
      "g++ 7_main.cpp -std=gnu++17 -O2 -o 7_main.cpp.out 2> /dev/null\n"
     ]
    },
    {
     "name": "stderr",
     "output_type": "stream",
     "text": [
      "\u001b[32m[I 2021-09-11 14:24:48,741]\u001b[0m Trial 51 finished with value: 2468949241.0 and parameters: {'hash_table_size': 10, 'K_START': 0.10243726399738912, 'K_END': 0.04423507319431001, 'K_H': 0.8527971790674398, 'PURCHASE_TURN_LIMIT': 804, 'ROUGH_HASH': '0b00010011', 'TARGET_BEAM_WIDTH_INCREASE_RATE': 3.5097979027997965, 'TARGET_BEAM_WIDTH_HALF_PROGRES_RATE': 0.3714969792854429, 'MAX_BEAM_WIDTH': 553}. Best is trial 49 with value: 2561768169.0.\u001b[0m\n"
     ]
    },
    {
     "name": "stdout",
     "output_type": "stream",
     "text": [
      "callback ok\n",
      "index_parallel=8\n",
      "sed -i 8_main.cpp -e 's/^constexpr int hash_table_size = .*;         \\/\\/ OPTIMIZE \\[6, 18\\]$/constexpr int hash_table_size = 7;         \\/\\/ OPTIMIZE [6, 18]/' -e 's/^constexpr double K_START = .*;  \\/\\/ OPTIMIZE \\[0\\.04, 0\\.2\\] LOG$/constexpr double K_START = 0.07220206273568068;  \\/\\/ OPTIMIZE [0.04, 0.2] LOG/' -e 's/^constexpr double K_END = .*;   \\/\\/ OPTIMIZE \\[0\\.03, 0\\.1\\] LOG$/constexpr double K_END = 0.057894943061740735;   \\/\\/ OPTIMIZE [0.03, 0.1] LOG/' -e 's/^constexpr double K_H = .*;      \\/\\/ OPTIMIZE \\[0\\.001, 0\\.999\\]$/constexpr double K_H = 0.9729388151326268;      \\/\\/ OPTIMIZE [0.001, 0.999]/' -e 's/^constexpr short PURCHASE_TURN_LIMIT = .*;  \\/\\/ OPTIMIZE \\[790, 870\\]$/constexpr short PURCHASE_TURN_LIMIT = 825;  \\/\\/ OPTIMIZE [790, 870]/' -e 's/^constexpr int ROUGH_HASH = .*;      \\/\\/ OPTIMIZE {0, 0b00000001, 0b00010001, 0b00010011, 0b00110011}$/constexpr int ROUGH_HASH = 0;      \\/\\/ OPTIMIZE {0, 0b00000001, 0b00010001, 0b00010011, 0b00110011}/' -e 's/^constexpr double TARGET_BEAM_WIDTH_INCREASE_RATE = .*;      \\/\\/ OPTIMIZE \\[0\\.25, 4\\.0\\] LOG$/constexpr double TARGET_BEAM_WIDTH_INCREASE_RATE = 0.26248193840710976;      \\/\\/ OPTIMIZE [0.25, 4.0] LOG/' -e 's/^constexpr double TARGET_BEAM_WIDTH_HALF_PROGRES_RATE = .*;  \\/\\/ OPTIMIZE \\[0\\.02, 0\\.98\\]$/constexpr double TARGET_BEAM_WIDTH_HALF_PROGRES_RATE = 0.6208858297465897;  \\/\\/ OPTIMIZE [0.02, 0.98]/' -e 's/^constexpr auto MAX_BEAM_WIDTH = .*;                        \\/\\/ OPTIMIZE \\[400, 4000\\] LOG$/constexpr auto MAX_BEAM_WIDTH = 2409;                        \\/\\/ OPTIMIZE [400, 4000] LOG/'\n",
      "g++ 8_main.cpp -std=gnu++17 -O2 -o 8_main.cpp.out 2> /dev/null\n"
     ]
    },
    {
     "name": "stderr",
     "output_type": "stream",
     "text": [
      "\u001b[32m[I 2021-09-11 14:26:16,040]\u001b[0m Trial 53 finished with value: 2512790731.0 and parameters: {'hash_table_size': 10, 'K_START': 0.0672147651671899, 'K_END': 0.044995534540106276, 'K_H': 0.7129889463958813, 'PURCHASE_TURN_LIMIT': 826, 'ROUGH_HASH': '0b00010011', 'TARGET_BEAM_WIDTH_INCREASE_RATE': 0.2507590964584256, 'TARGET_BEAM_WIDTH_HALF_PROGRES_RATE': 0.6111771531736394, 'MAX_BEAM_WIDTH': 562}. Best is trial 49 with value: 2561768169.0.\u001b[0m\n"
     ]
    },
    {
     "name": "stdout",
     "output_type": "stream",
     "text": [
      "callback ok\n",
      "index_parallel=9\n",
      "sed -i 9_main.cpp -e 's/^constexpr int hash_table_size = .*;         \\/\\/ OPTIMIZE \\[6, 18\\]$/constexpr int hash_table_size = 7;         \\/\\/ OPTIMIZE [6, 18]/' -e 's/^constexpr double K_START = .*;  \\/\\/ OPTIMIZE \\[0\\.04, 0\\.2\\] LOG$/constexpr double K_START = 0.18151861985127593;  \\/\\/ OPTIMIZE [0.04, 0.2] LOG/' -e 's/^constexpr double K_END = .*;   \\/\\/ OPTIMIZE \\[0\\.03, 0\\.1\\] LOG$/constexpr double K_END = 0.05824920795277525;   \\/\\/ OPTIMIZE [0.03, 0.1] LOG/' -e 's/^constexpr double K_H = .*;      \\/\\/ OPTIMIZE \\[0\\.001, 0\\.999\\]$/constexpr double K_H = 0.9694318294041135;      \\/\\/ OPTIMIZE [0.001, 0.999]/' -e 's/^constexpr short PURCHASE_TURN_LIMIT = .*;  \\/\\/ OPTIMIZE \\[790, 870\\]$/constexpr short PURCHASE_TURN_LIMIT = 836;  \\/\\/ OPTIMIZE [790, 870]/' -e 's/^constexpr int ROUGH_HASH = .*;      \\/\\/ OPTIMIZE {0, 0b00000001, 0b00010001, 0b00010011, 0b00110011}$/constexpr int ROUGH_HASH = 0;      \\/\\/ OPTIMIZE {0, 0b00000001, 0b00010001, 0b00010011, 0b00110011}/' -e 's/^constexpr double TARGET_BEAM_WIDTH_INCREASE_RATE = .*;      \\/\\/ OPTIMIZE \\[0\\.25, 4\\.0\\] LOG$/constexpr double TARGET_BEAM_WIDTH_INCREASE_RATE = 1.4065638755151095;      \\/\\/ OPTIMIZE [0.25, 4.0] LOG/' -e 's/^constexpr double TARGET_BEAM_WIDTH_HALF_PROGRES_RATE = .*;  \\/\\/ OPTIMIZE \\[0\\.02, 0\\.98\\]$/constexpr double TARGET_BEAM_WIDTH_HALF_PROGRES_RATE = 0.5103336175101285;  \\/\\/ OPTIMIZE [0.02, 0.98]/' -e 's/^constexpr auto MAX_BEAM_WIDTH = .*;                        \\/\\/ OPTIMIZE \\[400, 4000\\] LOG$/constexpr auto MAX_BEAM_WIDTH = 2092;                        \\/\\/ OPTIMIZE [400, 4000] LOG/'\n",
      "g++ 9_main.cpp -std=gnu++17 -O2 -o 9_main.cpp.out 2> /dev/null\n"
     ]
    },
    {
     "name": "stderr",
     "output_type": "stream",
     "text": [
      "\u001b[32m[I 2021-09-11 14:26:20,432]\u001b[0m Trial 52 finished with value: 2445730775.0 and parameters: {'hash_table_size': 10, 'K_START': 0.07964944743319141, 'K_END': 0.044841916963893544, 'K_H': 0.9639223491119322, 'PURCHASE_TURN_LIMIT': 826, 'ROUGH_HASH': '0b00010011', 'TARGET_BEAM_WIDTH_INCREASE_RATE': 0.2606748107145703, 'TARGET_BEAM_WIDTH_HALF_PROGRES_RATE': 0.6310770652902117, 'MAX_BEAM_WIDTH': 2142}. Best is trial 49 with value: 2561768169.0.\u001b[0m\n"
     ]
    },
    {
     "name": "stdout",
     "output_type": "stream",
     "text": [
      "callback ok\n",
      "index_parallel=10\n",
      "sed -i 10_main.cpp -e 's/^constexpr int hash_table_size = .*;         \\/\\/ OPTIMIZE \\[6, 18\\]$/constexpr int hash_table_size = 7;         \\/\\/ OPTIMIZE [6, 18]/' -e 's/^constexpr double K_START = .*;  \\/\\/ OPTIMIZE \\[0\\.04, 0\\.2\\] LOG$/constexpr double K_START = 0.18238596376302937;  \\/\\/ OPTIMIZE [0.04, 0.2] LOG/' -e 's/^constexpr double K_END = .*;   \\/\\/ OPTIMIZE \\[0\\.03, 0\\.1\\] LOG$/constexpr double K_END = 0.05911324213188842;   \\/\\/ OPTIMIZE [0.03, 0.1] LOG/' -e 's/^constexpr double K_H = .*;      \\/\\/ OPTIMIZE \\[0\\.001, 0\\.999\\]$/constexpr double K_H = 0.9639563957811734;      \\/\\/ OPTIMIZE [0.001, 0.999]/' -e 's/^constexpr short PURCHASE_TURN_LIMIT = .*;  \\/\\/ OPTIMIZE \\[790, 870\\]$/constexpr short PURCHASE_TURN_LIMIT = 837;  \\/\\/ OPTIMIZE [790, 870]/' -e 's/^constexpr int ROUGH_HASH = .*;      \\/\\/ OPTIMIZE {0, 0b00000001, 0b00010001, 0b00010011, 0b00110011}$/constexpr int ROUGH_HASH = 0;      \\/\\/ OPTIMIZE {0, 0b00000001, 0b00010001, 0b00010011, 0b00110011}/' -e 's/^constexpr double TARGET_BEAM_WIDTH_INCREASE_RATE = .*;      \\/\\/ OPTIMIZE \\[0\\.25, 4\\.0\\] LOG$/constexpr double TARGET_BEAM_WIDTH_INCREASE_RATE = 3.4523494960609034;      \\/\\/ OPTIMIZE [0.25, 4.0] LOG/' -e 's/^constexpr double TARGET_BEAM_WIDTH_HALF_PROGRES_RATE = .*;  \\/\\/ OPTIMIZE \\[0\\.02, 0\\.98\\]$/constexpr double TARGET_BEAM_WIDTH_HALF_PROGRES_RATE = 0.7388031616771825;  \\/\\/ OPTIMIZE [0.02, 0.98]/' -e 's/^constexpr auto MAX_BEAM_WIDTH = .*;                        \\/\\/ OPTIMIZE \\[400, 4000\\] LOG$/constexpr auto MAX_BEAM_WIDTH = 456;                        \\/\\/ OPTIMIZE [400, 4000] LOG/'\n",
      "g++ 10_main.cpp -std=gnu++17 -O2 -o 10_main.cpp.out 2> /dev/null\n"
     ]
    },
    {
     "name": "stderr",
     "output_type": "stream",
     "text": [
      "\u001b[32m[I 2021-09-11 14:27:32,297]\u001b[0m Trial 56 finished with value: 2504825304.0 and parameters: {'hash_table_size': 7, 'K_START': 0.07220206273568068, 'K_END': 0.057894943061740735, 'K_H': 0.9729388151326268, 'PURCHASE_TURN_LIMIT': 825, 'ROUGH_HASH': '0', 'TARGET_BEAM_WIDTH_INCREASE_RATE': 0.26248193840710976, 'TARGET_BEAM_WIDTH_HALF_PROGRES_RATE': 0.6208858297465897, 'MAX_BEAM_WIDTH': 2409}. Best is trial 49 with value: 2561768169.0.\u001b[0m\n"
     ]
    },
    {
     "name": "stdout",
     "output_type": "stream",
     "text": [
      "callback ok\n",
      "index_parallel=11\n",
      "sed -i 11_main.cpp -e 's/^constexpr int hash_table_size = .*;         \\/\\/ OPTIMIZE \\[6, 18\\]$/constexpr int hash_table_size = 7;         \\/\\/ OPTIMIZE [6, 18]/' -e 's/^constexpr double K_START = .*;  \\/\\/ OPTIMIZE \\[0\\.04, 0\\.2\\] LOG$/constexpr double K_START = 0.18137005665842312;  \\/\\/ OPTIMIZE [0.04, 0.2] LOG/' -e 's/^constexpr double K_END = .*;   \\/\\/ OPTIMIZE \\[0\\.03, 0\\.1\\] LOG$/constexpr double K_END = 0.06315842395096713;   \\/\\/ OPTIMIZE [0.03, 0.1] LOG/' -e 's/^constexpr double K_H = .*;      \\/\\/ OPTIMIZE \\[0\\.001, 0\\.999\\]$/constexpr double K_H = 0.8786728293463238;      \\/\\/ OPTIMIZE [0.001, 0.999]/' -e 's/^constexpr short PURCHASE_TURN_LIMIT = .*;  \\/\\/ OPTIMIZE \\[790, 870\\]$/constexpr short PURCHASE_TURN_LIMIT = 837;  \\/\\/ OPTIMIZE [790, 870]/' -e 's/^constexpr int ROUGH_HASH = .*;      \\/\\/ OPTIMIZE {0, 0b00000001, 0b00010001, 0b00010011, 0b00110011}$/constexpr int ROUGH_HASH = 0;      \\/\\/ OPTIMIZE {0, 0b00000001, 0b00010001, 0b00010011, 0b00110011}/' -e 's/^constexpr double TARGET_BEAM_WIDTH_INCREASE_RATE = .*;      \\/\\/ OPTIMIZE \\[0\\.25, 4\\.0\\] LOG$/constexpr double TARGET_BEAM_WIDTH_INCREASE_RATE = 1.3640758081580047;      \\/\\/ OPTIMIZE [0.25, 4.0] LOG/' -e 's/^constexpr double TARGET_BEAM_WIDTH_HALF_PROGRES_RATE = .*;  \\/\\/ OPTIMIZE \\[0\\.02, 0\\.98\\]$/constexpr double TARGET_BEAM_WIDTH_HALF_PROGRES_RATE = 0.5028930627282598;  \\/\\/ OPTIMIZE [0.02, 0.98]/' -e 's/^constexpr auto MAX_BEAM_WIDTH = .*;                        \\/\\/ OPTIMIZE \\[400, 4000\\] LOG$/constexpr auto MAX_BEAM_WIDTH = 3925;                        \\/\\/ OPTIMIZE [400, 4000] LOG/'\n",
      "g++ 11_main.cpp -std=gnu++17 -O2 -o 11_main.cpp.out 2> /dev/null\n"
     ]
    },
    {
     "name": "stderr",
     "output_type": "stream",
     "text": [
      "\u001b[32m[I 2021-09-11 14:28:50,054]\u001b[0m Trial 58 finished with value: 2509685924.0 and parameters: {'hash_table_size': 7, 'K_START': 0.18238596376302937, 'K_END': 0.05911324213188842, 'K_H': 0.9639563957811734, 'PURCHASE_TURN_LIMIT': 837, 'ROUGH_HASH': '0', 'TARGET_BEAM_WIDTH_INCREASE_RATE': 3.4523494960609034, 'TARGET_BEAM_WIDTH_HALF_PROGRES_RATE': 0.7388031616771825, 'MAX_BEAM_WIDTH': 456}. Best is trial 49 with value: 2561768169.0.\u001b[0m\n"
     ]
    },
    {
     "name": "stdout",
     "output_type": "stream",
     "text": [
      "callback ok\n",
      "index_parallel=0\n",
      "sed -i 0_main.cpp -e 's/^constexpr int hash_table_size = .*;         \\/\\/ OPTIMIZE \\[6, 18\\]$/constexpr int hash_table_size = 7;         \\/\\/ OPTIMIZE [6, 18]/' -e 's/^constexpr double K_START = .*;  \\/\\/ OPTIMIZE \\[0\\.04, 0\\.2\\] LOG$/constexpr double K_START = 0.12511446068558105;  \\/\\/ OPTIMIZE [0.04, 0.2] LOG/' -e 's/^constexpr double K_END = .*;   \\/\\/ OPTIMIZE \\[0\\.03, 0\\.1\\] LOG$/constexpr double K_END = 0.06523570940218414;   \\/\\/ OPTIMIZE [0.03, 0.1] LOG/' -e 's/^constexpr double K_H = .*;      \\/\\/ OPTIMIZE \\[0\\.001, 0\\.999\\]$/constexpr double K_H = 0.8742195148770578;      \\/\\/ OPTIMIZE [0.001, 0.999]/' -e 's/^constexpr short PURCHASE_TURN_LIMIT = .*;  \\/\\/ OPTIMIZE \\[790, 870\\]$/constexpr short PURCHASE_TURN_LIMIT = 864;  \\/\\/ OPTIMIZE [790, 870]/' -e 's/^constexpr int ROUGH_HASH = .*;      \\/\\/ OPTIMIZE {0, 0b00000001, 0b00010001, 0b00010011, 0b00110011}$/constexpr int ROUGH_HASH = 0;      \\/\\/ OPTIMIZE {0, 0b00000001, 0b00010001, 0b00010011, 0b00110011}/' -e 's/^constexpr double TARGET_BEAM_WIDTH_INCREASE_RATE = .*;      \\/\\/ OPTIMIZE \\[0\\.25, 4\\.0\\] LOG$/constexpr double TARGET_BEAM_WIDTH_INCREASE_RATE = 1.3983645724476232;      \\/\\/ OPTIMIZE [0.25, 4.0] LOG/' -e 's/^constexpr double TARGET_BEAM_WIDTH_HALF_PROGRES_RATE = .*;  \\/\\/ OPTIMIZE \\[0\\.02, 0\\.98\\]$/constexpr double TARGET_BEAM_WIDTH_HALF_PROGRES_RATE = 0.5133149490118822;  \\/\\/ OPTIMIZE [0.02, 0.98]/' -e 's/^constexpr auto MAX_BEAM_WIDTH = .*;                        \\/\\/ OPTIMIZE \\[400, 4000\\] LOG$/constexpr auto MAX_BEAM_WIDTH = 600;                        \\/\\/ OPTIMIZE [400, 4000] LOG/'\n",
      "g++ 0_main.cpp -std=gnu++17 -O2 -o 0_main.cpp.out 2> /dev/null\n"
     ]
    },
    {
     "name": "stderr",
     "output_type": "stream",
     "text": [
      "\u001b[32m[I 2021-09-11 14:28:55,925]\u001b[0m Trial 57 finished with value: 2517113161.0 and parameters: {'hash_table_size': 7, 'K_START': 0.18151861985127593, 'K_END': 0.05824920795277525, 'K_H': 0.9694318294041135, 'PURCHASE_TURN_LIMIT': 836, 'ROUGH_HASH': '0', 'TARGET_BEAM_WIDTH_INCREASE_RATE': 1.4065638755151095, 'TARGET_BEAM_WIDTH_HALF_PROGRES_RATE': 0.5103336175101285, 'MAX_BEAM_WIDTH': 2092}. Best is trial 49 with value: 2561768169.0.\u001b[0m\n"
     ]
    },
    {
     "name": "stdout",
     "output_type": "stream",
     "text": [
      "callback ok\n",
      "index_parallel=1\n",
      "sed -i 1_main.cpp -e 's/^constexpr int hash_table_size = .*;         \\/\\/ OPTIMIZE \\[6, 18\\]$/constexpr int hash_table_size = 11;         \\/\\/ OPTIMIZE [6, 18]/' -e 's/^constexpr double K_START = .*;  \\/\\/ OPTIMIZE \\[0\\.04, 0\\.2\\] LOG$/constexpr double K_START = 0.12605390958116436;  \\/\\/ OPTIMIZE [0.04, 0.2] LOG/' -e 's/^constexpr double K_END = .*;   \\/\\/ OPTIMIZE \\[0\\.03, 0\\.1\\] LOG$/constexpr double K_END = 0.06500982427663804;   \\/\\/ OPTIMIZE [0.03, 0.1] LOG/' -e 's/^constexpr double K_H = .*;      \\/\\/ OPTIMIZE \\[0\\.001, 0\\.999\\]$/constexpr double K_H = 0.02639080844434355;      \\/\\/ OPTIMIZE [0.001, 0.999]/' -e 's/^constexpr short PURCHASE_TURN_LIMIT = .*;  \\/\\/ OPTIMIZE \\[790, 870\\]$/constexpr short PURCHASE_TURN_LIMIT = 863;  \\/\\/ OPTIMIZE [790, 870]/' -e 's/^constexpr int ROUGH_HASH = .*;      \\/\\/ OPTIMIZE {0, 0b00000001, 0b00010001, 0b00010011, 0b00110011}$/constexpr int ROUGH_HASH = 0;      \\/\\/ OPTIMIZE {0, 0b00000001, 0b00010001, 0b00010011, 0b00110011}/' -e 's/^constexpr double TARGET_BEAM_WIDTH_INCREASE_RATE = .*;      \\/\\/ OPTIMIZE \\[0\\.25, 4\\.0\\] LOG$/constexpr double TARGET_BEAM_WIDTH_INCREASE_RATE = 1.0042721247751807;      \\/\\/ OPTIMIZE [0.25, 4.0] LOG/' -e 's/^constexpr double TARGET_BEAM_WIDTH_HALF_PROGRES_RATE = .*;  \\/\\/ OPTIMIZE \\[0\\.02, 0\\.98\\]$/constexpr double TARGET_BEAM_WIDTH_HALF_PROGRES_RATE = 0.4773841894692167;  \\/\\/ OPTIMIZE [0.02, 0.98]/' -e 's/^constexpr auto MAX_BEAM_WIDTH = .*;                        \\/\\/ OPTIMIZE \\[400, 4000\\] LOG$/constexpr auto MAX_BEAM_WIDTH = 608;                        \\/\\/ OPTIMIZE [400, 4000] LOG/'\n",
      "g++ 1_main.cpp -std=gnu++17 -O2 -o 1_main.cpp.out 2> /dev/null\n"
     ]
    },
    {
     "name": "stderr",
     "output_type": "stream",
     "text": [
      "\u001b[32m[I 2021-09-11 14:29:28,390]\u001b[0m Trial 54 finished with value: 2541829109.0 and parameters: {'hash_table_size': 10, 'K_START': 0.09998665498063117, 'K_END': 0.06259161774957868, 'K_H': 0.9637230917297522, 'PURCHASE_TURN_LIMIT': 825, 'ROUGH_HASH': '0b00010001', 'TARGET_BEAM_WIDTH_INCREASE_RATE': 3.47900990486783, 'TARGET_BEAM_WIDTH_HALF_PROGRES_RATE': 0.971723178227792, 'MAX_BEAM_WIDTH': 1878}. Best is trial 49 with value: 2561768169.0.\u001b[0m\n"
     ]
    },
    {
     "name": "stdout",
     "output_type": "stream",
     "text": [
      "callback ok\n",
      "index_parallel=2\n",
      "sed -i 2_main.cpp -e 's/^constexpr int hash_table_size = .*;         \\/\\/ OPTIMIZE \\[6, 18\\]$/constexpr int hash_table_size = 11;         \\/\\/ OPTIMIZE [6, 18]/' -e 's/^constexpr double K_START = .*;  \\/\\/ OPTIMIZE \\[0\\.04, 0\\.2\\] LOG$/constexpr double K_START = 0.1241843631978257;  \\/\\/ OPTIMIZE [0.04, 0.2] LOG/' -e 's/^constexpr double K_END = .*;   \\/\\/ OPTIMIZE \\[0\\.03, 0\\.1\\] LOG$/constexpr double K_END = 0.054245911191873115;   \\/\\/ OPTIMIZE [0.03, 0.1] LOG/' -e 's/^constexpr double K_H = .*;      \\/\\/ OPTIMIZE \\[0\\.001, 0\\.999\\]$/constexpr double K_H = 0.6251930138702281;      \\/\\/ OPTIMIZE [0.001, 0.999]/' -e 's/^constexpr short PURCHASE_TURN_LIMIT = .*;  \\/\\/ OPTIMIZE \\[790, 870\\]$/constexpr short PURCHASE_TURN_LIMIT = 862;  \\/\\/ OPTIMIZE [790, 870]/' -e 's/^constexpr int ROUGH_HASH = .*;      \\/\\/ OPTIMIZE {0, 0b00000001, 0b00010001, 0b00010011, 0b00110011}$/constexpr int ROUGH_HASH = 0;      \\/\\/ OPTIMIZE {0, 0b00000001, 0b00010001, 0b00010011, 0b00110011}/' -e 's/^constexpr double TARGET_BEAM_WIDTH_INCREASE_RATE = .*;      \\/\\/ OPTIMIZE \\[0\\.25, 4\\.0\\] LOG$/constexpr double TARGET_BEAM_WIDTH_INCREASE_RATE = 0.9584932761074708;      \\/\\/ OPTIMIZE [0.25, 4.0] LOG/' -e 's/^constexpr double TARGET_BEAM_WIDTH_HALF_PROGRES_RATE = .*;  \\/\\/ OPTIMIZE \\[0\\.02, 0\\.98\\]$/constexpr double TARGET_BEAM_WIDTH_HALF_PROGRES_RATE = 0.4596355520964418;  \\/\\/ OPTIMIZE [0.02, 0.98]/' -e 's/^constexpr auto MAX_BEAM_WIDTH = .*;                        \\/\\/ OPTIMIZE \\[400, 4000\\] LOG$/constexpr auto MAX_BEAM_WIDTH = 1136;                        \\/\\/ OPTIMIZE [400, 4000] LOG/'\n",
      "g++ 2_main.cpp -std=gnu++17 -O2 -o 2_main.cpp.out 2> /dev/null\n"
     ]
    },
    {
     "name": "stderr",
     "output_type": "stream",
     "text": [
      "\u001b[32m[I 2021-09-11 14:29:34,036]\u001b[0m Trial 55 finished with value: 2556076101.0 and parameters: {'hash_table_size': 10, 'K_START': 0.0688546283717342, 'K_END': 0.05798944058328245, 'K_H': 0.9688877406698728, 'PURCHASE_TURN_LIMIT': 825, 'ROUGH_HASH': '0', 'TARGET_BEAM_WIDTH_INCREASE_RATE': 3.4779713852640133, 'TARGET_BEAM_WIDTH_HALF_PROGRES_RATE': 0.7991387123107914, 'MAX_BEAM_WIDTH': 575}. Best is trial 49 with value: 2561768169.0.\u001b[0m\n"
     ]
    },
    {
     "name": "stdout",
     "output_type": "stream",
     "text": [
      "callback ok\n",
      "index_parallel=3\n",
      "sed -i 3_main.cpp -e 's/^constexpr int hash_table_size = .*;         \\/\\/ OPTIMIZE \\[6, 18\\]$/constexpr int hash_table_size = 11;         \\/\\/ OPTIMIZE [6, 18]/' -e 's/^constexpr double K_START = .*;  \\/\\/ OPTIMIZE \\[0\\.04, 0\\.2\\] LOG$/constexpr double K_START = 0.06061316681880651;  \\/\\/ OPTIMIZE [0.04, 0.2] LOG/' -e 's/^constexpr double K_END = .*;   \\/\\/ OPTIMIZE \\[0\\.03, 0\\.1\\] LOG$/constexpr double K_END = 0.06485645564681827;   \\/\\/ OPTIMIZE [0.03, 0.1] LOG/' -e 's/^constexpr double K_H = .*;      \\/\\/ OPTIMIZE \\[0\\.001, 0\\.999\\]$/constexpr double K_H = 0.8832117342914964;      \\/\\/ OPTIMIZE [0.001, 0.999]/' -e 's/^constexpr short PURCHASE_TURN_LIMIT = .*;  \\/\\/ OPTIMIZE \\[790, 870\\]$/constexpr short PURCHASE_TURN_LIMIT = 819;  \\/\\/ OPTIMIZE [790, 870]/' -e 's/^constexpr int ROUGH_HASH = .*;      \\/\\/ OPTIMIZE {0, 0b00000001, 0b00010001, 0b00010011, 0b00110011}$/constexpr int ROUGH_HASH = 0;      \\/\\/ OPTIMIZE {0, 0b00000001, 0b00010001, 0b00010011, 0b00110011}/' -e 's/^constexpr double TARGET_BEAM_WIDTH_INCREASE_RATE = .*;      \\/\\/ OPTIMIZE \\[0\\.25, 4\\.0\\] LOG$/constexpr double TARGET_BEAM_WIDTH_INCREASE_RATE = 1.0170106887481452;      \\/\\/ OPTIMIZE [0.25, 4.0] LOG/' -e 's/^constexpr double TARGET_BEAM_WIDTH_HALF_PROGRES_RATE = .*;  \\/\\/ OPTIMIZE \\[0\\.02, 0\\.98\\]$/constexpr double TARGET_BEAM_WIDTH_HALF_PROGRES_RATE = 0.7618716985903863;  \\/\\/ OPTIMIZE [0.02, 0.98]/' -e 's/^constexpr auto MAX_BEAM_WIDTH = .*;                        \\/\\/ OPTIMIZE \\[400, 4000\\] LOG$/constexpr auto MAX_BEAM_WIDTH = 606;                        \\/\\/ OPTIMIZE [400, 4000] LOG/'\n",
      "g++ 3_main.cpp -std=gnu++17 -O2 -o 3_main.cpp.out 2> /dev/null\n"
     ]
    },
    {
     "name": "stderr",
     "output_type": "stream",
     "text": [
      "\u001b[32m[I 2021-09-11 14:30:28,215]\u001b[0m Trial 59 finished with value: 2512825460.0 and parameters: {'hash_table_size': 7, 'K_START': 0.18137005665842312, 'K_END': 0.06315842395096713, 'K_H': 0.8786728293463238, 'PURCHASE_TURN_LIMIT': 837, 'ROUGH_HASH': '0', 'TARGET_BEAM_WIDTH_INCREASE_RATE': 1.3640758081580047, 'TARGET_BEAM_WIDTH_HALF_PROGRES_RATE': 0.5028930627282598, 'MAX_BEAM_WIDTH': 3925}. Best is trial 49 with value: 2561768169.0.\u001b[0m\n"
     ]
    },
    {
     "name": "stdout",
     "output_type": "stream",
     "text": [
      "callback ok\n",
      "index_parallel=4\n",
      "sed -i 4_main.cpp -e 's/^constexpr int hash_table_size = .*;         \\/\\/ OPTIMIZE \\[6, 18\\]$/constexpr int hash_table_size = 11;         \\/\\/ OPTIMIZE [6, 18]/' -e 's/^constexpr double K_START = .*;  \\/\\/ OPTIMIZE \\[0\\.04, 0\\.2\\] LOG$/constexpr double K_START = 0.056104850781651484;  \\/\\/ OPTIMIZE [0.04, 0.2] LOG/' -e 's/^constexpr double K_END = .*;   \\/\\/ OPTIMIZE \\[0\\.03, 0\\.1\\] LOG$/constexpr double K_END = 0.055006622931995826;   \\/\\/ OPTIMIZE [0.03, 0.1] LOG/' -e 's/^constexpr double K_H = .*;      \\/\\/ OPTIMIZE \\[0\\.001, 0\\.999\\]$/constexpr double K_H = 0.2723852707394371;      \\/\\/ OPTIMIZE [0.001, 0.999]/' -e 's/^constexpr short PURCHASE_TURN_LIMIT = .*;  \\/\\/ OPTIMIZE \\[790, 870\\]$/constexpr short PURCHASE_TURN_LIMIT = 863;  \\/\\/ OPTIMIZE [790, 870]/' -e 's/^constexpr int ROUGH_HASH = .*;      \\/\\/ OPTIMIZE {0, 0b00000001, 0b00010001, 0b00010011, 0b00110011}$/constexpr int ROUGH_HASH = 0;      \\/\\/ OPTIMIZE {0, 0b00000001, 0b00010001, 0b00010011, 0b00110011}/' -e 's/^constexpr double TARGET_BEAM_WIDTH_INCREASE_RATE = .*;      \\/\\/ OPTIMIZE \\[0\\.25, 4\\.0\\] LOG$/constexpr double TARGET_BEAM_WIDTH_INCREASE_RATE = 3.00322385756437;      \\/\\/ OPTIMIZE [0.25, 4.0] LOG/' -e 's/^constexpr double TARGET_BEAM_WIDTH_HALF_PROGRES_RATE = .*;  \\/\\/ OPTIMIZE \\[0\\.02, 0\\.98\\]$/constexpr double TARGET_BEAM_WIDTH_HALF_PROGRES_RATE = 0.8337910165538719;  \\/\\/ OPTIMIZE [0.02, 0.98]/' -e 's/^constexpr auto MAX_BEAM_WIDTH = .*;                        \\/\\/ OPTIMIZE \\[400, 4000\\] LOG$/constexpr auto MAX_BEAM_WIDTH = 774;                        \\/\\/ OPTIMIZE [400, 4000] LOG/'\n",
      "g++ 4_main.cpp -std=gnu++17 -O2 -o 4_main.cpp.out 2> /dev/null\n"
     ]
    },
    {
     "name": "stderr",
     "output_type": "stream",
     "text": [
      "\u001b[32m[I 2021-09-11 14:31:19,714]\u001b[0m Trial 60 finished with value: 2474520612.0 and parameters: {'hash_table_size': 7, 'K_START': 0.12511446068558105, 'K_END': 0.06523570940218414, 'K_H': 0.8742195148770578, 'PURCHASE_TURN_LIMIT': 864, 'ROUGH_HASH': '0', 'TARGET_BEAM_WIDTH_INCREASE_RATE': 1.3983645724476232, 'TARGET_BEAM_WIDTH_HALF_PROGRES_RATE': 0.5133149490118822, 'MAX_BEAM_WIDTH': 600}. Best is trial 49 with value: 2561768169.0.\u001b[0m\n"
     ]
    },
    {
     "name": "stdout",
     "output_type": "stream",
     "text": [
      "callback ok\n",
      "index_parallel=5\n",
      "sed -i 5_main.cpp -e 's/^constexpr int hash_table_size = .*;         \\/\\/ OPTIMIZE \\[6, 18\\]$/constexpr int hash_table_size = 9;         \\/\\/ OPTIMIZE [6, 18]/' -e 's/^constexpr double K_START = .*;  \\/\\/ OPTIMIZE \\[0\\.04, 0\\.2\\] LOG$/constexpr double K_START = 0.05911133646411857;  \\/\\/ OPTIMIZE [0.04, 0.2] LOG/' -e 's/^constexpr double K_END = .*;   \\/\\/ OPTIMIZE \\[0\\.03, 0\\.1\\] LOG$/constexpr double K_END = 0.05422075050431372;   \\/\\/ OPTIMIZE [0.03, 0.1] LOG/' -e 's/^constexpr double K_H = .*;      \\/\\/ OPTIMIZE \\[0\\.001, 0\\.999\\]$/constexpr double K_H = 0.7943939942921612;      \\/\\/ OPTIMIZE [0.001, 0.999]/' -e 's/^constexpr short PURCHASE_TURN_LIMIT = .*;  \\/\\/ OPTIMIZE \\[790, 870\\]$/constexpr short PURCHASE_TURN_LIMIT = 820;  \\/\\/ OPTIMIZE [790, 870]/' -e 's/^constexpr int ROUGH_HASH = .*;      \\/\\/ OPTIMIZE {0, 0b00000001, 0b00010001, 0b00010011, 0b00110011}$/constexpr int ROUGH_HASH = 0;      \\/\\/ OPTIMIZE {0, 0b00000001, 0b00010001, 0b00010011, 0b00110011}/' -e 's/^constexpr double TARGET_BEAM_WIDTH_INCREASE_RATE = .*;      \\/\\/ OPTIMIZE \\[0\\.25, 4\\.0\\] LOG$/constexpr double TARGET_BEAM_WIDTH_INCREASE_RATE = 2.8987032807432382;      \\/\\/ OPTIMIZE [0.25, 4.0] LOG/' -e 's/^constexpr double TARGET_BEAM_WIDTH_HALF_PROGRES_RATE = .*;  \\/\\/ OPTIMIZE \\[0\\.02, 0\\.98\\]$/constexpr double TARGET_BEAM_WIDTH_HALF_PROGRES_RATE = 0.4581923445870931;  \\/\\/ OPTIMIZE [0.02, 0.98]/' -e 's/^constexpr auto MAX_BEAM_WIDTH = .*;                        \\/\\/ OPTIMIZE \\[400, 4000\\] LOG$/constexpr auto MAX_BEAM_WIDTH = 746;                        \\/\\/ OPTIMIZE [400, 4000] LOG/'\n",
      "g++ 5_main.cpp -std=gnu++17 -O2 -o 5_main.cpp.out 2> /dev/null\n"
     ]
    },
    {
     "name": "stderr",
     "output_type": "stream",
     "text": [
      "\u001b[32m[I 2021-09-11 14:34:33,814]\u001b[0m Trial 61 finished with value: 2440355895.0 and parameters: {'hash_table_size': 11, 'K_START': 0.12605390958116436, 'K_END': 0.06500982427663804, 'K_H': 0.02639080844434355, 'PURCHASE_TURN_LIMIT': 863, 'ROUGH_HASH': '0', 'TARGET_BEAM_WIDTH_INCREASE_RATE': 1.0042721247751807, 'TARGET_BEAM_WIDTH_HALF_PROGRES_RATE': 0.4773841894692167, 'MAX_BEAM_WIDTH': 608}. Best is trial 49 with value: 2561768169.0.\u001b[0m\n"
     ]
    },
    {
     "name": "stdout",
     "output_type": "stream",
     "text": [
      "callback ok\n",
      "index_parallel=6\n",
      "sed -i 6_main.cpp -e 's/^constexpr int hash_table_size = .*;         \\/\\/ OPTIMIZE \\[6, 18\\]$/constexpr int hash_table_size = 9;         \\/\\/ OPTIMIZE [6, 18]/' -e 's/^constexpr double K_START = .*;  \\/\\/ OPTIMIZE \\[0\\.04, 0\\.2\\] LOG$/constexpr double K_START = 0.059705225802318386;  \\/\\/ OPTIMIZE [0.04, 0.2] LOG/' -e 's/^constexpr double K_END = .*;   \\/\\/ OPTIMIZE \\[0\\.03, 0\\.1\\] LOG$/constexpr double K_END = 0.05547690525492757;   \\/\\/ OPTIMIZE [0.03, 0.1] LOG/' -e 's/^constexpr double K_H = .*;      \\/\\/ OPTIMIZE \\[0\\.001, 0\\.999\\]$/constexpr double K_H = 0.6246709033205187;      \\/\\/ OPTIMIZE [0.001, 0.999]/' -e 's/^constexpr short PURCHASE_TURN_LIMIT = .*;  \\/\\/ OPTIMIZE \\[790, 870\\]$/constexpr short PURCHASE_TURN_LIMIT = 820;  \\/\\/ OPTIMIZE [790, 870]/' -e 's/^constexpr int ROUGH_HASH = .*;      \\/\\/ OPTIMIZE {0, 0b00000001, 0b00010001, 0b00010011, 0b00110011}$/constexpr int ROUGH_HASH = 0;      \\/\\/ OPTIMIZE {0, 0b00000001, 0b00010001, 0b00010011, 0b00110011}/' -e 's/^constexpr double TARGET_BEAM_WIDTH_INCREASE_RATE = .*;      \\/\\/ OPTIMIZE \\[0\\.25, 4\\.0\\] LOG$/constexpr double TARGET_BEAM_WIDTH_INCREASE_RATE = 3.0618565914290232;      \\/\\/ OPTIMIZE [0.25, 4.0] LOG/' -e 's/^constexpr double TARGET_BEAM_WIDTH_HALF_PROGRES_RATE = .*;  \\/\\/ OPTIMIZE \\[0\\.02, 0\\.98\\]$/constexpr double TARGET_BEAM_WIDTH_HALF_PROGRES_RATE = 0.8181116585467144;  \\/\\/ OPTIMIZE [0.02, 0.98]/' -e 's/^constexpr auto MAX_BEAM_WIDTH = .*;                        \\/\\/ OPTIMIZE \\[400, 4000\\] LOG$/constexpr auto MAX_BEAM_WIDTH = 453;                        \\/\\/ OPTIMIZE [400, 4000] LOG/'\n",
      "g++ 6_main.cpp -std=gnu++17 -O2 -o 6_main.cpp.out 2> /dev/null\n"
     ]
    },
    {
     "name": "stderr",
     "output_type": "stream",
     "text": [
      "\u001b[32m[I 2021-09-11 14:35:00,503]\u001b[0m Trial 63 finished with value: 2535178925.0 and parameters: {'hash_table_size': 11, 'K_START': 0.06061316681880651, 'K_END': 0.06485645564681827, 'K_H': 0.8832117342914964, 'PURCHASE_TURN_LIMIT': 819, 'ROUGH_HASH': '0', 'TARGET_BEAM_WIDTH_INCREASE_RATE': 1.0170106887481452, 'TARGET_BEAM_WIDTH_HALF_PROGRES_RATE': 0.7618716985903863, 'MAX_BEAM_WIDTH': 606}. Best is trial 49 with value: 2561768169.0.\u001b[0m\n"
     ]
    },
    {
     "name": "stdout",
     "output_type": "stream",
     "text": [
      "callback ok\n",
      "index_parallel=7\n",
      "sed -i 7_main.cpp -e 's/^constexpr int hash_table_size = .*;         \\/\\/ OPTIMIZE \\[6, 18\\]$/constexpr int hash_table_size = 9;         \\/\\/ OPTIMIZE [6, 18]/' -e 's/^constexpr double K_START = .*;  \\/\\/ OPTIMIZE \\[0\\.04, 0\\.2\\] LOG$/constexpr double K_START = 0.08339248023172668;  \\/\\/ OPTIMIZE [0.04, 0.2] LOG/' -e 's/^constexpr double K_END = .*;   \\/\\/ OPTIMIZE \\[0\\.03, 0\\.1\\] LOG$/constexpr double K_END = 0.0544603596329436;   \\/\\/ OPTIMIZE [0.03, 0.1] LOG/' -e 's/^constexpr double K_H = .*;      \\/\\/ OPTIMIZE \\[0\\.001, 0\\.999\\]$/constexpr double K_H = 0.7922798796769275;      \\/\\/ OPTIMIZE [0.001, 0.999]/' -e 's/^constexpr short PURCHASE_TURN_LIMIT = .*;  \\/\\/ OPTIMIZE \\[790, 870\\]$/constexpr short PURCHASE_TURN_LIMIT = 822;  \\/\\/ OPTIMIZE [790, 870]/' -e 's/^constexpr int ROUGH_HASH = .*;      \\/\\/ OPTIMIZE {0, 0b00000001, 0b00010001, 0b00010011, 0b00110011}$/constexpr int ROUGH_HASH = 0b00010001;      \\/\\/ OPTIMIZE {0, 0b00000001, 0b00010001, 0b00010011, 0b00110011}/' -e 's/^constexpr double TARGET_BEAM_WIDTH_INCREASE_RATE = .*;      \\/\\/ OPTIMIZE \\[0\\.25, 4\\.0\\] LOG$/constexpr double TARGET_BEAM_WIDTH_INCREASE_RATE = 3.018841737821452;      \\/\\/ OPTIMIZE [0.25, 4.0] LOG/' -e 's/^constexpr double TARGET_BEAM_WIDTH_HALF_PROGRES_RATE = .*;  \\/\\/ OPTIMIZE \\[0\\.02, 0\\.98\\]$/constexpr double TARGET_BEAM_WIDTH_HALF_PROGRES_RATE = 0.45591565581006993;  \\/\\/ OPTIMIZE [0.02, 0.98]/' -e 's/^constexpr auto MAX_BEAM_WIDTH = .*;                        \\/\\/ OPTIMIZE \\[400, 4000\\] LOG$/constexpr auto MAX_BEAM_WIDTH = 452;                        \\/\\/ OPTIMIZE [400, 4000] LOG/'\n",
      "g++ 7_main.cpp -std=gnu++17 -O2 -o 7_main.cpp.out 2> /dev/null\n"
     ]
    },
    {
     "name": "stderr",
     "output_type": "stream",
     "text": [
      "\u001b[32m[I 2021-09-11 14:35:10,102]\u001b[0m Trial 62 finished with value: 2488270336.0 and parameters: {'hash_table_size': 11, 'K_START': 0.1241843631978257, 'K_END': 0.054245911191873115, 'K_H': 0.6251930138702281, 'PURCHASE_TURN_LIMIT': 862, 'ROUGH_HASH': '0', 'TARGET_BEAM_WIDTH_INCREASE_RATE': 0.9584932761074708, 'TARGET_BEAM_WIDTH_HALF_PROGRES_RATE': 0.4596355520964418, 'MAX_BEAM_WIDTH': 1136}. Best is trial 49 with value: 2561768169.0.\u001b[0m\n"
     ]
    },
    {
     "name": "stdout",
     "output_type": "stream",
     "text": [
      "callback ok\n",
      "index_parallel=8\n",
      "sed -i 8_main.cpp -e 's/^constexpr int hash_table_size = .*;         \\/\\/ OPTIMIZE \\[6, 18\\]$/constexpr int hash_table_size = 9;         \\/\\/ OPTIMIZE [6, 18]/' -e 's/^constexpr double K_START = .*;  \\/\\/ OPTIMIZE \\[0\\.04, 0\\.2\\] LOG$/constexpr double K_START = 0.05359263784749533;  \\/\\/ OPTIMIZE [0.04, 0.2] LOG/' -e 's/^constexpr double K_END = .*;   \\/\\/ OPTIMIZE \\[0\\.03, 0\\.1\\] LOG$/constexpr double K_END = 0.055722449474837045;   \\/\\/ OPTIMIZE [0.03, 0.1] LOG/' -e 's/^constexpr double K_H = .*;      \\/\\/ OPTIMIZE \\[0\\.001, 0\\.999\\]$/constexpr double K_H = 0.9952879141245827;      \\/\\/ OPTIMIZE [0.001, 0.999]/' -e 's/^constexpr short PURCHASE_TURN_LIMIT = .*;  \\/\\/ OPTIMIZE \\[790, 870\\]$/constexpr short PURCHASE_TURN_LIMIT = 823;  \\/\\/ OPTIMIZE [790, 870]/' -e 's/^constexpr int ROUGH_HASH = .*;      \\/\\/ OPTIMIZE {0, 0b00000001, 0b00010001, 0b00010011, 0b00110011}$/constexpr int ROUGH_HASH = 0b00010001;      \\/\\/ OPTIMIZE {0, 0b00000001, 0b00010001, 0b00010011, 0b00110011}/' -e 's/^constexpr double TARGET_BEAM_WIDTH_INCREASE_RATE = .*;      \\/\\/ OPTIMIZE \\[0\\.25, 4\\.0\\] LOG$/constexpr double TARGET_BEAM_WIDTH_INCREASE_RATE = 2.98274791278384;      \\/\\/ OPTIMIZE [0.25, 4.0] LOG/' -e 's/^constexpr double TARGET_BEAM_WIDTH_HALF_PROGRES_RATE = .*;  \\/\\/ OPTIMIZE \\[0\\.02, 0\\.98\\]$/constexpr double TARGET_BEAM_WIDTH_HALF_PROGRES_RATE = 0.793676894133249;  \\/\\/ OPTIMIZE [0.02, 0.98]/' -e 's/^constexpr auto MAX_BEAM_WIDTH = .*;                        \\/\\/ OPTIMIZE \\[400, 4000\\] LOG$/constexpr auto MAX_BEAM_WIDTH = 447;                        \\/\\/ OPTIMIZE [400, 4000] LOG/'\n",
      "g++ 8_main.cpp -std=gnu++17 -O2 -o 8_main.cpp.out 2> /dev/null\n"
     ]
    },
    {
     "name": "stderr",
     "output_type": "stream",
     "text": [
      "\u001b[32m[I 2021-09-11 14:35:58,022]\u001b[0m Trial 64 finished with value: 2507892371.0 and parameters: {'hash_table_size': 11, 'K_START': 0.056104850781651484, 'K_END': 0.055006622931995826, 'K_H': 0.2723852707394371, 'PURCHASE_TURN_LIMIT': 863, 'ROUGH_HASH': '0', 'TARGET_BEAM_WIDTH_INCREASE_RATE': 3.00322385756437, 'TARGET_BEAM_WIDTH_HALF_PROGRES_RATE': 0.8337910165538719, 'MAX_BEAM_WIDTH': 774}. Best is trial 49 with value: 2561768169.0.\u001b[0m\n"
     ]
    },
    {
     "name": "stdout",
     "output_type": "stream",
     "text": [
      "callback ok\n",
      "index_parallel=9\n",
      "sed -i 9_main.cpp -e 's/^constexpr int hash_table_size = .*;         \\/\\/ OPTIMIZE \\[6, 18\\]$/constexpr int hash_table_size = 9;         \\/\\/ OPTIMIZE [6, 18]/' -e 's/^constexpr double K_START = .*;  \\/\\/ OPTIMIZE \\[0\\.04, 0\\.2\\] LOG$/constexpr double K_START = 0.09144650763137567;  \\/\\/ OPTIMIZE [0.04, 0.2] LOG/' -e 's/^constexpr double K_END = .*;   \\/\\/ OPTIMIZE \\[0\\.03, 0\\.1\\] LOG$/constexpr double K_END = 0.05155107964143808;   \\/\\/ OPTIMIZE [0.03, 0.1] LOG/' -e 's/^constexpr double K_H = .*;      \\/\\/ OPTIMIZE \\[0\\.001, 0\\.999\\]$/constexpr double K_H = 0.8002048838550692;      \\/\\/ OPTIMIZE [0.001, 0.999]/' -e 's/^constexpr short PURCHASE_TURN_LIMIT = .*;  \\/\\/ OPTIMIZE \\[790, 870\\]$/constexpr short PURCHASE_TURN_LIMIT = 855;  \\/\\/ OPTIMIZE [790, 870]/' -e 's/^constexpr int ROUGH_HASH = .*;      \\/\\/ OPTIMIZE {0, 0b00000001, 0b00010001, 0b00010011, 0b00110011}$/constexpr int ROUGH_HASH = 0b00010001;      \\/\\/ OPTIMIZE {0, 0b00000001, 0b00010001, 0b00010011, 0b00110011}/' -e 's/^constexpr double TARGET_BEAM_WIDTH_INCREASE_RATE = .*;      \\/\\/ OPTIMIZE \\[0\\.25, 4\\.0\\] LOG$/constexpr double TARGET_BEAM_WIDTH_INCREASE_RATE = 3.9974723585085576;      \\/\\/ OPTIMIZE [0.25, 4.0] LOG/' -e 's/^constexpr double TARGET_BEAM_WIDTH_HALF_PROGRES_RATE = .*;  \\/\\/ OPTIMIZE \\[0\\.02, 0\\.98\\]$/constexpr double TARGET_BEAM_WIDTH_HALF_PROGRES_RATE = 0.5749726092884859;  \\/\\/ OPTIMIZE [0.02, 0.98]/' -e 's/^constexpr auto MAX_BEAM_WIDTH = .*;                        \\/\\/ OPTIMIZE \\[400, 4000\\] LOG$/constexpr auto MAX_BEAM_WIDTH = 455;                        \\/\\/ OPTIMIZE [400, 4000] LOG/'\n",
      "g++ 9_main.cpp -std=gnu++17 -O2 -o 9_main.cpp.out 2> /dev/null\n"
     ]
    },
    {
     "name": "stderr",
     "output_type": "stream",
     "text": [
      "\u001b[32m[I 2021-09-11 14:36:51,912]\u001b[0m Trial 65 finished with value: 2562684736.0 and parameters: {'hash_table_size': 9, 'K_START': 0.05911133646411857, 'K_END': 0.05422075050431372, 'K_H': 0.7943939942921612, 'PURCHASE_TURN_LIMIT': 820, 'ROUGH_HASH': '0', 'TARGET_BEAM_WIDTH_INCREASE_RATE': 2.8987032807432382, 'TARGET_BEAM_WIDTH_HALF_PROGRES_RATE': 0.4581923445870931, 'MAX_BEAM_WIDTH': 746}. Best is trial 65 with value: 2562684736.0.\u001b[0m\n"
     ]
    },
    {
     "name": "stdout",
     "output_type": "stream",
     "text": [
      "Updated! 2562684736.0\n",
      "callback ok\n",
      "index_parallel=10\n",
      "sed -i 10_main.cpp -e 's/^constexpr int hash_table_size = .*;         \\/\\/ OPTIMIZE \\[6, 18\\]$/constexpr int hash_table_size = 9;         \\/\\/ OPTIMIZE [6, 18]/' -e 's/^constexpr double K_START = .*;  \\/\\/ OPTIMIZE \\[0\\.04, 0\\.2\\] LOG$/constexpr double K_START = 0.047002913554271886;  \\/\\/ OPTIMIZE [0.04, 0.2] LOG/' -e 's/^constexpr double K_END = .*;   \\/\\/ OPTIMIZE \\[0\\.03, 0\\.1\\] LOG$/constexpr double K_END = 0.04710492297163081;   \\/\\/ OPTIMIZE [0.03, 0.1] LOG/' -e 's/^constexpr double K_H = .*;      \\/\\/ OPTIMIZE \\[0\\.001, 0\\.999\\]$/constexpr double K_H = 0.7887735347675472;      \\/\\/ OPTIMIZE [0.001, 0.999]/' -e 's/^constexpr short PURCHASE_TURN_LIMIT = .*;  \\/\\/ OPTIMIZE \\[790, 870\\]$/constexpr short PURCHASE_TURN_LIMIT = 822;  \\/\\/ OPTIMIZE [790, 870]/' -e 's/^constexpr int ROUGH_HASH = .*;      \\/\\/ OPTIMIZE {0, 0b00000001, 0b00010001, 0b00010011, 0b00110011}$/constexpr int ROUGH_HASH = 0;      \\/\\/ OPTIMIZE {0, 0b00000001, 0b00010001, 0b00010011, 0b00110011}/' -e 's/^constexpr double TARGET_BEAM_WIDTH_INCREASE_RATE = .*;      \\/\\/ OPTIMIZE \\[0\\.25, 4\\.0\\] LOG$/constexpr double TARGET_BEAM_WIDTH_INCREASE_RATE = 2.9116800020456814;      \\/\\/ OPTIMIZE [0.25, 4.0] LOG/' -e 's/^constexpr double TARGET_BEAM_WIDTH_HALF_PROGRES_RATE = .*;  \\/\\/ OPTIMIZE \\[0\\.02, 0\\.98\\]$/constexpr double TARGET_BEAM_WIDTH_HALF_PROGRES_RATE = 0.8380655504128901;  \\/\\/ OPTIMIZE [0.02, 0.98]/' -e 's/^constexpr auto MAX_BEAM_WIDTH = .*;                        \\/\\/ OPTIMIZE \\[400, 4000\\] LOG$/constexpr auto MAX_BEAM_WIDTH = 738;                        \\/\\/ OPTIMIZE [400, 4000] LOG/'\n",
      "g++ 10_main.cpp -std=gnu++17 -O2 -o 10_main.cpp.out 2> /dev/null\n"
     ]
    },
    {
     "name": "stderr",
     "output_type": "stream",
     "text": [
      "\u001b[32m[I 2021-09-11 14:39:56,029]\u001b[0m Trial 66 finished with value: 2553242844.0 and parameters: {'hash_table_size': 9, 'K_START': 0.059705225802318386, 'K_END': 0.05547690525492757, 'K_H': 0.6246709033205187, 'PURCHASE_TURN_LIMIT': 820, 'ROUGH_HASH': '0', 'TARGET_BEAM_WIDTH_INCREASE_RATE': 3.0618565914290232, 'TARGET_BEAM_WIDTH_HALF_PROGRES_RATE': 0.8181116585467144, 'MAX_BEAM_WIDTH': 453}. Best is trial 65 with value: 2562684736.0.\u001b[0m\n"
     ]
    },
    {
     "name": "stdout",
     "output_type": "stream",
     "text": [
      "callback ok\n",
      "index_parallel=11\n",
      "sed -i 11_main.cpp -e 's/^constexpr int hash_table_size = .*;         \\/\\/ OPTIMIZE \\[6, 18\\]$/constexpr int hash_table_size = 9;         \\/\\/ OPTIMIZE [6, 18]/' -e 's/^constexpr double K_START = .*;  \\/\\/ OPTIMIZE \\[0\\.04, 0\\.2\\] LOG$/constexpr double K_START = 0.04805180641759722;  \\/\\/ OPTIMIZE [0.04, 0.2] LOG/' -e 's/^constexpr double K_END = .*;   \\/\\/ OPTIMIZE \\[0\\.03, 0\\.1\\] LOG$/constexpr double K_END = 0.047263273795099224;   \\/\\/ OPTIMIZE [0.03, 0.1] LOG/' -e 's/^constexpr double K_H = .*;      \\/\\/ OPTIMIZE \\[0\\.001, 0\\.999\\]$/constexpr double K_H = 0.6784467104291314;      \\/\\/ OPTIMIZE [0.001, 0.999]/' -e 's/^constexpr short PURCHASE_TURN_LIMIT = .*;  \\/\\/ OPTIMIZE \\[790, 870\\]$/constexpr short PURCHASE_TURN_LIMIT = 822;  \\/\\/ OPTIMIZE [790, 870]/' -e 's/^constexpr int ROUGH_HASH = .*;      \\/\\/ OPTIMIZE {0, 0b00000001, 0b00010001, 0b00010011, 0b00110011}$/constexpr int ROUGH_HASH = 0;      \\/\\/ OPTIMIZE {0, 0b00000001, 0b00010001, 0b00010011, 0b00110011}/' -e 's/^constexpr double TARGET_BEAM_WIDTH_INCREASE_RATE = .*;      \\/\\/ OPTIMIZE \\[0\\.25, 4\\.0\\] LOG$/constexpr double TARGET_BEAM_WIDTH_INCREASE_RATE = 3.981685349006229;      \\/\\/ OPTIMIZE [0.25, 4.0] LOG/' -e 's/^constexpr double TARGET_BEAM_WIDTH_HALF_PROGRES_RATE = .*;  \\/\\/ OPTIMIZE \\[0\\.02, 0\\.98\\]$/constexpr double TARGET_BEAM_WIDTH_HALF_PROGRES_RATE = 0.8252145871744161;  \\/\\/ OPTIMIZE [0.02, 0.98]/' -e 's/^constexpr auto MAX_BEAM_WIDTH = .*;                        \\/\\/ OPTIMIZE \\[400, 4000\\] LOG$/constexpr auto MAX_BEAM_WIDTH = 741;                        \\/\\/ OPTIMIZE [400, 4000] LOG/'\n",
      "g++ 11_main.cpp -std=gnu++17 -O2 -o 11_main.cpp.out 2> /dev/null\n"
     ]
    },
    {
     "name": "stderr",
     "output_type": "stream",
     "text": [
      "\u001b[32m[I 2021-09-11 14:40:30,400]\u001b[0m Trial 67 finished with value: 2555635216.0 and parameters: {'hash_table_size': 9, 'K_START': 0.08339248023172668, 'K_END': 0.0544603596329436, 'K_H': 0.7922798796769275, 'PURCHASE_TURN_LIMIT': 822, 'ROUGH_HASH': '0b00010001', 'TARGET_BEAM_WIDTH_INCREASE_RATE': 3.018841737821452, 'TARGET_BEAM_WIDTH_HALF_PROGRES_RATE': 0.45591565581006993, 'MAX_BEAM_WIDTH': 452}. Best is trial 65 with value: 2562684736.0.\u001b[0m\n"
     ]
    },
    {
     "name": "stdout",
     "output_type": "stream",
     "text": [
      "callback ok\n",
      "index_parallel=0\n",
      "sed -i 0_main.cpp -e 's/^constexpr int hash_table_size = .*;         \\/\\/ OPTIMIZE \\[6, 18\\]$/constexpr int hash_table_size = 9;         \\/\\/ OPTIMIZE [6, 18]/' -e 's/^constexpr double K_START = .*;  \\/\\/ OPTIMIZE \\[0\\.04, 0\\.2\\] LOG$/constexpr double K_START = 0.06252834185265661;  \\/\\/ OPTIMIZE [0.04, 0.2] LOG/' -e 's/^constexpr double K_END = .*;   \\/\\/ OPTIMIZE \\[0\\.03, 0\\.1\\] LOG$/constexpr double K_END = 0.0471431245491084;   \\/\\/ OPTIMIZE [0.03, 0.1] LOG/' -e 's/^constexpr double K_H = .*;      \\/\\/ OPTIMIZE \\[0\\.001, 0\\.999\\]$/constexpr double K_H = 0.6796160632881486;      \\/\\/ OPTIMIZE [0.001, 0.999]/' -e 's/^constexpr short PURCHASE_TURN_LIMIT = .*;  \\/\\/ OPTIMIZE \\[790, 870\\]$/constexpr short PURCHASE_TURN_LIMIT = 817;  \\/\\/ OPTIMIZE [790, 870]/' -e 's/^constexpr int ROUGH_HASH = .*;      \\/\\/ OPTIMIZE {0, 0b00000001, 0b00010001, 0b00010011, 0b00110011}$/constexpr int ROUGH_HASH = 0;      \\/\\/ OPTIMIZE {0, 0b00000001, 0b00010001, 0b00010011, 0b00110011}/' -e 's/^constexpr double TARGET_BEAM_WIDTH_INCREASE_RATE = .*;      \\/\\/ OPTIMIZE \\[0\\.25, 4\\.0\\] LOG$/constexpr double TARGET_BEAM_WIDTH_INCREASE_RATE = 3.8311255217784916;      \\/\\/ OPTIMIZE [0.25, 4.0] LOG/' -e 's/^constexpr double TARGET_BEAM_WIDTH_HALF_PROGRES_RATE = .*;  \\/\\/ OPTIMIZE \\[0\\.02, 0\\.98\\]$/constexpr double TARGET_BEAM_WIDTH_HALF_PROGRES_RATE = 0.8377502110155322;  \\/\\/ OPTIMIZE [0.02, 0.98]/' -e 's/^constexpr auto MAX_BEAM_WIDTH = .*;                        \\/\\/ OPTIMIZE \\[400, 4000\\] LOG$/constexpr auto MAX_BEAM_WIDTH = 767;                        \\/\\/ OPTIMIZE [400, 4000] LOG/'\n",
      "g++ 0_main.cpp -std=gnu++17 -O2 -o 0_main.cpp.out 2> /dev/null\n"
     ]
    },
    {
     "name": "stderr",
     "output_type": "stream",
     "text": [
      "\u001b[32m[I 2021-09-11 14:40:33,027]\u001b[0m Trial 68 finished with value: 2550179586.0 and parameters: {'hash_table_size': 9, 'K_START': 0.05359263784749533, 'K_END': 0.055722449474837045, 'K_H': 0.9952879141245827, 'PURCHASE_TURN_LIMIT': 823, 'ROUGH_HASH': '0b00010001', 'TARGET_BEAM_WIDTH_INCREASE_RATE': 2.98274791278384, 'TARGET_BEAM_WIDTH_HALF_PROGRES_RATE': 0.793676894133249, 'MAX_BEAM_WIDTH': 447}. Best is trial 65 with value: 2562684736.0.\u001b[0m\n"
     ]
    },
    {
     "name": "stdout",
     "output_type": "stream",
     "text": [
      "callback ok\n",
      "index_parallel=1\n",
      "sed -i 1_main.cpp -e 's/^constexpr int hash_table_size = .*;         \\/\\/ OPTIMIZE \\[6, 18\\]$/constexpr int hash_table_size = 9;         \\/\\/ OPTIMIZE [6, 18]/' -e 's/^constexpr double K_START = .*;  \\/\\/ OPTIMIZE \\[0\\.04, 0\\.2\\] LOG$/constexpr double K_START = 0.06340606597587212;  \\/\\/ OPTIMIZE [0.04, 0.2] LOG/' -e 's/^constexpr double K_END = .*;   \\/\\/ OPTIMIZE \\[0\\.03, 0\\.1\\] LOG$/constexpr double K_END = 0.052288058997250274;   \\/\\/ OPTIMIZE [0.03, 0.1] LOG/' -e 's/^constexpr double K_H = .*;      \\/\\/ OPTIMIZE \\[0\\.001, 0\\.999\\]$/constexpr double K_H = 0.6823848184840792;      \\/\\/ OPTIMIZE [0.001, 0.999]/' -e 's/^constexpr short PURCHASE_TURN_LIMIT = .*;  \\/\\/ OPTIMIZE \\[790, 870\\]$/constexpr short PURCHASE_TURN_LIMIT = 821;  \\/\\/ OPTIMIZE [790, 870]/' -e 's/^constexpr int ROUGH_HASH = .*;      \\/\\/ OPTIMIZE {0, 0b00000001, 0b00010001, 0b00010011, 0b00110011}$/constexpr int ROUGH_HASH = 0;      \\/\\/ OPTIMIZE {0, 0b00000001, 0b00010001, 0b00010011, 0b00110011}/' -e 's/^constexpr double TARGET_BEAM_WIDTH_INCREASE_RATE = .*;      \\/\\/ OPTIMIZE \\[0\\.25, 4\\.0\\] LOG$/constexpr double TARGET_BEAM_WIDTH_INCREASE_RATE = 3.7545814539343554;      \\/\\/ OPTIMIZE [0.25, 4.0] LOG/' -e 's/^constexpr double TARGET_BEAM_WIDTH_HALF_PROGRES_RATE = .*;  \\/\\/ OPTIMIZE \\[0\\.02, 0\\.98\\]$/constexpr double TARGET_BEAM_WIDTH_HALF_PROGRES_RATE = 0.8893309474342004;  \\/\\/ OPTIMIZE [0.02, 0.98]/' -e 's/^constexpr auto MAX_BEAM_WIDTH = .*;                        \\/\\/ OPTIMIZE \\[400, 4000\\] LOG$/constexpr auto MAX_BEAM_WIDTH = 731;                        \\/\\/ OPTIMIZE [400, 4000] LOG/'\n",
      "g++ 1_main.cpp -std=gnu++17 -O2 -o 1_main.cpp.out 2> /dev/null\n"
     ]
    },
    {
     "name": "stderr",
     "output_type": "stream",
     "text": [
      "\u001b[32m[I 2021-09-11 14:41:23,949]\u001b[0m Trial 69 finished with value: 2537403554.0 and parameters: {'hash_table_size': 9, 'K_START': 0.09144650763137567, 'K_END': 0.05155107964143808, 'K_H': 0.8002048838550692, 'PURCHASE_TURN_LIMIT': 855, 'ROUGH_HASH': '0b00010001', 'TARGET_BEAM_WIDTH_INCREASE_RATE': 3.9974723585085576, 'TARGET_BEAM_WIDTH_HALF_PROGRES_RATE': 0.5749726092884859, 'MAX_BEAM_WIDTH': 455}. Best is trial 65 with value: 2562684736.0.\u001b[0m\n"
     ]
    },
    {
     "name": "stdout",
     "output_type": "stream",
     "text": [
      "callback ok\n",
      "index_parallel=2\n",
      "sed -i 2_main.cpp -e 's/^constexpr int hash_table_size = .*;         \\/\\/ OPTIMIZE \\[6, 18\\]$/constexpr int hash_table_size = 12;         \\/\\/ OPTIMIZE [6, 18]/' -e 's/^constexpr double K_START = .*;  \\/\\/ OPTIMIZE \\[0\\.04, 0\\.2\\] LOG$/constexpr double K_START = 0.06639127546999814;  \\/\\/ OPTIMIZE [0.04, 0.2] LOG/' -e 's/^constexpr double K_END = .*;   \\/\\/ OPTIMIZE \\[0\\.03, 0\\.1\\] LOG$/constexpr double K_END = 0.047148960156636104;   \\/\\/ OPTIMIZE [0.03, 0.1] LOG/' -e 's/^constexpr double K_H = .*;      \\/\\/ OPTIMIZE \\[0\\.001, 0\\.999\\]$/constexpr double K_H = 0.6812776556710429;      \\/\\/ OPTIMIZE [0.001, 0.999]/' -e 's/^constexpr short PURCHASE_TURN_LIMIT = .*;  \\/\\/ OPTIMIZE \\[790, 870\\]$/constexpr short PURCHASE_TURN_LIMIT = 820;  \\/\\/ OPTIMIZE [790, 870]/' -e 's/^constexpr int ROUGH_HASH = .*;      \\/\\/ OPTIMIZE {0, 0b00000001, 0b00010001, 0b00010011, 0b00110011}$/constexpr int ROUGH_HASH = 0;      \\/\\/ OPTIMIZE {0, 0b00000001, 0b00010001, 0b00010011, 0b00110011}/' -e 's/^constexpr double TARGET_BEAM_WIDTH_INCREASE_RATE = .*;      \\/\\/ OPTIMIZE \\[0\\.25, 4\\.0\\] LOG$/constexpr double TARGET_BEAM_WIDTH_INCREASE_RATE = 3.732336501490813;      \\/\\/ OPTIMIZE [0.25, 4.0] LOG/' -e 's/^constexpr double TARGET_BEAM_WIDTH_HALF_PROGRES_RATE = .*;  \\/\\/ OPTIMIZE \\[0\\.02, 0\\.98\\]$/constexpr double TARGET_BEAM_WIDTH_HALF_PROGRES_RATE = 0.8915387683856311;  \\/\\/ OPTIMIZE [0.02, 0.98]/' -e 's/^constexpr auto MAX_BEAM_WIDTH = .*;                        \\/\\/ OPTIMIZE \\[400, 4000\\] LOG$/constexpr auto MAX_BEAM_WIDTH = 754;                        \\/\\/ OPTIMIZE [400, 4000] LOG/'\n",
      "g++ 2_main.cpp -std=gnu++17 -O2 -o 2_main.cpp.out 2> /dev/null\n"
     ]
    },
    {
     "name": "stderr",
     "output_type": "stream",
     "text": [
      "\u001b[32m[I 2021-09-11 14:42:17,850]\u001b[0m Trial 70 finished with value: 2542424072.0 and parameters: {'hash_table_size': 9, 'K_START': 0.047002913554271886, 'K_END': 0.04710492297163081, 'K_H': 0.7887735347675472, 'PURCHASE_TURN_LIMIT': 822, 'ROUGH_HASH': '0', 'TARGET_BEAM_WIDTH_INCREASE_RATE': 2.9116800020456814, 'TARGET_BEAM_WIDTH_HALF_PROGRES_RATE': 0.8380655504128901, 'MAX_BEAM_WIDTH': 738}. Best is trial 65 with value: 2562684736.0.\u001b[0m\n"
     ]
    },
    {
     "name": "stdout",
     "output_type": "stream",
     "text": [
      "callback ok\n",
      "index_parallel=3\n",
      "sed -i 3_main.cpp -e 's/^constexpr int hash_table_size = .*;         \\/\\/ OPTIMIZE \\[6, 18\\]$/constexpr int hash_table_size = 9;         \\/\\/ OPTIMIZE [6, 18]/' -e 's/^constexpr double K_START = .*;  \\/\\/ OPTIMIZE \\[0\\.04, 0\\.2\\] LOG$/constexpr double K_START = 0.050604197675047626;  \\/\\/ OPTIMIZE [0.04, 0.2] LOG/' -e 's/^constexpr double K_END = .*;   \\/\\/ OPTIMIZE \\[0\\.03, 0\\.1\\] LOG$/constexpr double K_END = 0.0563607888651429;   \\/\\/ OPTIMIZE [0.03, 0.1] LOG/' -e 's/^constexpr double K_H = .*;      \\/\\/ OPTIMIZE \\[0\\.001, 0\\.999\\]$/constexpr double K_H = 0.6674897567343789;      \\/\\/ OPTIMIZE [0.001, 0.999]/' -e 's/^constexpr short PURCHASE_TURN_LIMIT = .*;  \\/\\/ OPTIMIZE \\[790, 870\\]$/constexpr short PURCHASE_TURN_LIMIT = 819;  \\/\\/ OPTIMIZE [790, 870]/' -e 's/^constexpr int ROUGH_HASH = .*;      \\/\\/ OPTIMIZE {0, 0b00000001, 0b00010001, 0b00010011, 0b00110011}$/constexpr int ROUGH_HASH = 0;      \\/\\/ OPTIMIZE {0, 0b00000001, 0b00010001, 0b00010011, 0b00110011}/' -e 's/^constexpr double TARGET_BEAM_WIDTH_INCREASE_RATE = .*;      \\/\\/ OPTIMIZE \\[0\\.25, 4\\.0\\] LOG$/constexpr double TARGET_BEAM_WIDTH_INCREASE_RATE = 3.1558675935748424;      \\/\\/ OPTIMIZE [0.25, 4.0] LOG/' -e 's/^constexpr double TARGET_BEAM_WIDTH_HALF_PROGRES_RATE = .*;  \\/\\/ OPTIMIZE \\[0\\.02, 0\\.98\\]$/constexpr double TARGET_BEAM_WIDTH_HALF_PROGRES_RATE = 0.8024517625120282;  \\/\\/ OPTIMIZE [0.02, 0.98]/' -e 's/^constexpr auto MAX_BEAM_WIDTH = .*;                        \\/\\/ OPTIMIZE \\[400, 4000\\] LOG$/constexpr auto MAX_BEAM_WIDTH = 521;                        \\/\\/ OPTIMIZE [400, 4000] LOG/'\n",
      "g++ 3_main.cpp -std=gnu++17 -O2 -o 3_main.cpp.out 2> /dev/null\n"
     ]
    },
    {
     "name": "stderr",
     "output_type": "stream",
     "text": [
      "\u001b[32m[I 2021-09-11 14:45:21,703]\u001b[0m Trial 71 finished with value: 2547585475.0 and parameters: {'hash_table_size': 9, 'K_START': 0.04805180641759722, 'K_END': 0.047263273795099224, 'K_H': 0.6784467104291314, 'PURCHASE_TURN_LIMIT': 822, 'ROUGH_HASH': '0', 'TARGET_BEAM_WIDTH_INCREASE_RATE': 3.981685349006229, 'TARGET_BEAM_WIDTH_HALF_PROGRES_RATE': 0.8252145871744161, 'MAX_BEAM_WIDTH': 741}. Best is trial 65 with value: 2562684736.0.\u001b[0m\n"
     ]
    },
    {
     "name": "stdout",
     "output_type": "stream",
     "text": [
      "callback ok\n",
      "index_parallel=4\n",
      "sed -i 4_main.cpp -e 's/^constexpr int hash_table_size = .*;         \\/\\/ OPTIMIZE \\[6, 18\\]$/constexpr int hash_table_size = 9;         \\/\\/ OPTIMIZE [6, 18]/' -e 's/^constexpr double K_START = .*;  \\/\\/ OPTIMIZE \\[0\\.04, 0\\.2\\] LOG$/constexpr double K_START = 0.05366765884345761;  \\/\\/ OPTIMIZE [0.04, 0.2] LOG/' -e 's/^constexpr double K_END = .*;   \\/\\/ OPTIMIZE \\[0\\.03, 0\\.1\\] LOG$/constexpr double K_END = 0.05646224661596014;   \\/\\/ OPTIMIZE [0.03, 0.1] LOG/' -e 's/^constexpr double K_H = .*;      \\/\\/ OPTIMIZE \\[0\\.001, 0\\.999\\]$/constexpr double K_H = 0.7258470273946156;      \\/\\/ OPTIMIZE [0.001, 0.999]/' -e 's/^constexpr short PURCHASE_TURN_LIMIT = .*;  \\/\\/ OPTIMIZE \\[790, 870\\]$/constexpr short PURCHASE_TURN_LIMIT = 817;  \\/\\/ OPTIMIZE [790, 870]/' -e 's/^constexpr int ROUGH_HASH = .*;      \\/\\/ OPTIMIZE {0, 0b00000001, 0b00010001, 0b00010011, 0b00110011}$/constexpr int ROUGH_HASH = 0;      \\/\\/ OPTIMIZE {0, 0b00000001, 0b00010001, 0b00010011, 0b00110011}/' -e 's/^constexpr double TARGET_BEAM_WIDTH_INCREASE_RATE = .*;      \\/\\/ OPTIMIZE \\[0\\.25, 4\\.0\\] LOG$/constexpr double TARGET_BEAM_WIDTH_INCREASE_RATE = 3.2443370645328433;      \\/\\/ OPTIMIZE [0.25, 4.0] LOG/' -e 's/^constexpr double TARGET_BEAM_WIDTH_HALF_PROGRES_RATE = .*;  \\/\\/ OPTIMIZE \\[0\\.02, 0\\.98\\]$/constexpr double TARGET_BEAM_WIDTH_HALF_PROGRES_RATE = 0.9256931623144482;  \\/\\/ OPTIMIZE [0.02, 0.98]/' -e 's/^constexpr auto MAX_BEAM_WIDTH = .*;                        \\/\\/ OPTIMIZE \\[400, 4000\\] LOG$/constexpr auto MAX_BEAM_WIDTH = 518;                        \\/\\/ OPTIMIZE [400, 4000] LOG/'\n",
      "g++ 4_main.cpp -std=gnu++17 -O2 -o 4_main.cpp.out 2> /dev/null\n"
     ]
    },
    {
     "name": "stderr",
     "output_type": "stream",
     "text": [
      "\u001b[32m[I 2021-09-11 14:45:56,146]\u001b[0m Trial 72 finished with value: 2547488751.0 and parameters: {'hash_table_size': 9, 'K_START': 0.06252834185265661, 'K_END': 0.0471431245491084, 'K_H': 0.6796160632881486, 'PURCHASE_TURN_LIMIT': 817, 'ROUGH_HASH': '0', 'TARGET_BEAM_WIDTH_INCREASE_RATE': 3.8311255217784916, 'TARGET_BEAM_WIDTH_HALF_PROGRES_RATE': 0.8377502110155322, 'MAX_BEAM_WIDTH': 767}. Best is trial 65 with value: 2562684736.0.\u001b[0m\n"
     ]
    },
    {
     "name": "stdout",
     "output_type": "stream",
     "text": [
      "callback ok\n",
      "index_parallel=5\n",
      "sed -i 5_main.cpp -e 's/^constexpr int hash_table_size = .*;         \\/\\/ OPTIMIZE \\[6, 18\\]$/constexpr int hash_table_size = 10;         \\/\\/ OPTIMIZE [6, 18]/' -e 's/^constexpr double K_START = .*;  \\/\\/ OPTIMIZE \\[0\\.04, 0\\.2\\] LOG$/constexpr double K_START = 0.05336994749670256;  \\/\\/ OPTIMIZE [0.04, 0.2] LOG/' -e 's/^constexpr double K_END = .*;   \\/\\/ OPTIMIZE \\[0\\.03, 0\\.1\\] LOG$/constexpr double K_END = 0.0562836761223332;   \\/\\/ OPTIMIZE [0.03, 0.1] LOG/' -e 's/^constexpr double K_H = .*;      \\/\\/ OPTIMIZE \\[0\\.001, 0\\.999\\]$/constexpr double K_H = 0.6322166814162575;      \\/\\/ OPTIMIZE [0.001, 0.999]/' -e 's/^constexpr short PURCHASE_TURN_LIMIT = .*;  \\/\\/ OPTIMIZE \\[790, 870\\]$/constexpr short PURCHASE_TURN_LIMIT = 819;  \\/\\/ OPTIMIZE [790, 870]/' -e 's/^constexpr int ROUGH_HASH = .*;      \\/\\/ OPTIMIZE {0, 0b00000001, 0b00010001, 0b00010011, 0b00110011}$/constexpr int ROUGH_HASH = 0;      \\/\\/ OPTIMIZE {0, 0b00000001, 0b00010001, 0b00010011, 0b00110011}/' -e 's/^constexpr double TARGET_BEAM_WIDTH_INCREASE_RATE = .*;      \\/\\/ OPTIMIZE \\[0\\.25, 4\\.0\\] LOG$/constexpr double TARGET_BEAM_WIDTH_INCREASE_RATE = 3.2507507978934496;      \\/\\/ OPTIMIZE [0.25, 4.0] LOG/' -e 's/^constexpr double TARGET_BEAM_WIDTH_HALF_PROGRES_RATE = .*;  \\/\\/ OPTIMIZE \\[0\\.02, 0\\.98\\]$/constexpr double TARGET_BEAM_WIDTH_HALF_PROGRES_RATE = 0.8758113867501913;  \\/\\/ OPTIMIZE [0.02, 0.98]/' -e 's/^constexpr auto MAX_BEAM_WIDTH = .*;                        \\/\\/ OPTIMIZE \\[400, 4000\\] LOG$/constexpr auto MAX_BEAM_WIDTH = 521;                        \\/\\/ OPTIMIZE [400, 4000] LOG/'\n",
      "g++ 5_main.cpp -std=gnu++17 -O2 -o 5_main.cpp.out 2> /dev/null\n"
     ]
    },
    {
     "name": "stderr",
     "output_type": "stream",
     "text": [
      "\u001b[32m[I 2021-09-11 14:45:58,903]\u001b[0m Trial 73 finished with value: 2554493771.0 and parameters: {'hash_table_size': 9, 'K_START': 0.06340606597587212, 'K_END': 0.052288058997250274, 'K_H': 0.6823848184840792, 'PURCHASE_TURN_LIMIT': 821, 'ROUGH_HASH': '0', 'TARGET_BEAM_WIDTH_INCREASE_RATE': 3.7545814539343554, 'TARGET_BEAM_WIDTH_HALF_PROGRES_RATE': 0.8893309474342004, 'MAX_BEAM_WIDTH': 731}. Best is trial 65 with value: 2562684736.0.\u001b[0m\n"
     ]
    },
    {
     "name": "stdout",
     "output_type": "stream",
     "text": [
      "callback ok\n",
      "index_parallel=6\n",
      "sed -i 6_main.cpp -e 's/^constexpr int hash_table_size = .*;         \\/\\/ OPTIMIZE \\[6, 18\\]$/constexpr int hash_table_size = 10;         \\/\\/ OPTIMIZE [6, 18]/' -e 's/^constexpr double K_START = .*;  \\/\\/ OPTIMIZE \\[0\\.04, 0\\.2\\] LOG$/constexpr double K_START = 0.07023562460822945;  \\/\\/ OPTIMIZE [0.04, 0.2] LOG/' -e 's/^constexpr double K_END = .*;   \\/\\/ OPTIMIZE \\[0\\.03, 0\\.1\\] LOG$/constexpr double K_END = 0.05312830733899803;   \\/\\/ OPTIMIZE [0.03, 0.1] LOG/' -e 's/^constexpr double K_H = .*;      \\/\\/ OPTIMIZE \\[0\\.001, 0\\.999\\]$/constexpr double K_H = 0.6353225734433917;      \\/\\/ OPTIMIZE [0.001, 0.999]/' -e 's/^constexpr short PURCHASE_TURN_LIMIT = .*;  \\/\\/ OPTIMIZE \\[790, 870\\]$/constexpr short PURCHASE_TURN_LIMIT = 819;  \\/\\/ OPTIMIZE [790, 870]/' -e 's/^constexpr int ROUGH_HASH = .*;      \\/\\/ OPTIMIZE {0, 0b00000001, 0b00010001, 0b00010011, 0b00110011}$/constexpr int ROUGH_HASH = 0;      \\/\\/ OPTIMIZE {0, 0b00000001, 0b00010001, 0b00010011, 0b00110011}/' -e 's/^constexpr double TARGET_BEAM_WIDTH_INCREASE_RATE = .*;      \\/\\/ OPTIMIZE \\[0\\.25, 4\\.0\\] LOG$/constexpr double TARGET_BEAM_WIDTH_INCREASE_RATE = 3.2403743949295634;      \\/\\/ OPTIMIZE [0.25, 4.0] LOG/' -e 's/^constexpr double TARGET_BEAM_WIDTH_HALF_PROGRES_RATE = .*;  \\/\\/ OPTIMIZE \\[0\\.02, 0\\.98\\]$/constexpr double TARGET_BEAM_WIDTH_HALF_PROGRES_RATE = 0.924695366586921;  \\/\\/ OPTIMIZE [0.02, 0.98]/' -e 's/^constexpr auto MAX_BEAM_WIDTH = .*;                        \\/\\/ OPTIMIZE \\[400, 4000\\] LOG$/constexpr auto MAX_BEAM_WIDTH = 523;                        \\/\\/ OPTIMIZE [400, 4000] LOG/'\n",
      "g++ 6_main.cpp -std=gnu++17 -O2 -o 6_main.cpp.out 2> /dev/null\n"
     ]
    },
    {
     "name": "stderr",
     "output_type": "stream",
     "text": [
      "\u001b[32m[I 2021-09-11 14:46:49,589]\u001b[0m Trial 74 finished with value: 2538083483.0 and parameters: {'hash_table_size': 12, 'K_START': 0.06639127546999814, 'K_END': 0.047148960156636104, 'K_H': 0.6812776556710429, 'PURCHASE_TURN_LIMIT': 820, 'ROUGH_HASH': '0', 'TARGET_BEAM_WIDTH_INCREASE_RATE': 3.732336501490813, 'TARGET_BEAM_WIDTH_HALF_PROGRES_RATE': 0.8915387683856311, 'MAX_BEAM_WIDTH': 754}. Best is trial 65 with value: 2562684736.0.\u001b[0m\n"
     ]
    },
    {
     "name": "stdout",
     "output_type": "stream",
     "text": [
      "callback ok\n",
      "index_parallel=7\n",
      "sed -i 7_main.cpp -e 's/^constexpr int hash_table_size = .*;         \\/\\/ OPTIMIZE \\[6, 18\\]$/constexpr int hash_table_size = 10;         \\/\\/ OPTIMIZE [6, 18]/' -e 's/^constexpr double K_START = .*;  \\/\\/ OPTIMIZE \\[0\\.04, 0\\.2\\] LOG$/constexpr double K_START = 0.08383169294623838;  \\/\\/ OPTIMIZE [0.04, 0.2] LOG/' -e 's/^constexpr double K_END = .*;   \\/\\/ OPTIMIZE \\[0\\.03, 0\\.1\\] LOG$/constexpr double K_END = 0.052338802800032794;   \\/\\/ OPTIMIZE [0.03, 0.1] LOG/' -e 's/^constexpr double K_H = .*;      \\/\\/ OPTIMIZE \\[0\\.001, 0\\.999\\]$/constexpr double K_H = 0.6414086328770582;      \\/\\/ OPTIMIZE [0.001, 0.999]/' -e 's/^constexpr short PURCHASE_TURN_LIMIT = .*;  \\/\\/ OPTIMIZE \\[790, 870\\]$/constexpr short PURCHASE_TURN_LIMIT = 811;  \\/\\/ OPTIMIZE [790, 870]/' -e 's/^constexpr int ROUGH_HASH = .*;      \\/\\/ OPTIMIZE {0, 0b00000001, 0b00010001, 0b00010011, 0b00110011}$/constexpr int ROUGH_HASH = 0;      \\/\\/ OPTIMIZE {0, 0b00000001, 0b00010001, 0b00010011, 0b00110011}/' -e 's/^constexpr double TARGET_BEAM_WIDTH_INCREASE_RATE = .*;      \\/\\/ OPTIMIZE \\[0\\.25, 4\\.0\\] LOG$/constexpr double TARGET_BEAM_WIDTH_INCREASE_RATE = 3.371687665509143;      \\/\\/ OPTIMIZE [0.25, 4.0] LOG/' -e 's/^constexpr double TARGET_BEAM_WIDTH_HALF_PROGRES_RATE = .*;  \\/\\/ OPTIMIZE \\[0\\.02, 0\\.98\\]$/constexpr double TARGET_BEAM_WIDTH_HALF_PROGRES_RATE = 0.9365382980029138;  \\/\\/ OPTIMIZE [0.02, 0.98]/' -e 's/^constexpr auto MAX_BEAM_WIDTH = .*;                        \\/\\/ OPTIMIZE \\[400, 4000\\] LOG$/constexpr auto MAX_BEAM_WIDTH = 534;                        \\/\\/ OPTIMIZE [400, 4000] LOG/'\n",
      "g++ 7_main.cpp -std=gnu++17 -O2 -o 7_main.cpp.out 2> /dev/null\n"
     ]
    },
    {
     "name": "stderr",
     "output_type": "stream",
     "text": [
      "\u001b[32m[I 2021-09-11 14:47:42,966]\u001b[0m Trial 75 finished with value: 2555138530.0 and parameters: {'hash_table_size': 9, 'K_START': 0.050604197675047626, 'K_END': 0.0563607888651429, 'K_H': 0.6674897567343789, 'PURCHASE_TURN_LIMIT': 819, 'ROUGH_HASH': '0', 'TARGET_BEAM_WIDTH_INCREASE_RATE': 3.1558675935748424, 'TARGET_BEAM_WIDTH_HALF_PROGRES_RATE': 0.8024517625120282, 'MAX_BEAM_WIDTH': 521}. Best is trial 65 with value: 2562684736.0.\u001b[0m\n"
     ]
    },
    {
     "name": "stdout",
     "output_type": "stream",
     "text": [
      "callback ok\n",
      "index_parallel=8\n",
      "sed -i 8_main.cpp -e 's/^constexpr int hash_table_size = .*;         \\/\\/ OPTIMIZE \\[6, 18\\]$/constexpr int hash_table_size = 10;         \\/\\/ OPTIMIZE [6, 18]/' -e 's/^constexpr double K_START = .*;  \\/\\/ OPTIMIZE \\[0\\.04, 0\\.2\\] LOG$/constexpr double K_START = 0.05150479526950697;  \\/\\/ OPTIMIZE [0.04, 0.2] LOG/' -e 's/^constexpr double K_END = .*;   \\/\\/ OPTIMIZE \\[0\\.03, 0\\.1\\] LOG$/constexpr double K_END = 0.05304583006972557;   \\/\\/ OPTIMIZE [0.03, 0.1] LOG/' -e 's/^constexpr double K_H = .*;      \\/\\/ OPTIMIZE \\[0\\.001, 0\\.999\\]$/constexpr double K_H = 0.633855510795006;      \\/\\/ OPTIMIZE [0.001, 0.999]/' -e 's/^constexpr short PURCHASE_TURN_LIMIT = .*;  \\/\\/ OPTIMIZE \\[790, 870\\]$/constexpr short PURCHASE_TURN_LIMIT = 812;  \\/\\/ OPTIMIZE [790, 870]/' -e 's/^constexpr int ROUGH_HASH = .*;      \\/\\/ OPTIMIZE {0, 0b00000001, 0b00010001, 0b00010011, 0b00110011}$/constexpr int ROUGH_HASH = 0;      \\/\\/ OPTIMIZE {0, 0b00000001, 0b00010001, 0b00010011, 0b00110011}/' -e 's/^constexpr double TARGET_BEAM_WIDTH_INCREASE_RATE = .*;      \\/\\/ OPTIMIZE \\[0\\.25, 4\\.0\\] LOG$/constexpr double TARGET_BEAM_WIDTH_INCREASE_RATE = 3.223412820480626;      \\/\\/ OPTIMIZE [0.25, 4.0] LOG/' -e 's/^constexpr double TARGET_BEAM_WIDTH_HALF_PROGRES_RATE = .*;  \\/\\/ OPTIMIZE \\[0\\.02, 0\\.98\\]$/constexpr double TARGET_BEAM_WIDTH_HALF_PROGRES_RATE = 0.9435137720474844;  \\/\\/ OPTIMIZE [0.02, 0.98]/' -e 's/^constexpr auto MAX_BEAM_WIDTH = .*;                        \\/\\/ OPTIMIZE \\[400, 4000\\] LOG$/constexpr auto MAX_BEAM_WIDTH = 527;                        \\/\\/ OPTIMIZE [400, 4000] LOG/'\n",
      "g++ 8_main.cpp -std=gnu++17 -O2 -o 8_main.cpp.out 2> /dev/null\n"
     ]
    },
    {
     "name": "stderr",
     "output_type": "stream",
     "text": [
      "\u001b[32m[I 2021-09-11 14:50:46,563]\u001b[0m Trial 76 finished with value: 2550472581.0 and parameters: {'hash_table_size': 9, 'K_START': 0.05366765884345761, 'K_END': 0.05646224661596014, 'K_H': 0.7258470273946156, 'PURCHASE_TURN_LIMIT': 817, 'ROUGH_HASH': '0', 'TARGET_BEAM_WIDTH_INCREASE_RATE': 3.2443370645328433, 'TARGET_BEAM_WIDTH_HALF_PROGRES_RATE': 0.9256931623144482, 'MAX_BEAM_WIDTH': 518}. Best is trial 65 with value: 2562684736.0.\u001b[0m\n"
     ]
    },
    {
     "name": "stdout",
     "output_type": "stream",
     "text": [
      "callback ok\n",
      "index_parallel=9\n",
      "sed -i 9_main.cpp -e 's/^constexpr int hash_table_size = .*;         \\/\\/ OPTIMIZE \\[6, 18\\]$/constexpr int hash_table_size = 10;         \\/\\/ OPTIMIZE [6, 18]/' -e 's/^constexpr double K_START = .*;  \\/\\/ OPTIMIZE \\[0\\.04, 0\\.2\\] LOG$/constexpr double K_START = 0.04358789831245979;  \\/\\/ OPTIMIZE [0.04, 0.2] LOG/' -e 's/^constexpr double K_END = .*;   \\/\\/ OPTIMIZE \\[0\\.03, 0\\.1\\] LOG$/constexpr double K_END = 0.05247848969466685;   \\/\\/ OPTIMIZE [0.03, 0.1] LOG/' -e 's/^constexpr double K_H = .*;      \\/\\/ OPTIMIZE \\[0\\.001, 0\\.999\\]$/constexpr double K_H = 0.6045206662011581;      \\/\\/ OPTIMIZE [0.001, 0.999]/' -e 's/^constexpr short PURCHASE_TURN_LIMIT = .*;  \\/\\/ OPTIMIZE \\[790, 870\\]$/constexpr short PURCHASE_TURN_LIMIT = 809;  \\/\\/ OPTIMIZE [790, 870]/' -e 's/^constexpr int ROUGH_HASH = .*;      \\/\\/ OPTIMIZE {0, 0b00000001, 0b00010001, 0b00010011, 0b00110011}$/constexpr int ROUGH_HASH = 0;      \\/\\/ OPTIMIZE {0, 0b00000001, 0b00010001, 0b00010011, 0b00110011}/' -e 's/^constexpr double TARGET_BEAM_WIDTH_INCREASE_RATE = .*;      \\/\\/ OPTIMIZE \\[0\\.25, 4\\.0\\] LOG$/constexpr double TARGET_BEAM_WIDTH_INCREASE_RATE = 2.4860208768640866;      \\/\\/ OPTIMIZE [0.25, 4.0] LOG/' -e 's/^constexpr double TARGET_BEAM_WIDTH_HALF_PROGRES_RATE = .*;  \\/\\/ OPTIMIZE \\[0\\.02, 0\\.98\\]$/constexpr double TARGET_BEAM_WIDTH_HALF_PROGRES_RATE = 0.7256982725836985;  \\/\\/ OPTIMIZE [0.02, 0.98]/' -e 's/^constexpr auto MAX_BEAM_WIDTH = .*;                        \\/\\/ OPTIMIZE \\[400, 4000\\] LOG$/constexpr auto MAX_BEAM_WIDTH = 960;                        \\/\\/ OPTIMIZE [400, 4000] LOG/'\n",
      "g++ 9_main.cpp -std=gnu++17 -O2 -o 9_main.cpp.out 2> /dev/null\n"
     ]
    },
    {
     "name": "stderr",
     "output_type": "stream",
     "text": [
      "\u001b[32m[I 2021-09-11 14:51:21,719]\u001b[0m Trial 77 finished with value: 2544794353.0 and parameters: {'hash_table_size': 10, 'K_START': 0.05336994749670256, 'K_END': 0.0562836761223332, 'K_H': 0.6322166814162575, 'PURCHASE_TURN_LIMIT': 819, 'ROUGH_HASH': '0', 'TARGET_BEAM_WIDTH_INCREASE_RATE': 3.2507507978934496, 'TARGET_BEAM_WIDTH_HALF_PROGRES_RATE': 0.8758113867501913, 'MAX_BEAM_WIDTH': 521}. Best is trial 65 with value: 2562684736.0.\u001b[0m\n"
     ]
    },
    {
     "name": "stdout",
     "output_type": "stream",
     "text": [
      "callback ok\n",
      "index_parallel=10\n",
      "sed -i 10_main.cpp -e 's/^constexpr int hash_table_size = .*;         \\/\\/ OPTIMIZE \\[6, 18\\]$/constexpr int hash_table_size = 8;         \\/\\/ OPTIMIZE [6, 18]/' -e 's/^constexpr double K_START = .*;  \\/\\/ OPTIMIZE \\[0\\.04, 0\\.2\\] LOG$/constexpr double K_START = 0.042602701502742306;  \\/\\/ OPTIMIZE [0.04, 0.2] LOG/' -e 's/^constexpr double K_END = .*;   \\/\\/ OPTIMIZE \\[0\\.03, 0\\.1\\] LOG$/constexpr double K_END = 0.05269987628660081;   \\/\\/ OPTIMIZE [0.03, 0.1] LOG/' -e 's/^constexpr double K_H = .*;      \\/\\/ OPTIMIZE \\[0\\.001, 0\\.999\\]$/constexpr double K_H = 0.6140642518944374;      \\/\\/ OPTIMIZE [0.001, 0.999]/' -e 's/^constexpr short PURCHASE_TURN_LIMIT = .*;  \\/\\/ OPTIMIZE \\[790, 870\\]$/constexpr short PURCHASE_TURN_LIMIT = 810;  \\/\\/ OPTIMIZE [790, 870]/' -e 's/^constexpr int ROUGH_HASH = .*;      \\/\\/ OPTIMIZE {0, 0b00000001, 0b00010001, 0b00010011, 0b00110011}$/constexpr int ROUGH_HASH = 0;      \\/\\/ OPTIMIZE {0, 0b00000001, 0b00010001, 0b00010011, 0b00110011}/' -e 's/^constexpr double TARGET_BEAM_WIDTH_INCREASE_RATE = .*;      \\/\\/ OPTIMIZE \\[0\\.25, 4\\.0\\] LOG$/constexpr double TARGET_BEAM_WIDTH_INCREASE_RATE = 2.473267367744755;      \\/\\/ OPTIMIZE [0.25, 4.0] LOG/' -e 's/^constexpr double TARGET_BEAM_WIDTH_HALF_PROGRES_RATE = .*;  \\/\\/ OPTIMIZE \\[0\\.02, 0\\.98\\]$/constexpr double TARGET_BEAM_WIDTH_HALF_PROGRES_RATE = 0.7420484226234405;  \\/\\/ OPTIMIZE [0.02, 0.98]/' -e 's/^constexpr auto MAX_BEAM_WIDTH = .*;                        \\/\\/ OPTIMIZE \\[400, 4000\\] LOG$/constexpr auto MAX_BEAM_WIDTH = 955;                        \\/\\/ OPTIMIZE [400, 4000] LOG/'\n",
      "g++ 10_main.cpp -std=gnu++17 -O2 -o 10_main.cpp.out 2> /dev/null\n"
     ]
    },
    {
     "name": "stderr",
     "output_type": "stream",
     "text": [
      "\u001b[32m[I 2021-09-11 14:51:24,579]\u001b[0m Trial 78 finished with value: 2547181080.0 and parameters: {'hash_table_size': 10, 'K_START': 0.07023562460822945, 'K_END': 0.05312830733899803, 'K_H': 0.6353225734433917, 'PURCHASE_TURN_LIMIT': 819, 'ROUGH_HASH': '0', 'TARGET_BEAM_WIDTH_INCREASE_RATE': 3.2403743949295634, 'TARGET_BEAM_WIDTH_HALF_PROGRES_RATE': 0.924695366586921, 'MAX_BEAM_WIDTH': 523}. Best is trial 65 with value: 2562684736.0.\u001b[0m\n"
     ]
    },
    {
     "name": "stdout",
     "output_type": "stream",
     "text": [
      "callback ok\n",
      "index_parallel=11\n",
      "sed -i 11_main.cpp -e 's/^constexpr int hash_table_size = .*;         \\/\\/ OPTIMIZE \\[6, 18\\]$/constexpr int hash_table_size = 8;         \\/\\/ OPTIMIZE [6, 18]/' -e 's/^constexpr double K_START = .*;  \\/\\/ OPTIMIZE \\[0\\.04, 0\\.2\\] LOG$/constexpr double K_START = 0.041791663088540806;  \\/\\/ OPTIMIZE [0.04, 0.2] LOG/' -e 's/^constexpr double K_END = .*;   \\/\\/ OPTIMIZE \\[0\\.03, 0\\.1\\] LOG$/constexpr double K_END = 0.0704652493251183;   \\/\\/ OPTIMIZE [0.03, 0.1] LOG/' -e 's/^constexpr double K_H = .*;      \\/\\/ OPTIMIZE \\[0\\.001, 0\\.999\\]$/constexpr double K_H = 0.5919985543462349;      \\/\\/ OPTIMIZE [0.001, 0.999]/' -e 's/^constexpr short PURCHASE_TURN_LIMIT = .*;  \\/\\/ OPTIMIZE \\[790, 870\\]$/constexpr short PURCHASE_TURN_LIMIT = 809;  \\/\\/ OPTIMIZE [790, 870]/' -e 's/^constexpr int ROUGH_HASH = .*;      \\/\\/ OPTIMIZE {0, 0b00000001, 0b00010001, 0b00010011, 0b00110011}$/constexpr int ROUGH_HASH = 0;      \\/\\/ OPTIMIZE {0, 0b00000001, 0b00010001, 0b00010011, 0b00110011}/' -e 's/^constexpr double TARGET_BEAM_WIDTH_INCREASE_RATE = .*;      \\/\\/ OPTIMIZE \\[0\\.25, 4\\.0\\] LOG$/constexpr double TARGET_BEAM_WIDTH_INCREASE_RATE = 2.494249282569188;      \\/\\/ OPTIMIZE [0.25, 4.0] LOG/' -e 's/^constexpr double TARGET_BEAM_WIDTH_HALF_PROGRES_RATE = .*;  \\/\\/ OPTIMIZE \\[0\\.02, 0\\.98\\]$/constexpr double TARGET_BEAM_WIDTH_HALF_PROGRES_RATE = 0.7102057757993095;  \\/\\/ OPTIMIZE [0.02, 0.98]/' -e 's/^constexpr auto MAX_BEAM_WIDTH = .*;                        \\/\\/ OPTIMIZE \\[400, 4000\\] LOG$/constexpr auto MAX_BEAM_WIDTH = 996;                        \\/\\/ OPTIMIZE [400, 4000] LOG/'\n",
      "g++ 11_main.cpp -std=gnu++17 -O2 -o 11_main.cpp.out 2> /dev/null\n"
     ]
    },
    {
     "name": "stderr",
     "output_type": "stream",
     "text": [
      "\u001b[32m[I 2021-09-11 14:52:15,195]\u001b[0m Trial 79 finished with value: 2537806040.0 and parameters: {'hash_table_size': 10, 'K_START': 0.08383169294623838, 'K_END': 0.052338802800032794, 'K_H': 0.6414086328770582, 'PURCHASE_TURN_LIMIT': 811, 'ROUGH_HASH': '0', 'TARGET_BEAM_WIDTH_INCREASE_RATE': 3.371687665509143, 'TARGET_BEAM_WIDTH_HALF_PROGRES_RATE': 0.9365382980029138, 'MAX_BEAM_WIDTH': 534}. Best is trial 65 with value: 2562684736.0.\u001b[0m\n"
     ]
    },
    {
     "name": "stdout",
     "output_type": "stream",
     "text": [
      "callback ok\n",
      "index_parallel=0\n",
      "sed -i 0_main.cpp -e 's/^constexpr int hash_table_size = .*;         \\/\\/ OPTIMIZE \\[6, 18\\]$/constexpr int hash_table_size = 8;         \\/\\/ OPTIMIZE [6, 18]/' -e 's/^constexpr double K_START = .*;  \\/\\/ OPTIMIZE \\[0\\.04, 0\\.2\\] LOG$/constexpr double K_START = 0.04337021022199322;  \\/\\/ OPTIMIZE [0.04, 0.2] LOG/' -e 's/^constexpr double K_END = .*;   \\/\\/ OPTIMIZE \\[0\\.03, 0\\.1\\] LOG$/constexpr double K_END = 0.07102062659885067;   \\/\\/ OPTIMIZE [0.03, 0.1] LOG/' -e 's/^constexpr double K_H = .*;      \\/\\/ OPTIMIZE \\[0\\.001, 0\\.999\\]$/constexpr double K_H = 0.5940943694502591;      \\/\\/ OPTIMIZE [0.001, 0.999]/' -e 's/^constexpr short PURCHASE_TURN_LIMIT = .*;  \\/\\/ OPTIMIZE \\[790, 870\\]$/constexpr short PURCHASE_TURN_LIMIT = 814;  \\/\\/ OPTIMIZE [790, 870]/' -e 's/^constexpr int ROUGH_HASH = .*;      \\/\\/ OPTIMIZE {0, 0b00000001, 0b00010001, 0b00010011, 0b00110011}$/constexpr int ROUGH_HASH = 0;      \\/\\/ OPTIMIZE {0, 0b00000001, 0b00010001, 0b00010011, 0b00110011}/' -e 's/^constexpr double TARGET_BEAM_WIDTH_INCREASE_RATE = .*;      \\/\\/ OPTIMIZE \\[0\\.25, 4\\.0\\] LOG$/constexpr double TARGET_BEAM_WIDTH_INCREASE_RATE = 2.4542385265839455;      \\/\\/ OPTIMIZE [0.25, 4.0] LOG/' -e 's/^constexpr double TARGET_BEAM_WIDTH_HALF_PROGRES_RATE = .*;  \\/\\/ OPTIMIZE \\[0\\.02, 0\\.98\\]$/constexpr double TARGET_BEAM_WIDTH_HALF_PROGRES_RATE = 0.7290154550987814;  \\/\\/ OPTIMIZE [0.02, 0.98]/' -e 's/^constexpr auto MAX_BEAM_WIDTH = .*;                        \\/\\/ OPTIMIZE \\[400, 4000\\] LOG$/constexpr auto MAX_BEAM_WIDTH = 947;                        \\/\\/ OPTIMIZE [400, 4000] LOG/'\n",
      "g++ 0_main.cpp -std=gnu++17 -O2 -o 0_main.cpp.out 2> /dev/null\n"
     ]
    },
    {
     "name": "stderr",
     "output_type": "stream",
     "text": [
      "\u001b[32m[I 2021-09-11 14:53:08,316]\u001b[0m Trial 80 finished with value: 2535551853.0 and parameters: {'hash_table_size': 10, 'K_START': 0.05150479526950697, 'K_END': 0.05304583006972557, 'K_H': 0.633855510795006, 'PURCHASE_TURN_LIMIT': 812, 'ROUGH_HASH': '0', 'TARGET_BEAM_WIDTH_INCREASE_RATE': 3.223412820480626, 'TARGET_BEAM_WIDTH_HALF_PROGRES_RATE': 0.9435137720474844, 'MAX_BEAM_WIDTH': 527}. Best is trial 65 with value: 2562684736.0.\u001b[0m\n"
     ]
    },
    {
     "name": "stdout",
     "output_type": "stream",
     "text": [
      "callback ok\n",
      "index_parallel=1\n",
      "sed -i 1_main.cpp -e 's/^constexpr int hash_table_size = .*;         \\/\\/ OPTIMIZE \\[6, 18\\]$/constexpr int hash_table_size = 8;         \\/\\/ OPTIMIZE [6, 18]/' -e 's/^constexpr double K_START = .*;  \\/\\/ OPTIMIZE \\[0\\.04, 0\\.2\\] LOG$/constexpr double K_START = 0.05755161592290967;  \\/\\/ OPTIMIZE [0.04, 0.2] LOG/' -e 's/^constexpr double K_END = .*;   \\/\\/ OPTIMIZE \\[0\\.03, 0\\.1\\] LOG$/constexpr double K_END = 0.0698649820344744;   \\/\\/ OPTIMIZE [0.03, 0.1] LOG/' -e 's/^constexpr double K_H = .*;      \\/\\/ OPTIMIZE \\[0\\.001, 0\\.999\\]$/constexpr double K_H = 0.589519920093929;      \\/\\/ OPTIMIZE [0.001, 0.999]/' -e 's/^constexpr short PURCHASE_TURN_LIMIT = .*;  \\/\\/ OPTIMIZE \\[790, 870\\]$/constexpr short PURCHASE_TURN_LIMIT = 827;  \\/\\/ OPTIMIZE [790, 870]/' -e 's/^constexpr int ROUGH_HASH = .*;      \\/\\/ OPTIMIZE {0, 0b00000001, 0b00010001, 0b00010011, 0b00110011}$/constexpr int ROUGH_HASH = 0;      \\/\\/ OPTIMIZE {0, 0b00000001, 0b00010001, 0b00010011, 0b00110011}/' -e 's/^constexpr double TARGET_BEAM_WIDTH_INCREASE_RATE = .*;      \\/\\/ OPTIMIZE \\[0\\.25, 4\\.0\\] LOG$/constexpr double TARGET_BEAM_WIDTH_INCREASE_RATE = 2.120528943806321;      \\/\\/ OPTIMIZE [0.25, 4.0] LOG/' -e 's/^constexpr double TARGET_BEAM_WIDTH_HALF_PROGRES_RATE = .*;  \\/\\/ OPTIMIZE \\[0\\.02, 0\\.98\\]$/constexpr double TARGET_BEAM_WIDTH_HALF_PROGRES_RATE = 0.8638084818724264;  \\/\\/ OPTIMIZE [0.02, 0.98]/' -e 's/^constexpr auto MAX_BEAM_WIDTH = .*;                        \\/\\/ OPTIMIZE \\[400, 4000\\] LOG$/constexpr auto MAX_BEAM_WIDTH = 956;                        \\/\\/ OPTIMIZE [400, 4000] LOG/'\n",
      "g++ 1_main.cpp -std=gnu++17 -O2 -o 1_main.cpp.out 2> /dev/null\n"
     ]
    },
    {
     "name": "stderr",
     "output_type": "stream",
     "text": [
      "\u001b[32m[I 2021-09-11 14:55:32,524]\u001b[0m Trial 83 finished with value: 2534182702.0 and parameters: {'hash_table_size': 8, 'K_START': 0.041791663088540806, 'K_END': 0.0704652493251183, 'K_H': 0.5919985543462349, 'PURCHASE_TURN_LIMIT': 809, 'ROUGH_HASH': '0', 'TARGET_BEAM_WIDTH_INCREASE_RATE': 2.494249282569188, 'TARGET_BEAM_WIDTH_HALF_PROGRES_RATE': 0.7102057757993095, 'MAX_BEAM_WIDTH': 996}. Best is trial 65 with value: 2562684736.0.\u001b[0m\n"
     ]
    },
    {
     "name": "stdout",
     "output_type": "stream",
     "text": [
      "callback ok\n",
      "index_parallel=2\n",
      "sed -i 2_main.cpp -e 's/^constexpr int hash_table_size = .*;         \\/\\/ OPTIMIZE \\[6, 18\\]$/constexpr int hash_table_size = 8;         \\/\\/ OPTIMIZE [6, 18]/' -e 's/^constexpr double K_START = .*;  \\/\\/ OPTIMIZE \\[0\\.04, 0\\.2\\] LOG$/constexpr double K_START = 0.05899892930270699;  \\/\\/ OPTIMIZE [0.04, 0.2] LOG/' -e 's/^constexpr double K_END = .*;   \\/\\/ OPTIMIZE \\[0\\.03, 0\\.1\\] LOG$/constexpr double K_END = 0.05068539470767779;   \\/\\/ OPTIMIZE [0.03, 0.1] LOG/' -e 's/^constexpr double K_H = .*;      \\/\\/ OPTIMIZE \\[0\\.001, 0\\.999\\]$/constexpr double K_H = 0.699042189331407;      \\/\\/ OPTIMIZE [0.001, 0.999]/' -e 's/^constexpr short PURCHASE_TURN_LIMIT = .*;  \\/\\/ OPTIMIZE \\[790, 870\\]$/constexpr short PURCHASE_TURN_LIMIT = 828;  \\/\\/ OPTIMIZE [790, 870]/' -e 's/^constexpr int ROUGH_HASH = .*;      \\/\\/ OPTIMIZE {0, 0b00000001, 0b00010001, 0b00010011, 0b00110011}$/constexpr int ROUGH_HASH = 0;      \\/\\/ OPTIMIZE {0, 0b00000001, 0b00010001, 0b00010011, 0b00110011}/' -e 's/^constexpr double TARGET_BEAM_WIDTH_INCREASE_RATE = .*;      \\/\\/ OPTIMIZE \\[0\\.25, 4\\.0\\] LOG$/constexpr double TARGET_BEAM_WIDTH_INCREASE_RATE = 2.100360780561129;      \\/\\/ OPTIMIZE [0.25, 4.0] LOG/' -e 's/^constexpr double TARGET_BEAM_WIDTH_HALF_PROGRES_RATE = .*;  \\/\\/ OPTIMIZE \\[0\\.02, 0\\.98\\]$/constexpr double TARGET_BEAM_WIDTH_HALF_PROGRES_RATE = 0.7907228126907402;  \\/\\/ OPTIMIZE [0.02, 0.98]/' -e 's/^constexpr auto MAX_BEAM_WIDTH = .*;                        \\/\\/ OPTIMIZE \\[400, 4000\\] LOG$/constexpr auto MAX_BEAM_WIDTH = 593;                        \\/\\/ OPTIMIZE [400, 4000] LOG/'\n",
      "g++ 2_main.cpp -std=gnu++17 -O2 -o 2_main.cpp.out 2> /dev/null\n"
     ]
    },
    {
     "name": "stderr",
     "output_type": "stream",
     "text": [
      "\u001b[32m[I 2021-09-11 14:55:34,851]\u001b[0m Trial 82 finished with value: 2528773228.0 and parameters: {'hash_table_size': 8, 'K_START': 0.042602701502742306, 'K_END': 0.05269987628660081, 'K_H': 0.6140642518944374, 'PURCHASE_TURN_LIMIT': 810, 'ROUGH_HASH': '0', 'TARGET_BEAM_WIDTH_INCREASE_RATE': 2.473267367744755, 'TARGET_BEAM_WIDTH_HALF_PROGRES_RATE': 0.7420484226234405, 'MAX_BEAM_WIDTH': 955}. Best is trial 65 with value: 2562684736.0.\u001b[0m\n"
     ]
    },
    {
     "name": "stdout",
     "output_type": "stream",
     "text": [
      "callback ok\n",
      "index_parallel=3\n",
      "sed -i 3_main.cpp -e 's/^constexpr int hash_table_size = .*;         \\/\\/ OPTIMIZE \\[6, 18\\]$/constexpr int hash_table_size = 8;         \\/\\/ OPTIMIZE [6, 18]/' -e 's/^constexpr double K_START = .*;  \\/\\/ OPTIMIZE \\[0\\.04, 0\\.2\\] LOG$/constexpr double K_START = 0.05859380211249554;  \\/\\/ OPTIMIZE [0.04, 0.2] LOG/' -e 's/^constexpr double K_END = .*;   \\/\\/ OPTIMIZE \\[0\\.03, 0\\.1\\] LOG$/constexpr double K_END = 0.05027581486591132;   \\/\\/ OPTIMIZE [0.03, 0.1] LOG/' -e 's/^constexpr double K_H = .*;      \\/\\/ OPTIMIZE \\[0\\.001, 0\\.999\\]$/constexpr double K_H = 0.4669761916344552;      \\/\\/ OPTIMIZE [0.001, 0.999]/' -e 's/^constexpr short PURCHASE_TURN_LIMIT = .*;  \\/\\/ OPTIMIZE \\[790, 870\\]$/constexpr short PURCHASE_TURN_LIMIT = 827;  \\/\\/ OPTIMIZE [790, 870]/' -e 's/^constexpr int ROUGH_HASH = .*;      \\/\\/ OPTIMIZE {0, 0b00000001, 0b00010001, 0b00010011, 0b00110011}$/constexpr int ROUGH_HASH = 0;      \\/\\/ OPTIMIZE {0, 0b00000001, 0b00010001, 0b00010011, 0b00110011}/' -e 's/^constexpr double TARGET_BEAM_WIDTH_INCREASE_RATE = .*;      \\/\\/ OPTIMIZE \\[0\\.25, 4\\.0\\] LOG$/constexpr double TARGET_BEAM_WIDTH_INCREASE_RATE = 2.1625209586993304;      \\/\\/ OPTIMIZE [0.25, 4.0] LOG/' -e 's/^constexpr double TARGET_BEAM_WIDTH_HALF_PROGRES_RATE = .*;  \\/\\/ OPTIMIZE \\[0\\.02, 0\\.98\\]$/constexpr double TARGET_BEAM_WIDTH_HALF_PROGRES_RATE = 0.8649648450691327;  \\/\\/ OPTIMIZE [0.02, 0.98]/' -e 's/^constexpr auto MAX_BEAM_WIDTH = .*;                        \\/\\/ OPTIMIZE \\[400, 4000\\] LOG$/constexpr auto MAX_BEAM_WIDTH = 873;                        \\/\\/ OPTIMIZE [400, 4000] LOG/'\n",
      "g++ 3_main.cpp -std=gnu++17 -O2 -o 3_main.cpp.out 2> /dev/null\n"
     ]
    },
    {
     "name": "stderr",
     "output_type": "stream",
     "text": [
      "\u001b[32m[I 2021-09-11 14:56:11,279]\u001b[0m Trial 81 finished with value: 2530246476.0 and parameters: {'hash_table_size': 10, 'K_START': 0.04358789831245979, 'K_END': 0.05247848969466685, 'K_H': 0.6045206662011581, 'PURCHASE_TURN_LIMIT': 809, 'ROUGH_HASH': '0', 'TARGET_BEAM_WIDTH_INCREASE_RATE': 2.4860208768640866, 'TARGET_BEAM_WIDTH_HALF_PROGRES_RATE': 0.7256982725836985, 'MAX_BEAM_WIDTH': 960}. Best is trial 65 with value: 2562684736.0.\u001b[0m\n"
     ]
    },
    {
     "name": "stdout",
     "output_type": "stream",
     "text": [
      "callback ok\n",
      "index_parallel=4\n",
      "sed -i 4_main.cpp -e 's/^constexpr int hash_table_size = .*;         \\/\\/ OPTIMIZE \\[6, 18\\]$/constexpr int hash_table_size = 8;         \\/\\/ OPTIMIZE [6, 18]/' -e 's/^constexpr double K_START = .*;  \\/\\/ OPTIMIZE \\[0\\.04, 0\\.2\\] LOG$/constexpr double K_START = 0.05801502934822825;  \\/\\/ OPTIMIZE [0.04, 0.2] LOG/' -e 's/^constexpr double K_END = .*;   \\/\\/ OPTIMIZE \\[0\\.03, 0\\.1\\] LOG$/constexpr double K_END = 0.05050803697600767;   \\/\\/ OPTIMIZE [0.03, 0.1] LOG/' -e 's/^constexpr double K_H = .*;      \\/\\/ OPTIMIZE \\[0\\.001, 0\\.999\\]$/constexpr double K_H = 0.7358014055815381;      \\/\\/ OPTIMIZE [0.001, 0.999]/' -e 's/^constexpr short PURCHASE_TURN_LIMIT = .*;  \\/\\/ OPTIMIZE \\[790, 870\\]$/constexpr short PURCHASE_TURN_LIMIT = 816;  \\/\\/ OPTIMIZE [790, 870]/' -e 's/^constexpr int ROUGH_HASH = .*;      \\/\\/ OPTIMIZE {0, 0b00000001, 0b00010001, 0b00010011, 0b00110011}$/constexpr int ROUGH_HASH = 0;      \\/\\/ OPTIMIZE {0, 0b00000001, 0b00010001, 0b00010011, 0b00110011}/' -e 's/^constexpr double TARGET_BEAM_WIDTH_INCREASE_RATE = .*;      \\/\\/ OPTIMIZE \\[0\\.25, 4\\.0\\] LOG$/constexpr double TARGET_BEAM_WIDTH_INCREASE_RATE = 2.1514620509059306;      \\/\\/ OPTIMIZE [0.25, 4.0] LOG/' -e 's/^constexpr double TARGET_BEAM_WIDTH_HALF_PROGRES_RATE = .*;  \\/\\/ OPTIMIZE \\[0\\.02, 0\\.98\\]$/constexpr double TARGET_BEAM_WIDTH_HALF_PROGRES_RATE = 0.8068584002914512;  \\/\\/ OPTIMIZE [0.02, 0.98]/' -e 's/^constexpr auto MAX_BEAM_WIDTH = .*;                        \\/\\/ OPTIMIZE \\[400, 4000\\] LOG$/constexpr auto MAX_BEAM_WIDTH = 592;                        \\/\\/ OPTIMIZE [400, 4000] LOG/'\n",
      "g++ 4_main.cpp -std=gnu++17 -O2 -o 4_main.cpp.out 2> /dev/null\n"
     ]
    },
    {
     "name": "stderr",
     "output_type": "stream",
     "text": [
      "\u001b[32m[I 2021-09-11 14:56:22,490]\u001b[0m Trial 84 finished with value: 2542724674.0 and parameters: {'hash_table_size': 8, 'K_START': 0.04337021022199322, 'K_END': 0.07102062659885067, 'K_H': 0.5940943694502591, 'PURCHASE_TURN_LIMIT': 814, 'ROUGH_HASH': '0', 'TARGET_BEAM_WIDTH_INCREASE_RATE': 2.4542385265839455, 'TARGET_BEAM_WIDTH_HALF_PROGRES_RATE': 0.7290154550987814, 'MAX_BEAM_WIDTH': 947}. Best is trial 65 with value: 2562684736.0.\u001b[0m\n"
     ]
    },
    {
     "name": "stdout",
     "output_type": "stream",
     "text": [
      "callback ok\n",
      "index_parallel=5\n",
      "sed -i 5_main.cpp -e 's/^constexpr int hash_table_size = .*;         \\/\\/ OPTIMIZE \\[6, 18\\]$/constexpr int hash_table_size = 9;         \\/\\/ OPTIMIZE [6, 18]/' -e 's/^constexpr double K_START = .*;  \\/\\/ OPTIMIZE \\[0\\.04, 0\\.2\\] LOG$/constexpr double K_START = 0.05958323683688571;  \\/\\/ OPTIMIZE [0.04, 0.2] LOG/' -e 's/^constexpr double K_END = .*;   \\/\\/ OPTIMIZE \\[0\\.03, 0\\.1\\] LOG$/constexpr double K_END = 0.050267077274937816;   \\/\\/ OPTIMIZE [0.03, 0.1] LOG/' -e 's/^constexpr double K_H = .*;      \\/\\/ OPTIMIZE \\[0\\.001, 0\\.999\\]$/constexpr double K_H = 0.7287206174159467;      \\/\\/ OPTIMIZE [0.001, 0.999]/' -e 's/^constexpr short PURCHASE_TURN_LIMIT = .*;  \\/\\/ OPTIMIZE \\[790, 870\\]$/constexpr short PURCHASE_TURN_LIMIT = 827;  \\/\\/ OPTIMIZE [790, 870]/' -e 's/^constexpr int ROUGH_HASH = .*;      \\/\\/ OPTIMIZE {0, 0b00000001, 0b00010001, 0b00010011, 0b00110011}$/constexpr int ROUGH_HASH = 0b00000001;      \\/\\/ OPTIMIZE {0, 0b00000001, 0b00010001, 0b00010011, 0b00110011}/' -e 's/^constexpr double TARGET_BEAM_WIDTH_INCREASE_RATE = .*;      \\/\\/ OPTIMIZE \\[0\\.25, 4\\.0\\] LOG$/constexpr double TARGET_BEAM_WIDTH_INCREASE_RATE = 2.0791804433679903;      \\/\\/ OPTIMIZE [0.25, 4.0] LOG/' -e 's/^constexpr double TARGET_BEAM_WIDTH_HALF_PROGRES_RATE = .*;  \\/\\/ OPTIMIZE \\[0\\.02, 0\\.98\\]$/constexpr double TARGET_BEAM_WIDTH_HALF_PROGRES_RATE = 0.7944648340656464;  \\/\\/ OPTIMIZE [0.02, 0.98]/' -e 's/^constexpr auto MAX_BEAM_WIDTH = .*;                        \\/\\/ OPTIMIZE \\[400, 4000\\] LOG$/constexpr auto MAX_BEAM_WIDTH = 842;                        \\/\\/ OPTIMIZE [400, 4000] LOG/'\n",
      "g++ 5_main.cpp -std=gnu++17 -O2 -o 5_main.cpp.out 2> /dev/null\n"
     ]
    },
    {
     "name": "stderr",
     "output_type": "stream",
     "text": [
      "\u001b[32m[I 2021-09-11 14:57:22,501]\u001b[0m Trial 85 finished with value: 2563351916.0 and parameters: {'hash_table_size': 8, 'K_START': 0.05755161592290967, 'K_END': 0.0698649820344744, 'K_H': 0.589519920093929, 'PURCHASE_TURN_LIMIT': 827, 'ROUGH_HASH': '0', 'TARGET_BEAM_WIDTH_INCREASE_RATE': 2.120528943806321, 'TARGET_BEAM_WIDTH_HALF_PROGRES_RATE': 0.8638084818724264, 'MAX_BEAM_WIDTH': 956}. Best is trial 85 with value: 2563351916.0.\u001b[0m\n"
     ]
    },
    {
     "name": "stdout",
     "output_type": "stream",
     "text": [
      "Updated! 2563351916.0\n",
      "callback ok\n",
      "index_parallel=6\n",
      "sed -i 6_main.cpp -e 's/^constexpr int hash_table_size = .*;         \\/\\/ OPTIMIZE \\[6, 18\\]$/constexpr int hash_table_size = 8;         \\/\\/ OPTIMIZE [6, 18]/' -e 's/^constexpr double K_START = .*;  \\/\\/ OPTIMIZE \\[0\\.04, 0\\.2\\] LOG$/constexpr double K_START = 0.06038293086779739;  \\/\\/ OPTIMIZE [0.04, 0.2] LOG/' -e 's/^constexpr double K_END = .*;   \\/\\/ OPTIMIZE \\[0\\.03, 0\\.1\\] LOG$/constexpr double K_END = 0.05068438456277573;   \\/\\/ OPTIMIZE [0.03, 0.1] LOG/' -e 's/^constexpr double K_H = .*;      \\/\\/ OPTIMIZE \\[0\\.001, 0\\.999\\]$/constexpr double K_H = 0.5385834873177613;      \\/\\/ OPTIMIZE [0.001, 0.999]/' -e 's/^constexpr short PURCHASE_TURN_LIMIT = .*;  \\/\\/ OPTIMIZE \\[790, 870\\]$/constexpr short PURCHASE_TURN_LIMIT = 816;  \\/\\/ OPTIMIZE [790, 870]/' -e 's/^constexpr int ROUGH_HASH = .*;      \\/\\/ OPTIMIZE {0, 0b00000001, 0b00010001, 0b00010011, 0b00110011}$/constexpr int ROUGH_HASH = 0;      \\/\\/ OPTIMIZE {0, 0b00000001, 0b00010001, 0b00010011, 0b00110011}/' -e 's/^constexpr double TARGET_BEAM_WIDTH_INCREASE_RATE = .*;      \\/\\/ OPTIMIZE \\[0\\.25, 4\\.0\\] LOG$/constexpr double TARGET_BEAM_WIDTH_INCREASE_RATE = 0.77989953766213;      \\/\\/ OPTIMIZE [0.25, 4.0] LOG/' -e 's/^constexpr double TARGET_BEAM_WIDTH_HALF_PROGRES_RATE = .*;  \\/\\/ OPTIMIZE \\[0\\.02, 0\\.98\\]$/constexpr double TARGET_BEAM_WIDTH_HALF_PROGRES_RATE = 0.8661052465216457;  \\/\\/ OPTIMIZE [0.02, 0.98]/' -e 's/^constexpr auto MAX_BEAM_WIDTH = .*;                        \\/\\/ OPTIMIZE \\[400, 4000\\] LOG$/constexpr auto MAX_BEAM_WIDTH = 831;                        \\/\\/ OPTIMIZE [400, 4000] LOG/'\n",
      "g++ 6_main.cpp -std=gnu++17 -O2 -o 6_main.cpp.out 2> /dev/null\n"
     ]
    },
    {
     "name": "stderr",
     "output_type": "stream",
     "text": [
      "\u001b[32m[I 2021-09-11 14:59:46,150]\u001b[0m Trial 86 finished with value: 2561755709.0 and parameters: {'hash_table_size': 8, 'K_START': 0.05899892930270699, 'K_END': 0.05068539470767779, 'K_H': 0.699042189331407, 'PURCHASE_TURN_LIMIT': 828, 'ROUGH_HASH': '0', 'TARGET_BEAM_WIDTH_INCREASE_RATE': 2.100360780561129, 'TARGET_BEAM_WIDTH_HALF_PROGRES_RATE': 0.7907228126907402, 'MAX_BEAM_WIDTH': 593}. Best is trial 85 with value: 2563351916.0.\u001b[0m\n"
     ]
    },
    {
     "name": "stdout",
     "output_type": "stream",
     "text": [
      "callback ok\n",
      "index_parallel=7\n",
      "sed -i 7_main.cpp -e 's/^constexpr int hash_table_size = .*;         \\/\\/ OPTIMIZE \\[6, 18\\]$/constexpr int hash_table_size = 8;         \\/\\/ OPTIMIZE [6, 18]/' -e 's/^constexpr double K_START = .*;  \\/\\/ OPTIMIZE \\[0\\.04, 0\\.2\\] LOG$/constexpr double K_START = 0.05754724313385928;  \\/\\/ OPTIMIZE [0.04, 0.2] LOG/' -e 's/^constexpr double K_END = .*;   \\/\\/ OPTIMIZE \\[0\\.03, 0\\.1\\] LOG$/constexpr double K_END = 0.0605896378614644;   \\/\\/ OPTIMIZE [0.03, 0.1] LOG/' -e 's/^constexpr double K_H = .*;      \\/\\/ OPTIMIZE \\[0\\.001, 0\\.999\\]$/constexpr double K_H = 0.7060517037610338;      \\/\\/ OPTIMIZE [0.001, 0.999]/' -e 's/^constexpr short PURCHASE_TURN_LIMIT = .*;  \\/\\/ OPTIMIZE \\[790, 870\\]$/constexpr short PURCHASE_TURN_LIMIT = 828;  \\/\\/ OPTIMIZE [790, 870]/' -e 's/^constexpr int ROUGH_HASH = .*;      \\/\\/ OPTIMIZE {0, 0b00000001, 0b00010001, 0b00010011, 0b00110011}$/constexpr int ROUGH_HASH = 0;      \\/\\/ OPTIMIZE {0, 0b00000001, 0b00010001, 0b00010011, 0b00110011}/' -e 's/^constexpr double TARGET_BEAM_WIDTH_INCREASE_RATE = .*;      \\/\\/ OPTIMIZE \\[0\\.25, 4\\.0\\] LOG$/constexpr double TARGET_BEAM_WIDTH_INCREASE_RATE = 2.133220942687753;      \\/\\/ OPTIMIZE [0.25, 4.0] LOG/' -e 's/^constexpr double TARGET_BEAM_WIDTH_HALF_PROGRES_RATE = .*;  \\/\\/ OPTIMIZE \\[0\\.02, 0\\.98\\]$/constexpr double TARGET_BEAM_WIDTH_HALF_PROGRES_RATE = 0.6567844210548217;  \\/\\/ OPTIMIZE [0.02, 0.98]/' -e 's/^constexpr auto MAX_BEAM_WIDTH = .*;                        \\/\\/ OPTIMIZE \\[400, 4000\\] LOG$/constexpr auto MAX_BEAM_WIDTH = 823;                        \\/\\/ OPTIMIZE [400, 4000] LOG/'\n",
      "g++ 7_main.cpp -std=gnu++17 -O2 -o 7_main.cpp.out 2> /dev/null\n"
     ]
    },
    {
     "name": "stderr",
     "output_type": "stream",
     "text": [
      "\u001b[32m[I 2021-09-11 14:59:53,312]\u001b[0m Trial 87 finished with value: 2563357205.0 and parameters: {'hash_table_size': 8, 'K_START': 0.05859380211249554, 'K_END': 0.05027581486591132, 'K_H': 0.4669761916344552, 'PURCHASE_TURN_LIMIT': 827, 'ROUGH_HASH': '0', 'TARGET_BEAM_WIDTH_INCREASE_RATE': 2.1625209586993304, 'TARGET_BEAM_WIDTH_HALF_PROGRES_RATE': 0.8649648450691327, 'MAX_BEAM_WIDTH': 873}. Best is trial 87 with value: 2563357205.0.\u001b[0m\n"
     ]
    },
    {
     "name": "stdout",
     "output_type": "stream",
     "text": [
      "Updated! 2563357205.0\n",
      "callback ok\n",
      "index_parallel=8\n",
      "sed -i 8_main.cpp -e 's/^constexpr int hash_table_size = .*;         \\/\\/ OPTIMIZE \\[6, 18\\]$/constexpr int hash_table_size = 8;         \\/\\/ OPTIMIZE [6, 18]/' -e 's/^constexpr double K_START = .*;  \\/\\/ OPTIMIZE \\[0\\.04, 0\\.2\\] LOG$/constexpr double K_START = 0.049791631967739974;  \\/\\/ OPTIMIZE [0.04, 0.2] LOG/' -e 's/^constexpr double K_END = .*;   \\/\\/ OPTIMIZE \\[0\\.03, 0\\.1\\] LOG$/constexpr double K_END = 0.05126724905834331;   \\/\\/ OPTIMIZE [0.03, 0.1] LOG/' -e 's/^constexpr double K_H = .*;      \\/\\/ OPTIMIZE \\[0\\.001, 0\\.999\\]$/constexpr double K_H = 0.48654484549994736;      \\/\\/ OPTIMIZE [0.001, 0.999]/' -e 's/^constexpr short PURCHASE_TURN_LIMIT = .*;  \\/\\/ OPTIMIZE \\[790, 870\\]$/constexpr short PURCHASE_TURN_LIMIT = 829;  \\/\\/ OPTIMIZE [790, 870]/' -e 's/^constexpr int ROUGH_HASH = .*;      \\/\\/ OPTIMIZE {0, 0b00000001, 0b00010001, 0b00010011, 0b00110011}$/constexpr int ROUGH_HASH = 0b00000001;      \\/\\/ OPTIMIZE {0, 0b00000001, 0b00010001, 0b00010011, 0b00110011}/' -e 's/^constexpr double TARGET_BEAM_WIDTH_INCREASE_RATE = .*;      \\/\\/ OPTIMIZE \\[0\\.25, 4\\.0\\] LOG$/constexpr double TARGET_BEAM_WIDTH_INCREASE_RATE = 2.1376233088890024;      \\/\\/ OPTIMIZE [0.25, 4.0] LOG/' -e 's/^constexpr double TARGET_BEAM_WIDTH_HALF_PROGRES_RATE = .*;  \\/\\/ OPTIMIZE \\[0\\.02, 0\\.98\\]$/constexpr double TARGET_BEAM_WIDTH_HALF_PROGRES_RATE = 0.7931187495766724;  \\/\\/ OPTIMIZE [0.02, 0.98]/' -e 's/^constexpr auto MAX_BEAM_WIDTH = .*;                        \\/\\/ OPTIMIZE \\[400, 4000\\] LOG$/constexpr auto MAX_BEAM_WIDTH = 858;                        \\/\\/ OPTIMIZE [400, 4000] LOG/'\n",
      "g++ 8_main.cpp -std=gnu++17 -O2 -o 8_main.cpp.out 2> /dev/null\n"
     ]
    },
    {
     "name": "stderr",
     "output_type": "stream",
     "text": [
      "\u001b[32m[I 2021-09-11 15:00:20,237]\u001b[0m Trial 88 finished with value: 2539671853.0 and parameters: {'hash_table_size': 8, 'K_START': 0.05801502934822825, 'K_END': 0.05050803697600767, 'K_H': 0.7358014055815381, 'PURCHASE_TURN_LIMIT': 816, 'ROUGH_HASH': '0', 'TARGET_BEAM_WIDTH_INCREASE_RATE': 2.1514620509059306, 'TARGET_BEAM_WIDTH_HALF_PROGRES_RATE': 0.8068584002914512, 'MAX_BEAM_WIDTH': 592}. Best is trial 87 with value: 2563357205.0.\u001b[0m\n"
     ]
    },
    {
     "name": "stdout",
     "output_type": "stream",
     "text": [
      "callback ok\n",
      "index_parallel=9\n",
      "sed -i 9_main.cpp -e 's/^constexpr int hash_table_size = .*;         \\/\\/ OPTIMIZE \\[6, 18\\]$/constexpr int hash_table_size = 8;         \\/\\/ OPTIMIZE [6, 18]/' -e 's/^constexpr double K_START = .*;  \\/\\/ OPTIMIZE \\[0\\.04, 0\\.2\\] LOG$/constexpr double K_START = 0.056742097618977916;  \\/\\/ OPTIMIZE [0.04, 0.2] LOG/' -e 's/^constexpr double K_END = .*;   \\/\\/ OPTIMIZE \\[0\\.03, 0\\.1\\] LOG$/constexpr double K_END = 0.04259169452421748;   \\/\\/ OPTIMIZE [0.03, 0.1] LOG/' -e 's/^constexpr double K_H = .*;      \\/\\/ OPTIMIZE \\[0\\.001, 0\\.999\\]$/constexpr double K_H = 0.4681492051199167;      \\/\\/ OPTIMIZE [0.001, 0.999]/' -e 's/^constexpr short PURCHASE_TURN_LIMIT = .*;  \\/\\/ OPTIMIZE \\[790, 870\\]$/constexpr short PURCHASE_TURN_LIMIT = 828;  \\/\\/ OPTIMIZE [790, 870]/' -e 's/^constexpr int ROUGH_HASH = .*;      \\/\\/ OPTIMIZE {0, 0b00000001, 0b00010001, 0b00010011, 0b00110011}$/constexpr int ROUGH_HASH = 0b00000001;      \\/\\/ OPTIMIZE {0, 0b00000001, 0b00010001, 0b00010011, 0b00110011}/' -e 's/^constexpr double TARGET_BEAM_WIDTH_INCREASE_RATE = .*;      \\/\\/ OPTIMIZE \\[0\\.25, 4\\.0\\] LOG$/constexpr double TARGET_BEAM_WIDTH_INCREASE_RATE = 1.8795822770315902;      \\/\\/ OPTIMIZE [0.25, 4.0] LOG/' -e 's/^constexpr double TARGET_BEAM_WIDTH_HALF_PROGRES_RATE = .*;  \\/\\/ OPTIMIZE \\[0\\.02, 0\\.98\\]$/constexpr double TARGET_BEAM_WIDTH_HALF_PROGRES_RATE = 0.8627355374899588;  \\/\\/ OPTIMIZE [0.02, 0.98]/' -e 's/^constexpr auto MAX_BEAM_WIDTH = .*;                        \\/\\/ OPTIMIZE \\[400, 4000\\] LOG$/constexpr auto MAX_BEAM_WIDTH = 801;                        \\/\\/ OPTIMIZE [400, 4000] LOG/'\n",
      "g++ 9_main.cpp -std=gnu++17 -O2 -o 9_main.cpp.out 2> /dev/null\n"
     ]
    },
    {
     "name": "stderr",
     "output_type": "stream",
     "text": [
      "\u001b[32m[I 2021-09-11 15:01:34,903]\u001b[0m Trial 90 finished with value: 2542249223.0 and parameters: {'hash_table_size': 8, 'K_START': 0.06038293086779739, 'K_END': 0.05068438456277573, 'K_H': 0.5385834873177613, 'PURCHASE_TURN_LIMIT': 816, 'ROUGH_HASH': '0', 'TARGET_BEAM_WIDTH_INCREASE_RATE': 0.77989953766213, 'TARGET_BEAM_WIDTH_HALF_PROGRES_RATE': 0.8661052465216457, 'MAX_BEAM_WIDTH': 831}. Best is trial 87 with value: 2563357205.0.\u001b[0m\n"
     ]
    },
    {
     "name": "stdout",
     "output_type": "stream",
     "text": [
      "callback ok\n",
      "index_parallel=10\n",
      "sed -i 10_main.cpp -e 's/^constexpr int hash_table_size = .*;         \\/\\/ OPTIMIZE \\[6, 18\\]$/constexpr int hash_table_size = 8;         \\/\\/ OPTIMIZE [6, 18]/' -e 's/^constexpr double K_START = .*;  \\/\\/ OPTIMIZE \\[0\\.04, 0\\.2\\] LOG$/constexpr double K_START = 0.04941325720382643;  \\/\\/ OPTIMIZE [0.04, 0.2] LOG/' -e 's/^constexpr double K_END = .*;   \\/\\/ OPTIMIZE \\[0\\.03, 0\\.1\\] LOG$/constexpr double K_END = 0.06217657850903107;   \\/\\/ OPTIMIZE [0.03, 0.1] LOG/' -e 's/^constexpr double K_H = .*;      \\/\\/ OPTIMIZE \\[0\\.001, 0\\.999\\]$/constexpr double K_H = 0.4693959020875111;      \\/\\/ OPTIMIZE [0.001, 0.999]/' -e 's/^constexpr short PURCHASE_TURN_LIMIT = .*;  \\/\\/ OPTIMIZE \\[790, 870\\]$/constexpr short PURCHASE_TURN_LIMIT = 827;  \\/\\/ OPTIMIZE [790, 870]/' -e 's/^constexpr int ROUGH_HASH = .*;      \\/\\/ OPTIMIZE {0, 0b00000001, 0b00010001, 0b00010011, 0b00110011}$/constexpr int ROUGH_HASH = 0b00000001;      \\/\\/ OPTIMIZE {0, 0b00000001, 0b00010001, 0b00010011, 0b00110011}/' -e 's/^constexpr double TARGET_BEAM_WIDTH_INCREASE_RATE = .*;      \\/\\/ OPTIMIZE \\[0\\.25, 4\\.0\\] LOG$/constexpr double TARGET_BEAM_WIDTH_INCREASE_RATE = 2.0733236397410257;      \\/\\/ OPTIMIZE [0.25, 4.0] LOG/' -e 's/^constexpr double TARGET_BEAM_WIDTH_HALF_PROGRES_RATE = .*;  \\/\\/ OPTIMIZE \\[0\\.02, 0\\.98\\]$/constexpr double TARGET_BEAM_WIDTH_HALF_PROGRES_RATE = 0.7792380765913979;  \\/\\/ OPTIMIZE [0.02, 0.98]/' -e 's/^constexpr auto MAX_BEAM_WIDTH = .*;                        \\/\\/ OPTIMIZE \\[400, 4000\\] LOG$/constexpr auto MAX_BEAM_WIDTH = 1071;                        \\/\\/ OPTIMIZE [400, 4000] LOG/'\n",
      "g++ 10_main.cpp -std=gnu++17 -O2 -o 10_main.cpp.out 2> /dev/null\n"
     ]
    },
    {
     "name": "stderr",
     "output_type": "stream",
     "text": [
      "\u001b[32m[I 2021-09-11 15:01:48,764]\u001b[0m Trial 89 finished with value: 2549989136.0 and parameters: {'hash_table_size': 9, 'K_START': 0.05958323683688571, 'K_END': 0.050267077274937816, 'K_H': 0.7287206174159467, 'PURCHASE_TURN_LIMIT': 827, 'ROUGH_HASH': '0b00000001', 'TARGET_BEAM_WIDTH_INCREASE_RATE': 2.0791804433679903, 'TARGET_BEAM_WIDTH_HALF_PROGRES_RATE': 0.7944648340656464, 'MAX_BEAM_WIDTH': 842}. Best is trial 87 with value: 2563357205.0.\u001b[0m\n"
     ]
    },
    {
     "name": "stdout",
     "output_type": "stream",
     "text": [
      "callback ok\n",
      "index_parallel=11\n",
      "sed -i 11_main.cpp -e 's/^constexpr int hash_table_size = .*;         \\/\\/ OPTIMIZE \\[6, 18\\]$/constexpr int hash_table_size = 8;         \\/\\/ OPTIMIZE [6, 18]/' -e 's/^constexpr double K_START = .*;  \\/\\/ OPTIMIZE \\[0\\.04, 0\\.2\\] LOG$/constexpr double K_START = 0.06436693749189537;  \\/\\/ OPTIMIZE [0.04, 0.2] LOG/' -e 's/^constexpr double K_END = .*;   \\/\\/ OPTIMIZE \\[0\\.03, 0\\.1\\] LOG$/constexpr double K_END = 0.0570224746579097;   \\/\\/ OPTIMIZE [0.03, 0.1] LOG/' -e 's/^constexpr double K_H = .*;      \\/\\/ OPTIMIZE \\[0\\.001, 0\\.999\\]$/constexpr double K_H = 0.42214018453209273;      \\/\\/ OPTIMIZE [0.001, 0.999]/' -e 's/^constexpr short PURCHASE_TURN_LIMIT = .*;  \\/\\/ OPTIMIZE \\[790, 870\\]$/constexpr short PURCHASE_TURN_LIMIT = 823;  \\/\\/ OPTIMIZE [790, 870]/' -e 's/^constexpr int ROUGH_HASH = .*;      \\/\\/ OPTIMIZE {0, 0b00000001, 0b00010001, 0b00010011, 0b00110011}$/constexpr int ROUGH_HASH = 0;      \\/\\/ OPTIMIZE {0, 0b00000001, 0b00010001, 0b00010011, 0b00110011}/' -e 's/^constexpr double TARGET_BEAM_WIDTH_INCREASE_RATE = .*;      \\/\\/ OPTIMIZE \\[0\\.25, 4\\.0\\] LOG$/constexpr double TARGET_BEAM_WIDTH_INCREASE_RATE = 1.7362209411105358;      \\/\\/ OPTIMIZE [0.25, 4.0] LOG/' -e 's/^constexpr double TARGET_BEAM_WIDTH_HALF_PROGRES_RATE = .*;  \\/\\/ OPTIMIZE \\[0\\.02, 0\\.98\\]$/constexpr double TARGET_BEAM_WIDTH_HALF_PROGRES_RATE = 0.7611286633086256;  \\/\\/ OPTIMIZE [0.02, 0.98]/' -e 's/^constexpr auto MAX_BEAM_WIDTH = .*;                        \\/\\/ OPTIMIZE \\[400, 4000\\] LOG$/constexpr auto MAX_BEAM_WIDTH = 694;                        \\/\\/ OPTIMIZE [400, 4000] LOG/'\n",
      "g++ 11_main.cpp -std=gnu++17 -O2 -o 11_main.cpp.out 2> /dev/null\n"
     ]
    },
    {
     "name": "stderr",
     "output_type": "stream",
     "text": [
      "\u001b[32m[I 2021-09-11 15:04:00,458]\u001b[0m Trial 91 finished with value: 2566603152.0 and parameters: {'hash_table_size': 8, 'K_START': 0.05754724313385928, 'K_END': 0.0605896378614644, 'K_H': 0.7060517037610338, 'PURCHASE_TURN_LIMIT': 828, 'ROUGH_HASH': '0', 'TARGET_BEAM_WIDTH_INCREASE_RATE': 2.133220942687753, 'TARGET_BEAM_WIDTH_HALF_PROGRES_RATE': 0.6567844210548217, 'MAX_BEAM_WIDTH': 823}. Best is trial 91 with value: 2566603152.0.\u001b[0m\n"
     ]
    },
    {
     "name": "stdout",
     "output_type": "stream",
     "text": [
      "Updated! 2566603152.0\n",
      "callback ok\n",
      "index_parallel=0\n",
      "sed -i 0_main.cpp -e 's/^constexpr int hash_table_size = .*;         \\/\\/ OPTIMIZE \\[6, 18\\]$/constexpr int hash_table_size = 8;         \\/\\/ OPTIMIZE [6, 18]/' -e 's/^constexpr double K_START = .*;  \\/\\/ OPTIMIZE \\[0\\.04, 0\\.2\\] LOG$/constexpr double K_START = 0.05016117076520568;  \\/\\/ OPTIMIZE [0.04, 0.2] LOG/' -e 's/^constexpr double K_END = .*;   \\/\\/ OPTIMIZE \\[0\\.03, 0\\.1\\] LOG$/constexpr double K_END = 0.042917000026429404;   \\/\\/ OPTIMIZE [0.03, 0.1] LOG/' -e 's/^constexpr double K_H = .*;      \\/\\/ OPTIMIZE \\[0\\.001, 0\\.999\\]$/constexpr double K_H = 0.47819682255479035;      \\/\\/ OPTIMIZE [0.001, 0.999]/' -e 's/^constexpr short PURCHASE_TURN_LIMIT = .*;  \\/\\/ OPTIMIZE \\[790, 870\\]$/constexpr short PURCHASE_TURN_LIMIT = 828;  \\/\\/ OPTIMIZE [790, 870]/' -e 's/^constexpr int ROUGH_HASH = .*;      \\/\\/ OPTIMIZE {0, 0b00000001, 0b00010001, 0b00010011, 0b00110011}$/constexpr int ROUGH_HASH = 0;      \\/\\/ OPTIMIZE {0, 0b00000001, 0b00010001, 0b00010011, 0b00110011}/' -e 's/^constexpr double TARGET_BEAM_WIDTH_INCREASE_RATE = .*;      \\/\\/ OPTIMIZE \\[0\\.25, 4\\.0\\] LOG$/constexpr double TARGET_BEAM_WIDTH_INCREASE_RATE = 1.8257786430045602;      \\/\\/ OPTIMIZE [0.25, 4.0] LOG/' -e 's/^constexpr double TARGET_BEAM_WIDTH_HALF_PROGRES_RATE = .*;  \\/\\/ OPTIMIZE \\[0\\.02, 0\\.98\\]$/constexpr double TARGET_BEAM_WIDTH_HALF_PROGRES_RATE = 0.6443359914833925;  \\/\\/ OPTIMIZE [0.02, 0.98]/' -e 's/^constexpr auto MAX_BEAM_WIDTH = .*;                        \\/\\/ OPTIMIZE \\[400, 4000\\] LOG$/constexpr auto MAX_BEAM_WIDTH = 1096;                        \\/\\/ OPTIMIZE [400, 4000] LOG/'\n",
      "g++ 0_main.cpp -std=gnu++17 -O2 -o 0_main.cpp.out 2> /dev/null\n"
     ]
    },
    {
     "name": "stderr",
     "output_type": "stream",
     "text": [
      "\u001b[32m[I 2021-09-11 15:04:05,052]\u001b[0m Trial 92 finished with value: 2559311161.0 and parameters: {'hash_table_size': 8, 'K_START': 0.049791631967739974, 'K_END': 0.05126724905834331, 'K_H': 0.48654484549994736, 'PURCHASE_TURN_LIMIT': 829, 'ROUGH_HASH': '0b00000001', 'TARGET_BEAM_WIDTH_INCREASE_RATE': 2.1376233088890024, 'TARGET_BEAM_WIDTH_HALF_PROGRES_RATE': 0.7931187495766724, 'MAX_BEAM_WIDTH': 858}. Best is trial 91 with value: 2566603152.0.\u001b[0m\n"
     ]
    },
    {
     "name": "stdout",
     "output_type": "stream",
     "text": [
      "callback ok\n",
      "index_parallel=1\n",
      "sed -i 1_main.cpp -e 's/^constexpr int hash_table_size = .*;         \\/\\/ OPTIMIZE \\[6, 18\\]$/constexpr int hash_table_size = 8;         \\/\\/ OPTIMIZE [6, 18]/' -e 's/^constexpr double K_START = .*;  \\/\\/ OPTIMIZE \\[0\\.04, 0\\.2\\] LOG$/constexpr double K_START = 0.05023878501832441;  \\/\\/ OPTIMIZE [0.04, 0.2] LOG/' -e 's/^constexpr double K_END = .*;   \\/\\/ OPTIMIZE \\[0\\.03, 0\\.1\\] LOG$/constexpr double K_END = 0.06185390430253399;   \\/\\/ OPTIMIZE [0.03, 0.1] LOG/' -e 's/^constexpr double K_H = .*;      \\/\\/ OPTIMIZE \\[0\\.001, 0\\.999\\]$/constexpr double K_H = 0.4591394694572358;      \\/\\/ OPTIMIZE [0.001, 0.999]/' -e 's/^constexpr short PURCHASE_TURN_LIMIT = .*;  \\/\\/ OPTIMIZE \\[790, 870\\]$/constexpr short PURCHASE_TURN_LIMIT = 828;  \\/\\/ OPTIMIZE [790, 870]/' -e 's/^constexpr int ROUGH_HASH = .*;      \\/\\/ OPTIMIZE {0, 0b00000001, 0b00010001, 0b00010011, 0b00110011}$/constexpr int ROUGH_HASH = 0;      \\/\\/ OPTIMIZE {0, 0b00000001, 0b00010001, 0b00010011, 0b00110011}/' -e 's/^constexpr double TARGET_BEAM_WIDTH_INCREASE_RATE = .*;      \\/\\/ OPTIMIZE \\[0\\.25, 4\\.0\\] LOG$/constexpr double TARGET_BEAM_WIDTH_INCREASE_RATE = 1.8864307938069542;      \\/\\/ OPTIMIZE [0.25, 4.0] LOG/' -e 's/^constexpr double TARGET_BEAM_WIDTH_HALF_PROGRES_RATE = .*;  \\/\\/ OPTIMIZE \\[0\\.02, 0\\.98\\]$/constexpr double TARGET_BEAM_WIDTH_HALF_PROGRES_RATE = 0.76507784401623;  \\/\\/ OPTIMIZE [0.02, 0.98]/' -e 's/^constexpr auto MAX_BEAM_WIDTH = .*;                        \\/\\/ OPTIMIZE \\[400, 4000\\] LOG$/constexpr auto MAX_BEAM_WIDTH = 887;                        \\/\\/ OPTIMIZE [400, 4000] LOG/'\n",
      "g++ 1_main.cpp -std=gnu++17 -O2 -o 1_main.cpp.out 2> /dev/null\n"
     ]
    },
    {
     "name": "stderr",
     "output_type": "stream",
     "text": [
      "\u001b[32m[I 2021-09-11 15:04:31,030]\u001b[0m Trial 93 finished with value: 2549724447.0 and parameters: {'hash_table_size': 8, 'K_START': 0.056742097618977916, 'K_END': 0.04259169452421748, 'K_H': 0.4681492051199167, 'PURCHASE_TURN_LIMIT': 828, 'ROUGH_HASH': '0b00000001', 'TARGET_BEAM_WIDTH_INCREASE_RATE': 1.8795822770315902, 'TARGET_BEAM_WIDTH_HALF_PROGRES_RATE': 0.8627355374899588, 'MAX_BEAM_WIDTH': 801}. Best is trial 91 with value: 2566603152.0.\u001b[0m\n"
     ]
    },
    {
     "name": "stdout",
     "output_type": "stream",
     "text": [
      "callback ok\n",
      "index_parallel=2\n",
      "sed -i 2_main.cpp -e 's/^constexpr int hash_table_size = .*;         \\/\\/ OPTIMIZE \\[6, 18\\]$/constexpr int hash_table_size = 8;         \\/\\/ OPTIMIZE [6, 18]/' -e 's/^constexpr double K_START = .*;  \\/\\/ OPTIMIZE \\[0\\.04, 0\\.2\\] LOG$/constexpr double K_START = 0.05179417633017757;  \\/\\/ OPTIMIZE [0.04, 0.2] LOG/' -e 's/^constexpr double K_END = .*;   \\/\\/ OPTIMIZE \\[0\\.03, 0\\.1\\] LOG$/constexpr double K_END = 0.06197795050248194;   \\/\\/ OPTIMIZE [0.03, 0.1] LOG/' -e 's/^constexpr double K_H = .*;      \\/\\/ OPTIMIZE \\[0\\.001, 0\\.999\\]$/constexpr double K_H = 0.47854417369156865;      \\/\\/ OPTIMIZE [0.001, 0.999]/' -e 's/^constexpr short PURCHASE_TURN_LIMIT = .*;  \\/\\/ OPTIMIZE \\[790, 870\\]$/constexpr short PURCHASE_TURN_LIMIT = 833;  \\/\\/ OPTIMIZE [790, 870]/' -e 's/^constexpr int ROUGH_HASH = .*;      \\/\\/ OPTIMIZE {0, 0b00000001, 0b00010001, 0b00010011, 0b00110011}$/constexpr int ROUGH_HASH = 0;      \\/\\/ OPTIMIZE {0, 0b00000001, 0b00010001, 0b00010011, 0b00110011}/' -e 's/^constexpr double TARGET_BEAM_WIDTH_INCREASE_RATE = .*;      \\/\\/ OPTIMIZE \\[0\\.25, 4\\.0\\] LOG$/constexpr double TARGET_BEAM_WIDTH_INCREASE_RATE = 1.722929986664991;      \\/\\/ OPTIMIZE [0.25, 4.0] LOG/' -e 's/^constexpr double TARGET_BEAM_WIDTH_HALF_PROGRES_RATE = .*;  \\/\\/ OPTIMIZE \\[0\\.02, 0\\.98\\]$/constexpr double TARGET_BEAM_WIDTH_HALF_PROGRES_RATE = 0.6535299892496246;  \\/\\/ OPTIMIZE [0.02, 0.98]/' -e 's/^constexpr auto MAX_BEAM_WIDTH = .*;                        \\/\\/ OPTIMIZE \\[400, 4000\\] LOG$/constexpr auto MAX_BEAM_WIDTH = 887;                        \\/\\/ OPTIMIZE [400, 4000] LOG/'\n",
      "g++ 2_main.cpp -std=gnu++17 -O2 -o 2_main.cpp.out 2> /dev/null\n"
     ]
    },
    {
     "name": "stderr",
     "output_type": "stream",
     "text": [
      "\u001b[32m[I 2021-09-11 15:05:45,248]\u001b[0m Trial 94 finished with value: 2556753624.0 and parameters: {'hash_table_size': 8, 'K_START': 0.04941325720382643, 'K_END': 0.06217657850903107, 'K_H': 0.4693959020875111, 'PURCHASE_TURN_LIMIT': 827, 'ROUGH_HASH': '0b00000001', 'TARGET_BEAM_WIDTH_INCREASE_RATE': 2.0733236397410257, 'TARGET_BEAM_WIDTH_HALF_PROGRES_RATE': 0.7792380765913979, 'MAX_BEAM_WIDTH': 1071}. Best is trial 91 with value: 2566603152.0.\u001b[0m\n"
     ]
    },
    {
     "name": "stdout",
     "output_type": "stream",
     "text": [
      "callback ok\n",
      "index_parallel=3\n",
      "sed -i 3_main.cpp -e 's/^constexpr int hash_table_size = .*;         \\/\\/ OPTIMIZE \\[6, 18\\]$/constexpr int hash_table_size = 7;         \\/\\/ OPTIMIZE [6, 18]/' -e 's/^constexpr double K_START = .*;  \\/\\/ OPTIMIZE \\[0\\.04, 0\\.2\\] LOG$/constexpr double K_START = 0.050553161744266634;  \\/\\/ OPTIMIZE [0.04, 0.2] LOG/' -e 's/^constexpr double K_END = .*;   \\/\\/ OPTIMIZE \\[0\\.03, 0\\.1\\] LOG$/constexpr double K_END = 0.062321269408227756;   \\/\\/ OPTIMIZE [0.03, 0.1] LOG/' -e 's/^constexpr double K_H = .*;      \\/\\/ OPTIMIZE \\[0\\.001, 0\\.999\\]$/constexpr double K_H = 0.38511538210586327;      \\/\\/ OPTIMIZE [0.001, 0.999]/' -e 's/^constexpr short PURCHASE_TURN_LIMIT = .*;  \\/\\/ OPTIMIZE \\[790, 870\\]$/constexpr short PURCHASE_TURN_LIMIT = 833;  \\/\\/ OPTIMIZE [790, 870]/' -e 's/^constexpr int ROUGH_HASH = .*;      \\/\\/ OPTIMIZE {0, 0b00000001, 0b00010001, 0b00010011, 0b00110011}$/constexpr int ROUGH_HASH = 0b00000001;      \\/\\/ OPTIMIZE {0, 0b00000001, 0b00010001, 0b00010011, 0b00110011}/' -e 's/^constexpr double TARGET_BEAM_WIDTH_INCREASE_RATE = .*;      \\/\\/ OPTIMIZE \\[0\\.25, 4\\.0\\] LOG$/constexpr double TARGET_BEAM_WIDTH_INCREASE_RATE = 1.7584488534957625;      \\/\\/ OPTIMIZE [0.25, 4.0] LOG/' -e 's/^constexpr double TARGET_BEAM_WIDTH_HALF_PROGRES_RATE = .*;  \\/\\/ OPTIMIZE \\[0\\.02, 0\\.98\\]$/constexpr double TARGET_BEAM_WIDTH_HALF_PROGRES_RATE = 0.6613787364889108;  \\/\\/ OPTIMIZE [0.02, 0.98]/' -e 's/^constexpr auto MAX_BEAM_WIDTH = .*;                        \\/\\/ OPTIMIZE \\[400, 4000\\] LOG$/constexpr auto MAX_BEAM_WIDTH = 1100;                        \\/\\/ OPTIMIZE [400, 4000] LOG/'\n",
      "g++ 3_main.cpp -std=gnu++17 -O2 -o 3_main.cpp.out 2> /dev/null\n"
     ]
    },
    {
     "name": "stderr",
     "output_type": "stream",
     "text": [
      "\u001b[32m[I 2021-09-11 15:06:00,857]\u001b[0m Trial 95 finished with value: 2562840883.0 and parameters: {'hash_table_size': 8, 'K_START': 0.06436693749189537, 'K_END': 0.0570224746579097, 'K_H': 0.42214018453209273, 'PURCHASE_TURN_LIMIT': 823, 'ROUGH_HASH': '0', 'TARGET_BEAM_WIDTH_INCREASE_RATE': 1.7362209411105358, 'TARGET_BEAM_WIDTH_HALF_PROGRES_RATE': 0.7611286633086256, 'MAX_BEAM_WIDTH': 694}. Best is trial 91 with value: 2566603152.0.\u001b[0m\n"
     ]
    },
    {
     "name": "stdout",
     "output_type": "stream",
     "text": [
      "callback ok\n",
      "index_parallel=4\n",
      "sed -i 4_main.cpp -e 's/^constexpr int hash_table_size = .*;         \\/\\/ OPTIMIZE \\[6, 18\\]$/constexpr int hash_table_size = 7;         \\/\\/ OPTIMIZE [6, 18]/' -e 's/^constexpr double K_START = .*;  \\/\\/ OPTIMIZE \\[0\\.04, 0\\.2\\] LOG$/constexpr double K_START = 0.04997833394123631;  \\/\\/ OPTIMIZE [0.04, 0.2] LOG/' -e 's/^constexpr double K_END = .*;   \\/\\/ OPTIMIZE \\[0\\.03, 0\\.1\\] LOG$/constexpr double K_END = 0.06277632528345355;   \\/\\/ OPTIMIZE [0.03, 0.1] LOG/' -e 's/^constexpr double K_H = .*;      \\/\\/ OPTIMIZE \\[0\\.001, 0\\.999\\]$/constexpr double K_H = 0.41095892956807034;      \\/\\/ OPTIMIZE [0.001, 0.999]/' -e 's/^constexpr short PURCHASE_TURN_LIMIT = .*;  \\/\\/ OPTIMIZE \\[790, 870\\]$/constexpr short PURCHASE_TURN_LIMIT = 834;  \\/\\/ OPTIMIZE [790, 870]/' -e 's/^constexpr int ROUGH_HASH = .*;      \\/\\/ OPTIMIZE {0, 0b00000001, 0b00010001, 0b00010011, 0b00110011}$/constexpr int ROUGH_HASH = 0b00000001;      \\/\\/ OPTIMIZE {0, 0b00000001, 0b00010001, 0b00010011, 0b00110011}/' -e 's/^constexpr double TARGET_BEAM_WIDTH_INCREASE_RATE = .*;      \\/\\/ OPTIMIZE \\[0\\.25, 4\\.0\\] LOG$/constexpr double TARGET_BEAM_WIDTH_INCREASE_RATE = 1.7688452096768068;      \\/\\/ OPTIMIZE [0.25, 4.0] LOG/' -e 's/^constexpr double TARGET_BEAM_WIDTH_HALF_PROGRES_RATE = .*;  \\/\\/ OPTIMIZE \\[0\\.02, 0\\.98\\]$/constexpr double TARGET_BEAM_WIDTH_HALF_PROGRES_RATE = 0.7653043326380565;  \\/\\/ OPTIMIZE [0.02, 0.98]/' -e 's/^constexpr auto MAX_BEAM_WIDTH = .*;                        \\/\\/ OPTIMIZE \\[400, 4000\\] LOG$/constexpr auto MAX_BEAM_WIDTH = 1076;                        \\/\\/ OPTIMIZE [400, 4000] LOG/'\n",
      "g++ 4_main.cpp -std=gnu++17 -O2 -o 4_main.cpp.out 2> /dev/null\n"
     ]
    },
    {
     "name": "stderr",
     "output_type": "stream",
     "text": [
      "\u001b[32m[I 2021-09-11 15:08:13,878]\u001b[0m Trial 97 finished with value: 2565816813.0 and parameters: {'hash_table_size': 8, 'K_START': 0.05023878501832441, 'K_END': 0.06185390430253399, 'K_H': 0.4591394694572358, 'PURCHASE_TURN_LIMIT': 828, 'ROUGH_HASH': '0', 'TARGET_BEAM_WIDTH_INCREASE_RATE': 1.8864307938069542, 'TARGET_BEAM_WIDTH_HALF_PROGRES_RATE': 0.76507784401623, 'MAX_BEAM_WIDTH': 887}. Best is trial 91 with value: 2566603152.0.\u001b[0m\n"
     ]
    },
    {
     "name": "stdout",
     "output_type": "stream",
     "text": [
      "callback ok\n",
      "index_parallel=5\n",
      "sed -i 5_main.cpp -e 's/^constexpr int hash_table_size = .*;         \\/\\/ OPTIMIZE \\[6, 18\\]$/constexpr int hash_table_size = 7;         \\/\\/ OPTIMIZE [6, 18]/' -e 's/^constexpr double K_START = .*;  \\/\\/ OPTIMIZE \\[0\\.04, 0\\.2\\] LOG$/constexpr double K_START = 0.05008762554139357;  \\/\\/ OPTIMIZE [0.04, 0.2] LOG/' -e 's/^constexpr double K_END = .*;   \\/\\/ OPTIMIZE \\[0\\.03, 0\\.1\\] LOG$/constexpr double K_END = 0.061070758516773994;   \\/\\/ OPTIMIZE [0.03, 0.1] LOG/' -e 's/^constexpr double K_H = .*;      \\/\\/ OPTIMIZE \\[0\\.001, 0\\.999\\]$/constexpr double K_H = 0.41861795945767927;      \\/\\/ OPTIMIZE [0.001, 0.999]/' -e 's/^constexpr short PURCHASE_TURN_LIMIT = .*;  \\/\\/ OPTIMIZE \\[790, 870\\]$/constexpr short PURCHASE_TURN_LIMIT = 832;  \\/\\/ OPTIMIZE [790, 870]/' -e 's/^constexpr int ROUGH_HASH = .*;      \\/\\/ OPTIMIZE {0, 0b00000001, 0b00010001, 0b00010011, 0b00110011}$/constexpr int ROUGH_HASH = 0b00000001;      \\/\\/ OPTIMIZE {0, 0b00000001, 0b00010001, 0b00010011, 0b00110011}/' -e 's/^constexpr double TARGET_BEAM_WIDTH_INCREASE_RATE = .*;      \\/\\/ OPTIMIZE \\[0\\.25, 4\\.0\\] LOG$/constexpr double TARGET_BEAM_WIDTH_INCREASE_RATE = 1.7625007843352682;      \\/\\/ OPTIMIZE [0.25, 4.0] LOG/' -e 's/^constexpr double TARGET_BEAM_WIDTH_HALF_PROGRES_RATE = .*;  \\/\\/ OPTIMIZE \\[0\\.02, 0\\.98\\]$/constexpr double TARGET_BEAM_WIDTH_HALF_PROGRES_RATE = 0.7604664064163071;  \\/\\/ OPTIMIZE [0.02, 0.98]/' -e 's/^constexpr auto MAX_BEAM_WIDTH = .*;                        \\/\\/ OPTIMIZE \\[400, 4000\\] LOG$/constexpr auto MAX_BEAM_WIDTH = 1120;                        \\/\\/ OPTIMIZE [400, 4000] LOG/'\n",
      "g++ 5_main.cpp -std=gnu++17 -O2 -o 5_main.cpp.out 2> /dev/null\n"
     ]
    },
    {
     "name": "stderr",
     "output_type": "stream",
     "text": [
      "\u001b[32m[I 2021-09-11 15:08:15,561]\u001b[0m Trial 99 finished with value: 2508020036.0 and parameters: {'hash_table_size': 7, 'K_START': 0.050553161744266634, 'K_END': 0.062321269408227756, 'K_H': 0.38511538210586327, 'PURCHASE_TURN_LIMIT': 833, 'ROUGH_HASH': '0b00000001', 'TARGET_BEAM_WIDTH_INCREASE_RATE': 1.7584488534957625, 'TARGET_BEAM_WIDTH_HALF_PROGRES_RATE': 0.6613787364889108, 'MAX_BEAM_WIDTH': 1100}. Best is trial 91 with value: 2566603152.0.\u001b[0m\n"
     ]
    },
    {
     "name": "stdout",
     "output_type": "stream",
     "text": [
      "callback ok\n",
      "index_parallel=6\n",
      "sed -i 6_main.cpp -e 's/^constexpr int hash_table_size = .*;         \\/\\/ OPTIMIZE \\[6, 18\\]$/constexpr int hash_table_size = 8;         \\/\\/ OPTIMIZE [6, 18]/' -e 's/^constexpr double K_START = .*;  \\/\\/ OPTIMIZE \\[0\\.04, 0\\.2\\] LOG$/constexpr double K_START = 0.06538422972369953;  \\/\\/ OPTIMIZE [0.04, 0.2] LOG/' -e 's/^constexpr double K_END = .*;   \\/\\/ OPTIMIZE \\[0\\.03, 0\\.1\\] LOG$/constexpr double K_END = 0.05985544151121505;   \\/\\/ OPTIMIZE [0.03, 0.1] LOG/' -e 's/^constexpr double K_H = .*;      \\/\\/ OPTIMIZE \\[0\\.001, 0\\.999\\]$/constexpr double K_H = 0.44408787500041036;      \\/\\/ OPTIMIZE [0.001, 0.999]/' -e 's/^constexpr short PURCHASE_TURN_LIMIT = .*;  \\/\\/ OPTIMIZE \\[790, 870\\]$/constexpr short PURCHASE_TURN_LIMIT = 832;  \\/\\/ OPTIMIZE [790, 870]/' -e 's/^constexpr int ROUGH_HASH = .*;      \\/\\/ OPTIMIZE {0, 0b00000001, 0b00010001, 0b00010011, 0b00110011}$/constexpr int ROUGH_HASH = 0b00000001;      \\/\\/ OPTIMIZE {0, 0b00000001, 0b00010001, 0b00010011, 0b00110011}/' -e 's/^constexpr double TARGET_BEAM_WIDTH_INCREASE_RATE = .*;      \\/\\/ OPTIMIZE \\[0\\.25, 4\\.0\\] LOG$/constexpr double TARGET_BEAM_WIDTH_INCREASE_RATE = 2.1899980647375;      \\/\\/ OPTIMIZE [0.25, 4.0] LOG/' -e 's/^constexpr double TARGET_BEAM_WIDTH_HALF_PROGRES_RATE = .*;  \\/\\/ OPTIMIZE \\[0\\.02, 0\\.98\\]$/constexpr double TARGET_BEAM_WIDTH_HALF_PROGRES_RATE = 0.7593970140736803;  \\/\\/ OPTIMIZE [0.02, 0.98]/' -e 's/^constexpr auto MAX_BEAM_WIDTH = .*;                        \\/\\/ OPTIMIZE \\[400, 4000\\] LOG$/constexpr auto MAX_BEAM_WIDTH = 901;                        \\/\\/ OPTIMIZE [400, 4000] LOG/'\n",
      "g++ 6_main.cpp -std=gnu++17 -O2 -o 6_main.cpp.out 2> /dev/null\n"
     ]
    },
    {
     "name": "stderr",
     "output_type": "stream",
     "text": [
      "\u001b[32m[I 2021-09-11 15:08:20,303]\u001b[0m Trial 96 finished with value: 2541273359.0 and parameters: {'hash_table_size': 8, 'K_START': 0.05016117076520568, 'K_END': 0.042917000026429404, 'K_H': 0.47819682255479035, 'PURCHASE_TURN_LIMIT': 828, 'ROUGH_HASH': '0', 'TARGET_BEAM_WIDTH_INCREASE_RATE': 1.8257786430045602, 'TARGET_BEAM_WIDTH_HALF_PROGRES_RATE': 0.6443359914833925, 'MAX_BEAM_WIDTH': 1096}. Best is trial 91 with value: 2566603152.0.\u001b[0m\n"
     ]
    },
    {
     "name": "stdout",
     "output_type": "stream",
     "text": [
      "callback ok\n",
      "index_parallel=7\n",
      "sed -i 7_main.cpp -e 's/^constexpr int hash_table_size = .*;         \\/\\/ OPTIMIZE \\[6, 18\\]$/constexpr int hash_table_size = 7;         \\/\\/ OPTIMIZE [6, 18]/' -e 's/^constexpr double K_START = .*;  \\/\\/ OPTIMIZE \\[0\\.04, 0\\.2\\] LOG$/constexpr double K_START = 0.044721560457990965;  \\/\\/ OPTIMIZE [0.04, 0.2] LOG/' -e 's/^constexpr double K_END = .*;   \\/\\/ OPTIMIZE \\[0\\.03, 0\\.1\\] LOG$/constexpr double K_END = 0.0606053192303684;   \\/\\/ OPTIMIZE [0.03, 0.1] LOG/' -e 's/^constexpr double K_H = .*;      \\/\\/ OPTIMIZE \\[0\\.001, 0\\.999\\]$/constexpr double K_H = 0.45730595835420673;      \\/\\/ OPTIMIZE [0.001, 0.999]/' -e 's/^constexpr short PURCHASE_TURN_LIMIT = .*;  \\/\\/ OPTIMIZE \\[790, 870\\]$/constexpr short PURCHASE_TURN_LIMIT = 831;  \\/\\/ OPTIMIZE [790, 870]/' -e 's/^constexpr int ROUGH_HASH = .*;      \\/\\/ OPTIMIZE {0, 0b00000001, 0b00010001, 0b00010011, 0b00110011}$/constexpr int ROUGH_HASH = 0b00000001;      \\/\\/ OPTIMIZE {0, 0b00000001, 0b00010001, 0b00010011, 0b00110011}/' -e 's/^constexpr double TARGET_BEAM_WIDTH_INCREASE_RATE = .*;      \\/\\/ OPTIMIZE \\[0\\.25, 4\\.0\\] LOG$/constexpr double TARGET_BEAM_WIDTH_INCREASE_RATE = 1.5723460072563995;      \\/\\/ OPTIMIZE [0.25, 4.0] LOG/' -e 's/^constexpr double TARGET_BEAM_WIDTH_HALF_PROGRES_RATE = .*;  \\/\\/ OPTIMIZE \\[0\\.02, 0\\.98\\]$/constexpr double TARGET_BEAM_WIDTH_HALF_PROGRES_RATE = 0.761874530162613;  \\/\\/ OPTIMIZE [0.02, 0.98]/' -e 's/^constexpr auto MAX_BEAM_WIDTH = .*;                        \\/\\/ OPTIMIZE \\[400, 4000\\] LOG$/constexpr auto MAX_BEAM_WIDTH = 876;                        \\/\\/ OPTIMIZE [400, 4000] LOG/'\n",
      "g++ 7_main.cpp -std=gnu++17 -O2 -o 7_main.cpp.out 2> /dev/null\n"
     ]
    },
    {
     "name": "stderr",
     "output_type": "stream",
     "text": [
      "\u001b[32m[I 2021-09-11 15:08:28,574]\u001b[0m Trial 100 finished with value: 2508907993.0 and parameters: {'hash_table_size': 7, 'K_START': 0.04997833394123631, 'K_END': 0.06277632528345355, 'K_H': 0.41095892956807034, 'PURCHASE_TURN_LIMIT': 834, 'ROUGH_HASH': '0b00000001', 'TARGET_BEAM_WIDTH_INCREASE_RATE': 1.7688452096768068, 'TARGET_BEAM_WIDTH_HALF_PROGRES_RATE': 0.7653043326380565, 'MAX_BEAM_WIDTH': 1076}. Best is trial 91 with value: 2566603152.0.\u001b[0m\n"
     ]
    },
    {
     "name": "stdout",
     "output_type": "stream",
     "text": [
      "callback ok\n",
      "index_parallel=8\n",
      "sed -i 8_main.cpp -e 's/^constexpr int hash_table_size = .*;         \\/\\/ OPTIMIZE \\[6, 18\\]$/constexpr int hash_table_size = 8;         \\/\\/ OPTIMIZE [6, 18]/' -e 's/^constexpr double K_START = .*;  \\/\\/ OPTIMIZE \\[0\\.04, 0\\.2\\] LOG$/constexpr double K_START = 0.06368531667289101;  \\/\\/ OPTIMIZE [0.04, 0.2] LOG/' -e 's/^constexpr double K_END = .*;   \\/\\/ OPTIMIZE \\[0\\.03, 0\\.1\\] LOG$/constexpr double K_END = 0.060568780323128533;   \\/\\/ OPTIMIZE [0.03, 0.1] LOG/' -e 's/^constexpr double K_H = .*;      \\/\\/ OPTIMIZE \\[0\\.001, 0\\.999\\]$/constexpr double K_H = 0.4506959525995379;      \\/\\/ OPTIMIZE [0.001, 0.999]/' -e 's/^constexpr short PURCHASE_TURN_LIMIT = .*;  \\/\\/ OPTIMIZE \\[790, 870\\]$/constexpr short PURCHASE_TURN_LIMIT = 832;  \\/\\/ OPTIMIZE [790, 870]/' -e 's/^constexpr int ROUGH_HASH = .*;      \\/\\/ OPTIMIZE {0, 0b00000001, 0b00010001, 0b00010011, 0b00110011}$/constexpr int ROUGH_HASH = 0b00000001;      \\/\\/ OPTIMIZE {0, 0b00000001, 0b00010001, 0b00010011, 0b00110011}/' -e 's/^constexpr double TARGET_BEAM_WIDTH_INCREASE_RATE = .*;      \\/\\/ OPTIMIZE \\[0\\.25, 4\\.0\\] LOG$/constexpr double TARGET_BEAM_WIDTH_INCREASE_RATE = 2.1488802402192184;      \\/\\/ OPTIMIZE [0.25, 4.0] LOG/' -e 's/^constexpr double TARGET_BEAM_WIDTH_HALF_PROGRES_RATE = .*;  \\/\\/ OPTIMIZE \\[0\\.02, 0\\.98\\]$/constexpr double TARGET_BEAM_WIDTH_HALF_PROGRES_RATE = 0.7745800606898032;  \\/\\/ OPTIMIZE [0.02, 0.98]/' -e 's/^constexpr auto MAX_BEAM_WIDTH = .*;                        \\/\\/ OPTIMIZE \\[400, 4000\\] LOG$/constexpr auto MAX_BEAM_WIDTH = 865;                        \\/\\/ OPTIMIZE [400, 4000] LOG/'\n",
      "g++ 8_main.cpp -std=gnu++17 -O2 -o 8_main.cpp.out 2> /dev/null\n"
     ]
    },
    {
     "name": "stderr",
     "output_type": "stream",
     "text": [
      "\u001b[32m[I 2021-09-11 15:08:46,510]\u001b[0m Trial 98 finished with value: 2563302573.0 and parameters: {'hash_table_size': 8, 'K_START': 0.05179417633017757, 'K_END': 0.06197795050248194, 'K_H': 0.47854417369156865, 'PURCHASE_TURN_LIMIT': 833, 'ROUGH_HASH': '0', 'TARGET_BEAM_WIDTH_INCREASE_RATE': 1.722929986664991, 'TARGET_BEAM_WIDTH_HALF_PROGRES_RATE': 0.6535299892496246, 'MAX_BEAM_WIDTH': 887}. Best is trial 91 with value: 2566603152.0.\u001b[0m\n"
     ]
    },
    {
     "name": "stdout",
     "output_type": "stream",
     "text": [
      "callback ok\n",
      "index_parallel=9\n",
      "sed -i 9_main.cpp -e 's/^constexpr int hash_table_size = .*;         \\/\\/ OPTIMIZE \\[6, 18\\]$/constexpr int hash_table_size = 8;         \\/\\/ OPTIMIZE [6, 18]/' -e 's/^constexpr double K_START = .*;  \\/\\/ OPTIMIZE \\[0\\.04, 0\\.2\\] LOG$/constexpr double K_START = 0.04498268266739941;  \\/\\/ OPTIMIZE [0.04, 0.2] LOG/' -e 's/^constexpr double K_END = .*;   \\/\\/ OPTIMIZE \\[0\\.03, 0\\.1\\] LOG$/constexpr double K_END = 0.06041150172573467;   \\/\\/ OPTIMIZE [0.03, 0.1] LOG/' -e 's/^constexpr double K_H = .*;      \\/\\/ OPTIMIZE \\[0\\.001, 0\\.999\\]$/constexpr double K_H = 0.4470747443846629;      \\/\\/ OPTIMIZE [0.001, 0.999]/' -e 's/^constexpr short PURCHASE_TURN_LIMIT = .*;  \\/\\/ OPTIMIZE \\[790, 870\\]$/constexpr short PURCHASE_TURN_LIMIT = 831;  \\/\\/ OPTIMIZE [790, 870]/' -e 's/^constexpr int ROUGH_HASH = .*;      \\/\\/ OPTIMIZE {0, 0b00000001, 0b00010001, 0b00010011, 0b00110011}$/constexpr int ROUGH_HASH = 0;      \\/\\/ OPTIMIZE {0, 0b00000001, 0b00010001, 0b00010011, 0b00110011}/' -e 's/^constexpr double TARGET_BEAM_WIDTH_INCREASE_RATE = .*;      \\/\\/ OPTIMIZE \\[0\\.25, 4\\.0\\] LOG$/constexpr double TARGET_BEAM_WIDTH_INCREASE_RATE = 2.1257892719417404;      \\/\\/ OPTIMIZE [0.25, 4.0] LOG/' -e 's/^constexpr double TARGET_BEAM_WIDTH_HALF_PROGRES_RATE = .*;  \\/\\/ OPTIMIZE \\[0\\.02, 0\\.98\\]$/constexpr double TARGET_BEAM_WIDTH_HALF_PROGRES_RATE = 0.7609471481050352;  \\/\\/ OPTIMIZE [0.02, 0.98]/' -e 's/^constexpr auto MAX_BEAM_WIDTH = .*;                        \\/\\/ OPTIMIZE \\[400, 4000\\] LOG$/constexpr auto MAX_BEAM_WIDTH = 885;                        \\/\\/ OPTIMIZE [400, 4000] LOG/'\n",
      "g++ 9_main.cpp -std=gnu++17 -O2 -o 9_main.cpp.out 2> /dev/null\n"
     ]
    },
    {
     "name": "stderr",
     "output_type": "stream",
     "text": [
      "\u001b[32m[I 2021-09-11 15:10:42,531]\u001b[0m Trial 101 finished with value: 2507918296.0 and parameters: {'hash_table_size': 7, 'K_START': 0.05008762554139357, 'K_END': 0.061070758516773994, 'K_H': 0.41861795945767927, 'PURCHASE_TURN_LIMIT': 832, 'ROUGH_HASH': '0b00000001', 'TARGET_BEAM_WIDTH_INCREASE_RATE': 1.7625007843352682, 'TARGET_BEAM_WIDTH_HALF_PROGRES_RATE': 0.7604664064163071, 'MAX_BEAM_WIDTH': 1120}. Best is trial 91 with value: 2566603152.0.\u001b[0m\n"
     ]
    },
    {
     "name": "stdout",
     "output_type": "stream",
     "text": [
      "callback ok\n",
      "index_parallel=10\n",
      "sed -i 10_main.cpp -e 's/^constexpr int hash_table_size = .*;         \\/\\/ OPTIMIZE \\[6, 18\\]$/constexpr int hash_table_size = 8;         \\/\\/ OPTIMIZE [6, 18]/' -e 's/^constexpr double K_START = .*;  \\/\\/ OPTIMIZE \\[0\\.04, 0\\.2\\] LOG$/constexpr double K_START = 0.04514729973191293;  \\/\\/ OPTIMIZE [0.04, 0.2] LOG/' -e 's/^constexpr double K_END = .*;   \\/\\/ OPTIMIZE \\[0\\.03, 0\\.1\\] LOG$/constexpr double K_END = 0.07063117781039753;   \\/\\/ OPTIMIZE [0.03, 0.1] LOG/' -e 's/^constexpr double K_H = .*;      \\/\\/ OPTIMIZE \\[0\\.001, 0\\.999\\]$/constexpr double K_H = 0.4585608134266308;      \\/\\/ OPTIMIZE [0.001, 0.999]/' -e 's/^constexpr short PURCHASE_TURN_LIMIT = .*;  \\/\\/ OPTIMIZE \\[790, 870\\]$/constexpr short PURCHASE_TURN_LIMIT = 840;  \\/\\/ OPTIMIZE [790, 870]/' -e 's/^constexpr int ROUGH_HASH = .*;      \\/\\/ OPTIMIZE {0, 0b00000001, 0b00010001, 0b00010011, 0b00110011}$/constexpr int ROUGH_HASH = 0;      \\/\\/ OPTIMIZE {0, 0b00000001, 0b00010001, 0b00010011, 0b00110011}/' -e 's/^constexpr double TARGET_BEAM_WIDTH_INCREASE_RATE = .*;      \\/\\/ OPTIMIZE \\[0\\.25, 4\\.0\\] LOG$/constexpr double TARGET_BEAM_WIDTH_INCREASE_RATE = 1.5063589348915685;      \\/\\/ OPTIMIZE [0.25, 4.0] LOG/' -e 's/^constexpr double TARGET_BEAM_WIDTH_HALF_PROGRES_RATE = .*;  \\/\\/ OPTIMIZE \\[0\\.02, 0\\.98\\]$/constexpr double TARGET_BEAM_WIDTH_HALF_PROGRES_RATE = 0.6931202201990339;  \\/\\/ OPTIMIZE [0.02, 0.98]/' -e 's/^constexpr auto MAX_BEAM_WIDTH = .*;                        \\/\\/ OPTIMIZE \\[400, 4000\\] LOG$/constexpr auto MAX_BEAM_WIDTH = 893;                        \\/\\/ OPTIMIZE [400, 4000] LOG/'\n",
      "g++ 10_main.cpp -std=gnu++17 -O2 -o 10_main.cpp.out 2> /dev/null\n"
     ]
    },
    {
     "name": "stderr",
     "output_type": "stream",
     "text": [
      "\u001b[32m[I 2021-09-11 15:10:45,456]\u001b[0m Trial 103 finished with value: 2502425121.0 and parameters: {'hash_table_size': 7, 'K_START': 0.044721560457990965, 'K_END': 0.0606053192303684, 'K_H': 0.45730595835420673, 'PURCHASE_TURN_LIMIT': 831, 'ROUGH_HASH': '0b00000001', 'TARGET_BEAM_WIDTH_INCREASE_RATE': 1.5723460072563995, 'TARGET_BEAM_WIDTH_HALF_PROGRES_RATE': 0.761874530162613, 'MAX_BEAM_WIDTH': 876}. Best is trial 91 with value: 2566603152.0.\u001b[0m\n"
     ]
    },
    {
     "name": "stdout",
     "output_type": "stream",
     "text": [
      "callback ok\n",
      "index_parallel=11\n",
      "sed -i 11_main.cpp -e 's/^constexpr int hash_table_size = .*;         \\/\\/ OPTIMIZE \\[6, 18\\]$/constexpr int hash_table_size = 8;         \\/\\/ OPTIMIZE [6, 18]/' -e 's/^constexpr double K_START = .*;  \\/\\/ OPTIMIZE \\[0\\.04, 0\\.2\\] LOG$/constexpr double K_START = 0.04564043246280245;  \\/\\/ OPTIMIZE [0.04, 0.2] LOG/' -e 's/^constexpr double K_END = .*;   \\/\\/ OPTIMIZE \\[0\\.03, 0\\.1\\] LOG$/constexpr double K_END = 0.06778017462141729;   \\/\\/ OPTIMIZE [0.03, 0.1] LOG/' -e 's/^constexpr double K_H = .*;      \\/\\/ OPTIMIZE \\[0\\.001, 0\\.999\\]$/constexpr double K_H = 0.43783318260498383;      \\/\\/ OPTIMIZE [0.001, 0.999]/' -e 's/^constexpr short PURCHASE_TURN_LIMIT = .*;  \\/\\/ OPTIMIZE \\[790, 870\\]$/constexpr short PURCHASE_TURN_LIMIT = 829;  \\/\\/ OPTIMIZE [790, 870]/' -e 's/^constexpr int ROUGH_HASH = .*;      \\/\\/ OPTIMIZE {0, 0b00000001, 0b00010001, 0b00010011, 0b00110011}$/constexpr int ROUGH_HASH = 0;      \\/\\/ OPTIMIZE {0, 0b00000001, 0b00010001, 0b00010011, 0b00110011}/' -e 's/^constexpr double TARGET_BEAM_WIDTH_INCREASE_RATE = .*;      \\/\\/ OPTIMIZE \\[0\\.25, 4\\.0\\] LOG$/constexpr double TARGET_BEAM_WIDTH_INCREASE_RATE = 2.139545726174999;      \\/\\/ OPTIMIZE [0.25, 4.0] LOG/' -e 's/^constexpr double TARGET_BEAM_WIDTH_HALF_PROGRES_RATE = .*;  \\/\\/ OPTIMIZE \\[0\\.02, 0\\.98\\]$/constexpr double TARGET_BEAM_WIDTH_HALF_PROGRES_RATE = 0.694350587315832;  \\/\\/ OPTIMIZE [0.02, 0.98]/' -e 's/^constexpr auto MAX_BEAM_WIDTH = .*;                        \\/\\/ OPTIMIZE \\[400, 4000\\] LOG$/constexpr auto MAX_BEAM_WIDTH = 1007;                        \\/\\/ OPTIMIZE [400, 4000] LOG/'\n",
      "g++ 11_main.cpp -std=gnu++17 -O2 -o 11_main.cpp.out 2> /dev/null\n"
     ]
    },
    {
     "name": "stderr",
     "output_type": "stream",
     "text": [
      "\u001b[32m[I 2021-09-11 15:12:24,710]\u001b[0m Trial 102 finished with value: 2564522717.0 and parameters: {'hash_table_size': 8, 'K_START': 0.06538422972369953, 'K_END': 0.05985544151121505, 'K_H': 0.44408787500041036, 'PURCHASE_TURN_LIMIT': 832, 'ROUGH_HASH': '0b00000001', 'TARGET_BEAM_WIDTH_INCREASE_RATE': 2.1899980647375, 'TARGET_BEAM_WIDTH_HALF_PROGRES_RATE': 0.7593970140736803, 'MAX_BEAM_WIDTH': 901}. Best is trial 91 with value: 2566603152.0.\u001b[0m\n"
     ]
    },
    {
     "name": "stdout",
     "output_type": "stream",
     "text": [
      "callback ok\n",
      "index_parallel=0\n",
      "sed -i 0_main.cpp -e 's/^constexpr int hash_table_size = .*;         \\/\\/ OPTIMIZE \\[6, 18\\]$/constexpr int hash_table_size = 8;         \\/\\/ OPTIMIZE [6, 18]/' -e 's/^constexpr double K_START = .*;  \\/\\/ OPTIMIZE \\[0\\.04, 0\\.2\\] LOG$/constexpr double K_START = 0.06438638572356795;  \\/\\/ OPTIMIZE [0.04, 0.2] LOG/' -e 's/^constexpr double K_END = .*;   \\/\\/ OPTIMIZE \\[0\\.03, 0\\.1\\] LOG$/constexpr double K_END = 0.06811593016718895;   \\/\\/ OPTIMIZE [0.03, 0.1] LOG/' -e 's/^constexpr double K_H = .*;      \\/\\/ OPTIMIZE \\[0\\.001, 0\\.999\\]$/constexpr double K_H = 0.33889035099906406;      \\/\\/ OPTIMIZE [0.001, 0.999]/' -e 's/^constexpr short PURCHASE_TURN_LIMIT = .*;  \\/\\/ OPTIMIZE \\[790, 870\\]$/constexpr short PURCHASE_TURN_LIMIT = 840;  \\/\\/ OPTIMIZE [790, 870]/' -e 's/^constexpr int ROUGH_HASH = .*;      \\/\\/ OPTIMIZE {0, 0b00000001, 0b00010001, 0b00010011, 0b00110011}$/constexpr int ROUGH_HASH = 0;      \\/\\/ OPTIMIZE {0, 0b00000001, 0b00010001, 0b00010011, 0b00110011}/' -e 's/^constexpr double TARGET_BEAM_WIDTH_INCREASE_RATE = .*;      \\/\\/ OPTIMIZE \\[0\\.25, 4\\.0\\] LOG$/constexpr double TARGET_BEAM_WIDTH_INCREASE_RATE = 2.1829509035093055;      \\/\\/ OPTIMIZE [0.25, 4.0] LOG/' -e 's/^constexpr double TARGET_BEAM_WIDTH_HALF_PROGRES_RATE = .*;  \\/\\/ OPTIMIZE \\[0\\.02, 0\\.98\\]$/constexpr double TARGET_BEAM_WIDTH_HALF_PROGRES_RATE = 0.8540956981402169;  \\/\\/ OPTIMIZE [0.02, 0.98]/' -e 's/^constexpr auto MAX_BEAM_WIDTH = .*;                        \\/\\/ OPTIMIZE \\[400, 4000\\] LOG$/constexpr auto MAX_BEAM_WIDTH = 892;                        \\/\\/ OPTIMIZE [400, 4000] LOG/'\n",
      "g++ 0_main.cpp -std=gnu++17 -O2 -o 0_main.cpp.out 2> /dev/null\n"
     ]
    },
    {
     "name": "stderr",
     "output_type": "stream",
     "text": [
      "\u001b[32m[I 2021-09-11 15:12:40,588]\u001b[0m Trial 104 finished with value: 2563536438.0 and parameters: {'hash_table_size': 8, 'K_START': 0.06368531667289101, 'K_END': 0.060568780323128533, 'K_H': 0.4506959525995379, 'PURCHASE_TURN_LIMIT': 832, 'ROUGH_HASH': '0b00000001', 'TARGET_BEAM_WIDTH_INCREASE_RATE': 2.1488802402192184, 'TARGET_BEAM_WIDTH_HALF_PROGRES_RATE': 0.7745800606898032, 'MAX_BEAM_WIDTH': 865}. Best is trial 91 with value: 2566603152.0.\u001b[0m\n"
     ]
    },
    {
     "name": "stdout",
     "output_type": "stream",
     "text": [
      "callback ok\n",
      "index_parallel=1\n",
      "sed -i 1_main.cpp -e 's/^constexpr int hash_table_size = .*;         \\/\\/ OPTIMIZE \\[6, 18\\]$/constexpr int hash_table_size = 8;         \\/\\/ OPTIMIZE [6, 18]/' -e 's/^constexpr double K_START = .*;  \\/\\/ OPTIMIZE \\[0\\.04, 0\\.2\\] LOG$/constexpr double K_START = 0.06398850056263432;  \\/\\/ OPTIMIZE [0.04, 0.2] LOG/' -e 's/^constexpr double K_END = .*;   \\/\\/ OPTIMIZE \\[0\\.03, 0\\.1\\] LOG$/constexpr double K_END = 0.06892729795556979;   \\/\\/ OPTIMIZE [0.03, 0.1] LOG/' -e 's/^constexpr double K_H = .*;      \\/\\/ OPTIMIZE \\[0\\.001, 0\\.999\\]$/constexpr double K_H = 0.35718842820837093;      \\/\\/ OPTIMIZE [0.001, 0.999]/' -e 's/^constexpr short PURCHASE_TURN_LIMIT = .*;  \\/\\/ OPTIMIZE \\[790, 870\\]$/constexpr short PURCHASE_TURN_LIMIT = 838;  \\/\\/ OPTIMIZE [790, 870]/' -e 's/^constexpr int ROUGH_HASH = .*;      \\/\\/ OPTIMIZE {0, 0b00000001, 0b00010001, 0b00010011, 0b00110011}$/constexpr int ROUGH_HASH = 0;      \\/\\/ OPTIMIZE {0, 0b00000001, 0b00010001, 0b00010011, 0b00110011}/' -e 's/^constexpr double TARGET_BEAM_WIDTH_INCREASE_RATE = .*;      \\/\\/ OPTIMIZE \\[0\\.25, 4\\.0\\] LOG$/constexpr double TARGET_BEAM_WIDTH_INCREASE_RATE = 1.6629867065351065;      \\/\\/ OPTIMIZE [0.25, 4.0] LOG/' -e 's/^constexpr double TARGET_BEAM_WIDTH_HALF_PROGRES_RATE = .*;  \\/\\/ OPTIMIZE \\[0\\.02, 0\\.98\\]$/constexpr double TARGET_BEAM_WIDTH_HALF_PROGRES_RATE = 0.7054172052371855;  \\/\\/ OPTIMIZE [0.02, 0.98]/' -e 's/^constexpr auto MAX_BEAM_WIDTH = .*;                        \\/\\/ OPTIMIZE \\[400, 4000\\] LOG$/constexpr auto MAX_BEAM_WIDTH = 903;                        \\/\\/ OPTIMIZE [400, 4000] LOG/'\n",
      "g++ 1_main.cpp -std=gnu++17 -O2 -o 1_main.cpp.out 2> /dev/null\n"
     ]
    },
    {
     "name": "stderr",
     "output_type": "stream",
     "text": [
      "\u001b[32m[I 2021-09-11 15:12:59,526]\u001b[0m Trial 105 finished with value: 2560815936.0 and parameters: {'hash_table_size': 8, 'K_START': 0.04498268266739941, 'K_END': 0.06041150172573467, 'K_H': 0.4470747443846629, 'PURCHASE_TURN_LIMIT': 831, 'ROUGH_HASH': '0', 'TARGET_BEAM_WIDTH_INCREASE_RATE': 2.1257892719417404, 'TARGET_BEAM_WIDTH_HALF_PROGRES_RATE': 0.7609471481050352, 'MAX_BEAM_WIDTH': 885}. Best is trial 91 with value: 2566603152.0.\u001b[0m\n"
     ]
    },
    {
     "name": "stdout",
     "output_type": "stream",
     "text": [
      "callback ok\n",
      "index_parallel=2\n",
      "sed -i 2_main.cpp -e 's/^constexpr int hash_table_size = .*;         \\/\\/ OPTIMIZE \\[6, 18\\]$/constexpr int hash_table_size = 8;         \\/\\/ OPTIMIZE [6, 18]/' -e 's/^constexpr double K_START = .*;  \\/\\/ OPTIMIZE \\[0\\.04, 0\\.2\\] LOG$/constexpr double K_START = 0.06368175617853879;  \\/\\/ OPTIMIZE [0.04, 0.2] LOG/' -e 's/^constexpr double K_END = .*;   \\/\\/ OPTIMIZE \\[0\\.03, 0\\.1\\] LOG$/constexpr double K_END = 0.06661359184928599;   \\/\\/ OPTIMIZE [0.03, 0.1] LOG/' -e 's/^constexpr double K_H = .*;      \\/\\/ OPTIMIZE \\[0\\.001, 0\\.999\\]$/constexpr double K_H = 0.3296163731996627;      \\/\\/ OPTIMIZE [0.001, 0.999]/' -e 's/^constexpr short PURCHASE_TURN_LIMIT = .*;  \\/\\/ OPTIMIZE \\[790, 870\\]$/constexpr short PURCHASE_TURN_LIMIT = 839;  \\/\\/ OPTIMIZE [790, 870]/' -e 's/^constexpr int ROUGH_HASH = .*;      \\/\\/ OPTIMIZE {0, 0b00000001, 0b00010001, 0b00010011, 0b00110011}$/constexpr int ROUGH_HASH = 0;      \\/\\/ OPTIMIZE {0, 0b00000001, 0b00010001, 0b00010011, 0b00110011}/' -e 's/^constexpr double TARGET_BEAM_WIDTH_INCREASE_RATE = .*;      \\/\\/ OPTIMIZE \\[0\\.25, 4\\.0\\] LOG$/constexpr double TARGET_BEAM_WIDTH_INCREASE_RATE = 2.2169769723215884;      \\/\\/ OPTIMIZE [0.25, 4.0] LOG/' -e 's/^constexpr double TARGET_BEAM_WIDTH_HALF_PROGRES_RATE = .*;  \\/\\/ OPTIMIZE \\[0\\.02, 0\\.98\\]$/constexpr double TARGET_BEAM_WIDTH_HALF_PROGRES_RATE = 0.7124896709470375;  \\/\\/ OPTIMIZE [0.02, 0.98]/' -e 's/^constexpr auto MAX_BEAM_WIDTH = .*;                        \\/\\/ OPTIMIZE \\[400, 4000\\] LOG$/constexpr auto MAX_BEAM_WIDTH = 1187;                        \\/\\/ OPTIMIZE [400, 4000] LOG/'\n",
      "g++ 2_main.cpp -std=gnu++17 -O2 -o 2_main.cpp.out 2> /dev/null\n"
     ]
    },
    {
     "name": "stderr",
     "output_type": "stream",
     "text": [
      "\u001b[32m[I 2021-09-11 15:14:59,789]\u001b[0m Trial 106 finished with value: 2565671087.0 and parameters: {'hash_table_size': 8, 'K_START': 0.04514729973191293, 'K_END': 0.07063117781039753, 'K_H': 0.4585608134266308, 'PURCHASE_TURN_LIMIT': 840, 'ROUGH_HASH': '0', 'TARGET_BEAM_WIDTH_INCREASE_RATE': 1.5063589348915685, 'TARGET_BEAM_WIDTH_HALF_PROGRES_RATE': 0.6931202201990339, 'MAX_BEAM_WIDTH': 893}. Best is trial 91 with value: 2566603152.0.\u001b[0m\n"
     ]
    },
    {
     "name": "stdout",
     "output_type": "stream",
     "text": [
      "callback ok\n",
      "index_parallel=3\n"
     ]
    },
    {
     "name": "stderr",
     "output_type": "stream",
     "text": [
      "\u001b[32m[I 2021-09-11 15:15:01,165]\u001b[0m Trial 107 finished with value: 2559501792.0 and parameters: {'hash_table_size': 8, 'K_START': 0.04564043246280245, 'K_END': 0.06778017462141729, 'K_H': 0.43783318260498383, 'PURCHASE_TURN_LIMIT': 829, 'ROUGH_HASH': '0', 'TARGET_BEAM_WIDTH_INCREASE_RATE': 2.139545726174999, 'TARGET_BEAM_WIDTH_HALF_PROGRES_RATE': 0.694350587315832, 'MAX_BEAM_WIDTH': 1007}. Best is trial 91 with value: 2566603152.0.\u001b[0m\n"
     ]
    },
    {
     "name": "stdout",
     "output_type": "stream",
     "text": [
      "callback ok\n",
      "index_parallel=4\n",
      "sed -i 3_main.cpp -e 's/^constexpr int hash_table_size = .*;         \\/\\/ OPTIMIZE \\[6, 18\\]$/constexpr int hash_table_size = 7;         \\/\\/ OPTIMIZE [6, 18]/' -e 's/^constexpr double K_START = .*;  \\/\\/ OPTIMIZE \\[0\\.04, 0\\.2\\] LOG$/constexpr double K_START = 0.040570789119348916;  \\/\\/ OPTIMIZE [0.04, 0.2] LOG/' -e 's/^constexpr double K_END = .*;   \\/\\/ OPTIMIZE \\[0\\.03, 0\\.1\\] LOG$/constexpr double K_END = 0.06661092912763267;   \\/\\/ OPTIMIZE [0.03, 0.1] LOG/' -e 's/^constexpr double K_H = .*;      \\/\\/ OPTIMIZE \\[0\\.001, 0\\.999\\]$/constexpr double K_H = 0.32008663835857526;      \\/\\/ OPTIMIZE [0.001, 0.999]/' -e 's/^constexpr short PURCHASE_TURN_LIMIT = .*;  \\/\\/ OPTIMIZE \\[790, 870\\]$/constexpr short PURCHASE_TURN_LIMIT = 840;  \\/\\/ OPTIMIZE [790, 870]/' -e 's/^constexpr int ROUGH_HASH = .*;      \\/\\/ OPTIMIZE {0, 0b00000001, 0b00010001, 0b00010011, 0b00110011}$/constexpr int ROUGH_HASH = 0;      \\/\\/ OPTIMIZE {0, 0b00000001, 0b00010001, 0b00010011, 0b00110011}/' -e 's/^constexpr double TARGET_BEAM_WIDTH_INCREASE_RATE = .*;      \\/\\/ OPTIMIZE \\[0\\.25, 4\\.0\\] LOG$/constexpr double TARGET_BEAM_WIDTH_INCREASE_RATE = 1.6318757826642905;      \\/\\/ OPTIMIZE [0.25, 4.0] LOG/' -e 's/^constexpr double TARGET_BEAM_WIDTH_HALF_PROGRES_RATE = .*;  \\/\\/ OPTIMIZE \\[0\\.02, 0\\.98\\]$/constexpr double TARGET_BEAM_WIDTH_HALF_PROGRES_RATE = 0.5924515625062514;  \\/\\/ OPTIMIZE [0.02, 0.98]/' -e 's/^constexpr auto MAX_BEAM_WIDTH = .*;                        \\/\\/ OPTIMIZE \\[400, 4000\\] LOG$/constexpr auto MAX_BEAM_WIDTH = 709;                        \\/\\/ OPTIMIZE [400, 4000] LOG/'\n",
      "g++ 3_main.cpp -std=gnu++17 -O2 -o 3_main.cpp.out 2> /dev/null\n",
      "sed -i 4_main.cpp -e 's/^constexpr int hash_table_size = .*;         \\/\\/ OPTIMIZE \\[6, 18\\]$/constexpr int hash_table_size = 7;         \\/\\/ OPTIMIZE [6, 18]/' -e 's/^constexpr double K_START = .*;  \\/\\/ OPTIMIZE \\[0\\.04, 0\\.2\\] LOG$/constexpr double K_START = 0.06495209114409838;  \\/\\/ OPTIMIZE [0.04, 0.2] LOG/' -e 's/^constexpr double K_END = .*;   \\/\\/ OPTIMIZE \\[0\\.03, 0\\.1\\] LOG$/constexpr double K_END = 0.08138082963172541;   \\/\\/ OPTIMIZE [0.03, 0.1] LOG/' -e 's/^constexpr double K_H = .*;      \\/\\/ OPTIMIZE \\[0\\.001, 0\\.999\\]$/constexpr double K_H = 0.5090657651094096;      \\/\\/ OPTIMIZE [0.001, 0.999]/' -e 's/^constexpr short PURCHASE_TURN_LIMIT = .*;  \\/\\/ OPTIMIZE \\[790, 870\\]$/constexpr short PURCHASE_TURN_LIMIT = 838;  \\/\\/ OPTIMIZE [790, 870]/' -e 's/^constexpr int ROUGH_HASH = .*;      \\/\\/ OPTIMIZE {0, 0b00000001, 0b00010001, 0b00010011, 0b00110011}$/constexpr int ROUGH_HASH = 0;      \\/\\/ OPTIMIZE {0, 0b00000001, 0b00010001, 0b00010011, 0b00110011}/' -e 's/^constexpr double TARGET_BEAM_WIDTH_INCREASE_RATE = .*;      \\/\\/ OPTIMIZE \\[0\\.25, 4\\.0\\] LOG$/constexpr double TARGET_BEAM_WIDTH_INCREASE_RATE = 2.2622732112387176;      \\/\\/ OPTIMIZE [0.25, 4.0] LOG/' -e 's/^constexpr double TARGET_BEAM_WIDTH_HALF_PROGRES_RATE = .*;  \\/\\/ OPTIMIZE \\[0\\.02, 0\\.98\\]$/constexpr double TARGET_BEAM_WIDTH_HALF_PROGRES_RATE = 0.6618718464297167;  \\/\\/ OPTIMIZE [0.02, 0.98]/' -e 's/^constexpr auto MAX_BEAM_WIDTH = .*;                        \\/\\/ OPTIMIZE \\[400, 4000\\] LOG$/constexpr auto MAX_BEAM_WIDTH = 1222;                        \\/\\/ OPTIMIZE [400, 4000] LOG/'\n",
      "g++ 4_main.cpp -std=gnu++17 -O2 -o 4_main.cpp.out 2> /dev/null\n"
     ]
    },
    {
     "name": "stderr",
     "output_type": "stream",
     "text": [
      "\u001b[32m[I 2021-09-11 15:16:40,723]\u001b[0m Trial 108 finished with value: 2564807421.0 and parameters: {'hash_table_size': 8, 'K_START': 0.06438638572356795, 'K_END': 0.06811593016718895, 'K_H': 0.33889035099906406, 'PURCHASE_TURN_LIMIT': 840, 'ROUGH_HASH': '0', 'TARGET_BEAM_WIDTH_INCREASE_RATE': 2.1829509035093055, 'TARGET_BEAM_WIDTH_HALF_PROGRES_RATE': 0.8540956981402169, 'MAX_BEAM_WIDTH': 892}. Best is trial 91 with value: 2566603152.0.\u001b[0m\n"
     ]
    },
    {
     "name": "stdout",
     "output_type": "stream",
     "text": [
      "callback ok\n",
      "index_parallel=5\n",
      "sed -i 5_main.cpp -e 's/^constexpr int hash_table_size = .*;         \\/\\/ OPTIMIZE \\[6, 18\\]$/constexpr int hash_table_size = 6;         \\/\\/ OPTIMIZE [6, 18]/' -e 's/^constexpr double K_START = .*;  \\/\\/ OPTIMIZE \\[0\\.04, 0\\.2\\] LOG$/constexpr double K_START = 0.06428742830106941;  \\/\\/ OPTIMIZE [0.04, 0.2] LOG/' -e 's/^constexpr double K_END = .*;   \\/\\/ OPTIMIZE \\[0\\.03, 0\\.1\\] LOG$/constexpr double K_END = 0.06970780652586281;   \\/\\/ OPTIMIZE [0.03, 0.1] LOG/' -e 's/^constexpr double K_H = .*;      \\/\\/ OPTIMIZE \\[0\\.001, 0\\.999\\]$/constexpr double K_H = 0.3161988167554146;      \\/\\/ OPTIMIZE [0.001, 0.999]/' -e 's/^constexpr short PURCHASE_TURN_LIMIT = .*;  \\/\\/ OPTIMIZE \\[790, 870\\]$/constexpr short PURCHASE_TURN_LIMIT = 841;  \\/\\/ OPTIMIZE [790, 870]/' -e 's/^constexpr int ROUGH_HASH = .*;      \\/\\/ OPTIMIZE {0, 0b00000001, 0b00010001, 0b00010011, 0b00110011}$/constexpr int ROUGH_HASH = 0;      \\/\\/ OPTIMIZE {0, 0b00000001, 0b00010001, 0b00010011, 0b00110011}/' -e 's/^constexpr double TARGET_BEAM_WIDTH_INCREASE_RATE = .*;      \\/\\/ OPTIMIZE \\[0\\.25, 4\\.0\\] LOG$/constexpr double TARGET_BEAM_WIDTH_INCREASE_RATE = 1.9521932397083621;      \\/\\/ OPTIMIZE [0.25, 4.0] LOG/' -e 's/^constexpr double TARGET_BEAM_WIDTH_HALF_PROGRES_RATE = .*;  \\/\\/ OPTIMIZE \\[0\\.02, 0\\.98\\]$/constexpr double TARGET_BEAM_WIDTH_HALF_PROGRES_RATE = 0.5944586900089556;  \\/\\/ OPTIMIZE [0.02, 0.98]/' -e 's/^constexpr auto MAX_BEAM_WIDTH = .*;                        \\/\\/ OPTIMIZE \\[400, 4000\\] LOG$/constexpr auto MAX_BEAM_WIDTH = 1183;                        \\/\\/ OPTIMIZE [400, 4000] LOG/'\n",
      "g++ 5_main.cpp -std=gnu++17 -O2 -o 5_main.cpp.out 2> /dev/null\n"
     ]
    },
    {
     "name": "stderr",
     "output_type": "stream",
     "text": [
      "\u001b[32m[I 2021-09-11 15:16:58,316]\u001b[0m Trial 109 finished with value: 2564579537.0 and parameters: {'hash_table_size': 8, 'K_START': 0.06398850056263432, 'K_END': 0.06892729795556979, 'K_H': 0.35718842820837093, 'PURCHASE_TURN_LIMIT': 838, 'ROUGH_HASH': '0', 'TARGET_BEAM_WIDTH_INCREASE_RATE': 1.6629867065351065, 'TARGET_BEAM_WIDTH_HALF_PROGRES_RATE': 0.7054172052371855, 'MAX_BEAM_WIDTH': 903}. Best is trial 91 with value: 2566603152.0.\u001b[0m\n"
     ]
    },
    {
     "name": "stdout",
     "output_type": "stream",
     "text": [
      "callback ok\n",
      "index_parallel=6\n",
      "sed -i 6_main.cpp -e 's/^constexpr int hash_table_size = .*;         \\/\\/ OPTIMIZE \\[6, 18\\]$/constexpr int hash_table_size = 6;         \\/\\/ OPTIMIZE [6, 18]/' -e 's/^constexpr double K_START = .*;  \\/\\/ OPTIMIZE \\[0\\.04, 0\\.2\\] LOG$/constexpr double K_START = 0.040173940686381734;  \\/\\/ OPTIMIZE [0.04, 0.2] LOG/' -e 's/^constexpr double K_END = .*;   \\/\\/ OPTIMIZE \\[0\\.03, 0\\.1\\] LOG$/constexpr double K_END = 0.07119322696572249;   \\/\\/ OPTIMIZE [0.03, 0.1] LOG/' -e 's/^constexpr double K_H = .*;      \\/\\/ OPTIMIZE \\[0\\.001, 0\\.999\\]$/constexpr double K_H = 0.30873415023192013;      \\/\\/ OPTIMIZE [0.001, 0.999]/' -e 's/^constexpr short PURCHASE_TURN_LIMIT = .*;  \\/\\/ OPTIMIZE \\[790, 870\\]$/constexpr short PURCHASE_TURN_LIMIT = 841;  \\/\\/ OPTIMIZE [790, 870]/' -e 's/^constexpr int ROUGH_HASH = .*;      \\/\\/ OPTIMIZE {0, 0b00000001, 0b00010001, 0b00010011, 0b00110011}$/constexpr int ROUGH_HASH = 0b00110011;      \\/\\/ OPTIMIZE {0, 0b00000001, 0b00010001, 0b00010011, 0b00110011}/' -e 's/^constexpr double TARGET_BEAM_WIDTH_INCREASE_RATE = .*;      \\/\\/ OPTIMIZE \\[0\\.25, 4\\.0\\] LOG$/constexpr double TARGET_BEAM_WIDTH_INCREASE_RATE = 1.9645217311796497;      \\/\\/ OPTIMIZE [0.25, 4.0] LOG/' -e 's/^constexpr double TARGET_BEAM_WIDTH_HALF_PROGRES_RATE = .*;  \\/\\/ OPTIMIZE \\[0\\.02, 0\\.98\\]$/constexpr double TARGET_BEAM_WIDTH_HALF_PROGRES_RATE = 0.704370362823023;  \\/\\/ OPTIMIZE [0.02, 0.98]/' -e 's/^constexpr auto MAX_BEAM_WIDTH = .*;                        \\/\\/ OPTIMIZE \\[400, 4000\\] LOG$/constexpr auto MAX_BEAM_WIDTH = 1216;                        \\/\\/ OPTIMIZE [400, 4000] LOG/'\n",
      "g++ 6_main.cpp -std=gnu++17 -O2 -o 6_main.cpp.out 2> /dev/null\n"
     ]
    },
    {
     "name": "stderr",
     "output_type": "stream",
     "text": [
      "\u001b[32m[I 2021-09-11 15:17:17,994]\u001b[0m Trial 110 finished with value: 2563929868.0 and parameters: {'hash_table_size': 8, 'K_START': 0.06368175617853879, 'K_END': 0.06661359184928599, 'K_H': 0.3296163731996627, 'PURCHASE_TURN_LIMIT': 839, 'ROUGH_HASH': '0', 'TARGET_BEAM_WIDTH_INCREASE_RATE': 2.2169769723215884, 'TARGET_BEAM_WIDTH_HALF_PROGRES_RATE': 0.7124896709470375, 'MAX_BEAM_WIDTH': 1187}. Best is trial 91 with value: 2566603152.0.\u001b[0m\n"
     ]
    },
    {
     "name": "stdout",
     "output_type": "stream",
     "text": [
      "callback ok\n",
      "index_parallel=7\n",
      "sed -i 7_main.cpp -e 's/^constexpr int hash_table_size = .*;         \\/\\/ OPTIMIZE \\[6, 18\\]$/constexpr int hash_table_size = 7;         \\/\\/ OPTIMIZE [6, 18]/' -e 's/^constexpr double K_START = .*;  \\/\\/ OPTIMIZE \\[0\\.04, 0\\.2\\] LOG$/constexpr double K_START = 0.06506055511193932;  \\/\\/ OPTIMIZE [0.04, 0.2] LOG/' -e 's/^constexpr double K_END = .*;   \\/\\/ OPTIMIZE \\[0\\.03, 0\\.1\\] LOG$/constexpr double K_END = 0.0703318862814607;   \\/\\/ OPTIMIZE [0.03, 0.1] LOG/' -e 's/^constexpr double K_H = .*;      \\/\\/ OPTIMIZE \\[0\\.001, 0\\.999\\]$/constexpr double K_H = 0.3340424274181177;      \\/\\/ OPTIMIZE [0.001, 0.999]/' -e 's/^constexpr short PURCHASE_TURN_LIMIT = .*;  \\/\\/ OPTIMIZE \\[790, 870\\]$/constexpr short PURCHASE_TURN_LIMIT = 841;  \\/\\/ OPTIMIZE [790, 870]/' -e 's/^constexpr int ROUGH_HASH = .*;      \\/\\/ OPTIMIZE {0, 0b00000001, 0b00010001, 0b00010011, 0b00110011}$/constexpr int ROUGH_HASH = 0;      \\/\\/ OPTIMIZE {0, 0b00000001, 0b00010001, 0b00010011, 0b00110011}/' -e 's/^constexpr double TARGET_BEAM_WIDTH_INCREASE_RATE = .*;      \\/\\/ OPTIMIZE \\[0\\.25, 4\\.0\\] LOG$/constexpr double TARGET_BEAM_WIDTH_INCREASE_RATE = 1.676877959488145;      \\/\\/ OPTIMIZE [0.25, 4.0] LOG/' -e 's/^constexpr double TARGET_BEAM_WIDTH_HALF_PROGRES_RATE = .*;  \\/\\/ OPTIMIZE \\[0\\.02, 0\\.98\\]$/constexpr double TARGET_BEAM_WIDTH_HALF_PROGRES_RATE = 0.7122764514566023;  \\/\\/ OPTIMIZE [0.02, 0.98]/' -e 's/^constexpr auto MAX_BEAM_WIDTH = .*;                        \\/\\/ OPTIMIZE \\[400, 4000\\] LOG$/constexpr auto MAX_BEAM_WIDTH = 924;                        \\/\\/ OPTIMIZE [400, 4000] LOG/'\n",
      "g++ 7_main.cpp -std=gnu++17 -O2 -o 7_main.cpp.out 2> /dev/null\n"
     ]
    },
    {
     "name": "stderr",
     "output_type": "stream",
     "text": [
      "\u001b[32m[I 2021-09-11 15:17:25,929]\u001b[0m Trial 111 finished with value: 2507348765.0 and parameters: {'hash_table_size': 7, 'K_START': 0.040570789119348916, 'K_END': 0.06661092912763267, 'K_H': 0.32008663835857526, 'PURCHASE_TURN_LIMIT': 840, 'ROUGH_HASH': '0', 'TARGET_BEAM_WIDTH_INCREASE_RATE': 1.6318757826642905, 'TARGET_BEAM_WIDTH_HALF_PROGRES_RATE': 0.5924515625062514, 'MAX_BEAM_WIDTH': 709}. Best is trial 91 with value: 2566603152.0.\u001b[0m\n"
     ]
    },
    {
     "name": "stdout",
     "output_type": "stream",
     "text": [
      "callback ok\n",
      "index_parallel=8\n",
      "sed -i 8_main.cpp -e 's/^constexpr int hash_table_size = .*;         \\/\\/ OPTIMIZE \\[6, 18\\]$/constexpr int hash_table_size = 8;         \\/\\/ OPTIMIZE [6, 18]/' -e 's/^constexpr double K_START = .*;  \\/\\/ OPTIMIZE \\[0\\.04, 0\\.2\\] LOG$/constexpr double K_START = 0.06475658086945393;  \\/\\/ OPTIMIZE [0.04, 0.2] LOG/' -e 's/^constexpr double K_END = .*;   \\/\\/ OPTIMIZE \\[0\\.03, 0\\.1\\] LOG$/constexpr double K_END = 0.0701682242272552;   \\/\\/ OPTIMIZE [0.03, 0.1] LOG/' -e 's/^constexpr double K_H = .*;      \\/\\/ OPTIMIZE \\[0\\.001, 0\\.999\\]$/constexpr double K_H = 0.3387274432139117;      \\/\\/ OPTIMIZE [0.001, 0.999]/' -e 's/^constexpr short PURCHASE_TURN_LIMIT = .*;  \\/\\/ OPTIMIZE \\[790, 870\\]$/constexpr short PURCHASE_TURN_LIMIT = 835;  \\/\\/ OPTIMIZE [790, 870]/' -e 's/^constexpr int ROUGH_HASH = .*;      \\/\\/ OPTIMIZE {0, 0b00000001, 0b00010001, 0b00010011, 0b00110011}$/constexpr int ROUGH_HASH = 0;      \\/\\/ OPTIMIZE {0, 0b00000001, 0b00010001, 0b00010011, 0b00110011}/' -e 's/^constexpr double TARGET_BEAM_WIDTH_INCREASE_RATE = .*;      \\/\\/ OPTIMIZE \\[0\\.25, 4\\.0\\] LOG$/constexpr double TARGET_BEAM_WIDTH_INCREASE_RATE = 1.5295910326027868;      \\/\\/ OPTIMIZE [0.25, 4.0] LOG/' -e 's/^constexpr double TARGET_BEAM_WIDTH_HALF_PROGRES_RATE = .*;  \\/\\/ OPTIMIZE \\[0\\.02, 0\\.98\\]$/constexpr double TARGET_BEAM_WIDTH_HALF_PROGRES_RATE = 0.7100792964279982;  \\/\\/ OPTIMIZE [0.02, 0.98]/' -e 's/^constexpr auto MAX_BEAM_WIDTH = .*;                        \\/\\/ OPTIMIZE \\[400, 4000\\] LOG$/constexpr auto MAX_BEAM_WIDTH = 1220;                        \\/\\/ OPTIMIZE [400, 4000] LOG/'\n",
      "g++ 8_main.cpp -std=gnu++17 -O2 -o 8_main.cpp.out 2> /dev/null\n"
     ]
    },
    {
     "name": "stderr",
     "output_type": "stream",
     "text": [
      "\u001b[32m[I 2021-09-11 15:17:30,885]\u001b[0m Trial 112 finished with value: 2500062467.0 and parameters: {'hash_table_size': 7, 'K_START': 0.06495209114409838, 'K_END': 0.08138082963172541, 'K_H': 0.5090657651094096, 'PURCHASE_TURN_LIMIT': 838, 'ROUGH_HASH': '0', 'TARGET_BEAM_WIDTH_INCREASE_RATE': 2.2622732112387176, 'TARGET_BEAM_WIDTH_HALF_PROGRES_RATE': 0.6618718464297167, 'MAX_BEAM_WIDTH': 1222}. Best is trial 91 with value: 2566603152.0.\u001b[0m\n"
     ]
    },
    {
     "name": "stdout",
     "output_type": "stream",
     "text": [
      "callback ok\n",
      "index_parallel=9\n",
      "sed -i 9_main.cpp -e 's/^constexpr int hash_table_size = .*;         \\/\\/ OPTIMIZE \\[6, 18\\]$/constexpr int hash_table_size = 8;         \\/\\/ OPTIMIZE [6, 18]/' -e 's/^constexpr double K_START = .*;  \\/\\/ OPTIMIZE \\[0\\.04, 0\\.2\\] LOG$/constexpr double K_START = 0.07282807780591789;  \\/\\/ OPTIMIZE [0.04, 0.2] LOG/' -e 's/^constexpr double K_END = .*;   \\/\\/ OPTIMIZE \\[0\\.03, 0\\.1\\] LOG$/constexpr double K_END = 0.07027932112379956;   \\/\\/ OPTIMIZE [0.03, 0.1] LOG/' -e 's/^constexpr double K_H = .*;      \\/\\/ OPTIMIZE \\[0\\.001, 0\\.999\\]$/constexpr double K_H = 0.3380306068608081;      \\/\\/ OPTIMIZE [0.001, 0.999]/' -e 's/^constexpr short PURCHASE_TURN_LIMIT = .*;  \\/\\/ OPTIMIZE \\[790, 870\\]$/constexpr short PURCHASE_TURN_LIMIT = 843;  \\/\\/ OPTIMIZE [790, 870]/' -e 's/^constexpr int ROUGH_HASH = .*;      \\/\\/ OPTIMIZE {0, 0b00000001, 0b00010001, 0b00010011, 0b00110011}$/constexpr int ROUGH_HASH = 0b00110011;      \\/\\/ OPTIMIZE {0, 0b00000001, 0b00010001, 0b00010011, 0b00110011}/' -e 's/^constexpr double TARGET_BEAM_WIDTH_INCREASE_RATE = .*;      \\/\\/ OPTIMIZE \\[0\\.25, 4\\.0\\] LOG$/constexpr double TARGET_BEAM_WIDTH_INCREASE_RATE = 1.858029449681917;      \\/\\/ OPTIMIZE [0.25, 4.0] LOG/' -e 's/^constexpr double TARGET_BEAM_WIDTH_HALF_PROGRES_RATE = .*;  \\/\\/ OPTIMIZE \\[0\\.02, 0\\.98\\]$/constexpr double TARGET_BEAM_WIDTH_HALF_PROGRES_RATE = 0.7094360178959627;  \\/\\/ OPTIMIZE [0.02, 0.98]/' -e 's/^constexpr auto MAX_BEAM_WIDTH = .*;                        \\/\\/ OPTIMIZE \\[400, 4000\\] LOG$/constexpr auto MAX_BEAM_WIDTH = 910;                        \\/\\/ OPTIMIZE [400, 4000] LOG/'\n",
      "g++ 9_main.cpp -std=gnu++17 -O2 -o 9_main.cpp.out 2> /dev/null\n"
     ]
    },
    {
     "name": "stderr",
     "output_type": "stream",
     "text": [
      "\u001b[32m[I 2021-09-11 15:18:14,888]\u001b[0m Trial 113 finished with value: 2442155075.0 and parameters: {'hash_table_size': 6, 'K_START': 0.06428742830106941, 'K_END': 0.06970780652586281, 'K_H': 0.3161988167554146, 'PURCHASE_TURN_LIMIT': 841, 'ROUGH_HASH': '0', 'TARGET_BEAM_WIDTH_INCREASE_RATE': 1.9521932397083621, 'TARGET_BEAM_WIDTH_HALF_PROGRES_RATE': 0.5944586900089556, 'MAX_BEAM_WIDTH': 1183}. Best is trial 91 with value: 2566603152.0.\u001b[0m\n"
     ]
    },
    {
     "name": "stdout",
     "output_type": "stream",
     "text": [
      "callback ok\n",
      "index_parallel=10\n",
      "sed -i 10_main.cpp -e 's/^constexpr int hash_table_size = .*;         \\/\\/ OPTIMIZE \\[6, 18\\]$/constexpr int hash_table_size = 8;         \\/\\/ OPTIMIZE [6, 18]/' -e 's/^constexpr double K_START = .*;  \\/\\/ OPTIMIZE \\[0\\.04, 0\\.2\\] LOG$/constexpr double K_START = 0.07511316981657554;  \\/\\/ OPTIMIZE [0.04, 0.2] LOG/' -e 's/^constexpr double K_END = .*;   \\/\\/ OPTIMIZE \\[0\\.03, 0\\.1\\] LOG$/constexpr double K_END = 0.07335733613440465;   \\/\\/ OPTIMIZE [0.03, 0.1] LOG/' -e 's/^constexpr double K_H = .*;      \\/\\/ OPTIMIZE \\[0\\.001, 0\\.999\\]$/constexpr double K_H = 0.37157271828624355;      \\/\\/ OPTIMIZE [0.001, 0.999]/' -e 's/^constexpr short PURCHASE_TURN_LIMIT = .*;  \\/\\/ OPTIMIZE \\[790, 870\\]$/constexpr short PURCHASE_TURN_LIMIT = 835;  \\/\\/ OPTIMIZE [790, 870]/' -e 's/^constexpr int ROUGH_HASH = .*;      \\/\\/ OPTIMIZE {0, 0b00000001, 0b00010001, 0b00010011, 0b00110011}$/constexpr int ROUGH_HASH = 0b00110011;      \\/\\/ OPTIMIZE {0, 0b00000001, 0b00010001, 0b00010011, 0b00110011}/' -e 's/^constexpr double TARGET_BEAM_WIDTH_INCREASE_RATE = .*;      \\/\\/ OPTIMIZE \\[0\\.25, 4\\.0\\] LOG$/constexpr double TARGET_BEAM_WIDTH_INCREASE_RATE = 1.5081558560591162;      \\/\\/ OPTIMIZE [0.25, 4.0] LOG/' -e 's/^constexpr double TARGET_BEAM_WIDTH_HALF_PROGRES_RATE = .*;  \\/\\/ OPTIMIZE \\[0\\.02, 0\\.98\\]$/constexpr double TARGET_BEAM_WIDTH_HALF_PROGRES_RATE = 0.7064785022569118;  \\/\\/ OPTIMIZE [0.02, 0.98]/' -e 's/^constexpr auto MAX_BEAM_WIDTH = .*;                        \\/\\/ OPTIMIZE \\[400, 4000\\] LOG$/constexpr auto MAX_BEAM_WIDTH = 1026;                        \\/\\/ OPTIMIZE [400, 4000] LOG/'\n",
      "g++ 10_main.cpp -std=gnu++17 -O2 -o 10_main.cpp.out 2> /dev/null\n"
     ]
    },
    {
     "name": "stderr",
     "output_type": "stream",
     "text": [
      "\u001b[32m[I 2021-09-11 15:18:32,288]\u001b[0m Trial 114 finished with value: 2400295262.0 and parameters: {'hash_table_size': 6, 'K_START': 0.040173940686381734, 'K_END': 0.07119322696572249, 'K_H': 0.30873415023192013, 'PURCHASE_TURN_LIMIT': 841, 'ROUGH_HASH': '0b00110011', 'TARGET_BEAM_WIDTH_INCREASE_RATE': 1.9645217311796497, 'TARGET_BEAM_WIDTH_HALF_PROGRES_RATE': 0.704370362823023, 'MAX_BEAM_WIDTH': 1216}. Best is trial 91 with value: 2566603152.0.\u001b[0m\n"
     ]
    },
    {
     "name": "stdout",
     "output_type": "stream",
     "text": [
      "callback ok\n",
      "index_parallel=11\n",
      "sed -i 11_main.cpp -e 's/^constexpr int hash_table_size = .*;         \\/\\/ OPTIMIZE \\[6, 18\\]$/constexpr int hash_table_size = 8;         \\/\\/ OPTIMIZE [6, 18]/' -e 's/^constexpr double K_START = .*;  \\/\\/ OPTIMIZE \\[0\\.04, 0\\.2\\] LOG$/constexpr double K_START = 0.07341150581485986;  \\/\\/ OPTIMIZE [0.04, 0.2] LOG/' -e 's/^constexpr double K_END = .*;   \\/\\/ OPTIMIZE \\[0\\.03, 0\\.1\\] LOG$/constexpr double K_END = 0.07222850663439573;   \\/\\/ OPTIMIZE [0.03, 0.1] LOG/' -e 's/^constexpr double K_H = .*;      \\/\\/ OPTIMIZE \\[0\\.001, 0\\.999\\]$/constexpr double K_H = 0.35689030222174806;      \\/\\/ OPTIMIZE [0.001, 0.999]/' -e 's/^constexpr short PURCHASE_TURN_LIMIT = .*;  \\/\\/ OPTIMIZE \\[790, 870\\]$/constexpr short PURCHASE_TURN_LIMIT = 835;  \\/\\/ OPTIMIZE [790, 870]/' -e 's/^constexpr int ROUGH_HASH = .*;      \\/\\/ OPTIMIZE {0, 0b00000001, 0b00010001, 0b00010011, 0b00110011}$/constexpr int ROUGH_HASH = 0;      \\/\\/ OPTIMIZE {0, 0b00000001, 0b00010001, 0b00010011, 0b00110011}/' -e 's/^constexpr double TARGET_BEAM_WIDTH_INCREASE_RATE = .*;      \\/\\/ OPTIMIZE \\[0\\.25, 4\\.0\\] LOG$/constexpr double TARGET_BEAM_WIDTH_INCREASE_RATE = 1.6543431724969695;      \\/\\/ OPTIMIZE [0.25, 4.0] LOG/' -e 's/^constexpr double TARGET_BEAM_WIDTH_HALF_PROGRES_RATE = .*;  \\/\\/ OPTIMIZE \\[0\\.02, 0\\.98\\]$/constexpr double TARGET_BEAM_WIDTH_HALF_PROGRES_RATE = 0.7126717851201558;  \\/\\/ OPTIMIZE [0.02, 0.98]/' -e 's/^constexpr auto MAX_BEAM_WIDTH = .*;                        \\/\\/ OPTIMIZE \\[400, 4000\\] LOG$/constexpr auto MAX_BEAM_WIDTH = 1523;                        \\/\\/ OPTIMIZE [400, 4000] LOG/'\n",
      "g++ 11_main.cpp -std=gnu++17 -O2 -o 11_main.cpp.out 2> /dev/null\n"
     ]
    },
    {
     "name": "stderr",
     "output_type": "stream",
     "text": [
      "\u001b[32m[I 2021-09-11 15:19:45,827]\u001b[0m Trial 115 finished with value: 2507920384.0 and parameters: {'hash_table_size': 7, 'K_START': 0.06506055511193932, 'K_END': 0.0703318862814607, 'K_H': 0.3340424274181177, 'PURCHASE_TURN_LIMIT': 841, 'ROUGH_HASH': '0', 'TARGET_BEAM_WIDTH_INCREASE_RATE': 1.676877959488145, 'TARGET_BEAM_WIDTH_HALF_PROGRES_RATE': 0.7122764514566023, 'MAX_BEAM_WIDTH': 924}. Best is trial 91 with value: 2566603152.0.\u001b[0m\n"
     ]
    },
    {
     "name": "stdout",
     "output_type": "stream",
     "text": [
      "callback ok\n",
      "index_parallel=0\n",
      "sed -i 0_main.cpp -e 's/^constexpr int hash_table_size = .*;         \\/\\/ OPTIMIZE \\[6, 18\\]$/constexpr int hash_table_size = 8;         \\/\\/ OPTIMIZE [6, 18]/' -e 's/^constexpr double K_START = .*;  \\/\\/ OPTIMIZE \\[0\\.04, 0\\.2\\] LOG$/constexpr double K_START = 0.07258475216991896;  \\/\\/ OPTIMIZE [0.04, 0.2] LOG/' -e 's/^constexpr double K_END = .*;   \\/\\/ OPTIMIZE \\[0\\.03, 0\\.1\\] LOG$/constexpr double K_END = 0.07717484594798962;   \\/\\/ OPTIMIZE [0.03, 0.1] LOG/' -e 's/^constexpr double K_H = .*;      \\/\\/ OPTIMIZE \\[0\\.001, 0\\.999\\]$/constexpr double K_H = 0.3726002419650062;      \\/\\/ OPTIMIZE [0.001, 0.999]/' -e 's/^constexpr short PURCHASE_TURN_LIMIT = .*;  \\/\\/ OPTIMIZE \\[790, 870\\]$/constexpr short PURCHASE_TURN_LIMIT = 846;  \\/\\/ OPTIMIZE [790, 870]/' -e 's/^constexpr int ROUGH_HASH = .*;      \\/\\/ OPTIMIZE {0, 0b00000001, 0b00010001, 0b00010011, 0b00110011}$/constexpr int ROUGH_HASH = 0;      \\/\\/ OPTIMIZE {0, 0b00000001, 0b00010001, 0b00010011, 0b00110011}/' -e 's/^constexpr double TARGET_BEAM_WIDTH_INCREASE_RATE = .*;      \\/\\/ OPTIMIZE \\[0\\.25, 4\\.0\\] LOG$/constexpr double TARGET_BEAM_WIDTH_INCREASE_RATE = 1.5223071255853091;      \\/\\/ OPTIMIZE [0.25, 4.0] LOG/' -e 's/^constexpr double TARGET_BEAM_WIDTH_HALF_PROGRES_RATE = .*;  \\/\\/ OPTIMIZE \\[0\\.02, 0\\.98\\]$/constexpr double TARGET_BEAM_WIDTH_HALF_PROGRES_RATE = 0.6860497689798227;  \\/\\/ OPTIMIZE [0.02, 0.98]/' -e 's/^constexpr auto MAX_BEAM_WIDTH = .*;                        \\/\\/ OPTIMIZE \\[400, 4000\\] LOG$/constexpr auto MAX_BEAM_WIDTH = 1028;                        \\/\\/ OPTIMIZE [400, 4000] LOG/'\n",
      "g++ 0_main.cpp -std=gnu++17 -O2 -o 0_main.cpp.out 2> /dev/null\n"
     ]
    },
    {
     "name": "stderr",
     "output_type": "stream",
     "text": [
      "\u001b[32m[I 2021-09-11 15:21:41,860]\u001b[0m Trial 117 finished with value: 2519913911.0 and parameters: {'hash_table_size': 8, 'K_START': 0.07282807780591789, 'K_END': 0.07027932112379956, 'K_H': 0.3380306068608081, 'PURCHASE_TURN_LIMIT': 843, 'ROUGH_HASH': '0b00110011', 'TARGET_BEAM_WIDTH_INCREASE_RATE': 1.858029449681917, 'TARGET_BEAM_WIDTH_HALF_PROGRES_RATE': 0.7094360178959627, 'MAX_BEAM_WIDTH': 910}. Best is trial 91 with value: 2566603152.0.\u001b[0m\n"
     ]
    },
    {
     "name": "stdout",
     "output_type": "stream",
     "text": [
      "callback ok\n",
      "index_parallel=1\n",
      "sed -i 1_main.cpp -e 's/^constexpr int hash_table_size = .*;         \\/\\/ OPTIMIZE \\[6, 18\\]$/constexpr int hash_table_size = 8;         \\/\\/ OPTIMIZE [6, 18]/' -e 's/^constexpr double K_START = .*;  \\/\\/ OPTIMIZE \\[0\\.04, 0\\.2\\] LOG$/constexpr double K_START = 0.05502734021743616;  \\/\\/ OPTIMIZE [0.04, 0.2] LOG/' -e 's/^constexpr double K_END = .*;   \\/\\/ OPTIMIZE \\[0\\.03, 0\\.1\\] LOG$/constexpr double K_END = 0.0642073338306747;   \\/\\/ OPTIMIZE [0.03, 0.1] LOG/' -e 's/^constexpr double K_H = .*;      \\/\\/ OPTIMIZE \\[0\\.001, 0\\.999\\]$/constexpr double K_H = 0.3769583331785406;      \\/\\/ OPTIMIZE [0.001, 0.999]/' -e 's/^constexpr short PURCHASE_TURN_LIMIT = .*;  \\/\\/ OPTIMIZE \\[790, 870\\]$/constexpr short PURCHASE_TURN_LIMIT = 835;  \\/\\/ OPTIMIZE [790, 870]/' -e 's/^constexpr int ROUGH_HASH = .*;      \\/\\/ OPTIMIZE {0, 0b00000001, 0b00010001, 0b00010011, 0b00110011}$/constexpr int ROUGH_HASH = 0;      \\/\\/ OPTIMIZE {0, 0b00000001, 0b00010001, 0b00010011, 0b00110011}/' -e 's/^constexpr double TARGET_BEAM_WIDTH_INCREASE_RATE = .*;      \\/\\/ OPTIMIZE \\[0\\.25, 4\\.0\\] LOG$/constexpr double TARGET_BEAM_WIDTH_INCREASE_RATE = 1.5524137995258818;      \\/\\/ OPTIMIZE [0.25, 4.0] LOG/' -e 's/^constexpr double TARGET_BEAM_WIDTH_HALF_PROGRES_RATE = .*;  \\/\\/ OPTIMIZE \\[0\\.02, 0\\.98\\]$/constexpr double TARGET_BEAM_WIDTH_HALF_PROGRES_RATE = 0.8562485455363114;  \\/\\/ OPTIMIZE [0.02, 0.98]/' -e 's/^constexpr auto MAX_BEAM_WIDTH = .*;                        \\/\\/ OPTIMIZE \\[400, 4000\\] LOG$/constexpr auto MAX_BEAM_WIDTH = 800;                        \\/\\/ OPTIMIZE [400, 4000] LOG/'\n"
     ]
    },
    {
     "name": "stderr",
     "output_type": "stream",
     "text": [
      "\u001b[32m[I 2021-09-11 15:21:43,437]\u001b[0m Trial 116 finished with value: 2571045475.0 and parameters: {'hash_table_size': 8, 'K_START': 0.06475658086945393, 'K_END': 0.0701682242272552, 'K_H': 0.3387274432139117, 'PURCHASE_TURN_LIMIT': 835, 'ROUGH_HASH': '0', 'TARGET_BEAM_WIDTH_INCREASE_RATE': 1.5295910326027868, 'TARGET_BEAM_WIDTH_HALF_PROGRES_RATE': 0.7100792964279982, 'MAX_BEAM_WIDTH': 1220}. Best is trial 116 with value: 2571045475.0.\u001b[0m\n"
     ]
    },
    {
     "name": "stdout",
     "output_type": "stream",
     "text": [
      "Updated! 2571045475.0\n",
      "g++ 1_main.cpp -std=gnu++17 -O2 -o 1_main.cpp.out 2> /dev/null\n",
      "callback ok\n",
      "index_parallel=2\n",
      "sed -i 2_main.cpp -e 's/^constexpr int hash_table_size = .*;         \\/\\/ OPTIMIZE \\[6, 18\\]$/constexpr int hash_table_size = 17;         \\/\\/ OPTIMIZE [6, 18]/' -e 's/^constexpr double K_START = .*;  \\/\\/ OPTIMIZE \\[0\\.04, 0\\.2\\] LOG$/constexpr double K_START = 0.062140082320940156;  \\/\\/ OPTIMIZE [0.04, 0.2] LOG/' -e 's/^constexpr double K_END = .*;   \\/\\/ OPTIMIZE \\[0\\.03, 0\\.1\\] LOG$/constexpr double K_END = 0.07335175703137141;   \\/\\/ OPTIMIZE [0.03, 0.1] LOG/' -e 's/^constexpr double K_H = .*;      \\/\\/ OPTIMIZE \\[0\\.001, 0\\.999\\]$/constexpr double K_H = 0.3902348784941016;      \\/\\/ OPTIMIZE [0.001, 0.999]/' -e 's/^constexpr short PURCHASE_TURN_LIMIT = .*;  \\/\\/ OPTIMIZE \\[790, 870\\]$/constexpr short PURCHASE_TURN_LIMIT = 835;  \\/\\/ OPTIMIZE [790, 870]/' -e 's/^constexpr int ROUGH_HASH = .*;      \\/\\/ OPTIMIZE {0, 0b00000001, 0b00010001, 0b00010011, 0b00110011}$/constexpr int ROUGH_HASH = 0;      \\/\\/ OPTIMIZE {0, 0b00000001, 0b00010001, 0b00010011, 0b00110011}/' -e 's/^constexpr double TARGET_BEAM_WIDTH_INCREASE_RATE = .*;      \\/\\/ OPTIMIZE \\[0\\.25, 4\\.0\\] LOG$/constexpr double TARGET_BEAM_WIDTH_INCREASE_RATE = 1.4573643120537754;      \\/\\/ OPTIMIZE [0.25, 4.0] LOG/' -e 's/^constexpr double TARGET_BEAM_WIDTH_HALF_PROGRES_RATE = .*;  \\/\\/ OPTIMIZE \\[0\\.02, 0\\.98\\]$/constexpr double TARGET_BEAM_WIDTH_HALF_PROGRES_RATE = 0.8496958016324995;  \\/\\/ OPTIMIZE [0.02, 0.98]/' -e 's/^constexpr auto MAX_BEAM_WIDTH = .*;                        \\/\\/ OPTIMIZE \\[400, 4000\\] LOG$/constexpr auto MAX_BEAM_WIDTH = 1612;                        \\/\\/ OPTIMIZE [400, 4000] LOG/'\n",
      "g++ 2_main.cpp -std=gnu++17 -O2 -o 2_main.cpp.out 2> /dev/null\n"
     ]
    },
    {
     "name": "stderr",
     "output_type": "stream",
     "text": [
      "\u001b[32m[I 2021-09-11 15:22:20,999]\u001b[0m Trial 118 finished with value: 2517493391.0 and parameters: {'hash_table_size': 8, 'K_START': 0.07511316981657554, 'K_END': 0.07335733613440465, 'K_H': 0.37157271828624355, 'PURCHASE_TURN_LIMIT': 835, 'ROUGH_HASH': '0b00110011', 'TARGET_BEAM_WIDTH_INCREASE_RATE': 1.5081558560591162, 'TARGET_BEAM_WIDTH_HALF_PROGRES_RATE': 0.7064785022569118, 'MAX_BEAM_WIDTH': 1026}. Best is trial 116 with value: 2571045475.0.\u001b[0m\n"
     ]
    },
    {
     "name": "stdout",
     "output_type": "stream",
     "text": [
      "callback ok\n",
      "index_parallel=3\n",
      "sed -i 3_main.cpp -e 's/^constexpr int hash_table_size = .*;         \\/\\/ OPTIMIZE \\[6, 18\\]$/constexpr int hash_table_size = 17;         \\/\\/ OPTIMIZE [6, 18]/' -e 's/^constexpr double K_START = .*;  \\/\\/ OPTIMIZE \\[0\\.04, 0\\.2\\] LOG$/constexpr double K_START = 0.06185294016679692;  \\/\\/ OPTIMIZE [0.04, 0.2] LOG/' -e 's/^constexpr double K_END = .*;   \\/\\/ OPTIMIZE \\[0\\.03, 0\\.1\\] LOG$/constexpr double K_END = 0.07301372178241147;   \\/\\/ OPTIMIZE [0.03, 0.1] LOG/' -e 's/^constexpr double K_H = .*;      \\/\\/ OPTIMIZE \\[0\\.001, 0\\.999\\]$/constexpr double K_H = 0.20521432324232103;      \\/\\/ OPTIMIZE [0.001, 0.999]/' -e 's/^constexpr short PURCHASE_TURN_LIMIT = .*;  \\/\\/ OPTIMIZE \\[790, 870\\]$/constexpr short PURCHASE_TURN_LIMIT = 836;  \\/\\/ OPTIMIZE [790, 870]/' -e 's/^constexpr int ROUGH_HASH = .*;      \\/\\/ OPTIMIZE {0, 0b00000001, 0b00010001, 0b00010011, 0b00110011}$/constexpr int ROUGH_HASH = 0;      \\/\\/ OPTIMIZE {0, 0b00000001, 0b00010001, 0b00010011, 0b00110011}/' -e 's/^constexpr double TARGET_BEAM_WIDTH_INCREASE_RATE = .*;      \\/\\/ OPTIMIZE \\[0\\.25, 4\\.0\\] LOG$/constexpr double TARGET_BEAM_WIDTH_INCREASE_RATE = 1.2220252630510073;      \\/\\/ OPTIMIZE [0.25, 4.0] LOG/' -e 's/^constexpr double TARGET_BEAM_WIDTH_HALF_PROGRES_RATE = .*;  \\/\\/ OPTIMIZE \\[0\\.02, 0\\.98\\]$/constexpr double TARGET_BEAM_WIDTH_HALF_PROGRES_RATE = 0.8552974654912607;  \\/\\/ OPTIMIZE [0.02, 0.98]/' -e 's/^constexpr auto MAX_BEAM_WIDTH = .*;                        \\/\\/ OPTIMIZE \\[400, 4000\\] LOG$/constexpr auto MAX_BEAM_WIDTH = 804;                        \\/\\/ OPTIMIZE [400, 4000] LOG/'\n",
      "g++ 3_main.cpp -std=gnu++17 -O2 -o 3_main.cpp.out 2> /dev/null\n"
     ]
    },
    {
     "name": "stderr",
     "output_type": "stream",
     "text": [
      "\u001b[32m[I 2021-09-11 15:22:50,035]\u001b[0m Trial 119 finished with value: 2560876246.0 and parameters: {'hash_table_size': 8, 'K_START': 0.07341150581485986, 'K_END': 0.07222850663439573, 'K_H': 0.35689030222174806, 'PURCHASE_TURN_LIMIT': 835, 'ROUGH_HASH': '0', 'TARGET_BEAM_WIDTH_INCREASE_RATE': 1.6543431724969695, 'TARGET_BEAM_WIDTH_HALF_PROGRES_RATE': 0.7126717851201558, 'MAX_BEAM_WIDTH': 1523}. Best is trial 116 with value: 2571045475.0.\u001b[0m\n"
     ]
    },
    {
     "name": "stdout",
     "output_type": "stream",
     "text": [
      "callback ok\n",
      "index_parallel=4\n",
      "sed -i 4_main.cpp -e 's/^constexpr int hash_table_size = .*;         \\/\\/ OPTIMIZE \\[6, 18\\]$/constexpr int hash_table_size = 7;         \\/\\/ OPTIMIZE [6, 18]/' -e 's/^constexpr double K_START = .*;  \\/\\/ OPTIMIZE \\[0\\.04, 0\\.2\\] LOG$/constexpr double K_START = 0.06844238927369807;  \\/\\/ OPTIMIZE [0.04, 0.2] LOG/' -e 's/^constexpr double K_END = .*;   \\/\\/ OPTIMIZE \\[0\\.03, 0\\.1\\] LOG$/constexpr double K_END = 0.06641361750741114;   \\/\\/ OPTIMIZE [0.03, 0.1] LOG/' -e 's/^constexpr double K_H = .*;      \\/\\/ OPTIMIZE \\[0\\.001, 0\\.999\\]$/constexpr double K_H = 0.2161891415182894;      \\/\\/ OPTIMIZE [0.001, 0.999]/' -e 's/^constexpr short PURCHASE_TURN_LIMIT = .*;  \\/\\/ OPTIMIZE \\[790, 870\\]$/constexpr short PURCHASE_TURN_LIMIT = 845;  \\/\\/ OPTIMIZE [790, 870]/' -e 's/^constexpr int ROUGH_HASH = .*;      \\/\\/ OPTIMIZE {0, 0b00000001, 0b00010001, 0b00010011, 0b00110011}$/constexpr int ROUGH_HASH = 0;      \\/\\/ OPTIMIZE {0, 0b00000001, 0b00010001, 0b00010011, 0b00110011}/' -e 's/^constexpr double TARGET_BEAM_WIDTH_INCREASE_RATE = .*;      \\/\\/ OPTIMIZE \\[0\\.25, 4\\.0\\] LOG$/constexpr double TARGET_BEAM_WIDTH_INCREASE_RATE = 1.4795168888058507;      \\/\\/ OPTIMIZE [0.25, 4.0] LOG/' -e 's/^constexpr double TARGET_BEAM_WIDTH_HALF_PROGRES_RATE = .*;  \\/\\/ OPTIMIZE \\[0\\.02, 0\\.98\\]$/constexpr double TARGET_BEAM_WIDTH_HALF_PROGRES_RATE = 0.6828133183761171;  \\/\\/ OPTIMIZE [0.02, 0.98]/' -e 's/^constexpr auto MAX_BEAM_WIDTH = .*;                        \\/\\/ OPTIMIZE \\[400, 4000\\] LOG$/constexpr auto MAX_BEAM_WIDTH = 815;                        \\/\\/ OPTIMIZE [400, 4000] LOG/'\n",
      "g++ 4_main.cpp -std=gnu++17 -O2 -o 4_main.cpp.out 2> /dev/null\n"
     ]
    },
    {
     "name": "stderr",
     "output_type": "stream",
     "text": [
      "\u001b[32m[I 2021-09-11 15:24:06,391]\u001b[0m Trial 120 finished with value: 2551581629.0 and parameters: {'hash_table_size': 8, 'K_START': 0.07258475216991896, 'K_END': 0.07717484594798962, 'K_H': 0.3726002419650062, 'PURCHASE_TURN_LIMIT': 846, 'ROUGH_HASH': '0', 'TARGET_BEAM_WIDTH_INCREASE_RATE': 1.5223071255853091, 'TARGET_BEAM_WIDTH_HALF_PROGRES_RATE': 0.6860497689798227, 'MAX_BEAM_WIDTH': 1028}. Best is trial 116 with value: 2571045475.0.\u001b[0m\n"
     ]
    },
    {
     "name": "stdout",
     "output_type": "stream",
     "text": [
      "callback ok\n",
      "index_parallel=5\n",
      "sed -i 5_main.cpp -e 's/^constexpr int hash_table_size = .*;         \\/\\/ OPTIMIZE \\[6, 18\\]$/constexpr int hash_table_size = 8;         \\/\\/ OPTIMIZE [6, 18]/' -e 's/^constexpr double K_START = .*;  \\/\\/ OPTIMIZE \\[0\\.04, 0\\.2\\] LOG$/constexpr double K_START = 0.06871408214263597;  \\/\\/ OPTIMIZE [0.04, 0.2] LOG/' -e 's/^constexpr double K_END = .*;   \\/\\/ OPTIMIZE \\[0\\.03, 0\\.1\\] LOG$/constexpr double K_END = 0.06411896293612905;   \\/\\/ OPTIMIZE [0.03, 0.1] LOG/' -e 's/^constexpr double K_H = .*;      \\/\\/ OPTIMIZE \\[0\\.001, 0\\.999\\]$/constexpr double K_H = 0.23454687178304962;      \\/\\/ OPTIMIZE [0.001, 0.999]/' -e 's/^constexpr short PURCHASE_TURN_LIMIT = .*;  \\/\\/ OPTIMIZE \\[790, 870\\]$/constexpr short PURCHASE_TURN_LIMIT = 833;  \\/\\/ OPTIMIZE [790, 870]/' -e 's/^constexpr int ROUGH_HASH = .*;      \\/\\/ OPTIMIZE {0, 0b00000001, 0b00010001, 0b00010011, 0b00110011}$/constexpr int ROUGH_HASH = 0;      \\/\\/ OPTIMIZE {0, 0b00000001, 0b00010001, 0b00010011, 0b00110011}/' -e 's/^constexpr double TARGET_BEAM_WIDTH_INCREASE_RATE = .*;      \\/\\/ OPTIMIZE \\[0\\.25, 4\\.0\\] LOG$/constexpr double TARGET_BEAM_WIDTH_INCREASE_RATE = 1.358741969627289;      \\/\\/ OPTIMIZE [0.25, 4.0] LOG/' -e 's/^constexpr double TARGET_BEAM_WIDTH_HALF_PROGRES_RATE = .*;  \\/\\/ OPTIMIZE \\[0\\.02, 0\\.98\\]$/constexpr double TARGET_BEAM_WIDTH_HALF_PROGRES_RATE = 0.8517238261995108;  \\/\\/ OPTIMIZE [0.02, 0.98]/' -e 's/^constexpr auto MAX_BEAM_WIDTH = .*;                        \\/\\/ OPTIMIZE \\[400, 4000\\] LOG$/constexpr auto MAX_BEAM_WIDTH = 794;                        \\/\\/ OPTIMIZE [400, 4000] LOG/'\n",
      "g++ 5_main.cpp -std=gnu++17 -O2 -o 5_main.cpp.out 2> /dev/null\n"
     ]
    },
    {
     "name": "stderr",
     "output_type": "stream",
     "text": [
      "\u001b[32m[I 2021-09-11 15:25:20,072]\u001b[0m Trial 124 finished with value: 2508052268.0 and parameters: {'hash_table_size': 7, 'K_START': 0.06844238927369807, 'K_END': 0.06641361750741114, 'K_H': 0.2161891415182894, 'PURCHASE_TURN_LIMIT': 845, 'ROUGH_HASH': '0', 'TARGET_BEAM_WIDTH_INCREASE_RATE': 1.4795168888058507, 'TARGET_BEAM_WIDTH_HALF_PROGRES_RATE': 0.6828133183761171, 'MAX_BEAM_WIDTH': 815}. Best is trial 116 with value: 2571045475.0.\u001b[0m\n"
     ]
    },
    {
     "name": "stdout",
     "output_type": "stream",
     "text": [
      "callback ok\n",
      "index_parallel=6\n",
      "sed -i 6_main.cpp -e 's/^constexpr int hash_table_size = .*;         \\/\\/ OPTIMIZE \\[6, 18\\]$/constexpr int hash_table_size = 8;         \\/\\/ OPTIMIZE [6, 18]/' -e 's/^constexpr double K_START = .*;  \\/\\/ OPTIMIZE \\[0\\.04, 0\\.2\\] LOG$/constexpr double K_START = 0.06184875171136123;  \\/\\/ OPTIMIZE [0.04, 0.2] LOG/' -e 's/^constexpr double K_END = .*;   \\/\\/ OPTIMIZE \\[0\\.03, 0\\.1\\] LOG$/constexpr double K_END = 0.06885902237088948;   \\/\\/ OPTIMIZE [0.03, 0.1] LOG/' -e 's/^constexpr double K_H = .*;      \\/\\/ OPTIMIZE \\[0\\.001, 0\\.999\\]$/constexpr double K_H = 0.4170138053475075;      \\/\\/ OPTIMIZE [0.001, 0.999]/' -e 's/^constexpr short PURCHASE_TURN_LIMIT = .*;  \\/\\/ OPTIMIZE \\[790, 870\\]$/constexpr short PURCHASE_TURN_LIMIT = 833;  \\/\\/ OPTIMIZE [790, 870]/' -e 's/^constexpr int ROUGH_HASH = .*;      \\/\\/ OPTIMIZE {0, 0b00000001, 0b00010001, 0b00010011, 0b00110011}$/constexpr int ROUGH_HASH = 0;      \\/\\/ OPTIMIZE {0, 0b00000001, 0b00010001, 0b00010011, 0b00110011}/' -e 's/^constexpr double TARGET_BEAM_WIDTH_INCREASE_RATE = .*;      \\/\\/ OPTIMIZE \\[0\\.25, 4\\.0\\] LOG$/constexpr double TARGET_BEAM_WIDTH_INCREASE_RATE = 1.2568563468551488;      \\/\\/ OPTIMIZE [0.25, 4.0] LOG/' -e 's/^constexpr double TARGET_BEAM_WIDTH_HALF_PROGRES_RATE = .*;  \\/\\/ OPTIMIZE \\[0\\.02, 0\\.98\\]$/constexpr double TARGET_BEAM_WIDTH_HALF_PROGRES_RATE = 0.647218777654489;  \\/\\/ OPTIMIZE [0.02, 0.98]/' -e 's/^constexpr auto MAX_BEAM_WIDTH = .*;                        \\/\\/ OPTIMIZE \\[400, 4000\\] LOG$/constexpr auto MAX_BEAM_WIDTH = 790;                        \\/\\/ OPTIMIZE [400, 4000] LOG/'\n",
      "g++ 6_main.cpp -std=gnu++17 -O2 -o 6_main.cpp.out 2> /dev/null\n"
     ]
    },
    {
     "name": "stderr",
     "output_type": "stream",
     "text": [
      "\u001b[32m[I 2021-09-11 15:25:55,563]\u001b[0m Trial 121 finished with value: 2568884878.0 and parameters: {'hash_table_size': 8, 'K_START': 0.05502734021743616, 'K_END': 0.0642073338306747, 'K_H': 0.3769583331785406, 'PURCHASE_TURN_LIMIT': 835, 'ROUGH_HASH': '0', 'TARGET_BEAM_WIDTH_INCREASE_RATE': 1.5524137995258818, 'TARGET_BEAM_WIDTH_HALF_PROGRES_RATE': 0.8562485455363114, 'MAX_BEAM_WIDTH': 800}. Best is trial 116 with value: 2571045475.0.\u001b[0m\n"
     ]
    },
    {
     "name": "stdout",
     "output_type": "stream",
     "text": [
      "callback ok\n",
      "index_parallel=7\n",
      "sed -i 7_main.cpp -e 's/^constexpr int hash_table_size = .*;         \\/\\/ OPTIMIZE \\[6, 18\\]$/constexpr int hash_table_size = 17;         \\/\\/ OPTIMIZE [6, 18]/' -e 's/^constexpr double K_START = .*;  \\/\\/ OPTIMIZE \\[0\\.04, 0\\.2\\] LOG$/constexpr double K_START = 0.0616038804367653;  \\/\\/ OPTIMIZE [0.04, 0.2] LOG/' -e 's/^constexpr double K_END = .*;   \\/\\/ OPTIMIZE \\[0\\.03, 0\\.1\\] LOG$/constexpr double K_END = 0.06867764343213914;   \\/\\/ OPTIMIZE [0.03, 0.1] LOG/' -e 's/^constexpr double K_H = .*;      \\/\\/ OPTIMIZE \\[0\\.001, 0\\.999\\]$/constexpr double K_H = 0.39388180976616805;      \\/\\/ OPTIMIZE [0.001, 0.999]/' -e 's/^constexpr short PURCHASE_TURN_LIMIT = .*;  \\/\\/ OPTIMIZE \\[790, 870\\]$/constexpr short PURCHASE_TURN_LIMIT = 839;  \\/\\/ OPTIMIZE [790, 870]/' -e 's/^constexpr int ROUGH_HASH = .*;      \\/\\/ OPTIMIZE {0, 0b00000001, 0b00010001, 0b00010011, 0b00110011}$/constexpr int ROUGH_HASH = 0;      \\/\\/ OPTIMIZE {0, 0b00000001, 0b00010001, 0b00010011, 0b00110011}/' -e 's/^constexpr double TARGET_BEAM_WIDTH_INCREASE_RATE = .*;      \\/\\/ OPTIMIZE \\[0\\.25, 4\\.0\\] LOG$/constexpr double TARGET_BEAM_WIDTH_INCREASE_RATE = 1.3031295774872222;      \\/\\/ OPTIMIZE [0.25, 4.0] LOG/' -e 's/^constexpr double TARGET_BEAM_WIDTH_HALF_PROGRES_RATE = .*;  \\/\\/ OPTIMIZE \\[0\\.02, 0\\.98\\]$/constexpr double TARGET_BEAM_WIDTH_HALF_PROGRES_RATE = 0.85147797154888;  \\/\\/ OPTIMIZE [0.02, 0.98]/' -e 's/^constexpr auto MAX_BEAM_WIDTH = .*;                        \\/\\/ OPTIMIZE \\[400, 4000\\] LOG$/constexpr auto MAX_BEAM_WIDTH = 784;                        \\/\\/ OPTIMIZE [400, 4000] LOG/'\n",
      "g++ 7_main.cpp -std=gnu++17 -O2 -o 7_main.cpp.out 2> /dev/null\n"
     ]
    },
    {
     "name": "stderr",
     "output_type": "stream",
     "text": [
      "\u001b[32m[I 2021-09-11 15:27:11,513]\u001b[0m Trial 122 finished with value: 2509488865.0 and parameters: {'hash_table_size': 17, 'K_START': 0.062140082320940156, 'K_END': 0.07335175703137141, 'K_H': 0.3902348784941016, 'PURCHASE_TURN_LIMIT': 835, 'ROUGH_HASH': '0', 'TARGET_BEAM_WIDTH_INCREASE_RATE': 1.4573643120537754, 'TARGET_BEAM_WIDTH_HALF_PROGRES_RATE': 0.8496958016324995, 'MAX_BEAM_WIDTH': 1612}. Best is trial 116 with value: 2571045475.0.\u001b[0m\n"
     ]
    },
    {
     "name": "stdout",
     "output_type": "stream",
     "text": [
      "callback ok\n",
      "index_parallel=8\n",
      "sed -i 8_main.cpp -e 's/^constexpr int hash_table_size = .*;         \\/\\/ OPTIMIZE \\[6, 18\\]$/constexpr int hash_table_size = 8;         \\/\\/ OPTIMIZE [6, 18]/' -e 's/^constexpr double K_START = .*;  \\/\\/ OPTIMIZE \\[0\\.04, 0\\.2\\] LOG$/constexpr double K_START = 0.05515613755590819;  \\/\\/ OPTIMIZE [0.04, 0.2] LOG/' -e 's/^constexpr double K_END = .*;   \\/\\/ OPTIMIZE \\[0\\.03, 0\\.1\\] LOG$/constexpr double K_END = 0.06389722580144407;   \\/\\/ OPTIMIZE [0.03, 0.1] LOG/' -e 's/^constexpr double K_H = .*;      \\/\\/ OPTIMIZE \\[0\\.001, 0\\.999\\]$/constexpr double K_H = 0.2829335518927218;      \\/\\/ OPTIMIZE [0.001, 0.999]/' -e 's/^constexpr short PURCHASE_TURN_LIMIT = .*;  \\/\\/ OPTIMIZE \\[790, 870\\]$/constexpr short PURCHASE_TURN_LIMIT = 839;  \\/\\/ OPTIMIZE [790, 870]/' -e 's/^constexpr int ROUGH_HASH = .*;      \\/\\/ OPTIMIZE {0, 0b00000001, 0b00010001, 0b00010011, 0b00110011}$/constexpr int ROUGH_HASH = 0;      \\/\\/ OPTIMIZE {0, 0b00000001, 0b00010001, 0b00010011, 0b00110011}/' -e 's/^constexpr double TARGET_BEAM_WIDTH_INCREASE_RATE = .*;      \\/\\/ OPTIMIZE \\[0\\.25, 4\\.0\\] LOG$/constexpr double TARGET_BEAM_WIDTH_INCREASE_RATE = 2.250946267109815;      \\/\\/ OPTIMIZE [0.25, 4.0] LOG/' -e 's/^constexpr double TARGET_BEAM_WIDTH_HALF_PROGRES_RATE = .*;  \\/\\/ OPTIMIZE \\[0\\.02, 0\\.98\\]$/constexpr double TARGET_BEAM_WIDTH_HALF_PROGRES_RATE = 0.9126785317181371;  \\/\\/ OPTIMIZE [0.02, 0.98]/' -e 's/^constexpr auto MAX_BEAM_WIDTH = .*;                        \\/\\/ OPTIMIZE \\[400, 4000\\] LOG$/constexpr auto MAX_BEAM_WIDTH = 796;                        \\/\\/ OPTIMIZE [400, 4000] LOG/'\n",
      "g++ 8_main.cpp -std=gnu++17 -O2 -o 8_main.cpp.out 2> /dev/null\n"
     ]
    },
    {
     "name": "stderr",
     "output_type": "stream",
     "text": [
      "\u001b[32m[I 2021-09-11 15:27:49,219]\u001b[0m Trial 123 finished with value: 2509742687.0 and parameters: {'hash_table_size': 17, 'K_START': 0.06185294016679692, 'K_END': 0.07301372178241147, 'K_H': 0.20521432324232103, 'PURCHASE_TURN_LIMIT': 836, 'ROUGH_HASH': '0', 'TARGET_BEAM_WIDTH_INCREASE_RATE': 1.2220252630510073, 'TARGET_BEAM_WIDTH_HALF_PROGRES_RATE': 0.8552974654912607, 'MAX_BEAM_WIDTH': 804}. Best is trial 116 with value: 2571045475.0.\u001b[0m\n"
     ]
    },
    {
     "name": "stdout",
     "output_type": "stream",
     "text": [
      "callback ok\n",
      "index_parallel=9\n",
      "sed -i 9_main.cpp -e 's/^constexpr int hash_table_size = .*;         \\/\\/ OPTIMIZE \\[6, 18\\]$/constexpr int hash_table_size = 8;         \\/\\/ OPTIMIZE [6, 18]/' -e 's/^constexpr double K_START = .*;  \\/\\/ OPTIMIZE \\[0\\.04, 0\\.2\\] LOG$/constexpr double K_START = 0.05751315085050085;  \\/\\/ OPTIMIZE [0.04, 0.2] LOG/' -e 's/^constexpr double K_END = .*;   \\/\\/ OPTIMIZE \\[0\\.03, 0\\.1\\] LOG$/constexpr double K_END = 0.06828878619884063;   \\/\\/ OPTIMIZE [0.03, 0.1] LOG/' -e 's/^constexpr double K_H = .*;      \\/\\/ OPTIMIZE \\[0\\.001, 0\\.999\\]$/constexpr double K_H = 0.5407320005829074;      \\/\\/ OPTIMIZE [0.001, 0.999]/' -e 's/^constexpr short PURCHASE_TURN_LIMIT = .*;  \\/\\/ OPTIMIZE \\[790, 870\\]$/constexpr short PURCHASE_TURN_LIMIT = 839;  \\/\\/ OPTIMIZE [790, 870]/' -e 's/^constexpr int ROUGH_HASH = .*;      \\/\\/ OPTIMIZE {0, 0b00000001, 0b00010001, 0b00010011, 0b00110011}$/constexpr int ROUGH_HASH = 0;      \\/\\/ OPTIMIZE {0, 0b00000001, 0b00010001, 0b00010011, 0b00110011}/' -e 's/^constexpr double TARGET_BEAM_WIDTH_INCREASE_RATE = .*;      \\/\\/ OPTIMIZE \\[0\\.25, 4\\.0\\] LOG$/constexpr double TARGET_BEAM_WIDTH_INCREASE_RATE = 1.2945486344798982;      \\/\\/ OPTIMIZE [0.25, 4.0] LOG/' -e 's/^constexpr double TARGET_BEAM_WIDTH_HALF_PROGRES_RATE = .*;  \\/\\/ OPTIMIZE \\[0\\.02, 0\\.98\\]$/constexpr double TARGET_BEAM_WIDTH_HALF_PROGRES_RATE = 0.9040029022993599;  \\/\\/ OPTIMIZE [0.02, 0.98]/' -e 's/^constexpr auto MAX_BEAM_WIDTH = .*;                        \\/\\/ OPTIMIZE \\[400, 4000\\] LOG$/constexpr auto MAX_BEAM_WIDTH = 871;                        \\/\\/ OPTIMIZE [400, 4000] LOG/'\n",
      "g++ 9_main.cpp -std=gnu++17 -O2 -o 9_main.cpp.out 2> /dev/null\n"
     ]
    },
    {
     "name": "stderr",
     "output_type": "stream",
     "text": [
      "\u001b[32m[I 2021-09-11 15:28:23,354]\u001b[0m Trial 125 finished with value: 2568800964.0 and parameters: {'hash_table_size': 8, 'K_START': 0.06871408214263597, 'K_END': 0.06411896293612905, 'K_H': 0.23454687178304962, 'PURCHASE_TURN_LIMIT': 833, 'ROUGH_HASH': '0', 'TARGET_BEAM_WIDTH_INCREASE_RATE': 1.358741969627289, 'TARGET_BEAM_WIDTH_HALF_PROGRES_RATE': 0.8517238261995108, 'MAX_BEAM_WIDTH': 794}. Best is trial 116 with value: 2571045475.0.\u001b[0m\n"
     ]
    },
    {
     "name": "stdout",
     "output_type": "stream",
     "text": [
      "callback ok\n",
      "index_parallel=10\n",
      "sed -i 10_main.cpp -e 's/^constexpr int hash_table_size = .*;         \\/\\/ OPTIMIZE \\[6, 18\\]$/constexpr int hash_table_size = 7;         \\/\\/ OPTIMIZE [6, 18]/' -e 's/^constexpr double K_START = .*;  \\/\\/ OPTIMIZE \\[0\\.04, 0\\.2\\] LOG$/constexpr double K_START = 0.056344209630222325;  \\/\\/ OPTIMIZE [0.04, 0.2] LOG/' -e 's/^constexpr double K_END = .*;   \\/\\/ OPTIMIZE \\[0\\.03, 0\\.1\\] LOG$/constexpr double K_END = 0.06877786522082702;   \\/\\/ OPTIMIZE [0.03, 0.1] LOG/' -e 's/^constexpr double K_H = .*;      \\/\\/ OPTIMIZE \\[0\\.001, 0\\.999\\]$/constexpr double K_H = 0.26649910962053147;      \\/\\/ OPTIMIZE [0.001, 0.999]/' -e 's/^constexpr short PURCHASE_TURN_LIMIT = .*;  \\/\\/ OPTIMIZE \\[790, 870\\]$/constexpr short PURCHASE_TURN_LIMIT = 839;  \\/\\/ OPTIMIZE [790, 870]/' -e 's/^constexpr int ROUGH_HASH = .*;      \\/\\/ OPTIMIZE {0, 0b00000001, 0b00010001, 0b00010011, 0b00110011}$/constexpr int ROUGH_HASH = 0;      \\/\\/ OPTIMIZE {0, 0b00000001, 0b00010001, 0b00010011, 0b00110011}/' -e 's/^constexpr double TARGET_BEAM_WIDTH_INCREASE_RATE = .*;      \\/\\/ OPTIMIZE \\[0\\.25, 4\\.0\\] LOG$/constexpr double TARGET_BEAM_WIDTH_INCREASE_RATE = 2.24717395153718;      \\/\\/ OPTIMIZE [0.25, 4.0] LOG/' -e 's/^constexpr double TARGET_BEAM_WIDTH_HALF_PROGRES_RATE = .*;  \\/\\/ OPTIMIZE \\[0\\.02, 0\\.98\\]$/constexpr double TARGET_BEAM_WIDTH_HALF_PROGRES_RATE = 0.9158205626110715;  \\/\\/ OPTIMIZE [0.02, 0.98]/' -e 's/^constexpr auto MAX_BEAM_WIDTH = .*;                        \\/\\/ OPTIMIZE \\[400, 4000\\] LOG$/constexpr auto MAX_BEAM_WIDTH = 913;                        \\/\\/ OPTIMIZE [400, 4000] LOG/'\n",
      "g++ 10_main.cpp -std=gnu++17 -O2 -o 10_main.cpp.out 2> /dev/null\n"
     ]
    },
    {
     "name": "stderr",
     "output_type": "stream",
     "text": [
      "\u001b[32m[I 2021-09-11 15:29:34,448]\u001b[0m Trial 126 finished with value: 2563666407.0 and parameters: {'hash_table_size': 8, 'K_START': 0.06184875171136123, 'K_END': 0.06885902237088948, 'K_H': 0.4170138053475075, 'PURCHASE_TURN_LIMIT': 833, 'ROUGH_HASH': '0', 'TARGET_BEAM_WIDTH_INCREASE_RATE': 1.2568563468551488, 'TARGET_BEAM_WIDTH_HALF_PROGRES_RATE': 0.647218777654489, 'MAX_BEAM_WIDTH': 790}. Best is trial 116 with value: 2571045475.0.\u001b[0m\n"
     ]
    },
    {
     "name": "stdout",
     "output_type": "stream",
     "text": [
      "callback ok\n",
      "index_parallel=11\n",
      "sed -i 11_main.cpp -e 's/^constexpr int hash_table_size = .*;         \\/\\/ OPTIMIZE \\[6, 18\\]$/constexpr int hash_table_size = 7;         \\/\\/ OPTIMIZE [6, 18]/' -e 's/^constexpr double K_START = .*;  \\/\\/ OPTIMIZE \\[0\\.04, 0\\.2\\] LOG$/constexpr double K_START = 0.06991630022354886;  \\/\\/ OPTIMIZE [0.04, 0.2] LOG/' -e 's/^constexpr double K_END = .*;   \\/\\/ OPTIMIZE \\[0\\.03, 0\\.1\\] LOG$/constexpr double K_END = 0.06459764755706669;   \\/\\/ OPTIMIZE [0.03, 0.1] LOG/' -e 's/^constexpr double K_H = .*;      \\/\\/ OPTIMIZE \\[0\\.001, 0\\.999\\]$/constexpr double K_H = 0.2873177355470925;      \\/\\/ OPTIMIZE [0.001, 0.999]/' -e 's/^constexpr short PURCHASE_TURN_LIMIT = .*;  \\/\\/ OPTIMIZE \\[790, 870\\]$/constexpr short PURCHASE_TURN_LIMIT = 838;  \\/\\/ OPTIMIZE [790, 870]/' -e 's/^constexpr int ROUGH_HASH = .*;      \\/\\/ OPTIMIZE {0, 0b00000001, 0b00010001, 0b00010011, 0b00110011}$/constexpr int ROUGH_HASH = 0;      \\/\\/ OPTIMIZE {0, 0b00000001, 0b00010001, 0b00010011, 0b00110011}/' -e 's/^constexpr double TARGET_BEAM_WIDTH_INCREASE_RATE = .*;      \\/\\/ OPTIMIZE \\[0\\.25, 4\\.0\\] LOG$/constexpr double TARGET_BEAM_WIDTH_INCREASE_RATE = 1.261897850035081;      \\/\\/ OPTIMIZE [0.25, 4.0] LOG/' -e 's/^constexpr double TARGET_BEAM_WIDTH_HALF_PROGRES_RATE = .*;  \\/\\/ OPTIMIZE \\[0\\.02, 0\\.98\\]$/constexpr double TARGET_BEAM_WIDTH_HALF_PROGRES_RATE = 0.7347834571483657;  \\/\\/ OPTIMIZE [0.02, 0.98]/' -e 's/^constexpr auto MAX_BEAM_WIDTH = .*;                        \\/\\/ OPTIMIZE \\[400, 4000\\] LOG$/constexpr auto MAX_BEAM_WIDTH = 1307;                        \\/\\/ OPTIMIZE [400, 4000] LOG/'\n",
      "g++ 11_main.cpp -std=gnu++17 -O2 -o 11_main.cpp.out 2> /dev/null\n"
     ]
    },
    {
     "name": "stderr",
     "output_type": "stream",
     "text": [
      "\u001b[32m[I 2021-09-11 15:30:52,299]\u001b[0m Trial 130 finished with value: 2505541307.0 and parameters: {'hash_table_size': 7, 'K_START': 0.056344209630222325, 'K_END': 0.06877786522082702, 'K_H': 0.26649910962053147, 'PURCHASE_TURN_LIMIT': 839, 'ROUGH_HASH': '0', 'TARGET_BEAM_WIDTH_INCREASE_RATE': 2.24717395153718, 'TARGET_BEAM_WIDTH_HALF_PROGRES_RATE': 0.9158205626110715, 'MAX_BEAM_WIDTH': 913}. Best is trial 116 with value: 2571045475.0.\u001b[0m\n"
     ]
    },
    {
     "name": "stdout",
     "output_type": "stream",
     "text": [
      "callback ok\n",
      "index_parallel=0\n",
      "sed -i 0_main.cpp -e 's/^constexpr int hash_table_size = .*;         \\/\\/ OPTIMIZE \\[6, 18\\]$/constexpr int hash_table_size = 8;         \\/\\/ OPTIMIZE [6, 18]/' -e 's/^constexpr double K_START = .*;  \\/\\/ OPTIMIZE \\[0\\.04, 0\\.2\\] LOG$/constexpr double K_START = 0.054184390874307035;  \\/\\/ OPTIMIZE [0.04, 0.2] LOG/' -e 's/^constexpr double K_END = .*;   \\/\\/ OPTIMIZE \\[0\\.03, 0\\.1\\] LOG$/constexpr double K_END = 0.06382200766795926;   \\/\\/ OPTIMIZE [0.03, 0.1] LOG/' -e 's/^constexpr double K_H = .*;      \\/\\/ OPTIMIZE \\[0\\.001, 0\\.999\\]$/constexpr double K_H = 0.4310051699625975;      \\/\\/ OPTIMIZE [0.001, 0.999]/' -e 's/^constexpr short PURCHASE_TURN_LIMIT = .*;  \\/\\/ OPTIMIZE \\[790, 870\\]$/constexpr short PURCHASE_TURN_LIMIT = 837;  \\/\\/ OPTIMIZE [790, 870]/' -e 's/^constexpr int ROUGH_HASH = .*;      \\/\\/ OPTIMIZE {0, 0b00000001, 0b00010001, 0b00010011, 0b00110011}$/constexpr int ROUGH_HASH = 0;      \\/\\/ OPTIMIZE {0, 0b00000001, 0b00010001, 0b00010011, 0b00110011}/' -e 's/^constexpr double TARGET_BEAM_WIDTH_INCREASE_RATE = .*;      \\/\\/ OPTIMIZE \\[0\\.25, 4\\.0\\] LOG$/constexpr double TARGET_BEAM_WIDTH_INCREASE_RATE = 1.2058047750181093;      \\/\\/ OPTIMIZE [0.25, 4.0] LOG/' -e 's/^constexpr double TARGET_BEAM_WIDTH_HALF_PROGRES_RATE = .*;  \\/\\/ OPTIMIZE \\[0\\.02, 0\\.98\\]$/constexpr double TARGET_BEAM_WIDTH_HALF_PROGRES_RATE = 0.9072709325203384;  \\/\\/ OPTIMIZE [0.02, 0.98]/' -e 's/^constexpr auto MAX_BEAM_WIDTH = .*;                        \\/\\/ OPTIMIZE \\[400, 4000\\] LOG$/constexpr auto MAX_BEAM_WIDTH = 782;                        \\/\\/ OPTIMIZE [400, 4000] LOG/'\n",
      "g++ 0_main.cpp -std=gnu++17 -O2 -o 0_main.cpp.out 2> /dev/null\n"
     ]
    },
    {
     "name": "stderr",
     "output_type": "stream",
     "text": [
      "\u001b[32m[I 2021-09-11 15:31:23,162]\u001b[0m Trial 127 finished with value: 2517816186.0 and parameters: {'hash_table_size': 17, 'K_START': 0.0616038804367653, 'K_END': 0.06867764343213914, 'K_H': 0.39388180976616805, 'PURCHASE_TURN_LIMIT': 839, 'ROUGH_HASH': '0', 'TARGET_BEAM_WIDTH_INCREASE_RATE': 1.3031295774872222, 'TARGET_BEAM_WIDTH_HALF_PROGRES_RATE': 0.85147797154888, 'MAX_BEAM_WIDTH': 784}. Best is trial 116 with value: 2571045475.0.\u001b[0m\n"
     ]
    },
    {
     "name": "stdout",
     "output_type": "stream",
     "text": [
      "callback ok\n",
      "index_parallel=1\n",
      "sed -i 1_main.cpp -e 's/^constexpr int hash_table_size = .*;         \\/\\/ OPTIMIZE \\[6, 18\\]$/constexpr int hash_table_size = 8;         \\/\\/ OPTIMIZE [6, 18]/' -e 's/^constexpr double K_START = .*;  \\/\\/ OPTIMIZE \\[0\\.04, 0\\.2\\] LOG$/constexpr double K_START = 0.054298695944852794;  \\/\\/ OPTIMIZE [0.04, 0.2] LOG/' -e 's/^constexpr double K_END = .*;   \\/\\/ OPTIMIZE \\[0\\.03, 0\\.1\\] LOG$/constexpr double K_END = 0.06576508780108391;   \\/\\/ OPTIMIZE [0.03, 0.1] LOG/' -e 's/^constexpr double K_H = .*;      \\/\\/ OPTIMIZE \\[0\\.001, 0\\.999\\]$/constexpr double K_H = 0.2857620785302669;      \\/\\/ OPTIMIZE [0.001, 0.999]/' -e 's/^constexpr short PURCHASE_TURN_LIMIT = .*;  \\/\\/ OPTIMIZE \\[790, 870\\]$/constexpr short PURCHASE_TURN_LIMIT = 832;  \\/\\/ OPTIMIZE [790, 870]/' -e 's/^constexpr int ROUGH_HASH = .*;      \\/\\/ OPTIMIZE {0, 0b00000001, 0b00010001, 0b00010011, 0b00110011}$/constexpr int ROUGH_HASH = 0;      \\/\\/ OPTIMIZE {0, 0b00000001, 0b00010001, 0b00010011, 0b00110011}/' -e 's/^constexpr double TARGET_BEAM_WIDTH_INCREASE_RATE = .*;      \\/\\/ OPTIMIZE \\[0\\.25, 4\\.0\\] LOG$/constexpr double TARGET_BEAM_WIDTH_INCREASE_RATE = 1.1778728512745178;      \\/\\/ OPTIMIZE [0.25, 4.0] LOG/' -e 's/^constexpr double TARGET_BEAM_WIDTH_HALF_PROGRES_RATE = .*;  \\/\\/ OPTIMIZE \\[0\\.02, 0\\.98\\]$/constexpr double TARGET_BEAM_WIDTH_HALF_PROGRES_RATE = 0.7369671938928375;  \\/\\/ OPTIMIZE [0.02, 0.98]/' -e 's/^constexpr auto MAX_BEAM_WIDTH = .*;                        \\/\\/ OPTIMIZE \\[400, 4000\\] LOG$/constexpr auto MAX_BEAM_WIDTH = 1300;                        \\/\\/ OPTIMIZE [400, 4000] LOG/'\n",
      "g++ 1_main.cpp -std=gnu++17 -O2 -o 1_main.cpp.out 2> /dev/null\n"
     ]
    },
    {
     "name": "stderr",
     "output_type": "stream",
     "text": [
      "\u001b[32m[I 2021-09-11 15:31:28,518]\u001b[0m Trial 128 finished with value: 2566464465.0 and parameters: {'hash_table_size': 8, 'K_START': 0.05515613755590819, 'K_END': 0.06389722580144407, 'K_H': 0.2829335518927218, 'PURCHASE_TURN_LIMIT': 839, 'ROUGH_HASH': '0', 'TARGET_BEAM_WIDTH_INCREASE_RATE': 2.250946267109815, 'TARGET_BEAM_WIDTH_HALF_PROGRES_RATE': 0.9126785317181371, 'MAX_BEAM_WIDTH': 796}. Best is trial 116 with value: 2571045475.0.\u001b[0m\n"
     ]
    },
    {
     "name": "stdout",
     "output_type": "stream",
     "text": [
      "callback ok\n",
      "index_parallel=2\n",
      "sed -i 2_main.cpp -e 's/^constexpr int hash_table_size = .*;         \\/\\/ OPTIMIZE \\[6, 18\\]$/constexpr int hash_table_size = 8;         \\/\\/ OPTIMIZE [6, 18]/' -e 's/^constexpr double K_START = .*;  \\/\\/ OPTIMIZE \\[0\\.04, 0\\.2\\] LOG$/constexpr double K_START = 0.07006539858801518;  \\/\\/ OPTIMIZE [0.04, 0.2] LOG/' -e 's/^constexpr double K_END = .*;   \\/\\/ OPTIMIZE \\[0\\.03, 0\\.1\\] LOG$/constexpr double K_END = 0.06393568889349234;   \\/\\/ OPTIMIZE [0.03, 0.1] LOG/' -e 's/^constexpr double K_H = .*;      \\/\\/ OPTIMIZE \\[0\\.001, 0\\.999\\]$/constexpr double K_H = 0.2937511576717328;      \\/\\/ OPTIMIZE [0.001, 0.999]/' -e 's/^constexpr short PURCHASE_TURN_LIMIT = .*;  \\/\\/ OPTIMIZE \\[790, 870\\]$/constexpr short PURCHASE_TURN_LIMIT = 837;  \\/\\/ OPTIMIZE [790, 870]/' -e 's/^constexpr int ROUGH_HASH = .*;      \\/\\/ OPTIMIZE {0, 0b00000001, 0b00010001, 0b00010011, 0b00110011}$/constexpr int ROUGH_HASH = 0;      \\/\\/ OPTIMIZE {0, 0b00000001, 0b00010001, 0b00010011, 0b00110011}/' -e 's/^constexpr double TARGET_BEAM_WIDTH_INCREASE_RATE = .*;      \\/\\/ OPTIMIZE \\[0\\.25, 4\\.0\\] LOG$/constexpr double TARGET_BEAM_WIDTH_INCREASE_RATE = 1.348299716345071;      \\/\\/ OPTIMIZE [0.25, 4.0] LOG/' -e 's/^constexpr double TARGET_BEAM_WIDTH_HALF_PROGRES_RATE = .*;  \\/\\/ OPTIMIZE \\[0\\.02, 0\\.98\\]$/constexpr double TARGET_BEAM_WIDTH_HALF_PROGRES_RATE = 0.9080691266337332;  \\/\\/ OPTIMIZE [0.02, 0.98]/' -e 's/^constexpr auto MAX_BEAM_WIDTH = .*;                        \\/\\/ OPTIMIZE \\[400, 4000\\] LOG$/constexpr auto MAX_BEAM_WIDTH = 1292;                        \\/\\/ OPTIMIZE [400, 4000] LOG/'\n",
      "g++ 2_main.cpp -std=gnu++17 -O2 -o 2_main.cpp.out 2> /dev/null\n"
     ]
    },
    {
     "name": "stderr",
     "output_type": "stream",
     "text": [
      "\u001b[32m[I 2021-09-11 15:32:05,206]\u001b[0m Trial 131 finished with value: 2511881711.0 and parameters: {'hash_table_size': 7, 'K_START': 0.06991630022354886, 'K_END': 0.06459764755706669, 'K_H': 0.2873177355470925, 'PURCHASE_TURN_LIMIT': 838, 'ROUGH_HASH': '0', 'TARGET_BEAM_WIDTH_INCREASE_RATE': 1.261897850035081, 'TARGET_BEAM_WIDTH_HALF_PROGRES_RATE': 0.7347834571483657, 'MAX_BEAM_WIDTH': 1307}. Best is trial 116 with value: 2571045475.0.\u001b[0m\n"
     ]
    },
    {
     "name": "stdout",
     "output_type": "stream",
     "text": [
      "callback ok\n",
      "index_parallel=3\n"
     ]
    },
    {
     "name": "stderr",
     "output_type": "stream",
     "text": [
      "\u001b[32m[I 2021-09-11 15:32:06,392]\u001b[0m Trial 129 finished with value: 2566871876.0 and parameters: {'hash_table_size': 8, 'K_START': 0.05751315085050085, 'K_END': 0.06828878619884063, 'K_H': 0.5407320005829074, 'PURCHASE_TURN_LIMIT': 839, 'ROUGH_HASH': '0', 'TARGET_BEAM_WIDTH_INCREASE_RATE': 1.2945486344798982, 'TARGET_BEAM_WIDTH_HALF_PROGRES_RATE': 0.9040029022993599, 'MAX_BEAM_WIDTH': 871}. Best is trial 116 with value: 2571045475.0.\u001b[0m\n"
     ]
    },
    {
     "name": "stdout",
     "output_type": "stream",
     "text": [
      "callback ok\n",
      "index_parallel=4\n",
      "sed -i 3_main.cpp -e 's/^constexpr int hash_table_size = .*;         \\/\\/ OPTIMIZE \\[6, 18\\]$/constexpr int hash_table_size = 8;         \\/\\/ OPTIMIZE [6, 18]/' -e 's/^constexpr double K_START = .*;  \\/\\/ OPTIMIZE \\[0\\.04, 0\\.2\\] LOG$/constexpr double K_START = 0.05495691888074033;  \\/\\/ OPTIMIZE [0.04, 0.2] LOG/' -e 's/^constexpr double K_END = .*;   \\/\\/ OPTIMIZE \\[0\\.03, 0\\.1\\] LOG$/constexpr double K_END = 0.06374140658356002;   \\/\\/ OPTIMIZE [0.03, 0.1] LOG/' -e 's/^constexpr double K_H = .*;      \\/\\/ OPTIMIZE \\[0\\.001, 0\\.999\\]$/constexpr double K_H = 0.2966603766219351;      \\/\\/ OPTIMIZE [0.001, 0.999]/' -e 's/^constexpr short PURCHASE_TURN_LIMIT = .*;  \\/\\/ OPTIMIZE \\[790, 870\\]$/constexpr short PURCHASE_TURN_LIMIT = 832;  \\/\\/ OPTIMIZE [790, 870]/' -e 's/^constexpr int ROUGH_HASH = .*;      \\/\\/ OPTIMIZE {0, 0b00000001, 0b00010001, 0b00010011, 0b00110011}$/constexpr int ROUGH_HASH = 0;      \\/\\/ OPTIMIZE {0, 0b00000001, 0b00010001, 0b00010011, 0b00110011}/' -e 's/^constexpr double TARGET_BEAM_WIDTH_INCREASE_RATE = .*;      \\/\\/ OPTIMIZE \\[0\\.25, 4\\.0\\] LOG$/constexpr double TARGET_BEAM_WIDTH_INCREASE_RATE = 1.1508425942452123;      \\/\\/ OPTIMIZE [0.25, 4.0] LOG/' -e 's/^constexpr double TARGET_BEAM_WIDTH_HALF_PROGRES_RATE = .*;  \\/\\/ OPTIMIZE \\[0\\.02, 0\\.98\\]$/constexpr double TARGET_BEAM_WIDTH_HALF_PROGRES_RATE = 0.9681404026813015;  \\/\\/ OPTIMIZE [0.02, 0.98]/' -e 's/^constexpr auto MAX_BEAM_WIDTH = .*;                        \\/\\/ OPTIMIZE \\[400, 4000\\] LOG$/constexpr auto MAX_BEAM_WIDTH = 832;                        \\/\\/ OPTIMIZE [400, 4000] LOG/'\n",
      "g++ 3_main.cpp -std=gnu++17 -O2 -o 3_main.cpp.out 2> /dev/null\n",
      "sed -i 4_main.cpp -e 's/^constexpr int hash_table_size = .*;         \\/\\/ OPTIMIZE \\[6, 18\\]$/constexpr int hash_table_size = 8;         \\/\\/ OPTIMIZE [6, 18]/' -e 's/^constexpr double K_START = .*;  \\/\\/ OPTIMIZE \\[0\\.04, 0\\.2\\] LOG$/constexpr double K_START = 0.06691194417983615;  \\/\\/ OPTIMIZE [0.04, 0.2] LOG/' -e 's/^constexpr double K_END = .*;   \\/\\/ OPTIMIZE \\[0\\.03, 0\\.1\\] LOG$/constexpr double K_END = 0.06407627699432547;   \\/\\/ OPTIMIZE [0.03, 0.1] LOG/' -e 's/^constexpr double K_H = .*;      \\/\\/ OPTIMIZE \\[0\\.001, 0\\.999\\]$/constexpr double K_H = 0.2353181245371478;      \\/\\/ OPTIMIZE [0.001, 0.999]/' -e 's/^constexpr short PURCHASE_TURN_LIMIT = .*;  \\/\\/ OPTIMIZE \\[790, 870\\]$/constexpr short PURCHASE_TURN_LIMIT = 843;  \\/\\/ OPTIMIZE [790, 870]/' -e 's/^constexpr int ROUGH_HASH = .*;      \\/\\/ OPTIMIZE {0, 0b00000001, 0b00010001, 0b00010011, 0b00110011}$/constexpr int ROUGH_HASH = 0;      \\/\\/ OPTIMIZE {0, 0b00000001, 0b00010001, 0b00010011, 0b00110011}/' -e 's/^constexpr double TARGET_BEAM_WIDTH_INCREASE_RATE = .*;      \\/\\/ OPTIMIZE \\[0\\.25, 4\\.0\\] LOG$/constexpr double TARGET_BEAM_WIDTH_INCREASE_RATE = 1.1564902303220301;      \\/\\/ OPTIMIZE [0.25, 4.0] LOG/' -e 's/^constexpr double TARGET_BEAM_WIDTH_HALF_PROGRES_RATE = .*;  \\/\\/ OPTIMIZE \\[0\\.02, 0\\.98\\]$/constexpr double TARGET_BEAM_WIDTH_HALF_PROGRES_RATE = 0.9674268556335988;  \\/\\/ OPTIMIZE [0.02, 0.98]/' -e 's/^constexpr auto MAX_BEAM_WIDTH = .*;                        \\/\\/ OPTIMIZE \\[400, 4000\\] LOG$/constexpr auto MAX_BEAM_WIDTH = 839;                        \\/\\/ OPTIMIZE [400, 4000] LOG/'\n",
      "g++ 4_main.cpp -std=gnu++17 -O2 -o 4_main.cpp.out 2> /dev/null\n"
     ]
    },
    {
     "name": "stderr",
     "output_type": "stream",
     "text": [
      "\u001b[32m[I 2021-09-11 15:35:09,525]\u001b[0m Trial 132 finished with value: 2567519581.0 and parameters: {'hash_table_size': 8, 'K_START': 0.054184390874307035, 'K_END': 0.06382200766795926, 'K_H': 0.4310051699625975, 'PURCHASE_TURN_LIMIT': 837, 'ROUGH_HASH': '0', 'TARGET_BEAM_WIDTH_INCREASE_RATE': 1.2058047750181093, 'TARGET_BEAM_WIDTH_HALF_PROGRES_RATE': 0.9072709325203384, 'MAX_BEAM_WIDTH': 782}. Best is trial 116 with value: 2571045475.0.\u001b[0m\n"
     ]
    },
    {
     "name": "stdout",
     "output_type": "stream",
     "text": [
      "callback ok\n",
      "index_parallel=5\n",
      "sed -i 5_main.cpp -e 's/^constexpr int hash_table_size = .*;         \\/\\/ OPTIMIZE \\[6, 18\\]$/constexpr int hash_table_size = 9;         \\/\\/ OPTIMIZE [6, 18]/' -e 's/^constexpr double K_START = .*;  \\/\\/ OPTIMIZE \\[0\\.04, 0\\.2\\] LOG$/constexpr double K_START = 0.05440781255833196;  \\/\\/ OPTIMIZE [0.04, 0.2] LOG/' -e 's/^constexpr double K_END = .*;   \\/\\/ OPTIMIZE \\[0\\.03, 0\\.1\\] LOG$/constexpr double K_END = 0.06367975117438433;   \\/\\/ OPTIMIZE [0.03, 0.1] LOG/' -e 's/^constexpr double K_H = .*;      \\/\\/ OPTIMIZE \\[0\\.001, 0\\.999\\]$/constexpr double K_H = 0.16476139459907804;      \\/\\/ OPTIMIZE [0.001, 0.999]/' -e 's/^constexpr short PURCHASE_TURN_LIMIT = .*;  \\/\\/ OPTIMIZE \\[790, 870\\]$/constexpr short PURCHASE_TURN_LIMIT = 843;  \\/\\/ OPTIMIZE [790, 870]/' -e 's/^constexpr int ROUGH_HASH = .*;      \\/\\/ OPTIMIZE {0, 0b00000001, 0b00010001, 0b00010011, 0b00110011}$/constexpr int ROUGH_HASH = 0;      \\/\\/ OPTIMIZE {0, 0b00000001, 0b00010001, 0b00010011, 0b00110011}/' -e 's/^constexpr double TARGET_BEAM_WIDTH_INCREASE_RATE = .*;      \\/\\/ OPTIMIZE \\[0\\.25, 4\\.0\\] LOG$/constexpr double TARGET_BEAM_WIDTH_INCREASE_RATE = 1.1233442887364207;      \\/\\/ OPTIMIZE [0.25, 4.0] LOG/' -e 's/^constexpr double TARGET_BEAM_WIDTH_HALF_PROGRES_RATE = .*;  \\/\\/ OPTIMIZE \\[0\\.02, 0\\.98\\]$/constexpr double TARGET_BEAM_WIDTH_HALF_PROGRES_RATE = 0.9787492674784992;  \\/\\/ OPTIMIZE [0.02, 0.98]/' -e 's/^constexpr auto MAX_BEAM_WIDTH = .*;                        \\/\\/ OPTIMIZE \\[400, 4000\\] LOG$/constexpr auto MAX_BEAM_WIDTH = 783;                        \\/\\/ OPTIMIZE [400, 4000] LOG/'\n",
      "g++ 5_main.cpp -std=gnu++17 -O2 -o 5_main.cpp.out 2> /dev/null\n"
     ]
    },
    {
     "name": "stderr",
     "output_type": "stream",
     "text": [
      "\u001b[32m[I 2021-09-11 15:35:44,208]\u001b[0m Trial 133 finished with value: 2563997795.0 and parameters: {'hash_table_size': 8, 'K_START': 0.054298695944852794, 'K_END': 0.06576508780108391, 'K_H': 0.2857620785302669, 'PURCHASE_TURN_LIMIT': 832, 'ROUGH_HASH': '0', 'TARGET_BEAM_WIDTH_INCREASE_RATE': 1.1778728512745178, 'TARGET_BEAM_WIDTH_HALF_PROGRES_RATE': 0.7369671938928375, 'MAX_BEAM_WIDTH': 1300}. Best is trial 116 with value: 2571045475.0.\u001b[0m\n"
     ]
    },
    {
     "name": "stdout",
     "output_type": "stream",
     "text": [
      "callback ok\n",
      "index_parallel=6\n",
      "sed -i 6_main.cpp -e 's/^constexpr int hash_table_size = .*;         \\/\\/ OPTIMIZE \\[6, 18\\]$/constexpr int hash_table_size = 8;         \\/\\/ OPTIMIZE [6, 18]/' -e 's/^constexpr double K_START = .*;  \\/\\/ OPTIMIZE \\[0\\.04, 0\\.2\\] LOG$/constexpr double K_START = 0.05423312315471977;  \\/\\/ OPTIMIZE [0.04, 0.2] LOG/' -e 's/^constexpr double K_END = .*;   \\/\\/ OPTIMIZE \\[0\\.03, 0\\.1\\] LOG$/constexpr double K_END = 0.06362926085410013;   \\/\\/ OPTIMIZE [0.03, 0.1] LOG/' -e 's/^constexpr double K_H = .*;      \\/\\/ OPTIMIZE \\[0\\.001, 0\\.999\\]$/constexpr double K_H = 0.3517604106443394;      \\/\\/ OPTIMIZE [0.001, 0.999]/' -e 's/^constexpr short PURCHASE_TURN_LIMIT = .*;  \\/\\/ OPTIMIZE \\[790, 870\\]$/constexpr short PURCHASE_TURN_LIMIT = 837;  \\/\\/ OPTIMIZE [790, 870]/' -e 's/^constexpr int ROUGH_HASH = .*;      \\/\\/ OPTIMIZE {0, 0b00000001, 0b00010001, 0b00010011, 0b00110011}$/constexpr int ROUGH_HASH = 0;      \\/\\/ OPTIMIZE {0, 0b00000001, 0b00010001, 0b00010011, 0b00110011}/' -e 's/^constexpr double TARGET_BEAM_WIDTH_INCREASE_RATE = .*;      \\/\\/ OPTIMIZE \\[0\\.25, 4\\.0\\] LOG$/constexpr double TARGET_BEAM_WIDTH_INCREASE_RATE = 1.3217895998722962;      \\/\\/ OPTIMIZE [0.25, 4.0] LOG/' -e 's/^constexpr double TARGET_BEAM_WIDTH_HALF_PROGRES_RATE = .*;  \\/\\/ OPTIMIZE \\[0\\.02, 0\\.98\\]$/constexpr double TARGET_BEAM_WIDTH_HALF_PROGRES_RATE = 0.9110196134436536;  \\/\\/ OPTIMIZE [0.02, 0.98]/' -e 's/^constexpr auto MAX_BEAM_WIDTH = .*;                        \\/\\/ OPTIMIZE \\[400, 4000\\] LOG$/constexpr auto MAX_BEAM_WIDTH = 827;                        \\/\\/ OPTIMIZE [400, 4000] LOG/'\n",
      "g++ 6_main.cpp -std=gnu++17 -O2 -o 6_main.cpp.out 2> /dev/null\n"
     ]
    },
    {
     "name": "stderr",
     "output_type": "stream",
     "text": [
      "\u001b[32m[I 2021-09-11 15:35:47,813]\u001b[0m Trial 134 finished with value: 2567719847.0 and parameters: {'hash_table_size': 8, 'K_START': 0.07006539858801518, 'K_END': 0.06393568889349234, 'K_H': 0.2937511576717328, 'PURCHASE_TURN_LIMIT': 837, 'ROUGH_HASH': '0', 'TARGET_BEAM_WIDTH_INCREASE_RATE': 1.348299716345071, 'TARGET_BEAM_WIDTH_HALF_PROGRES_RATE': 0.9080691266337332, 'MAX_BEAM_WIDTH': 1292}. Best is trial 116 with value: 2571045475.0.\u001b[0m\n"
     ]
    },
    {
     "name": "stdout",
     "output_type": "stream",
     "text": [
      "callback ok\n",
      "index_parallel=7\n",
      "sed -i 7_main.cpp -e 's/^constexpr int hash_table_size = .*;         \\/\\/ OPTIMIZE \\[6, 18\\]$/constexpr int hash_table_size = 9;         \\/\\/ OPTIMIZE [6, 18]/' -e 's/^constexpr double K_START = .*;  \\/\\/ OPTIMIZE \\[0\\.04, 0\\.2\\] LOG$/constexpr double K_START = 0.05423907814765856;  \\/\\/ OPTIMIZE [0.04, 0.2] LOG/' -e 's/^constexpr double K_END = .*;   \\/\\/ OPTIMIZE \\[0\\.03, 0\\.1\\] LOG$/constexpr double K_END = 0.06391201649429686;   \\/\\/ OPTIMIZE [0.03, 0.1] LOG/' -e 's/^constexpr double K_H = .*;      \\/\\/ OPTIMIZE \\[0\\.001, 0\\.999\\]$/constexpr double K_H = 0.29312360057692644;      \\/\\/ OPTIMIZE [0.001, 0.999]/' -e 's/^constexpr short PURCHASE_TURN_LIMIT = .*;  \\/\\/ OPTIMIZE \\[790, 870\\]$/constexpr short PURCHASE_TURN_LIMIT = 837;  \\/\\/ OPTIMIZE [790, 870]/' -e 's/^constexpr int ROUGH_HASH = .*;      \\/\\/ OPTIMIZE {0, 0b00000001, 0b00010001, 0b00010011, 0b00110011}$/constexpr int ROUGH_HASH = 0;      \\/\\/ OPTIMIZE {0, 0b00000001, 0b00010001, 0b00010011, 0b00110011}/' -e 's/^constexpr double TARGET_BEAM_WIDTH_INCREASE_RATE = .*;      \\/\\/ OPTIMIZE \\[0\\.25, 4\\.0\\] LOG$/constexpr double TARGET_BEAM_WIDTH_INCREASE_RATE = 1.1038930986940996;      \\/\\/ OPTIMIZE [0.25, 4.0] LOG/' -e 's/^constexpr double TARGET_BEAM_WIDTH_HALF_PROGRES_RATE = .*;  \\/\\/ OPTIMIZE \\[0\\.02, 0\\.98\\]$/constexpr double TARGET_BEAM_WIDTH_HALF_PROGRES_RATE = 0.9601612738573779;  \\/\\/ OPTIMIZE [0.02, 0.98]/' -e 's/^constexpr auto MAX_BEAM_WIDTH = .*;                        \\/\\/ OPTIMIZE \\[400, 4000\\] LOG$/constexpr auto MAX_BEAM_WIDTH = 837;                        \\/\\/ OPTIMIZE [400, 4000] LOG/'\n",
      "g++ 7_main.cpp -std=gnu++17 -O2 -o 7_main.cpp.out 2> /dev/null\n"
     ]
    },
    {
     "name": "stderr",
     "output_type": "stream",
     "text": [
      "\u001b[32m[I 2021-09-11 15:36:21,662]\u001b[0m Trial 135 finished with value: 2571256139.0 and parameters: {'hash_table_size': 8, 'K_START': 0.05495691888074033, 'K_END': 0.06374140658356002, 'K_H': 0.2966603766219351, 'PURCHASE_TURN_LIMIT': 832, 'ROUGH_HASH': '0', 'TARGET_BEAM_WIDTH_INCREASE_RATE': 1.1508425942452123, 'TARGET_BEAM_WIDTH_HALF_PROGRES_RATE': 0.9681404026813015, 'MAX_BEAM_WIDTH': 832}. Best is trial 135 with value: 2571256139.0.\u001b[0m\n"
     ]
    },
    {
     "name": "stdout",
     "output_type": "stream",
     "text": [
      "Updated! 2571256139.0\n",
      "callback ok\n",
      "index_parallel=8\n",
      "sed -i 8_main.cpp -e 's/^constexpr int hash_table_size = .*;         \\/\\/ OPTIMIZE \\[6, 18\\]$/constexpr int hash_table_size = 9;         \\/\\/ OPTIMIZE [6, 18]/' -e 's/^constexpr double K_START = .*;  \\/\\/ OPTIMIZE \\[0\\.04, 0\\.2\\] LOG$/constexpr double K_START = 0.05266181740007578;  \\/\\/ OPTIMIZE [0.04, 0.2] LOG/' -e 's/^constexpr double K_END = .*;   \\/\\/ OPTIMIZE \\[0\\.03, 0\\.1\\] LOG$/constexpr double K_END = 0.06397407437484709;   \\/\\/ OPTIMIZE [0.03, 0.1] LOG/' -e 's/^constexpr double K_H = .*;      \\/\\/ OPTIMIZE \\[0\\.001, 0\\.999\\]$/constexpr double K_H = 0.22348228148373103;      \\/\\/ OPTIMIZE [0.001, 0.999]/' -e 's/^constexpr short PURCHASE_TURN_LIMIT = .*;  \\/\\/ OPTIMIZE \\[790, 870\\]$/constexpr short PURCHASE_TURN_LIMIT = 837;  \\/\\/ OPTIMIZE [790, 870]/' -e 's/^constexpr int ROUGH_HASH = .*;      \\/\\/ OPTIMIZE {0, 0b00000001, 0b00010001, 0b00010011, 0b00110011}$/constexpr int ROUGH_HASH = 0;      \\/\\/ OPTIMIZE {0, 0b00000001, 0b00010001, 0b00010011, 0b00110011}/' -e 's/^constexpr double TARGET_BEAM_WIDTH_INCREASE_RATE = .*;      \\/\\/ OPTIMIZE \\[0\\.25, 4\\.0\\] LOG$/constexpr double TARGET_BEAM_WIDTH_INCREASE_RATE = 1.054280701695036;      \\/\\/ OPTIMIZE [0.25, 4.0] LOG/' -e 's/^constexpr double TARGET_BEAM_WIDTH_HALF_PROGRES_RATE = .*;  \\/\\/ OPTIMIZE \\[0\\.02, 0\\.98\\]$/constexpr double TARGET_BEAM_WIDTH_HALF_PROGRES_RATE = 0.8992583942496346;  \\/\\/ OPTIMIZE [0.02, 0.98]/' -e 's/^constexpr auto MAX_BEAM_WIDTH = .*;                        \\/\\/ OPTIMIZE \\[400, 4000\\] LOG$/constexpr auto MAX_BEAM_WIDTH = 827;                        \\/\\/ OPTIMIZE [400, 4000] LOG/'\n",
      "g++ 8_main.cpp -std=gnu++17 -O2 -o 8_main.cpp.out 2> /dev/null\n"
     ]
    },
    {
     "name": "stderr",
     "output_type": "stream",
     "text": [
      "\u001b[32m[I 2021-09-11 15:36:26,833]\u001b[0m Trial 136 finished with value: 2560361555.0 and parameters: {'hash_table_size': 8, 'K_START': 0.06691194417983615, 'K_END': 0.06407627699432547, 'K_H': 0.2353181245371478, 'PURCHASE_TURN_LIMIT': 843, 'ROUGH_HASH': '0', 'TARGET_BEAM_WIDTH_INCREASE_RATE': 1.1564902303220301, 'TARGET_BEAM_WIDTH_HALF_PROGRES_RATE': 0.9674268556335988, 'MAX_BEAM_WIDTH': 839}. Best is trial 135 with value: 2571256139.0.\u001b[0m\n"
     ]
    },
    {
     "name": "stdout",
     "output_type": "stream",
     "text": [
      "callback ok\n",
      "index_parallel=9\n",
      "sed -i 9_main.cpp -e 's/^constexpr int hash_table_size = .*;         \\/\\/ OPTIMIZE \\[6, 18\\]$/constexpr int hash_table_size = 9;         \\/\\/ OPTIMIZE [6, 18]/' -e 's/^constexpr double K_START = .*;  \\/\\/ OPTIMIZE \\[0\\.04, 0\\.2\\] LOG$/constexpr double K_START = 0.05579211788787492;  \\/\\/ OPTIMIZE [0.04, 0.2] LOG/' -e 's/^constexpr double K_END = .*;   \\/\\/ OPTIMIZE \\[0\\.03, 0\\.1\\] LOG$/constexpr double K_END = 0.06405607360515364;   \\/\\/ OPTIMIZE [0.03, 0.1] LOG/' -e 's/^constexpr double K_H = .*;      \\/\\/ OPTIMIZE \\[0\\.001, 0\\.999\\]$/constexpr double K_H = 0.16748175000363424;      \\/\\/ OPTIMIZE [0.001, 0.999]/' -e 's/^constexpr short PURCHASE_TURN_LIMIT = .*;  \\/\\/ OPTIMIZE \\[790, 870\\]$/constexpr short PURCHASE_TURN_LIMIT = 836;  \\/\\/ OPTIMIZE [790, 870]/' -e 's/^constexpr int ROUGH_HASH = .*;      \\/\\/ OPTIMIZE {0, 0b00000001, 0b00010001, 0b00010011, 0b00110011}$/constexpr int ROUGH_HASH = 0;      \\/\\/ OPTIMIZE {0, 0b00000001, 0b00010001, 0b00010011, 0b00110011}/' -e 's/^constexpr double TARGET_BEAM_WIDTH_INCREASE_RATE = .*;      \\/\\/ OPTIMIZE \\[0\\.25, 4\\.0\\] LOG$/constexpr double TARGET_BEAM_WIDTH_INCREASE_RATE = 1.0942060900556907;      \\/\\/ OPTIMIZE [0.25, 4.0] LOG/' -e 's/^constexpr double TARGET_BEAM_WIDTH_HALF_PROGRES_RATE = .*;  \\/\\/ OPTIMIZE \\[0\\.02, 0\\.98\\]$/constexpr double TARGET_BEAM_WIDTH_HALF_PROGRES_RATE = 0.9059494224456381;  \\/\\/ OPTIMIZE [0.02, 0.98]/' -e 's/^constexpr auto MAX_BEAM_WIDTH = .*;                        \\/\\/ OPTIMIZE \\[400, 4000\\] LOG$/constexpr auto MAX_BEAM_WIDTH = 662;                        \\/\\/ OPTIMIZE [400, 4000] LOG/'\n",
      "g++ 9_main.cpp -std=gnu++17 -O2 -o 9_main.cpp.out 2> /dev/null\n"
     ]
    },
    {
     "name": "stderr",
     "output_type": "stream",
     "text": [
      "\u001b[32m[I 2021-09-11 15:40:06,002]\u001b[0m Trial 138 finished with value: 2565097509.0 and parameters: {'hash_table_size': 8, 'K_START': 0.05423312315471977, 'K_END': 0.06362926085410013, 'K_H': 0.3517604106443394, 'PURCHASE_TURN_LIMIT': 837, 'ROUGH_HASH': '0', 'TARGET_BEAM_WIDTH_INCREASE_RATE': 1.3217895998722962, 'TARGET_BEAM_WIDTH_HALF_PROGRES_RATE': 0.9110196134436536, 'MAX_BEAM_WIDTH': 827}. Best is trial 135 with value: 2571256139.0.\u001b[0m\n"
     ]
    },
    {
     "name": "stdout",
     "output_type": "stream",
     "text": [
      "callback ok\n",
      "index_parallel=10\n",
      "sed -i 10_main.cpp -e 's/^constexpr int hash_table_size = .*;         \\/\\/ OPTIMIZE \\[6, 18\\]$/constexpr int hash_table_size = 9;         \\/\\/ OPTIMIZE [6, 18]/' -e 's/^constexpr double K_START = .*;  \\/\\/ OPTIMIZE \\[0\\.04, 0\\.2\\] LOG$/constexpr double K_START = 0.05317841444232102;  \\/\\/ OPTIMIZE [0.04, 0.2] LOG/' -e 's/^constexpr double K_END = .*;   \\/\\/ OPTIMIZE \\[0\\.03, 0\\.1\\] LOG$/constexpr double K_END = 0.06449557054158861;   \\/\\/ OPTIMIZE [0.03, 0.1] LOG/' -e 's/^constexpr double K_H = .*;      \\/\\/ OPTIMIZE \\[0\\.001, 0\\.999\\]$/constexpr double K_H = 0.3520697471700644;      \\/\\/ OPTIMIZE [0.001, 0.999]/' -e 's/^constexpr short PURCHASE_TURN_LIMIT = .*;  \\/\\/ OPTIMIZE \\[790, 870\\]$/constexpr short PURCHASE_TURN_LIMIT = 835;  \\/\\/ OPTIMIZE [790, 870]/' -e 's/^constexpr int ROUGH_HASH = .*;      \\/\\/ OPTIMIZE {0, 0b00000001, 0b00010001, 0b00010011, 0b00110011}$/constexpr int ROUGH_HASH = 0;      \\/\\/ OPTIMIZE {0, 0b00000001, 0b00010001, 0b00010011, 0b00110011}/' -e 's/^constexpr double TARGET_BEAM_WIDTH_INCREASE_RATE = .*;      \\/\\/ OPTIMIZE \\[0\\.25, 4\\.0\\] LOG$/constexpr double TARGET_BEAM_WIDTH_INCREASE_RATE = 1.0947871528388147;      \\/\\/ OPTIMIZE [0.25, 4.0] LOG/' -e 's/^constexpr double TARGET_BEAM_WIDTH_HALF_PROGRES_RATE = .*;  \\/\\/ OPTIMIZE \\[0\\.02, 0\\.98\\]$/constexpr double TARGET_BEAM_WIDTH_HALF_PROGRES_RATE = 0.912062911013787;  \\/\\/ OPTIMIZE [0.02, 0.98]/' -e 's/^constexpr auto MAX_BEAM_WIDTH = .*;                        \\/\\/ OPTIMIZE \\[400, 4000\\] LOG$/constexpr auto MAX_BEAM_WIDTH = 717;                        \\/\\/ OPTIMIZE [400, 4000] LOG/'\n",
      "g++ 10_main.cpp -std=gnu++17 -O2 -o 10_main.cpp.out 2> /dev/null\n"
     ]
    },
    {
     "name": "stderr",
     "output_type": "stream",
     "text": [
      "\u001b[32m[I 2021-09-11 15:40:37,977]\u001b[0m Trial 137 finished with value: 2535868700.0 and parameters: {'hash_table_size': 9, 'K_START': 0.05440781255833196, 'K_END': 0.06367975117438433, 'K_H': 0.16476139459907804, 'PURCHASE_TURN_LIMIT': 843, 'ROUGH_HASH': '0', 'TARGET_BEAM_WIDTH_INCREASE_RATE': 1.1233442887364207, 'TARGET_BEAM_WIDTH_HALF_PROGRES_RATE': 0.9787492674784992, 'MAX_BEAM_WIDTH': 783}. Best is trial 135 with value: 2571256139.0.\u001b[0m\n"
     ]
    },
    {
     "name": "stdout",
     "output_type": "stream",
     "text": [
      "callback ok\n",
      "index_parallel=11\n",
      "sed -i 11_main.cpp -e 's/^constexpr int hash_table_size = .*;         \\/\\/ OPTIMIZE \\[6, 18\\]$/constexpr int hash_table_size = 9;         \\/\\/ OPTIMIZE [6, 18]/' -e 's/^constexpr double K_START = .*;  \\/\\/ OPTIMIZE \\[0\\.04, 0\\.2\\] LOG$/constexpr double K_START = 0.04757271319820666;  \\/\\/ OPTIMIZE [0.04, 0.2] LOG/' -e 's/^constexpr double K_END = .*;   \\/\\/ OPTIMIZE \\[0\\.03, 0\\.1\\] LOG$/constexpr double K_END = 0.06731197689285938;   \\/\\/ OPTIMIZE [0.03, 0.1] LOG/' -e 's/^constexpr double K_H = .*;      \\/\\/ OPTIMIZE \\[0\\.001, 0\\.999\\]$/constexpr double K_H = 0.2980715926948628;      \\/\\/ OPTIMIZE [0.001, 0.999]/' -e 's/^constexpr short PURCHASE_TURN_LIMIT = .*;  \\/\\/ OPTIMIZE \\[790, 870\\]$/constexpr short PURCHASE_TURN_LIMIT = 836;  \\/\\/ OPTIMIZE [790, 870]/' -e 's/^constexpr int ROUGH_HASH = .*;      \\/\\/ OPTIMIZE {0, 0b00000001, 0b00010001, 0b00010011, 0b00110011}$/constexpr int ROUGH_HASH = 0;      \\/\\/ OPTIMIZE {0, 0b00000001, 0b00010001, 0b00010011, 0b00110011}/' -e 's/^constexpr double TARGET_BEAM_WIDTH_INCREASE_RATE = .*;      \\/\\/ OPTIMIZE \\[0\\.25, 4\\.0\\] LOG$/constexpr double TARGET_BEAM_WIDTH_INCREASE_RATE = 1.0833917732011018;      \\/\\/ OPTIMIZE [0.25, 4.0] LOG/' -e 's/^constexpr double TARGET_BEAM_WIDTH_HALF_PROGRES_RATE = .*;  \\/\\/ OPTIMIZE \\[0\\.02, 0\\.98\\]$/constexpr double TARGET_BEAM_WIDTH_HALF_PROGRES_RATE = 0.9091406294864984;  \\/\\/ OPTIMIZE [0.02, 0.98]/' -e 's/^constexpr auto MAX_BEAM_WIDTH = .*;                        \\/\\/ OPTIMIZE \\[400, 4000\\] LOG$/constexpr auto MAX_BEAM_WIDTH = 717;                        \\/\\/ OPTIMIZE [400, 4000] LOG/'\n",
      "g++ 11_main.cpp -std=gnu++17 -O2 -o 11_main.cpp.out 2> /dev/null\n"
     ]
    },
    {
     "name": "stderr",
     "output_type": "stream",
     "text": [
      "\u001b[32m[I 2021-09-11 15:41:15,466]\u001b[0m Trial 139 finished with value: 2547961288.0 and parameters: {'hash_table_size': 9, 'K_START': 0.05423907814765856, 'K_END': 0.06391201649429686, 'K_H': 0.29312360057692644, 'PURCHASE_TURN_LIMIT': 837, 'ROUGH_HASH': '0', 'TARGET_BEAM_WIDTH_INCREASE_RATE': 1.1038930986940996, 'TARGET_BEAM_WIDTH_HALF_PROGRES_RATE': 0.9601612738573779, 'MAX_BEAM_WIDTH': 837}. Best is trial 135 with value: 2571256139.0.\u001b[0m\n"
     ]
    },
    {
     "name": "stdout",
     "output_type": "stream",
     "text": [
      "callback ok\n",
      "index_parallel=0\n",
      "sed -i 0_main.cpp -e 's/^constexpr int hash_table_size = .*;         \\/\\/ OPTIMIZE \\[6, 18\\]$/constexpr int hash_table_size = 7;         \\/\\/ OPTIMIZE [6, 18]/' -e 's/^constexpr double K_START = .*;  \\/\\/ OPTIMIZE \\[0\\.04, 0\\.2\\] LOG$/constexpr double K_START = 0.052487857793365005;  \\/\\/ OPTIMIZE [0.04, 0.2] LOG/' -e 's/^constexpr double K_END = .*;   \\/\\/ OPTIMIZE \\[0\\.03, 0\\.1\\] LOG$/constexpr double K_END = 0.06651508257676458;   \\/\\/ OPTIMIZE [0.03, 0.1] LOG/' -e 's/^constexpr double K_H = .*;      \\/\\/ OPTIMIZE \\[0\\.001, 0\\.999\\]$/constexpr double K_H = 0.2509535734784934;      \\/\\/ OPTIMIZE [0.001, 0.999]/' -e 's/^constexpr short PURCHASE_TURN_LIMIT = .*;  \\/\\/ OPTIMIZE \\[790, 870\\]$/constexpr short PURCHASE_TURN_LIMIT = 836;  \\/\\/ OPTIMIZE [790, 870]/' -e 's/^constexpr int ROUGH_HASH = .*;      \\/\\/ OPTIMIZE {0, 0b00000001, 0b00010001, 0b00010011, 0b00110011}$/constexpr int ROUGH_HASH = 0;      \\/\\/ OPTIMIZE {0, 0b00000001, 0b00010001, 0b00010011, 0b00110011}/' -e 's/^constexpr double TARGET_BEAM_WIDTH_INCREASE_RATE = .*;      \\/\\/ OPTIMIZE \\[0\\.25, 4\\.0\\] LOG$/constexpr double TARGET_BEAM_WIDTH_INCREASE_RATE = 1.3459177600873486;      \\/\\/ OPTIMIZE [0.25, 4.0] LOG/' -e 's/^constexpr double TARGET_BEAM_WIDTH_HALF_PROGRES_RATE = .*;  \\/\\/ OPTIMIZE \\[0\\.02, 0\\.98\\]$/constexpr double TARGET_BEAM_WIDTH_HALF_PROGRES_RATE = 0.908426861403681;  \\/\\/ OPTIMIZE [0.02, 0.98]/' -e 's/^constexpr auto MAX_BEAM_WIDTH = .*;                        \\/\\/ OPTIMIZE \\[400, 4000\\] LOG$/constexpr auto MAX_BEAM_WIDTH = 651;                        \\/\\/ OPTIMIZE [400, 4000] LOG/'\n",
      "g++ 0_main.cpp -std=gnu++17 -O2 -o 0_main.cpp.out 2> /dev/null\n"
     ]
    },
    {
     "name": "stderr",
     "output_type": "stream",
     "text": [
      "\u001b[32m[I 2021-09-11 15:41:49,579]\u001b[0m Trial 140 finished with value: 2538184594.0 and parameters: {'hash_table_size': 9, 'K_START': 0.05266181740007578, 'K_END': 0.06397407437484709, 'K_H': 0.22348228148373103, 'PURCHASE_TURN_LIMIT': 837, 'ROUGH_HASH': '0', 'TARGET_BEAM_WIDTH_INCREASE_RATE': 1.054280701695036, 'TARGET_BEAM_WIDTH_HALF_PROGRES_RATE': 0.8992583942496346, 'MAX_BEAM_WIDTH': 827}. Best is trial 135 with value: 2571256139.0.\u001b[0m\n"
     ]
    },
    {
     "name": "stdout",
     "output_type": "stream",
     "text": [
      "callback ok\n",
      "index_parallel=1\n",
      "sed -i 1_main.cpp -e 's/^constexpr int hash_table_size = .*;         \\/\\/ OPTIMIZE \\[6, 18\\]$/constexpr int hash_table_size = 8;         \\/\\/ OPTIMIZE [6, 18]/' -e 's/^constexpr double K_START = .*;  \\/\\/ OPTIMIZE \\[0\\.04, 0\\.2\\] LOG$/constexpr double K_START = 0.047918373873178925;  \\/\\/ OPTIMIZE [0.04, 0.2] LOG/' -e 's/^constexpr double K_END = .*;   \\/\\/ OPTIMIZE \\[0\\.03, 0\\.1\\] LOG$/constexpr double K_END = 0.05870180995378591;   \\/\\/ OPTIMIZE [0.03, 0.1] LOG/' -e 's/^constexpr double K_H = .*;      \\/\\/ OPTIMIZE \\[0\\.001, 0\\.999\\]$/constexpr double K_H = 0.2527184793529087;      \\/\\/ OPTIMIZE [0.001, 0.999]/' -e 's/^constexpr short PURCHASE_TURN_LIMIT = .*;  \\/\\/ OPTIMIZE \\[790, 870\\]$/constexpr short PURCHASE_TURN_LIMIT = 836;  \\/\\/ OPTIMIZE [790, 870]/' -e 's/^constexpr int ROUGH_HASH = .*;      \\/\\/ OPTIMIZE {0, 0b00000001, 0b00010001, 0b00010011, 0b00110011}$/constexpr int ROUGH_HASH = 0;      \\/\\/ OPTIMIZE {0, 0b00000001, 0b00010001, 0b00010011, 0b00110011}/' -e 's/^constexpr double TARGET_BEAM_WIDTH_INCREASE_RATE = .*;      \\/\\/ OPTIMIZE \\[0\\.25, 4\\.0\\] LOG$/constexpr double TARGET_BEAM_WIDTH_INCREASE_RATE = 1.3384614105608788;      \\/\\/ OPTIMIZE [0.25, 4.0] LOG/' -e 's/^constexpr double TARGET_BEAM_WIDTH_HALF_PROGRES_RATE = .*;  \\/\\/ OPTIMIZE \\[0\\.02, 0\\.98\\]$/constexpr double TARGET_BEAM_WIDTH_HALF_PROGRES_RATE = 0.8950973791351179;  \\/\\/ OPTIMIZE [0.02, 0.98]/' -e 's/^constexpr auto MAX_BEAM_WIDTH = .*;                        \\/\\/ OPTIMIZE \\[400, 4000\\] LOG$/constexpr auto MAX_BEAM_WIDTH = 719;                        \\/\\/ OPTIMIZE [400, 4000] LOG/'\n",
      "g++ 1_main.cpp -std=gnu++17 -O2 -o 1_main.cpp.out 2> /dev/null\n"
     ]
    },
    {
     "name": "stderr",
     "output_type": "stream",
     "text": [
      "\u001b[32m[I 2021-09-11 15:41:54,733]\u001b[0m Trial 141 finished with value: 2548667820.0 and parameters: {'hash_table_size': 9, 'K_START': 0.05579211788787492, 'K_END': 0.06405607360515364, 'K_H': 0.16748175000363424, 'PURCHASE_TURN_LIMIT': 836, 'ROUGH_HASH': '0', 'TARGET_BEAM_WIDTH_INCREASE_RATE': 1.0942060900556907, 'TARGET_BEAM_WIDTH_HALF_PROGRES_RATE': 0.9059494224456381, 'MAX_BEAM_WIDTH': 662}. Best is trial 135 with value: 2571256139.0.\u001b[0m\n"
     ]
    },
    {
     "name": "stdout",
     "output_type": "stream",
     "text": [
      "callback ok\n",
      "index_parallel=2\n",
      "sed -i 2_main.cpp -e 's/^constexpr int hash_table_size = .*;         \\/\\/ OPTIMIZE \\[6, 18\\]$/constexpr int hash_table_size = 8;         \\/\\/ OPTIMIZE [6, 18]/' -e 's/^constexpr double K_START = .*;  \\/\\/ OPTIMIZE \\[0\\.04, 0\\.2\\] LOG$/constexpr double K_START = 0.04707493105061884;  \\/\\/ OPTIMIZE [0.04, 0.2] LOG/' -e 's/^constexpr double K_END = .*;   \\/\\/ OPTIMIZE \\[0\\.03, 0\\.1\\] LOG$/constexpr double K_END = 0.05933385972199572;   \\/\\/ OPTIMIZE [0.03, 0.1] LOG/' -e 's/^constexpr double K_H = .*;      \\/\\/ OPTIMIZE \\[0\\.001, 0\\.999\\]$/constexpr double K_H = 0.35448006762108186;      \\/\\/ OPTIMIZE [0.001, 0.999]/' -e 's/^constexpr short PURCHASE_TURN_LIMIT = .*;  \\/\\/ OPTIMIZE \\[790, 870\\]$/constexpr short PURCHASE_TURN_LIMIT = 834;  \\/\\/ OPTIMIZE [790, 870]/' -e 's/^constexpr int ROUGH_HASH = .*;      \\/\\/ OPTIMIZE {0, 0b00000001, 0b00010001, 0b00010011, 0b00110011}$/constexpr int ROUGH_HASH = 0;      \\/\\/ OPTIMIZE {0, 0b00000001, 0b00010001, 0b00010011, 0b00110011}/' -e 's/^constexpr double TARGET_BEAM_WIDTH_INCREASE_RATE = .*;      \\/\\/ OPTIMIZE \\[0\\.25, 4\\.0\\] LOG$/constexpr double TARGET_BEAM_WIDTH_INCREASE_RATE = 1.3486921208412104;      \\/\\/ OPTIMIZE [0.25, 4.0] LOG/' -e 's/^constexpr double TARGET_BEAM_WIDTH_HALF_PROGRES_RATE = .*;  \\/\\/ OPTIMIZE \\[0\\.02, 0\\.98\\]$/constexpr double TARGET_BEAM_WIDTH_HALF_PROGRES_RATE = 0.9439907281822174;  \\/\\/ OPTIMIZE [0.02, 0.98]/' -e 's/^constexpr auto MAX_BEAM_WIDTH = .*;                        \\/\\/ OPTIMIZE \\[400, 4000\\] LOG$/constexpr auto MAX_BEAM_WIDTH = 704;                        \\/\\/ OPTIMIZE [400, 4000] LOG/'\n",
      "g++ 2_main.cpp -std=gnu++17 -O2 -o 2_main.cpp.out 2> /dev/null\n"
     ]
    },
    {
     "name": "stderr",
     "output_type": "stream",
     "text": [
      "\u001b[32m[I 2021-09-11 15:43:42,466]\u001b[0m Trial 144 finished with value: 2512760040.0 and parameters: {'hash_table_size': 7, 'K_START': 0.052487857793365005, 'K_END': 0.06651508257676458, 'K_H': 0.2509535734784934, 'PURCHASE_TURN_LIMIT': 836, 'ROUGH_HASH': '0', 'TARGET_BEAM_WIDTH_INCREASE_RATE': 1.3459177600873486, 'TARGET_BEAM_WIDTH_HALF_PROGRES_RATE': 0.908426861403681, 'MAX_BEAM_WIDTH': 651}. Best is trial 135 with value: 2571256139.0.\u001b[0m\n"
     ]
    },
    {
     "name": "stdout",
     "output_type": "stream",
     "text": [
      "callback ok\n",
      "index_parallel=3\n",
      "sed -i 3_main.cpp -e 's/^constexpr int hash_table_size = .*;         \\/\\/ OPTIMIZE \\[6, 18\\]$/constexpr int hash_table_size = 8;         \\/\\/ OPTIMIZE [6, 18]/' -e 's/^constexpr double K_START = .*;  \\/\\/ OPTIMIZE \\[0\\.04, 0\\.2\\] LOG$/constexpr double K_START = 0.04804633187833154;  \\/\\/ OPTIMIZE [0.04, 0.2] LOG/' -e 's/^constexpr double K_END = .*;   \\/\\/ OPTIMIZE \\[0\\.03, 0\\.1\\] LOG$/constexpr double K_END = 0.059221383546862905;   \\/\\/ OPTIMIZE [0.03, 0.1] LOG/' -e 's/^constexpr double K_H = .*;      \\/\\/ OPTIMIZE \\[0\\.001, 0\\.999\\]$/constexpr double K_H = 0.35217979363278884;      \\/\\/ OPTIMIZE [0.001, 0.999]/' -e 's/^constexpr short PURCHASE_TURN_LIMIT = .*;  \\/\\/ OPTIMIZE \\[790, 870\\]$/constexpr short PURCHASE_TURN_LIMIT = 834;  \\/\\/ OPTIMIZE [790, 870]/' -e 's/^constexpr int ROUGH_HASH = .*;      \\/\\/ OPTIMIZE {0, 0b00000001, 0b00010001, 0b00010011, 0b00110011}$/constexpr int ROUGH_HASH = 0;      \\/\\/ OPTIMIZE {0, 0b00000001, 0b00010001, 0b00010011, 0b00110011}/' -e 's/^constexpr double TARGET_BEAM_WIDTH_INCREASE_RATE = .*;      \\/\\/ OPTIMIZE \\[0\\.25, 4\\.0\\] LOG$/constexpr double TARGET_BEAM_WIDTH_INCREASE_RATE = 1.4059653276620423;      \\/\\/ OPTIMIZE [0.25, 4.0] LOG/' -e 's/^constexpr double TARGET_BEAM_WIDTH_HALF_PROGRES_RATE = .*;  \\/\\/ OPTIMIZE \\[0\\.02, 0\\.98\\]$/constexpr double TARGET_BEAM_WIDTH_HALF_PROGRES_RATE = 0.8813798622852757;  \\/\\/ OPTIMIZE [0.02, 0.98]/' -e 's/^constexpr auto MAX_BEAM_WIDTH = .*;                        \\/\\/ OPTIMIZE \\[400, 4000\\] LOG$/constexpr auto MAX_BEAM_WIDTH = 711;                        \\/\\/ OPTIMIZE [400, 4000] LOG/'\n",
      "g++ 3_main.cpp -std=gnu++17 -O2 -o 3_main.cpp.out 2> /dev/null\n"
     ]
    },
    {
     "name": "stderr",
     "output_type": "stream",
     "text": [
      "\u001b[32m[I 2021-09-11 15:45:34,311]\u001b[0m Trial 142 finished with value: 2542580880.0 and parameters: {'hash_table_size': 9, 'K_START': 0.05317841444232102, 'K_END': 0.06449557054158861, 'K_H': 0.3520697471700644, 'PURCHASE_TURN_LIMIT': 835, 'ROUGH_HASH': '0', 'TARGET_BEAM_WIDTH_INCREASE_RATE': 1.0947871528388147, 'TARGET_BEAM_WIDTH_HALF_PROGRES_RATE': 0.912062911013787, 'MAX_BEAM_WIDTH': 717}. Best is trial 135 with value: 2571256139.0.\u001b[0m\n"
     ]
    },
    {
     "name": "stdout",
     "output_type": "stream",
     "text": [
      "callback ok\n",
      "index_parallel=4\n",
      "sed -i 4_main.cpp -e 's/^constexpr int hash_table_size = .*;         \\/\\/ OPTIMIZE \\[6, 18\\]$/constexpr int hash_table_size = 8;         \\/\\/ OPTIMIZE [6, 18]/' -e 's/^constexpr double K_START = .*;  \\/\\/ OPTIMIZE \\[0\\.04, 0\\.2\\] LOG$/constexpr double K_START = 0.05693786486687608;  \\/\\/ OPTIMIZE [0.04, 0.2] LOG/' -e 's/^constexpr double K_END = .*;   \\/\\/ OPTIMIZE \\[0\\.03, 0\\.1\\] LOG$/constexpr double K_END = 0.05911238663728524;   \\/\\/ OPTIMIZE [0.03, 0.1] LOG/' -e 's/^constexpr double K_H = .*;      \\/\\/ OPTIMIZE \\[0\\.001, 0\\.999\\]$/constexpr double K_H = 0.3525374295566308;      \\/\\/ OPTIMIZE [0.001, 0.999]/' -e 's/^constexpr short PURCHASE_TURN_LIMIT = .*;  \\/\\/ OPTIMIZE \\[790, 870\\]$/constexpr short PURCHASE_TURN_LIMIT = 840;  \\/\\/ OPTIMIZE [790, 870]/' -e 's/^constexpr int ROUGH_HASH = .*;      \\/\\/ OPTIMIZE {0, 0b00000001, 0b00010001, 0b00010011, 0b00110011}$/constexpr int ROUGH_HASH = 0;      \\/\\/ OPTIMIZE {0, 0b00000001, 0b00010001, 0b00010011, 0b00110011}/' -e 's/^constexpr double TARGET_BEAM_WIDTH_INCREASE_RATE = .*;      \\/\\/ OPTIMIZE \\[0\\.25, 4\\.0\\] LOG$/constexpr double TARGET_BEAM_WIDTH_INCREASE_RATE = 1.394560191197162;      \\/\\/ OPTIMIZE [0.25, 4.0] LOG/' -e 's/^constexpr double TARGET_BEAM_WIDTH_HALF_PROGRES_RATE = .*;  \\/\\/ OPTIMIZE \\[0\\.02, 0\\.98\\]$/constexpr double TARGET_BEAM_WIDTH_HALF_PROGRES_RATE = 0.9544206713108223;  \\/\\/ OPTIMIZE [0.02, 0.98]/' -e 's/^constexpr auto MAX_BEAM_WIDTH = .*;                        \\/\\/ OPTIMIZE \\[400, 4000\\] LOG$/constexpr auto MAX_BEAM_WIDTH = 919;                        \\/\\/ OPTIMIZE [400, 4000] LOG/'\n",
      "g++ 4_main.cpp -std=gnu++17 -O2 -o 4_main.cpp.out 2> /dev/null\n"
     ]
    },
    {
     "name": "stderr",
     "output_type": "stream",
     "text": [
      "\u001b[32m[I 2021-09-11 15:46:05,928]\u001b[0m Trial 145 finished with value: 2559149861.0 and parameters: {'hash_table_size': 8, 'K_START': 0.047918373873178925, 'K_END': 0.05870180995378591, 'K_H': 0.2527184793529087, 'PURCHASE_TURN_LIMIT': 836, 'ROUGH_HASH': '0', 'TARGET_BEAM_WIDTH_INCREASE_RATE': 1.3384614105608788, 'TARGET_BEAM_WIDTH_HALF_PROGRES_RATE': 0.8950973791351179, 'MAX_BEAM_WIDTH': 719}. Best is trial 135 with value: 2571256139.0.\u001b[0m\n"
     ]
    },
    {
     "name": "stdout",
     "output_type": "stream",
     "text": [
      "callback ok\n",
      "index_parallel=5\n"
     ]
    },
    {
     "name": "stderr",
     "output_type": "stream",
     "text": [
      "\u001b[32m[I 2021-09-11 15:46:06,441]\u001b[0m Trial 143 finished with value: 2544701415.0 and parameters: {'hash_table_size': 9, 'K_START': 0.04757271319820666, 'K_END': 0.06731197689285938, 'K_H': 0.2980715926948628, 'PURCHASE_TURN_LIMIT': 836, 'ROUGH_HASH': '0', 'TARGET_BEAM_WIDTH_INCREASE_RATE': 1.0833917732011018, 'TARGET_BEAM_WIDTH_HALF_PROGRES_RATE': 0.9091406294864984, 'MAX_BEAM_WIDTH': 717}. Best is trial 135 with value: 2571256139.0.\u001b[0m\n"
     ]
    },
    {
     "name": "stdout",
     "output_type": "stream",
     "text": [
      "callback ok\n",
      "index_parallel=6\n",
      "sed -i 5_main.cpp -e 's/^constexpr int hash_table_size = .*;         \\/\\/ OPTIMIZE \\[6, 18\\]$/constexpr int hash_table_size = 8;         \\/\\/ OPTIMIZE [6, 18]/' -e 's/^constexpr double K_START = .*;  \\/\\/ OPTIMIZE \\[0\\.04, 0\\.2\\] LOG$/constexpr double K_START = 0.05751326063775045;  \\/\\/ OPTIMIZE [0.04, 0.2] LOG/' -e 's/^constexpr double K_END = .*;   \\/\\/ OPTIMIZE \\[0\\.03, 0\\.1\\] LOG$/constexpr double K_END = 0.062246711778140576;   \\/\\/ OPTIMIZE [0.03, 0.1] LOG/' -e 's/^constexpr double K_H = .*;      \\/\\/ OPTIMIZE \\[0\\.001, 0\\.999\\]$/constexpr double K_H = 0.3489758725105752;      \\/\\/ OPTIMIZE [0.001, 0.999]/' -e 's/^constexpr short PURCHASE_TURN_LIMIT = .*;  \\/\\/ OPTIMIZE \\[790, 870\\]$/constexpr short PURCHASE_TURN_LIMIT = 840;  \\/\\/ OPTIMIZE [790, 870]/' -e 's/^constexpr int ROUGH_HASH = .*;      \\/\\/ OPTIMIZE {0, 0b00000001, 0b00010001, 0b00010011, 0b00110011}$/constexpr int ROUGH_HASH = 0;      \\/\\/ OPTIMIZE {0, 0b00000001, 0b00010001, 0b00010011, 0b00110011}/' -e 's/^constexpr double TARGET_BEAM_WIDTH_INCREASE_RATE = .*;      \\/\\/ OPTIMIZE \\[0\\.25, 4\\.0\\] LOG$/constexpr double TARGET_BEAM_WIDTH_INCREASE_RATE = 1.4337398584256258;      \\/\\/ OPTIMIZE [0.25, 4.0] LOG/' -e 's/^constexpr double TARGET_BEAM_WIDTH_HALF_PROGRES_RATE = .*;  \\/\\/ OPTIMIZE \\[0\\.02, 0\\.98\\]$/constexpr double TARGET_BEAM_WIDTH_HALF_PROGRES_RATE = 0.9364202440899378;  \\/\\/ OPTIMIZE [0.02, 0.98]/' -e 's/^constexpr auto MAX_BEAM_WIDTH = .*;                        \\/\\/ OPTIMIZE \\[400, 4000\\] LOG$/constexpr auto MAX_BEAM_WIDTH = 928;                        \\/\\/ OPTIMIZE [400, 4000] LOG/'\n",
      "g++ 5_main.cpp -std=gnu++17 -O2 -o 5_main.cpp.out 2> /dev/null\n",
      "sed -i 6_main.cpp -e 's/^constexpr int hash_table_size = .*;         \\/\\/ OPTIMIZE \\[6, 18\\]$/constexpr int hash_table_size = 8;         \\/\\/ OPTIMIZE [6, 18]/' -e 's/^constexpr double K_START = .*;  \\/\\/ OPTIMIZE \\[0\\.04, 0\\.2\\] LOG$/constexpr double K_START = 0.07748965853822752;  \\/\\/ OPTIMIZE [0.04, 0.2] LOG/' -e 's/^constexpr double K_END = .*;   \\/\\/ OPTIMIZE \\[0\\.03, 0\\.1\\] LOG$/constexpr double K_END = 0.059505056124751675;   \\/\\/ OPTIMIZE [0.03, 0.1] LOG/' -e 's/^constexpr double K_H = .*;      \\/\\/ OPTIMIZE \\[0\\.001, 0\\.999\\]$/constexpr double K_H = 0.35382289569107767;      \\/\\/ OPTIMIZE [0.001, 0.999]/' -e 's/^constexpr short PURCHASE_TURN_LIMIT = .*;  \\/\\/ OPTIMIZE \\[790, 870\\]$/constexpr short PURCHASE_TURN_LIMIT = 834;  \\/\\/ OPTIMIZE [790, 870]/' -e 's/^constexpr int ROUGH_HASH = .*;      \\/\\/ OPTIMIZE {0, 0b00000001, 0b00010001, 0b00010011, 0b00110011}$/constexpr int ROUGH_HASH = 0;      \\/\\/ OPTIMIZE {0, 0b00000001, 0b00010001, 0b00010011, 0b00110011}/' -e 's/^constexpr double TARGET_BEAM_WIDTH_INCREASE_RATE = .*;      \\/\\/ OPTIMIZE \\[0\\.25, 4\\.0\\] LOG$/constexpr double TARGET_BEAM_WIDTH_INCREASE_RATE = 1.407341730996002;      \\/\\/ OPTIMIZE [0.25, 4.0] LOG/' -e 's/^constexpr double TARGET_BEAM_WIDTH_HALF_PROGRES_RATE = .*;  \\/\\/ OPTIMIZE \\[0\\.02, 0\\.98\\]$/constexpr double TARGET_BEAM_WIDTH_HALF_PROGRES_RATE = 0.9475972631985615;  \\/\\/ OPTIMIZE [0.02, 0.98]/' -e 's/^constexpr auto MAX_BEAM_WIDTH = .*;                        \\/\\/ OPTIMIZE \\[400, 4000\\] LOG$/constexpr auto MAX_BEAM_WIDTH = 916;                        \\/\\/ OPTIMIZE [400, 4000] LOG/'\n",
      "g++ 6_main.cpp -std=gnu++17 -O2 -o 6_main.cpp.out 2> /dev/null\n"
     ]
    },
    {
     "name": "stderr",
     "output_type": "stream",
     "text": [
      "\u001b[32m[I 2021-09-11 15:46:10,641]\u001b[0m Trial 146 finished with value: 2565479889.0 and parameters: {'hash_table_size': 8, 'K_START': 0.04707493105061884, 'K_END': 0.05933385972199572, 'K_H': 0.35448006762108186, 'PURCHASE_TURN_LIMIT': 834, 'ROUGH_HASH': '0', 'TARGET_BEAM_WIDTH_INCREASE_RATE': 1.3486921208412104, 'TARGET_BEAM_WIDTH_HALF_PROGRES_RATE': 0.9439907281822174, 'MAX_BEAM_WIDTH': 704}. Best is trial 135 with value: 2571256139.0.\u001b[0m\n"
     ]
    },
    {
     "name": "stdout",
     "output_type": "stream",
     "text": [
      "callback ok\n",
      "index_parallel=7\n",
      "sed -i 7_main.cpp -e 's/^constexpr int hash_table_size = .*;         \\/\\/ OPTIMIZE \\[6, 18\\]$/constexpr int hash_table_size = 8;         \\/\\/ OPTIMIZE [6, 18]/' -e 's/^constexpr double K_START = .*;  \\/\\/ OPTIMIZE \\[0\\.04, 0\\.2\\] LOG$/constexpr double K_START = 0.055458173756852296;  \\/\\/ OPTIMIZE [0.04, 0.2] LOG/' -e 's/^constexpr double K_END = .*;   \\/\\/ OPTIMIZE \\[0\\.03, 0\\.1\\] LOG$/constexpr double K_END = 0.061961288432854686;   \\/\\/ OPTIMIZE [0.03, 0.1] LOG/' -e 's/^constexpr double K_H = .*;      \\/\\/ OPTIMIZE \\[0\\.001, 0\\.999\\]$/constexpr double K_H = 0.36493566695049506;      \\/\\/ OPTIMIZE [0.001, 0.999]/' -e 's/^constexpr short PURCHASE_TURN_LIMIT = .*;  \\/\\/ OPTIMIZE \\[790, 870\\]$/constexpr short PURCHASE_TURN_LIMIT = 840;  \\/\\/ OPTIMIZE [790, 870]/' -e 's/^constexpr int ROUGH_HASH = .*;      \\/\\/ OPTIMIZE {0, 0b00000001, 0b00010001, 0b00010011, 0b00110011}$/constexpr int ROUGH_HASH = 0;      \\/\\/ OPTIMIZE {0, 0b00000001, 0b00010001, 0b00010011, 0b00110011}/' -e 's/^constexpr double TARGET_BEAM_WIDTH_INCREASE_RATE = .*;      \\/\\/ OPTIMIZE \\[0\\.25, 4\\.0\\] LOG$/constexpr double TARGET_BEAM_WIDTH_INCREASE_RATE = 1.448970713972821;      \\/\\/ OPTIMIZE [0.25, 4.0] LOG/' -e 's/^constexpr double TARGET_BEAM_WIDTH_HALF_PROGRES_RATE = .*;  \\/\\/ OPTIMIZE \\[0\\.02, 0\\.98\\]$/constexpr double TARGET_BEAM_WIDTH_HALF_PROGRES_RATE = 0.9578709578959274;  \\/\\/ OPTIMIZE [0.02, 0.98]/' -e 's/^constexpr auto MAX_BEAM_WIDTH = .*;                        \\/\\/ OPTIMIZE \\[400, 4000\\] LOG$/constexpr auto MAX_BEAM_WIDTH = 759;                        \\/\\/ OPTIMIZE [400, 4000] LOG/'\n",
      "g++ 7_main.cpp -std=gnu++17 -O2 -o 7_main.cpp.out 2> /dev/null\n"
     ]
    },
    {
     "name": "stderr",
     "output_type": "stream",
     "text": [
      "\u001b[32m[I 2021-09-11 15:47:56,362]\u001b[0m Trial 147 finished with value: 2563604062.0 and parameters: {'hash_table_size': 8, 'K_START': 0.04804633187833154, 'K_END': 0.059221383546862905, 'K_H': 0.35217979363278884, 'PURCHASE_TURN_LIMIT': 834, 'ROUGH_HASH': '0', 'TARGET_BEAM_WIDTH_INCREASE_RATE': 1.4059653276620423, 'TARGET_BEAM_WIDTH_HALF_PROGRES_RATE': 0.8813798622852757, 'MAX_BEAM_WIDTH': 711}. Best is trial 135 with value: 2571256139.0.\u001b[0m\n"
     ]
    },
    {
     "name": "stdout",
     "output_type": "stream",
     "text": [
      "callback ok\n",
      "index_parallel=8\n",
      "sed -i 8_main.cpp -e 's/^constexpr int hash_table_size = .*;         \\/\\/ OPTIMIZE \\[6, 18\\]$/constexpr int hash_table_size = 8;         \\/\\/ OPTIMIZE [6, 18]/' -e 's/^constexpr double K_START = .*;  \\/\\/ OPTIMIZE \\[0\\.04, 0\\.2\\] LOG$/constexpr double K_START = 0.05758573939018726;  \\/\\/ OPTIMIZE [0.04, 0.2] LOG/' -e 's/^constexpr double K_END = .*;   \\/\\/ OPTIMIZE \\[0\\.03, 0\\.1\\] LOG$/constexpr double K_END = 0.062051849886473665;   \\/\\/ OPTIMIZE [0.03, 0.1] LOG/' -e 's/^constexpr double K_H = .*;      \\/\\/ OPTIMIZE \\[0\\.001, 0\\.999\\]$/constexpr double K_H = 0.37976310360347526;      \\/\\/ OPTIMIZE [0.001, 0.999]/' -e 's/^constexpr short PURCHASE_TURN_LIMIT = .*;  \\/\\/ OPTIMIZE \\[790, 870\\]$/constexpr short PURCHASE_TURN_LIMIT = 840;  \\/\\/ OPTIMIZE [790, 870]/' -e 's/^constexpr int ROUGH_HASH = .*;      \\/\\/ OPTIMIZE {0, 0b00000001, 0b00010001, 0b00010011, 0b00110011}$/constexpr int ROUGH_HASH = 0;      \\/\\/ OPTIMIZE {0, 0b00000001, 0b00010001, 0b00010011, 0b00110011}/' -e 's/^constexpr double TARGET_BEAM_WIDTH_INCREASE_RATE = .*;      \\/\\/ OPTIMIZE \\[0\\.25, 4\\.0\\] LOG$/constexpr double TARGET_BEAM_WIDTH_INCREASE_RATE = 0.9270934757204777;      \\/\\/ OPTIMIZE [0.25, 4.0] LOG/' -e 's/^constexpr double TARGET_BEAM_WIDTH_HALF_PROGRES_RATE = .*;  \\/\\/ OPTIMIZE \\[0\\.02, 0\\.98\\]$/constexpr double TARGET_BEAM_WIDTH_HALF_PROGRES_RATE = 0.946007266661029;  \\/\\/ OPTIMIZE [0.02, 0.98]/' -e 's/^constexpr auto MAX_BEAM_WIDTH = .*;                        \\/\\/ OPTIMIZE \\[400, 4000\\] LOG$/constexpr auto MAX_BEAM_WIDTH = 747;                        \\/\\/ OPTIMIZE [400, 4000] LOG/'\n",
      "g++ 8_main.cpp -std=gnu++17 -O2 -o 8_main.cpp.out 2> /dev/null\n"
     ]
    },
    {
     "name": "stderr",
     "output_type": "stream",
     "text": [
      "\u001b[32m[I 2021-09-11 15:49:53,972]\u001b[0m Trial 148 finished with value: 2569218560.0 and parameters: {'hash_table_size': 8, 'K_START': 0.05693786486687608, 'K_END': 0.05911238663728524, 'K_H': 0.3525374295566308, 'PURCHASE_TURN_LIMIT': 840, 'ROUGH_HASH': '0', 'TARGET_BEAM_WIDTH_INCREASE_RATE': 1.394560191197162, 'TARGET_BEAM_WIDTH_HALF_PROGRES_RATE': 0.9544206713108223, 'MAX_BEAM_WIDTH': 919}. Best is trial 135 with value: 2571256139.0.\u001b[0m\n"
     ]
    },
    {
     "name": "stdout",
     "output_type": "stream",
     "text": [
      "callback ok\n",
      "index_parallel=9\n",
      "sed -i 9_main.cpp -e 's/^constexpr int hash_table_size = .*;         \\/\\/ OPTIMIZE \\[6, 18\\]$/constexpr int hash_table_size = 7;         \\/\\/ OPTIMIZE [6, 18]/' -e 's/^constexpr double K_START = .*;  \\/\\/ OPTIMIZE \\[0\\.04, 0\\.2\\] LOG$/constexpr double K_START = 0.05728426214239888;  \\/\\/ OPTIMIZE [0.04, 0.2] LOG/' -e 's/^constexpr double K_END = .*;   \\/\\/ OPTIMIZE \\[0\\.03, 0\\.1\\] LOG$/constexpr double K_END = 0.0659501514053163;   \\/\\/ OPTIMIZE [0.03, 0.1] LOG/' -e 's/^constexpr double K_H = .*;      \\/\\/ OPTIMIZE \\[0\\.001, 0\\.999\\]$/constexpr double K_H = 0.3742265741909946;      \\/\\/ OPTIMIZE [0.001, 0.999]/' -e 's/^constexpr short PURCHASE_TURN_LIMIT = .*;  \\/\\/ OPTIMIZE \\[790, 870\\]$/constexpr short PURCHASE_TURN_LIMIT = 847;  \\/\\/ OPTIMIZE [790, 870]/' -e 's/^constexpr int ROUGH_HASH = .*;      \\/\\/ OPTIMIZE {0, 0b00000001, 0b00010001, 0b00010011, 0b00110011}$/constexpr int ROUGH_HASH = 0;      \\/\\/ OPTIMIZE {0, 0b00000001, 0b00010001, 0b00010011, 0b00110011}/' -e 's/^constexpr double TARGET_BEAM_WIDTH_INCREASE_RATE = .*;      \\/\\/ OPTIMIZE \\[0\\.25, 4\\.0\\] LOG$/constexpr double TARGET_BEAM_WIDTH_INCREASE_RATE = 1.2085401947928796;      \\/\\/ OPTIMIZE [0.25, 4.0] LOG/' -e 's/^constexpr double TARGET_BEAM_WIDTH_HALF_PROGRES_RATE = .*;  \\/\\/ OPTIMIZE \\[0\\.02, 0\\.98\\]$/constexpr double TARGET_BEAM_WIDTH_HALF_PROGRES_RATE = 0.9437028514646334;  \\/\\/ OPTIMIZE [0.02, 0.98]/' -e 's/^constexpr auto MAX_BEAM_WIDTH = .*;                        \\/\\/ OPTIMIZE \\[400, 4000\\] LOG$/constexpr auto MAX_BEAM_WIDTH = 751;                        \\/\\/ OPTIMIZE [400, 4000] LOG/'\n",
      "g++ 9_main.cpp -std=gnu++17 -O2 -o 9_main.cpp.out 2> /dev/null\n"
     ]
    },
    {
     "name": "stderr",
     "output_type": "stream",
     "text": [
      "\u001b[32m[I 2021-09-11 15:50:25,172]\u001b[0m Trial 149 finished with value: 2564166007.0 and parameters: {'hash_table_size': 8, 'K_START': 0.05751326063775045, 'K_END': 0.062246711778140576, 'K_H': 0.3489758725105752, 'PURCHASE_TURN_LIMIT': 840, 'ROUGH_HASH': '0', 'TARGET_BEAM_WIDTH_INCREASE_RATE': 1.4337398584256258, 'TARGET_BEAM_WIDTH_HALF_PROGRES_RATE': 0.9364202440899378, 'MAX_BEAM_WIDTH': 928}. Best is trial 135 with value: 2571256139.0.\u001b[0m\n"
     ]
    },
    {
     "name": "stdout",
     "output_type": "stream",
     "text": [
      "callback ok\n",
      "index_parallel=10\n",
      "sed -i 10_main.cpp -e 's/^constexpr int hash_table_size = .*;         \\/\\/ OPTIMIZE \\[6, 18\\]$/constexpr int hash_table_size = 7;         \\/\\/ OPTIMIZE [6, 18]/' -e 's/^constexpr double K_START = .*;  \\/\\/ OPTIMIZE \\[0\\.04, 0\\.2\\] LOG$/constexpr double K_START = 0.05497462575031857;  \\/\\/ OPTIMIZE [0.04, 0.2] LOG/' -e 's/^constexpr double K_END = .*;   \\/\\/ OPTIMIZE \\[0\\.03, 0\\.1\\] LOG$/constexpr double K_END = 0.06536330144253681;   \\/\\/ OPTIMIZE [0.03, 0.1] LOG/' -e 's/^constexpr double K_H = .*;      \\/\\/ OPTIMIZE \\[0\\.001, 0\\.999\\]$/constexpr double K_H = 0.27061624567087106;      \\/\\/ OPTIMIZE [0.001, 0.999]/' -e 's/^constexpr short PURCHASE_TURN_LIMIT = .*;  \\/\\/ OPTIMIZE \\[790, 870\\]$/constexpr short PURCHASE_TURN_LIMIT = 847;  \\/\\/ OPTIMIZE [790, 870]/' -e 's/^constexpr int ROUGH_HASH = .*;      \\/\\/ OPTIMIZE {0, 0b00000001, 0b00010001, 0b00010011, 0b00110011}$/constexpr int ROUGH_HASH = 0;      \\/\\/ OPTIMIZE {0, 0b00000001, 0b00010001, 0b00010011, 0b00110011}/' -e 's/^constexpr double TARGET_BEAM_WIDTH_INCREASE_RATE = .*;      \\/\\/ OPTIMIZE \\[0\\.25, 4\\.0\\] LOG$/constexpr double TARGET_BEAM_WIDTH_INCREASE_RATE = 1.2144090921071649;      \\/\\/ OPTIMIZE [0.25, 4.0] LOG/' -e 's/^constexpr double TARGET_BEAM_WIDTH_HALF_PROGRES_RATE = .*;  \\/\\/ OPTIMIZE \\[0\\.02, 0\\.98\\]$/constexpr double TARGET_BEAM_WIDTH_HALF_PROGRES_RATE = 0.9450128859016709;  \\/\\/ OPTIMIZE [0.02, 0.98]/' -e 's/^constexpr auto MAX_BEAM_WIDTH = .*;                        \\/\\/ OPTIMIZE \\[400, 4000\\] LOG$/constexpr auto MAX_BEAM_WIDTH = 765;                        \\/\\/ OPTIMIZE [400, 4000] LOG/'\n",
      "g++ 10_main.cpp -std=gnu++17 -O2 -o 10_main.cpp.out 2> /dev/null\n"
     ]
    },
    {
     "name": "stderr",
     "output_type": "stream",
     "text": [
      "\u001b[32m[I 2021-09-11 15:50:27,333]\u001b[0m Trial 150 finished with value: 2569100599.0 and parameters: {'hash_table_size': 8, 'K_START': 0.07748965853822752, 'K_END': 0.059505056124751675, 'K_H': 0.35382289569107767, 'PURCHASE_TURN_LIMIT': 834, 'ROUGH_HASH': '0', 'TARGET_BEAM_WIDTH_INCREASE_RATE': 1.407341730996002, 'TARGET_BEAM_WIDTH_HALF_PROGRES_RATE': 0.9475972631985615, 'MAX_BEAM_WIDTH': 916}. Best is trial 135 with value: 2571256139.0.\u001b[0m\n"
     ]
    },
    {
     "name": "stdout",
     "output_type": "stream",
     "text": [
      "callback ok\n",
      "index_parallel=11\n",
      "sed -i 11_main.cpp -e 's/^constexpr int hash_table_size = .*;         \\/\\/ OPTIMIZE \\[6, 18\\]$/constexpr int hash_table_size = 8;         \\/\\/ OPTIMIZE [6, 18]/' -e 's/^constexpr double K_START = .*;  \\/\\/ OPTIMIZE \\[0\\.04, 0\\.2\\] LOG$/constexpr double K_START = 0.05564886400636832;  \\/\\/ OPTIMIZE [0.04, 0.2] LOG/' -e 's/^constexpr double K_END = .*;   \\/\\/ OPTIMIZE \\[0\\.03, 0\\.1\\] LOG$/constexpr double K_END = 0.0619559325162072;   \\/\\/ OPTIMIZE [0.03, 0.1] LOG/' -e 's/^constexpr double K_H = .*;      \\/\\/ OPTIMIZE \\[0\\.001, 0\\.999\\]$/constexpr double K_H = 0.37165475893065775;      \\/\\/ OPTIMIZE [0.001, 0.999]/' -e 's/^constexpr short PURCHASE_TURN_LIMIT = .*;  \\/\\/ OPTIMIZE \\[790, 870\\]$/constexpr short PURCHASE_TURN_LIMIT = 830;  \\/\\/ OPTIMIZE [790, 870]/' -e 's/^constexpr int ROUGH_HASH = .*;      \\/\\/ OPTIMIZE {0, 0b00000001, 0b00010001, 0b00010011, 0b00110011}$/constexpr int ROUGH_HASH = 0;      \\/\\/ OPTIMIZE {0, 0b00000001, 0b00010001, 0b00010011, 0b00110011}/' -e 's/^constexpr double TARGET_BEAM_WIDTH_INCREASE_RATE = .*;      \\/\\/ OPTIMIZE \\[0\\.25, 4\\.0\\] LOG$/constexpr double TARGET_BEAM_WIDTH_INCREASE_RATE = 1.3026386819034037;      \\/\\/ OPTIMIZE [0.25, 4.0] LOG/' -e 's/^constexpr double TARGET_BEAM_WIDTH_HALF_PROGRES_RATE = .*;  \\/\\/ OPTIMIZE \\[0\\.02, 0\\.98\\]$/constexpr double TARGET_BEAM_WIDTH_HALF_PROGRES_RATE = 0.9381660244026074;  \\/\\/ OPTIMIZE [0.02, 0.98]/' -e 's/^constexpr auto MAX_BEAM_WIDTH = .*;                        \\/\\/ OPTIMIZE \\[400, 4000\\] LOG$/constexpr auto MAX_BEAM_WIDTH = 748;                        \\/\\/ OPTIMIZE [400, 4000] LOG/'\n",
      "g++ 11_main.cpp -std=gnu++17 -O2 -o 11_main.cpp.out 2> /dev/null\n"
     ]
    },
    {
     "name": "stderr",
     "output_type": "stream",
     "text": [
      "\u001b[32m[I 2021-09-11 15:50:29,729]\u001b[0m Trial 151 finished with value: 2564503275.0 and parameters: {'hash_table_size': 8, 'K_START': 0.055458173756852296, 'K_END': 0.061961288432854686, 'K_H': 0.36493566695049506, 'PURCHASE_TURN_LIMIT': 840, 'ROUGH_HASH': '0', 'TARGET_BEAM_WIDTH_INCREASE_RATE': 1.448970713972821, 'TARGET_BEAM_WIDTH_HALF_PROGRES_RATE': 0.9578709578959274, 'MAX_BEAM_WIDTH': 759}. Best is trial 135 with value: 2571256139.0.\u001b[0m\n"
     ]
    },
    {
     "name": "stdout",
     "output_type": "stream",
     "text": [
      "callback ok\n",
      "index_parallel=0\n",
      "sed -i 0_main.cpp -e 's/^constexpr int hash_table_size = .*;         \\/\\/ OPTIMIZE \\[6, 18\\]$/constexpr int hash_table_size = 8;         \\/\\/ OPTIMIZE [6, 18]/' -e 's/^constexpr double K_START = .*;  \\/\\/ OPTIMIZE \\[0\\.04, 0\\.2\\] LOG$/constexpr double K_START = 0.055054708142903266;  \\/\\/ OPTIMIZE [0.04, 0.2] LOG/' -e 's/^constexpr double K_END = .*;   \\/\\/ OPTIMIZE \\[0\\.03, 0\\.1\\] LOG$/constexpr double K_END = 0.06592578683880304;   \\/\\/ OPTIMIZE [0.03, 0.1] LOG/' -e 's/^constexpr double K_H = .*;      \\/\\/ OPTIMIZE \\[0\\.001, 0\\.999\\]$/constexpr double K_H = 0.3999930381776723;      \\/\\/ OPTIMIZE [0.001, 0.999]/' -e 's/^constexpr short PURCHASE_TURN_LIMIT = .*;  \\/\\/ OPTIMIZE \\[790, 870\\]$/constexpr short PURCHASE_TURN_LIMIT = 830;  \\/\\/ OPTIMIZE [790, 870]/' -e 's/^constexpr int ROUGH_HASH = .*;      \\/\\/ OPTIMIZE {0, 0b00000001, 0b00010001, 0b00010011, 0b00110011}$/constexpr int ROUGH_HASH = 0;      \\/\\/ OPTIMIZE {0, 0b00000001, 0b00010001, 0b00010011, 0b00110011}/' -e 's/^constexpr double TARGET_BEAM_WIDTH_INCREASE_RATE = .*;      \\/\\/ OPTIMIZE \\[0\\.25, 4\\.0\\] LOG$/constexpr double TARGET_BEAM_WIDTH_INCREASE_RATE = 1.1968122324960642;      \\/\\/ OPTIMIZE [0.25, 4.0] LOG/' -e 's/^constexpr double TARGET_BEAM_WIDTH_HALF_PROGRES_RATE = .*;  \\/\\/ OPTIMIZE \\[0\\.02, 0\\.98\\]$/constexpr double TARGET_BEAM_WIDTH_HALF_PROGRES_RATE = 0.945410968069573;  \\/\\/ OPTIMIZE [0.02, 0.98]/' -e 's/^constexpr auto MAX_BEAM_WIDTH = .*;                        \\/\\/ OPTIMIZE \\[400, 4000\\] LOG$/constexpr auto MAX_BEAM_WIDTH = 985;                        \\/\\/ OPTIMIZE [400, 4000] LOG/'\n",
      "g++ 0_main.cpp -std=gnu++17 -O2 -o 0_main.cpp.out 2> /dev/null\n"
     ]
    },
    {
     "name": "stderr",
     "output_type": "stream",
     "text": [
      "\u001b[32m[I 2021-09-11 15:52:15,464]\u001b[0m Trial 152 finished with value: 2566085233.0 and parameters: {'hash_table_size': 8, 'K_START': 0.05758573939018726, 'K_END': 0.062051849886473665, 'K_H': 0.37976310360347526, 'PURCHASE_TURN_LIMIT': 840, 'ROUGH_HASH': '0', 'TARGET_BEAM_WIDTH_INCREASE_RATE': 0.9270934757204777, 'TARGET_BEAM_WIDTH_HALF_PROGRES_RATE': 0.946007266661029, 'MAX_BEAM_WIDTH': 747}. Best is trial 135 with value: 2571256139.0.\u001b[0m\n"
     ]
    },
    {
     "name": "stdout",
     "output_type": "stream",
     "text": [
      "callback ok\n",
      "index_parallel=1\n",
      "sed -i 1_main.cpp -e 's/^constexpr int hash_table_size = .*;         \\/\\/ OPTIMIZE \\[6, 18\\]$/constexpr int hash_table_size = 8;         \\/\\/ OPTIMIZE [6, 18]/' -e 's/^constexpr double K_START = .*;  \\/\\/ OPTIMIZE \\[0\\.04, 0\\.2\\] LOG$/constexpr double K_START = 0.07855856963427461;  \\/\\/ OPTIMIZE [0.04, 0.2] LOG/' -e 's/^constexpr double K_END = .*;   \\/\\/ OPTIMIZE \\[0\\.03, 0\\.1\\] LOG$/constexpr double K_END = 0.057853806446531306;   \\/\\/ OPTIMIZE [0.03, 0.1] LOG/' -e 's/^constexpr double K_H = .*;      \\/\\/ OPTIMIZE \\[0\\.001, 0\\.999\\]$/constexpr double K_H = 0.4060705588215073;      \\/\\/ OPTIMIZE [0.001, 0.999]/' -e 's/^constexpr short PURCHASE_TURN_LIMIT = .*;  \\/\\/ OPTIMIZE \\[790, 870\\]$/constexpr short PURCHASE_TURN_LIMIT = 834;  \\/\\/ OPTIMIZE [790, 870]/' -e 's/^constexpr int ROUGH_HASH = .*;      \\/\\/ OPTIMIZE {0, 0b00000001, 0b00010001, 0b00010011, 0b00110011}$/constexpr int ROUGH_HASH = 0;      \\/\\/ OPTIMIZE {0, 0b00000001, 0b00010001, 0b00010011, 0b00110011}/' -e 's/^constexpr double TARGET_BEAM_WIDTH_INCREASE_RATE = .*;      \\/\\/ OPTIMIZE \\[0\\.25, 4\\.0\\] LOG$/constexpr double TARGET_BEAM_WIDTH_INCREASE_RATE = 0.8189379477646309;      \\/\\/ OPTIMIZE [0.25, 4.0] LOG/' -e 's/^constexpr double TARGET_BEAM_WIDTH_HALF_PROGRES_RATE = .*;  \\/\\/ OPTIMIZE \\[0\\.02, 0\\.98\\]$/constexpr double TARGET_BEAM_WIDTH_HALF_PROGRES_RATE = 0.9428150978654923;  \\/\\/ OPTIMIZE [0.02, 0.98]/' -e 's/^constexpr auto MAX_BEAM_WIDTH = .*;                        \\/\\/ OPTIMIZE \\[400, 4000\\] LOG$/constexpr auto MAX_BEAM_WIDTH = 763;                        \\/\\/ OPTIMIZE [400, 4000] LOG/'\n",
      "g++ 1_main.cpp -std=gnu++17 -O2 -o 1_main.cpp.out 2> /dev/null\n"
     ]
    },
    {
     "name": "stderr",
     "output_type": "stream",
     "text": [
      "\u001b[32m[I 2021-09-11 15:52:22,527]\u001b[0m Trial 153 finished with value: 2505783222.0 and parameters: {'hash_table_size': 7, 'K_START': 0.05728426214239888, 'K_END': 0.0659501514053163, 'K_H': 0.3742265741909946, 'PURCHASE_TURN_LIMIT': 847, 'ROUGH_HASH': '0', 'TARGET_BEAM_WIDTH_INCREASE_RATE': 1.2085401947928796, 'TARGET_BEAM_WIDTH_HALF_PROGRES_RATE': 0.9437028514646334, 'MAX_BEAM_WIDTH': 751}. Best is trial 135 with value: 2571256139.0.\u001b[0m\n"
     ]
    },
    {
     "name": "stdout",
     "output_type": "stream",
     "text": [
      "callback ok\n",
      "index_parallel=2\n",
      "sed -i 2_main.cpp -e 's/^constexpr int hash_table_size = .*;         \\/\\/ OPTIMIZE \\[6, 18\\]$/constexpr int hash_table_size = 8;         \\/\\/ OPTIMIZE [6, 18]/' -e 's/^constexpr double K_START = .*;  \\/\\/ OPTIMIZE \\[0\\.04, 0\\.2\\] LOG$/constexpr double K_START = 0.05551490561530023;  \\/\\/ OPTIMIZE [0.04, 0.2] LOG/' -e 's/^constexpr double K_END = .*;   \\/\\/ OPTIMIZE \\[0\\.03, 0\\.1\\] LOG$/constexpr double K_END = 0.057426156866942475;   \\/\\/ OPTIMIZE [0.03, 0.1] LOG/' -e 's/^constexpr double K_H = .*;      \\/\\/ OPTIMIZE \\[0\\.001, 0\\.999\\]$/constexpr double K_H = 0.39917183600916867;      \\/\\/ OPTIMIZE [0.001, 0.999]/' -e 's/^constexpr short PURCHASE_TURN_LIMIT = .*;  \\/\\/ OPTIMIZE \\[790, 870\\]$/constexpr short PURCHASE_TURN_LIMIT = 842;  \\/\\/ OPTIMIZE [790, 870]/' -e 's/^constexpr int ROUGH_HASH = .*;      \\/\\/ OPTIMIZE {0, 0b00000001, 0b00010001, 0b00010011, 0b00110011}$/constexpr int ROUGH_HASH = 0;      \\/\\/ OPTIMIZE {0, 0b00000001, 0b00010001, 0b00010011, 0b00110011}/' -e 's/^constexpr double TARGET_BEAM_WIDTH_INCREASE_RATE = .*;      \\/\\/ OPTIMIZE \\[0\\.25, 4\\.0\\] LOG$/constexpr double TARGET_BEAM_WIDTH_INCREASE_RATE = 0.9253728757809471;      \\/\\/ OPTIMIZE [0.25, 4.0] LOG/' -e 's/^constexpr double TARGET_BEAM_WIDTH_HALF_PROGRES_RATE = .*;  \\/\\/ OPTIMIZE \\[0\\.02, 0\\.98\\]$/constexpr double TARGET_BEAM_WIDTH_HALF_PROGRES_RATE = 0.9499393301539268;  \\/\\/ OPTIMIZE [0.02, 0.98]/' -e 's/^constexpr auto MAX_BEAM_WIDTH = .*;                        \\/\\/ OPTIMIZE \\[400, 4000\\] LOG$/constexpr auto MAX_BEAM_WIDTH = 808;                        \\/\\/ OPTIMIZE [400, 4000] LOG/'\n",
      "g++ 2_main.cpp -std=gnu++17 -O2 -o 2_main.cpp.out 2> /dev/null\n"
     ]
    },
    {
     "name": "stderr",
     "output_type": "stream",
     "text": [
      "\u001b[32m[I 2021-09-11 15:52:54,420]\u001b[0m Trial 154 finished with value: 2509601190.0 and parameters: {'hash_table_size': 7, 'K_START': 0.05497462575031857, 'K_END': 0.06536330144253681, 'K_H': 0.27061624567087106, 'PURCHASE_TURN_LIMIT': 847, 'ROUGH_HASH': '0', 'TARGET_BEAM_WIDTH_INCREASE_RATE': 1.2144090921071649, 'TARGET_BEAM_WIDTH_HALF_PROGRES_RATE': 0.9450128859016709, 'MAX_BEAM_WIDTH': 765}. Best is trial 135 with value: 2571256139.0.\u001b[0m\n"
     ]
    },
    {
     "name": "stdout",
     "output_type": "stream",
     "text": [
      "callback ok\n",
      "index_parallel=3\n",
      "sed -i 3_main.cpp -e 's/^constexpr int hash_table_size = .*;         \\/\\/ OPTIMIZE \\[6, 18\\]$/constexpr int hash_table_size = 13;         \\/\\/ OPTIMIZE [6, 18]/' -e 's/^constexpr double K_START = .*;  \\/\\/ OPTIMIZE \\[0\\.04, 0\\.2\\] LOG$/constexpr double K_START = 0.0795012025430372;  \\/\\/ OPTIMIZE [0.04, 0.2] LOG/' -e 's/^constexpr double K_END = .*;   \\/\\/ OPTIMIZE \\[0\\.03, 0\\.1\\] LOG$/constexpr double K_END = 0.05775333764240182;   \\/\\/ OPTIMIZE [0.03, 0.1] LOG/' -e 's/^constexpr double K_H = .*;      \\/\\/ OPTIMIZE \\[0\\.001, 0\\.999\\]$/constexpr double K_H = 0.30805530303843043;      \\/\\/ OPTIMIZE [0.001, 0.999]/' -e 's/^constexpr short PURCHASE_TURN_LIMIT = .*;  \\/\\/ OPTIMIZE \\[790, 870\\]$/constexpr short PURCHASE_TURN_LIMIT = 834;  \\/\\/ OPTIMIZE [790, 870]/' -e 's/^constexpr int ROUGH_HASH = .*;      \\/\\/ OPTIMIZE {0, 0b00000001, 0b00010001, 0b00010011, 0b00110011}$/constexpr int ROUGH_HASH = 0;      \\/\\/ OPTIMIZE {0, 0b00000001, 0b00010001, 0b00010011, 0b00110011}/' -e 's/^constexpr double TARGET_BEAM_WIDTH_INCREASE_RATE = .*;      \\/\\/ OPTIMIZE \\[0\\.25, 4\\.0\\] LOG$/constexpr double TARGET_BEAM_WIDTH_INCREASE_RATE = 0.8730767309081984;      \\/\\/ OPTIMIZE [0.25, 4.0] LOG/' -e 's/^constexpr double TARGET_BEAM_WIDTH_HALF_PROGRES_RATE = .*;  \\/\\/ OPTIMIZE \\[0\\.02, 0\\.98\\]$/constexpr double TARGET_BEAM_WIDTH_HALF_PROGRES_RATE = 0.930688013650483;  \\/\\/ OPTIMIZE [0.02, 0.98]/' -e 's/^constexpr auto MAX_BEAM_WIDTH = .*;                        \\/\\/ OPTIMIZE \\[400, 4000\\] LOG$/constexpr auto MAX_BEAM_WIDTH = 979;                        \\/\\/ OPTIMIZE [400, 4000] LOG/'\n",
      "g++ 3_main.cpp -std=gnu++17 -O2 -o 3_main.cpp.out 2> /dev/null\n"
     ]
    },
    {
     "name": "stderr",
     "output_type": "stream",
     "text": [
      "\u001b[32m[I 2021-09-11 15:54:40,633]\u001b[0m Trial 155 finished with value: 2565922692.0 and parameters: {'hash_table_size': 8, 'K_START': 0.05564886400636832, 'K_END': 0.0619559325162072, 'K_H': 0.37165475893065775, 'PURCHASE_TURN_LIMIT': 830, 'ROUGH_HASH': '0', 'TARGET_BEAM_WIDTH_INCREASE_RATE': 1.3026386819034037, 'TARGET_BEAM_WIDTH_HALF_PROGRES_RATE': 0.9381660244026074, 'MAX_BEAM_WIDTH': 748}. Best is trial 135 with value: 2571256139.0.\u001b[0m\n"
     ]
    },
    {
     "name": "stdout",
     "output_type": "stream",
     "text": [
      "callback ok\n",
      "index_parallel=4\n",
      "sed -i 4_main.cpp -e 's/^constexpr int hash_table_size = .*;         \\/\\/ OPTIMIZE \\[6, 18\\]$/constexpr int hash_table_size = 8;         \\/\\/ OPTIMIZE [6, 18]/' -e 's/^constexpr double K_START = .*;  \\/\\/ OPTIMIZE \\[0\\.04, 0\\.2\\] LOG$/constexpr double K_START = 0.08131733459570084;  \\/\\/ OPTIMIZE [0.04, 0.2] LOG/' -e 's/^constexpr double K_END = .*;   \\/\\/ OPTIMIZE \\[0\\.03, 0\\.1\\] LOG$/constexpr double K_END = 0.057940767830253335;   \\/\\/ OPTIMIZE [0.03, 0.1] LOG/' -e 's/^constexpr double K_H = .*;      \\/\\/ OPTIMIZE \\[0\\.001, 0\\.999\\]$/constexpr double K_H = 0.5348165367076578;      \\/\\/ OPTIMIZE [0.001, 0.999]/' -e 's/^constexpr short PURCHASE_TURN_LIMIT = .*;  \\/\\/ OPTIMIZE \\[790, 870\\]$/constexpr short PURCHASE_TURN_LIMIT = 830;  \\/\\/ OPTIMIZE [790, 870]/' -e 's/^constexpr int ROUGH_HASH = .*;      \\/\\/ OPTIMIZE {0, 0b00000001, 0b00010001, 0b00010011, 0b00110011}$/constexpr int ROUGH_HASH = 0;      \\/\\/ OPTIMIZE {0, 0b00000001, 0b00010001, 0b00010011, 0b00110011}/' -e 's/^constexpr double TARGET_BEAM_WIDTH_INCREASE_RATE = .*;      \\/\\/ OPTIMIZE \\[0\\.25, 4\\.0\\] LOG$/constexpr double TARGET_BEAM_WIDTH_INCREASE_RATE = 0.9536116674338105;      \\/\\/ OPTIMIZE [0.25, 4.0] LOG/' -e 's/^constexpr double TARGET_BEAM_WIDTH_HALF_PROGRES_RATE = .*;  \\/\\/ OPTIMIZE \\[0\\.02, 0\\.98\\]$/constexpr double TARGET_BEAM_WIDTH_HALF_PROGRES_RATE = 0.9538029086519049;  \\/\\/ OPTIMIZE [0.02, 0.98]/' -e 's/^constexpr auto MAX_BEAM_WIDTH = .*;                        \\/\\/ OPTIMIZE \\[400, 4000\\] LOG$/constexpr auto MAX_BEAM_WIDTH = 680;                        \\/\\/ OPTIMIZE [400, 4000] LOG/'\n",
      "g++ 4_main.cpp -std=gnu++17 -O2 -o 4_main.cpp.out 2> /dev/null\n"
     ]
    },
    {
     "name": "stderr",
     "output_type": "stream",
     "text": [
      "\u001b[32m[I 2021-09-11 15:54:45,684]\u001b[0m Trial 156 finished with value: 2560881186.0 and parameters: {'hash_table_size': 8, 'K_START': 0.055054708142903266, 'K_END': 0.06592578683880304, 'K_H': 0.3999930381776723, 'PURCHASE_TURN_LIMIT': 830, 'ROUGH_HASH': '0', 'TARGET_BEAM_WIDTH_INCREASE_RATE': 1.1968122324960642, 'TARGET_BEAM_WIDTH_HALF_PROGRES_RATE': 0.945410968069573, 'MAX_BEAM_WIDTH': 985}. Best is trial 135 with value: 2571256139.0.\u001b[0m\n"
     ]
    },
    {
     "name": "stdout",
     "output_type": "stream",
     "text": [
      "callback ok\n",
      "index_parallel=5\n",
      "sed -i 5_main.cpp -e 's/^constexpr int hash_table_size = .*;         \\/\\/ OPTIMIZE \\[6, 18\\]$/constexpr int hash_table_size = 15;         \\/\\/ OPTIMIZE [6, 18]/' -e 's/^constexpr double K_START = .*;  \\/\\/ OPTIMIZE \\[0\\.04, 0\\.2\\] LOG$/constexpr double K_START = 0.08100728854844519;  \\/\\/ OPTIMIZE [0.04, 0.2] LOG/' -e 's/^constexpr double K_END = .*;   \\/\\/ OPTIMIZE \\[0\\.03, 0\\.1\\] LOG$/constexpr double K_END = 0.05808158649377292;   \\/\\/ OPTIMIZE [0.03, 0.1] LOG/' -e 's/^constexpr double K_H = .*;      \\/\\/ OPTIMIZE \\[0\\.001, 0\\.999\\]$/constexpr double K_H = 0.43198867867630636;      \\/\\/ OPTIMIZE [0.001, 0.999]/' -e 's/^constexpr short PURCHASE_TURN_LIMIT = .*;  \\/\\/ OPTIMIZE \\[790, 870\\]$/constexpr short PURCHASE_TURN_LIMIT = 834;  \\/\\/ OPTIMIZE [790, 870]/' -e 's/^constexpr int ROUGH_HASH = .*;      \\/\\/ OPTIMIZE {0, 0b00000001, 0b00010001, 0b00010011, 0b00110011}$/constexpr int ROUGH_HASH = 0;      \\/\\/ OPTIMIZE {0, 0b00000001, 0b00010001, 0b00010011, 0b00110011}/' -e 's/^constexpr double TARGET_BEAM_WIDTH_INCREASE_RATE = .*;      \\/\\/ OPTIMIZE \\[0\\.25, 4\\.0\\] LOG$/constexpr double TARGET_BEAM_WIDTH_INCREASE_RATE = 0.9527485670840017;      \\/\\/ OPTIMIZE [0.25, 4.0] LOG/' -e 's/^constexpr double TARGET_BEAM_WIDTH_HALF_PROGRES_RATE = .*;  \\/\\/ OPTIMIZE \\[0\\.02, 0\\.98\\]$/constexpr double TARGET_BEAM_WIDTH_HALF_PROGRES_RATE = 0.9651872474640666;  \\/\\/ OPTIMIZE [0.02, 0.98]/' -e 's/^constexpr auto MAX_BEAM_WIDTH = .*;                        \\/\\/ OPTIMIZE \\[400, 4000\\] LOG$/constexpr auto MAX_BEAM_WIDTH = 799;                        \\/\\/ OPTIMIZE [400, 4000] LOG/'\n",
      "g++ 5_main.cpp -std=gnu++17 -O2 -o 5_main.cpp.out 2> /dev/null\n"
     ]
    },
    {
     "name": "stderr",
     "output_type": "stream",
     "text": [
      "\u001b[32m[I 2021-09-11 15:56:29,333]\u001b[0m Trial 157 finished with value: 2565565919.0 and parameters: {'hash_table_size': 8, 'K_START': 0.07855856963427461, 'K_END': 0.057853806446531306, 'K_H': 0.4060705588215073, 'PURCHASE_TURN_LIMIT': 834, 'ROUGH_HASH': '0', 'TARGET_BEAM_WIDTH_INCREASE_RATE': 0.8189379477646309, 'TARGET_BEAM_WIDTH_HALF_PROGRES_RATE': 0.9428150978654923, 'MAX_BEAM_WIDTH': 763}. Best is trial 135 with value: 2571256139.0.\u001b[0m\n"
     ]
    },
    {
     "name": "stdout",
     "output_type": "stream",
     "text": [
      "callback ok\n",
      "index_parallel=6\n",
      "sed -i 6_main.cpp -e 's/^constexpr int hash_table_size = .*;         \\/\\/ OPTIMIZE \\[6, 18\\]$/constexpr int hash_table_size = 13;         \\/\\/ OPTIMIZE [6, 18]/' -e 's/^constexpr double K_START = .*;  \\/\\/ OPTIMIZE \\[0\\.04, 0\\.2\\] LOG$/constexpr double K_START = 0.08029605408665107;  \\/\\/ OPTIMIZE [0.04, 0.2] LOG/' -e 's/^constexpr double K_END = .*;   \\/\\/ OPTIMIZE \\[0\\.03, 0\\.1\\] LOG$/constexpr double K_END = 0.05742469922465115;   \\/\\/ OPTIMIZE [0.03, 0.1] LOG/' -e 's/^constexpr double K_H = .*;      \\/\\/ OPTIMIZE \\[0\\.001, 0\\.999\\]$/constexpr double K_H = 0.3156718421042416;      \\/\\/ OPTIMIZE [0.001, 0.999]/' -e 's/^constexpr short PURCHASE_TURN_LIMIT = .*;  \\/\\/ OPTIMIZE \\[790, 870\\]$/constexpr short PURCHASE_TURN_LIMIT = 830;  \\/\\/ OPTIMIZE [790, 870]/' -e 's/^constexpr int ROUGH_HASH = .*;      \\/\\/ OPTIMIZE {0, 0b00000001, 0b00010001, 0b00010011, 0b00110011}$/constexpr int ROUGH_HASH = 0;      \\/\\/ OPTIMIZE {0, 0b00000001, 0b00010001, 0b00010011, 0b00110011}/' -e 's/^constexpr double TARGET_BEAM_WIDTH_INCREASE_RATE = .*;      \\/\\/ OPTIMIZE \\[0\\.25, 4\\.0\\] LOG$/constexpr double TARGET_BEAM_WIDTH_INCREASE_RATE = 0.8168600039822497;      \\/\\/ OPTIMIZE [0.25, 4.0] LOG/' -e 's/^constexpr double TARGET_BEAM_WIDTH_HALF_PROGRES_RATE = .*;  \\/\\/ OPTIMIZE \\[0\\.02, 0\\.98\\]$/constexpr double TARGET_BEAM_WIDTH_HALF_PROGRES_RATE = 0.9776250854914856;  \\/\\/ OPTIMIZE [0.02, 0.98]/' -e 's/^constexpr auto MAX_BEAM_WIDTH = .*;                        \\/\\/ OPTIMIZE \\[400, 4000\\] LOG$/constexpr auto MAX_BEAM_WIDTH = 816;                        \\/\\/ OPTIMIZE [400, 4000] LOG/'\n",
      "g++ 6_main.cpp -std=gnu++17 -O2 -o 6_main.cpp.out 2> /dev/null\n"
     ]
    },
    {
     "name": "stderr",
     "output_type": "stream",
     "text": [
      "\u001b[32m[I 2021-09-11 15:56:44,431]\u001b[0m Trial 158 finished with value: 2567723068.0 and parameters: {'hash_table_size': 8, 'K_START': 0.05551490561530023, 'K_END': 0.057426156866942475, 'K_H': 0.39917183600916867, 'PURCHASE_TURN_LIMIT': 842, 'ROUGH_HASH': '0', 'TARGET_BEAM_WIDTH_INCREASE_RATE': 0.9253728757809471, 'TARGET_BEAM_WIDTH_HALF_PROGRES_RATE': 0.9499393301539268, 'MAX_BEAM_WIDTH': 808}. Best is trial 135 with value: 2571256139.0.\u001b[0m\n"
     ]
    },
    {
     "name": "stdout",
     "output_type": "stream",
     "text": [
      "callback ok\n",
      "index_parallel=7\n",
      "sed -i 7_main.cpp -e 's/^constexpr int hash_table_size = .*;         \\/\\/ OPTIMIZE \\[6, 18\\]$/constexpr int hash_table_size = 7;         \\/\\/ OPTIMIZE [6, 18]/' -e 's/^constexpr double K_START = .*;  \\/\\/ OPTIMIZE \\[0\\.04, 0\\.2\\] LOG$/constexpr double K_START = 0.05847897199698969;  \\/\\/ OPTIMIZE [0.04, 0.2] LOG/' -e 's/^constexpr double K_END = .*;   \\/\\/ OPTIMIZE \\[0\\.03, 0\\.1\\] LOG$/constexpr double K_END = 0.06092466280263337;   \\/\\/ OPTIMIZE [0.03, 0.1] LOG/' -e 's/^constexpr double K_H = .*;      \\/\\/ OPTIMIZE \\[0\\.001, 0\\.999\\]$/constexpr double K_H = 0.5282913919268919;      \\/\\/ OPTIMIZE [0.001, 0.999]/' -e 's/^constexpr short PURCHASE_TURN_LIMIT = .*;  \\/\\/ OPTIMIZE \\[790, 870\\]$/constexpr short PURCHASE_TURN_LIMIT = 796;  \\/\\/ OPTIMIZE [790, 870]/' -e 's/^constexpr int ROUGH_HASH = .*;      \\/\\/ OPTIMIZE {0, 0b00000001, 0b00010001, 0b00010011, 0b00110011}$/constexpr int ROUGH_HASH = 0;      \\/\\/ OPTIMIZE {0, 0b00000001, 0b00010001, 0b00010011, 0b00110011}/' -e 's/^constexpr double TARGET_BEAM_WIDTH_INCREASE_RATE = .*;      \\/\\/ OPTIMIZE \\[0\\.25, 4\\.0\\] LOG$/constexpr double TARGET_BEAM_WIDTH_INCREASE_RATE = 0.9421224226230899;      \\/\\/ OPTIMIZE [0.25, 4.0] LOG/' -e 's/^constexpr double TARGET_BEAM_WIDTH_HALF_PROGRES_RATE = .*;  \\/\\/ OPTIMIZE \\[0\\.02, 0\\.98\\]$/constexpr double TARGET_BEAM_WIDTH_HALF_PROGRES_RATE = 0.9668861177028604;  \\/\\/ OPTIMIZE [0.02, 0.98]/' -e 's/^constexpr auto MAX_BEAM_WIDTH = .*;                        \\/\\/ OPTIMIZE \\[400, 4000\\] LOG$/constexpr auto MAX_BEAM_WIDTH = 799;                        \\/\\/ OPTIMIZE [400, 4000] LOG/'\n",
      "g++ 7_main.cpp -std=gnu++17 -O2 -o 7_main.cpp.out 2> /dev/null\n"
     ]
    },
    {
     "name": "stderr",
     "output_type": "stream",
     "text": [
      "\u001b[32m[I 2021-09-11 15:58:22,372]\u001b[0m Trial 159 finished with value: 2535805777.0 and parameters: {'hash_table_size': 13, 'K_START': 0.0795012025430372, 'K_END': 0.05775333764240182, 'K_H': 0.30805530303843043, 'PURCHASE_TURN_LIMIT': 834, 'ROUGH_HASH': '0', 'TARGET_BEAM_WIDTH_INCREASE_RATE': 0.8730767309081984, 'TARGET_BEAM_WIDTH_HALF_PROGRES_RATE': 0.930688013650483, 'MAX_BEAM_WIDTH': 979}. Best is trial 135 with value: 2571256139.0.\u001b[0m\n"
     ]
    },
    {
     "name": "stdout",
     "output_type": "stream",
     "text": [
      "callback ok\n",
      "index_parallel=8\n",
      "sed -i 8_main.cpp -e 's/^constexpr int hash_table_size = .*;         \\/\\/ OPTIMIZE \\[6, 18\\]$/constexpr int hash_table_size = 7;         \\/\\/ OPTIMIZE [6, 18]/' -e 's/^constexpr double K_START = .*;  \\/\\/ OPTIMIZE \\[0\\.04, 0\\.2\\] LOG$/constexpr double K_START = 0.059390818367674965;  \\/\\/ OPTIMIZE [0.04, 0.2] LOG/' -e 's/^constexpr double K_END = .*;   \\/\\/ OPTIMIZE \\[0\\.03, 0\\.1\\] LOG$/constexpr double K_END = 0.0615616897763633;   \\/\\/ OPTIMIZE [0.03, 0.1] LOG/' -e 's/^constexpr double K_H = .*;      \\/\\/ OPTIMIZE \\[0\\.001, 0\\.999\\]$/constexpr double K_H = 0.4341542054051132;      \\/\\/ OPTIMIZE [0.001, 0.999]/' -e 's/^constexpr short PURCHASE_TURN_LIMIT = .*;  \\/\\/ OPTIMIZE \\[790, 870\\]$/constexpr short PURCHASE_TURN_LIMIT = 830;  \\/\\/ OPTIMIZE [790, 870]/' -e 's/^constexpr int ROUGH_HASH = .*;      \\/\\/ OPTIMIZE {0, 0b00000001, 0b00010001, 0b00010011, 0b00110011}$/constexpr int ROUGH_HASH = 0;      \\/\\/ OPTIMIZE {0, 0b00000001, 0b00010001, 0b00010011, 0b00110011}/' -e 's/^constexpr double TARGET_BEAM_WIDTH_INCREASE_RATE = .*;      \\/\\/ OPTIMIZE \\[0\\.25, 4\\.0\\] LOG$/constexpr double TARGET_BEAM_WIDTH_INCREASE_RATE = 1.0043240850487136;      \\/\\/ OPTIMIZE [0.25, 4.0] LOG/' -e 's/^constexpr double TARGET_BEAM_WIDTH_HALF_PROGRES_RATE = .*;  \\/\\/ OPTIMIZE \\[0\\.02, 0\\.98\\]$/constexpr double TARGET_BEAM_WIDTH_HALF_PROGRES_RATE = 0.9741563613254385;  \\/\\/ OPTIMIZE [0.02, 0.98]/' -e 's/^constexpr auto MAX_BEAM_WIDTH = .*;                        \\/\\/ OPTIMIZE \\[400, 4000\\] LOG$/constexpr auto MAX_BEAM_WIDTH = 2374;                        \\/\\/ OPTIMIZE [400, 4000] LOG/'\n",
      "g++ 8_main.cpp -std=gnu++17 -O2 -o 8_main.cpp.out 2> /dev/null\n"
     ]
    },
    {
     "name": "stderr",
     "output_type": "stream",
     "text": [
      "\u001b[32m[I 2021-09-11 15:58:58,176]\u001b[0m Trial 160 finished with value: 2567036400.0 and parameters: {'hash_table_size': 8, 'K_START': 0.08131733459570084, 'K_END': 0.057940767830253335, 'K_H': 0.5348165367076578, 'PURCHASE_TURN_LIMIT': 830, 'ROUGH_HASH': '0', 'TARGET_BEAM_WIDTH_INCREASE_RATE': 0.9536116674338105, 'TARGET_BEAM_WIDTH_HALF_PROGRES_RATE': 0.9538029086519049, 'MAX_BEAM_WIDTH': 680}. Best is trial 135 with value: 2571256139.0.\u001b[0m\n"
     ]
    },
    {
     "name": "stdout",
     "output_type": "stream",
     "text": [
      "callback ok\n",
      "index_parallel=9\n",
      "sed -i 9_main.cpp -e 's/^constexpr int hash_table_size = .*;         \\/\\/ OPTIMIZE \\[6, 18\\]$/constexpr int hash_table_size = 8;         \\/\\/ OPTIMIZE [6, 18]/' -e 's/^constexpr double K_START = .*;  \\/\\/ OPTIMIZE \\[0\\.04, 0\\.2\\] LOG$/constexpr double K_START = 0.05930842264540475;  \\/\\/ OPTIMIZE [0.04, 0.2] LOG/' -e 's/^constexpr double K_END = .*;   \\/\\/ OPTIMIZE \\[0\\.03, 0\\.1\\] LOG$/constexpr double K_END = 0.0608518896019423;   \\/\\/ OPTIMIZE [0.03, 0.1] LOG/' -e 's/^constexpr double K_H = .*;      \\/\\/ OPTIMIZE \\[0\\.001, 0\\.999\\]$/constexpr double K_H = 0.4340128704990485;      \\/\\/ OPTIMIZE [0.001, 0.999]/' -e 's/^constexpr short PURCHASE_TURN_LIMIT = .*;  \\/\\/ OPTIMIZE \\[790, 870\\]$/constexpr short PURCHASE_TURN_LIMIT = 794;  \\/\\/ OPTIMIZE [790, 870]/' -e 's/^constexpr int ROUGH_HASH = .*;      \\/\\/ OPTIMIZE {0, 0b00000001, 0b00010001, 0b00010011, 0b00110011}$/constexpr int ROUGH_HASH = 0;      \\/\\/ OPTIMIZE {0, 0b00000001, 0b00010001, 0b00010011, 0b00110011}/' -e 's/^constexpr double TARGET_BEAM_WIDTH_INCREASE_RATE = .*;      \\/\\/ OPTIMIZE \\[0\\.25, 4\\.0\\] LOG$/constexpr double TARGET_BEAM_WIDTH_INCREASE_RATE = 0.9380900472341404;      \\/\\/ OPTIMIZE [0.25, 4.0] LOG/' -e 's/^constexpr double TARGET_BEAM_WIDTH_HALF_PROGRES_RATE = .*;  \\/\\/ OPTIMIZE \\[0\\.02, 0\\.98\\]$/constexpr double TARGET_BEAM_WIDTH_HALF_PROGRES_RATE = 0.9687976599839817;  \\/\\/ OPTIMIZE [0.02, 0.98]/' -e 's/^constexpr auto MAX_BEAM_WIDTH = .*;                        \\/\\/ OPTIMIZE \\[400, 4000\\] LOG$/constexpr auto MAX_BEAM_WIDTH = 678;                        \\/\\/ OPTIMIZE [400, 4000] LOG/'\n",
      "g++ 9_main.cpp -std=gnu++17 -O2 -o 9_main.cpp.out 2> /dev/null\n"
     ]
    },
    {
     "name": "stderr",
     "output_type": "stream",
     "text": [
      "\u001b[32m[I 2021-09-11 15:59:02,945]\u001b[0m Trial 163 finished with value: 2435382006.0 and parameters: {'hash_table_size': 7, 'K_START': 0.05847897199698969, 'K_END': 0.06092466280263337, 'K_H': 0.5282913919268919, 'PURCHASE_TURN_LIMIT': 796, 'ROUGH_HASH': '0', 'TARGET_BEAM_WIDTH_INCREASE_RATE': 0.9421224226230899, 'TARGET_BEAM_WIDTH_HALF_PROGRES_RATE': 0.9668861177028604, 'MAX_BEAM_WIDTH': 799}. Best is trial 135 with value: 2571256139.0.\u001b[0m\n"
     ]
    },
    {
     "name": "stdout",
     "output_type": "stream",
     "text": [
      "callback ok\n",
      "index_parallel=10\n",
      "sed -i 10_main.cpp -e 's/^constexpr int hash_table_size = .*;         \\/\\/ OPTIMIZE \\[6, 18\\]$/constexpr int hash_table_size = 8;         \\/\\/ OPTIMIZE [6, 18]/' -e 's/^constexpr double K_START = .*;  \\/\\/ OPTIMIZE \\[0\\.04, 0\\.2\\] LOG$/constexpr double K_START = 0.08151521972137743;  \\/\\/ OPTIMIZE [0.04, 0.2] LOG/' -e 's/^constexpr double K_END = .*;   \\/\\/ OPTIMIZE \\[0\\.03, 0\\.1\\] LOG$/constexpr double K_END = 0.06174427961611007;   \\/\\/ OPTIMIZE [0.03, 0.1] LOG/' -e 's/^constexpr double K_H = .*;      \\/\\/ OPTIMIZE \\[0\\.001, 0\\.999\\]$/constexpr double K_H = 0.5616501474715644;      \\/\\/ OPTIMIZE [0.001, 0.999]/' -e 's/^constexpr short PURCHASE_TURN_LIMIT = .*;  \\/\\/ OPTIMIZE \\[790, 870\\]$/constexpr short PURCHASE_TURN_LIMIT = 842;  \\/\\/ OPTIMIZE [790, 870]/' -e 's/^constexpr int ROUGH_HASH = .*;      \\/\\/ OPTIMIZE {0, 0b00000001, 0b00010001, 0b00010011, 0b00110011}$/constexpr int ROUGH_HASH = 0;      \\/\\/ OPTIMIZE {0, 0b00000001, 0b00010001, 0b00010011, 0b00110011}/' -e 's/^constexpr double TARGET_BEAM_WIDTH_INCREASE_RATE = .*;      \\/\\/ OPTIMIZE \\[0\\.25, 4\\.0\\] LOG$/constexpr double TARGET_BEAM_WIDTH_INCREASE_RATE = 0.8900474299728732;      \\/\\/ OPTIMIZE [0.25, 4.0] LOG/' -e 's/^constexpr double TARGET_BEAM_WIDTH_HALF_PROGRES_RATE = .*;  \\/\\/ OPTIMIZE \\[0\\.02, 0\\.98\\]$/constexpr double TARGET_BEAM_WIDTH_HALF_PROGRES_RATE = 0.9778760916943402;  \\/\\/ OPTIMIZE [0.02, 0.98]/' -e 's/^constexpr auto MAX_BEAM_WIDTH = .*;                        \\/\\/ OPTIMIZE \\[400, 4000\\] LOG$/constexpr auto MAX_BEAM_WIDTH = 855;                        \\/\\/ OPTIMIZE [400, 4000] LOG/'\n",
      "g++ 10_main.cpp -std=gnu++17 -O2 -o 10_main.cpp.out 2> /dev/null\n"
     ]
    },
    {
     "name": "stderr",
     "output_type": "stream",
     "text": [
      "\u001b[32m[I 2021-09-11 16:00:12,934]\u001b[0m Trial 161 finished with value: 2527158226.0 and parameters: {'hash_table_size': 15, 'K_START': 0.08100728854844519, 'K_END': 0.05808158649377292, 'K_H': 0.43198867867630636, 'PURCHASE_TURN_LIMIT': 834, 'ROUGH_HASH': '0', 'TARGET_BEAM_WIDTH_INCREASE_RATE': 0.9527485670840017, 'TARGET_BEAM_WIDTH_HALF_PROGRES_RATE': 0.9651872474640666, 'MAX_BEAM_WIDTH': 799}. Best is trial 135 with value: 2571256139.0.\u001b[0m\n"
     ]
    },
    {
     "name": "stdout",
     "output_type": "stream",
     "text": [
      "callback ok\n",
      "index_parallel=11\n",
      "sed -i 11_main.cpp -e 's/^constexpr int hash_table_size = .*;         \\/\\/ OPTIMIZE \\[6, 18\\]$/constexpr int hash_table_size = 8;         \\/\\/ OPTIMIZE [6, 18]/' -e 's/^constexpr double K_START = .*;  \\/\\/ OPTIMIZE \\[0\\.04, 0\\.2\\] LOG$/constexpr double K_START = 0.07635526494329233;  \\/\\/ OPTIMIZE [0.04, 0.2] LOG/' -e 's/^constexpr double K_END = .*;   \\/\\/ OPTIMIZE \\[0\\.03, 0\\.1\\] LOG$/constexpr double K_END = 0.06165180894388112;   \\/\\/ OPTIMIZE [0.03, 0.1] LOG/' -e 's/^constexpr double K_H = .*;      \\/\\/ OPTIMIZE \\[0\\.001, 0\\.999\\]$/constexpr double K_H = 0.5477586171315587;      \\/\\/ OPTIMIZE [0.001, 0.999]/' -e 's/^constexpr short PURCHASE_TURN_LIMIT = .*;  \\/\\/ OPTIMIZE \\[790, 870\\]$/constexpr short PURCHASE_TURN_LIMIT = 830;  \\/\\/ OPTIMIZE [790, 870]/' -e 's/^constexpr int ROUGH_HASH = .*;      \\/\\/ OPTIMIZE {0, 0b00000001, 0b00010001, 0b00010011, 0b00110011}$/constexpr int ROUGH_HASH = 0;      \\/\\/ OPTIMIZE {0, 0b00000001, 0b00010001, 0b00010011, 0b00110011}/' -e 's/^constexpr double TARGET_BEAM_WIDTH_INCREASE_RATE = .*;      \\/\\/ OPTIMIZE \\[0\\.25, 4\\.0\\] LOG$/constexpr double TARGET_BEAM_WIDTH_INCREASE_RATE = 0.8515547128153063;      \\/\\/ OPTIMIZE [0.25, 4.0] LOG/' -e 's/^constexpr double TARGET_BEAM_WIDTH_HALF_PROGRES_RATE = .*;  \\/\\/ OPTIMIZE \\[0\\.02, 0\\.98\\]$/constexpr double TARGET_BEAM_WIDTH_HALF_PROGRES_RATE = 0.9775857769349195;  \\/\\/ OPTIMIZE [0.02, 0.98]/' -e 's/^constexpr auto MAX_BEAM_WIDTH = .*;                        \\/\\/ OPTIMIZE \\[400, 4000\\] LOG$/constexpr auto MAX_BEAM_WIDTH = 878;                        \\/\\/ OPTIMIZE [400, 4000] LOG/'\n",
      "g++ 11_main.cpp -std=gnu++17 -O2 -o 11_main.cpp.out 2> /dev/null\n"
     ]
    },
    {
     "name": "stderr",
     "output_type": "stream",
     "text": [
      "\u001b[32m[I 2021-09-11 16:01:04,632]\u001b[0m Trial 164 finished with value: 2509381241.0 and parameters: {'hash_table_size': 7, 'K_START': 0.059390818367674965, 'K_END': 0.0615616897763633, 'K_H': 0.4341542054051132, 'PURCHASE_TURN_LIMIT': 830, 'ROUGH_HASH': '0', 'TARGET_BEAM_WIDTH_INCREASE_RATE': 1.0043240850487136, 'TARGET_BEAM_WIDTH_HALF_PROGRES_RATE': 0.9741563613254385, 'MAX_BEAM_WIDTH': 2374}. Best is trial 135 with value: 2571256139.0.\u001b[0m\n"
     ]
    },
    {
     "name": "stdout",
     "output_type": "stream",
     "text": [
      "callback ok\n",
      "index_parallel=0\n",
      "sed -i 0_main.cpp -e 's/^constexpr int hash_table_size = .*;         \\/\\/ OPTIMIZE \\[6, 18\\]$/constexpr int hash_table_size = 8;         \\/\\/ OPTIMIZE [6, 18]/' -e 's/^constexpr double K_START = .*;  \\/\\/ OPTIMIZE \\[0\\.04, 0\\.2\\] LOG$/constexpr double K_START = 0.07661587434918338;  \\/\\/ OPTIMIZE [0.04, 0.2] LOG/' -e 's/^constexpr double K_END = .*;   \\/\\/ OPTIMIZE \\[0\\.03, 0\\.1\\] LOG$/constexpr double K_END = 0.05994901782403392;   \\/\\/ OPTIMIZE [0.03, 0.1] LOG/' -e 's/^constexpr double K_H = .*;      \\/\\/ OPTIMIZE \\[0\\.001, 0\\.999\\]$/constexpr double K_H = 0.5102177747497185;      \\/\\/ OPTIMIZE [0.001, 0.999]/' -e 's/^constexpr short PURCHASE_TURN_LIMIT = .*;  \\/\\/ OPTIMIZE \\[790, 870\\]$/constexpr short PURCHASE_TURN_LIMIT = 842;  \\/\\/ OPTIMIZE [790, 870]/' -e 's/^constexpr int ROUGH_HASH = .*;      \\/\\/ OPTIMIZE {0, 0b00000001, 0b00010001, 0b00010011, 0b00110011}$/constexpr int ROUGH_HASH = 0;      \\/\\/ OPTIMIZE {0, 0b00000001, 0b00010001, 0b00010011, 0b00110011}/' -e 's/^constexpr double TARGET_BEAM_WIDTH_INCREASE_RATE = .*;      \\/\\/ OPTIMIZE \\[0\\.25, 4\\.0\\] LOG$/constexpr double TARGET_BEAM_WIDTH_INCREASE_RATE = 0.8551848370979985;      \\/\\/ OPTIMIZE [0.25, 4.0] LOG/' -e 's/^constexpr double TARGET_BEAM_WIDTH_HALF_PROGRES_RATE = .*;  \\/\\/ OPTIMIZE \\[0\\.02, 0\\.98\\]$/constexpr double TARGET_BEAM_WIDTH_HALF_PROGRES_RATE = 0.8851309756840477;  \\/\\/ OPTIMIZE [0.02, 0.98]/' -e 's/^constexpr auto MAX_BEAM_WIDTH = .*;                        \\/\\/ OPTIMIZE \\[400, 4000\\] LOG$/constexpr auto MAX_BEAM_WIDTH = 866;                        \\/\\/ OPTIMIZE [400, 4000] LOG/'\n",
      "g++ 0_main.cpp -std=gnu++17 -O2 -o 0_main.cpp.out 2> /dev/null\n"
     ]
    },
    {
     "name": "stderr",
     "output_type": "stream",
     "text": [
      "\u001b[32m[I 2021-09-11 16:01:57,501]\u001b[0m Trial 162 finished with value: 2533161542.0 and parameters: {'hash_table_size': 13, 'K_START': 0.08029605408665107, 'K_END': 0.05742469922465115, 'K_H': 0.3156718421042416, 'PURCHASE_TURN_LIMIT': 830, 'ROUGH_HASH': '0', 'TARGET_BEAM_WIDTH_INCREASE_RATE': 0.8168600039822497, 'TARGET_BEAM_WIDTH_HALF_PROGRES_RATE': 0.9776250854914856, 'MAX_BEAM_WIDTH': 816}. Best is trial 135 with value: 2571256139.0.\u001b[0m\n"
     ]
    },
    {
     "name": "stdout",
     "output_type": "stream",
     "text": [
      "callback ok\n",
      "index_parallel=1\n",
      "sed -i 1_main.cpp -e 's/^constexpr int hash_table_size = .*;         \\/\\/ OPTIMIZE \\[6, 18\\]$/constexpr int hash_table_size = 8;         \\/\\/ OPTIMIZE [6, 18]/' -e 's/^constexpr double K_START = .*;  \\/\\/ OPTIMIZE \\[0\\.04, 0\\.2\\] LOG$/constexpr double K_START = 0.08746600858390048;  \\/\\/ OPTIMIZE [0.04, 0.2] LOG/' -e 's/^constexpr double K_END = .*;   \\/\\/ OPTIMIZE \\[0\\.03, 0\\.1\\] LOG$/constexpr double K_END = 0.059424000096608316;   \\/\\/ OPTIMIZE [0.03, 0.1] LOG/' -e 's/^constexpr double K_H = .*;      \\/\\/ OPTIMIZE \\[0\\.001, 0\\.999\\]$/constexpr double K_H = 0.38184547266674407;      \\/\\/ OPTIMIZE [0.001, 0.999]/' -e 's/^constexpr short PURCHASE_TURN_LIMIT = .*;  \\/\\/ OPTIMIZE \\[790, 870\\]$/constexpr short PURCHASE_TURN_LIMIT = 842;  \\/\\/ OPTIMIZE [790, 870]/' -e 's/^constexpr int ROUGH_HASH = .*;      \\/\\/ OPTIMIZE {0, 0b00000001, 0b00010001, 0b00010011, 0b00110011}$/constexpr int ROUGH_HASH = 0;      \\/\\/ OPTIMIZE {0, 0b00000001, 0b00010001, 0b00010011, 0b00110011}/' -e 's/^constexpr double TARGET_BEAM_WIDTH_INCREASE_RATE = .*;      \\/\\/ OPTIMIZE \\[0\\.25, 4\\.0\\] LOG$/constexpr double TARGET_BEAM_WIDTH_INCREASE_RATE = 1.565263452525861;      \\/\\/ OPTIMIZE [0.25, 4.0] LOG/' -e 's/^constexpr double TARGET_BEAM_WIDTH_HALF_PROGRES_RATE = .*;  \\/\\/ OPTIMIZE \\[0\\.02, 0\\.98\\]$/constexpr double TARGET_BEAM_WIDTH_HALF_PROGRES_RATE = 0.8769273349362944;  \\/\\/ OPTIMIZE [0.02, 0.98]/' -e 's/^constexpr auto MAX_BEAM_WIDTH = .*;                        \\/\\/ OPTIMIZE \\[400, 4000\\] LOG$/constexpr auto MAX_BEAM_WIDTH = 632;                        \\/\\/ OPTIMIZE [400, 4000] LOG/'\n",
      "g++ 1_main.cpp -std=gnu++17 -O2 -o 1_main.cpp.out 2> /dev/null\n"
     ]
    },
    {
     "name": "stderr",
     "output_type": "stream",
     "text": [
      "\u001b[32m[I 2021-09-11 16:02:59,233]\u001b[0m Trial 165 finished with value: 2495999153.0 and parameters: {'hash_table_size': 8, 'K_START': 0.05930842264540475, 'K_END': 0.0608518896019423, 'K_H': 0.4340128704990485, 'PURCHASE_TURN_LIMIT': 794, 'ROUGH_HASH': '0', 'TARGET_BEAM_WIDTH_INCREASE_RATE': 0.9380900472341404, 'TARGET_BEAM_WIDTH_HALF_PROGRES_RATE': 0.9687976599839817, 'MAX_BEAM_WIDTH': 678}. Best is trial 135 with value: 2571256139.0.\u001b[0m\n"
     ]
    },
    {
     "name": "stdout",
     "output_type": "stream",
     "text": [
      "callback ok\n",
      "index_parallel=2\n",
      "sed -i 2_main.cpp -e 's/^constexpr int hash_table_size = .*;         \\/\\/ OPTIMIZE \\[6, 18\\]$/constexpr int hash_table_size = 8;         \\/\\/ OPTIMIZE [6, 18]/' -e 's/^constexpr double K_START = .*;  \\/\\/ OPTIMIZE \\[0\\.04, 0\\.2\\] LOG$/constexpr double K_START = 0.0768238178204043;  \\/\\/ OPTIMIZE [0.04, 0.2] LOG/' -e 's/^constexpr double K_END = .*;   \\/\\/ OPTIMIZE \\[0\\.03, 0\\.1\\] LOG$/constexpr double K_END = 0.05972655641819792;   \\/\\/ OPTIMIZE [0.03, 0.1] LOG/' -e 's/^constexpr double K_H = .*;      \\/\\/ OPTIMIZE \\[0\\.001, 0\\.999\\]$/constexpr double K_H = 0.5699082881661551;      \\/\\/ OPTIMIZE [0.001, 0.999]/' -e 's/^constexpr short PURCHASE_TURN_LIMIT = .*;  \\/\\/ OPTIMIZE \\[790, 870\\]$/constexpr short PURCHASE_TURN_LIMIT = 843;  \\/\\/ OPTIMIZE [790, 870]/' -e 's/^constexpr int ROUGH_HASH = .*;      \\/\\/ OPTIMIZE {0, 0b00000001, 0b00010001, 0b00010011, 0b00110011}$/constexpr int ROUGH_HASH = 0;      \\/\\/ OPTIMIZE {0, 0b00000001, 0b00010001, 0b00010011, 0b00110011}/' -e 's/^constexpr double TARGET_BEAM_WIDTH_INCREASE_RATE = .*;      \\/\\/ OPTIMIZE \\[0\\.25, 4\\.0\\] LOG$/constexpr double TARGET_BEAM_WIDTH_INCREASE_RATE = 1.5453807491942446;      \\/\\/ OPTIMIZE [0.25, 4.0] LOG/' -e 's/^constexpr double TARGET_BEAM_WIDTH_HALF_PROGRES_RATE = .*;  \\/\\/ OPTIMIZE \\[0\\.02, 0\\.98\\]$/constexpr double TARGET_BEAM_WIDTH_HALF_PROGRES_RATE = 0.8751476489353422;  \\/\\/ OPTIMIZE [0.02, 0.98]/' -e 's/^constexpr auto MAX_BEAM_WIDTH = .*;                        \\/\\/ OPTIMIZE \\[400, 4000\\] LOG$/constexpr auto MAX_BEAM_WIDTH = 861;                        \\/\\/ OPTIMIZE [400, 4000] LOG/'\n",
      "g++ 2_main.cpp -std=gnu++17 -O2 -o 2_main.cpp.out 2> /dev/null\n"
     ]
    },
    {
     "name": "stderr",
     "output_type": "stream",
     "text": [
      "\u001b[32m[I 2021-09-11 16:03:20,326]\u001b[0m Trial 166 finished with value: 2564501110.0 and parameters: {'hash_table_size': 8, 'K_START': 0.08151521972137743, 'K_END': 0.06174427961611007, 'K_H': 0.5616501474715644, 'PURCHASE_TURN_LIMIT': 842, 'ROUGH_HASH': '0', 'TARGET_BEAM_WIDTH_INCREASE_RATE': 0.8900474299728732, 'TARGET_BEAM_WIDTH_HALF_PROGRES_RATE': 0.9778760916943402, 'MAX_BEAM_WIDTH': 855}. Best is trial 135 with value: 2571256139.0.\u001b[0m\n"
     ]
    },
    {
     "name": "stdout",
     "output_type": "stream",
     "text": [
      "callback ok\n",
      "index_parallel=3\n",
      "sed -i 3_main.cpp -e 's/^constexpr int hash_table_size = .*;         \\/\\/ OPTIMIZE \\[6, 18\\]$/constexpr int hash_table_size = 8;         \\/\\/ OPTIMIZE [6, 18]/' -e 's/^constexpr double K_START = .*;  \\/\\/ OPTIMIZE \\[0\\.04, 0\\.2\\] LOG$/constexpr double K_START = 0.08811883294743482;  \\/\\/ OPTIMIZE [0.04, 0.2] LOG/' -e 's/^constexpr double K_END = .*;   \\/\\/ OPTIMIZE \\[0\\.03, 0\\.1\\] LOG$/constexpr double K_END = 0.03607077210611863;   \\/\\/ OPTIMIZE [0.03, 0.1] LOG/' -e 's/^constexpr double K_H = .*;      \\/\\/ OPTIMIZE \\[0\\.001, 0\\.999\\]$/constexpr double K_H = 0.5066178898788499;      \\/\\/ OPTIMIZE [0.001, 0.999]/' -e 's/^constexpr short PURCHASE_TURN_LIMIT = .*;  \\/\\/ OPTIMIZE \\[790, 870\\]$/constexpr short PURCHASE_TURN_LIMIT = 844;  \\/\\/ OPTIMIZE [790, 870]/' -e 's/^constexpr int ROUGH_HASH = .*;      \\/\\/ OPTIMIZE {0, 0b00000001, 0b00010001, 0b00010011, 0b00110011}$/constexpr int ROUGH_HASH = 0;      \\/\\/ OPTIMIZE {0, 0b00000001, 0b00010001, 0b00010011, 0b00110011}/' -e 's/^constexpr double TARGET_BEAM_WIDTH_INCREASE_RATE = .*;      \\/\\/ OPTIMIZE \\[0\\.25, 4\\.0\\] LOG$/constexpr double TARGET_BEAM_WIDTH_INCREASE_RATE = 0.7200553828323637;      \\/\\/ OPTIMIZE [0.25, 4.0] LOG/' -e 's/^constexpr double TARGET_BEAM_WIDTH_HALF_PROGRES_RATE = .*;  \\/\\/ OPTIMIZE \\[0\\.02, 0\\.98\\]$/constexpr double TARGET_BEAM_WIDTH_HALF_PROGRES_RATE = 0.9299518304918588;  \\/\\/ OPTIMIZE [0.02, 0.98]/' -e 's/^constexpr auto MAX_BEAM_WIDTH = .*;                        \\/\\/ OPTIMIZE \\[400, 4000\\] LOG$/constexpr auto MAX_BEAM_WIDTH = 632;                        \\/\\/ OPTIMIZE [400, 4000] LOG/'\n",
      "g++ 3_main.cpp -std=gnu++17 -O2 -o 3_main.cpp.out 2> /dev/null\n"
     ]
    },
    {
     "name": "stderr",
     "output_type": "stream",
     "text": [
      "\u001b[32m[I 2021-09-11 16:04:27,896]\u001b[0m Trial 167 finished with value: 2569182046.0 and parameters: {'hash_table_size': 8, 'K_START': 0.07635526494329233, 'K_END': 0.06165180894388112, 'K_H': 0.5477586171315587, 'PURCHASE_TURN_LIMIT': 830, 'ROUGH_HASH': '0', 'TARGET_BEAM_WIDTH_INCREASE_RATE': 0.8515547128153063, 'TARGET_BEAM_WIDTH_HALF_PROGRES_RATE': 0.9775857769349195, 'MAX_BEAM_WIDTH': 878}. Best is trial 135 with value: 2571256139.0.\u001b[0m\n"
     ]
    },
    {
     "name": "stdout",
     "output_type": "stream",
     "text": [
      "callback ok\n",
      "index_parallel=4\n",
      "sed -i 4_main.cpp -e 's/^constexpr int hash_table_size = .*;         \\/\\/ OPTIMIZE \\[6, 18\\]$/constexpr int hash_table_size = 8;         \\/\\/ OPTIMIZE [6, 18]/' -e 's/^constexpr double K_START = .*;  \\/\\/ OPTIMIZE \\[0\\.04, 0\\.2\\] LOG$/constexpr double K_START = 0.07749883522477893;  \\/\\/ OPTIMIZE [0.04, 0.2] LOG/' -e 's/^constexpr double K_END = .*;   \\/\\/ OPTIMIZE \\[0\\.03, 0\\.1\\] LOG$/constexpr double K_END = 0.05994700969161076;   \\/\\/ OPTIMIZE [0.03, 0.1] LOG/' -e 's/^constexpr double K_H = .*;      \\/\\/ OPTIMIZE \\[0\\.001, 0\\.999\\]$/constexpr double K_H = 0.4947277796252968;      \\/\\/ OPTIMIZE [0.001, 0.999]/' -e 's/^constexpr short PURCHASE_TURN_LIMIT = .*;  \\/\\/ OPTIMIZE \\[790, 870\\]$/constexpr short PURCHASE_TURN_LIMIT = 832;  \\/\\/ OPTIMIZE [790, 870]/' -e 's/^constexpr int ROUGH_HASH = .*;      \\/\\/ OPTIMIZE {0, 0b00000001, 0b00010001, 0b00010011, 0b00110011}$/constexpr int ROUGH_HASH = 0;      \\/\\/ OPTIMIZE {0, 0b00000001, 0b00010001, 0b00010011, 0b00110011}/' -e 's/^constexpr double TARGET_BEAM_WIDTH_INCREASE_RATE = .*;      \\/\\/ OPTIMIZE \\[0\\.25, 4\\.0\\] LOG$/constexpr double TARGET_BEAM_WIDTH_INCREASE_RATE = 0.6824871244059472;      \\/\\/ OPTIMIZE [0.25, 4.0] LOG/' -e 's/^constexpr double TARGET_BEAM_WIDTH_HALF_PROGRES_RATE = .*;  \\/\\/ OPTIMIZE \\[0\\.02, 0\\.98\\]$/constexpr double TARGET_BEAM_WIDTH_HALF_PROGRES_RATE = 0.8809932385630972;  \\/\\/ OPTIMIZE [0.02, 0.98]/' -e 's/^constexpr auto MAX_BEAM_WIDTH = .*;                        \\/\\/ OPTIMIZE \\[400, 4000\\] LOG$/constexpr auto MAX_BEAM_WIDTH = 638;                        \\/\\/ OPTIMIZE [400, 4000] LOG/'\n",
      "g++ 4_main.cpp -std=gnu++17 -O2 -o 4_main.cpp.out 2> /dev/null\n"
     ]
    },
    {
     "name": "stderr",
     "output_type": "stream",
     "text": [
      "\u001b[32m[I 2021-09-11 16:05:27,610]\u001b[0m Trial 168 finished with value: 2563238687.0 and parameters: {'hash_table_size': 8, 'K_START': 0.07661587434918338, 'K_END': 0.05994901782403392, 'K_H': 0.5102177747497185, 'PURCHASE_TURN_LIMIT': 842, 'ROUGH_HASH': '0', 'TARGET_BEAM_WIDTH_INCREASE_RATE': 0.8551848370979985, 'TARGET_BEAM_WIDTH_HALF_PROGRES_RATE': 0.8851309756840477, 'MAX_BEAM_WIDTH': 866}. Best is trial 135 with value: 2571256139.0.\u001b[0m\n"
     ]
    },
    {
     "name": "stdout",
     "output_type": "stream",
     "text": [
      "callback ok\n",
      "index_parallel=5\n",
      "sed -i 5_main.cpp -e 's/^constexpr int hash_table_size = .*;         \\/\\/ OPTIMIZE \\[6, 18\\]$/constexpr int hash_table_size = 9;         \\/\\/ OPTIMIZE [6, 18]/' -e 's/^constexpr double K_START = .*;  \\/\\/ OPTIMIZE \\[0\\.04, 0\\.2\\] LOG$/constexpr double K_START = 0.09201348568033926;  \\/\\/ OPTIMIZE [0.04, 0.2] LOG/' -e 's/^constexpr double K_END = .*;   \\/\\/ OPTIMIZE \\[0\\.03, 0\\.1\\] LOG$/constexpr double K_END = 0.0561796288860721;   \\/\\/ OPTIMIZE [0.03, 0.1] LOG/' -e 's/^constexpr double K_H = .*;      \\/\\/ OPTIMIZE \\[0\\.001, 0\\.999\\]$/constexpr double K_H = 0.5657165296869663;      \\/\\/ OPTIMIZE [0.001, 0.999]/' -e 's/^constexpr short PURCHASE_TURN_LIMIT = .*;  \\/\\/ OPTIMIZE \\[790, 870\\]$/constexpr short PURCHASE_TURN_LIMIT = 825;  \\/\\/ OPTIMIZE [790, 870]/' -e 's/^constexpr int ROUGH_HASH = .*;      \\/\\/ OPTIMIZE {0, 0b00000001, 0b00010001, 0b00010011, 0b00110011}$/constexpr int ROUGH_HASH = 0;      \\/\\/ OPTIMIZE {0, 0b00000001, 0b00010001, 0b00010011, 0b00110011}/' -e 's/^constexpr double TARGET_BEAM_WIDTH_INCREASE_RATE = .*;      \\/\\/ OPTIMIZE \\[0\\.25, 4\\.0\\] LOG$/constexpr double TARGET_BEAM_WIDTH_INCREASE_RATE = 0.6640094847809667;      \\/\\/ OPTIMIZE [0.25, 4.0] LOG/' -e 's/^constexpr double TARGET_BEAM_WIDTH_HALF_PROGRES_RATE = .*;  \\/\\/ OPTIMIZE \\[0\\.02, 0\\.98\\]$/constexpr double TARGET_BEAM_WIDTH_HALF_PROGRES_RATE = 0.926166623087887;  \\/\\/ OPTIMIZE [0.02, 0.98]/' -e 's/^constexpr auto MAX_BEAM_WIDTH = .*;                        \\/\\/ OPTIMIZE \\[400, 4000\\] LOG$/constexpr auto MAX_BEAM_WIDTH = 627;                        \\/\\/ OPTIMIZE [400, 4000] LOG/'\n",
      "g++ 5_main.cpp -std=gnu++17 -O2 -o 5_main.cpp.out 2> /dev/null\n"
     ]
    },
    {
     "name": "stderr",
     "output_type": "stream",
     "text": [
      "\u001b[32m[I 2021-09-11 16:06:13,512]\u001b[0m Trial 169 finished with value: 2566708028.0 and parameters: {'hash_table_size': 8, 'K_START': 0.08746600858390048, 'K_END': 0.059424000096608316, 'K_H': 0.38184547266674407, 'PURCHASE_TURN_LIMIT': 842, 'ROUGH_HASH': '0', 'TARGET_BEAM_WIDTH_INCREASE_RATE': 1.565263452525861, 'TARGET_BEAM_WIDTH_HALF_PROGRES_RATE': 0.8769273349362944, 'MAX_BEAM_WIDTH': 632}. Best is trial 135 with value: 2571256139.0.\u001b[0m\n"
     ]
    },
    {
     "name": "stdout",
     "output_type": "stream",
     "text": [
      "callback ok\n",
      "index_parallel=6\n",
      "sed -i 6_main.cpp -e 's/^constexpr int hash_table_size = .*;         \\/\\/ OPTIMIZE \\[6, 18\\]$/constexpr int hash_table_size = 9;         \\/\\/ OPTIMIZE [6, 18]/' -e 's/^constexpr double K_START = .*;  \\/\\/ OPTIMIZE \\[0\\.04, 0\\.2\\] LOG$/constexpr double K_START = 0.08545327120633588;  \\/\\/ OPTIMIZE [0.04, 0.2] LOG/' -e 's/^constexpr double K_END = .*;   \\/\\/ OPTIMIZE \\[0\\.03, 0\\.1\\] LOG$/constexpr double K_END = 0.034937177472698;   \\/\\/ OPTIMIZE [0.03, 0.1] LOG/' -e 's/^constexpr double K_H = .*;      \\/\\/ OPTIMIZE \\[0\\.001, 0\\.999\\]$/constexpr double K_H = 0.5704655417837092;      \\/\\/ OPTIMIZE [0.001, 0.999]/' -e 's/^constexpr short PURCHASE_TURN_LIMIT = .*;  \\/\\/ OPTIMIZE \\[790, 870\\]$/constexpr short PURCHASE_TURN_LIMIT = 845;  \\/\\/ OPTIMIZE [790, 870]/' -e 's/^constexpr int ROUGH_HASH = .*;      \\/\\/ OPTIMIZE {0, 0b00000001, 0b00010001, 0b00010011, 0b00110011}$/constexpr int ROUGH_HASH = 0;      \\/\\/ OPTIMIZE {0, 0b00000001, 0b00010001, 0b00010011, 0b00110011}/' -e 's/^constexpr double TARGET_BEAM_WIDTH_INCREASE_RATE = .*;      \\/\\/ OPTIMIZE \\[0\\.25, 4\\.0\\] LOG$/constexpr double TARGET_BEAM_WIDTH_INCREASE_RATE = 0.6858352543456723;      \\/\\/ OPTIMIZE [0.25, 4.0] LOG/' -e 's/^constexpr double TARGET_BEAM_WIDTH_HALF_PROGRES_RATE = .*;  \\/\\/ OPTIMIZE \\[0\\.02, 0\\.98\\]$/constexpr double TARGET_BEAM_WIDTH_HALF_PROGRES_RATE = 0.9262321298067938;  \\/\\/ OPTIMIZE [0.02, 0.98]/' -e 's/^constexpr auto MAX_BEAM_WIDTH = .*;                        \\/\\/ OPTIMIZE \\[400, 4000\\] LOG$/constexpr auto MAX_BEAM_WIDTH = 630;                        \\/\\/ OPTIMIZE [400, 4000] LOG/'\n",
      "g++ 6_main.cpp -std=gnu++17 -O2 -o 6_main.cpp.out 2> /dev/null\n"
     ]
    },
    {
     "name": "stderr",
     "output_type": "stream",
     "text": [
      "\u001b[32m[I 2021-09-11 16:07:20,133]\u001b[0m Trial 170 finished with value: 2565362701.0 and parameters: {'hash_table_size': 8, 'K_START': 0.0768238178204043, 'K_END': 0.05972655641819792, 'K_H': 0.5699082881661551, 'PURCHASE_TURN_LIMIT': 843, 'ROUGH_HASH': '0', 'TARGET_BEAM_WIDTH_INCREASE_RATE': 1.5453807491942446, 'TARGET_BEAM_WIDTH_HALF_PROGRES_RATE': 0.8751476489353422, 'MAX_BEAM_WIDTH': 861}. Best is trial 135 with value: 2571256139.0.\u001b[0m\n"
     ]
    },
    {
     "name": "stdout",
     "output_type": "stream",
     "text": [
      "callback ok\n",
      "index_parallel=7\n",
      "sed -i 7_main.cpp -e 's/^constexpr int hash_table_size = .*;         \\/\\/ OPTIMIZE \\[6, 18\\]$/constexpr int hash_table_size = 8;         \\/\\/ OPTIMIZE [6, 18]/' -e 's/^constexpr double K_START = .*;  \\/\\/ OPTIMIZE \\[0\\.04, 0\\.2\\] LOG$/constexpr double K_START = 0.08677579132019755;  \\/\\/ OPTIMIZE [0.04, 0.2] LOG/' -e 's/^constexpr double K_END = .*;   \\/\\/ OPTIMIZE \\[0\\.03, 0\\.1\\] LOG$/constexpr double K_END = 0.05619715976698284;   \\/\\/ OPTIMIZE [0.03, 0.1] LOG/' -e 's/^constexpr double K_H = .*;      \\/\\/ OPTIMIZE \\[0\\.001, 0\\.999\\]$/constexpr double K_H = 0.38968605981102733;      \\/\\/ OPTIMIZE [0.001, 0.999]/' -e 's/^constexpr short PURCHASE_TURN_LIMIT = .*;  \\/\\/ OPTIMIZE \\[790, 870\\]$/constexpr short PURCHASE_TURN_LIMIT = 831;  \\/\\/ OPTIMIZE [790, 870]/' -e 's/^constexpr int ROUGH_HASH = .*;      \\/\\/ OPTIMIZE {0, 0b00000001, 0b00010001, 0b00010011, 0b00110011}$/constexpr int ROUGH_HASH = 0;      \\/\\/ OPTIMIZE {0, 0b00000001, 0b00010001, 0b00010011, 0b00110011}/' -e 's/^constexpr double TARGET_BEAM_WIDTH_INCREASE_RATE = .*;      \\/\\/ OPTIMIZE \\[0\\.25, 4\\.0\\] LOG$/constexpr double TARGET_BEAM_WIDTH_INCREASE_RATE = 0.724801055876744;      \\/\\/ OPTIMIZE [0.25, 4.0] LOG/' -e 's/^constexpr double TARGET_BEAM_WIDTH_HALF_PROGRES_RATE = .*;  \\/\\/ OPTIMIZE \\[0\\.02, 0\\.98\\]$/constexpr double TARGET_BEAM_WIDTH_HALF_PROGRES_RATE = 0.9255284585801364;  \\/\\/ OPTIMIZE [0.02, 0.98]/' -e 's/^constexpr auto MAX_BEAM_WIDTH = .*;                        \\/\\/ OPTIMIZE \\[400, 4000\\] LOG$/constexpr auto MAX_BEAM_WIDTH = 635;                        \\/\\/ OPTIMIZE [400, 4000] LOG/'\n",
      "g++ 7_main.cpp -std=gnu++17 -O2 -o 7_main.cpp.out 2> /dev/null\n"
     ]
    },
    {
     "name": "stderr",
     "output_type": "stream",
     "text": [
      "\u001b[32m[I 2021-09-11 16:07:43,750]\u001b[0m Trial 171 finished with value: 2548774822.0 and parameters: {'hash_table_size': 8, 'K_START': 0.08811883294743482, 'K_END': 0.03607077210611863, 'K_H': 0.5066178898788499, 'PURCHASE_TURN_LIMIT': 844, 'ROUGH_HASH': '0', 'TARGET_BEAM_WIDTH_INCREASE_RATE': 0.7200553828323637, 'TARGET_BEAM_WIDTH_HALF_PROGRES_RATE': 0.9299518304918588, 'MAX_BEAM_WIDTH': 632}. Best is trial 135 with value: 2571256139.0.\u001b[0m\n"
     ]
    },
    {
     "name": "stdout",
     "output_type": "stream",
     "text": [
      "callback ok\n",
      "index_parallel=8\n",
      "sed -i 8_main.cpp -e 's/^constexpr int hash_table_size = .*;         \\/\\/ OPTIMIZE \\[6, 18\\]$/constexpr int hash_table_size = 9;         \\/\\/ OPTIMIZE [6, 18]/' -e 's/^constexpr double K_START = .*;  \\/\\/ OPTIMIZE \\[0\\.04, 0\\.2\\] LOG$/constexpr double K_START = 0.09311993010786404;  \\/\\/ OPTIMIZE [0.04, 0.2] LOG/' -e 's/^constexpr double K_END = .*;   \\/\\/ OPTIMIZE \\[0\\.03, 0\\.1\\] LOG$/constexpr double K_END = 0.06250798373577625;   \\/\\/ OPTIMIZE [0.03, 0.1] LOG/' -e 's/^constexpr double K_H = .*;      \\/\\/ OPTIMIZE \\[0\\.001, 0\\.999\\]$/constexpr double K_H = 0.38120398062001754;      \\/\\/ OPTIMIZE [0.001, 0.999]/' -e 's/^constexpr short PURCHASE_TURN_LIMIT = .*;  \\/\\/ OPTIMIZE \\[790, 870\\]$/constexpr short PURCHASE_TURN_LIMIT = 825;  \\/\\/ OPTIMIZE [790, 870]/' -e 's/^constexpr int ROUGH_HASH = .*;      \\/\\/ OPTIMIZE {0, 0b00000001, 0b00010001, 0b00010011, 0b00110011}$/constexpr int ROUGH_HASH = 0;      \\/\\/ OPTIMIZE {0, 0b00000001, 0b00010001, 0b00010011, 0b00110011}/' -e 's/^constexpr double TARGET_BEAM_WIDTH_INCREASE_RATE = .*;      \\/\\/ OPTIMIZE \\[0\\.25, 4\\.0\\] LOG$/constexpr double TARGET_BEAM_WIDTH_INCREASE_RATE = 1.2811753272364301;      \\/\\/ OPTIMIZE [0.25, 4.0] LOG/' -e 's/^constexpr double TARGET_BEAM_WIDTH_HALF_PROGRES_RATE = .*;  \\/\\/ OPTIMIZE \\[0\\.02, 0\\.98\\]$/constexpr double TARGET_BEAM_WIDTH_HALF_PROGRES_RATE = 0.9235514245083377;  \\/\\/ OPTIMIZE [0.02, 0.98]/' -e 's/^constexpr auto MAX_BEAM_WIDTH = .*;                        \\/\\/ OPTIMIZE \\[400, 4000\\] LOG$/constexpr auto MAX_BEAM_WIDTH = 732;                        \\/\\/ OPTIMIZE [400, 4000] LOG/'\n",
      "g++ 8_main.cpp -std=gnu++17 -O2 -o 8_main.cpp.out 2> /dev/null\n"
     ]
    },
    {
     "name": "stderr",
     "output_type": "stream",
     "text": [
      "\u001b[32m[I 2021-09-11 16:08:42,647]\u001b[0m Trial 172 finished with value: 2571055763.0 and parameters: {'hash_table_size': 8, 'K_START': 0.07749883522477893, 'K_END': 0.05994700969161076, 'K_H': 0.4947277796252968, 'PURCHASE_TURN_LIMIT': 832, 'ROUGH_HASH': '0', 'TARGET_BEAM_WIDTH_INCREASE_RATE': 0.6824871244059472, 'TARGET_BEAM_WIDTH_HALF_PROGRES_RATE': 0.8809932385630972, 'MAX_BEAM_WIDTH': 638}. Best is trial 135 with value: 2571256139.0.\u001b[0m\n"
     ]
    },
    {
     "name": "stdout",
     "output_type": "stream",
     "text": [
      "callback ok\n",
      "index_parallel=9\n",
      "sed -i 9_main.cpp -e 's/^constexpr int hash_table_size = .*;         \\/\\/ OPTIMIZE \\[6, 18\\]$/constexpr int hash_table_size = 9;         \\/\\/ OPTIMIZE [6, 18]/' -e 's/^constexpr double K_START = .*;  \\/\\/ OPTIMIZE \\[0\\.04, 0\\.2\\] LOG$/constexpr double K_START = 0.07552327525189445;  \\/\\/ OPTIMIZE [0.04, 0.2] LOG/' -e 's/^constexpr double K_END = .*;   \\/\\/ OPTIMIZE \\[0\\.03, 0\\.1\\] LOG$/constexpr double K_END = 0.05604559711983815;   \\/\\/ OPTIMIZE [0.03, 0.1] LOG/' -e 's/^constexpr double K_H = .*;      \\/\\/ OPTIMIZE \\[0\\.001, 0\\.999\\]$/constexpr double K_H = 0.39159932929887037;      \\/\\/ OPTIMIZE [0.001, 0.999]/' -e 's/^constexpr short PURCHASE_TURN_LIMIT = .*;  \\/\\/ OPTIMIZE \\[790, 870\\]$/constexpr short PURCHASE_TURN_LIMIT = 832;  \\/\\/ OPTIMIZE [790, 870]/' -e 's/^constexpr int ROUGH_HASH = .*;      \\/\\/ OPTIMIZE {0, 0b00000001, 0b00010001, 0b00010011, 0b00110011}$/constexpr int ROUGH_HASH = 0;      \\/\\/ OPTIMIZE {0, 0b00000001, 0b00010001, 0b00010011, 0b00110011}/' -e 's/^constexpr double TARGET_BEAM_WIDTH_INCREASE_RATE = .*;      \\/\\/ OPTIMIZE \\[0\\.25, 4\\.0\\] LOG$/constexpr double TARGET_BEAM_WIDTH_INCREASE_RATE = 0.6598138984906631;      \\/\\/ OPTIMIZE [0.25, 4.0] LOG/' -e 's/^constexpr double TARGET_BEAM_WIDTH_HALF_PROGRES_RATE = .*;  \\/\\/ OPTIMIZE \\[0\\.02, 0\\.98\\]$/constexpr double TARGET_BEAM_WIDTH_HALF_PROGRES_RATE = 0.9218122245991414;  \\/\\/ OPTIMIZE [0.02, 0.98]/' -e 's/^constexpr auto MAX_BEAM_WIDTH = .*;                        \\/\\/ OPTIMIZE \\[400, 4000\\] LOG$/constexpr auto MAX_BEAM_WIDTH = 652;                        \\/\\/ OPTIMIZE [400, 4000] LOG/'\n",
      "g++ 9_main.cpp -std=gnu++17 -O2 -o 9_main.cpp.out 2> /dev/null\n"
     ]
    },
    {
     "name": "stderr",
     "output_type": "stream",
     "text": [
      "\u001b[32m[I 2021-09-11 16:10:54,565]\u001b[0m Trial 173 finished with value: 2551479531.0 and parameters: {'hash_table_size': 9, 'K_START': 0.09201348568033926, 'K_END': 0.0561796288860721, 'K_H': 0.5657165296869663, 'PURCHASE_TURN_LIMIT': 825, 'ROUGH_HASH': '0', 'TARGET_BEAM_WIDTH_INCREASE_RATE': 0.6640094847809667, 'TARGET_BEAM_WIDTH_HALF_PROGRES_RATE': 0.926166623087887, 'MAX_BEAM_WIDTH': 627}. Best is trial 135 with value: 2571256139.0.\u001b[0m\n"
     ]
    },
    {
     "name": "stdout",
     "output_type": "stream",
     "text": [
      "callback ok\n",
      "index_parallel=10\n",
      "sed -i 10_main.cpp -e 's/^constexpr int hash_table_size = .*;         \\/\\/ OPTIMIZE \\[6, 18\\]$/constexpr int hash_table_size = 8;         \\/\\/ OPTIMIZE [6, 18]/' -e 's/^constexpr double K_START = .*;  \\/\\/ OPTIMIZE \\[0\\.04, 0\\.2\\] LOG$/constexpr double K_START = 0.08758869811950142;  \\/\\/ OPTIMIZE [0.04, 0.2] LOG/' -e 's/^constexpr double K_END = .*;   \\/\\/ OPTIMIZE \\[0\\.03, 0\\.1\\] LOG$/constexpr double K_END = 0.06311615361361736;   \\/\\/ OPTIMIZE [0.03, 0.1] LOG/' -e 's/^constexpr double K_H = .*;      \\/\\/ OPTIMIZE \\[0\\.001, 0\\.999\\]$/constexpr double K_H = 0.38459490151856807;      \\/\\/ OPTIMIZE [0.001, 0.999]/' -e 's/^constexpr short PURCHASE_TURN_LIMIT = .*;  \\/\\/ OPTIMIZE \\[790, 870\\]$/constexpr short PURCHASE_TURN_LIMIT = 831;  \\/\\/ OPTIMIZE [790, 870]/' -e 's/^constexpr int ROUGH_HASH = .*;      \\/\\/ OPTIMIZE {0, 0b00000001, 0b00010001, 0b00010011, 0b00110011}$/constexpr int ROUGH_HASH = 0;      \\/\\/ OPTIMIZE {0, 0b00000001, 0b00010001, 0b00010011, 0b00110011}/' -e 's/^constexpr double TARGET_BEAM_WIDTH_INCREASE_RATE = .*;      \\/\\/ OPTIMIZE \\[0\\.25, 4\\.0\\] LOG$/constexpr double TARGET_BEAM_WIDTH_INCREASE_RATE = 0.5521815231584882;      \\/\\/ OPTIMIZE [0.25, 4.0] LOG/' -e 's/^constexpr double TARGET_BEAM_WIDTH_HALF_PROGRES_RATE = .*;  \\/\\/ OPTIMIZE \\[0\\.02, 0\\.98\\]$/constexpr double TARGET_BEAM_WIDTH_HALF_PROGRES_RATE = 0.8925801814806394;  \\/\\/ OPTIMIZE [0.02, 0.98]/' -e 's/^constexpr auto MAX_BEAM_WIDTH = .*;                        \\/\\/ OPTIMIZE \\[400, 4000\\] LOG$/constexpr auto MAX_BEAM_WIDTH = 676;                        \\/\\/ OPTIMIZE [400, 4000] LOG/'\n",
      "g++ 10_main.cpp -std=gnu++17 -O2 -o 10_main.cpp.out 2> /dev/null\n"
     ]
    },
    {
     "name": "stderr",
     "output_type": "stream",
     "text": [
      "\u001b[32m[I 2021-09-11 16:11:37,451]\u001b[0m Trial 175 finished with value: 2570370157.0 and parameters: {'hash_table_size': 8, 'K_START': 0.08677579132019755, 'K_END': 0.05619715976698284, 'K_H': 0.38968605981102733, 'PURCHASE_TURN_LIMIT': 831, 'ROUGH_HASH': '0', 'TARGET_BEAM_WIDTH_INCREASE_RATE': 0.724801055876744, 'TARGET_BEAM_WIDTH_HALF_PROGRES_RATE': 0.9255284585801364, 'MAX_BEAM_WIDTH': 635}. Best is trial 135 with value: 2571256139.0.\u001b[0m\n"
     ]
    },
    {
     "name": "stdout",
     "output_type": "stream",
     "text": [
      "callback ok\n",
      "index_parallel=11\n",
      "sed -i 11_main.cpp -e 's/^constexpr int hash_table_size = .*;         \\/\\/ OPTIMIZE \\[6, 18\\]$/constexpr int hash_table_size = 8;         \\/\\/ OPTIMIZE [6, 18]/' -e 's/^constexpr double K_START = .*;  \\/\\/ OPTIMIZE \\[0\\.04, 0\\.2\\] LOG$/constexpr double K_START = 0.08405608163232402;  \\/\\/ OPTIMIZE [0.04, 0.2] LOG/' -e 's/^constexpr double K_END = .*;   \\/\\/ OPTIMIZE \\[0\\.03, 0\\.1\\] LOG$/constexpr double K_END = 0.05580436414814252;   \\/\\/ OPTIMIZE [0.03, 0.1] LOG/' -e 's/^constexpr double K_H = .*;      \\/\\/ OPTIMIZE \\[0\\.001, 0\\.999\\]$/constexpr double K_H = 0.3907052898034402;      \\/\\/ OPTIMIZE [0.001, 0.999]/' -e 's/^constexpr short PURCHASE_TURN_LIMIT = .*;  \\/\\/ OPTIMIZE \\[790, 870\\]$/constexpr short PURCHASE_TURN_LIMIT = 832;  \\/\\/ OPTIMIZE [790, 870]/' -e 's/^constexpr int ROUGH_HASH = .*;      \\/\\/ OPTIMIZE {0, 0b00000001, 0b00010001, 0b00010011, 0b00110011}$/constexpr int ROUGH_HASH = 0b00010011;      \\/\\/ OPTIMIZE {0, 0b00000001, 0b00010001, 0b00010011, 0b00110011}/' -e 's/^constexpr double TARGET_BEAM_WIDTH_INCREASE_RATE = .*;      \\/\\/ OPTIMIZE \\[0\\.25, 4\\.0\\] LOG$/constexpr double TARGET_BEAM_WIDTH_INCREASE_RATE = 0.6430550557948703;      \\/\\/ OPTIMIZE [0.25, 4.0] LOG/' -e 's/^constexpr double TARGET_BEAM_WIDTH_HALF_PROGRES_RATE = .*;  \\/\\/ OPTIMIZE \\[0\\.02, 0\\.98\\]$/constexpr double TARGET_BEAM_WIDTH_HALF_PROGRES_RATE = 0.8907482697483049;  \\/\\/ OPTIMIZE [0.02, 0.98]/' -e 's/^constexpr auto MAX_BEAM_WIDTH = .*;                        \\/\\/ OPTIMIZE \\[400, 4000\\] LOG$/constexpr auto MAX_BEAM_WIDTH = 684;                        \\/\\/ OPTIMIZE [400, 4000] LOG/'\n",
      "g++ 11_main.cpp -std=gnu++17 -O2 -o 11_main.cpp.out 2> /dev/null\n"
     ]
    },
    {
     "name": "stderr",
     "output_type": "stream",
     "text": [
      "\u001b[32m[I 2021-09-11 16:11:41,555]\u001b[0m Trial 174 finished with value: 2527692922.0 and parameters: {'hash_table_size': 9, 'K_START': 0.08545327120633588, 'K_END': 0.034937177472698, 'K_H': 0.5704655417837092, 'PURCHASE_TURN_LIMIT': 845, 'ROUGH_HASH': '0', 'TARGET_BEAM_WIDTH_INCREASE_RATE': 0.6858352543456723, 'TARGET_BEAM_WIDTH_HALF_PROGRES_RATE': 0.9262321298067938, 'MAX_BEAM_WIDTH': 630}. Best is trial 135 with value: 2571256139.0.\u001b[0m\n"
     ]
    },
    {
     "name": "stdout",
     "output_type": "stream",
     "text": [
      "callback ok\n",
      "index_parallel=0\n",
      "sed -i 0_main.cpp -e 's/^constexpr int hash_table_size = .*;         \\/\\/ OPTIMIZE \\[6, 18\\]$/constexpr int hash_table_size = 8;         \\/\\/ OPTIMIZE [6, 18]/' -e 's/^constexpr double K_START = .*;  \\/\\/ OPTIMIZE \\[0\\.04, 0\\.2\\] LOG$/constexpr double K_START = 0.07446063879492092;  \\/\\/ OPTIMIZE [0.04, 0.2] LOG/' -e 's/^constexpr double K_END = .*;   \\/\\/ OPTIMIZE \\[0\\.03, 0\\.1\\] LOG$/constexpr double K_END = 0.056591157698636936;   \\/\\/ OPTIMIZE [0.03, 0.1] LOG/' -e 's/^constexpr double K_H = .*;      \\/\\/ OPTIMIZE \\[0\\.001, 0\\.999\\]$/constexpr double K_H = 0.3854742864794508;      \\/\\/ OPTIMIZE [0.001, 0.999]/' -e 's/^constexpr short PURCHASE_TURN_LIMIT = .*;  \\/\\/ OPTIMIZE \\[790, 870\\]$/constexpr short PURCHASE_TURN_LIMIT = 832;  \\/\\/ OPTIMIZE [790, 870]/' -e 's/^constexpr int ROUGH_HASH = .*;      \\/\\/ OPTIMIZE {0, 0b00000001, 0b00010001, 0b00010011, 0b00110011}$/constexpr int ROUGH_HASH = 0;      \\/\\/ OPTIMIZE {0, 0b00000001, 0b00010001, 0b00010011, 0b00110011}/' -e 's/^constexpr double TARGET_BEAM_WIDTH_INCREASE_RATE = .*;      \\/\\/ OPTIMIZE \\[0\\.25, 4\\.0\\] LOG$/constexpr double TARGET_BEAM_WIDTH_INCREASE_RATE = 0.7039557100587114;      \\/\\/ OPTIMIZE [0.25, 4.0] LOG/' -e 's/^constexpr double TARGET_BEAM_WIDTH_HALF_PROGRES_RATE = .*;  \\/\\/ OPTIMIZE \\[0\\.02, 0\\.98\\]$/constexpr double TARGET_BEAM_WIDTH_HALF_PROGRES_RATE = 0.8945277574904555;  \\/\\/ OPTIMIZE [0.02, 0.98]/' -e 's/^constexpr auto MAX_BEAM_WIDTH = .*;                        \\/\\/ OPTIMIZE \\[400, 4000\\] LOG$/constexpr auto MAX_BEAM_WIDTH = 676;                        \\/\\/ OPTIMIZE [400, 4000] LOG/'\n",
      "g++ 0_main.cpp -std=gnu++17 -O2 -o 0_main.cpp.out 2> /dev/null\n"
     ]
    },
    {
     "name": "stderr",
     "output_type": "stream",
     "text": [
      "\u001b[32m[I 2021-09-11 16:13:11,187]\u001b[0m Trial 176 finished with value: 2548679887.0 and parameters: {'hash_table_size': 9, 'K_START': 0.09311993010786404, 'K_END': 0.06250798373577625, 'K_H': 0.38120398062001754, 'PURCHASE_TURN_LIMIT': 825, 'ROUGH_HASH': '0', 'TARGET_BEAM_WIDTH_INCREASE_RATE': 1.2811753272364301, 'TARGET_BEAM_WIDTH_HALF_PROGRES_RATE': 0.9235514245083377, 'MAX_BEAM_WIDTH': 732}. Best is trial 135 with value: 2571256139.0.\u001b[0m\n"
     ]
    },
    {
     "name": "stdout",
     "output_type": "stream",
     "text": [
      "callback ok\n",
      "index_parallel=1\n",
      "sed -i 1_main.cpp -e 's/^constexpr int hash_table_size = .*;         \\/\\/ OPTIMIZE \\[6, 18\\]$/constexpr int hash_table_size = 8;         \\/\\/ OPTIMIZE [6, 18]/' -e 's/^constexpr double K_START = .*;  \\/\\/ OPTIMIZE \\[0\\.04, 0\\.2\\] LOG$/constexpr double K_START = 0.0839131341075818;  \\/\\/ OPTIMIZE [0.04, 0.2] LOG/' -e 's/^constexpr double K_END = .*;   \\/\\/ OPTIMIZE \\[0\\.03, 0\\.1\\] LOG$/constexpr double K_END = 0.054791521164078504;   \\/\\/ OPTIMIZE [0.03, 0.1] LOG/' -e 's/^constexpr double K_H = .*;      \\/\\/ OPTIMIZE \\[0\\.001, 0\\.999\\]$/constexpr double K_H = 0.39579306657119007;      \\/\\/ OPTIMIZE [0.001, 0.999]/' -e 's/^constexpr short PURCHASE_TURN_LIMIT = .*;  \\/\\/ OPTIMIZE \\[790, 870\\]$/constexpr short PURCHASE_TURN_LIMIT = 832;  \\/\\/ OPTIMIZE [790, 870]/' -e 's/^constexpr int ROUGH_HASH = .*;      \\/\\/ OPTIMIZE {0, 0b00000001, 0b00010001, 0b00010011, 0b00110011}$/constexpr int ROUGH_HASH = 0b00010011;      \\/\\/ OPTIMIZE {0, 0b00000001, 0b00010001, 0b00010011, 0b00110011}/' -e 's/^constexpr double TARGET_BEAM_WIDTH_INCREASE_RATE = .*;      \\/\\/ OPTIMIZE \\[0\\.25, 4\\.0\\] LOG$/constexpr double TARGET_BEAM_WIDTH_INCREASE_RATE = 0.6145708359612139;      \\/\\/ OPTIMIZE [0.25, 4.0] LOG/' -e 's/^constexpr double TARGET_BEAM_WIDTH_HALF_PROGRES_RATE = .*;  \\/\\/ OPTIMIZE \\[0\\.02, 0\\.98\\]$/constexpr double TARGET_BEAM_WIDTH_HALF_PROGRES_RATE = 0.8931279218989069;  \\/\\/ OPTIMIZE [0.02, 0.98]/' -e 's/^constexpr auto MAX_BEAM_WIDTH = .*;                        \\/\\/ OPTIMIZE \\[400, 4000\\] LOG$/constexpr auto MAX_BEAM_WIDTH = 678;                        \\/\\/ OPTIMIZE [400, 4000] LOG/'\n",
      "g++ 1_main.cpp -std=gnu++17 -O2 -o 1_main.cpp.out 2> /dev/null\n"
     ]
    },
    {
     "name": "stderr",
     "output_type": "stream",
     "text": [
      "\u001b[32m[I 2021-09-11 16:14:10,465]\u001b[0m Trial 177 finished with value: 2550158103.0 and parameters: {'hash_table_size': 9, 'K_START': 0.07552327525189445, 'K_END': 0.05604559711983815, 'K_H': 0.39159932929887037, 'PURCHASE_TURN_LIMIT': 832, 'ROUGH_HASH': '0', 'TARGET_BEAM_WIDTH_INCREASE_RATE': 0.6598138984906631, 'TARGET_BEAM_WIDTH_HALF_PROGRES_RATE': 0.9218122245991414, 'MAX_BEAM_WIDTH': 652}. Best is trial 135 with value: 2571256139.0.\u001b[0m\n"
     ]
    },
    {
     "name": "stdout",
     "output_type": "stream",
     "text": [
      "callback ok\n",
      "index_parallel=2\n",
      "sed -i 2_main.cpp -e 's/^constexpr int hash_table_size = .*;         \\/\\/ OPTIMIZE \\[6, 18\\]$/constexpr int hash_table_size = 8;         \\/\\/ OPTIMIZE [6, 18]/' -e 's/^constexpr double K_START = .*;  \\/\\/ OPTIMIZE \\[0\\.04, 0\\.2\\] LOG$/constexpr double K_START = 0.08555243315838057;  \\/\\/ OPTIMIZE [0.04, 0.2] LOG/' -e 's/^constexpr double K_END = .*;   \\/\\/ OPTIMIZE \\[0\\.03, 0\\.1\\] LOG$/constexpr double K_END = 0.058992949921192216;   \\/\\/ OPTIMIZE [0.03, 0.1] LOG/' -e 's/^constexpr double K_H = .*;      \\/\\/ OPTIMIZE \\[0\\.001, 0\\.999\\]$/constexpr double K_H = 0.33455402460831685;      \\/\\/ OPTIMIZE [0.001, 0.999]/' -e 's/^constexpr short PURCHASE_TURN_LIMIT = .*;  \\/\\/ OPTIMIZE \\[790, 870\\]$/constexpr short PURCHASE_TURN_LIMIT = 838;  \\/\\/ OPTIMIZE [790, 870]/' -e 's/^constexpr int ROUGH_HASH = .*;      \\/\\/ OPTIMIZE {0, 0b00000001, 0b00010001, 0b00010011, 0b00110011}$/constexpr int ROUGH_HASH = 0b00010011;      \\/\\/ OPTIMIZE {0, 0b00000001, 0b00010001, 0b00010011, 0b00110011}/' -e 's/^constexpr double TARGET_BEAM_WIDTH_INCREASE_RATE = .*;      \\/\\/ OPTIMIZE \\[0\\.25, 4\\.0\\] LOG$/constexpr double TARGET_BEAM_WIDTH_INCREASE_RATE = 0.5719978317774689;      \\/\\/ OPTIMIZE [0.25, 4.0] LOG/' -e 's/^constexpr double TARGET_BEAM_WIDTH_HALF_PROGRES_RATE = .*;  \\/\\/ OPTIMIZE \\[0\\.02, 0\\.98\\]$/constexpr double TARGET_BEAM_WIDTH_HALF_PROGRES_RATE = 0.892029204044112;  \\/\\/ OPTIMIZE [0.02, 0.98]/' -e 's/^constexpr auto MAX_BEAM_WIDTH = .*;                        \\/\\/ OPTIMIZE \\[400, 4000\\] LOG$/constexpr auto MAX_BEAM_WIDTH = 694;                        \\/\\/ OPTIMIZE [400, 4000] LOG/'\n",
      "g++ 2_main.cpp -std=gnu++17 -O2 -o 2_main.cpp.out 2> /dev/null\n"
     ]
    },
    {
     "name": "stderr",
     "output_type": "stream",
     "text": [
      "\u001b[32m[I 2021-09-11 16:15:07,172]\u001b[0m Trial 178 finished with value: 2564087978.0 and parameters: {'hash_table_size': 8, 'K_START': 0.08758869811950142, 'K_END': 0.06311615361361736, 'K_H': 0.38459490151856807, 'PURCHASE_TURN_LIMIT': 831, 'ROUGH_HASH': '0', 'TARGET_BEAM_WIDTH_INCREASE_RATE': 0.5521815231584882, 'TARGET_BEAM_WIDTH_HALF_PROGRES_RATE': 0.8925801814806394, 'MAX_BEAM_WIDTH': 676}. Best is trial 135 with value: 2571256139.0.\u001b[0m\n"
     ]
    },
    {
     "name": "stdout",
     "output_type": "stream",
     "text": [
      "callback ok\n",
      "index_parallel=3\n",
      "sed -i 3_main.cpp -e 's/^constexpr int hash_table_size = .*;         \\/\\/ OPTIMIZE \\[6, 18\\]$/constexpr int hash_table_size = 8;         \\/\\/ OPTIMIZE [6, 18]/' -e 's/^constexpr double K_START = .*;  \\/\\/ OPTIMIZE \\[0\\.04, 0\\.2\\] LOG$/constexpr double K_START = 0.08439381469887719;  \\/\\/ OPTIMIZE [0.04, 0.2] LOG/' -e 's/^constexpr double K_END = .*;   \\/\\/ OPTIMIZE \\[0\\.03, 0\\.1\\] LOG$/constexpr double K_END = 0.0544685873389391;   \\/\\/ OPTIMIZE [0.03, 0.1] LOG/' -e 's/^constexpr double K_H = .*;      \\/\\/ OPTIMIZE \\[0\\.001, 0\\.999\\]$/constexpr double K_H = 0.2805626686613138;      \\/\\/ OPTIMIZE [0.001, 0.999]/' -e 's/^constexpr short PURCHASE_TURN_LIMIT = .*;  \\/\\/ OPTIMIZE \\[790, 870\\]$/constexpr short PURCHASE_TURN_LIMIT = 838;  \\/\\/ OPTIMIZE [790, 870]/' -e 's/^constexpr int ROUGH_HASH = .*;      \\/\\/ OPTIMIZE {0, 0b00000001, 0b00010001, 0b00010011, 0b00110011}$/constexpr int ROUGH_HASH = 0b00010011;      \\/\\/ OPTIMIZE {0, 0b00000001, 0b00010001, 0b00010011, 0b00110011}/' -e 's/^constexpr double TARGET_BEAM_WIDTH_INCREASE_RATE = .*;      \\/\\/ OPTIMIZE \\[0\\.25, 4\\.0\\] LOG$/constexpr double TARGET_BEAM_WIDTH_INCREASE_RATE = 0.6324245247886333;      \\/\\/ OPTIMIZE [0.25, 4.0] LOG/' -e 's/^constexpr double TARGET_BEAM_WIDTH_HALF_PROGRES_RATE = .*;  \\/\\/ OPTIMIZE \\[0\\.02, 0\\.98\\]$/constexpr double TARGET_BEAM_WIDTH_HALF_PROGRES_RATE = 0.8169162165789503;  \\/\\/ OPTIMIZE [0.02, 0.98]/' -e 's/^constexpr auto MAX_BEAM_WIDTH = .*;                        \\/\\/ OPTIMIZE \\[400, 4000\\] LOG$/constexpr auto MAX_BEAM_WIDTH = 673;                        \\/\\/ OPTIMIZE [400, 4000] LOG/'\n",
      "g++ 3_main.cpp -std=gnu++17 -O2 -o 3_main.cpp.out 2> /dev/null\n"
     ]
    },
    {
     "name": "stderr",
     "output_type": "stream",
     "text": [
      "\u001b[32m[I 2021-09-11 16:15:45,329]\u001b[0m Trial 179 finished with value: 2545290118.0 and parameters: {'hash_table_size': 8, 'K_START': 0.08405608163232402, 'K_END': 0.05580436414814252, 'K_H': 0.3907052898034402, 'PURCHASE_TURN_LIMIT': 832, 'ROUGH_HASH': '0b00010011', 'TARGET_BEAM_WIDTH_INCREASE_RATE': 0.6430550557948703, 'TARGET_BEAM_WIDTH_HALF_PROGRES_RATE': 0.8907482697483049, 'MAX_BEAM_WIDTH': 684}. Best is trial 135 with value: 2571256139.0.\u001b[0m\n"
     ]
    },
    {
     "name": "stdout",
     "output_type": "stream",
     "text": [
      "callback ok\n",
      "index_parallel=4\n",
      "sed -i 4_main.cpp -e 's/^constexpr int hash_table_size = .*;         \\/\\/ OPTIMIZE \\[6, 18\\]$/constexpr int hash_table_size = 7;         \\/\\/ OPTIMIZE [6, 18]/' -e 's/^constexpr double K_START = .*;  \\/\\/ OPTIMIZE \\[0\\.04, 0\\.2\\] LOG$/constexpr double K_START = 0.09598939111610318;  \\/\\/ OPTIMIZE [0.04, 0.2] LOG/' -e 's/^constexpr double K_END = .*;   \\/\\/ OPTIMIZE \\[0\\.03, 0\\.1\\] LOG$/constexpr double K_END = 0.059928127362898286;   \\/\\/ OPTIMIZE [0.03, 0.1] LOG/' -e 's/^constexpr double K_H = .*;      \\/\\/ OPTIMIZE \\[0\\.001, 0\\.999\\]$/constexpr double K_H = 0.5464268958835085;      \\/\\/ OPTIMIZE [0.001, 0.999]/' -e 's/^constexpr short PURCHASE_TURN_LIMIT = .*;  \\/\\/ OPTIMIZE \\[790, 870\\]$/constexpr short PURCHASE_TURN_LIMIT = 850;  \\/\\/ OPTIMIZE [790, 870]/' -e 's/^constexpr int ROUGH_HASH = .*;      \\/\\/ OPTIMIZE {0, 0b00000001, 0b00010001, 0b00010011, 0b00110011}$/constexpr int ROUGH_HASH = 0;      \\/\\/ OPTIMIZE {0, 0b00000001, 0b00010001, 0b00010011, 0b00110011}/' -e 's/^constexpr double TARGET_BEAM_WIDTH_INCREASE_RATE = .*;      \\/\\/ OPTIMIZE \\[0\\.25, 4\\.0\\] LOG$/constexpr double TARGET_BEAM_WIDTH_INCREASE_RATE = 1.5650530932274354;      \\/\\/ OPTIMIZE [0.25, 4.0] LOG/' -e 's/^constexpr double TARGET_BEAM_WIDTH_HALF_PROGRES_RATE = .*;  \\/\\/ OPTIMIZE \\[0\\.02, 0\\.98\\]$/constexpr double TARGET_BEAM_WIDTH_HALF_PROGRES_RATE = 0.8167753103785171;  \\/\\/ OPTIMIZE [0.02, 0.98]/' -e 's/^constexpr auto MAX_BEAM_WIDTH = .*;                        \\/\\/ OPTIMIZE \\[400, 4000\\] LOG$/constexpr auto MAX_BEAM_WIDTH = 1491;                        \\/\\/ OPTIMIZE [400, 4000] LOG/'\n",
      "g++ 4_main.cpp -std=gnu++17 -O2 -o 4_main.cpp.out 2> /dev/null\n"
     ]
    },
    {
     "name": "stderr",
     "output_type": "stream",
     "text": [
      "\u001b[32m[I 2021-09-11 16:15:55,420]\u001b[0m Trial 180 finished with value: 2566570090.0 and parameters: {'hash_table_size': 8, 'K_START': 0.07446063879492092, 'K_END': 0.056591157698636936, 'K_H': 0.3854742864794508, 'PURCHASE_TURN_LIMIT': 832, 'ROUGH_HASH': '0', 'TARGET_BEAM_WIDTH_INCREASE_RATE': 0.7039557100587114, 'TARGET_BEAM_WIDTH_HALF_PROGRES_RATE': 0.8945277574904555, 'MAX_BEAM_WIDTH': 676}. Best is trial 135 with value: 2571256139.0.\u001b[0m\n"
     ]
    },
    {
     "name": "stdout",
     "output_type": "stream",
     "text": [
      "callback ok\n",
      "index_parallel=5\n",
      "sed -i 5_main.cpp -e 's/^constexpr int hash_table_size = .*;         \\/\\/ OPTIMIZE \\[6, 18\\]$/constexpr int hash_table_size = 8;         \\/\\/ OPTIMIZE [6, 18]/' -e 's/^constexpr double K_START = .*;  \\/\\/ OPTIMIZE \\[0\\.04, 0\\.2\\] LOG$/constexpr double K_START = 0.07045774016260697;  \\/\\/ OPTIMIZE [0.04, 0.2] LOG/' -e 's/^constexpr double K_END = .*;   \\/\\/ OPTIMIZE \\[0\\.03, 0\\.1\\] LOG$/constexpr double K_END = 0.058933523296824226;   \\/\\/ OPTIMIZE [0.03, 0.1] LOG/' -e 's/^constexpr double K_H = .*;      \\/\\/ OPTIMIZE \\[0\\.001, 0\\.999\\]$/constexpr double K_H = 0.5417891365559354;      \\/\\/ OPTIMIZE [0.001, 0.999]/' -e 's/^constexpr short PURCHASE_TURN_LIMIT = .*;  \\/\\/ OPTIMIZE \\[790, 870\\]$/constexpr short PURCHASE_TURN_LIMIT = 829;  \\/\\/ OPTIMIZE [790, 870]/' -e 's/^constexpr int ROUGH_HASH = .*;      \\/\\/ OPTIMIZE {0, 0b00000001, 0b00010001, 0b00010011, 0b00110011}$/constexpr int ROUGH_HASH = 0;      \\/\\/ OPTIMIZE {0, 0b00000001, 0b00010001, 0b00010011, 0b00110011}/' -e 's/^constexpr double TARGET_BEAM_WIDTH_INCREASE_RATE = .*;      \\/\\/ OPTIMIZE \\[0\\.25, 4\\.0\\] LOG$/constexpr double TARGET_BEAM_WIDTH_INCREASE_RATE = 0.7439133227732952;      \\/\\/ OPTIMIZE [0.25, 4.0] LOG/' -e 's/^constexpr double TARGET_BEAM_WIDTH_HALF_PROGRES_RATE = .*;  \\/\\/ OPTIMIZE \\[0\\.02, 0\\.98\\]$/constexpr double TARGET_BEAM_WIDTH_HALF_PROGRES_RATE = 0.8261794675403759;  \\/\\/ OPTIMIZE [0.02, 0.98]/' -e 's/^constexpr auto MAX_BEAM_WIDTH = .*;                        \\/\\/ OPTIMIZE \\[400, 4000\\] LOG$/constexpr auto MAX_BEAM_WIDTH = 624;                        \\/\\/ OPTIMIZE [400, 4000] LOG/'\n",
      "g++ 5_main.cpp -std=gnu++17 -O2 -o 5_main.cpp.out 2> /dev/null\n"
     ]
    },
    {
     "name": "stderr",
     "output_type": "stream",
     "text": [
      "\u001b[32m[I 2021-09-11 16:17:15,478]\u001b[0m Trial 181 finished with value: 2542029693.0 and parameters: {'hash_table_size': 8, 'K_START': 0.0839131341075818, 'K_END': 0.054791521164078504, 'K_H': 0.39579306657119007, 'PURCHASE_TURN_LIMIT': 832, 'ROUGH_HASH': '0b00010011', 'TARGET_BEAM_WIDTH_INCREASE_RATE': 0.6145708359612139, 'TARGET_BEAM_WIDTH_HALF_PROGRES_RATE': 0.8931279218989069, 'MAX_BEAM_WIDTH': 678}. Best is trial 135 with value: 2571256139.0.\u001b[0m\n"
     ]
    },
    {
     "name": "stdout",
     "output_type": "stream",
     "text": [
      "callback ok\n",
      "index_parallel=6\n",
      "sed -i 6_main.cpp -e 's/^constexpr int hash_table_size = .*;         \\/\\/ OPTIMIZE \\[6, 18\\]$/constexpr int hash_table_size = 8;         \\/\\/ OPTIMIZE [6, 18]/' -e 's/^constexpr double K_START = .*;  \\/\\/ OPTIMIZE \\[0\\.04, 0\\.2\\] LOG$/constexpr double K_START = 0.07317965519660433;  \\/\\/ OPTIMIZE [0.04, 0.2] LOG/' -e 's/^constexpr double K_END = .*;   \\/\\/ OPTIMIZE \\[0\\.03, 0\\.1\\] LOG$/constexpr double K_END = 0.05879502307497004;   \\/\\/ OPTIMIZE [0.03, 0.1] LOG/' -e 's/^constexpr double K_H = .*;      \\/\\/ OPTIMIZE \\[0\\.001, 0\\.999\\]$/constexpr double K_H = 0.5373273849459491;      \\/\\/ OPTIMIZE [0.001, 0.999]/' -e 's/^constexpr short PURCHASE_TURN_LIMIT = .*;  \\/\\/ OPTIMIZE \\[790, 870\\]$/constexpr short PURCHASE_TURN_LIMIT = 838;  \\/\\/ OPTIMIZE [790, 870]/' -e 's/^constexpr int ROUGH_HASH = .*;      \\/\\/ OPTIMIZE {0, 0b00000001, 0b00010001, 0b00010011, 0b00110011}$/constexpr int ROUGH_HASH = 0;      \\/\\/ OPTIMIZE {0, 0b00000001, 0b00010001, 0b00010011, 0b00110011}/' -e 's/^constexpr double TARGET_BEAM_WIDTH_INCREASE_RATE = .*;      \\/\\/ OPTIMIZE \\[0\\.25, 4\\.0\\] LOG$/constexpr double TARGET_BEAM_WIDTH_INCREASE_RATE = 0.8128164246625846;      \\/\\/ OPTIMIZE [0.25, 4.0] LOG/' -e 's/^constexpr double TARGET_BEAM_WIDTH_HALF_PROGRES_RATE = .*;  \\/\\/ OPTIMIZE \\[0\\.02, 0\\.98\\]$/constexpr double TARGET_BEAM_WIDTH_HALF_PROGRES_RATE = 0.8399564572767679;  \\/\\/ OPTIMIZE [0.02, 0.98]/' -e 's/^constexpr auto MAX_BEAM_WIDTH = .*;                        \\/\\/ OPTIMIZE \\[400, 4000\\] LOG$/constexpr auto MAX_BEAM_WIDTH = 580;                        \\/\\/ OPTIMIZE [400, 4000] LOG/'\n",
      "g++ 6_main.cpp -std=gnu++17 -O2 -o 6_main.cpp.out 2> /dev/null\n"
     ]
    },
    {
     "name": "stderr",
     "output_type": "stream",
     "text": [
      "\u001b[32m[I 2021-09-11 16:18:19,481]\u001b[0m Trial 182 finished with value: 2537090999.0 and parameters: {'hash_table_size': 8, 'K_START': 0.08555243315838057, 'K_END': 0.058992949921192216, 'K_H': 0.33455402460831685, 'PURCHASE_TURN_LIMIT': 838, 'ROUGH_HASH': '0b00010011', 'TARGET_BEAM_WIDTH_INCREASE_RATE': 0.5719978317774689, 'TARGET_BEAM_WIDTH_HALF_PROGRES_RATE': 0.892029204044112, 'MAX_BEAM_WIDTH': 694}. Best is trial 135 with value: 2571256139.0.\u001b[0m\n"
     ]
    },
    {
     "name": "stdout",
     "output_type": "stream",
     "text": [
      "callback ok\n",
      "index_parallel=7\n"
     ]
    },
    {
     "name": "stderr",
     "output_type": "stream",
     "text": [
      "\u001b[32m[I 2021-09-11 16:18:19,979]\u001b[0m Trial 184 finished with value: 2507180189.0 and parameters: {'hash_table_size': 7, 'K_START': 0.09598939111610318, 'K_END': 0.059928127362898286, 'K_H': 0.5464268958835085, 'PURCHASE_TURN_LIMIT': 850, 'ROUGH_HASH': '0', 'TARGET_BEAM_WIDTH_INCREASE_RATE': 1.5650530932274354, 'TARGET_BEAM_WIDTH_HALF_PROGRES_RATE': 0.8167753103785171, 'MAX_BEAM_WIDTH': 1491}. Best is trial 135 with value: 2571256139.0.\u001b[0m\n"
     ]
    },
    {
     "name": "stdout",
     "output_type": "stream",
     "text": [
      "callback ok\n",
      "index_parallel=8\n",
      "sed -i 7_main.cpp -e 's/^constexpr int hash_table_size = .*;         \\/\\/ OPTIMIZE \\[6, 18\\]$/constexpr int hash_table_size = 8;         \\/\\/ OPTIMIZE [6, 18]/' -e 's/^constexpr double K_START = .*;  \\/\\/ OPTIMIZE \\[0\\.04, 0\\.2\\] LOG$/constexpr double K_START = 0.07175769278031005;  \\/\\/ OPTIMIZE [0.04, 0.2] LOG/' -e 's/^constexpr double K_END = .*;   \\/\\/ OPTIMIZE \\[0\\.03, 0\\.1\\] LOG$/constexpr double K_END = 0.057105906261795854;   \\/\\/ OPTIMIZE [0.03, 0.1] LOG/' -e 's/^constexpr double K_H = .*;      \\/\\/ OPTIMIZE \\[0\\.001, 0\\.999\\]$/constexpr double K_H = 0.31979157939784786;      \\/\\/ OPTIMIZE [0.001, 0.999]/' -e 's/^constexpr short PURCHASE_TURN_LIMIT = .*;  \\/\\/ OPTIMIZE \\[790, 870\\]$/constexpr short PURCHASE_TURN_LIMIT = 838;  \\/\\/ OPTIMIZE [790, 870]/' -e 's/^constexpr int ROUGH_HASH = .*;      \\/\\/ OPTIMIZE {0, 0b00000001, 0b00010001, 0b00010011, 0b00110011}$/constexpr int ROUGH_HASH = 0;      \\/\\/ OPTIMIZE {0, 0b00000001, 0b00010001, 0b00010011, 0b00110011}/' -e 's/^constexpr double TARGET_BEAM_WIDTH_INCREASE_RATE = .*;      \\/\\/ OPTIMIZE \\[0\\.25, 4\\.0\\] LOG$/constexpr double TARGET_BEAM_WIDTH_INCREASE_RATE = 0.7520586985200254;      \\/\\/ OPTIMIZE [0.25, 4.0] LOG/' -e 's/^constexpr double TARGET_BEAM_WIDTH_HALF_PROGRES_RATE = .*;  \\/\\/ OPTIMIZE \\[0\\.02, 0\\.98\\]$/constexpr double TARGET_BEAM_WIDTH_HALF_PROGRES_RATE = 0.952629064983641;  \\/\\/ OPTIMIZE [0.02, 0.98]/' -e 's/^constexpr auto MAX_BEAM_WIDTH = .*;                        \\/\\/ OPTIMIZE \\[400, 4000\\] LOG$/constexpr auto MAX_BEAM_WIDTH = 583;                        \\/\\/ OPTIMIZE [400, 4000] LOG/'\n",
      "g++ 7_main.cpp -std=gnu++17 -O2 -o 7_main.cpp.out 2> /dev/null\n",
      "sed -i 8_main.cpp -e 's/^constexpr int hash_table_size = .*;         \\/\\/ OPTIMIZE \\[6, 18\\]$/constexpr int hash_table_size = 8;         \\/\\/ OPTIMIZE [6, 18]/' -e 's/^constexpr double K_START = .*;  \\/\\/ OPTIMIZE \\[0\\.04, 0\\.2\\] LOG$/constexpr double K_START = 0.07101887116077392;  \\/\\/ OPTIMIZE [0.04, 0.2] LOG/' -e 's/^constexpr double K_END = .*;   \\/\\/ OPTIMIZE \\[0\\.03, 0\\.1\\] LOG$/constexpr double K_END = 0.05779836174708241;   \\/\\/ OPTIMIZE [0.03, 0.1] LOG/' -e 's/^constexpr double K_H = .*;      \\/\\/ OPTIMIZE \\[0\\.001, 0\\.999\\]$/constexpr double K_H = 0.41425357286556086;      \\/\\/ OPTIMIZE [0.001, 0.999]/' -e 's/^constexpr short PURCHASE_TURN_LIMIT = .*;  \\/\\/ OPTIMIZE \\[790, 870\\]$/constexpr short PURCHASE_TURN_LIMIT = 838;  \\/\\/ OPTIMIZE [790, 870]/' -e 's/^constexpr int ROUGH_HASH = .*;      \\/\\/ OPTIMIZE {0, 0b00000001, 0b00010001, 0b00010011, 0b00110011}$/constexpr int ROUGH_HASH = 0;      \\/\\/ OPTIMIZE {0, 0b00000001, 0b00010001, 0b00010011, 0b00110011}/' -e 's/^constexpr double TARGET_BEAM_WIDTH_INCREASE_RATE = .*;      \\/\\/ OPTIMIZE \\[0\\.25, 4\\.0\\] LOG$/constexpr double TARGET_BEAM_WIDTH_INCREASE_RATE = 0.7286306657502363;      \\/\\/ OPTIMIZE [0.25, 4.0] LOG/' -e 's/^constexpr double TARGET_BEAM_WIDTH_HALF_PROGRES_RATE = .*;  \\/\\/ OPTIMIZE \\[0\\.02, 0\\.98\\]$/constexpr double TARGET_BEAM_WIDTH_HALF_PROGRES_RATE = 0.8376370625159723;  \\/\\/ OPTIMIZE [0.02, 0.98]/' -e 's/^constexpr auto MAX_BEAM_WIDTH = .*;                        \\/\\/ OPTIMIZE \\[400, 4000\\] LOG$/constexpr auto MAX_BEAM_WIDTH = 789;                        \\/\\/ OPTIMIZE [400, 4000] LOG/'\n",
      "g++ 8_main.cpp -std=gnu++17 -O2 -o 8_main.cpp.out 2> /dev/null\n"
     ]
    },
    {
     "name": "stderr",
     "output_type": "stream",
     "text": [
      "\u001b[32m[I 2021-09-11 16:19:15,156]\u001b[0m Trial 183 finished with value: 2542087319.0 and parameters: {'hash_table_size': 8, 'K_START': 0.08439381469887719, 'K_END': 0.0544685873389391, 'K_H': 0.2805626686613138, 'PURCHASE_TURN_LIMIT': 838, 'ROUGH_HASH': '0b00010011', 'TARGET_BEAM_WIDTH_INCREASE_RATE': 0.6324245247886333, 'TARGET_BEAM_WIDTH_HALF_PROGRES_RATE': 0.8169162165789503, 'MAX_BEAM_WIDTH': 673}. Best is trial 135 with value: 2571256139.0.\u001b[0m\n"
     ]
    },
    {
     "name": "stdout",
     "output_type": "stream",
     "text": [
      "callback ok\n",
      "index_parallel=9\n",
      "sed -i 9_main.cpp -e 's/^constexpr int hash_table_size = .*;         \\/\\/ OPTIMIZE \\[6, 18\\]$/constexpr int hash_table_size = 8;         \\/\\/ OPTIMIZE [6, 18]/' -e 's/^constexpr double K_START = .*;  \\/\\/ OPTIMIZE \\[0\\.04, 0\\.2\\] LOG$/constexpr double K_START = 0.07099535907831833;  \\/\\/ OPTIMIZE [0.04, 0.2] LOG/' -e 's/^constexpr double K_END = .*;   \\/\\/ OPTIMIZE \\[0\\.03, 0\\.1\\] LOG$/constexpr double K_END = 0.05682979370307168;   \\/\\/ OPTIMIZE [0.03, 0.1] LOG/' -e 's/^constexpr double K_H = .*;      \\/\\/ OPTIMIZE \\[0\\.001, 0\\.999\\]$/constexpr double K_H = 0.3096157259018326;      \\/\\/ OPTIMIZE [0.001, 0.999]/' -e 's/^constexpr short PURCHASE_TURN_LIMIT = .*;  \\/\\/ OPTIMIZE \\[790, 870\\]$/constexpr short PURCHASE_TURN_LIMIT = 829;  \\/\\/ OPTIMIZE [790, 870]/' -e 's/^constexpr int ROUGH_HASH = .*;      \\/\\/ OPTIMIZE {0, 0b00000001, 0b00010001, 0b00010011, 0b00110011}$/constexpr int ROUGH_HASH = 0;      \\/\\/ OPTIMIZE {0, 0b00000001, 0b00010001, 0b00010011, 0b00110011}/' -e 's/^constexpr double TARGET_BEAM_WIDTH_INCREASE_RATE = .*;      \\/\\/ OPTIMIZE \\[0\\.25, 4\\.0\\] LOG$/constexpr double TARGET_BEAM_WIDTH_INCREASE_RATE = 0.7863256973892976;      \\/\\/ OPTIMIZE [0.25, 4.0] LOG/' -e 's/^constexpr double TARGET_BEAM_WIDTH_HALF_PROGRES_RATE = .*;  \\/\\/ OPTIMIZE \\[0\\.02, 0\\.98\\]$/constexpr double TARGET_BEAM_WIDTH_HALF_PROGRES_RATE = 0.9537078051038519;  \\/\\/ OPTIMIZE [0.02, 0.98]/' -e 's/^constexpr auto MAX_BEAM_WIDTH = .*;                        \\/\\/ OPTIMIZE \\[400, 4000\\] LOG$/constexpr auto MAX_BEAM_WIDTH = 587;                        \\/\\/ OPTIMIZE [400, 4000] LOG/'\n",
      "g++ 9_main.cpp -std=gnu++17 -O2 -o 9_main.cpp.out 2> /dev/null\n"
     ]
    },
    {
     "name": "stderr",
     "output_type": "stream",
     "text": [
      "\u001b[32m[I 2021-09-11 16:20:09,585]\u001b[0m Trial 185 finished with value: 2567611196.0 and parameters: {'hash_table_size': 8, 'K_START': 0.07045774016260697, 'K_END': 0.058933523296824226, 'K_H': 0.5417891365559354, 'PURCHASE_TURN_LIMIT': 829, 'ROUGH_HASH': '0', 'TARGET_BEAM_WIDTH_INCREASE_RATE': 0.7439133227732952, 'TARGET_BEAM_WIDTH_HALF_PROGRES_RATE': 0.8261794675403759, 'MAX_BEAM_WIDTH': 624}. Best is trial 135 with value: 2571256139.0.\u001b[0m\n"
     ]
    },
    {
     "name": "stdout",
     "output_type": "stream",
     "text": [
      "callback ok\n",
      "index_parallel=10\n",
      "sed -i 10_main.cpp -e 's/^constexpr int hash_table_size = .*;         \\/\\/ OPTIMIZE \\[6, 18\\]$/constexpr int hash_table_size = 8;         \\/\\/ OPTIMIZE [6, 18]/' -e 's/^constexpr double K_START = .*;  \\/\\/ OPTIMIZE \\[0\\.04, 0\\.2\\] LOG$/constexpr double K_START = 0.07438394274125348;  \\/\\/ OPTIMIZE [0.04, 0.2] LOG/' -e 's/^constexpr double K_END = .*;   \\/\\/ OPTIMIZE \\[0\\.03, 0\\.1\\] LOG$/constexpr double K_END = 0.05828502734161955;   \\/\\/ OPTIMIZE [0.03, 0.1] LOG/' -e 's/^constexpr double K_H = .*;      \\/\\/ OPTIMIZE \\[0\\.001, 0\\.999\\]$/constexpr double K_H = 0.5351856105894004;      \\/\\/ OPTIMIZE [0.001, 0.999]/' -e 's/^constexpr short PURCHASE_TURN_LIMIT = .*;  \\/\\/ OPTIMIZE \\[790, 870\\]$/constexpr short PURCHASE_TURN_LIMIT = 828;  \\/\\/ OPTIMIZE [790, 870]/' -e 's/^constexpr int ROUGH_HASH = .*;      \\/\\/ OPTIMIZE {0, 0b00000001, 0b00010001, 0b00010011, 0b00110011}$/constexpr int ROUGH_HASH = 0;      \\/\\/ OPTIMIZE {0, 0b00000001, 0b00010001, 0b00010011, 0b00110011}/' -e 's/^constexpr double TARGET_BEAM_WIDTH_INCREASE_RATE = .*;      \\/\\/ OPTIMIZE \\[0\\.25, 4\\.0\\] LOG$/constexpr double TARGET_BEAM_WIDTH_INCREASE_RATE = 0.747758819249811;      \\/\\/ OPTIMIZE [0.25, 4.0] LOG/' -e 's/^constexpr double TARGET_BEAM_WIDTH_HALF_PROGRES_RATE = .*;  \\/\\/ OPTIMIZE \\[0\\.02, 0\\.98\\]$/constexpr double TARGET_BEAM_WIDTH_HALF_PROGRES_RATE = 0.8402184766645874;  \\/\\/ OPTIMIZE [0.02, 0.98]/' -e 's/^constexpr auto MAX_BEAM_WIDTH = .*;                        \\/\\/ OPTIMIZE \\[400, 4000\\] LOG$/constexpr auto MAX_BEAM_WIDTH = 577;                        \\/\\/ OPTIMIZE [400, 4000] LOG/'\n",
      "g++ 10_main.cpp -std=gnu++17 -O2 -o 10_main.cpp.out 2> /dev/null\n"
     ]
    },
    {
     "name": "stderr",
     "output_type": "stream",
     "text": [
      "\u001b[32m[I 2021-09-11 16:21:31,291]\u001b[0m Trial 186 finished with value: 2569236836.0 and parameters: {'hash_table_size': 8, 'K_START': 0.07317965519660433, 'K_END': 0.05879502307497004, 'K_H': 0.5373273849459491, 'PURCHASE_TURN_LIMIT': 838, 'ROUGH_HASH': '0', 'TARGET_BEAM_WIDTH_INCREASE_RATE': 0.8128164246625846, 'TARGET_BEAM_WIDTH_HALF_PROGRES_RATE': 0.8399564572767679, 'MAX_BEAM_WIDTH': 580}. Best is trial 135 with value: 2571256139.0.\u001b[0m\n"
     ]
    },
    {
     "name": "stdout",
     "output_type": "stream",
     "text": [
      "callback ok\n",
      "index_parallel=11\n",
      "sed -i 11_main.cpp -e 's/^constexpr int hash_table_size = .*;         \\/\\/ OPTIMIZE \\[6, 18\\]$/constexpr int hash_table_size = 8;         \\/\\/ OPTIMIZE [6, 18]/' -e 's/^constexpr double K_START = .*;  \\/\\/ OPTIMIZE \\[0\\.04, 0\\.2\\] LOG$/constexpr double K_START = 0.07114163189588571;  \\/\\/ OPTIMIZE [0.04, 0.2] LOG/' -e 's/^constexpr double K_END = .*;   \\/\\/ OPTIMIZE \\[0\\.03, 0\\.1\\] LOG$/constexpr double K_END = 0.05704913741150239;   \\/\\/ OPTIMIZE [0.03, 0.1] LOG/' -e 's/^constexpr double K_H = .*;      \\/\\/ OPTIMIZE \\[0\\.001, 0\\.999\\]$/constexpr double K_H = 0.5322052353269319;      \\/\\/ OPTIMIZE [0.001, 0.999]/' -e 's/^constexpr short PURCHASE_TURN_LIMIT = .*;  \\/\\/ OPTIMIZE \\[790, 870\\]$/constexpr short PURCHASE_TURN_LIMIT = 828;  \\/\\/ OPTIMIZE [790, 870]/' -e 's/^constexpr int ROUGH_HASH = .*;      \\/\\/ OPTIMIZE {0, 0b00000001, 0b00010001, 0b00010011, 0b00110011}$/constexpr int ROUGH_HASH = 0;      \\/\\/ OPTIMIZE {0, 0b00000001, 0b00010001, 0b00010011, 0b00110011}/' -e 's/^constexpr double TARGET_BEAM_WIDTH_INCREASE_RATE = .*;      \\/\\/ OPTIMIZE \\[0\\.25, 4\\.0\\] LOG$/constexpr double TARGET_BEAM_WIDTH_INCREASE_RATE = 0.7585008234414529;      \\/\\/ OPTIMIZE [0.25, 4.0] LOG/' -e 's/^constexpr double TARGET_BEAM_WIDTH_HALF_PROGRES_RATE = .*;  \\/\\/ OPTIMIZE \\[0\\.02, 0\\.98\\]$/constexpr double TARGET_BEAM_WIDTH_HALF_PROGRES_RATE = 0.8418564504758415;  \\/\\/ OPTIMIZE [0.02, 0.98]/' -e 's/^constexpr auto MAX_BEAM_WIDTH = .*;                        \\/\\/ OPTIMIZE \\[400, 4000\\] LOG$/constexpr auto MAX_BEAM_WIDTH = 581;                        \\/\\/ OPTIMIZE [400, 4000] LOG/'\n",
      "g++ 11_main.cpp -std=gnu++17 -O2 -o 11_main.cpp.out 2> /dev/null\n"
     ]
    },
    {
     "name": "stderr",
     "output_type": "stream",
     "text": [
      "\u001b[32m[I 2021-09-11 16:22:35,256]\u001b[0m Trial 187 finished with value: 2568923043.0 and parameters: {'hash_table_size': 8, 'K_START': 0.07175769278031005, 'K_END': 0.057105906261795854, 'K_H': 0.31979157939784786, 'PURCHASE_TURN_LIMIT': 838, 'ROUGH_HASH': '0', 'TARGET_BEAM_WIDTH_INCREASE_RATE': 0.7520586985200254, 'TARGET_BEAM_WIDTH_HALF_PROGRES_RATE': 0.952629064983641, 'MAX_BEAM_WIDTH': 583}. Best is trial 135 with value: 2571256139.0.\u001b[0m\n"
     ]
    },
    {
     "name": "stdout",
     "output_type": "stream",
     "text": [
      "callback ok\n",
      "index_parallel=0\n",
      "sed -i 0_main.cpp -e 's/^constexpr int hash_table_size = .*;         \\/\\/ OPTIMIZE \\[6, 18\\]$/constexpr int hash_table_size = 7;         \\/\\/ OPTIMIZE [6, 18]/' -e 's/^constexpr double K_START = .*;  \\/\\/ OPTIMIZE \\[0\\.04, 0\\.2\\] LOG$/constexpr double K_START = 0.07056561548071802;  \\/\\/ OPTIMIZE [0.04, 0.2] LOG/' -e 's/^constexpr double K_END = .*;   \\/\\/ OPTIMIZE \\[0\\.03, 0\\.1\\] LOG$/constexpr double K_END = 0.05850593486094387;   \\/\\/ OPTIMIZE [0.03, 0.1] LOG/' -e 's/^constexpr double K_H = .*;      \\/\\/ OPTIMIZE \\[0\\.001, 0\\.999\\]$/constexpr double K_H = 0.5363670823837883;      \\/\\/ OPTIMIZE [0.001, 0.999]/' -e 's/^constexpr short PURCHASE_TURN_LIMIT = .*;  \\/\\/ OPTIMIZE \\[790, 870\\]$/constexpr short PURCHASE_TURN_LIMIT = 835;  \\/\\/ OPTIMIZE [790, 870]/' -e 's/^constexpr int ROUGH_HASH = .*;      \\/\\/ OPTIMIZE {0, 0b00000001, 0b00010001, 0b00010011, 0b00110011}$/constexpr int ROUGH_HASH = 0;      \\/\\/ OPTIMIZE {0, 0b00000001, 0b00010001, 0b00010011, 0b00110011}/' -e 's/^constexpr double TARGET_BEAM_WIDTH_INCREASE_RATE = .*;      \\/\\/ OPTIMIZE \\[0\\.25, 4\\.0\\] LOG$/constexpr double TARGET_BEAM_WIDTH_INCREASE_RATE = 0.7487071121781783;      \\/\\/ OPTIMIZE [0.25, 4.0] LOG/' -e 's/^constexpr double TARGET_BEAM_WIDTH_HALF_PROGRES_RATE = .*;  \\/\\/ OPTIMIZE \\[0\\.02, 0\\.98\\]$/constexpr double TARGET_BEAM_WIDTH_HALF_PROGRES_RATE = 0.8724169372401029;  \\/\\/ OPTIMIZE [0.02, 0.98]/' -e 's/^constexpr auto MAX_BEAM_WIDTH = .*;                        \\/\\/ OPTIMIZE \\[400, 4000\\] LOG$/constexpr auto MAX_BEAM_WIDTH = 591;                        \\/\\/ OPTIMIZE [400, 4000] LOG/'\n",
      "g++ 0_main.cpp -std=gnu++17 -O2 -o 0_main.cpp.out 2> /dev/null\n"
     ]
    },
    {
     "name": "stderr",
     "output_type": "stream",
     "text": [
      "\u001b[32m[I 2021-09-11 16:22:39,059]\u001b[0m Trial 188 finished with value: 2567567832.0 and parameters: {'hash_table_size': 8, 'K_START': 0.07101887116077392, 'K_END': 0.05779836174708241, 'K_H': 0.41425357286556086, 'PURCHASE_TURN_LIMIT': 838, 'ROUGH_HASH': '0', 'TARGET_BEAM_WIDTH_INCREASE_RATE': 0.7286306657502363, 'TARGET_BEAM_WIDTH_HALF_PROGRES_RATE': 0.8376370625159723, 'MAX_BEAM_WIDTH': 789}. Best is trial 135 with value: 2571256139.0.\u001b[0m\n"
     ]
    },
    {
     "name": "stdout",
     "output_type": "stream",
     "text": [
      "callback ok\n",
      "index_parallel=1\n",
      "sed -i 1_main.cpp -e 's/^constexpr int hash_table_size = .*;         \\/\\/ OPTIMIZE \\[6, 18\\]$/constexpr int hash_table_size = 7;         \\/\\/ OPTIMIZE [6, 18]/' -e 's/^constexpr double K_START = .*;  \\/\\/ OPTIMIZE \\[0\\.04, 0\\.2\\] LOG$/constexpr double K_START = 0.07015724089880913;  \\/\\/ OPTIMIZE [0.04, 0.2] LOG/' -e 's/^constexpr double K_END = .*;   \\/\\/ OPTIMIZE \\[0\\.03, 0\\.1\\] LOG$/constexpr double K_END = 0.057378571538408564;   \\/\\/ OPTIMIZE [0.03, 0.1] LOG/' -e 's/^constexpr double K_H = .*;      \\/\\/ OPTIMIZE \\[0\\.001, 0\\.999\\]$/constexpr double K_H = 0.5305260941334042;      \\/\\/ OPTIMIZE [0.001, 0.999]/' -e 's/^constexpr short PURCHASE_TURN_LIMIT = .*;  \\/\\/ OPTIMIZE \\[790, 870\\]$/constexpr short PURCHASE_TURN_LIMIT = 837;  \\/\\/ OPTIMIZE [790, 870]/' -e 's/^constexpr int ROUGH_HASH = .*;      \\/\\/ OPTIMIZE {0, 0b00000001, 0b00010001, 0b00010011, 0b00110011}$/constexpr int ROUGH_HASH = 0;      \\/\\/ OPTIMIZE {0, 0b00000001, 0b00010001, 0b00010011, 0b00110011}/' -e 's/^constexpr double TARGET_BEAM_WIDTH_INCREASE_RATE = .*;      \\/\\/ OPTIMIZE \\[0\\.25, 4\\.0\\] LOG$/constexpr double TARGET_BEAM_WIDTH_INCREASE_RATE = 0.7373962221662296;      \\/\\/ OPTIMIZE [0.25, 4.0] LOG/' -e 's/^constexpr double TARGET_BEAM_WIDTH_HALF_PROGRES_RATE = .*;  \\/\\/ OPTIMIZE \\[0\\.02, 0\\.98\\]$/constexpr double TARGET_BEAM_WIDTH_HALF_PROGRES_RATE = 0.8296622030936451;  \\/\\/ OPTIMIZE [0.02, 0.98]/' -e 's/^constexpr auto MAX_BEAM_WIDTH = .*;                        \\/\\/ OPTIMIZE \\[400, 4000\\] LOG$/constexpr auto MAX_BEAM_WIDTH = 573;                        \\/\\/ OPTIMIZE [400, 4000] LOG/'\n",
      "g++ 1_main.cpp -std=gnu++17 -O2 -o 1_main.cpp.out 2> /dev/null\n"
     ]
    },
    {
     "name": "stderr",
     "output_type": "stream",
     "text": [
      "\u001b[32m[I 2021-09-11 16:23:28,480]\u001b[0m Trial 189 finished with value: 2562095252.0 and parameters: {'hash_table_size': 8, 'K_START': 0.07099535907831833, 'K_END': 0.05682979370307168, 'K_H': 0.3096157259018326, 'PURCHASE_TURN_LIMIT': 829, 'ROUGH_HASH': '0', 'TARGET_BEAM_WIDTH_INCREASE_RATE': 0.7863256973892976, 'TARGET_BEAM_WIDTH_HALF_PROGRES_RATE': 0.9537078051038519, 'MAX_BEAM_WIDTH': 587}. Best is trial 135 with value: 2571256139.0.\u001b[0m\n"
     ]
    },
    {
     "name": "stdout",
     "output_type": "stream",
     "text": [
      "callback ok\n",
      "index_parallel=2\n",
      "sed -i 2_main.cpp -e 's/^constexpr int hash_table_size = .*;         \\/\\/ OPTIMIZE \\[6, 18\\]$/constexpr int hash_table_size = 7;         \\/\\/ OPTIMIZE [6, 18]/' -e 's/^constexpr double K_START = .*;  \\/\\/ OPTIMIZE \\[0\\.04, 0\\.2\\] LOG$/constexpr double K_START = 0.06884407848366857;  \\/\\/ OPTIMIZE [0.04, 0.2] LOG/' -e 's/^constexpr double K_END = .*;   \\/\\/ OPTIMIZE \\[0\\.03, 0\\.1\\] LOG$/constexpr double K_END = 0.05866316752082973;   \\/\\/ OPTIMIZE [0.03, 0.1] LOG/' -e 's/^constexpr double K_H = .*;      \\/\\/ OPTIMIZE \\[0\\.001, 0\\.999\\]$/constexpr double K_H = 0.5270602794961872;      \\/\\/ OPTIMIZE [0.001, 0.999]/' -e 's/^constexpr short PURCHASE_TURN_LIMIT = .*;  \\/\\/ OPTIMIZE \\[790, 870\\]$/constexpr short PURCHASE_TURN_LIMIT = 836;  \\/\\/ OPTIMIZE [790, 870]/' -e 's/^constexpr int ROUGH_HASH = .*;      \\/\\/ OPTIMIZE {0, 0b00000001, 0b00010001, 0b00010011, 0b00110011}$/constexpr int ROUGH_HASH = 0;      \\/\\/ OPTIMIZE {0, 0b00000001, 0b00010001, 0b00010011, 0b00110011}/' -e 's/^constexpr double TARGET_BEAM_WIDTH_INCREASE_RATE = .*;      \\/\\/ OPTIMIZE \\[0\\.25, 4\\.0\\] LOG$/constexpr double TARGET_BEAM_WIDTH_INCREASE_RATE = 0.774947756177353;      \\/\\/ OPTIMIZE [0.25, 4.0] LOG/' -e 's/^constexpr double TARGET_BEAM_WIDTH_HALF_PROGRES_RATE = .*;  \\/\\/ OPTIMIZE \\[0\\.02, 0\\.98\\]$/constexpr double TARGET_BEAM_WIDTH_HALF_PROGRES_RATE = 0.8455600442996695;  \\/\\/ OPTIMIZE [0.02, 0.98]/' -e 's/^constexpr auto MAX_BEAM_WIDTH = .*;                        \\/\\/ OPTIMIZE \\[400, 4000\\] LOG$/constexpr auto MAX_BEAM_WIDTH = 616;                        \\/\\/ OPTIMIZE [400, 4000] LOG/'\n",
      "g++ 2_main.cpp -std=gnu++17 -O2 -o 2_main.cpp.out 2> /dev/null\n"
     ]
    },
    {
     "name": "stderr",
     "output_type": "stream",
     "text": [
      "\u001b[32m[I 2021-09-11 16:24:22,845]\u001b[0m Trial 190 finished with value: 2563000155.0 and parameters: {'hash_table_size': 8, 'K_START': 0.07438394274125348, 'K_END': 0.05828502734161955, 'K_H': 0.5351856105894004, 'PURCHASE_TURN_LIMIT': 828, 'ROUGH_HASH': '0', 'TARGET_BEAM_WIDTH_INCREASE_RATE': 0.747758819249811, 'TARGET_BEAM_WIDTH_HALF_PROGRES_RATE': 0.8402184766645874, 'MAX_BEAM_WIDTH': 577}. Best is trial 135 with value: 2571256139.0.\u001b[0m\n"
     ]
    },
    {
     "name": "stdout",
     "output_type": "stream",
     "text": [
      "callback ok\n",
      "index_parallel=3\n",
      "sed -i 3_main.cpp -e 's/^constexpr int hash_table_size = .*;         \\/\\/ OPTIMIZE \\[6, 18\\]$/constexpr int hash_table_size = 8;         \\/\\/ OPTIMIZE [6, 18]/' -e 's/^constexpr double K_START = .*;  \\/\\/ OPTIMIZE \\[0\\.04, 0\\.2\\] LOG$/constexpr double K_START = 0.0699851356528291;  \\/\\/ OPTIMIZE [0.04, 0.2] LOG/' -e 's/^constexpr double K_END = .*;   \\/\\/ OPTIMIZE \\[0\\.03, 0\\.1\\] LOG$/constexpr double K_END = 0.058847686300459626;   \\/\\/ OPTIMIZE [0.03, 0.1] LOG/' -e 's/^constexpr double K_H = .*;      \\/\\/ OPTIMIZE \\[0\\.001, 0\\.999\\]$/constexpr double K_H = 0.4853321530941347;      \\/\\/ OPTIMIZE [0.001, 0.999]/' -e 's/^constexpr short PURCHASE_TURN_LIMIT = .*;  \\/\\/ OPTIMIZE \\[790, 870\\]$/constexpr short PURCHASE_TURN_LIMIT = 837;  \\/\\/ OPTIMIZE [790, 870]/' -e 's/^constexpr int ROUGH_HASH = .*;      \\/\\/ OPTIMIZE {0, 0b00000001, 0b00010001, 0b00010011, 0b00110011}$/constexpr int ROUGH_HASH = 0;      \\/\\/ OPTIMIZE {0, 0b00000001, 0b00010001, 0b00010011, 0b00110011}/' -e 's/^constexpr double TARGET_BEAM_WIDTH_INCREASE_RATE = .*;      \\/\\/ OPTIMIZE \\[0\\.25, 4\\.0\\] LOG$/constexpr double TARGET_BEAM_WIDTH_INCREASE_RATE = 0.758270644991112;      \\/\\/ OPTIMIZE [0.25, 4.0] LOG/' -e 's/^constexpr double TARGET_BEAM_WIDTH_HALF_PROGRES_RATE = .*;  \\/\\/ OPTIMIZE \\[0\\.02, 0\\.98\\]$/constexpr double TARGET_BEAM_WIDTH_HALF_PROGRES_RATE = 0.8717724655547232;  \\/\\/ OPTIMIZE [0.02, 0.98]/' -e 's/^constexpr auto MAX_BEAM_WIDTH = .*;                        \\/\\/ OPTIMIZE \\[400, 4000\\] LOG$/constexpr auto MAX_BEAM_WIDTH = 628;                        \\/\\/ OPTIMIZE [400, 4000] LOG/'\n",
      "g++ 3_main.cpp -std=gnu++17 -O2 -o 3_main.cpp.out 2> /dev/null\n"
     ]
    },
    {
     "name": "stderr",
     "output_type": "stream",
     "text": [
      "\u001b[32m[I 2021-09-11 16:25:00,130]\u001b[0m Trial 192 finished with value: 2513977234.0 and parameters: {'hash_table_size': 7, 'K_START': 0.07056561548071802, 'K_END': 0.05850593486094387, 'K_H': 0.5363670823837883, 'PURCHASE_TURN_LIMIT': 835, 'ROUGH_HASH': '0', 'TARGET_BEAM_WIDTH_INCREASE_RATE': 0.7487071121781783, 'TARGET_BEAM_WIDTH_HALF_PROGRES_RATE': 0.8724169372401029, 'MAX_BEAM_WIDTH': 591}. Best is trial 135 with value: 2571256139.0.\u001b[0m\n"
     ]
    },
    {
     "name": "stdout",
     "output_type": "stream",
     "text": [
      "callback ok\n",
      "index_parallel=4\n",
      "sed -i 4_main.cpp -e 's/^constexpr int hash_table_size = .*;         \\/\\/ OPTIMIZE \\[6, 18\\]$/constexpr int hash_table_size = 8;         \\/\\/ OPTIMIZE [6, 18]/' -e 's/^constexpr double K_START = .*;  \\/\\/ OPTIMIZE \\[0\\.04, 0\\.2\\] LOG$/constexpr double K_START = 0.06813104621434449;  \\/\\/ OPTIMIZE [0.04, 0.2] LOG/' -e 's/^constexpr double K_END = .*;   \\/\\/ OPTIMIZE \\[0\\.03, 0\\.1\\] LOG$/constexpr double K_END = 0.05719218626488905;   \\/\\/ OPTIMIZE [0.03, 0.1] LOG/' -e 's/^constexpr double K_H = .*;      \\/\\/ OPTIMIZE \\[0\\.001, 0\\.999\\]$/constexpr double K_H = 0.5000528779951372;      \\/\\/ OPTIMIZE [0.001, 0.999]/' -e 's/^constexpr short PURCHASE_TURN_LIMIT = .*;  \\/\\/ OPTIMIZE \\[790, 870\\]$/constexpr short PURCHASE_TURN_LIMIT = 838;  \\/\\/ OPTIMIZE [790, 870]/' -e 's/^constexpr int ROUGH_HASH = .*;      \\/\\/ OPTIMIZE {0, 0b00000001, 0b00010001, 0b00010011, 0b00110011}$/constexpr int ROUGH_HASH = 0;      \\/\\/ OPTIMIZE {0, 0b00000001, 0b00010001, 0b00010011, 0b00110011}/' -e 's/^constexpr double TARGET_BEAM_WIDTH_INCREASE_RATE = .*;      \\/\\/ OPTIMIZE \\[0\\.25, 4\\.0\\] LOG$/constexpr double TARGET_BEAM_WIDTH_INCREASE_RATE = 0.8224578218187593;      \\/\\/ OPTIMIZE [0.25, 4.0] LOG/' -e 's/^constexpr double TARGET_BEAM_WIDTH_HALF_PROGRES_RATE = .*;  \\/\\/ OPTIMIZE \\[0\\.02, 0\\.98\\]$/constexpr double TARGET_BEAM_WIDTH_HALF_PROGRES_RATE = 0.8265753912389588;  \\/\\/ OPTIMIZE [0.02, 0.98]/' -e 's/^constexpr auto MAX_BEAM_WIDTH = .*;                        \\/\\/ OPTIMIZE \\[400, 4000\\] LOG$/constexpr auto MAX_BEAM_WIDTH = 617;                        \\/\\/ OPTIMIZE [400, 4000] LOG/'\n",
      "g++ 4_main.cpp -std=gnu++17 -O2 -o 4_main.cpp.out 2> /dev/null\n"
     ]
    },
    {
     "name": "stderr",
     "output_type": "stream",
     "text": [
      "\u001b[32m[I 2021-09-11 16:25:04,079]\u001b[0m Trial 193 finished with value: 2517375411.0 and parameters: {'hash_table_size': 7, 'K_START': 0.07015724089880913, 'K_END': 0.057378571538408564, 'K_H': 0.5305260941334042, 'PURCHASE_TURN_LIMIT': 837, 'ROUGH_HASH': '0', 'TARGET_BEAM_WIDTH_INCREASE_RATE': 0.7373962221662296, 'TARGET_BEAM_WIDTH_HALF_PROGRES_RATE': 0.8296622030936451, 'MAX_BEAM_WIDTH': 573}. Best is trial 135 with value: 2571256139.0.\u001b[0m\n"
     ]
    },
    {
     "name": "stdout",
     "output_type": "stream",
     "text": [
      "callback ok\n",
      "index_parallel=5\n",
      "sed -i 5_main.cpp -e 's/^constexpr int hash_table_size = .*;         \\/\\/ OPTIMIZE \\[6, 18\\]$/constexpr int hash_table_size = 8;         \\/\\/ OPTIMIZE [6, 18]/' -e 's/^constexpr double K_START = .*;  \\/\\/ OPTIMIZE \\[0\\.04, 0\\.2\\] LOG$/constexpr double K_START = 0.07778334438542961;  \\/\\/ OPTIMIZE [0.04, 0.2] LOG/' -e 's/^constexpr double K_END = .*;   \\/\\/ OPTIMIZE \\[0\\.03, 0\\.1\\] LOG$/constexpr double K_END = 0.060199228773282806;   \\/\\/ OPTIMIZE [0.03, 0.1] LOG/' -e 's/^constexpr double K_H = .*;      \\/\\/ OPTIMIZE \\[0\\.001, 0\\.999\\]$/constexpr double K_H = 0.4943106305138303;      \\/\\/ OPTIMIZE [0.001, 0.999]/' -e 's/^constexpr short PURCHASE_TURN_LIMIT = .*;  \\/\\/ OPTIMIZE \\[790, 870\\]$/constexpr short PURCHASE_TURN_LIMIT = 836;  \\/\\/ OPTIMIZE [790, 870]/' -e 's/^constexpr int ROUGH_HASH = .*;      \\/\\/ OPTIMIZE {0, 0b00000001, 0b00010001, 0b00010011, 0b00110011}$/constexpr int ROUGH_HASH = 0;      \\/\\/ OPTIMIZE {0, 0b00000001, 0b00010001, 0b00010011, 0b00110011}/' -e 's/^constexpr double TARGET_BEAM_WIDTH_INCREASE_RATE = .*;      \\/\\/ OPTIMIZE \\[0\\.25, 4\\.0\\] LOG$/constexpr double TARGET_BEAM_WIDTH_INCREASE_RATE = 0.7720955170734681;      \\/\\/ OPTIMIZE [0.25, 4.0] LOG/' -e 's/^constexpr double TARGET_BEAM_WIDTH_HALF_PROGRES_RATE = .*;  \\/\\/ OPTIMIZE \\[0\\.02, 0\\.98\\]$/constexpr double TARGET_BEAM_WIDTH_HALF_PROGRES_RATE = 0.05132550987865936;  \\/\\/ OPTIMIZE [0.02, 0.98]/' -e 's/^constexpr auto MAX_BEAM_WIDTH = .*;                        \\/\\/ OPTIMIZE \\[400, 4000\\] LOG$/constexpr auto MAX_BEAM_WIDTH = 610;                        \\/\\/ OPTIMIZE [400, 4000] LOG/'\n",
      "g++ 5_main.cpp -std=gnu++17 -O2 -o 5_main.cpp.out 2> /dev/null\n"
     ]
    },
    {
     "name": "stderr",
     "output_type": "stream",
     "text": [
      "\u001b[32m[I 2021-09-11 16:25:41,373]\u001b[0m Trial 191 finished with value: 2567262483.0 and parameters: {'hash_table_size': 8, 'K_START': 0.07114163189588571, 'K_END': 0.05704913741150239, 'K_H': 0.5322052353269319, 'PURCHASE_TURN_LIMIT': 828, 'ROUGH_HASH': '0', 'TARGET_BEAM_WIDTH_INCREASE_RATE': 0.7585008234414529, 'TARGET_BEAM_WIDTH_HALF_PROGRES_RATE': 0.8418564504758415, 'MAX_BEAM_WIDTH': 581}. Best is trial 135 with value: 2571256139.0.\u001b[0m\n"
     ]
    },
    {
     "name": "stdout",
     "output_type": "stream",
     "text": [
      "callback ok\n",
      "index_parallel=6\n",
      "sed -i 6_main.cpp -e 's/^constexpr int hash_table_size = .*;         \\/\\/ OPTIMIZE \\[6, 18\\]$/constexpr int hash_table_size = 8;         \\/\\/ OPTIMIZE [6, 18]/' -e 's/^constexpr double K_START = .*;  \\/\\/ OPTIMIZE \\[0\\.04, 0\\.2\\] LOG$/constexpr double K_START = 0.06796072752495752;  \\/\\/ OPTIMIZE [0.04, 0.2] LOG/' -e 's/^constexpr double K_END = .*;   \\/\\/ OPTIMIZE \\[0\\.03, 0\\.1\\] LOG$/constexpr double K_END = 0.0592293480150566;   \\/\\/ OPTIMIZE [0.03, 0.1] LOG/' -e 's/^constexpr double K_H = .*;      \\/\\/ OPTIMIZE \\[0\\.001, 0\\.999\\]$/constexpr double K_H = 0.10417558399138116;      \\/\\/ OPTIMIZE [0.001, 0.999]/' -e 's/^constexpr short PURCHASE_TURN_LIMIT = .*;  \\/\\/ OPTIMIZE \\[790, 870\\]$/constexpr short PURCHASE_TURN_LIMIT = 833;  \\/\\/ OPTIMIZE [790, 870]/' -e 's/^constexpr int ROUGH_HASH = .*;      \\/\\/ OPTIMIZE {0, 0b00000001, 0b00010001, 0b00010011, 0b00110011}$/constexpr int ROUGH_HASH = 0;      \\/\\/ OPTIMIZE {0, 0b00000001, 0b00010001, 0b00010011, 0b00110011}/' -e 's/^constexpr double TARGET_BEAM_WIDTH_INCREASE_RATE = .*;      \\/\\/ OPTIMIZE \\[0\\.25, 4\\.0\\] LOG$/constexpr double TARGET_BEAM_WIDTH_INCREASE_RATE = 0.7977584242251353;      \\/\\/ OPTIMIZE [0.25, 4.0] LOG/' -e 's/^constexpr double TARGET_BEAM_WIDTH_HALF_PROGRES_RATE = .*;  \\/\\/ OPTIMIZE \\[0\\.02, 0\\.98\\]$/constexpr double TARGET_BEAM_WIDTH_HALF_PROGRES_RATE = 0.8464307522626732;  \\/\\/ OPTIMIZE [0.02, 0.98]/' -e 's/^constexpr auto MAX_BEAM_WIDTH = .*;                        \\/\\/ OPTIMIZE \\[400, 4000\\] LOG$/constexpr auto MAX_BEAM_WIDTH = 622;                        \\/\\/ OPTIMIZE [400, 4000] LOG/'\n",
      "g++ 6_main.cpp -std=gnu++17 -O2 -o 6_main.cpp.out 2> /dev/null\n"
     ]
    },
    {
     "name": "stderr",
     "output_type": "stream",
     "text": [
      "\u001b[32m[I 2021-09-11 16:25:51,361]\u001b[0m Trial 194 finished with value: 2513635293.0 and parameters: {'hash_table_size': 7, 'K_START': 0.06884407848366857, 'K_END': 0.05866316752082973, 'K_H': 0.5270602794961872, 'PURCHASE_TURN_LIMIT': 836, 'ROUGH_HASH': '0', 'TARGET_BEAM_WIDTH_INCREASE_RATE': 0.774947756177353, 'TARGET_BEAM_WIDTH_HALF_PROGRES_RATE': 0.8455600442996695, 'MAX_BEAM_WIDTH': 616}. Best is trial 135 with value: 2571256139.0.\u001b[0m\n"
     ]
    },
    {
     "name": "stdout",
     "output_type": "stream",
     "text": [
      "callback ok\n",
      "index_parallel=7\n",
      "sed -i 7_main.cpp -e 's/^constexpr int hash_table_size = .*;         \\/\\/ OPTIMIZE \\[6, 18\\]$/constexpr int hash_table_size = 8;         \\/\\/ OPTIMIZE [6, 18]/' -e 's/^constexpr double K_START = .*;  \\/\\/ OPTIMIZE \\[0\\.04, 0\\.2\\] LOG$/constexpr double K_START = 0.06728128097763653;  \\/\\/ OPTIMIZE [0.04, 0.2] LOG/' -e 's/^constexpr double K_END = .*;   \\/\\/ OPTIMIZE \\[0\\.03, 0\\.1\\] LOG$/constexpr double K_END = 0.05518592934159384;   \\/\\/ OPTIMIZE [0.03, 0.1] LOG/' -e 's/^constexpr double K_H = .*;      \\/\\/ OPTIMIZE \\[0\\.001, 0\\.999\\]$/constexpr double K_H = 0.4943349888760209;      \\/\\/ OPTIMIZE [0.001, 0.999]/' -e 's/^constexpr short PURCHASE_TURN_LIMIT = .*;  \\/\\/ OPTIMIZE \\[790, 870\\]$/constexpr short PURCHASE_TURN_LIMIT = 833;  \\/\\/ OPTIMIZE [790, 870]/' -e 's/^constexpr int ROUGH_HASH = .*;      \\/\\/ OPTIMIZE {0, 0b00000001, 0b00010001, 0b00010011, 0b00110011}$/constexpr int ROUGH_HASH = 0;      \\/\\/ OPTIMIZE {0, 0b00000001, 0b00010001, 0b00010011, 0b00110011}/' -e 's/^constexpr double TARGET_BEAM_WIDTH_INCREASE_RATE = .*;      \\/\\/ OPTIMIZE \\[0\\.25, 4\\.0\\] LOG$/constexpr double TARGET_BEAM_WIDTH_INCREASE_RATE = 0.7865840964945656;      \\/\\/ OPTIMIZE [0.25, 4.0] LOG/' -e 's/^constexpr double TARGET_BEAM_WIDTH_HALF_PROGRES_RATE = .*;  \\/\\/ OPTIMIZE \\[0\\.02, 0\\.98\\]$/constexpr double TARGET_BEAM_WIDTH_HALF_PROGRES_RATE = 0.12442236312111365;  \\/\\/ OPTIMIZE [0.02, 0.98]/' -e 's/^constexpr auto MAX_BEAM_WIDTH = .*;                        \\/\\/ OPTIMIZE \\[400, 4000\\] LOG$/constexpr auto MAX_BEAM_WIDTH = 557;                        \\/\\/ OPTIMIZE [400, 4000] LOG/'\n",
      "g++ 7_main.cpp -std=gnu++17 -O2 -o 7_main.cpp.out 2> /dev/null\n"
     ]
    },
    {
     "name": "stderr",
     "output_type": "stream",
     "text": [
      "\u001b[32m[I 2021-09-11 16:28:41,108]\u001b[0m Trial 195 finished with value: 2571898185.0 and parameters: {'hash_table_size': 8, 'K_START': 0.0699851356528291, 'K_END': 0.058847686300459626, 'K_H': 0.4853321530941347, 'PURCHASE_TURN_LIMIT': 837, 'ROUGH_HASH': '0', 'TARGET_BEAM_WIDTH_INCREASE_RATE': 0.758270644991112, 'TARGET_BEAM_WIDTH_HALF_PROGRES_RATE': 0.8717724655547232, 'MAX_BEAM_WIDTH': 628}. Best is trial 195 with value: 2571898185.0.\u001b[0m\n"
     ]
    },
    {
     "name": "stdout",
     "output_type": "stream",
     "text": [
      "Updated! 2571898185.0\n",
      "callback ok\n",
      "index_parallel=8\n",
      "sed -i 8_main.cpp -e 's/^constexpr int hash_table_size = .*;         \\/\\/ OPTIMIZE \\[6, 18\\]$/constexpr int hash_table_size = 8;         \\/\\/ OPTIMIZE [6, 18]/' -e 's/^constexpr double K_START = .*;  \\/\\/ OPTIMIZE \\[0\\.04, 0\\.2\\] LOG$/constexpr double K_START = 0.06765439116291233;  \\/\\/ OPTIMIZE [0.04, 0.2] LOG/' -e 's/^constexpr double K_END = .*;   \\/\\/ OPTIMIZE \\[0\\.03, 0\\.1\\] LOG$/constexpr double K_END = 0.05383782604910411;   \\/\\/ OPTIMIZE [0.03, 0.1] LOG/' -e 's/^constexpr double K_H = .*;      \\/\\/ OPTIMIZE \\[0\\.001, 0\\.999\\]$/constexpr double K_H = 0.5078314516908706;      \\/\\/ OPTIMIZE [0.001, 0.999]/' -e 's/^constexpr short PURCHASE_TURN_LIMIT = .*;  \\/\\/ OPTIMIZE \\[790, 870\\]$/constexpr short PURCHASE_TURN_LIMIT = 833;  \\/\\/ OPTIMIZE [790, 870]/' -e 's/^constexpr int ROUGH_HASH = .*;      \\/\\/ OPTIMIZE {0, 0b00000001, 0b00010001, 0b00010011, 0b00110011}$/constexpr int ROUGH_HASH = 0;      \\/\\/ OPTIMIZE {0, 0b00000001, 0b00010001, 0b00010011, 0b00110011}/' -e 's/^constexpr double TARGET_BEAM_WIDTH_INCREASE_RATE = .*;      \\/\\/ OPTIMIZE \\[0\\.25, 4\\.0\\] LOG$/constexpr double TARGET_BEAM_WIDTH_INCREASE_RATE = 0.8627190786228129;      \\/\\/ OPTIMIZE [0.25, 4.0] LOG/' -e 's/^constexpr double TARGET_BEAM_WIDTH_HALF_PROGRES_RATE = .*;  \\/\\/ OPTIMIZE \\[0\\.02, 0\\.98\\]$/constexpr double TARGET_BEAM_WIDTH_HALF_PROGRES_RATE = 0.8593255218326197;  \\/\\/ OPTIMIZE [0.02, 0.98]/' -e 's/^constexpr auto MAX_BEAM_WIDTH = .*;                        \\/\\/ OPTIMIZE \\[400, 4000\\] LOG$/constexpr auto MAX_BEAM_WIDTH = 606;                        \\/\\/ OPTIMIZE [400, 4000] LOG/'\n",
      "g++ 8_main.cpp -std=gnu++17 -O2 -o 8_main.cpp.out 2> /dev/null\n"
     ]
    },
    {
     "name": "stderr",
     "output_type": "stream",
     "text": [
      "\u001b[32m[I 2021-09-11 16:28:59,525]\u001b[0m Trial 197 finished with value: 2522793693.0 and parameters: {'hash_table_size': 8, 'K_START': 0.07778334438542961, 'K_END': 0.060199228773282806, 'K_H': 0.4943106305138303, 'PURCHASE_TURN_LIMIT': 836, 'ROUGH_HASH': '0', 'TARGET_BEAM_WIDTH_INCREASE_RATE': 0.7720955170734681, 'TARGET_BEAM_WIDTH_HALF_PROGRES_RATE': 0.05132550987865936, 'MAX_BEAM_WIDTH': 610}. Best is trial 195 with value: 2571898185.0.\u001b[0m\n"
     ]
    },
    {
     "name": "stdout",
     "output_type": "stream",
     "text": [
      "callback ok\n",
      "index_parallel=9\n",
      "sed -i 9_main.cpp -e 's/^constexpr int hash_table_size = .*;         \\/\\/ OPTIMIZE \\[6, 18\\]$/constexpr int hash_table_size = 8;         \\/\\/ OPTIMIZE [6, 18]/' -e 's/^constexpr double K_START = .*;  \\/\\/ OPTIMIZE \\[0\\.04, 0\\.2\\] LOG$/constexpr double K_START = 0.0677536843786964;  \\/\\/ OPTIMIZE [0.04, 0.2] LOG/' -e 's/^constexpr double K_END = .*;   \\/\\/ OPTIMIZE \\[0\\.03, 0\\.1\\] LOG$/constexpr double K_END = 0.05355272703127921;   \\/\\/ OPTIMIZE [0.03, 0.1] LOG/' -e 's/^constexpr double K_H = .*;      \\/\\/ OPTIMIZE \\[0\\.001, 0\\.999\\]$/constexpr double K_H = 0.49110953109545774;      \\/\\/ OPTIMIZE [0.001, 0.999]/' -e 's/^constexpr short PURCHASE_TURN_LIMIT = .*;  \\/\\/ OPTIMIZE \\[790, 870\\]$/constexpr short PURCHASE_TURN_LIMIT = 833;  \\/\\/ OPTIMIZE [790, 870]/' -e 's/^constexpr int ROUGH_HASH = .*;      \\/\\/ OPTIMIZE {0, 0b00000001, 0b00010001, 0b00010011, 0b00110011}$/constexpr int ROUGH_HASH = 0;      \\/\\/ OPTIMIZE {0, 0b00000001, 0b00010001, 0b00010011, 0b00110011}/' -e 's/^constexpr double TARGET_BEAM_WIDTH_INCREASE_RATE = .*;      \\/\\/ OPTIMIZE \\[0\\.25, 4\\.0\\] LOG$/constexpr double TARGET_BEAM_WIDTH_INCREASE_RATE = 0.811617888399909;      \\/\\/ OPTIMIZE [0.25, 4.0] LOG/' -e 's/^constexpr double TARGET_BEAM_WIDTH_HALF_PROGRES_RATE = .*;  \\/\\/ OPTIMIZE \\[0\\.02, 0\\.98\\]$/constexpr double TARGET_BEAM_WIDTH_HALF_PROGRES_RATE = 0.8411202487252593;  \\/\\/ OPTIMIZE [0.02, 0.98]/' -e 's/^constexpr auto MAX_BEAM_WIDTH = .*;                        \\/\\/ OPTIMIZE \\[400, 4000\\] LOG$/constexpr auto MAX_BEAM_WIDTH = 564;                        \\/\\/ OPTIMIZE [400, 4000] LOG/'\n",
      "g++ 9_main.cpp -std=gnu++17 -O2 -o 9_main.cpp.out 2> /dev/null\n"
     ]
    },
    {
     "name": "stderr",
     "output_type": "stream",
     "text": [
      "\u001b[32m[I 2021-09-11 16:29:16,990]\u001b[0m Trial 196 finished with value: 2565867490.0 and parameters: {'hash_table_size': 8, 'K_START': 0.06813104621434449, 'K_END': 0.05719218626488905, 'K_H': 0.5000528779951372, 'PURCHASE_TURN_LIMIT': 838, 'ROUGH_HASH': '0', 'TARGET_BEAM_WIDTH_INCREASE_RATE': 0.8224578218187593, 'TARGET_BEAM_WIDTH_HALF_PROGRES_RATE': 0.8265753912389588, 'MAX_BEAM_WIDTH': 617}. Best is trial 195 with value: 2571898185.0.\u001b[0m\n"
     ]
    },
    {
     "name": "stdout",
     "output_type": "stream",
     "text": [
      "callback ok\n",
      "index_parallel=10\n",
      "sed -i 10_main.cpp -e 's/^constexpr int hash_table_size = .*;         \\/\\/ OPTIMIZE \\[6, 18\\]$/constexpr int hash_table_size = 8;         \\/\\/ OPTIMIZE [6, 18]/' -e 's/^constexpr double K_START = .*;  \\/\\/ OPTIMIZE \\[0\\.04, 0\\.2\\] LOG$/constexpr double K_START = 0.07190422735550057;  \\/\\/ OPTIMIZE [0.04, 0.2] LOG/' -e 's/^constexpr double K_END = .*;   \\/\\/ OPTIMIZE \\[0\\.03, 0\\.1\\] LOG$/constexpr double K_END = 0.05545977081291469;   \\/\\/ OPTIMIZE [0.03, 0.1] LOG/' -e 's/^constexpr double K_H = .*;      \\/\\/ OPTIMIZE \\[0\\.001, 0\\.999\\]$/constexpr double K_H = 0.5527157661204251;      \\/\\/ OPTIMIZE [0.001, 0.999]/' -e 's/^constexpr short PURCHASE_TURN_LIMIT = .*;  \\/\\/ OPTIMIZE \\[790, 870\\]$/constexpr short PURCHASE_TURN_LIMIT = 833;  \\/\\/ OPTIMIZE [790, 870]/' -e 's/^constexpr int ROUGH_HASH = .*;      \\/\\/ OPTIMIZE {0, 0b00000001, 0b00010001, 0b00010011, 0b00110011}$/constexpr int ROUGH_HASH = 0;      \\/\\/ OPTIMIZE {0, 0b00000001, 0b00010001, 0b00010011, 0b00110011}/' -e 's/^constexpr double TARGET_BEAM_WIDTH_INCREASE_RATE = .*;      \\/\\/ OPTIMIZE \\[0\\.25, 4\\.0\\] LOG$/constexpr double TARGET_BEAM_WIDTH_INCREASE_RATE = 0.8387000923226344;      \\/\\/ OPTIMIZE [0.25, 4.0] LOG/' -e 's/^constexpr double TARGET_BEAM_WIDTH_HALF_PROGRES_RATE = .*;  \\/\\/ OPTIMIZE \\[0\\.02, 0\\.98\\]$/constexpr double TARGET_BEAM_WIDTH_HALF_PROGRES_RATE = 0.8582626921914968;  \\/\\/ OPTIMIZE [0.02, 0.98]/' -e 's/^constexpr auto MAX_BEAM_WIDTH = .*;                        \\/\\/ OPTIMIZE \\[400, 4000\\] LOG$/constexpr auto MAX_BEAM_WIDTH = 545;                        \\/\\/ OPTIMIZE [400, 4000] LOG/'\n",
      "g++ 10_main.cpp -std=gnu++17 -O2 -o 10_main.cpp.out 2> /dev/null\n"
     ]
    },
    {
     "name": "stderr",
     "output_type": "stream",
     "text": [
      "\u001b[32m[I 2021-09-11 16:29:48,720]\u001b[0m Trial 199 finished with value: 2529272860.0 and parameters: {'hash_table_size': 8, 'K_START': 0.06728128097763653, 'K_END': 0.05518592934159384, 'K_H': 0.4943349888760209, 'PURCHASE_TURN_LIMIT': 833, 'ROUGH_HASH': '0', 'TARGET_BEAM_WIDTH_INCREASE_RATE': 0.7865840964945656, 'TARGET_BEAM_WIDTH_HALF_PROGRES_RATE': 0.12442236312111365, 'MAX_BEAM_WIDTH': 557}. Best is trial 195 with value: 2571898185.0.\u001b[0m\n"
     ]
    },
    {
     "name": "stdout",
     "output_type": "stream",
     "text": [
      "callback ok\n",
      "index_parallel=11\n",
      "sed -i 11_main.cpp -e 's/^constexpr int hash_table_size = .*;         \\/\\/ OPTIMIZE \\[6, 18\\]$/constexpr int hash_table_size = 8;         \\/\\/ OPTIMIZE [6, 18]/' -e 's/^constexpr double K_START = .*;  \\/\\/ OPTIMIZE \\[0\\.04, 0\\.2\\] LOG$/constexpr double K_START = 0.07242924249148576;  \\/\\/ OPTIMIZE [0.04, 0.2] LOG/' -e 's/^constexpr double K_END = .*;   \\/\\/ OPTIMIZE \\[0\\.03, 0\\.1\\] LOG$/constexpr double K_END = 0.053737164701110444;   \\/\\/ OPTIMIZE [0.03, 0.1] LOG/' -e 's/^constexpr double K_H = .*;      \\/\\/ OPTIMIZE \\[0\\.001, 0\\.999\\]$/constexpr double K_H = 0.5571912531392046;      \\/\\/ OPTIMIZE [0.001, 0.999]/' -e 's/^constexpr short PURCHASE_TURN_LIMIT = .*;  \\/\\/ OPTIMIZE \\[790, 870\\]$/constexpr short PURCHASE_TURN_LIMIT = 834;  \\/\\/ OPTIMIZE [790, 870]/' -e 's/^constexpr int ROUGH_HASH = .*;      \\/\\/ OPTIMIZE {0, 0b00000001, 0b00010001, 0b00010011, 0b00110011}$/constexpr int ROUGH_HASH = 0b00110011;      \\/\\/ OPTIMIZE {0, 0b00000001, 0b00010001, 0b00010011, 0b00110011}/' -e 's/^constexpr double TARGET_BEAM_WIDTH_INCREASE_RATE = .*;      \\/\\/ OPTIMIZE \\[0\\.25, 4\\.0\\] LOG$/constexpr double TARGET_BEAM_WIDTH_INCREASE_RATE = 0.7250741352736529;      \\/\\/ OPTIMIZE [0.25, 4.0] LOG/' -e 's/^constexpr double TARGET_BEAM_WIDTH_HALF_PROGRES_RATE = .*;  \\/\\/ OPTIMIZE \\[0\\.02, 0\\.98\\]$/constexpr double TARGET_BEAM_WIDTH_HALF_PROGRES_RATE = 0.8632331955922001;  \\/\\/ OPTIMIZE [0.02, 0.98]/' -e 's/^constexpr auto MAX_BEAM_WIDTH = .*;                        \\/\\/ OPTIMIZE \\[400, 4000\\] LOG$/constexpr auto MAX_BEAM_WIDTH = 545;                        \\/\\/ OPTIMIZE [400, 4000] LOG/'\n",
      "g++ 11_main.cpp -std=gnu++17 -O2 -o 11_main.cpp.out 2> /dev/null\n"
     ]
    },
    {
     "name": "stderr",
     "output_type": "stream",
     "text": [
      "\u001b[32m[I 2021-09-11 16:29:53,834]\u001b[0m Trial 198 finished with value: 2565417282.0 and parameters: {'hash_table_size': 8, 'K_START': 0.06796072752495752, 'K_END': 0.0592293480150566, 'K_H': 0.10417558399138116, 'PURCHASE_TURN_LIMIT': 833, 'ROUGH_HASH': '0', 'TARGET_BEAM_WIDTH_INCREASE_RATE': 0.7977584242251353, 'TARGET_BEAM_WIDTH_HALF_PROGRES_RATE': 0.8464307522626732, 'MAX_BEAM_WIDTH': 622}. Best is trial 195 with value: 2571898185.0.\u001b[0m\n"
     ]
    },
    {
     "name": "stdout",
     "output_type": "stream",
     "text": [
      "callback ok\n",
      "index_parallel=0\n",
      "sed -i 0_main.cpp -e 's/^constexpr int hash_table_size = .*;         \\/\\/ OPTIMIZE \\[6, 18\\]$/constexpr int hash_table_size = 9;         \\/\\/ OPTIMIZE [6, 18]/' -e 's/^constexpr double K_START = .*;  \\/\\/ OPTIMIZE \\[0\\.04, 0\\.2\\] LOG$/constexpr double K_START = 0.07222773442561563;  \\/\\/ OPTIMIZE [0.04, 0.2] LOG/' -e 's/^constexpr double K_END = .*;   \\/\\/ OPTIMIZE \\[0\\.03, 0\\.1\\] LOG$/constexpr double K_END = 0.056994853894570686;   \\/\\/ OPTIMIZE [0.03, 0.1] LOG/' -e 's/^constexpr double K_H = .*;      \\/\\/ OPTIMIZE \\[0\\.001, 0\\.999\\]$/constexpr double K_H = 0.5533841149301078;      \\/\\/ OPTIMIZE [0.001, 0.999]/' -e 's/^constexpr short PURCHASE_TURN_LIMIT = .*;  \\/\\/ OPTIMIZE \\[790, 870\\]$/constexpr short PURCHASE_TURN_LIMIT = 834;  \\/\\/ OPTIMIZE [790, 870]/' -e 's/^constexpr int ROUGH_HASH = .*;      \\/\\/ OPTIMIZE {0, 0b00000001, 0b00010001, 0b00010011, 0b00110011}$/constexpr int ROUGH_HASH = 0b00110011;      \\/\\/ OPTIMIZE {0, 0b00000001, 0b00010001, 0b00010011, 0b00110011}/' -e 's/^constexpr double TARGET_BEAM_WIDTH_INCREASE_RATE = .*;      \\/\\/ OPTIMIZE \\[0\\.25, 4\\.0\\] LOG$/constexpr double TARGET_BEAM_WIDTH_INCREASE_RATE = 0.8496477927496765;      \\/\\/ OPTIMIZE [0.25, 4.0] LOG/' -e 's/^constexpr double TARGET_BEAM_WIDTH_HALF_PROGRES_RATE = .*;  \\/\\/ OPTIMIZE \\[0\\.02, 0\\.98\\]$/constexpr double TARGET_BEAM_WIDTH_HALF_PROGRES_RATE = 0.8607283631474942;  \\/\\/ OPTIMIZE [0.02, 0.98]/' -e 's/^constexpr auto MAX_BEAM_WIDTH = .*;                        \\/\\/ OPTIMIZE \\[400, 4000\\] LOG$/constexpr auto MAX_BEAM_WIDTH = 535;                        \\/\\/ OPTIMIZE [400, 4000] LOG/'\n",
      "g++ 0_main.cpp -std=gnu++17 -O2 -o 0_main.cpp.out 2> /dev/null\n"
     ]
    },
    {
     "name": "stderr",
     "output_type": "stream",
     "text": [
      "\u001b[32m[I 2021-09-11 16:32:57,438]\u001b[0m Trial 200 finished with value: 2569021397.0 and parameters: {'hash_table_size': 8, 'K_START': 0.06765439116291233, 'K_END': 0.05383782604910411, 'K_H': 0.5078314516908706, 'PURCHASE_TURN_LIMIT': 833, 'ROUGH_HASH': '0', 'TARGET_BEAM_WIDTH_INCREASE_RATE': 0.8627190786228129, 'TARGET_BEAM_WIDTH_HALF_PROGRES_RATE': 0.8593255218326197, 'MAX_BEAM_WIDTH': 606}. Best is trial 195 with value: 2571898185.0.\u001b[0m\n"
     ]
    },
    {
     "name": "stdout",
     "output_type": "stream",
     "text": [
      "callback ok\n",
      "index_parallel=1\n",
      "sed -i 1_main.cpp -e 's/^constexpr int hash_table_size = .*;         \\/\\/ OPTIMIZE \\[6, 18\\]$/constexpr int hash_table_size = 8;         \\/\\/ OPTIMIZE [6, 18]/' -e 's/^constexpr double K_START = .*;  \\/\\/ OPTIMIZE \\[0\\.04, 0\\.2\\] LOG$/constexpr double K_START = 0.07129684254596741;  \\/\\/ OPTIMIZE [0.04, 0.2] LOG/' -e 's/^constexpr double K_END = .*;   \\/\\/ OPTIMIZE \\[0\\.03, 0\\.1\\] LOG$/constexpr double K_END = 0.05339011277368384;   \\/\\/ OPTIMIZE [0.03, 0.1] LOG/' -e 's/^constexpr double K_H = .*;      \\/\\/ OPTIMIZE \\[0\\.001, 0\\.999\\]$/constexpr double K_H = 0.5159935065154257;      \\/\\/ OPTIMIZE [0.001, 0.999]/' -e 's/^constexpr short PURCHASE_TURN_LIMIT = .*;  \\/\\/ OPTIMIZE \\[790, 870\\]$/constexpr short PURCHASE_TURN_LIMIT = 831;  \\/\\/ OPTIMIZE [790, 870]/' -e 's/^constexpr int ROUGH_HASH = .*;      \\/\\/ OPTIMIZE {0, 0b00000001, 0b00010001, 0b00010011, 0b00110011}$/constexpr int ROUGH_HASH = 0;      \\/\\/ OPTIMIZE {0, 0b00000001, 0b00010001, 0b00010011, 0b00110011}/' -e 's/^constexpr double TARGET_BEAM_WIDTH_INCREASE_RATE = .*;      \\/\\/ OPTIMIZE \\[0\\.25, 4\\.0\\] LOG$/constexpr double TARGET_BEAM_WIDTH_INCREASE_RATE = 0.8731843514388028;      \\/\\/ OPTIMIZE [0.25, 4.0] LOG/' -e 's/^constexpr double TARGET_BEAM_WIDTH_HALF_PROGRES_RATE = .*;  \\/\\/ OPTIMIZE \\[0\\.02, 0\\.98\\]$/constexpr double TARGET_BEAM_WIDTH_HALF_PROGRES_RATE = 0.8506478651030829;  \\/\\/ OPTIMIZE [0.02, 0.98]/' -e 's/^constexpr auto MAX_BEAM_WIDTH = .*;                        \\/\\/ OPTIMIZE \\[400, 4000\\] LOG$/constexpr auto MAX_BEAM_WIDTH = 548;                        \\/\\/ OPTIMIZE [400, 4000] LOG/'\n",
      "g++ 1_main.cpp -std=gnu++17 -O2 -o 1_main.cpp.out 2> /dev/null\n"
     ]
    },
    {
     "name": "stderr",
     "output_type": "stream",
     "text": [
      "\u001b[32m[I 2021-09-11 16:33:10,731]\u001b[0m Trial 201 finished with value: 2569375567.0 and parameters: {'hash_table_size': 8, 'K_START': 0.0677536843786964, 'K_END': 0.05355272703127921, 'K_H': 0.49110953109545774, 'PURCHASE_TURN_LIMIT': 833, 'ROUGH_HASH': '0', 'TARGET_BEAM_WIDTH_INCREASE_RATE': 0.811617888399909, 'TARGET_BEAM_WIDTH_HALF_PROGRES_RATE': 0.8411202487252593, 'MAX_BEAM_WIDTH': 564}. Best is trial 195 with value: 2571898185.0.\u001b[0m\n"
     ]
    },
    {
     "name": "stdout",
     "output_type": "stream",
     "text": [
      "callback ok\n",
      "index_parallel=2\n",
      "sed -i 2_main.cpp -e 's/^constexpr int hash_table_size = .*;         \\/\\/ OPTIMIZE \\[6, 18\\]$/constexpr int hash_table_size = 8;         \\/\\/ OPTIMIZE [6, 18]/' -e 's/^constexpr double K_START = .*;  \\/\\/ OPTIMIZE \\[0\\.04, 0\\.2\\] LOG$/constexpr double K_START = 0.07256393641209131;  \\/\\/ OPTIMIZE [0.04, 0.2] LOG/' -e 's/^constexpr double K_END = .*;   \\/\\/ OPTIMIZE \\[0\\.03, 0\\.1\\] LOG$/constexpr double K_END = 0.053263782644090825;   \\/\\/ OPTIMIZE [0.03, 0.1] LOG/' -e 's/^constexpr double K_H = .*;      \\/\\/ OPTIMIZE \\[0\\.001, 0\\.999\\]$/constexpr double K_H = 0.5534073665200705;      \\/\\/ OPTIMIZE [0.001, 0.999]/' -e 's/^constexpr short PURCHASE_TURN_LIMIT = .*;  \\/\\/ OPTIMIZE \\[790, 870\\]$/constexpr short PURCHASE_TURN_LIMIT = 830;  \\/\\/ OPTIMIZE [790, 870]/' -e 's/^constexpr int ROUGH_HASH = .*;      \\/\\/ OPTIMIZE {0, 0b00000001, 0b00010001, 0b00010011, 0b00110011}$/constexpr int ROUGH_HASH = 0;      \\/\\/ OPTIMIZE {0, 0b00000001, 0b00010001, 0b00010011, 0b00110011}/' -e 's/^constexpr double TARGET_BEAM_WIDTH_INCREASE_RATE = .*;      \\/\\/ OPTIMIZE \\[0\\.25, 4\\.0\\] LOG$/constexpr double TARGET_BEAM_WIDTH_INCREASE_RATE = 0.8457044299075425;      \\/\\/ OPTIMIZE [0.25, 4.0] LOG/' -e 's/^constexpr double TARGET_BEAM_WIDTH_HALF_PROGRES_RATE = .*;  \\/\\/ OPTIMIZE \\[0\\.02, 0\\.98\\]$/constexpr double TARGET_BEAM_WIDTH_HALF_PROGRES_RATE = 0.8658847723267307;  \\/\\/ OPTIMIZE [0.02, 0.98]/' -e 's/^constexpr auto MAX_BEAM_WIDTH = .*;                        \\/\\/ OPTIMIZE \\[400, 4000\\] LOG$/constexpr auto MAX_BEAM_WIDTH = 549;                        \\/\\/ OPTIMIZE [400, 4000] LOG/'\n",
      "g++ 2_main.cpp -std=gnu++17 -O2 -o 2_main.cpp.out 2> /dev/null\n"
     ]
    },
    {
     "name": "stderr",
     "output_type": "stream",
     "text": [
      "\u001b[32m[I 2021-09-11 16:33:33,059]\u001b[0m Trial 202 finished with value: 2566957225.0 and parameters: {'hash_table_size': 8, 'K_START': 0.07190422735550057, 'K_END': 0.05545977081291469, 'K_H': 0.5527157661204251, 'PURCHASE_TURN_LIMIT': 833, 'ROUGH_HASH': '0', 'TARGET_BEAM_WIDTH_INCREASE_RATE': 0.8387000923226344, 'TARGET_BEAM_WIDTH_HALF_PROGRES_RATE': 0.8582626921914968, 'MAX_BEAM_WIDTH': 545}. Best is trial 195 with value: 2571898185.0.\u001b[0m\n"
     ]
    },
    {
     "name": "stdout",
     "output_type": "stream",
     "text": [
      "callback ok\n",
      "index_parallel=3\n",
      "sed -i 3_main.cpp -e 's/^constexpr int hash_table_size = .*;         \\/\\/ OPTIMIZE \\[6, 18\\]$/constexpr int hash_table_size = 8;         \\/\\/ OPTIMIZE [6, 18]/' -e 's/^constexpr double K_START = .*;  \\/\\/ OPTIMIZE \\[0\\.04, 0\\.2\\] LOG$/constexpr double K_START = 0.07206030160359841;  \\/\\/ OPTIMIZE [0.04, 0.2] LOG/' -e 's/^constexpr double K_END = .*;   \\/\\/ OPTIMIZE \\[0\\.03, 0\\.1\\] LOG$/constexpr double K_END = 0.05478939765445003;   \\/\\/ OPTIMIZE [0.03, 0.1] LOG/' -e 's/^constexpr double K_H = .*;      \\/\\/ OPTIMIZE \\[0\\.001, 0\\.999\\]$/constexpr double K_H = 0.4795217531703639;      \\/\\/ OPTIMIZE [0.001, 0.999]/' -e 's/^constexpr short PURCHASE_TURN_LIMIT = .*;  \\/\\/ OPTIMIZE \\[790, 870\\]$/constexpr short PURCHASE_TURN_LIMIT = 831;  \\/\\/ OPTIMIZE [790, 870]/' -e 's/^constexpr int ROUGH_HASH = .*;      \\/\\/ OPTIMIZE {0, 0b00000001, 0b00010001, 0b00010011, 0b00110011}$/constexpr int ROUGH_HASH = 0b00110011;      \\/\\/ OPTIMIZE {0, 0b00000001, 0b00010001, 0b00010011, 0b00110011}/' -e 's/^constexpr double TARGET_BEAM_WIDTH_INCREASE_RATE = .*;      \\/\\/ OPTIMIZE \\[0\\.25, 4\\.0\\] LOG$/constexpr double TARGET_BEAM_WIDTH_INCREASE_RATE = 0.8640256485124411;      \\/\\/ OPTIMIZE [0.25, 4.0] LOG/' -e 's/^constexpr double TARGET_BEAM_WIDTH_HALF_PROGRES_RATE = .*;  \\/\\/ OPTIMIZE \\[0\\.02, 0\\.98\\]$/constexpr double TARGET_BEAM_WIDTH_HALF_PROGRES_RATE = 0.8666531948987414;  \\/\\/ OPTIMIZE [0.02, 0.98]/' -e 's/^constexpr auto MAX_BEAM_WIDTH = .*;                        \\/\\/ OPTIMIZE \\[400, 4000\\] LOG$/constexpr auto MAX_BEAM_WIDTH = 569;                        \\/\\/ OPTIMIZE [400, 4000] LOG/'\n",
      "g++ 3_main.cpp -std=gnu++17 -O2 -o 3_main.cpp.out 2> /dev/null\n"
     ]
    },
    {
     "name": "stderr",
     "output_type": "stream",
     "text": [
      "\u001b[32m[I 2021-09-11 16:33:50,762]\u001b[0m Trial 203 finished with value: 2521704127.0 and parameters: {'hash_table_size': 8, 'K_START': 0.07242924249148576, 'K_END': 0.053737164701110444, 'K_H': 0.5571912531392046, 'PURCHASE_TURN_LIMIT': 834, 'ROUGH_HASH': '0b00110011', 'TARGET_BEAM_WIDTH_INCREASE_RATE': 0.7250741352736529, 'TARGET_BEAM_WIDTH_HALF_PROGRES_RATE': 0.8632331955922001, 'MAX_BEAM_WIDTH': 545}. Best is trial 195 with value: 2571898185.0.\u001b[0m\n"
     ]
    },
    {
     "name": "stdout",
     "output_type": "stream",
     "text": [
      "callback ok\n",
      "index_parallel=4\n",
      "sed -i 4_main.cpp -e 's/^constexpr int hash_table_size = .*;         \\/\\/ OPTIMIZE \\[6, 18\\]$/constexpr int hash_table_size = 8;         \\/\\/ OPTIMIZE [6, 18]/' -e 's/^constexpr double K_START = .*;  \\/\\/ OPTIMIZE \\[0\\.04, 0\\.2\\] LOG$/constexpr double K_START = 0.0752956644438197;  \\/\\/ OPTIMIZE [0.04, 0.2] LOG/' -e 's/^constexpr double K_END = .*;   \\/\\/ OPTIMIZE \\[0\\.03, 0\\.1\\] LOG$/constexpr double K_END = 0.05389934645529834;   \\/\\/ OPTIMIZE [0.03, 0.1] LOG/' -e 's/^constexpr double K_H = .*;      \\/\\/ OPTIMIZE \\[0\\.001, 0\\.999\\]$/constexpr double K_H = 0.4817150487189273;      \\/\\/ OPTIMIZE [0.001, 0.999]/' -e 's/^constexpr short PURCHASE_TURN_LIMIT = .*;  \\/\\/ OPTIMIZE \\[790, 870\\]$/constexpr short PURCHASE_TURN_LIMIT = 831;  \\/\\/ OPTIMIZE [790, 870]/' -e 's/^constexpr int ROUGH_HASH = .*;      \\/\\/ OPTIMIZE {0, 0b00000001, 0b00010001, 0b00010011, 0b00110011}$/constexpr int ROUGH_HASH = 0;      \\/\\/ OPTIMIZE {0, 0b00000001, 0b00010001, 0b00010011, 0b00110011}/' -e 's/^constexpr double TARGET_BEAM_WIDTH_INCREASE_RATE = .*;      \\/\\/ OPTIMIZE \\[0\\.25, 4\\.0\\] LOG$/constexpr double TARGET_BEAM_WIDTH_INCREASE_RATE = 0.8763888110844792;      \\/\\/ OPTIMIZE [0.25, 4.0] LOG/' -e 's/^constexpr double TARGET_BEAM_WIDTH_HALF_PROGRES_RATE = .*;  \\/\\/ OPTIMIZE \\[0\\.02, 0\\.98\\]$/constexpr double TARGET_BEAM_WIDTH_HALF_PROGRES_RATE = 0.811787079455555;  \\/\\/ OPTIMIZE [0.02, 0.98]/' -e 's/^constexpr auto MAX_BEAM_WIDTH = .*;                        \\/\\/ OPTIMIZE \\[400, 4000\\] LOG$/constexpr auto MAX_BEAM_WIDTH = 596;                        \\/\\/ OPTIMIZE [400, 4000] LOG/'\n",
      "g++ 4_main.cpp -std=gnu++17 -O2 -o 4_main.cpp.out 2> /dev/null\n"
     ]
    },
    {
     "name": "stderr",
     "output_type": "stream",
     "text": [
      "\u001b[32m[I 2021-09-11 16:35:21,111]\u001b[0m Trial 204 finished with value: 2518196176.0 and parameters: {'hash_table_size': 9, 'K_START': 0.07222773442561563, 'K_END': 0.056994853894570686, 'K_H': 0.5533841149301078, 'PURCHASE_TURN_LIMIT': 834, 'ROUGH_HASH': '0b00110011', 'TARGET_BEAM_WIDTH_INCREASE_RATE': 0.8496477927496765, 'TARGET_BEAM_WIDTH_HALF_PROGRES_RATE': 0.8607283631474942, 'MAX_BEAM_WIDTH': 535}. Best is trial 195 with value: 2571898185.0.\u001b[0m\n"
     ]
    },
    {
     "name": "stdout",
     "output_type": "stream",
     "text": [
      "callback ok\n",
      "index_parallel=5\n",
      "sed -i 5_main.cpp -e 's/^constexpr int hash_table_size = .*;         \\/\\/ OPTIMIZE \\[6, 18\\]$/constexpr int hash_table_size = 8;         \\/\\/ OPTIMIZE [6, 18]/' -e 's/^constexpr double K_START = .*;  \\/\\/ OPTIMIZE \\[0\\.04, 0\\.2\\] LOG$/constexpr double K_START = 0.07505759545333436;  \\/\\/ OPTIMIZE [0.04, 0.2] LOG/' -e 's/^constexpr double K_END = .*;   \\/\\/ OPTIMIZE \\[0\\.03, 0\\.1\\] LOG$/constexpr double K_END = 0.05413123517869735;   \\/\\/ OPTIMIZE [0.03, 0.1] LOG/' -e 's/^constexpr double K_H = .*;      \\/\\/ OPTIMIZE \\[0\\.001, 0\\.999\\]$/constexpr double K_H = 0.4841272484396607;      \\/\\/ OPTIMIZE [0.001, 0.999]/' -e 's/^constexpr short PURCHASE_TURN_LIMIT = .*;  \\/\\/ OPTIMIZE \\[790, 870\\]$/constexpr short PURCHASE_TURN_LIMIT = 830;  \\/\\/ OPTIMIZE [790, 870]/' -e 's/^constexpr int ROUGH_HASH = .*;      \\/\\/ OPTIMIZE {0, 0b00000001, 0b00010001, 0b00010011, 0b00110011}$/constexpr int ROUGH_HASH = 0;      \\/\\/ OPTIMIZE {0, 0b00000001, 0b00010001, 0b00010011, 0b00110011}/' -e 's/^constexpr double TARGET_BEAM_WIDTH_INCREASE_RATE = .*;      \\/\\/ OPTIMIZE \\[0\\.25, 4\\.0\\] LOG$/constexpr double TARGET_BEAM_WIDTH_INCREASE_RATE = 0.6987766124002021;      \\/\\/ OPTIMIZE [0.25, 4.0] LOG/' -e 's/^constexpr double TARGET_BEAM_WIDTH_HALF_PROGRES_RATE = .*;  \\/\\/ OPTIMIZE \\[0\\.02, 0\\.98\\]$/constexpr double TARGET_BEAM_WIDTH_HALF_PROGRES_RATE = 0.8314780122926996;  \\/\\/ OPTIMIZE [0.02, 0.98]/' -e 's/^constexpr auto MAX_BEAM_WIDTH = .*;                        \\/\\/ OPTIMIZE \\[400, 4000\\] LOG$/constexpr auto MAX_BEAM_WIDTH = 597;                        \\/\\/ OPTIMIZE [400, 4000] LOG/'\n",
      "g++ 5_main.cpp -std=gnu++17 -O2 -o 5_main.cpp.out 2> /dev/null\n"
     ]
    },
    {
     "name": "stderr",
     "output_type": "stream",
     "text": [
      "\u001b[32m[I 2021-09-11 16:37:11,970]\u001b[0m Trial 205 finished with value: 2566208670.0 and parameters: {'hash_table_size': 8, 'K_START': 0.07129684254596741, 'K_END': 0.05339011277368384, 'K_H': 0.5159935065154257, 'PURCHASE_TURN_LIMIT': 831, 'ROUGH_HASH': '0', 'TARGET_BEAM_WIDTH_INCREASE_RATE': 0.8731843514388028, 'TARGET_BEAM_WIDTH_HALF_PROGRES_RATE': 0.8506478651030829, 'MAX_BEAM_WIDTH': 548}. Best is trial 195 with value: 2571898185.0.\u001b[0m\n"
     ]
    },
    {
     "name": "stdout",
     "output_type": "stream",
     "text": [
      "callback ok\n",
      "index_parallel=6\n",
      "sed -i 6_main.cpp -e 's/^constexpr int hash_table_size = .*;         \\/\\/ OPTIMIZE \\[6, 18\\]$/constexpr int hash_table_size = 8;         \\/\\/ OPTIMIZE [6, 18]/' -e 's/^constexpr double K_START = .*;  \\/\\/ OPTIMIZE \\[0\\.04, 0\\.2\\] LOG$/constexpr double K_START = 0.0753943475400837;  \\/\\/ OPTIMIZE [0.04, 0.2] LOG/' -e 's/^constexpr double K_END = .*;   \\/\\/ OPTIMIZE \\[0\\.03, 0\\.1\\] LOG$/constexpr double K_END = 0.054355014493754183;   \\/\\/ OPTIMIZE [0.03, 0.1] LOG/' -e 's/^constexpr double K_H = .*;      \\/\\/ OPTIMIZE \\[0\\.001, 0\\.999\\]$/constexpr double K_H = 0.4851822656037095;      \\/\\/ OPTIMIZE [0.001, 0.999]/' -e 's/^constexpr short PURCHASE_TURN_LIMIT = .*;  \\/\\/ OPTIMIZE \\[790, 870\\]$/constexpr short PURCHASE_TURN_LIMIT = 830;  \\/\\/ OPTIMIZE [790, 870]/' -e 's/^constexpr int ROUGH_HASH = .*;      \\/\\/ OPTIMIZE {0, 0b00000001, 0b00010001, 0b00010011, 0b00110011}$/constexpr int ROUGH_HASH = 0b00010001;      \\/\\/ OPTIMIZE {0, 0b00000001, 0b00010001, 0b00010011, 0b00110011}/' -e 's/^constexpr double TARGET_BEAM_WIDTH_INCREASE_RATE = .*;      \\/\\/ OPTIMIZE \\[0\\.25, 4\\.0\\] LOG$/constexpr double TARGET_BEAM_WIDTH_INCREASE_RATE = 0.6875020397018908;      \\/\\/ OPTIMIZE [0.25, 4.0] LOG/' -e 's/^constexpr double TARGET_BEAM_WIDTH_HALF_PROGRES_RATE = .*;  \\/\\/ OPTIMIZE \\[0\\.02, 0\\.98\\]$/constexpr double TARGET_BEAM_WIDTH_HALF_PROGRES_RATE = 0.8119009207920037;  \\/\\/ OPTIMIZE [0.02, 0.98]/' -e 's/^constexpr auto MAX_BEAM_WIDTH = .*;                        \\/\\/ OPTIMIZE \\[400, 4000\\] LOG$/constexpr auto MAX_BEAM_WIDTH = 1390;                        \\/\\/ OPTIMIZE [400, 4000] LOG/'\n",
      "g++ 6_main.cpp -std=gnu++17 -O2 -o 6_main.cpp.out 2> /dev/null\n"
     ]
    },
    {
     "name": "stderr",
     "output_type": "stream",
     "text": [
      "\u001b[32m[I 2021-09-11 16:37:22,254]\u001b[0m Trial 206 finished with value: 2567838662.0 and parameters: {'hash_table_size': 8, 'K_START': 0.07256393641209131, 'K_END': 0.053263782644090825, 'K_H': 0.5534073665200705, 'PURCHASE_TURN_LIMIT': 830, 'ROUGH_HASH': '0', 'TARGET_BEAM_WIDTH_INCREASE_RATE': 0.8457044299075425, 'TARGET_BEAM_WIDTH_HALF_PROGRES_RATE': 0.8658847723267307, 'MAX_BEAM_WIDTH': 549}. Best is trial 195 with value: 2571898185.0.\u001b[0m\n"
     ]
    },
    {
     "name": "stdout",
     "output_type": "stream",
     "text": [
      "callback ok\n",
      "index_parallel=7\n",
      "sed -i 7_main.cpp -e 's/^constexpr int hash_table_size = .*;         \\/\\/ OPTIMIZE \\[6, 18\\]$/constexpr int hash_table_size = 8;         \\/\\/ OPTIMIZE [6, 18]/' -e 's/^constexpr double K_START = .*;  \\/\\/ OPTIMIZE \\[0\\.04, 0\\.2\\] LOG$/constexpr double K_START = 0.07491282010006618;  \\/\\/ OPTIMIZE [0.04, 0.2] LOG/' -e 's/^constexpr double K_END = .*;   \\/\\/ OPTIMIZE \\[0\\.03, 0\\.1\\] LOG$/constexpr double K_END = 0.05327625880258823;   \\/\\/ OPTIMIZE [0.03, 0.1] LOG/' -e 's/^constexpr double K_H = .*;      \\/\\/ OPTIMIZE \\[0\\.001, 0\\.999\\]$/constexpr double K_H = 0.47926131498027763;      \\/\\/ OPTIMIZE [0.001, 0.999]/' -e 's/^constexpr short PURCHASE_TURN_LIMIT = .*;  \\/\\/ OPTIMIZE \\[790, 870\\]$/constexpr short PURCHASE_TURN_LIMIT = 831;  \\/\\/ OPTIMIZE [790, 870]/' -e 's/^constexpr int ROUGH_HASH = .*;      \\/\\/ OPTIMIZE {0, 0b00000001, 0b00010001, 0b00010011, 0b00110011}$/constexpr int ROUGH_HASH = 0;      \\/\\/ OPTIMIZE {0, 0b00000001, 0b00010001, 0b00010011, 0b00110011}/' -e 's/^constexpr double TARGET_BEAM_WIDTH_INCREASE_RATE = .*;      \\/\\/ OPTIMIZE \\[0\\.25, 4\\.0\\] LOG$/constexpr double TARGET_BEAM_WIDTH_INCREASE_RATE = 0.6974037449503128;      \\/\\/ OPTIMIZE [0.25, 4.0] LOG/' -e 's/^constexpr double TARGET_BEAM_WIDTH_HALF_PROGRES_RATE = .*;  \\/\\/ OPTIMIZE \\[0\\.02, 0\\.98\\]$/constexpr double TARGET_BEAM_WIDTH_HALF_PROGRES_RATE = 0.8085350518473094;  \\/\\/ OPTIMIZE [0.02, 0.98]/' -e 's/^constexpr auto MAX_BEAM_WIDTH = .*;                        \\/\\/ OPTIMIZE \\[400, 4000\\] LOG$/constexpr auto MAX_BEAM_WIDTH = 497;                        \\/\\/ OPTIMIZE [400, 4000] LOG/'\n",
      "g++ 7_main.cpp -std=gnu++17 -O2 -o 7_main.cpp.out 2> /dev/null\n"
     ]
    },
    {
     "name": "stderr",
     "output_type": "stream",
     "text": [
      "\u001b[32m[I 2021-09-11 16:37:35,129]\u001b[0m Trial 207 finished with value: 2521447730.0 and parameters: {'hash_table_size': 8, 'K_START': 0.07206030160359841, 'K_END': 0.05478939765445003, 'K_H': 0.4795217531703639, 'PURCHASE_TURN_LIMIT': 831, 'ROUGH_HASH': '0b00110011', 'TARGET_BEAM_WIDTH_INCREASE_RATE': 0.8640256485124411, 'TARGET_BEAM_WIDTH_HALF_PROGRES_RATE': 0.8666531948987414, 'MAX_BEAM_WIDTH': 569}. Best is trial 195 with value: 2571898185.0.\u001b[0m\n"
     ]
    },
    {
     "name": "stdout",
     "output_type": "stream",
     "text": [
      "callback ok\n",
      "index_parallel=8\n",
      "sed -i 8_main.cpp -e 's/^constexpr int hash_table_size = .*;         \\/\\/ OPTIMIZE \\[6, 18\\]$/constexpr int hash_table_size = 8;         \\/\\/ OPTIMIZE [6, 18]/' -e 's/^constexpr double K_START = .*;  \\/\\/ OPTIMIZE \\[0\\.04, 0\\.2\\] LOG$/constexpr double K_START = 0.07509293717569883;  \\/\\/ OPTIMIZE [0.04, 0.2] LOG/' -e 's/^constexpr double K_END = .*;   \\/\\/ OPTIMIZE \\[0\\.03, 0\\.1\\] LOG$/constexpr double K_END = 0.054117708840194026;   \\/\\/ OPTIMIZE [0.03, 0.1] LOG/' -e 's/^constexpr double K_H = .*;      \\/\\/ OPTIMIZE \\[0\\.001, 0\\.999\\]$/constexpr double K_H = 0.4847103745504375;      \\/\\/ OPTIMIZE [0.001, 0.999]/' -e 's/^constexpr short PURCHASE_TURN_LIMIT = .*;  \\/\\/ OPTIMIZE \\[790, 870\\]$/constexpr short PURCHASE_TURN_LIMIT = 829;  \\/\\/ OPTIMIZE [790, 870]/' -e 's/^constexpr int ROUGH_HASH = .*;      \\/\\/ OPTIMIZE {0, 0b00000001, 0b00010001, 0b00010011, 0b00110011}$/constexpr int ROUGH_HASH = 0;      \\/\\/ OPTIMIZE {0, 0b00000001, 0b00010001, 0b00010011, 0b00110011}/' -e 's/^constexpr double TARGET_BEAM_WIDTH_INCREASE_RATE = .*;      \\/\\/ OPTIMIZE \\[0\\.25, 4\\.0\\] LOG$/constexpr double TARGET_BEAM_WIDTH_INCREASE_RATE = 0.6909770953422273;      \\/\\/ OPTIMIZE [0.25, 4.0] LOG/' -e 's/^constexpr double TARGET_BEAM_WIDTH_HALF_PROGRES_RATE = .*;  \\/\\/ OPTIMIZE \\[0\\.02, 0\\.98\\]$/constexpr double TARGET_BEAM_WIDTH_HALF_PROGRES_RATE = 0.8286904545252236;  \\/\\/ OPTIMIZE [0.02, 0.98]/' -e 's/^constexpr auto MAX_BEAM_WIDTH = .*;                        \\/\\/ OPTIMIZE \\[400, 4000\\] LOG$/constexpr auto MAX_BEAM_WIDTH = 590;                        \\/\\/ OPTIMIZE [400, 4000] LOG/'\n",
      "g++ 8_main.cpp -std=gnu++17 -O2 -o 8_main.cpp.out 2> /dev/null\n"
     ]
    },
    {
     "name": "stderr",
     "output_type": "stream",
     "text": [
      "\u001b[32m[I 2021-09-11 16:38:05,371]\u001b[0m Trial 208 finished with value: 2570313779.0 and parameters: {'hash_table_size': 8, 'K_START': 0.0752956644438197, 'K_END': 0.05389934645529834, 'K_H': 0.4817150487189273, 'PURCHASE_TURN_LIMIT': 831, 'ROUGH_HASH': '0', 'TARGET_BEAM_WIDTH_INCREASE_RATE': 0.8763888110844792, 'TARGET_BEAM_WIDTH_HALF_PROGRES_RATE': 0.811787079455555, 'MAX_BEAM_WIDTH': 596}. Best is trial 195 with value: 2571898185.0.\u001b[0m\n"
     ]
    },
    {
     "name": "stdout",
     "output_type": "stream",
     "text": [
      "callback ok\n",
      "index_parallel=9\n",
      "sed -i 9_main.cpp -e 's/^constexpr int hash_table_size = .*;         \\/\\/ OPTIMIZE \\[6, 18\\]$/constexpr int hash_table_size = 8;         \\/\\/ OPTIMIZE [6, 18]/' -e 's/^constexpr double K_START = .*;  \\/\\/ OPTIMIZE \\[0\\.04, 0\\.2\\] LOG$/constexpr double K_START = 0.07546639368240642;  \\/\\/ OPTIMIZE [0.04, 0.2] LOG/' -e 's/^constexpr double K_END = .*;   \\/\\/ OPTIMIZE \\[0\\.03, 0\\.1\\] LOG$/constexpr double K_END = 0.053270068578459985;   \\/\\/ OPTIMIZE [0.03, 0.1] LOG/' -e 's/^constexpr double K_H = .*;      \\/\\/ OPTIMIZE \\[0\\.001, 0\\.999\\]$/constexpr double K_H = 0.41315594997650923;      \\/\\/ OPTIMIZE [0.001, 0.999]/' -e 's/^constexpr short PURCHASE_TURN_LIMIT = .*;  \\/\\/ OPTIMIZE \\[790, 870\\]$/constexpr short PURCHASE_TURN_LIMIT = 835;  \\/\\/ OPTIMIZE [790, 870]/' -e 's/^constexpr int ROUGH_HASH = .*;      \\/\\/ OPTIMIZE {0, 0b00000001, 0b00010001, 0b00010011, 0b00110011}$/constexpr int ROUGH_HASH = 0;      \\/\\/ OPTIMIZE {0, 0b00000001, 0b00010001, 0b00010011, 0b00110011}/' -e 's/^constexpr double TARGET_BEAM_WIDTH_INCREASE_RATE = .*;      \\/\\/ OPTIMIZE \\[0\\.25, 4\\.0\\] LOG$/constexpr double TARGET_BEAM_WIDTH_INCREASE_RATE = 0.6942154388671473;      \\/\\/ OPTIMIZE [0.25, 4.0] LOG/' -e 's/^constexpr double TARGET_BEAM_WIDTH_HALF_PROGRES_RATE = .*;  \\/\\/ OPTIMIZE \\[0\\.02, 0\\.98\\]$/constexpr double TARGET_BEAM_WIDTH_HALF_PROGRES_RATE = 0.8042471130922508;  \\/\\/ OPTIMIZE [0.02, 0.98]/' -e 's/^constexpr auto MAX_BEAM_WIDTH = .*;                        \\/\\/ OPTIMIZE \\[400, 4000\\] LOG$/constexpr auto MAX_BEAM_WIDTH = 597;                        \\/\\/ OPTIMIZE [400, 4000] LOG/'\n",
      "g++ 9_main.cpp -std=gnu++17 -O2 -o 9_main.cpp.out 2> /dev/null\n"
     ]
    },
    {
     "name": "stderr",
     "output_type": "stream",
     "text": [
      "\u001b[32m[I 2021-09-11 16:39:35,135]\u001b[0m Trial 209 finished with value: 2567154602.0 and parameters: {'hash_table_size': 8, 'K_START': 0.07505759545333436, 'K_END': 0.05413123517869735, 'K_H': 0.4841272484396607, 'PURCHASE_TURN_LIMIT': 830, 'ROUGH_HASH': '0', 'TARGET_BEAM_WIDTH_INCREASE_RATE': 0.6987766124002021, 'TARGET_BEAM_WIDTH_HALF_PROGRES_RATE': 0.8314780122926996, 'MAX_BEAM_WIDTH': 597}. Best is trial 195 with value: 2571898185.0.\u001b[0m\n"
     ]
    },
    {
     "name": "stdout",
     "output_type": "stream",
     "text": [
      "callback ok\n",
      "index_parallel=10\n",
      "sed -i 10_main.cpp -e 's/^constexpr int hash_table_size = .*;         \\/\\/ OPTIMIZE \\[6, 18\\]$/constexpr int hash_table_size = 9;         \\/\\/ OPTIMIZE [6, 18]/' -e 's/^constexpr double K_START = .*;  \\/\\/ OPTIMIZE \\[0\\.04, 0\\.2\\] LOG$/constexpr double K_START = 0.06666940986852503;  \\/\\/ OPTIMIZE [0.04, 0.2] LOG/' -e 's/^constexpr double K_END = .*;   \\/\\/ OPTIMIZE \\[0\\.03, 0\\.1\\] LOG$/constexpr double K_END = 0.05253290645627345;   \\/\\/ OPTIMIZE [0.03, 0.1] LOG/' -e 's/^constexpr double K_H = .*;      \\/\\/ OPTIMIZE \\[0\\.001, 0\\.999\\]$/constexpr double K_H = 0.4168856994110128;      \\/\\/ OPTIMIZE [0.001, 0.999]/' -e 's/^constexpr short PURCHASE_TURN_LIMIT = .*;  \\/\\/ OPTIMIZE \\[790, 870\\]$/constexpr short PURCHASE_TURN_LIMIT = 837;  \\/\\/ OPTIMIZE [790, 870]/' -e 's/^constexpr int ROUGH_HASH = .*;      \\/\\/ OPTIMIZE {0, 0b00000001, 0b00010001, 0b00010011, 0b00110011}$/constexpr int ROUGH_HASH = 0b00010001;      \\/\\/ OPTIMIZE {0, 0b00000001, 0b00010001, 0b00010011, 0b00110011}/' -e 's/^constexpr double TARGET_BEAM_WIDTH_INCREASE_RATE = .*;      \\/\\/ OPTIMIZE \\[0\\.25, 4\\.0\\] LOG$/constexpr double TARGET_BEAM_WIDTH_INCREASE_RATE = 0.5998577690831689;      \\/\\/ OPTIMIZE [0.25, 4.0] LOG/' -e 's/^constexpr double TARGET_BEAM_WIDTH_HALF_PROGRES_RATE = .*;  \\/\\/ OPTIMIZE \\[0\\.02, 0\\.98\\]$/constexpr double TARGET_BEAM_WIDTH_HALF_PROGRES_RATE = 0.8232949151023742;  \\/\\/ OPTIMIZE [0.02, 0.98]/' -e 's/^constexpr auto MAX_BEAM_WIDTH = .*;                        \\/\\/ OPTIMIZE \\[400, 4000\\] LOG$/constexpr auto MAX_BEAM_WIDTH = 495;                        \\/\\/ OPTIMIZE [400, 4000] LOG/'\n",
      "g++ 10_main.cpp -std=gnu++17 -O2 -o 10_main.cpp.out 2> /dev/null\n"
     ]
    },
    {
     "ename": "KeyboardInterrupt",
     "evalue": "",
     "output_type": "error",
     "traceback": [
      "\u001b[0;31m---------------------------------------------------------------------------\u001b[0m",
      "\u001b[0;31mKeyboardInterrupt\u001b[0m                         Traceback (most recent call last)",
      "\u001b[0;32m~/anaconda3/lib/python3.8/site-packages/optuna/study/_optimize.py\u001b[0m in \u001b[0;36m_optimize\u001b[0;34m(study, func, n_trials, timeout, n_jobs, catch, callbacks, gc_after_trial, show_progress_bar)\u001b[0m\n\u001b[1;32m    102\u001b[0m                     \u001b[0;32mif\u001b[0m \u001b[0mlen\u001b[0m\u001b[0;34m(\u001b[0m\u001b[0mfutures\u001b[0m\u001b[0;34m)\u001b[0m \u001b[0;34m>=\u001b[0m \u001b[0mn_jobs\u001b[0m\u001b[0;34m:\u001b[0m\u001b[0;34m\u001b[0m\u001b[0;34m\u001b[0m\u001b[0m\n\u001b[0;32m--> 103\u001b[0;31m                         \u001b[0mcompleted\u001b[0m\u001b[0;34m,\u001b[0m \u001b[0mfutures\u001b[0m \u001b[0;34m=\u001b[0m \u001b[0mwait\u001b[0m\u001b[0;34m(\u001b[0m\u001b[0mfutures\u001b[0m\u001b[0;34m,\u001b[0m \u001b[0mreturn_when\u001b[0m\u001b[0;34m=\u001b[0m\u001b[0mFIRST_COMPLETED\u001b[0m\u001b[0;34m)\u001b[0m\u001b[0;34m\u001b[0m\u001b[0;34m\u001b[0m\u001b[0m\n\u001b[0m\u001b[1;32m    104\u001b[0m                         \u001b[0;31m# Raise if exception occurred in executing the completed futures.\u001b[0m\u001b[0;34m\u001b[0m\u001b[0;34m\u001b[0m\u001b[0;34m\u001b[0m\u001b[0m\n",
      "\u001b[0;32m~/anaconda3/lib/python3.8/concurrent/futures/_base.py\u001b[0m in \u001b[0;36mwait\u001b[0;34m(fs, timeout, return_when)\u001b[0m\n\u001b[1;32m    304\u001b[0m \u001b[0;34m\u001b[0m\u001b[0m\n\u001b[0;32m--> 305\u001b[0;31m     \u001b[0mwaiter\u001b[0m\u001b[0;34m.\u001b[0m\u001b[0mevent\u001b[0m\u001b[0;34m.\u001b[0m\u001b[0mwait\u001b[0m\u001b[0;34m(\u001b[0m\u001b[0mtimeout\u001b[0m\u001b[0;34m)\u001b[0m\u001b[0;34m\u001b[0m\u001b[0;34m\u001b[0m\u001b[0m\n\u001b[0m\u001b[1;32m    306\u001b[0m     \u001b[0;32mfor\u001b[0m \u001b[0mf\u001b[0m \u001b[0;32min\u001b[0m \u001b[0mfs\u001b[0m\u001b[0;34m:\u001b[0m\u001b[0;34m\u001b[0m\u001b[0;34m\u001b[0m\u001b[0m\n",
      "\u001b[0;32m~/anaconda3/lib/python3.8/threading.py\u001b[0m in \u001b[0;36mwait\u001b[0;34m(self, timeout)\u001b[0m\n\u001b[1;32m    557\u001b[0m             \u001b[0;32mif\u001b[0m \u001b[0;32mnot\u001b[0m \u001b[0msignaled\u001b[0m\u001b[0;34m:\u001b[0m\u001b[0;34m\u001b[0m\u001b[0;34m\u001b[0m\u001b[0m\n\u001b[0;32m--> 558\u001b[0;31m                 \u001b[0msignaled\u001b[0m \u001b[0;34m=\u001b[0m \u001b[0mself\u001b[0m\u001b[0;34m.\u001b[0m\u001b[0m_cond\u001b[0m\u001b[0;34m.\u001b[0m\u001b[0mwait\u001b[0m\u001b[0;34m(\u001b[0m\u001b[0mtimeout\u001b[0m\u001b[0;34m)\u001b[0m\u001b[0;34m\u001b[0m\u001b[0;34m\u001b[0m\u001b[0m\n\u001b[0m\u001b[1;32m    559\u001b[0m             \u001b[0;32mreturn\u001b[0m \u001b[0msignaled\u001b[0m\u001b[0;34m\u001b[0m\u001b[0;34m\u001b[0m\u001b[0m\n",
      "\u001b[0;32m~/anaconda3/lib/python3.8/threading.py\u001b[0m in \u001b[0;36mwait\u001b[0;34m(self, timeout)\u001b[0m\n\u001b[1;32m    301\u001b[0m             \u001b[0;32mif\u001b[0m \u001b[0mtimeout\u001b[0m \u001b[0;32mis\u001b[0m \u001b[0;32mNone\u001b[0m\u001b[0;34m:\u001b[0m\u001b[0;34m\u001b[0m\u001b[0;34m\u001b[0m\u001b[0m\n\u001b[0;32m--> 302\u001b[0;31m                 \u001b[0mwaiter\u001b[0m\u001b[0;34m.\u001b[0m\u001b[0macquire\u001b[0m\u001b[0;34m(\u001b[0m\u001b[0;34m)\u001b[0m\u001b[0;34m\u001b[0m\u001b[0;34m\u001b[0m\u001b[0m\n\u001b[0m\u001b[1;32m    303\u001b[0m                 \u001b[0mgotit\u001b[0m \u001b[0;34m=\u001b[0m \u001b[0;32mTrue\u001b[0m\u001b[0;34m\u001b[0m\u001b[0;34m\u001b[0m\u001b[0m\n",
      "\u001b[0;31mKeyboardInterrupt\u001b[0m: ",
      "\nDuring handling of the above exception, another exception occurred:\n",
      "\u001b[0;31mKeyboardInterrupt\u001b[0m                         Traceback (most recent call last)",
      "\u001b[0;32m<ipython-input-26-a599630024bf>\u001b[0m in \u001b[0;36m<module>\u001b[0;34m\u001b[0m\n\u001b[1;32m     16\u001b[0m \u001b[0;34m\u001b[0m\u001b[0m\n\u001b[1;32m     17\u001b[0m \u001b[0mobjective\u001b[0m \u001b[0;34m=\u001b[0m \u001b[0mpartial\u001b[0m\u001b[0;34m(\u001b[0m\u001b[0mobjective_with_index\u001b[0m\u001b[0;34m,\u001b[0m \u001b[0mn_internal_parallel\u001b[0m\u001b[0;34m=\u001b[0m\u001b[0;36m6\u001b[0m\u001b[0;34m)\u001b[0m\u001b[0;34m\u001b[0m\u001b[0;34m\u001b[0m\u001b[0m\n\u001b[0;32m---> 18\u001b[0;31m \u001b[0mstudy\u001b[0m\u001b[0;34m.\u001b[0m\u001b[0moptimize\u001b[0m\u001b[0;34m(\u001b[0m\u001b[0mobjective\u001b[0m\u001b[0;34m,\u001b[0m \u001b[0mn_trials\u001b[0m\u001b[0;34m=\u001b[0m\u001b[0;36m3000\u001b[0m\u001b[0;34m,\u001b[0m \u001b[0mtimeout\u001b[0m\u001b[0;34m=\u001b[0m\u001b[0;36m86400\u001b[0m\u001b[0;34m,\u001b[0m \u001b[0mn_jobs\u001b[0m\u001b[0;34m=\u001b[0m\u001b[0;36m5\u001b[0m\u001b[0;34m,\u001b[0m \u001b[0mcallbacks\u001b[0m\u001b[0;34m=\u001b[0m\u001b[0;34m[\u001b[0m\u001b[0mcallback\u001b[0m\u001b[0;34m]\u001b[0m\u001b[0;34m)\u001b[0m\u001b[0;34m\u001b[0m\u001b[0;34m\u001b[0m\u001b[0m\n\u001b[0m",
      "\u001b[0;32m~/anaconda3/lib/python3.8/site-packages/optuna/study/study.py\u001b[0m in \u001b[0;36moptimize\u001b[0;34m(self, func, n_trials, timeout, n_jobs, catch, callbacks, gc_after_trial, show_progress_bar)\u001b[0m\n\u001b[1;32m    398\u001b[0m             )\n\u001b[1;32m    399\u001b[0m \u001b[0;34m\u001b[0m\u001b[0m\n\u001b[0;32m--> 400\u001b[0;31m         _optimize(\n\u001b[0m\u001b[1;32m    401\u001b[0m             \u001b[0mstudy\u001b[0m\u001b[0;34m=\u001b[0m\u001b[0mself\u001b[0m\u001b[0;34m,\u001b[0m\u001b[0;34m\u001b[0m\u001b[0;34m\u001b[0m\u001b[0m\n\u001b[1;32m    402\u001b[0m             \u001b[0mfunc\u001b[0m\u001b[0;34m=\u001b[0m\u001b[0mfunc\u001b[0m\u001b[0;34m,\u001b[0m\u001b[0;34m\u001b[0m\u001b[0;34m\u001b[0m\u001b[0m\n",
      "\u001b[0;32m~/anaconda3/lib/python3.8/site-packages/optuna/study/_optimize.py\u001b[0m in \u001b[0;36m_optimize\u001b[0;34m(study, func, n_trials, timeout, n_jobs, catch, callbacks, gc_after_trial, show_progress_bar)\u001b[0m\n\u001b[1;32m    106\u001b[0m                             \u001b[0mf\u001b[0m\u001b[0;34m.\u001b[0m\u001b[0mresult\u001b[0m\u001b[0;34m(\u001b[0m\u001b[0;34m)\u001b[0m\u001b[0;34m\u001b[0m\u001b[0;34m\u001b[0m\u001b[0m\n\u001b[1;32m    107\u001b[0m \u001b[0;34m\u001b[0m\u001b[0m\n\u001b[0;32m--> 108\u001b[0;31m                     futures.add(\n\u001b[0m\u001b[1;32m    109\u001b[0m                         executor.submit(\n\u001b[1;32m    110\u001b[0m                             \u001b[0m_optimize_sequential\u001b[0m\u001b[0;34m,\u001b[0m\u001b[0;34m\u001b[0m\u001b[0;34m\u001b[0m\u001b[0m\n",
      "\u001b[0;32m~/anaconda3/lib/python3.8/concurrent/futures/_base.py\u001b[0m in \u001b[0;36m__exit__\u001b[0;34m(self, exc_type, exc_val, exc_tb)\u001b[0m\n\u001b[1;32m    634\u001b[0m \u001b[0;34m\u001b[0m\u001b[0m\n\u001b[1;32m    635\u001b[0m     \u001b[0;32mdef\u001b[0m \u001b[0m__exit__\u001b[0m\u001b[0;34m(\u001b[0m\u001b[0mself\u001b[0m\u001b[0;34m,\u001b[0m \u001b[0mexc_type\u001b[0m\u001b[0;34m,\u001b[0m \u001b[0mexc_val\u001b[0m\u001b[0;34m,\u001b[0m \u001b[0mexc_tb\u001b[0m\u001b[0;34m)\u001b[0m\u001b[0;34m:\u001b[0m\u001b[0;34m\u001b[0m\u001b[0;34m\u001b[0m\u001b[0m\n\u001b[0;32m--> 636\u001b[0;31m         \u001b[0mself\u001b[0m\u001b[0;34m.\u001b[0m\u001b[0mshutdown\u001b[0m\u001b[0;34m(\u001b[0m\u001b[0mwait\u001b[0m\u001b[0;34m=\u001b[0m\u001b[0;32mTrue\u001b[0m\u001b[0;34m)\u001b[0m\u001b[0;34m\u001b[0m\u001b[0;34m\u001b[0m\u001b[0m\n\u001b[0m\u001b[1;32m    637\u001b[0m         \u001b[0;32mreturn\u001b[0m \u001b[0;32mFalse\u001b[0m\u001b[0;34m\u001b[0m\u001b[0;34m\u001b[0m\u001b[0m\n\u001b[1;32m    638\u001b[0m \u001b[0;34m\u001b[0m\u001b[0m\n",
      "\u001b[0;32m~/anaconda3/lib/python3.8/concurrent/futures/thread.py\u001b[0m in \u001b[0;36mshutdown\u001b[0;34m(self, wait)\u001b[0m\n\u001b[1;32m    234\u001b[0m         \u001b[0;32mif\u001b[0m \u001b[0mwait\u001b[0m\u001b[0;34m:\u001b[0m\u001b[0;34m\u001b[0m\u001b[0;34m\u001b[0m\u001b[0m\n\u001b[1;32m    235\u001b[0m             \u001b[0;32mfor\u001b[0m \u001b[0mt\u001b[0m \u001b[0;32min\u001b[0m \u001b[0mself\u001b[0m\u001b[0;34m.\u001b[0m\u001b[0m_threads\u001b[0m\u001b[0;34m:\u001b[0m\u001b[0;34m\u001b[0m\u001b[0;34m\u001b[0m\u001b[0m\n\u001b[0;32m--> 236\u001b[0;31m                 \u001b[0mt\u001b[0m\u001b[0;34m.\u001b[0m\u001b[0mjoin\u001b[0m\u001b[0;34m(\u001b[0m\u001b[0;34m)\u001b[0m\u001b[0;34m\u001b[0m\u001b[0;34m\u001b[0m\u001b[0m\n\u001b[0m\u001b[1;32m    237\u001b[0m     \u001b[0mshutdown\u001b[0m\u001b[0;34m.\u001b[0m\u001b[0m__doc__\u001b[0m \u001b[0;34m=\u001b[0m \u001b[0m_base\u001b[0m\u001b[0;34m.\u001b[0m\u001b[0mExecutor\u001b[0m\u001b[0;34m.\u001b[0m\u001b[0mshutdown\u001b[0m\u001b[0;34m.\u001b[0m\u001b[0m__doc__\u001b[0m\u001b[0;34m\u001b[0m\u001b[0;34m\u001b[0m\u001b[0m\n",
      "\u001b[0;32m~/anaconda3/lib/python3.8/threading.py\u001b[0m in \u001b[0;36mjoin\u001b[0;34m(self, timeout)\u001b[0m\n\u001b[1;32m   1009\u001b[0m \u001b[0;34m\u001b[0m\u001b[0m\n\u001b[1;32m   1010\u001b[0m         \u001b[0;32mif\u001b[0m \u001b[0mtimeout\u001b[0m \u001b[0;32mis\u001b[0m \u001b[0;32mNone\u001b[0m\u001b[0;34m:\u001b[0m\u001b[0;34m\u001b[0m\u001b[0;34m\u001b[0m\u001b[0m\n\u001b[0;32m-> 1011\u001b[0;31m             \u001b[0mself\u001b[0m\u001b[0;34m.\u001b[0m\u001b[0m_wait_for_tstate_lock\u001b[0m\u001b[0;34m(\u001b[0m\u001b[0;34m)\u001b[0m\u001b[0;34m\u001b[0m\u001b[0;34m\u001b[0m\u001b[0m\n\u001b[0m\u001b[1;32m   1012\u001b[0m         \u001b[0;32melse\u001b[0m\u001b[0;34m:\u001b[0m\u001b[0;34m\u001b[0m\u001b[0;34m\u001b[0m\u001b[0m\n\u001b[1;32m   1013\u001b[0m             \u001b[0;31m# the behavior of a negative timeout isn't documented, but\u001b[0m\u001b[0;34m\u001b[0m\u001b[0;34m\u001b[0m\u001b[0;34m\u001b[0m\u001b[0m\n",
      "\u001b[0;32m~/anaconda3/lib/python3.8/threading.py\u001b[0m in \u001b[0;36m_wait_for_tstate_lock\u001b[0;34m(self, block, timeout)\u001b[0m\n\u001b[1;32m   1025\u001b[0m         \u001b[0;32mif\u001b[0m \u001b[0mlock\u001b[0m \u001b[0;32mis\u001b[0m \u001b[0;32mNone\u001b[0m\u001b[0;34m:\u001b[0m  \u001b[0;31m# already determined that the C code is done\u001b[0m\u001b[0;34m\u001b[0m\u001b[0;34m\u001b[0m\u001b[0m\n\u001b[1;32m   1026\u001b[0m             \u001b[0;32massert\u001b[0m \u001b[0mself\u001b[0m\u001b[0;34m.\u001b[0m\u001b[0m_is_stopped\u001b[0m\u001b[0;34m\u001b[0m\u001b[0;34m\u001b[0m\u001b[0m\n\u001b[0;32m-> 1027\u001b[0;31m         \u001b[0;32melif\u001b[0m \u001b[0mlock\u001b[0m\u001b[0;34m.\u001b[0m\u001b[0macquire\u001b[0m\u001b[0;34m(\u001b[0m\u001b[0mblock\u001b[0m\u001b[0;34m,\u001b[0m \u001b[0mtimeout\u001b[0m\u001b[0;34m)\u001b[0m\u001b[0;34m:\u001b[0m\u001b[0;34m\u001b[0m\u001b[0;34m\u001b[0m\u001b[0m\n\u001b[0m\u001b[1;32m   1028\u001b[0m             \u001b[0mlock\u001b[0m\u001b[0;34m.\u001b[0m\u001b[0mrelease\u001b[0m\u001b[0;34m(\u001b[0m\u001b[0;34m)\u001b[0m\u001b[0;34m\u001b[0m\u001b[0;34m\u001b[0m\u001b[0m\n\u001b[1;32m   1029\u001b[0m             \u001b[0mself\u001b[0m\u001b[0;34m.\u001b[0m\u001b[0m_stop\u001b[0m\u001b[0;34m(\u001b[0m\u001b[0;34m)\u001b[0m\u001b[0;34m\u001b[0m\u001b[0;34m\u001b[0m\u001b[0m\n",
      "\u001b[0;31mKeyboardInterrupt\u001b[0m: "
     ]
    }
   ],
   "source": [
    "storage_path = f\"study.db\"\n",
    "storage = f\"sqlite:///{storage_path}\"\n",
    "study_name = \"study\"\n",
    "study = optuna.create_study(storage=storage, load_if_exists=True, study_name=study_name, direction=\"maximize\")\n",
    "\n",
    "def callback(study, trial):\n",
    "    try:\n",
    "        if study.best_value == trial.value:\n",
    "            print(f\"Updated! {study.best_value}\")\n",
    "            index_parallel = trial.number % 12\n",
    "            parameters_changed_filename = f\"{index_parallel}_{FILENAME}\"\n",
    "            !cp {parameters_changed_filename} 00000optimized.cpp\n",
    "        print(\"callback ok\")\n",
    "    except:\n",
    "        print(\":(\")\n",
    "\n",
    "objective = partial(objective_with_index, n_internal_parallel=6)\n",
    "study.optimize(objective, n_trials=3000, timeout=86400, n_jobs=5, callbacks=[callback])"
   ]
  },
  {
   "cell_type": "code",
   "execution_count": null,
   "id": "f6c16ff0",
   "metadata": {},
   "outputs": [],
   "source": []
  }
 ],
 "metadata": {
  "kernelspec": {
   "display_name": "Python 3",
   "language": "python",
   "name": "python3"
  },
  "language_info": {
   "codemirror_mode": {
    "name": "ipython",
    "version": 3
   },
   "file_extension": ".py",
   "mimetype": "text/x-python",
   "name": "python",
   "nbconvert_exporter": "python",
   "pygments_lexer": "ipython3",
   "version": "3.8.8"
  }
 },
 "nbformat": 4,
 "nbformat_minor": 5
}
