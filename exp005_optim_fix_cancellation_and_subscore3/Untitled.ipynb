{
 "cells": [
  {
   "cell_type": "code",
   "execution_count": 1,
   "id": "3a7348b3",
   "metadata": {},
   "outputs": [],
   "source": [
    "import re\n",
    "import sys\n",
    "from time import time, sleep\n",
    "from pprint import pprint\n",
    "from functools import partial\n",
    "from multiprocessing import Pool\n",
    "\n",
    "import numpy as np\n",
    "import pandas as pd\n",
    "import optuna\n",
    "import matplotlib.pyplot as plt\n",
    "\n",
    "FILENAME = \"main.cpp\""
   ]
  },
  {
   "cell_type": "code",
   "execution_count": 2,
   "id": "b992f57f",
   "metadata": {},
   "outputs": [],
   "source": [
    "!cp ../answer/main.cpp ./{FILENAME}"
   ]
  },
  {
   "cell_type": "code",
   "execution_count": 3,
   "id": "0812a715",
   "metadata": {
    "scrolled": true
   },
   "outputs": [
    {
     "name": "stdout",
     "output_type": "stream",
     "text": [
      "\u001b[01m\u001b[Kmain.cpp:49:\u001b[m\u001b[K \u001b[01;35m\u001b[Kwarning: \u001b[m\u001b[Kignoring #pragma clang attribute [\u001b[01;35m\u001b[K-Wunknown-pragmas\u001b[m\u001b[K]\n",
      "   49 | #pragma clang attribute push (__attribute__((target(\"arch=skylake\"))),apply_to=function)\n",
      "      | \n",
      "\u001b[01m\u001b[Kmain.cpp:1377:\u001b[m\u001b[K \u001b[01;35m\u001b[Kwarning: \u001b[m\u001b[Kignoring #pragma clang attribute [\u001b[01;35m\u001b[K-Wunknown-pragmas\u001b[m\u001b[K]\n",
      " 1377 | #pragma clang attribute pop\n",
      "      | \n",
      "\u001b[01m\u001b[Kmain.cpp:\u001b[m\u001b[K In function ‘\u001b[01m\u001b[Kvoid globals::UpdateValueTable()\u001b[m\u001b[K’:\n",
      "\u001b[01m\u001b[Kmain.cpp:821:15:\u001b[m\u001b[K \u001b[01;35m\u001b[Kwarning: \u001b[m\u001b[Kunused variable ‘\u001b[01m\u001b[Kvm\u001b[m\u001b[K’ [\u001b[01;35m\u001b[K-Wunused-variable\u001b[m\u001b[K]\n",
      "  821 |   const auto& \u001b[01;35m\u001b[Kvm\u001b[m\u001b[K = v_modified[idx_RCSEV];\n",
      "      |               \u001b[01;35m\u001b[K^~\u001b[m\u001b[K\n",
      "\u001b[01m\u001b[Kmain.cpp:\u001b[m\u001b[K In function ‘\u001b[01m\u001b[Kvoid Solve()\u001b[m\u001b[K’:\n",
      "\u001b[01m\u001b[Kmain.cpp:1281:72:\u001b[m\u001b[K \u001b[01;35m\u001b[Kwarning: \u001b[m\u001b[Kmissing initializer for member ‘\u001b[01m\u001b[KSolve()::Node::action\u001b[m\u001b[K’ [\u001b[01;35m\u001b[K-Wmissing-field-initializers\u001b[m\u001b[K]\n",
      " 1281 |   node_buffer.push({ state_buffer[0].score, nullptr, &state_buffer[0] }\u001b[01;35m\u001b[K)\u001b[m\u001b[K;\n",
      "      |                                                                        \u001b[01;35m\u001b[K^\u001b[m\u001b[K\n",
      "main.cpp: In instantiation of ‘\u001b[01m\u001b[KHashMap<T, size, KeyType>::HashMap() [with T = double; int size = 1048576; KeyType = long long unsigned int]\u001b[m\u001b[K’:\n",
      "\u001b[01m\u001b[Kmain.cpp:535:26:\u001b[m\u001b[K   required from here\n",
      "\u001b[01m\u001b[Kmain.cpp:477:30:\u001b[m\u001b[K \u001b[01;35m\u001b[Kwarning: \u001b[m\u001b[Ksuggest parentheses around ‘\u001b[01m\u001b[K-\u001b[m\u001b[K’ in operand of ‘\u001b[01m\u001b[K&\u001b[m\u001b[K’ [\u001b[01;35m\u001b[K-Wparentheses\u001b[m\u001b[K]\n",
      "  477 |   static_assert((size & \u001b[01;35m\u001b[Ksize - 1\u001b[m\u001b[K) == 0, \"not pow of 2\");\n",
      "      |                         \u001b[01;35m\u001b[K~~~~~^~~\u001b[m\u001b[K\n",
      "\u001b[01m\u001b[Kmain.cpp:478:9:\u001b[m\u001b[K \u001b[01;35m\u001b[Kwarning: \u001b[m\u001b[K‘\u001b[01m\u001b[Kvoid* memset(void*, int, size_t)\u001b[m\u001b[K’ clearing an object of type ‘\u001b[01m\u001b[Kstd::array<std::pair<long long unsigned int, double>, 1048576>::value_type\u001b[m\u001b[K’ {aka ‘\u001b[01m\u001b[Kstruct std::pair<long long unsigned int, double>\u001b[m\u001b[K’} with no trivial copy-assignment; use assignment instead [\u001b[01;35m\u001b[K-Wclass-memaccess\u001b[m\u001b[K]\n",
      "  478 |   \u001b[01;35m\u001b[Kmemset(&data[0], 0, sizeof(data))\u001b[m\u001b[K;\n",
      "      |   \u001b[01;35m\u001b[K~~~~~~^~~~~~~~~~~~~~~~~~~~~~~~~~~\u001b[m\u001b[K\n",
      "In file included from \u001b[01m\u001b[K/usr/include/c++/9/bits/stl_algobase.h:64\u001b[m\u001b[K,\n",
      "                 from \u001b[01m\u001b[K/usr/include/c++/9/bits/char_traits.h:39\u001b[m\u001b[K,\n",
      "                 from \u001b[01m\u001b[K/usr/include/c++/9/ios:40\u001b[m\u001b[K,\n",
      "                 from \u001b[01m\u001b[K/usr/include/c++/9/ostream:38\u001b[m\u001b[K,\n",
      "                 from \u001b[01m\u001b[K/usr/include/c++/9/iostream:39\u001b[m\u001b[K,\n",
      "                 from \u001b[01m\u001b[Kmain.cpp:8\u001b[m\u001b[K:\n",
      "\u001b[01m\u001b[K/usr/include/c++/9/bits/stl_pair.h:208:12:\u001b[m\u001b[K \u001b[01;36m\u001b[Knote: \u001b[m\u001b[K‘\u001b[01m\u001b[Kstd::array<std::pair<long long unsigned int, double>, 1048576>::value_type\u001b[m\u001b[K’ {aka ‘\u001b[01m\u001b[Kstruct std::pair<long long unsigned int, double>\u001b[m\u001b[K’} declared here\n",
      "  208 |     struct \u001b[01;36m\u001b[Kpair\u001b[m\u001b[K\n",
      "      |            \u001b[01;36m\u001b[K^~~~\u001b[m\u001b[K\n",
      "main.cpp: In instantiation of ‘\u001b[01m\u001b[KHashMap<T, size, KeyType>::HashMap() [with T = Solve()::Node*; int size = 524288; KeyType = long long unsigned int]\u001b[m\u001b[K’:\n",
      "\u001b[01m\u001b[Kmain.cpp:1292:48:\u001b[m\u001b[K   required from here\n",
      "\u001b[01m\u001b[Kmain.cpp:477:30:\u001b[m\u001b[K \u001b[01;35m\u001b[Kwarning: \u001b[m\u001b[Ksuggest parentheses around ‘\u001b[01m\u001b[K-\u001b[m\u001b[K’ in operand of ‘\u001b[01m\u001b[K&\u001b[m\u001b[K’ [\u001b[01;35m\u001b[K-Wparentheses\u001b[m\u001b[K]\n",
      "  477 |   static_assert((size & \u001b[01;35m\u001b[Ksize - 1\u001b[m\u001b[K) == 0, \"not pow of 2\");\n",
      "      |                         \u001b[01;35m\u001b[K~~~~~^~~\u001b[m\u001b[K\n",
      "\u001b[01m\u001b[Kmain.cpp:478:9:\u001b[m\u001b[K \u001b[01;35m\u001b[Kwarning: \u001b[m\u001b[K‘\u001b[01m\u001b[Kvoid* memset(void*, int, size_t)\u001b[m\u001b[K’ clearing an object of type ‘\u001b[01m\u001b[Kstd::array<std::pair<long long unsigned int, Solve()::Node*>, 524288>::value_type\u001b[m\u001b[K’ {aka ‘\u001b[01m\u001b[Kstruct std::pair<long long unsigned int, Solve()::Node*>\u001b[m\u001b[K’} with no trivial copy-assignment; use assignment instead [\u001b[01;35m\u001b[K-Wclass-memaccess\u001b[m\u001b[K]\n",
      "  478 |   \u001b[01;35m\u001b[Kmemset(&data[0], 0, sizeof(data))\u001b[m\u001b[K;\n",
      "      |   \u001b[01;35m\u001b[K~~~~~~^~~~~~~~~~~~~~~~~~~~~~~~~~~\u001b[m\u001b[K\n",
      "In file included from \u001b[01m\u001b[K/usr/include/c++/9/bits/stl_algobase.h:64\u001b[m\u001b[K,\n",
      "                 from \u001b[01m\u001b[K/usr/include/c++/9/bits/char_traits.h:39\u001b[m\u001b[K,\n",
      "                 from \u001b[01m\u001b[K/usr/include/c++/9/ios:40\u001b[m\u001b[K,\n",
      "                 from \u001b[01m\u001b[K/usr/include/c++/9/ostream:38\u001b[m\u001b[K,\n",
      "                 from \u001b[01m\u001b[K/usr/include/c++/9/iostream:39\u001b[m\u001b[K,\n",
      "                 from \u001b[01m\u001b[Kmain.cpp:8\u001b[m\u001b[K:\n",
      "\u001b[01m\u001b[K/usr/include/c++/9/bits/stl_pair.h:208:12:\u001b[m\u001b[K \u001b[01;36m\u001b[Knote: \u001b[m\u001b[K‘\u001b[01m\u001b[Kstd::array<std::pair<long long unsigned int, Solve()::Node*>, 524288>::value_type\u001b[m\u001b[K’ {aka ‘\u001b[01m\u001b[Kstruct std::pair<long long unsigned int, Solve()::Node*>\u001b[m\u001b[K’} declared here\n",
      "  208 |     struct \u001b[01;36m\u001b[Kpair\u001b[m\u001b[K\n",
      "      |            \u001b[01;36m\u001b[K^~~~\u001b[m\u001b[K\n",
      "main.cpp: In instantiation of ‘\u001b[01m\u001b[Kvoid HashMap<T, size, KeyType>::clear() [with T = Solve()::Node*; int size = 524288; KeyType = long long unsigned int]\u001b[m\u001b[K’:\n",
      "\u001b[01m\u001b[Kmain.cpp:1293:33:\u001b[m\u001b[K   required from here\n",
      "\u001b[01m\u001b[Kmain.cpp:531:9:\u001b[m\u001b[K \u001b[01;35m\u001b[Kwarning: \u001b[m\u001b[K‘\u001b[01m\u001b[Kvoid* memset(void*, int, size_t)\u001b[m\u001b[K’ clearing an object of type ‘\u001b[01m\u001b[Kstd::array<std::pair<long long unsigned int, Solve()::Node*>, 524288>::value_type\u001b[m\u001b[K’ {aka ‘\u001b[01m\u001b[Kstruct std::pair<long long unsigned int, Solve()::Node*>\u001b[m\u001b[K’} with no trivial copy-assignment; use assignment instead [\u001b[01;35m\u001b[K-Wclass-memaccess\u001b[m\u001b[K]\n",
      "  531 |   \u001b[01;35m\u001b[Kmemset(&data[0], 0, sizeof(data))\u001b[m\u001b[K;\n",
      "      |   \u001b[01;35m\u001b[K~~~~~~^~~~~~~~~~~~~~~~~~~~~~~~~~~\u001b[m\u001b[K\n",
      "In file included from \u001b[01m\u001b[K/usr/include/c++/9/bits/stl_algobase.h:64\u001b[m\u001b[K,\n",
      "                 from \u001b[01m\u001b[K/usr/include/c++/9/bits/char_traits.h:39\u001b[m\u001b[K,\n",
      "                 from \u001b[01m\u001b[K/usr/include/c++/9/ios:40\u001b[m\u001b[K,\n",
      "                 from \u001b[01m\u001b[K/usr/include/c++/9/ostream:38\u001b[m\u001b[K,\n",
      "                 from \u001b[01m\u001b[K/usr/include/c++/9/iostream:39\u001b[m\u001b[K,\n",
      "                 from \u001b[01m\u001b[Kmain.cpp:8\u001b[m\u001b[K:\n",
      "\u001b[01m\u001b[K/usr/include/c++/9/bits/stl_pair.h:208:12:\u001b[m\u001b[K \u001b[01;36m\u001b[Knote: \u001b[m\u001b[K‘\u001b[01m\u001b[Kstd::array<std::pair<long long unsigned int, Solve()::Node*>, 524288>::value_type\u001b[m\u001b[K’ {aka ‘\u001b[01m\u001b[Kstruct std::pair<long long unsigned int, Solve()::Node*>\u001b[m\u001b[K’} declared here\n",
      "  208 |     struct \u001b[01;36m\u001b[Kpair\u001b[m\u001b[K\n",
      "      |            \u001b[01;36m\u001b[K^~~~\u001b[m\u001b[K\n",
      "\u001b[01m\u001b[Kmain.cpp:1195:8:\u001b[m\u001b[K \u001b[01;35m\u001b[Kwarning: \u001b[m\u001b[Kignoring return value of ‘\u001b[01m\u001b[Kint scanf(const char*, ...)\u001b[m\u001b[K’, declared with attribute warn_unused_result [\u001b[01;35m\u001b[K-Wunused-result\u001b[m\u001b[K]\n",
      " 1195 |   \u001b[01;35m\u001b[Kscanf(\"%d %d %d\", &buf, &buf, &buf)\u001b[m\u001b[K;\n",
      "      |   \u001b[01;35m\u001b[K~~~~~^~~~~~~~~~~~~~~~~~~~~~~~~~~~~~\u001b[m\u001b[K\n",
      "\u001b[01m\u001b[Kmain.cpp:1197:9:\u001b[m\u001b[K \u001b[01;35m\u001b[Kwarning: \u001b[m\u001b[Kignoring return value of ‘\u001b[01m\u001b[Kint scanf(const char*, ...)\u001b[m\u001b[K’, declared with attribute warn_unused_result [\u001b[01;35m\u001b[K-Wunused-result\u001b[m\u001b[K]\n",
      " 1197 |    \u001b[01;35m\u001b[Kscanf(\"%hhd %hhd %hd %hd %hd\", &R[i], &C[i], &S[i], &E[i], &V[i])\u001b[m\u001b[K;\n",
      "      |    \u001b[01;35m\u001b[K~~~~~^~~~~~~~~~~~~~~~~~~~~~~~~~~~~~~~~~~~~~~~~~~~~~~~~~~~~~~~~~~~\u001b[m\u001b[K\n"
     ]
    }
   ],
   "source": [
    "#!g++ {FILENAME} -std=gnu++17 -Wall -Wextra -O2 -DONLINE_JUDGE -o {FILENAME}.out\n",
    "!g++ {FILENAME} -std=gnu++17 -Wall -Wextra -O2 -o {FILENAME}.out"
   ]
  },
  {
   "cell_type": "code",
   "execution_count": 4,
   "id": "ca1d59c1",
   "metadata": {},
   "outputs": [
    {
     "name": "stdout",
     "output_type": "stream",
     "text": [
      "0000.txt  0025.txt  0050.txt  0075.txt\t0100.txt  0125.txt  0150.txt  0175.txt\r\n",
      "0001.txt  0026.txt  0051.txt  0076.txt\t0101.txt  0126.txt  0151.txt  0176.txt\r\n",
      "0002.txt  0027.txt  0052.txt  0077.txt\t0102.txt  0127.txt  0152.txt  0177.txt\r\n",
      "0003.txt  0028.txt  0053.txt  0078.txt\t0103.txt  0128.txt  0153.txt  0178.txt\r\n",
      "0004.txt  0029.txt  0054.txt  0079.txt\t0104.txt  0129.txt  0154.txt  0179.txt\r\n",
      "0005.txt  0030.txt  0055.txt  0080.txt\t0105.txt  0130.txt  0155.txt  0180.txt\r\n",
      "0006.txt  0031.txt  0056.txt  0081.txt\t0106.txt  0131.txt  0156.txt  0181.txt\r\n",
      "0007.txt  0032.txt  0057.txt  0082.txt\t0107.txt  0132.txt  0157.txt  0182.txt\r\n",
      "0008.txt  0033.txt  0058.txt  0083.txt\t0108.txt  0133.txt  0158.txt  0183.txt\r\n",
      "0009.txt  0034.txt  0059.txt  0084.txt\t0109.txt  0134.txt  0159.txt  0184.txt\r\n",
      "0010.txt  0035.txt  0060.txt  0085.txt\t0110.txt  0135.txt  0160.txt  0185.txt\r\n",
      "0011.txt  0036.txt  0061.txt  0086.txt\t0111.txt  0136.txt  0161.txt  0186.txt\r\n",
      "0012.txt  0037.txt  0062.txt  0087.txt\t0112.txt  0137.txt  0162.txt  0187.txt\r\n",
      "0013.txt  0038.txt  0063.txt  0088.txt\t0113.txt  0138.txt  0163.txt  0188.txt\r\n",
      "0014.txt  0039.txt  0064.txt  0089.txt\t0114.txt  0139.txt  0164.txt  0189.txt\r\n",
      "0015.txt  0040.txt  0065.txt  0090.txt\t0115.txt  0140.txt  0165.txt  0190.txt\r\n",
      "0016.txt  0041.txt  0066.txt  0091.txt\t0116.txt  0141.txt  0166.txt  0191.txt\r\n",
      "0017.txt  0042.txt  0067.txt  0092.txt\t0117.txt  0142.txt  0167.txt  0192.txt\r\n",
      "0018.txt  0043.txt  0068.txt  0093.txt\t0118.txt  0143.txt  0168.txt  0193.txt\r\n",
      "0019.txt  0044.txt  0069.txt  0094.txt\t0119.txt  0144.txt  0169.txt  0194.txt\r\n",
      "0020.txt  0045.txt  0070.txt  0095.txt\t0120.txt  0145.txt  0170.txt  0195.txt\r\n",
      "0021.txt  0046.txt  0071.txt  0096.txt\t0121.txt  0146.txt  0171.txt  0196.txt\r\n",
      "0022.txt  0047.txt  0072.txt  0097.txt\t0122.txt  0147.txt  0172.txt  0197.txt\r\n",
      "0023.txt  0048.txt  0073.txt  0098.txt\t0123.txt  0148.txt  0173.txt  0198.txt\r\n",
      "0024.txt  0049.txt  0074.txt  0099.txt\t0124.txt  0149.txt  0174.txt  0199.txt\r\n"
     ]
    }
   ],
   "source": [
    "# テストケース生成\n",
    "SEED = 1000\n",
    "N_TESTCASES = 200\n",
    "\n",
    "!mkdir in\n",
    "for i in range(N_TESTCASES):\n",
    "    filename = f\"{i:04d}.txt\"\n",
    "    seed = SEED + i\n",
    "    !python3 ../A/tester/generator.py {seed} > ./in/{filename}\n",
    "!ls in"
   ]
  },
  {
   "cell_type": "code",
   "execution_count": 5,
   "id": "4a25a828",
   "metadata": {},
   "outputs": [],
   "source": [
    "TESTCASE_DIRECTORY = \"./in/\"\n",
    "TESTCASES = [f\"{i:04d}.txt\" for i in range(N_TESTCASES)]"
   ]
  },
  {
   "cell_type": "code",
   "execution_count": 6,
   "id": "7f9870e3",
   "metadata": {},
   "outputs": [
    {
     "name": "stdout",
     "output_type": "stream",
     "text": [
      "0013 time:2.4559 score:5178430\n",
      "0039 time:2.5824 score:5536539\n",
      "0026 time:2.6042 score:4894464\n",
      "0000 time:2.6755 score:4903030\n",
      "0014 time:2.3062 score:5398016\n",
      "0040 time:2.4042 0027score:4792872 \n",
      "time:2.4000 score:5657595\n",
      "0001 time:2.6995 score:5355210\n",
      "0015 time:2.5627 score:5484287\n",
      "0041 time:2.3788 score:4530063\n",
      "0028 time:2.5821 score:5069833\n",
      "0002 time:2.4664 score:4687592\n",
      "0016 time:2.5443 score:5079234\n",
      "0042 time:2.6599 score:5360441\n",
      "0029 time:2.5025 score:5236158\n",
      "0003 time:2.3110 score:4687261\n",
      "0017 time:2.5105 score:4503560\n",
      "0043 time:2.5853 score:5044637\n",
      "0004 time:2.5528 score:4595307\n",
      "0030 time:2.6985 score:4853766\n",
      "0044 time:2.2201 score:5142329\n",
      "0018 time:2.5117 score:4995041\n",
      "0005 time:2.3612 score:5138846\n",
      "0031 time:2.3471 score:4491734\n",
      "0019 time:2.3659 score:4579212\n",
      "0006 time:2.3617 score:4500612\n",
      "0045 time:2.6186 score:5272829\n",
      "0032 time:2.3955 score:5450502\n",
      "0020 time:2.2025 score:4699695\n",
      "0033 time:2.0821 score:4156374\n",
      "0007 time:2.3624 score:5324944\n",
      "0046 time:2.4198 score:5044275\n",
      "0021 time:2.4376 score:5016936\n",
      "0008 time:2.2038 score:5382660\n",
      "0034 time:2.6262 score:5698168\n",
      "0047 time:2.5265 score:5080953\n",
      "0022 time:2.2568 score:4723686\n",
      "0035 time:2.1947 score:4722697\n",
      "0009 time:2.5667 score:4914504\n",
      "0048 time:2.2918 score:4586927\n",
      "0023 time:2.4720 score:4841168\n",
      "0036 time:2.4236 score:5846607\n",
      "0010 time:2.4340 score:4456105\n",
      "0049 time:2.3499 score:4946309\n",
      "0024 time:2.4881 score:5130938\n",
      "0050 time:2.3206 score:4848672\n",
      "0011 time:2.3672 score:5307063\n",
      "0037 time:2.7216 score:4900387\n",
      "0025 time:2.4725 score:4687952\n",
      "0038 time:2.3018 score:6040065\n",
      "0051 time:2.5623 score:4931510\n",
      "0012 time:2.5614 score:4472923\n",
      "0052 time:2.4897 score:4529382\n",
      "0065 time:2.3611 score:5005808\n",
      "0091 time:2.4292 score:4829705\n",
      "0078 time:2.5390 score:5274144\n",
      "0053 time:2.4526 score:4589162\n",
      "0066 time:2.4589 score:5601765\n",
      "0092 time:2.3868 score:5821479\n",
      "0079 time:2.3831 score:5015532\n",
      "0080 time:2.2838 score:4689911\n",
      "0054 time:2.6261 score:4778067\n",
      "0067 time:2.5221 score:5091734\n",
      "0093 time:2.6178 score:4655090\n",
      "0081 time:2.3121 score:5470245\n",
      "0055 time:2.3720 score:4423253\n",
      "0094 time:2.3064 score:4616146\n",
      "0068 time:2.5825 score:4945311\n",
      "0082 time:2.3996 score:5034104\n",
      "0056 time:2.3997 score:4254398\n",
      "0095 time:2.4432 score:5341460\n",
      "0069 time:2.3985 score:4325094\n",
      "0057 time:2.4730 score:5371250\n",
      "0083 time:2.6320 score:5030177\n",
      "0070 time:2.4189 score:5515203\n",
      "0096 time:2.6949 score:4629431\n",
      "0058 time:2.4071 score:4748391\n",
      "0071 time:2.2246 score:4261840\n",
      "0084 time:2.4350 score:4222912\n",
      "0097 time:2.3540 score:4678959\n",
      "0085 time:2.3642 score:4486451\n",
      "0059 time:2.5089 score:4769182\n",
      "0072 time:2.5280 score:4914132\n",
      "0098 time:2.4076 score:4586205\n",
      "0073 time:2.44440060  score:5412026time:2.5276\n",
      " score:5004872\n",
      "0086 time:2.5951 score:5014637\n",
      "0099 time:2.3889 score:4598670\n",
      "0061 0074time:2.6053 time:2.6053  score:4914930score:4717881\n",
      "\n",
      "0100 time:2.5244 score:4791333\n",
      "0087 time:2.9095 score:4936226\n",
      "0075 time:2.4352 score:4185562\n",
      "0062 time:2.4786 score:4835425\n",
      "0101 time:2.4926 score:5312807\n",
      "0088 time:2.4592 score:5015343\n",
      "0076 time:2.5134 0063score:5224755 time:2.4712\n",
      " score:4717459\n",
      "0102 time:2.4503 score:5033768\n",
      "0089 time:2.2048 score:4563767\n",
      "0077 time:2.5002 score:4813829\n",
      "0064 time:2.5437 score:4145777\n",
      "0090 time:2.6089 score:4961590\n",
      "0103 time:2.7486 score:4939958\n",
      "0117 time:2.3352 score:5182695\n",
      "0104 time:2.4884 score:4341003\n",
      "0130 time:2.4804 score:4616883\n",
      "0143 time:2.4213 score:5142190\n",
      "0118 time:2.3498 score:5031687\n",
      "0105 time:2.4523 score:4909250\n",
      "0131 time:2.3703 score:4919823\n",
      "0144 time:2.3353 score:4857080\n",
      "0106 time:2.3352 score:4643900\n",
      "0119 time:2.6097 score:5194759\n",
      "0145 time:2.4103 score:5283327\n",
      "0132 time:2.6371 score:5361208\n",
      "0107 time:2.3104 score:4936911\n",
      "0133 time:2.2255 score:4690560\n",
      "0120 time:2.6511 score:5523805\n",
      "0146 time:2.6698 score:4992196\n",
      "0108 time:2.3187 score:5076453\n",
      "0134 time:2.5911 score:4902014\n",
      "0121 time:2.5409 score:5225931\n",
      "0147 time:2.4800 score:5320753\n",
      "0109 time:2.3439 score:4663184\n",
      "0148 time:2.1782 score:4898868\n",
      "0135 time:2.3865 score:4520148\n",
      "0122 time:2.6771 score:5304939\n",
      "0110 time:2.4451 score:5305921\n",
      "0136 time:2.4113 score:5782760\n",
      "0149 time:2.5200 score:4738030\n",
      "0123 time:2.4923 score:5102448\n",
      "0111 time:2.4209 score:5229106\n",
      "0137 time:2.2498 score:5041860\n",
      "0150 time:2.4298 score:5053319\n",
      "0124 time:2.2739 score:5281343\n",
      "0112 time:2.2737 score:4594137\n",
      "0138 time:2.3115 score:4926513\n",
      "0151 time:2.4356 score:4333229\n",
      "0125 time:2.2920 score:4998006\n",
      "0113 time:2.3685 score:5488590\n",
      "0139 time:2.3532 score:4892666\n",
      "0152 time:2.2731 score:5133486\n",
      "0126 time:2.2756 score:5462808\n",
      "0114 time:2.3178 score:4632189\n",
      "0140 time:2.3817 score:4849317\n",
      "0153 time:2.3873 score:5018610\n",
      "0127 time:2.3646 score:5287863\n",
      "0115 time:2.3351 score:4962794\n",
      "0141 time:2.4822 score:5299206\n",
      "0154 time:2.2840 score:4802438\n",
      "0128 time:2.3776 score:4650168\n",
      "0116 time:2.3505 score:4930777\n",
      "0142 time:2.3542 score:4468538\n",
      "0155 time:2.3739 score:4911202\n",
      "0129 time:2.4223 score:5442533\n",
      "0156 time:2.2580 score:4910892\n",
      "0169 time:2.4077 score:5106670\n",
      "0195 time:2.1999 score:4480680\n",
      "0182 time:2.4428 score:5103898\n",
      "0157 time:2.3574 score:5097811\n",
      "0183 time:2.1956 score:4802664\n",
      "0170 time:2.5156 score:5447491\n",
      "0196 time:2.5037 score:5064484\n",
      "0158 time:2.1474 score:5059652\n",
      "0184 time:2.3053 score:4705955\n",
      "0171 time:2.3912 score:5069041\n",
      "0197 time:2.4987 score:4725698\n",
      "0159 time:2.4609 score:4638715\n",
      "0185 time:2.5096 score:5098371\n",
      "0172 time:2.6283 score:4987482\n",
      "0198 time:2.4994 score:5028450\n",
      "0160 time:2.6170 score:5898230\n",
      "0186 time:2.4325 score:4902506\n",
      "0173 time:2.2937 score:4792054\n",
      "0199 time:2.3617 score:5384175\n",
      "0161 time:2.4053 score:5156821\n",
      "0187 time:2.1910 score:5096690\n",
      "0174 time:2.1343 score:4731390\n",
      "0162 time:2.2578 score:4926490\n",
      "0175 time:2.1188 score:5283923\n",
      "0188 time:2.4857 score:5546251\n",
      "0163 time:2.3166 score:4994740\n",
      "0189 time:2.3167 score:4930753\n",
      "0176 time:2.5236 score:5067369\n",
      "0164 time:2.2740 score:5218371\n",
      "0190 time:2.2199 score:5117282\n",
      "0177 time:2.2286 score:5146589\n",
      "0165 time:2.3129 score:5241108\n",
      "0191 time:2.2252 score:4105535\n",
      "0178 time:2.2765 score:5166607\n",
      "0166 time:2.2819 score:4358183\n",
      "0179 time:2.0743 score:4828514\n",
      "0192 time:2.2037 score:5222707\n",
      "0167 time:1.9464 score:4630520\n",
      "0180 time:2.1556 score:4928223\n",
      "0193 time:2.1285 score:4851929\n",
      "0168 time:2.1681 score:5234300\n",
      "0194 time:2.1451 score:4507082\n",
      "0181 time:2.2453 score:5084737\n"
     ]
    },
    {
     "data": {
      "text/plain": [
       "(248.16697825000003, 17.78923519055877)"
      ]
     },
     "execution_count": 6,
     "metadata": {},
     "output_type": "execute_result"
    }
   ],
   "source": [
    "# もとのスコアの確認\n",
    "\n",
    "scores = []\n",
    "times = []\n",
    "\n",
    "!mkdir out\n",
    "\n",
    "def parallel(i):\n",
    "    testcase = TESTCASES[i]\n",
    "    i = f\"{i:04d}\"\n",
    "    t0 = time()\n",
    "    !./{FILENAME}.out < {TESTCASE_DIRECTORY}{testcase} > ./out/{testcase} 2> /dev/null\n",
    "    t = time() - t0\n",
    "    score = !python3 ../A/tester/judge.py {TESTCASE_DIRECTORY}{testcase} ./out/{testcase}\n",
    "    print(i, f\"time:{t:.4f}\", *score)\n",
    "    score = int(score[0].split(\":\")[-1])\n",
    "    return score, t\n",
    "\n",
    "with Pool(4) as p:\n",
    "    for score, t in p.map(parallel, range(N_TESTCASES)):\n",
    "        scores.append(score)\n",
    "        times.append(t)\n",
    "\n",
    "np.mean(scores) * 50 / 1e6, np.std(scores) * 50 / 1e6"
   ]
  },
  {
   "cell_type": "code",
   "execution_count": 7,
   "id": "e646e4ea",
   "metadata": {},
   "outputs": [
    {
     "data": {
      "image/png": "[encoded data removed]",
      "text/plain": [
       "<Figure size 432x288 with 1 Axes>"
      ]
     },
     "metadata": {
      "needs_background": "light"
     },
     "output_type": "display_data"
    }
   ],
   "source": [
    "plt.hist(scores, bins=20)\n",
    "plt.show()"
   ]
  },
  {
   "cell_type": "code",
   "execution_count": 8,
   "id": "9dc2bce6",
   "metadata": {},
   "outputs": [
    {
     "name": "stdout",
     "output_type": "stream",
     "text": [
      "6 variables were found.\n"
     ]
    },
    {
     "data": {
      "text/html": [
       "<div>\n",
       "<style scoped>\n",
       "    .dataframe tbody tr th:only-of-type {\n",
       "        vertical-align: middle;\n",
       "    }\n",
       "\n",
       "    .dataframe tbody tr th {\n",
       "        vertical-align: top;\n",
       "    }\n",
       "\n",
       "    .dataframe thead th {\n",
       "        text-align: right;\n",
       "    }\n",
       "</style>\n",
       "<table border=\"1\" class=\"dataframe\">\n",
       "  <thead>\n",
       "    <tr style=\"text-align: right;\">\n",
       "      <th></th>\n",
       "      <th>name</th>\n",
       "      <th>method</th>\n",
       "      <th>min</th>\n",
       "      <th>max</th>\n",
       "      <th>log</th>\n",
       "      <th>left</th>\n",
       "      <th>right</th>\n",
       "      <th>choices</th>\n",
       "    </tr>\n",
       "  </thead>\n",
       "  <tbody>\n",
       "    <tr>\n",
       "      <th>0</th>\n",
       "      <td>K_START</td>\n",
       "      <td>suggest_float</td>\n",
       "      <td>0.020</td>\n",
       "      <td>0.060</td>\n",
       "      <td>True</td>\n",
       "      <td>constexpr double K_START =</td>\n",
       "      <td>;  // OPTIMIZE [0.02, 0.06] LOG</td>\n",
       "      <td>NaN</td>\n",
       "    </tr>\n",
       "    <tr>\n",
       "      <th>1</th>\n",
       "      <td>K_END</td>\n",
       "      <td>suggest_float</td>\n",
       "      <td>0.010</td>\n",
       "      <td>0.050</td>\n",
       "      <td>True</td>\n",
       "      <td>constexpr double K_END =</td>\n",
       "      <td>;   // OPTIMIZE [0.01, 0.05] LOG</td>\n",
       "      <td>NaN</td>\n",
       "    </tr>\n",
       "    <tr>\n",
       "      <th>2</th>\n",
       "      <td>K_H</td>\n",
       "      <td>suggest_float</td>\n",
       "      <td>0.001</td>\n",
       "      <td>0.999</td>\n",
       "      <td>False</td>\n",
       "      <td>constexpr double K_H =</td>\n",
       "      <td>;      // OPTIMIZE [0.001, 0.999]</td>\n",
       "      <td>NaN</td>\n",
       "    </tr>\n",
       "    <tr>\n",
       "      <th>3</th>\n",
       "      <td>PURCHASE_TURN_LIMIT</td>\n",
       "      <td>suggest_int</td>\n",
       "      <td>790.000</td>\n",
       "      <td>870.000</td>\n",
       "      <td>False</td>\n",
       "      <td>constexpr short PURCHASE_TURN_LIMIT =</td>\n",
       "      <td>;  // OPTIMIZE [790, 870]</td>\n",
       "      <td>NaN</td>\n",
       "    </tr>\n",
       "    <tr>\n",
       "      <th>4</th>\n",
       "      <td>SUBSCORE3_TIGHT_TURN</td>\n",
       "      <td>suggest_int</td>\n",
       "      <td>0.000</td>\n",
       "      <td>2.000</td>\n",
       "      <td>False</td>\n",
       "      <td>constexpr int SUBSCORE3_TIGHT_TURN =</td>\n",
       "      <td>;     // OPTIMIZE [0, 2]</td>\n",
       "      <td>NaN</td>\n",
       "    </tr>\n",
       "    <tr>\n",
       "      <th>5</th>\n",
       "      <td>ROUGH_HASH</td>\n",
       "      <td>suggest_categorical</td>\n",
       "      <td>NaN</td>\n",
       "      <td>NaN</td>\n",
       "      <td>NaN</td>\n",
       "      <td>constexpr int ROUGH_HASH =</td>\n",
       "      <td>;      // OPTIMIZE {0, 0b00000001, 0b00010001,...</td>\n",
       "      <td>[0, 0b00000001, 0b00010001, 0b00010011, 0b0011...</td>\n",
       "    </tr>\n",
       "  </tbody>\n",
       "</table>\n",
       "</div>"
      ],
      "text/plain": [
       "                   name               method      min      max    log  \\\n",
       "0               K_START        suggest_float    0.020    0.060   True   \n",
       "1                 K_END        suggest_float    0.010    0.050   True   \n",
       "2                   K_H        suggest_float    0.001    0.999  False   \n",
       "3   PURCHASE_TURN_LIMIT          suggest_int  790.000  870.000  False   \n",
       "4  SUBSCORE3_TIGHT_TURN          suggest_int    0.000    2.000  False   \n",
       "5            ROUGH_HASH  suggest_categorical      NaN      NaN    NaN   \n",
       "\n",
       "                                     left  \\\n",
       "0             constexpr double K_START =    \n",
       "1               constexpr double K_END =    \n",
       "2                 constexpr double K_H =    \n",
       "3  constexpr short PURCHASE_TURN_LIMIT =    \n",
       "4   constexpr int SUBSCORE3_TIGHT_TURN =    \n",
       "5             constexpr int ROUGH_HASH =    \n",
       "\n",
       "                                               right  \\\n",
       "0                    ;  // OPTIMIZE [0.02, 0.06] LOG   \n",
       "1                   ;   // OPTIMIZE [0.01, 0.05] LOG   \n",
       "2                  ;      // OPTIMIZE [0.001, 0.999]   \n",
       "3                          ;  // OPTIMIZE [790, 870]   \n",
       "4                           ;     // OPTIMIZE [0, 2]   \n",
       "5  ;      // OPTIMIZE {0, 0b00000001, 0b00010001,...   \n",
       "\n",
       "                                             choices  \n",
       "0                                                NaN  \n",
       "1                                                NaN  \n",
       "2                                                NaN  \n",
       "3                                                NaN  \n",
       "4                                                NaN  \n",
       "5  [0, 0b00000001, 0b00010001, 0b00010011, 0b0011...  "
      ]
     },
     "metadata": {},
     "output_type": "display_data"
    }
   ],
   "source": [
    "# ここでエラー出力は何かおかしいかもしれない\n",
    "\n",
    "\n",
    "# パラメータ抽出\n",
    "with open(FILENAME) as f:\n",
    "    answer = f.read()\n",
    "\n",
    "\n",
    "variables_optimize = []\n",
    "\n",
    "for left, value, right, options in re.findall(r\"^([^/\\n]*=\\s*)(.+?)(\\s*;\\s*//(?:.*\\W)?OPTIMIZE(\\W.*))$\", answer, re.MULTILINE):\n",
    "    name = left.replace(\"=\", \"\").strip().split()[-1]\n",
    "    \n",
    "    searched = re.search(r\".*\\[(?P<min>.*),(?P<max>.*)\\].*\", options)\n",
    "    if searched:\n",
    "        min_value = max_value = None\n",
    "        try:\n",
    "            min_value = eval(searched.group(\"min\"))\n",
    "            max_value = eval(searched.group(\"max\"))\n",
    "            assert min_value <= max_value\n",
    "        except Exception as e:\n",
    "            print(f\"searched={searched}\", file=sys.stderr)\n",
    "            print(e, file=sys.stderr)\n",
    "            continue\n",
    "        log = \"LOG\" in options  # 雑、直したほうが良い\n",
    "        if type(min_value) != type(max_value):\n",
    "            print(f\"searched={searched}\", file=sys.stderr)\n",
    "            print(\"types not matched\", file=sys.stderr)\n",
    "            continue\n",
    "        if isinstance(min_value, int):\n",
    "            method = \"suggest_int\"\n",
    "        elif isinstance(min_value, float):\n",
    "            method = \"suggest_float\"\n",
    "        else:\n",
    "            print(f\"searched={searched}\", file=sys.stderr)\n",
    "            print(f\"unknown type ({type(min_value)})\", file=sys.stderr)\n",
    "            continue\n",
    "        variables_optimize.append({\n",
    "            \"name\": name,\n",
    "            \"method\": method,\n",
    "            \"min\": min_value,\n",
    "            \"max\": max_value,\n",
    "            \"log\": log,\n",
    "            \"left\": left,\n",
    "            \"right\": right,\n",
    "        })\n",
    "    elif searched := re.search(r\".*\\{(?P<choices>.*?)\\}.*\", options):\n",
    "        choices = list(map(lambda x: x.strip(), searched.group(\"choices\").split(\",\")))\n",
    "        variables_optimize.append({\n",
    "            \"name\": name,\n",
    "            \"method\": \"suggest_categorical\",\n",
    "            \"choices\": choices,\n",
    "            \"left\": left,\n",
    "            \"right\": right,\n",
    "        })\n",
    "    else:\n",
    "        print(f\"searched={searched}\", file=sys.stderr)\n",
    "        print(f\"pattern was matched but options are incorrect.\", file=sys.stderr)\n",
    "\n",
    "print(len(variables_optimize), \"variables were found.\")\n",
    "if globals().get(\"pd\"):\n",
    "    display(pd.DataFrame(variables_optimize))\n",
    "else:\n",
    "    pprint(variables_optimize)"
   ]
  },
  {
   "cell_type": "code",
   "execution_count": 9,
   "id": "e6fd3505",
   "metadata": {},
   "outputs": [],
   "source": [
    "def escape(string):  # 正規表現の中でそのまま使いたい文字列をエスケープ\n",
    "    res = !echo '{string}' | sed -e 's/[]\\/$*.^[]/\\\\&/g'\n",
    "    return res[0]\n",
    "\n",
    "def escape_sed(string):  # sed の置換後の文字列用のエスケープ\n",
    "    res = !echo '{string}' | sed -e 's/[\\/&]/\\\\&/g'\n",
    "    return res[0]\n",
    "\n",
    "\n",
    "def objective_with_index(trial, n_internal_parallel):\n",
    "    index_parallel = trial.number % 12  # これ変数にする\n",
    "    print(f\"{index_parallel=}\")\n",
    "    \n",
    "    parameters_changed_filename = f\"{index_parallel}_{FILENAME}\"\n",
    "    #directory_input = \"./in\"  # \"/\" をつけない  # 中のすべてのファイルに対して実行される\n",
    "    \n",
    "    !mkdir {index_parallel}_out 2> /dev/null\n",
    "    !mkdir {index_parallel}_score 2> /dev/null\n",
    "    !rm {index_parallel}_out/*\n",
    "    !rm {index_parallel}_score/*\n",
    "    \n",
    "    # ファイル作成\n",
    "    !cp {FILENAME} {parameters_changed_filename}\n",
    "    sed_options = [f\"-i {parameters_changed_filename}\"]\n",
    "    for variable in variables_optimize:\n",
    "        if variable[\"method\"] == \"suggest_categorical\":\n",
    "            val =  trial.suggest_categorical(variable[\"name\"], variable[\"choices\"])\n",
    "        else:\n",
    "            val = getattr(trial, variable[\"method\"])(variable[\"name\"], variable[\"min\"], variable[\"max\"], log=variable[\"log\"])\n",
    "        left = variable[\"left\"]\n",
    "        right = variable[\"right\"]\n",
    "        sed_options.append(f\"\"\"-e 's/^{escape(left)}.*{escape(right)}$/{escape_sed(left)}{val}{escape_sed(right)}/'\"\"\")\n",
    "    command_sed = f\"sed {' '.join(sed_options)}\"\n",
    "    print(command_sed)\n",
    "    !{command_sed}\n",
    "    \n",
    "    # コンパイル\n",
    "    command_compile = f\"g++ {parameters_changed_filename} -std=gnu++17 -O2 -DONLINE_JUDGE -o {parameters_changed_filename}.out 2> /dev/null\"\n",
    "    print(command_compile)\n",
    "    !{command_compile}\n",
    "    \n",
    "    # 実行・採点コマンド (@ はファイル名)\n",
    "    command_exec = (\n",
    "        f\"./{parameters_changed_filename}.out < {TESTCASE_DIRECTORY}@ >./{index_parallel}_out/@ 2> /dev/null;\"\n",
    "        f\"python3 ../A/tester/judge.py {TESTCASE_DIRECTORY}@ ./{index_parallel}_out/@ > ./{index_parallel}_score/@\"\n",
    "        \n",
    "        #f\"cargo run --release --manifest-path ../tools/Cargo.toml --bin tester {directory_input}/@ $(pwd)/{parameters_changed_filename}.out 2>&1 | grep Score | sed -E s/[^0-9]+// > ./{index_parallel}_score/@;\"\n",
    "        \n",
    "        #f\"./{parameters_changed_filename}.out < {directory_input}/@ > ./{index_parallel}_out/@;\"\n",
    "        #f\"cargo run --release --manifest-path ./tools/Cargo.toml --bin vis {directory_input}/@ ./{index_parallel}_out/@ 2> /dev/null > ./{index_parallel}_score/@;\"\n",
    "    )\n",
    "    \n",
    "    # 並列実行 (sed はパスのディレクトリ部分を消してファイル名にしてる)\n",
    "    !find {TESTCASE_DIRECTORY}/* | sed 's!^.*/!!' | xargs -I@ -P {n_internal_parallel} sh -c '{command_exec}'\n",
    "    \n",
    "    # 集計\n",
    "    file_paths = !find ./{index_parallel}_score/*\n",
    "    sum_score = 0\n",
    "    for file_path in file_paths:  \n",
    "        with open(file_path) as f:\n",
    "            sum_score += int(f.read().split(\":\")[-1])\n",
    "    return sum_score"
   ]
  },
  {
   "cell_type": "code",
   "execution_count": null,
   "id": "2891a3a1",
   "metadata": {
    "scrolled": true
   },
   "outputs": [
    {
     "name": "stderr",
     "output_type": "stream",
     "text": [
      "\u001b[32m[I 2021-09-10 07:33:26,869]\u001b[0m A new study created in RDB with name: study\u001b[0m\n"
     ]
    },
    {
     "name": "stdout",
     "output_type": "stream",
     "text": [
      "index_parallel=1\n",
      "index_parallel=0\n",
      "index_parallel=2\n",
      "index_parallel=3\n"
     ]
    },
    {
     "name": "stderr",
     "output_type": "stream",
     "text": [
      "/home/nagis/anaconda3/lib/python3.8/site-packages/optuna/study/study.py:393: FutureWarning: `n_jobs` argument has been deprecated in v2.7.0. This feature will be removed in v4.0.0. See https://github.com/optuna/optuna/releases/tag/v2.7.0.\n",
      "  warnings.warn(\n"
     ]
    },
    {
     "name": "stdout",
     "output_type": "stream",
     "text": [
      "rm: cannot remove '1_out/*': No such file or directory\n",
      "rm: cannot remove '0_out/*': No such file or directory\n",
      "rm: cannot remove '2_out/*': No such file or directory\n",
      "rm: cannot remove '3_out/*': No such file or directory\n",
      "rm: cannot remove '1_score/*': No such file or directory\n",
      "rm: cannot remove '0_score/*': No such file or directory\n",
      "rm: cannot remove '2_score/*': No such file or directory\n",
      "rm: cannot remove '3_score/*': No such file or directory\n",
      "sed -i 1_main.cpp -e 's/^constexpr double K_START = .*;  \\/\\/ OPTIMIZE \\[0\\.02, 0\\.06\\] LOG$/constexpr double K_START = 0.022495936365830794;  \\/\\/ OPTIMIZE [0.02, 0.06] LOG/' -e 's/^constexpr double K_END = .*;   \\/\\/ OPTIMIZE \\[0\\.01, 0\\.05\\] LOG$/constexpr double K_END = 0.015798434636574876;   \\/\\/ OPTIMIZE [0.01, 0.05] LOG/' -e 's/^constexpr double K_H = .*;      \\/\\/ OPTIMIZE \\[0\\.001, 0\\.999\\]$/constexpr double K_H = 0.2846019186098313;      \\/\\/ OPTIMIZE [0.001, 0.999]/' -e 's/^constexpr short PURCHASE_TURN_LIMIT = .*;  \\/\\/ OPTIMIZE \\[790, 870\\]$/constexpr short PURCHASE_TURN_LIMIT = 838;  \\/\\/ OPTIMIZE [790, 870]/' -e 's/^constexpr int SUBSCORE3_TIGHT_TURN = .*;     \\/\\/ OPTIMIZE \\[0, 2\\]$/constexpr int SUBSCORE3_TIGHT_TURN = 2;     \\/\\/ OPTIMIZE [0, 2]/' -e 's/^constexpr int ROUGH_HASH = .*;      \\/\\/ OPTIMIZE {0, 0b00000001, 0b00010001, 0b00010011, 0b00110011}$/constexpr int ROUGH_HASH = 0b00010011;      \\/\\/ OPTIMIZE {0, 0b00000001, 0b00010001, 0b00010011, 0b00110011}/'\n",
      "sed -i 3_main.cpp -e 's/^constexpr double K_START = .*;  \\/\\/ OPTIMIZE \\[0\\.02, 0\\.06\\] LOG$/constexpr double K_START = 0.033866334674947214;  \\/\\/ OPTIMIZE [0.02, 0.06] LOG/' -e 's/^constexpr double K_END = .*;   \\/\\/ OPTIMIZE \\[0\\.01, 0\\.05\\] LOG$/constexpr double K_END = 0.016612115677483306;   \\/\\/ OPTIMIZE [0.01, 0.05] LOG/' -e 's/^constexpr double K_H = .*;      \\/\\/ OPTIMIZE \\[0\\.001, 0\\.999\\]$/constexpr double K_H = 0.4600196139925108;      \\/\\/ OPTIMIZE [0.001, 0.999]/' -e 's/^constexpr short PURCHASE_TURN_LIMIT = .*;  \\/\\/ OPTIMIZE \\[790, 870\\]$/constexpr short PURCHASE_TURN_LIMIT = 852;  \\/\\/ OPTIMIZE [790, 870]/' -e 's/^constexpr int SUBSCORE3_TIGHT_TURN = .*;     \\/\\/ OPTIMIZE \\[0, 2\\]$/constexpr int SUBSCORE3_TIGHT_TURN = 0;     \\/\\/ OPTIMIZE [0, 2]/' -e 's/^constexpr int ROUGH_HASH = .*;      \\/\\/ OPTIMIZE {0, 0b00000001, 0b00010001, 0b00010011, 0b00110011}$/constexpr int ROUGH_HASH = 0;      \\/\\/ OPTIMIZE {0, 0b00000001, 0b00010001, 0b00010011, 0b00110011}/'\n",
      "sed -i 2_main.cpp -e 's/^constexpr double K_START = .*;  \\/\\/ OPTIMIZE \\[0\\.02, 0\\.06\\] LOG$/constexpr double K_START = 0.02692951895894397;  \\/\\/ OPTIMIZE [0.02, 0.06] LOG/' -e 's/^constexpr double K_END = .*;   \\/\\/ OPTIMIZE \\[0\\.01, 0\\.05\\] LOG$/constexpr double K_END = 0.018670265729852836;   \\/\\/ OPTIMIZE [0.01, 0.05] LOG/' -e 's/^constexpr double K_H = .*;      \\/\\/ OPTIMIZE \\[0\\.001, 0\\.999\\]$/constexpr double K_H = 0.8529498139269086;      \\/\\/ OPTIMIZE [0.001, 0.999]/' -e 's/^constexpr short PURCHASE_TURN_LIMIT = .*;  \\/\\/ OPTIMIZE \\[790, 870\\]$/constexpr short PURCHASE_TURN_LIMIT = 845;  \\/\\/ OPTIMIZE [790, 870]/' -e 's/^constexpr int SUBSCORE3_TIGHT_TURN = .*;     \\/\\/ OPTIMIZE \\[0, 2\\]$/constexpr int SUBSCORE3_TIGHT_TURN = 0;     \\/\\/ OPTIMIZE [0, 2]/' -e 's/^constexpr int ROUGH_HASH = .*;      \\/\\/ OPTIMIZE {0, 0b00000001, 0b00010001, 0b00010011, 0b00110011}$/constexpr int ROUGH_HASH = 0b00010001;      \\/\\/ OPTIMIZE {0, 0b00000001, 0b00010001, 0b00010011, 0b00110011}/'\n",
      "sed -i 0_main.cpp -e 's/^constexpr double K_START = .*;  \\/\\/ OPTIMIZE \\[0\\.02, 0\\.06\\] LOG$/constexpr double K_START = 0.04526394109504011;  \\/\\/ OPTIMIZE [0.02, 0.06] LOG/' -e 's/^constexpr double K_END = .*;   \\/\\/ OPTIMIZE \\[0\\.01, 0\\.05\\] LOG$/constexpr double K_END = 0.02691558856702044;   \\/\\/ OPTIMIZE [0.01, 0.05] LOG/' -e 's/^constexpr double K_H = .*;      \\/\\/ OPTIMIZE \\[0\\.001, 0\\.999\\]$/constexpr double K_H = 0.4180271131768966;      \\/\\/ OPTIMIZE [0.001, 0.999]/' -e 's/^constexpr short PURCHASE_TURN_LIMIT = .*;  \\/\\/ OPTIMIZE \\[790, 870\\]$/constexpr short PURCHASE_TURN_LIMIT = 846;  \\/\\/ OPTIMIZE [790, 870]/' -e 's/^constexpr int SUBSCORE3_TIGHT_TURN = .*;     \\/\\/ OPTIMIZE \\[0, 2\\]$/constexpr int SUBSCORE3_TIGHT_TURN = 2;     \\/\\/ OPTIMIZE [0, 2]/' -e 's/^constexpr int ROUGH_HASH = .*;      \\/\\/ OPTIMIZE {0, 0b00000001, 0b00010001, 0b00010011, 0b00110011}$/constexpr int ROUGH_HASH = 0b00110011;      \\/\\/ OPTIMIZE {0, 0b00000001, 0b00010001, 0b00010011, 0b00110011}/'\n",
      "g++ 1_main.cpp -std=gnu++17 -O2 -DONLINE_JUDGE -o 1_main.cpp.out 2> /dev/null\n",
      "g++ 3_main.cpp -std=gnu++17 -O2 -DONLINE_JUDGE -o 3_main.cpp.out 2> /dev/null\n",
      "g++ 2_main.cpp -std=gnu++17 -O2 -DONLINE_JUDGE -o 2_main.cpp.out 2> /dev/null\n",
      "g++ 0_main.cpp -std=gnu++17 -O2 -DONLINE_JUDGE -o 0_main.cpp.out 2> /dev/null\n"
     ]
    },
    {
     "name": "stderr",
     "output_type": "stream",
     "text": [
      "\u001b[32m[I 2021-09-10 07:37:10,312]\u001b[0m Trial 0 finished with value: 949063732.0 and parameters: {'K_START': 0.04526394109504011, 'K_END': 0.02691558856702044, 'K_H': 0.4180271131768966, 'PURCHASE_TURN_LIMIT': 846, 'SUBSCORE3_TIGHT_TURN': 2, 'ROUGH_HASH': '0b00110011'}. Best is trial 0 with value: 949063732.0.\u001b[0m\n"
     ]
    },
    {
     "name": "stdout",
     "output_type": "stream",
     "text": [
      "Updated! 949063732.0\n",
      "callback ok\n",
      "index_parallel=4\n",
      "rm: cannot remove '4_out/*': No such file or directory\n",
      "rm: cannot remove '4_score/*': No such file or directory\n",
      "sed -i 4_main.cpp -e 's/^constexpr double K_START = .*;  \\/\\/ OPTIMIZE \\[0\\.02, 0\\.06\\] LOG$/constexpr double K_START = 0.02070893357730182;  \\/\\/ OPTIMIZE [0.02, 0.06] LOG/' -e 's/^constexpr double K_END = .*;   \\/\\/ OPTIMIZE \\[0\\.01, 0\\.05\\] LOG$/constexpr double K_END = 0.027091655539374898;   \\/\\/ OPTIMIZE [0.01, 0.05] LOG/' -e 's/^constexpr double K_H = .*;      \\/\\/ OPTIMIZE \\[0\\.001, 0\\.999\\]$/constexpr double K_H = 0.35111829900652547;      \\/\\/ OPTIMIZE [0.001, 0.999]/' -e 's/^constexpr short PURCHASE_TURN_LIMIT = .*;  \\/\\/ OPTIMIZE \\[790, 870\\]$/constexpr short PURCHASE_TURN_LIMIT = 845;  \\/\\/ OPTIMIZE [790, 870]/' -e 's/^constexpr int SUBSCORE3_TIGHT_TURN = .*;     \\/\\/ OPTIMIZE \\[0, 2\\]$/constexpr int SUBSCORE3_TIGHT_TURN = 1;     \\/\\/ OPTIMIZE [0, 2]/' -e 's/^constexpr int ROUGH_HASH = .*;      \\/\\/ OPTIMIZE {0, 0b00000001, 0b00010001, 0b00010011, 0b00110011}$/constexpr int ROUGH_HASH = 0;      \\/\\/ OPTIMIZE {0, 0b00000001, 0b00010001, 0b00010011, 0b00110011}/'\n",
      "g++ 4_main.cpp -std=gnu++17 -O2 -DONLINE_JUDGE -o 4_main.cpp.out 2> /dev/null\n"
     ]
    },
    {
     "name": "stderr",
     "output_type": "stream",
     "text": [
      "\u001b[32m[I 2021-09-10 07:37:22,491]\u001b[0m Trial 1 finished with value: 880448023.0 and parameters: {'K_START': 0.022495936365830794, 'K_END': 0.015798434636574876, 'K_H': 0.2846019186098313, 'PURCHASE_TURN_LIMIT': 838, 'SUBSCORE3_TIGHT_TURN': 2, 'ROUGH_HASH': '0b00010011'}. Best is trial 0 with value: 949063732.0.\u001b[0m\n"
     ]
    },
    {
     "name": "stdout",
     "output_type": "stream",
     "text": [
      "callback ok\n",
      "index_parallel=5\n",
      "rm: cannot remove '5_out/*': No such file or directory\n",
      "rm: cannot remove '5_score/*': No such file or directory\n",
      "sed -i 5_main.cpp -e 's/^constexpr double K_START = .*;  \\/\\/ OPTIMIZE \\[0\\.02, 0\\.06\\] LOG$/constexpr double K_START = 0.023917783544755794;  \\/\\/ OPTIMIZE [0.02, 0.06] LOG/' -e 's/^constexpr double K_END = .*;   \\/\\/ OPTIMIZE \\[0\\.01, 0\\.05\\] LOG$/constexpr double K_END = 0.0137420507522065;   \\/\\/ OPTIMIZE [0.01, 0.05] LOG/' -e 's/^constexpr double K_H = .*;      \\/\\/ OPTIMIZE \\[0\\.001, 0\\.999\\]$/constexpr double K_H = 0.3622447833216012;      \\/\\/ OPTIMIZE [0.001, 0.999]/' -e 's/^constexpr short PURCHASE_TURN_LIMIT = .*;  \\/\\/ OPTIMIZE \\[790, 870\\]$/constexpr short PURCHASE_TURN_LIMIT = 825;  \\/\\/ OPTIMIZE [790, 870]/' -e 's/^constexpr int SUBSCORE3_TIGHT_TURN = .*;     \\/\\/ OPTIMIZE \\[0, 2\\]$/constexpr int SUBSCORE3_TIGHT_TURN = 2;     \\/\\/ OPTIMIZE [0, 2]/' -e 's/^constexpr int ROUGH_HASH = .*;      \\/\\/ OPTIMIZE {0, 0b00000001, 0b00010001, 0b00010011, 0b00110011}$/constexpr int ROUGH_HASH = 0b00010011;      \\/\\/ OPTIMIZE {0, 0b00000001, 0b00010001, 0b00010011, 0b00110011}/'\n",
      "g++ 5_main.cpp -std=gnu++17 -O2 -DONLINE_JUDGE -o 5_main.cpp.out 2> /dev/null\n"
     ]
    },
    {
     "name": "stderr",
     "output_type": "stream",
     "text": [
      "\u001b[32m[I 2021-09-10 07:37:40,724]\u001b[0m Trial 2 finished with value: 911529242.0 and parameters: {'K_START': 0.02692951895894397, 'K_END': 0.018670265729852836, 'K_H': 0.8529498139269086, 'PURCHASE_TURN_LIMIT': 845, 'SUBSCORE3_TIGHT_TURN': 0, 'ROUGH_HASH': '0b00010001'}. Best is trial 0 with value: 949063732.0.\u001b[0m\n"
     ]
    },
    {
     "name": "stdout",
     "output_type": "stream",
     "text": [
      "callback ok\n",
      "index_parallel=6\n",
      "rm: cannot remove '6_out/*': No such file or directory\n",
      "rm: cannot remove '6_score/*': No such file or directory\n",
      "sed -i 6_main.cpp -e 's/^constexpr double K_START = .*;  \\/\\/ OPTIMIZE \\[0\\.02, 0\\.06\\] LOG$/constexpr double K_START = 0.03281919866678202;  \\/\\/ OPTIMIZE [0.02, 0.06] LOG/' -e 's/^constexpr double K_END = .*;   \\/\\/ OPTIMIZE \\[0\\.01, 0\\.05\\] LOG$/constexpr double K_END = 0.011071283827106676;   \\/\\/ OPTIMIZE [0.01, 0.05] LOG/' -e 's/^constexpr double K_H = .*;      \\/\\/ OPTIMIZE \\[0\\.001, 0\\.999\\]$/constexpr double K_H = 0.19991982142029366;      \\/\\/ OPTIMIZE [0.001, 0.999]/' -e 's/^constexpr short PURCHASE_TURN_LIMIT = .*;  \\/\\/ OPTIMIZE \\[790, 870\\]$/constexpr short PURCHASE_TURN_LIMIT = 844;  \\/\\/ OPTIMIZE [790, 870]/' -e 's/^constexpr int SUBSCORE3_TIGHT_TURN = .*;     \\/\\/ OPTIMIZE \\[0, 2\\]$/constexpr int SUBSCORE3_TIGHT_TURN = 0;     \\/\\/ OPTIMIZE [0, 2]/' -e 's/^constexpr int ROUGH_HASH = .*;      \\/\\/ OPTIMIZE {0, 0b00000001, 0b00010001, 0b00010011, 0b00110011}$/constexpr int ROUGH_HASH = 0b00010011;      \\/\\/ OPTIMIZE {0, 0b00000001, 0b00010001, 0b00010011, 0b00110011}/'\n",
      "g++ 6_main.cpp -std=gnu++17 -O2 -DONLINE_JUDGE -o 6_main.cpp.out 2> /dev/null\n"
     ]
    },
    {
     "name": "stderr",
     "output_type": "stream",
     "text": [
      "\u001b[32m[I 2021-09-10 07:38:11,276]\u001b[0m Trial 3 finished with value: 924596109.0 and parameters: {'K_START': 0.033866334674947214, 'K_END': 0.016612115677483306, 'K_H': 0.4600196139925108, 'PURCHASE_TURN_LIMIT': 852, 'SUBSCORE3_TIGHT_TURN': 0, 'ROUGH_HASH': '0'}. Best is trial 0 with value: 949063732.0.\u001b[0m\n"
     ]
    },
    {
     "name": "stdout",
     "output_type": "stream",
     "text": [
      "callback ok\n",
      "index_parallel=7\n",
      "rm: cannot remove '7_out/*': No such file or directory\n",
      "rm: cannot remove '7_score/*': No such file or directory\n",
      "sed -i 7_main.cpp -e 's/^constexpr double K_START = .*;  \\/\\/ OPTIMIZE \\[0\\.02, 0\\.06\\] LOG$/constexpr double K_START = 0.03030814816457211;  \\/\\/ OPTIMIZE [0.02, 0.06] LOG/' -e 's/^constexpr double K_END = .*;   \\/\\/ OPTIMIZE \\[0\\.01, 0\\.05\\] LOG$/constexpr double K_END = 0.0450573984188926;   \\/\\/ OPTIMIZE [0.01, 0.05] LOG/' -e 's/^constexpr double K_H = .*;      \\/\\/ OPTIMIZE \\[0\\.001, 0\\.999\\]$/constexpr double K_H = 0.28959194752643697;      \\/\\/ OPTIMIZE [0.001, 0.999]/' -e 's/^constexpr short PURCHASE_TURN_LIMIT = .*;  \\/\\/ OPTIMIZE \\[790, 870\\]$/constexpr short PURCHASE_TURN_LIMIT = 859;  \\/\\/ OPTIMIZE [790, 870]/' -e 's/^constexpr int SUBSCORE3_TIGHT_TURN = .*;     \\/\\/ OPTIMIZE \\[0, 2\\]$/constexpr int SUBSCORE3_TIGHT_TURN = 1;     \\/\\/ OPTIMIZE [0, 2]/' -e 's/^constexpr int ROUGH_HASH = .*;      \\/\\/ OPTIMIZE {0, 0b00000001, 0b00010001, 0b00010011, 0b00110011}$/constexpr int ROUGH_HASH = 0;      \\/\\/ OPTIMIZE {0, 0b00000001, 0b00010001, 0b00010011, 0b00110011}/'\n",
      "g++ 7_main.cpp -std=gnu++17 -O2 -DONLINE_JUDGE -o 7_main.cpp.out 2> /dev/null\n"
     ]
    },
    {
     "name": "stderr",
     "output_type": "stream",
     "text": [
      "\u001b[32m[I 2021-09-10 07:41:11,616]\u001b[0m Trial 5 finished with value: 853266798.0 and parameters: {'K_START': 0.023917783544755794, 'K_END': 0.0137420507522065, 'K_H': 0.3622447833216012, 'PURCHASE_TURN_LIMIT': 825, 'SUBSCORE3_TIGHT_TURN': 2, 'ROUGH_HASH': '0b00010011'}. Best is trial 0 with value: 949063732.0.\u001b[0m\n"
     ]
    },
    {
     "name": "stdout",
     "output_type": "stream",
     "text": [
      "callback ok\n",
      "index_parallel=8\n",
      "rm: cannot remove '8_out/*': No such file or directory\n",
      "rm: cannot remove '8_score/*': No such file or directory\n",
      "sed -i 8_main.cpp -e 's/^constexpr double K_START = .*;  \\/\\/ OPTIMIZE \\[0\\.02, 0\\.06\\] LOG$/constexpr double K_START = 0.02132514257214662;  \\/\\/ OPTIMIZE [0.02, 0.06] LOG/' -e 's/^constexpr double K_END = .*;   \\/\\/ OPTIMIZE \\[0\\.01, 0\\.05\\] LOG$/constexpr double K_END = 0.012700234186480138;   \\/\\/ OPTIMIZE [0.01, 0.05] LOG/' -e 's/^constexpr double K_H = .*;      \\/\\/ OPTIMIZE \\[0\\.001, 0\\.999\\]$/constexpr double K_H = 0.8418585216288428;      \\/\\/ OPTIMIZE [0.001, 0.999]/' -e 's/^constexpr short PURCHASE_TURN_LIMIT = .*;  \\/\\/ OPTIMIZE \\[790, 870\\]$/constexpr short PURCHASE_TURN_LIMIT = 822;  \\/\\/ OPTIMIZE [790, 870]/' -e 's/^constexpr int SUBSCORE3_TIGHT_TURN = .*;     \\/\\/ OPTIMIZE \\[0, 2\\]$/constexpr int SUBSCORE3_TIGHT_TURN = 2;     \\/\\/ OPTIMIZE [0, 2]/' -e 's/^constexpr int ROUGH_HASH = .*;      \\/\\/ OPTIMIZE {0, 0b00000001, 0b00010001, 0b00010011, 0b00110011}$/constexpr int ROUGH_HASH = 0b00110011;      \\/\\/ OPTIMIZE {0, 0b00000001, 0b00010001, 0b00010011, 0b00110011}/'\n",
      "g++ 8_main.cpp -std=gnu++17 -O2 -DONLINE_JUDGE -o 8_main.cpp.out 2> /dev/null\n"
     ]
    },
    {
     "name": "stderr",
     "output_type": "stream",
     "text": [
      "\u001b[32m[I 2021-09-10 07:41:42,032]\u001b[0m Trial 6 finished with value: 904155510.0 and parameters: {'K_START': 0.03281919866678202, 'K_END': 0.011071283827106676, 'K_H': 0.19991982142029366, 'PURCHASE_TURN_LIMIT': 844, 'SUBSCORE3_TIGHT_TURN': 0, 'ROUGH_HASH': '0b00010011'}. Best is trial 0 with value: 949063732.0.\u001b[0m\n"
     ]
    },
    {
     "name": "stdout",
     "output_type": "stream",
     "text": [
      "callback ok\n",
      "index_parallel=9\n",
      "rm: cannot remove '9_out/*': No such file or directory\n",
      "rm: cannot remove '9_score/*': No such file or directory\n",
      "sed -i 9_main.cpp -e 's/^constexpr double K_START = .*;  \\/\\/ OPTIMIZE \\[0\\.02, 0\\.06\\] LOG$/constexpr double K_START = 0.05016721750475958;  \\/\\/ OPTIMIZE [0.02, 0.06] LOG/' -e 's/^constexpr double K_END = .*;   \\/\\/ OPTIMIZE \\[0\\.01, 0\\.05\\] LOG$/constexpr double K_END = 0.013568287410611408;   \\/\\/ OPTIMIZE [0.01, 0.05] LOG/' -e 's/^constexpr double K_H = .*;      \\/\\/ OPTIMIZE \\[0\\.001, 0\\.999\\]$/constexpr double K_H = 0.4903005342792874;      \\/\\/ OPTIMIZE [0.001, 0.999]/' -e 's/^constexpr short PURCHASE_TURN_LIMIT = .*;  \\/\\/ OPTIMIZE \\[790, 870\\]$/constexpr short PURCHASE_TURN_LIMIT = 800;  \\/\\/ OPTIMIZE [790, 870]/' -e 's/^constexpr int SUBSCORE3_TIGHT_TURN = .*;     \\/\\/ OPTIMIZE \\[0, 2\\]$/constexpr int SUBSCORE3_TIGHT_TURN = 2;     \\/\\/ OPTIMIZE [0, 2]/' -e 's/^constexpr int ROUGH_HASH = .*;      \\/\\/ OPTIMIZE {0, 0b00000001, 0b00010001, 0b00010011, 0b00110011}$/constexpr int ROUGH_HASH = 0b00010011;      \\/\\/ OPTIMIZE {0, 0b00000001, 0b00010001, 0b00010011, 0b00110011}/'\n",
      "g++ 9_main.cpp -std=gnu++17 -O2 -DONLINE_JUDGE -o 9_main.cpp.out 2> /dev/null\n"
     ]
    },
    {
     "name": "stderr",
     "output_type": "stream",
     "text": [
      "\u001b[32m[I 2021-09-10 07:41:47,326]\u001b[0m Trial 4 finished with value: 948929342.0 and parameters: {'K_START': 0.02070893357730182, 'K_END': 0.027091655539374898, 'K_H': 0.35111829900652547, 'PURCHASE_TURN_LIMIT': 845, 'SUBSCORE3_TIGHT_TURN': 1, 'ROUGH_HASH': '0'}. Best is trial 0 with value: 949063732.0.\u001b[0m\n"
     ]
    },
    {
     "name": "stdout",
     "output_type": "stream",
     "text": [
      "callback ok\n",
      "index_parallel=10\n",
      "rm: cannot remove '10_out/*': No such file or directory\n",
      "rm: cannot remove '10_score/*': No such file or directory\n",
      "sed -i 10_main.cpp -e 's/^constexpr double K_START = .*;  \\/\\/ OPTIMIZE \\[0\\.02, 0\\.06\\] LOG$/constexpr double K_START = 0.041658517746958994;  \\/\\/ OPTIMIZE [0.02, 0.06] LOG/' -e 's/^constexpr double K_END = .*;   \\/\\/ OPTIMIZE \\[0\\.01, 0\\.05\\] LOG$/constexpr double K_END = 0.021101684235332475;   \\/\\/ OPTIMIZE [0.01, 0.05] LOG/' -e 's/^constexpr double K_H = .*;      \\/\\/ OPTIMIZE \\[0\\.001, 0\\.999\\]$/constexpr double K_H = 0.9595423542392845;      \\/\\/ OPTIMIZE [0.001, 0.999]/' -e 's/^constexpr short PURCHASE_TURN_LIMIT = .*;  \\/\\/ OPTIMIZE \\[790, 870\\]$/constexpr short PURCHASE_TURN_LIMIT = 791;  \\/\\/ OPTIMIZE [790, 870]/' -e 's/^constexpr int SUBSCORE3_TIGHT_TURN = .*;     \\/\\/ OPTIMIZE \\[0, 2\\]$/constexpr int SUBSCORE3_TIGHT_TURN = 0;     \\/\\/ OPTIMIZE [0, 2]/' -e 's/^constexpr int ROUGH_HASH = .*;      \\/\\/ OPTIMIZE {0, 0b00000001, 0b00010001, 0b00010011, 0b00110011}$/constexpr int ROUGH_HASH = 0b00010011;      \\/\\/ OPTIMIZE {0, 0b00000001, 0b00010001, 0b00010011, 0b00110011}/'\n",
      "g++ 10_main.cpp -std=gnu++17 -O2 -DONLINE_JUDGE -o 10_main.cpp.out 2> /dev/null\n"
     ]
    },
    {
     "name": "stderr",
     "output_type": "stream",
     "text": [
      "\u001b[32m[I 2021-09-10 07:43:03,156]\u001b[0m Trial 7 finished with value: 984177095.0 and parameters: {'K_START': 0.03030814816457211, 'K_END': 0.0450573984188926, 'K_H': 0.28959194752643697, 'PURCHASE_TURN_LIMIT': 859, 'SUBSCORE3_TIGHT_TURN': 1, 'ROUGH_HASH': '0'}. Best is trial 7 with value: 984177095.0.\u001b[0m\n"
     ]
    },
    {
     "name": "stdout",
     "output_type": "stream",
     "text": [
      "Updated! 984177095.0\n",
      "callback ok\n",
      "index_parallel=11\n",
      "rm: cannot remove '11_out/*': No such file or directory\n",
      "rm: cannot remove '11_score/*': No such file or directory\n",
      "sed -i 11_main.cpp -e 's/^constexpr double K_START = .*;  \\/\\/ OPTIMIZE \\[0\\.02, 0\\.06\\] LOG$/constexpr double K_START = 0.058074479219457076;  \\/\\/ OPTIMIZE [0.02, 0.06] LOG/' -e 's/^constexpr double K_END = .*;   \\/\\/ OPTIMIZE \\[0\\.01, 0\\.05\\] LOG$/constexpr double K_END = 0.022220308267472982;   \\/\\/ OPTIMIZE [0.01, 0.05] LOG/' -e 's/^constexpr double K_H = .*;      \\/\\/ OPTIMIZE \\[0\\.001, 0\\.999\\]$/constexpr double K_H = 0.04858557428607375;      \\/\\/ OPTIMIZE [0.001, 0.999]/' -e 's/^constexpr short PURCHASE_TURN_LIMIT = .*;  \\/\\/ OPTIMIZE \\[790, 870\\]$/constexpr short PURCHASE_TURN_LIMIT = 848;  \\/\\/ OPTIMIZE [790, 870]/' -e 's/^constexpr int SUBSCORE3_TIGHT_TURN = .*;     \\/\\/ OPTIMIZE \\[0, 2\\]$/constexpr int SUBSCORE3_TIGHT_TURN = 1;     \\/\\/ OPTIMIZE [0, 2]/' -e 's/^constexpr int ROUGH_HASH = .*;      \\/\\/ OPTIMIZE {0, 0b00000001, 0b00010001, 0b00010011, 0b00110011}$/constexpr int ROUGH_HASH = 0b00010011;      \\/\\/ OPTIMIZE {0, 0b00000001, 0b00010001, 0b00010011, 0b00110011}/'\n",
      "g++ 11_main.cpp -std=gnu++17 -O2 -DONLINE_JUDGE -o 11_main.cpp.out 2> /dev/null\n"
     ]
    },
    {
     "name": "stderr",
     "output_type": "stream",
     "text": [
      "\u001b[32m[I 2021-09-10 07:44:41,406]\u001b[0m Trial 8 finished with value: 799162425.0 and parameters: {'K_START': 0.02132514257214662, 'K_END': 0.012700234186480138, 'K_H': 0.8418585216288428, 'PURCHASE_TURN_LIMIT': 822, 'SUBSCORE3_TIGHT_TURN': 2, 'ROUGH_HASH': '0b00110011'}. Best is trial 7 with value: 984177095.0.\u001b[0m\n"
     ]
    },
    {
     "name": "stdout",
     "output_type": "stream",
     "text": [
      "callback ok\n",
      "index_parallel=0\n",
      "sed -i 0_main.cpp -e 's/^constexpr double K_START = .*;  \\/\\/ OPTIMIZE \\[0\\.02, 0\\.06\\] LOG$/constexpr double K_START = 0.02733367466571329;  \\/\\/ OPTIMIZE [0.02, 0.06] LOG/' -e 's/^constexpr double K_END = .*;   \\/\\/ OPTIMIZE \\[0\\.01, 0\\.05\\] LOG$/constexpr double K_END = 0.012690374160873149;   \\/\\/ OPTIMIZE [0.01, 0.05] LOG/' -e 's/^constexpr double K_H = .*;      \\/\\/ OPTIMIZE \\[0\\.001, 0\\.999\\]$/constexpr double K_H = 0.5877813168220086;      \\/\\/ OPTIMIZE [0.001, 0.999]/' -e 's/^constexpr short PURCHASE_TURN_LIMIT = .*;  \\/\\/ OPTIMIZE \\[790, 870\\]$/constexpr short PURCHASE_TURN_LIMIT = 841;  \\/\\/ OPTIMIZE [790, 870]/' -e 's/^constexpr int SUBSCORE3_TIGHT_TURN = .*;     \\/\\/ OPTIMIZE \\[0, 2\\]$/constexpr int SUBSCORE3_TIGHT_TURN = 0;     \\/\\/ OPTIMIZE [0, 2]/' -e 's/^constexpr int ROUGH_HASH = .*;      \\/\\/ OPTIMIZE {0, 0b00000001, 0b00010001, 0b00010011, 0b00110011}$/constexpr int ROUGH_HASH = 0b00010011;      \\/\\/ OPTIMIZE {0, 0b00000001, 0b00010001, 0b00010011, 0b00110011}/'\n",
      "g++ 0_main.cpp -std=gnu++17 -O2 -DONLINE_JUDGE -o 0_main.cpp.out 2> /dev/null\n"
     ]
    },
    {
     "name": "stderr",
     "output_type": "stream",
     "text": [
      "\u001b[32m[I 2021-09-10 07:45:30,673]\u001b[0m Trial 9 finished with value: 872336214.0 and parameters: {'K_START': 0.05016721750475958, 'K_END': 0.013568287410611408, 'K_H': 0.4903005342792874, 'PURCHASE_TURN_LIMIT': 800, 'SUBSCORE3_TIGHT_TURN': 2, 'ROUGH_HASH': '0b00010011'}. Best is trial 7 with value: 984177095.0.\u001b[0m\n"
     ]
    },
    {
     "name": "stdout",
     "output_type": "stream",
     "text": [
      "callback ok\n",
      "index_parallel=1\n",
      "sed -i 1_main.cpp -e 's/^constexpr double K_START = .*;  \\/\\/ OPTIMIZE \\[0\\.02, 0\\.06\\] LOG$/constexpr double K_START = 0.04180189202123433;  \\/\\/ OPTIMIZE [0.02, 0.06] LOG/' -e 's/^constexpr double K_END = .*;   \\/\\/ OPTIMIZE \\[0\\.01, 0\\.05\\] LOG$/constexpr double K_END = 0.04785855235489811;   \\/\\/ OPTIMIZE [0.01, 0.05] LOG/' -e 's/^constexpr double K_H = .*;      \\/\\/ OPTIMIZE \\[0\\.001, 0\\.999\\]$/constexpr double K_H = 0.0055895435334670784;      \\/\\/ OPTIMIZE [0.001, 0.999]/' -e 's/^constexpr short PURCHASE_TURN_LIMIT = .*;  \\/\\/ OPTIMIZE \\[790, 870\\]$/constexpr short PURCHASE_TURN_LIMIT = 869;  \\/\\/ OPTIMIZE [790, 870]/' -e 's/^constexpr int SUBSCORE3_TIGHT_TURN = .*;     \\/\\/ OPTIMIZE \\[0, 2\\]$/constexpr int SUBSCORE3_TIGHT_TURN = 1;     \\/\\/ OPTIMIZE [0, 2]/' -e 's/^constexpr int ROUGH_HASH = .*;      \\/\\/ OPTIMIZE {0, 0b00000001, 0b00010001, 0b00010011, 0b00110011}$/constexpr int ROUGH_HASH = 0b00000001;      \\/\\/ OPTIMIZE {0, 0b00000001, 0b00010001, 0b00010011, 0b00110011}/'\n",
      "g++ 1_main.cpp -std=gnu++17 -O2 -DONLINE_JUDGE -o 1_main.cpp.out 2> /dev/null\n"
     ]
    },
    {
     "name": "stderr",
     "output_type": "stream",
     "text": [
      "\u001b[32m[I 2021-09-10 07:45:32,227]\u001b[0m Trial 10 finished with value: 877747002.0 and parameters: {'K_START': 0.041658517746958994, 'K_END': 0.021101684235332475, 'K_H': 0.9595423542392845, 'PURCHASE_TURN_LIMIT': 791, 'SUBSCORE3_TIGHT_TURN': 0, 'ROUGH_HASH': '0b00010011'}. Best is trial 7 with value: 984177095.0.\u001b[0m\n"
     ]
    },
    {
     "name": "stdout",
     "output_type": "stream",
     "text": [
      "callback ok\n",
      "index_parallel=2\n",
      "sed -i 2_main.cpp -e 's/^constexpr double K_START = .*;  \\/\\/ OPTIMIZE \\[0\\.02, 0\\.06\\] LOG$/constexpr double K_START = 0.059828271330966194;  \\/\\/ OPTIMIZE [0.02, 0.06] LOG/' -e 's/^constexpr double K_END = .*;   \\/\\/ OPTIMIZE \\[0\\.01, 0\\.05\\] LOG$/constexpr double K_END = 0.049488418714021556;   \\/\\/ OPTIMIZE [0.01, 0.05] LOG/' -e 's/^constexpr double K_H = .*;      \\/\\/ OPTIMIZE \\[0\\.001, 0\\.999\\]$/constexpr double K_H = 0.09762200504988733;      \\/\\/ OPTIMIZE [0.001, 0.999]/' -e 's/^constexpr short PURCHASE_TURN_LIMIT = .*;  \\/\\/ OPTIMIZE \\[790, 870\\]$/constexpr short PURCHASE_TURN_LIMIT = 869;  \\/\\/ OPTIMIZE [790, 870]/' -e 's/^constexpr int SUBSCORE3_TIGHT_TURN = .*;     \\/\\/ OPTIMIZE \\[0, 2\\]$/constexpr int SUBSCORE3_TIGHT_TURN = 1;     \\/\\/ OPTIMIZE [0, 2]/' -e 's/^constexpr int ROUGH_HASH = .*;      \\/\\/ OPTIMIZE {0, 0b00000001, 0b00010001, 0b00010011, 0b00110011}$/constexpr int ROUGH_HASH = 0b00000001;      \\/\\/ OPTIMIZE {0, 0b00000001, 0b00010001, 0b00010011, 0b00110011}/'\n",
      "g++ 2_main.cpp -std=gnu++17 -O2 -DONLINE_JUDGE -o 2_main.cpp.out 2> /dev/null\n"
     ]
    },
    {
     "name": "stderr",
     "output_type": "stream",
     "text": [
      "\u001b[32m[I 2021-09-10 07:47:10,901]\u001b[0m Trial 11 finished with value: 982341651.0 and parameters: {'K_START': 0.058074479219457076, 'K_END': 0.022220308267472982, 'K_H': 0.04858557428607375, 'PURCHASE_TURN_LIMIT': 848, 'SUBSCORE3_TIGHT_TURN': 1, 'ROUGH_HASH': '0b00010011'}. Best is trial 7 with value: 984177095.0.\u001b[0m\n"
     ]
    },
    {
     "name": "stdout",
     "output_type": "stream",
     "text": [
      "callback ok\n",
      "index_parallel=3\n",
      "sed -i 3_main.cpp -e 's/^constexpr double K_START = .*;  \\/\\/ OPTIMIZE \\[0\\.02, 0\\.06\\] LOG$/constexpr double K_START = 0.05867287357455461;  \\/\\/ OPTIMIZE [0.02, 0.06] LOG/' -e 's/^constexpr double K_END = .*;   \\/\\/ OPTIMIZE \\[0\\.01, 0\\.05\\] LOG$/constexpr double K_END = 0.04419381710641848;   \\/\\/ OPTIMIZE [0.01, 0.05] LOG/' -e 's/^constexpr double K_H = .*;      \\/\\/ OPTIMIZE \\[0\\.001, 0\\.999\\]$/constexpr double K_H = 0.026116342782326406;      \\/\\/ OPTIMIZE [0.001, 0.999]/' -e 's/^constexpr short PURCHASE_TURN_LIMIT = .*;  \\/\\/ OPTIMIZE \\[790, 870\\]$/constexpr short PURCHASE_TURN_LIMIT = 870;  \\/\\/ OPTIMIZE [790, 870]/' -e 's/^constexpr int SUBSCORE3_TIGHT_TURN = .*;     \\/\\/ OPTIMIZE \\[0, 2\\]$/constexpr int SUBSCORE3_TIGHT_TURN = 1;     \\/\\/ OPTIMIZE [0, 2]/' -e 's/^constexpr int ROUGH_HASH = .*;      \\/\\/ OPTIMIZE {0, 0b00000001, 0b00010001, 0b00010011, 0b00110011}$/constexpr int ROUGH_HASH = 0b00000001;      \\/\\/ OPTIMIZE {0, 0b00000001, 0b00010001, 0b00010011, 0b00110011}/'\n",
      "g++ 3_main.cpp -std=gnu++17 -O2 -DONLINE_JUDGE -o 3_main.cpp.out 2> /dev/null\n"
     ]
    },
    {
     "name": "stderr",
     "output_type": "stream",
     "text": [
      "\u001b[32m[I 2021-09-10 07:48:32,900]\u001b[0m Trial 12 finished with value: 859262661.0 and parameters: {'K_START': 0.02733367466571329, 'K_END': 0.012690374160873149, 'K_H': 0.5877813168220086, 'PURCHASE_TURN_LIMIT': 841, 'SUBSCORE3_TIGHT_TURN': 0, 'ROUGH_HASH': '0b00010011'}. Best is trial 7 with value: 984177095.0.\u001b[0m\n"
     ]
    },
    {
     "name": "stdout",
     "output_type": "stream",
     "text": [
      "callback ok\n",
      "index_parallel=4\n",
      "sed -i 4_main.cpp -e 's/^constexpr double K_START = .*;  \\/\\/ OPTIMIZE \\[0\\.02, 0\\.06\\] LOG$/constexpr double K_START = 0.05844808619535189;  \\/\\/ OPTIMIZE [0.02, 0.06] LOG/' -e 's/^constexpr double K_END = .*;   \\/\\/ OPTIMIZE \\[0\\.01, 0\\.05\\] LOG$/constexpr double K_END = 0.047337138683633116;   \\/\\/ OPTIMIZE [0.01, 0.05] LOG/' -e 's/^constexpr double K_H = .*;      \\/\\/ OPTIMIZE \\[0\\.001, 0\\.999\\]$/constexpr double K_H = 0.005397980962623214;      \\/\\/ OPTIMIZE [0.001, 0.999]/' -e 's/^constexpr short PURCHASE_TURN_LIMIT = .*;  \\/\\/ OPTIMIZE \\[790, 870\\]$/constexpr short PURCHASE_TURN_LIMIT = 870;  \\/\\/ OPTIMIZE [790, 870]/' -e 's/^constexpr int SUBSCORE3_TIGHT_TURN = .*;     \\/\\/ OPTIMIZE \\[0, 2\\]$/constexpr int SUBSCORE3_TIGHT_TURN = 1;     \\/\\/ OPTIMIZE [0, 2]/' -e 's/^constexpr int ROUGH_HASH = .*;      \\/\\/ OPTIMIZE {0, 0b00000001, 0b00010001, 0b00010011, 0b00110011}$/constexpr int ROUGH_HASH = 0b00000001;      \\/\\/ OPTIMIZE {0, 0b00000001, 0b00010001, 0b00010011, 0b00110011}/'\n",
      "g++ 4_main.cpp -std=gnu++17 -O2 -DONLINE_JUDGE -o 4_main.cpp.out 2> /dev/null\n"
     ]
    },
    {
     "name": "stderr",
     "output_type": "stream",
     "text": [
      "\u001b[32m[I 2021-09-10 07:50:12,226]\u001b[0m Trial 14 finished with value: 976478072.0 and parameters: {'K_START': 0.059828271330966194, 'K_END': 0.049488418714021556, 'K_H': 0.09762200504988733, 'PURCHASE_TURN_LIMIT': 869, 'SUBSCORE3_TIGHT_TURN': 1, 'ROUGH_HASH': '0b00000001'}. Best is trial 7 with value: 984177095.0.\u001b[0m\n"
     ]
    },
    {
     "name": "stdout",
     "output_type": "stream",
     "text": [
      "callback ok\n",
      "index_parallel=5\n",
      "sed -i 5_main.cpp -e 's/^constexpr double K_START = .*;  \\/\\/ OPTIMIZE \\[0\\.02, 0\\.06\\] LOG$/constexpr double K_START = 0.04013391606523093;  \\/\\/ OPTIMIZE [0.02, 0.06] LOG/' -e 's/^constexpr double K_END = .*;   \\/\\/ OPTIMIZE \\[0\\.01, 0\\.05\\] LOG$/constexpr double K_END = 0.03563603690962389;   \\/\\/ OPTIMIZE [0.01, 0.05] LOG/' -e 's/^constexpr double K_H = .*;      \\/\\/ OPTIMIZE \\[0\\.001, 0\\.999\\]$/constexpr double K_H = 0.0202894322667204;      \\/\\/ OPTIMIZE [0.001, 0.999]/' -e 's/^constexpr short PURCHASE_TURN_LIMIT = .*;  \\/\\/ OPTIMIZE \\[790, 870\\]$/constexpr short PURCHASE_TURN_LIMIT = 862;  \\/\\/ OPTIMIZE [790, 870]/' -e 's/^constexpr int SUBSCORE3_TIGHT_TURN = .*;     \\/\\/ OPTIMIZE \\[0, 2\\]$/constexpr int SUBSCORE3_TIGHT_TURN = 1;     \\/\\/ OPTIMIZE [0, 2]/' -e 's/^constexpr int ROUGH_HASH = .*;      \\/\\/ OPTIMIZE {0, 0b00000001, 0b00010001, 0b00010011, 0b00110011}$/constexpr int ROUGH_HASH = 0;      \\/\\/ OPTIMIZE {0, 0b00000001, 0b00010001, 0b00010011, 0b00110011}/'\n",
      "g++ 5_main.cpp -std=gnu++17 -O2 -DONLINE_JUDGE -o 5_main.cpp.out 2> /dev/null\n"
     ]
    },
    {
     "name": "stderr",
     "output_type": "stream",
     "text": [
      "\u001b[32m[I 2021-09-10 07:50:13,941]\u001b[0m Trial 13 finished with value: 973890994.0 and parameters: {'K_START': 0.04180189202123433, 'K_END': 0.04785855235489811, 'K_H': 0.0055895435334670784, 'PURCHASE_TURN_LIMIT': 869, 'SUBSCORE3_TIGHT_TURN': 1, 'ROUGH_HASH': '0b00000001'}. Best is trial 7 with value: 984177095.0.\u001b[0m\n"
     ]
    },
    {
     "name": "stdout",
     "output_type": "stream",
     "text": [
      "callback ok\n",
      "index_parallel=6\n",
      "sed -i 6_main.cpp -e 's/^constexpr double K_START = .*;  \\/\\/ OPTIMIZE \\[0\\.02, 0\\.06\\] LOG$/constexpr double K_START = 0.0296997719468645;  \\/\\/ OPTIMIZE [0.02, 0.06] LOG/' -e 's/^constexpr double K_END = .*;   \\/\\/ OPTIMIZE \\[0\\.01, 0\\.05\\] LOG$/constexpr double K_END = 0.03615021930937072;   \\/\\/ OPTIMIZE [0.01, 0.05] LOG/' -e 's/^constexpr double K_H = .*;      \\/\\/ OPTIMIZE \\[0\\.001, 0\\.999\\]$/constexpr double K_H = 0.1464769209615175;      \\/\\/ OPTIMIZE [0.001, 0.999]/' -e 's/^constexpr short PURCHASE_TURN_LIMIT = .*;  \\/\\/ OPTIMIZE \\[790, 870\\]$/constexpr short PURCHASE_TURN_LIMIT = 859;  \\/\\/ OPTIMIZE [790, 870]/' -e 's/^constexpr int SUBSCORE3_TIGHT_TURN = .*;     \\/\\/ OPTIMIZE \\[0, 2\\]$/constexpr int SUBSCORE3_TIGHT_TURN = 1;     \\/\\/ OPTIMIZE [0, 2]/' -e 's/^constexpr int ROUGH_HASH = .*;      \\/\\/ OPTIMIZE {0, 0b00000001, 0b00010001, 0b00010011, 0b00110011}$/constexpr int ROUGH_HASH = 0;      \\/\\/ OPTIMIZE {0, 0b00000001, 0b00010001, 0b00010011, 0b00110011}/'\n",
      "g++ 6_main.cpp -std=gnu++17 -O2 -DONLINE_JUDGE -o 6_main.cpp.out 2> /dev/null\n"
     ]
    },
    {
     "name": "stderr",
     "output_type": "stream",
     "text": [
      "\u001b[32m[I 2021-09-10 07:51:51,760]\u001b[0m Trial 15 finished with value: 974658651.0 and parameters: {'K_START': 0.05867287357455461, 'K_END': 0.04419381710641848, 'K_H': 0.026116342782326406, 'PURCHASE_TURN_LIMIT': 870, 'SUBSCORE3_TIGHT_TURN': 1, 'ROUGH_HASH': '0b00000001'}. Best is trial 7 with value: 984177095.0.\u001b[0m\n"
     ]
    },
    {
     "name": "stdout",
     "output_type": "stream",
     "text": [
      "callback ok\n",
      "index_parallel=7\n",
      "sed -i 7_main.cpp -e 's/^constexpr double K_START = .*;  \\/\\/ OPTIMIZE \\[0\\.02, 0\\.06\\] LOG$/constexpr double K_START = 0.03222023260514894;  \\/\\/ OPTIMIZE [0.02, 0.06] LOG/' -e 's/^constexpr double K_END = .*;   \\/\\/ OPTIMIZE \\[0\\.01, 0\\.05\\] LOG$/constexpr double K_END = 0.03497378593935894;   \\/\\/ OPTIMIZE [0.01, 0.05] LOG/' -e 's/^constexpr double K_H = .*;      \\/\\/ OPTIMIZE \\[0\\.001, 0\\.999\\]$/constexpr double K_H = 0.16015887163439096;      \\/\\/ OPTIMIZE [0.001, 0.999]/' -e 's/^constexpr short PURCHASE_TURN_LIMIT = .*;  \\/\\/ OPTIMIZE \\[790, 870\\]$/constexpr short PURCHASE_TURN_LIMIT = 858;  \\/\\/ OPTIMIZE [790, 870]/' -e 's/^constexpr int SUBSCORE3_TIGHT_TURN = .*;     \\/\\/ OPTIMIZE \\[0, 2\\]$/constexpr int SUBSCORE3_TIGHT_TURN = 1;     \\/\\/ OPTIMIZE [0, 2]/' -e 's/^constexpr int ROUGH_HASH = .*;      \\/\\/ OPTIMIZE {0, 0b00000001, 0b00010001, 0b00010011, 0b00110011}$/constexpr int ROUGH_HASH = 0;      \\/\\/ OPTIMIZE {0, 0b00000001, 0b00010001, 0b00010011, 0b00110011}/'\n",
      "g++ 7_main.cpp -std=gnu++17 -O2 -DONLINE_JUDGE -o 7_main.cpp.out 2> /dev/null\n"
     ]
    },
    {
     "name": "stderr",
     "output_type": "stream",
     "text": [
      "\u001b[32m[I 2021-09-10 07:53:12,270]\u001b[0m Trial 16 finished with value: 976408191.0 and parameters: {'K_START': 0.05844808619535189, 'K_END': 0.047337138683633116, 'K_H': 0.005397980962623214, 'PURCHASE_TURN_LIMIT': 870, 'SUBSCORE3_TIGHT_TURN': 1, 'ROUGH_HASH': '0b00000001'}. Best is trial 7 with value: 984177095.0.\u001b[0m\n"
     ]
    },
    {
     "name": "stdout",
     "output_type": "stream",
     "text": [
      "callback ok\n",
      "index_parallel=8\n",
      "sed -i 8_main.cpp -e 's/^constexpr double K_START = .*;  \\/\\/ OPTIMIZE \\[0\\.02, 0\\.06\\] LOG$/constexpr double K_START = 0.029727077473909225;  \\/\\/ OPTIMIZE [0.02, 0.06] LOG/' -e 's/^constexpr double K_END = .*;   \\/\\/ OPTIMIZE \\[0\\.01, 0\\.05\\] LOG$/constexpr double K_END = 0.03474214784514745;   \\/\\/ OPTIMIZE [0.01, 0.05] LOG/' -e 's/^constexpr double K_H = .*;      \\/\\/ OPTIMIZE \\[0\\.001, 0\\.999\\]$/constexpr double K_H = 0.1819862031781785;      \\/\\/ OPTIMIZE [0.001, 0.999]/' -e 's/^constexpr short PURCHASE_TURN_LIMIT = .*;  \\/\\/ OPTIMIZE \\[790, 870\\]$/constexpr short PURCHASE_TURN_LIMIT = 859;  \\/\\/ OPTIMIZE [790, 870]/' -e 's/^constexpr int SUBSCORE3_TIGHT_TURN = .*;     \\/\\/ OPTIMIZE \\[0, 2\\]$/constexpr int SUBSCORE3_TIGHT_TURN = 1;     \\/\\/ OPTIMIZE [0, 2]/' -e 's/^constexpr int ROUGH_HASH = .*;      \\/\\/ OPTIMIZE {0, 0b00000001, 0b00010001, 0b00010011, 0b00110011}$/constexpr int ROUGH_HASH = 0;      \\/\\/ OPTIMIZE {0, 0b00000001, 0b00010001, 0b00010011, 0b00110011}/'\n",
      "g++ 8_main.cpp -std=gnu++17 -O2 -DONLINE_JUDGE -o 8_main.cpp.out 2> /dev/null\n"
     ]
    },
    {
     "name": "stderr",
     "output_type": "stream",
     "text": [
      "\u001b[32m[I 2021-09-10 07:55:01,149]\u001b[0m Trial 18 finished with value: 972713650.0 and parameters: {'K_START': 0.0296997719468645, 'K_END': 0.03615021930937072, 'K_H': 0.1464769209615175, 'PURCHASE_TURN_LIMIT': 859, 'SUBSCORE3_TIGHT_TURN': 1, 'ROUGH_HASH': '0'}. Best is trial 7 with value: 984177095.0.\u001b[0m\n"
     ]
    },
    {
     "name": "stdout",
     "output_type": "stream",
     "text": [
      "callback ok\n",
      "index_parallel=9\n",
      "sed -i 9_main.cpp -e 's/^constexpr double K_START = .*;  \\/\\/ OPTIMIZE \\[0\\.02, 0\\.06\\] LOG$/constexpr double K_START = 0.038658084704726974;  \\/\\/ OPTIMIZE [0.02, 0.06] LOG/' -e 's/^constexpr double K_END = .*;   \\/\\/ OPTIMIZE \\[0\\.01, 0\\.05\\] LOG$/constexpr double K_END = 0.03152896667682744;   \\/\\/ OPTIMIZE [0.01, 0.05] LOG/' -e 's/^constexpr double K_H = .*;      \\/\\/ OPTIMIZE \\[0\\.001, 0\\.999\\]$/constexpr double K_H = 0.2502638935794552;      \\/\\/ OPTIMIZE [0.001, 0.999]/' -e 's/^constexpr short PURCHASE_TURN_LIMIT = .*;  \\/\\/ OPTIMIZE \\[790, 870\\]$/constexpr short PURCHASE_TURN_LIMIT = 859;  \\/\\/ OPTIMIZE [790, 870]/' -e 's/^constexpr int SUBSCORE3_TIGHT_TURN = .*;     \\/\\/ OPTIMIZE \\[0, 2\\]$/constexpr int SUBSCORE3_TIGHT_TURN = 1;     \\/\\/ OPTIMIZE [0, 2]/' -e 's/^constexpr int ROUGH_HASH = .*;      \\/\\/ OPTIMIZE {0, 0b00000001, 0b00010001, 0b00010011, 0b00110011}$/constexpr int ROUGH_HASH = 0b00010001;      \\/\\/ OPTIMIZE {0, 0b00000001, 0b00010001, 0b00010011, 0b00110011}/'\n",
      "g++ 9_main.cpp -std=gnu++17 -O2 -DONLINE_JUDGE -o 9_main.cpp.out 2> /dev/null\n"
     ]
    },
    {
     "name": "stderr",
     "output_type": "stream",
     "text": [
      "\u001b[32m[I 2021-09-10 07:55:02,661]\u001b[0m Trial 17 finished with value: 979815827.0 and parameters: {'K_START': 0.04013391606523093, 'K_END': 0.03563603690962389, 'K_H': 0.0202894322667204, 'PURCHASE_TURN_LIMIT': 862, 'SUBSCORE3_TIGHT_TURN': 1, 'ROUGH_HASH': '0'}. Best is trial 7 with value: 984177095.0.\u001b[0m\n"
     ]
    },
    {
     "name": "stdout",
     "output_type": "stream",
     "text": [
      "callback ok\n",
      "index_parallel=10\n",
      "sed -i 10_main.cpp -e 's/^constexpr double K_START = .*;  \\/\\/ OPTIMIZE \\[0\\.02, 0\\.06\\] LOG$/constexpr double K_START = 0.037640184642594096;  \\/\\/ OPTIMIZE [0.02, 0.06] LOG/' -e 's/^constexpr double K_END = .*;   \\/\\/ OPTIMIZE \\[0\\.01, 0\\.05\\] LOG$/constexpr double K_END = 0.026051365591373724;   \\/\\/ OPTIMIZE [0.01, 0.05] LOG/' -e 's/^constexpr double K_H = .*;      \\/\\/ OPTIMIZE \\[0\\.001, 0\\.999\\]$/constexpr double K_H = 0.26982506639688875;      \\/\\/ OPTIMIZE [0.001, 0.999]/' -e 's/^constexpr short PURCHASE_TURN_LIMIT = .*;  \\/\\/ OPTIMIZE \\[790, 870\\]$/constexpr short PURCHASE_TURN_LIMIT = 815;  \\/\\/ OPTIMIZE [790, 870]/' -e 's/^constexpr int SUBSCORE3_TIGHT_TURN = .*;     \\/\\/ OPTIMIZE \\[0, 2\\]$/constexpr int SUBSCORE3_TIGHT_TURN = 1;     \\/\\/ OPTIMIZE [0, 2]/' -e 's/^constexpr int ROUGH_HASH = .*;      \\/\\/ OPTIMIZE {0, 0b00000001, 0b00010001, 0b00010011, 0b00110011}$/constexpr int ROUGH_HASH = 0b00010001;      \\/\\/ OPTIMIZE {0, 0b00000001, 0b00010001, 0b00010011, 0b00110011}/'\n",
      "g++ 10_main.cpp -std=gnu++17 -O2 -DONLINE_JUDGE -o 10_main.cpp.out 2> /dev/null\n"
     ]
    },
    {
     "name": "stderr",
     "output_type": "stream",
     "text": [
      "\u001b[32m[I 2021-09-10 07:56:39,234]\u001b[0m Trial 19 finished with value: 978206096.0 and parameters: {'K_START': 0.03222023260514894, 'K_END': 0.03497378593935894, 'K_H': 0.16015887163439096, 'PURCHASE_TURN_LIMIT': 858, 'SUBSCORE3_TIGHT_TURN': 1, 'ROUGH_HASH': '0'}. Best is trial 7 with value: 984177095.0.\u001b[0m\n"
     ]
    },
    {
     "name": "stdout",
     "output_type": "stream",
     "text": [
      "callback ok\n",
      "index_parallel=11\n",
      "sed -i 11_main.cpp -e 's/^constexpr double K_START = .*;  \\/\\/ OPTIMIZE \\[0\\.02, 0\\.06\\] LOG$/constexpr double K_START = 0.04950436407319281;  \\/\\/ OPTIMIZE [0.02, 0.06] LOG/' -e 's/^constexpr double K_END = .*;   \\/\\/ OPTIMIZE \\[0\\.01, 0\\.05\\] LOG$/constexpr double K_END = 0.026128167973095015;   \\/\\/ OPTIMIZE [0.01, 0.05] LOG/' -e 's/^constexpr double K_H = .*;      \\/\\/ OPTIMIZE \\[0\\.001, 0\\.999\\]$/constexpr double K_H = 0.5948173561943918;      \\/\\/ OPTIMIZE [0.001, 0.999]/' -e 's/^constexpr short PURCHASE_TURN_LIMIT = .*;  \\/\\/ OPTIMIZE \\[790, 870\\]$/constexpr short PURCHASE_TURN_LIMIT = 830;  \\/\\/ OPTIMIZE [790, 870]/' -e 's/^constexpr int SUBSCORE3_TIGHT_TURN = .*;     \\/\\/ OPTIMIZE \\[0, 2\\]$/constexpr int SUBSCORE3_TIGHT_TURN = 1;     \\/\\/ OPTIMIZE [0, 2]/' -e 's/^constexpr int ROUGH_HASH = .*;      \\/\\/ OPTIMIZE {0, 0b00000001, 0b00010001, 0b00010011, 0b00110011}$/constexpr int ROUGH_HASH = 0b00010001;      \\/\\/ OPTIMIZE {0, 0b00000001, 0b00010001, 0b00010011, 0b00110011}/'\n",
      "g++ 11_main.cpp -std=gnu++17 -O2 -DONLINE_JUDGE -o 11_main.cpp.out 2> /dev/null\n"
     ]
    },
    {
     "name": "stderr",
     "output_type": "stream",
     "text": [
      "\u001b[32m[I 2021-09-10 07:58:00,382]\u001b[0m Trial 20 finished with value: 971811689.0 and parameters: {'K_START': 0.029727077473909225, 'K_END': 0.03474214784514745, 'K_H': 0.1819862031781785, 'PURCHASE_TURN_LIMIT': 859, 'SUBSCORE3_TIGHT_TURN': 1, 'ROUGH_HASH': '0'}. Best is trial 7 with value: 984177095.0.\u001b[0m\n"
     ]
    },
    {
     "name": "stdout",
     "output_type": "stream",
     "text": [
      "callback ok\n",
      "index_parallel=0\n",
      "sed -i 0_main.cpp -e 's/^constexpr double K_START = .*;  \\/\\/ OPTIMIZE \\[0\\.02, 0\\.06\\] LOG$/constexpr double K_START = 0.03761092761678018;  \\/\\/ OPTIMIZE [0.02, 0.06] LOG/' -e 's/^constexpr double K_END = .*;   \\/\\/ OPTIMIZE \\[0\\.01, 0\\.05\\] LOG$/constexpr double K_END = 0.027041334659886906;   \\/\\/ OPTIMIZE [0.01, 0.05] LOG/' -e 's/^constexpr double K_H = .*;      \\/\\/ OPTIMIZE \\[0\\.001, 0\\.999\\]$/constexpr double K_H = 0.6226049512576731;      \\/\\/ OPTIMIZE [0.001, 0.999]/' -e 's/^constexpr short PURCHASE_TURN_LIMIT = .*;  \\/\\/ OPTIMIZE \\[790, 870\\]$/constexpr short PURCHASE_TURN_LIMIT = 854;  \\/\\/ OPTIMIZE [790, 870]/' -e 's/^constexpr int SUBSCORE3_TIGHT_TURN = .*;     \\/\\/ OPTIMIZE \\[0, 2\\]$/constexpr int SUBSCORE3_TIGHT_TURN = 1;     \\/\\/ OPTIMIZE [0, 2]/' -e 's/^constexpr int ROUGH_HASH = .*;      \\/\\/ OPTIMIZE {0, 0b00000001, 0b00010001, 0b00010011, 0b00110011}$/constexpr int ROUGH_HASH = 0b00010001;      \\/\\/ OPTIMIZE {0, 0b00000001, 0b00010001, 0b00010011, 0b00110011}/'\n",
      "g++ 0_main.cpp -std=gnu++17 -O2 -DONLINE_JUDGE -o 0_main.cpp.out 2> /dev/null\n"
     ]
    },
    {
     "name": "stderr",
     "output_type": "stream",
     "text": [
      "\u001b[32m[I 2021-09-10 07:59:13,411]\u001b[0m Trial 22 finished with value: 958052687.0 and parameters: {'K_START': 0.037640184642594096, 'K_END': 0.026051365591373724, 'K_H': 0.26982506639688875, 'PURCHASE_TURN_LIMIT': 815, 'SUBSCORE3_TIGHT_TURN': 1, 'ROUGH_HASH': '0b00010001'}. Best is trial 7 with value: 984177095.0.\u001b[0m\n"
     ]
    },
    {
     "name": "stdout",
     "output_type": "stream",
     "text": [
      "callback ok\n",
      "index_parallel=1\n",
      "sed -i 1_main.cpp -e 's/^constexpr double K_START = .*;  \\/\\/ OPTIMIZE \\[0\\.02, 0\\.06\\] LOG$/constexpr double K_START = 0.05017599821554826;  \\/\\/ OPTIMIZE [0.02, 0.06] LOG/' -e 's/^constexpr double K_END = .*;   \\/\\/ OPTIMIZE \\[0\\.01, 0\\.05\\] LOG$/constexpr double K_END = 0.037583583567932316;   \\/\\/ OPTIMIZE [0.01, 0.05] LOG/' -e 's/^constexpr double K_H = .*;      \\/\\/ OPTIMIZE \\[0\\.001, 0\\.999\\]$/constexpr double K_H = 0.635471284096013;      \\/\\/ OPTIMIZE [0.001, 0.999]/' -e 's/^constexpr short PURCHASE_TURN_LIMIT = .*;  \\/\\/ OPTIMIZE \\[790, 870\\]$/constexpr short PURCHASE_TURN_LIMIT = 833;  \\/\\/ OPTIMIZE [790, 870]/' -e 's/^constexpr int SUBSCORE3_TIGHT_TURN = .*;     \\/\\/ OPTIMIZE \\[0, 2\\]$/constexpr int SUBSCORE3_TIGHT_TURN = 1;     \\/\\/ OPTIMIZE [0, 2]/' -e 's/^constexpr int ROUGH_HASH = .*;      \\/\\/ OPTIMIZE {0, 0b00000001, 0b00010001, 0b00010011, 0b00110011}$/constexpr int ROUGH_HASH = 0;      \\/\\/ OPTIMIZE {0, 0b00000001, 0b00010001, 0b00010011, 0b00110011}/'\n",
      "g++ 1_main.cpp -std=gnu++17 -O2 -DONLINE_JUDGE -o 1_main.cpp.out 2> /dev/null\n"
     ]
    },
    {
     "name": "stderr",
     "output_type": "stream",
     "text": [
      "\u001b[32m[I 2021-09-10 07:59:23,132]\u001b[0m Trial 21 finished with value: 971381691.0 and parameters: {'K_START': 0.038658084704726974, 'K_END': 0.03152896667682744, 'K_H': 0.2502638935794552, 'PURCHASE_TURN_LIMIT': 859, 'SUBSCORE3_TIGHT_TURN': 1, 'ROUGH_HASH': '0b00010001'}. Best is trial 7 with value: 984177095.0.\u001b[0m\n"
     ]
    },
    {
     "name": "stdout",
     "output_type": "stream",
     "text": [
      "callback ok\n",
      "index_parallel=2\n",
      "sed -i 2_main.cpp -e 's/^constexpr double K_START = .*;  \\/\\/ OPTIMIZE \\[0\\.02, 0\\.06\\] LOG$/constexpr double K_START = 0.049164756673025445;  \\/\\/ OPTIMIZE [0.02, 0.06] LOG/' -e 's/^constexpr double K_END = .*;   \\/\\/ OPTIMIZE \\[0\\.01, 0\\.05\\] LOG$/constexpr double K_END = 0.04057718748121006;   \\/\\/ OPTIMIZE [0.01, 0.05] LOG/' -e 's/^constexpr double K_H = .*;      \\/\\/ OPTIMIZE \\[0\\.001, 0\\.999\\]$/constexpr double K_H = 0.0949652122519512;      \\/\\/ OPTIMIZE [0.001, 0.999]/' -e 's/^constexpr short PURCHASE_TURN_LIMIT = .*;  \\/\\/ OPTIMIZE \\[790, 870\\]$/constexpr short PURCHASE_TURN_LIMIT = 852;  \\/\\/ OPTIMIZE [790, 870]/' -e 's/^constexpr int SUBSCORE3_TIGHT_TURN = .*;     \\/\\/ OPTIMIZE \\[0, 2\\]$/constexpr int SUBSCORE3_TIGHT_TURN = 1;     \\/\\/ OPTIMIZE [0, 2]/' -e 's/^constexpr int ROUGH_HASH = .*;      \\/\\/ OPTIMIZE {0, 0b00000001, 0b00010001, 0b00010011, 0b00110011}$/constexpr int ROUGH_HASH = 0;      \\/\\/ OPTIMIZE {0, 0b00000001, 0b00010001, 0b00010011, 0b00110011}/'\n",
      "g++ 2_main.cpp -std=gnu++17 -O2 -DONLINE_JUDGE -o 2_main.cpp.out 2> /dev/null\n"
     ]
    },
    {
     "name": "stderr",
     "output_type": "stream",
     "text": [
      "\u001b[32m[I 2021-09-10 08:00:51,037]\u001b[0m Trial 23 finished with value: 963342663.0 and parameters: {'K_START': 0.04950436407319281, 'K_END': 0.026128167973095015, 'K_H': 0.5948173561943918, 'PURCHASE_TURN_LIMIT': 830, 'SUBSCORE3_TIGHT_TURN': 1, 'ROUGH_HASH': '0b00010001'}. Best is trial 7 with value: 984177095.0.\u001b[0m\n"
     ]
    },
    {
     "name": "stdout",
     "output_type": "stream",
     "text": [
      "callback ok\n",
      "index_parallel=3\n",
      "sed -i 3_main.cpp -e 's/^constexpr double K_START = .*;  \\/\\/ OPTIMIZE \\[0\\.02, 0\\.06\\] LOG$/constexpr double K_START = 0.05157898243644002;  \\/\\/ OPTIMIZE [0.02, 0.06] LOG/' -e 's/^constexpr double K_END = .*;   \\/\\/ OPTIMIZE \\[0\\.01, 0\\.05\\] LOG$/constexpr double K_END = 0.039779328772963446;   \\/\\/ OPTIMIZE [0.01, 0.05] LOG/' -e 's/^constexpr double K_H = .*;      \\/\\/ OPTIMIZE \\[0\\.001, 0\\.999\\]$/constexpr double K_H = 0.10280099774944629;      \\/\\/ OPTIMIZE [0.001, 0.999]/' -e 's/^constexpr short PURCHASE_TURN_LIMIT = .*;  \\/\\/ OPTIMIZE \\[790, 870\\]$/constexpr short PURCHASE_TURN_LIMIT = 851;  \\/\\/ OPTIMIZE [790, 870]/' -e 's/^constexpr int SUBSCORE3_TIGHT_TURN = .*;     \\/\\/ OPTIMIZE \\[0, 2\\]$/constexpr int SUBSCORE3_TIGHT_TURN = 1;     \\/\\/ OPTIMIZE [0, 2]/' -e 's/^constexpr int ROUGH_HASH = .*;      \\/\\/ OPTIMIZE {0, 0b00000001, 0b00010001, 0b00010011, 0b00110011}$/constexpr int ROUGH_HASH = 0;      \\/\\/ OPTIMIZE {0, 0b00000001, 0b00010001, 0b00010011, 0b00110011}/'\n",
      "g++ 3_main.cpp -std=gnu++17 -O2 -DONLINE_JUDGE -o 3_main.cpp.out 2> /dev/null\n"
     ]
    },
    {
     "name": "stderr",
     "output_type": "stream",
     "text": [
      "\u001b[32m[I 2021-09-10 08:02:20,989]\u001b[0m Trial 24 finished with value: 958517058.0 and parameters: {'K_START': 0.03761092761678018, 'K_END': 0.027041334659886906, 'K_H': 0.6226049512576731, 'PURCHASE_TURN_LIMIT': 854, 'SUBSCORE3_TIGHT_TURN': 1, 'ROUGH_HASH': '0b00010001'}. Best is trial 7 with value: 984177095.0.\u001b[0m\n"
     ]
    },
    {
     "name": "stdout",
     "output_type": "stream",
     "text": [
      "callback ok\n",
      "index_parallel=4\n",
      "sed -i 4_main.cpp -e 's/^constexpr double K_START = .*;  \\/\\/ OPTIMIZE \\[0\\.02, 0\\.06\\] LOG$/constexpr double K_START = 0.0528540435162518;  \\/\\/ OPTIMIZE [0.02, 0.06] LOG/' -e 's/^constexpr double K_END = .*;   \\/\\/ OPTIMIZE \\[0\\.01, 0\\.05\\] LOG$/constexpr double K_END = 0.04068915506093383;   \\/\\/ OPTIMIZE [0.01, 0.05] LOG/' -e 's/^constexpr double K_H = .*;      \\/\\/ OPTIMIZE \\[0\\.001, 0\\.999\\]$/constexpr double K_H = 0.09260635998002045;      \\/\\/ OPTIMIZE [0.001, 0.999]/' -e 's/^constexpr short PURCHASE_TURN_LIMIT = .*;  \\/\\/ OPTIMIZE \\[790, 870\\]$/constexpr short PURCHASE_TURN_LIMIT = 835;  \\/\\/ OPTIMIZE [790, 870]/' -e 's/^constexpr int SUBSCORE3_TIGHT_TURN = .*;     \\/\\/ OPTIMIZE \\[0, 2\\]$/constexpr int SUBSCORE3_TIGHT_TURN = 1;     \\/\\/ OPTIMIZE [0, 2]/' -e 's/^constexpr int ROUGH_HASH = .*;      \\/\\/ OPTIMIZE {0, 0b00000001, 0b00010001, 0b00010011, 0b00110011}$/constexpr int ROUGH_HASH = 0;      \\/\\/ OPTIMIZE {0, 0b00000001, 0b00010001, 0b00010011, 0b00110011}/'\n",
      "g++ 4_main.cpp -std=gnu++17 -O2 -DONLINE_JUDGE -o 4_main.cpp.out 2> /dev/null\n"
     ]
    },
    {
     "name": "stderr",
     "output_type": "stream",
     "text": [
      "\u001b[32m[I 2021-09-10 08:03:51,892]\u001b[0m Trial 25 finished with value: 992673639.0 and parameters: {'K_START': 0.05017599821554826, 'K_END': 0.037583583567932316, 'K_H': 0.635471284096013, 'PURCHASE_TURN_LIMIT': 833, 'SUBSCORE3_TIGHT_TURN': 1, 'ROUGH_HASH': '0'}. Best is trial 25 with value: 992673639.0.\u001b[0m\n"
     ]
    },
    {
     "name": "stdout",
     "output_type": "stream",
     "text": [
      "Updated! 992673639.0\n",
      "callback ok\n",
      "index_parallel=5\n",
      "sed -i 5_main.cpp -e 's/^constexpr double K_START = .*;  \\/\\/ OPTIMIZE \\[0\\.02, 0\\.06\\] LOG$/constexpr double K_START = 0.05252912606645907;  \\/\\/ OPTIMIZE [0.02, 0.06] LOG/' -e 's/^constexpr double K_END = .*;   \\/\\/ OPTIMIZE \\[0\\.01, 0\\.05\\] LOG$/constexpr double K_END = 0.039800064459256886;   \\/\\/ OPTIMIZE [0.01, 0.05] LOG/' -e 's/^constexpr double K_H = .*;      \\/\\/ OPTIMIZE \\[0\\.001, 0\\.999\\]$/constexpr double K_H = 0.7069859358502452;      \\/\\/ OPTIMIZE [0.001, 0.999]/' -e 's/^constexpr short PURCHASE_TURN_LIMIT = .*;  \\/\\/ OPTIMIZE \\[790, 870\\]$/constexpr short PURCHASE_TURN_LIMIT = 834;  \\/\\/ OPTIMIZE [790, 870]/' -e 's/^constexpr int SUBSCORE3_TIGHT_TURN = .*;     \\/\\/ OPTIMIZE \\[0, 2\\]$/constexpr int SUBSCORE3_TIGHT_TURN = 0;     \\/\\/ OPTIMIZE [0, 2]/' -e 's/^constexpr int ROUGH_HASH = .*;      \\/\\/ OPTIMIZE {0, 0b00000001, 0b00010001, 0b00010011, 0b00110011}$/constexpr int ROUGH_HASH = 0;      \\/\\/ OPTIMIZE {0, 0b00000001, 0b00010001, 0b00010011, 0b00110011}/'\n",
      "g++ 5_main.cpp -std=gnu++17 -O2 -DONLINE_JUDGE -o 5_main.cpp.out 2> /dev/null\n"
     ]
    },
    {
     "name": "stderr",
     "output_type": "stream",
     "text": [
      "\u001b[32m[I 2021-09-10 08:04:12,878]\u001b[0m Trial 26 finished with value: 995780238.0 and parameters: {'K_START': 0.049164756673025445, 'K_END': 0.04057718748121006, 'K_H': 0.0949652122519512, 'PURCHASE_TURN_LIMIT': 852, 'SUBSCORE3_TIGHT_TURN': 1, 'ROUGH_HASH': '0'}. Best is trial 26 with value: 995780238.0.\u001b[0m\n"
     ]
    },
    {
     "name": "stdout",
     "output_type": "stream",
     "text": [
      "Updated! 995780238.0\n",
      "callback ok\n",
      "index_parallel=6\n",
      "sed -i 6_main.cpp -e 's/^constexpr double K_START = .*;  \\/\\/ OPTIMIZE \\[0\\.02, 0\\.06\\] LOG$/constexpr double K_START = 0.05117765872505775;  \\/\\/ OPTIMIZE [0.02, 0.06] LOG/' -e 's/^constexpr double K_END = .*;   \\/\\/ OPTIMIZE \\[0\\.01, 0\\.05\\] LOG$/constexpr double K_END = 0.04126959754483319;   \\/\\/ OPTIMIZE [0.01, 0.05] LOG/' -e 's/^constexpr double K_H = .*;      \\/\\/ OPTIMIZE \\[0\\.001, 0\\.999\\]$/constexpr double K_H = 0.6859966732675891;      \\/\\/ OPTIMIZE [0.001, 0.999]/' -e 's/^constexpr short PURCHASE_TURN_LIMIT = .*;  \\/\\/ OPTIMIZE \\[790, 870\\]$/constexpr short PURCHASE_TURN_LIMIT = 833;  \\/\\/ OPTIMIZE [790, 870]/' -e 's/^constexpr int SUBSCORE3_TIGHT_TURN = .*;     \\/\\/ OPTIMIZE \\[0, 2\\]$/constexpr int SUBSCORE3_TIGHT_TURN = 2;     \\/\\/ OPTIMIZE [0, 2]/' -e 's/^constexpr int ROUGH_HASH = .*;      \\/\\/ OPTIMIZE {0, 0b00000001, 0b00010001, 0b00010011, 0b00110011}$/constexpr int ROUGH_HASH = 0;      \\/\\/ OPTIMIZE {0, 0b00000001, 0b00010001, 0b00010011, 0b00110011}/'\n",
      "g++ 6_main.cpp -std=gnu++17 -O2 -DONLINE_JUDGE -o 6_main.cpp.out 2> /dev/null\n"
     ]
    },
    {
     "name": "stderr",
     "output_type": "stream",
     "text": [
      "\u001b[32m[I 2021-09-10 08:05:36,822]\u001b[0m Trial 27 finished with value: 994955896.0 and parameters: {'K_START': 0.05157898243644002, 'K_END': 0.039779328772963446, 'K_H': 0.10280099774944629, 'PURCHASE_TURN_LIMIT': 851, 'SUBSCORE3_TIGHT_TURN': 1, 'ROUGH_HASH': '0'}. Best is trial 26 with value: 995780238.0.\u001b[0m\n"
     ]
    },
    {
     "name": "stdout",
     "output_type": "stream",
     "text": [
      "callback ok\n",
      "index_parallel=7\n",
      "sed -i 7_main.cpp -e 's/^constexpr double K_START = .*;  \\/\\/ OPTIMIZE \\[0\\.02, 0\\.06\\] LOG$/constexpr double K_START = 0.051057975886682566;  \\/\\/ OPTIMIZE [0.02, 0.06] LOG/' -e 's/^constexpr double K_END = .*;   \\/\\/ OPTIMIZE \\[0\\.01, 0\\.05\\] LOG$/constexpr double K_END = 0.04001165562696463;   \\/\\/ OPTIMIZE [0.01, 0.05] LOG/' -e 's/^constexpr double K_H = .*;      \\/\\/ OPTIMIZE \\[0\\.001, 0\\.999\\]$/constexpr double K_H = 0.7017425429891802;      \\/\\/ OPTIMIZE [0.001, 0.999]/' -e 's/^constexpr short PURCHASE_TURN_LIMIT = .*;  \\/\\/ OPTIMIZE \\[790, 870\\]$/constexpr short PURCHASE_TURN_LIMIT = 837;  \\/\\/ OPTIMIZE [790, 870]/' -e 's/^constexpr int SUBSCORE3_TIGHT_TURN = .*;     \\/\\/ OPTIMIZE \\[0, 2\\]$/constexpr int SUBSCORE3_TIGHT_TURN = 0;     \\/\\/ OPTIMIZE [0, 2]/' -e 's/^constexpr int ROUGH_HASH = .*;      \\/\\/ OPTIMIZE {0, 0b00000001, 0b00010001, 0b00010011, 0b00110011}$/constexpr int ROUGH_HASH = 0;      \\/\\/ OPTIMIZE {0, 0b00000001, 0b00010001, 0b00010011, 0b00110011}/'\n",
      "g++ 7_main.cpp -std=gnu++17 -O2 -DONLINE_JUDGE -o 7_main.cpp.out 2> /dev/null\n"
     ]
    },
    {
     "name": "stderr",
     "output_type": "stream",
     "text": [
      "\u001b[32m[I 2021-09-10 08:07:01,141]\u001b[0m Trial 28 finished with value: 998751721.0 and parameters: {'K_START': 0.0528540435162518, 'K_END': 0.04068915506093383, 'K_H': 0.09260635998002045, 'PURCHASE_TURN_LIMIT': 835, 'SUBSCORE3_TIGHT_TURN': 1, 'ROUGH_HASH': '0'}. Best is trial 28 with value: 998751721.0.\u001b[0m\n"
     ]
    },
    {
     "name": "stdout",
     "output_type": "stream",
     "text": [
      "Updated! 998751721.0\n",
      "callback ok\n",
      "index_parallel=8\n",
      "sed -i 8_main.cpp -e 's/^constexpr double K_START = .*;  \\/\\/ OPTIMIZE \\[0\\.02, 0\\.06\\] LOG$/constexpr double K_START = 0.046982723008858175;  \\/\\/ OPTIMIZE [0.02, 0.06] LOG/' -e 's/^constexpr double K_END = .*;   \\/\\/ OPTIMIZE \\[0\\.01, 0\\.05\\] LOG$/constexpr double K_END = 0.041153470959985464;   \\/\\/ OPTIMIZE [0.01, 0.05] LOG/' -e 's/^constexpr double K_H = .*;      \\/\\/ OPTIMIZE \\[0\\.001, 0\\.999\\]$/constexpr double K_H = 0.09948654633469621;      \\/\\/ OPTIMIZE [0.001, 0.999]/' -e 's/^constexpr short PURCHASE_TURN_LIMIT = .*;  \\/\\/ OPTIMIZE \\[790, 870\\]$/constexpr short PURCHASE_TURN_LIMIT = 836;  \\/\\/ OPTIMIZE [790, 870]/' -e 's/^constexpr int SUBSCORE3_TIGHT_TURN = .*;     \\/\\/ OPTIMIZE \\[0, 2\\]$/constexpr int SUBSCORE3_TIGHT_TURN = 2;     \\/\\/ OPTIMIZE [0, 2]/' -e 's/^constexpr int ROUGH_HASH = .*;      \\/\\/ OPTIMIZE {0, 0b00000001, 0b00010001, 0b00010011, 0b00110011}$/constexpr int ROUGH_HASH = 0b00110011;      \\/\\/ OPTIMIZE {0, 0b00000001, 0b00010001, 0b00010011, 0b00110011}/'\n",
      "g++ 8_main.cpp -std=gnu++17 -O2 -DONLINE_JUDGE -o 8_main.cpp.out 2> /dev/null\n"
     ]
    },
    {
     "name": "stderr",
     "output_type": "stream",
     "text": [
      "\u001b[32m[I 2021-09-10 08:08:34,527]\u001b[0m Trial 29 finished with value: 1000208017.0 and parameters: {'K_START': 0.05252912606645907, 'K_END': 0.039800064459256886, 'K_H': 0.7069859358502452, 'PURCHASE_TURN_LIMIT': 834, 'SUBSCORE3_TIGHT_TURN': 0, 'ROUGH_HASH': '0'}. Best is trial 29 with value: 1000208017.0.\u001b[0m\n"
     ]
    },
    {
     "name": "stdout",
     "output_type": "stream",
     "text": [
      "Updated! 1000208017.0\n",
      "callback ok\n",
      "index_parallel=9\n",
      "sed -i 9_main.cpp -e 's/^constexpr double K_START = .*;  \\/\\/ OPTIMIZE \\[0\\.02, 0\\.06\\] LOG$/constexpr double K_START = 0.047060763833275766;  \\/\\/ OPTIMIZE [0.02, 0.06] LOG/' -e 's/^constexpr double K_END = .*;   \\/\\/ OPTIMIZE \\[0\\.01, 0\\.05\\] LOG$/constexpr double K_END = 0.0312157598585046;   \\/\\/ OPTIMIZE [0.01, 0.05] LOG/' -e 's/^constexpr double K_H = .*;      \\/\\/ OPTIMIZE \\[0\\.001, 0\\.999\\]$/constexpr double K_H = 0.7083123368201971;      \\/\\/ OPTIMIZE [0.001, 0.999]/' -e 's/^constexpr short PURCHASE_TURN_LIMIT = .*;  \\/\\/ OPTIMIZE \\[790, 870\\]$/constexpr short PURCHASE_TURN_LIMIT = 813;  \\/\\/ OPTIMIZE [790, 870]/' -e 's/^constexpr int SUBSCORE3_TIGHT_TURN = .*;     \\/\\/ OPTIMIZE \\[0, 2\\]$/constexpr int SUBSCORE3_TIGHT_TURN = 0;     \\/\\/ OPTIMIZE [0, 2]/' -e 's/^constexpr int ROUGH_HASH = .*;      \\/\\/ OPTIMIZE {0, 0b00000001, 0b00010001, 0b00010011, 0b00110011}$/constexpr int ROUGH_HASH = 0b00110011;      \\/\\/ OPTIMIZE {0, 0b00000001, 0b00010001, 0b00010011, 0b00110011}/'\n",
      "g++ 9_main.cpp -std=gnu++17 -O2 -DONLINE_JUDGE -o 9_main.cpp.out 2> /dev/null\n"
     ]
    },
    {
     "name": "stderr",
     "output_type": "stream",
     "text": [
      "\u001b[32m[I 2021-09-10 08:08:55,313]\u001b[0m Trial 30 finished with value: 987165130.0 and parameters: {'K_START': 0.05117765872505775, 'K_END': 0.04126959754483319, 'K_H': 0.6859966732675891, 'PURCHASE_TURN_LIMIT': 833, 'SUBSCORE3_TIGHT_TURN': 2, 'ROUGH_HASH': '0'}. Best is trial 29 with value: 1000208017.0.\u001b[0m\n"
     ]
    },
    {
     "name": "stdout",
     "output_type": "stream",
     "text": [
      "callback ok\n",
      "index_parallel=10\n",
      "sed -i 10_main.cpp -e 's/^constexpr double K_START = .*;  \\/\\/ OPTIMIZE \\[0\\.02, 0\\.06\\] LOG$/constexpr double K_START = 0.045256288654474924;  \\/\\/ OPTIMIZE [0.02, 0.06] LOG/' -e 's/^constexpr double K_END = .*;   \\/\\/ OPTIMIZE \\[0\\.01, 0\\.05\\] LOG$/constexpr double K_END = 0.03125476864164844;   \\/\\/ OPTIMIZE [0.01, 0.05] LOG/' -e 's/^constexpr double K_H = .*;      \\/\\/ OPTIMIZE \\[0\\.001, 0\\.999\\]$/constexpr double K_H = 0.7623936180089513;      \\/\\/ OPTIMIZE [0.001, 0.999]/' -e 's/^constexpr short PURCHASE_TURN_LIMIT = .*;  \\/\\/ OPTIMIZE \\[790, 870\\]$/constexpr short PURCHASE_TURN_LIMIT = 817;  \\/\\/ OPTIMIZE [790, 870]/' -e 's/^constexpr int SUBSCORE3_TIGHT_TURN = .*;     \\/\\/ OPTIMIZE \\[0, 2\\]$/constexpr int SUBSCORE3_TIGHT_TURN = 0;     \\/\\/ OPTIMIZE [0, 2]/' -e 's/^constexpr int ROUGH_HASH = .*;      \\/\\/ OPTIMIZE {0, 0b00000001, 0b00010001, 0b00010011, 0b00110011}$/constexpr int ROUGH_HASH = 0b00110011;      \\/\\/ OPTIMIZE {0, 0b00000001, 0b00010001, 0b00010011, 0b00110011}/'\n",
      "g++ 10_main.cpp -std=gnu++17 -O2 -DONLINE_JUDGE -o 10_main.cpp.out 2> /dev/null\n"
     ]
    },
    {
     "name": "stderr",
     "output_type": "stream",
     "text": [
      "\u001b[32m[I 2021-09-10 08:10:21,287]\u001b[0m Trial 31 finished with value: 1001169750.0 and parameters: {'K_START': 0.051057975886682566, 'K_END': 0.04001165562696463, 'K_H': 0.7017425429891802, 'PURCHASE_TURN_LIMIT': 837, 'SUBSCORE3_TIGHT_TURN': 0, 'ROUGH_HASH': '0'}. Best is trial 31 with value: 1001169750.0.\u001b[0m\n"
     ]
    },
    {
     "name": "stdout",
     "output_type": "stream",
     "text": [
      "Updated! 1001169750.0\n",
      "callback ok\n",
      "index_parallel=11\n",
      "sed -i 11_main.cpp -e 's/^constexpr double K_START = .*;  \\/\\/ OPTIMIZE \\[0\\.02, 0\\.06\\] LOG$/constexpr double K_START = 0.0453627355821433;  \\/\\/ OPTIMIZE [0.02, 0.06] LOG/' -e 's/^constexpr double K_END = .*;   \\/\\/ OPTIMIZE \\[0\\.01, 0\\.05\\] LOG$/constexpr double K_END = 0.030871333451083047;   \\/\\/ OPTIMIZE [0.01, 0.05] LOG/' -e 's/^constexpr double K_H = .*;      \\/\\/ OPTIMIZE \\[0\\.001, 0\\.999\\]$/constexpr double K_H = 0.7508025248213727;      \\/\\/ OPTIMIZE [0.001, 0.999]/' -e 's/^constexpr short PURCHASE_TURN_LIMIT = .*;  \\/\\/ OPTIMIZE \\[790, 870\\]$/constexpr short PURCHASE_TURN_LIMIT = 837;  \\/\\/ OPTIMIZE [790, 870]/' -e 's/^constexpr int SUBSCORE3_TIGHT_TURN = .*;     \\/\\/ OPTIMIZE \\[0, 2\\]$/constexpr int SUBSCORE3_TIGHT_TURN = 0;     \\/\\/ OPTIMIZE [0, 2]/' -e 's/^constexpr int ROUGH_HASH = .*;      \\/\\/ OPTIMIZE {0, 0b00000001, 0b00010001, 0b00010011, 0b00110011}$/constexpr int ROUGH_HASH = 0b00110011;      \\/\\/ OPTIMIZE {0, 0b00000001, 0b00010001, 0b00010011, 0b00110011}/'\n",
      "g++ 11_main.cpp -std=gnu++17 -O2 -DONLINE_JUDGE -o 11_main.cpp.out 2> /dev/null\n"
     ]
    },
    {
     "name": "stderr",
     "output_type": "stream",
     "text": [
      "\u001b[32m[I 2021-09-10 08:10:41,909]\u001b[0m Trial 32 finished with value: 971925290.0 and parameters: {'K_START': 0.046982723008858175, 'K_END': 0.041153470959985464, 'K_H': 0.09948654633469621, 'PURCHASE_TURN_LIMIT': 836, 'SUBSCORE3_TIGHT_TURN': 2, 'ROUGH_HASH': '0b00110011'}. Best is trial 31 with value: 1001169750.0.\u001b[0m\n"
     ]
    },
    {
     "name": "stdout",
     "output_type": "stream",
     "text": [
      "callback ok\n",
      "index_parallel=0\n",
      "sed -i 0_main.cpp -e 's/^constexpr double K_START = .*;  \\/\\/ OPTIMIZE \\[0\\.02, 0\\.06\\] LOG$/constexpr double K_START = 0.05421343421826103;  \\/\\/ OPTIMIZE [0.02, 0.06] LOG/' -e 's/^constexpr double K_END = .*;   \\/\\/ OPTIMIZE \\[0\\.01, 0\\.05\\] LOG$/constexpr double K_END = 0.0308587808057454;   \\/\\/ OPTIMIZE [0.01, 0.05] LOG/' -e 's/^constexpr double K_H = .*;      \\/\\/ OPTIMIZE \\[0\\.001, 0\\.999\\]$/constexpr double K_H = 0.7703512153870422;      \\/\\/ OPTIMIZE [0.001, 0.999]/' -e 's/^constexpr short PURCHASE_TURN_LIMIT = .*;  \\/\\/ OPTIMIZE \\[790, 870\\]$/constexpr short PURCHASE_TURN_LIMIT = 818;  \\/\\/ OPTIMIZE [790, 870]/' -e 's/^constexpr int SUBSCORE3_TIGHT_TURN = .*;     \\/\\/ OPTIMIZE \\[0, 2\\]$/constexpr int SUBSCORE3_TIGHT_TURN = 0;     \\/\\/ OPTIMIZE [0, 2]/' -e 's/^constexpr int ROUGH_HASH = .*;      \\/\\/ OPTIMIZE {0, 0b00000001, 0b00010001, 0b00010011, 0b00110011}$/constexpr int ROUGH_HASH = 0;      \\/\\/ OPTIMIZE {0, 0b00000001, 0b00010001, 0b00010011, 0b00110011}/'\n",
      "g++ 0_main.cpp -std=gnu++17 -O2 -DONLINE_JUDGE -o 0_main.cpp.out 2> /dev/null\n"
     ]
    },
    {
     "name": "stderr",
     "output_type": "stream",
     "text": [
      "\u001b[32m[I 2021-09-10 08:12:11,478]\u001b[0m Trial 33 finished with value: 955387322.0 and parameters: {'K_START': 0.047060763833275766, 'K_END': 0.0312157598585046, 'K_H': 0.7083123368201971, 'PURCHASE_TURN_LIMIT': 813, 'SUBSCORE3_TIGHT_TURN': 0, 'ROUGH_HASH': '0b00110011'}. Best is trial 31 with value: 1001169750.0.\u001b[0m\n"
     ]
    },
    {
     "name": "stdout",
     "output_type": "stream",
     "text": [
      "callback ok\n",
      "index_parallel=1\n",
      "sed -i 1_main.cpp -e 's/^constexpr double K_START = .*;  \\/\\/ OPTIMIZE \\[0\\.02, 0\\.06\\] LOG$/constexpr double K_START = 0.05435874403606726;  \\/\\/ OPTIMIZE [0.02, 0.06] LOG/' -e 's/^constexpr double K_END = .*;   \\/\\/ OPTIMIZE \\[0\\.01, 0\\.05\\] LOG$/constexpr double K_END = 0.03096512496145624;   \\/\\/ OPTIMIZE [0.01, 0.05] LOG/' -e 's/^constexpr double K_H = .*;      \\/\\/ OPTIMIZE \\[0\\.001, 0\\.999\\]$/constexpr double K_H = 0.8001456588399023;      \\/\\/ OPTIMIZE [0.001, 0.999]/' -e 's/^constexpr short PURCHASE_TURN_LIMIT = .*;  \\/\\/ OPTIMIZE \\[790, 870\\]$/constexpr short PURCHASE_TURN_LIMIT = 823;  \\/\\/ OPTIMIZE [790, 870]/' -e 's/^constexpr int SUBSCORE3_TIGHT_TURN = .*;     \\/\\/ OPTIMIZE \\[0, 2\\]$/constexpr int SUBSCORE3_TIGHT_TURN = 0;     \\/\\/ OPTIMIZE [0, 2]/' -e 's/^constexpr int ROUGH_HASH = .*;      \\/\\/ OPTIMIZE {0, 0b00000001, 0b00010001, 0b00010011, 0b00110011}$/constexpr int ROUGH_HASH = 0;      \\/\\/ OPTIMIZE {0, 0b00000001, 0b00010001, 0b00010011, 0b00110011}/'\n",
      "g++ 1_main.cpp -std=gnu++17 -O2 -DONLINE_JUDGE -o 1_main.cpp.out 2> /dev/null\n"
     ]
    },
    {
     "name": "stderr",
     "output_type": "stream",
     "text": [
      "\u001b[32m[I 2021-09-10 08:12:33,325]\u001b[0m Trial 34 finished with value: 955479844.0 and parameters: {'K_START': 0.045256288654474924, 'K_END': 0.03125476864164844, 'K_H': 0.7623936180089513, 'PURCHASE_TURN_LIMIT': 817, 'SUBSCORE3_TIGHT_TURN': 0, 'ROUGH_HASH': '0b00110011'}. Best is trial 31 with value: 1001169750.0.\u001b[0m\n"
     ]
    },
    {
     "name": "stdout",
     "output_type": "stream",
     "text": [
      "callback ok\n",
      "index_parallel=2\n",
      "sed -i 2_main.cpp -e 's/^constexpr double K_START = .*;  \\/\\/ OPTIMIZE \\[0\\.02, 0\\.06\\] LOG$/constexpr double K_START = 0.05435543430383069;  \\/\\/ OPTIMIZE [0.02, 0.06] LOG/' -e 's/^constexpr double K_END = .*;   \\/\\/ OPTIMIZE \\[0\\.01, 0\\.05\\] LOG$/constexpr double K_END = 0.043178909223385166;   \\/\\/ OPTIMIZE [0.01, 0.05] LOG/' -e 's/^constexpr double K_H = .*;      \\/\\/ OPTIMIZE \\[0\\.001, 0\\.999\\]$/constexpr double K_H = 0.5296670000764965;      \\/\\/ OPTIMIZE [0.001, 0.999]/' -e 's/^constexpr short PURCHASE_TURN_LIMIT = .*;  \\/\\/ OPTIMIZE \\[790, 870\\]$/constexpr short PURCHASE_TURN_LIMIT = 839;  \\/\\/ OPTIMIZE [790, 870]/' -e 's/^constexpr int SUBSCORE3_TIGHT_TURN = .*;     \\/\\/ OPTIMIZE \\[0, 2\\]$/constexpr int SUBSCORE3_TIGHT_TURN = 0;     \\/\\/ OPTIMIZE [0, 2]/' -e 's/^constexpr int ROUGH_HASH = .*;      \\/\\/ OPTIMIZE {0, 0b00000001, 0b00010001, 0b00010011, 0b00110011}$/constexpr int ROUGH_HASH = 0;      \\/\\/ OPTIMIZE {0, 0b00000001, 0b00010001, 0b00010011, 0b00110011}/'\n",
      "g++ 2_main.cpp -std=gnu++17 -O2 -DONLINE_JUDGE -o 2_main.cpp.out 2> /dev/null\n"
     ]
    },
    {
     "name": "stderr",
     "output_type": "stream",
     "text": [
      "\u001b[32m[I 2021-09-10 08:14:02,777]\u001b[0m Trial 35 finished with value: 966535004.0 and parameters: {'K_START': 0.0453627355821433, 'K_END': 0.030871333451083047, 'K_H': 0.7508025248213727, 'PURCHASE_TURN_LIMIT': 837, 'SUBSCORE3_TIGHT_TURN': 0, 'ROUGH_HASH': '0b00110011'}. Best is trial 31 with value: 1001169750.0.\u001b[0m\n"
     ]
    },
    {
     "name": "stdout",
     "output_type": "stream",
     "text": [
      "callback ok\n",
      "index_parallel=3\n",
      "sed -i 3_main.cpp -e 's/^constexpr double K_START = .*;  \\/\\/ OPTIMIZE \\[0\\.02, 0\\.06\\] LOG$/constexpr double K_START = 0.054514534747565103;  \\/\\/ OPTIMIZE [0.02, 0.06] LOG/' -e 's/^constexpr double K_END = .*;   \\/\\/ OPTIMIZE \\[0\\.01, 0\\.05\\] LOG$/constexpr double K_END = 0.039965519040686064;   \\/\\/ OPTIMIZE [0.01, 0.05] LOG/' -e 's/^constexpr double K_H = .*;      \\/\\/ OPTIMIZE \\[0\\.001, 0\\.999\\]$/constexpr double K_H = 0.5391637706117818;      \\/\\/ OPTIMIZE [0.001, 0.999]/' -e 's/^constexpr short PURCHASE_TURN_LIMIT = .*;  \\/\\/ OPTIMIZE \\[790, 870\\]$/constexpr short PURCHASE_TURN_LIMIT = 827;  \\/\\/ OPTIMIZE [790, 870]/' -e 's/^constexpr int SUBSCORE3_TIGHT_TURN = .*;     \\/\\/ OPTIMIZE \\[0, 2\\]$/constexpr int SUBSCORE3_TIGHT_TURN = 0;     \\/\\/ OPTIMIZE [0, 2]/' -e 's/^constexpr int ROUGH_HASH = .*;      \\/\\/ OPTIMIZE {0, 0b00000001, 0b00010001, 0b00010011, 0b00110011}$/constexpr int ROUGH_HASH = 0;      \\/\\/ OPTIMIZE {0, 0b00000001, 0b00010001, 0b00010011, 0b00110011}/'\n",
      "g++ 3_main.cpp -std=gnu++17 -O2 -DONLINE_JUDGE -o 3_main.cpp.out 2> /dev/null\n"
     ]
    },
    {
     "name": "stderr",
     "output_type": "stream",
     "text": [
      "\u001b[32m[I 2021-09-10 08:15:19,287]\u001b[0m Trial 36 finished with value: 976597309.0 and parameters: {'K_START': 0.05421343421826103, 'K_END': 0.0308587808057454, 'K_H': 0.7703512153870422, 'PURCHASE_TURN_LIMIT': 818, 'SUBSCORE3_TIGHT_TURN': 0, 'ROUGH_HASH': '0'}. Best is trial 31 with value: 1001169750.0.\u001b[0m\n"
     ]
    },
    {
     "name": "stdout",
     "output_type": "stream",
     "text": [
      "callback ok\n",
      "index_parallel=4\n",
      "sed -i 4_main.cpp -e 's/^constexpr double K_START = .*;  \\/\\/ OPTIMIZE \\[0\\.02, 0\\.06\\] LOG$/constexpr double K_START = 0.054520999752665715;  \\/\\/ OPTIMIZE [0.02, 0.06] LOG/' -e 's/^constexpr double K_END = .*;   \\/\\/ OPTIMIZE \\[0\\.01, 0\\.05\\] LOG$/constexpr double K_END = 0.04365079972021234;   \\/\\/ OPTIMIZE [0.01, 0.05] LOG/' -e 's/^constexpr double K_H = .*;      \\/\\/ OPTIMIZE \\[0\\.001, 0\\.999\\]$/constexpr double K_H = 0.5408609387656238;      \\/\\/ OPTIMIZE [0.001, 0.999]/' -e 's/^constexpr short PURCHASE_TURN_LIMIT = .*;  \\/\\/ OPTIMIZE \\[790, 870\\]$/constexpr short PURCHASE_TURN_LIMIT = 827;  \\/\\/ OPTIMIZE [790, 870]/' -e 's/^constexpr int SUBSCORE3_TIGHT_TURN = .*;     \\/\\/ OPTIMIZE \\[0, 2\\]$/constexpr int SUBSCORE3_TIGHT_TURN = 0;     \\/\\/ OPTIMIZE [0, 2]/' -e 's/^constexpr int ROUGH_HASH = .*;      \\/\\/ OPTIMIZE {0, 0b00000001, 0b00010001, 0b00010011, 0b00110011}$/constexpr int ROUGH_HASH = 0;      \\/\\/ OPTIMIZE {0, 0b00000001, 0b00010001, 0b00010011, 0b00110011}/'\n",
      "g++ 4_main.cpp -std=gnu++17 -O2 -DONLINE_JUDGE -o 4_main.cpp.out 2> /dev/null\n"
     ]
    },
    {
     "name": "stderr",
     "output_type": "stream",
     "text": [
      "\u001b[32m[I 2021-09-10 08:16:49,488]\u001b[0m Trial 37 finished with value: 978696987.0 and parameters: {'K_START': 0.05435874403606726, 'K_END': 0.03096512496145624, 'K_H': 0.8001456588399023, 'PURCHASE_TURN_LIMIT': 823, 'SUBSCORE3_TIGHT_TURN': 0, 'ROUGH_HASH': '0'}. Best is trial 31 with value: 1001169750.0.\u001b[0m\n"
     ]
    },
    {
     "name": "stdout",
     "output_type": "stream",
     "text": [
      "callback ok\n",
      "index_parallel=5\n",
      "sed -i 5_main.cpp -e 's/^constexpr double K_START = .*;  \\/\\/ OPTIMIZE \\[0\\.02, 0\\.06\\] LOG$/constexpr double K_START = 0.054043498486915455;  \\/\\/ OPTIMIZE [0.02, 0.06] LOG/' -e 's/^constexpr double K_END = .*;   \\/\\/ OPTIMIZE \\[0\\.01, 0\\.05\\] LOG$/constexpr double K_END = 0.04285421640408206;   \\/\\/ OPTIMIZE [0.01, 0.05] LOG/' -e 's/^constexpr double K_H = .*;      \\/\\/ OPTIMIZE \\[0\\.001, 0\\.999\\]$/constexpr double K_H = 0.43357394854987946;      \\/\\/ OPTIMIZE [0.001, 0.999]/' -e 's/^constexpr short PURCHASE_TURN_LIMIT = .*;  \\/\\/ OPTIMIZE \\[790, 870\\]$/constexpr short PURCHASE_TURN_LIMIT = 827;  \\/\\/ OPTIMIZE [790, 870]/' -e 's/^constexpr int SUBSCORE3_TIGHT_TURN = .*;     \\/\\/ OPTIMIZE \\[0, 2\\]$/constexpr int SUBSCORE3_TIGHT_TURN = 0;     \\/\\/ OPTIMIZE [0, 2]/' -e 's/^constexpr int ROUGH_HASH = .*;      \\/\\/ OPTIMIZE {0, 0b00000001, 0b00010001, 0b00010011, 0b00110011}$/constexpr int ROUGH_HASH = 0;      \\/\\/ OPTIMIZE {0, 0b00000001, 0b00010001, 0b00010011, 0b00110011}/'\n",
      "g++ 5_main.cpp -std=gnu++17 -O2 -DONLINE_JUDGE -o 5_main.cpp.out 2> /dev/null\n"
     ]
    },
    {
     "name": "stderr",
     "output_type": "stream",
     "text": [
      "\u001b[32m[I 2021-09-10 08:17:18,453]\u001b[0m Trial 38 finished with value: 1004253489.0 and parameters: {'K_START': 0.05435543430383069, 'K_END': 0.043178909223385166, 'K_H': 0.5296670000764965, 'PURCHASE_TURN_LIMIT': 839, 'SUBSCORE3_TIGHT_TURN': 0, 'ROUGH_HASH': '0'}. Best is trial 38 with value: 1004253489.0.\u001b[0m\n"
     ]
    },
    {
     "name": "stdout",
     "output_type": "stream",
     "text": [
      "Updated! 1004253489.0\n",
      "callback ok\n",
      "index_parallel=6\n",
      "sed -i 6_main.cpp -e 's/^constexpr double K_START = .*;  \\/\\/ OPTIMIZE \\[0\\.02, 0\\.06\\] LOG$/constexpr double K_START = 0.05534648435628764;  \\/\\/ OPTIMIZE [0.02, 0.06] LOG/' -e 's/^constexpr double K_END = .*;   \\/\\/ OPTIMIZE \\[0\\.01, 0\\.05\\] LOG$/constexpr double K_END = 0.044190170956542374;   \\/\\/ OPTIMIZE [0.01, 0.05] LOG/' -e 's/^constexpr double K_H = .*;      \\/\\/ OPTIMIZE \\[0\\.001, 0\\.999\\]$/constexpr double K_H = 0.5535193511120388;      \\/\\/ OPTIMIZE [0.001, 0.999]/' -e 's/^constexpr short PURCHASE_TURN_LIMIT = .*;  \\/\\/ OPTIMIZE \\[790, 870\\]$/constexpr short PURCHASE_TURN_LIMIT = 828;  \\/\\/ OPTIMIZE [790, 870]/' -e 's/^constexpr int SUBSCORE3_TIGHT_TURN = .*;     \\/\\/ OPTIMIZE \\[0, 2\\]$/constexpr int SUBSCORE3_TIGHT_TURN = 0;     \\/\\/ OPTIMIZE [0, 2]/' -e 's/^constexpr int ROUGH_HASH = .*;      \\/\\/ OPTIMIZE {0, 0b00000001, 0b00010001, 0b00010011, 0b00110011}$/constexpr int ROUGH_HASH = 0;      \\/\\/ OPTIMIZE {0, 0b00000001, 0b00010001, 0b00010011, 0b00110011}/'\n",
      "g++ 6_main.cpp -std=gnu++17 -O2 -DONLINE_JUDGE -o 6_main.cpp.out 2> /dev/null\n"
     ]
    },
    {
     "name": "stderr",
     "output_type": "stream",
     "text": [
      "\u001b[32m[I 2021-09-10 08:18:43,499]\u001b[0m Trial 39 finished with value: 997971666.0 and parameters: {'K_START': 0.054514534747565103, 'K_END': 0.039965519040686064, 'K_H': 0.5391637706117818, 'PURCHASE_TURN_LIMIT': 827, 'SUBSCORE3_TIGHT_TURN': 0, 'ROUGH_HASH': '0'}. Best is trial 38 with value: 1004253489.0.\u001b[0m\n"
     ]
    },
    {
     "name": "stdout",
     "output_type": "stream",
     "text": [
      "callback ok\n",
      "index_parallel=7\n",
      "sed -i 7_main.cpp -e 's/^constexpr double K_START = .*;  \\/\\/ OPTIMIZE \\[0\\.02, 0\\.06\\] LOG$/constexpr double K_START = 0.04361410211705733;  \\/\\/ OPTIMIZE [0.02, 0.06] LOG/' -e 's/^constexpr double K_END = .*;   \\/\\/ OPTIMIZE \\[0\\.01, 0\\.05\\] LOG$/constexpr double K_END = 0.04468981301322566;   \\/\\/ OPTIMIZE [0.01, 0.05] LOG/' -e 's/^constexpr double K_H = .*;      \\/\\/ OPTIMIZE \\[0\\.001, 0\\.999\\]$/constexpr double K_H = 0.4168676241562307;      \\/\\/ OPTIMIZE [0.001, 0.999]/' -e 's/^constexpr short PURCHASE_TURN_LIMIT = .*;  \\/\\/ OPTIMIZE \\[790, 870\\]$/constexpr short PURCHASE_TURN_LIMIT = 842;  \\/\\/ OPTIMIZE [790, 870]/' -e 's/^constexpr int SUBSCORE3_TIGHT_TURN = .*;     \\/\\/ OPTIMIZE \\[0, 2\\]$/constexpr int SUBSCORE3_TIGHT_TURN = 0;     \\/\\/ OPTIMIZE [0, 2]/' -e 's/^constexpr int ROUGH_HASH = .*;      \\/\\/ OPTIMIZE {0, 0b00000001, 0b00010001, 0b00010011, 0b00110011}$/constexpr int ROUGH_HASH = 0;      \\/\\/ OPTIMIZE {0, 0b00000001, 0b00010001, 0b00010011, 0b00110011}/'\n",
      "g++ 7_main.cpp -std=gnu++17 -O2 -DONLINE_JUDGE -o 7_main.cpp.out 2> /dev/null\n"
     ]
    },
    {
     "name": "stderr",
     "output_type": "stream",
     "text": [
      "\u001b[32m[I 2021-09-10 08:19:59,298]\u001b[0m Trial 40 finished with value: 1002509202.0 and parameters: {'K_START': 0.054520999752665715, 'K_END': 0.04365079972021234, 'K_H': 0.5408609387656238, 'PURCHASE_TURN_LIMIT': 827, 'SUBSCORE3_TIGHT_TURN': 0, 'ROUGH_HASH': '0'}. Best is trial 38 with value: 1004253489.0.\u001b[0m\n"
     ]
    },
    {
     "name": "stdout",
     "output_type": "stream",
     "text": [
      "callback ok\n",
      "index_parallel=8\n",
      "sed -i 8_main.cpp -e 's/^constexpr double K_START = .*;  \\/\\/ OPTIMIZE \\[0\\.02, 0\\.06\\] LOG$/constexpr double K_START = 0.05444511742140762;  \\/\\/ OPTIMIZE [0.02, 0.06] LOG/' -e 's/^constexpr double K_END = .*;   \\/\\/ OPTIMIZE \\[0\\.01, 0\\.05\\] LOG$/constexpr double K_END = 0.0438449182376662;   \\/\\/ OPTIMIZE [0.01, 0.05] LOG/' -e 's/^constexpr double K_H = .*;      \\/\\/ OPTIMIZE \\[0\\.001, 0\\.999\\]$/constexpr double K_H = 0.4015564358824474;      \\/\\/ OPTIMIZE [0.001, 0.999]/' -e 's/^constexpr short PURCHASE_TURN_LIMIT = .*;  \\/\\/ OPTIMIZE \\[790, 870\\]$/constexpr short PURCHASE_TURN_LIMIT = 841;  \\/\\/ OPTIMIZE [790, 870]/' -e 's/^constexpr int SUBSCORE3_TIGHT_TURN = .*;     \\/\\/ OPTIMIZE \\[0, 2\\]$/constexpr int SUBSCORE3_TIGHT_TURN = 0;     \\/\\/ OPTIMIZE [0, 2]/' -e 's/^constexpr int ROUGH_HASH = .*;      \\/\\/ OPTIMIZE {0, 0b00000001, 0b00010001, 0b00010011, 0b00110011}$/constexpr int ROUGH_HASH = 0;      \\/\\/ OPTIMIZE {0, 0b00000001, 0b00010001, 0b00010011, 0b00110011}/'\n",
      "g++ 8_main.cpp -std=gnu++17 -O2 -DONLINE_JUDGE -o 8_main.cpp.out 2> /dev/null\n"
     ]
    },
    {
     "name": "stderr",
     "output_type": "stream",
     "text": [
      "\u001b[32m[I 2021-09-10 08:21:27,980]\u001b[0m Trial 41 finished with value: 1000799932.0 and parameters: {'K_START': 0.054043498486915455, 'K_END': 0.04285421640408206, 'K_H': 0.43357394854987946, 'PURCHASE_TURN_LIMIT': 827, 'SUBSCORE3_TIGHT_TURN': 0, 'ROUGH_HASH': '0'}. Best is trial 38 with value: 1004253489.0.\u001b[0m\n"
     ]
    },
    {
     "name": "stdout",
     "output_type": "stream",
     "text": [
      "callback ok\n",
      "index_parallel=9\n",
      "sed -i 9_main.cpp -e 's/^constexpr double K_START = .*;  \\/\\/ OPTIMIZE \\[0\\.02, 0\\.06\\] LOG$/constexpr double K_START = 0.04386262195961498;  \\/\\/ OPTIMIZE [0.02, 0.06] LOG/' -e 's/^constexpr double K_END = .*;   \\/\\/ OPTIMIZE \\[0\\.01, 0\\.05\\] LOG$/constexpr double K_END = 0.044507318458720184;   \\/\\/ OPTIMIZE [0.01, 0.05] LOG/' -e 's/^constexpr double K_H = .*;      \\/\\/ OPTIMIZE \\[0\\.001, 0\\.999\\]$/constexpr double K_H = 0.4143732145842351;      \\/\\/ OPTIMIZE [0.001, 0.999]/' -e 's/^constexpr short PURCHASE_TURN_LIMIT = .*;  \\/\\/ OPTIMIZE \\[790, 870\\]$/constexpr short PURCHASE_TURN_LIMIT = 842;  \\/\\/ OPTIMIZE [790, 870]/' -e 's/^constexpr int SUBSCORE3_TIGHT_TURN = .*;     \\/\\/ OPTIMIZE \\[0, 2\\]$/constexpr int SUBSCORE3_TIGHT_TURN = 0;     \\/\\/ OPTIMIZE [0, 2]/' -e 's/^constexpr int ROUGH_HASH = .*;      \\/\\/ OPTIMIZE {0, 0b00000001, 0b00010001, 0b00010011, 0b00110011}$/constexpr int ROUGH_HASH = 0;      \\/\\/ OPTIMIZE {0, 0b00000001, 0b00010001, 0b00010011, 0b00110011}/'\n",
      "g++ 9_main.cpp -std=gnu++17 -O2 -DONLINE_JUDGE -o 9_main.cpp.out 2> /dev/null\n"
     ]
    },
    {
     "name": "stderr",
     "output_type": "stream",
     "text": [
      "\u001b[32m[I 2021-09-10 08:21:59,483]\u001b[0m Trial 42 finished with value: 1003527218.0 and parameters: {'K_START': 0.05534648435628764, 'K_END': 0.044190170956542374, 'K_H': 0.5535193511120388, 'PURCHASE_TURN_LIMIT': 828, 'SUBSCORE3_TIGHT_TURN': 0, 'ROUGH_HASH': '0'}. Best is trial 38 with value: 1004253489.0.\u001b[0m\n"
     ]
    },
    {
     "name": "stdout",
     "output_type": "stream",
     "text": [
      "callback ok\n",
      "index_parallel=10\n",
      "sed -i 10_main.cpp -e 's/^constexpr double K_START = .*;  \\/\\/ OPTIMIZE \\[0\\.02, 0\\.06\\] LOG$/constexpr double K_START = 0.05566088224806649;  \\/\\/ OPTIMIZE [0.02, 0.06] LOG/' -e 's/^constexpr double K_END = .*;   \\/\\/ OPTIMIZE \\[0\\.01, 0\\.05\\] LOG$/constexpr double K_END = 0.043632395647961675;   \\/\\/ OPTIMIZE [0.01, 0.05] LOG/' -e 's/^constexpr double K_H = .*;      \\/\\/ OPTIMIZE \\[0\\.001, 0\\.999\\]$/constexpr double K_H = 0.4516126504801645;      \\/\\/ OPTIMIZE [0.001, 0.999]/' -e 's/^constexpr short PURCHASE_TURN_LIMIT = .*;  \\/\\/ OPTIMIZE \\[790, 870\\]$/constexpr short PURCHASE_TURN_LIMIT = 808;  \\/\\/ OPTIMIZE [790, 870]/' -e 's/^constexpr int SUBSCORE3_TIGHT_TURN = .*;     \\/\\/ OPTIMIZE \\[0, 2\\]$/constexpr int SUBSCORE3_TIGHT_TURN = 0;     \\/\\/ OPTIMIZE [0, 2]/' -e 's/^constexpr int ROUGH_HASH = .*;      \\/\\/ OPTIMIZE {0, 0b00000001, 0b00010001, 0b00010011, 0b00110011}$/constexpr int ROUGH_HASH = 0;      \\/\\/ OPTIMIZE {0, 0b00000001, 0b00010001, 0b00010011, 0b00110011}/'\n",
      "g++ 10_main.cpp -std=gnu++17 -O2 -DONLINE_JUDGE -o 10_main.cpp.out 2> /dev/null\n"
     ]
    },
    {
     "name": "stderr",
     "output_type": "stream",
     "text": [
      "\u001b[32m[I 2021-09-10 08:23:27,362]\u001b[0m Trial 43 finished with value: 1000001190.0 and parameters: {'K_START': 0.04361410211705733, 'K_END': 0.04468981301322566, 'K_H': 0.4168676241562307, 'PURCHASE_TURN_LIMIT': 842, 'SUBSCORE3_TIGHT_TURN': 0, 'ROUGH_HASH': '0'}. Best is trial 38 with value: 1004253489.0.\u001b[0m\n"
     ]
    },
    {
     "name": "stdout",
     "output_type": "stream",
     "text": [
      "callback ok\n",
      "index_parallel=11\n",
      "sed -i 11_main.cpp -e 's/^constexpr double K_START = .*;  \\/\\/ OPTIMIZE \\[0\\.02, 0\\.06\\] LOG$/constexpr double K_START = 0.05553566820260857;  \\/\\/ OPTIMIZE [0.02, 0.06] LOG/' -e 's/^constexpr double K_END = .*;   \\/\\/ OPTIMIZE \\[0\\.01, 0\\.05\\] LOG$/constexpr double K_END = 0.017449433065731306;   \\/\\/ OPTIMIZE [0.01, 0.05] LOG/' -e 's/^constexpr double K_H = .*;      \\/\\/ OPTIMIZE \\[0\\.001, 0\\.999\\]$/constexpr double K_H = 0.5152915004523927;      \\/\\/ OPTIMIZE [0.001, 0.999]/' -e 's/^constexpr short PURCHASE_TURN_LIMIT = .*;  \\/\\/ OPTIMIZE \\[790, 870\\]$/constexpr short PURCHASE_TURN_LIMIT = 809;  \\/\\/ OPTIMIZE [790, 870]/' -e 's/^constexpr int SUBSCORE3_TIGHT_TURN = .*;     \\/\\/ OPTIMIZE \\[0, 2\\]$/constexpr int SUBSCORE3_TIGHT_TURN = 0;     \\/\\/ OPTIMIZE [0, 2]/' -e 's/^constexpr int ROUGH_HASH = .*;      \\/\\/ OPTIMIZE {0, 0b00000001, 0b00010001, 0b00010011, 0b00110011}$/constexpr int ROUGH_HASH = 0;      \\/\\/ OPTIMIZE {0, 0b00000001, 0b00010001, 0b00010011, 0b00110011}/'\n",
      "g++ 11_main.cpp -std=gnu++17 -O2 -DONLINE_JUDGE -o 11_main.cpp.out 2> /dev/null\n"
     ]
    },
    {
     "name": "stderr",
     "output_type": "stream",
     "text": [
      "\u001b[32m[I 2021-09-10 08:24:43,672]\u001b[0m Trial 44 finished with value: 1002848940.0 and parameters: {'K_START': 0.05444511742140762, 'K_END': 0.0438449182376662, 'K_H': 0.4015564358824474, 'PURCHASE_TURN_LIMIT': 841, 'SUBSCORE3_TIGHT_TURN': 0, 'ROUGH_HASH': '0'}. Best is trial 38 with value: 1004253489.0.\u001b[0m\n"
     ]
    },
    {
     "name": "stdout",
     "output_type": "stream",
     "text": [
      "callback ok\n",
      "index_parallel=0\n",
      "sed -i 0_main.cpp -e 's/^constexpr double K_START = .*;  \\/\\/ OPTIMIZE \\[0\\.02, 0\\.06\\] LOG$/constexpr double K_START = 0.056503912497372445;  \\/\\/ OPTIMIZE [0.02, 0.06] LOG/' -e 's/^constexpr double K_END = .*;   \\/\\/ OPTIMIZE \\[0\\.01, 0\\.05\\] LOG$/constexpr double K_END = 0.0180247459511669;   \\/\\/ OPTIMIZE [0.01, 0.05] LOG/' -e 's/^constexpr double K_H = .*;      \\/\\/ OPTIMIZE \\[0\\.001, 0\\.999\\]$/constexpr double K_H = 0.5178839843455566;      \\/\\/ OPTIMIZE [0.001, 0.999]/' -e 's/^constexpr short PURCHASE_TURN_LIMIT = .*;  \\/\\/ OPTIMIZE \\[790, 870\\]$/constexpr short PURCHASE_TURN_LIMIT = 808;  \\/\\/ OPTIMIZE [790, 870]/' -e 's/^constexpr int SUBSCORE3_TIGHT_TURN = .*;     \\/\\/ OPTIMIZE \\[0, 2\\]$/constexpr int SUBSCORE3_TIGHT_TURN = 0;     \\/\\/ OPTIMIZE [0, 2]/' -e 's/^constexpr int ROUGH_HASH = .*;      \\/\\/ OPTIMIZE {0, 0b00000001, 0b00010001, 0b00010011, 0b00110011}$/constexpr int ROUGH_HASH = 0;      \\/\\/ OPTIMIZE {0, 0b00000001, 0b00010001, 0b00010011, 0b00110011}/'\n",
      "g++ 0_main.cpp -std=gnu++17 -O2 -DONLINE_JUDGE -o 0_main.cpp.out 2> /dev/null\n"
     ]
    },
    {
     "name": "stderr",
     "output_type": "stream",
     "text": [
      "\u001b[32m[I 2021-09-10 08:26:12,460]\u001b[0m Trial 45 finished with value: 1002181549.0 and parameters: {'K_START': 0.04386262195961498, 'K_END': 0.044507318458720184, 'K_H': 0.4143732145842351, 'PURCHASE_TURN_LIMIT': 842, 'SUBSCORE3_TIGHT_TURN': 0, 'ROUGH_HASH': '0'}. Best is trial 38 with value: 1004253489.0.\u001b[0m\n"
     ]
    },
    {
     "name": "stdout",
     "output_type": "stream",
     "text": [
      "callback ok\n",
      "index_parallel=1\n",
      "sed -i 1_main.cpp -e 's/^constexpr double K_START = .*;  \\/\\/ OPTIMIZE \\[0\\.02, 0\\.06\\] LOG$/constexpr double K_START = 0.05593607210942196;  \\/\\/ OPTIMIZE [0.02, 0.06] LOG/' -e 's/^constexpr double K_END = .*;   \\/\\/ OPTIMIZE \\[0\\.01, 0\\.05\\] LOG$/constexpr double K_END = 0.04619571626875252;   \\/\\/ OPTIMIZE [0.01, 0.05] LOG/' -e 's/^constexpr double K_H = .*;      \\/\\/ OPTIMIZE \\[0\\.001, 0\\.999\\]$/constexpr double K_H = 0.3629572354381462;      \\/\\/ OPTIMIZE [0.001, 0.999]/' -e 's/^constexpr short PURCHASE_TURN_LIMIT = .*;  \\/\\/ OPTIMIZE \\[790, 870\\]$/constexpr short PURCHASE_TURN_LIMIT = 847;  \\/\\/ OPTIMIZE [790, 870]/' -e 's/^constexpr int SUBSCORE3_TIGHT_TURN = .*;     \\/\\/ OPTIMIZE \\[0, 2\\]$/constexpr int SUBSCORE3_TIGHT_TURN = 0;     \\/\\/ OPTIMIZE [0, 2]/' -e 's/^constexpr int ROUGH_HASH = .*;      \\/\\/ OPTIMIZE {0, 0b00000001, 0b00010001, 0b00010011, 0b00110011}$/constexpr int ROUGH_HASH = 0;      \\/\\/ OPTIMIZE {0, 0b00000001, 0b00010001, 0b00010011, 0b00110011}/'\n",
      "g++ 1_main.cpp -std=gnu++17 -O2 -DONLINE_JUDGE -o 1_main.cpp.out 2> /dev/null\n"
     ]
    },
    {
     "name": "stderr",
     "output_type": "stream",
     "text": [
      "\u001b[32m[I 2021-09-10 08:26:32,274]\u001b[0m Trial 46 finished with value: 989268124.0 and parameters: {'K_START': 0.05566088224806649, 'K_END': 0.043632395647961675, 'K_H': 0.4516126504801645, 'PURCHASE_TURN_LIMIT': 808, 'SUBSCORE3_TIGHT_TURN': 0, 'ROUGH_HASH': '0'}. Best is trial 38 with value: 1004253489.0.\u001b[0m\n"
     ]
    },
    {
     "name": "stdout",
     "output_type": "stream",
     "text": [
      "callback ok\n",
      "index_parallel=2\n",
      "sed -i 2_main.cpp -e 's/^constexpr double K_START = .*;  \\/\\/ OPTIMIZE \\[0\\.02, 0\\.06\\] LOG$/constexpr double K_START = 0.0570081293753201;  \\/\\/ OPTIMIZE [0.02, 0.06] LOG/' -e 's/^constexpr double K_END = .*;   \\/\\/ OPTIMIZE \\[0\\.01, 0\\.05\\] LOG$/constexpr double K_END = 0.04981772329223947;   \\/\\/ OPTIMIZE [0.01, 0.05] LOG/' -e 's/^constexpr double K_H = .*;      \\/\\/ OPTIMIZE \\[0\\.001, 0\\.999\\]$/constexpr double K_H = 0.36610137591705755;      \\/\\/ OPTIMIZE [0.001, 0.999]/' -e 's/^constexpr short PURCHASE_TURN_LIMIT = .*;  \\/\\/ OPTIMIZE \\[790, 870\\]$/constexpr short PURCHASE_TURN_LIMIT = 847;  \\/\\/ OPTIMIZE [790, 870]/' -e 's/^constexpr int SUBSCORE3_TIGHT_TURN = .*;     \\/\\/ OPTIMIZE \\[0, 2\\]$/constexpr int SUBSCORE3_TIGHT_TURN = 0;     \\/\\/ OPTIMIZE [0, 2]/' -e 's/^constexpr int ROUGH_HASH = .*;      \\/\\/ OPTIMIZE {0, 0b00000001, 0b00010001, 0b00010011, 0b00110011}$/constexpr int ROUGH_HASH = 0;      \\/\\/ OPTIMIZE {0, 0b00000001, 0b00010001, 0b00010011, 0b00110011}/'\n",
      "g++ 2_main.cpp -std=gnu++17 -O2 -DONLINE_JUDGE -o 2_main.cpp.out 2> /dev/null\n"
     ]
    },
    {
     "name": "stderr",
     "output_type": "stream",
     "text": [
      "\u001b[32m[I 2021-09-10 08:28:00,127]\u001b[0m Trial 47 finished with value: 933412848.0 and parameters: {'K_START': 0.05553566820260857, 'K_END': 0.017449433065731306, 'K_H': 0.5152915004523927, 'PURCHASE_TURN_LIMIT': 809, 'SUBSCORE3_TIGHT_TURN': 0, 'ROUGH_HASH': '0'}. Best is trial 38 with value: 1004253489.0.\u001b[0m\n"
     ]
    },
    {
     "name": "stdout",
     "output_type": "stream",
     "text": [
      "callback ok\n",
      "index_parallel=3\n",
      "sed -i 3_main.cpp -e 's/^constexpr double K_START = .*;  \\/\\/ OPTIMIZE \\[0\\.02, 0\\.06\\] LOG$/constexpr double K_START = 0.056723579168160364;  \\/\\/ OPTIMIZE [0.02, 0.06] LOG/' -e 's/^constexpr double K_END = .*;   \\/\\/ OPTIMIZE \\[0\\.01, 0\\.05\\] LOG$/constexpr double K_END = 0.049684596386467134;   \\/\\/ OPTIMIZE [0.01, 0.05] LOG/' -e 's/^constexpr double K_H = .*;      \\/\\/ OPTIMIZE \\[0\\.001, 0\\.999\\]$/constexpr double K_H = 0.34514131500097606;      \\/\\/ OPTIMIZE [0.001, 0.999]/' -e 's/^constexpr short PURCHASE_TURN_LIMIT = .*;  \\/\\/ OPTIMIZE \\[790, 870\\]$/constexpr short PURCHASE_TURN_LIMIT = 841;  \\/\\/ OPTIMIZE [790, 870]/' -e 's/^constexpr int SUBSCORE3_TIGHT_TURN = .*;     \\/\\/ OPTIMIZE \\[0, 2\\]$/constexpr int SUBSCORE3_TIGHT_TURN = 0;     \\/\\/ OPTIMIZE [0, 2]/' -e 's/^constexpr int ROUGH_HASH = .*;      \\/\\/ OPTIMIZE {0, 0b00000001, 0b00010001, 0b00010011, 0b00110011}$/constexpr int ROUGH_HASH = 0;      \\/\\/ OPTIMIZE {0, 0b00000001, 0b00010001, 0b00010011, 0b00110011}/'\n",
      "g++ 3_main.cpp -std=gnu++17 -O2 -DONLINE_JUDGE -o 3_main.cpp.out 2> /dev/null\n"
     ]
    },
    {
     "name": "stderr",
     "output_type": "stream",
     "text": [
      "\u001b[32m[I 2021-09-10 08:29:15,517]\u001b[0m Trial 48 finished with value: 932836463.0 and parameters: {'K_START': 0.056503912497372445, 'K_END': 0.0180247459511669, 'K_H': 0.5178839843455566, 'PURCHASE_TURN_LIMIT': 808, 'SUBSCORE3_TIGHT_TURN': 0, 'ROUGH_HASH': '0'}. Best is trial 38 with value: 1004253489.0.\u001b[0m\n"
     ]
    },
    {
     "name": "stdout",
     "output_type": "stream",
     "text": [
      "callback ok\n",
      "index_parallel=4\n",
      "sed -i 4_main.cpp -e 's/^constexpr double K_START = .*;  \\/\\/ OPTIMIZE \\[0\\.02, 0\\.06\\] LOG$/constexpr double K_START = 0.03585543041163415;  \\/\\/ OPTIMIZE [0.02, 0.06] LOG/' -e 's/^constexpr double K_END = .*;   \\/\\/ OPTIMIZE \\[0\\.01, 0\\.05\\] LOG$/constexpr double K_END = 0.047263385181842546;   \\/\\/ OPTIMIZE [0.01, 0.05] LOG/' -e 's/^constexpr double K_H = .*;      \\/\\/ OPTIMIZE \\[0\\.001, 0\\.999\\]$/constexpr double K_H = 0.38814010565401913;      \\/\\/ OPTIMIZE [0.001, 0.999]/' -e 's/^constexpr short PURCHASE_TURN_LIMIT = .*;  \\/\\/ OPTIMIZE \\[790, 870\\]$/constexpr short PURCHASE_TURN_LIMIT = 847;  \\/\\/ OPTIMIZE [790, 870]/' -e 's/^constexpr int SUBSCORE3_TIGHT_TURN = .*;     \\/\\/ OPTIMIZE \\[0, 2\\]$/constexpr int SUBSCORE3_TIGHT_TURN = 0;     \\/\\/ OPTIMIZE [0, 2]/' -e 's/^constexpr int ROUGH_HASH = .*;      \\/\\/ OPTIMIZE {0, 0b00000001, 0b00010001, 0b00010011, 0b00110011}$/constexpr int ROUGH_HASH = 0;      \\/\\/ OPTIMIZE {0, 0b00000001, 0b00010001, 0b00010011, 0b00110011}/'\n",
      "g++ 4_main.cpp -std=gnu++17 -O2 -DONLINE_JUDGE -o 4_main.cpp.out 2> /dev/null\n"
     ]
    },
    {
     "name": "stderr",
     "output_type": "stream",
     "text": [
      "\u001b[32m[I 2021-09-10 08:30:57,804]\u001b[0m Trial 49 finished with value: 1002853643.0 and parameters: {'K_START': 0.05593607210942196, 'K_END': 0.04619571626875252, 'K_H': 0.3629572354381462, 'PURCHASE_TURN_LIMIT': 847, 'SUBSCORE3_TIGHT_TURN': 0, 'ROUGH_HASH': '0'}. Best is trial 38 with value: 1004253489.0.\u001b[0m\n"
     ]
    },
    {
     "name": "stdout",
     "output_type": "stream",
     "text": [
      "callback ok\n",
      "index_parallel=5\n",
      "sed -i 5_main.cpp -e 's/^constexpr double K_START = .*;  \\/\\/ OPTIMIZE \\[0\\.02, 0\\.06\\] LOG$/constexpr double K_START = 0.05974775207515709;  \\/\\/ OPTIMIZE [0.02, 0.06] LOG/' -e 's/^constexpr double K_END = .*;   \\/\\/ OPTIMIZE \\[0\\.01, 0\\.05\\] LOG$/constexpr double K_END = 0.04932061290656801;   \\/\\/ OPTIMIZE [0.01, 0.05] LOG/' -e 's/^constexpr double K_H = .*;      \\/\\/ OPTIMIZE \\[0\\.001, 0\\.999\\]$/constexpr double K_H = 0.34144903652995096;      \\/\\/ OPTIMIZE [0.001, 0.999]/' -e 's/^constexpr short PURCHASE_TURN_LIMIT = .*;  \\/\\/ OPTIMIZE \\[790, 870\\]$/constexpr short PURCHASE_TURN_LIMIT = 848;  \\/\\/ OPTIMIZE [790, 870]/' -e 's/^constexpr int SUBSCORE3_TIGHT_TURN = .*;     \\/\\/ OPTIMIZE \\[0, 2\\]$/constexpr int SUBSCORE3_TIGHT_TURN = 0;     \\/\\/ OPTIMIZE [0, 2]/' -e 's/^constexpr int ROUGH_HASH = .*;      \\/\\/ OPTIMIZE {0, 0b00000001, 0b00010001, 0b00010011, 0b00110011}$/constexpr int ROUGH_HASH = 0b00010011;      \\/\\/ OPTIMIZE {0, 0b00000001, 0b00010001, 0b00010011, 0b00110011}/'\n",
      "g++ 5_main.cpp -std=gnu++17 -O2 -DONLINE_JUDGE -o 5_main.cpp.out 2> /dev/null\n"
     ]
    },
    {
     "name": "stderr",
     "output_type": "stream",
     "text": [
      "\u001b[32m[I 2021-09-10 08:31:18,186]\u001b[0m Trial 50 finished with value: 1004415220.0 and parameters: {'K_START': 0.0570081293753201, 'K_END': 0.04981772329223947, 'K_H': 0.36610137591705755, 'PURCHASE_TURN_LIMIT': 847, 'SUBSCORE3_TIGHT_TURN': 0, 'ROUGH_HASH': '0'}. Best is trial 50 with value: 1004415220.0.\u001b[0m\n"
     ]
    },
    {
     "name": "stdout",
     "output_type": "stream",
     "text": [
      "Updated! 1004415220.0\n",
      "callback ok\n",
      "index_parallel=6\n",
      "sed -i 6_main.cpp -e 's/^constexpr double K_START = .*;  \\/\\/ OPTIMIZE \\[0\\.02, 0\\.06\\] LOG$/constexpr double K_START = 0.0576524641679845;  \\/\\/ OPTIMIZE [0.02, 0.06] LOG/' -e 's/^constexpr double K_END = .*;   \\/\\/ OPTIMIZE \\[0\\.01, 0\\.05\\] LOG$/constexpr double K_END = 0.04815906193160547;   \\/\\/ OPTIMIZE [0.01, 0.05] LOG/' -e 's/^constexpr double K_H = .*;      \\/\\/ OPTIMIZE \\[0\\.001, 0\\.999\\]$/constexpr double K_H = 0.35057351590553265;      \\/\\/ OPTIMIZE [0.001, 0.999]/' -e 's/^constexpr short PURCHASE_TURN_LIMIT = .*;  \\/\\/ OPTIMIZE \\[790, 870\\]$/constexpr short PURCHASE_TURN_LIMIT = 848;  \\/\\/ OPTIMIZE [790, 870]/' -e 's/^constexpr int SUBSCORE3_TIGHT_TURN = .*;     \\/\\/ OPTIMIZE \\[0, 2\\]$/constexpr int SUBSCORE3_TIGHT_TURN = 0;     \\/\\/ OPTIMIZE [0, 2]/' -e 's/^constexpr int ROUGH_HASH = .*;      \\/\\/ OPTIMIZE {0, 0b00000001, 0b00010001, 0b00010011, 0b00110011}$/constexpr int ROUGH_HASH = 0;      \\/\\/ OPTIMIZE {0, 0b00000001, 0b00010001, 0b00010011, 0b00110011}/'\n",
      "g++ 6_main.cpp -std=gnu++17 -O2 -DONLINE_JUDGE -o 6_main.cpp.out 2> /dev/null\n"
     ]
    },
    {
     "name": "stderr",
     "output_type": "stream",
     "text": [
      "\u001b[32m[I 2021-09-10 08:32:44,984]\u001b[0m Trial 51 finished with value: 1008510157.0 and parameters: {'K_START': 0.056723579168160364, 'K_END': 0.049684596386467134, 'K_H': 0.34514131500097606, 'PURCHASE_TURN_LIMIT': 841, 'SUBSCORE3_TIGHT_TURN': 0, 'ROUGH_HASH': '0'}. Best is trial 51 with value: 1008510157.0.\u001b[0m\n"
     ]
    },
    {
     "name": "stdout",
     "output_type": "stream",
     "text": [
      "Updated! 1008510157.0\n",
      "callback ok\n",
      "index_parallel=7\n",
      "sed -i 7_main.cpp -e 's/^constexpr double K_START = .*;  \\/\\/ OPTIMIZE \\[0\\.02, 0\\.06\\] LOG$/constexpr double K_START = 0.05928025314113068;  \\/\\/ OPTIMIZE [0.02, 0.06] LOG/' -e 's/^constexpr double K_END = .*;   \\/\\/ OPTIMIZE \\[0\\.01, 0\\.05\\] LOG$/constexpr double K_END = 0.04899718549606604;   \\/\\/ OPTIMIZE [0.01, 0.05] LOG/' -e 's/^constexpr double K_H = .*;      \\/\\/ OPTIMIZE \\[0\\.001, 0\\.999\\]$/constexpr double K_H = 0.3186001022886333;      \\/\\/ OPTIMIZE [0.001, 0.999]/' -e 's/^constexpr short PURCHASE_TURN_LIMIT = .*;  \\/\\/ OPTIMIZE \\[790, 870\\]$/constexpr short PURCHASE_TURN_LIMIT = 846;  \\/\\/ OPTIMIZE [790, 870]/' -e 's/^constexpr int SUBSCORE3_TIGHT_TURN = .*;     \\/\\/ OPTIMIZE \\[0, 2\\]$/constexpr int SUBSCORE3_TIGHT_TURN = 0;     \\/\\/ OPTIMIZE [0, 2]/' -e 's/^constexpr int ROUGH_HASH = .*;      \\/\\/ OPTIMIZE {0, 0b00000001, 0b00010001, 0b00010011, 0b00110011}$/constexpr int ROUGH_HASH = 0;      \\/\\/ OPTIMIZE {0, 0b00000001, 0b00010001, 0b00010011, 0b00110011}/'\n",
      "g++ 7_main.cpp -std=gnu++17 -O2 -DONLINE_JUDGE -o 7_main.cpp.out 2> /dev/null\n"
     ]
    },
    {
     "name": "stderr",
     "output_type": "stream",
     "text": [
      "\u001b[32m[I 2021-09-10 08:34:03,539]\u001b[0m Trial 52 finished with value: 1000076057.0 and parameters: {'K_START': 0.03585543041163415, 'K_END': 0.047263385181842546, 'K_H': 0.38814010565401913, 'PURCHASE_TURN_LIMIT': 847, 'SUBSCORE3_TIGHT_TURN': 0, 'ROUGH_HASH': '0'}. Best is trial 51 with value: 1008510157.0.\u001b[0m\n"
     ]
    },
    {
     "name": "stdout",
     "output_type": "stream",
     "text": [
      "callback ok\n",
      "index_parallel=8\n",
      "sed -i 8_main.cpp -e 's/^constexpr double K_START = .*;  \\/\\/ OPTIMIZE \\[0\\.02, 0\\.06\\] LOG$/constexpr double K_START = 0.05856808916638612;  \\/\\/ OPTIMIZE [0.02, 0.06] LOG/' -e 's/^constexpr double K_END = .*;   \\/\\/ OPTIMIZE \\[0\\.01, 0\\.05\\] LOG$/constexpr double K_END = 0.048441465447224885;   \\/\\/ OPTIMIZE [0.01, 0.05] LOG/' -e 's/^constexpr double K_H = .*;      \\/\\/ OPTIMIZE \\[0\\.001, 0\\.999\\]$/constexpr double K_H = 0.3476025735123934;      \\/\\/ OPTIMIZE [0.001, 0.999]/' -e 's/^constexpr short PURCHASE_TURN_LIMIT = .*;  \\/\\/ OPTIMIZE \\[790, 870\\]$/constexpr short PURCHASE_TURN_LIMIT = 845;  \\/\\/ OPTIMIZE [790, 870]/' -e 's/^constexpr int SUBSCORE3_TIGHT_TURN = .*;     \\/\\/ OPTIMIZE \\[0, 2\\]$/constexpr int SUBSCORE3_TIGHT_TURN = 0;     \\/\\/ OPTIMIZE [0, 2]/' -e 's/^constexpr int ROUGH_HASH = .*;      \\/\\/ OPTIMIZE {0, 0b00000001, 0b00010001, 0b00010011, 0b00110011}$/constexpr int ROUGH_HASH = 0b00010011;      \\/\\/ OPTIMIZE {0, 0b00000001, 0b00010001, 0b00010011, 0b00110011}/'\n",
      "g++ 8_main.cpp -std=gnu++17 -O2 -DONLINE_JUDGE -o 8_main.cpp.out 2> /dev/null\n"
     ]
    },
    {
     "name": "stderr",
     "output_type": "stream",
     "text": [
      "\u001b[32m[I 2021-09-10 08:35:00,111]\u001b[0m Trial 53 finished with value: 995308084.0 and parameters: {'K_START': 0.05974775207515709, 'K_END': 0.04932061290656801, 'K_H': 0.34144903652995096, 'PURCHASE_TURN_LIMIT': 848, 'SUBSCORE3_TIGHT_TURN': 0, 'ROUGH_HASH': '0b00010011'}. Best is trial 51 with value: 1008510157.0.\u001b[0m\n"
     ]
    },
    {
     "name": "stdout",
     "output_type": "stream",
     "text": [
      "callback ok\n",
      "index_parallel=9\n",
      "sed -i 9_main.cpp -e 's/^constexpr double K_START = .*;  \\/\\/ OPTIMIZE \\[0\\.02, 0\\.06\\] LOG$/constexpr double K_START = 0.0236258298665143;  \\/\\/ OPTIMIZE [0.02, 0.06] LOG/' -e 's/^constexpr double K_END = .*;   \\/\\/ OPTIMIZE \\[0\\.01, 0\\.05\\] LOG$/constexpr double K_END = 0.049879329670447274;   \\/\\/ OPTIMIZE [0.01, 0.05] LOG/' -e 's/^constexpr double K_H = .*;      \\/\\/ OPTIMIZE \\[0\\.001, 0\\.999\\]$/constexpr double K_H = 0.3478052846591315;      \\/\\/ OPTIMIZE [0.001, 0.999]/' -e 's/^constexpr short PURCHASE_TURN_LIMIT = .*;  \\/\\/ OPTIMIZE \\[790, 870\\]$/constexpr short PURCHASE_TURN_LIMIT = 843;  \\/\\/ OPTIMIZE [790, 870]/' -e 's/^constexpr int SUBSCORE3_TIGHT_TURN = .*;     \\/\\/ OPTIMIZE \\[0, 2\\]$/constexpr int SUBSCORE3_TIGHT_TURN = 0;     \\/\\/ OPTIMIZE [0, 2]/' -e 's/^constexpr int ROUGH_HASH = .*;      \\/\\/ OPTIMIZE {0, 0b00000001, 0b00010001, 0b00010011, 0b00110011}$/constexpr int ROUGH_HASH = 0b00000001;      \\/\\/ OPTIMIZE {0, 0b00000001, 0b00010001, 0b00010011, 0b00110011}/'\n",
      "g++ 9_main.cpp -std=gnu++17 -O2 -DONLINE_JUDGE -o 9_main.cpp.out 2> /dev/null\n"
     ]
    },
    {
     "name": "stderr",
     "output_type": "stream",
     "text": [
      "\u001b[32m[I 2021-09-10 08:36:05,846]\u001b[0m Trial 54 finished with value: 1003956242.0 and parameters: {'K_START': 0.0576524641679845, 'K_END': 0.04815906193160547, 'K_H': 0.35057351590553265, 'PURCHASE_TURN_LIMIT': 848, 'SUBSCORE3_TIGHT_TURN': 0, 'ROUGH_HASH': '0'}. Best is trial 51 with value: 1008510157.0.\u001b[0m\n"
     ]
    },
    {
     "name": "stdout",
     "output_type": "stream",
     "text": [
      "callback ok\n",
      "index_parallel=10\n",
      "sed -i 10_main.cpp -e 's/^constexpr double K_START = .*;  \\/\\/ OPTIMIZE \\[0\\.02, 0\\.06\\] LOG$/constexpr double K_START = 0.056763952682186855;  \\/\\/ OPTIMIZE [0.02, 0.06] LOG/' -e 's/^constexpr double K_END = .*;   \\/\\/ OPTIMIZE \\[0\\.01, 0\\.05\\] LOG$/constexpr double K_END = 0.049847742791431796;   \\/\\/ OPTIMIZE [0.01, 0.05] LOG/' -e 's/^constexpr double K_H = .*;      \\/\\/ OPTIMIZE \\[0\\.001, 0\\.999\\]$/constexpr double K_H = 0.31771399815318707;      \\/\\/ OPTIMIZE [0.001, 0.999]/' -e 's/^constexpr short PURCHASE_TURN_LIMIT = .*;  \\/\\/ OPTIMIZE \\[790, 870\\]$/constexpr short PURCHASE_TURN_LIMIT = 845;  \\/\\/ OPTIMIZE [790, 870]/' -e 's/^constexpr int SUBSCORE3_TIGHT_TURN = .*;     \\/\\/ OPTIMIZE \\[0, 2\\]$/constexpr int SUBSCORE3_TIGHT_TURN = 0;     \\/\\/ OPTIMIZE [0, 2]/' -e 's/^constexpr int ROUGH_HASH = .*;      \\/\\/ OPTIMIZE {0, 0b00000001, 0b00010001, 0b00010011, 0b00110011}$/constexpr int ROUGH_HASH = 0;      \\/\\/ OPTIMIZE {0, 0b00000001, 0b00010001, 0b00010011, 0b00110011}/'\n",
      "g++ 10_main.cpp -std=gnu++17 -O2 -DONLINE_JUDGE -o 10_main.cpp.out 2> /dev/null\n"
     ]
    },
    {
     "name": "stderr",
     "output_type": "stream",
     "text": [
      "\u001b[32m[I 2021-09-10 08:37:33,782]\u001b[0m Trial 55 finished with value: 1008237480.0 and parameters: {'K_START': 0.05928025314113068, 'K_END': 0.04899718549606604, 'K_H': 0.3186001022886333, 'PURCHASE_TURN_LIMIT': 846, 'SUBSCORE3_TIGHT_TURN': 0, 'ROUGH_HASH': '0'}. Best is trial 51 with value: 1008510157.0.\u001b[0m\n"
     ]
    },
    {
     "name": "stdout",
     "output_type": "stream",
     "text": [
      "callback ok\n",
      "index_parallel=11\n",
      "sed -i 11_main.cpp -e 's/^constexpr double K_START = .*;  \\/\\/ OPTIMIZE \\[0\\.02, 0\\.06\\] LOG$/constexpr double K_START = 0.057366994684792956;  \\/\\/ OPTIMIZE [0.02, 0.06] LOG/' -e 's/^constexpr double K_END = .*;   \\/\\/ OPTIMIZE \\[0\\.01, 0\\.05\\] LOG$/constexpr double K_END = 0.04949518908696574;   \\/\\/ OPTIMIZE [0.01, 0.05] LOG/' -e 's/^constexpr double K_H = .*;      \\/\\/ OPTIMIZE \\[0\\.001, 0\\.999\\]$/constexpr double K_H = 0.30934222473450274;      \\/\\/ OPTIMIZE [0.001, 0.999]/' -e 's/^constexpr short PURCHASE_TURN_LIMIT = .*;  \\/\\/ OPTIMIZE \\[790, 870\\]$/constexpr short PURCHASE_TURN_LIMIT = 855;  \\/\\/ OPTIMIZE [790, 870]/' -e 's/^constexpr int SUBSCORE3_TIGHT_TURN = .*;     \\/\\/ OPTIMIZE \\[0, 2\\]$/constexpr int SUBSCORE3_TIGHT_TURN = 0;     \\/\\/ OPTIMIZE [0, 2]/' -e 's/^constexpr int ROUGH_HASH = .*;      \\/\\/ OPTIMIZE {0, 0b00000001, 0b00010001, 0b00010011, 0b00110011}$/constexpr int ROUGH_HASH = 0b00000001;      \\/\\/ OPTIMIZE {0, 0b00000001, 0b00010001, 0b00010011, 0b00110011}/'\n",
      "g++ 11_main.cpp -std=gnu++17 -O2 -DONLINE_JUDGE -o 11_main.cpp.out 2> /dev/null\n"
     ]
    },
    {
     "name": "stderr",
     "output_type": "stream",
     "text": [
      "\u001b[32m[I 2021-09-10 08:38:05,870]\u001b[0m Trial 56 finished with value: 995026877.0 and parameters: {'K_START': 0.05856808916638612, 'K_END': 0.048441465447224885, 'K_H': 0.3476025735123934, 'PURCHASE_TURN_LIMIT': 845, 'SUBSCORE3_TIGHT_TURN': 0, 'ROUGH_HASH': '0b00010011'}. Best is trial 51 with value: 1008510157.0.\u001b[0m\n"
     ]
    },
    {
     "name": "stdout",
     "output_type": "stream",
     "text": [
      "callback ok\n",
      "index_parallel=0\n",
      "sed -i 0_main.cpp -e 's/^constexpr double K_START = .*;  \\/\\/ OPTIMIZE \\[0\\.02, 0\\.06\\] LOG$/constexpr double K_START = 0.05698962110765353;  \\/\\/ OPTIMIZE [0.02, 0.06] LOG/' -e 's/^constexpr double K_END = .*;   \\/\\/ OPTIMIZE \\[0\\.01, 0\\.05\\] LOG$/constexpr double K_END = 0.04984715244197791;   \\/\\/ OPTIMIZE [0.01, 0.05] LOG/' -e 's/^constexpr double K_H = .*;      \\/\\/ OPTIMIZE \\[0\\.001, 0\\.999\\]$/constexpr double K_H = 0.3147064429453915;      \\/\\/ OPTIMIZE [0.001, 0.999]/' -e 's/^constexpr short PURCHASE_TURN_LIMIT = .*;  \\/\\/ OPTIMIZE \\[790, 870\\]$/constexpr short PURCHASE_TURN_LIMIT = 854;  \\/\\/ OPTIMIZE [790, 870]/' -e 's/^constexpr int SUBSCORE3_TIGHT_TURN = .*;     \\/\\/ OPTIMIZE \\[0, 2\\]$/constexpr int SUBSCORE3_TIGHT_TURN = 0;     \\/\\/ OPTIMIZE [0, 2]/' -e 's/^constexpr int ROUGH_HASH = .*;      \\/\\/ OPTIMIZE {0, 0b00000001, 0b00010001, 0b00010011, 0b00110011}$/constexpr int ROUGH_HASH = 0b00000001;      \\/\\/ OPTIMIZE {0, 0b00000001, 0b00010001, 0b00010011, 0b00110011}/'\n",
      "g++ 0_main.cpp -std=gnu++17 -O2 -DONLINE_JUDGE -o 0_main.cpp.out 2> /dev/null\n"
     ]
    },
    {
     "name": "stderr",
     "output_type": "stream",
     "text": [
      "\u001b[32m[I 2021-09-10 08:39:34,599]\u001b[0m Trial 57 finished with value: 997340249.0 and parameters: {'K_START': 0.0236258298665143, 'K_END': 0.049879329670447274, 'K_H': 0.3478052846591315, 'PURCHASE_TURN_LIMIT': 843, 'SUBSCORE3_TIGHT_TURN': 0, 'ROUGH_HASH': '0b00000001'}. Best is trial 51 with value: 1008510157.0.\u001b[0m\n"
     ]
    },
    {
     "name": "stdout",
     "output_type": "stream",
     "text": [
      "callback ok\n",
      "index_parallel=1\n",
      "sed -i 1_main.cpp -e 's/^constexpr double K_START = .*;  \\/\\/ OPTIMIZE \\[0\\.02, 0\\.06\\] LOG$/constexpr double K_START = 0.0578201535890295;  \\/\\/ OPTIMIZE [0.02, 0.06] LOG/' -e 's/^constexpr double K_END = .*;   \\/\\/ OPTIMIZE \\[0\\.01, 0\\.05\\] LOG$/constexpr double K_END = 0.037203228013604504;   \\/\\/ OPTIMIZE [0.01, 0.05] LOG/' -e 's/^constexpr double K_H = .*;      \\/\\/ OPTIMIZE \\[0\\.001, 0\\.999\\]$/constexpr double K_H = 0.29847790303647803;      \\/\\/ OPTIMIZE [0.001, 0.999]/' -e 's/^constexpr short PURCHASE_TURN_LIMIT = .*;  \\/\\/ OPTIMIZE \\[790, 870\\]$/constexpr short PURCHASE_TURN_LIMIT = 855;  \\/\\/ OPTIMIZE [790, 870]/' -e 's/^constexpr int SUBSCORE3_TIGHT_TURN = .*;     \\/\\/ OPTIMIZE \\[0, 2\\]$/constexpr int SUBSCORE3_TIGHT_TURN = 0;     \\/\\/ OPTIMIZE [0, 2]/' -e 's/^constexpr int ROUGH_HASH = .*;      \\/\\/ OPTIMIZE {0, 0b00000001, 0b00010001, 0b00010011, 0b00110011}$/constexpr int ROUGH_HASH = 0;      \\/\\/ OPTIMIZE {0, 0b00000001, 0b00010001, 0b00010011, 0b00110011}/'\n",
      "g++ 1_main.cpp -std=gnu++17 -O2 -DONLINE_JUDGE -o 1_main.cpp.out 2> /dev/null\n"
     ]
    },
    {
     "name": "stderr",
     "output_type": "stream",
     "text": [
      "\u001b[32m[I 2021-09-10 08:40:48,019]\u001b[0m Trial 58 finished with value: 1006670764.0 and parameters: {'K_START': 0.056763952682186855, 'K_END': 0.049847742791431796, 'K_H': 0.31771399815318707, 'PURCHASE_TURN_LIMIT': 845, 'SUBSCORE3_TIGHT_TURN': 0, 'ROUGH_HASH': '0'}. Best is trial 51 with value: 1008510157.0.\u001b[0m\n"
     ]
    },
    {
     "name": "stdout",
     "output_type": "stream",
     "text": [
      "callback ok\n",
      "index_parallel=2\n",
      "sed -i 2_main.cpp -e 's/^constexpr double K_START = .*;  \\/\\/ OPTIMIZE \\[0\\.02, 0\\.06\\] LOG$/constexpr double K_START = 0.057284849964107834;  \\/\\/ OPTIMIZE [0.02, 0.06] LOG/' -e 's/^constexpr double K_END = .*;   \\/\\/ OPTIMIZE \\[0\\.01, 0\\.05\\] LOG$/constexpr double K_END = 0.03786047899583768;   \\/\\/ OPTIMIZE [0.01, 0.05] LOG/' -e 's/^constexpr double K_H = .*;      \\/\\/ OPTIMIZE \\[0\\.001, 0\\.999\\]$/constexpr double K_H = 0.22527688469645274;      \\/\\/ OPTIMIZE [0.001, 0.999]/' -e 's/^constexpr short PURCHASE_TURN_LIMIT = .*;  \\/\\/ OPTIMIZE \\[790, 870\\]$/constexpr short PURCHASE_TURN_LIMIT = 839;  \\/\\/ OPTIMIZE [790, 870]/' -e 's/^constexpr int SUBSCORE3_TIGHT_TURN = .*;     \\/\\/ OPTIMIZE \\[0, 2\\]$/constexpr int SUBSCORE3_TIGHT_TURN = 0;     \\/\\/ OPTIMIZE [0, 2]/' -e 's/^constexpr int ROUGH_HASH = .*;      \\/\\/ OPTIMIZE {0, 0b00000001, 0b00010001, 0b00010011, 0b00110011}$/constexpr int ROUGH_HASH = 0b00000001;      \\/\\/ OPTIMIZE {0, 0b00000001, 0b00010001, 0b00010011, 0b00110011}/'\n",
      "g++ 2_main.cpp -std=gnu++17 -O2 -DONLINE_JUDGE -o 2_main.cpp.out 2> /dev/null\n"
     ]
    },
    {
     "name": "stderr",
     "output_type": "stream",
     "text": [
      "\u001b[32m[I 2021-09-10 08:42:08,740]\u001b[0m Trial 59 finished with value: 997632195.0 and parameters: {'K_START': 0.057366994684792956, 'K_END': 0.04949518908696574, 'K_H': 0.30934222473450274, 'PURCHASE_TURN_LIMIT': 855, 'SUBSCORE3_TIGHT_TURN': 0, 'ROUGH_HASH': '0b00000001'}. Best is trial 51 with value: 1008510157.0.\u001b[0m\n"
     ]
    },
    {
     "name": "stdout",
     "output_type": "stream",
     "text": [
      "callback ok\n",
      "index_parallel=3\n",
      "sed -i 3_main.cpp -e 's/^constexpr double K_START = .*;  \\/\\/ OPTIMIZE \\[0\\.02, 0\\.06\\] LOG$/constexpr double K_START = 0.048540325252565235;  \\/\\/ OPTIMIZE [0.02, 0.06] LOG/' -e 's/^constexpr double K_END = .*;   \\/\\/ OPTIMIZE \\[0\\.01, 0\\.05\\] LOG$/constexpr double K_END = 0.020693379886836286;   \\/\\/ OPTIMIZE [0.01, 0.05] LOG/' -e 's/^constexpr double K_H = .*;      \\/\\/ OPTIMIZE \\[0\\.001, 0\\.999\\]$/constexpr double K_H = 0.25195917392274836;      \\/\\/ OPTIMIZE [0.001, 0.999]/' -e 's/^constexpr short PURCHASE_TURN_LIMIT = .*;  \\/\\/ OPTIMIZE \\[790, 870\\]$/constexpr short PURCHASE_TURN_LIMIT = 863;  \\/\\/ OPTIMIZE [790, 870]/' -e 's/^constexpr int SUBSCORE3_TIGHT_TURN = .*;     \\/\\/ OPTIMIZE \\[0, 2\\]$/constexpr int SUBSCORE3_TIGHT_TURN = 0;     \\/\\/ OPTIMIZE [0, 2]/' -e 's/^constexpr int ROUGH_HASH = .*;      \\/\\/ OPTIMIZE {0, 0b00000001, 0b00010001, 0b00010011, 0b00110011}$/constexpr int ROUGH_HASH = 0;      \\/\\/ OPTIMIZE {0, 0b00000001, 0b00010001, 0b00010011, 0b00110011}/'\n",
      "g++ 3_main.cpp -std=gnu++17 -O2 -DONLINE_JUDGE -o 3_main.cpp.out 2> /dev/null\n"
     ]
    },
    {
     "name": "stderr",
     "output_type": "stream",
     "text": [
      "\u001b[32m[I 2021-09-10 08:42:41,843]\u001b[0m Trial 60 finished with value: 1000274227.0 and parameters: {'K_START': 0.05698962110765353, 'K_END': 0.04984715244197791, 'K_H': 0.3147064429453915, 'PURCHASE_TURN_LIMIT': 854, 'SUBSCORE3_TIGHT_TURN': 0, 'ROUGH_HASH': '0b00000001'}. Best is trial 51 with value: 1008510157.0.\u001b[0m\n"
     ]
    },
    {
     "name": "stdout",
     "output_type": "stream",
     "text": [
      "callback ok\n",
      "index_parallel=4\n",
      "sed -i 4_main.cpp -e 's/^constexpr double K_START = .*;  \\/\\/ OPTIMIZE \\[0\\.02, 0\\.06\\] LOG$/constexpr double K_START = 0.048577686383804865;  \\/\\/ OPTIMIZE [0.02, 0.06] LOG/' -e 's/^constexpr double K_END = .*;   \\/\\/ OPTIMIZE \\[0\\.01, 0\\.05\\] LOG$/constexpr double K_END = 0.020188006857495177;   \\/\\/ OPTIMIZE [0.01, 0.05] LOG/' -e 's/^constexpr double K_H = .*;      \\/\\/ OPTIMIZE \\[0\\.001, 0\\.999\\]$/constexpr double K_H = 0.2393405749552971;      \\/\\/ OPTIMIZE [0.001, 0.999]/' -e 's/^constexpr short PURCHASE_TURN_LIMIT = .*;  \\/\\/ OPTIMIZE \\[790, 870\\]$/constexpr short PURCHASE_TURN_LIMIT = 840;  \\/\\/ OPTIMIZE [790, 870]/' -e 's/^constexpr int SUBSCORE3_TIGHT_TURN = .*;     \\/\\/ OPTIMIZE \\[0, 2\\]$/constexpr int SUBSCORE3_TIGHT_TURN = 0;     \\/\\/ OPTIMIZE [0, 2]/' -e 's/^constexpr int ROUGH_HASH = .*;      \\/\\/ OPTIMIZE {0, 0b00000001, 0b00010001, 0b00010011, 0b00110011}$/constexpr int ROUGH_HASH = 0;      \\/\\/ OPTIMIZE {0, 0b00000001, 0b00010001, 0b00010011, 0b00110011}/'\n",
      "g++ 4_main.cpp -std=gnu++17 -O2 -DONLINE_JUDGE -o 4_main.cpp.out 2> /dev/null\n"
     ]
    },
    {
     "name": "stderr",
     "output_type": "stream",
     "text": [
      "\u001b[32m[I 2021-09-10 08:44:23,457]\u001b[0m Trial 61 finished with value: 998908624.0 and parameters: {'K_START': 0.0578201535890295, 'K_END': 0.037203228013604504, 'K_H': 0.29847790303647803, 'PURCHASE_TURN_LIMIT': 855, 'SUBSCORE3_TIGHT_TURN': 0, 'ROUGH_HASH': '0'}. Best is trial 51 with value: 1008510157.0.\u001b[0m\n"
     ]
    },
    {
     "name": "stdout",
     "output_type": "stream",
     "text": [
      "callback ok\n",
      "index_parallel=5\n",
      "sed -i 5_main.cpp -e 's/^constexpr double K_START = .*;  \\/\\/ OPTIMIZE \\[0\\.02, 0\\.06\\] LOG$/constexpr double K_START = 0.05988308441506046;  \\/\\/ OPTIMIZE [0.02, 0.06] LOG/' -e 's/^constexpr double K_END = .*;   \\/\\/ OPTIMIZE \\[0\\.01, 0\\.05\\] LOG$/constexpr double K_END = 0.046182637656614754;   \\/\\/ OPTIMIZE [0.01, 0.05] LOG/' -e 's/^constexpr double K_H = .*;      \\/\\/ OPTIMIZE \\[0\\.001, 0\\.999\\]$/constexpr double K_H = 0.21125759841930758;      \\/\\/ OPTIMIZE [0.001, 0.999]/' -e 's/^constexpr short PURCHASE_TURN_LIMIT = .*;  \\/\\/ OPTIMIZE \\[790, 870\\]$/constexpr short PURCHASE_TURN_LIMIT = 839;  \\/\\/ OPTIMIZE [790, 870]/' -e 's/^constexpr int SUBSCORE3_TIGHT_TURN = .*;     \\/\\/ OPTIMIZE \\[0, 2\\]$/constexpr int SUBSCORE3_TIGHT_TURN = 0;     \\/\\/ OPTIMIZE [0, 2]/' -e 's/^constexpr int ROUGH_HASH = .*;      \\/\\/ OPTIMIZE {0, 0b00000001, 0b00010001, 0b00010011, 0b00110011}$/constexpr int ROUGH_HASH = 0;      \\/\\/ OPTIMIZE {0, 0b00000001, 0b00010001, 0b00010011, 0b00110011}/'\n",
      "g++ 5_main.cpp -std=gnu++17 -O2 -DONLINE_JUDGE -o 5_main.cpp.out 2> /dev/null\n"
     ]
    },
    {
     "name": "stderr",
     "output_type": "stream",
     "text": [
      "\u001b[32m[I 2021-09-10 08:45:19,996]\u001b[0m Trial 62 finished with value: 1002595619.0 and parameters: {'K_START': 0.057284849964107834, 'K_END': 0.03786047899583768, 'K_H': 0.22527688469645274, 'PURCHASE_TURN_LIMIT': 839, 'SUBSCORE3_TIGHT_TURN': 0, 'ROUGH_HASH': '0b00000001'}. Best is trial 51 with value: 1008510157.0.\u001b[0m\n"
     ]
    },
    {
     "name": "stdout",
     "output_type": "stream",
     "text": [
      "callback ok\n",
      "index_parallel=6\n",
      "sed -i 6_main.cpp -e 's/^constexpr double K_START = .*;  \\/\\/ OPTIMIZE \\[0\\.02, 0\\.06\\] LOG$/constexpr double K_START = 0.05999156871709916;  \\/\\/ OPTIMIZE [0.02, 0.06] LOG/' -e 's/^constexpr double K_END = .*;   \\/\\/ OPTIMIZE \\[0\\.01, 0\\.05\\] LOG$/constexpr double K_END = 0.04659755427209459;   \\/\\/ OPTIMIZE [0.01, 0.05] LOG/' -e 's/^constexpr double K_H = .*;      \\/\\/ OPTIMIZE \\[0\\.001, 0\\.999\\]$/constexpr double K_H = 0.4759210937456628;      \\/\\/ OPTIMIZE [0.001, 0.999]/' -e 's/^constexpr short PURCHASE_TURN_LIMIT = .*;  \\/\\/ OPTIMIZE \\[790, 870\\]$/constexpr short PURCHASE_TURN_LIMIT = 850;  \\/\\/ OPTIMIZE [790, 870]/' -e 's/^constexpr int SUBSCORE3_TIGHT_TURN = .*;     \\/\\/ OPTIMIZE \\[0, 2\\]$/constexpr int SUBSCORE3_TIGHT_TURN = 0;     \\/\\/ OPTIMIZE [0, 2]/' -e 's/^constexpr int ROUGH_HASH = .*;      \\/\\/ OPTIMIZE {0, 0b00000001, 0b00010001, 0b00010011, 0b00110011}$/constexpr int ROUGH_HASH = 0;      \\/\\/ OPTIMIZE {0, 0b00000001, 0b00010001, 0b00010011, 0b00110011}/'\n",
      "g++ 6_main.cpp -std=gnu++17 -O2 -DONLINE_JUDGE -o 6_main.cpp.out 2> /dev/null\n"
     ]
    },
    {
     "name": "stderr",
     "output_type": "stream",
     "text": [
      "\u001b[32m[I 2021-09-10 08:47:03,386]\u001b[0m Trial 63 finished with value: 965128063.0 and parameters: {'K_START': 0.048540325252565235, 'K_END': 0.020693379886836286, 'K_H': 0.25195917392274836, 'PURCHASE_TURN_LIMIT': 863, 'SUBSCORE3_TIGHT_TURN': 0, 'ROUGH_HASH': '0'}. Best is trial 51 with value: 1008510157.0.\u001b[0m\n"
     ]
    },
    {
     "name": "stdout",
     "output_type": "stream",
     "text": [
      "callback ok\n",
      "index_parallel=7\n",
      "sed -i 7_main.cpp -e 's/^constexpr double K_START = .*;  \\/\\/ OPTIMIZE \\[0\\.02, 0\\.06\\] LOG$/constexpr double K_START = 0.05942587355892552;  \\/\\/ OPTIMIZE [0.02, 0.06] LOG/' -e 's/^constexpr double K_END = .*;   \\/\\/ OPTIMIZE \\[0\\.01, 0\\.05\\] LOG$/constexpr double K_END = 0.046189073046215966;   \\/\\/ OPTIMIZE [0.01, 0.05] LOG/' -e 's/^constexpr double K_H = .*;      \\/\\/ OPTIMIZE \\[0\\.001, 0\\.999\\]$/constexpr double K_H = 0.48552222875486833;      \\/\\/ OPTIMIZE [0.001, 0.999]/' -e 's/^constexpr short PURCHASE_TURN_LIMIT = .*;  \\/\\/ OPTIMIZE \\[790, 870\\]$/constexpr short PURCHASE_TURN_LIMIT = 851;  \\/\\/ OPTIMIZE [790, 870]/' -e 's/^constexpr int SUBSCORE3_TIGHT_TURN = .*;     \\/\\/ OPTIMIZE \\[0, 2\\]$/constexpr int SUBSCORE3_TIGHT_TURN = 0;     \\/\\/ OPTIMIZE [0, 2]/' -e 's/^constexpr int ROUGH_HASH = .*;      \\/\\/ OPTIMIZE {0, 0b00000001, 0b00010001, 0b00010011, 0b00110011}$/constexpr int ROUGH_HASH = 0;      \\/\\/ OPTIMIZE {0, 0b00000001, 0b00010001, 0b00010011, 0b00110011}/'\n",
      "g++ 7_main.cpp -std=gnu++17 -O2 -DONLINE_JUDGE -o 7_main.cpp.out 2> /dev/null\n"
     ]
    },
    {
     "name": "stderr",
     "output_type": "stream",
     "text": [
      "\u001b[32m[I 2021-09-10 08:47:28,203]\u001b[0m Trial 64 finished with value: 975441972.0 and parameters: {'K_START': 0.048577686383804865, 'K_END': 0.020188006857495177, 'K_H': 0.2393405749552971, 'PURCHASE_TURN_LIMIT': 840, 'SUBSCORE3_TIGHT_TURN': 0, 'ROUGH_HASH': '0'}. Best is trial 51 with value: 1008510157.0.\u001b[0m\n"
     ]
    },
    {
     "name": "stdout",
     "output_type": "stream",
     "text": [
      "callback ok\n",
      "index_parallel=8\n",
      "sed -i 8_main.cpp -e 's/^constexpr double K_START = .*;  \\/\\/ OPTIMIZE \\[0\\.02, 0\\.06\\] LOG$/constexpr double K_START = 0.052769534754055554;  \\/\\/ OPTIMIZE [0.02, 0.06] LOG/' -e 's/^constexpr double K_END = .*;   \\/\\/ OPTIMIZE \\[0\\.01, 0\\.05\\] LOG$/constexpr double K_END = 0.04617041508222103;   \\/\\/ OPTIMIZE [0.01, 0.05] LOG/' -e 's/^constexpr double K_H = .*;      \\/\\/ OPTIMIZE \\[0\\.001, 0\\.999\\]$/constexpr double K_H = 0.47440585502616855;      \\/\\/ OPTIMIZE [0.001, 0.999]/' -e 's/^constexpr short PURCHASE_TURN_LIMIT = .*;  \\/\\/ OPTIMIZE \\[790, 870\\]$/constexpr short PURCHASE_TURN_LIMIT = 851;  \\/\\/ OPTIMIZE [790, 870]/' -e 's/^constexpr int SUBSCORE3_TIGHT_TURN = .*;     \\/\\/ OPTIMIZE \\[0, 2\\]$/constexpr int SUBSCORE3_TIGHT_TURN = 0;     \\/\\/ OPTIMIZE [0, 2]/' -e 's/^constexpr int ROUGH_HASH = .*;      \\/\\/ OPTIMIZE {0, 0b00000001, 0b00010001, 0b00010011, 0b00110011}$/constexpr int ROUGH_HASH = 0;      \\/\\/ OPTIMIZE {0, 0b00000001, 0b00010001, 0b00010011, 0b00110011}/'\n",
      "g++ 8_main.cpp -std=gnu++17 -O2 -DONLINE_JUDGE -o 8_main.cpp.out 2> /dev/null\n"
     ]
    },
    {
     "name": "stderr",
     "output_type": "stream",
     "text": [
      "\u001b[32m[I 2021-09-10 08:49:40,367]\u001b[0m Trial 65 finished with value: 1006622036.0 and parameters: {'K_START': 0.05988308441506046, 'K_END': 0.046182637656614754, 'K_H': 0.21125759841930758, 'PURCHASE_TURN_LIMIT': 839, 'SUBSCORE3_TIGHT_TURN': 0, 'ROUGH_HASH': '0'}. Best is trial 51 with value: 1008510157.0.\u001b[0m\n"
     ]
    },
    {
     "name": "stdout",
     "output_type": "stream",
     "text": [
      "callback ok\n",
      "index_parallel=9\n",
      "sed -i 9_main.cpp -e 's/^constexpr double K_START = .*;  \\/\\/ OPTIMIZE \\[0\\.02, 0\\.06\\] LOG$/constexpr double K_START = 0.05241366049017865;  \\/\\/ OPTIMIZE [0.02, 0.06] LOG/' -e 's/^constexpr double K_END = .*;   \\/\\/ OPTIMIZE \\[0\\.01, 0\\.05\\] LOG$/constexpr double K_END = 0.04648396376905323;   \\/\\/ OPTIMIZE [0.01, 0.05] LOG/' -e 's/^constexpr double K_H = .*;      \\/\\/ OPTIMIZE \\[0\\.001, 0\\.999\\]$/constexpr double K_H = 0.47433400305470586;      \\/\\/ OPTIMIZE [0.001, 0.999]/' -e 's/^constexpr short PURCHASE_TURN_LIMIT = .*;  \\/\\/ OPTIMIZE \\[790, 870\\]$/constexpr short PURCHASE_TURN_LIMIT = 850;  \\/\\/ OPTIMIZE [790, 870]/' -e 's/^constexpr int SUBSCORE3_TIGHT_TURN = .*;     \\/\\/ OPTIMIZE \\[0, 2\\]$/constexpr int SUBSCORE3_TIGHT_TURN = 0;     \\/\\/ OPTIMIZE [0, 2]/' -e 's/^constexpr int ROUGH_HASH = .*;      \\/\\/ OPTIMIZE {0, 0b00000001, 0b00010001, 0b00010011, 0b00110011}$/constexpr int ROUGH_HASH = 0b00010001;      \\/\\/ OPTIMIZE {0, 0b00000001, 0b00010001, 0b00010011, 0b00110011}/'\n",
      "g++ 9_main.cpp -std=gnu++17 -O2 -DONLINE_JUDGE -o 9_main.cpp.out 2> /dev/null\n"
     ]
    },
    {
     "name": "stderr",
     "output_type": "stream",
     "text": [
      "\u001b[32m[I 2021-09-10 08:50:40,708]\u001b[0m Trial 66 finished with value: 1001410917.0 and parameters: {'K_START': 0.05999156871709916, 'K_END': 0.04659755427209459, 'K_H': 0.4759210937456628, 'PURCHASE_TURN_LIMIT': 850, 'SUBSCORE3_TIGHT_TURN': 0, 'ROUGH_HASH': '0'}. Best is trial 51 with value: 1008510157.0.\u001b[0m\n"
     ]
    },
    {
     "name": "stdout",
     "output_type": "stream",
     "text": [
      "callback ok\n",
      "index_parallel=10\n",
      "sed -i 10_main.cpp -e 's/^constexpr double K_START = .*;  \\/\\/ OPTIMIZE \\[0\\.02, 0\\.06\\] LOG$/constexpr double K_START = 0.05286719859639704;  \\/\\/ OPTIMIZE [0.02, 0.06] LOG/' -e 's/^constexpr double K_END = .*;   \\/\\/ OPTIMIZE \\[0\\.01, 0\\.05\\] LOG$/constexpr double K_END = 0.015128215895326237;   \\/\\/ OPTIMIZE [0.01, 0.05] LOG/' -e 's/^constexpr double K_H = .*;      \\/\\/ OPTIMIZE \\[0\\.001, 0\\.999\\]$/constexpr double K_H = 0.21222597850864197;      \\/\\/ OPTIMIZE [0.001, 0.999]/' -e 's/^constexpr short PURCHASE_TURN_LIMIT = .*;  \\/\\/ OPTIMIZE \\[790, 870\\]$/constexpr short PURCHASE_TURN_LIMIT = 845;  \\/\\/ OPTIMIZE [790, 870]/' -e 's/^constexpr int SUBSCORE3_TIGHT_TURN = .*;     \\/\\/ OPTIMIZE \\[0, 2\\]$/constexpr int SUBSCORE3_TIGHT_TURN = 0;     \\/\\/ OPTIMIZE [0, 2]/' -e 's/^constexpr int ROUGH_HASH = .*;      \\/\\/ OPTIMIZE {0, 0b00000001, 0b00010001, 0b00010011, 0b00110011}$/constexpr int ROUGH_HASH = 0b00010001;      \\/\\/ OPTIMIZE {0, 0b00000001, 0b00010001, 0b00010011, 0b00110011}/'\n",
      "g++ 10_main.cpp -std=gnu++17 -O2 -DONLINE_JUDGE -o 10_main.cpp.out 2> /dev/null\n"
     ]
    },
    {
     "name": "stderr",
     "output_type": "stream",
     "text": [
      "\u001b[32m[I 2021-09-10 08:52:40,420]\u001b[0m Trial 67 finished with value: 1002657099.0 and parameters: {'K_START': 0.05942587355892552, 'K_END': 0.046189073046215966, 'K_H': 0.48552222875486833, 'PURCHASE_TURN_LIMIT': 851, 'SUBSCORE3_TIGHT_TURN': 0, 'ROUGH_HASH': '0'}. Best is trial 51 with value: 1008510157.0.\u001b[0m\n"
     ]
    },
    {
     "name": "stdout",
     "output_type": "stream",
     "text": [
      "callback ok\n",
      "index_parallel=11\n",
      "sed -i 11_main.cpp -e 's/^constexpr double K_START = .*;  \\/\\/ OPTIMIZE \\[0\\.02, 0\\.06\\] LOG$/constexpr double K_START = 0.052390540926534016;  \\/\\/ OPTIMIZE [0.02, 0.06] LOG/' -e 's/^constexpr double K_END = .*;   \\/\\/ OPTIMIZE \\[0\\.01, 0\\.05\\] LOG$/constexpr double K_END = 0.010405512669313484;   \\/\\/ OPTIMIZE [0.01, 0.05] LOG/' -e 's/^constexpr double K_H = .*;      \\/\\/ OPTIMIZE \\[0\\.001, 0\\.999\\]$/constexpr double K_H = 0.20442627334060876;      \\/\\/ OPTIMIZE [0.001, 0.999]/' -e 's/^constexpr short PURCHASE_TURN_LIMIT = .*;  \\/\\/ OPTIMIZE \\[790, 870\\]$/constexpr short PURCHASE_TURN_LIMIT = 844;  \\/\\/ OPTIMIZE [790, 870]/' -e 's/^constexpr int SUBSCORE3_TIGHT_TURN = .*;     \\/\\/ OPTIMIZE \\[0, 2\\]$/constexpr int SUBSCORE3_TIGHT_TURN = 0;     \\/\\/ OPTIMIZE [0, 2]/' -e 's/^constexpr int ROUGH_HASH = .*;      \\/\\/ OPTIMIZE {0, 0b00000001, 0b00010001, 0b00010011, 0b00110011}$/constexpr int ROUGH_HASH = 0b00010001;      \\/\\/ OPTIMIZE {0, 0b00000001, 0b00010001, 0b00010011, 0b00110011}/'\n",
      "g++ 11_main.cpp -std=gnu++17 -O2 -DONLINE_JUDGE -o 11_main.cpp.out 2> /dev/null\n"
     ]
    },
    {
     "name": "stderr",
     "output_type": "stream",
     "text": [
      "\u001b[32m[I 2021-09-10 08:53:09,558]\u001b[0m Trial 68 finished with value: 1002577634.0 and parameters: {'K_START': 0.052769534754055554, 'K_END': 0.04617041508222103, 'K_H': 0.47440585502616855, 'PURCHASE_TURN_LIMIT': 851, 'SUBSCORE3_TIGHT_TURN': 0, 'ROUGH_HASH': '0'}. Best is trial 51 with value: 1008510157.0.\u001b[0m\n"
     ]
    },
    {
     "name": "stdout",
     "output_type": "stream",
     "text": [
      "callback ok\n",
      "index_parallel=0\n",
      "sed -i 0_main.cpp -e 's/^constexpr double K_START = .*;  \\/\\/ OPTIMIZE \\[0\\.02, 0\\.06\\] LOG$/constexpr double K_START = 0.052520022899589354;  \\/\\/ OPTIMIZE [0.02, 0.06] LOG/' -e 's/^constexpr double K_END = .*;   \\/\\/ OPTIMIZE \\[0\\.01, 0\\.05\\] LOG$/constexpr double K_END = 0.014858713348145354;   \\/\\/ OPTIMIZE [0.01, 0.05] LOG/' -e 's/^constexpr double K_H = .*;      \\/\\/ OPTIMIZE \\[0\\.001, 0\\.999\\]$/constexpr double K_H = 0.20828007066249327;      \\/\\/ OPTIMIZE [0.001, 0.999]/' -e 's/^constexpr short PURCHASE_TURN_LIMIT = .*;  \\/\\/ OPTIMIZE \\[790, 870\\]$/constexpr short PURCHASE_TURN_LIMIT = 845;  \\/\\/ OPTIMIZE [790, 870]/' -e 's/^constexpr int SUBSCORE3_TIGHT_TURN = .*;     \\/\\/ OPTIMIZE \\[0, 2\\]$/constexpr int SUBSCORE3_TIGHT_TURN = 0;     \\/\\/ OPTIMIZE [0, 2]/' -e 's/^constexpr int ROUGH_HASH = .*;      \\/\\/ OPTIMIZE {0, 0b00000001, 0b00010001, 0b00010011, 0b00110011}$/constexpr int ROUGH_HASH = 0b00010001;      \\/\\/ OPTIMIZE {0, 0b00000001, 0b00010001, 0b00010011, 0b00110011}/'\n",
      "g++ 0_main.cpp -std=gnu++17 -O2 -DONLINE_JUDGE -o 0_main.cpp.out 2> /dev/null\n"
     ]
    },
    {
     "name": "stderr",
     "output_type": "stream",
     "text": [
      "\u001b[32m[I 2021-09-10 08:54:30,235]\u001b[0m Trial 69 finished with value: 999017201.0 and parameters: {'K_START': 0.05241366049017865, 'K_END': 0.04648396376905323, 'K_H': 0.47433400305470586, 'PURCHASE_TURN_LIMIT': 850, 'SUBSCORE3_TIGHT_TURN': 0, 'ROUGH_HASH': '0b00010001'}. Best is trial 51 with value: 1008510157.0.\u001b[0m\n"
     ]
    },
    {
     "name": "stdout",
     "output_type": "stream",
     "text": [
      "callback ok\n",
      "index_parallel=1\n",
      "sed -i 1_main.cpp -e 's/^constexpr double K_START = .*;  \\/\\/ OPTIMIZE \\[0\\.02, 0\\.06\\] LOG$/constexpr double K_START = 0.050461736768453426;  \\/\\/ OPTIMIZE [0.02, 0.06] LOG/' -e 's/^constexpr double K_END = .*;   \\/\\/ OPTIMIZE \\[0\\.01, 0\\.05\\] LOG$/constexpr double K_END = 0.0240711065012427;   \\/\\/ OPTIMIZE [0.01, 0.05] LOG/' -e 's/^constexpr double K_H = .*;      \\/\\/ OPTIMIZE \\[0\\.001, 0\\.999\\]$/constexpr double K_H = 0.2002280970920579;      \\/\\/ OPTIMIZE [0.001, 0.999]/' -e 's/^constexpr short PURCHASE_TURN_LIMIT = .*;  \\/\\/ OPTIMIZE \\[790, 870\\]$/constexpr short PURCHASE_TURN_LIMIT = 846;  \\/\\/ OPTIMIZE [790, 870]/' -e 's/^constexpr int SUBSCORE3_TIGHT_TURN = .*;     \\/\\/ OPTIMIZE \\[0, 2\\]$/constexpr int SUBSCORE3_TIGHT_TURN = 0;     \\/\\/ OPTIMIZE [0, 2]/' -e 's/^constexpr int ROUGH_HASH = .*;      \\/\\/ OPTIMIZE {0, 0b00000001, 0b00010001, 0b00010011, 0b00110011}$/constexpr int ROUGH_HASH = 0;      \\/\\/ OPTIMIZE {0, 0b00000001, 0b00010001, 0b00010011, 0b00110011}/'\n",
      "g++ 1_main.cpp -std=gnu++17 -O2 -DONLINE_JUDGE -o 1_main.cpp.out 2> /dev/null\n"
     ]
    },
    {
     "name": "stderr",
     "output_type": "stream",
     "text": [
      "\u001b[32m[I 2021-09-10 08:55:31,701]\u001b[0m Trial 70 finished with value: 962309792.0 and parameters: {'K_START': 0.05286719859639704, 'K_END': 0.015128215895326237, 'K_H': 0.21222597850864197, 'PURCHASE_TURN_LIMIT': 845, 'SUBSCORE3_TIGHT_TURN': 0, 'ROUGH_HASH': '0b00010001'}. Best is trial 51 with value: 1008510157.0.\u001b[0m\n"
     ]
    },
    {
     "name": "stdout",
     "output_type": "stream",
     "text": [
      "callback ok\n",
      "index_parallel=2\n",
      "sed -i 2_main.cpp -e 's/^constexpr double K_START = .*;  \\/\\/ OPTIMIZE \\[0\\.02, 0\\.06\\] LOG$/constexpr double K_START = 0.056579208432436356;  \\/\\/ OPTIMIZE [0.02, 0.06] LOG/' -e 's/^constexpr double K_END = .*;   \\/\\/ OPTIMIZE \\[0\\.01, 0\\.05\\] LOG$/constexpr double K_END = 0.04255293749218013;   \\/\\/ OPTIMIZE [0.01, 0.05] LOG/' -e 's/^constexpr double K_H = .*;      \\/\\/ OPTIMIZE \\[0\\.001, 0\\.999\\]$/constexpr double K_H = 0.27288489178100983;      \\/\\/ OPTIMIZE [0.001, 0.999]/' -e 's/^constexpr short PURCHASE_TURN_LIMIT = .*;  \\/\\/ OPTIMIZE \\[790, 870\\]$/constexpr short PURCHASE_TURN_LIMIT = 844;  \\/\\/ OPTIMIZE [790, 870]/' -e 's/^constexpr int SUBSCORE3_TIGHT_TURN = .*;     \\/\\/ OPTIMIZE \\[0, 2\\]$/constexpr int SUBSCORE3_TIGHT_TURN = 0;     \\/\\/ OPTIMIZE [0, 2]/' -e 's/^constexpr int ROUGH_HASH = .*;      \\/\\/ OPTIMIZE {0, 0b00000001, 0b00010001, 0b00010011, 0b00110011}$/constexpr int ROUGH_HASH = 0;      \\/\\/ OPTIMIZE {0, 0b00000001, 0b00010001, 0b00010011, 0b00110011}/'\n",
      "g++ 2_main.cpp -std=gnu++17 -O2 -DONLINE_JUDGE -o 2_main.cpp.out 2> /dev/null\n"
     ]
    },
    {
     "name": "stderr",
     "output_type": "stream",
     "text": [
      "\u001b[32m[I 2021-09-10 08:57:24,102]\u001b[0m Trial 71 finished with value: 946291651.0 and parameters: {'K_START': 0.052390540926534016, 'K_END': 0.010405512669313484, 'K_H': 0.20442627334060876, 'PURCHASE_TURN_LIMIT': 844, 'SUBSCORE3_TIGHT_TURN': 0, 'ROUGH_HASH': '0b00010001'}. Best is trial 51 with value: 1008510157.0.\u001b[0m\n"
     ]
    },
    {
     "name": "stdout",
     "output_type": "stream",
     "text": [
      "callback ok\n",
      "index_parallel=3\n",
      "sed -i 3_main.cpp -e 's/^constexpr double K_START = .*;  \\/\\/ OPTIMIZE \\[0\\.02, 0\\.06\\] LOG$/constexpr double K_START = 0.05733284003525722;  \\/\\/ OPTIMIZE [0.02, 0.06] LOG/' -e 's/^constexpr double K_END = .*;   \\/\\/ OPTIMIZE \\[0\\.01, 0\\.05\\] LOG$/constexpr double K_END = 0.042296438585009144;   \\/\\/ OPTIMIZE [0.01, 0.05] LOG/' -e 's/^constexpr double K_H = .*;      \\/\\/ OPTIMIZE \\[0\\.001, 0\\.999\\]$/constexpr double K_H = 0.5756770676558881;      \\/\\/ OPTIMIZE [0.001, 0.999]/' -e 's/^constexpr short PURCHASE_TURN_LIMIT = .*;  \\/\\/ OPTIMIZE \\[790, 870\\]$/constexpr short PURCHASE_TURN_LIMIT = 830;  \\/\\/ OPTIMIZE [790, 870]/' -e 's/^constexpr int SUBSCORE3_TIGHT_TURN = .*;     \\/\\/ OPTIMIZE \\[0, 2\\]$/constexpr int SUBSCORE3_TIGHT_TURN = 0;     \\/\\/ OPTIMIZE [0, 2]/' -e 's/^constexpr int ROUGH_HASH = .*;      \\/\\/ OPTIMIZE {0, 0b00000001, 0b00010001, 0b00010011, 0b00110011}$/constexpr int ROUGH_HASH = 0;      \\/\\/ OPTIMIZE {0, 0b00000001, 0b00010001, 0b00010011, 0b00110011}/'\n",
      "g++ 3_main.cpp -std=gnu++17 -O2 -DONLINE_JUDGE -o 3_main.cpp.out 2> /dev/null\n"
     ]
    },
    {
     "name": "stderr",
     "output_type": "stream",
     "text": [
      "\u001b[32m[I 2021-09-10 08:57:46,382]\u001b[0m Trial 72 finished with value: 962784912.0 and parameters: {'K_START': 0.052520022899589354, 'K_END': 0.014858713348145354, 'K_H': 0.20828007066249327, 'PURCHASE_TURN_LIMIT': 845, 'SUBSCORE3_TIGHT_TURN': 0, 'ROUGH_HASH': '0b00010001'}. Best is trial 51 with value: 1008510157.0.\u001b[0m\n"
     ]
    },
    {
     "name": "stdout",
     "output_type": "stream",
     "text": [
      "callback ok\n",
      "index_parallel=4\n",
      "sed -i 4_main.cpp -e 's/^constexpr double K_START = .*;  \\/\\/ OPTIMIZE \\[0\\.02, 0\\.06\\] LOG$/constexpr double K_START = 0.05633271256177184;  \\/\\/ OPTIMIZE [0.02, 0.06] LOG/' -e 's/^constexpr double K_END = .*;   \\/\\/ OPTIMIZE \\[0\\.01, 0\\.05\\] LOG$/constexpr double K_END = 0.04263450076967162;   \\/\\/ OPTIMIZE [0.01, 0.05] LOG/' -e 's/^constexpr double K_H = .*;      \\/\\/ OPTIMIZE \\[0\\.001, 0\\.999\\]$/constexpr double K_H = 0.3817947161032584;      \\/\\/ OPTIMIZE [0.001, 0.999]/' -e 's/^constexpr short PURCHASE_TURN_LIMIT = .*;  \\/\\/ OPTIMIZE \\[790, 870\\]$/constexpr short PURCHASE_TURN_LIMIT = 831;  \\/\\/ OPTIMIZE [790, 870]/' -e 's/^constexpr int SUBSCORE3_TIGHT_TURN = .*;     \\/\\/ OPTIMIZE \\[0, 2\\]$/constexpr int SUBSCORE3_TIGHT_TURN = 0;     \\/\\/ OPTIMIZE [0, 2]/' -e 's/^constexpr int ROUGH_HASH = .*;      \\/\\/ OPTIMIZE {0, 0b00000001, 0b00010001, 0b00010011, 0b00110011}$/constexpr int ROUGH_HASH = 0;      \\/\\/ OPTIMIZE {0, 0b00000001, 0b00010001, 0b00010011, 0b00110011}/'\n",
      "g++ 4_main.cpp -std=gnu++17 -O2 -DONLINE_JUDGE -o 4_main.cpp.out 2> /dev/null\n"
     ]
    },
    {
     "name": "stderr",
     "output_type": "stream",
     "text": [
      "\u001b[32m[I 2021-09-10 08:59:24,262]\u001b[0m Trial 73 finished with value: 986798305.0 and parameters: {'K_START': 0.050461736768453426, 'K_END': 0.0240711065012427, 'K_H': 0.2002280970920579, 'PURCHASE_TURN_LIMIT': 846, 'SUBSCORE3_TIGHT_TURN': 0, 'ROUGH_HASH': '0'}. Best is trial 51 with value: 1008510157.0.\u001b[0m\n"
     ]
    },
    {
     "name": "stdout",
     "output_type": "stream",
     "text": [
      "callback ok\n",
      "index_parallel=5\n",
      "sed -i 5_main.cpp -e 's/^constexpr double K_START = .*;  \\/\\/ OPTIMIZE \\[0\\.02, 0\\.06\\] LOG$/constexpr double K_START = 0.05647956985591307;  \\/\\/ OPTIMIZE [0.02, 0.06] LOG/' -e 's/^constexpr double K_END = .*;   \\/\\/ OPTIMIZE \\[0\\.01, 0\\.05\\] LOG$/constexpr double K_END = 0.04215983803333667;   \\/\\/ OPTIMIZE [0.01, 0.05] LOG/' -e 's/^constexpr double K_H = .*;      \\/\\/ OPTIMIZE \\[0\\.001, 0\\.999\\]$/constexpr double K_H = 0.2715829819339923;      \\/\\/ OPTIMIZE [0.001, 0.999]/' -e 's/^constexpr short PURCHASE_TURN_LIMIT = .*;  \\/\\/ OPTIMIZE \\[790, 870\\]$/constexpr short PURCHASE_TURN_LIMIT = 839;  \\/\\/ OPTIMIZE [790, 870]/' -e 's/^constexpr int SUBSCORE3_TIGHT_TURN = .*;     \\/\\/ OPTIMIZE \\[0, 2\\]$/constexpr int SUBSCORE3_TIGHT_TURN = 0;     \\/\\/ OPTIMIZE [0, 2]/' -e 's/^constexpr int ROUGH_HASH = .*;      \\/\\/ OPTIMIZE {0, 0b00000001, 0b00010001, 0b00010011, 0b00110011}$/constexpr int ROUGH_HASH = 0;      \\/\\/ OPTIMIZE {0, 0b00000001, 0b00010001, 0b00010011, 0b00110011}/'\n",
      "g++ 5_main.cpp -std=gnu++17 -O2 -DONLINE_JUDGE -o 5_main.cpp.out 2> /dev/null\n"
     ]
    },
    {
     "name": "stderr",
     "output_type": "stream",
     "text": [
      "\u001b[32m[I 2021-09-10 09:00:23,834]\u001b[0m Trial 74 finished with value: 1005841996.0 and parameters: {'K_START': 0.056579208432436356, 'K_END': 0.04255293749218013, 'K_H': 0.27288489178100983, 'PURCHASE_TURN_LIMIT': 844, 'SUBSCORE3_TIGHT_TURN': 0, 'ROUGH_HASH': '0'}. Best is trial 51 with value: 1008510157.0.\u001b[0m\n"
     ]
    },
    {
     "name": "stdout",
     "output_type": "stream",
     "text": [
      "callback ok\n",
      "index_parallel=6\n",
      "sed -i 6_main.cpp -e 's/^constexpr double K_START = .*;  \\/\\/ OPTIMIZE \\[0\\.02, 0\\.06\\] LOG$/constexpr double K_START = 0.05803961099662626;  \\/\\/ OPTIMIZE [0.02, 0.06] LOG/' -e 's/^constexpr double K_END = .*;   \\/\\/ OPTIMIZE \\[0\\.01, 0\\.05\\] LOG$/constexpr double K_END = 0.03346524988070553;   \\/\\/ OPTIMIZE [0.01, 0.05] LOG/' -e 's/^constexpr double K_H = .*;      \\/\\/ OPTIMIZE \\[0\\.001, 0\\.999\\]$/constexpr double K_H = 0.2762339643716772;      \\/\\/ OPTIMIZE [0.001, 0.999]/' -e 's/^constexpr short PURCHASE_TURN_LIMIT = .*;  \\/\\/ OPTIMIZE \\[790, 870\\]$/constexpr short PURCHASE_TURN_LIMIT = 839;  \\/\\/ OPTIMIZE [790, 870]/' -e 's/^constexpr int SUBSCORE3_TIGHT_TURN = .*;     \\/\\/ OPTIMIZE \\[0, 2\\]$/constexpr int SUBSCORE3_TIGHT_TURN = 0;     \\/\\/ OPTIMIZE [0, 2]/' -e 's/^constexpr int ROUGH_HASH = .*;      \\/\\/ OPTIMIZE {0, 0b00000001, 0b00010001, 0b00010011, 0b00110011}$/constexpr int ROUGH_HASH = 0;      \\/\\/ OPTIMIZE {0, 0b00000001, 0b00010001, 0b00010011, 0b00110011}/'\n",
      "g++ 6_main.cpp -std=gnu++17 -O2 -DONLINE_JUDGE -o 6_main.cpp.out 2> /dev/null\n"
     ]
    },
    {
     "name": "stderr",
     "output_type": "stream",
     "text": [
      "\u001b[32m[I 2021-09-10 09:02:08,624]\u001b[0m Trial 75 finished with value: 1002545310.0 and parameters: {'K_START': 0.05733284003525722, 'K_END': 0.042296438585009144, 'K_H': 0.5756770676558881, 'PURCHASE_TURN_LIMIT': 830, 'SUBSCORE3_TIGHT_TURN': 0, 'ROUGH_HASH': '0'}. Best is trial 51 with value: 1008510157.0.\u001b[0m\n"
     ]
    },
    {
     "name": "stdout",
     "output_type": "stream",
     "text": [
      "callback ok\n",
      "index_parallel=7\n",
      "sed -i 7_main.cpp -e 's/^constexpr double K_START = .*;  \\/\\/ OPTIMIZE \\[0\\.02, 0\\.06\\] LOG$/constexpr double K_START = 0.05837462811395129;  \\/\\/ OPTIMIZE [0.02, 0.06] LOG/' -e 's/^constexpr double K_END = .*;   \\/\\/ OPTIMIZE \\[0\\.01, 0\\.05\\] LOG$/constexpr double K_END = 0.042390785617666724;   \\/\\/ OPTIMIZE [0.01, 0.05] LOG/' -e 's/^constexpr double K_H = .*;      \\/\\/ OPTIMIZE \\[0\\.001, 0\\.999\\]$/constexpr double K_H = 0.26903652944936207;      \\/\\/ OPTIMIZE [0.001, 0.999]/' -e 's/^constexpr short PURCHASE_TURN_LIMIT = .*;  \\/\\/ OPTIMIZE \\[790, 870\\]$/constexpr short PURCHASE_TURN_LIMIT = 838;  \\/\\/ OPTIMIZE [790, 870]/' -e 's/^constexpr int SUBSCORE3_TIGHT_TURN = .*;     \\/\\/ OPTIMIZE \\[0, 2\\]$/constexpr int SUBSCORE3_TIGHT_TURN = 0;     \\/\\/ OPTIMIZE [0, 2]/' -e 's/^constexpr int ROUGH_HASH = .*;      \\/\\/ OPTIMIZE {0, 0b00000001, 0b00010001, 0b00010011, 0b00110011}$/constexpr int ROUGH_HASH = 0;      \\/\\/ OPTIMIZE {0, 0b00000001, 0b00010001, 0b00010011, 0b00110011}/'\n",
      "g++ 7_main.cpp -std=gnu++17 -O2 -DONLINE_JUDGE -o 7_main.cpp.out 2> /dev/null\n"
     ]
    },
    {
     "name": "stderr",
     "output_type": "stream",
     "text": [
      "\u001b[32m[I 2021-09-10 09:02:29,766]\u001b[0m Trial 76 finished with value: 1004956502.0 and parameters: {'K_START': 0.05633271256177184, 'K_END': 0.04263450076967162, 'K_H': 0.3817947161032584, 'PURCHASE_TURN_LIMIT': 831, 'SUBSCORE3_TIGHT_TURN': 0, 'ROUGH_HASH': '0'}. Best is trial 51 with value: 1008510157.0.\u001b[0m\n"
     ]
    },
    {
     "name": "stdout",
     "output_type": "stream",
     "text": [
      "callback ok\n",
      "index_parallel=8\n",
      "sed -i 8_main.cpp -e 's/^constexpr double K_START = .*;  \\/\\/ OPTIMIZE \\[0\\.02, 0\\.06\\] LOG$/constexpr double K_START = 0.026411193452338198;  \\/\\/ OPTIMIZE [0.02, 0.06] LOG/' -e 's/^constexpr double K_END = .*;   \\/\\/ OPTIMIZE \\[0\\.01, 0\\.05\\] LOG$/constexpr double K_END = 0.03357894815155134;   \\/\\/ OPTIMIZE [0.01, 0.05] LOG/' -e 's/^constexpr double K_H = .*;      \\/\\/ OPTIMIZE \\[0\\.001, 0\\.999\\]$/constexpr double K_H = 0.3790128617442742;      \\/\\/ OPTIMIZE [0.001, 0.999]/' -e 's/^constexpr short PURCHASE_TURN_LIMIT = .*;  \\/\\/ OPTIMIZE \\[790, 870\\]$/constexpr short PURCHASE_TURN_LIMIT = 838;  \\/\\/ OPTIMIZE [790, 870]/' -e 's/^constexpr int SUBSCORE3_TIGHT_TURN = .*;     \\/\\/ OPTIMIZE \\[0, 2\\]$/constexpr int SUBSCORE3_TIGHT_TURN = 0;     \\/\\/ OPTIMIZE [0, 2]/' -e 's/^constexpr int ROUGH_HASH = .*;      \\/\\/ OPTIMIZE {0, 0b00000001, 0b00010001, 0b00010011, 0b00110011}$/constexpr int ROUGH_HASH = 0;      \\/\\/ OPTIMIZE {0, 0b00000001, 0b00010001, 0b00010011, 0b00110011}/'\n",
      "g++ 8_main.cpp -std=gnu++17 -O2 -DONLINE_JUDGE -o 8_main.cpp.out 2> /dev/null\n"
     ]
    },
    {
     "name": "stderr",
     "output_type": "stream",
     "text": [
      "\u001b[32m[I 2021-09-10 09:04:10,933]\u001b[0m Trial 77 finished with value: 1005437016.0 and parameters: {'K_START': 0.05647956985591307, 'K_END': 0.04215983803333667, 'K_H': 0.2715829819339923, 'PURCHASE_TURN_LIMIT': 839, 'SUBSCORE3_TIGHT_TURN': 0, 'ROUGH_HASH': '0'}. Best is trial 51 with value: 1008510157.0.\u001b[0m\n"
     ]
    },
    {
     "name": "stdout",
     "output_type": "stream",
     "text": [
      "callback ok\n",
      "index_parallel=9\n",
      "sed -i 9_main.cpp -e 's/^constexpr double K_START = .*;  \\/\\/ OPTIMIZE \\[0\\.02, 0\\.06\\] LOG$/constexpr double K_START = 0.04708392816223589;  \\/\\/ OPTIMIZE [0.02, 0.06] LOG/' -e 's/^constexpr double K_END = .*;   \\/\\/ OPTIMIZE \\[0\\.01, 0\\.05\\] LOG$/constexpr double K_END = 0.03268433295797657;   \\/\\/ OPTIMIZE [0.01, 0.05] LOG/' -e 's/^constexpr double K_H = .*;      \\/\\/ OPTIMIZE \\[0\\.001, 0\\.999\\]$/constexpr double K_H = 0.2763116274021297;      \\/\\/ OPTIMIZE [0.001, 0.999]/' -e 's/^constexpr short PURCHASE_TURN_LIMIT = .*;  \\/\\/ OPTIMIZE \\[790, 870\\]$/constexpr short PURCHASE_TURN_LIMIT = 832;  \\/\\/ OPTIMIZE [790, 870]/' -e 's/^constexpr int SUBSCORE3_TIGHT_TURN = .*;     \\/\\/ OPTIMIZE \\[0, 2\\]$/constexpr int SUBSCORE3_TIGHT_TURN = 0;     \\/\\/ OPTIMIZE [0, 2]/' -e 's/^constexpr int ROUGH_HASH = .*;      \\/\\/ OPTIMIZE {0, 0b00000001, 0b00010001, 0b00010011, 0b00110011}$/constexpr int ROUGH_HASH = 0;      \\/\\/ OPTIMIZE {0, 0b00000001, 0b00010001, 0b00010011, 0b00110011}/'\n",
      "g++ 9_main.cpp -std=gnu++17 -O2 -DONLINE_JUDGE -o 9_main.cpp.out 2> /dev/null\n"
     ]
    },
    {
     "name": "stderr",
     "output_type": "stream",
     "text": [
      "\u001b[32m[I 2021-09-10 09:05:11,768]\u001b[0m Trial 78 finished with value: 1001205821.0 and parameters: {'K_START': 0.05803961099662626, 'K_END': 0.03346524988070553, 'K_H': 0.2762339643716772, 'PURCHASE_TURN_LIMIT': 839, 'SUBSCORE3_TIGHT_TURN': 0, 'ROUGH_HASH': '0'}. Best is trial 51 with value: 1008510157.0.\u001b[0m\n"
     ]
    },
    {
     "name": "stdout",
     "output_type": "stream",
     "text": [
      "callback ok\n",
      "index_parallel=10\n",
      "sed -i 10_main.cpp -e 's/^constexpr double K_START = .*;  \\/\\/ OPTIMIZE \\[0\\.02, 0\\.06\\] LOG$/constexpr double K_START = 0.026694497064673917;  \\/\\/ OPTIMIZE [0.02, 0.06] LOG/' -e 's/^constexpr double K_END = .*;   \\/\\/ OPTIMIZE \\[0\\.01, 0\\.05\\] LOG$/constexpr double K_END = 0.033219649937116145;   \\/\\/ OPTIMIZE [0.01, 0.05] LOG/' -e 's/^constexpr double K_H = .*;      \\/\\/ OPTIMIZE \\[0\\.001, 0\\.999\\]$/constexpr double K_H = 0.1553021255218613;      \\/\\/ OPTIMIZE [0.001, 0.999]/' -e 's/^constexpr short PURCHASE_TURN_LIMIT = .*;  \\/\\/ OPTIMIZE \\[790, 870\\]$/constexpr short PURCHASE_TURN_LIMIT = 831;  \\/\\/ OPTIMIZE [790, 870]/' -e 's/^constexpr int SUBSCORE3_TIGHT_TURN = .*;     \\/\\/ OPTIMIZE \\[0, 2\\]$/constexpr int SUBSCORE3_TIGHT_TURN = 0;     \\/\\/ OPTIMIZE [0, 2]/' -e 's/^constexpr int ROUGH_HASH = .*;      \\/\\/ OPTIMIZE {0, 0b00000001, 0b00010001, 0b00010011, 0b00110011}$/constexpr int ROUGH_HASH = 0b00110011;      \\/\\/ OPTIMIZE {0, 0b00000001, 0b00010001, 0b00010011, 0b00110011}/'\n",
      "g++ 10_main.cpp -std=gnu++17 -O2 -DONLINE_JUDGE -o 10_main.cpp.out 2> /dev/null\n"
     ]
    },
    {
     "name": "stderr",
     "output_type": "stream",
     "text": [
      "\u001b[32m[I 2021-09-10 09:07:09,381]\u001b[0m Trial 79 finished with value: 1006911610.0 and parameters: {'K_START': 0.05837462811395129, 'K_END': 0.042390785617666724, 'K_H': 0.26903652944936207, 'PURCHASE_TURN_LIMIT': 838, 'SUBSCORE3_TIGHT_TURN': 0, 'ROUGH_HASH': '0'}. Best is trial 51 with value: 1008510157.0.\u001b[0m\n"
     ]
    },
    {
     "name": "stdout",
     "output_type": "stream",
     "text": [
      "callback ok\n",
      "index_parallel=11\n",
      "sed -i 11_main.cpp -e 's/^constexpr double K_START = .*;  \\/\\/ OPTIMIZE \\[0\\.02, 0\\.06\\] LOG$/constexpr double K_START = 0.05987192806795989;  \\/\\/ OPTIMIZE [0.02, 0.06] LOG/' -e 's/^constexpr double K_END = .*;   \\/\\/ OPTIMIZE \\[0\\.01, 0\\.05\\] LOG$/constexpr double K_END = 0.03842075629214349;   \\/\\/ OPTIMIZE [0.01, 0.05] LOG/' -e 's/^constexpr double K_H = .*;      \\/\\/ OPTIMIZE \\[0\\.001, 0\\.999\\]$/constexpr double K_H = 0.14869297581647462;      \\/\\/ OPTIMIZE [0.001, 0.999]/' -e 's/^constexpr short PURCHASE_TURN_LIMIT = .*;  \\/\\/ OPTIMIZE \\[790, 870\\]$/constexpr short PURCHASE_TURN_LIMIT = 834;  \\/\\/ OPTIMIZE [790, 870]/' -e 's/^constexpr int SUBSCORE3_TIGHT_TURN = .*;     \\/\\/ OPTIMIZE \\[0, 2\\]$/constexpr int SUBSCORE3_TIGHT_TURN = 0;     \\/\\/ OPTIMIZE [0, 2]/' -e 's/^constexpr int ROUGH_HASH = .*;      \\/\\/ OPTIMIZE {0, 0b00000001, 0b00010001, 0b00010011, 0b00110011}$/constexpr int ROUGH_HASH = 0b00110011;      \\/\\/ OPTIMIZE {0, 0b00000001, 0b00010001, 0b00010011, 0b00110011}/'\n",
      "g++ 11_main.cpp -std=gnu++17 -O2 -DONLINE_JUDGE -o 11_main.cpp.out 2> /dev/null\n"
     ]
    },
    {
     "name": "stderr",
     "output_type": "stream",
     "text": [
      "\u001b[32m[I 2021-09-10 09:07:26,700]\u001b[0m Trial 80 finished with value: 980267955.0 and parameters: {'K_START': 0.026411193452338198, 'K_END': 0.03357894815155134, 'K_H': 0.3790128617442742, 'PURCHASE_TURN_LIMIT': 838, 'SUBSCORE3_TIGHT_TURN': 0, 'ROUGH_HASH': '0'}. Best is trial 51 with value: 1008510157.0.\u001b[0m\n"
     ]
    },
    {
     "name": "stdout",
     "output_type": "stream",
     "text": [
      "callback ok\n",
      "index_parallel=0\n",
      "sed -i 0_main.cpp -e 's/^constexpr double K_START = .*;  \\/\\/ OPTIMIZE \\[0\\.02, 0\\.06\\] LOG$/constexpr double K_START = 0.05994112959294309;  \\/\\/ OPTIMIZE [0.02, 0.06] LOG/' -e 's/^constexpr double K_END = .*;   \\/\\/ OPTIMIZE \\[0\\.01, 0\\.05\\] LOG$/constexpr double K_END = 0.038240274433679805;   \\/\\/ OPTIMIZE [0.01, 0.05] LOG/' -e 's/^constexpr double K_H = .*;      \\/\\/ OPTIMIZE \\[0\\.001, 0\\.999\\]$/constexpr double K_H = 0.1717105907397331;      \\/\\/ OPTIMIZE [0.001, 0.999]/' -e 's/^constexpr short PURCHASE_TURN_LIMIT = .*;  \\/\\/ OPTIMIZE \\[790, 870\\]$/constexpr short PURCHASE_TURN_LIMIT = 833;  \\/\\/ OPTIMIZE [790, 870]/' -e 's/^constexpr int SUBSCORE3_TIGHT_TURN = .*;     \\/\\/ OPTIMIZE \\[0, 2\\]$/constexpr int SUBSCORE3_TIGHT_TURN = 0;     \\/\\/ OPTIMIZE [0, 2]/' -e 's/^constexpr int ROUGH_HASH = .*;      \\/\\/ OPTIMIZE {0, 0b00000001, 0b00010001, 0b00010011, 0b00110011}$/constexpr int ROUGH_HASH = 0;      \\/\\/ OPTIMIZE {0, 0b00000001, 0b00010001, 0b00010011, 0b00110011}/'\n",
      "g++ 0_main.cpp -std=gnu++17 -O2 -DONLINE_JUDGE -o 0_main.cpp.out 2> /dev/null\n"
     ]
    },
    {
     "name": "stderr",
     "output_type": "stream",
     "text": [
      "\u001b[32m[I 2021-09-10 09:09:01,405]\u001b[0m Trial 82 finished with value: 957639754.0 and parameters: {'K_START': 0.026694497064673917, 'K_END': 0.033219649937116145, 'K_H': 0.1553021255218613, 'PURCHASE_TURN_LIMIT': 831, 'SUBSCORE3_TIGHT_TURN': 0, 'ROUGH_HASH': '0b00110011'}. Best is trial 51 with value: 1008510157.0.\u001b[0m\n"
     ]
    },
    {
     "name": "stdout",
     "output_type": "stream",
     "text": [
      "callback ok\n",
      "index_parallel=1\n",
      "sed -i 1_main.cpp -e 's/^constexpr double K_START = .*;  \\/\\/ OPTIMIZE \\[0\\.02, 0\\.06\\] LOG$/constexpr double K_START = 0.0559166193648018;  \\/\\/ OPTIMIZE [0.02, 0.06] LOG/' -e 's/^constexpr double K_END = .*;   \\/\\/ OPTIMIZE \\[0\\.01, 0\\.05\\] LOG$/constexpr double K_END = 0.03933091015755389;   \\/\\/ OPTIMIZE [0.01, 0.05] LOG/' -e 's/^constexpr double K_H = .*;      \\/\\/ OPTIMIZE \\[0\\.001, 0\\.999\\]$/constexpr double K_H = 0.3165243068481609;      \\/\\/ OPTIMIZE [0.001, 0.999]/' -e 's/^constexpr short PURCHASE_TURN_LIMIT = .*;  \\/\\/ OPTIMIZE \\[790, 870\\]$/constexpr short PURCHASE_TURN_LIMIT = 835;  \\/\\/ OPTIMIZE [790, 870]/' -e 's/^constexpr int SUBSCORE3_TIGHT_TURN = .*;     \\/\\/ OPTIMIZE \\[0, 2\\]$/constexpr int SUBSCORE3_TIGHT_TURN = 0;     \\/\\/ OPTIMIZE [0, 2]/' -e 's/^constexpr int ROUGH_HASH = .*;      \\/\\/ OPTIMIZE {0, 0b00000001, 0b00010001, 0b00010011, 0b00110011}$/constexpr int ROUGH_HASH = 0;      \\/\\/ OPTIMIZE {0, 0b00000001, 0b00010001, 0b00010011, 0b00110011}/'\n",
      "g++ 1_main.cpp -std=gnu++17 -O2 -DONLINE_JUDGE -o 1_main.cpp.out 2> /dev/null\n"
     ]
    },
    {
     "name": "stderr",
     "output_type": "stream",
     "text": [
      "\u001b[32m[I 2021-09-10 09:09:12,131]\u001b[0m Trial 81 finished with value: 993128219.0 and parameters: {'K_START': 0.04708392816223589, 'K_END': 0.03268433295797657, 'K_H': 0.2763116274021297, 'PURCHASE_TURN_LIMIT': 832, 'SUBSCORE3_TIGHT_TURN': 0, 'ROUGH_HASH': '0'}. Best is trial 51 with value: 1008510157.0.\u001b[0m\n"
     ]
    },
    {
     "name": "stdout",
     "output_type": "stream",
     "text": [
      "callback ok\n",
      "index_parallel=2\n",
      "sed -i 2_main.cpp -e 's/^constexpr double K_START = .*;  \\/\\/ OPTIMIZE \\[0\\.02, 0\\.06\\] LOG$/constexpr double K_START = 0.059561620214801;  \\/\\/ OPTIMIZE [0.02, 0.06] LOG/' -e 's/^constexpr double K_END = .*;   \\/\\/ OPTIMIZE \\[0\\.01, 0\\.05\\] LOG$/constexpr double K_END = 0.03851206183013473;   \\/\\/ OPTIMIZE [0.01, 0.05] LOG/' -e 's/^constexpr double K_H = .*;      \\/\\/ OPTIMIZE \\[0\\.001, 0\\.999\\]$/constexpr double K_H = 0.30968432549386904;      \\/\\/ OPTIMIZE [0.001, 0.999]/' -e 's/^constexpr short PURCHASE_TURN_LIMIT = .*;  \\/\\/ OPTIMIZE \\[790, 870\\]$/constexpr short PURCHASE_TURN_LIMIT = 835;  \\/\\/ OPTIMIZE [790, 870]/' -e 's/^constexpr int SUBSCORE3_TIGHT_TURN = .*;     \\/\\/ OPTIMIZE \\[0, 2\\]$/constexpr int SUBSCORE3_TIGHT_TURN = 0;     \\/\\/ OPTIMIZE [0, 2]/' -e 's/^constexpr int ROUGH_HASH = .*;      \\/\\/ OPTIMIZE {0, 0b00000001, 0b00010001, 0b00010011, 0b00110011}$/constexpr int ROUGH_HASH = 0;      \\/\\/ OPTIMIZE {0, 0b00000001, 0b00010001, 0b00010011, 0b00110011}/'\n",
      "g++ 2_main.cpp -std=gnu++17 -O2 -DONLINE_JUDGE -o 2_main.cpp.out 2> /dev/null\n"
     ]
    },
    {
     "name": "stderr",
     "output_type": "stream",
     "text": [
      "\u001b[32m[I 2021-09-10 09:10:51,738]\u001b[0m Trial 83 finished with value: 990001995.0 and parameters: {'K_START': 0.05987192806795989, 'K_END': 0.03842075629214349, 'K_H': 0.14869297581647462, 'PURCHASE_TURN_LIMIT': 834, 'SUBSCORE3_TIGHT_TURN': 0, 'ROUGH_HASH': '0b00110011'}. Best is trial 51 with value: 1008510157.0.\u001b[0m\n"
     ]
    },
    {
     "name": "stdout",
     "output_type": "stream",
     "text": [
      "callback ok\n",
      "index_parallel=3\n",
      "sed -i 3_main.cpp -e 's/^constexpr double K_START = .*;  \\/\\/ OPTIMIZE \\[0\\.02, 0\\.06\\] LOG$/constexpr double K_START = 0.05627722367087851;  \\/\\/ OPTIMIZE [0.02, 0.06] LOG/' -e 's/^constexpr double K_END = .*;   \\/\\/ OPTIMIZE \\[0\\.01, 0\\.05\\] LOG$/constexpr double K_END = 0.04137640747297048;   \\/\\/ OPTIMIZE [0.01, 0.05] LOG/' -e 's/^constexpr double K_H = .*;      \\/\\/ OPTIMIZE \\[0\\.001, 0\\.999\\]$/constexpr double K_H = 0.32371199988001265;      \\/\\/ OPTIMIZE [0.001, 0.999]/' -e 's/^constexpr short PURCHASE_TURN_LIMIT = .*;  \\/\\/ OPTIMIZE \\[790, 870\\]$/constexpr short PURCHASE_TURN_LIMIT = 837;  \\/\\/ OPTIMIZE [790, 870]/' -e 's/^constexpr int SUBSCORE3_TIGHT_TURN = .*;     \\/\\/ OPTIMIZE \\[0, 2\\]$/constexpr int SUBSCORE3_TIGHT_TURN = 0;     \\/\\/ OPTIMIZE [0, 2]/' -e 's/^constexpr int ROUGH_HASH = .*;      \\/\\/ OPTIMIZE {0, 0b00000001, 0b00010001, 0b00010011, 0b00110011}$/constexpr int ROUGH_HASH = 0;      \\/\\/ OPTIMIZE {0, 0b00000001, 0b00010001, 0b00010011, 0b00110011}/'\n",
      "g++ 3_main.cpp -std=gnu++17 -O2 -DONLINE_JUDGE -o 3_main.cpp.out 2> /dev/null\n"
     ]
    },
    {
     "name": "stderr",
     "output_type": "stream",
     "text": [
      "\u001b[32m[I 2021-09-10 09:12:14,773]\u001b[0m Trial 84 finished with value: 1004488472.0 and parameters: {'K_START': 0.05994112959294309, 'K_END': 0.038240274433679805, 'K_H': 0.1717105907397331, 'PURCHASE_TURN_LIMIT': 833, 'SUBSCORE3_TIGHT_TURN': 0, 'ROUGH_HASH': '0'}. Best is trial 51 with value: 1008510157.0.\u001b[0m\n"
     ]
    },
    {
     "name": "stdout",
     "output_type": "stream",
     "text": [
      "callback ok\n",
      "index_parallel=4\n",
      "sed -i 4_main.cpp -e 's/^constexpr double K_START = .*;  \\/\\/ OPTIMIZE \\[0\\.02, 0\\.06\\] LOG$/constexpr double K_START = 0.05631447075092061;  \\/\\/ OPTIMIZE [0.02, 0.06] LOG/' -e 's/^constexpr double K_END = .*;   \\/\\/ OPTIMIZE \\[0\\.01, 0\\.05\\] LOG$/constexpr double K_END = 0.038814112077721306;   \\/\\/ OPTIMIZE [0.01, 0.05] LOG/' -e 's/^constexpr double K_H = .*;      \\/\\/ OPTIMIZE \\[0\\.001, 0\\.999\\]$/constexpr double K_H = 0.17358487206684267;      \\/\\/ OPTIMIZE [0.001, 0.999]/' -e 's/^constexpr short PURCHASE_TURN_LIMIT = .*;  \\/\\/ OPTIMIZE \\[790, 870\\]$/constexpr short PURCHASE_TURN_LIMIT = 835;  \\/\\/ OPTIMIZE [790, 870]/' -e 's/^constexpr int SUBSCORE3_TIGHT_TURN = .*;     \\/\\/ OPTIMIZE \\[0, 2\\]$/constexpr int SUBSCORE3_TIGHT_TURN = 0;     \\/\\/ OPTIMIZE [0, 2]/' -e 's/^constexpr int ROUGH_HASH = .*;      \\/\\/ OPTIMIZE {0, 0b00000001, 0b00010001, 0b00010011, 0b00110011}$/constexpr int ROUGH_HASH = 0;      \\/\\/ OPTIMIZE {0, 0b00000001, 0b00010001, 0b00010011, 0b00110011}/'\n",
      "g++ 4_main.cpp -std=gnu++17 -O2 -DONLINE_JUDGE -o 4_main.cpp.out 2> /dev/null\n"
     ]
    },
    {
     "name": "stderr",
     "output_type": "stream",
     "text": [
      "\u001b[32m[I 2021-09-10 09:13:48,476]\u001b[0m Trial 85 finished with value: 1002569232.0 and parameters: {'K_START': 0.0559166193648018, 'K_END': 0.03933091015755389, 'K_H': 0.3165243068481609, 'PURCHASE_TURN_LIMIT': 835, 'SUBSCORE3_TIGHT_TURN': 0, 'ROUGH_HASH': '0'}. Best is trial 51 with value: 1008510157.0.\u001b[0m\n"
     ]
    },
    {
     "name": "stdout",
     "output_type": "stream",
     "text": [
      "callback ok\n",
      "index_parallel=5\n",
      "sed -i 5_main.cpp -e 's/^constexpr double K_START = .*;  \\/\\/ OPTIMIZE \\[0\\.02, 0\\.06\\] LOG$/constexpr double K_START = 0.05863383181628744;  \\/\\/ OPTIMIZE [0.02, 0.06] LOG/' -e 's/^constexpr double K_END = .*;   \\/\\/ OPTIMIZE \\[0\\.01, 0\\.05\\] LOG$/constexpr double K_END = 0.036271040106197625;   \\/\\/ OPTIMIZE [0.01, 0.05] LOG/' -e 's/^constexpr double K_H = .*;      \\/\\/ OPTIMIZE \\[0\\.001, 0\\.999\\]$/constexpr double K_H = 0.12616649855035175;      \\/\\/ OPTIMIZE [0.001, 0.999]/' -e 's/^constexpr short PURCHASE_TURN_LIMIT = .*;  \\/\\/ OPTIMIZE \\[790, 870\\]$/constexpr short PURCHASE_TURN_LIMIT = 836;  \\/\\/ OPTIMIZE [790, 870]/' -e 's/^constexpr int SUBSCORE3_TIGHT_TURN = .*;     \\/\\/ OPTIMIZE \\[0, 2\\]$/constexpr int SUBSCORE3_TIGHT_TURN = 0;     \\/\\/ OPTIMIZE [0, 2]/' -e 's/^constexpr int ROUGH_HASH = .*;      \\/\\/ OPTIMIZE {0, 0b00000001, 0b00010001, 0b00010011, 0b00110011}$/constexpr int ROUGH_HASH = 0;      \\/\\/ OPTIMIZE {0, 0b00000001, 0b00010001, 0b00010011, 0b00110011}/'\n",
      "g++ 5_main.cpp -std=gnu++17 -O2 -DONLINE_JUDGE -o 5_main.cpp.out 2> /dev/null\n"
     ]
    },
    {
     "name": "stderr",
     "output_type": "stream",
     "text": [
      "\u001b[32m[I 2021-09-10 09:13:57,405]\u001b[0m Trial 86 finished with value: 1003048113.0 and parameters: {'K_START': 0.059561620214801, 'K_END': 0.03851206183013473, 'K_H': 0.30968432549386904, 'PURCHASE_TURN_LIMIT': 835, 'SUBSCORE3_TIGHT_TURN': 0, 'ROUGH_HASH': '0'}. Best is trial 51 with value: 1008510157.0.\u001b[0m\n"
     ]
    },
    {
     "name": "stdout",
     "output_type": "stream",
     "text": [
      "callback ok\n",
      "index_parallel=6\n",
      "sed -i 6_main.cpp -e 's/^constexpr double K_START = .*;  \\/\\/ OPTIMIZE \\[0\\.02, 0\\.06\\] LOG$/constexpr double K_START = 0.053619655524394925;  \\/\\/ OPTIMIZE [0.02, 0.06] LOG/' -e 's/^constexpr double K_END = .*;   \\/\\/ OPTIMIZE \\[0\\.01, 0\\.05\\] LOG$/constexpr double K_END = 0.04192016389571362;   \\/\\/ OPTIMIZE [0.01, 0.05] LOG/' -e 's/^constexpr double K_H = .*;      \\/\\/ OPTIMIZE \\[0\\.001, 0\\.999\\]$/constexpr double K_H = 0.12627914535204568;      \\/\\/ OPTIMIZE [0.001, 0.999]/' -e 's/^constexpr short PURCHASE_TURN_LIMIT = .*;  \\/\\/ OPTIMIZE \\[790, 870\\]$/constexpr short PURCHASE_TURN_LIMIT = 842;  \\/\\/ OPTIMIZE [790, 870]/' -e 's/^constexpr int SUBSCORE3_TIGHT_TURN = .*;     \\/\\/ OPTIMIZE \\[0, 2\\]$/constexpr int SUBSCORE3_TIGHT_TURN = 0;     \\/\\/ OPTIMIZE [0, 2]/' -e 's/^constexpr int ROUGH_HASH = .*;      \\/\\/ OPTIMIZE {0, 0b00000001, 0b00010001, 0b00010011, 0b00110011}$/constexpr int ROUGH_HASH = 0;      \\/\\/ OPTIMIZE {0, 0b00000001, 0b00010001, 0b00010011, 0b00110011}/'\n",
      "g++ 6_main.cpp -std=gnu++17 -O2 -DONLINE_JUDGE -o 6_main.cpp.out 2> /dev/null\n"
     ]
    },
    {
     "name": "stderr",
     "output_type": "stream",
     "text": [
      "\u001b[32m[I 2021-09-10 09:15:39,101]\u001b[0m Trial 87 finished with value: 1003327924.0 and parameters: {'K_START': 0.05627722367087851, 'K_END': 0.04137640747297048, 'K_H': 0.32371199988001265, 'PURCHASE_TURN_LIMIT': 837, 'SUBSCORE3_TIGHT_TURN': 0, 'ROUGH_HASH': '0'}. Best is trial 51 with value: 1008510157.0.\u001b[0m\n"
     ]
    },
    {
     "name": "stdout",
     "output_type": "stream",
     "text": [
      "callback ok\n",
      "index_parallel=7\n",
      "sed -i 7_main.cpp -e 's/^constexpr double K_START = .*;  \\/\\/ OPTIMIZE \\[0\\.02, 0\\.06\\] LOG$/constexpr double K_START = 0.05375433200904208;  \\/\\/ OPTIMIZE [0.02, 0.06] LOG/' -e 's/^constexpr double K_END = .*;   \\/\\/ OPTIMIZE \\[0\\.01, 0\\.05\\] LOG$/constexpr double K_END = 0.02899656404216125;   \\/\\/ OPTIMIZE [0.01, 0.05] LOG/' -e 's/^constexpr double K_H = .*;      \\/\\/ OPTIMIZE \\[0\\.001, 0\\.999\\]$/constexpr double K_H = 0.175249106498266;      \\/\\/ OPTIMIZE [0.001, 0.999]/' -e 's/^constexpr short PURCHASE_TURN_LIMIT = .*;  \\/\\/ OPTIMIZE \\[790, 870\\]$/constexpr short PURCHASE_TURN_LIMIT = 841;  \\/\\/ OPTIMIZE [790, 870]/' -e 's/^constexpr int SUBSCORE3_TIGHT_TURN = .*;     \\/\\/ OPTIMIZE \\[0, 2\\]$/constexpr int SUBSCORE3_TIGHT_TURN = 2;     \\/\\/ OPTIMIZE [0, 2]/' -e 's/^constexpr int ROUGH_HASH = .*;      \\/\\/ OPTIMIZE {0, 0b00000001, 0b00010001, 0b00010011, 0b00110011}$/constexpr int ROUGH_HASH = 0;      \\/\\/ OPTIMIZE {0, 0b00000001, 0b00010001, 0b00010011, 0b00110011}/'\n",
      "g++ 7_main.cpp -std=gnu++17 -O2 -DONLINE_JUDGE -o 7_main.cpp.out 2> /dev/null\n"
     ]
    },
    {
     "name": "stderr",
     "output_type": "stream",
     "text": [
      "\u001b[32m[I 2021-09-10 09:17:04,062]\u001b[0m Trial 88 finished with value: 1004961528.0 and parameters: {'K_START': 0.05631447075092061, 'K_END': 0.038814112077721306, 'K_H': 0.17358487206684267, 'PURCHASE_TURN_LIMIT': 835, 'SUBSCORE3_TIGHT_TURN': 0, 'ROUGH_HASH': '0'}. Best is trial 51 with value: 1008510157.0.\u001b[0m\n"
     ]
    },
    {
     "name": "stdout",
     "output_type": "stream",
     "text": [
      "callback ok\n",
      "index_parallel=8\n",
      "sed -i 8_main.cpp -e 's/^constexpr double K_START = .*;  \\/\\/ OPTIMIZE \\[0\\.02, 0\\.06\\] LOG$/constexpr double K_START = 0.051198190123384994;  \\/\\/ OPTIMIZE [0.02, 0.06] LOG/' -e 's/^constexpr double K_END = .*;   \\/\\/ OPTIMIZE \\[0\\.01, 0\\.05\\] LOG$/constexpr double K_END = 0.03605917234953575;   \\/\\/ OPTIMIZE [0.01, 0.05] LOG/' -e 's/^constexpr double K_H = .*;      \\/\\/ OPTIMIZE \\[0\\.001, 0\\.999\\]$/constexpr double K_H = 0.1287668397142937;      \\/\\/ OPTIMIZE [0.001, 0.999]/' -e 's/^constexpr short PURCHASE_TURN_LIMIT = .*;  \\/\\/ OPTIMIZE \\[790, 870\\]$/constexpr short PURCHASE_TURN_LIMIT = 841;  \\/\\/ OPTIMIZE [790, 870]/' -e 's/^constexpr int SUBSCORE3_TIGHT_TURN = .*;     \\/\\/ OPTIMIZE \\[0, 2\\]$/constexpr int SUBSCORE3_TIGHT_TURN = 2;     \\/\\/ OPTIMIZE [0, 2]/' -e 's/^constexpr int ROUGH_HASH = .*;      \\/\\/ OPTIMIZE {0, 0b00000001, 0b00010001, 0b00010011, 0b00110011}$/constexpr int ROUGH_HASH = 0;      \\/\\/ OPTIMIZE {0, 0b00000001, 0b00010001, 0b00010011, 0b00110011}/'\n",
      "g++ 8_main.cpp -std=gnu++17 -O2 -DONLINE_JUDGE -o 8_main.cpp.out 2> /dev/null\n"
     ]
    },
    {
     "name": "stderr",
     "output_type": "stream",
     "text": [
      "\u001b[32m[I 2021-09-10 09:18:34,155]\u001b[0m Trial 89 finished with value: 1002636090.0 and parameters: {'K_START': 0.05863383181628744, 'K_END': 0.036271040106197625, 'K_H': 0.12616649855035175, 'PURCHASE_TURN_LIMIT': 836, 'SUBSCORE3_TIGHT_TURN': 0, 'ROUGH_HASH': '0'}. Best is trial 51 with value: 1008510157.0.\u001b[0m\n"
     ]
    },
    {
     "name": "stdout",
     "output_type": "stream",
     "text": [
      "callback ok\n",
      "index_parallel=9\n",
      "sed -i 9_main.cpp -e 's/^constexpr double K_START = .*;  \\/\\/ OPTIMIZE \\[0\\.02, 0\\.06\\] LOG$/constexpr double K_START = 0.050844040270792513;  \\/\\/ OPTIMIZE [0.02, 0.06] LOG/' -e 's/^constexpr double K_END = .*;   \\/\\/ OPTIMIZE \\[0\\.01, 0\\.05\\] LOG$/constexpr double K_END = 0.04279048250816939;   \\/\\/ OPTIMIZE [0.01, 0.05] LOG/' -e 's/^constexpr double K_H = .*;      \\/\\/ OPTIMIZE \\[0\\.001, 0\\.999\\]$/constexpr double K_H = 0.25844610296805;      \\/\\/ OPTIMIZE [0.001, 0.999]/' -e 's/^constexpr short PURCHASE_TURN_LIMIT = .*;  \\/\\/ OPTIMIZE \\[790, 870\\]$/constexpr short PURCHASE_TURN_LIMIT = 824;  \\/\\/ OPTIMIZE [790, 870]/' -e 's/^constexpr int SUBSCORE3_TIGHT_TURN = .*;     \\/\\/ OPTIMIZE \\[0, 2\\]$/constexpr int SUBSCORE3_TIGHT_TURN = 0;     \\/\\/ OPTIMIZE [0, 2]/' -e 's/^constexpr int ROUGH_HASH = .*;      \\/\\/ OPTIMIZE {0, 0b00000001, 0b00010001, 0b00010011, 0b00110011}$/constexpr int ROUGH_HASH = 0b00010011;      \\/\\/ OPTIMIZE {0, 0b00000001, 0b00010001, 0b00010011, 0b00110011}/'\n",
      "g++ 9_main.cpp -std=gnu++17 -O2 -DONLINE_JUDGE -o 9_main.cpp.out 2> /dev/null\n"
     ]
    },
    {
     "name": "stderr",
     "output_type": "stream",
     "text": [
      "\u001b[32m[I 2021-09-10 09:18:43,917]\u001b[0m Trial 90 finished with value: 1005689571.0 and parameters: {'K_START': 0.053619655524394925, 'K_END': 0.04192016389571362, 'K_H': 0.12627914535204568, 'PURCHASE_TURN_LIMIT': 842, 'SUBSCORE3_TIGHT_TURN': 0, 'ROUGH_HASH': '0'}. Best is trial 51 with value: 1008510157.0.\u001b[0m\n"
     ]
    },
    {
     "name": "stdout",
     "output_type": "stream",
     "text": [
      "callback ok\n",
      "index_parallel=10\n",
      "sed -i 10_main.cpp -e 's/^constexpr double K_START = .*;  \\/\\/ OPTIMIZE \\[0\\.02, 0\\.06\\] LOG$/constexpr double K_START = 0.05354788363889208;  \\/\\/ OPTIMIZE [0.02, 0.06] LOG/' -e 's/^constexpr double K_END = .*;   \\/\\/ OPTIMIZE \\[0\\.01, 0\\.05\\] LOG$/constexpr double K_END = 0.04213516738561501;   \\/\\/ OPTIMIZE [0.01, 0.05] LOG/' -e 's/^constexpr double K_H = .*;      \\/\\/ OPTIMIZE \\[0\\.001, 0\\.999\\]$/constexpr double K_H = 0.0590822581685167;      \\/\\/ OPTIMIZE [0.001, 0.999]/' -e 's/^constexpr short PURCHASE_TURN_LIMIT = .*;  \\/\\/ OPTIMIZE \\[790, 870\\]$/constexpr short PURCHASE_TURN_LIMIT = 841;  \\/\\/ OPTIMIZE [790, 870]/' -e 's/^constexpr int SUBSCORE3_TIGHT_TURN = .*;     \\/\\/ OPTIMIZE \\[0, 2\\]$/constexpr int SUBSCORE3_TIGHT_TURN = 0;     \\/\\/ OPTIMIZE [0, 2]/' -e 's/^constexpr int ROUGH_HASH = .*;      \\/\\/ OPTIMIZE {0, 0b00000001, 0b00010001, 0b00010011, 0b00110011}$/constexpr int ROUGH_HASH = 0;      \\/\\/ OPTIMIZE {0, 0b00000001, 0b00010001, 0b00010011, 0b00110011}/'\n",
      "g++ 10_main.cpp -std=gnu++17 -O2 -DONLINE_JUDGE -o 10_main.cpp.out 2> /dev/null\n"
     ]
    },
    {
     "name": "stderr",
     "output_type": "stream",
     "text": [
      "\u001b[32m[I 2021-09-10 09:20:21,894]\u001b[0m Trial 91 finished with value: 986676917.0 and parameters: {'K_START': 0.05375433200904208, 'K_END': 0.02899656404216125, 'K_H': 0.175249106498266, 'PURCHASE_TURN_LIMIT': 841, 'SUBSCORE3_TIGHT_TURN': 2, 'ROUGH_HASH': '0'}. Best is trial 51 with value: 1008510157.0.\u001b[0m\n"
     ]
    },
    {
     "name": "stdout",
     "output_type": "stream",
     "text": [
      "callback ok\n",
      "index_parallel=11\n",
      "sed -i 11_main.cpp -e 's/^constexpr double K_START = .*;  \\/\\/ OPTIMIZE \\[0\\.02, 0\\.06\\] LOG$/constexpr double K_START = 0.050685832500404586;  \\/\\/ OPTIMIZE [0.02, 0.06] LOG/' -e 's/^constexpr double K_END = .*;   \\/\\/ OPTIMIZE \\[0\\.01, 0\\.05\\] LOG$/constexpr double K_END = 0.04239698657011358;   \\/\\/ OPTIMIZE [0.01, 0.05] LOG/' -e 's/^constexpr double K_H = .*;      \\/\\/ OPTIMIZE \\[0\\.001, 0\\.999\\]$/constexpr double K_H = 0.24618579856957654;      \\/\\/ OPTIMIZE [0.001, 0.999]/' -e 's/^constexpr short PURCHASE_TURN_LIMIT = .*;  \\/\\/ OPTIMIZE \\[790, 870\\]$/constexpr short PURCHASE_TURN_LIMIT = 824;  \\/\\/ OPTIMIZE [790, 870]/' -e 's/^constexpr int SUBSCORE3_TIGHT_TURN = .*;     \\/\\/ OPTIMIZE \\[0, 2\\]$/constexpr int SUBSCORE3_TIGHT_TURN = 0;     \\/\\/ OPTIMIZE [0, 2]/' -e 's/^constexpr int ROUGH_HASH = .*;      \\/\\/ OPTIMIZE {0, 0b00000001, 0b00010001, 0b00010011, 0b00110011}$/constexpr int ROUGH_HASH = 0b00010011;      \\/\\/ OPTIMIZE {0, 0b00000001, 0b00010001, 0b00010011, 0b00110011}/'\n",
      "g++ 11_main.cpp -std=gnu++17 -O2 -DONLINE_JUDGE -o 11_main.cpp.out 2> /dev/null\n"
     ]
    },
    {
     "name": "stderr",
     "output_type": "stream",
     "text": [
      "\u001b[32m[I 2021-09-10 09:21:46,687]\u001b[0m Trial 92 finished with value: 990086104.0 and parameters: {'K_START': 0.051198190123384994, 'K_END': 0.03605917234953575, 'K_H': 0.1287668397142937, 'PURCHASE_TURN_LIMIT': 841, 'SUBSCORE3_TIGHT_TURN': 2, 'ROUGH_HASH': '0'}. Best is trial 51 with value: 1008510157.0.\u001b[0m\n"
     ]
    },
    {
     "name": "stdout",
     "output_type": "stream",
     "text": [
      "callback ok\n",
      "index_parallel=0\n",
      "sed -i 0_main.cpp -e 's/^constexpr double K_START = .*;  \\/\\/ OPTIMIZE \\[0\\.02, 0\\.06\\] LOG$/constexpr double K_START = 0.05548811267837123;  \\/\\/ OPTIMIZE [0.02, 0.06] LOG/' -e 's/^constexpr double K_END = .*;   \\/\\/ OPTIMIZE \\[0\\.01, 0\\.05\\] LOG$/constexpr double K_END = 0.042018685118210185;   \\/\\/ OPTIMIZE [0.01, 0.05] LOG/' -e 's/^constexpr double K_H = .*;      \\/\\/ OPTIMIZE \\[0\\.001, 0\\.999\\]$/constexpr double K_H = 0.051353681254022954;      \\/\\/ OPTIMIZE [0.001, 0.999]/' -e 's/^constexpr short PURCHASE_TURN_LIMIT = .*;  \\/\\/ OPTIMIZE \\[790, 870\\]$/constexpr short PURCHASE_TURN_LIMIT = 843;  \\/\\/ OPTIMIZE [790, 870]/' -e 's/^constexpr int SUBSCORE3_TIGHT_TURN = .*;     \\/\\/ OPTIMIZE \\[0, 2\\]$/constexpr int SUBSCORE3_TIGHT_TURN = 0;     \\/\\/ OPTIMIZE [0, 2]/' -e 's/^constexpr int ROUGH_HASH = .*;      \\/\\/ OPTIMIZE {0, 0b00000001, 0b00010001, 0b00010011, 0b00110011}$/constexpr int ROUGH_HASH = 0b00010011;      \\/\\/ OPTIMIZE {0, 0b00000001, 0b00010001, 0b00010011, 0b00110011}/'\n",
      "g++ 0_main.cpp -std=gnu++17 -O2 -DONLINE_JUDGE -o 0_main.cpp.out 2> /dev/null\n"
     ]
    },
    {
     "name": "stderr",
     "output_type": "stream",
     "text": [
      "\u001b[32m[I 2021-09-10 09:22:29,968]\u001b[0m Trial 93 finished with value: 991445698.0 and parameters: {'K_START': 0.050844040270792513, 'K_END': 0.04279048250816939, 'K_H': 0.25844610296805, 'PURCHASE_TURN_LIMIT': 824, 'SUBSCORE3_TIGHT_TURN': 0, 'ROUGH_HASH': '0b00010011'}. Best is trial 51 with value: 1008510157.0.\u001b[0m\n"
     ]
    },
    {
     "name": "stdout",
     "output_type": "stream",
     "text": [
      "callback ok\n",
      "index_parallel=1\n",
      "sed -i 1_main.cpp -e 's/^constexpr double K_START = .*;  \\/\\/ OPTIMIZE \\[0\\.02, 0\\.06\\] LOG$/constexpr double K_START = 0.055287610275035204;  \\/\\/ OPTIMIZE [0.02, 0.06] LOG/' -e 's/^constexpr double K_END = .*;   \\/\\/ OPTIMIZE \\[0\\.01, 0\\.05\\] LOG$/constexpr double K_END = 0.04216355575806579;   \\/\\/ OPTIMIZE [0.01, 0.05] LOG/' -e 's/^constexpr double K_H = .*;      \\/\\/ OPTIMIZE \\[0\\.001, 0\\.999\\]$/constexpr double K_H = 0.048956279414021725;      \\/\\/ OPTIMIZE [0.001, 0.999]/' -e 's/^constexpr short PURCHASE_TURN_LIMIT = .*;  \\/\\/ OPTIMIZE \\[790, 870\\]$/constexpr short PURCHASE_TURN_LIMIT = 829;  \\/\\/ OPTIMIZE [790, 870]/' -e 's/^constexpr int SUBSCORE3_TIGHT_TURN = .*;     \\/\\/ OPTIMIZE \\[0, 2\\]$/constexpr int SUBSCORE3_TIGHT_TURN = 0;     \\/\\/ OPTIMIZE [0, 2]/' -e 's/^constexpr int ROUGH_HASH = .*;      \\/\\/ OPTIMIZE {0, 0b00000001, 0b00010001, 0b00010011, 0b00110011}$/constexpr int ROUGH_HASH = 0;      \\/\\/ OPTIMIZE {0, 0b00000001, 0b00010001, 0b00010011, 0b00110011}/'\n",
      "g++ 1_main.cpp -std=gnu++17 -O2 -DONLINE_JUDGE -o 1_main.cpp.out 2> /dev/null\n"
     ]
    },
    {
     "name": "stderr",
     "output_type": "stream",
     "text": [
      "\u001b[32m[I 2021-09-10 09:23:27,119]\u001b[0m Trial 94 finished with value: 1006954027.0 and parameters: {'K_START': 0.05354788363889208, 'K_END': 0.04213516738561501, 'K_H': 0.0590822581685167, 'PURCHASE_TURN_LIMIT': 841, 'SUBSCORE3_TIGHT_TURN': 0, 'ROUGH_HASH': '0'}. Best is trial 51 with value: 1008510157.0.\u001b[0m\n"
     ]
    },
    {
     "name": "stdout",
     "output_type": "stream",
     "text": [
      "callback ok\n",
      "index_parallel=2\n",
      "sed -i 2_main.cpp -e 's/^constexpr double K_START = .*;  \\/\\/ OPTIMIZE \\[0\\.02, 0\\.06\\] LOG$/constexpr double K_START = 0.05490668224161049;  \\/\\/ OPTIMIZE [0.02, 0.06] LOG/' -e 's/^constexpr double K_END = .*;   \\/\\/ OPTIMIZE \\[0\\.01, 0\\.05\\] LOG$/constexpr double K_END = 0.04130982543558871;   \\/\\/ OPTIMIZE [0.01, 0.05] LOG/' -e 's/^constexpr double K_H = .*;      \\/\\/ OPTIMIZE \\[0\\.001, 0\\.999\\]$/constexpr double K_H = 0.050898932380228815;      \\/\\/ OPTIMIZE [0.001, 0.999]/' -e 's/^constexpr short PURCHASE_TURN_LIMIT = .*;  \\/\\/ OPTIMIZE \\[790, 870\\]$/constexpr short PURCHASE_TURN_LIMIT = 843;  \\/\\/ OPTIMIZE [790, 870]/' -e 's/^constexpr int SUBSCORE3_TIGHT_TURN = .*;     \\/\\/ OPTIMIZE \\[0, 2\\]$/constexpr int SUBSCORE3_TIGHT_TURN = 0;     \\/\\/ OPTIMIZE [0, 2]/' -e 's/^constexpr int ROUGH_HASH = .*;      \\/\\/ OPTIMIZE {0, 0b00000001, 0b00010001, 0b00010011, 0b00110011}$/constexpr int ROUGH_HASH = 0;      \\/\\/ OPTIMIZE {0, 0b00000001, 0b00010001, 0b00010011, 0b00110011}/'\n",
      "g++ 2_main.cpp -std=gnu++17 -O2 -DONLINE_JUDGE -o 2_main.cpp.out 2> /dev/null\n"
     ]
    },
    {
     "name": "stderr",
     "output_type": "stream",
     "text": [
      "\u001b[32m[I 2021-09-10 09:24:16,434]\u001b[0m Trial 95 finished with value: 991978249.0 and parameters: {'K_START': 0.050685832500404586, 'K_END': 0.04239698657011358, 'K_H': 0.24618579856957654, 'PURCHASE_TURN_LIMIT': 824, 'SUBSCORE3_TIGHT_TURN': 0, 'ROUGH_HASH': '0b00010011'}. Best is trial 51 with value: 1008510157.0.\u001b[0m\n"
     ]
    },
    {
     "name": "stdout",
     "output_type": "stream",
     "text": [
      "callback ok\n",
      "index_parallel=3\n",
      "sed -i 3_main.cpp -e 's/^constexpr double K_START = .*;  \\/\\/ OPTIMIZE \\[0\\.02, 0\\.06\\] LOG$/constexpr double K_START = 0.05492355099675447;  \\/\\/ OPTIMIZE [0.02, 0.06] LOG/' -e 's/^constexpr double K_END = .*;   \\/\\/ OPTIMIZE \\[0\\.01, 0\\.05\\] LOG$/constexpr double K_END = 0.04494726696699126;   \\/\\/ OPTIMIZE [0.01, 0.05] LOG/' -e 's/^constexpr double K_H = .*;      \\/\\/ OPTIMIZE \\[0\\.001, 0\\.999\\]$/constexpr double K_H = 0.06910956061135973;      \\/\\/ OPTIMIZE [0.001, 0.999]/' -e 's/^constexpr short PURCHASE_TURN_LIMIT = .*;  \\/\\/ OPTIMIZE \\[790, 870\\]$/constexpr short PURCHASE_TURN_LIMIT = 842;  \\/\\/ OPTIMIZE [790, 870]/' -e 's/^constexpr int SUBSCORE3_TIGHT_TURN = .*;     \\/\\/ OPTIMIZE \\[0, 2\\]$/constexpr int SUBSCORE3_TIGHT_TURN = 0;     \\/\\/ OPTIMIZE [0, 2]/' -e 's/^constexpr int ROUGH_HASH = .*;      \\/\\/ OPTIMIZE {0, 0b00000001, 0b00010001, 0b00010011, 0b00110011}$/constexpr int ROUGH_HASH = 0;      \\/\\/ OPTIMIZE {0, 0b00000001, 0b00010001, 0b00010011, 0b00110011}/'\n",
      "g++ 3_main.cpp -std=gnu++17 -O2 -DONLINE_JUDGE -o 3_main.cpp.out 2> /dev/null\n"
     ]
    },
    {
     "name": "stderr",
     "output_type": "stream",
     "text": [
      "\u001b[32m[I 2021-09-10 09:25:43,797]\u001b[0m Trial 96 finished with value: 997338107.0 and parameters: {'K_START': 0.05548811267837123, 'K_END': 0.042018685118210185, 'K_H': 0.051353681254022954, 'PURCHASE_TURN_LIMIT': 843, 'SUBSCORE3_TIGHT_TURN': 0, 'ROUGH_HASH': '0b00010011'}. Best is trial 51 with value: 1008510157.0.\u001b[0m\n"
     ]
    },
    {
     "name": "stdout",
     "output_type": "stream",
     "text": [
      "callback ok\n",
      "index_parallel=4\n",
      "sed -i 4_main.cpp -e 's/^constexpr double K_START = .*;  \\/\\/ OPTIMIZE \\[0\\.02, 0\\.06\\] LOG$/constexpr double K_START = 0.05364954663657334;  \\/\\/ OPTIMIZE [0.02, 0.06] LOG/' -e 's/^constexpr double K_END = .*;   \\/\\/ OPTIMIZE \\[0\\.01, 0\\.05\\] LOG$/constexpr double K_END = 0.0453857967494178;   \\/\\/ OPTIMIZE [0.01, 0.05] LOG/' -e 's/^constexpr double K_H = .*;      \\/\\/ OPTIMIZE \\[0\\.001, 0\\.999\\]$/constexpr double K_H = 0.06216785958910845;      \\/\\/ OPTIMIZE [0.001, 0.999]/' -e 's/^constexpr short PURCHASE_TURN_LIMIT = .*;  \\/\\/ OPTIMIZE \\[790, 870\\]$/constexpr short PURCHASE_TURN_LIMIT = 842;  \\/\\/ OPTIMIZE [790, 870]/' -e 's/^constexpr int SUBSCORE3_TIGHT_TURN = .*;     \\/\\/ OPTIMIZE \\[0, 2\\]$/constexpr int SUBSCORE3_TIGHT_TURN = 0;     \\/\\/ OPTIMIZE [0, 2]/' -e 's/^constexpr int ROUGH_HASH = .*;      \\/\\/ OPTIMIZE {0, 0b00000001, 0b00010001, 0b00010011, 0b00110011}$/constexpr int ROUGH_HASH = 0;      \\/\\/ OPTIMIZE {0, 0b00000001, 0b00010001, 0b00010011, 0b00110011}/'\n",
      "g++ 4_main.cpp -std=gnu++17 -O2 -DONLINE_JUDGE -o 4_main.cpp.out 2> /dev/null\n"
     ]
    },
    {
     "name": "stderr",
     "output_type": "stream",
     "text": [
      "\u001b[32m[I 2021-09-10 09:27:06,548]\u001b[0m Trial 97 finished with value: 1004516875.0 and parameters: {'K_START': 0.055287610275035204, 'K_END': 0.04216355575806579, 'K_H': 0.048956279414021725, 'PURCHASE_TURN_LIMIT': 829, 'SUBSCORE3_TIGHT_TURN': 0, 'ROUGH_HASH': '0'}. Best is trial 51 with value: 1008510157.0.\u001b[0m\n"
     ]
    },
    {
     "name": "stdout",
     "output_type": "stream",
     "text": [
      "callback ok\n",
      "index_parallel=5\n",
      "sed -i 5_main.cpp -e 's/^constexpr double K_START = .*;  \\/\\/ OPTIMIZE \\[0\\.02, 0\\.06\\] LOG$/constexpr double K_START = 0.053753989114728104;  \\/\\/ OPTIMIZE [0.02, 0.06] LOG/' -e 's/^constexpr double K_END = .*;   \\/\\/ OPTIMIZE \\[0\\.01, 0\\.05\\] LOG$/constexpr double K_END = 0.04518638561787887;   \\/\\/ OPTIMIZE [0.01, 0.05] LOG/' -e 's/^constexpr double K_H = .*;      \\/\\/ OPTIMIZE \\[0\\.001, 0\\.999\\]$/constexpr double K_H = 0.2313446169899461;      \\/\\/ OPTIMIZE [0.001, 0.999]/' -e 's/^constexpr short PURCHASE_TURN_LIMIT = .*;  \\/\\/ OPTIMIZE \\[790, 870\\]$/constexpr short PURCHASE_TURN_LIMIT = 838;  \\/\\/ OPTIMIZE [790, 870]/' -e 's/^constexpr int SUBSCORE3_TIGHT_TURN = .*;     \\/\\/ OPTIMIZE \\[0, 2\\]$/constexpr int SUBSCORE3_TIGHT_TURN = 0;     \\/\\/ OPTIMIZE [0, 2]/' -e 's/^constexpr int ROUGH_HASH = .*;      \\/\\/ OPTIMIZE {0, 0b00000001, 0b00010001, 0b00010011, 0b00110011}$/constexpr int ROUGH_HASH = 0;      \\/\\/ OPTIMIZE {0, 0b00000001, 0b00010001, 0b00010011, 0b00110011}/'\n",
      "g++ 5_main.cpp -std=gnu++17 -O2 -DONLINE_JUDGE -o 5_main.cpp.out 2> /dev/null\n"
     ]
    },
    {
     "name": "stderr",
     "output_type": "stream",
     "text": [
      "\u001b[32m[I 2021-09-10 09:28:08,269]\u001b[0m Trial 98 finished with value: 1007142639.0 and parameters: {'K_START': 0.05490668224161049, 'K_END': 0.04130982543558871, 'K_H': 0.050898932380228815, 'PURCHASE_TURN_LIMIT': 843, 'SUBSCORE3_TIGHT_TURN': 0, 'ROUGH_HASH': '0'}. Best is trial 51 with value: 1008510157.0.\u001b[0m\n"
     ]
    },
    {
     "name": "stdout",
     "output_type": "stream",
     "text": [
      "callback ok\n",
      "index_parallel=6\n",
      "sed -i 6_main.cpp -e 's/^constexpr double K_START = .*;  \\/\\/ OPTIMIZE \\[0\\.02, 0\\.06\\] LOG$/constexpr double K_START = 0.05345975930537189;  \\/\\/ OPTIMIZE [0.02, 0.06] LOG/' -e 's/^constexpr double K_END = .*;   \\/\\/ OPTIMIZE \\[0\\.01, 0\\.05\\] LOG$/constexpr double K_END = 0.04518097596501836;   \\/\\/ OPTIMIZE [0.01, 0.05] LOG/' -e 's/^constexpr double K_H = .*;      \\/\\/ OPTIMIZE \\[0\\.001, 0\\.999\\]$/constexpr double K_H = 0.05923057967702315;      \\/\\/ OPTIMIZE [0.001, 0.999]/' -e 's/^constexpr short PURCHASE_TURN_LIMIT = .*;  \\/\\/ OPTIMIZE \\[790, 870\\]$/constexpr short PURCHASE_TURN_LIMIT = 843;  \\/\\/ OPTIMIZE [790, 870]/' -e 's/^constexpr int SUBSCORE3_TIGHT_TURN = .*;     \\/\\/ OPTIMIZE \\[0, 2\\]$/constexpr int SUBSCORE3_TIGHT_TURN = 0;     \\/\\/ OPTIMIZE [0, 2]/' -e 's/^constexpr int ROUGH_HASH = .*;      \\/\\/ OPTIMIZE {0, 0b00000001, 0b00010001, 0b00010011, 0b00110011}$/constexpr int ROUGH_HASH = 0;      \\/\\/ OPTIMIZE {0, 0b00000001, 0b00010001, 0b00010011, 0b00110011}/'\n",
      "g++ 6_main.cpp -std=gnu++17 -O2 -DONLINE_JUDGE -o 6_main.cpp.out 2> /dev/null\n"
     ]
    },
    {
     "name": "stderr",
     "output_type": "stream",
     "text": [
      "\u001b[32m[I 2021-09-10 09:28:55,094]\u001b[0m Trial 99 finished with value: 1006557388.0 and parameters: {'K_START': 0.05492355099675447, 'K_END': 0.04494726696699126, 'K_H': 0.06910956061135973, 'PURCHASE_TURN_LIMIT': 842, 'SUBSCORE3_TIGHT_TURN': 0, 'ROUGH_HASH': '0'}. Best is trial 51 with value: 1008510157.0.\u001b[0m\n"
     ]
    },
    {
     "name": "stdout",
     "output_type": "stream",
     "text": [
      "callback ok\n",
      "index_parallel=7\n",
      "sed -i 7_main.cpp -e 's/^constexpr double K_START = .*;  \\/\\/ OPTIMIZE \\[0\\.02, 0\\.06\\] LOG$/constexpr double K_START = 0.05403688473655136;  \\/\\/ OPTIMIZE [0.02, 0.06] LOG/' -e 's/^constexpr double K_END = .*;   \\/\\/ OPTIMIZE \\[0\\.01, 0\\.05\\] LOG$/constexpr double K_END = 0.04537124450587486;   \\/\\/ OPTIMIZE [0.01, 0.05] LOG/' -e 's/^constexpr double K_H = .*;      \\/\\/ OPTIMIZE \\[0\\.001, 0\\.999\\]$/constexpr double K_H = 0.07328962811540318;      \\/\\/ OPTIMIZE [0.001, 0.999]/' -e 's/^constexpr short PURCHASE_TURN_LIMIT = .*;  \\/\\/ OPTIMIZE \\[790, 870\\]$/constexpr short PURCHASE_TURN_LIMIT = 843;  \\/\\/ OPTIMIZE [790, 870]/' -e 's/^constexpr int SUBSCORE3_TIGHT_TURN = .*;     \\/\\/ OPTIMIZE \\[0, 2\\]$/constexpr int SUBSCORE3_TIGHT_TURN = 0;     \\/\\/ OPTIMIZE [0, 2]/' -e 's/^constexpr int ROUGH_HASH = .*;      \\/\\/ OPTIMIZE {0, 0b00000001, 0b00010001, 0b00010011, 0b00110011}$/constexpr int ROUGH_HASH = 0;      \\/\\/ OPTIMIZE {0, 0b00000001, 0b00010001, 0b00010011, 0b00110011}/'\n",
      "g++ 7_main.cpp -std=gnu++17 -O2 -DONLINE_JUDGE -o 7_main.cpp.out 2> /dev/null\n"
     ]
    },
    {
     "name": "stderr",
     "output_type": "stream",
     "text": [
      "\u001b[32m[I 2021-09-10 09:30:20,217]\u001b[0m Trial 100 finished with value: 1005527922.0 and parameters: {'K_START': 0.05364954663657334, 'K_END': 0.0453857967494178, 'K_H': 0.06216785958910845, 'PURCHASE_TURN_LIMIT': 842, 'SUBSCORE3_TIGHT_TURN': 0, 'ROUGH_HASH': '0'}. Best is trial 51 with value: 1008510157.0.\u001b[0m\n"
     ]
    },
    {
     "name": "stdout",
     "output_type": "stream",
     "text": [
      "callback ok\n",
      "index_parallel=8\n",
      "sed -i 8_main.cpp -e 's/^constexpr double K_START = .*;  \\/\\/ OPTIMIZE \\[0\\.02, 0\\.06\\] LOG$/constexpr double K_START = 0.05359936938569377;  \\/\\/ OPTIMIZE [0.02, 0.06] LOG/' -e 's/^constexpr double K_END = .*;   \\/\\/ OPTIMIZE \\[0\\.01, 0\\.05\\] LOG$/constexpr double K_END = 0.044786957781568305;   \\/\\/ OPTIMIZE [0.01, 0.05] LOG/' -e 's/^constexpr double K_H = .*;      \\/\\/ OPTIMIZE \\[0\\.001, 0\\.999\\]$/constexpr double K_H = 0.07866398809521327;      \\/\\/ OPTIMIZE [0.001, 0.999]/' -e 's/^constexpr short PURCHASE_TURN_LIMIT = .*;  \\/\\/ OPTIMIZE \\[790, 870\\]$/constexpr short PURCHASE_TURN_LIMIT = 844;  \\/\\/ OPTIMIZE [790, 870]/' -e 's/^constexpr int SUBSCORE3_TIGHT_TURN = .*;     \\/\\/ OPTIMIZE \\[0, 2\\]$/constexpr int SUBSCORE3_TIGHT_TURN = 0;     \\/\\/ OPTIMIZE [0, 2]/' -e 's/^constexpr int ROUGH_HASH = .*;      \\/\\/ OPTIMIZE {0, 0b00000001, 0b00010001, 0b00010011, 0b00110011}$/constexpr int ROUGH_HASH = 0;      \\/\\/ OPTIMIZE {0, 0b00000001, 0b00010001, 0b00010011, 0b00110011}/'\n",
      "g++ 8_main.cpp -std=gnu++17 -O2 -DONLINE_JUDGE -o 8_main.cpp.out 2> /dev/null\n"
     ]
    },
    {
     "name": "stderr",
     "output_type": "stream",
     "text": [
      "\u001b[32m[I 2021-09-10 09:31:46,886]\u001b[0m Trial 101 finished with value: 1008984726.0 and parameters: {'K_START': 0.053753989114728104, 'K_END': 0.04518638561787887, 'K_H': 0.2313446169899461, 'PURCHASE_TURN_LIMIT': 838, 'SUBSCORE3_TIGHT_TURN': 0, 'ROUGH_HASH': '0'}. Best is trial 101 with value: 1008984726.0.\u001b[0m\n"
     ]
    },
    {
     "name": "stdout",
     "output_type": "stream",
     "text": [
      "Updated! 1008984726.0\n",
      "callback ok\n",
      "index_parallel=9\n",
      "sed -i 9_main.cpp -e 's/^constexpr double K_START = .*;  \\/\\/ OPTIMIZE \\[0\\.02, 0\\.06\\] LOG$/constexpr double K_START = 0.04924385553844223;  \\/\\/ OPTIMIZE [0.02, 0.06] LOG/' -e 's/^constexpr double K_END = .*;   \\/\\/ OPTIMIZE \\[0\\.01, 0\\.05\\] LOG$/constexpr double K_END = 0.04797066487892165;   \\/\\/ OPTIMIZE [0.01, 0.05] LOG/' -e 's/^constexpr double K_H = .*;      \\/\\/ OPTIMIZE \\[0\\.001, 0\\.999\\]$/constexpr double K_H = 0.018795998887973307;      \\/\\/ OPTIMIZE [0.001, 0.999]/' -e 's/^constexpr short PURCHASE_TURN_LIMIT = .*;  \\/\\/ OPTIMIZE \\[790, 870\\]$/constexpr short PURCHASE_TURN_LIMIT = 843;  \\/\\/ OPTIMIZE [790, 870]/' -e 's/^constexpr int SUBSCORE3_TIGHT_TURN = .*;     \\/\\/ OPTIMIZE \\[0, 2\\]$/constexpr int SUBSCORE3_TIGHT_TURN = 0;     \\/\\/ OPTIMIZE [0, 2]/' -e 's/^constexpr int ROUGH_HASH = .*;      \\/\\/ OPTIMIZE {0, 0b00000001, 0b00010001, 0b00010011, 0b00110011}$/constexpr int ROUGH_HASH = 0;      \\/\\/ OPTIMIZE {0, 0b00000001, 0b00010001, 0b00010011, 0b00110011}/'\n",
      "g++ 9_main.cpp -std=gnu++17 -O2 -DONLINE_JUDGE -o 9_main.cpp.out 2> /dev/null\n"
     ]
    },
    {
     "name": "stderr",
     "output_type": "stream",
     "text": [
      "\u001b[32m[I 2021-09-10 09:32:54,286]\u001b[0m Trial 102 finished with value: 1006625928.0 and parameters: {'K_START': 0.05345975930537189, 'K_END': 0.04518097596501836, 'K_H': 0.05923057967702315, 'PURCHASE_TURN_LIMIT': 843, 'SUBSCORE3_TIGHT_TURN': 0, 'ROUGH_HASH': '0'}. Best is trial 101 with value: 1008984726.0.\u001b[0m\n"
     ]
    },
    {
     "name": "stdout",
     "output_type": "stream",
     "text": [
      "callback ok\n",
      "index_parallel=10\n",
      "sed -i 10_main.cpp -e 's/^constexpr double K_START = .*;  \\/\\/ OPTIMIZE \\[0\\.02, 0\\.06\\] LOG$/constexpr double K_START = 0.04887371703088214;  \\/\\/ OPTIMIZE [0.02, 0.06] LOG/' -e 's/^constexpr double K_END = .*;   \\/\\/ OPTIMIZE \\[0\\.01, 0\\.05\\] LOG$/constexpr double K_END = 0.04780974019247183;   \\/\\/ OPTIMIZE [0.01, 0.05] LOG/' -e 's/^constexpr double K_H = .*;      \\/\\/ OPTIMIZE \\[0\\.001, 0\\.999\\]$/constexpr double K_H = 0.07593780466612124;      \\/\\/ OPTIMIZE [0.001, 0.999]/' -e 's/^constexpr short PURCHASE_TURN_LIMIT = .*;  \\/\\/ OPTIMIZE \\[790, 870\\]$/constexpr short PURCHASE_TURN_LIMIT = 790;  \\/\\/ OPTIMIZE [790, 870]/' -e 's/^constexpr int SUBSCORE3_TIGHT_TURN = .*;     \\/\\/ OPTIMIZE \\[0, 2\\]$/constexpr int SUBSCORE3_TIGHT_TURN = 0;     \\/\\/ OPTIMIZE [0, 2]/' -e 's/^constexpr int ROUGH_HASH = .*;      \\/\\/ OPTIMIZE {0, 0b00000001, 0b00010001, 0b00010011, 0b00110011}$/constexpr int ROUGH_HASH = 0;      \\/\\/ OPTIMIZE {0, 0b00000001, 0b00010001, 0b00010011, 0b00110011}/'\n",
      "g++ 10_main.cpp -std=gnu++17 -O2 -DONLINE_JUDGE -o 10_main.cpp.out 2> /dev/null\n"
     ]
    },
    {
     "name": "stderr",
     "output_type": "stream",
     "text": [
      "\u001b[32m[I 2021-09-10 09:33:40,688]\u001b[0m Trial 103 finished with value: 1006248433.0 and parameters: {'K_START': 0.05403688473655136, 'K_END': 0.04537124450587486, 'K_H': 0.07328962811540318, 'PURCHASE_TURN_LIMIT': 843, 'SUBSCORE3_TIGHT_TURN': 0, 'ROUGH_HASH': '0'}. Best is trial 101 with value: 1008984726.0.\u001b[0m\n"
     ]
    },
    {
     "name": "stdout",
     "output_type": "stream",
     "text": [
      "callback ok\n",
      "index_parallel=11\n",
      "sed -i 11_main.cpp -e 's/^constexpr double K_START = .*;  \\/\\/ OPTIMIZE \\[0\\.02, 0\\.06\\] LOG$/constexpr double K_START = 0.049398906964744214;  \\/\\/ OPTIMIZE [0.02, 0.06] LOG/' -e 's/^constexpr double K_END = .*;   \\/\\/ OPTIMIZE \\[0\\.01, 0\\.05\\] LOG$/constexpr double K_END = 0.047682663074322305;   \\/\\/ OPTIMIZE [0.01, 0.05] LOG/' -e 's/^constexpr double K_H = .*;      \\/\\/ OPTIMIZE \\[0\\.001, 0\\.999\\]$/constexpr double K_H = 0.0236543018958112;      \\/\\/ OPTIMIZE [0.001, 0.999]/' -e 's/^constexpr short PURCHASE_TURN_LIMIT = .*;  \\/\\/ OPTIMIZE \\[790, 870\\]$/constexpr short PURCHASE_TURN_LIMIT = 849;  \\/\\/ OPTIMIZE [790, 870]/' -e 's/^constexpr int SUBSCORE3_TIGHT_TURN = .*;     \\/\\/ OPTIMIZE \\[0, 2\\]$/constexpr int SUBSCORE3_TIGHT_TURN = 0;     \\/\\/ OPTIMIZE [0, 2]/' -e 's/^constexpr int ROUGH_HASH = .*;      \\/\\/ OPTIMIZE {0, 0b00000001, 0b00010001, 0b00010011, 0b00110011}$/constexpr int ROUGH_HASH = 0;      \\/\\/ OPTIMIZE {0, 0b00000001, 0b00010001, 0b00010011, 0b00110011}/'\n",
      "g++ 11_main.cpp -std=gnu++17 -O2 -DONLINE_JUDGE -o 11_main.cpp.out 2> /dev/null\n"
     ]
    },
    {
     "name": "stderr",
     "output_type": "stream",
     "text": [
      "\u001b[32m[I 2021-09-10 09:35:06,974]\u001b[0m Trial 104 finished with value: 1004792781.0 and parameters: {'K_START': 0.05359936938569377, 'K_END': 0.044786957781568305, 'K_H': 0.07866398809521327, 'PURCHASE_TURN_LIMIT': 844, 'SUBSCORE3_TIGHT_TURN': 0, 'ROUGH_HASH': '0'}. Best is trial 101 with value: 1008984726.0.\u001b[0m\n"
     ]
    },
    {
     "name": "stdout",
     "output_type": "stream",
     "text": [
      "callback ok\n",
      "index_parallel=0\n",
      "sed -i 0_main.cpp -e 's/^constexpr double K_START = .*;  \\/\\/ OPTIMIZE \\[0\\.02, 0\\.06\\] LOG$/constexpr double K_START = 0.04960610314169227;  \\/\\/ OPTIMIZE [0.02, 0.06] LOG/' -e 's/^constexpr double K_END = .*;   \\/\\/ OPTIMIZE \\[0\\.01, 0\\.05\\] LOG$/constexpr double K_END = 0.04798587729100943;   \\/\\/ OPTIMIZE [0.01, 0.05] LOG/' -e 's/^constexpr double K_H = .*;      \\/\\/ OPTIMIZE \\[0\\.001, 0\\.999\\]$/constexpr double K_H = 0.027524372846324648;      \\/\\/ OPTIMIZE [0.001, 0.999]/' -e 's/^constexpr short PURCHASE_TURN_LIMIT = .*;  \\/\\/ OPTIMIZE \\[790, 870\\]$/constexpr short PURCHASE_TURN_LIMIT = 849;  \\/\\/ OPTIMIZE [790, 870]/' -e 's/^constexpr int SUBSCORE3_TIGHT_TURN = .*;     \\/\\/ OPTIMIZE \\[0, 2\\]$/constexpr int SUBSCORE3_TIGHT_TURN = 0;     \\/\\/ OPTIMIZE [0, 2]/' -e 's/^constexpr int ROUGH_HASH = .*;      \\/\\/ OPTIMIZE {0, 0b00000001, 0b00010001, 0b00010011, 0b00110011}$/constexpr int ROUGH_HASH = 0;      \\/\\/ OPTIMIZE {0, 0b00000001, 0b00010001, 0b00010011, 0b00110011}/'\n",
      "g++ 0_main.cpp -std=gnu++17 -O2 -DONLINE_JUDGE -o 0_main.cpp.out 2> /dev/null\n"
     ]
    },
    {
     "name": "stderr",
     "output_type": "stream",
     "text": [
      "\u001b[32m[I 2021-09-10 09:36:34,334]\u001b[0m Trial 105 finished with value: 1005365648.0 and parameters: {'K_START': 0.04924385553844223, 'K_END': 0.04797066487892165, 'K_H': 0.018795998887973307, 'PURCHASE_TURN_LIMIT': 843, 'SUBSCORE3_TIGHT_TURN': 0, 'ROUGH_HASH': '0'}. Best is trial 101 with value: 1008984726.0.\u001b[0m\n"
     ]
    },
    {
     "name": "stdout",
     "output_type": "stream",
     "text": [
      "callback ok\n",
      "index_parallel=1\n",
      "sed -i 1_main.cpp -e 's/^constexpr double K_START = .*;  \\/\\/ OPTIMIZE \\[0\\.02, 0\\.06\\] LOG$/constexpr double K_START = 0.048015318784608504;  \\/\\/ OPTIMIZE [0.02, 0.06] LOG/' -e 's/^constexpr double K_END = .*;   \\/\\/ OPTIMIZE \\[0\\.01, 0\\.05\\] LOG$/constexpr double K_END = 0.04710940593639784;   \\/\\/ OPTIMIZE [0.01, 0.05] LOG/' -e 's/^constexpr double K_H = .*;      \\/\\/ OPTIMIZE \\[0\\.001, 0\\.999\\]$/constexpr double K_H = 0.03446842058147242;      \\/\\/ OPTIMIZE [0.001, 0.999]/' -e 's/^constexpr short PURCHASE_TURN_LIMIT = .*;  \\/\\/ OPTIMIZE \\[790, 870\\]$/constexpr short PURCHASE_TURN_LIMIT = 847;  \\/\\/ OPTIMIZE [790, 870]/' -e 's/^constexpr int SUBSCORE3_TIGHT_TURN = .*;     \\/\\/ OPTIMIZE \\[0, 2\\]$/constexpr int SUBSCORE3_TIGHT_TURN = 0;     \\/\\/ OPTIMIZE [0, 2]/' -e 's/^constexpr int ROUGH_HASH = .*;      \\/\\/ OPTIMIZE {0, 0b00000001, 0b00010001, 0b00010011, 0b00110011}$/constexpr int ROUGH_HASH = 0;      \\/\\/ OPTIMIZE {0, 0b00000001, 0b00010001, 0b00010011, 0b00110011}/'\n",
      "g++ 1_main.cpp -std=gnu++17 -O2 -DONLINE_JUDGE -o 1_main.cpp.out 2> /dev/null\n"
     ]
    },
    {
     "name": "stderr",
     "output_type": "stream",
     "text": [
      "\u001b[32m[I 2021-09-10 09:37:23,709]\u001b[0m Trial 106 finished with value: 969918360.0 and parameters: {'K_START': 0.04887371703088214, 'K_END': 0.04780974019247183, 'K_H': 0.07593780466612124, 'PURCHASE_TURN_LIMIT': 790, 'SUBSCORE3_TIGHT_TURN': 0, 'ROUGH_HASH': '0'}. Best is trial 101 with value: 1008984726.0.\u001b[0m\n"
     ]
    },
    {
     "name": "stdout",
     "output_type": "stream",
     "text": [
      "callback ok\n",
      "index_parallel=2\n",
      "sed -i 2_main.cpp -e 's/^constexpr double K_START = .*;  \\/\\/ OPTIMIZE \\[0\\.02, 0\\.06\\] LOG$/constexpr double K_START = 0.032008184917702416;  \\/\\/ OPTIMIZE [0.02, 0.06] LOG/' -e 's/^constexpr double K_END = .*;   \\/\\/ OPTIMIZE \\[0\\.01, 0\\.05\\] LOG$/constexpr double K_END = 0.04513624027972271;   \\/\\/ OPTIMIZE [0.01, 0.05] LOG/' -e 's/^constexpr double K_H = .*;      \\/\\/ OPTIMIZE \\[0\\.001, 0\\.999\\]$/constexpr double K_H = 0.027746019200456627;      \\/\\/ OPTIMIZE [0.001, 0.999]/' -e 's/^constexpr short PURCHASE_TURN_LIMIT = .*;  \\/\\/ OPTIMIZE \\[790, 870\\]$/constexpr short PURCHASE_TURN_LIMIT = 848;  \\/\\/ OPTIMIZE [790, 870]/' -e 's/^constexpr int SUBSCORE3_TIGHT_TURN = .*;     \\/\\/ OPTIMIZE \\[0, 2\\]$/constexpr int SUBSCORE3_TIGHT_TURN = 0;     \\/\\/ OPTIMIZE [0, 2]/' -e 's/^constexpr int ROUGH_HASH = .*;      \\/\\/ OPTIMIZE {0, 0b00000001, 0b00010001, 0b00010011, 0b00110011}$/constexpr int ROUGH_HASH = 0;      \\/\\/ OPTIMIZE {0, 0b00000001, 0b00010001, 0b00010011, 0b00110011}/'\n",
      "g++ 2_main.cpp -std=gnu++17 -O2 -DONLINE_JUDGE -o 2_main.cpp.out 2> /dev/null\n"
     ]
    },
    {
     "name": "stderr",
     "output_type": "stream",
     "text": [
      "\u001b[32m[I 2021-09-10 09:38:31,699]\u001b[0m Trial 107 finished with value: 1003758178.0 and parameters: {'K_START': 0.049398906964744214, 'K_END': 0.047682663074322305, 'K_H': 0.0236543018958112, 'PURCHASE_TURN_LIMIT': 849, 'SUBSCORE3_TIGHT_TURN': 0, 'ROUGH_HASH': '0'}. Best is trial 101 with value: 1008984726.0.\u001b[0m\n"
     ]
    },
    {
     "name": "stdout",
     "output_type": "stream",
     "text": [
      "callback ok\n",
      "index_parallel=3\n",
      "sed -i 3_main.cpp -e 's/^constexpr double K_START = .*;  \\/\\/ OPTIMIZE \\[0\\.02, 0\\.06\\] LOG$/constexpr double K_START = 0.052013909903578605;  \\/\\/ OPTIMIZE [0.02, 0.06] LOG/' -e 's/^constexpr double K_END = .*;   \\/\\/ OPTIMIZE \\[0\\.01, 0\\.05\\] LOG$/constexpr double K_END = 0.04516549218010973;   \\/\\/ OPTIMIZE [0.01, 0.05] LOG/' -e 's/^constexpr double K_H = .*;      \\/\\/ OPTIMIZE \\[0\\.001, 0\\.999\\]$/constexpr double K_H = 0.11396674517743775;      \\/\\/ OPTIMIZE [0.001, 0.999]/' -e 's/^constexpr short PURCHASE_TURN_LIMIT = .*;  \\/\\/ OPTIMIZE \\[790, 870\\]$/constexpr short PURCHASE_TURN_LIMIT = 840;  \\/\\/ OPTIMIZE [790, 870]/' -e 's/^constexpr int SUBSCORE3_TIGHT_TURN = .*;     \\/\\/ OPTIMIZE \\[0, 2\\]$/constexpr int SUBSCORE3_TIGHT_TURN = 0;     \\/\\/ OPTIMIZE [0, 2]/' -e 's/^constexpr int ROUGH_HASH = .*;      \\/\\/ OPTIMIZE {0, 0b00000001, 0b00010001, 0b00010011, 0b00110011}$/constexpr int ROUGH_HASH = 0;      \\/\\/ OPTIMIZE {0, 0b00000001, 0b00010001, 0b00010011, 0b00110011}/'\n",
      "g++ 3_main.cpp -std=gnu++17 -O2 -DONLINE_JUDGE -o 3_main.cpp.out 2> /dev/null\n"
     ]
    },
    {
     "name": "stderr",
     "output_type": "stream",
     "text": [
      "\u001b[32m[I 2021-09-10 09:39:57,396]\u001b[0m Trial 108 finished with value: 1002782117.0 and parameters: {'K_START': 0.04960610314169227, 'K_END': 0.04798587729100943, 'K_H': 0.027524372846324648, 'PURCHASE_TURN_LIMIT': 849, 'SUBSCORE3_TIGHT_TURN': 0, 'ROUGH_HASH': '0'}. Best is trial 101 with value: 1008984726.0.\u001b[0m\n"
     ]
    },
    {
     "name": "stdout",
     "output_type": "stream",
     "text": [
      "callback ok\n",
      "index_parallel=4\n",
      "sed -i 4_main.cpp -e 's/^constexpr double K_START = .*;  \\/\\/ OPTIMIZE \\[0\\.02, 0\\.06\\] LOG$/constexpr double K_START = 0.03143748715070601;  \\/\\/ OPTIMIZE [0.02, 0.06] LOG/' -e 's/^constexpr double K_END = .*;   \\/\\/ OPTIMIZE \\[0\\.01, 0\\.05\\] LOG$/constexpr double K_END = 0.04048645717969059;   \\/\\/ OPTIMIZE [0.01, 0.05] LOG/' -e 's/^constexpr double K_H = .*;      \\/\\/ OPTIMIZE \\[0\\.001, 0\\.999\\]$/constexpr double K_H = 0.0016157460195771467;      \\/\\/ OPTIMIZE [0.001, 0.999]/' -e 's/^constexpr short PURCHASE_TURN_LIMIT = .*;  \\/\\/ OPTIMIZE \\[790, 870\\]$/constexpr short PURCHASE_TURN_LIMIT = 838;  \\/\\/ OPTIMIZE [790, 870]/' -e 's/^constexpr int SUBSCORE3_TIGHT_TURN = .*;     \\/\\/ OPTIMIZE \\[0, 2\\]$/constexpr int SUBSCORE3_TIGHT_TURN = 0;     \\/\\/ OPTIMIZE [0, 2]/' -e 's/^constexpr int ROUGH_HASH = .*;      \\/\\/ OPTIMIZE {0, 0b00000001, 0b00010001, 0b00010011, 0b00110011}$/constexpr int ROUGH_HASH = 0;      \\/\\/ OPTIMIZE {0, 0b00000001, 0b00010001, 0b00010011, 0b00110011}/'\n",
      "g++ 4_main.cpp -std=gnu++17 -O2 -DONLINE_JUDGE -o 4_main.cpp.out 2> /dev/null\n"
     ]
    },
    {
     "name": "stderr",
     "output_type": "stream",
     "text": [
      "\u001b[32m[I 2021-09-10 09:41:18,819]\u001b[0m Trial 109 finished with value: 1005066840.0 and parameters: {'K_START': 0.048015318784608504, 'K_END': 0.04710940593639784, 'K_H': 0.03446842058147242, 'PURCHASE_TURN_LIMIT': 847, 'SUBSCORE3_TIGHT_TURN': 0, 'ROUGH_HASH': '0'}. Best is trial 101 with value: 1008984726.0.\u001b[0m\n"
     ]
    },
    {
     "name": "stdout",
     "output_type": "stream",
     "text": [
      "callback ok\n",
      "index_parallel=5\n",
      "sed -i 5_main.cpp -e 's/^constexpr double K_START = .*;  \\/\\/ OPTIMIZE \\[0\\.02, 0\\.06\\] LOG$/constexpr double K_START = 0.02082207216590255;  \\/\\/ OPTIMIZE [0.02, 0.06] LOG/' -e 's/^constexpr double K_END = .*;   \\/\\/ OPTIMIZE \\[0\\.01, 0\\.05\\] LOG$/constexpr double K_END = 0.045725767243332605;   \\/\\/ OPTIMIZE [0.01, 0.05] LOG/' -e 's/^constexpr double K_H = .*;      \\/\\/ OPTIMIZE \\[0\\.001, 0\\.999\\]$/constexpr double K_H = 0.007320932344719422;      \\/\\/ OPTIMIZE [0.001, 0.999]/' -e 's/^constexpr short PURCHASE_TURN_LIMIT = .*;  \\/\\/ OPTIMIZE \\[790, 870\\]$/constexpr short PURCHASE_TURN_LIMIT = 840;  \\/\\/ OPTIMIZE [790, 870]/' -e 's/^constexpr int SUBSCORE3_TIGHT_TURN = .*;     \\/\\/ OPTIMIZE \\[0, 2\\]$/constexpr int SUBSCORE3_TIGHT_TURN = 0;     \\/\\/ OPTIMIZE [0, 2]/' -e 's/^constexpr int ROUGH_HASH = .*;      \\/\\/ OPTIMIZE {0, 0b00000001, 0b00010001, 0b00010011, 0b00110011}$/constexpr int ROUGH_HASH = 0;      \\/\\/ OPTIMIZE {0, 0b00000001, 0b00010001, 0b00010011, 0b00110011}/'\n",
      "g++ 5_main.cpp -std=gnu++17 -O2 -DONLINE_JUDGE -o 5_main.cpp.out 2> /dev/null\n"
     ]
    },
    {
     "name": "stderr",
     "output_type": "stream",
     "text": [
      "\u001b[32m[I 2021-09-10 09:42:08,879]\u001b[0m Trial 110 finished with value: 987575268.0 and parameters: {'K_START': 0.032008184917702416, 'K_END': 0.04513624027972271, 'K_H': 0.027746019200456627, 'PURCHASE_TURN_LIMIT': 848, 'SUBSCORE3_TIGHT_TURN': 0, 'ROUGH_HASH': '0'}. Best is trial 101 with value: 1008984726.0.\u001b[0m\n"
     ]
    },
    {
     "name": "stdout",
     "output_type": "stream",
     "text": [
      "callback ok\n",
      "index_parallel=6\n",
      "sed -i 6_main.cpp -e 's/^constexpr double K_START = .*;  \\/\\/ OPTIMIZE \\[0\\.02, 0\\.06\\] LOG$/constexpr double K_START = 0.05841839952716141;  \\/\\/ OPTIMIZE [0.02, 0.06] LOG/' -e 's/^constexpr double K_END = .*;   \\/\\/ OPTIMIZE \\[0\\.01, 0\\.05\\] LOG$/constexpr double K_END = 0.040596920998547815;   \\/\\/ OPTIMIZE [0.01, 0.05] LOG/' -e 's/^constexpr double K_H = .*;      \\/\\/ OPTIMIZE \\[0\\.001, 0\\.999\\]$/constexpr double K_H = 0.0068322411886905104;      \\/\\/ OPTIMIZE [0.001, 0.999]/' -e 's/^constexpr short PURCHASE_TURN_LIMIT = .*;  \\/\\/ OPTIMIZE \\[790, 870\\]$/constexpr short PURCHASE_TURN_LIMIT = 840;  \\/\\/ OPTIMIZE [790, 870]/' -e 's/^constexpr int SUBSCORE3_TIGHT_TURN = .*;     \\/\\/ OPTIMIZE \\[0, 2\\]$/constexpr int SUBSCORE3_TIGHT_TURN = 0;     \\/\\/ OPTIMIZE [0, 2]/' -e 's/^constexpr int ROUGH_HASH = .*;      \\/\\/ OPTIMIZE {0, 0b00000001, 0b00010001, 0b00010011, 0b00110011}$/constexpr int ROUGH_HASH = 0;      \\/\\/ OPTIMIZE {0, 0b00000001, 0b00010001, 0b00010011, 0b00110011}/'\n",
      "g++ 6_main.cpp -std=gnu++17 -O2 -DONLINE_JUDGE -o 6_main.cpp.out 2> /dev/null\n"
     ]
    },
    {
     "name": "stderr",
     "output_type": "stream",
     "text": [
      "\u001b[32m[I 2021-09-10 09:43:13,693]\u001b[0m Trial 111 finished with value: 1008451666.0 and parameters: {'K_START': 0.052013909903578605, 'K_END': 0.04516549218010973, 'K_H': 0.11396674517743775, 'PURCHASE_TURN_LIMIT': 840, 'SUBSCORE3_TIGHT_TURN': 0, 'ROUGH_HASH': '0'}. Best is trial 101 with value: 1008984726.0.\u001b[0m\n"
     ]
    },
    {
     "name": "stdout",
     "output_type": "stream",
     "text": [
      "callback ok\n",
      "index_parallel=7\n",
      "sed -i 7_main.cpp -e 's/^constexpr double K_START = .*;  \\/\\/ OPTIMIZE \\[0\\.02, 0\\.06\\] LOG$/constexpr double K_START = 0.058499046609390724;  \\/\\/ OPTIMIZE [0.02, 0.06] LOG/' -e 's/^constexpr double K_END = .*;   \\/\\/ OPTIMIZE \\[0\\.01, 0\\.05\\] LOG$/constexpr double K_END = 0.04516598191086103;   \\/\\/ OPTIMIZE [0.01, 0.05] LOG/' -e 's/^constexpr double K_H = .*;      \\/\\/ OPTIMIZE \\[0\\.001, 0\\.999\\]$/constexpr double K_H = 0.11292181041807818;      \\/\\/ OPTIMIZE [0.001, 0.999]/' -e 's/^constexpr short PURCHASE_TURN_LIMIT = .*;  \\/\\/ OPTIMIZE \\[790, 870\\]$/constexpr short PURCHASE_TURN_LIMIT = 840;  \\/\\/ OPTIMIZE [790, 870]/' -e 's/^constexpr int SUBSCORE3_TIGHT_TURN = .*;     \\/\\/ OPTIMIZE \\[0, 2\\]$/constexpr int SUBSCORE3_TIGHT_TURN = 0;     \\/\\/ OPTIMIZE [0, 2]/' -e 's/^constexpr int ROUGH_HASH = .*;      \\/\\/ OPTIMIZE {0, 0b00000001, 0b00010001, 0b00010011, 0b00110011}$/constexpr int ROUGH_HASH = 0;      \\/\\/ OPTIMIZE {0, 0b00000001, 0b00010001, 0b00010011, 0b00110011}/'\n",
      "g++ 7_main.cpp -std=gnu++17 -O2 -DONLINE_JUDGE -o 7_main.cpp.out 2> /dev/null\n"
     ]
    },
    {
     "name": "stderr",
     "output_type": "stream",
     "text": [
      "\u001b[32m[I 2021-09-10 09:44:38,213]\u001b[0m Trial 112 finished with value: 985984575.0 and parameters: {'K_START': 0.03143748715070601, 'K_END': 0.04048645717969059, 'K_H': 0.0016157460195771467, 'PURCHASE_TURN_LIMIT': 838, 'SUBSCORE3_TIGHT_TURN': 0, 'ROUGH_HASH': '0'}. Best is trial 101 with value: 1008984726.0.\u001b[0m\n"
     ]
    },
    {
     "name": "stdout",
     "output_type": "stream",
     "text": [
      "callback ok\n",
      "index_parallel=8\n",
      "sed -i 8_main.cpp -e 's/^constexpr double K_START = .*;  \\/\\/ OPTIMIZE \\[0\\.02, 0\\.06\\] LOG$/constexpr double K_START = 0.058015146172274525;  \\/\\/ OPTIMIZE [0.02, 0.06] LOG/' -e 's/^constexpr double K_END = .*;   \\/\\/ OPTIMIZE \\[0\\.01, 0\\.05\\] LOG$/constexpr double K_END = 0.04513737723056743;   \\/\\/ OPTIMIZE [0.01, 0.05] LOG/' -e 's/^constexpr double K_H = .*;      \\/\\/ OPTIMIZE \\[0\\.001, 0\\.999\\]$/constexpr double K_H = 0.07967535524365929;      \\/\\/ OPTIMIZE [0.001, 0.999]/' -e 's/^constexpr short PURCHASE_TURN_LIMIT = .*;  \\/\\/ OPTIMIZE \\[790, 870\\]$/constexpr short PURCHASE_TURN_LIMIT = 840;  \\/\\/ OPTIMIZE [790, 870]/' -e 's/^constexpr int SUBSCORE3_TIGHT_TURN = .*;     \\/\\/ OPTIMIZE \\[0, 2\\]$/constexpr int SUBSCORE3_TIGHT_TURN = 0;     \\/\\/ OPTIMIZE [0, 2]/' -e 's/^constexpr int ROUGH_HASH = .*;      \\/\\/ OPTIMIZE {0, 0b00000001, 0b00010001, 0b00010011, 0b00110011}$/constexpr int ROUGH_HASH = 0;      \\/\\/ OPTIMIZE {0, 0b00000001, 0b00010001, 0b00010011, 0b00110011}/'\n",
      "g++ 8_main.cpp -std=gnu++17 -O2 -DONLINE_JUDGE -o 8_main.cpp.out 2> /dev/null\n"
     ]
    },
    {
     "name": "stderr",
     "output_type": "stream",
     "text": [
      "\u001b[32m[I 2021-09-10 09:45:55,113]\u001b[0m Trial 113 finished with value: 959772335.0 and parameters: {'K_START': 0.02082207216590255, 'K_END': 0.045725767243332605, 'K_H': 0.007320932344719422, 'PURCHASE_TURN_LIMIT': 840, 'SUBSCORE3_TIGHT_TURN': 0, 'ROUGH_HASH': '0'}. Best is trial 101 with value: 1008984726.0.\u001b[0m\n"
     ]
    },
    {
     "name": "stdout",
     "output_type": "stream",
     "text": [
      "callback ok\n",
      "index_parallel=9\n",
      "sed -i 9_main.cpp -e 's/^constexpr double K_START = .*;  \\/\\/ OPTIMIZE \\[0\\.02, 0\\.06\\] LOG$/constexpr double K_START = 0.05206129365877743;  \\/\\/ OPTIMIZE [0.02, 0.06] LOG/' -e 's/^constexpr double K_END = .*;   \\/\\/ OPTIMIZE \\[0\\.01, 0\\.05\\] LOG$/constexpr double K_END = 0.04453751090049172;   \\/\\/ OPTIMIZE [0.01, 0.05] LOG/' -e 's/^constexpr double K_H = .*;      \\/\\/ OPTIMIZE \\[0\\.001, 0\\.999\\]$/constexpr double K_H = 0.11768490999522119;      \\/\\/ OPTIMIZE [0.001, 0.999]/' -e 's/^constexpr short PURCHASE_TURN_LIMIT = .*;  \\/\\/ OPTIMIZE \\[790, 870\\]$/constexpr short PURCHASE_TURN_LIMIT = 846;  \\/\\/ OPTIMIZE [790, 870]/' -e 's/^constexpr int SUBSCORE3_TIGHT_TURN = .*;     \\/\\/ OPTIMIZE \\[0, 2\\]$/constexpr int SUBSCORE3_TIGHT_TURN = 0;     \\/\\/ OPTIMIZE [0, 2]/' -e 's/^constexpr int ROUGH_HASH = .*;      \\/\\/ OPTIMIZE {0, 0b00000001, 0b00010001, 0b00010011, 0b00110011}$/constexpr int ROUGH_HASH = 0;      \\/\\/ OPTIMIZE {0, 0b00000001, 0b00010001, 0b00010011, 0b00110011}/'\n",
      "g++ 9_main.cpp -std=gnu++17 -O2 -DONLINE_JUDGE -o 9_main.cpp.out 2> /dev/null\n"
     ]
    },
    {
     "name": "stderr",
     "output_type": "stream",
     "text": [
      "\u001b[32m[I 2021-09-10 09:46:53,066]\u001b[0m Trial 114 finished with value: 1004513467.0 and parameters: {'K_START': 0.05841839952716141, 'K_END': 0.040596920998547815, 'K_H': 0.0068322411886905104, 'PURCHASE_TURN_LIMIT': 840, 'SUBSCORE3_TIGHT_TURN': 0, 'ROUGH_HASH': '0'}. Best is trial 101 with value: 1008984726.0.\u001b[0m\n"
     ]
    },
    {
     "name": "stdout",
     "output_type": "stream",
     "text": [
      "callback ok\n",
      "index_parallel=10\n",
      "sed -i 10_main.cpp -e 's/^constexpr double K_START = .*;  \\/\\/ OPTIMIZE \\[0\\.02, 0\\.06\\] LOG$/constexpr double K_START = 0.051808032305650335;  \\/\\/ OPTIMIZE [0.02, 0.06] LOG/' -e 's/^constexpr double K_END = .*;   \\/\\/ OPTIMIZE \\[0\\.01, 0\\.05\\] LOG$/constexpr double K_END = 0.04450272301816951;   \\/\\/ OPTIMIZE [0.01, 0.05] LOG/' -e 's/^constexpr double K_H = .*;      \\/\\/ OPTIMIZE \\[0\\.001, 0\\.999\\]$/constexpr double K_H = 0.11378579314059209;      \\/\\/ OPTIMIZE [0.001, 0.999]/' -e 's/^constexpr short PURCHASE_TURN_LIMIT = .*;  \\/\\/ OPTIMIZE \\[790, 870\\]$/constexpr short PURCHASE_TURN_LIMIT = 846;  \\/\\/ OPTIMIZE [790, 870]/' -e 's/^constexpr int SUBSCORE3_TIGHT_TURN = .*;     \\/\\/ OPTIMIZE \\[0, 2\\]$/constexpr int SUBSCORE3_TIGHT_TURN = 0;     \\/\\/ OPTIMIZE [0, 2]/' -e 's/^constexpr int ROUGH_HASH = .*;      \\/\\/ OPTIMIZE {0, 0b00000001, 0b00010001, 0b00010011, 0b00110011}$/constexpr int ROUGH_HASH = 0;      \\/\\/ OPTIMIZE {0, 0b00000001, 0b00010001, 0b00010011, 0b00110011}/'\n",
      "g++ 10_main.cpp -std=gnu++17 -O2 -DONLINE_JUDGE -o 10_main.cpp.out 2> /dev/null\n"
     ]
    },
    {
     "name": "stderr",
     "output_type": "stream",
     "text": [
      "\u001b[32m[I 2021-09-10 09:47:58,052]\u001b[0m Trial 115 finished with value: 1004292454.0 and parameters: {'K_START': 0.058499046609390724, 'K_END': 0.04516598191086103, 'K_H': 0.11292181041807818, 'PURCHASE_TURN_LIMIT': 840, 'SUBSCORE3_TIGHT_TURN': 0, 'ROUGH_HASH': '0'}. Best is trial 101 with value: 1008984726.0.\u001b[0m\n"
     ]
    },
    {
     "name": "stdout",
     "output_type": "stream",
     "text": [
      "callback ok\n",
      "index_parallel=11\n",
      "sed -i 11_main.cpp -e 's/^constexpr double K_START = .*;  \\/\\/ OPTIMIZE \\[0\\.02, 0\\.06\\] LOG$/constexpr double K_START = 0.05166698636552781;  \\/\\/ OPTIMIZE [0.02, 0.06] LOG/' -e 's/^constexpr double K_END = .*;   \\/\\/ OPTIMIZE \\[0\\.01, 0\\.05\\] LOG$/constexpr double K_END = 0.04414764595914494;   \\/\\/ OPTIMIZE [0.01, 0.05] LOG/' -e 's/^constexpr double K_H = .*;      \\/\\/ OPTIMIZE \\[0\\.001, 0\\.999\\]$/constexpr double K_H = 0.07786755242288504;      \\/\\/ OPTIMIZE [0.001, 0.999]/' -e 's/^constexpr short PURCHASE_TURN_LIMIT = .*;  \\/\\/ OPTIMIZE \\[790, 870\\]$/constexpr short PURCHASE_TURN_LIMIT = 845;  \\/\\/ OPTIMIZE [790, 870]/' -e 's/^constexpr int SUBSCORE3_TIGHT_TURN = .*;     \\/\\/ OPTIMIZE \\[0, 2\\]$/constexpr int SUBSCORE3_TIGHT_TURN = 0;     \\/\\/ OPTIMIZE [0, 2]/' -e 's/^constexpr int ROUGH_HASH = .*;      \\/\\/ OPTIMIZE {0, 0b00000001, 0b00010001, 0b00010011, 0b00110011}$/constexpr int ROUGH_HASH = 0;      \\/\\/ OPTIMIZE {0, 0b00000001, 0b00010001, 0b00010011, 0b00110011}/'\n",
      "g++ 11_main.cpp -std=gnu++17 -O2 -DONLINE_JUDGE -o 11_main.cpp.out 2> /dev/null\n"
     ]
    },
    {
     "name": "stderr",
     "output_type": "stream",
     "text": [
      "\u001b[32m[I 2021-09-10 09:49:23,819]\u001b[0m Trial 116 finished with value: 1010815661.0 and parameters: {'K_START': 0.058015146172274525, 'K_END': 0.04513737723056743, 'K_H': 0.07967535524365929, 'PURCHASE_TURN_LIMIT': 840, 'SUBSCORE3_TIGHT_TURN': 0, 'ROUGH_HASH': '0'}. Best is trial 116 with value: 1010815661.0.\u001b[0m\n"
     ]
    },
    {
     "name": "stdout",
     "output_type": "stream",
     "text": [
      "Updated! 1010815661.0\n",
      "callback ok\n",
      "index_parallel=0\n",
      "sed -i 0_main.cpp -e 's/^constexpr double K_START = .*;  \\/\\/ OPTIMIZE \\[0\\.02, 0\\.06\\] LOG$/constexpr double K_START = 0.05177609465335837;  \\/\\/ OPTIMIZE [0.02, 0.06] LOG/' -e 's/^constexpr double K_END = .*;   \\/\\/ OPTIMIZE \\[0\\.01, 0\\.05\\] LOG$/constexpr double K_END = 0.04375487208250178;   \\/\\/ OPTIMIZE [0.01, 0.05] LOG/' -e 's/^constexpr double K_H = .*;      \\/\\/ OPTIMIZE \\[0\\.001, 0\\.999\\]$/constexpr double K_H = 0.9800594724163917;      \\/\\/ OPTIMIZE [0.001, 0.999]/' -e 's/^constexpr short PURCHASE_TURN_LIMIT = .*;  \\/\\/ OPTIMIZE \\[790, 870\\]$/constexpr short PURCHASE_TURN_LIMIT = 846;  \\/\\/ OPTIMIZE [790, 870]/' -e 's/^constexpr int SUBSCORE3_TIGHT_TURN = .*;     \\/\\/ OPTIMIZE \\[0, 2\\]$/constexpr int SUBSCORE3_TIGHT_TURN = 0;     \\/\\/ OPTIMIZE [0, 2]/' -e 's/^constexpr int ROUGH_HASH = .*;      \\/\\/ OPTIMIZE {0, 0b00000001, 0b00010001, 0b00010011, 0b00110011}$/constexpr int ROUGH_HASH = 0;      \\/\\/ OPTIMIZE {0, 0b00000001, 0b00010001, 0b00010011, 0b00110011}/'\n",
      "g++ 0_main.cpp -std=gnu++17 -O2 -DONLINE_JUDGE -o 0_main.cpp.out 2> /dev/null\n"
     ]
    },
    {
     "name": "stderr",
     "output_type": "stream",
     "text": [
      "\u001b[32m[I 2021-09-10 09:50:37,181]\u001b[0m Trial 117 finished with value: 1004092846.0 and parameters: {'K_START': 0.05206129365877743, 'K_END': 0.04453751090049172, 'K_H': 0.11768490999522119, 'PURCHASE_TURN_LIMIT': 846, 'SUBSCORE3_TIGHT_TURN': 0, 'ROUGH_HASH': '0'}. Best is trial 116 with value: 1010815661.0.\u001b[0m\n"
     ]
    },
    {
     "name": "stdout",
     "output_type": "stream",
     "text": [
      "callback ok\n",
      "index_parallel=1\n",
      "sed -i 1_main.cpp -e 's/^constexpr double K_START = .*;  \\/\\/ OPTIMIZE \\[0\\.02, 0\\.06\\] LOG$/constexpr double K_START = 0.054897842081443854;  \\/\\/ OPTIMIZE [0.02, 0.06] LOG/' -e 's/^constexpr double K_END = .*;   \\/\\/ OPTIMIZE \\[0\\.01, 0\\.05\\] LOG$/constexpr double K_END = 0.04394892066874408;   \\/\\/ OPTIMIZE [0.01, 0.05] LOG/' -e 's/^constexpr double K_H = .*;      \\/\\/ OPTIMIZE \\[0\\.001, 0\\.999\\]$/constexpr double K_H = 0.08792811306051561;      \\/\\/ OPTIMIZE [0.001, 0.999]/' -e 's/^constexpr short PURCHASE_TURN_LIMIT = .*;  \\/\\/ OPTIMIZE \\[790, 870\\]$/constexpr short PURCHASE_TURN_LIMIT = 837;  \\/\\/ OPTIMIZE [790, 870]/' -e 's/^constexpr int SUBSCORE3_TIGHT_TURN = .*;     \\/\\/ OPTIMIZE \\[0, 2\\]$/constexpr int SUBSCORE3_TIGHT_TURN = 0;     \\/\\/ OPTIMIZE [0, 2]/' -e 's/^constexpr int ROUGH_HASH = .*;      \\/\\/ OPTIMIZE {0, 0b00000001, 0b00010001, 0b00010011, 0b00110011}$/constexpr int ROUGH_HASH = 0b00000001;      \\/\\/ OPTIMIZE {0, 0b00000001, 0b00010001, 0b00010011, 0b00110011}/'\n",
      "g++ 1_main.cpp -std=gnu++17 -O2 -DONLINE_JUDGE -o 1_main.cpp.out 2> /dev/null\n"
     ]
    },
    {
     "name": "stderr",
     "output_type": "stream",
     "text": [
      "\u001b[32m[I 2021-09-10 09:51:38,056]\u001b[0m Trial 118 finished with value: 1005166713.0 and parameters: {'K_START': 0.051808032305650335, 'K_END': 0.04450272301816951, 'K_H': 0.11378579314059209, 'PURCHASE_TURN_LIMIT': 846, 'SUBSCORE3_TIGHT_TURN': 0, 'ROUGH_HASH': '0'}. Best is trial 116 with value: 1010815661.0.\u001b[0m\n"
     ]
    },
    {
     "name": "stdout",
     "output_type": "stream",
     "text": [
      "callback ok\n",
      "index_parallel=2\n",
      "sed -i 2_main.cpp -e 's/^constexpr double K_START = .*;  \\/\\/ OPTIMIZE \\[0\\.02, 0\\.06\\] LOG$/constexpr double K_START = 0.058228182371262246;  \\/\\/ OPTIMIZE [0.02, 0.06] LOG/' -e 's/^constexpr double K_END = .*;   \\/\\/ OPTIMIZE \\[0\\.01, 0\\.05\\] LOG$/constexpr double K_END = 0.048676450343650035;   \\/\\/ OPTIMIZE [0.01, 0.05] LOG/' -e 's/^constexpr double K_H = .*;      \\/\\/ OPTIMIZE \\[0\\.001, 0\\.999\\]$/constexpr double K_H = 0.08845802025462465;      \\/\\/ OPTIMIZE [0.001, 0.999]/' -e 's/^constexpr short PURCHASE_TURN_LIMIT = .*;  \\/\\/ OPTIMIZE \\[790, 870\\]$/constexpr short PURCHASE_TURN_LIMIT = 796;  \\/\\/ OPTIMIZE [790, 870]/' -e 's/^constexpr int SUBSCORE3_TIGHT_TURN = .*;     \\/\\/ OPTIMIZE \\[0, 2\\]$/constexpr int SUBSCORE3_TIGHT_TURN = 0;     \\/\\/ OPTIMIZE [0, 2]/' -e 's/^constexpr int ROUGH_HASH = .*;      \\/\\/ OPTIMIZE {0, 0b00000001, 0b00010001, 0b00010011, 0b00110011}$/constexpr int ROUGH_HASH = 0b00000001;      \\/\\/ OPTIMIZE {0, 0b00000001, 0b00010001, 0b00010011, 0b00110011}/'\n",
      "g++ 2_main.cpp -std=gnu++17 -O2 -DONLINE_JUDGE -o 2_main.cpp.out 2> /dev/null\n"
     ]
    },
    {
     "name": "stderr",
     "output_type": "stream",
     "text": [
      "\u001b[32m[I 2021-09-10 09:52:42,504]\u001b[0m Trial 119 finished with value: 1004043823.0 and parameters: {'K_START': 0.05166698636552781, 'K_END': 0.04414764595914494, 'K_H': 0.07786755242288504, 'PURCHASE_TURN_LIMIT': 845, 'SUBSCORE3_TIGHT_TURN': 0, 'ROUGH_HASH': '0'}. Best is trial 116 with value: 1010815661.0.\u001b[0m\n"
     ]
    },
    {
     "name": "stdout",
     "output_type": "stream",
     "text": [
      "callback ok\n",
      "index_parallel=3\n",
      "sed -i 3_main.cpp -e 's/^constexpr double K_START = .*;  \\/\\/ OPTIMIZE \\[0\\.02, 0\\.06\\] LOG$/constexpr double K_START = 0.05786129589715132;  \\/\\/ OPTIMIZE [0.02, 0.06] LOG/' -e 's/^constexpr double K_END = .*;   \\/\\/ OPTIMIZE \\[0\\.01, 0\\.05\\] LOG$/constexpr double K_END = 0.04893874477914314;   \\/\\/ OPTIMIZE [0.01, 0.05] LOG/' -e 's/^constexpr double K_H = .*;      \\/\\/ OPTIMIZE \\[0\\.001, 0\\.999\\]$/constexpr double K_H = 0.2298007311865437;      \\/\\/ OPTIMIZE [0.001, 0.999]/' -e 's/^constexpr short PURCHASE_TURN_LIMIT = .*;  \\/\\/ OPTIMIZE \\[790, 870\\]$/constexpr short PURCHASE_TURN_LIMIT = 837;  \\/\\/ OPTIMIZE [790, 870]/' -e 's/^constexpr int SUBSCORE3_TIGHT_TURN = .*;     \\/\\/ OPTIMIZE \\[0, 2\\]$/constexpr int SUBSCORE3_TIGHT_TURN = 0;     \\/\\/ OPTIMIZE [0, 2]/' -e 's/^constexpr int ROUGH_HASH = .*;      \\/\\/ OPTIMIZE {0, 0b00000001, 0b00010001, 0b00010011, 0b00110011}$/constexpr int ROUGH_HASH = 0b00000001;      \\/\\/ OPTIMIZE {0, 0b00000001, 0b00010001, 0b00010011, 0b00110011}/'\n",
      "g++ 3_main.cpp -std=gnu++17 -O2 -DONLINE_JUDGE -o 3_main.cpp.out 2> /dev/null\n"
     ]
    },
    {
     "name": "stderr",
     "output_type": "stream",
     "text": [
      "\u001b[32m[I 2021-09-10 09:54:10,277]\u001b[0m Trial 120 finished with value: 1002169836.0 and parameters: {'K_START': 0.05177609465335837, 'K_END': 0.04375487208250178, 'K_H': 0.9800594724163917, 'PURCHASE_TURN_LIMIT': 846, 'SUBSCORE3_TIGHT_TURN': 0, 'ROUGH_HASH': '0'}. Best is trial 116 with value: 1010815661.0.\u001b[0m\n"
     ]
    },
    {
     "name": "stdout",
     "output_type": "stream",
     "text": [
      "callback ok\n",
      "index_parallel=4\n",
      "sed -i 4_main.cpp -e 's/^constexpr double K_START = .*;  \\/\\/ OPTIMIZE \\[0\\.02, 0\\.06\\] LOG$/constexpr double K_START = 0.054638429984514555;  \\/\\/ OPTIMIZE [0.02, 0.06] LOG/' -e 's/^constexpr double K_END = .*;   \\/\\/ OPTIMIZE \\[0\\.01, 0\\.05\\] LOG$/constexpr double K_END = 0.04954829432472628;   \\/\\/ OPTIMIZE [0.01, 0.05] LOG/' -e 's/^constexpr double K_H = .*;      \\/\\/ OPTIMIZE \\[0\\.001, 0\\.999\\]$/constexpr double K_H = 0.0965503819469091;      \\/\\/ OPTIMIZE [0.001, 0.999]/' -e 's/^constexpr short PURCHASE_TURN_LIMIT = .*;  \\/\\/ OPTIMIZE \\[790, 870\\]$/constexpr short PURCHASE_TURN_LIMIT = 838;  \\/\\/ OPTIMIZE [790, 870]/' -e 's/^constexpr int SUBSCORE3_TIGHT_TURN = .*;     \\/\\/ OPTIMIZE \\[0, 2\\]$/constexpr int SUBSCORE3_TIGHT_TURN = 0;     \\/\\/ OPTIMIZE [0, 2]/' -e 's/^constexpr int ROUGH_HASH = .*;      \\/\\/ OPTIMIZE {0, 0b00000001, 0b00010001, 0b00010011, 0b00110011}$/constexpr int ROUGH_HASH = 0;      \\/\\/ OPTIMIZE {0, 0b00000001, 0b00010001, 0b00010011, 0b00110011}/'\n",
      "g++ 4_main.cpp -std=gnu++17 -O2 -DONLINE_JUDGE -o 4_main.cpp.out 2> /dev/null\n"
     ]
    },
    {
     "name": "stderr",
     "output_type": "stream",
     "text": [
      "\u001b[32m[I 2021-09-10 09:55:09,210]\u001b[0m Trial 121 finished with value: 1004205862.0 and parameters: {'K_START': 0.054897842081443854, 'K_END': 0.04394892066874408, 'K_H': 0.08792811306051561, 'PURCHASE_TURN_LIMIT': 837, 'SUBSCORE3_TIGHT_TURN': 0, 'ROUGH_HASH': '0b00000001'}. Best is trial 116 with value: 1010815661.0.\u001b[0m\n"
     ]
    },
    {
     "name": "stdout",
     "output_type": "stream",
     "text": [
      "callback ok\n",
      "index_parallel=5\n",
      "sed -i 5_main.cpp -e 's/^constexpr double K_START = .*;  \\/\\/ OPTIMIZE \\[0\\.02, 0\\.06\\] LOG$/constexpr double K_START = 0.05459966411095892;  \\/\\/ OPTIMIZE [0.02, 0.06] LOG/' -e 's/^constexpr double K_END = .*;   \\/\\/ OPTIMIZE \\[0\\.01, 0\\.05\\] LOG$/constexpr double K_END = 0.048887239519825536;   \\/\\/ OPTIMIZE [0.01, 0.05] LOG/' -e 's/^constexpr double K_H = .*;      \\/\\/ OPTIMIZE \\[0\\.001, 0\\.999\\]$/constexpr double K_H = 0.23308270122577193;      \\/\\/ OPTIMIZE [0.001, 0.999]/' -e 's/^constexpr short PURCHASE_TURN_LIMIT = .*;  \\/\\/ OPTIMIZE \\[790, 870\\]$/constexpr short PURCHASE_TURN_LIMIT = 843;  \\/\\/ OPTIMIZE [790, 870]/' -e 's/^constexpr int SUBSCORE3_TIGHT_TURN = .*;     \\/\\/ OPTIMIZE \\[0, 2\\]$/constexpr int SUBSCORE3_TIGHT_TURN = 0;     \\/\\/ OPTIMIZE [0, 2]/' -e 's/^constexpr int ROUGH_HASH = .*;      \\/\\/ OPTIMIZE {0, 0b00000001, 0b00010001, 0b00010011, 0b00110011}$/constexpr int ROUGH_HASH = 0;      \\/\\/ OPTIMIZE {0, 0b00000001, 0b00010001, 0b00010011, 0b00110011}/'\n",
      "g++ 5_main.cpp -std=gnu++17 -O2 -DONLINE_JUDGE -o 5_main.cpp.out 2> /dev/null\n"
     ]
    },
    {
     "name": "stderr",
     "output_type": "stream",
     "text": [
      "\u001b[32m[I 2021-09-10 09:55:52,535]\u001b[0m Trial 122 finished with value: 978348692.0 and parameters: {'K_START': 0.058228182371262246, 'K_END': 0.048676450343650035, 'K_H': 0.08845802025462465, 'PURCHASE_TURN_LIMIT': 796, 'SUBSCORE3_TIGHT_TURN': 0, 'ROUGH_HASH': '0b00000001'}. Best is trial 116 with value: 1010815661.0.\u001b[0m\n"
     ]
    },
    {
     "name": "stdout",
     "output_type": "stream",
     "text": [
      "callback ok\n",
      "index_parallel=6\n",
      "sed -i 6_main.cpp -e 's/^constexpr double K_START = .*;  \\/\\/ OPTIMIZE \\[0\\.02, 0\\.06\\] LOG$/constexpr double K_START = 0.054307660000638115;  \\/\\/ OPTIMIZE [0.02, 0.06] LOG/' -e 's/^constexpr double K_END = .*;   \\/\\/ OPTIMIZE \\[0\\.01, 0\\.05\\] LOG$/constexpr double K_END = 0.04998288005113403;   \\/\\/ OPTIMIZE [0.01, 0.05] LOG/' -e 's/^constexpr double K_H = .*;      \\/\\/ OPTIMIZE \\[0\\.001, 0\\.999\\]$/constexpr double K_H = 0.23048471676932983;      \\/\\/ OPTIMIZE [0.001, 0.999]/' -e 's/^constexpr short PURCHASE_TURN_LIMIT = .*;  \\/\\/ OPTIMIZE \\[790, 870\\]$/constexpr short PURCHASE_TURN_LIMIT = 843;  \\/\\/ OPTIMIZE [790, 870]/' -e 's/^constexpr int SUBSCORE3_TIGHT_TURN = .*;     \\/\\/ OPTIMIZE \\[0, 2\\]$/constexpr int SUBSCORE3_TIGHT_TURN = 0;     \\/\\/ OPTIMIZE [0, 2]/' -e 's/^constexpr int ROUGH_HASH = .*;      \\/\\/ OPTIMIZE {0, 0b00000001, 0b00010001, 0b00010011, 0b00110011}$/constexpr int ROUGH_HASH = 0;      \\/\\/ OPTIMIZE {0, 0b00000001, 0b00010001, 0b00010011, 0b00110011}/'\n",
      "g++ 6_main.cpp -std=gnu++17 -O2 -DONLINE_JUDGE -o 6_main.cpp.out 2> /dev/null\n"
     ]
    },
    {
     "name": "stderr",
     "output_type": "stream",
     "text": [
      "\u001b[32m[I 2021-09-10 09:57:14,920]\u001b[0m Trial 123 finished with value: 1003878745.0 and parameters: {'K_START': 0.05786129589715132, 'K_END': 0.04893874477914314, 'K_H': 0.2298007311865437, 'PURCHASE_TURN_LIMIT': 837, 'SUBSCORE3_TIGHT_TURN': 0, 'ROUGH_HASH': '0b00000001'}. Best is trial 116 with value: 1010815661.0.\u001b[0m\n"
     ]
    },
    {
     "name": "stdout",
     "output_type": "stream",
     "text": [
      "callback ok\n",
      "index_parallel=7\n",
      "sed -i 7_main.cpp -e 's/^constexpr double K_START = .*;  \\/\\/ OPTIMIZE \\[0\\.02, 0\\.06\\] LOG$/constexpr double K_START = 0.05398441385971038;  \\/\\/ OPTIMIZE [0.02, 0.06] LOG/' -e 's/^constexpr double K_END = .*;   \\/\\/ OPTIMIZE \\[0\\.01, 0\\.05\\] LOG$/constexpr double K_END = 0.046748838216464715;   \\/\\/ OPTIMIZE [0.01, 0.05] LOG/' -e 's/^constexpr double K_H = .*;      \\/\\/ OPTIMIZE \\[0\\.001, 0\\.999\\]$/constexpr double K_H = 0.06109918268480942;      \\/\\/ OPTIMIZE [0.001, 0.999]/' -e 's/^constexpr short PURCHASE_TURN_LIMIT = .*;  \\/\\/ OPTIMIZE \\[790, 870\\]$/constexpr short PURCHASE_TURN_LIMIT = 843;  \\/\\/ OPTIMIZE [790, 870]/' -e 's/^constexpr int SUBSCORE3_TIGHT_TURN = .*;     \\/\\/ OPTIMIZE \\[0, 2\\]$/constexpr int SUBSCORE3_TIGHT_TURN = 0;     \\/\\/ OPTIMIZE [0, 2]/' -e 's/^constexpr int ROUGH_HASH = .*;      \\/\\/ OPTIMIZE {0, 0b00000001, 0b00010001, 0b00010011, 0b00110011}$/constexpr int ROUGH_HASH = 0;      \\/\\/ OPTIMIZE {0, 0b00000001, 0b00010001, 0b00010011, 0b00110011}/'\n",
      "g++ 7_main.cpp -std=gnu++17 -O2 -DONLINE_JUDGE -o 7_main.cpp.out 2> /dev/null\n"
     ]
    },
    {
     "name": "stderr",
     "output_type": "stream",
     "text": [
      "\u001b[32m[I 2021-09-10 09:58:51,147]\u001b[0m Trial 124 finished with value: 1006118976.0 and parameters: {'K_START': 0.054638429984514555, 'K_END': 0.04954829432472628, 'K_H': 0.0965503819469091, 'PURCHASE_TURN_LIMIT': 838, 'SUBSCORE3_TIGHT_TURN': 0, 'ROUGH_HASH': '0'}. Best is trial 116 with value: 1010815661.0.\u001b[0m\n"
     ]
    },
    {
     "name": "stdout",
     "output_type": "stream",
     "text": [
      "callback ok\n",
      "index_parallel=8\n",
      "sed -i 8_main.cpp -e 's/^constexpr double K_START = .*;  \\/\\/ OPTIMIZE \\[0\\.02, 0\\.06\\] LOG$/constexpr double K_START = 0.054705376386133195;  \\/\\/ OPTIMIZE [0.02, 0.06] LOG/' -e 's/^constexpr double K_END = .*;   \\/\\/ OPTIMIZE \\[0\\.01, 0\\.05\\] LOG$/constexpr double K_END = 0.04631328933964429;   \\/\\/ OPTIMIZE [0.01, 0.05] LOG/' -e 's/^constexpr double K_H = .*;      \\/\\/ OPTIMIZE \\[0\\.001, 0\\.999\\]$/constexpr double K_H = 0.05434656634468294;      \\/\\/ OPTIMIZE [0.001, 0.999]/' -e 's/^constexpr short PURCHASE_TURN_LIMIT = .*;  \\/\\/ OPTIMIZE \\[790, 870\\]$/constexpr short PURCHASE_TURN_LIMIT = 842;  \\/\\/ OPTIMIZE [790, 870]/' -e 's/^constexpr int SUBSCORE3_TIGHT_TURN = .*;     \\/\\/ OPTIMIZE \\[0, 2\\]$/constexpr int SUBSCORE3_TIGHT_TURN = 0;     \\/\\/ OPTIMIZE [0, 2]/' -e 's/^constexpr int ROUGH_HASH = .*;      \\/\\/ OPTIMIZE {0, 0b00000001, 0b00010001, 0b00010011, 0b00110011}$/constexpr int ROUGH_HASH = 0;      \\/\\/ OPTIMIZE {0, 0b00000001, 0b00010001, 0b00010011, 0b00110011}/'\n",
      "g++ 8_main.cpp -std=gnu++17 -O2 -DONLINE_JUDGE -o 8_main.cpp.out 2> /dev/null\n"
     ]
    },
    {
     "name": "stderr",
     "output_type": "stream",
     "text": [
      "\u001b[32m[I 2021-09-10 09:59:55,393]\u001b[0m Trial 125 finished with value: 1005496675.0 and parameters: {'K_START': 0.05459966411095892, 'K_END': 0.048887239519825536, 'K_H': 0.23308270122577193, 'PURCHASE_TURN_LIMIT': 843, 'SUBSCORE3_TIGHT_TURN': 0, 'ROUGH_HASH': '0'}. Best is trial 116 with value: 1010815661.0.\u001b[0m\n"
     ]
    },
    {
     "name": "stdout",
     "output_type": "stream",
     "text": [
      "callback ok\n",
      "index_parallel=9\n",
      "sed -i 9_main.cpp -e 's/^constexpr double K_START = .*;  \\/\\/ OPTIMIZE \\[0\\.02, 0\\.06\\] LOG$/constexpr double K_START = 0.05330875267622668;  \\/\\/ OPTIMIZE [0.02, 0.06] LOG/' -e 's/^constexpr double K_END = .*;   \\/\\/ OPTIMIZE \\[0\\.01, 0\\.05\\] LOG$/constexpr double K_END = 0.046427679946784955;   \\/\\/ OPTIMIZE [0.01, 0.05] LOG/' -e 's/^constexpr double K_H = .*;      \\/\\/ OPTIMIZE \\[0\\.001, 0\\.999\\]$/constexpr double K_H = 0.06027165018941527;      \\/\\/ OPTIMIZE [0.001, 0.999]/' -e 's/^constexpr short PURCHASE_TURN_LIMIT = .*;  \\/\\/ OPTIMIZE \\[790, 870\\]$/constexpr short PURCHASE_TURN_LIMIT = 841;  \\/\\/ OPTIMIZE [790, 870]/' -e 's/^constexpr int SUBSCORE3_TIGHT_TURN = .*;     \\/\\/ OPTIMIZE \\[0, 2\\]$/constexpr int SUBSCORE3_TIGHT_TURN = 0;     \\/\\/ OPTIMIZE [0, 2]/' -e 's/^constexpr int ROUGH_HASH = .*;      \\/\\/ OPTIMIZE {0, 0b00000001, 0b00010001, 0b00010011, 0b00110011}$/constexpr int ROUGH_HASH = 0b00110011;      \\/\\/ OPTIMIZE {0, 0b00000001, 0b00010001, 0b00010011, 0b00110011}/'\n",
      "g++ 9_main.cpp -std=gnu++17 -O2 -DONLINE_JUDGE -o 9_main.cpp.out 2> /dev/null\n"
     ]
    },
    {
     "name": "stderr",
     "output_type": "stream",
     "text": [
      "\u001b[32m[I 2021-09-10 10:00:36,644]\u001b[0m Trial 126 finished with value: 1007555463.0 and parameters: {'K_START': 0.054307660000638115, 'K_END': 0.04998288005113403, 'K_H': 0.23048471676932983, 'PURCHASE_TURN_LIMIT': 843, 'SUBSCORE3_TIGHT_TURN': 0, 'ROUGH_HASH': '0'}. Best is trial 116 with value: 1010815661.0.\u001b[0m\n"
     ]
    },
    {
     "name": "stdout",
     "output_type": "stream",
     "text": [
      "callback ok\n",
      "index_parallel=10\n",
      "sed -i 10_main.cpp -e 's/^constexpr double K_START = .*;  \\/\\/ OPTIMIZE \\[0\\.02, 0\\.06\\] LOG$/constexpr double K_START = 0.055607776182643245;  \\/\\/ OPTIMIZE [0.02, 0.06] LOG/' -e 's/^constexpr double K_END = .*;   \\/\\/ OPTIMIZE \\[0\\.01, 0\\.05\\] LOG$/constexpr double K_END = 0.04753778307485847;   \\/\\/ OPTIMIZE [0.01, 0.05] LOG/' -e 's/^constexpr double K_H = .*;      \\/\\/ OPTIMIZE \\[0\\.001, 0\\.999\\]$/constexpr double K_H = 0.2970652505425825;      \\/\\/ OPTIMIZE [0.001, 0.999]/' -e 's/^constexpr short PURCHASE_TURN_LIMIT = .*;  \\/\\/ OPTIMIZE \\[790, 870\\]$/constexpr short PURCHASE_TURN_LIMIT = 841;  \\/\\/ OPTIMIZE [790, 870]/' -e 's/^constexpr int SUBSCORE3_TIGHT_TURN = .*;     \\/\\/ OPTIMIZE \\[0, 2\\]$/constexpr int SUBSCORE3_TIGHT_TURN = 0;     \\/\\/ OPTIMIZE [0, 2]/' -e 's/^constexpr int ROUGH_HASH = .*;      \\/\\/ OPTIMIZE {0, 0b00000001, 0b00010001, 0b00010011, 0b00110011}$/constexpr int ROUGH_HASH = 0b00110011;      \\/\\/ OPTIMIZE {0, 0b00000001, 0b00010001, 0b00010011, 0b00110011}/'\n",
      "g++ 10_main.cpp -std=gnu++17 -O2 -DONLINE_JUDGE -o 10_main.cpp.out 2> /dev/null\n"
     ]
    },
    {
     "name": "stderr",
     "output_type": "stream",
     "text": [
      "\u001b[32m[I 2021-09-10 10:01:58,390]\u001b[0m Trial 127 finished with value: 1004915897.0 and parameters: {'K_START': 0.05398441385971038, 'K_END': 0.046748838216464715, 'K_H': 0.06109918268480942, 'PURCHASE_TURN_LIMIT': 843, 'SUBSCORE3_TIGHT_TURN': 0, 'ROUGH_HASH': '0'}. Best is trial 116 with value: 1010815661.0.\u001b[0m\n"
     ]
    },
    {
     "name": "stdout",
     "output_type": "stream",
     "text": [
      "callback ok\n",
      "index_parallel=11\n",
      "sed -i 11_main.cpp -e 's/^constexpr double K_START = .*;  \\/\\/ OPTIMIZE \\[0\\.02, 0\\.06\\] LOG$/constexpr double K_START = 0.03468618670990455;  \\/\\/ OPTIMIZE [0.02, 0.06] LOG/' -e 's/^constexpr double K_END = .*;   \\/\\/ OPTIMIZE \\[0\\.01, 0\\.05\\] LOG$/constexpr double K_END = 0.012361152284357278;   \\/\\/ OPTIMIZE [0.01, 0.05] LOG/' -e 's/^constexpr double K_H = .*;      \\/\\/ OPTIMIZE \\[0\\.001, 0\\.999\\]$/constexpr double K_H = 0.3003076781870501;      \\/\\/ OPTIMIZE [0.001, 0.999]/' -e 's/^constexpr short PURCHASE_TURN_LIMIT = .*;  \\/\\/ OPTIMIZE \\[790, 870\\]$/constexpr short PURCHASE_TURN_LIMIT = 853;  \\/\\/ OPTIMIZE [790, 870]/' -e 's/^constexpr int SUBSCORE3_TIGHT_TURN = .*;     \\/\\/ OPTIMIZE \\[0, 2\\]$/constexpr int SUBSCORE3_TIGHT_TURN = 0;     \\/\\/ OPTIMIZE [0, 2]/' -e 's/^constexpr int ROUGH_HASH = .*;      \\/\\/ OPTIMIZE {0, 0b00000001, 0b00010001, 0b00010011, 0b00110011}$/constexpr int ROUGH_HASH = 0b00110011;      \\/\\/ OPTIMIZE {0, 0b00000001, 0b00010001, 0b00010011, 0b00110011}/'\n",
      "g++ 11_main.cpp -std=gnu++17 -O2 -DONLINE_JUDGE -o 11_main.cpp.out 2> /dev/null\n"
     ]
    },
    {
     "name": "stderr",
     "output_type": "stream",
     "text": [
      "\u001b[32m[I 2021-09-10 10:03:34,960]\u001b[0m Trial 128 finished with value: 1005392239.0 and parameters: {'K_START': 0.054705376386133195, 'K_END': 0.04631328933964429, 'K_H': 0.05434656634468294, 'PURCHASE_TURN_LIMIT': 842, 'SUBSCORE3_TIGHT_TURN': 0, 'ROUGH_HASH': '0'}. Best is trial 116 with value: 1010815661.0.\u001b[0m\n"
     ]
    },
    {
     "name": "stdout",
     "output_type": "stream",
     "text": [
      "callback ok\n",
      "index_parallel=0\n",
      "sed -i 0_main.cpp -e 's/^constexpr double K_START = .*;  \\/\\/ OPTIMIZE \\[0\\.02, 0\\.06\\] LOG$/constexpr double K_START = 0.04016079015072409;  \\/\\/ OPTIMIZE [0.02, 0.06] LOG/' -e 's/^constexpr double K_END = .*;   \\/\\/ OPTIMIZE \\[0\\.01, 0\\.05\\] LOG$/constexpr double K_END = 0.0466748886119165;   \\/\\/ OPTIMIZE [0.01, 0.05] LOG/' -e 's/^constexpr double K_H = .*;      \\/\\/ OPTIMIZE \\[0\\.001, 0\\.999\\]$/constexpr double K_H = 0.29692133350098227;      \\/\\/ OPTIMIZE [0.001, 0.999]/' -e 's/^constexpr short PURCHASE_TURN_LIMIT = .*;  \\/\\/ OPTIMIZE \\[790, 870\\]$/constexpr short PURCHASE_TURN_LIMIT = 840;  \\/\\/ OPTIMIZE [790, 870]/' -e 's/^constexpr int SUBSCORE3_TIGHT_TURN = .*;     \\/\\/ OPTIMIZE \\[0, 2\\]$/constexpr int SUBSCORE3_TIGHT_TURN = 0;     \\/\\/ OPTIMIZE [0, 2]/' -e 's/^constexpr int ROUGH_HASH = .*;      \\/\\/ OPTIMIZE {0, 0b00000001, 0b00010001, 0b00010011, 0b00110011}$/constexpr int ROUGH_HASH = 0b00110011;      \\/\\/ OPTIMIZE {0, 0b00000001, 0b00010001, 0b00010011, 0b00110011}/'\n",
      "g++ 0_main.cpp -std=gnu++17 -O2 -DONLINE_JUDGE -o 0_main.cpp.out 2> /dev/null\n"
     ]
    },
    {
     "name": "stderr",
     "output_type": "stream",
     "text": [
      "\u001b[32m[I 2021-09-10 10:03:37,544]\u001b[0m Trial 129 finished with value: 990271578.0 and parameters: {'K_START': 0.05330875267622668, 'K_END': 0.046427679946784955, 'K_H': 0.06027165018941527, 'PURCHASE_TURN_LIMIT': 841, 'SUBSCORE3_TIGHT_TURN': 0, 'ROUGH_HASH': '0b00110011'}. Best is trial 116 with value: 1010815661.0.\u001b[0m\n"
     ]
    },
    {
     "name": "stdout",
     "output_type": "stream",
     "text": [
      "callback ok\n",
      "index_parallel=1\n",
      "sed -i 1_main.cpp -e 's/^constexpr double K_START = .*;  \\/\\/ OPTIMIZE \\[0\\.02, 0\\.06\\] LOG$/constexpr double K_START = 0.05747082409641333;  \\/\\/ OPTIMIZE [0.02, 0.06] LOG/' -e 's/^constexpr double K_END = .*;   \\/\\/ OPTIMIZE \\[0\\.01, 0\\.05\\] LOG$/constexpr double K_END = 0.049803963889923517;   \\/\\/ OPTIMIZE [0.01, 0.05] LOG/' -e 's/^constexpr double K_H = .*;      \\/\\/ OPTIMIZE \\[0\\.001, 0\\.999\\]$/constexpr double K_H = 0.29509728646511274;      \\/\\/ OPTIMIZE [0.001, 0.999]/' -e 's/^constexpr short PURCHASE_TURN_LIMIT = .*;  \\/\\/ OPTIMIZE \\[790, 870\\]$/constexpr short PURCHASE_TURN_LIMIT = 840;  \\/\\/ OPTIMIZE [790, 870]/' -e 's/^constexpr int SUBSCORE3_TIGHT_TURN = .*;     \\/\\/ OPTIMIZE \\[0, 2\\]$/constexpr int SUBSCORE3_TIGHT_TURN = 0;     \\/\\/ OPTIMIZE [0, 2]/' -e 's/^constexpr int ROUGH_HASH = .*;      \\/\\/ OPTIMIZE {0, 0b00000001, 0b00010001, 0b00010011, 0b00110011}$/constexpr int ROUGH_HASH = 0;      \\/\\/ OPTIMIZE {0, 0b00000001, 0b00010001, 0b00010011, 0b00110011}/'\n",
      "g++ 1_main.cpp -std=gnu++17 -O2 -DONLINE_JUDGE -o 1_main.cpp.out 2> /dev/null\n"
     ]
    },
    {
     "name": "stderr",
     "output_type": "stream",
     "text": [
      "\u001b[32m[I 2021-09-10 10:04:19,009]\u001b[0m Trial 130 finished with value: 990886319.0 and parameters: {'K_START': 0.055607776182643245, 'K_END': 0.04753778307485847, 'K_H': 0.2970652505425825, 'PURCHASE_TURN_LIMIT': 841, 'SUBSCORE3_TIGHT_TURN': 0, 'ROUGH_HASH': '0b00110011'}. Best is trial 116 with value: 1010815661.0.\u001b[0m\n"
     ]
    },
    {
     "name": "stdout",
     "output_type": "stream",
     "text": [
      "callback ok\n",
      "index_parallel=2\n",
      "sed -i 2_main.cpp -e 's/^constexpr double K_START = .*;  \\/\\/ OPTIMIZE \\[0\\.02, 0\\.06\\] LOG$/constexpr double K_START = 0.056789894509266865;  \\/\\/ OPTIMIZE [0.02, 0.06] LOG/' -e 's/^constexpr double K_END = .*;   \\/\\/ OPTIMIZE \\[0\\.01, 0\\.05\\] LOG$/constexpr double K_END = 0.012681976698582226;   \\/\\/ OPTIMIZE [0.01, 0.05] LOG/' -e 's/^constexpr double K_H = .*;      \\/\\/ OPTIMIZE \\[0\\.001, 0\\.999\\]$/constexpr double K_H = 0.8948983176437137;      \\/\\/ OPTIMIZE [0.001, 0.999]/' -e 's/^constexpr short PURCHASE_TURN_LIMIT = .*;  \\/\\/ OPTIMIZE \\[790, 870\\]$/constexpr short PURCHASE_TURN_LIMIT = 839;  \\/\\/ OPTIMIZE [790, 870]/' -e 's/^constexpr int SUBSCORE3_TIGHT_TURN = .*;     \\/\\/ OPTIMIZE \\[0, 2\\]$/constexpr int SUBSCORE3_TIGHT_TURN = 0;     \\/\\/ OPTIMIZE [0, 2]/' -e 's/^constexpr int ROUGH_HASH = .*;      \\/\\/ OPTIMIZE {0, 0b00000001, 0b00010001, 0b00010011, 0b00110011}$/constexpr int ROUGH_HASH = 0;      \\/\\/ OPTIMIZE {0, 0b00000001, 0b00010001, 0b00010011, 0b00110011}/'\n",
      "g++ 2_main.cpp -std=gnu++17 -O2 -DONLINE_JUDGE -o 2_main.cpp.out 2> /dev/null\n"
     ]
    },
    {
     "name": "stderr",
     "output_type": "stream",
     "text": [
      "\u001b[32m[I 2021-09-10 10:05:40,407]\u001b[0m Trial 131 finished with value: 896756589.0 and parameters: {'K_START': 0.03468618670990455, 'K_END': 0.012361152284357278, 'K_H': 0.3003076781870501, 'PURCHASE_TURN_LIMIT': 853, 'SUBSCORE3_TIGHT_TURN': 0, 'ROUGH_HASH': '0b00110011'}. Best is trial 116 with value: 1010815661.0.\u001b[0m\n"
     ]
    },
    {
     "name": "stdout",
     "output_type": "stream",
     "text": [
      "callback ok\n",
      "index_parallel=3\n",
      "sed -i 3_main.cpp -e 's/^constexpr double K_START = .*;  \\/\\/ OPTIMIZE \\[0\\.02, 0\\.06\\] LOG$/constexpr double K_START = 0.0571366054343401;  \\/\\/ OPTIMIZE [0.02, 0.06] LOG/' -e 's/^constexpr double K_END = .*;   \\/\\/ OPTIMIZE \\[0\\.01, 0\\.05\\] LOG$/constexpr double K_END = 0.04579479138125647;   \\/\\/ OPTIMIZE [0.01, 0.05] LOG/' -e 's/^constexpr double K_H = .*;      \\/\\/ OPTIMIZE \\[0\\.001, 0\\.999\\]$/constexpr double K_H = 0.14781066928544476;      \\/\\/ OPTIMIZE [0.001, 0.999]/' -e 's/^constexpr short PURCHASE_TURN_LIMIT = .*;  \\/\\/ OPTIMIZE \\[790, 870\\]$/constexpr short PURCHASE_TURN_LIMIT = 844;  \\/\\/ OPTIMIZE [790, 870]/' -e 's/^constexpr int SUBSCORE3_TIGHT_TURN = .*;     \\/\\/ OPTIMIZE \\[0, 2\\]$/constexpr int SUBSCORE3_TIGHT_TURN = 0;     \\/\\/ OPTIMIZE [0, 2]/' -e 's/^constexpr int ROUGH_HASH = .*;      \\/\\/ OPTIMIZE {0, 0b00000001, 0b00010001, 0b00010011, 0b00110011}$/constexpr int ROUGH_HASH = 0;      \\/\\/ OPTIMIZE {0, 0b00000001, 0b00010001, 0b00010011, 0b00110011}/'\n",
      "g++ 3_main.cpp -std=gnu++17 -O2 -DONLINE_JUDGE -o 3_main.cpp.out 2> /dev/null\n"
     ]
    },
    {
     "name": "stderr",
     "output_type": "stream",
     "text": [
      "\u001b[32m[I 2021-09-10 10:07:13,500]\u001b[0m Trial 132 finished with value: 986302381.0 and parameters: {'K_START': 0.04016079015072409, 'K_END': 0.0466748886119165, 'K_H': 0.29692133350098227, 'PURCHASE_TURN_LIMIT': 840, 'SUBSCORE3_TIGHT_TURN': 0, 'ROUGH_HASH': '0b00110011'}. Best is trial 116 with value: 1010815661.0.\u001b[0m\n"
     ]
    },
    {
     "name": "stdout",
     "output_type": "stream",
     "text": [
      "callback ok\n",
      "index_parallel=4\n",
      "sed -i 4_main.cpp -e 's/^constexpr double K_START = .*;  \\/\\/ OPTIMIZE \\[0\\.02, 0\\.06\\] LOG$/constexpr double K_START = 0.05679525263750693;  \\/\\/ OPTIMIZE [0.02, 0.06] LOG/' -e 's/^constexpr double K_END = .*;   \\/\\/ OPTIMIZE \\[0\\.01, 0\\.05\\] LOG$/constexpr double K_END = 0.040680389099214044;   \\/\\/ OPTIMIZE [0.01, 0.05] LOG/' -e 's/^constexpr double K_H = .*;      \\/\\/ OPTIMIZE \\[0\\.001, 0\\.999\\]$/constexpr double K_H = 0.13283045485483314;      \\/\\/ OPTIMIZE [0.001, 0.999]/' -e 's/^constexpr short PURCHASE_TURN_LIMIT = .*;  \\/\\/ OPTIMIZE \\[790, 870\\]$/constexpr short PURCHASE_TURN_LIMIT = 844;  \\/\\/ OPTIMIZE [790, 870]/' -e 's/^constexpr int SUBSCORE3_TIGHT_TURN = .*;     \\/\\/ OPTIMIZE \\[0, 2\\]$/constexpr int SUBSCORE3_TIGHT_TURN = 0;     \\/\\/ OPTIMIZE [0, 2]/' -e 's/^constexpr int ROUGH_HASH = .*;      \\/\\/ OPTIMIZE {0, 0b00000001, 0b00010001, 0b00010011, 0b00110011}$/constexpr int ROUGH_HASH = 0;      \\/\\/ OPTIMIZE {0, 0b00000001, 0b00010001, 0b00010011, 0b00110011}/'\n",
      "g++ 4_main.cpp -std=gnu++17 -O2 -DONLINE_JUDGE -o 4_main.cpp.out 2> /dev/null\n"
     ]
    },
    {
     "name": "stderr",
     "output_type": "stream",
     "text": [
      "\u001b[32m[I 2021-09-10 10:08:23,297]\u001b[0m Trial 133 finished with value: 1007615996.0 and parameters: {'K_START': 0.05747082409641333, 'K_END': 0.049803963889923517, 'K_H': 0.29509728646511274, 'PURCHASE_TURN_LIMIT': 840, 'SUBSCORE3_TIGHT_TURN': 0, 'ROUGH_HASH': '0'}. Best is trial 116 with value: 1010815661.0.\u001b[0m\n"
     ]
    },
    {
     "name": "stdout",
     "output_type": "stream",
     "text": [
      "callback ok\n",
      "index_parallel=5\n",
      "sed -i 5_main.cpp -e 's/^constexpr double K_START = .*;  \\/\\/ OPTIMIZE \\[0\\.02, 0\\.06\\] LOG$/constexpr double K_START = 0.0569387326111816;  \\/\\/ OPTIMIZE [0.02, 0.06] LOG/' -e 's/^constexpr double K_END = .*;   \\/\\/ OPTIMIZE \\[0\\.01, 0\\.05\\] LOG$/constexpr double K_END = 0.04986766167371432;   \\/\\/ OPTIMIZE [0.01, 0.05] LOG/' -e 's/^constexpr double K_H = .*;      \\/\\/ OPTIMIZE \\[0\\.001, 0\\.999\\]$/constexpr double K_H = 0.3334298115076868;      \\/\\/ OPTIMIZE [0.001, 0.999]/' -e 's/^constexpr short PURCHASE_TURN_LIMIT = .*;  \\/\\/ OPTIMIZE \\[790, 870\\]$/constexpr short PURCHASE_TURN_LIMIT = 836;  \\/\\/ OPTIMIZE [790, 870]/' -e 's/^constexpr int SUBSCORE3_TIGHT_TURN = .*;     \\/\\/ OPTIMIZE \\[0, 2\\]$/constexpr int SUBSCORE3_TIGHT_TURN = 0;     \\/\\/ OPTIMIZE [0, 2]/' -e 's/^constexpr int ROUGH_HASH = .*;      \\/\\/ OPTIMIZE {0, 0b00000001, 0b00010001, 0b00010011, 0b00110011}$/constexpr int ROUGH_HASH = 0;      \\/\\/ OPTIMIZE {0, 0b00000001, 0b00010001, 0b00010011, 0b00110011}/'\n",
      "g++ 5_main.cpp -std=gnu++17 -O2 -DONLINE_JUDGE -o 5_main.cpp.out 2> /dev/null\n"
     ]
    },
    {
     "name": "stderr",
     "output_type": "stream",
     "text": [
      "\u001b[32m[I 2021-09-10 10:08:47,516]\u001b[0m Trial 134 finished with value: 858716560.0 and parameters: {'K_START': 0.056789894509266865, 'K_END': 0.012681976698582226, 'K_H': 0.8948983176437137, 'PURCHASE_TURN_LIMIT': 839, 'SUBSCORE3_TIGHT_TURN': 0, 'ROUGH_HASH': '0'}. Best is trial 116 with value: 1010815661.0.\u001b[0m\n"
     ]
    },
    {
     "name": "stdout",
     "output_type": "stream",
     "text": [
      "callback ok\n",
      "index_parallel=6\n",
      "sed -i 6_main.cpp -e 's/^constexpr double K_START = .*;  \\/\\/ OPTIMIZE \\[0\\.02, 0\\.06\\] LOG$/constexpr double K_START = 0.0574568954856545;  \\/\\/ OPTIMIZE [0.02, 0.06] LOG/' -e 's/^constexpr double K_END = .*;   \\/\\/ OPTIMIZE \\[0\\.01, 0\\.05\\] LOG$/constexpr double K_END = 0.049919753128990385;   \\/\\/ OPTIMIZE [0.01, 0.05] LOG/' -e 's/^constexpr double K_H = .*;      \\/\\/ OPTIMIZE \\[0\\.001, 0\\.999\\]$/constexpr double K_H = 0.3349307489011556;      \\/\\/ OPTIMIZE [0.001, 0.999]/' -e 's/^constexpr short PURCHASE_TURN_LIMIT = .*;  \\/\\/ OPTIMIZE \\[790, 870\\]$/constexpr short PURCHASE_TURN_LIMIT = 836;  \\/\\/ OPTIMIZE [790, 870]/' -e 's/^constexpr int SUBSCORE3_TIGHT_TURN = .*;     \\/\\/ OPTIMIZE \\[0, 2\\]$/constexpr int SUBSCORE3_TIGHT_TURN = 0;     \\/\\/ OPTIMIZE [0, 2]/' -e 's/^constexpr int ROUGH_HASH = .*;      \\/\\/ OPTIMIZE {0, 0b00000001, 0b00010001, 0b00010011, 0b00110011}$/constexpr int ROUGH_HASH = 0;      \\/\\/ OPTIMIZE {0, 0b00000001, 0b00010001, 0b00010011, 0b00110011}/'\n",
      "g++ 6_main.cpp -std=gnu++17 -O2 -DONLINE_JUDGE -o 6_main.cpp.out 2> /dev/null\n"
     ]
    },
    {
     "name": "stderr",
     "output_type": "stream",
     "text": [
      "\u001b[32m[I 2021-09-10 10:10:24,996]\u001b[0m Trial 135 finished with value: 1006350869.0 and parameters: {'K_START': 0.0571366054343401, 'K_END': 0.04579479138125647, 'K_H': 0.14781066928544476, 'PURCHASE_TURN_LIMIT': 844, 'SUBSCORE3_TIGHT_TURN': 0, 'ROUGH_HASH': '0'}. Best is trial 116 with value: 1010815661.0.\u001b[0m\n"
     ]
    },
    {
     "name": "stdout",
     "output_type": "stream",
     "text": [
      "callback ok\n",
      "index_parallel=7\n",
      "sed -i 7_main.cpp -e 's/^constexpr double K_START = .*;  \\/\\/ OPTIMIZE \\[0\\.02, 0\\.06\\] LOG$/constexpr double K_START = 0.05907390530664906;  \\/\\/ OPTIMIZE [0.02, 0.06] LOG/' -e 's/^constexpr double K_END = .*;   \\/\\/ OPTIMIZE \\[0\\.01, 0\\.05\\] LOG$/constexpr double K_END = 0.040960365180909536;   \\/\\/ OPTIMIZE [0.01, 0.05] LOG/' -e 's/^constexpr double K_H = .*;      \\/\\/ OPTIMIZE \\[0\\.001, 0\\.999\\]$/constexpr double K_H = 0.3338761076691301;      \\/\\/ OPTIMIZE [0.001, 0.999]/' -e 's/^constexpr short PURCHASE_TURN_LIMIT = .*;  \\/\\/ OPTIMIZE \\[790, 870\\]$/constexpr short PURCHASE_TURN_LIMIT = 835;  \\/\\/ OPTIMIZE [790, 870]/' -e 's/^constexpr int SUBSCORE3_TIGHT_TURN = .*;     \\/\\/ OPTIMIZE \\[0, 2\\]$/constexpr int SUBSCORE3_TIGHT_TURN = 0;     \\/\\/ OPTIMIZE [0, 2]/' -e 's/^constexpr int ROUGH_HASH = .*;      \\/\\/ OPTIMIZE {0, 0b00000001, 0b00010001, 0b00010011, 0b00110011}$/constexpr int ROUGH_HASH = 0;      \\/\\/ OPTIMIZE {0, 0b00000001, 0b00010001, 0b00010011, 0b00110011}/'\n",
      "g++ 7_main.cpp -std=gnu++17 -O2 -DONLINE_JUDGE -o 7_main.cpp.out 2> /dev/null\n"
     ]
    },
    {
     "name": "stderr",
     "output_type": "stream",
     "text": [
      "\u001b[32m[I 2021-09-10 10:12:00,601]\u001b[0m Trial 136 finished with value: 1006576477.0 and parameters: {'K_START': 0.05679525263750693, 'K_END': 0.040680389099214044, 'K_H': 0.13283045485483314, 'PURCHASE_TURN_LIMIT': 844, 'SUBSCORE3_TIGHT_TURN': 0, 'ROUGH_HASH': '0'}. Best is trial 116 with value: 1010815661.0.\u001b[0m\n"
     ]
    },
    {
     "name": "stdout",
     "output_type": "stream",
     "text": [
      "callback ok\n",
      "index_parallel=8\n",
      "sed -i 8_main.cpp -e 's/^constexpr double K_START = .*;  \\/\\/ OPTIMIZE \\[0\\.02, 0\\.06\\] LOG$/constexpr double K_START = 0.05856447020104883;  \\/\\/ OPTIMIZE [0.02, 0.06] LOG/' -e 's/^constexpr double K_END = .*;   \\/\\/ OPTIMIZE \\[0\\.01, 0\\.05\\] LOG$/constexpr double K_END = 0.04961851635758896;   \\/\\/ OPTIMIZE [0.01, 0.05] LOG/' -e 's/^constexpr double K_H = .*;      \\/\\/ OPTIMIZE \\[0\\.001, 0\\.999\\]$/constexpr double K_H = 0.3317531499134997;      \\/\\/ OPTIMIZE [0.001, 0.999]/' -e 's/^constexpr short PURCHASE_TURN_LIMIT = .*;  \\/\\/ OPTIMIZE \\[790, 870\\]$/constexpr short PURCHASE_TURN_LIMIT = 835;  \\/\\/ OPTIMIZE [790, 870]/' -e 's/^constexpr int SUBSCORE3_TIGHT_TURN = .*;     \\/\\/ OPTIMIZE \\[0, 2\\]$/constexpr int SUBSCORE3_TIGHT_TURN = 0;     \\/\\/ OPTIMIZE [0, 2]/' -e 's/^constexpr int ROUGH_HASH = .*;      \\/\\/ OPTIMIZE {0, 0b00000001, 0b00010001, 0b00010011, 0b00110011}$/constexpr int ROUGH_HASH = 0;      \\/\\/ OPTIMIZE {0, 0b00000001, 0b00010001, 0b00010011, 0b00110011}/'\n",
      "g++ 8_main.cpp -std=gnu++17 -O2 -DONLINE_JUDGE -o 8_main.cpp.out 2> /dev/null\n"
     ]
    },
    {
     "name": "stderr",
     "output_type": "stream",
     "text": [
      "\u001b[32m[I 2021-09-10 10:13:04,409]\u001b[0m Trial 137 finished with value: 1007251339.0 and parameters: {'K_START': 0.0569387326111816, 'K_END': 0.04986766167371432, 'K_H': 0.3334298115076868, 'PURCHASE_TURN_LIMIT': 836, 'SUBSCORE3_TIGHT_TURN': 0, 'ROUGH_HASH': '0'}. Best is trial 116 with value: 1010815661.0.\u001b[0m\n"
     ]
    },
    {
     "name": "stdout",
     "output_type": "stream",
     "text": [
      "callback ok\n",
      "index_parallel=9\n",
      "sed -i 9_main.cpp -e 's/^constexpr double K_START = .*;  \\/\\/ OPTIMIZE \\[0\\.02, 0\\.06\\] LOG$/constexpr double K_START = 0.05854701419792805;  \\/\\/ OPTIMIZE [0.02, 0.06] LOG/' -e 's/^constexpr double K_END = .*;   \\/\\/ OPTIMIZE \\[0\\.01, 0\\.05\\] LOG$/constexpr double K_END = 0.04990264097716441;   \\/\\/ OPTIMIZE [0.01, 0.05] LOG/' -e 's/^constexpr double K_H = .*;      \\/\\/ OPTIMIZE \\[0\\.001, 0\\.999\\]$/constexpr double K_H = 0.32936622916225705;      \\/\\/ OPTIMIZE [0.001, 0.999]/' -e 's/^constexpr short PURCHASE_TURN_LIMIT = .*;  \\/\\/ OPTIMIZE \\[790, 870\\]$/constexpr short PURCHASE_TURN_LIMIT = 834;  \\/\\/ OPTIMIZE [790, 870]/' -e 's/^constexpr int SUBSCORE3_TIGHT_TURN = .*;     \\/\\/ OPTIMIZE \\[0, 2\\]$/constexpr int SUBSCORE3_TIGHT_TURN = 0;     \\/\\/ OPTIMIZE [0, 2]/' -e 's/^constexpr int ROUGH_HASH = .*;      \\/\\/ OPTIMIZE {0, 0b00000001, 0b00010001, 0b00010011, 0b00110011}$/constexpr int ROUGH_HASH = 0;      \\/\\/ OPTIMIZE {0, 0b00000001, 0b00010001, 0b00010011, 0b00110011}/'\n",
      "g++ 9_main.cpp -std=gnu++17 -O2 -DONLINE_JUDGE -o 9_main.cpp.out 2> /dev/null\n"
     ]
    },
    {
     "name": "stderr",
     "output_type": "stream",
     "text": [
      "\u001b[32m[I 2021-09-10 10:13:29,987]\u001b[0m Trial 138 finished with value: 1005659497.0 and parameters: {'K_START': 0.0574568954856545, 'K_END': 0.049919753128990385, 'K_H': 0.3349307489011556, 'PURCHASE_TURN_LIMIT': 836, 'SUBSCORE3_TIGHT_TURN': 0, 'ROUGH_HASH': '0'}. Best is trial 116 with value: 1010815661.0.\u001b[0m\n"
     ]
    },
    {
     "name": "stdout",
     "output_type": "stream",
     "text": [
      "callback ok\n",
      "index_parallel=10\n",
      "sed -i 10_main.cpp -e 's/^constexpr double K_START = .*;  \\/\\/ OPTIMIZE \\[0\\.02, 0\\.06\\] LOG$/constexpr double K_START = 0.05887575253382922;  \\/\\/ OPTIMIZE [0.02, 0.06] LOG/' -e 's/^constexpr double K_END = .*;   \\/\\/ OPTIMIZE \\[0\\.01, 0\\.05\\] LOG$/constexpr double K_END = 0.049732663718669766;   \\/\\/ OPTIMIZE [0.01, 0.05] LOG/' -e 's/^constexpr double K_H = .*;      \\/\\/ OPTIMIZE \\[0\\.001, 0\\.999\\]$/constexpr double K_H = 0.18280847339543277;      \\/\\/ OPTIMIZE [0.001, 0.999]/' -e 's/^constexpr short PURCHASE_TURN_LIMIT = .*;  \\/\\/ OPTIMIZE \\[790, 870\\]$/constexpr short PURCHASE_TURN_LIMIT = 838;  \\/\\/ OPTIMIZE [790, 870]/' -e 's/^constexpr int SUBSCORE3_TIGHT_TURN = .*;     \\/\\/ OPTIMIZE \\[0, 2\\]$/constexpr int SUBSCORE3_TIGHT_TURN = 0;     \\/\\/ OPTIMIZE [0, 2]/' -e 's/^constexpr int ROUGH_HASH = .*;      \\/\\/ OPTIMIZE {0, 0b00000001, 0b00010001, 0b00010011, 0b00110011}$/constexpr int ROUGH_HASH = 0;      \\/\\/ OPTIMIZE {0, 0b00000001, 0b00010001, 0b00010011, 0b00110011}/'\n",
      "g++ 10_main.cpp -std=gnu++17 -O2 -DONLINE_JUDGE -o 10_main.cpp.out 2> /dev/null\n"
     ]
    },
    {
     "name": "stderr",
     "output_type": "stream",
     "text": [
      "\u001b[32m[I 2021-09-10 10:15:06,596]\u001b[0m Trial 139 finished with value: 1007339833.0 and parameters: {'K_START': 0.05907390530664906, 'K_END': 0.040960365180909536, 'K_H': 0.3338761076691301, 'PURCHASE_TURN_LIMIT': 835, 'SUBSCORE3_TIGHT_TURN': 0, 'ROUGH_HASH': '0'}. Best is trial 116 with value: 1010815661.0.\u001b[0m\n"
     ]
    },
    {
     "name": "stdout",
     "output_type": "stream",
     "text": [
      "callback ok\n",
      "index_parallel=11\n",
      "sed -i 11_main.cpp -e 's/^constexpr double K_START = .*;  \\/\\/ OPTIMIZE \\[0\\.02, 0\\.06\\] LOG$/constexpr double K_START = 0.058726787233205895;  \\/\\/ OPTIMIZE [0.02, 0.06] LOG/' -e 's/^constexpr double K_END = .*;   \\/\\/ OPTIMIZE \\[0\\.01, 0\\.05\\] LOG$/constexpr double K_END = 0.04805025386831982;   \\/\\/ OPTIMIZE [0.01, 0.05] LOG/' -e 's/^constexpr double K_H = .*;      \\/\\/ OPTIMIZE \\[0\\.001, 0\\.999\\]$/constexpr double K_H = 0.3315520982562832;      \\/\\/ OPTIMIZE [0.001, 0.999]/' -e 's/^constexpr short PURCHASE_TURN_LIMIT = .*;  \\/\\/ OPTIMIZE \\[790, 870\\]$/constexpr short PURCHASE_TURN_LIMIT = 834;  \\/\\/ OPTIMIZE [790, 870]/' -e 's/^constexpr int SUBSCORE3_TIGHT_TURN = .*;     \\/\\/ OPTIMIZE \\[0, 2\\]$/constexpr int SUBSCORE3_TIGHT_TURN = 0;     \\/\\/ OPTIMIZE [0, 2]/' -e 's/^constexpr int ROUGH_HASH = .*;      \\/\\/ OPTIMIZE {0, 0b00000001, 0b00010001, 0b00010011, 0b00110011}$/constexpr int ROUGH_HASH = 0;      \\/\\/ OPTIMIZE {0, 0b00000001, 0b00010001, 0b00010011, 0b00110011}/'\n",
      "g++ 11_main.cpp -std=gnu++17 -O2 -DONLINE_JUDGE -o 11_main.cpp.out 2> /dev/null\n"
     ]
    },
    {
     "name": "stderr",
     "output_type": "stream",
     "text": [
      "\u001b[32m[I 2021-09-10 10:16:43,603]\u001b[0m Trial 140 finished with value: 1008678744.0 and parameters: {'K_START': 0.05856447020104883, 'K_END': 0.04961851635758896, 'K_H': 0.3317531499134997, 'PURCHASE_TURN_LIMIT': 835, 'SUBSCORE3_TIGHT_TURN': 0, 'ROUGH_HASH': '0'}. Best is trial 116 with value: 1010815661.0.\u001b[0m\n"
     ]
    },
    {
     "name": "stdout",
     "output_type": "stream",
     "text": [
      "callback ok\n",
      "index_parallel=0\n",
      "sed -i 0_main.cpp -e 's/^constexpr double K_START = .*;  \\/\\/ OPTIMIZE \\[0\\.02, 0\\.06\\] LOG$/constexpr double K_START = 0.05873153289064611;  \\/\\/ OPTIMIZE [0.02, 0.06] LOG/' -e 's/^constexpr double K_END = .*;   \\/\\/ OPTIMIZE \\[0\\.01, 0\\.05\\] LOG$/constexpr double K_END = 0.04994365837919253;   \\/\\/ OPTIMIZE [0.01, 0.05] LOG/' -e 's/^constexpr double K_H = .*;      \\/\\/ OPTIMIZE \\[0\\.001, 0\\.999\\]$/constexpr double K_H = 0.3287215684712249;      \\/\\/ OPTIMIZE [0.001, 0.999]/' -e 's/^constexpr short PURCHASE_TURN_LIMIT = .*;  \\/\\/ OPTIMIZE \\[790, 870\\]$/constexpr short PURCHASE_TURN_LIMIT = 833;  \\/\\/ OPTIMIZE [790, 870]/' -e 's/^constexpr int SUBSCORE3_TIGHT_TURN = .*;     \\/\\/ OPTIMIZE \\[0, 2\\]$/constexpr int SUBSCORE3_TIGHT_TURN = 0;     \\/\\/ OPTIMIZE [0, 2]/' -e 's/^constexpr int ROUGH_HASH = .*;      \\/\\/ OPTIMIZE {0, 0b00000001, 0b00010001, 0b00010011, 0b00110011}$/constexpr int ROUGH_HASH = 0;      \\/\\/ OPTIMIZE {0, 0b00000001, 0b00010001, 0b00010011, 0b00110011}/'\n",
      "g++ 0_main.cpp -std=gnu++17 -O2 -DONLINE_JUDGE -o 0_main.cpp.out 2> /dev/null\n"
     ]
    },
    {
     "name": "stderr",
     "output_type": "stream",
     "text": [
      "\u001b[32m[I 2021-09-10 10:17:41,433]\u001b[0m Trial 141 finished with value: 1006178523.0 and parameters: {'K_START': 0.05854701419792805, 'K_END': 0.04990264097716441, 'K_H': 0.32936622916225705, 'PURCHASE_TURN_LIMIT': 834, 'SUBSCORE3_TIGHT_TURN': 0, 'ROUGH_HASH': '0'}. Best is trial 116 with value: 1010815661.0.\u001b[0m\n"
     ]
    },
    {
     "name": "stdout",
     "output_type": "stream",
     "text": [
      "callback ok\n",
      "index_parallel=1\n",
      "sed -i 1_main.cpp -e 's/^constexpr double K_START = .*;  \\/\\/ OPTIMIZE \\[0\\.02, 0\\.06\\] LOG$/constexpr double K_START = 0.058988440280195314;  \\/\\/ OPTIMIZE [0.02, 0.06] LOG/' -e 's/^constexpr double K_END = .*;   \\/\\/ OPTIMIZE \\[0\\.01, 0\\.05\\] LOG$/constexpr double K_END = 0.04819076890755485;   \\/\\/ OPTIMIZE [0.01, 0.05] LOG/' -e 's/^constexpr double K_H = .*;      \\/\\/ OPTIMIZE \\[0\\.001, 0\\.999\\]$/constexpr double K_H = 0.3623980200104112;      \\/\\/ OPTIMIZE [0.001, 0.999]/' -e 's/^constexpr short PURCHASE_TURN_LIMIT = .*;  \\/\\/ OPTIMIZE \\[790, 870\\]$/constexpr short PURCHASE_TURN_LIMIT = 832;  \\/\\/ OPTIMIZE [790, 870]/' -e 's/^constexpr int SUBSCORE3_TIGHT_TURN = .*;     \\/\\/ OPTIMIZE \\[0, 2\\]$/constexpr int SUBSCORE3_TIGHT_TURN = 0;     \\/\\/ OPTIMIZE [0, 2]/' -e 's/^constexpr int ROUGH_HASH = .*;      \\/\\/ OPTIMIZE {0, 0b00000001, 0b00010001, 0b00010011, 0b00110011}$/constexpr int ROUGH_HASH = 0;      \\/\\/ OPTIMIZE {0, 0b00000001, 0b00010001, 0b00010011, 0b00110011}/'\n",
      "g++ 1_main.cpp -std=gnu++17 -O2 -DONLINE_JUDGE -o 1_main.cpp.out 2> /dev/null\n"
     ]
    },
    {
     "name": "stderr",
     "output_type": "stream",
     "text": [
      "\u001b[32m[I 2021-09-10 10:18:13,049]\u001b[0m Trial 142 finished with value: 1005828752.0 and parameters: {'K_START': 0.05887575253382922, 'K_END': 0.049732663718669766, 'K_H': 0.18280847339543277, 'PURCHASE_TURN_LIMIT': 838, 'SUBSCORE3_TIGHT_TURN': 0, 'ROUGH_HASH': '0'}. Best is trial 116 with value: 1010815661.0.\u001b[0m\n"
     ]
    },
    {
     "name": "stdout",
     "output_type": "stream",
     "text": [
      "callback ok\n",
      "index_parallel=2\n",
      "sed -i 2_main.cpp -e 's/^constexpr double K_START = .*;  \\/\\/ OPTIMIZE \\[0\\.02, 0\\.06\\] LOG$/constexpr double K_START = 0.055746175757179585;  \\/\\/ OPTIMIZE [0.02, 0.06] LOG/' -e 's/^constexpr double K_END = .*;   \\/\\/ OPTIMIZE \\[0\\.01, 0\\.05\\] LOG$/constexpr double K_END = 0.04797563712762193;   \\/\\/ OPTIMIZE [0.01, 0.05] LOG/' -e 's/^constexpr double K_H = .*;      \\/\\/ OPTIMIZE \\[0\\.001, 0\\.999\\]$/constexpr double K_H = 0.35801146233547027;      \\/\\/ OPTIMIZE [0.001, 0.999]/' -e 's/^constexpr short PURCHASE_TURN_LIMIT = .*;  \\/\\/ OPTIMIZE \\[790, 870\\]$/constexpr short PURCHASE_TURN_LIMIT = 834;  \\/\\/ OPTIMIZE [790, 870]/' -e 's/^constexpr int SUBSCORE3_TIGHT_TURN = .*;     \\/\\/ OPTIMIZE \\[0, 2\\]$/constexpr int SUBSCORE3_TIGHT_TURN = 0;     \\/\\/ OPTIMIZE [0, 2]/' -e 's/^constexpr int ROUGH_HASH = .*;      \\/\\/ OPTIMIZE {0, 0b00000001, 0b00010001, 0b00010011, 0b00110011}$/constexpr int ROUGH_HASH = 0;      \\/\\/ OPTIMIZE {0, 0b00000001, 0b00010001, 0b00010011, 0b00110011}/'\n",
      "g++ 2_main.cpp -std=gnu++17 -O2 -DONLINE_JUDGE -o 2_main.cpp.out 2> /dev/null\n"
     ]
    },
    {
     "name": "stderr",
     "output_type": "stream",
     "text": [
      "\u001b[32m[I 2021-09-10 10:19:50,450]\u001b[0m Trial 143 finished with value: 1007225152.0 and parameters: {'K_START': 0.058726787233205895, 'K_END': 0.04805025386831982, 'K_H': 0.3315520982562832, 'PURCHASE_TURN_LIMIT': 834, 'SUBSCORE3_TIGHT_TURN': 0, 'ROUGH_HASH': '0'}. Best is trial 116 with value: 1010815661.0.\u001b[0m\n"
     ]
    },
    {
     "name": "stdout",
     "output_type": "stream",
     "text": [
      "callback ok\n",
      "index_parallel=3\n",
      "sed -i 3_main.cpp -e 's/^constexpr double K_START = .*;  \\/\\/ OPTIMIZE \\[0\\.02, 0\\.06\\] LOG$/constexpr double K_START = 0.05985549159368533;  \\/\\/ OPTIMIZE [0.02, 0.06] LOG/' -e 's/^constexpr double K_END = .*;   \\/\\/ OPTIMIZE \\[0\\.01, 0\\.05\\] LOG$/constexpr double K_END = 0.04790379215420726;   \\/\\/ OPTIMIZE [0.01, 0.05] LOG/' -e 's/^constexpr double K_H = .*;      \\/\\/ OPTIMIZE \\[0\\.001, 0\\.999\\]$/constexpr double K_H = 0.3655065603865613;      \\/\\/ OPTIMIZE [0.001, 0.999]/' -e 's/^constexpr short PURCHASE_TURN_LIMIT = .*;  \\/\\/ OPTIMIZE \\[790, 870\\]$/constexpr short PURCHASE_TURN_LIMIT = 832;  \\/\\/ OPTIMIZE [790, 870]/' -e 's/^constexpr int SUBSCORE3_TIGHT_TURN = .*;     \\/\\/ OPTIMIZE \\[0, 2\\]$/constexpr int SUBSCORE3_TIGHT_TURN = 0;     \\/\\/ OPTIMIZE [0, 2]/' -e 's/^constexpr int ROUGH_HASH = .*;      \\/\\/ OPTIMIZE {0, 0b00000001, 0b00010001, 0b00010011, 0b00110011}$/constexpr int ROUGH_HASH = 0;      \\/\\/ OPTIMIZE {0, 0b00000001, 0b00010001, 0b00010011, 0b00110011}/'\n",
      "g++ 3_main.cpp -std=gnu++17 -O2 -DONLINE_JUDGE -o 3_main.cpp.out 2> /dev/null\n"
     ]
    },
    {
     "name": "stderr",
     "output_type": "stream",
     "text": [
      "\u001b[32m[I 2021-09-10 10:21:23,346]\u001b[0m Trial 144 finished with value: 1006616875.0 and parameters: {'K_START': 0.05873153289064611, 'K_END': 0.04994365837919253, 'K_H': 0.3287215684712249, 'PURCHASE_TURN_LIMIT': 833, 'SUBSCORE3_TIGHT_TURN': 0, 'ROUGH_HASH': '0'}. Best is trial 116 with value: 1010815661.0.\u001b[0m\n"
     ]
    },
    {
     "name": "stdout",
     "output_type": "stream",
     "text": [
      "callback ok\n",
      "index_parallel=4\n",
      "sed -i 4_main.cpp -e 's/^constexpr double K_START = .*;  \\/\\/ OPTIMIZE \\[0\\.02, 0\\.06\\] LOG$/constexpr double K_START = 0.05579671961596139;  \\/\\/ OPTIMIZE [0.02, 0.06] LOG/' -e 's/^constexpr double K_END = .*;   \\/\\/ OPTIMIZE \\[0\\.01, 0\\.05\\] LOG$/constexpr double K_END = 0.04845529982583435;   \\/\\/ OPTIMIZE [0.01, 0.05] LOG/' -e 's/^constexpr double K_H = .*;      \\/\\/ OPTIMIZE \\[0\\.001, 0\\.999\\]$/constexpr double K_H = 0.36123288144714494;      \\/\\/ OPTIMIZE [0.001, 0.999]/' -e 's/^constexpr short PURCHASE_TURN_LIMIT = .*;  \\/\\/ OPTIMIZE \\[790, 870\\]$/constexpr short PURCHASE_TURN_LIMIT = 831;  \\/\\/ OPTIMIZE [790, 870]/' -e 's/^constexpr int SUBSCORE3_TIGHT_TURN = .*;     \\/\\/ OPTIMIZE \\[0, 2\\]$/constexpr int SUBSCORE3_TIGHT_TURN = 0;     \\/\\/ OPTIMIZE [0, 2]/' -e 's/^constexpr int ROUGH_HASH = .*;      \\/\\/ OPTIMIZE {0, 0b00000001, 0b00010001, 0b00010011, 0b00110011}$/constexpr int ROUGH_HASH = 0;      \\/\\/ OPTIMIZE {0, 0b00000001, 0b00010001, 0b00010011, 0b00110011}/'\n",
      "g++ 4_main.cpp -std=gnu++17 -O2 -DONLINE_JUDGE -o 4_main.cpp.out 2> /dev/null\n"
     ]
    },
    {
     "name": "stderr",
     "output_type": "stream",
     "text": [
      "\u001b[32m[I 2021-09-10 10:22:21,946]\u001b[0m Trial 145 finished with value: 1003989588.0 and parameters: {'K_START': 0.058988440280195314, 'K_END': 0.04819076890755485, 'K_H': 0.3623980200104112, 'PURCHASE_TURN_LIMIT': 832, 'SUBSCORE3_TIGHT_TURN': 0, 'ROUGH_HASH': '0'}. Best is trial 116 with value: 1010815661.0.\u001b[0m\n"
     ]
    },
    {
     "name": "stdout",
     "output_type": "stream",
     "text": [
      "callback ok\n",
      "index_parallel=5\n",
      "sed -i 5_main.cpp -e 's/^constexpr double K_START = .*;  \\/\\/ OPTIMIZE \\[0\\.02, 0\\.06\\] LOG$/constexpr double K_START = 0.05576874210312987;  \\/\\/ OPTIMIZE [0.02, 0.06] LOG/' -e 's/^constexpr double K_END = .*;   \\/\\/ OPTIMIZE \\[0\\.01, 0\\.05\\] LOG$/constexpr double K_END = 0.0478942585755239;   \\/\\/ OPTIMIZE [0.01, 0.05] LOG/' -e 's/^constexpr double K_H = .*;      \\/\\/ OPTIMIZE \\[0\\.001, 0\\.999\\]$/constexpr double K_H = 0.4313688442083976;      \\/\\/ OPTIMIZE [0.001, 0.999]/' -e 's/^constexpr short PURCHASE_TURN_LIMIT = .*;  \\/\\/ OPTIMIZE \\[790, 870\\]$/constexpr short PURCHASE_TURN_LIMIT = 837;  \\/\\/ OPTIMIZE [790, 870]/' -e 's/^constexpr int SUBSCORE3_TIGHT_TURN = .*;     \\/\\/ OPTIMIZE \\[0, 2\\]$/constexpr int SUBSCORE3_TIGHT_TURN = 0;     \\/\\/ OPTIMIZE [0, 2]/' -e 's/^constexpr int ROUGH_HASH = .*;      \\/\\/ OPTIMIZE {0, 0b00000001, 0b00010001, 0b00010011, 0b00110011}$/constexpr int ROUGH_HASH = 0;      \\/\\/ OPTIMIZE {0, 0b00000001, 0b00010001, 0b00010011, 0b00110011}/'\n",
      "g++ 5_main.cpp -std=gnu++17 -O2 -DONLINE_JUDGE -o 5_main.cpp.out 2> /dev/null\n"
     ]
    },
    {
     "name": "stderr",
     "output_type": "stream",
     "text": [
      "\u001b[32m[I 2021-09-10 10:22:54,541]\u001b[0m Trial 146 finished with value: 1002924757.0 and parameters: {'K_START': 0.055746175757179585, 'K_END': 0.04797563712762193, 'K_H': 0.35801146233547027, 'PURCHASE_TURN_LIMIT': 834, 'SUBSCORE3_TIGHT_TURN': 0, 'ROUGH_HASH': '0'}. Best is trial 116 with value: 1010815661.0.\u001b[0m\n"
     ]
    },
    {
     "name": "stdout",
     "output_type": "stream",
     "text": [
      "callback ok\n",
      "index_parallel=6\n",
      "sed -i 6_main.cpp -e 's/^constexpr double K_START = .*;  \\/\\/ OPTIMIZE \\[0\\.02, 0\\.06\\] LOG$/constexpr double K_START = 0.05985798325244581;  \\/\\/ OPTIMIZE [0.02, 0.06] LOG/' -e 's/^constexpr double K_END = .*;   \\/\\/ OPTIMIZE \\[0\\.01, 0\\.05\\] LOG$/constexpr double K_END = 0.04338616781568619;   \\/\\/ OPTIMIZE [0.01, 0.05] LOG/' -e 's/^constexpr double K_H = .*;      \\/\\/ OPTIMIZE \\[0\\.001, 0\\.999\\]$/constexpr double K_H = 0.39589146647081247;      \\/\\/ OPTIMIZE [0.001, 0.999]/' -e 's/^constexpr short PURCHASE_TURN_LIMIT = .*;  \\/\\/ OPTIMIZE \\[790, 870\\]$/constexpr short PURCHASE_TURN_LIMIT = 836;  \\/\\/ OPTIMIZE [790, 870]/' -e 's/^constexpr int SUBSCORE3_TIGHT_TURN = .*;     \\/\\/ OPTIMIZE \\[0, 2\\]$/constexpr int SUBSCORE3_TIGHT_TURN = 0;     \\/\\/ OPTIMIZE [0, 2]/' -e 's/^constexpr int ROUGH_HASH = .*;      \\/\\/ OPTIMIZE {0, 0b00000001, 0b00010001, 0b00010011, 0b00110011}$/constexpr int ROUGH_HASH = 0b00010001;      \\/\\/ OPTIMIZE {0, 0b00000001, 0b00010001, 0b00010011, 0b00110011}/'\n",
      "g++ 6_main.cpp -std=gnu++17 -O2 -DONLINE_JUDGE -o 6_main.cpp.out 2> /dev/null\n"
     ]
    },
    {
     "name": "stderr",
     "output_type": "stream",
     "text": [
      "\u001b[32m[I 2021-09-10 10:24:31,485]\u001b[0m Trial 147 finished with value: 1007405240.0 and parameters: {'K_START': 0.05985549159368533, 'K_END': 0.04790379215420726, 'K_H': 0.3655065603865613, 'PURCHASE_TURN_LIMIT': 832, 'SUBSCORE3_TIGHT_TURN': 0, 'ROUGH_HASH': '0'}. Best is trial 116 with value: 1010815661.0.\u001b[0m\n"
     ]
    },
    {
     "name": "stdout",
     "output_type": "stream",
     "text": [
      "callback ok\n",
      "index_parallel=7\n",
      "sed -i 7_main.cpp -e 's/^constexpr double K_START = .*;  \\/\\/ OPTIMIZE \\[0\\.02, 0\\.06\\] LOG$/constexpr double K_START = 0.05773301704406401;  \\/\\/ OPTIMIZE [0.02, 0.06] LOG/' -e 's/^constexpr double K_END = .*;   \\/\\/ OPTIMIZE \\[0\\.01, 0\\.05\\] LOG$/constexpr double K_END = 0.04317394394888153;   \\/\\/ OPTIMIZE [0.01, 0.05] LOG/' -e 's/^constexpr double K_H = .*;      \\/\\/ OPTIMIZE \\[0\\.001, 0\\.999\\]$/constexpr double K_H = 0.4306714683986991;      \\/\\/ OPTIMIZE [0.001, 0.999]/' -e 's/^constexpr short PURCHASE_TURN_LIMIT = .*;  \\/\\/ OPTIMIZE \\[790, 870\\]$/constexpr short PURCHASE_TURN_LIMIT = 836;  \\/\\/ OPTIMIZE [790, 870]/' -e 's/^constexpr int SUBSCORE3_TIGHT_TURN = .*;     \\/\\/ OPTIMIZE \\[0, 2\\]$/constexpr int SUBSCORE3_TIGHT_TURN = 0;     \\/\\/ OPTIMIZE [0, 2]/' -e 's/^constexpr int ROUGH_HASH = .*;      \\/\\/ OPTIMIZE {0, 0b00000001, 0b00010001, 0b00010011, 0b00110011}$/constexpr int ROUGH_HASH = 0b00010001;      \\/\\/ OPTIMIZE {0, 0b00000001, 0b00010001, 0b00010011, 0b00110011}/'\n",
      "g++ 7_main.cpp -std=gnu++17 -O2 -DONLINE_JUDGE -o 7_main.cpp.out 2> /dev/null\n"
     ]
    },
    {
     "name": "stderr",
     "output_type": "stream",
     "text": [
      "\u001b[32m[I 2021-09-10 10:26:05,322]\u001b[0m Trial 148 finished with value: 1007238981.0 and parameters: {'K_START': 0.05579671961596139, 'K_END': 0.04845529982583435, 'K_H': 0.36123288144714494, 'PURCHASE_TURN_LIMIT': 831, 'SUBSCORE3_TIGHT_TURN': 0, 'ROUGH_HASH': '0'}. Best is trial 116 with value: 1010815661.0.\u001b[0m\n"
     ]
    },
    {
     "name": "stdout",
     "output_type": "stream",
     "text": [
      "callback ok\n",
      "index_parallel=8\n",
      "sed -i 8_main.cpp -e 's/^constexpr double K_START = .*;  \\/\\/ OPTIMIZE \\[0\\.02, 0\\.06\\] LOG$/constexpr double K_START = 0.05990253203962559;  \\/\\/ OPTIMIZE [0.02, 0.06] LOG/' -e 's/^constexpr double K_END = .*;   \\/\\/ OPTIMIZE \\[0\\.01, 0\\.05\\] LOG$/constexpr double K_END = 0.04781722774152815;   \\/\\/ OPTIMIZE [0.01, 0.05] LOG/' -e 's/^constexpr double K_H = .*;      \\/\\/ OPTIMIZE \\[0\\.001, 0\\.999\\]$/constexpr double K_H = 0.4107165471143534;      \\/\\/ OPTIMIZE [0.001, 0.999]/' -e 's/^constexpr short PURCHASE_TURN_LIMIT = .*;  \\/\\/ OPTIMIZE \\[790, 870\\]$/constexpr short PURCHASE_TURN_LIMIT = 826;  \\/\\/ OPTIMIZE [790, 870]/' -e 's/^constexpr int SUBSCORE3_TIGHT_TURN = .*;     \\/\\/ OPTIMIZE \\[0, 2\\]$/constexpr int SUBSCORE3_TIGHT_TURN = 0;     \\/\\/ OPTIMIZE [0, 2]/' -e 's/^constexpr int ROUGH_HASH = .*;      \\/\\/ OPTIMIZE {0, 0b00000001, 0b00010001, 0b00010011, 0b00110011}$/constexpr int ROUGH_HASH = 0b00010001;      \\/\\/ OPTIMIZE {0, 0b00000001, 0b00010001, 0b00010011, 0b00110011}/'\n",
      "g++ 8_main.cpp -std=gnu++17 -O2 -DONLINE_JUDGE -o 8_main.cpp.out 2> /dev/null\n"
     ]
    },
    {
     "name": "stderr",
     "output_type": "stream",
     "text": [
      "\u001b[32m[I 2021-09-10 10:27:04,451]\u001b[0m Trial 149 finished with value: 1005573216.0 and parameters: {'K_START': 0.05576874210312987, 'K_END': 0.0478942585755239, 'K_H': 0.4313688442083976, 'PURCHASE_TURN_LIMIT': 837, 'SUBSCORE3_TIGHT_TURN': 0, 'ROUGH_HASH': '0'}. Best is trial 116 with value: 1010815661.0.\u001b[0m\n"
     ]
    },
    {
     "name": "stdout",
     "output_type": "stream",
     "text": [
      "callback ok\n",
      "index_parallel=9\n",
      "sed -i 9_main.cpp -e 's/^constexpr double K_START = .*;  \\/\\/ OPTIMIZE \\[0\\.02, 0\\.06\\] LOG$/constexpr double K_START = 0.05998142229186336;  \\/\\/ OPTIMIZE [0.02, 0.06] LOG/' -e 's/^constexpr double K_END = .*;   \\/\\/ OPTIMIZE \\[0\\.01, 0\\.05\\] LOG$/constexpr double K_END = 0.04350617346233133;   \\/\\/ OPTIMIZE [0.01, 0.05] LOG/' -e 's/^constexpr double K_H = .*;      \\/\\/ OPTIMIZE \\[0\\.001, 0\\.999\\]$/constexpr double K_H = 0.40352763867742114;      \\/\\/ OPTIMIZE [0.001, 0.999]/' -e 's/^constexpr short PURCHASE_TURN_LIMIT = .*;  \\/\\/ OPTIMIZE \\[790, 870\\]$/constexpr short PURCHASE_TURN_LIMIT = 831;  \\/\\/ OPTIMIZE [790, 870]/' -e 's/^constexpr int SUBSCORE3_TIGHT_TURN = .*;     \\/\\/ OPTIMIZE \\[0, 2\\]$/constexpr int SUBSCORE3_TIGHT_TURN = 0;     \\/\\/ OPTIMIZE [0, 2]/' -e 's/^constexpr int ROUGH_HASH = .*;      \\/\\/ OPTIMIZE {0, 0b00000001, 0b00010001, 0b00010011, 0b00110011}$/constexpr int ROUGH_HASH = 0b00010001;      \\/\\/ OPTIMIZE {0, 0b00000001, 0b00010001, 0b00010011, 0b00110011}/'\n",
      "g++ 9_main.cpp -std=gnu++17 -O2 -DONLINE_JUDGE -o 9_main.cpp.out 2> /dev/null\n"
     ]
    },
    {
     "name": "stderr",
     "output_type": "stream",
     "text": [
      "\u001b[32m[I 2021-09-10 10:27:10,790]\u001b[0m Trial 150 finished with value: 999984858.0 and parameters: {'K_START': 0.05985798325244581, 'K_END': 0.04338616781568619, 'K_H': 0.39589146647081247, 'PURCHASE_TURN_LIMIT': 836, 'SUBSCORE3_TIGHT_TURN': 0, 'ROUGH_HASH': '0b00010001'}. Best is trial 116 with value: 1010815661.0.\u001b[0m\n"
     ]
    },
    {
     "name": "stdout",
     "output_type": "stream",
     "text": [
      "callback ok\n",
      "index_parallel=10\n",
      "sed -i 10_main.cpp -e 's/^constexpr double K_START = .*;  \\/\\/ OPTIMIZE \\[0\\.02, 0\\.06\\] LOG$/constexpr double K_START = 0.05746436921137931;  \\/\\/ OPTIMIZE [0.02, 0.06] LOG/' -e 's/^constexpr double K_END = .*;   \\/\\/ OPTIMIZE \\[0\\.01, 0\\.05\\] LOG$/constexpr double K_END = 0.04748955494163702;   \\/\\/ OPTIMIZE [0.01, 0.05] LOG/' -e 's/^constexpr double K_H = .*;      \\/\\/ OPTIMIZE \\[0\\.001, 0\\.999\\]$/constexpr double K_H = 0.28691194991720237;      \\/\\/ OPTIMIZE [0.001, 0.999]/' -e 's/^constexpr short PURCHASE_TURN_LIMIT = .*;  \\/\\/ OPTIMIZE \\[790, 870\\]$/constexpr short PURCHASE_TURN_LIMIT = 829;  \\/\\/ OPTIMIZE [790, 870]/' -e 's/^constexpr int SUBSCORE3_TIGHT_TURN = .*;     \\/\\/ OPTIMIZE \\[0, 2\\]$/constexpr int SUBSCORE3_TIGHT_TURN = 0;     \\/\\/ OPTIMIZE [0, 2]/' -e 's/^constexpr int ROUGH_HASH = .*;      \\/\\/ OPTIMIZE {0, 0b00000001, 0b00010001, 0b00010011, 0b00110011}$/constexpr int ROUGH_HASH = 0;      \\/\\/ OPTIMIZE {0, 0b00000001, 0b00010001, 0b00010011, 0b00110011}/'\n",
      "g++ 10_main.cpp -std=gnu++17 -O2 -DONLINE_JUDGE -o 10_main.cpp.out 2> /dev/null\n"
     ]
    },
    {
     "name": "stderr",
     "output_type": "stream",
     "text": [
      "\u001b[32m[I 2021-09-10 10:28:47,068]\u001b[0m Trial 151 finished with value: 999885490.0 and parameters: {'K_START': 0.05773301704406401, 'K_END': 0.04317394394888153, 'K_H': 0.4306714683986991, 'PURCHASE_TURN_LIMIT': 836, 'SUBSCORE3_TIGHT_TURN': 0, 'ROUGH_HASH': '0b00010001'}. Best is trial 116 with value: 1010815661.0.\u001b[0m\n"
     ]
    },
    {
     "name": "stdout",
     "output_type": "stream",
     "text": [
      "callback ok\n",
      "index_parallel=11\n",
      "sed -i 11_main.cpp -e 's/^constexpr double K_START = .*;  \\/\\/ OPTIMIZE \\[0\\.02, 0\\.06\\] LOG$/constexpr double K_START = 0.02839006239471577;  \\/\\/ OPTIMIZE [0.02, 0.06] LOG/' -e 's/^constexpr double K_END = .*;   \\/\\/ OPTIMIZE \\[0\\.01, 0\\.05\\] LOG$/constexpr double K_END = 0.047227465117302525;   \\/\\/ OPTIMIZE [0.01, 0.05] LOG/' -e 's/^constexpr double K_H = .*;      \\/\\/ OPTIMIZE \\[0\\.001, 0\\.999\\]$/constexpr double K_H = 0.38027286829322926;      \\/\\/ OPTIMIZE [0.001, 0.999]/' -e 's/^constexpr short PURCHASE_TURN_LIMIT = .*;  \\/\\/ OPTIMIZE \\[790, 870\\]$/constexpr short PURCHASE_TURN_LIMIT = 830;  \\/\\/ OPTIMIZE [790, 870]/' -e 's/^constexpr int SUBSCORE3_TIGHT_TURN = .*;     \\/\\/ OPTIMIZE \\[0, 2\\]$/constexpr int SUBSCORE3_TIGHT_TURN = 0;     \\/\\/ OPTIMIZE [0, 2]/' -e 's/^constexpr int ROUGH_HASH = .*;      \\/\\/ OPTIMIZE {0, 0b00000001, 0b00010001, 0b00010011, 0b00110011}$/constexpr int ROUGH_HASH = 0;      \\/\\/ OPTIMIZE {0, 0b00000001, 0b00010001, 0b00010011, 0b00110011}/'\n",
      "g++ 11_main.cpp -std=gnu++17 -O2 -DONLINE_JUDGE -o 11_main.cpp.out 2> /dev/null\n"
     ]
    },
    {
     "name": "stderr",
     "output_type": "stream",
     "text": [
      "\u001b[32m[I 2021-09-10 10:30:19,516]\u001b[0m Trial 152 finished with value: 1000376979.0 and parameters: {'K_START': 0.05990253203962559, 'K_END': 0.04781722774152815, 'K_H': 0.4107165471143534, 'PURCHASE_TURN_LIMIT': 826, 'SUBSCORE3_TIGHT_TURN': 0, 'ROUGH_HASH': '0b00010001'}. Best is trial 116 with value: 1010815661.0.\u001b[0m\n"
     ]
    },
    {
     "name": "stdout",
     "output_type": "stream",
     "text": [
      "callback ok\n",
      "index_parallel=0\n",
      "sed -i 0_main.cpp -e 's/^constexpr double K_START = .*;  \\/\\/ OPTIMIZE \\[0\\.02, 0\\.06\\] LOG$/constexpr double K_START = 0.05768489633902886;  \\/\\/ OPTIMIZE [0.02, 0.06] LOG/' -e 's/^constexpr double K_END = .*;   \\/\\/ OPTIMIZE \\[0\\.01, 0\\.05\\] LOG$/constexpr double K_END = 0.04655960806705438;   \\/\\/ OPTIMIZE [0.01, 0.05] LOG/' -e 's/^constexpr double K_H = .*;      \\/\\/ OPTIMIZE \\[0\\.001, 0\\.999\\]$/constexpr double K_H = 0.37777238979152156;      \\/\\/ OPTIMIZE [0.001, 0.999]/' -e 's/^constexpr short PURCHASE_TURN_LIMIT = .*;  \\/\\/ OPTIMIZE \\[790, 870\\]$/constexpr short PURCHASE_TURN_LIMIT = 831;  \\/\\/ OPTIMIZE [790, 870]/' -e 's/^constexpr int SUBSCORE3_TIGHT_TURN = .*;     \\/\\/ OPTIMIZE \\[0, 2\\]$/constexpr int SUBSCORE3_TIGHT_TURN = 0;     \\/\\/ OPTIMIZE [0, 2]/' -e 's/^constexpr int ROUGH_HASH = .*;      \\/\\/ OPTIMIZE {0, 0b00000001, 0b00010001, 0b00010011, 0b00110011}$/constexpr int ROUGH_HASH = 0;      \\/\\/ OPTIMIZE {0, 0b00000001, 0b00010001, 0b00010011, 0b00110011}/'\n",
      "g++ 0_main.cpp -std=gnu++17 -O2 -DONLINE_JUDGE -o 0_main.cpp.out 2> /dev/null\n"
     ]
    },
    {
     "name": "stderr",
     "output_type": "stream",
     "text": [
      "\u001b[32m[I 2021-09-10 10:31:18,741]\u001b[0m Trial 153 finished with value: 1000442026.0 and parameters: {'K_START': 0.05998142229186336, 'K_END': 0.04350617346233133, 'K_H': 0.40352763867742114, 'PURCHASE_TURN_LIMIT': 831, 'SUBSCORE3_TIGHT_TURN': 0, 'ROUGH_HASH': '0b00010001'}. Best is trial 116 with value: 1010815661.0.\u001b[0m\n"
     ]
    },
    {
     "name": "stdout",
     "output_type": "stream",
     "text": [
      "callback ok\n",
      "index_parallel=1\n",
      "sed -i 1_main.cpp -e 's/^constexpr double K_START = .*;  \\/\\/ OPTIMIZE \\[0\\.02, 0\\.06\\] LOG$/constexpr double K_START = 0.05655954316617473;  \\/\\/ OPTIMIZE [0.02, 0.06] LOG/' -e 's/^constexpr double K_END = .*;   \\/\\/ OPTIMIZE \\[0\\.01, 0\\.05\\] LOG$/constexpr double K_END = 0.04657044595375753;   \\/\\/ OPTIMIZE [0.01, 0.05] LOG/' -e 's/^constexpr double K_H = .*;      \\/\\/ OPTIMIZE \\[0\\.001, 0\\.999\\]$/constexpr double K_H = 0.37777736823254354;      \\/\\/ OPTIMIZE [0.001, 0.999]/' -e 's/^constexpr short PURCHASE_TURN_LIMIT = .*;  \\/\\/ OPTIMIZE \\[790, 870\\]$/constexpr short PURCHASE_TURN_LIMIT = 828;  \\/\\/ OPTIMIZE [790, 870]/' -e 's/^constexpr int SUBSCORE3_TIGHT_TURN = .*;     \\/\\/ OPTIMIZE \\[0, 2\\]$/constexpr int SUBSCORE3_TIGHT_TURN = 0;     \\/\\/ OPTIMIZE [0, 2]/' -e 's/^constexpr int ROUGH_HASH = .*;      \\/\\/ OPTIMIZE {0, 0b00000001, 0b00010001, 0b00010011, 0b00110011}$/constexpr int ROUGH_HASH = 0;      \\/\\/ OPTIMIZE {0, 0b00000001, 0b00010001, 0b00010011, 0b00110011}/'\n",
      "g++ 1_main.cpp -std=gnu++17 -O2 -DONLINE_JUDGE -o 1_main.cpp.out 2> /dev/null\n"
     ]
    },
    {
     "name": "stderr",
     "output_type": "stream",
     "text": [
      "\u001b[32m[I 2021-09-10 10:31:49,779]\u001b[0m Trial 154 finished with value: 1004594703.0 and parameters: {'K_START': 0.05746436921137931, 'K_END': 0.04748955494163702, 'K_H': 0.28691194991720237, 'PURCHASE_TURN_LIMIT': 829, 'SUBSCORE3_TIGHT_TURN': 0, 'ROUGH_HASH': '0'}. Best is trial 116 with value: 1010815661.0.\u001b[0m\n"
     ]
    },
    {
     "name": "stdout",
     "output_type": "stream",
     "text": [
      "callback ok\n",
      "index_parallel=2\n",
      "sed -i 2_main.cpp -e 's/^constexpr double K_START = .*;  \\/\\/ OPTIMIZE \\[0\\.02, 0\\.06\\] LOG$/constexpr double K_START = 0.028010814056222855;  \\/\\/ OPTIMIZE [0.02, 0.06] LOG/' -e 's/^constexpr double K_END = .*;   \\/\\/ OPTIMIZE \\[0\\.01, 0\\.05\\] LOG$/constexpr double K_END = 0.04610292414061171;   \\/\\/ OPTIMIZE [0.01, 0.05] LOG/' -e 's/^constexpr double K_H = .*;      \\/\\/ OPTIMIZE \\[0\\.001, 0\\.999\\]$/constexpr double K_H = 0.3397529525104126;      \\/\\/ OPTIMIZE [0.001, 0.999]/' -e 's/^constexpr short PURCHASE_TURN_LIMIT = .*;  \\/\\/ OPTIMIZE \\[790, 870\\]$/constexpr short PURCHASE_TURN_LIMIT = 833;  \\/\\/ OPTIMIZE [790, 870]/' -e 's/^constexpr int SUBSCORE3_TIGHT_TURN = .*;     \\/\\/ OPTIMIZE \\[0, 2\\]$/constexpr int SUBSCORE3_TIGHT_TURN = 0;     \\/\\/ OPTIMIZE [0, 2]/' -e 's/^constexpr int ROUGH_HASH = .*;      \\/\\/ OPTIMIZE {0, 0b00000001, 0b00010001, 0b00010011, 0b00110011}$/constexpr int ROUGH_HASH = 0;      \\/\\/ OPTIMIZE {0, 0b00000001, 0b00010001, 0b00010011, 0b00110011}/'\n",
      "g++ 2_main.cpp -std=gnu++17 -O2 -DONLINE_JUDGE -o 2_main.cpp.out 2> /dev/null\n"
     ]
    },
    {
     "name": "stderr",
     "output_type": "stream",
     "text": [
      "\u001b[32m[I 2021-09-10 10:33:25,517]\u001b[0m Trial 155 finished with value: 999226175.0 and parameters: {'K_START': 0.02839006239471577, 'K_END': 0.047227465117302525, 'K_H': 0.38027286829322926, 'PURCHASE_TURN_LIMIT': 830, 'SUBSCORE3_TIGHT_TURN': 0, 'ROUGH_HASH': '0'}. Best is trial 116 with value: 1010815661.0.\u001b[0m\n"
     ]
    },
    {
     "name": "stdout",
     "output_type": "stream",
     "text": [
      "callback ok\n",
      "index_parallel=3\n",
      "sed -i 3_main.cpp -e 's/^constexpr double K_START = .*;  \\/\\/ OPTIMIZE \\[0\\.02, 0\\.06\\] LOG$/constexpr double K_START = 0.056093326726273506;  \\/\\/ OPTIMIZE [0.02, 0.06] LOG/' -e 's/^constexpr double K_END = .*;   \\/\\/ OPTIMIZE \\[0\\.01, 0\\.05\\] LOG$/constexpr double K_END = 0.03977107718652185;   \\/\\/ OPTIMIZE [0.01, 0.05] LOG/' -e 's/^constexpr double K_H = .*;      \\/\\/ OPTIMIZE \\[0\\.001, 0\\.999\\]$/constexpr double K_H = 0.2618858869235866;      \\/\\/ OPTIMIZE [0.001, 0.999]/' -e 's/^constexpr short PURCHASE_TURN_LIMIT = .*;  \\/\\/ OPTIMIZE \\[790, 870\\]$/constexpr short PURCHASE_TURN_LIMIT = 833;  \\/\\/ OPTIMIZE [790, 870]/' -e 's/^constexpr int SUBSCORE3_TIGHT_TURN = .*;     \\/\\/ OPTIMIZE \\[0, 2\\]$/constexpr int SUBSCORE3_TIGHT_TURN = 0;     \\/\\/ OPTIMIZE [0, 2]/' -e 's/^constexpr int ROUGH_HASH = .*;      \\/\\/ OPTIMIZE {0, 0b00000001, 0b00010001, 0b00010011, 0b00110011}$/constexpr int ROUGH_HASH = 0;      \\/\\/ OPTIMIZE {0, 0b00000001, 0b00010001, 0b00010011, 0b00110011}/'\n",
      "g++ 3_main.cpp -std=gnu++17 -O2 -DONLINE_JUDGE -o 3_main.cpp.out 2> /dev/null\n"
     ]
    },
    {
     "name": "stderr",
     "output_type": "stream",
     "text": [
      "\u001b[32m[I 2021-09-10 10:35:01,597]\u001b[0m Trial 156 finished with value: 1005596577.0 and parameters: {'K_START': 0.05768489633902886, 'K_END': 0.04655960806705438, 'K_H': 0.37777238979152156, 'PURCHASE_TURN_LIMIT': 831, 'SUBSCORE3_TIGHT_TURN': 0, 'ROUGH_HASH': '0'}. Best is trial 116 with value: 1010815661.0.\u001b[0m\n"
     ]
    },
    {
     "name": "stdout",
     "output_type": "stream",
     "text": [
      "callback ok\n",
      "index_parallel=4\n",
      "sed -i 4_main.cpp -e 's/^constexpr double K_START = .*;  \\/\\/ OPTIMIZE \\[0\\.02, 0\\.06\\] LOG$/constexpr double K_START = 0.05548914617375348;  \\/\\/ OPTIMIZE [0.02, 0.06] LOG/' -e 's/^constexpr double K_END = .*;   \\/\\/ OPTIMIZE \\[0\\.01, 0\\.05\\] LOG$/constexpr double K_END = 0.04131688687333387;   \\/\\/ OPTIMIZE [0.01, 0.05] LOG/' -e 's/^constexpr double K_H = .*;      \\/\\/ OPTIMIZE \\[0\\.001, 0\\.999\\]$/constexpr double K_H = 0.25870351543224596;      \\/\\/ OPTIMIZE [0.001, 0.999]/' -e 's/^constexpr short PURCHASE_TURN_LIMIT = .*;  \\/\\/ OPTIMIZE \\[790, 870\\]$/constexpr short PURCHASE_TURN_LIMIT = 833;  \\/\\/ OPTIMIZE [790, 870]/' -e 's/^constexpr int SUBSCORE3_TIGHT_TURN = .*;     \\/\\/ OPTIMIZE \\[0, 2\\]$/constexpr int SUBSCORE3_TIGHT_TURN = 0;     \\/\\/ OPTIMIZE [0, 2]/' -e 's/^constexpr int ROUGH_HASH = .*;      \\/\\/ OPTIMIZE {0, 0b00000001, 0b00010001, 0b00010011, 0b00110011}$/constexpr int ROUGH_HASH = 0;      \\/\\/ OPTIMIZE {0, 0b00000001, 0b00010001, 0b00010011, 0b00110011}/'\n",
      "g++ 4_main.cpp -std=gnu++17 -O2 -DONLINE_JUDGE -o 4_main.cpp.out 2> /dev/null\n"
     ]
    },
    {
     "name": "stderr",
     "output_type": "stream",
     "text": [
      "\u001b[32m[I 2021-09-10 10:35:58,069]\u001b[0m Trial 157 finished with value: 1004540994.0 and parameters: {'K_START': 0.05655954316617473, 'K_END': 0.04657044595375753, 'K_H': 0.37777736823254354, 'PURCHASE_TURN_LIMIT': 828, 'SUBSCORE3_TIGHT_TURN': 0, 'ROUGH_HASH': '0'}. Best is trial 116 with value: 1010815661.0.\u001b[0m\n"
     ]
    },
    {
     "name": "stdout",
     "output_type": "stream",
     "text": [
      "callback ok\n",
      "index_parallel=5\n",
      "sed -i 5_main.cpp -e 's/^constexpr double K_START = .*;  \\/\\/ OPTIMIZE \\[0\\.02, 0\\.06\\] LOG$/constexpr double K_START = 0.05538187392795598;  \\/\\/ OPTIMIZE [0.02, 0.06] LOG/' -e 's/^constexpr double K_END = .*;   \\/\\/ OPTIMIZE \\[0\\.01, 0\\.05\\] LOG$/constexpr double K_END = 0.02218220127931429;   \\/\\/ OPTIMIZE [0.01, 0.05] LOG/' -e 's/^constexpr double K_H = .*;      \\/\\/ OPTIMIZE \\[0\\.001, 0\\.999\\]$/constexpr double K_H = 0.2608959897180134;      \\/\\/ OPTIMIZE [0.001, 0.999]/' -e 's/^constexpr short PURCHASE_TURN_LIMIT = .*;  \\/\\/ OPTIMIZE \\[790, 870\\]$/constexpr short PURCHASE_TURN_LIMIT = 834;  \\/\\/ OPTIMIZE [790, 870]/' -e 's/^constexpr int SUBSCORE3_TIGHT_TURN = .*;     \\/\\/ OPTIMIZE \\[0, 2\\]$/constexpr int SUBSCORE3_TIGHT_TURN = 0;     \\/\\/ OPTIMIZE [0, 2]/' -e 's/^constexpr int ROUGH_HASH = .*;      \\/\\/ OPTIMIZE {0, 0b00000001, 0b00010001, 0b00010011, 0b00110011}$/constexpr int ROUGH_HASH = 0;      \\/\\/ OPTIMIZE {0, 0b00000001, 0b00010001, 0b00010011, 0b00110011}/'\n",
      "g++ 5_main.cpp -std=gnu++17 -O2 -DONLINE_JUDGE -o 5_main.cpp.out 2> /dev/null\n"
     ]
    },
    {
     "name": "stderr",
     "output_type": "stream",
     "text": [
      "\u001b[32m[I 2021-09-10 10:36:28,534]\u001b[0m Trial 158 finished with value: 995815501.0 and parameters: {'K_START': 0.028010814056222855, 'K_END': 0.04610292414061171, 'K_H': 0.3397529525104126, 'PURCHASE_TURN_LIMIT': 833, 'SUBSCORE3_TIGHT_TURN': 0, 'ROUGH_HASH': '0'}. Best is trial 116 with value: 1010815661.0.\u001b[0m\n"
     ]
    },
    {
     "name": "stdout",
     "output_type": "stream",
     "text": [
      "callback ok\n",
      "index_parallel=6\n",
      "sed -i 6_main.cpp -e 's/^constexpr double K_START = .*;  \\/\\/ OPTIMIZE \\[0\\.02, 0\\.06\\] LOG$/constexpr double K_START = 0.055517965259049895;  \\/\\/ OPTIMIZE [0.02, 0.06] LOG/' -e 's/^constexpr double K_END = .*;   \\/\\/ OPTIMIZE \\[0\\.01, 0\\.05\\] LOG$/constexpr double K_END = 0.039715882444211176;   \\/\\/ OPTIMIZE [0.01, 0.05] LOG/' -e 's/^constexpr double K_H = .*;      \\/\\/ OPTIMIZE \\[0\\.001, 0\\.999\\]$/constexpr double K_H = 0.26819102591001814;      \\/\\/ OPTIMIZE [0.001, 0.999]/' -e 's/^constexpr short PURCHASE_TURN_LIMIT = .*;  \\/\\/ OPTIMIZE \\[790, 870\\]$/constexpr short PURCHASE_TURN_LIMIT = 834;  \\/\\/ OPTIMIZE [790, 870]/' -e 's/^constexpr int SUBSCORE3_TIGHT_TURN = .*;     \\/\\/ OPTIMIZE \\[0, 2\\]$/constexpr int SUBSCORE3_TIGHT_TURN = 0;     \\/\\/ OPTIMIZE [0, 2]/' -e 's/^constexpr int ROUGH_HASH = .*;      \\/\\/ OPTIMIZE {0, 0b00000001, 0b00010001, 0b00010011, 0b00110011}$/constexpr int ROUGH_HASH = 0;      \\/\\/ OPTIMIZE {0, 0b00000001, 0b00010001, 0b00010011, 0b00110011}/'\n",
      "g++ 6_main.cpp -std=gnu++17 -O2 -DONLINE_JUDGE -o 6_main.cpp.out 2> /dev/null\n"
     ]
    },
    {
     "name": "stderr",
     "output_type": "stream",
     "text": [
      "\u001b[32m[I 2021-09-10 10:38:06,643]\u001b[0m Trial 159 finished with value: 1003757396.0 and parameters: {'K_START': 0.056093326726273506, 'K_END': 0.03977107718652185, 'K_H': 0.2618858869235866, 'PURCHASE_TURN_LIMIT': 833, 'SUBSCORE3_TIGHT_TURN': 0, 'ROUGH_HASH': '0'}. Best is trial 116 with value: 1010815661.0.\u001b[0m\n"
     ]
    },
    {
     "name": "stdout",
     "output_type": "stream",
     "text": [
      "callback ok\n",
      "index_parallel=7\n",
      "sed -i 7_main.cpp -e 's/^constexpr double K_START = .*;  \\/\\/ OPTIMIZE \\[0\\.02, 0\\.06\\] LOG$/constexpr double K_START = 0.05848991732455089;  \\/\\/ OPTIMIZE [0.02, 0.06] LOG/' -e 's/^constexpr double K_END = .*;   \\/\\/ OPTIMIZE \\[0\\.01, 0\\.05\\] LOG$/constexpr double K_END = 0.04134172617962362;   \\/\\/ OPTIMIZE [0.01, 0.05] LOG/' -e 's/^constexpr double K_H = .*;      \\/\\/ OPTIMIZE \\[0\\.001, 0\\.999\\]$/constexpr double K_H = 0.34676400997730567;      \\/\\/ OPTIMIZE [0.001, 0.999]/' -e 's/^constexpr short PURCHASE_TURN_LIMIT = .*;  \\/\\/ OPTIMIZE \\[790, 870\\]$/constexpr short PURCHASE_TURN_LIMIT = 835;  \\/\\/ OPTIMIZE [790, 870]/' -e 's/^constexpr int SUBSCORE3_TIGHT_TURN = .*;     \\/\\/ OPTIMIZE \\[0, 2\\]$/constexpr int SUBSCORE3_TIGHT_TURN = 0;     \\/\\/ OPTIMIZE [0, 2]/' -e 's/^constexpr int ROUGH_HASH = .*;      \\/\\/ OPTIMIZE {0, 0b00000001, 0b00010001, 0b00010011, 0b00110011}$/constexpr int ROUGH_HASH = 0;      \\/\\/ OPTIMIZE {0, 0b00000001, 0b00010001, 0b00010011, 0b00110011}/'\n",
      "g++ 7_main.cpp -std=gnu++17 -O2 -DONLINE_JUDGE -o 7_main.cpp.out 2> /dev/null\n"
     ]
    },
    {
     "name": "stderr",
     "output_type": "stream",
     "text": [
      "\u001b[32m[I 2021-09-10 10:39:42,478]\u001b[0m Trial 160 finished with value: 1003272586.0 and parameters: {'K_START': 0.05548914617375348, 'K_END': 0.04131688687333387, 'K_H': 0.25870351543224596, 'PURCHASE_TURN_LIMIT': 833, 'SUBSCORE3_TIGHT_TURN': 0, 'ROUGH_HASH': '0'}. Best is trial 116 with value: 1010815661.0.\u001b[0m\n"
     ]
    },
    {
     "name": "stdout",
     "output_type": "stream",
     "text": [
      "callback ok\n",
      "index_parallel=8\n",
      "sed -i 8_main.cpp -e 's/^constexpr double K_START = .*;  \\/\\/ OPTIMIZE \\[0\\.02, 0\\.06\\] LOG$/constexpr double K_START = 0.05842790334751823;  \\/\\/ OPTIMIZE [0.02, 0.06] LOG/' -e 's/^constexpr double K_END = .*;   \\/\\/ OPTIMIZE \\[0\\.01, 0\\.05\\] LOG$/constexpr double K_END = 0.04860599656696803;   \\/\\/ OPTIMIZE [0.01, 0.05] LOG/' -e 's/^constexpr double K_H = .*;      \\/\\/ OPTIMIZE \\[0\\.001, 0\\.999\\]$/constexpr double K_H = 0.31263896810220326;      \\/\\/ OPTIMIZE [0.001, 0.999]/' -e 's/^constexpr short PURCHASE_TURN_LIMIT = .*;  \\/\\/ OPTIMIZE \\[790, 870\\]$/constexpr short PURCHASE_TURN_LIMIT = 835;  \\/\\/ OPTIMIZE [790, 870]/' -e 's/^constexpr int SUBSCORE3_TIGHT_TURN = .*;     \\/\\/ OPTIMIZE \\[0, 2\\]$/constexpr int SUBSCORE3_TIGHT_TURN = 0;     \\/\\/ OPTIMIZE [0, 2]/' -e 's/^constexpr int ROUGH_HASH = .*;      \\/\\/ OPTIMIZE {0, 0b00000001, 0b00010001, 0b00010011, 0b00110011}$/constexpr int ROUGH_HASH = 0;      \\/\\/ OPTIMIZE {0, 0b00000001, 0b00010001, 0b00010011, 0b00110011}/'\n",
      "g++ 8_main.cpp -std=gnu++17 -O2 -DONLINE_JUDGE -o 8_main.cpp.out 2> /dev/null\n"
     ]
    },
    {
     "name": "stderr",
     "output_type": "stream",
     "text": [
      "\u001b[32m[I 2021-09-10 10:40:41,610]\u001b[0m Trial 161 finished with value: 982700339.0 and parameters: {'K_START': 0.05538187392795598, 'K_END': 0.02218220127931429, 'K_H': 0.2608959897180134, 'PURCHASE_TURN_LIMIT': 834, 'SUBSCORE3_TIGHT_TURN': 0, 'ROUGH_HASH': '0'}. Best is trial 116 with value: 1010815661.0.\u001b[0m\n"
     ]
    },
    {
     "name": "stdout",
     "output_type": "stream",
     "text": [
      "callback ok\n",
      "index_parallel=9\n",
      "sed -i 9_main.cpp -e 's/^constexpr double K_START = .*;  \\/\\/ OPTIMIZE \\[0\\.02, 0\\.06\\] LOG$/constexpr double K_START = 0.05831000108946527;  \\/\\/ OPTIMIZE [0.02, 0.06] LOG/' -e 's/^constexpr double K_END = .*;   \\/\\/ OPTIMIZE \\[0\\.01, 0\\.05\\] LOG$/constexpr double K_END = 0.04902454299747685;   \\/\\/ OPTIMIZE [0.01, 0.05] LOG/' -e 's/^constexpr double K_H = .*;      \\/\\/ OPTIMIZE \\[0\\.001, 0\\.999\\]$/constexpr double K_H = 0.31365801958515066;      \\/\\/ OPTIMIZE [0.001, 0.999]/' -e 's/^constexpr short PURCHASE_TURN_LIMIT = .*;  \\/\\/ OPTIMIZE \\[790, 870\\]$/constexpr short PURCHASE_TURN_LIMIT = 838;  \\/\\/ OPTIMIZE [790, 870]/' -e 's/^constexpr int SUBSCORE3_TIGHT_TURN = .*;     \\/\\/ OPTIMIZE \\[0, 2\\]$/constexpr int SUBSCORE3_TIGHT_TURN = 0;     \\/\\/ OPTIMIZE [0, 2]/' -e 's/^constexpr int ROUGH_HASH = .*;      \\/\\/ OPTIMIZE {0, 0b00000001, 0b00010001, 0b00010011, 0b00110011}$/constexpr int ROUGH_HASH = 0;      \\/\\/ OPTIMIZE {0, 0b00000001, 0b00010001, 0b00010011, 0b00110011}/'\n",
      "g++ 9_main.cpp -std=gnu++17 -O2 -DONLINE_JUDGE -o 9_main.cpp.out 2> /dev/null\n"
     ]
    },
    {
     "name": "stderr",
     "output_type": "stream",
     "text": [
      "\u001b[32m[I 2021-09-10 10:41:10,778]\u001b[0m Trial 162 finished with value: 1002559381.0 and parameters: {'K_START': 0.055517965259049895, 'K_END': 0.039715882444211176, 'K_H': 0.26819102591001814, 'PURCHASE_TURN_LIMIT': 834, 'SUBSCORE3_TIGHT_TURN': 0, 'ROUGH_HASH': '0'}. Best is trial 116 with value: 1010815661.0.\u001b[0m\n"
     ]
    },
    {
     "name": "stdout",
     "output_type": "stream",
     "text": [
      "callback ok\n",
      "index_parallel=10\n",
      "sed -i 10_main.cpp -e 's/^constexpr double K_START = .*;  \\/\\/ OPTIMIZE \\[0\\.02, 0\\.06\\] LOG$/constexpr double K_START = 0.058368508981217156;  \\/\\/ OPTIMIZE [0.02, 0.06] LOG/' -e 's/^constexpr double K_END = .*;   \\/\\/ OPTIMIZE \\[0\\.01, 0\\.05\\] LOG$/constexpr double K_END = 0.048704078389226385;   \\/\\/ OPTIMIZE [0.01, 0.05] LOG/' -e 's/^constexpr double K_H = .*;      \\/\\/ OPTIMIZE \\[0\\.001, 0\\.999\\]$/constexpr double K_H = 0.3122544247573453;      \\/\\/ OPTIMIZE [0.001, 0.999]/' -e 's/^constexpr short PURCHASE_TURN_LIMIT = .*;  \\/\\/ OPTIMIZE \\[790, 870\\]$/constexpr short PURCHASE_TURN_LIMIT = 840;  \\/\\/ OPTIMIZE [790, 870]/' -e 's/^constexpr int SUBSCORE3_TIGHT_TURN = .*;     \\/\\/ OPTIMIZE \\[0, 2\\]$/constexpr int SUBSCORE3_TIGHT_TURN = 0;     \\/\\/ OPTIMIZE [0, 2]/' -e 's/^constexpr int ROUGH_HASH = .*;      \\/\\/ OPTIMIZE {0, 0b00000001, 0b00010001, 0b00010011, 0b00110011}$/constexpr int ROUGH_HASH = 0;      \\/\\/ OPTIMIZE {0, 0b00000001, 0b00010001, 0b00010011, 0b00110011}/'\n",
      "g++ 10_main.cpp -std=gnu++17 -O2 -DONLINE_JUDGE -o 10_main.cpp.out 2> /dev/null\n"
     ]
    },
    {
     "name": "stderr",
     "output_type": "stream",
     "text": [
      "\u001b[32m[I 2021-09-10 10:42:47,011]\u001b[0m Trial 163 finished with value: 1003221028.0 and parameters: {'K_START': 0.05848991732455089, 'K_END': 0.04134172617962362, 'K_H': 0.34676400997730567, 'PURCHASE_TURN_LIMIT': 835, 'SUBSCORE3_TIGHT_TURN': 0, 'ROUGH_HASH': '0'}. Best is trial 116 with value: 1010815661.0.\u001b[0m\n"
     ]
    },
    {
     "name": "stdout",
     "output_type": "stream",
     "text": [
      "callback ok\n",
      "index_parallel=11\n",
      "sed -i 11_main.cpp -e 's/^constexpr double K_START = .*;  \\/\\/ OPTIMIZE \\[0\\.02, 0\\.06\\] LOG$/constexpr double K_START = 0.052821527679379233;  \\/\\/ OPTIMIZE [0.02, 0.06] LOG/' -e 's/^constexpr double K_END = .*;   \\/\\/ OPTIMIZE \\[0\\.01, 0\\.05\\] LOG$/constexpr double K_END = 0.04860617437124422;   \\/\\/ OPTIMIZE [0.01, 0.05] LOG/' -e 's/^constexpr double K_H = .*;      \\/\\/ OPTIMIZE \\[0\\.001, 0\\.999\\]$/constexpr double K_H = 0.3166539661416902;      \\/\\/ OPTIMIZE [0.001, 0.999]/' -e 's/^constexpr short PURCHASE_TURN_LIMIT = .*;  \\/\\/ OPTIMIZE \\[790, 870\\]$/constexpr short PURCHASE_TURN_LIMIT = 839;  \\/\\/ OPTIMIZE [790, 870]/' -e 's/^constexpr int SUBSCORE3_TIGHT_TURN = .*;     \\/\\/ OPTIMIZE \\[0, 2\\]$/constexpr int SUBSCORE3_TIGHT_TURN = 0;     \\/\\/ OPTIMIZE [0, 2]/' -e 's/^constexpr int ROUGH_HASH = .*;      \\/\\/ OPTIMIZE {0, 0b00000001, 0b00010001, 0b00010011, 0b00110011}$/constexpr int ROUGH_HASH = 0;      \\/\\/ OPTIMIZE {0, 0b00000001, 0b00010001, 0b00010011, 0b00110011}/'\n",
      "g++ 11_main.cpp -std=gnu++17 -O2 -DONLINE_JUDGE -o 11_main.cpp.out 2> /dev/null\n"
     ]
    },
    {
     "name": "stderr",
     "output_type": "stream",
     "text": [
      "\u001b[32m[I 2021-09-10 10:44:25,130]\u001b[0m Trial 164 finished with value: 1006108981.0 and parameters: {'K_START': 0.05842790334751823, 'K_END': 0.04860599656696803, 'K_H': 0.31263896810220326, 'PURCHASE_TURN_LIMIT': 835, 'SUBSCORE3_TIGHT_TURN': 0, 'ROUGH_HASH': '0'}. Best is trial 116 with value: 1010815661.0.\u001b[0m\n"
     ]
    },
    {
     "name": "stdout",
     "output_type": "stream",
     "text": [
      "callback ok\n",
      "index_parallel=0\n",
      "sed -i 0_main.cpp -e 's/^constexpr double K_START = .*;  \\/\\/ OPTIMIZE \\[0\\.02, 0\\.06\\] LOG$/constexpr double K_START = 0.05292057649290985;  \\/\\/ OPTIMIZE [0.02, 0.06] LOG/' -e 's/^constexpr double K_END = .*;   \\/\\/ OPTIMIZE \\[0\\.01, 0\\.05\\] LOG$/constexpr double K_END = 0.049826773696843574;   \\/\\/ OPTIMIZE [0.01, 0.05] LOG/' -e 's/^constexpr double K_H = .*;      \\/\\/ OPTIMIZE \\[0\\.001, 0\\.999\\]$/constexpr double K_H = 0.28675725032613897;      \\/\\/ OPTIMIZE [0.001, 0.999]/' -e 's/^constexpr short PURCHASE_TURN_LIMIT = .*;  \\/\\/ OPTIMIZE \\[790, 870\\]$/constexpr short PURCHASE_TURN_LIMIT = 839;  \\/\\/ OPTIMIZE [790, 870]/' -e 's/^constexpr int SUBSCORE3_TIGHT_TURN = .*;     \\/\\/ OPTIMIZE \\[0, 2\\]$/constexpr int SUBSCORE3_TIGHT_TURN = 0;     \\/\\/ OPTIMIZE [0, 2]/' -e 's/^constexpr int ROUGH_HASH = .*;      \\/\\/ OPTIMIZE {0, 0b00000001, 0b00010001, 0b00010011, 0b00110011}$/constexpr int ROUGH_HASH = 0;      \\/\\/ OPTIMIZE {0, 0b00000001, 0b00010001, 0b00010011, 0b00110011}/'\n",
      "g++ 0_main.cpp -std=gnu++17 -O2 -DONLINE_JUDGE -o 0_main.cpp.out 2> /dev/null\n"
     ]
    },
    {
     "name": "stderr",
     "output_type": "stream",
     "text": [
      "\u001b[32m[I 2021-09-10 10:45:25,691]\u001b[0m Trial 165 finished with value: 1007195619.0 and parameters: {'K_START': 0.05831000108946527, 'K_END': 0.04902454299747685, 'K_H': 0.31365801958515066, 'PURCHASE_TURN_LIMIT': 838, 'SUBSCORE3_TIGHT_TURN': 0, 'ROUGH_HASH': '0'}. Best is trial 116 with value: 1010815661.0.\u001b[0m\n"
     ]
    },
    {
     "name": "stdout",
     "output_type": "stream",
     "text": [
      "callback ok\n",
      "index_parallel=1\n",
      "sed -i 1_main.cpp -e 's/^constexpr double K_START = .*;  \\/\\/ OPTIMIZE \\[0\\.02, 0\\.06\\] LOG$/constexpr double K_START = 0.05714695755474009;  \\/\\/ OPTIMIZE [0.02, 0.06] LOG/' -e 's/^constexpr double K_END = .*;   \\/\\/ OPTIMIZE \\[0\\.01, 0\\.05\\] LOG$/constexpr double K_END = 0.044684716267817705;   \\/\\/ OPTIMIZE [0.01, 0.05] LOG/' -e 's/^constexpr double K_H = .*;      \\/\\/ OPTIMIZE \\[0\\.001, 0\\.999\\]$/constexpr double K_H = 0.360312584062647;      \\/\\/ OPTIMIZE [0.001, 0.999]/' -e 's/^constexpr short PURCHASE_TURN_LIMIT = .*;  \\/\\/ OPTIMIZE \\[790, 870\\]$/constexpr short PURCHASE_TURN_LIMIT = 838;  \\/\\/ OPTIMIZE [790, 870]/' -e 's/^constexpr int SUBSCORE3_TIGHT_TURN = .*;     \\/\\/ OPTIMIZE \\[0, 2\\]$/constexpr int SUBSCORE3_TIGHT_TURN = 0;     \\/\\/ OPTIMIZE [0, 2]/' -e 's/^constexpr int ROUGH_HASH = .*;      \\/\\/ OPTIMIZE {0, 0b00000001, 0b00010001, 0b00010011, 0b00110011}$/constexpr int ROUGH_HASH = 0;      \\/\\/ OPTIMIZE {0, 0b00000001, 0b00010001, 0b00010011, 0b00110011}/'\n",
      "g++ 1_main.cpp -std=gnu++17 -O2 -DONLINE_JUDGE -o 1_main.cpp.out 2> /dev/null\n"
     ]
    },
    {
     "name": "stderr",
     "output_type": "stream",
     "text": [
      "\u001b[32m[I 2021-09-10 10:45:53,878]\u001b[0m Trial 166 finished with value: 1004436337.0 and parameters: {'K_START': 0.058368508981217156, 'K_END': 0.048704078389226385, 'K_H': 0.3122544247573453, 'PURCHASE_TURN_LIMIT': 840, 'SUBSCORE3_TIGHT_TURN': 0, 'ROUGH_HASH': '0'}. Best is trial 116 with value: 1010815661.0.\u001b[0m\n"
     ]
    },
    {
     "name": "stdout",
     "output_type": "stream",
     "text": [
      "callback ok\n",
      "index_parallel=2\n",
      "sed -i 2_main.cpp -e 's/^constexpr double K_START = .*;  \\/\\/ OPTIMIZE \\[0\\.02, 0\\.06\\] LOG$/constexpr double K_START = 0.05272275749638502;  \\/\\/ OPTIMIZE [0.02, 0.06] LOG/' -e 's/^constexpr double K_END = .*;   \\/\\/ OPTIMIZE \\[0\\.01, 0\\.05\\] LOG$/constexpr double K_END = 0.04499533710082534;   \\/\\/ OPTIMIZE [0.01, 0.05] LOG/' -e 's/^constexpr double K_H = .*;      \\/\\/ OPTIMIZE \\[0\\.001, 0\\.999\\]$/constexpr double K_H = 0.29277184843694654;      \\/\\/ OPTIMIZE [0.001, 0.999]/' -e 's/^constexpr short PURCHASE_TURN_LIMIT = .*;  \\/\\/ OPTIMIZE \\[790, 870\\]$/constexpr short PURCHASE_TURN_LIMIT = 839;  \\/\\/ OPTIMIZE [790, 870]/' -e 's/^constexpr int SUBSCORE3_TIGHT_TURN = .*;     \\/\\/ OPTIMIZE \\[0, 2\\]$/constexpr int SUBSCORE3_TIGHT_TURN = 0;     \\/\\/ OPTIMIZE [0, 2]/' -e 's/^constexpr int ROUGH_HASH = .*;      \\/\\/ OPTIMIZE {0, 0b00000001, 0b00010001, 0b00010011, 0b00110011}$/constexpr int ROUGH_HASH = 0b00010011;      \\/\\/ OPTIMIZE {0, 0b00000001, 0b00010001, 0b00010011, 0b00110011}/'\n",
      "g++ 2_main.cpp -std=gnu++17 -O2 -DONLINE_JUDGE -o 2_main.cpp.out 2> /dev/null\n"
     ]
    },
    {
     "name": "stderr",
     "output_type": "stream",
     "text": [
      "\u001b[32m[I 2021-09-10 10:47:30,835]\u001b[0m Trial 167 finished with value: 1006935117.0 and parameters: {'K_START': 0.052821527679379233, 'K_END': 0.04860617437124422, 'K_H': 0.3166539661416902, 'PURCHASE_TURN_LIMIT': 839, 'SUBSCORE3_TIGHT_TURN': 0, 'ROUGH_HASH': '0'}. Best is trial 116 with value: 1010815661.0.\u001b[0m\n"
     ]
    },
    {
     "name": "stdout",
     "output_type": "stream",
     "text": [
      "callback ok\n",
      "index_parallel=3\n",
      "sed -i 3_main.cpp -e 's/^constexpr double K_START = .*;  \\/\\/ OPTIMIZE \\[0\\.02, 0\\.06\\] LOG$/constexpr double K_START = 0.0530643035855978;  \\/\\/ OPTIMIZE [0.02, 0.06] LOG/' -e 's/^constexpr double K_END = .*;   \\/\\/ OPTIMIZE \\[0\\.01, 0\\.05\\] LOG$/constexpr double K_END = 0.04998370498769486;   \\/\\/ OPTIMIZE [0.01, 0.05] LOG/' -e 's/^constexpr double K_H = .*;      \\/\\/ OPTIMIZE \\[0\\.001, 0\\.999\\]$/constexpr double K_H = 0.28773454840010404;      \\/\\/ OPTIMIZE [0.001, 0.999]/' -e 's/^constexpr short PURCHASE_TURN_LIMIT = .*;  \\/\\/ OPTIMIZE \\[790, 870\\]$/constexpr short PURCHASE_TURN_LIMIT = 838;  \\/\\/ OPTIMIZE [790, 870]/' -e 's/^constexpr int SUBSCORE3_TIGHT_TURN = .*;     \\/\\/ OPTIMIZE \\[0, 2\\]$/constexpr int SUBSCORE3_TIGHT_TURN = 0;     \\/\\/ OPTIMIZE [0, 2]/' -e 's/^constexpr int ROUGH_HASH = .*;      \\/\\/ OPTIMIZE {0, 0b00000001, 0b00010001, 0b00010011, 0b00110011}$/constexpr int ROUGH_HASH = 0b00010011;      \\/\\/ OPTIMIZE {0, 0b00000001, 0b00010001, 0b00010011, 0b00110011}/'\n",
      "g++ 3_main.cpp -std=gnu++17 -O2 -DONLINE_JUDGE -o 3_main.cpp.out 2> /dev/null\n"
     ]
    },
    {
     "name": "stderr",
     "output_type": "stream",
     "text": [
      "\u001b[32m[I 2021-09-10 10:49:07,615]\u001b[0m Trial 168 finished with value: 1006131196.0 and parameters: {'K_START': 0.05292057649290985, 'K_END': 0.049826773696843574, 'K_H': 0.28675725032613897, 'PURCHASE_TURN_LIMIT': 839, 'SUBSCORE3_TIGHT_TURN': 0, 'ROUGH_HASH': '0'}. Best is trial 116 with value: 1010815661.0.\u001b[0m\n"
     ]
    },
    {
     "name": "stdout",
     "output_type": "stream",
     "text": [
      "callback ok\n",
      "index_parallel=4\n",
      "sed -i 4_main.cpp -e 's/^constexpr double K_START = .*;  \\/\\/ OPTIMIZE \\[0\\.02, 0\\.06\\] LOG$/constexpr double K_START = 0.05267469537832313;  \\/\\/ OPTIMIZE [0.02, 0.06] LOG/' -e 's/^constexpr double K_END = .*;   \\/\\/ OPTIMIZE \\[0\\.01, 0\\.05\\] LOG$/constexpr double K_END = 0.044894883504383254;   \\/\\/ OPTIMIZE [0.01, 0.05] LOG/' -e 's/^constexpr double K_H = .*;      \\/\\/ OPTIMIZE \\[0\\.001, 0\\.999\\]$/constexpr double K_H = 0.3489305508505718;      \\/\\/ OPTIMIZE [0.001, 0.999]/' -e 's/^constexpr short PURCHASE_TURN_LIMIT = .*;  \\/\\/ OPTIMIZE \\[790, 870\\]$/constexpr short PURCHASE_TURN_LIMIT = 838;  \\/\\/ OPTIMIZE [790, 870]/' -e 's/^constexpr int SUBSCORE3_TIGHT_TURN = .*;     \\/\\/ OPTIMIZE \\[0, 2\\]$/constexpr int SUBSCORE3_TIGHT_TURN = 0;     \\/\\/ OPTIMIZE [0, 2]/' -e 's/^constexpr int ROUGH_HASH = .*;      \\/\\/ OPTIMIZE {0, 0b00000001, 0b00010001, 0b00010011, 0b00110011}$/constexpr int ROUGH_HASH = 0b00010011;      \\/\\/ OPTIMIZE {0, 0b00000001, 0b00010001, 0b00010011, 0b00110011}/'\n",
      "g++ 4_main.cpp -std=gnu++17 -O2 -DONLINE_JUDGE -o 4_main.cpp.out 2> /dev/null\n"
     ]
    },
    {
     "name": "stderr",
     "output_type": "stream",
     "text": [
      "\u001b[32m[I 2021-09-10 10:49:55,588]\u001b[0m Trial 170 finished with value: 996522298.0 and parameters: {'K_START': 0.05272275749638502, 'K_END': 0.04499533710082534, 'K_H': 0.29277184843694654, 'PURCHASE_TURN_LIMIT': 839, 'SUBSCORE3_TIGHT_TURN': 0, 'ROUGH_HASH': '0b00010011'}. Best is trial 116 with value: 1010815661.0.\u001b[0m\n"
     ]
    },
    {
     "name": "stdout",
     "output_type": "stream",
     "text": [
      "callback ok\n",
      "index_parallel=5\n",
      "sed -i 5_main.cpp -e 's/^constexpr double K_START = .*;  \\/\\/ OPTIMIZE \\[0\\.02, 0\\.06\\] LOG$/constexpr double K_START = 0.05442105485084856;  \\/\\/ OPTIMIZE [0.02, 0.06] LOG/' -e 's/^constexpr double K_END = .*;   \\/\\/ OPTIMIZE \\[0\\.01, 0\\.05\\] LOG$/constexpr double K_END = 0.04827798850069245;   \\/\\/ OPTIMIZE [0.01, 0.05] LOG/' -e 's/^constexpr double K_H = .*;      \\/\\/ OPTIMIZE \\[0\\.001, 0\\.999\\]$/constexpr double K_H = 0.35704373587737354;      \\/\\/ OPTIMIZE [0.001, 0.999]/' -e 's/^constexpr short PURCHASE_TURN_LIMIT = .*;  \\/\\/ OPTIMIZE \\[790, 870\\]$/constexpr short PURCHASE_TURN_LIMIT = 837;  \\/\\/ OPTIMIZE [790, 870]/' -e 's/^constexpr int SUBSCORE3_TIGHT_TURN = .*;     \\/\\/ OPTIMIZE \\[0, 2\\]$/constexpr int SUBSCORE3_TIGHT_TURN = 1;     \\/\\/ OPTIMIZE [0, 2]/' -e 's/^constexpr int ROUGH_HASH = .*;      \\/\\/ OPTIMIZE {0, 0b00000001, 0b00010001, 0b00010011, 0b00110011}$/constexpr int ROUGH_HASH = 0;      \\/\\/ OPTIMIZE {0, 0b00000001, 0b00010001, 0b00010011, 0b00110011}/'\n",
      "g++ 5_main.cpp -std=gnu++17 -O2 -DONLINE_JUDGE -o 5_main.cpp.out 2> /dev/null\n"
     ]
    },
    {
     "name": "stderr",
     "output_type": "stream",
     "text": [
      "\u001b[32m[I 2021-09-10 10:50:11,237]\u001b[0m Trial 169 finished with value: 1005642297.0 and parameters: {'K_START': 0.05714695755474009, 'K_END': 0.044684716267817705, 'K_H': 0.360312584062647, 'PURCHASE_TURN_LIMIT': 838, 'SUBSCORE3_TIGHT_TURN': 0, 'ROUGH_HASH': '0'}. Best is trial 116 with value: 1010815661.0.\u001b[0m\n"
     ]
    },
    {
     "name": "stdout",
     "output_type": "stream",
     "text": [
      "callback ok\n",
      "index_parallel=6\n",
      "sed -i 6_main.cpp -e 's/^constexpr double K_START = .*;  \\/\\/ OPTIMIZE \\[0\\.02, 0\\.06\\] LOG$/constexpr double K_START = 0.05432992403580365;  \\/\\/ OPTIMIZE [0.02, 0.06] LOG/' -e 's/^constexpr double K_END = .*;   \\/\\/ OPTIMIZE \\[0\\.01, 0\\.05\\] LOG$/constexpr double K_END = 0.04829105769403443;   \\/\\/ OPTIMIZE [0.01, 0.05] LOG/' -e 's/^constexpr double K_H = .*;      \\/\\/ OPTIMIZE \\[0\\.001, 0\\.999\\]$/constexpr double K_H = 0.328469764442037;      \\/\\/ OPTIMIZE [0.001, 0.999]/' -e 's/^constexpr short PURCHASE_TURN_LIMIT = .*;  \\/\\/ OPTIMIZE \\[790, 870\\]$/constexpr short PURCHASE_TURN_LIMIT = 837;  \\/\\/ OPTIMIZE [790, 870]/' -e 's/^constexpr int SUBSCORE3_TIGHT_TURN = .*;     \\/\\/ OPTIMIZE \\[0, 2\\]$/constexpr int SUBSCORE3_TIGHT_TURN = 0;     \\/\\/ OPTIMIZE [0, 2]/' -e 's/^constexpr int ROUGH_HASH = .*;      \\/\\/ OPTIMIZE {0, 0b00000001, 0b00010001, 0b00010011, 0b00110011}$/constexpr int ROUGH_HASH = 0;      \\/\\/ OPTIMIZE {0, 0b00000001, 0b00010001, 0b00010011, 0b00110011}/'\n",
      "g++ 6_main.cpp -std=gnu++17 -O2 -DONLINE_JUDGE -o 6_main.cpp.out 2> /dev/null\n"
     ]
    },
    {
     "name": "stderr",
     "output_type": "stream",
     "text": [
      "\u001b[32m[I 2021-09-10 10:51:32,013]\u001b[0m Trial 171 finished with value: 997624804.0 and parameters: {'K_START': 0.0530643035855978, 'K_END': 0.04998370498769486, 'K_H': 0.28773454840010404, 'PURCHASE_TURN_LIMIT': 838, 'SUBSCORE3_TIGHT_TURN': 0, 'ROUGH_HASH': '0b00010011'}. Best is trial 116 with value: 1010815661.0.\u001b[0m\n"
     ]
    },
    {
     "name": "stdout",
     "output_type": "stream",
     "text": [
      "callback ok\n",
      "index_parallel=7\n",
      "sed -i 7_main.cpp -e 's/^constexpr double K_START = .*;  \\/\\/ OPTIMIZE \\[0\\.02, 0\\.06\\] LOG$/constexpr double K_START = 0.05446883134330883;  \\/\\/ OPTIMIZE [0.02, 0.06] LOG/' -e 's/^constexpr double K_END = .*;   \\/\\/ OPTIMIZE \\[0\\.01, 0\\.05\\] LOG$/constexpr double K_END = 0.0480496728140456;   \\/\\/ OPTIMIZE [0.01, 0.05] LOG/' -e 's/^constexpr double K_H = .*;      \\/\\/ OPTIMIZE \\[0\\.001, 0\\.999\\]$/constexpr double K_H = 0.3226197321761043;      \\/\\/ OPTIMIZE [0.001, 0.999]/' -e 's/^constexpr short PURCHASE_TURN_LIMIT = .*;  \\/\\/ OPTIMIZE \\[790, 870\\]$/constexpr short PURCHASE_TURN_LIMIT = 836;  \\/\\/ OPTIMIZE [790, 870]/' -e 's/^constexpr int SUBSCORE3_TIGHT_TURN = .*;     \\/\\/ OPTIMIZE \\[0, 2\\]$/constexpr int SUBSCORE3_TIGHT_TURN = 0;     \\/\\/ OPTIMIZE [0, 2]/' -e 's/^constexpr int ROUGH_HASH = .*;      \\/\\/ OPTIMIZE {0, 0b00000001, 0b00010001, 0b00010011, 0b00110011}$/constexpr int ROUGH_HASH = 0;      \\/\\/ OPTIMIZE {0, 0b00000001, 0b00010001, 0b00010011, 0b00110011}/'\n",
      "g++ 7_main.cpp -std=gnu++17 -O2 -DONLINE_JUDGE -o 7_main.cpp.out 2> /dev/null\n"
     ]
    },
    {
     "name": "stderr",
     "output_type": "stream",
     "text": [
      "\u001b[32m[I 2021-09-10 10:53:09,488]\u001b[0m Trial 172 finished with value: 998375523.0 and parameters: {'K_START': 0.05267469537832313, 'K_END': 0.044894883504383254, 'K_H': 0.3489305508505718, 'PURCHASE_TURN_LIMIT': 838, 'SUBSCORE3_TIGHT_TURN': 0, 'ROUGH_HASH': '0b00010011'}. Best is trial 116 with value: 1010815661.0.\u001b[0m\n"
     ]
    },
    {
     "name": "stdout",
     "output_type": "stream",
     "text": [
      "callback ok\n",
      "index_parallel=8\n",
      "sed -i 8_main.cpp -e 's/^constexpr double K_START = .*;  \\/\\/ OPTIMIZE \\[0\\.02, 0\\.06\\] LOG$/constexpr double K_START = 0.05677981548251991;  \\/\\/ OPTIMIZE [0.02, 0.06] LOG/' -e 's/^constexpr double K_END = .*;   \\/\\/ OPTIMIZE \\[0\\.01, 0\\.05\\] LOG$/constexpr double K_END = 0.04787811920543691;   \\/\\/ OPTIMIZE [0.01, 0.05] LOG/' -e 's/^constexpr double K_H = .*;      \\/\\/ OPTIMIZE \\[0\\.001, 0\\.999\\]$/constexpr double K_H = 0.31973816165934293;      \\/\\/ OPTIMIZE [0.001, 0.999]/' -e 's/^constexpr short PURCHASE_TURN_LIMIT = .*;  \\/\\/ OPTIMIZE \\[790, 870\\]$/constexpr short PURCHASE_TURN_LIMIT = 841;  \\/\\/ OPTIMIZE [790, 870]/' -e 's/^constexpr int SUBSCORE3_TIGHT_TURN = .*;     \\/\\/ OPTIMIZE \\[0, 2\\]$/constexpr int SUBSCORE3_TIGHT_TURN = 0;     \\/\\/ OPTIMIZE [0, 2]/' -e 's/^constexpr int ROUGH_HASH = .*;      \\/\\/ OPTIMIZE {0, 0b00000001, 0b00010001, 0b00010011, 0b00110011}$/constexpr int ROUGH_HASH = 0;      \\/\\/ OPTIMIZE {0, 0b00000001, 0b00010001, 0b00010011, 0b00110011}/'\n",
      "g++ 8_main.cpp -std=gnu++17 -O2 -DONLINE_JUDGE -o 8_main.cpp.out 2> /dev/null\n"
     ]
    },
    {
     "name": "stderr",
     "output_type": "stream",
     "text": [
      "\u001b[32m[I 2021-09-10 10:54:39,082]\u001b[0m Trial 173 finished with value: 1002369664.0 and parameters: {'K_START': 0.05442105485084856, 'K_END': 0.04827798850069245, 'K_H': 0.35704373587737354, 'PURCHASE_TURN_LIMIT': 837, 'SUBSCORE3_TIGHT_TURN': 1, 'ROUGH_HASH': '0'}. Best is trial 116 with value: 1010815661.0.\u001b[0m\n"
     ]
    },
    {
     "name": "stdout",
     "output_type": "stream",
     "text": [
      "callback ok\n",
      "index_parallel=9\n",
      "sed -i 9_main.cpp -e 's/^constexpr double K_START = .*;  \\/\\/ OPTIMIZE \\[0\\.02, 0\\.06\\] LOG$/constexpr double K_START = 0.05648502113008062;  \\/\\/ OPTIMIZE [0.02, 0.06] LOG/' -e 's/^constexpr double K_END = .*;   \\/\\/ OPTIMIZE \\[0\\.01, 0\\.05\\] LOG$/constexpr double K_END = 0.046810705162640145;   \\/\\/ OPTIMIZE [0.01, 0.05] LOG/' -e 's/^constexpr double K_H = .*;      \\/\\/ OPTIMIZE \\[0\\.001, 0\\.999\\]$/constexpr double K_H = 0.321021292519889;      \\/\\/ OPTIMIZE [0.001, 0.999]/' -e 's/^constexpr short PURCHASE_TURN_LIMIT = .*;  \\/\\/ OPTIMIZE \\[790, 870\\]$/constexpr short PURCHASE_TURN_LIMIT = 841;  \\/\\/ OPTIMIZE [790, 870]/' -e 's/^constexpr int SUBSCORE3_TIGHT_TURN = .*;     \\/\\/ OPTIMIZE \\[0, 2\\]$/constexpr int SUBSCORE3_TIGHT_TURN = 0;     \\/\\/ OPTIMIZE [0, 2]/' -e 's/^constexpr int ROUGH_HASH = .*;      \\/\\/ OPTIMIZE {0, 0b00000001, 0b00010001, 0b00010011, 0b00110011}$/constexpr int ROUGH_HASH = 0;      \\/\\/ OPTIMIZE {0, 0b00000001, 0b00010001, 0b00010011, 0b00110011}/'\n",
      "g++ 9_main.cpp -std=gnu++17 -O2 -DONLINE_JUDGE -o 9_main.cpp.out 2> /dev/null\n"
     ]
    },
    {
     "name": "stderr",
     "output_type": "stream",
     "text": [
      "\u001b[32m[I 2021-09-10 10:54:52,432]\u001b[0m Trial 174 finished with value: 1004938025.0 and parameters: {'K_START': 0.05432992403580365, 'K_END': 0.04829105769403443, 'K_H': 0.328469764442037, 'PURCHASE_TURN_LIMIT': 837, 'SUBSCORE3_TIGHT_TURN': 0, 'ROUGH_HASH': '0'}. Best is trial 116 with value: 1010815661.0.\u001b[0m\n"
     ]
    },
    {
     "name": "stdout",
     "output_type": "stream",
     "text": [
      "callback ok\n",
      "index_parallel=10\n",
      "sed -i 10_main.cpp -e 's/^constexpr double K_START = .*;  \\/\\/ OPTIMIZE \\[0\\.02, 0\\.06\\] LOG$/constexpr double K_START = 0.05715543591492347;  \\/\\/ OPTIMIZE [0.02, 0.06] LOG/' -e 's/^constexpr double K_END = .*;   \\/\\/ OPTIMIZE \\[0\\.01, 0\\.05\\] LOG$/constexpr double K_END = 0.04637946261645307;   \\/\\/ OPTIMIZE [0.01, 0.05] LOG/' -e 's/^constexpr double K_H = .*;      \\/\\/ OPTIMIZE \\[0\\.001, 0\\.999\\]$/constexpr double K_H = 0.32560483006427676;      \\/\\/ OPTIMIZE [0.001, 0.999]/' -e 's/^constexpr short PURCHASE_TURN_LIMIT = .*;  \\/\\/ OPTIMIZE \\[790, 870\\]$/constexpr short PURCHASE_TURN_LIMIT = 841;  \\/\\/ OPTIMIZE [790, 870]/' -e 's/^constexpr int SUBSCORE3_TIGHT_TURN = .*;     \\/\\/ OPTIMIZE \\[0, 2\\]$/constexpr int SUBSCORE3_TIGHT_TURN = 0;     \\/\\/ OPTIMIZE [0, 2]/' -e 's/^constexpr int ROUGH_HASH = .*;      \\/\\/ OPTIMIZE {0, 0b00000001, 0b00010001, 0b00010011, 0b00110011}$/constexpr int ROUGH_HASH = 0;      \\/\\/ OPTIMIZE {0, 0b00000001, 0b00010001, 0b00010011, 0b00110011}/'\n",
      "g++ 10_main.cpp -std=gnu++17 -O2 -DONLINE_JUDGE -o 10_main.cpp.out 2> /dev/null\n"
     ]
    },
    {
     "name": "stderr",
     "output_type": "stream",
     "text": [
      "\u001b[32m[I 2021-09-10 10:56:13,887]\u001b[0m Trial 175 finished with value: 1005842992.0 and parameters: {'K_START': 0.05446883134330883, 'K_END': 0.0480496728140456, 'K_H': 0.3226197321761043, 'PURCHASE_TURN_LIMIT': 836, 'SUBSCORE3_TIGHT_TURN': 0, 'ROUGH_HASH': '0'}. Best is trial 116 with value: 1010815661.0.\u001b[0m\n"
     ]
    },
    {
     "name": "stdout",
     "output_type": "stream",
     "text": [
      "callback ok\n",
      "index_parallel=11\n",
      "sed -i 11_main.cpp -e 's/^constexpr double K_START = .*;  \\/\\/ OPTIMIZE \\[0\\.02, 0\\.06\\] LOG$/constexpr double K_START = 0.05685637167031433;  \\/\\/ OPTIMIZE [0.02, 0.06] LOG/' -e 's/^constexpr double K_END = .*;   \\/\\/ OPTIMIZE \\[0\\.01, 0\\.05\\] LOG$/constexpr double K_END = 0.046336616487183825;   \\/\\/ OPTIMIZE [0.01, 0.05] LOG/' -e 's/^constexpr double K_H = .*;      \\/\\/ OPTIMIZE \\[0\\.001, 0\\.999\\]$/constexpr double K_H = 0.24389258151216614;      \\/\\/ OPTIMIZE [0.001, 0.999]/' -e 's/^constexpr short PURCHASE_TURN_LIMIT = .*;  \\/\\/ OPTIMIZE \\[790, 870\\]$/constexpr short PURCHASE_TURN_LIMIT = 841;  \\/\\/ OPTIMIZE [790, 870]/' -e 's/^constexpr int SUBSCORE3_TIGHT_TURN = .*;     \\/\\/ OPTIMIZE \\[0, 2\\]$/constexpr int SUBSCORE3_TIGHT_TURN = 0;     \\/\\/ OPTIMIZE [0, 2]/' -e 's/^constexpr int ROUGH_HASH = .*;      \\/\\/ OPTIMIZE {0, 0b00000001, 0b00010001, 0b00010011, 0b00110011}$/constexpr int ROUGH_HASH = 0;      \\/\\/ OPTIMIZE {0, 0b00000001, 0b00010001, 0b00010011, 0b00110011}/'\n",
      "g++ 11_main.cpp -std=gnu++17 -O2 -DONLINE_JUDGE -o 11_main.cpp.out 2> /dev/null\n"
     ]
    },
    {
     "name": "stderr",
     "output_type": "stream",
     "text": [
      "\u001b[32m[I 2021-09-10 10:57:53,356]\u001b[0m Trial 176 finished with value: 1007051558.0 and parameters: {'K_START': 0.05677981548251991, 'K_END': 0.04787811920543691, 'K_H': 0.31973816165934293, 'PURCHASE_TURN_LIMIT': 841, 'SUBSCORE3_TIGHT_TURN': 0, 'ROUGH_HASH': '0'}. Best is trial 116 with value: 1010815661.0.\u001b[0m\n"
     ]
    },
    {
     "name": "stdout",
     "output_type": "stream",
     "text": [
      "callback ok\n",
      "index_parallel=0\n",
      "sed -i 0_main.cpp -e 's/^constexpr double K_START = .*;  \\/\\/ OPTIMIZE \\[0\\.02, 0\\.06\\] LOG$/constexpr double K_START = 0.056540510583199574;  \\/\\/ OPTIMIZE [0.02, 0.06] LOG/' -e 's/^constexpr double K_END = .*;   \\/\\/ OPTIMIZE \\[0\\.01, 0\\.05\\] LOG$/constexpr double K_END = 0.04648249035998001;   \\/\\/ OPTIMIZE [0.01, 0.05] LOG/' -e 's/^constexpr double K_H = .*;      \\/\\/ OPTIMIZE \\[0\\.001, 0\\.999\\]$/constexpr double K_H = 0.3363551287434427;      \\/\\/ OPTIMIZE [0.001, 0.999]/' -e 's/^constexpr short PURCHASE_TURN_LIMIT = .*;  \\/\\/ OPTIMIZE \\[790, 870\\]$/constexpr short PURCHASE_TURN_LIMIT = 842;  \\/\\/ OPTIMIZE [790, 870]/' -e 's/^constexpr int SUBSCORE3_TIGHT_TURN = .*;     \\/\\/ OPTIMIZE \\[0, 2\\]$/constexpr int SUBSCORE3_TIGHT_TURN = 0;     \\/\\/ OPTIMIZE [0, 2]/' -e 's/^constexpr int ROUGH_HASH = .*;      \\/\\/ OPTIMIZE {0, 0b00000001, 0b00010001, 0b00010011, 0b00110011}$/constexpr int ROUGH_HASH = 0;      \\/\\/ OPTIMIZE {0, 0b00000001, 0b00010001, 0b00010011, 0b00110011}/'\n",
      "g++ 0_main.cpp -std=gnu++17 -O2 -DONLINE_JUDGE -o 0_main.cpp.out 2> /dev/null\n"
     ]
    },
    {
     "name": "stderr",
     "output_type": "stream",
     "text": [
      "\u001b[32m[I 2021-09-10 10:59:24,195]\u001b[0m Trial 177 finished with value: 1008189551.0 and parameters: {'K_START': 0.05648502113008062, 'K_END': 0.046810705162640145, 'K_H': 0.321021292519889, 'PURCHASE_TURN_LIMIT': 841, 'SUBSCORE3_TIGHT_TURN': 0, 'ROUGH_HASH': '0'}. Best is trial 116 with value: 1010815661.0.\u001b[0m\n"
     ]
    },
    {
     "name": "stdout",
     "output_type": "stream",
     "text": [
      "callback ok\n",
      "index_parallel=1\n",
      "sed -i 1_main.cpp -e 's/^constexpr double K_START = .*;  \\/\\/ OPTIMIZE \\[0\\.02, 0\\.06\\] LOG$/constexpr double K_START = 0.05654149445815941;  \\/\\/ OPTIMIZE [0.02, 0.06] LOG/' -e 's/^constexpr double K_END = .*;   \\/\\/ OPTIMIZE \\[0\\.01, 0\\.05\\] LOG$/constexpr double K_END = 0.046680828449527104;   \\/\\/ OPTIMIZE [0.01, 0.05] LOG/' -e 's/^constexpr double K_H = .*;      \\/\\/ OPTIMIZE \\[0\\.001, 0\\.999\\]$/constexpr double K_H = 0.36675652527051084;      \\/\\/ OPTIMIZE [0.001, 0.999]/' -e 's/^constexpr short PURCHASE_TURN_LIMIT = .*;  \\/\\/ OPTIMIZE \\[790, 870\\]$/constexpr short PURCHASE_TURN_LIMIT = 841;  \\/\\/ OPTIMIZE [790, 870]/' -e 's/^constexpr int SUBSCORE3_TIGHT_TURN = .*;     \\/\\/ OPTIMIZE \\[0, 2\\]$/constexpr int SUBSCORE3_TIGHT_TURN = 0;     \\/\\/ OPTIMIZE [0, 2]/' -e 's/^constexpr int ROUGH_HASH = .*;      \\/\\/ OPTIMIZE {0, 0b00000001, 0b00010001, 0b00010011, 0b00110011}$/constexpr int ROUGH_HASH = 0;      \\/\\/ OPTIMIZE {0, 0b00000001, 0b00010001, 0b00010011, 0b00110011}/'\n",
      "g++ 1_main.cpp -std=gnu++17 -O2 -DONLINE_JUDGE -o 1_main.cpp.out 2> /dev/null\n"
     ]
    },
    {
     "name": "stderr",
     "output_type": "stream",
     "text": [
      "\u001b[32m[I 2021-09-10 10:59:36,647]\u001b[0m Trial 178 finished with value: 1006646016.0 and parameters: {'K_START': 0.05715543591492347, 'K_END': 0.04637946261645307, 'K_H': 0.32560483006427676, 'PURCHASE_TURN_LIMIT': 841, 'SUBSCORE3_TIGHT_TURN': 0, 'ROUGH_HASH': '0'}. Best is trial 116 with value: 1010815661.0.\u001b[0m\n"
     ]
    },
    {
     "name": "stdout",
     "output_type": "stream",
     "text": [
      "callback ok\n",
      "index_parallel=2\n",
      "sed -i 2_main.cpp -e 's/^constexpr double K_START = .*;  \\/\\/ OPTIMIZE \\[0\\.02, 0\\.06\\] LOG$/constexpr double K_START = 0.05652195256543571;  \\/\\/ OPTIMIZE [0.02, 0.06] LOG/' -e 's/^constexpr double K_END = .*;   \\/\\/ OPTIMIZE \\[0\\.01, 0\\.05\\] LOG$/constexpr double K_END = 0.046580589520366825;   \\/\\/ OPTIMIZE [0.01, 0.05] LOG/' -e 's/^constexpr double K_H = .*;      \\/\\/ OPTIMIZE \\[0\\.001, 0\\.999\\]$/constexpr double K_H = 0.34129849083836034;      \\/\\/ OPTIMIZE [0.001, 0.999]/' -e 's/^constexpr short PURCHASE_TURN_LIMIT = .*;  \\/\\/ OPTIMIZE \\[790, 870\\]$/constexpr short PURCHASE_TURN_LIMIT = 842;  \\/\\/ OPTIMIZE [790, 870]/' -e 's/^constexpr int SUBSCORE3_TIGHT_TURN = .*;     \\/\\/ OPTIMIZE \\[0, 2\\]$/constexpr int SUBSCORE3_TIGHT_TURN = 0;     \\/\\/ OPTIMIZE [0, 2]/' -e 's/^constexpr int ROUGH_HASH = .*;      \\/\\/ OPTIMIZE {0, 0b00000001, 0b00010001, 0b00010011, 0b00110011}$/constexpr int ROUGH_HASH = 0;      \\/\\/ OPTIMIZE {0, 0b00000001, 0b00010001, 0b00010011, 0b00110011}/'\n",
      "g++ 2_main.cpp -std=gnu++17 -O2 -DONLINE_JUDGE -o 2_main.cpp.out 2> /dev/null\n"
     ]
    },
    {
     "name": "stderr",
     "output_type": "stream",
     "text": [
      "\u001b[32m[I 2021-09-10 11:01:17,206]\u001b[0m Trial 179 finished with value: 1005519317.0 and parameters: {'K_START': 0.05685637167031433, 'K_END': 0.046336616487183825, 'K_H': 0.24389258151216614, 'PURCHASE_TURN_LIMIT': 841, 'SUBSCORE3_TIGHT_TURN': 0, 'ROUGH_HASH': '0'}. Best is trial 116 with value: 1010815661.0.\u001b[0m\n"
     ]
    },
    {
     "name": "stdout",
     "output_type": "stream",
     "text": [
      "callback ok\n",
      "index_parallel=3\n",
      "sed -i 3_main.cpp -e 's/^constexpr double K_START = .*;  \\/\\/ OPTIMIZE \\[0\\.02, 0\\.06\\] LOG$/constexpr double K_START = 0.05904145891730927;  \\/\\/ OPTIMIZE [0.02, 0.06] LOG/' -e 's/^constexpr double K_END = .*;   \\/\\/ OPTIMIZE \\[0\\.01, 0\\.05\\] LOG$/constexpr double K_END = 0.043591528176207664;   \\/\\/ OPTIMIZE [0.01, 0.05] LOG/' -e 's/^constexpr double K_H = .*;      \\/\\/ OPTIMIZE \\[0\\.001, 0\\.999\\]$/constexpr double K_H = 0.34300952118712735;      \\/\\/ OPTIMIZE [0.001, 0.999]/' -e 's/^constexpr short PURCHASE_TURN_LIMIT = .*;  \\/\\/ OPTIMIZE \\[790, 870\\]$/constexpr short PURCHASE_TURN_LIMIT = 842;  \\/\\/ OPTIMIZE [790, 870]/' -e 's/^constexpr int SUBSCORE3_TIGHT_TURN = .*;     \\/\\/ OPTIMIZE \\[0, 2\\]$/constexpr int SUBSCORE3_TIGHT_TURN = 0;     \\/\\/ OPTIMIZE [0, 2]/' -e 's/^constexpr int ROUGH_HASH = .*;      \\/\\/ OPTIMIZE {0, 0b00000001, 0b00010001, 0b00010011, 0b00110011}$/constexpr int ROUGH_HASH = 0;      \\/\\/ OPTIMIZE {0, 0b00000001, 0b00010001, 0b00010011, 0b00110011}/'\n",
      "g++ 3_main.cpp -std=gnu++17 -O2 -DONLINE_JUDGE -o 3_main.cpp.out 2> /dev/null\n"
     ]
    },
    {
     "name": "stderr",
     "output_type": "stream",
     "text": [
      "\u001b[32m[I 2021-09-10 11:03:11,102]\u001b[0m Trial 180 finished with value: 1006768186.0 and parameters: {'K_START': 0.056540510583199574, 'K_END': 0.04648249035998001, 'K_H': 0.3363551287434427, 'PURCHASE_TURN_LIMIT': 842, 'SUBSCORE3_TIGHT_TURN': 0, 'ROUGH_HASH': '0'}. Best is trial 116 with value: 1010815661.0.\u001b[0m\n"
     ]
    },
    {
     "name": "stdout",
     "output_type": "stream",
     "text": [
      "callback ok\n",
      "index_parallel=4\n",
      "sed -i 4_main.cpp -e 's/^constexpr double K_START = .*;  \\/\\/ OPTIMIZE \\[0\\.02, 0\\.06\\] LOG$/constexpr double K_START = 0.05946793837200396;  \\/\\/ OPTIMIZE [0.02, 0.06] LOG/' -e 's/^constexpr double K_END = .*;   \\/\\/ OPTIMIZE \\[0\\.01, 0\\.05\\] LOG$/constexpr double K_END = 0.0486713350653489;   \\/\\/ OPTIMIZE [0.01, 0.05] LOG/' -e 's/^constexpr double K_H = .*;      \\/\\/ OPTIMIZE \\[0\\.001, 0\\.999\\]$/constexpr double K_H = 0.3756923076161229;      \\/\\/ OPTIMIZE [0.001, 0.999]/' -e 's/^constexpr short PURCHASE_TURN_LIMIT = .*;  \\/\\/ OPTIMIZE \\[790, 870\\]$/constexpr short PURCHASE_TURN_LIMIT = 840;  \\/\\/ OPTIMIZE [790, 870]/' -e 's/^constexpr int SUBSCORE3_TIGHT_TURN = .*;     \\/\\/ OPTIMIZE \\[0, 2\\]$/constexpr int SUBSCORE3_TIGHT_TURN = 0;     \\/\\/ OPTIMIZE [0, 2]/' -e 's/^constexpr int ROUGH_HASH = .*;      \\/\\/ OPTIMIZE {0, 0b00000001, 0b00010001, 0b00010011, 0b00110011}$/constexpr int ROUGH_HASH = 0;      \\/\\/ OPTIMIZE {0, 0b00000001, 0b00010001, 0b00010011, 0b00110011}/'\n",
      "g++ 4_main.cpp -std=gnu++17 -O2 -DONLINE_JUDGE -o 4_main.cpp.out 2> /dev/null\n"
     ]
    },
    {
     "name": "stderr",
     "output_type": "stream",
     "text": [
      "\u001b[32m[I 2021-09-10 11:04:50,918]\u001b[0m Trial 181 finished with value: 1006421033.0 and parameters: {'K_START': 0.05654149445815941, 'K_END': 0.046680828449527104, 'K_H': 0.36675652527051084, 'PURCHASE_TURN_LIMIT': 841, 'SUBSCORE3_TIGHT_TURN': 0, 'ROUGH_HASH': '0'}. Best is trial 116 with value: 1010815661.0.\u001b[0m\n"
     ]
    },
    {
     "name": "stdout",
     "output_type": "stream",
     "text": [
      "callback ok\n",
      "index_parallel=5\n",
      "sed -i 5_main.cpp -e 's/^constexpr double K_START = .*;  \\/\\/ OPTIMIZE \\[0\\.02, 0\\.06\\] LOG$/constexpr double K_START = 0.05886252677880172;  \\/\\/ OPTIMIZE [0.02, 0.06] LOG/' -e 's/^constexpr double K_END = .*;   \\/\\/ OPTIMIZE \\[0\\.01, 0\\.05\\] LOG$/constexpr double K_END = 0.04865371199567288;   \\/\\/ OPTIMIZE [0.01, 0.05] LOG/' -e 's/^constexpr double K_H = .*;      \\/\\/ OPTIMIZE \\[0\\.001, 0\\.999\\]$/constexpr double K_H = 0.3042220689395928;      \\/\\/ OPTIMIZE [0.001, 0.999]/' -e 's/^constexpr short PURCHASE_TURN_LIMIT = .*;  \\/\\/ OPTIMIZE \\[790, 870\\]$/constexpr short PURCHASE_TURN_LIMIT = 840;  \\/\\/ OPTIMIZE [790, 870]/' -e 's/^constexpr int SUBSCORE3_TIGHT_TURN = .*;     \\/\\/ OPTIMIZE \\[0, 2\\]$/constexpr int SUBSCORE3_TIGHT_TURN = 0;     \\/\\/ OPTIMIZE [0, 2]/' -e 's/^constexpr int ROUGH_HASH = .*;      \\/\\/ OPTIMIZE {0, 0b00000001, 0b00010001, 0b00010011, 0b00110011}$/constexpr int ROUGH_HASH = 0;      \\/\\/ OPTIMIZE {0, 0b00000001, 0b00010001, 0b00010011, 0b00110011}/'\n",
      "g++ 5_main.cpp -std=gnu++17 -O2 -DONLINE_JUDGE -o 5_main.cpp.out 2> /dev/null\n"
     ]
    },
    {
     "name": "stderr",
     "output_type": "stream",
     "text": [
      "\u001b[32m[I 2021-09-10 11:04:57,778]\u001b[0m Trial 182 finished with value: 1003839122.0 and parameters: {'K_START': 0.05652195256543571, 'K_END': 0.046580589520366825, 'K_H': 0.34129849083836034, 'PURCHASE_TURN_LIMIT': 842, 'SUBSCORE3_TIGHT_TURN': 0, 'ROUGH_HASH': '0'}. Best is trial 116 with value: 1010815661.0.\u001b[0m\n"
     ]
    },
    {
     "name": "stdout",
     "output_type": "stream",
     "text": [
      "callback ok\n",
      "index_parallel=6\n",
      "sed -i 6_main.cpp -e 's/^constexpr double K_START = .*;  \\/\\/ OPTIMIZE \\[0\\.02, 0\\.06\\] LOG$/constexpr double K_START = 0.0590135098394371;  \\/\\/ OPTIMIZE [0.02, 0.06] LOG/' -e 's/^constexpr double K_END = .*;   \\/\\/ OPTIMIZE \\[0\\.01, 0\\.05\\] LOG$/constexpr double K_END = 0.04993965504219989;   \\/\\/ OPTIMIZE [0.01, 0.05] LOG/' -e 's/^constexpr double K_H = .*;      \\/\\/ OPTIMIZE \\[0\\.001, 0\\.999\\]$/constexpr double K_H = 0.30469808371238194;      \\/\\/ OPTIMIZE [0.001, 0.999]/' -e 's/^constexpr short PURCHASE_TURN_LIMIT = .*;  \\/\\/ OPTIMIZE \\[790, 870\\]$/constexpr short PURCHASE_TURN_LIMIT = 840;  \\/\\/ OPTIMIZE [790, 870]/' -e 's/^constexpr int SUBSCORE3_TIGHT_TURN = .*;     \\/\\/ OPTIMIZE \\[0, 2\\]$/constexpr int SUBSCORE3_TIGHT_TURN = 0;     \\/\\/ OPTIMIZE [0, 2]/' -e 's/^constexpr int ROUGH_HASH = .*;      \\/\\/ OPTIMIZE {0, 0b00000001, 0b00010001, 0b00010011, 0b00110011}$/constexpr int ROUGH_HASH = 0;      \\/\\/ OPTIMIZE {0, 0b00000001, 0b00010001, 0b00010011, 0b00110011}/'\n",
      "g++ 6_main.cpp -std=gnu++17 -O2 -DONLINE_JUDGE -o 6_main.cpp.out 2> /dev/null\n"
     ]
    },
    {
     "name": "stderr",
     "output_type": "stream",
     "text": [
      "\u001b[32m[I 2021-09-10 11:06:34,056]\u001b[0m Trial 183 finished with value: 1006516102.0 and parameters: {'K_START': 0.05904145891730927, 'K_END': 0.043591528176207664, 'K_H': 0.34300952118712735, 'PURCHASE_TURN_LIMIT': 842, 'SUBSCORE3_TIGHT_TURN': 0, 'ROUGH_HASH': '0'}. Best is trial 116 with value: 1010815661.0.\u001b[0m\n"
     ]
    },
    {
     "name": "stdout",
     "output_type": "stream",
     "text": [
      "callback ok\n",
      "index_parallel=7\n",
      "sed -i 7_main.cpp -e 's/^constexpr double K_START = .*;  \\/\\/ OPTIMIZE \\[0\\.02, 0\\.06\\] LOG$/constexpr double K_START = 0.05782613211085179;  \\/\\/ OPTIMIZE [0.02, 0.06] LOG/' -e 's/^constexpr double K_END = .*;   \\/\\/ OPTIMIZE \\[0\\.01, 0\\.05\\] LOG$/constexpr double K_END = 0.04984016853948397;   \\/\\/ OPTIMIZE [0.01, 0.05] LOG/' -e 's/^constexpr double K_H = .*;      \\/\\/ OPTIMIZE \\[0\\.001, 0\\.999\\]$/constexpr double K_H = 0.3007133136761097;      \\/\\/ OPTIMIZE [0.001, 0.999]/' -e 's/^constexpr short PURCHASE_TURN_LIMIT = .*;  \\/\\/ OPTIMIZE \\[790, 870\\]$/constexpr short PURCHASE_TURN_LIMIT = 840;  \\/\\/ OPTIMIZE [790, 870]/' -e 's/^constexpr int SUBSCORE3_TIGHT_TURN = .*;     \\/\\/ OPTIMIZE \\[0, 2\\]$/constexpr int SUBSCORE3_TIGHT_TURN = 0;     \\/\\/ OPTIMIZE [0, 2]/' -e 's/^constexpr int ROUGH_HASH = .*;      \\/\\/ OPTIMIZE {0, 0b00000001, 0b00010001, 0b00010011, 0b00110011}$/constexpr int ROUGH_HASH = 0;      \\/\\/ OPTIMIZE {0, 0b00000001, 0b00010001, 0b00010011, 0b00110011}/'\n",
      "g++ 7_main.cpp -std=gnu++17 -O2 -DONLINE_JUDGE -o 7_main.cpp.out 2> /dev/null\n"
     ]
    },
    {
     "name": "stderr",
     "output_type": "stream",
     "text": [
      "\u001b[32m[I 2021-09-10 11:08:21,219]\u001b[0m Trial 184 finished with value: 1007489027.0 and parameters: {'K_START': 0.05946793837200396, 'K_END': 0.0486713350653489, 'K_H': 0.3756923076161229, 'PURCHASE_TURN_LIMIT': 840, 'SUBSCORE3_TIGHT_TURN': 0, 'ROUGH_HASH': '0'}. Best is trial 116 with value: 1010815661.0.\u001b[0m\n"
     ]
    },
    {
     "name": "stdout",
     "output_type": "stream",
     "text": [
      "callback ok\n",
      "index_parallel=8\n",
      "sed -i 8_main.cpp -e 's/^constexpr double K_START = .*;  \\/\\/ OPTIMIZE \\[0\\.02, 0\\.06\\] LOG$/constexpr double K_START = 0.0598053740414012;  \\/\\/ OPTIMIZE [0.02, 0.06] LOG/' -e 's/^constexpr double K_END = .*;   \\/\\/ OPTIMIZE \\[0\\.01, 0\\.05\\] LOG$/constexpr double K_END = 0.0485897413004459;   \\/\\/ OPTIMIZE [0.01, 0.05] LOG/' -e 's/^constexpr double K_H = .*;      \\/\\/ OPTIMIZE \\[0\\.001, 0\\.999\\]$/constexpr double K_H = 0.4020188669127198;      \\/\\/ OPTIMIZE [0.001, 0.999]/' -e 's/^constexpr short PURCHASE_TURN_LIMIT = .*;  \\/\\/ OPTIMIZE \\[790, 870\\]$/constexpr short PURCHASE_TURN_LIMIT = 845;  \\/\\/ OPTIMIZE [790, 870]/' -e 's/^constexpr int SUBSCORE3_TIGHT_TURN = .*;     \\/\\/ OPTIMIZE \\[0, 2\\]$/constexpr int SUBSCORE3_TIGHT_TURN = 0;     \\/\\/ OPTIMIZE [0, 2]/' -e 's/^constexpr int ROUGH_HASH = .*;      \\/\\/ OPTIMIZE {0, 0b00000001, 0b00010001, 0b00010011, 0b00110011}$/constexpr int ROUGH_HASH = 0;      \\/\\/ OPTIMIZE {0, 0b00000001, 0b00010001, 0b00010011, 0b00110011}/'\n",
      "g++ 8_main.cpp -std=gnu++17 -O2 -DONLINE_JUDGE -o 8_main.cpp.out 2> /dev/null\n"
     ]
    },
    {
     "name": "stderr",
     "output_type": "stream",
     "text": [
      "\u001b[32m[I 2021-09-10 11:09:59,132]\u001b[0m Trial 185 finished with value: 1007835160.0 and parameters: {'K_START': 0.05886252677880172, 'K_END': 0.04865371199567288, 'K_H': 0.3042220689395928, 'PURCHASE_TURN_LIMIT': 840, 'SUBSCORE3_TIGHT_TURN': 0, 'ROUGH_HASH': '0'}. Best is trial 116 with value: 1010815661.0.\u001b[0m\n"
     ]
    },
    {
     "name": "stdout",
     "output_type": "stream",
     "text": [
      "callback ok\n",
      "index_parallel=9\n",
      "sed -i 9_main.cpp -e 's/^constexpr double K_START = .*;  \\/\\/ OPTIMIZE \\[0\\.02, 0\\.06\\] LOG$/constexpr double K_START = 0.0598062785354028;  \\/\\/ OPTIMIZE [0.02, 0.06] LOG/' -e 's/^constexpr double K_END = .*;   \\/\\/ OPTIMIZE \\[0\\.01, 0\\.05\\] LOG$/constexpr double K_END = 0.048536817356245994;   \\/\\/ OPTIMIZE [0.01, 0.05] LOG/' -e 's/^constexpr double K_H = .*;      \\/\\/ OPTIMIZE \\[0\\.001, 0\\.999\\]$/constexpr double K_H = 0.3047564098679043;      \\/\\/ OPTIMIZE [0.001, 0.999]/' -e 's/^constexpr short PURCHASE_TURN_LIMIT = .*;  \\/\\/ OPTIMIZE \\[790, 870\\]$/constexpr short PURCHASE_TURN_LIMIT = 845;  \\/\\/ OPTIMIZE [790, 870]/' -e 's/^constexpr int SUBSCORE3_TIGHT_TURN = .*;     \\/\\/ OPTIMIZE \\[0, 2\\]$/constexpr int SUBSCORE3_TIGHT_TURN = 0;     \\/\\/ OPTIMIZE [0, 2]/' -e 's/^constexpr int ROUGH_HASH = .*;      \\/\\/ OPTIMIZE {0, 0b00000001, 0b00010001, 0b00010011, 0b00110011}$/constexpr int ROUGH_HASH = 0;      \\/\\/ OPTIMIZE {0, 0b00000001, 0b00010001, 0b00010011, 0b00110011}/'\n",
      "g++ 9_main.cpp -std=gnu++17 -O2 -DONLINE_JUDGE -o 9_main.cpp.out 2> /dev/null\n"
     ]
    },
    {
     "name": "stderr",
     "output_type": "stream",
     "text": [
      "\u001b[32m[I 2021-09-10 11:10:03,044]\u001b[0m Trial 186 finished with value: 1005183922.0 and parameters: {'K_START': 0.0590135098394371, 'K_END': 0.04993965504219989, 'K_H': 0.30469808371238194, 'PURCHASE_TURN_LIMIT': 840, 'SUBSCORE3_TIGHT_TURN': 0, 'ROUGH_HASH': '0'}. Best is trial 116 with value: 1010815661.0.\u001b[0m\n"
     ]
    },
    {
     "name": "stdout",
     "output_type": "stream",
     "text": [
      "callback ok\n",
      "index_parallel=10\n",
      "sed -i 10_main.cpp -e 's/^constexpr double K_START = .*;  \\/\\/ OPTIMIZE \\[0\\.02, 0\\.06\\] LOG$/constexpr double K_START = 0.059861418691886624;  \\/\\/ OPTIMIZE [0.02, 0.06] LOG/' -e 's/^constexpr double K_END = .*;   \\/\\/ OPTIMIZE \\[0\\.01, 0\\.05\\] LOG$/constexpr double K_END = 0.04826920925213985;   \\/\\/ OPTIMIZE [0.01, 0.05] LOG/' -e 's/^constexpr double K_H = .*;      \\/\\/ OPTIMIZE \\[0\\.001, 0\\.999\\]$/constexpr double K_H = 0.385225077681393;      \\/\\/ OPTIMIZE [0.001, 0.999]/' -e 's/^constexpr short PURCHASE_TURN_LIMIT = .*;  \\/\\/ OPTIMIZE \\[790, 870\\]$/constexpr short PURCHASE_TURN_LIMIT = 844;  \\/\\/ OPTIMIZE [790, 870]/' -e 's/^constexpr int SUBSCORE3_TIGHT_TURN = .*;     \\/\\/ OPTIMIZE \\[0, 2\\]$/constexpr int SUBSCORE3_TIGHT_TURN = 0;     \\/\\/ OPTIMIZE [0, 2]/' -e 's/^constexpr int ROUGH_HASH = .*;      \\/\\/ OPTIMIZE {0, 0b00000001, 0b00010001, 0b00010011, 0b00110011}$/constexpr int ROUGH_HASH = 0;      \\/\\/ OPTIMIZE {0, 0b00000001, 0b00010001, 0b00010011, 0b00110011}/'\n",
      "g++ 10_main.cpp -std=gnu++17 -O2 -DONLINE_JUDGE -o 10_main.cpp.out 2> /dev/null\n"
     ]
    },
    {
     "name": "stderr",
     "output_type": "stream",
     "text": [
      "\u001b[32m[I 2021-09-10 11:11:31,308]\u001b[0m Trial 187 finished with value: 1007811378.0 and parameters: {'K_START': 0.05782613211085179, 'K_END': 0.04984016853948397, 'K_H': 0.3007133136761097, 'PURCHASE_TURN_LIMIT': 840, 'SUBSCORE3_TIGHT_TURN': 0, 'ROUGH_HASH': '0'}. Best is trial 116 with value: 1010815661.0.\u001b[0m\n"
     ]
    },
    {
     "name": "stdout",
     "output_type": "stream",
     "text": [
      "callback ok\n",
      "index_parallel=11\n",
      "sed -i 11_main.cpp -e 's/^constexpr double K_START = .*;  \\/\\/ OPTIMIZE \\[0\\.02, 0\\.06\\] LOG$/constexpr double K_START = 0.05987720121102494;  \\/\\/ OPTIMIZE [0.02, 0.06] LOG/' -e 's/^constexpr double K_END = .*;   \\/\\/ OPTIMIZE \\[0\\.01, 0\\.05\\] LOG$/constexpr double K_END = 0.04985573862678726;   \\/\\/ OPTIMIZE [0.01, 0.05] LOG/' -e 's/^constexpr double K_H = .*;      \\/\\/ OPTIMIZE \\[0\\.001, 0\\.999\\]$/constexpr double K_H = 0.28451590172606567;      \\/\\/ OPTIMIZE [0.001, 0.999]/' -e 's/^constexpr short PURCHASE_TURN_LIMIT = .*;  \\/\\/ OPTIMIZE \\[790, 870\\]$/constexpr short PURCHASE_TURN_LIMIT = 835;  \\/\\/ OPTIMIZE [790, 870]/' -e 's/^constexpr int SUBSCORE3_TIGHT_TURN = .*;     \\/\\/ OPTIMIZE \\[0, 2\\]$/constexpr int SUBSCORE3_TIGHT_TURN = 0;     \\/\\/ OPTIMIZE [0, 2]/' -e 's/^constexpr int ROUGH_HASH = .*;      \\/\\/ OPTIMIZE {0, 0b00000001, 0b00010001, 0b00010011, 0b00110011}$/constexpr int ROUGH_HASH = 0;      \\/\\/ OPTIMIZE {0, 0b00000001, 0b00010001, 0b00010011, 0b00110011}/'\n",
      "g++ 11_main.cpp -std=gnu++17 -O2 -DONLINE_JUDGE -o 11_main.cpp.out 2> /dev/null\n"
     ]
    },
    {
     "name": "stderr",
     "output_type": "stream",
     "text": [
      "\u001b[32m[I 2021-09-10 11:13:09,664]\u001b[0m Trial 188 finished with value: 1004961501.0 and parameters: {'K_START': 0.0598053740414012, 'K_END': 0.0485897413004459, 'K_H': 0.4020188669127198, 'PURCHASE_TURN_LIMIT': 845, 'SUBSCORE3_TIGHT_TURN': 0, 'ROUGH_HASH': '0'}. Best is trial 116 with value: 1010815661.0.\u001b[0m\n"
     ]
    },
    {
     "name": "stdout",
     "output_type": "stream",
     "text": [
      "callback ok\n",
      "index_parallel=0\n",
      "sed -i 0_main.cpp -e 's/^constexpr double K_START = .*;  \\/\\/ OPTIMIZE \\[0\\.02, 0\\.06\\] LOG$/constexpr double K_START = 0.058926720840133576;  \\/\\/ OPTIMIZE [0.02, 0.06] LOG/' -e 's/^constexpr double K_END = .*;   \\/\\/ OPTIMIZE \\[0\\.01, 0\\.05\\] LOG$/constexpr double K_END = 0.049986290439424506;   \\/\\/ OPTIMIZE [0.01, 0.05] LOG/' -e 's/^constexpr double K_H = .*;      \\/\\/ OPTIMIZE \\[0\\.001, 0\\.999\\]$/constexpr double K_H = 0.3886920204441821;      \\/\\/ OPTIMIZE [0.001, 0.999]/' -e 's/^constexpr short PURCHASE_TURN_LIMIT = .*;  \\/\\/ OPTIMIZE \\[790, 870\\]$/constexpr short PURCHASE_TURN_LIMIT = 836;  \\/\\/ OPTIMIZE [790, 870]/' -e 's/^constexpr int SUBSCORE3_TIGHT_TURN = .*;     \\/\\/ OPTIMIZE \\[0, 2\\]$/constexpr int SUBSCORE3_TIGHT_TURN = 0;     \\/\\/ OPTIMIZE [0, 2]/' -e 's/^constexpr int ROUGH_HASH = .*;      \\/\\/ OPTIMIZE {0, 0b00000001, 0b00010001, 0b00010011, 0b00110011}$/constexpr int ROUGH_HASH = 0;      \\/\\/ OPTIMIZE {0, 0b00000001, 0b00010001, 0b00010011, 0b00110011}/'\n",
      "g++ 0_main.cpp -std=gnu++17 -O2 -DONLINE_JUDGE -o 0_main.cpp.out 2> /dev/null\n"
     ]
    },
    {
     "name": "stderr",
     "output_type": "stream",
     "text": [
      "\u001b[32m[I 2021-09-10 11:14:43,156]\u001b[0m Trial 189 finished with value: 1005163950.0 and parameters: {'K_START': 0.0598062785354028, 'K_END': 0.048536817356245994, 'K_H': 0.3047564098679043, 'PURCHASE_TURN_LIMIT': 845, 'SUBSCORE3_TIGHT_TURN': 0, 'ROUGH_HASH': '0'}. Best is trial 116 with value: 1010815661.0.\u001b[0m\n"
     ]
    },
    {
     "name": "stdout",
     "output_type": "stream",
     "text": [
      "callback ok\n",
      "index_parallel=1\n",
      "sed -i 1_main.cpp -e 's/^constexpr double K_START = .*;  \\/\\/ OPTIMIZE \\[0\\.02, 0\\.06\\] LOG$/constexpr double K_START = 0.057932929595286245;  \\/\\/ OPTIMIZE [0.02, 0.06] LOG/' -e 's/^constexpr double K_END = .*;   \\/\\/ OPTIMIZE \\[0\\.01, 0\\.05\\] LOG$/constexpr double K_END = 0.028869997427262945;   \\/\\/ OPTIMIZE [0.01, 0.05] LOG/' -e 's/^constexpr double K_H = .*;      \\/\\/ OPTIMIZE \\[0\\.001, 0\\.999\\]$/constexpr double K_H = 0.4483220029377859;      \\/\\/ OPTIMIZE [0.001, 0.999]/' -e 's/^constexpr short PURCHASE_TURN_LIMIT = .*;  \\/\\/ OPTIMIZE \\[790, 870\\]$/constexpr short PURCHASE_TURN_LIMIT = 836;  \\/\\/ OPTIMIZE [790, 870]/' -e 's/^constexpr int SUBSCORE3_TIGHT_TURN = .*;     \\/\\/ OPTIMIZE \\[0, 2\\]$/constexpr int SUBSCORE3_TIGHT_TURN = 0;     \\/\\/ OPTIMIZE [0, 2]/' -e 's/^constexpr int ROUGH_HASH = .*;      \\/\\/ OPTIMIZE {0, 0b00000001, 0b00010001, 0b00010011, 0b00110011}$/constexpr int ROUGH_HASH = 0;      \\/\\/ OPTIMIZE {0, 0b00000001, 0b00010001, 0b00010011, 0b00110011}/'\n",
      "g++ 1_main.cpp -std=gnu++17 -O2 -DONLINE_JUDGE -o 1_main.cpp.out 2> /dev/null\n"
     ]
    },
    {
     "name": "stderr",
     "output_type": "stream",
     "text": [
      "\u001b[32m[I 2021-09-10 11:14:47,598]\u001b[0m Trial 190 finished with value: 1004175356.0 and parameters: {'K_START': 0.059861418691886624, 'K_END': 0.04826920925213985, 'K_H': 0.385225077681393, 'PURCHASE_TURN_LIMIT': 844, 'SUBSCORE3_TIGHT_TURN': 0, 'ROUGH_HASH': '0'}. Best is trial 116 with value: 1010815661.0.\u001b[0m\n"
     ]
    },
    {
     "name": "stdout",
     "output_type": "stream",
     "text": [
      "callback ok\n",
      "index_parallel=2\n",
      "sed -i 2_main.cpp -e 's/^constexpr double K_START = .*;  \\/\\/ OPTIMIZE \\[0\\.02, 0\\.06\\] LOG$/constexpr double K_START = 0.05782806995974641;  \\/\\/ OPTIMIZE [0.02, 0.06] LOG/' -e 's/^constexpr double K_END = .*;   \\/\\/ OPTIMIZE \\[0\\.01, 0\\.05\\] LOG$/constexpr double K_END = 0.04987940912328929;   \\/\\/ OPTIMIZE [0.01, 0.05] LOG/' -e 's/^constexpr double K_H = .*;      \\/\\/ OPTIMIZE \\[0\\.001, 0\\.999\\]$/constexpr double K_H = 0.2855635372038125;      \\/\\/ OPTIMIZE [0.001, 0.999]/' -e 's/^constexpr short PURCHASE_TURN_LIMIT = .*;  \\/\\/ OPTIMIZE \\[790, 870\\]$/constexpr short PURCHASE_TURN_LIMIT = 836;  \\/\\/ OPTIMIZE [790, 870]/' -e 's/^constexpr int SUBSCORE3_TIGHT_TURN = .*;     \\/\\/ OPTIMIZE \\[0, 2\\]$/constexpr int SUBSCORE3_TIGHT_TURN = 0;     \\/\\/ OPTIMIZE [0, 2]/' -e 's/^constexpr int ROUGH_HASH = .*;      \\/\\/ OPTIMIZE {0, 0b00000001, 0b00010001, 0b00010011, 0b00110011}$/constexpr int ROUGH_HASH = 0;      \\/\\/ OPTIMIZE {0, 0b00000001, 0b00010001, 0b00010011, 0b00110011}/'\n",
      "g++ 2_main.cpp -std=gnu++17 -O2 -DONLINE_JUDGE -o 2_main.cpp.out 2> /dev/null\n"
     ]
    },
    {
     "name": "stderr",
     "output_type": "stream",
     "text": [
      "\u001b[32m[I 2021-09-10 11:16:09,716]\u001b[0m Trial 191 finished with value: 1001446944.0 and parameters: {'K_START': 0.05987720121102494, 'K_END': 0.04985573862678726, 'K_H': 0.28451590172606567, 'PURCHASE_TURN_LIMIT': 835, 'SUBSCORE3_TIGHT_TURN': 0, 'ROUGH_HASH': '0'}. Best is trial 116 with value: 1010815661.0.\u001b[0m\n"
     ]
    },
    {
     "name": "stdout",
     "output_type": "stream",
     "text": [
      "callback ok\n",
      "index_parallel=3\n",
      "sed -i 3_main.cpp -e 's/^constexpr double K_START = .*;  \\/\\/ OPTIMIZE \\[0\\.02, 0\\.06\\] LOG$/constexpr double K_START = 0.05812469329976592;  \\/\\/ OPTIMIZE [0.02, 0.06] LOG/' -e 's/^constexpr double K_END = .*;   \\/\\/ OPTIMIZE \\[0\\.01, 0\\.05\\] LOG$/constexpr double K_END = 0.045371922833768;   \\/\\/ OPTIMIZE [0.01, 0.05] LOG/' -e 's/^constexpr double K_H = .*;      \\/\\/ OPTIMIZE \\[0\\.001, 0\\.999\\]$/constexpr double K_H = 0.3625474386311702;      \\/\\/ OPTIMIZE [0.001, 0.999]/' -e 's/^constexpr short PURCHASE_TURN_LIMIT = .*;  \\/\\/ OPTIMIZE \\[790, 870\\]$/constexpr short PURCHASE_TURN_LIMIT = 840;  \\/\\/ OPTIMIZE [790, 870]/' -e 's/^constexpr int SUBSCORE3_TIGHT_TURN = .*;     \\/\\/ OPTIMIZE \\[0, 2\\]$/constexpr int SUBSCORE3_TIGHT_TURN = 0;     \\/\\/ OPTIMIZE [0, 2]/' -e 's/^constexpr int ROUGH_HASH = .*;      \\/\\/ OPTIMIZE {0, 0b00000001, 0b00010001, 0b00010011, 0b00110011}$/constexpr int ROUGH_HASH = 0;      \\/\\/ OPTIMIZE {0, 0b00000001, 0b00010001, 0b00010011, 0b00110011}/'\n",
      "g++ 3_main.cpp -std=gnu++17 -O2 -DONLINE_JUDGE -o 3_main.cpp.out 2> /dev/null\n"
     ]
    },
    {
     "name": "stderr",
     "output_type": "stream",
     "text": [
      "\u001b[32m[I 2021-09-10 11:17:52,348]\u001b[0m Trial 192 finished with value: 1007790267.0 and parameters: {'K_START': 0.058926720840133576, 'K_END': 0.049986290439424506, 'K_H': 0.3886920204441821, 'PURCHASE_TURN_LIMIT': 836, 'SUBSCORE3_TIGHT_TURN': 0, 'ROUGH_HASH': '0'}. Best is trial 116 with value: 1010815661.0.\u001b[0m\n"
     ]
    },
    {
     "name": "stdout",
     "output_type": "stream",
     "text": [
      "callback ok\n",
      "index_parallel=4\n",
      "sed -i 4_main.cpp -e 's/^constexpr double K_START = .*;  \\/\\/ OPTIMIZE \\[0\\.02, 0\\.06\\] LOG$/constexpr double K_START = 0.05780113349407293;  \\/\\/ OPTIMIZE [0.02, 0.06] LOG/' -e 's/^constexpr double K_END = .*;   \\/\\/ OPTIMIZE \\[0\\.01, 0\\.05\\] LOG$/constexpr double K_END = 0.0457973512041826;   \\/\\/ OPTIMIZE [0.01, 0.05] LOG/' -e 's/^constexpr double K_H = .*;      \\/\\/ OPTIMIZE \\[0\\.001, 0\\.999\\]$/constexpr double K_H = 0.4537758360383838;      \\/\\/ OPTIMIZE [0.001, 0.999]/' -e 's/^constexpr short PURCHASE_TURN_LIMIT = .*;  \\/\\/ OPTIMIZE \\[790, 870\\]$/constexpr short PURCHASE_TURN_LIMIT = 832;  \\/\\/ OPTIMIZE [790, 870]/' -e 's/^constexpr int SUBSCORE3_TIGHT_TURN = .*;     \\/\\/ OPTIMIZE \\[0, 2\\]$/constexpr int SUBSCORE3_TIGHT_TURN = 0;     \\/\\/ OPTIMIZE [0, 2]/' -e 's/^constexpr int ROUGH_HASH = .*;      \\/\\/ OPTIMIZE {0, 0b00000001, 0b00010001, 0b00010011, 0b00110011}$/constexpr int ROUGH_HASH = 0;      \\/\\/ OPTIMIZE {0, 0b00000001, 0b00010001, 0b00010011, 0b00110011}/'\n",
      "g++ 4_main.cpp -std=gnu++17 -O2 -DONLINE_JUDGE -o 4_main.cpp.out 2> /dev/null\n"
     ]
    },
    {
     "name": "stderr",
     "output_type": "stream",
     "text": [
      "\u001b[32m[I 2021-09-10 11:19:35,747]\u001b[0m Trial 193 finished with value: 990324538.0 and parameters: {'K_START': 0.057932929595286245, 'K_END': 0.028869997427262945, 'K_H': 0.4483220029377859, 'PURCHASE_TURN_LIMIT': 836, 'SUBSCORE3_TIGHT_TURN': 0, 'ROUGH_HASH': '0'}. Best is trial 116 with value: 1010815661.0.\u001b[0m\n"
     ]
    },
    {
     "name": "stdout",
     "output_type": "stream",
     "text": [
      "callback ok\n",
      "index_parallel=5\n",
      "sed -i 5_main.cpp -e 's/^constexpr double K_START = .*;  \\/\\/ OPTIMIZE \\[0\\.02, 0\\.06\\] LOG$/constexpr double K_START = 0.05809776824863005;  \\/\\/ OPTIMIZE [0.02, 0.06] LOG/' -e 's/^constexpr double K_END = .*;   \\/\\/ OPTIMIZE \\[0\\.01, 0\\.05\\] LOG$/constexpr double K_END = 0.04516065452532985;   \\/\\/ OPTIMIZE [0.01, 0.05] LOG/' -e 's/^constexpr double K_H = .*;      \\/\\/ OPTIMIZE \\[0\\.001, 0\\.999\\]$/constexpr double K_H = 0.3806975291419231;      \\/\\/ OPTIMIZE [0.001, 0.999]/' -e 's/^constexpr short PURCHASE_TURN_LIMIT = .*;  \\/\\/ OPTIMIZE \\[790, 870\\]$/constexpr short PURCHASE_TURN_LIMIT = 832;  \\/\\/ OPTIMIZE [790, 870]/' -e 's/^constexpr int SUBSCORE3_TIGHT_TURN = .*;     \\/\\/ OPTIMIZE \\[0, 2\\]$/constexpr int SUBSCORE3_TIGHT_TURN = 0;     \\/\\/ OPTIMIZE [0, 2]/' -e 's/^constexpr int ROUGH_HASH = .*;      \\/\\/ OPTIMIZE {0, 0b00000001, 0b00010001, 0b00010011, 0b00110011}$/constexpr int ROUGH_HASH = 0;      \\/\\/ OPTIMIZE {0, 0b00000001, 0b00010001, 0b00010011, 0b00110011}/'\n",
      "g++ 5_main.cpp -std=gnu++17 -O2 -DONLINE_JUDGE -o 5_main.cpp.out 2> /dev/null\n"
     ]
    },
    {
     "name": "stderr",
     "output_type": "stream",
     "text": [
      "\u001b[32m[I 2021-09-10 11:19:39,434]\u001b[0m Trial 194 finished with value: 1008646268.0 and parameters: {'K_START': 0.05782806995974641, 'K_END': 0.04987940912328929, 'K_H': 0.2855635372038125, 'PURCHASE_TURN_LIMIT': 836, 'SUBSCORE3_TIGHT_TURN': 0, 'ROUGH_HASH': '0'}. Best is trial 116 with value: 1010815661.0.\u001b[0m\n"
     ]
    },
    {
     "name": "stdout",
     "output_type": "stream",
     "text": [
      "callback ok\n",
      "index_parallel=6\n",
      "sed -i 6_main.cpp -e 's/^constexpr double K_START = .*;  \\/\\/ OPTIMIZE \\[0\\.02, 0\\.06\\] LOG$/constexpr double K_START = 0.058008534951981196;  \\/\\/ OPTIMIZE [0.02, 0.06] LOG/' -e 's/^constexpr double K_END = .*;   \\/\\/ OPTIMIZE \\[0\\.01, 0\\.05\\] LOG$/constexpr double K_END = 0.04734156443809339;   \\/\\/ OPTIMIZE [0.01, 0.05] LOG/' -e 's/^constexpr double K_H = .*;      \\/\\/ OPTIMIZE \\[0\\.001, 0\\.999\\]$/constexpr double K_H = 0.3791826928086517;      \\/\\/ OPTIMIZE [0.001, 0.999]/' -e 's/^constexpr short PURCHASE_TURN_LIMIT = .*;  \\/\\/ OPTIMIZE \\[790, 870\\]$/constexpr short PURCHASE_TURN_LIMIT = 832;  \\/\\/ OPTIMIZE [790, 870]/' -e 's/^constexpr int SUBSCORE3_TIGHT_TURN = .*;     \\/\\/ OPTIMIZE \\[0, 2\\]$/constexpr int SUBSCORE3_TIGHT_TURN = 0;     \\/\\/ OPTIMIZE [0, 2]/' -e 's/^constexpr int ROUGH_HASH = .*;      \\/\\/ OPTIMIZE {0, 0b00000001, 0b00010001, 0b00010011, 0b00110011}$/constexpr int ROUGH_HASH = 0;      \\/\\/ OPTIMIZE {0, 0b00000001, 0b00010001, 0b00010011, 0b00110011}/'\n",
      "g++ 6_main.cpp -std=gnu++17 -O2 -DONLINE_JUDGE -o 6_main.cpp.out 2> /dev/null\n"
     ]
    },
    {
     "name": "stderr",
     "output_type": "stream",
     "text": [
      "\u001b[32m[I 2021-09-10 11:21:12,470]\u001b[0m Trial 195 finished with value: 1005289781.0 and parameters: {'K_START': 0.05812469329976592, 'K_END': 0.045371922833768, 'K_H': 0.3625474386311702, 'PURCHASE_TURN_LIMIT': 840, 'SUBSCORE3_TIGHT_TURN': 0, 'ROUGH_HASH': '0'}. Best is trial 116 with value: 1010815661.0.\u001b[0m\n"
     ]
    },
    {
     "name": "stdout",
     "output_type": "stream",
     "text": [
      "callback ok\n",
      "index_parallel=7\n",
      "sed -i 7_main.cpp -e 's/^constexpr double K_START = .*;  \\/\\/ OPTIMIZE \\[0\\.02, 0\\.06\\] LOG$/constexpr double K_START = 0.05787926186196193;  \\/\\/ OPTIMIZE [0.02, 0.06] LOG/' -e 's/^constexpr double K_END = .*;   \\/\\/ OPTIMIZE \\[0\\.01, 0\\.05\\] LOG$/constexpr double K_END = 0.019317657418975513;   \\/\\/ OPTIMIZE [0.01, 0.05] LOG/' -e 's/^constexpr double K_H = .*;      \\/\\/ OPTIMIZE \\[0\\.001, 0\\.999\\]$/constexpr double K_H = 0.2849449313600457;      \\/\\/ OPTIMIZE [0.001, 0.999]/' -e 's/^constexpr short PURCHASE_TURN_LIMIT = .*;  \\/\\/ OPTIMIZE \\[790, 870\\]$/constexpr short PURCHASE_TURN_LIMIT = 832;  \\/\\/ OPTIMIZE [790, 870]/' -e 's/^constexpr int SUBSCORE3_TIGHT_TURN = .*;     \\/\\/ OPTIMIZE \\[0, 2\\]$/constexpr int SUBSCORE3_TIGHT_TURN = 0;     \\/\\/ OPTIMIZE [0, 2]/' -e 's/^constexpr int ROUGH_HASH = .*;      \\/\\/ OPTIMIZE {0, 0b00000001, 0b00010001, 0b00010011, 0b00110011}$/constexpr int ROUGH_HASH = 0;      \\/\\/ OPTIMIZE {0, 0b00000001, 0b00010001, 0b00010011, 0b00110011}/'\n",
      "g++ 7_main.cpp -std=gnu++17 -O2 -DONLINE_JUDGE -o 7_main.cpp.out 2> /dev/null\n"
     ]
    },
    {
     "name": "stderr",
     "output_type": "stream",
     "text": [
      "\u001b[32m[I 2021-09-10 11:22:51,245]\u001b[0m Trial 196 finished with value: 1004011874.0 and parameters: {'K_START': 0.05780113349407293, 'K_END': 0.0457973512041826, 'K_H': 0.4537758360383838, 'PURCHASE_TURN_LIMIT': 832, 'SUBSCORE3_TIGHT_TURN': 0, 'ROUGH_HASH': '0'}. Best is trial 116 with value: 1010815661.0.\u001b[0m\n"
     ]
    },
    {
     "name": "stdout",
     "output_type": "stream",
     "text": [
      "callback ok\n",
      "index_parallel=8\n",
      "sed -i 8_main.cpp -e 's/^constexpr double K_START = .*;  \\/\\/ OPTIMIZE \\[0\\.02, 0\\.06\\] LOG$/constexpr double K_START = 0.05824682963090019;  \\/\\/ OPTIMIZE [0.02, 0.06] LOG/' -e 's/^constexpr double K_END = .*;   \\/\\/ OPTIMIZE \\[0\\.01, 0\\.05\\] LOG$/constexpr double K_END = 0.04998304508321081;   \\/\\/ OPTIMIZE [0.01, 0.05] LOG/' -e 's/^constexpr double K_H = .*;      \\/\\/ OPTIMIZE \\[0\\.001, 0\\.999\\]$/constexpr double K_H = 0.3732274556711658;      \\/\\/ OPTIMIZE [0.001, 0.999]/' -e 's/^constexpr short PURCHASE_TURN_LIMIT = .*;  \\/\\/ OPTIMIZE \\[790, 870\\]$/constexpr short PURCHASE_TURN_LIMIT = 837;  \\/\\/ OPTIMIZE [790, 870]/' -e 's/^constexpr int SUBSCORE3_TIGHT_TURN = .*;     \\/\\/ OPTIMIZE \\[0, 2\\]$/constexpr int SUBSCORE3_TIGHT_TURN = 0;     \\/\\/ OPTIMIZE [0, 2]/' -e 's/^constexpr int ROUGH_HASH = .*;      \\/\\/ OPTIMIZE {0, 0b00000001, 0b00010001, 0b00010011, 0b00110011}$/constexpr int ROUGH_HASH = 0;      \\/\\/ OPTIMIZE {0, 0b00000001, 0b00010001, 0b00010011, 0b00110011}/'\n",
      "g++ 8_main.cpp -std=gnu++17 -O2 -DONLINE_JUDGE -o 8_main.cpp.out 2> /dev/null\n"
     ]
    },
    {
     "name": "stderr",
     "output_type": "stream",
     "text": [
      "\u001b[32m[I 2021-09-10 11:24:29,952]\u001b[0m Trial 197 finished with value: 1005666161.0 and parameters: {'K_START': 0.05809776824863005, 'K_END': 0.04516065452532985, 'K_H': 0.3806975291419231, 'PURCHASE_TURN_LIMIT': 832, 'SUBSCORE3_TIGHT_TURN': 0, 'ROUGH_HASH': '0'}. Best is trial 116 with value: 1010815661.0.\u001b[0m\n"
     ]
    },
    {
     "name": "stdout",
     "output_type": "stream",
     "text": [
      "callback ok\n",
      "index_parallel=9\n"
     ]
    },
    {
     "name": "stderr",
     "output_type": "stream",
     "text": [
      "\u001b[32m[I 2021-09-10 11:24:30,975]\u001b[0m Trial 198 finished with value: 1005088640.0 and parameters: {'K_START': 0.058008534951981196, 'K_END': 0.04734156443809339, 'K_H': 0.3791826928086517, 'PURCHASE_TURN_LIMIT': 832, 'SUBSCORE3_TIGHT_TURN': 0, 'ROUGH_HASH': '0'}. Best is trial 116 with value: 1010815661.0.\u001b[0m\n"
     ]
    },
    {
     "name": "stdout",
     "output_type": "stream",
     "text": [
      "callback ok\n",
      "index_parallel=10\n",
      "sed -i 9_main.cpp -e 's/^constexpr double K_START = .*;  \\/\\/ OPTIMIZE \\[0\\.02, 0\\.06\\] LOG$/constexpr double K_START = 0.05873458804552109;  \\/\\/ OPTIMIZE [0.02, 0.06] LOG/' -e 's/^constexpr double K_END = .*;   \\/\\/ OPTIMIZE \\[0\\.01, 0\\.05\\] LOG$/constexpr double K_END = 0.049919167630849186;   \\/\\/ OPTIMIZE [0.01, 0.05] LOG/' -e 's/^constexpr double K_H = .*;      \\/\\/ OPTIMIZE \\[0\\.001, 0\\.999\\]$/constexpr double K_H = 0.2785210776550764;      \\/\\/ OPTIMIZE [0.001, 0.999]/' -e 's/^constexpr short PURCHASE_TURN_LIMIT = .*;  \\/\\/ OPTIMIZE \\[790, 870\\]$/constexpr short PURCHASE_TURN_LIMIT = 836;  \\/\\/ OPTIMIZE [790, 870]/' -e 's/^constexpr int SUBSCORE3_TIGHT_TURN = .*;     \\/\\/ OPTIMIZE \\[0, 2\\]$/constexpr int SUBSCORE3_TIGHT_TURN = 0;     \\/\\/ OPTIMIZE [0, 2]/' -e 's/^constexpr int ROUGH_HASH = .*;      \\/\\/ OPTIMIZE {0, 0b00000001, 0b00010001, 0b00010011, 0b00110011}$/constexpr int ROUGH_HASH = 0;      \\/\\/ OPTIMIZE {0, 0b00000001, 0b00010001, 0b00010011, 0b00110011}/'\n",
      "g++ 9_main.cpp -std=gnu++17 -O2 -DONLINE_JUDGE -o 9_main.cpp.out 2> /dev/null\n",
      "sed -i 10_main.cpp -e 's/^constexpr double K_START = .*;  \\/\\/ OPTIMIZE \\[0\\.02, 0\\.06\\] LOG$/constexpr double K_START = 0.055576889317483384;  \\/\\/ OPTIMIZE [0.02, 0.06] LOG/' -e 's/^constexpr double K_END = .*;   \\/\\/ OPTIMIZE \\[0\\.01, 0\\.05\\] LOG$/constexpr double K_END = 0.04963155172042304;   \\/\\/ OPTIMIZE [0.01, 0.05] LOG/' -e 's/^constexpr double K_H = .*;      \\/\\/ OPTIMIZE \\[0\\.001, 0\\.999\\]$/constexpr double K_H = 0.2298787152312374;      \\/\\/ OPTIMIZE [0.001, 0.999]/' -e 's/^constexpr short PURCHASE_TURN_LIMIT = .*;  \\/\\/ OPTIMIZE \\[790, 870\\]$/constexpr short PURCHASE_TURN_LIMIT = 836;  \\/\\/ OPTIMIZE [790, 870]/' -e 's/^constexpr int SUBSCORE3_TIGHT_TURN = .*;     \\/\\/ OPTIMIZE \\[0, 2\\]$/constexpr int SUBSCORE3_TIGHT_TURN = 0;     \\/\\/ OPTIMIZE [0, 2]/' -e 's/^constexpr int ROUGH_HASH = .*;      \\/\\/ OPTIMIZE {0, 0b00000001, 0b00010001, 0b00010011, 0b00110011}$/constexpr int ROUGH_HASH = 0;      \\/\\/ OPTIMIZE {0, 0b00000001, 0b00010001, 0b00010011, 0b00110011}/'\n",
      "g++ 10_main.cpp -std=gnu++17 -O2 -DONLINE_JUDGE -o 10_main.cpp.out 2> /dev/null\n"
     ]
    },
    {
     "name": "stderr",
     "output_type": "stream",
     "text": [
      "\u001b[32m[I 2021-09-10 11:25:56,399]\u001b[0m Trial 199 finished with value: 975973755.0 and parameters: {'K_START': 0.05787926186196193, 'K_END': 0.019317657418975513, 'K_H': 0.2849449313600457, 'PURCHASE_TURN_LIMIT': 832, 'SUBSCORE3_TIGHT_TURN': 0, 'ROUGH_HASH': '0'}. Best is trial 116 with value: 1010815661.0.\u001b[0m\n"
     ]
    },
    {
     "name": "stdout",
     "output_type": "stream",
     "text": [
      "callback ok\n",
      "index_parallel=11\n",
      "sed -i 11_main.cpp -e 's/^constexpr double K_START = .*;  \\/\\/ OPTIMIZE \\[0\\.02, 0\\.06\\] LOG$/constexpr double K_START = 0.05595229334658924;  \\/\\/ OPTIMIZE [0.02, 0.06] LOG/' -e 's/^constexpr double K_END = .*;   \\/\\/ OPTIMIZE \\[0\\.01, 0\\.05\\] LOG$/constexpr double K_END = 0.04997835408197452;   \\/\\/ OPTIMIZE [0.01, 0.05] LOG/' -e 's/^constexpr double K_H = .*;      \\/\\/ OPTIMIZE \\[0\\.001, 0\\.999\\]$/constexpr double K_H = 0.22620451093450894;      \\/\\/ OPTIMIZE [0.001, 0.999]/' -e 's/^constexpr short PURCHASE_TURN_LIMIT = .*;  \\/\\/ OPTIMIZE \\[790, 870\\]$/constexpr short PURCHASE_TURN_LIMIT = 836;  \\/\\/ OPTIMIZE [790, 870]/' -e 's/^constexpr int SUBSCORE3_TIGHT_TURN = .*;     \\/\\/ OPTIMIZE \\[0, 2\\]$/constexpr int SUBSCORE3_TIGHT_TURN = 0;     \\/\\/ OPTIMIZE [0, 2]/' -e 's/^constexpr int ROUGH_HASH = .*;      \\/\\/ OPTIMIZE {0, 0b00000001, 0b00010001, 0b00010011, 0b00110011}$/constexpr int ROUGH_HASH = 0;      \\/\\/ OPTIMIZE {0, 0b00000001, 0b00010001, 0b00010011, 0b00110011}/'\n",
      "g++ 11_main.cpp -std=gnu++17 -O2 -DONLINE_JUDGE -o 11_main.cpp.out 2> /dev/null\n"
     ]
    },
    {
     "name": "stderr",
     "output_type": "stream",
     "text": [
      "\u001b[32m[I 2021-09-10 11:27:35,184]\u001b[0m Trial 200 finished with value: 1006084170.0 and parameters: {'K_START': 0.05824682963090019, 'K_END': 0.04998304508321081, 'K_H': 0.3732274556711658, 'PURCHASE_TURN_LIMIT': 837, 'SUBSCORE3_TIGHT_TURN': 0, 'ROUGH_HASH': '0'}. Best is trial 116 with value: 1010815661.0.\u001b[0m\n"
     ]
    },
    {
     "name": "stdout",
     "output_type": "stream",
     "text": [
      "callback ok\n",
      "index_parallel=0\n",
      "sed -i 0_main.cpp -e 's/^constexpr double K_START = .*;  \\/\\/ OPTIMIZE \\[0\\.02, 0\\.06\\] LOG$/constexpr double K_START = 0.05578315935176548;  \\/\\/ OPTIMIZE [0.02, 0.06] LOG/' -e 's/^constexpr double K_END = .*;   \\/\\/ OPTIMIZE \\[0\\.01, 0\\.05\\] LOG$/constexpr double K_END = 0.04997650212396866;   \\/\\/ OPTIMIZE [0.01, 0.05] LOG/' -e 's/^constexpr double K_H = .*;      \\/\\/ OPTIMIZE \\[0\\.001, 0\\.999\\]$/constexpr double K_H = 0.34415942009054784;      \\/\\/ OPTIMIZE [0.001, 0.999]/' -e 's/^constexpr short PURCHASE_TURN_LIMIT = .*;  \\/\\/ OPTIMIZE \\[790, 870\\]$/constexpr short PURCHASE_TURN_LIMIT = 835;  \\/\\/ OPTIMIZE [790, 870]/' -e 's/^constexpr int SUBSCORE3_TIGHT_TURN = .*;     \\/\\/ OPTIMIZE \\[0, 2\\]$/constexpr int SUBSCORE3_TIGHT_TURN = 0;     \\/\\/ OPTIMIZE [0, 2]/' -e 's/^constexpr int ROUGH_HASH = .*;      \\/\\/ OPTIMIZE {0, 0b00000001, 0b00010001, 0b00010011, 0b00110011}$/constexpr int ROUGH_HASH = 0;      \\/\\/ OPTIMIZE {0, 0b00000001, 0b00010001, 0b00010011, 0b00110011}/'\n",
      "g++ 0_main.cpp -std=gnu++17 -O2 -DONLINE_JUDGE -o 0_main.cpp.out 2> /dev/null\n"
     ]
    },
    {
     "name": "stderr",
     "output_type": "stream",
     "text": [
      "\u001b[32m[I 2021-09-10 11:29:14,705]\u001b[0m Trial 201 finished with value: 1009559005.0 and parameters: {'K_START': 0.05873458804552109, 'K_END': 0.049919167630849186, 'K_H': 0.2785210776550764, 'PURCHASE_TURN_LIMIT': 836, 'SUBSCORE3_TIGHT_TURN': 0, 'ROUGH_HASH': '0'}. Best is trial 116 with value: 1010815661.0.\u001b[0m\n"
     ]
    },
    {
     "name": "stdout",
     "output_type": "stream",
     "text": [
      "callback ok\n",
      "index_parallel=1\n",
      "sed -i 1_main.cpp -e 's/^constexpr double K_START = .*;  \\/\\/ OPTIMIZE \\[0\\.02, 0\\.06\\] LOG$/constexpr double K_START = 0.05572208501451453;  \\/\\/ OPTIMIZE [0.02, 0.06] LOG/' -e 's/^constexpr double K_END = .*;   \\/\\/ OPTIMIZE \\[0\\.01, 0\\.05\\] LOG$/constexpr double K_END = 0.04997245699957161;   \\/\\/ OPTIMIZE [0.01, 0.05] LOG/' -e 's/^constexpr double K_H = .*;      \\/\\/ OPTIMIZE \\[0\\.001, 0\\.999\\]$/constexpr double K_H = 0.3039363427740429;      \\/\\/ OPTIMIZE [0.001, 0.999]/' -e 's/^constexpr short PURCHASE_TURN_LIMIT = .*;  \\/\\/ OPTIMIZE \\[790, 870\\]$/constexpr short PURCHASE_TURN_LIMIT = 835;  \\/\\/ OPTIMIZE [790, 870]/' -e 's/^constexpr int SUBSCORE3_TIGHT_TURN = .*;     \\/\\/ OPTIMIZE \\[0, 2\\]$/constexpr int SUBSCORE3_TIGHT_TURN = 0;     \\/\\/ OPTIMIZE [0, 2]/' -e 's/^constexpr int ROUGH_HASH = .*;      \\/\\/ OPTIMIZE {0, 0b00000001, 0b00010001, 0b00010011, 0b00110011}$/constexpr int ROUGH_HASH = 0;      \\/\\/ OPTIMIZE {0, 0b00000001, 0b00010001, 0b00010011, 0b00110011}/'\n",
      "g++ 1_main.cpp -std=gnu++17 -O2 -DONLINE_JUDGE -o 1_main.cpp.out 2> /dev/null\n"
     ]
    },
    {
     "name": "stderr",
     "output_type": "stream",
     "text": [
      "\u001b[32m[I 2021-09-10 11:29:16,893]\u001b[0m Trial 202 finished with value: 1005416661.0 and parameters: {'K_START': 0.055576889317483384, 'K_END': 0.04963155172042304, 'K_H': 0.2298787152312374, 'PURCHASE_TURN_LIMIT': 836, 'SUBSCORE3_TIGHT_TURN': 0, 'ROUGH_HASH': '0'}. Best is trial 116 with value: 1010815661.0.\u001b[0m\n"
     ]
    },
    {
     "name": "stdout",
     "output_type": "stream",
     "text": [
      "callback ok\n",
      "index_parallel=2\n",
      "sed -i 2_main.cpp -e 's/^constexpr double K_START = .*;  \\/\\/ OPTIMIZE \\[0\\.02, 0\\.06\\] LOG$/constexpr double K_START = 0.05879505852677878;  \\/\\/ OPTIMIZE [0.02, 0.06] LOG/' -e 's/^constexpr double K_END = .*;   \\/\\/ OPTIMIZE \\[0\\.01, 0\\.05\\] LOG$/constexpr double K_END = 0.047642751638706245;   \\/\\/ OPTIMIZE [0.01, 0.05] LOG/' -e 's/^constexpr double K_H = .*;      \\/\\/ OPTIMIZE \\[0\\.001, 0\\.999\\]$/constexpr double K_H = 0.29779583585590946;      \\/\\/ OPTIMIZE [0.001, 0.999]/' -e 's/^constexpr short PURCHASE_TURN_LIMIT = .*;  \\/\\/ OPTIMIZE \\[790, 870\\]$/constexpr short PURCHASE_TURN_LIMIT = 835;  \\/\\/ OPTIMIZE [790, 870]/' -e 's/^constexpr int SUBSCORE3_TIGHT_TURN = .*;     \\/\\/ OPTIMIZE \\[0, 2\\]$/constexpr int SUBSCORE3_TIGHT_TURN = 0;     \\/\\/ OPTIMIZE [0, 2]/' -e 's/^constexpr int ROUGH_HASH = .*;      \\/\\/ OPTIMIZE {0, 0b00000001, 0b00010001, 0b00010011, 0b00110011}$/constexpr int ROUGH_HASH = 0;      \\/\\/ OPTIMIZE {0, 0b00000001, 0b00010001, 0b00010011, 0b00110011}/'\n",
      "g++ 2_main.cpp -std=gnu++17 -O2 -DONLINE_JUDGE -o 2_main.cpp.out 2> /dev/null\n"
     ]
    },
    {
     "name": "stderr",
     "output_type": "stream",
     "text": [
      "\u001b[32m[I 2021-09-10 11:30:43,277]\u001b[0m Trial 203 finished with value: 1004205714.0 and parameters: {'K_START': 0.05595229334658924, 'K_END': 0.04997835408197452, 'K_H': 0.22620451093450894, 'PURCHASE_TURN_LIMIT': 836, 'SUBSCORE3_TIGHT_TURN': 0, 'ROUGH_HASH': '0'}. Best is trial 116 with value: 1010815661.0.\u001b[0m\n"
     ]
    },
    {
     "name": "stdout",
     "output_type": "stream",
     "text": [
      "callback ok\n",
      "index_parallel=3\n",
      "sed -i 3_main.cpp -e 's/^constexpr double K_START = .*;  \\/\\/ OPTIMIZE \\[0\\.02, 0\\.06\\] LOG$/constexpr double K_START = 0.05879987380314903;  \\/\\/ OPTIMIZE [0.02, 0.06] LOG/' -e 's/^constexpr double K_END = .*;   \\/\\/ OPTIMIZE \\[0\\.01, 0\\.05\\] LOG$/constexpr double K_END = 0.047769474976296515;   \\/\\/ OPTIMIZE [0.01, 0.05] LOG/' -e 's/^constexpr double K_H = .*;      \\/\\/ OPTIMIZE \\[0\\.001, 0\\.999\\]$/constexpr double K_H = 0.30162772255893966;      \\/\\/ OPTIMIZE [0.001, 0.999]/' -e 's/^constexpr short PURCHASE_TURN_LIMIT = .*;  \\/\\/ OPTIMIZE \\[790, 870\\]$/constexpr short PURCHASE_TURN_LIMIT = 838;  \\/\\/ OPTIMIZE [790, 870]/' -e 's/^constexpr int SUBSCORE3_TIGHT_TURN = .*;     \\/\\/ OPTIMIZE \\[0, 2\\]$/constexpr int SUBSCORE3_TIGHT_TURN = 0;     \\/\\/ OPTIMIZE [0, 2]/' -e 's/^constexpr int ROUGH_HASH = .*;      \\/\\/ OPTIMIZE {0, 0b00000001, 0b00010001, 0b00010011, 0b00110011}$/constexpr int ROUGH_HASH = 0;      \\/\\/ OPTIMIZE {0, 0b00000001, 0b00010001, 0b00010011, 0b00110011}/'\n",
      "g++ 3_main.cpp -std=gnu++17 -O2 -DONLINE_JUDGE -o 3_main.cpp.out 2> /dev/null\n"
     ]
    },
    {
     "name": "stderr",
     "output_type": "stream",
     "text": [
      "\u001b[32m[I 2021-09-10 11:32:18,785]\u001b[0m Trial 204 finished with value: 1009459239.0 and parameters: {'K_START': 0.05578315935176548, 'K_END': 0.04997650212396866, 'K_H': 0.34415942009054784, 'PURCHASE_TURN_LIMIT': 835, 'SUBSCORE3_TIGHT_TURN': 0, 'ROUGH_HASH': '0'}. Best is trial 116 with value: 1010815661.0.\u001b[0m\n"
     ]
    },
    {
     "name": "stdout",
     "output_type": "stream",
     "text": [
      "callback ok\n",
      "index_parallel=4\n",
      "sed -i 4_main.cpp -e 's/^constexpr double K_START = .*;  \\/\\/ OPTIMIZE \\[0\\.02, 0\\.06\\] LOG$/constexpr double K_START = 0.05899022029256929;  \\/\\/ OPTIMIZE [0.02, 0.06] LOG/' -e 's/^constexpr double K_END = .*;   \\/\\/ OPTIMIZE \\[0\\.01, 0\\.05\\] LOG$/constexpr double K_END = 0.04754739100967912;   \\/\\/ OPTIMIZE [0.01, 0.05] LOG/' -e 's/^constexpr double K_H = .*;      \\/\\/ OPTIMIZE \\[0\\.001, 0\\.999\\]$/constexpr double K_H = 0.3421110935462972;      \\/\\/ OPTIMIZE [0.001, 0.999]/' -e 's/^constexpr short PURCHASE_TURN_LIMIT = .*;  \\/\\/ OPTIMIZE \\[790, 870\\]$/constexpr short PURCHASE_TURN_LIMIT = 830;  \\/\\/ OPTIMIZE [790, 870]/' -e 's/^constexpr int SUBSCORE3_TIGHT_TURN = .*;     \\/\\/ OPTIMIZE \\[0, 2\\]$/constexpr int SUBSCORE3_TIGHT_TURN = 0;     \\/\\/ OPTIMIZE [0, 2]/' -e 's/^constexpr int ROUGH_HASH = .*;      \\/\\/ OPTIMIZE {0, 0b00000001, 0b00010001, 0b00010011, 0b00110011}$/constexpr int ROUGH_HASH = 0;      \\/\\/ OPTIMIZE {0, 0b00000001, 0b00010001, 0b00010011, 0b00110011}/'\n",
      "g++ 4_main.cpp -std=gnu++17 -O2 -DONLINE_JUDGE -o 4_main.cpp.out 2> /dev/null\n"
     ]
    },
    {
     "name": "stderr",
     "output_type": "stream",
     "text": [
      "\u001b[32m[I 2021-09-10 11:33:54,220]\u001b[0m Trial 205 finished with value: 1006105128.0 and parameters: {'K_START': 0.05572208501451453, 'K_END': 0.04997245699957161, 'K_H': 0.3039363427740429, 'PURCHASE_TURN_LIMIT': 835, 'SUBSCORE3_TIGHT_TURN': 0, 'ROUGH_HASH': '0'}. Best is trial 116 with value: 1010815661.0.\u001b[0m\n"
     ]
    },
    {
     "name": "stdout",
     "output_type": "stream",
     "text": [
      "callback ok\n",
      "index_parallel=5\n",
      "sed -i 5_main.cpp -e 's/^constexpr double K_START = .*;  \\/\\/ OPTIMIZE \\[0\\.02, 0\\.06\\] LOG$/constexpr double K_START = 0.05903085008478762;  \\/\\/ OPTIMIZE [0.02, 0.06] LOG/' -e 's/^constexpr double K_END = .*;   \\/\\/ OPTIMIZE \\[0\\.01, 0\\.05\\] LOG$/constexpr double K_END = 0.04748234585485259;   \\/\\/ OPTIMIZE [0.01, 0.05] LOG/' -e 's/^constexpr double K_H = .*;      \\/\\/ OPTIMIZE \\[0\\.001, 0\\.999\\]$/constexpr double K_H = 0.3347777782036769;      \\/\\/ OPTIMIZE [0.001, 0.999]/' -e 's/^constexpr short PURCHASE_TURN_LIMIT = .*;  \\/\\/ OPTIMIZE \\[790, 870\\]$/constexpr short PURCHASE_TURN_LIMIT = 834;  \\/\\/ OPTIMIZE [790, 870]/' -e 's/^constexpr int SUBSCORE3_TIGHT_TURN = .*;     \\/\\/ OPTIMIZE \\[0, 2\\]$/constexpr int SUBSCORE3_TIGHT_TURN = 0;     \\/\\/ OPTIMIZE [0, 2]/' -e 's/^constexpr int ROUGH_HASH = .*;      \\/\\/ OPTIMIZE {0, 0b00000001, 0b00010001, 0b00010011, 0b00110011}$/constexpr int ROUGH_HASH = 0;      \\/\\/ OPTIMIZE {0, 0b00000001, 0b00010001, 0b00010011, 0b00110011}/'\n",
      "g++ 5_main.cpp -std=gnu++17 -O2 -DONLINE_JUDGE -o 5_main.cpp.out 2> /dev/null\n"
     ]
    },
    {
     "name": "stderr",
     "output_type": "stream",
     "text": [
      "\u001b[32m[I 2021-09-10 11:33:57,116]\u001b[0m Trial 206 finished with value: 1007915180.0 and parameters: {'K_START': 0.05879505852677878, 'K_END': 0.047642751638706245, 'K_H': 0.29779583585590946, 'PURCHASE_TURN_LIMIT': 835, 'SUBSCORE3_TIGHT_TURN': 0, 'ROUGH_HASH': '0'}. Best is trial 116 with value: 1010815661.0.\u001b[0m\n"
     ]
    },
    {
     "name": "stdout",
     "output_type": "stream",
     "text": [
      "callback ok\n",
      "index_parallel=6\n",
      "sed -i 6_main.cpp -e 's/^constexpr double K_START = .*;  \\/\\/ OPTIMIZE \\[0\\.02, 0\\.06\\] LOG$/constexpr double K_START = 0.05999785185451667;  \\/\\/ OPTIMIZE [0.02, 0.06] LOG/' -e 's/^constexpr double K_END = .*;   \\/\\/ OPTIMIZE \\[0\\.01, 0\\.05\\] LOG$/constexpr double K_END = 0.047183552903064904;   \\/\\/ OPTIMIZE [0.01, 0.05] LOG/' -e 's/^constexpr double K_H = .*;      \\/\\/ OPTIMIZE \\[0\\.001, 0\\.999\\]$/constexpr double K_H = 0.27277805050353504;      \\/\\/ OPTIMIZE [0.001, 0.999]/' -e 's/^constexpr short PURCHASE_TURN_LIMIT = .*;  \\/\\/ OPTIMIZE \\[790, 870\\]$/constexpr short PURCHASE_TURN_LIMIT = 830;  \\/\\/ OPTIMIZE [790, 870]/' -e 's/^constexpr int SUBSCORE3_TIGHT_TURN = .*;     \\/\\/ OPTIMIZE \\[0, 2\\]$/constexpr int SUBSCORE3_TIGHT_TURN = 0;     \\/\\/ OPTIMIZE [0, 2]/' -e 's/^constexpr int ROUGH_HASH = .*;      \\/\\/ OPTIMIZE {0, 0b00000001, 0b00010001, 0b00010011, 0b00110011}$/constexpr int ROUGH_HASH = 0;      \\/\\/ OPTIMIZE {0, 0b00000001, 0b00010001, 0b00010011, 0b00110011}/'\n",
      "g++ 6_main.cpp -std=gnu++17 -O2 -DONLINE_JUDGE -o 6_main.cpp.out 2> /dev/null\n"
     ]
    },
    {
     "name": "stderr",
     "output_type": "stream",
     "text": [
      "\u001b[32m[I 2021-09-10 11:35:26,885]\u001b[0m Trial 207 finished with value: 1009199858.0 and parameters: {'K_START': 0.05879987380314903, 'K_END': 0.047769474976296515, 'K_H': 0.30162772255893966, 'PURCHASE_TURN_LIMIT': 838, 'SUBSCORE3_TIGHT_TURN': 0, 'ROUGH_HASH': '0'}. Best is trial 116 with value: 1010815661.0.\u001b[0m\n"
     ]
    },
    {
     "name": "stdout",
     "output_type": "stream",
     "text": [
      "callback ok\n",
      "index_parallel=7\n",
      "sed -i 7_main.cpp -e 's/^constexpr double K_START = .*;  \\/\\/ OPTIMIZE \\[0\\.02, 0\\.06\\] LOG$/constexpr double K_START = 0.059858802795951765;  \\/\\/ OPTIMIZE [0.02, 0.06] LOG/' -e 's/^constexpr double K_END = .*;   \\/\\/ OPTIMIZE \\[0\\.01, 0\\.05\\] LOG$/constexpr double K_END = 0.047299324979547454;   \\/\\/ OPTIMIZE [0.01, 0.05] LOG/' -e 's/^constexpr double K_H = .*;      \\/\\/ OPTIMIZE \\[0\\.001, 0\\.999\\]$/constexpr double K_H = 0.2725131662470001;      \\/\\/ OPTIMIZE [0.001, 0.999]/' -e 's/^constexpr short PURCHASE_TURN_LIMIT = .*;  \\/\\/ OPTIMIZE \\[790, 870\\]$/constexpr short PURCHASE_TURN_LIMIT = 839;  \\/\\/ OPTIMIZE [790, 870]/' -e 's/^constexpr int SUBSCORE3_TIGHT_TURN = .*;     \\/\\/ OPTIMIZE \\[0, 2\\]$/constexpr int SUBSCORE3_TIGHT_TURN = 1;     \\/\\/ OPTIMIZE [0, 2]/' -e 's/^constexpr int ROUGH_HASH = .*;      \\/\\/ OPTIMIZE {0, 0b00000001, 0b00010001, 0b00010011, 0b00110011}$/constexpr int ROUGH_HASH = 0;      \\/\\/ OPTIMIZE {0, 0b00000001, 0b00010001, 0b00010011, 0b00110011}/'\n",
      "g++ 7_main.cpp -std=gnu++17 -O2 -DONLINE_JUDGE -o 7_main.cpp.out 2> /dev/null\n"
     ]
    },
    {
     "name": "stderr",
     "output_type": "stream",
     "text": [
      "\u001b[32m[I 2021-09-10 11:36:57,075]\u001b[0m Trial 208 finished with value: 1001449475.0 and parameters: {'K_START': 0.05899022029256929, 'K_END': 0.04754739100967912, 'K_H': 0.3421110935462972, 'PURCHASE_TURN_LIMIT': 830, 'SUBSCORE3_TIGHT_TURN': 0, 'ROUGH_HASH': '0'}. Best is trial 116 with value: 1010815661.0.\u001b[0m\n"
     ]
    },
    {
     "name": "stdout",
     "output_type": "stream",
     "text": [
      "callback ok\n",
      "index_parallel=8\n",
      "sed -i 8_main.cpp -e 's/^constexpr double K_START = .*;  \\/\\/ OPTIMIZE \\[0\\.02, 0\\.06\\] LOG$/constexpr double K_START = 0.05998872705442824;  \\/\\/ OPTIMIZE [0.02, 0.06] LOG/' -e 's/^constexpr double K_END = .*;   \\/\\/ OPTIMIZE \\[0\\.01, 0\\.05\\] LOG$/constexpr double K_END = 0.046677232432720116;   \\/\\/ OPTIMIZE [0.01, 0.05] LOG/' -e 's/^constexpr double K_H = .*;      \\/\\/ OPTIMIZE \\[0\\.001, 0\\.999\\]$/constexpr double K_H = 0.26673090269108185;      \\/\\/ OPTIMIZE [0.001, 0.999]/' -e 's/^constexpr short PURCHASE_TURN_LIMIT = .*;  \\/\\/ OPTIMIZE \\[790, 870\\]$/constexpr short PURCHASE_TURN_LIMIT = 839;  \\/\\/ OPTIMIZE [790, 870]/' -e 's/^constexpr int SUBSCORE3_TIGHT_TURN = .*;     \\/\\/ OPTIMIZE \\[0, 2\\]$/constexpr int SUBSCORE3_TIGHT_TURN = 0;     \\/\\/ OPTIMIZE [0, 2]/' -e 's/^constexpr int ROUGH_HASH = .*;      \\/\\/ OPTIMIZE {0, 0b00000001, 0b00010001, 0b00010011, 0b00110011}$/constexpr int ROUGH_HASH = 0;      \\/\\/ OPTIMIZE {0, 0b00000001, 0b00010001, 0b00010011, 0b00110011}/'\n",
      "g++ 8_main.cpp -std=gnu++17 -O2 -DONLINE_JUDGE -o 8_main.cpp.out 2> /dev/null\n"
     ]
    },
    {
     "name": "stderr",
     "output_type": "stream",
     "text": [
      "\u001b[32m[I 2021-09-10 11:38:31,236]\u001b[0m Trial 209 finished with value: 1008285966.0 and parameters: {'K_START': 0.05903085008478762, 'K_END': 0.04748234585485259, 'K_H': 0.3347777782036769, 'PURCHASE_TURN_LIMIT': 834, 'SUBSCORE3_TIGHT_TURN': 0, 'ROUGH_HASH': '0'}. Best is trial 116 with value: 1010815661.0.\u001b[0m\n"
     ]
    },
    {
     "name": "stdout",
     "output_type": "stream",
     "text": [
      "callback ok\n",
      "index_parallel=9\n",
      "sed -i 9_main.cpp -e 's/^constexpr double K_START = .*;  \\/\\/ OPTIMIZE \\[0\\.02, 0\\.06\\] LOG$/constexpr double K_START = 0.059902826776105686;  \\/\\/ OPTIMIZE [0.02, 0.06] LOG/' -e 's/^constexpr double K_END = .*;   \\/\\/ OPTIMIZE \\[0\\.01, 0\\.05\\] LOG$/constexpr double K_END = 0.04732574065897984;   \\/\\/ OPTIMIZE [0.01, 0.05] LOG/' -e 's/^constexpr double K_H = .*;      \\/\\/ OPTIMIZE \\[0\\.001, 0\\.999\\]$/constexpr double K_H = 0.2707981665795204;      \\/\\/ OPTIMIZE [0.001, 0.999]/' -e 's/^constexpr short PURCHASE_TURN_LIMIT = .*;  \\/\\/ OPTIMIZE \\[790, 870\\]$/constexpr short PURCHASE_TURN_LIMIT = 839;  \\/\\/ OPTIMIZE [790, 870]/' -e 's/^constexpr int SUBSCORE3_TIGHT_TURN = .*;     \\/\\/ OPTIMIZE \\[0, 2\\]$/constexpr int SUBSCORE3_TIGHT_TURN = 0;     \\/\\/ OPTIMIZE [0, 2]/' -e 's/^constexpr int ROUGH_HASH = .*;      \\/\\/ OPTIMIZE {0, 0b00000001, 0b00010001, 0b00010011, 0b00110011}$/constexpr int ROUGH_HASH = 0b00000001;      \\/\\/ OPTIMIZE {0, 0b00000001, 0b00010001, 0b00010011, 0b00110011}/'\n",
      "g++ 9_main.cpp -std=gnu++17 -O2 -DONLINE_JUDGE -o 9_main.cpp.out 2> /dev/null\n"
     ]
    },
    {
     "name": "stderr",
     "output_type": "stream",
     "text": [
      "\u001b[32m[I 2021-09-10 11:38:34,347]\u001b[0m Trial 210 finished with value: 1009269920.0 and parameters: {'K_START': 0.05999785185451667, 'K_END': 0.047183552903064904, 'K_H': 0.27277805050353504, 'PURCHASE_TURN_LIMIT': 830, 'SUBSCORE3_TIGHT_TURN': 0, 'ROUGH_HASH': '0'}. Best is trial 116 with value: 1010815661.0.\u001b[0m\n"
     ]
    },
    {
     "name": "stdout",
     "output_type": "stream",
     "text": [
      "callback ok\n",
      "index_parallel=10\n",
      "sed -i 10_main.cpp -e 's/^constexpr double K_START = .*;  \\/\\/ OPTIMIZE \\[0\\.02, 0\\.06\\] LOG$/constexpr double K_START = 0.05992713816640897;  \\/\\/ OPTIMIZE [0.02, 0.06] LOG/' -e 's/^constexpr double K_END = .*;   \\/\\/ OPTIMIZE \\[0\\.01, 0\\.05\\] LOG$/constexpr double K_END = 0.047083620409607355;   \\/\\/ OPTIMIZE [0.01, 0.05] LOG/' -e 's/^constexpr double K_H = .*;      \\/\\/ OPTIMIZE \\[0\\.001, 0\\.999\\]$/constexpr double K_H = 0.2734078969469035;      \\/\\/ OPTIMIZE [0.001, 0.999]/' -e 's/^constexpr short PURCHASE_TURN_LIMIT = .*;  \\/\\/ OPTIMIZE \\[790, 870\\]$/constexpr short PURCHASE_TURN_LIMIT = 839;  \\/\\/ OPTIMIZE [790, 870]/' -e 's/^constexpr int SUBSCORE3_TIGHT_TURN = .*;     \\/\\/ OPTIMIZE \\[0, 2\\]$/constexpr int SUBSCORE3_TIGHT_TURN = 0;     \\/\\/ OPTIMIZE [0, 2]/' -e 's/^constexpr int ROUGH_HASH = .*;      \\/\\/ OPTIMIZE {0, 0b00000001, 0b00010001, 0b00010011, 0b00110011}$/constexpr int ROUGH_HASH = 0;      \\/\\/ OPTIMIZE {0, 0b00000001, 0b00010001, 0b00010011, 0b00110011}/'\n",
      "g++ 10_main.cpp -std=gnu++17 -O2 -DONLINE_JUDGE -o 10_main.cpp.out 2> /dev/null\n"
     ]
    },
    {
     "name": "stderr",
     "output_type": "stream",
     "text": [
      "\u001b[32m[I 2021-09-10 11:40:05,701]\u001b[0m Trial 211 finished with value: 1002197401.0 and parameters: {'K_START': 0.059858802795951765, 'K_END': 0.047299324979547454, 'K_H': 0.2725131662470001, 'PURCHASE_TURN_LIMIT': 839, 'SUBSCORE3_TIGHT_TURN': 1, 'ROUGH_HASH': '0'}. Best is trial 116 with value: 1010815661.0.\u001b[0m\n"
     ]
    },
    {
     "name": "stdout",
     "output_type": "stream",
     "text": [
      "callback ok\n",
      "index_parallel=11\n",
      "sed -i 11_main.cpp -e 's/^constexpr double K_START = .*;  \\/\\/ OPTIMIZE \\[0\\.02, 0\\.06\\] LOG$/constexpr double K_START = 0.05999403817319758;  \\/\\/ OPTIMIZE [0.02, 0.06] LOG/' -e 's/^constexpr double K_END = .*;   \\/\\/ OPTIMIZE \\[0\\.01, 0\\.05\\] LOG$/constexpr double K_END = 0.04698865523344557;   \\/\\/ OPTIMIZE [0.01, 0.05] LOG/' -e 's/^constexpr double K_H = .*;      \\/\\/ OPTIMIZE \\[0\\.001, 0\\.999\\]$/constexpr double K_H = 0.2762942485005422;      \\/\\/ OPTIMIZE [0.001, 0.999]/' -e 's/^constexpr short PURCHASE_TURN_LIMIT = .*;  \\/\\/ OPTIMIZE \\[790, 870\\]$/constexpr short PURCHASE_TURN_LIMIT = 834;  \\/\\/ OPTIMIZE [790, 870]/' -e 's/^constexpr int SUBSCORE3_TIGHT_TURN = .*;     \\/\\/ OPTIMIZE \\[0, 2\\]$/constexpr int SUBSCORE3_TIGHT_TURN = 0;     \\/\\/ OPTIMIZE [0, 2]/' -e 's/^constexpr int ROUGH_HASH = .*;      \\/\\/ OPTIMIZE {0, 0b00000001, 0b00010001, 0b00010011, 0b00110011}$/constexpr int ROUGH_HASH = 0;      \\/\\/ OPTIMIZE {0, 0b00000001, 0b00010001, 0b00010011, 0b00110011}/'\n",
      "g++ 11_main.cpp -std=gnu++17 -O2 -DONLINE_JUDGE -o 11_main.cpp.out 2> /dev/null\n"
     ]
    },
    {
     "name": "stderr",
     "output_type": "stream",
     "text": [
      "\u001b[32m[I 2021-09-10 11:41:39,392]\u001b[0m Trial 212 finished with value: 1008516890.0 and parameters: {'K_START': 0.05998872705442824, 'K_END': 0.046677232432720116, 'K_H': 0.26673090269108185, 'PURCHASE_TURN_LIMIT': 839, 'SUBSCORE3_TIGHT_TURN': 0, 'ROUGH_HASH': '0'}. Best is trial 116 with value: 1010815661.0.\u001b[0m\n"
     ]
    },
    {
     "name": "stdout",
     "output_type": "stream",
     "text": [
      "callback ok\n",
      "index_parallel=0\n",
      "sed -i 0_main.cpp -e 's/^constexpr double K_START = .*;  \\/\\/ OPTIMIZE \\[0\\.02, 0\\.06\\] LOG$/constexpr double K_START = 0.05985289008476384;  \\/\\/ OPTIMIZE [0.02, 0.06] LOG/' -e 's/^constexpr double K_END = .*;   \\/\\/ OPTIMIZE \\[0\\.01, 0\\.05\\] LOG$/constexpr double K_END = 0.047283844444445486;   \\/\\/ OPTIMIZE [0.01, 0.05] LOG/' -e 's/^constexpr double K_H = .*;      \\/\\/ OPTIMIZE \\[0\\.001, 0\\.999\\]$/constexpr double K_H = 0.2522674062742705;      \\/\\/ OPTIMIZE [0.001, 0.999]/' -e 's/^constexpr short PURCHASE_TURN_LIMIT = .*;  \\/\\/ OPTIMIZE \\[790, 870\\]$/constexpr short PURCHASE_TURN_LIMIT = 839;  \\/\\/ OPTIMIZE [790, 870]/' -e 's/^constexpr int SUBSCORE3_TIGHT_TURN = .*;     \\/\\/ OPTIMIZE \\[0, 2\\]$/constexpr int SUBSCORE3_TIGHT_TURN = 0;     \\/\\/ OPTIMIZE [0, 2]/' -e 's/^constexpr int ROUGH_HASH = .*;      \\/\\/ OPTIMIZE {0, 0b00000001, 0b00010001, 0b00010011, 0b00110011}$/constexpr int ROUGH_HASH = 0;      \\/\\/ OPTIMIZE {0, 0b00000001, 0b00010001, 0b00010011, 0b00110011}/'\n",
      "g++ 0_main.cpp -std=gnu++17 -O2 -DONLINE_JUDGE -o 0_main.cpp.out 2> /dev/null\n"
     ]
    },
    {
     "name": "stderr",
     "output_type": "stream",
     "text": [
      "\u001b[32m[I 2021-09-10 11:43:02,137]\u001b[0m Trial 213 finished with value: 1004670329.0 and parameters: {'K_START': 0.059902826776105686, 'K_END': 0.04732574065897984, 'K_H': 0.2707981665795204, 'PURCHASE_TURN_LIMIT': 839, 'SUBSCORE3_TIGHT_TURN': 0, 'ROUGH_HASH': '0b00000001'}. Best is trial 116 with value: 1010815661.0.\u001b[0m\n"
     ]
    },
    {
     "name": "stdout",
     "output_type": "stream",
     "text": [
      "callback ok\n",
      "index_parallel=1\n",
      "sed -i 1_main.cpp -e 's/^constexpr double K_START = .*;  \\/\\/ OPTIMIZE \\[0\\.02, 0\\.06\\] LOG$/constexpr double K_START = 0.05732851042158442;  \\/\\/ OPTIMIZE [0.02, 0.06] LOG/' -e 's/^constexpr double K_END = .*;   \\/\\/ OPTIMIZE \\[0\\.01, 0\\.05\\] LOG$/constexpr double K_END = 0.04590755329416423;   \\/\\/ OPTIMIZE [0.01, 0.05] LOG/' -e 's/^constexpr double K_H = .*;      \\/\\/ OPTIMIZE \\[0\\.001, 0\\.999\\]$/constexpr double K_H = 0.2899563751259009;      \\/\\/ OPTIMIZE [0.001, 0.999]/' -e 's/^constexpr short PURCHASE_TURN_LIMIT = .*;  \\/\\/ OPTIMIZE \\[790, 870\\]$/constexpr short PURCHASE_TURN_LIMIT = 838;  \\/\\/ OPTIMIZE [790, 870]/' -e 's/^constexpr int SUBSCORE3_TIGHT_TURN = .*;     \\/\\/ OPTIMIZE \\[0, 2\\]$/constexpr int SUBSCORE3_TIGHT_TURN = 0;     \\/\\/ OPTIMIZE [0, 2]/' -e 's/^constexpr int ROUGH_HASH = .*;      \\/\\/ OPTIMIZE {0, 0b00000001, 0b00010001, 0b00010011, 0b00110011}$/constexpr int ROUGH_HASH = 0;      \\/\\/ OPTIMIZE {0, 0b00000001, 0b00010001, 0b00010011, 0b00110011}/'\n",
      "g++ 1_main.cpp -std=gnu++17 -O2 -DONLINE_JUDGE -o 1_main.cpp.out 2> /dev/null\n"
     ]
    },
    {
     "name": "stderr",
     "output_type": "stream",
     "text": [
      "\u001b[32m[I 2021-09-10 11:43:15,931]\u001b[0m Trial 214 finished with value: 1008596190.0 and parameters: {'K_START': 0.05992713816640897, 'K_END': 0.047083620409607355, 'K_H': 0.2734078969469035, 'PURCHASE_TURN_LIMIT': 839, 'SUBSCORE3_TIGHT_TURN': 0, 'ROUGH_HASH': '0'}. Best is trial 116 with value: 1010815661.0.\u001b[0m\n"
     ]
    },
    {
     "name": "stdout",
     "output_type": "stream",
     "text": [
      "callback ok\n",
      "index_parallel=2\n",
      "sed -i 2_main.cpp -e 's/^constexpr double K_START = .*;  \\/\\/ OPTIMIZE \\[0\\.02, 0\\.06\\] LOG$/constexpr double K_START = 0.05726215956050194;  \\/\\/ OPTIMIZE [0.02, 0.06] LOG/' -e 's/^constexpr double K_END = .*;   \\/\\/ OPTIMIZE \\[0\\.01, 0\\.05\\] LOG$/constexpr double K_END = 0.04621319216901606;   \\/\\/ OPTIMIZE [0.01, 0.05] LOG/' -e 's/^constexpr double K_H = .*;      \\/\\/ OPTIMIZE \\[0\\.001, 0\\.999\\]$/constexpr double K_H = 0.25434317095319525;      \\/\\/ OPTIMIZE [0.001, 0.999]/' -e 's/^constexpr short PURCHASE_TURN_LIMIT = .*;  \\/\\/ OPTIMIZE \\[790, 870\\]$/constexpr short PURCHASE_TURN_LIMIT = 838;  \\/\\/ OPTIMIZE [790, 870]/' -e 's/^constexpr int SUBSCORE3_TIGHT_TURN = .*;     \\/\\/ OPTIMIZE \\[0, 2\\]$/constexpr int SUBSCORE3_TIGHT_TURN = 0;     \\/\\/ OPTIMIZE [0, 2]/' -e 's/^constexpr int ROUGH_HASH = .*;      \\/\\/ OPTIMIZE {0, 0b00000001, 0b00010001, 0b00010011, 0b00110011}$/constexpr int ROUGH_HASH = 0;      \\/\\/ OPTIMIZE {0, 0b00000001, 0b00010001, 0b00010011, 0b00110011}/'\n",
      "g++ 2_main.cpp -std=gnu++17 -O2 -DONLINE_JUDGE -o 2_main.cpp.out 2> /dev/null\n"
     ]
    },
    {
     "name": "stderr",
     "output_type": "stream",
     "text": [
      "\u001b[32m[I 2021-09-10 11:44:45,449]\u001b[0m Trial 215 finished with value: 1008194677.0 and parameters: {'K_START': 0.05999403817319758, 'K_END': 0.04698865523344557, 'K_H': 0.2762942485005422, 'PURCHASE_TURN_LIMIT': 834, 'SUBSCORE3_TIGHT_TURN': 0, 'ROUGH_HASH': '0'}. Best is trial 116 with value: 1010815661.0.\u001b[0m\n"
     ]
    },
    {
     "name": "stdout",
     "output_type": "stream",
     "text": [
      "callback ok\n",
      "index_parallel=3\n",
      "sed -i 3_main.cpp -e 's/^constexpr double K_START = .*;  \\/\\/ OPTIMIZE \\[0\\.02, 0\\.06\\] LOG$/constexpr double K_START = 0.025782321975371433;  \\/\\/ OPTIMIZE [0.02, 0.06] LOG/' -e 's/^constexpr double K_END = .*;   \\/\\/ OPTIMIZE \\[0\\.01, 0\\.05\\] LOG$/constexpr double K_END = 0.045481540971097516;   \\/\\/ OPTIMIZE [0.01, 0.05] LOG/' -e 's/^constexpr double K_H = .*;      \\/\\/ OPTIMIZE \\[0\\.001, 0\\.999\\]$/constexpr double K_H = 0.2466966545519974;      \\/\\/ OPTIMIZE [0.001, 0.999]/' -e 's/^constexpr short PURCHASE_TURN_LIMIT = .*;  \\/\\/ OPTIMIZE \\[790, 870\\]$/constexpr short PURCHASE_TURN_LIMIT = 837;  \\/\\/ OPTIMIZE [790, 870]/' -e 's/^constexpr int SUBSCORE3_TIGHT_TURN = .*;     \\/\\/ OPTIMIZE \\[0, 2\\]$/constexpr int SUBSCORE3_TIGHT_TURN = 0;     \\/\\/ OPTIMIZE [0, 2]/' -e 's/^constexpr int ROUGH_HASH = .*;      \\/\\/ OPTIMIZE {0, 0b00000001, 0b00010001, 0b00010011, 0b00110011}$/constexpr int ROUGH_HASH = 0;      \\/\\/ OPTIMIZE {0, 0b00000001, 0b00010001, 0b00010011, 0b00110011}/'\n",
      "g++ 3_main.cpp -std=gnu++17 -O2 -DONLINE_JUDGE -o 3_main.cpp.out 2> /dev/null\n"
     ]
    },
    {
     "name": "stderr",
     "output_type": "stream",
     "text": [
      "\u001b[32m[I 2021-09-10 11:46:22,311]\u001b[0m Trial 216 finished with value: 1005142138.0 and parameters: {'K_START': 0.05985289008476384, 'K_END': 0.047283844444445486, 'K_H': 0.2522674062742705, 'PURCHASE_TURN_LIMIT': 839, 'SUBSCORE3_TIGHT_TURN': 0, 'ROUGH_HASH': '0'}. Best is trial 116 with value: 1010815661.0.\u001b[0m\n"
     ]
    },
    {
     "name": "stdout",
     "output_type": "stream",
     "text": [
      "callback ok\n",
      "index_parallel=4\n",
      "sed -i 4_main.cpp -e 's/^constexpr double K_START = .*;  \\/\\/ OPTIMIZE \\[0\\.02, 0\\.06\\] LOG$/constexpr double K_START = 0.05732714538119983;  \\/\\/ OPTIMIZE [0.02, 0.06] LOG/' -e 's/^constexpr double K_END = .*;   \\/\\/ OPTIMIZE \\[0\\.01, 0\\.05\\] LOG$/constexpr double K_END = 0.04558183282498153;   \\/\\/ OPTIMIZE [0.01, 0.05] LOG/' -e 's/^constexpr double K_H = .*;      \\/\\/ OPTIMIZE \\[0\\.001, 0\\.999\\]$/constexpr double K_H = 0.2548316765893406;      \\/\\/ OPTIMIZE [0.001, 0.999]/' -e 's/^constexpr short PURCHASE_TURN_LIMIT = .*;  \\/\\/ OPTIMIZE \\[790, 870\\]$/constexpr short PURCHASE_TURN_LIMIT = 837;  \\/\\/ OPTIMIZE [790, 870]/' -e 's/^constexpr int SUBSCORE3_TIGHT_TURN = .*;     \\/\\/ OPTIMIZE \\[0, 2\\]$/constexpr int SUBSCORE3_TIGHT_TURN = 0;     \\/\\/ OPTIMIZE [0, 2]/' -e 's/^constexpr int ROUGH_HASH = .*;      \\/\\/ OPTIMIZE {0, 0b00000001, 0b00010001, 0b00010011, 0b00110011}$/constexpr int ROUGH_HASH = 0;      \\/\\/ OPTIMIZE {0, 0b00000001, 0b00010001, 0b00010011, 0b00110011}/'\n",
      "g++ 4_main.cpp -std=gnu++17 -O2 -DONLINE_JUDGE -o 4_main.cpp.out 2> /dev/null\n"
     ]
    },
    {
     "name": "stderr",
     "output_type": "stream",
     "text": [
      "\u001b[32m[I 2021-09-10 11:47:47,922]\u001b[0m Trial 217 finished with value: 1006664548.0 and parameters: {'K_START': 0.05732851042158442, 'K_END': 0.04590755329416423, 'K_H': 0.2899563751259009, 'PURCHASE_TURN_LIMIT': 838, 'SUBSCORE3_TIGHT_TURN': 0, 'ROUGH_HASH': '0'}. Best is trial 116 with value: 1010815661.0.\u001b[0m\n"
     ]
    },
    {
     "name": "stdout",
     "output_type": "stream",
     "text": [
      "callback ok\n",
      "index_parallel=5\n",
      "sed -i 5_main.cpp -e 's/^constexpr double K_START = .*;  \\/\\/ OPTIMIZE \\[0\\.02, 0\\.06\\] LOG$/constexpr double K_START = 0.025895790161156507;  \\/\\/ OPTIMIZE [0.02, 0.06] LOG/' -e 's/^constexpr double K_END = .*;   \\/\\/ OPTIMIZE \\[0\\.01, 0\\.05\\] LOG$/constexpr double K_END = 0.04499539357530515;   \\/\\/ OPTIMIZE [0.01, 0.05] LOG/' -e 's/^constexpr double K_H = .*;      \\/\\/ OPTIMIZE \\[0\\.001, 0\\.999\\]$/constexpr double K_H = 0.24895242369253318;      \\/\\/ OPTIMIZE [0.001, 0.999]/' -e 's/^constexpr short PURCHASE_TURN_LIMIT = .*;  \\/\\/ OPTIMIZE \\[790, 870\\]$/constexpr short PURCHASE_TURN_LIMIT = 837;  \\/\\/ OPTIMIZE [790, 870]/' -e 's/^constexpr int SUBSCORE3_TIGHT_TURN = .*;     \\/\\/ OPTIMIZE \\[0, 2\\]$/constexpr int SUBSCORE3_TIGHT_TURN = 0;     \\/\\/ OPTIMIZE [0, 2]/' -e 's/^constexpr int ROUGH_HASH = .*;      \\/\\/ OPTIMIZE {0, 0b00000001, 0b00010001, 0b00010011, 0b00110011}$/constexpr int ROUGH_HASH = 0;      \\/\\/ OPTIMIZE {0, 0b00000001, 0b00010001, 0b00010011, 0b00110011}/'\n",
      "g++ 5_main.cpp -std=gnu++17 -O2 -DONLINE_JUDGE -o 5_main.cpp.out 2> /dev/null\n"
     ]
    },
    {
     "name": "stderr",
     "output_type": "stream",
     "text": [
      "\u001b[32m[I 2021-09-10 11:47:59,604]\u001b[0m Trial 218 finished with value: 1006515760.0 and parameters: {'K_START': 0.05726215956050194, 'K_END': 0.04621319216901606, 'K_H': 0.25434317095319525, 'PURCHASE_TURN_LIMIT': 838, 'SUBSCORE3_TIGHT_TURN': 0, 'ROUGH_HASH': '0'}. Best is trial 116 with value: 1010815661.0.\u001b[0m\n"
     ]
    },
    {
     "name": "stdout",
     "output_type": "stream",
     "text": [
      "callback ok\n",
      "index_parallel=6\n",
      "sed -i 6_main.cpp -e 's/^constexpr double K_START = .*;  \\/\\/ OPTIMIZE \\[0\\.02, 0\\.06\\] LOG$/constexpr double K_START = 0.023080664345363804;  \\/\\/ OPTIMIZE [0.02, 0.06] LOG/' -e 's/^constexpr double K_END = .*;   \\/\\/ OPTIMIZE \\[0\\.01, 0\\.05\\] LOG$/constexpr double K_END = 0.0443904818200138;   \\/\\/ OPTIMIZE [0.01, 0.05] LOG/' -e 's/^constexpr double K_H = .*;      \\/\\/ OPTIMIZE \\[0\\.001, 0\\.999\\]$/constexpr double K_H = 0.21660994738783487;      \\/\\/ OPTIMIZE [0.001, 0.999]/' -e 's/^constexpr short PURCHASE_TURN_LIMIT = .*;  \\/\\/ OPTIMIZE \\[790, 870\\]$/constexpr short PURCHASE_TURN_LIMIT = 834;  \\/\\/ OPTIMIZE [790, 870]/' -e 's/^constexpr int SUBSCORE3_TIGHT_TURN = .*;     \\/\\/ OPTIMIZE \\[0, 2\\]$/constexpr int SUBSCORE3_TIGHT_TURN = 0;     \\/\\/ OPTIMIZE [0, 2]/' -e 's/^constexpr int ROUGH_HASH = .*;      \\/\\/ OPTIMIZE {0, 0b00000001, 0b00010001, 0b00010011, 0b00110011}$/constexpr int ROUGH_HASH = 0;      \\/\\/ OPTIMIZE {0, 0b00000001, 0b00010001, 0b00010011, 0b00110011}/'\n",
      "g++ 6_main.cpp -std=gnu++17 -O2 -DONLINE_JUDGE -o 6_main.cpp.out 2> /dev/null\n"
     ]
    },
    {
     "name": "stderr",
     "output_type": "stream",
     "text": [
      "\u001b[32m[I 2021-09-10 11:49:28,019]\u001b[0m Trial 219 finished with value: 994136129.0 and parameters: {'K_START': 0.025782321975371433, 'K_END': 0.045481540971097516, 'K_H': 0.2466966545519974, 'PURCHASE_TURN_LIMIT': 837, 'SUBSCORE3_TIGHT_TURN': 0, 'ROUGH_HASH': '0'}. Best is trial 116 with value: 1010815661.0.\u001b[0m\n"
     ]
    },
    {
     "name": "stdout",
     "output_type": "stream",
     "text": [
      "callback ok\n",
      "index_parallel=7\n",
      "sed -i 7_main.cpp -e 's/^constexpr double K_START = .*;  \\/\\/ OPTIMIZE \\[0\\.02, 0\\.06\\] LOG$/constexpr double K_START = 0.05853227058452974;  \\/\\/ OPTIMIZE [0.02, 0.06] LOG/' -e 's/^constexpr double K_END = .*;   \\/\\/ OPTIMIZE \\[0\\.01, 0\\.05\\] LOG$/constexpr double K_END = 0.044110531740424154;   \\/\\/ OPTIMIZE [0.01, 0.05] LOG/' -e 's/^constexpr double K_H = .*;      \\/\\/ OPTIMIZE \\[0\\.001, 0\\.999\\]$/constexpr double K_H = 0.27819015193851326;      \\/\\/ OPTIMIZE [0.001, 0.999]/' -e 's/^constexpr short PURCHASE_TURN_LIMIT = .*;  \\/\\/ OPTIMIZE \\[790, 870\\]$/constexpr short PURCHASE_TURN_LIMIT = 834;  \\/\\/ OPTIMIZE [790, 870]/' -e 's/^constexpr int SUBSCORE3_TIGHT_TURN = .*;     \\/\\/ OPTIMIZE \\[0, 2\\]$/constexpr int SUBSCORE3_TIGHT_TURN = 0;     \\/\\/ OPTIMIZE [0, 2]/' -e 's/^constexpr int ROUGH_HASH = .*;      \\/\\/ OPTIMIZE {0, 0b00000001, 0b00010001, 0b00010011, 0b00110011}$/constexpr int ROUGH_HASH = 0;      \\/\\/ OPTIMIZE {0, 0b00000001, 0b00010001, 0b00010011, 0b00110011}/'\n",
      "g++ 7_main.cpp -std=gnu++17 -O2 -DONLINE_JUDGE -o 7_main.cpp.out 2> /dev/null\n"
     ]
    },
    {
     "name": "stderr",
     "output_type": "stream",
     "text": [
      "\u001b[32m[I 2021-09-10 11:51:08,307]\u001b[0m Trial 220 finished with value: 1007436565.0 and parameters: {'K_START': 0.05732714538119983, 'K_END': 0.04558183282498153, 'K_H': 0.2548316765893406, 'PURCHASE_TURN_LIMIT': 837, 'SUBSCORE3_TIGHT_TURN': 0, 'ROUGH_HASH': '0'}. Best is trial 116 with value: 1010815661.0.\u001b[0m\n"
     ]
    },
    {
     "name": "stdout",
     "output_type": "stream",
     "text": [
      "callback ok\n",
      "index_parallel=8\n",
      "sed -i 8_main.cpp -e 's/^constexpr double K_START = .*;  \\/\\/ OPTIMIZE \\[0\\.02, 0\\.06\\] LOG$/constexpr double K_START = 0.05863919643428413;  \\/\\/ OPTIMIZE [0.02, 0.06] LOG/' -e 's/^constexpr double K_END = .*;   \\/\\/ OPTIMIZE \\[0\\.01, 0\\.05\\] LOG$/constexpr double K_END = 0.04825119987866775;   \\/\\/ OPTIMIZE [0.01, 0.05] LOG/' -e 's/^constexpr double K_H = .*;      \\/\\/ OPTIMIZE \\[0\\.001, 0\\.999\\]$/constexpr double K_H = 0.21732406177927838;      \\/\\/ OPTIMIZE [0.001, 0.999]/' -e 's/^constexpr short PURCHASE_TURN_LIMIT = .*;  \\/\\/ OPTIMIZE \\[790, 870\\]$/constexpr short PURCHASE_TURN_LIMIT = 840;  \\/\\/ OPTIMIZE [790, 870]/' -e 's/^constexpr int SUBSCORE3_TIGHT_TURN = .*;     \\/\\/ OPTIMIZE \\[0, 2\\]$/constexpr int SUBSCORE3_TIGHT_TURN = 0;     \\/\\/ OPTIMIZE [0, 2]/' -e 's/^constexpr int ROUGH_HASH = .*;      \\/\\/ OPTIMIZE {0, 0b00000001, 0b00010001, 0b00010011, 0b00110011}$/constexpr int ROUGH_HASH = 0;      \\/\\/ OPTIMIZE {0, 0b00000001, 0b00010001, 0b00010011, 0b00110011}/'\n",
      "g++ 8_main.cpp -std=gnu++17 -O2 -DONLINE_JUDGE -o 8_main.cpp.out 2> /dev/null\n"
     ]
    },
    {
     "name": "stderr",
     "output_type": "stream",
     "text": [
      "\u001b[32m[I 2021-09-10 11:52:32,905]\u001b[0m Trial 221 finished with value: 994537221.0 and parameters: {'K_START': 0.025895790161156507, 'K_END': 0.04499539357530515, 'K_H': 0.24895242369253318, 'PURCHASE_TURN_LIMIT': 837, 'SUBSCORE3_TIGHT_TURN': 0, 'ROUGH_HASH': '0'}. Best is trial 116 with value: 1010815661.0.\u001b[0m\n"
     ]
    },
    {
     "name": "stdout",
     "output_type": "stream",
     "text": [
      "callback ok\n",
      "index_parallel=9\n",
      "sed -i 9_main.cpp -e 's/^constexpr double K_START = .*;  \\/\\/ OPTIMIZE \\[0\\.02, 0\\.06\\] LOG$/constexpr double K_START = 0.05864929689712768;  \\/\\/ OPTIMIZE [0.02, 0.06] LOG/' -e 's/^constexpr double K_END = .*;   \\/\\/ OPTIMIZE \\[0\\.01, 0\\.05\\] LOG$/constexpr double K_END = 0.04845832352616029;   \\/\\/ OPTIMIZE [0.01, 0.05] LOG/' -e 's/^constexpr double K_H = .*;      \\/\\/ OPTIMIZE \\[0\\.001, 0\\.999\\]$/constexpr double K_H = 0.20643682444410075;      \\/\\/ OPTIMIZE [0.001, 0.999]/' -e 's/^constexpr short PURCHASE_TURN_LIMIT = .*;  \\/\\/ OPTIMIZE \\[790, 870\\]$/constexpr short PURCHASE_TURN_LIMIT = 840;  \\/\\/ OPTIMIZE [790, 870]/' -e 's/^constexpr int SUBSCORE3_TIGHT_TURN = .*;     \\/\\/ OPTIMIZE \\[0, 2\\]$/constexpr int SUBSCORE3_TIGHT_TURN = 0;     \\/\\/ OPTIMIZE [0, 2]/' -e 's/^constexpr int ROUGH_HASH = .*;      \\/\\/ OPTIMIZE {0, 0b00000001, 0b00010001, 0b00010011, 0b00110011}$/constexpr int ROUGH_HASH = 0;      \\/\\/ OPTIMIZE {0, 0b00000001, 0b00010001, 0b00010011, 0b00110011}/'\n",
      "g++ 9_main.cpp -std=gnu++17 -O2 -DONLINE_JUDGE -o 9_main.cpp.out 2> /dev/null\n"
     ]
    },
    {
     "name": "stderr",
     "output_type": "stream",
     "text": [
      "\u001b[32m[I 2021-09-10 11:52:38,969]\u001b[0m Trial 222 finished with value: 985527832.0 and parameters: {'K_START': 0.023080664345363804, 'K_END': 0.0443904818200138, 'K_H': 0.21660994738783487, 'PURCHASE_TURN_LIMIT': 834, 'SUBSCORE3_TIGHT_TURN': 0, 'ROUGH_HASH': '0'}. Best is trial 116 with value: 1010815661.0.\u001b[0m\n"
     ]
    },
    {
     "name": "stdout",
     "output_type": "stream",
     "text": [
      "callback ok\n",
      "index_parallel=10\n",
      "sed -i 10_main.cpp -e 's/^constexpr double K_START = .*;  \\/\\/ OPTIMIZE \\[0\\.02, 0\\.06\\] LOG$/constexpr double K_START = 0.05880024499904819;  \\/\\/ OPTIMIZE [0.02, 0.06] LOG/' -e 's/^constexpr double K_END = .*;   \\/\\/ OPTIMIZE \\[0\\.01, 0\\.05\\] LOG$/constexpr double K_END = 0.04830342646761068;   \\/\\/ OPTIMIZE [0.01, 0.05] LOG/' -e 's/^constexpr double K_H = .*;      \\/\\/ OPTIMIZE \\[0\\.001, 0\\.999\\]$/constexpr double K_H = 0.19351451590023905;      \\/\\/ OPTIMIZE [0.001, 0.999]/' -e 's/^constexpr short PURCHASE_TURN_LIMIT = .*;  \\/\\/ OPTIMIZE \\[790, 870\\]$/constexpr short PURCHASE_TURN_LIMIT = 840;  \\/\\/ OPTIMIZE [790, 870]/' -e 's/^constexpr int SUBSCORE3_TIGHT_TURN = .*;     \\/\\/ OPTIMIZE \\[0, 2\\]$/constexpr int SUBSCORE3_TIGHT_TURN = 0;     \\/\\/ OPTIMIZE [0, 2]/' -e 's/^constexpr int ROUGH_HASH = .*;      \\/\\/ OPTIMIZE {0, 0b00000001, 0b00010001, 0b00010011, 0b00110011}$/constexpr int ROUGH_HASH = 0;      \\/\\/ OPTIMIZE {0, 0b00000001, 0b00010001, 0b00010011, 0b00110011}/'\n",
      "g++ 10_main.cpp -std=gnu++17 -O2 -DONLINE_JUDGE -o 10_main.cpp.out 2> /dev/null\n"
     ]
    },
    {
     "name": "stderr",
     "output_type": "stream",
     "text": [
      "\u001b[32m[I 2021-09-10 11:54:12,222]\u001b[0m Trial 223 finished with value: 1006853432.0 and parameters: {'K_START': 0.05853227058452974, 'K_END': 0.044110531740424154, 'K_H': 0.27819015193851326, 'PURCHASE_TURN_LIMIT': 834, 'SUBSCORE3_TIGHT_TURN': 0, 'ROUGH_HASH': '0'}. Best is trial 116 with value: 1010815661.0.\u001b[0m\n"
     ]
    },
    {
     "name": "stdout",
     "output_type": "stream",
     "text": [
      "callback ok\n",
      "index_parallel=11\n",
      "sed -i 11_main.cpp -e 's/^constexpr double K_START = .*;  \\/\\/ OPTIMIZE \\[0\\.02, 0\\.06\\] LOG$/constexpr double K_START = 0.0586717807385607;  \\/\\/ OPTIMIZE [0.02, 0.06] LOG/' -e 's/^constexpr double K_END = .*;   \\/\\/ OPTIMIZE \\[0\\.01, 0\\.05\\] LOG$/constexpr double K_END = 0.04838074637459558;   \\/\\/ OPTIMIZE [0.01, 0.05] LOG/' -e 's/^constexpr double K_H = .*;      \\/\\/ OPTIMIZE \\[0\\.001, 0\\.999\\]$/constexpr double K_H = 0.29021910144133456;      \\/\\/ OPTIMIZE [0.001, 0.999]/' -e 's/^constexpr short PURCHASE_TURN_LIMIT = .*;  \\/\\/ OPTIMIZE \\[790, 870\\]$/constexpr short PURCHASE_TURN_LIMIT = 840;  \\/\\/ OPTIMIZE [790, 870]/' -e 's/^constexpr int SUBSCORE3_TIGHT_TURN = .*;     \\/\\/ OPTIMIZE \\[0, 2\\]$/constexpr int SUBSCORE3_TIGHT_TURN = 0;     \\/\\/ OPTIMIZE [0, 2]/' -e 's/^constexpr int ROUGH_HASH = .*;      \\/\\/ OPTIMIZE {0, 0b00000001, 0b00010001, 0b00010011, 0b00110011}$/constexpr int ROUGH_HASH = 0;      \\/\\/ OPTIMIZE {0, 0b00000001, 0b00010001, 0b00010011, 0b00110011}/'\n",
      "g++ 11_main.cpp -std=gnu++17 -O2 -DONLINE_JUDGE -o 11_main.cpp.out 2> /dev/null\n"
     ]
    },
    {
     "name": "stderr",
     "output_type": "stream",
     "text": [
      "\u001b[32m[I 2021-09-10 11:55:51,904]\u001b[0m Trial 224 finished with value: 1007426216.0 and parameters: {'K_START': 0.05863919643428413, 'K_END': 0.04825119987866775, 'K_H': 0.21732406177927838, 'PURCHASE_TURN_LIMIT': 840, 'SUBSCORE3_TIGHT_TURN': 0, 'ROUGH_HASH': '0'}. Best is trial 116 with value: 1010815661.0.\u001b[0m\n"
     ]
    },
    {
     "name": "stdout",
     "output_type": "stream",
     "text": [
      "callback ok\n",
      "index_parallel=0\n",
      "sed -i 0_main.cpp -e 's/^constexpr double K_START = .*;  \\/\\/ OPTIMIZE \\[0\\.02, 0\\.06\\] LOG$/constexpr double K_START = 0.05880726249420393;  \\/\\/ OPTIMIZE [0.02, 0.06] LOG/' -e 's/^constexpr double K_END = .*;   \\/\\/ OPTIMIZE \\[0\\.01, 0\\.05\\] LOG$/constexpr double K_END = 0.04720623358733691;   \\/\\/ OPTIMIZE [0.01, 0.05] LOG/' -e 's/^constexpr double K_H = .*;      \\/\\/ OPTIMIZE \\[0\\.001, 0\\.999\\]$/constexpr double K_H = 0.2946545086738451;      \\/\\/ OPTIMIZE [0.001, 0.999]/' -e 's/^constexpr short PURCHASE_TURN_LIMIT = .*;  \\/\\/ OPTIMIZE \\[790, 870\\]$/constexpr short PURCHASE_TURN_LIMIT = 840;  \\/\\/ OPTIMIZE [790, 870]/' -e 's/^constexpr int SUBSCORE3_TIGHT_TURN = .*;     \\/\\/ OPTIMIZE \\[0, 2\\]$/constexpr int SUBSCORE3_TIGHT_TURN = 0;     \\/\\/ OPTIMIZE [0, 2]/' -e 's/^constexpr int ROUGH_HASH = .*;      \\/\\/ OPTIMIZE {0, 0b00000001, 0b00010001, 0b00010011, 0b00110011}$/constexpr int ROUGH_HASH = 0;      \\/\\/ OPTIMIZE {0, 0b00000001, 0b00010001, 0b00010011, 0b00110011}/'\n",
      "g++ 0_main.cpp -std=gnu++17 -O2 -DONLINE_JUDGE -o 0_main.cpp.out 2> /dev/null\n"
     ]
    },
    {
     "name": "stderr",
     "output_type": "stream",
     "text": [
      "\u001b[32m[I 2021-09-10 11:57:17,941]\u001b[0m Trial 225 finished with value: 1006891790.0 and parameters: {'K_START': 0.05864929689712768, 'K_END': 0.04845832352616029, 'K_H': 0.20643682444410075, 'PURCHASE_TURN_LIMIT': 840, 'SUBSCORE3_TIGHT_TURN': 0, 'ROUGH_HASH': '0'}. Best is trial 116 with value: 1010815661.0.\u001b[0m\n"
     ]
    },
    {
     "name": "stdout",
     "output_type": "stream",
     "text": [
      "callback ok\n",
      "index_parallel=1\n",
      "sed -i 1_main.cpp -e 's/^constexpr double K_START = .*;  \\/\\/ OPTIMIZE \\[0\\.02, 0\\.06\\] LOG$/constexpr double K_START = 0.057139878890028056;  \\/\\/ OPTIMIZE [0.02, 0.06] LOG/' -e 's/^constexpr double K_END = .*;   \\/\\/ OPTIMIZE \\[0\\.01, 0\\.05\\] LOG$/constexpr double K_END = 0.046759848605183806;   \\/\\/ OPTIMIZE [0.01, 0.05] LOG/' -e 's/^constexpr double K_H = .*;      \\/\\/ OPTIMIZE \\[0\\.001, 0\\.999\\]$/constexpr double K_H = 0.2978411574913721;      \\/\\/ OPTIMIZE [0.001, 0.999]/' -e 's/^constexpr short PURCHASE_TURN_LIMIT = .*;  \\/\\/ OPTIMIZE \\[790, 870\\]$/constexpr short PURCHASE_TURN_LIMIT = 843;  \\/\\/ OPTIMIZE [790, 870]/' -e 's/^constexpr int SUBSCORE3_TIGHT_TURN = .*;     \\/\\/ OPTIMIZE \\[0, 2\\]$/constexpr int SUBSCORE3_TIGHT_TURN = 0;     \\/\\/ OPTIMIZE [0, 2]/' -e 's/^constexpr int ROUGH_HASH = .*;      \\/\\/ OPTIMIZE {0, 0b00000001, 0b00010001, 0b00010011, 0b00110011}$/constexpr int ROUGH_HASH = 0;      \\/\\/ OPTIMIZE {0, 0b00000001, 0b00010001, 0b00010011, 0b00110011}/'\n",
      "g++ 1_main.cpp -std=gnu++17 -O2 -DONLINE_JUDGE -o 1_main.cpp.out 2> /dev/null\n"
     ]
    },
    {
     "name": "stderr",
     "output_type": "stream",
     "text": [
      "\u001b[32m[I 2021-09-10 11:57:22,825]\u001b[0m Trial 226 finished with value: 1003834419.0 and parameters: {'K_START': 0.05880024499904819, 'K_END': 0.04830342646761068, 'K_H': 0.19351451590023905, 'PURCHASE_TURN_LIMIT': 840, 'SUBSCORE3_TIGHT_TURN': 0, 'ROUGH_HASH': '0'}. Best is trial 116 with value: 1010815661.0.\u001b[0m\n"
     ]
    },
    {
     "name": "stdout",
     "output_type": "stream",
     "text": [
      "callback ok\n",
      "index_parallel=2\n",
      "sed -i 2_main.cpp -e 's/^constexpr double K_START = .*;  \\/\\/ OPTIMIZE \\[0\\.02, 0\\.06\\] LOG$/constexpr double K_START = 0.05700748616934022;  \\/\\/ OPTIMIZE [0.02, 0.06] LOG/' -e 's/^constexpr double K_END = .*;   \\/\\/ OPTIMIZE \\[0\\.01, 0\\.05\\] LOG$/constexpr double K_END = 0.024254697152204487;   \\/\\/ OPTIMIZE [0.01, 0.05] LOG/' -e 's/^constexpr double K_H = .*;      \\/\\/ OPTIMIZE \\[0\\.001, 0\\.999\\]$/constexpr double K_H = 0.29745756485467484;      \\/\\/ OPTIMIZE [0.001, 0.999]/' -e 's/^constexpr short PURCHASE_TURN_LIMIT = .*;  \\/\\/ OPTIMIZE \\[790, 870\\]$/constexpr short PURCHASE_TURN_LIMIT = 842;  \\/\\/ OPTIMIZE [790, 870]/' -e 's/^constexpr int SUBSCORE3_TIGHT_TURN = .*;     \\/\\/ OPTIMIZE \\[0, 2\\]$/constexpr int SUBSCORE3_TIGHT_TURN = 0;     \\/\\/ OPTIMIZE [0, 2]/' -e 's/^constexpr int ROUGH_HASH = .*;      \\/\\/ OPTIMIZE {0, 0b00000001, 0b00010001, 0b00010011, 0b00110011}$/constexpr int ROUGH_HASH = 0;      \\/\\/ OPTIMIZE {0, 0b00000001, 0b00010001, 0b00010011, 0b00110011}/'\n",
      "g++ 2_main.cpp -std=gnu++17 -O2 -DONLINE_JUDGE -o 2_main.cpp.out 2> /dev/null\n"
     ]
    },
    {
     "name": "stderr",
     "output_type": "stream",
     "text": [
      "\u001b[32m[I 2021-09-10 11:58:54,156]\u001b[0m Trial 227 finished with value: 1005701550.0 and parameters: {'K_START': 0.0586717807385607, 'K_END': 0.04838074637459558, 'K_H': 0.29021910144133456, 'PURCHASE_TURN_LIMIT': 840, 'SUBSCORE3_TIGHT_TURN': 0, 'ROUGH_HASH': '0'}. Best is trial 116 with value: 1010815661.0.\u001b[0m\n"
     ]
    },
    {
     "name": "stdout",
     "output_type": "stream",
     "text": [
      "callback ok\n",
      "index_parallel=3\n",
      "sed -i 3_main.cpp -e 's/^constexpr double K_START = .*;  \\/\\/ OPTIMIZE \\[0\\.02, 0\\.06\\] LOG$/constexpr double K_START = 0.05710532552536227;  \\/\\/ OPTIMIZE [0.02, 0.06] LOG/' -e 's/^constexpr double K_END = .*;   \\/\\/ OPTIMIZE \\[0\\.01, 0\\.05\\] LOG$/constexpr double K_END = 0.047006013742881714;   \\/\\/ OPTIMIZE [0.01, 0.05] LOG/' -e 's/^constexpr double K_H = .*;      \\/\\/ OPTIMIZE \\[0\\.001, 0\\.999\\]$/constexpr double K_H = 0.3051174409029155;      \\/\\/ OPTIMIZE [0.001, 0.999]/' -e 's/^constexpr short PURCHASE_TURN_LIMIT = .*;  \\/\\/ OPTIMIZE \\[790, 870\\]$/constexpr short PURCHASE_TURN_LIMIT = 842;  \\/\\/ OPTIMIZE [790, 870]/' -e 's/^constexpr int SUBSCORE3_TIGHT_TURN = .*;     \\/\\/ OPTIMIZE \\[0, 2\\]$/constexpr int SUBSCORE3_TIGHT_TURN = 0;     \\/\\/ OPTIMIZE [0, 2]/' -e 's/^constexpr int ROUGH_HASH = .*;      \\/\\/ OPTIMIZE {0, 0b00000001, 0b00010001, 0b00010011, 0b00110011}$/constexpr int ROUGH_HASH = 0;      \\/\\/ OPTIMIZE {0, 0b00000001, 0b00010001, 0b00010011, 0b00110011}/'\n",
      "g++ 3_main.cpp -std=gnu++17 -O2 -DONLINE_JUDGE -o 3_main.cpp.out 2> /dev/null\n"
     ]
    },
    {
     "name": "stderr",
     "output_type": "stream",
     "text": [
      "\u001b[32m[I 2021-09-10 12:00:34,576]\u001b[0m Trial 228 finished with value: 1007637697.0 and parameters: {'K_START': 0.05880726249420393, 'K_END': 0.04720623358733691, 'K_H': 0.2946545086738451, 'PURCHASE_TURN_LIMIT': 840, 'SUBSCORE3_TIGHT_TURN': 0, 'ROUGH_HASH': '0'}. Best is trial 116 with value: 1010815661.0.\u001b[0m\n"
     ]
    },
    {
     "name": "stdout",
     "output_type": "stream",
     "text": [
      "callback ok\n",
      "index_parallel=4\n",
      "sed -i 4_main.cpp -e 's/^constexpr double K_START = .*;  \\/\\/ OPTIMIZE \\[0\\.02, 0\\.06\\] LOG$/constexpr double K_START = 0.056622412513577164;  \\/\\/ OPTIMIZE [0.02, 0.06] LOG/' -e 's/^constexpr double K_END = .*;   \\/\\/ OPTIMIZE \\[0\\.01, 0\\.05\\] LOG$/constexpr double K_END = 0.01658117963467405;   \\/\\/ OPTIMIZE [0.01, 0.05] LOG/' -e 's/^constexpr double K_H = .*;      \\/\\/ OPTIMIZE \\[0\\.001, 0\\.999\\]$/constexpr double K_H = 0.30210687826488225;      \\/\\/ OPTIMIZE [0.001, 0.999]/' -e 's/^constexpr short PURCHASE_TURN_LIMIT = .*;  \\/\\/ OPTIMIZE \\[790, 870\\]$/constexpr short PURCHASE_TURN_LIMIT = 842;  \\/\\/ OPTIMIZE [790, 870]/' -e 's/^constexpr int SUBSCORE3_TIGHT_TURN = .*;     \\/\\/ OPTIMIZE \\[0, 2\\]$/constexpr int SUBSCORE3_TIGHT_TURN = 0;     \\/\\/ OPTIMIZE [0, 2]/' -e 's/^constexpr int ROUGH_HASH = .*;      \\/\\/ OPTIMIZE {0, 0b00000001, 0b00010001, 0b00010011, 0b00110011}$/constexpr int ROUGH_HASH = 0;      \\/\\/ OPTIMIZE {0, 0b00000001, 0b00010001, 0b00010011, 0b00110011}/'\n",
      "g++ 4_main.cpp -std=gnu++17 -O2 -DONLINE_JUDGE -o 4_main.cpp.out 2> /dev/null\n"
     ]
    },
    {
     "name": "stderr",
     "output_type": "stream",
     "text": [
      "\u001b[32m[I 2021-09-10 12:02:05,336]\u001b[0m Trial 229 finished with value: 1005164664.0 and parameters: {'K_START': 0.057139878890028056, 'K_END': 0.046759848605183806, 'K_H': 0.2978411574913721, 'PURCHASE_TURN_LIMIT': 843, 'SUBSCORE3_TIGHT_TURN': 0, 'ROUGH_HASH': '0'}. Best is trial 116 with value: 1010815661.0.\u001b[0m\n"
     ]
    },
    {
     "name": "stdout",
     "output_type": "stream",
     "text": [
      "callback ok\n",
      "index_parallel=5\n",
      "sed -i 5_main.cpp -e 's/^constexpr double K_START = .*;  \\/\\/ OPTIMIZE \\[0\\.02, 0\\.06\\] LOG$/constexpr double K_START = 0.05721705794433948;  \\/\\/ OPTIMIZE [0.02, 0.06] LOG/' -e 's/^constexpr double K_END = .*;   \\/\\/ OPTIMIZE \\[0\\.01, 0\\.05\\] LOG$/constexpr double K_END = 0.04706941321698016;   \\/\\/ OPTIMIZE [0.01, 0.05] LOG/' -e 's/^constexpr double K_H = .*;      \\/\\/ OPTIMIZE \\[0\\.001, 0\\.999\\]$/constexpr double K_H = 0.2719984518643904;      \\/\\/ OPTIMIZE [0.001, 0.999]/' -e 's/^constexpr short PURCHASE_TURN_LIMIT = .*;  \\/\\/ OPTIMIZE \\[790, 870\\]$/constexpr short PURCHASE_TURN_LIMIT = 842;  \\/\\/ OPTIMIZE [790, 870]/' -e 's/^constexpr int SUBSCORE3_TIGHT_TURN = .*;     \\/\\/ OPTIMIZE \\[0, 2\\]$/constexpr int SUBSCORE3_TIGHT_TURN = 0;     \\/\\/ OPTIMIZE [0, 2]/' -e 's/^constexpr int ROUGH_HASH = .*;      \\/\\/ OPTIMIZE {0, 0b00000001, 0b00010001, 0b00010011, 0b00110011}$/constexpr int ROUGH_HASH = 0;      \\/\\/ OPTIMIZE {0, 0b00000001, 0b00010001, 0b00010011, 0b00110011}/'\n",
      "g++ 5_main.cpp -std=gnu++17 -O2 -DONLINE_JUDGE -o 5_main.cpp.out 2> /dev/null\n"
     ]
    },
    {
     "name": "stderr",
     "output_type": "stream",
     "text": [
      "\u001b[32m[I 2021-09-10 12:02:08,363]\u001b[0m Trial 230 finished with value: 986773833.0 and parameters: {'K_START': 0.05700748616934022, 'K_END': 0.024254697152204487, 'K_H': 0.29745756485467484, 'PURCHASE_TURN_LIMIT': 842, 'SUBSCORE3_TIGHT_TURN': 0, 'ROUGH_HASH': '0'}. Best is trial 116 with value: 1010815661.0.\u001b[0m\n"
     ]
    },
    {
     "name": "stdout",
     "output_type": "stream",
     "text": [
      "callback ok\n",
      "index_parallel=6\n",
      "sed -i 6_main.cpp -e 's/^constexpr double K_START = .*;  \\/\\/ OPTIMIZE \\[0\\.02, 0\\.06\\] LOG$/constexpr double K_START = 0.05999013006633017;  \\/\\/ OPTIMIZE [0.02, 0.06] LOG/' -e 's/^constexpr double K_END = .*;   \\/\\/ OPTIMIZE \\[0\\.01, 0\\.05\\] LOG$/constexpr double K_END = 0.04999407040918904;   \\/\\/ OPTIMIZE [0.01, 0.05] LOG/' -e 's/^constexpr double K_H = .*;      \\/\\/ OPTIMIZE \\[0\\.001, 0\\.999\\]$/constexpr double K_H = 0.27759922613607735;      \\/\\/ OPTIMIZE [0.001, 0.999]/' -e 's/^constexpr short PURCHASE_TURN_LIMIT = .*;  \\/\\/ OPTIMIZE \\[790, 870\\]$/constexpr short PURCHASE_TURN_LIMIT = 838;  \\/\\/ OPTIMIZE [790, 870]/' -e 's/^constexpr int SUBSCORE3_TIGHT_TURN = .*;     \\/\\/ OPTIMIZE \\[0, 2\\]$/constexpr int SUBSCORE3_TIGHT_TURN = 0;     \\/\\/ OPTIMIZE [0, 2]/' -e 's/^constexpr int ROUGH_HASH = .*;      \\/\\/ OPTIMIZE {0, 0b00000001, 0b00010001, 0b00010011, 0b00110011}$/constexpr int ROUGH_HASH = 0;      \\/\\/ OPTIMIZE {0, 0b00000001, 0b00010001, 0b00010011, 0b00110011}/'\n",
      "g++ 6_main.cpp -std=gnu++17 -O2 -DONLINE_JUDGE -o 6_main.cpp.out 2> /dev/null\n"
     ]
    },
    {
     "name": "stderr",
     "output_type": "stream",
     "text": [
      "\u001b[32m[I 2021-09-10 12:03:39,521]\u001b[0m Trial 231 finished with value: 1008323682.0 and parameters: {'K_START': 0.05710532552536227, 'K_END': 0.047006013742881714, 'K_H': 0.3051174409029155, 'PURCHASE_TURN_LIMIT': 842, 'SUBSCORE3_TIGHT_TURN': 0, 'ROUGH_HASH': '0'}. Best is trial 116 with value: 1010815661.0.\u001b[0m\n"
     ]
    },
    {
     "name": "stdout",
     "output_type": "stream",
     "text": [
      "callback ok\n",
      "index_parallel=7\n",
      "sed -i 7_main.cpp -e 's/^constexpr double K_START = .*;  \\/\\/ OPTIMIZE \\[0\\.02, 0\\.06\\] LOG$/constexpr double K_START = 0.05626690635636115;  \\/\\/ OPTIMIZE [0.02, 0.06] LOG/' -e 's/^constexpr double K_END = .*;   \\/\\/ OPTIMIZE \\[0\\.01, 0\\.05\\] LOG$/constexpr double K_END = 0.046808293995243694;   \\/\\/ OPTIMIZE [0.01, 0.05] LOG/' -e 's/^constexpr double K_H = .*;      \\/\\/ OPTIMIZE \\[0\\.001, 0\\.999\\]$/constexpr double K_H = 0.283295862956748;      \\/\\/ OPTIMIZE [0.001, 0.999]/' -e 's/^constexpr short PURCHASE_TURN_LIMIT = .*;  \\/\\/ OPTIMIZE \\[790, 870\\]$/constexpr short PURCHASE_TURN_LIMIT = 838;  \\/\\/ OPTIMIZE [790, 870]/' -e 's/^constexpr int SUBSCORE3_TIGHT_TURN = .*;     \\/\\/ OPTIMIZE \\[0, 2\\]$/constexpr int SUBSCORE3_TIGHT_TURN = 0;     \\/\\/ OPTIMIZE [0, 2]/' -e 's/^constexpr int ROUGH_HASH = .*;      \\/\\/ OPTIMIZE {0, 0b00000001, 0b00010001, 0b00010011, 0b00110011}$/constexpr int ROUGH_HASH = 0;      \\/\\/ OPTIMIZE {0, 0b00000001, 0b00010001, 0b00010011, 0b00110011}/'\n",
      "g++ 7_main.cpp -std=gnu++17 -O2 -DONLINE_JUDGE -o 7_main.cpp.out 2> /dev/null\n"
     ]
    },
    {
     "name": "stderr",
     "output_type": "stream",
     "text": [
      "\u001b[32m[I 2021-09-10 12:05:19,660]\u001b[0m Trial 232 finished with value: 967941459.0 and parameters: {'K_START': 0.056622412513577164, 'K_END': 0.01658117963467405, 'K_H': 0.30210687826488225, 'PURCHASE_TURN_LIMIT': 842, 'SUBSCORE3_TIGHT_TURN': 0, 'ROUGH_HASH': '0'}. Best is trial 116 with value: 1010815661.0.\u001b[0m\n"
     ]
    },
    {
     "name": "stdout",
     "output_type": "stream",
     "text": [
      "callback ok\n",
      "index_parallel=8\n",
      "sed -i 8_main.cpp -e 's/^constexpr double K_START = .*;  \\/\\/ OPTIMIZE \\[0\\.02, 0\\.06\\] LOG$/constexpr double K_START = 0.0599748677453755;  \\/\\/ OPTIMIZE [0.02, 0.06] LOG/' -e 's/^constexpr double K_END = .*;   \\/\\/ OPTIMIZE \\[0\\.01, 0\\.05\\] LOG$/constexpr double K_END = 0.046977899669985626;   \\/\\/ OPTIMIZE [0.01, 0.05] LOG/' -e 's/^constexpr double K_H = .*;      \\/\\/ OPTIMIZE \\[0\\.001, 0\\.999\\]$/constexpr double K_H = 0.2762965491055639;      \\/\\/ OPTIMIZE [0.001, 0.999]/' -e 's/^constexpr short PURCHASE_TURN_LIMIT = .*;  \\/\\/ OPTIMIZE \\[790, 870\\]$/constexpr short PURCHASE_TURN_LIMIT = 838;  \\/\\/ OPTIMIZE [790, 870]/' -e 's/^constexpr int SUBSCORE3_TIGHT_TURN = .*;     \\/\\/ OPTIMIZE \\[0, 2\\]$/constexpr int SUBSCORE3_TIGHT_TURN = 0;     \\/\\/ OPTIMIZE [0, 2]/' -e 's/^constexpr int ROUGH_HASH = .*;      \\/\\/ OPTIMIZE {0, 0b00000001, 0b00010001, 0b00010011, 0b00110011}$/constexpr int ROUGH_HASH = 0;      \\/\\/ OPTIMIZE {0, 0b00000001, 0b00010001, 0b00010011, 0b00110011}/'\n",
      "g++ 8_main.cpp -std=gnu++17 -O2 -DONLINE_JUDGE -o 8_main.cpp.out 2> /dev/null\n"
     ]
    },
    {
     "name": "stderr",
     "output_type": "stream",
     "text": [
      "\u001b[32m[I 2021-09-10 12:06:49,627]\u001b[0m Trial 233 finished with value: 1007064853.0 and parameters: {'K_START': 0.05721705794433948, 'K_END': 0.04706941321698016, 'K_H': 0.2719984518643904, 'PURCHASE_TURN_LIMIT': 842, 'SUBSCORE3_TIGHT_TURN': 0, 'ROUGH_HASH': '0'}. Best is trial 116 with value: 1010815661.0.\u001b[0m\n"
     ]
    },
    {
     "name": "stdout",
     "output_type": "stream",
     "text": [
      "callback ok\n",
      "index_parallel=9\n"
     ]
    },
    {
     "name": "stderr",
     "output_type": "stream",
     "text": [
      "\u001b[32m[I 2021-09-10 12:06:50,297]\u001b[0m Trial 234 finished with value: 1005904363.0 and parameters: {'K_START': 0.05999013006633017, 'K_END': 0.04999407040918904, 'K_H': 0.27759922613607735, 'PURCHASE_TURN_LIMIT': 838, 'SUBSCORE3_TIGHT_TURN': 0, 'ROUGH_HASH': '0'}. Best is trial 116 with value: 1010815661.0.\u001b[0m\n"
     ]
    },
    {
     "name": "stdout",
     "output_type": "stream",
     "text": [
      "callback ok\n",
      "index_parallel=10\n",
      "sed -i 9_main.cpp -e 's/^constexpr double K_START = .*;  \\/\\/ OPTIMIZE \\[0\\.02, 0\\.06\\] LOG$/constexpr double K_START = 0.05539450028135608;  \\/\\/ OPTIMIZE [0.02, 0.06] LOG/' -e 's/^constexpr double K_END = .*;   \\/\\/ OPTIMIZE \\[0\\.01, 0\\.05\\] LOG$/constexpr double K_END = 0.046997252276578624;   \\/\\/ OPTIMIZE [0.01, 0.05] LOG/' -e 's/^constexpr double K_H = .*;      \\/\\/ OPTIMIZE \\[0\\.001, 0\\.999\\]$/constexpr double K_H = 0.3135716390390578;      \\/\\/ OPTIMIZE [0.001, 0.999]/' -e 's/^constexpr short PURCHASE_TURN_LIMIT = .*;  \\/\\/ OPTIMIZE \\[790, 870\\]$/constexpr short PURCHASE_TURN_LIMIT = 836;  \\/\\/ OPTIMIZE [790, 870]/' -e 's/^constexpr int SUBSCORE3_TIGHT_TURN = .*;     \\/\\/ OPTIMIZE \\[0, 2\\]$/constexpr int SUBSCORE3_TIGHT_TURN = 0;     \\/\\/ OPTIMIZE [0, 2]/' -e 's/^constexpr int ROUGH_HASH = .*;      \\/\\/ OPTIMIZE {0, 0b00000001, 0b00010001, 0b00010011, 0b00110011}$/constexpr int ROUGH_HASH = 0;      \\/\\/ OPTIMIZE {0, 0b00000001, 0b00010001, 0b00010011, 0b00110011}/'\n",
      "g++ 9_main.cpp -std=gnu++17 -O2 -DONLINE_JUDGE -o 9_main.cpp.out 2> /dev/null\n",
      "sed -i 10_main.cpp -e 's/^constexpr double K_START = .*;  \\/\\/ OPTIMIZE \\[0\\.02, 0\\.06\\] LOG$/constexpr double K_START = 0.057978519528884935;  \\/\\/ OPTIMIZE [0.02, 0.06] LOG/' -e 's/^constexpr double K_END = .*;   \\/\\/ OPTIMIZE \\[0\\.01, 0\\.05\\] LOG$/constexpr double K_END = 0.047062545921532396;   \\/\\/ OPTIMIZE [0.01, 0.05] LOG/' -e 's/^constexpr double K_H = .*;      \\/\\/ OPTIMIZE \\[0\\.001, 0\\.999\\]$/constexpr double K_H = 0.31438417525796253;      \\/\\/ OPTIMIZE [0.001, 0.999]/' -e 's/^constexpr short PURCHASE_TURN_LIMIT = .*;  \\/\\/ OPTIMIZE \\[790, 870\\]$/constexpr short PURCHASE_TURN_LIMIT = 836;  \\/\\/ OPTIMIZE [790, 870]/' -e 's/^constexpr int SUBSCORE3_TIGHT_TURN = .*;     \\/\\/ OPTIMIZE \\[0, 2\\]$/constexpr int SUBSCORE3_TIGHT_TURN = 0;     \\/\\/ OPTIMIZE [0, 2]/' -e 's/^constexpr int ROUGH_HASH = .*;      \\/\\/ OPTIMIZE {0, 0b00000001, 0b00010001, 0b00010011, 0b00110011}$/constexpr int ROUGH_HASH = 0;      \\/\\/ OPTIMIZE {0, 0b00000001, 0b00010001, 0b00010011, 0b00110011}/'\n",
      "g++ 10_main.cpp -std=gnu++17 -O2 -DONLINE_JUDGE -o 10_main.cpp.out 2> /dev/null\n"
     ]
    },
    {
     "name": "stderr",
     "output_type": "stream",
     "text": [
      "\u001b[32m[I 2021-09-10 12:08:22,963]\u001b[0m Trial 235 finished with value: 1007062971.0 and parameters: {'K_START': 0.05626690635636115, 'K_END': 0.046808293995243694, 'K_H': 0.283295862956748, 'PURCHASE_TURN_LIMIT': 838, 'SUBSCORE3_TIGHT_TURN': 0, 'ROUGH_HASH': '0'}. Best is trial 116 with value: 1010815661.0.\u001b[0m\n"
     ]
    },
    {
     "name": "stdout",
     "output_type": "stream",
     "text": [
      "callback ok\n",
      "index_parallel=11\n",
      "sed -i 11_main.cpp -e 's/^constexpr double K_START = .*;  \\/\\/ OPTIMIZE \\[0\\.02, 0\\.06\\] LOG$/constexpr double K_START = 0.05780360851500325;  \\/\\/ OPTIMIZE [0.02, 0.06] LOG/' -e 's/^constexpr double K_END = .*;   \\/\\/ OPTIMIZE \\[0\\.01, 0\\.05\\] LOG$/constexpr double K_END = 0.04713710139608694;   \\/\\/ OPTIMIZE [0.01, 0.05] LOG/' -e 's/^constexpr double K_H = .*;      \\/\\/ OPTIMIZE \\[0\\.001, 0\\.999\\]$/constexpr double K_H = 0.31538922461803887;      \\/\\/ OPTIMIZE [0.001, 0.999]/' -e 's/^constexpr short PURCHASE_TURN_LIMIT = .*;  \\/\\/ OPTIMIZE \\[790, 870\\]$/constexpr short PURCHASE_TURN_LIMIT = 836;  \\/\\/ OPTIMIZE [790, 870]/' -e 's/^constexpr int SUBSCORE3_TIGHT_TURN = .*;     \\/\\/ OPTIMIZE \\[0, 2\\]$/constexpr int SUBSCORE3_TIGHT_TURN = 0;     \\/\\/ OPTIMIZE [0, 2]/' -e 's/^constexpr int ROUGH_HASH = .*;      \\/\\/ OPTIMIZE {0, 0b00000001, 0b00010001, 0b00010011, 0b00110011}$/constexpr int ROUGH_HASH = 0;      \\/\\/ OPTIMIZE {0, 0b00000001, 0b00010001, 0b00010011, 0b00110011}/'\n",
      "g++ 11_main.cpp -std=gnu++17 -O2 -DONLINE_JUDGE -o 11_main.cpp.out 2> /dev/null\n"
     ]
    },
    {
     "name": "stderr",
     "output_type": "stream",
     "text": [
      "\u001b[32m[I 2021-09-10 12:10:02,210]\u001b[0m Trial 236 finished with value: 1005654464.0 and parameters: {'K_START': 0.0599748677453755, 'K_END': 0.046977899669985626, 'K_H': 0.2762965491055639, 'PURCHASE_TURN_LIMIT': 838, 'SUBSCORE3_TIGHT_TURN': 0, 'ROUGH_HASH': '0'}. Best is trial 116 with value: 1010815661.0.\u001b[0m\n"
     ]
    },
    {
     "name": "stdout",
     "output_type": "stream",
     "text": [
      "callback ok\n",
      "index_parallel=0\n",
      "sed -i 0_main.cpp -e 's/^constexpr double K_START = .*;  \\/\\/ OPTIMIZE \\[0\\.02, 0\\.06\\] LOG$/constexpr double K_START = 0.05795393295025589;  \\/\\/ OPTIMIZE [0.02, 0.06] LOG/' -e 's/^constexpr double K_END = .*;   \\/\\/ OPTIMIZE \\[0\\.01, 0\\.05\\] LOG$/constexpr double K_END = 0.04871239093192184;   \\/\\/ OPTIMIZE [0.01, 0.05] LOG/' -e 's/^constexpr double K_H = .*;      \\/\\/ OPTIMIZE \\[0\\.001, 0\\.999\\]$/constexpr double K_H = 0.3127648399562101;      \\/\\/ OPTIMIZE [0.001, 0.999]/' -e 's/^constexpr short PURCHASE_TURN_LIMIT = .*;  \\/\\/ OPTIMIZE \\[790, 870\\]$/constexpr short PURCHASE_TURN_LIMIT = 836;  \\/\\/ OPTIMIZE [790, 870]/' -e 's/^constexpr int SUBSCORE3_TIGHT_TURN = .*;     \\/\\/ OPTIMIZE \\[0, 2\\]$/constexpr int SUBSCORE3_TIGHT_TURN = 0;     \\/\\/ OPTIMIZE [0, 2]/' -e 's/^constexpr int ROUGH_HASH = .*;      \\/\\/ OPTIMIZE {0, 0b00000001, 0b00010001, 0b00010011, 0b00110011}$/constexpr int ROUGH_HASH = 0;      \\/\\/ OPTIMIZE {0, 0b00000001, 0b00010001, 0b00010011, 0b00110011}/'\n",
      "g++ 0_main.cpp -std=gnu++17 -O2 -DONLINE_JUDGE -o 0_main.cpp.out 2> /dev/null\n"
     ]
    },
    {
     "name": "stderr",
     "output_type": "stream",
     "text": [
      "\u001b[32m[I 2021-09-10 12:11:35,040]\u001b[0m Trial 237 finished with value: 1007130781.0 and parameters: {'K_START': 0.05539450028135608, 'K_END': 0.046997252276578624, 'K_H': 0.3135716390390578, 'PURCHASE_TURN_LIMIT': 836, 'SUBSCORE3_TIGHT_TURN': 0, 'ROUGH_HASH': '0'}. Best is trial 116 with value: 1010815661.0.\u001b[0m\n"
     ]
    },
    {
     "name": "stdout",
     "output_type": "stream",
     "text": [
      "callback ok\n",
      "index_parallel=1\n"
     ]
    },
    {
     "name": "stderr",
     "output_type": "stream",
     "text": [
      "\u001b[32m[I 2021-09-10 12:11:35,403]\u001b[0m Trial 238 finished with value: 1006743566.0 and parameters: {'K_START': 0.057978519528884935, 'K_END': 0.047062545921532396, 'K_H': 0.31438417525796253, 'PURCHASE_TURN_LIMIT': 836, 'SUBSCORE3_TIGHT_TURN': 0, 'ROUGH_HASH': '0'}. Best is trial 116 with value: 1010815661.0.\u001b[0m\n"
     ]
    },
    {
     "name": "stdout",
     "output_type": "stream",
     "text": [
      "callback ok\n",
      "index_parallel=2\n",
      "sed -i 1_main.cpp -e 's/^constexpr double K_START = .*;  \\/\\/ OPTIMIZE \\[0\\.02, 0\\.06\\] LOG$/constexpr double K_START = 0.05784843877822375;  \\/\\/ OPTIMIZE [0.02, 0.06] LOG/' -e 's/^constexpr double K_END = .*;   \\/\\/ OPTIMIZE \\[0\\.01, 0\\.05\\] LOG$/constexpr double K_END = 0.04995006062518697;   \\/\\/ OPTIMIZE [0.01, 0.05] LOG/' -e 's/^constexpr double K_H = .*;      \\/\\/ OPTIMIZE \\[0\\.001, 0\\.999\\]$/constexpr double K_H = 0.2354071457767046;      \\/\\/ OPTIMIZE [0.001, 0.999]/' -e 's/^constexpr short PURCHASE_TURN_LIMIT = .*;  \\/\\/ OPTIMIZE \\[790, 870\\]$/constexpr short PURCHASE_TURN_LIMIT = 844;  \\/\\/ OPTIMIZE [790, 870]/' -e 's/^constexpr int SUBSCORE3_TIGHT_TURN = .*;     \\/\\/ OPTIMIZE \\[0, 2\\]$/constexpr int SUBSCORE3_TIGHT_TURN = 0;     \\/\\/ OPTIMIZE [0, 2]/' -e 's/^constexpr int ROUGH_HASH = .*;      \\/\\/ OPTIMIZE {0, 0b00000001, 0b00010001, 0b00010011, 0b00110011}$/constexpr int ROUGH_HASH = 0;      \\/\\/ OPTIMIZE {0, 0b00000001, 0b00010001, 0b00010011, 0b00110011}/'\n",
      "g++ 1_main.cpp -std=gnu++17 -O2 -DONLINE_JUDGE -o 1_main.cpp.out 2> /dev/null\n",
      "sed -i 2_main.cpp -e 's/^constexpr double K_START = .*;  \\/\\/ OPTIMIZE \\[0\\.02, 0\\.06\\] LOG$/constexpr double K_START = 0.05786841597217507;  \\/\\/ OPTIMIZE [0.02, 0.06] LOG/' -e 's/^constexpr double K_END = .*;   \\/\\/ OPTIMIZE \\[0\\.01, 0\\.05\\] LOG$/constexpr double K_END = 0.04885921030819314;   \\/\\/ OPTIMIZE [0.01, 0.05] LOG/' -e 's/^constexpr double K_H = .*;      \\/\\/ OPTIMIZE \\[0\\.001, 0\\.999\\]$/constexpr double K_H = 0.2384779483381905;      \\/\\/ OPTIMIZE [0.001, 0.999]/' -e 's/^constexpr short PURCHASE_TURN_LIMIT = .*;  \\/\\/ OPTIMIZE \\[790, 870\\]$/constexpr short PURCHASE_TURN_LIMIT = 844;  \\/\\/ OPTIMIZE [790, 870]/' -e 's/^constexpr int SUBSCORE3_TIGHT_TURN = .*;     \\/\\/ OPTIMIZE \\[0, 2\\]$/constexpr int SUBSCORE3_TIGHT_TURN = 0;     \\/\\/ OPTIMIZE [0, 2]/' -e 's/^constexpr int ROUGH_HASH = .*;      \\/\\/ OPTIMIZE {0, 0b00000001, 0b00010001, 0b00010011, 0b00110011}$/constexpr int ROUGH_HASH = 0;      \\/\\/ OPTIMIZE {0, 0b00000001, 0b00010001, 0b00010011, 0b00110011}/'\n",
      "g++ 2_main.cpp -std=gnu++17 -O2 -DONLINE_JUDGE -o 2_main.cpp.out 2> /dev/null\n"
     ]
    },
    {
     "name": "stderr",
     "output_type": "stream",
     "text": [
      "\u001b[32m[I 2021-09-10 12:13:05,848]\u001b[0m Trial 239 finished with value: 1005176267.0 and parameters: {'K_START': 0.05780360851500325, 'K_END': 0.04713710139608694, 'K_H': 0.31538922461803887, 'PURCHASE_TURN_LIMIT': 836, 'SUBSCORE3_TIGHT_TURN': 0, 'ROUGH_HASH': '0'}. Best is trial 116 with value: 1010815661.0.\u001b[0m\n"
     ]
    },
    {
     "name": "stdout",
     "output_type": "stream",
     "text": [
      "callback ok\n",
      "index_parallel=3\n",
      "sed -i 3_main.cpp -e 's/^constexpr double K_START = .*;  \\/\\/ OPTIMIZE \\[0\\.02, 0\\.06\\] LOG$/constexpr double K_START = 0.058701968195397726;  \\/\\/ OPTIMIZE [0.02, 0.06] LOG/' -e 's/^constexpr double K_END = .*;   \\/\\/ OPTIMIZE \\[0\\.01, 0\\.05\\] LOG$/constexpr double K_END = 0.048835160300979286;   \\/\\/ OPTIMIZE [0.01, 0.05] LOG/' -e 's/^constexpr double K_H = .*;      \\/\\/ OPTIMIZE \\[0\\.001, 0\\.999\\]$/constexpr double K_H = 0.2358689807408362;      \\/\\/ OPTIMIZE [0.001, 0.999]/' -e 's/^constexpr short PURCHASE_TURN_LIMIT = .*;  \\/\\/ OPTIMIZE \\[790, 870\\]$/constexpr short PURCHASE_TURN_LIMIT = 867;  \\/\\/ OPTIMIZE [790, 870]/' -e 's/^constexpr int SUBSCORE3_TIGHT_TURN = .*;     \\/\\/ OPTIMIZE \\[0, 2\\]$/constexpr int SUBSCORE3_TIGHT_TURN = 0;     \\/\\/ OPTIMIZE [0, 2]/' -e 's/^constexpr int ROUGH_HASH = .*;      \\/\\/ OPTIMIZE {0, 0b00000001, 0b00010001, 0b00010011, 0b00110011}$/constexpr int ROUGH_HASH = 0;      \\/\\/ OPTIMIZE {0, 0b00000001, 0b00010001, 0b00010011, 0b00110011}/'\n",
      "g++ 3_main.cpp -std=gnu++17 -O2 -DONLINE_JUDGE -o 3_main.cpp.out 2> /dev/null\n"
     ]
    },
    {
     "name": "stderr",
     "output_type": "stream",
     "text": [
      "\u001b[32m[I 2021-09-10 12:14:43,544]\u001b[0m Trial 240 finished with value: 1005812205.0 and parameters: {'K_START': 0.05795393295025589, 'K_END': 0.04871239093192184, 'K_H': 0.3127648399562101, 'PURCHASE_TURN_LIMIT': 836, 'SUBSCORE3_TIGHT_TURN': 0, 'ROUGH_HASH': '0'}. Best is trial 116 with value: 1010815661.0.\u001b[0m\n"
     ]
    },
    {
     "name": "stdout",
     "output_type": "stream",
     "text": [
      "callback ok\n",
      "index_parallel=4\n",
      "sed -i 4_main.cpp -e 's/^constexpr double K_START = .*;  \\/\\/ OPTIMIZE \\[0\\.02, 0\\.06\\] LOG$/constexpr double K_START = 0.05901132806999921;  \\/\\/ OPTIMIZE [0.02, 0.06] LOG/' -e 's/^constexpr double K_END = .*;   \\/\\/ OPTIMIZE \\[0\\.01, 0\\.05\\] LOG$/constexpr double K_END = 0.0490994619417769;   \\/\\/ OPTIMIZE [0.01, 0.05] LOG/' -e 's/^constexpr double K_H = .*;      \\/\\/ OPTIMIZE \\[0\\.001, 0\\.999\\]$/constexpr double K_H = 0.29809940535810964;      \\/\\/ OPTIMIZE [0.001, 0.999]/' -e 's/^constexpr short PURCHASE_TURN_LIMIT = .*;  \\/\\/ OPTIMIZE \\[790, 870\\]$/constexpr short PURCHASE_TURN_LIMIT = 840;  \\/\\/ OPTIMIZE [790, 870]/' -e 's/^constexpr int SUBSCORE3_TIGHT_TURN = .*;     \\/\\/ OPTIMIZE \\[0, 2\\]$/constexpr int SUBSCORE3_TIGHT_TURN = 0;     \\/\\/ OPTIMIZE [0, 2]/' -e 's/^constexpr int ROUGH_HASH = .*;      \\/\\/ OPTIMIZE {0, 0b00000001, 0b00010001, 0b00010011, 0b00110011}$/constexpr int ROUGH_HASH = 0;      \\/\\/ OPTIMIZE {0, 0b00000001, 0b00010001, 0b00010011, 0b00110011}/'\n",
      "g++ 4_main.cpp -std=gnu++17 -O2 -DONLINE_JUDGE -o 4_main.cpp.out 2> /dev/null\n"
     ]
    },
    {
     "name": "stderr",
     "output_type": "stream",
     "text": [
      "\u001b[32m[I 2021-09-10 12:16:16,139]\u001b[0m Trial 241 finished with value: 1005125531.0 and parameters: {'K_START': 0.05784843877822375, 'K_END': 0.04995006062518697, 'K_H': 0.2354071457767046, 'PURCHASE_TURN_LIMIT': 844, 'SUBSCORE3_TIGHT_TURN': 0, 'ROUGH_HASH': '0'}. Best is trial 116 with value: 1010815661.0.\u001b[0m\n"
     ]
    },
    {
     "name": "stdout",
     "output_type": "stream",
     "text": [
      "callback ok\n",
      "index_parallel=5\n",
      "sed -i 5_main.cpp -e 's/^constexpr double K_START = .*;  \\/\\/ OPTIMIZE \\[0\\.02, 0\\.06\\] LOG$/constexpr double K_START = 0.05884364919700238;  \\/\\/ OPTIMIZE [0.02, 0.06] LOG/' -e 's/^constexpr double K_END = .*;   \\/\\/ OPTIMIZE \\[0\\.01, 0\\.05\\] LOG$/constexpr double K_END = 0.04846389053175731;   \\/\\/ OPTIMIZE [0.01, 0.05] LOG/' -e 's/^constexpr double K_H = .*;      \\/\\/ OPTIMIZE \\[0\\.001, 0\\.999\\]$/constexpr double K_H = 0.2945561696697455;      \\/\\/ OPTIMIZE [0.001, 0.999]/' -e 's/^constexpr short PURCHASE_TURN_LIMIT = .*;  \\/\\/ OPTIMIZE \\[790, 870\\]$/constexpr short PURCHASE_TURN_LIMIT = 840;  \\/\\/ OPTIMIZE [790, 870]/' -e 's/^constexpr int SUBSCORE3_TIGHT_TURN = .*;     \\/\\/ OPTIMIZE \\[0, 2\\]$/constexpr int SUBSCORE3_TIGHT_TURN = 0;     \\/\\/ OPTIMIZE [0, 2]/' -e 's/^constexpr int ROUGH_HASH = .*;      \\/\\/ OPTIMIZE {0, 0b00000001, 0b00010001, 0b00010011, 0b00110011}$/constexpr int ROUGH_HASH = 0;      \\/\\/ OPTIMIZE {0, 0b00000001, 0b00010001, 0b00010011, 0b00110011}/'\n",
      "g++ 5_main.cpp -std=gnu++17 -O2 -DONLINE_JUDGE -o 5_main.cpp.out 2> /dev/null\n"
     ]
    },
    {
     "name": "stderr",
     "output_type": "stream",
     "text": [
      "\u001b[32m[I 2021-09-10 12:16:20,050]\u001b[0m Trial 242 finished with value: 1005923326.0 and parameters: {'K_START': 0.05786841597217507, 'K_END': 0.04885921030819314, 'K_H': 0.2384779483381905, 'PURCHASE_TURN_LIMIT': 844, 'SUBSCORE3_TIGHT_TURN': 0, 'ROUGH_HASH': '0'}. Best is trial 116 with value: 1010815661.0.\u001b[0m\n"
     ]
    },
    {
     "name": "stdout",
     "output_type": "stream",
     "text": [
      "callback ok\n",
      "index_parallel=6\n",
      "sed -i 6_main.cpp -e 's/^constexpr double K_START = .*;  \\/\\/ OPTIMIZE \\[0\\.02, 0\\.06\\] LOG$/constexpr double K_START = 0.03670364130071487;  \\/\\/ OPTIMIZE [0.02, 0.06] LOG/' -e 's/^constexpr double K_END = .*;   \\/\\/ OPTIMIZE \\[0\\.01, 0\\.05\\] LOG$/constexpr double K_END = 0.048499596085805036;   \\/\\/ OPTIMIZE [0.01, 0.05] LOG/' -e 's/^constexpr double K_H = .*;      \\/\\/ OPTIMIZE \\[0\\.001, 0\\.999\\]$/constexpr double K_H = 0.29887934456962206;      \\/\\/ OPTIMIZE [0.001, 0.999]/' -e 's/^constexpr short PURCHASE_TURN_LIMIT = .*;  \\/\\/ OPTIMIZE \\[790, 870\\]$/constexpr short PURCHASE_TURN_LIMIT = 840;  \\/\\/ OPTIMIZE [790, 870]/' -e 's/^constexpr int SUBSCORE3_TIGHT_TURN = .*;     \\/\\/ OPTIMIZE \\[0, 2\\]$/constexpr int SUBSCORE3_TIGHT_TURN = 0;     \\/\\/ OPTIMIZE [0, 2]/' -e 's/^constexpr int ROUGH_HASH = .*;      \\/\\/ OPTIMIZE {0, 0b00000001, 0b00010001, 0b00010011, 0b00110011}$/constexpr int ROUGH_HASH = 0;      \\/\\/ OPTIMIZE {0, 0b00000001, 0b00010001, 0b00010011, 0b00110011}/'\n",
      "g++ 6_main.cpp -std=gnu++17 -O2 -DONLINE_JUDGE -o 6_main.cpp.out 2> /dev/null\n"
     ]
    },
    {
     "name": "stderr",
     "output_type": "stream",
     "text": [
      "\u001b[32m[I 2021-09-10 12:17:57,601]\u001b[0m Trial 243 finished with value: 983631734.0 and parameters: {'K_START': 0.058701968195397726, 'K_END': 0.048835160300979286, 'K_H': 0.2358689807408362, 'PURCHASE_TURN_LIMIT': 867, 'SUBSCORE3_TIGHT_TURN': 0, 'ROUGH_HASH': '0'}. Best is trial 116 with value: 1010815661.0.\u001b[0m\n"
     ]
    },
    {
     "name": "stdout",
     "output_type": "stream",
     "text": [
      "callback ok\n",
      "index_parallel=7\n",
      "sed -i 7_main.cpp -e 's/^constexpr double K_START = .*;  \\/\\/ OPTIMIZE \\[0\\.02, 0\\.06\\] LOG$/constexpr double K_START = 0.05997978366790607;  \\/\\/ OPTIMIZE [0.02, 0.06] LOG/' -e 's/^constexpr double K_END = .*;   \\/\\/ OPTIMIZE \\[0\\.01, 0\\.05\\] LOG$/constexpr double K_END = 0.04541068783496232;   \\/\\/ OPTIMIZE [0.01, 0.05] LOG/' -e 's/^constexpr double K_H = .*;      \\/\\/ OPTIMIZE \\[0\\.001, 0\\.999\\]$/constexpr double K_H = 0.29167480218884706;      \\/\\/ OPTIMIZE [0.001, 0.999]/' -e 's/^constexpr short PURCHASE_TURN_LIMIT = .*;  \\/\\/ OPTIMIZE \\[790, 870\\]$/constexpr short PURCHASE_TURN_LIMIT = 841;  \\/\\/ OPTIMIZE [790, 870]/' -e 's/^constexpr int SUBSCORE3_TIGHT_TURN = .*;     \\/\\/ OPTIMIZE \\[0, 2\\]$/constexpr int SUBSCORE3_TIGHT_TURN = 0;     \\/\\/ OPTIMIZE [0, 2]/' -e 's/^constexpr int ROUGH_HASH = .*;      \\/\\/ OPTIMIZE {0, 0b00000001, 0b00010001, 0b00010011, 0b00110011}$/constexpr int ROUGH_HASH = 0;      \\/\\/ OPTIMIZE {0, 0b00000001, 0b00010001, 0b00010011, 0b00110011}/'\n",
      "g++ 7_main.cpp -std=gnu++17 -O2 -DONLINE_JUDGE -o 7_main.cpp.out 2> /dev/null\n"
     ]
    },
    {
     "name": "stderr",
     "output_type": "stream",
     "text": [
      "\u001b[32m[I 2021-09-10 12:19:25,407]\u001b[0m Trial 244 finished with value: 1006538120.0 and parameters: {'K_START': 0.05901132806999921, 'K_END': 0.0490994619417769, 'K_H': 0.29809940535810964, 'PURCHASE_TURN_LIMIT': 840, 'SUBSCORE3_TIGHT_TURN': 0, 'ROUGH_HASH': '0'}. Best is trial 116 with value: 1010815661.0.\u001b[0m\n"
     ]
    },
    {
     "name": "stdout",
     "output_type": "stream",
     "text": [
      "callback ok\n",
      "index_parallel=8\n",
      "sed -i 8_main.cpp -e 's/^constexpr double K_START = .*;  \\/\\/ OPTIMIZE \\[0\\.02, 0\\.06\\] LOG$/constexpr double K_START = 0.05895216104220053;  \\/\\/ OPTIMIZE [0.02, 0.06] LOG/' -e 's/^constexpr double K_END = .*;   \\/\\/ OPTIMIZE \\[0\\.01, 0\\.05\\] LOG$/constexpr double K_END = 0.04529607963642262;   \\/\\/ OPTIMIZE [0.01, 0.05] LOG/' -e 's/^constexpr double K_H = .*;      \\/\\/ OPTIMIZE \\[0\\.001, 0\\.999\\]$/constexpr double K_H = 0.2629032160417316;      \\/\\/ OPTIMIZE [0.001, 0.999]/' -e 's/^constexpr short PURCHASE_TURN_LIMIT = .*;  \\/\\/ OPTIMIZE \\[790, 870\\]$/constexpr short PURCHASE_TURN_LIMIT = 841;  \\/\\/ OPTIMIZE [790, 870]/' -e 's/^constexpr int SUBSCORE3_TIGHT_TURN = .*;     \\/\\/ OPTIMIZE \\[0, 2\\]$/constexpr int SUBSCORE3_TIGHT_TURN = 0;     \\/\\/ OPTIMIZE [0, 2]/' -e 's/^constexpr int ROUGH_HASH = .*;      \\/\\/ OPTIMIZE {0, 0b00000001, 0b00010001, 0b00010011, 0b00110011}$/constexpr int ROUGH_HASH = 0;      \\/\\/ OPTIMIZE {0, 0b00000001, 0b00010001, 0b00010011, 0b00110011}/'\n",
      "g++ 8_main.cpp -std=gnu++17 -O2 -DONLINE_JUDGE -o 8_main.cpp.out 2> /dev/null\n"
     ]
    },
    {
     "name": "stderr",
     "output_type": "stream",
     "text": [
      "\u001b[32m[I 2021-09-10 12:21:00,473]\u001b[0m Trial 245 finished with value: 1005930396.0 and parameters: {'K_START': 0.05884364919700238, 'K_END': 0.04846389053175731, 'K_H': 0.2945561696697455, 'PURCHASE_TURN_LIMIT': 840, 'SUBSCORE3_TIGHT_TURN': 0, 'ROUGH_HASH': '0'}. Best is trial 116 with value: 1010815661.0.\u001b[0m\n"
     ]
    },
    {
     "name": "stdout",
     "output_type": "stream",
     "text": [
      "callback ok\n",
      "index_parallel=9\n"
     ]
    },
    {
     "name": "stderr",
     "output_type": "stream",
     "text": [
      "\u001b[32m[I 2021-09-10 12:21:01,648]\u001b[0m Trial 246 finished with value: 1000918814.0 and parameters: {'K_START': 0.03670364130071487, 'K_END': 0.048499596085805036, 'K_H': 0.29887934456962206, 'PURCHASE_TURN_LIMIT': 840, 'SUBSCORE3_TIGHT_TURN': 0, 'ROUGH_HASH': '0'}. Best is trial 116 with value: 1010815661.0.\u001b[0m\n"
     ]
    },
    {
     "name": "stdout",
     "output_type": "stream",
     "text": [
      "callback ok\n",
      "index_parallel=10\n",
      "sed -i 9_main.cpp -e 's/^constexpr double K_START = .*;  \\/\\/ OPTIMIZE \\[0\\.02, 0\\.06\\] LOG$/constexpr double K_START = 0.059940577884361024;  \\/\\/ OPTIMIZE [0.02, 0.06] LOG/' -e 's/^constexpr double K_END = .*;   \\/\\/ OPTIMIZE \\[0\\.01, 0\\.05\\] LOG$/constexpr double K_END = 0.045550911730709784;   \\/\\/ OPTIMIZE [0.01, 0.05] LOG/' -e 's/^constexpr double K_H = .*;      \\/\\/ OPTIMIZE \\[0\\.001, 0\\.999\\]$/constexpr double K_H = 0.2675035208015998;      \\/\\/ OPTIMIZE [0.001, 0.999]/' -e 's/^constexpr short PURCHASE_TURN_LIMIT = .*;  \\/\\/ OPTIMIZE \\[790, 870\\]$/constexpr short PURCHASE_TURN_LIMIT = 841;  \\/\\/ OPTIMIZE [790, 870]/' -e 's/^constexpr int SUBSCORE3_TIGHT_TURN = .*;     \\/\\/ OPTIMIZE \\[0, 2\\]$/constexpr int SUBSCORE3_TIGHT_TURN = 2;     \\/\\/ OPTIMIZE [0, 2]/' -e 's/^constexpr int ROUGH_HASH = .*;      \\/\\/ OPTIMIZE {0, 0b00000001, 0b00010001, 0b00010011, 0b00110011}$/constexpr int ROUGH_HASH = 0b00110011;      \\/\\/ OPTIMIZE {0, 0b00000001, 0b00010001, 0b00010011, 0b00110011}/'\n",
      "g++ 9_main.cpp -std=gnu++17 -O2 -DONLINE_JUDGE -o 9_main.cpp.out 2> /dev/null\n",
      "sed -i 10_main.cpp -e 's/^constexpr double K_START = .*;  \\/\\/ OPTIMIZE \\[0\\.02, 0\\.06\\] LOG$/constexpr double K_START = 0.056596125654231666;  \\/\\/ OPTIMIZE [0.02, 0.06] LOG/' -e 's/^constexpr double K_END = .*;   \\/\\/ OPTIMIZE \\[0\\.01, 0\\.05\\] LOG$/constexpr double K_END = 0.045029264257049714;   \\/\\/ OPTIMIZE [0.01, 0.05] LOG/' -e 's/^constexpr double K_H = .*;      \\/\\/ OPTIMIZE \\[0\\.001, 0\\.999\\]$/constexpr double K_H = 0.3260514198287396;      \\/\\/ OPTIMIZE [0.001, 0.999]/' -e 's/^constexpr short PURCHASE_TURN_LIMIT = .*;  \\/\\/ OPTIMIZE \\[790, 870\\]$/constexpr short PURCHASE_TURN_LIMIT = 841;  \\/\\/ OPTIMIZE [790, 870]/' -e 's/^constexpr int SUBSCORE3_TIGHT_TURN = .*;     \\/\\/ OPTIMIZE \\[0, 2\\]$/constexpr int SUBSCORE3_TIGHT_TURN = 0;     \\/\\/ OPTIMIZE [0, 2]/' -e 's/^constexpr int ROUGH_HASH = .*;      \\/\\/ OPTIMIZE {0, 0b00000001, 0b00010001, 0b00010011, 0b00110011}$/constexpr int ROUGH_HASH = 0;      \\/\\/ OPTIMIZE {0, 0b00000001, 0b00010001, 0b00010011, 0b00110011}/'\n",
      "g++ 10_main.cpp -std=gnu++17 -O2 -DONLINE_JUDGE -o 10_main.cpp.out 2> /dev/null\n"
     ]
    },
    {
     "name": "stderr",
     "output_type": "stream",
     "text": [
      "\u001b[32m[I 2021-09-10 12:22:43,385]\u001b[0m Trial 247 finished with value: 1007076998.0 and parameters: {'K_START': 0.05997978366790607, 'K_END': 0.04541068783496232, 'K_H': 0.29167480218884706, 'PURCHASE_TURN_LIMIT': 841, 'SUBSCORE3_TIGHT_TURN': 0, 'ROUGH_HASH': '0'}. Best is trial 116 with value: 1010815661.0.\u001b[0m\n"
     ]
    },
    {
     "name": "stdout",
     "output_type": "stream",
     "text": [
      "callback ok\n",
      "index_parallel=11\n",
      "sed -i 11_main.cpp -e 's/^constexpr double K_START = .*;  \\/\\/ OPTIMIZE \\[0\\.02, 0\\.06\\] LOG$/constexpr double K_START = 0.05628530473984595;  \\/\\/ OPTIMIZE [0.02, 0.06] LOG/' -e 's/^constexpr double K_END = .*;   \\/\\/ OPTIMIZE \\[0\\.01, 0\\.05\\] LOG$/constexpr double K_END = 0.043910219418539405;   \\/\\/ OPTIMIZE [0.01, 0.05] LOG/' -e 's/^constexpr double K_H = .*;      \\/\\/ OPTIMIZE \\[0\\.001, 0\\.999\\]$/constexpr double K_H = 0.33230075132519465;      \\/\\/ OPTIMIZE [0.001, 0.999]/' -e 's/^constexpr short PURCHASE_TURN_LIMIT = .*;  \\/\\/ OPTIMIZE \\[790, 870\\]$/constexpr short PURCHASE_TURN_LIMIT = 834;  \\/\\/ OPTIMIZE [790, 870]/' -e 's/^constexpr int SUBSCORE3_TIGHT_TURN = .*;     \\/\\/ OPTIMIZE \\[0, 2\\]$/constexpr int SUBSCORE3_TIGHT_TURN = 0;     \\/\\/ OPTIMIZE [0, 2]/' -e 's/^constexpr int ROUGH_HASH = .*;      \\/\\/ OPTIMIZE {0, 0b00000001, 0b00010001, 0b00010011, 0b00110011}$/constexpr int ROUGH_HASH = 0b00110011;      \\/\\/ OPTIMIZE {0, 0b00000001, 0b00010001, 0b00010011, 0b00110011}/'\n",
      "g++ 11_main.cpp -std=gnu++17 -O2 -DONLINE_JUDGE -o 11_main.cpp.out 2> /dev/null\n"
     ]
    },
    {
     "name": "stderr",
     "output_type": "stream",
     "text": [
      "\u001b[32m[I 2021-09-10 12:24:11,492]\u001b[0m Trial 248 finished with value: 1004184515.0 and parameters: {'K_START': 0.05895216104220053, 'K_END': 0.04529607963642262, 'K_H': 0.2629032160417316, 'PURCHASE_TURN_LIMIT': 841, 'SUBSCORE3_TIGHT_TURN': 0, 'ROUGH_HASH': '0'}. Best is trial 116 with value: 1010815661.0.\u001b[0m\n"
     ]
    },
    {
     "name": "stdout",
     "output_type": "stream",
     "text": [
      "callback ok\n",
      "index_parallel=0\n",
      "sed -i 0_main.cpp -e 's/^constexpr double K_START = .*;  \\/\\/ OPTIMIZE \\[0\\.02, 0\\.06\\] LOG$/constexpr double K_START = 0.05637744276014564;  \\/\\/ OPTIMIZE [0.02, 0.06] LOG/' -e 's/^constexpr double K_END = .*;   \\/\\/ OPTIMIZE \\[0\\.01, 0\\.05\\] LOG$/constexpr double K_END = 0.043988285645753855;   \\/\\/ OPTIMIZE [0.01, 0.05] LOG/' -e 's/^constexpr double K_H = .*;      \\/\\/ OPTIMIZE \\[0\\.001, 0\\.999\\]$/constexpr double K_H = 0.3431103162050017;      \\/\\/ OPTIMIZE [0.001, 0.999]/' -e 's/^constexpr short PURCHASE_TURN_LIMIT = .*;  \\/\\/ OPTIMIZE \\[790, 870\\]$/constexpr short PURCHASE_TURN_LIMIT = 838;  \\/\\/ OPTIMIZE [790, 870]/' -e 's/^constexpr int SUBSCORE3_TIGHT_TURN = .*;     \\/\\/ OPTIMIZE \\[0, 2\\]$/constexpr int SUBSCORE3_TIGHT_TURN = 0;     \\/\\/ OPTIMIZE [0, 2]/' -e 's/^constexpr int ROUGH_HASH = .*;      \\/\\/ OPTIMIZE {0, 0b00000001, 0b00010001, 0b00010011, 0b00110011}$/constexpr int ROUGH_HASH = 0b00110011;      \\/\\/ OPTIMIZE {0, 0b00000001, 0b00010001, 0b00010011, 0b00110011}/'\n",
      "g++ 0_main.cpp -std=gnu++17 -O2 -DONLINE_JUDGE -o 0_main.cpp.out 2> /dev/null\n"
     ]
    },
    {
     "name": "stderr",
     "output_type": "stream",
     "text": [
      "\u001b[32m[I 2021-09-10 12:24:41,782]\u001b[0m Trial 249 finished with value: 974739336.0 and parameters: {'K_START': 0.059940577884361024, 'K_END': 0.045550911730709784, 'K_H': 0.2675035208015998, 'PURCHASE_TURN_LIMIT': 841, 'SUBSCORE3_TIGHT_TURN': 2, 'ROUGH_HASH': '0b00110011'}. Best is trial 116 with value: 1010815661.0.\u001b[0m\n"
     ]
    },
    {
     "name": "stdout",
     "output_type": "stream",
     "text": [
      "callback ok\n",
      "index_parallel=1\n",
      "sed -i 1_main.cpp -e 's/^constexpr double K_START = .*;  \\/\\/ OPTIMIZE \\[0\\.02, 0\\.06\\] LOG$/constexpr double K_START = 0.05621240347788039;  \\/\\/ OPTIMIZE [0.02, 0.06] LOG/' -e 's/^constexpr double K_END = .*;   \\/\\/ OPTIMIZE \\[0\\.01, 0\\.05\\] LOG$/constexpr double K_END = 0.047244344855890075;   \\/\\/ OPTIMIZE [0.01, 0.05] LOG/' -e 's/^constexpr double K_H = .*;      \\/\\/ OPTIMIZE \\[0\\.001, 0\\.999\\]$/constexpr double K_H = 0.33321028797983254;      \\/\\/ OPTIMIZE [0.001, 0.999]/' -e 's/^constexpr short PURCHASE_TURN_LIMIT = .*;  \\/\\/ OPTIMIZE \\[790, 870\\]$/constexpr short PURCHASE_TURN_LIMIT = 834;  \\/\\/ OPTIMIZE [790, 870]/' -e 's/^constexpr int SUBSCORE3_TIGHT_TURN = .*;     \\/\\/ OPTIMIZE \\[0, 2\\]$/constexpr int SUBSCORE3_TIGHT_TURN = 0;     \\/\\/ OPTIMIZE [0, 2]/' -e 's/^constexpr int ROUGH_HASH = .*;      \\/\\/ OPTIMIZE {0, 0b00000001, 0b00010001, 0b00010011, 0b00110011}$/constexpr int ROUGH_HASH = 0;      \\/\\/ OPTIMIZE {0, 0b00000001, 0b00010001, 0b00010011, 0b00110011}/'\n",
      "g++ 1_main.cpp -std=gnu++17 -O2 -DONLINE_JUDGE -o 1_main.cpp.out 2> /dev/null\n"
     ]
    },
    {
     "name": "stderr",
     "output_type": "stream",
     "text": [
      "\u001b[32m[I 2021-09-10 12:25:47,821]\u001b[0m Trial 250 finished with value: 1004308728.0 and parameters: {'K_START': 0.056596125654231666, 'K_END': 0.045029264257049714, 'K_H': 0.3260514198287396, 'PURCHASE_TURN_LIMIT': 841, 'SUBSCORE3_TIGHT_TURN': 0, 'ROUGH_HASH': '0'}. Best is trial 116 with value: 1010815661.0.\u001b[0m\n"
     ]
    },
    {
     "name": "stdout",
     "output_type": "stream",
     "text": [
      "callback ok\n",
      "index_parallel=2\n",
      "sed -i 2_main.cpp -e 's/^constexpr double K_START = .*;  \\/\\/ OPTIMIZE \\[0\\.02, 0\\.06\\] LOG$/constexpr double K_START = 0.05505399979649037;  \\/\\/ OPTIMIZE [0.02, 0.06] LOG/' -e 's/^constexpr double K_END = .*;   \\/\\/ OPTIMIZE \\[0\\.01, 0\\.05\\] LOG$/constexpr double K_END = 0.04359377157113343;   \\/\\/ OPTIMIZE [0.01, 0.05] LOG/' -e 's/^constexpr double K_H = .*;      \\/\\/ OPTIMIZE \\[0\\.001, 0\\.999\\]$/constexpr double K_H = 0.3464946964985501;      \\/\\/ OPTIMIZE [0.001, 0.999]/' -e 's/^constexpr short PURCHASE_TURN_LIMIT = .*;  \\/\\/ OPTIMIZE \\[790, 870\\]$/constexpr short PURCHASE_TURN_LIMIT = 839;  \\/\\/ OPTIMIZE [790, 870]/' -e 's/^constexpr int SUBSCORE3_TIGHT_TURN = .*;     \\/\\/ OPTIMIZE \\[0, 2\\]$/constexpr int SUBSCORE3_TIGHT_TURN = 0;     \\/\\/ OPTIMIZE [0, 2]/' -e 's/^constexpr int ROUGH_HASH = .*;      \\/\\/ OPTIMIZE {0, 0b00000001, 0b00010001, 0b00010011, 0b00110011}$/constexpr int ROUGH_HASH = 0b00000001;      \\/\\/ OPTIMIZE {0, 0b00000001, 0b00010001, 0b00010011, 0b00110011}/'\n",
      "g++ 2_main.cpp -std=gnu++17 -O2 -DONLINE_JUDGE -o 2_main.cpp.out 2> /dev/null\n"
     ]
    },
    {
     "name": "stderr",
     "output_type": "stream",
     "text": [
      "\u001b[32m[I 2021-09-10 12:26:22,953]\u001b[0m Trial 251 finished with value: 991686547.0 and parameters: {'K_START': 0.05628530473984595, 'K_END': 0.043910219418539405, 'K_H': 0.33230075132519465, 'PURCHASE_TURN_LIMIT': 834, 'SUBSCORE3_TIGHT_TURN': 0, 'ROUGH_HASH': '0b00110011'}. Best is trial 116 with value: 1010815661.0.\u001b[0m\n"
     ]
    },
    {
     "name": "stdout",
     "output_type": "stream",
     "text": [
      "callback ok\n",
      "index_parallel=3\n",
      "sed -i 3_main.cpp -e 's/^constexpr double K_START = .*;  \\/\\/ OPTIMIZE \\[0\\.02, 0\\.06\\] LOG$/constexpr double K_START = 0.05533771439222664;  \\/\\/ OPTIMIZE [0.02, 0.06] LOG/' -e 's/^constexpr double K_END = .*;   \\/\\/ OPTIMIZE \\[0\\.01, 0\\.05\\] LOG$/constexpr double K_END = 0.04745001265679541;   \\/\\/ OPTIMIZE [0.01, 0.05] LOG/' -e 's/^constexpr double K_H = .*;      \\/\\/ OPTIMIZE \\[0\\.001, 0\\.999\\]$/constexpr double K_H = 0.34049564228321455;      \\/\\/ OPTIMIZE [0.001, 0.999]/' -e 's/^constexpr short PURCHASE_TURN_LIMIT = .*;  \\/\\/ OPTIMIZE \\[790, 870\\]$/constexpr short PURCHASE_TURN_LIMIT = 839;  \\/\\/ OPTIMIZE [790, 870]/' -e 's/^constexpr int SUBSCORE3_TIGHT_TURN = .*;     \\/\\/ OPTIMIZE \\[0, 2\\]$/constexpr int SUBSCORE3_TIGHT_TURN = 0;     \\/\\/ OPTIMIZE [0, 2]/' -e 's/^constexpr int ROUGH_HASH = .*;      \\/\\/ OPTIMIZE {0, 0b00000001, 0b00010001, 0b00010011, 0b00110011}$/constexpr int ROUGH_HASH = 0b00000001;      \\/\\/ OPTIMIZE {0, 0b00000001, 0b00010001, 0b00010011, 0b00110011}/'\n",
      "g++ 3_main.cpp -std=gnu++17 -O2 -DONLINE_JUDGE -o 3_main.cpp.out 2> /dev/null\n"
     ]
    },
    {
     "name": "stderr",
     "output_type": "stream",
     "text": [
      "\u001b[32m[I 2021-09-10 12:27:53,887]\u001b[0m Trial 252 finished with value: 989815717.0 and parameters: {'K_START': 0.05637744276014564, 'K_END': 0.043988285645753855, 'K_H': 0.3431103162050017, 'PURCHASE_TURN_LIMIT': 838, 'SUBSCORE3_TIGHT_TURN': 0, 'ROUGH_HASH': '0b00110011'}. Best is trial 116 with value: 1010815661.0.\u001b[0m\n"
     ]
    },
    {
     "name": "stdout",
     "output_type": "stream",
     "text": [
      "callback ok\n",
      "index_parallel=4\n",
      "sed -i 4_main.cpp -e 's/^constexpr double K_START = .*;  \\/\\/ OPTIMIZE \\[0\\.02, 0\\.06\\] LOG$/constexpr double K_START = 0.0553828080172772;  \\/\\/ OPTIMIZE [0.02, 0.06] LOG/' -e 's/^constexpr double K_END = .*;   \\/\\/ OPTIMIZE \\[0\\.01, 0\\.05\\] LOG$/constexpr double K_END = 0.0473380159535797;   \\/\\/ OPTIMIZE [0.01, 0.05] LOG/' -e 's/^constexpr double K_H = .*;      \\/\\/ OPTIMIZE \\[0\\.001, 0\\.999\\]$/constexpr double K_H = 0.26529194084161656;      \\/\\/ OPTIMIZE [0.001, 0.999]/' -e 's/^constexpr short PURCHASE_TURN_LIMIT = .*;  \\/\\/ OPTIMIZE \\[790, 870\\]$/constexpr short PURCHASE_TURN_LIMIT = 839;  \\/\\/ OPTIMIZE [790, 870]/' -e 's/^constexpr int SUBSCORE3_TIGHT_TURN = .*;     \\/\\/ OPTIMIZE \\[0, 2\\]$/constexpr int SUBSCORE3_TIGHT_TURN = 0;     \\/\\/ OPTIMIZE [0, 2]/' -e 's/^constexpr int ROUGH_HASH = .*;      \\/\\/ OPTIMIZE {0, 0b00000001, 0b00010001, 0b00010011, 0b00110011}$/constexpr int ROUGH_HASH = 0b00000001;      \\/\\/ OPTIMIZE {0, 0b00000001, 0b00010001, 0b00010011, 0b00110011}/'\n",
      "g++ 4_main.cpp -std=gnu++17 -O2 -DONLINE_JUDGE -o 4_main.cpp.out 2> /dev/null\n"
     ]
    },
    {
     "name": "stderr",
     "output_type": "stream",
     "text": [
      "\u001b[32m[I 2021-09-10 12:29:23,945]\u001b[0m Trial 253 finished with value: 1006418118.0 and parameters: {'K_START': 0.05621240347788039, 'K_END': 0.047244344855890075, 'K_H': 0.33321028797983254, 'PURCHASE_TURN_LIMIT': 834, 'SUBSCORE3_TIGHT_TURN': 0, 'ROUGH_HASH': '0'}. Best is trial 116 with value: 1010815661.0.\u001b[0m\n"
     ]
    },
    {
     "name": "stdout",
     "output_type": "stream",
     "text": [
      "callback ok\n",
      "index_parallel=5\n",
      "sed -i 5_main.cpp -e 's/^constexpr double K_START = .*;  \\/\\/ OPTIMIZE \\[0\\.02, 0\\.06\\] LOG$/constexpr double K_START = 0.054908406877579245;  \\/\\/ OPTIMIZE [0.02, 0.06] LOG/' -e 's/^constexpr double K_END = .*;   \\/\\/ OPTIMIZE \\[0\\.01, 0\\.05\\] LOG$/constexpr double K_END = 0.049782874596229536;   \\/\\/ OPTIMIZE [0.01, 0.05] LOG/' -e 's/^constexpr double K_H = .*;      \\/\\/ OPTIMIZE \\[0\\.001, 0\\.999\\]$/constexpr double K_H = 0.26548281361804504;      \\/\\/ OPTIMIZE [0.001, 0.999]/' -e 's/^constexpr short PURCHASE_TURN_LIMIT = .*;  \\/\\/ OPTIMIZE \\[790, 870\\]$/constexpr short PURCHASE_TURN_LIMIT = 839;  \\/\\/ OPTIMIZE [790, 870]/' -e 's/^constexpr int SUBSCORE3_TIGHT_TURN = .*;     \\/\\/ OPTIMIZE \\[0, 2\\]$/constexpr int SUBSCORE3_TIGHT_TURN = 0;     \\/\\/ OPTIMIZE [0, 2]/' -e 's/^constexpr int ROUGH_HASH = .*;      \\/\\/ OPTIMIZE {0, 0b00000001, 0b00010001, 0b00010011, 0b00110011}$/constexpr int ROUGH_HASH = 0b00000001;      \\/\\/ OPTIMIZE {0, 0b00000001, 0b00010001, 0b00010011, 0b00110011}/'\n",
      "g++ 5_main.cpp -std=gnu++17 -O2 -DONLINE_JUDGE -o 5_main.cpp.out 2> /dev/null\n"
     ]
    },
    {
     "name": "stderr",
     "output_type": "stream",
     "text": [
      "\u001b[32m[I 2021-09-10 12:30:20,755]\u001b[0m Trial 254 finished with value: 1002448686.0 and parameters: {'K_START': 0.05505399979649037, 'K_END': 0.04359377157113343, 'K_H': 0.3464946964985501, 'PURCHASE_TURN_LIMIT': 839, 'SUBSCORE3_TIGHT_TURN': 0, 'ROUGH_HASH': '0b00000001'}. Best is trial 116 with value: 1010815661.0.\u001b[0m\n"
     ]
    },
    {
     "name": "stdout",
     "output_type": "stream",
     "text": [
      "callback ok\n",
      "index_parallel=6\n",
      "sed -i 6_main.cpp -e 's/^constexpr double K_START = .*;  \\/\\/ OPTIMIZE \\[0\\.02, 0\\.06\\] LOG$/constexpr double K_START = 0.057598703701662965;  \\/\\/ OPTIMIZE [0.02, 0.06] LOG/' -e 's/^constexpr double K_END = .*;   \\/\\/ OPTIMIZE \\[0\\.01, 0\\.05\\] LOG$/constexpr double K_END = 0.04977348504648148;   \\/\\/ OPTIMIZE [0.01, 0.05] LOG/' -e 's/^constexpr double K_H = .*;      \\/\\/ OPTIMIZE \\[0\\.001, 0\\.999\\]$/constexpr double K_H = 0.2675564067660544;      \\/\\/ OPTIMIZE [0.001, 0.999]/' -e 's/^constexpr short PURCHASE_TURN_LIMIT = .*;  \\/\\/ OPTIMIZE \\[790, 870\\]$/constexpr short PURCHASE_TURN_LIMIT = 843;  \\/\\/ OPTIMIZE [790, 870]/' -e 's/^constexpr int SUBSCORE3_TIGHT_TURN = .*;     \\/\\/ OPTIMIZE \\[0, 2\\]$/constexpr int SUBSCORE3_TIGHT_TURN = 0;     \\/\\/ OPTIMIZE [0, 2]/' -e 's/^constexpr int ROUGH_HASH = .*;      \\/\\/ OPTIMIZE {0, 0b00000001, 0b00010001, 0b00010011, 0b00110011}$/constexpr int ROUGH_HASH = 0;      \\/\\/ OPTIMIZE {0, 0b00000001, 0b00010001, 0b00010011, 0b00110011}/'\n",
      "g++ 6_main.cpp -std=gnu++17 -O2 -DONLINE_JUDGE -o 6_main.cpp.out 2> /dev/null\n"
     ]
    },
    {
     "name": "stderr",
     "output_type": "stream",
     "text": [
      "\u001b[32m[I 2021-09-10 12:30:56,529]\u001b[0m Trial 255 finished with value: 1007035166.0 and parameters: {'K_START': 0.05533771439222664, 'K_END': 0.04745001265679541, 'K_H': 0.34049564228321455, 'PURCHASE_TURN_LIMIT': 839, 'SUBSCORE3_TIGHT_TURN': 0, 'ROUGH_HASH': '0b00000001'}. Best is trial 116 with value: 1010815661.0.\u001b[0m\n"
     ]
    },
    {
     "name": "stdout",
     "output_type": "stream",
     "text": [
      "callback ok\n",
      "index_parallel=7\n",
      "sed -i 7_main.cpp -e 's/^constexpr double K_START = .*;  \\/\\/ OPTIMIZE \\[0\\.02, 0\\.06\\] LOG$/constexpr double K_START = 0.0574324494131054;  \\/\\/ OPTIMIZE [0.02, 0.06] LOG/' -e 's/^constexpr double K_END = .*;   \\/\\/ OPTIMIZE \\[0\\.01, 0\\.05\\] LOG$/constexpr double K_END = 0.04989115651855045;   \\/\\/ OPTIMIZE [0.01, 0.05] LOG/' -e 's/^constexpr double K_H = .*;      \\/\\/ OPTIMIZE \\[0\\.001, 0\\.999\\]$/constexpr double K_H = 0.2660480273639523;      \\/\\/ OPTIMIZE [0.001, 0.999]/' -e 's/^constexpr short PURCHASE_TURN_LIMIT = .*;  \\/\\/ OPTIMIZE \\[790, 870\\]$/constexpr short PURCHASE_TURN_LIMIT = 837;  \\/\\/ OPTIMIZE [790, 870]/' -e 's/^constexpr int SUBSCORE3_TIGHT_TURN = .*;     \\/\\/ OPTIMIZE \\[0, 2\\]$/constexpr int SUBSCORE3_TIGHT_TURN = 0;     \\/\\/ OPTIMIZE [0, 2]/' -e 's/^constexpr int ROUGH_HASH = .*;      \\/\\/ OPTIMIZE {0, 0b00000001, 0b00010001, 0b00010011, 0b00110011}$/constexpr int ROUGH_HASH = 0;      \\/\\/ OPTIMIZE {0, 0b00000001, 0b00010001, 0b00010011, 0b00110011}/'\n",
      "g++ 7_main.cpp -std=gnu++17 -O2 -DONLINE_JUDGE -o 7_main.cpp.out 2> /dev/null\n"
     ]
    },
    {
     "name": "stderr",
     "output_type": "stream",
     "text": [
      "\u001b[32m[I 2021-09-10 12:32:26,725]\u001b[0m Trial 256 finished with value: 1004022968.0 and parameters: {'K_START': 0.0553828080172772, 'K_END': 0.0473380159535797, 'K_H': 0.26529194084161656, 'PURCHASE_TURN_LIMIT': 839, 'SUBSCORE3_TIGHT_TURN': 0, 'ROUGH_HASH': '0b00000001'}. Best is trial 116 with value: 1010815661.0.\u001b[0m\n"
     ]
    },
    {
     "name": "stdout",
     "output_type": "stream",
     "text": [
      "callback ok\n",
      "index_parallel=8\n",
      "sed -i 8_main.cpp -e 's/^constexpr double K_START = .*;  \\/\\/ OPTIMIZE \\[0\\.02, 0\\.06\\] LOG$/constexpr double K_START = 0.05774875435839423;  \\/\\/ OPTIMIZE [0.02, 0.06] LOG/' -e 's/^constexpr double K_END = .*;   \\/\\/ OPTIMIZE \\[0\\.01, 0\\.05\\] LOG$/constexpr double K_END = 0.04986228157295879;   \\/\\/ OPTIMIZE [0.01, 0.05] LOG/' -e 's/^constexpr double K_H = .*;      \\/\\/ OPTIMIZE \\[0\\.001, 0\\.999\\]$/constexpr double K_H = 0.3107079768948874;      \\/\\/ OPTIMIZE [0.001, 0.999]/' -e 's/^constexpr short PURCHASE_TURN_LIMIT = .*;  \\/\\/ OPTIMIZE \\[790, 870\\]$/constexpr short PURCHASE_TURN_LIMIT = 835;  \\/\\/ OPTIMIZE [790, 870]/' -e 's/^constexpr int SUBSCORE3_TIGHT_TURN = .*;     \\/\\/ OPTIMIZE \\[0, 2\\]$/constexpr int SUBSCORE3_TIGHT_TURN = 0;     \\/\\/ OPTIMIZE [0, 2]/' -e 's/^constexpr int ROUGH_HASH = .*;      \\/\\/ OPTIMIZE {0, 0b00000001, 0b00010001, 0b00010011, 0b00110011}$/constexpr int ROUGH_HASH = 0;      \\/\\/ OPTIMIZE {0, 0b00000001, 0b00010001, 0b00010011, 0b00110011}/'\n",
      "g++ 8_main.cpp -std=gnu++17 -O2 -DONLINE_JUDGE -o 8_main.cpp.out 2> /dev/null\n"
     ]
    },
    {
     "name": "stderr",
     "output_type": "stream",
     "text": [
      "\u001b[32m[I 2021-09-10 12:33:56,264]\u001b[0m Trial 257 finished with value: 1006906167.0 and parameters: {'K_START': 0.054908406877579245, 'K_END': 0.049782874596229536, 'K_H': 0.26548281361804504, 'PURCHASE_TURN_LIMIT': 839, 'SUBSCORE3_TIGHT_TURN': 0, 'ROUGH_HASH': '0b00000001'}. Best is trial 116 with value: 1010815661.0.\u001b[0m\n"
     ]
    },
    {
     "name": "stdout",
     "output_type": "stream",
     "text": [
      "callback ok\n",
      "index_parallel=9\n",
      "sed -i 9_main.cpp -e 's/^constexpr double K_START = .*;  \\/\\/ OPTIMIZE \\[0\\.02, 0\\.06\\] LOG$/constexpr double K_START = 0.05873369673952814;  \\/\\/ OPTIMIZE [0.02, 0.06] LOG/' -e 's/^constexpr double K_END = .*;   \\/\\/ OPTIMIZE \\[0\\.01, 0\\.05\\] LOG$/constexpr double K_END = 0.04613606068598384;   \\/\\/ OPTIMIZE [0.01, 0.05] LOG/' -e 's/^constexpr double K_H = .*;      \\/\\/ OPTIMIZE \\[0\\.001, 0\\.999\\]$/constexpr double K_H = 0.31913512274010525;      \\/\\/ OPTIMIZE [0.001, 0.999]/' -e 's/^constexpr short PURCHASE_TURN_LIMIT = .*;  \\/\\/ OPTIMIZE \\[790, 870\\]$/constexpr short PURCHASE_TURN_LIMIT = 843;  \\/\\/ OPTIMIZE [790, 870]/' -e 's/^constexpr int SUBSCORE3_TIGHT_TURN = .*;     \\/\\/ OPTIMIZE \\[0, 2\\]$/constexpr int SUBSCORE3_TIGHT_TURN = 0;     \\/\\/ OPTIMIZE [0, 2]/' -e 's/^constexpr int ROUGH_HASH = .*;      \\/\\/ OPTIMIZE {0, 0b00000001, 0b00010001, 0b00010011, 0b00110011}$/constexpr int ROUGH_HASH = 0;      \\/\\/ OPTIMIZE {0, 0b00000001, 0b00010001, 0b00010011, 0b00110011}/'\n",
      "g++ 9_main.cpp -std=gnu++17 -O2 -DONLINE_JUDGE -o 9_main.cpp.out 2> /dev/null\n"
     ]
    },
    {
     "name": "stderr",
     "output_type": "stream",
     "text": [
      "\u001b[32m[I 2021-09-10 12:35:04,958]\u001b[0m Trial 258 finished with value: 1004649017.0 and parameters: {'K_START': 0.057598703701662965, 'K_END': 0.04977348504648148, 'K_H': 0.2675564067660544, 'PURCHASE_TURN_LIMIT': 843, 'SUBSCORE3_TIGHT_TURN': 0, 'ROUGH_HASH': '0'}. Best is trial 116 with value: 1010815661.0.\u001b[0m\n"
     ]
    },
    {
     "name": "stdout",
     "output_type": "stream",
     "text": [
      "callback ok\n",
      "index_parallel=10\n",
      "sed -i 10_main.cpp -e 's/^constexpr double K_START = .*;  \\/\\/ OPTIMIZE \\[0\\.02, 0\\.06\\] LOG$/constexpr double K_START = 0.059003801580066455;  \\/\\/ OPTIMIZE [0.02, 0.06] LOG/' -e 's/^constexpr double K_END = .*;   \\/\\/ OPTIMIZE \\[0\\.01, 0\\.05\\] LOG$/constexpr double K_END = 0.04598430820211078;   \\/\\/ OPTIMIZE [0.01, 0.05] LOG/' -e 's/^constexpr double K_H = .*;      \\/\\/ OPTIMIZE \\[0\\.001, 0\\.999\\]$/constexpr double K_H = 0.31454854155509204;      \\/\\/ OPTIMIZE [0.001, 0.999]/' -e 's/^constexpr short PURCHASE_TURN_LIMIT = .*;  \\/\\/ OPTIMIZE \\[790, 870\\]$/constexpr short PURCHASE_TURN_LIMIT = 835;  \\/\\/ OPTIMIZE [790, 870]/' -e 's/^constexpr int SUBSCORE3_TIGHT_TURN = .*;     \\/\\/ OPTIMIZE \\[0, 2\\]$/constexpr int SUBSCORE3_TIGHT_TURN = 0;     \\/\\/ OPTIMIZE [0, 2]/' -e 's/^constexpr int ROUGH_HASH = .*;      \\/\\/ OPTIMIZE {0, 0b00000001, 0b00010001, 0b00010011, 0b00110011}$/constexpr int ROUGH_HASH = 0;      \\/\\/ OPTIMIZE {0, 0b00000001, 0b00010001, 0b00010011, 0b00110011}/'\n",
      "g++ 10_main.cpp -std=gnu++17 -O2 -DONLINE_JUDGE -o 10_main.cpp.out 2> /dev/null\n"
     ]
    },
    {
     "name": "stderr",
     "output_type": "stream",
     "text": [
      "\u001b[32m[I 2021-09-10 12:35:35,101]\u001b[0m Trial 259 finished with value: 1007811908.0 and parameters: {'K_START': 0.0574324494131054, 'K_END': 0.04989115651855045, 'K_H': 0.2660480273639523, 'PURCHASE_TURN_LIMIT': 837, 'SUBSCORE3_TIGHT_TURN': 0, 'ROUGH_HASH': '0'}. Best is trial 116 with value: 1010815661.0.\u001b[0m\n"
     ]
    },
    {
     "name": "stdout",
     "output_type": "stream",
     "text": [
      "callback ok\n",
      "index_parallel=11\n",
      "sed -i 11_main.cpp -e 's/^constexpr double K_START = .*;  \\/\\/ OPTIMIZE \\[0\\.02, 0\\.06\\] LOG$/constexpr double K_START = 0.05730525018766302;  \\/\\/ OPTIMIZE [0.02, 0.06] LOG/' -e 's/^constexpr double K_END = .*;   \\/\\/ OPTIMIZE \\[0\\.01, 0\\.05\\] LOG$/constexpr double K_END = 0.0499264570738415;   \\/\\/ OPTIMIZE [0.01, 0.05] LOG/' -e 's/^constexpr double K_H = .*;      \\/\\/ OPTIMIZE \\[0\\.001, 0\\.999\\]$/constexpr double K_H = 0.3092323454184604;      \\/\\/ OPTIMIZE [0.001, 0.999]/' -e 's/^constexpr short PURCHASE_TURN_LIMIT = .*;  \\/\\/ OPTIMIZE \\[790, 870\\]$/constexpr short PURCHASE_TURN_LIMIT = 835;  \\/\\/ OPTIMIZE [790, 870]/' -e 's/^constexpr int SUBSCORE3_TIGHT_TURN = .*;     \\/\\/ OPTIMIZE \\[0, 2\\]$/constexpr int SUBSCORE3_TIGHT_TURN = 0;     \\/\\/ OPTIMIZE [0, 2]/' -e 's/^constexpr int ROUGH_HASH = .*;      \\/\\/ OPTIMIZE {0, 0b00000001, 0b00010001, 0b00010011, 0b00110011}$/constexpr int ROUGH_HASH = 0;      \\/\\/ OPTIMIZE {0, 0b00000001, 0b00010001, 0b00010011, 0b00110011}/'\n",
      "g++ 11_main.cpp -std=gnu++17 -O2 -DONLINE_JUDGE -o 11_main.cpp.out 2> /dev/null\n"
     ]
    },
    {
     "name": "stderr",
     "output_type": "stream",
     "text": [
      "ERROR:root:Internal Python error in the inspect module.\n",
      "Below is the traceback from this internal error.\n",
      "\n"
     ]
    },
    {
     "name": "stdout",
     "output_type": "stream",
     "text": [
      "Traceback (most recent call last):\n",
      "  File \"/home/nagis/anaconda3/lib/python3.8/site-packages/optuna/study/_optimize.py\", line 103, in _optimize\n",
      "    completed, futures = wait(futures, return_when=FIRST_COMPLETED)\n",
      "  File \"/home/nagis/anaconda3/lib/python3.8/concurrent/futures/_base.py\", line 305, in wait\n",
      "    waiter.event.wait(timeout)\n",
      "  File \"/home/nagis/anaconda3/lib/python3.8/threading.py\", line 558, in wait\n",
      "    signaled = self._cond.wait(timeout)\n",
      "  File \"/home/nagis/anaconda3/lib/python3.8/threading.py\", line 302, in wait\n",
      "    waiter.acquire()\n",
      "KeyboardInterrupt\n",
      "\n",
      "During handling of the above exception, another exception occurred:\n",
      "\n",
      "Traceback (most recent call last):\n",
      "  File \"/home/nagis/anaconda3/lib/python3.8/site-packages/IPython/core/interactiveshell.py\", line 3437, in run_code\n",
      "    exec(code_obj, self.user_global_ns, self.user_ns)\n",
      "  File \"<ipython-input-10-695d49607de3>\", line 18, in <module>\n",
      "    study.optimize(objective, n_trials=3000, timeout=86400, n_jobs=4, callbacks=[callback])\n",
      "  File \"/home/nagis/anaconda3/lib/python3.8/site-packages/optuna/study/study.py\", line 400, in optimize\n",
      "    _optimize(\n",
      "  File \"/home/nagis/anaconda3/lib/python3.8/site-packages/optuna/study/_optimize.py\", line 108, in _optimize\n",
      "    futures.add(\n",
      "  File \"/home/nagis/anaconda3/lib/python3.8/concurrent/futures/_base.py\", line 636, in __exit__\n",
      "    self.shutdown(wait=True)\n",
      "  File \"/home/nagis/anaconda3/lib/python3.8/concurrent/futures/thread.py\", line 236, in shutdown\n",
      "    t.join()\n",
      "  File \"/home/nagis/anaconda3/lib/python3.8/threading.py\", line 1011, in join\n",
      "    self._wait_for_tstate_lock()\n",
      "  File \"/home/nagis/anaconda3/lib/python3.8/threading.py\", line 1027, in _wait_for_tstate_lock\n",
      "    elif lock.acquire(block, timeout):\n",
      "KeyboardInterrupt\n",
      "\n",
      "During handling of the above exception, another exception occurred:\n",
      "\n",
      "Traceback (most recent call last):\n",
      "  File \"/home/nagis/anaconda3/lib/python3.8/site-packages/IPython/core/interactiveshell.py\", line 2061, in showtraceback\n",
      "    stb = value._render_traceback_()\n",
      "AttributeError: 'KeyboardInterrupt' object has no attribute '_render_traceback_'\n",
      "\n",
      "During handling of the above exception, another exception occurred:\n",
      "\n",
      "Traceback (most recent call last):\n",
      "  File \"/home/nagis/anaconda3/lib/python3.8/site-packages/IPython/core/ultratb.py\", line 1101, in get_records\n",
      "    return _fixed_getinnerframes(etb, number_of_lines_of_context, tb_offset)\n",
      "  File \"/home/nagis/anaconda3/lib/python3.8/site-packages/IPython/core/ultratb.py\", line 248, in wrapped\n",
      "    return f(*args, **kwargs)\n",
      "  File \"/home/nagis/anaconda3/lib/python3.8/site-packages/IPython/core/ultratb.py\", line 281, in _fixed_getinnerframes\n",
      "    records = fix_frame_records_filenames(inspect.getinnerframes(etb, context))\n",
      "  File \"/home/nagis/anaconda3/lib/python3.8/inspect.py\", line 1515, in getinnerframes\n",
      "    frameinfo = (tb.tb_frame,) + getframeinfo(tb, context)\n",
      "  File \"/home/nagis/anaconda3/lib/python3.8/inspect.py\", line 1473, in getframeinfo\n",
      "    filename = getsourcefile(frame) or getfile(frame)\n",
      "  File \"/home/nagis/anaconda3/lib/python3.8/inspect.py\", line 708, in getsourcefile\n",
      "    if getattr(getmodule(object, filename), '__loader__', None) is not None:\n",
      "  File \"/home/nagis/anaconda3/lib/python3.8/inspect.py\", line 744, in getmodule\n",
      "    for modname, module in sys.modules.copy().items():\n",
      "KeyboardInterrupt\n"
     ]
    },
    {
     "name": "stderr",
     "output_type": "stream",
     "text": [
      "ERROR:root:Internal Python error in the inspect module.\n",
      "Below is the traceback from this internal error.\n",
      "\n"
     ]
    },
    {
     "name": "stdout",
     "output_type": "stream",
     "text": [
      "Traceback (most recent call last):\n",
      "  File \"/home/nagis/anaconda3/lib/python3.8/site-packages/optuna/study/_optimize.py\", line 103, in _optimize\n",
      "    completed, futures = wait(futures, return_when=FIRST_COMPLETED)\n",
      "  File \"/home/nagis/anaconda3/lib/python3.8/concurrent/futures/_base.py\", line 305, in wait\n",
      "    waiter.event.wait(timeout)\n",
      "  File \"/home/nagis/anaconda3/lib/python3.8/threading.py\", line 558, in wait\n",
      "    signaled = self._cond.wait(timeout)\n",
      "  File \"/home/nagis/anaconda3/lib/python3.8/threading.py\", line 302, in wait\n",
      "    waiter.acquire()\n",
      "KeyboardInterrupt\n",
      "\n",
      "During handling of the above exception, another exception occurred:\n",
      "\n",
      "Traceback (most recent call last):\n",
      "  File \"/home/nagis/anaconda3/lib/python3.8/site-packages/IPython/core/interactiveshell.py\", line 3437, in run_code\n",
      "    exec(code_obj, self.user_global_ns, self.user_ns)\n",
      "  File \"<ipython-input-10-695d49607de3>\", line 18, in <module>\n",
      "    study.optimize(objective, n_trials=3000, timeout=86400, n_jobs=4, callbacks=[callback])\n",
      "  File \"/home/nagis/anaconda3/lib/python3.8/site-packages/optuna/study/study.py\", line 400, in optimize\n",
      "    _optimize(\n",
      "  File \"/home/nagis/anaconda3/lib/python3.8/site-packages/optuna/study/_optimize.py\", line 108, in _optimize\n",
      "    futures.add(\n",
      "  File \"/home/nagis/anaconda3/lib/python3.8/concurrent/futures/_base.py\", line 636, in __exit__\n",
      "    self.shutdown(wait=True)\n",
      "  File \"/home/nagis/anaconda3/lib/python3.8/concurrent/futures/thread.py\", line 236, in shutdown\n",
      "    t.join()\n",
      "  File \"/home/nagis/anaconda3/lib/python3.8/threading.py\", line 1011, in join\n",
      "    self._wait_for_tstate_lock()\n",
      "  File \"/home/nagis/anaconda3/lib/python3.8/threading.py\", line 1027, in _wait_for_tstate_lock\n",
      "    elif lock.acquire(block, timeout):\n",
      "KeyboardInterrupt\n",
      "\n",
      "During handling of the above exception, another exception occurred:\n",
      "\n",
      "Traceback (most recent call last):\n",
      "  File \"/home/nagis/anaconda3/lib/python3.8/site-packages/IPython/core/interactiveshell.py\", line 2061, in showtraceback\n",
      "    stb = value._render_traceback_()\n",
      "AttributeError: 'KeyboardInterrupt' object has no attribute '_render_traceback_'\n",
      "\n",
      "During handling of the above exception, another exception occurred:\n",
      "\n",
      "Traceback (most recent call last):\n",
      "  File \"/home/nagis/anaconda3/lib/python3.8/site-packages/IPython/core/interactiveshell.py\", line 3357, in run_ast_nodes\n",
      "    if (await self.run_code(code, result,  async_=asy)):\n",
      "  File \"/home/nagis/anaconda3/lib/python3.8/site-packages/IPython/core/interactiveshell.py\", line 3454, in run_code\n",
      "    self.showtraceback(running_compiled_code=True)\n",
      "  File \"/home/nagis/anaconda3/lib/python3.8/site-packages/IPython/core/interactiveshell.py\", line 2063, in showtraceback\n",
      "    stb = self.InteractiveTB.structured_traceback(etype,\n",
      "  File \"/home/nagis/anaconda3/lib/python3.8/site-packages/IPython/core/ultratb.py\", line 1367, in structured_traceback\n",
      "    return FormattedTB.structured_traceback(\n",
      "  File \"/home/nagis/anaconda3/lib/python3.8/site-packages/IPython/core/ultratb.py\", line 1267, in structured_traceback\n",
      "    return VerboseTB.structured_traceback(\n",
      "  File \"/home/nagis/anaconda3/lib/python3.8/site-packages/IPython/core/ultratb.py\", line 1124, in structured_traceback\n",
      "    formatted_exception = self.format_exception_as_a_whole(etype, evalue, etb, number_of_lines_of_context,\n",
      "  File \"/home/nagis/anaconda3/lib/python3.8/site-packages/IPython/core/ultratb.py\", line 1082, in format_exception_as_a_whole\n",
      "    last_unique, recursion_repeat = find_recursion(orig_etype, evalue, records)\n",
      "  File \"/home/nagis/anaconda3/lib/python3.8/site-packages/IPython/core/ultratb.py\", line 382, in find_recursion\n",
      "    return len(records), 0\n",
      "TypeError: object of type 'NoneType' has no len()\n",
      "\n",
      "During handling of the above exception, another exception occurred:\n",
      "\n",
      "Traceback (most recent call last):\n",
      "  File \"/home/nagis/anaconda3/lib/python3.8/site-packages/IPython/core/interactiveshell.py\", line 2061, in showtraceback\n",
      "    stb = value._render_traceback_()\n",
      "AttributeError: 'TypeError' object has no attribute '_render_traceback_'\n",
      "\n",
      "During handling of the above exception, another exception occurred:\n",
      "\n",
      "Traceback (most recent call last):\n",
      "  File \"/home/nagis/anaconda3/lib/python3.8/site-packages/IPython/core/ultratb.py\", line 1101, in get_records\n",
      "    return _fixed_getinnerframes(etb, number_of_lines_of_context, tb_offset)\n",
      "  File \"/home/nagis/anaconda3/lib/python3.8/site-packages/IPython/core/ultratb.py\", line 248, in wrapped\n",
      "    return f(*args, **kwargs)\n",
      "  File \"/home/nagis/anaconda3/lib/python3.8/site-packages/IPython/core/ultratb.py\", line 281, in _fixed_getinnerframes\n",
      "    records = fix_frame_records_filenames(inspect.getinnerframes(etb, context))\n",
      "  File \"/home/nagis/anaconda3/lib/python3.8/inspect.py\", line 1515, in getinnerframes\n",
      "    frameinfo = (tb.tb_frame,) + getframeinfo(tb, context)\n",
      "  File \"/home/nagis/anaconda3/lib/python3.8/inspect.py\", line 1473, in getframeinfo\n",
      "    filename = getsourcefile(frame) or getfile(frame)\n",
      "  File \"/home/nagis/anaconda3/lib/python3.8/inspect.py\", line 708, in getsourcefile\n",
      "    if getattr(getmodule(object, filename), '__loader__', None) is not None:\n",
      "  File \"/home/nagis/anaconda3/lib/python3.8/inspect.py\", line 754, in getmodule\n",
      "    os.path.realpath(f)] = module.__name__\n",
      "  File \"/home/nagis/anaconda3/lib/python3.8/posixpath.py\", line 391, in realpath\n",
      "    path, ok = _joinrealpath(filename[:0], filename, {})\n",
      "  File \"/home/nagis/anaconda3/lib/python3.8/posixpath.py\", line 425, in _joinrealpath\n",
      "    if not islink(newpath):\n",
      "  File \"/home/nagis/anaconda3/lib/python3.8/posixpath.py\", line 167, in islink\n",
      "    st = os.lstat(path)\n",
      "KeyboardInterrupt\n"
     ]
    },
    {
     "name": "stderr",
     "output_type": "stream",
     "text": [
      "ERROR:root:Internal Python error in the inspect module.\n",
      "Below is the traceback from this internal error.\n",
      "\n"
     ]
    },
    {
     "name": "stdout",
     "output_type": "stream",
     "text": [
      "Traceback (most recent call last):\n",
      "  File \"/home/nagis/anaconda3/lib/python3.8/site-packages/optuna/study/_optimize.py\", line 103, in _optimize\n",
      "    completed, futures = wait(futures, return_when=FIRST_COMPLETED)\n",
      "  File \"/home/nagis/anaconda3/lib/python3.8/concurrent/futures/_base.py\", line 305, in wait\n",
      "    waiter.event.wait(timeout)\n",
      "  File \"/home/nagis/anaconda3/lib/python3.8/threading.py\", line 558, in wait\n",
      "    signaled = self._cond.wait(timeout)\n",
      "  File \"/home/nagis/anaconda3/lib/python3.8/threading.py\", line 302, in wait\n",
      "    waiter.acquire()\n",
      "KeyboardInterrupt\n",
      "\n",
      "During handling of the above exception, another exception occurred:\n",
      "\n",
      "Traceback (most recent call last):\n",
      "  File \"/home/nagis/anaconda3/lib/python3.8/site-packages/IPython/core/interactiveshell.py\", line 3437, in run_code\n",
      "    exec(code_obj, self.user_global_ns, self.user_ns)\n",
      "  File \"<ipython-input-10-695d49607de3>\", line 18, in <module>\n",
      "    study.optimize(objective, n_trials=3000, timeout=86400, n_jobs=4, callbacks=[callback])\n",
      "  File \"/home/nagis/anaconda3/lib/python3.8/site-packages/optuna/study/study.py\", line 400, in optimize\n",
      "    _optimize(\n",
      "  File \"/home/nagis/anaconda3/lib/python3.8/site-packages/optuna/study/_optimize.py\", line 108, in _optimize\n",
      "    futures.add(\n",
      "  File \"/home/nagis/anaconda3/lib/python3.8/concurrent/futures/_base.py\", line 636, in __exit__\n",
      "    self.shutdown(wait=True)\n",
      "  File \"/home/nagis/anaconda3/lib/python3.8/concurrent/futures/thread.py\", line 236, in shutdown\n",
      "    t.join()\n",
      "  File \"/home/nagis/anaconda3/lib/python3.8/threading.py\", line 1011, in join\n",
      "    self._wait_for_tstate_lock()\n",
      "  File \"/home/nagis/anaconda3/lib/python3.8/threading.py\", line 1027, in _wait_for_tstate_lock\n",
      "    elif lock.acquire(block, timeout):\n",
      "KeyboardInterrupt\n",
      "\n",
      "During handling of the above exception, another exception occurred:\n",
      "\n",
      "Traceback (most recent call last):\n",
      "  File \"/home/nagis/anaconda3/lib/python3.8/site-packages/IPython/core/interactiveshell.py\", line 2061, in showtraceback\n",
      "    stb = value._render_traceback_()\n",
      "AttributeError: 'KeyboardInterrupt' object has no attribute '_render_traceback_'\n",
      "\n",
      "During handling of the above exception, another exception occurred:\n",
      "\n",
      "Traceback (most recent call last):\n",
      "  File \"/home/nagis/anaconda3/lib/python3.8/site-packages/IPython/core/interactiveshell.py\", line 3357, in run_ast_nodes\n",
      "    if (await self.run_code(code, result,  async_=asy)):\n",
      "  File \"/home/nagis/anaconda3/lib/python3.8/site-packages/IPython/core/interactiveshell.py\", line 3454, in run_code\n",
      "    self.showtraceback(running_compiled_code=True)\n",
      "  File \"/home/nagis/anaconda3/lib/python3.8/site-packages/IPython/core/interactiveshell.py\", line 2063, in showtraceback\n",
      "    stb = self.InteractiveTB.structured_traceback(etype,\n",
      "  File \"/home/nagis/anaconda3/lib/python3.8/site-packages/IPython/core/ultratb.py\", line 1367, in structured_traceback\n",
      "    return FormattedTB.structured_traceback(\n",
      "  File \"/home/nagis/anaconda3/lib/python3.8/site-packages/IPython/core/ultratb.py\", line 1267, in structured_traceback\n",
      "    return VerboseTB.structured_traceback(\n",
      "  File \"/home/nagis/anaconda3/lib/python3.8/site-packages/IPython/core/ultratb.py\", line 1124, in structured_traceback\n",
      "    formatted_exception = self.format_exception_as_a_whole(etype, evalue, etb, number_of_lines_of_context,\n",
      "  File \"/home/nagis/anaconda3/lib/python3.8/site-packages/IPython/core/ultratb.py\", line 1082, in format_exception_as_a_whole\n",
      "    last_unique, recursion_repeat = find_recursion(orig_etype, evalue, records)\n",
      "  File \"/home/nagis/anaconda3/lib/python3.8/site-packages/IPython/core/ultratb.py\", line 382, in find_recursion\n",
      "    return len(records), 0\n",
      "TypeError: object of type 'NoneType' has no len()\n",
      "\n",
      "During handling of the above exception, another exception occurred:\n",
      "\n",
      "Traceback (most recent call last):\n",
      "  File \"/home/nagis/anaconda3/lib/python3.8/site-packages/IPython/core/interactiveshell.py\", line 2061, in showtraceback\n",
      "    stb = value._render_traceback_()\n",
      "AttributeError: 'TypeError' object has no attribute '_render_traceback_'\n",
      "\n",
      "During handling of the above exception, another exception occurred:\n",
      "\n",
      "Traceback (most recent call last):\n",
      "  File \"/home/nagis/anaconda3/lib/python3.8/site-packages/IPython/core/interactiveshell.py\", line 2940, in _run_cell\n",
      "    return runner(coro)\n",
      "  File \"/home/nagis/anaconda3/lib/python3.8/site-packages/IPython/core/async_helpers.py\", line 68, in _pseudo_sync_runner\n",
      "    coro.send(None)\n",
      "  File \"/home/nagis/anaconda3/lib/python3.8/site-packages/IPython/core/interactiveshell.py\", line 3165, in run_cell_async\n",
      "    has_raised = await self.run_ast_nodes(code_ast.body, cell_name,\n",
      "  File \"/home/nagis/anaconda3/lib/python3.8/site-packages/IPython/core/interactiveshell.py\", line 3376, in run_ast_nodes\n",
      "    self.showtraceback()\n",
      "  File \"/home/nagis/anaconda3/lib/python3.8/site-packages/IPython/core/interactiveshell.py\", line 2063, in showtraceback\n",
      "    stb = self.InteractiveTB.structured_traceback(etype,\n",
      "  File \"/home/nagis/anaconda3/lib/python3.8/site-packages/IPython/core/ultratb.py\", line 1367, in structured_traceback\n",
      "    return FormattedTB.structured_traceback(\n",
      "  File \"/home/nagis/anaconda3/lib/python3.8/site-packages/IPython/core/ultratb.py\", line 1267, in structured_traceback\n",
      "    return VerboseTB.structured_traceback(\n",
      "  File \"/home/nagis/anaconda3/lib/python3.8/site-packages/IPython/core/ultratb.py\", line 1142, in structured_traceback\n",
      "    formatted_exceptions += self.format_exception_as_a_whole(etype, evalue, etb, lines_of_context,\n",
      "  File \"/home/nagis/anaconda3/lib/python3.8/site-packages/IPython/core/ultratb.py\", line 1082, in format_exception_as_a_whole\n",
      "    last_unique, recursion_repeat = find_recursion(orig_etype, evalue, records)\n",
      "  File \"/home/nagis/anaconda3/lib/python3.8/site-packages/IPython/core/ultratb.py\", line 382, in find_recursion\n",
      "    return len(records), 0\n",
      "TypeError: object of type 'NoneType' has no len()\n",
      "\n",
      "During handling of the above exception, another exception occurred:\n",
      "\n",
      "Traceback (most recent call last):\n",
      "  File \"/home/nagis/anaconda3/lib/python3.8/site-packages/IPython/core/interactiveshell.py\", line 2061, in showtraceback\n",
      "    stb = value._render_traceback_()\n",
      "AttributeError: 'TypeError' object has no attribute '_render_traceback_'\n",
      "\n",
      "During handling of the above exception, another exception occurred:\n",
      "\n",
      "Traceback (most recent call last):\n",
      "  File \"/home/nagis/anaconda3/lib/python3.8/site-packages/IPython/core/ultratb.py\", line 1101, in get_records\n",
      "    return _fixed_getinnerframes(etb, number_of_lines_of_context, tb_offset)\n",
      "  File \"/home/nagis/anaconda3/lib/python3.8/site-packages/IPython/core/ultratb.py\", line 248, in wrapped\n",
      "    return f(*args, **kwargs)\n",
      "  File \"/home/nagis/anaconda3/lib/python3.8/site-packages/IPython/core/ultratb.py\", line 281, in _fixed_getinnerframes\n",
      "    records = fix_frame_records_filenames(inspect.getinnerframes(etb, context))\n",
      "  File \"/home/nagis/anaconda3/lib/python3.8/inspect.py\", line 1515, in getinnerframes\n",
      "    frameinfo = (tb.tb_frame,) + getframeinfo(tb, context)\n",
      "  File \"/home/nagis/anaconda3/lib/python3.8/inspect.py\", line 1473, in getframeinfo\n",
      "    filename = getsourcefile(frame) or getfile(frame)\n",
      "  File \"/home/nagis/anaconda3/lib/python3.8/inspect.py\", line 708, in getsourcefile\n",
      "    if getattr(getmodule(object, filename), '__loader__', None) is not None:\n",
      "  File \"/home/nagis/anaconda3/lib/python3.8/inspect.py\", line 751, in getmodule\n",
      "    f = getabsfile(module)\n",
      "  File \"/home/nagis/anaconda3/lib/python3.8/inspect.py\", line 720, in getabsfile\n",
      "    _filename = getsourcefile(object) or getfile(object)\n",
      "  File \"/home/nagis/anaconda3/lib/python3.8/inspect.py\", line 705, in getsourcefile\n",
      "    if os.path.exists(filename):\n",
      "  File \"/home/nagis/anaconda3/lib/python3.8/genericpath.py\", line 19, in exists\n",
      "    os.stat(path)\n",
      "KeyboardInterrupt\n"
     ]
    }
   ],
   "source": [
    "storage_path = f\"study.db\"\n",
    "storage = f\"sqlite:///{storage_path}\"\n",
    "study_name = \"study\"\n",
    "study = optuna.create_study(storage=storage, load_if_exists=True, study_name=study_name, direction=\"maximize\")\n",
    "\n",
    "def callback(study, trial):\n",
    "    try:\n",
    "        if study.best_value == trial.value:\n",
    "            print(f\"Updated! {study.best_value}\")\n",
    "            index_parallel = trial.number % 12\n",
    "            parameters_changed_filename = f\"{index_parallel}_{FILENAME}\"\n",
    "            !cp {parameters_changed_filename} 00000optimized.cpp\n",
    "        print(\"callback ok\")\n",
    "    except:\n",
    "        print(\":(\")\n",
    "\n",
    "objective = partial(objective_with_index, n_internal_parallel=4)\n",
    "study.optimize(objective, n_trials=3000, timeout=86400, n_jobs=4, callbacks=[callback])"
   ]
  },
  {
   "cell_type": "code",
   "execution_count": null,
   "id": "6c298dc0",
   "metadata": {},
   "outputs": [],
   "source": []
  }
 ],
 "metadata": {
  "kernelspec": {
   "display_name": "Python 3",
   "language": "python",
   "name": "python3"
  },
  "language_info": {
   "codemirror_mode": {
    "name": "ipython",
    "version": 3
   },
   "file_extension": ".py",
   "mimetype": "text/x-python",
   "name": "python",
   "nbconvert_exporter": "python",
   "pygments_lexer": "ipython3",
   "version": "3.8.8"
  }
 },
 "nbformat": 4,
 "nbformat_minor": 5
}
