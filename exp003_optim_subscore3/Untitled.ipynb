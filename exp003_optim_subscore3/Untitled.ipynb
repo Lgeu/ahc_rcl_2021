{
 "cells": [
  {
   "cell_type": "code",
   "execution_count": 1,
   "id": "b4eb989b",
   "metadata": {},
   "outputs": [],
   "source": [
    "import re\n",
    "import sys\n",
    "from time import time, sleep\n",
    "from pprint import pprint\n",
    "from functools import partial\n",
    "from multiprocessing import Pool\n",
    "\n",
    "import numpy as np\n",
    "import pandas as pd\n",
    "import optuna\n",
    "import matplotlib.pyplot as plt\n",
    "\n",
    "FILENAME = \"main.cpp\""
   ]
  },
  {
   "cell_type": "code",
   "execution_count": 2,
   "id": "4a2925aa",
   "metadata": {},
   "outputs": [],
   "source": [
    "!cp ../answer/main.cpp ./{FILENAME}"
   ]
  },
  {
   "cell_type": "code",
   "execution_count": 3,
   "id": "852a0ad2",
   "metadata": {
    "scrolled": true
   },
   "outputs": [
    {
     "name": "stdout",
     "output_type": "stream",
     "text": [
      "\u001b[01m\u001b[Kmain.cpp:49:\u001b[m\u001b[K \u001b[01;35m\u001b[Kwarning: \u001b[m\u001b[Kignoring #pragma clang attribute [\u001b[01;35m\u001b[K-Wunknown-pragmas\u001b[m\u001b[K]\n",
      "   49 | #pragma clang attribute push (__attribute__((target(\"arch=skylake\"))),apply_to=function)\n",
      "      | \n",
      "\u001b[01m\u001b[Kmain.cpp:1283:\u001b[m\u001b[K \u001b[01;35m\u001b[Kwarning: \u001b[m\u001b[Kignoring #pragma clang attribute [\u001b[01;35m\u001b[K-Wunknown-pragmas\u001b[m\u001b[K]\n",
      " 1283 | #pragma clang attribute pop\n",
      "      | \n",
      "\u001b[01m\u001b[Kmain.cpp:\u001b[m\u001b[K In function ‘\u001b[01m\u001b[Kvoid Solve()\u001b[m\u001b[K’:\n",
      "\u001b[01m\u001b[Kmain.cpp:1192:72:\u001b[m\u001b[K \u001b[01;35m\u001b[Kwarning: \u001b[m\u001b[Kmissing initializer for member ‘\u001b[01m\u001b[KSolve()::Node::action\u001b[m\u001b[K’ [\u001b[01;35m\u001b[K-Wmissing-field-initializers\u001b[m\u001b[K]\n",
      " 1192 |   node_buffer.push({ state_buffer[0].score, nullptr, &state_buffer[0] }\u001b[01;35m\u001b[K)\u001b[m\u001b[K;\n",
      "      |                                                                        \u001b[01;35m\u001b[K^\u001b[m\u001b[K\n",
      "main.cpp: In instantiation of ‘\u001b[01m\u001b[KHashMap<T, size, KeyType>::HashMap() [with T = double; int size = 1048576; KeyType = long long unsigned int]\u001b[m\u001b[K’:\n",
      "\u001b[01m\u001b[Kmain.cpp:535:26:\u001b[m\u001b[K   required from here\n",
      "\u001b[01m\u001b[Kmain.cpp:477:30:\u001b[m\u001b[K \u001b[01;35m\u001b[Kwarning: \u001b[m\u001b[Ksuggest parentheses around ‘\u001b[01m\u001b[K-\u001b[m\u001b[K’ in operand of ‘\u001b[01m\u001b[K&\u001b[m\u001b[K’ [\u001b[01;35m\u001b[K-Wparentheses\u001b[m\u001b[K]\n",
      "  477 |   static_assert((size & \u001b[01;35m\u001b[Ksize - 1\u001b[m\u001b[K) == 0, \"not pow of 2\");\n",
      "      |                         \u001b[01;35m\u001b[K~~~~~^~~\u001b[m\u001b[K\n",
      "\u001b[01m\u001b[Kmain.cpp:478:9:\u001b[m\u001b[K \u001b[01;35m\u001b[Kwarning: \u001b[m\u001b[K‘\u001b[01m\u001b[Kvoid* memset(void*, int, size_t)\u001b[m\u001b[K’ clearing an object of type ‘\u001b[01m\u001b[Kstd::array<std::pair<long long unsigned int, double>, 1048576>::value_type\u001b[m\u001b[K’ {aka ‘\u001b[01m\u001b[Kstruct std::pair<long long unsigned int, double>\u001b[m\u001b[K’} with no trivial copy-assignment; use assignment instead [\u001b[01;35m\u001b[K-Wclass-memaccess\u001b[m\u001b[K]\n",
      "  478 |   \u001b[01;35m\u001b[Kmemset(&data[0], 0, sizeof(data))\u001b[m\u001b[K;\n",
      "      |   \u001b[01;35m\u001b[K~~~~~~^~~~~~~~~~~~~~~~~~~~~~~~~~~\u001b[m\u001b[K\n",
      "In file included from \u001b[01m\u001b[K/usr/include/c++/9/bits/stl_algobase.h:64\u001b[m\u001b[K,\n",
      "                 from \u001b[01m\u001b[K/usr/include/c++/9/bits/char_traits.h:39\u001b[m\u001b[K,\n",
      "                 from \u001b[01m\u001b[K/usr/include/c++/9/ios:40\u001b[m\u001b[K,\n",
      "                 from \u001b[01m\u001b[K/usr/include/c++/9/ostream:38\u001b[m\u001b[K,\n",
      "                 from \u001b[01m\u001b[K/usr/include/c++/9/iostream:39\u001b[m\u001b[K,\n",
      "                 from \u001b[01m\u001b[Kmain.cpp:8\u001b[m\u001b[K:\n",
      "\u001b[01m\u001b[K/usr/include/c++/9/bits/stl_pair.h:208:12:\u001b[m\u001b[K \u001b[01;36m\u001b[Knote: \u001b[m\u001b[K‘\u001b[01m\u001b[Kstd::array<std::pair<long long unsigned int, double>, 1048576>::value_type\u001b[m\u001b[K’ {aka ‘\u001b[01m\u001b[Kstruct std::pair<long long unsigned int, double>\u001b[m\u001b[K’} declared here\n",
      "  208 |     struct \u001b[01;36m\u001b[Kpair\u001b[m\u001b[K\n",
      "      |            \u001b[01;36m\u001b[K^~~~\u001b[m\u001b[K\n",
      "main.cpp: In instantiation of ‘\u001b[01m\u001b[KHashMap<T, size, KeyType>::HashMap() [with T = Solve()::Node*; int size = 524288; KeyType = long long unsigned int]\u001b[m\u001b[K’:\n",
      "\u001b[01m\u001b[Kmain.cpp:1199:48:\u001b[m\u001b[K   required from here\n",
      "\u001b[01m\u001b[Kmain.cpp:477:30:\u001b[m\u001b[K \u001b[01;35m\u001b[Kwarning: \u001b[m\u001b[Ksuggest parentheses around ‘\u001b[01m\u001b[K-\u001b[m\u001b[K’ in operand of ‘\u001b[01m\u001b[K&\u001b[m\u001b[K’ [\u001b[01;35m\u001b[K-Wparentheses\u001b[m\u001b[K]\n",
      "  477 |   static_assert((size & \u001b[01;35m\u001b[Ksize - 1\u001b[m\u001b[K) == 0, \"not pow of 2\");\n",
      "      |                         \u001b[01;35m\u001b[K~~~~~^~~\u001b[m\u001b[K\n",
      "\u001b[01m\u001b[Kmain.cpp:478:9:\u001b[m\u001b[K \u001b[01;35m\u001b[Kwarning: \u001b[m\u001b[K‘\u001b[01m\u001b[Kvoid* memset(void*, int, size_t)\u001b[m\u001b[K’ clearing an object of type ‘\u001b[01m\u001b[Kstd::array<std::pair<long long unsigned int, Solve()::Node*>, 524288>::value_type\u001b[m\u001b[K’ {aka ‘\u001b[01m\u001b[Kstruct std::pair<long long unsigned int, Solve()::Node*>\u001b[m\u001b[K’} with no trivial copy-assignment; use assignment instead [\u001b[01;35m\u001b[K-Wclass-memaccess\u001b[m\u001b[K]\n",
      "  478 |   \u001b[01;35m\u001b[Kmemset(&data[0], 0, sizeof(data))\u001b[m\u001b[K;\n",
      "      |   \u001b[01;35m\u001b[K~~~~~~^~~~~~~~~~~~~~~~~~~~~~~~~~~\u001b[m\u001b[K\n",
      "In file included from \u001b[01m\u001b[K/usr/include/c++/9/bits/stl_algobase.h:64\u001b[m\u001b[K,\n",
      "                 from \u001b[01m\u001b[K/usr/include/c++/9/bits/char_traits.h:39\u001b[m\u001b[K,\n",
      "                 from \u001b[01m\u001b[K/usr/include/c++/9/ios:40\u001b[m\u001b[K,\n",
      "                 from \u001b[01m\u001b[K/usr/include/c++/9/ostream:38\u001b[m\u001b[K,\n",
      "                 from \u001b[01m\u001b[K/usr/include/c++/9/iostream:39\u001b[m\u001b[K,\n",
      "                 from \u001b[01m\u001b[Kmain.cpp:8\u001b[m\u001b[K:\n",
      "\u001b[01m\u001b[K/usr/include/c++/9/bits/stl_pair.h:208:12:\u001b[m\u001b[K \u001b[01;36m\u001b[Knote: \u001b[m\u001b[K‘\u001b[01m\u001b[Kstd::array<std::pair<long long unsigned int, Solve()::Node*>, 524288>::value_type\u001b[m\u001b[K’ {aka ‘\u001b[01m\u001b[Kstruct std::pair<long long unsigned int, Solve()::Node*>\u001b[m\u001b[K’} declared here\n",
      "  208 |     struct \u001b[01;36m\u001b[Kpair\u001b[m\u001b[K\n",
      "      |            \u001b[01;36m\u001b[K^~~~\u001b[m\u001b[K\n",
      "main.cpp: In instantiation of ‘\u001b[01m\u001b[Kvoid HashMap<T, size, KeyType>::clear() [with T = Solve()::Node*; int size = 524288; KeyType = long long unsigned int]\u001b[m\u001b[K’:\n",
      "\u001b[01m\u001b[Kmain.cpp:1200:33:\u001b[m\u001b[K   required from here\n",
      "\u001b[01m\u001b[Kmain.cpp:531:9:\u001b[m\u001b[K \u001b[01;35m\u001b[Kwarning: \u001b[m\u001b[K‘\u001b[01m\u001b[Kvoid* memset(void*, int, size_t)\u001b[m\u001b[K’ clearing an object of type ‘\u001b[01m\u001b[Kstd::array<std::pair<long long unsigned int, Solve()::Node*>, 524288>::value_type\u001b[m\u001b[K’ {aka ‘\u001b[01m\u001b[Kstruct std::pair<long long unsigned int, Solve()::Node*>\u001b[m\u001b[K’} with no trivial copy-assignment; use assignment instead [\u001b[01;35m\u001b[K-Wclass-memaccess\u001b[m\u001b[K]\n",
      "  531 |   \u001b[01;35m\u001b[Kmemset(&data[0], 0, sizeof(data))\u001b[m\u001b[K;\n",
      "      |   \u001b[01;35m\u001b[K~~~~~~^~~~~~~~~~~~~~~~~~~~~~~~~~~\u001b[m\u001b[K\n",
      "In file included from \u001b[01m\u001b[K/usr/include/c++/9/bits/stl_algobase.h:64\u001b[m\u001b[K,\n",
      "                 from \u001b[01m\u001b[K/usr/include/c++/9/bits/char_traits.h:39\u001b[m\u001b[K,\n",
      "                 from \u001b[01m\u001b[K/usr/include/c++/9/ios:40\u001b[m\u001b[K,\n",
      "                 from \u001b[01m\u001b[K/usr/include/c++/9/ostream:38\u001b[m\u001b[K,\n",
      "                 from \u001b[01m\u001b[K/usr/include/c++/9/iostream:39\u001b[m\u001b[K,\n",
      "                 from \u001b[01m\u001b[Kmain.cpp:8\u001b[m\u001b[K:\n",
      "\u001b[01m\u001b[K/usr/include/c++/9/bits/stl_pair.h:208:12:\u001b[m\u001b[K \u001b[01;36m\u001b[Knote: \u001b[m\u001b[K‘\u001b[01m\u001b[Kstd::array<std::pair<long long unsigned int, Solve()::Node*>, 524288>::value_type\u001b[m\u001b[K’ {aka ‘\u001b[01m\u001b[Kstruct std::pair<long long unsigned int, Solve()::Node*>\u001b[m\u001b[K’} declared here\n",
      "  208 |     struct \u001b[01;36m\u001b[Kpair\u001b[m\u001b[K\n",
      "      |            \u001b[01;36m\u001b[K^~~~\u001b[m\u001b[K\n",
      "\u001b[01m\u001b[Kmain.cpp:1107:8:\u001b[m\u001b[K \u001b[01;35m\u001b[Kwarning: \u001b[m\u001b[Kignoring return value of ‘\u001b[01m\u001b[Kint scanf(const char*, ...)\u001b[m\u001b[K’, declared with attribute warn_unused_result [\u001b[01;35m\u001b[K-Wunused-result\u001b[m\u001b[K]\n",
      " 1107 |   \u001b[01;35m\u001b[Kscanf(\"%d %d %d\", &buf, &buf, &buf)\u001b[m\u001b[K;\n",
      "      |   \u001b[01;35m\u001b[K~~~~~^~~~~~~~~~~~~~~~~~~~~~~~~~~~~~\u001b[m\u001b[K\n",
      "\u001b[01m\u001b[Kmain.cpp:1109:9:\u001b[m\u001b[K \u001b[01;35m\u001b[Kwarning: \u001b[m\u001b[Kignoring return value of ‘\u001b[01m\u001b[Kint scanf(const char*, ...)\u001b[m\u001b[K’, declared with attribute warn_unused_result [\u001b[01;35m\u001b[K-Wunused-result\u001b[m\u001b[K]\n",
      " 1109 |    \u001b[01;35m\u001b[Kscanf(\"%hhd %hhd %hd %hd %hd\", &R[i], &C[i], &S[i], &E[i], &V[i])\u001b[m\u001b[K;\n",
      "      |    \u001b[01;35m\u001b[K~~~~~^~~~~~~~~~~~~~~~~~~~~~~~~~~~~~~~~~~~~~~~~~~~~~~~~~~~~~~~~~~~\u001b[m\u001b[K\n"
     ]
    }
   ],
   "source": [
    "#!g++ {FILENAME} -std=gnu++17 -Wall -Wextra -O2 -DONLINE_JUDGE -o {FILENAME}.out\n",
    "!g++ {FILENAME} -std=gnu++17 -Wall -Wextra -O2 -o {FILENAME}.out"
   ]
  },
  {
   "cell_type": "code",
   "execution_count": 4,
   "id": "2ee1309a",
   "metadata": {
    "scrolled": true
   },
   "outputs": [
    {
     "name": "stdout",
     "output_type": "stream",
     "text": [
      "0000.txt  0025.txt  0050.txt  0075.txt\t0100.txt  0125.txt  0150.txt  0175.txt\r\n",
      "0001.txt  0026.txt  0051.txt  0076.txt\t0101.txt  0126.txt  0151.txt  0176.txt\r\n",
      "0002.txt  0027.txt  0052.txt  0077.txt\t0102.txt  0127.txt  0152.txt  0177.txt\r\n",
      "0003.txt  0028.txt  0053.txt  0078.txt\t0103.txt  0128.txt  0153.txt  0178.txt\r\n",
      "0004.txt  0029.txt  0054.txt  0079.txt\t0104.txt  0129.txt  0154.txt  0179.txt\r\n",
      "0005.txt  0030.txt  0055.txt  0080.txt\t0105.txt  0130.txt  0155.txt  0180.txt\r\n",
      "0006.txt  0031.txt  0056.txt  0081.txt\t0106.txt  0131.txt  0156.txt  0181.txt\r\n",
      "0007.txt  0032.txt  0057.txt  0082.txt\t0107.txt  0132.txt  0157.txt  0182.txt\r\n",
      "0008.txt  0033.txt  0058.txt  0083.txt\t0108.txt  0133.txt  0158.txt  0183.txt\r\n",
      "0009.txt  0034.txt  0059.txt  0084.txt\t0109.txt  0134.txt  0159.txt  0184.txt\r\n",
      "0010.txt  0035.txt  0060.txt  0085.txt\t0110.txt  0135.txt  0160.txt  0185.txt\r\n",
      "0011.txt  0036.txt  0061.txt  0086.txt\t0111.txt  0136.txt  0161.txt  0186.txt\r\n",
      "0012.txt  0037.txt  0062.txt  0087.txt\t0112.txt  0137.txt  0162.txt  0187.txt\r\n",
      "0013.txt  0038.txt  0063.txt  0088.txt\t0113.txt  0138.txt  0163.txt  0188.txt\r\n",
      "0014.txt  0039.txt  0064.txt  0089.txt\t0114.txt  0139.txt  0164.txt  0189.txt\r\n",
      "0015.txt  0040.txt  0065.txt  0090.txt\t0115.txt  0140.txt  0165.txt  0190.txt\r\n",
      "0016.txt  0041.txt  0066.txt  0091.txt\t0116.txt  0141.txt  0166.txt  0191.txt\r\n",
      "0017.txt  0042.txt  0067.txt  0092.txt\t0117.txt  0142.txt  0167.txt  0192.txt\r\n",
      "0018.txt  0043.txt  0068.txt  0093.txt\t0118.txt  0143.txt  0168.txt  0193.txt\r\n",
      "0019.txt  0044.txt  0069.txt  0094.txt\t0119.txt  0144.txt  0169.txt  0194.txt\r\n",
      "0020.txt  0045.txt  0070.txt  0095.txt\t0120.txt  0145.txt  0170.txt  0195.txt\r\n",
      "0021.txt  0046.txt  0071.txt  0096.txt\t0121.txt  0146.txt  0171.txt  0196.txt\r\n",
      "0022.txt  0047.txt  0072.txt  0097.txt\t0122.txt  0147.txt  0172.txt  0197.txt\r\n",
      "0023.txt  0048.txt  0073.txt  0098.txt\t0123.txt  0148.txt  0173.txt  0198.txt\r\n",
      "0024.txt  0049.txt  0074.txt  0099.txt\t0124.txt  0149.txt  0174.txt  0199.txt\r\n"
     ]
    }
   ],
   "source": [
    "# テストケース生成\n",
    "SEED = 1000\n",
    "N_TESTCASES = 200\n",
    "\n",
    "!mkdir in\n",
    "for i in range(N_TESTCASES):\n",
    "    filename = f\"{i:04d}.txt\"\n",
    "    seed = SEED + i\n",
    "    !python3 ../A/tester/generator.py {seed} > ./in/{filename}\n",
    "!ls in"
   ]
  },
  {
   "cell_type": "code",
   "execution_count": 5,
   "id": "be247e9e",
   "metadata": {},
   "outputs": [],
   "source": [
    "TESTCASE_DIRECTORY = \"./in/\"\n",
    "TESTCASES = [f\"{i:04d}.txt\" for i in range(N_TESTCASES)]"
   ]
  },
  {
   "cell_type": "code",
   "execution_count": 7,
   "id": "8525b6ea",
   "metadata": {
    "scrolled": true
   },
   "outputs": [
    {
     "name": "stdout",
     "output_type": "stream",
     "text": [
      "mkdir: cannot create directory ‘out’: File exists\n",
      "0013 time:4.3098 score:4565688\n",
      "0039 time:4.6223 score:4998935\n",
      "0026 time:4.9902 score:4697365\n",
      "0000 time:5.0362 score:4440254\n",
      "0040 time:3.8789 score:4448945\n",
      "0014 time:4.2194 score:5083529\n",
      "0027 time:3.8717 score:5140534\n",
      "0001 time:5.0256 score:4971467\n",
      "0041 time:3.8895 score:3780622\n",
      "0015 time:3.9643 score:5219098\n",
      "0028 time:4.3334 score:4621682\n",
      "0002 time:3.6021 score:4217379\n",
      "0016 time:3.6823 score:4545987\n",
      "0042 time:4.2501 score:4814997\n",
      "0029 time:3.5779 score:4624045\n",
      "0003 time:3.8061 score:4107488\n",
      "0017 time:4.0112 score:3870332\n",
      "0043 time:4.0552 score:4567333\n",
      "0030 time:3.8351 score:4365426\n",
      "0004 time:3.5112 score:4149345\n",
      "0018 time:3.6461 score:4672115\n",
      "0031 time:3.4589 score:3900748\n",
      "0044 time:3.6654 score:4911358\n",
      "0005 time:4.3910 score:4812859\n",
      "0019 time:4.0143 score:4008483\n",
      "0032 time:3.9397 score:5031385\n",
      "0045 time:3.8142 score:4524799\n",
      "0006 time:3.4805 score:4343080\n",
      "0020 time:4.3364 0033score:4618208\n",
      " time:4.0831 score:4056743\n",
      "0046 time:4.3235 score:4818407\n",
      "0007 time:3.6597 score:4897410\n",
      "0034 time:3.9213 score:4779481\n",
      "0021 time:4.1310 score:4569908\n",
      "00470008 time:3.9770  time:4.2261score:4820223\n",
      " score:4646987\n",
      "0035 time:3.8578 score:4344237\n",
      "0022 time:3.8383 score:4307117\n",
      "0048 time:3.8115 score:4015965\n",
      "0009 time:4.0016 score:4593499\n",
      "0036 time:3.6214 score:5535215\n",
      "0023 time:3.8825 score:4358084\n",
      "0010 time:3.8128 score:4271464\n",
      "0049 time:4.0568 score:4543716\n",
      "0037 time:4.0028 score:4485528\n",
      "0024 time:4.1329 score:4489570\n",
      "0050 time:3.6228 score:4120088\n",
      "0011 time:3.8405 score:4789389\n",
      "0038 time:3.7593 score:5476581\n",
      "0051 time:3.7905 score:4138065\n",
      "0025 time:4.1870 score:4395203\n",
      "0012 time:3.8649 score:4164816\n",
      "0052 time:3.9952 score:4353853\n",
      "0091 time:4.2149 score:4357014\n",
      "0065 time:4.5583 score:4542174\n",
      "0078 time:4.4960 score:4894412\n",
      "0053 time:4.0453 score:4351067\n",
      "0092 time:4.0185 score:5244098\n",
      "0079 time:4.0830 score:4426501\n",
      "0066 time:4.4073 score:5181412\n",
      "0054 time:4.0154 score:4088490\n",
      "0093 time:3.6627 score:4658545\n",
      "0080 time:4.0260 score:4080465\n",
      "0067 time:3.9486 score:4671615\n",
      "0055 time:3.6573 score:4082176\n",
      "0094 time:3.5488 score:3951344\n",
      "0081 time:3.2471 score:4984497\n",
      "0068 time:4.1749 score:4563554\n",
      "0056 time:3.8910 score:3998737\n",
      "0082 time:3.5467 score:4442167\n",
      "0095 time:4.0987 score:5279248\n",
      "0069 time:3.8671 score:3993921\n",
      "0057 time:3.6123 score:4564668\n",
      "0083 time:3.7009 score:4546457\n",
      "0096 time:3.9493 score:4451655\n",
      "0070 time:3.9030 score:4837518\n",
      "0058 time:3.8562 score:4307361\n",
      "0084 time:3.6955 score:4051892\n",
      "0097 time:3.6755 score:4178843\n",
      "0071 time:3.5920 score:4090228\n",
      "0059 time:3.6881 score:4379287\n",
      "0085 time:3.6911 score:4468434\n",
      "0098 time:4.1756 score:4336245\n",
      "0072 time:3.7031 score:4146255\n",
      "0060 time:3.9680 score:4285718\n",
      "0086 time:3.8999 score:4826432\n",
      "0099 time:3.4737 score:4249974\n",
      "0073 time:3.6019 score:5083485\n",
      "0061 time:3.5699 score:4451730\n",
      "0087 time:3.4199 score:4253494\n",
      "0100 time:4.1462 score:4424968\n",
      "0074 time:3.6577 score:4145718\n",
      "0062 time:3.9914 score:4507796\n",
      "0088 time:3.5648 score:4284562\n",
      "0101 time:3.6011 score:4780541\n",
      "0075 time:3.6238 score:3797126\n",
      "0089 time:3.5214 score:4092945\n",
      "0063 time:4.0884 \n",
      "score:43237580102 time:3.7670 score:4776040\n",
      "0076 time:3.9729 score:4783899\n",
      "0090 time:3.5118 score:4273644\n",
      "0064 time:3.8925 score:3735361\n",
      "0103 time:4.0646 score:4402575\n",
      "0077 time:4.2366 score:4433332\n",
      "0104 time:3.1014 score:3886783\n",
      "0117 time:3.7830 score:4837470\n",
      "0130 time:3.8681 score:4476541\n",
      "0143 time:3.6996 score:4572056\n",
      "0105time:3.6549  score:4218704\n",
      "0118 time:3.9616 score:4524075\n",
      "0131 time:4.1106 score:4348759\n",
      "0144 time:3.8675 score:4396174\n",
      "0106 time:3.7046 score:4397794\n",
      "0119 time:3.8421 score:4790560\n",
      "0132 time:3.8494 score:4939124\n",
      "0145 time:3.7939 score:4871953\n",
      "0107 time:4.3560 score:4648302\n",
      "0120 time:3.3793 score:4747945\n",
      "0133 time:3.8677 score:4177372\n",
      "0146 time:4.0439 score:4621043\n",
      "0108 time:3.5990 score:4449684\n",
      "0121 time:3.3862 score:4674875\n",
      "0134 time:3.5955 score:4199504\n",
      "0109 time:3.8914 score:4121052\n",
      "0147 time:4.4485 score:4761640\n",
      "0122 time:4.0645 score:4923464\n",
      "0135 time:4.1949 score:4015347\n",
      "0148 time:4.5022 score:4392674\n",
      "0110 time:4.5655 score:4681234\n",
      "0123 time:4.0825 score:4701417\n",
      "0136 time:3.5141 score:5130570\n",
      "0111 time:3.8254 score:4626651\n",
      "0149 time:3.8752 score:4171876\n",
      "0124 time:4.3440 score:4765518\n",
      "0137 time:4.2878 score:4268188\n",
      "0150 time:4.0086 score:4599448\n",
      "0112 time:4.3178 score:4324680\n",
      "0125 time:3.9390 score:4253022\n",
      "0138 time:3.8805 score:4182458\n",
      "0151 time:3.7448 score:3938827\n",
      "0113 time:4.1176 score:4968112\n",
      "0126 time:4.1312 score:4877374\n",
      "0139 time:4.2949 score:4500163\n",
      "0114 time:3.6140 score:3978452\n",
      "0152 time:4.3555 score:4627110\n",
      "0127 time:4.4434 score:4629864\n",
      "0140 time:4.4014 score:4369581\n",
      "0115 time:4.0128 score:4169864\n",
      "0153 time:4.3592 score:4497904\n",
      "0128 time:4.1408 score:4409267\n",
      "0141 time:4.6482 score:4840079\n",
      "0116 time:3.8713 score:4357500\n",
      "0154 time:3.9841 score:4464684\n",
      "0129 time:3.9619 score:4714366\n",
      "0156 time:4.1066 0142score:4721293\n",
      " time:4.4405 score:4165615\n",
      "0155 time:4.1210 score:4478243\n",
      "0169 time:4.4468 score:4648875\n",
      "0157 time:4.1994 score:4530128\n",
      "0182 time:4.5198 score:4808867\n",
      "0195 time:3.9910 score:4026115\n",
      "0170 time:4.1355 score:5103976\n",
      "0196 time:3.6931 score:4340749\n",
      "0183 time:3.8106 score:4444970\n",
      "0158 time:4.4654 score:4546823\n",
      "0171 time:4.2701 score:4709602\n",
      "0197 time:3.8450 score:4035790\n",
      "0184 time:4.6276 score:4558972\n",
      "0159 time:4.8644 score:4093214\n",
      "0172 time:3.6964 score:4520870\n",
      "0198 time:4.1140 score:4839223\n",
      "0185 time:3.9810 score:4606273\n",
      "0160 time:4.0025 score:5379103\n",
      "0173 time:3.7790 score:4294182\n",
      "0199 time:3.8915 score:4822010\n",
      "0186 time:3.7592 score:4235521\n",
      "0161 time:4.0241 score:4433595\n",
      "0174 time:4.0121 score:4230507\n",
      "0162 time:2.7461 score:4340409\n",
      "0187 time:3.5364 score:4680353\n",
      "0175 time:3.9980 score:4893510\n",
      "0188 time:2.7026 score:4822107\n",
      "0163 time:2.9814 score:4598334\n",
      "0189 time:2.5173 score:4633573\n",
      "0176 time:3.5789 score:4736559\n",
      "0164 time:3.3274 score:4447383\n",
      "0177 time:2.8502 score:4878548\n",
      "0190 time:3.6746 score:4576530\n",
      "0165 time:3.1328 score:4157775\n",
      "0191 time:2.3687 score:3896681\n",
      "0178 time:3.6096 score:4672946\n",
      "0166 time:3.3782 score:3943336\n",
      "0192 time:2.8472 score:4762918\n",
      "0179 time:2.9217 score:4278737\n",
      "0167 time:3.0504 score:4502936\n",
      "0193 time:3.0234 score:4708372\n",
      "0180 time:2.9650 score:4543738\n",
      "0168 time:2.9384 score:4677280\n",
      "0194 time:2.8046 score:4087482\n",
      "0181 time:2.4363 score:4506917\n"
     ]
    },
    {
     "data": {
      "text/plain": [
       "(225.01261425, 16.99567975774754)"
      ]
     },
     "execution_count": 7,
     "metadata": {},
     "output_type": "execute_result"
    }
   ],
   "source": [
    "# もとのスコアの確認\n",
    "\n",
    "scores = []\n",
    "times = []\n",
    "\n",
    "!mkdir out\n",
    "\n",
    "def parallel(i):\n",
    "    testcase = TESTCASES[i]\n",
    "    i = f\"{i:04d}\"\n",
    "    t0 = time()\n",
    "    !./{FILENAME}.out < {TESTCASE_DIRECTORY}{testcase} > ./out/{testcase} 2> /dev/null\n",
    "    t = time() - t0\n",
    "    score = !python3 ../A/tester/judge.py {TESTCASE_DIRECTORY}{testcase} ./out/{testcase}\n",
    "    print(i, f\"time:{t:.4f}\", *score)\n",
    "    score = int(score[0].split(\":\")[-1])\n",
    "    return score, t\n",
    "\n",
    "with Pool(4) as p:\n",
    "    for score, t in p.map(parallel, range(N_TESTCASES)):\n",
    "        scores.append(score)\n",
    "        times.append(t)\n",
    "\n",
    "np.mean(scores) * 50 / 1e6, np.std(scores) * 50 / 1e6"
   ]
  },
  {
   "cell_type": "code",
   "execution_count": 8,
   "id": "75193a3a",
   "metadata": {},
   "outputs": [
    {
     "data": {
      "image/png": "[encoded data removed]",
      "text/plain": [
       "<Figure size 432x288 with 1 Axes>"
      ]
     },
     "metadata": {
      "needs_background": "light"
     },
     "output_type": "display_data"
    }
   ],
   "source": [
    "plt.hist(scores, bins=20)\n",
    "plt.show()"
   ]
  },
  {
   "cell_type": "code",
   "execution_count": 9,
   "id": "06e71551",
   "metadata": {},
   "outputs": [
    {
     "name": "stdout",
     "output_type": "stream",
     "text": [
      "5 variables were found.\n"
     ]
    },
    {
     "data": {
      "text/html": [
       "<div>\n",
       "<style scoped>\n",
       "    .dataframe tbody tr th:only-of-type {\n",
       "        vertical-align: middle;\n",
       "    }\n",
       "\n",
       "    .dataframe tbody tr th {\n",
       "        vertical-align: top;\n",
       "    }\n",
       "\n",
       "    .dataframe thead th {\n",
       "        text-align: right;\n",
       "    }\n",
       "</style>\n",
       "<table border=\"1\" class=\"dataframe\">\n",
       "  <thead>\n",
       "    <tr style=\"text-align: right;\">\n",
       "      <th></th>\n",
       "      <th>name</th>\n",
       "      <th>method</th>\n",
       "      <th>min</th>\n",
       "      <th>max</th>\n",
       "      <th>log</th>\n",
       "      <th>left</th>\n",
       "      <th>right</th>\n",
       "    </tr>\n",
       "  </thead>\n",
       "  <tbody>\n",
       "    <tr>\n",
       "      <th>0</th>\n",
       "      <td>K_START</td>\n",
       "      <td>suggest_float</td>\n",
       "      <td>0.020</td>\n",
       "      <td>0.060</td>\n",
       "      <td>True</td>\n",
       "      <td>constexpr double K_START =</td>\n",
       "      <td>;  // OPTIMIZE [0.02, 0.06] LOG</td>\n",
       "    </tr>\n",
       "    <tr>\n",
       "      <th>1</th>\n",
       "      <td>K_END</td>\n",
       "      <td>suggest_float</td>\n",
       "      <td>0.010</td>\n",
       "      <td>0.050</td>\n",
       "      <td>True</td>\n",
       "      <td>constexpr double K_END =</td>\n",
       "      <td>;   // OPTIMIZE [0.01, 0.05] LOG</td>\n",
       "    </tr>\n",
       "    <tr>\n",
       "      <th>2</th>\n",
       "      <td>K_H</td>\n",
       "      <td>suggest_float</td>\n",
       "      <td>0.001</td>\n",
       "      <td>0.999</td>\n",
       "      <td>False</td>\n",
       "      <td>constexpr double K_H =</td>\n",
       "      <td>;      // OPTIMIZE [0.001, 0.999]</td>\n",
       "    </tr>\n",
       "    <tr>\n",
       "      <th>3</th>\n",
       "      <td>PURCHASE_TURN_LIMIT</td>\n",
       "      <td>suggest_int</td>\n",
       "      <td>780.000</td>\n",
       "      <td>880.000</td>\n",
       "      <td>False</td>\n",
       "      <td>constexpr short PURCHASE_TURN_LIMIT =</td>\n",
       "      <td>;  // OPTIMIZE [780, 880]</td>\n",
       "    </tr>\n",
       "    <tr>\n",
       "      <th>4</th>\n",
       "      <td>SUBSCORE3_TIGHT_TURN</td>\n",
       "      <td>suggest_int</td>\n",
       "      <td>0.000</td>\n",
       "      <td>2.000</td>\n",
       "      <td>False</td>\n",
       "      <td>constexpr int SUBSCORE3_TIGHT_TURN =</td>\n",
       "      <td>;     // OPTIMIZE [0, 2]</td>\n",
       "    </tr>\n",
       "  </tbody>\n",
       "</table>\n",
       "</div>"
      ],
      "text/plain": [
       "                   name         method      min      max    log  \\\n",
       "0               K_START  suggest_float    0.020    0.060   True   \n",
       "1                 K_END  suggest_float    0.010    0.050   True   \n",
       "2                   K_H  suggest_float    0.001    0.999  False   \n",
       "3   PURCHASE_TURN_LIMIT    suggest_int  780.000  880.000  False   \n",
       "4  SUBSCORE3_TIGHT_TURN    suggest_int    0.000    2.000  False   \n",
       "\n",
       "                                     left                              right  \n",
       "0             constexpr double K_START =     ;  // OPTIMIZE [0.02, 0.06] LOG  \n",
       "1               constexpr double K_END =    ;   // OPTIMIZE [0.01, 0.05] LOG  \n",
       "2                 constexpr double K_H =   ;      // OPTIMIZE [0.001, 0.999]  \n",
       "3  constexpr short PURCHASE_TURN_LIMIT =           ;  // OPTIMIZE [780, 880]  \n",
       "4   constexpr int SUBSCORE3_TIGHT_TURN =            ;     // OPTIMIZE [0, 2]  "
      ]
     },
     "metadata": {},
     "output_type": "display_data"
    }
   ],
   "source": [
    "# ここでエラー出力は何かおかしいかもしれない\n",
    "\n",
    "\n",
    "# パラメータ抽出\n",
    "with open(FILENAME) as f:\n",
    "    answer = f.read()\n",
    "\n",
    "\n",
    "variables_optimize = []\n",
    "\n",
    "for left, value, right, options in re.findall(r\"^([^/\\n]*=\\s*)(.+?)(\\s*;\\s*//(?:.*\\W)?OPTIMIZE(\\W.*))$\", answer, re.MULTILINE):\n",
    "    name = left.replace(\"=\", \"\").strip().split()[-1]\n",
    "    \n",
    "    searched = re.search(r\".*\\[(?P<min>.*),(?P<max>.*)\\].*\", options)\n",
    "    if searched:\n",
    "        min_value = max_value = None\n",
    "        try:\n",
    "            min_value = eval(searched.group(\"min\"))\n",
    "            max_value = eval(searched.group(\"max\"))\n",
    "            assert min_value <= max_value\n",
    "        except Exception as e:\n",
    "            print(f\"searched={searched}\", file=sys.stderr)\n",
    "            print(e, file=sys.stderr)\n",
    "            continue\n",
    "        log = \"LOG\" in options  # 雑、直したほうが良い\n",
    "        if type(min_value) != type(max_value):\n",
    "            print(f\"searched={searched}\", file=sys.stderr)\n",
    "            print(\"types not matched\", file=sys.stderr)\n",
    "            continue\n",
    "        if isinstance(min_value, int):\n",
    "            method = \"suggest_int\"\n",
    "        elif isinstance(min_value, float):\n",
    "            method = \"suggest_float\"\n",
    "        else:\n",
    "            print(f\"searched={searched}\", file=sys.stderr)\n",
    "            print(f\"unknown type ({type(min_value)})\", file=sys.stderr)\n",
    "            continue\n",
    "        variables_optimize.append({\n",
    "            \"name\": name,\n",
    "            \"method\": method,\n",
    "            \"min\": min_value,\n",
    "            \"max\": max_value,\n",
    "            \"log\": log,\n",
    "            \"left\": left,\n",
    "            \"right\": right,\n",
    "        })\n",
    "    elif searched := re.search(r\".*\\{(?P<choices>.*?)\\}.*\", options):\n",
    "        choices = list(map(lambda x: x.strip(), searched.group(\"choices\").split(\",\")))\n",
    "        variables_optimize.append({\n",
    "            \"name\": name,\n",
    "            \"method\": \"suggest_categorical\",\n",
    "            \"choices\": choices,\n",
    "            \"left\": left,\n",
    "            \"right\": right,\n",
    "        })\n",
    "    else:\n",
    "        print(f\"searched={searched}\", file=sys.stderr)\n",
    "        print(f\"pattern was matched but options are incorrect.\", file=sys.stderr)\n",
    "\n",
    "print(len(variables_optimize), \"variables were found.\")\n",
    "if globals().get(\"pd\"):\n",
    "    display(pd.DataFrame(variables_optimize))\n",
    "else:\n",
    "    pprint(variables_optimize)"
   ]
  },
  {
   "cell_type": "code",
   "execution_count": 10,
   "id": "524de312",
   "metadata": {},
   "outputs": [],
   "source": [
    "def escape(string):  # 正規表現の中でそのまま使いたい文字列をエスケープ\n",
    "    res = !echo '{string}' | sed -e 's/[]\\/$*.^[]/\\\\&/g'\n",
    "    return res[0]\n",
    "\n",
    "def escape_sed(string):  # sed の置換後の文字列用のエスケープ\n",
    "    res = !echo '{string}' | sed -e 's/[\\/&]/\\\\&/g'\n",
    "    return res[0]\n",
    "\n",
    "\n",
    "def objective_with_index(trial, n_internal_parallel):\n",
    "    index_parallel = trial.number % 12  # これ変数にする\n",
    "    print(f\"{index_parallel=}\")\n",
    "    \n",
    "    parameters_changed_filename = f\"{index_parallel}_{FILENAME}\"\n",
    "    #directory_input = \"./in\"  # \"/\" をつけない  # 中のすべてのファイルに対して実行される\n",
    "    \n",
    "    !mkdir {index_parallel}_out 2> /dev/null\n",
    "    !mkdir {index_parallel}_score 2> /dev/null\n",
    "    !rm {index_parallel}_out/*\n",
    "    !rm {index_parallel}_score/*\n",
    "    \n",
    "    # ファイル作成\n",
    "    !cp {FILENAME} {parameters_changed_filename}\n",
    "    sed_options = [f\"-i {parameters_changed_filename}\"]\n",
    "    for variable in variables_optimize:\n",
    "        if variable[\"method\"] == \"suggest_categorical\":\n",
    "            val =  trial.suggest_categorical(variable[\"name\"], variable[\"choices\"])\n",
    "        else:\n",
    "            val = getattr(trial, variable[\"method\"])(variable[\"name\"], variable[\"min\"], variable[\"max\"], log=variable[\"log\"])\n",
    "        left = variable[\"left\"]\n",
    "        right = variable[\"right\"]\n",
    "        sed_options.append(f\"\"\"-e 's/^{escape(left)}.*{escape(right)}$/{escape_sed(left)}{val}{escape_sed(right)}/'\"\"\")\n",
    "    command_sed = f\"sed {' '.join(sed_options)}\"\n",
    "    print(command_sed)\n",
    "    !{command_sed}\n",
    "    \n",
    "    # コンパイル\n",
    "    command_compile = f\"g++ {parameters_changed_filename} -std=gnu++17 -O2 -DONLINE_JUDGE -o {parameters_changed_filename}.out 2> /dev/null\"\n",
    "    print(command_compile)\n",
    "    !{command_compile}\n",
    "    \n",
    "    # 実行・採点コマンド (@ はファイル名)\n",
    "    command_exec = (\n",
    "        f\"./{parameters_changed_filename}.out < {TESTCASE_DIRECTORY}@ >./{index_parallel}_out/@ 2> /dev/null;\"\n",
    "        f\"python3 ../A/tester/judge.py {TESTCASE_DIRECTORY}@ ./{index_parallel}_out/@ > ./{index_parallel}_score/@\"\n",
    "        \n",
    "        #f\"cargo run --release --manifest-path ../tools/Cargo.toml --bin tester {directory_input}/@ $(pwd)/{parameters_changed_filename}.out 2>&1 | grep Score | sed -E s/[^0-9]+// > ./{index_parallel}_score/@;\"\n",
    "        \n",
    "        #f\"./{parameters_changed_filename}.out < {directory_input}/@ > ./{index_parallel}_out/@;\"\n",
    "        #f\"cargo run --release --manifest-path ./tools/Cargo.toml --bin vis {directory_input}/@ ./{index_parallel}_out/@ 2> /dev/null > ./{index_parallel}_score/@;\"\n",
    "    )\n",
    "    \n",
    "    # 並列実行 (sed はパスのディレクトリ部分を消してファイル名にしてる)\n",
    "    !find {TESTCASE_DIRECTORY}/* | sed 's!^.*/!!' | xargs -I@ -P {n_internal_parallel} sh -c '{command_exec}'\n",
    "    \n",
    "    # 集計\n",
    "    file_paths = !find ./{index_parallel}_score/*\n",
    "    sum_score = 0\n",
    "    for file_path in file_paths:  \n",
    "        with open(file_path) as f:\n",
    "            sum_score += int(f.read().split(\":\")[-1])\n",
    "    return sum_score"
   ]
  },
  {
   "cell_type": "code",
   "execution_count": 11,
   "id": "1dd4969d",
   "metadata": {
    "scrolled": true
   },
   "outputs": [
    {
     "name": "stderr",
     "output_type": "stream",
     "text": [
      "\u001b[32m[I 2021-09-09 21:33:06,041]\u001b[0m A new study created in RDB with name: study\u001b[0m\n"
     ]
    },
    {
     "name": "stdout",
     "output_type": "stream",
     "text": [
      "index_parallel=0\n",
      "rm: cannot remove '0_out/*': No such file or directory\n",
      "rm: cannot remove '0_score/*': No such file or directory\n",
      "sed -i 0_main.cpp -e 's/^constexpr double K_START = .*;  \\/\\/ OPTIMIZE \\[0\\.02, 0\\.06\\] LOG$/constexpr double K_START = 0.028029581340962374;  \\/\\/ OPTIMIZE [0.02, 0.06] LOG/' -e 's/^constexpr double K_END = .*;   \\/\\/ OPTIMIZE \\[0\\.01, 0\\.05\\] LOG$/constexpr double K_END = 0.028869871757885444;   \\/\\/ OPTIMIZE [0.01, 0.05] LOG/' -e 's/^constexpr double K_H = .*;      \\/\\/ OPTIMIZE \\[0\\.001, 0\\.999\\]$/constexpr double K_H = 0.23428685541701685;      \\/\\/ OPTIMIZE [0.001, 0.999]/' -e 's/^constexpr short PURCHASE_TURN_LIMIT = .*;  \\/\\/ OPTIMIZE \\[780, 880\\]$/constexpr short PURCHASE_TURN_LIMIT = 856;  \\/\\/ OPTIMIZE [780, 880]/' -e 's/^constexpr int SUBSCORE3_TIGHT_TURN = .*;     \\/\\/ OPTIMIZE \\[0, 2\\]$/constexpr int SUBSCORE3_TIGHT_TURN = 1;     \\/\\/ OPTIMIZE [0, 2]/'\n",
      "g++ 0_main.cpp -std=gnu++17 -O2 -DONLINE_JUDGE -o 0_main.cpp.out 2> /dev/null\n"
     ]
    },
    {
     "name": "stderr",
     "output_type": "stream",
     "text": [
      "\u001b[32m[I 2021-09-09 21:36:36,708]\u001b[0m Trial 0 finished with value: 865017861.0 and parameters: {'K_START': 0.028029581340962374, 'K_END': 0.028869871757885444, 'K_H': 0.23428685541701685, 'PURCHASE_TURN_LIMIT': 856, 'SUBSCORE3_TIGHT_TURN': 1}. Best is trial 0 with value: 865017861.0.\u001b[0m\n"
     ]
    },
    {
     "name": "stdout",
     "output_type": "stream",
     "text": [
      "Updated! 865017861.0\n",
      "callback ok\n",
      "index_parallel=1\n",
      "rm: cannot remove '1_out/*': No such file or directory\n",
      "rm: cannot remove '1_score/*': No such file or directory\n",
      "sed -i 1_main.cpp -e 's/^constexpr double K_START = .*;  \\/\\/ OPTIMIZE \\[0\\.02, 0\\.06\\] LOG$/constexpr double K_START = 0.022654026877230737;  \\/\\/ OPTIMIZE [0.02, 0.06] LOG/' -e 's/^constexpr double K_END = .*;   \\/\\/ OPTIMIZE \\[0\\.01, 0\\.05\\] LOG$/constexpr double K_END = 0.0426225173045377;   \\/\\/ OPTIMIZE [0.01, 0.05] LOG/' -e 's/^constexpr double K_H = .*;      \\/\\/ OPTIMIZE \\[0\\.001, 0\\.999\\]$/constexpr double K_H = 0.9858320519930451;      \\/\\/ OPTIMIZE [0.001, 0.999]/' -e 's/^constexpr short PURCHASE_TURN_LIMIT = .*;  \\/\\/ OPTIMIZE \\[780, 880\\]$/constexpr short PURCHASE_TURN_LIMIT = 875;  \\/\\/ OPTIMIZE [780, 880]/' -e 's/^constexpr int SUBSCORE3_TIGHT_TURN = .*;     \\/\\/ OPTIMIZE \\[0, 2\\]$/constexpr int SUBSCORE3_TIGHT_TURN = 2;     \\/\\/ OPTIMIZE [0, 2]/'\n",
      "g++ 1_main.cpp -std=gnu++17 -O2 -DONLINE_JUDGE -o 1_main.cpp.out 2> /dev/null\n"
     ]
    },
    {
     "name": "stderr",
     "output_type": "stream",
     "text": [
      "\u001b[32m[I 2021-09-09 21:40:13,513]\u001b[0m Trial 1 finished with value: 866469828.0 and parameters: {'K_START': 0.022654026877230737, 'K_END': 0.0426225173045377, 'K_H': 0.9858320519930451, 'PURCHASE_TURN_LIMIT': 875, 'SUBSCORE3_TIGHT_TURN': 2}. Best is trial 1 with value: 866469828.0.\u001b[0m\n"
     ]
    },
    {
     "name": "stdout",
     "output_type": "stream",
     "text": [
      "Updated! 866469828.0\n",
      "callback ok\n",
      "index_parallel=2\n",
      "rm: cannot remove '2_out/*': No such file or directory\n",
      "rm: cannot remove '2_score/*': No such file or directory\n",
      "sed -i 2_main.cpp -e 's/^constexpr double K_START = .*;  \\/\\/ OPTIMIZE \\[0\\.02, 0\\.06\\] LOG$/constexpr double K_START = 0.0307685121646658;  \\/\\/ OPTIMIZE [0.02, 0.06] LOG/' -e 's/^constexpr double K_END = .*;   \\/\\/ OPTIMIZE \\[0\\.01, 0\\.05\\] LOG$/constexpr double K_END = 0.03918035951283923;   \\/\\/ OPTIMIZE [0.01, 0.05] LOG/' -e 's/^constexpr double K_H = .*;      \\/\\/ OPTIMIZE \\[0\\.001, 0\\.999\\]$/constexpr double K_H = 0.9138226496059939;      \\/\\/ OPTIMIZE [0.001, 0.999]/' -e 's/^constexpr short PURCHASE_TURN_LIMIT = .*;  \\/\\/ OPTIMIZE \\[780, 880\\]$/constexpr short PURCHASE_TURN_LIMIT = 844;  \\/\\/ OPTIMIZE [780, 880]/' -e 's/^constexpr int SUBSCORE3_TIGHT_TURN = .*;     \\/\\/ OPTIMIZE \\[0, 2\\]$/constexpr int SUBSCORE3_TIGHT_TURN = 0;     \\/\\/ OPTIMIZE [0, 2]/'\n",
      "g++ 2_main.cpp -std=gnu++17 -O2 -DONLINE_JUDGE -o 2_main.cpp.out 2> /dev/null\n"
     ]
    },
    {
     "name": "stderr",
     "output_type": "stream",
     "text": [
      "\u001b[32m[I 2021-09-09 21:43:48,467]\u001b[0m Trial 2 finished with value: 898294439.0 and parameters: {'K_START': 0.0307685121646658, 'K_END': 0.03918035951283923, 'K_H': 0.9138226496059939, 'PURCHASE_TURN_LIMIT': 844, 'SUBSCORE3_TIGHT_TURN': 0}. Best is trial 2 with value: 898294439.0.\u001b[0m\n"
     ]
    },
    {
     "name": "stdout",
     "output_type": "stream",
     "text": [
      "Updated! 898294439.0\n",
      "callback ok\n",
      "index_parallel=3\n",
      "rm: cannot remove '3_out/*': No such file or directory\n",
      "rm: cannot remove '3_score/*': No such file or directory\n",
      "sed -i 3_main.cpp -e 's/^constexpr double K_START = .*;  \\/\\/ OPTIMIZE \\[0\\.02, 0\\.06\\] LOG$/constexpr double K_START = 0.021310087798977976;  \\/\\/ OPTIMIZE [0.02, 0.06] LOG/' -e 's/^constexpr double K_END = .*;   \\/\\/ OPTIMIZE \\[0\\.01, 0\\.05\\] LOG$/constexpr double K_END = 0.03171959330474184;   \\/\\/ OPTIMIZE [0.01, 0.05] LOG/' -e 's/^constexpr double K_H = .*;      \\/\\/ OPTIMIZE \\[0\\.001, 0\\.999\\]$/constexpr double K_H = 0.5044934210034417;      \\/\\/ OPTIMIZE [0.001, 0.999]/' -e 's/^constexpr short PURCHASE_TURN_LIMIT = .*;  \\/\\/ OPTIMIZE \\[780, 880\\]$/constexpr short PURCHASE_TURN_LIMIT = 864;  \\/\\/ OPTIMIZE [780, 880]/' -e 's/^constexpr int SUBSCORE3_TIGHT_TURN = .*;     \\/\\/ OPTIMIZE \\[0, 2\\]$/constexpr int SUBSCORE3_TIGHT_TURN = 1;     \\/\\/ OPTIMIZE [0, 2]/'\n",
      "g++ 3_main.cpp -std=gnu++17 -O2 -DONLINE_JUDGE -o 3_main.cpp.out 2> /dev/null\n"
     ]
    },
    {
     "name": "stderr",
     "output_type": "stream",
     "text": [
      "\u001b[32m[I 2021-09-09 21:47:26,708]\u001b[0m Trial 3 finished with value: 858991372.0 and parameters: {'K_START': 0.021310087798977976, 'K_END': 0.03171959330474184, 'K_H': 0.5044934210034417, 'PURCHASE_TURN_LIMIT': 864, 'SUBSCORE3_TIGHT_TURN': 1}. Best is trial 2 with value: 898294439.0.\u001b[0m\n"
     ]
    },
    {
     "name": "stdout",
     "output_type": "stream",
     "text": [
      "callback ok\n",
      "index_parallel=4\n",
      "rm: cannot remove '4_out/*': No such file or directory\n",
      "rm: cannot remove '4_score/*': No such file or directory\n",
      "sed -i 4_main.cpp -e 's/^constexpr double K_START = .*;  \\/\\/ OPTIMIZE \\[0\\.02, 0\\.06\\] LOG$/constexpr double K_START = 0.036166504906828545;  \\/\\/ OPTIMIZE [0.02, 0.06] LOG/' -e 's/^constexpr double K_END = .*;   \\/\\/ OPTIMIZE \\[0\\.01, 0\\.05\\] LOG$/constexpr double K_END = 0.018878625337382375;   \\/\\/ OPTIMIZE [0.01, 0.05] LOG/' -e 's/^constexpr double K_H = .*;      \\/\\/ OPTIMIZE \\[0\\.001, 0\\.999\\]$/constexpr double K_H = 0.39735791956390376;      \\/\\/ OPTIMIZE [0.001, 0.999]/' -e 's/^constexpr short PURCHASE_TURN_LIMIT = .*;  \\/\\/ OPTIMIZE \\[780, 880\\]$/constexpr short PURCHASE_TURN_LIMIT = 852;  \\/\\/ OPTIMIZE [780, 880]/' -e 's/^constexpr int SUBSCORE3_TIGHT_TURN = .*;     \\/\\/ OPTIMIZE \\[0, 2\\]$/constexpr int SUBSCORE3_TIGHT_TURN = 1;     \\/\\/ OPTIMIZE [0, 2]/'\n",
      "g++ 4_main.cpp -std=gnu++17 -O2 -DONLINE_JUDGE -o 4_main.cpp.out 2> /dev/null\n"
     ]
    },
    {
     "name": "stderr",
     "output_type": "stream",
     "text": [
      "\u001b[32m[I 2021-09-09 21:51:01,434]\u001b[0m Trial 4 finished with value: 846137189.0 and parameters: {'K_START': 0.036166504906828545, 'K_END': 0.018878625337382375, 'K_H': 0.39735791956390376, 'PURCHASE_TURN_LIMIT': 852, 'SUBSCORE3_TIGHT_TURN': 1}. Best is trial 2 with value: 898294439.0.\u001b[0m\n"
     ]
    },
    {
     "name": "stdout",
     "output_type": "stream",
     "text": [
      "callback ok\n",
      "index_parallel=5\n",
      "rm: cannot remove '5_out/*': No such file or directory\n",
      "rm: cannot remove '5_score/*': No such file or directory\n",
      "sed -i 5_main.cpp -e 's/^constexpr double K_START = .*;  \\/\\/ OPTIMIZE \\[0\\.02, 0\\.06\\] LOG$/constexpr double K_START = 0.033097566011642945;  \\/\\/ OPTIMIZE [0.02, 0.06] LOG/' -e 's/^constexpr double K_END = .*;   \\/\\/ OPTIMIZE \\[0\\.01, 0\\.05\\] LOG$/constexpr double K_END = 0.032848038284344565;   \\/\\/ OPTIMIZE [0.01, 0.05] LOG/' -e 's/^constexpr double K_H = .*;      \\/\\/ OPTIMIZE \\[0\\.001, 0\\.999\\]$/constexpr double K_H = 0.5325210001141604;      \\/\\/ OPTIMIZE [0.001, 0.999]/' -e 's/^constexpr short PURCHASE_TURN_LIMIT = .*;  \\/\\/ OPTIMIZE \\[780, 880\\]$/constexpr short PURCHASE_TURN_LIMIT = 780;  \\/\\/ OPTIMIZE [780, 880]/' -e 's/^constexpr int SUBSCORE3_TIGHT_TURN = .*;     \\/\\/ OPTIMIZE \\[0, 2\\]$/constexpr int SUBSCORE3_TIGHT_TURN = 0;     \\/\\/ OPTIMIZE [0, 2]/'\n",
      "g++ 5_main.cpp -std=gnu++17 -O2 -DONLINE_JUDGE -o 5_main.cpp.out 2> /dev/null\n"
     ]
    },
    {
     "name": "stderr",
     "output_type": "stream",
     "text": [
      "\u001b[32m[I 2021-09-09 21:54:21,853]\u001b[0m Trial 5 finished with value: 850337880.0 and parameters: {'K_START': 0.033097566011642945, 'K_END': 0.032848038284344565, 'K_H': 0.5325210001141604, 'PURCHASE_TURN_LIMIT': 780, 'SUBSCORE3_TIGHT_TURN': 0}. Best is trial 2 with value: 898294439.0.\u001b[0m\n"
     ]
    },
    {
     "name": "stdout",
     "output_type": "stream",
     "text": [
      "callback ok\n",
      "index_parallel=6\n",
      "rm: cannot remove '6_out/*': No such file or directory\n",
      "rm: cannot remove '6_score/*': No such file or directory\n",
      "sed -i 6_main.cpp -e 's/^constexpr double K_START = .*;  \\/\\/ OPTIMIZE \\[0\\.02, 0\\.06\\] LOG$/constexpr double K_START = 0.0375649055584084;  \\/\\/ OPTIMIZE [0.02, 0.06] LOG/' -e 's/^constexpr double K_END = .*;   \\/\\/ OPTIMIZE \\[0\\.01, 0\\.05\\] LOG$/constexpr double K_END = 0.02332200680379546;   \\/\\/ OPTIMIZE [0.01, 0.05] LOG/' -e 's/^constexpr double K_H = .*;      \\/\\/ OPTIMIZE \\[0\\.001, 0\\.999\\]$/constexpr double K_H = 0.02805755682159778;      \\/\\/ OPTIMIZE [0.001, 0.999]/' -e 's/^constexpr short PURCHASE_TURN_LIMIT = .*;  \\/\\/ OPTIMIZE \\[780, 880\\]$/constexpr short PURCHASE_TURN_LIMIT = 868;  \\/\\/ OPTIMIZE [780, 880]/' -e 's/^constexpr int SUBSCORE3_TIGHT_TURN = .*;     \\/\\/ OPTIMIZE \\[0, 2\\]$/constexpr int SUBSCORE3_TIGHT_TURN = 1;     \\/\\/ OPTIMIZE [0, 2]/'\n",
      "g++ 6_main.cpp -std=gnu++17 -O2 -DONLINE_JUDGE -o 6_main.cpp.out 2> /dev/null\n"
     ]
    },
    {
     "name": "stderr",
     "output_type": "stream",
     "text": [
      "\u001b[32m[I 2021-09-09 21:57:54,746]\u001b[0m Trial 6 finished with value: 864199052.0 and parameters: {'K_START': 0.0375649055584084, 'K_END': 0.02332200680379546, 'K_H': 0.02805755682159778, 'PURCHASE_TURN_LIMIT': 868, 'SUBSCORE3_TIGHT_TURN': 1}. Best is trial 2 with value: 898294439.0.\u001b[0m\n"
     ]
    },
    {
     "name": "stdout",
     "output_type": "stream",
     "text": [
      "callback ok\n",
      "index_parallel=7\n",
      "rm: cannot remove '7_out/*': No such file or directory\n",
      "rm: cannot remove '7_score/*': No such file or directory\n",
      "sed -i 7_main.cpp -e 's/^constexpr double K_START = .*;  \\/\\/ OPTIMIZE \\[0\\.02, 0\\.06\\] LOG$/constexpr double K_START = 0.02180081669166705;  \\/\\/ OPTIMIZE [0.02, 0.06] LOG/' -e 's/^constexpr double K_END = .*;   \\/\\/ OPTIMIZE \\[0\\.01, 0\\.05\\] LOG$/constexpr double K_END = 0.016190053045190025;   \\/\\/ OPTIMIZE [0.01, 0.05] LOG/' -e 's/^constexpr double K_H = .*;      \\/\\/ OPTIMIZE \\[0\\.001, 0\\.999\\]$/constexpr double K_H = 0.742523485510126;      \\/\\/ OPTIMIZE [0.001, 0.999]/' -e 's/^constexpr short PURCHASE_TURN_LIMIT = .*;  \\/\\/ OPTIMIZE \\[780, 880\\]$/constexpr short PURCHASE_TURN_LIMIT = 830;  \\/\\/ OPTIMIZE [780, 880]/' -e 's/^constexpr int SUBSCORE3_TIGHT_TURN = .*;     \\/\\/ OPTIMIZE \\[0, 2\\]$/constexpr int SUBSCORE3_TIGHT_TURN = 2;     \\/\\/ OPTIMIZE [0, 2]/'\n",
      "g++ 7_main.cpp -std=gnu++17 -O2 -DONLINE_JUDGE -o 7_main.cpp.out 2> /dev/null\n"
     ]
    },
    {
     "name": "stderr",
     "output_type": "stream",
     "text": [
      "\u001b[32m[I 2021-09-09 22:01:14,256]\u001b[0m Trial 7 finished with value: 815052907.0 and parameters: {'K_START': 0.02180081669166705, 'K_END': 0.016190053045190025, 'K_H': 0.742523485510126, 'PURCHASE_TURN_LIMIT': 830, 'SUBSCORE3_TIGHT_TURN': 2}. Best is trial 2 with value: 898294439.0.\u001b[0m\n"
     ]
    },
    {
     "name": "stdout",
     "output_type": "stream",
     "text": [
      "callback ok\n",
      "index_parallel=8\n",
      "rm: cannot remove '8_out/*': No such file or directory\n",
      "rm: cannot remove '8_score/*': No such file or directory\n",
      "sed -i 8_main.cpp -e 's/^constexpr double K_START = .*;  \\/\\/ OPTIMIZE \\[0\\.02, 0\\.06\\] LOG$/constexpr double K_START = 0.03828392200458128;  \\/\\/ OPTIMIZE [0.02, 0.06] LOG/' -e 's/^constexpr double K_END = .*;   \\/\\/ OPTIMIZE \\[0\\.01, 0\\.05\\] LOG$/constexpr double K_END = 0.02174492308443573;   \\/\\/ OPTIMIZE [0.01, 0.05] LOG/' -e 's/^constexpr double K_H = .*;      \\/\\/ OPTIMIZE \\[0\\.001, 0\\.999\\]$/constexpr double K_H = 0.16651144650973304;      \\/\\/ OPTIMIZE [0.001, 0.999]/' -e 's/^constexpr short PURCHASE_TURN_LIMIT = .*;  \\/\\/ OPTIMIZE \\[780, 880\\]$/constexpr short PURCHASE_TURN_LIMIT = 801;  \\/\\/ OPTIMIZE [780, 880]/' -e 's/^constexpr int SUBSCORE3_TIGHT_TURN = .*;     \\/\\/ OPTIMIZE \\[0, 2\\]$/constexpr int SUBSCORE3_TIGHT_TURN = 2;     \\/\\/ OPTIMIZE [0, 2]/'\n",
      "g++ 8_main.cpp -std=gnu++17 -O2 -DONLINE_JUDGE -o 8_main.cpp.out 2> /dev/null\n"
     ]
    },
    {
     "name": "stderr",
     "output_type": "stream",
     "text": [
      "\u001b[32m[I 2021-09-09 22:04:33,873]\u001b[0m Trial 8 finished with value: 853668773.0 and parameters: {'K_START': 0.03828392200458128, 'K_END': 0.02174492308443573, 'K_H': 0.16651144650973304, 'PURCHASE_TURN_LIMIT': 801, 'SUBSCORE3_TIGHT_TURN': 2}. Best is trial 2 with value: 898294439.0.\u001b[0m\n"
     ]
    },
    {
     "name": "stdout",
     "output_type": "stream",
     "text": [
      "callback ok\n",
      "index_parallel=9\n",
      "rm: cannot remove '9_out/*': No such file or directory\n",
      "rm: cannot remove '9_score/*': No such file or directory\n",
      "sed -i 9_main.cpp -e 's/^constexpr double K_START = .*;  \\/\\/ OPTIMIZE \\[0\\.02, 0\\.06\\] LOG$/constexpr double K_START = 0.05935029627976855;  \\/\\/ OPTIMIZE [0.02, 0.06] LOG/' -e 's/^constexpr double K_END = .*;   \\/\\/ OPTIMIZE \\[0\\.01, 0\\.05\\] LOG$/constexpr double K_END = 0.03779565954112472;   \\/\\/ OPTIMIZE [0.01, 0.05] LOG/' -e 's/^constexpr double K_H = .*;      \\/\\/ OPTIMIZE \\[0\\.001, 0\\.999\\]$/constexpr double K_H = 0.9113946708337883;      \\/\\/ OPTIMIZE [0.001, 0.999]/' -e 's/^constexpr short PURCHASE_TURN_LIMIT = .*;  \\/\\/ OPTIMIZE \\[780, 880\\]$/constexpr short PURCHASE_TURN_LIMIT = 866;  \\/\\/ OPTIMIZE [780, 880]/' -e 's/^constexpr int SUBSCORE3_TIGHT_TURN = .*;     \\/\\/ OPTIMIZE \\[0, 2\\]$/constexpr int SUBSCORE3_TIGHT_TURN = 2;     \\/\\/ OPTIMIZE [0, 2]/'\n",
      "g++ 9_main.cpp -std=gnu++17 -O2 -DONLINE_JUDGE -o 9_main.cpp.out 2> /dev/null\n"
     ]
    },
    {
     "name": "stderr",
     "output_type": "stream",
     "text": [
      "\u001b[32m[I 2021-09-09 22:08:15,343]\u001b[0m Trial 9 finished with value: 870733838.0 and parameters: {'K_START': 0.05935029627976855, 'K_END': 0.03779565954112472, 'K_H': 0.9113946708337883, 'PURCHASE_TURN_LIMIT': 866, 'SUBSCORE3_TIGHT_TURN': 2}. Best is trial 2 with value: 898294439.0.\u001b[0m\n"
     ]
    },
    {
     "name": "stdout",
     "output_type": "stream",
     "text": [
      "callback ok\n",
      "index_parallel=10\n",
      "rm: cannot remove '10_out/*': No such file or directory\n",
      "rm: cannot remove '10_score/*': No such file or directory\n",
      "sed -i 10_main.cpp -e 's/^constexpr double K_START = .*;  \\/\\/ OPTIMIZE \\[0\\.02, 0\\.06\\] LOG$/constexpr double K_START = 0.048627849514023574;  \\/\\/ OPTIMIZE [0.02, 0.06] LOG/' -e 's/^constexpr double K_END = .*;   \\/\\/ OPTIMIZE \\[0\\.01, 0\\.05\\] LOG$/constexpr double K_END = 0.04840877527928705;   \\/\\/ OPTIMIZE [0.01, 0.05] LOG/' -e 's/^constexpr double K_H = .*;      \\/\\/ OPTIMIZE \\[0\\.001, 0\\.999\\]$/constexpr double K_H = 0.7726823747737877;      \\/\\/ OPTIMIZE [0.001, 0.999]/' -e 's/^constexpr short PURCHASE_TURN_LIMIT = .*;  \\/\\/ OPTIMIZE \\[780, 880\\]$/constexpr short PURCHASE_TURN_LIMIT = 834;  \\/\\/ OPTIMIZE [780, 880]/' -e 's/^constexpr int SUBSCORE3_TIGHT_TURN = .*;     \\/\\/ OPTIMIZE \\[0, 2\\]$/constexpr int SUBSCORE3_TIGHT_TURN = 0;     \\/\\/ OPTIMIZE [0, 2]/'\n",
      "g++ 10_main.cpp -std=gnu++17 -O2 -DONLINE_JUDGE -o 10_main.cpp.out 2> /dev/null\n"
     ]
    },
    {
     "name": "stderr",
     "output_type": "stream",
     "text": [
      "\u001b[32m[I 2021-09-09 22:11:48,914]\u001b[0m Trial 10 finished with value: 546717920.0 and parameters: {'K_START': 0.048627849514023574, 'K_END': 0.04840877527928705, 'K_H': 0.7726823747737877, 'PURCHASE_TURN_LIMIT': 834, 'SUBSCORE3_TIGHT_TURN': 0}. Best is trial 2 with value: 898294439.0.\u001b[0m\n"
     ]
    },
    {
     "name": "stdout",
     "output_type": "stream",
     "text": [
      "callback ok\n",
      "index_parallel=11\n",
      "rm: cannot remove '11_out/*': No such file or directory\n",
      "rm: cannot remove '11_score/*': No such file or directory\n",
      "sed -i 11_main.cpp -e 's/^constexpr double K_START = .*;  \\/\\/ OPTIMIZE \\[0\\.02, 0\\.06\\] LOG$/constexpr double K_START = 0.0582572722443092;  \\/\\/ OPTIMIZE [0.02, 0.06] LOG/' -e 's/^constexpr double K_END = .*;   \\/\\/ OPTIMIZE \\[0\\.01, 0\\.05\\] LOG$/constexpr double K_END = 0.011055025492672597;   \\/\\/ OPTIMIZE [0.01, 0.05] LOG/' -e 's/^constexpr double K_H = .*;      \\/\\/ OPTIMIZE \\[0\\.001, 0\\.999\\]$/constexpr double K_H = 0.980383972346936;      \\/\\/ OPTIMIZE [0.001, 0.999]/' -e 's/^constexpr short PURCHASE_TURN_LIMIT = .*;  \\/\\/ OPTIMIZE \\[780, 880\\]$/constexpr short PURCHASE_TURN_LIMIT = 836;  \\/\\/ OPTIMIZE [780, 880]/' -e 's/^constexpr int SUBSCORE3_TIGHT_TURN = .*;     \\/\\/ OPTIMIZE \\[0, 2\\]$/constexpr int SUBSCORE3_TIGHT_TURN = 0;     \\/\\/ OPTIMIZE [0, 2]/'\n",
      "g++ 11_main.cpp -std=gnu++17 -O2 -DONLINE_JUDGE -o 11_main.cpp.out 2> /dev/null\n"
     ]
    },
    {
     "name": "stderr",
     "output_type": "stream",
     "text": [
      "\u001b[32m[I 2021-09-09 22:15:00,721]\u001b[0m Trial 11 finished with value: 762533378.0 and parameters: {'K_START': 0.0582572722443092, 'K_END': 0.011055025492672597, 'K_H': 0.980383972346936, 'PURCHASE_TURN_LIMIT': 836, 'SUBSCORE3_TIGHT_TURN': 0}. Best is trial 2 with value: 898294439.0.\u001b[0m\n"
     ]
    },
    {
     "name": "stdout",
     "output_type": "stream",
     "text": [
      "callback ok\n",
      "index_parallel=0\n",
      "sed -i 0_main.cpp -e 's/^constexpr double K_START = .*;  \\/\\/ OPTIMIZE \\[0\\.02, 0\\.06\\] LOG$/constexpr double K_START = 0.028311329430650876;  \\/\\/ OPTIMIZE [0.02, 0.06] LOG/' -e 's/^constexpr double K_END = .*;   \\/\\/ OPTIMIZE \\[0\\.01, 0\\.05\\] LOG$/constexpr double K_END = 0.038917798436029806;   \\/\\/ OPTIMIZE [0.01, 0.05] LOG/' -e 's/^constexpr double K_H = .*;      \\/\\/ OPTIMIZE \\[0\\.001, 0\\.999\\]$/constexpr double K_H = 0.7671393824664989;      \\/\\/ OPTIMIZE [0.001, 0.999]/' -e 's/^constexpr short PURCHASE_TURN_LIMIT = .*;  \\/\\/ OPTIMIZE \\[780, 880\\]$/constexpr short PURCHASE_TURN_LIMIT = 843;  \\/\\/ OPTIMIZE [780, 880]/' -e 's/^constexpr int SUBSCORE3_TIGHT_TURN = .*;     \\/\\/ OPTIMIZE \\[0, 2\\]$/constexpr int SUBSCORE3_TIGHT_TURN = 0;     \\/\\/ OPTIMIZE [0, 2]/'\n",
      "g++ 0_main.cpp -std=gnu++17 -O2 -DONLINE_JUDGE -o 0_main.cpp.out 2> /dev/null\n"
     ]
    },
    {
     "name": "stderr",
     "output_type": "stream",
     "text": [
      "\u001b[32m[I 2021-09-09 22:18:32,960]\u001b[0m Trial 12 finished with value: 892389915.0 and parameters: {'K_START': 0.028311329430650876, 'K_END': 0.038917798436029806, 'K_H': 0.7671393824664989, 'PURCHASE_TURN_LIMIT': 843, 'SUBSCORE3_TIGHT_TURN': 0}. Best is trial 2 with value: 898294439.0.\u001b[0m\n"
     ]
    },
    {
     "name": "stdout",
     "output_type": "stream",
     "text": [
      "callback ok\n",
      "index_parallel=1\n",
      "sed -i 1_main.cpp -e 's/^constexpr double K_START = .*;  \\/\\/ OPTIMIZE \\[0\\.02, 0\\.06\\] LOG$/constexpr double K_START = 0.027863748823343634;  \\/\\/ OPTIMIZE [0.02, 0.06] LOG/' -e 's/^constexpr double K_END = .*;   \\/\\/ OPTIMIZE \\[0\\.01, 0\\.05\\] LOG$/constexpr double K_END = 0.04792364947802781;   \\/\\/ OPTIMIZE [0.01, 0.05] LOG/' -e 's/^constexpr double K_H = .*;      \\/\\/ OPTIMIZE \\[0\\.001, 0\\.999\\]$/constexpr double K_H = 0.7904231954088575;      \\/\\/ OPTIMIZE [0.001, 0.999]/' -e 's/^constexpr short PURCHASE_TURN_LIMIT = .*;  \\/\\/ OPTIMIZE \\[780, 880\\]$/constexpr short PURCHASE_TURN_LIMIT = 817;  \\/\\/ OPTIMIZE [780, 880]/' -e 's/^constexpr int SUBSCORE3_TIGHT_TURN = .*;     \\/\\/ OPTIMIZE \\[0, 2\\]$/constexpr int SUBSCORE3_TIGHT_TURN = 0;     \\/\\/ OPTIMIZE [0, 2]/'\n",
      "g++ 1_main.cpp -std=gnu++17 -O2 -DONLINE_JUDGE -o 1_main.cpp.out 2> /dev/null\n"
     ]
    },
    {
     "name": "stderr",
     "output_type": "stream",
     "text": [
      "\u001b[32m[I 2021-09-09 22:21:58,445]\u001b[0m Trial 13 finished with value: 897933066.0 and parameters: {'K_START': 0.027863748823343634, 'K_END': 0.04792364947802781, 'K_H': 0.7904231954088575, 'PURCHASE_TURN_LIMIT': 817, 'SUBSCORE3_TIGHT_TURN': 0}. Best is trial 2 with value: 898294439.0.\u001b[0m\n"
     ]
    },
    {
     "name": "stdout",
     "output_type": "stream",
     "text": [
      "callback ok\n",
      "index_parallel=2\n",
      "sed -i 2_main.cpp -e 's/^constexpr double K_START = .*;  \\/\\/ OPTIMIZE \\[0\\.02, 0\\.06\\] LOG$/constexpr double K_START = 0.027111313333688377;  \\/\\/ OPTIMIZE [0.02, 0.06] LOG/' -e 's/^constexpr double K_END = .*;   \\/\\/ OPTIMIZE \\[0\\.01, 0\\.05\\] LOG$/constexpr double K_END = 0.047691065279837665;   \\/\\/ OPTIMIZE [0.01, 0.05] LOG/' -e 's/^constexpr double K_H = .*;      \\/\\/ OPTIMIZE \\[0\\.001, 0\\.999\\]$/constexpr double K_H = 0.6574276244974;      \\/\\/ OPTIMIZE [0.001, 0.999]/' -e 's/^constexpr short PURCHASE_TURN_LIMIT = .*;  \\/\\/ OPTIMIZE \\[780, 880\\]$/constexpr short PURCHASE_TURN_LIMIT = 815;  \\/\\/ OPTIMIZE [780, 880]/' -e 's/^constexpr int SUBSCORE3_TIGHT_TURN = .*;     \\/\\/ OPTIMIZE \\[0, 2\\]$/constexpr int SUBSCORE3_TIGHT_TURN = 0;     \\/\\/ OPTIMIZE [0, 2]/'\n",
      "g++ 2_main.cpp -std=gnu++17 -O2 -DONLINE_JUDGE -o 2_main.cpp.out 2> /dev/null\n"
     ]
    },
    {
     "name": "stderr",
     "output_type": "stream",
     "text": [
      "\u001b[32m[I 2021-09-09 22:25:24,292]\u001b[0m Trial 14 finished with value: 903171327.0 and parameters: {'K_START': 0.027111313333688377, 'K_END': 0.047691065279837665, 'K_H': 0.6574276244974, 'PURCHASE_TURN_LIMIT': 815, 'SUBSCORE3_TIGHT_TURN': 0}. Best is trial 14 with value: 903171327.0.\u001b[0m\n"
     ]
    },
    {
     "name": "stdout",
     "output_type": "stream",
     "text": [
      "Updated! 903171327.0\n",
      "callback ok\n",
      "index_parallel=3\n",
      "sed -i 3_main.cpp -e 's/^constexpr double K_START = .*;  \\/\\/ OPTIMIZE \\[0\\.02, 0\\.06\\] LOG$/constexpr double K_START = 0.02544413308603974;  \\/\\/ OPTIMIZE [0.02, 0.06] LOG/' -e 's/^constexpr double K_END = .*;   \\/\\/ OPTIMIZE \\[0\\.01, 0\\.05\\] LOG$/constexpr double K_END = 0.028611924180429106;   \\/\\/ OPTIMIZE [0.01, 0.05] LOG/' -e 's/^constexpr double K_H = .*;      \\/\\/ OPTIMIZE \\[0\\.001, 0\\.999\\]$/constexpr double K_H = 0.6196781881088379;      \\/\\/ OPTIMIZE [0.001, 0.999]/' -e 's/^constexpr short PURCHASE_TURN_LIMIT = .*;  \\/\\/ OPTIMIZE \\[780, 880\\]$/constexpr short PURCHASE_TURN_LIMIT = 816;  \\/\\/ OPTIMIZE [780, 880]/' -e 's/^constexpr int SUBSCORE3_TIGHT_TURN = .*;     \\/\\/ OPTIMIZE \\[0, 2\\]$/constexpr int SUBSCORE3_TIGHT_TURN = 0;     \\/\\/ OPTIMIZE [0, 2]/'\n",
      "g++ 3_main.cpp -std=gnu++17 -O2 -DONLINE_JUDGE -o 3_main.cpp.out 2> /dev/null\n"
     ]
    },
    {
     "name": "stderr",
     "output_type": "stream",
     "text": [
      "\u001b[32m[I 2021-09-09 22:28:56,729]\u001b[0m Trial 15 finished with value: 868427911.0 and parameters: {'K_START': 0.02544413308603974, 'K_END': 0.028611924180429106, 'K_H': 0.6196781881088379, 'PURCHASE_TURN_LIMIT': 816, 'SUBSCORE3_TIGHT_TURN': 0}. Best is trial 14 with value: 903171327.0.\u001b[0m\n"
     ]
    },
    {
     "name": "stdout",
     "output_type": "stream",
     "text": [
      "callback ok\n",
      "index_parallel=4\n",
      "sed -i 4_main.cpp -e 's/^constexpr double K_START = .*;  \\/\\/ OPTIMIZE \\[0\\.02, 0\\.06\\] LOG$/constexpr double K_START = 0.03203059635247413;  \\/\\/ OPTIMIZE [0.02, 0.06] LOG/' -e 's/^constexpr double K_END = .*;   \\/\\/ OPTIMIZE \\[0\\.01, 0\\.05\\] LOG$/constexpr double K_END = 0.014133134758358786;   \\/\\/ OPTIMIZE [0.01, 0.05] LOG/' -e 's/^constexpr double K_H = .*;      \\/\\/ OPTIMIZE \\[0\\.001, 0\\.999\\]$/constexpr double K_H = 0.6002567793037568;      \\/\\/ OPTIMIZE [0.001, 0.999]/' -e 's/^constexpr short PURCHASE_TURN_LIMIT = .*;  \\/\\/ OPTIMIZE \\[780, 880\\]$/constexpr short PURCHASE_TURN_LIMIT = 802;  \\/\\/ OPTIMIZE [780, 880]/' -e 's/^constexpr int SUBSCORE3_TIGHT_TURN = .*;     \\/\\/ OPTIMIZE \\[0, 2\\]$/constexpr int SUBSCORE3_TIGHT_TURN = 0;     \\/\\/ OPTIMIZE [0, 2]/'\n",
      "g++ 4_main.cpp -std=gnu++17 -O2 -DONLINE_JUDGE -o 4_main.cpp.out 2> /dev/null\n"
     ]
    },
    {
     "name": "stderr",
     "output_type": "stream",
     "text": [
      "\u001b[32m[I 2021-09-09 22:32:22,932]\u001b[0m Trial 16 finished with value: 799701570.0 and parameters: {'K_START': 0.03203059635247413, 'K_END': 0.014133134758358786, 'K_H': 0.6002567793037568, 'PURCHASE_TURN_LIMIT': 802, 'SUBSCORE3_TIGHT_TURN': 0}. Best is trial 14 with value: 903171327.0.\u001b[0m\n"
     ]
    },
    {
     "name": "stdout",
     "output_type": "stream",
     "text": [
      "callback ok\n",
      "index_parallel=5\n",
      "sed -i 5_main.cpp -e 's/^constexpr double K_START = .*;  \\/\\/ OPTIMIZE \\[0\\.02, 0\\.06\\] LOG$/constexpr double K_START = 0.04280780024067509;  \\/\\/ OPTIMIZE [0.02, 0.06] LOG/' -e 's/^constexpr double K_END = .*;   \\/\\/ OPTIMIZE \\[0\\.01, 0\\.05\\] LOG$/constexpr double K_END = 0.03680094197640816;   \\/\\/ OPTIMIZE [0.01, 0.05] LOG/' -e 's/^constexpr double K_H = .*;      \\/\\/ OPTIMIZE \\[0\\.001, 0\\.999\\]$/constexpr double K_H = 0.8728222544863258;      \\/\\/ OPTIMIZE [0.001, 0.999]/' -e 's/^constexpr short PURCHASE_TURN_LIMIT = .*;  \\/\\/ OPTIMIZE \\[780, 880\\]$/constexpr short PURCHASE_TURN_LIMIT = 818;  \\/\\/ OPTIMIZE [780, 880]/' -e 's/^constexpr int SUBSCORE3_TIGHT_TURN = .*;     \\/\\/ OPTIMIZE \\[0, 2\\]$/constexpr int SUBSCORE3_TIGHT_TURN = 1;     \\/\\/ OPTIMIZE [0, 2]/'\n",
      "g++ 5_main.cpp -std=gnu++17 -O2 -DONLINE_JUDGE -o 5_main.cpp.out 2> /dev/null\n"
     ]
    },
    {
     "name": "stderr",
     "output_type": "stream",
     "text": [
      "\u001b[32m[I 2021-09-09 22:35:54,460]\u001b[0m Trial 17 finished with value: 890739227.0 and parameters: {'K_START': 0.04280780024067509, 'K_END': 0.03680094197640816, 'K_H': 0.8728222544863258, 'PURCHASE_TURN_LIMIT': 818, 'SUBSCORE3_TIGHT_TURN': 1}. Best is trial 14 with value: 903171327.0.\u001b[0m\n"
     ]
    },
    {
     "name": "stdout",
     "output_type": "stream",
     "text": [
      "callback ok\n",
      "index_parallel=6\n",
      "sed -i 6_main.cpp -e 's/^constexpr double K_START = .*;  \\/\\/ OPTIMIZE \\[0\\.02, 0\\.06\\] LOG$/constexpr double K_START = 0.024926264859736872;  \\/\\/ OPTIMIZE [0.02, 0.06] LOG/' -e 's/^constexpr double K_END = .*;   \\/\\/ OPTIMIZE \\[0\\.01, 0\\.05\\] LOG$/constexpr double K_END = 0.026333389410931225;   \\/\\/ OPTIMIZE [0.01, 0.05] LOG/' -e 's/^constexpr double K_H = .*;      \\/\\/ OPTIMIZE \\[0\\.001, 0\\.999\\]$/constexpr double K_H = 0.3785432574211818;      \\/\\/ OPTIMIZE [0.001, 0.999]/' -e 's/^constexpr short PURCHASE_TURN_LIMIT = .*;  \\/\\/ OPTIMIZE \\[780, 880\\]$/constexpr short PURCHASE_TURN_LIMIT = 804;  \\/\\/ OPTIMIZE [780, 880]/' -e 's/^constexpr int SUBSCORE3_TIGHT_TURN = .*;     \\/\\/ OPTIMIZE \\[0, 2\\]$/constexpr int SUBSCORE3_TIGHT_TURN = 0;     \\/\\/ OPTIMIZE [0, 2]/'\n",
      "g++ 6_main.cpp -std=gnu++17 -O2 -DONLINE_JUDGE -o 6_main.cpp.out 2> /dev/null\n"
     ]
    },
    {
     "name": "stderr",
     "output_type": "stream",
     "text": [
      "\u001b[32m[I 2021-09-09 22:39:20,912]\u001b[0m Trial 18 finished with value: 852072642.0 and parameters: {'K_START': 0.024926264859736872, 'K_END': 0.026333389410931225, 'K_H': 0.3785432574211818, 'PURCHASE_TURN_LIMIT': 804, 'SUBSCORE3_TIGHT_TURN': 0}. Best is trial 14 with value: 903171327.0.\u001b[0m\n"
     ]
    },
    {
     "name": "stdout",
     "output_type": "stream",
     "text": [
      "callback ok\n",
      "index_parallel=7\n",
      "sed -i 7_main.cpp -e 's/^constexpr double K_START = .*;  \\/\\/ OPTIMIZE \\[0\\.02, 0\\.06\\] LOG$/constexpr double K_START = 0.03107393470335179;  \\/\\/ OPTIMIZE [0.02, 0.06] LOG/' -e 's/^constexpr double K_END = .*;   \\/\\/ OPTIMIZE \\[0\\.01, 0\\.05\\] LOG$/constexpr double K_END = 0.04364253154619483;   \\/\\/ OPTIMIZE [0.01, 0.05] LOG/' -e 's/^constexpr double K_H = .*;      \\/\\/ OPTIMIZE \\[0\\.001, 0\\.999\\]$/constexpr double K_H = 0.6563651272192275;      \\/\\/ OPTIMIZE [0.001, 0.999]/' -e 's/^constexpr short PURCHASE_TURN_LIMIT = .*;  \\/\\/ OPTIMIZE \\[780, 880\\]$/constexpr short PURCHASE_TURN_LIMIT = 845;  \\/\\/ OPTIMIZE [780, 880]/' -e 's/^constexpr int SUBSCORE3_TIGHT_TURN = .*;     \\/\\/ OPTIMIZE \\[0, 2\\]$/constexpr int SUBSCORE3_TIGHT_TURN = 1;     \\/\\/ OPTIMIZE [0, 2]/'\n",
      "g++ 7_main.cpp -std=gnu++17 -O2 -DONLINE_JUDGE -o 7_main.cpp.out 2> /dev/null\n"
     ]
    },
    {
     "name": "stderr",
     "output_type": "stream",
     "text": [
      "\u001b[32m[I 2021-09-09 22:43:01,369]\u001b[0m Trial 19 finished with value: 897776863.0 and parameters: {'K_START': 0.03107393470335179, 'K_END': 0.04364253154619483, 'K_H': 0.6563651272192275, 'PURCHASE_TURN_LIMIT': 845, 'SUBSCORE3_TIGHT_TURN': 1}. Best is trial 14 with value: 903171327.0.\u001b[0m\n"
     ]
    },
    {
     "name": "stdout",
     "output_type": "stream",
     "text": [
      "callback ok\n",
      "index_parallel=8\n",
      "sed -i 8_main.cpp -e 's/^constexpr double K_START = .*;  \\/\\/ OPTIMIZE \\[0\\.02, 0\\.06\\] LOG$/constexpr double K_START = 0.0427598273745123;  \\/\\/ OPTIMIZE [0.02, 0.06] LOG/' -e 's/^constexpr double K_END = .*;   \\/\\/ OPTIMIZE \\[0\\.01, 0\\.05\\] LOG$/constexpr double K_END = 0.049266340916163325;   \\/\\/ OPTIMIZE [0.01, 0.05] LOG/' -e 's/^constexpr double K_H = .*;      \\/\\/ OPTIMIZE \\[0\\.001, 0\\.999\\]$/constexpr double K_H = 0.8809836275392219;      \\/\\/ OPTIMIZE [0.001, 0.999]/' -e 's/^constexpr short PURCHASE_TURN_LIMIT = .*;  \\/\\/ OPTIMIZE \\[780, 880\\]$/constexpr short PURCHASE_TURN_LIMIT = 823;  \\/\\/ OPTIMIZE [780, 880]/' -e 's/^constexpr int SUBSCORE3_TIGHT_TURN = .*;     \\/\\/ OPTIMIZE \\[0, 2\\]$/constexpr int SUBSCORE3_TIGHT_TURN = 0;     \\/\\/ OPTIMIZE [0, 2]/'\n",
      "g++ 8_main.cpp -std=gnu++17 -O2 -DONLINE_JUDGE -o 8_main.cpp.out 2> /dev/null\n"
     ]
    },
    {
     "name": "stderr",
     "output_type": "stream",
     "text": [
      "\u001b[32m[I 2021-09-09 22:46:36,509]\u001b[0m Trial 20 finished with value: 591910680.0 and parameters: {'K_START': 0.0427598273745123, 'K_END': 0.049266340916163325, 'K_H': 0.8809836275392219, 'PURCHASE_TURN_LIMIT': 823, 'SUBSCORE3_TIGHT_TURN': 0}. Best is trial 14 with value: 903171327.0.\u001b[0m\n"
     ]
    },
    {
     "name": "stdout",
     "output_type": "stream",
     "text": [
      "callback ok\n",
      "index_parallel=9\n",
      "sed -i 9_main.cpp -e 's/^constexpr double K_START = .*;  \\/\\/ OPTIMIZE \\[0\\.02, 0\\.06\\] LOG$/constexpr double K_START = 0.028067929072947282;  \\/\\/ OPTIMIZE [0.02, 0.06] LOG/' -e 's/^constexpr double K_END = .*;   \\/\\/ OPTIMIZE \\[0\\.01, 0\\.05\\] LOG$/constexpr double K_END = 0.04853652667279796;   \\/\\/ OPTIMIZE [0.01, 0.05] LOG/' -e 's/^constexpr double K_H = .*;      \\/\\/ OPTIMIZE \\[0\\.001, 0\\.999\\]$/constexpr double K_H = 0.6900043615050608;      \\/\\/ OPTIMIZE [0.001, 0.999]/' -e 's/^constexpr short PURCHASE_TURN_LIMIT = .*;  \\/\\/ OPTIMIZE \\[780, 880\\]$/constexpr short PURCHASE_TURN_LIMIT = 808;  \\/\\/ OPTIMIZE [780, 880]/' -e 's/^constexpr int SUBSCORE3_TIGHT_TURN = .*;     \\/\\/ OPTIMIZE \\[0, 2\\]$/constexpr int SUBSCORE3_TIGHT_TURN = 0;     \\/\\/ OPTIMIZE [0, 2]/'\n",
      "g++ 9_main.cpp -std=gnu++17 -O2 -DONLINE_JUDGE -o 9_main.cpp.out 2> /dev/null\n"
     ]
    },
    {
     "name": "stderr",
     "output_type": "stream",
     "text": [
      "\u001b[32m[I 2021-09-09 22:50:11,176]\u001b[0m Trial 21 finished with value: 897127552.0 and parameters: {'K_START': 0.028067929072947282, 'K_END': 0.04853652667279796, 'K_H': 0.6900043615050608, 'PURCHASE_TURN_LIMIT': 808, 'SUBSCORE3_TIGHT_TURN': 0}. Best is trial 14 with value: 903171327.0.\u001b[0m\n"
     ]
    },
    {
     "name": "stdout",
     "output_type": "stream",
     "text": [
      "callback ok\n",
      "index_parallel=10\n",
      "sed -i 10_main.cpp -e 's/^constexpr double K_START = .*;  \\/\\/ OPTIMIZE \\[0\\.02, 0\\.06\\] LOG$/constexpr double K_START = 0.024896729886096914;  \\/\\/ OPTIMIZE [0.02, 0.06] LOG/' -e 's/^constexpr double K_END = .*;   \\/\\/ OPTIMIZE \\[0\\.01, 0\\.05\\] LOG$/constexpr double K_END = 0.04268221083222649;   \\/\\/ OPTIMIZE [0.01, 0.05] LOG/' -e 's/^constexpr double K_H = .*;      \\/\\/ OPTIMIZE \\[0\\.001, 0\\.999\\]$/constexpr double K_H = 0.8169704956289343;      \\/\\/ OPTIMIZE [0.001, 0.999]/' -e 's/^constexpr short PURCHASE_TURN_LIMIT = .*;  \\/\\/ OPTIMIZE \\[780, 880\\]$/constexpr short PURCHASE_TURN_LIMIT = 790;  \\/\\/ OPTIMIZE [780, 880]/' -e 's/^constexpr int SUBSCORE3_TIGHT_TURN = .*;     \\/\\/ OPTIMIZE \\[0, 2\\]$/constexpr int SUBSCORE3_TIGHT_TURN = 0;     \\/\\/ OPTIMIZE [0, 2]/'\n",
      "g++ 10_main.cpp -std=gnu++17 -O2 -DONLINE_JUDGE -o 10_main.cpp.out 2> /dev/null\n"
     ]
    },
    {
     "name": "stderr",
     "output_type": "stream",
     "text": [
      "\u001b[32m[I 2021-09-09 22:53:40,377]\u001b[0m Trial 22 finished with value: 875906826.0 and parameters: {'K_START': 0.024896729886096914, 'K_END': 0.04268221083222649, 'K_H': 0.8169704956289343, 'PURCHASE_TURN_LIMIT': 790, 'SUBSCORE3_TIGHT_TURN': 0}. Best is trial 14 with value: 903171327.0.\u001b[0m\n"
     ]
    },
    {
     "name": "stdout",
     "output_type": "stream",
     "text": [
      "callback ok\n",
      "index_parallel=11\n",
      "sed -i 11_main.cpp -e 's/^constexpr double K_START = .*;  \\/\\/ OPTIMIZE \\[0\\.02, 0\\.06\\] LOG$/constexpr double K_START = 0.02962384307034712;  \\/\\/ OPTIMIZE [0.02, 0.06] LOG/' -e 's/^constexpr double K_END = .*;   \\/\\/ OPTIMIZE \\[0\\.01, 0\\.05\\] LOG$/constexpr double K_END = 0.03444148919254913;   \\/\\/ OPTIMIZE [0.01, 0.05] LOG/' -e 's/^constexpr double K_H = .*;      \\/\\/ OPTIMIZE \\[0\\.001, 0\\.999\\]$/constexpr double K_H = 0.8379078203457369;      \\/\\/ OPTIMIZE [0.001, 0.999]/' -e 's/^constexpr short PURCHASE_TURN_LIMIT = .*;  \\/\\/ OPTIMIZE \\[780, 880\\]$/constexpr short PURCHASE_TURN_LIMIT = 823;  \\/\\/ OPTIMIZE [780, 880]/' -e 's/^constexpr int SUBSCORE3_TIGHT_TURN = .*;     \\/\\/ OPTIMIZE \\[0, 2\\]$/constexpr int SUBSCORE3_TIGHT_TURN = 0;     \\/\\/ OPTIMIZE [0, 2]/'\n",
      "g++ 11_main.cpp -std=gnu++17 -O2 -DONLINE_JUDGE -o 11_main.cpp.out 2> /dev/null\n"
     ]
    },
    {
     "name": "stderr",
     "output_type": "stream",
     "text": [
      "\u001b[32m[I 2021-09-09 22:57:13,018]\u001b[0m Trial 23 finished with value: 890352189.0 and parameters: {'K_START': 0.02962384307034712, 'K_END': 0.03444148919254913, 'K_H': 0.8379078203457369, 'PURCHASE_TURN_LIMIT': 823, 'SUBSCORE3_TIGHT_TURN': 0}. Best is trial 14 with value: 903171327.0.\u001b[0m\n"
     ]
    },
    {
     "name": "stdout",
     "output_type": "stream",
     "text": [
      "callback ok\n",
      "index_parallel=0\n",
      "sed -i 0_main.cpp -e 's/^constexpr double K_START = .*;  \\/\\/ OPTIMIZE \\[0\\.02, 0\\.06\\] LOG$/constexpr double K_START = 0.02605485003021345;  \\/\\/ OPTIMIZE [0.02, 0.06] LOG/' -e 's/^constexpr double K_END = .*;   \\/\\/ OPTIMIZE \\[0\\.01, 0\\.05\\] LOG$/constexpr double K_END = 0.04220799016257337;   \\/\\/ OPTIMIZE [0.01, 0.05] LOG/' -e 's/^constexpr double K_H = .*;      \\/\\/ OPTIMIZE \\[0\\.001, 0\\.999\\]$/constexpr double K_H = 0.7118562808102995;      \\/\\/ OPTIMIZE [0.001, 0.999]/' -e 's/^constexpr short PURCHASE_TURN_LIMIT = .*;  \\/\\/ OPTIMIZE \\[780, 880\\]$/constexpr short PURCHASE_TURN_LIMIT = 813;  \\/\\/ OPTIMIZE [780, 880]/' -e 's/^constexpr int SUBSCORE3_TIGHT_TURN = .*;     \\/\\/ OPTIMIZE \\[0, 2\\]$/constexpr int SUBSCORE3_TIGHT_TURN = 0;     \\/\\/ OPTIMIZE [0, 2]/'\n",
      "g++ 0_main.cpp -std=gnu++17 -O2 -DONLINE_JUDGE -o 0_main.cpp.out 2> /dev/null\n"
     ]
    },
    {
     "name": "stderr",
     "output_type": "stream",
     "text": [
      "\u001b[32m[I 2021-09-09 23:00:41,340]\u001b[0m Trial 24 finished with value: 896595206.0 and parameters: {'K_START': 0.02605485003021345, 'K_END': 0.04220799016257337, 'K_H': 0.7118562808102995, 'PURCHASE_TURN_LIMIT': 813, 'SUBSCORE3_TIGHT_TURN': 0}. Best is trial 14 with value: 903171327.0.\u001b[0m\n"
     ]
    },
    {
     "name": "stdout",
     "output_type": "stream",
     "text": [
      "callback ok\n",
      "index_parallel=1\n",
      "sed -i 1_main.cpp -e 's/^constexpr double K_START = .*;  \\/\\/ OPTIMIZE \\[0\\.02, 0\\.06\\] LOG$/constexpr double K_START = 0.02003724270014234;  \\/\\/ OPTIMIZE [0.02, 0.06] LOG/' -e 's/^constexpr double K_END = .*;   \\/\\/ OPTIMIZE \\[0\\.01, 0\\.05\\] LOG$/constexpr double K_END = 0.03880877880859853;   \\/\\/ OPTIMIZE [0.01, 0.05] LOG/' -e 's/^constexpr double K_H = .*;      \\/\\/ OPTIMIZE \\[0\\.001, 0\\.999\\]$/constexpr double K_H = 0.565599711289382;      \\/\\/ OPTIMIZE [0.001, 0.999]/' -e 's/^constexpr short PURCHASE_TURN_LIMIT = .*;  \\/\\/ OPTIMIZE \\[780, 880\\]$/constexpr short PURCHASE_TURN_LIMIT = 794;  \\/\\/ OPTIMIZE [780, 880]/' -e 's/^constexpr int SUBSCORE3_TIGHT_TURN = .*;     \\/\\/ OPTIMIZE \\[0, 2\\]$/constexpr int SUBSCORE3_TIGHT_TURN = 0;     \\/\\/ OPTIMIZE [0, 2]/'\n",
      "g++ 1_main.cpp -std=gnu++17 -O2 -DONLINE_JUDGE -o 1_main.cpp.out 2> /dev/null\n"
     ]
    },
    {
     "name": "stderr",
     "output_type": "stream",
     "text": [
      "\u001b[32m[I 2021-09-09 23:04:03,164]\u001b[0m Trial 25 finished with value: 874733752.0 and parameters: {'K_START': 0.02003724270014234, 'K_END': 0.03880877880859853, 'K_H': 0.565599711289382, 'PURCHASE_TURN_LIMIT': 794, 'SUBSCORE3_TIGHT_TURN': 0}. Best is trial 14 with value: 903171327.0.\u001b[0m\n"
     ]
    },
    {
     "name": "stdout",
     "output_type": "stream",
     "text": [
      "callback ok\n",
      "index_parallel=2\n",
      "sed -i 2_main.cpp -e 's/^constexpr double K_START = .*;  \\/\\/ OPTIMIZE \\[0\\.02, 0\\.06\\] LOG$/constexpr double K_START = 0.034262412625024864;  \\/\\/ OPTIMIZE [0.02, 0.06] LOG/' -e 's/^constexpr double K_END = .*;   \\/\\/ OPTIMIZE \\[0\\.01, 0\\.05\\] LOG$/constexpr double K_END = 0.03220578452702475;   \\/\\/ OPTIMIZE [0.01, 0.05] LOG/' -e 's/^constexpr double K_H = .*;      \\/\\/ OPTIMIZE \\[0\\.001, 0\\.999\\]$/constexpr double K_H = 0.4075988216667052;      \\/\\/ OPTIMIZE [0.001, 0.999]/' -e 's/^constexpr short PURCHASE_TURN_LIMIT = .*;  \\/\\/ OPTIMIZE \\[780, 880\\]$/constexpr short PURCHASE_TURN_LIMIT = 825;  \\/\\/ OPTIMIZE [780, 880]/' -e 's/^constexpr int SUBSCORE3_TIGHT_TURN = .*;     \\/\\/ OPTIMIZE \\[0, 2\\]$/constexpr int SUBSCORE3_TIGHT_TURN = 1;     \\/\\/ OPTIMIZE [0, 2]/'\n",
      "g++ 2_main.cpp -std=gnu++17 -O2 -DONLINE_JUDGE -o 2_main.cpp.out 2> /dev/null\n"
     ]
    },
    {
     "name": "stderr",
     "output_type": "stream",
     "text": [
      "\u001b[32m[I 2021-09-09 23:07:32,451]\u001b[0m Trial 26 finished with value: 881187436.0 and parameters: {'K_START': 0.034262412625024864, 'K_END': 0.03220578452702475, 'K_H': 0.4075988216667052, 'PURCHASE_TURN_LIMIT': 825, 'SUBSCORE3_TIGHT_TURN': 1}. Best is trial 14 with value: 903171327.0.\u001b[0m\n"
     ]
    },
    {
     "name": "stdout",
     "output_type": "stream",
     "text": [
      "callback ok\n",
      "index_parallel=3\n",
      "sed -i 3_main.cpp -e 's/^constexpr double K_START = .*;  \\/\\/ OPTIMIZE \\[0\\.02, 0\\.06\\] LOG$/constexpr double K_START = 0.02309826049918839;  \\/\\/ OPTIMIZE [0.02, 0.06] LOG/' -e 's/^constexpr double K_END = .*;   \\/\\/ OPTIMIZE \\[0\\.01, 0\\.05\\] LOG$/constexpr double K_END = 0.04577107628311306;   \\/\\/ OPTIMIZE [0.01, 0.05] LOG/' -e 's/^constexpr double K_H = .*;      \\/\\/ OPTIMIZE \\[0\\.001, 0\\.999\\]$/constexpr double K_H = 0.9306855551140523;      \\/\\/ OPTIMIZE [0.001, 0.999]/' -e 's/^constexpr short PURCHASE_TURN_LIMIT = .*;  \\/\\/ OPTIMIZE \\[780, 880\\]$/constexpr short PURCHASE_TURN_LIMIT = 842;  \\/\\/ OPTIMIZE [780, 880]/' -e 's/^constexpr int SUBSCORE3_TIGHT_TURN = .*;     \\/\\/ OPTIMIZE \\[0, 2\\]$/constexpr int SUBSCORE3_TIGHT_TURN = 0;     \\/\\/ OPTIMIZE [0, 2]/'\n",
      "g++ 3_main.cpp -std=gnu++17 -O2 -DONLINE_JUDGE -o 3_main.cpp.out 2> /dev/null\n"
     ]
    },
    {
     "name": "stderr",
     "output_type": "stream",
     "text": [
      "\u001b[32m[I 2021-09-09 23:11:13,413]\u001b[0m Trial 27 finished with value: 897584124.0 and parameters: {'K_START': 0.02309826049918839, 'K_END': 0.04577107628311306, 'K_H': 0.9306855551140523, 'PURCHASE_TURN_LIMIT': 842, 'SUBSCORE3_TIGHT_TURN': 0}. Best is trial 14 with value: 903171327.0.\u001b[0m\n"
     ]
    },
    {
     "name": "stdout",
     "output_type": "stream",
     "text": [
      "callback ok\n",
      "index_parallel=4\n",
      "sed -i 4_main.cpp -e 's/^constexpr double K_START = .*;  \\/\\/ OPTIMIZE \\[0\\.02, 0\\.06\\] LOG$/constexpr double K_START = 0.03100120292164075;  \\/\\/ OPTIMIZE [0.02, 0.06] LOG/' -e 's/^constexpr double K_END = .*;   \\/\\/ OPTIMIZE \\[0\\.01, 0\\.05\\] LOG$/constexpr double K_END = 0.025604332495745126;   \\/\\/ OPTIMIZE [0.01, 0.05] LOG/' -e 's/^constexpr double K_H = .*;      \\/\\/ OPTIMIZE \\[0\\.001, 0\\.999\\]$/constexpr double K_H = 0.7961778594176399;      \\/\\/ OPTIMIZE [0.001, 0.999]/' -e 's/^constexpr short PURCHASE_TURN_LIMIT = .*;  \\/\\/ OPTIMIZE \\[780, 880\\]$/constexpr short PURCHASE_TURN_LIMIT = 853;  \\/\\/ OPTIMIZE [780, 880]/' -e 's/^constexpr int SUBSCORE3_TIGHT_TURN = .*;     \\/\\/ OPTIMIZE \\[0, 2\\]$/constexpr int SUBSCORE3_TIGHT_TURN = 0;     \\/\\/ OPTIMIZE [0, 2]/'\n",
      "g++ 4_main.cpp -std=gnu++17 -O2 -DONLINE_JUDGE -o 4_main.cpp.out 2> /dev/null\n"
     ]
    },
    {
     "name": "stderr",
     "output_type": "stream",
     "text": [
      "\u001b[32m[I 2021-09-09 23:14:50,235]\u001b[0m Trial 28 finished with value: 864148636.0 and parameters: {'K_START': 0.03100120292164075, 'K_END': 0.025604332495745126, 'K_H': 0.7961778594176399, 'PURCHASE_TURN_LIMIT': 853, 'SUBSCORE3_TIGHT_TURN': 0}. Best is trial 14 with value: 903171327.0.\u001b[0m\n"
     ]
    },
    {
     "name": "stdout",
     "output_type": "stream",
     "text": [
      "callback ok\n",
      "index_parallel=5\n",
      "sed -i 5_main.cpp -e 's/^constexpr double K_START = .*;  \\/\\/ OPTIMIZE \\[0\\.02, 0\\.06\\] LOG$/constexpr double K_START = 0.026782212010393797;  \\/\\/ OPTIMIZE [0.02, 0.06] LOG/' -e 's/^constexpr double K_END = .*;   \\/\\/ OPTIMIZE \\[0\\.01, 0\\.05\\] LOG$/constexpr double K_END = 0.028895739807962662;   \\/\\/ OPTIMIZE [0.01, 0.05] LOG/' -e 's/^constexpr double K_H = .*;      \\/\\/ OPTIMIZE \\[0\\.001, 0\\.999\\]$/constexpr double K_H = 0.47018322806156704;      \\/\\/ OPTIMIZE [0.001, 0.999]/' -e 's/^constexpr short PURCHASE_TURN_LIMIT = .*;  \\/\\/ OPTIMIZE \\[780, 880\\]$/constexpr short PURCHASE_TURN_LIMIT = 836;  \\/\\/ OPTIMIZE [780, 880]/' -e 's/^constexpr int SUBSCORE3_TIGHT_TURN = .*;     \\/\\/ OPTIMIZE \\[0, 2\\]$/constexpr int SUBSCORE3_TIGHT_TURN = 1;     \\/\\/ OPTIMIZE [0, 2]/'\n",
      "g++ 5_main.cpp -std=gnu++17 -O2 -DONLINE_JUDGE -o 5_main.cpp.out 2> /dev/null\n"
     ]
    },
    {
     "name": "stderr",
     "output_type": "stream",
     "text": [
      "\u001b[32m[I 2021-09-09 23:18:18,010]\u001b[0m Trial 29 finished with value: 872053412.0 and parameters: {'K_START': 0.026782212010393797, 'K_END': 0.028895739807962662, 'K_H': 0.47018322806156704, 'PURCHASE_TURN_LIMIT': 836, 'SUBSCORE3_TIGHT_TURN': 1}. Best is trial 14 with value: 903171327.0.\u001b[0m\n"
     ]
    },
    {
     "name": "stdout",
     "output_type": "stream",
     "text": [
      "callback ok\n",
      "index_parallel=6\n",
      "sed -i 6_main.cpp -e 's/^constexpr double K_START = .*;  \\/\\/ OPTIMIZE \\[0\\.02, 0\\.06\\] LOG$/constexpr double K_START = 0.02957150275467518;  \\/\\/ OPTIMIZE [0.02, 0.06] LOG/' -e 's/^constexpr double K_END = .*;   \\/\\/ OPTIMIZE \\[0\\.01, 0\\.05\\] LOG$/constexpr double K_END = 0.040036396466062114;   \\/\\/ OPTIMIZE [0.01, 0.05] LOG/' -e 's/^constexpr double K_H = .*;      \\/\\/ OPTIMIZE \\[0\\.001, 0\\.999\\]$/constexpr double K_H = 0.27358999202755496;      \\/\\/ OPTIMIZE [0.001, 0.999]/' -e 's/^constexpr short PURCHASE_TURN_LIMIT = .*;  \\/\\/ OPTIMIZE \\[780, 880\\]$/constexpr short PURCHASE_TURN_LIMIT = 810;  \\/\\/ OPTIMIZE [780, 880]/' -e 's/^constexpr int SUBSCORE3_TIGHT_TURN = .*;     \\/\\/ OPTIMIZE \\[0, 2\\]$/constexpr int SUBSCORE3_TIGHT_TURN = 1;     \\/\\/ OPTIMIZE [0, 2]/'\n",
      "g++ 6_main.cpp -std=gnu++17 -O2 -DONLINE_JUDGE -o 6_main.cpp.out 2> /dev/null\n"
     ]
    },
    {
     "name": "stderr",
     "output_type": "stream",
     "text": [
      "\u001b[32m[I 2021-09-09 23:21:37,018]\u001b[0m Trial 30 finished with value: 880961008.0 and parameters: {'K_START': 0.02957150275467518, 'K_END': 0.040036396466062114, 'K_H': 0.27358999202755496, 'PURCHASE_TURN_LIMIT': 810, 'SUBSCORE3_TIGHT_TURN': 1}. Best is trial 14 with value: 903171327.0.\u001b[0m\n"
     ]
    },
    {
     "name": "stdout",
     "output_type": "stream",
     "text": [
      "callback ok\n",
      "index_parallel=7\n",
      "sed -i 7_main.cpp -e 's/^constexpr double K_START = .*;  \\/\\/ OPTIMIZE \\[0\\.02, 0\\.06\\] LOG$/constexpr double K_START = 0.030857413875364576;  \\/\\/ OPTIMIZE [0.02, 0.06] LOG/' -e 's/^constexpr double K_END = .*;   \\/\\/ OPTIMIZE \\[0\\.01, 0\\.05\\] LOG$/constexpr double K_END = 0.049712653310373264;   \\/\\/ OPTIMIZE [0.01, 0.05] LOG/' -e 's/^constexpr double K_H = .*;      \\/\\/ OPTIMIZE \\[0\\.001, 0\\.999\\]$/constexpr double K_H = 0.6426118329809292;      \\/\\/ OPTIMIZE [0.001, 0.999]/' -e 's/^constexpr short PURCHASE_TURN_LIMIT = .*;  \\/\\/ OPTIMIZE \\[780, 880\\]$/constexpr short PURCHASE_TURN_LIMIT = 845;  \\/\\/ OPTIMIZE [780, 880]/' -e 's/^constexpr int SUBSCORE3_TIGHT_TURN = .*;     \\/\\/ OPTIMIZE \\[0, 2\\]$/constexpr int SUBSCORE3_TIGHT_TURN = 1;     \\/\\/ OPTIMIZE [0, 2]/'\n",
      "g++ 7_main.cpp -std=gnu++17 -O2 -DONLINE_JUDGE -o 7_main.cpp.out 2> /dev/null\n"
     ]
    },
    {
     "name": "stderr",
     "output_type": "stream",
     "text": [
      "\u001b[32m[I 2021-09-09 23:25:02,418]\u001b[0m Trial 31 finished with value: 891136146.0 and parameters: {'K_START': 0.030857413875364576, 'K_END': 0.049712653310373264, 'K_H': 0.6426118329809292, 'PURCHASE_TURN_LIMIT': 845, 'SUBSCORE3_TIGHT_TURN': 1}. Best is trial 14 with value: 903171327.0.\u001b[0m\n"
     ]
    },
    {
     "name": "stdout",
     "output_type": "stream",
     "text": [
      "callback ok\n",
      "index_parallel=8\n",
      "sed -i 8_main.cpp -e 's/^constexpr double K_START = .*;  \\/\\/ OPTIMIZE \\[0\\.02, 0\\.06\\] LOG$/constexpr double K_START = 0.027527136683407987;  \\/\\/ OPTIMIZE [0.02, 0.06] LOG/' -e 's/^constexpr double K_END = .*;   \\/\\/ OPTIMIZE \\[0\\.01, 0\\.05\\] LOG$/constexpr double K_END = 0.035413892688072886;   \\/\\/ OPTIMIZE [0.01, 0.05] LOG/' -e 's/^constexpr double K_H = .*;      \\/\\/ OPTIMIZE \\[0\\.001, 0\\.999\\]$/constexpr double K_H = 0.6518747553398766;      \\/\\/ OPTIMIZE [0.001, 0.999]/' -e 's/^constexpr short PURCHASE_TURN_LIMIT = .*;  \\/\\/ OPTIMIZE \\[780, 880\\]$/constexpr short PURCHASE_TURN_LIMIT = 848;  \\/\\/ OPTIMIZE [780, 880]/' -e 's/^constexpr int SUBSCORE3_TIGHT_TURN = .*;     \\/\\/ OPTIMIZE \\[0, 2\\]$/constexpr int SUBSCORE3_TIGHT_TURN = 2;     \\/\\/ OPTIMIZE [0, 2]/'\n",
      "g++ 8_main.cpp -std=gnu++17 -O2 -DONLINE_JUDGE -o 8_main.cpp.out 2> /dev/null\n"
     ]
    },
    {
     "name": "stderr",
     "output_type": "stream",
     "text": [
      "\u001b[32m[I 2021-09-09 23:28:32,295]\u001b[0m Trial 32 finished with value: 882361348.0 and parameters: {'K_START': 0.027527136683407987, 'K_END': 0.035413892688072886, 'K_H': 0.6518747553398766, 'PURCHASE_TURN_LIMIT': 848, 'SUBSCORE3_TIGHT_TURN': 2}. Best is trial 14 with value: 903171327.0.\u001b[0m\n"
     ]
    },
    {
     "name": "stdout",
     "output_type": "stream",
     "text": [
      "callback ok\n",
      "index_parallel=9\n",
      "sed -i 9_main.cpp -e 's/^constexpr double K_START = .*;  \\/\\/ OPTIMIZE \\[0\\.02, 0\\.06\\] LOG$/constexpr double K_START = 0.02356279997177545;  \\/\\/ OPTIMIZE [0.02, 0.06] LOG/' -e 's/^constexpr double K_END = .*;   \\/\\/ OPTIMIZE \\[0\\.01, 0\\.05\\] LOG$/constexpr double K_END = 0.044051951223143065;   \\/\\/ OPTIMIZE [0.01, 0.05] LOG/' -e 's/^constexpr double K_H = .*;      \\/\\/ OPTIMIZE \\[0\\.001, 0\\.999\\]$/constexpr double K_H = 0.6949524086052934;      \\/\\/ OPTIMIZE [0.001, 0.999]/' -e 's/^constexpr short PURCHASE_TURN_LIMIT = .*;  \\/\\/ OPTIMIZE \\[780, 880\\]$/constexpr short PURCHASE_TURN_LIMIT = 862;  \\/\\/ OPTIMIZE [780, 880]/' -e 's/^constexpr int SUBSCORE3_TIGHT_TURN = .*;     \\/\\/ OPTIMIZE \\[0, 2\\]$/constexpr int SUBSCORE3_TIGHT_TURN = 1;     \\/\\/ OPTIMIZE [0, 2]/'\n",
      "g++ 9_main.cpp -std=gnu++17 -O2 -DONLINE_JUDGE -o 9_main.cpp.out 2> /dev/null\n"
     ]
    },
    {
     "name": "stderr",
     "output_type": "stream",
     "text": [
      "\u001b[32m[I 2021-09-09 23:32:14,329]\u001b[0m Trial 33 finished with value: 885930250.0 and parameters: {'K_START': 0.02356279997177545, 'K_END': 0.044051951223143065, 'K_H': 0.6949524086052934, 'PURCHASE_TURN_LIMIT': 862, 'SUBSCORE3_TIGHT_TURN': 1}. Best is trial 14 with value: 903171327.0.\u001b[0m\n"
     ]
    },
    {
     "name": "stdout",
     "output_type": "stream",
     "text": [
      "callback ok\n",
      "index_parallel=10\n",
      "sed -i 10_main.cpp -e 's/^constexpr double K_START = .*;  \\/\\/ OPTIMIZE \\[0\\.02, 0\\.06\\] LOG$/constexpr double K_START = 0.03524391096959885;  \\/\\/ OPTIMIZE [0.02, 0.06] LOG/' -e 's/^constexpr double K_END = .*;   \\/\\/ OPTIMIZE \\[0\\.01, 0\\.05\\] LOG$/constexpr double K_END = 0.044330694536915065;   \\/\\/ OPTIMIZE [0.01, 0.05] LOG/' -e 's/^constexpr double K_H = .*;      \\/\\/ OPTIMIZE \\[0\\.001, 0\\.999\\]$/constexpr double K_H = 0.9679229202742547;      \\/\\/ OPTIMIZE [0.001, 0.999]/' -e 's/^constexpr short PURCHASE_TURN_LIMIT = .*;  \\/\\/ OPTIMIZE \\[780, 880\\]$/constexpr short PURCHASE_TURN_LIMIT = 860;  \\/\\/ OPTIMIZE [780, 880]/' -e 's/^constexpr int SUBSCORE3_TIGHT_TURN = .*;     \\/\\/ OPTIMIZE \\[0, 2\\]$/constexpr int SUBSCORE3_TIGHT_TURN = 0;     \\/\\/ OPTIMIZE [0, 2]/'\n",
      "g++ 10_main.cpp -std=gnu++17 -O2 -DONLINE_JUDGE -o 10_main.cpp.out 2> /dev/null\n"
     ]
    },
    {
     "name": "stderr",
     "output_type": "stream",
     "text": [
      "\u001b[32m[I 2021-09-09 23:35:51,171]\u001b[0m Trial 34 finished with value: 855063299.0 and parameters: {'K_START': 0.03524391096959885, 'K_END': 0.044330694536915065, 'K_H': 0.9679229202742547, 'PURCHASE_TURN_LIMIT': 860, 'SUBSCORE3_TIGHT_TURN': 0}. Best is trial 14 with value: 903171327.0.\u001b[0m\n"
     ]
    },
    {
     "name": "stdout",
     "output_type": "stream",
     "text": [
      "callback ok\n",
      "index_parallel=11\n",
      "sed -i 11_main.cpp -e 's/^constexpr double K_START = .*;  \\/\\/ OPTIMIZE \\[0\\.02, 0\\.06\\] LOG$/constexpr double K_START = 0.03331533498548736;  \\/\\/ OPTIMIZE [0.02, 0.06] LOG/' -e 's/^constexpr double K_END = .*;   \\/\\/ OPTIMIZE \\[0\\.01, 0\\.05\\] LOG$/constexpr double K_END = 0.04144759680393727;   \\/\\/ OPTIMIZE [0.01, 0.05] LOG/' -e 's/^constexpr double K_H = .*;      \\/\\/ OPTIMIZE \\[0\\.001, 0\\.999\\]$/constexpr double K_H = 0.8483483856818045;      \\/\\/ OPTIMIZE [0.001, 0.999]/' -e 's/^constexpr short PURCHASE_TURN_LIMIT = .*;  \\/\\/ OPTIMIZE \\[780, 880\\]$/constexpr short PURCHASE_TURN_LIMIT = 876;  \\/\\/ OPTIMIZE [780, 880]/' -e 's/^constexpr int SUBSCORE3_TIGHT_TURN = .*;     \\/\\/ OPTIMIZE \\[0, 2\\]$/constexpr int SUBSCORE3_TIGHT_TURN = 1;     \\/\\/ OPTIMIZE [0, 2]/'\n",
      "g++ 11_main.cpp -std=gnu++17 -O2 -DONLINE_JUDGE -o 11_main.cpp.out 2> /dev/null\n"
     ]
    },
    {
     "name": "stderr",
     "output_type": "stream",
     "text": [
      "\u001b[32m[I 2021-09-09 23:39:27,141]\u001b[0m Trial 35 finished with value: 862240266.0 and parameters: {'K_START': 0.03331533498548736, 'K_END': 0.04144759680393727, 'K_H': 0.8483483856818045, 'PURCHASE_TURN_LIMIT': 876, 'SUBSCORE3_TIGHT_TURN': 1}. Best is trial 14 with value: 903171327.0.\u001b[0m\n"
     ]
    },
    {
     "name": "stdout",
     "output_type": "stream",
     "text": [
      "callback ok\n",
      "index_parallel=0\n",
      "sed -i 0_main.cpp -e 's/^constexpr double K_START = .*;  \\/\\/ OPTIMIZE \\[0\\.02, 0\\.06\\] LOG$/constexpr double K_START = 0.02954305670298909;  \\/\\/ OPTIMIZE [0.02, 0.06] LOG/' -e 's/^constexpr double K_END = .*;   \\/\\/ OPTIMIZE \\[0\\.01, 0\\.05\\] LOG$/constexpr double K_END = 0.031764717972038205;   \\/\\/ OPTIMIZE [0.01, 0.05] LOG/' -e 's/^constexpr double K_H = .*;      \\/\\/ OPTIMIZE \\[0\\.001, 0\\.999\\]$/constexpr double K_H = 0.4921765818472452;      \\/\\/ OPTIMIZE [0.001, 0.999]/' -e 's/^constexpr short PURCHASE_TURN_LIMIT = .*;  \\/\\/ OPTIMIZE \\[780, 880\\]$/constexpr short PURCHASE_TURN_LIMIT = 828;  \\/\\/ OPTIMIZE [780, 880]/' -e 's/^constexpr int SUBSCORE3_TIGHT_TURN = .*;     \\/\\/ OPTIMIZE \\[0, 2\\]$/constexpr int SUBSCORE3_TIGHT_TURN = 0;     \\/\\/ OPTIMIZE [0, 2]/'\n",
      "g++ 0_main.cpp -std=gnu++17 -O2 -DONLINE_JUDGE -o 0_main.cpp.out 2> /dev/null\n"
     ]
    },
    {
     "name": "stderr",
     "output_type": "stream",
     "text": [
      "\u001b[32m[I 2021-09-09 23:42:46,104]\u001b[0m Trial 36 finished with value: 885005071.0 and parameters: {'K_START': 0.02954305670298909, 'K_END': 0.031764717972038205, 'K_H': 0.4921765818472452, 'PURCHASE_TURN_LIMIT': 828, 'SUBSCORE3_TIGHT_TURN': 0}. Best is trial 14 with value: 903171327.0.\u001b[0m\n"
     ]
    },
    {
     "name": "stdout",
     "output_type": "stream",
     "text": [
      "callback ok\n",
      "index_parallel=1\n",
      "sed -i 1_main.cpp -e 's/^constexpr double K_START = .*;  \\/\\/ OPTIMIZE \\[0\\.02, 0\\.06\\] LOG$/constexpr double K_START = 0.039359942661812336;  \\/\\/ OPTIMIZE [0.02, 0.06] LOG/' -e 's/^constexpr double K_END = .*;   \\/\\/ OPTIMIZE \\[0\\.01, 0\\.05\\] LOG$/constexpr double K_END = 0.045886396455751946;   \\/\\/ OPTIMIZE [0.01, 0.05] LOG/' -e 's/^constexpr double K_H = .*;      \\/\\/ OPTIMIZE \\[0\\.001, 0\\.999\\]$/constexpr double K_H = 0.579863719486451;      \\/\\/ OPTIMIZE [0.001, 0.999]/' -e 's/^constexpr short PURCHASE_TURN_LIMIT = .*;  \\/\\/ OPTIMIZE \\[780, 880\\]$/constexpr short PURCHASE_TURN_LIMIT = 819;  \\/\\/ OPTIMIZE [780, 880]/' -e 's/^constexpr int SUBSCORE3_TIGHT_TURN = .*;     \\/\\/ OPTIMIZE \\[0, 2\\]$/constexpr int SUBSCORE3_TIGHT_TURN = 1;     \\/\\/ OPTIMIZE [0, 2]/'\n",
      "g++ 1_main.cpp -std=gnu++17 -O2 -DONLINE_JUDGE -o 1_main.cpp.out 2> /dev/null\n"
     ]
    },
    {
     "name": "stderr",
     "output_type": "stream",
     "text": [
      "\u001b[32m[I 2021-09-09 23:46:06,576]\u001b[0m Trial 37 finished with value: 871607046.0 and parameters: {'K_START': 0.039359942661812336, 'K_END': 0.045886396455751946, 'K_H': 0.579863719486451, 'PURCHASE_TURN_LIMIT': 819, 'SUBSCORE3_TIGHT_TURN': 1}. Best is trial 14 with value: 903171327.0.\u001b[0m\n"
     ]
    },
    {
     "name": "stdout",
     "output_type": "stream",
     "text": [
      "callback ok\n",
      "index_parallel=2\n",
      "sed -i 2_main.cpp -e 's/^constexpr double K_START = .*;  \\/\\/ OPTIMIZE \\[0\\.02, 0\\.06\\] LOG$/constexpr double K_START = 0.023817620194531715;  \\/\\/ OPTIMIZE [0.02, 0.06] LOG/' -e 's/^constexpr double K_END = .*;   \\/\\/ OPTIMIZE \\[0\\.01, 0\\.05\\] LOG$/constexpr double K_END = 0.017863199997112954;   \\/\\/ OPTIMIZE [0.01, 0.05] LOG/' -e 's/^constexpr double K_H = .*;      \\/\\/ OPTIMIZE \\[0\\.001, 0\\.999\\]$/constexpr double K_H = 0.7192338206283447;      \\/\\/ OPTIMIZE [0.001, 0.999]/' -e 's/^constexpr short PURCHASE_TURN_LIMIT = .*;  \\/\\/ OPTIMIZE \\[780, 880\\]$/constexpr short PURCHASE_TURN_LIMIT = 856;  \\/\\/ OPTIMIZE [780, 880]/' -e 's/^constexpr int SUBSCORE3_TIGHT_TURN = .*;     \\/\\/ OPTIMIZE \\[0, 2\\]$/constexpr int SUBSCORE3_TIGHT_TURN = 2;     \\/\\/ OPTIMIZE [0, 2]/'\n",
      "g++ 2_main.cpp -std=gnu++17 -O2 -DONLINE_JUDGE -o 2_main.cpp.out 2> /dev/null\n"
     ]
    },
    {
     "name": "stderr",
     "output_type": "stream",
     "text": [
      "\u001b[32m[I 2021-09-09 23:49:19,669]\u001b[0m Trial 38 finished with value: 821967782.0 and parameters: {'K_START': 0.023817620194531715, 'K_END': 0.017863199997112954, 'K_H': 0.7192338206283447, 'PURCHASE_TURN_LIMIT': 856, 'SUBSCORE3_TIGHT_TURN': 2}. Best is trial 14 with value: 903171327.0.\u001b[0m\n"
     ]
    },
    {
     "name": "stdout",
     "output_type": "stream",
     "text": [
      "callback ok\n",
      "index_parallel=3\n",
      "sed -i 3_main.cpp -e 's/^constexpr double K_START = .*;  \\/\\/ OPTIMIZE \\[0\\.02, 0\\.06\\] LOG$/constexpr double K_START = 0.032002202955631553;  \\/\\/ OPTIMIZE [0.02, 0.06] LOG/' -e 's/^constexpr double K_END = .*;   \\/\\/ OPTIMIZE \\[0\\.01, 0\\.05\\] LOG$/constexpr double K_END = 0.010013352685334648;   \\/\\/ OPTIMIZE [0.01, 0.05] LOG/' -e 's/^constexpr double K_H = .*;      \\/\\/ OPTIMIZE \\[0\\.001, 0\\.999\\]$/constexpr double K_H = 0.9316935321027994;      \\/\\/ OPTIMIZE [0.001, 0.999]/' -e 's/^constexpr short PURCHASE_TURN_LIMIT = .*;  \\/\\/ OPTIMIZE \\[780, 880\\]$/constexpr short PURCHASE_TURN_LIMIT = 838;  \\/\\/ OPTIMIZE [780, 880]/' -e 's/^constexpr int SUBSCORE3_TIGHT_TURN = .*;     \\/\\/ OPTIMIZE \\[0, 2\\]$/constexpr int SUBSCORE3_TIGHT_TURN = 0;     \\/\\/ OPTIMIZE [0, 2]/'\n",
      "g++ 3_main.cpp -std=gnu++17 -O2 -DONLINE_JUDGE -o 3_main.cpp.out 2> /dev/null\n"
     ]
    },
    {
     "name": "stderr",
     "output_type": "stream",
     "text": [
      "\u001b[32m[I 2021-09-09 23:52:15,525]\u001b[0m Trial 39 finished with value: 748007441.0 and parameters: {'K_START': 0.032002202955631553, 'K_END': 0.010013352685334648, 'K_H': 0.9316935321027994, 'PURCHASE_TURN_LIMIT': 838, 'SUBSCORE3_TIGHT_TURN': 0}. Best is trial 14 with value: 903171327.0.\u001b[0m\n"
     ]
    },
    {
     "name": "stdout",
     "output_type": "stream",
     "text": [
      "callback ok\n",
      "index_parallel=4\n",
      "sed -i 4_main.cpp -e 's/^constexpr double K_START = .*;  \\/\\/ OPTIMIZE \\[0\\.02, 0\\.06\\] LOG$/constexpr double K_START = 0.026626478479211797;  \\/\\/ OPTIMIZE [0.02, 0.06] LOG/' -e 's/^constexpr double K_END = .*;   \\/\\/ OPTIMIZE \\[0\\.01, 0\\.05\\] LOG$/constexpr double K_END = 0.03462130112448529;   \\/\\/ OPTIMIZE [0.01, 0.05] LOG/' -e 's/^constexpr double K_H = .*;      \\/\\/ OPTIMIZE \\[0\\.001, 0\\.999\\]$/constexpr double K_H = 0.531779065565328;      \\/\\/ OPTIMIZE [0.001, 0.999]/' -e 's/^constexpr short PURCHASE_TURN_LIMIT = .*;  \\/\\/ OPTIMIZE \\[780, 880\\]$/constexpr short PURCHASE_TURN_LIMIT = 829;  \\/\\/ OPTIMIZE [780, 880]/' -e 's/^constexpr int SUBSCORE3_TIGHT_TURN = .*;     \\/\\/ OPTIMIZE \\[0, 2\\]$/constexpr int SUBSCORE3_TIGHT_TURN = 1;     \\/\\/ OPTIMIZE [0, 2]/'\n",
      "g++ 4_main.cpp -std=gnu++17 -O2 -DONLINE_JUDGE -o 4_main.cpp.out 2> /dev/null\n"
     ]
    },
    {
     "name": "stderr",
     "output_type": "stream",
     "text": [
      "\u001b[32m[I 2021-09-09 23:55:27,269]\u001b[0m Trial 40 finished with value: 884166630.0 and parameters: {'K_START': 0.026626478479211797, 'K_END': 0.03462130112448529, 'K_H': 0.531779065565328, 'PURCHASE_TURN_LIMIT': 829, 'SUBSCORE3_TIGHT_TURN': 1}. Best is trial 14 with value: 903171327.0.\u001b[0m\n"
     ]
    },
    {
     "name": "stdout",
     "output_type": "stream",
     "text": [
      "callback ok\n",
      "index_parallel=5\n",
      "sed -i 5_main.cpp -e 's/^constexpr double K_START = .*;  \\/\\/ OPTIMIZE \\[0\\.02, 0\\.06\\] LOG$/constexpr double K_START = 0.022465523370286917;  \\/\\/ OPTIMIZE [0.02, 0.06] LOG/' -e 's/^constexpr double K_END = .*;   \\/\\/ OPTIMIZE \\[0\\.01, 0\\.05\\] LOG$/constexpr double K_END = 0.04481776656982974;   \\/\\/ OPTIMIZE [0.01, 0.05] LOG/' -e 's/^constexpr double K_H = .*;      \\/\\/ OPTIMIZE \\[0\\.001, 0\\.999\\]$/constexpr double K_H = 0.9088211749837308;      \\/\\/ OPTIMIZE [0.001, 0.999]/' -e 's/^constexpr short PURCHASE_TURN_LIMIT = .*;  \\/\\/ OPTIMIZE \\[780, 880\\]$/constexpr short PURCHASE_TURN_LIMIT = 843;  \\/\\/ OPTIMIZE [780, 880]/' -e 's/^constexpr int SUBSCORE3_TIGHT_TURN = .*;     \\/\\/ OPTIMIZE \\[0, 2\\]$/constexpr int SUBSCORE3_TIGHT_TURN = 0;     \\/\\/ OPTIMIZE [0, 2]/'\n",
      "g++ 5_main.cpp -std=gnu++17 -O2 -DONLINE_JUDGE -o 5_main.cpp.out 2> /dev/null\n"
     ]
    },
    {
     "name": "stderr",
     "output_type": "stream",
     "text": [
      "\u001b[32m[I 2021-09-09 23:58:47,044]\u001b[0m Trial 41 finished with value: 905334589.0 and parameters: {'K_START': 0.022465523370286917, 'K_END': 0.04481776656982974, 'K_H': 0.9088211749837308, 'PURCHASE_TURN_LIMIT': 843, 'SUBSCORE3_TIGHT_TURN': 0}. Best is trial 41 with value: 905334589.0.\u001b[0m\n"
     ]
    },
    {
     "name": "stdout",
     "output_type": "stream",
     "text": [
      "Updated! 905334589.0\n",
      "callback ok\n",
      "index_parallel=6\n",
      "sed -i 6_main.cpp -e 's/^constexpr double K_START = .*;  \\/\\/ OPTIMIZE \\[0\\.02, 0\\.06\\] LOG$/constexpr double K_START = 0.021182095583160292;  \\/\\/ OPTIMIZE [0.02, 0.06] LOG/' -e 's/^constexpr double K_END = .*;   \\/\\/ OPTIMIZE \\[0\\.01, 0\\.05\\] LOG$/constexpr double K_END = 0.045113665683593186;   \\/\\/ OPTIMIZE [0.01, 0.05] LOG/' -e 's/^constexpr double K_H = .*;      \\/\\/ OPTIMIZE \\[0\\.001, 0\\.999\\]$/constexpr double K_H = 0.8033070174652263;      \\/\\/ OPTIMIZE [0.001, 0.999]/' -e 's/^constexpr short PURCHASE_TURN_LIMIT = .*;  \\/\\/ OPTIMIZE \\[780, 880\\]$/constexpr short PURCHASE_TURN_LIMIT = 849;  \\/\\/ OPTIMIZE [780, 880]/' -e 's/^constexpr int SUBSCORE3_TIGHT_TURN = .*;     \\/\\/ OPTIMIZE \\[0, 2\\]$/constexpr int SUBSCORE3_TIGHT_TURN = 0;     \\/\\/ OPTIMIZE [0, 2]/'\n",
      "g++ 6_main.cpp -std=gnu++17 -O2 -DONLINE_JUDGE -o 6_main.cpp.out 2> /dev/null\n"
     ]
    },
    {
     "name": "stderr",
     "output_type": "stream",
     "text": [
      "\u001b[32m[I 2021-09-10 00:02:04,661]\u001b[0m Trial 42 finished with value: 900321977.0 and parameters: {'K_START': 0.021182095583160292, 'K_END': 0.045113665683593186, 'K_H': 0.8033070174652263, 'PURCHASE_TURN_LIMIT': 849, 'SUBSCORE3_TIGHT_TURN': 0}. Best is trial 41 with value: 905334589.0.\u001b[0m\n"
     ]
    },
    {
     "name": "stdout",
     "output_type": "stream",
     "text": [
      "callback ok\n",
      "index_parallel=7\n",
      "sed -i 7_main.cpp -e 's/^constexpr double K_START = .*;  \\/\\/ OPTIMIZE \\[0\\.02, 0\\.06\\] LOG$/constexpr double K_START = 0.02169375208517658;  \\/\\/ OPTIMIZE [0.02, 0.06] LOG/' -e 's/^constexpr double K_END = .*;   \\/\\/ OPTIMIZE \\[0\\.01, 0\\.05\\] LOG$/constexpr double K_END = 0.04011768697978872;   \\/\\/ OPTIMIZE [0.01, 0.05] LOG/' -e 's/^constexpr double K_H = .*;      \\/\\/ OPTIMIZE \\[0\\.001, 0\\.999\\]$/constexpr double K_H = 0.8995539857301339;      \\/\\/ OPTIMIZE [0.001, 0.999]/' -e 's/^constexpr short PURCHASE_TURN_LIMIT = .*;  \\/\\/ OPTIMIZE \\[780, 880\\]$/constexpr short PURCHASE_TURN_LIMIT = 851;  \\/\\/ OPTIMIZE [780, 880]/' -e 's/^constexpr int SUBSCORE3_TIGHT_TURN = .*;     \\/\\/ OPTIMIZE \\[0, 2\\]$/constexpr int SUBSCORE3_TIGHT_TURN = 0;     \\/\\/ OPTIMIZE [0, 2]/'\n",
      "g++ 7_main.cpp -std=gnu++17 -O2 -DONLINE_JUDGE -o 7_main.cpp.out 2> /dev/null\n"
     ]
    },
    {
     "name": "stderr",
     "output_type": "stream",
     "text": [
      "\u001b[32m[I 2021-09-10 00:05:28,592]\u001b[0m Trial 43 finished with value: 891454316.0 and parameters: {'K_START': 0.02169375208517658, 'K_END': 0.04011768697978872, 'K_H': 0.8995539857301339, 'PURCHASE_TURN_LIMIT': 851, 'SUBSCORE3_TIGHT_TURN': 0}. Best is trial 41 with value: 905334589.0.\u001b[0m\n"
     ]
    },
    {
     "name": "stdout",
     "output_type": "stream",
     "text": [
      "callback ok\n",
      "index_parallel=8\n",
      "sed -i 8_main.cpp -e 's/^constexpr double K_START = .*;  \\/\\/ OPTIMIZE \\[0\\.02, 0\\.06\\] LOG$/constexpr double K_START = 0.020804274090843324;  \\/\\/ OPTIMIZE [0.02, 0.06] LOG/' -e 's/^constexpr double K_END = .*;   \\/\\/ OPTIMIZE \\[0\\.01, 0\\.05\\] LOG$/constexpr double K_END = 0.04559481792979807;   \\/\\/ OPTIMIZE [0.01, 0.05] LOG/' -e 's/^constexpr double K_H = .*;      \\/\\/ OPTIMIZE \\[0\\.001, 0\\.999\\]$/constexpr double K_H = 0.7688639953694293;      \\/\\/ OPTIMIZE [0.001, 0.999]/' -e 's/^constexpr short PURCHASE_TURN_LIMIT = .*;  \\/\\/ OPTIMIZE \\[780, 880\\]$/constexpr short PURCHASE_TURN_LIMIT = 840;  \\/\\/ OPTIMIZE [780, 880]/' -e 's/^constexpr int SUBSCORE3_TIGHT_TURN = .*;     \\/\\/ OPTIMIZE \\[0, 2\\]$/constexpr int SUBSCORE3_TIGHT_TURN = 0;     \\/\\/ OPTIMIZE [0, 2]/'\n",
      "g++ 8_main.cpp -std=gnu++17 -O2 -DONLINE_JUDGE -o 8_main.cpp.out 2> /dev/null\n"
     ]
    },
    {
     "name": "stderr",
     "output_type": "stream",
     "text": [
      "\u001b[32m[I 2021-09-10 00:08:48,320]\u001b[0m Trial 44 finished with value: 898635022.0 and parameters: {'K_START': 0.020804274090843324, 'K_END': 0.04559481792979807, 'K_H': 0.7688639953694293, 'PURCHASE_TURN_LIMIT': 840, 'SUBSCORE3_TIGHT_TURN': 0}. Best is trial 41 with value: 905334589.0.\u001b[0m\n"
     ]
    },
    {
     "name": "stdout",
     "output_type": "stream",
     "text": [
      "callback ok\n",
      "index_parallel=9\n",
      "sed -i 9_main.cpp -e 's/^constexpr double K_START = .*;  \\/\\/ OPTIMIZE \\[0\\.02, 0\\.06\\] LOG$/constexpr double K_START = 0.020004895663346265;  \\/\\/ OPTIMIZE [0.02, 0.06] LOG/' -e 's/^constexpr double K_END = .*;   \\/\\/ OPTIMIZE \\[0\\.01, 0\\.05\\] LOG$/constexpr double K_END = 0.03767550426971361;   \\/\\/ OPTIMIZE [0.01, 0.05] LOG/' -e 's/^constexpr double K_H = .*;      \\/\\/ OPTIMIZE \\[0\\.001, 0\\.999\\]$/constexpr double K_H = 0.9935948381496099;      \\/\\/ OPTIMIZE [0.001, 0.999]/' -e 's/^constexpr short PURCHASE_TURN_LIMIT = .*;  \\/\\/ OPTIMIZE \\[780, 880\\]$/constexpr short PURCHASE_TURN_LIMIT = 840;  \\/\\/ OPTIMIZE [780, 880]/' -e 's/^constexpr int SUBSCORE3_TIGHT_TURN = .*;     \\/\\/ OPTIMIZE \\[0, 2\\]$/constexpr int SUBSCORE3_TIGHT_TURN = 0;     \\/\\/ OPTIMIZE [0, 2]/'\n",
      "g++ 9_main.cpp -std=gnu++17 -O2 -DONLINE_JUDGE -o 9_main.cpp.out 2> /dev/null\n"
     ]
    },
    {
     "name": "stderr",
     "output_type": "stream",
     "text": [
      "\u001b[32m[I 2021-09-10 00:12:10,461]\u001b[0m Trial 45 finished with value: 895777683.0 and parameters: {'K_START': 0.020004895663346265, 'K_END': 0.03767550426971361, 'K_H': 0.9935948381496099, 'PURCHASE_TURN_LIMIT': 840, 'SUBSCORE3_TIGHT_TURN': 0}. Best is trial 41 with value: 905334589.0.\u001b[0m\n"
     ]
    },
    {
     "name": "stdout",
     "output_type": "stream",
     "text": [
      "callback ok\n",
      "index_parallel=10\n",
      "sed -i 10_main.cpp -e 's/^constexpr double K_START = .*;  \\/\\/ OPTIMIZE \\[0\\.02, 0\\.06\\] LOG$/constexpr double K_START = 0.022169064820762207;  \\/\\/ OPTIMIZE [0.02, 0.06] LOG/' -e 's/^constexpr double K_END = .*;   \\/\\/ OPTIMIZE \\[0\\.01, 0\\.05\\] LOG$/constexpr double K_END = 0.046006240750748675;   \\/\\/ OPTIMIZE [0.01, 0.05] LOG/' -e 's/^constexpr double K_H = .*;      \\/\\/ OPTIMIZE \\[0\\.001, 0\\.999\\]$/constexpr double K_H = 0.7542004257825138;      \\/\\/ OPTIMIZE [0.001, 0.999]/' -e 's/^constexpr short PURCHASE_TURN_LIMIT = .*;  \\/\\/ OPTIMIZE \\[780, 880\\]$/constexpr short PURCHASE_TURN_LIMIT = 870;  \\/\\/ OPTIMIZE [780, 880]/' -e 's/^constexpr int SUBSCORE3_TIGHT_TURN = .*;     \\/\\/ OPTIMIZE \\[0, 2\\]$/constexpr int SUBSCORE3_TIGHT_TURN = 0;     \\/\\/ OPTIMIZE [0, 2]/'\n",
      "g++ 10_main.cpp -std=gnu++17 -O2 -DONLINE_JUDGE -o 10_main.cpp.out 2> /dev/null\n"
     ]
    },
    {
     "name": "stderr",
     "output_type": "stream",
     "text": [
      "\u001b[32m[I 2021-09-10 00:15:44,596]\u001b[0m Trial 46 finished with value: 879360865.0 and parameters: {'K_START': 0.022169064820762207, 'K_END': 0.046006240750748675, 'K_H': 0.7542004257825138, 'PURCHASE_TURN_LIMIT': 870, 'SUBSCORE3_TIGHT_TURN': 0}. Best is trial 41 with value: 905334589.0.\u001b[0m\n"
     ]
    },
    {
     "name": "stdout",
     "output_type": "stream",
     "text": [
      "callback ok\n",
      "index_parallel=11\n",
      "sed -i 11_main.cpp -e 's/^constexpr double K_START = .*;  \\/\\/ OPTIMIZE \\[0\\.02, 0\\.06\\] LOG$/constexpr double K_START = 0.02131608060821953;  \\/\\/ OPTIMIZE [0.02, 0.06] LOG/' -e 's/^constexpr double K_END = .*;   \\/\\/ OPTIMIZE \\[0\\.01, 0\\.05\\] LOG$/constexpr double K_END = 0.02220536030091828;   \\/\\/ OPTIMIZE [0.01, 0.05] LOG/' -e 's/^constexpr double K_H = .*;      \\/\\/ OPTIMIZE \\[0\\.001, 0\\.999\\]$/constexpr double K_H = 0.8494143515610614;      \\/\\/ OPTIMIZE [0.001, 0.999]/' -e 's/^constexpr short PURCHASE_TURN_LIMIT = .*;  \\/\\/ OPTIMIZE \\[780, 880\\]$/constexpr short PURCHASE_TURN_LIMIT = 832;  \\/\\/ OPTIMIZE [780, 880]/' -e 's/^constexpr int SUBSCORE3_TIGHT_TURN = .*;     \\/\\/ OPTIMIZE \\[0, 2\\]$/constexpr int SUBSCORE3_TIGHT_TURN = 0;     \\/\\/ OPTIMIZE [0, 2]/'\n",
      "g++ 11_main.cpp -std=gnu++17 -O2 -DONLINE_JUDGE -o 11_main.cpp.out 2> /dev/null\n"
     ]
    },
    {
     "name": "stderr",
     "output_type": "stream",
     "text": [
      "\u001b[32m[I 2021-09-10 00:19:09,518]\u001b[0m Trial 47 finished with value: 850419752.0 and parameters: {'K_START': 0.02131608060821953, 'K_END': 0.02220536030091828, 'K_H': 0.8494143515610614, 'PURCHASE_TURN_LIMIT': 832, 'SUBSCORE3_TIGHT_TURN': 0}. Best is trial 41 with value: 905334589.0.\u001b[0m\n"
     ]
    },
    {
     "name": "stdout",
     "output_type": "stream",
     "text": [
      "callback ok\n",
      "index_parallel=0\n",
      "sed -i 0_main.cpp -e 's/^constexpr double K_START = .*;  \\/\\/ OPTIMIZE \\[0\\.02, 0\\.06\\] LOG$/constexpr double K_START = 0.020684329795192212;  \\/\\/ OPTIMIZE [0.02, 0.06] LOG/' -e 's/^constexpr double K_END = .*;   \\/\\/ OPTIMIZE \\[0\\.01, 0\\.05\\] LOG$/constexpr double K_END = 0.013575988213093665;   \\/\\/ OPTIMIZE [0.01, 0.05] LOG/' -e 's/^constexpr double K_H = .*;      \\/\\/ OPTIMIZE \\[0\\.001, 0\\.999\\]$/constexpr double K_H = 0.936907414054418;      \\/\\/ OPTIMIZE [0.001, 0.999]/' -e 's/^constexpr short PURCHASE_TURN_LIMIT = .*;  \\/\\/ OPTIMIZE \\[780, 880\\]$/constexpr short PURCHASE_TURN_LIMIT = 849;  \\/\\/ OPTIMIZE [780, 880]/' -e 's/^constexpr int SUBSCORE3_TIGHT_TURN = .*;     \\/\\/ OPTIMIZE \\[0, 2\\]$/constexpr int SUBSCORE3_TIGHT_TURN = 0;     \\/\\/ OPTIMIZE [0, 2]/'\n",
      "g++ 0_main.cpp -std=gnu++17 -O2 -DONLINE_JUDGE -o 0_main.cpp.out 2> /dev/null\n"
     ]
    },
    {
     "name": "stderr",
     "output_type": "stream",
     "text": [
      "\u001b[32m[I 2021-09-10 00:22:31,466]\u001b[0m Trial 48 finished with value: 791595467.0 and parameters: {'K_START': 0.020684329795192212, 'K_END': 0.013575988213093665, 'K_H': 0.936907414054418, 'PURCHASE_TURN_LIMIT': 849, 'SUBSCORE3_TIGHT_TURN': 0}. Best is trial 41 with value: 905334589.0.\u001b[0m\n"
     ]
    },
    {
     "name": "stdout",
     "output_type": "stream",
     "text": [
      "callback ok\n",
      "index_parallel=1\n",
      "sed -i 1_main.cpp -e 's/^constexpr double K_START = .*;  \\/\\/ OPTIMIZE \\[0\\.02, 0\\.06\\] LOG$/constexpr double K_START = 0.02271816895595896;  \\/\\/ OPTIMIZE [0.02, 0.06] LOG/' -e 's/^constexpr double K_END = .*;   \\/\\/ OPTIMIZE \\[0\\.01, 0\\.05\\] LOG$/constexpr double K_END = 0.0364088257259799;   \\/\\/ OPTIMIZE [0.01, 0.05] LOG/' -e 's/^constexpr double K_H = .*;      \\/\\/ OPTIMIZE \\[0\\.001, 0\\.999\\]$/constexpr double K_H = 0.7970847608644804;      \\/\\/ OPTIMIZE [0.001, 0.999]/' -e 's/^constexpr short PURCHASE_TURN_LIMIT = .*;  \\/\\/ OPTIMIZE \\[780, 880\\]$/constexpr short PURCHASE_TURN_LIMIT = 857;  \\/\\/ OPTIMIZE [780, 880]/' -e 's/^constexpr int SUBSCORE3_TIGHT_TURN = .*;     \\/\\/ OPTIMIZE \\[0, 2\\]$/constexpr int SUBSCORE3_TIGHT_TURN = 0;     \\/\\/ OPTIMIZE [0, 2]/'\n",
      "g++ 1_main.cpp -std=gnu++17 -O2 -DONLINE_JUDGE -o 1_main.cpp.out 2> /dev/null\n"
     ]
    },
    {
     "name": "stderr",
     "output_type": "stream",
     "text": [
      "\u001b[32m[I 2021-09-10 00:26:10,606]\u001b[0m Trial 49 finished with value: 881211255.0 and parameters: {'K_START': 0.02271816895595896, 'K_END': 0.0364088257259799, 'K_H': 0.7970847608644804, 'PURCHASE_TURN_LIMIT': 857, 'SUBSCORE3_TIGHT_TURN': 0}. Best is trial 41 with value: 905334589.0.\u001b[0m\n"
     ]
    },
    {
     "name": "stdout",
     "output_type": "stream",
     "text": [
      "callback ok\n",
      "index_parallel=2\n",
      "sed -i 2_main.cpp -e 's/^constexpr double K_START = .*;  \\/\\/ OPTIMIZE \\[0\\.02, 0\\.06\\] LOG$/constexpr double K_START = 0.021109935841426314;  \\/\\/ OPTIMIZE [0.02, 0.06] LOG/' -e 's/^constexpr double K_END = .*;   \\/\\/ OPTIMIZE \\[0\\.01, 0\\.05\\] LOG$/constexpr double K_END = 0.029820407755841584;   \\/\\/ OPTIMIZE [0.01, 0.05] LOG/' -e 's/^constexpr double K_H = .*;      \\/\\/ OPTIMIZE \\[0\\.001, 0\\.999\\]$/constexpr double K_H = 0.05735681019172534;      \\/\\/ OPTIMIZE [0.001, 0.999]/' -e 's/^constexpr short PURCHASE_TURN_LIMIT = .*;  \\/\\/ OPTIMIZE \\[780, 880\\]$/constexpr short PURCHASE_TURN_LIMIT = 835;  \\/\\/ OPTIMIZE [780, 880]/' -e 's/^constexpr int SUBSCORE3_TIGHT_TURN = .*;     \\/\\/ OPTIMIZE \\[0, 2\\]$/constexpr int SUBSCORE3_TIGHT_TURN = 0;     \\/\\/ OPTIMIZE [0, 2]/'\n",
      "g++ 2_main.cpp -std=gnu++17 -O2 -DONLINE_JUDGE -o 2_main.cpp.out 2> /dev/null\n"
     ]
    },
    {
     "name": "stderr",
     "output_type": "stream",
     "text": [
      "\u001b[32m[I 2021-09-10 00:29:48,082]\u001b[0m Trial 50 finished with value: 862856103.0 and parameters: {'K_START': 0.021109935841426314, 'K_END': 0.029820407755841584, 'K_H': 0.05735681019172534, 'PURCHASE_TURN_LIMIT': 835, 'SUBSCORE3_TIGHT_TURN': 0}. Best is trial 41 with value: 905334589.0.\u001b[0m\n"
     ]
    },
    {
     "name": "stdout",
     "output_type": "stream",
     "text": [
      "callback ok\n",
      "index_parallel=3\n",
      "sed -i 3_main.cpp -e 's/^constexpr double K_START = .*;  \\/\\/ OPTIMIZE \\[0\\.02, 0\\.06\\] LOG$/constexpr double K_START = 0.02415638348248438;  \\/\\/ OPTIMIZE [0.02, 0.06] LOG/' -e 's/^constexpr double K_END = .*;   \\/\\/ OPTIMIZE \\[0\\.01, 0\\.05\\] LOG$/constexpr double K_END = 0.04674424231460884;   \\/\\/ OPTIMIZE [0.01, 0.05] LOG/' -e 's/^constexpr double K_H = .*;      \\/\\/ OPTIMIZE \\[0\\.001, 0\\.999\\]$/constexpr double K_H = 0.7773055758550959;      \\/\\/ OPTIMIZE [0.001, 0.999]/' -e 's/^constexpr short PURCHASE_TURN_LIMIT = .*;  \\/\\/ OPTIMIZE \\[780, 880\\]$/constexpr short PURCHASE_TURN_LIMIT = 847;  \\/\\/ OPTIMIZE [780, 880]/' -e 's/^constexpr int SUBSCORE3_TIGHT_TURN = .*;     \\/\\/ OPTIMIZE \\[0, 2\\]$/constexpr int SUBSCORE3_TIGHT_TURN = 0;     \\/\\/ OPTIMIZE [0, 2]/'\n",
      "g++ 3_main.cpp -std=gnu++17 -O2 -DONLINE_JUDGE -o 3_main.cpp.out 2> /dev/null\n"
     ]
    },
    {
     "name": "stderr",
     "output_type": "stream",
     "text": [
      "\u001b[32m[I 2021-09-10 00:33:41,727]\u001b[0m Trial 51 finished with value: 903217740.0 and parameters: {'K_START': 0.02415638348248438, 'K_END': 0.04674424231460884, 'K_H': 0.7773055758550959, 'PURCHASE_TURN_LIMIT': 847, 'SUBSCORE3_TIGHT_TURN': 0}. Best is trial 41 with value: 905334589.0.\u001b[0m\n"
     ]
    },
    {
     "name": "stdout",
     "output_type": "stream",
     "text": [
      "callback ok\n",
      "index_parallel=4\n",
      "sed -i 4_main.cpp -e 's/^constexpr double K_START = .*;  \\/\\/ OPTIMIZE \\[0\\.02, 0\\.06\\] LOG$/constexpr double K_START = 0.024362147085742233;  \\/\\/ OPTIMIZE [0.02, 0.06] LOG/' -e 's/^constexpr double K_END = .*;   \\/\\/ OPTIMIZE \\[0\\.01, 0\\.05\\] LOG$/constexpr double K_END = 0.046498027591047576;   \\/\\/ OPTIMIZE [0.01, 0.05] LOG/' -e 's/^constexpr double K_H = .*;      \\/\\/ OPTIMIZE \\[0\\.001, 0\\.999\\]$/constexpr double K_H = 0.7464137079248795;      \\/\\/ OPTIMIZE [0.001, 0.999]/' -e 's/^constexpr short PURCHASE_TURN_LIMIT = .*;  \\/\\/ OPTIMIZE \\[780, 880\\]$/constexpr short PURCHASE_TURN_LIMIT = 845;  \\/\\/ OPTIMIZE [780, 880]/' -e 's/^constexpr int SUBSCORE3_TIGHT_TURN = .*;     \\/\\/ OPTIMIZE \\[0, 2\\]$/constexpr int SUBSCORE3_TIGHT_TURN = 0;     \\/\\/ OPTIMIZE [0, 2]/'\n",
      "g++ 4_main.cpp -std=gnu++17 -O2 -DONLINE_JUDGE -o 4_main.cpp.out 2> /dev/null\n"
     ]
    },
    {
     "name": "stderr",
     "output_type": "stream",
     "text": [
      "\u001b[32m[I 2021-09-10 00:37:39,048]\u001b[0m Trial 52 finished with value: 901522120.0 and parameters: {'K_START': 0.024362147085742233, 'K_END': 0.046498027591047576, 'K_H': 0.7464137079248795, 'PURCHASE_TURN_LIMIT': 845, 'SUBSCORE3_TIGHT_TURN': 0}. Best is trial 41 with value: 905334589.0.\u001b[0m\n"
     ]
    },
    {
     "name": "stdout",
     "output_type": "stream",
     "text": [
      "callback ok\n",
      "index_parallel=5\n",
      "sed -i 5_main.cpp -e 's/^constexpr double K_START = .*;  \\/\\/ OPTIMIZE \\[0\\.02, 0\\.06\\] LOG$/constexpr double K_START = 0.024376101888378292;  \\/\\/ OPTIMIZE [0.02, 0.06] LOG/' -e 's/^constexpr double K_END = .*;   \\/\\/ OPTIMIZE \\[0\\.01, 0\\.05\\] LOG$/constexpr double K_END = 0.04580352766378642;   \\/\\/ OPTIMIZE [0.01, 0.05] LOG/' -e 's/^constexpr double K_H = .*;      \\/\\/ OPTIMIZE \\[0\\.001, 0\\.999\\]$/constexpr double K_H = 0.7505069838826806;      \\/\\/ OPTIMIZE [0.001, 0.999]/' -e 's/^constexpr short PURCHASE_TURN_LIMIT = .*;  \\/\\/ OPTIMIZE \\[780, 880\\]$/constexpr short PURCHASE_TURN_LIMIT = 847;  \\/\\/ OPTIMIZE [780, 880]/' -e 's/^constexpr int SUBSCORE3_TIGHT_TURN = .*;     \\/\\/ OPTIMIZE \\[0, 2\\]$/constexpr int SUBSCORE3_TIGHT_TURN = 0;     \\/\\/ OPTIMIZE [0, 2]/'\n",
      "g++ 5_main.cpp -std=gnu++17 -O2 -DONLINE_JUDGE -o 5_main.cpp.out 2> /dev/null\n"
     ]
    },
    {
     "name": "stderr",
     "output_type": "stream",
     "text": [
      "\u001b[32m[I 2021-09-10 00:41:28,156]\u001b[0m Trial 53 finished with value: 902037188.0 and parameters: {'K_START': 0.024376101888378292, 'K_END': 0.04580352766378642, 'K_H': 0.7505069838826806, 'PURCHASE_TURN_LIMIT': 847, 'SUBSCORE3_TIGHT_TURN': 0}. Best is trial 41 with value: 905334589.0.\u001b[0m\n"
     ]
    },
    {
     "name": "stdout",
     "output_type": "stream",
     "text": [
      "callback ok\n",
      "index_parallel=6\n",
      "sed -i 6_main.cpp -e 's/^constexpr double K_START = .*;  \\/\\/ OPTIMIZE \\[0\\.02, 0\\.06\\] LOG$/constexpr double K_START = 0.02418747072397331;  \\/\\/ OPTIMIZE [0.02, 0.06] LOG/' -e 's/^constexpr double K_END = .*;   \\/\\/ OPTIMIZE \\[0\\.01, 0\\.05\\] LOG$/constexpr double K_END = 0.04086201370274158;   \\/\\/ OPTIMIZE [0.01, 0.05] LOG/' -e 's/^constexpr double K_H = .*;      \\/\\/ OPTIMIZE \\[0\\.001, 0\\.999\\]$/constexpr double K_H = 0.7310559921489227;      \\/\\/ OPTIMIZE [0.001, 0.999]/' -e 's/^constexpr short PURCHASE_TURN_LIMIT = .*;  \\/\\/ OPTIMIZE \\[780, 880\\]$/constexpr short PURCHASE_TURN_LIMIT = 847;  \\/\\/ OPTIMIZE [780, 880]/' -e 's/^constexpr int SUBSCORE3_TIGHT_TURN = .*;     \\/\\/ OPTIMIZE \\[0, 2\\]$/constexpr int SUBSCORE3_TIGHT_TURN = 0;     \\/\\/ OPTIMIZE [0, 2]/'\n",
      "g++ 6_main.cpp -std=gnu++17 -O2 -DONLINE_JUDGE -o 6_main.cpp.out 2> /dev/null\n"
     ]
    },
    {
     "name": "stderr",
     "output_type": "stream",
     "text": [
      "\u001b[32m[I 2021-09-10 00:45:22,278]\u001b[0m Trial 54 finished with value: 897459273.0 and parameters: {'K_START': 0.02418747072397331, 'K_END': 0.04086201370274158, 'K_H': 0.7310559921489227, 'PURCHASE_TURN_LIMIT': 847, 'SUBSCORE3_TIGHT_TURN': 0}. Best is trial 41 with value: 905334589.0.\u001b[0m\n"
     ]
    },
    {
     "name": "stdout",
     "output_type": "stream",
     "text": [
      "callback ok\n",
      "index_parallel=7\n",
      "sed -i 7_main.cpp -e 's/^constexpr double K_START = .*;  \\/\\/ OPTIMIZE \\[0\\.02, 0\\.06\\] LOG$/constexpr double K_START = 0.02474637153360974;  \\/\\/ OPTIMIZE [0.02, 0.06] LOG/' -e 's/^constexpr double K_END = .*;   \\/\\/ OPTIMIZE \\[0\\.01, 0\\.05\\] LOG$/constexpr double K_END = 0.049433902859831846;   \\/\\/ OPTIMIZE [0.01, 0.05] LOG/' -e 's/^constexpr double K_H = .*;      \\/\\/ OPTIMIZE \\[0\\.001, 0\\.999\\]$/constexpr double K_H = 0.8349185831564251;      \\/\\/ OPTIMIZE [0.001, 0.999]/' -e 's/^constexpr short PURCHASE_TURN_LIMIT = .*;  \\/\\/ OPTIMIZE \\[780, 880\\]$/constexpr short PURCHASE_TURN_LIMIT = 851;  \\/\\/ OPTIMIZE [780, 880]/' -e 's/^constexpr int SUBSCORE3_TIGHT_TURN = .*;     \\/\\/ OPTIMIZE \\[0, 2\\]$/constexpr int SUBSCORE3_TIGHT_TURN = 0;     \\/\\/ OPTIMIZE [0, 2]/'\n",
      "g++ 7_main.cpp -std=gnu++17 -O2 -DONLINE_JUDGE -o 7_main.cpp.out 2> /dev/null\n"
     ]
    },
    {
     "name": "stderr",
     "output_type": "stream",
     "text": [
      "\u001b[32m[I 2021-09-10 00:49:19,630]\u001b[0m Trial 55 finished with value: 867524409.0 and parameters: {'K_START': 0.02474637153360974, 'K_END': 0.049433902859831846, 'K_H': 0.8349185831564251, 'PURCHASE_TURN_LIMIT': 851, 'SUBSCORE3_TIGHT_TURN': 0}. Best is trial 41 with value: 905334589.0.\u001b[0m\n"
     ]
    },
    {
     "name": "stdout",
     "output_type": "stream",
     "text": [
      "callback ok\n",
      "index_parallel=8\n",
      "sed -i 8_main.cpp -e 's/^constexpr double K_START = .*;  \\/\\/ OPTIMIZE \\[0\\.02, 0\\.06\\] LOG$/constexpr double K_START = 0.022517327147931886;  \\/\\/ OPTIMIZE [0.02, 0.06] LOG/' -e 's/^constexpr double K_END = .*;   \\/\\/ OPTIMIZE \\[0\\.01, 0\\.05\\] LOG$/constexpr double K_END = 0.04687562987650856;   \\/\\/ OPTIMIZE [0.01, 0.05] LOG/' -e 's/^constexpr double K_H = .*;      \\/\\/ OPTIMIZE \\[0\\.001, 0\\.999\\]$/constexpr double K_H = 0.8697874539882926;      \\/\\/ OPTIMIZE [0.001, 0.999]/' -e 's/^constexpr short PURCHASE_TURN_LIMIT = .*;  \\/\\/ OPTIMIZE \\[780, 880\\]$/constexpr short PURCHASE_TURN_LIMIT = 854;  \\/\\/ OPTIMIZE [780, 880]/' -e 's/^constexpr int SUBSCORE3_TIGHT_TURN = .*;     \\/\\/ OPTIMIZE \\[0, 2\\]$/constexpr int SUBSCORE3_TIGHT_TURN = 0;     \\/\\/ OPTIMIZE [0, 2]/'\n",
      "g++ 8_main.cpp -std=gnu++17 -O2 -DONLINE_JUDGE -o 8_main.cpp.out 2> /dev/null\n"
     ]
    },
    {
     "name": "stderr",
     "output_type": "stream",
     "text": [
      "\u001b[32m[I 2021-09-10 00:53:12,059]\u001b[0m Trial 56 finished with value: 898380768.0 and parameters: {'K_START': 0.022517327147931886, 'K_END': 0.04687562987650856, 'K_H': 0.8697874539882926, 'PURCHASE_TURN_LIMIT': 854, 'SUBSCORE3_TIGHT_TURN': 0}. Best is trial 41 with value: 905334589.0.\u001b[0m\n"
     ]
    },
    {
     "name": "stdout",
     "output_type": "stream",
     "text": [
      "callback ok\n",
      "index_parallel=9\n",
      "sed -i 9_main.cpp -e 's/^constexpr double K_START = .*;  \\/\\/ OPTIMIZE \\[0\\.02, 0\\.06\\] LOG$/constexpr double K_START = 0.025444918461969043;  \\/\\/ OPTIMIZE [0.02, 0.06] LOG/' -e 's/^constexpr double K_END = .*;   \\/\\/ OPTIMIZE \\[0\\.01, 0\\.05\\] LOG$/constexpr double K_END = 0.042014121227110776;   \\/\\/ OPTIMIZE [0.01, 0.05] LOG/' -e 's/^constexpr double K_H = .*;      \\/\\/ OPTIMIZE \\[0\\.001, 0\\.999\\]$/constexpr double K_H = 0.6715778536405516;      \\/\\/ OPTIMIZE [0.001, 0.999]/' -e 's/^constexpr short PURCHASE_TURN_LIMIT = .*;  \\/\\/ OPTIMIZE \\[780, 880\\]$/constexpr short PURCHASE_TURN_LIMIT = 871;  \\/\\/ OPTIMIZE [780, 880]/' -e 's/^constexpr int SUBSCORE3_TIGHT_TURN = .*;     \\/\\/ OPTIMIZE \\[0, 2\\]$/constexpr int SUBSCORE3_TIGHT_TURN = 0;     \\/\\/ OPTIMIZE [0, 2]/'\n",
      "g++ 9_main.cpp -std=gnu++17 -O2 -DONLINE_JUDGE -o 9_main.cpp.out 2> /dev/null\n"
     ]
    },
    {
     "name": "stderr",
     "output_type": "stream",
     "text": [
      "\u001b[32m[I 2021-09-10 00:57:18,862]\u001b[0m Trial 57 finished with value: 869020546.0 and parameters: {'K_START': 0.025444918461969043, 'K_END': 0.042014121227110776, 'K_H': 0.6715778536405516, 'PURCHASE_TURN_LIMIT': 871, 'SUBSCORE3_TIGHT_TURN': 0}. Best is trial 41 with value: 905334589.0.\u001b[0m\n"
     ]
    },
    {
     "name": "stdout",
     "output_type": "stream",
     "text": [
      "callback ok\n",
      "index_parallel=10\n",
      "sed -i 10_main.cpp -e 's/^constexpr double K_START = .*;  \\/\\/ OPTIMIZE \\[0\\.02, 0\\.06\\] LOG$/constexpr double K_START = 0.023479326099140864;  \\/\\/ OPTIMIZE [0.02, 0.06] LOG/' -e 's/^constexpr double K_END = .*;   \\/\\/ OPTIMIZE \\[0\\.01, 0\\.05\\] LOG$/constexpr double K_END = 0.0384551978312118;   \\/\\/ OPTIMIZE [0.01, 0.05] LOG/' -e 's/^constexpr double K_H = .*;      \\/\\/ OPTIMIZE \\[0\\.001, 0\\.999\\]$/constexpr double K_H = 0.6149128735477034;      \\/\\/ OPTIMIZE [0.001, 0.999]/' -e 's/^constexpr short PURCHASE_TURN_LIMIT = .*;  \\/\\/ OPTIMIZE \\[780, 880\\]$/constexpr short PURCHASE_TURN_LIMIT = 859;  \\/\\/ OPTIMIZE [780, 880]/' -e 's/^constexpr int SUBSCORE3_TIGHT_TURN = .*;     \\/\\/ OPTIMIZE \\[0, 2\\]$/constexpr int SUBSCORE3_TIGHT_TURN = 0;     \\/\\/ OPTIMIZE [0, 2]/'\n",
      "g++ 10_main.cpp -std=gnu++17 -O2 -DONLINE_JUDGE -o 10_main.cpp.out 2> /dev/null\n"
     ]
    },
    {
     "name": "stderr",
     "output_type": "stream",
     "text": [
      "\u001b[32m[I 2021-09-10 01:01:05,302]\u001b[0m Trial 58 finished with value: 880083698.0 and parameters: {'K_START': 0.023479326099140864, 'K_END': 0.0384551978312118, 'K_H': 0.6149128735477034, 'PURCHASE_TURN_LIMIT': 859, 'SUBSCORE3_TIGHT_TURN': 0}. Best is trial 41 with value: 905334589.0.\u001b[0m\n"
     ]
    },
    {
     "name": "stdout",
     "output_type": "stream",
     "text": [
      "callback ok\n",
      "index_parallel=11\n",
      "sed -i 11_main.cpp -e 's/^constexpr double K_START = .*;  \\/\\/ OPTIMIZE \\[0\\.02, 0\\.06\\] LOG$/constexpr double K_START = 0.025792360307571014;  \\/\\/ OPTIMIZE [0.02, 0.06] LOG/' -e 's/^constexpr double K_END = .*;   \\/\\/ OPTIMIZE \\[0\\.01, 0\\.05\\] LOG$/constexpr double K_END = 0.04391090914305764;   \\/\\/ OPTIMIZE [0.01, 0.05] LOG/' -e 's/^constexpr double K_H = .*;      \\/\\/ OPTIMIZE \\[0\\.001, 0\\.999\\]$/constexpr double K_H = 0.7463965688852889;      \\/\\/ OPTIMIZE [0.001, 0.999]/' -e 's/^constexpr short PURCHASE_TURN_LIMIT = .*;  \\/\\/ OPTIMIZE \\[780, 880\\]$/constexpr short PURCHASE_TURN_LIMIT = 866;  \\/\\/ OPTIMIZE [780, 880]/' -e 's/^constexpr int SUBSCORE3_TIGHT_TURN = .*;     \\/\\/ OPTIMIZE \\[0, 2\\]$/constexpr int SUBSCORE3_TIGHT_TURN = 0;     \\/\\/ OPTIMIZE [0, 2]/'\n",
      "g++ 11_main.cpp -std=gnu++17 -O2 -DONLINE_JUDGE -o 11_main.cpp.out 2> /dev/null\n"
     ]
    },
    {
     "name": "stderr",
     "output_type": "stream",
     "text": [
      "\u001b[32m[I 2021-09-10 01:04:59,708]\u001b[0m Trial 59 finished with value: 882352824.0 and parameters: {'K_START': 0.025792360307571014, 'K_END': 0.04391090914305764, 'K_H': 0.7463965688852889, 'PURCHASE_TURN_LIMIT': 866, 'SUBSCORE3_TIGHT_TURN': 0}. Best is trial 41 with value: 905334589.0.\u001b[0m\n"
     ]
    },
    {
     "name": "stdout",
     "output_type": "stream",
     "text": [
      "callback ok\n",
      "index_parallel=0\n",
      "sed -i 0_main.cpp -e 's/^constexpr double K_START = .*;  \\/\\/ OPTIMIZE \\[0\\.02, 0\\.06\\] LOG$/constexpr double K_START = 0.05506873033140802;  \\/\\/ OPTIMIZE [0.02, 0.06] LOG/' -e 's/^constexpr double K_END = .*;   \\/\\/ OPTIMIZE \\[0\\.01, 0\\.05\\] LOG$/constexpr double K_END = 0.033315555301365964;   \\/\\/ OPTIMIZE [0.01, 0.05] LOG/' -e 's/^constexpr double K_H = .*;      \\/\\/ OPTIMIZE \\[0\\.001, 0\\.999\\]$/constexpr double K_H = 0.8155771866000154;      \\/\\/ OPTIMIZE [0.001, 0.999]/' -e 's/^constexpr short PURCHASE_TURN_LIMIT = .*;  \\/\\/ OPTIMIZE \\[780, 880\\]$/constexpr short PURCHASE_TURN_LIMIT = 844;  \\/\\/ OPTIMIZE [780, 880]/' -e 's/^constexpr int SUBSCORE3_TIGHT_TURN = .*;     \\/\\/ OPTIMIZE \\[0, 2\\]$/constexpr int SUBSCORE3_TIGHT_TURN = 0;     \\/\\/ OPTIMIZE [0, 2]/'\n",
      "g++ 0_main.cpp -std=gnu++17 -O2 -DONLINE_JUDGE -o 0_main.cpp.out 2> /dev/null\n"
     ]
    },
    {
     "name": "stderr",
     "output_type": "stream",
     "text": [
      "\u001b[32m[I 2021-09-10 01:08:52,226]\u001b[0m Trial 60 finished with value: 896378782.0 and parameters: {'K_START': 0.05506873033140802, 'K_END': 0.033315555301365964, 'K_H': 0.8155771866000154, 'PURCHASE_TURN_LIMIT': 844, 'SUBSCORE3_TIGHT_TURN': 0}. Best is trial 41 with value: 905334589.0.\u001b[0m\n"
     ]
    },
    {
     "name": "stdout",
     "output_type": "stream",
     "text": [
      "callback ok\n",
      "index_parallel=1\n",
      "sed -i 1_main.cpp -e 's/^constexpr double K_START = .*;  \\/\\/ OPTIMIZE \\[0\\.02, 0\\.06\\] LOG$/constexpr double K_START = 0.022244877076497534;  \\/\\/ OPTIMIZE [0.02, 0.06] LOG/' -e 's/^constexpr double K_END = .*;   \\/\\/ OPTIMIZE \\[0\\.01, 0\\.05\\] LOG$/constexpr double K_END = 0.047193067133304525;   \\/\\/ OPTIMIZE [0.01, 0.05] LOG/' -e 's/^constexpr double K_H = .*;      \\/\\/ OPTIMIZE \\[0\\.001, 0\\.999\\]$/constexpr double K_H = 0.776779949127949;      \\/\\/ OPTIMIZE [0.001, 0.999]/' -e 's/^constexpr short PURCHASE_TURN_LIMIT = .*;  \\/\\/ OPTIMIZE \\[780, 880\\]$/constexpr short PURCHASE_TURN_LIMIT = 841;  \\/\\/ OPTIMIZE [780, 880]/' -e 's/^constexpr int SUBSCORE3_TIGHT_TURN = .*;     \\/\\/ OPTIMIZE \\[0, 2\\]$/constexpr int SUBSCORE3_TIGHT_TURN = 0;     \\/\\/ OPTIMIZE [0, 2]/'\n",
      "g++ 1_main.cpp -std=gnu++17 -O2 -DONLINE_JUDGE -o 1_main.cpp.out 2> /dev/null\n"
     ]
    },
    {
     "name": "stderr",
     "output_type": "stream",
     "text": [
      "\u001b[32m[I 2021-09-10 01:12:46,064]\u001b[0m Trial 61 finished with value: 907198219.0 and parameters: {'K_START': 0.022244877076497534, 'K_END': 0.047193067133304525, 'K_H': 0.776779949127949, 'PURCHASE_TURN_LIMIT': 841, 'SUBSCORE3_TIGHT_TURN': 0}. Best is trial 61 with value: 907198219.0.\u001b[0m\n"
     ]
    },
    {
     "name": "stdout",
     "output_type": "stream",
     "text": [
      "Updated! 907198219.0\n",
      "callback ok\n",
      "index_parallel=2\n",
      "sed -i 2_main.cpp -e 's/^constexpr double K_START = .*;  \\/\\/ OPTIMIZE \\[0\\.02, 0\\.06\\] LOG$/constexpr double K_START = 0.022296580372028935;  \\/\\/ OPTIMIZE [0.02, 0.06] LOG/' -e 's/^constexpr double K_END = .*;   \\/\\/ OPTIMIZE \\[0\\.01, 0\\.05\\] LOG$/constexpr double K_END = 0.04725466327607322;   \\/\\/ OPTIMIZE [0.01, 0.05] LOG/' -e 's/^constexpr double K_H = .*;      \\/\\/ OPTIMIZE \\[0\\.001, 0\\.999\\]$/constexpr double K_H = 0.7775153727944405;      \\/\\/ OPTIMIZE [0.001, 0.999]/' -e 's/^constexpr short PURCHASE_TURN_LIMIT = .*;  \\/\\/ OPTIMIZE \\[780, 880\\]$/constexpr short PURCHASE_TURN_LIMIT = 841;  \\/\\/ OPTIMIZE [780, 880]/' -e 's/^constexpr int SUBSCORE3_TIGHT_TURN = .*;     \\/\\/ OPTIMIZE \\[0, 2\\]$/constexpr int SUBSCORE3_TIGHT_TURN = 0;     \\/\\/ OPTIMIZE [0, 2]/'\n",
      "g++ 2_main.cpp -std=gnu++17 -O2 -DONLINE_JUDGE -o 2_main.cpp.out 2> /dev/null\n"
     ]
    },
    {
     "name": "stderr",
     "output_type": "stream",
     "text": [
      "\u001b[32m[I 2021-09-10 01:16:56,391]\u001b[0m Trial 62 finished with value: 904724684.0 and parameters: {'K_START': 0.022296580372028935, 'K_END': 0.04725466327607322, 'K_H': 0.7775153727944405, 'PURCHASE_TURN_LIMIT': 841, 'SUBSCORE3_TIGHT_TURN': 0}. Best is trial 61 with value: 907198219.0.\u001b[0m\n"
     ]
    },
    {
     "name": "stdout",
     "output_type": "stream",
     "text": [
      "callback ok\n",
      "index_parallel=3\n",
      "sed -i 3_main.cpp -e 's/^constexpr double K_START = .*;  \\/\\/ OPTIMIZE \\[0\\.02, 0\\.06\\] LOG$/constexpr double K_START = 0.024216058366701;  \\/\\/ OPTIMIZE [0.02, 0.06] LOG/' -e 's/^constexpr double K_END = .*;   \\/\\/ OPTIMIZE \\[0\\.01, 0\\.05\\] LOG$/constexpr double K_END = 0.04750282563626842;   \\/\\/ OPTIMIZE [0.01, 0.05] LOG/' -e 's/^constexpr double K_H = .*;      \\/\\/ OPTIMIZE \\[0\\.001, 0\\.999\\]$/constexpr double K_H = 0.7109973735579753;      \\/\\/ OPTIMIZE [0.001, 0.999]/' -e 's/^constexpr short PURCHASE_TURN_LIMIT = .*;  \\/\\/ OPTIMIZE \\[780, 880\\]$/constexpr short PURCHASE_TURN_LIMIT = 832;  \\/\\/ OPTIMIZE [780, 880]/' -e 's/^constexpr int SUBSCORE3_TIGHT_TURN = .*;     \\/\\/ OPTIMIZE \\[0, 2\\]$/constexpr int SUBSCORE3_TIGHT_TURN = 0;     \\/\\/ OPTIMIZE [0, 2]/'\n",
      "g++ 3_main.cpp -std=gnu++17 -O2 -DONLINE_JUDGE -o 3_main.cpp.out 2> /dev/null\n"
     ]
    },
    {
     "name": "stderr",
     "output_type": "stream",
     "text": [
      "\u001b[32m[I 2021-09-10 01:20:49,850]\u001b[0m Trial 63 finished with value: 907422216.0 and parameters: {'K_START': 0.024216058366701, 'K_END': 0.04750282563626842, 'K_H': 0.7109973735579753, 'PURCHASE_TURN_LIMIT': 832, 'SUBSCORE3_TIGHT_TURN': 0}. Best is trial 63 with value: 907422216.0.\u001b[0m\n"
     ]
    },
    {
     "name": "stdout",
     "output_type": "stream",
     "text": [
      "Updated! 907422216.0\n",
      "callback ok\n",
      "index_parallel=4\n",
      "sed -i 4_main.cpp -e 's/^constexpr double K_START = .*;  \\/\\/ OPTIMIZE \\[0\\.02, 0\\.06\\] LOG$/constexpr double K_START = 0.022233627695374396;  \\/\\/ OPTIMIZE [0.02, 0.06] LOG/' -e 's/^constexpr double K_END = .*;   \\/\\/ OPTIMIZE \\[0\\.01, 0\\.05\\] LOG$/constexpr double K_END = 0.04953663190751662;   \\/\\/ OPTIMIZE [0.01, 0.05] LOG/' -e 's/^constexpr double K_H = .*;      \\/\\/ OPTIMIZE \\[0\\.001, 0\\.999\\]$/constexpr double K_H = 0.686730643126839;      \\/\\/ OPTIMIZE [0.001, 0.999]/' -e 's/^constexpr short PURCHASE_TURN_LIMIT = .*;  \\/\\/ OPTIMIZE \\[780, 880\\]$/constexpr short PURCHASE_TURN_LIMIT = 832;  \\/\\/ OPTIMIZE [780, 880]/' -e 's/^constexpr int SUBSCORE3_TIGHT_TURN = .*;     \\/\\/ OPTIMIZE \\[0, 2\\]$/constexpr int SUBSCORE3_TIGHT_TURN = 0;     \\/\\/ OPTIMIZE [0, 2]/'\n",
      "g++ 4_main.cpp -std=gnu++17 -O2 -DONLINE_JUDGE -o 4_main.cpp.out 2> /dev/null\n"
     ]
    },
    {
     "name": "stderr",
     "output_type": "stream",
     "text": [
      "\u001b[32m[I 2021-09-10 01:24:53,884]\u001b[0m Trial 64 finished with value: 905723207.0 and parameters: {'K_START': 0.022233627695374396, 'K_END': 0.04953663190751662, 'K_H': 0.686730643126839, 'PURCHASE_TURN_LIMIT': 832, 'SUBSCORE3_TIGHT_TURN': 0}. Best is trial 63 with value: 907422216.0.\u001b[0m\n"
     ]
    },
    {
     "name": "stdout",
     "output_type": "stream",
     "text": [
      "callback ok\n",
      "index_parallel=5\n",
      "sed -i 5_main.cpp -e 's/^constexpr double K_START = .*;  \\/\\/ OPTIMIZE \\[0\\.02, 0\\.06\\] LOG$/constexpr double K_START = 0.022502825812231377;  \\/\\/ OPTIMIZE [0.02, 0.06] LOG/' -e 's/^constexpr double K_END = .*;   \\/\\/ OPTIMIZE \\[0\\.01, 0\\.05\\] LOG$/constexpr double K_END = 0.04865615379113029;   \\/\\/ OPTIMIZE [0.01, 0.05] LOG/' -e 's/^constexpr double K_H = .*;      \\/\\/ OPTIMIZE \\[0\\.001, 0\\.999\\]$/constexpr double K_H = 0.6854776932686412;      \\/\\/ OPTIMIZE [0.001, 0.999]/' -e 's/^constexpr short PURCHASE_TURN_LIMIT = .*;  \\/\\/ OPTIMIZE \\[780, 880\\]$/constexpr short PURCHASE_TURN_LIMIT = 833;  \\/\\/ OPTIMIZE [780, 880]/' -e 's/^constexpr int SUBSCORE3_TIGHT_TURN = .*;     \\/\\/ OPTIMIZE \\[0, 2\\]$/constexpr int SUBSCORE3_TIGHT_TURN = 0;     \\/\\/ OPTIMIZE [0, 2]/'\n",
      "g++ 5_main.cpp -std=gnu++17 -O2 -DONLINE_JUDGE -o 5_main.cpp.out 2> /dev/null\n"
     ]
    },
    {
     "name": "stderr",
     "output_type": "stream",
     "text": [
      "\u001b[32m[I 2021-09-10 01:28:30,502]\u001b[0m Trial 65 finished with value: 907879774.0 and parameters: {'K_START': 0.022502825812231377, 'K_END': 0.04865615379113029, 'K_H': 0.6854776932686412, 'PURCHASE_TURN_LIMIT': 833, 'SUBSCORE3_TIGHT_TURN': 0}. Best is trial 65 with value: 907879774.0.\u001b[0m\n"
     ]
    },
    {
     "name": "stdout",
     "output_type": "stream",
     "text": [
      "Updated! 907879774.0\n",
      "callback ok\n",
      "index_parallel=6\n",
      "sed -i 6_main.cpp -e 's/^constexpr double K_START = .*;  \\/\\/ OPTIMIZE \\[0\\.02, 0\\.06\\] LOG$/constexpr double K_START = 0.022102594815270694;  \\/\\/ OPTIMIZE [0.02, 0.06] LOG/' -e 's/^constexpr double K_END = .*;   \\/\\/ OPTIMIZE \\[0\\.01, 0\\.05\\] LOG$/constexpr double K_END = 0.04931565810913515;   \\/\\/ OPTIMIZE [0.01, 0.05] LOG/' -e 's/^constexpr double K_H = .*;      \\/\\/ OPTIMIZE \\[0\\.001, 0\\.999\\]$/constexpr double K_H = 0.627642815223125;      \\/\\/ OPTIMIZE [0.001, 0.999]/' -e 's/^constexpr short PURCHASE_TURN_LIMIT = .*;  \\/\\/ OPTIMIZE \\[780, 880\\]$/constexpr short PURCHASE_TURN_LIMIT = 827;  \\/\\/ OPTIMIZE [780, 880]/' -e 's/^constexpr int SUBSCORE3_TIGHT_TURN = .*;     \\/\\/ OPTIMIZE \\[0, 2\\]$/constexpr int SUBSCORE3_TIGHT_TURN = 0;     \\/\\/ OPTIMIZE [0, 2]/'\n",
      "g++ 6_main.cpp -std=gnu++17 -O2 -DONLINE_JUDGE -o 6_main.cpp.out 2> /dev/null\n"
     ]
    },
    {
     "name": "stderr",
     "output_type": "stream",
     "text": [
      "\u001b[32m[I 2021-09-10 01:31:50,560]\u001b[0m Trial 66 finished with value: 902142370.0 and parameters: {'K_START': 0.022102594815270694, 'K_END': 0.04931565810913515, 'K_H': 0.627642815223125, 'PURCHASE_TURN_LIMIT': 827, 'SUBSCORE3_TIGHT_TURN': 0}. Best is trial 65 with value: 907879774.0.\u001b[0m\n"
     ]
    },
    {
     "name": "stdout",
     "output_type": "stream",
     "text": [
      "callback ok\n",
      "index_parallel=7\n",
      "sed -i 7_main.cpp -e 's/^constexpr double K_START = .*;  \\/\\/ OPTIMIZE \\[0\\.02, 0\\.06\\] LOG$/constexpr double K_START = 0.022919307438604156;  \\/\\/ OPTIMIZE [0.02, 0.06] LOG/' -e 's/^constexpr double K_END = .*;   \\/\\/ OPTIMIZE \\[0\\.01, 0\\.05\\] LOG$/constexpr double K_END = 0.02045960913591957;   \\/\\/ OPTIMIZE [0.01, 0.05] LOG/' -e 's/^constexpr double K_H = .*;      \\/\\/ OPTIMIZE \\[0\\.001, 0\\.999\\]$/constexpr double K_H = 0.7019157490199356;      \\/\\/ OPTIMIZE [0.001, 0.999]/' -e 's/^constexpr short PURCHASE_TURN_LIMIT = .*;  \\/\\/ OPTIMIZE \\[780, 880\\]$/constexpr short PURCHASE_TURN_LIMIT = 832;  \\/\\/ OPTIMIZE [780, 880]/' -e 's/^constexpr int SUBSCORE3_TIGHT_TURN = .*;     \\/\\/ OPTIMIZE \\[0, 2\\]$/constexpr int SUBSCORE3_TIGHT_TURN = 0;     \\/\\/ OPTIMIZE [0, 2]/'\n",
      "g++ 7_main.cpp -std=gnu++17 -O2 -DONLINE_JUDGE -o 7_main.cpp.out 2> /dev/null\n"
     ]
    },
    {
     "name": "stderr",
     "output_type": "stream",
     "text": [
      "\u001b[32m[I 2021-09-10 01:35:30,252]\u001b[0m Trial 67 finished with value: 844286982.0 and parameters: {'K_START': 0.022919307438604156, 'K_END': 0.02045960913591957, 'K_H': 0.7019157490199356, 'PURCHASE_TURN_LIMIT': 832, 'SUBSCORE3_TIGHT_TURN': 0}. Best is trial 65 with value: 907879774.0.\u001b[0m\n"
     ]
    },
    {
     "name": "stdout",
     "output_type": "stream",
     "text": [
      "callback ok\n",
      "index_parallel=8\n",
      "sed -i 8_main.cpp -e 's/^constexpr double K_START = .*;  \\/\\/ OPTIMIZE \\[0\\.02, 0\\.06\\] LOG$/constexpr double K_START = 0.021942604605686332;  \\/\\/ OPTIMIZE [0.02, 0.06] LOG/' -e 's/^constexpr double K_END = .*;   \\/\\/ OPTIMIZE \\[0\\.01, 0\\.05\\] LOG$/constexpr double K_END = 0.04230694000255793;   \\/\\/ OPTIMIZE [0.01, 0.05] LOG/' -e 's/^constexpr double K_H = .*;      \\/\\/ OPTIMIZE \\[0\\.001, 0\\.999\\]$/constexpr double K_H = 0.8941144669178578;      \\/\\/ OPTIMIZE [0.001, 0.999]/' -e 's/^constexpr short PURCHASE_TURN_LIMIT = .*;  \\/\\/ OPTIMIZE \\[780, 880\\]$/constexpr short PURCHASE_TURN_LIMIT = 837;  \\/\\/ OPTIMIZE [780, 880]/' -e 's/^constexpr int SUBSCORE3_TIGHT_TURN = .*;     \\/\\/ OPTIMIZE \\[0, 2\\]$/constexpr int SUBSCORE3_TIGHT_TURN = 0;     \\/\\/ OPTIMIZE [0, 2]/'\n",
      "g++ 8_main.cpp -std=gnu++17 -O2 -DONLINE_JUDGE -o 8_main.cpp.out 2> /dev/null\n"
     ]
    },
    {
     "name": "stderr",
     "output_type": "stream",
     "text": [
      "\u001b[32m[I 2021-09-10 01:39:02,632]\u001b[0m Trial 68 finished with value: 903100413.0 and parameters: {'K_START': 0.021942604605686332, 'K_END': 0.04230694000255793, 'K_H': 0.8941144669178578, 'PURCHASE_TURN_LIMIT': 837, 'SUBSCORE3_TIGHT_TURN': 0}. Best is trial 65 with value: 907879774.0.\u001b[0m\n"
     ]
    },
    {
     "name": "stdout",
     "output_type": "stream",
     "text": [
      "callback ok\n",
      "index_parallel=9\n",
      "sed -i 9_main.cpp -e 's/^constexpr double K_START = .*;  \\/\\/ OPTIMIZE \\[0\\.02, 0\\.06\\] LOG$/constexpr double K_START = 0.020490394077043488;  \\/\\/ OPTIMIZE [0.02, 0.06] LOG/' -e 's/^constexpr double K_END = .*;   \\/\\/ OPTIMIZE \\[0\\.01, 0\\.05\\] LOG$/constexpr double K_END = 0.04969533538693076;   \\/\\/ OPTIMIZE [0.01, 0.05] LOG/' -e 's/^constexpr double K_H = .*;      \\/\\/ OPTIMIZE \\[0\\.001, 0\\.999\\]$/constexpr double K_H = 0.5842041617249434;      \\/\\/ OPTIMIZE [0.001, 0.999]/' -e 's/^constexpr short PURCHASE_TURN_LIMIT = .*;  \\/\\/ OPTIMIZE \\[780, 880\\]$/constexpr short PURCHASE_TURN_LIMIT = 832;  \\/\\/ OPTIMIZE [780, 880]/' -e 's/^constexpr int SUBSCORE3_TIGHT_TURN = .*;     \\/\\/ OPTIMIZE \\[0, 2\\]$/constexpr int SUBSCORE3_TIGHT_TURN = 0;     \\/\\/ OPTIMIZE [0, 2]/'\n",
      "g++ 9_main.cpp -std=gnu++17 -O2 -DONLINE_JUDGE -o 9_main.cpp.out 2> /dev/null\n"
     ]
    },
    {
     "name": "stderr",
     "output_type": "stream",
     "text": [
      "\u001b[32m[I 2021-09-10 01:42:25,675]\u001b[0m Trial 69 finished with value: 901092561.0 and parameters: {'K_START': 0.020490394077043488, 'K_END': 0.04969533538693076, 'K_H': 0.5842041617249434, 'PURCHASE_TURN_LIMIT': 832, 'SUBSCORE3_TIGHT_TURN': 0}. Best is trial 65 with value: 907879774.0.\u001b[0m\n"
     ]
    },
    {
     "name": "stdout",
     "output_type": "stream",
     "text": [
      "callback ok\n",
      "index_parallel=10\n",
      "sed -i 10_main.cpp -e 's/^constexpr double K_START = .*;  \\/\\/ OPTIMIZE \\[0\\.02, 0\\.06\\] LOG$/constexpr double K_START = 0.023197248371944496;  \\/\\/ OPTIMIZE [0.02, 0.06] LOG/' -e 's/^constexpr double K_END = .*;   \\/\\/ OPTIMIZE \\[0\\.01, 0\\.05\\] LOG$/constexpr double K_END = 0.039766637151191546;   \\/\\/ OPTIMIZE [0.01, 0.05] LOG/' -e 's/^constexpr double K_H = .*;      \\/\\/ OPTIMIZE \\[0\\.001, 0\\.999\\]$/constexpr double K_H = 0.6775064724365345;      \\/\\/ OPTIMIZE [0.001, 0.999]/' -e 's/^constexpr short PURCHASE_TURN_LIMIT = .*;  \\/\\/ OPTIMIZE \\[780, 880\\]$/constexpr short PURCHASE_TURN_LIMIT = 841;  \\/\\/ OPTIMIZE [780, 880]/' -e 's/^constexpr int SUBSCORE3_TIGHT_TURN = .*;     \\/\\/ OPTIMIZE \\[0, 2\\]$/constexpr int SUBSCORE3_TIGHT_TURN = 0;     \\/\\/ OPTIMIZE [0, 2]/'\n",
      "g++ 10_main.cpp -std=gnu++17 -O2 -DONLINE_JUDGE -o 10_main.cpp.out 2> /dev/null\n"
     ]
    },
    {
     "name": "stderr",
     "output_type": "stream",
     "text": [
      "\u001b[32m[I 2021-09-10 01:45:56,752]\u001b[0m Trial 70 finished with value: 893546156.0 and parameters: {'K_START': 0.023197248371944496, 'K_END': 0.039766637151191546, 'K_H': 0.6775064724365345, 'PURCHASE_TURN_LIMIT': 841, 'SUBSCORE3_TIGHT_TURN': 0}. Best is trial 65 with value: 907879774.0.\u001b[0m\n"
     ]
    },
    {
     "name": "stdout",
     "output_type": "stream",
     "text": [
      "callback ok\n",
      "index_parallel=11\n",
      "sed -i 11_main.cpp -e 's/^constexpr double K_START = .*;  \\/\\/ OPTIMIZE \\[0\\.02, 0\\.06\\] LOG$/constexpr double K_START = 0.02228374739475911;  \\/\\/ OPTIMIZE [0.02, 0.06] LOG/' -e 's/^constexpr double K_END = .*;   \\/\\/ OPTIMIZE \\[0\\.01, 0\\.05\\] LOG$/constexpr double K_END = 0.04754833610728247;   \\/\\/ OPTIMIZE [0.01, 0.05] LOG/' -e 's/^constexpr double K_H = .*;      \\/\\/ OPTIMIZE \\[0\\.001, 0\\.999\\]$/constexpr double K_H = 0.7830396513759729;      \\/\\/ OPTIMIZE [0.001, 0.999]/' -e 's/^constexpr short PURCHASE_TURN_LIMIT = .*;  \\/\\/ OPTIMIZE \\[780, 880\\]$/constexpr short PURCHASE_TURN_LIMIT = 820;  \\/\\/ OPTIMIZE [780, 880]/' -e 's/^constexpr int SUBSCORE3_TIGHT_TURN = .*;     \\/\\/ OPTIMIZE \\[0, 2\\]$/constexpr int SUBSCORE3_TIGHT_TURN = 0;     \\/\\/ OPTIMIZE [0, 2]/'\n",
      "g++ 11_main.cpp -std=gnu++17 -O2 -DONLINE_JUDGE -o 11_main.cpp.out 2> /dev/null\n"
     ]
    },
    {
     "name": "stderr",
     "output_type": "stream",
     "text": [
      "\u001b[32m[I 2021-09-10 01:49:20,669]\u001b[0m Trial 71 finished with value: 908281467.0 and parameters: {'K_START': 0.02228374739475911, 'K_END': 0.04754833610728247, 'K_H': 0.7830396513759729, 'PURCHASE_TURN_LIMIT': 820, 'SUBSCORE3_TIGHT_TURN': 0}. Best is trial 71 with value: 908281467.0.\u001b[0m\n"
     ]
    },
    {
     "name": "stdout",
     "output_type": "stream",
     "text": [
      "Updated! 908281467.0\n",
      "callback ok\n",
      "index_parallel=0\n",
      "sed -i 0_main.cpp -e 's/^constexpr double K_START = .*;  \\/\\/ OPTIMIZE \\[0\\.02, 0\\.06\\] LOG$/constexpr double K_START = 0.021635694713127943;  \\/\\/ OPTIMIZE [0.02, 0.06] LOG/' -e 's/^constexpr double K_END = .*;   \\/\\/ OPTIMIZE \\[0\\.01, 0\\.05\\] LOG$/constexpr double K_END = 0.04735868921458267;   \\/\\/ OPTIMIZE [0.01, 0.05] LOG/' -e 's/^constexpr double K_H = .*;      \\/\\/ OPTIMIZE \\[0\\.001, 0\\.999\\]$/constexpr double K_H = 0.7150793182507715;      \\/\\/ OPTIMIZE [0.001, 0.999]/' -e 's/^constexpr short PURCHASE_TURN_LIMIT = .*;  \\/\\/ OPTIMIZE \\[780, 880\\]$/constexpr short PURCHASE_TURN_LIMIT = 820;  \\/\\/ OPTIMIZE [780, 880]/' -e 's/^constexpr int SUBSCORE3_TIGHT_TURN = .*;     \\/\\/ OPTIMIZE \\[0, 2\\]$/constexpr int SUBSCORE3_TIGHT_TURN = 0;     \\/\\/ OPTIMIZE [0, 2]/'\n",
      "g++ 0_main.cpp -std=gnu++17 -O2 -DONLINE_JUDGE -o 0_main.cpp.out 2> /dev/null\n"
     ]
    },
    {
     "name": "stderr",
     "output_type": "stream",
     "text": [
      "\u001b[32m[I 2021-09-10 01:53:00,401]\u001b[0m Trial 72 finished with value: 898092948.0 and parameters: {'K_START': 0.021635694713127943, 'K_END': 0.04735868921458267, 'K_H': 0.7150793182507715, 'PURCHASE_TURN_LIMIT': 820, 'SUBSCORE3_TIGHT_TURN': 0}. Best is trial 71 with value: 908281467.0.\u001b[0m\n"
     ]
    },
    {
     "name": "stdout",
     "output_type": "stream",
     "text": [
      "callback ok\n",
      "index_parallel=1\n",
      "sed -i 1_main.cpp -e 's/^constexpr double K_START = .*;  \\/\\/ OPTIMIZE \\[0\\.02, 0\\.06\\] LOG$/constexpr double K_START = 0.022618794327078206;  \\/\\/ OPTIMIZE [0.02, 0.06] LOG/' -e 's/^constexpr double K_END = .*;   \\/\\/ OPTIMIZE \\[0\\.01, 0\\.05\\] LOG$/constexpr double K_END = 0.043236399941184285;   \\/\\/ OPTIMIZE [0.01, 0.05] LOG/' -e 's/^constexpr double K_H = .*;      \\/\\/ OPTIMIZE \\[0\\.001, 0\\.999\\]$/constexpr double K_H = 0.7776371677280262;      \\/\\/ OPTIMIZE [0.001, 0.999]/' -e 's/^constexpr short PURCHASE_TURN_LIMIT = .*;  \\/\\/ OPTIMIZE \\[780, 880\\]$/constexpr short PURCHASE_TURN_LIMIT = 823;  \\/\\/ OPTIMIZE [780, 880]/' -e 's/^constexpr int SUBSCORE3_TIGHT_TURN = .*;     \\/\\/ OPTIMIZE \\[0, 2\\]$/constexpr int SUBSCORE3_TIGHT_TURN = 0;     \\/\\/ OPTIMIZE [0, 2]/'\n",
      "g++ 1_main.cpp -std=gnu++17 -O2 -DONLINE_JUDGE -o 1_main.cpp.out 2> /dev/null\n"
     ]
    },
    {
     "name": "stderr",
     "output_type": "stream",
     "text": [
      "\u001b[32m[I 2021-09-10 01:56:45,008]\u001b[0m Trial 73 finished with value: 901705899.0 and parameters: {'K_START': 0.022618794327078206, 'K_END': 0.043236399941184285, 'K_H': 0.7776371677280262, 'PURCHASE_TURN_LIMIT': 823, 'SUBSCORE3_TIGHT_TURN': 0}. Best is trial 71 with value: 908281467.0.\u001b[0m\n"
     ]
    },
    {
     "name": "stdout",
     "output_type": "stream",
     "text": [
      "callback ok\n",
      "index_parallel=2\n",
      "sed -i 2_main.cpp -e 's/^constexpr double K_START = .*;  \\/\\/ OPTIMIZE \\[0\\.02, 0\\.06\\] LOG$/constexpr double K_START = 0.023613341847949644;  \\/\\/ OPTIMIZE [0.02, 0.06] LOG/' -e 's/^constexpr double K_END = .*;   \\/\\/ OPTIMIZE \\[0\\.01, 0\\.05\\] LOG$/constexpr double K_END = 0.047947289274026195;   \\/\\/ OPTIMIZE [0.01, 0.05] LOG/' -e 's/^constexpr double K_H = .*;      \\/\\/ OPTIMIZE \\[0\\.001, 0\\.999\\]$/constexpr double K_H = 0.8254579358482287;      \\/\\/ OPTIMIZE [0.001, 0.999]/' -e 's/^constexpr short PURCHASE_TURN_LIMIT = .*;  \\/\\/ OPTIMIZE \\[780, 880\\]$/constexpr short PURCHASE_TURN_LIMIT = 834;  \\/\\/ OPTIMIZE [780, 880]/' -e 's/^constexpr int SUBSCORE3_TIGHT_TURN = .*;     \\/\\/ OPTIMIZE \\[0, 2\\]$/constexpr int SUBSCORE3_TIGHT_TURN = 0;     \\/\\/ OPTIMIZE [0, 2]/'\n",
      "g++ 2_main.cpp -std=gnu++17 -O2 -DONLINE_JUDGE -o 2_main.cpp.out 2> /dev/null\n"
     ]
    },
    {
     "name": "stderr",
     "output_type": "stream",
     "text": [
      "\u001b[32m[I 2021-09-10 02:00:27,878]\u001b[0m Trial 74 finished with value: 904703496.0 and parameters: {'K_START': 0.023613341847949644, 'K_END': 0.047947289274026195, 'K_H': 0.8254579358482287, 'PURCHASE_TURN_LIMIT': 834, 'SUBSCORE3_TIGHT_TURN': 0}. Best is trial 71 with value: 908281467.0.\u001b[0m\n"
     ]
    },
    {
     "name": "stdout",
     "output_type": "stream",
     "text": [
      "callback ok\n",
      "index_parallel=3\n",
      "sed -i 3_main.cpp -e 's/^constexpr double K_START = .*;  \\/\\/ OPTIMIZE \\[0\\.02, 0\\.06\\] LOG$/constexpr double K_START = 0.023515579791454303;  \\/\\/ OPTIMIZE [0.02, 0.06] LOG/' -e 's/^constexpr double K_END = .*;   \\/\\/ OPTIMIZE \\[0\\.01, 0\\.05\\] LOG$/constexpr double K_END = 0.04768588020027384;   \\/\\/ OPTIMIZE [0.01, 0.05] LOG/' -e 's/^constexpr double K_H = .*;      \\/\\/ OPTIMIZE \\[0\\.001, 0\\.999\\]$/constexpr double K_H = 0.8620257917642015;      \\/\\/ OPTIMIZE [0.001, 0.999]/' -e 's/^constexpr short PURCHASE_TURN_LIMIT = .*;  \\/\\/ OPTIMIZE \\[780, 880\\]$/constexpr short PURCHASE_TURN_LIMIT = 826;  \\/\\/ OPTIMIZE [780, 880]/' -e 's/^constexpr int SUBSCORE3_TIGHT_TURN = .*;     \\/\\/ OPTIMIZE \\[0, 2\\]$/constexpr int SUBSCORE3_TIGHT_TURN = 0;     \\/\\/ OPTIMIZE [0, 2]/'\n",
      "g++ 3_main.cpp -std=gnu++17 -O2 -DONLINE_JUDGE -o 3_main.cpp.out 2> /dev/null\n"
     ]
    },
    {
     "name": "stderr",
     "output_type": "stream",
     "text": [
      "\u001b[32m[I 2021-09-10 02:04:06,200]\u001b[0m Trial 75 finished with value: 898248700.0 and parameters: {'K_START': 0.023515579791454303, 'K_END': 0.04768588020027384, 'K_H': 0.8620257917642015, 'PURCHASE_TURN_LIMIT': 826, 'SUBSCORE3_TIGHT_TURN': 0}. Best is trial 71 with value: 908281467.0.\u001b[0m\n"
     ]
    },
    {
     "name": "stdout",
     "output_type": "stream",
     "text": [
      "callback ok\n",
      "index_parallel=4\n",
      "sed -i 4_main.cpp -e 's/^constexpr double K_START = .*;  \\/\\/ OPTIMIZE \\[0\\.02, 0\\.06\\] LOG$/constexpr double K_START = 0.026037221519476808;  \\/\\/ OPTIMIZE [0.02, 0.06] LOG/' -e 's/^constexpr double K_END = .*;   \\/\\/ OPTIMIZE \\[0\\.01, 0\\.05\\] LOG$/constexpr double K_END = 0.04358926698222627;   \\/\\/ OPTIMIZE [0.01, 0.05] LOG/' -e 's/^constexpr double K_H = .*;      \\/\\/ OPTIMIZE \\[0\\.001, 0\\.999\\]$/constexpr double K_H = 0.8022559107137123;      \\/\\/ OPTIMIZE [0.001, 0.999]/' -e 's/^constexpr short PURCHASE_TURN_LIMIT = .*;  \\/\\/ OPTIMIZE \\[780, 880\\]$/constexpr short PURCHASE_TURN_LIMIT = 831;  \\/\\/ OPTIMIZE [780, 880]/' -e 's/^constexpr int SUBSCORE3_TIGHT_TURN = .*;     \\/\\/ OPTIMIZE \\[0, 2\\]$/constexpr int SUBSCORE3_TIGHT_TURN = 0;     \\/\\/ OPTIMIZE [0, 2]/'\n",
      "g++ 4_main.cpp -std=gnu++17 -O2 -DONLINE_JUDGE -o 4_main.cpp.out 2> /dev/null\n"
     ]
    },
    {
     "name": "stderr",
     "output_type": "stream",
     "text": [
      "\u001b[32m[I 2021-09-10 02:07:44,929]\u001b[0m Trial 76 finished with value: 902148089.0 and parameters: {'K_START': 0.026037221519476808, 'K_END': 0.04358926698222627, 'K_H': 0.8022559107137123, 'PURCHASE_TURN_LIMIT': 831, 'SUBSCORE3_TIGHT_TURN': 0}. Best is trial 71 with value: 908281467.0.\u001b[0m\n"
     ]
    },
    {
     "name": "stdout",
     "output_type": "stream",
     "text": [
      "callback ok\n",
      "index_parallel=5\n",
      "sed -i 5_main.cpp -e 's/^constexpr double K_START = .*;  \\/\\/ OPTIMIZE \\[0\\.02, 0\\.06\\] LOG$/constexpr double K_START = 0.02504403887213596;  \\/\\/ OPTIMIZE [0.02, 0.06] LOG/' -e 's/^constexpr double K_END = .*;   \\/\\/ OPTIMIZE \\[0\\.01, 0\\.05\\] LOG$/constexpr double K_END = 0.0412935950218053;   \\/\\/ OPTIMIZE [0.01, 0.05] LOG/' -e 's/^constexpr double K_H = .*;      \\/\\/ OPTIMIZE \\[0\\.001, 0\\.999\\]$/constexpr double K_H = 0.9439525808198147;      \\/\\/ OPTIMIZE [0.001, 0.999]/' -e 's/^constexpr short PURCHASE_TURN_LIMIT = .*;  \\/\\/ OPTIMIZE \\[780, 880\\]$/constexpr short PURCHASE_TURN_LIMIT = 839;  \\/\\/ OPTIMIZE [780, 880]/' -e 's/^constexpr int SUBSCORE3_TIGHT_TURN = .*;     \\/\\/ OPTIMIZE \\[0, 2\\]$/constexpr int SUBSCORE3_TIGHT_TURN = 0;     \\/\\/ OPTIMIZE [0, 2]/'\n",
      "g++ 5_main.cpp -std=gnu++17 -O2 -DONLINE_JUDGE -o 5_main.cpp.out 2> /dev/null\n"
     ]
    },
    {
     "name": "stderr",
     "output_type": "stream",
     "text": [
      "\u001b[32m[I 2021-09-10 02:11:09,037]\u001b[0m Trial 77 finished with value: 902406281.0 and parameters: {'K_START': 0.02504403887213596, 'K_END': 0.0412935950218053, 'K_H': 0.9439525808198147, 'PURCHASE_TURN_LIMIT': 839, 'SUBSCORE3_TIGHT_TURN': 0}. Best is trial 71 with value: 908281467.0.\u001b[0m\n"
     ]
    },
    {
     "name": "stdout",
     "output_type": "stream",
     "text": [
      "callback ok\n",
      "index_parallel=6\n",
      "sed -i 6_main.cpp -e 's/^constexpr double K_START = .*;  \\/\\/ OPTIMIZE \\[0\\.02, 0\\.06\\] LOG$/constexpr double K_START = 0.020492815890190398;  \\/\\/ OPTIMIZE [0.02, 0.06] LOG/' -e 's/^constexpr double K_END = .*;   \\/\\/ OPTIMIZE \\[0\\.01, 0\\.05\\] LOG$/constexpr double K_END = 0.04807944831042553;   \\/\\/ OPTIMIZE [0.01, 0.05] LOG/' -e 's/^constexpr double K_H = .*;      \\/\\/ OPTIMIZE \\[0\\.001, 0\\.999\\]$/constexpr double K_H = 0.8349077490402306;      \\/\\/ OPTIMIZE [0.001, 0.999]/' -e 's/^constexpr short PURCHASE_TURN_LIMIT = .*;  \\/\\/ OPTIMIZE \\[780, 880\\]$/constexpr short PURCHASE_TURN_LIMIT = 834;  \\/\\/ OPTIMIZE [780, 880]/' -e 's/^constexpr int SUBSCORE3_TIGHT_TURN = .*;     \\/\\/ OPTIMIZE \\[0, 2\\]$/constexpr int SUBSCORE3_TIGHT_TURN = 0;     \\/\\/ OPTIMIZE [0, 2]/'\n",
      "g++ 6_main.cpp -std=gnu++17 -O2 -DONLINE_JUDGE -o 6_main.cpp.out 2> /dev/null\n"
     ]
    },
    {
     "name": "stderr",
     "output_type": "stream",
     "text": [
      "\u001b[32m[I 2021-09-10 02:14:32,245]\u001b[0m Trial 78 finished with value: 907588760.0 and parameters: {'K_START': 0.020492815890190398, 'K_END': 0.04807944831042553, 'K_H': 0.8349077490402306, 'PURCHASE_TURN_LIMIT': 834, 'SUBSCORE3_TIGHT_TURN': 0}. Best is trial 71 with value: 908281467.0.\u001b[0m\n"
     ]
    },
    {
     "name": "stdout",
     "output_type": "stream",
     "text": [
      "callback ok\n",
      "index_parallel=7\n",
      "sed -i 7_main.cpp -e 's/^constexpr double K_START = .*;  \\/\\/ OPTIMIZE \\[0\\.02, 0\\.06\\] LOG$/constexpr double K_START = 0.020571213392634354;  \\/\\/ OPTIMIZE [0.02, 0.06] LOG/' -e 's/^constexpr double K_END = .*;   \\/\\/ OPTIMIZE \\[0\\.01, 0\\.05\\] LOG$/constexpr double K_END = 0.049905602412097363;   \\/\\/ OPTIMIZE [0.01, 0.05] LOG/' -e 's/^constexpr double K_H = .*;      \\/\\/ OPTIMIZE \\[0\\.001, 0\\.999\\]$/constexpr double K_H = 0.8851492795637;      \\/\\/ OPTIMIZE [0.001, 0.999]/' -e 's/^constexpr short PURCHASE_TURN_LIMIT = .*;  \\/\\/ OPTIMIZE \\[780, 880\\]$/constexpr short PURCHASE_TURN_LIMIT = 814;  \\/\\/ OPTIMIZE [780, 880]/' -e 's/^constexpr int SUBSCORE3_TIGHT_TURN = .*;     \\/\\/ OPTIMIZE \\[0, 2\\]$/constexpr int SUBSCORE3_TIGHT_TURN = 0;     \\/\\/ OPTIMIZE [0, 2]/'\n",
      "g++ 7_main.cpp -std=gnu++17 -O2 -DONLINE_JUDGE -o 7_main.cpp.out 2> /dev/null\n"
     ]
    },
    {
     "name": "stderr",
     "output_type": "stream",
     "text": [
      "\u001b[32m[I 2021-09-10 02:17:51,798]\u001b[0m Trial 79 finished with value: 847575443.0 and parameters: {'K_START': 0.020571213392634354, 'K_END': 0.049905602412097363, 'K_H': 0.8851492795637, 'PURCHASE_TURN_LIMIT': 814, 'SUBSCORE3_TIGHT_TURN': 0}. Best is trial 71 with value: 908281467.0.\u001b[0m\n"
     ]
    },
    {
     "name": "stdout",
     "output_type": "stream",
     "text": [
      "callback ok\n",
      "index_parallel=8\n",
      "sed -i 8_main.cpp -e 's/^constexpr double K_START = .*;  \\/\\/ OPTIMIZE \\[0\\.02, 0\\.06\\] LOG$/constexpr double K_START = 0.021425665229207306;  \\/\\/ OPTIMIZE [0.02, 0.06] LOG/' -e 's/^constexpr double K_END = .*;   \\/\\/ OPTIMIZE \\[0\\.01, 0\\.05\\] LOG$/constexpr double K_END = 0.04470404803836288;   \\/\\/ OPTIMIZE [0.01, 0.05] LOG/' -e 's/^constexpr double K_H = .*;      \\/\\/ OPTIMIZE \\[0\\.001, 0\\.999\\]$/constexpr double K_H = 0.549998872584083;      \\/\\/ OPTIMIZE [0.001, 0.999]/' -e 's/^constexpr short PURCHASE_TURN_LIMIT = .*;  \\/\\/ OPTIMIZE \\[780, 880\\]$/constexpr short PURCHASE_TURN_LIMIT = 821;  \\/\\/ OPTIMIZE [780, 880]/' -e 's/^constexpr int SUBSCORE3_TIGHT_TURN = .*;     \\/\\/ OPTIMIZE \\[0, 2\\]$/constexpr int SUBSCORE3_TIGHT_TURN = 0;     \\/\\/ OPTIMIZE [0, 2]/'\n",
      "g++ 8_main.cpp -std=gnu++17 -O2 -DONLINE_JUDGE -o 8_main.cpp.out 2> /dev/null\n"
     ]
    },
    {
     "name": "stderr",
     "output_type": "stream",
     "text": [
      "\u001b[32m[I 2021-09-10 02:21:17,794]\u001b[0m Trial 80 finished with value: 900192070.0 and parameters: {'K_START': 0.021425665229207306, 'K_END': 0.04470404803836288, 'K_H': 0.549998872584083, 'PURCHASE_TURN_LIMIT': 821, 'SUBSCORE3_TIGHT_TURN': 0}. Best is trial 71 with value: 908281467.0.\u001b[0m\n"
     ]
    },
    {
     "name": "stdout",
     "output_type": "stream",
     "text": [
      "callback ok\n",
      "index_parallel=9\n",
      "sed -i 9_main.cpp -e 's/^constexpr double K_START = .*;  \\/\\/ OPTIMIZE \\[0\\.02, 0\\.06\\] LOG$/constexpr double K_START = 0.02242231335983674;  \\/\\/ OPTIMIZE [0.02, 0.06] LOG/' -e 's/^constexpr double K_END = .*;   \\/\\/ OPTIMIZE \\[0\\.01, 0\\.05\\] LOG$/constexpr double K_END = 0.04769075955173356;   \\/\\/ OPTIMIZE [0.01, 0.05] LOG/' -e 's/^constexpr double K_H = .*;      \\/\\/ OPTIMIZE \\[0\\.001, 0\\.999\\]$/constexpr double K_H = 0.836330644417324;      \\/\\/ OPTIMIZE [0.001, 0.999]/' -e 's/^constexpr short PURCHASE_TURN_LIMIT = .*;  \\/\\/ OPTIMIZE \\[780, 880\\]$/constexpr short PURCHASE_TURN_LIMIT = 834;  \\/\\/ OPTIMIZE [780, 880]/' -e 's/^constexpr int SUBSCORE3_TIGHT_TURN = .*;     \\/\\/ OPTIMIZE \\[0, 2\\]$/constexpr int SUBSCORE3_TIGHT_TURN = 0;     \\/\\/ OPTIMIZE [0, 2]/'\n",
      "g++ 9_main.cpp -std=gnu++17 -O2 -DONLINE_JUDGE -o 9_main.cpp.out 2> /dev/null\n"
     ]
    },
    {
     "name": "stderr",
     "output_type": "stream",
     "text": [
      "\u001b[32m[I 2021-09-10 02:24:56,741]\u001b[0m Trial 81 finished with value: 907201769.0 and parameters: {'K_START': 0.02242231335983674, 'K_END': 0.04769075955173356, 'K_H': 0.836330644417324, 'PURCHASE_TURN_LIMIT': 834, 'SUBSCORE3_TIGHT_TURN': 0}. Best is trial 71 with value: 908281467.0.\u001b[0m\n"
     ]
    },
    {
     "name": "stdout",
     "output_type": "stream",
     "text": [
      "callback ok\n",
      "index_parallel=10\n",
      "sed -i 10_main.cpp -e 's/^constexpr double K_START = .*;  \\/\\/ OPTIMIZE \\[0\\.02, 0\\.06\\] LOG$/constexpr double K_START = 0.022220404924123954;  \\/\\/ OPTIMIZE [0.02, 0.06] LOG/' -e 's/^constexpr double K_END = .*;   \\/\\/ OPTIMIZE \\[0\\.01, 0\\.05\\] LOG$/constexpr double K_END = 0.042823333972009846;   \\/\\/ OPTIMIZE [0.01, 0.05] LOG/' -e 's/^constexpr double K_H = .*;      \\/\\/ OPTIMIZE \\[0\\.001, 0\\.999\\]$/constexpr double K_H = 0.8361868202679844;      \\/\\/ OPTIMIZE [0.001, 0.999]/' -e 's/^constexpr short PURCHASE_TURN_LIMIT = .*;  \\/\\/ OPTIMIZE \\[780, 880\\]$/constexpr short PURCHASE_TURN_LIMIT = 836;  \\/\\/ OPTIMIZE [780, 880]/' -e 's/^constexpr int SUBSCORE3_TIGHT_TURN = .*;     \\/\\/ OPTIMIZE \\[0, 2\\]$/constexpr int SUBSCORE3_TIGHT_TURN = 0;     \\/\\/ OPTIMIZE [0, 2]/'\n",
      "g++ 10_main.cpp -std=gnu++17 -O2 -DONLINE_JUDGE -o 10_main.cpp.out 2> /dev/null\n"
     ]
    },
    {
     "name": "stderr",
     "output_type": "stream",
     "text": [
      "\u001b[32m[I 2021-09-10 02:28:31,056]\u001b[0m Trial 82 finished with value: 901810140.0 and parameters: {'K_START': 0.022220404924123954, 'K_END': 0.042823333972009846, 'K_H': 0.8361868202679844, 'PURCHASE_TURN_LIMIT': 836, 'SUBSCORE3_TIGHT_TURN': 0}. Best is trial 71 with value: 908281467.0.\u001b[0m\n"
     ]
    },
    {
     "name": "stdout",
     "output_type": "stream",
     "text": [
      "callback ok\n",
      "index_parallel=11\n",
      "sed -i 11_main.cpp -e 's/^constexpr double K_START = .*;  \\/\\/ OPTIMIZE \\[0\\.02, 0\\.06\\] LOG$/constexpr double K_START = 0.020033489656798967;  \\/\\/ OPTIMIZE [0.02, 0.06] LOG/' -e 's/^constexpr double K_END = .*;   \\/\\/ OPTIMIZE \\[0\\.01, 0\\.05\\] LOG$/constexpr double K_END = 0.024328715584645628;   \\/\\/ OPTIMIZE [0.01, 0.05] LOG/' -e 's/^constexpr double K_H = .*;      \\/\\/ OPTIMIZE \\[0\\.001, 0\\.999\\]$/constexpr double K_H = 0.9166152847248511;      \\/\\/ OPTIMIZE [0.001, 0.999]/' -e 's/^constexpr short PURCHASE_TURN_LIMIT = .*;  \\/\\/ OPTIMIZE \\[780, 880\\]$/constexpr short PURCHASE_TURN_LIMIT = 830;  \\/\\/ OPTIMIZE [780, 880]/' -e 's/^constexpr int SUBSCORE3_TIGHT_TURN = .*;     \\/\\/ OPTIMIZE \\[0, 2\\]$/constexpr int SUBSCORE3_TIGHT_TURN = 0;     \\/\\/ OPTIMIZE [0, 2]/'\n",
      "g++ 11_main.cpp -std=gnu++17 -O2 -DONLINE_JUDGE -o 11_main.cpp.out 2> /dev/null\n"
     ]
    },
    {
     "name": "stderr",
     "output_type": "stream",
     "text": [
      "\u001b[32m[I 2021-09-10 02:31:57,654]\u001b[0m Trial 83 finished with value: 862005695.0 and parameters: {'K_START': 0.020033489656798967, 'K_END': 0.024328715584645628, 'K_H': 0.9166152847248511, 'PURCHASE_TURN_LIMIT': 830, 'SUBSCORE3_TIGHT_TURN': 0}. Best is trial 71 with value: 908281467.0.\u001b[0m\n"
     ]
    },
    {
     "name": "stdout",
     "output_type": "stream",
     "text": [
      "callback ok\n",
      "index_parallel=0\n",
      "sed -i 0_main.cpp -e 's/^constexpr double K_START = .*;  \\/\\/ OPTIMIZE \\[0\\.02, 0\\.06\\] LOG$/constexpr double K_START = 0.022843510679125465;  \\/\\/ OPTIMIZE [0.02, 0.06] LOG/' -e 's/^constexpr double K_END = .*;   \\/\\/ OPTIMIZE \\[0\\.01, 0\\.05\\] LOG$/constexpr double K_END = 0.04771026954261854;   \\/\\/ OPTIMIZE [0.01, 0.05] LOG/' -e 's/^constexpr double K_H = .*;      \\/\\/ OPTIMIZE \\[0\\.001, 0\\.999\\]$/constexpr double K_H = 0.7234497560861808;      \\/\\/ OPTIMIZE [0.001, 0.999]/' -e 's/^constexpr short PURCHASE_TURN_LIMIT = .*;  \\/\\/ OPTIMIZE \\[780, 880\\]$/constexpr short PURCHASE_TURN_LIMIT = 842;  \\/\\/ OPTIMIZE [780, 880]/' -e 's/^constexpr int SUBSCORE3_TIGHT_TURN = .*;     \\/\\/ OPTIMIZE \\[0, 2\\]$/constexpr int SUBSCORE3_TIGHT_TURN = 0;     \\/\\/ OPTIMIZE [0, 2]/'\n",
      "g++ 0_main.cpp -std=gnu++17 -O2 -DONLINE_JUDGE -o 0_main.cpp.out 2> /dev/null\n"
     ]
    },
    {
     "name": "stderr",
     "output_type": "stream",
     "text": [
      "\u001b[32m[I 2021-09-10 02:35:28,388]\u001b[0m Trial 84 finished with value: 904788381.0 and parameters: {'K_START': 0.022843510679125465, 'K_END': 0.04771026954261854, 'K_H': 0.7234497560861808, 'PURCHASE_TURN_LIMIT': 842, 'SUBSCORE3_TIGHT_TURN': 0}. Best is trial 71 with value: 908281467.0.\u001b[0m\n"
     ]
    },
    {
     "name": "stdout",
     "output_type": "stream",
     "text": [
      "callback ok\n",
      "index_parallel=1\n",
      "sed -i 1_main.cpp -e 's/^constexpr double K_START = .*;  \\/\\/ OPTIMIZE \\[0\\.02, 0\\.06\\] LOG$/constexpr double K_START = 0.02293890512361201;  \\/\\/ OPTIMIZE [0.02, 0.06] LOG/' -e 's/^constexpr double K_END = .*;   \\/\\/ OPTIMIZE \\[0\\.01, 0\\.05\\] LOG$/constexpr double K_END = 0.0446762442337008;   \\/\\/ OPTIMIZE [0.01, 0.05] LOG/' -e 's/^constexpr double K_H = .*;      \\/\\/ OPTIMIZE \\[0\\.001, 0\\.999\\]$/constexpr double K_H = 0.6903598335806105;      \\/\\/ OPTIMIZE [0.001, 0.999]/' -e 's/^constexpr short PURCHASE_TURN_LIMIT = .*;  \\/\\/ OPTIMIZE \\[780, 880\\]$/constexpr short PURCHASE_TURN_LIMIT = 834;  \\/\\/ OPTIMIZE [780, 880]/' -e 's/^constexpr int SUBSCORE3_TIGHT_TURN = .*;     \\/\\/ OPTIMIZE \\[0, 2\\]$/constexpr int SUBSCORE3_TIGHT_TURN = 0;     \\/\\/ OPTIMIZE [0, 2]/'\n",
      "g++ 1_main.cpp -std=gnu++17 -O2 -DONLINE_JUDGE -o 1_main.cpp.out 2> /dev/null\n"
     ]
    },
    {
     "name": "stderr",
     "output_type": "stream",
     "text": [
      "\u001b[32m[I 2021-09-10 02:39:00,784]\u001b[0m Trial 85 finished with value: 901804850.0 and parameters: {'K_START': 0.02293890512361201, 'K_END': 0.0446762442337008, 'K_H': 0.6903598335806105, 'PURCHASE_TURN_LIMIT': 834, 'SUBSCORE3_TIGHT_TURN': 0}. Best is trial 71 with value: 908281467.0.\u001b[0m\n"
     ]
    },
    {
     "name": "stdout",
     "output_type": "stream",
     "text": [
      "callback ok\n",
      "index_parallel=2\n",
      "sed -i 2_main.cpp -e 's/^constexpr double K_START = .*;  \\/\\/ OPTIMIZE \\[0\\.02, 0\\.06\\] LOG$/constexpr double K_START = 0.02102191609995416;  \\/\\/ OPTIMIZE [0.02, 0.06] LOG/' -e 's/^constexpr double K_END = .*;   \\/\\/ OPTIMIZE \\[0\\.01, 0\\.05\\] LOG$/constexpr double K_END = 0.04991671916312796;   \\/\\/ OPTIMIZE [0.01, 0.05] LOG/' -e 's/^constexpr double K_H = .*;      \\/\\/ OPTIMIZE \\[0\\.001, 0\\.999\\]$/constexpr double K_H = 0.9697054082485852;      \\/\\/ OPTIMIZE [0.001, 0.999]/' -e 's/^constexpr short PURCHASE_TURN_LIMIT = .*;  \\/\\/ OPTIMIZE \\[780, 880\\]$/constexpr short PURCHASE_TURN_LIMIT = 838;  \\/\\/ OPTIMIZE [780, 880]/' -e 's/^constexpr int SUBSCORE3_TIGHT_TURN = .*;     \\/\\/ OPTIMIZE \\[0, 2\\]$/constexpr int SUBSCORE3_TIGHT_TURN = 0;     \\/\\/ OPTIMIZE [0, 2]/'\n",
      "g++ 2_main.cpp -std=gnu++17 -O2 -DONLINE_JUDGE -o 2_main.cpp.out 2> /dev/null\n"
     ]
    },
    {
     "name": "stderr",
     "output_type": "stream",
     "text": [
      "\u001b[32m[I 2021-09-10 02:42:39,490]\u001b[0m Trial 86 finished with value: 680848493.0 and parameters: {'K_START': 0.02102191609995416, 'K_END': 0.04991671916312796, 'K_H': 0.9697054082485852, 'PURCHASE_TURN_LIMIT': 838, 'SUBSCORE3_TIGHT_TURN': 0}. Best is trial 71 with value: 908281467.0.\u001b[0m\n"
     ]
    },
    {
     "name": "stdout",
     "output_type": "stream",
     "text": [
      "callback ok\n",
      "index_parallel=3\n",
      "sed -i 3_main.cpp -e 's/^constexpr double K_START = .*;  \\/\\/ OPTIMIZE \\[0\\.02, 0\\.06\\] LOG$/constexpr double K_START = 0.02166115444159505;  \\/\\/ OPTIMIZE [0.02, 0.06] LOG/' -e 's/^constexpr double K_END = .*;   \\/\\/ OPTIMIZE \\[0\\.01, 0\\.05\\] LOG$/constexpr double K_END = 0.04058337099753424;   \\/\\/ OPTIMIZE [0.01, 0.05] LOG/' -e 's/^constexpr double K_H = .*;      \\/\\/ OPTIMIZE \\[0\\.001, 0\\.999\\]$/constexpr double K_H = 0.7238025966335576;      \\/\\/ OPTIMIZE [0.001, 0.999]/' -e 's/^constexpr short PURCHASE_TURN_LIMIT = .*;  \\/\\/ OPTIMIZE \\[780, 880\\]$/constexpr short PURCHASE_TURN_LIMIT = 826;  \\/\\/ OPTIMIZE [780, 880]/' -e 's/^constexpr int SUBSCORE3_TIGHT_TURN = .*;     \\/\\/ OPTIMIZE \\[0, 2\\]$/constexpr int SUBSCORE3_TIGHT_TURN = 0;     \\/\\/ OPTIMIZE [0, 2]/'\n",
      "g++ 3_main.cpp -std=gnu++17 -O2 -DONLINE_JUDGE -o 3_main.cpp.out 2> /dev/null\n"
     ]
    },
    {
     "name": "stderr",
     "output_type": "stream",
     "text": [
      "\u001b[32m[I 2021-09-10 02:46:10,959]\u001b[0m Trial 87 finished with value: 894906285.0 and parameters: {'K_START': 0.02166115444159505, 'K_END': 0.04058337099753424, 'K_H': 0.7238025966335576, 'PURCHASE_TURN_LIMIT': 826, 'SUBSCORE3_TIGHT_TURN': 0}. Best is trial 71 with value: 908281467.0.\u001b[0m\n"
     ]
    },
    {
     "name": "stdout",
     "output_type": "stream",
     "text": [
      "callback ok\n",
      "index_parallel=4\n",
      "sed -i 4_main.cpp -e 's/^constexpr double K_START = .*;  \\/\\/ OPTIMIZE \\[0\\.02, 0\\.06\\] LOG$/constexpr double K_START = 0.020592338240400878;  \\/\\/ OPTIMIZE [0.02, 0.06] LOG/' -e 's/^constexpr double K_END = .*;   \\/\\/ OPTIMIZE \\[0\\.01, 0\\.05\\] LOG$/constexpr double K_END = 0.0379764122902192;   \\/\\/ OPTIMIZE [0.01, 0.05] LOG/' -e 's/^constexpr double K_H = .*;      \\/\\/ OPTIMIZE \\[0\\.001, 0\\.999\\]$/constexpr double K_H = 0.8643148259708843;      \\/\\/ OPTIMIZE [0.001, 0.999]/' -e 's/^constexpr short PURCHASE_TURN_LIMIT = .*;  \\/\\/ OPTIMIZE \\[780, 880\\]$/constexpr short PURCHASE_TURN_LIMIT = 843;  \\/\\/ OPTIMIZE [780, 880]/' -e 's/^constexpr int SUBSCORE3_TIGHT_TURN = .*;     \\/\\/ OPTIMIZE \\[0, 2\\]$/constexpr int SUBSCORE3_TIGHT_TURN = 2;     \\/\\/ OPTIMIZE [0, 2]/'\n",
      "g++ 4_main.cpp -std=gnu++17 -O2 -DONLINE_JUDGE -o 4_main.cpp.out 2> /dev/null\n"
     ]
    },
    {
     "name": "stderr",
     "output_type": "stream",
     "text": [
      "\u001b[32m[I 2021-09-10 02:49:48,578]\u001b[0m Trial 88 finished with value: 885803942.0 and parameters: {'K_START': 0.020592338240400878, 'K_END': 0.0379764122902192, 'K_H': 0.8643148259708843, 'PURCHASE_TURN_LIMIT': 843, 'SUBSCORE3_TIGHT_TURN': 2}. Best is trial 71 with value: 908281467.0.\u001b[0m\n"
     ]
    },
    {
     "name": "stdout",
     "output_type": "stream",
     "text": [
      "callback ok\n",
      "index_parallel=5\n",
      "sed -i 5_main.cpp -e 's/^constexpr double K_START = .*;  \\/\\/ OPTIMIZE \\[0\\.02, 0\\.06\\] LOG$/constexpr double K_START = 0.022755546143712686;  \\/\\/ OPTIMIZE [0.02, 0.06] LOG/' -e 's/^constexpr double K_END = .*;   \\/\\/ OPTIMIZE \\[0\\.01, 0\\.05\\] LOG$/constexpr double K_END = 0.04808787736886043;   \\/\\/ OPTIMIZE [0.01, 0.05] LOG/' -e 's/^constexpr double K_H = .*;      \\/\\/ OPTIMIZE \\[0\\.001, 0\\.999\\]$/constexpr double K_H = 0.6535794718912104;      \\/\\/ OPTIMIZE [0.001, 0.999]/' -e 's/^constexpr short PURCHASE_TURN_LIMIT = .*;  \\/\\/ OPTIMIZE \\[780, 880\\]$/constexpr short PURCHASE_TURN_LIMIT = 824;  \\/\\/ OPTIMIZE [780, 880]/' -e 's/^constexpr int SUBSCORE3_TIGHT_TURN = .*;     \\/\\/ OPTIMIZE \\[0, 2\\]$/constexpr int SUBSCORE3_TIGHT_TURN = 0;     \\/\\/ OPTIMIZE [0, 2]/'\n",
      "g++ 5_main.cpp -std=gnu++17 -O2 -DONLINE_JUDGE -o 5_main.cpp.out 2> /dev/null\n"
     ]
    },
    {
     "name": "stderr",
     "output_type": "stream",
     "text": [
      "\u001b[32m[I 2021-09-10 02:53:23,941]\u001b[0m Trial 89 finished with value: 905479737.0 and parameters: {'K_START': 0.022755546143712686, 'K_END': 0.04808787736886043, 'K_H': 0.6535794718912104, 'PURCHASE_TURN_LIMIT': 824, 'SUBSCORE3_TIGHT_TURN': 0}. Best is trial 71 with value: 908281467.0.\u001b[0m\n"
     ]
    },
    {
     "name": "stdout",
     "output_type": "stream",
     "text": [
      "callback ok\n",
      "index_parallel=6\n",
      "sed -i 6_main.cpp -e 's/^constexpr double K_START = .*;  \\/\\/ OPTIMIZE \\[0\\.02, 0\\.06\\] LOG$/constexpr double K_START = 0.021735797097203698;  \\/\\/ OPTIMIZE [0.02, 0.06] LOG/' -e 's/^constexpr double K_END = .*;   \\/\\/ OPTIMIZE \\[0\\.01, 0\\.05\\] LOG$/constexpr double K_END = 0.014652684919451547;   \\/\\/ OPTIMIZE [0.01, 0.05] LOG/' -e 's/^constexpr double K_H = .*;      \\/\\/ OPTIMIZE \\[0\\.001, 0\\.999\\]$/constexpr double K_H = 0.6599992573627322;      \\/\\/ OPTIMIZE [0.001, 0.999]/' -e 's/^constexpr short PURCHASE_TURN_LIMIT = .*;  \\/\\/ OPTIMIZE \\[780, 880\\]$/constexpr short PURCHASE_TURN_LIMIT = 824;  \\/\\/ OPTIMIZE [780, 880]/' -e 's/^constexpr int SUBSCORE3_TIGHT_TURN = .*;     \\/\\/ OPTIMIZE \\[0, 2\\]$/constexpr int SUBSCORE3_TIGHT_TURN = 0;     \\/\\/ OPTIMIZE [0, 2]/'\n",
      "g++ 6_main.cpp -std=gnu++17 -O2 -DONLINE_JUDGE -o 6_main.cpp.out 2> /dev/null\n"
     ]
    },
    {
     "name": "stderr",
     "output_type": "stream",
     "text": [
      "\u001b[32m[I 2021-09-10 02:56:57,587]\u001b[0m Trial 90 finished with value: 805108943.0 and parameters: {'K_START': 0.021735797097203698, 'K_END': 0.014652684919451547, 'K_H': 0.6599992573627322, 'PURCHASE_TURN_LIMIT': 824, 'SUBSCORE3_TIGHT_TURN': 0}. Best is trial 71 with value: 908281467.0.\u001b[0m\n"
     ]
    },
    {
     "name": "stdout",
     "output_type": "stream",
     "text": [
      "callback ok\n",
      "index_parallel=7\n",
      "sed -i 7_main.cpp -e 's/^constexpr double K_START = .*;  \\/\\/ OPTIMIZE \\[0\\.02, 0\\.06\\] LOG$/constexpr double K_START = 0.023149826703441297;  \\/\\/ OPTIMIZE [0.02, 0.06] LOG/' -e 's/^constexpr double K_END = .*;   \\/\\/ OPTIMIZE \\[0\\.01, 0\\.05\\] LOG$/constexpr double K_END = 0.048075013891900865;   \\/\\/ OPTIMIZE [0.01, 0.05] LOG/' -e 's/^constexpr double K_H = .*;      \\/\\/ OPTIMIZE \\[0\\.001, 0\\.999\\]$/constexpr double K_H = 0.6381528849685336;      \\/\\/ OPTIMIZE [0.001, 0.999]/' -e 's/^constexpr short PURCHASE_TURN_LIMIT = .*;  \\/\\/ OPTIMIZE \\[780, 880\\]$/constexpr short PURCHASE_TURN_LIMIT = 829;  \\/\\/ OPTIMIZE [780, 880]/' -e 's/^constexpr int SUBSCORE3_TIGHT_TURN = .*;     \\/\\/ OPTIMIZE \\[0, 2\\]$/constexpr int SUBSCORE3_TIGHT_TURN = 0;     \\/\\/ OPTIMIZE [0, 2]/'\n",
      "g++ 7_main.cpp -std=gnu++17 -O2 -DONLINE_JUDGE -o 7_main.cpp.out 2> /dev/null\n"
     ]
    },
    {
     "name": "stderr",
     "output_type": "stream",
     "text": [
      "\u001b[32m[I 2021-09-10 03:00:29,427]\u001b[0m Trial 91 finished with value: 907673947.0 and parameters: {'K_START': 0.023149826703441297, 'K_END': 0.048075013891900865, 'K_H': 0.6381528849685336, 'PURCHASE_TURN_LIMIT': 829, 'SUBSCORE3_TIGHT_TURN': 0}. Best is trial 71 with value: 908281467.0.\u001b[0m\n"
     ]
    },
    {
     "name": "stdout",
     "output_type": "stream",
     "text": [
      "callback ok\n",
      "index_parallel=8\n",
      "sed -i 8_main.cpp -e 's/^constexpr double K_START = .*;  \\/\\/ OPTIMIZE \\[0\\.02, 0\\.06\\] LOG$/constexpr double K_START = 0.023986669701902778;  \\/\\/ OPTIMIZE [0.02, 0.06] LOG/' -e 's/^constexpr double K_END = .*;   \\/\\/ OPTIMIZE \\[0\\.01, 0\\.05\\] LOG$/constexpr double K_END = 0.04561197056024142;   \\/\\/ OPTIMIZE [0.01, 0.05] LOG/' -e 's/^constexpr double K_H = .*;      \\/\\/ OPTIMIZE \\[0\\.001, 0\\.999\\]$/constexpr double K_H = 0.6208210617538668;      \\/\\/ OPTIMIZE [0.001, 0.999]/' -e 's/^constexpr short PURCHASE_TURN_LIMIT = .*;  \\/\\/ OPTIMIZE \\[780, 880\\]$/constexpr short PURCHASE_TURN_LIMIT = 829;  \\/\\/ OPTIMIZE [780, 880]/' -e 's/^constexpr int SUBSCORE3_TIGHT_TURN = .*;     \\/\\/ OPTIMIZE \\[0, 2\\]$/constexpr int SUBSCORE3_TIGHT_TURN = 0;     \\/\\/ OPTIMIZE [0, 2]/'\n",
      "g++ 8_main.cpp -std=gnu++17 -O2 -DONLINE_JUDGE -o 8_main.cpp.out 2> /dev/null\n"
     ]
    },
    {
     "name": "stderr",
     "output_type": "stream",
     "text": [
      "\u001b[32m[I 2021-09-10 03:04:10,646]\u001b[0m Trial 92 finished with value: 902229063.0 and parameters: {'K_START': 0.023986669701902778, 'K_END': 0.04561197056024142, 'K_H': 0.6208210617538668, 'PURCHASE_TURN_LIMIT': 829, 'SUBSCORE3_TIGHT_TURN': 0}. Best is trial 71 with value: 908281467.0.\u001b[0m\n"
     ]
    },
    {
     "name": "stdout",
     "output_type": "stream",
     "text": [
      "callback ok\n",
      "index_parallel=9\n",
      "sed -i 9_main.cpp -e 's/^constexpr double K_START = .*;  \\/\\/ OPTIMIZE \\[0\\.02, 0\\.06\\] LOG$/constexpr double K_START = 0.02310742866216719;  \\/\\/ OPTIMIZE [0.02, 0.06] LOG/' -e 's/^constexpr double K_END = .*;   \\/\\/ OPTIMIZE \\[0\\.01, 0\\.05\\] LOG$/constexpr double K_END = 0.04829497413730967;   \\/\\/ OPTIMIZE [0.01, 0.05] LOG/' -e 's/^constexpr double K_H = .*;      \\/\\/ OPTIMIZE \\[0\\.001, 0\\.999\\]$/constexpr double K_H = 0.6481666654434454;      \\/\\/ OPTIMIZE [0.001, 0.999]/' -e 's/^constexpr short PURCHASE_TURN_LIMIT = .*;  \\/\\/ OPTIMIZE \\[780, 880\\]$/constexpr short PURCHASE_TURN_LIMIT = 880;  \\/\\/ OPTIMIZE [780, 880]/' -e 's/^constexpr int SUBSCORE3_TIGHT_TURN = .*;     \\/\\/ OPTIMIZE \\[0, 2\\]$/constexpr int SUBSCORE3_TIGHT_TURN = 0;     \\/\\/ OPTIMIZE [0, 2]/'\n",
      "g++ 9_main.cpp -std=gnu++17 -O2 -DONLINE_JUDGE -o 9_main.cpp.out 2> /dev/null\n"
     ]
    },
    {
     "name": "stderr",
     "output_type": "stream",
     "text": [
      "\u001b[32m[I 2021-09-10 03:07:54,541]\u001b[0m Trial 93 finished with value: 859188056.0 and parameters: {'K_START': 0.02310742866216719, 'K_END': 0.04829497413730967, 'K_H': 0.6481666654434454, 'PURCHASE_TURN_LIMIT': 880, 'SUBSCORE3_TIGHT_TURN': 0}. Best is trial 71 with value: 908281467.0.\u001b[0m\n"
     ]
    },
    {
     "name": "stdout",
     "output_type": "stream",
     "text": [
      "callback ok\n",
      "index_parallel=10\n",
      "sed -i 10_main.cpp -e 's/^constexpr double K_START = .*;  \\/\\/ OPTIMIZE \\[0\\.02, 0\\.06\\] LOG$/constexpr double K_START = 0.02102556360111433;  \\/\\/ OPTIMIZE [0.02, 0.06] LOG/' -e 's/^constexpr double K_END = .*;   \\/\\/ OPTIMIZE \\[0\\.01, 0\\.05\\] LOG$/constexpr double K_END = 0.04426226353324363;   \\/\\/ OPTIMIZE [0.01, 0.05] LOG/' -e 's/^constexpr double K_H = .*;      \\/\\/ OPTIMIZE \\[0\\.001, 0\\.999\\]$/constexpr double K_H = 0.6781714760736075;      \\/\\/ OPTIMIZE [0.001, 0.999]/' -e 's/^constexpr short PURCHASE_TURN_LIMIT = .*;  \\/\\/ OPTIMIZE \\[780, 880\\]$/constexpr short PURCHASE_TURN_LIMIT = 811;  \\/\\/ OPTIMIZE [780, 880]/' -e 's/^constexpr int SUBSCORE3_TIGHT_TURN = .*;     \\/\\/ OPTIMIZE \\[0, 2\\]$/constexpr int SUBSCORE3_TIGHT_TURN = 0;     \\/\\/ OPTIMIZE [0, 2]/'\n",
      "g++ 10_main.cpp -std=gnu++17 -O2 -DONLINE_JUDGE -o 10_main.cpp.out 2> /dev/null\n"
     ]
    },
    {
     "name": "stderr",
     "output_type": "stream",
     "text": [
      "\u001b[32m[I 2021-09-10 03:11:17,929]\u001b[0m Trial 94 finished with value: 894852079.0 and parameters: {'K_START': 0.02102556360111433, 'K_END': 0.04426226353324363, 'K_H': 0.6781714760736075, 'PURCHASE_TURN_LIMIT': 811, 'SUBSCORE3_TIGHT_TURN': 0}. Best is trial 71 with value: 908281467.0.\u001b[0m\n"
     ]
    },
    {
     "name": "stdout",
     "output_type": "stream",
     "text": [
      "callback ok\n",
      "index_parallel=11\n",
      "sed -i 11_main.cpp -e 's/^constexpr double K_START = .*;  \\/\\/ OPTIMIZE \\[0\\.02, 0\\.06\\] LOG$/constexpr double K_START = 0.02469038483396723;  \\/\\/ OPTIMIZE [0.02, 0.06] LOG/' -e 's/^constexpr double K_END = .*;   \\/\\/ OPTIMIZE \\[0\\.01, 0\\.05\\] LOG$/constexpr double K_END = 0.04193730225855753;   \\/\\/ OPTIMIZE [0.01, 0.05] LOG/' -e 's/^constexpr double K_H = .*;      \\/\\/ OPTIMIZE \\[0\\.001, 0\\.999\\]$/constexpr double K_H = 0.759296498751286;      \\/\\/ OPTIMIZE [0.001, 0.999]/' -e 's/^constexpr short PURCHASE_TURN_LIMIT = .*;  \\/\\/ OPTIMIZE \\[780, 880\\]$/constexpr short PURCHASE_TURN_LIMIT = 818;  \\/\\/ OPTIMIZE [780, 880]/' -e 's/^constexpr int SUBSCORE3_TIGHT_TURN = .*;     \\/\\/ OPTIMIZE \\[0, 2\\]$/constexpr int SUBSCORE3_TIGHT_TURN = 0;     \\/\\/ OPTIMIZE [0, 2]/'\n",
      "g++ 11_main.cpp -std=gnu++17 -O2 -DONLINE_JUDGE -o 11_main.cpp.out 2> /dev/null\n"
     ]
    },
    {
     "name": "stderr",
     "output_type": "stream",
     "text": [
      "\u001b[32m[I 2021-09-10 03:14:54,502]\u001b[0m Trial 95 finished with value: 897225529.0 and parameters: {'K_START': 0.02469038483396723, 'K_END': 0.04193730225855753, 'K_H': 0.759296498751286, 'PURCHASE_TURN_LIMIT': 818, 'SUBSCORE3_TIGHT_TURN': 0}. Best is trial 71 with value: 908281467.0.\u001b[0m\n"
     ]
    },
    {
     "name": "stdout",
     "output_type": "stream",
     "text": [
      "callback ok\n",
      "index_parallel=0\n",
      "sed -i 0_main.cpp -e 's/^constexpr double K_START = .*;  \\/\\/ OPTIMIZE \\[0\\.02, 0\\.06\\] LOG$/constexpr double K_START = 0.02238995345705376;  \\/\\/ OPTIMIZE [0.02, 0.06] LOG/' -e 's/^constexpr double K_END = .*;   \\/\\/ OPTIMIZE \\[0\\.01, 0\\.05\\] LOG$/constexpr double K_END = 0.04615017260313044;   \\/\\/ OPTIMIZE [0.01, 0.05] LOG/' -e 's/^constexpr double K_H = .*;      \\/\\/ OPTIMIZE \\[0\\.001, 0\\.999\\]$/constexpr double K_H = 0.6319290859288067;      \\/\\/ OPTIMIZE [0.001, 0.999]/' -e 's/^constexpr short PURCHASE_TURN_LIMIT = .*;  \\/\\/ OPTIMIZE \\[780, 880\\]$/constexpr short PURCHASE_TURN_LIMIT = 822;  \\/\\/ OPTIMIZE [780, 880]/' -e 's/^constexpr int SUBSCORE3_TIGHT_TURN = .*;     \\/\\/ OPTIMIZE \\[0, 2\\]$/constexpr int SUBSCORE3_TIGHT_TURN = 0;     \\/\\/ OPTIMIZE [0, 2]/'\n",
      "g++ 0_main.cpp -std=gnu++17 -O2 -DONLINE_JUDGE -o 0_main.cpp.out 2> /dev/null\n"
     ]
    },
    {
     "name": "stderr",
     "output_type": "stream",
     "text": [
      "\u001b[32m[I 2021-09-10 03:18:22,050]\u001b[0m Trial 96 finished with value: 899884688.0 and parameters: {'K_START': 0.02238995345705376, 'K_END': 0.04615017260313044, 'K_H': 0.6319290859288067, 'PURCHASE_TURN_LIMIT': 822, 'SUBSCORE3_TIGHT_TURN': 0}. Best is trial 71 with value: 908281467.0.\u001b[0m\n"
     ]
    },
    {
     "name": "stdout",
     "output_type": "stream",
     "text": [
      "callback ok\n",
      "index_parallel=1\n",
      "sed -i 1_main.cpp -e 's/^constexpr double K_START = .*;  \\/\\/ OPTIMIZE \\[0\\.02, 0\\.06\\] LOG$/constexpr double K_START = 0.020391196745071095;  \\/\\/ OPTIMIZE [0.02, 0.06] LOG/' -e 's/^constexpr double K_END = .*;   \\/\\/ OPTIMIZE \\[0\\.01, 0\\.05\\] LOG$/constexpr double K_END = 0.04844228632845984;   \\/\\/ OPTIMIZE [0.01, 0.05] LOG/' -e 's/^constexpr double K_H = .*;      \\/\\/ OPTIMIZE \\[0\\.001, 0\\.999\\]$/constexpr double K_H = 0.595883325853743;      \\/\\/ OPTIMIZE [0.001, 0.999]/' -e 's/^constexpr short PURCHASE_TURN_LIMIT = .*;  \\/\\/ OPTIMIZE \\[780, 880\\]$/constexpr short PURCHASE_TURN_LIMIT = 828;  \\/\\/ OPTIMIZE [780, 880]/' -e 's/^constexpr int SUBSCORE3_TIGHT_TURN = .*;     \\/\\/ OPTIMIZE \\[0, 2\\]$/constexpr int SUBSCORE3_TIGHT_TURN = 0;     \\/\\/ OPTIMIZE [0, 2]/'\n",
      "g++ 1_main.cpp -std=gnu++17 -O2 -DONLINE_JUDGE -o 1_main.cpp.out 2> /dev/null\n"
     ]
    },
    {
     "name": "stderr",
     "output_type": "stream",
     "text": [
      "\u001b[32m[I 2021-09-10 03:21:50,232]\u001b[0m Trial 97 finished with value: 905691877.0 and parameters: {'K_START': 0.020391196745071095, 'K_END': 0.04844228632845984, 'K_H': 0.595883325853743, 'PURCHASE_TURN_LIMIT': 828, 'SUBSCORE3_TIGHT_TURN': 0}. Best is trial 71 with value: 908281467.0.\u001b[0m\n"
     ]
    },
    {
     "name": "stdout",
     "output_type": "stream",
     "text": [
      "callback ok\n",
      "index_parallel=2\n",
      "sed -i 2_main.cpp -e 's/^constexpr double K_START = .*;  \\/\\/ OPTIMIZE \\[0\\.02, 0\\.06\\] LOG$/constexpr double K_START = 0.0204387820904594;  \\/\\/ OPTIMIZE [0.02, 0.06] LOG/' -e 's/^constexpr double K_END = .*;   \\/\\/ OPTIMIZE \\[0\\.01, 0\\.05\\] LOG$/constexpr double K_END = 0.04788707123930524;   \\/\\/ OPTIMIZE [0.01, 0.05] LOG/' -e 's/^constexpr double K_H = .*;      \\/\\/ OPTIMIZE \\[0\\.001, 0\\.999\\]$/constexpr double K_H = 0.4611712744787681;      \\/\\/ OPTIMIZE [0.001, 0.999]/' -e 's/^constexpr short PURCHASE_TURN_LIMIT = .*;  \\/\\/ OPTIMIZE \\[780, 880\\]$/constexpr short PURCHASE_TURN_LIMIT = 833;  \\/\\/ OPTIMIZE [780, 880]/' -e 's/^constexpr int SUBSCORE3_TIGHT_TURN = .*;     \\/\\/ OPTIMIZE \\[0, 2\\]$/constexpr int SUBSCORE3_TIGHT_TURN = 0;     \\/\\/ OPTIMIZE [0, 2]/'\n",
      "g++ 2_main.cpp -std=gnu++17 -O2 -DONLINE_JUDGE -o 2_main.cpp.out 2> /dev/null\n"
     ]
    },
    {
     "name": "stderr",
     "output_type": "stream",
     "text": [
      "\u001b[32m[I 2021-09-10 03:25:20,661]\u001b[0m Trial 98 finished with value: 901423673.0 and parameters: {'K_START': 0.0204387820904594, 'K_END': 0.04788707123930524, 'K_H': 0.4611712744787681, 'PURCHASE_TURN_LIMIT': 833, 'SUBSCORE3_TIGHT_TURN': 0}. Best is trial 71 with value: 908281467.0.\u001b[0m\n"
     ]
    },
    {
     "name": "stdout",
     "output_type": "stream",
     "text": [
      "callback ok\n",
      "index_parallel=3\n",
      "sed -i 3_main.cpp -e 's/^constexpr double K_START = .*;  \\/\\/ OPTIMIZE \\[0\\.02, 0\\.06\\] LOG$/constexpr double K_START = 0.02142346077505086;  \\/\\/ OPTIMIZE [0.02, 0.06] LOG/' -e 's/^constexpr double K_END = .*;   \\/\\/ OPTIMIZE \\[0\\.01, 0\\.05\\] LOG$/constexpr double K_END = 0.03659939126357597;   \\/\\/ OPTIMIZE [0.01, 0.05] LOG/' -e 's/^constexpr double K_H = .*;      \\/\\/ OPTIMIZE \\[0\\.001, 0\\.999\\]$/constexpr double K_H = 0.5829701816652807;      \\/\\/ OPTIMIZE [0.001, 0.999]/' -e 's/^constexpr short PURCHASE_TURN_LIMIT = .*;  \\/\\/ OPTIMIZE \\[780, 880\\]$/constexpr short PURCHASE_TURN_LIMIT = 816;  \\/\\/ OPTIMIZE [780, 880]/' -e 's/^constexpr int SUBSCORE3_TIGHT_TURN = .*;     \\/\\/ OPTIMIZE \\[0, 2\\]$/constexpr int SUBSCORE3_TIGHT_TURN = 0;     \\/\\/ OPTIMIZE [0, 2]/'\n",
      "g++ 3_main.cpp -std=gnu++17 -O2 -DONLINE_JUDGE -o 3_main.cpp.out 2> /dev/null\n"
     ]
    },
    {
     "name": "stderr",
     "output_type": "stream",
     "text": [
      "\u001b[32m[I 2021-09-10 03:28:57,520]\u001b[0m Trial 99 finished with value: 883081068.0 and parameters: {'K_START': 0.02142346077505086, 'K_END': 0.03659939126357597, 'K_H': 0.5829701816652807, 'PURCHASE_TURN_LIMIT': 816, 'SUBSCORE3_TIGHT_TURN': 0}. Best is trial 71 with value: 908281467.0.\u001b[0m\n"
     ]
    },
    {
     "name": "stdout",
     "output_type": "stream",
     "text": [
      "callback ok\n",
      "index_parallel=4\n",
      "sed -i 4_main.cpp -e 's/^constexpr double K_START = .*;  \\/\\/ OPTIMIZE \\[0\\.02, 0\\.06\\] LOG$/constexpr double K_START = 0.02191746301634125;  \\/\\/ OPTIMIZE [0.02, 0.06] LOG/' -e 's/^constexpr double K_END = .*;   \\/\\/ OPTIMIZE \\[0\\.01, 0\\.05\\] LOG$/constexpr double K_END = 0.03928708502905512;   \\/\\/ OPTIMIZE [0.01, 0.05] LOG/' -e 's/^constexpr double K_H = .*;      \\/\\/ OPTIMIZE \\[0\\.001, 0\\.999\\]$/constexpr double K_H = 0.5653206144013834;      \\/\\/ OPTIMIZE [0.001, 0.999]/' -e 's/^constexpr short PURCHASE_TURN_LIMIT = .*;  \\/\\/ OPTIMIZE \\[780, 880\\]$/constexpr short PURCHASE_TURN_LIMIT = 828;  \\/\\/ OPTIMIZE [780, 880]/' -e 's/^constexpr int SUBSCORE3_TIGHT_TURN = .*;     \\/\\/ OPTIMIZE \\[0, 2\\]$/constexpr int SUBSCORE3_TIGHT_TURN = 0;     \\/\\/ OPTIMIZE [0, 2]/'\n",
      "g++ 4_main.cpp -std=gnu++17 -O2 -DONLINE_JUDGE -o 4_main.cpp.out 2> /dev/null\n"
     ]
    },
    {
     "name": "stderr",
     "output_type": "stream",
     "text": [
      "\u001b[32m[I 2021-09-10 03:32:32,928]\u001b[0m Trial 100 finished with value: 895212558.0 and parameters: {'K_START': 0.02191746301634125, 'K_END': 0.03928708502905512, 'K_H': 0.5653206144013834, 'PURCHASE_TURN_LIMIT': 828, 'SUBSCORE3_TIGHT_TURN': 0}. Best is trial 71 with value: 908281467.0.\u001b[0m\n"
     ]
    },
    {
     "name": "stdout",
     "output_type": "stream",
     "text": [
      "callback ok\n",
      "index_parallel=5\n",
      "sed -i 5_main.cpp -e 's/^constexpr double K_START = .*;  \\/\\/ OPTIMIZE \\[0\\.02, 0\\.06\\] LOG$/constexpr double K_START = 0.04339342633394555;  \\/\\/ OPTIMIZE [0.02, 0.06] LOG/' -e 's/^constexpr double K_END = .*;   \\/\\/ OPTIMIZE \\[0\\.01, 0\\.05\\] LOG$/constexpr double K_END = 0.04446193145681512;   \\/\\/ OPTIMIZE [0.01, 0.05] LOG/' -e 's/^constexpr double K_H = .*;      \\/\\/ OPTIMIZE \\[0\\.001, 0\\.999\\]$/constexpr double K_H = 0.5195743483645378;      \\/\\/ OPTIMIZE [0.001, 0.999]/' -e 's/^constexpr short PURCHASE_TURN_LIMIT = .*;  \\/\\/ OPTIMIZE \\[780, 880\\]$/constexpr short PURCHASE_TURN_LIMIT = 825;  \\/\\/ OPTIMIZE [780, 880]/' -e 's/^constexpr int SUBSCORE3_TIGHT_TURN = .*;     \\/\\/ OPTIMIZE \\[0, 2\\]$/constexpr int SUBSCORE3_TIGHT_TURN = 0;     \\/\\/ OPTIMIZE [0, 2]/'\n",
      "g++ 5_main.cpp -std=gnu++17 -O2 -DONLINE_JUDGE -o 5_main.cpp.out 2> /dev/null\n"
     ]
    },
    {
     "name": "stderr",
     "output_type": "stream",
     "text": [
      "\u001b[32m[I 2021-09-10 03:36:00,723]\u001b[0m Trial 101 finished with value: 835575680.0 and parameters: {'K_START': 0.04339342633394555, 'K_END': 0.04446193145681512, 'K_H': 0.5195743483645378, 'PURCHASE_TURN_LIMIT': 825, 'SUBSCORE3_TIGHT_TURN': 0}. Best is trial 71 with value: 908281467.0.\u001b[0m\n"
     ]
    },
    {
     "name": "stdout",
     "output_type": "stream",
     "text": [
      "callback ok\n",
      "index_parallel=6\n",
      "sed -i 6_main.cpp -e 's/^constexpr double K_START = .*;  \\/\\/ OPTIMIZE \\[0\\.02, 0\\.06\\] LOG$/constexpr double K_START = 0.021003835186361796;  \\/\\/ OPTIMIZE [0.02, 0.06] LOG/' -e 's/^constexpr double K_END = .*;   \\/\\/ OPTIMIZE \\[0\\.01, 0\\.05\\] LOG$/constexpr double K_END = 0.0484447736977684;   \\/\\/ OPTIMIZE [0.01, 0.05] LOG/' -e 's/^constexpr double K_H = .*;      \\/\\/ OPTIMIZE \\[0\\.001, 0\\.999\\]$/constexpr double K_H = 0.6020906623406183;      \\/\\/ OPTIMIZE [0.001, 0.999]/' -e 's/^constexpr short PURCHASE_TURN_LIMIT = .*;  \\/\\/ OPTIMIZE \\[780, 880\\]$/constexpr short PURCHASE_TURN_LIMIT = 830;  \\/\\/ OPTIMIZE [780, 880]/' -e 's/^constexpr int SUBSCORE3_TIGHT_TURN = .*;     \\/\\/ OPTIMIZE \\[0, 2\\]$/constexpr int SUBSCORE3_TIGHT_TURN = 0;     \\/\\/ OPTIMIZE [0, 2]/'\n",
      "g++ 6_main.cpp -std=gnu++17 -O2 -DONLINE_JUDGE -o 6_main.cpp.out 2> /dev/null\n"
     ]
    },
    {
     "name": "stderr",
     "output_type": "stream",
     "text": [
      "\u001b[32m[I 2021-09-10 03:39:30,688]\u001b[0m Trial 102 finished with value: 905511881.0 and parameters: {'K_START': 0.021003835186361796, 'K_END': 0.0484447736977684, 'K_H': 0.6020906623406183, 'PURCHASE_TURN_LIMIT': 830, 'SUBSCORE3_TIGHT_TURN': 0}. Best is trial 71 with value: 908281467.0.\u001b[0m\n"
     ]
    },
    {
     "name": "stdout",
     "output_type": "stream",
     "text": [
      "callback ok\n",
      "index_parallel=7\n",
      "sed -i 7_main.cpp -e 's/^constexpr double K_START = .*;  \\/\\/ OPTIMIZE \\[0\\.02, 0\\.06\\] LOG$/constexpr double K_START = 0.020298301153123127;  \\/\\/ OPTIMIZE [0.02, 0.06] LOG/' -e 's/^constexpr double K_END = .*;   \\/\\/ OPTIMIZE \\[0\\.01, 0\\.05\\] LOG$/constexpr double K_END = 0.04990635952636971;   \\/\\/ OPTIMIZE [0.01, 0.05] LOG/' -e 's/^constexpr double K_H = .*;      \\/\\/ OPTIMIZE \\[0\\.001, 0\\.999\\]$/constexpr double K_H = 0.7022139010048758;      \\/\\/ OPTIMIZE [0.001, 0.999]/' -e 's/^constexpr short PURCHASE_TURN_LIMIT = .*;  \\/\\/ OPTIMIZE \\[780, 880\\]$/constexpr short PURCHASE_TURN_LIMIT = 830;  \\/\\/ OPTIMIZE [780, 880]/' -e 's/^constexpr int SUBSCORE3_TIGHT_TURN = .*;     \\/\\/ OPTIMIZE \\[0, 2\\]$/constexpr int SUBSCORE3_TIGHT_TURN = 0;     \\/\\/ OPTIMIZE [0, 2]/'\n",
      "g++ 7_main.cpp -std=gnu++17 -O2 -DONLINE_JUDGE -o 7_main.cpp.out 2> /dev/null\n"
     ]
    },
    {
     "name": "stderr",
     "output_type": "stream",
     "text": [
      "\u001b[32m[I 2021-09-10 03:43:02,419]\u001b[0m Trial 103 finished with value: 905333207.0 and parameters: {'K_START': 0.020298301153123127, 'K_END': 0.04990635952636971, 'K_H': 0.7022139010048758, 'PURCHASE_TURN_LIMIT': 830, 'SUBSCORE3_TIGHT_TURN': 0}. Best is trial 71 with value: 908281467.0.\u001b[0m\n"
     ]
    },
    {
     "name": "stdout",
     "output_type": "stream",
     "text": [
      "callback ok\n",
      "index_parallel=8\n",
      "sed -i 8_main.cpp -e 's/^constexpr double K_START = .*;  \\/\\/ OPTIMIZE \\[0\\.02, 0\\.06\\] LOG$/constexpr double K_START = 0.02107233560622565;  \\/\\/ OPTIMIZE [0.02, 0.06] LOG/' -e 's/^constexpr double K_END = .*;   \\/\\/ OPTIMIZE \\[0\\.01, 0\\.05\\] LOG$/constexpr double K_END = 0.04837330345359281;   \\/\\/ OPTIMIZE [0.01, 0.05] LOG/' -e 's/^constexpr double K_H = .*;      \\/\\/ OPTIMIZE \\[0\\.001, 0\\.999\\]$/constexpr double K_H = 0.6068194837376637;      \\/\\/ OPTIMIZE [0.001, 0.999]/' -e 's/^constexpr short PURCHASE_TURN_LIMIT = .*;  \\/\\/ OPTIMIZE \\[780, 880\\]$/constexpr short PURCHASE_TURN_LIMIT = 836;  \\/\\/ OPTIMIZE [780, 880]/' -e 's/^constexpr int SUBSCORE3_TIGHT_TURN = .*;     \\/\\/ OPTIMIZE \\[0, 2\\]$/constexpr int SUBSCORE3_TIGHT_TURN = 0;     \\/\\/ OPTIMIZE [0, 2]/'\n",
      "g++ 8_main.cpp -std=gnu++17 -O2 -DONLINE_JUDGE -o 8_main.cpp.out 2> /dev/null\n"
     ]
    },
    {
     "name": "stderr",
     "output_type": "stream",
     "text": [
      "\u001b[32m[I 2021-09-10 03:46:49,749]\u001b[0m Trial 104 finished with value: 903435035.0 and parameters: {'K_START': 0.02107233560622565, 'K_END': 0.04837330345359281, 'K_H': 0.6068194837376637, 'PURCHASE_TURN_LIMIT': 836, 'SUBSCORE3_TIGHT_TURN': 0}. Best is trial 71 with value: 908281467.0.\u001b[0m\n"
     ]
    },
    {
     "name": "stdout",
     "output_type": "stream",
     "text": [
      "callback ok\n",
      "index_parallel=9\n",
      "sed -i 9_main.cpp -e 's/^constexpr double K_START = .*;  \\/\\/ OPTIMIZE \\[0\\.02, 0\\.06\\] LOG$/constexpr double K_START = 0.023684651315285833;  \\/\\/ OPTIMIZE [0.02, 0.06] LOG/' -e 's/^constexpr double K_END = .*;   \\/\\/ OPTIMIZE \\[0\\.01, 0\\.05\\] LOG$/constexpr double K_END = 0.04652107876916136;   \\/\\/ OPTIMIZE [0.01, 0.05] LOG/' -e 's/^constexpr double K_H = .*;      \\/\\/ OPTIMIZE \\[0\\.001, 0\\.999\\]$/constexpr double K_H = 0.6676996005319429;      \\/\\/ OPTIMIZE [0.001, 0.999]/' -e 's/^constexpr short PURCHASE_TURN_LIMIT = .*;  \\/\\/ OPTIMIZE \\[780, 880\\]$/constexpr short PURCHASE_TURN_LIMIT = 828;  \\/\\/ OPTIMIZE [780, 880]/' -e 's/^constexpr int SUBSCORE3_TIGHT_TURN = .*;     \\/\\/ OPTIMIZE \\[0, 2\\]$/constexpr int SUBSCORE3_TIGHT_TURN = 0;     \\/\\/ OPTIMIZE [0, 2]/'\n",
      "g++ 9_main.cpp -std=gnu++17 -O2 -DONLINE_JUDGE -o 9_main.cpp.out 2> /dev/null\n"
     ]
    },
    {
     "name": "stderr",
     "output_type": "stream",
     "text": [
      "\u001b[32m[I 2021-09-10 03:50:24,518]\u001b[0m Trial 105 finished with value: 905737837.0 and parameters: {'K_START': 0.023684651315285833, 'K_END': 0.04652107876916136, 'K_H': 0.6676996005319429, 'PURCHASE_TURN_LIMIT': 828, 'SUBSCORE3_TIGHT_TURN': 0}. Best is trial 71 with value: 908281467.0.\u001b[0m\n"
     ]
    },
    {
     "name": "stdout",
     "output_type": "stream",
     "text": [
      "callback ok\n",
      "index_parallel=10\n",
      "sed -i 10_main.cpp -e 's/^constexpr double K_START = .*;  \\/\\/ OPTIMIZE \\[0\\.02, 0\\.06\\] LOG$/constexpr double K_START = 0.02374431554918074;  \\/\\/ OPTIMIZE [0.02, 0.06] LOG/' -e 's/^constexpr double K_END = .*;   \\/\\/ OPTIMIZE \\[0\\.01, 0\\.05\\] LOG$/constexpr double K_END = 0.042972155804894836;   \\/\\/ OPTIMIZE [0.01, 0.05] LOG/' -e 's/^constexpr double K_H = .*;      \\/\\/ OPTIMIZE \\[0\\.001, 0\\.999\\]$/constexpr double K_H = 0.5954143483764675;      \\/\\/ OPTIMIZE [0.001, 0.999]/' -e 's/^constexpr short PURCHASE_TURN_LIMIT = .*;  \\/\\/ OPTIMIZE \\[780, 880\\]$/constexpr short PURCHASE_TURN_LIMIT = 827;  \\/\\/ OPTIMIZE [780, 880]/' -e 's/^constexpr int SUBSCORE3_TIGHT_TURN = .*;     \\/\\/ OPTIMIZE \\[0, 2\\]$/constexpr int SUBSCORE3_TIGHT_TURN = 0;     \\/\\/ OPTIMIZE [0, 2]/'\n",
      "g++ 10_main.cpp -std=gnu++17 -O2 -DONLINE_JUDGE -o 10_main.cpp.out 2> /dev/null\n",
      "^C\n"
     ]
    },
    {
     "name": "stderr",
     "output_type": "stream",
     "text": [
      "\u001b[32m[I 2021-09-10 03:50:33,701]\u001b[0m Trial 106 finished with value: 17916787.0 and parameters: {'K_START': 0.02374431554918074, 'K_END': 0.042972155804894836, 'K_H': 0.5954143483764675, 'PURCHASE_TURN_LIMIT': 827, 'SUBSCORE3_TIGHT_TURN': 0}. Best is trial 71 with value: 908281467.0.\u001b[0m\n"
     ]
    },
    {
     "name": "stdout",
     "output_type": "stream",
     "text": [
      "callback ok\n",
      "index_parallel=11\n"
     ]
    },
    {
     "ename": "KeyboardInterrupt",
     "evalue": "",
     "output_type": "error",
     "traceback": [
      "\u001b[0;31m---------------------------------------------------------------------------\u001b[0m",
      "\u001b[0;31mKeyboardInterrupt\u001b[0m                         Traceback (most recent call last)",
      "\u001b[0;32m<ipython-input-11-19230d185156>\u001b[0m in \u001b[0;36m<module>\u001b[0;34m\u001b[0m\n\u001b[1;32m     16\u001b[0m \u001b[0;34m\u001b[0m\u001b[0m\n\u001b[1;32m     17\u001b[0m \u001b[0mobjective\u001b[0m \u001b[0;34m=\u001b[0m \u001b[0mpartial\u001b[0m\u001b[0;34m(\u001b[0m\u001b[0mobjective_with_index\u001b[0m\u001b[0;34m,\u001b[0m \u001b[0mn_internal_parallel\u001b[0m\u001b[0;34m=\u001b[0m\u001b[0;36m4\u001b[0m\u001b[0;34m)\u001b[0m\u001b[0;34m\u001b[0m\u001b[0;34m\u001b[0m\u001b[0m\n\u001b[0;32m---> 18\u001b[0;31m \u001b[0mstudy\u001b[0m\u001b[0;34m.\u001b[0m\u001b[0moptimize\u001b[0m\u001b[0;34m(\u001b[0m\u001b[0mobjective\u001b[0m\u001b[0;34m,\u001b[0m \u001b[0mn_trials\u001b[0m\u001b[0;34m=\u001b[0m\u001b[0;36m3000\u001b[0m\u001b[0;34m,\u001b[0m \u001b[0mtimeout\u001b[0m\u001b[0;34m=\u001b[0m\u001b[0;36m86400\u001b[0m\u001b[0;34m,\u001b[0m \u001b[0mn_jobs\u001b[0m\u001b[0;34m=\u001b[0m\u001b[0;36m1\u001b[0m\u001b[0;34m,\u001b[0m \u001b[0mcallbacks\u001b[0m\u001b[0;34m=\u001b[0m\u001b[0;34m[\u001b[0m\u001b[0mcallback\u001b[0m\u001b[0;34m]\u001b[0m\u001b[0;34m)\u001b[0m\u001b[0;34m\u001b[0m\u001b[0;34m\u001b[0m\u001b[0m\n\u001b[0m",
      "\u001b[0;32m~/anaconda3/lib/python3.8/site-packages/optuna/study/study.py\u001b[0m in \u001b[0;36moptimize\u001b[0;34m(self, func, n_trials, timeout, n_jobs, catch, callbacks, gc_after_trial, show_progress_bar)\u001b[0m\n\u001b[1;32m    398\u001b[0m             )\n\u001b[1;32m    399\u001b[0m \u001b[0;34m\u001b[0m\u001b[0m\n\u001b[0;32m--> 400\u001b[0;31m         _optimize(\n\u001b[0m\u001b[1;32m    401\u001b[0m             \u001b[0mstudy\u001b[0m\u001b[0;34m=\u001b[0m\u001b[0mself\u001b[0m\u001b[0;34m,\u001b[0m\u001b[0;34m\u001b[0m\u001b[0;34m\u001b[0m\u001b[0m\n\u001b[1;32m    402\u001b[0m             \u001b[0mfunc\u001b[0m\u001b[0;34m=\u001b[0m\u001b[0mfunc\u001b[0m\u001b[0;34m,\u001b[0m\u001b[0;34m\u001b[0m\u001b[0;34m\u001b[0m\u001b[0m\n",
      "\u001b[0;32m~/anaconda3/lib/python3.8/site-packages/optuna/study/_optimize.py\u001b[0m in \u001b[0;36m_optimize\u001b[0;34m(study, func, n_trials, timeout, n_jobs, catch, callbacks, gc_after_trial, show_progress_bar)\u001b[0m\n\u001b[1;32m     64\u001b[0m     \u001b[0;32mtry\u001b[0m\u001b[0;34m:\u001b[0m\u001b[0;34m\u001b[0m\u001b[0;34m\u001b[0m\u001b[0m\n\u001b[1;32m     65\u001b[0m         \u001b[0;32mif\u001b[0m \u001b[0mn_jobs\u001b[0m \u001b[0;34m==\u001b[0m \u001b[0;36m1\u001b[0m\u001b[0;34m:\u001b[0m\u001b[0;34m\u001b[0m\u001b[0;34m\u001b[0m\u001b[0m\n\u001b[0;32m---> 66\u001b[0;31m             _optimize_sequential(\n\u001b[0m\u001b[1;32m     67\u001b[0m                 \u001b[0mstudy\u001b[0m\u001b[0;34m,\u001b[0m\u001b[0;34m\u001b[0m\u001b[0;34m\u001b[0m\u001b[0m\n\u001b[1;32m     68\u001b[0m                 \u001b[0mfunc\u001b[0m\u001b[0;34m,\u001b[0m\u001b[0;34m\u001b[0m\u001b[0;34m\u001b[0m\u001b[0m\n",
      "\u001b[0;32m~/anaconda3/lib/python3.8/site-packages/optuna/study/_optimize.py\u001b[0m in \u001b[0;36m_optimize_sequential\u001b[0;34m(study, func, n_trials, timeout, catch, callbacks, gc_after_trial, reseed_sampler_rng, time_start, progress_bar)\u001b[0m\n\u001b[1;32m    161\u001b[0m \u001b[0;34m\u001b[0m\u001b[0m\n\u001b[1;32m    162\u001b[0m         \u001b[0;32mtry\u001b[0m\u001b[0;34m:\u001b[0m\u001b[0;34m\u001b[0m\u001b[0;34m\u001b[0m\u001b[0m\n\u001b[0;32m--> 163\u001b[0;31m             \u001b[0mtrial\u001b[0m \u001b[0;34m=\u001b[0m \u001b[0m_run_trial\u001b[0m\u001b[0;34m(\u001b[0m\u001b[0mstudy\u001b[0m\u001b[0;34m,\u001b[0m \u001b[0mfunc\u001b[0m\u001b[0;34m,\u001b[0m \u001b[0mcatch\u001b[0m\u001b[0;34m)\u001b[0m\u001b[0;34m\u001b[0m\u001b[0;34m\u001b[0m\u001b[0m\n\u001b[0m\u001b[1;32m    164\u001b[0m         \u001b[0;32mexcept\u001b[0m \u001b[0mException\u001b[0m\u001b[0;34m:\u001b[0m\u001b[0;34m\u001b[0m\u001b[0;34m\u001b[0m\u001b[0m\n\u001b[1;32m    165\u001b[0m             \u001b[0;32mraise\u001b[0m\u001b[0;34m\u001b[0m\u001b[0;34m\u001b[0m\u001b[0m\n",
      "\u001b[0;32m~/anaconda3/lib/python3.8/site-packages/optuna/study/_optimize.py\u001b[0m in \u001b[0;36m_run_trial\u001b[0;34m(study, func, catch)\u001b[0m\n\u001b[1;32m    211\u001b[0m \u001b[0;34m\u001b[0m\u001b[0m\n\u001b[1;32m    212\u001b[0m     \u001b[0;32mtry\u001b[0m\u001b[0;34m:\u001b[0m\u001b[0;34m\u001b[0m\u001b[0;34m\u001b[0m\u001b[0m\n\u001b[0;32m--> 213\u001b[0;31m         \u001b[0mvalue_or_values\u001b[0m \u001b[0;34m=\u001b[0m \u001b[0mfunc\u001b[0m\u001b[0;34m(\u001b[0m\u001b[0mtrial\u001b[0m\u001b[0;34m)\u001b[0m\u001b[0;34m\u001b[0m\u001b[0;34m\u001b[0m\u001b[0m\n\u001b[0m\u001b[1;32m    214\u001b[0m     \u001b[0;32mexcept\u001b[0m \u001b[0mexceptions\u001b[0m\u001b[0;34m.\u001b[0m\u001b[0mTrialPruned\u001b[0m \u001b[0;32mas\u001b[0m \u001b[0me\u001b[0m\u001b[0;34m:\u001b[0m\u001b[0;34m\u001b[0m\u001b[0;34m\u001b[0m\u001b[0m\n\u001b[1;32m    215\u001b[0m         \u001b[0;31m# TODO(mamu): Handle multi-objective cases.\u001b[0m\u001b[0;34m\u001b[0m\u001b[0;34m\u001b[0m\u001b[0;34m\u001b[0m\u001b[0m\n",
      "\u001b[0;32m<ipython-input-10-57aee6406012>\u001b[0m in \u001b[0;36mobjective_with_index\u001b[0;34m(trial, n_internal_parallel)\u001b[0m\n\u001b[1;32m     30\u001b[0m         \u001b[0mleft\u001b[0m \u001b[0;34m=\u001b[0m \u001b[0mvariable\u001b[0m\u001b[0;34m[\u001b[0m\u001b[0;34m\"left\"\u001b[0m\u001b[0;34m]\u001b[0m\u001b[0;34m\u001b[0m\u001b[0;34m\u001b[0m\u001b[0m\n\u001b[1;32m     31\u001b[0m         \u001b[0mright\u001b[0m \u001b[0;34m=\u001b[0m \u001b[0mvariable\u001b[0m\u001b[0;34m[\u001b[0m\u001b[0;34m\"right\"\u001b[0m\u001b[0;34m]\u001b[0m\u001b[0;34m\u001b[0m\u001b[0;34m\u001b[0m\u001b[0m\n\u001b[0;32m---> 32\u001b[0;31m         \u001b[0msed_options\u001b[0m\u001b[0;34m.\u001b[0m\u001b[0mappend\u001b[0m\u001b[0;34m(\u001b[0m\u001b[0;34mf\"\"\"-e 's/^{escape(left)}.*{escape(right)}$/{escape_sed(left)}{val}{escape_sed(right)}/'\"\"\"\u001b[0m\u001b[0;34m)\u001b[0m\u001b[0;34m\u001b[0m\u001b[0;34m\u001b[0m\u001b[0m\n\u001b[0m\u001b[1;32m     33\u001b[0m     \u001b[0mcommand_sed\u001b[0m \u001b[0;34m=\u001b[0m \u001b[0;34mf\"sed {' '.join(sed_options)}\"\u001b[0m\u001b[0;34m\u001b[0m\u001b[0;34m\u001b[0m\u001b[0m\n\u001b[1;32m     34\u001b[0m     \u001b[0mprint\u001b[0m\u001b[0;34m(\u001b[0m\u001b[0mcommand_sed\u001b[0m\u001b[0;34m)\u001b[0m\u001b[0;34m\u001b[0m\u001b[0;34m\u001b[0m\u001b[0m\n",
      "\u001b[0;32m<ipython-input-10-57aee6406012>\u001b[0m in \u001b[0;36mescape\u001b[0;34m(string)\u001b[0m\n\u001b[1;32m      1\u001b[0m \u001b[0;32mdef\u001b[0m \u001b[0mescape\u001b[0m\u001b[0;34m(\u001b[0m\u001b[0mstring\u001b[0m\u001b[0;34m)\u001b[0m\u001b[0;34m:\u001b[0m  \u001b[0;31m# 正規表現の中でそのまま使いたい文字列をエスケープ\u001b[0m\u001b[0;34m\u001b[0m\u001b[0;34m\u001b[0m\u001b[0m\n\u001b[0;32m----> 2\u001b[0;31m     \u001b[0mres\u001b[0m \u001b[0;34m=\u001b[0m \u001b[0mget_ipython\u001b[0m\u001b[0;34m(\u001b[0m\u001b[0;34m)\u001b[0m\u001b[0;34m.\u001b[0m\u001b[0mgetoutput\u001b[0m\u001b[0;34m(\u001b[0m\u001b[0;34m\"echo '{string}' | sed -e 's/[]\\\\/$*.^[]/\\\\\\\\&/g'\"\u001b[0m\u001b[0;34m)\u001b[0m\u001b[0;34m\u001b[0m\u001b[0;34m\u001b[0m\u001b[0m\n\u001b[0m\u001b[1;32m      3\u001b[0m     \u001b[0;32mreturn\u001b[0m \u001b[0mres\u001b[0m\u001b[0;34m[\u001b[0m\u001b[0;36m0\u001b[0m\u001b[0;34m]\u001b[0m\u001b[0;34m\u001b[0m\u001b[0;34m\u001b[0m\u001b[0m\n\u001b[1;32m      4\u001b[0m \u001b[0;34m\u001b[0m\u001b[0m\n\u001b[1;32m      5\u001b[0m \u001b[0;32mdef\u001b[0m \u001b[0mescape_sed\u001b[0m\u001b[0;34m(\u001b[0m\u001b[0mstring\u001b[0m\u001b[0;34m)\u001b[0m\u001b[0;34m:\u001b[0m  \u001b[0;31m# sed の置換後の文字列用のエスケープ\u001b[0m\u001b[0;34m\u001b[0m\u001b[0;34m\u001b[0m\u001b[0m\n",
      "\u001b[0;32m~/anaconda3/lib/python3.8/site-packages/IPython/core/interactiveshell.py\u001b[0m in \u001b[0;36mgetoutput\u001b[0;34m(self, cmd, split, depth)\u001b[0m\n\u001b[1;32m   2567\u001b[0m             \u001b[0;31m# this is *far* from a rigorous test\u001b[0m\u001b[0;34m\u001b[0m\u001b[0;34m\u001b[0m\u001b[0;34m\u001b[0m\u001b[0m\n\u001b[1;32m   2568\u001b[0m             \u001b[0;32mraise\u001b[0m \u001b[0mOSError\u001b[0m\u001b[0;34m(\u001b[0m\u001b[0;34m\"Background processes not supported.\"\u001b[0m\u001b[0;34m)\u001b[0m\u001b[0;34m\u001b[0m\u001b[0;34m\u001b[0m\u001b[0m\n\u001b[0;32m-> 2569\u001b[0;31m         \u001b[0mout\u001b[0m \u001b[0;34m=\u001b[0m \u001b[0mgetoutput\u001b[0m\u001b[0;34m(\u001b[0m\u001b[0mself\u001b[0m\u001b[0;34m.\u001b[0m\u001b[0mvar_expand\u001b[0m\u001b[0;34m(\u001b[0m\u001b[0mcmd\u001b[0m\u001b[0;34m,\u001b[0m \u001b[0mdepth\u001b[0m\u001b[0;34m=\u001b[0m\u001b[0mdepth\u001b[0m\u001b[0;34m+\u001b[0m\u001b[0;36m1\u001b[0m\u001b[0;34m)\u001b[0m\u001b[0;34m)\u001b[0m\u001b[0;34m\u001b[0m\u001b[0;34m\u001b[0m\u001b[0m\n\u001b[0m\u001b[1;32m   2570\u001b[0m         \u001b[0;32mif\u001b[0m \u001b[0msplit\u001b[0m\u001b[0;34m:\u001b[0m\u001b[0;34m\u001b[0m\u001b[0;34m\u001b[0m\u001b[0m\n\u001b[1;32m   2571\u001b[0m             \u001b[0mout\u001b[0m \u001b[0;34m=\u001b[0m \u001b[0mSList\u001b[0m\u001b[0;34m(\u001b[0m\u001b[0mout\u001b[0m\u001b[0;34m.\u001b[0m\u001b[0msplitlines\u001b[0m\u001b[0;34m(\u001b[0m\u001b[0;34m)\u001b[0m\u001b[0;34m)\u001b[0m\u001b[0;34m\u001b[0m\u001b[0;34m\u001b[0m\u001b[0m\n",
      "\u001b[0;32m~/anaconda3/lib/python3.8/site-packages/IPython/utils/_process_common.py\u001b[0m in \u001b[0;36mgetoutput\u001b[0;34m(cmd)\u001b[0m\n\u001b[1;32m    128\u001b[0m     correct order as would be seen if running the command in a terminal).\n\u001b[1;32m    129\u001b[0m     \"\"\"\n\u001b[0;32m--> 130\u001b[0;31m     \u001b[0mout\u001b[0m \u001b[0;34m=\u001b[0m \u001b[0mprocess_handler\u001b[0m\u001b[0;34m(\u001b[0m\u001b[0mcmd\u001b[0m\u001b[0;34m,\u001b[0m \u001b[0;32mlambda\u001b[0m \u001b[0mp\u001b[0m\u001b[0;34m:\u001b[0m \u001b[0mp\u001b[0m\u001b[0;34m.\u001b[0m\u001b[0mcommunicate\u001b[0m\u001b[0;34m(\u001b[0m\u001b[0;34m)\u001b[0m\u001b[0;34m[\u001b[0m\u001b[0;36m0\u001b[0m\u001b[0;34m]\u001b[0m\u001b[0;34m,\u001b[0m \u001b[0msubprocess\u001b[0m\u001b[0;34m.\u001b[0m\u001b[0mSTDOUT\u001b[0m\u001b[0;34m)\u001b[0m\u001b[0;34m\u001b[0m\u001b[0;34m\u001b[0m\u001b[0m\n\u001b[0m\u001b[1;32m    131\u001b[0m     \u001b[0;32mif\u001b[0m \u001b[0mout\u001b[0m \u001b[0;32mis\u001b[0m \u001b[0;32mNone\u001b[0m\u001b[0;34m:\u001b[0m\u001b[0;34m\u001b[0m\u001b[0;34m\u001b[0m\u001b[0m\n\u001b[1;32m    132\u001b[0m         \u001b[0;32mreturn\u001b[0m \u001b[0;34m''\u001b[0m\u001b[0;34m\u001b[0m\u001b[0;34m\u001b[0m\u001b[0m\n",
      "\u001b[0;32m~/anaconda3/lib/python3.8/site-packages/IPython/utils/_process_common.py\u001b[0m in \u001b[0;36mprocess_handler\u001b[0;34m(cmd, callback, stderr)\u001b[0m\n\u001b[1;32m     67\u001b[0m     \u001b[0mThe\u001b[0m \u001b[0;32mreturn\u001b[0m \u001b[0mvalue\u001b[0m \u001b[0mof\u001b[0m \u001b[0mthe\u001b[0m \u001b[0mprovided\u001b[0m \u001b[0mcallback\u001b[0m \u001b[0;32mis\u001b[0m \u001b[0mreturned\u001b[0m\u001b[0;34m.\u001b[0m\u001b[0;34m\u001b[0m\u001b[0;34m\u001b[0m\u001b[0m\n\u001b[1;32m     68\u001b[0m     \"\"\"\n\u001b[0;32m---> 69\u001b[0;31m     \u001b[0msys\u001b[0m\u001b[0;34m.\u001b[0m\u001b[0mstdout\u001b[0m\u001b[0;34m.\u001b[0m\u001b[0mflush\u001b[0m\u001b[0;34m(\u001b[0m\u001b[0;34m)\u001b[0m\u001b[0;34m\u001b[0m\u001b[0;34m\u001b[0m\u001b[0m\n\u001b[0m\u001b[1;32m     70\u001b[0m     \u001b[0msys\u001b[0m\u001b[0;34m.\u001b[0m\u001b[0mstderr\u001b[0m\u001b[0;34m.\u001b[0m\u001b[0mflush\u001b[0m\u001b[0;34m(\u001b[0m\u001b[0;34m)\u001b[0m\u001b[0;34m\u001b[0m\u001b[0;34m\u001b[0m\u001b[0m\n\u001b[1;32m     71\u001b[0m     \u001b[0;31m# On win32, close_fds can't be true when using pipes for stdin/out/err\u001b[0m\u001b[0;34m\u001b[0m\u001b[0;34m\u001b[0m\u001b[0;34m\u001b[0m\u001b[0m\n",
      "\u001b[0;32m~/anaconda3/lib/python3.8/site-packages/ipykernel/iostream.py\u001b[0m in \u001b[0;36mflush\u001b[0;34m(self)\u001b[0m\n\u001b[1;32m    350\u001b[0m                 \u001b[0mself\u001b[0m\u001b[0;34m.\u001b[0m\u001b[0mpub_thread\u001b[0m\u001b[0;34m.\u001b[0m\u001b[0mschedule\u001b[0m\u001b[0;34m(\u001b[0m\u001b[0mevt\u001b[0m\u001b[0;34m.\u001b[0m\u001b[0mset\u001b[0m\u001b[0;34m)\u001b[0m\u001b[0;34m\u001b[0m\u001b[0;34m\u001b[0m\u001b[0m\n\u001b[1;32m    351\u001b[0m                 \u001b[0;31m# and give a timeout to avoid\u001b[0m\u001b[0;34m\u001b[0m\u001b[0;34m\u001b[0m\u001b[0;34m\u001b[0m\u001b[0m\n\u001b[0;32m--> 352\u001b[0;31m                 \u001b[0;32mif\u001b[0m \u001b[0;32mnot\u001b[0m \u001b[0mevt\u001b[0m\u001b[0;34m.\u001b[0m\u001b[0mwait\u001b[0m\u001b[0;34m(\u001b[0m\u001b[0mself\u001b[0m\u001b[0;34m.\u001b[0m\u001b[0mflush_timeout\u001b[0m\u001b[0;34m)\u001b[0m\u001b[0;34m:\u001b[0m\u001b[0;34m\u001b[0m\u001b[0;34m\u001b[0m\u001b[0m\n\u001b[0m\u001b[1;32m    353\u001b[0m                     \u001b[0;31m# write directly to __stderr__ instead of warning because\u001b[0m\u001b[0;34m\u001b[0m\u001b[0;34m\u001b[0m\u001b[0;34m\u001b[0m\u001b[0m\n\u001b[1;32m    354\u001b[0m                     \u001b[0;31m# if this is happening sys.stderr may be the problem.\u001b[0m\u001b[0;34m\u001b[0m\u001b[0;34m\u001b[0m\u001b[0;34m\u001b[0m\u001b[0m\n",
      "\u001b[0;32m~/anaconda3/lib/python3.8/threading.py\u001b[0m in \u001b[0;36mwait\u001b[0;34m(self, timeout)\u001b[0m\n\u001b[1;32m    556\u001b[0m             \u001b[0msignaled\u001b[0m \u001b[0;34m=\u001b[0m \u001b[0mself\u001b[0m\u001b[0;34m.\u001b[0m\u001b[0m_flag\u001b[0m\u001b[0;34m\u001b[0m\u001b[0;34m\u001b[0m\u001b[0m\n\u001b[1;32m    557\u001b[0m             \u001b[0;32mif\u001b[0m \u001b[0;32mnot\u001b[0m \u001b[0msignaled\u001b[0m\u001b[0;34m:\u001b[0m\u001b[0;34m\u001b[0m\u001b[0;34m\u001b[0m\u001b[0m\n\u001b[0;32m--> 558\u001b[0;31m                 \u001b[0msignaled\u001b[0m \u001b[0;34m=\u001b[0m \u001b[0mself\u001b[0m\u001b[0;34m.\u001b[0m\u001b[0m_cond\u001b[0m\u001b[0;34m.\u001b[0m\u001b[0mwait\u001b[0m\u001b[0;34m(\u001b[0m\u001b[0mtimeout\u001b[0m\u001b[0;34m)\u001b[0m\u001b[0;34m\u001b[0m\u001b[0;34m\u001b[0m\u001b[0m\n\u001b[0m\u001b[1;32m    559\u001b[0m             \u001b[0;32mreturn\u001b[0m \u001b[0msignaled\u001b[0m\u001b[0;34m\u001b[0m\u001b[0;34m\u001b[0m\u001b[0m\n\u001b[1;32m    560\u001b[0m \u001b[0;34m\u001b[0m\u001b[0m\n",
      "\u001b[0;32m~/anaconda3/lib/python3.8/threading.py\u001b[0m in \u001b[0;36mwait\u001b[0;34m(self, timeout)\u001b[0m\n\u001b[1;32m    304\u001b[0m             \u001b[0;32melse\u001b[0m\u001b[0;34m:\u001b[0m\u001b[0;34m\u001b[0m\u001b[0;34m\u001b[0m\u001b[0m\n\u001b[1;32m    305\u001b[0m                 \u001b[0;32mif\u001b[0m \u001b[0mtimeout\u001b[0m \u001b[0;34m>\u001b[0m \u001b[0;36m0\u001b[0m\u001b[0;34m:\u001b[0m\u001b[0;34m\u001b[0m\u001b[0;34m\u001b[0m\u001b[0m\n\u001b[0;32m--> 306\u001b[0;31m                     \u001b[0mgotit\u001b[0m \u001b[0;34m=\u001b[0m \u001b[0mwaiter\u001b[0m\u001b[0;34m.\u001b[0m\u001b[0macquire\u001b[0m\u001b[0;34m(\u001b[0m\u001b[0;32mTrue\u001b[0m\u001b[0;34m,\u001b[0m \u001b[0mtimeout\u001b[0m\u001b[0;34m)\u001b[0m\u001b[0;34m\u001b[0m\u001b[0;34m\u001b[0m\u001b[0m\n\u001b[0m\u001b[1;32m    307\u001b[0m                 \u001b[0;32melse\u001b[0m\u001b[0;34m:\u001b[0m\u001b[0;34m\u001b[0m\u001b[0;34m\u001b[0m\u001b[0m\n\u001b[1;32m    308\u001b[0m                     \u001b[0mgotit\u001b[0m \u001b[0;34m=\u001b[0m \u001b[0mwaiter\u001b[0m\u001b[0;34m.\u001b[0m\u001b[0macquire\u001b[0m\u001b[0;34m(\u001b[0m\u001b[0;32mFalse\u001b[0m\u001b[0;34m)\u001b[0m\u001b[0;34m\u001b[0m\u001b[0;34m\u001b[0m\u001b[0m\n",
      "\u001b[0;31mKeyboardInterrupt\u001b[0m: "
     ]
    }
   ],
   "source": [
    "storage_path = f\"study.db\"\n",
    "storage = f\"sqlite:///{storage_path}\"\n",
    "study_name = \"study\"\n",
    "study = optuna.create_study(storage=storage, load_if_exists=True, study_name=study_name, direction=\"maximize\")\n",
    "\n",
    "def callback(study, trial):\n",
    "    try:\n",
    "        if study.best_value == trial.value:\n",
    "            print(f\"Updated! {study.best_value}\")\n",
    "            index_parallel = trial.number % 12\n",
    "            parameters_changed_filename = f\"{index_parallel}_{FILENAME}\"\n",
    "            !cp {parameters_changed_filename} 00000optimized.cpp\n",
    "        print(\"callback ok\")\n",
    "    except:\n",
    "        print(\":(\")\n",
    "\n",
    "objective = partial(objective_with_index, n_internal_parallel=4)\n",
    "study.optimize(objective, n_trials=3000, timeout=86400, n_jobs=1, callbacks=[callback])"
   ]
  },
  {
   "cell_type": "code",
   "execution_count": null,
   "id": "23ad5926",
   "metadata": {},
   "outputs": [],
   "source": []
  }
 ],
 "metadata": {
  "kernelspec": {
   "display_name": "Python 3",
   "language": "python",
   "name": "python3"
  },
  "language_info": {
   "codemirror_mode": {
    "name": "ipython",
    "version": 3
   },
   "file_extension": ".py",
   "mimetype": "text/x-python",
   "name": "python",
   "nbconvert_exporter": "python",
   "pygments_lexer": "ipython3",
   "version": "3.8.8"
  }
 },
 "nbformat": 4,
 "nbformat_minor": 5
}
