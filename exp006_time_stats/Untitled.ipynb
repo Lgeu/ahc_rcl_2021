{
 "cells": [
  {
   "cell_type": "code",
   "execution_count": 1,
   "id": "13213923",
   "metadata": {},
   "outputs": [],
   "source": [
    "import re\n",
    "import sys\n",
    "from time import time, sleep\n",
    "from pprint import pprint\n",
    "from functools import partial\n",
    "from multiprocessing import Pool\n",
    "\n",
    "import numpy as np\n",
    "import pandas as pd\n",
    "import optuna\n",
    "import matplotlib.pyplot as plt\n",
    "\n",
    "FILENAME = \"main.cpp\""
   ]
  },
  {
   "cell_type": "code",
   "execution_count": 2,
   "id": "88c9839c",
   "metadata": {},
   "outputs": [],
   "source": [
    "!cp ../answer/main.cpp ./{FILENAME}"
   ]
  },
  {
   "cell_type": "code",
   "execution_count": 3,
   "id": "e4b2c637",
   "metadata": {
    "scrolled": true
   },
   "outputs": [
    {
     "name": "stdout",
     "output_type": "stream",
     "text": [
      "\u001b[01m\u001b[Kmain.cpp:49:\u001b[m\u001b[K \u001b[01;35m\u001b[Kwarning: \u001b[m\u001b[Kignoring #pragma clang attribute [\u001b[01;35m\u001b[K-Wunknown-pragmas\u001b[m\u001b[K]\n",
      "   49 | #pragma clang attribute push (__attribute__((target(\"arch=skylake\"))),apply_to=function)\n",
      "      | \n",
      "\u001b[01m\u001b[Kmain.cpp:1463:\u001b[m\u001b[K \u001b[01;35m\u001b[Kwarning: \u001b[m\u001b[Kignoring #pragma clang attribute [\u001b[01;35m\u001b[K-Wunknown-pragmas\u001b[m\u001b[K]\n",
      " 1463 | #pragma clang attribute pop\n",
      "      | \n",
      "\u001b[01m\u001b[Kmain.cpp:\u001b[m\u001b[K In function ‘\u001b[01m\u001b[Kvoid globals::UpdateValueTable()\u001b[m\u001b[K’:\n",
      "\u001b[01m\u001b[Kmain.cpp:857:15:\u001b[m\u001b[K \u001b[01;35m\u001b[Kwarning: \u001b[m\u001b[Kunused variable ‘\u001b[01m\u001b[Kvm\u001b[m\u001b[K’ [\u001b[01;35m\u001b[K-Wunused-variable\u001b[m\u001b[K]\n",
      "  857 |   const auto& \u001b[01;35m\u001b[Kvm\u001b[m\u001b[K = v_modified[idx_RCSEV];\n",
      "      |               \u001b[01;35m\u001b[K^~\u001b[m\u001b[K\n",
      "\u001b[01m\u001b[Kmain.cpp:\u001b[m\u001b[K In function ‘\u001b[01m\u001b[Kvoid Solve()\u001b[m\u001b[K’:\n",
      "\u001b[01m\u001b[Kmain.cpp:1325:72:\u001b[m\u001b[K \u001b[01;35m\u001b[Kwarning: \u001b[m\u001b[Kmissing initializer for member ‘\u001b[01m\u001b[KSolve()::Node::action\u001b[m\u001b[K’ [\u001b[01;35m\u001b[K-Wmissing-field-initializers\u001b[m\u001b[K]\n",
      " 1325 |   node_buffer.push({ state_buffer[0].score, nullptr, &state_buffer[0] }\u001b[01;35m\u001b[K)\u001b[m\u001b[K;\n",
      "      |                                                                        \u001b[01;35m\u001b[K^\u001b[m\u001b[K\n",
      "\u001b[01m\u001b[Kmain.cpp:1369:19:\u001b[m\u001b[K \u001b[01;35m\u001b[Kwarning: \u001b[m\u001b[Kunused variable ‘\u001b[01m\u001b[Kcum_base_sec\u001b[m\u001b[K’ [\u001b[01;35m\u001b[K-Wunused-variable\u001b[m\u001b[K]\n",
      " 1369 |     static double \u001b[01;35m\u001b[Kcum_base_sec\u001b[m\u001b[K = 0.0;\n",
      "      |                   \u001b[01;35m\u001b[K^~~~~~~~~~~~\u001b[m\u001b[K\n",
      "\u001b[01m\u001b[Kmain.cpp:1371:16:\u001b[m\u001b[K \u001b[01;35m\u001b[Kwarning: \u001b[m\u001b[Kunused variable ‘\u001b[01m\u001b[Kremaining_time\u001b[m\u001b[K’ [\u001b[01;35m\u001b[K-Wunused-variable\u001b[m\u001b[K]\n",
      " 1371 |     const auto \u001b[01;35m\u001b[Kremaining_time\u001b[m\u001b[K = beam_search_time_limit - elapsed_time;\n",
      "      |                \u001b[01;35m\u001b[K^~~~~~~~~~~~~~\u001b[m\u001b[K\n",
      "\u001b[01m\u001b[Kmain.cpp:1307:8:\u001b[m\u001b[K \u001b[01;35m\u001b[Kwarning: \u001b[m\u001b[Kvariable ‘\u001b[01m\u001b[Kbeam_width_controller\u001b[m\u001b[K’ set but not used [\u001b[01;35m\u001b[K-Wunused-but-set-variable\u001b[m\u001b[K]\n",
      " 1307 |   auto \u001b[01;35m\u001b[Kbeam_width_controller\u001b[m\u001b[K = PIDController(100.0, 1.0, 1000.0);\n",
      "      |        \u001b[01;35m\u001b[K^~~~~~~~~~~~~~~~~~~~~\u001b[m\u001b[K\n",
      "\u001b[01m\u001b[Kmain.cpp:1318:18:\u001b[m\u001b[K \u001b[01;35m\u001b[Kwarning: \u001b[m\u001b[Kunused variable ‘\u001b[01m\u001b[KMIN_BEAM_WIDTH\u001b[m\u001b[K’ [\u001b[01;35m\u001b[K-Wunused-variable\u001b[m\u001b[K]\n",
      " 1318 |   constexpr auto \u001b[01;35m\u001b[KMIN_BEAM_WIDTH\u001b[m\u001b[K = 40;\n",
      "      |                  \u001b[01;35m\u001b[K^~~~~~~~~~~~~~\u001b[m\u001b[K\n",
      "main.cpp: In instantiation of ‘\u001b[01m\u001b[KHashMap<T, size, KeyType>::HashMap() [with T = double; int size = 1048576; KeyType = long long unsigned int]\u001b[m\u001b[K’:\n",
      "\u001b[01m\u001b[Kmain.cpp:535:26:\u001b[m\u001b[K   required from here\n",
      "\u001b[01m\u001b[Kmain.cpp:477:30:\u001b[m\u001b[K \u001b[01;35m\u001b[Kwarning: \u001b[m\u001b[Ksuggest parentheses around ‘\u001b[01m\u001b[K-\u001b[m\u001b[K’ in operand of ‘\u001b[01m\u001b[K&\u001b[m\u001b[K’ [\u001b[01;35m\u001b[K-Wparentheses\u001b[m\u001b[K]\n",
      "  477 |   static_assert((size & \u001b[01;35m\u001b[Ksize - 1\u001b[m\u001b[K) == 0, \"not pow of 2\");\n",
      "      |                         \u001b[01;35m\u001b[K~~~~~^~~\u001b[m\u001b[K\n",
      "\u001b[01m\u001b[Kmain.cpp:478:9:\u001b[m\u001b[K \u001b[01;35m\u001b[Kwarning: \u001b[m\u001b[K‘\u001b[01m\u001b[Kvoid* memset(void*, int, size_t)\u001b[m\u001b[K’ clearing an object of type ‘\u001b[01m\u001b[Kstd::array<std::pair<long long unsigned int, double>, 1048576>::value_type\u001b[m\u001b[K’ {aka ‘\u001b[01m\u001b[Kstruct std::pair<long long unsigned int, double>\u001b[m\u001b[K’} with no trivial copy-assignment; use assignment instead [\u001b[01;35m\u001b[K-Wclass-memaccess\u001b[m\u001b[K]\n",
      "  478 |   \u001b[01;35m\u001b[Kmemset(&data[0], 0, sizeof(data))\u001b[m\u001b[K;\n",
      "      |   \u001b[01;35m\u001b[K~~~~~~^~~~~~~~~~~~~~~~~~~~~~~~~~~\u001b[m\u001b[K\n",
      "In file included from \u001b[01m\u001b[K/usr/include/c++/9/bits/stl_algobase.h:64\u001b[m\u001b[K,\n",
      "                 from \u001b[01m\u001b[K/usr/include/c++/9/bits/char_traits.h:39\u001b[m\u001b[K,\n",
      "                 from \u001b[01m\u001b[K/usr/include/c++/9/ios:40\u001b[m\u001b[K,\n",
      "                 from \u001b[01m\u001b[K/usr/include/c++/9/ostream:38\u001b[m\u001b[K,\n",
      "                 from \u001b[01m\u001b[K/usr/include/c++/9/iostream:39\u001b[m\u001b[K,\n",
      "                 from \u001b[01m\u001b[Kmain.cpp:8\u001b[m\u001b[K:\n",
      "\u001b[01m\u001b[K/usr/include/c++/9/bits/stl_pair.h:208:12:\u001b[m\u001b[K \u001b[01;36m\u001b[Knote: \u001b[m\u001b[K‘\u001b[01m\u001b[Kstd::array<std::pair<long long unsigned int, double>, 1048576>::value_type\u001b[m\u001b[K’ {aka ‘\u001b[01m\u001b[Kstruct std::pair<long long unsigned int, double>\u001b[m\u001b[K’} declared here\n",
      "  208 |     struct \u001b[01;36m\u001b[Kpair\u001b[m\u001b[K\n",
      "      |            \u001b[01;36m\u001b[K^~~~\u001b[m\u001b[K\n",
      "main.cpp: In instantiation of ‘\u001b[01m\u001b[KHashMap<T, size, KeyType>::HashMap() [with T = Solve()::Node*; int size = 524288; KeyType = long long unsigned int]\u001b[m\u001b[K’:\n",
      "\u001b[01m\u001b[Kmain.cpp:1335:48:\u001b[m\u001b[K   required from here\n",
      "\u001b[01m\u001b[Kmain.cpp:477:30:\u001b[m\u001b[K \u001b[01;35m\u001b[Kwarning: \u001b[m\u001b[Ksuggest parentheses around ‘\u001b[01m\u001b[K-\u001b[m\u001b[K’ in operand of ‘\u001b[01m\u001b[K&\u001b[m\u001b[K’ [\u001b[01;35m\u001b[K-Wparentheses\u001b[m\u001b[K]\n",
      "  477 |   static_assert((size & \u001b[01;35m\u001b[Ksize - 1\u001b[m\u001b[K) == 0, \"not pow of 2\");\n",
      "      |                         \u001b[01;35m\u001b[K~~~~~^~~\u001b[m\u001b[K\n",
      "\u001b[01m\u001b[Kmain.cpp:478:9:\u001b[m\u001b[K \u001b[01;35m\u001b[Kwarning: \u001b[m\u001b[K‘\u001b[01m\u001b[Kvoid* memset(void*, int, size_t)\u001b[m\u001b[K’ clearing an object of type ‘\u001b[01m\u001b[Kstd::array<std::pair<long long unsigned int, Solve()::Node*>, 524288>::value_type\u001b[m\u001b[K’ {aka ‘\u001b[01m\u001b[Kstruct std::pair<long long unsigned int, Solve()::Node*>\u001b[m\u001b[K’} with no trivial copy-assignment; use assignment instead [\u001b[01;35m\u001b[K-Wclass-memaccess\u001b[m\u001b[K]\n",
      "  478 |   \u001b[01;35m\u001b[Kmemset(&data[0], 0, sizeof(data))\u001b[m\u001b[K;\n",
      "      |   \u001b[01;35m\u001b[K~~~~~~^~~~~~~~~~~~~~~~~~~~~~~~~~~\u001b[m\u001b[K\n",
      "In file included from \u001b[01m\u001b[K/usr/include/c++/9/bits/stl_algobase.h:64\u001b[m\u001b[K,\n",
      "                 from \u001b[01m\u001b[K/usr/include/c++/9/bits/char_traits.h:39\u001b[m\u001b[K,\n",
      "                 from \u001b[01m\u001b[K/usr/include/c++/9/ios:40\u001b[m\u001b[K,\n",
      "                 from \u001b[01m\u001b[K/usr/include/c++/9/ostream:38\u001b[m\u001b[K,\n",
      "                 from \u001b[01m\u001b[K/usr/include/c++/9/iostream:39\u001b[m\u001b[K,\n",
      "                 from \u001b[01m\u001b[Kmain.cpp:8\u001b[m\u001b[K:\n",
      "\u001b[01m\u001b[K/usr/include/c++/9/bits/stl_pair.h:208:12:\u001b[m\u001b[K \u001b[01;36m\u001b[Knote: \u001b[m\u001b[K‘\u001b[01m\u001b[Kstd::array<std::pair<long long unsigned int, Solve()::Node*>, 524288>::value_type\u001b[m\u001b[K’ {aka ‘\u001b[01m\u001b[Kstruct std::pair<long long unsigned int, Solve()::Node*>\u001b[m\u001b[K’} declared here\n",
      "  208 |     struct \u001b[01;36m\u001b[Kpair\u001b[m\u001b[K\n",
      "      |            \u001b[01;36m\u001b[K^~~~\u001b[m\u001b[K\n",
      "main.cpp: In instantiation of ‘\u001b[01m\u001b[Kvoid HashMap<T, size, KeyType>::clear() [with T = Solve()::Node*; int size = 524288; KeyType = long long unsigned int]\u001b[m\u001b[K’:\n",
      "\u001b[01m\u001b[Kmain.cpp:1336:33:\u001b[m\u001b[K   required from here\n",
      "\u001b[01m\u001b[Kmain.cpp:531:9:\u001b[m\u001b[K \u001b[01;35m\u001b[Kwarning: \u001b[m\u001b[K‘\u001b[01m\u001b[Kvoid* memset(void*, int, size_t)\u001b[m\u001b[K’ clearing an object of type ‘\u001b[01m\u001b[Kstd::array<std::pair<long long unsigned int, Solve()::Node*>, 524288>::value_type\u001b[m\u001b[K’ {aka ‘\u001b[01m\u001b[Kstruct std::pair<long long unsigned int, Solve()::Node*>\u001b[m\u001b[K’} with no trivial copy-assignment; use assignment instead [\u001b[01;35m\u001b[K-Wclass-memaccess\u001b[m\u001b[K]\n",
      "  531 |   \u001b[01;35m\u001b[Kmemset(&data[0], 0, sizeof(data))\u001b[m\u001b[K;\n",
      "      |   \u001b[01;35m\u001b[K~~~~~~^~~~~~~~~~~~~~~~~~~~~~~~~~~\u001b[m\u001b[K\n",
      "In file included from \u001b[01m\u001b[K/usr/include/c++/9/bits/stl_algobase.h:64\u001b[m\u001b[K,\n",
      "                 from \u001b[01m\u001b[K/usr/include/c++/9/bits/char_traits.h:39\u001b[m\u001b[K,\n",
      "                 from \u001b[01m\u001b[K/usr/include/c++/9/ios:40\u001b[m\u001b[K,\n",
      "                 from \u001b[01m\u001b[K/usr/include/c++/9/ostream:38\u001b[m\u001b[K,\n",
      "                 from \u001b[01m\u001b[K/usr/include/c++/9/iostream:39\u001b[m\u001b[K,\n",
      "                 from \u001b[01m\u001b[Kmain.cpp:8\u001b[m\u001b[K:\n",
      "\u001b[01m\u001b[K/usr/include/c++/9/bits/stl_pair.h:208:12:\u001b[m\u001b[K \u001b[01;36m\u001b[Knote: \u001b[m\u001b[K‘\u001b[01m\u001b[Kstd::array<std::pair<long long unsigned int, Solve()::Node*>, 524288>::value_type\u001b[m\u001b[K’ {aka ‘\u001b[01m\u001b[Kstruct std::pair<long long unsigned int, Solve()::Node*>\u001b[m\u001b[K’} declared here\n",
      "  208 |     struct \u001b[01;36m\u001b[Kpair\u001b[m\u001b[K\n",
      "      |            \u001b[01;36m\u001b[K^~~~\u001b[m\u001b[K\n",
      "\u001b[01m\u001b[Kmain.cpp:1232:8:\u001b[m\u001b[K \u001b[01;35m\u001b[Kwarning: \u001b[m\u001b[Kignoring return value of ‘\u001b[01m\u001b[Kint scanf(const char*, ...)\u001b[m\u001b[K’, declared with attribute warn_unused_result [\u001b[01;35m\u001b[K-Wunused-result\u001b[m\u001b[K]\n",
      " 1232 |   \u001b[01;35m\u001b[Kscanf(\"%d %d %d\", &buf, &buf, &buf)\u001b[m\u001b[K;\n",
      "      |   \u001b[01;35m\u001b[K~~~~~^~~~~~~~~~~~~~~~~~~~~~~~~~~~~~\u001b[m\u001b[K\n",
      "\u001b[01m\u001b[Kmain.cpp:1234:9:\u001b[m\u001b[K \u001b[01;35m\u001b[Kwarning: \u001b[m\u001b[Kignoring return value of ‘\u001b[01m\u001b[Kint scanf(const char*, ...)\u001b[m\u001b[K’, declared with attribute warn_unused_result [\u001b[01;35m\u001b[K-Wunused-result\u001b[m\u001b[K]\n",
      " 1234 |    \u001b[01;35m\u001b[Kscanf(\"%hhd %hhd %hd %hd %hd\", &R[i], &C[i], &S[i], &E[i], &V[i])\u001b[m\u001b[K;\n",
      "      |    \u001b[01;35m\u001b[K~~~~~^~~~~~~~~~~~~~~~~~~~~~~~~~~~~~~~~~~~~~~~~~~~~~~~~~~~~~~~~~~~\u001b[m\u001b[K\n",
      "\u001b[01m\u001b[Kmain.cpp:\u001b[m\u001b[K At global scope:\n",
      "\u001b[01m\u001b[Kmain.cpp:1369:19:\u001b[m\u001b[K \u001b[01;35m\u001b[Kwarning: \u001b[m\u001b[K‘\u001b[01m\u001b[Kcum_base_sec\u001b[m\u001b[K’ defined but not used [\u001b[01;35m\u001b[K-Wunused-variable\u001b[m\u001b[K]\n",
      " 1369 |     static double \u001b[01;35m\u001b[Kcum_base_sec\u001b[m\u001b[K = 0.0;\n",
      "      |                   \u001b[01;35m\u001b[K^~~~~~~~~~~~\u001b[m\u001b[K\n"
     ]
    }
   ],
   "source": [
    "!g++ {FILENAME} -std=gnu++17 -Wall -Wextra -O2 -DONLINE_JUDGE -o {FILENAME}.out"
   ]
  },
  {
   "cell_type": "code",
   "execution_count": 3,
   "id": "6a9095d3",
   "metadata": {},
   "outputs": [],
   "source": [
    "N_TESTCASES = 200\n",
    "TESTCASE_DIRECTORY = \"../exp005_optim_fix_cancellation_and_subscore3/in/\"\n",
    "TESTCASES = [f\"{i:04d}.txt\" for i in range(N_TESTCASES)]"
   ]
  },
  {
   "cell_type": "code",
   "execution_count": 5,
   "id": "5f7e9a54",
   "metadata": {
    "scrolled": true
   },
   "outputs": [
    {
     "name": "stdout",
     "output_type": "stream",
     "text": [
      "00400056 time:8.1298 time:8.0553 0008  score:4254398score:4792872\n",
      "\n",
      "time:8.2561 score:5382660\n",
      "0020 time:8.2092 score:4699695\n",
      "0024 time:8.5063 score:5130938\n",
      "0004 time:8.5577 score:4595307\n",
      "0012 time:8.9058 score:44729230044 \n",
      "time:9.0734 score:5142329\n",
      "0016 time:9.1880 score:5079234\n",
      "00520036  time:9.3448time:9.39510028   score:4529382score:5846607time:9.5947\n",
      "\n",
      " score:5069833\n",
      "00480000  time:9.5731time:9.5909  0032score:4586927score:4903030 \n",
      "\n",
      "time:9.5740 score:5450502\n",
      "0041 time:7.7690 score:4530063\n",
      "0021 time:8.2977 0057score:5016936 \n",
      "time:8.5370 score:5371250\n",
      "0025 time:8.7604 score:46879520009\n",
      " time:9.1208 score:49145040033\n",
      " time:7.7544 0005score:4156374\n",
      " time:8.6698 score:51388460053\n",
      " time:8.2647 00450013score:4589162 \n",
      " time:8.8056time:8.5915  score:5178430score:52728290017\n",
      "\n",
      " time:8.6864 score:4503560\n",
      "0029 time:8.3311 score:5236158\n",
      "0049 time:8.6235 score:4946309\n",
      "0037 time:9.1551 score:4900387\n",
      "0001 time:10.3519 score:5355210\n",
      "0058 time:7.0662 score:4748391\n",
      "0022 time:7.2795 score:4723686\n",
      "0042 time:8.4184 score:5360441\n",
      "0014 time:7.0954 score:5398016\n",
      "0026 0046time:7.7692 0018 time:7.3508  score:4894464time:7.2236\n",
      "score:5044275 \n",
      "score:49950410054\n",
      " 0006time:7.5432  time:7.6357score:4778067\n",
      " score:45006120010\n",
      " time:8.01640050  score:4456105time:7.0154\n",
      " score:48486720034\n",
      " time:7.9129 score:5698168\n",
      "0038 time:7.1147 score:6040065\n",
      "0030 time:8.2616 score:4853766\n",
      "0002 time:7.9599 score:4687592\n",
      "0059 time:7.0891 score:4769182\n",
      "0011 time:6.2056 score:5307063\n",
      "00350043  time:6.2435 time:7.5224score:4722697 \n",
      "score:5044637\n",
      "0019 time:7.1916 score:4579212\n",
      "0007 time:6.9698 score:53249440023\n",
      " time:8.2890 score:4841168\n",
      "0015 0055time:7.7587  time:7.3301score:5484287 \n",
      "score:4423253\n",
      "0027 time:7.7448 score:5657595\n",
      "0047 time:7.7800 score:5080953\n",
      "0039 time:7.1883 score:5536539\n",
      "0051 time:8.4374 score:4931510\n",
      "0031 time:7.9342 score:4491734\n",
      "0003 time:7.9460 score:4687261\n",
      "0060 time:6.4493 score:5004872\n",
      "0064 time:7.0893 score:4145777\n",
      "0072 time:7.0095 score:4914132\n",
      "0084 time:6.9341 score:4222912\n",
      "0068 time:7.7872 0092score:4945311 time:6.9080\n",
      "0076  score:5821479time:7.4443\n",
      " score:5224755\n",
      "0080 time:7.5551 score:4689911\n",
      "0096 time:7.2614 score:4629431\n",
      "0100 time:7.2813 0104score:4791333\n",
      " time:7.0228 score:4341003\n",
      "0088 0108 time:8.0079time:6.5935  score:5076453score:5015343\n",
      "\n",
      "0112 time:6.7775 score:4594137\n",
      "0116 time:6.6618 score:4930777\n",
      "0061 time:7.5851 score:4914930\n",
      "0065 time:6.7113 score:5005808\n",
      "0073 0085time:6.9736  time:6.5619score:5412026 \n",
      "score:4486451\n",
      "0077 time:6.9177 score:4813829\n",
      "0069 time:7.16690081 score:4325094 time:6.9914\n",
      " score:5470245\n",
      "0093 time:7.4702 0097score:4655090 \n",
      "0089time:6.8648  time:6.5868score:4678959 \n",
      "score:4563767\n",
      "01090105  time:6.8623time:6.9890  score:4663184score:4909250\n",
      "\n",
      "0101 time:7.9391 score:5312807\n",
      "0113 time:7.6640 score:5488590\n",
      "0117 time:7.1975 score:5182695\n",
      "0062 time:7.02830074 score:4835425 \n",
      "time:6.5703 score:4717881\n",
      "0066 time:7.8947 score:5601765\n",
      "0106 0078time:6.1567  time:7.1094score:4643900\n",
      " score:5274144\n",
      "0086 time:7.8231 score:5014637\n",
      "0090 time:6.80320082  score:4961590time:7.23130098\n",
      "  score:5034104time:6.8766\n",
      " score:4586205\n",
      "0094 time:7.2548 score:4616146\n",
      "0110 time:7.11360070  time:7.8977score:5305921 \n",
      "score:5515203\n",
      "0114 time:7.1854 score:4632189\n",
      "0102 time:7.9425 score:5033768\n",
      "0118 time:7.1598 score:5031687\n",
      "0075 time:6.8047 score:4185562\n",
      "0063 time:7.5431 score:4717459\n",
      "0079 time:6.8223 score:5015532\n",
      "0107 time:6.8965 score:4936911\n",
      "0067 time:7.6821 score:5091734\n",
      "0087 time:7.4598 score:4936226\n",
      "00910099 time:7.4178  time:7.4623score:4829705 \n",
      "score:45986700095\n",
      " time:7.1350 score:5341460\n",
      "0083 0111time:7.7659  time:7.0755score:5030177 0071 score:5229106\n",
      "time:7.1463\n",
      " score:4261840\n",
      "0115 time:7.9270 score:4962794\n",
      "0103 time:7.9171 score:4939958\n",
      "0119 time:7.7280 score:5194759\n",
      "0120 time:7.1554 score:5523805\n",
      "0128 time:6.6322 score:4650168\n",
      "0124 time:7.6069 score:5281343\n",
      "0132 time:7.33530148  score:5361208time:6.3716\n",
      " score:4898868\n",
      "0136 time:7.1943 score:5782760\n",
      "0140 time:7.5926 score:48493170152 \n",
      "time:7.1554 score:513348601560160\n",
      "  time:7.0935time:7.1991  score:4910892score:5898230\n",
      "\n",
      "0164 time:7.3005 score:5218371\n",
      "0144 time:7.8035 score:4857080\n",
      "0168 time:6.8419 score:5234300\n",
      "0172 time:6.7977 score:4987482\n",
      "0176 time:7.4322 score:5067369\n",
      "0121 time:7.3878 score:5225931\n",
      "01370133  time:6.9242 score:4690560\n",
      "time:6.6417 score:5041860\n",
      "0129 time:7.9719 score:5442533\n",
      "0141 time:6.6423 score:5299206\n",
      "0125 time:8.2238 score:4998006\n",
      "0149 time:7.8553 score:4738030\n",
      "01530157  time:7.03950165 score:5018610\n",
      "time:7.1146  score:5097811\n",
      "time:7.0739 score:5241108\n",
      "0161 time:7.3467 score:5156821\n",
      "0145 time:7.3551 score:5283327\n",
      "0169 time:7.0675 score:5106670\n",
      "0173 time:6.7598 score:4792054\n",
      "0177 time:7.6440 score:5146589\n",
      "0138 time:6.9787 score:49265130122 \n",
      "time:7.7814 score:5304939\n",
      "0142 time:6.78840134  score:4468538\n",
      "time:7.5581 0130 score:4902014time:7.2108\n",
      " score:4616883\n",
      "0158 time:6.5315 score:5059652\n",
      "01620154  time:6.7921time:7.2709  score:4926490score:4802438\n",
      "\n",
      "0166 time:7.3203 0126score:4358183 \n",
      "time:7.7419 score:5462808\n",
      "0146 time:7.2527 score:4992196\n",
      "0150 time:8.4287 score:5053319\n",
      "0174 time:6.9785 score:4731390\n",
      "0170 time:7.5758 score:5447491\n",
      "0178 time:7.9395 score:5166607\n",
      "0139 0135time:6.9604 score:4892666 \n",
      "time:6.5684 score:4520148\n",
      "0143 time:7.4275 score:5142190\n",
      "0131 time:7.5069 score:4919823\n",
      "0167 time:6.6187 score:4630520\n",
      "0159 time:7.4310 score:4638715\n",
      "0123 time:8.7244 score:5102448\n",
      "0163 time:7.2721 score:4994740\n",
      "0155 0127time:7.5099  0147 time:6.8754 score:5320753\n",
      "score:4911202time:7.3240\n",
      " score:5287863\n",
      "0151 time:7.2744 score:4333229\n",
      "0175 time:6.7726 score:5283923\n",
      "0171 time:6.7999 score:5069041\n",
      "0184 time:4.6633 score:4705955\n",
      "0179 time:5.7736 score:4828514\n",
      "0180 time:5.1036 score:4928223\n",
      "0192 time:4.1682 score:5222707\n",
      "0196 time:4.9347 score:5064484\n",
      "0188 time:5.7883 score:5546251\n",
      "0185 time:3.5531 score:5098371\n",
      "0193 time:4.1661 score:4851929\n",
      "0181 time:4.9650 score:5084737\n",
      "0197 time:5.0430 score:4725698\n",
      "0189 time:4.7581 score:4930753\n",
      "0186 time:4.1324 score:4902506\n",
      "0182 time:3.7149 score:5103898\n",
      "0194 time:4.4107 score:4507082\n",
      "0190 time:3.4449 score:5117282\n",
      "0198 time:3.6281 score:5028450\n",
      "0187 time:3.5630 score:5096690\n",
      "0195 time:3.1221 score:4480680\n",
      "0183 time:3.7793 score:4802664\n",
      "0199 time:2.9900 score:5384175\n",
      "0191 time:3.3516 score:4105535\n"
     ]
    },
    {
     "data": {
      "text/plain": [
       "(248.16697825000003, 17.78923519055877)"
      ]
     },
     "execution_count": 5,
     "metadata": {},
     "output_type": "execute_result"
    }
   ],
   "source": [
    "scores = []\n",
    "times = []\n",
    "\n",
    "!mkdir out\n",
    "!mkdir time\n",
    "\n",
    "def parallel(i):\n",
    "    testcase = TESTCASES[i]\n",
    "    i = f\"{i:04d}\"\n",
    "    t0 = time()\n",
    "    !./{FILENAME}.out < {TESTCASE_DIRECTORY}{testcase} > ./out/{testcase} 2> ./time/{testcase}\n",
    "    t = time() - t0\n",
    "    score = !python3 ../A/tester/judge.py {TESTCASE_DIRECTORY}{testcase} ./out/{testcase}\n",
    "    print(i, f\"time:{t:.4f}\", *score)\n",
    "    score = int(score[0].split(\":\")[-1])\n",
    "    return score, t\n",
    "\n",
    "with Pool(15) as p:\n",
    "    for score, t in p.map(parallel, range(N_TESTCASES)):\n",
    "        scores.append(score)\n",
    "        times.append(t)\n",
    "\n",
    "np.mean(scores) * 50 / 1e6, np.std(scores) * 50 / 1e6"
   ]
  },
  {
   "cell_type": "code",
   "execution_count": 4,
   "id": "08f23a1c",
   "metadata": {},
   "outputs": [],
   "source": [
    "times_sum = np.zeros(1000)\n",
    "for testcase in TESTCASES:\n",
    "    times = !cat ./time/{testcase}\n",
    "    times = np.array(list(map(float, \" \".join(times).strip().split())))\n",
    "    times_sum += times\n",
    "times_mean = times_sum / N_TESTCASES"
   ]
  },
  {
   "cell_type": "code",
   "execution_count": null,
   "id": "5e9803f6",
   "metadata": {},
   "outputs": [],
   "source": []
  },
  {
   "cell_type": "code",
   "execution_count": 5,
   "id": "9838529c",
   "metadata": {},
   "outputs": [
    {
     "data": {
      "text/plain": [
       "[<matplotlib.lines.Line2D at 0x7f73756e1ac0>]"
      ]
     },
     "execution_count": 5,
     "metadata": {},
     "output_type": "execute_result"
    },
    {
     "data": {
      "image/png": "[encoded data removed]",
      "text/plain": [
       "<Figure size 432x288 with 1 Axes>"
      ]
     },
     "metadata": {
      "needs_background": "light"
     },
     "output_type": "display_data"
    }
   ],
   "source": [
    "plt.plot(times_mean[1:])"
   ]
  },
  {
   "cell_type": "code",
   "execution_count": 6,
   "id": "5494e178",
   "metadata": {},
   "outputs": [
    {
     "data": {
      "text/plain": [
       "[<matplotlib.lines.Line2D at 0x7f7374b81730>]"
      ]
     },
     "execution_count": 6,
     "metadata": {},
     "output_type": "execute_result"
    },
    {
     "data": {
      "image/png": "[encoded data removed]",
      "text/plain": [
       "<Figure size 432x288 with 1 Axes>"
      ]
     },
     "metadata": {
      "needs_background": "light"
     },
     "output_type": "display_data"
    }
   ],
   "source": [
    "import scipy.signal\n",
    "import scipy.ndimage\n",
    "med = scipy.signal.medfilt(times_mean, 3)\n",
    "#plt.plot(med)\n",
    "med = scipy.ndimage.filters.gaussian_filter(med, 10.0)\n",
    "plt.plot(med)"
   ]
  },
  {
   "cell_type": "code",
   "execution_count": 9,
   "id": "bb426b65",
   "metadata": {},
   "outputs": [
    {
     "name": "stdout",
     "output_type": "stream",
     "text": [
      "14048,14035,14011,13974,13927,13869,13801,13725,13641,13551,13456,13358,13257,13156,13055,12955,12858,12765,12676,12593,12516,12445,12380,12323,12272,12229,12192,12161,12137,12119,12106,12098,12095,12095,12100,12108,12119,12132,12147,12164,12181,12200,12218,12236,12254,12271,12286,12299,12311,12320,12327,12331,12332,12330,12325,12318,12309,12297,12284,12269,12253,12238,12222,12208,12195,12184,12175,12170,12167,12168,12172,12180,12191,12204,12221,12240,12261,12283,12306,12330,12354,12377,12400,12422,12443,12463,12481,12499,12516,12532,12547,12563,12578,12593,12609,12625,12642,12659,12678,12697,12716,12736,12757,12778,12799,12821,12842,12863,12885,12906,12928,12949,12971,12993,13016,13039,13063,13088,13115,13142,13171,13201,13233,13266,13300,13335,13371,13407,13444,13480,13517,13553,13588,13622,13655,13687,13717,13746,13773,13798,13823,13846,13867,13888,13908,13928,13947,13965,13984,14002,14021,14039,14058,14076,14095,14114,14132,14150,14168,14185,14202,14218,14234,14249,14263,14276,14289,14301,14312,14323,14334,14345,14356,14367,14378,14390,14403,14417,14432,14448,14465,14484,14504,14525,14547,14571,14595,14620,14646,14673,14700,14727,14755,14782,14810,14837,14864,14890,14916,14941,14966,14990,15014,15036,15059,15080,15102,15123,15144,15165,15186,15208,15230,15252,15276,15300,15325,15350,15377,15404,15432,15461,15490,15519,15549,15578,15606,15635,15662,15688,15714,15738,15761,15783,15804,15824,15843,15861,15878,15895,15911,15927,15942,15957,15971,15985,15999,16012,16025,16037,16048,16060,16071,16081,16092,16103,16115,16127,16140,16155,16172,16190,16211,16234,16259,16287,16318,16350,16386,16423,16462,16502,16544,16586,16628,16670,16712,16753,16792,16830,16866,16901,16933,16962,16990,17014,17037,17057,17075,17091,17105,17117,17128,17137,17144,17151,17156,17161,17166,17170,17174,17177,17181,17186,17190,17196,17201,17207,17213,17220,17227,17234,17241,17247,17253,17258,17263,17266,17269,17270,17270,17269,17267,17263,17259,17254,17250,17245,17240,17237,17235,17235,17237,17243,17251,17263,17279,17300,17325,17355,17390,17429,17473,17523,17576,17635,17697,17764,17834,17907,17984,18063,18144,18227,18311,18396,18482,18568,18653,18738,18822,18904,18985,19064,19141,19216,19288,19358,19425,19489,19550,19608,19663,19713,19760,19803,19842,19876,19906,19931,19952,19967,19978,19984,19986,19983,19977,19967,19955,19939,19922,19903,19883,19862,19842,19823,19805,19789,19775,19764,19756,19751,19751,19755,19763,19775,19793,19816,19844,19877,19915,19959,20008,20063,20122,20188,20258,20333,20413,20497,20585,20676,20770,20866,20964,21061,21158,21254,21348,21438,21524,21606,21683,21753,21818,21876,21928,21974,22014,22049,22078,22103,22124,22141,22157,22170,22182,22193,22204,22215,22227,22239,22252,22266,22281,22296,22312,22328,22344,22361,22377,22394,22410,22426,22443,22459,22476,22494,22513,22533,22556,22582,22611,22644,22681,22723,22770,22822,22880,22943,23012,23086,23165,23248,23335,23425,23518,23612,23708,23803,23899,23994,24086,24177,24265,24350,24432,24511,24585,24656,24724,24787,24848,24905,24960,25013,25063,25112,25161,25209,25258,25308,25359,25413,25469,25529,25593,25661,25733,25810,25891,25977,26068,26162,26259,26360,26463,26567,26672,26777,26880,26982,27082,27178,27271,27359,27443,27522,27595,27664,27728,27786,27841,27891,27938,27982,28022,28061,28098,28133,28167,28201,28234,28266,28299,28332,28364,28396,28429,28461,28492,28523,28554,28584,28614,28644,28673,28703,28734,28765,28799,28835,28874,28918,28966,29020,29080,29147,29222,29304,29395,29494,29601,29715,29838,29967,30102,30242,30387,30536,30687,30839,30992,31145,31296,31446,31592,31736,31875,32011,32141,32267,32388,32503,32612,32717,32816,32910,32998,33082,33162,33237,33309,33378,33445,33509,33572,33634,33696,33758,33821,33885,33951,34019,34089,34161,34237,34315,34395,34479,34566,34655,34748,34843,34941,35042,35145,35252,35361,35473,35587,35703,35822,35942,36063,36185,36307,36429,36550,36671,36790,36909,37025,37140,37254,37367,37479,37591,37703,37817,37931,38048,38168,38290,38415,38544,38676,38810,38948,39088,39229,39372,39515,39658,39800,39941,40080,40216,40351,40482,40611,40737,40861,40982,41101,41217,41332,41444,41554,41662,41768,41871,41972,42070,42166,42259,42350,42438,42523,42607,42690,42772,42853,42935,43017,43102,43189,43279,43374,43473,43577,43686,43801,43921,44048,44179,44315,44456,44601,44749,44899,45052,45205,45359,45513,45666,45819,45971,46123,46274,46426,46578,46731,46887,47046,47207,47373,47544,47720,47900,48086,48277,48473,48672,48875,49081,49289,49497,49705,49912,50118,50320,50519,50714,50905,51092,51274,51452,51625,51794,51960,52122,52281,52438,52593,52746,52898,53049,53200,53350,53500,53651,53802,53955,54108,54263,54419,54578,54738,54901,55065,55232,55402,55573,55746,55921,56097,56274,56451,56628,56803,56977,57148,57317,57481,57642,57798,57950,58097,58240,58380,58517,58651,58786,58920,59057,59198,59345,59499,59663,59839,60027,60231,60452,60692,60951,61232,61536,61862,62212,62585,62981,63399,63837,64292,64763,65246,65737,66232,66726,67215,67693,68156,68597,69014,69401,69755,70074,70355,70598,70802,70969,71100,71199,71268,71313,71337,71346,71344,71336,71327,71319,71317,71323,71339,71364,71400,71445,71498,71558,71622,71689,71755,71819,71879,71933,71981,72020,72051,72074,72090,72099,72102,72101,72097,72092,72085,72080,72076,72075,72076,72080,72088,72098,72110,72124,72139,72155,72170,72184,72196,72207,72215,72221,72225,72227,72227,72227,72225,72224,72223,72224,72226,72230,72237,72246,72258,72272,72288,72306,72325,72345,72364,72383,72401,72416,72428,72438,72443,72445,72443,72436,72426,72412,72394,72374,72352,72329,72305,72282,72261,72242,72227,72216,72208,72206,72208,72215,72225,72238,72253,72269,72285,72298,72309,72314,72314,72307,72291,72266,72231,72186,72131,72064,71986,71897,71796,71683,71559,71423,71275,71115,70943,70759,70562,70354,70134,69902,69659,69406,69143,68871,68591,68304,68010,67712,67409,67103,66795,66485,66175,65866,65558,65253,64952,64657,64368,64088,63818,63561,63317,63090,62881,62693,62527,62386,62270,62183,62123,62094\n"
     ]
    }
   ],
   "source": [
    "print(*np.round(med * 1e9).astype(int).tolist(), sep=\",\")"
   ]
  },
  {
   "cell_type": "code",
   "execution_count": null,
   "id": "998338eb",
   "metadata": {},
   "outputs": [],
   "source": []
  }
 ],
 "metadata": {
  "kernelspec": {
   "display_name": "Python 3",
   "language": "python",
   "name": "python3"
  },
  "language_info": {
   "codemirror_mode": {
    "name": "ipython",
    "version": 3
   },
   "file_extension": ".py",
   "mimetype": "text/x-python",
   "name": "python",
   "nbconvert_exporter": "python",
   "pygments_lexer": "ipython3",
   "version": "3.8.8"
  }
 },
 "nbformat": 4,
 "nbformat_minor": 5
}
