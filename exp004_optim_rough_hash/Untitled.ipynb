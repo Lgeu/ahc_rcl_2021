{
 "cells": [
  {
   "cell_type": "code",
   "execution_count": 1,
   "id": "83885174",
   "metadata": {},
   "outputs": [],
   "source": [
    "import re\n",
    "import sys\n",
    "from time import time, sleep\n",
    "from pprint import pprint\n",
    "from functools import partial\n",
    "from multiprocessing import Pool\n",
    "\n",
    "import numpy as np\n",
    "import pandas as pd\n",
    "import optuna\n",
    "import matplotlib.pyplot as plt\n",
    "\n",
    "FILENAME = \"main.cpp\""
   ]
  },
  {
   "cell_type": "code",
   "execution_count": 2,
   "id": "e5a09c5a",
   "metadata": {},
   "outputs": [],
   "source": [
    "!cp ../answer/main.cpp ./{FILENAME}"
   ]
  },
  {
   "cell_type": "code",
   "execution_count": 3,
   "id": "4e13abc7",
   "metadata": {
    "scrolled": true
   },
   "outputs": [
    {
     "name": "stdout",
     "output_type": "stream",
     "text": [
      "\u001b[01m\u001b[Kmain.cpp:49:\u001b[m\u001b[K \u001b[01;35m\u001b[Kwarning: \u001b[m\u001b[Kignoring #pragma clang attribute [\u001b[01;35m\u001b[K-Wunknown-pragmas\u001b[m\u001b[K]\n",
      "   49 | #pragma clang attribute push (__attribute__((target(\"arch=skylake\"))),apply_to=function)\n",
      "      | \n",
      "\u001b[01m\u001b[Kmain.cpp:1288:\u001b[m\u001b[K \u001b[01;35m\u001b[Kwarning: \u001b[m\u001b[Kignoring #pragma clang attribute [\u001b[01;35m\u001b[K-Wunknown-pragmas\u001b[m\u001b[K]\n",
      " 1288 | #pragma clang attribute pop\n",
      "      | \n",
      "\u001b[01m\u001b[Kmain.cpp:\u001b[m\u001b[K In function ‘\u001b[01m\u001b[Kvoid Solve()\u001b[m\u001b[K’:\n",
      "\u001b[01m\u001b[Kmain.cpp:1196:72:\u001b[m\u001b[K \u001b[01;35m\u001b[Kwarning: \u001b[m\u001b[Kmissing initializer for member ‘\u001b[01m\u001b[KSolve()::Node::action\u001b[m\u001b[K’ [\u001b[01;35m\u001b[K-Wmissing-field-initializers\u001b[m\u001b[K]\n",
      " 1196 |   node_buffer.push({ state_buffer[0].score, nullptr, &state_buffer[0] }\u001b[01;35m\u001b[K)\u001b[m\u001b[K;\n",
      "      |                                                                        \u001b[01;35m\u001b[K^\u001b[m\u001b[K\n",
      "main.cpp: In instantiation of ‘\u001b[01m\u001b[KHashMap<T, size, KeyType>::HashMap() [with T = double; int size = 1048576; KeyType = long long unsigned int]\u001b[m\u001b[K’:\n",
      "\u001b[01m\u001b[Kmain.cpp:535:26:\u001b[m\u001b[K   required from here\n",
      "\u001b[01m\u001b[Kmain.cpp:477:30:\u001b[m\u001b[K \u001b[01;35m\u001b[Kwarning: \u001b[m\u001b[Ksuggest parentheses around ‘\u001b[01m\u001b[K-\u001b[m\u001b[K’ in operand of ‘\u001b[01m\u001b[K&\u001b[m\u001b[K’ [\u001b[01;35m\u001b[K-Wparentheses\u001b[m\u001b[K]\n",
      "  477 |   static_assert((size & \u001b[01;35m\u001b[Ksize - 1\u001b[m\u001b[K) == 0, \"not pow of 2\");\n",
      "      |                         \u001b[01;35m\u001b[K~~~~~^~~\u001b[m\u001b[K\n",
      "\u001b[01m\u001b[Kmain.cpp:478:9:\u001b[m\u001b[K \u001b[01;35m\u001b[Kwarning: \u001b[m\u001b[K‘\u001b[01m\u001b[Kvoid* memset(void*, int, size_t)\u001b[m\u001b[K’ clearing an object of type ‘\u001b[01m\u001b[Kstd::array<std::pair<long long unsigned int, double>, 1048576>::value_type\u001b[m\u001b[K’ {aka ‘\u001b[01m\u001b[Kstruct std::pair<long long unsigned int, double>\u001b[m\u001b[K’} with no trivial copy-assignment; use assignment instead [\u001b[01;35m\u001b[K-Wclass-memaccess\u001b[m\u001b[K]\n",
      "  478 |   \u001b[01;35m\u001b[Kmemset(&data[0], 0, sizeof(data))\u001b[m\u001b[K;\n",
      "      |   \u001b[01;35m\u001b[K~~~~~~^~~~~~~~~~~~~~~~~~~~~~~~~~~\u001b[m\u001b[K\n",
      "In file included from \u001b[01m\u001b[K/usr/include/c++/9/bits/stl_algobase.h:64\u001b[m\u001b[K,\n",
      "                 from \u001b[01m\u001b[K/usr/include/c++/9/bits/char_traits.h:39\u001b[m\u001b[K,\n",
      "                 from \u001b[01m\u001b[K/usr/include/c++/9/ios:40\u001b[m\u001b[K,\n",
      "                 from \u001b[01m\u001b[K/usr/include/c++/9/ostream:38\u001b[m\u001b[K,\n",
      "                 from \u001b[01m\u001b[K/usr/include/c++/9/iostream:39\u001b[m\u001b[K,\n",
      "                 from \u001b[01m\u001b[Kmain.cpp:8\u001b[m\u001b[K:\n",
      "\u001b[01m\u001b[K/usr/include/c++/9/bits/stl_pair.h:208:12:\u001b[m\u001b[K \u001b[01;36m\u001b[Knote: \u001b[m\u001b[K‘\u001b[01m\u001b[Kstd::array<std::pair<long long unsigned int, double>, 1048576>::value_type\u001b[m\u001b[K’ {aka ‘\u001b[01m\u001b[Kstruct std::pair<long long unsigned int, double>\u001b[m\u001b[K’} declared here\n",
      "  208 |     struct \u001b[01;36m\u001b[Kpair\u001b[m\u001b[K\n",
      "      |            \u001b[01;36m\u001b[K^~~~\u001b[m\u001b[K\n",
      "main.cpp: In instantiation of ‘\u001b[01m\u001b[KHashMap<T, size, KeyType>::HashMap() [with T = Solve()::Node*; int size = 524288; KeyType = long long unsigned int]\u001b[m\u001b[K’:\n",
      "\u001b[01m\u001b[Kmain.cpp:1203:48:\u001b[m\u001b[K   required from here\n",
      "\u001b[01m\u001b[Kmain.cpp:477:30:\u001b[m\u001b[K \u001b[01;35m\u001b[Kwarning: \u001b[m\u001b[Ksuggest parentheses around ‘\u001b[01m\u001b[K-\u001b[m\u001b[K’ in operand of ‘\u001b[01m\u001b[K&\u001b[m\u001b[K’ [\u001b[01;35m\u001b[K-Wparentheses\u001b[m\u001b[K]\n",
      "  477 |   static_assert((size & \u001b[01;35m\u001b[Ksize - 1\u001b[m\u001b[K) == 0, \"not pow of 2\");\n",
      "      |                         \u001b[01;35m\u001b[K~~~~~^~~\u001b[m\u001b[K\n",
      "\u001b[01m\u001b[Kmain.cpp:478:9:\u001b[m\u001b[K \u001b[01;35m\u001b[Kwarning: \u001b[m\u001b[K‘\u001b[01m\u001b[Kvoid* memset(void*, int, size_t)\u001b[m\u001b[K’ clearing an object of type ‘\u001b[01m\u001b[Kstd::array<std::pair<long long unsigned int, Solve()::Node*>, 524288>::value_type\u001b[m\u001b[K’ {aka ‘\u001b[01m\u001b[Kstruct std::pair<long long unsigned int, Solve()::Node*>\u001b[m\u001b[K’} with no trivial copy-assignment; use assignment instead [\u001b[01;35m\u001b[K-Wclass-memaccess\u001b[m\u001b[K]\n",
      "  478 |   \u001b[01;35m\u001b[Kmemset(&data[0], 0, sizeof(data))\u001b[m\u001b[K;\n",
      "      |   \u001b[01;35m\u001b[K~~~~~~^~~~~~~~~~~~~~~~~~~~~~~~~~~\u001b[m\u001b[K\n",
      "In file included from \u001b[01m\u001b[K/usr/include/c++/9/bits/stl_algobase.h:64\u001b[m\u001b[K,\n",
      "                 from \u001b[01m\u001b[K/usr/include/c++/9/bits/char_traits.h:39\u001b[m\u001b[K,\n",
      "                 from \u001b[01m\u001b[K/usr/include/c++/9/ios:40\u001b[m\u001b[K,\n",
      "                 from \u001b[01m\u001b[K/usr/include/c++/9/ostream:38\u001b[m\u001b[K,\n",
      "                 from \u001b[01m\u001b[K/usr/include/c++/9/iostream:39\u001b[m\u001b[K,\n",
      "                 from \u001b[01m\u001b[Kmain.cpp:8\u001b[m\u001b[K:\n",
      "\u001b[01m\u001b[K/usr/include/c++/9/bits/stl_pair.h:208:12:\u001b[m\u001b[K \u001b[01;36m\u001b[Knote: \u001b[m\u001b[K‘\u001b[01m\u001b[Kstd::array<std::pair<long long unsigned int, Solve()::Node*>, 524288>::value_type\u001b[m\u001b[K’ {aka ‘\u001b[01m\u001b[Kstruct std::pair<long long unsigned int, Solve()::Node*>\u001b[m\u001b[K’} declared here\n",
      "  208 |     struct \u001b[01;36m\u001b[Kpair\u001b[m\u001b[K\n",
      "      |            \u001b[01;36m\u001b[K^~~~\u001b[m\u001b[K\n",
      "main.cpp: In instantiation of ‘\u001b[01m\u001b[Kvoid HashMap<T, size, KeyType>::clear() [with T = Solve()::Node*; int size = 524288; KeyType = long long unsigned int]\u001b[m\u001b[K’:\n",
      "\u001b[01m\u001b[Kmain.cpp:1204:33:\u001b[m\u001b[K   required from here\n",
      "\u001b[01m\u001b[Kmain.cpp:531:9:\u001b[m\u001b[K \u001b[01;35m\u001b[Kwarning: \u001b[m\u001b[K‘\u001b[01m\u001b[Kvoid* memset(void*, int, size_t)\u001b[m\u001b[K’ clearing an object of type ‘\u001b[01m\u001b[Kstd::array<std::pair<long long unsigned int, Solve()::Node*>, 524288>::value_type\u001b[m\u001b[K’ {aka ‘\u001b[01m\u001b[Kstruct std::pair<long long unsigned int, Solve()::Node*>\u001b[m\u001b[K’} with no trivial copy-assignment; use assignment instead [\u001b[01;35m\u001b[K-Wclass-memaccess\u001b[m\u001b[K]\n",
      "  531 |   \u001b[01;35m\u001b[Kmemset(&data[0], 0, sizeof(data))\u001b[m\u001b[K;\n",
      "      |   \u001b[01;35m\u001b[K~~~~~~^~~~~~~~~~~~~~~~~~~~~~~~~~~\u001b[m\u001b[K\n",
      "In file included from \u001b[01m\u001b[K/usr/include/c++/9/bits/stl_algobase.h:64\u001b[m\u001b[K,\n",
      "                 from \u001b[01m\u001b[K/usr/include/c++/9/bits/char_traits.h:39\u001b[m\u001b[K,\n",
      "                 from \u001b[01m\u001b[K/usr/include/c++/9/ios:40\u001b[m\u001b[K,\n",
      "                 from \u001b[01m\u001b[K/usr/include/c++/9/ostream:38\u001b[m\u001b[K,\n",
      "                 from \u001b[01m\u001b[K/usr/include/c++/9/iostream:39\u001b[m\u001b[K,\n",
      "                 from \u001b[01m\u001b[Kmain.cpp:8\u001b[m\u001b[K:\n",
      "\u001b[01m\u001b[K/usr/include/c++/9/bits/stl_pair.h:208:12:\u001b[m\u001b[K \u001b[01;36m\u001b[Knote: \u001b[m\u001b[K‘\u001b[01m\u001b[Kstd::array<std::pair<long long unsigned int, Solve()::Node*>, 524288>::value_type\u001b[m\u001b[K’ {aka ‘\u001b[01m\u001b[Kstruct std::pair<long long unsigned int, Solve()::Node*>\u001b[m\u001b[K’} declared here\n",
      "  208 |     struct \u001b[01;36m\u001b[Kpair\u001b[m\u001b[K\n",
      "      |            \u001b[01;36m\u001b[K^~~~\u001b[m\u001b[K\n",
      "\u001b[01m\u001b[Kmain.cpp:1111:8:\u001b[m\u001b[K \u001b[01;35m\u001b[Kwarning: \u001b[m\u001b[Kignoring return value of ‘\u001b[01m\u001b[Kint scanf(const char*, ...)\u001b[m\u001b[K’, declared with attribute warn_unused_result [\u001b[01;35m\u001b[K-Wunused-result\u001b[m\u001b[K]\n",
      " 1111 |   \u001b[01;35m\u001b[Kscanf(\"%d %d %d\", &buf, &buf, &buf)\u001b[m\u001b[K;\n",
      "      |   \u001b[01;35m\u001b[K~~~~~^~~~~~~~~~~~~~~~~~~~~~~~~~~~~~\u001b[m\u001b[K\n",
      "\u001b[01m\u001b[Kmain.cpp:1113:9:\u001b[m\u001b[K \u001b[01;35m\u001b[Kwarning: \u001b[m\u001b[Kignoring return value of ‘\u001b[01m\u001b[Kint scanf(const char*, ...)\u001b[m\u001b[K’, declared with attribute warn_unused_result [\u001b[01;35m\u001b[K-Wunused-result\u001b[m\u001b[K]\n",
      " 1113 |    \u001b[01;35m\u001b[Kscanf(\"%hhd %hhd %hd %hd %hd\", &R[i], &C[i], &S[i], &E[i], &V[i])\u001b[m\u001b[K;\n",
      "      |    \u001b[01;35m\u001b[K~~~~~^~~~~~~~~~~~~~~~~~~~~~~~~~~~~~~~~~~~~~~~~~~~~~~~~~~~~~~~~~~~\u001b[m\u001b[K\n"
     ]
    }
   ],
   "source": [
    "#!g++ {FILENAME} -std=gnu++17 -Wall -Wextra -O2 -DONLINE_JUDGE -o {FILENAME}.out\n",
    "!g++ {FILENAME} -std=gnu++17 -Wall -Wextra -O2 -o {FILENAME}.out"
   ]
  },
  {
   "cell_type": "code",
   "execution_count": 4,
   "id": "2540d7e8",
   "metadata": {
    "scrolled": true
   },
   "outputs": [
    {
     "name": "stdout",
     "output_type": "stream",
     "text": [
      "0000.txt  0025.txt  0050.txt  0075.txt\t0100.txt  0125.txt  0150.txt  0175.txt\r\n",
      "0001.txt  0026.txt  0051.txt  0076.txt\t0101.txt  0126.txt  0151.txt  0176.txt\r\n",
      "0002.txt  0027.txt  0052.txt  0077.txt\t0102.txt  0127.txt  0152.txt  0177.txt\r\n",
      "0003.txt  0028.txt  0053.txt  0078.txt\t0103.txt  0128.txt  0153.txt  0178.txt\r\n",
      "0004.txt  0029.txt  0054.txt  0079.txt\t0104.txt  0129.txt  0154.txt  0179.txt\r\n",
      "0005.txt  0030.txt  0055.txt  0080.txt\t0105.txt  0130.txt  0155.txt  0180.txt\r\n",
      "0006.txt  0031.txt  0056.txt  0081.txt\t0106.txt  0131.txt  0156.txt  0181.txt\r\n",
      "0007.txt  0032.txt  0057.txt  0082.txt\t0107.txt  0132.txt  0157.txt  0182.txt\r\n",
      "0008.txt  0033.txt  0058.txt  0083.txt\t0108.txt  0133.txt  0158.txt  0183.txt\r\n",
      "0009.txt  0034.txt  0059.txt  0084.txt\t0109.txt  0134.txt  0159.txt  0184.txt\r\n",
      "0010.txt  0035.txt  0060.txt  0085.txt\t0110.txt  0135.txt  0160.txt  0185.txt\r\n",
      "0011.txt  0036.txt  0061.txt  0086.txt\t0111.txt  0136.txt  0161.txt  0186.txt\r\n",
      "0012.txt  0037.txt  0062.txt  0087.txt\t0112.txt  0137.txt  0162.txt  0187.txt\r\n",
      "0013.txt  0038.txt  0063.txt  0088.txt\t0113.txt  0138.txt  0163.txt  0188.txt\r\n",
      "0014.txt  0039.txt  0064.txt  0089.txt\t0114.txt  0139.txt  0164.txt  0189.txt\r\n",
      "0015.txt  0040.txt  0065.txt  0090.txt\t0115.txt  0140.txt  0165.txt  0190.txt\r\n",
      "0016.txt  0041.txt  0066.txt  0091.txt\t0116.txt  0141.txt  0166.txt  0191.txt\r\n",
      "0017.txt  0042.txt  0067.txt  0092.txt\t0117.txt  0142.txt  0167.txt  0192.txt\r\n",
      "0018.txt  0043.txt  0068.txt  0093.txt\t0118.txt  0143.txt  0168.txt  0193.txt\r\n",
      "0019.txt  0044.txt  0069.txt  0094.txt\t0119.txt  0144.txt  0169.txt  0194.txt\r\n",
      "0020.txt  0045.txt  0070.txt  0095.txt\t0120.txt  0145.txt  0170.txt  0195.txt\r\n",
      "0021.txt  0046.txt  0071.txt  0096.txt\t0121.txt  0146.txt  0171.txt  0196.txt\r\n",
      "0022.txt  0047.txt  0072.txt  0097.txt\t0122.txt  0147.txt  0172.txt  0197.txt\r\n",
      "0023.txt  0048.txt  0073.txt  0098.txt\t0123.txt  0148.txt  0173.txt  0198.txt\r\n",
      "0024.txt  0049.txt  0074.txt  0099.txt\t0124.txt  0149.txt  0174.txt  0199.txt\r\n"
     ]
    }
   ],
   "source": [
    "# テストケース生成\n",
    "SEED = 1000\n",
    "N_TESTCASES = 200\n",
    "\n",
    "!mkdir in\n",
    "for i in range(N_TESTCASES):\n",
    "    filename = f\"{i:04d}.txt\"\n",
    "    seed = SEED + i\n",
    "    !python3 ../A/tester/generator.py {seed} > ./in/{filename}\n",
    "!ls in"
   ]
  },
  {
   "cell_type": "code",
   "execution_count": 5,
   "id": "678a1bb6",
   "metadata": {},
   "outputs": [],
   "source": [
    "TESTCASE_DIRECTORY = \"./in/\"\n",
    "TESTCASES = [f\"{i:04d}.txt\" for i in range(N_TESTCASES)]"
   ]
  },
  {
   "cell_type": "code",
   "execution_count": 6,
   "id": "512c5c39",
   "metadata": {
    "scrolled": true
   },
   "outputs": [
    {
     "name": "stdout",
     "output_type": "stream",
     "text": [
      "0013 time:3.6435 score:4675742\n",
      "0039 time:3.8312 score:4820756\n",
      "0026 time:4.0071 score:4462688\n",
      "0000 time:4.2611 score:4235557\n",
      "0014 time:3.8630 score:4859068\n",
      "0040 time:3.6094 score:4298254\n",
      "0027 time:3.7469 score:5192766\n",
      "0001 time:4.0315 score:4657923\n",
      "0015 0041 time:3.9880 score:4197704\n",
      "time:4.0970 score:5276637\n",
      "0028 time:3.8565 score:4357188\n",
      "0002 time:3.5526 score:3876682\n",
      "0042 time:3.6989 score:4794958\n",
      "0016 time:3.8587 score:4652312\n",
      "0029 time:3.8817 score:4597470\n",
      "0003 time:3.8518 score:4356212\n",
      "0017 time:3.7704 score:4093110\n",
      "0043 time:4.0073 score:4342810\n",
      "0030 time:3.7649 score:4271650\n",
      "0004 time:3.7991 score:3972230\n",
      "0044 time:3.2408 score:4865847\n",
      "0018 time:3.6838 score:4425650\n",
      "0031 time:3.4910 score:4074825\n",
      "0005 time:3.8156 score:4512272\n",
      "0045 time:3.2726 score:4352058\n",
      "0019 time:3.4560 score:4103324\n",
      "0032 time:3.3466 score:4896056\n",
      "0006 time:3.6317 score:4322384\n",
      "0046 time:3.3922 score:4551838\n",
      "0033 time:2.9554 score:3703299\n",
      "0020 time:3.5148 score:4871210\n",
      "0007 time:3.4608 score:5111970\n",
      "0047 time:3.3779 score:4782849\n",
      "0034 time:3.6985 score:5268291\n",
      "0021 time:3.5916 score:4606860\n",
      "0008 time:3.5452 score:4998308\n",
      "0048 time:3.3839score:4110761 \n",
      "0035 time:3.3989 score:4422214\n",
      "0022 time:3.7111 score:4271993\n",
      "0009 time:3.5098 score:4472942\n",
      "0049 time:3.7432 score:4384685\n",
      "0036 time:3.7322 score:5341775\n",
      "0023 time:3.6316 score:4374692\n",
      "0010 time:3.5838 score:4168673\n",
      "0050 time:3.5984 score:4217473\n",
      "0024 time:3.1206 score:4217283\n",
      "0037 time:4.0147 score:4105875\n",
      "0011 time:3.9680 score:4587374\n",
      "0051 time:3.7843 score:4342668\n",
      "0025 time:3.8645 score:4458510\n",
      "0038 time:3.9219 score:5455734\n",
      "0012 time:3.1563 score:4067435\n",
      "0052 time:3.2914 score:4356109\n",
      "0065 time:3.2363 score:4613564\n",
      "0078 time:3.2993 score:4675885\n",
      "0091 time:3.2035 score:4120477\n",
      "0053 time:3.3563 score:4217787\n",
      "0066 time:3.6805 score:5072674\n",
      "0079 time:3.3214 score:4092308\n",
      "0092 time:3.6722 score:5186846\n",
      "0054 time:3.7061 score:4129142\n",
      "0067 time:3.4091 score:4668905\n",
      "0080 time:3.3845 score:4138710\n",
      "0093 time:3.5336 score:4646589\n",
      "0055 time:3.6321 score:4161602\n",
      "0081 time:3.2656 score:5241573\n",
      "0068 time:3.5459 score:4575249\n",
      "0094 time:3.4294 score:4095777\n",
      "0082 time:3.2682 score:4397886\n",
      "0056 time:3.6940 score:4012987\n",
      "0069 time:3.9055 score:4105024\n",
      "0095 time:4.0005 score:5144932\n",
      "0057 time:3.3527 score:4607219\n",
      "0083 time:3.5409 score:4523965\n",
      "0070 time:3.5407 score:4959234\n",
      "0096time:3.8075  score:4418951\n",
      "0058 time:3.8514 score:4371025\n",
      "0084 time:4.0066 score:4075663\n",
      "0071 time:3.4651 score:4018148\n",
      "0097 time:3.3898 score:4360789\n",
      "0059 time:3.6484 score:4376171\n",
      "0085 time:3.6221 score:4407067\n",
      "0072 time:3.3403 score:4477189\n",
      "0098 time:3.4819 score:4060718\n",
      "0060 0073 time:3.8964 score:4425518\n",
      "time:3.5364 score:4787931\n",
      "0086 time:3.8448 score:4672234\n",
      "0099 time:3.3318 score:4144575\n",
      "0061 time:3.4196 score:4158331\n",
      "0074 time:3.4947 score:4482642\n",
      "0087 time:3.7915 score:4330781\n",
      "0100 time:3.1233 score:4409750\n",
      "0075 time:3.0044 score:3426667\n",
      "0062 time:3.4053 score:4314915\n",
      "0101 time:2.9654 score:4401038\n",
      "0088 time:3.3979 score:4506553\n",
      "0063 time:3.4132 score:4224518\n",
      "0076 time:3.6941 score:4619681\n",
      "0089 time:3.4528 score:4217740\n",
      "0102 time:3.5809 score:4445739\n",
      "0064 time:3.7760 score:3797479\n",
      "0077 time:3.7573 score:4471148\n",
      "0090 time:3.3806 score:4511825\n",
      "0103 time:3.6350 score:4354484\n",
      "0104 time:3.6784 score:3811570\n",
      "0117 time:3.8148 score:4832810\n",
      "0143 time:3.5275 score:4658206\n",
      "0130 time:3.9316 score:4190219\n",
      "0118 time:3.7145 score:4321884\n",
      "0105 time:3.9206 score:4351542\n",
      "0131 time:3.8496 score:4580102\n",
      "0144 time:4.0681 score:4567512\n",
      "0106 time:3.4393 score:4035655\n",
      "0119 time:4.0149 score:4886637\n",
      "0145 time:3.3549 score:4857795\n",
      "0132 time:4.0660 score:4883649\n",
      "0107 time:3.7772 score:4410233\n",
      "0120 time:3.4873 score:4997805\n",
      "0146 time:3.6315 score:4254946\n",
      "0133 time:3.4641 score:4355175\n",
      "0108 time:3.3834 score:4545598\n",
      "0121 time:3.9547 score:4638363\n",
      "0147 time:3.8493 score:4571640\n",
      "0134 time:3.4517 score:4561404\n",
      "0109 time:3.5499 score:3953240\n",
      "0148 time:3.47070122  score:4315374time:3.8118\n",
      " score:4782317\n",
      "0135 time:3.4191 score:4310154\n",
      "0110 time:3.7544 score:4563872\n",
      "0149 time:3.7781 score:4210140\n",
      "0136 time:4.2345 score:5164712\n",
      "0123 time:4.3858 score:4363926\n",
      "0111 time:3.9639 score:4636517\n",
      "0137 time:3.8144 score:4321968\n",
      "0124 time:3.8627 score:4814814\n",
      "0150 time:4.5044 score:4634651\n",
      "0112 time:3.9165 score:4020771\n",
      "0138 time:3.9912 score:4404118\n",
      "0151 time:4.2101 score:3936758\n",
      "0125 time:4.4632 score:4297235\n",
      "0113 time:3.5866 score:4815370\n",
      "0139 time:3.3612 score:4282586\n",
      "0152 time:3.8826 score:4553279\n",
      "0126 time:4.0104 score:5165581\n",
      "0114 time:3.2770 score:4059014\n",
      "0140 time:3.5267 score:4242220\n",
      "0153 time:3.4532 score:4262934\n",
      "0127 time:3.5170 score:4707980\n",
      "0115 time:3.3841 score:4241343\n",
      "0141 time:3.3855 score:4812245\n",
      "0154 time:3.5842 score:4308893\n",
      "0128 time:3.6622 score:4080758\n",
      "0116 time:3.9701 score:4738389\n",
      "0142 time:3.1689 score:3817819\n",
      "0155 time:3.8411 score:4421097\n",
      "0129 time:3.8697 score:4588934\n",
      "0156 time:3.7010 score:4296137\n",
      "0169 time:3.6996 score:4702943\n",
      "0195time:3.1695  score:4024895\n",
      "0182 time:3.7958 score:5095840\n",
      "0157 time:3.7930 score:4576704\n",
      "0170 time:3.8512 score:4844033\n",
      "0196 time:4.1475 score:4426096\n",
      "0183 time:4.2035 score:4428377\n",
      "0158 time:4.1289 score:4596275\n",
      "0171 time:4.4153 score:4671001\n",
      "0197 time:3.7356 score:3926438\n",
      "0184 time:4.2994 score:4357588\n",
      "0159 time:4.0286 score:3997753\n",
      "0172 time:3.6949 score:4132536\n",
      "0198 time:3.8369 score:4733280\n",
      "0185 time:3.6677 score:4986347\n",
      "0160 time:3.5593 score:5456649\n",
      "0173 time:3.7234 score:4267727\n",
      "0199 time:3.5446 score:4676190\n",
      "0186 time:3.5088 score:4460647\n",
      "0161 time:3.8967 score:4490737\n",
      "0174 time:3.0530 score:4190935\n",
      "0162 time:2.8078 score:4614368\n",
      "0187 time:4.4891 score:5085998\n",
      "0175 time:3.5249 score:5042921\n",
      "0163 time:2.4286 score:4382230\n",
      "0188 time:3.2789 score:4941718\n",
      "0176 time:2.9116 score:4794195\n",
      "0164 time:2.6140 score:4436099\n",
      "0177 time:2.7753 score:4368640\n",
      "0189 time:3.7741 score:4842360\n",
      "0165 time:3.0961 score:4424027\n",
      "0178 time:2.6769 score:4791098\n",
      "0190 time:3.5094 score:4473659\n",
      "0166 time:2.9064 score:3945444\n",
      "0179 time:3.4496 score:4373879\n",
      "0191 time:2.5383 score:3983207\n",
      "0167 time:3.5811 score:4276521\n",
      "0180 time:2.5254 score:4481787\n",
      "0192 time:3.0508 score:4695832\n",
      "0181 time:2.5537 score:4522652\n",
      "0168 time:3.6341 score:4692244\n",
      "0193 time:2.7252 score:4531437\n",
      "0194 time:2.2525 score:3885841\n"
     ]
    },
    {
     "data": {
      "text/plain": [
       "(223.6298995, 17.610864258687727)"
      ]
     },
     "execution_count": 6,
     "metadata": {},
     "output_type": "execute_result"
    }
   ],
   "source": [
    "# もとのスコアの確認\n",
    "\n",
    "scores = []\n",
    "times = []\n",
    "\n",
    "!mkdir out\n",
    "\n",
    "def parallel(i):\n",
    "    testcase = TESTCASES[i]\n",
    "    i = f\"{i:04d}\"\n",
    "    t0 = time()\n",
    "    !./{FILENAME}.out < {TESTCASE_DIRECTORY}{testcase} > ./out/{testcase} 2> /dev/null\n",
    "    t = time() - t0\n",
    "    score = !python3 ../A/tester/judge.py {TESTCASE_DIRECTORY}{testcase} ./out/{testcase}\n",
    "    print(i, f\"time:{t:.4f}\", *score)\n",
    "    score = int(score[0].split(\":\")[-1])\n",
    "    return score, t\n",
    "\n",
    "with Pool(4) as p:\n",
    "    for score, t in p.map(parallel, range(N_TESTCASES)):\n",
    "        scores.append(score)\n",
    "        times.append(t)\n",
    "\n",
    "np.mean(scores) * 50 / 1e6, np.std(scores) * 50 / 1e6"
   ]
  },
  {
   "cell_type": "code",
   "execution_count": 7,
   "id": "acc6c179",
   "metadata": {},
   "outputs": [
    {
     "data": {
      "image/png": "[encoded data removed]",
      "text/plain": [
       "<Figure size 432x288 with 1 Axes>"
      ]
     },
     "metadata": {
      "needs_background": "light"
     },
     "output_type": "display_data"
    }
   ],
   "source": [
    "plt.hist(scores, bins=20)\n",
    "plt.show()"
   ]
  },
  {
   "cell_type": "code",
   "execution_count": 8,
   "id": "be76975b",
   "metadata": {},
   "outputs": [
    {
     "name": "stdout",
     "output_type": "stream",
     "text": [
      "5 variables were found.\n"
     ]
    },
    {
     "data": {
      "text/html": [
       "<div>\n",
       "<style scoped>\n",
       "    .dataframe tbody tr th:only-of-type {\n",
       "        vertical-align: middle;\n",
       "    }\n",
       "\n",
       "    .dataframe tbody tr th {\n",
       "        vertical-align: top;\n",
       "    }\n",
       "\n",
       "    .dataframe thead th {\n",
       "        text-align: right;\n",
       "    }\n",
       "</style>\n",
       "<table border=\"1\" class=\"dataframe\">\n",
       "  <thead>\n",
       "    <tr style=\"text-align: right;\">\n",
       "      <th></th>\n",
       "      <th>name</th>\n",
       "      <th>method</th>\n",
       "      <th>min</th>\n",
       "      <th>max</th>\n",
       "      <th>log</th>\n",
       "      <th>left</th>\n",
       "      <th>right</th>\n",
       "      <th>choices</th>\n",
       "    </tr>\n",
       "  </thead>\n",
       "  <tbody>\n",
       "    <tr>\n",
       "      <th>0</th>\n",
       "      <td>K_START</td>\n",
       "      <td>suggest_float</td>\n",
       "      <td>0.020</td>\n",
       "      <td>0.060</td>\n",
       "      <td>True</td>\n",
       "      <td>constexpr double K_START =</td>\n",
       "      <td>;  // OPTIMIZE [0.02, 0.06] LOG</td>\n",
       "      <td>NaN</td>\n",
       "    </tr>\n",
       "    <tr>\n",
       "      <th>1</th>\n",
       "      <td>K_END</td>\n",
       "      <td>suggest_float</td>\n",
       "      <td>0.010</td>\n",
       "      <td>0.050</td>\n",
       "      <td>True</td>\n",
       "      <td>constexpr double K_END =</td>\n",
       "      <td>;   // OPTIMIZE [0.01, 0.05] LOG</td>\n",
       "      <td>NaN</td>\n",
       "    </tr>\n",
       "    <tr>\n",
       "      <th>2</th>\n",
       "      <td>K_H</td>\n",
       "      <td>suggest_float</td>\n",
       "      <td>0.001</td>\n",
       "      <td>0.999</td>\n",
       "      <td>False</td>\n",
       "      <td>constexpr double K_H =</td>\n",
       "      <td>;      // OPTIMIZE [0.001, 0.999]</td>\n",
       "      <td>NaN</td>\n",
       "    </tr>\n",
       "    <tr>\n",
       "      <th>3</th>\n",
       "      <td>PURCHASE_TURN_LIMIT</td>\n",
       "      <td>suggest_int</td>\n",
       "      <td>780.000</td>\n",
       "      <td>880.000</td>\n",
       "      <td>False</td>\n",
       "      <td>constexpr short PURCHASE_TURN_LIMIT =</td>\n",
       "      <td>;  // OPTIMIZE [780, 880]</td>\n",
       "      <td>NaN</td>\n",
       "    </tr>\n",
       "    <tr>\n",
       "      <th>4</th>\n",
       "      <td>ROUGH_HASH</td>\n",
       "      <td>suggest_categorical</td>\n",
       "      <td>NaN</td>\n",
       "      <td>NaN</td>\n",
       "      <td>NaN</td>\n",
       "      <td>constexpr int ROUGH_HASH =</td>\n",
       "      <td>;  // OPTIMIZE {0, 0b00000001, 0b00010001, 0b0...</td>\n",
       "      <td>[0, 0b00000001, 0b00010001, 0b00010011, 0b0011...</td>\n",
       "    </tr>\n",
       "  </tbody>\n",
       "</table>\n",
       "</div>"
      ],
      "text/plain": [
       "                  name               method      min      max    log  \\\n",
       "0              K_START        suggest_float    0.020    0.060   True   \n",
       "1                K_END        suggest_float    0.010    0.050   True   \n",
       "2                  K_H        suggest_float    0.001    0.999  False   \n",
       "3  PURCHASE_TURN_LIMIT          suggest_int  780.000  880.000  False   \n",
       "4           ROUGH_HASH  suggest_categorical      NaN      NaN    NaN   \n",
       "\n",
       "                                     left  \\\n",
       "0             constexpr double K_START =    \n",
       "1               constexpr double K_END =    \n",
       "2                 constexpr double K_H =    \n",
       "3  constexpr short PURCHASE_TURN_LIMIT =    \n",
       "4             constexpr int ROUGH_HASH =    \n",
       "\n",
       "                                               right  \\\n",
       "0                    ;  // OPTIMIZE [0.02, 0.06] LOG   \n",
       "1                   ;   // OPTIMIZE [0.01, 0.05] LOG   \n",
       "2                  ;      // OPTIMIZE [0.001, 0.999]   \n",
       "3                          ;  // OPTIMIZE [780, 880]   \n",
       "4  ;  // OPTIMIZE {0, 0b00000001, 0b00010001, 0b0...   \n",
       "\n",
       "                                             choices  \n",
       "0                                                NaN  \n",
       "1                                                NaN  \n",
       "2                                                NaN  \n",
       "3                                                NaN  \n",
       "4  [0, 0b00000001, 0b00010001, 0b00010011, 0b0011...  "
      ]
     },
     "metadata": {},
     "output_type": "display_data"
    }
   ],
   "source": [
    "# ここでエラー出力は何かおかしいかもしれない\n",
    "\n",
    "\n",
    "# パラメータ抽出\n",
    "with open(FILENAME) as f:\n",
    "    answer = f.read()\n",
    "\n",
    "\n",
    "variables_optimize = []\n",
    "\n",
    "for left, value, right, options in re.findall(r\"^([^/\\n]*=\\s*)(.+?)(\\s*;\\s*//(?:.*\\W)?OPTIMIZE(\\W.*))$\", answer, re.MULTILINE):\n",
    "    name = left.replace(\"=\", \"\").strip().split()[-1]\n",
    "    \n",
    "    searched = re.search(r\".*\\[(?P<min>.*),(?P<max>.*)\\].*\", options)\n",
    "    if searched:\n",
    "        min_value = max_value = None\n",
    "        try:\n",
    "            min_value = eval(searched.group(\"min\"))\n",
    "            max_value = eval(searched.group(\"max\"))\n",
    "            assert min_value <= max_value\n",
    "        except Exception as e:\n",
    "            print(f\"searched={searched}\", file=sys.stderr)\n",
    "            print(e, file=sys.stderr)\n",
    "            continue\n",
    "        log = \"LOG\" in options  # 雑、直したほうが良い\n",
    "        if type(min_value) != type(max_value):\n",
    "            print(f\"searched={searched}\", file=sys.stderr)\n",
    "            print(\"types not matched\", file=sys.stderr)\n",
    "            continue\n",
    "        if isinstance(min_value, int):\n",
    "            method = \"suggest_int\"\n",
    "        elif isinstance(min_value, float):\n",
    "            method = \"suggest_float\"\n",
    "        else:\n",
    "            print(f\"searched={searched}\", file=sys.stderr)\n",
    "            print(f\"unknown type ({type(min_value)})\", file=sys.stderr)\n",
    "            continue\n",
    "        variables_optimize.append({\n",
    "            \"name\": name,\n",
    "            \"method\": method,\n",
    "            \"min\": min_value,\n",
    "            \"max\": max_value,\n",
    "            \"log\": log,\n",
    "            \"left\": left,\n",
    "            \"right\": right,\n",
    "        })\n",
    "    elif searched := re.search(r\".*\\{(?P<choices>.*?)\\}.*\", options):\n",
    "        choices = list(map(lambda x: x.strip(), searched.group(\"choices\").split(\",\")))\n",
    "        variables_optimize.append({\n",
    "            \"name\": name,\n",
    "            \"method\": \"suggest_categorical\",\n",
    "            \"choices\": choices,\n",
    "            \"left\": left,\n",
    "            \"right\": right,\n",
    "        })\n",
    "    else:\n",
    "        print(f\"searched={searched}\", file=sys.stderr)\n",
    "        print(f\"pattern was matched but options are incorrect.\", file=sys.stderr)\n",
    "\n",
    "print(len(variables_optimize), \"variables were found.\")\n",
    "if globals().get(\"pd\"):\n",
    "    display(pd.DataFrame(variables_optimize))\n",
    "else:\n",
    "    pprint(variables_optimize)"
   ]
  },
  {
   "cell_type": "code",
   "execution_count": 9,
   "id": "5134f5e0",
   "metadata": {},
   "outputs": [],
   "source": [
    "def escape(string):  # 正規表現の中でそのまま使いたい文字列をエスケープ\n",
    "    res = !echo '{string}' | sed -e 's/[]\\/$*.^[]/\\\\&/g'\n",
    "    return res[0]\n",
    "\n",
    "def escape_sed(string):  # sed の置換後の文字列用のエスケープ\n",
    "    res = !echo '{string}' | sed -e 's/[\\/&]/\\\\&/g'\n",
    "    return res[0]\n",
    "\n",
    "\n",
    "def objective_with_index(trial, n_internal_parallel):\n",
    "    index_parallel = trial.number % 12  # これ変数にする\n",
    "    print(f\"{index_parallel=}\")\n",
    "    \n",
    "    parameters_changed_filename = f\"{index_parallel}_{FILENAME}\"\n",
    "    #directory_input = \"./in\"  # \"/\" をつけない  # 中のすべてのファイルに対して実行される\n",
    "    \n",
    "    !mkdir {index_parallel}_out 2> /dev/null\n",
    "    !mkdir {index_parallel}_score 2> /dev/null\n",
    "    !rm {index_parallel}_out/*\n",
    "    !rm {index_parallel}_score/*\n",
    "    \n",
    "    # ファイル作成\n",
    "    !cp {FILENAME} {parameters_changed_filename}\n",
    "    sed_options = [f\"-i {parameters_changed_filename}\"]\n",
    "    for variable in variables_optimize:\n",
    "        if variable[\"method\"] == \"suggest_categorical\":\n",
    "            val =  trial.suggest_categorical(variable[\"name\"], variable[\"choices\"])\n",
    "        else:\n",
    "            val = getattr(trial, variable[\"method\"])(variable[\"name\"], variable[\"min\"], variable[\"max\"], log=variable[\"log\"])\n",
    "        left = variable[\"left\"]\n",
    "        right = variable[\"right\"]\n",
    "        sed_options.append(f\"\"\"-e 's/^{escape(left)}.*{escape(right)}$/{escape_sed(left)}{val}{escape_sed(right)}/'\"\"\")\n",
    "    command_sed = f\"sed {' '.join(sed_options)}\"\n",
    "    print(command_sed)\n",
    "    !{command_sed}\n",
    "    \n",
    "    # コンパイル\n",
    "    command_compile = f\"g++ {parameters_changed_filename} -std=gnu++17 -O2 -DONLINE_JUDGE -o {parameters_changed_filename}.out 2> /dev/null\"\n",
    "    print(command_compile)\n",
    "    !{command_compile}\n",
    "    \n",
    "    # 実行・採点コマンド (@ はファイル名)\n",
    "    command_exec = (\n",
    "        f\"./{parameters_changed_filename}.out < {TESTCASE_DIRECTORY}@ >./{index_parallel}_out/@ 2> /dev/null;\"\n",
    "        f\"python3 ../A/tester/judge.py {TESTCASE_DIRECTORY}@ ./{index_parallel}_out/@ > ./{index_parallel}_score/@\"\n",
    "        \n",
    "        #f\"cargo run --release --manifest-path ../tools/Cargo.toml --bin tester {directory_input}/@ $(pwd)/{parameters_changed_filename}.out 2>&1 | grep Score | sed -E s/[^0-9]+// > ./{index_parallel}_score/@;\"\n",
    "        \n",
    "        #f\"./{parameters_changed_filename}.out < {directory_input}/@ > ./{index_parallel}_out/@;\"\n",
    "        #f\"cargo run --release --manifest-path ./tools/Cargo.toml --bin vis {directory_input}/@ ./{index_parallel}_out/@ 2> /dev/null > ./{index_parallel}_score/@;\"\n",
    "    )\n",
    "    \n",
    "    # 並列実行 (sed はパスのディレクトリ部分を消してファイル名にしてる)\n",
    "    !find {TESTCASE_DIRECTORY}/* | sed 's!^.*/!!' | xargs -I@ -P {n_internal_parallel} sh -c '{command_exec}'\n",
    "    \n",
    "    # 集計\n",
    "    file_paths = !find ./{index_parallel}_score/*\n",
    "    sum_score = 0\n",
    "    for file_path in file_paths:  \n",
    "        with open(file_path) as f:\n",
    "            sum_score += int(f.read().split(\":\")[-1])\n",
    "    return sum_score"
   ]
  },
  {
   "cell_type": "code",
   "execution_count": null,
   "id": "1c896038",
   "metadata": {
    "scrolled": true
   },
   "outputs": [
    {
     "name": "stderr",
     "output_type": "stream",
     "text": [
      "\u001b[32m[I 2021-09-10 03:54:06,105]\u001b[0m A new study created in RDB with name: study\u001b[0m\n"
     ]
    },
    {
     "name": "stdout",
     "output_type": "stream",
     "text": [
      "index_parallel=0\n",
      "rm: cannot remove '0_out/*': No such file or directory\n",
      "rm: cannot remove '0_score/*': No such file or directory\n",
      "sed -i 0_main.cpp -e 's/^constexpr double K_START = .*;  \\/\\/ OPTIMIZE \\[0\\.02, 0\\.06\\] LOG$/constexpr double K_START = 0.051655456859383726;  \\/\\/ OPTIMIZE [0.02, 0.06] LOG/' -e 's/^constexpr double K_END = .*;   \\/\\/ OPTIMIZE \\[0\\.01, 0\\.05\\] LOG$/constexpr double K_END = 0.03137193354027786;   \\/\\/ OPTIMIZE [0.01, 0.05] LOG/' -e 's/^constexpr double K_H = .*;      \\/\\/ OPTIMIZE \\[0\\.001, 0\\.999\\]$/constexpr double K_H = 0.7918522970262206;      \\/\\/ OPTIMIZE [0.001, 0.999]/' -e 's/^constexpr short PURCHASE_TURN_LIMIT = .*;  \\/\\/ OPTIMIZE \\[780, 880\\]$/constexpr short PURCHASE_TURN_LIMIT = 866;  \\/\\/ OPTIMIZE [780, 880]/' -e 's/^constexpr int ROUGH_HASH = .*;  \\/\\/ OPTIMIZE {0, 0b00000001, 0b00010001, 0b00010011, 0b00110011}$/constexpr int ROUGH_HASH = 0b00010011;  \\/\\/ OPTIMIZE {0, 0b00000001, 0b00010001, 0b00010011, 0b00110011}/'\n",
      "g++ 0_main.cpp -std=gnu++17 -O2 -DONLINE_JUDGE -o 0_main.cpp.out 2> /dev/null\n"
     ]
    },
    {
     "name": "stderr",
     "output_type": "stream",
     "text": [
      "\u001b[32m[I 2021-09-10 03:57:21,978]\u001b[0m Trial 0 finished with value: 861024185.0 and parameters: {'K_START': 0.051655456859383726, 'K_END': 0.03137193354027786, 'K_H': 0.7918522970262206, 'PURCHASE_TURN_LIMIT': 866, 'ROUGH_HASH': '0b00010011'}. Best is trial 0 with value: 861024185.0.\u001b[0m\n"
     ]
    },
    {
     "name": "stdout",
     "output_type": "stream",
     "text": [
      "Updated! 861024185.0\n",
      "callback ok\n",
      "index_parallel=1\n",
      "rm: cannot remove '1_out/*': No such file or directory\n",
      "rm: cannot remove '1_score/*': No such file or directory\n",
      "sed -i 1_main.cpp -e 's/^constexpr double K_START = .*;  \\/\\/ OPTIMIZE \\[0\\.02, 0\\.06\\] LOG$/constexpr double K_START = 0.021373241836791016;  \\/\\/ OPTIMIZE [0.02, 0.06] LOG/' -e 's/^constexpr double K_END = .*;   \\/\\/ OPTIMIZE \\[0\\.01, 0\\.05\\] LOG$/constexpr double K_END = 0.03811451345184771;   \\/\\/ OPTIMIZE [0.01, 0.05] LOG/' -e 's/^constexpr double K_H = .*;      \\/\\/ OPTIMIZE \\[0\\.001, 0\\.999\\]$/constexpr double K_H = 0.719911121306159;      \\/\\/ OPTIMIZE [0.001, 0.999]/' -e 's/^constexpr short PURCHASE_TURN_LIMIT = .*;  \\/\\/ OPTIMIZE \\[780, 880\\]$/constexpr short PURCHASE_TURN_LIMIT = 812;  \\/\\/ OPTIMIZE [780, 880]/' -e 's/^constexpr int ROUGH_HASH = .*;  \\/\\/ OPTIMIZE {0, 0b00000001, 0b00010001, 0b00010011, 0b00110011}$/constexpr int ROUGH_HASH = 0;  \\/\\/ OPTIMIZE {0, 0b00000001, 0b00010001, 0b00010011, 0b00110011}/'\n",
      "g++ 1_main.cpp -std=gnu++17 -O2 -DONLINE_JUDGE -o 1_main.cpp.out 2> /dev/null\n"
     ]
    },
    {
     "name": "stderr",
     "output_type": "stream",
     "text": [
      "\u001b[32m[I 2021-09-10 04:00:50,119]\u001b[0m Trial 1 finished with value: 888938781.0 and parameters: {'K_START': 0.021373241836791016, 'K_END': 0.03811451345184771, 'K_H': 0.719911121306159, 'PURCHASE_TURN_LIMIT': 812, 'ROUGH_HASH': '0'}. Best is trial 1 with value: 888938781.0.\u001b[0m\n"
     ]
    },
    {
     "name": "stdout",
     "output_type": "stream",
     "text": [
      "Updated! 888938781.0\n",
      "callback ok\n",
      "index_parallel=2\n",
      "rm: cannot remove '2_out/*': No such file or directory\n",
      "rm: cannot remove '2_score/*': No such file or directory\n",
      "sed -i 2_main.cpp -e 's/^constexpr double K_START = .*;  \\/\\/ OPTIMIZE \\[0\\.02, 0\\.06\\] LOG$/constexpr double K_START = 0.0401108650028289;  \\/\\/ OPTIMIZE [0.02, 0.06] LOG/' -e 's/^constexpr double K_END = .*;   \\/\\/ OPTIMIZE \\[0\\.01, 0\\.05\\] LOG$/constexpr double K_END = 0.014382848512132054;   \\/\\/ OPTIMIZE [0.01, 0.05] LOG/' -e 's/^constexpr double K_H = .*;      \\/\\/ OPTIMIZE \\[0\\.001, 0\\.999\\]$/constexpr double K_H = 0.5360572623179805;      \\/\\/ OPTIMIZE [0.001, 0.999]/' -e 's/^constexpr short PURCHASE_TURN_LIMIT = .*;  \\/\\/ OPTIMIZE \\[780, 880\\]$/constexpr short PURCHASE_TURN_LIMIT = 814;  \\/\\/ OPTIMIZE [780, 880]/' -e 's/^constexpr int ROUGH_HASH = .*;  \\/\\/ OPTIMIZE {0, 0b00000001, 0b00010001, 0b00010011, 0b00110011}$/constexpr int ROUGH_HASH = 0b00110011;  \\/\\/ OPTIMIZE {0, 0b00000001, 0b00010001, 0b00010011, 0b00110011}/'\n",
      "g++ 2_main.cpp -std=gnu++17 -O2 -DONLINE_JUDGE -o 2_main.cpp.out 2> /dev/null\n"
     ]
    },
    {
     "name": "stderr",
     "output_type": "stream",
     "text": [
      "\u001b[32m[I 2021-09-10 04:03:34,514]\u001b[0m Trial 2 finished with value: 801827760.0 and parameters: {'K_START': 0.0401108650028289, 'K_END': 0.014382848512132054, 'K_H': 0.5360572623179805, 'PURCHASE_TURN_LIMIT': 814, 'ROUGH_HASH': '0b00110011'}. Best is trial 1 with value: 888938781.0.\u001b[0m\n"
     ]
    },
    {
     "name": "stdout",
     "output_type": "stream",
     "text": [
      "callback ok\n",
      "index_parallel=3\n",
      "rm: cannot remove '3_out/*': No such file or directory\n",
      "rm: cannot remove '3_score/*': No such file or directory\n",
      "sed -i 3_main.cpp -e 's/^constexpr double K_START = .*;  \\/\\/ OPTIMIZE \\[0\\.02, 0\\.06\\] LOG$/constexpr double K_START = 0.021434266047383573;  \\/\\/ OPTIMIZE [0.02, 0.06] LOG/' -e 's/^constexpr double K_END = .*;   \\/\\/ OPTIMIZE \\[0\\.01, 0\\.05\\] LOG$/constexpr double K_END = 0.04438827657447736;   \\/\\/ OPTIMIZE [0.01, 0.05] LOG/' -e 's/^constexpr double K_H = .*;      \\/\\/ OPTIMIZE \\[0\\.001, 0\\.999\\]$/constexpr double K_H = 0.6985290016549757;      \\/\\/ OPTIMIZE [0.001, 0.999]/' -e 's/^constexpr short PURCHASE_TURN_LIMIT = .*;  \\/\\/ OPTIMIZE \\[780, 880\\]$/constexpr short PURCHASE_TURN_LIMIT = 804;  \\/\\/ OPTIMIZE [780, 880]/' -e 's/^constexpr int ROUGH_HASH = .*;  \\/\\/ OPTIMIZE {0, 0b00000001, 0b00010001, 0b00010011, 0b00110011}$/constexpr int ROUGH_HASH = 0b00010001;  \\/\\/ OPTIMIZE {0, 0b00000001, 0b00010001, 0b00010011, 0b00110011}/'\n",
      "g++ 3_main.cpp -std=gnu++17 -O2 -DONLINE_JUDGE -o 3_main.cpp.out 2> /dev/null\n"
     ]
    },
    {
     "name": "stderr",
     "output_type": "stream",
     "text": [
      "\u001b[32m[I 2021-09-10 04:06:46,897]\u001b[0m Trial 3 finished with value: 886101580.0 and parameters: {'K_START': 0.021434266047383573, 'K_END': 0.04438827657447736, 'K_H': 0.6985290016549757, 'PURCHASE_TURN_LIMIT': 804, 'ROUGH_HASH': '0b00010001'}. Best is trial 1 with value: 888938781.0.\u001b[0m\n"
     ]
    },
    {
     "name": "stdout",
     "output_type": "stream",
     "text": [
      "callback ok\n",
      "index_parallel=4\n",
      "rm: cannot remove '4_out/*': No such file or directory\n",
      "rm: cannot remove '4_score/*': No such file or directory\n",
      "sed -i 4_main.cpp -e 's/^constexpr double K_START = .*;  \\/\\/ OPTIMIZE \\[0\\.02, 0\\.06\\] LOG$/constexpr double K_START = 0.04337151218687437;  \\/\\/ OPTIMIZE [0.02, 0.06] LOG/' -e 's/^constexpr double K_END = .*;   \\/\\/ OPTIMIZE \\[0\\.01, 0\\.05\\] LOG$/constexpr double K_END = 0.034980887170792195;   \\/\\/ OPTIMIZE [0.01, 0.05] LOG/' -e 's/^constexpr double K_H = .*;      \\/\\/ OPTIMIZE \\[0\\.001, 0\\.999\\]$/constexpr double K_H = 0.9545333962729241;      \\/\\/ OPTIMIZE [0.001, 0.999]/' -e 's/^constexpr short PURCHASE_TURN_LIMIT = .*;  \\/\\/ OPTIMIZE \\[780, 880\\]$/constexpr short PURCHASE_TURN_LIMIT = 788;  \\/\\/ OPTIMIZE [780, 880]/' -e 's/^constexpr int ROUGH_HASH = .*;  \\/\\/ OPTIMIZE {0, 0b00000001, 0b00010001, 0b00010011, 0b00110011}$/constexpr int ROUGH_HASH = 0;  \\/\\/ OPTIMIZE {0, 0b00000001, 0b00010001, 0b00010011, 0b00110011}/'\n",
      "g++ 4_main.cpp -std=gnu++17 -O2 -DONLINE_JUDGE -o 4_main.cpp.out 2> /dev/null\n"
     ]
    },
    {
     "name": "stderr",
     "output_type": "stream",
     "text": [
      "\u001b[32m[I 2021-09-10 04:10:09,901]\u001b[0m Trial 4 finished with value: 867428098.0 and parameters: {'K_START': 0.04337151218687437, 'K_END': 0.034980887170792195, 'K_H': 0.9545333962729241, 'PURCHASE_TURN_LIMIT': 788, 'ROUGH_HASH': '0'}. Best is trial 1 with value: 888938781.0.\u001b[0m\n"
     ]
    },
    {
     "name": "stdout",
     "output_type": "stream",
     "text": [
      "callback ok\n",
      "index_parallel=5\n",
      "rm: cannot remove '5_out/*': No such file or directory\n",
      "rm: cannot remove '5_score/*': No such file or directory\n",
      "sed -i 5_main.cpp -e 's/^constexpr double K_START = .*;  \\/\\/ OPTIMIZE \\[0\\.02, 0\\.06\\] LOG$/constexpr double K_START = 0.045108869250615025;  \\/\\/ OPTIMIZE [0.02, 0.06] LOG/' -e 's/^constexpr double K_END = .*;   \\/\\/ OPTIMIZE \\[0\\.01, 0\\.05\\] LOG$/constexpr double K_END = 0.04624355390380819;   \\/\\/ OPTIMIZE [0.01, 0.05] LOG/' -e 's/^constexpr double K_H = .*;      \\/\\/ OPTIMIZE \\[0\\.001, 0\\.999\\]$/constexpr double K_H = 0.3001303275900002;      \\/\\/ OPTIMIZE [0.001, 0.999]/' -e 's/^constexpr short PURCHASE_TURN_LIMIT = .*;  \\/\\/ OPTIMIZE \\[780, 880\\]$/constexpr short PURCHASE_TURN_LIMIT = 807;  \\/\\/ OPTIMIZE [780, 880]/' -e 's/^constexpr int ROUGH_HASH = .*;  \\/\\/ OPTIMIZE {0, 0b00000001, 0b00010001, 0b00010011, 0b00110011}$/constexpr int ROUGH_HASH = 0b00000001;  \\/\\/ OPTIMIZE {0, 0b00000001, 0b00010001, 0b00010011, 0b00110011}/'\n",
      "g++ 5_main.cpp -std=gnu++17 -O2 -DONLINE_JUDGE -o 5_main.cpp.out 2> /dev/null\n"
     ]
    },
    {
     "name": "stderr",
     "output_type": "stream",
     "text": [
      "\u001b[32m[I 2021-09-10 04:13:30,508]\u001b[0m Trial 5 finished with value: 727928543.0 and parameters: {'K_START': 0.045108869250615025, 'K_END': 0.04624355390380819, 'K_H': 0.3001303275900002, 'PURCHASE_TURN_LIMIT': 807, 'ROUGH_HASH': '0b00000001'}. Best is trial 1 with value: 888938781.0.\u001b[0m\n"
     ]
    },
    {
     "name": "stdout",
     "output_type": "stream",
     "text": [
      "callback ok\n",
      "index_parallel=6\n",
      "rm: cannot remove '6_out/*': No such file or directory\n",
      "rm: cannot remove '6_score/*': No such file or directory\n",
      "sed -i 6_main.cpp -e 's/^constexpr double K_START = .*;  \\/\\/ OPTIMIZE \\[0\\.02, 0\\.06\\] LOG$/constexpr double K_START = 0.023960756179581644;  \\/\\/ OPTIMIZE [0.02, 0.06] LOG/' -e 's/^constexpr double K_END = .*;   \\/\\/ OPTIMIZE \\[0\\.01, 0\\.05\\] LOG$/constexpr double K_END = 0.037502029462947235;   \\/\\/ OPTIMIZE [0.01, 0.05] LOG/' -e 's/^constexpr double K_H = .*;      \\/\\/ OPTIMIZE \\[0\\.001, 0\\.999\\]$/constexpr double K_H = 0.8444496866362601;      \\/\\/ OPTIMIZE [0.001, 0.999]/' -e 's/^constexpr short PURCHASE_TURN_LIMIT = .*;  \\/\\/ OPTIMIZE \\[780, 880\\]$/constexpr short PURCHASE_TURN_LIMIT = 848;  \\/\\/ OPTIMIZE [780, 880]/' -e 's/^constexpr int ROUGH_HASH = .*;  \\/\\/ OPTIMIZE {0, 0b00000001, 0b00010001, 0b00010011, 0b00110011}$/constexpr int ROUGH_HASH = 0b00010001;  \\/\\/ OPTIMIZE {0, 0b00000001, 0b00010001, 0b00010011, 0b00110011}/'\n",
      "g++ 6_main.cpp -std=gnu++17 -O2 -DONLINE_JUDGE -o 6_main.cpp.out 2> /dev/null\n"
     ]
    },
    {
     "name": "stderr",
     "output_type": "stream",
     "text": [
      "\u001b[32m[I 2021-09-10 04:16:52,535]\u001b[0m Trial 6 finished with value: 883882934.0 and parameters: {'K_START': 0.023960756179581644, 'K_END': 0.037502029462947235, 'K_H': 0.8444496866362601, 'PURCHASE_TURN_LIMIT': 848, 'ROUGH_HASH': '0b00010001'}. Best is trial 1 with value: 888938781.0.\u001b[0m\n"
     ]
    },
    {
     "name": "stdout",
     "output_type": "stream",
     "text": [
      "callback ok\n",
      "index_parallel=7\n",
      "rm: cannot remove '7_out/*': No such file or directory\n",
      "rm: cannot remove '7_score/*': No such file or directory\n",
      "sed -i 7_main.cpp -e 's/^constexpr double K_START = .*;  \\/\\/ OPTIMIZE \\[0\\.02, 0\\.06\\] LOG$/constexpr double K_START = 0.020834945299122807;  \\/\\/ OPTIMIZE [0.02, 0.06] LOG/' -e 's/^constexpr double K_END = .*;   \\/\\/ OPTIMIZE \\[0\\.01, 0\\.05\\] LOG$/constexpr double K_END = 0.023338977505482576;   \\/\\/ OPTIMIZE [0.01, 0.05] LOG/' -e 's/^constexpr double K_H = .*;      \\/\\/ OPTIMIZE \\[0\\.001, 0\\.999\\]$/constexpr double K_H = 0.27108834494101264;      \\/\\/ OPTIMIZE [0.001, 0.999]/' -e 's/^constexpr short PURCHASE_TURN_LIMIT = .*;  \\/\\/ OPTIMIZE \\[780, 880\\]$/constexpr short PURCHASE_TURN_LIMIT = 879;  \\/\\/ OPTIMIZE [780, 880]/' -e 's/^constexpr int ROUGH_HASH = .*;  \\/\\/ OPTIMIZE {0, 0b00000001, 0b00010001, 0b00010011, 0b00110011}$/constexpr int ROUGH_HASH = 0b00000001;  \\/\\/ OPTIMIZE {0, 0b00000001, 0b00010001, 0b00010011, 0b00110011}/'\n",
      "g++ 7_main.cpp -std=gnu++17 -O2 -DONLINE_JUDGE -o 7_main.cpp.out 2> /dev/null\n"
     ]
    },
    {
     "name": "stderr",
     "output_type": "stream",
     "text": [
      "\u001b[32m[I 2021-09-10 04:20:29,889]\u001b[0m Trial 7 finished with value: 821703982.0 and parameters: {'K_START': 0.020834945299122807, 'K_END': 0.023338977505482576, 'K_H': 0.27108834494101264, 'PURCHASE_TURN_LIMIT': 879, 'ROUGH_HASH': '0b00000001'}. Best is trial 1 with value: 888938781.0.\u001b[0m\n"
     ]
    },
    {
     "name": "stdout",
     "output_type": "stream",
     "text": [
      "callback ok\n",
      "index_parallel=8\n",
      "rm: cannot remove '8_out/*': No such file or directory\n",
      "rm: cannot remove '8_score/*': No such file or directory\n",
      "sed -i 8_main.cpp -e 's/^constexpr double K_START = .*;  \\/\\/ OPTIMIZE \\[0\\.02, 0\\.06\\] LOG$/constexpr double K_START = 0.05488879497921039;  \\/\\/ OPTIMIZE [0.02, 0.06] LOG/' -e 's/^constexpr double K_END = .*;   \\/\\/ OPTIMIZE \\[0\\.01, 0\\.05\\] LOG$/constexpr double K_END = 0.018746131446544488;   \\/\\/ OPTIMIZE [0.01, 0.05] LOG/' -e 's/^constexpr double K_H = .*;      \\/\\/ OPTIMIZE \\[0\\.001, 0\\.999\\]$/constexpr double K_H = 0.009293428962473326;      \\/\\/ OPTIMIZE [0.001, 0.999]/' -e 's/^constexpr short PURCHASE_TURN_LIMIT = .*;  \\/\\/ OPTIMIZE \\[780, 880\\]$/constexpr short PURCHASE_TURN_LIMIT = 782;  \\/\\/ OPTIMIZE [780, 880]/' -e 's/^constexpr int ROUGH_HASH = .*;  \\/\\/ OPTIMIZE {0, 0b00000001, 0b00010001, 0b00010011, 0b00110011}$/constexpr int ROUGH_HASH = 0b00110011;  \\/\\/ OPTIMIZE {0, 0b00000001, 0b00010001, 0b00010011, 0b00110011}/'\n",
      "g++ 8_main.cpp -std=gnu++17 -O2 -DONLINE_JUDGE -o 8_main.cpp.out 2> /dev/null\n"
     ]
    },
    {
     "name": "stderr",
     "output_type": "stream",
     "text": [
      "\u001b[32m[I 2021-09-10 04:23:19,411]\u001b[0m Trial 8 finished with value: 358171867.0 and parameters: {'K_START': 0.05488879497921039, 'K_END': 0.018746131446544488, 'K_H': 0.009293428962473326, 'PURCHASE_TURN_LIMIT': 782, 'ROUGH_HASH': '0b00110011'}. Best is trial 1 with value: 888938781.0.\u001b[0m\n"
     ]
    },
    {
     "name": "stdout",
     "output_type": "stream",
     "text": [
      "callback ok\n",
      "index_parallel=9\n",
      "rm: cannot remove '9_out/*': No such file or directory\n",
      "rm: cannot remove '9_score/*': No such file or directory\n",
      "sed -i 9_main.cpp -e 's/^constexpr double K_START = .*;  \\/\\/ OPTIMIZE \\[0\\.02, 0\\.06\\] LOG$/constexpr double K_START = 0.046729021408715044;  \\/\\/ OPTIMIZE [0.02, 0.06] LOG/' -e 's/^constexpr double K_END = .*;   \\/\\/ OPTIMIZE \\[0\\.01, 0\\.05\\] LOG$/constexpr double K_END = 0.04704861203847925;   \\/\\/ OPTIMIZE [0.01, 0.05] LOG/' -e 's/^constexpr double K_H = .*;      \\/\\/ OPTIMIZE \\[0\\.001, 0\\.999\\]$/constexpr double K_H = 0.6188217229307872;      \\/\\/ OPTIMIZE [0.001, 0.999]/' -e 's/^constexpr short PURCHASE_TURN_LIMIT = .*;  \\/\\/ OPTIMIZE \\[780, 880\\]$/constexpr short PURCHASE_TURN_LIMIT = 823;  \\/\\/ OPTIMIZE [780, 880]/' -e 's/^constexpr int ROUGH_HASH = .*;  \\/\\/ OPTIMIZE {0, 0b00000001, 0b00010001, 0b00010011, 0b00110011}$/constexpr int ROUGH_HASH = 0b00110011;  \\/\\/ OPTIMIZE {0, 0b00000001, 0b00010001, 0b00010011, 0b00110011}/'\n",
      "g++ 9_main.cpp -std=gnu++17 -O2 -DONLINE_JUDGE -o 9_main.cpp.out 2> /dev/null\n"
     ]
    },
    {
     "name": "stderr",
     "output_type": "stream",
     "text": [
      "\u001b[32m[I 2021-09-10 04:26:17,025]\u001b[0m Trial 9 finished with value: 605999091.0 and parameters: {'K_START': 0.046729021408715044, 'K_END': 0.04704861203847925, 'K_H': 0.6188217229307872, 'PURCHASE_TURN_LIMIT': 823, 'ROUGH_HASH': '0b00110011'}. Best is trial 1 with value: 888938781.0.\u001b[0m\n"
     ]
    },
    {
     "name": "stdout",
     "output_type": "stream",
     "text": [
      "callback ok\n",
      "index_parallel=10\n",
      "rm: cannot remove '10_out/*': No such file or directory\n",
      "rm: cannot remove '10_score/*': No such file or directory\n",
      "sed -i 10_main.cpp -e 's/^constexpr double K_START = .*;  \\/\\/ OPTIMIZE \\[0\\.02, 0\\.06\\] LOG$/constexpr double K_START = 0.03062444938194489;  \\/\\/ OPTIMIZE [0.02, 0.06] LOG/' -e 's/^constexpr double K_END = .*;   \\/\\/ OPTIMIZE \\[0\\.01, 0\\.05\\] LOG$/constexpr double K_END = 0.010268122075022677;   \\/\\/ OPTIMIZE [0.01, 0.05] LOG/' -e 's/^constexpr double K_H = .*;      \\/\\/ OPTIMIZE \\[0\\.001, 0\\.999\\]$/constexpr double K_H = 0.37571020446986714;      \\/\\/ OPTIMIZE [0.001, 0.999]/' -e 's/^constexpr short PURCHASE_TURN_LIMIT = .*;  \\/\\/ OPTIMIZE \\[780, 880\\]$/constexpr short PURCHASE_TURN_LIMIT = 842;  \\/\\/ OPTIMIZE [780, 880]/' -e 's/^constexpr int ROUGH_HASH = .*;  \\/\\/ OPTIMIZE {0, 0b00000001, 0b00010001, 0b00010011, 0b00110011}$/constexpr int ROUGH_HASH = 0;  \\/\\/ OPTIMIZE {0, 0b00000001, 0b00010001, 0b00010011, 0b00110011}/'\n",
      "g++ 10_main.cpp -std=gnu++17 -O2 -DONLINE_JUDGE -o 10_main.cpp.out 2> /dev/null\n"
     ]
    },
    {
     "name": "stderr",
     "output_type": "stream",
     "text": [
      "\u001b[32m[I 2021-09-10 04:29:43,107]\u001b[0m Trial 10 finished with value: 809211781.0 and parameters: {'K_START': 0.03062444938194489, 'K_END': 0.010268122075022677, 'K_H': 0.37571020446986714, 'PURCHASE_TURN_LIMIT': 842, 'ROUGH_HASH': '0'}. Best is trial 1 with value: 888938781.0.\u001b[0m\n"
     ]
    },
    {
     "name": "stdout",
     "output_type": "stream",
     "text": [
      "callback ok\n",
      "index_parallel=11\n",
      "rm: cannot remove '11_out/*': No such file or directory\n",
      "rm: cannot remove '11_score/*': No such file or directory\n",
      "sed -i 11_main.cpp -e 's/^constexpr double K_START = .*;  \\/\\/ OPTIMIZE \\[0\\.02, 0\\.06\\] LOG$/constexpr double K_START = 0.02702180050529103;  \\/\\/ OPTIMIZE [0.02, 0.06] LOG/' -e 's/^constexpr double K_END = .*;   \\/\\/ OPTIMIZE \\[0\\.01, 0\\.05\\] LOG$/constexpr double K_END = 0.026499807571107602;   \\/\\/ OPTIMIZE [0.01, 0.05] LOG/' -e 's/^constexpr double K_H = .*;      \\/\\/ OPTIMIZE \\[0\\.001, 0\\.999\\]$/constexpr double K_H = 0.686158799163983;      \\/\\/ OPTIMIZE [0.001, 0.999]/' -e 's/^constexpr short PURCHASE_TURN_LIMIT = .*;  \\/\\/ OPTIMIZE \\[780, 880\\]$/constexpr short PURCHASE_TURN_LIMIT = 798;  \\/\\/ OPTIMIZE [780, 880]/' -e 's/^constexpr int ROUGH_HASH = .*;  \\/\\/ OPTIMIZE {0, 0b00000001, 0b00010001, 0b00010011, 0b00110011}$/constexpr int ROUGH_HASH = 0b00010001;  \\/\\/ OPTIMIZE {0, 0b00000001, 0b00010001, 0b00010011, 0b00110011}/'\n",
      "g++ 11_main.cpp -std=gnu++17 -O2 -DONLINE_JUDGE -o 11_main.cpp.out 2> /dev/null\n"
     ]
    },
    {
     "name": "stderr",
     "output_type": "stream",
     "text": [
      "\u001b[32m[I 2021-09-10 04:32:56,635]\u001b[0m Trial 11 finished with value: 845601125.0 and parameters: {'K_START': 0.02702180050529103, 'K_END': 0.026499807571107602, 'K_H': 0.686158799163983, 'PURCHASE_TURN_LIMIT': 798, 'ROUGH_HASH': '0b00010001'}. Best is trial 1 with value: 888938781.0.\u001b[0m\n"
     ]
    },
    {
     "name": "stdout",
     "output_type": "stream",
     "text": [
      "callback ok\n",
      "index_parallel=0\n",
      "sed -i 0_main.cpp -e 's/^constexpr double K_START = .*;  \\/\\/ OPTIMIZE \\[0\\.02, 0\\.06\\] LOG$/constexpr double K_START = 0.020377386452152316;  \\/\\/ OPTIMIZE [0.02, 0.06] LOG/' -e 's/^constexpr double K_END = .*;   \\/\\/ OPTIMIZE \\[0\\.01, 0\\.05\\] LOG$/constexpr double K_END = 0.047040402734174265;   \\/\\/ OPTIMIZE [0.01, 0.05] LOG/' -e 's/^constexpr double K_H = .*;      \\/\\/ OPTIMIZE \\[0\\.001, 0\\.999\\]$/constexpr double K_H = 0.7661694419128214;      \\/\\/ OPTIMIZE [0.001, 0.999]/' -e 's/^constexpr short PURCHASE_TURN_LIMIT = .*;  \\/\\/ OPTIMIZE \\[780, 880\\]$/constexpr short PURCHASE_TURN_LIMIT = 829;  \\/\\/ OPTIMIZE [780, 880]/' -e 's/^constexpr int ROUGH_HASH = .*;  \\/\\/ OPTIMIZE {0, 0b00000001, 0b00010001, 0b00010011, 0b00110011}$/constexpr int ROUGH_HASH = 0;  \\/\\/ OPTIMIZE {0, 0b00000001, 0b00010001, 0b00010011, 0b00110011}/'\n",
      "g++ 0_main.cpp -std=gnu++17 -O2 -DONLINE_JUDGE -o 0_main.cpp.out 2> /dev/null\n"
     ]
    },
    {
     "name": "stderr",
     "output_type": "stream",
     "text": [
      "\u001b[32m[I 2021-09-10 04:36:22,846]\u001b[0m Trial 12 finished with value: 906189916.0 and parameters: {'K_START': 0.020377386452152316, 'K_END': 0.047040402734174265, 'K_H': 0.7661694419128214, 'PURCHASE_TURN_LIMIT': 829, 'ROUGH_HASH': '0'}. Best is trial 12 with value: 906189916.0.\u001b[0m\n"
     ]
    },
    {
     "name": "stdout",
     "output_type": "stream",
     "text": [
      "Updated! 906189916.0\n",
      "callback ok\n",
      "index_parallel=1\n",
      "sed -i 1_main.cpp -e 's/^constexpr double K_START = .*;  \\/\\/ OPTIMIZE \\[0\\.02, 0\\.06\\] LOG$/constexpr double K_START = 0.032244918094540505;  \\/\\/ OPTIMIZE [0.02, 0.06] LOG/' -e 's/^constexpr double K_END = .*;   \\/\\/ OPTIMIZE \\[0\\.01, 0\\.05\\] LOG$/constexpr double K_END = 0.029799960014841732;   \\/\\/ OPTIMIZE [0.01, 0.05] LOG/' -e 's/^constexpr double K_H = .*;      \\/\\/ OPTIMIZE \\[0\\.001, 0\\.999\\]$/constexpr double K_H = 0.9536591254336516;      \\/\\/ OPTIMIZE [0.001, 0.999]/' -e 's/^constexpr short PURCHASE_TURN_LIMIT = .*;  \\/\\/ OPTIMIZE \\[780, 880\\]$/constexpr short PURCHASE_TURN_LIMIT = 831;  \\/\\/ OPTIMIZE [780, 880]/' -e 's/^constexpr int ROUGH_HASH = .*;  \\/\\/ OPTIMIZE {0, 0b00000001, 0b00010001, 0b00010011, 0b00110011}$/constexpr int ROUGH_HASH = 0;  \\/\\/ OPTIMIZE {0, 0b00000001, 0b00010001, 0b00010011, 0b00110011}/'\n",
      "g++ 1_main.cpp -std=gnu++17 -O2 -DONLINE_JUDGE -o 1_main.cpp.out 2> /dev/null\n"
     ]
    },
    {
     "name": "stderr",
     "output_type": "stream",
     "text": [
      "\u001b[32m[I 2021-09-10 04:39:53,706]\u001b[0m Trial 13 finished with value: 879760800.0 and parameters: {'K_START': 0.032244918094540505, 'K_END': 0.029799960014841732, 'K_H': 0.9536591254336516, 'PURCHASE_TURN_LIMIT': 831, 'ROUGH_HASH': '0'}. Best is trial 12 with value: 906189916.0.\u001b[0m\n"
     ]
    },
    {
     "name": "stdout",
     "output_type": "stream",
     "text": [
      "callback ok\n",
      "index_parallel=2\n",
      "sed -i 2_main.cpp -e 's/^constexpr double K_START = .*;  \\/\\/ OPTIMIZE \\[0\\.02, 0\\.06\\] LOG$/constexpr double K_START = 0.026046928406627538;  \\/\\/ OPTIMIZE [0.02, 0.06] LOG/' -e 's/^constexpr double K_END = .*;   \\/\\/ OPTIMIZE \\[0\\.01, 0\\.05\\] LOG$/constexpr double K_END = 0.03820276197869667;   \\/\\/ OPTIMIZE [0.01, 0.05] LOG/' -e 's/^constexpr double K_H = .*;      \\/\\/ OPTIMIZE \\[0\\.001, 0\\.999\\]$/constexpr double K_H = 0.5030455728882653;      \\/\\/ OPTIMIZE [0.001, 0.999]/' -e 's/^constexpr short PURCHASE_TURN_LIMIT = .*;  \\/\\/ OPTIMIZE \\[780, 880\\]$/constexpr short PURCHASE_TURN_LIMIT = 829;  \\/\\/ OPTIMIZE [780, 880]/' -e 's/^constexpr int ROUGH_HASH = .*;  \\/\\/ OPTIMIZE {0, 0b00000001, 0b00010001, 0b00010011, 0b00110011}$/constexpr int ROUGH_HASH = 0;  \\/\\/ OPTIMIZE {0, 0b00000001, 0b00010001, 0b00010011, 0b00110011}/'\n",
      "g++ 2_main.cpp -std=gnu++17 -O2 -DONLINE_JUDGE -o 2_main.cpp.out 2> /dev/null\n"
     ]
    },
    {
     "name": "stderr",
     "output_type": "stream",
     "text": [
      "\u001b[32m[I 2021-09-10 04:43:27,806]\u001b[0m Trial 14 finished with value: 893650492.0 and parameters: {'K_START': 0.026046928406627538, 'K_END': 0.03820276197869667, 'K_H': 0.5030455728882653, 'PURCHASE_TURN_LIMIT': 829, 'ROUGH_HASH': '0'}. Best is trial 12 with value: 906189916.0.\u001b[0m\n"
     ]
    },
    {
     "name": "stdout",
     "output_type": "stream",
     "text": [
      "callback ok\n",
      "index_parallel=3\n",
      "sed -i 3_main.cpp -e 's/^constexpr double K_START = .*;  \\/\\/ OPTIMIZE \\[0\\.02, 0\\.06\\] LOG$/constexpr double K_START = 0.02666837017119146;  \\/\\/ OPTIMIZE [0.02, 0.06] LOG/' -e 's/^constexpr double K_END = .*;   \\/\\/ OPTIMIZE \\[0\\.01, 0\\.05\\] LOG$/constexpr double K_END = 0.01924895852771756;   \\/\\/ OPTIMIZE [0.01, 0.05] LOG/' -e 's/^constexpr double K_H = .*;      \\/\\/ OPTIMIZE \\[0\\.001, 0\\.999\\]$/constexpr double K_H = 0.43013964176131747;      \\/\\/ OPTIMIZE [0.001, 0.999]/' -e 's/^constexpr short PURCHASE_TURN_LIMIT = .*;  \\/\\/ OPTIMIZE \\[780, 880\\]$/constexpr short PURCHASE_TURN_LIMIT = 845;  \\/\\/ OPTIMIZE [780, 880]/' -e 's/^constexpr int ROUGH_HASH = .*;  \\/\\/ OPTIMIZE {0, 0b00000001, 0b00010001, 0b00010011, 0b00110011}$/constexpr int ROUGH_HASH = 0;  \\/\\/ OPTIMIZE {0, 0b00000001, 0b00010001, 0b00010011, 0b00110011}/'\n",
      "g++ 3_main.cpp -std=gnu++17 -O2 -DONLINE_JUDGE -o 3_main.cpp.out 2> /dev/null\n"
     ]
    },
    {
     "name": "stderr",
     "output_type": "stream",
     "text": [
      "\u001b[32m[I 2021-09-10 04:46:58,336]\u001b[0m Trial 15 finished with value: 848147915.0 and parameters: {'K_START': 0.02666837017119146, 'K_END': 0.01924895852771756, 'K_H': 0.43013964176131747, 'PURCHASE_TURN_LIMIT': 845, 'ROUGH_HASH': '0'}. Best is trial 12 with value: 906189916.0.\u001b[0m\n"
     ]
    },
    {
     "name": "stdout",
     "output_type": "stream",
     "text": [
      "callback ok\n",
      "index_parallel=4\n",
      "sed -i 4_main.cpp -e 's/^constexpr double K_START = .*;  \\/\\/ OPTIMIZE \\[0\\.02, 0\\.06\\] LOG$/constexpr double K_START = 0.02492367362173285;  \\/\\/ OPTIMIZE [0.02, 0.06] LOG/' -e 's/^constexpr double K_END = .*;   \\/\\/ OPTIMIZE \\[0\\.01, 0\\.05\\] LOG$/constexpr double K_END = 0.04903461052482631;   \\/\\/ OPTIMIZE [0.01, 0.05] LOG/' -e 's/^constexpr double K_H = .*;      \\/\\/ OPTIMIZE \\[0\\.001, 0\\.999\\]$/constexpr double K_H = 0.5371896572435119;      \\/\\/ OPTIMIZE [0.001, 0.999]/' -e 's/^constexpr short PURCHASE_TURN_LIMIT = .*;  \\/\\/ OPTIMIZE \\[780, 880\\]$/constexpr short PURCHASE_TURN_LIMIT = 830;  \\/\\/ OPTIMIZE [780, 880]/' -e 's/^constexpr int ROUGH_HASH = .*;  \\/\\/ OPTIMIZE {0, 0b00000001, 0b00010001, 0b00010011, 0b00110011}$/constexpr int ROUGH_HASH = 0b00010011;  \\/\\/ OPTIMIZE {0, 0b00000001, 0b00010001, 0b00010011, 0b00110011}/'\n",
      "g++ 4_main.cpp -std=gnu++17 -O2 -DONLINE_JUDGE -o 4_main.cpp.out 2> /dev/null\n"
     ]
    },
    {
     "name": "stderr",
     "output_type": "stream",
     "text": [
      "\u001b[32m[I 2021-09-10 04:49:58,326]\u001b[0m Trial 16 finished with value: 897834714.0 and parameters: {'K_START': 0.02492367362173285, 'K_END': 0.04903461052482631, 'K_H': 0.5371896572435119, 'PURCHASE_TURN_LIMIT': 830, 'ROUGH_HASH': '0b00010011'}. Best is trial 12 with value: 906189916.0.\u001b[0m\n"
     ]
    },
    {
     "name": "stdout",
     "output_type": "stream",
     "text": [
      "callback ok\n",
      "index_parallel=5\n",
      "sed -i 5_main.cpp -e 's/^constexpr double K_START = .*;  \\/\\/ OPTIMIZE \\[0\\.02, 0\\.06\\] LOG$/constexpr double K_START = 0.03500026940219137;  \\/\\/ OPTIMIZE [0.02, 0.06] LOG/' -e 's/^constexpr double K_END = .*;   \\/\\/ OPTIMIZE \\[0\\.01, 0\\.05\\] LOG$/constexpr double K_END = 0.049894152193554205;   \\/\\/ OPTIMIZE [0.01, 0.05] LOG/' -e 's/^constexpr double K_H = .*;      \\/\\/ OPTIMIZE \\[0\\.001, 0\\.999\\]$/constexpr double K_H = 0.14570900921447666;      \\/\\/ OPTIMIZE [0.001, 0.999]/' -e 's/^constexpr short PURCHASE_TURN_LIMIT = .*;  \\/\\/ OPTIMIZE \\[780, 880\\]$/constexpr short PURCHASE_TURN_LIMIT = 840;  \\/\\/ OPTIMIZE [780, 880]/' -e 's/^constexpr int ROUGH_HASH = .*;  \\/\\/ OPTIMIZE {0, 0b00000001, 0b00010001, 0b00010011, 0b00110011}$/constexpr int ROUGH_HASH = 0b00010011;  \\/\\/ OPTIMIZE {0, 0b00000001, 0b00010001, 0b00010011, 0b00110011}/'\n",
      "g++ 5_main.cpp -std=gnu++17 -O2 -DONLINE_JUDGE -o 5_main.cpp.out 2> /dev/null\n"
     ]
    },
    {
     "name": "stderr",
     "output_type": "stream",
     "text": [
      "\u001b[32m[I 2021-09-10 04:53:02,911]\u001b[0m Trial 17 finished with value: 894284407.0 and parameters: {'K_START': 0.03500026940219137, 'K_END': 0.049894152193554205, 'K_H': 0.14570900921447666, 'PURCHASE_TURN_LIMIT': 840, 'ROUGH_HASH': '0b00010011'}. Best is trial 12 with value: 906189916.0.\u001b[0m\n"
     ]
    },
    {
     "name": "stdout",
     "output_type": "stream",
     "text": [
      "callback ok\n",
      "index_parallel=6\n",
      "sed -i 6_main.cpp -e 's/^constexpr double K_START = .*;  \\/\\/ OPTIMIZE \\[0\\.02, 0\\.06\\] LOG$/constexpr double K_START = 0.023617061122870212;  \\/\\/ OPTIMIZE [0.02, 0.06] LOG/' -e 's/^constexpr double K_END = .*;   \\/\\/ OPTIMIZE \\[0\\.01, 0\\.05\\] LOG$/constexpr double K_END = 0.014929287701765017;   \\/\\/ OPTIMIZE [0.01, 0.05] LOG/' -e 's/^constexpr double K_H = .*;      \\/\\/ OPTIMIZE \\[0\\.001, 0\\.999\\]$/constexpr double K_H = 0.5882963179845726;      \\/\\/ OPTIMIZE [0.001, 0.999]/' -e 's/^constexpr short PURCHASE_TURN_LIMIT = .*;  \\/\\/ OPTIMIZE \\[780, 880\\]$/constexpr short PURCHASE_TURN_LIMIT = 859;  \\/\\/ OPTIMIZE [780, 880]/' -e 's/^constexpr int ROUGH_HASH = .*;  \\/\\/ OPTIMIZE {0, 0b00000001, 0b00010001, 0b00010011, 0b00110011}$/constexpr int ROUGH_HASH = 0b00010011;  \\/\\/ OPTIMIZE {0, 0b00000001, 0b00010001, 0b00010011, 0b00110011}/'\n",
      "g++ 6_main.cpp -std=gnu++17 -O2 -DONLINE_JUDGE -o 6_main.cpp.out 2> /dev/null\n"
     ]
    },
    {
     "name": "stderr",
     "output_type": "stream",
     "text": [
      "\u001b[32m[I 2021-09-10 04:56:11,881]\u001b[0m Trial 18 finished with value: 802707899.0 and parameters: {'K_START': 0.023617061122870212, 'K_END': 0.014929287701765017, 'K_H': 0.5882963179845726, 'PURCHASE_TURN_LIMIT': 859, 'ROUGH_HASH': '0b00010011'}. Best is trial 12 with value: 906189916.0.\u001b[0m\n"
     ]
    },
    {
     "name": "stdout",
     "output_type": "stream",
     "text": [
      "callback ok\n",
      "index_parallel=7\n",
      "sed -i 7_main.cpp -e 's/^constexpr double K_START = .*;  \\/\\/ OPTIMIZE \\[0\\.02, 0\\.06\\] LOG$/constexpr double K_START = 0.029633392456137535;  \\/\\/ OPTIMIZE [0.02, 0.06] LOG/' -e 's/^constexpr double K_END = .*;   \\/\\/ OPTIMIZE \\[0\\.01, 0\\.05\\] LOG$/constexpr double K_END = 0.026765392582636115;   \\/\\/ OPTIMIZE [0.01, 0.05] LOG/' -e 's/^constexpr double K_H = .*;      \\/\\/ OPTIMIZE \\[0\\.001, 0\\.999\\]$/constexpr double K_H = 0.8375888033002623;      \\/\\/ OPTIMIZE [0.001, 0.999]/' -e 's/^constexpr short PURCHASE_TURN_LIMIT = .*;  \\/\\/ OPTIMIZE \\[780, 880\\]$/constexpr short PURCHASE_TURN_LIMIT = 825;  \\/\\/ OPTIMIZE [780, 880]/' -e 's/^constexpr int ROUGH_HASH = .*;  \\/\\/ OPTIMIZE {0, 0b00000001, 0b00010001, 0b00010011, 0b00110011}$/constexpr int ROUGH_HASH = 0b00010011;  \\/\\/ OPTIMIZE {0, 0b00000001, 0b00010001, 0b00010011, 0b00110011}/'\n",
      "g++ 7_main.cpp -std=gnu++17 -O2 -DONLINE_JUDGE -o 7_main.cpp.out 2> /dev/null\n"
     ]
    },
    {
     "name": "stderr",
     "output_type": "stream",
     "text": [
      "\u001b[32m[I 2021-09-10 04:59:24,443]\u001b[0m Trial 19 finished with value: 860706787.0 and parameters: {'K_START': 0.029633392456137535, 'K_END': 0.026765392582636115, 'K_H': 0.8375888033002623, 'PURCHASE_TURN_LIMIT': 825, 'ROUGH_HASH': '0b00010011'}. Best is trial 12 with value: 906189916.0.\u001b[0m\n"
     ]
    },
    {
     "name": "stdout",
     "output_type": "stream",
     "text": [
      "callback ok\n",
      "index_parallel=8\n",
      "sed -i 8_main.cpp -e 's/^constexpr double K_START = .*;  \\/\\/ OPTIMIZE \\[0\\.02, 0\\.06\\] LOG$/constexpr double K_START = 0.037248639831061935;  \\/\\/ OPTIMIZE [0.02, 0.06] LOG/' -e 's/^constexpr double K_END = .*;   \\/\\/ OPTIMIZE \\[0\\.01, 0\\.05\\] LOG$/constexpr double K_END = 0.04313927571754842;   \\/\\/ OPTIMIZE [0.01, 0.05] LOG/' -e 's/^constexpr double K_H = .*;      \\/\\/ OPTIMIZE \\[0\\.001, 0\\.999\\]$/constexpr double K_H = 0.43039717460350696;      \\/\\/ OPTIMIZE [0.001, 0.999]/' -e 's/^constexpr short PURCHASE_TURN_LIMIT = .*;  \\/\\/ OPTIMIZE \\[780, 880\\]$/constexpr short PURCHASE_TURN_LIMIT = 856;  \\/\\/ OPTIMIZE [780, 880]/' -e 's/^constexpr int ROUGH_HASH = .*;  \\/\\/ OPTIMIZE {0, 0b00000001, 0b00010001, 0b00010011, 0b00110011}$/constexpr int ROUGH_HASH = 0b00010011;  \\/\\/ OPTIMIZE {0, 0b00000001, 0b00010001, 0b00010011, 0b00110011}/'\n",
      "g++ 8_main.cpp -std=gnu++17 -O2 -DONLINE_JUDGE -o 8_main.cpp.out 2> /dev/null\n"
     ]
    },
    {
     "name": "stderr",
     "output_type": "stream",
     "text": [
      "\u001b[32m[I 2021-09-10 05:02:41,982]\u001b[0m Trial 20 finished with value: 885929910.0 and parameters: {'K_START': 0.037248639831061935, 'K_END': 0.04313927571754842, 'K_H': 0.43039717460350696, 'PURCHASE_TURN_LIMIT': 856, 'ROUGH_HASH': '0b00010011'}. Best is trial 12 with value: 906189916.0.\u001b[0m\n"
     ]
    },
    {
     "name": "stdout",
     "output_type": "stream",
     "text": [
      "callback ok\n",
      "index_parallel=9\n",
      "sed -i 9_main.cpp -e 's/^constexpr double K_START = .*;  \\/\\/ OPTIMIZE \\[0\\.02, 0\\.06\\] LOG$/constexpr double K_START = 0.03554033439720083;  \\/\\/ OPTIMIZE [0.02, 0.06] LOG/' -e 's/^constexpr double K_END = .*;   \\/\\/ OPTIMIZE \\[0\\.01, 0\\.05\\] LOG$/constexpr double K_END = 0.04986949914520282;   \\/\\/ OPTIMIZE [0.01, 0.05] LOG/' -e 's/^constexpr double K_H = .*;      \\/\\/ OPTIMIZE \\[0\\.001, 0\\.999\\]$/constexpr double K_H = 0.09058010870647698;      \\/\\/ OPTIMIZE [0.001, 0.999]/' -e 's/^constexpr short PURCHASE_TURN_LIMIT = .*;  \\/\\/ OPTIMIZE \\[780, 880\\]$/constexpr short PURCHASE_TURN_LIMIT = 834;  \\/\\/ OPTIMIZE [780, 880]/' -e 's/^constexpr int ROUGH_HASH = .*;  \\/\\/ OPTIMIZE {0, 0b00000001, 0b00010001, 0b00010011, 0b00110011}$/constexpr int ROUGH_HASH = 0b00010011;  \\/\\/ OPTIMIZE {0, 0b00000001, 0b00010001, 0b00010011, 0b00110011}/'\n",
      "g++ 9_main.cpp -std=gnu++17 -O2 -DONLINE_JUDGE -o 9_main.cpp.out 2> /dev/null\n"
     ]
    },
    {
     "name": "stderr",
     "output_type": "stream",
     "text": [
      "\u001b[32m[I 2021-09-10 05:05:57,742]\u001b[0m Trial 21 finished with value: 892604742.0 and parameters: {'K_START': 0.03554033439720083, 'K_END': 0.04986949914520282, 'K_H': 0.09058010870647698, 'PURCHASE_TURN_LIMIT': 834, 'ROUGH_HASH': '0b00010011'}. Best is trial 12 with value: 906189916.0.\u001b[0m\n"
     ]
    },
    {
     "name": "stdout",
     "output_type": "stream",
     "text": [
      "callback ok\n",
      "index_parallel=10\n",
      "sed -i 10_main.cpp -e 's/^constexpr double K_START = .*;  \\/\\/ OPTIMIZE \\[0\\.02, 0\\.06\\] LOG$/constexpr double K_START = 0.020167378385701006;  \\/\\/ OPTIMIZE [0.02, 0.06] LOG/' -e 's/^constexpr double K_END = .*;   \\/\\/ OPTIMIZE \\[0\\.01, 0\\.05\\] LOG$/constexpr double K_END = 0.040560763134086616;   \\/\\/ OPTIMIZE [0.01, 0.05] LOG/' -e 's/^constexpr double K_H = .*;      \\/\\/ OPTIMIZE \\[0\\.001, 0\\.999\\]$/constexpr double K_H = 0.23831198312249963;      \\/\\/ OPTIMIZE [0.001, 0.999]/' -e 's/^constexpr short PURCHASE_TURN_LIMIT = .*;  \\/\\/ OPTIMIZE \\[780, 880\\]$/constexpr short PURCHASE_TURN_LIMIT = 838;  \\/\\/ OPTIMIZE [780, 880]/' -e 's/^constexpr int ROUGH_HASH = .*;  \\/\\/ OPTIMIZE {0, 0b00000001, 0b00010001, 0b00010011, 0b00110011}$/constexpr int ROUGH_HASH = 0b00010011;  \\/\\/ OPTIMIZE {0, 0b00000001, 0b00010001, 0b00010011, 0b00110011}/'\n",
      "g++ 10_main.cpp -std=gnu++17 -O2 -DONLINE_JUDGE -o 10_main.cpp.out 2> /dev/null\n"
     ]
    },
    {
     "name": "stderr",
     "output_type": "stream",
     "text": [
      "\u001b[32m[I 2021-09-10 05:09:14,706]\u001b[0m Trial 22 finished with value: 876772039.0 and parameters: {'K_START': 0.020167378385701006, 'K_END': 0.040560763134086616, 'K_H': 0.23831198312249963, 'PURCHASE_TURN_LIMIT': 838, 'ROUGH_HASH': '0b00010011'}. Best is trial 12 with value: 906189916.0.\u001b[0m\n"
     ]
    },
    {
     "name": "stdout",
     "output_type": "stream",
     "text": [
      "callback ok\n",
      "index_parallel=11\n",
      "sed -i 11_main.cpp -e 's/^constexpr double K_START = .*;  \\/\\/ OPTIMIZE \\[0\\.02, 0\\.06\\] LOG$/constexpr double K_START = 0.023833973746228133;  \\/\\/ OPTIMIZE [0.02, 0.06] LOG/' -e 's/^constexpr double K_END = .*;   \\/\\/ OPTIMIZE \\[0\\.01, 0\\.05\\] LOG$/constexpr double K_END = 0.049356318168997396;   \\/\\/ OPTIMIZE [0.01, 0.05] LOG/' -e 's/^constexpr double K_H = .*;      \\/\\/ OPTIMIZE \\[0\\.001, 0\\.999\\]$/constexpr double K_H = 0.1552550203789732;      \\/\\/ OPTIMIZE [0.001, 0.999]/' -e 's/^constexpr short PURCHASE_TURN_LIMIT = .*;  \\/\\/ OPTIMIZE \\[780, 880\\]$/constexpr short PURCHASE_TURN_LIMIT = 816;  \\/\\/ OPTIMIZE [780, 880]/' -e 's/^constexpr int ROUGH_HASH = .*;  \\/\\/ OPTIMIZE {0, 0b00000001, 0b00010001, 0b00010011, 0b00110011}$/constexpr int ROUGH_HASH = 0b00010011;  \\/\\/ OPTIMIZE {0, 0b00000001, 0b00010001, 0b00010011, 0b00110011}/'\n",
      "g++ 11_main.cpp -std=gnu++17 -O2 -DONLINE_JUDGE -o 11_main.cpp.out 2> /dev/null\n"
     ]
    },
    {
     "name": "stderr",
     "output_type": "stream",
     "text": [
      "\u001b[32m[I 2021-09-10 05:12:32,342]\u001b[0m Trial 23 finished with value: 881588854.0 and parameters: {'K_START': 0.023833973746228133, 'K_END': 0.049356318168997396, 'K_H': 0.1552550203789732, 'PURCHASE_TURN_LIMIT': 816, 'ROUGH_HASH': '0b00010011'}. Best is trial 12 with value: 906189916.0.\u001b[0m\n"
     ]
    },
    {
     "name": "stdout",
     "output_type": "stream",
     "text": [
      "callback ok\n",
      "index_parallel=0\n",
      "sed -i 0_main.cpp -e 's/^constexpr double K_START = .*;  \\/\\/ OPTIMIZE \\[0\\.02, 0\\.06\\] LOG$/constexpr double K_START = 0.03412912509322803;  \\/\\/ OPTIMIZE [0.02, 0.06] LOG/' -e 's/^constexpr double K_END = .*;   \\/\\/ OPTIMIZE \\[0\\.01, 0\\.05\\] LOG$/constexpr double K_END = 0.03189431173278296;   \\/\\/ OPTIMIZE [0.01, 0.05] LOG/' -e 's/^constexpr double K_H = .*;      \\/\\/ OPTIMIZE \\[0\\.001, 0\\.999\\]$/constexpr double K_H = 0.3438782458809477;      \\/\\/ OPTIMIZE [0.001, 0.999]/' -e 's/^constexpr short PURCHASE_TURN_LIMIT = .*;  \\/\\/ OPTIMIZE \\[780, 880\\]$/constexpr short PURCHASE_TURN_LIMIT = 853;  \\/\\/ OPTIMIZE [780, 880]/' -e 's/^constexpr int ROUGH_HASH = .*;  \\/\\/ OPTIMIZE {0, 0b00000001, 0b00010001, 0b00010011, 0b00110011}$/constexpr int ROUGH_HASH = 0b00010011;  \\/\\/ OPTIMIZE {0, 0b00000001, 0b00010001, 0b00010011, 0b00110011}/'\n",
      "g++ 0_main.cpp -std=gnu++17 -O2 -DONLINE_JUDGE -o 0_main.cpp.out 2> /dev/null\n"
     ]
    },
    {
     "name": "stderr",
     "output_type": "stream",
     "text": [
      "\u001b[32m[I 2021-09-10 05:15:57,866]\u001b[0m Trial 24 finished with value: 876942455.0 and parameters: {'K_START': 0.03412912509322803, 'K_END': 0.03189431173278296, 'K_H': 0.3438782458809477, 'PURCHASE_TURN_LIMIT': 853, 'ROUGH_HASH': '0b00010011'}. Best is trial 12 with value: 906189916.0.\u001b[0m\n"
     ]
    },
    {
     "name": "stdout",
     "output_type": "stream",
     "text": [
      "callback ok\n",
      "index_parallel=1\n",
      "sed -i 1_main.cpp -e 's/^constexpr double K_START = .*;  \\/\\/ OPTIMIZE \\[0\\.02, 0\\.06\\] LOG$/constexpr double K_START = 0.028516287031398163;  \\/\\/ OPTIMIZE [0.02, 0.06] LOG/' -e 's/^constexpr double K_END = .*;   \\/\\/ OPTIMIZE \\[0\\.01, 0\\.05\\] LOG$/constexpr double K_END = 0.04169081450066162;   \\/\\/ OPTIMIZE [0.01, 0.05] LOG/' -e 's/^constexpr double K_H = .*;      \\/\\/ OPTIMIZE \\[0\\.001, 0\\.999\\]$/constexpr double K_H = 0.5889724634319348;      \\/\\/ OPTIMIZE [0.001, 0.999]/' -e 's/^constexpr short PURCHASE_TURN_LIMIT = .*;  \\/\\/ OPTIMIZE \\[780, 880\\]$/constexpr short PURCHASE_TURN_LIMIT = 866;  \\/\\/ OPTIMIZE [780, 880]/' -e 's/^constexpr int ROUGH_HASH = .*;  \\/\\/ OPTIMIZE {0, 0b00000001, 0b00010001, 0b00010011, 0b00110011}$/constexpr int ROUGH_HASH = 0b00000001;  \\/\\/ OPTIMIZE {0, 0b00000001, 0b00010001, 0b00010011, 0b00110011}/'\n",
      "g++ 1_main.cpp -std=gnu++17 -O2 -DONLINE_JUDGE -o 1_main.cpp.out 2> /dev/null\n"
     ]
    },
    {
     "name": "stderr",
     "output_type": "stream",
     "text": [
      "\u001b[32m[I 2021-09-10 05:19:49,658]\u001b[0m Trial 25 finished with value: 878594843.0 and parameters: {'K_START': 0.028516287031398163, 'K_END': 0.04169081450066162, 'K_H': 0.5889724634319348, 'PURCHASE_TURN_LIMIT': 866, 'ROUGH_HASH': '0b00000001'}. Best is trial 12 with value: 906189916.0.\u001b[0m\n"
     ]
    },
    {
     "name": "stdout",
     "output_type": "stream",
     "text": [
      "callback ok\n",
      "index_parallel=2\n",
      "sed -i 2_main.cpp -e 's/^constexpr double K_START = .*;  \\/\\/ OPTIMIZE \\[0\\.02, 0\\.06\\] LOG$/constexpr double K_START = 0.02319557092517025;  \\/\\/ OPTIMIZE [0.02, 0.06] LOG/' -e 's/^constexpr double K_END = .*;   \\/\\/ OPTIMIZE \\[0\\.01, 0\\.05\\] LOG$/constexpr double K_END = 0.035180824615332784;   \\/\\/ OPTIMIZE [0.01, 0.05] LOG/' -e 's/^constexpr double K_H = .*;      \\/\\/ OPTIMIZE \\[0\\.001, 0\\.999\\]$/constexpr double K_H = 0.1940223153306857;      \\/\\/ OPTIMIZE [0.001, 0.999]/' -e 's/^constexpr short PURCHASE_TURN_LIMIT = .*;  \\/\\/ OPTIMIZE \\[780, 880\\]$/constexpr short PURCHASE_TURN_LIMIT = 823;  \\/\\/ OPTIMIZE [780, 880]/' -e 's/^constexpr int ROUGH_HASH = .*;  \\/\\/ OPTIMIZE {0, 0b00000001, 0b00010001, 0b00010011, 0b00110011}$/constexpr int ROUGH_HASH = 0b00010011;  \\/\\/ OPTIMIZE {0, 0b00000001, 0b00010001, 0b00010011, 0b00110011}/'\n",
      "g++ 2_main.cpp -std=gnu++17 -O2 -DONLINE_JUDGE -o 2_main.cpp.out 2> /dev/null\n"
     ]
    },
    {
     "name": "stderr",
     "output_type": "stream",
     "text": [
      "\u001b[32m[I 2021-09-10 05:23:08,597]\u001b[0m Trial 26 finished with value: 871459422.0 and parameters: {'K_START': 0.02319557092517025, 'K_END': 0.035180824615332784, 'K_H': 0.1940223153306857, 'PURCHASE_TURN_LIMIT': 823, 'ROUGH_HASH': '0b00010011'}. Best is trial 12 with value: 906189916.0.\u001b[0m\n"
     ]
    },
    {
     "name": "stdout",
     "output_type": "stream",
     "text": [
      "callback ok\n",
      "index_parallel=3\n",
      "sed -i 3_main.cpp -e 's/^constexpr double K_START = .*;  \\/\\/ OPTIMIZE \\[0\\.02, 0\\.06\\] LOG$/constexpr double K_START = 0.039528051265056506;  \\/\\/ OPTIMIZE [0.02, 0.06] LOG/' -e 's/^constexpr double K_END = .*;   \\/\\/ OPTIMIZE \\[0\\.01, 0\\.05\\] LOG$/constexpr double K_END = 0.04281702168668528;   \\/\\/ OPTIMIZE [0.01, 0.05] LOG/' -e 's/^constexpr double K_H = .*;      \\/\\/ OPTIMIZE \\[0\\.001, 0\\.999\\]$/constexpr double K_H = 0.44112628582541974;      \\/\\/ OPTIMIZE [0.001, 0.999]/' -e 's/^constexpr short PURCHASE_TURN_LIMIT = .*;  \\/\\/ OPTIMIZE \\[780, 880\\]$/constexpr short PURCHASE_TURN_LIMIT = 835;  \\/\\/ OPTIMIZE [780, 880]/' -e 's/^constexpr int ROUGH_HASH = .*;  \\/\\/ OPTIMIZE {0, 0b00000001, 0b00010001, 0b00010011, 0b00110011}$/constexpr int ROUGH_HASH = 0b00010011;  \\/\\/ OPTIMIZE {0, 0b00000001, 0b00010001, 0b00010011, 0b00110011}/'\n",
      "g++ 3_main.cpp -std=gnu++17 -O2 -DONLINE_JUDGE -o 3_main.cpp.out 2> /dev/null\n"
     ]
    },
    {
     "name": "stderr",
     "output_type": "stream",
     "text": [
      "\u001b[32m[I 2021-09-10 05:26:31,730]\u001b[0m Trial 27 finished with value: 895703741.0 and parameters: {'K_START': 0.039528051265056506, 'K_END': 0.04281702168668528, 'K_H': 0.44112628582541974, 'PURCHASE_TURN_LIMIT': 835, 'ROUGH_HASH': '0b00010011'}. Best is trial 12 with value: 906189916.0.\u001b[0m\n"
     ]
    },
    {
     "name": "stdout",
     "output_type": "stream",
     "text": [
      "callback ok\n",
      "index_parallel=4\n",
      "sed -i 4_main.cpp -e 's/^constexpr double K_START = .*;  \\/\\/ OPTIMIZE \\[0\\.02, 0\\.06\\] LOG$/constexpr double K_START = 0.03876681417331658;  \\/\\/ OPTIMIZE [0.02, 0.06] LOG/' -e 's/^constexpr double K_END = .*;   \\/\\/ OPTIMIZE \\[0\\.01, 0\\.05\\] LOG$/constexpr double K_END = 0.03393732475793739;   \\/\\/ OPTIMIZE [0.01, 0.05] LOG/' -e 's/^constexpr double K_H = .*;      \\/\\/ OPTIMIZE \\[0\\.001, 0\\.999\\]$/constexpr double K_H = 0.44142607076602225;      \\/\\/ OPTIMIZE [0.001, 0.999]/' -e 's/^constexpr short PURCHASE_TURN_LIMIT = .*;  \\/\\/ OPTIMIZE \\[780, 880\\]$/constexpr short PURCHASE_TURN_LIMIT = 818;  \\/\\/ OPTIMIZE [780, 880]/' -e 's/^constexpr int ROUGH_HASH = .*;  \\/\\/ OPTIMIZE {0, 0b00000001, 0b00010001, 0b00010011, 0b00110011}$/constexpr int ROUGH_HASH = 0;  \\/\\/ OPTIMIZE {0, 0b00000001, 0b00010001, 0b00010011, 0b00110011}/'\n",
      "g++ 4_main.cpp -std=gnu++17 -O2 -DONLINE_JUDGE -o 4_main.cpp.out 2> /dev/null\n"
     ]
    },
    {
     "name": "stderr",
     "output_type": "stream",
     "text": [
      "\u001b[32m[I 2021-09-10 05:30:18,703]\u001b[0m Trial 28 finished with value: 888811710.0 and parameters: {'K_START': 0.03876681417331658, 'K_END': 0.03393732475793739, 'K_H': 0.44142607076602225, 'PURCHASE_TURN_LIMIT': 818, 'ROUGH_HASH': '0'}. Best is trial 12 with value: 906189916.0.\u001b[0m\n"
     ]
    },
    {
     "name": "stdout",
     "output_type": "stream",
     "text": [
      "callback ok\n",
      "index_parallel=5\n",
      "sed -i 5_main.cpp -e 's/^constexpr double K_START = .*;  \\/\\/ OPTIMIZE \\[0\\.02, 0\\.06\\] LOG$/constexpr double K_START = 0.04952917785186808;  \\/\\/ OPTIMIZE [0.02, 0.06] LOG/' -e 's/^constexpr double K_END = .*;   \\/\\/ OPTIMIZE \\[0\\.01, 0\\.05\\] LOG$/constexpr double K_END = 0.028056803832814135;   \\/\\/ OPTIMIZE [0.01, 0.05] LOG/' -e 's/^constexpr double K_H = .*;      \\/\\/ OPTIMIZE \\[0\\.001, 0\\.999\\]$/constexpr double K_H = 0.7723255792104886;      \\/\\/ OPTIMIZE [0.001, 0.999]/' -e 's/^constexpr short PURCHASE_TURN_LIMIT = .*;  \\/\\/ OPTIMIZE \\[780, 880\\]$/constexpr short PURCHASE_TURN_LIMIT = 834;  \\/\\/ OPTIMIZE [780, 880]/' -e 's/^constexpr int ROUGH_HASH = .*;  \\/\\/ OPTIMIZE {0, 0b00000001, 0b00010001, 0b00010011, 0b00110011}$/constexpr int ROUGH_HASH = 0b00010011;  \\/\\/ OPTIMIZE {0, 0b00000001, 0b00010001, 0b00010011, 0b00110011}/'\n",
      "g++ 5_main.cpp -std=gnu++17 -O2 -DONLINE_JUDGE -o 5_main.cpp.out 2> /dev/null\n"
     ]
    },
    {
     "name": "stderr",
     "output_type": "stream",
     "text": [
      "\u001b[32m[I 2021-09-10 05:33:41,282]\u001b[0m Trial 29 finished with value: 869659548.0 and parameters: {'K_START': 0.04952917785186808, 'K_END': 0.028056803832814135, 'K_H': 0.7723255792104886, 'PURCHASE_TURN_LIMIT': 834, 'ROUGH_HASH': '0b00010011'}. Best is trial 12 with value: 906189916.0.\u001b[0m\n"
     ]
    },
    {
     "name": "stdout",
     "output_type": "stream",
     "text": [
      "callback ok\n",
      "index_parallel=6\n",
      "sed -i 6_main.cpp -e 's/^constexpr double K_START = .*;  \\/\\/ OPTIMIZE \\[0\\.02, 0\\.06\\] LOG$/constexpr double K_START = 0.057986728052268045;  \\/\\/ OPTIMIZE [0.02, 0.06] LOG/' -e 's/^constexpr double K_END = .*;   \\/\\/ OPTIMIZE \\[0\\.01, 0\\.05\\] LOG$/constexpr double K_END = 0.04190071982879421;   \\/\\/ OPTIMIZE [0.01, 0.05] LOG/' -e 's/^constexpr double K_H = .*;      \\/\\/ OPTIMIZE \\[0\\.001, 0\\.999\\]$/constexpr double K_H = 0.6437621559994487;      \\/\\/ OPTIMIZE [0.001, 0.999]/' -e 's/^constexpr short PURCHASE_TURN_LIMIT = .*;  \\/\\/ OPTIMIZE \\[780, 880\\]$/constexpr short PURCHASE_TURN_LIMIT = 849;  \\/\\/ OPTIMIZE [780, 880]/' -e 's/^constexpr int ROUGH_HASH = .*;  \\/\\/ OPTIMIZE {0, 0b00000001, 0b00010001, 0b00010011, 0b00110011}$/constexpr int ROUGH_HASH = 0b00000001;  \\/\\/ OPTIMIZE {0, 0b00000001, 0b00010001, 0b00010011, 0b00110011}/'\n",
      "g++ 6_main.cpp -std=gnu++17 -O2 -DONLINE_JUDGE -o 6_main.cpp.out 2> /dev/null\n"
     ]
    },
    {
     "name": "stderr",
     "output_type": "stream",
     "text": [
      "\u001b[32m[I 2021-09-10 05:37:29,346]\u001b[0m Trial 30 finished with value: 505073478.0 and parameters: {'K_START': 0.057986728052268045, 'K_END': 0.04190071982879421, 'K_H': 0.6437621559994487, 'PURCHASE_TURN_LIMIT': 849, 'ROUGH_HASH': '0b00000001'}. Best is trial 12 with value: 906189916.0.\u001b[0m\n"
     ]
    },
    {
     "name": "stdout",
     "output_type": "stream",
     "text": [
      "callback ok\n",
      "index_parallel=7\n",
      "sed -i 7_main.cpp -e 's/^constexpr double K_START = .*;  \\/\\/ OPTIMIZE \\[0\\.02, 0\\.06\\] LOG$/constexpr double K_START = 0.041994570256460584;  \\/\\/ OPTIMIZE [0.02, 0.06] LOG/' -e 's/^constexpr double K_END = .*;   \\/\\/ OPTIMIZE \\[0\\.01, 0\\.05\\] LOG$/constexpr double K_END = 0.04919638151928213;   \\/\\/ OPTIMIZE [0.01, 0.05] LOG/' -e 's/^constexpr double K_H = .*;      \\/\\/ OPTIMIZE \\[0\\.001, 0\\.999\\]$/constexpr double K_H = 0.873761617078423;      \\/\\/ OPTIMIZE [0.001, 0.999]/' -e 's/^constexpr short PURCHASE_TURN_LIMIT = .*;  \\/\\/ OPTIMIZE \\[780, 880\\]$/constexpr short PURCHASE_TURN_LIMIT = 839;  \\/\\/ OPTIMIZE [780, 880]/' -e 's/^constexpr int ROUGH_HASH = .*;  \\/\\/ OPTIMIZE {0, 0b00000001, 0b00010001, 0b00010011, 0b00110011}$/constexpr int ROUGH_HASH = 0b00010011;  \\/\\/ OPTIMIZE {0, 0b00000001, 0b00010001, 0b00010011, 0b00110011}/'\n",
      "g++ 7_main.cpp -std=gnu++17 -O2 -DONLINE_JUDGE -o 7_main.cpp.out 2> /dev/null\n"
     ]
    },
    {
     "name": "stderr",
     "output_type": "stream",
     "text": [
      "\u001b[32m[I 2021-09-10 05:40:54,971]\u001b[0m Trial 31 finished with value: 572214142.0 and parameters: {'K_START': 0.041994570256460584, 'K_END': 0.04919638151928213, 'K_H': 0.873761617078423, 'PURCHASE_TURN_LIMIT': 839, 'ROUGH_HASH': '0b00010011'}. Best is trial 12 with value: 906189916.0.\u001b[0m\n"
     ]
    },
    {
     "name": "stdout",
     "output_type": "stream",
     "text": [
      "callback ok\n",
      "index_parallel=8\n",
      "sed -i 8_main.cpp -e 's/^constexpr double K_START = .*;  \\/\\/ OPTIMIZE \\[0\\.02, 0\\.06\\] LOG$/constexpr double K_START = 0.03300970580055568;  \\/\\/ OPTIMIZE [0.02, 0.06] LOG/' -e 's/^constexpr double K_END = .*;   \\/\\/ OPTIMIZE \\[0\\.01, 0\\.05\\] LOG$/constexpr double K_END = 0.039822494589392056;   \\/\\/ OPTIMIZE [0.01, 0.05] LOG/' -e 's/^constexpr double K_H = .*;      \\/\\/ OPTIMIZE \\[0\\.001, 0\\.999\\]$/constexpr double K_H = 0.7528582474668042;      \\/\\/ OPTIMIZE [0.001, 0.999]/' -e 's/^constexpr short PURCHASE_TURN_LIMIT = .*;  \\/\\/ OPTIMIZE \\[780, 880\\]$/constexpr short PURCHASE_TURN_LIMIT = 828;  \\/\\/ OPTIMIZE [780, 880]/' -e 's/^constexpr int ROUGH_HASH = .*;  \\/\\/ OPTIMIZE {0, 0b00000001, 0b00010001, 0b00010011, 0b00110011}$/constexpr int ROUGH_HASH = 0b00010011;  \\/\\/ OPTIMIZE {0, 0b00000001, 0b00010001, 0b00010011, 0b00110011}/'\n",
      "g++ 8_main.cpp -std=gnu++17 -O2 -DONLINE_JUDGE -o 8_main.cpp.out 2> /dev/null\n"
     ]
    },
    {
     "name": "stderr",
     "output_type": "stream",
     "text": [
      "\u001b[32m[I 2021-09-10 05:44:17,266]\u001b[0m Trial 32 finished with value: 893240714.0 and parameters: {'K_START': 0.03300970580055568, 'K_END': 0.039822494589392056, 'K_H': 0.7528582474668042, 'PURCHASE_TURN_LIMIT': 828, 'ROUGH_HASH': '0b00010011'}. Best is trial 12 with value: 906189916.0.\u001b[0m\n"
     ]
    },
    {
     "name": "stdout",
     "output_type": "stream",
     "text": [
      "callback ok\n",
      "index_parallel=9\n",
      "sed -i 9_main.cpp -e 's/^constexpr double K_START = .*;  \\/\\/ OPTIMIZE \\[0\\.02, 0\\.06\\] LOG$/constexpr double K_START = 0.036986844328171356;  \\/\\/ OPTIMIZE [0.02, 0.06] LOG/' -e 's/^constexpr double K_END = .*;   \\/\\/ OPTIMIZE \\[0\\.01, 0\\.05\\] LOG$/constexpr double K_END = 0.044968109877238434;   \\/\\/ OPTIMIZE [0.01, 0.05] LOG/' -e 's/^constexpr double K_H = .*;      \\/\\/ OPTIMIZE \\[0\\.001, 0\\.999\\]$/constexpr double K_H = 0.07616909579305274;      \\/\\/ OPTIMIZE [0.001, 0.999]/' -e 's/^constexpr short PURCHASE_TURN_LIMIT = .*;  \\/\\/ OPTIMIZE \\[780, 880\\]$/constexpr short PURCHASE_TURN_LIMIT = 838;  \\/\\/ OPTIMIZE [780, 880]/' -e 's/^constexpr int ROUGH_HASH = .*;  \\/\\/ OPTIMIZE {0, 0b00000001, 0b00010001, 0b00010011, 0b00110011}$/constexpr int ROUGH_HASH = 0b00010011;  \\/\\/ OPTIMIZE {0, 0b00000001, 0b00010001, 0b00010011, 0b00110011}/'\n",
      "g++ 9_main.cpp -std=gnu++17 -O2 -DONLINE_JUDGE -o 9_main.cpp.out 2> /dev/null\n"
     ]
    },
    {
     "name": "stderr",
     "output_type": "stream",
     "text": [
      "\u001b[32m[I 2021-09-10 05:47:37,791]\u001b[0m Trial 33 finished with value: 893246408.0 and parameters: {'K_START': 0.036986844328171356, 'K_END': 0.044968109877238434, 'K_H': 0.07616909579305274, 'PURCHASE_TURN_LIMIT': 838, 'ROUGH_HASH': '0b00010011'}. Best is trial 12 with value: 906189916.0.\u001b[0m\n"
     ]
    },
    {
     "name": "stdout",
     "output_type": "stream",
     "text": [
      "callback ok\n",
      "index_parallel=10\n",
      "sed -i 10_main.cpp -e 's/^constexpr double K_START = .*;  \\/\\/ OPTIMIZE \\[0\\.02, 0\\.06\\] LOG$/constexpr double K_START = 0.022073092993718197;  \\/\\/ OPTIMIZE [0.02, 0.06] LOG/' -e 's/^constexpr double K_END = .*;   \\/\\/ OPTIMIZE \\[0\\.01, 0\\.05\\] LOG$/constexpr double K_END = 0.036636779377485384;   \\/\\/ OPTIMIZE [0.01, 0.05] LOG/' -e 's/^constexpr double K_H = .*;      \\/\\/ OPTIMIZE \\[0\\.001, 0\\.999\\]$/constexpr double K_H = 0.5332312540106717;      \\/\\/ OPTIMIZE [0.001, 0.999]/' -e 's/^constexpr short PURCHASE_TURN_LIMIT = .*;  \\/\\/ OPTIMIZE \\[780, 880\\]$/constexpr short PURCHASE_TURN_LIMIT = 820;  \\/\\/ OPTIMIZE [780, 880]/' -e 's/^constexpr int ROUGH_HASH = .*;  \\/\\/ OPTIMIZE {0, 0b00000001, 0b00010001, 0b00010011, 0b00110011}$/constexpr int ROUGH_HASH = 0b00110011;  \\/\\/ OPTIMIZE {0, 0b00000001, 0b00010001, 0b00010011, 0b00110011}/'\n",
      "g++ 10_main.cpp -std=gnu++17 -O2 -DONLINE_JUDGE -o 10_main.cpp.out 2> /dev/null\n"
     ]
    },
    {
     "name": "stderr",
     "output_type": "stream",
     "text": [
      "\u001b[32m[I 2021-09-10 05:50:40,534]\u001b[0m Trial 34 finished with value: 870396688.0 and parameters: {'K_START': 0.022073092993718197, 'K_END': 0.036636779377485384, 'K_H': 0.5332312540106717, 'PURCHASE_TURN_LIMIT': 820, 'ROUGH_HASH': '0b00110011'}. Best is trial 12 with value: 906189916.0.\u001b[0m\n"
     ]
    },
    {
     "name": "stdout",
     "output_type": "stream",
     "text": [
      "callback ok\n",
      "index_parallel=11\n",
      "sed -i 11_main.cpp -e 's/^constexpr double K_START = .*;  \\/\\/ OPTIMIZE \\[0\\.02, 0\\.06\\] LOG$/constexpr double K_START = 0.03981030553981549;  \\/\\/ OPTIMIZE [0.02, 0.06] LOG/' -e 's/^constexpr double K_END = .*;   \\/\\/ OPTIMIZE \\[0\\.01, 0\\.05\\] LOG$/constexpr double K_END = 0.04439838988926067;   \\/\\/ OPTIMIZE [0.01, 0.05] LOG/' -e 's/^constexpr double K_H = .*;      \\/\\/ OPTIMIZE \\[0\\.001, 0\\.999\\]$/constexpr double K_H = 0.3652152259133009;      \\/\\/ OPTIMIZE [0.001, 0.999]/' -e 's/^constexpr short PURCHASE_TURN_LIMIT = .*;  \\/\\/ OPTIMIZE \\[780, 880\\]$/constexpr short PURCHASE_TURN_LIMIT = 809;  \\/\\/ OPTIMIZE [780, 880]/' -e 's/^constexpr int ROUGH_HASH = .*;  \\/\\/ OPTIMIZE {0, 0b00000001, 0b00010001, 0b00010011, 0b00110011}$/constexpr int ROUGH_HASH = 0b00010001;  \\/\\/ OPTIMIZE {0, 0b00000001, 0b00010001, 0b00010011, 0b00110011}/'\n",
      "g++ 11_main.cpp -std=gnu++17 -O2 -DONLINE_JUDGE -o 11_main.cpp.out 2> /dev/null\n"
     ]
    },
    {
     "name": "stderr",
     "output_type": "stream",
     "text": [
      "\u001b[32m[I 2021-09-10 05:54:03,545]\u001b[0m Trial 35 finished with value: 888730374.0 and parameters: {'K_START': 0.03981030553981549, 'K_END': 0.04439838988926067, 'K_H': 0.3652152259133009, 'PURCHASE_TURN_LIMIT': 809, 'ROUGH_HASH': '0b00010001'}. Best is trial 12 with value: 906189916.0.\u001b[0m\n"
     ]
    },
    {
     "name": "stdout",
     "output_type": "stream",
     "text": [
      "callback ok\n",
      "index_parallel=0\n",
      "sed -i 0_main.cpp -e 's/^constexpr double K_START = .*;  \\/\\/ OPTIMIZE \\[0\\.02, 0\\.06\\] LOG$/constexpr double K_START = 0.030369790946310246;  \\/\\/ OPTIMIZE [0.02, 0.06] LOG/' -e 's/^constexpr double K_END = .*;   \\/\\/ OPTIMIZE \\[0\\.01, 0\\.05\\] LOG$/constexpr double K_END = 0.031725961919058306;   \\/\\/ OPTIMIZE [0.01, 0.05] LOG/' -e 's/^constexpr double K_H = .*;      \\/\\/ OPTIMIZE \\[0\\.001, 0\\.999\\]$/constexpr double K_H = 0.4728754411520557;      \\/\\/ OPTIMIZE [0.001, 0.999]/' -e 's/^constexpr short PURCHASE_TURN_LIMIT = .*;  \\/\\/ OPTIMIZE \\[780, 880\\]$/constexpr short PURCHASE_TURN_LIMIT = 798;  \\/\\/ OPTIMIZE [780, 880]/' -e 's/^constexpr int ROUGH_HASH = .*;  \\/\\/ OPTIMIZE {0, 0b00000001, 0b00010001, 0b00010011, 0b00110011}$/constexpr int ROUGH_HASH = 0b00010011;  \\/\\/ OPTIMIZE {0, 0b00000001, 0b00010001, 0b00010011, 0b00110011}/'\n",
      "g++ 0_main.cpp -std=gnu++17 -O2 -DONLINE_JUDGE -o 0_main.cpp.out 2> /dev/null\n"
     ]
    },
    {
     "name": "stderr",
     "output_type": "stream",
     "text": [
      "\u001b[32m[I 2021-09-10 05:57:16,680]\u001b[0m Trial 36 finished with value: 860150328.0 and parameters: {'K_START': 0.030369790946310246, 'K_END': 0.031725961919058306, 'K_H': 0.4728754411520557, 'PURCHASE_TURN_LIMIT': 798, 'ROUGH_HASH': '0b00010011'}. Best is trial 12 with value: 906189916.0.\u001b[0m\n"
     ]
    },
    {
     "name": "stdout",
     "output_type": "stream",
     "text": [
      "callback ok\n",
      "index_parallel=1\n",
      "sed -i 1_main.cpp -e 's/^constexpr double K_START = .*;  \\/\\/ OPTIMIZE \\[0\\.02, 0\\.06\\] LOG$/constexpr double K_START = 0.025214426277743396;  \\/\\/ OPTIMIZE [0.02, 0.06] LOG/' -e 's/^constexpr double K_END = .*;   \\/\\/ OPTIMIZE \\[0\\.01, 0\\.05\\] LOG$/constexpr double K_END = 0.04505419804069686;   \\/\\/ OPTIMIZE [0.01, 0.05] LOG/' -e 's/^constexpr double K_H = .*;      \\/\\/ OPTIMIZE \\[0\\.001, 0\\.999\\]$/constexpr double K_H = 0.6790273045695958;      \\/\\/ OPTIMIZE [0.001, 0.999]/' -e 's/^constexpr short PURCHASE_TURN_LIMIT = .*;  \\/\\/ OPTIMIZE \\[780, 880\\]$/constexpr short PURCHASE_TURN_LIMIT = 842;  \\/\\/ OPTIMIZE [780, 880]/' -e 's/^constexpr int ROUGH_HASH = .*;  \\/\\/ OPTIMIZE {0, 0b00000001, 0b00010001, 0b00010011, 0b00110011}$/constexpr int ROUGH_HASH = 0;  \\/\\/ OPTIMIZE {0, 0b00000001, 0b00010001, 0b00010011, 0b00110011}/'\n",
      "g++ 1_main.cpp -std=gnu++17 -O2 -DONLINE_JUDGE -o 1_main.cpp.out 2> /dev/null\n"
     ]
    },
    {
     "name": "stderr",
     "output_type": "stream",
     "text": [
      "\u001b[32m[I 2021-09-10 06:01:03,530]\u001b[0m Trial 37 finished with value: 900571749.0 and parameters: {'K_START': 0.025214426277743396, 'K_END': 0.04505419804069686, 'K_H': 0.6790273045695958, 'PURCHASE_TURN_LIMIT': 842, 'ROUGH_HASH': '0'}. Best is trial 12 with value: 906189916.0.\u001b[0m\n"
     ]
    },
    {
     "name": "stdout",
     "output_type": "stream",
     "text": [
      "callback ok\n",
      "index_parallel=2\n",
      "sed -i 2_main.cpp -e 's/^constexpr double K_START = .*;  \\/\\/ OPTIMIZE \\[0\\.02, 0\\.06\\] LOG$/constexpr double K_START = 0.024944571727669337;  \\/\\/ OPTIMIZE [0.02, 0.06] LOG/' -e 's/^constexpr double K_END = .*;   \\/\\/ OPTIMIZE \\[0\\.01, 0\\.05\\] LOG$/constexpr double K_END = 0.03376060937297182;   \\/\\/ OPTIMIZE [0.01, 0.05] LOG/' -e 's/^constexpr double K_H = .*;      \\/\\/ OPTIMIZE \\[0\\.001, 0\\.999\\]$/constexpr double K_H = 0.7032660855389088;      \\/\\/ OPTIMIZE [0.001, 0.999]/' -e 's/^constexpr short PURCHASE_TURN_LIMIT = .*;  \\/\\/ OPTIMIZE \\[780, 880\\]$/constexpr short PURCHASE_TURN_LIMIT = 850;  \\/\\/ OPTIMIZE [780, 880]/' -e 's/^constexpr int ROUGH_HASH = .*;  \\/\\/ OPTIMIZE {0, 0b00000001, 0b00010001, 0b00010011, 0b00110011}$/constexpr int ROUGH_HASH = 0;  \\/\\/ OPTIMIZE {0, 0b00000001, 0b00010001, 0b00010011, 0b00110011}/'\n",
      "g++ 2_main.cpp -std=gnu++17 -O2 -DONLINE_JUDGE -o 2_main.cpp.out 2> /dev/null\n"
     ]
    },
    {
     "name": "stderr",
     "output_type": "stream",
     "text": [
      "\u001b[32m[I 2021-09-10 06:04:42,772]\u001b[0m Trial 38 finished with value: 884244131.0 and parameters: {'K_START': 0.024944571727669337, 'K_END': 0.03376060937297182, 'K_H': 0.7032660855389088, 'PURCHASE_TURN_LIMIT': 850, 'ROUGH_HASH': '0'}. Best is trial 12 with value: 906189916.0.\u001b[0m\n"
     ]
    },
    {
     "name": "stdout",
     "output_type": "stream",
     "text": [
      "callback ok\n",
      "index_parallel=3\n",
      "sed -i 3_main.cpp -e 's/^constexpr double K_START = .*;  \\/\\/ OPTIMIZE \\[0\\.02, 0\\.06\\] LOG$/constexpr double K_START = 0.02247740405416075;  \\/\\/ OPTIMIZE [0.02, 0.06] LOG/' -e 's/^constexpr double K_END = .*;   \\/\\/ OPTIMIZE \\[0\\.01, 0\\.05\\] LOG$/constexpr double K_END = 0.03913289162950407;   \\/\\/ OPTIMIZE [0.01, 0.05] LOG/' -e 's/^constexpr double K_H = .*;      \\/\\/ OPTIMIZE \\[0\\.001, 0\\.999\\]$/constexpr double K_H = 0.5701278887819714;      \\/\\/ OPTIMIZE [0.001, 0.999]/' -e 's/^constexpr short PURCHASE_TURN_LIMIT = .*;  \\/\\/ OPTIMIZE \\[780, 880\\]$/constexpr short PURCHASE_TURN_LIMIT = 862;  \\/\\/ OPTIMIZE [780, 880]/' -e 's/^constexpr int ROUGH_HASH = .*;  \\/\\/ OPTIMIZE {0, 0b00000001, 0b00010001, 0b00010011, 0b00110011}$/constexpr int ROUGH_HASH = 0;  \\/\\/ OPTIMIZE {0, 0b00000001, 0b00010001, 0b00010011, 0b00110011}/'\n",
      "g++ 3_main.cpp -std=gnu++17 -O2 -DONLINE_JUDGE -o 3_main.cpp.out 2> /dev/null\n"
     ]
    },
    {
     "name": "stderr",
     "output_type": "stream",
     "text": [
      "\u001b[32m[I 2021-09-10 06:08:29,132]\u001b[0m Trial 39 finished with value: 875233719.0 and parameters: {'K_START': 0.02247740405416075, 'K_END': 0.03913289162950407, 'K_H': 0.5701278887819714, 'PURCHASE_TURN_LIMIT': 862, 'ROUGH_HASH': '0'}. Best is trial 12 with value: 906189916.0.\u001b[0m\n"
     ]
    },
    {
     "name": "stdout",
     "output_type": "stream",
     "text": [
      "callback ok\n",
      "index_parallel=4\n",
      "sed -i 4_main.cpp -e 's/^constexpr double K_START = .*;  \\/\\/ OPTIMIZE \\[0\\.02, 0\\.06\\] LOG$/constexpr double K_START = 0.021358385217528766;  \\/\\/ OPTIMIZE [0.02, 0.06] LOG/' -e 's/^constexpr double K_END = .*;   \\/\\/ OPTIMIZE \\[0\\.01, 0\\.05\\] LOG$/constexpr double K_END = 0.02226342822595355;   \\/\\/ OPTIMIZE [0.01, 0.05] LOG/' -e 's/^constexpr double K_H = .*;      \\/\\/ OPTIMIZE \\[0\\.001, 0\\.999\\]$/constexpr double K_H = 0.6469162545832062;      \\/\\/ OPTIMIZE [0.001, 0.999]/' -e 's/^constexpr short PURCHASE_TURN_LIMIT = .*;  \\/\\/ OPTIMIZE \\[780, 880\\]$/constexpr short PURCHASE_TURN_LIMIT = 811;  \\/\\/ OPTIMIZE [780, 880]/' -e 's/^constexpr int ROUGH_HASH = .*;  \\/\\/ OPTIMIZE {0, 0b00000001, 0b00010001, 0b00010011, 0b00110011}$/constexpr int ROUGH_HASH = 0;  \\/\\/ OPTIMIZE {0, 0b00000001, 0b00010001, 0b00010011, 0b00110011}/'\n",
      "g++ 4_main.cpp -std=gnu++17 -O2 -DONLINE_JUDGE -o 4_main.cpp.out 2> /dev/null\n"
     ]
    },
    {
     "name": "stderr",
     "output_type": "stream",
     "text": [
      "\u001b[32m[I 2021-09-10 06:12:00,909]\u001b[0m Trial 40 finished with value: 843815421.0 and parameters: {'K_START': 0.021358385217528766, 'K_END': 0.02226342822595355, 'K_H': 0.6469162545832062, 'PURCHASE_TURN_LIMIT': 811, 'ROUGH_HASH': '0'}. Best is trial 12 with value: 906189916.0.\u001b[0m\n"
     ]
    },
    {
     "name": "stdout",
     "output_type": "stream",
     "text": [
      "callback ok\n",
      "index_parallel=5\n",
      "sed -i 5_main.cpp -e 's/^constexpr double K_START = .*;  \\/\\/ OPTIMIZE \\[0\\.02, 0\\.06\\] LOG$/constexpr double K_START = 0.027906077215634588;  \\/\\/ OPTIMIZE [0.02, 0.06] LOG/' -e 's/^constexpr double K_END = .*;   \\/\\/ OPTIMIZE \\[0\\.01, 0\\.05\\] LOG$/constexpr double K_END = 0.04633136591194571;   \\/\\/ OPTIMIZE [0.01, 0.05] LOG/' -e 's/^constexpr double K_H = .*;      \\/\\/ OPTIMIZE \\[0\\.001, 0\\.999\\]$/constexpr double K_H = 0.8892410156730203;      \\/\\/ OPTIMIZE [0.001, 0.999]/' -e 's/^constexpr short PURCHASE_TURN_LIMIT = .*;  \\/\\/ OPTIMIZE \\[780, 880\\]$/constexpr short PURCHASE_TURN_LIMIT = 840;  \\/\\/ OPTIMIZE [780, 880]/' -e 's/^constexpr int ROUGH_HASH = .*;  \\/\\/ OPTIMIZE {0, 0b00000001, 0b00010001, 0b00010011, 0b00110011}$/constexpr int ROUGH_HASH = 0;  \\/\\/ OPTIMIZE {0, 0b00000001, 0b00010001, 0b00010011, 0b00110011}/'\n",
      "g++ 5_main.cpp -std=gnu++17 -O2 -DONLINE_JUDGE -o 5_main.cpp.out 2> /dev/null\n"
     ]
    },
    {
     "name": "stderr",
     "output_type": "stream",
     "text": [
      "\u001b[32m[I 2021-09-10 06:15:43,583]\u001b[0m Trial 41 finished with value: 891294316.0 and parameters: {'K_START': 0.027906077215634588, 'K_END': 0.04633136591194571, 'K_H': 0.8892410156730203, 'PURCHASE_TURN_LIMIT': 840, 'ROUGH_HASH': '0'}. Best is trial 12 with value: 906189916.0.\u001b[0m\n"
     ]
    },
    {
     "name": "stdout",
     "output_type": "stream",
     "text": [
      "callback ok\n",
      "index_parallel=6\n",
      "sed -i 6_main.cpp -e 's/^constexpr double K_START = .*;  \\/\\/ OPTIMIZE \\[0\\.02, 0\\.06\\] LOG$/constexpr double K_START = 0.025362167776934768;  \\/\\/ OPTIMIZE [0.02, 0.06] LOG/' -e 's/^constexpr double K_END = .*;   \\/\\/ OPTIMIZE \\[0\\.01, 0\\.05\\] LOG$/constexpr double K_END = 0.045059725397361014;   \\/\\/ OPTIMIZE [0.01, 0.05] LOG/' -e 's/^constexpr double K_H = .*;      \\/\\/ OPTIMIZE \\[0\\.001, 0\\.999\\]$/constexpr double K_H = 0.7875751691206083;      \\/\\/ OPTIMIZE [0.001, 0.999]/' -e 's/^constexpr short PURCHASE_TURN_LIMIT = .*;  \\/\\/ OPTIMIZE \\[780, 880\\]$/constexpr short PURCHASE_TURN_LIMIT = 844;  \\/\\/ OPTIMIZE [780, 880]/' -e 's/^constexpr int ROUGH_HASH = .*;  \\/\\/ OPTIMIZE {0, 0b00000001, 0b00010001, 0b00010011, 0b00110011}$/constexpr int ROUGH_HASH = 0b00110011;  \\/\\/ OPTIMIZE {0, 0b00000001, 0b00010001, 0b00010011, 0b00110011}/'\n",
      "g++ 6_main.cpp -std=gnu++17 -O2 -DONLINE_JUDGE -o 6_main.cpp.out 2> /dev/null\n"
     ]
    },
    {
     "name": "stderr",
     "output_type": "stream",
     "text": [
      "\u001b[32m[I 2021-09-10 06:18:40,382]\u001b[0m Trial 42 finished with value: 886586199.0 and parameters: {'K_START': 0.025362167776934768, 'K_END': 0.045059725397361014, 'K_H': 0.7875751691206083, 'PURCHASE_TURN_LIMIT': 844, 'ROUGH_HASH': '0b00110011'}. Best is trial 12 with value: 906189916.0.\u001b[0m\n"
     ]
    },
    {
     "name": "stdout",
     "output_type": "stream",
     "text": [
      "callback ok\n",
      "index_parallel=7\n",
      "sed -i 7_main.cpp -e 's/^constexpr double K_START = .*;  \\/\\/ OPTIMIZE \\[0\\.02, 0\\.06\\] LOG$/constexpr double K_START = 0.04199147966710954;  \\/\\/ OPTIMIZE [0.02, 0.06] LOG/' -e 's/^constexpr double K_END = .*;   \\/\\/ OPTIMIZE \\[0\\.01, 0\\.05\\] LOG$/constexpr double K_END = 0.049239183579488116;   \\/\\/ OPTIMIZE [0.01, 0.05] LOG/' -e 's/^constexpr double K_H = .*;      \\/\\/ OPTIMIZE \\[0\\.001, 0\\.999\\]$/constexpr double K_H = 0.7255915407864917;      \\/\\/ OPTIMIZE [0.001, 0.999]/' -e 's/^constexpr short PURCHASE_TURN_LIMIT = .*;  \\/\\/ OPTIMIZE \\[780, 880\\]$/constexpr short PURCHASE_TURN_LIMIT = 834;  \\/\\/ OPTIMIZE [780, 880]/' -e 's/^constexpr int ROUGH_HASH = .*;  \\/\\/ OPTIMIZE {0, 0b00000001, 0b00010001, 0b00010011, 0b00110011}$/constexpr int ROUGH_HASH = 0b00010001;  \\/\\/ OPTIMIZE {0, 0b00000001, 0b00010001, 0b00010011, 0b00110011}/'\n",
      "g++ 7_main.cpp -std=gnu++17 -O2 -DONLINE_JUDGE -o 7_main.cpp.out 2> /dev/null\n"
     ]
    },
    {
     "name": "stderr",
     "output_type": "stream",
     "text": [
      "\u001b[32m[I 2021-09-10 06:22:02,789]\u001b[0m Trial 43 finished with value: 643960371.0 and parameters: {'K_START': 0.04199147966710954, 'K_END': 0.049239183579488116, 'K_H': 0.7255915407864917, 'PURCHASE_TURN_LIMIT': 834, 'ROUGH_HASH': '0b00010001'}. Best is trial 12 with value: 906189916.0.\u001b[0m\n"
     ]
    },
    {
     "name": "stdout",
     "output_type": "stream",
     "text": [
      "callback ok\n",
      "index_parallel=8\n",
      "sed -i 8_main.cpp -e 's/^constexpr double K_START = .*;  \\/\\/ OPTIMIZE \\[0\\.02, 0\\.06\\] LOG$/constexpr double K_START = 0.03203685677209046;  \\/\\/ OPTIMIZE [0.02, 0.06] LOG/' -e 's/^constexpr double K_END = .*;   \\/\\/ OPTIMIZE \\[0\\.01, 0\\.05\\] LOG$/constexpr double K_END = 0.042920615735798744;   \\/\\/ OPTIMIZE [0.01, 0.05] LOG/' -e 's/^constexpr double K_H = .*;      \\/\\/ OPTIMIZE \\[0\\.001, 0\\.999\\]$/constexpr double K_H = 0.6608119963319703;      \\/\\/ OPTIMIZE [0.001, 0.999]/' -e 's/^constexpr short PURCHASE_TURN_LIMIT = .*;  \\/\\/ OPTIMIZE \\[780, 880\\]$/constexpr short PURCHASE_TURN_LIMIT = 873;  \\/\\/ OPTIMIZE [780, 880]/' -e 's/^constexpr int ROUGH_HASH = .*;  \\/\\/ OPTIMIZE {0, 0b00000001, 0b00010001, 0b00010011, 0b00110011}$/constexpr int ROUGH_HASH = 0;  \\/\\/ OPTIMIZE {0, 0b00000001, 0b00010001, 0b00010011, 0b00110011}/'\n",
      "g++ 8_main.cpp -std=gnu++17 -O2 -DONLINE_JUDGE -o 8_main.cpp.out 2> /dev/null\n"
     ]
    },
    {
     "name": "stderr",
     "output_type": "stream",
     "text": [
      "\u001b[32m[I 2021-09-10 06:25:52,062]\u001b[0m Trial 44 finished with value: 874972552.0 and parameters: {'K_START': 0.03203685677209046, 'K_END': 0.042920615735798744, 'K_H': 0.6608119963319703, 'PURCHASE_TURN_LIMIT': 873, 'ROUGH_HASH': '0'}. Best is trial 12 with value: 906189916.0.\u001b[0m\n"
     ]
    },
    {
     "name": "stdout",
     "output_type": "stream",
     "text": [
      "callback ok\n",
      "index_parallel=9\n",
      "sed -i 9_main.cpp -e 's/^constexpr double K_START = .*;  \\/\\/ OPTIMIZE \\[0\\.02, 0\\.06\\] LOG$/constexpr double K_START = 0.020566320834219942;  \\/\\/ OPTIMIZE [0.02, 0.06] LOG/' -e 's/^constexpr double K_END = .*;   \\/\\/ OPTIMIZE \\[0\\.01, 0\\.05\\] LOG$/constexpr double K_END = 0.038417491868407726;   \\/\\/ OPTIMIZE [0.01, 0.05] LOG/' -e 's/^constexpr double K_H = .*;      \\/\\/ OPTIMIZE \\[0\\.001, 0\\.999\\]$/constexpr double K_H = 0.53542776272268;      \\/\\/ OPTIMIZE [0.001, 0.999]/' -e 's/^constexpr short PURCHASE_TURN_LIMIT = .*;  \\/\\/ OPTIMIZE \\[780, 880\\]$/constexpr short PURCHASE_TURN_LIMIT = 827;  \\/\\/ OPTIMIZE [780, 880]/' -e 's/^constexpr int ROUGH_HASH = .*;  \\/\\/ OPTIMIZE {0, 0b00000001, 0b00010001, 0b00010011, 0b00110011}$/constexpr int ROUGH_HASH = 0b00000001;  \\/\\/ OPTIMIZE {0, 0b00000001, 0b00010001, 0b00010011, 0b00110011}/'\n",
      "g++ 9_main.cpp -std=gnu++17 -O2 -DONLINE_JUDGE -o 9_main.cpp.out 2> /dev/null\n"
     ]
    },
    {
     "name": "stderr",
     "output_type": "stream",
     "text": [
      "\u001b[32m[I 2021-09-10 06:29:27,667]\u001b[0m Trial 45 finished with value: 890148611.0 and parameters: {'K_START': 0.020566320834219942, 'K_END': 0.038417491868407726, 'K_H': 0.53542776272268, 'PURCHASE_TURN_LIMIT': 827, 'ROUGH_HASH': '0b00000001'}. Best is trial 12 with value: 906189916.0.\u001b[0m\n"
     ]
    },
    {
     "name": "stdout",
     "output_type": "stream",
     "text": [
      "callback ok\n",
      "index_parallel=10\n",
      "sed -i 10_main.cpp -e 's/^constexpr double K_START = .*;  \\/\\/ OPTIMIZE \\[0\\.02, 0\\.06\\] LOG$/constexpr double K_START = 0.0463866129134562;  \\/\\/ OPTIMIZE [0.02, 0.06] LOG/' -e 's/^constexpr double K_END = .*;   \\/\\/ OPTIMIZE \\[0\\.01, 0\\.05\\] LOG$/constexpr double K_END = 0.011101249609746967;   \\/\\/ OPTIMIZE [0.01, 0.05] LOG/' -e 's/^constexpr double K_H = .*;      \\/\\/ OPTIMIZE \\[0\\.001, 0\\.999\\]$/constexpr double K_H = 0.3042160864242238;      \\/\\/ OPTIMIZE [0.001, 0.999]/' -e 's/^constexpr short PURCHASE_TURN_LIMIT = .*;  \\/\\/ OPTIMIZE \\[780, 880\\]$/constexpr short PURCHASE_TURN_LIMIT = 846;  \\/\\/ OPTIMIZE [780, 880]/' -e 's/^constexpr int ROUGH_HASH = .*;  \\/\\/ OPTIMIZE {0, 0b00000001, 0b00010001, 0b00010011, 0b00110011}$/constexpr int ROUGH_HASH = 0;  \\/\\/ OPTIMIZE {0, 0b00000001, 0b00010001, 0b00010011, 0b00110011}/'\n",
      "g++ 10_main.cpp -std=gnu++17 -O2 -DONLINE_JUDGE -o 10_main.cpp.out 2> /dev/null\n"
     ]
    },
    {
     "name": "stderr",
     "output_type": "stream",
     "text": [
      "\u001b[32m[I 2021-09-10 06:33:07,946]\u001b[0m Trial 46 finished with value: 842063135.0 and parameters: {'K_START': 0.0463866129134562, 'K_END': 0.011101249609746967, 'K_H': 0.3042160864242238, 'PURCHASE_TURN_LIMIT': 846, 'ROUGH_HASH': '0'}. Best is trial 12 with value: 906189916.0.\u001b[0m\n"
     ]
    },
    {
     "name": "stdout",
     "output_type": "stream",
     "text": [
      "callback ok\n",
      "index_parallel=11\n",
      "sed -i 11_main.cpp -e 's/^constexpr double K_START = .*;  \\/\\/ OPTIMIZE \\[0\\.02, 0\\.06\\] LOG$/constexpr double K_START = 0.035601084295174085;  \\/\\/ OPTIMIZE [0.02, 0.06] LOG/' -e 's/^constexpr double K_END = .*;   \\/\\/ OPTIMIZE \\[0\\.01, 0\\.05\\] LOG$/constexpr double K_END = 0.04619253821648412;   \\/\\/ OPTIMIZE [0.01, 0.05] LOG/' -e 's/^constexpr double K_H = .*;      \\/\\/ OPTIMIZE \\[0\\.001, 0\\.999\\]$/constexpr double K_H = 0.008612870280126111;      \\/\\/ OPTIMIZE [0.001, 0.999]/' -e 's/^constexpr short PURCHASE_TURN_LIMIT = .*;  \\/\\/ OPTIMIZE \\[780, 880\\]$/constexpr short PURCHASE_TURN_LIMIT = 832;  \\/\\/ OPTIMIZE [780, 880]/' -e 's/^constexpr int ROUGH_HASH = .*;  \\/\\/ OPTIMIZE {0, 0b00000001, 0b00010001, 0b00010011, 0b00110011}$/constexpr int ROUGH_HASH = 0b00010011;  \\/\\/ OPTIMIZE {0, 0b00000001, 0b00010001, 0b00010011, 0b00110011}/'\n",
      "g++ 11_main.cpp -std=gnu++17 -O2 -DONLINE_JUDGE -o 11_main.cpp.out 2> /dev/null\n"
     ]
    },
    {
     "name": "stderr",
     "output_type": "stream",
     "text": [
      "\u001b[32m[I 2021-09-10 06:36:17,008]\u001b[0m Trial 47 finished with value: 889477056.0 and parameters: {'K_START': 0.035601084295174085, 'K_END': 0.04619253821648412, 'K_H': 0.008612870280126111, 'PURCHASE_TURN_LIMIT': 832, 'ROUGH_HASH': '0b00010011'}. Best is trial 12 with value: 906189916.0.\u001b[0m\n"
     ]
    },
    {
     "name": "stdout",
     "output_type": "stream",
     "text": [
      "callback ok\n",
      "index_parallel=0\n",
      "sed -i 0_main.cpp -e 's/^constexpr double K_START = .*;  \\/\\/ OPTIMIZE \\[0\\.02, 0\\.06\\] LOG$/constexpr double K_START = 0.02478119202831547;  \\/\\/ OPTIMIZE [0.02, 0.06] LOG/' -e 's/^constexpr double K_END = .*;   \\/\\/ OPTIMIZE \\[0\\.01, 0\\.05\\] LOG$/constexpr double K_END = 0.03573356835756019;   \\/\\/ OPTIMIZE [0.01, 0.05] LOG/' -e 's/^constexpr double K_H = .*;      \\/\\/ OPTIMIZE \\[0\\.001, 0\\.999\\]$/constexpr double K_H = 0.9959746791742066;      \\/\\/ OPTIMIZE [0.001, 0.999]/' -e 's/^constexpr short PURCHASE_TURN_LIMIT = .*;  \\/\\/ OPTIMIZE \\[780, 880\\]$/constexpr short PURCHASE_TURN_LIMIT = 821;  \\/\\/ OPTIMIZE [780, 880]/' -e 's/^constexpr int ROUGH_HASH = .*;  \\/\\/ OPTIMIZE {0, 0b00000001, 0b00010001, 0b00010011, 0b00110011}$/constexpr int ROUGH_HASH = 0b00110011;  \\/\\/ OPTIMIZE {0, 0b00000001, 0b00010001, 0b00010011, 0b00110011}/'\n",
      "g++ 0_main.cpp -std=gnu++17 -O2 -DONLINE_JUDGE -o 0_main.cpp.out 2> /dev/null\n"
     ]
    },
    {
     "name": "stderr",
     "output_type": "stream",
     "text": [
      "\u001b[32m[I 2021-09-10 06:39:09,039]\u001b[0m Trial 48 finished with value: 874149114.0 and parameters: {'K_START': 0.02478119202831547, 'K_END': 0.03573356835756019, 'K_H': 0.9959746791742066, 'PURCHASE_TURN_LIMIT': 821, 'ROUGH_HASH': '0b00110011'}. Best is trial 12 with value: 906189916.0.\u001b[0m\n"
     ]
    },
    {
     "name": "stdout",
     "output_type": "stream",
     "text": [
      "callback ok\n",
      "index_parallel=1\n",
      "sed -i 1_main.cpp -e 's/^constexpr double K_START = .*;  \\/\\/ OPTIMIZE \\[0\\.02, 0\\.06\\] LOG$/constexpr double K_START = 0.03793219086750834;  \\/\\/ OPTIMIZE [0.02, 0.06] LOG/' -e 's/^constexpr double K_END = .*;   \\/\\/ OPTIMIZE \\[0\\.01, 0\\.05\\] LOG$/constexpr double K_END = 0.040718040885689456;   \\/\\/ OPTIMIZE [0.01, 0.05] LOG/' -e 's/^constexpr double K_H = .*;      \\/\\/ OPTIMIZE \\[0\\.001, 0\\.999\\]$/constexpr double K_H = 0.8073896059819027;      \\/\\/ OPTIMIZE [0.001, 0.999]/' -e 's/^constexpr short PURCHASE_TURN_LIMIT = .*;  \\/\\/ OPTIMIZE \\[780, 880\\]$/constexpr short PURCHASE_TURN_LIMIT = 837;  \\/\\/ OPTIMIZE [780, 880]/' -e 's/^constexpr int ROUGH_HASH = .*;  \\/\\/ OPTIMIZE {0, 0b00000001, 0b00010001, 0b00010011, 0b00110011}$/constexpr int ROUGH_HASH = 0b00010001;  \\/\\/ OPTIMIZE {0, 0b00000001, 0b00010001, 0b00010011, 0b00110011}/'\n",
      "g++ 1_main.cpp -std=gnu++17 -O2 -DONLINE_JUDGE -o 1_main.cpp.out 2> /dev/null\n"
     ]
    },
    {
     "name": "stderr",
     "output_type": "stream",
     "text": [
      "\u001b[32m[I 2021-09-10 06:42:38,525]\u001b[0m Trial 49 finished with value: 899903343.0 and parameters: {'K_START': 0.03793219086750834, 'K_END': 0.040718040885689456, 'K_H': 0.8073896059819027, 'PURCHASE_TURN_LIMIT': 837, 'ROUGH_HASH': '0b00010001'}. Best is trial 12 with value: 906189916.0.\u001b[0m\n"
     ]
    },
    {
     "name": "stdout",
     "output_type": "stream",
     "text": [
      "callback ok\n",
      "index_parallel=2\n",
      "sed -i 2_main.cpp -e 's/^constexpr double K_START = .*;  \\/\\/ OPTIMIZE \\[0\\.02, 0\\.06\\] LOG$/constexpr double K_START = 0.0427583195191865;  \\/\\/ OPTIMIZE [0.02, 0.06] LOG/' -e 's/^constexpr double K_END = .*;   \\/\\/ OPTIMIZE \\[0\\.01, 0\\.05\\] LOG$/constexpr double K_END = 0.04053871554652824;   \\/\\/ OPTIMIZE [0.01, 0.05] LOG/' -e 's/^constexpr double K_H = .*;      \\/\\/ OPTIMIZE \\[0\\.001, 0\\.999\\]$/constexpr double K_H = 0.8256980150360592;      \\/\\/ OPTIMIZE [0.001, 0.999]/' -e 's/^constexpr short PURCHASE_TURN_LIMIT = .*;  \\/\\/ OPTIMIZE \\[780, 880\\]$/constexpr short PURCHASE_TURN_LIMIT = 805;  \\/\\/ OPTIMIZE [780, 880]/' -e 's/^constexpr int ROUGH_HASH = .*;  \\/\\/ OPTIMIZE {0, 0b00000001, 0b00010001, 0b00010011, 0b00110011}$/constexpr int ROUGH_HASH = 0b00010001;  \\/\\/ OPTIMIZE {0, 0b00000001, 0b00010001, 0b00010011, 0b00110011}/'\n",
      "g++ 2_main.cpp -std=gnu++17 -O2 -DONLINE_JUDGE -o 2_main.cpp.out 2> /dev/null\n"
     ]
    },
    {
     "name": "stderr",
     "output_type": "stream",
     "text": [
      "\u001b[32m[I 2021-09-10 06:45:51,637]\u001b[0m Trial 50 finished with value: 888173468.0 and parameters: {'K_START': 0.0427583195191865, 'K_END': 0.04053871554652824, 'K_H': 0.8256980150360592, 'PURCHASE_TURN_LIMIT': 805, 'ROUGH_HASH': '0b00010001'}. Best is trial 12 with value: 906189916.0.\u001b[0m\n"
     ]
    },
    {
     "name": "stdout",
     "output_type": "stream",
     "text": [
      "callback ok\n",
      "index_parallel=3\n",
      "sed -i 3_main.cpp -e 's/^constexpr double K_START = .*;  \\/\\/ OPTIMIZE \\[0\\.02, 0\\.06\\] LOG$/constexpr double K_START = 0.03825057192254696;  \\/\\/ OPTIMIZE [0.02, 0.06] LOG/' -e 's/^constexpr double K_END = .*;   \\/\\/ OPTIMIZE \\[0\\.01, 0\\.05\\] LOG$/constexpr double K_END = 0.04342547075112909;   \\/\\/ OPTIMIZE [0.01, 0.05] LOG/' -e 's/^constexpr double K_H = .*;      \\/\\/ OPTIMIZE \\[0\\.001, 0\\.999\\]$/constexpr double K_H = 0.9046812150241018;      \\/\\/ OPTIMIZE [0.001, 0.999]/' -e 's/^constexpr short PURCHASE_TURN_LIMIT = .*;  \\/\\/ OPTIMIZE \\[780, 880\\]$/constexpr short PURCHASE_TURN_LIMIT = 836;  \\/\\/ OPTIMIZE [780, 880]/' -e 's/^constexpr int ROUGH_HASH = .*;  \\/\\/ OPTIMIZE {0, 0b00000001, 0b00010001, 0b00010011, 0b00110011}$/constexpr int ROUGH_HASH = 0b00010001;  \\/\\/ OPTIMIZE {0, 0b00000001, 0b00010001, 0b00010011, 0b00110011}/'\n",
      "g++ 3_main.cpp -std=gnu++17 -O2 -DONLINE_JUDGE -o 3_main.cpp.out 2> /dev/null\n"
     ]
    },
    {
     "name": "stderr",
     "output_type": "stream",
     "text": [
      "\u001b[32m[I 2021-09-10 06:49:14,081]\u001b[0m Trial 51 finished with value: 887593111.0 and parameters: {'K_START': 0.03825057192254696, 'K_END': 0.04342547075112909, 'K_H': 0.9046812150241018, 'PURCHASE_TURN_LIMIT': 836, 'ROUGH_HASH': '0b00010001'}. Best is trial 12 with value: 906189916.0.\u001b[0m\n"
     ]
    },
    {
     "name": "stdout",
     "output_type": "stream",
     "text": [
      "callback ok\n",
      "index_parallel=4\n",
      "sed -i 4_main.cpp -e 's/^constexpr double K_START = .*;  \\/\\/ OPTIMIZE \\[0\\.02, 0\\.06\\] LOG$/constexpr double K_START = 0.034189857729127;  \\/\\/ OPTIMIZE [0.02, 0.06] LOG/' -e 's/^constexpr double K_END = .*;   \\/\\/ OPTIMIZE \\[0\\.01, 0\\.05\\] LOG$/constexpr double K_END = 0.04722196261500551;   \\/\\/ OPTIMIZE [0.01, 0.05] LOG/' -e 's/^constexpr double K_H = .*;      \\/\\/ OPTIMIZE \\[0\\.001, 0\\.999\\]$/constexpr double K_H = 0.7281475302052164;      \\/\\/ OPTIMIZE [0.001, 0.999]/' -e 's/^constexpr short PURCHASE_TURN_LIMIT = .*;  \\/\\/ OPTIMIZE \\[780, 880\\]$/constexpr short PURCHASE_TURN_LIMIT = 842;  \\/\\/ OPTIMIZE [780, 880]/' -e 's/^constexpr int ROUGH_HASH = .*;  \\/\\/ OPTIMIZE {0, 0b00000001, 0b00010001, 0b00010011, 0b00110011}$/constexpr int ROUGH_HASH = 0b00010001;  \\/\\/ OPTIMIZE {0, 0b00000001, 0b00010001, 0b00010011, 0b00110011}/'\n",
      "g++ 4_main.cpp -std=gnu++17 -O2 -DONLINE_JUDGE -o 4_main.cpp.out 2> /dev/null\n"
     ]
    },
    {
     "name": "stderr",
     "output_type": "stream",
     "text": [
      "\u001b[32m[I 2021-09-10 06:52:37,779]\u001b[0m Trial 52 finished with value: 878870091.0 and parameters: {'K_START': 0.034189857729127, 'K_END': 0.04722196261500551, 'K_H': 0.7281475302052164, 'PURCHASE_TURN_LIMIT': 842, 'ROUGH_HASH': '0b00010001'}. Best is trial 12 with value: 906189916.0.\u001b[0m\n"
     ]
    },
    {
     "name": "stdout",
     "output_type": "stream",
     "text": [
      "callback ok\n",
      "index_parallel=5\n",
      "sed -i 5_main.cpp -e 's/^constexpr double K_START = .*;  \\/\\/ OPTIMIZE \\[0\\.02, 0\\.06\\] LOG$/constexpr double K_START = 0.040260060263822006;  \\/\\/ OPTIMIZE [0.02, 0.06] LOG/' -e 's/^constexpr double K_END = .*;   \\/\\/ OPTIMIZE \\[0\\.01, 0\\.05\\] LOG$/constexpr double K_END = 0.03761408199463084;   \\/\\/ OPTIMIZE [0.01, 0.05] LOG/' -e 's/^constexpr double K_H = .*;      \\/\\/ OPTIMIZE \\[0\\.001, 0\\.999\\]$/constexpr double K_H = 0.8003018502942253;      \\/\\/ OPTIMIZE [0.001, 0.999]/' -e 's/^constexpr short PURCHASE_TURN_LIMIT = .*;  \\/\\/ OPTIMIZE \\[780, 880\\]$/constexpr short PURCHASE_TURN_LIMIT = 830;  \\/\\/ OPTIMIZE [780, 880]/' -e 's/^constexpr int ROUGH_HASH = .*;  \\/\\/ OPTIMIZE {0, 0b00000001, 0b00010001, 0b00010011, 0b00110011}$/constexpr int ROUGH_HASH = 0b00010001;  \\/\\/ OPTIMIZE {0, 0b00000001, 0b00010001, 0b00010011, 0b00110011}/'\n",
      "g++ 5_main.cpp -std=gnu++17 -O2 -DONLINE_JUDGE -o 5_main.cpp.out 2> /dev/null\n"
     ]
    },
    {
     "name": "stderr",
     "output_type": "stream",
     "text": [
      "\u001b[32m[I 2021-09-10 06:55:55,498]\u001b[0m Trial 53 finished with value: 896575753.0 and parameters: {'K_START': 0.040260060263822006, 'K_END': 0.03761408199463084, 'K_H': 0.8003018502942253, 'PURCHASE_TURN_LIMIT': 830, 'ROUGH_HASH': '0b00010001'}. Best is trial 12 with value: 906189916.0.\u001b[0m\n"
     ]
    },
    {
     "name": "stdout",
     "output_type": "stream",
     "text": [
      "callback ok\n",
      "index_parallel=6\n",
      "sed -i 6_main.cpp -e 's/^constexpr double K_START = .*;  \\/\\/ OPTIMIZE \\[0\\.02, 0\\.06\\] LOG$/constexpr double K_START = 0.044844320763263085;  \\/\\/ OPTIMIZE [0.02, 0.06] LOG/' -e 's/^constexpr double K_END = .*;   \\/\\/ OPTIMIZE \\[0\\.01, 0\\.05\\] LOG$/constexpr double K_END = 0.036877131180158805;   \\/\\/ OPTIMIZE [0.01, 0.05] LOG/' -e 's/^constexpr double K_H = .*;      \\/\\/ OPTIMIZE \\[0\\.001, 0\\.999\\]$/constexpr double K_H = 0.8069328307034332;      \\/\\/ OPTIMIZE [0.001, 0.999]/' -e 's/^constexpr short PURCHASE_TURN_LIMIT = .*;  \\/\\/ OPTIMIZE \\[780, 880\\]$/constexpr short PURCHASE_TURN_LIMIT = 830;  \\/\\/ OPTIMIZE [780, 880]/' -e 's/^constexpr int ROUGH_HASH = .*;  \\/\\/ OPTIMIZE {0, 0b00000001, 0b00010001, 0b00010011, 0b00110011}$/constexpr int ROUGH_HASH = 0b00010001;  \\/\\/ OPTIMIZE {0, 0b00000001, 0b00010001, 0b00010011, 0b00110011}/'\n",
      "g++ 6_main.cpp -std=gnu++17 -O2 -DONLINE_JUDGE -o 6_main.cpp.out 2> /dev/null\n"
     ]
    },
    {
     "name": "stderr",
     "output_type": "stream",
     "text": [
      "\u001b[32m[I 2021-09-10 06:59:10,065]\u001b[0m Trial 54 finished with value: 893176956.0 and parameters: {'K_START': 0.044844320763263085, 'K_END': 0.036877131180158805, 'K_H': 0.8069328307034332, 'PURCHASE_TURN_LIMIT': 830, 'ROUGH_HASH': '0b00010001'}. Best is trial 12 with value: 906189916.0.\u001b[0m\n"
     ]
    },
    {
     "name": "stdout",
     "output_type": "stream",
     "text": [
      "callback ok\n",
      "index_parallel=7\n",
      "sed -i 7_main.cpp -e 's/^constexpr double K_START = .*;  \\/\\/ OPTIMIZE \\[0\\.02, 0\\.06\\] LOG$/constexpr double K_START = 0.041013268255389215;  \\/\\/ OPTIMIZE [0.02, 0.06] LOG/' -e 's/^constexpr double K_END = .*;   \\/\\/ OPTIMIZE \\[0\\.01, 0\\.05\\] LOG$/constexpr double K_END = 0.03856737025146465;   \\/\\/ OPTIMIZE [0.01, 0.05] LOG/' -e 's/^constexpr double K_H = .*;      \\/\\/ OPTIMIZE \\[0\\.001, 0\\.999\\]$/constexpr double K_H = 0.9431868448216628;      \\/\\/ OPTIMIZE [0.001, 0.999]/' -e 's/^constexpr short PURCHASE_TURN_LIMIT = .*;  \\/\\/ OPTIMIZE \\[780, 880\\]$/constexpr short PURCHASE_TURN_LIMIT = 826;  \\/\\/ OPTIMIZE [780, 880]/' -e 's/^constexpr int ROUGH_HASH = .*;  \\/\\/ OPTIMIZE {0, 0b00000001, 0b00010001, 0b00010011, 0b00110011}$/constexpr int ROUGH_HASH = 0b00010001;  \\/\\/ OPTIMIZE {0, 0b00000001, 0b00010001, 0b00010011, 0b00110011}/'\n",
      "g++ 7_main.cpp -std=gnu++17 -O2 -DONLINE_JUDGE -o 7_main.cpp.out 2> /dev/null\n"
     ]
    },
    {
     "name": "stderr",
     "output_type": "stream",
     "text": [
      "\u001b[32m[I 2021-09-10 07:02:25,427]\u001b[0m Trial 55 finished with value: 891525643.0 and parameters: {'K_START': 0.041013268255389215, 'K_END': 0.03856737025146465, 'K_H': 0.9431868448216628, 'PURCHASE_TURN_LIMIT': 826, 'ROUGH_HASH': '0b00010001'}. Best is trial 12 with value: 906189916.0.\u001b[0m\n"
     ]
    },
    {
     "name": "stdout",
     "output_type": "stream",
     "text": [
      "callback ok\n",
      "index_parallel=8\n",
      "sed -i 8_main.cpp -e 's/^constexpr double K_START = .*;  \\/\\/ OPTIMIZE \\[0\\.02, 0\\.06\\] LOG$/constexpr double K_START = 0.04909745346197107;  \\/\\/ OPTIMIZE [0.02, 0.06] LOG/' -e 's/^constexpr double K_END = .*;   \\/\\/ OPTIMIZE \\[0\\.01, 0\\.05\\] LOG$/constexpr double K_END = 0.01636229668357072;   \\/\\/ OPTIMIZE [0.01, 0.05] LOG/' -e 's/^constexpr double K_H = .*;      \\/\\/ OPTIMIZE \\[0\\.001, 0\\.999\\]$/constexpr double K_H = 0.6845928817682423;      \\/\\/ OPTIMIZE [0.001, 0.999]/' -e 's/^constexpr short PURCHASE_TURN_LIMIT = .*;  \\/\\/ OPTIMIZE \\[780, 880\\]$/constexpr short PURCHASE_TURN_LIMIT = 852;  \\/\\/ OPTIMIZE [780, 880]/' -e 's/^constexpr int ROUGH_HASH = .*;  \\/\\/ OPTIMIZE {0, 0b00000001, 0b00010001, 0b00010011, 0b00110011}$/constexpr int ROUGH_HASH = 0b00010001;  \\/\\/ OPTIMIZE {0, 0b00000001, 0b00010001, 0b00010011, 0b00110011}/'\n",
      "g++ 8_main.cpp -std=gnu++17 -O2 -DONLINE_JUDGE -o 8_main.cpp.out 2> /dev/null\n"
     ]
    },
    {
     "name": "stderr",
     "output_type": "stream",
     "text": [
      "\u001b[32m[I 2021-09-10 07:05:45,156]\u001b[0m Trial 56 finished with value: 831794301.0 and parameters: {'K_START': 0.04909745346197107, 'K_END': 0.01636229668357072, 'K_H': 0.6845928817682423, 'PURCHASE_TURN_LIMIT': 852, 'ROUGH_HASH': '0b00010001'}. Best is trial 12 with value: 906189916.0.\u001b[0m\n"
     ]
    },
    {
     "name": "stdout",
     "output_type": "stream",
     "text": [
      "callback ok\n",
      "index_parallel=9\n",
      "sed -i 9_main.cpp -e 's/^constexpr double K_START = .*;  \\/\\/ OPTIMIZE \\[0\\.02, 0\\.06\\] LOG$/constexpr double K_START = 0.03651478832094366;  \\/\\/ OPTIMIZE [0.02, 0.06] LOG/' -e 's/^constexpr double K_END = .*;   \\/\\/ OPTIMIZE \\[0\\.01, 0\\.05\\] LOG$/constexpr double K_END = 0.02970626114364123;   \\/\\/ OPTIMIZE [0.01, 0.05] LOG/' -e 's/^constexpr double K_H = .*;      \\/\\/ OPTIMIZE \\[0\\.001, 0\\.999\\]$/constexpr double K_H = 0.8645516357901203;      \\/\\/ OPTIMIZE [0.001, 0.999]/' -e 's/^constexpr short PURCHASE_TURN_LIMIT = .*;  \\/\\/ OPTIMIZE \\[780, 880\\]$/constexpr short PURCHASE_TURN_LIMIT = 814;  \\/\\/ OPTIMIZE [780, 880]/' -e 's/^constexpr int ROUGH_HASH = .*;  \\/\\/ OPTIMIZE {0, 0b00000001, 0b00010001, 0b00010011, 0b00110011}$/constexpr int ROUGH_HASH = 0b00010001;  \\/\\/ OPTIMIZE {0, 0b00000001, 0b00010001, 0b00010011, 0b00110011}/'\n",
      "g++ 9_main.cpp -std=gnu++17 -O2 -DONLINE_JUDGE -o 9_main.cpp.out 2> /dev/null\n"
     ]
    },
    {
     "name": "stderr",
     "output_type": "stream",
     "text": [
      "\u001b[32m[I 2021-09-10 07:09:00,093]\u001b[0m Trial 57 finished with value: 871330019.0 and parameters: {'K_START': 0.03651478832094366, 'K_END': 0.02970626114364123, 'K_H': 0.8645516357901203, 'PURCHASE_TURN_LIMIT': 814, 'ROUGH_HASH': '0b00010001'}. Best is trial 12 with value: 906189916.0.\u001b[0m\n"
     ]
    },
    {
     "name": "stdout",
     "output_type": "stream",
     "text": [
      "callback ok\n",
      "index_parallel=10\n",
      "sed -i 10_main.cpp -e 's/^constexpr double K_START = .*;  \\/\\/ OPTIMIZE \\[0\\.02, 0\\.06\\] LOG$/constexpr double K_START = 0.039586974043630214;  \\/\\/ OPTIMIZE [0.02, 0.06] LOG/' -e 's/^constexpr double K_END = .*;   \\/\\/ OPTIMIZE \\[0\\.01, 0\\.05\\] LOG$/constexpr double K_END = 0.022078880037355253;   \\/\\/ OPTIMIZE [0.01, 0.05] LOG/' -e 's/^constexpr double K_H = .*;      \\/\\/ OPTIMIZE \\[0\\.001, 0\\.999\\]$/constexpr double K_H = 0.7584071270834815;      \\/\\/ OPTIMIZE [0.001, 0.999]/' -e 's/^constexpr short PURCHASE_TURN_LIMIT = .*;  \\/\\/ OPTIMIZE \\[780, 880\\]$/constexpr short PURCHASE_TURN_LIMIT = 831;  \\/\\/ OPTIMIZE [780, 880]/' -e 's/^constexpr int ROUGH_HASH = .*;  \\/\\/ OPTIMIZE {0, 0b00000001, 0b00010001, 0b00010011, 0b00110011}$/constexpr int ROUGH_HASH = 0;  \\/\\/ OPTIMIZE {0, 0b00000001, 0b00010001, 0b00010011, 0b00110011}/'\n",
      "g++ 10_main.cpp -std=gnu++17 -O2 -DONLINE_JUDGE -o 10_main.cpp.out 2> /dev/null\n"
     ]
    },
    {
     "name": "stderr",
     "output_type": "stream",
     "text": [
      "\u001b[32m[I 2021-09-10 07:12:35,774]\u001b[0m Trial 58 finished with value: 860129810.0 and parameters: {'K_START': 0.039586974043630214, 'K_END': 0.022078880037355253, 'K_H': 0.7584071270834815, 'PURCHASE_TURN_LIMIT': 831, 'ROUGH_HASH': '0'}. Best is trial 12 with value: 906189916.0.\u001b[0m\n"
     ]
    },
    {
     "name": "stdout",
     "output_type": "stream",
     "text": [
      "callback ok\n",
      "index_parallel=11\n",
      "sed -i 11_main.cpp -e 's/^constexpr double K_START = .*;  \\/\\/ OPTIMIZE \\[0\\.02, 0\\.06\\] LOG$/constexpr double K_START = 0.028692321756125908;  \\/\\/ OPTIMIZE [0.02, 0.06] LOG/' -e 's/^constexpr double K_END = .*;   \\/\\/ OPTIMIZE \\[0\\.01, 0\\.05\\] LOG$/constexpr double K_END = 0.024780194734977508;   \\/\\/ OPTIMIZE [0.01, 0.05] LOG/' -e 's/^constexpr double K_H = .*;      \\/\\/ OPTIMIZE \\[0\\.001, 0\\.999\\]$/constexpr double K_H = 0.482748080295636;      \\/\\/ OPTIMIZE [0.001, 0.999]/' -e 's/^constexpr short PURCHASE_TURN_LIMIT = .*;  \\/\\/ OPTIMIZE \\[780, 880\\]$/constexpr short PURCHASE_TURN_LIMIT = 823;  \\/\\/ OPTIMIZE [780, 880]/' -e 's/^constexpr int ROUGH_HASH = .*;  \\/\\/ OPTIMIZE {0, 0b00000001, 0b00010001, 0b00010011, 0b00110011}$/constexpr int ROUGH_HASH = 0b00010001;  \\/\\/ OPTIMIZE {0, 0b00000001, 0b00010001, 0b00010011, 0b00110011}/'\n",
      "g++ 11_main.cpp -std=gnu++17 -O2 -DONLINE_JUDGE -o 11_main.cpp.out 2> /dev/null\n"
     ]
    },
    {
     "name": "stderr",
     "output_type": "stream",
     "text": [
      "\u001b[32m[I 2021-09-10 07:15:47,982]\u001b[0m Trial 59 finished with value: 863427930.0 and parameters: {'K_START': 0.028692321756125908, 'K_END': 0.024780194734977508, 'K_H': 0.482748080295636, 'PURCHASE_TURN_LIMIT': 823, 'ROUGH_HASH': '0b00010001'}. Best is trial 12 with value: 906189916.0.\u001b[0m\n"
     ]
    },
    {
     "name": "stdout",
     "output_type": "stream",
     "text": [
      "callback ok\n",
      "index_parallel=0\n",
      "sed -i 0_main.cpp -e 's/^constexpr double K_START = .*;  \\/\\/ OPTIMIZE \\[0\\.02, 0\\.06\\] LOG$/constexpr double K_START = 0.031905482424130216;  \\/\\/ OPTIMIZE [0.02, 0.06] LOG/' -e 's/^constexpr double K_END = .*;   \\/\\/ OPTIMIZE \\[0\\.01, 0\\.05\\] LOG$/constexpr double K_END = 0.041425434604829454;   \\/\\/ OPTIMIZE [0.01, 0.05] LOG/' -e 's/^constexpr double K_H = .*;      \\/\\/ OPTIMIZE \\[0\\.001, 0\\.999\\]$/constexpr double K_H = 0.3951072739585427;      \\/\\/ OPTIMIZE [0.001, 0.999]/' -e 's/^constexpr short PURCHASE_TURN_LIMIT = .*;  \\/\\/ OPTIMIZE \\[780, 880\\]$/constexpr short PURCHASE_TURN_LIMIT = 846;  \\/\\/ OPTIMIZE [780, 880]/' -e 's/^constexpr int ROUGH_HASH = .*;  \\/\\/ OPTIMIZE {0, 0b00000001, 0b00010001, 0b00010011, 0b00110011}$/constexpr int ROUGH_HASH = 0;  \\/\\/ OPTIMIZE {0, 0b00000001, 0b00010001, 0b00010011, 0b00110011}/'\n",
      "g++ 0_main.cpp -std=gnu++17 -O2 -DONLINE_JUDGE -o 0_main.cpp.out 2> /dev/null\n"
     ]
    }
   ],
   "source": [
    "storage_path = f\"study.db\"\n",
    "storage = f\"sqlite:///{storage_path}\"\n",
    "study_name = \"study\"\n",
    "study = optuna.create_study(storage=storage, load_if_exists=True, study_name=study_name, direction=\"maximize\")\n",
    "\n",
    "def callback(study, trial):\n",
    "    try:\n",
    "        if study.best_value == trial.value:\n",
    "            print(f\"Updated! {study.best_value}\")\n",
    "            index_parallel = trial.number % 12\n",
    "            parameters_changed_filename = f\"{index_parallel}_{FILENAME}\"\n",
    "            !cp {parameters_changed_filename} 00000optimized.cpp\n",
    "        print(\"callback ok\")\n",
    "    except:\n",
    "        print(\":(\")\n",
    "\n",
    "objective = partial(objective_with_index, n_internal_parallel=4)\n",
    "study.optimize(objective, n_trials=3000, timeout=86400, n_jobs=1, callbacks=[callback])"
   ]
  },
  {
   "cell_type": "code",
   "execution_count": null,
   "id": "89287185",
   "metadata": {},
   "outputs": [],
   "source": []
  },
  {
   "cell_type": "code",
   "execution_count": null,
   "id": "a84a9ff1",
   "metadata": {},
   "outputs": [],
   "source": []
  },
  {
   "cell_type": "code",
   "execution_count": null,
   "id": "4b1d7ae7",
   "metadata": {},
   "outputs": [],
   "source": []
  }
 ],
 "metadata": {
  "kernelspec": {
   "display_name": "Python 3",
   "language": "python",
   "name": "python3"
  },
  "language_info": {
   "codemirror_mode": {
    "name": "ipython",
    "version": 3
   },
   "file_extension": ".py",
   "mimetype": "text/x-python",
   "name": "python",
   "nbconvert_exporter": "python",
   "pygments_lexer": "ipython3",
   "version": "3.8.8"
  }
 },
 "nbformat": 4,
 "nbformat_minor": 5
}
