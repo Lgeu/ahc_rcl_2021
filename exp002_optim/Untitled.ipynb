{
 "cells": [
  {
   "cell_type": "code",
   "execution_count": 1,
   "id": "1f766898",
   "metadata": {},
   "outputs": [],
   "source": [
    "import re\n",
    "import sys\n",
    "from time import time, sleep\n",
    "from pprint import pprint\n",
    "from functools import partial\n",
    "from multiprocessing import Pool\n",
    "\n",
    "import numpy as np\n",
    "import pandas as pd\n",
    "import optuna\n",
    "import matplotlib.pyplot as plt\n",
    "\n",
    "FILENAME = \"main.cpp\""
   ]
  },
  {
   "cell_type": "code",
   "execution_count": 2,
   "id": "724766c6",
   "metadata": {},
   "outputs": [
    {
     "data": {
      "image/png": "[encoded data removed]",
      "text/plain": [
       "<Figure size 432x288 with 1 Axes>"
      ]
     },
     "metadata": {
      "needs_background": "light"
     },
     "output_type": "display_data"
    }
   ],
   "source": [
    "def f(x):\n",
    "    h = 0.2\n",
    "    a = (1.0 - 2.0 * h) / (h * h);\n",
    "    return np.expm1(np.log1p(a) * x) / a;\n",
    "x = np.arange(100.0) / 100.0\n",
    "y = f(x)\n",
    "\n",
    "plt.plot(x, y)\n",
    "plt.grid()"
   ]
  },
  {
   "cell_type": "code",
   "execution_count": 3,
   "id": "c3c672fe",
   "metadata": {},
   "outputs": [],
   "source": [
    "!cp ../answer/main.cpp ./{FILENAME}"
   ]
  },
  {
   "cell_type": "code",
   "execution_count": 4,
   "id": "bc28acaf",
   "metadata": {
    "scrolled": true
   },
   "outputs": [
    {
     "name": "stdout",
     "output_type": "stream",
     "text": [
      "\u001b[01m\u001b[Kmain.cpp:49:\u001b[m\u001b[K \u001b[01;35m\u001b[Kwarning: \u001b[m\u001b[Kignoring #pragma clang attribute [\u001b[01;35m\u001b[K-Wunknown-pragmas\u001b[m\u001b[K]\n",
      "   49 | #pragma clang attribute push (__attribute__((target(\"arch=skylake\"))),apply_to=function)\n",
      "      | \n",
      "\u001b[01m\u001b[Kmain.cpp:1229:\u001b[m\u001b[K \u001b[01;35m\u001b[Kwarning: \u001b[m\u001b[Kignoring #pragma clang attribute [\u001b[01;35m\u001b[K-Wunknown-pragmas\u001b[m\u001b[K]\n",
      " 1229 | #pragma clang attribute pop\n",
      "      | \n",
      "\u001b[01m\u001b[Kmain.cpp:\u001b[m\u001b[K In function ‘\u001b[01m\u001b[Kvoid Solve()\u001b[m\u001b[K’:\n",
      "\u001b[01m\u001b[Kmain.cpp:1138:72:\u001b[m\u001b[K \u001b[01;35m\u001b[Kwarning: \u001b[m\u001b[Kmissing initializer for member ‘\u001b[01m\u001b[KSolve()::Node::action\u001b[m\u001b[K’ [\u001b[01;35m\u001b[K-Wmissing-field-initializers\u001b[m\u001b[K]\n",
      " 1138 |   node_buffer.push({ state_buffer[0].score, nullptr, &state_buffer[0] }\u001b[01;35m\u001b[K)\u001b[m\u001b[K;\n",
      "      |                                                                        \u001b[01;35m\u001b[K^\u001b[m\u001b[K\n",
      "main.cpp: In instantiation of ‘\u001b[01m\u001b[KHashMap<T, size, KeyType>::HashMap() [with T = double; int size = 1048576; KeyType = long long unsigned int]\u001b[m\u001b[K’:\n",
      "\u001b[01m\u001b[Kmain.cpp:535:26:\u001b[m\u001b[K   required from here\n",
      "\u001b[01m\u001b[Kmain.cpp:477:30:\u001b[m\u001b[K \u001b[01;35m\u001b[Kwarning: \u001b[m\u001b[Ksuggest parentheses around ‘\u001b[01m\u001b[K-\u001b[m\u001b[K’ in operand of ‘\u001b[01m\u001b[K&\u001b[m\u001b[K’ [\u001b[01;35m\u001b[K-Wparentheses\u001b[m\u001b[K]\n",
      "  477 |   static_assert((size & \u001b[01;35m\u001b[Ksize - 1\u001b[m\u001b[K) == 0, \"not pow of 2\");\n",
      "      |                         \u001b[01;35m\u001b[K~~~~~^~~\u001b[m\u001b[K\n",
      "\u001b[01m\u001b[Kmain.cpp:478:9:\u001b[m\u001b[K \u001b[01;35m\u001b[Kwarning: \u001b[m\u001b[K‘\u001b[01m\u001b[Kvoid* memset(void*, int, size_t)\u001b[m\u001b[K’ clearing an object of type ‘\u001b[01m\u001b[Kstd::array<std::pair<long long unsigned int, double>, 1048576>::value_type\u001b[m\u001b[K’ {aka ‘\u001b[01m\u001b[Kstruct std::pair<long long unsigned int, double>\u001b[m\u001b[K’} with no trivial copy-assignment; use assignment instead [\u001b[01;35m\u001b[K-Wclass-memaccess\u001b[m\u001b[K]\n",
      "  478 |   \u001b[01;35m\u001b[Kmemset(&data[0], 0, sizeof(data))\u001b[m\u001b[K;\n",
      "      |   \u001b[01;35m\u001b[K~~~~~~^~~~~~~~~~~~~~~~~~~~~~~~~~~\u001b[m\u001b[K\n",
      "In file included from \u001b[01m\u001b[K/usr/include/c++/9/bits/stl_algobase.h:64\u001b[m\u001b[K,\n",
      "                 from \u001b[01m\u001b[K/usr/include/c++/9/bits/char_traits.h:39\u001b[m\u001b[K,\n",
      "                 from \u001b[01m\u001b[K/usr/include/c++/9/ios:40\u001b[m\u001b[K,\n",
      "                 from \u001b[01m\u001b[K/usr/include/c++/9/ostream:38\u001b[m\u001b[K,\n",
      "                 from \u001b[01m\u001b[K/usr/include/c++/9/iostream:39\u001b[m\u001b[K,\n",
      "                 from \u001b[01m\u001b[Kmain.cpp:8\u001b[m\u001b[K:\n",
      "\u001b[01m\u001b[K/usr/include/c++/9/bits/stl_pair.h:208:12:\u001b[m\u001b[K \u001b[01;36m\u001b[Knote: \u001b[m\u001b[K‘\u001b[01m\u001b[Kstd::array<std::pair<long long unsigned int, double>, 1048576>::value_type\u001b[m\u001b[K’ {aka ‘\u001b[01m\u001b[Kstruct std::pair<long long unsigned int, double>\u001b[m\u001b[K’} declared here\n",
      "  208 |     struct \u001b[01;36m\u001b[Kpair\u001b[m\u001b[K\n",
      "      |            \u001b[01;36m\u001b[K^~~~\u001b[m\u001b[K\n",
      "main.cpp: In instantiation of ‘\u001b[01m\u001b[KHashMap<T, size, KeyType>::HashMap() [with T = Solve()::Node*; int size = 524288; KeyType = long long unsigned int]\u001b[m\u001b[K’:\n",
      "\u001b[01m\u001b[Kmain.cpp:1145:48:\u001b[m\u001b[K   required from here\n",
      "\u001b[01m\u001b[Kmain.cpp:477:30:\u001b[m\u001b[K \u001b[01;35m\u001b[Kwarning: \u001b[m\u001b[Ksuggest parentheses around ‘\u001b[01m\u001b[K-\u001b[m\u001b[K’ in operand of ‘\u001b[01m\u001b[K&\u001b[m\u001b[K’ [\u001b[01;35m\u001b[K-Wparentheses\u001b[m\u001b[K]\n",
      "  477 |   static_assert((size & \u001b[01;35m\u001b[Ksize - 1\u001b[m\u001b[K) == 0, \"not pow of 2\");\n",
      "      |                         \u001b[01;35m\u001b[K~~~~~^~~\u001b[m\u001b[K\n",
      "\u001b[01m\u001b[Kmain.cpp:478:9:\u001b[m\u001b[K \u001b[01;35m\u001b[Kwarning: \u001b[m\u001b[K‘\u001b[01m\u001b[Kvoid* memset(void*, int, size_t)\u001b[m\u001b[K’ clearing an object of type ‘\u001b[01m\u001b[Kstd::array<std::pair<long long unsigned int, Solve()::Node*>, 524288>::value_type\u001b[m\u001b[K’ {aka ‘\u001b[01m\u001b[Kstruct std::pair<long long unsigned int, Solve()::Node*>\u001b[m\u001b[K’} with no trivial copy-assignment; use assignment instead [\u001b[01;35m\u001b[K-Wclass-memaccess\u001b[m\u001b[K]\n",
      "  478 |   \u001b[01;35m\u001b[Kmemset(&data[0], 0, sizeof(data))\u001b[m\u001b[K;\n",
      "      |   \u001b[01;35m\u001b[K~~~~~~^~~~~~~~~~~~~~~~~~~~~~~~~~~\u001b[m\u001b[K\n",
      "In file included from \u001b[01m\u001b[K/usr/include/c++/9/bits/stl_algobase.h:64\u001b[m\u001b[K,\n",
      "                 from \u001b[01m\u001b[K/usr/include/c++/9/bits/char_traits.h:39\u001b[m\u001b[K,\n",
      "                 from \u001b[01m\u001b[K/usr/include/c++/9/ios:40\u001b[m\u001b[K,\n",
      "                 from \u001b[01m\u001b[K/usr/include/c++/9/ostream:38\u001b[m\u001b[K,\n",
      "                 from \u001b[01m\u001b[K/usr/include/c++/9/iostream:39\u001b[m\u001b[K,\n",
      "                 from \u001b[01m\u001b[Kmain.cpp:8\u001b[m\u001b[K:\n",
      "\u001b[01m\u001b[K/usr/include/c++/9/bits/stl_pair.h:208:12:\u001b[m\u001b[K \u001b[01;36m\u001b[Knote: \u001b[m\u001b[K‘\u001b[01m\u001b[Kstd::array<std::pair<long long unsigned int, Solve()::Node*>, 524288>::value_type\u001b[m\u001b[K’ {aka ‘\u001b[01m\u001b[Kstruct std::pair<long long unsigned int, Solve()::Node*>\u001b[m\u001b[K’} declared here\n",
      "  208 |     struct \u001b[01;36m\u001b[Kpair\u001b[m\u001b[K\n",
      "      |            \u001b[01;36m\u001b[K^~~~\u001b[m\u001b[K\n",
      "main.cpp: In instantiation of ‘\u001b[01m\u001b[Kvoid HashMap<T, size, KeyType>::clear() [with T = Solve()::Node*; int size = 524288; KeyType = long long unsigned int]\u001b[m\u001b[K’:\n",
      "\u001b[01m\u001b[Kmain.cpp:1146:33:\u001b[m\u001b[K   required from here\n",
      "\u001b[01m\u001b[Kmain.cpp:531:9:\u001b[m\u001b[K \u001b[01;35m\u001b[Kwarning: \u001b[m\u001b[K‘\u001b[01m\u001b[Kvoid* memset(void*, int, size_t)\u001b[m\u001b[K’ clearing an object of type ‘\u001b[01m\u001b[Kstd::array<std::pair<long long unsigned int, Solve()::Node*>, 524288>::value_type\u001b[m\u001b[K’ {aka ‘\u001b[01m\u001b[Kstruct std::pair<long long unsigned int, Solve()::Node*>\u001b[m\u001b[K’} with no trivial copy-assignment; use assignment instead [\u001b[01;35m\u001b[K-Wclass-memaccess\u001b[m\u001b[K]\n",
      "  531 |   \u001b[01;35m\u001b[Kmemset(&data[0], 0, sizeof(data))\u001b[m\u001b[K;\n",
      "      |   \u001b[01;35m\u001b[K~~~~~~^~~~~~~~~~~~~~~~~~~~~~~~~~~\u001b[m\u001b[K\n",
      "In file included from \u001b[01m\u001b[K/usr/include/c++/9/bits/stl_algobase.h:64\u001b[m\u001b[K,\n",
      "                 from \u001b[01m\u001b[K/usr/include/c++/9/bits/char_traits.h:39\u001b[m\u001b[K,\n",
      "                 from \u001b[01m\u001b[K/usr/include/c++/9/ios:40\u001b[m\u001b[K,\n",
      "                 from \u001b[01m\u001b[K/usr/include/c++/9/ostream:38\u001b[m\u001b[K,\n",
      "                 from \u001b[01m\u001b[K/usr/include/c++/9/iostream:39\u001b[m\u001b[K,\n",
      "                 from \u001b[01m\u001b[Kmain.cpp:8\u001b[m\u001b[K:\n",
      "\u001b[01m\u001b[K/usr/include/c++/9/bits/stl_pair.h:208:12:\u001b[m\u001b[K \u001b[01;36m\u001b[Knote: \u001b[m\u001b[K‘\u001b[01m\u001b[Kstd::array<std::pair<long long unsigned int, Solve()::Node*>, 524288>::value_type\u001b[m\u001b[K’ {aka ‘\u001b[01m\u001b[Kstruct std::pair<long long unsigned int, Solve()::Node*>\u001b[m\u001b[K’} declared here\n",
      "  208 |     struct \u001b[01;36m\u001b[Kpair\u001b[m\u001b[K\n",
      "      |            \u001b[01;36m\u001b[K^~~~\u001b[m\u001b[K\n",
      "\u001b[01m\u001b[Kmain.cpp:1065:8:\u001b[m\u001b[K \u001b[01;35m\u001b[Kwarning: \u001b[m\u001b[Kignoring return value of ‘\u001b[01m\u001b[Kint scanf(const char*, ...)\u001b[m\u001b[K’, declared with attribute warn_unused_result [\u001b[01;35m\u001b[K-Wunused-result\u001b[m\u001b[K]\n",
      " 1065 |   \u001b[01;35m\u001b[Kscanf(\"%d %d %d\", &buf, &buf, &buf)\u001b[m\u001b[K;\n",
      "      |   \u001b[01;35m\u001b[K~~~~~^~~~~~~~~~~~~~~~~~~~~~~~~~~~~~\u001b[m\u001b[K\n",
      "\u001b[01m\u001b[Kmain.cpp:1067:9:\u001b[m\u001b[K \u001b[01;35m\u001b[Kwarning: \u001b[m\u001b[Kignoring return value of ‘\u001b[01m\u001b[Kint scanf(const char*, ...)\u001b[m\u001b[K’, declared with attribute warn_unused_result [\u001b[01;35m\u001b[K-Wunused-result\u001b[m\u001b[K]\n",
      " 1067 |    \u001b[01;35m\u001b[Kscanf(\"%hhd %hhd %hd %hd %hd\", &R[i], &C[i], &S[i], &E[i], &V[i])\u001b[m\u001b[K;\n",
      "      |    \u001b[01;35m\u001b[K~~~~~^~~~~~~~~~~~~~~~~~~~~~~~~~~~~~~~~~~~~~~~~~~~~~~~~~~~~~~~~~~~\u001b[m\u001b[K\n"
     ]
    }
   ],
   "source": [
    "#!g++ {FILENAME} -std=gnu++17 -Wall -Wextra -O2 -DONLINE_JUDGE -o {FILENAME}.out\n",
    "!g++ {FILENAME} -std=gnu++17 -Wall -Wextra -O2 -o {FILENAME}.out"
   ]
  },
  {
   "cell_type": "code",
   "execution_count": 5,
   "id": "794792f3",
   "metadata": {
    "scrolled": true
   },
   "outputs": [
    {
     "name": "stdout",
     "output_type": "stream",
     "text": [
      "0000.txt  0025.txt  0050.txt  0075.txt\t0100.txt  0125.txt  0150.txt  0175.txt\r\n",
      "0001.txt  0026.txt  0051.txt  0076.txt\t0101.txt  0126.txt  0151.txt  0176.txt\r\n",
      "0002.txt  0027.txt  0052.txt  0077.txt\t0102.txt  0127.txt  0152.txt  0177.txt\r\n",
      "0003.txt  0028.txt  0053.txt  0078.txt\t0103.txt  0128.txt  0153.txt  0178.txt\r\n",
      "0004.txt  0029.txt  0054.txt  0079.txt\t0104.txt  0129.txt  0154.txt  0179.txt\r\n",
      "0005.txt  0030.txt  0055.txt  0080.txt\t0105.txt  0130.txt  0155.txt  0180.txt\r\n",
      "0006.txt  0031.txt  0056.txt  0081.txt\t0106.txt  0131.txt  0156.txt  0181.txt\r\n",
      "0007.txt  0032.txt  0057.txt  0082.txt\t0107.txt  0132.txt  0157.txt  0182.txt\r\n",
      "0008.txt  0033.txt  0058.txt  0083.txt\t0108.txt  0133.txt  0158.txt  0183.txt\r\n",
      "0009.txt  0034.txt  0059.txt  0084.txt\t0109.txt  0134.txt  0159.txt  0184.txt\r\n",
      "0010.txt  0035.txt  0060.txt  0085.txt\t0110.txt  0135.txt  0160.txt  0185.txt\r\n",
      "0011.txt  0036.txt  0061.txt  0086.txt\t0111.txt  0136.txt  0161.txt  0186.txt\r\n",
      "0012.txt  0037.txt  0062.txt  0087.txt\t0112.txt  0137.txt  0162.txt  0187.txt\r\n",
      "0013.txt  0038.txt  0063.txt  0088.txt\t0113.txt  0138.txt  0163.txt  0188.txt\r\n",
      "0014.txt  0039.txt  0064.txt  0089.txt\t0114.txt  0139.txt  0164.txt  0189.txt\r\n",
      "0015.txt  0040.txt  0065.txt  0090.txt\t0115.txt  0140.txt  0165.txt  0190.txt\r\n",
      "0016.txt  0041.txt  0066.txt  0091.txt\t0116.txt  0141.txt  0166.txt  0191.txt\r\n",
      "0017.txt  0042.txt  0067.txt  0092.txt\t0117.txt  0142.txt  0167.txt  0192.txt\r\n",
      "0018.txt  0043.txt  0068.txt  0093.txt\t0118.txt  0143.txt  0168.txt  0193.txt\r\n",
      "0019.txt  0044.txt  0069.txt  0094.txt\t0119.txt  0144.txt  0169.txt  0194.txt\r\n",
      "0020.txt  0045.txt  0070.txt  0095.txt\t0120.txt  0145.txt  0170.txt  0195.txt\r\n",
      "0021.txt  0046.txt  0071.txt  0096.txt\t0121.txt  0146.txt  0171.txt  0196.txt\r\n",
      "0022.txt  0047.txt  0072.txt  0097.txt\t0122.txt  0147.txt  0172.txt  0197.txt\r\n",
      "0023.txt  0048.txt  0073.txt  0098.txt\t0123.txt  0148.txt  0173.txt  0198.txt\r\n",
      "0024.txt  0049.txt  0074.txt  0099.txt\t0124.txt  0149.txt  0174.txt  0199.txt\r\n"
     ]
    }
   ],
   "source": [
    "# テストケース生成\n",
    "SEED = 1000\n",
    "N_TESTCASES = 200\n",
    "\n",
    "!mkdir in\n",
    "for i in range(N_TESTCASES):\n",
    "    filename = f\"{i:04d}.txt\"\n",
    "    seed = SEED + i\n",
    "    !python3 ../A/tester/generator.py {seed} > ./in/{filename}\n",
    "!ls in"
   ]
  },
  {
   "cell_type": "code",
   "execution_count": 6,
   "id": "bbc6e9ab",
   "metadata": {},
   "outputs": [],
   "source": [
    "TESTCASE_DIRECTORY = \"./in/\"\n",
    "TESTCASES = [f\"{i:04d}.txt\" for i in range(N_TESTCASES)]"
   ]
  },
  {
   "cell_type": "code",
   "execution_count": 7,
   "id": "7fe325e9",
   "metadata": {
    "scrolled": true
   },
   "outputs": [
    {
     "name": "stdout",
     "output_type": "stream",
     "text": [
      "0000 time:4.0810 score:4021849\n",
      "0013 time:4.2074 score:4236061\n",
      "0026 time:4.4367 score:4240354\n",
      "0039 time:4.4582 score:4440343\n",
      "0014 time:3.8974 score:4529761\n",
      "0040 time:3.7418 score:4075007\n",
      "0001 time:4.2140 score:4424520\n",
      "0027 time:3.8194 score:4788344\n",
      "0028 time:3.9868 score:3845977\n",
      "0041 time:4.1561 score:3678679\n",
      "0002 time:4.0942 score:3960207\n",
      "0015 time:4.4607 score:4910267\n",
      "0016 time:3.7370 score:3446319\n",
      "0042 time:4.3260 score:4441640\n",
      "0029 time:4.4634 score:4337737\n",
      "0003 time:4.3642 score:3923406\n",
      "0017 time:4.1122 score:3759289\n",
      "0004 time:4.2057 score:3876572\n",
      "0043 time:4.3936 score:4157505\n",
      "0030 time:4.8434 score:4156257\n",
      "0018 time:4.1380 score:4128131\n",
      "0005 time:4.4750 score:4279093\n",
      "0031 time:3.8687 score:3912348\n",
      "0044 time:4.4689 score:4539701\n",
      "0019 time:3.9712 score:3809914\n",
      "0045 time:3.3007 score:4024205\n",
      "0006 time:3.7090 score:4278894\n",
      "0032 time:3.6751 score:4800674\n",
      "0020 time:3.7251 score:4080092\n",
      "0007 time:3.6478 score:4496654\n",
      "0033 time:3.6865 score:3382367\n",
      "0046 time:4.3369 score:4163718\n",
      "0021 time:3.7460 score:4385711\n",
      "0008 time:4.0000 score:4707032\n",
      "0047 time:3.5703 0034score:4281904\n",
      " time:3.9075 score:4650649\n",
      "0022 time:3.5238 score:3611024\n",
      "0048 time:3.9825 score:3880054\n",
      "0035 time:3.9992 score:3936754\n",
      "0009 time:4.2795 score:4285894\n",
      "0023 time:4.1304 score:4136314\n",
      "0049 time:3.5843 score:3853254\n",
      "0010 time:4.1231 score:3838662\n",
      "0036 time:4.2776 score:5137274\n",
      "0024 time:3.5799 score:4230559\n",
      "0050 time:3.1965 score:3898601\n",
      "0011 time:3.7590 score:4385050\n",
      "0037 time:3.8518 score:3936899\n",
      "0025 time:3.5797 score:4023223\n",
      "0051 time:3.8631 score:4115005\n",
      "0012time:3.3211  score:3901400\n",
      "0038 time:3.4974 score:4619425\n",
      "0052 time:3.7225 score:4041912\n",
      "0065 time:3.7527 score:3740377\n",
      "0078 time:3.6779 score:4256357\n",
      "0091 time:3.4218 score:4201218\n",
      "0053 time:3.6839 score:4266475\n",
      "0066 time:3.2480 score:4218284\n",
      "0079 time:3.4356 score:4141387\n",
      "0092 time:3.3983 score:4894956\n",
      "0054 time:3.5633 score:4068674\n",
      "0067 time:3.5653 score:4256900\n",
      "0080 time:3.3704 score:3829664\n",
      "0093 time:3.7028 score:4005561\n",
      "0068 time:3.5118 score:4169902\n",
      "0055 time:3.9362 score:4129023\n",
      "0081 time:3.2853 score:4468435\n",
      "0094 time:3.6543 score:3513481\n",
      "0069 time:3.3248 score:3585394\n",
      "0056 time:4.0462 score:3844388\n",
      "0082 time:3.9733 score:4184181\n",
      "0095 time:4.3089 score:4741061\n",
      "0070 time:3.8706 score:4385092\n",
      "0057time:4.3315  score:4007696\n",
      "0083 time:4.5348 score:4433969\n",
      "0096 time:4.2157 score:3916922\n",
      "0071 time:3.6875 score:3738153\n",
      "0058 time:4.5020 score:3978046\n",
      "0097 time:3.4850 score:4017373\n",
      "0084 time:4.3833 score:3750737\n",
      "0072 time:3.8339 score:4181824\n",
      "0059 time:3.3391 score:4069322\n",
      "0085 time:3.6310 score:3860545\n",
      "0098 time:3.9814 score:3909396\n",
      "0073 time:3.9932 score:4663032\n",
      "0060 time:3.8845 score:3980084\n",
      "0099 time:3.5169 score:3978795\n",
      "0086 time:4.1764 score:4722779\n",
      "0074 time:3.5597 score:4189813\n",
      "0061 time:3.0798 score:3713298\n",
      "0100 time:3.4695 score:3929352\n",
      "0087 time:4.1243 score:4101517\n",
      "0075 time:3.9917 score:3620141\n",
      "0062 time:3.2620 score:3941658\n",
      "0101 time:3.8003 score:4505407\n",
      "0088 time:3.6727 score:4240178\n",
      "0076time:4.0518  score:3795556\n",
      "0063 time:4.4106 score:3743320\n",
      "0102 time:3.7316 score:3881346\n",
      "0089 time:3.9064 score:3747575\n",
      "0077 time:3.5770 score:4124945\n",
      "0064 time:4.0686 score:3426379\n",
      "0103 time:4.1916 score:4166641\n",
      "0090 time:3.8982 score:4411237\n",
      "0104 time:3.8338 score:3940747\n",
      "0117 time:3.7182 score:4544869\n",
      "0130 time:3.3431 score:3789065\n",
      "0143time:3.9399  score:4346725\n",
      "0105 time:3.5457 score:4163494\n",
      "0118 time:3.4154 score:4316538\n",
      "0131 time:3.4873 score:4601364\n",
      "0144 time:3.4059 score:3900489\n",
      "0106 time:2.9478 score:3767369\n",
      "0119 time:3.6451 score:4230659\n",
      "0132 time:3.3281 score:4180217\n",
      "0145 time:3.4315 score:4612012\n",
      "0107 time:3.4629 score:4204096\n",
      "0120 time:3.6639 score:4734148\n",
      "0133 time:3.8265 score:4011245\n",
      "0108 time:3.4845 score:4063613\n",
      "0146 time:3.7361 score:3942681\n",
      "0121 time:3.1477 score:4264663\n",
      "0134 time:3.7272 score:4306256\n",
      "0109 time:3.5954 score:4009545\n",
      "0147 time:3.6074 score:4311526\n",
      "0122 time:3.5175 score:4682793\n",
      "0135 time:3.1387 score:3845230\n",
      "0110 time:3.3041 score:4046192\n",
      "0148 time:3.4689 score:4383095\n",
      "0123 time:3.7190 score:4485003\n",
      "0136 time:3.4663 score:4764592\n",
      "0111 time:4.0682 score:4690314\n",
      "0149 time:3.9999 score:4275194\n",
      "0124 time:3.8225 score:4876037\n",
      "0137 time:3.9634 score:4370708\n",
      "0112 time:3.6872 score:3534937\n",
      "0150 time:3.8490 score:3961353\n",
      "0138 time:3.1031 score:3966877\n",
      "0125 time:3.6358 score:4097781\n",
      "0113 time:3.6571 score:4547839\n",
      "0151 time:3.4138 score:3473322\n",
      "0139 time:3.5600 score:4256354\n",
      "0126 time:3.9824 score:4966204\n",
      "0114 time:3.7233 score:4089951\n",
      "0152 time:3.8080 score:4087732\n",
      "0140 time:3.8510 score:3789665\n",
      "0127 time:4.0113 score:4388207\n",
      "0115 time:3.7196 score:4370559\n",
      "0153 time:3.7543 score:4126579\n",
      "0141 time:3.2828 score:4512654\n",
      "0128 time:3.7980 score:4262191\n",
      "0154 time:3.2329 score:3874006\n",
      "0116time:3.6007  score:4334936\n",
      "0142 time:3.3777 score:3376544\n",
      "0129 time:3.9763 score:4663075\n",
      "0156 time:3.1955 score:4191669\n",
      "0155 time:3.6692 score:4301757\n",
      "0169 time:4.0714 score:4559039\n",
      "0182 time:3.7513 score:4350447\n",
      "0195 time:3.8823 score:3739468\n",
      "0157 time:4.3041 score:4339152\n",
      "0170 time:3.7059 score:4560532\n",
      "0183 time:3.4876 score:4016643\n",
      "0158 time:4.2292 score:4149005\n",
      "0196 time:4.3987 score:4026325\n",
      "0171 time:4.0899 score:4591438\n",
      "0184 time:3.8783 score:4042687\n",
      "0159 time:3.3764 score:3237355\n",
      "0197 time:3.9423 score:3629986\n",
      "0172 time:3.5542 score:4027513\n",
      "0185 time:3.5005 score:4427893\n",
      "0160 time:3.3759 score:4800212\n",
      "0198 time:3.4462 score:4621742\n",
      "0173 time:3.6520 score:4126906\n",
      "0186 time:3.3250 score:3853353\n",
      "0161time:3.5390  score:4641116\n",
      "0199 time:3.4036 score:4594380\n",
      "0174 time:3.4265 score:4023375\n",
      "0187 time:3.0772 score:4481898\n",
      "0162 time:3.3640 score:3930720\n",
      "0175 time:2.3629 score:4614534\n",
      "0188 time:3.7574 score:4518859\n",
      "0163 time:2.3895 score:4134657\n",
      "0176 time:3.6416 score:4344303\n",
      "0189 time:2.4238 score:4186693\n",
      "0164 time:2.9216 score:4184374\n",
      "0177 time:2.1375 score:4154478\n",
      "0190 time:2.8733 score:3958945\n",
      "0165 time:3.1363 score:4360142\n",
      "0178 time:3.1081 score:4232454\n",
      "0166 time:2.3544 score:3550834\n",
      "0191 time:3.6524 score:3677502\n",
      "0179 time:3.2411 score:3895334\n",
      "0192 time:2.6660 score:4283559\n",
      "0167 time:2.8541 score:4072812\n",
      "0180 time:2.6570 score:4366322\n",
      "0193 time:2.9296 score:4173541\n",
      "0168 time:3.0749 score:3857181\n",
      "0181 time:2.7315 score:4346248\n",
      "0194 time:2.3320 score:3573009\n"
     ]
    },
    {
     "data": {
      "text/plain": [
       "(207.935492, 17.186538030122183)"
      ]
     },
     "execution_count": 7,
     "metadata": {},
     "output_type": "execute_result"
    }
   ],
   "source": [
    "# もとのスコアの確認\n",
    "\n",
    "scores = []\n",
    "times = []\n",
    "\n",
    "!mkdir out\n",
    "\n",
    "def parallel(i):\n",
    "    testcase = TESTCASES[i]\n",
    "    i = f\"{i:04d}\"\n",
    "    t0 = time()\n",
    "    !./{FILENAME}.out < {TESTCASE_DIRECTORY}{testcase} > ./out/{testcase} 2> /dev/null\n",
    "    t = time() - t0\n",
    "    score = !python3 ../A/tester/judge.py {TESTCASE_DIRECTORY}{testcase} ./out/{testcase}\n",
    "    print(i, f\"time:{t:.4f}\", *score)\n",
    "    score = int(score[0].split(\":\")[-1])\n",
    "    return score, t\n",
    "\n",
    "with Pool(4) as p:\n",
    "    for score, t in p.map(parallel, range(N_TESTCASES)):\n",
    "        scores.append(score)\n",
    "        times.append(t)\n",
    "\n",
    "np.mean(scores) * 50 / 1e6, np.std(scores) * 50 / 1e6"
   ]
  },
  {
   "cell_type": "code",
   "execution_count": 8,
   "id": "4484cf34",
   "metadata": {},
   "outputs": [
    {
     "data": {
      "image/png": "[encoded data removed]",
      "text/plain": [
       "<Figure size 432x288 with 1 Axes>"
      ]
     },
     "metadata": {
      "needs_background": "light"
     },
     "output_type": "display_data"
    }
   ],
   "source": [
    "plt.hist(scores, bins=20)\n",
    "plt.show()"
   ]
  },
  {
   "cell_type": "code",
   "execution_count": 9,
   "id": "38d2b130",
   "metadata": {},
   "outputs": [
    {
     "name": "stdout",
     "output_type": "stream",
     "text": [
      "4 variables were found.\n"
     ]
    },
    {
     "data": {
      "text/html": [
       "<div>\n",
       "<style scoped>\n",
       "    .dataframe tbody tr th:only-of-type {\n",
       "        vertical-align: middle;\n",
       "    }\n",
       "\n",
       "    .dataframe tbody tr th {\n",
       "        vertical-align: top;\n",
       "    }\n",
       "\n",
       "    .dataframe thead th {\n",
       "        text-align: right;\n",
       "    }\n",
       "</style>\n",
       "<table border=\"1\" class=\"dataframe\">\n",
       "  <thead>\n",
       "    <tr style=\"text-align: right;\">\n",
       "      <th></th>\n",
       "      <th>name</th>\n",
       "      <th>method</th>\n",
       "      <th>min</th>\n",
       "      <th>max</th>\n",
       "      <th>log</th>\n",
       "      <th>left</th>\n",
       "      <th>right</th>\n",
       "    </tr>\n",
       "  </thead>\n",
       "  <tbody>\n",
       "    <tr>\n",
       "      <th>0</th>\n",
       "      <td>K_START</td>\n",
       "      <td>suggest_float</td>\n",
       "      <td>0.020</td>\n",
       "      <td>0.100</td>\n",
       "      <td>True</td>\n",
       "      <td>constexpr double K_START =</td>\n",
       "      <td>;            // OPTIMIZE [0.02, 0.10] LOG</td>\n",
       "    </tr>\n",
       "    <tr>\n",
       "      <th>1</th>\n",
       "      <td>K_END</td>\n",
       "      <td>suggest_float</td>\n",
       "      <td>0.005</td>\n",
       "      <td>0.040</td>\n",
       "      <td>True</td>\n",
       "      <td>constexpr double K_END =</td>\n",
       "      <td>;              // OPTIMIZE [0.005, 0.04] LOG</td>\n",
       "    </tr>\n",
       "    <tr>\n",
       "      <th>2</th>\n",
       "      <td>K_H</td>\n",
       "      <td>suggest_float</td>\n",
       "      <td>0.001</td>\n",
       "      <td>0.999</td>\n",
       "      <td>False</td>\n",
       "      <td>constexpr double K_H =</td>\n",
       "      <td>;                 // OPTIMIZE [0.001, 0.999]</td>\n",
       "    </tr>\n",
       "    <tr>\n",
       "      <th>3</th>\n",
       "      <td>PURCHASE_TURN_LIMIT</td>\n",
       "      <td>suggest_int</td>\n",
       "      <td>750.000</td>\n",
       "      <td>900.000</td>\n",
       "      <td>False</td>\n",
       "      <td>constexpr short PURCHASE_TURN_LIMIT =</td>\n",
       "      <td>;  // OPTIMIZE [750, 900]</td>\n",
       "    </tr>\n",
       "  </tbody>\n",
       "</table>\n",
       "</div>"
      ],
      "text/plain": [
       "                  name         method      min      max    log  \\\n",
       "0              K_START  suggest_float    0.020    0.100   True   \n",
       "1                K_END  suggest_float    0.005    0.040   True   \n",
       "2                  K_H  suggest_float    0.001    0.999  False   \n",
       "3  PURCHASE_TURN_LIMIT    suggest_int  750.000  900.000  False   \n",
       "\n",
       "                                     left  \\\n",
       "0             constexpr double K_START =    \n",
       "1               constexpr double K_END =    \n",
       "2                 constexpr double K_H =    \n",
       "3  constexpr short PURCHASE_TURN_LIMIT =    \n",
       "\n",
       "                                          right  \n",
       "0     ;            // OPTIMIZE [0.02, 0.10] LOG  \n",
       "1  ;              // OPTIMIZE [0.005, 0.04] LOG  \n",
       "2  ;                 // OPTIMIZE [0.001, 0.999]  \n",
       "3                     ;  // OPTIMIZE [750, 900]  "
      ]
     },
     "metadata": {},
     "output_type": "display_data"
    }
   ],
   "source": [
    "# ここでエラー出力は何かおかしいかもしれない\n",
    "\n",
    "\n",
    "# パラメータ抽出\n",
    "with open(FILENAME) as f:\n",
    "    answer = f.read()\n",
    "\n",
    "\n",
    "variables_optimize = []\n",
    "\n",
    "for left, value, right, options in re.findall(r\"^([^/\\n]*=\\s*)(.+?)(\\s*;\\s*//(?:.*\\W)?OPTIMIZE(\\W.*))$\", answer, re.MULTILINE):\n",
    "    name = left.replace(\"=\", \"\").strip().split()[-1]\n",
    "    \n",
    "    searched = re.search(r\".*\\[(?P<min>.*),(?P<max>.*)\\].*\", options)\n",
    "    if searched:\n",
    "        min_value = max_value = None\n",
    "        try:\n",
    "            min_value = eval(searched.group(\"min\"))\n",
    "            max_value = eval(searched.group(\"max\"))\n",
    "            assert min_value <= max_value\n",
    "        except Exception as e:\n",
    "            print(f\"searched={searched}\", file=sys.stderr)\n",
    "            print(e, file=sys.stderr)\n",
    "            continue\n",
    "        log = \"LOG\" in options  # 雑、直したほうが良い\n",
    "        if type(min_value) != type(max_value):\n",
    "            print(f\"searched={searched}\", file=sys.stderr)\n",
    "            print(\"types not matched\", file=sys.stderr)\n",
    "            continue\n",
    "        if isinstance(min_value, int):\n",
    "            method = \"suggest_int\"\n",
    "        elif isinstance(min_value, float):\n",
    "            method = \"suggest_float\"\n",
    "        else:\n",
    "            print(f\"searched={searched}\", file=sys.stderr)\n",
    "            print(f\"unknown type ({type(min_value)})\", file=sys.stderr)\n",
    "            continue\n",
    "        variables_optimize.append({\n",
    "            \"name\": name,\n",
    "            \"method\": method,\n",
    "            \"min\": min_value,\n",
    "            \"max\": max_value,\n",
    "            \"log\": log,\n",
    "            \"left\": left,\n",
    "            \"right\": right,\n",
    "        })\n",
    "    elif searched := re.search(r\".*\\{(?P<choices>.*?)\\}.*\", options):\n",
    "        choices = list(map(lambda x: x.strip(), searched.group(\"choices\").split(\",\")))\n",
    "        variables_optimize.append({\n",
    "            \"name\": name,\n",
    "            \"method\": \"suggest_categorical\",\n",
    "            \"choices\": choices,\n",
    "            \"left\": left,\n",
    "            \"right\": right,\n",
    "        })\n",
    "    else:\n",
    "        print(f\"searched={searched}\", file=sys.stderr)\n",
    "        print(f\"pattern was matched but options are incorrect.\", file=sys.stderr)\n",
    "\n",
    "print(len(variables_optimize), \"variables were found.\")\n",
    "if globals().get(\"pd\"):\n",
    "    display(pd.DataFrame(variables_optimize))\n",
    "else:\n",
    "    pprint(variables_optimize)"
   ]
  },
  {
   "cell_type": "code",
   "execution_count": 23,
   "id": "0c8ad754",
   "metadata": {},
   "outputs": [],
   "source": [
    "def escape(string):  # 正規表現の中でそのまま使いたい文字列をエスケープ\n",
    "    res = !echo '{string}' | sed -e 's/[]\\/$*.^[]/\\\\&/g'\n",
    "    return res[0]\n",
    "\n",
    "def escape_sed(string):  # sed の置換後の文字列用のエスケープ\n",
    "    res = !echo '{string}' | sed -e 's/[\\/&]/\\\\&/g'\n",
    "    return res[0]\n",
    "\n",
    "\n",
    "def objective_with_index(trial, n_internal_parallel):\n",
    "    index_parallel = trial.number % 12  # これ変数にする\n",
    "    print(f\"{index_parallel=}\")\n",
    "    \n",
    "    parameters_changed_filename = f\"{index_parallel}_{FILENAME}\"\n",
    "    #directory_input = \"./in\"  # \"/\" をつけない  # 中のすべてのファイルに対して実行される\n",
    "    \n",
    "    !mkdir {index_parallel}_out 2> /dev/null\n",
    "    !mkdir {index_parallel}_score 2> /dev/null\n",
    "    !rm {index_parallel}_out/*\n",
    "    !rm {index_parallel}_score/*\n",
    "    \n",
    "    # ファイル作成\n",
    "    !cp {FILENAME} {parameters_changed_filename}\n",
    "    sed_options = [f\"-i {parameters_changed_filename}\"]\n",
    "    for variable in variables_optimize:\n",
    "        if variable[\"method\"] == \"suggest_categorical\":\n",
    "            val =  trial.suggest_categorical(variable[\"name\"], variable[\"choices\"])\n",
    "        else:\n",
    "            val = getattr(trial, variable[\"method\"])(variable[\"name\"], variable[\"min\"], variable[\"max\"], log=variable[\"log\"])\n",
    "        left = variable[\"left\"]\n",
    "        right = variable[\"right\"]\n",
    "        sed_options.append(f\"\"\"-e 's/^{escape(left)}.*{escape(right)}$/{escape_sed(left)}{val}{escape_sed(right)}/'\"\"\")\n",
    "    command_sed = f\"sed {' '.join(sed_options)}\"\n",
    "    print(command_sed)\n",
    "    !{command_sed}\n",
    "    \n",
    "    # コンパイル\n",
    "    command_compile = f\"g++ {parameters_changed_filename} -std=gnu++17 -O2 -DONLINE_JUDGE -o {parameters_changed_filename}.out 2> /dev/null\"\n",
    "    print(command_compile)\n",
    "    !{command_compile}\n",
    "    \n",
    "    # 実行・採点コマンド (@ はファイル名)\n",
    "    command_exec = (\n",
    "        f\"./{parameters_changed_filename}.out < {TESTCASE_DIRECTORY}@ >./{index_parallel}_out/@ 2> /dev/null;\"\n",
    "        f\"python3 ../A/tester/judge.py {TESTCASE_DIRECTORY}@ ./{index_parallel}_out/@ > ./{index_parallel}_score/@\"\n",
    "        \n",
    "        #f\"cargo run --release --manifest-path ../tools/Cargo.toml --bin tester {directory_input}/@ $(pwd)/{parameters_changed_filename}.out 2>&1 | grep Score | sed -E s/[^0-9]+// > ./{index_parallel}_score/@;\"\n",
    "        \n",
    "        #f\"./{parameters_changed_filename}.out < {directory_input}/@ > ./{index_parallel}_out/@;\"\n",
    "        #f\"cargo run --release --manifest-path ./tools/Cargo.toml --bin vis {directory_input}/@ ./{index_parallel}_out/@ 2> /dev/null > ./{index_parallel}_score/@;\"\n",
    "    )\n",
    "    \n",
    "    # 並列実行 (sed はパスのディレクトリ部分を消してファイル名にしてる)\n",
    "    !find {TESTCASE_DIRECTORY}/* | sed 's!^.*/!!' | xargs -I@ -P {n_internal_parallel} sh -c '{command_exec}'\n",
    "    \n",
    "    # 集計\n",
    "    file_paths = !find ./{index_parallel}_score/*\n",
    "    sum_score = 0\n",
    "    for file_path in file_paths:  \n",
    "        with open(file_path) as f:\n",
    "            sum_score += int(f.read().split(\":\")[-1])\n",
    "    return sum_score"
   ]
  },
  {
   "cell_type": "code",
   "execution_count": 24,
   "id": "52e079ab",
   "metadata": {},
   "outputs": [
    {
     "name": "stderr",
     "output_type": "stream",
     "text": [
      "\u001b[32m[I 2021-09-09 17:08:26,316]\u001b[0m A new study created in RDB with name: study\u001b[0m\n"
     ]
    },
    {
     "name": "stdout",
     "output_type": "stream",
     "text": [
      "index_parallel=0\n",
      "rm: cannot remove '0_out/*': No such file or directory\n",
      "rm: cannot remove '0_score/*': No such file or directory\n",
      "sed -i 0_main.cpp -e 's/^constexpr double K_START = .*;            \\/\\/ OPTIMIZE \\[0\\.02, 0\\.10\\] LOG$/constexpr double K_START = 0.032177631716066;            \\/\\/ OPTIMIZE [0.02, 0.10] LOG/' -e 's/^constexpr double K_END = .*;              \\/\\/ OPTIMIZE \\[0\\.005, 0\\.04\\] LOG$/constexpr double K_END = 0.02302686853859753;              \\/\\/ OPTIMIZE [0.005, 0.04] LOG/' -e 's/^constexpr double K_H = .*;                 \\/\\/ OPTIMIZE \\[0\\.001, 0\\.999\\]$/constexpr double K_H = 0.287423466823711;                 \\/\\/ OPTIMIZE [0.001, 0.999]/' -e 's/^constexpr short PURCHASE_TURN_LIMIT = .*;  \\/\\/ OPTIMIZE \\[750, 900\\]$/constexpr short PURCHASE_TURN_LIMIT = 867;  \\/\\/ OPTIMIZE [750, 900]/'\n",
      "g++ 0_main.cpp -std=gnu++17 -O2 -DONLINE_JUDGE -o 0_main.cpp.out 2> /dev/null\n"
     ]
    },
    {
     "name": "stderr",
     "output_type": "stream",
     "text": [
      "\u001b[32m[I 2021-09-09 17:11:56,584]\u001b[0m Trial 0 finished with value: 800340513.0 and parameters: {'K_START': 0.032177631716066, 'K_END': 0.02302686853859753, 'K_H': 0.287423466823711, 'PURCHASE_TURN_LIMIT': 867}. Best is trial 0 with value: 800340513.0.\u001b[0m\n"
     ]
    },
    {
     "name": "stdout",
     "output_type": "stream",
     "text": [
      "Updated! 800340513.0\n",
      "callback ok\n",
      "index_parallel=1\n",
      "rm: cannot remove '1_out/*': No such file or directory\n",
      "rm: cannot remove '1_score/*': No such file or directory\n",
      "sed -i 1_main.cpp -e 's/^constexpr double K_START = .*;            \\/\\/ OPTIMIZE \\[0\\.02, 0\\.10\\] LOG$/constexpr double K_START = 0.03082165417956218;            \\/\\/ OPTIMIZE [0.02, 0.10] LOG/' -e 's/^constexpr double K_END = .*;              \\/\\/ OPTIMIZE \\[0\\.005, 0\\.04\\] LOG$/constexpr double K_END = 0.023767711155634186;              \\/\\/ OPTIMIZE [0.005, 0.04] LOG/' -e 's/^constexpr double K_H = .*;                 \\/\\/ OPTIMIZE \\[0\\.001, 0\\.999\\]$/constexpr double K_H = 0.05539430109778125;                 \\/\\/ OPTIMIZE [0.001, 0.999]/' -e 's/^constexpr short PURCHASE_TURN_LIMIT = .*;  \\/\\/ OPTIMIZE \\[750, 900\\]$/constexpr short PURCHASE_TURN_LIMIT = 776;  \\/\\/ OPTIMIZE [750, 900]/'\n",
      "g++ 1_main.cpp -std=gnu++17 -O2 -DONLINE_JUDGE -o 1_main.cpp.out 2> /dev/null\n"
     ]
    },
    {
     "name": "stderr",
     "output_type": "stream",
     "text": [
      "\u001b[32m[I 2021-09-09 17:15:07,743]\u001b[0m Trial 1 finished with value: 780256858.0 and parameters: {'K_START': 0.03082165417956218, 'K_END': 0.023767711155634186, 'K_H': 0.05539430109778125, 'PURCHASE_TURN_LIMIT': 776}. Best is trial 0 with value: 800340513.0.\u001b[0m\n"
     ]
    },
    {
     "name": "stdout",
     "output_type": "stream",
     "text": [
      "callback ok\n",
      "index_parallel=2\n",
      "rm: cannot remove '2_out/*': No such file or directory\n",
      "rm: cannot remove '2_score/*': No such file or directory\n",
      "sed -i 2_main.cpp -e 's/^constexpr double K_START = .*;            \\/\\/ OPTIMIZE \\[0\\.02, 0\\.10\\] LOG$/constexpr double K_START = 0.051604914635049404;            \\/\\/ OPTIMIZE [0.02, 0.10] LOG/' -e 's/^constexpr double K_END = .*;              \\/\\/ OPTIMIZE \\[0\\.005, 0\\.04\\] LOG$/constexpr double K_END = 0.018248817284584638;              \\/\\/ OPTIMIZE [0.005, 0.04] LOG/' -e 's/^constexpr double K_H = .*;                 \\/\\/ OPTIMIZE \\[0\\.001, 0\\.999\\]$/constexpr double K_H = 0.3807211196569649;                 \\/\\/ OPTIMIZE [0.001, 0.999]/' -e 's/^constexpr short PURCHASE_TURN_LIMIT = .*;  \\/\\/ OPTIMIZE \\[750, 900\\]$/constexpr short PURCHASE_TURN_LIMIT = 845;  \\/\\/ OPTIMIZE [750, 900]/'\n",
      "g++ 2_main.cpp -std=gnu++17 -O2 -DONLINE_JUDGE -o 2_main.cpp.out 2> /dev/null\n"
     ]
    },
    {
     "name": "stderr",
     "output_type": "stream",
     "text": [
      "\u001b[32m[I 2021-09-09 17:18:33,756]\u001b[0m Trial 2 finished with value: 813674925.0 and parameters: {'K_START': 0.051604914635049404, 'K_END': 0.018248817284584638, 'K_H': 0.3807211196569649, 'PURCHASE_TURN_LIMIT': 845}. Best is trial 2 with value: 813674925.0.\u001b[0m\n"
     ]
    },
    {
     "name": "stdout",
     "output_type": "stream",
     "text": [
      "Updated! 813674925.0\n",
      "callback ok\n",
      "index_parallel=3\n",
      "rm: cannot remove '3_out/*': No such file or directory\n",
      "rm: cannot remove '3_score/*': No such file or directory\n",
      "sed -i 3_main.cpp -e 's/^constexpr double K_START = .*;            \\/\\/ OPTIMIZE \\[0\\.02, 0\\.10\\] LOG$/constexpr double K_START = 0.022689917321407578;            \\/\\/ OPTIMIZE [0.02, 0.10] LOG/' -e 's/^constexpr double K_END = .*;              \\/\\/ OPTIMIZE \\[0\\.005, 0\\.04\\] LOG$/constexpr double K_END = 0.010232544224343068;              \\/\\/ OPTIMIZE [0.005, 0.04] LOG/' -e 's/^constexpr double K_H = .*;                 \\/\\/ OPTIMIZE \\[0\\.001, 0\\.999\\]$/constexpr double K_H = 0.7370462090299498;                 \\/\\/ OPTIMIZE [0.001, 0.999]/' -e 's/^constexpr short PURCHASE_TURN_LIMIT = .*;  \\/\\/ OPTIMIZE \\[750, 900\\]$/constexpr short PURCHASE_TURN_LIMIT = 877;  \\/\\/ OPTIMIZE [750, 900]/'\n",
      "g++ 3_main.cpp -std=gnu++17 -O2 -DONLINE_JUDGE -o 3_main.cpp.out 2> /dev/null\n"
     ]
    },
    {
     "name": "stderr",
     "output_type": "stream",
     "text": [
      "\u001b[32m[I 2021-09-09 17:21:49,456]\u001b[0m Trial 3 finished with value: 713540896.0 and parameters: {'K_START': 0.022689917321407578, 'K_END': 0.010232544224343068, 'K_H': 0.7370462090299498, 'PURCHASE_TURN_LIMIT': 877}. Best is trial 2 with value: 813674925.0.\u001b[0m\n"
     ]
    },
    {
     "name": "stdout",
     "output_type": "stream",
     "text": [
      "callback ok\n",
      "index_parallel=4\n",
      "rm: cannot remove '4_out/*': No such file or directory\n",
      "rm: cannot remove '4_score/*': No such file or directory\n",
      "sed -i 4_main.cpp -e 's/^constexpr double K_START = .*;            \\/\\/ OPTIMIZE \\[0\\.02, 0\\.10\\] LOG$/constexpr double K_START = 0.03442350165152188;            \\/\\/ OPTIMIZE [0.02, 0.10] LOG/' -e 's/^constexpr double K_END = .*;              \\/\\/ OPTIMIZE \\[0\\.005, 0\\.04\\] LOG$/constexpr double K_END = 0.006225512482657232;              \\/\\/ OPTIMIZE [0.005, 0.04] LOG/' -e 's/^constexpr double K_H = .*;                 \\/\\/ OPTIMIZE \\[0\\.001, 0\\.999\\]$/constexpr double K_H = 0.9151258734646224;                 \\/\\/ OPTIMIZE [0.001, 0.999]/' -e 's/^constexpr short PURCHASE_TURN_LIMIT = .*;  \\/\\/ OPTIMIZE \\[750, 900\\]$/constexpr short PURCHASE_TURN_LIMIT = 805;  \\/\\/ OPTIMIZE [750, 900]/'\n",
      "g++ 4_main.cpp -std=gnu++17 -O2 -DONLINE_JUDGE -o 4_main.cpp.out 2> /dev/null\n"
     ]
    },
    {
     "name": "stderr",
     "output_type": "stream",
     "text": [
      "\u001b[32m[I 2021-09-09 17:24:44,401]\u001b[0m Trial 4 finished with value: 617574983.0 and parameters: {'K_START': 0.03442350165152188, 'K_END': 0.006225512482657232, 'K_H': 0.9151258734646224, 'PURCHASE_TURN_LIMIT': 805}. Best is trial 2 with value: 813674925.0.\u001b[0m\n"
     ]
    },
    {
     "name": "stdout",
     "output_type": "stream",
     "text": [
      "callback ok\n",
      "index_parallel=5\n",
      "rm: cannot remove '5_out/*': No such file or directory\n",
      "rm: cannot remove '5_score/*': No such file or directory\n",
      "sed -i 5_main.cpp -e 's/^constexpr double K_START = .*;            \\/\\/ OPTIMIZE \\[0\\.02, 0\\.10\\] LOG$/constexpr double K_START = 0.07859658858149964;            \\/\\/ OPTIMIZE [0.02, 0.10] LOG/' -e 's/^constexpr double K_END = .*;              \\/\\/ OPTIMIZE \\[0\\.005, 0\\.04\\] LOG$/constexpr double K_END = 0.024752304107930116;              \\/\\/ OPTIMIZE [0.005, 0.04] LOG/' -e 's/^constexpr double K_H = .*;                 \\/\\/ OPTIMIZE \\[0\\.001, 0\\.999\\]$/constexpr double K_H = 0.9226942158679697;                 \\/\\/ OPTIMIZE [0.001, 0.999]/' -e 's/^constexpr short PURCHASE_TURN_LIMIT = .*;  \\/\\/ OPTIMIZE \\[750, 900\\]$/constexpr short PURCHASE_TURN_LIMIT = 837;  \\/\\/ OPTIMIZE [750, 900]/'\n",
      "g++ 5_main.cpp -std=gnu++17 -O2 -DONLINE_JUDGE -o 5_main.cpp.out 2> /dev/null\n"
     ]
    },
    {
     "name": "stderr",
     "output_type": "stream",
     "text": [
      "\u001b[32m[I 2021-09-09 17:28:05,571]\u001b[0m Trial 5 finished with value: 812813787.0 and parameters: {'K_START': 0.07859658858149964, 'K_END': 0.024752304107930116, 'K_H': 0.9226942158679697, 'PURCHASE_TURN_LIMIT': 837}. Best is trial 2 with value: 813674925.0.\u001b[0m\n"
     ]
    },
    {
     "name": "stdout",
     "output_type": "stream",
     "text": [
      "callback ok\n",
      "index_parallel=6\n",
      "rm: cannot remove '6_out/*': No such file or directory\n",
      "rm: cannot remove '6_score/*': No such file or directory\n",
      "sed -i 6_main.cpp -e 's/^constexpr double K_START = .*;            \\/\\/ OPTIMIZE \\[0\\.02, 0\\.10\\] LOG$/constexpr double K_START = 0.0966550768493991;            \\/\\/ OPTIMIZE [0.02, 0.10] LOG/' -e 's/^constexpr double K_END = .*;              \\/\\/ OPTIMIZE \\[0\\.005, 0\\.04\\] LOG$/constexpr double K_END = 0.011389205747358857;              \\/\\/ OPTIMIZE [0.005, 0.04] LOG/' -e 's/^constexpr double K_H = .*;                 \\/\\/ OPTIMIZE \\[0\\.001, 0\\.999\\]$/constexpr double K_H = 0.2577144490193151;                 \\/\\/ OPTIMIZE [0.001, 0.999]/' -e 's/^constexpr short PURCHASE_TURN_LIMIT = .*;  \\/\\/ OPTIMIZE \\[750, 900\\]$/constexpr short PURCHASE_TURN_LIMIT = 818;  \\/\\/ OPTIMIZE [750, 900]/'\n",
      "g++ 6_main.cpp -std=gnu++17 -O2 -DONLINE_JUDGE -o 6_main.cpp.out 2> /dev/null\n"
     ]
    },
    {
     "name": "stderr",
     "output_type": "stream",
     "text": [
      "\u001b[32m[I 2021-09-09 17:30:58,193]\u001b[0m Trial 6 finished with value: 295603403.0 and parameters: {'K_START': 0.0966550768493991, 'K_END': 0.011389205747358857, 'K_H': 0.2577144490193151, 'PURCHASE_TURN_LIMIT': 818}. Best is trial 2 with value: 813674925.0.\u001b[0m\n"
     ]
    },
    {
     "name": "stdout",
     "output_type": "stream",
     "text": [
      "callback ok\n",
      "index_parallel=7\n",
      "rm: cannot remove '7_out/*': No such file or directory\n",
      "rm: cannot remove '7_score/*': No such file or directory\n",
      "sed -i 7_main.cpp -e 's/^constexpr double K_START = .*;            \\/\\/ OPTIMIZE \\[0\\.02, 0\\.10\\] LOG$/constexpr double K_START = 0.029122106180053713;            \\/\\/ OPTIMIZE [0.02, 0.10] LOG/' -e 's/^constexpr double K_END = .*;              \\/\\/ OPTIMIZE \\[0\\.005, 0\\.04\\] LOG$/constexpr double K_END = 0.013688769076881867;              \\/\\/ OPTIMIZE [0.005, 0.04] LOG/' -e 's/^constexpr double K_H = .*;                 \\/\\/ OPTIMIZE \\[0\\.001, 0\\.999\\]$/constexpr double K_H = 0.7497560231676862;                 \\/\\/ OPTIMIZE [0.001, 0.999]/' -e 's/^constexpr short PURCHASE_TURN_LIMIT = .*;  \\/\\/ OPTIMIZE \\[750, 900\\]$/constexpr short PURCHASE_TURN_LIMIT = 811;  \\/\\/ OPTIMIZE [750, 900]/'\n",
      "g++ 7_main.cpp -std=gnu++17 -O2 -DONLINE_JUDGE -o 7_main.cpp.out 2> /dev/null\n"
     ]
    },
    {
     "name": "stderr",
     "output_type": "stream",
     "text": [
      "\u001b[32m[I 2021-09-09 17:34:09,795]\u001b[0m Trial 7 finished with value: 737955313.0 and parameters: {'K_START': 0.029122106180053713, 'K_END': 0.013688769076881867, 'K_H': 0.7497560231676862, 'PURCHASE_TURN_LIMIT': 811}. Best is trial 2 with value: 813674925.0.\u001b[0m\n"
     ]
    },
    {
     "name": "stdout",
     "output_type": "stream",
     "text": [
      "callback ok\n",
      "index_parallel=8\n",
      "rm: cannot remove '8_out/*': No such file or directory\n",
      "rm: cannot remove '8_score/*': No such file or directory\n",
      "sed -i 8_main.cpp -e 's/^constexpr double K_START = .*;            \\/\\/ OPTIMIZE \\[0\\.02, 0\\.10\\] LOG$/constexpr double K_START = 0.04794056271802186;            \\/\\/ OPTIMIZE [0.02, 0.10] LOG/' -e 's/^constexpr double K_END = .*;              \\/\\/ OPTIMIZE \\[0\\.005, 0\\.04\\] LOG$/constexpr double K_END = 0.01605779336655584;              \\/\\/ OPTIMIZE [0.005, 0.04] LOG/' -e 's/^constexpr double K_H = .*;                 \\/\\/ OPTIMIZE \\[0\\.001, 0\\.999\\]$/constexpr double K_H = 0.14719243245485605;                 \\/\\/ OPTIMIZE [0.001, 0.999]/' -e 's/^constexpr short PURCHASE_TURN_LIMIT = .*;  \\/\\/ OPTIMIZE \\[750, 900\\]$/constexpr short PURCHASE_TURN_LIMIT = 770;  \\/\\/ OPTIMIZE [750, 900]/'\n",
      "g++ 8_main.cpp -std=gnu++17 -O2 -DONLINE_JUDGE -o 8_main.cpp.out 2> /dev/null\n"
     ]
    },
    {
     "name": "stderr",
     "output_type": "stream",
     "text": [
      "\u001b[32m[I 2021-09-09 17:37:27,777]\u001b[0m Trial 8 finished with value: 776186866.0 and parameters: {'K_START': 0.04794056271802186, 'K_END': 0.01605779336655584, 'K_H': 0.14719243245485605, 'PURCHASE_TURN_LIMIT': 770}. Best is trial 2 with value: 813674925.0.\u001b[0m\n"
     ]
    },
    {
     "name": "stdout",
     "output_type": "stream",
     "text": [
      "callback ok\n",
      "index_parallel=9\n",
      "rm: cannot remove '9_out/*': No such file or directory\n",
      "rm: cannot remove '9_score/*': No such file or directory\n",
      "sed -i 9_main.cpp -e 's/^constexpr double K_START = .*;            \\/\\/ OPTIMIZE \\[0\\.02, 0\\.10\\] LOG$/constexpr double K_START = 0.041741081348642954;            \\/\\/ OPTIMIZE [0.02, 0.10] LOG/' -e 's/^constexpr double K_END = .*;              \\/\\/ OPTIMIZE \\[0\\.005, 0\\.04\\] LOG$/constexpr double K_END = 0.032954353628760806;              \\/\\/ OPTIMIZE [0.005, 0.04] LOG/' -e 's/^constexpr double K_H = .*;                 \\/\\/ OPTIMIZE \\[0\\.001, 0\\.999\\]$/constexpr double K_H = 0.4300686122729119;                 \\/\\/ OPTIMIZE [0.001, 0.999]/' -e 's/^constexpr short PURCHASE_TURN_LIMIT = .*;  \\/\\/ OPTIMIZE \\[750, 900\\]$/constexpr short PURCHASE_TURN_LIMIT = 883;  \\/\\/ OPTIMIZE [750, 900]/'\n",
      "g++ 9_main.cpp -std=gnu++17 -O2 -DONLINE_JUDGE -o 9_main.cpp.out 2> /dev/null\n"
     ]
    },
    {
     "name": "stderr",
     "output_type": "stream",
     "text": [
      "\u001b[32m[I 2021-09-09 17:41:10,014]\u001b[0m Trial 9 finished with value: 798073435.0 and parameters: {'K_START': 0.041741081348642954, 'K_END': 0.032954353628760806, 'K_H': 0.4300686122729119, 'PURCHASE_TURN_LIMIT': 883}. Best is trial 2 with value: 813674925.0.\u001b[0m\n"
     ]
    },
    {
     "name": "stdout",
     "output_type": "stream",
     "text": [
      "callback ok\n",
      "index_parallel=10\n",
      "rm: cannot remove '10_out/*': No such file or directory\n",
      "rm: cannot remove '10_score/*': No such file or directory\n",
      "sed -i 10_main.cpp -e 's/^constexpr double K_START = .*;            \\/\\/ OPTIMIZE \\[0\\.02, 0\\.10\\] LOG$/constexpr double K_START = 0.059632136283092156;            \\/\\/ OPTIMIZE [0.02, 0.10] LOG/' -e 's/^constexpr double K_END = .*;              \\/\\/ OPTIMIZE \\[0\\.005, 0\\.04\\] LOG$/constexpr double K_END = 0.0054278747289478605;              \\/\\/ OPTIMIZE [0.005, 0.04] LOG/' -e 's/^constexpr double K_H = .*;                 \\/\\/ OPTIMIZE \\[0\\.001, 0\\.999\\]$/constexpr double K_H = 0.5449065078510513;                 \\/\\/ OPTIMIZE [0.001, 0.999]/' -e 's/^constexpr short PURCHASE_TURN_LIMIT = .*;  \\/\\/ OPTIMIZE \\[750, 900\\]$/constexpr short PURCHASE_TURN_LIMIT = 846;  \\/\\/ OPTIMIZE [750, 900]/'\n",
      "g++ 10_main.cpp -std=gnu++17 -O2 -DONLINE_JUDGE -o 10_main.cpp.out 2> /dev/null\n"
     ]
    },
    {
     "name": "stderr",
     "output_type": "stream",
     "text": [
      "\u001b[32m[I 2021-09-09 17:44:37,692]\u001b[0m Trial 10 finished with value: 744382118.0 and parameters: {'K_START': 0.059632136283092156, 'K_END': 0.0054278747289478605, 'K_H': 0.5449065078510513, 'PURCHASE_TURN_LIMIT': 846}. Best is trial 2 with value: 813674925.0.\u001b[0m\n"
     ]
    },
    {
     "name": "stdout",
     "output_type": "stream",
     "text": [
      "callback ok\n",
      "index_parallel=11\n",
      "rm: cannot remove '11_out/*': No such file or directory\n",
      "rm: cannot remove '11_score/*': No such file or directory\n",
      "sed -i 11_main.cpp -e 's/^constexpr double K_START = .*;            \\/\\/ OPTIMIZE \\[0\\.02, 0\\.10\\] LOG$/constexpr double K_START = 0.07399523420899737;            \\/\\/ OPTIMIZE [0.02, 0.10] LOG/' -e 's/^constexpr double K_END = .*;              \\/\\/ OPTIMIZE \\[0\\.005, 0\\.04\\] LOG$/constexpr double K_END = 0.021594496068258907;              \\/\\/ OPTIMIZE [0.005, 0.04] LOG/' -e 's/^constexpr double K_H = .*;                 \\/\\/ OPTIMIZE \\[0\\.001, 0\\.999\\]$/constexpr double K_H = 0.989414884958872;                 \\/\\/ OPTIMIZE [0.001, 0.999]/' -e 's/^constexpr short PURCHASE_TURN_LIMIT = .*;  \\/\\/ OPTIMIZE \\[750, 900\\]$/constexpr short PURCHASE_TURN_LIMIT = 844;  \\/\\/ OPTIMIZE [750, 900]/'\n",
      "g++ 11_main.cpp -std=gnu++17 -O2 -DONLINE_JUDGE -o 11_main.cpp.out 2> /dev/null\n"
     ]
    },
    {
     "name": "stderr",
     "output_type": "stream",
     "text": [
      "\u001b[32m[I 2021-09-09 17:48:11,256]\u001b[0m Trial 11 finished with value: 801266986.0 and parameters: {'K_START': 0.07399523420899737, 'K_END': 0.021594496068258907, 'K_H': 0.989414884958872, 'PURCHASE_TURN_LIMIT': 844}. Best is trial 2 with value: 813674925.0.\u001b[0m\n"
     ]
    },
    {
     "name": "stdout",
     "output_type": "stream",
     "text": [
      "callback ok\n",
      "index_parallel=0\n",
      "sed -i 0_main.cpp -e 's/^constexpr double K_START = .*;            \\/\\/ OPTIMIZE \\[0\\.02, 0\\.10\\] LOG$/constexpr double K_START = 0.07317991623971003;            \\/\\/ OPTIMIZE [0.02, 0.10] LOG/' -e 's/^constexpr double K_END = .*;              \\/\\/ OPTIMIZE \\[0\\.005, 0\\.04\\] LOG$/constexpr double K_END = 0.039187631653062445;              \\/\\/ OPTIMIZE [0.005, 0.04] LOG/' -e 's/^constexpr double K_H = .*;                 \\/\\/ OPTIMIZE \\[0\\.001, 0\\.999\\]$/constexpr double K_H = 0.554156701264805;                 \\/\\/ OPTIMIZE [0.001, 0.999]/' -e 's/^constexpr short PURCHASE_TURN_LIMIT = .*;  \\/\\/ OPTIMIZE \\[750, 900\\]$/constexpr short PURCHASE_TURN_LIMIT = 846;  \\/\\/ OPTIMIZE [750, 900]/'\n",
      "g++ 0_main.cpp -std=gnu++17 -O2 -DONLINE_JUDGE -o 0_main.cpp.out 2> /dev/null\n"
     ]
    },
    {
     "name": "stderr",
     "output_type": "stream",
     "text": [
      "\u001b[32m[I 2021-09-09 17:51:30,063]\u001b[0m Trial 12 finished with value: 342286710.0 and parameters: {'K_START': 0.07317991623971003, 'K_END': 0.039187631653062445, 'K_H': 0.554156701264805, 'PURCHASE_TURN_LIMIT': 846}. Best is trial 2 with value: 813674925.0.\u001b[0m\n"
     ]
    },
    {
     "name": "stdout",
     "output_type": "stream",
     "text": [
      "callback ok\n",
      "index_parallel=1\n",
      "sed -i 1_main.cpp -e 's/^constexpr double K_START = .*;            \\/\\/ OPTIMIZE \\[0\\.02, 0\\.10\\] LOG$/constexpr double K_START = 0.09899621583503088;            \\/\\/ OPTIMIZE [0.02, 0.10] LOG/' -e 's/^constexpr double K_END = .*;              \\/\\/ OPTIMIZE \\[0\\.005, 0\\.04\\] LOG$/constexpr double K_END = 0.01819720397152501;              \\/\\/ OPTIMIZE [0.005, 0.04] LOG/' -e 's/^constexpr double K_H = .*;                 \\/\\/ OPTIMIZE \\[0\\.001, 0\\.999\\]$/constexpr double K_H = 0.7238179805795452;                 \\/\\/ OPTIMIZE [0.001, 0.999]/' -e 's/^constexpr short PURCHASE_TURN_LIMIT = .*;  \\/\\/ OPTIMIZE \\[750, 900\\]$/constexpr short PURCHASE_TURN_LIMIT = 899;  \\/\\/ OPTIMIZE [750, 900]/'\n",
      "g++ 1_main.cpp -std=gnu++17 -O2 -DONLINE_JUDGE -o 1_main.cpp.out 2> /dev/null\n"
     ]
    },
    {
     "name": "stderr",
     "output_type": "stream",
     "text": [
      "\u001b[32m[I 2021-09-09 17:55:06,173]\u001b[0m Trial 13 finished with value: 446879261.0 and parameters: {'K_START': 0.09899621583503088, 'K_END': 0.01819720397152501, 'K_H': 0.7238179805795452, 'PURCHASE_TURN_LIMIT': 899}. Best is trial 2 with value: 813674925.0.\u001b[0m\n"
     ]
    },
    {
     "name": "stdout",
     "output_type": "stream",
     "text": [
      "callback ok\n",
      "index_parallel=2\n",
      "sed -i 2_main.cpp -e 's/^constexpr double K_START = .*;            \\/\\/ OPTIMIZE \\[0\\.02, 0\\.10\\] LOG$/constexpr double K_START = 0.05772465272178742;            \\/\\/ OPTIMIZE [0.02, 0.10] LOG/' -e 's/^constexpr double K_END = .*;              \\/\\/ OPTIMIZE \\[0\\.005, 0\\.04\\] LOG$/constexpr double K_END = 0.02991095423017556;              \\/\\/ OPTIMIZE [0.005, 0.04] LOG/' -e 's/^constexpr double K_H = .*;                 \\/\\/ OPTIMIZE \\[0\\.001, 0\\.999\\]$/constexpr double K_H = 0.4003686894389819;                 \\/\\/ OPTIMIZE [0.001, 0.999]/' -e 's/^constexpr short PURCHASE_TURN_LIMIT = .*;  \\/\\/ OPTIMIZE \\[750, 900\\]$/constexpr short PURCHASE_TURN_LIMIT = 832;  \\/\\/ OPTIMIZE [750, 900]/'\n",
      "g++ 2_main.cpp -std=gnu++17 -O2 -DONLINE_JUDGE -o 2_main.cpp.out 2> /dev/null\n"
     ]
    },
    {
     "name": "stderr",
     "output_type": "stream",
     "text": [
      "\u001b[32m[I 2021-09-09 17:58:30,371]\u001b[0m Trial 14 finished with value: 634968076.0 and parameters: {'K_START': 0.05772465272178742, 'K_END': 0.02991095423017556, 'K_H': 0.4003686894389819, 'PURCHASE_TURN_LIMIT': 832}. Best is trial 2 with value: 813674925.0.\u001b[0m\n"
     ]
    },
    {
     "name": "stdout",
     "output_type": "stream",
     "text": [
      "callback ok\n",
      "index_parallel=3\n",
      "sed -i 3_main.cpp -e 's/^constexpr double K_START = .*;            \\/\\/ OPTIMIZE \\[0\\.02, 0\\.10\\] LOG$/constexpr double K_START = 0.07521235079155277;            \\/\\/ OPTIMIZE [0.02, 0.10] LOG/' -e 's/^constexpr double K_END = .*;              \\/\\/ OPTIMIZE \\[0\\.005, 0\\.04\\] LOG$/constexpr double K_END = 0.008266022088750772;              \\/\\/ OPTIMIZE [0.005, 0.04] LOG/' -e 's/^constexpr double K_H = .*;                 \\/\\/ OPTIMIZE \\[0\\.001, 0\\.999\\]$/constexpr double K_H = 0.6489658481584375;                 \\/\\/ OPTIMIZE [0.001, 0.999]/' -e 's/^constexpr short PURCHASE_TURN_LIMIT = .*;  \\/\\/ OPTIMIZE \\[750, 900\\]$/constexpr short PURCHASE_TURN_LIMIT = 786;  \\/\\/ OPTIMIZE [750, 900]/'\n",
      "g++ 3_main.cpp -std=gnu++17 -O2 -DONLINE_JUDGE -o 3_main.cpp.out 2> /dev/null\n"
     ]
    },
    {
     "name": "stderr",
     "output_type": "stream",
     "text": [
      "\u001b[32m[I 2021-09-09 18:01:44,463]\u001b[0m Trial 15 finished with value: 720497216.0 and parameters: {'K_START': 0.07521235079155277, 'K_END': 0.008266022088750772, 'K_H': 0.6489658481584375, 'PURCHASE_TURN_LIMIT': 786}. Best is trial 2 with value: 813674925.0.\u001b[0m\n"
     ]
    },
    {
     "name": "stdout",
     "output_type": "stream",
     "text": [
      "callback ok\n",
      "index_parallel=4\n",
      "sed -i 4_main.cpp -e 's/^constexpr double K_START = .*;            \\/\\/ OPTIMIZE \\[0\\.02, 0\\.10\\] LOG$/constexpr double K_START = 0.05463278483932926;            \\/\\/ OPTIMIZE [0.02, 0.10] LOG/' -e 's/^constexpr double K_END = .*;              \\/\\/ OPTIMIZE \\[0\\.005, 0\\.04\\] LOG$/constexpr double K_END = 0.018284832497723225;              \\/\\/ OPTIMIZE [0.005, 0.04] LOG/' -e 's/^constexpr double K_H = .*;                 \\/\\/ OPTIMIZE \\[0\\.001, 0\\.999\\]$/constexpr double K_H = 0.3152070169884493;                 \\/\\/ OPTIMIZE [0.001, 0.999]/' -e 's/^constexpr short PURCHASE_TURN_LIMIT = .*;  \\/\\/ OPTIMIZE \\[750, 900\\]$/constexpr short PURCHASE_TURN_LIMIT = 750;  \\/\\/ OPTIMIZE [750, 900]/'\n",
      "g++ 4_main.cpp -std=gnu++17 -O2 -DONLINE_JUDGE -o 4_main.cpp.out 2> /dev/null\n"
     ]
    },
    {
     "name": "stderr",
     "output_type": "stream",
     "text": [
      "\u001b[32m[I 2021-09-09 18:04:57,048]\u001b[0m Trial 16 finished with value: 746299523.0 and parameters: {'K_START': 0.05463278483932926, 'K_END': 0.018284832497723225, 'K_H': 0.3152070169884493, 'PURCHASE_TURN_LIMIT': 750}. Best is trial 2 with value: 813674925.0.\u001b[0m\n"
     ]
    },
    {
     "name": "stdout",
     "output_type": "stream",
     "text": [
      "callback ok\n",
      "index_parallel=5\n",
      "sed -i 5_main.cpp -e 's/^constexpr double K_START = .*;            \\/\\/ OPTIMIZE \\[0\\.02, 0\\.10\\] LOG$/constexpr double K_START = 0.0407071618306968;            \\/\\/ OPTIMIZE [0.02, 0.10] LOG/' -e 's/^constexpr double K_END = .*;              \\/\\/ OPTIMIZE \\[0\\.005, 0\\.04\\] LOG$/constexpr double K_END = 0.029440225543814105;              \\/\\/ OPTIMIZE [0.005, 0.04] LOG/' -e 's/^constexpr double K_H = .*;                 \\/\\/ OPTIMIZE \\[0\\.001, 0\\.999\\]$/constexpr double K_H = 0.8613008150909702;                 \\/\\/ OPTIMIZE [0.001, 0.999]/' -e 's/^constexpr short PURCHASE_TURN_LIMIT = .*;  \\/\\/ OPTIMIZE \\[750, 900\\]$/constexpr short PURCHASE_TURN_LIMIT = 865;  \\/\\/ OPTIMIZE [750, 900]/'\n",
      "g++ 5_main.cpp -std=gnu++17 -O2 -DONLINE_JUDGE -o 5_main.cpp.out 2> /dev/null\n"
     ]
    },
    {
     "name": "stderr",
     "output_type": "stream",
     "text": [
      "\u001b[32m[I 2021-09-09 18:08:30,805]\u001b[0m Trial 17 finished with value: 815261993.0 and parameters: {'K_START': 0.0407071618306968, 'K_END': 0.029440225543814105, 'K_H': 0.8613008150909702, 'PURCHASE_TURN_LIMIT': 865}. Best is trial 17 with value: 815261993.0.\u001b[0m\n"
     ]
    },
    {
     "name": "stdout",
     "output_type": "stream",
     "text": [
      "Updated! 815261993.0\n",
      "callback ok\n",
      "index_parallel=6\n",
      "sed -i 6_main.cpp -e 's/^constexpr double K_START = .*;            \\/\\/ OPTIMIZE \\[0\\.02, 0\\.10\\] LOG$/constexpr double K_START = 0.03917903538709502;            \\/\\/ OPTIMIZE [0.02, 0.10] LOG/' -e 's/^constexpr double K_END = .*;              \\/\\/ OPTIMIZE \\[0\\.005, 0\\.04\\] LOG$/constexpr double K_END = 0.03125980020212026;              \\/\\/ OPTIMIZE [0.005, 0.04] LOG/' -e 's/^constexpr double K_H = .*;                 \\/\\/ OPTIMIZE \\[0\\.001, 0\\.999\\]$/constexpr double K_H = 0.8422048161342629;                 \\/\\/ OPTIMIZE [0.001, 0.999]/' -e 's/^constexpr short PURCHASE_TURN_LIMIT = .*;  \\/\\/ OPTIMIZE \\[750, 900\\]$/constexpr short PURCHASE_TURN_LIMIT = 862;  \\/\\/ OPTIMIZE [750, 900]/'\n",
      "g++ 6_main.cpp -std=gnu++17 -O2 -DONLINE_JUDGE -o 6_main.cpp.out 2> /dev/null\n"
     ]
    },
    {
     "name": "stderr",
     "output_type": "stream",
     "text": [
      "\u001b[32m[I 2021-09-09 18:12:08,231]\u001b[0m Trial 18 finished with value: 823076582.0 and parameters: {'K_START': 0.03917903538709502, 'K_END': 0.03125980020212026, 'K_H': 0.8422048161342629, 'PURCHASE_TURN_LIMIT': 862}. Best is trial 18 with value: 823076582.0.\u001b[0m\n"
     ]
    },
    {
     "name": "stdout",
     "output_type": "stream",
     "text": [
      "Updated! 823076582.0\n",
      "callback ok\n",
      "index_parallel=7\n",
      "sed -i 7_main.cpp -e 's/^constexpr double K_START = .*;            \\/\\/ OPTIMIZE \\[0\\.02, 0\\.10\\] LOG$/constexpr double K_START = 0.03685729173989788;            \\/\\/ OPTIMIZE [0.02, 0.10] LOG/' -e 's/^constexpr double K_END = .*;              \\/\\/ OPTIMIZE \\[0\\.005, 0\\.04\\] LOG$/constexpr double K_END = 0.03881933406117864;              \\/\\/ OPTIMIZE [0.005, 0.04] LOG/' -e 's/^constexpr double K_H = .*;                 \\/\\/ OPTIMIZE \\[0\\.001, 0\\.999\\]$/constexpr double K_H = 0.8478863547642226;                 \\/\\/ OPTIMIZE [0.001, 0.999]/' -e 's/^constexpr short PURCHASE_TURN_LIMIT = .*;  \\/\\/ OPTIMIZE \\[750, 900\\]$/constexpr short PURCHASE_TURN_LIMIT = 865;  \\/\\/ OPTIMIZE [750, 900]/'\n",
      "g++ 7_main.cpp -std=gnu++17 -O2 -DONLINE_JUDGE -o 7_main.cpp.out 2> /dev/null\n"
     ]
    },
    {
     "name": "stderr",
     "output_type": "stream",
     "text": [
      "\u001b[32m[I 2021-09-09 18:15:45,196]\u001b[0m Trial 19 finished with value: 836873338.0 and parameters: {'K_START': 0.03685729173989788, 'K_END': 0.03881933406117864, 'K_H': 0.8478863547642226, 'PURCHASE_TURN_LIMIT': 865}. Best is trial 19 with value: 836873338.0.\u001b[0m\n"
     ]
    },
    {
     "name": "stdout",
     "output_type": "stream",
     "text": [
      "Updated! 836873338.0\n",
      "callback ok\n",
      "index_parallel=8\n",
      "sed -i 8_main.cpp -e 's/^constexpr double K_START = .*;            \\/\\/ OPTIMIZE \\[0\\.02, 0\\.10\\] LOG$/constexpr double K_START = 0.024903331092645253;            \\/\\/ OPTIMIZE [0.02, 0.10] LOG/' -e 's/^constexpr double K_END = .*;              \\/\\/ OPTIMIZE \\[0\\.005, 0\\.04\\] LOG$/constexpr double K_END = 0.038743014965327505;              \\/\\/ OPTIMIZE [0.005, 0.04] LOG/' -e 's/^constexpr double K_H = .*;                 \\/\\/ OPTIMIZE \\[0\\.001, 0\\.999\\]$/constexpr double K_H = 0.8443369276760053;                 \\/\\/ OPTIMIZE [0.001, 0.999]/' -e 's/^constexpr short PURCHASE_TURN_LIMIT = .*;  \\/\\/ OPTIMIZE \\[750, 900\\]$/constexpr short PURCHASE_TURN_LIMIT = 898;  \\/\\/ OPTIMIZE [750, 900]/'\n",
      "g++ 8_main.cpp -std=gnu++17 -O2 -DONLINE_JUDGE -o 8_main.cpp.out 2> /dev/null\n"
     ]
    },
    {
     "name": "stderr",
     "output_type": "stream",
     "text": [
      "\u001b[32m[I 2021-09-09 18:19:33,288]\u001b[0m Trial 20 finished with value: 770720541.0 and parameters: {'K_START': 0.024903331092645253, 'K_END': 0.038743014965327505, 'K_H': 0.8443369276760053, 'PURCHASE_TURN_LIMIT': 898}. Best is trial 19 with value: 836873338.0.\u001b[0m\n"
     ]
    },
    {
     "name": "stdout",
     "output_type": "stream",
     "text": [
      "callback ok\n",
      "index_parallel=9\n",
      "sed -i 9_main.cpp -e 's/^constexpr double K_START = .*;            \\/\\/ OPTIMIZE \\[0\\.02, 0\\.10\\] LOG$/constexpr double K_START = 0.03965549780701983;            \\/\\/ OPTIMIZE [0.02, 0.10] LOG/' -e 's/^constexpr double K_END = .*;              \\/\\/ OPTIMIZE \\[0\\.005, 0\\.04\\] LOG$/constexpr double K_END = 0.03182283174541182;              \\/\\/ OPTIMIZE [0.005, 0.04] LOG/' -e 's/^constexpr double K_H = .*;                 \\/\\/ OPTIMIZE \\[0\\.001, 0\\.999\\]$/constexpr double K_H = 0.830980045461885;                 \\/\\/ OPTIMIZE [0.001, 0.999]/' -e 's/^constexpr short PURCHASE_TURN_LIMIT = .*;  \\/\\/ OPTIMIZE \\[750, 900\\]$/constexpr short PURCHASE_TURN_LIMIT = 862;  \\/\\/ OPTIMIZE [750, 900]/'\n",
      "g++ 9_main.cpp -std=gnu++17 -O2 -DONLINE_JUDGE -o 9_main.cpp.out 2> /dev/null\n"
     ]
    },
    {
     "name": "stderr",
     "output_type": "stream",
     "text": [
      "\u001b[32m[I 2021-09-09 18:23:11,533]\u001b[0m Trial 21 finished with value: 824687428.0 and parameters: {'K_START': 0.03965549780701983, 'K_END': 0.03182283174541182, 'K_H': 0.830980045461885, 'PURCHASE_TURN_LIMIT': 862}. Best is trial 19 with value: 836873338.0.\u001b[0m\n"
     ]
    },
    {
     "name": "stdout",
     "output_type": "stream",
     "text": [
      "callback ok\n",
      "index_parallel=10\n",
      "sed -i 10_main.cpp -e 's/^constexpr double K_START = .*;            \\/\\/ OPTIMIZE \\[0\\.02, 0\\.10\\] LOG$/constexpr double K_START = 0.037378336380610465;            \\/\\/ OPTIMIZE [0.02, 0.10] LOG/' -e 's/^constexpr double K_END = .*;              \\/\\/ OPTIMIZE \\[0\\.005, 0\\.04\\] LOG$/constexpr double K_END = 0.03343854994105467;              \\/\\/ OPTIMIZE [0.005, 0.04] LOG/' -e 's/^constexpr double K_H = .*;                 \\/\\/ OPTIMIZE \\[0\\.001, 0\\.999\\]$/constexpr double K_H = 0.8081691739907543;                 \\/\\/ OPTIMIZE [0.001, 0.999]/' -e 's/^constexpr short PURCHASE_TURN_LIMIT = .*;  \\/\\/ OPTIMIZE \\[750, 900\\]$/constexpr short PURCHASE_TURN_LIMIT = 862;  \\/\\/ OPTIMIZE [750, 900]/'\n",
      "g++ 10_main.cpp -std=gnu++17 -O2 -DONLINE_JUDGE -o 10_main.cpp.out 2> /dev/null\n"
     ]
    },
    {
     "name": "stderr",
     "output_type": "stream",
     "text": [
      "\u001b[32m[I 2021-09-09 18:26:50,871]\u001b[0m Trial 22 finished with value: 828634575.0 and parameters: {'K_START': 0.037378336380610465, 'K_END': 0.03343854994105467, 'K_H': 0.8081691739907543, 'PURCHASE_TURN_LIMIT': 862}. Best is trial 19 with value: 836873338.0.\u001b[0m\n"
     ]
    },
    {
     "name": "stdout",
     "output_type": "stream",
     "text": [
      "callback ok\n",
      "index_parallel=11\n",
      "sed -i 11_main.cpp -e 's/^constexpr double K_START = .*;            \\/\\/ OPTIMIZE \\[0\\.02, 0\\.10\\] LOG$/constexpr double K_START = 0.036376548224166014;            \\/\\/ OPTIMIZE [0.02, 0.10] LOG/' -e 's/^constexpr double K_END = .*;              \\/\\/ OPTIMIZE \\[0\\.005, 0\\.04\\] LOG$/constexpr double K_END = 0.03619366065480818;              \\/\\/ OPTIMIZE [0.005, 0.04] LOG/' -e 's/^constexpr double K_H = .*;                 \\/\\/ OPTIMIZE \\[0\\.001, 0\\.999\\]$/constexpr double K_H = 0.6204034589902399;                 \\/\\/ OPTIMIZE [0.001, 0.999]/' -e 's/^constexpr short PURCHASE_TURN_LIMIT = .*;  \\/\\/ OPTIMIZE \\[750, 900\\]$/constexpr short PURCHASE_TURN_LIMIT = 885;  \\/\\/ OPTIMIZE [750, 900]/'\n",
      "g++ 11_main.cpp -std=gnu++17 -O2 -DONLINE_JUDGE -o 11_main.cpp.out 2> /dev/null\n"
     ]
    },
    {
     "name": "stderr",
     "output_type": "stream",
     "text": [
      "\u001b[32m[I 2021-09-09 18:30:36,880]\u001b[0m Trial 23 finished with value: 800807947.0 and parameters: {'K_START': 0.036376548224166014, 'K_END': 0.03619366065480818, 'K_H': 0.6204034589902399, 'PURCHASE_TURN_LIMIT': 885}. Best is trial 19 with value: 836873338.0.\u001b[0m\n"
     ]
    },
    {
     "name": "stdout",
     "output_type": "stream",
     "text": [
      "callback ok\n",
      "index_parallel=0\n",
      "sed -i 0_main.cpp -e 's/^constexpr double K_START = .*;            \\/\\/ OPTIMIZE \\[0\\.02, 0\\.10\\] LOG$/constexpr double K_START = 0.026689952611589345;            \\/\\/ OPTIMIZE [0.02, 0.10] LOG/' -e 's/^constexpr double K_END = .*;              \\/\\/ OPTIMIZE \\[0\\.005, 0\\.04\\] LOG$/constexpr double K_END = 0.027111949956908903;              \\/\\/ OPTIMIZE [0.005, 0.04] LOG/' -e 's/^constexpr double K_H = .*;                 \\/\\/ OPTIMIZE \\[0\\.001, 0\\.999\\]$/constexpr double K_H = 0.9811479313200909;                 \\/\\/ OPTIMIZE [0.001, 0.999]/' -e 's/^constexpr short PURCHASE_TURN_LIMIT = .*;  \\/\\/ OPTIMIZE \\[750, 900\\]$/constexpr short PURCHASE_TURN_LIMIT = 853;  \\/\\/ OPTIMIZE [750, 900]/'\n",
      "g++ 0_main.cpp -std=gnu++17 -O2 -DONLINE_JUDGE -o 0_main.cpp.out 2> /dev/null\n"
     ]
    },
    {
     "name": "stderr",
     "output_type": "stream",
     "text": [
      "\u001b[32m[I 2021-09-09 18:34:10,966]\u001b[0m Trial 24 finished with value: 816766687.0 and parameters: {'K_START': 0.026689952611589345, 'K_END': 0.027111949956908903, 'K_H': 0.9811479313200909, 'PURCHASE_TURN_LIMIT': 853}. Best is trial 19 with value: 836873338.0.\u001b[0m\n"
     ]
    },
    {
     "name": "stdout",
     "output_type": "stream",
     "text": [
      "callback ok\n",
      "index_parallel=1\n",
      "sed -i 1_main.cpp -e 's/^constexpr double K_START = .*;            \\/\\/ OPTIMIZE \\[0\\.02, 0\\.10\\] LOG$/constexpr double K_START = 0.020021188121041616;            \\/\\/ OPTIMIZE [0.02, 0.10] LOG/' -e 's/^constexpr double K_END = .*;              \\/\\/ OPTIMIZE \\[0\\.005, 0\\.04\\] LOG$/constexpr double K_END = 0.03377455038503543;              \\/\\/ OPTIMIZE [0.005, 0.04] LOG/' -e 's/^constexpr double K_H = .*;                 \\/\\/ OPTIMIZE \\[0\\.001, 0\\.999\\]$/constexpr double K_H = 0.7909143537272488;                 \\/\\/ OPTIMIZE [0.001, 0.999]/' -e 's/^constexpr short PURCHASE_TURN_LIMIT = .*;  \\/\\/ OPTIMIZE \\[750, 900\\]$/constexpr short PURCHASE_TURN_LIMIT = 875;  \\/\\/ OPTIMIZE [750, 900]/'\n",
      "g++ 1_main.cpp -std=gnu++17 -O2 -DONLINE_JUDGE -o 1_main.cpp.out 2> /dev/null\n"
     ]
    },
    {
     "name": "stderr",
     "output_type": "stream",
     "text": [
      "\u001b[32m[I 2021-09-09 18:37:46,433]\u001b[0m Trial 25 finished with value: 808569536.0 and parameters: {'K_START': 0.020021188121041616, 'K_END': 0.03377455038503543, 'K_H': 0.7909143537272488, 'PURCHASE_TURN_LIMIT': 875}. Best is trial 19 with value: 836873338.0.\u001b[0m\n"
     ]
    },
    {
     "name": "stdout",
     "output_type": "stream",
     "text": [
      "callback ok\n",
      "index_parallel=2\n",
      "sed -i 2_main.cpp -e 's/^constexpr double K_START = .*;            \\/\\/ OPTIMIZE \\[0\\.02, 0\\.10\\] LOG$/constexpr double K_START = 0.04644066541576565;            \\/\\/ OPTIMIZE [0.02, 0.10] LOG/' -e 's/^constexpr double K_END = .*;              \\/\\/ OPTIMIZE \\[0\\.005, 0\\.04\\] LOG$/constexpr double K_END = 0.03957054025063566;              \\/\\/ OPTIMIZE [0.005, 0.04] LOG/' -e 's/^constexpr double K_H = .*;                 \\/\\/ OPTIMIZE \\[0\\.001, 0\\.999\\]$/constexpr double K_H = 0.6274740977105097;                 \\/\\/ OPTIMIZE [0.001, 0.999]/' -e 's/^constexpr short PURCHASE_TURN_LIMIT = .*;  \\/\\/ OPTIMIZE \\[750, 900\\]$/constexpr short PURCHASE_TURN_LIMIT = 858;  \\/\\/ OPTIMIZE [750, 900]/'\n",
      "g++ 2_main.cpp -std=gnu++17 -O2 -DONLINE_JUDGE -o 2_main.cpp.out 2> /dev/null\n"
     ]
    },
    {
     "name": "stderr",
     "output_type": "stream",
     "text": [
      "\u001b[32m[I 2021-09-09 18:41:23,623]\u001b[0m Trial 26 finished with value: 831992821.0 and parameters: {'K_START': 0.04644066541576565, 'K_END': 0.03957054025063566, 'K_H': 0.6274740977105097, 'PURCHASE_TURN_LIMIT': 858}. Best is trial 19 with value: 836873338.0.\u001b[0m\n"
     ]
    },
    {
     "name": "stdout",
     "output_type": "stream",
     "text": [
      "callback ok\n",
      "index_parallel=3\n",
      "sed -i 3_main.cpp -e 's/^constexpr double K_START = .*;            \\/\\/ OPTIMIZE \\[0\\.02, 0\\.10\\] LOG$/constexpr double K_START = 0.04510982014382134;            \\/\\/ OPTIMIZE [0.02, 0.10] LOG/' -e 's/^constexpr double K_END = .*;              \\/\\/ OPTIMIZE \\[0\\.005, 0\\.04\\] LOG$/constexpr double K_END = 0.0396612995399853;              \\/\\/ OPTIMIZE [0.005, 0.04] LOG/' -e 's/^constexpr double K_H = .*;                 \\/\\/ OPTIMIZE \\[0\\.001, 0\\.999\\]$/constexpr double K_H = 0.6504734435291377;                 \\/\\/ OPTIMIZE [0.001, 0.999]/' -e 's/^constexpr short PURCHASE_TURN_LIMIT = .*;  \\/\\/ OPTIMIZE \\[750, 900\\]$/constexpr short PURCHASE_TURN_LIMIT = 825;  \\/\\/ OPTIMIZE [750, 900]/'\n",
      "g++ 3_main.cpp -std=gnu++17 -O2 -DONLINE_JUDGE -o 3_main.cpp.out 2> /dev/null\n"
     ]
    },
    {
     "name": "stderr",
     "output_type": "stream",
     "text": [
      "\u001b[32m[I 2021-09-09 18:44:56,574]\u001b[0m Trial 27 finished with value: 843850558.0 and parameters: {'K_START': 0.04510982014382134, 'K_END': 0.0396612995399853, 'K_H': 0.6504734435291377, 'PURCHASE_TURN_LIMIT': 825}. Best is trial 27 with value: 843850558.0.\u001b[0m\n"
     ]
    },
    {
     "name": "stdout",
     "output_type": "stream",
     "text": [
      "Updated! 843850558.0\n",
      "callback ok\n",
      "index_parallel=4\n",
      "sed -i 4_main.cpp -e 's/^constexpr double K_START = .*;            \\/\\/ OPTIMIZE \\[0\\.02, 0\\.10\\] LOG$/constexpr double K_START = 0.0466631738165668;            \\/\\/ OPTIMIZE [0.02, 0.10] LOG/' -e 's/^constexpr double K_END = .*;              \\/\\/ OPTIMIZE \\[0\\.005, 0\\.04\\] LOG$/constexpr double K_END = 0.03874237139041697;              \\/\\/ OPTIMIZE [0.005, 0.04] LOG/' -e 's/^constexpr double K_H = .*;                 \\/\\/ OPTIMIZE \\[0\\.001, 0\\.999\\]$/constexpr double K_H = 0.6427273069576089;                 \\/\\/ OPTIMIZE [0.001, 0.999]/' -e 's/^constexpr short PURCHASE_TURN_LIMIT = .*;  \\/\\/ OPTIMIZE \\[750, 900\\]$/constexpr short PURCHASE_TURN_LIMIT = 825;  \\/\\/ OPTIMIZE [750, 900]/'\n",
      "g++ 4_main.cpp -std=gnu++17 -O2 -DONLINE_JUDGE -o 4_main.cpp.out 2> /dev/null\n"
     ]
    },
    {
     "name": "stderr",
     "output_type": "stream",
     "text": [
      "\u001b[32m[I 2021-09-09 18:48:33,678]\u001b[0m Trial 28 finished with value: 844095982.0 and parameters: {'K_START': 0.0466631738165668, 'K_END': 0.03874237139041697, 'K_H': 0.6427273069576089, 'PURCHASE_TURN_LIMIT': 825}. Best is trial 28 with value: 844095982.0.\u001b[0m\n"
     ]
    },
    {
     "name": "stdout",
     "output_type": "stream",
     "text": [
      "Updated! 844095982.0\n",
      "callback ok\n",
      "index_parallel=5\n",
      "sed -i 5_main.cpp -e 's/^constexpr double K_START = .*;            \\/\\/ OPTIMIZE \\[0\\.02, 0\\.10\\] LOG$/constexpr double K_START = 0.06229451153118442;            \\/\\/ OPTIMIZE [0.02, 0.10] LOG/' -e 's/^constexpr double K_END = .*;              \\/\\/ OPTIMIZE \\[0\\.005, 0\\.04\\] LOG$/constexpr double K_END = 0.026349268806480242;              \\/\\/ OPTIMIZE [0.005, 0.04] LOG/' -e 's/^constexpr double K_H = .*;                 \\/\\/ OPTIMIZE \\[0\\.001, 0\\.999\\]$/constexpr double K_H = 0.4854245239679892;                 \\/\\/ OPTIMIZE [0.001, 0.999]/' -e 's/^constexpr short PURCHASE_TURN_LIMIT = .*;  \\/\\/ OPTIMIZE \\[750, 900\\]$/constexpr short PURCHASE_TURN_LIMIT = 799;  \\/\\/ OPTIMIZE [750, 900]/'\n",
      "g++ 5_main.cpp -std=gnu++17 -O2 -DONLINE_JUDGE -o 5_main.cpp.out 2> /dev/null\n"
     ]
    },
    {
     "name": "stderr",
     "output_type": "stream",
     "text": [
      "\u001b[32m[I 2021-09-09 18:52:05,607]\u001b[0m Trial 29 finished with value: 701634200.0 and parameters: {'K_START': 0.06229451153118442, 'K_END': 0.026349268806480242, 'K_H': 0.4854245239679892, 'PURCHASE_TURN_LIMIT': 799}. Best is trial 28 with value: 844095982.0.\u001b[0m\n"
     ]
    },
    {
     "name": "stdout",
     "output_type": "stream",
     "text": [
      "callback ok\n",
      "index_parallel=6\n",
      "sed -i 6_main.cpp -e 's/^constexpr double K_START = .*;            \\/\\/ OPTIMIZE \\[0\\.02, 0\\.10\\] LOG$/constexpr double K_START = 0.03362070823710483;            \\/\\/ OPTIMIZE [0.02, 0.10] LOG/' -e 's/^constexpr double K_END = .*;              \\/\\/ OPTIMIZE \\[0\\.005, 0\\.04\\] LOG$/constexpr double K_END = 0.02126102549189695;              \\/\\/ OPTIMIZE [0.005, 0.04] LOG/' -e 's/^constexpr double K_H = .*;                 \\/\\/ OPTIMIZE \\[0\\.001, 0\\.999\\]$/constexpr double K_H = 0.7118302165304815;                 \\/\\/ OPTIMIZE [0.001, 0.999]/' -e 's/^constexpr short PURCHASE_TURN_LIMIT = .*;  \\/\\/ OPTIMIZE \\[750, 900\\]$/constexpr short PURCHASE_TURN_LIMIT = 825;  \\/\\/ OPTIMIZE [750, 900]/'\n",
      "g++ 6_main.cpp -std=gnu++17 -O2 -DONLINE_JUDGE -o 6_main.cpp.out 2> /dev/null\n"
     ]
    },
    {
     "name": "stderr",
     "output_type": "stream",
     "text": [
      "\u001b[32m[I 2021-09-09 18:55:34,417]\u001b[0m Trial 30 finished with value: 797840474.0 and parameters: {'K_START': 0.03362070823710483, 'K_END': 0.02126102549189695, 'K_H': 0.7118302165304815, 'PURCHASE_TURN_LIMIT': 825}. Best is trial 28 with value: 844095982.0.\u001b[0m\n"
     ]
    },
    {
     "name": "stdout",
     "output_type": "stream",
     "text": [
      "callback ok\n",
      "index_parallel=7\n",
      "sed -i 7_main.cpp -e 's/^constexpr double K_START = .*;            \\/\\/ OPTIMIZE \\[0\\.02, 0\\.10\\] LOG$/constexpr double K_START = 0.04901742804013694;            \\/\\/ OPTIMIZE [0.02, 0.10] LOG/' -e 's/^constexpr double K_END = .*;              \\/\\/ OPTIMIZE \\[0\\.005, 0\\.04\\] LOG$/constexpr double K_END = 0.038350014090376985;              \\/\\/ OPTIMIZE [0.005, 0.04] LOG/' -e 's/^constexpr double K_H = .*;                 \\/\\/ OPTIMIZE \\[0\\.001, 0\\.999\\]$/constexpr double K_H = 0.6472704553539784;                 \\/\\/ OPTIMIZE [0.001, 0.999]/' -e 's/^constexpr short PURCHASE_TURN_LIMIT = .*;  \\/\\/ OPTIMIZE \\[750, 900\\]$/constexpr short PURCHASE_TURN_LIMIT = 824;  \\/\\/ OPTIMIZE [750, 900]/'\n",
      "g++ 7_main.cpp -std=gnu++17 -O2 -DONLINE_JUDGE -o 7_main.cpp.out 2> /dev/null\n"
     ]
    },
    {
     "name": "stderr",
     "output_type": "stream",
     "text": [
      "\u001b[32m[I 2021-09-09 18:59:19,863]\u001b[0m Trial 31 finished with value: 830823259.0 and parameters: {'K_START': 0.04901742804013694, 'K_END': 0.038350014090376985, 'K_H': 0.6472704553539784, 'PURCHASE_TURN_LIMIT': 824}. Best is trial 28 with value: 844095982.0.\u001b[0m\n"
     ]
    },
    {
     "name": "stdout",
     "output_type": "stream",
     "text": [
      "callback ok\n",
      "index_parallel=8\n",
      "sed -i 8_main.cpp -e 's/^constexpr double K_START = .*;            \\/\\/ OPTIMIZE \\[0\\.02, 0\\.10\\] LOG$/constexpr double K_START = 0.04528075205782476;            \\/\\/ OPTIMIZE [0.02, 0.10] LOG/' -e 's/^constexpr double K_END = .*;              \\/\\/ OPTIMIZE \\[0\\.005, 0\\.04\\] LOG$/constexpr double K_END = 0.03986726800818384;              \\/\\/ OPTIMIZE [0.005, 0.04] LOG/' -e 's/^constexpr double K_H = .*;                 \\/\\/ OPTIMIZE \\[0\\.001, 0\\.999\\]$/constexpr double K_H = 0.5818715650379618;                 \\/\\/ OPTIMIZE [0.001, 0.999]/' -e 's/^constexpr short PURCHASE_TURN_LIMIT = .*;  \\/\\/ OPTIMIZE \\[750, 900\\]$/constexpr short PURCHASE_TURN_LIMIT = 833;  \\/\\/ OPTIMIZE [750, 900]/'\n",
      "g++ 8_main.cpp -std=gnu++17 -O2 -DONLINE_JUDGE -o 8_main.cpp.out 2> /dev/null\n"
     ]
    },
    {
     "name": "stderr",
     "output_type": "stream",
     "text": [
      "\u001b[32m[I 2021-09-09 19:03:09,297]\u001b[0m Trial 32 finished with value: 841197212.0 and parameters: {'K_START': 0.04528075205782476, 'K_END': 0.03986726800818384, 'K_H': 0.5818715650379618, 'PURCHASE_TURN_LIMIT': 833}. Best is trial 28 with value: 844095982.0.\u001b[0m\n"
     ]
    },
    {
     "name": "stdout",
     "output_type": "stream",
     "text": [
      "callback ok\n",
      "index_parallel=9\n",
      "sed -i 9_main.cpp -e 's/^constexpr double K_START = .*;            \\/\\/ OPTIMIZE \\[0\\.02, 0\\.10\\] LOG$/constexpr double K_START = 0.04377149195944472;            \\/\\/ OPTIMIZE [0.02, 0.10] LOG/' -e 's/^constexpr double K_END = .*;              \\/\\/ OPTIMIZE \\[0\\.005, 0\\.04\\] LOG$/constexpr double K_END = 0.02802464042286045;              \\/\\/ OPTIMIZE [0.005, 0.04] LOG/' -e 's/^constexpr double K_H = .*;                 \\/\\/ OPTIMIZE \\[0\\.001, 0\\.999\\]$/constexpr double K_H = 0.49812188648900607;                 \\/\\/ OPTIMIZE [0.001, 0.999]/' -e 's/^constexpr short PURCHASE_TURN_LIMIT = .*;  \\/\\/ OPTIMIZE \\[750, 900\\]$/constexpr short PURCHASE_TURN_LIMIT = 834;  \\/\\/ OPTIMIZE [750, 900]/'\n",
      "g++ 9_main.cpp -std=gnu++17 -O2 -DONLINE_JUDGE -o 9_main.cpp.out 2> /dev/null\n"
     ]
    },
    {
     "name": "stderr",
     "output_type": "stream",
     "text": [
      "\u001b[32m[I 2021-09-09 19:06:57,518]\u001b[0m Trial 33 finished with value: 828605870.0 and parameters: {'K_START': 0.04377149195944472, 'K_END': 0.02802464042286045, 'K_H': 0.49812188648900607, 'PURCHASE_TURN_LIMIT': 834}. Best is trial 28 with value: 844095982.0.\u001b[0m\n"
     ]
    },
    {
     "name": "stdout",
     "output_type": "stream",
     "text": [
      "callback ok\n",
      "index_parallel=10\n",
      "sed -i 10_main.cpp -e 's/^constexpr double K_START = .*;            \\/\\/ OPTIMIZE \\[0\\.02, 0\\.10\\] LOG$/constexpr double K_START = 0.05245626771840129;            \\/\\/ OPTIMIZE [0.02, 0.10] LOG/' -e 's/^constexpr double K_END = .*;              \\/\\/ OPTIMIZE \\[0\\.005, 0\\.04\\] LOG$/constexpr double K_END = 0.03502569671377662;              \\/\\/ OPTIMIZE [0.005, 0.04] LOG/' -e 's/^constexpr double K_H = .*;                 \\/\\/ OPTIMIZE \\[0\\.001, 0\\.999\\]$/constexpr double K_H = 0.5680900971073207;                 \\/\\/ OPTIMIZE [0.001, 0.999]/' -e 's/^constexpr short PURCHASE_TURN_LIMIT = .*;  \\/\\/ OPTIMIZE \\[750, 900\\]$/constexpr short PURCHASE_TURN_LIMIT = 796;  \\/\\/ OPTIMIZE [750, 900]/'\n",
      "g++ 10_main.cpp -std=gnu++17 -O2 -DONLINE_JUDGE -o 10_main.cpp.out 2> /dev/null\n"
     ]
    },
    {
     "name": "stderr",
     "output_type": "stream",
     "text": [
      "\u001b[32m[I 2021-09-09 19:10:34,603]\u001b[0m Trial 34 finished with value: 807100281.0 and parameters: {'K_START': 0.05245626771840129, 'K_END': 0.03502569671377662, 'K_H': 0.5680900971073207, 'PURCHASE_TURN_LIMIT': 796}. Best is trial 28 with value: 844095982.0.\u001b[0m\n"
     ]
    },
    {
     "name": "stdout",
     "output_type": "stream",
     "text": [
      "callback ok\n",
      "index_parallel=11\n",
      "sed -i 11_main.cpp -e 's/^constexpr double K_START = .*;            \\/\\/ OPTIMIZE \\[0\\.02, 0\\.10\\] LOG$/constexpr double K_START = 0.030751430612473717;            \\/\\/ OPTIMIZE [0.02, 0.10] LOG/' -e 's/^constexpr double K_END = .*;              \\/\\/ OPTIMIZE \\[0\\.005, 0\\.04\\] LOG$/constexpr double K_END = 0.0244902950077131;              \\/\\/ OPTIMIZE [0.005, 0.04] LOG/' -e 's/^constexpr double K_H = .*;                 \\/\\/ OPTIMIZE \\[0\\.001, 0\\.999\\]$/constexpr double K_H = 0.7145759856518198;                 \\/\\/ OPTIMIZE [0.001, 0.999]/' -e 's/^constexpr short PURCHASE_TURN_LIMIT = .*;  \\/\\/ OPTIMIZE \\[750, 900\\]$/constexpr short PURCHASE_TURN_LIMIT = 815;  \\/\\/ OPTIMIZE [750, 900]/'\n",
      "g++ 11_main.cpp -std=gnu++17 -O2 -DONLINE_JUDGE -o 11_main.cpp.out 2> /dev/null\n"
     ]
    },
    {
     "name": "stderr",
     "output_type": "stream",
     "text": [
      "\u001b[32m[I 2021-09-09 19:14:11,144]\u001b[0m Trial 35 finished with value: 806028321.0 and parameters: {'K_START': 0.030751430612473717, 'K_END': 0.0244902950077131, 'K_H': 0.7145759856518198, 'PURCHASE_TURN_LIMIT': 815}. Best is trial 28 with value: 844095982.0.\u001b[0m\n"
     ]
    },
    {
     "name": "stdout",
     "output_type": "stream",
     "text": [
      "callback ok\n",
      "index_parallel=0\n",
      "sed -i 0_main.cpp -e 's/^constexpr double K_START = .*;            \\/\\/ OPTIMIZE \\[0\\.02, 0\\.10\\] LOG$/constexpr double K_START = 0.06465532340229317;            \\/\\/ OPTIMIZE [0.02, 0.10] LOG/' -e 's/^constexpr double K_END = .*;              \\/\\/ OPTIMIZE \\[0\\.005, 0\\.04\\] LOG$/constexpr double K_END = 0.022429454024891063;              \\/\\/ OPTIMIZE [0.005, 0.04] LOG/' -e 's/^constexpr double K_H = .*;                 \\/\\/ OPTIMIZE \\[0\\.001, 0\\.999\\]$/constexpr double K_H = 0.6678738617016082;                 \\/\\/ OPTIMIZE [0.001, 0.999]/' -e 's/^constexpr short PURCHASE_TURN_LIMIT = .*;  \\/\\/ OPTIMIZE \\[750, 900\\]$/constexpr short PURCHASE_TURN_LIMIT = 806;  \\/\\/ OPTIMIZE [750, 900]/'\n",
      "g++ 0_main.cpp -std=gnu++17 -O2 -DONLINE_JUDGE -o 0_main.cpp.out 2> /dev/null\n"
     ]
    },
    {
     "name": "stderr",
     "output_type": "stream",
     "text": [
      "\u001b[32m[I 2021-09-09 19:17:50,575]\u001b[0m Trial 36 finished with value: 810044144.0 and parameters: {'K_START': 0.06465532340229317, 'K_END': 0.022429454024891063, 'K_H': 0.6678738617016082, 'PURCHASE_TURN_LIMIT': 806}. Best is trial 28 with value: 844095982.0.\u001b[0m\n"
     ]
    },
    {
     "name": "stdout",
     "output_type": "stream",
     "text": [
      "callback ok\n",
      "index_parallel=1\n",
      "sed -i 1_main.cpp -e 's/^constexpr double K_START = .*;            \\/\\/ OPTIMIZE \\[0\\.02, 0\\.10\\] LOG$/constexpr double K_START = 0.04535703638611019;            \\/\\/ OPTIMIZE [0.02, 0.10] LOG/' -e 's/^constexpr double K_END = .*;              \\/\\/ OPTIMIZE \\[0\\.005, 0\\.04\\] LOG$/constexpr double K_END = 0.03571280509684636;              \\/\\/ OPTIMIZE [0.005, 0.04] LOG/' -e 's/^constexpr double K_H = .*;                 \\/\\/ OPTIMIZE \\[0\\.001, 0\\.999\\]$/constexpr double K_H = 0.5883287148696084;                 \\/\\/ OPTIMIZE [0.001, 0.999]/' -e 's/^constexpr short PURCHASE_TURN_LIMIT = .*;  \\/\\/ OPTIMIZE \\[750, 900\\]$/constexpr short PURCHASE_TURN_LIMIT = 837;  \\/\\/ OPTIMIZE [750, 900]/'\n",
      "g++ 1_main.cpp -std=gnu++17 -O2 -DONLINE_JUDGE -o 1_main.cpp.out 2> /dev/null\n"
     ]
    },
    {
     "name": "stderr",
     "output_type": "stream",
     "text": [
      "\u001b[32m[I 2021-09-09 19:21:38,328]\u001b[0m Trial 37 finished with value: 845172945.0 and parameters: {'K_START': 0.04535703638611019, 'K_END': 0.03571280509684636, 'K_H': 0.5883287148696084, 'PURCHASE_TURN_LIMIT': 837}. Best is trial 37 with value: 845172945.0.\u001b[0m\n"
     ]
    },
    {
     "name": "stdout",
     "output_type": "stream",
     "text": [
      "Updated! 845172945.0\n",
      "callback ok\n",
      "index_parallel=2\n",
      "sed -i 2_main.cpp -e 's/^constexpr double K_START = .*;            \\/\\/ OPTIMIZE \\[0\\.02, 0\\.10\\] LOG$/constexpr double K_START = 0.044341351010057886;            \\/\\/ OPTIMIZE [0.02, 0.10] LOG/' -e 's/^constexpr double K_END = .*;              \\/\\/ OPTIMIZE \\[0\\.005, 0\\.04\\] LOG$/constexpr double K_END = 0.007979430759727136;              \\/\\/ OPTIMIZE [0.005, 0.04] LOG/' -e 's/^constexpr double K_H = .*;                 \\/\\/ OPTIMIZE \\[0\\.001, 0\\.999\\]$/constexpr double K_H = 0.46784062617849037;                 \\/\\/ OPTIMIZE [0.001, 0.999]/' -e 's/^constexpr short PURCHASE_TURN_LIMIT = .*;  \\/\\/ OPTIMIZE \\[750, 900\\]$/constexpr short PURCHASE_TURN_LIMIT = 831;  \\/\\/ OPTIMIZE [750, 900]/'\n",
      "g++ 2_main.cpp -std=gnu++17 -O2 -DONLINE_JUDGE -o 2_main.cpp.out 2> /dev/null\n"
     ]
    },
    {
     "name": "stderr",
     "output_type": "stream",
     "text": [
      "\u001b[32m[I 2021-09-09 19:25:16,538]\u001b[0m Trial 38 finished with value: 749972707.0 and parameters: {'K_START': 0.044341351010057886, 'K_END': 0.007979430759727136, 'K_H': 0.46784062617849037, 'PURCHASE_TURN_LIMIT': 831}. Best is trial 37 with value: 845172945.0.\u001b[0m\n"
     ]
    },
    {
     "name": "stdout",
     "output_type": "stream",
     "text": [
      "callback ok\n",
      "index_parallel=3\n",
      "sed -i 3_main.cpp -e 's/^constexpr double K_START = .*;            \\/\\/ OPTIMIZE \\[0\\.02, 0\\.10\\] LOG$/constexpr double K_START = 0.050837174181847244;            \\/\\/ OPTIMIZE [0.02, 0.10] LOG/' -e 's/^constexpr double K_END = .*;              \\/\\/ OPTIMIZE \\[0\\.005, 0\\.04\\] LOG$/constexpr double K_END = 0.012180062047586194;              \\/\\/ OPTIMIZE [0.005, 0.04] LOG/' -e 's/^constexpr double K_H = .*;                 \\/\\/ OPTIMIZE \\[0\\.001, 0\\.999\\]$/constexpr double K_H = 0.5674818761088777;                 \\/\\/ OPTIMIZE [0.001, 0.999]/' -e 's/^constexpr short PURCHASE_TURN_LIMIT = .*;  \\/\\/ OPTIMIZE \\[750, 900\\]$/constexpr short PURCHASE_TURN_LIMIT = 823;  \\/\\/ OPTIMIZE [750, 900]/'\n",
      "g++ 3_main.cpp -std=gnu++17 -O2 -DONLINE_JUDGE -o 3_main.cpp.out 2> /dev/null\n"
     ]
    },
    {
     "name": "stderr",
     "output_type": "stream",
     "text": [
      "\u001b[32m[I 2021-09-09 19:28:51,734]\u001b[0m Trial 39 finished with value: 768806950.0 and parameters: {'K_START': 0.050837174181847244, 'K_END': 0.012180062047586194, 'K_H': 0.5674818761088777, 'PURCHASE_TURN_LIMIT': 823}. Best is trial 37 with value: 845172945.0.\u001b[0m\n"
     ]
    },
    {
     "name": "stdout",
     "output_type": "stream",
     "text": [
      "callback ok\n",
      "index_parallel=4\n",
      "sed -i 4_main.cpp -e 's/^constexpr double K_START = .*;            \\/\\/ OPTIMIZE \\[0\\.02, 0\\.10\\] LOG$/constexpr double K_START = 0.0675203891518339;            \\/\\/ OPTIMIZE [0.02, 0.10] LOG/' -e 's/^constexpr double K_END = .*;              \\/\\/ OPTIMIZE \\[0\\.005, 0\\.04\\] LOG$/constexpr double K_END = 0.03542095206961271;              \\/\\/ OPTIMIZE [0.005, 0.04] LOG/' -e 's/^constexpr double K_H = .*;                 \\/\\/ OPTIMIZE \\[0\\.001, 0\\.999\\]$/constexpr double K_H = 0.349997364826734;                 \\/\\/ OPTIMIZE [0.001, 0.999]/' -e 's/^constexpr short PURCHASE_TURN_LIMIT = .*;  \\/\\/ OPTIMIZE \\[750, 900\\]$/constexpr short PURCHASE_TURN_LIMIT = 839;  \\/\\/ OPTIMIZE [750, 900]/'\n",
      "g++ 4_main.cpp -std=gnu++17 -O2 -DONLINE_JUDGE -o 4_main.cpp.out 2> /dev/null\n"
     ]
    },
    {
     "name": "stderr",
     "output_type": "stream",
     "text": [
      "\u001b[32m[I 2021-09-09 19:32:20,746]\u001b[0m Trial 40 finished with value: 340543374.0 and parameters: {'K_START': 0.0675203891518339, 'K_END': 0.03542095206961271, 'K_H': 0.349997364826734, 'PURCHASE_TURN_LIMIT': 839}. Best is trial 37 with value: 845172945.0.\u001b[0m\n"
     ]
    },
    {
     "name": "stdout",
     "output_type": "stream",
     "text": [
      "callback ok\n",
      "index_parallel=5\n",
      "sed -i 5_main.cpp -e 's/^constexpr double K_START = .*;            \\/\\/ OPTIMIZE \\[0\\.02, 0\\.10\\] LOG$/constexpr double K_START = 0.03472667272498819;            \\/\\/ OPTIMIZE [0.02, 0.10] LOG/' -e 's/^constexpr double K_END = .*;              \\/\\/ OPTIMIZE \\[0\\.005, 0\\.04\\] LOG$/constexpr double K_END = 0.03954466099944259;              \\/\\/ OPTIMIZE [0.005, 0.04] LOG/' -e 's/^constexpr double K_H = .*;                 \\/\\/ OPTIMIZE \\[0\\.001, 0\\.999\\]$/constexpr double K_H = 0.7709250974531909;                 \\/\\/ OPTIMIZE [0.001, 0.999]/' -e 's/^constexpr short PURCHASE_TURN_LIMIT = .*;  \\/\\/ OPTIMIZE \\[750, 900\\]$/constexpr short PURCHASE_TURN_LIMIT = 814;  \\/\\/ OPTIMIZE [750, 900]/'\n",
      "g++ 5_main.cpp -std=gnu++17 -O2 -DONLINE_JUDGE -o 5_main.cpp.out 2> /dev/null\n"
     ]
    },
    {
     "name": "stderr",
     "output_type": "stream",
     "text": [
      "\u001b[32m[I 2021-09-09 19:35:52,635]\u001b[0m Trial 41 finished with value: 842907780.0 and parameters: {'K_START': 0.03472667272498819, 'K_END': 0.03954466099944259, 'K_H': 0.7709250974531909, 'PURCHASE_TURN_LIMIT': 814}. Best is trial 37 with value: 845172945.0.\u001b[0m\n"
     ]
    },
    {
     "name": "stdout",
     "output_type": "stream",
     "text": [
      "callback ok\n",
      "index_parallel=6\n",
      "sed -i 6_main.cpp -e 's/^constexpr double K_START = .*;            \\/\\/ OPTIMIZE \\[0\\.02, 0\\.10\\] LOG$/constexpr double K_START = 0.04446387193506892;            \\/\\/ OPTIMIZE [0.02, 0.10] LOG/' -e 's/^constexpr double K_END = .*;              \\/\\/ OPTIMIZE \\[0\\.005, 0\\.04\\] LOG$/constexpr double K_END = 0.03047668143958089;              \\/\\/ OPTIMIZE [0.005, 0.04] LOG/' -e 's/^constexpr double K_H = .*;                 \\/\\/ OPTIMIZE \\[0\\.001, 0\\.999\\]$/constexpr double K_H = 0.767934895120068;                 \\/\\/ OPTIMIZE [0.001, 0.999]/' -e 's/^constexpr short PURCHASE_TURN_LIMIT = .*;  \\/\\/ OPTIMIZE \\[750, 900\\]$/constexpr short PURCHASE_TURN_LIMIT = 816;  \\/\\/ OPTIMIZE [750, 900]/'\n",
      "g++ 6_main.cpp -std=gnu++17 -O2 -DONLINE_JUDGE -o 6_main.cpp.out 2> /dev/null\n"
     ]
    },
    {
     "name": "stderr",
     "output_type": "stream",
     "text": [
      "\u001b[32m[I 2021-09-09 19:39:29,130]\u001b[0m Trial 42 finished with value: 827740186.0 and parameters: {'K_START': 0.04446387193506892, 'K_END': 0.03047668143958089, 'K_H': 0.767934895120068, 'PURCHASE_TURN_LIMIT': 816}. Best is trial 37 with value: 845172945.0.\u001b[0m\n"
     ]
    },
    {
     "name": "stdout",
     "output_type": "stream",
     "text": [
      "callback ok\n",
      "index_parallel=7\n",
      "sed -i 7_main.cpp -e 's/^constexpr double K_START = .*;            \\/\\/ OPTIMIZE \\[0\\.02, 0\\.10\\] LOG$/constexpr double K_START = 0.055858380504977045;            \\/\\/ OPTIMIZE [0.02, 0.10] LOG/' -e 's/^constexpr double K_END = .*;              \\/\\/ OPTIMIZE \\[0\\.005, 0\\.04\\] LOG$/constexpr double K_END = 0.03425420771523841;              \\/\\/ OPTIMIZE [0.005, 0.04] LOG/' -e 's/^constexpr double K_H = .*;                 \\/\\/ OPTIMIZE \\[0\\.001, 0\\.999\\]$/constexpr double K_H = 0.5875256907525019;                 \\/\\/ OPTIMIZE [0.001, 0.999]/' -e 's/^constexpr short PURCHASE_TURN_LIMIT = .*;  \\/\\/ OPTIMIZE \\[750, 900\\]$/constexpr short PURCHASE_TURN_LIMIT = 808;  \\/\\/ OPTIMIZE [750, 900]/'\n",
      "g++ 7_main.cpp -std=gnu++17 -O2 -DONLINE_JUDGE -o 7_main.cpp.out 2> /dev/null\n"
     ]
    },
    {
     "name": "stderr",
     "output_type": "stream",
     "text": [
      "\u001b[32m[I 2021-09-09 19:43:02,493]\u001b[0m Trial 43 finished with value: 784066980.0 and parameters: {'K_START': 0.055858380504977045, 'K_END': 0.03425420771523841, 'K_H': 0.5875256907525019, 'PURCHASE_TURN_LIMIT': 808}. Best is trial 37 with value: 845172945.0.\u001b[0m\n"
     ]
    },
    {
     "name": "stdout",
     "output_type": "stream",
     "text": [
      "callback ok\n",
      "index_parallel=8\n",
      "sed -i 8_main.cpp -e 's/^constexpr double K_START = .*;            \\/\\/ OPTIMIZE \\[0\\.02, 0\\.10\\] LOG$/constexpr double K_START = 0.03184987292768827;            \\/\\/ OPTIMIZE [0.02, 0.10] LOG/' -e 's/^constexpr double K_END = .*;              \\/\\/ OPTIMIZE \\[0\\.005, 0\\.04\\] LOG$/constexpr double K_END = 0.02610827214747899;              \\/\\/ OPTIMIZE [0.005, 0.04] LOG/' -e 's/^constexpr double K_H = .*;                 \\/\\/ OPTIMIZE \\[0\\.001, 0\\.999\\]$/constexpr double K_H = 0.6814081147396847;                 \\/\\/ OPTIMIZE [0.001, 0.999]/' -e 's/^constexpr short PURCHASE_TURN_LIMIT = .*;  \\/\\/ OPTIMIZE \\[750, 900\\]$/constexpr short PURCHASE_TURN_LIMIT = 852;  \\/\\/ OPTIMIZE [750, 900]/'\n",
      "g++ 8_main.cpp -std=gnu++17 -O2 -DONLINE_JUDGE -o 8_main.cpp.out 2> /dev/null\n"
     ]
    },
    {
     "name": "stderr",
     "output_type": "stream",
     "text": [
      "\u001b[32m[I 2021-09-09 19:46:35,642]\u001b[0m Trial 44 finished with value: 813798194.0 and parameters: {'K_START': 0.03184987292768827, 'K_END': 0.02610827214747899, 'K_H': 0.6814081147396847, 'PURCHASE_TURN_LIMIT': 852}. Best is trial 37 with value: 845172945.0.\u001b[0m\n"
     ]
    },
    {
     "name": "stdout",
     "output_type": "stream",
     "text": [
      "callback ok\n",
      "index_parallel=9\n",
      "sed -i 9_main.cpp -e 's/^constexpr double K_START = .*;            \\/\\/ OPTIMIZE \\[0\\.02, 0\\.10\\] LOG$/constexpr double K_START = 0.04779599239686818;            \\/\\/ OPTIMIZE [0.02, 0.10] LOG/' -e 's/^constexpr double K_END = .*;              \\/\\/ OPTIMIZE \\[0\\.005, 0\\.04\\] LOG$/constexpr double K_END = 0.0365474474201009;              \\/\\/ OPTIMIZE [0.005, 0.04] LOG/' -e 's/^constexpr double K_H = .*;                 \\/\\/ OPTIMIZE \\[0\\.001, 0\\.999\\]$/constexpr double K_H = 0.5178615364797985;                 \\/\\/ OPTIMIZE [0.001, 0.999]/' -e 's/^constexpr short PURCHASE_TURN_LIMIT = .*;  \\/\\/ OPTIMIZE \\[750, 900\\]$/constexpr short PURCHASE_TURN_LIMIT = 798;  \\/\\/ OPTIMIZE [750, 900]/'\n",
      "g++ 9_main.cpp -std=gnu++17 -O2 -DONLINE_JUDGE -o 9_main.cpp.out 2> /dev/null\n"
     ]
    },
    {
     "name": "stderr",
     "output_type": "stream",
     "text": [
      "\u001b[32m[I 2021-09-09 19:50:03,718]\u001b[0m Trial 45 finished with value: 819981948.0 and parameters: {'K_START': 0.04779599239686818, 'K_END': 0.0365474474201009, 'K_H': 0.5178615364797985, 'PURCHASE_TURN_LIMIT': 798}. Best is trial 37 with value: 845172945.0.\u001b[0m\n"
     ]
    },
    {
     "name": "stdout",
     "output_type": "stream",
     "text": [
      "callback ok\n",
      "index_parallel=10\n",
      "sed -i 10_main.cpp -e 's/^constexpr double K_START = .*;            \\/\\/ OPTIMIZE \\[0\\.02, 0\\.10\\] LOG$/constexpr double K_START = 0.03447441340533057;            \\/\\/ OPTIMIZE [0.02, 0.10] LOG/' -e 's/^constexpr double K_END = .*;              \\/\\/ OPTIMIZE \\[0\\.005, 0\\.04\\] LOG$/constexpr double K_END = 0.02865007450582626;              \\/\\/ OPTIMIZE [0.005, 0.04] LOG/' -e 's/^constexpr double K_H = .*;                 \\/\\/ OPTIMIZE \\[0\\.001, 0\\.999\\]$/constexpr double K_H = 0.4510576290063898;                 \\/\\/ OPTIMIZE [0.001, 0.999]/' -e 's/^constexpr short PURCHASE_TURN_LIMIT = .*;  \\/\\/ OPTIMIZE \\[750, 900\\]$/constexpr short PURCHASE_TURN_LIMIT = 839;  \\/\\/ OPTIMIZE [750, 900]/'\n",
      "g++ 10_main.cpp -std=gnu++17 -O2 -DONLINE_JUDGE -o 10_main.cpp.out 2> /dev/null\n"
     ]
    },
    {
     "name": "stderr",
     "output_type": "stream",
     "text": [
      "\u001b[32m[I 2021-09-09 19:53:41,379]\u001b[0m Trial 46 finished with value: 824977506.0 and parameters: {'K_START': 0.03447441340533057, 'K_END': 0.02865007450582626, 'K_H': 0.4510576290063898, 'PURCHASE_TURN_LIMIT': 839}. Best is trial 37 with value: 845172945.0.\u001b[0m\n"
     ]
    },
    {
     "name": "stdout",
     "output_type": "stream",
     "text": [
      "callback ok\n",
      "index_parallel=11\n",
      "sed -i 11_main.cpp -e 's/^constexpr double K_START = .*;            \\/\\/ OPTIMIZE \\[0\\.02, 0\\.10\\] LOG$/constexpr double K_START = 0.042351598035567095;            \\/\\/ OPTIMIZE [0.02, 0.10] LOG/' -e 's/^constexpr double K_END = .*;              \\/\\/ OPTIMIZE \\[0\\.005, 0\\.04\\] LOG$/constexpr double K_END = 0.03202440562533466;              \\/\\/ OPTIMIZE [0.005, 0.04] LOG/' -e 's/^constexpr double K_H = .*;                 \\/\\/ OPTIMIZE \\[0\\.001, 0\\.999\\]$/constexpr double K_H = 0.607071753323846;                 \\/\\/ OPTIMIZE [0.001, 0.999]/' -e 's/^constexpr short PURCHASE_TURN_LIMIT = .*;  \\/\\/ OPTIMIZE \\[750, 900\\]$/constexpr short PURCHASE_TURN_LIMIT = 829;  \\/\\/ OPTIMIZE [750, 900]/'\n",
      "g++ 11_main.cpp -std=gnu++17 -O2 -DONLINE_JUDGE -o 11_main.cpp.out 2> /dev/null\n"
     ]
    },
    {
     "name": "stderr",
     "output_type": "stream",
     "text": [
      "\u001b[32m[I 2021-09-09 19:57:18,041]\u001b[0m Trial 47 finished with value: 840373896.0 and parameters: {'K_START': 0.042351598035567095, 'K_END': 0.03202440562533466, 'K_H': 0.607071753323846, 'PURCHASE_TURN_LIMIT': 829}. Best is trial 37 with value: 845172945.0.\u001b[0m\n"
     ]
    },
    {
     "name": "stdout",
     "output_type": "stream",
     "text": [
      "callback ok\n",
      "index_parallel=0\n",
      "sed -i 0_main.cpp -e 's/^constexpr double K_START = .*;            \\/\\/ OPTIMIZE \\[0\\.02, 0\\.10\\] LOG$/constexpr double K_START = 0.027790457975198253;            \\/\\/ OPTIMIZE [0.02, 0.10] LOG/' -e 's/^constexpr double K_END = .*;              \\/\\/ OPTIMIZE \\[0\\.005, 0\\.04\\] LOG$/constexpr double K_END = 0.03655169649908463;              \\/\\/ OPTIMIZE [0.005, 0.04] LOG/' -e 's/^constexpr double K_H = .*;                 \\/\\/ OPTIMIZE \\[0\\.001, 0\\.999\\]$/constexpr double K_H = 0.13860147154828584;                 \\/\\/ OPTIMIZE [0.001, 0.999]/' -e 's/^constexpr short PURCHASE_TURN_LIMIT = .*;  \\/\\/ OPTIMIZE \\[750, 900\\]$/constexpr short PURCHASE_TURN_LIMIT = 821;  \\/\\/ OPTIMIZE [750, 900]/'\n",
      "g++ 0_main.cpp -std=gnu++17 -O2 -DONLINE_JUDGE -o 0_main.cpp.out 2> /dev/null\n"
     ]
    },
    {
     "name": "stderr",
     "output_type": "stream",
     "text": [
      "\u001b[32m[I 2021-09-09 20:00:53,801]\u001b[0m Trial 48 finished with value: 829616395.0 and parameters: {'K_START': 0.027790457975198253, 'K_END': 0.03655169649908463, 'K_H': 0.13860147154828584, 'PURCHASE_TURN_LIMIT': 821}. Best is trial 37 with value: 845172945.0.\u001b[0m\n"
     ]
    },
    {
     "name": "stdout",
     "output_type": "stream",
     "text": [
      "callback ok\n",
      "index_parallel=1\n",
      "sed -i 1_main.cpp -e 's/^constexpr double K_START = .*;            \\/\\/ OPTIMIZE \\[0\\.02, 0\\.10\\] LOG$/constexpr double K_START = 0.05037009292393744;            \\/\\/ OPTIMIZE [0.02, 0.10] LOG/' -e 's/^constexpr double K_END = .*;              \\/\\/ OPTIMIZE \\[0\\.005, 0\\.04\\] LOG$/constexpr double K_END = 0.039691929998585854;              \\/\\/ OPTIMIZE [0.005, 0.04] LOG/' -e 's/^constexpr double K_H = .*;                 \\/\\/ OPTIMIZE \\[0\\.001, 0\\.999\\]$/constexpr double K_H = 0.5221446968866886;                 \\/\\/ OPTIMIZE [0.001, 0.999]/' -e 's/^constexpr short PURCHASE_TURN_LIMIT = .*;  \\/\\/ OPTIMIZE \\[750, 900\\]$/constexpr short PURCHASE_TURN_LIMIT = 814;  \\/\\/ OPTIMIZE [750, 900]/'\n",
      "g++ 1_main.cpp -std=gnu++17 -O2 -DONLINE_JUDGE -o 1_main.cpp.out 2> /dev/null\n"
     ]
    },
    {
     "name": "stderr",
     "output_type": "stream",
     "text": [
      "\u001b[32m[I 2021-09-09 20:04:36,309]\u001b[0m Trial 49 finished with value: 728215220.0 and parameters: {'K_START': 0.05037009292393744, 'K_END': 0.039691929998585854, 'K_H': 0.5221446968866886, 'PURCHASE_TURN_LIMIT': 814}. Best is trial 37 with value: 845172945.0.\u001b[0m\n"
     ]
    },
    {
     "name": "stdout",
     "output_type": "stream",
     "text": [
      "callback ok\n",
      "index_parallel=2\n",
      "sed -i 2_main.cpp -e 's/^constexpr double K_START = .*;            \\/\\/ OPTIMIZE \\[0\\.02, 0\\.10\\] LOG$/constexpr double K_START = 0.05341799539103641;            \\/\\/ OPTIMIZE [0.02, 0.10] LOG/' -e 's/^constexpr double K_END = .*;              \\/\\/ OPTIMIZE \\[0\\.005, 0\\.04\\] LOG$/constexpr double K_END = 0.009357996620294675;              \\/\\/ OPTIMIZE [0.005, 0.04] LOG/' -e 's/^constexpr double K_H = .*;                 \\/\\/ OPTIMIZE \\[0\\.001, 0\\.999\\]$/constexpr double K_H = 0.9023372798724603;                 \\/\\/ OPTIMIZE [0.001, 0.999]/' -e 's/^constexpr short PURCHASE_TURN_LIMIT = .*;  \\/\\/ OPTIMIZE \\[750, 900\\]$/constexpr short PURCHASE_TURN_LIMIT = 781;  \\/\\/ OPTIMIZE [750, 900]/'\n",
      "g++ 2_main.cpp -std=gnu++17 -O2 -DONLINE_JUDGE -o 2_main.cpp.out 2> /dev/null\n"
     ]
    },
    {
     "name": "stderr",
     "output_type": "stream",
     "text": [
      "\u001b[32m[I 2021-09-09 20:07:54,008]\u001b[0m Trial 50 finished with value: 655533561.0 and parameters: {'K_START': 0.05341799539103641, 'K_END': 0.009357996620294675, 'K_H': 0.9023372798724603, 'PURCHASE_TURN_LIMIT': 781}. Best is trial 37 with value: 845172945.0.\u001b[0m\n"
     ]
    },
    {
     "name": "stdout",
     "output_type": "stream",
     "text": [
      "callback ok\n",
      "index_parallel=3\n",
      "sed -i 3_main.cpp -e 's/^constexpr double K_START = .*;            \\/\\/ OPTIMIZE \\[0\\.02, 0\\.10\\] LOG$/constexpr double K_START = 0.041743273790639725;            \\/\\/ OPTIMIZE [0.02, 0.10] LOG/' -e 's/^constexpr double K_END = .*;              \\/\\/ OPTIMIZE \\[0\\.005, 0\\.04\\] LOG$/constexpr double K_END = 0.031128335400749794;              \\/\\/ OPTIMIZE [0.005, 0.04] LOG/' -e 's/^constexpr double K_H = .*;                 \\/\\/ OPTIMIZE \\[0\\.001, 0\\.999\\]$/constexpr double K_H = 0.6082759289399862;                 \\/\\/ OPTIMIZE [0.001, 0.999]/' -e 's/^constexpr short PURCHASE_TURN_LIMIT = .*;  \\/\\/ OPTIMIZE \\[750, 900\\]$/constexpr short PURCHASE_TURN_LIMIT = 829;  \\/\\/ OPTIMIZE [750, 900]/'\n",
      "g++ 3_main.cpp -std=gnu++17 -O2 -DONLINE_JUDGE -o 3_main.cpp.out 2> /dev/null\n"
     ]
    },
    {
     "name": "stderr",
     "output_type": "stream",
     "text": [
      "\u001b[32m[I 2021-09-09 20:11:33,803]\u001b[0m Trial 51 finished with value: 835095905.0 and parameters: {'K_START': 0.041743273790639725, 'K_END': 0.031128335400749794, 'K_H': 0.6082759289399862, 'PURCHASE_TURN_LIMIT': 829}. Best is trial 37 with value: 845172945.0.\u001b[0m\n"
     ]
    },
    {
     "name": "stdout",
     "output_type": "stream",
     "text": [
      "callback ok\n",
      "index_parallel=4\n",
      "sed -i 4_main.cpp -e 's/^constexpr double K_START = .*;            \\/\\/ OPTIMIZE \\[0\\.02, 0\\.10\\] LOG$/constexpr double K_START = 0.04242555015494297;            \\/\\/ OPTIMIZE [0.02, 0.10] LOG/' -e 's/^constexpr double K_END = .*;              \\/\\/ OPTIMIZE \\[0\\.005, 0\\.04\\] LOG$/constexpr double K_END = 0.032862300284925476;              \\/\\/ OPTIMIZE [0.005, 0.04] LOG/' -e 's/^constexpr double K_H = .*;                 \\/\\/ OPTIMIZE \\[0\\.001, 0\\.999\\]$/constexpr double K_H = 0.6952929950736704;                 \\/\\/ OPTIMIZE [0.001, 0.999]/' -e 's/^constexpr short PURCHASE_TURN_LIMIT = .*;  \\/\\/ OPTIMIZE \\[750, 900\\]$/constexpr short PURCHASE_TURN_LIMIT = 842;  \\/\\/ OPTIMIZE [750, 900]/'\n",
      "g++ 4_main.cpp -std=gnu++17 -O2 -DONLINE_JUDGE -o 4_main.cpp.out 2> /dev/null\n"
     ]
    },
    {
     "name": "stderr",
     "output_type": "stream",
     "text": [
      "\u001b[32m[I 2021-09-09 20:15:12,132]\u001b[0m Trial 52 finished with value: 840122447.0 and parameters: {'K_START': 0.04242555015494297, 'K_END': 0.032862300284925476, 'K_H': 0.6952929950736704, 'PURCHASE_TURN_LIMIT': 842}. Best is trial 37 with value: 845172945.0.\u001b[0m\n"
     ]
    },
    {
     "name": "stdout",
     "output_type": "stream",
     "text": [
      "callback ok\n",
      "index_parallel=5\n",
      "sed -i 5_main.cpp -e 's/^constexpr double K_START = .*;            \\/\\/ OPTIMIZE \\[0\\.02, 0\\.10\\] LOG$/constexpr double K_START = 0.04686130776928268;            \\/\\/ OPTIMIZE [0.02, 0.10] LOG/' -e 's/^constexpr double K_END = .*;              \\/\\/ OPTIMIZE \\[0\\.005, 0\\.04\\] LOG$/constexpr double K_END = 0.03988377534227284;              \\/\\/ OPTIMIZE [0.005, 0.04] LOG/' -e 's/^constexpr double K_H = .*;                 \\/\\/ OPTIMIZE \\[0\\.001, 0\\.999\\]$/constexpr double K_H = 0.7564364990336571;                 \\/\\/ OPTIMIZE [0.001, 0.999]/' -e 's/^constexpr short PURCHASE_TURN_LIMIT = .*;  \\/\\/ OPTIMIZE \\[750, 900\\]$/constexpr short PURCHASE_TURN_LIMIT = 829;  \\/\\/ OPTIMIZE [750, 900]/'\n",
      "g++ 5_main.cpp -std=gnu++17 -O2 -DONLINE_JUDGE -o 5_main.cpp.out 2> /dev/null\n"
     ]
    },
    {
     "name": "stderr",
     "output_type": "stream",
     "text": [
      "\u001b[32m[I 2021-09-09 20:18:50,109]\u001b[0m Trial 53 finished with value: 846407645.0 and parameters: {'K_START': 0.04686130776928268, 'K_END': 0.03988377534227284, 'K_H': 0.7564364990336571, 'PURCHASE_TURN_LIMIT': 829}. Best is trial 53 with value: 846407645.0.\u001b[0m\n"
     ]
    },
    {
     "name": "stdout",
     "output_type": "stream",
     "text": [
      "Updated! 846407645.0\n",
      "callback ok\n",
      "index_parallel=6\n",
      "sed -i 6_main.cpp -e 's/^constexpr double K_START = .*;            \\/\\/ OPTIMIZE \\[0\\.02, 0\\.10\\] LOG$/constexpr double K_START = 0.0466460998963371;            \\/\\/ OPTIMIZE [0.02, 0.10] LOG/' -e 's/^constexpr double K_END = .*;              \\/\\/ OPTIMIZE \\[0\\.005, 0\\.04\\] LOG$/constexpr double K_END = 0.03698974062860742;              \\/\\/ OPTIMIZE [0.005, 0.04] LOG/' -e 's/^constexpr double K_H = .*;                 \\/\\/ OPTIMIZE \\[0\\.001, 0\\.999\\]$/constexpr double K_H = 0.7545997289035377;                 \\/\\/ OPTIMIZE [0.001, 0.999]/' -e 's/^constexpr short PURCHASE_TURN_LIMIT = .*;  \\/\\/ OPTIMIZE \\[750, 900\\]$/constexpr short PURCHASE_TURN_LIMIT = 848;  \\/\\/ OPTIMIZE [750, 900]/'\n",
      "g++ 6_main.cpp -std=gnu++17 -O2 -DONLINE_JUDGE -o 6_main.cpp.out 2> /dev/null\n"
     ]
    },
    {
     "name": "stderr",
     "output_type": "stream",
     "text": [
      "\u001b[32m[I 2021-09-09 20:22:27,863]\u001b[0m Trial 54 finished with value: 847527544.0 and parameters: {'K_START': 0.0466460998963371, 'K_END': 0.03698974062860742, 'K_H': 0.7545997289035377, 'PURCHASE_TURN_LIMIT': 848}. Best is trial 54 with value: 847527544.0.\u001b[0m\n"
     ]
    },
    {
     "name": "stdout",
     "output_type": "stream",
     "text": [
      "Updated! 847527544.0\n",
      "callback ok\n",
      "index_parallel=7\n",
      "sed -i 7_main.cpp -e 's/^constexpr double K_START = .*;            \\/\\/ OPTIMIZE \\[0\\.02, 0\\.10\\] LOG$/constexpr double K_START = 0.0382618608851512;            \\/\\/ OPTIMIZE [0.02, 0.10] LOG/' -e 's/^constexpr double K_END = .*;              \\/\\/ OPTIMIZE \\[0\\.005, 0\\.04\\] LOG$/constexpr double K_END = 0.019972103905918307;              \\/\\/ OPTIMIZE [0.005, 0.04] LOG/' -e 's/^constexpr double K_H = .*;                 \\/\\/ OPTIMIZE \\[0\\.001, 0\\.999\\]$/constexpr double K_H = 0.7556281917154819;                 \\/\\/ OPTIMIZE [0.001, 0.999]/' -e 's/^constexpr short PURCHASE_TURN_LIMIT = .*;  \\/\\/ OPTIMIZE \\[750, 900\\]$/constexpr short PURCHASE_TURN_LIMIT = 851;  \\/\\/ OPTIMIZE [750, 900]/'\n",
      "g++ 7_main.cpp -std=gnu++17 -O2 -DONLINE_JUDGE -o 7_main.cpp.out 2> /dev/null\n"
     ]
    },
    {
     "name": "stderr",
     "output_type": "stream",
     "text": [
      "\u001b[32m[I 2021-09-09 20:25:52,479]\u001b[0m Trial 55 finished with value: 791330637.0 and parameters: {'K_START': 0.0382618608851512, 'K_END': 0.019972103905918307, 'K_H': 0.7556281917154819, 'PURCHASE_TURN_LIMIT': 851}. Best is trial 54 with value: 847527544.0.\u001b[0m\n"
     ]
    },
    {
     "name": "stdout",
     "output_type": "stream",
     "text": [
      "callback ok\n",
      "index_parallel=8\n",
      "sed -i 8_main.cpp -e 's/^constexpr double K_START = .*;            \\/\\/ OPTIMIZE \\[0\\.02, 0\\.10\\] LOG$/constexpr double K_START = 0.056820300826639206;            \\/\\/ OPTIMIZE [0.02, 0.10] LOG/' -e 's/^constexpr double K_END = .*;              \\/\\/ OPTIMIZE \\[0\\.005, 0\\.04\\] LOG$/constexpr double K_END = 0.0363721028316352;              \\/\\/ OPTIMIZE [0.005, 0.04] LOG/' -e 's/^constexpr double K_H = .*;                 \\/\\/ OPTIMIZE \\[0\\.001, 0\\.999\\]$/constexpr double K_H = 0.7449768605759084;                 \\/\\/ OPTIMIZE [0.001, 0.999]/' -e 's/^constexpr short PURCHASE_TURN_LIMIT = .*;  \\/\\/ OPTIMIZE \\[750, 900\\]$/constexpr short PURCHASE_TURN_LIMIT = 846;  \\/\\/ OPTIMIZE [750, 900]/'\n",
      "g++ 8_main.cpp -std=gnu++17 -O2 -DONLINE_JUDGE -o 8_main.cpp.out 2> /dev/null\n"
     ]
    },
    {
     "name": "stderr",
     "output_type": "stream",
     "text": [
      "\u001b[32m[I 2021-09-09 20:29:19,864]\u001b[0m Trial 56 finished with value: 818196832.0 and parameters: {'K_START': 0.056820300826639206, 'K_END': 0.0363721028316352, 'K_H': 0.7449768605759084, 'PURCHASE_TURN_LIMIT': 846}. Best is trial 54 with value: 847527544.0.\u001b[0m\n"
     ]
    },
    {
     "name": "stdout",
     "output_type": "stream",
     "text": [
      "callback ok\n",
      "index_parallel=9\n",
      "sed -i 9_main.cpp -e 's/^constexpr double K_START = .*;            \\/\\/ OPTIMIZE \\[0\\.02, 0\\.10\\] LOG$/constexpr double K_START = 0.04791443623149954;            \\/\\/ OPTIMIZE [0.02, 0.10] LOG/' -e 's/^constexpr double K_END = .*;              \\/\\/ OPTIMIZE \\[0\\.005, 0\\.04\\] LOG$/constexpr double K_END = 0.02941282732959385;              \\/\\/ OPTIMIZE [0.005, 0.04] LOG/' -e 's/^constexpr double K_H = .*;                 \\/\\/ OPTIMIZE \\[0\\.001, 0\\.999\\]$/constexpr double K_H = 0.7967248171507444;                 \\/\\/ OPTIMIZE [0.001, 0.999]/' -e 's/^constexpr short PURCHASE_TURN_LIMIT = .*;  \\/\\/ OPTIMIZE \\[750, 900\\]$/constexpr short PURCHASE_TURN_LIMIT = 792;  \\/\\/ OPTIMIZE [750, 900]/'\n",
      "g++ 9_main.cpp -std=gnu++17 -O2 -DONLINE_JUDGE -o 9_main.cpp.out 2> /dev/null\n"
     ]
    },
    {
     "name": "stderr",
     "output_type": "stream",
     "text": [
      "\u001b[32m[I 2021-09-09 20:32:33,914]\u001b[0m Trial 57 finished with value: 805403510.0 and parameters: {'K_START': 0.04791443623149954, 'K_END': 0.02941282732959385, 'K_H': 0.7967248171507444, 'PURCHASE_TURN_LIMIT': 792}. Best is trial 54 with value: 847527544.0.\u001b[0m\n"
     ]
    },
    {
     "name": "stdout",
     "output_type": "stream",
     "text": [
      "callback ok\n",
      "index_parallel=10\n",
      "sed -i 10_main.cpp -e 's/^constexpr double K_START = .*;            \\/\\/ OPTIMIZE \\[0\\.02, 0\\.10\\] LOG$/constexpr double K_START = 0.04003030854550625;            \\/\\/ OPTIMIZE [0.02, 0.10] LOG/' -e 's/^constexpr double K_END = .*;              \\/\\/ OPTIMIZE \\[0\\.005, 0\\.04\\] LOG$/constexpr double K_END = 0.01357004686173741;              \\/\\/ OPTIMIZE [0.005, 0.04] LOG/' -e 's/^constexpr double K_H = .*;                 \\/\\/ OPTIMIZE \\[0\\.001, 0\\.999\\]$/constexpr double K_H = 0.9151519903209601;                 \\/\\/ OPTIMIZE [0.001, 0.999]/' -e 's/^constexpr short PURCHASE_TURN_LIMIT = .*;  \\/\\/ OPTIMIZE \\[750, 900\\]$/constexpr short PURCHASE_TURN_LIMIT = 818;  \\/\\/ OPTIMIZE [750, 900]/'\n",
      "g++ 10_main.cpp -std=gnu++17 -O2 -DONLINE_JUDGE -o 10_main.cpp.out 2> /dev/null\n"
     ]
    },
    {
     "name": "stderr",
     "output_type": "stream",
     "text": [
      "\u001b[32m[I 2021-09-09 20:35:42,580]\u001b[0m Trial 58 finished with value: 734359746.0 and parameters: {'K_START': 0.04003030854550625, 'K_END': 0.01357004686173741, 'K_H': 0.9151519903209601, 'PURCHASE_TURN_LIMIT': 818}. Best is trial 54 with value: 847527544.0.\u001b[0m\n"
     ]
    },
    {
     "name": "stdout",
     "output_type": "stream",
     "text": [
      "callback ok\n",
      "index_parallel=11\n",
      "sed -i 11_main.cpp -e 's/^constexpr double K_START = .*;            \\/\\/ OPTIMIZE \\[0\\.02, 0\\.10\\] LOG$/constexpr double K_START = 0.09233083245710752;            \\/\\/ OPTIMIZE [0.02, 0.10] LOG/' -e 's/^constexpr double K_END = .*;              \\/\\/ OPTIMIZE \\[0\\.005, 0\\.04\\] LOG$/constexpr double K_END = 0.01511230495134349;              \\/\\/ OPTIMIZE [0.005, 0.04] LOG/' -e 's/^constexpr double K_H = .*;                 \\/\\/ OPTIMIZE \\[0\\.001, 0\\.999\\]$/constexpr double K_H = 0.8767136294450842;                 \\/\\/ OPTIMIZE [0.001, 0.999]/' -e 's/^constexpr short PURCHASE_TURN_LIMIT = .*;  \\/\\/ OPTIMIZE \\[750, 900\\]$/constexpr short PURCHASE_TURN_LIMIT = 803;  \\/\\/ OPTIMIZE [750, 900]/'\n",
      "g++ 11_main.cpp -std=gnu++17 -O2 -DONLINE_JUDGE -o 11_main.cpp.out 2> /dev/null\n"
     ]
    },
    {
     "name": "stderr",
     "output_type": "stream",
     "text": [
      "\u001b[32m[I 2021-09-09 20:38:52,979]\u001b[0m Trial 59 finished with value: 755514843.0 and parameters: {'K_START': 0.09233083245710752, 'K_END': 0.01511230495134349, 'K_H': 0.8767136294450842, 'PURCHASE_TURN_LIMIT': 803}. Best is trial 54 with value: 847527544.0.\u001b[0m\n"
     ]
    },
    {
     "name": "stdout",
     "output_type": "stream",
     "text": [
      "callback ok\n",
      "index_parallel=0\n",
      "sed -i 0_main.cpp -e 's/^constexpr double K_START = .*;            \\/\\/ OPTIMIZE \\[0\\.02, 0\\.10\\] LOG$/constexpr double K_START = 0.03466997660271959;            \\/\\/ OPTIMIZE [0.02, 0.10] LOG/' -e 's/^constexpr double K_END = .*;              \\/\\/ OPTIMIZE \\[0\\.005, 0\\.04\\] LOG$/constexpr double K_END = 0.02409034368519931;              \\/\\/ OPTIMIZE [0.005, 0.04] LOG/' -e 's/^constexpr double K_H = .*;                 \\/\\/ OPTIMIZE \\[0\\.001, 0\\.999\\]$/constexpr double K_H = 0.6610745148591279;                 \\/\\/ OPTIMIZE [0.001, 0.999]/' -e 's/^constexpr short PURCHASE_TURN_LIMIT = .*;  \\/\\/ OPTIMIZE \\[750, 900\\]$/constexpr short PURCHASE_TURN_LIMIT = 811;  \\/\\/ OPTIMIZE [750, 900]/'\n",
      "g++ 0_main.cpp -std=gnu++17 -O2 -DONLINE_JUDGE -o 0_main.cpp.out 2> /dev/null\n"
     ]
    },
    {
     "name": "stderr",
     "output_type": "stream",
     "text": [
      "\u001b[32m[I 2021-09-09 20:42:12,070]\u001b[0m Trial 60 finished with value: 800383382.0 and parameters: {'K_START': 0.03466997660271959, 'K_END': 0.02409034368519931, 'K_H': 0.6610745148591279, 'PURCHASE_TURN_LIMIT': 811}. Best is trial 54 with value: 847527544.0.\u001b[0m\n"
     ]
    },
    {
     "name": "stdout",
     "output_type": "stream",
     "text": [
      "callback ok\n",
      "index_parallel=1\n",
      "sed -i 1_main.cpp -e 's/^constexpr double K_START = .*;            \\/\\/ OPTIMIZE \\[0\\.02, 0\\.10\\] LOG$/constexpr double K_START = 0.0459085635746951;            \\/\\/ OPTIMIZE [0.02, 0.10] LOG/' -e 's/^constexpr double K_END = .*;              \\/\\/ OPTIMIZE \\[0\\.005, 0\\.04\\] LOG$/constexpr double K_END = 0.03972635931172601;              \\/\\/ OPTIMIZE [0.005, 0.04] LOG/' -e 's/^constexpr double K_H = .*;                 \\/\\/ OPTIMIZE \\[0\\.001, 0\\.999\\]$/constexpr double K_H = 0.7802973321285052;                 \\/\\/ OPTIMIZE [0.001, 0.999]/' -e 's/^constexpr short PURCHASE_TURN_LIMIT = .*;  \\/\\/ OPTIMIZE \\[750, 900\\]$/constexpr short PURCHASE_TURN_LIMIT = 834;  \\/\\/ OPTIMIZE [750, 900]/'\n",
      "g++ 1_main.cpp -std=gnu++17 -O2 -DONLINE_JUDGE -o 1_main.cpp.out 2> /dev/null\n"
     ]
    },
    {
     "name": "stderr",
     "output_type": "stream",
     "text": [
      "\u001b[32m[I 2021-09-09 20:45:44,802]\u001b[0m Trial 61 finished with value: 851679490.0 and parameters: {'K_START': 0.0459085635746951, 'K_END': 0.03972635931172601, 'K_H': 0.7802973321285052, 'PURCHASE_TURN_LIMIT': 834}. Best is trial 61 with value: 851679490.0.\u001b[0m\n"
     ]
    },
    {
     "name": "stdout",
     "output_type": "stream",
     "text": [
      "Updated! 851679490.0\n",
      "callback ok\n",
      "index_parallel=2\n",
      "sed -i 2_main.cpp -e 's/^constexpr double K_START = .*;            \\/\\/ OPTIMIZE \\[0\\.02, 0\\.10\\] LOG$/constexpr double K_START = 0.04615449118987759;            \\/\\/ OPTIMIZE [0.02, 0.10] LOG/' -e 's/^constexpr double K_END = .*;              \\/\\/ OPTIMIZE \\[0\\.005, 0\\.04\\] LOG$/constexpr double K_END = 0.03600687157897227;              \\/\\/ OPTIMIZE [0.005, 0.04] LOG/' -e 's/^constexpr double K_H = .*;                 \\/\\/ OPTIMIZE \\[0\\.001, 0\\.999\\]$/constexpr double K_H = 0.7697579296613748;                 \\/\\/ OPTIMIZE [0.001, 0.999]/' -e 's/^constexpr short PURCHASE_TURN_LIMIT = .*;  \\/\\/ OPTIMIZE \\[750, 900\\]$/constexpr short PURCHASE_TURN_LIMIT = 837;  \\/\\/ OPTIMIZE [750, 900]/'\n",
      "g++ 2_main.cpp -std=gnu++17 -O2 -DONLINE_JUDGE -o 2_main.cpp.out 2> /dev/null\n"
     ]
    },
    {
     "name": "stderr",
     "output_type": "stream",
     "text": [
      "\u001b[32m[I 2021-09-09 20:49:17,439]\u001b[0m Trial 62 finished with value: 845050010.0 and parameters: {'K_START': 0.04615449118987759, 'K_END': 0.03600687157897227, 'K_H': 0.7697579296613748, 'PURCHASE_TURN_LIMIT': 837}. Best is trial 61 with value: 851679490.0.\u001b[0m\n"
     ]
    },
    {
     "name": "stdout",
     "output_type": "stream",
     "text": [
      "callback ok\n",
      "index_parallel=3\n",
      "sed -i 3_main.cpp -e 's/^constexpr double K_START = .*;            \\/\\/ OPTIMIZE \\[0\\.02, 0\\.10\\] LOG$/constexpr double K_START = 0.04676001422862075;            \\/\\/ OPTIMIZE [0.02, 0.10] LOG/' -e 's/^constexpr double K_END = .*;              \\/\\/ OPTIMIZE \\[0\\.005, 0\\.04\\] LOG$/constexpr double K_END = 0.03358900970852775;              \\/\\/ OPTIMIZE [0.005, 0.04] LOG/' -e 's/^constexpr double K_H = .*;                 \\/\\/ OPTIMIZE \\[0\\.001, 0\\.999\\]$/constexpr double K_H = 0.8135112611823407;                 \\/\\/ OPTIMIZE [0.001, 0.999]/' -e 's/^constexpr short PURCHASE_TURN_LIMIT = .*;  \\/\\/ OPTIMIZE \\[750, 900\\]$/constexpr short PURCHASE_TURN_LIMIT = 838;  \\/\\/ OPTIMIZE [750, 900]/'\n",
      "g++ 3_main.cpp -std=gnu++17 -O2 -DONLINE_JUDGE -o 3_main.cpp.out 2> /dev/null\n"
     ]
    },
    {
     "name": "stderr",
     "output_type": "stream",
     "text": [
      "\u001b[32m[I 2021-09-09 20:52:51,650]\u001b[0m Trial 63 finished with value: 841364100.0 and parameters: {'K_START': 0.04676001422862075, 'K_END': 0.03358900970852775, 'K_H': 0.8135112611823407, 'PURCHASE_TURN_LIMIT': 838}. Best is trial 61 with value: 851679490.0.\u001b[0m\n"
     ]
    },
    {
     "name": "stdout",
     "output_type": "stream",
     "text": [
      "callback ok\n",
      "index_parallel=4\n",
      "sed -i 4_main.cpp -e 's/^constexpr double K_START = .*;            \\/\\/ OPTIMIZE \\[0\\.02, 0\\.10\\] LOG$/constexpr double K_START = 0.058828280346923036;            \\/\\/ OPTIMIZE [0.02, 0.10] LOG/' -e 's/^constexpr double K_END = .*;              \\/\\/ OPTIMIZE \\[0\\.005, 0\\.04\\] LOG$/constexpr double K_END = 0.03618944286610014;              \\/\\/ OPTIMIZE [0.005, 0.04] LOG/' -e 's/^constexpr double K_H = .*;                 \\/\\/ OPTIMIZE \\[0\\.001, 0\\.999\\]$/constexpr double K_H = 0.7153467284981987;                 \\/\\/ OPTIMIZE [0.001, 0.999]/' -e 's/^constexpr short PURCHASE_TURN_LIMIT = .*;  \\/\\/ OPTIMIZE \\[750, 900\\]$/constexpr short PURCHASE_TURN_LIMIT = 849;  \\/\\/ OPTIMIZE [750, 900]/'\n",
      "g++ 4_main.cpp -std=gnu++17 -O2 -DONLINE_JUDGE -o 4_main.cpp.out 2> /dev/null\n"
     ]
    },
    {
     "name": "stderr",
     "output_type": "stream",
     "text": [
      "\u001b[32m[I 2021-09-09 20:56:39,869]\u001b[0m Trial 64 finished with value: 770012242.0 and parameters: {'K_START': 0.058828280346923036, 'K_END': 0.03618944286610014, 'K_H': 0.7153467284981987, 'PURCHASE_TURN_LIMIT': 849}. Best is trial 61 with value: 851679490.0.\u001b[0m\n"
     ]
    },
    {
     "name": "stdout",
     "output_type": "stream",
     "text": [
      "callback ok\n",
      "index_parallel=5\n",
      "sed -i 5_main.cpp -e 's/^constexpr double K_START = .*;            \\/\\/ OPTIMIZE \\[0\\.02, 0\\.10\\] LOG$/constexpr double K_START = 0.05046190715058047;            \\/\\/ OPTIMIZE [0.02, 0.10] LOG/' -e 's/^constexpr double K_END = .*;              \\/\\/ OPTIMIZE \\[0\\.005, 0\\.04\\] LOG$/constexpr double K_END = 0.037058285231767844;              \\/\\/ OPTIMIZE [0.005, 0.04] LOG/' -e 's/^constexpr double K_H = .*;                 \\/\\/ OPTIMIZE \\[0\\.001, 0\\.999\\]$/constexpr double K_H = 0.7362504203269352;                 \\/\\/ OPTIMIZE [0.001, 0.999]/' -e 's/^constexpr short PURCHASE_TURN_LIMIT = .*;  \\/\\/ OPTIMIZE \\[750, 900\\]$/constexpr short PURCHASE_TURN_LIMIT = 857;  \\/\\/ OPTIMIZE [750, 900]/'\n",
      "g++ 5_main.cpp -std=gnu++17 -O2 -DONLINE_JUDGE -o 5_main.cpp.out 2> /dev/null\n",
      "^C\n"
     ]
    },
    {
     "name": "stderr",
     "output_type": "stream",
     "text": [
      "\u001b[32m[I 2021-09-09 20:56:57,503]\u001b[0m Trial 65 finished with value: 49834987.0 and parameters: {'K_START': 0.05046190715058047, 'K_END': 0.037058285231767844, 'K_H': 0.7362504203269352, 'PURCHASE_TURN_LIMIT': 857}. Best is trial 61 with value: 851679490.0.\u001b[0m\n"
     ]
    },
    {
     "name": "stdout",
     "output_type": "stream",
     "text": [
      "callback ok\n",
      "index_parallel=6\n",
      "sed -i 6_main.cpp -e 's/^constexpr double K_START = .*;            \\/\\/ OPTIMIZE \\[0\\.02, 0\\.10\\] LOG$/constexpr double K_START = 0.05305699385115308;            \\/\\/ OPTIMIZE [0.02, 0.10] LOG/' -e 's/^constexpr double K_END = .*;              \\/\\/ OPTIMIZE \\[0\\.005, 0\\.04\\] LOG$/constexpr double K_END = 0.03149727288732441;              \\/\\/ OPTIMIZE [0.005, 0.04] LOG/' -e 's/^constexpr double K_H = .*;                 \\/\\/ OPTIMIZE \\[0\\.001, 0\\.999\\]$/constexpr double K_H = 0.6914254216550436;                 \\/\\/ OPTIMIZE [0.001, 0.999]/' -e 's/^constexpr short PURCHASE_TURN_LIMIT = .*;  \\/\\/ OPTIMIZE \\[750, 900\\]$/constexpr short PURCHASE_TURN_LIMIT = 843;  \\/\\/ OPTIMIZE [750, 900]/'\n",
      "g++ 6_main.cpp -std=gnu++17 -O2 -DONLINE_JUDGE -o 6_main.cpp.out 2> /dev/null\n",
      "^C\n"
     ]
    },
    {
     "name": "stderr",
     "output_type": "stream",
     "text": [
      "\u001b[33m[W 2021-09-09 20:57:01,489]\u001b[0m Trial 66 failed because of the following error: FileNotFoundError(2, 'No such file or directory')\u001b[0m\n",
      "Traceback (most recent call last):\n",
      "  File \"/home/nagis/anaconda3/lib/python3.8/site-packages/optuna/study/_optimize.py\", line 213, in _run_trial\n",
      "    value_or_values = func(trial)\n",
      "  File \"<ipython-input-23-57aee6406012>\", line 60, in objective_with_index\n",
      "    with open(file_path) as f:\n",
      "FileNotFoundError: [Errno 2] No such file or directory: 'find: ‘./6_score/*’: No such file or directory'\n"
     ]
    },
    {
     "ename": "FileNotFoundError",
     "evalue": "[Errno 2] No such file or directory: 'find: ‘./6_score/*’: No such file or directory'",
     "output_type": "error",
     "traceback": [
      "\u001b[0;31m---------------------------------------------------------------------------\u001b[0m",
      "\u001b[0;31mFileNotFoundError\u001b[0m                         Traceback (most recent call last)",
      "\u001b[0;32m<ipython-input-24-19230d185156>\u001b[0m in \u001b[0;36m<module>\u001b[0;34m\u001b[0m\n\u001b[1;32m     16\u001b[0m \u001b[0;34m\u001b[0m\u001b[0m\n\u001b[1;32m     17\u001b[0m \u001b[0mobjective\u001b[0m \u001b[0;34m=\u001b[0m \u001b[0mpartial\u001b[0m\u001b[0;34m(\u001b[0m\u001b[0mobjective_with_index\u001b[0m\u001b[0;34m,\u001b[0m \u001b[0mn_internal_parallel\u001b[0m\u001b[0;34m=\u001b[0m\u001b[0;36m4\u001b[0m\u001b[0;34m)\u001b[0m\u001b[0;34m\u001b[0m\u001b[0;34m\u001b[0m\u001b[0m\n\u001b[0;32m---> 18\u001b[0;31m \u001b[0mstudy\u001b[0m\u001b[0;34m.\u001b[0m\u001b[0moptimize\u001b[0m\u001b[0;34m(\u001b[0m\u001b[0mobjective\u001b[0m\u001b[0;34m,\u001b[0m \u001b[0mn_trials\u001b[0m\u001b[0;34m=\u001b[0m\u001b[0;36m3000\u001b[0m\u001b[0;34m,\u001b[0m \u001b[0mtimeout\u001b[0m\u001b[0;34m=\u001b[0m\u001b[0;36m86400\u001b[0m\u001b[0;34m,\u001b[0m \u001b[0mn_jobs\u001b[0m\u001b[0;34m=\u001b[0m\u001b[0;36m1\u001b[0m\u001b[0;34m,\u001b[0m \u001b[0mcallbacks\u001b[0m\u001b[0;34m=\u001b[0m\u001b[0;34m[\u001b[0m\u001b[0mcallback\u001b[0m\u001b[0;34m]\u001b[0m\u001b[0;34m)\u001b[0m\u001b[0;34m\u001b[0m\u001b[0;34m\u001b[0m\u001b[0m\n\u001b[0m",
      "\u001b[0;32m~/anaconda3/lib/python3.8/site-packages/optuna/study/study.py\u001b[0m in \u001b[0;36moptimize\u001b[0;34m(self, func, n_trials, timeout, n_jobs, catch, callbacks, gc_after_trial, show_progress_bar)\u001b[0m\n\u001b[1;32m    398\u001b[0m             )\n\u001b[1;32m    399\u001b[0m \u001b[0;34m\u001b[0m\u001b[0m\n\u001b[0;32m--> 400\u001b[0;31m         _optimize(\n\u001b[0m\u001b[1;32m    401\u001b[0m             \u001b[0mstudy\u001b[0m\u001b[0;34m=\u001b[0m\u001b[0mself\u001b[0m\u001b[0;34m,\u001b[0m\u001b[0;34m\u001b[0m\u001b[0;34m\u001b[0m\u001b[0m\n\u001b[1;32m    402\u001b[0m             \u001b[0mfunc\u001b[0m\u001b[0;34m=\u001b[0m\u001b[0mfunc\u001b[0m\u001b[0;34m,\u001b[0m\u001b[0;34m\u001b[0m\u001b[0;34m\u001b[0m\u001b[0m\n",
      "\u001b[0;32m~/anaconda3/lib/python3.8/site-packages/optuna/study/_optimize.py\u001b[0m in \u001b[0;36m_optimize\u001b[0;34m(study, func, n_trials, timeout, n_jobs, catch, callbacks, gc_after_trial, show_progress_bar)\u001b[0m\n\u001b[1;32m     64\u001b[0m     \u001b[0;32mtry\u001b[0m\u001b[0;34m:\u001b[0m\u001b[0;34m\u001b[0m\u001b[0;34m\u001b[0m\u001b[0m\n\u001b[1;32m     65\u001b[0m         \u001b[0;32mif\u001b[0m \u001b[0mn_jobs\u001b[0m \u001b[0;34m==\u001b[0m \u001b[0;36m1\u001b[0m\u001b[0;34m:\u001b[0m\u001b[0;34m\u001b[0m\u001b[0;34m\u001b[0m\u001b[0m\n\u001b[0;32m---> 66\u001b[0;31m             _optimize_sequential(\n\u001b[0m\u001b[1;32m     67\u001b[0m                 \u001b[0mstudy\u001b[0m\u001b[0;34m,\u001b[0m\u001b[0;34m\u001b[0m\u001b[0;34m\u001b[0m\u001b[0m\n\u001b[1;32m     68\u001b[0m                 \u001b[0mfunc\u001b[0m\u001b[0;34m,\u001b[0m\u001b[0;34m\u001b[0m\u001b[0;34m\u001b[0m\u001b[0m\n",
      "\u001b[0;32m~/anaconda3/lib/python3.8/site-packages/optuna/study/_optimize.py\u001b[0m in \u001b[0;36m_optimize_sequential\u001b[0;34m(study, func, n_trials, timeout, catch, callbacks, gc_after_trial, reseed_sampler_rng, time_start, progress_bar)\u001b[0m\n\u001b[1;32m    161\u001b[0m \u001b[0;34m\u001b[0m\u001b[0m\n\u001b[1;32m    162\u001b[0m         \u001b[0;32mtry\u001b[0m\u001b[0;34m:\u001b[0m\u001b[0;34m\u001b[0m\u001b[0;34m\u001b[0m\u001b[0m\n\u001b[0;32m--> 163\u001b[0;31m             \u001b[0mtrial\u001b[0m \u001b[0;34m=\u001b[0m \u001b[0m_run_trial\u001b[0m\u001b[0;34m(\u001b[0m\u001b[0mstudy\u001b[0m\u001b[0;34m,\u001b[0m \u001b[0mfunc\u001b[0m\u001b[0;34m,\u001b[0m \u001b[0mcatch\u001b[0m\u001b[0;34m)\u001b[0m\u001b[0;34m\u001b[0m\u001b[0;34m\u001b[0m\u001b[0m\n\u001b[0m\u001b[1;32m    164\u001b[0m         \u001b[0;32mexcept\u001b[0m \u001b[0mException\u001b[0m\u001b[0;34m:\u001b[0m\u001b[0;34m\u001b[0m\u001b[0;34m\u001b[0m\u001b[0m\n\u001b[1;32m    165\u001b[0m             \u001b[0;32mraise\u001b[0m\u001b[0;34m\u001b[0m\u001b[0;34m\u001b[0m\u001b[0m\n",
      "\u001b[0;32m~/anaconda3/lib/python3.8/site-packages/optuna/study/_optimize.py\u001b[0m in \u001b[0;36m_run_trial\u001b[0;34m(study, func, catch)\u001b[0m\n\u001b[1;32m    262\u001b[0m \u001b[0;34m\u001b[0m\u001b[0m\n\u001b[1;32m    263\u001b[0m     \u001b[0;32mif\u001b[0m \u001b[0mstate\u001b[0m \u001b[0;34m==\u001b[0m \u001b[0mTrialState\u001b[0m\u001b[0;34m.\u001b[0m\u001b[0mFAIL\u001b[0m \u001b[0;32mand\u001b[0m \u001b[0mfunc_err\u001b[0m \u001b[0;32mis\u001b[0m \u001b[0;32mnot\u001b[0m \u001b[0;32mNone\u001b[0m \u001b[0;32mand\u001b[0m \u001b[0;32mnot\u001b[0m \u001b[0misinstance\u001b[0m\u001b[0;34m(\u001b[0m\u001b[0mfunc_err\u001b[0m\u001b[0;34m,\u001b[0m \u001b[0mcatch\u001b[0m\u001b[0;34m)\u001b[0m\u001b[0;34m:\u001b[0m\u001b[0;34m\u001b[0m\u001b[0;34m\u001b[0m\u001b[0m\n\u001b[0;32m--> 264\u001b[0;31m         \u001b[0;32mraise\u001b[0m \u001b[0mfunc_err\u001b[0m\u001b[0;34m\u001b[0m\u001b[0;34m\u001b[0m\u001b[0m\n\u001b[0m\u001b[1;32m    265\u001b[0m     \u001b[0;32mreturn\u001b[0m \u001b[0mtrial\u001b[0m\u001b[0;34m\u001b[0m\u001b[0;34m\u001b[0m\u001b[0m\n\u001b[1;32m    266\u001b[0m \u001b[0;34m\u001b[0m\u001b[0m\n",
      "\u001b[0;32m~/anaconda3/lib/python3.8/site-packages/optuna/study/_optimize.py\u001b[0m in \u001b[0;36m_run_trial\u001b[0;34m(study, func, catch)\u001b[0m\n\u001b[1;32m    211\u001b[0m \u001b[0;34m\u001b[0m\u001b[0m\n\u001b[1;32m    212\u001b[0m     \u001b[0;32mtry\u001b[0m\u001b[0;34m:\u001b[0m\u001b[0;34m\u001b[0m\u001b[0;34m\u001b[0m\u001b[0m\n\u001b[0;32m--> 213\u001b[0;31m         \u001b[0mvalue_or_values\u001b[0m \u001b[0;34m=\u001b[0m \u001b[0mfunc\u001b[0m\u001b[0;34m(\u001b[0m\u001b[0mtrial\u001b[0m\u001b[0;34m)\u001b[0m\u001b[0;34m\u001b[0m\u001b[0;34m\u001b[0m\u001b[0m\n\u001b[0m\u001b[1;32m    214\u001b[0m     \u001b[0;32mexcept\u001b[0m \u001b[0mexceptions\u001b[0m\u001b[0;34m.\u001b[0m\u001b[0mTrialPruned\u001b[0m \u001b[0;32mas\u001b[0m \u001b[0me\u001b[0m\u001b[0;34m:\u001b[0m\u001b[0;34m\u001b[0m\u001b[0;34m\u001b[0m\u001b[0m\n\u001b[1;32m    215\u001b[0m         \u001b[0;31m# TODO(mamu): Handle multi-objective cases.\u001b[0m\u001b[0;34m\u001b[0m\u001b[0;34m\u001b[0m\u001b[0;34m\u001b[0m\u001b[0m\n",
      "\u001b[0;32m<ipython-input-23-57aee6406012>\u001b[0m in \u001b[0;36mobjective_with_index\u001b[0;34m(trial, n_internal_parallel)\u001b[0m\n\u001b[1;32m     58\u001b[0m     \u001b[0msum_score\u001b[0m \u001b[0;34m=\u001b[0m \u001b[0;36m0\u001b[0m\u001b[0;34m\u001b[0m\u001b[0;34m\u001b[0m\u001b[0m\n\u001b[1;32m     59\u001b[0m     \u001b[0;32mfor\u001b[0m \u001b[0mfile_path\u001b[0m \u001b[0;32min\u001b[0m \u001b[0mfile_paths\u001b[0m\u001b[0;34m:\u001b[0m\u001b[0;34m\u001b[0m\u001b[0;34m\u001b[0m\u001b[0m\n\u001b[0;32m---> 60\u001b[0;31m         \u001b[0;32mwith\u001b[0m \u001b[0mopen\u001b[0m\u001b[0;34m(\u001b[0m\u001b[0mfile_path\u001b[0m\u001b[0;34m)\u001b[0m \u001b[0;32mas\u001b[0m \u001b[0mf\u001b[0m\u001b[0;34m:\u001b[0m\u001b[0;34m\u001b[0m\u001b[0;34m\u001b[0m\u001b[0m\n\u001b[0m\u001b[1;32m     61\u001b[0m             \u001b[0msum_score\u001b[0m \u001b[0;34m+=\u001b[0m \u001b[0mint\u001b[0m\u001b[0;34m(\u001b[0m\u001b[0mf\u001b[0m\u001b[0;34m.\u001b[0m\u001b[0mread\u001b[0m\u001b[0;34m(\u001b[0m\u001b[0;34m)\u001b[0m\u001b[0;34m.\u001b[0m\u001b[0msplit\u001b[0m\u001b[0;34m(\u001b[0m\u001b[0;34m\":\"\u001b[0m\u001b[0;34m)\u001b[0m\u001b[0;34m[\u001b[0m\u001b[0;34m-\u001b[0m\u001b[0;36m1\u001b[0m\u001b[0;34m]\u001b[0m\u001b[0;34m)\u001b[0m\u001b[0;34m\u001b[0m\u001b[0;34m\u001b[0m\u001b[0m\n\u001b[1;32m     62\u001b[0m     \u001b[0;32mreturn\u001b[0m \u001b[0msum_score\u001b[0m\u001b[0;34m\u001b[0m\u001b[0;34m\u001b[0m\u001b[0m\n",
      "\u001b[0;31mFileNotFoundError\u001b[0m: [Errno 2] No such file or directory: 'find: ‘./6_score/*’: No such file or directory'"
     ]
    }
   ],
   "source": [
    "storage_path = f\"study.db\"\n",
    "storage = f\"sqlite:///{storage_path}\"\n",
    "study_name = \"study\"\n",
    "study = optuna.create_study(storage=storage, load_if_exists=True, study_name=study_name, direction=\"maximize\")\n",
    "\n",
    "def callback(study, trial):\n",
    "    try:\n",
    "        if study.best_value == trial.value:\n",
    "            print(f\"Updated! {study.best_value}\")\n",
    "            index_parallel = trial.number % 12\n",
    "            parameters_changed_filename = f\"{index_parallel}_{FILENAME}\"\n",
    "            !cp {parameters_changed_filename} 00000optimized.cpp\n",
    "        print(\"callback ok\")\n",
    "    except:\n",
    "        print(\":(\")\n",
    "\n",
    "objective = partial(objective_with_index, n_internal_parallel=4)\n",
    "study.optimize(objective, n_trials=3000, timeout=86400, n_jobs=1, callbacks=[callback])"
   ]
  },
  {
   "cell_type": "code",
   "execution_count": null,
   "id": "aff7abef",
   "metadata": {},
   "outputs": [],
   "source": []
  }
 ],
 "metadata": {
  "kernelspec": {
   "display_name": "Python 3",
   "language": "python",
   "name": "python3"
  },
  "language_info": {
   "codemirror_mode": {
    "name": "ipython",
    "version": 3
   },
   "file_extension": ".py",
   "mimetype": "text/x-python",
   "name": "python",
   "nbconvert_exporter": "python",
   "pygments_lexer": "ipython3",
   "version": "3.8.8"
  }
 },
 "nbformat": 4,
 "nbformat_minor": 5
}
