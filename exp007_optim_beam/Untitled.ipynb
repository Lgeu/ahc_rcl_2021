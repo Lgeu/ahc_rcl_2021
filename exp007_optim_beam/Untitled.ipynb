{
 "cells": [
  {
   "cell_type": "code",
   "execution_count": 1,
   "id": "a5e91e6e",
   "metadata": {},
   "outputs": [],
   "source": [
    "import re\n",
    "import sys\n",
    "from time import time, sleep\n",
    "from pprint import pprint\n",
    "from functools import partial\n",
    "from multiprocessing import Pool\n",
    "\n",
    "import numpy as np\n",
    "import pandas as pd\n",
    "import optuna\n",
    "import matplotlib.pyplot as plt\n",
    "\n",
    "FILENAME = \"main.cpp\""
   ]
  },
  {
   "cell_type": "code",
   "execution_count": 2,
   "id": "e5d21b8c",
   "metadata": {},
   "outputs": [],
   "source": [
    "!cp ../answer/main.cpp ./{FILENAME}"
   ]
  },
  {
   "cell_type": "code",
   "execution_count": 3,
   "id": "f5532702",
   "metadata": {
    "scrolled": true
   },
   "outputs": [
    {
     "name": "stdout",
     "output_type": "stream",
     "text": [
      "\u001b[01m\u001b[Kmain.cpp:49:\u001b[m\u001b[K \u001b[01;35m\u001b[Kwarning: \u001b[m\u001b[Kignoring #pragma clang attribute [\u001b[01;35m\u001b[K-Wunknown-pragmas\u001b[m\u001b[K]\n",
      "   49 | #pragma clang attribute push (__attribute__((target(\"arch=skylake\"))),apply_to=function)\n",
      "      | \n",
      "\u001b[01m\u001b[Kmain.cpp:1555:\u001b[m\u001b[K \u001b[01;35m\u001b[Kwarning: \u001b[m\u001b[Kignoring #pragma clang attribute [\u001b[01;35m\u001b[K-Wunknown-pragmas\u001b[m\u001b[K]\n",
      " 1555 | #pragma clang attribute pop\n",
      "      | \n",
      "\u001b[01m\u001b[Kmain.cpp:\u001b[m\u001b[K In function ‘\u001b[01m\u001b[Kvoid globals::UpdateValueTable()\u001b[m\u001b[K’:\n",
      "\u001b[01m\u001b[Kmain.cpp:860:15:\u001b[m\u001b[K \u001b[01;35m\u001b[Kwarning: \u001b[m\u001b[Kunused variable ‘\u001b[01m\u001b[Kvm\u001b[m\u001b[K’ [\u001b[01;35m\u001b[K-Wunused-variable\u001b[m\u001b[K]\n",
      "  860 |   const auto& \u001b[01;35m\u001b[Kvm\u001b[m\u001b[K = v_modified[idx_RCSEV];\n",
      "      |               \u001b[01;35m\u001b[K^~\u001b[m\u001b[K\n",
      "\u001b[01m\u001b[Kmain.cpp:\u001b[m\u001b[K In function ‘\u001b[01m\u001b[Kdouble beam_width_control::Schedule(const double&)\u001b[m\u001b[K’:\n",
      "\u001b[01m\u001b[Kmain.cpp:1248:38:\u001b[m\u001b[K \u001b[01;35m\u001b[Kwarning: \u001b[m\u001b[Kunused parameter ‘\u001b[01m\u001b[Kt\u001b[m\u001b[K’ [\u001b[01;35m\u001b[K-Wunused-parameter\u001b[m\u001b[K]\n",
      " 1248 | inline double Schedule(\u001b[01;35m\u001b[Kconst double& t\u001b[m\u001b[K) {\n",
      "      |                        \u001b[01;35m\u001b[K~~~~~~~~~~~~~~^\u001b[m\u001b[K\n",
      "\u001b[01m\u001b[Kmain.cpp:\u001b[m\u001b[K In function ‘\u001b[01m\u001b[Kvoid Solve()\u001b[m\u001b[K’:\n",
      "\u001b[01m\u001b[Kmain.cpp:1424:72:\u001b[m\u001b[K \u001b[01;35m\u001b[Kwarning: \u001b[m\u001b[Kmissing initializer for member ‘\u001b[01m\u001b[KSolve()::Node::action\u001b[m\u001b[K’ [\u001b[01;35m\u001b[K-Wmissing-field-initializers\u001b[m\u001b[K]\n",
      " 1424 |   node_buffer.push({ state_buffer[0].score, nullptr, &state_buffer[0] }\u001b[01;35m\u001b[K)\u001b[m\u001b[K;\n",
      "      |                                                                        \u001b[01;35m\u001b[K^\u001b[m\u001b[K\n",
      "main.cpp: In instantiation of ‘\u001b[01m\u001b[KHashMap<T, size, KeyType>::HashMap() [with T = double; int size = 1048576; KeyType = long long unsigned int]\u001b[m\u001b[K’:\n",
      "\u001b[01m\u001b[Kmain.cpp:535:26:\u001b[m\u001b[K   required from here\n",
      "\u001b[01m\u001b[Kmain.cpp:477:30:\u001b[m\u001b[K \u001b[01;35m\u001b[Kwarning: \u001b[m\u001b[Ksuggest parentheses around ‘\u001b[01m\u001b[K-\u001b[m\u001b[K’ in operand of ‘\u001b[01m\u001b[K&\u001b[m\u001b[K’ [\u001b[01;35m\u001b[K-Wparentheses\u001b[m\u001b[K]\n",
      "  477 |   static_assert((size & \u001b[01;35m\u001b[Ksize - 1\u001b[m\u001b[K) == 0, \"not pow of 2\");\n",
      "      |                         \u001b[01;35m\u001b[K~~~~~^~~\u001b[m\u001b[K\n",
      "\u001b[01m\u001b[Kmain.cpp:478:9:\u001b[m\u001b[K \u001b[01;35m\u001b[Kwarning: \u001b[m\u001b[K‘\u001b[01m\u001b[Kvoid* memset(void*, int, size_t)\u001b[m\u001b[K’ clearing an object of type ‘\u001b[01m\u001b[Kstd::array<std::pair<long long unsigned int, double>, 1048576>::value_type\u001b[m\u001b[K’ {aka ‘\u001b[01m\u001b[Kstruct std::pair<long long unsigned int, double>\u001b[m\u001b[K’} with no trivial copy-assignment; use assignment instead [\u001b[01;35m\u001b[K-Wclass-memaccess\u001b[m\u001b[K]\n",
      "  478 |   \u001b[01;35m\u001b[Kmemset(&data[0], 0, sizeof(data))\u001b[m\u001b[K;\n",
      "      |   \u001b[01;35m\u001b[K~~~~~~^~~~~~~~~~~~~~~~~~~~~~~~~~~\u001b[m\u001b[K\n",
      "In file included from \u001b[01m\u001b[K/usr/include/c++/9/bits/stl_algobase.h:64\u001b[m\u001b[K,\n",
      "                 from \u001b[01m\u001b[K/usr/include/c++/9/bits/char_traits.h:39\u001b[m\u001b[K,\n",
      "                 from \u001b[01m\u001b[K/usr/include/c++/9/ios:40\u001b[m\u001b[K,\n",
      "                 from \u001b[01m\u001b[K/usr/include/c++/9/ostream:38\u001b[m\u001b[K,\n",
      "                 from \u001b[01m\u001b[K/usr/include/c++/9/iostream:39\u001b[m\u001b[K,\n",
      "                 from \u001b[01m\u001b[Kmain.cpp:8\u001b[m\u001b[K:\n",
      "\u001b[01m\u001b[K/usr/include/c++/9/bits/stl_pair.h:208:12:\u001b[m\u001b[K \u001b[01;36m\u001b[Knote: \u001b[m\u001b[K‘\u001b[01m\u001b[Kstd::array<std::pair<long long unsigned int, double>, 1048576>::value_type\u001b[m\u001b[K’ {aka ‘\u001b[01m\u001b[Kstruct std::pair<long long unsigned int, double>\u001b[m\u001b[K’} declared here\n",
      "  208 |     struct \u001b[01;36m\u001b[Kpair\u001b[m\u001b[K\n",
      "      |            \u001b[01;36m\u001b[K^~~~\u001b[m\u001b[K\n",
      "main.cpp: In instantiation of ‘\u001b[01m\u001b[KHashMap<T, size, KeyType>::HashMap() [with T = Solve()::Node*; int size = 524288; KeyType = long long unsigned int]\u001b[m\u001b[K’:\n",
      "\u001b[01m\u001b[Kmain.cpp:1433:48:\u001b[m\u001b[K   required from here\n",
      "\u001b[01m\u001b[Kmain.cpp:477:30:\u001b[m\u001b[K \u001b[01;35m\u001b[Kwarning: \u001b[m\u001b[Ksuggest parentheses around ‘\u001b[01m\u001b[K-\u001b[m\u001b[K’ in operand of ‘\u001b[01m\u001b[K&\u001b[m\u001b[K’ [\u001b[01;35m\u001b[K-Wparentheses\u001b[m\u001b[K]\n",
      "  477 |   static_assert((size & \u001b[01;35m\u001b[Ksize - 1\u001b[m\u001b[K) == 0, \"not pow of 2\");\n",
      "      |                         \u001b[01;35m\u001b[K~~~~~^~~\u001b[m\u001b[K\n",
      "\u001b[01m\u001b[Kmain.cpp:478:9:\u001b[m\u001b[K \u001b[01;35m\u001b[Kwarning: \u001b[m\u001b[K‘\u001b[01m\u001b[Kvoid* memset(void*, int, size_t)\u001b[m\u001b[K’ clearing an object of type ‘\u001b[01m\u001b[Kstd::array<std::pair<long long unsigned int, Solve()::Node*>, 524288>::value_type\u001b[m\u001b[K’ {aka ‘\u001b[01m\u001b[Kstruct std::pair<long long unsigned int, Solve()::Node*>\u001b[m\u001b[K’} with no trivial copy-assignment; use assignment instead [\u001b[01;35m\u001b[K-Wclass-memaccess\u001b[m\u001b[K]\n",
      "  478 |   \u001b[01;35m\u001b[Kmemset(&data[0], 0, sizeof(data))\u001b[m\u001b[K;\n",
      "      |   \u001b[01;35m\u001b[K~~~~~~^~~~~~~~~~~~~~~~~~~~~~~~~~~\u001b[m\u001b[K\n",
      "In file included from \u001b[01m\u001b[K/usr/include/c++/9/bits/stl_algobase.h:64\u001b[m\u001b[K,\n",
      "                 from \u001b[01m\u001b[K/usr/include/c++/9/bits/char_traits.h:39\u001b[m\u001b[K,\n",
      "                 from \u001b[01m\u001b[K/usr/include/c++/9/ios:40\u001b[m\u001b[K,\n",
      "                 from \u001b[01m\u001b[K/usr/include/c++/9/ostream:38\u001b[m\u001b[K,\n",
      "                 from \u001b[01m\u001b[K/usr/include/c++/9/iostream:39\u001b[m\u001b[K,\n",
      "                 from \u001b[01m\u001b[Kmain.cpp:8\u001b[m\u001b[K:\n",
      "\u001b[01m\u001b[K/usr/include/c++/9/bits/stl_pair.h:208:12:\u001b[m\u001b[K \u001b[01;36m\u001b[Knote: \u001b[m\u001b[K‘\u001b[01m\u001b[Kstd::array<std::pair<long long unsigned int, Solve()::Node*>, 524288>::value_type\u001b[m\u001b[K’ {aka ‘\u001b[01m\u001b[Kstruct std::pair<long long unsigned int, Solve()::Node*>\u001b[m\u001b[K’} declared here\n",
      "  208 |     struct \u001b[01;36m\u001b[Kpair\u001b[m\u001b[K\n",
      "      |            \u001b[01;36m\u001b[K^~~~\u001b[m\u001b[K\n",
      "main.cpp: In instantiation of ‘\u001b[01m\u001b[Kvoid HashMap<T, size, KeyType>::clear() [with T = Solve()::Node*; int size = 524288; KeyType = long long unsigned int]\u001b[m\u001b[K’:\n",
      "\u001b[01m\u001b[Kmain.cpp:1434:33:\u001b[m\u001b[K   required from here\n",
      "\u001b[01m\u001b[Kmain.cpp:531:9:\u001b[m\u001b[K \u001b[01;35m\u001b[Kwarning: \u001b[m\u001b[K‘\u001b[01m\u001b[Kvoid* memset(void*, int, size_t)\u001b[m\u001b[K’ clearing an object of type ‘\u001b[01m\u001b[Kstd::array<std::pair<long long unsigned int, Solve()::Node*>, 524288>::value_type\u001b[m\u001b[K’ {aka ‘\u001b[01m\u001b[Kstruct std::pair<long long unsigned int, Solve()::Node*>\u001b[m\u001b[K’} with no trivial copy-assignment; use assignment instead [\u001b[01;35m\u001b[K-Wclass-memaccess\u001b[m\u001b[K]\n",
      "  531 |   \u001b[01;35m\u001b[Kmemset(&data[0], 0, sizeof(data))\u001b[m\u001b[K;\n",
      "      |   \u001b[01;35m\u001b[K~~~~~~^~~~~~~~~~~~~~~~~~~~~~~~~~~\u001b[m\u001b[K\n",
      "In file included from \u001b[01m\u001b[K/usr/include/c++/9/bits/stl_algobase.h:64\u001b[m\u001b[K,\n",
      "                 from \u001b[01m\u001b[K/usr/include/c++/9/bits/char_traits.h:39\u001b[m\u001b[K,\n",
      "                 from \u001b[01m\u001b[K/usr/include/c++/9/ios:40\u001b[m\u001b[K,\n",
      "                 from \u001b[01m\u001b[K/usr/include/c++/9/ostream:38\u001b[m\u001b[K,\n",
      "                 from \u001b[01m\u001b[K/usr/include/c++/9/iostream:39\u001b[m\u001b[K,\n",
      "                 from \u001b[01m\u001b[Kmain.cpp:8\u001b[m\u001b[K:\n",
      "\u001b[01m\u001b[K/usr/include/c++/9/bits/stl_pair.h:208:12:\u001b[m\u001b[K \u001b[01;36m\u001b[Knote: \u001b[m\u001b[K‘\u001b[01m\u001b[Kstd::array<std::pair<long long unsigned int, Solve()::Node*>, 524288>::value_type\u001b[m\u001b[K’ {aka ‘\u001b[01m\u001b[Kstruct std::pair<long long unsigned int, Solve()::Node*>\u001b[m\u001b[K’} declared here\n",
      "  208 |     struct \u001b[01;36m\u001b[Kpair\u001b[m\u001b[K\n",
      "      |            \u001b[01;36m\u001b[K^~~~\u001b[m\u001b[K\n",
      "\u001b[01m\u001b[Kmain.cpp:1335:8:\u001b[m\u001b[K \u001b[01;35m\u001b[Kwarning: \u001b[m\u001b[Kignoring return value of ‘\u001b[01m\u001b[Kint scanf(const char*, ...)\u001b[m\u001b[K’, declared with attribute warn_unused_result [\u001b[01;35m\u001b[K-Wunused-result\u001b[m\u001b[K]\n",
      " 1335 |   \u001b[01;35m\u001b[Kscanf(\"%d %d %d\", &buf, &buf, &buf)\u001b[m\u001b[K;\n",
      "      |   \u001b[01;35m\u001b[K~~~~~^~~~~~~~~~~~~~~~~~~~~~~~~~~~~~\u001b[m\u001b[K\n",
      "\u001b[01m\u001b[Kmain.cpp:1337:9:\u001b[m\u001b[K \u001b[01;35m\u001b[Kwarning: \u001b[m\u001b[Kignoring return value of ‘\u001b[01m\u001b[Kint scanf(const char*, ...)\u001b[m\u001b[K’, declared with attribute warn_unused_result [\u001b[01;35m\u001b[K-Wunused-result\u001b[m\u001b[K]\n",
      " 1337 |    \u001b[01;35m\u001b[Kscanf(\"%hhd %hhd %hd %hd %hd\", &R[i], &C[i], &S[i], &E[i], &V[i])\u001b[m\u001b[K;\n",
      "      |    \u001b[01;35m\u001b[K~~~~~^~~~~~~~~~~~~~~~~~~~~~~~~~~~~~~~~~~~~~~~~~~~~~~~~~~~~~~~~~~~\u001b[m\u001b[K\n"
     ]
    }
   ],
   "source": [
    "#!g++ {FILENAME} -std=gnu++17 -Wall -Wextra -O2 -DONLINE_JUDGE -o {FILENAME}.out\n",
    "!g++ {FILENAME} -std=gnu++17 -Wall -Wextra -O2 -o {FILENAME}.out"
   ]
  },
  {
   "cell_type": "code",
   "execution_count": 4,
   "id": "fab9cdf5",
   "metadata": {},
   "outputs": [
    {
     "name": "stdout",
     "output_type": "stream",
     "text": [
      "0000.txt  0025.txt  0050.txt  0075.txt\t0100.txt  0125.txt  0150.txt  0175.txt\r\n",
      "0001.txt  0026.txt  0051.txt  0076.txt\t0101.txt  0126.txt  0151.txt  0176.txt\r\n",
      "0002.txt  0027.txt  0052.txt  0077.txt\t0102.txt  0127.txt  0152.txt  0177.txt\r\n",
      "0003.txt  0028.txt  0053.txt  0078.txt\t0103.txt  0128.txt  0153.txt  0178.txt\r\n",
      "0004.txt  0029.txt  0054.txt  0079.txt\t0104.txt  0129.txt  0154.txt  0179.txt\r\n",
      "0005.txt  0030.txt  0055.txt  0080.txt\t0105.txt  0130.txt  0155.txt  0180.txt\r\n",
      "0006.txt  0031.txt  0056.txt  0081.txt\t0106.txt  0131.txt  0156.txt  0181.txt\r\n",
      "0007.txt  0032.txt  0057.txt  0082.txt\t0107.txt  0132.txt  0157.txt  0182.txt\r\n",
      "0008.txt  0033.txt  0058.txt  0083.txt\t0108.txt  0133.txt  0158.txt  0183.txt\r\n",
      "0009.txt  0034.txt  0059.txt  0084.txt\t0109.txt  0134.txt  0159.txt  0184.txt\r\n",
      "0010.txt  0035.txt  0060.txt  0085.txt\t0110.txt  0135.txt  0160.txt  0185.txt\r\n",
      "0011.txt  0036.txt  0061.txt  0086.txt\t0111.txt  0136.txt  0161.txt  0186.txt\r\n",
      "0012.txt  0037.txt  0062.txt  0087.txt\t0112.txt  0137.txt  0162.txt  0187.txt\r\n",
      "0013.txt  0038.txt  0063.txt  0088.txt\t0113.txt  0138.txt  0163.txt  0188.txt\r\n",
      "0014.txt  0039.txt  0064.txt  0089.txt\t0114.txt  0139.txt  0164.txt  0189.txt\r\n",
      "0015.txt  0040.txt  0065.txt  0090.txt\t0115.txt  0140.txt  0165.txt  0190.txt\r\n",
      "0016.txt  0041.txt  0066.txt  0091.txt\t0116.txt  0141.txt  0166.txt  0191.txt\r\n",
      "0017.txt  0042.txt  0067.txt  0092.txt\t0117.txt  0142.txt  0167.txt  0192.txt\r\n",
      "0018.txt  0043.txt  0068.txt  0093.txt\t0118.txt  0143.txt  0168.txt  0193.txt\r\n",
      "0019.txt  0044.txt  0069.txt  0094.txt\t0119.txt  0144.txt  0169.txt  0194.txt\r\n",
      "0020.txt  0045.txt  0070.txt  0095.txt\t0120.txt  0145.txt  0170.txt  0195.txt\r\n",
      "0021.txt  0046.txt  0071.txt  0096.txt\t0121.txt  0146.txt  0171.txt  0196.txt\r\n",
      "0022.txt  0047.txt  0072.txt  0097.txt\t0122.txt  0147.txt  0172.txt  0197.txt\r\n",
      "0023.txt  0048.txt  0073.txt  0098.txt\t0123.txt  0148.txt  0173.txt  0198.txt\r\n",
      "0024.txt  0049.txt  0074.txt  0099.txt\t0124.txt  0149.txt  0174.txt  0199.txt\r\n"
     ]
    }
   ],
   "source": [
    "# テストケース生成\n",
    "SEED = 1000\n",
    "N_TESTCASES = 200\n",
    "\n",
    "!mkdir in\n",
    "for i in range(N_TESTCASES):\n",
    "    filename = f\"{i:04d}.txt\"\n",
    "    seed = SEED + i\n",
    "    !python3 ../A/tester/generator.py {seed} > ./in/{filename}\n",
    "!ls in"
   ]
  },
  {
   "cell_type": "code",
   "execution_count": 5,
   "id": "57be7308",
   "metadata": {},
   "outputs": [],
   "source": [
    "TESTCASE_DIRECTORY = \"./in/\"\n",
    "TESTCASES = [f\"{i:04d}.txt\" for i in range(N_TESTCASES)]"
   ]
  },
  {
   "cell_type": "code",
   "execution_count": 8,
   "id": "d88a2384",
   "metadata": {
    "scrolled": true
   },
   "outputs": [
    {
     "name": "stdout",
     "output_type": "stream",
     "text": [
      "mkdir: cannot create directory ‘out’: File exists\n",
      "0000 time:1.9297 score:4810532\n",
      "0001 time:1.9634 score:5293577\n",
      "0002 time:1.9577 score:4748731\n",
      "0003 time:1.9331 score:4697029\n",
      "0004 time:1.9131 score:4504301\n",
      "0005 time:1.9375 score:5126808\n",
      "0006 time:1.9619 score:4888306\n",
      "0007 time:1.8825 score:5342013\n",
      "0008 time:1.8816 score:5043137\n",
      "0009 time:1.8856 score:4928426\n",
      "0010 time:1.9034 score:4312677\n",
      "0011 time:1.9228 score:5178757\n",
      "0012 time:1.9914 score:4423914\n",
      "0013 time:1.9222 score:4881142\n",
      "0014 time:1.9542 score:5296656\n",
      "0015 time:1.9216 score:5130407\n",
      "0016 time:1.9158 score:5148915\n",
      "0017 time:1.9360 score:4330493\n",
      "0018 time:1.8321 score:4885407\n",
      "0019 time:1.9317 score:4453058\n",
      "0020 time:1.8763 score:5098420\n",
      "0021 time:1.9116 score:4853527\n",
      "0022 time:1.8750 score:4831783\n",
      "0023 time:1.8986 score:4618530\n",
      "0024 time:1.9928 score:5123763\n",
      "0025 time:1.9452 score:4770934\n",
      "0026 time:1.9561 score:4884354\n",
      "0027 time:1.9307 score:5622642\n",
      "0028 time:1.9324 score:4810538\n",
      "0029 time:1.9770 score:5064751\n",
      "0030 time:1.9274 score:4831860\n",
      "0031 time:1.9460 score:4401273\n",
      "0032 time:1.8762 score:5346952\n",
      "0033 time:1.9518 score:4313032\n",
      "0034 time:1.9573 score:5495045\n",
      "0035 time:1.8565 score:4530561\n",
      "0036 time:1.9266 score:5843553\n",
      "0037 time:1.8657 score:4959596\n",
      "0038 time:1.9458 score:5790095\n",
      "0039 time:1.9593 score:5308571\n",
      "0040 time:1.8374 score:4999459\n",
      "0041 time:1.8869 score:4432821\n",
      "0042 time:1.9236 score:5232925\n",
      "0043 time:1.9156 score:4881834\n",
      "0044 time:1.8469 score:5006829\n",
      "0045 time:1.9003 score:4936200\n",
      "0046 time:1.9099 score:5140807\n",
      "0047 time:1.9642 score:4986330\n",
      "0048 time:1.9408 score:4693656\n",
      "0049 time:1.8786 score:4790950\n",
      "0050 time:1.9109 score:4587699\n",
      "0051 time:1.9261 score:4684669\n",
      "0052 time:1.9335 score:4468704\n",
      "0053 time:1.9664 score:4769858\n",
      "0054 time:1.9524 score:4636084\n",
      "0055 time:1.9408 score:4506088\n",
      "0056 time:1.9086 score:4232236\n",
      "0057 time:1.9005 score:5069471\n",
      "0058 time:1.9309 score:4651488\n",
      "0059 time:1.9286 score:4698772\n",
      "0060 time:1.9054 score:4964589\n",
      "0061 time:1.9644 score:4945393\n",
      "0062 time:1.8973 score:4982857\n",
      "0063 time:1.8902 score:4429668\n",
      "0064 time:1.9083 score:4088219\n",
      "0065 time:1.9135 score:4929792\n",
      "0066 time:1.9434 score:5507787\n",
      "0067 time:1.9864 score:5044663\n",
      "0068 time:1.9216 score:4960584\n",
      "0069 time:1.9551 score:4273123\n",
      "0070 time:1.9660 score:5575719\n",
      "0071 time:1.9851 score:4389163\n",
      "0072 time:1.9854 score:4621240\n",
      "0073 time:1.9712 score:5355330\n",
      "0074 time:1.9230 score:5017024\n",
      "0075 time:1.8833 score:3940321\n",
      "0076 time:1.8908 score:4933654\n",
      "0077 time:1.8966 score:4650278\n",
      "0078 time:1.9105 score:5040786\n",
      "0079 time:1.9381 score:4798289\n",
      "0080 time:1.9055 score:4512827\n",
      "0081 time:1.9294 score:5642760\n",
      "0082 time:1.9537 score:4848939\n",
      "0083 time:1.9056 score:4867768\n",
      "0084 time:1.9569 score:4357140\n",
      "0085 time:1.9495 score:4872648\n",
      "0086 time:1.9501 score:4768674\n",
      "0087 time:1.9444 score:4671310\n",
      "0088 time:1.9231 score:4868888\n",
      "0089 time:1.9068 score:4581611\n",
      "0090 time:1.9434 score:5010627\n",
      "0091 time:1.9175 score:4891777\n",
      "0092 time:1.9516 score:5704177\n",
      "0093 time:1.9235 score:4871506\n",
      "0094 time:1.9292 score:4427331\n",
      "0095 time:1.9248 score:5168284\n",
      "0096 time:1.9376 score:4612688\n",
      "0097 time:1.9185 score:4551200\n",
      "0098 time:1.9308 score:4588357\n",
      "0099 time:1.9366 score:4696377\n",
      "0100 time:1.9634 score:4844942\n",
      "0101 time:1.9707 score:5050027\n",
      "0102 time:1.9269 score:4978413\n",
      "0103 time:1.9051 score:5010633\n",
      "0104 time:1.9704 score:4329926\n",
      "0105 time:1.9599 score:4931443\n",
      "0106 time:1.9595 score:4748154\n",
      "0107 time:1.9363 score:4977492\n",
      "0108 time:1.9023 score:4848981\n",
      "0109 time:1.9324 score:4441139\n",
      "0110 time:1.9080 score:4874694\n",
      "0111 time:1.9082 score:5126948\n",
      "0112 time:1.9435 score:4742989\n",
      "0113 time:1.9137 score:5453800\n",
      "0114 time:1.9568 score:4552530\n",
      "0115 time:1.9504 score:4932407\n",
      "0116 time:1.9747 score:4998701\n",
      "0117 time:1.9378 score:5290810\n",
      "0118 time:1.9074 score:4830091\n",
      "0119 time:1.8628 score:5142206\n",
      "0120 time:1.9342 score:5432212\n",
      "0121 time:1.9010 score:4965852\n",
      "0122 time:1.9705 score:5223527\n",
      "0123 time:1.9838 score:4965122\n",
      "0124 time:1.9716 score:5148538\n",
      "0125 time:1.8907 score:4717212\n",
      "0126 time:1.9398 score:5345269\n",
      "0127 time:1.9168 score:5151509\n",
      "0128 time:1.9321 score:4663035\n",
      "0129 time:1.9342 score:5197506\n",
      "0130 time:1.9694 score:4599905\n",
      "0131 time:1.8875 score:5079057\n",
      "0132 time:1.9306 score:5240070\n",
      "0133 time:1.9053 score:4868936\n",
      "0134 time:1.9151 score:4842059\n",
      "0135 time:1.9215 score:4497768\n",
      "0136 time:1.9536 score:5684883\n",
      "0137 time:1.8923 score:5010270\n",
      "0138 time:1.9666 score:4716637\n",
      "0139 time:1.9026 score:4717688\n",
      "0140 time:1.9308 score:4762455\n",
      "0141 time:1.9338 score:5299364\n",
      "0142 time:1.9628 score:4554312\n",
      "0143 time:1.9420 score:5000134\n",
      "0144 time:1.8787 score:4769810\n",
      "0145 time:1.9416 score:5200249\n",
      "0146 time:1.9382 score:4822510\n",
      "0147 time:1.9098 score:5135347\n",
      "0148 time:1.9148 score:4725462\n",
      "0149 time:1.9253 score:4896803\n",
      "0150 time:1.9323 score:5121938\n",
      "0151 time:1.9220 score:4323464\n",
      "0152 time:1.9205 score:4881953\n",
      "0153 time:1.9617 score:4950911\n",
      "0154 time:1.9184 score:4654842\n",
      "0155 time:1.8951 score:4874559\n",
      "0156 time:1.8850 score:5000500\n",
      "0157 time:1.8989 score:4926170\n",
      "0158 time:1.9152 score:5042978\n",
      "0159 time:1.8671 score:4529103\n",
      "0160 time:1.8919 score:5680703\n",
      "0161 time:1.9788 score:5237283\n",
      "0162 time:1.8878 score:4897498\n",
      "0163 time:1.9147 score:4892652\n",
      "0164 time:1.9263 score:5060144\n",
      "0165 time:1.9592 score:4955586\n",
      "0166 time:1.9520 score:4461202\n",
      "0167 time:1.9132 score:4614734\n",
      "0168 time:1.9007 score:5112410\n",
      "0169 time:1.9575 score:5177337\n",
      "0170 time:1.8848 score:5280928\n",
      "0171 time:1.9050 score:5005140\n",
      "0172 time:1.8757 score:4699707\n",
      "0173 time:1.8803 score:4432976\n",
      "0174 time:1.9167 score:4618198\n",
      "0175 time:1.9137 score:5068971\n",
      "0176 time:1.9308 score:4846798\n",
      "0177 time:1.9583 score:5196064\n",
      "0178 time:1.9761 score:5196958\n",
      "0179 time:1.9942 score:4704973\n",
      "0180 time:1.9332 score:4928533\n",
      "0181 time:1.9891 score:5102365\n",
      "0182 time:1.9231 score:5197211\n",
      "0183 time:1.9604 score:4832764\n",
      "0184 time:1.9026 score:4762738\n",
      "0185 time:1.9057 score:4925766\n",
      "0186 time:1.9133 score:4969604\n",
      "0187 time:1.9242 score:4938945\n",
      "0188 time:1.9132 score:5399352\n",
      "0189 time:1.9201 score:4952461\n",
      "0190 time:1.9173 score:4841675\n",
      "0191 time:1.9416 score:4239967\n",
      "0192 time:1.9367 score:4964607\n",
      "0193 time:1.9845 score:4891309\n",
      "0194 time:1.9479 score:4454967\n",
      "0195 time:1.9143 score:4380366\n",
      "0196 time:1.9381 score:4865687\n",
      "0197 time:1.8780 score:4667936\n",
      "0198 time:1.9077 score:4956341\n",
      "0199 time:1.9381 score:5229338\n"
     ]
    },
    {
     "data": {
      "text/plain": [
       "(244.64568824999998, 16.4397531514299)"
      ]
     },
     "execution_count": 8,
     "metadata": {},
     "output_type": "execute_result"
    }
   ],
   "source": [
    "# もとのスコアの確認\n",
    "\n",
    "scores = []\n",
    "times = []\n",
    "\n",
    "!mkdir out\n",
    "\n",
    "def parallel(i):\n",
    "    testcase = TESTCASES[i]\n",
    "    i = f\"{i:04d}\"\n",
    "    t0 = time()\n",
    "    !./{FILENAME}.out < {TESTCASE_DIRECTORY}{testcase} > ./out/{testcase} 2> /dev/null\n",
    "    t = time() - t0\n",
    "    score = !python3 ../A/tester/judge.py {TESTCASE_DIRECTORY}{testcase} ./out/{testcase}\n",
    "    print(i, f\"time:{t:.4f}\", *score)\n",
    "    score = int(score[0].split(\":\")[-1])\n",
    "    return score, t\n",
    "\n",
    "for i in range(200):\n",
    "    score, t = parallel(i)\n",
    "    scores.append(score)\n",
    "    times.append(t)\n",
    "\n",
    "# with Pool(15) as p:\n",
    "#     for score, t in p.map(parallel, range(N_TESTCASES)):\n",
    "#         scores.append(score)\n",
    "#         times.append(t)\n",
    "\n",
    "np.mean(scores) * 50 / 1e6, np.std(scores) * 50 / 1e6"
   ]
  },
  {
   "cell_type": "code",
   "execution_count": 9,
   "id": "e6c3b408",
   "metadata": {},
   "outputs": [
    {
     "data": {
      "image/png": "[encoded data removed]",
      "text/plain": [
       "<Figure size 432x288 with 1 Axes>"
      ]
     },
     "metadata": {
      "needs_background": "light"
     },
     "output_type": "display_data"
    }
   ],
   "source": [
    "plt.hist(scores, bins=20)\n",
    "plt.show()"
   ]
  },
  {
   "cell_type": "code",
   "execution_count": 10,
   "id": "aa1a1f85",
   "metadata": {},
   "outputs": [
    {
     "name": "stdout",
     "output_type": "stream",
     "text": [
      "8 variables were found.\n"
     ]
    },
    {
     "data": {
      "text/html": [
       "<div>\n",
       "<style scoped>\n",
       "    .dataframe tbody tr th:only-of-type {\n",
       "        vertical-align: middle;\n",
       "    }\n",
       "\n",
       "    .dataframe tbody tr th {\n",
       "        vertical-align: top;\n",
       "    }\n",
       "\n",
       "    .dataframe thead th {\n",
       "        text-align: right;\n",
       "    }\n",
       "</style>\n",
       "<table border=\"1\" class=\"dataframe\">\n",
       "  <thead>\n",
       "    <tr style=\"text-align: right;\">\n",
       "      <th></th>\n",
       "      <th>name</th>\n",
       "      <th>method</th>\n",
       "      <th>min</th>\n",
       "      <th>max</th>\n",
       "      <th>log</th>\n",
       "      <th>left</th>\n",
       "      <th>right</th>\n",
       "      <th>choices</th>\n",
       "    </tr>\n",
       "  </thead>\n",
       "  <tbody>\n",
       "    <tr>\n",
       "      <th>0</th>\n",
       "      <td>K_START</td>\n",
       "      <td>suggest_float</td>\n",
       "      <td>0.040</td>\n",
       "      <td>0.120</td>\n",
       "      <td>True</td>\n",
       "      <td>constexpr double K_START =</td>\n",
       "      <td>;  // OPTIMIZE [0.04, 0.12] LOG</td>\n",
       "      <td>NaN</td>\n",
       "    </tr>\n",
       "    <tr>\n",
       "      <th>1</th>\n",
       "      <td>K_END</td>\n",
       "      <td>suggest_float</td>\n",
       "      <td>0.030</td>\n",
       "      <td>0.100</td>\n",
       "      <td>True</td>\n",
       "      <td>constexpr double K_END =</td>\n",
       "      <td>;   // OPTIMIZE [0.03, 0.1] LOG</td>\n",
       "      <td>NaN</td>\n",
       "    </tr>\n",
       "    <tr>\n",
       "      <th>2</th>\n",
       "      <td>K_H</td>\n",
       "      <td>suggest_float</td>\n",
       "      <td>0.001</td>\n",
       "      <td>0.999</td>\n",
       "      <td>False</td>\n",
       "      <td>constexpr double K_H =</td>\n",
       "      <td>;      // OPTIMIZE [0.001, 0.999]</td>\n",
       "      <td>NaN</td>\n",
       "    </tr>\n",
       "    <tr>\n",
       "      <th>3</th>\n",
       "      <td>PURCHASE_TURN_LIMIT</td>\n",
       "      <td>suggest_int</td>\n",
       "      <td>790.000</td>\n",
       "      <td>870.000</td>\n",
       "      <td>False</td>\n",
       "      <td>constexpr short PURCHASE_TURN_LIMIT =</td>\n",
       "      <td>;  // OPTIMIZE [790, 870]</td>\n",
       "      <td>NaN</td>\n",
       "    </tr>\n",
       "    <tr>\n",
       "      <th>4</th>\n",
       "      <td>SUBSCORE3_TIGHT_TURN</td>\n",
       "      <td>suggest_int</td>\n",
       "      <td>0.000</td>\n",
       "      <td>1.000</td>\n",
       "      <td>False</td>\n",
       "      <td>constexpr int SUBSCORE3_TIGHT_TURN =</td>\n",
       "      <td>;     // OPTIMIZE [0, 1]</td>\n",
       "      <td>NaN</td>\n",
       "    </tr>\n",
       "    <tr>\n",
       "      <th>5</th>\n",
       "      <td>ROUGH_HASH</td>\n",
       "      <td>suggest_categorical</td>\n",
       "      <td>NaN</td>\n",
       "      <td>NaN</td>\n",
       "      <td>NaN</td>\n",
       "      <td>constexpr int ROUGH_HASH =</td>\n",
       "      <td>;      // OPTIMIZE {0, 0b00000001, 0b00010001,...</td>\n",
       "      <td>[0, 0b00000001, 0b00010001, 0b00010011, 0b0011...</td>\n",
       "    </tr>\n",
       "    <tr>\n",
       "      <th>6</th>\n",
       "      <td>TARGET_BEAM_WIDTH_INCREASE_RATE</td>\n",
       "      <td>suggest_float</td>\n",
       "      <td>0.500</td>\n",
       "      <td>1.000</td>\n",
       "      <td>True</td>\n",
       "      <td>constexpr double TARGET_BEAM_WIDTH_INCREASE_RA...</td>\n",
       "      <td>;      // OPTIMIZE [0.5, 1.0] LOG</td>\n",
       "      <td>NaN</td>\n",
       "    </tr>\n",
       "    <tr>\n",
       "      <th>7</th>\n",
       "      <td>TARGET_BEAM_WIDTH_HALF_PROGRES_RATE</td>\n",
       "      <td>suggest_float</td>\n",
       "      <td>0.020</td>\n",
       "      <td>0.980</td>\n",
       "      <td>False</td>\n",
       "      <td>constexpr double TARGET_BEAM_WIDTH_HALF_PROGRE...</td>\n",
       "      <td>;  // OPTIMIZE [0.02, 0.98]</td>\n",
       "      <td>NaN</td>\n",
       "    </tr>\n",
       "  </tbody>\n",
       "</table>\n",
       "</div>"
      ],
      "text/plain": [
       "                                  name               method      min      max  \\\n",
       "0                              K_START        suggest_float    0.040    0.120   \n",
       "1                                K_END        suggest_float    0.030    0.100   \n",
       "2                                  K_H        suggest_float    0.001    0.999   \n",
       "3                  PURCHASE_TURN_LIMIT          suggest_int  790.000  870.000   \n",
       "4                 SUBSCORE3_TIGHT_TURN          suggest_int    0.000    1.000   \n",
       "5                           ROUGH_HASH  suggest_categorical      NaN      NaN   \n",
       "6      TARGET_BEAM_WIDTH_INCREASE_RATE        suggest_float    0.500    1.000   \n",
       "7  TARGET_BEAM_WIDTH_HALF_PROGRES_RATE        suggest_float    0.020    0.980   \n",
       "\n",
       "     log                                               left  \\\n",
       "0   True                        constexpr double K_START =    \n",
       "1   True                          constexpr double K_END =    \n",
       "2  False                            constexpr double K_H =    \n",
       "3  False             constexpr short PURCHASE_TURN_LIMIT =    \n",
       "4  False              constexpr int SUBSCORE3_TIGHT_TURN =    \n",
       "5    NaN                        constexpr int ROUGH_HASH =    \n",
       "6   True  constexpr double TARGET_BEAM_WIDTH_INCREASE_RA...   \n",
       "7  False  constexpr double TARGET_BEAM_WIDTH_HALF_PROGRE...   \n",
       "\n",
       "                                               right  \\\n",
       "0                    ;  // OPTIMIZE [0.04, 0.12] LOG   \n",
       "1                    ;   // OPTIMIZE [0.03, 0.1] LOG   \n",
       "2                  ;      // OPTIMIZE [0.001, 0.999]   \n",
       "3                          ;  // OPTIMIZE [790, 870]   \n",
       "4                           ;     // OPTIMIZE [0, 1]   \n",
       "5  ;      // OPTIMIZE {0, 0b00000001, 0b00010001,...   \n",
       "6                  ;      // OPTIMIZE [0.5, 1.0] LOG   \n",
       "7                        ;  // OPTIMIZE [0.02, 0.98]   \n",
       "\n",
       "                                             choices  \n",
       "0                                                NaN  \n",
       "1                                                NaN  \n",
       "2                                                NaN  \n",
       "3                                                NaN  \n",
       "4                                                NaN  \n",
       "5  [0, 0b00000001, 0b00010001, 0b00010011, 0b0011...  \n",
       "6                                                NaN  \n",
       "7                                                NaN  "
      ]
     },
     "metadata": {},
     "output_type": "display_data"
    }
   ],
   "source": [
    "# ここでエラー出力は何かおかしいかもしれない\n",
    "\n",
    "\n",
    "# パラメータ抽出\n",
    "with open(FILENAME) as f:\n",
    "    answer = f.read()\n",
    "\n",
    "\n",
    "variables_optimize = []\n",
    "\n",
    "for left, value, right, options in re.findall(r\"^([^/\\n]*=\\s*)(.+?)(\\s*;\\s*//(?:.*\\W)?OPTIMIZE(\\W.*))$\", answer, re.MULTILINE):\n",
    "    name = left.replace(\"=\", \"\").strip().split()[-1]\n",
    "    \n",
    "    searched = re.search(r\".*\\[(?P<min>.*),(?P<max>.*)\\].*\", options)\n",
    "    if searched:\n",
    "        min_value = max_value = None\n",
    "        try:\n",
    "            min_value = eval(searched.group(\"min\"))\n",
    "            max_value = eval(searched.group(\"max\"))\n",
    "            assert min_value <= max_value\n",
    "        except Exception as e:\n",
    "            print(f\"searched={searched}\", file=sys.stderr)\n",
    "            print(e, file=sys.stderr)\n",
    "            continue\n",
    "        log = \"LOG\" in options  # 雑、直したほうが良い\n",
    "        if type(min_value) != type(max_value):\n",
    "            print(f\"searched={searched}\", file=sys.stderr)\n",
    "            print(\"types not matched\", file=sys.stderr)\n",
    "            continue\n",
    "        if isinstance(min_value, int):\n",
    "            method = \"suggest_int\"\n",
    "        elif isinstance(min_value, float):\n",
    "            method = \"suggest_float\"\n",
    "        else:\n",
    "            print(f\"searched={searched}\", file=sys.stderr)\n",
    "            print(f\"unknown type ({type(min_value)})\", file=sys.stderr)\n",
    "            continue\n",
    "        variables_optimize.append({\n",
    "            \"name\": name,\n",
    "            \"method\": method,\n",
    "            \"min\": min_value,\n",
    "            \"max\": max_value,\n",
    "            \"log\": log,\n",
    "            \"left\": left,\n",
    "            \"right\": right,\n",
    "        })\n",
    "    elif searched := re.search(r\".*\\{(?P<choices>.*?)\\}.*\", options):\n",
    "        choices = list(map(lambda x: x.strip(), searched.group(\"choices\").split(\",\")))\n",
    "        variables_optimize.append({\n",
    "            \"name\": name,\n",
    "            \"method\": \"suggest_categorical\",\n",
    "            \"choices\": choices,\n",
    "            \"left\": left,\n",
    "            \"right\": right,\n",
    "        })\n",
    "    else:\n",
    "        print(f\"searched={searched}\", file=sys.stderr)\n",
    "        print(f\"pattern was matched but options are incorrect.\", file=sys.stderr)\n",
    "\n",
    "print(len(variables_optimize), \"variables were found.\")\n",
    "if globals().get(\"pd\"):\n",
    "    display(pd.DataFrame(variables_optimize))\n",
    "else:\n",
    "    pprint(variables_optimize)"
   ]
  },
  {
   "cell_type": "code",
   "execution_count": 11,
   "id": "5c77a0ea",
   "metadata": {},
   "outputs": [],
   "source": [
    "def escape(string):  # 正規表現の中でそのまま使いたい文字列をエスケープ\n",
    "    res = !echo '{string}' | sed -e 's/[]\\/$*.^[]/\\\\&/g'\n",
    "    return res[0]\n",
    "\n",
    "def escape_sed(string):  # sed の置換後の文字列用のエスケープ\n",
    "    res = !echo '{string}' | sed -e 's/[\\/&]/\\\\&/g'\n",
    "    return res[0]\n",
    "\n",
    "\n",
    "def objective_with_index(trial, n_internal_parallel):\n",
    "    index_parallel = trial.number % 12  # これ変数にする\n",
    "    print(f\"{index_parallel=}\")\n",
    "    \n",
    "    parameters_changed_filename = f\"{index_parallel}_{FILENAME}\"\n",
    "    #directory_input = \"./in\"  # \"/\" をつけない  # 中のすべてのファイルに対して実行される\n",
    "    \n",
    "    !mkdir {index_parallel}_out 2> /dev/null\n",
    "    !mkdir {index_parallel}_score 2> /dev/null\n",
    "    !rm {index_parallel}_out/*\n",
    "    !rm {index_parallel}_score/*\n",
    "    \n",
    "    # ファイル作成\n",
    "    !cp {FILENAME} {parameters_changed_filename}\n",
    "    sed_options = [f\"-i {parameters_changed_filename}\"]\n",
    "    for variable in variables_optimize:\n",
    "        if variable[\"method\"] == \"suggest_categorical\":\n",
    "            val =  trial.suggest_categorical(variable[\"name\"], variable[\"choices\"])\n",
    "        else:\n",
    "            val = getattr(trial, variable[\"method\"])(variable[\"name\"], variable[\"min\"], variable[\"max\"], log=variable[\"log\"])\n",
    "        left = variable[\"left\"]\n",
    "        right = variable[\"right\"]\n",
    "        sed_options.append(f\"\"\"-e 's/^{escape(left)}.*{escape(right)}$/{escape_sed(left)}{val}{escape_sed(right)}/'\"\"\")\n",
    "    command_sed = f\"sed {' '.join(sed_options)}\"\n",
    "    print(command_sed)\n",
    "    !{command_sed}\n",
    "    \n",
    "    # コンパイル\n",
    "    command_compile = f\"g++ {parameters_changed_filename} -std=gnu++17 -O2 -DONLINE_JUDGE -o {parameters_changed_filename}.out 2> /dev/null\"\n",
    "    print(command_compile)\n",
    "    !{command_compile}\n",
    "    \n",
    "    # 実行・採点コマンド (@ はファイル名)\n",
    "    command_exec = (\n",
    "        f\"./{parameters_changed_filename}.out < {TESTCASE_DIRECTORY}@ >./{index_parallel}_out/@ 2> /dev/null;\"\n",
    "        f\"python3 ../A/tester/judge.py {TESTCASE_DIRECTORY}@ ./{index_parallel}_out/@ > ./{index_parallel}_score/@\"\n",
    "        \n",
    "        #f\"cargo run --release --manifest-path ../tools/Cargo.toml --bin tester {directory_input}/@ $(pwd)/{parameters_changed_filename}.out 2>&1 | grep Score | sed -E s/[^0-9]+// > ./{index_parallel}_score/@;\"\n",
    "        \n",
    "        #f\"./{parameters_changed_filename}.out < {directory_input}/@ > ./{index_parallel}_out/@;\"\n",
    "        #f\"cargo run --release --manifest-path ./tools/Cargo.toml --bin vis {directory_input}/@ ./{index_parallel}_out/@ 2> /dev/null > ./{index_parallel}_score/@;\"\n",
    "    )\n",
    "    \n",
    "    # 並列実行 (sed はパスのディレクトリ部分を消してファイル名にしてる)\n",
    "    !find {TESTCASE_DIRECTORY}/* | sed 's!^.*/!!' | xargs -I@ -P {n_internal_parallel} sh -c '{command_exec}'\n",
    "    \n",
    "    # 集計\n",
    "    file_paths = !find ./{index_parallel}_score/*\n",
    "    sum_score = 0\n",
    "    for file_path in file_paths:  \n",
    "        with open(file_path) as f:\n",
    "            sum_score += int(f.read().split(\":\")[-1])\n",
    "    return sum_score"
   ]
  },
  {
   "cell_type": "code",
   "execution_count": 13,
   "id": "71bd4d2e",
   "metadata": {},
   "outputs": [
    {
     "name": "stderr",
     "output_type": "stream",
     "text": [
      "\u001b[32m[I 2021-09-10 18:28:13,804]\u001b[0m A new study created in RDB with name: study\u001b[0m\n"
     ]
    },
    {
     "name": "stdout",
     "output_type": "stream",
     "text": [
      "index_parallel=1\n",
      "index_parallel=0\n",
      "index_parallel=2\n",
      "index_parallel=3\n"
     ]
    },
    {
     "name": "stderr",
     "output_type": "stream",
     "text": [
      "/home/nagis/anaconda3/lib/python3.8/site-packages/optuna/study/study.py:393: FutureWarning: `n_jobs` argument has been deprecated in v2.7.0. This feature will be removed in v4.0.0. See https://github.com/optuna/optuna/releases/tag/v2.7.0.\n",
      "  warnings.warn(\n"
     ]
    },
    {
     "name": "stdout",
     "output_type": "stream",
     "text": [
      "rm: cannot remove '0_out/*': No such file or directory\n",
      "rm: cannot remove '1_out/*': No such file or directory\n",
      "rm: cannot remove '2_out/*': No such file or directory\n",
      "rm: cannot remove '3_out/*': No such file or directory\n",
      "rm: cannot remove '1_score/*': No such file or directory\n",
      "rm: cannot remove '0_score/*': No such file or directory\n",
      "rm: cannot remove '2_score/*': No such file or directory\n",
      "rm: cannot remove '3_score/*': No such file or directory\n",
      "sed -i 1_main.cpp -e 's/^constexpr double K_START = .*;  \\/\\/ OPTIMIZE \\[0\\.04, 0\\.12\\] LOG$/constexpr double K_START = 0.041305730607641915;  \\/\\/ OPTIMIZE [0.04, 0.12] LOG/' -e 's/^constexpr double K_END = .*;   \\/\\/ OPTIMIZE \\[0\\.03, 0\\.1\\] LOG$/constexpr double K_END = 0.043533106491330534;   \\/\\/ OPTIMIZE [0.03, 0.1] LOG/' -e 's/^constexpr double K_H = .*;      \\/\\/ OPTIMIZE \\[0\\.001, 0\\.999\\]$/constexpr double K_H = 0.056602315841052096;      \\/\\/ OPTIMIZE [0.001, 0.999]/' -e 's/^constexpr short PURCHASE_TURN_LIMIT = .*;  \\/\\/ OPTIMIZE \\[790, 870\\]$/constexpr short PURCHASE_TURN_LIMIT = 796;  \\/\\/ OPTIMIZE [790, 870]/' -e 's/^constexpr int SUBSCORE3_TIGHT_TURN = .*;     \\/\\/ OPTIMIZE \\[0, 1\\]$/constexpr int SUBSCORE3_TIGHT_TURN = 1;     \\/\\/ OPTIMIZE [0, 1]/' -e 's/^constexpr int ROUGH_HASH = .*;      \\/\\/ OPTIMIZE {0, 0b00000001, 0b00010001, 0b00010011, 0b00110011}$/constexpr int ROUGH_HASH = 0b00000001;      \\/\\/ OPTIMIZE {0, 0b00000001, 0b00010001, 0b00010011, 0b00110011}/' -e 's/^constexpr double TARGET_BEAM_WIDTH_INCREASE_RATE = .*;      \\/\\/ OPTIMIZE \\[0\\.5, 1\\.0\\] LOG$/constexpr double TARGET_BEAM_WIDTH_INCREASE_RATE = 0.5012251893762257;      \\/\\/ OPTIMIZE [0.5, 1.0] LOG/' -e 's/^constexpr double TARGET_BEAM_WIDTH_HALF_PROGRES_RATE = .*;  \\/\\/ OPTIMIZE \\[0\\.02, 0\\.98\\]$/constexpr double TARGET_BEAM_WIDTH_HALF_PROGRES_RATE = 0.08691553924079493;  \\/\\/ OPTIMIZE [0.02, 0.98]/'\n",
      "sed -i 2_main.cpp -e 's/^constexpr double K_START = .*;  \\/\\/ OPTIMIZE \\[0\\.04, 0\\.12\\] LOG$/constexpr double K_START = 0.058768198691161004;  \\/\\/ OPTIMIZE [0.04, 0.12] LOG/' -e 's/^constexpr double K_END = .*;   \\/\\/ OPTIMIZE \\[0\\.03, 0\\.1\\] LOG$/constexpr double K_END = 0.03327028031617907;   \\/\\/ OPTIMIZE [0.03, 0.1] LOG/' -e 's/^constexpr double K_H = .*;      \\/\\/ OPTIMIZE \\[0\\.001, 0\\.999\\]$/constexpr double K_H = 0.5043188137343065;      \\/\\/ OPTIMIZE [0.001, 0.999]/' -e 's/^constexpr short PURCHASE_TURN_LIMIT = .*;  \\/\\/ OPTIMIZE \\[790, 870\\]$/constexpr short PURCHASE_TURN_LIMIT = 843;  \\/\\/ OPTIMIZE [790, 870]/' -e 's/^constexpr int SUBSCORE3_TIGHT_TURN = .*;     \\/\\/ OPTIMIZE \\[0, 1\\]$/constexpr int SUBSCORE3_TIGHT_TURN = 0;     \\/\\/ OPTIMIZE [0, 1]/' -e 's/^constexpr int ROUGH_HASH = .*;      \\/\\/ OPTIMIZE {0, 0b00000001, 0b00010001, 0b00010011, 0b00110011}$/constexpr int ROUGH_HASH = 0b00110011;      \\/\\/ OPTIMIZE {0, 0b00000001, 0b00010001, 0b00010011, 0b00110011}/' -e 's/^constexpr double TARGET_BEAM_WIDTH_INCREASE_RATE = .*;      \\/\\/ OPTIMIZE \\[0\\.5, 1\\.0\\] LOG$/constexpr double TARGET_BEAM_WIDTH_INCREASE_RATE = 0.9981445327421956;      \\/\\/ OPTIMIZE [0.5, 1.0] LOG/' -e 's/^constexpr double TARGET_BEAM_WIDTH_HALF_PROGRES_RATE = .*;  \\/\\/ OPTIMIZE \\[0\\.02, 0\\.98\\]$/constexpr double TARGET_BEAM_WIDTH_HALF_PROGRES_RATE = 0.5915574833550853;  \\/\\/ OPTIMIZE [0.02, 0.98]/'\n",
      "sed -i 0_main.cpp -e 's/^constexpr double K_START = .*;  \\/\\/ OPTIMIZE \\[0\\.04, 0\\.12\\] LOG$/constexpr double K_START = 0.05981993828383682;  \\/\\/ OPTIMIZE [0.04, 0.12] LOG/' -e 's/^constexpr double K_END = .*;   \\/\\/ OPTIMIZE \\[0\\.03, 0\\.1\\] LOG$/constexpr double K_END = 0.043919814926183305;   \\/\\/ OPTIMIZE [0.03, 0.1] LOG/' -e 's/^constexpr double K_H = .*;      \\/\\/ OPTIMIZE \\[0\\.001, 0\\.999\\]$/constexpr double K_H = 0.4859513797331563;      \\/\\/ OPTIMIZE [0.001, 0.999]/' -e 's/^constexpr short PURCHASE_TURN_LIMIT = .*;  \\/\\/ OPTIMIZE \\[790, 870\\]$/constexpr short PURCHASE_TURN_LIMIT = 867;  \\/\\/ OPTIMIZE [790, 870]/' -e 's/^constexpr int SUBSCORE3_TIGHT_TURN = .*;     \\/\\/ OPTIMIZE \\[0, 1\\]$/constexpr int SUBSCORE3_TIGHT_TURN = 0;     \\/\\/ OPTIMIZE [0, 1]/' -e 's/^constexpr int ROUGH_HASH = .*;      \\/\\/ OPTIMIZE {0, 0b00000001, 0b00010001, 0b00010011, 0b00110011}$/constexpr int ROUGH_HASH = 0b00000001;      \\/\\/ OPTIMIZE {0, 0b00000001, 0b00010001, 0b00010011, 0b00110011}/' -e 's/^constexpr double TARGET_BEAM_WIDTH_INCREASE_RATE = .*;      \\/\\/ OPTIMIZE \\[0\\.5, 1\\.0\\] LOG$/constexpr double TARGET_BEAM_WIDTH_INCREASE_RATE = 0.5728170370129045;      \\/\\/ OPTIMIZE [0.5, 1.0] LOG/' -e 's/^constexpr double TARGET_BEAM_WIDTH_HALF_PROGRES_RATE = .*;  \\/\\/ OPTIMIZE \\[0\\.02, 0\\.98\\]$/constexpr double TARGET_BEAM_WIDTH_HALF_PROGRES_RATE = 0.40827214918465227;  \\/\\/ OPTIMIZE [0.02, 0.98]/'\n",
      "sed -i 3_main.cpp -e 's/^constexpr double K_START = .*;  \\/\\/ OPTIMIZE \\[0\\.04, 0\\.12\\] LOG$/constexpr double K_START = 0.04763818543849859;  \\/\\/ OPTIMIZE [0.04, 0.12] LOG/' -e 's/^constexpr double K_END = .*;   \\/\\/ OPTIMIZE \\[0\\.03, 0\\.1\\] LOG$/constexpr double K_END = 0.08822125325592876;   \\/\\/ OPTIMIZE [0.03, 0.1] LOG/' -e 's/^constexpr double K_H = .*;      \\/\\/ OPTIMIZE \\[0\\.001, 0\\.999\\]$/constexpr double K_H = 0.6522267958639705;      \\/\\/ OPTIMIZE [0.001, 0.999]/' -e 's/^constexpr short PURCHASE_TURN_LIMIT = .*;  \\/\\/ OPTIMIZE \\[790, 870\\]$/constexpr short PURCHASE_TURN_LIMIT = 861;  \\/\\/ OPTIMIZE [790, 870]/' -e 's/^constexpr int SUBSCORE3_TIGHT_TURN = .*;     \\/\\/ OPTIMIZE \\[0, 1\\]$/constexpr int SUBSCORE3_TIGHT_TURN = 0;     \\/\\/ OPTIMIZE [0, 1]/' -e 's/^constexpr int ROUGH_HASH = .*;      \\/\\/ OPTIMIZE {0, 0b00000001, 0b00010001, 0b00010011, 0b00110011}$/constexpr int ROUGH_HASH = 0b00010011;      \\/\\/ OPTIMIZE {0, 0b00000001, 0b00010001, 0b00010011, 0b00110011}/' -e 's/^constexpr double TARGET_BEAM_WIDTH_INCREASE_RATE = .*;      \\/\\/ OPTIMIZE \\[0\\.5, 1\\.0\\] LOG$/constexpr double TARGET_BEAM_WIDTH_INCREASE_RATE = 0.5936963113616759;      \\/\\/ OPTIMIZE [0.5, 1.0] LOG/' -e 's/^constexpr double TARGET_BEAM_WIDTH_HALF_PROGRES_RATE = .*;  \\/\\/ OPTIMIZE \\[0\\.02, 0\\.98\\]$/constexpr double TARGET_BEAM_WIDTH_HALF_PROGRES_RATE = 0.9122767819964974;  \\/\\/ OPTIMIZE [0.02, 0.98]/'\n",
      "g++ 1_main.cpp -std=gnu++17 -O2 -DONLINE_JUDGE -o 1_main.cpp.out 2> /dev/null\n",
      "g++ 2_main.cpp -std=gnu++17 -O2 -DONLINE_JUDGE -o 2_main.cpp.out 2> /dev/null\n",
      "g++ 0_main.cpp -std=gnu++17 -O2 -DONLINE_JUDGE -o 0_main.cpp.out 2> /dev/null\n",
      "g++ 3_main.cpp -std=gnu++17 -O2 -DONLINE_JUDGE -o 3_main.cpp.out 2> /dev/null\n"
     ]
    },
    {
     "name": "stderr",
     "output_type": "stream",
     "text": [
      "\u001b[32m[I 2021-09-10 18:30:50,645]\u001b[0m Trial 2 finished with value: 911790583.0 and parameters: {'K_START': 0.058768198691161004, 'K_END': 0.03327028031617907, 'K_H': 0.5043188137343065, 'PURCHASE_TURN_LIMIT': 843, 'SUBSCORE3_TIGHT_TURN': 0, 'ROUGH_HASH': '0b00110011', 'TARGET_BEAM_WIDTH_INCREASE_RATE': 0.9981445327421956, 'TARGET_BEAM_WIDTH_HALF_PROGRES_RATE': 0.5915574833550853}. Best is trial 2 with value: 911790583.0.\u001b[0m\n"
     ]
    },
    {
     "name": "stdout",
     "output_type": "stream",
     "text": [
      "Updated! 911790583.0\n",
      "callback ok\n",
      "index_parallel=4\n",
      "rm: cannot remove '4_out/*': No such file or directory\n",
      "rm: cannot remove '4_score/*': No such file or directory\n",
      "sed -i 4_main.cpp -e 's/^constexpr double K_START = .*;  \\/\\/ OPTIMIZE \\[0\\.04, 0\\.12\\] LOG$/constexpr double K_START = 0.0664400430302113;  \\/\\/ OPTIMIZE [0.04, 0.12] LOG/' -e 's/^constexpr double K_END = .*;   \\/\\/ OPTIMIZE \\[0\\.03, 0\\.1\\] LOG$/constexpr double K_END = 0.07487932196634334;   \\/\\/ OPTIMIZE [0.03, 0.1] LOG/' -e 's/^constexpr double K_H = .*;      \\/\\/ OPTIMIZE \\[0\\.001, 0\\.999\\]$/constexpr double K_H = 0.6302544546319248;      \\/\\/ OPTIMIZE [0.001, 0.999]/' -e 's/^constexpr short PURCHASE_TURN_LIMIT = .*;  \\/\\/ OPTIMIZE \\[790, 870\\]$/constexpr short PURCHASE_TURN_LIMIT = 837;  \\/\\/ OPTIMIZE [790, 870]/' -e 's/^constexpr int SUBSCORE3_TIGHT_TURN = .*;     \\/\\/ OPTIMIZE \\[0, 1\\]$/constexpr int SUBSCORE3_TIGHT_TURN = 1;     \\/\\/ OPTIMIZE [0, 1]/' -e 's/^constexpr int ROUGH_HASH = .*;      \\/\\/ OPTIMIZE {0, 0b00000001, 0b00010001, 0b00010011, 0b00110011}$/constexpr int ROUGH_HASH = 0b00010011;      \\/\\/ OPTIMIZE {0, 0b00000001, 0b00010001, 0b00010011, 0b00110011}/' -e 's/^constexpr double TARGET_BEAM_WIDTH_INCREASE_RATE = .*;      \\/\\/ OPTIMIZE \\[0\\.5, 1\\.0\\] LOG$/constexpr double TARGET_BEAM_WIDTH_INCREASE_RATE = 0.6761928037353611;      \\/\\/ OPTIMIZE [0.5, 1.0] LOG/' -e 's/^constexpr double TARGET_BEAM_WIDTH_HALF_PROGRES_RATE = .*;  \\/\\/ OPTIMIZE \\[0\\.02, 0\\.98\\]$/constexpr double TARGET_BEAM_WIDTH_HALF_PROGRES_RATE = 0.4065874707277774;  \\/\\/ OPTIMIZE [0.02, 0.98]/'\n",
      "g++ 4_main.cpp -std=gnu++17 -O2 -DONLINE_JUDGE -o 4_main.cpp.out 2> /dev/null\n"
     ]
    },
    {
     "name": "stderr",
     "output_type": "stream",
     "text": [
      "\u001b[32m[I 2021-09-10 18:30:54,968]\u001b[0m Trial 3 finished with value: 907824184.0 and parameters: {'K_START': 0.04763818543849859, 'K_END': 0.08822125325592876, 'K_H': 0.6522267958639705, 'PURCHASE_TURN_LIMIT': 861, 'SUBSCORE3_TIGHT_TURN': 0, 'ROUGH_HASH': '0b00010011', 'TARGET_BEAM_WIDTH_INCREASE_RATE': 0.5936963113616759, 'TARGET_BEAM_WIDTH_HALF_PROGRES_RATE': 0.9122767819964974}. Best is trial 2 with value: 911790583.0.\u001b[0m\n"
     ]
    },
    {
     "name": "stdout",
     "output_type": "stream",
     "text": [
      "callback ok\n",
      "index_parallel=5\n",
      "rm: cannot remove '5_out/*': No such file or directory\n",
      "rm: cannot remove '5_score/*': No such file or directory\n"
     ]
    },
    {
     "name": "stderr",
     "output_type": "stream",
     "text": [
      "\u001b[32m[I 2021-09-10 18:30:55,753]\u001b[0m Trial 1 finished with value: 878021943.0 and parameters: {'K_START': 0.041305730607641915, 'K_END': 0.043533106491330534, 'K_H': 0.056602315841052096, 'PURCHASE_TURN_LIMIT': 796, 'SUBSCORE3_TIGHT_TURN': 1, 'ROUGH_HASH': '0b00000001', 'TARGET_BEAM_WIDTH_INCREASE_RATE': 0.5012251893762257, 'TARGET_BEAM_WIDTH_HALF_PROGRES_RATE': 0.08691553924079493}. Best is trial 2 with value: 911790583.0.\u001b[0m\n"
     ]
    },
    {
     "name": "stdout",
     "output_type": "stream",
     "text": [
      "callback ok\n",
      "index_parallel=6\n",
      "rm: cannot remove '6_out/*': No such file or directory\n",
      "rm: cannot remove '6_score/*': No such file or directory\n",
      "sed -i 5_main.cpp -e 's/^constexpr double K_START = .*;  \\/\\/ OPTIMIZE \\[0\\.04, 0\\.12\\] LOG$/constexpr double K_START = 0.10245600133790798;  \\/\\/ OPTIMIZE [0.04, 0.12] LOG/' -e 's/^constexpr double K_END = .*;   \\/\\/ OPTIMIZE \\[0\\.03, 0\\.1\\] LOG$/constexpr double K_END = 0.07856663571694536;   \\/\\/ OPTIMIZE [0.03, 0.1] LOG/' -e 's/^constexpr double K_H = .*;      \\/\\/ OPTIMIZE \\[0\\.001, 0\\.999\\]$/constexpr double K_H = 0.7537456880303799;      \\/\\/ OPTIMIZE [0.001, 0.999]/' -e 's/^constexpr short PURCHASE_TURN_LIMIT = .*;  \\/\\/ OPTIMIZE \\[790, 870\\]$/constexpr short PURCHASE_TURN_LIMIT = 827;  \\/\\/ OPTIMIZE [790, 870]/' -e 's/^constexpr int SUBSCORE3_TIGHT_TURN = .*;     \\/\\/ OPTIMIZE \\[0, 1\\]$/constexpr int SUBSCORE3_TIGHT_TURN = 0;     \\/\\/ OPTIMIZE [0, 1]/' -e 's/^constexpr int ROUGH_HASH = .*;      \\/\\/ OPTIMIZE {0, 0b00000001, 0b00010001, 0b00010011, 0b00110011}$/constexpr int ROUGH_HASH = 0;      \\/\\/ OPTIMIZE {0, 0b00000001, 0b00010001, 0b00010011, 0b00110011}/' -e 's/^constexpr double TARGET_BEAM_WIDTH_INCREASE_RATE = .*;      \\/\\/ OPTIMIZE \\[0\\.5, 1\\.0\\] LOG$/constexpr double TARGET_BEAM_WIDTH_INCREASE_RATE = 0.7795118178505634;      \\/\\/ OPTIMIZE [0.5, 1.0] LOG/' -e 's/^constexpr double TARGET_BEAM_WIDTH_HALF_PROGRES_RATE = .*;  \\/\\/ OPTIMIZE \\[0\\.02, 0\\.98\\]$/constexpr double TARGET_BEAM_WIDTH_HALF_PROGRES_RATE = 0.38929777086699807;  \\/\\/ OPTIMIZE [0.02, 0.98]/'\n",
      "g++ 5_main.cpp -std=gnu++17 -O2 -DONLINE_JUDGE -o 5_main.cpp.out 2> /dev/null\n",
      "sed -i 6_main.cpp -e 's/^constexpr double K_START = .*;  \\/\\/ OPTIMIZE \\[0\\.04, 0\\.12\\] LOG$/constexpr double K_START = 0.061815897117754454;  \\/\\/ OPTIMIZE [0.04, 0.12] LOG/' -e 's/^constexpr double K_END = .*;   \\/\\/ OPTIMIZE \\[0\\.03, 0\\.1\\] LOG$/constexpr double K_END = 0.08360678423907666;   \\/\\/ OPTIMIZE [0.03, 0.1] LOG/' -e 's/^constexpr double K_H = .*;      \\/\\/ OPTIMIZE \\[0\\.001, 0\\.999\\]$/constexpr double K_H = 0.7368830094171842;      \\/\\/ OPTIMIZE [0.001, 0.999]/' -e 's/^constexpr short PURCHASE_TURN_LIMIT = .*;  \\/\\/ OPTIMIZE \\[790, 870\\]$/constexpr short PURCHASE_TURN_LIMIT = 790;  \\/\\/ OPTIMIZE [790, 870]/' -e 's/^constexpr int SUBSCORE3_TIGHT_TURN = .*;     \\/\\/ OPTIMIZE \\[0, 1\\]$/constexpr int SUBSCORE3_TIGHT_TURN = 0;     \\/\\/ OPTIMIZE [0, 1]/' -e 's/^constexpr int ROUGH_HASH = .*;      \\/\\/ OPTIMIZE {0, 0b00000001, 0b00010001, 0b00010011, 0b00110011}$/constexpr int ROUGH_HASH = 0;      \\/\\/ OPTIMIZE {0, 0b00000001, 0b00010001, 0b00010011, 0b00110011}/' -e 's/^constexpr double TARGET_BEAM_WIDTH_INCREASE_RATE = .*;      \\/\\/ OPTIMIZE \\[0\\.5, 1\\.0\\] LOG$/constexpr double TARGET_BEAM_WIDTH_INCREASE_RATE = 0.8676728002617882;      \\/\\/ OPTIMIZE [0.5, 1.0] LOG/' -e 's/^constexpr double TARGET_BEAM_WIDTH_HALF_PROGRES_RATE = .*;  \\/\\/ OPTIMIZE \\[0\\.02, 0\\.98\\]$/constexpr double TARGET_BEAM_WIDTH_HALF_PROGRES_RATE = 0.7987252804908413;  \\/\\/ OPTIMIZE [0.02, 0.98]/'\n",
      "g++ 6_main.cpp -std=gnu++17 -O2 -DONLINE_JUDGE -o 6_main.cpp.out 2> /dev/null\n"
     ]
    },
    {
     "name": "stderr",
     "output_type": "stream",
     "text": [
      "\u001b[32m[I 2021-09-10 18:30:59,154]\u001b[0m Trial 0 finished with value: 913902276.0 and parameters: {'K_START': 0.05981993828383682, 'K_END': 0.043919814926183305, 'K_H': 0.4859513797331563, 'PURCHASE_TURN_LIMIT': 867, 'SUBSCORE3_TIGHT_TURN': 0, 'ROUGH_HASH': '0b00000001', 'TARGET_BEAM_WIDTH_INCREASE_RATE': 0.5728170370129045, 'TARGET_BEAM_WIDTH_HALF_PROGRES_RATE': 0.40827214918465227}. Best is trial 0 with value: 913902276.0.\u001b[0m\n"
     ]
    },
    {
     "name": "stdout",
     "output_type": "stream",
     "text": [
      "Updated! 913902276.0\n",
      "callback ok\n",
      "index_parallel=7\n",
      "rm: cannot remove '7_out/*': No such file or directory\n",
      "rm: cannot remove '7_score/*': No such file or directory\n",
      "sed -i 7_main.cpp -e 's/^constexpr double K_START = .*;  \\/\\/ OPTIMIZE \\[0\\.04, 0\\.12\\] LOG$/constexpr double K_START = 0.10594550851508266;  \\/\\/ OPTIMIZE [0.04, 0.12] LOG/' -e 's/^constexpr double K_END = .*;   \\/\\/ OPTIMIZE \\[0\\.03, 0\\.1\\] LOG$/constexpr double K_END = 0.03441999913431249;   \\/\\/ OPTIMIZE [0.03, 0.1] LOG/' -e 's/^constexpr double K_H = .*;      \\/\\/ OPTIMIZE \\[0\\.001, 0\\.999\\]$/constexpr double K_H = 0.9072715873026584;      \\/\\/ OPTIMIZE [0.001, 0.999]/' -e 's/^constexpr short PURCHASE_TURN_LIMIT = .*;  \\/\\/ OPTIMIZE \\[790, 870\\]$/constexpr short PURCHASE_TURN_LIMIT = 820;  \\/\\/ OPTIMIZE [790, 870]/' -e 's/^constexpr int SUBSCORE3_TIGHT_TURN = .*;     \\/\\/ OPTIMIZE \\[0, 1\\]$/constexpr int SUBSCORE3_TIGHT_TURN = 1;     \\/\\/ OPTIMIZE [0, 1]/' -e 's/^constexpr int ROUGH_HASH = .*;      \\/\\/ OPTIMIZE {0, 0b00000001, 0b00010001, 0b00010011, 0b00110011}$/constexpr int ROUGH_HASH = 0b00110011;      \\/\\/ OPTIMIZE {0, 0b00000001, 0b00010001, 0b00010011, 0b00110011}/' -e 's/^constexpr double TARGET_BEAM_WIDTH_INCREASE_RATE = .*;      \\/\\/ OPTIMIZE \\[0\\.5, 1\\.0\\] LOG$/constexpr double TARGET_BEAM_WIDTH_INCREASE_RATE = 0.5438111220944172;      \\/\\/ OPTIMIZE [0.5, 1.0] LOG/' -e 's/^constexpr double TARGET_BEAM_WIDTH_HALF_PROGRES_RATE = .*;  \\/\\/ OPTIMIZE \\[0\\.02, 0\\.98\\]$/constexpr double TARGET_BEAM_WIDTH_HALF_PROGRES_RATE = 0.7480464180218874;  \\/\\/ OPTIMIZE [0.02, 0.98]/'\n",
      "g++ 7_main.cpp -std=gnu++17 -O2 -DONLINE_JUDGE -o 7_main.cpp.out 2> /dev/null\n"
     ]
    },
    {
     "name": "stderr",
     "output_type": "stream",
     "text": [
      "\u001b[32m[I 2021-09-10 18:33:28,244]\u001b[0m Trial 4 finished with value: 916065475.0 and parameters: {'K_START': 0.0664400430302113, 'K_END': 0.07487932196634334, 'K_H': 0.6302544546319248, 'PURCHASE_TURN_LIMIT': 837, 'SUBSCORE3_TIGHT_TURN': 1, 'ROUGH_HASH': '0b00010011', 'TARGET_BEAM_WIDTH_INCREASE_RATE': 0.6761928037353611, 'TARGET_BEAM_WIDTH_HALF_PROGRES_RATE': 0.4065874707277774}. Best is trial 4 with value: 916065475.0.\u001b[0m\n"
     ]
    },
    {
     "name": "stdout",
     "output_type": "stream",
     "text": [
      "Updated! 916065475.0\n",
      "callback ok\n",
      "index_parallel=8\n",
      "rm: cannot remove '8_out/*': No such file or directory\n",
      "rm: cannot remove '8_score/*': No such file or directory\n",
      "sed -i 8_main.cpp -e 's/^constexpr double K_START = .*;  \\/\\/ OPTIMIZE \\[0\\.04, 0\\.12\\] LOG$/constexpr double K_START = 0.04014365069581348;  \\/\\/ OPTIMIZE [0.04, 0.12] LOG/' -e 's/^constexpr double K_END = .*;   \\/\\/ OPTIMIZE \\[0\\.03, 0\\.1\\] LOG$/constexpr double K_END = 0.053866441029779076;   \\/\\/ OPTIMIZE [0.03, 0.1] LOG/' -e 's/^constexpr double K_H = .*;      \\/\\/ OPTIMIZE \\[0\\.001, 0\\.999\\]$/constexpr double K_H = 0.16365564400415758;      \\/\\/ OPTIMIZE [0.001, 0.999]/' -e 's/^constexpr short PURCHASE_TURN_LIMIT = .*;  \\/\\/ OPTIMIZE \\[790, 870\\]$/constexpr short PURCHASE_TURN_LIMIT = 818;  \\/\\/ OPTIMIZE [790, 870]/' -e 's/^constexpr int SUBSCORE3_TIGHT_TURN = .*;     \\/\\/ OPTIMIZE \\[0, 1\\]$/constexpr int SUBSCORE3_TIGHT_TURN = 1;     \\/\\/ OPTIMIZE [0, 1]/' -e 's/^constexpr int ROUGH_HASH = .*;      \\/\\/ OPTIMIZE {0, 0b00000001, 0b00010001, 0b00010011, 0b00110011}$/constexpr int ROUGH_HASH = 0b00010011;      \\/\\/ OPTIMIZE {0, 0b00000001, 0b00010001, 0b00010011, 0b00110011}/' -e 's/^constexpr double TARGET_BEAM_WIDTH_INCREASE_RATE = .*;      \\/\\/ OPTIMIZE \\[0\\.5, 1\\.0\\] LOG$/constexpr double TARGET_BEAM_WIDTH_INCREASE_RATE = 0.5920051156327495;      \\/\\/ OPTIMIZE [0.5, 1.0] LOG/' -e 's/^constexpr double TARGET_BEAM_WIDTH_HALF_PROGRES_RATE = .*;  \\/\\/ OPTIMIZE \\[0\\.02, 0\\.98\\]$/constexpr double TARGET_BEAM_WIDTH_HALF_PROGRES_RATE = 0.12129225650583546;  \\/\\/ OPTIMIZE [0.02, 0.98]/'\n",
      "g++ 8_main.cpp -std=gnu++17 -O2 -DONLINE_JUDGE -o 8_main.cpp.out 2> /dev/null\n"
     ]
    },
    {
     "name": "stderr",
     "output_type": "stream",
     "text": [
      "\u001b[32m[I 2021-09-10 18:33:34,443]\u001b[0m Trial 7 finished with value: 890644079.0 and parameters: {'K_START': 0.10594550851508266, 'K_END': 0.03441999913431249, 'K_H': 0.9072715873026584, 'PURCHASE_TURN_LIMIT': 820, 'SUBSCORE3_TIGHT_TURN': 1, 'ROUGH_HASH': '0b00110011', 'TARGET_BEAM_WIDTH_INCREASE_RATE': 0.5438111220944172, 'TARGET_BEAM_WIDTH_HALF_PROGRES_RATE': 0.7480464180218874}. Best is trial 4 with value: 916065475.0.\u001b[0m\n"
     ]
    },
    {
     "name": "stdout",
     "output_type": "stream",
     "text": [
      "callback ok\n",
      "index_parallel=9\n",
      "rm: cannot remove '9_out/*': No such file or directory\n",
      "rm: cannot remove '9_score/*': No such file or directory\n",
      "sed -i 9_main.cpp -e 's/^constexpr double K_START = .*;  \\/\\/ OPTIMIZE \\[0\\.04, 0\\.12\\] LOG$/constexpr double K_START = 0.05576192392024481;  \\/\\/ OPTIMIZE [0.04, 0.12] LOG/' -e 's/^constexpr double K_END = .*;   \\/\\/ OPTIMIZE \\[0\\.03, 0\\.1\\] LOG$/constexpr double K_END = 0.07540811307417815;   \\/\\/ OPTIMIZE [0.03, 0.1] LOG/' -e 's/^constexpr double K_H = .*;      \\/\\/ OPTIMIZE \\[0\\.001, 0\\.999\\]$/constexpr double K_H = 0.09315073257584991;      \\/\\/ OPTIMIZE [0.001, 0.999]/' -e 's/^constexpr short PURCHASE_TURN_LIMIT = .*;  \\/\\/ OPTIMIZE \\[790, 870\\]$/constexpr short PURCHASE_TURN_LIMIT = 793;  \\/\\/ OPTIMIZE [790, 870]/' -e 's/^constexpr int SUBSCORE3_TIGHT_TURN = .*;     \\/\\/ OPTIMIZE \\[0, 1\\]$/constexpr int SUBSCORE3_TIGHT_TURN = 0;     \\/\\/ OPTIMIZE [0, 1]/' -e 's/^constexpr int ROUGH_HASH = .*;      \\/\\/ OPTIMIZE {0, 0b00000001, 0b00010001, 0b00010011, 0b00110011}$/constexpr int ROUGH_HASH = 0;      \\/\\/ OPTIMIZE {0, 0b00000001, 0b00010001, 0b00010011, 0b00110011}/' -e 's/^constexpr double TARGET_BEAM_WIDTH_INCREASE_RATE = .*;      \\/\\/ OPTIMIZE \\[0\\.5, 1\\.0\\] LOG$/constexpr double TARGET_BEAM_WIDTH_INCREASE_RATE = 0.5188869179451439;      \\/\\/ OPTIMIZE [0.5, 1.0] LOG/' -e 's/^constexpr double TARGET_BEAM_WIDTH_HALF_PROGRES_RATE = .*;  \\/\\/ OPTIMIZE \\[0\\.02, 0\\.98\\]$/constexpr double TARGET_BEAM_WIDTH_HALF_PROGRES_RATE = 0.21002659775074006;  \\/\\/ OPTIMIZE [0.02, 0.98]/'\n",
      "g++ 9_main.cpp -std=gnu++17 -O2 -DONLINE_JUDGE -o 9_main.cpp.out 2> /dev/null\n"
     ]
    },
    {
     "name": "stderr",
     "output_type": "stream",
     "text": [
      "\u001b[32m[I 2021-09-10 18:33:36,951]\u001b[0m Trial 6 finished with value: 886301132.0 and parameters: {'K_START': 0.061815897117754454, 'K_END': 0.08360678423907666, 'K_H': 0.7368830094171842, 'PURCHASE_TURN_LIMIT': 790, 'SUBSCORE3_TIGHT_TURN': 0, 'ROUGH_HASH': '0', 'TARGET_BEAM_WIDTH_INCREASE_RATE': 0.8676728002617882, 'TARGET_BEAM_WIDTH_HALF_PROGRES_RATE': 0.7987252804908413}. Best is trial 4 with value: 916065475.0.\u001b[0m\n"
     ]
    },
    {
     "name": "stdout",
     "output_type": "stream",
     "text": [
      "callback ok\n",
      "index_parallel=10\n",
      "rm: cannot remove '10_out/*': No such file or directory\n",
      "rm: cannot remove '10_score/*': No such file or directory\n",
      "sed -i 10_main.cpp -e 's/^constexpr double K_START = .*;  \\/\\/ OPTIMIZE \\[0\\.04, 0\\.12\\] LOG$/constexpr double K_START = 0.04629845843561457;  \\/\\/ OPTIMIZE [0.04, 0.12] LOG/' -e 's/^constexpr double K_END = .*;   \\/\\/ OPTIMIZE \\[0\\.03, 0\\.1\\] LOG$/constexpr double K_END = 0.07848253087568105;   \\/\\/ OPTIMIZE [0.03, 0.1] LOG/' -e 's/^constexpr double K_H = .*;      \\/\\/ OPTIMIZE \\[0\\.001, 0\\.999\\]$/constexpr double K_H = 0.22311031435408413;      \\/\\/ OPTIMIZE [0.001, 0.999]/' -e 's/^constexpr short PURCHASE_TURN_LIMIT = .*;  \\/\\/ OPTIMIZE \\[790, 870\\]$/constexpr short PURCHASE_TURN_LIMIT = 854;  \\/\\/ OPTIMIZE [790, 870]/' -e 's/^constexpr int SUBSCORE3_TIGHT_TURN = .*;     \\/\\/ OPTIMIZE \\[0, 1\\]$/constexpr int SUBSCORE3_TIGHT_TURN = 0;     \\/\\/ OPTIMIZE [0, 1]/' -e 's/^constexpr int ROUGH_HASH = .*;      \\/\\/ OPTIMIZE {0, 0b00000001, 0b00010001, 0b00010011, 0b00110011}$/constexpr int ROUGH_HASH = 0;      \\/\\/ OPTIMIZE {0, 0b00000001, 0b00010001, 0b00010011, 0b00110011}/' -e 's/^constexpr double TARGET_BEAM_WIDTH_INCREASE_RATE = .*;      \\/\\/ OPTIMIZE \\[0\\.5, 1\\.0\\] LOG$/constexpr double TARGET_BEAM_WIDTH_INCREASE_RATE = 0.7526295343404279;      \\/\\/ OPTIMIZE [0.5, 1.0] LOG/' -e 's/^constexpr double TARGET_BEAM_WIDTH_HALF_PROGRES_RATE = .*;  \\/\\/ OPTIMIZE \\[0\\.02, 0\\.98\\]$/constexpr double TARGET_BEAM_WIDTH_HALF_PROGRES_RATE = 0.05665981704466094;  \\/\\/ OPTIMIZE [0.02, 0.98]/'\n",
      "g++ 10_main.cpp -std=gnu++17 -O2 -DONLINE_JUDGE -o 10_main.cpp.out 2> /dev/null\n"
     ]
    },
    {
     "name": "stderr",
     "output_type": "stream",
     "text": [
      "\u001b[32m[I 2021-09-10 18:33:39,263]\u001b[0m Trial 5 finished with value: 605864550.0 and parameters: {'K_START': 0.10245600133790798, 'K_END': 0.07856663571694536, 'K_H': 0.7537456880303799, 'PURCHASE_TURN_LIMIT': 827, 'SUBSCORE3_TIGHT_TURN': 0, 'ROUGH_HASH': '0', 'TARGET_BEAM_WIDTH_INCREASE_RATE': 0.7795118178505634, 'TARGET_BEAM_WIDTH_HALF_PROGRES_RATE': 0.38929777086699807}. Best is trial 4 with value: 916065475.0.\u001b[0m\n"
     ]
    },
    {
     "name": "stdout",
     "output_type": "stream",
     "text": [
      "callback ok\n",
      "index_parallel=11\n",
      "rm: cannot remove '11_out/*': No such file or directory\n",
      "rm: cannot remove '11_score/*': No such file or directory\n",
      "sed -i 11_main.cpp -e 's/^constexpr double K_START = .*;  \\/\\/ OPTIMIZE \\[0\\.04, 0\\.12\\] LOG$/constexpr double K_START = 0.04363847648828177;  \\/\\/ OPTIMIZE [0.04, 0.12] LOG/' -e 's/^constexpr double K_END = .*;   \\/\\/ OPTIMIZE \\[0\\.03, 0\\.1\\] LOG$/constexpr double K_END = 0.061757591781950394;   \\/\\/ OPTIMIZE [0.03, 0.1] LOG/' -e 's/^constexpr double K_H = .*;      \\/\\/ OPTIMIZE \\[0\\.001, 0\\.999\\]$/constexpr double K_H = 0.7221427615272192;      \\/\\/ OPTIMIZE [0.001, 0.999]/' -e 's/^constexpr short PURCHASE_TURN_LIMIT = .*;  \\/\\/ OPTIMIZE \\[790, 870\\]$/constexpr short PURCHASE_TURN_LIMIT = 870;  \\/\\/ OPTIMIZE [790, 870]/' -e 's/^constexpr int SUBSCORE3_TIGHT_TURN = .*;     \\/\\/ OPTIMIZE \\[0, 1\\]$/constexpr int SUBSCORE3_TIGHT_TURN = 0;     \\/\\/ OPTIMIZE [0, 1]/' -e 's/^constexpr int ROUGH_HASH = .*;      \\/\\/ OPTIMIZE {0, 0b00000001, 0b00010001, 0b00010011, 0b00110011}$/constexpr int ROUGH_HASH = 0b00010001;      \\/\\/ OPTIMIZE {0, 0b00000001, 0b00010001, 0b00010011, 0b00110011}/' -e 's/^constexpr double TARGET_BEAM_WIDTH_INCREASE_RATE = .*;      \\/\\/ OPTIMIZE \\[0\\.5, 1\\.0\\] LOG$/constexpr double TARGET_BEAM_WIDTH_INCREASE_RATE = 0.5519213453586665;      \\/\\/ OPTIMIZE [0.5, 1.0] LOG/' -e 's/^constexpr double TARGET_BEAM_WIDTH_HALF_PROGRES_RATE = .*;  \\/\\/ OPTIMIZE \\[0\\.02, 0\\.98\\]$/constexpr double TARGET_BEAM_WIDTH_HALF_PROGRES_RATE = 0.276282396400426;  \\/\\/ OPTIMIZE [0.02, 0.98]/'\n",
      "g++ 11_main.cpp -std=gnu++17 -O2 -DONLINE_JUDGE -o 11_main.cpp.out 2> /dev/null\n"
     ]
    },
    {
     "name": "stderr",
     "output_type": "stream",
     "text": [
      "\u001b[32m[I 2021-09-10 18:36:03,580]\u001b[0m Trial 8 finished with value: 909700809.0 and parameters: {'K_START': 0.04014365069581348, 'K_END': 0.053866441029779076, 'K_H': 0.16365564400415758, 'PURCHASE_TURN_LIMIT': 818, 'SUBSCORE3_TIGHT_TURN': 1, 'ROUGH_HASH': '0b00010011', 'TARGET_BEAM_WIDTH_INCREASE_RATE': 0.5920051156327495, 'TARGET_BEAM_WIDTH_HALF_PROGRES_RATE': 0.12129225650583546}. Best is trial 4 with value: 916065475.0.\u001b[0m\n"
     ]
    },
    {
     "name": "stdout",
     "output_type": "stream",
     "text": [
      "callback ok\n",
      "index_parallel=0\n",
      "sed -i 0_main.cpp -e 's/^constexpr double K_START = .*;  \\/\\/ OPTIMIZE \\[0\\.04, 0\\.12\\] LOG$/constexpr double K_START = 0.10725492476834414;  \\/\\/ OPTIMIZE [0.04, 0.12] LOG/' -e 's/^constexpr double K_END = .*;   \\/\\/ OPTIMIZE \\[0\\.03, 0\\.1\\] LOG$/constexpr double K_END = 0.036871765284667804;   \\/\\/ OPTIMIZE [0.03, 0.1] LOG/' -e 's/^constexpr double K_H = .*;      \\/\\/ OPTIMIZE \\[0\\.001, 0\\.999\\]$/constexpr double K_H = 0.75628113723779;      \\/\\/ OPTIMIZE [0.001, 0.999]/' -e 's/^constexpr short PURCHASE_TURN_LIMIT = .*;  \\/\\/ OPTIMIZE \\[790, 870\\]$/constexpr short PURCHASE_TURN_LIMIT = 801;  \\/\\/ OPTIMIZE [790, 870]/' -e 's/^constexpr int SUBSCORE3_TIGHT_TURN = .*;     \\/\\/ OPTIMIZE \\[0, 1\\]$/constexpr int SUBSCORE3_TIGHT_TURN = 1;     \\/\\/ OPTIMIZE [0, 1]/' -e 's/^constexpr int ROUGH_HASH = .*;      \\/\\/ OPTIMIZE {0, 0b00000001, 0b00010001, 0b00010011, 0b00110011}$/constexpr int ROUGH_HASH = 0b00010001;      \\/\\/ OPTIMIZE {0, 0b00000001, 0b00010001, 0b00010011, 0b00110011}/' -e 's/^constexpr double TARGET_BEAM_WIDTH_INCREASE_RATE = .*;      \\/\\/ OPTIMIZE \\[0\\.5, 1\\.0\\] LOG$/constexpr double TARGET_BEAM_WIDTH_INCREASE_RATE = 0.5154094460092901;      \\/\\/ OPTIMIZE [0.5, 1.0] LOG/' -e 's/^constexpr double TARGET_BEAM_WIDTH_HALF_PROGRES_RATE = .*;  \\/\\/ OPTIMIZE \\[0\\.02, 0\\.98\\]$/constexpr double TARGET_BEAM_WIDTH_HALF_PROGRES_RATE = 0.04935634244649073;  \\/\\/ OPTIMIZE [0.02, 0.98]/'\n",
      "g++ 0_main.cpp -std=gnu++17 -O2 -DONLINE_JUDGE -o 0_main.cpp.out 2> /dev/null\n"
     ]
    },
    {
     "name": "stderr",
     "output_type": "stream",
     "text": [
      "\u001b[32m[I 2021-09-10 18:36:18,203]\u001b[0m Trial 9 finished with value: 886508274.0 and parameters: {'K_START': 0.05576192392024481, 'K_END': 0.07540811307417815, 'K_H': 0.09315073257584991, 'PURCHASE_TURN_LIMIT': 793, 'SUBSCORE3_TIGHT_TURN': 0, 'ROUGH_HASH': '0', 'TARGET_BEAM_WIDTH_INCREASE_RATE': 0.5188869179451439, 'TARGET_BEAM_WIDTH_HALF_PROGRES_RATE': 0.21002659775074006}. Best is trial 4 with value: 916065475.0.\u001b[0m\n"
     ]
    },
    {
     "name": "stdout",
     "output_type": "stream",
     "text": [
      "callback ok\n",
      "index_parallel=1\n",
      "sed -i 1_main.cpp -e 's/^constexpr double K_START = .*;  \\/\\/ OPTIMIZE \\[0\\.04, 0\\.12\\] LOG$/constexpr double K_START = 0.08442081141117429;  \\/\\/ OPTIMIZE [0.04, 0.12] LOG/' -e 's/^constexpr double K_END = .*;   \\/\\/ OPTIMIZE \\[0\\.03, 0\\.1\\] LOG$/constexpr double K_END = 0.06496567758866349;   \\/\\/ OPTIMIZE [0.03, 0.1] LOG/' -e 's/^constexpr double K_H = .*;      \\/\\/ OPTIMIZE \\[0\\.001, 0\\.999\\]$/constexpr double K_H = 0.31603109538530005;      \\/\\/ OPTIMIZE [0.001, 0.999]/' -e 's/^constexpr short PURCHASE_TURN_LIMIT = .*;  \\/\\/ OPTIMIZE \\[790, 870\\]$/constexpr short PURCHASE_TURN_LIMIT = 848;  \\/\\/ OPTIMIZE [790, 870]/' -e 's/^constexpr int SUBSCORE3_TIGHT_TURN = .*;     \\/\\/ OPTIMIZE \\[0, 1\\]$/constexpr int SUBSCORE3_TIGHT_TURN = 1;     \\/\\/ OPTIMIZE [0, 1]/' -e 's/^constexpr int ROUGH_HASH = .*;      \\/\\/ OPTIMIZE {0, 0b00000001, 0b00010001, 0b00010011, 0b00110011}$/constexpr int ROUGH_HASH = 0b00010001;      \\/\\/ OPTIMIZE {0, 0b00000001, 0b00010001, 0b00010011, 0b00110011}/' -e 's/^constexpr double TARGET_BEAM_WIDTH_INCREASE_RATE = .*;      \\/\\/ OPTIMIZE \\[0\\.5, 1\\.0\\] LOG$/constexpr double TARGET_BEAM_WIDTH_INCREASE_RATE = 0.6802593868682695;      \\/\\/ OPTIMIZE [0.5, 1.0] LOG/' -e 's/^constexpr double TARGET_BEAM_WIDTH_HALF_PROGRES_RATE = .*;  \\/\\/ OPTIMIZE \\[0\\.02, 0\\.98\\]$/constexpr double TARGET_BEAM_WIDTH_HALF_PROGRES_RATE = 0.5281451826055159;  \\/\\/ OPTIMIZE [0.02, 0.98]/'\n",
      "g++ 1_main.cpp -std=gnu++17 -O2 -DONLINE_JUDGE -o 1_main.cpp.out 2> /dev/null\n"
     ]
    },
    {
     "name": "stderr",
     "output_type": "stream",
     "text": [
      "\u001b[32m[I 2021-09-10 18:36:22,171]\u001b[0m Trial 10 finished with value: 919845333.0 and parameters: {'K_START': 0.04629845843561457, 'K_END': 0.07848253087568105, 'K_H': 0.22311031435408413, 'PURCHASE_TURN_LIMIT': 854, 'SUBSCORE3_TIGHT_TURN': 0, 'ROUGH_HASH': '0', 'TARGET_BEAM_WIDTH_INCREASE_RATE': 0.7526295343404279, 'TARGET_BEAM_WIDTH_HALF_PROGRES_RATE': 0.05665981704466094}. Best is trial 10 with value: 919845333.0.\u001b[0m\n"
     ]
    },
    {
     "name": "stdout",
     "output_type": "stream",
     "text": [
      "Updated! 919845333.0\n"
     ]
    },
    {
     "name": "stderr",
     "output_type": "stream",
     "text": [
      "\u001b[32m[I 2021-09-10 18:36:22,237]\u001b[0m Trial 11 finished with value: 907871527.0 and parameters: {'K_START': 0.04363847648828177, 'K_END': 0.061757591781950394, 'K_H': 0.7221427615272192, 'PURCHASE_TURN_LIMIT': 870, 'SUBSCORE3_TIGHT_TURN': 0, 'ROUGH_HASH': '0b00010001', 'TARGET_BEAM_WIDTH_INCREASE_RATE': 0.5519213453586665, 'TARGET_BEAM_WIDTH_HALF_PROGRES_RATE': 0.276282396400426}. Best is trial 10 with value: 919845333.0.\u001b[0m\n"
     ]
    },
    {
     "name": "stdout",
     "output_type": "stream",
     "text": [
      "callback ok\n",
      "index_parallel=2\n",
      "callback ok\n",
      "index_parallel=3\n",
      "sed -i 2_main.cpp -e 's/^constexpr double K_START = .*;  \\/\\/ OPTIMIZE \\[0\\.04, 0\\.12\\] LOG$/constexpr double K_START = 0.07631722304180198;  \\/\\/ OPTIMIZE [0.04, 0.12] LOG/' -e 's/^constexpr double K_END = .*;   \\/\\/ OPTIMIZE \\[0\\.03, 0\\.1\\] LOG$/constexpr double K_END = 0.0663931111933397;   \\/\\/ OPTIMIZE [0.03, 0.1] LOG/' -e 's/^constexpr double K_H = .*;      \\/\\/ OPTIMIZE \\[0\\.001, 0\\.999\\]$/constexpr double K_H = 0.2953088881973239;      \\/\\/ OPTIMIZE [0.001, 0.999]/' -e 's/^constexpr short PURCHASE_TURN_LIMIT = .*;  \\/\\/ OPTIMIZE \\[790, 870\\]$/constexpr short PURCHASE_TURN_LIMIT = 846;  \\/\\/ OPTIMIZE [790, 870]/' -e 's/^constexpr int SUBSCORE3_TIGHT_TURN = .*;     \\/\\/ OPTIMIZE \\[0, 1\\]$/constexpr int SUBSCORE3_TIGHT_TURN = 1;     \\/\\/ OPTIMIZE [0, 1]/' -e 's/^constexpr int ROUGH_HASH = .*;      \\/\\/ OPTIMIZE {0, 0b00000001, 0b00010001, 0b00010011, 0b00110011}$/constexpr int ROUGH_HASH = 0b00010011;      \\/\\/ OPTIMIZE {0, 0b00000001, 0b00010001, 0b00010011, 0b00110011}/' -e 's/^constexpr double TARGET_BEAM_WIDTH_INCREASE_RATE = .*;      \\/\\/ OPTIMIZE \\[0\\.5, 1\\.0\\] LOG$/constexpr double TARGET_BEAM_WIDTH_INCREASE_RATE = 0.6773048951104631;      \\/\\/ OPTIMIZE [0.5, 1.0] LOG/' -e 's/^constexpr double TARGET_BEAM_WIDTH_HALF_PROGRES_RATE = .*;  \\/\\/ OPTIMIZE \\[0\\.02, 0\\.98\\]$/constexpr double TARGET_BEAM_WIDTH_HALF_PROGRES_RATE = 0.6084295547163354;  \\/\\/ OPTIMIZE [0.02, 0.98]/'\n",
      "g++ 2_main.cpp -std=gnu++17 -O2 -DONLINE_JUDGE -o 2_main.cpp.out 2> /dev/null\n",
      "sed -i 3_main.cpp -e 's/^constexpr double K_START = .*;  \\/\\/ OPTIMIZE \\[0\\.04, 0\\.12\\] LOG$/constexpr double K_START = 0.08059536710663817;  \\/\\/ OPTIMIZE [0.04, 0.12] LOG/' -e 's/^constexpr double K_END = .*;   \\/\\/ OPTIMIZE \\[0\\.03, 0\\.1\\] LOG$/constexpr double K_END = 0.09839020770752036;   \\/\\/ OPTIMIZE [0.03, 0.1] LOG/' -e 's/^constexpr double K_H = .*;      \\/\\/ OPTIMIZE \\[0\\.001, 0\\.999\\]$/constexpr double K_H = 0.3059696079615228;      \\/\\/ OPTIMIZE [0.001, 0.999]/' -e 's/^constexpr short PURCHASE_TURN_LIMIT = .*;  \\/\\/ OPTIMIZE \\[790, 870\\]$/constexpr short PURCHASE_TURN_LIMIT = 850;  \\/\\/ OPTIMIZE [790, 870]/' -e 's/^constexpr int SUBSCORE3_TIGHT_TURN = .*;     \\/\\/ OPTIMIZE \\[0, 1\\]$/constexpr int SUBSCORE3_TIGHT_TURN = 1;     \\/\\/ OPTIMIZE [0, 1]/' -e 's/^constexpr int ROUGH_HASH = .*;      \\/\\/ OPTIMIZE {0, 0b00000001, 0b00010001, 0b00010011, 0b00110011}$/constexpr int ROUGH_HASH = 0b00010011;      \\/\\/ OPTIMIZE {0, 0b00000001, 0b00010001, 0b00010011, 0b00110011}/' -e 's/^constexpr double TARGET_BEAM_WIDTH_INCREASE_RATE = .*;      \\/\\/ OPTIMIZE \\[0\\.5, 1\\.0\\] LOG$/constexpr double TARGET_BEAM_WIDTH_INCREASE_RATE = 0.6853002658113408;      \\/\\/ OPTIMIZE [0.5, 1.0] LOG/' -e 's/^constexpr double TARGET_BEAM_WIDTH_HALF_PROGRES_RATE = .*;  \\/\\/ OPTIMIZE \\[0\\.02, 0\\.98\\]$/constexpr double TARGET_BEAM_WIDTH_HALF_PROGRES_RATE = 0.5473360472391989;  \\/\\/ OPTIMIZE [0.02, 0.98]/'\n",
      "g++ 3_main.cpp -std=gnu++17 -O2 -DONLINE_JUDGE -o 3_main.cpp.out 2> /dev/null\n"
     ]
    },
    {
     "name": "stderr",
     "output_type": "stream",
     "text": [
      "\u001b[32m[I 2021-09-10 18:38:37,398]\u001b[0m Trial 12 finished with value: 889573896.0 and parameters: {'K_START': 0.10725492476834414, 'K_END': 0.036871765284667804, 'K_H': 0.75628113723779, 'PURCHASE_TURN_LIMIT': 801, 'SUBSCORE3_TIGHT_TURN': 1, 'ROUGH_HASH': '0b00010001', 'TARGET_BEAM_WIDTH_INCREASE_RATE': 0.5154094460092901, 'TARGET_BEAM_WIDTH_HALF_PROGRES_RATE': 0.04935634244649073}. Best is trial 10 with value: 919845333.0.\u001b[0m\n"
     ]
    },
    {
     "name": "stdout",
     "output_type": "stream",
     "text": [
      "callback ok\n",
      "index_parallel=4\n",
      "sed -i 4_main.cpp -e 's/^constexpr double K_START = .*;  \\/\\/ OPTIMIZE \\[0\\.04, 0\\.12\\] LOG$/constexpr double K_START = 0.08205405554504759;  \\/\\/ OPTIMIZE [0.04, 0.12] LOG/' -e 's/^constexpr double K_END = .*;   \\/\\/ OPTIMIZE \\[0\\.03, 0\\.1\\] LOG$/constexpr double K_END = 0.06468445836281003;   \\/\\/ OPTIMIZE [0.03, 0.1] LOG/' -e 's/^constexpr double K_H = .*;      \\/\\/ OPTIMIZE \\[0\\.001, 0\\.999\\]$/constexpr double K_H = 0.2725455968496849;      \\/\\/ OPTIMIZE [0.001, 0.999]/' -e 's/^constexpr short PURCHASE_TURN_LIMIT = .*;  \\/\\/ OPTIMIZE \\[790, 870\\]$/constexpr short PURCHASE_TURN_LIMIT = 847;  \\/\\/ OPTIMIZE [790, 870]/' -e 's/^constexpr int SUBSCORE3_TIGHT_TURN = .*;     \\/\\/ OPTIMIZE \\[0, 1\\]$/constexpr int SUBSCORE3_TIGHT_TURN = 1;     \\/\\/ OPTIMIZE [0, 1]/' -e 's/^constexpr int ROUGH_HASH = .*;      \\/\\/ OPTIMIZE {0, 0b00000001, 0b00010001, 0b00010011, 0b00110011}$/constexpr int ROUGH_HASH = 0b00010011;      \\/\\/ OPTIMIZE {0, 0b00000001, 0b00010001, 0b00010011, 0b00110011}/' -e 's/^constexpr double TARGET_BEAM_WIDTH_INCREASE_RATE = .*;      \\/\\/ OPTIMIZE \\[0\\.5, 1\\.0\\] LOG$/constexpr double TARGET_BEAM_WIDTH_INCREASE_RATE = 0.7024817519315422;      \\/\\/ OPTIMIZE [0.5, 1.0] LOG/' -e 's/^constexpr double TARGET_BEAM_WIDTH_HALF_PROGRES_RATE = .*;  \\/\\/ OPTIMIZE \\[0\\.02, 0\\.98\\]$/constexpr double TARGET_BEAM_WIDTH_HALF_PROGRES_RATE = 0.5629668312501624;  \\/\\/ OPTIMIZE [0.02, 0.98]/'\n",
      "g++ 4_main.cpp -std=gnu++17 -O2 -DONLINE_JUDGE -o 4_main.cpp.out 2> /dev/null\n"
     ]
    },
    {
     "name": "stderr",
     "output_type": "stream",
     "text": [
      "\u001b[32m[I 2021-09-10 18:38:54,835]\u001b[0m Trial 13 finished with value: 922895853.0 and parameters: {'K_START': 0.08442081141117429, 'K_END': 0.06496567758866349, 'K_H': 0.31603109538530005, 'PURCHASE_TURN_LIMIT': 848, 'SUBSCORE3_TIGHT_TURN': 1, 'ROUGH_HASH': '0b00010001', 'TARGET_BEAM_WIDTH_INCREASE_RATE': 0.6802593868682695, 'TARGET_BEAM_WIDTH_HALF_PROGRES_RATE': 0.5281451826055159}. Best is trial 13 with value: 922895853.0.\u001b[0m\n"
     ]
    },
    {
     "name": "stdout",
     "output_type": "stream",
     "text": [
      "Updated! 922895853.0\n",
      "callback ok\n",
      "index_parallel=5\n"
     ]
    },
    {
     "name": "stderr",
     "output_type": "stream",
     "text": [
      "\u001b[32m[I 2021-09-10 18:38:55,077]\u001b[0m Trial 15 finished with value: 589385145.0 and parameters: {'K_START': 0.08059536710663817, 'K_END': 0.09839020770752036, 'K_H': 0.3059696079615228, 'PURCHASE_TURN_LIMIT': 850, 'SUBSCORE3_TIGHT_TURN': 1, 'ROUGH_HASH': '0b00010011', 'TARGET_BEAM_WIDTH_INCREASE_RATE': 0.6853002658113408, 'TARGET_BEAM_WIDTH_HALF_PROGRES_RATE': 0.5473360472391989}. Best is trial 13 with value: 922895853.0.\u001b[0m\n"
     ]
    },
    {
     "name": "stdout",
     "output_type": "stream",
     "text": [
      "callback ok\n",
      "index_parallel=6\n",
      "sed -i 5_main.cpp -e 's/^constexpr double K_START = .*;  \\/\\/ OPTIMIZE \\[0\\.04, 0\\.12\\] LOG$/constexpr double K_START = 0.08117094091174024;  \\/\\/ OPTIMIZE [0.04, 0.12] LOG/' -e 's/^constexpr double K_END = .*;   \\/\\/ OPTIMIZE \\[0\\.03, 0\\.1\\] LOG$/constexpr double K_END = 0.062443254398703046;   \\/\\/ OPTIMIZE [0.03, 0.1] LOG/' -e 's/^constexpr double K_H = .*;      \\/\\/ OPTIMIZE \\[0\\.001, 0\\.999\\]$/constexpr double K_H = 0.28873134898234787;      \\/\\/ OPTIMIZE [0.001, 0.999]/' -e 's/^constexpr short PURCHASE_TURN_LIMIT = .*;  \\/\\/ OPTIMIZE \\[790, 870\\]$/constexpr short PURCHASE_TURN_LIMIT = 855;  \\/\\/ OPTIMIZE [790, 870]/' -e 's/^constexpr int SUBSCORE3_TIGHT_TURN = .*;     \\/\\/ OPTIMIZE \\[0, 1\\]$/constexpr int SUBSCORE3_TIGHT_TURN = 1;     \\/\\/ OPTIMIZE [0, 1]/' -e 's/^constexpr int ROUGH_HASH = .*;      \\/\\/ OPTIMIZE {0, 0b00000001, 0b00010001, 0b00010011, 0b00110011}$/constexpr int ROUGH_HASH = 0b00010001;      \\/\\/ OPTIMIZE {0, 0b00000001, 0b00010001, 0b00010011, 0b00110011}/' -e 's/^constexpr double TARGET_BEAM_WIDTH_INCREASE_RATE = .*;      \\/\\/ OPTIMIZE \\[0\\.5, 1\\.0\\] LOG$/constexpr double TARGET_BEAM_WIDTH_INCREASE_RATE = 0.7721119461416561;      \\/\\/ OPTIMIZE [0.5, 1.0] LOG/' -e 's/^constexpr double TARGET_BEAM_WIDTH_HALF_PROGRES_RATE = .*;  \\/\\/ OPTIMIZE \\[0\\.02, 0\\.98\\]$/constexpr double TARGET_BEAM_WIDTH_HALF_PROGRES_RATE = 0.703787740660042;  \\/\\/ OPTIMIZE [0.02, 0.98]/'\n",
      "sed -i 6_main.cpp -e 's/^constexpr double K_START = .*;  \\/\\/ OPTIMIZE \\[0\\.04, 0\\.12\\] LOG$/constexpr double K_START = 0.08129364566718755;  \\/\\/ OPTIMIZE [0.04, 0.12] LOG/' -e 's/^constexpr double K_END = .*;   \\/\\/ OPTIMIZE \\[0\\.03, 0\\.1\\] LOG$/constexpr double K_END = 0.06077950217054693;   \\/\\/ OPTIMIZE [0.03, 0.1] LOG/' -e 's/^constexpr double K_H = .*;      \\/\\/ OPTIMIZE \\[0\\.001, 0\\.999\\]$/constexpr double K_H = 0.28256548877705695;      \\/\\/ OPTIMIZE [0.001, 0.999]/' -e 's/^constexpr short PURCHASE_TURN_LIMIT = .*;  \\/\\/ OPTIMIZE \\[790, 870\\]$/constexpr short PURCHASE_TURN_LIMIT = 854;  \\/\\/ OPTIMIZE [790, 870]/' -e 's/^constexpr int SUBSCORE3_TIGHT_TURN = .*;     \\/\\/ OPTIMIZE \\[0, 1\\]$/constexpr int SUBSCORE3_TIGHT_TURN = 1;     \\/\\/ OPTIMIZE [0, 1]/' -e 's/^constexpr int ROUGH_HASH = .*;      \\/\\/ OPTIMIZE {0, 0b00000001, 0b00010001, 0b00010011, 0b00110011}$/constexpr int ROUGH_HASH = 0b00010001;      \\/\\/ OPTIMIZE {0, 0b00000001, 0b00010001, 0b00010011, 0b00110011}/' -e 's/^constexpr double TARGET_BEAM_WIDTH_INCREASE_RATE = .*;      \\/\\/ OPTIMIZE \\[0\\.5, 1\\.0\\] LOG$/constexpr double TARGET_BEAM_WIDTH_INCREASE_RATE = 0.7662936978484985;      \\/\\/ OPTIMIZE [0.5, 1.0] LOG/' -e 's/^constexpr double TARGET_BEAM_WIDTH_HALF_PROGRES_RATE = .*;  \\/\\/ OPTIMIZE \\[0\\.02, 0\\.98\\]$/constexpr double TARGET_BEAM_WIDTH_HALF_PROGRES_RATE = 0.6684247286124952;  \\/\\/ OPTIMIZE [0.02, 0.98]/'\n",
      "g++ 5_main.cpp -std=gnu++17 -O2 -DONLINE_JUDGE -o 5_main.cpp.out 2> /dev/null\n",
      "g++ 6_main.cpp -std=gnu++17 -O2 -DONLINE_JUDGE -o 6_main.cpp.out 2> /dev/null\n"
     ]
    },
    {
     "name": "stderr",
     "output_type": "stream",
     "text": [
      "\u001b[32m[I 2021-09-10 18:38:57,103]\u001b[0m Trial 14 finished with value: 916074181.0 and parameters: {'K_START': 0.07631722304180198, 'K_END': 0.0663931111933397, 'K_H': 0.2953088881973239, 'PURCHASE_TURN_LIMIT': 846, 'SUBSCORE3_TIGHT_TURN': 1, 'ROUGH_HASH': '0b00010011', 'TARGET_BEAM_WIDTH_INCREASE_RATE': 0.6773048951104631, 'TARGET_BEAM_WIDTH_HALF_PROGRES_RATE': 0.6084295547163354}. Best is trial 13 with value: 922895853.0.\u001b[0m\n"
     ]
    },
    {
     "name": "stdout",
     "output_type": "stream",
     "text": [
      "callback ok\n",
      "index_parallel=7\n",
      "sed -i 7_main.cpp -e 's/^constexpr double K_START = .*;  \\/\\/ OPTIMIZE \\[0\\.04, 0\\.12\\] LOG$/constexpr double K_START = 0.0876854289612933;  \\/\\/ OPTIMIZE [0.04, 0.12] LOG/' -e 's/^constexpr double K_END = .*;   \\/\\/ OPTIMIZE \\[0\\.03, 0\\.1\\] LOG$/constexpr double K_END = 0.05383934688828993;   \\/\\/ OPTIMIZE [0.03, 0.1] LOG/' -e 's/^constexpr double K_H = .*;      \\/\\/ OPTIMIZE \\[0\\.001, 0\\.999\\]$/constexpr double K_H = 0.27728686738785846;      \\/\\/ OPTIMIZE [0.001, 0.999]/' -e 's/^constexpr short PURCHASE_TURN_LIMIT = .*;  \\/\\/ OPTIMIZE \\[790, 870\\]$/constexpr short PURCHASE_TURN_LIMIT = 855;  \\/\\/ OPTIMIZE [790, 870]/' -e 's/^constexpr int SUBSCORE3_TIGHT_TURN = .*;     \\/\\/ OPTIMIZE \\[0, 1\\]$/constexpr int SUBSCORE3_TIGHT_TURN = 0;     \\/\\/ OPTIMIZE [0, 1]/' -e 's/^constexpr int ROUGH_HASH = .*;      \\/\\/ OPTIMIZE {0, 0b00000001, 0b00010001, 0b00010011, 0b00110011}$/constexpr int ROUGH_HASH = 0b00010001;      \\/\\/ OPTIMIZE {0, 0b00000001, 0b00010001, 0b00010011, 0b00110011}/' -e 's/^constexpr double TARGET_BEAM_WIDTH_INCREASE_RATE = .*;      \\/\\/ OPTIMIZE \\[0\\.5, 1\\.0\\] LOG$/constexpr double TARGET_BEAM_WIDTH_INCREASE_RATE = 0.7697936277984325;      \\/\\/ OPTIMIZE [0.5, 1.0] LOG/' -e 's/^constexpr double TARGET_BEAM_WIDTH_HALF_PROGRES_RATE = .*;  \\/\\/ OPTIMIZE \\[0\\.02, 0\\.98\\]$/constexpr double TARGET_BEAM_WIDTH_HALF_PROGRES_RATE = 0.692795205506115;  \\/\\/ OPTIMIZE [0.02, 0.98]/'\n",
      "g++ 7_main.cpp -std=gnu++17 -O2 -DONLINE_JUDGE -o 7_main.cpp.out 2> /dev/null\n"
     ]
    },
    {
     "name": "stderr",
     "output_type": "stream",
     "text": [
      "\u001b[32m[I 2021-09-10 18:41:03,150]\u001b[0m Trial 16 finished with value: 923009179.0 and parameters: {'K_START': 0.08205405554504759, 'K_END': 0.06468445836281003, 'K_H': 0.2725455968496849, 'PURCHASE_TURN_LIMIT': 847, 'SUBSCORE3_TIGHT_TURN': 1, 'ROUGH_HASH': '0b00010011', 'TARGET_BEAM_WIDTH_INCREASE_RATE': 0.7024817519315422, 'TARGET_BEAM_WIDTH_HALF_PROGRES_RATE': 0.5629668312501624}. Best is trial 16 with value: 923009179.0.\u001b[0m\n"
     ]
    },
    {
     "name": "stdout",
     "output_type": "stream",
     "text": [
      "Updated! 923009179.0\n",
      "callback ok\n",
      "index_parallel=8\n",
      "sed -i 8_main.cpp -e 's/^constexpr double K_START = .*;  \\/\\/ OPTIMIZE \\[0\\.04, 0\\.12\\] LOG$/constexpr double K_START = 0.09023100230828217;  \\/\\/ OPTIMIZE [0.04, 0.12] LOG/' -e 's/^constexpr double K_END = .*;   \\/\\/ OPTIMIZE \\[0\\.03, 0\\.1\\] LOG$/constexpr double K_END = 0.05375799043278586;   \\/\\/ OPTIMIZE [0.03, 0.1] LOG/' -e 's/^constexpr double K_H = .*;      \\/\\/ OPTIMIZE \\[0\\.001, 0\\.999\\]$/constexpr double K_H = 0.40451429032052605;      \\/\\/ OPTIMIZE [0.001, 0.999]/' -e 's/^constexpr short PURCHASE_TURN_LIMIT = .*;  \\/\\/ OPTIMIZE \\[790, 870\\]$/constexpr short PURCHASE_TURN_LIMIT = 835;  \\/\\/ OPTIMIZE [790, 870]/' -e 's/^constexpr int SUBSCORE3_TIGHT_TURN = .*;     \\/\\/ OPTIMIZE \\[0, 1\\]$/constexpr int SUBSCORE3_TIGHT_TURN = 1;     \\/\\/ OPTIMIZE [0, 1]/' -e 's/^constexpr int ROUGH_HASH = .*;      \\/\\/ OPTIMIZE {0, 0b00000001, 0b00010001, 0b00010011, 0b00110011}$/constexpr int ROUGH_HASH = 0b00010001;      \\/\\/ OPTIMIZE {0, 0b00000001, 0b00010001, 0b00010011, 0b00110011}/' -e 's/^constexpr double TARGET_BEAM_WIDTH_INCREASE_RATE = .*;      \\/\\/ OPTIMIZE \\[0\\.5, 1\\.0\\] LOG$/constexpr double TARGET_BEAM_WIDTH_INCREASE_RATE = 0.6324726853400247;      \\/\\/ OPTIMIZE [0.5, 1.0] LOG/' -e 's/^constexpr double TARGET_BEAM_WIDTH_HALF_PROGRES_RATE = .*;  \\/\\/ OPTIMIZE \\[0\\.02, 0\\.98\\]$/constexpr double TARGET_BEAM_WIDTH_HALF_PROGRES_RATE = 0.7086217675088395;  \\/\\/ OPTIMIZE [0.02, 0.98]/'\n",
      "g++ 8_main.cpp -std=gnu++17 -O2 -DONLINE_JUDGE -o 8_main.cpp.out 2> /dev/null\n"
     ]
    },
    {
     "name": "stderr",
     "output_type": "stream",
     "text": [
      "\u001b[32m[I 2021-09-10 18:41:23,892]\u001b[0m Trial 17 finished with value: 915434323.0 and parameters: {'K_START': 0.08117094091174024, 'K_END': 0.062443254398703046, 'K_H': 0.28873134898234787, 'PURCHASE_TURN_LIMIT': 855, 'SUBSCORE3_TIGHT_TURN': 1, 'ROUGH_HASH': '0b00010001', 'TARGET_BEAM_WIDTH_INCREASE_RATE': 0.7721119461416561, 'TARGET_BEAM_WIDTH_HALF_PROGRES_RATE': 0.703787740660042}. Best is trial 16 with value: 923009179.0.\u001b[0m\n"
     ]
    },
    {
     "name": "stdout",
     "output_type": "stream",
     "text": [
      "callback ok\n",
      "index_parallel=9\n"
     ]
    },
    {
     "name": "stderr",
     "output_type": "stream",
     "text": [
      "\u001b[32m[I 2021-09-10 18:41:25,114]\u001b[0m Trial 18 finished with value: 914349284.0 and parameters: {'K_START': 0.08129364566718755, 'K_END': 0.06077950217054693, 'K_H': 0.28256548877705695, 'PURCHASE_TURN_LIMIT': 854, 'SUBSCORE3_TIGHT_TURN': 1, 'ROUGH_HASH': '0b00010001', 'TARGET_BEAM_WIDTH_INCREASE_RATE': 0.7662936978484985, 'TARGET_BEAM_WIDTH_HALF_PROGRES_RATE': 0.6684247286124952}. Best is trial 16 with value: 923009179.0.\u001b[0m\n"
     ]
    },
    {
     "name": "stdout",
     "output_type": "stream",
     "text": [
      "callback ok\n",
      "index_parallel=10\n",
      "sed -i 9_main.cpp -e 's/^constexpr double K_START = .*;  \\/\\/ OPTIMIZE \\[0\\.04, 0\\.12\\] LOG$/constexpr double K_START = 0.09200911501071843;  \\/\\/ OPTIMIZE [0.04, 0.12] LOG/' -e 's/^constexpr double K_END = .*;   \\/\\/ OPTIMIZE \\[0\\.03, 0\\.1\\] LOG$/constexpr double K_END = 0.052056548320589584;   \\/\\/ OPTIMIZE [0.03, 0.1] LOG/' -e 's/^constexpr double K_H = .*;      \\/\\/ OPTIMIZE \\[0\\.001, 0\\.999\\]$/constexpr double K_H = 0.4380428150205574;      \\/\\/ OPTIMIZE [0.001, 0.999]/' -e 's/^constexpr short PURCHASE_TURN_LIMIT = .*;  \\/\\/ OPTIMIZE \\[790, 870\\]$/constexpr short PURCHASE_TURN_LIMIT = 835;  \\/\\/ OPTIMIZE [790, 870]/' -e 's/^constexpr int SUBSCORE3_TIGHT_TURN = .*;     \\/\\/ OPTIMIZE \\[0, 1\\]$/constexpr int SUBSCORE3_TIGHT_TURN = 1;     \\/\\/ OPTIMIZE [0, 1]/' -e 's/^constexpr int ROUGH_HASH = .*;      \\/\\/ OPTIMIZE {0, 0b00000001, 0b00010001, 0b00010011, 0b00110011}$/constexpr int ROUGH_HASH = 0b00010001;      \\/\\/ OPTIMIZE {0, 0b00000001, 0b00010001, 0b00010011, 0b00110011}/' -e 's/^constexpr double TARGET_BEAM_WIDTH_INCREASE_RATE = .*;      \\/\\/ OPTIMIZE \\[0\\.5, 1\\.0\\] LOG$/constexpr double TARGET_BEAM_WIDTH_INCREASE_RATE = 0.6189099806873162;      \\/\\/ OPTIMIZE [0.5, 1.0] LOG/' -e 's/^constexpr double TARGET_BEAM_WIDTH_HALF_PROGRES_RATE = .*;  \\/\\/ OPTIMIZE \\[0\\.02, 0\\.98\\]$/constexpr double TARGET_BEAM_WIDTH_HALF_PROGRES_RATE = 0.46620703743628555;  \\/\\/ OPTIMIZE [0.02, 0.98]/'\n",
      "g++ 9_main.cpp -std=gnu++17 -O2 -DONLINE_JUDGE -o 9_main.cpp.out 2> /dev/null\n"
     ]
    },
    {
     "name": "stderr",
     "output_type": "stream",
     "text": [
      "\u001b[32m[I 2021-09-10 18:41:25,530]\u001b[0m Trial 19 finished with value: 925997981.0 and parameters: {'K_START': 0.0876854289612933, 'K_END': 0.05383934688828993, 'K_H': 0.27728686738785846, 'PURCHASE_TURN_LIMIT': 855, 'SUBSCORE3_TIGHT_TURN': 0, 'ROUGH_HASH': '0b00010001', 'TARGET_BEAM_WIDTH_INCREASE_RATE': 0.7697936277984325, 'TARGET_BEAM_WIDTH_HALF_PROGRES_RATE': 0.692795205506115}. Best is trial 19 with value: 925997981.0.\u001b[0m\n"
     ]
    },
    {
     "name": "stdout",
     "output_type": "stream",
     "text": [
      "Updated! 925997981.0\n",
      "callback ok\n",
      "index_parallel=11\n",
      "sed -i 10_main.cpp -e 's/^constexpr double K_START = .*;  \\/\\/ OPTIMIZE \\[0\\.04, 0\\.12\\] LOG$/constexpr double K_START = 0.09359040658071825;  \\/\\/ OPTIMIZE [0.04, 0.12] LOG/' -e 's/^constexpr double K_END = .*;   \\/\\/ OPTIMIZE \\[0\\.03, 0\\.1\\] LOG$/constexpr double K_END = 0.05215591098360091;   \\/\\/ OPTIMIZE [0.03, 0.1] LOG/' -e 's/^constexpr double K_H = .*;      \\/\\/ OPTIMIZE \\[0\\.001, 0\\.999\\]$/constexpr double K_H = 0.4452481512626669;      \\/\\/ OPTIMIZE [0.001, 0.999]/' -e 's/^constexpr short PURCHASE_TURN_LIMIT = .*;  \\/\\/ OPTIMIZE \\[790, 870\\]$/constexpr short PURCHASE_TURN_LIMIT = 833;  \\/\\/ OPTIMIZE [790, 870]/' -e 's/^constexpr int SUBSCORE3_TIGHT_TURN = .*;     \\/\\/ OPTIMIZE \\[0, 1\\]$/constexpr int SUBSCORE3_TIGHT_TURN = 0;     \\/\\/ OPTIMIZE [0, 1]/' -e 's/^constexpr int ROUGH_HASH = .*;      \\/\\/ OPTIMIZE {0, 0b00000001, 0b00010001, 0b00010011, 0b00110011}$/constexpr int ROUGH_HASH = 0b00110011;      \\/\\/ OPTIMIZE {0, 0b00000001, 0b00010001, 0b00010011, 0b00110011}/' -e 's/^constexpr double TARGET_BEAM_WIDTH_INCREASE_RATE = .*;      \\/\\/ OPTIMIZE \\[0\\.5, 1\\.0\\] LOG$/constexpr double TARGET_BEAM_WIDTH_INCREASE_RATE = 0.863813969036641;      \\/\\/ OPTIMIZE [0.5, 1.0] LOG/' -e 's/^constexpr double TARGET_BEAM_WIDTH_HALF_PROGRES_RATE = .*;  \\/\\/ OPTIMIZE \\[0\\.02, 0\\.98\\]$/constexpr double TARGET_BEAM_WIDTH_HALF_PROGRES_RATE = 0.8806637204810687;  \\/\\/ OPTIMIZE [0.02, 0.98]/'\n",
      "g++ 10_main.cpp -std=gnu++17 -O2 -DONLINE_JUDGE -o 10_main.cpp.out 2> /dev/null\n",
      "sed -i 11_main.cpp -e 's/^constexpr double K_START = .*;  \\/\\/ OPTIMIZE \\[0\\.04, 0\\.12\\] LOG$/constexpr double K_START = 0.09421179946140373;  \\/\\/ OPTIMIZE [0.04, 0.12] LOG/' -e 's/^constexpr double K_END = .*;   \\/\\/ OPTIMIZE \\[0\\.03, 0\\.1\\] LOG$/constexpr double K_END = 0.05232676430361324;   \\/\\/ OPTIMIZE [0.03, 0.1] LOG/' -e 's/^constexpr double K_H = .*;      \\/\\/ OPTIMIZE \\[0\\.001, 0\\.999\\]$/constexpr double K_H = 0.44762382083568963;      \\/\\/ OPTIMIZE [0.001, 0.999]/' -e 's/^constexpr short PURCHASE_TURN_LIMIT = .*;  \\/\\/ OPTIMIZE \\[790, 870\\]$/constexpr short PURCHASE_TURN_LIMIT = 840;  \\/\\/ OPTIMIZE [790, 870]/' -e 's/^constexpr int SUBSCORE3_TIGHT_TURN = .*;     \\/\\/ OPTIMIZE \\[0, 1\\]$/constexpr int SUBSCORE3_TIGHT_TURN = 0;     \\/\\/ OPTIMIZE [0, 1]/' -e 's/^constexpr int ROUGH_HASH = .*;      \\/\\/ OPTIMIZE {0, 0b00000001, 0b00010001, 0b00010011, 0b00110011}$/constexpr int ROUGH_HASH = 0b00000001;      \\/\\/ OPTIMIZE {0, 0b00000001, 0b00010001, 0b00010011, 0b00110011}/' -e 's/^constexpr double TARGET_BEAM_WIDTH_INCREASE_RATE = .*;      \\/\\/ OPTIMIZE \\[0\\.5, 1\\.0\\] LOG$/constexpr double TARGET_BEAM_WIDTH_INCREASE_RATE = 0.8818976435223157;      \\/\\/ OPTIMIZE [0.5, 1.0] LOG/' -e 's/^constexpr double TARGET_BEAM_WIDTH_HALF_PROGRES_RATE = .*;  \\/\\/ OPTIMIZE \\[0\\.02, 0\\.98\\]$/constexpr double TARGET_BEAM_WIDTH_HALF_PROGRES_RATE = 0.9453202657027664;  \\/\\/ OPTIMIZE [0.02, 0.98]/'\n",
      "g++ 11_main.cpp -std=gnu++17 -O2 -DONLINE_JUDGE -o 11_main.cpp.out 2> /dev/null\n"
     ]
    },
    {
     "name": "stderr",
     "output_type": "stream",
     "text": [
      "\u001b[32m[I 2021-09-10 18:43:33,557]\u001b[0m Trial 20 finished with value: 923351392.0 and parameters: {'K_START': 0.09023100230828217, 'K_END': 0.05375799043278586, 'K_H': 0.40451429032052605, 'PURCHASE_TURN_LIMIT': 835, 'SUBSCORE3_TIGHT_TURN': 1, 'ROUGH_HASH': '0b00010001', 'TARGET_BEAM_WIDTH_INCREASE_RATE': 0.6324726853400247, 'TARGET_BEAM_WIDTH_HALF_PROGRES_RATE': 0.7086217675088395}. Best is trial 19 with value: 925997981.0.\u001b[0m\n"
     ]
    },
    {
     "name": "stdout",
     "output_type": "stream",
     "text": [
      "callback ok\n",
      "index_parallel=0\n",
      "sed -i 0_main.cpp -e 's/^constexpr double K_START = .*;  \\/\\/ OPTIMIZE \\[0\\.04, 0\\.12\\] LOG$/constexpr double K_START = 0.09311953213353381;  \\/\\/ OPTIMIZE [0.04, 0.12] LOG/' -e 's/^constexpr double K_END = .*;   \\/\\/ OPTIMIZE \\[0\\.03, 0\\.1\\] LOG$/constexpr double K_END = 0.05148160618033992;   \\/\\/ OPTIMIZE [0.03, 0.1] LOG/' -e 's/^constexpr double K_H = .*;      \\/\\/ OPTIMIZE \\[0\\.001, 0\\.999\\]$/constexpr double K_H = 0.40939985916924276;      \\/\\/ OPTIMIZE [0.001, 0.999]/' -e 's/^constexpr short PURCHASE_TURN_LIMIT = .*;  \\/\\/ OPTIMIZE \\[790, 870\\]$/constexpr short PURCHASE_TURN_LIMIT = 832;  \\/\\/ OPTIMIZE [790, 870]/' -e 's/^constexpr int SUBSCORE3_TIGHT_TURN = .*;     \\/\\/ OPTIMIZE \\[0, 1\\]$/constexpr int SUBSCORE3_TIGHT_TURN = 1;     \\/\\/ OPTIMIZE [0, 1]/' -e 's/^constexpr int ROUGH_HASH = .*;      \\/\\/ OPTIMIZE {0, 0b00000001, 0b00010001, 0b00010011, 0b00110011}$/constexpr int ROUGH_HASH = 0b00010001;      \\/\\/ OPTIMIZE {0, 0b00000001, 0b00010001, 0b00010011, 0b00110011}/' -e 's/^constexpr double TARGET_BEAM_WIDTH_INCREASE_RATE = .*;      \\/\\/ OPTIMIZE \\[0\\.5, 1\\.0\\] LOG$/constexpr double TARGET_BEAM_WIDTH_INCREASE_RATE = 0.6350517991915725;      \\/\\/ OPTIMIZE [0.5, 1.0] LOG/' -e 's/^constexpr double TARGET_BEAM_WIDTH_HALF_PROGRES_RATE = .*;  \\/\\/ OPTIMIZE \\[0\\.02, 0\\.98\\]$/constexpr double TARGET_BEAM_WIDTH_HALF_PROGRES_RATE = 0.8690789191646469;  \\/\\/ OPTIMIZE [0.02, 0.98]/'\n",
      "g++ 0_main.cpp -std=gnu++17 -O2 -DONLINE_JUDGE -o 0_main.cpp.out 2> /dev/null\n"
     ]
    },
    {
     "name": "stderr",
     "output_type": "stream",
     "text": [
      "\u001b[32m[I 2021-09-10 18:43:49,795]\u001b[0m Trial 22 finished with value: 929702698.0 and parameters: {'K_START': 0.09359040658071825, 'K_END': 0.05215591098360091, 'K_H': 0.4452481512626669, 'PURCHASE_TURN_LIMIT': 833, 'SUBSCORE3_TIGHT_TURN': 0, 'ROUGH_HASH': '0b00110011', 'TARGET_BEAM_WIDTH_INCREASE_RATE': 0.863813969036641, 'TARGET_BEAM_WIDTH_HALF_PROGRES_RATE': 0.8806637204810687}. Best is trial 22 with value: 929702698.0.\u001b[0m\n"
     ]
    },
    {
     "name": "stdout",
     "output_type": "stream",
     "text": [
      "Updated! 929702698.0\n",
      "callback ok\n",
      "index_parallel=1\n"
     ]
    },
    {
     "name": "stderr",
     "output_type": "stream",
     "text": [
      "\u001b[32m[I 2021-09-10 18:43:51,151]\u001b[0m Trial 21 finished with value: 922293639.0 and parameters: {'K_START': 0.09200911501071843, 'K_END': 0.052056548320589584, 'K_H': 0.4380428150205574, 'PURCHASE_TURN_LIMIT': 835, 'SUBSCORE3_TIGHT_TURN': 1, 'ROUGH_HASH': '0b00010001', 'TARGET_BEAM_WIDTH_INCREASE_RATE': 0.6189099806873162, 'TARGET_BEAM_WIDTH_HALF_PROGRES_RATE': 0.46620703743628555}. Best is trial 22 with value: 929702698.0.\u001b[0m\n"
     ]
    },
    {
     "name": "stdout",
     "output_type": "stream",
     "text": [
      "callback ok\n",
      "index_parallel=2\n",
      "sed -i 1_main.cpp -e 's/^constexpr double K_START = .*;  \\/\\/ OPTIMIZE \\[0\\.04, 0\\.12\\] LOG$/constexpr double K_START = 0.09711739180027149;  \\/\\/ OPTIMIZE [0.04, 0.12] LOG/' -e 's/^constexpr double K_END = .*;   \\/\\/ OPTIMIZE \\[0\\.03, 0\\.1\\] LOG$/constexpr double K_END = 0.05006481166789455;   \\/\\/ OPTIMIZE [0.03, 0.1] LOG/' -e 's/^constexpr double K_H = .*;      \\/\\/ OPTIMIZE \\[0\\.001, 0\\.999\\]$/constexpr double K_H = 0.4166548997385032;      \\/\\/ OPTIMIZE [0.001, 0.999]/' -e 's/^constexpr short PURCHASE_TURN_LIMIT = .*;  \\/\\/ OPTIMIZE \\[790, 870\\]$/constexpr short PURCHASE_TURN_LIMIT = 835;  \\/\\/ OPTIMIZE [790, 870]/' -e 's/^constexpr int SUBSCORE3_TIGHT_TURN = .*;     \\/\\/ OPTIMIZE \\[0, 1\\]$/constexpr int SUBSCORE3_TIGHT_TURN = 0;     \\/\\/ OPTIMIZE [0, 1]/' -e 's/^constexpr int ROUGH_HASH = .*;      \\/\\/ OPTIMIZE {0, 0b00000001, 0b00010001, 0b00010011, 0b00110011}$/constexpr int ROUGH_HASH = 0b00110011;      \\/\\/ OPTIMIZE {0, 0b00000001, 0b00010001, 0b00010011, 0b00110011}/' -e 's/^constexpr double TARGET_BEAM_WIDTH_INCREASE_RATE = .*;      \\/\\/ OPTIMIZE \\[0\\.5, 1\\.0\\] LOG$/constexpr double TARGET_BEAM_WIDTH_INCREASE_RATE = 0.8560254217105995;      \\/\\/ OPTIMIZE [0.5, 1.0] LOG/' -e 's/^constexpr double TARGET_BEAM_WIDTH_HALF_PROGRES_RATE = .*;  \\/\\/ OPTIMIZE \\[0\\.02, 0\\.98\\]$/constexpr double TARGET_BEAM_WIDTH_HALF_PROGRES_RATE = 0.9741205257358969;  \\/\\/ OPTIMIZE [0.02, 0.98]/'\n",
      "g++ 1_main.cpp -std=gnu++17 -O2 -DONLINE_JUDGE -o 1_main.cpp.out 2> /dev/null\n",
      "sed -i 2_main.cpp -e 's/^constexpr double K_START = .*;  \\/\\/ OPTIMIZE \\[0\\.04, 0\\.12\\] LOG$/constexpr double K_START = 0.11904615663911276;  \\/\\/ OPTIMIZE [0.04, 0.12] LOG/' -e 's/^constexpr double K_END = .*;   \\/\\/ OPTIMIZE \\[0\\.03, 0\\.1\\] LOG$/constexpr double K_END = 0.04810585813522847;   \\/\\/ OPTIMIZE [0.03, 0.1] LOG/' -e 's/^constexpr double K_H = .*;      \\/\\/ OPTIMIZE \\[0\\.001, 0\\.999\\]$/constexpr double K_H = 0.4097883246115118;      \\/\\/ OPTIMIZE [0.001, 0.999]/' -e 's/^constexpr short PURCHASE_TURN_LIMIT = .*;  \\/\\/ OPTIMIZE \\[790, 870\\]$/constexpr short PURCHASE_TURN_LIMIT = 810;  \\/\\/ OPTIMIZE [790, 870]/' -e 's/^constexpr int SUBSCORE3_TIGHT_TURN = .*;     \\/\\/ OPTIMIZE \\[0, 1\\]$/constexpr int SUBSCORE3_TIGHT_TURN = 0;     \\/\\/ OPTIMIZE [0, 1]/' -e 's/^constexpr int ROUGH_HASH = .*;      \\/\\/ OPTIMIZE {0, 0b00000001, 0b00010001, 0b00010011, 0b00110011}$/constexpr int ROUGH_HASH = 0b00110011;      \\/\\/ OPTIMIZE {0, 0b00000001, 0b00010001, 0b00010011, 0b00110011}/' -e 's/^constexpr double TARGET_BEAM_WIDTH_INCREASE_RATE = .*;      \\/\\/ OPTIMIZE \\[0\\.5, 1\\.0\\] LOG$/constexpr double TARGET_BEAM_WIDTH_INCREASE_RATE = 0.8603014733699329;      \\/\\/ OPTIMIZE [0.5, 1.0] LOG/' -e 's/^constexpr double TARGET_BEAM_WIDTH_HALF_PROGRES_RATE = .*;  \\/\\/ OPTIMIZE \\[0\\.02, 0\\.98\\]$/constexpr double TARGET_BEAM_WIDTH_HALF_PROGRES_RATE = 0.9683890732259488;  \\/\\/ OPTIMIZE [0.02, 0.98]/'\n",
      "g++ 2_main.cpp -std=gnu++17 -O2 -DONLINE_JUDGE -o 2_main.cpp.out 2> /dev/null\n"
     ]
    },
    {
     "name": "stderr",
     "output_type": "stream",
     "text": [
      "\u001b[32m[I 2021-09-10 18:43:55,223]\u001b[0m Trial 23 finished with value: 932572724.0 and parameters: {'K_START': 0.09421179946140373, 'K_END': 0.05232676430361324, 'K_H': 0.44762382083568963, 'PURCHASE_TURN_LIMIT': 840, 'SUBSCORE3_TIGHT_TURN': 0, 'ROUGH_HASH': '0b00000001', 'TARGET_BEAM_WIDTH_INCREASE_RATE': 0.8818976435223157, 'TARGET_BEAM_WIDTH_HALF_PROGRES_RATE': 0.9453202657027664}. Best is trial 23 with value: 932572724.0.\u001b[0m\n"
     ]
    },
    {
     "name": "stdout",
     "output_type": "stream",
     "text": [
      "Updated! 932572724.0\n",
      "callback ok\n",
      "index_parallel=3\n",
      "sed -i 3_main.cpp -e 's/^constexpr double K_START = .*;  \\/\\/ OPTIMIZE \\[0\\.04, 0\\.12\\] LOG$/constexpr double K_START = 0.09737031418462054;  \\/\\/ OPTIMIZE [0.04, 0.12] LOG/' -e 's/^constexpr double K_END = .*;   \\/\\/ OPTIMIZE \\[0\\.03, 0\\.1\\] LOG$/constexpr double K_END = 0.04618692250975887;   \\/\\/ OPTIMIZE [0.03, 0.1] LOG/' -e 's/^constexpr double K_H = .*;      \\/\\/ OPTIMIZE \\[0\\.001, 0\\.999\\]$/constexpr double K_H = 0.5656708850950667;      \\/\\/ OPTIMIZE [0.001, 0.999]/' -e 's/^constexpr short PURCHASE_TURN_LIMIT = .*;  \\/\\/ OPTIMIZE \\[790, 870\\]$/constexpr short PURCHASE_TURN_LIMIT = 825;  \\/\\/ OPTIMIZE [790, 870]/' -e 's/^constexpr int SUBSCORE3_TIGHT_TURN = .*;     \\/\\/ OPTIMIZE \\[0, 1\\]$/constexpr int SUBSCORE3_TIGHT_TURN = 0;     \\/\\/ OPTIMIZE [0, 1]/' -e 's/^constexpr int ROUGH_HASH = .*;      \\/\\/ OPTIMIZE {0, 0b00000001, 0b00010001, 0b00010011, 0b00110011}$/constexpr int ROUGH_HASH = 0b00110011;      \\/\\/ OPTIMIZE {0, 0b00000001, 0b00010001, 0b00010011, 0b00110011}/' -e 's/^constexpr double TARGET_BEAM_WIDTH_INCREASE_RATE = .*;      \\/\\/ OPTIMIZE \\[0\\.5, 1\\.0\\] LOG$/constexpr double TARGET_BEAM_WIDTH_INCREASE_RATE = 0.8847190498469488;      \\/\\/ OPTIMIZE [0.5, 1.0] LOG/' -e 's/^constexpr double TARGET_BEAM_WIDTH_HALF_PROGRES_RATE = .*;  \\/\\/ OPTIMIZE \\[0\\.02, 0\\.98\\]$/constexpr double TARGET_BEAM_WIDTH_HALF_PROGRES_RATE = 0.9613236212618037;  \\/\\/ OPTIMIZE [0.02, 0.98]/'\n",
      "g++ 3_main.cpp -std=gnu++17 -O2 -DONLINE_JUDGE -o 3_main.cpp.out 2> /dev/null\n"
     ]
    },
    {
     "name": "stderr",
     "output_type": "stream",
     "text": [
      "\u001b[32m[I 2021-09-10 18:46:02,010]\u001b[0m Trial 24 finished with value: 926387518.0 and parameters: {'K_START': 0.09311953213353381, 'K_END': 0.05148160618033992, 'K_H': 0.40939985916924276, 'PURCHASE_TURN_LIMIT': 832, 'SUBSCORE3_TIGHT_TURN': 1, 'ROUGH_HASH': '0b00010001', 'TARGET_BEAM_WIDTH_INCREASE_RATE': 0.6350517991915725, 'TARGET_BEAM_WIDTH_HALF_PROGRES_RATE': 0.8690789191646469}. Best is trial 23 with value: 932572724.0.\u001b[0m\n"
     ]
    },
    {
     "name": "stdout",
     "output_type": "stream",
     "text": [
      "callback ok\n",
      "index_parallel=4\n",
      "sed -i 4_main.cpp -e 's/^constexpr double K_START = .*;  \\/\\/ OPTIMIZE \\[0\\.04, 0\\.12\\] LOG$/constexpr double K_START = 0.11846711950800455;  \\/\\/ OPTIMIZE [0.04, 0.12] LOG/' -e 's/^constexpr double K_END = .*;   \\/\\/ OPTIMIZE \\[0\\.03, 0\\.1\\] LOG$/constexpr double K_END = 0.0470687489350124;   \\/\\/ OPTIMIZE [0.03, 0.1] LOG/' -e 's/^constexpr double K_H = .*;      \\/\\/ OPTIMIZE \\[0\\.001, 0\\.999\\]$/constexpr double K_H = 0.5643953146874439;      \\/\\/ OPTIMIZE [0.001, 0.999]/' -e 's/^constexpr short PURCHASE_TURN_LIMIT = .*;  \\/\\/ OPTIMIZE \\[790, 870\\]$/constexpr short PURCHASE_TURN_LIMIT = 811;  \\/\\/ OPTIMIZE [790, 870]/' -e 's/^constexpr int SUBSCORE3_TIGHT_TURN = .*;     \\/\\/ OPTIMIZE \\[0, 1\\]$/constexpr int SUBSCORE3_TIGHT_TURN = 0;     \\/\\/ OPTIMIZE [0, 1]/' -e 's/^constexpr int ROUGH_HASH = .*;      \\/\\/ OPTIMIZE {0, 0b00000001, 0b00010001, 0b00010011, 0b00110011}$/constexpr int ROUGH_HASH = 0b00110011;      \\/\\/ OPTIMIZE {0, 0b00000001, 0b00010001, 0b00010011, 0b00110011}/' -e 's/^constexpr double TARGET_BEAM_WIDTH_INCREASE_RATE = .*;      \\/\\/ OPTIMIZE \\[0\\.5, 1\\.0\\] LOG$/constexpr double TARGET_BEAM_WIDTH_INCREASE_RATE = 0.8814568368152516;      \\/\\/ OPTIMIZE [0.5, 1.0] LOG/' -e 's/^constexpr double TARGET_BEAM_WIDTH_HALF_PROGRES_RATE = .*;  \\/\\/ OPTIMIZE \\[0\\.02, 0\\.98\\]$/constexpr double TARGET_BEAM_WIDTH_HALF_PROGRES_RATE = 0.9191195558075723;  \\/\\/ OPTIMIZE [0.02, 0.98]/'\n",
      "g++ 4_main.cpp -std=gnu++17 -O2 -DONLINE_JUDGE -o 4_main.cpp.out 2> /dev/null\n"
     ]
    },
    {
     "name": "stderr",
     "output_type": "stream",
     "text": [
      "\u001b[32m[I 2021-09-10 18:46:12,556]\u001b[0m Trial 26 finished with value: 415333394.0 and parameters: {'K_START': 0.11904615663911276, 'K_END': 0.04810585813522847, 'K_H': 0.4097883246115118, 'PURCHASE_TURN_LIMIT': 810, 'SUBSCORE3_TIGHT_TURN': 0, 'ROUGH_HASH': '0b00110011', 'TARGET_BEAM_WIDTH_INCREASE_RATE': 0.8603014733699329, 'TARGET_BEAM_WIDTH_HALF_PROGRES_RATE': 0.9683890732259488}. Best is trial 23 with value: 932572724.0.\u001b[0m\n"
     ]
    },
    {
     "name": "stdout",
     "output_type": "stream",
     "text": [
      "callback ok\n",
      "index_parallel=5\n"
     ]
    },
    {
     "name": "stderr",
     "output_type": "stream",
     "text": [
      "\u001b[32m[I 2021-09-10 18:46:13,628]\u001b[0m Trial 25 finished with value: 924027414.0 and parameters: {'K_START': 0.09711739180027149, 'K_END': 0.05006481166789455, 'K_H': 0.4166548997385032, 'PURCHASE_TURN_LIMIT': 835, 'SUBSCORE3_TIGHT_TURN': 0, 'ROUGH_HASH': '0b00110011', 'TARGET_BEAM_WIDTH_INCREASE_RATE': 0.8560254217105995, 'TARGET_BEAM_WIDTH_HALF_PROGRES_RATE': 0.9741205257358969}. Best is trial 23 with value: 932572724.0.\u001b[0m\n"
     ]
    },
    {
     "name": "stdout",
     "output_type": "stream",
     "text": [
      "callback ok\n",
      "index_parallel=6\n",
      "sed -i 5_main.cpp -e 's/^constexpr double K_START = .*;  \\/\\/ OPTIMIZE \\[0\\.04, 0\\.12\\] LOG$/constexpr double K_START = 0.07242570520844145;  \\/\\/ OPTIMIZE [0.04, 0.12] LOG/' -e 's/^constexpr double K_END = .*;   \\/\\/ OPTIMIZE \\[0\\.03, 0\\.1\\] LOG$/constexpr double K_END = 0.04034637945908039;   \\/\\/ OPTIMIZE [0.03, 0.1] LOG/' -e 's/^constexpr double K_H = .*;      \\/\\/ OPTIMIZE \\[0\\.001, 0\\.999\\]$/constexpr double K_H = 0.5733929048401551;      \\/\\/ OPTIMIZE [0.001, 0.999]/' -e 's/^constexpr short PURCHASE_TURN_LIMIT = .*;  \\/\\/ OPTIMIZE \\[790, 870\\]$/constexpr short PURCHASE_TURN_LIMIT = 827;  \\/\\/ OPTIMIZE [790, 870]/' -e 's/^constexpr int SUBSCORE3_TIGHT_TURN = .*;     \\/\\/ OPTIMIZE \\[0, 1\\]$/constexpr int SUBSCORE3_TIGHT_TURN = 0;     \\/\\/ OPTIMIZE [0, 1]/' -e 's/^constexpr int ROUGH_HASH = .*;      \\/\\/ OPTIMIZE {0, 0b00000001, 0b00010001, 0b00010011, 0b00110011}$/constexpr int ROUGH_HASH = 0b00000001;      \\/\\/ OPTIMIZE {0, 0b00000001, 0b00010001, 0b00010011, 0b00110011}/' -e 's/^constexpr double TARGET_BEAM_WIDTH_INCREASE_RATE = .*;      \\/\\/ OPTIMIZE \\[0\\.5, 1\\.0\\] LOG$/constexpr double TARGET_BEAM_WIDTH_INCREASE_RATE = 0.9923541570965039;      \\/\\/ OPTIMIZE [0.5, 1.0] LOG/' -e 's/^constexpr double TARGET_BEAM_WIDTH_HALF_PROGRES_RATE = .*;  \\/\\/ OPTIMIZE \\[0\\.02, 0\\.98\\]$/constexpr double TARGET_BEAM_WIDTH_HALF_PROGRES_RATE = 0.8338140901242072;  \\/\\/ OPTIMIZE [0.02, 0.98]/'\n",
      "g++ 5_main.cpp -std=gnu++17 -O2 -DONLINE_JUDGE -o 5_main.cpp.out 2> /dev/null\n",
      "sed -i 6_main.cpp -e 's/^constexpr double K_START = .*;  \\/\\/ OPTIMIZE \\[0\\.04, 0\\.12\\] LOG$/constexpr double K_START = 0.07281125385017978;  \\/\\/ OPTIMIZE [0.04, 0.12] LOG/' -e 's/^constexpr double K_END = .*;   \\/\\/ OPTIMIZE \\[0\\.03, 0\\.1\\] LOG$/constexpr double K_END = 0.038832753008488326;   \\/\\/ OPTIMIZE [0.03, 0.1] LOG/' -e 's/^constexpr double K_H = .*;      \\/\\/ OPTIMIZE \\[0\\.001, 0\\.999\\]$/constexpr double K_H = 0.5907047636374706;      \\/\\/ OPTIMIZE [0.001, 0.999]/' -e 's/^constexpr short PURCHASE_TURN_LIMIT = .*;  \\/\\/ OPTIMIZE \\[790, 870\\]$/constexpr short PURCHASE_TURN_LIMIT = 826;  \\/\\/ OPTIMIZE [790, 870]/' -e 's/^constexpr int SUBSCORE3_TIGHT_TURN = .*;     \\/\\/ OPTIMIZE \\[0, 1\\]$/constexpr int SUBSCORE3_TIGHT_TURN = 0;     \\/\\/ OPTIMIZE [0, 1]/' -e 's/^constexpr int ROUGH_HASH = .*;      \\/\\/ OPTIMIZE {0, 0b00000001, 0b00010001, 0b00010011, 0b00110011}$/constexpr int ROUGH_HASH = 0b00000001;      \\/\\/ OPTIMIZE {0, 0b00000001, 0b00010001, 0b00010011, 0b00110011}/' -e 's/^constexpr double TARGET_BEAM_WIDTH_INCREASE_RATE = .*;      \\/\\/ OPTIMIZE \\[0\\.5, 1\\.0\\] LOG$/constexpr double TARGET_BEAM_WIDTH_INCREASE_RATE = 0.9600959888089762;      \\/\\/ OPTIMIZE [0.5, 1.0] LOG/' -e 's/^constexpr double TARGET_BEAM_WIDTH_HALF_PROGRES_RATE = .*;  \\/\\/ OPTIMIZE \\[0\\.02, 0\\.98\\]$/constexpr double TARGET_BEAM_WIDTH_HALF_PROGRES_RATE = 0.8589469822925665;  \\/\\/ OPTIMIZE [0.02, 0.98]/'\n",
      "g++ 6_main.cpp -std=gnu++17 -O2 -DONLINE_JUDGE -o 6_main.cpp.out 2> /dev/null\n"
     ]
    },
    {
     "name": "stderr",
     "output_type": "stream",
     "text": [
      "\u001b[32m[I 2021-09-10 18:46:20,015]\u001b[0m Trial 27 finished with value: 922368289.0 and parameters: {'K_START': 0.09737031418462054, 'K_END': 0.04618692250975887, 'K_H': 0.5656708850950667, 'PURCHASE_TURN_LIMIT': 825, 'SUBSCORE3_TIGHT_TURN': 0, 'ROUGH_HASH': '0b00110011', 'TARGET_BEAM_WIDTH_INCREASE_RATE': 0.8847190498469488, 'TARGET_BEAM_WIDTH_HALF_PROGRES_RATE': 0.9613236212618037}. Best is trial 23 with value: 932572724.0.\u001b[0m\n"
     ]
    },
    {
     "name": "stdout",
     "output_type": "stream",
     "text": [
      "callback ok\n",
      "index_parallel=7\n",
      "sed -i 7_main.cpp -e 's/^constexpr double K_START = .*;  \\/\\/ OPTIMIZE \\[0\\.04, 0\\.12\\] LOG$/constexpr double K_START = 0.07150048504454183;  \\/\\/ OPTIMIZE [0.04, 0.12] LOG/' -e 's/^constexpr double K_END = .*;   \\/\\/ OPTIMIZE \\[0\\.03, 0\\.1\\] LOG$/constexpr double K_END = 0.03799353849558404;   \\/\\/ OPTIMIZE [0.03, 0.1] LOG/' -e 's/^constexpr double K_H = .*;      \\/\\/ OPTIMIZE \\[0\\.001, 0\\.999\\]$/constexpr double K_H = 0.5397495574089064;      \\/\\/ OPTIMIZE [0.001, 0.999]/' -e 's/^constexpr short PURCHASE_TURN_LIMIT = .*;  \\/\\/ OPTIMIZE \\[790, 870\\]$/constexpr short PURCHASE_TURN_LIMIT = 840;  \\/\\/ OPTIMIZE [790, 870]/' -e 's/^constexpr int SUBSCORE3_TIGHT_TURN = .*;     \\/\\/ OPTIMIZE \\[0, 1\\]$/constexpr int SUBSCORE3_TIGHT_TURN = 0;     \\/\\/ OPTIMIZE [0, 1]/' -e 's/^constexpr int ROUGH_HASH = .*;      \\/\\/ OPTIMIZE {0, 0b00000001, 0b00010001, 0b00010011, 0b00110011}$/constexpr int ROUGH_HASH = 0b00000001;      \\/\\/ OPTIMIZE {0, 0b00000001, 0b00010001, 0b00010011, 0b00110011}/' -e 's/^constexpr double TARGET_BEAM_WIDTH_INCREASE_RATE = .*;      \\/\\/ OPTIMIZE \\[0\\.5, 1\\.0\\] LOG$/constexpr double TARGET_BEAM_WIDTH_INCREASE_RATE = 0.9610859792881306;      \\/\\/ OPTIMIZE [0.5, 1.0] LOG/' -e 's/^constexpr double TARGET_BEAM_WIDTH_HALF_PROGRES_RATE = .*;  \\/\\/ OPTIMIZE \\[0\\.02, 0\\.98\\]$/constexpr double TARGET_BEAM_WIDTH_HALF_PROGRES_RATE = 0.849476674615375;  \\/\\/ OPTIMIZE [0.02, 0.98]/'\n",
      "g++ 7_main.cpp -std=gnu++17 -O2 -DONLINE_JUDGE -o 7_main.cpp.out 2> /dev/null\n"
     ]
    },
    {
     "name": "stderr",
     "output_type": "stream",
     "text": [
      "\u001b[32m[I 2021-09-10 18:48:23,620]\u001b[0m Trial 28 finished with value: 908937339.0 and parameters: {'K_START': 0.11846711950800455, 'K_END': 0.0470687489350124, 'K_H': 0.5643953146874439, 'PURCHASE_TURN_LIMIT': 811, 'SUBSCORE3_TIGHT_TURN': 0, 'ROUGH_HASH': '0b00110011', 'TARGET_BEAM_WIDTH_INCREASE_RATE': 0.8814568368152516, 'TARGET_BEAM_WIDTH_HALF_PROGRES_RATE': 0.9191195558075723}. Best is trial 23 with value: 932572724.0.\u001b[0m\n"
     ]
    },
    {
     "name": "stdout",
     "output_type": "stream",
     "text": [
      "callback ok\n",
      "index_parallel=8\n",
      "sed -i 8_main.cpp -e 's/^constexpr double K_START = .*;  \\/\\/ OPTIMIZE \\[0\\.04, 0\\.12\\] LOG$/constexpr double K_START = 0.07241997628445512;  \\/\\/ OPTIMIZE [0.04, 0.12] LOG/' -e 's/^constexpr double K_END = .*;   \\/\\/ OPTIMIZE \\[0\\.03, 0\\.1\\] LOG$/constexpr double K_END = 0.04073053034918122;   \\/\\/ OPTIMIZE [0.03, 0.1] LOG/' -e 's/^constexpr double K_H = .*;      \\/\\/ OPTIMIZE \\[0\\.001, 0\\.999\\]$/constexpr double K_H = 0.5226234479969529;      \\/\\/ OPTIMIZE [0.001, 0.999]/' -e 's/^constexpr short PURCHASE_TURN_LIMIT = .*;  \\/\\/ OPTIMIZE \\[790, 870\\]$/constexpr short PURCHASE_TURN_LIMIT = 830;  \\/\\/ OPTIMIZE [790, 870]/' -e 's/^constexpr int SUBSCORE3_TIGHT_TURN = .*;     \\/\\/ OPTIMIZE \\[0, 1\\]$/constexpr int SUBSCORE3_TIGHT_TURN = 0;     \\/\\/ OPTIMIZE [0, 1]/' -e 's/^constexpr int ROUGH_HASH = .*;      \\/\\/ OPTIMIZE {0, 0b00000001, 0b00010001, 0b00010011, 0b00110011}$/constexpr int ROUGH_HASH = 0b00000001;      \\/\\/ OPTIMIZE {0, 0b00000001, 0b00010001, 0b00010011, 0b00110011}/' -e 's/^constexpr double TARGET_BEAM_WIDTH_INCREASE_RATE = .*;      \\/\\/ OPTIMIZE \\[0\\.5, 1\\.0\\] LOG$/constexpr double TARGET_BEAM_WIDTH_INCREASE_RATE = 0.9893964292202292;      \\/\\/ OPTIMIZE [0.5, 1.0] LOG/' -e 's/^constexpr double TARGET_BEAM_WIDTH_HALF_PROGRES_RATE = .*;  \\/\\/ OPTIMIZE \\[0\\.02, 0\\.98\\]$/constexpr double TARGET_BEAM_WIDTH_HALF_PROGRES_RATE = 0.8346828639803079;  \\/\\/ OPTIMIZE [0.02, 0.98]/'\n",
      "g++ 8_main.cpp -std=gnu++17 -O2 -DONLINE_JUDGE -o 8_main.cpp.out 2> /dev/null\n"
     ]
    },
    {
     "name": "stderr",
     "output_type": "stream",
     "text": [
      "\u001b[32m[I 2021-09-10 18:48:41,607]\u001b[0m Trial 29 finished with value: 924965930.0 and parameters: {'K_START': 0.07242570520844145, 'K_END': 0.04034637945908039, 'K_H': 0.5733929048401551, 'PURCHASE_TURN_LIMIT': 827, 'SUBSCORE3_TIGHT_TURN': 0, 'ROUGH_HASH': '0b00000001', 'TARGET_BEAM_WIDTH_INCREASE_RATE': 0.9923541570965039, 'TARGET_BEAM_WIDTH_HALF_PROGRES_RATE': 0.8338140901242072}. Best is trial 23 with value: 932572724.0.\u001b[0m\n"
     ]
    },
    {
     "name": "stdout",
     "output_type": "stream",
     "text": [
      "callback ok\n",
      "index_parallel=9\n",
      "sed -i 9_main.cpp -e 's/^constexpr double K_START = .*;  \\/\\/ OPTIMIZE \\[0\\.04, 0\\.12\\] LOG$/constexpr double K_START = 0.06975705336225045;  \\/\\/ OPTIMIZE [0.04, 0.12] LOG/' -e 's/^constexpr double K_END = .*;   \\/\\/ OPTIMIZE \\[0\\.03, 0\\.1\\] LOG$/constexpr double K_END = 0.04028435231857665;   \\/\\/ OPTIMIZE [0.03, 0.1] LOG/' -e 's/^constexpr double K_H = .*;      \\/\\/ OPTIMIZE \\[0\\.001, 0\\.999\\]$/constexpr double K_H = 0.47223494160526575;      \\/\\/ OPTIMIZE [0.001, 0.999]/' -e 's/^constexpr short PURCHASE_TURN_LIMIT = .*;  \\/\\/ OPTIMIZE \\[790, 870\\]$/constexpr short PURCHASE_TURN_LIMIT = 840;  \\/\\/ OPTIMIZE [790, 870]/' -e 's/^constexpr int SUBSCORE3_TIGHT_TURN = .*;     \\/\\/ OPTIMIZE \\[0, 1\\]$/constexpr int SUBSCORE3_TIGHT_TURN = 0;     \\/\\/ OPTIMIZE [0, 1]/' -e 's/^constexpr int ROUGH_HASH = .*;      \\/\\/ OPTIMIZE {0, 0b00000001, 0b00010001, 0b00010011, 0b00110011}$/constexpr int ROUGH_HASH = 0b00000001;      \\/\\/ OPTIMIZE {0, 0b00000001, 0b00010001, 0b00010011, 0b00110011}/' -e 's/^constexpr double TARGET_BEAM_WIDTH_INCREASE_RATE = .*;      \\/\\/ OPTIMIZE \\[0\\.5, 1\\.0\\] LOG$/constexpr double TARGET_BEAM_WIDTH_INCREASE_RATE = 0.9274379779427642;      \\/\\/ OPTIMIZE [0.5, 1.0] LOG/' -e 's/^constexpr double TARGET_BEAM_WIDTH_HALF_PROGRES_RATE = .*;  \\/\\/ OPTIMIZE \\[0\\.02, 0\\.98\\]$/constexpr double TARGET_BEAM_WIDTH_HALF_PROGRES_RATE = 0.8286841624540467;  \\/\\/ OPTIMIZE [0.02, 0.98]/'\n",
      "g++ 9_main.cpp -std=gnu++17 -O2 -DONLINE_JUDGE -o 9_main.cpp.out 2> /dev/null\n"
     ]
    },
    {
     "name": "stderr",
     "output_type": "stream",
     "text": [
      "\u001b[32m[I 2021-09-10 18:48:45,671]\u001b[0m Trial 30 finished with value: 918929742.0 and parameters: {'K_START': 0.07281125385017978, 'K_END': 0.038832753008488326, 'K_H': 0.5907047636374706, 'PURCHASE_TURN_LIMIT': 826, 'SUBSCORE3_TIGHT_TURN': 0, 'ROUGH_HASH': '0b00000001', 'TARGET_BEAM_WIDTH_INCREASE_RATE': 0.9600959888089762, 'TARGET_BEAM_WIDTH_HALF_PROGRES_RATE': 0.8589469822925665}. Best is trial 23 with value: 932572724.0.\u001b[0m\n"
     ]
    },
    {
     "name": "stdout",
     "output_type": "stream",
     "text": [
      "callback ok\n",
      "index_parallel=10\n",
      "sed -i 10_main.cpp -e 's/^constexpr double K_START = .*;  \\/\\/ OPTIMIZE \\[0\\.04, 0\\.12\\] LOG$/constexpr double K_START = 0.08949451106677732;  \\/\\/ OPTIMIZE [0.04, 0.12] LOG/' -e 's/^constexpr double K_END = .*;   \\/\\/ OPTIMIZE \\[0\\.03, 0\\.1\\] LOG$/constexpr double K_END = 0.058892224335395316;   \\/\\/ OPTIMIZE [0.03, 0.1] LOG/' -e 's/^constexpr double K_H = .*;      \\/\\/ OPTIMIZE \\[0\\.001, 0\\.999\\]$/constexpr double K_H = 0.4905795419037766;      \\/\\/ OPTIMIZE [0.001, 0.999]/' -e 's/^constexpr short PURCHASE_TURN_LIMIT = .*;  \\/\\/ OPTIMIZE \\[790, 870\\]$/constexpr short PURCHASE_TURN_LIMIT = 841;  \\/\\/ OPTIMIZE [790, 870]/' -e 's/^constexpr int SUBSCORE3_TIGHT_TURN = .*;     \\/\\/ OPTIMIZE \\[0, 1\\]$/constexpr int SUBSCORE3_TIGHT_TURN = 0;     \\/\\/ OPTIMIZE [0, 1]/' -e 's/^constexpr int ROUGH_HASH = .*;      \\/\\/ OPTIMIZE {0, 0b00000001, 0b00010001, 0b00010011, 0b00110011}$/constexpr int ROUGH_HASH = 0b00000001;      \\/\\/ OPTIMIZE {0, 0b00000001, 0b00010001, 0b00010011, 0b00110011}/' -e 's/^constexpr double TARGET_BEAM_WIDTH_INCREASE_RATE = .*;      \\/\\/ OPTIMIZE \\[0\\.5, 1\\.0\\] LOG$/constexpr double TARGET_BEAM_WIDTH_INCREASE_RATE = 0.804464122956754;      \\/\\/ OPTIMIZE [0.5, 1.0] LOG/' -e 's/^constexpr double TARGET_BEAM_WIDTH_HALF_PROGRES_RATE = .*;  \\/\\/ OPTIMIZE \\[0\\.02, 0\\.98\\]$/constexpr double TARGET_BEAM_WIDTH_HALF_PROGRES_RATE = 0.7751490161980934;  \\/\\/ OPTIMIZE [0.02, 0.98]/'\n",
      "g++ 10_main.cpp -std=gnu++17 -O2 -DONLINE_JUDGE -o 10_main.cpp.out 2> /dev/null\n"
     ]
    },
    {
     "name": "stderr",
     "output_type": "stream",
     "text": [
      "\u001b[32m[I 2021-09-10 18:48:52,176]\u001b[0m Trial 31 finished with value: 923885017.0 and parameters: {'K_START': 0.07150048504454183, 'K_END': 0.03799353849558404, 'K_H': 0.5397495574089064, 'PURCHASE_TURN_LIMIT': 840, 'SUBSCORE3_TIGHT_TURN': 0, 'ROUGH_HASH': '0b00000001', 'TARGET_BEAM_WIDTH_INCREASE_RATE': 0.9610859792881306, 'TARGET_BEAM_WIDTH_HALF_PROGRES_RATE': 0.849476674615375}. Best is trial 23 with value: 932572724.0.\u001b[0m\n"
     ]
    },
    {
     "name": "stdout",
     "output_type": "stream",
     "text": [
      "callback ok\n",
      "index_parallel=11\n",
      "sed -i 11_main.cpp -e 's/^constexpr double K_START = .*;  \\/\\/ OPTIMIZE \\[0\\.04, 0\\.12\\] LOG$/constexpr double K_START = 0.08880374261727193;  \\/\\/ OPTIMIZE [0.04, 0.12] LOG/' -e 's/^constexpr double K_END = .*;   \\/\\/ OPTIMIZE \\[0\\.03, 0\\.1\\] LOG$/constexpr double K_END = 0.057673381671560706;   \\/\\/ OPTIMIZE [0.03, 0.1] LOG/' -e 's/^constexpr double K_H = .*;      \\/\\/ OPTIMIZE \\[0\\.001, 0\\.999\\]$/constexpr double K_H = 0.36978580110638426;      \\/\\/ OPTIMIZE [0.001, 0.999]/' -e 's/^constexpr short PURCHASE_TURN_LIMIT = .*;  \\/\\/ OPTIMIZE \\[790, 870\\]$/constexpr short PURCHASE_TURN_LIMIT = 831;  \\/\\/ OPTIMIZE [790, 870]/' -e 's/^constexpr int SUBSCORE3_TIGHT_TURN = .*;     \\/\\/ OPTIMIZE \\[0, 1\\]$/constexpr int SUBSCORE3_TIGHT_TURN = 0;     \\/\\/ OPTIMIZE [0, 1]/' -e 's/^constexpr int ROUGH_HASH = .*;      \\/\\/ OPTIMIZE {0, 0b00000001, 0b00010001, 0b00010011, 0b00110011}$/constexpr int ROUGH_HASH = 0b00000001;      \\/\\/ OPTIMIZE {0, 0b00000001, 0b00010001, 0b00010011, 0b00110011}/' -e 's/^constexpr double TARGET_BEAM_WIDTH_INCREASE_RATE = .*;      \\/\\/ OPTIMIZE \\[0\\.5, 1\\.0\\] LOG$/constexpr double TARGET_BEAM_WIDTH_INCREASE_RATE = 0.8167516079759869;      \\/\\/ OPTIMIZE [0.5, 1.0] LOG/' -e 's/^constexpr double TARGET_BEAM_WIDTH_HALF_PROGRES_RATE = .*;  \\/\\/ OPTIMIZE \\[0\\.02, 0\\.98\\]$/constexpr double TARGET_BEAM_WIDTH_HALF_PROGRES_RATE = 0.75754498108144;  \\/\\/ OPTIMIZE [0.02, 0.98]/'\n",
      "g++ 11_main.cpp -std=gnu++17 -O2 -DONLINE_JUDGE -o 11_main.cpp.out 2> /dev/null\n"
     ]
    },
    {
     "name": "stderr",
     "output_type": "stream",
     "text": [
      "\u001b[32m[I 2021-09-10 18:50:53,068]\u001b[0m Trial 32 finished with value: 926530049.0 and parameters: {'K_START': 0.07241997628445512, 'K_END': 0.04073053034918122, 'K_H': 0.5226234479969529, 'PURCHASE_TURN_LIMIT': 830, 'SUBSCORE3_TIGHT_TURN': 0, 'ROUGH_HASH': '0b00000001', 'TARGET_BEAM_WIDTH_INCREASE_RATE': 0.9893964292202292, 'TARGET_BEAM_WIDTH_HALF_PROGRES_RATE': 0.8346828639803079}. Best is trial 23 with value: 932572724.0.\u001b[0m\n"
     ]
    },
    {
     "name": "stdout",
     "output_type": "stream",
     "text": [
      "callback ok\n",
      "index_parallel=0\n",
      "sed -i 0_main.cpp -e 's/^constexpr double K_START = .*;  \\/\\/ OPTIMIZE \\[0\\.04, 0\\.12\\] LOG$/constexpr double K_START = 0.1115449462897484;  \\/\\/ OPTIMIZE [0.04, 0.12] LOG/' -e 's/^constexpr double K_END = .*;   \\/\\/ OPTIMIZE \\[0\\.03, 0\\.1\\] LOG$/constexpr double K_END = 0.04138332419360275;   \\/\\/ OPTIMIZE [0.03, 0.1] LOG/' -e 's/^constexpr double K_H = .*;      \\/\\/ OPTIMIZE \\[0\\.001, 0\\.999\\]$/constexpr double K_H = 0.4808551298357958;      \\/\\/ OPTIMIZE [0.001, 0.999]/' -e 's/^constexpr short PURCHASE_TURN_LIMIT = .*;  \\/\\/ OPTIMIZE \\[790, 870\\]$/constexpr short PURCHASE_TURN_LIMIT = 832;  \\/\\/ OPTIMIZE [790, 870]/' -e 's/^constexpr int SUBSCORE3_TIGHT_TURN = .*;     \\/\\/ OPTIMIZE \\[0, 1\\]$/constexpr int SUBSCORE3_TIGHT_TURN = 0;     \\/\\/ OPTIMIZE [0, 1]/' -e 's/^constexpr int ROUGH_HASH = .*;      \\/\\/ OPTIMIZE {0, 0b00000001, 0b00010001, 0b00010011, 0b00110011}$/constexpr int ROUGH_HASH = 0b00000001;      \\/\\/ OPTIMIZE {0, 0b00000001, 0b00010001, 0b00010011, 0b00110011}/' -e 's/^constexpr double TARGET_BEAM_WIDTH_INCREASE_RATE = .*;      \\/\\/ OPTIMIZE \\[0\\.5, 1\\.0\\] LOG$/constexpr double TARGET_BEAM_WIDTH_INCREASE_RATE = 0.9291854769894713;      \\/\\/ OPTIMIZE [0.5, 1.0] LOG/' -e 's/^constexpr double TARGET_BEAM_WIDTH_HALF_PROGRES_RATE = .*;  \\/\\/ OPTIMIZE \\[0\\.02, 0\\.98\\]$/constexpr double TARGET_BEAM_WIDTH_HALF_PROGRES_RATE = 0.7730679369594836;  \\/\\/ OPTIMIZE [0.02, 0.98]/'\n",
      "g++ 0_main.cpp -std=gnu++17 -O2 -DONLINE_JUDGE -o 0_main.cpp.out 2> /dev/null\n"
     ]
    },
    {
     "name": "stderr",
     "output_type": "stream",
     "text": [
      "\u001b[32m[I 2021-09-10 18:51:11,666]\u001b[0m Trial 33 finished with value: 930814893.0 and parameters: {'K_START': 0.06975705336225045, 'K_END': 0.04028435231857665, 'K_H': 0.47223494160526575, 'PURCHASE_TURN_LIMIT': 840, 'SUBSCORE3_TIGHT_TURN': 0, 'ROUGH_HASH': '0b00000001', 'TARGET_BEAM_WIDTH_INCREASE_RATE': 0.9274379779427642, 'TARGET_BEAM_WIDTH_HALF_PROGRES_RATE': 0.8286841624540467}. Best is trial 23 with value: 932572724.0.\u001b[0m\n"
     ]
    },
    {
     "name": "stdout",
     "output_type": "stream",
     "text": [
      "callback ok\n",
      "index_parallel=1\n",
      "sed -i 1_main.cpp -e 's/^constexpr double K_START = .*;  \\/\\/ OPTIMIZE \\[0\\.04, 0\\.12\\] LOG$/constexpr double K_START = 0.05309784639152113;  \\/\\/ OPTIMIZE [0.04, 0.12] LOG/' -e 's/^constexpr double K_END = .*;   \\/\\/ OPTIMIZE \\[0\\.03, 0\\.1\\] LOG$/constexpr double K_END = 0.03006863111478901;   \\/\\/ OPTIMIZE [0.03, 0.1] LOG/' -e 's/^constexpr double K_H = .*;      \\/\\/ OPTIMIZE \\[0\\.001, 0\\.999\\]$/constexpr double K_H = 0.4751008137810308;      \\/\\/ OPTIMIZE [0.001, 0.999]/' -e 's/^constexpr short PURCHASE_TURN_LIMIT = .*;  \\/\\/ OPTIMIZE \\[790, 870\\]$/constexpr short PURCHASE_TURN_LIMIT = 842;  \\/\\/ OPTIMIZE [790, 870]/' -e 's/^constexpr int SUBSCORE3_TIGHT_TURN = .*;     \\/\\/ OPTIMIZE \\[0, 1\\]$/constexpr int SUBSCORE3_TIGHT_TURN = 0;     \\/\\/ OPTIMIZE [0, 1]/' -e 's/^constexpr int ROUGH_HASH = .*;      \\/\\/ OPTIMIZE {0, 0b00000001, 0b00010001, 0b00010011, 0b00110011}$/constexpr int ROUGH_HASH = 0b00000001;      \\/\\/ OPTIMIZE {0, 0b00000001, 0b00010001, 0b00010011, 0b00110011}/' -e 's/^constexpr double TARGET_BEAM_WIDTH_INCREASE_RATE = .*;      \\/\\/ OPTIMIZE \\[0\\.5, 1\\.0\\] LOG$/constexpr double TARGET_BEAM_WIDTH_INCREASE_RATE = 0.9250937208950802;      \\/\\/ OPTIMIZE [0.5, 1.0] LOG/' -e 's/^constexpr double TARGET_BEAM_WIDTH_HALF_PROGRES_RATE = .*;  \\/\\/ OPTIMIZE \\[0\\.02, 0\\.98\\]$/constexpr double TARGET_BEAM_WIDTH_HALF_PROGRES_RATE = 0.7924375900491113;  \\/\\/ OPTIMIZE [0.02, 0.98]/'\n",
      "g++ 1_main.cpp -std=gnu++17 -O2 -DONLINE_JUDGE -o 1_main.cpp.out 2> /dev/null\n"
     ]
    },
    {
     "name": "stderr",
     "output_type": "stream",
     "text": [
      "\u001b[32m[I 2021-09-10 18:51:14,936]\u001b[0m Trial 34 finished with value: 930069216.0 and parameters: {'K_START': 0.08949451106677732, 'K_END': 0.058892224335395316, 'K_H': 0.4905795419037766, 'PURCHASE_TURN_LIMIT': 841, 'SUBSCORE3_TIGHT_TURN': 0, 'ROUGH_HASH': '0b00000001', 'TARGET_BEAM_WIDTH_INCREASE_RATE': 0.804464122956754, 'TARGET_BEAM_WIDTH_HALF_PROGRES_RATE': 0.7751490161980934}. Best is trial 23 with value: 932572724.0.\u001b[0m\n"
     ]
    },
    {
     "name": "stdout",
     "output_type": "stream",
     "text": [
      "callback ok\n",
      "index_parallel=2\n",
      "sed -i 2_main.cpp -e 's/^constexpr double K_START = .*;  \\/\\/ OPTIMIZE \\[0\\.04, 0\\.12\\] LOG$/constexpr double K_START = 0.0661850399227555;  \\/\\/ OPTIMIZE [0.04, 0.12] LOG/' -e 's/^constexpr double K_END = .*;   \\/\\/ OPTIMIZE \\[0\\.03, 0\\.1\\] LOG$/constexpr double K_END = 0.030994250990986037;   \\/\\/ OPTIMIZE [0.03, 0.1] LOG/' -e 's/^constexpr double K_H = .*;      \\/\\/ OPTIMIZE \\[0\\.001, 0\\.999\\]$/constexpr double K_H = 0.46409786794843033;      \\/\\/ OPTIMIZE [0.001, 0.999]/' -e 's/^constexpr short PURCHASE_TURN_LIMIT = .*;  \\/\\/ OPTIMIZE \\[790, 870\\]$/constexpr short PURCHASE_TURN_LIMIT = 863;  \\/\\/ OPTIMIZE [790, 870]/' -e 's/^constexpr int SUBSCORE3_TIGHT_TURN = .*;     \\/\\/ OPTIMIZE \\[0, 1\\]$/constexpr int SUBSCORE3_TIGHT_TURN = 0;     \\/\\/ OPTIMIZE [0, 1]/' -e 's/^constexpr int ROUGH_HASH = .*;      \\/\\/ OPTIMIZE {0, 0b00000001, 0b00010001, 0b00010011, 0b00110011}$/constexpr int ROUGH_HASH = 0b00000001;      \\/\\/ OPTIMIZE {0, 0b00000001, 0b00010001, 0b00010011, 0b00110011}/' -e 's/^constexpr double TARGET_BEAM_WIDTH_INCREASE_RATE = .*;      \\/\\/ OPTIMIZE \\[0\\.5, 1\\.0\\] LOG$/constexpr double TARGET_BEAM_WIDTH_INCREASE_RATE = 0.8149200806018869;      \\/\\/ OPTIMIZE [0.5, 1.0] LOG/' -e 's/^constexpr double TARGET_BEAM_WIDTH_HALF_PROGRES_RATE = .*;  \\/\\/ OPTIMIZE \\[0\\.02, 0\\.98\\]$/constexpr double TARGET_BEAM_WIDTH_HALF_PROGRES_RATE = 0.7513800063735537;  \\/\\/ OPTIMIZE [0.02, 0.98]/'\n",
      "g++ 2_main.cpp -std=gnu++17 -O2 -DONLINE_JUDGE -o 2_main.cpp.out 2> /dev/null\n"
     ]
    },
    {
     "name": "stderr",
     "output_type": "stream",
     "text": [
      "\u001b[32m[I 2021-09-10 18:51:21,569]\u001b[0m Trial 35 finished with value: 928964743.0 and parameters: {'K_START': 0.08880374261727193, 'K_END': 0.057673381671560706, 'K_H': 0.36978580110638426, 'PURCHASE_TURN_LIMIT': 831, 'SUBSCORE3_TIGHT_TURN': 0, 'ROUGH_HASH': '0b00000001', 'TARGET_BEAM_WIDTH_INCREASE_RATE': 0.8167516079759869, 'TARGET_BEAM_WIDTH_HALF_PROGRES_RATE': 0.75754498108144}. Best is trial 23 with value: 932572724.0.\u001b[0m\n"
     ]
    },
    {
     "name": "stdout",
     "output_type": "stream",
     "text": [
      "callback ok\n",
      "index_parallel=3\n",
      "sed -i 3_main.cpp -e 's/^constexpr double K_START = .*;  \\/\\/ OPTIMIZE \\[0\\.04, 0\\.12\\] LOG$/constexpr double K_START = 0.05376758922437541;  \\/\\/ OPTIMIZE [0.04, 0.12] LOG/' -e 's/^constexpr double K_END = .*;   \\/\\/ OPTIMIZE \\[0\\.03, 0\\.1\\] LOG$/constexpr double K_END = 0.04381580954185785;   \\/\\/ OPTIMIZE [0.03, 0.1] LOG/' -e 's/^constexpr double K_H = .*;      \\/\\/ OPTIMIZE \\[0\\.001, 0\\.999\\]$/constexpr double K_H = 0.46433228217287204;      \\/\\/ OPTIMIZE [0.001, 0.999]/' -e 's/^constexpr short PURCHASE_TURN_LIMIT = .*;  \\/\\/ OPTIMIZE \\[790, 870\\]$/constexpr short PURCHASE_TURN_LIMIT = 841;  \\/\\/ OPTIMIZE [790, 870]/' -e 's/^constexpr int SUBSCORE3_TIGHT_TURN = .*;     \\/\\/ OPTIMIZE \\[0, 1\\]$/constexpr int SUBSCORE3_TIGHT_TURN = 0;     \\/\\/ OPTIMIZE [0, 1]/' -e 's/^constexpr int ROUGH_HASH = .*;      \\/\\/ OPTIMIZE {0, 0b00000001, 0b00010001, 0b00010011, 0b00110011}$/constexpr int ROUGH_HASH = 0b00000001;      \\/\\/ OPTIMIZE {0, 0b00000001, 0b00010001, 0b00010011, 0b00110011}/' -e 's/^constexpr double TARGET_BEAM_WIDTH_INCREASE_RATE = .*;      \\/\\/ OPTIMIZE \\[0\\.5, 1\\.0\\] LOG$/constexpr double TARGET_BEAM_WIDTH_INCREASE_RATE = 0.926172173907791;      \\/\\/ OPTIMIZE [0.5, 1.0] LOG/' -e 's/^constexpr double TARGET_BEAM_WIDTH_HALF_PROGRES_RATE = .*;  \\/\\/ OPTIMIZE \\[0\\.02, 0\\.98\\]$/constexpr double TARGET_BEAM_WIDTH_HALF_PROGRES_RATE = 0.9019707557849408;  \\/\\/ OPTIMIZE [0.02, 0.98]/'\n",
      "g++ 3_main.cpp -std=gnu++17 -O2 -DONLINE_JUDGE -o 3_main.cpp.out 2> /dev/null\n"
     ]
    },
    {
     "name": "stderr",
     "output_type": "stream",
     "text": [
      "\u001b[32m[I 2021-09-10 18:53:23,398]\u001b[0m Trial 36 finished with value: 934112205.0 and parameters: {'K_START': 0.1115449462897484, 'K_END': 0.04138332419360275, 'K_H': 0.4808551298357958, 'PURCHASE_TURN_LIMIT': 832, 'SUBSCORE3_TIGHT_TURN': 0, 'ROUGH_HASH': '0b00000001', 'TARGET_BEAM_WIDTH_INCREASE_RATE': 0.9291854769894713, 'TARGET_BEAM_WIDTH_HALF_PROGRES_RATE': 0.7730679369594836}. Best is trial 36 with value: 934112205.0.\u001b[0m\n"
     ]
    },
    {
     "name": "stdout",
     "output_type": "stream",
     "text": [
      "Updated! 934112205.0\n",
      "callback ok\n",
      "index_parallel=4\n",
      "sed -i 4_main.cpp -e 's/^constexpr double K_START = .*;  \\/\\/ OPTIMIZE \\[0\\.04, 0\\.12\\] LOG$/constexpr double K_START = 0.11170232180863544;  \\/\\/ OPTIMIZE [0.04, 0.12] LOG/' -e 's/^constexpr double K_END = .*;   \\/\\/ OPTIMIZE \\[0\\.03, 0\\.1\\] LOG$/constexpr double K_END = 0.04332057742129054;   \\/\\/ OPTIMIZE [0.03, 0.1] LOG/' -e 's/^constexpr double K_H = .*;      \\/\\/ OPTIMIZE \\[0\\.001, 0\\.999\\]$/constexpr double K_H = 0.48598957242980945;      \\/\\/ OPTIMIZE [0.001, 0.999]/' -e 's/^constexpr short PURCHASE_TURN_LIMIT = .*;  \\/\\/ OPTIMIZE \\[790, 870\\]$/constexpr short PURCHASE_TURN_LIMIT = 841;  \\/\\/ OPTIMIZE [790, 870]/' -e 's/^constexpr int SUBSCORE3_TIGHT_TURN = .*;     \\/\\/ OPTIMIZE \\[0, 1\\]$/constexpr int SUBSCORE3_TIGHT_TURN = 0;     \\/\\/ OPTIMIZE [0, 1]/' -e 's/^constexpr int ROUGH_HASH = .*;      \\/\\/ OPTIMIZE {0, 0b00000001, 0b00010001, 0b00010011, 0b00110011}$/constexpr int ROUGH_HASH = 0b00000001;      \\/\\/ OPTIMIZE {0, 0b00000001, 0b00010001, 0b00010011, 0b00110011}/' -e 's/^constexpr double TARGET_BEAM_WIDTH_INCREASE_RATE = .*;      \\/\\/ OPTIMIZE \\[0\\.5, 1\\.0\\] LOG$/constexpr double TARGET_BEAM_WIDTH_INCREASE_RATE = 0.8218433160128823;      \\/\\/ OPTIMIZE [0.5, 1.0] LOG/' -e 's/^constexpr double TARGET_BEAM_WIDTH_HALF_PROGRES_RATE = .*;  \\/\\/ OPTIMIZE \\[0\\.02, 0\\.98\\]$/constexpr double TARGET_BEAM_WIDTH_HALF_PROGRES_RATE = 0.6364350277743603;  \\/\\/ OPTIMIZE [0.02, 0.98]/'\n",
      "g++ 4_main.cpp -std=gnu++17 -O2 -DONLINE_JUDGE -o 4_main.cpp.out 2> /dev/null\n"
     ]
    },
    {
     "name": "stderr",
     "output_type": "stream",
     "text": [
      "\u001b[32m[I 2021-09-10 18:53:42,797]\u001b[0m Trial 37 finished with value: 910531046.0 and parameters: {'K_START': 0.05309784639152113, 'K_END': 0.03006863111478901, 'K_H': 0.4751008137810308, 'PURCHASE_TURN_LIMIT': 842, 'SUBSCORE3_TIGHT_TURN': 0, 'ROUGH_HASH': '0b00000001', 'TARGET_BEAM_WIDTH_INCREASE_RATE': 0.9250937208950802, 'TARGET_BEAM_WIDTH_HALF_PROGRES_RATE': 0.7924375900491113}. Best is trial 36 with value: 934112205.0.\u001b[0m\n"
     ]
    },
    {
     "name": "stdout",
     "output_type": "stream",
     "text": [
      "callback ok\n",
      "index_parallel=5\n",
      "sed -i 5_main.cpp -e 's/^constexpr double K_START = .*;  \\/\\/ OPTIMIZE \\[0\\.04, 0\\.12\\] LOG$/constexpr double K_START = 0.11107915677744978;  \\/\\/ OPTIMIZE [0.04, 0.12] LOG/' -e 's/^constexpr double K_END = .*;   \\/\\/ OPTIMIZE \\[0\\.03, 0\\.1\\] LOG$/constexpr double K_END = 0.04498539199921702;   \\/\\/ OPTIMIZE [0.03, 0.1] LOG/' -e 's/^constexpr double K_H = .*;      \\/\\/ OPTIMIZE \\[0\\.001, 0\\.999\\]$/constexpr double K_H = 0.686567737605291;      \\/\\/ OPTIMIZE [0.001, 0.999]/' -e 's/^constexpr short PURCHASE_TURN_LIMIT = .*;  \\/\\/ OPTIMIZE \\[790, 870\\]$/constexpr short PURCHASE_TURN_LIMIT = 860;  \\/\\/ OPTIMIZE [790, 870]/' -e 's/^constexpr int SUBSCORE3_TIGHT_TURN = .*;     \\/\\/ OPTIMIZE \\[0, 1\\]$/constexpr int SUBSCORE3_TIGHT_TURN = 0;     \\/\\/ OPTIMIZE [0, 1]/' -e 's/^constexpr int ROUGH_HASH = .*;      \\/\\/ OPTIMIZE {0, 0b00000001, 0b00010001, 0b00010011, 0b00110011}$/constexpr int ROUGH_HASH = 0b00000001;      \\/\\/ OPTIMIZE {0, 0b00000001, 0b00010001, 0b00010011, 0b00110011}/' -e 's/^constexpr double TARGET_BEAM_WIDTH_INCREASE_RATE = .*;      \\/\\/ OPTIMIZE \\[0\\.5, 1\\.0\\] LOG$/constexpr double TARGET_BEAM_WIDTH_INCREASE_RATE = 0.8217811329750149;      \\/\\/ OPTIMIZE [0.5, 1.0] LOG/' -e 's/^constexpr double TARGET_BEAM_WIDTH_HALF_PROGRES_RATE = .*;  \\/\\/ OPTIMIZE \\[0\\.02, 0\\.98\\]$/constexpr double TARGET_BEAM_WIDTH_HALF_PROGRES_RATE = 0.657684047229512;  \\/\\/ OPTIMIZE [0.02, 0.98]/'\n",
      "g++ 5_main.cpp -std=gnu++17 -O2 -DONLINE_JUDGE -o 5_main.cpp.out 2> /dev/null\n"
     ]
    },
    {
     "name": "stderr",
     "output_type": "stream",
     "text": [
      "\u001b[32m[I 2021-09-10 18:53:47,491]\u001b[0m Trial 38 finished with value: 911855541.0 and parameters: {'K_START': 0.0661850399227555, 'K_END': 0.030994250990986037, 'K_H': 0.46409786794843033, 'PURCHASE_TURN_LIMIT': 863, 'SUBSCORE3_TIGHT_TURN': 0, 'ROUGH_HASH': '0b00000001', 'TARGET_BEAM_WIDTH_INCREASE_RATE': 0.8149200806018869, 'TARGET_BEAM_WIDTH_HALF_PROGRES_RATE': 0.7513800063735537}. Best is trial 36 with value: 934112205.0.\u001b[0m\n"
     ]
    },
    {
     "name": "stdout",
     "output_type": "stream",
     "text": [
      "callback ok\n",
      "index_parallel=6\n",
      "sed -i 6_main.cpp -e 's/^constexpr double K_START = .*;  \\/\\/ OPTIMIZE \\[0\\.04, 0\\.12\\] LOG$/constexpr double K_START = 0.11270964414077231;  \\/\\/ OPTIMIZE [0.04, 0.12] LOG/' -e 's/^constexpr double K_END = .*;   \\/\\/ OPTIMIZE \\[0\\.03, 0\\.1\\] LOG$/constexpr double K_END = 0.04291365179471128;   \\/\\/ OPTIMIZE [0.03, 0.1] LOG/' -e 's/^constexpr double K_H = .*;      \\/\\/ OPTIMIZE \\[0\\.001, 0\\.999\\]$/constexpr double K_H = 0.6599339961911437;      \\/\\/ OPTIMIZE [0.001, 0.999]/' -e 's/^constexpr short PURCHASE_TURN_LIMIT = .*;  \\/\\/ OPTIMIZE \\[790, 870\\]$/constexpr short PURCHASE_TURN_LIMIT = 840;  \\/\\/ OPTIMIZE [790, 870]/' -e 's/^constexpr int SUBSCORE3_TIGHT_TURN = .*;     \\/\\/ OPTIMIZE \\[0, 1\\]$/constexpr int SUBSCORE3_TIGHT_TURN = 0;     \\/\\/ OPTIMIZE [0, 1]/' -e 's/^constexpr int ROUGH_HASH = .*;      \\/\\/ OPTIMIZE {0, 0b00000001, 0b00010001, 0b00010011, 0b00110011}$/constexpr int ROUGH_HASH = 0b00000001;      \\/\\/ OPTIMIZE {0, 0b00000001, 0b00010001, 0b00010011, 0b00110011}/' -e 's/^constexpr double TARGET_BEAM_WIDTH_INCREASE_RATE = .*;      \\/\\/ OPTIMIZE \\[0\\.5, 1\\.0\\] LOG$/constexpr double TARGET_BEAM_WIDTH_INCREASE_RATE = 0.8160154201328379;      \\/\\/ OPTIMIZE [0.5, 1.0] LOG/' -e 's/^constexpr double TARGET_BEAM_WIDTH_HALF_PROGRES_RATE = .*;  \\/\\/ OPTIMIZE \\[0\\.02, 0\\.98\\]$/constexpr double TARGET_BEAM_WIDTH_HALF_PROGRES_RATE = 0.6253085150346289;  \\/\\/ OPTIMIZE [0.02, 0.98]/'\n",
      "g++ 6_main.cpp -std=gnu++17 -O2 -DONLINE_JUDGE -o 6_main.cpp.out 2> /dev/null\n"
     ]
    },
    {
     "name": "stderr",
     "output_type": "stream",
     "text": [
      "\u001b[32m[I 2021-09-10 18:53:51,684]\u001b[0m Trial 39 finished with value: 930977451.0 and parameters: {'K_START': 0.05376758922437541, 'K_END': 0.04381580954185785, 'K_H': 0.46433228217287204, 'PURCHASE_TURN_LIMIT': 841, 'SUBSCORE3_TIGHT_TURN': 0, 'ROUGH_HASH': '0b00000001', 'TARGET_BEAM_WIDTH_INCREASE_RATE': 0.926172173907791, 'TARGET_BEAM_WIDTH_HALF_PROGRES_RATE': 0.9019707557849408}. Best is trial 36 with value: 934112205.0.\u001b[0m\n"
     ]
    },
    {
     "name": "stdout",
     "output_type": "stream",
     "text": [
      "callback ok\n",
      "index_parallel=7\n",
      "sed -i 7_main.cpp -e 's/^constexpr double K_START = .*;  \\/\\/ OPTIMIZE \\[0\\.04, 0\\.12\\] LOG$/constexpr double K_START = 0.050692818178356046;  \\/\\/ OPTIMIZE [0.04, 0.12] LOG/' -e 's/^constexpr double K_END = .*;   \\/\\/ OPTIMIZE \\[0\\.03, 0\\.1\\] LOG$/constexpr double K_END = 0.043332362682133266;   \\/\\/ OPTIMIZE [0.03, 0.1] LOG/' -e 's/^constexpr double K_H = .*;      \\/\\/ OPTIMIZE \\[0\\.001, 0\\.999\\]$/constexpr double K_H = 0.6750736565621269;      \\/\\/ OPTIMIZE [0.001, 0.999]/' -e 's/^constexpr short PURCHASE_TURN_LIMIT = .*;  \\/\\/ OPTIMIZE \\[790, 870\\]$/constexpr short PURCHASE_TURN_LIMIT = 820;  \\/\\/ OPTIMIZE [790, 870]/' -e 's/^constexpr int SUBSCORE3_TIGHT_TURN = .*;     \\/\\/ OPTIMIZE \\[0, 1\\]$/constexpr int SUBSCORE3_TIGHT_TURN = 0;     \\/\\/ OPTIMIZE [0, 1]/' -e 's/^constexpr int ROUGH_HASH = .*;      \\/\\/ OPTIMIZE {0, 0b00000001, 0b00010001, 0b00010011, 0b00110011}$/constexpr int ROUGH_HASH = 0b00000001;      \\/\\/ OPTIMIZE {0, 0b00000001, 0b00010001, 0b00010011, 0b00110011}/' -e 's/^constexpr double TARGET_BEAM_WIDTH_INCREASE_RATE = .*;      \\/\\/ OPTIMIZE \\[0\\.5, 1\\.0\\] LOG$/constexpr double TARGET_BEAM_WIDTH_INCREASE_RATE = 0.9193649489717296;      \\/\\/ OPTIMIZE [0.5, 1.0] LOG/' -e 's/^constexpr double TARGET_BEAM_WIDTH_HALF_PROGRES_RATE = .*;  \\/\\/ OPTIMIZE \\[0\\.02, 0\\.98\\]$/constexpr double TARGET_BEAM_WIDTH_HALF_PROGRES_RATE = 0.9204043518499985;  \\/\\/ OPTIMIZE [0.02, 0.98]/'\n",
      "g++ 7_main.cpp -std=gnu++17 -O2 -DONLINE_JUDGE -o 7_main.cpp.out 2> /dev/null\n"
     ]
    },
    {
     "name": "stderr",
     "output_type": "stream",
     "text": [
      "\u001b[32m[I 2021-09-10 18:55:52,836]\u001b[0m Trial 40 finished with value: 933628399.0 and parameters: {'K_START': 0.11170232180863544, 'K_END': 0.04332057742129054, 'K_H': 0.48598957242980945, 'PURCHASE_TURN_LIMIT': 841, 'SUBSCORE3_TIGHT_TURN': 0, 'ROUGH_HASH': '0b00000001', 'TARGET_BEAM_WIDTH_INCREASE_RATE': 0.8218433160128823, 'TARGET_BEAM_WIDTH_HALF_PROGRES_RATE': 0.6364350277743603}. Best is trial 36 with value: 934112205.0.\u001b[0m\n"
     ]
    },
    {
     "name": "stdout",
     "output_type": "stream",
     "text": [
      "callback ok\n",
      "index_parallel=8\n",
      "sed -i 8_main.cpp -e 's/^constexpr double K_START = .*;  \\/\\/ OPTIMIZE \\[0\\.04, 0\\.12\\] LOG$/constexpr double K_START = 0.10946992709235474;  \\/\\/ OPTIMIZE [0.04, 0.12] LOG/' -e 's/^constexpr double K_END = .*;   \\/\\/ OPTIMIZE \\[0\\.03, 0\\.1\\] LOG$/constexpr double K_END = 0.04336235235004741;   \\/\\/ OPTIMIZE [0.03, 0.1] LOG/' -e 's/^constexpr double K_H = .*;      \\/\\/ OPTIMIZE \\[0\\.001, 0\\.999\\]$/constexpr double K_H = 0.35908979601458274;      \\/\\/ OPTIMIZE [0.001, 0.999]/' -e 's/^constexpr short PURCHASE_TURN_LIMIT = .*;  \\/\\/ OPTIMIZE \\[790, 870\\]$/constexpr short PURCHASE_TURN_LIMIT = 839;  \\/\\/ OPTIMIZE [790, 870]/' -e 's/^constexpr int SUBSCORE3_TIGHT_TURN = .*;     \\/\\/ OPTIMIZE \\[0, 1\\]$/constexpr int SUBSCORE3_TIGHT_TURN = 0;     \\/\\/ OPTIMIZE [0, 1]/' -e 's/^constexpr int ROUGH_HASH = .*;      \\/\\/ OPTIMIZE {0, 0b00000001, 0b00010001, 0b00010011, 0b00110011}$/constexpr int ROUGH_HASH = 0b00000001;      \\/\\/ OPTIMIZE {0, 0b00000001, 0b00010001, 0b00010011, 0b00110011}/' -e 's/^constexpr double TARGET_BEAM_WIDTH_INCREASE_RATE = .*;      \\/\\/ OPTIMIZE \\[0\\.5, 1\\.0\\] LOG$/constexpr double TARGET_BEAM_WIDTH_INCREASE_RATE = 0.9148681612810947;      \\/\\/ OPTIMIZE [0.5, 1.0] LOG/' -e 's/^constexpr double TARGET_BEAM_WIDTH_HALF_PROGRES_RATE = .*;  \\/\\/ OPTIMIZE \\[0\\.02, 0\\.98\\]$/constexpr double TARGET_BEAM_WIDTH_HALF_PROGRES_RATE = 0.6432254925141816;  \\/\\/ OPTIMIZE [0.02, 0.98]/'\n",
      "g++ 8_main.cpp -std=gnu++17 -O2 -DONLINE_JUDGE -o 8_main.cpp.out 2> /dev/null\n"
     ]
    },
    {
     "name": "stderr",
     "output_type": "stream",
     "text": [
      "\u001b[32m[I 2021-09-10 18:56:13,321]\u001b[0m Trial 41 finished with value: 923478229.0 and parameters: {'K_START': 0.11107915677744978, 'K_END': 0.04498539199921702, 'K_H': 0.686567737605291, 'PURCHASE_TURN_LIMIT': 860, 'SUBSCORE3_TIGHT_TURN': 0, 'ROUGH_HASH': '0b00000001', 'TARGET_BEAM_WIDTH_INCREASE_RATE': 0.8217811329750149, 'TARGET_BEAM_WIDTH_HALF_PROGRES_RATE': 0.657684047229512}. Best is trial 36 with value: 934112205.0.\u001b[0m\n"
     ]
    },
    {
     "name": "stdout",
     "output_type": "stream",
     "text": [
      "callback ok\n",
      "index_parallel=9\n",
      "sed -i 9_main.cpp -e 's/^constexpr double K_START = .*;  \\/\\/ OPTIMIZE \\[0\\.04, 0\\.12\\] LOG$/constexpr double K_START = 0.1121415542598538;  \\/\\/ OPTIMIZE [0.04, 0.12] LOG/' -e 's/^constexpr double K_END = .*;   \\/\\/ OPTIMIZE \\[0\\.03, 0\\.1\\] LOG$/constexpr double K_END = 0.04311840445136929;   \\/\\/ OPTIMIZE [0.03, 0.1] LOG/' -e 's/^constexpr double K_H = .*;      \\/\\/ OPTIMIZE \\[0\\.001, 0\\.999\\]$/constexpr double K_H = 0.6290411655571622;      \\/\\/ OPTIMIZE [0.001, 0.999]/' -e 's/^constexpr short PURCHASE_TURN_LIMIT = .*;  \\/\\/ OPTIMIZE \\[790, 870\\]$/constexpr short PURCHASE_TURN_LIMIT = 839;  \\/\\/ OPTIMIZE [790, 870]/' -e 's/^constexpr int SUBSCORE3_TIGHT_TURN = .*;     \\/\\/ OPTIMIZE \\[0, 1\\]$/constexpr int SUBSCORE3_TIGHT_TURN = 0;     \\/\\/ OPTIMIZE [0, 1]/' -e 's/^constexpr int ROUGH_HASH = .*;      \\/\\/ OPTIMIZE {0, 0b00000001, 0b00010001, 0b00010011, 0b00110011}$/constexpr int ROUGH_HASH = 0b00000001;      \\/\\/ OPTIMIZE {0, 0b00000001, 0b00010001, 0b00010011, 0b00110011}/' -e 's/^constexpr double TARGET_BEAM_WIDTH_INCREASE_RATE = .*;      \\/\\/ OPTIMIZE \\[0\\.5, 1\\.0\\] LOG$/constexpr double TARGET_BEAM_WIDTH_INCREASE_RATE = 0.9315027988263608;      \\/\\/ OPTIMIZE [0.5, 1.0] LOG/' -e 's/^constexpr double TARGET_BEAM_WIDTH_HALF_PROGRES_RATE = .*;  \\/\\/ OPTIMIZE \\[0\\.02, 0\\.98\\]$/constexpr double TARGET_BEAM_WIDTH_HALF_PROGRES_RATE = 0.9157335784510108;  \\/\\/ OPTIMIZE [0.02, 0.98]/'\n",
      "g++ 9_main.cpp -std=gnu++17 -O2 -DONLINE_JUDGE -o 9_main.cpp.out 2> /dev/null\n"
     ]
    },
    {
     "name": "stderr",
     "output_type": "stream",
     "text": [
      "\u001b[32m[I 2021-09-10 18:56:17,600]\u001b[0m Trial 42 finished with value: 929656870.0 and parameters: {'K_START': 0.11270964414077231, 'K_END': 0.04291365179471128, 'K_H': 0.6599339961911437, 'PURCHASE_TURN_LIMIT': 840, 'SUBSCORE3_TIGHT_TURN': 0, 'ROUGH_HASH': '0b00000001', 'TARGET_BEAM_WIDTH_INCREASE_RATE': 0.8160154201328379, 'TARGET_BEAM_WIDTH_HALF_PROGRES_RATE': 0.6253085150346289}. Best is trial 36 with value: 934112205.0.\u001b[0m\n"
     ]
    },
    {
     "name": "stdout",
     "output_type": "stream",
     "text": [
      "callback ok\n",
      "index_parallel=10\n",
      "sed -i 10_main.cpp -e 's/^constexpr double K_START = .*;  \\/\\/ OPTIMIZE \\[0\\.04, 0\\.12\\] LOG$/constexpr double K_START = 0.10252049822018304;  \\/\\/ OPTIMIZE [0.04, 0.12] LOG/' -e 's/^constexpr double K_END = .*;   \\/\\/ OPTIMIZE \\[0\\.03, 0\\.1\\] LOG$/constexpr double K_END = 0.03530978889222013;   \\/\\/ OPTIMIZE [0.03, 0.1] LOG/' -e 's/^constexpr double K_H = .*;      \\/\\/ OPTIMIZE \\[0\\.001, 0\\.999\\]$/constexpr double K_H = 0.3587303247918404;      \\/\\/ OPTIMIZE [0.001, 0.999]/' -e 's/^constexpr short PURCHASE_TURN_LIMIT = .*;  \\/\\/ OPTIMIZE \\[790, 870\\]$/constexpr short PURCHASE_TURN_LIMIT = 820;  \\/\\/ OPTIMIZE [790, 870]/' -e 's/^constexpr int SUBSCORE3_TIGHT_TURN = .*;     \\/\\/ OPTIMIZE \\[0, 1\\]$/constexpr int SUBSCORE3_TIGHT_TURN = 0;     \\/\\/ OPTIMIZE [0, 1]/' -e 's/^constexpr int ROUGH_HASH = .*;      \\/\\/ OPTIMIZE {0, 0b00000001, 0b00010001, 0b00010011, 0b00110011}$/constexpr int ROUGH_HASH = 0b00000001;      \\/\\/ OPTIMIZE {0, 0b00000001, 0b00010001, 0b00010011, 0b00110011}/' -e 's/^constexpr double TARGET_BEAM_WIDTH_INCREASE_RATE = .*;      \\/\\/ OPTIMIZE \\[0\\.5, 1\\.0\\] LOG$/constexpr double TARGET_BEAM_WIDTH_INCREASE_RATE = 0.9160375804118971;      \\/\\/ OPTIMIZE [0.5, 1.0] LOG/' -e 's/^constexpr double TARGET_BEAM_WIDTH_HALF_PROGRES_RATE = .*;  \\/\\/ OPTIMIZE \\[0\\.02, 0\\.98\\]$/constexpr double TARGET_BEAM_WIDTH_HALF_PROGRES_RATE = 0.9200730920799352;  \\/\\/ OPTIMIZE [0.02, 0.98]/'\n",
      "g++ 10_main.cpp -std=gnu++17 -O2 -DONLINE_JUDGE -o 10_main.cpp.out 2> /dev/null\n"
     ]
    },
    {
     "name": "stderr",
     "output_type": "stream",
     "text": [
      "\u001b[32m[I 2021-09-10 18:56:21,597]\u001b[0m Trial 43 finished with value: 918262030.0 and parameters: {'K_START': 0.050692818178356046, 'K_END': 0.043332362682133266, 'K_H': 0.6750736565621269, 'PURCHASE_TURN_LIMIT': 820, 'SUBSCORE3_TIGHT_TURN': 0, 'ROUGH_HASH': '0b00000001', 'TARGET_BEAM_WIDTH_INCREASE_RATE': 0.9193649489717296, 'TARGET_BEAM_WIDTH_HALF_PROGRES_RATE': 0.9204043518499985}. Best is trial 36 with value: 934112205.0.\u001b[0m\n"
     ]
    },
    {
     "name": "stdout",
     "output_type": "stream",
     "text": [
      "callback ok\n",
      "index_parallel=11\n",
      "sed -i 11_main.cpp -e 's/^constexpr double K_START = .*;  \\/\\/ OPTIMIZE \\[0\\.04, 0\\.12\\] LOG$/constexpr double K_START = 0.062230840270304885;  \\/\\/ OPTIMIZE [0.04, 0.12] LOG/' -e 's/^constexpr double K_END = .*;   \\/\\/ OPTIMIZE \\[0\\.03, 0\\.1\\] LOG$/constexpr double K_END = 0.034766044295408;   \\/\\/ OPTIMIZE [0.03, 0.1] LOG/' -e 's/^constexpr double K_H = .*;      \\/\\/ OPTIMIZE \\[0\\.001, 0\\.999\\]$/constexpr double K_H = 0.6189707320798438;      \\/\\/ OPTIMIZE [0.001, 0.999]/' -e 's/^constexpr short PURCHASE_TURN_LIMIT = .*;  \\/\\/ OPTIMIZE \\[790, 870\\]$/constexpr short PURCHASE_TURN_LIMIT = 844;  \\/\\/ OPTIMIZE [790, 870]/' -e 's/^constexpr int SUBSCORE3_TIGHT_TURN = .*;     \\/\\/ OPTIMIZE \\[0, 1\\]$/constexpr int SUBSCORE3_TIGHT_TURN = 0;     \\/\\/ OPTIMIZE [0, 1]/' -e 's/^constexpr int ROUGH_HASH = .*;      \\/\\/ OPTIMIZE {0, 0b00000001, 0b00010001, 0b00010011, 0b00110011}$/constexpr int ROUGH_HASH = 0b00000001;      \\/\\/ OPTIMIZE {0, 0b00000001, 0b00010001, 0b00010011, 0b00110011}/' -e 's/^constexpr double TARGET_BEAM_WIDTH_INCREASE_RATE = .*;      \\/\\/ OPTIMIZE \\[0\\.5, 1\\.0\\] LOG$/constexpr double TARGET_BEAM_WIDTH_INCREASE_RATE = 0.9114720484625103;      \\/\\/ OPTIMIZE [0.5, 1.0] LOG/' -e 's/^constexpr double TARGET_BEAM_WIDTH_HALF_PROGRES_RATE = .*;  \\/\\/ OPTIMIZE \\[0\\.02, 0\\.98\\]$/constexpr double TARGET_BEAM_WIDTH_HALF_PROGRES_RATE = 0.9102355398566985;  \\/\\/ OPTIMIZE [0.02, 0.98]/'\n",
      "g++ 11_main.cpp -std=gnu++17 -O2 -DONLINE_JUDGE -o 11_main.cpp.out 2> /dev/null\n"
     ]
    },
    {
     "name": "stderr",
     "output_type": "stream",
     "text": [
      "\u001b[32m[I 2021-09-10 18:58:22,751]\u001b[0m Trial 44 finished with value: 751893143.0 and parameters: {'K_START': 0.10946992709235474, 'K_END': 0.04336235235004741, 'K_H': 0.35908979601458274, 'PURCHASE_TURN_LIMIT': 839, 'SUBSCORE3_TIGHT_TURN': 0, 'ROUGH_HASH': '0b00000001', 'TARGET_BEAM_WIDTH_INCREASE_RATE': 0.9148681612810947, 'TARGET_BEAM_WIDTH_HALF_PROGRES_RATE': 0.6432254925141816}. Best is trial 36 with value: 934112205.0.\u001b[0m\n"
     ]
    },
    {
     "name": "stdout",
     "output_type": "stream",
     "text": [
      "callback ok\n",
      "index_parallel=0\n",
      "sed -i 0_main.cpp -e 's/^constexpr double K_START = .*;  \\/\\/ OPTIMIZE \\[0\\.04, 0\\.12\\] LOG$/constexpr double K_START = 0.05959962639293027;  \\/\\/ OPTIMIZE [0.04, 0.12] LOG/' -e 's/^constexpr double K_END = .*;   \\/\\/ OPTIMIZE \\[0\\.03, 0\\.1\\] LOG$/constexpr double K_END = 0.03276112302869073;   \\/\\/ OPTIMIZE [0.03, 0.1] LOG/' -e 's/^constexpr double K_H = .*;      \\/\\/ OPTIMIZE \\[0\\.001, 0\\.999\\]$/constexpr double K_H = 0.6016734634602604;      \\/\\/ OPTIMIZE [0.001, 0.999]/' -e 's/^constexpr short PURCHASE_TURN_LIMIT = .*;  \\/\\/ OPTIMIZE \\[790, 870\\]$/constexpr short PURCHASE_TURN_LIMIT = 844;  \\/\\/ OPTIMIZE [790, 870]/' -e 's/^constexpr int SUBSCORE3_TIGHT_TURN = .*;     \\/\\/ OPTIMIZE \\[0, 1\\]$/constexpr int SUBSCORE3_TIGHT_TURN = 0;     \\/\\/ OPTIMIZE [0, 1]/' -e 's/^constexpr int ROUGH_HASH = .*;      \\/\\/ OPTIMIZE {0, 0b00000001, 0b00010001, 0b00010011, 0b00110011}$/constexpr int ROUGH_HASH = 0b00000001;      \\/\\/ OPTIMIZE {0, 0b00000001, 0b00010001, 0b00010011, 0b00110011}/' -e 's/^constexpr double TARGET_BEAM_WIDTH_INCREASE_RATE = .*;      \\/\\/ OPTIMIZE \\[0\\.5, 1\\.0\\] LOG$/constexpr double TARGET_BEAM_WIDTH_INCREASE_RATE = 0.9471953688441668;      \\/\\/ OPTIMIZE [0.5, 1.0] LOG/' -e 's/^constexpr double TARGET_BEAM_WIDTH_HALF_PROGRES_RATE = .*;  \\/\\/ OPTIMIZE \\[0\\.02, 0\\.98\\]$/constexpr double TARGET_BEAM_WIDTH_HALF_PROGRES_RATE = 0.9018082473215625;  \\/\\/ OPTIMIZE [0.02, 0.98]/'\n",
      "g++ 0_main.cpp -std=gnu++17 -O2 -DONLINE_JUDGE -o 0_main.cpp.out 2> /dev/null\n"
     ]
    },
    {
     "name": "stderr",
     "output_type": "stream",
     "text": [
      "\u001b[32m[I 2021-09-10 18:58:44,336]\u001b[0m Trial 45 finished with value: 930637579.0 and parameters: {'K_START': 0.1121415542598538, 'K_END': 0.04311840445136929, 'K_H': 0.6290411655571622, 'PURCHASE_TURN_LIMIT': 839, 'SUBSCORE3_TIGHT_TURN': 0, 'ROUGH_HASH': '0b00000001', 'TARGET_BEAM_WIDTH_INCREASE_RATE': 0.9315027988263608, 'TARGET_BEAM_WIDTH_HALF_PROGRES_RATE': 0.9157335784510108}. Best is trial 36 with value: 934112205.0.\u001b[0m\n"
     ]
    },
    {
     "name": "stdout",
     "output_type": "stream",
     "text": [
      "callback ok\n",
      "index_parallel=1\n",
      "sed -i 1_main.cpp -e 's/^constexpr double K_START = .*;  \\/\\/ OPTIMIZE \\[0\\.04, 0\\.12\\] LOG$/constexpr double K_START = 0.10326301794082937;  \\/\\/ OPTIMIZE [0.04, 0.12] LOG/' -e 's/^constexpr double K_END = .*;   \\/\\/ OPTIMIZE \\[0\\.03, 0\\.1\\] LOG$/constexpr double K_END = 0.034888851886789134;   \\/\\/ OPTIMIZE [0.03, 0.1] LOG/' -e 's/^constexpr double K_H = .*;      \\/\\/ OPTIMIZE \\[0\\.001, 0\\.999\\]$/constexpr double K_H = 0.8503754803076881;      \\/\\/ OPTIMIZE [0.001, 0.999]/' -e 's/^constexpr short PURCHASE_TURN_LIMIT = .*;  \\/\\/ OPTIMIZE \\[790, 870\\]$/constexpr short PURCHASE_TURN_LIMIT = 845;  \\/\\/ OPTIMIZE [790, 870]/' -e 's/^constexpr int SUBSCORE3_TIGHT_TURN = .*;     \\/\\/ OPTIMIZE \\[0, 1\\]$/constexpr int SUBSCORE3_TIGHT_TURN = 0;     \\/\\/ OPTIMIZE [0, 1]/' -e 's/^constexpr int ROUGH_HASH = .*;      \\/\\/ OPTIMIZE {0, 0b00000001, 0b00010001, 0b00010011, 0b00110011}$/constexpr int ROUGH_HASH = 0b00000001;      \\/\\/ OPTIMIZE {0, 0b00000001, 0b00010001, 0b00010011, 0b00110011}/' -e 's/^constexpr double TARGET_BEAM_WIDTH_INCREASE_RATE = .*;      \\/\\/ OPTIMIZE \\[0\\.5, 1\\.0\\] LOG$/constexpr double TARGET_BEAM_WIDTH_INCREASE_RATE = 0.7349371659965789;      \\/\\/ OPTIMIZE [0.5, 1.0] LOG/' -e 's/^constexpr double TARGET_BEAM_WIDTH_HALF_PROGRES_RATE = .*;  \\/\\/ OPTIMIZE \\[0\\.02, 0\\.98\\]$/constexpr double TARGET_BEAM_WIDTH_HALF_PROGRES_RATE = 0.8162365981830143;  \\/\\/ OPTIMIZE [0.02, 0.98]/'\n",
      "g++ 1_main.cpp -std=gnu++17 -O2 -DONLINE_JUDGE -o 1_main.cpp.out 2> /dev/null\n"
     ]
    },
    {
     "name": "stderr",
     "output_type": "stream",
     "text": [
      "\u001b[32m[I 2021-09-10 18:58:46,997]\u001b[0m Trial 46 finished with value: 922077654.0 and parameters: {'K_START': 0.10252049822018304, 'K_END': 0.03530978889222013, 'K_H': 0.3587303247918404, 'PURCHASE_TURN_LIMIT': 820, 'SUBSCORE3_TIGHT_TURN': 0, 'ROUGH_HASH': '0b00000001', 'TARGET_BEAM_WIDTH_INCREASE_RATE': 0.9160375804118971, 'TARGET_BEAM_WIDTH_HALF_PROGRES_RATE': 0.9200730920799352}. Best is trial 36 with value: 934112205.0.\u001b[0m\n"
     ]
    },
    {
     "name": "stdout",
     "output_type": "stream",
     "text": [
      "callback ok\n",
      "index_parallel=2\n",
      "sed -i 2_main.cpp -e 's/^constexpr double K_START = .*;  \\/\\/ OPTIMIZE \\[0\\.04, 0\\.12\\] LOG$/constexpr double K_START = 0.06084894191832753;  \\/\\/ OPTIMIZE [0.04, 0.12] LOG/' -e 's/^constexpr double K_END = .*;   \\/\\/ OPTIMIZE \\[0\\.03, 0\\.1\\] LOG$/constexpr double K_END = 0.033510552665914586;   \\/\\/ OPTIMIZE [0.03, 0.1] LOG/' -e 's/^constexpr double K_H = .*;      \\/\\/ OPTIMIZE \\[0\\.001, 0\\.999\\]$/constexpr double K_H = 0.844954640847427;      \\/\\/ OPTIMIZE [0.001, 0.999]/' -e 's/^constexpr short PURCHASE_TURN_LIMIT = .*;  \\/\\/ OPTIMIZE \\[790, 870\\]$/constexpr short PURCHASE_TURN_LIMIT = 851;  \\/\\/ OPTIMIZE [790, 870]/' -e 's/^constexpr int SUBSCORE3_TIGHT_TURN = .*;     \\/\\/ OPTIMIZE \\[0, 1\\]$/constexpr int SUBSCORE3_TIGHT_TURN = 0;     \\/\\/ OPTIMIZE [0, 1]/' -e 's/^constexpr int ROUGH_HASH = .*;      \\/\\/ OPTIMIZE {0, 0b00000001, 0b00010001, 0b00010011, 0b00110011}$/constexpr int ROUGH_HASH = 0b00000001;      \\/\\/ OPTIMIZE {0, 0b00000001, 0b00010001, 0b00010011, 0b00110011}/' -e 's/^constexpr double TARGET_BEAM_WIDTH_INCREASE_RATE = .*;      \\/\\/ OPTIMIZE \\[0\\.5, 1\\.0\\] LOG$/constexpr double TARGET_BEAM_WIDTH_INCREASE_RATE = 0.7316805014281841;      \\/\\/ OPTIMIZE [0.5, 1.0] LOG/' -e 's/^constexpr double TARGET_BEAM_WIDTH_HALF_PROGRES_RATE = .*;  \\/\\/ OPTIMIZE \\[0\\.02, 0\\.98\\]$/constexpr double TARGET_BEAM_WIDTH_HALF_PROGRES_RATE = 0.8092304398560912;  \\/\\/ OPTIMIZE [0.02, 0.98]/'\n",
      "g++ 2_main.cpp -std=gnu++17 -O2 -DONLINE_JUDGE -o 2_main.cpp.out 2> /dev/null\n"
     ]
    },
    {
     "name": "stderr",
     "output_type": "stream",
     "text": [
      "\u001b[32m[I 2021-09-10 18:58:52,231]\u001b[0m Trial 47 finished with value: 916273196.0 and parameters: {'K_START': 0.062230840270304885, 'K_END': 0.034766044295408, 'K_H': 0.6189707320798438, 'PURCHASE_TURN_LIMIT': 844, 'SUBSCORE3_TIGHT_TURN': 0, 'ROUGH_HASH': '0b00000001', 'TARGET_BEAM_WIDTH_INCREASE_RATE': 0.9114720484625103, 'TARGET_BEAM_WIDTH_HALF_PROGRES_RATE': 0.9102355398566985}. Best is trial 36 with value: 934112205.0.\u001b[0m\n"
     ]
    },
    {
     "name": "stdout",
     "output_type": "stream",
     "text": [
      "callback ok\n",
      "index_parallel=3\n",
      "sed -i 3_main.cpp -e 's/^constexpr double K_START = .*;  \\/\\/ OPTIMIZE \\[0\\.04, 0\\.12\\] LOG$/constexpr double K_START = 0.05877940194560317;  \\/\\/ OPTIMIZE [0.04, 0.12] LOG/' -e 's/^constexpr double K_END = .*;   \\/\\/ OPTIMIZE \\[0\\.03, 0\\.1\\] LOG$/constexpr double K_END = 0.04123242294594208;   \\/\\/ OPTIMIZE [0.03, 0.1] LOG/' -e 's/^constexpr double K_H = .*;      \\/\\/ OPTIMIZE \\[0\\.001, 0\\.999\\]$/constexpr double K_H = 0.7969989730970639;      \\/\\/ OPTIMIZE [0.001, 0.999]/' -e 's/^constexpr short PURCHASE_TURN_LIMIT = .*;  \\/\\/ OPTIMIZE \\[790, 870\\]$/constexpr short PURCHASE_TURN_LIMIT = 851;  \\/\\/ OPTIMIZE [790, 870]/' -e 's/^constexpr int SUBSCORE3_TIGHT_TURN = .*;     \\/\\/ OPTIMIZE \\[0, 1\\]$/constexpr int SUBSCORE3_TIGHT_TURN = 0;     \\/\\/ OPTIMIZE [0, 1]/' -e 's/^constexpr int ROUGH_HASH = .*;      \\/\\/ OPTIMIZE {0, 0b00000001, 0b00010001, 0b00010011, 0b00110011}$/constexpr int ROUGH_HASH = 0;      \\/\\/ OPTIMIZE {0, 0b00000001, 0b00010001, 0b00010011, 0b00110011}/' -e 's/^constexpr double TARGET_BEAM_WIDTH_INCREASE_RATE = .*;      \\/\\/ OPTIMIZE \\[0\\.5, 1\\.0\\] LOG$/constexpr double TARGET_BEAM_WIDTH_INCREASE_RATE = 0.9590995111048783;      \\/\\/ OPTIMIZE [0.5, 1.0] LOG/' -e 's/^constexpr double TARGET_BEAM_WIDTH_HALF_PROGRES_RATE = .*;  \\/\\/ OPTIMIZE \\[0\\.02, 0\\.98\\]$/constexpr double TARGET_BEAM_WIDTH_HALF_PROGRES_RATE = 0.802097252925041;  \\/\\/ OPTIMIZE [0.02, 0.98]/'\n",
      "g++ 3_main.cpp -std=gnu++17 -O2 -DONLINE_JUDGE -o 3_main.cpp.out 2> /dev/null\n"
     ]
    },
    {
     "name": "stderr",
     "output_type": "stream",
     "text": [
      "\u001b[32m[I 2021-09-10 19:00:51,626]\u001b[0m Trial 48 finished with value: 916451502.0 and parameters: {'K_START': 0.05959962639293027, 'K_END': 0.03276112302869073, 'K_H': 0.6016734634602604, 'PURCHASE_TURN_LIMIT': 844, 'SUBSCORE3_TIGHT_TURN': 0, 'ROUGH_HASH': '0b00000001', 'TARGET_BEAM_WIDTH_INCREASE_RATE': 0.9471953688441668, 'TARGET_BEAM_WIDTH_HALF_PROGRES_RATE': 0.9018082473215625}. Best is trial 36 with value: 934112205.0.\u001b[0m\n"
     ]
    },
    {
     "name": "stdout",
     "output_type": "stream",
     "text": [
      "callback ok\n",
      "index_parallel=4\n",
      "sed -i 4_main.cpp -e 's/^constexpr double K_START = .*;  \\/\\/ OPTIMIZE \\[0\\.04, 0\\.12\\] LOG$/constexpr double K_START = 0.09963269129964791;  \\/\\/ OPTIMIZE [0.04, 0.12] LOG/' -e 's/^constexpr double K_END = .*;   \\/\\/ OPTIMIZE \\[0\\.03, 0\\.1\\] LOG$/constexpr double K_END = 0.04073973308596131;   \\/\\/ OPTIMIZE [0.03, 0.1] LOG/' -e 's/^constexpr double K_H = .*;      \\/\\/ OPTIMIZE \\[0\\.001, 0\\.999\\]$/constexpr double K_H = 0.9087128089412191;      \\/\\/ OPTIMIZE [0.001, 0.999]/' -e 's/^constexpr short PURCHASE_TURN_LIMIT = .*;  \\/\\/ OPTIMIZE \\[790, 870\\]$/constexpr short PURCHASE_TURN_LIMIT = 850;  \\/\\/ OPTIMIZE [790, 870]/' -e 's/^constexpr int SUBSCORE3_TIGHT_TURN = .*;     \\/\\/ OPTIMIZE \\[0, 1\\]$/constexpr int SUBSCORE3_TIGHT_TURN = 0;     \\/\\/ OPTIMIZE [0, 1]/' -e 's/^constexpr int ROUGH_HASH = .*;      \\/\\/ OPTIMIZE {0, 0b00000001, 0b00010001, 0b00010011, 0b00110011}$/constexpr int ROUGH_HASH = 0;      \\/\\/ OPTIMIZE {0, 0b00000001, 0b00010001, 0b00010011, 0b00110011}/' -e 's/^constexpr double TARGET_BEAM_WIDTH_INCREASE_RATE = .*;      \\/\\/ OPTIMIZE \\[0\\.5, 1\\.0\\] LOG$/constexpr double TARGET_BEAM_WIDTH_INCREASE_RATE = 0.7340361883068809;      \\/\\/ OPTIMIZE [0.5, 1.0] LOG/' -e 's/^constexpr double TARGET_BEAM_WIDTH_HALF_PROGRES_RATE = .*;  \\/\\/ OPTIMIZE \\[0\\.02, 0\\.98\\]$/constexpr double TARGET_BEAM_WIDTH_HALF_PROGRES_RATE = 0.7951983255252637;  \\/\\/ OPTIMIZE [0.02, 0.98]/'\n",
      "g++ 4_main.cpp -std=gnu++17 -O2 -DONLINE_JUDGE -o 4_main.cpp.out 2> /dev/null\n"
     ]
    },
    {
     "name": "stderr",
     "output_type": "stream",
     "text": [
      "\u001b[32m[I 2021-09-10 19:01:14,486]\u001b[0m Trial 49 finished with value: 916677284.0 and parameters: {'K_START': 0.10326301794082937, 'K_END': 0.034888851886789134, 'K_H': 0.8503754803076881, 'PURCHASE_TURN_LIMIT': 845, 'SUBSCORE3_TIGHT_TURN': 0, 'ROUGH_HASH': '0b00000001', 'TARGET_BEAM_WIDTH_INCREASE_RATE': 0.7349371659965789, 'TARGET_BEAM_WIDTH_HALF_PROGRES_RATE': 0.8162365981830143}. Best is trial 36 with value: 934112205.0.\u001b[0m\n"
     ]
    },
    {
     "name": "stdout",
     "output_type": "stream",
     "text": [
      "callback ok\n",
      "index_parallel=5\n",
      "sed -i 5_main.cpp -e 's/^constexpr double K_START = .*;  \\/\\/ OPTIMIZE \\[0\\.04, 0\\.12\\] LOG$/constexpr double K_START = 0.05602064014262577;  \\/\\/ OPTIMIZE [0.04, 0.12] LOG/' -e 's/^constexpr double K_END = .*;   \\/\\/ OPTIMIZE \\[0\\.03, 0\\.1\\] LOG$/constexpr double K_END = 0.04081856794351984;   \\/\\/ OPTIMIZE [0.03, 0.1] LOG/' -e 's/^constexpr double K_H = .*;      \\/\\/ OPTIMIZE \\[0\\.001, 0\\.999\\]$/constexpr double K_H = 0.5056125988522088;      \\/\\/ OPTIMIZE [0.001, 0.999]/' -e 's/^constexpr short PURCHASE_TURN_LIMIT = .*;  \\/\\/ OPTIMIZE \\[790, 870\\]$/constexpr short PURCHASE_TURN_LIMIT = 850;  \\/\\/ OPTIMIZE [790, 870]/' -e 's/^constexpr int SUBSCORE3_TIGHT_TURN = .*;     \\/\\/ OPTIMIZE \\[0, 1\\]$/constexpr int SUBSCORE3_TIGHT_TURN = 0;     \\/\\/ OPTIMIZE [0, 1]/' -e 's/^constexpr int ROUGH_HASH = .*;      \\/\\/ OPTIMIZE {0, 0b00000001, 0b00010001, 0b00010011, 0b00110011}$/constexpr int ROUGH_HASH = 0;      \\/\\/ OPTIMIZE {0, 0b00000001, 0b00010001, 0b00010011, 0b00110011}/' -e 's/^constexpr double TARGET_BEAM_WIDTH_INCREASE_RATE = .*;      \\/\\/ OPTIMIZE \\[0\\.5, 1\\.0\\] LOG$/constexpr double TARGET_BEAM_WIDTH_INCREASE_RATE = 0.892056686414386;      \\/\\/ OPTIMIZE [0.5, 1.0] LOG/' -e 's/^constexpr double TARGET_BEAM_WIDTH_HALF_PROGRES_RATE = .*;  \\/\\/ OPTIMIZE \\[0\\.02, 0\\.98\\]$/constexpr double TARGET_BEAM_WIDTH_HALF_PROGRES_RATE = 0.7364135621960274;  \\/\\/ OPTIMIZE [0.02, 0.98]/'\n",
      "g++ 5_main.cpp -std=gnu++17 -O2 -DONLINE_JUDGE -o 5_main.cpp.out 2> /dev/null\n"
     ]
    },
    {
     "name": "stderr",
     "output_type": "stream",
     "text": [
      "\u001b[32m[I 2021-09-10 19:01:16,337]\u001b[0m Trial 50 finished with value: 908654737.0 and parameters: {'K_START': 0.06084894191832753, 'K_END': 0.033510552665914586, 'K_H': 0.844954640847427, 'PURCHASE_TURN_LIMIT': 851, 'SUBSCORE3_TIGHT_TURN': 0, 'ROUGH_HASH': '0b00000001', 'TARGET_BEAM_WIDTH_INCREASE_RATE': 0.7316805014281841, 'TARGET_BEAM_WIDTH_HALF_PROGRES_RATE': 0.8092304398560912}. Best is trial 36 with value: 934112205.0.\u001b[0m\n"
     ]
    },
    {
     "name": "stdout",
     "output_type": "stream",
     "text": [
      "callback ok\n",
      "index_parallel=6\n",
      "sed -i 6_main.cpp -e 's/^constexpr double K_START = .*;  \\/\\/ OPTIMIZE \\[0\\.04, 0\\.12\\] LOG$/constexpr double K_START = 0.11467386191678472;  \\/\\/ OPTIMIZE [0.04, 0.12] LOG/' -e 's/^constexpr double K_END = .*;   \\/\\/ OPTIMIZE \\[0\\.03, 0\\.1\\] LOG$/constexpr double K_END = 0.04078461190174308;   \\/\\/ OPTIMIZE [0.03, 0.1] LOG/' -e 's/^constexpr double K_H = .*;      \\/\\/ OPTIMIZE \\[0\\.001, 0\\.999\\]$/constexpr double K_H = 0.48430087418286943;      \\/\\/ OPTIMIZE [0.001, 0.999]/' -e 's/^constexpr short PURCHASE_TURN_LIMIT = .*;  \\/\\/ OPTIMIZE \\[790, 870\\]$/constexpr short PURCHASE_TURN_LIMIT = 839;  \\/\\/ OPTIMIZE [790, 870]/' -e 's/^constexpr int SUBSCORE3_TIGHT_TURN = .*;     \\/\\/ OPTIMIZE \\[0, 1\\]$/constexpr int SUBSCORE3_TIGHT_TURN = 0;     \\/\\/ OPTIMIZE [0, 1]/' -e 's/^constexpr int ROUGH_HASH = .*;      \\/\\/ OPTIMIZE {0, 0b00000001, 0b00010001, 0b00010011, 0b00110011}$/constexpr int ROUGH_HASH = 0b00000001;      \\/\\/ OPTIMIZE {0, 0b00000001, 0b00010001, 0b00010011, 0b00110011}/' -e 's/^constexpr double TARGET_BEAM_WIDTH_INCREASE_RATE = .*;      \\/\\/ OPTIMIZE \\[0\\.5, 1\\.0\\] LOG$/constexpr double TARGET_BEAM_WIDTH_INCREASE_RATE = 0.8428081206269598;      \\/\\/ OPTIMIZE [0.5, 1.0] LOG/' -e 's/^constexpr double TARGET_BEAM_WIDTH_HALF_PROGRES_RATE = .*;  \\/\\/ OPTIMIZE \\[0\\.02, 0\\.98\\]$/constexpr double TARGET_BEAM_WIDTH_HALF_PROGRES_RATE = 0.736256009025336;  \\/\\/ OPTIMIZE [0.02, 0.98]/'\n",
      "g++ 6_main.cpp -std=gnu++17 -O2 -DONLINE_JUDGE -o 6_main.cpp.out 2> /dev/null\n"
     ]
    },
    {
     "name": "stderr",
     "output_type": "stream",
     "text": [
      "\u001b[32m[I 2021-09-10 19:01:24,535]\u001b[0m Trial 51 finished with value: 927003622.0 and parameters: {'K_START': 0.05877940194560317, 'K_END': 0.04123242294594208, 'K_H': 0.7969989730970639, 'PURCHASE_TURN_LIMIT': 851, 'SUBSCORE3_TIGHT_TURN': 0, 'ROUGH_HASH': '0', 'TARGET_BEAM_WIDTH_INCREASE_RATE': 0.9590995111048783, 'TARGET_BEAM_WIDTH_HALF_PROGRES_RATE': 0.802097252925041}. Best is trial 36 with value: 934112205.0.\u001b[0m\n"
     ]
    },
    {
     "name": "stdout",
     "output_type": "stream",
     "text": [
      "callback ok\n",
      "index_parallel=7\n",
      "sed -i 7_main.cpp -e 's/^constexpr double K_START = .*;  \\/\\/ OPTIMIZE \\[0\\.04, 0\\.12\\] LOG$/constexpr double K_START = 0.09874400903818205;  \\/\\/ OPTIMIZE [0.04, 0.12] LOG/' -e 's/^constexpr double K_END = .*;   \\/\\/ OPTIMIZE \\[0\\.03, 0\\.1\\] LOG$/constexpr double K_END = 0.04924152694418259;   \\/\\/ OPTIMIZE [0.03, 0.1] LOG/' -e 's/^constexpr double K_H = .*;      \\/\\/ OPTIMIZE \\[0\\.001, 0\\.999\\]$/constexpr double K_H = 0.5130316980772319;      \\/\\/ OPTIMIZE [0.001, 0.999]/' -e 's/^constexpr short PURCHASE_TURN_LIMIT = .*;  \\/\\/ OPTIMIZE \\[790, 870\\]$/constexpr short PURCHASE_TURN_LIMIT = 837;  \\/\\/ OPTIMIZE [790, 870]/' -e 's/^constexpr int SUBSCORE3_TIGHT_TURN = .*;     \\/\\/ OPTIMIZE \\[0, 1\\]$/constexpr int SUBSCORE3_TIGHT_TURN = 0;     \\/\\/ OPTIMIZE [0, 1]/' -e 's/^constexpr int ROUGH_HASH = .*;      \\/\\/ OPTIMIZE {0, 0b00000001, 0b00010001, 0b00010011, 0b00110011}$/constexpr int ROUGH_HASH = 0b00000001;      \\/\\/ OPTIMIZE {0, 0b00000001, 0b00010001, 0b00010011, 0b00110011}/' -e 's/^constexpr double TARGET_BEAM_WIDTH_INCREASE_RATE = .*;      \\/\\/ OPTIMIZE \\[0\\.5, 1\\.0\\] LOG$/constexpr double TARGET_BEAM_WIDTH_INCREASE_RATE = 0.8879951489018485;      \\/\\/ OPTIMIZE [0.5, 1.0] LOG/' -e 's/^constexpr double TARGET_BEAM_WIDTH_HALF_PROGRES_RATE = .*;  \\/\\/ OPTIMIZE \\[0\\.02, 0\\.98\\]$/constexpr double TARGET_BEAM_WIDTH_HALF_PROGRES_RATE = 0.740797392525087;  \\/\\/ OPTIMIZE [0.02, 0.98]/'\n",
      "g++ 7_main.cpp -std=gnu++17 -O2 -DONLINE_JUDGE -o 7_main.cpp.out 2> /dev/null\n"
     ]
    },
    {
     "name": "stderr",
     "output_type": "stream",
     "text": [
      "\u001b[32m[I 2021-09-10 19:03:24,417]\u001b[0m Trial 52 finished with value: 927619690.0 and parameters: {'K_START': 0.09963269129964791, 'K_END': 0.04073973308596131, 'K_H': 0.9087128089412191, 'PURCHASE_TURN_LIMIT': 850, 'SUBSCORE3_TIGHT_TURN': 0, 'ROUGH_HASH': '0', 'TARGET_BEAM_WIDTH_INCREASE_RATE': 0.7340361883068809, 'TARGET_BEAM_WIDTH_HALF_PROGRES_RATE': 0.7951983255252637}. Best is trial 36 with value: 934112205.0.\u001b[0m\n"
     ]
    },
    {
     "name": "stdout",
     "output_type": "stream",
     "text": [
      "callback ok\n",
      "index_parallel=8\n",
      "sed -i 8_main.cpp -e 's/^constexpr double K_START = .*;  \\/\\/ OPTIMIZE \\[0\\.04, 0\\.12\\] LOG$/constexpr double K_START = 0.11607534691399721;  \\/\\/ OPTIMIZE [0.04, 0.12] LOG/' -e 's/^constexpr double K_END = .*;   \\/\\/ OPTIMIZE \\[0\\.03, 0\\.1\\] LOG$/constexpr double K_END = 0.03693580998851803;   \\/\\/ OPTIMIZE [0.03, 0.1] LOG/' -e 's/^constexpr double K_H = .*;      \\/\\/ OPTIMIZE \\[0\\.001, 0\\.999\\]$/constexpr double K_H = 0.5012503570637384;      \\/\\/ OPTIMIZE [0.001, 0.999]/' -e 's/^constexpr short PURCHASE_TURN_LIMIT = .*;  \\/\\/ OPTIMIZE \\[790, 870\\]$/constexpr short PURCHASE_TURN_LIMIT = 837;  \\/\\/ OPTIMIZE [790, 870]/' -e 's/^constexpr int SUBSCORE3_TIGHT_TURN = .*;     \\/\\/ OPTIMIZE \\[0, 1\\]$/constexpr int SUBSCORE3_TIGHT_TURN = 0;     \\/\\/ OPTIMIZE [0, 1]/' -e 's/^constexpr int ROUGH_HASH = .*;      \\/\\/ OPTIMIZE {0, 0b00000001, 0b00010001, 0b00010011, 0b00110011}$/constexpr int ROUGH_HASH = 0b00000001;      \\/\\/ OPTIMIZE {0, 0b00000001, 0b00010001, 0b00010011, 0b00110011}/' -e 's/^constexpr double TARGET_BEAM_WIDTH_INCREASE_RATE = .*;      \\/\\/ OPTIMIZE \\[0\\.5, 1\\.0\\] LOG$/constexpr double TARGET_BEAM_WIDTH_INCREASE_RATE = 0.8451333741649605;      \\/\\/ OPTIMIZE [0.5, 1.0] LOG/' -e 's/^constexpr double TARGET_BEAM_WIDTH_HALF_PROGRES_RATE = .*;  \\/\\/ OPTIMIZE \\[0\\.02, 0\\.98\\]$/constexpr double TARGET_BEAM_WIDTH_HALF_PROGRES_RATE = 0.7256422952092862;  \\/\\/ OPTIMIZE [0.02, 0.98]/'\n",
      "g++ 8_main.cpp -std=gnu++17 -O2 -DONLINE_JUDGE -o 8_main.cpp.out 2> /dev/null\n"
     ]
    },
    {
     "name": "stderr",
     "output_type": "stream",
     "text": [
      "\u001b[32m[I 2021-09-10 19:03:45,120]\u001b[0m Trial 53 finished with value: 924873798.0 and parameters: {'K_START': 0.05602064014262577, 'K_END': 0.04081856794351984, 'K_H': 0.5056125988522088, 'PURCHASE_TURN_LIMIT': 850, 'SUBSCORE3_TIGHT_TURN': 0, 'ROUGH_HASH': '0', 'TARGET_BEAM_WIDTH_INCREASE_RATE': 0.892056686414386, 'TARGET_BEAM_WIDTH_HALF_PROGRES_RATE': 0.7364135621960274}. Best is trial 36 with value: 934112205.0.\u001b[0m\n"
     ]
    },
    {
     "name": "stdout",
     "output_type": "stream",
     "text": [
      "callback ok\n",
      "index_parallel=9\n"
     ]
    },
    {
     "name": "stderr",
     "output_type": "stream",
     "text": [
      "\u001b[32m[I 2021-09-10 19:03:46,693]\u001b[0m Trial 54 finished with value: 935102529.0 and parameters: {'K_START': 0.11467386191678472, 'K_END': 0.04078461190174308, 'K_H': 0.48430087418286943, 'PURCHASE_TURN_LIMIT': 839, 'SUBSCORE3_TIGHT_TURN': 0, 'ROUGH_HASH': '0b00000001', 'TARGET_BEAM_WIDTH_INCREASE_RATE': 0.8428081206269598, 'TARGET_BEAM_WIDTH_HALF_PROGRES_RATE': 0.736256009025336}. Best is trial 54 with value: 935102529.0.\u001b[0m\n"
     ]
    },
    {
     "name": "stdout",
     "output_type": "stream",
     "text": [
      "Updated! 935102529.0\n",
      "sed -i 9_main.cpp -e 's/^constexpr double K_START = .*;  \\/\\/ OPTIMIZE \\[0\\.04, 0\\.12\\] LOG$/constexpr double K_START = 0.11341161158216011;  \\/\\/ OPTIMIZE [0.04, 0.12] LOG/' -e 's/^constexpr double K_END = .*;   \\/\\/ OPTIMIZE \\[0\\.03, 0\\.1\\] LOG$/constexpr double K_END = 0.04888338493083914;   \\/\\/ OPTIMIZE [0.03, 0.1] LOG/' -e 's/^constexpr double K_H = .*;      \\/\\/ OPTIMIZE \\[0\\.001, 0\\.999\\]$/constexpr double K_H = 0.5339229905061227;      \\/\\/ OPTIMIZE [0.001, 0.999]/' -e 's/^constexpr short PURCHASE_TURN_LIMIT = .*;  \\/\\/ OPTIMIZE \\[790, 870\\]$/constexpr short PURCHASE_TURN_LIMIT = 837;  \\/\\/ OPTIMIZE [790, 870]/' -e 's/^constexpr int SUBSCORE3_TIGHT_TURN = .*;     \\/\\/ OPTIMIZE \\[0, 1\\]$/constexpr int SUBSCORE3_TIGHT_TURN = 0;     \\/\\/ OPTIMIZE [0, 1]/' -e 's/^constexpr int ROUGH_HASH = .*;      \\/\\/ OPTIMIZE {0, 0b00000001, 0b00010001, 0b00010011, 0b00110011}$/constexpr int ROUGH_HASH = 0b00000001;      \\/\\/ OPTIMIZE {0, 0b00000001, 0b00010001, 0b00010011, 0b00110011}/' -e 's/^constexpr double TARGET_BEAM_WIDTH_INCREASE_RATE = .*;      \\/\\/ OPTIMIZE \\[0\\.5, 1\\.0\\] LOG$/constexpr double TARGET_BEAM_WIDTH_INCREASE_RATE = 0.9408589357363284;      \\/\\/ OPTIMIZE [0.5, 1.0] LOG/' -e 's/^constexpr double TARGET_BEAM_WIDTH_HALF_PROGRES_RATE = .*;  \\/\\/ OPTIMIZE \\[0\\.02, 0\\.98\\]$/constexpr double TARGET_BEAM_WIDTH_HALF_PROGRES_RATE = 0.4996629787499074;  \\/\\/ OPTIMIZE [0.02, 0.98]/'\n",
      "callback ok\n",
      "index_parallel=10\n",
      "g++ 9_main.cpp -std=gnu++17 -O2 -DONLINE_JUDGE -o 9_main.cpp.out 2> /dev/null\n",
      "sed -i 10_main.cpp -e 's/^constexpr double K_START = .*;  \\/\\/ OPTIMIZE \\[0\\.04, 0\\.12\\] LOG$/constexpr double K_START = 0.11614165453751518;  \\/\\/ OPTIMIZE [0.04, 0.12] LOG/' -e 's/^constexpr double K_END = .*;   \\/\\/ OPTIMIZE \\[0\\.03, 0\\.1\\] LOG$/constexpr double K_END = 0.03741968648122103;   \\/\\/ OPTIMIZE [0.03, 0.1] LOG/' -e 's/^constexpr double K_H = .*;      \\/\\/ OPTIMIZE \\[0\\.001, 0\\.999\\]$/constexpr double K_H = 0.23030841074510175;      \\/\\/ OPTIMIZE [0.001, 0.999]/' -e 's/^constexpr short PURCHASE_TURN_LIMIT = .*;  \\/\\/ OPTIMIZE \\[790, 870\\]$/constexpr short PURCHASE_TURN_LIMIT = 837;  \\/\\/ OPTIMIZE [790, 870]/' -e 's/^constexpr int SUBSCORE3_TIGHT_TURN = .*;     \\/\\/ OPTIMIZE \\[0, 1\\]$/constexpr int SUBSCORE3_TIGHT_TURN = 0;     \\/\\/ OPTIMIZE [0, 1]/' -e 's/^constexpr int ROUGH_HASH = .*;      \\/\\/ OPTIMIZE {0, 0b00000001, 0b00010001, 0b00010011, 0b00110011}$/constexpr int ROUGH_HASH = 0b00000001;      \\/\\/ OPTIMIZE {0, 0b00000001, 0b00010001, 0b00010011, 0b00110011}/' -e 's/^constexpr double TARGET_BEAM_WIDTH_INCREASE_RATE = .*;      \\/\\/ OPTIMIZE \\[0\\.5, 1\\.0\\] LOG$/constexpr double TARGET_BEAM_WIDTH_INCREASE_RATE = 0.8437285967917088;      \\/\\/ OPTIMIZE [0.5, 1.0] LOG/' -e 's/^constexpr double TARGET_BEAM_WIDTH_HALF_PROGRES_RATE = .*;  \\/\\/ OPTIMIZE \\[0\\.02, 0\\.98\\]$/constexpr double TARGET_BEAM_WIDTH_HALF_PROGRES_RATE = 0.5810515267060643;  \\/\\/ OPTIMIZE [0.02, 0.98]/'\n",
      "g++ 10_main.cpp -std=gnu++17 -O2 -DONLINE_JUDGE -o 10_main.cpp.out 2> /dev/null\n"
     ]
    },
    {
     "name": "stderr",
     "output_type": "stream",
     "text": [
      "\u001b[32m[I 2021-09-10 19:03:55,774]\u001b[0m Trial 55 finished with value: 934126708.0 and parameters: {'K_START': 0.09874400903818205, 'K_END': 0.04924152694418259, 'K_H': 0.5130316980772319, 'PURCHASE_TURN_LIMIT': 837, 'SUBSCORE3_TIGHT_TURN': 0, 'ROUGH_HASH': '0b00000001', 'TARGET_BEAM_WIDTH_INCREASE_RATE': 0.8879951489018485, 'TARGET_BEAM_WIDTH_HALF_PROGRES_RATE': 0.740797392525087}. Best is trial 54 with value: 935102529.0.\u001b[0m\n"
     ]
    },
    {
     "name": "stdout",
     "output_type": "stream",
     "text": [
      "callback ok\n",
      "index_parallel=11\n",
      "sed -i 11_main.cpp -e 's/^constexpr double K_START = .*;  \\/\\/ OPTIMIZE \\[0\\.04, 0\\.12\\] LOG$/constexpr double K_START = 0.11630388520344329;  \\/\\/ OPTIMIZE [0.04, 0.12] LOG/' -e 's/^constexpr double K_END = .*;   \\/\\/ OPTIMIZE \\[0\\.03, 0\\.1\\] LOG$/constexpr double K_END = 0.04954299931043448;   \\/\\/ OPTIMIZE [0.03, 0.1] LOG/' -e 's/^constexpr double K_H = .*;      \\/\\/ OPTIMIZE \\[0\\.001, 0\\.999\\]$/constexpr double K_H = 0.5202556287529501;      \\/\\/ OPTIMIZE [0.001, 0.999]/' -e 's/^constexpr short PURCHASE_TURN_LIMIT = .*;  \\/\\/ OPTIMIZE \\[790, 870\\]$/constexpr short PURCHASE_TURN_LIMIT = 837;  \\/\\/ OPTIMIZE [790, 870]/' -e 's/^constexpr int SUBSCORE3_TIGHT_TURN = .*;     \\/\\/ OPTIMIZE \\[0, 1\\]$/constexpr int SUBSCORE3_TIGHT_TURN = 0;     \\/\\/ OPTIMIZE [0, 1]/' -e 's/^constexpr int ROUGH_HASH = .*;      \\/\\/ OPTIMIZE {0, 0b00000001, 0b00010001, 0b00010011, 0b00110011}$/constexpr int ROUGH_HASH = 0b00000001;      \\/\\/ OPTIMIZE {0, 0b00000001, 0b00010001, 0b00010011, 0b00110011}/' -e 's/^constexpr double TARGET_BEAM_WIDTH_INCREASE_RATE = .*;      \\/\\/ OPTIMIZE \\[0\\.5, 1\\.0\\] LOG$/constexpr double TARGET_BEAM_WIDTH_INCREASE_RATE = 0.8462477806513498;      \\/\\/ OPTIMIZE [0.5, 1.0] LOG/' -e 's/^constexpr double TARGET_BEAM_WIDTH_HALF_PROGRES_RATE = .*;  \\/\\/ OPTIMIZE \\[0\\.02, 0\\.98\\]$/constexpr double TARGET_BEAM_WIDTH_HALF_PROGRES_RATE = 0.5719106527778882;  \\/\\/ OPTIMIZE [0.02, 0.98]/'\n",
      "g++ 11_main.cpp -std=gnu++17 -O2 -DONLINE_JUDGE -o 11_main.cpp.out 2> /dev/null\n"
     ]
    },
    {
     "name": "stderr",
     "output_type": "stream",
     "text": [
      "\u001b[32m[I 2021-09-10 19:05:56,582]\u001b[0m Trial 56 finished with value: 928050453.0 and parameters: {'K_START': 0.11607534691399721, 'K_END': 0.03693580998851803, 'K_H': 0.5012503570637384, 'PURCHASE_TURN_LIMIT': 837, 'SUBSCORE3_TIGHT_TURN': 0, 'ROUGH_HASH': '0b00000001', 'TARGET_BEAM_WIDTH_INCREASE_RATE': 0.8451333741649605, 'TARGET_BEAM_WIDTH_HALF_PROGRES_RATE': 0.7256422952092862}. Best is trial 54 with value: 935102529.0.\u001b[0m\n"
     ]
    },
    {
     "name": "stdout",
     "output_type": "stream",
     "text": [
      "callback ok\n",
      "index_parallel=0\n",
      "sed -i 0_main.cpp -e 's/^constexpr double K_START = .*;  \\/\\/ OPTIMIZE \\[0\\.04, 0\\.12\\] LOG$/constexpr double K_START = 0.10625303278737779;  \\/\\/ OPTIMIZE [0.04, 0.12] LOG/' -e 's/^constexpr double K_END = .*;   \\/\\/ OPTIMIZE \\[0\\.03, 0\\.1\\] LOG$/constexpr double K_END = 0.05666187147608175;   \\/\\/ OPTIMIZE [0.03, 0.1] LOG/' -e 's/^constexpr double K_H = .*;      \\/\\/ OPTIMIZE \\[0\\.001, 0\\.999\\]$/constexpr double K_H = 0.0280803826707563;      \\/\\/ OPTIMIZE [0.001, 0.999]/' -e 's/^constexpr short PURCHASE_TURN_LIMIT = .*;  \\/\\/ OPTIMIZE \\[790, 870\\]$/constexpr short PURCHASE_TURN_LIMIT = 823;  \\/\\/ OPTIMIZE [790, 870]/' -e 's/^constexpr int SUBSCORE3_TIGHT_TURN = .*;     \\/\\/ OPTIMIZE \\[0, 1\\]$/constexpr int SUBSCORE3_TIGHT_TURN = 0;     \\/\\/ OPTIMIZE [0, 1]/' -e 's/^constexpr int ROUGH_HASH = .*;      \\/\\/ OPTIMIZE {0, 0b00000001, 0b00010001, 0b00010011, 0b00110011}$/constexpr int ROUGH_HASH = 0b00010011;      \\/\\/ OPTIMIZE {0, 0b00000001, 0b00010001, 0b00010011, 0b00110011}/' -e 's/^constexpr double TARGET_BEAM_WIDTH_INCREASE_RATE = .*;      \\/\\/ OPTIMIZE \\[0\\.5, 1\\.0\\] LOG$/constexpr double TARGET_BEAM_WIDTH_INCREASE_RATE = 0.8387590502818902;      \\/\\/ OPTIMIZE [0.5, 1.0] LOG/' -e 's/^constexpr double TARGET_BEAM_WIDTH_HALF_PROGRES_RATE = .*;  \\/\\/ OPTIMIZE \\[0\\.02, 0\\.98\\]$/constexpr double TARGET_BEAM_WIDTH_HALF_PROGRES_RATE = 0.5175260297576976;  \\/\\/ OPTIMIZE [0.02, 0.98]/'\n",
      "g++ 0_main.cpp -std=gnu++17 -O2 -DONLINE_JUDGE -o 0_main.cpp.out 2> /dev/null\n"
     ]
    },
    {
     "name": "stderr",
     "output_type": "stream",
     "text": [
      "\u001b[32m[I 2021-09-10 19:06:15,786]\u001b[0m Trial 58 finished with value: 281285184.0 and parameters: {'K_START': 0.11614165453751518, 'K_END': 0.03741968648122103, 'K_H': 0.23030841074510175, 'PURCHASE_TURN_LIMIT': 837, 'SUBSCORE3_TIGHT_TURN': 0, 'ROUGH_HASH': '0b00000001', 'TARGET_BEAM_WIDTH_INCREASE_RATE': 0.8437285967917088, 'TARGET_BEAM_WIDTH_HALF_PROGRES_RATE': 0.5810515267060643}. Best is trial 54 with value: 935102529.0.\u001b[0m\n"
     ]
    },
    {
     "name": "stdout",
     "output_type": "stream",
     "text": [
      "callback ok\n",
      "index_parallel=1\n"
     ]
    },
    {
     "name": "stderr",
     "output_type": "stream",
     "text": [
      "\u001b[32m[I 2021-09-10 19:06:16,046]\u001b[0m Trial 57 finished with value: 928210071.0 and parameters: {'K_START': 0.11341161158216011, 'K_END': 0.04888338493083914, 'K_H': 0.5339229905061227, 'PURCHASE_TURN_LIMIT': 837, 'SUBSCORE3_TIGHT_TURN': 0, 'ROUGH_HASH': '0b00000001', 'TARGET_BEAM_WIDTH_INCREASE_RATE': 0.9408589357363284, 'TARGET_BEAM_WIDTH_HALF_PROGRES_RATE': 0.4996629787499074}. Best is trial 54 with value: 935102529.0.\u001b[0m\n"
     ]
    },
    {
     "name": "stdout",
     "output_type": "stream",
     "text": [
      "callback ok\n",
      "index_parallel=2\n",
      "sed -i 1_main.cpp -e 's/^constexpr double K_START = .*;  \\/\\/ OPTIMIZE \\[0\\.04, 0\\.12\\] LOG$/constexpr double K_START = 0.10633012602614578;  \\/\\/ OPTIMIZE [0.04, 0.12] LOG/' -e 's/^constexpr double K_END = .*;   \\/\\/ OPTIMIZE \\[0\\.03, 0\\.1\\] LOG$/constexpr double K_END = 0.04554746220195124;   \\/\\/ OPTIMIZE [0.03, 0.1] LOG/' -e 's/^constexpr double K_H = .*;      \\/\\/ OPTIMIZE \\[0\\.001, 0\\.999\\]$/constexpr double K_H = 0.3816173397850413;      \\/\\/ OPTIMIZE [0.001, 0.999]/' -e 's/^constexpr short PURCHASE_TURN_LIMIT = .*;  \\/\\/ OPTIMIZE \\[790, 870\\]$/constexpr short PURCHASE_TURN_LIMIT = 829;  \\/\\/ OPTIMIZE [790, 870]/' -e 's/^constexpr int SUBSCORE3_TIGHT_TURN = .*;     \\/\\/ OPTIMIZE \\[0, 1\\]$/constexpr int SUBSCORE3_TIGHT_TURN = 0;     \\/\\/ OPTIMIZE [0, 1]/' -e 's/^constexpr int ROUGH_HASH = .*;      \\/\\/ OPTIMIZE {0, 0b00000001, 0b00010001, 0b00010011, 0b00110011}$/constexpr int ROUGH_HASH = 0b00000001;      \\/\\/ OPTIMIZE {0, 0b00000001, 0b00010001, 0b00010011, 0b00110011}/' -e 's/^constexpr double TARGET_BEAM_WIDTH_INCREASE_RATE = .*;      \\/\\/ OPTIMIZE \\[0\\.5, 1\\.0\\] LOG$/constexpr double TARGET_BEAM_WIDTH_INCREASE_RATE = 0.7919556480310043;      \\/\\/ OPTIMIZE [0.5, 1.0] LOG/' -e 's/^constexpr double TARGET_BEAM_WIDTH_HALF_PROGRES_RATE = .*;  \\/\\/ OPTIMIZE \\[0\\.02, 0\\.98\\]$/constexpr double TARGET_BEAM_WIDTH_HALF_PROGRES_RATE = 0.6809906295382928;  \\/\\/ OPTIMIZE [0.02, 0.98]/'\n",
      "g++ 1_main.cpp -std=gnu++17 -O2 -DONLINE_JUDGE -o 1_main.cpp.out 2> /dev/null\n",
      "sed -i 2_main.cpp -e 's/^constexpr double K_START = .*;  \\/\\/ OPTIMIZE \\[0\\.04, 0\\.12\\] LOG$/constexpr double K_START = 0.10575435038055979;  \\/\\/ OPTIMIZE [0.04, 0.12] LOG/' -e 's/^constexpr double K_END = .*;   \\/\\/ OPTIMIZE \\[0\\.03, 0\\.1\\] LOG$/constexpr double K_END = 0.05601859451604404;   \\/\\/ OPTIMIZE [0.03, 0.1] LOG/' -e 's/^constexpr double K_H = .*;      \\/\\/ OPTIMIZE \\[0\\.001, 0\\.999\\]$/constexpr double K_H = 0.988036200805986;      \\/\\/ OPTIMIZE [0.001, 0.999]/' -e 's/^constexpr short PURCHASE_TURN_LIMIT = .*;  \\/\\/ OPTIMIZE \\[790, 870\\]$/constexpr short PURCHASE_TURN_LIMIT = 828;  \\/\\/ OPTIMIZE [790, 870]/' -e 's/^constexpr int SUBSCORE3_TIGHT_TURN = .*;     \\/\\/ OPTIMIZE \\[0, 1\\]$/constexpr int SUBSCORE3_TIGHT_TURN = 0;     \\/\\/ OPTIMIZE [0, 1]/' -e 's/^constexpr int ROUGH_HASH = .*;      \\/\\/ OPTIMIZE {0, 0b00000001, 0b00010001, 0b00010011, 0b00110011}$/constexpr int ROUGH_HASH = 0b00010011;      \\/\\/ OPTIMIZE {0, 0b00000001, 0b00010001, 0b00010011, 0b00110011}/' -e 's/^constexpr double TARGET_BEAM_WIDTH_INCREASE_RATE = .*;      \\/\\/ OPTIMIZE \\[0\\.5, 1\\.0\\] LOG$/constexpr double TARGET_BEAM_WIDTH_INCREASE_RATE = 0.791985979448822;      \\/\\/ OPTIMIZE [0.5, 1.0] LOG/' -e 's/^constexpr double TARGET_BEAM_WIDTH_HALF_PROGRES_RATE = .*;  \\/\\/ OPTIMIZE \\[0\\.02, 0\\.98\\]$/constexpr double TARGET_BEAM_WIDTH_HALF_PROGRES_RATE = 0.6807085509063817;  \\/\\/ OPTIMIZE [0.02, 0.98]/'\n",
      "g++ 2_main.cpp -std=gnu++17 -O2 -DONLINE_JUDGE -o 2_main.cpp.out 2> /dev/null\n"
     ]
    },
    {
     "name": "stderr",
     "output_type": "stream",
     "text": [
      "\u001b[32m[I 2021-09-10 19:06:25,957]\u001b[0m Trial 59 finished with value: 831485100.0 and parameters: {'K_START': 0.11630388520344329, 'K_END': 0.04954299931043448, 'K_H': 0.5202556287529501, 'PURCHASE_TURN_LIMIT': 837, 'SUBSCORE3_TIGHT_TURN': 0, 'ROUGH_HASH': '0b00000001', 'TARGET_BEAM_WIDTH_INCREASE_RATE': 0.8462477806513498, 'TARGET_BEAM_WIDTH_HALF_PROGRES_RATE': 0.5719106527778882}. Best is trial 54 with value: 935102529.0.\u001b[0m\n"
     ]
    },
    {
     "name": "stdout",
     "output_type": "stream",
     "text": [
      "callback ok\n",
      "index_parallel=3\n",
      "sed -i 3_main.cpp -e 's/^constexpr double K_START = .*;  \\/\\/ OPTIMIZE \\[0\\.04, 0\\.12\\] LOG$/constexpr double K_START = 0.10533992682603475;  \\/\\/ OPTIMIZE [0.04, 0.12] LOG/' -e 's/^constexpr double K_END = .*;   \\/\\/ OPTIMIZE \\[0\\.03, 0\\.1\\] LOG$/constexpr double K_END = 0.05589765733719616;   \\/\\/ OPTIMIZE [0.03, 0.1] LOG/' -e 's/^constexpr double K_H = .*;      \\/\\/ OPTIMIZE \\[0\\.001, 0\\.999\\]$/constexpr double K_H = 0.38367704875627123;      \\/\\/ OPTIMIZE [0.001, 0.999]/' -e 's/^constexpr short PURCHASE_TURN_LIMIT = .*;  \\/\\/ OPTIMIZE \\[790, 870\\]$/constexpr short PURCHASE_TURN_LIMIT = 833;  \\/\\/ OPTIMIZE [790, 870]/' -e 's/^constexpr int SUBSCORE3_TIGHT_TURN = .*;     \\/\\/ OPTIMIZE \\[0, 1\\]$/constexpr int SUBSCORE3_TIGHT_TURN = 0;     \\/\\/ OPTIMIZE [0, 1]/' -e 's/^constexpr int ROUGH_HASH = .*;      \\/\\/ OPTIMIZE {0, 0b00000001, 0b00010001, 0b00010011, 0b00110011}$/constexpr int ROUGH_HASH = 0b00010011;      \\/\\/ OPTIMIZE {0, 0b00000001, 0b00010001, 0b00010011, 0b00110011}/' -e 's/^constexpr double TARGET_BEAM_WIDTH_INCREASE_RATE = .*;      \\/\\/ OPTIMIZE \\[0\\.5, 1\\.0\\] LOG$/constexpr double TARGET_BEAM_WIDTH_INCREASE_RATE = 0.7892577026823248;      \\/\\/ OPTIMIZE [0.5, 1.0] LOG/' -e 's/^constexpr double TARGET_BEAM_WIDTH_HALF_PROGRES_RATE = .*;  \\/\\/ OPTIMIZE \\[0\\.02, 0\\.98\\]$/constexpr double TARGET_BEAM_WIDTH_HALF_PROGRES_RATE = 0.3571910965583311;  \\/\\/ OPTIMIZE [0.02, 0.98]/'\n",
      "g++ 3_main.cpp -std=gnu++17 -O2 -DONLINE_JUDGE -o 3_main.cpp.out 2> /dev/null\n"
     ]
    },
    {
     "name": "stderr",
     "output_type": "stream",
     "text": [
      "\u001b[32m[I 2021-09-10 19:08:18,396]\u001b[0m Trial 60 finished with value: 253987237.0 and parameters: {'K_START': 0.10625303278737779, 'K_END': 0.05666187147608175, 'K_H': 0.0280803826707563, 'PURCHASE_TURN_LIMIT': 823, 'SUBSCORE3_TIGHT_TURN': 0, 'ROUGH_HASH': '0b00010011', 'TARGET_BEAM_WIDTH_INCREASE_RATE': 0.8387590502818902, 'TARGET_BEAM_WIDTH_HALF_PROGRES_RATE': 0.5175260297576976}. Best is trial 54 with value: 935102529.0.\u001b[0m\n"
     ]
    },
    {
     "name": "stdout",
     "output_type": "stream",
     "text": [
      "callback ok\n",
      "index_parallel=4\n",
      "sed -i 4_main.cpp -e 's/^constexpr double K_START = .*;  \\/\\/ OPTIMIZE \\[0\\.04, 0\\.12\\] LOG$/constexpr double K_START = 0.04775849160565849;  \\/\\/ OPTIMIZE [0.04, 0.12] LOG/' -e 's/^constexpr double K_END = .*;   \\/\\/ OPTIMIZE \\[0\\.03, 0\\.1\\] LOG$/constexpr double K_END = 0.04627734459863779;   \\/\\/ OPTIMIZE [0.03, 0.1] LOG/' -e 's/^constexpr double K_H = .*;      \\/\\/ OPTIMIZE \\[0\\.001, 0\\.999\\]$/constexpr double K_H = 0.4571019160573559;      \\/\\/ OPTIMIZE [0.001, 0.999]/' -e 's/^constexpr short PURCHASE_TURN_LIMIT = .*;  \\/\\/ OPTIMIZE \\[790, 870\\]$/constexpr short PURCHASE_TURN_LIMIT = 828;  \\/\\/ OPTIMIZE [790, 870]/' -e 's/^constexpr int SUBSCORE3_TIGHT_TURN = .*;     \\/\\/ OPTIMIZE \\[0, 1\\]$/constexpr int SUBSCORE3_TIGHT_TURN = 0;     \\/\\/ OPTIMIZE [0, 1]/' -e 's/^constexpr int ROUGH_HASH = .*;      \\/\\/ OPTIMIZE {0, 0b00000001, 0b00010001, 0b00010011, 0b00110011}$/constexpr int ROUGH_HASH = 0b00000001;      \\/\\/ OPTIMIZE {0, 0b00000001, 0b00010001, 0b00010011, 0b00110011}/' -e 's/^constexpr double TARGET_BEAM_WIDTH_INCREASE_RATE = .*;      \\/\\/ OPTIMIZE \\[0\\.5, 1\\.0\\] LOG$/constexpr double TARGET_BEAM_WIDTH_INCREASE_RATE = 0.8919144473576133;      \\/\\/ OPTIMIZE [0.5, 1.0] LOG/' -e 's/^constexpr double TARGET_BEAM_WIDTH_HALF_PROGRES_RATE = .*;  \\/\\/ OPTIMIZE \\[0\\.02, 0\\.98\\]$/constexpr double TARGET_BEAM_WIDTH_HALF_PROGRES_RATE = 0.6628383369831119;  \\/\\/ OPTIMIZE [0.02, 0.98]/'\n",
      "g++ 4_main.cpp -std=gnu++17 -O2 -DONLINE_JUDGE -o 4_main.cpp.out 2> /dev/null\n"
     ]
    },
    {
     "name": "stderr",
     "output_type": "stream",
     "text": [
      "\u001b[32m[I 2021-09-10 19:08:43,177]\u001b[0m Trial 62 finished with value: 923300271.0 and parameters: {'K_START': 0.10575435038055979, 'K_END': 0.05601859451604404, 'K_H': 0.988036200805986, 'PURCHASE_TURN_LIMIT': 828, 'SUBSCORE3_TIGHT_TURN': 0, 'ROUGH_HASH': '0b00010011', 'TARGET_BEAM_WIDTH_INCREASE_RATE': 0.791985979448822, 'TARGET_BEAM_WIDTH_HALF_PROGRES_RATE': 0.6807085509063817}. Best is trial 54 with value: 935102529.0.\u001b[0m\n"
     ]
    },
    {
     "name": "stdout",
     "output_type": "stream",
     "text": [
      "callback ok\n",
      "index_parallel=5\n",
      "sed -i 5_main.cpp -e 's/^constexpr double K_START = .*;  \\/\\/ OPTIMIZE \\[0\\.04, 0\\.12\\] LOG$/constexpr double K_START = 0.047730778937434895;  \\/\\/ OPTIMIZE [0.04, 0.12] LOG/' -e 's/^constexpr double K_END = .*;   \\/\\/ OPTIMIZE \\[0\\.03, 0\\.1\\] LOG$/constexpr double K_END = 0.04537074138925388;   \\/\\/ OPTIMIZE [0.03, 0.1] LOG/' -e 's/^constexpr double K_H = .*;      \\/\\/ OPTIMIZE \\[0\\.001, 0\\.999\\]$/constexpr double K_H = 0.4620315275049477;      \\/\\/ OPTIMIZE [0.001, 0.999]/' -e 's/^constexpr short PURCHASE_TURN_LIMIT = .*;  \\/\\/ OPTIMIZE \\[790, 870\\]$/constexpr short PURCHASE_TURN_LIMIT = 833;  \\/\\/ OPTIMIZE [790, 870]/' -e 's/^constexpr int SUBSCORE3_TIGHT_TURN = .*;     \\/\\/ OPTIMIZE \\[0, 1\\]$/constexpr int SUBSCORE3_TIGHT_TURN = 0;     \\/\\/ OPTIMIZE [0, 1]/' -e 's/^constexpr int ROUGH_HASH = .*;      \\/\\/ OPTIMIZE {0, 0b00000001, 0b00010001, 0b00010011, 0b00110011}$/constexpr int ROUGH_HASH = 0b00000001;      \\/\\/ OPTIMIZE {0, 0b00000001, 0b00010001, 0b00010011, 0b00110011}/' -e 's/^constexpr double TARGET_BEAM_WIDTH_INCREASE_RATE = .*;      \\/\\/ OPTIMIZE \\[0\\.5, 1\\.0\\] LOG$/constexpr double TARGET_BEAM_WIDTH_INCREASE_RATE = 0.8820338619499941;      \\/\\/ OPTIMIZE [0.5, 1.0] LOG/' -e 's/^constexpr double TARGET_BEAM_WIDTH_HALF_PROGRES_RATE = .*;  \\/\\/ OPTIMIZE \\[0\\.02, 0\\.98\\]$/constexpr double TARGET_BEAM_WIDTH_HALF_PROGRES_RATE = 0.7695279015355171;  \\/\\/ OPTIMIZE [0.02, 0.98]/'\n",
      "g++ 5_main.cpp -std=gnu++17 -O2 -DONLINE_JUDGE -o 5_main.cpp.out 2> /dev/null\n"
     ]
    },
    {
     "name": "stderr",
     "output_type": "stream",
     "text": [
      "\u001b[32m[I 2021-09-10 19:08:46,508]\u001b[0m Trial 61 finished with value: 899089208.0 and parameters: {'K_START': 0.10633012602614578, 'K_END': 0.04554746220195124, 'K_H': 0.3816173397850413, 'PURCHASE_TURN_LIMIT': 829, 'SUBSCORE3_TIGHT_TURN': 0, 'ROUGH_HASH': '0b00000001', 'TARGET_BEAM_WIDTH_INCREASE_RATE': 0.7919556480310043, 'TARGET_BEAM_WIDTH_HALF_PROGRES_RATE': 0.6809906295382928}. Best is trial 54 with value: 935102529.0.\u001b[0m\n"
     ]
    },
    {
     "name": "stdout",
     "output_type": "stream",
     "text": [
      "callback ok\n",
      "index_parallel=6\n",
      "sed -i 6_main.cpp -e 's/^constexpr double K_START = .*;  \\/\\/ OPTIMIZE \\[0\\.04, 0\\.12\\] LOG$/constexpr double K_START = 0.07782651691837494;  \\/\\/ OPTIMIZE [0.04, 0.12] LOG/' -e 's/^constexpr double K_END = .*;   \\/\\/ OPTIMIZE \\[0\\.03, 0\\.1\\] LOG$/constexpr double K_END = 0.04711396168699229;   \\/\\/ OPTIMIZE [0.03, 0.1] LOG/' -e 's/^constexpr double K_H = .*;      \\/\\/ OPTIMIZE \\[0\\.001, 0\\.999\\]$/constexpr double K_H = 0.44467767427918786;      \\/\\/ OPTIMIZE [0.001, 0.999]/' -e 's/^constexpr short PURCHASE_TURN_LIMIT = .*;  \\/\\/ OPTIMIZE \\[790, 870\\]$/constexpr short PURCHASE_TURN_LIMIT = 847;  \\/\\/ OPTIMIZE [790, 870]/' -e 's/^constexpr int SUBSCORE3_TIGHT_TURN = .*;     \\/\\/ OPTIMIZE \\[0, 1\\]$/constexpr int SUBSCORE3_TIGHT_TURN = 0;     \\/\\/ OPTIMIZE [0, 1]/' -e 's/^constexpr int ROUGH_HASH = .*;      \\/\\/ OPTIMIZE {0, 0b00000001, 0b00010001, 0b00010011, 0b00110011}$/constexpr int ROUGH_HASH = 0b00000001;      \\/\\/ OPTIMIZE {0, 0b00000001, 0b00010001, 0b00010011, 0b00110011}/' -e 's/^constexpr double TARGET_BEAM_WIDTH_INCREASE_RATE = .*;      \\/\\/ OPTIMIZE \\[0\\.5, 1\\.0\\] LOG$/constexpr double TARGET_BEAM_WIDTH_INCREASE_RATE = 0.8955575048577068;      \\/\\/ OPTIMIZE [0.5, 1.0] LOG/' -e 's/^constexpr double TARGET_BEAM_WIDTH_HALF_PROGRES_RATE = .*;  \\/\\/ OPTIMIZE \\[0\\.02, 0\\.98\\]$/constexpr double TARGET_BEAM_WIDTH_HALF_PROGRES_RATE = 0.8880600668275466;  \\/\\/ OPTIMIZE [0.02, 0.98]/'\n",
      "g++ 6_main.cpp -std=gnu++17 -O2 -DONLINE_JUDGE -o 6_main.cpp.out 2> /dev/null\n"
     ]
    },
    {
     "name": "stderr",
     "output_type": "stream",
     "text": [
      "\u001b[32m[I 2021-09-10 19:08:53,787]\u001b[0m Trial 63 finished with value: 652256578.0 and parameters: {'K_START': 0.10533992682603475, 'K_END': 0.05589765733719616, 'K_H': 0.38367704875627123, 'PURCHASE_TURN_LIMIT': 833, 'SUBSCORE3_TIGHT_TURN': 0, 'ROUGH_HASH': '0b00010011', 'TARGET_BEAM_WIDTH_INCREASE_RATE': 0.7892577026823248, 'TARGET_BEAM_WIDTH_HALF_PROGRES_RATE': 0.3571910965583311}. Best is trial 54 with value: 935102529.0.\u001b[0m\n"
     ]
    },
    {
     "name": "stdout",
     "output_type": "stream",
     "text": [
      "callback ok\n",
      "index_parallel=7\n",
      "sed -i 7_main.cpp -e 's/^constexpr double K_START = .*;  \\/\\/ OPTIMIZE \\[0\\.04, 0\\.12\\] LOG$/constexpr double K_START = 0.04521661969514155;  \\/\\/ OPTIMIZE [0.04, 0.12] LOG/' -e 's/^constexpr double K_END = .*;   \\/\\/ OPTIMIZE \\[0\\.03, 0\\.1\\] LOG$/constexpr double K_END = 0.03873256085380784;   \\/\\/ OPTIMIZE [0.03, 0.1] LOG/' -e 's/^constexpr double K_H = .*;      \\/\\/ OPTIMIZE \\[0\\.001, 0\\.999\\]$/constexpr double K_H = 0.4504753781832374;      \\/\\/ OPTIMIZE [0.001, 0.999]/' -e 's/^constexpr short PURCHASE_TURN_LIMIT = .*;  \\/\\/ OPTIMIZE \\[790, 870\\]$/constexpr short PURCHASE_TURN_LIMIT = 846;  \\/\\/ OPTIMIZE [790, 870]/' -e 's/^constexpr int SUBSCORE3_TIGHT_TURN = .*;     \\/\\/ OPTIMIZE \\[0, 1\\]$/constexpr int SUBSCORE3_TIGHT_TURN = 0;     \\/\\/ OPTIMIZE [0, 1]/' -e 's/^constexpr int ROUGH_HASH = .*;      \\/\\/ OPTIMIZE {0, 0b00000001, 0b00010001, 0b00010011, 0b00110011}$/constexpr int ROUGH_HASH = 0b00000001;      \\/\\/ OPTIMIZE {0, 0b00000001, 0b00010001, 0b00010011, 0b00110011}/' -e 's/^constexpr double TARGET_BEAM_WIDTH_INCREASE_RATE = .*;      \\/\\/ OPTIMIZE \\[0\\.5, 1\\.0\\] LOG$/constexpr double TARGET_BEAM_WIDTH_INCREASE_RATE = 0.8928679990998921;      \\/\\/ OPTIMIZE [0.5, 1.0] LOG/' -e 's/^constexpr double TARGET_BEAM_WIDTH_HALF_PROGRES_RATE = .*;  \\/\\/ OPTIMIZE \\[0\\.02, 0\\.98\\]$/constexpr double TARGET_BEAM_WIDTH_HALF_PROGRES_RATE = 0.8846454888057713;  \\/\\/ OPTIMIZE [0.02, 0.98]/'\n",
      "g++ 7_main.cpp -std=gnu++17 -O2 -DONLINE_JUDGE -o 7_main.cpp.out 2> /dev/null\n"
     ]
    },
    {
     "name": "stderr",
     "output_type": "stream",
     "text": [
      "\u001b[32m[I 2021-09-10 19:10:48,632]\u001b[0m Trial 64 finished with value: 924951146.0 and parameters: {'K_START': 0.04775849160565849, 'K_END': 0.04627734459863779, 'K_H': 0.4571019160573559, 'PURCHASE_TURN_LIMIT': 828, 'SUBSCORE3_TIGHT_TURN': 0, 'ROUGH_HASH': '0b00000001', 'TARGET_BEAM_WIDTH_INCREASE_RATE': 0.8919144473576133, 'TARGET_BEAM_WIDTH_HALF_PROGRES_RATE': 0.6628383369831119}. Best is trial 54 with value: 935102529.0.\u001b[0m\n"
     ]
    },
    {
     "name": "stdout",
     "output_type": "stream",
     "text": [
      "callback ok\n",
      "index_parallel=8\n",
      "sed -i 8_main.cpp -e 's/^constexpr double K_START = .*;  \\/\\/ OPTIMIZE \\[0\\.04, 0\\.12\\] LOG$/constexpr double K_START = 0.04307623604653705;  \\/\\/ OPTIMIZE [0.04, 0.12] LOG/' -e 's/^constexpr double K_END = .*;   \\/\\/ OPTIMIZE \\[0\\.03, 0\\.1\\] LOG$/constexpr double K_END = 0.038942936738385524;   \\/\\/ OPTIMIZE [0.03, 0.1] LOG/' -e 's/^constexpr double K_H = .*;      \\/\\/ OPTIMIZE \\[0\\.001, 0\\.999\\]$/constexpr double K_H = 0.33031935096843107;      \\/\\/ OPTIMIZE [0.001, 0.999]/' -e 's/^constexpr short PURCHASE_TURN_LIMIT = .*;  \\/\\/ OPTIMIZE \\[790, 870\\]$/constexpr short PURCHASE_TURN_LIMIT = 847;  \\/\\/ OPTIMIZE [790, 870]/' -e 's/^constexpr int SUBSCORE3_TIGHT_TURN = .*;     \\/\\/ OPTIMIZE \\[0, 1\\]$/constexpr int SUBSCORE3_TIGHT_TURN = 0;     \\/\\/ OPTIMIZE [0, 1]/' -e 's/^constexpr int ROUGH_HASH = .*;      \\/\\/ OPTIMIZE {0, 0b00000001, 0b00010001, 0b00010011, 0b00110011}$/constexpr int ROUGH_HASH = 0b00000001;      \\/\\/ OPTIMIZE {0, 0b00000001, 0b00010001, 0b00010011, 0b00110011}/' -e 's/^constexpr double TARGET_BEAM_WIDTH_INCREASE_RATE = .*;      \\/\\/ OPTIMIZE \\[0\\.5, 1\\.0\\] LOG$/constexpr double TARGET_BEAM_WIDTH_INCREASE_RATE = 0.879709130020453;      \\/\\/ OPTIMIZE [0.5, 1.0] LOG/' -e 's/^constexpr double TARGET_BEAM_WIDTH_HALF_PROGRES_RATE = .*;  \\/\\/ OPTIMIZE \\[0\\.02, 0\\.98\\]$/constexpr double TARGET_BEAM_WIDTH_HALF_PROGRES_RATE = 0.9500835586291744;  \\/\\/ OPTIMIZE [0.02, 0.98]/'\n",
      "g++ 8_main.cpp -std=gnu++17 -O2 -DONLINE_JUDGE -o 8_main.cpp.out 2> /dev/null\n"
     ]
    },
    {
     "name": "stderr",
     "output_type": "stream",
     "text": [
      "\u001b[32m[I 2021-09-10 19:11:12,281]\u001b[0m Trial 65 finished with value: 923141684.0 and parameters: {'K_START': 0.047730778937434895, 'K_END': 0.04537074138925388, 'K_H': 0.4620315275049477, 'PURCHASE_TURN_LIMIT': 833, 'SUBSCORE3_TIGHT_TURN': 0, 'ROUGH_HASH': '0b00000001', 'TARGET_BEAM_WIDTH_INCREASE_RATE': 0.8820338619499941, 'TARGET_BEAM_WIDTH_HALF_PROGRES_RATE': 0.7695279015355171}. Best is trial 54 with value: 935102529.0.\u001b[0m\n"
     ]
    },
    {
     "name": "stdout",
     "output_type": "stream",
     "text": [
      "callback ok\n",
      "index_parallel=9\n",
      "sed -i 9_main.cpp -e 's/^constexpr double K_START = .*;  \\/\\/ OPTIMIZE \\[0\\.04, 0\\.12\\] LOG$/constexpr double K_START = 0.09818679000964654;  \\/\\/ OPTIMIZE [0.04, 0.12] LOG/' -e 's/^constexpr double K_END = .*;   \\/\\/ OPTIMIZE \\[0\\.03, 0\\.1\\] LOG$/constexpr double K_END = 0.03874881998772929;   \\/\\/ OPTIMIZE [0.03, 0.1] LOG/' -e 's/^constexpr double K_H = .*;      \\/\\/ OPTIMIZE \\[0\\.001, 0\\.999\\]$/constexpr double K_H = 0.33801848261745315;      \\/\\/ OPTIMIZE [0.001, 0.999]/' -e 's/^constexpr short PURCHASE_TURN_LIMIT = .*;  \\/\\/ OPTIMIZE \\[790, 870\\]$/constexpr short PURCHASE_TURN_LIMIT = 846;  \\/\\/ OPTIMIZE [790, 870]/' -e 's/^constexpr int SUBSCORE3_TIGHT_TURN = .*;     \\/\\/ OPTIMIZE \\[0, 1\\]$/constexpr int SUBSCORE3_TIGHT_TURN = 0;     \\/\\/ OPTIMIZE [0, 1]/' -e 's/^constexpr int ROUGH_HASH = .*;      \\/\\/ OPTIMIZE {0, 0b00000001, 0b00010001, 0b00010011, 0b00110011}$/constexpr int ROUGH_HASH = 0b00000001;      \\/\\/ OPTIMIZE {0, 0b00000001, 0b00010001, 0b00010011, 0b00110011}/' -e 's/^constexpr double TARGET_BEAM_WIDTH_INCREASE_RATE = .*;      \\/\\/ OPTIMIZE \\[0\\.5, 1\\.0\\] LOG$/constexpr double TARGET_BEAM_WIDTH_INCREASE_RATE = 0.9845730871736745;      \\/\\/ OPTIMIZE [0.5, 1.0] LOG/' -e 's/^constexpr double TARGET_BEAM_WIDTH_HALF_PROGRES_RATE = .*;  \\/\\/ OPTIMIZE \\[0\\.02, 0\\.98\\]$/constexpr double TARGET_BEAM_WIDTH_HALF_PROGRES_RATE = 0.8773348046369308;  \\/\\/ OPTIMIZE [0.02, 0.98]/'\n",
      "g++ 9_main.cpp -std=gnu++17 -O2 -DONLINE_JUDGE -o 9_main.cpp.out 2> /dev/null\n"
     ]
    },
    {
     "name": "stderr",
     "output_type": "stream",
     "text": [
      "\u001b[32m[I 2021-09-10 19:11:17,124]\u001b[0m Trial 66 finished with value: 929274491.0 and parameters: {'K_START': 0.07782651691837494, 'K_END': 0.04711396168699229, 'K_H': 0.44467767427918786, 'PURCHASE_TURN_LIMIT': 847, 'SUBSCORE3_TIGHT_TURN': 0, 'ROUGH_HASH': '0b00000001', 'TARGET_BEAM_WIDTH_INCREASE_RATE': 0.8955575048577068, 'TARGET_BEAM_WIDTH_HALF_PROGRES_RATE': 0.8880600668275466}. Best is trial 54 with value: 935102529.0.\u001b[0m\n"
     ]
    },
    {
     "name": "stdout",
     "output_type": "stream",
     "text": [
      "callback ok\n",
      "index_parallel=10\n",
      "sed -i 10_main.cpp -e 's/^constexpr double K_START = .*;  \\/\\/ OPTIMIZE \\[0\\.04, 0\\.12\\] LOG$/constexpr double K_START = 0.08468122853853367;  \\/\\/ OPTIMIZE [0.04, 0.12] LOG/' -e 's/^constexpr double K_END = .*;   \\/\\/ OPTIMIZE \\[0\\.03, 0\\.1\\] LOG$/constexpr double K_END = 0.03857616858159854;   \\/\\/ OPTIMIZE [0.03, 0.1] LOG/' -e 's/^constexpr double K_H = .*;      \\/\\/ OPTIMIZE \\[0\\.001, 0\\.999\\]$/constexpr double K_H = 0.5404031047129755;      \\/\\/ OPTIMIZE [0.001, 0.999]/' -e 's/^constexpr short PURCHASE_TURN_LIMIT = .*;  \\/\\/ OPTIMIZE \\[790, 870\\]$/constexpr short PURCHASE_TURN_LIMIT = 844;  \\/\\/ OPTIMIZE [790, 870]/' -e 's/^constexpr int SUBSCORE3_TIGHT_TURN = .*;     \\/\\/ OPTIMIZE \\[0, 1\\]$/constexpr int SUBSCORE3_TIGHT_TURN = 0;     \\/\\/ OPTIMIZE [0, 1]/' -e 's/^constexpr int ROUGH_HASH = .*;      \\/\\/ OPTIMIZE {0, 0b00000001, 0b00010001, 0b00010011, 0b00110011}$/constexpr int ROUGH_HASH = 0b00000001;      \\/\\/ OPTIMIZE {0, 0b00000001, 0b00010001, 0b00010011, 0b00110011}/' -e 's/^constexpr double TARGET_BEAM_WIDTH_INCREASE_RATE = .*;      \\/\\/ OPTIMIZE \\[0\\.5, 1\\.0\\] LOG$/constexpr double TARGET_BEAM_WIDTH_INCREASE_RATE = 0.9870505223291098;      \\/\\/ OPTIMIZE [0.5, 1.0] LOG/' -e 's/^constexpr double TARGET_BEAM_WIDTH_HALF_PROGRES_RATE = .*;  \\/\\/ OPTIMIZE \\[0\\.02, 0\\.98\\]$/constexpr double TARGET_BEAM_WIDTH_HALF_PROGRES_RATE = 0.9416447164880402;  \\/\\/ OPTIMIZE [0.02, 0.98]/'\n",
      "g++ 10_main.cpp -std=gnu++17 -O2 -DONLINE_JUDGE -o 10_main.cpp.out 2> /dev/null\n"
     ]
    },
    {
     "name": "stderr",
     "output_type": "stream",
     "text": [
      "\u001b[32m[I 2021-09-10 19:11:26,440]\u001b[0m Trial 67 finished with value: 921679156.0 and parameters: {'K_START': 0.04521661969514155, 'K_END': 0.03873256085380784, 'K_H': 0.4504753781832374, 'PURCHASE_TURN_LIMIT': 846, 'SUBSCORE3_TIGHT_TURN': 0, 'ROUGH_HASH': '0b00000001', 'TARGET_BEAM_WIDTH_INCREASE_RATE': 0.8928679990998921, 'TARGET_BEAM_WIDTH_HALF_PROGRES_RATE': 0.8846454888057713}. Best is trial 54 with value: 935102529.0.\u001b[0m\n"
     ]
    },
    {
     "name": "stdout",
     "output_type": "stream",
     "text": [
      "callback ok\n",
      "index_parallel=11\n",
      "sed -i 11_main.cpp -e 's/^constexpr double K_START = .*;  \\/\\/ OPTIMIZE \\[0\\.04, 0\\.12\\] LOG$/constexpr double K_START = 0.09846550192029904;  \\/\\/ OPTIMIZE [0.04, 0.12] LOG/' -e 's/^constexpr double K_END = .*;   \\/\\/ OPTIMIZE \\[0\\.03, 0\\.1\\] LOG$/constexpr double K_END = 0.05187447388501492;   \\/\\/ OPTIMIZE [0.03, 0.1] LOG/' -e 's/^constexpr double K_H = .*;      \\/\\/ OPTIMIZE \\[0\\.001, 0\\.999\\]$/constexpr double K_H = 0.33104656551005823;      \\/\\/ OPTIMIZE [0.001, 0.999]/' -e 's/^constexpr short PURCHASE_TURN_LIMIT = .*;  \\/\\/ OPTIMIZE \\[790, 870\\]$/constexpr short PURCHASE_TURN_LIMIT = 843;  \\/\\/ OPTIMIZE [790, 870]/' -e 's/^constexpr int SUBSCORE3_TIGHT_TURN = .*;     \\/\\/ OPTIMIZE \\[0, 1\\]$/constexpr int SUBSCORE3_TIGHT_TURN = 0;     \\/\\/ OPTIMIZE [0, 1]/' -e 's/^constexpr int ROUGH_HASH = .*;      \\/\\/ OPTIMIZE {0, 0b00000001, 0b00010001, 0b00010011, 0b00110011}$/constexpr int ROUGH_HASH = 0b00000001;      \\/\\/ OPTIMIZE {0, 0b00000001, 0b00010001, 0b00010011, 0b00110011}/' -e 's/^constexpr double TARGET_BEAM_WIDTH_INCREASE_RATE = .*;      \\/\\/ OPTIMIZE \\[0\\.5, 1\\.0\\] LOG$/constexpr double TARGET_BEAM_WIDTH_INCREASE_RATE = 0.9840465568060778;      \\/\\/ OPTIMIZE [0.5, 1.0] LOG/' -e 's/^constexpr double TARGET_BEAM_WIDTH_HALF_PROGRES_RATE = .*;  \\/\\/ OPTIMIZE \\[0\\.02, 0\\.98\\]$/constexpr double TARGET_BEAM_WIDTH_HALF_PROGRES_RATE = 0.9447220097572847;  \\/\\/ OPTIMIZE [0.02, 0.98]/'\n",
      "g++ 11_main.cpp -std=gnu++17 -O2 -DONLINE_JUDGE -o 11_main.cpp.out 2> /dev/null\n"
     ]
    },
    {
     "name": "stderr",
     "output_type": "stream",
     "text": [
      "\u001b[32m[I 2021-09-10 19:13:19,627]\u001b[0m Trial 68 finished with value: 922266915.0 and parameters: {'K_START': 0.04307623604653705, 'K_END': 0.038942936738385524, 'K_H': 0.33031935096843107, 'PURCHASE_TURN_LIMIT': 847, 'SUBSCORE3_TIGHT_TURN': 0, 'ROUGH_HASH': '0b00000001', 'TARGET_BEAM_WIDTH_INCREASE_RATE': 0.879709130020453, 'TARGET_BEAM_WIDTH_HALF_PROGRES_RATE': 0.9500835586291744}. Best is trial 54 with value: 935102529.0.\u001b[0m\n"
     ]
    },
    {
     "name": "stdout",
     "output_type": "stream",
     "text": [
      "callback ok\n",
      "index_parallel=0\n",
      "sed -i 0_main.cpp -e 's/^constexpr double K_START = .*;  \\/\\/ OPTIMIZE \\[0\\.04, 0\\.12\\] LOG$/constexpr double K_START = 0.0851398360225488;  \\/\\/ OPTIMIZE [0.04, 0.12] LOG/' -e 's/^constexpr double K_END = .*;   \\/\\/ OPTIMIZE \\[0\\.03, 0\\.1\\] LOG$/constexpr double K_END = 0.042120051532476305;   \\/\\/ OPTIMIZE [0.03, 0.1] LOG/' -e 's/^constexpr double K_H = .*;      \\/\\/ OPTIMIZE \\[0\\.001, 0\\.999\\]$/constexpr double K_H = 0.5637356391894794;      \\/\\/ OPTIMIZE [0.001, 0.999]/' -e 's/^constexpr short PURCHASE_TURN_LIMIT = .*;  \\/\\/ OPTIMIZE \\[790, 870\\]$/constexpr short PURCHASE_TURN_LIMIT = 841;  \\/\\/ OPTIMIZE [790, 870]/' -e 's/^constexpr int SUBSCORE3_TIGHT_TURN = .*;     \\/\\/ OPTIMIZE \\[0, 1\\]$/constexpr int SUBSCORE3_TIGHT_TURN = 0;     \\/\\/ OPTIMIZE [0, 1]/' -e 's/^constexpr int ROUGH_HASH = .*;      \\/\\/ OPTIMIZE {0, 0b00000001, 0b00010001, 0b00010011, 0b00110011}$/constexpr int ROUGH_HASH = 0b00000001;      \\/\\/ OPTIMIZE {0, 0b00000001, 0b00010001, 0b00010011, 0b00110011}/' -e 's/^constexpr double TARGET_BEAM_WIDTH_INCREASE_RATE = .*;      \\/\\/ OPTIMIZE \\[0\\.5, 1\\.0\\] LOG$/constexpr double TARGET_BEAM_WIDTH_INCREASE_RATE = 0.97702663021171;      \\/\\/ OPTIMIZE [0.5, 1.0] LOG/' -e 's/^constexpr double TARGET_BEAM_WIDTH_HALF_PROGRES_RATE = .*;  \\/\\/ OPTIMIZE \\[0\\.02, 0\\.98\\]$/constexpr double TARGET_BEAM_WIDTH_HALF_PROGRES_RATE = 0.7138511096047131;  \\/\\/ OPTIMIZE [0.02, 0.98]/'\n",
      "g++ 0_main.cpp -std=gnu++17 -O2 -DONLINE_JUDGE -o 0_main.cpp.out 2> /dev/null\n"
     ]
    },
    {
     "name": "stderr",
     "output_type": "stream",
     "text": [
      "\u001b[32m[I 2021-09-10 19:13:42,308]\u001b[0m Trial 69 finished with value: 931341772.0 and parameters: {'K_START': 0.09818679000964654, 'K_END': 0.03874881998772929, 'K_H': 0.33801848261745315, 'PURCHASE_TURN_LIMIT': 846, 'SUBSCORE3_TIGHT_TURN': 0, 'ROUGH_HASH': '0b00000001', 'TARGET_BEAM_WIDTH_INCREASE_RATE': 0.9845730871736745, 'TARGET_BEAM_WIDTH_HALF_PROGRES_RATE': 0.8773348046369308}. Best is trial 54 with value: 935102529.0.\u001b[0m\n"
     ]
    },
    {
     "name": "stdout",
     "output_type": "stream",
     "text": [
      "callback ok\n",
      "index_parallel=1\n",
      "sed -i 1_main.cpp -e 's/^constexpr double K_START = .*;  \\/\\/ OPTIMIZE \\[0\\.04, 0\\.12\\] LOG$/constexpr double K_START = 0.08548600098282008;  \\/\\/ OPTIMIZE [0.04, 0.12] LOG/' -e 's/^constexpr double K_END = .*;   \\/\\/ OPTIMIZE \\[0\\.03, 0\\.1\\] LOG$/constexpr double K_END = 0.05135626824625622;   \\/\\/ OPTIMIZE [0.03, 0.1] LOG/' -e 's/^constexpr double K_H = .*;      \\/\\/ OPTIMIZE \\[0\\.001, 0\\.999\\]$/constexpr double K_H = 0.12119817060059287;      \\/\\/ OPTIMIZE [0.001, 0.999]/' -e 's/^constexpr short PURCHASE_TURN_LIMIT = .*;  \\/\\/ OPTIMIZE \\[790, 870\\]$/constexpr short PURCHASE_TURN_LIMIT = 858;  \\/\\/ OPTIMIZE [790, 870]/' -e 's/^constexpr int SUBSCORE3_TIGHT_TURN = .*;     \\/\\/ OPTIMIZE \\[0, 1\\]$/constexpr int SUBSCORE3_TIGHT_TURN = 0;     \\/\\/ OPTIMIZE [0, 1]/' -e 's/^constexpr int ROUGH_HASH = .*;      \\/\\/ OPTIMIZE {0, 0b00000001, 0b00010001, 0b00010011, 0b00110011}$/constexpr int ROUGH_HASH = 0b00000001;      \\/\\/ OPTIMIZE {0, 0b00000001, 0b00010001, 0b00010011, 0b00110011}/' -e 's/^constexpr double TARGET_BEAM_WIDTH_INCREASE_RATE = .*;      \\/\\/ OPTIMIZE \\[0\\.5, 1\\.0\\] LOG$/constexpr double TARGET_BEAM_WIDTH_INCREASE_RATE = 0.9742496197296197;      \\/\\/ OPTIMIZE [0.5, 1.0] LOG/' -e 's/^constexpr double TARGET_BEAM_WIDTH_HALF_PROGRES_RATE = .*;  \\/\\/ OPTIMIZE \\[0\\.02, 0\\.98\\]$/constexpr double TARGET_BEAM_WIDTH_HALF_PROGRES_RATE = 0.7113633177190064;  \\/\\/ OPTIMIZE [0.02, 0.98]/'\n",
      "g++ 1_main.cpp -std=gnu++17 -O2 -DONLINE_JUDGE -o 1_main.cpp.out 2> /dev/null\n"
     ]
    },
    {
     "name": "stderr",
     "output_type": "stream",
     "text": [
      "\u001b[32m[I 2021-09-10 19:13:47,469]\u001b[0m Trial 70 finished with value: 928825119.0 and parameters: {'K_START': 0.08468122853853367, 'K_END': 0.03857616858159854, 'K_H': 0.5404031047129755, 'PURCHASE_TURN_LIMIT': 844, 'SUBSCORE3_TIGHT_TURN': 0, 'ROUGH_HASH': '0b00000001', 'TARGET_BEAM_WIDTH_INCREASE_RATE': 0.9870505223291098, 'TARGET_BEAM_WIDTH_HALF_PROGRES_RATE': 0.9416447164880402}. Best is trial 54 with value: 935102529.0.\u001b[0m\n"
     ]
    },
    {
     "name": "stdout",
     "output_type": "stream",
     "text": [
      "callback ok\n",
      "index_parallel=2\n",
      "sed -i 2_main.cpp -e 's/^constexpr double K_START = .*;  \\/\\/ OPTIMIZE \\[0\\.04, 0\\.12\\] LOG$/constexpr double K_START = 0.0963743352035753;  \\/\\/ OPTIMIZE [0.04, 0.12] LOG/' -e 's/^constexpr double K_END = .*;   \\/\\/ OPTIMIZE \\[0\\.03, 0\\.1\\] LOG$/constexpr double K_END = 0.042354500988793564;   \\/\\/ OPTIMIZE [0.03, 0.1] LOG/' -e 's/^constexpr double K_H = .*;      \\/\\/ OPTIMIZE \\[0\\.001, 0\\.999\\]$/constexpr double K_H = 0.41797211133595935;      \\/\\/ OPTIMIZE [0.001, 0.999]/' -e 's/^constexpr short PURCHASE_TURN_LIMIT = .*;  \\/\\/ OPTIMIZE \\[790, 870\\]$/constexpr short PURCHASE_TURN_LIMIT = 841;  \\/\\/ OPTIMIZE [790, 870]/' -e 's/^constexpr int SUBSCORE3_TIGHT_TURN = .*;     \\/\\/ OPTIMIZE \\[0, 1\\]$/constexpr int SUBSCORE3_TIGHT_TURN = 0;     \\/\\/ OPTIMIZE [0, 1]/' -e 's/^constexpr int ROUGH_HASH = .*;      \\/\\/ OPTIMIZE {0, 0b00000001, 0b00010001, 0b00010011, 0b00110011}$/constexpr int ROUGH_HASH = 0b00000001;      \\/\\/ OPTIMIZE {0, 0b00000001, 0b00010001, 0b00010011, 0b00110011}/' -e 's/^constexpr double TARGET_BEAM_WIDTH_INCREASE_RATE = .*;      \\/\\/ OPTIMIZE \\[0\\.5, 1\\.0\\] LOG$/constexpr double TARGET_BEAM_WIDTH_INCREASE_RATE = 0.9586404237575451;      \\/\\/ OPTIMIZE [0.5, 1.0] LOG/' -e 's/^constexpr double TARGET_BEAM_WIDTH_HALF_PROGRES_RATE = .*;  \\/\\/ OPTIMIZE \\[0\\.02, 0\\.98\\]$/constexpr double TARGET_BEAM_WIDTH_HALF_PROGRES_RATE = 0.843907068459891;  \\/\\/ OPTIMIZE [0.02, 0.98]/'\n",
      "g++ 2_main.cpp -std=gnu++17 -O2 -DONLINE_JUDGE -o 2_main.cpp.out 2> /dev/null\n"
     ]
    },
    {
     "name": "stderr",
     "output_type": "stream",
     "text": [
      "\u001b[32m[I 2021-09-10 19:13:56,358]\u001b[0m Trial 71 finished with value: 908679407.0 and parameters: {'K_START': 0.09846550192029904, 'K_END': 0.05187447388501492, 'K_H': 0.33104656551005823, 'PURCHASE_TURN_LIMIT': 843, 'SUBSCORE3_TIGHT_TURN': 0, 'ROUGH_HASH': '0b00000001', 'TARGET_BEAM_WIDTH_INCREASE_RATE': 0.9840465568060778, 'TARGET_BEAM_WIDTH_HALF_PROGRES_RATE': 0.9447220097572847}. Best is trial 54 with value: 935102529.0.\u001b[0m\n"
     ]
    },
    {
     "name": "stdout",
     "output_type": "stream",
     "text": [
      "callback ok\n",
      "index_parallel=3\n",
      "sed -i 3_main.cpp -e 's/^constexpr double K_START = .*;  \\/\\/ OPTIMIZE \\[0\\.04, 0\\.12\\] LOG$/constexpr double K_START = 0.09382091209234714;  \\/\\/ OPTIMIZE [0.04, 0.12] LOG/' -e 's/^constexpr double K_END = .*;   \\/\\/ OPTIMIZE \\[0\\.03, 0\\.1\\] LOG$/constexpr double K_END = 0.04226162215974753;   \\/\\/ OPTIMIZE [0.03, 0.1] LOG/' -e 's/^constexpr double K_H = .*;      \\/\\/ OPTIMIZE \\[0\\.001, 0\\.999\\]$/constexpr double K_H = 0.4189073974523644;      \\/\\/ OPTIMIZE [0.001, 0.999]/' -e 's/^constexpr short PURCHASE_TURN_LIMIT = .*;  \\/\\/ OPTIMIZE \\[790, 870\\]$/constexpr short PURCHASE_TURN_LIMIT = 835;  \\/\\/ OPTIMIZE [790, 870]/' -e 's/^constexpr int SUBSCORE3_TIGHT_TURN = .*;     \\/\\/ OPTIMIZE \\[0, 1\\]$/constexpr int SUBSCORE3_TIGHT_TURN = 0;     \\/\\/ OPTIMIZE [0, 1]/' -e 's/^constexpr int ROUGH_HASH = .*;      \\/\\/ OPTIMIZE {0, 0b00000001, 0b00010001, 0b00010011, 0b00110011}$/constexpr int ROUGH_HASH = 0b00000001;      \\/\\/ OPTIMIZE {0, 0b00000001, 0b00010001, 0b00010011, 0b00110011}/' -e 's/^constexpr double TARGET_BEAM_WIDTH_INCREASE_RATE = .*;      \\/\\/ OPTIMIZE \\[0\\.5, 1\\.0\\] LOG$/constexpr double TARGET_BEAM_WIDTH_INCREASE_RATE = 0.9646439592728664;      \\/\\/ OPTIMIZE [0.5, 1.0] LOG/' -e 's/^constexpr double TARGET_BEAM_WIDTH_HALF_PROGRES_RATE = .*;  \\/\\/ OPTIMIZE \\[0\\.02, 0\\.98\\]$/constexpr double TARGET_BEAM_WIDTH_HALF_PROGRES_RATE = 0.8327278056689478;  \\/\\/ OPTIMIZE [0.02, 0.98]/'\n",
      "g++ 3_main.cpp -std=gnu++17 -O2 -DONLINE_JUDGE -o 3_main.cpp.out 2> /dev/null\n"
     ]
    },
    {
     "name": "stderr",
     "output_type": "stream",
     "text": [
      "\u001b[32m[I 2021-09-10 19:15:51,990]\u001b[0m Trial 72 finished with value: 927433946.0 and parameters: {'K_START': 0.0851398360225488, 'K_END': 0.042120051532476305, 'K_H': 0.5637356391894794, 'PURCHASE_TURN_LIMIT': 841, 'SUBSCORE3_TIGHT_TURN': 0, 'ROUGH_HASH': '0b00000001', 'TARGET_BEAM_WIDTH_INCREASE_RATE': 0.97702663021171, 'TARGET_BEAM_WIDTH_HALF_PROGRES_RATE': 0.7138511096047131}. Best is trial 54 with value: 935102529.0.\u001b[0m\n"
     ]
    },
    {
     "name": "stdout",
     "output_type": "stream",
     "text": [
      "callback ok\n",
      "index_parallel=4\n",
      "sed -i 4_main.cpp -e 's/^constexpr double K_START = .*;  \\/\\/ OPTIMIZE \\[0\\.04, 0\\.12\\] LOG$/constexpr double K_START = 0.0962301754096167;  \\/\\/ OPTIMIZE [0.04, 0.12] LOG/' -e 's/^constexpr double K_END = .*;   \\/\\/ OPTIMIZE \\[0\\.03, 0\\.1\\] LOG$/constexpr double K_END = 0.044486249051573716;   \\/\\/ OPTIMIZE [0.03, 0.1] LOG/' -e 's/^constexpr double K_H = .*;      \\/\\/ OPTIMIZE \\[0\\.001, 0\\.999\\]$/constexpr double K_H = 0.4217521696265134;      \\/\\/ OPTIMIZE [0.001, 0.999]/' -e 's/^constexpr short PURCHASE_TURN_LIMIT = .*;  \\/\\/ OPTIMIZE \\[790, 870\\]$/constexpr short PURCHASE_TURN_LIMIT = 836;  \\/\\/ OPTIMIZE [790, 870]/' -e 's/^constexpr int SUBSCORE3_TIGHT_TURN = .*;     \\/\\/ OPTIMIZE \\[0, 1\\]$/constexpr int SUBSCORE3_TIGHT_TURN = 0;     \\/\\/ OPTIMIZE [0, 1]/' -e 's/^constexpr int ROUGH_HASH = .*;      \\/\\/ OPTIMIZE {0, 0b00000001, 0b00010001, 0b00010011, 0b00110011}$/constexpr int ROUGH_HASH = 0b00000001;      \\/\\/ OPTIMIZE {0, 0b00000001, 0b00010001, 0b00010011, 0b00110011}/' -e 's/^constexpr double TARGET_BEAM_WIDTH_INCREASE_RATE = .*;      \\/\\/ OPTIMIZE \\[0\\.5, 1\\.0\\] LOG$/constexpr double TARGET_BEAM_WIDTH_INCREASE_RATE = 0.9647251170013762;      \\/\\/ OPTIMIZE [0.5, 1.0] LOG/' -e 's/^constexpr double TARGET_BEAM_WIDTH_HALF_PROGRES_RATE = .*;  \\/\\/ OPTIMIZE \\[0\\.02, 0\\.98\\]$/constexpr double TARGET_BEAM_WIDTH_HALF_PROGRES_RATE = 0.8387759528535427;  \\/\\/ OPTIMIZE [0.02, 0.98]/'\n",
      "g++ 4_main.cpp -std=gnu++17 -O2 -DONLINE_JUDGE -o 4_main.cpp.out 2> /dev/null\n"
     ]
    },
    {
     "name": "stderr",
     "output_type": "stream",
     "text": [
      "\u001b[32m[I 2021-09-10 19:16:14,969]\u001b[0m Trial 73 finished with value: 927706930.0 and parameters: {'K_START': 0.08548600098282008, 'K_END': 0.05135626824625622, 'K_H': 0.12119817060059287, 'PURCHASE_TURN_LIMIT': 858, 'SUBSCORE3_TIGHT_TURN': 0, 'ROUGH_HASH': '0b00000001', 'TARGET_BEAM_WIDTH_INCREASE_RATE': 0.9742496197296197, 'TARGET_BEAM_WIDTH_HALF_PROGRES_RATE': 0.7113633177190064}. Best is trial 54 with value: 935102529.0.\u001b[0m\n"
     ]
    },
    {
     "name": "stdout",
     "output_type": "stream",
     "text": [
      "callback ok\n",
      "index_parallel=5\n",
      "sed -i 5_main.cpp -e 's/^constexpr double K_START = .*;  \\/\\/ OPTIMIZE \\[0\\.04, 0\\.12\\] LOG$/constexpr double K_START = 0.09632187033187238;  \\/\\/ OPTIMIZE [0.04, 0.12] LOG/' -e 's/^constexpr double K_END = .*;   \\/\\/ OPTIMIZE \\[0\\.03, 0\\.1\\] LOG$/constexpr double K_END = 0.04429163922111535;   \\/\\/ OPTIMIZE [0.03, 0.1] LOG/' -e 's/^constexpr double K_H = .*;      \\/\\/ OPTIMIZE \\[0\\.001, 0\\.999\\]$/constexpr double K_H = 0.41845831264698974;      \\/\\/ OPTIMIZE [0.001, 0.999]/' -e 's/^constexpr short PURCHASE_TURN_LIMIT = .*;  \\/\\/ OPTIMIZE \\[790, 870\\]$/constexpr short PURCHASE_TURN_LIMIT = 835;  \\/\\/ OPTIMIZE [790, 870]/' -e 's/^constexpr int SUBSCORE3_TIGHT_TURN = .*;     \\/\\/ OPTIMIZE \\[0, 1\\]$/constexpr int SUBSCORE3_TIGHT_TURN = 0;     \\/\\/ OPTIMIZE [0, 1]/' -e 's/^constexpr int ROUGH_HASH = .*;      \\/\\/ OPTIMIZE {0, 0b00000001, 0b00010001, 0b00010011, 0b00110011}$/constexpr int ROUGH_HASH = 0b00000001;      \\/\\/ OPTIMIZE {0, 0b00000001, 0b00010001, 0b00010011, 0b00110011}/' -e 's/^constexpr double TARGET_BEAM_WIDTH_INCREASE_RATE = .*;      \\/\\/ OPTIMIZE \\[0\\.5, 1\\.0\\] LOG$/constexpr double TARGET_BEAM_WIDTH_INCREASE_RATE = 0.9410180959285613;      \\/\\/ OPTIMIZE [0.5, 1.0] LOG/' -e 's/^constexpr double TARGET_BEAM_WIDTH_HALF_PROGRES_RATE = .*;  \\/\\/ OPTIMIZE \\[0\\.02, 0\\.98\\]$/constexpr double TARGET_BEAM_WIDTH_HALF_PROGRES_RATE = 0.8497725203922646;  \\/\\/ OPTIMIZE [0.02, 0.98]/'\n",
      "g++ 5_main.cpp -std=gnu++17 -O2 -DONLINE_JUDGE -o 5_main.cpp.out 2> /dev/null\n"
     ]
    },
    {
     "name": "stderr",
     "output_type": "stream",
     "text": [
      "\u001b[32m[I 2021-09-10 19:16:18,680]\u001b[0m Trial 74 finished with value: 929502133.0 and parameters: {'K_START': 0.0963743352035753, 'K_END': 0.042354500988793564, 'K_H': 0.41797211133595935, 'PURCHASE_TURN_LIMIT': 841, 'SUBSCORE3_TIGHT_TURN': 0, 'ROUGH_HASH': '0b00000001', 'TARGET_BEAM_WIDTH_INCREASE_RATE': 0.9586404237575451, 'TARGET_BEAM_WIDTH_HALF_PROGRES_RATE': 0.843907068459891}. Best is trial 54 with value: 935102529.0.\u001b[0m\n"
     ]
    },
    {
     "name": "stdout",
     "output_type": "stream",
     "text": [
      "callback ok\n",
      "index_parallel=6\n",
      "sed -i 6_main.cpp -e 's/^constexpr double K_START = .*;  \\/\\/ OPTIMIZE \\[0\\.04, 0\\.12\\] LOG$/constexpr double K_START = 0.06435615831219382;  \\/\\/ OPTIMIZE [0.04, 0.12] LOG/' -e 's/^constexpr double K_END = .*;   \\/\\/ OPTIMIZE \\[0\\.03, 0\\.1\\] LOG$/constexpr double K_END = 0.04429125932390635;   \\/\\/ OPTIMIZE [0.03, 0.1] LOG/' -e 's/^constexpr double K_H = .*;      \\/\\/ OPTIMIZE \\[0\\.001, 0\\.999\\]$/constexpr double K_H = 0.4784040543312461;      \\/\\/ OPTIMIZE [0.001, 0.999]/' -e 's/^constexpr short PURCHASE_TURN_LIMIT = .*;  \\/\\/ OPTIMIZE \\[790, 870\\]$/constexpr short PURCHASE_TURN_LIMIT = 835;  \\/\\/ OPTIMIZE [790, 870]/' -e 's/^constexpr int SUBSCORE3_TIGHT_TURN = .*;     \\/\\/ OPTIMIZE \\[0, 1\\]$/constexpr int SUBSCORE3_TIGHT_TURN = 0;     \\/\\/ OPTIMIZE [0, 1]/' -e 's/^constexpr int ROUGH_HASH = .*;      \\/\\/ OPTIMIZE {0, 0b00000001, 0b00010001, 0b00010011, 0b00110011}$/constexpr int ROUGH_HASH = 0b00000001;      \\/\\/ OPTIMIZE {0, 0b00000001, 0b00010001, 0b00010011, 0b00110011}/' -e 's/^constexpr double TARGET_BEAM_WIDTH_INCREASE_RATE = .*;      \\/\\/ OPTIMIZE \\[0\\.5, 1\\.0\\] LOG$/constexpr double TARGET_BEAM_WIDTH_INCREASE_RATE = 0.8683707599314083;      \\/\\/ OPTIMIZE [0.5, 1.0] LOG/' -e 's/^constexpr double TARGET_BEAM_WIDTH_HALF_PROGRES_RATE = .*;  \\/\\/ OPTIMIZE \\[0\\.02, 0\\.98\\]$/constexpr double TARGET_BEAM_WIDTH_HALF_PROGRES_RATE = 0.8567990699495472;  \\/\\/ OPTIMIZE [0.02, 0.98]/'\n",
      "g++ 6_main.cpp -std=gnu++17 -O2 -DONLINE_JUDGE -o 6_main.cpp.out 2> /dev/null\n"
     ]
    },
    {
     "name": "stderr",
     "output_type": "stream",
     "text": [
      "\u001b[32m[I 2021-09-10 19:16:26,062]\u001b[0m Trial 75 finished with value: 929162217.0 and parameters: {'K_START': 0.09382091209234714, 'K_END': 0.04226162215974753, 'K_H': 0.4189073974523644, 'PURCHASE_TURN_LIMIT': 835, 'SUBSCORE3_TIGHT_TURN': 0, 'ROUGH_HASH': '0b00000001', 'TARGET_BEAM_WIDTH_INCREASE_RATE': 0.9646439592728664, 'TARGET_BEAM_WIDTH_HALF_PROGRES_RATE': 0.8327278056689478}. Best is trial 54 with value: 935102529.0.\u001b[0m\n"
     ]
    },
    {
     "name": "stdout",
     "output_type": "stream",
     "text": [
      "callback ok\n",
      "index_parallel=7\n",
      "sed -i 7_main.cpp -e 's/^constexpr double K_START = .*;  \\/\\/ OPTIMIZE \\[0\\.04, 0\\.12\\] LOG$/constexpr double K_START = 0.06709006715643195;  \\/\\/ OPTIMIZE [0.04, 0.12] LOG/' -e 's/^constexpr double K_END = .*;   \\/\\/ OPTIMIZE \\[0\\.03, 0\\.1\\] LOG$/constexpr double K_END = 0.044101830671716837;   \\/\\/ OPTIMIZE [0.03, 0.1] LOG/' -e 's/^constexpr double K_H = .*;      \\/\\/ OPTIMIZE \\[0\\.001, 0\\.999\\]$/constexpr double K_H = 0.48889935722839184;      \\/\\/ OPTIMIZE [0.001, 0.999]/' -e 's/^constexpr short PURCHASE_TURN_LIMIT = .*;  \\/\\/ OPTIMIZE \\[790, 870\\]$/constexpr short PURCHASE_TURN_LIMIT = 853;  \\/\\/ OPTIMIZE [790, 870]/' -e 's/^constexpr int SUBSCORE3_TIGHT_TURN = .*;     \\/\\/ OPTIMIZE \\[0, 1\\]$/constexpr int SUBSCORE3_TIGHT_TURN = 0;     \\/\\/ OPTIMIZE [0, 1]/' -e 's/^constexpr int ROUGH_HASH = .*;      \\/\\/ OPTIMIZE {0, 0b00000001, 0b00010001, 0b00010011, 0b00110011}$/constexpr int ROUGH_HASH = 0b00110011;      \\/\\/ OPTIMIZE {0, 0b00000001, 0b00010001, 0b00010011, 0b00110011}/' -e 's/^constexpr double TARGET_BEAM_WIDTH_INCREASE_RATE = .*;      \\/\\/ OPTIMIZE \\[0\\.5, 1\\.0\\] LOG$/constexpr double TARGET_BEAM_WIDTH_INCREASE_RATE = 0.9397243905220528;      \\/\\/ OPTIMIZE [0.5, 1.0] LOG/' -e 's/^constexpr double TARGET_BEAM_WIDTH_HALF_PROGRES_RATE = .*;  \\/\\/ OPTIMIZE \\[0\\.02, 0\\.98\\]$/constexpr double TARGET_BEAM_WIDTH_HALF_PROGRES_RATE = 0.86523928580854;  \\/\\/ OPTIMIZE [0.02, 0.98]/'\n",
      "g++ 7_main.cpp -std=gnu++17 -O2 -DONLINE_JUDGE -o 7_main.cpp.out 2> /dev/null\n"
     ]
    },
    {
     "name": "stderr",
     "output_type": "stream",
     "text": [
      "\u001b[32m[I 2021-09-10 19:18:21,092]\u001b[0m Trial 76 finished with value: 929197609.0 and parameters: {'K_START': 0.0962301754096167, 'K_END': 0.044486249051573716, 'K_H': 0.4217521696265134, 'PURCHASE_TURN_LIMIT': 836, 'SUBSCORE3_TIGHT_TURN': 0, 'ROUGH_HASH': '0b00000001', 'TARGET_BEAM_WIDTH_INCREASE_RATE': 0.9647251170013762, 'TARGET_BEAM_WIDTH_HALF_PROGRES_RATE': 0.8387759528535427}. Best is trial 54 with value: 935102529.0.\u001b[0m\n"
     ]
    },
    {
     "name": "stdout",
     "output_type": "stream",
     "text": [
      "callback ok\n",
      "index_parallel=8\n",
      "sed -i 8_main.cpp -e 's/^constexpr double K_START = .*;  \\/\\/ OPTIMIZE \\[0\\.04, 0\\.12\\] LOG$/constexpr double K_START = 0.06652217238737032;  \\/\\/ OPTIMIZE [0.04, 0.12] LOG/' -e 's/^constexpr double K_END = .*;   \\/\\/ OPTIMIZE \\[0\\.03, 0\\.1\\] LOG$/constexpr double K_END = 0.06934575834215478;   \\/\\/ OPTIMIZE [0.03, 0.1] LOG/' -e 's/^constexpr double K_H = .*;      \\/\\/ OPTIMIZE \\[0\\.001, 0\\.999\\]$/constexpr double K_H = 0.24356920842996005;      \\/\\/ OPTIMIZE [0.001, 0.999]/' -e 's/^constexpr short PURCHASE_TURN_LIMIT = .*;  \\/\\/ OPTIMIZE \\[790, 870\\]$/constexpr short PURCHASE_TURN_LIMIT = 831;  \\/\\/ OPTIMIZE [790, 870]/' -e 's/^constexpr int SUBSCORE3_TIGHT_TURN = .*;     \\/\\/ OPTIMIZE \\[0, 1\\]$/constexpr int SUBSCORE3_TIGHT_TURN = 0;     \\/\\/ OPTIMIZE [0, 1]/' -e 's/^constexpr int ROUGH_HASH = .*;      \\/\\/ OPTIMIZE {0, 0b00000001, 0b00010001, 0b00010011, 0b00110011}$/constexpr int ROUGH_HASH = 0b00110011;      \\/\\/ OPTIMIZE {0, 0b00000001, 0b00010001, 0b00010011, 0b00110011}/' -e 's/^constexpr double TARGET_BEAM_WIDTH_INCREASE_RATE = .*;      \\/\\/ OPTIMIZE \\[0\\.5, 1\\.0\\] LOG$/constexpr double TARGET_BEAM_WIDTH_INCREASE_RATE = 0.9406182884126719;      \\/\\/ OPTIMIZE [0.5, 1.0] LOG/' -e 's/^constexpr double TARGET_BEAM_WIDTH_HALF_PROGRES_RATE = .*;  \\/\\/ OPTIMIZE \\[0\\.02, 0\\.98\\]$/constexpr double TARGET_BEAM_WIDTH_HALF_PROGRES_RATE = 0.6069228676304375;  \\/\\/ OPTIMIZE [0.02, 0.98]/'\n",
      "g++ 8_main.cpp -std=gnu++17 -O2 -DONLINE_JUDGE -o 8_main.cpp.out 2> /dev/null\n"
     ]
    },
    {
     "name": "stderr",
     "output_type": "stream",
     "text": [
      "\u001b[32m[I 2021-09-10 19:18:45,641]\u001b[0m Trial 77 finished with value: 928185174.0 and parameters: {'K_START': 0.09632187033187238, 'K_END': 0.04429163922111535, 'K_H': 0.41845831264698974, 'PURCHASE_TURN_LIMIT': 835, 'SUBSCORE3_TIGHT_TURN': 0, 'ROUGH_HASH': '0b00000001', 'TARGET_BEAM_WIDTH_INCREASE_RATE': 0.9410180959285613, 'TARGET_BEAM_WIDTH_HALF_PROGRES_RATE': 0.8497725203922646}. Best is trial 54 with value: 935102529.0.\u001b[0m\n"
     ]
    },
    {
     "name": "stdout",
     "output_type": "stream",
     "text": [
      "callback ok\n",
      "index_parallel=9\n",
      "sed -i 9_main.cpp -e 's/^constexpr double K_START = .*;  \\/\\/ OPTIMIZE \\[0\\.04, 0\\.12\\] LOG$/constexpr double K_START = 0.06612483950061963;  \\/\\/ OPTIMIZE [0.04, 0.12] LOG/' -e 's/^constexpr double K_END = .*;   \\/\\/ OPTIMIZE \\[0\\.03, 0\\.1\\] LOG$/constexpr double K_END = 0.03987085923137488;   \\/\\/ OPTIMIZE [0.03, 0.1] LOG/' -e 's/^constexpr double K_H = .*;      \\/\\/ OPTIMIZE \\[0\\.001, 0\\.999\\]$/constexpr double K_H = 0.4878669871757085;      \\/\\/ OPTIMIZE [0.001, 0.999]/' -e 's/^constexpr short PURCHASE_TURN_LIMIT = .*;  \\/\\/ OPTIMIZE \\[790, 870\\]$/constexpr short PURCHASE_TURN_LIMIT = 839;  \\/\\/ OPTIMIZE [790, 870]/' -e 's/^constexpr int SUBSCORE3_TIGHT_TURN = .*;     \\/\\/ OPTIMIZE \\[0, 1\\]$/constexpr int SUBSCORE3_TIGHT_TURN = 0;     \\/\\/ OPTIMIZE [0, 1]/' -e 's/^constexpr int ROUGH_HASH = .*;      \\/\\/ OPTIMIZE {0, 0b00000001, 0b00010001, 0b00010011, 0b00110011}$/constexpr int ROUGH_HASH = 0b00110011;      \\/\\/ OPTIMIZE {0, 0b00000001, 0b00010001, 0b00010011, 0b00110011}/' -e 's/^constexpr double TARGET_BEAM_WIDTH_INCREASE_RATE = .*;      \\/\\/ OPTIMIZE \\[0\\.5, 1\\.0\\] LOG$/constexpr double TARGET_BEAM_WIDTH_INCREASE_RATE = 0.8668351021456372;      \\/\\/ OPTIMIZE [0.5, 1.0] LOG/' -e 's/^constexpr double TARGET_BEAM_WIDTH_HALF_PROGRES_RATE = .*;  \\/\\/ OPTIMIZE \\[0\\.02, 0\\.98\\]$/constexpr double TARGET_BEAM_WIDTH_HALF_PROGRES_RATE = 0.6090232163283534;  \\/\\/ OPTIMIZE [0.02, 0.98]/'\n",
      "g++ 9_main.cpp -std=gnu++17 -O2 -DONLINE_JUDGE -o 9_main.cpp.out 2> /dev/null\n"
     ]
    },
    {
     "name": "stderr",
     "output_type": "stream",
     "text": [
      "\u001b[32m[I 2021-09-10 19:18:50,372]\u001b[0m Trial 79 finished with value: 923177921.0 and parameters: {'K_START': 0.06709006715643195, 'K_END': 0.044101830671716837, 'K_H': 0.48889935722839184, 'PURCHASE_TURN_LIMIT': 853, 'SUBSCORE3_TIGHT_TURN': 0, 'ROUGH_HASH': '0b00110011', 'TARGET_BEAM_WIDTH_INCREASE_RATE': 0.9397243905220528, 'TARGET_BEAM_WIDTH_HALF_PROGRES_RATE': 0.86523928580854}. Best is trial 54 with value: 935102529.0.\u001b[0m\n"
     ]
    },
    {
     "name": "stdout",
     "output_type": "stream",
     "text": [
      "callback ok\n",
      "index_parallel=10\n"
     ]
    },
    {
     "name": "stderr",
     "output_type": "stream",
     "text": [
      "\u001b[32m[I 2021-09-10 19:18:51,512]\u001b[0m Trial 78 finished with value: 933270933.0 and parameters: {'K_START': 0.06435615831219382, 'K_END': 0.04429125932390635, 'K_H': 0.4784040543312461, 'PURCHASE_TURN_LIMIT': 835, 'SUBSCORE3_TIGHT_TURN': 0, 'ROUGH_HASH': '0b00000001', 'TARGET_BEAM_WIDTH_INCREASE_RATE': 0.8683707599314083, 'TARGET_BEAM_WIDTH_HALF_PROGRES_RATE': 0.8567990699495472}. Best is trial 54 with value: 935102529.0.\u001b[0m\n"
     ]
    },
    {
     "name": "stdout",
     "output_type": "stream",
     "text": [
      "callback ok\n",
      "index_parallel=11\n",
      "sed -i 10_main.cpp -e 's/^constexpr double K_START = .*;  \\/\\/ OPTIMIZE \\[0\\.04, 0\\.12\\] LOG$/constexpr double K_START = 0.10196668864478074;  \\/\\/ OPTIMIZE [0.04, 0.12] LOG/' -e 's/^constexpr double K_END = .*;   \\/\\/ OPTIMIZE \\[0\\.03, 0\\.1\\] LOG$/constexpr double K_END = 0.04818841977382124;   \\/\\/ OPTIMIZE [0.03, 0.1] LOG/' -e 's/^constexpr double K_H = .*;      \\/\\/ OPTIMIZE \\[0\\.001, 0\\.999\\]$/constexpr double K_H = 0.25759540156594435;      \\/\\/ OPTIMIZE [0.001, 0.999]/' -e 's/^constexpr short PURCHASE_TURN_LIMIT = .*;  \\/\\/ OPTIMIZE \\[790, 870\\]$/constexpr short PURCHASE_TURN_LIMIT = 831;  \\/\\/ OPTIMIZE [790, 870]/' -e 's/^constexpr int SUBSCORE3_TIGHT_TURN = .*;     \\/\\/ OPTIMIZE \\[0, 1\\]$/constexpr int SUBSCORE3_TIGHT_TURN = 0;     \\/\\/ OPTIMIZE [0, 1]/' -e 's/^constexpr int ROUGH_HASH = .*;      \\/\\/ OPTIMIZE {0, 0b00000001, 0b00010001, 0b00010011, 0b00110011}$/constexpr int ROUGH_HASH = 0b00010001;      \\/\\/ OPTIMIZE {0, 0b00000001, 0b00010001, 0b00010011, 0b00110011}/' -e 's/^constexpr double TARGET_BEAM_WIDTH_INCREASE_RATE = .*;      \\/\\/ OPTIMIZE \\[0\\.5, 1\\.0\\] LOG$/constexpr double TARGET_BEAM_WIDTH_INCREASE_RATE = 0.8646246346620594;      \\/\\/ OPTIMIZE [0.5, 1.0] LOG/' -e 's/^constexpr double TARGET_BEAM_WIDTH_HALF_PROGRES_RATE = .*;  \\/\\/ OPTIMIZE \\[0\\.02, 0\\.98\\]$/constexpr double TARGET_BEAM_WIDTH_HALF_PROGRES_RATE = 0.17137042018921178;  \\/\\/ OPTIMIZE [0.02, 0.98]/'\n",
      "g++ 10_main.cpp -std=gnu++17 -O2 -DONLINE_JUDGE -o 10_main.cpp.out 2> /dev/null\n",
      "sed -i 11_main.cpp -e 's/^constexpr double K_START = .*;  \\/\\/ OPTIMIZE \\[0\\.04, 0\\.12\\] LOG$/constexpr double K_START = 0.1093514573775813;  \\/\\/ OPTIMIZE [0.04, 0.12] LOG/' -e 's/^constexpr double K_END = .*;   \\/\\/ OPTIMIZE \\[0\\.03, 0\\.1\\] LOG$/constexpr double K_END = 0.04789363362189248;   \\/\\/ OPTIMIZE [0.03, 0.1] LOG/' -e 's/^constexpr double K_H = .*;      \\/\\/ OPTIMIZE \\[0\\.001, 0\\.999\\]$/constexpr double K_H = 0.22929992144598205;      \\/\\/ OPTIMIZE [0.001, 0.999]/' -e 's/^constexpr short PURCHASE_TURN_LIMIT = .*;  \\/\\/ OPTIMIZE \\[790, 870\\]$/constexpr short PURCHASE_TURN_LIMIT = 832;  \\/\\/ OPTIMIZE [790, 870]/' -e 's/^constexpr int SUBSCORE3_TIGHT_TURN = .*;     \\/\\/ OPTIMIZE \\[0, 1\\]$/constexpr int SUBSCORE3_TIGHT_TURN = 0;     \\/\\/ OPTIMIZE [0, 1]/' -e 's/^constexpr int ROUGH_HASH = .*;      \\/\\/ OPTIMIZE {0, 0b00000001, 0b00010001, 0b00010011, 0b00110011}$/constexpr int ROUGH_HASH = 0b00010001;      \\/\\/ OPTIMIZE {0, 0b00000001, 0b00010001, 0b00010011, 0b00110011}/' -e 's/^constexpr double TARGET_BEAM_WIDTH_INCREASE_RATE = .*;      \\/\\/ OPTIMIZE \\[0\\.5, 1\\.0\\] LOG$/constexpr double TARGET_BEAM_WIDTH_INCREASE_RATE = 0.8655874524030028;      \\/\\/ OPTIMIZE [0.5, 1.0] LOG/' -e 's/^constexpr double TARGET_BEAM_WIDTH_HALF_PROGRES_RATE = .*;  \\/\\/ OPTIMIZE \\[0\\.02, 0\\.98\\]$/constexpr double TARGET_BEAM_WIDTH_HALF_PROGRES_RATE = 0.14374003484205577;  \\/\\/ OPTIMIZE [0.02, 0.98]/'\n",
      "g++ 11_main.cpp -std=gnu++17 -O2 -DONLINE_JUDGE -o 11_main.cpp.out 2> /dev/null\n"
     ]
    },
    {
     "name": "stderr",
     "output_type": "stream",
     "text": [
      "\u001b[32m[I 2021-09-10 19:20:42,213]\u001b[0m Trial 80 finished with value: 926166687.0 and parameters: {'K_START': 0.06652217238737032, 'K_END': 0.06934575834215478, 'K_H': 0.24356920842996005, 'PURCHASE_TURN_LIMIT': 831, 'SUBSCORE3_TIGHT_TURN': 0, 'ROUGH_HASH': '0b00110011', 'TARGET_BEAM_WIDTH_INCREASE_RATE': 0.9406182884126719, 'TARGET_BEAM_WIDTH_HALF_PROGRES_RATE': 0.6069228676304375}. Best is trial 54 with value: 935102529.0.\u001b[0m\n"
     ]
    },
    {
     "name": "stdout",
     "output_type": "stream",
     "text": [
      "callback ok\n",
      "index_parallel=0\n",
      "sed -i 0_main.cpp -e 's/^constexpr double K_START = .*;  \\/\\/ OPTIMIZE \\[0\\.04, 0\\.12\\] LOG$/constexpr double K_START = 0.06329288333233447;  \\/\\/ OPTIMIZE [0.04, 0.12] LOG/' -e 's/^constexpr double K_END = .*;   \\/\\/ OPTIMIZE \\[0\\.03, 0\\.1\\] LOG$/constexpr double K_END = 0.047887879509700394;   \\/\\/ OPTIMIZE [0.03, 0.1] LOG/' -e 's/^constexpr double K_H = .*;      \\/\\/ OPTIMIZE \\[0\\.001, 0\\.999\\]$/constexpr double K_H = 0.4792719331791982;      \\/\\/ OPTIMIZE [0.001, 0.999]/' -e 's/^constexpr short PURCHASE_TURN_LIMIT = .*;  \\/\\/ OPTIMIZE \\[790, 870\\]$/constexpr short PURCHASE_TURN_LIMIT = 838;  \\/\\/ OPTIMIZE [790, 870]/' -e 's/^constexpr int SUBSCORE3_TIGHT_TURN = .*;     \\/\\/ OPTIMIZE \\[0, 1\\]$/constexpr int SUBSCORE3_TIGHT_TURN = 0;     \\/\\/ OPTIMIZE [0, 1]/' -e 's/^constexpr int ROUGH_HASH = .*;      \\/\\/ OPTIMIZE {0, 0b00000001, 0b00010001, 0b00010011, 0b00110011}$/constexpr int ROUGH_HASH = 0b00000001;      \\/\\/ OPTIMIZE {0, 0b00000001, 0b00010001, 0b00010011, 0b00110011}/' -e 's/^constexpr double TARGET_BEAM_WIDTH_INCREASE_RATE = .*;      \\/\\/ OPTIMIZE \\[0\\.5, 1\\.0\\] LOG$/constexpr double TARGET_BEAM_WIDTH_INCREASE_RATE = 0.869169837633319;      \\/\\/ OPTIMIZE [0.5, 1.0] LOG/' -e 's/^constexpr double TARGET_BEAM_WIDTH_HALF_PROGRES_RATE = .*;  \\/\\/ OPTIMIZE \\[0\\.02, 0\\.98\\]$/constexpr double TARGET_BEAM_WIDTH_HALF_PROGRES_RATE = 0.77611975942279;  \\/\\/ OPTIMIZE [0.02, 0.98]/'\n",
      "g++ 0_main.cpp -std=gnu++17 -O2 -DONLINE_JUDGE -o 0_main.cpp.out 2> /dev/null\n"
     ]
    },
    {
     "name": "stderr",
     "output_type": "stream",
     "text": [
      "\u001b[32m[I 2021-09-10 19:21:07,717]\u001b[0m Trial 81 finished with value: 924392158.0 and parameters: {'K_START': 0.06612483950061963, 'K_END': 0.03987085923137488, 'K_H': 0.4878669871757085, 'PURCHASE_TURN_LIMIT': 839, 'SUBSCORE3_TIGHT_TURN': 0, 'ROUGH_HASH': '0b00110011', 'TARGET_BEAM_WIDTH_INCREASE_RATE': 0.8668351021456372, 'TARGET_BEAM_WIDTH_HALF_PROGRES_RATE': 0.6090232163283534}. Best is trial 54 with value: 935102529.0.\u001b[0m\n"
     ]
    },
    {
     "name": "stdout",
     "output_type": "stream",
     "text": [
      "callback ok\n",
      "index_parallel=1\n",
      "sed -i 1_main.cpp -e 's/^constexpr double K_START = .*;  \\/\\/ OPTIMIZE \\[0\\.04, 0\\.12\\] LOG$/constexpr double K_START = 0.10922465469167537;  \\/\\/ OPTIMIZE [0.04, 0.12] LOG/' -e 's/^constexpr double K_END = .*;   \\/\\/ OPTIMIZE \\[0\\.03, 0\\.1\\] LOG$/constexpr double K_END = 0.03597436656930431;   \\/\\/ OPTIMIZE [0.03, 0.1] LOG/' -e 's/^constexpr double K_H = .*;      \\/\\/ OPTIMIZE \\[0\\.001, 0\\.999\\]$/constexpr double K_H = 0.5562600194319514;      \\/\\/ OPTIMIZE [0.001, 0.999]/' -e 's/^constexpr short PURCHASE_TURN_LIMIT = .*;  \\/\\/ OPTIMIZE \\[790, 870\\]$/constexpr short PURCHASE_TURN_LIMIT = 842;  \\/\\/ OPTIMIZE [790, 870]/' -e 's/^constexpr int SUBSCORE3_TIGHT_TURN = .*;     \\/\\/ OPTIMIZE \\[0, 1\\]$/constexpr int SUBSCORE3_TIGHT_TURN = 0;     \\/\\/ OPTIMIZE [0, 1]/' -e 's/^constexpr int ROUGH_HASH = .*;      \\/\\/ OPTIMIZE {0, 0b00000001, 0b00010001, 0b00010011, 0b00110011}$/constexpr int ROUGH_HASH = 0b00000001;      \\/\\/ OPTIMIZE {0, 0b00000001, 0b00010001, 0b00010011, 0b00110011}/' -e 's/^constexpr double TARGET_BEAM_WIDTH_INCREASE_RATE = .*;      \\/\\/ OPTIMIZE \\[0\\.5, 1\\.0\\] LOG$/constexpr double TARGET_BEAM_WIDTH_INCREASE_RATE = 0.9059404119038033;      \\/\\/ OPTIMIZE [0.5, 1.0] LOG/' -e 's/^constexpr double TARGET_BEAM_WIDTH_HALF_PROGRES_RATE = .*;  \\/\\/ OPTIMIZE \\[0\\.02, 0\\.98\\]$/constexpr double TARGET_BEAM_WIDTH_HALF_PROGRES_RATE = 0.7791986424346733;  \\/\\/ OPTIMIZE [0.02, 0.98]/'\n",
      "g++ 1_main.cpp -std=gnu++17 -O2 -DONLINE_JUDGE -o 1_main.cpp.out 2> /dev/null\n"
     ]
    },
    {
     "name": "stderr",
     "output_type": "stream",
     "text": [
      "\u001b[32m[I 2021-09-10 19:21:18,061]\u001b[0m Trial 82 finished with value: 663129852.0 and parameters: {'K_START': 0.10196668864478074, 'K_END': 0.04818841977382124, 'K_H': 0.25759540156594435, 'PURCHASE_TURN_LIMIT': 831, 'SUBSCORE3_TIGHT_TURN': 0, 'ROUGH_HASH': '0b00010001', 'TARGET_BEAM_WIDTH_INCREASE_RATE': 0.8646246346620594, 'TARGET_BEAM_WIDTH_HALF_PROGRES_RATE': 0.17137042018921178}. Best is trial 54 with value: 935102529.0.\u001b[0m\n"
     ]
    },
    {
     "name": "stdout",
     "output_type": "stream",
     "text": [
      "callback ok\n",
      "index_parallel=2\n",
      "sed -i 2_main.cpp -e 's/^constexpr double K_START = .*;  \\/\\/ OPTIMIZE \\[0\\.04, 0\\.12\\] LOG$/constexpr double K_START = 0.10952146197728245;  \\/\\/ OPTIMIZE [0.04, 0.12] LOG/' -e 's/^constexpr double K_END = .*;   \\/\\/ OPTIMIZE \\[0\\.03, 0\\.1\\] LOG$/constexpr double K_END = 0.03688043626717467;   \\/\\/ OPTIMIZE [0.03, 0.1] LOG/' -e 's/^constexpr double K_H = .*;      \\/\\/ OPTIMIZE \\[0\\.001, 0\\.999\\]$/constexpr double K_H = 0.1797095982030723;      \\/\\/ OPTIMIZE [0.001, 0.999]/' -e 's/^constexpr short PURCHASE_TURN_LIMIT = .*;  \\/\\/ OPTIMIZE \\[790, 870\\]$/constexpr short PURCHASE_TURN_LIMIT = 842;  \\/\\/ OPTIMIZE [790, 870]/' -e 's/^constexpr int SUBSCORE3_TIGHT_TURN = .*;     \\/\\/ OPTIMIZE \\[0, 1\\]$/constexpr int SUBSCORE3_TIGHT_TURN = 0;     \\/\\/ OPTIMIZE [0, 1]/' -e 's/^constexpr int ROUGH_HASH = .*;      \\/\\/ OPTIMIZE {0, 0b00000001, 0b00010001, 0b00010011, 0b00110011}$/constexpr int ROUGH_HASH = 0b00000001;      \\/\\/ OPTIMIZE {0, 0b00000001, 0b00010001, 0b00010011, 0b00110011}/' -e 's/^constexpr double TARGET_BEAM_WIDTH_INCREASE_RATE = .*;      \\/\\/ OPTIMIZE \\[0\\.5, 1\\.0\\] LOG$/constexpr double TARGET_BEAM_WIDTH_INCREASE_RATE = 0.8285693474665189;      \\/\\/ OPTIMIZE [0.5, 1.0] LOG/' -e 's/^constexpr double TARGET_BEAM_WIDTH_HALF_PROGRES_RATE = .*;  \\/\\/ OPTIMIZE \\[0\\.02, 0\\.98\\]$/constexpr double TARGET_BEAM_WIDTH_HALF_PROGRES_RATE = 0.7732145021054405;  \\/\\/ OPTIMIZE [0.02, 0.98]/'\n",
      "g++ 2_main.cpp -std=gnu++17 -O2 -DONLINE_JUDGE -o 2_main.cpp.out 2> /dev/null\n"
     ]
    },
    {
     "name": "stderr",
     "output_type": "stream",
     "text": [
      "\u001b[32m[I 2021-09-10 19:21:21,096]\u001b[0m Trial 83 finished with value: 327934377.0 and parameters: {'K_START': 0.1093514573775813, 'K_END': 0.04789363362189248, 'K_H': 0.22929992144598205, 'PURCHASE_TURN_LIMIT': 832, 'SUBSCORE3_TIGHT_TURN': 0, 'ROUGH_HASH': '0b00010001', 'TARGET_BEAM_WIDTH_INCREASE_RATE': 0.8655874524030028, 'TARGET_BEAM_WIDTH_HALF_PROGRES_RATE': 0.14374003484205577}. Best is trial 54 with value: 935102529.0.\u001b[0m\n"
     ]
    },
    {
     "name": "stdout",
     "output_type": "stream",
     "text": [
      "callback ok\n",
      "index_parallel=3\n",
      "sed -i 3_main.cpp -e 's/^constexpr double K_START = .*;  \\/\\/ OPTIMIZE \\[0\\.04, 0\\.12\\] LOG$/constexpr double K_START = 0.0555375156067945;  \\/\\/ OPTIMIZE [0.04, 0.12] LOG/' -e 's/^constexpr double K_END = .*;   \\/\\/ OPTIMIZE \\[0\\.03, 0\\.1\\] LOG$/constexpr double K_END = 0.03637021112590452;   \\/\\/ OPTIMIZE [0.03, 0.1] LOG/' -e 's/^constexpr double K_H = .*;      \\/\\/ OPTIMIZE \\[0\\.001, 0\\.999\\]$/constexpr double K_H = 0.5471966380435124;      \\/\\/ OPTIMIZE [0.001, 0.999]/' -e 's/^constexpr short PURCHASE_TURN_LIMIT = .*;  \\/\\/ OPTIMIZE \\[790, 870\\]$/constexpr short PURCHASE_TURN_LIMIT = 842;  \\/\\/ OPTIMIZE [790, 870]/' -e 's/^constexpr int SUBSCORE3_TIGHT_TURN = .*;     \\/\\/ OPTIMIZE \\[0, 1\\]$/constexpr int SUBSCORE3_TIGHT_TURN = 0;     \\/\\/ OPTIMIZE [0, 1]/' -e 's/^constexpr int ROUGH_HASH = .*;      \\/\\/ OPTIMIZE {0, 0b00000001, 0b00010001, 0b00010011, 0b00110011}$/constexpr int ROUGH_HASH = 0b00000001;      \\/\\/ OPTIMIZE {0, 0b00000001, 0b00010001, 0b00010011, 0b00110011}/' -e 's/^constexpr double TARGET_BEAM_WIDTH_INCREASE_RATE = .*;      \\/\\/ OPTIMIZE \\[0\\.5, 1\\.0\\] LOG$/constexpr double TARGET_BEAM_WIDTH_INCREASE_RATE = 0.8315360865691663;      \\/\\/ OPTIMIZE [0.5, 1.0] LOG/' -e 's/^constexpr double TARGET_BEAM_WIDTH_HALF_PROGRES_RATE = .*;  \\/\\/ OPTIMIZE \\[0\\.02, 0\\.98\\]$/constexpr double TARGET_BEAM_WIDTH_HALF_PROGRES_RATE = 0.79106103327555;  \\/\\/ OPTIMIZE [0.02, 0.98]/'\n",
      "g++ 3_main.cpp -std=gnu++17 -O2 -DONLINE_JUDGE -o 3_main.cpp.out 2> /dev/null\n"
     ]
    },
    {
     "name": "stderr",
     "output_type": "stream",
     "text": [
      "\u001b[32m[I 2021-09-10 19:23:12,915]\u001b[0m Trial 84 finished with value: 929887497.0 and parameters: {'K_START': 0.06329288333233447, 'K_END': 0.047887879509700394, 'K_H': 0.4792719331791982, 'PURCHASE_TURN_LIMIT': 838, 'SUBSCORE3_TIGHT_TURN': 0, 'ROUGH_HASH': '0b00000001', 'TARGET_BEAM_WIDTH_INCREASE_RATE': 0.869169837633319, 'TARGET_BEAM_WIDTH_HALF_PROGRES_RATE': 0.77611975942279}. Best is trial 54 with value: 935102529.0.\u001b[0m\n"
     ]
    },
    {
     "name": "stdout",
     "output_type": "stream",
     "text": [
      "callback ok\n",
      "index_parallel=4\n",
      "sed -i 4_main.cpp -e 's/^constexpr double K_START = .*;  \\/\\/ OPTIMIZE \\[0\\.04, 0\\.12\\] LOG$/constexpr double K_START = 0.05635260207167774;  \\/\\/ OPTIMIZE [0.04, 0.12] LOG/' -e 's/^constexpr double K_END = .*;   \\/\\/ OPTIMIZE \\[0\\.03, 0\\.1\\] LOG$/constexpr double K_END = 0.039829279888109706;   \\/\\/ OPTIMIZE [0.03, 0.1] LOG/' -e 's/^constexpr double K_H = .*;      \\/\\/ OPTIMIZE \\[0\\.001, 0\\.999\\]$/constexpr double K_H = 0.5587304773146844;      \\/\\/ OPTIMIZE [0.001, 0.999]/' -e 's/^constexpr short PURCHASE_TURN_LIMIT = .*;  \\/\\/ OPTIMIZE \\[790, 870\\]$/constexpr short PURCHASE_TURN_LIMIT = 842;  \\/\\/ OPTIMIZE [790, 870]/' -e 's/^constexpr int SUBSCORE3_TIGHT_TURN = .*;     \\/\\/ OPTIMIZE \\[0, 1\\]$/constexpr int SUBSCORE3_TIGHT_TURN = 0;     \\/\\/ OPTIMIZE [0, 1]/' -e 's/^constexpr int ROUGH_HASH = .*;      \\/\\/ OPTIMIZE {0, 0b00000001, 0b00010001, 0b00010011, 0b00110011}$/constexpr int ROUGH_HASH = 0b00000001;      \\/\\/ OPTIMIZE {0, 0b00000001, 0b00010001, 0b00010011, 0b00110011}/' -e 's/^constexpr double TARGET_BEAM_WIDTH_INCREASE_RATE = .*;      \\/\\/ OPTIMIZE \\[0\\.5, 1\\.0\\] LOG$/constexpr double TARGET_BEAM_WIDTH_INCREASE_RATE = 0.9127098604377637;      \\/\\/ OPTIMIZE [0.5, 1.0] LOG/' -e 's/^constexpr double TARGET_BEAM_WIDTH_HALF_PROGRES_RATE = .*;  \\/\\/ OPTIMIZE \\[0\\.02, 0\\.98\\]$/constexpr double TARGET_BEAM_WIDTH_HALF_PROGRES_RATE = 0.746214319277581;  \\/\\/ OPTIMIZE [0.02, 0.98]/'\n",
      "g++ 4_main.cpp -std=gnu++17 -O2 -DONLINE_JUDGE -o 4_main.cpp.out 2> /dev/null\n"
     ]
    },
    {
     "name": "stderr",
     "output_type": "stream",
     "text": [
      "\u001b[32m[I 2021-09-10 19:23:37,962]\u001b[0m Trial 85 finished with value: 930111591.0 and parameters: {'K_START': 0.10922465469167537, 'K_END': 0.03597436656930431, 'K_H': 0.5562600194319514, 'PURCHASE_TURN_LIMIT': 842, 'SUBSCORE3_TIGHT_TURN': 0, 'ROUGH_HASH': '0b00000001', 'TARGET_BEAM_WIDTH_INCREASE_RATE': 0.9059404119038033, 'TARGET_BEAM_WIDTH_HALF_PROGRES_RATE': 0.7791986424346733}. Best is trial 54 with value: 935102529.0.\u001b[0m\n"
     ]
    },
    {
     "name": "stdout",
     "output_type": "stream",
     "text": [
      "callback ok\n",
      "index_parallel=5\n",
      "sed -i 5_main.cpp -e 's/^constexpr double K_START = .*;  \\/\\/ OPTIMIZE \\[0\\.04, 0\\.12\\] LOG$/constexpr double K_START = 0.05609803766916597;  \\/\\/ OPTIMIZE [0.04, 0.12] LOG/' -e 's/^constexpr double K_END = .*;   \\/\\/ OPTIMIZE \\[0\\.03, 0\\.1\\] LOG$/constexpr double K_END = 0.053919334248485856;   \\/\\/ OPTIMIZE [0.03, 0.1] LOG/' -e 's/^constexpr double K_H = .*;      \\/\\/ OPTIMIZE \\[0\\.001, 0\\.999\\]$/constexpr double K_H = 0.3948227314154754;      \\/\\/ OPTIMIZE [0.001, 0.999]/' -e 's/^constexpr short PURCHASE_TURN_LIMIT = .*;  \\/\\/ OPTIMIZE \\[790, 870\\]$/constexpr short PURCHASE_TURN_LIMIT = 834;  \\/\\/ OPTIMIZE [790, 870]/' -e 's/^constexpr int SUBSCORE3_TIGHT_TURN = .*;     \\/\\/ OPTIMIZE \\[0, 1\\]$/constexpr int SUBSCORE3_TIGHT_TURN = 0;     \\/\\/ OPTIMIZE [0, 1]/' -e 's/^constexpr int ROUGH_HASH = .*;      \\/\\/ OPTIMIZE {0, 0b00000001, 0b00010001, 0b00010011, 0b00110011}$/constexpr int ROUGH_HASH = 0b00000001;      \\/\\/ OPTIMIZE {0, 0b00000001, 0b00010001, 0b00010011, 0b00110011}/' -e 's/^constexpr double TARGET_BEAM_WIDTH_INCREASE_RATE = .*;      \\/\\/ OPTIMIZE \\[0\\.5, 1\\.0\\] LOG$/constexpr double TARGET_BEAM_WIDTH_INCREASE_RATE = 0.8357513229607972;      \\/\\/ OPTIMIZE [0.5, 1.0] LOG/' -e 's/^constexpr double TARGET_BEAM_WIDTH_HALF_PROGRES_RATE = .*;  \\/\\/ OPTIMIZE \\[0\\.02, 0\\.98\\]$/constexpr double TARGET_BEAM_WIDTH_HALF_PROGRES_RATE = 0.9765273035956561;  \\/\\/ OPTIMIZE [0.02, 0.98]/'\n",
      "g++ 5_main.cpp -std=gnu++17 -O2 -DONLINE_JUDGE -o 5_main.cpp.out 2> /dev/null\n"
     ]
    },
    {
     "name": "stderr",
     "output_type": "stream",
     "text": [
      "\u001b[32m[I 2021-09-10 19:23:47,850]\u001b[0m Trial 86 finished with value: 319800908.0 and parameters: {'K_START': 0.10952146197728245, 'K_END': 0.03688043626717467, 'K_H': 0.1797095982030723, 'PURCHASE_TURN_LIMIT': 842, 'SUBSCORE3_TIGHT_TURN': 0, 'ROUGH_HASH': '0b00000001', 'TARGET_BEAM_WIDTH_INCREASE_RATE': 0.8285693474665189, 'TARGET_BEAM_WIDTH_HALF_PROGRES_RATE': 0.7732145021054405}. Best is trial 54 with value: 935102529.0.\u001b[0m\n"
     ]
    },
    {
     "name": "stdout",
     "output_type": "stream",
     "text": [
      "callback ok\n",
      "index_parallel=6\n",
      "sed -i 6_main.cpp -e 's/^constexpr double K_START = .*;  \\/\\/ OPTIMIZE \\[0\\.04, 0\\.12\\] LOG$/constexpr double K_START = 0.05690401923431201;  \\/\\/ OPTIMIZE [0.04, 0.12] LOG/' -e 's/^constexpr double K_END = .*;   \\/\\/ OPTIMIZE \\[0\\.03, 0\\.1\\] LOG$/constexpr double K_END = 0.053601166437106745;   \\/\\/ OPTIMIZE [0.03, 0.1] LOG/' -e 's/^constexpr double K_H = .*;      \\/\\/ OPTIMIZE \\[0\\.001, 0\\.999\\]$/constexpr double K_H = 0.5950299656753026;      \\/\\/ OPTIMIZE [0.001, 0.999]/' -e 's/^constexpr short PURCHASE_TURN_LIMIT = .*;  \\/\\/ OPTIMIZE \\[790, 870\\]$/constexpr short PURCHASE_TURN_LIMIT = 848;  \\/\\/ OPTIMIZE [790, 870]/' -e 's/^constexpr int SUBSCORE3_TIGHT_TURN = .*;     \\/\\/ OPTIMIZE \\[0, 1\\]$/constexpr int SUBSCORE3_TIGHT_TURN = 0;     \\/\\/ OPTIMIZE [0, 1]/' -e 's/^constexpr int ROUGH_HASH = .*;      \\/\\/ OPTIMIZE {0, 0b00000001, 0b00010001, 0b00010011, 0b00110011}$/constexpr int ROUGH_HASH = 0b00000001;      \\/\\/ OPTIMIZE {0, 0b00000001, 0b00010001, 0b00010011, 0b00110011}/' -e 's/^constexpr double TARGET_BEAM_WIDTH_INCREASE_RATE = .*;      \\/\\/ OPTIMIZE \\[0\\.5, 1\\.0\\] LOG$/constexpr double TARGET_BEAM_WIDTH_INCREASE_RATE = 0.9990172313353636;      \\/\\/ OPTIMIZE [0.5, 1.0] LOG/' -e 's/^constexpr double TARGET_BEAM_WIDTH_HALF_PROGRES_RATE = .*;  \\/\\/ OPTIMIZE \\[0\\.02, 0\\.98\\]$/constexpr double TARGET_BEAM_WIDTH_HALF_PROGRES_RATE = 0.8216574490853712;  \\/\\/ OPTIMIZE [0.02, 0.98]/'\n",
      "g++ 6_main.cpp -std=gnu++17 -O2 -DONLINE_JUDGE -o 6_main.cpp.out 2> /dev/null\n"
     ]
    },
    {
     "name": "stderr",
     "output_type": "stream",
     "text": [
      "\u001b[32m[I 2021-09-10 19:23:52,391]\u001b[0m Trial 87 finished with value: 917165427.0 and parameters: {'K_START': 0.0555375156067945, 'K_END': 0.03637021112590452, 'K_H': 0.5471966380435124, 'PURCHASE_TURN_LIMIT': 842, 'SUBSCORE3_TIGHT_TURN': 0, 'ROUGH_HASH': '0b00000001', 'TARGET_BEAM_WIDTH_INCREASE_RATE': 0.8315360865691663, 'TARGET_BEAM_WIDTH_HALF_PROGRES_RATE': 0.79106103327555}. Best is trial 54 with value: 935102529.0.\u001b[0m\n"
     ]
    },
    {
     "name": "stdout",
     "output_type": "stream",
     "text": [
      "callback ok\n",
      "index_parallel=7\n",
      "sed -i 7_main.cpp -e 's/^constexpr double K_START = .*;  \\/\\/ OPTIMIZE \\[0\\.04, 0\\.12\\] LOG$/constexpr double K_START = 0.05060098545250839;  \\/\\/ OPTIMIZE [0.04, 0.12] LOG/' -e 's/^constexpr double K_END = .*;   \\/\\/ OPTIMIZE \\[0\\.03, 0\\.1\\] LOG$/constexpr double K_END = 0.04134908821385713;   \\/\\/ OPTIMIZE [0.03, 0.1] LOG/' -e 's/^constexpr double K_H = .*;      \\/\\/ OPTIMIZE \\[0\\.001, 0\\.999\\]$/constexpr double K_H = 0.5225799453275424;      \\/\\/ OPTIMIZE [0.001, 0.999]/' -e 's/^constexpr short PURCHASE_TURN_LIMIT = .*;  \\/\\/ OPTIMIZE \\[790, 870\\]$/constexpr short PURCHASE_TURN_LIMIT = 824;  \\/\\/ OPTIMIZE [790, 870]/' -e 's/^constexpr int SUBSCORE3_TIGHT_TURN = .*;     \\/\\/ OPTIMIZE \\[0, 1\\]$/constexpr int SUBSCORE3_TIGHT_TURN = 0;     \\/\\/ OPTIMIZE [0, 1]/' -e 's/^constexpr int ROUGH_HASH = .*;      \\/\\/ OPTIMIZE {0, 0b00000001, 0b00010001, 0b00010011, 0b00110011}$/constexpr int ROUGH_HASH = 0b00000001;      \\/\\/ OPTIMIZE {0, 0b00000001, 0b00010001, 0b00010011, 0b00110011}/' -e 's/^constexpr double TARGET_BEAM_WIDTH_INCREASE_RATE = .*;      \\/\\/ OPTIMIZE \\[0\\.5, 1\\.0\\] LOG$/constexpr double TARGET_BEAM_WIDTH_INCREASE_RATE = 0.9084870816389456;      \\/\\/ OPTIMIZE [0.5, 1.0] LOG/' -e 's/^constexpr double TARGET_BEAM_WIDTH_HALF_PROGRES_RATE = .*;  \\/\\/ OPTIMIZE \\[0\\.02, 0\\.98\\]$/constexpr double TARGET_BEAM_WIDTH_HALF_PROGRES_RATE = 0.8196105374996666;  \\/\\/ OPTIMIZE [0.02, 0.98]/'\n",
      "g++ 7_main.cpp -std=gnu++17 -O2 -DONLINE_JUDGE -o 7_main.cpp.out 2> /dev/null\n"
     ]
    },
    {
     "name": "stderr",
     "output_type": "stream",
     "text": [
      "\u001b[32m[I 2021-09-10 19:25:45,457]\u001b[0m Trial 88 finished with value: 920563663.0 and parameters: {'K_START': 0.05635260207167774, 'K_END': 0.039829279888109706, 'K_H': 0.5587304773146844, 'PURCHASE_TURN_LIMIT': 842, 'SUBSCORE3_TIGHT_TURN': 0, 'ROUGH_HASH': '0b00000001', 'TARGET_BEAM_WIDTH_INCREASE_RATE': 0.9127098604377637, 'TARGET_BEAM_WIDTH_HALF_PROGRES_RATE': 0.746214319277581}. Best is trial 54 with value: 935102529.0.\u001b[0m\n"
     ]
    },
    {
     "name": "stdout",
     "output_type": "stream",
     "text": [
      "callback ok\n",
      "index_parallel=8\n",
      "sed -i 8_main.cpp -e 's/^constexpr double K_START = .*;  \\/\\/ OPTIMIZE \\[0\\.04, 0\\.12\\] LOG$/constexpr double K_START = 0.051885021179130485;  \\/\\/ OPTIMIZE [0.04, 0.12] LOG/' -e 's/^constexpr double K_END = .*;   \\/\\/ OPTIMIZE \\[0\\.03, 0\\.1\\] LOG$/constexpr double K_END = 0.05024299238539264;   \\/\\/ OPTIMIZE [0.03, 0.1] LOG/' -e 's/^constexpr double K_H = .*;      \\/\\/ OPTIMIZE \\[0\\.001, 0\\.999\\]$/constexpr double K_H = 0.5881381834015802;      \\/\\/ OPTIMIZE [0.001, 0.999]/' -e 's/^constexpr short PURCHASE_TURN_LIMIT = .*;  \\/\\/ OPTIMIZE \\[790, 870\\]$/constexpr short PURCHASE_TURN_LIMIT = 834;  \\/\\/ OPTIMIZE [790, 870]/' -e 's/^constexpr int SUBSCORE3_TIGHT_TURN = .*;     \\/\\/ OPTIMIZE \\[0, 1\\]$/constexpr int SUBSCORE3_TIGHT_TURN = 0;     \\/\\/ OPTIMIZE [0, 1]/' -e 's/^constexpr int ROUGH_HASH = .*;      \\/\\/ OPTIMIZE {0, 0b00000001, 0b00010001, 0b00010011, 0b00110011}$/constexpr int ROUGH_HASH = 0;      \\/\\/ OPTIMIZE {0, 0b00000001, 0b00010001, 0b00010011, 0b00110011}/' -e 's/^constexpr double TARGET_BEAM_WIDTH_INCREASE_RATE = .*;      \\/\\/ OPTIMIZE \\[0\\.5, 1\\.0\\] LOG$/constexpr double TARGET_BEAM_WIDTH_INCREASE_RATE = 0.9967086419847563;      \\/\\/ OPTIMIZE [0.5, 1.0] LOG/' -e 's/^constexpr double TARGET_BEAM_WIDTH_HALF_PROGRES_RATE = .*;  \\/\\/ OPTIMIZE \\[0\\.02, 0\\.98\\]$/constexpr double TARGET_BEAM_WIDTH_HALF_PROGRES_RATE = 0.8185871183752617;  \\/\\/ OPTIMIZE [0.02, 0.98]/'\n",
      "g++ 8_main.cpp -std=gnu++17 -O2 -DONLINE_JUDGE -o 8_main.cpp.out 2> /dev/null\n"
     ]
    },
    {
     "name": "stderr",
     "output_type": "stream",
     "text": [
      "\u001b[32m[I 2021-09-10 19:26:08,597]\u001b[0m Trial 89 finished with value: 930596688.0 and parameters: {'K_START': 0.05609803766916597, 'K_END': 0.053919334248485856, 'K_H': 0.3948227314154754, 'PURCHASE_TURN_LIMIT': 834, 'SUBSCORE3_TIGHT_TURN': 0, 'ROUGH_HASH': '0b00000001', 'TARGET_BEAM_WIDTH_INCREASE_RATE': 0.8357513229607972, 'TARGET_BEAM_WIDTH_HALF_PROGRES_RATE': 0.9765273035956561}. Best is trial 54 with value: 935102529.0.\u001b[0m\n"
     ]
    },
    {
     "name": "stdout",
     "output_type": "stream",
     "text": [
      "callback ok\n",
      "index_parallel=9\n",
      "sed -i 9_main.cpp -e 's/^constexpr double K_START = .*;  \\/\\/ OPTIMIZE \\[0\\.04, 0\\.12\\] LOG$/constexpr double K_START = 0.07886169120587656;  \\/\\/ OPTIMIZE [0.04, 0.12] LOG/' -e 's/^constexpr double K_END = .*;   \\/\\/ OPTIMIZE \\[0\\.03, 0\\.1\\] LOG$/constexpr double K_END = 0.050283513463094974;   \\/\\/ OPTIMIZE [0.03, 0.1] LOG/' -e 's/^constexpr double K_H = .*;      \\/\\/ OPTIMIZE \\[0\\.001, 0\\.999\\]$/constexpr double K_H = 0.5164606005336597;      \\/\\/ OPTIMIZE [0.001, 0.999]/' -e 's/^constexpr short PURCHASE_TURN_LIMIT = .*;  \\/\\/ OPTIMIZE \\[790, 870\\]$/constexpr short PURCHASE_TURN_LIMIT = 825;  \\/\\/ OPTIMIZE [790, 870]/' -e 's/^constexpr int SUBSCORE3_TIGHT_TURN = .*;     \\/\\/ OPTIMIZE \\[0, 1\\]$/constexpr int SUBSCORE3_TIGHT_TURN = 0;     \\/\\/ OPTIMIZE [0, 1]/' -e 's/^constexpr int ROUGH_HASH = .*;      \\/\\/ OPTIMIZE {0, 0b00000001, 0b00010001, 0b00010011, 0b00110011}$/constexpr int ROUGH_HASH = 0;      \\/\\/ OPTIMIZE {0, 0b00000001, 0b00010001, 0b00010011, 0b00110011}/' -e 's/^constexpr double TARGET_BEAM_WIDTH_INCREASE_RATE = .*;      \\/\\/ OPTIMIZE \\[0\\.5, 1\\.0\\] LOG$/constexpr double TARGET_BEAM_WIDTH_INCREASE_RATE = 0.9079290644198845;      \\/\\/ OPTIMIZE [0.5, 1.0] LOG/' -e 's/^constexpr double TARGET_BEAM_WIDTH_HALF_PROGRES_RATE = .*;  \\/\\/ OPTIMIZE \\[0\\.02, 0\\.98\\]$/constexpr double TARGET_BEAM_WIDTH_HALF_PROGRES_RATE = 0.8196008921516794;  \\/\\/ OPTIMIZE [0.02, 0.98]/'\n",
      "g++ 9_main.cpp -std=gnu++17 -O2 -DONLINE_JUDGE -o 9_main.cpp.out 2> /dev/null\n"
     ]
    },
    {
     "name": "stderr",
     "output_type": "stream",
     "text": [
      "\u001b[32m[I 2021-09-10 19:26:18,971]\u001b[0m Trial 90 finished with value: 933511980.0 and parameters: {'K_START': 0.05690401923431201, 'K_END': 0.053601166437106745, 'K_H': 0.5950299656753026, 'PURCHASE_TURN_LIMIT': 848, 'SUBSCORE3_TIGHT_TURN': 0, 'ROUGH_HASH': '0b00000001', 'TARGET_BEAM_WIDTH_INCREASE_RATE': 0.9990172313353636, 'TARGET_BEAM_WIDTH_HALF_PROGRES_RATE': 0.8216574490853712}. Best is trial 54 with value: 935102529.0.\u001b[0m\n"
     ]
    },
    {
     "name": "stdout",
     "output_type": "stream",
     "text": [
      "callback ok\n",
      "index_parallel=10\n",
      "sed -i 10_main.cpp -e 's/^constexpr double K_START = .*;  \\/\\/ OPTIMIZE \\[0\\.04, 0\\.12\\] LOG$/constexpr double K_START = 0.11923669752423938;  \\/\\/ OPTIMIZE [0.04, 0.12] LOG/' -e 's/^constexpr double K_END = .*;   \\/\\/ OPTIMIZE \\[0\\.03, 0\\.1\\] LOG$/constexpr double K_END = 0.041816702771797665;   \\/\\/ OPTIMIZE [0.03, 0.1] LOG/' -e 's/^constexpr double K_H = .*;      \\/\\/ OPTIMIZE \\[0\\.001, 0\\.999\\]$/constexpr double K_H = 0.5129319733057557;      \\/\\/ OPTIMIZE [0.001, 0.999]/' -e 's/^constexpr short PURCHASE_TURN_LIMIT = .*;  \\/\\/ OPTIMIZE \\[790, 870\\]$/constexpr short PURCHASE_TURN_LIMIT = 824;  \\/\\/ OPTIMIZE [790, 870]/' -e 's/^constexpr int SUBSCORE3_TIGHT_TURN = .*;     \\/\\/ OPTIMIZE \\[0, 1\\]$/constexpr int SUBSCORE3_TIGHT_TURN = 0;     \\/\\/ OPTIMIZE [0, 1]/' -e 's/^constexpr int ROUGH_HASH = .*;      \\/\\/ OPTIMIZE {0, 0b00000001, 0b00010001, 0b00010011, 0b00110011}$/constexpr int ROUGH_HASH = 0b00000001;      \\/\\/ OPTIMIZE {0, 0b00000001, 0b00010001, 0b00010011, 0b00110011}/' -e 's/^constexpr double TARGET_BEAM_WIDTH_INCREASE_RATE = .*;      \\/\\/ OPTIMIZE \\[0\\.5, 1\\.0\\] LOG$/constexpr double TARGET_BEAM_WIDTH_INCREASE_RATE = 0.9001399479869155;      \\/\\/ OPTIMIZE [0.5, 1.0] LOG/' -e 's/^constexpr double TARGET_BEAM_WIDTH_HALF_PROGRES_RATE = .*;  \\/\\/ OPTIMIZE \\[0\\.02, 0\\.98\\]$/constexpr double TARGET_BEAM_WIDTH_HALF_PROGRES_RATE = 0.8725168516096141;  \\/\\/ OPTIMIZE [0.02, 0.98]/'\n",
      "g++ 10_main.cpp -std=gnu++17 -O2 -DONLINE_JUDGE -o 10_main.cpp.out 2> /dev/null\n"
     ]
    },
    {
     "name": "stderr",
     "output_type": "stream",
     "text": [
      "\u001b[32m[I 2021-09-10 19:26:22,719]\u001b[0m Trial 91 finished with value: 922095613.0 and parameters: {'K_START': 0.05060098545250839, 'K_END': 0.04134908821385713, 'K_H': 0.5225799453275424, 'PURCHASE_TURN_LIMIT': 824, 'SUBSCORE3_TIGHT_TURN': 0, 'ROUGH_HASH': '0b00000001', 'TARGET_BEAM_WIDTH_INCREASE_RATE': 0.9084870816389456, 'TARGET_BEAM_WIDTH_HALF_PROGRES_RATE': 0.8196105374996666}. Best is trial 54 with value: 935102529.0.\u001b[0m\n"
     ]
    },
    {
     "name": "stdout",
     "output_type": "stream",
     "text": [
      "callback ok\n",
      "index_parallel=11\n",
      "sed -i 11_main.cpp -e 's/^constexpr double K_START = .*;  \\/\\/ OPTIMIZE \\[0\\.04, 0\\.12\\] LOG$/constexpr double K_START = 0.05226901565930749;  \\/\\/ OPTIMIZE [0.04, 0.12] LOG/' -e 's/^constexpr double K_END = .*;   \\/\\/ OPTIMIZE \\[0\\.03, 0\\.1\\] LOG$/constexpr double K_END = 0.04656077742217844;   \\/\\/ OPTIMIZE [0.03, 0.1] LOG/' -e 's/^constexpr double K_H = .*;      \\/\\/ OPTIMIZE \\[0\\.001, 0\\.999\\]$/constexpr double K_H = 0.6137736563653386;      \\/\\/ OPTIMIZE [0.001, 0.999]/' -e 's/^constexpr short PURCHASE_TURN_LIMIT = .*;  \\/\\/ OPTIMIZE \\[790, 870\\]$/constexpr short PURCHASE_TURN_LIMIT = 849;  \\/\\/ OPTIMIZE [790, 870]/' -e 's/^constexpr int SUBSCORE3_TIGHT_TURN = .*;     \\/\\/ OPTIMIZE \\[0, 1\\]$/constexpr int SUBSCORE3_TIGHT_TURN = 0;     \\/\\/ OPTIMIZE [0, 1]/' -e 's/^constexpr int ROUGH_HASH = .*;      \\/\\/ OPTIMIZE {0, 0b00000001, 0b00010001, 0b00010011, 0b00110011}$/constexpr int ROUGH_HASH = 0;      \\/\\/ OPTIMIZE {0, 0b00000001, 0b00010001, 0b00010011, 0b00110011}/' -e 's/^constexpr double TARGET_BEAM_WIDTH_INCREASE_RATE = .*;      \\/\\/ OPTIMIZE \\[0\\.5, 1\\.0\\] LOG$/constexpr double TARGET_BEAM_WIDTH_INCREASE_RATE = 0.9221013707435349;      \\/\\/ OPTIMIZE [0.5, 1.0] LOG/' -e 's/^constexpr double TARGET_BEAM_WIDTH_HALF_PROGRES_RATE = .*;  \\/\\/ OPTIMIZE \\[0\\.02, 0\\.98\\]$/constexpr double TARGET_BEAM_WIDTH_HALF_PROGRES_RATE = 0.8685149468828506;  \\/\\/ OPTIMIZE [0.02, 0.98]/'\n",
      "g++ 11_main.cpp -std=gnu++17 -O2 -DONLINE_JUDGE -o 11_main.cpp.out 2> /dev/null\n"
     ]
    },
    {
     "name": "stderr",
     "output_type": "stream",
     "text": [
      "\u001b[32m[I 2021-09-10 19:28:16,764]\u001b[0m Trial 92 finished with value: 930322015.0 and parameters: {'K_START': 0.051885021179130485, 'K_END': 0.05024299238539264, 'K_H': 0.5881381834015802, 'PURCHASE_TURN_LIMIT': 834, 'SUBSCORE3_TIGHT_TURN': 0, 'ROUGH_HASH': '0', 'TARGET_BEAM_WIDTH_INCREASE_RATE': 0.9967086419847563, 'TARGET_BEAM_WIDTH_HALF_PROGRES_RATE': 0.8185871183752617}. Best is trial 54 with value: 935102529.0.\u001b[0m\n"
     ]
    },
    {
     "name": "stdout",
     "output_type": "stream",
     "text": [
      "callback ok\n",
      "index_parallel=0\n",
      "sed -i 0_main.cpp -e 's/^constexpr double K_START = .*;  \\/\\/ OPTIMIZE \\[0\\.04, 0\\.12\\] LOG$/constexpr double K_START = 0.05351432023676785;  \\/\\/ OPTIMIZE [0.04, 0.12] LOG/' -e 's/^constexpr double K_END = .*;   \\/\\/ OPTIMIZE \\[0\\.03, 0\\.1\\] LOG$/constexpr double K_END = 0.0924416471931238;   \\/\\/ OPTIMIZE [0.03, 0.1] LOG/' -e 's/^constexpr double K_H = .*;      \\/\\/ OPTIMIZE \\[0\\.001, 0\\.999\\]$/constexpr double K_H = 0.6037396803840142;      \\/\\/ OPTIMIZE [0.001, 0.999]/' -e 's/^constexpr short PURCHASE_TURN_LIMIT = .*;  \\/\\/ OPTIMIZE \\[790, 870\\]$/constexpr short PURCHASE_TURN_LIMIT = 848;  \\/\\/ OPTIMIZE [790, 870]/' -e 's/^constexpr int SUBSCORE3_TIGHT_TURN = .*;     \\/\\/ OPTIMIZE \\[0, 1\\]$/constexpr int SUBSCORE3_TIGHT_TURN = 0;     \\/\\/ OPTIMIZE [0, 1]/' -e 's/^constexpr int ROUGH_HASH = .*;      \\/\\/ OPTIMIZE {0, 0b00000001, 0b00010001, 0b00010011, 0b00110011}$/constexpr int ROUGH_HASH = 0b00000001;      \\/\\/ OPTIMIZE {0, 0b00000001, 0b00010001, 0b00010011, 0b00110011}/' -e 's/^constexpr double TARGET_BEAM_WIDTH_INCREASE_RATE = .*;      \\/\\/ OPTIMIZE \\[0\\.5, 1\\.0\\] LOG$/constexpr double TARGET_BEAM_WIDTH_INCREASE_RATE = 0.9524031244006674;      \\/\\/ OPTIMIZE [0.5, 1.0] LOG/' -e 's/^constexpr double TARGET_BEAM_WIDTH_HALF_PROGRES_RATE = .*;  \\/\\/ OPTIMIZE \\[0\\.02, 0\\.98\\]$/constexpr double TARGET_BEAM_WIDTH_HALF_PROGRES_RATE = 0.8775849302741464;  \\/\\/ OPTIMIZE [0.02, 0.98]/'\n",
      "g++ 0_main.cpp -std=gnu++17 -O2 -DONLINE_JUDGE -o 0_main.cpp.out 2> /dev/null\n"
     ]
    },
    {
     "name": "stderr",
     "output_type": "stream",
     "text": [
      "\u001b[32m[I 2021-09-10 19:28:37,645]\u001b[0m Trial 93 finished with value: 927150861.0 and parameters: {'K_START': 0.07886169120587656, 'K_END': 0.050283513463094974, 'K_H': 0.5164606005336597, 'PURCHASE_TURN_LIMIT': 825, 'SUBSCORE3_TIGHT_TURN': 0, 'ROUGH_HASH': '0', 'TARGET_BEAM_WIDTH_INCREASE_RATE': 0.9079290644198845, 'TARGET_BEAM_WIDTH_HALF_PROGRES_RATE': 0.8196008921516794}. Best is trial 54 with value: 935102529.0.\u001b[0m\n"
     ]
    },
    {
     "name": "stdout",
     "output_type": "stream",
     "text": [
      "callback ok\n",
      "index_parallel=1\n",
      "sed -i 1_main.cpp -e 's/^constexpr double K_START = .*;  \\/\\/ OPTIMIZE \\[0\\.04, 0\\.12\\] LOG$/constexpr double K_START = 0.10085684182325581;  \\/\\/ OPTIMIZE [0.04, 0.12] LOG/' -e 's/^constexpr double K_END = .*;   \\/\\/ OPTIMIZE \\[0\\.03, 0\\.1\\] LOG$/constexpr double K_END = 0.06035013629169831;   \\/\\/ OPTIMIZE [0.03, 0.1] LOG/' -e 's/^constexpr double K_H = .*;      \\/\\/ OPTIMIZE \\[0\\.001, 0\\.999\\]$/constexpr double K_H = 0.5930618959971635;      \\/\\/ OPTIMIZE [0.001, 0.999]/' -e 's/^constexpr short PURCHASE_TURN_LIMIT = .*;  \\/\\/ OPTIMIZE \\[790, 870\\]$/constexpr short PURCHASE_TURN_LIMIT = 849;  \\/\\/ OPTIMIZE [790, 870]/' -e 's/^constexpr int SUBSCORE3_TIGHT_TURN = .*;     \\/\\/ OPTIMIZE \\[0, 1\\]$/constexpr int SUBSCORE3_TIGHT_TURN = 0;     \\/\\/ OPTIMIZE [0, 1]/' -e 's/^constexpr int ROUGH_HASH = .*;      \\/\\/ OPTIMIZE {0, 0b00000001, 0b00010001, 0b00010011, 0b00110011}$/constexpr int ROUGH_HASH = 0b00000001;      \\/\\/ OPTIMIZE {0, 0b00000001, 0b00010001, 0b00010011, 0b00110011}/' -e 's/^constexpr double TARGET_BEAM_WIDTH_INCREASE_RATE = .*;      \\/\\/ OPTIMIZE \\[0\\.5, 1\\.0\\] LOG$/constexpr double TARGET_BEAM_WIDTH_INCREASE_RATE = 0.876594706702797;      \\/\\/ OPTIMIZE [0.5, 1.0] LOG/' -e 's/^constexpr double TARGET_BEAM_WIDTH_HALF_PROGRES_RATE = .*;  \\/\\/ OPTIMIZE \\[0\\.02, 0\\.98\\]$/constexpr double TARGET_BEAM_WIDTH_HALF_PROGRES_RATE = 0.8745026330189716;  \\/\\/ OPTIMIZE [0.02, 0.98]/'\n",
      "g++ 1_main.cpp -std=gnu++17 -O2 -DONLINE_JUDGE -o 1_main.cpp.out 2> /dev/null\n"
     ]
    },
    {
     "name": "stderr",
     "output_type": "stream",
     "text": [
      "\u001b[32m[I 2021-09-10 19:28:49,054]\u001b[0m Trial 94 finished with value: 924273369.0 and parameters: {'K_START': 0.11923669752423938, 'K_END': 0.041816702771797665, 'K_H': 0.5129319733057557, 'PURCHASE_TURN_LIMIT': 824, 'SUBSCORE3_TIGHT_TURN': 0, 'ROUGH_HASH': '0b00000001', 'TARGET_BEAM_WIDTH_INCREASE_RATE': 0.9001399479869155, 'TARGET_BEAM_WIDTH_HALF_PROGRES_RATE': 0.8725168516096141}. Best is trial 54 with value: 935102529.0.\u001b[0m\n"
     ]
    },
    {
     "name": "stdout",
     "output_type": "stream",
     "text": [
      "callback ok\n",
      "index_parallel=2\n",
      "sed -i 2_main.cpp -e 's/^constexpr double K_START = .*;  \\/\\/ OPTIMIZE \\[0\\.04, 0\\.12\\] LOG$/constexpr double K_START = 0.05285759698984211;  \\/\\/ OPTIMIZE [0.04, 0.12] LOG/' -e 's/^constexpr double K_END = .*;   \\/\\/ OPTIMIZE \\[0\\.03, 0\\.1\\] LOG$/constexpr double K_END = 0.03952696240875507;   \\/\\/ OPTIMIZE [0.03, 0.1] LOG/' -e 's/^constexpr double K_H = .*;      \\/\\/ OPTIMIZE \\[0\\.001, 0\\.999\\]$/constexpr double K_H = 0.6108499950908006;      \\/\\/ OPTIMIZE [0.001, 0.999]/' -e 's/^constexpr short PURCHASE_TURN_LIMIT = .*;  \\/\\/ OPTIMIZE \\[790, 870\\]$/constexpr short PURCHASE_TURN_LIMIT = 849;  \\/\\/ OPTIMIZE [790, 870]/' -e 's/^constexpr int SUBSCORE3_TIGHT_TURN = .*;     \\/\\/ OPTIMIZE \\[0, 1\\]$/constexpr int SUBSCORE3_TIGHT_TURN = 0;     \\/\\/ OPTIMIZE [0, 1]/' -e 's/^constexpr int ROUGH_HASH = .*;      \\/\\/ OPTIMIZE {0, 0b00000001, 0b00010001, 0b00010011, 0b00110011}$/constexpr int ROUGH_HASH = 0b00000001;      \\/\\/ OPTIMIZE {0, 0b00000001, 0b00010001, 0b00010011, 0b00110011}/' -e 's/^constexpr double TARGET_BEAM_WIDTH_INCREASE_RATE = .*;      \\/\\/ OPTIMIZE \\[0\\.5, 1\\.0\\] LOG$/constexpr double TARGET_BEAM_WIDTH_INCREASE_RATE = 0.9280762670925607;      \\/\\/ OPTIMIZE [0.5, 1.0] LOG/' -e 's/^constexpr double TARGET_BEAM_WIDTH_HALF_PROGRES_RATE = .*;  \\/\\/ OPTIMIZE \\[0\\.02, 0\\.98\\]$/constexpr double TARGET_BEAM_WIDTH_HALF_PROGRES_RATE = 0.8877136581593499;  \\/\\/ OPTIMIZE [0.02, 0.98]/'\n",
      "g++ 2_main.cpp -std=gnu++17 -O2 -DONLINE_JUDGE -o 2_main.cpp.out 2> /dev/null\n"
     ]
    },
    {
     "name": "stderr",
     "output_type": "stream",
     "text": [
      "\u001b[32m[I 2021-09-10 19:28:53,026]\u001b[0m Trial 95 finished with value: 927464075.0 and parameters: {'K_START': 0.05226901565930749, 'K_END': 0.04656077742217844, 'K_H': 0.6137736563653386, 'PURCHASE_TURN_LIMIT': 849, 'SUBSCORE3_TIGHT_TURN': 0, 'ROUGH_HASH': '0', 'TARGET_BEAM_WIDTH_INCREASE_RATE': 0.9221013707435349, 'TARGET_BEAM_WIDTH_HALF_PROGRES_RATE': 0.8685149468828506}. Best is trial 54 with value: 935102529.0.\u001b[0m\n"
     ]
    },
    {
     "name": "stdout",
     "output_type": "stream",
     "text": [
      "callback ok\n",
      "index_parallel=3\n",
      "sed -i 3_main.cpp -e 's/^constexpr double K_START = .*;  \\/\\/ OPTIMIZE \\[0\\.04, 0\\.12\\] LOG$/constexpr double K_START = 0.10046550251189398;  \\/\\/ OPTIMIZE [0.04, 0.12] LOG/' -e 's/^constexpr double K_END = .*;   \\/\\/ OPTIMIZE \\[0\\.03, 0\\.1\\] LOG$/constexpr double K_END = 0.053830941105378186;   \\/\\/ OPTIMIZE [0.03, 0.1] LOG/' -e 's/^constexpr double K_H = .*;      \\/\\/ OPTIMIZE \\[0\\.001, 0\\.999\\]$/constexpr double K_H = 0.6510305053525861;      \\/\\/ OPTIMIZE [0.001, 0.999]/' -e 's/^constexpr short PURCHASE_TURN_LIMIT = .*;  \\/\\/ OPTIMIZE \\[790, 870\\]$/constexpr short PURCHASE_TURN_LIMIT = 839;  \\/\\/ OPTIMIZE [790, 870]/' -e 's/^constexpr int SUBSCORE3_TIGHT_TURN = .*;     \\/\\/ OPTIMIZE \\[0, 1\\]$/constexpr int SUBSCORE3_TIGHT_TURN = 0;     \\/\\/ OPTIMIZE [0, 1]/' -e 's/^constexpr int ROUGH_HASH = .*;      \\/\\/ OPTIMIZE {0, 0b00000001, 0b00010001, 0b00010011, 0b00110011}$/constexpr int ROUGH_HASH = 0b00000001;      \\/\\/ OPTIMIZE {0, 0b00000001, 0b00010001, 0b00010011, 0b00110011}/' -e 's/^constexpr double TARGET_BEAM_WIDTH_INCREASE_RATE = .*;      \\/\\/ OPTIMIZE \\[0\\.5, 1\\.0\\] LOG$/constexpr double TARGET_BEAM_WIDTH_INCREASE_RATE = 0.6559906201626369;      \\/\\/ OPTIMIZE [0.5, 1.0] LOG/' -e 's/^constexpr double TARGET_BEAM_WIDTH_HALF_PROGRES_RATE = .*;  \\/\\/ OPTIMIZE \\[0\\.02, 0\\.98\\]$/constexpr double TARGET_BEAM_WIDTH_HALF_PROGRES_RATE = 0.8927784491645276;  \\/\\/ OPTIMIZE [0.02, 0.98]/'\n",
      "g++ 3_main.cpp -std=gnu++17 -O2 -DONLINE_JUDGE -o 3_main.cpp.out 2> /dev/null\n"
     ]
    },
    {
     "name": "stderr",
     "output_type": "stream",
     "text": [
      "\u001b[32m[I 2021-09-10 19:30:48,318]\u001b[0m Trial 96 finished with value: 917609896.0 and parameters: {'K_START': 0.05351432023676785, 'K_END': 0.0924416471931238, 'K_H': 0.6037396803840142, 'PURCHASE_TURN_LIMIT': 848, 'SUBSCORE3_TIGHT_TURN': 0, 'ROUGH_HASH': '0b00000001', 'TARGET_BEAM_WIDTH_INCREASE_RATE': 0.9524031244006674, 'TARGET_BEAM_WIDTH_HALF_PROGRES_RATE': 0.8775849302741464}. Best is trial 54 with value: 935102529.0.\u001b[0m\n"
     ]
    },
    {
     "name": "stdout",
     "output_type": "stream",
     "text": [
      "callback ok\n",
      "index_parallel=4\n",
      "sed -i 4_main.cpp -e 's/^constexpr double K_START = .*;  \\/\\/ OPTIMIZE \\[0\\.04, 0\\.12\\] LOG$/constexpr double K_START = 0.05792598725663384;  \\/\\/ OPTIMIZE [0.04, 0.12] LOG/' -e 's/^constexpr double K_END = .*;   \\/\\/ OPTIMIZE \\[0\\.03, 0\\.1\\] LOG$/constexpr double K_END = 0.05848284986325612;   \\/\\/ OPTIMIZE [0.03, 0.1] LOG/' -e 's/^constexpr double K_H = .*;      \\/\\/ OPTIMIZE \\[0\\.001, 0\\.999\\]$/constexpr double K_H = 0.3465866505147656;      \\/\\/ OPTIMIZE [0.001, 0.999]/' -e 's/^constexpr short PURCHASE_TURN_LIMIT = .*;  \\/\\/ OPTIMIZE \\[790, 870\\]$/constexpr short PURCHASE_TURN_LIMIT = 845;  \\/\\/ OPTIMIZE [790, 870]/' -e 's/^constexpr int SUBSCORE3_TIGHT_TURN = .*;     \\/\\/ OPTIMIZE \\[0, 1\\]$/constexpr int SUBSCORE3_TIGHT_TURN = 0;     \\/\\/ OPTIMIZE [0, 1]/' -e 's/^constexpr int ROUGH_HASH = .*;      \\/\\/ OPTIMIZE {0, 0b00000001, 0b00010001, 0b00010011, 0b00110011}$/constexpr int ROUGH_HASH = 0b00000001;      \\/\\/ OPTIMIZE {0, 0b00000001, 0b00010001, 0b00010011, 0b00110011}/' -e 's/^constexpr double TARGET_BEAM_WIDTH_INCREASE_RATE = .*;      \\/\\/ OPTIMIZE \\[0\\.5, 1\\.0\\] LOG$/constexpr double TARGET_BEAM_WIDTH_INCREASE_RATE = 0.8521851530780928;      \\/\\/ OPTIMIZE [0.5, 1.0] LOG/' -e 's/^constexpr double TARGET_BEAM_WIDTH_HALF_PROGRES_RATE = .*;  \\/\\/ OPTIMIZE \\[0\\.02, 0\\.98\\]$/constexpr double TARGET_BEAM_WIDTH_HALF_PROGRES_RATE = 0.9035952850195819;  \\/\\/ OPTIMIZE [0.02, 0.98]/'\n",
      "g++ 4_main.cpp -std=gnu++17 -O2 -DONLINE_JUDGE -o 4_main.cpp.out 2> /dev/null\n"
     ]
    },
    {
     "name": "stderr",
     "output_type": "stream",
     "text": [
      "\u001b[32m[I 2021-09-10 19:31:09,092]\u001b[0m Trial 97 finished with value: 936947048.0 and parameters: {'K_START': 0.10085684182325581, 'K_END': 0.06035013629169831, 'K_H': 0.5930618959971635, 'PURCHASE_TURN_LIMIT': 849, 'SUBSCORE3_TIGHT_TURN': 0, 'ROUGH_HASH': '0b00000001', 'TARGET_BEAM_WIDTH_INCREASE_RATE': 0.876594706702797, 'TARGET_BEAM_WIDTH_HALF_PROGRES_RATE': 0.8745026330189716}. Best is trial 97 with value: 936947048.0.\u001b[0m\n"
     ]
    },
    {
     "name": "stdout",
     "output_type": "stream",
     "text": [
      "Updated! 936947048.0\n",
      "callback ok\n",
      "index_parallel=5\n",
      "sed -i 5_main.cpp -e 's/^constexpr double K_START = .*;  \\/\\/ OPTIMIZE \\[0\\.04, 0\\.12\\] LOG$/constexpr double K_START = 0.10055038914007382;  \\/\\/ OPTIMIZE [0.04, 0.12] LOG/' -e 's/^constexpr double K_END = .*;   \\/\\/ OPTIMIZE \\[0\\.03, 0\\.1\\] LOG$/constexpr double K_END = 0.05928387115357059;   \\/\\/ OPTIMIZE [0.03, 0.1] LOG/' -e 's/^constexpr double K_H = .*;      \\/\\/ OPTIMIZE \\[0\\.001, 0\\.999\\]$/constexpr double K_H = 0.5897245317031115;      \\/\\/ OPTIMIZE [0.001, 0.999]/' -e 's/^constexpr short PURCHASE_TURN_LIMIT = .*;  \\/\\/ OPTIMIZE \\[790, 870\\]$/constexpr short PURCHASE_TURN_LIMIT = 845;  \\/\\/ OPTIMIZE [790, 870]/' -e 's/^constexpr int SUBSCORE3_TIGHT_TURN = .*;     \\/\\/ OPTIMIZE \\[0, 1\\]$/constexpr int SUBSCORE3_TIGHT_TURN = 1;     \\/\\/ OPTIMIZE [0, 1]/' -e 's/^constexpr int ROUGH_HASH = .*;      \\/\\/ OPTIMIZE {0, 0b00000001, 0b00010001, 0b00010011, 0b00110011}$/constexpr int ROUGH_HASH = 0b00000001;      \\/\\/ OPTIMIZE {0, 0b00000001, 0b00010001, 0b00010011, 0b00110011}/' -e 's/^constexpr double TARGET_BEAM_WIDTH_INCREASE_RATE = .*;      \\/\\/ OPTIMIZE \\[0\\.5, 1\\.0\\] LOG$/constexpr double TARGET_BEAM_WIDTH_INCREASE_RATE = 0.8085885977420243;      \\/\\/ OPTIMIZE [0.5, 1.0] LOG/' -e 's/^constexpr double TARGET_BEAM_WIDTH_HALF_PROGRES_RATE = .*;  \\/\\/ OPTIMIZE \\[0\\.02, 0\\.98\\]$/constexpr double TARGET_BEAM_WIDTH_HALF_PROGRES_RATE = 0.8996362003803864;  \\/\\/ OPTIMIZE [0.02, 0.98]/'\n",
      "g++ 5_main.cpp -std=gnu++17 -O2 -DONLINE_JUDGE -o 5_main.cpp.out 2> /dev/null\n"
     ]
    },
    {
     "name": "stderr",
     "output_type": "stream",
     "text": [
      "\u001b[32m[I 2021-09-10 19:31:19,285]\u001b[0m Trial 98 finished with value: 923739965.0 and parameters: {'K_START': 0.05285759698984211, 'K_END': 0.03952696240875507, 'K_H': 0.6108499950908006, 'PURCHASE_TURN_LIMIT': 849, 'SUBSCORE3_TIGHT_TURN': 0, 'ROUGH_HASH': '0b00000001', 'TARGET_BEAM_WIDTH_INCREASE_RATE': 0.9280762670925607, 'TARGET_BEAM_WIDTH_HALF_PROGRES_RATE': 0.8877136581593499}. Best is trial 97 with value: 936947048.0.\u001b[0m\n"
     ]
    },
    {
     "name": "stdout",
     "output_type": "stream",
     "text": [
      "callback ok\n",
      "index_parallel=6\n",
      "sed -i 6_main.cpp -e 's/^constexpr double K_START = .*;  \\/\\/ OPTIMIZE \\[0\\.04, 0\\.12\\] LOG$/constexpr double K_START = 0.10131186132490802;  \\/\\/ OPTIMIZE [0.04, 0.12] LOG/' -e 's/^constexpr double K_END = .*;   \\/\\/ OPTIMIZE \\[0\\.03, 0\\.1\\] LOG$/constexpr double K_END = 0.059457983882404676;   \\/\\/ OPTIMIZE [0.03, 0.1] LOG/' -e 's/^constexpr double K_H = .*;      \\/\\/ OPTIMIZE \\[0\\.001, 0\\.999\\]$/constexpr double K_H = 0.5842645560874561;      \\/\\/ OPTIMIZE [0.001, 0.999]/' -e 's/^constexpr short PURCHASE_TURN_LIMIT = .*;  \\/\\/ OPTIMIZE \\[790, 870\\]$/constexpr short PURCHASE_TURN_LIMIT = 845;  \\/\\/ OPTIMIZE [790, 870]/' -e 's/^constexpr int SUBSCORE3_TIGHT_TURN = .*;     \\/\\/ OPTIMIZE \\[0, 1\\]$/constexpr int SUBSCORE3_TIGHT_TURN = 1;     \\/\\/ OPTIMIZE [0, 1]/' -e 's/^constexpr int ROUGH_HASH = .*;      \\/\\/ OPTIMIZE {0, 0b00000001, 0b00010001, 0b00010011, 0b00110011}$/constexpr int ROUGH_HASH = 0b00000001;      \\/\\/ OPTIMIZE {0, 0b00000001, 0b00010001, 0b00010011, 0b00110011}/' -e 's/^constexpr double TARGET_BEAM_WIDTH_INCREASE_RATE = .*;      \\/\\/ OPTIMIZE \\[0\\.5, 1\\.0\\] LOG$/constexpr double TARGET_BEAM_WIDTH_INCREASE_RATE = 0.855538242564023;      \\/\\/ OPTIMIZE [0.5, 1.0] LOG/' -e 's/^constexpr double TARGET_BEAM_WIDTH_HALF_PROGRES_RATE = .*;  \\/\\/ OPTIMIZE \\[0\\.02, 0\\.98\\]$/constexpr double TARGET_BEAM_WIDTH_HALF_PROGRES_RATE = 0.9258560995240696;  \\/\\/ OPTIMIZE [0.02, 0.98]/'\n",
      "g++ 6_main.cpp -std=gnu++17 -O2 -DONLINE_JUDGE -o 6_main.cpp.out 2> /dev/null\n"
     ]
    },
    {
     "name": "stderr",
     "output_type": "stream",
     "text": [
      "\u001b[32m[I 2021-09-10 19:31:22,723]\u001b[0m Trial 99 finished with value: 928082115.0 and parameters: {'K_START': 0.10046550251189398, 'K_END': 0.053830941105378186, 'K_H': 0.6510305053525861, 'PURCHASE_TURN_LIMIT': 839, 'SUBSCORE3_TIGHT_TURN': 0, 'ROUGH_HASH': '0b00000001', 'TARGET_BEAM_WIDTH_INCREASE_RATE': 0.6559906201626369, 'TARGET_BEAM_WIDTH_HALF_PROGRES_RATE': 0.8927784491645276}. Best is trial 97 with value: 936947048.0.\u001b[0m\n"
     ]
    },
    {
     "name": "stdout",
     "output_type": "stream",
     "text": [
      "callback ok\n",
      "index_parallel=7\n",
      "sed -i 7_main.cpp -e 's/^constexpr double K_START = .*;  \\/\\/ OPTIMIZE \\[0\\.04, 0\\.12\\] LOG$/constexpr double K_START = 0.09120789337421437;  \\/\\/ OPTIMIZE [0.04, 0.12] LOG/' -e 's/^constexpr double K_END = .*;   \\/\\/ OPTIMIZE \\[0\\.03, 0\\.1\\] LOG$/constexpr double K_END = 0.05952690532565608;   \\/\\/ OPTIMIZE [0.03, 0.1] LOG/' -e 's/^constexpr double K_H = .*;      \\/\\/ OPTIMIZE \\[0\\.001, 0\\.999\\]$/constexpr double K_H = 0.7217170254524596;      \\/\\/ OPTIMIZE [0.001, 0.999]/' -e 's/^constexpr short PURCHASE_TURN_LIMIT = .*;  \\/\\/ OPTIMIZE \\[790, 870\\]$/constexpr short PURCHASE_TURN_LIMIT = 852;  \\/\\/ OPTIMIZE [790, 870]/' -e 's/^constexpr int SUBSCORE3_TIGHT_TURN = .*;     \\/\\/ OPTIMIZE \\[0, 1\\]$/constexpr int SUBSCORE3_TIGHT_TURN = 1;     \\/\\/ OPTIMIZE [0, 1]/' -e 's/^constexpr int ROUGH_HASH = .*;      \\/\\/ OPTIMIZE {0, 0b00000001, 0b00010001, 0b00010011, 0b00110011}$/constexpr int ROUGH_HASH = 0b00000001;      \\/\\/ OPTIMIZE {0, 0b00000001, 0b00010001, 0b00010011, 0b00110011}/' -e 's/^constexpr double TARGET_BEAM_WIDTH_INCREASE_RATE = .*;      \\/\\/ OPTIMIZE \\[0\\.5, 1\\.0\\] LOG$/constexpr double TARGET_BEAM_WIDTH_INCREASE_RATE = 0.8773138133820496;      \\/\\/ OPTIMIZE [0.5, 1.0] LOG/' -e 's/^constexpr double TARGET_BEAM_WIDTH_HALF_PROGRES_RATE = .*;  \\/\\/ OPTIMIZE \\[0\\.02, 0\\.98\\]$/constexpr double TARGET_BEAM_WIDTH_HALF_PROGRES_RATE = 0.9339425170201952;  \\/\\/ OPTIMIZE [0.02, 0.98]/'\n",
      "g++ 7_main.cpp -std=gnu++17 -O2 -DONLINE_JUDGE -o 7_main.cpp.out 2> /dev/null\n"
     ]
    },
    {
     "name": "stderr",
     "output_type": "stream",
     "text": [
      "\u001b[32m[I 2021-09-10 19:33:19,860]\u001b[0m Trial 100 finished with value: 926871801.0 and parameters: {'K_START': 0.05792598725663384, 'K_END': 0.05848284986325612, 'K_H': 0.3465866505147656, 'PURCHASE_TURN_LIMIT': 845, 'SUBSCORE3_TIGHT_TURN': 0, 'ROUGH_HASH': '0b00000001', 'TARGET_BEAM_WIDTH_INCREASE_RATE': 0.8521851530780928, 'TARGET_BEAM_WIDTH_HALF_PROGRES_RATE': 0.9035952850195819}. Best is trial 97 with value: 936947048.0.\u001b[0m\n"
     ]
    },
    {
     "name": "stdout",
     "output_type": "stream",
     "text": [
      "callback ok\n",
      "index_parallel=8\n",
      "sed -i 8_main.cpp -e 's/^constexpr double K_START = .*;  \\/\\/ OPTIMIZE \\[0\\.04, 0\\.12\\] LOG$/constexpr double K_START = 0.09172165000145602;  \\/\\/ OPTIMIZE [0.04, 0.12] LOG/' -e 's/^constexpr double K_END = .*;   \\/\\/ OPTIMIZE \\[0\\.03, 0\\.1\\] LOG$/constexpr double K_END = 0.06295052506264702;   \\/\\/ OPTIMIZE [0.03, 0.1] LOG/' -e 's/^constexpr double K_H = .*;      \\/\\/ OPTIMIZE \\[0\\.001, 0\\.999\\]$/constexpr double K_H = 0.5818765129631369;      \\/\\/ OPTIMIZE [0.001, 0.999]/' -e 's/^constexpr short PURCHASE_TURN_LIMIT = .*;  \\/\\/ OPTIMIZE \\[790, 870\\]$/constexpr short PURCHASE_TURN_LIMIT = 845;  \\/\\/ OPTIMIZE [790, 870]/' -e 's/^constexpr int SUBSCORE3_TIGHT_TURN = .*;     \\/\\/ OPTIMIZE \\[0, 1\\]$/constexpr int SUBSCORE3_TIGHT_TURN = 0;     \\/\\/ OPTIMIZE [0, 1]/' -e 's/^constexpr int ROUGH_HASH = .*;      \\/\\/ OPTIMIZE {0, 0b00000001, 0b00010001, 0b00010011, 0b00110011}$/constexpr int ROUGH_HASH = 0b00000001;      \\/\\/ OPTIMIZE {0, 0b00000001, 0b00010001, 0b00010011, 0b00110011}/' -e 's/^constexpr double TARGET_BEAM_WIDTH_INCREASE_RATE = .*;      \\/\\/ OPTIMIZE \\[0\\.5, 1\\.0\\] LOG$/constexpr double TARGET_BEAM_WIDTH_INCREASE_RATE = 0.8047731730266093;      \\/\\/ OPTIMIZE [0.5, 1.0] LOG/' -e 's/^constexpr double TARGET_BEAM_WIDTH_HALF_PROGRES_RATE = .*;  \\/\\/ OPTIMIZE \\[0\\.02, 0\\.98\\]$/constexpr double TARGET_BEAM_WIDTH_HALF_PROGRES_RATE = 0.9342204366375764;  \\/\\/ OPTIMIZE [0.02, 0.98]/'\n",
      "g++ 8_main.cpp -std=gnu++17 -O2 -DONLINE_JUDGE -o 8_main.cpp.out 2> /dev/null\n"
     ]
    },
    {
     "name": "stderr",
     "output_type": "stream",
     "text": [
      "\u001b[32m[I 2021-09-10 19:33:38,338]\u001b[0m Trial 101 finished with value: 928306327.0 and parameters: {'K_START': 0.10055038914007382, 'K_END': 0.05928387115357059, 'K_H': 0.5897245317031115, 'PURCHASE_TURN_LIMIT': 845, 'SUBSCORE3_TIGHT_TURN': 1, 'ROUGH_HASH': '0b00000001', 'TARGET_BEAM_WIDTH_INCREASE_RATE': 0.8085885977420243, 'TARGET_BEAM_WIDTH_HALF_PROGRES_RATE': 0.8996362003803864}. Best is trial 97 with value: 936947048.0.\u001b[0m\n"
     ]
    },
    {
     "name": "stdout",
     "output_type": "stream",
     "text": [
      "callback ok\n",
      "index_parallel=9\n",
      "sed -i 9_main.cpp -e 's/^constexpr double K_START = .*;  \\/\\/ OPTIMIZE \\[0\\.04, 0\\.12\\] LOG$/constexpr double K_START = 0.103623355162696;  \\/\\/ OPTIMIZE [0.04, 0.12] LOG/' -e 's/^constexpr double K_END = .*;   \\/\\/ OPTIMIZE \\[0\\.03, 0\\.1\\] LOG$/constexpr double K_END = 0.03761905132582035;   \\/\\/ OPTIMIZE [0.03, 0.1] LOG/' -e 's/^constexpr double K_H = .*;      \\/\\/ OPTIMIZE \\[0\\.001, 0\\.999\\]$/constexpr double K_H = 0.4697218766190478;      \\/\\/ OPTIMIZE [0.001, 0.999]/' -e 's/^constexpr short PURCHASE_TURN_LIMIT = .*;  \\/\\/ OPTIMIZE \\[790, 870\\]$/constexpr short PURCHASE_TURN_LIMIT = 856;  \\/\\/ OPTIMIZE [790, 870]/' -e 's/^constexpr int SUBSCORE3_TIGHT_TURN = .*;     \\/\\/ OPTIMIZE \\[0, 1\\]$/constexpr int SUBSCORE3_TIGHT_TURN = 0;     \\/\\/ OPTIMIZE [0, 1]/' -e 's/^constexpr int ROUGH_HASH = .*;      \\/\\/ OPTIMIZE {0, 0b00000001, 0b00010001, 0b00010011, 0b00110011}$/constexpr int ROUGH_HASH = 0b00000001;      \\/\\/ OPTIMIZE {0, 0b00000001, 0b00010001, 0b00010011, 0b00110011}/' -e 's/^constexpr double TARGET_BEAM_WIDTH_INCREASE_RATE = .*;      \\/\\/ OPTIMIZE \\[0\\.5, 1\\.0\\] LOG$/constexpr double TARGET_BEAM_WIDTH_INCREASE_RATE = 0.9999802848027511;      \\/\\/ OPTIMIZE [0.5, 1.0] LOG/' -e 's/^constexpr double TARGET_BEAM_WIDTH_HALF_PROGRES_RATE = .*;  \\/\\/ OPTIMIZE \\[0\\.02, 0\\.98\\]$/constexpr double TARGET_BEAM_WIDTH_HALF_PROGRES_RATE = 0.9251132824252797;  \\/\\/ OPTIMIZE [0.02, 0.98]/'\n",
      "g++ 9_main.cpp -std=gnu++17 -O2 -DONLINE_JUDGE -o 9_main.cpp.out 2> /dev/null\n"
     ]
    },
    {
     "name": "stderr",
     "output_type": "stream",
     "text": [
      "\u001b[32m[I 2021-09-10 19:33:50,574]\u001b[0m Trial 102 finished with value: 929025128.0 and parameters: {'K_START': 0.10131186132490802, 'K_END': 0.059457983882404676, 'K_H': 0.5842645560874561, 'PURCHASE_TURN_LIMIT': 845, 'SUBSCORE3_TIGHT_TURN': 1, 'ROUGH_HASH': '0b00000001', 'TARGET_BEAM_WIDTH_INCREASE_RATE': 0.855538242564023, 'TARGET_BEAM_WIDTH_HALF_PROGRES_RATE': 0.9258560995240696}. Best is trial 97 with value: 936947048.0.\u001b[0m\n"
     ]
    },
    {
     "name": "stdout",
     "output_type": "stream",
     "text": [
      "callback ok\n",
      "index_parallel=10\n",
      "sed -i 10_main.cpp -e 's/^constexpr double K_START = .*;  \\/\\/ OPTIMIZE \\[0\\.04, 0\\.12\\] LOG$/constexpr double K_START = 0.07445557073027681;  \\/\\/ OPTIMIZE [0.04, 0.12] LOG/' -e 's/^constexpr double K_END = .*;   \\/\\/ OPTIMIZE \\[0\\.03, 0\\.1\\] LOG$/constexpr double K_END = 0.03758052938233085;   \\/\\/ OPTIMIZE [0.03, 0.1] LOG/' -e 's/^constexpr double K_H = .*;      \\/\\/ OPTIMIZE \\[0\\.001, 0\\.999\\]$/constexpr double K_H = 0.43375428674033767;      \\/\\/ OPTIMIZE [0.001, 0.999]/' -e 's/^constexpr short PURCHASE_TURN_LIMIT = .*;  \\/\\/ OPTIMIZE \\[790, 870\\]$/constexpr short PURCHASE_TURN_LIMIT = 853;  \\/\\/ OPTIMIZE [790, 870]/' -e 's/^constexpr int SUBSCORE3_TIGHT_TURN = .*;     \\/\\/ OPTIMIZE \\[0, 1\\]$/constexpr int SUBSCORE3_TIGHT_TURN = 0;     \\/\\/ OPTIMIZE [0, 1]/' -e 's/^constexpr int ROUGH_HASH = .*;      \\/\\/ OPTIMIZE {0, 0b00000001, 0b00010001, 0b00010011, 0b00110011}$/constexpr int ROUGH_HASH = 0b00000001;      \\/\\/ OPTIMIZE {0, 0b00000001, 0b00010001, 0b00010011, 0b00110011}/' -e 's/^constexpr double TARGET_BEAM_WIDTH_INCREASE_RATE = .*;      \\/\\/ OPTIMIZE \\[0\\.5, 1\\.0\\] LOG$/constexpr double TARGET_BEAM_WIDTH_INCREASE_RATE = 0.8818530275025565;      \\/\\/ OPTIMIZE [0.5, 1.0] LOG/' -e 's/^constexpr double TARGET_BEAM_WIDTH_HALF_PROGRES_RATE = .*;  \\/\\/ OPTIMIZE \\[0\\.02, 0\\.98\\]$/constexpr double TARGET_BEAM_WIDTH_HALF_PROGRES_RATE = 0.756382036573995;  \\/\\/ OPTIMIZE [0.02, 0.98]/'\n",
      "g++ 10_main.cpp -std=gnu++17 -O2 -DONLINE_JUDGE -o 10_main.cpp.out 2> /dev/null\n"
     ]
    },
    {
     "name": "stderr",
     "output_type": "stream",
     "text": [
      "\u001b[32m[I 2021-09-10 19:33:54,367]\u001b[0m Trial 103 finished with value: 920914915.0 and parameters: {'K_START': 0.09120789337421437, 'K_END': 0.05952690532565608, 'K_H': 0.7217170254524596, 'PURCHASE_TURN_LIMIT': 852, 'SUBSCORE3_TIGHT_TURN': 1, 'ROUGH_HASH': '0b00000001', 'TARGET_BEAM_WIDTH_INCREASE_RATE': 0.8773138133820496, 'TARGET_BEAM_WIDTH_HALF_PROGRES_RATE': 0.9339425170201952}. Best is trial 97 with value: 936947048.0.\u001b[0m\n"
     ]
    },
    {
     "name": "stdout",
     "output_type": "stream",
     "text": [
      "callback ok\n",
      "index_parallel=11\n",
      "sed -i 11_main.cpp -e 's/^constexpr double K_START = .*;  \\/\\/ OPTIMIZE \\[0\\.04, 0\\.12\\] LOG$/constexpr double K_START = 0.06288175942504491;  \\/\\/ OPTIMIZE [0.04, 0.12] LOG/' -e 's/^constexpr double K_END = .*;   \\/\\/ OPTIMIZE \\[0\\.03, 0\\.1\\] LOG$/constexpr double K_END = 0.04298344948593605;   \\/\\/ OPTIMIZE [0.03, 0.1] LOG/' -e 's/^constexpr double K_H = .*;      \\/\\/ OPTIMIZE \\[0\\.001, 0\\.999\\]$/constexpr double K_H = 0.4730388241136684;      \\/\\/ OPTIMIZE [0.001, 0.999]/' -e 's/^constexpr short PURCHASE_TURN_LIMIT = .*;  \\/\\/ OPTIMIZE \\[790, 870\\]$/constexpr short PURCHASE_TURN_LIMIT = 857;  \\/\\/ OPTIMIZE [790, 870]/' -e 's/^constexpr int SUBSCORE3_TIGHT_TURN = .*;     \\/\\/ OPTIMIZE \\[0, 1\\]$/constexpr int SUBSCORE3_TIGHT_TURN = 0;     \\/\\/ OPTIMIZE [0, 1]/' -e 's/^constexpr int ROUGH_HASH = .*;      \\/\\/ OPTIMIZE {0, 0b00000001, 0b00010001, 0b00010011, 0b00110011}$/constexpr int ROUGH_HASH = 0b00000001;      \\/\\/ OPTIMIZE {0, 0b00000001, 0b00010001, 0b00010011, 0b00110011}/' -e 's/^constexpr double TARGET_BEAM_WIDTH_INCREASE_RATE = .*;      \\/\\/ OPTIMIZE \\[0\\.5, 1\\.0\\] LOG$/constexpr double TARGET_BEAM_WIDTH_INCREASE_RATE = 0.5514491860790467;      \\/\\/ OPTIMIZE [0.5, 1.0] LOG/' -e 's/^constexpr double TARGET_BEAM_WIDTH_HALF_PROGRES_RATE = .*;  \\/\\/ OPTIMIZE \\[0\\.02, 0\\.98\\]$/constexpr double TARGET_BEAM_WIDTH_HALF_PROGRES_RATE = 0.7327745058002303;  \\/\\/ OPTIMIZE [0.02, 0.98]/'\n",
      "g++ 11_main.cpp -std=gnu++17 -O2 -DONLINE_JUDGE -o 11_main.cpp.out 2> /dev/null\n"
     ]
    },
    {
     "name": "stderr",
     "output_type": "stream",
     "text": [
      "\u001b[32m[I 2021-09-10 19:35:51,615]\u001b[0m Trial 104 finished with value: 930588313.0 and parameters: {'K_START': 0.09172165000145602, 'K_END': 0.06295052506264702, 'K_H': 0.5818765129631369, 'PURCHASE_TURN_LIMIT': 845, 'SUBSCORE3_TIGHT_TURN': 0, 'ROUGH_HASH': '0b00000001', 'TARGET_BEAM_WIDTH_INCREASE_RATE': 0.8047731730266093, 'TARGET_BEAM_WIDTH_HALF_PROGRES_RATE': 0.9342204366375764}. Best is trial 97 with value: 936947048.0.\u001b[0m\n"
     ]
    },
    {
     "name": "stdout",
     "output_type": "stream",
     "text": [
      "callback ok\n",
      "index_parallel=0\n",
      "sed -i 0_main.cpp -e 's/^constexpr double K_START = .*;  \\/\\/ OPTIMIZE \\[0\\.04, 0\\.12\\] LOG$/constexpr double K_START = 0.06383927089211554;  \\/\\/ OPTIMIZE [0.04, 0.12] LOG/' -e 's/^constexpr double K_END = .*;   \\/\\/ OPTIMIZE \\[0\\.03, 0\\.1\\] LOG$/constexpr double K_END = 0.043418088498320816;   \\/\\/ OPTIMIZE [0.03, 0.1] LOG/' -e 's/^constexpr double K_H = .*;      \\/\\/ OPTIMIZE \\[0\\.001, 0\\.999\\]$/constexpr double K_H = 0.46446678970176597;      \\/\\/ OPTIMIZE [0.001, 0.999]/' -e 's/^constexpr short PURCHASE_TURN_LIMIT = .*;  \\/\\/ OPTIMIZE \\[790, 870\\]$/constexpr short PURCHASE_TURN_LIMIT = 856;  \\/\\/ OPTIMIZE [790, 870]/' -e 's/^constexpr int SUBSCORE3_TIGHT_TURN = .*;     \\/\\/ OPTIMIZE \\[0, 1\\]$/constexpr int SUBSCORE3_TIGHT_TURN = 0;     \\/\\/ OPTIMIZE [0, 1]/' -e 's/^constexpr int ROUGH_HASH = .*;      \\/\\/ OPTIMIZE {0, 0b00000001, 0b00010001, 0b00010011, 0b00110011}$/constexpr int ROUGH_HASH = 0b00000001;      \\/\\/ OPTIMIZE {0, 0b00000001, 0b00010001, 0b00010011, 0b00110011}/' -e 's/^constexpr double TARGET_BEAM_WIDTH_INCREASE_RATE = .*;      \\/\\/ OPTIMIZE \\[0\\.5, 1\\.0\\] LOG$/constexpr double TARGET_BEAM_WIDTH_INCREASE_RATE = 0.9251079306896195;      \\/\\/ OPTIMIZE [0.5, 1.0] LOG/' -e 's/^constexpr double TARGET_BEAM_WIDTH_HALF_PROGRES_RATE = .*;  \\/\\/ OPTIMIZE \\[0\\.02, 0\\.98\\]$/constexpr double TARGET_BEAM_WIDTH_HALF_PROGRES_RATE = 0.7291898488503594;  \\/\\/ OPTIMIZE [0.02, 0.98]/'\n",
      "g++ 0_main.cpp -std=gnu++17 -O2 -DONLINE_JUDGE -o 0_main.cpp.out 2> /dev/null\n"
     ]
    },
    {
     "name": "stderr",
     "output_type": "stream",
     "text": [
      "\u001b[32m[I 2021-09-10 19:36:10,086]\u001b[0m Trial 105 finished with value: 921478651.0 and parameters: {'K_START': 0.103623355162696, 'K_END': 0.03761905132582035, 'K_H': 0.4697218766190478, 'PURCHASE_TURN_LIMIT': 856, 'SUBSCORE3_TIGHT_TURN': 0, 'ROUGH_HASH': '0b00000001', 'TARGET_BEAM_WIDTH_INCREASE_RATE': 0.9999802848027511, 'TARGET_BEAM_WIDTH_HALF_PROGRES_RATE': 0.9251132824252797}. Best is trial 97 with value: 936947048.0.\u001b[0m\n"
     ]
    },
    {
     "name": "stdout",
     "output_type": "stream",
     "text": [
      "callback ok\n",
      "index_parallel=1\n",
      "sed -i 1_main.cpp -e 's/^constexpr double K_START = .*;  \\/\\/ OPTIMIZE \\[0\\.04, 0\\.12\\] LOG$/constexpr double K_START = 0.07521961601673918;  \\/\\/ OPTIMIZE [0.04, 0.12] LOG/' -e 's/^constexpr double K_END = .*;   \\/\\/ OPTIMIZE \\[0\\.03, 0\\.1\\] LOG$/constexpr double K_END = 0.04340388821968591;   \\/\\/ OPTIMIZE [0.03, 0.1] LOG/' -e 's/^constexpr double K_H = .*;      \\/\\/ OPTIMIZE \\[0\\.001, 0\\.999\\]$/constexpr double K_H = 0.44200852679447483;      \\/\\/ OPTIMIZE [0.001, 0.999]/' -e 's/^constexpr short PURCHASE_TURN_LIMIT = .*;  \\/\\/ OPTIMIZE \\[790, 870\\]$/constexpr short PURCHASE_TURN_LIMIT = 838;  \\/\\/ OPTIMIZE [790, 870]/' -e 's/^constexpr int SUBSCORE3_TIGHT_TURN = .*;     \\/\\/ OPTIMIZE \\[0, 1\\]$/constexpr int SUBSCORE3_TIGHT_TURN = 0;     \\/\\/ OPTIMIZE [0, 1]/' -e 's/^constexpr int ROUGH_HASH = .*;      \\/\\/ OPTIMIZE {0, 0b00000001, 0b00010001, 0b00010011, 0b00110011}$/constexpr int ROUGH_HASH = 0b00010011;      \\/\\/ OPTIMIZE {0, 0b00000001, 0b00010001, 0b00010011, 0b00110011}/' -e 's/^constexpr double TARGET_BEAM_WIDTH_INCREASE_RATE = .*;      \\/\\/ OPTIMIZE \\[0\\.5, 1\\.0\\] LOG$/constexpr double TARGET_BEAM_WIDTH_INCREASE_RATE = 0.8768930972700247;      \\/\\/ OPTIMIZE [0.5, 1.0] LOG/' -e 's/^constexpr double TARGET_BEAM_WIDTH_HALF_PROGRES_RATE = .*;  \\/\\/ OPTIMIZE \\[0\\.02, 0\\.98\\]$/constexpr double TARGET_BEAM_WIDTH_HALF_PROGRES_RATE = 0.7388875167144112;  \\/\\/ OPTIMIZE [0.02, 0.98]/'\n",
      "g++ 1_main.cpp -std=gnu++17 -O2 -DONLINE_JUDGE -o 1_main.cpp.out 2> /dev/null\n"
     ]
    },
    {
     "name": "stderr",
     "output_type": "stream",
     "text": [
      "\u001b[32m[I 2021-09-10 19:36:22,292]\u001b[0m Trial 106 finished with value: 925863049.0 and parameters: {'K_START': 0.07445557073027681, 'K_END': 0.03758052938233085, 'K_H': 0.43375428674033767, 'PURCHASE_TURN_LIMIT': 853, 'SUBSCORE3_TIGHT_TURN': 0, 'ROUGH_HASH': '0b00000001', 'TARGET_BEAM_WIDTH_INCREASE_RATE': 0.8818530275025565, 'TARGET_BEAM_WIDTH_HALF_PROGRES_RATE': 0.756382036573995}. Best is trial 97 with value: 936947048.0.\u001b[0m\n"
     ]
    },
    {
     "name": "stdout",
     "output_type": "stream",
     "text": [
      "callback ok\n",
      "index_parallel=2\n",
      "sed -i 2_main.cpp -e 's/^constexpr double K_START = .*;  \\/\\/ OPTIMIZE \\[0\\.04, 0\\.12\\] LOG$/constexpr double K_START = 0.06922003988239149;  \\/\\/ OPTIMIZE [0.04, 0.12] LOG/' -e 's/^constexpr double K_END = .*;   \\/\\/ OPTIMIZE \\[0\\.03, 0\\.1\\] LOG$/constexpr double K_END = 0.05494582775443896;   \\/\\/ OPTIMIZE [0.03, 0.1] LOG/' -e 's/^constexpr double K_H = .*;      \\/\\/ OPTIMIZE \\[0\\.001, 0\\.999\\]$/constexpr double K_H = 0.498545237116788;      \\/\\/ OPTIMIZE [0.001, 0.999]/' -e 's/^constexpr short PURCHASE_TURN_LIMIT = .*;  \\/\\/ OPTIMIZE \\[790, 870\\]$/constexpr short PURCHASE_TURN_LIMIT = 840;  \\/\\/ OPTIMIZE [790, 870]/' -e 's/^constexpr int SUBSCORE3_TIGHT_TURN = .*;     \\/\\/ OPTIMIZE \\[0, 1\\]$/constexpr int SUBSCORE3_TIGHT_TURN = 0;     \\/\\/ OPTIMIZE [0, 1]/' -e 's/^constexpr int ROUGH_HASH = .*;      \\/\\/ OPTIMIZE {0, 0b00000001, 0b00010001, 0b00010011, 0b00110011}$/constexpr int ROUGH_HASH = 0b00000001;      \\/\\/ OPTIMIZE {0, 0b00000001, 0b00010001, 0b00010011, 0b00110011}/' -e 's/^constexpr double TARGET_BEAM_WIDTH_INCREASE_RATE = .*;      \\/\\/ OPTIMIZE \\[0\\.5, 1\\.0\\] LOG$/constexpr double TARGET_BEAM_WIDTH_INCREASE_RATE = 0.926381841175382;      \\/\\/ OPTIMIZE [0.5, 1.0] LOG/' -e 's/^constexpr double TARGET_BEAM_WIDTH_HALF_PROGRES_RATE = .*;  \\/\\/ OPTIMIZE \\[0\\.02, 0\\.98\\]$/constexpr double TARGET_BEAM_WIDTH_HALF_PROGRES_RATE = 0.7280876308839724;  \\/\\/ OPTIMIZE [0.02, 0.98]/'\n",
      "g++ 2_main.cpp -std=gnu++17 -O2 -DONLINE_JUDGE -o 2_main.cpp.out 2> /dev/null\n"
     ]
    },
    {
     "name": "stderr",
     "output_type": "stream",
     "text": [
      "\u001b[32m[I 2021-09-10 19:36:27,442]\u001b[0m Trial 107 finished with value: 925219664.0 and parameters: {'K_START': 0.06288175942504491, 'K_END': 0.04298344948593605, 'K_H': 0.4730388241136684, 'PURCHASE_TURN_LIMIT': 857, 'SUBSCORE3_TIGHT_TURN': 0, 'ROUGH_HASH': '0b00000001', 'TARGET_BEAM_WIDTH_INCREASE_RATE': 0.5514491860790467, 'TARGET_BEAM_WIDTH_HALF_PROGRES_RATE': 0.7327745058002303}. Best is trial 97 with value: 936947048.0.\u001b[0m\n"
     ]
    },
    {
     "name": "stdout",
     "output_type": "stream",
     "text": [
      "callback ok\n",
      "index_parallel=3\n",
      "sed -i 3_main.cpp -e 's/^constexpr double K_START = .*;  \\/\\/ OPTIMIZE \\[0\\.04, 0\\.12\\] LOG$/constexpr double K_START = 0.11414562891288718;  \\/\\/ OPTIMIZE [0.04, 0.12] LOG/' -e 's/^constexpr double K_END = .*;   \\/\\/ OPTIMIZE \\[0\\.03, 0\\.1\\] LOG$/constexpr double K_END = 0.055036134069822926;   \\/\\/ OPTIMIZE [0.03, 0.1] LOG/' -e 's/^constexpr double K_H = .*;      \\/\\/ OPTIMIZE \\[0\\.001, 0\\.999\\]$/constexpr double K_H = 0.6476917816696002;      \\/\\/ OPTIMIZE [0.001, 0.999]/' -e 's/^constexpr short PURCHASE_TURN_LIMIT = .*;  \\/\\/ OPTIMIZE \\[790, 870\\]$/constexpr short PURCHASE_TURN_LIMIT = 840;  \\/\\/ OPTIMIZE [790, 870]/' -e 's/^constexpr int SUBSCORE3_TIGHT_TURN = .*;     \\/\\/ OPTIMIZE \\[0, 1\\]$/constexpr int SUBSCORE3_TIGHT_TURN = 0;     \\/\\/ OPTIMIZE [0, 1]/' -e 's/^constexpr int ROUGH_HASH = .*;      \\/\\/ OPTIMIZE {0, 0b00000001, 0b00010001, 0b00010011, 0b00110011}$/constexpr int ROUGH_HASH = 0b00010011;      \\/\\/ OPTIMIZE {0, 0b00000001, 0b00010001, 0b00010011, 0b00110011}/' -e 's/^constexpr double TARGET_BEAM_WIDTH_INCREASE_RATE = .*;      \\/\\/ OPTIMIZE \\[0\\.5, 1\\.0\\] LOG$/constexpr double TARGET_BEAM_WIDTH_INCREASE_RATE = 0.9287674875864286;      \\/\\/ OPTIMIZE [0.5, 1.0] LOG/' -e 's/^constexpr double TARGET_BEAM_WIDTH_HALF_PROGRES_RATE = .*;  \\/\\/ OPTIMIZE \\[0\\.02, 0\\.98\\]$/constexpr double TARGET_BEAM_WIDTH_HALF_PROGRES_RATE = 0.8555158687772748;  \\/\\/ OPTIMIZE [0.02, 0.98]/'\n",
      "g++ 3_main.cpp -std=gnu++17 -O2 -DONLINE_JUDGE -o 3_main.cpp.out 2> /dev/null\n"
     ]
    },
    {
     "name": "stderr",
     "output_type": "stream",
     "text": [
      "\u001b[32m[I 2021-09-10 19:38:23,578]\u001b[0m Trial 108 finished with value: 921687034.0 and parameters: {'K_START': 0.06383927089211554, 'K_END': 0.043418088498320816, 'K_H': 0.46446678970176597, 'PURCHASE_TURN_LIMIT': 856, 'SUBSCORE3_TIGHT_TURN': 0, 'ROUGH_HASH': '0b00000001', 'TARGET_BEAM_WIDTH_INCREASE_RATE': 0.9251079306896195, 'TARGET_BEAM_WIDTH_HALF_PROGRES_RATE': 0.7291898488503594}. Best is trial 97 with value: 936947048.0.\u001b[0m\n"
     ]
    },
    {
     "name": "stdout",
     "output_type": "stream",
     "text": [
      "callback ok\n",
      "index_parallel=4\n",
      "sed -i 4_main.cpp -e 's/^constexpr double K_START = .*;  \\/\\/ OPTIMIZE \\[0\\.04, 0\\.12\\] LOG$/constexpr double K_START = 0.113727692819392;  \\/\\/ OPTIMIZE [0.04, 0.12] LOG/' -e 's/^constexpr double K_END = .*;   \\/\\/ OPTIMIZE \\[0\\.03, 0\\.1\\] LOG$/constexpr double K_END = 0.05538256225393816;   \\/\\/ OPTIMIZE [0.03, 0.1] LOG/' -e 's/^constexpr double K_H = .*;      \\/\\/ OPTIMIZE \\[0\\.001, 0\\.999\\]$/constexpr double K_H = 0.4953209371329336;      \\/\\/ OPTIMIZE [0.001, 0.999]/' -e 's/^constexpr short PURCHASE_TURN_LIMIT = .*;  \\/\\/ OPTIMIZE \\[790, 870\\]$/constexpr short PURCHASE_TURN_LIMIT = 840;  \\/\\/ OPTIMIZE [790, 870]/' -e 's/^constexpr int SUBSCORE3_TIGHT_TURN = .*;     \\/\\/ OPTIMIZE \\[0, 1\\]$/constexpr int SUBSCORE3_TIGHT_TURN = 0;     \\/\\/ OPTIMIZE [0, 1]/' -e 's/^constexpr int ROUGH_HASH = .*;      \\/\\/ OPTIMIZE {0, 0b00000001, 0b00010001, 0b00010011, 0b00110011}$/constexpr int ROUGH_HASH = 0b00010011;      \\/\\/ OPTIMIZE {0, 0b00000001, 0b00010001, 0b00010011, 0b00110011}/' -e 's/^constexpr double TARGET_BEAM_WIDTH_INCREASE_RATE = .*;      \\/\\/ OPTIMIZE \\[0\\.5, 1\\.0\\] LOG$/constexpr double TARGET_BEAM_WIDTH_INCREASE_RATE = 0.9314227289583817;      \\/\\/ OPTIMIZE [0.5, 1.0] LOG/' -e 's/^constexpr double TARGET_BEAM_WIDTH_HALF_PROGRES_RATE = .*;  \\/\\/ OPTIMIZE \\[0\\.02, 0\\.98\\]$/constexpr double TARGET_BEAM_WIDTH_HALF_PROGRES_RATE = 0.8568412149683163;  \\/\\/ OPTIMIZE [0.02, 0.98]/'\n",
      "g++ 4_main.cpp -std=gnu++17 -O2 -DONLINE_JUDGE -o 4_main.cpp.out 2> /dev/null\n"
     ]
    },
    {
     "name": "stderr",
     "output_type": "stream",
     "text": [
      "\u001b[32m[I 2021-09-10 19:38:37,814]\u001b[0m Trial 109 finished with value: 928463557.0 and parameters: {'K_START': 0.07521961601673918, 'K_END': 0.04340388821968591, 'K_H': 0.44200852679447483, 'PURCHASE_TURN_LIMIT': 838, 'SUBSCORE3_TIGHT_TURN': 0, 'ROUGH_HASH': '0b00010011', 'TARGET_BEAM_WIDTH_INCREASE_RATE': 0.8768930972700247, 'TARGET_BEAM_WIDTH_HALF_PROGRES_RATE': 0.7388875167144112}. Best is trial 97 with value: 936947048.0.\u001b[0m\n"
     ]
    },
    {
     "name": "stdout",
     "output_type": "stream",
     "text": [
      "callback ok\n",
      "index_parallel=5\n",
      "sed -i 5_main.cpp -e 's/^constexpr double K_START = .*;  \\/\\/ OPTIMIZE \\[0\\.04, 0\\.12\\] LOG$/constexpr double K_START = 0.11547693844298305;  \\/\\/ OPTIMIZE [0.04, 0.12] LOG/' -e 's/^constexpr double K_END = .*;   \\/\\/ OPTIMIZE \\[0\\.03, 0\\.1\\] LOG$/constexpr double K_END = 0.06840181914545955;   \\/\\/ OPTIMIZE [0.03, 0.1] LOG/' -e 's/^constexpr double K_H = .*;      \\/\\/ OPTIMIZE \\[0\\.001, 0\\.999\\]$/constexpr double K_H = 0.5330140856792792;      \\/\\/ OPTIMIZE [0.001, 0.999]/' -e 's/^constexpr short PURCHASE_TURN_LIMIT = .*;  \\/\\/ OPTIMIZE \\[790, 870\\]$/constexpr short PURCHASE_TURN_LIMIT = 802;  \\/\\/ OPTIMIZE [790, 870]/' -e 's/^constexpr int SUBSCORE3_TIGHT_TURN = .*;     \\/\\/ OPTIMIZE \\[0, 1\\]$/constexpr int SUBSCORE3_TIGHT_TURN = 0;     \\/\\/ OPTIMIZE [0, 1]/' -e 's/^constexpr int ROUGH_HASH = .*;      \\/\\/ OPTIMIZE {0, 0b00000001, 0b00010001, 0b00010011, 0b00110011}$/constexpr int ROUGH_HASH = 0b00000001;      \\/\\/ OPTIMIZE {0, 0b00000001, 0b00010001, 0b00010011, 0b00110011}/' -e 's/^constexpr double TARGET_BEAM_WIDTH_INCREASE_RATE = .*;      \\/\\/ OPTIMIZE \\[0\\.5, 1\\.0\\] LOG$/constexpr double TARGET_BEAM_WIDTH_INCREASE_RATE = 0.9744053531779515;      \\/\\/ OPTIMIZE [0.5, 1.0] LOG/' -e 's/^constexpr double TARGET_BEAM_WIDTH_HALF_PROGRES_RATE = .*;  \\/\\/ OPTIMIZE \\[0\\.02, 0\\.98\\]$/constexpr double TARGET_BEAM_WIDTH_HALF_PROGRES_RATE = 0.85428655880487;  \\/\\/ OPTIMIZE [0.02, 0.98]/'\n",
      "g++ 5_main.cpp -std=gnu++17 -O2 -DONLINE_JUDGE -o 5_main.cpp.out 2> /dev/null\n"
     ]
    },
    {
     "name": "stderr",
     "output_type": "stream",
     "text": [
      "\u001b[32m[I 2021-09-10 19:38:52,675]\u001b[0m Trial 110 finished with value: 931485873.0 and parameters: {'K_START': 0.06922003988239149, 'K_END': 0.05494582775443896, 'K_H': 0.498545237116788, 'PURCHASE_TURN_LIMIT': 840, 'SUBSCORE3_TIGHT_TURN': 0, 'ROUGH_HASH': '0b00000001', 'TARGET_BEAM_WIDTH_INCREASE_RATE': 0.926381841175382, 'TARGET_BEAM_WIDTH_HALF_PROGRES_RATE': 0.7280876308839724}. Best is trial 97 with value: 936947048.0.\u001b[0m\n"
     ]
    },
    {
     "name": "stdout",
     "output_type": "stream",
     "text": [
      "callback ok\n",
      "index_parallel=6\n"
     ]
    },
    {
     "name": "stderr",
     "output_type": "stream",
     "text": [
      "\u001b[32m[I 2021-09-10 19:38:53,466]\u001b[0m Trial 111 finished with value: 933210391.0 and parameters: {'K_START': 0.11414562891288718, 'K_END': 0.055036134069822926, 'K_H': 0.6476917816696002, 'PURCHASE_TURN_LIMIT': 840, 'SUBSCORE3_TIGHT_TURN': 0, 'ROUGH_HASH': '0b00010011', 'TARGET_BEAM_WIDTH_INCREASE_RATE': 0.9287674875864286, 'TARGET_BEAM_WIDTH_HALF_PROGRES_RATE': 0.8555158687772748}. Best is trial 97 with value: 936947048.0.\u001b[0m\n"
     ]
    },
    {
     "name": "stdout",
     "output_type": "stream",
     "text": [
      "callback ok\n",
      "index_parallel=7\n",
      "sed -i 6_main.cpp -e 's/^constexpr double K_START = .*;  \\/\\/ OPTIMIZE \\[0\\.04, 0\\.12\\] LOG$/constexpr double K_START = 0.06941912010924024;  \\/\\/ OPTIMIZE [0.04, 0.12] LOG/' -e 's/^constexpr double K_END = .*;   \\/\\/ OPTIMIZE \\[0\\.03, 0\\.1\\] LOG$/constexpr double K_END = 0.052611588035856346;   \\/\\/ OPTIMIZE [0.03, 0.1] LOG/' -e 's/^constexpr double K_H = .*;      \\/\\/ OPTIMIZE \\[0\\.001, 0\\.999\\]$/constexpr double K_H = 0.6815285653378926;      \\/\\/ OPTIMIZE [0.001, 0.999]/' -e 's/^constexpr short PURCHASE_TURN_LIMIT = .*;  \\/\\/ OPTIMIZE \\[790, 870\\]$/constexpr short PURCHASE_TURN_LIMIT = 840;  \\/\\/ OPTIMIZE [790, 870]/' -e 's/^constexpr int SUBSCORE3_TIGHT_TURN = .*;     \\/\\/ OPTIMIZE \\[0, 1\\]$/constexpr int SUBSCORE3_TIGHT_TURN = 0;     \\/\\/ OPTIMIZE [0, 1]/' -e 's/^constexpr int ROUGH_HASH = .*;      \\/\\/ OPTIMIZE {0, 0b00000001, 0b00010001, 0b00010011, 0b00110011}$/constexpr int ROUGH_HASH = 0b00010011;      \\/\\/ OPTIMIZE {0, 0b00000001, 0b00010001, 0b00010011, 0b00110011}/' -e 's/^constexpr double TARGET_BEAM_WIDTH_INCREASE_RATE = .*;      \\/\\/ OPTIMIZE \\[0\\.5, 1\\.0\\] LOG$/constexpr double TARGET_BEAM_WIDTH_INCREASE_RATE = 0.9758437407891174;      \\/\\/ OPTIMIZE [0.5, 1.0] LOG/' -e 's/^constexpr double TARGET_BEAM_WIDTH_HALF_PROGRES_RATE = .*;  \\/\\/ OPTIMIZE \\[0\\.02, 0\\.98\\]$/constexpr double TARGET_BEAM_WIDTH_HALF_PROGRES_RATE = 0.6468855611355374;  \\/\\/ OPTIMIZE [0.02, 0.98]/'\n",
      "g++ 6_main.cpp -std=gnu++17 -O2 -DONLINE_JUDGE -o 6_main.cpp.out 2> /dev/null\n",
      "sed -i 7_main.cpp -e 's/^constexpr double K_START = .*;  \\/\\/ OPTIMIZE \\[0\\.04, 0\\.12\\] LOG$/constexpr double K_START = 0.11336298383155445;  \\/\\/ OPTIMIZE [0.04, 0.12] LOG/' -e 's/^constexpr double K_END = .*;   \\/\\/ OPTIMIZE \\[0\\.03, 0\\.1\\] LOG$/constexpr double K_END = 0.05507875184646457;   \\/\\/ OPTIMIZE [0.03, 0.1] LOG/' -e 's/^constexpr double K_H = .*;      \\/\\/ OPTIMIZE \\[0\\.001, 0\\.999\\]$/constexpr double K_H = 0.6532000475945218;      \\/\\/ OPTIMIZE [0.001, 0.999]/' -e 's/^constexpr short PURCHASE_TURN_LIMIT = .*;  \\/\\/ OPTIMIZE \\[790, 870\\]$/constexpr short PURCHASE_TURN_LIMIT = 836;  \\/\\/ OPTIMIZE [790, 870]/' -e 's/^constexpr int SUBSCORE3_TIGHT_TURN = .*;     \\/\\/ OPTIMIZE \\[0, 1\\]$/constexpr int SUBSCORE3_TIGHT_TURN = 0;     \\/\\/ OPTIMIZE [0, 1]/' -e 's/^constexpr int ROUGH_HASH = .*;      \\/\\/ OPTIMIZE {0, 0b00000001, 0b00010001, 0b00010011, 0b00110011}$/constexpr int ROUGH_HASH = 0b00010011;      \\/\\/ OPTIMIZE {0, 0b00000001, 0b00010001, 0b00010011, 0b00110011}/' -e 's/^constexpr double TARGET_BEAM_WIDTH_INCREASE_RATE = .*;      \\/\\/ OPTIMIZE \\[0\\.5, 1\\.0\\] LOG$/constexpr double TARGET_BEAM_WIDTH_INCREASE_RATE = 0.9498757062679284;      \\/\\/ OPTIMIZE [0.5, 1.0] LOG/' -e 's/^constexpr double TARGET_BEAM_WIDTH_HALF_PROGRES_RATE = .*;  \\/\\/ OPTIMIZE \\[0\\.02, 0\\.98\\]$/constexpr double TARGET_BEAM_WIDTH_HALF_PROGRES_RATE = 0.6914821935849377;  \\/\\/ OPTIMIZE [0.02, 0.98]/'\n",
      "g++ 7_main.cpp -std=gnu++17 -O2 -DONLINE_JUDGE -o 7_main.cpp.out 2> /dev/null\n"
     ]
    },
    {
     "name": "stderr",
     "output_type": "stream",
     "text": [
      "\u001b[32m[I 2021-09-10 19:40:50,396]\u001b[0m Trial 112 finished with value: 624803486.0 and parameters: {'K_START': 0.113727692819392, 'K_END': 0.05538256225393816, 'K_H': 0.4953209371329336, 'PURCHASE_TURN_LIMIT': 840, 'SUBSCORE3_TIGHT_TURN': 0, 'ROUGH_HASH': '0b00010011', 'TARGET_BEAM_WIDTH_INCREASE_RATE': 0.9314227289583817, 'TARGET_BEAM_WIDTH_HALF_PROGRES_RATE': 0.8568412149683163}. Best is trial 97 with value: 936947048.0.\u001b[0m\n"
     ]
    },
    {
     "name": "stdout",
     "output_type": "stream",
     "text": [
      "callback ok\n",
      "index_parallel=8\n",
      "sed -i 8_main.cpp -e 's/^constexpr double K_START = .*;  \\/\\/ OPTIMIZE \\[0\\.04, 0\\.12\\] LOG$/constexpr double K_START = 0.11453306152895283;  \\/\\/ OPTIMIZE [0.04, 0.12] LOG/' -e 's/^constexpr double K_END = .*;   \\/\\/ OPTIMIZE \\[0\\.03, 0\\.1\\] LOG$/constexpr double K_END = 0.05291859019340682;   \\/\\/ OPTIMIZE [0.03, 0.1] LOG/' -e 's/^constexpr double K_H = .*;      \\/\\/ OPTIMIZE \\[0\\.001, 0\\.999\\]$/constexpr double K_H = 0.6947476665262466;      \\/\\/ OPTIMIZE [0.001, 0.999]/' -e 's/^constexpr short PURCHASE_TURN_LIMIT = .*;  \\/\\/ OPTIMIZE \\[790, 870\\]$/constexpr short PURCHASE_TURN_LIMIT = 836;  \\/\\/ OPTIMIZE [790, 870]/' -e 's/^constexpr int SUBSCORE3_TIGHT_TURN = .*;     \\/\\/ OPTIMIZE \\[0, 1\\]$/constexpr int SUBSCORE3_TIGHT_TURN = 0;     \\/\\/ OPTIMIZE [0, 1]/' -e 's/^constexpr int ROUGH_HASH = .*;      \\/\\/ OPTIMIZE {0, 0b00000001, 0b00010001, 0b00010011, 0b00110011}$/constexpr int ROUGH_HASH = 0b00010011;      \\/\\/ OPTIMIZE {0, 0b00000001, 0b00010001, 0b00010011, 0b00110011}/' -e 's/^constexpr double TARGET_BEAM_WIDTH_INCREASE_RATE = .*;      \\/\\/ OPTIMIZE \\[0\\.5, 1\\.0\\] LOG$/constexpr double TARGET_BEAM_WIDTH_INCREASE_RATE = 0.9758098162321698;      \\/\\/ OPTIMIZE [0.5, 1.0] LOG/' -e 's/^constexpr double TARGET_BEAM_WIDTH_HALF_PROGRES_RATE = .*;  \\/\\/ OPTIMIZE \\[0\\.02, 0\\.98\\]$/constexpr double TARGET_BEAM_WIDTH_HALF_PROGRES_RATE = 0.6980848942674571;  \\/\\/ OPTIMIZE [0.02, 0.98]/'\n",
      "g++ 8_main.cpp -std=gnu++17 -O2 -DONLINE_JUDGE -o 8_main.cpp.out 2> /dev/null\n"
     ]
    },
    {
     "name": "stderr",
     "output_type": "stream",
     "text": [
      "\u001b[32m[I 2021-09-10 19:41:06,854]\u001b[0m Trial 113 finished with value: 394743392.0 and parameters: {'K_START': 0.11547693844298305, 'K_END': 0.06840181914545955, 'K_H': 0.5330140856792792, 'PURCHASE_TURN_LIMIT': 802, 'SUBSCORE3_TIGHT_TURN': 0, 'ROUGH_HASH': '0b00000001', 'TARGET_BEAM_WIDTH_INCREASE_RATE': 0.9744053531779515, 'TARGET_BEAM_WIDTH_HALF_PROGRES_RATE': 0.85428655880487}. Best is trial 97 with value: 936947048.0.\u001b[0m\n"
     ]
    },
    {
     "name": "stdout",
     "output_type": "stream",
     "text": [
      "callback ok\n",
      "index_parallel=9\n",
      "sed -i 9_main.cpp -e 's/^constexpr double K_START = .*;  \\/\\/ OPTIMIZE \\[0\\.04, 0\\.12\\] LOG$/constexpr double K_START = 0.06875900230893091;  \\/\\/ OPTIMIZE [0.04, 0.12] LOG/' -e 's/^constexpr double K_END = .*;   \\/\\/ OPTIMIZE \\[0\\.03, 0\\.1\\] LOG$/constexpr double K_END = 0.061341453671134916;   \\/\\/ OPTIMIZE [0.03, 0.1] LOG/' -e 's/^constexpr double K_H = .*;      \\/\\/ OPTIMIZE \\[0\\.001, 0\\.999\\]$/constexpr double K_H = 0.7114070198818635;      \\/\\/ OPTIMIZE [0.001, 0.999]/' -e 's/^constexpr short PURCHASE_TURN_LIMIT = .*;  \\/\\/ OPTIMIZE \\[790, 870\\]$/constexpr short PURCHASE_TURN_LIMIT = 836;  \\/\\/ OPTIMIZE [790, 870]/' -e 's/^constexpr int SUBSCORE3_TIGHT_TURN = .*;     \\/\\/ OPTIMIZE \\[0, 1\\]$/constexpr int SUBSCORE3_TIGHT_TURN = 0;     \\/\\/ OPTIMIZE [0, 1]/' -e 's/^constexpr int ROUGH_HASH = .*;      \\/\\/ OPTIMIZE {0, 0b00000001, 0b00010001, 0b00010011, 0b00110011}$/constexpr int ROUGH_HASH = 0b00010011;      \\/\\/ OPTIMIZE {0, 0b00000001, 0b00010001, 0b00010011, 0b00110011}/' -e 's/^constexpr double TARGET_BEAM_WIDTH_INCREASE_RATE = .*;      \\/\\/ OPTIMIZE \\[0\\.5, 1\\.0\\] LOG$/constexpr double TARGET_BEAM_WIDTH_INCREASE_RATE = 0.8935855697917036;      \\/\\/ OPTIMIZE [0.5, 1.0] LOG/' -e 's/^constexpr double TARGET_BEAM_WIDTH_HALF_PROGRES_RATE = .*;  \\/\\/ OPTIMIZE \\[0\\.02, 0\\.98\\]$/constexpr double TARGET_BEAM_WIDTH_HALF_PROGRES_RATE = 0.7993389468388036;  \\/\\/ OPTIMIZE [0.02, 0.98]/'\n",
      "g++ 9_main.cpp -std=gnu++17 -O2 -DONLINE_JUDGE -o 9_main.cpp.out 2> /dev/null\n"
     ]
    },
    {
     "name": "stderr",
     "output_type": "stream",
     "text": [
      "\u001b[32m[I 2021-09-10 19:41:18,839]\u001b[0m Trial 114 finished with value: 929544233.0 and parameters: {'K_START': 0.06941912010924024, 'K_END': 0.052611588035856346, 'K_H': 0.6815285653378926, 'PURCHASE_TURN_LIMIT': 840, 'SUBSCORE3_TIGHT_TURN': 0, 'ROUGH_HASH': '0b00010011', 'TARGET_BEAM_WIDTH_INCREASE_RATE': 0.9758437407891174, 'TARGET_BEAM_WIDTH_HALF_PROGRES_RATE': 0.6468855611355374}. Best is trial 97 with value: 936947048.0.\u001b[0m\n"
     ]
    },
    {
     "name": "stdout",
     "output_type": "stream",
     "text": [
      "callback ok\n",
      "index_parallel=10\n"
     ]
    },
    {
     "name": "stderr",
     "output_type": "stream",
     "text": [
      "\u001b[32m[I 2021-09-10 19:41:20,176]\u001b[0m Trial 115 finished with value: 933220824.0 and parameters: {'K_START': 0.11336298383155445, 'K_END': 0.05507875184646457, 'K_H': 0.6532000475945218, 'PURCHASE_TURN_LIMIT': 836, 'SUBSCORE3_TIGHT_TURN': 0, 'ROUGH_HASH': '0b00010011', 'TARGET_BEAM_WIDTH_INCREASE_RATE': 0.9498757062679284, 'TARGET_BEAM_WIDTH_HALF_PROGRES_RATE': 0.6914821935849377}. Best is trial 97 with value: 936947048.0.\u001b[0m\n"
     ]
    },
    {
     "name": "stdout",
     "output_type": "stream",
     "text": [
      "callback ok\n",
      "index_parallel=11\n",
      "sed -i 10_main.cpp -e 's/^constexpr double K_START = .*;  \\/\\/ OPTIMIZE \\[0\\.04, 0\\.12\\] LOG$/constexpr double K_START = 0.10762555640077207;  \\/\\/ OPTIMIZE [0.04, 0.12] LOG/' -e 's/^constexpr double K_END = .*;   \\/\\/ OPTIMIZE \\[0\\.03, 0\\.1\\] LOG$/constexpr double K_END = 0.06132616927220034;   \\/\\/ OPTIMIZE [0.03, 0.1] LOG/' -e 's/^constexpr double K_H = .*;      \\/\\/ OPTIMIZE \\[0\\.001, 0\\.999\\]$/constexpr double K_H = 0.6468477514931995;      \\/\\/ OPTIMIZE [0.001, 0.999]/' -e 's/^constexpr short PURCHASE_TURN_LIMIT = .*;  \\/\\/ OPTIMIZE \\[790, 870\\]$/constexpr short PURCHASE_TURN_LIMIT = 836;  \\/\\/ OPTIMIZE [790, 870]/' -e 's/^constexpr int SUBSCORE3_TIGHT_TURN = .*;     \\/\\/ OPTIMIZE \\[0, 1\\]$/constexpr int SUBSCORE3_TIGHT_TURN = 0;     \\/\\/ OPTIMIZE [0, 1]/' -e 's/^constexpr int ROUGH_HASH = .*;      \\/\\/ OPTIMIZE {0, 0b00000001, 0b00010001, 0b00010011, 0b00110011}$/constexpr int ROUGH_HASH = 0b00010011;      \\/\\/ OPTIMIZE {0, 0b00000001, 0b00010001, 0b00010011, 0b00110011}/' -e 's/^constexpr double TARGET_BEAM_WIDTH_INCREASE_RATE = .*;      \\/\\/ OPTIMIZE \\[0\\.5, 1\\.0\\] LOG$/constexpr double TARGET_BEAM_WIDTH_INCREASE_RATE = 0.8915802550727886;      \\/\\/ OPTIMIZE [0.5, 1.0] LOG/' -e 's/^constexpr double TARGET_BEAM_WIDTH_HALF_PROGRES_RATE = .*;  \\/\\/ OPTIMIZE \\[0\\.02, 0\\.98\\]$/constexpr double TARGET_BEAM_WIDTH_HALF_PROGRES_RATE = 0.6863604032508117;  \\/\\/ OPTIMIZE [0.02, 0.98]/'\n",
      "g++ 10_main.cpp -std=gnu++17 -O2 -DONLINE_JUDGE -o 10_main.cpp.out 2> /dev/null\n",
      "sed -i 11_main.cpp -e 's/^constexpr double K_START = .*;  \\/\\/ OPTIMIZE \\[0\\.04, 0\\.12\\] LOG$/constexpr double K_START = 0.10726991324509856;  \\/\\/ OPTIMIZE [0.04, 0.12] LOG/' -e 's/^constexpr double K_END = .*;   \\/\\/ OPTIMIZE \\[0\\.03, 0\\.1\\] LOG$/constexpr double K_END = 0.06159869860963105;   \\/\\/ OPTIMIZE [0.03, 0.1] LOG/' -e 's/^constexpr double K_H = .*;      \\/\\/ OPTIMIZE \\[0\\.001, 0\\.999\\]$/constexpr double K_H = 0.6411034615860172;      \\/\\/ OPTIMIZE [0.001, 0.999]/' -e 's/^constexpr short PURCHASE_TURN_LIMIT = .*;  \\/\\/ OPTIMIZE \\[790, 870\\]$/constexpr short PURCHASE_TURN_LIMIT = 847;  \\/\\/ OPTIMIZE [790, 870]/' -e 's/^constexpr int SUBSCORE3_TIGHT_TURN = .*;     \\/\\/ OPTIMIZE \\[0, 1\\]$/constexpr int SUBSCORE3_TIGHT_TURN = 0;     \\/\\/ OPTIMIZE [0, 1]/' -e 's/^constexpr int ROUGH_HASH = .*;      \\/\\/ OPTIMIZE {0, 0b00000001, 0b00010001, 0b00010011, 0b00110011}$/constexpr int ROUGH_HASH = 0b00010011;      \\/\\/ OPTIMIZE {0, 0b00000001, 0b00010001, 0b00010011, 0b00110011}/' -e 's/^constexpr double TARGET_BEAM_WIDTH_INCREASE_RATE = .*;      \\/\\/ OPTIMIZE \\[0\\.5, 1\\.0\\] LOG$/constexpr double TARGET_BEAM_WIDTH_INCREASE_RATE = 0.897655694906508;      \\/\\/ OPTIMIZE [0.5, 1.0] LOG/' -e 's/^constexpr double TARGET_BEAM_WIDTH_HALF_PROGRES_RATE = .*;  \\/\\/ OPTIMIZE \\[0\\.02, 0\\.98\\]$/constexpr double TARGET_BEAM_WIDTH_HALF_PROGRES_RATE = 0.6730760609621115;  \\/\\/ OPTIMIZE [0.02, 0.98]/'\n",
      "g++ 11_main.cpp -std=gnu++17 -O2 -DONLINE_JUDGE -o 11_main.cpp.out 2> /dev/null\n"
     ]
    },
    {
     "name": "stderr",
     "output_type": "stream",
     "text": [
      "\u001b[32m[I 2021-09-10 19:43:15,701]\u001b[0m Trial 116 finished with value: 932389142.0 and parameters: {'K_START': 0.11453306152895283, 'K_END': 0.05291859019340682, 'K_H': 0.6947476665262466, 'PURCHASE_TURN_LIMIT': 836, 'SUBSCORE3_TIGHT_TURN': 0, 'ROUGH_HASH': '0b00010011', 'TARGET_BEAM_WIDTH_INCREASE_RATE': 0.9758098162321698, 'TARGET_BEAM_WIDTH_HALF_PROGRES_RATE': 0.6980848942674571}. Best is trial 97 with value: 936947048.0.\u001b[0m\n"
     ]
    },
    {
     "name": "stdout",
     "output_type": "stream",
     "text": [
      "callback ok\n",
      "index_parallel=0\n",
      "sed -i 0_main.cpp -e 's/^constexpr double K_START = .*;  \\/\\/ OPTIMIZE \\[0\\.04, 0\\.12\\] LOG$/constexpr double K_START = 0.11130346307721317;  \\/\\/ OPTIMIZE [0.04, 0.12] LOG/' -e 's/^constexpr double K_END = .*;   \\/\\/ OPTIMIZE \\[0\\.03, 0\\.1\\] LOG$/constexpr double K_END = 0.05483042256368517;   \\/\\/ OPTIMIZE [0.03, 0.1] LOG/' -e 's/^constexpr double K_H = .*;      \\/\\/ OPTIMIZE \\[0\\.001, 0\\.999\\]$/constexpr double K_H = 0.7385505111972577;      \\/\\/ OPTIMIZE [0.001, 0.999]/' -e 's/^constexpr short PURCHASE_TURN_LIMIT = .*;  \\/\\/ OPTIMIZE \\[790, 870\\]$/constexpr short PURCHASE_TURN_LIMIT = 830;  \\/\\/ OPTIMIZE [790, 870]/' -e 's/^constexpr int SUBSCORE3_TIGHT_TURN = .*;     \\/\\/ OPTIMIZE \\[0, 1\\]$/constexpr int SUBSCORE3_TIGHT_TURN = 0;     \\/\\/ OPTIMIZE [0, 1]/' -e 's/^constexpr int ROUGH_HASH = .*;      \\/\\/ OPTIMIZE {0, 0b00000001, 0b00010001, 0b00010011, 0b00110011}$/constexpr int ROUGH_HASH = 0b00010011;      \\/\\/ OPTIMIZE {0, 0b00000001, 0b00010001, 0b00010011, 0b00110011}/' -e 's/^constexpr double TARGET_BEAM_WIDTH_INCREASE_RATE = .*;      \\/\\/ OPTIMIZE \\[0\\.5, 1\\.0\\] LOG$/constexpr double TARGET_BEAM_WIDTH_INCREASE_RATE = 0.8973577308453319;      \\/\\/ OPTIMIZE [0.5, 1.0] LOG/' -e 's/^constexpr double TARGET_BEAM_WIDTH_HALF_PROGRES_RATE = .*;  \\/\\/ OPTIMIZE \\[0\\.02, 0\\.98\\]$/constexpr double TARGET_BEAM_WIDTH_HALF_PROGRES_RATE = 0.6937793628481569;  \\/\\/ OPTIMIZE [0.02, 0.98]/'\n",
      "g++ 0_main.cpp -std=gnu++17 -O2 -DONLINE_JUDGE -o 0_main.cpp.out 2> /dev/null\n"
     ]
    },
    {
     "name": "stderr",
     "output_type": "stream",
     "text": [
      "\u001b[32m[I 2021-09-10 19:43:35,260]\u001b[0m Trial 117 finished with value: 927148317.0 and parameters: {'K_START': 0.06875900230893091, 'K_END': 0.061341453671134916, 'K_H': 0.7114070198818635, 'PURCHASE_TURN_LIMIT': 836, 'SUBSCORE3_TIGHT_TURN': 0, 'ROUGH_HASH': '0b00010011', 'TARGET_BEAM_WIDTH_INCREASE_RATE': 0.8935855697917036, 'TARGET_BEAM_WIDTH_HALF_PROGRES_RATE': 0.7993389468388036}. Best is trial 97 with value: 936947048.0.\u001b[0m\n"
     ]
    },
    {
     "name": "stdout",
     "output_type": "stream",
     "text": [
      "callback ok\n",
      "index_parallel=1\n",
      "sed -i 1_main.cpp -e 's/^constexpr double K_START = .*;  \\/\\/ OPTIMIZE \\[0\\.04, 0\\.12\\] LOG$/constexpr double K_START = 0.11132952760912564;  \\/\\/ OPTIMIZE [0.04, 0.12] LOG/' -e 's/^constexpr double K_END = .*;   \\/\\/ OPTIMIZE \\[0\\.03, 0\\.1\\] LOG$/constexpr double K_END = 0.056638183461722905;   \\/\\/ OPTIMIZE [0.03, 0.1] LOG/' -e 's/^constexpr double K_H = .*;      \\/\\/ OPTIMIZE \\[0\\.001, 0\\.999\\]$/constexpr double K_H = 0.6487907464421597;      \\/\\/ OPTIMIZE [0.001, 0.999]/' -e 's/^constexpr short PURCHASE_TURN_LIMIT = .*;  \\/\\/ OPTIMIZE \\[790, 870\\]$/constexpr short PURCHASE_TURN_LIMIT = 830;  \\/\\/ OPTIMIZE [790, 870]/' -e 's/^constexpr int SUBSCORE3_TIGHT_TURN = .*;     \\/\\/ OPTIMIZE \\[0, 1\\]$/constexpr int SUBSCORE3_TIGHT_TURN = 0;     \\/\\/ OPTIMIZE [0, 1]/' -e 's/^constexpr int ROUGH_HASH = .*;      \\/\\/ OPTIMIZE {0, 0b00000001, 0b00010001, 0b00010011, 0b00110011}$/constexpr int ROUGH_HASH = 0b00010011;      \\/\\/ OPTIMIZE {0, 0b00000001, 0b00010001, 0b00010011, 0b00110011}/' -e 's/^constexpr double TARGET_BEAM_WIDTH_INCREASE_RATE = .*;      \\/\\/ OPTIMIZE \\[0\\.5, 1\\.0\\] LOG$/constexpr double TARGET_BEAM_WIDTH_INCREASE_RATE = 0.9481723865989345;      \\/\\/ OPTIMIZE [0.5, 1.0] LOG/' -e 's/^constexpr double TARGET_BEAM_WIDTH_HALF_PROGRES_RATE = .*;  \\/\\/ OPTIMIZE \\[0\\.02, 0\\.98\\]$/constexpr double TARGET_BEAM_WIDTH_HALF_PROGRES_RATE = 0.6925535715764308;  \\/\\/ OPTIMIZE [0.02, 0.98]/'\n",
      "g++ 1_main.cpp -std=gnu++17 -O2 -DONLINE_JUDGE -o 1_main.cpp.out 2> /dev/null\n"
     ]
    },
    {
     "name": "stderr",
     "output_type": "stream",
     "text": [
      "\u001b[32m[I 2021-09-10 19:43:44,330]\u001b[0m Trial 118 finished with value: 930798471.0 and parameters: {'K_START': 0.10762555640077207, 'K_END': 0.06132616927220034, 'K_H': 0.6468477514931995, 'PURCHASE_TURN_LIMIT': 836, 'SUBSCORE3_TIGHT_TURN': 0, 'ROUGH_HASH': '0b00010011', 'TARGET_BEAM_WIDTH_INCREASE_RATE': 0.8915802550727886, 'TARGET_BEAM_WIDTH_HALF_PROGRES_RATE': 0.6863604032508117}. Best is trial 97 with value: 936947048.0.\u001b[0m\n"
     ]
    },
    {
     "name": "stdout",
     "output_type": "stream",
     "text": [
      "callback ok\n",
      "index_parallel=2\n"
     ]
    },
    {
     "name": "stderr",
     "output_type": "stream",
     "text": [
      "\u001b[32m[I 2021-09-10 19:43:45,760]\u001b[0m Trial 119 finished with value: 924982322.0 and parameters: {'K_START': 0.10726991324509856, 'K_END': 0.06159869860963105, 'K_H': 0.6411034615860172, 'PURCHASE_TURN_LIMIT': 847, 'SUBSCORE3_TIGHT_TURN': 0, 'ROUGH_HASH': '0b00010011', 'TARGET_BEAM_WIDTH_INCREASE_RATE': 0.897655694906508, 'TARGET_BEAM_WIDTH_HALF_PROGRES_RATE': 0.6730760609621115}. Best is trial 97 with value: 936947048.0.\u001b[0m\n"
     ]
    },
    {
     "name": "stdout",
     "output_type": "stream",
     "text": [
      "callback ok\n",
      "index_parallel=3\n",
      "sed -i 2_main.cpp -e 's/^constexpr double K_START = .*;  \\/\\/ OPTIMIZE \\[0\\.04, 0\\.12\\] LOG$/constexpr double K_START = 0.1110028347307281;  \\/\\/ OPTIMIZE [0.04, 0.12] LOG/' -e 's/^constexpr double K_END = .*;   \\/\\/ OPTIMIZE \\[0\\.03, 0\\.1\\] LOG$/constexpr double K_END = 0.052804082536181664;   \\/\\/ OPTIMIZE [0.03, 0.1] LOG/' -e 's/^constexpr double K_H = .*;      \\/\\/ OPTIMIZE \\[0\\.001, 0\\.999\\]$/constexpr double K_H = 0.7611907349025722;      \\/\\/ OPTIMIZE [0.001, 0.999]/' -e 's/^constexpr short PURCHASE_TURN_LIMIT = .*;  \\/\\/ OPTIMIZE \\[790, 870\\]$/constexpr short PURCHASE_TURN_LIMIT = 829;  \\/\\/ OPTIMIZE [790, 870]/' -e 's/^constexpr int SUBSCORE3_TIGHT_TURN = .*;     \\/\\/ OPTIMIZE \\[0, 1\\]$/constexpr int SUBSCORE3_TIGHT_TURN = 0;     \\/\\/ OPTIMIZE [0, 1]/' -e 's/^constexpr int ROUGH_HASH = .*;      \\/\\/ OPTIMIZE {0, 0b00000001, 0b00010001, 0b00010011, 0b00110011}$/constexpr int ROUGH_HASH = 0b00010011;      \\/\\/ OPTIMIZE {0, 0b00000001, 0b00010001, 0b00010011, 0b00110011}/' -e 's/^constexpr double TARGET_BEAM_WIDTH_INCREASE_RATE = .*;      \\/\\/ OPTIMIZE \\[0\\.5, 1\\.0\\] LOG$/constexpr double TARGET_BEAM_WIDTH_INCREASE_RATE = 0.9460405693844437;      \\/\\/ OPTIMIZE [0.5, 1.0] LOG/' -e 's/^constexpr double TARGET_BEAM_WIDTH_HALF_PROGRES_RATE = .*;  \\/\\/ OPTIMIZE \\[0\\.02, 0\\.98\\]$/constexpr double TARGET_BEAM_WIDTH_HALF_PROGRES_RATE = 0.7071535641819298;  \\/\\/ OPTIMIZE [0.02, 0.98]/'\n",
      "g++ 2_main.cpp -std=gnu++17 -O2 -DONLINE_JUDGE -o 2_main.cpp.out 2> /dev/null\n",
      "sed -i 3_main.cpp -e 's/^constexpr double K_START = .*;  \\/\\/ OPTIMIZE \\[0\\.04, 0\\.12\\] LOG$/constexpr double K_START = 0.11245510212641581;  \\/\\/ OPTIMIZE [0.04, 0.12] LOG/' -e 's/^constexpr double K_END = .*;   \\/\\/ OPTIMIZE \\[0\\.03, 0\\.1\\] LOG$/constexpr double K_END = 0.052908868281887095;   \\/\\/ OPTIMIZE [0.03, 0.1] LOG/' -e 's/^constexpr double K_H = .*;      \\/\\/ OPTIMIZE \\[0\\.001, 0\\.999\\]$/constexpr double K_H = 0.7705568284584229;      \\/\\/ OPTIMIZE [0.001, 0.999]/' -e 's/^constexpr short PURCHASE_TURN_LIMIT = .*;  \\/\\/ OPTIMIZE \\[790, 870\\]$/constexpr short PURCHASE_TURN_LIMIT = 829;  \\/\\/ OPTIMIZE [790, 870]/' -e 's/^constexpr int SUBSCORE3_TIGHT_TURN = .*;     \\/\\/ OPTIMIZE \\[0, 1\\]$/constexpr int SUBSCORE3_TIGHT_TURN = 0;     \\/\\/ OPTIMIZE [0, 1]/' -e 's/^constexpr int ROUGH_HASH = .*;      \\/\\/ OPTIMIZE {0, 0b00000001, 0b00010001, 0b00010011, 0b00110011}$/constexpr int ROUGH_HASH = 0b00010011;      \\/\\/ OPTIMIZE {0, 0b00000001, 0b00010001, 0b00010011, 0b00110011}/' -e 's/^constexpr double TARGET_BEAM_WIDTH_INCREASE_RATE = .*;      \\/\\/ OPTIMIZE \\[0\\.5, 1\\.0\\] LOG$/constexpr double TARGET_BEAM_WIDTH_INCREASE_RATE = 0.8516949383465571;      \\/\\/ OPTIMIZE [0.5, 1.0] LOG/' -e 's/^constexpr double TARGET_BEAM_WIDTH_HALF_PROGRES_RATE = .*;  \\/\\/ OPTIMIZE \\[0\\.02, 0\\.98\\]$/constexpr double TARGET_BEAM_WIDTH_HALF_PROGRES_RATE = 0.7011630907255497;  \\/\\/ OPTIMIZE [0.02, 0.98]/'\n",
      "g++ 3_main.cpp -std=gnu++17 -O2 -DONLINE_JUDGE -o 3_main.cpp.out 2> /dev/null\n"
     ]
    },
    {
     "name": "stderr",
     "output_type": "stream",
     "text": [
      "\u001b[32m[I 2021-09-10 19:45:42,015]\u001b[0m Trial 120 finished with value: 924413245.0 and parameters: {'K_START': 0.11130346307721317, 'K_END': 0.05483042256368517, 'K_H': 0.7385505111972577, 'PURCHASE_TURN_LIMIT': 830, 'SUBSCORE3_TIGHT_TURN': 0, 'ROUGH_HASH': '0b00010011', 'TARGET_BEAM_WIDTH_INCREASE_RATE': 0.8973577308453319, 'TARGET_BEAM_WIDTH_HALF_PROGRES_RATE': 0.6937793628481569}. Best is trial 97 with value: 936947048.0.\u001b[0m\n"
     ]
    },
    {
     "name": "stdout",
     "output_type": "stream",
     "text": [
      "callback ok\n",
      "index_parallel=4\n",
      "sed -i 4_main.cpp -e 's/^constexpr double K_START = .*;  \\/\\/ OPTIMIZE \\[0\\.04, 0\\.12\\] LOG$/constexpr double K_START = 0.11730732810153462;  \\/\\/ OPTIMIZE [0.04, 0.12] LOG/' -e 's/^constexpr double K_END = .*;   \\/\\/ OPTIMIZE \\[0\\.03, 0\\.1\\] LOG$/constexpr double K_END = 0.056895364547404646;   \\/\\/ OPTIMIZE [0.03, 0.1] LOG/' -e 's/^constexpr double K_H = .*;      \\/\\/ OPTIMIZE \\[0\\.001, 0\\.999\\]$/constexpr double K_H = 0.7759671084955658;      \\/\\/ OPTIMIZE [0.001, 0.999]/' -e 's/^constexpr short PURCHASE_TURN_LIMIT = .*;  \\/\\/ OPTIMIZE \\[790, 870\\]$/constexpr short PURCHASE_TURN_LIMIT = 838;  \\/\\/ OPTIMIZE [790, 870]/' -e 's/^constexpr int SUBSCORE3_TIGHT_TURN = .*;     \\/\\/ OPTIMIZE \\[0, 1\\]$/constexpr int SUBSCORE3_TIGHT_TURN = 0;     \\/\\/ OPTIMIZE [0, 1]/' -e 's/^constexpr int ROUGH_HASH = .*;      \\/\\/ OPTIMIZE {0, 0b00000001, 0b00010001, 0b00010011, 0b00110011}$/constexpr int ROUGH_HASH = 0b00010011;      \\/\\/ OPTIMIZE {0, 0b00000001, 0b00010001, 0b00010011, 0b00110011}/' -e 's/^constexpr double TARGET_BEAM_WIDTH_INCREASE_RATE = .*;      \\/\\/ OPTIMIZE \\[0\\.5, 1\\.0\\] LOG$/constexpr double TARGET_BEAM_WIDTH_INCREASE_RATE = 0.9511524309211334;      \\/\\/ OPTIMIZE [0.5, 1.0] LOG/' -e 's/^constexpr double TARGET_BEAM_WIDTH_HALF_PROGRES_RATE = .*;  \\/\\/ OPTIMIZE \\[0\\.02, 0\\.98\\]$/constexpr double TARGET_BEAM_WIDTH_HALF_PROGRES_RATE = 0.7190478613118346;  \\/\\/ OPTIMIZE [0.02, 0.98]/'\n",
      "g++ 4_main.cpp -std=gnu++17 -O2 -DONLINE_JUDGE -o 4_main.cpp.out 2> /dev/null\n"
     ]
    },
    {
     "name": "stderr",
     "output_type": "stream",
     "text": [
      "\u001b[32m[I 2021-09-10 19:46:01,503]\u001b[0m Trial 121 finished with value: 935029104.0 and parameters: {'K_START': 0.11132952760912564, 'K_END': 0.056638183461722905, 'K_H': 0.6487907464421597, 'PURCHASE_TURN_LIMIT': 830, 'SUBSCORE3_TIGHT_TURN': 0, 'ROUGH_HASH': '0b00010011', 'TARGET_BEAM_WIDTH_INCREASE_RATE': 0.9481723865989345, 'TARGET_BEAM_WIDTH_HALF_PROGRES_RATE': 0.6925535715764308}. Best is trial 97 with value: 936947048.0.\u001b[0m\n"
     ]
    },
    {
     "name": "stdout",
     "output_type": "stream",
     "text": [
      "callback ok\n",
      "index_parallel=5\n",
      "sed -i 5_main.cpp -e 's/^constexpr double K_START = .*;  \\/\\/ OPTIMIZE \\[0\\.04, 0\\.12\\] LOG$/constexpr double K_START = 0.11924004378032407;  \\/\\/ OPTIMIZE [0.04, 0.12] LOG/' -e 's/^constexpr double K_END = .*;   \\/\\/ OPTIMIZE \\[0\\.03, 0\\.1\\] LOG$/constexpr double K_END = 0.05781480448880512;   \\/\\/ OPTIMIZE [0.03, 0.1] LOG/' -e 's/^constexpr double K_H = .*;      \\/\\/ OPTIMIZE \\[0\\.001, 0\\.999\\]$/constexpr double K_H = 0.7073176585678806;      \\/\\/ OPTIMIZE [0.001, 0.999]/' -e 's/^constexpr short PURCHASE_TURN_LIMIT = .*;  \\/\\/ OPTIMIZE \\[790, 870\\]$/constexpr short PURCHASE_TURN_LIMIT = 833;  \\/\\/ OPTIMIZE [790, 870]/' -e 's/^constexpr int SUBSCORE3_TIGHT_TURN = .*;     \\/\\/ OPTIMIZE \\[0, 1\\]$/constexpr int SUBSCORE3_TIGHT_TURN = 0;     \\/\\/ OPTIMIZE [0, 1]/' -e 's/^constexpr int ROUGH_HASH = .*;      \\/\\/ OPTIMIZE {0, 0b00000001, 0b00010001, 0b00010011, 0b00110011}$/constexpr int ROUGH_HASH = 0b00010011;      \\/\\/ OPTIMIZE {0, 0b00000001, 0b00010001, 0b00010011, 0b00110011}/' -e 's/^constexpr double TARGET_BEAM_WIDTH_INCREASE_RATE = .*;      \\/\\/ OPTIMIZE \\[0\\.5, 1\\.0\\] LOG$/constexpr double TARGET_BEAM_WIDTH_INCREASE_RATE = 0.9500716847255433;      \\/\\/ OPTIMIZE [0.5, 1.0] LOG/' -e 's/^constexpr double TARGET_BEAM_WIDTH_HALF_PROGRES_RATE = .*;  \\/\\/ OPTIMIZE \\[0\\.02, 0\\.98\\]$/constexpr double TARGET_BEAM_WIDTH_HALF_PROGRES_RATE = 0.6409011837491031;  \\/\\/ OPTIMIZE [0.02, 0.98]/'\n",
      "g++ 5_main.cpp -std=gnu++17 -O2 -DONLINE_JUDGE -o 5_main.cpp.out 2> /dev/null\n"
     ]
    },
    {
     "name": "stderr",
     "output_type": "stream",
     "text": [
      "\u001b[32m[I 2021-09-10 19:46:10,326]\u001b[0m Trial 122 finished with value: 926196593.0 and parameters: {'K_START': 0.1110028347307281, 'K_END': 0.052804082536181664, 'K_H': 0.7611907349025722, 'PURCHASE_TURN_LIMIT': 829, 'SUBSCORE3_TIGHT_TURN': 0, 'ROUGH_HASH': '0b00010011', 'TARGET_BEAM_WIDTH_INCREASE_RATE': 0.9460405693844437, 'TARGET_BEAM_WIDTH_HALF_PROGRES_RATE': 0.7071535641819298}. Best is trial 97 with value: 936947048.0.\u001b[0m\n"
     ]
    },
    {
     "name": "stdout",
     "output_type": "stream",
     "text": [
      "callback ok\n",
      "index_parallel=6\n"
     ]
    },
    {
     "name": "stderr",
     "output_type": "stream",
     "text": [
      "\u001b[32m[I 2021-09-10 19:46:11,863]\u001b[0m Trial 123 finished with value: 928441112.0 and parameters: {'K_START': 0.11245510212641581, 'K_END': 0.052908868281887095, 'K_H': 0.7705568284584229, 'PURCHASE_TURN_LIMIT': 829, 'SUBSCORE3_TIGHT_TURN': 0, 'ROUGH_HASH': '0b00010011', 'TARGET_BEAM_WIDTH_INCREASE_RATE': 0.8516949383465571, 'TARGET_BEAM_WIDTH_HALF_PROGRES_RATE': 0.7011630907255497}. Best is trial 97 with value: 936947048.0.\u001b[0m\n"
     ]
    },
    {
     "name": "stdout",
     "output_type": "stream",
     "text": [
      "sed -i 6_main.cpp -e 's/^constexpr double K_START = .*;  \\/\\/ OPTIMIZE \\[0\\.04, 0\\.12\\] LOG$/constexpr double K_START = 0.11946035567218338;  \\/\\/ OPTIMIZE [0.04, 0.12] LOG/' -e 's/^constexpr double K_END = .*;   \\/\\/ OPTIMIZE \\[0\\.03, 0\\.1\\] LOG$/constexpr double K_END = 0.057239116556981266;   \\/\\/ OPTIMIZE [0.03, 0.1] LOG/' -e 's/^constexpr double K_H = .*;      \\/\\/ OPTIMIZE \\[0\\.001, 0\\.999\\]$/constexpr double K_H = 0.6936586152184556;      \\/\\/ OPTIMIZE [0.001, 0.999]/' -e 's/^constexpr short PURCHASE_TURN_LIMIT = .*;  \\/\\/ OPTIMIZE \\[790, 870\\]$/constexpr short PURCHASE_TURN_LIMIT = 838;  \\/\\/ OPTIMIZE [790, 870]/' -e 's/^constexpr int SUBSCORE3_TIGHT_TURN = .*;     \\/\\/ OPTIMIZE \\[0, 1\\]$/constexpr int SUBSCORE3_TIGHT_TURN = 0;     \\/\\/ OPTIMIZE [0, 1]/' -e 's/^constexpr int ROUGH_HASH = .*;      \\/\\/ OPTIMIZE {0, 0b00000001, 0b00010001, 0b00010011, 0b00110011}$/constexpr int ROUGH_HASH = 0b00010011;      \\/\\/ OPTIMIZE {0, 0b00000001, 0b00010001, 0b00010011, 0b00110011}/' -e 's/^constexpr double TARGET_BEAM_WIDTH_INCREASE_RATE = .*;      \\/\\/ OPTIMIZE \\[0\\.5, 1\\.0\\] LOG$/constexpr double TARGET_BEAM_WIDTH_INCREASE_RATE = 0.9501413029448514;      \\/\\/ OPTIMIZE [0.5, 1.0] LOG/' -e 's/^constexpr double TARGET_BEAM_WIDTH_HALF_PROGRES_RATE = .*;  \\/\\/ OPTIMIZE \\[0\\.02, 0\\.98\\]$/constexpr double TARGET_BEAM_WIDTH_HALF_PROGRES_RATE = 0.628731775521663;  \\/\\/ OPTIMIZE [0.02, 0.98]/'\n",
      "callback ok\n",
      "index_parallel=7\n",
      "g++ 6_main.cpp -std=gnu++17 -O2 -DONLINE_JUDGE -o 6_main.cpp.out 2> /dev/null\n",
      "sed -i 7_main.cpp -e 's/^constexpr double K_START = .*;  \\/\\/ OPTIMIZE \\[0\\.04, 0\\.12\\] LOG$/constexpr double K_START = 0.11996578204868605;  \\/\\/ OPTIMIZE [0.04, 0.12] LOG/' -e 's/^constexpr double K_END = .*;   \\/\\/ OPTIMIZE \\[0\\.03, 0\\.1\\] LOG$/constexpr double K_END = 0.05660708403433551;   \\/\\/ OPTIMIZE [0.03, 0.1] LOG/' -e 's/^constexpr double K_H = .*;      \\/\\/ OPTIMIZE \\[0\\.001, 0\\.999\\]$/constexpr double K_H = 0.7023757017349561;      \\/\\/ OPTIMIZE [0.001, 0.999]/' -e 's/^constexpr short PURCHASE_TURN_LIMIT = .*;  \\/\\/ OPTIMIZE \\[790, 870\\]$/constexpr short PURCHASE_TURN_LIMIT = 833;  \\/\\/ OPTIMIZE [790, 870]/' -e 's/^constexpr int SUBSCORE3_TIGHT_TURN = .*;     \\/\\/ OPTIMIZE \\[0, 1\\]$/constexpr int SUBSCORE3_TIGHT_TURN = 0;     \\/\\/ OPTIMIZE [0, 1]/' -e 's/^constexpr int ROUGH_HASH = .*;      \\/\\/ OPTIMIZE {0, 0b00000001, 0b00010001, 0b00010011, 0b00110011}$/constexpr int ROUGH_HASH = 0b00010011;      \\/\\/ OPTIMIZE {0, 0b00000001, 0b00010001, 0b00010011, 0b00110011}/' -e 's/^constexpr double TARGET_BEAM_WIDTH_INCREASE_RATE = .*;      \\/\\/ OPTIMIZE \\[0\\.5, 1\\.0\\] LOG$/constexpr double TARGET_BEAM_WIDTH_INCREASE_RATE = 0.5883939270723241;      \\/\\/ OPTIMIZE [0.5, 1.0] LOG/' -e 's/^constexpr double TARGET_BEAM_WIDTH_HALF_PROGRES_RATE = .*;  \\/\\/ OPTIMIZE \\[0\\.02, 0\\.98\\]$/constexpr double TARGET_BEAM_WIDTH_HALF_PROGRES_RATE = 0.627961428326921;  \\/\\/ OPTIMIZE [0.02, 0.98]/'\n",
      "g++ 7_main.cpp -std=gnu++17 -O2 -DONLINE_JUDGE -o 7_main.cpp.out 2> /dev/null\n"
     ]
    },
    {
     "name": "stderr",
     "output_type": "stream",
     "text": [
      "\u001b[32m[I 2021-09-10 19:48:07,630]\u001b[0m Trial 124 finished with value: 932473743.0 and parameters: {'K_START': 0.11730732810153462, 'K_END': 0.056895364547404646, 'K_H': 0.7759671084955658, 'PURCHASE_TURN_LIMIT': 838, 'SUBSCORE3_TIGHT_TURN': 0, 'ROUGH_HASH': '0b00010011', 'TARGET_BEAM_WIDTH_INCREASE_RATE': 0.9511524309211334, 'TARGET_BEAM_WIDTH_HALF_PROGRES_RATE': 0.7190478613118346}. Best is trial 97 with value: 936947048.0.\u001b[0m\n"
     ]
    },
    {
     "name": "stdout",
     "output_type": "stream",
     "text": [
      "callback ok\n",
      "index_parallel=8\n",
      "sed -i 8_main.cpp -e 's/^constexpr double K_START = .*;  \\/\\/ OPTIMIZE \\[0\\.04, 0\\.12\\] LOG$/constexpr double K_START = 0.11786976794190884;  \\/\\/ OPTIMIZE [0.04, 0.12] LOG/' -e 's/^constexpr double K_END = .*;   \\/\\/ OPTIMIZE \\[0\\.03, 0\\.1\\] LOG$/constexpr double K_END = 0.05763372143325851;   \\/\\/ OPTIMIZE [0.03, 0.1] LOG/' -e 's/^constexpr double K_H = .*;      \\/\\/ OPTIMIZE \\[0\\.001, 0\\.999\\]$/constexpr double K_H = 0.6939222458558396;      \\/\\/ OPTIMIZE [0.001, 0.999]/' -e 's/^constexpr short PURCHASE_TURN_LIMIT = .*;  \\/\\/ OPTIMIZE \\[790, 870\\]$/constexpr short PURCHASE_TURN_LIMIT = 834;  \\/\\/ OPTIMIZE [790, 870]/' -e 's/^constexpr int SUBSCORE3_TIGHT_TURN = .*;     \\/\\/ OPTIMIZE \\[0, 1\\]$/constexpr int SUBSCORE3_TIGHT_TURN = 0;     \\/\\/ OPTIMIZE [0, 1]/' -e 's/^constexpr int ROUGH_HASH = .*;      \\/\\/ OPTIMIZE {0, 0b00000001, 0b00010001, 0b00010011, 0b00110011}$/constexpr int ROUGH_HASH = 0b00010011;      \\/\\/ OPTIMIZE {0, 0b00000001, 0b00010001, 0b00010011, 0b00110011}/' -e 's/^constexpr double TARGET_BEAM_WIDTH_INCREASE_RATE = .*;      \\/\\/ OPTIMIZE \\[0\\.5, 1\\.0\\] LOG$/constexpr double TARGET_BEAM_WIDTH_INCREASE_RATE = 0.9586718239822962;      \\/\\/ OPTIMIZE [0.5, 1.0] LOG/' -e 's/^constexpr double TARGET_BEAM_WIDTH_HALF_PROGRES_RATE = .*;  \\/\\/ OPTIMIZE \\[0\\.02, 0\\.98\\]$/constexpr double TARGET_BEAM_WIDTH_HALF_PROGRES_RATE = 0.6589960735201421;  \\/\\/ OPTIMIZE [0.02, 0.98]/'\n",
      "g++ 8_main.cpp -std=gnu++17 -O2 -DONLINE_JUDGE -o 8_main.cpp.out 2> /dev/null\n"
     ]
    },
    {
     "name": "stderr",
     "output_type": "stream",
     "text": [
      "\u001b[32m[I 2021-09-10 19:48:26,606]\u001b[0m Trial 125 finished with value: 928798389.0 and parameters: {'K_START': 0.11924004378032407, 'K_END': 0.05781480448880512, 'K_H': 0.7073176585678806, 'PURCHASE_TURN_LIMIT': 833, 'SUBSCORE3_TIGHT_TURN': 0, 'ROUGH_HASH': '0b00010011', 'TARGET_BEAM_WIDTH_INCREASE_RATE': 0.9500716847255433, 'TARGET_BEAM_WIDTH_HALF_PROGRES_RATE': 0.6409011837491031}. Best is trial 97 with value: 936947048.0.\u001b[0m\n"
     ]
    },
    {
     "name": "stdout",
     "output_type": "stream",
     "text": [
      "callback ok\n",
      "index_parallel=9\n",
      "sed -i 9_main.cpp -e 's/^constexpr double K_START = .*;  \\/\\/ OPTIMIZE \\[0\\.04, 0\\.12\\] LOG$/constexpr double K_START = 0.11663147299852565;  \\/\\/ OPTIMIZE [0.04, 0.12] LOG/' -e 's/^constexpr double K_END = .*;   \\/\\/ OPTIMIZE \\[0\\.03, 0\\.1\\] LOG$/constexpr double K_END = 0.05689431356809626;   \\/\\/ OPTIMIZE [0.03, 0.1] LOG/' -e 's/^constexpr double K_H = .*;      \\/\\/ OPTIMIZE \\[0\\.001, 0\\.999\\]$/constexpr double K_H = 0.6749541059926273;      \\/\\/ OPTIMIZE [0.001, 0.999]/' -e 's/^constexpr short PURCHASE_TURN_LIMIT = .*;  \\/\\/ OPTIMIZE \\[790, 870\\]$/constexpr short PURCHASE_TURN_LIMIT = 838;  \\/\\/ OPTIMIZE [790, 870]/' -e 's/^constexpr int SUBSCORE3_TIGHT_TURN = .*;     \\/\\/ OPTIMIZE \\[0, 1\\]$/constexpr int SUBSCORE3_TIGHT_TURN = 0;     \\/\\/ OPTIMIZE [0, 1]/' -e 's/^constexpr int ROUGH_HASH = .*;      \\/\\/ OPTIMIZE {0, 0b00000001, 0b00010001, 0b00010011, 0b00110011}$/constexpr int ROUGH_HASH = 0b00010011;      \\/\\/ OPTIMIZE {0, 0b00000001, 0b00010001, 0b00010011, 0b00110011}/' -e 's/^constexpr double TARGET_BEAM_WIDTH_INCREASE_RATE = .*;      \\/\\/ OPTIMIZE \\[0\\.5, 1\\.0\\] LOG$/constexpr double TARGET_BEAM_WIDTH_INCREASE_RATE = 0.9604633274035995;      \\/\\/ OPTIMIZE [0.5, 1.0] LOG/' -e 's/^constexpr double TARGET_BEAM_WIDTH_HALF_PROGRES_RATE = .*;  \\/\\/ OPTIMIZE \\[0\\.02, 0\\.98\\]$/constexpr double TARGET_BEAM_WIDTH_HALF_PROGRES_RATE = 0.6331075053758618;  \\/\\/ OPTIMIZE [0.02, 0.98]/'\n",
      "g++ 9_main.cpp -std=gnu++17 -O2 -DONLINE_JUDGE -o 9_main.cpp.out 2> /dev/null\n"
     ]
    },
    {
     "name": "stderr",
     "output_type": "stream",
     "text": [
      "\u001b[32m[I 2021-09-10 19:48:38,401]\u001b[0m Trial 126 finished with value: 923749758.0 and parameters: {'K_START': 0.11946035567218338, 'K_END': 0.057239116556981266, 'K_H': 0.6936586152184556, 'PURCHASE_TURN_LIMIT': 838, 'SUBSCORE3_TIGHT_TURN': 0, 'ROUGH_HASH': '0b00010011', 'TARGET_BEAM_WIDTH_INCREASE_RATE': 0.9501413029448514, 'TARGET_BEAM_WIDTH_HALF_PROGRES_RATE': 0.628731775521663}. Best is trial 97 with value: 936947048.0.\u001b[0m\n"
     ]
    },
    {
     "name": "stdout",
     "output_type": "stream",
     "text": [
      "callback ok\n",
      "index_parallel=10\n"
     ]
    },
    {
     "name": "stderr",
     "output_type": "stream",
     "text": [
      "\u001b[32m[I 2021-09-10 19:48:39,933]\u001b[0m Trial 127 finished with value: 932475758.0 and parameters: {'K_START': 0.11996578204868605, 'K_END': 0.05660708403433551, 'K_H': 0.7023757017349561, 'PURCHASE_TURN_LIMIT': 833, 'SUBSCORE3_TIGHT_TURN': 0, 'ROUGH_HASH': '0b00010011', 'TARGET_BEAM_WIDTH_INCREASE_RATE': 0.5883939270723241, 'TARGET_BEAM_WIDTH_HALF_PROGRES_RATE': 0.627961428326921}. Best is trial 97 with value: 936947048.0.\u001b[0m\n"
     ]
    },
    {
     "name": "stdout",
     "output_type": "stream",
     "text": [
      "callback ok\n",
      "index_parallel=11\n",
      "sed -i 10_main.cpp -e 's/^constexpr double K_START = .*;  \\/\\/ OPTIMIZE \\[0\\.04, 0\\.12\\] LOG$/constexpr double K_START = 0.11511388580744075;  \\/\\/ OPTIMIZE [0.04, 0.12] LOG/' -e 's/^constexpr double K_END = .*;   \\/\\/ OPTIMIZE \\[0\\.03, 0\\.1\\] LOG$/constexpr double K_END = 0.05137325178161532;   \\/\\/ OPTIMIZE [0.03, 0.1] LOG/' -e 's/^constexpr double K_H = .*;      \\/\\/ OPTIMIZE \\[0\\.001, 0\\.999\\]$/constexpr double K_H = 0.6632812163336259;      \\/\\/ OPTIMIZE [0.001, 0.999]/' -e 's/^constexpr short PURCHASE_TURN_LIMIT = .*;  \\/\\/ OPTIMIZE \\[790, 870\\]$/constexpr short PURCHASE_TURN_LIMIT = 832;  \\/\\/ OPTIMIZE [790, 870]/' -e 's/^constexpr int SUBSCORE3_TIGHT_TURN = .*;     \\/\\/ OPTIMIZE \\[0, 1\\]$/constexpr int SUBSCORE3_TIGHT_TURN = 0;     \\/\\/ OPTIMIZE [0, 1]/' -e 's/^constexpr int ROUGH_HASH = .*;      \\/\\/ OPTIMIZE {0, 0b00000001, 0b00010001, 0b00010011, 0b00110011}$/constexpr int ROUGH_HASH = 0b00010011;      \\/\\/ OPTIMIZE {0, 0b00000001, 0b00010001, 0b00010011, 0b00110011}/' -e 's/^constexpr double TARGET_BEAM_WIDTH_INCREASE_RATE = .*;      \\/\\/ OPTIMIZE \\[0\\.5, 1\\.0\\] LOG$/constexpr double TARGET_BEAM_WIDTH_INCREASE_RATE = 0.6955440901685025;      \\/\\/ OPTIMIZE [0.5, 1.0] LOG/' -e 's/^constexpr double TARGET_BEAM_WIDTH_HALF_PROGRES_RATE = .*;  \\/\\/ OPTIMIZE \\[0\\.02, 0\\.98\\]$/constexpr double TARGET_BEAM_WIDTH_HALF_PROGRES_RATE = 0.7578393591911753;  \\/\\/ OPTIMIZE [0.02, 0.98]/'\n",
      "g++ 10_main.cpp -std=gnu++17 -O2 -DONLINE_JUDGE -o 10_main.cpp.out 2> /dev/null\n",
      "sed -i 11_main.cpp -e 's/^constexpr double K_START = .*;  \\/\\/ OPTIMIZE \\[0\\.04, 0\\.12\\] LOG$/constexpr double K_START = 0.11684911980997924;  \\/\\/ OPTIMIZE [0.04, 0.12] LOG/' -e 's/^constexpr double K_END = .*;   \\/\\/ OPTIMIZE \\[0\\.03, 0\\.1\\] LOG$/constexpr double K_END = 0.06416437723423847;   \\/\\/ OPTIMIZE [0.03, 0.1] LOG/' -e 's/^constexpr double K_H = .*;      \\/\\/ OPTIMIZE \\[0\\.001, 0\\.999\\]$/constexpr double K_H = 0.6668330954113052;      \\/\\/ OPTIMIZE [0.001, 0.999]/' -e 's/^constexpr short PURCHASE_TURN_LIMIT = .*;  \\/\\/ OPTIMIZE \\[790, 870\\]$/constexpr short PURCHASE_TURN_LIMIT = 827;  \\/\\/ OPTIMIZE [790, 870]/' -e 's/^constexpr int SUBSCORE3_TIGHT_TURN = .*;     \\/\\/ OPTIMIZE \\[0, 1\\]$/constexpr int SUBSCORE3_TIGHT_TURN = 0;     \\/\\/ OPTIMIZE [0, 1]/' -e 's/^constexpr int ROUGH_HASH = .*;      \\/\\/ OPTIMIZE {0, 0b00000001, 0b00010001, 0b00010011, 0b00110011}$/constexpr int ROUGH_HASH = 0b00010011;      \\/\\/ OPTIMIZE {0, 0b00000001, 0b00010001, 0b00010011, 0b00110011}/' -e 's/^constexpr double TARGET_BEAM_WIDTH_INCREASE_RATE = .*;      \\/\\/ OPTIMIZE \\[0\\.5, 1\\.0\\] LOG$/constexpr double TARGET_BEAM_WIDTH_INCREASE_RATE = 0.5774176257375548;      \\/\\/ OPTIMIZE [0.5, 1.0] LOG/' -e 's/^constexpr double TARGET_BEAM_WIDTH_HALF_PROGRES_RATE = .*;  \\/\\/ OPTIMIZE \\[0\\.02, 0\\.98\\]$/constexpr double TARGET_BEAM_WIDTH_HALF_PROGRES_RATE = 0.7594136795584957;  \\/\\/ OPTIMIZE [0.02, 0.98]/'\n",
      "g++ 11_main.cpp -std=gnu++17 -O2 -DONLINE_JUDGE -o 11_main.cpp.out 2> /dev/null\n"
     ]
    },
    {
     "name": "stderr",
     "output_type": "stream",
     "text": [
      "\u001b[32m[I 2021-09-10 19:50:34,425]\u001b[0m Trial 128 finished with value: 926845177.0 and parameters: {'K_START': 0.11786976794190884, 'K_END': 0.05763372143325851, 'K_H': 0.6939222458558396, 'PURCHASE_TURN_LIMIT': 834, 'SUBSCORE3_TIGHT_TURN': 0, 'ROUGH_HASH': '0b00010011', 'TARGET_BEAM_WIDTH_INCREASE_RATE': 0.9586718239822962, 'TARGET_BEAM_WIDTH_HALF_PROGRES_RATE': 0.6589960735201421}. Best is trial 97 with value: 936947048.0.\u001b[0m\n"
     ]
    },
    {
     "name": "stdout",
     "output_type": "stream",
     "text": [
      "callback ok\n",
      "index_parallel=0\n",
      "sed -i 0_main.cpp -e 's/^constexpr double K_START = .*;  \\/\\/ OPTIMIZE \\[0\\.04, 0\\.12\\] LOG$/constexpr double K_START = 0.10392195857007505;  \\/\\/ OPTIMIZE [0.04, 0.12] LOG/' -e 's/^constexpr double K_END = .*;   \\/\\/ OPTIMIZE \\[0\\.03, 0\\.1\\] LOG$/constexpr double K_END = 0.06365916141406432;   \\/\\/ OPTIMIZE [0.03, 0.1] LOG/' -e 's/^constexpr double K_H = .*;      \\/\\/ OPTIMIZE \\[0\\.001, 0\\.999\\]$/constexpr double K_H = 0.7957660924509746;      \\/\\/ OPTIMIZE [0.001, 0.999]/' -e 's/^constexpr short PURCHASE_TURN_LIMIT = .*;  \\/\\/ OPTIMIZE \\[790, 870\\]$/constexpr short PURCHASE_TURN_LIMIT = 827;  \\/\\/ OPTIMIZE [790, 870]/' -e 's/^constexpr int SUBSCORE3_TIGHT_TURN = .*;     \\/\\/ OPTIMIZE \\[0, 1\\]$/constexpr int SUBSCORE3_TIGHT_TURN = 0;     \\/\\/ OPTIMIZE [0, 1]/' -e 's/^constexpr int ROUGH_HASH = .*;      \\/\\/ OPTIMIZE {0, 0b00000001, 0b00010001, 0b00010011, 0b00110011}$/constexpr int ROUGH_HASH = 0b00010011;      \\/\\/ OPTIMIZE {0, 0b00000001, 0b00010001, 0b00010011, 0b00110011}/' -e 's/^constexpr double TARGET_BEAM_WIDTH_INCREASE_RATE = .*;      \\/\\/ OPTIMIZE \\[0\\.5, 1\\.0\\] LOG$/constexpr double TARGET_BEAM_WIDTH_INCREASE_RATE = 0.7456195741010901;      \\/\\/ OPTIMIZE [0.5, 1.0] LOG/' -e 's/^constexpr double TARGET_BEAM_WIDTH_HALF_PROGRES_RATE = .*;  \\/\\/ OPTIMIZE \\[0\\.02, 0\\.98\\]$/constexpr double TARGET_BEAM_WIDTH_HALF_PROGRES_RATE = 0.7561657550057741;  \\/\\/ OPTIMIZE [0.02, 0.98]/'\n",
      "g++ 0_main.cpp -std=gnu++17 -O2 -DONLINE_JUDGE -o 0_main.cpp.out 2> /dev/null\n"
     ]
    },
    {
     "name": "stderr",
     "output_type": "stream",
     "text": [
      "\u001b[32m[I 2021-09-10 19:50:55,330]\u001b[0m Trial 129 finished with value: 932352723.0 and parameters: {'K_START': 0.11663147299852565, 'K_END': 0.05689431356809626, 'K_H': 0.6749541059926273, 'PURCHASE_TURN_LIMIT': 838, 'SUBSCORE3_TIGHT_TURN': 0, 'ROUGH_HASH': '0b00010011', 'TARGET_BEAM_WIDTH_INCREASE_RATE': 0.9604633274035995, 'TARGET_BEAM_WIDTH_HALF_PROGRES_RATE': 0.6331075053758618}. Best is trial 97 with value: 936947048.0.\u001b[0m\n"
     ]
    },
    {
     "name": "stdout",
     "output_type": "stream",
     "text": [
      "callback ok\n",
      "index_parallel=1\n",
      "sed -i 1_main.cpp -e 's/^constexpr double K_START = .*;  \\/\\/ OPTIMIZE \\[0\\.04, 0\\.12\\] LOG$/constexpr double K_START = 0.1087160199852735;  \\/\\/ OPTIMIZE [0.04, 0.12] LOG/' -e 's/^constexpr double K_END = .*;   \\/\\/ OPTIMIZE \\[0\\.03, 0\\.1\\] LOG$/constexpr double K_END = 0.06352899682604077;   \\/\\/ OPTIMIZE [0.03, 0.1] LOG/' -e 's/^constexpr double K_H = .*;      \\/\\/ OPTIMIZE \\[0\\.001, 0\\.999\\]$/constexpr double K_H = 0.7872868544010972;      \\/\\/ OPTIMIZE [0.001, 0.999]/' -e 's/^constexpr short PURCHASE_TURN_LIMIT = .*;  \\/\\/ OPTIMIZE \\[790, 870\\]$/constexpr short PURCHASE_TURN_LIMIT = 827;  \\/\\/ OPTIMIZE [790, 870]/' -e 's/^constexpr int SUBSCORE3_TIGHT_TURN = .*;     \\/\\/ OPTIMIZE \\[0, 1\\]$/constexpr int SUBSCORE3_TIGHT_TURN = 0;     \\/\\/ OPTIMIZE [0, 1]/' -e 's/^constexpr int ROUGH_HASH = .*;      \\/\\/ OPTIMIZE {0, 0b00000001, 0b00010001, 0b00010011, 0b00110011}$/constexpr int ROUGH_HASH = 0b00010011;      \\/\\/ OPTIMIZE {0, 0b00000001, 0b00010001, 0b00010011, 0b00110011}/' -e 's/^constexpr double TARGET_BEAM_WIDTH_INCREASE_RATE = .*;      \\/\\/ OPTIMIZE \\[0\\.5, 1\\.0\\] LOG$/constexpr double TARGET_BEAM_WIDTH_INCREASE_RATE = 0.5208025897103769;      \\/\\/ OPTIMIZE [0.5, 1.0] LOG/' -e 's/^constexpr double TARGET_BEAM_WIDTH_HALF_PROGRES_RATE = .*;  \\/\\/ OPTIMIZE \\[0\\.02, 0\\.98\\]$/constexpr double TARGET_BEAM_WIDTH_HALF_PROGRES_RATE = 0.7661691650063622;  \\/\\/ OPTIMIZE [0.02, 0.98]/'\n",
      "g++ 1_main.cpp -std=gnu++17 -O2 -DONLINE_JUDGE -o 1_main.cpp.out 2> /dev/null\n"
     ]
    },
    {
     "name": "stderr",
     "output_type": "stream",
     "text": [
      "\u001b[32m[I 2021-09-10 19:51:06,008]\u001b[0m Trial 130 finished with value: 931489659.0 and parameters: {'K_START': 0.11511388580744075, 'K_END': 0.05137325178161532, 'K_H': 0.6632812163336259, 'PURCHASE_TURN_LIMIT': 832, 'SUBSCORE3_TIGHT_TURN': 0, 'ROUGH_HASH': '0b00010011', 'TARGET_BEAM_WIDTH_INCREASE_RATE': 0.6955440901685025, 'TARGET_BEAM_WIDTH_HALF_PROGRES_RATE': 0.7578393591911753}. Best is trial 97 with value: 936947048.0.\u001b[0m\n"
     ]
    },
    {
     "name": "stdout",
     "output_type": "stream",
     "text": [
      "callback ok\n",
      "index_parallel=2\n"
     ]
    },
    {
     "name": "stderr",
     "output_type": "stream",
     "text": [
      "\u001b[32m[I 2021-09-10 19:51:07,155]\u001b[0m Trial 131 finished with value: 661955317.0 and parameters: {'K_START': 0.11684911980997924, 'K_END': 0.06416437723423847, 'K_H': 0.6668330954113052, 'PURCHASE_TURN_LIMIT': 827, 'SUBSCORE3_TIGHT_TURN': 0, 'ROUGH_HASH': '0b00010011', 'TARGET_BEAM_WIDTH_INCREASE_RATE': 0.5774176257375548, 'TARGET_BEAM_WIDTH_HALF_PROGRES_RATE': 0.7594136795584957}. Best is trial 97 with value: 936947048.0.\u001b[0m\n"
     ]
    },
    {
     "name": "stdout",
     "output_type": "stream",
     "text": [
      "callback ok\n",
      "index_parallel=3\n",
      "sed -i 2_main.cpp -e 's/^constexpr double K_START = .*;  \\/\\/ OPTIMIZE \\[0\\.04, 0\\.12\\] LOG$/constexpr double K_START = 0.10418011103114692;  \\/\\/ OPTIMIZE [0.04, 0.12] LOG/' -e 's/^constexpr double K_END = .*;   \\/\\/ OPTIMIZE \\[0\\.03, 0\\.1\\] LOG$/constexpr double K_END = 0.0630866429704913;   \\/\\/ OPTIMIZE [0.03, 0.1] LOG/' -e 's/^constexpr double K_H = .*;      \\/\\/ OPTIMIZE \\[0\\.001, 0\\.999\\]$/constexpr double K_H = 0.6444750551929505;      \\/\\/ OPTIMIZE [0.001, 0.999]/' -e 's/^constexpr short PURCHASE_TURN_LIMIT = .*;  \\/\\/ OPTIMIZE \\[790, 870\\]$/constexpr short PURCHASE_TURN_LIMIT = 836;  \\/\\/ OPTIMIZE [790, 870]/' -e 's/^constexpr int SUBSCORE3_TIGHT_TURN = .*;     \\/\\/ OPTIMIZE \\[0, 1\\]$/constexpr int SUBSCORE3_TIGHT_TURN = 0;     \\/\\/ OPTIMIZE [0, 1]/' -e 's/^constexpr int ROUGH_HASH = .*;      \\/\\/ OPTIMIZE {0, 0b00000001, 0b00010001, 0b00010011, 0b00110011}$/constexpr int ROUGH_HASH = 0b00010011;      \\/\\/ OPTIMIZE {0, 0b00000001, 0b00010001, 0b00010011, 0b00110011}/' -e 's/^constexpr double TARGET_BEAM_WIDTH_INCREASE_RATE = .*;      \\/\\/ OPTIMIZE \\[0\\.5, 1\\.0\\] LOG$/constexpr double TARGET_BEAM_WIDTH_INCREASE_RATE = 0.5232462832962622;      \\/\\/ OPTIMIZE [0.5, 1.0] LOG/' -e 's/^constexpr double TARGET_BEAM_WIDTH_HALF_PROGRES_RATE = .*;  \\/\\/ OPTIMIZE \\[0\\.02, 0\\.98\\]$/constexpr double TARGET_BEAM_WIDTH_HALF_PROGRES_RATE = 0.5462983543360994;  \\/\\/ OPTIMIZE [0.02, 0.98]/'\n",
      "g++ 2_main.cpp -std=gnu++17 -O2 -DONLINE_JUDGE -o 2_main.cpp.out 2> /dev/null\n",
      "sed -i 3_main.cpp -e 's/^constexpr double K_START = .*;  \\/\\/ OPTIMIZE \\[0\\.04, 0\\.12\\] LOG$/constexpr double K_START = 0.10442475243723792;  \\/\\/ OPTIMIZE [0.04, 0.12] LOG/' -e 's/^constexpr double K_END = .*;   \\/\\/ OPTIMIZE \\[0\\.03, 0\\.1\\] LOG$/constexpr double K_END = 0.04939384344782604;   \\/\\/ OPTIMIZE [0.03, 0.1] LOG/' -e 's/^constexpr double K_H = .*;      \\/\\/ OPTIMIZE \\[0\\.001, 0\\.999\\]$/constexpr double K_H = 0.8085003133802963;      \\/\\/ OPTIMIZE [0.001, 0.999]/' -e 's/^constexpr short PURCHASE_TURN_LIMIT = .*;  \\/\\/ OPTIMIZE \\[790, 870\\]$/constexpr short PURCHASE_TURN_LIMIT = 836;  \\/\\/ OPTIMIZE [790, 870]/' -e 's/^constexpr int SUBSCORE3_TIGHT_TURN = .*;     \\/\\/ OPTIMIZE \\[0, 1\\]$/constexpr int SUBSCORE3_TIGHT_TURN = 0;     \\/\\/ OPTIMIZE [0, 1]/' -e 's/^constexpr int ROUGH_HASH = .*;      \\/\\/ OPTIMIZE {0, 0b00000001, 0b00010001, 0b00010011, 0b00110011}$/constexpr int ROUGH_HASH = 0b00010011;      \\/\\/ OPTIMIZE {0, 0b00000001, 0b00010001, 0b00010011, 0b00110011}/' -e 's/^constexpr double TARGET_BEAM_WIDTH_INCREASE_RATE = .*;      \\/\\/ OPTIMIZE \\[0\\.5, 1\\.0\\] LOG$/constexpr double TARGET_BEAM_WIDTH_INCREASE_RATE = 0.6589162016132977;      \\/\\/ OPTIMIZE [0.5, 1.0] LOG/' -e 's/^constexpr double TARGET_BEAM_WIDTH_HALF_PROGRES_RATE = .*;  \\/\\/ OPTIMIZE \\[0\\.02, 0\\.98\\]$/constexpr double TARGET_BEAM_WIDTH_HALF_PROGRES_RATE = 0.6069315992246435;  \\/\\/ OPTIMIZE [0.02, 0.98]/'\n",
      "g++ 3_main.cpp -std=gnu++17 -O2 -DONLINE_JUDGE -o 3_main.cpp.out 2> /dev/null\n"
     ]
    },
    {
     "name": "stderr",
     "output_type": "stream",
     "text": [
      "\u001b[32m[I 2021-09-10 19:53:02,139]\u001b[0m Trial 132 finished with value: 927583466.0 and parameters: {'K_START': 0.10392195857007505, 'K_END': 0.06365916141406432, 'K_H': 0.7957660924509746, 'PURCHASE_TURN_LIMIT': 827, 'SUBSCORE3_TIGHT_TURN': 0, 'ROUGH_HASH': '0b00010011', 'TARGET_BEAM_WIDTH_INCREASE_RATE': 0.7456195741010901, 'TARGET_BEAM_WIDTH_HALF_PROGRES_RATE': 0.7561657550057741}. Best is trial 97 with value: 936947048.0.\u001b[0m\n"
     ]
    },
    {
     "name": "stdout",
     "output_type": "stream",
     "text": [
      "callback ok\n",
      "index_parallel=4\n",
      "sed -i 4_main.cpp -e 's/^constexpr double K_START = .*;  \\/\\/ OPTIMIZE \\[0\\.04, 0\\.12\\] LOG$/constexpr double K_START = 0.11316618741428006;  \\/\\/ OPTIMIZE [0.04, 0.12] LOG/' -e 's/^constexpr double K_END = .*;   \\/\\/ OPTIMIZE \\[0\\.03, 0\\.1\\] LOG$/constexpr double K_END = 0.056258639013170186;   \\/\\/ OPTIMIZE [0.03, 0.1] LOG/' -e 's/^constexpr double K_H = .*;      \\/\\/ OPTIMIZE \\[0\\.001, 0\\.999\\]$/constexpr double K_H = 0.6327336202562436;      \\/\\/ OPTIMIZE [0.001, 0.999]/' -e 's/^constexpr short PURCHASE_TURN_LIMIT = .*;  \\/\\/ OPTIMIZE \\[790, 870\\]$/constexpr short PURCHASE_TURN_LIMIT = 835;  \\/\\/ OPTIMIZE [790, 870]/' -e 's/^constexpr int SUBSCORE3_TIGHT_TURN = .*;     \\/\\/ OPTIMIZE \\[0, 1\\]$/constexpr int SUBSCORE3_TIGHT_TURN = 0;     \\/\\/ OPTIMIZE [0, 1]/' -e 's/^constexpr int ROUGH_HASH = .*;      \\/\\/ OPTIMIZE {0, 0b00000001, 0b00010001, 0b00010011, 0b00110011}$/constexpr int ROUGH_HASH = 0b00010011;      \\/\\/ OPTIMIZE {0, 0b00000001, 0b00010001, 0b00010011, 0b00110011}/' -e 's/^constexpr double TARGET_BEAM_WIDTH_INCREASE_RATE = .*;      \\/\\/ OPTIMIZE \\[0\\.5, 1\\.0\\] LOG$/constexpr double TARGET_BEAM_WIDTH_INCREASE_RATE = 0.6631878277239263;      \\/\\/ OPTIMIZE [0.5, 1.0] LOG/' -e 's/^constexpr double TARGET_BEAM_WIDTH_HALF_PROGRES_RATE = .*;  \\/\\/ OPTIMIZE \\[0\\.02, 0\\.98\\]$/constexpr double TARGET_BEAM_WIDTH_HALF_PROGRES_RATE = 0.5868660720546068;  \\/\\/ OPTIMIZE [0.02, 0.98]/'\n",
      "g++ 4_main.cpp -std=gnu++17 -O2 -DONLINE_JUDGE -o 4_main.cpp.out 2> /dev/null\n"
     ]
    },
    {
     "name": "stderr",
     "output_type": "stream",
     "text": [
      "\u001b[32m[I 2021-09-10 19:53:23,485]\u001b[0m Trial 133 finished with value: 928674545.0 and parameters: {'K_START': 0.1087160199852735, 'K_END': 0.06352899682604077, 'K_H': 0.7872868544010972, 'PURCHASE_TURN_LIMIT': 827, 'SUBSCORE3_TIGHT_TURN': 0, 'ROUGH_HASH': '0b00010011', 'TARGET_BEAM_WIDTH_INCREASE_RATE': 0.5208025897103769, 'TARGET_BEAM_WIDTH_HALF_PROGRES_RATE': 0.7661691650063622}. Best is trial 97 with value: 936947048.0.\u001b[0m\n"
     ]
    },
    {
     "name": "stdout",
     "output_type": "stream",
     "text": [
      "callback ok\n",
      "index_parallel=5\n",
      "sed -i 5_main.cpp -e 's/^constexpr double K_START = .*;  \\/\\/ OPTIMIZE \\[0\\.04, 0\\.12\\] LOG$/constexpr double K_START = 0.11332900723058346;  \\/\\/ OPTIMIZE [0.04, 0.12] LOG/' -e 's/^constexpr double K_END = .*;   \\/\\/ OPTIMIZE \\[0\\.03, 0\\.1\\] LOG$/constexpr double K_END = 0.055903921557147566;   \\/\\/ OPTIMIZE [0.03, 0.1] LOG/' -e 's/^constexpr double K_H = .*;      \\/\\/ OPTIMIZE \\[0\\.001, 0\\.999\\]$/constexpr double K_H = 0.6323631346093714;      \\/\\/ OPTIMIZE [0.001, 0.999]/' -e 's/^constexpr short PURCHASE_TURN_LIMIT = .*;  \\/\\/ OPTIMIZE \\[790, 870\\]$/constexpr short PURCHASE_TURN_LIMIT = 836;  \\/\\/ OPTIMIZE [790, 870]/' -e 's/^constexpr int SUBSCORE3_TIGHT_TURN = .*;     \\/\\/ OPTIMIZE \\[0, 1\\]$/constexpr int SUBSCORE3_TIGHT_TURN = 0;     \\/\\/ OPTIMIZE [0, 1]/' -e 's/^constexpr int ROUGH_HASH = .*;      \\/\\/ OPTIMIZE {0, 0b00000001, 0b00010001, 0b00010011, 0b00110011}$/constexpr int ROUGH_HASH = 0b00010011;      \\/\\/ OPTIMIZE {0, 0b00000001, 0b00010001, 0b00010011, 0b00110011}/' -e 's/^constexpr double TARGET_BEAM_WIDTH_INCREASE_RATE = .*;      \\/\\/ OPTIMIZE \\[0\\.5, 1\\.0\\] LOG$/constexpr double TARGET_BEAM_WIDTH_INCREASE_RATE = 0.6680984210999528;      \\/\\/ OPTIMIZE [0.5, 1.0] LOG/' -e 's/^constexpr double TARGET_BEAM_WIDTH_HALF_PROGRES_RATE = .*;  \\/\\/ OPTIMIZE \\[0\\.02, 0\\.98\\]$/constexpr double TARGET_BEAM_WIDTH_HALF_PROGRES_RATE = 0.6000640446535205;  \\/\\/ OPTIMIZE [0.02, 0.98]/'\n",
      "g++ 5_main.cpp -std=gnu++17 -O2 -DONLINE_JUDGE -o 5_main.cpp.out 2> /dev/null\n"
     ]
    },
    {
     "name": "stderr",
     "output_type": "stream",
     "text": [
      "\u001b[32m[I 2021-09-10 19:53:34,120]\u001b[0m Trial 134 finished with value: 930119705.0 and parameters: {'K_START': 0.10418011103114692, 'K_END': 0.0630866429704913, 'K_H': 0.6444750551929505, 'PURCHASE_TURN_LIMIT': 836, 'SUBSCORE3_TIGHT_TURN': 0, 'ROUGH_HASH': '0b00010011', 'TARGET_BEAM_WIDTH_INCREASE_RATE': 0.5232462832962622, 'TARGET_BEAM_WIDTH_HALF_PROGRES_RATE': 0.5462983543360994}. Best is trial 97 with value: 936947048.0.\u001b[0m\n"
     ]
    },
    {
     "name": "stdout",
     "output_type": "stream",
     "text": [
      "callback ok\n",
      "index_parallel=6\n",
      "sed -i 6_main.cpp -e 's/^constexpr double K_START = .*;  \\/\\/ OPTIMIZE \\[0\\.04, 0\\.12\\] LOG$/constexpr double K_START = 0.11390302115695417;  \\/\\/ OPTIMIZE [0.04, 0.12] LOG/' -e 's/^constexpr double K_END = .*;   \\/\\/ OPTIMIZE \\[0\\.03, 0\\.1\\] LOG$/constexpr double K_END = 0.05601085052584058;   \\/\\/ OPTIMIZE [0.03, 0.1] LOG/' -e 's/^constexpr double K_H = .*;      \\/\\/ OPTIMIZE \\[0\\.001, 0\\.999\\]$/constexpr double K_H = 0.7458711386666241;      \\/\\/ OPTIMIZE [0.001, 0.999]/' -e 's/^constexpr short PURCHASE_TURN_LIMIT = .*;  \\/\\/ OPTIMIZE \\[790, 870\\]$/constexpr short PURCHASE_TURN_LIMIT = 834;  \\/\\/ OPTIMIZE [790, 870]/' -e 's/^constexpr int SUBSCORE3_TIGHT_TURN = .*;     \\/\\/ OPTIMIZE \\[0, 1\\]$/constexpr int SUBSCORE3_TIGHT_TURN = 0;     \\/\\/ OPTIMIZE [0, 1]/' -e 's/^constexpr int ROUGH_HASH = .*;      \\/\\/ OPTIMIZE {0, 0b00000001, 0b00010001, 0b00010011, 0b00110011}$/constexpr int ROUGH_HASH = 0b00010011;      \\/\\/ OPTIMIZE {0, 0b00000001, 0b00010001, 0b00010011, 0b00110011}/' -e 's/^constexpr double TARGET_BEAM_WIDTH_INCREASE_RATE = .*;      \\/\\/ OPTIMIZE \\[0\\.5, 1\\.0\\] LOG$/constexpr double TARGET_BEAM_WIDTH_INCREASE_RATE = 0.6226807837419932;      \\/\\/ OPTIMIZE [0.5, 1.0] LOG/' -e 's/^constexpr double TARGET_BEAM_WIDTH_HALF_PROGRES_RATE = .*;  \\/\\/ OPTIMIZE \\[0\\.02, 0\\.98\\]$/constexpr double TARGET_BEAM_WIDTH_HALF_PROGRES_RATE = 0.5973252169682401;  \\/\\/ OPTIMIZE [0.02, 0.98]/'\n",
      "g++ 6_main.cpp -std=gnu++17 -O2 -DONLINE_JUDGE -o 6_main.cpp.out 2> /dev/null\n"
     ]
    },
    {
     "name": "stderr",
     "output_type": "stream",
     "text": [
      "\u001b[32m[I 2021-09-10 19:53:37,423]\u001b[0m Trial 135 finished with value: 927703870.0 and parameters: {'K_START': 0.10442475243723792, 'K_END': 0.04939384344782604, 'K_H': 0.8085003133802963, 'PURCHASE_TURN_LIMIT': 836, 'SUBSCORE3_TIGHT_TURN': 0, 'ROUGH_HASH': '0b00010011', 'TARGET_BEAM_WIDTH_INCREASE_RATE': 0.6589162016132977, 'TARGET_BEAM_WIDTH_HALF_PROGRES_RATE': 0.6069315992246435}. Best is trial 97 with value: 936947048.0.\u001b[0m\n"
     ]
    },
    {
     "name": "stdout",
     "output_type": "stream",
     "text": [
      "callback ok\n",
      "index_parallel=7\n",
      "sed -i 7_main.cpp -e 's/^constexpr double K_START = .*;  \\/\\/ OPTIMIZE \\[0\\.04, 0\\.12\\] LOG$/constexpr double K_START = 0.11397781535512337;  \\/\\/ OPTIMIZE [0.04, 0.12] LOG/' -e 's/^constexpr double K_END = .*;   \\/\\/ OPTIMIZE \\[0\\.03, 0\\.1\\] LOG$/constexpr double K_END = 0.05420344677458313;   \\/\\/ OPTIMIZE [0.03, 0.1] LOG/' -e 's/^constexpr double K_H = .*;      \\/\\/ OPTIMIZE \\[0\\.001, 0\\.999\\]$/constexpr double K_H = 0.6217952769459715;      \\/\\/ OPTIMIZE [0.001, 0.999]/' -e 's/^constexpr short PURCHASE_TURN_LIMIT = .*;  \\/\\/ OPTIMIZE \\[790, 870\\]$/constexpr short PURCHASE_TURN_LIMIT = 832;  \\/\\/ OPTIMIZE [790, 870]/' -e 's/^constexpr int SUBSCORE3_TIGHT_TURN = .*;     \\/\\/ OPTIMIZE \\[0, 1\\]$/constexpr int SUBSCORE3_TIGHT_TURN = 0;     \\/\\/ OPTIMIZE [0, 1]/' -e 's/^constexpr int ROUGH_HASH = .*;      \\/\\/ OPTIMIZE {0, 0b00000001, 0b00010001, 0b00010011, 0b00110011}$/constexpr int ROUGH_HASH = 0b00010011;      \\/\\/ OPTIMIZE {0, 0b00000001, 0b00010001, 0b00010011, 0b00110011}/' -e 's/^constexpr double TARGET_BEAM_WIDTH_INCREASE_RATE = .*;      \\/\\/ OPTIMIZE \\[0\\.5, 1\\.0\\] LOG$/constexpr double TARGET_BEAM_WIDTH_INCREASE_RATE = 0.9721603546603542;      \\/\\/ OPTIMIZE [0.5, 1.0] LOG/' -e 's/^constexpr double TARGET_BEAM_WIDTH_HALF_PROGRES_RATE = .*;  \\/\\/ OPTIMIZE \\[0\\.02, 0\\.98\\]$/constexpr double TARGET_BEAM_WIDTH_HALF_PROGRES_RATE = 0.4698448606305289;  \\/\\/ OPTIMIZE [0.02, 0.98]/'\n",
      "g++ 7_main.cpp -std=gnu++17 -O2 -DONLINE_JUDGE -o 7_main.cpp.out 2> /dev/null\n"
     ]
    },
    {
     "name": "stderr",
     "output_type": "stream",
     "text": [
      "\u001b[32m[I 2021-09-10 19:55:28,838]\u001b[0m Trial 136 finished with value: 931370670.0 and parameters: {'K_START': 0.11316618741428006, 'K_END': 0.056258639013170186, 'K_H': 0.6327336202562436, 'PURCHASE_TURN_LIMIT': 835, 'SUBSCORE3_TIGHT_TURN': 0, 'ROUGH_HASH': '0b00010011', 'TARGET_BEAM_WIDTH_INCREASE_RATE': 0.6631878277239263, 'TARGET_BEAM_WIDTH_HALF_PROGRES_RATE': 0.5868660720546068}. Best is trial 97 with value: 936947048.0.\u001b[0m\n"
     ]
    },
    {
     "name": "stdout",
     "output_type": "stream",
     "text": [
      "callback ok\n",
      "index_parallel=8\n",
      "sed -i 8_main.cpp -e 's/^constexpr double K_START = .*;  \\/\\/ OPTIMIZE \\[0\\.04, 0\\.12\\] LOG$/constexpr double K_START = 0.11068711306617375;  \\/\\/ OPTIMIZE [0.04, 0.12] LOG/' -e 's/^constexpr double K_END = .*;   \\/\\/ OPTIMIZE \\[0\\.03, 0\\.1\\] LOG$/constexpr double K_END = 0.054358471433307555;   \\/\\/ OPTIMIZE [0.03, 0.1] LOG/' -e 's/^constexpr double K_H = .*;      \\/\\/ OPTIMIZE \\[0\\.001, 0\\.999\\]$/constexpr double K_H = 0.837542397896033;      \\/\\/ OPTIMIZE [0.001, 0.999]/' -e 's/^constexpr short PURCHASE_TURN_LIMIT = .*;  \\/\\/ OPTIMIZE \\[790, 870\\]$/constexpr short PURCHASE_TURN_LIMIT = 832;  \\/\\/ OPTIMIZE [790, 870]/' -e 's/^constexpr int SUBSCORE3_TIGHT_TURN = .*;     \\/\\/ OPTIMIZE \\[0, 1\\]$/constexpr int SUBSCORE3_TIGHT_TURN = 0;     \\/\\/ OPTIMIZE [0, 1]/' -e 's/^constexpr int ROUGH_HASH = .*;      \\/\\/ OPTIMIZE {0, 0b00000001, 0b00010001, 0b00010011, 0b00110011}$/constexpr int ROUGH_HASH = 0b00010011;      \\/\\/ OPTIMIZE {0, 0b00000001, 0b00010001, 0b00010011, 0b00110011}/' -e 's/^constexpr double TARGET_BEAM_WIDTH_INCREASE_RATE = .*;      \\/\\/ OPTIMIZE \\[0\\.5, 1\\.0\\] LOG$/constexpr double TARGET_BEAM_WIDTH_INCREASE_RATE = 0.5044999094427652;      \\/\\/ OPTIMIZE [0.5, 1.0] LOG/' -e 's/^constexpr double TARGET_BEAM_WIDTH_HALF_PROGRES_RATE = .*;  \\/\\/ OPTIMIZE \\[0\\.02, 0\\.98\\]$/constexpr double TARGET_BEAM_WIDTH_HALF_PROGRES_RATE = 0.6771721793300469;  \\/\\/ OPTIMIZE [0.02, 0.98]/'\n",
      "g++ 8_main.cpp -std=gnu++17 -O2 -DONLINE_JUDGE -o 8_main.cpp.out 2> /dev/null\n"
     ]
    },
    {
     "name": "stderr",
     "output_type": "stream",
     "text": [
      "\u001b[32m[I 2021-09-10 19:55:49,429]\u001b[0m Trial 137 finished with value: 935246494.0 and parameters: {'K_START': 0.11332900723058346, 'K_END': 0.055903921557147566, 'K_H': 0.6323631346093714, 'PURCHASE_TURN_LIMIT': 836, 'SUBSCORE3_TIGHT_TURN': 0, 'ROUGH_HASH': '0b00010011', 'TARGET_BEAM_WIDTH_INCREASE_RATE': 0.6680984210999528, 'TARGET_BEAM_WIDTH_HALF_PROGRES_RATE': 0.6000640446535205}. Best is trial 97 with value: 936947048.0.\u001b[0m\n"
     ]
    },
    {
     "name": "stdout",
     "output_type": "stream",
     "text": [
      "callback ok\n",
      "index_parallel=9\n",
      "sed -i 9_main.cpp -e 's/^constexpr double K_START = .*;  \\/\\/ OPTIMIZE \\[0\\.04, 0\\.12\\] LOG$/constexpr double K_START = 0.11120388862000831;  \\/\\/ OPTIMIZE [0.04, 0.12] LOG/' -e 's/^constexpr double K_END = .*;   \\/\\/ OPTIMIZE \\[0\\.03, 0\\.1\\] LOG$/constexpr double K_END = 0.0541603713322653;   \\/\\/ OPTIMIZE [0.03, 0.1] LOG/' -e 's/^constexpr double K_H = .*;      \\/\\/ OPTIMIZE \\[0\\.001, 0\\.999\\]$/constexpr double K_H = 0.6266051492037881;      \\/\\/ OPTIMIZE [0.001, 0.999]/' -e 's/^constexpr short PURCHASE_TURN_LIMIT = .*;  \\/\\/ OPTIMIZE \\[790, 870\\]$/constexpr short PURCHASE_TURN_LIMIT = 843;  \\/\\/ OPTIMIZE [790, 870]/' -e 's/^constexpr int SUBSCORE3_TIGHT_TURN = .*;     \\/\\/ OPTIMIZE \\[0, 1\\]$/constexpr int SUBSCORE3_TIGHT_TURN = 0;     \\/\\/ OPTIMIZE [0, 1]/' -e 's/^constexpr int ROUGH_HASH = .*;      \\/\\/ OPTIMIZE {0, 0b00000001, 0b00010001, 0b00010011, 0b00110011}$/constexpr int ROUGH_HASH = 0b00010001;      \\/\\/ OPTIMIZE {0, 0b00000001, 0b00010001, 0b00010011, 0b00110011}/' -e 's/^constexpr double TARGET_BEAM_WIDTH_INCREASE_RATE = .*;      \\/\\/ OPTIMIZE \\[0\\.5, 1\\.0\\] LOG$/constexpr double TARGET_BEAM_WIDTH_INCREASE_RATE = 0.7138068005026054;      \\/\\/ OPTIMIZE [0.5, 1.0] LOG/' -e 's/^constexpr double TARGET_BEAM_WIDTH_HALF_PROGRES_RATE = .*;  \\/\\/ OPTIMIZE \\[0\\.02, 0\\.98\\]$/constexpr double TARGET_BEAM_WIDTH_HALF_PROGRES_RATE = 0.6661143348979347;  \\/\\/ OPTIMIZE [0.02, 0.98]/'\n",
      "g++ 9_main.cpp -std=gnu++17 -O2 -DONLINE_JUDGE -o 9_main.cpp.out 2> /dev/null\n"
     ]
    },
    {
     "name": "stderr",
     "output_type": "stream",
     "text": [
      "\u001b[32m[I 2021-09-10 19:55:59,882]\u001b[0m Trial 138 finished with value: 929170306.0 and parameters: {'K_START': 0.11390302115695417, 'K_END': 0.05601085052584058, 'K_H': 0.7458711386666241, 'PURCHASE_TURN_LIMIT': 834, 'SUBSCORE3_TIGHT_TURN': 0, 'ROUGH_HASH': '0b00010011', 'TARGET_BEAM_WIDTH_INCREASE_RATE': 0.6226807837419932, 'TARGET_BEAM_WIDTH_HALF_PROGRES_RATE': 0.5973252169682401}. Best is trial 97 with value: 936947048.0.\u001b[0m\n"
     ]
    },
    {
     "name": "stdout",
     "output_type": "stream",
     "text": [
      "callback ok\n",
      "index_parallel=10\n",
      "sed -i 10_main.cpp -e 's/^constexpr double K_START = .*;  \\/\\/ OPTIMIZE \\[0\\.04, 0\\.12\\] LOG$/constexpr double K_START = 0.1105837258251293;  \\/\\/ OPTIMIZE [0.04, 0.12] LOG/' -e 's/^constexpr double K_END = .*;   \\/\\/ OPTIMIZE \\[0\\.03, 0\\.1\\] LOG$/constexpr double K_END = 0.06060444180439478;   \\/\\/ OPTIMIZE [0.03, 0.1] LOG/' -e 's/^constexpr double K_H = .*;      \\/\\/ OPTIMIZE \\[0\\.001, 0\\.999\\]$/constexpr double K_H = 0.8324943176772278;      \\/\\/ OPTIMIZE [0.001, 0.999]/' -e 's/^constexpr short PURCHASE_TURN_LIMIT = .*;  \\/\\/ OPTIMIZE \\[790, 870\\]$/constexpr short PURCHASE_TURN_LIMIT = 843;  \\/\\/ OPTIMIZE [790, 870]/' -e 's/^constexpr int SUBSCORE3_TIGHT_TURN = .*;     \\/\\/ OPTIMIZE \\[0, 1\\]$/constexpr int SUBSCORE3_TIGHT_TURN = 0;     \\/\\/ OPTIMIZE [0, 1]/' -e 's/^constexpr int ROUGH_HASH = .*;      \\/\\/ OPTIMIZE {0, 0b00000001, 0b00010001, 0b00010011, 0b00110011}$/constexpr int ROUGH_HASH = 0b00010001;      \\/\\/ OPTIMIZE {0, 0b00000001, 0b00010001, 0b00010011, 0b00110011}/' -e 's/^constexpr double TARGET_BEAM_WIDTH_INCREASE_RATE = .*;      \\/\\/ OPTIMIZE \\[0\\.5, 1\\.0\\] LOG$/constexpr double TARGET_BEAM_WIDTH_INCREASE_RATE = 0.5825389733364509;      \\/\\/ OPTIMIZE [0.5, 1.0] LOG/' -e 's/^constexpr double TARGET_BEAM_WIDTH_HALF_PROGRES_RATE = .*;  \\/\\/ OPTIMIZE \\[0\\.02, 0\\.98\\]$/constexpr double TARGET_BEAM_WIDTH_HALF_PROGRES_RATE = 0.4861304895052866;  \\/\\/ OPTIMIZE [0.02, 0.98]/'\n",
      "g++ 10_main.cpp -std=gnu++17 -O2 -DONLINE_JUDGE -o 10_main.cpp.out 2> /dev/null\n"
     ]
    },
    {
     "name": "stderr",
     "output_type": "stream",
     "text": [
      "\u001b[32m[I 2021-09-10 19:56:05,160]\u001b[0m Trial 139 finished with value: 933272373.0 and parameters: {'K_START': 0.11397781535512337, 'K_END': 0.05420344677458313, 'K_H': 0.6217952769459715, 'PURCHASE_TURN_LIMIT': 832, 'SUBSCORE3_TIGHT_TURN': 0, 'ROUGH_HASH': '0b00010011', 'TARGET_BEAM_WIDTH_INCREASE_RATE': 0.9721603546603542, 'TARGET_BEAM_WIDTH_HALF_PROGRES_RATE': 0.4698448606305289}. Best is trial 97 with value: 936947048.0.\u001b[0m\n"
     ]
    },
    {
     "name": "stdout",
     "output_type": "stream",
     "text": [
      "callback ok\n",
      "index_parallel=11\n",
      "sed -i 11_main.cpp -e 's/^constexpr double K_START = .*;  \\/\\/ OPTIMIZE \\[0\\.04, 0\\.12\\] LOG$/constexpr double K_START = 0.10931212657978638;  \\/\\/ OPTIMIZE [0.04, 0.12] LOG/' -e 's/^constexpr double K_END = .*;   \\/\\/ OPTIMIZE \\[0\\.03, 0\\.1\\] LOG$/constexpr double K_END = 0.05453376993411145;   \\/\\/ OPTIMIZE [0.03, 0.1] LOG/' -e 's/^constexpr double K_H = .*;      \\/\\/ OPTIMIZE \\[0\\.001, 0\\.999\\]$/constexpr double K_H = 0.6127147548641197;      \\/\\/ OPTIMIZE [0.001, 0.999]/' -e 's/^constexpr short PURCHASE_TURN_LIMIT = .*;  \\/\\/ OPTIMIZE \\[790, 870\\]$/constexpr short PURCHASE_TURN_LIMIT = 832;  \\/\\/ OPTIMIZE [790, 870]/' -e 's/^constexpr int SUBSCORE3_TIGHT_TURN = .*;     \\/\\/ OPTIMIZE \\[0, 1\\]$/constexpr int SUBSCORE3_TIGHT_TURN = 0;     \\/\\/ OPTIMIZE [0, 1]/' -e 's/^constexpr int ROUGH_HASH = .*;      \\/\\/ OPTIMIZE {0, 0b00000001, 0b00010001, 0b00010011, 0b00110011}$/constexpr int ROUGH_HASH = 0b00010001;      \\/\\/ OPTIMIZE {0, 0b00000001, 0b00010001, 0b00010011, 0b00110011}/' -e 's/^constexpr double TARGET_BEAM_WIDTH_INCREASE_RATE = .*;      \\/\\/ OPTIMIZE \\[0\\.5, 1\\.0\\] LOG$/constexpr double TARGET_BEAM_WIDTH_INCREASE_RATE = 0.8719958252991629;      \\/\\/ OPTIMIZE [0.5, 1.0] LOG/' -e 's/^constexpr double TARGET_BEAM_WIDTH_HALF_PROGRES_RATE = .*;  \\/\\/ OPTIMIZE \\[0\\.02, 0\\.98\\]$/constexpr double TARGET_BEAM_WIDTH_HALF_PROGRES_RATE = 0.33283587364438927;  \\/\\/ OPTIMIZE [0.02, 0.98]/'\n",
      "g++ 11_main.cpp -std=gnu++17 -O2 -DONLINE_JUDGE -o 11_main.cpp.out 2> /dev/null\n"
     ]
    },
    {
     "name": "stderr",
     "output_type": "stream",
     "text": [
      "\u001b[32m[I 2021-09-10 19:57:55,148]\u001b[0m Trial 140 finished with value: 929045909.0 and parameters: {'K_START': 0.11068711306617375, 'K_END': 0.054358471433307555, 'K_H': 0.837542397896033, 'PURCHASE_TURN_LIMIT': 832, 'SUBSCORE3_TIGHT_TURN': 0, 'ROUGH_HASH': '0b00010011', 'TARGET_BEAM_WIDTH_INCREASE_RATE': 0.5044999094427652, 'TARGET_BEAM_WIDTH_HALF_PROGRES_RATE': 0.6771721793300469}. Best is trial 97 with value: 936947048.0.\u001b[0m\n"
     ]
    },
    {
     "name": "stdout",
     "output_type": "stream",
     "text": [
      "callback ok\n",
      "index_parallel=0\n",
      "sed -i 0_main.cpp -e 's/^constexpr double K_START = .*;  \\/\\/ OPTIMIZE \\[0\\.04, 0\\.12\\] LOG$/constexpr double K_START = 0.10755464565352929;  \\/\\/ OPTIMIZE [0.04, 0.12] LOG/' -e 's/^constexpr double K_END = .*;   \\/\\/ OPTIMIZE \\[0\\.03, 0\\.1\\] LOG$/constexpr double K_END = 0.060296207201359836;   \\/\\/ OPTIMIZE [0.03, 0.1] LOG/' -e 's/^constexpr double K_H = .*;      \\/\\/ OPTIMIZE \\[0\\.001, 0\\.999\\]$/constexpr double K_H = 0.6259342046499384;      \\/\\/ OPTIMIZE [0.001, 0.999]/' -e 's/^constexpr short PURCHASE_TURN_LIMIT = .*;  \\/\\/ OPTIMIZE \\[790, 870\\]$/constexpr short PURCHASE_TURN_LIMIT = 831;  \\/\\/ OPTIMIZE [790, 870]/' -e 's/^constexpr int SUBSCORE3_TIGHT_TURN = .*;     \\/\\/ OPTIMIZE \\[0, 1\\]$/constexpr int SUBSCORE3_TIGHT_TURN = 0;     \\/\\/ OPTIMIZE [0, 1]/' -e 's/^constexpr int ROUGH_HASH = .*;      \\/\\/ OPTIMIZE {0, 0b00000001, 0b00010001, 0b00010011, 0b00110011}$/constexpr int ROUGH_HASH = 0b00010011;      \\/\\/ OPTIMIZE {0, 0b00000001, 0b00010001, 0b00010011, 0b00110011}/' -e 's/^constexpr double TARGET_BEAM_WIDTH_INCREASE_RATE = .*;      \\/\\/ OPTIMIZE \\[0\\.5, 1\\.0\\] LOG$/constexpr double TARGET_BEAM_WIDTH_INCREASE_RATE = 0.9373935889967022;      \\/\\/ OPTIMIZE [0.5, 1.0] LOG/' -e 's/^constexpr double TARGET_BEAM_WIDTH_HALF_PROGRES_RATE = .*;  \\/\\/ OPTIMIZE \\[0\\.02, 0\\.98\\]$/constexpr double TARGET_BEAM_WIDTH_HALF_PROGRES_RATE = 0.4299394590833288;  \\/\\/ OPTIMIZE [0.02, 0.98]/'\n",
      "g++ 0_main.cpp -std=gnu++17 -O2 -DONLINE_JUDGE -o 0_main.cpp.out 2> /dev/null\n"
     ]
    },
    {
     "name": "stderr",
     "output_type": "stream",
     "text": [
      "\u001b[32m[I 2021-09-10 19:58:19,705]\u001b[0m Trial 141 finished with value: 939285564.0 and parameters: {'K_START': 0.11120388862000831, 'K_END': 0.0541603713322653, 'K_H': 0.6266051492037881, 'PURCHASE_TURN_LIMIT': 843, 'SUBSCORE3_TIGHT_TURN': 0, 'ROUGH_HASH': '0b00010001', 'TARGET_BEAM_WIDTH_INCREASE_RATE': 0.7138068005026054, 'TARGET_BEAM_WIDTH_HALF_PROGRES_RATE': 0.6661143348979347}. Best is trial 141 with value: 939285564.0.\u001b[0m\n"
     ]
    },
    {
     "name": "stdout",
     "output_type": "stream",
     "text": [
      "Updated! 939285564.0\n",
      "callback ok\n",
      "index_parallel=1\n",
      "sed -i 1_main.cpp -e 's/^constexpr double K_START = .*;  \\/\\/ OPTIMIZE \\[0\\.04, 0\\.12\\] LOG$/constexpr double K_START = 0.10836149050514345;  \\/\\/ OPTIMIZE [0.04, 0.12] LOG/' -e 's/^constexpr double K_END = .*;   \\/\\/ OPTIMIZE \\[0\\.03, 0\\.1\\] LOG$/constexpr double K_END = 0.05040067084802565;   \\/\\/ OPTIMIZE [0.03, 0.1] LOG/' -e 's/^constexpr double K_H = .*;      \\/\\/ OPTIMIZE \\[0\\.001, 0\\.999\\]$/constexpr double K_H = 0.6166455640619871;      \\/\\/ OPTIMIZE [0.001, 0.999]/' -e 's/^constexpr short PURCHASE_TURN_LIMIT = .*;  \\/\\/ OPTIMIZE \\[790, 870\\]$/constexpr short PURCHASE_TURN_LIMIT = 830;  \\/\\/ OPTIMIZE [790, 870]/' -e 's/^constexpr int SUBSCORE3_TIGHT_TURN = .*;     \\/\\/ OPTIMIZE \\[0, 1\\]$/constexpr int SUBSCORE3_TIGHT_TURN = 0;     \\/\\/ OPTIMIZE [0, 1]/' -e 's/^constexpr int ROUGH_HASH = .*;      \\/\\/ OPTIMIZE {0, 0b00000001, 0b00010001, 0b00010011, 0b00110011}$/constexpr int ROUGH_HASH = 0b00010001;      \\/\\/ OPTIMIZE {0, 0b00000001, 0b00010001, 0b00010011, 0b00110011}/' -e 's/^constexpr double TARGET_BEAM_WIDTH_INCREASE_RATE = .*;      \\/\\/ OPTIMIZE \\[0\\.5, 1\\.0\\] LOG$/constexpr double TARGET_BEAM_WIDTH_INCREASE_RATE = 0.5879343647490073;      \\/\\/ OPTIMIZE [0.5, 1.0] LOG/' -e 's/^constexpr double TARGET_BEAM_WIDTH_HALF_PROGRES_RATE = .*;  \\/\\/ OPTIMIZE \\[0\\.02, 0\\.98\\]$/constexpr double TARGET_BEAM_WIDTH_HALF_PROGRES_RATE = 0.4937763627732547;  \\/\\/ OPTIMIZE [0.02, 0.98]/'\n",
      "g++ 1_main.cpp -std=gnu++17 -O2 -DONLINE_JUDGE -o 1_main.cpp.out 2> /dev/null\n"
     ]
    },
    {
     "name": "stderr",
     "output_type": "stream",
     "text": [
      "\u001b[32m[I 2021-09-10 19:58:31,005]\u001b[0m Trial 142 finished with value: 927821677.0 and parameters: {'K_START': 0.1105837258251293, 'K_END': 0.06060444180439478, 'K_H': 0.8324943176772278, 'PURCHASE_TURN_LIMIT': 843, 'SUBSCORE3_TIGHT_TURN': 0, 'ROUGH_HASH': '0b00010001', 'TARGET_BEAM_WIDTH_INCREASE_RATE': 0.5825389733364509, 'TARGET_BEAM_WIDTH_HALF_PROGRES_RATE': 0.4861304895052866}. Best is trial 141 with value: 939285564.0.\u001b[0m\n"
     ]
    },
    {
     "name": "stdout",
     "output_type": "stream",
     "text": [
      "callback ok\n",
      "index_parallel=2\n",
      "sed -i 2_main.cpp -e 's/^constexpr double K_START = .*;  \\/\\/ OPTIMIZE \\[0\\.04, 0\\.12\\] LOG$/constexpr double K_START = 0.10743334311104666;  \\/\\/ OPTIMIZE [0.04, 0.12] LOG/' -e 's/^constexpr double K_END = .*;   \\/\\/ OPTIMIZE \\[0\\.03, 0\\.1\\] LOG$/constexpr double K_END = 0.050773342728567275;   \\/\\/ OPTIMIZE [0.03, 0.1] LOG/' -e 's/^constexpr double K_H = .*;      \\/\\/ OPTIMIZE \\[0\\.001, 0\\.999\\]$/constexpr double K_H = 0.6225776997371664;      \\/\\/ OPTIMIZE [0.001, 0.999]/' -e 's/^constexpr short PURCHASE_TURN_LIMIT = .*;  \\/\\/ OPTIMIZE \\[790, 870\\]$/constexpr short PURCHASE_TURN_LIMIT = 831;  \\/\\/ OPTIMIZE [790, 870]/' -e 's/^constexpr int SUBSCORE3_TIGHT_TURN = .*;     \\/\\/ OPTIMIZE \\[0, 1\\]$/constexpr int SUBSCORE3_TIGHT_TURN = 0;     \\/\\/ OPTIMIZE [0, 1]/' -e 's/^constexpr int ROUGH_HASH = .*;      \\/\\/ OPTIMIZE {0, 0b00000001, 0b00010001, 0b00010011, 0b00110011}$/constexpr int ROUGH_HASH = 0b00010001;      \\/\\/ OPTIMIZE {0, 0b00000001, 0b00010001, 0b00010011, 0b00110011}/' -e 's/^constexpr double TARGET_BEAM_WIDTH_INCREASE_RATE = .*;      \\/\\/ OPTIMIZE \\[0\\.5, 1\\.0\\] LOG$/constexpr double TARGET_BEAM_WIDTH_INCREASE_RATE = 0.7250925300696648;      \\/\\/ OPTIMIZE [0.5, 1.0] LOG/' -e 's/^constexpr double TARGET_BEAM_WIDTH_HALF_PROGRES_RATE = .*;  \\/\\/ OPTIMIZE \\[0\\.02, 0\\.98\\]$/constexpr double TARGET_BEAM_WIDTH_HALF_PROGRES_RATE = 0.46186894384389393;  \\/\\/ OPTIMIZE [0.02, 0.98]/'\n",
      "g++ 2_main.cpp -std=gnu++17 -O2 -DONLINE_JUDGE -o 2_main.cpp.out 2> /dev/null\n"
     ]
    },
    {
     "name": "stderr",
     "output_type": "stream",
     "text": [
      "\u001b[32m[I 2021-09-10 19:58:34,705]\u001b[0m Trial 143 finished with value: 934136807.0 and parameters: {'K_START': 0.10931212657978638, 'K_END': 0.05453376993411145, 'K_H': 0.6127147548641197, 'PURCHASE_TURN_LIMIT': 832, 'SUBSCORE3_TIGHT_TURN': 0, 'ROUGH_HASH': '0b00010001', 'TARGET_BEAM_WIDTH_INCREASE_RATE': 0.8719958252991629, 'TARGET_BEAM_WIDTH_HALF_PROGRES_RATE': 0.33283587364438927}. Best is trial 141 with value: 939285564.0.\u001b[0m\n"
     ]
    },
    {
     "name": "stdout",
     "output_type": "stream",
     "text": [
      "callback ok\n",
      "index_parallel=3\n",
      "sed -i 3_main.cpp -e 's/^constexpr double K_START = .*;  \\/\\/ OPTIMIZE \\[0\\.04, 0\\.12\\] LOG$/constexpr double K_START = 0.10686701195265046;  \\/\\/ OPTIMIZE [0.04, 0.12] LOG/' -e 's/^constexpr double K_END = .*;   \\/\\/ OPTIMIZE \\[0\\.03, 0\\.1\\] LOG$/constexpr double K_END = 0.050169646691184316;   \\/\\/ OPTIMIZE [0.03, 0.1] LOG/' -e 's/^constexpr double K_H = .*;      \\/\\/ OPTIMIZE \\[0\\.001, 0\\.999\\]$/constexpr double K_H = 0.6235148950134719;      \\/\\/ OPTIMIZE [0.001, 0.999]/' -e 's/^constexpr short PURCHASE_TURN_LIMIT = .*;  \\/\\/ OPTIMIZE \\[790, 870\\]$/constexpr short PURCHASE_TURN_LIMIT = 831;  \\/\\/ OPTIMIZE [790, 870]/' -e 's/^constexpr int SUBSCORE3_TIGHT_TURN = .*;     \\/\\/ OPTIMIZE \\[0, 1\\]$/constexpr int SUBSCORE3_TIGHT_TURN = 0;     \\/\\/ OPTIMIZE [0, 1]/' -e 's/^constexpr int ROUGH_HASH = .*;      \\/\\/ OPTIMIZE {0, 0b00000001, 0b00010001, 0b00010011, 0b00110011}$/constexpr int ROUGH_HASH = 0b00010001;      \\/\\/ OPTIMIZE {0, 0b00000001, 0b00010001, 0b00010011, 0b00110011}/' -e 's/^constexpr double TARGET_BEAM_WIDTH_INCREASE_RATE = .*;      \\/\\/ OPTIMIZE \\[0\\.5, 1\\.0\\] LOG$/constexpr double TARGET_BEAM_WIDTH_INCREASE_RATE = 0.686465049437356;      \\/\\/ OPTIMIZE [0.5, 1.0] LOG/' -e 's/^constexpr double TARGET_BEAM_WIDTH_HALF_PROGRES_RATE = .*;  \\/\\/ OPTIMIZE \\[0\\.02, 0\\.98\\]$/constexpr double TARGET_BEAM_WIDTH_HALF_PROGRES_RATE = 0.3309508621261795;  \\/\\/ OPTIMIZE [0.02, 0.98]/'\n",
      "g++ 3_main.cpp -std=gnu++17 -O2 -DONLINE_JUDGE -o 3_main.cpp.out 2> /dev/null\n"
     ]
    },
    {
     "name": "stderr",
     "output_type": "stream",
     "text": [
      "\u001b[32m[I 2021-09-10 20:00:23,282]\u001b[0m Trial 144 finished with value: 923524019.0 and parameters: {'K_START': 0.10755464565352929, 'K_END': 0.060296207201359836, 'K_H': 0.6259342046499384, 'PURCHASE_TURN_LIMIT': 831, 'SUBSCORE3_TIGHT_TURN': 0, 'ROUGH_HASH': '0b00010011', 'TARGET_BEAM_WIDTH_INCREASE_RATE': 0.9373935889967022, 'TARGET_BEAM_WIDTH_HALF_PROGRES_RATE': 0.4299394590833288}. Best is trial 141 with value: 939285564.0.\u001b[0m\n"
     ]
    },
    {
     "name": "stdout",
     "output_type": "stream",
     "text": [
      "callback ok\n",
      "index_parallel=4\n",
      "sed -i 4_main.cpp -e 's/^constexpr double K_START = .*;  \\/\\/ OPTIMIZE \\[0\\.04, 0\\.12\\] LOG$/constexpr double K_START = 0.10655075166809017;  \\/\\/ OPTIMIZE [0.04, 0.12] LOG/' -e 's/^constexpr double K_END = .*;   \\/\\/ OPTIMIZE \\[0\\.03, 0\\.1\\] LOG$/constexpr double K_END = 0.050477830168623526;   \\/\\/ OPTIMIZE [0.03, 0.1] LOG/' -e 's/^constexpr double K_H = .*;      \\/\\/ OPTIMIZE \\[0\\.001, 0\\.999\\]$/constexpr double K_H = 0.6122469070024132;      \\/\\/ OPTIMIZE [0.001, 0.999]/' -e 's/^constexpr short PURCHASE_TURN_LIMIT = .*;  \\/\\/ OPTIMIZE \\[790, 870\\]$/constexpr short PURCHASE_TURN_LIMIT = 843;  \\/\\/ OPTIMIZE [790, 870]/' -e 's/^constexpr int SUBSCORE3_TIGHT_TURN = .*;     \\/\\/ OPTIMIZE \\[0, 1\\]$/constexpr int SUBSCORE3_TIGHT_TURN = 0;     \\/\\/ OPTIMIZE [0, 1]/' -e 's/^constexpr int ROUGH_HASH = .*;      \\/\\/ OPTIMIZE {0, 0b00000001, 0b00010001, 0b00010011, 0b00110011}$/constexpr int ROUGH_HASH = 0b00010001;      \\/\\/ OPTIMIZE {0, 0b00000001, 0b00010001, 0b00010011, 0b00110011}/' -e 's/^constexpr double TARGET_BEAM_WIDTH_INCREASE_RATE = .*;      \\/\\/ OPTIMIZE \\[0\\.5, 1\\.0\\] LOG$/constexpr double TARGET_BEAM_WIDTH_INCREASE_RATE = 0.8218582944277905;      \\/\\/ OPTIMIZE [0.5, 1.0] LOG/' -e 's/^constexpr double TARGET_BEAM_WIDTH_HALF_PROGRES_RATE = .*;  \\/\\/ OPTIMIZE \\[0\\.02, 0\\.98\\]$/constexpr double TARGET_BEAM_WIDTH_HALF_PROGRES_RATE = 0.3351975779947175;  \\/\\/ OPTIMIZE [0.02, 0.98]/'\n",
      "g++ 4_main.cpp -std=gnu++17 -O2 -DONLINE_JUDGE -o 4_main.cpp.out 2> /dev/null\n"
     ]
    },
    {
     "name": "stderr",
     "output_type": "stream",
     "text": [
      "\u001b[32m[I 2021-09-10 20:00:50,886]\u001b[0m Trial 145 finished with value: 930622197.0 and parameters: {'K_START': 0.10836149050514345, 'K_END': 0.05040067084802565, 'K_H': 0.6166455640619871, 'PURCHASE_TURN_LIMIT': 830, 'SUBSCORE3_TIGHT_TURN': 0, 'ROUGH_HASH': '0b00010001', 'TARGET_BEAM_WIDTH_INCREASE_RATE': 0.5879343647490073, 'TARGET_BEAM_WIDTH_HALF_PROGRES_RATE': 0.4937763627732547}. Best is trial 141 with value: 939285564.0.\u001b[0m\n"
     ]
    },
    {
     "name": "stdout",
     "output_type": "stream",
     "text": [
      "callback ok\n",
      "index_parallel=5\n",
      "sed -i 5_main.cpp -e 's/^constexpr double K_START = .*;  \\/\\/ OPTIMIZE \\[0\\.04, 0\\.12\\] LOG$/constexpr double K_START = 0.10555994001247487;  \\/\\/ OPTIMIZE [0.04, 0.12] LOG/' -e 's/^constexpr double K_END = .*;   \\/\\/ OPTIMIZE \\[0\\.03, 0\\.1\\] LOG$/constexpr double K_END = 0.05158109980135089;   \\/\\/ OPTIMIZE [0.03, 0.1] LOG/' -e 's/^constexpr double K_H = .*;      \\/\\/ OPTIMIZE \\[0\\.001, 0\\.999\\]$/constexpr double K_H = 0.5455970765023039;      \\/\\/ OPTIMIZE [0.001, 0.999]/' -e 's/^constexpr short PURCHASE_TURN_LIMIT = .*;  \\/\\/ OPTIMIZE \\[790, 870\\]$/constexpr short PURCHASE_TURN_LIMIT = 841;  \\/\\/ OPTIMIZE [790, 870]/' -e 's/^constexpr int SUBSCORE3_TIGHT_TURN = .*;     \\/\\/ OPTIMIZE \\[0, 1\\]$/constexpr int SUBSCORE3_TIGHT_TURN = 0;     \\/\\/ OPTIMIZE [0, 1]/' -e 's/^constexpr int ROUGH_HASH = .*;      \\/\\/ OPTIMIZE {0, 0b00000001, 0b00010001, 0b00010011, 0b00110011}$/constexpr int ROUGH_HASH = 0b00010001;      \\/\\/ OPTIMIZE {0, 0b00000001, 0b00010001, 0b00010011, 0b00110011}/' -e 's/^constexpr double TARGET_BEAM_WIDTH_INCREASE_RATE = .*;      \\/\\/ OPTIMIZE \\[0\\.5, 1\\.0\\] LOG$/constexpr double TARGET_BEAM_WIDTH_INCREASE_RATE = 0.6479463111946171;      \\/\\/ OPTIMIZE [0.5, 1.0] LOG/' -e 's/^constexpr double TARGET_BEAM_WIDTH_HALF_PROGRES_RATE = .*;  \\/\\/ OPTIMIZE \\[0\\.02, 0\\.98\\]$/constexpr double TARGET_BEAM_WIDTH_HALF_PROGRES_RATE = 0.4200920485882308;  \\/\\/ OPTIMIZE [0.02, 0.98]/'\n",
      "g++ 5_main.cpp -std=gnu++17 -O2 -DONLINE_JUDGE -o 5_main.cpp.out 2> /dev/null\n"
     ]
    },
    {
     "name": "stderr",
     "output_type": "stream",
     "text": [
      "\u001b[32m[I 2021-09-10 20:01:02,126]\u001b[0m Trial 146 finished with value: 927371929.0 and parameters: {'K_START': 0.10743334311104666, 'K_END': 0.050773342728567275, 'K_H': 0.6225776997371664, 'PURCHASE_TURN_LIMIT': 831, 'SUBSCORE3_TIGHT_TURN': 0, 'ROUGH_HASH': '0b00010001', 'TARGET_BEAM_WIDTH_INCREASE_RATE': 0.7250925300696648, 'TARGET_BEAM_WIDTH_HALF_PROGRES_RATE': 0.46186894384389393}. Best is trial 141 with value: 939285564.0.\u001b[0m\n"
     ]
    },
    {
     "name": "stdout",
     "output_type": "stream",
     "text": [
      "callback ok\n",
      "index_parallel=6\n",
      "sed -i 6_main.cpp -e 's/^constexpr double K_START = .*;  \\/\\/ OPTIMIZE \\[0\\.04, 0\\.12\\] LOG$/constexpr double K_START = 0.11244934405394949;  \\/\\/ OPTIMIZE [0.04, 0.12] LOG/' -e 's/^constexpr double K_END = .*;   \\/\\/ OPTIMIZE \\[0\\.03, 0\\.1\\] LOG$/constexpr double K_END = 0.05484917101925988;   \\/\\/ OPTIMIZE [0.03, 0.1] LOG/' -e 's/^constexpr double K_H = .*;      \\/\\/ OPTIMIZE \\[0\\.001, 0\\.999\\]$/constexpr double K_H = 0.5695863685634603;      \\/\\/ OPTIMIZE [0.001, 0.999]/' -e 's/^constexpr short PURCHASE_TURN_LIMIT = .*;  \\/\\/ OPTIMIZE \\[790, 870\\]$/constexpr short PURCHASE_TURN_LIMIT = 843;  \\/\\/ OPTIMIZE [790, 870]/' -e 's/^constexpr int SUBSCORE3_TIGHT_TURN = .*;     \\/\\/ OPTIMIZE \\[0, 1\\]$/constexpr int SUBSCORE3_TIGHT_TURN = 0;     \\/\\/ OPTIMIZE [0, 1]/' -e 's/^constexpr int ROUGH_HASH = .*;      \\/\\/ OPTIMIZE {0, 0b00000001, 0b00010001, 0b00010011, 0b00110011}$/constexpr int ROUGH_HASH = 0b00010001;      \\/\\/ OPTIMIZE {0, 0b00000001, 0b00010001, 0b00010011, 0b00110011}/' -e 's/^constexpr double TARGET_BEAM_WIDTH_INCREASE_RATE = .*;      \\/\\/ OPTIMIZE \\[0\\.5, 1\\.0\\] LOG$/constexpr double TARGET_BEAM_WIDTH_INCREASE_RATE = 0.8233723325464233;      \\/\\/ OPTIMIZE [0.5, 1.0] LOG/' -e 's/^constexpr double TARGET_BEAM_WIDTH_HALF_PROGRES_RATE = .*;  \\/\\/ OPTIMIZE \\[0\\.02, 0\\.98\\]$/constexpr double TARGET_BEAM_WIDTH_HALF_PROGRES_RATE = 0.2752142800496969;  \\/\\/ OPTIMIZE [0.02, 0.98]/'\n",
      "g++ 6_main.cpp -std=gnu++17 -O2 -DONLINE_JUDGE -o 6_main.cpp.out 2> /dev/null\n"
     ]
    },
    {
     "name": "stderr",
     "output_type": "stream",
     "text": [
      "\u001b[32m[I 2021-09-10 20:01:05,728]\u001b[0m Trial 147 finished with value: 925450963.0 and parameters: {'K_START': 0.10686701195265046, 'K_END': 0.050169646691184316, 'K_H': 0.6235148950134719, 'PURCHASE_TURN_LIMIT': 831, 'SUBSCORE3_TIGHT_TURN': 0, 'ROUGH_HASH': '0b00010001', 'TARGET_BEAM_WIDTH_INCREASE_RATE': 0.686465049437356, 'TARGET_BEAM_WIDTH_HALF_PROGRES_RATE': 0.3309508621261795}. Best is trial 141 with value: 939285564.0.\u001b[0m\n"
     ]
    },
    {
     "name": "stdout",
     "output_type": "stream",
     "text": [
      "callback ok\n",
      "index_parallel=7\n",
      "sed -i 7_main.cpp -e 's/^constexpr double K_START = .*;  \\/\\/ OPTIMIZE \\[0\\.04, 0\\.12\\] LOG$/constexpr double K_START = 0.11333893656335717;  \\/\\/ OPTIMIZE [0.04, 0.12] LOG/' -e 's/^constexpr double K_END = .*;   \\/\\/ OPTIMIZE \\[0\\.03, 0\\.1\\] LOG$/constexpr double K_END = 0.05376956640247519;   \\/\\/ OPTIMIZE [0.03, 0.1] LOG/' -e 's/^constexpr double K_H = .*;      \\/\\/ OPTIMIZE \\[0\\.001, 0\\.999\\]$/constexpr double K_H = 0.5694223433633996;      \\/\\/ OPTIMIZE [0.001, 0.999]/' -e 's/^constexpr short PURCHASE_TURN_LIMIT = .*;  \\/\\/ OPTIMIZE \\[790, 870\\]$/constexpr short PURCHASE_TURN_LIMIT = 843;  \\/\\/ OPTIMIZE [790, 870]/' -e 's/^constexpr int SUBSCORE3_TIGHT_TURN = .*;     \\/\\/ OPTIMIZE \\[0, 1\\]$/constexpr int SUBSCORE3_TIGHT_TURN = 0;     \\/\\/ OPTIMIZE [0, 1]/' -e 's/^constexpr int ROUGH_HASH = .*;      \\/\\/ OPTIMIZE {0, 0b00000001, 0b00010001, 0b00010011, 0b00110011}$/constexpr int ROUGH_HASH = 0b00010001;      \\/\\/ OPTIMIZE {0, 0b00000001, 0b00010001, 0b00010011, 0b00110011}/' -e 's/^constexpr double TARGET_BEAM_WIDTH_INCREASE_RATE = .*;      \\/\\/ OPTIMIZE \\[0\\.5, 1\\.0\\] LOG$/constexpr double TARGET_BEAM_WIDTH_INCREASE_RATE = 0.7165059780146827;      \\/\\/ OPTIMIZE [0.5, 1.0] LOG/' -e 's/^constexpr double TARGET_BEAM_WIDTH_HALF_PROGRES_RATE = .*;  \\/\\/ OPTIMIZE \\[0\\.02, 0\\.98\\]$/constexpr double TARGET_BEAM_WIDTH_HALF_PROGRES_RATE = 0.38573455727683575;  \\/\\/ OPTIMIZE [0.02, 0.98]/'\n",
      "g++ 7_main.cpp -std=gnu++17 -O2 -DONLINE_JUDGE -o 7_main.cpp.out 2> /dev/null\n"
     ]
    },
    {
     "name": "stderr",
     "output_type": "stream",
     "text": [
      "\n",
      "KeyboardInterrupt\n",
      "\n"
     ]
    }
   ],
   "source": [
    "storage_path = f\"study.db\"\n",
    "storage = f\"sqlite:///{storage_path}\"\n",
    "study_name = \"study\"\n",
    "study = optuna.create_study(storage=storage, load_if_exists=True, study_name=study_name, direction=\"maximize\")\n",
    "\n",
    "def callback(study, trial):\n",
    "    try:\n",
    "        if study.best_value == trial.value:\n",
    "            print(f\"Updated! {study.best_value}\")\n",
    "            index_parallel = trial.number % 12\n",
    "            parameters_changed_filename = f\"{index_parallel}_{FILENAME}\"\n",
    "            !cp {parameters_changed_filename} 00000optimized.cpp\n",
    "        print(\"callback ok\")\n",
    "    except:\n",
    "        print(\":(\")\n",
    "\n",
    "objective = partial(objective_with_index, n_internal_parallel=4)\n",
    "study.optimize(objective, n_trials=3000, timeout=86400, n_jobs=4, callbacks=[callback])"
   ]
  },
  {
   "cell_type": "code",
   "execution_count": null,
   "id": "4aa4d4f8",
   "metadata": {},
   "outputs": [],
   "source": [
    "# これビーム実装し忘れてるな？？"
   ]
  },
  {
   "cell_type": "code",
   "execution_count": 12,
   "id": "9f4ef477",
   "metadata": {},
   "outputs": [
    {
     "name": "stdout",
     "output_type": "stream",
     "text": [
      "Filesystem     1K-blocks    Used Available Use% Mounted on\r\n",
      "/dev/root       20145724 7611196  12518144  38% /\r\n",
      "devtmpfs         8190004       0   8190004   0% /dev\r\n",
      "tmpfs            8193752      32   8193720   1% /dev/shm\r\n",
      "tmpfs            1638752     964   1637788   1% /run\r\n",
      "tmpfs               5120       0      5120   0% /run/lock\r\n",
      "tmpfs            8193752       0   8193752   0% /sys/fs/cgroup\r\n",
      "/dev/loop0         56832   56832         0 100% /snap/core18/2128\r\n",
      "/dev/loop1        241920  241920         0 100% /snap/google-cloud-sdk/195\r\n",
      "/dev/sda15        106858    5321    101537   5% /boot/efi\r\n",
      "/dev/loop3        242560  242560         0 100% /snap/google-cloud-sdk/197\r\n",
      "/dev/loop2         72064   72064         0 100% /snap/lxd/21029\r\n",
      "/dev/loop4         33152   33152         0 100% /snap/snapd/12883\r\n",
      "tmpfs            1638748       0   1638748   0% /run/user/1001\r\n"
     ]
    }
   ],
   "source": [
    "!df"
   ]
  },
  {
   "cell_type": "code",
   "execution_count": null,
   "id": "ce3903a1",
   "metadata": {},
   "outputs": [],
   "source": []
  }
 ],
 "metadata": {
  "kernelspec": {
   "display_name": "Python 3",
   "language": "python",
   "name": "python3"
  },
  "language_info": {
   "codemirror_mode": {
    "name": "ipython",
    "version": 3
   },
   "file_extension": ".py",
   "mimetype": "text/x-python",
   "name": "python",
   "nbconvert_exporter": "python",
   "pygments_lexer": "ipython3",
   "version": "3.8.8"
  }
 },
 "nbformat": 4,
 "nbformat_minor": 5
}
