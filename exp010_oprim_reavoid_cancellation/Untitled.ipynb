{
 "cells": [
  {
   "cell_type": "code",
   "execution_count": 1,
   "id": "b662b31c",
   "metadata": {},
   "outputs": [],
   "source": [
    "import re\n",
    "import sys\n",
    "from time import time, sleep\n",
    "from pprint import pprint\n",
    "from functools import partial\n",
    "from multiprocessing import Pool\n",
    "\n",
    "import numpy as np\n",
    "import pandas as pd\n",
    "import optuna\n",
    "import matplotlib.pyplot as plt\n",
    "\n",
    "FILENAME = \"main.cpp\""
   ]
  },
  {
   "cell_type": "code",
   "execution_count": 2,
   "id": "26c6ae89",
   "metadata": {},
   "outputs": [],
   "source": [
    "!cp ../answer/{FILENAME} ./{FILENAME}"
   ]
  },
  {
   "cell_type": "code",
   "execution_count": 3,
   "id": "06ef2e8f",
   "metadata": {
    "scrolled": true
   },
   "outputs": [
    {
     "name": "stdout",
     "output_type": "stream",
     "text": [
      "\u001b[01m\u001b[Kmain.cpp:49:\u001b[m\u001b[K \u001b[01;35m\u001b[Kwarning: \u001b[m\u001b[Kignoring #pragma clang attribute [\u001b[01;35m\u001b[K-Wunknown-pragmas\u001b[m\u001b[K]\n",
      "   49 | #pragma clang attribute push (__attribute__((target(\"arch=skylake\"))),apply_to=function)\n",
      "      | \n",
      "\u001b[01m\u001b[Kmain.cpp:1572:\u001b[m\u001b[K \u001b[01;35m\u001b[Kwarning: \u001b[m\u001b[Kignoring #pragma clang attribute [\u001b[01;35m\u001b[K-Wunknown-pragmas\u001b[m\u001b[K]\n",
      " 1572 | #pragma clang attribute pop\n",
      "      | \n",
      "\u001b[01m\u001b[Kmain.cpp:\u001b[m\u001b[K In function ‘\u001b[01m\u001b[Kvoid globals::UpdateValueTable()\u001b[m\u001b[K’:\n",
      "\u001b[01m\u001b[Kmain.cpp:883:15:\u001b[m\u001b[K \u001b[01;35m\u001b[Kwarning: \u001b[m\u001b[Kunused variable ‘\u001b[01m\u001b[Kvm\u001b[m\u001b[K’ [\u001b[01;35m\u001b[K-Wunused-variable\u001b[m\u001b[K]\n",
      "  883 |   const auto& \u001b[01;35m\u001b[Kvm\u001b[m\u001b[K = v_modified[idx_RCSEV];\n",
      "      |               \u001b[01;35m\u001b[K^~\u001b[m\u001b[K\n",
      "\u001b[01m\u001b[Kmain.cpp:\u001b[m\u001b[K In member function ‘\u001b[01m\u001b[Kvoid State::RecalcFutureScore()\u001b[m\u001b[K’:\n",
      "\u001b[01m\u001b[Kmain.cpp:981:14:\u001b[m\u001b[K \u001b[01;35m\u001b[Kwarning: \u001b[m\u001b[Kunused variable ‘\u001b[01m\u001b[Kold_subscore2\u001b[m\u001b[K’ [\u001b[01;35m\u001b[K-Wunused-variable\u001b[m\u001b[K]\n",
      "  981 |   const auto \u001b[01;35m\u001b[Kold_subscore2\u001b[m\u001b[K = subscore2;\n",
      "      |              \u001b[01;35m\u001b[K^~~~~~~~~~~~~\u001b[m\u001b[K\n",
      "\u001b[01m\u001b[Kmain.cpp:\u001b[m\u001b[K In function ‘\u001b[01m\u001b[Kvoid Solve()\u001b[m\u001b[K’:\n",
      "\u001b[01m\u001b[Kmain.cpp:1380:54:\u001b[m\u001b[K \u001b[01;35m\u001b[Kwarning: \u001b[m\u001b[Ksuggest parentheses around ‘\u001b[01m\u001b[K-\u001b[m\u001b[K’ in operand of ‘\u001b[01m\u001b[K&\u001b[m\u001b[K’ [\u001b[01;35m\u001b[K-Wparentheses\u001b[m\u001b[K]\n",
      " 1380 |    r = (unsigned)rng.next() & \u001b[01;35m\u001b[K(1 << hash_table_size) - 1\u001b[m\u001b[K;\n",
      "      |                               \u001b[01;35m\u001b[K~~~~~~~~~~~~~~~~~~~~~~~^~~\u001b[m\u001b[K\n",
      "\u001b[01m\u001b[Kmain.cpp:1451:72:\u001b[m\u001b[K \u001b[01;35m\u001b[Kwarning: \u001b[m\u001b[Kmissing initializer for member ‘\u001b[01m\u001b[KSolve()::Node::action\u001b[m\u001b[K’ [\u001b[01;35m\u001b[K-Wmissing-field-initializers\u001b[m\u001b[K]\n",
      " 1451 |   node_buffer.push({ state_buffer[0].score, nullptr, &state_buffer[0] }\u001b[01;35m\u001b[K)\u001b[m\u001b[K;\n",
      "      |                                                                        \u001b[01;35m\u001b[K^\u001b[m\u001b[K\n",
      "main.cpp: In instantiation of ‘\u001b[01m\u001b[KMinimumHashMap<T, size, KeyType>::MinimumHashMap() [with T = int; int size = 262144; KeyType = unsigned int]\u001b[m\u001b[K’:\n",
      "\u001b[01m\u001b[Kmain.cpp:1460:53:\u001b[m\u001b[K   required from here\n",
      "\u001b[01m\u001b[Kmain.cpp:477:30:\u001b[m\u001b[K \u001b[01;35m\u001b[Kwarning: \u001b[m\u001b[Ksuggest parentheses around ‘\u001b[01m\u001b[K-\u001b[m\u001b[K’ in operand of ‘\u001b[01m\u001b[K&\u001b[m\u001b[K’ [\u001b[01;35m\u001b[K-Wparentheses\u001b[m\u001b[K]\n",
      "  477 |   static_assert((size & \u001b[01;35m\u001b[Ksize - 1\u001b[m\u001b[K) == 0, \"not pow of 2\");\n",
      "      |                         \u001b[01;35m\u001b[K~~~~~^~~\u001b[m\u001b[K\n",
      "\u001b[01m\u001b[Kmain.cpp:1369:8:\u001b[m\u001b[K \u001b[01;35m\u001b[Kwarning: \u001b[m\u001b[Kignoring return value of ‘\u001b[01m\u001b[Kint scanf(const char*, ...)\u001b[m\u001b[K’, declared with attribute warn_unused_result [\u001b[01;35m\u001b[K-Wunused-result\u001b[m\u001b[K]\n",
      " 1369 |   \u001b[01;35m\u001b[Kscanf(\"%d %d %d\", &buf, &buf, &buf)\u001b[m\u001b[K;\n",
      "      |   \u001b[01;35m\u001b[K~~~~~^~~~~~~~~~~~~~~~~~~~~~~~~~~~~~\u001b[m\u001b[K\n",
      "\u001b[01m\u001b[Kmain.cpp:1371:9:\u001b[m\u001b[K \u001b[01;35m\u001b[Kwarning: \u001b[m\u001b[Kignoring return value of ‘\u001b[01m\u001b[Kint scanf(const char*, ...)\u001b[m\u001b[K’, declared with attribute warn_unused_result [\u001b[01;35m\u001b[K-Wunused-result\u001b[m\u001b[K]\n",
      " 1371 |    \u001b[01;35m\u001b[Kscanf(\"%hhd %hhd %hd %hd %hd\", &R[i], &C[i], &S[i], &E[i], &V[i])\u001b[m\u001b[K;\n",
      "      |    \u001b[01;35m\u001b[K~~~~~^~~~~~~~~~~~~~~~~~~~~~~~~~~~~~~~~~~~~~~~~~~~~~~~~~~~~~~~~~~~\u001b[m\u001b[K\n"
     ]
    }
   ],
   "source": [
    "#!g++ {FILENAME} -std=gnu++17 -Wall -Wextra -O2 -DONLINE_JUDGE -o {FILENAME}.out\n",
    "!g++ {FILENAME} -std=gnu++17 -Wall -Wextra -O2 -o {FILENAME}.out"
   ]
  },
  {
   "cell_type": "code",
   "execution_count": 4,
   "id": "5054ac99",
   "metadata": {},
   "outputs": [
    {
     "name": "stdout",
     "output_type": "stream",
     "text": [
      "0000.txt  0025.txt  0050.txt  0075.txt\t0100.txt  0125.txt  0150.txt  0175.txt\r\n",
      "0001.txt  0026.txt  0051.txt  0076.txt\t0101.txt  0126.txt  0151.txt  0176.txt\r\n",
      "0002.txt  0027.txt  0052.txt  0077.txt\t0102.txt  0127.txt  0152.txt  0177.txt\r\n",
      "0003.txt  0028.txt  0053.txt  0078.txt\t0103.txt  0128.txt  0153.txt  0178.txt\r\n",
      "0004.txt  0029.txt  0054.txt  0079.txt\t0104.txt  0129.txt  0154.txt  0179.txt\r\n",
      "0005.txt  0030.txt  0055.txt  0080.txt\t0105.txt  0130.txt  0155.txt  0180.txt\r\n",
      "0006.txt  0031.txt  0056.txt  0081.txt\t0106.txt  0131.txt  0156.txt  0181.txt\r\n",
      "0007.txt  0032.txt  0057.txt  0082.txt\t0107.txt  0132.txt  0157.txt  0182.txt\r\n",
      "0008.txt  0033.txt  0058.txt  0083.txt\t0108.txt  0133.txt  0158.txt  0183.txt\r\n",
      "0009.txt  0034.txt  0059.txt  0084.txt\t0109.txt  0134.txt  0159.txt  0184.txt\r\n",
      "0010.txt  0035.txt  0060.txt  0085.txt\t0110.txt  0135.txt  0160.txt  0185.txt\r\n",
      "0011.txt  0036.txt  0061.txt  0086.txt\t0111.txt  0136.txt  0161.txt  0186.txt\r\n",
      "0012.txt  0037.txt  0062.txt  0087.txt\t0112.txt  0137.txt  0162.txt  0187.txt\r\n",
      "0013.txt  0038.txt  0063.txt  0088.txt\t0113.txt  0138.txt  0163.txt  0188.txt\r\n",
      "0014.txt  0039.txt  0064.txt  0089.txt\t0114.txt  0139.txt  0164.txt  0189.txt\r\n",
      "0015.txt  0040.txt  0065.txt  0090.txt\t0115.txt  0140.txt  0165.txt  0190.txt\r\n",
      "0016.txt  0041.txt  0066.txt  0091.txt\t0116.txt  0141.txt  0166.txt  0191.txt\r\n",
      "0017.txt  0042.txt  0067.txt  0092.txt\t0117.txt  0142.txt  0167.txt  0192.txt\r\n",
      "0018.txt  0043.txt  0068.txt  0093.txt\t0118.txt  0143.txt  0168.txt  0193.txt\r\n",
      "0019.txt  0044.txt  0069.txt  0094.txt\t0119.txt  0144.txt  0169.txt  0194.txt\r\n",
      "0020.txt  0045.txt  0070.txt  0095.txt\t0120.txt  0145.txt  0170.txt  0195.txt\r\n",
      "0021.txt  0046.txt  0071.txt  0096.txt\t0121.txt  0146.txt  0171.txt  0196.txt\r\n",
      "0022.txt  0047.txt  0072.txt  0097.txt\t0122.txt  0147.txt  0172.txt  0197.txt\r\n",
      "0023.txt  0048.txt  0073.txt  0098.txt\t0123.txt  0148.txt  0173.txt  0198.txt\r\n",
      "0024.txt  0049.txt  0074.txt  0099.txt\t0124.txt  0149.txt  0174.txt  0199.txt\r\n"
     ]
    }
   ],
   "source": [
    "# テストケース生成\n",
    "SEED = 1000\n",
    "N_TESTCASES = 200\n",
    "\n",
    "!mkdir in\n",
    "for i in range(N_TESTCASES):\n",
    "    filename = f\"{i:04d}.txt\"\n",
    "    seed = SEED + i\n",
    "    !python3 ../A/tester/generator.py {seed} > ./in/{filename}\n",
    "!ls in"
   ]
  },
  {
   "cell_type": "code",
   "execution_count": 5,
   "id": "ee04599c",
   "metadata": {},
   "outputs": [],
   "source": [
    "TESTCASE_DIRECTORY = \"./in/\"\n",
    "TESTCASES = [f\"{i:04d}.txt\" for i in range(N_TESTCASES)]"
   ]
  },
  {
   "cell_type": "code",
   "execution_count": 6,
   "id": "b48488f9",
   "metadata": {
    "scrolled": true
   },
   "outputs": [
    {
     "name": "stdout",
     "output_type": "stream",
     "text": [
      "0000 time:1.8538 score:4817377\n",
      "0001 time:1.8412 score:5428826\n",
      "0002 time:1.8912 score:4754343\n",
      "0003 time:1.8483 score:5041686\n",
      "0004 time:1.8900 score:4744457\n",
      "0005 time:1.8434 score:5100596\n",
      "0006 time:1.8720 score:4832270\n",
      "0007 time:1.8428 score:5262784\n",
      "0008 time:1.8694 score:5165773\n",
      "0009 time:1.8359 score:4968695\n",
      "0010 time:1.8529 score:4414623\n",
      "0011 time:1.8756 score:5305997\n",
      "0012 time:1.8625 score:4500613\n",
      "0013 time:1.8655 score:5065114\n",
      "0014 time:1.8287 score:5449277\n",
      "0015 time:1.8479 score:5591763\n",
      "0016 time:1.8549 score:5060222\n",
      "0017 time:1.8904 score:4733117\n",
      "0018 time:1.8303 score:5131631\n",
      "0019 time:1.8592 score:4727319\n",
      "0020 time:1.8368 score:5409525\n",
      "0021 time:1.8527 score:5043345\n",
      "0022 time:1.8673 score:4831822\n",
      "0023 time:1.8562 score:4889290\n",
      "0024 time:1.8692 score:5119600\n",
      "0025 time:1.8745 score:4690334\n",
      "0026 time:1.8675 score:4949281\n",
      "0027 time:1.8465 score:5660417\n",
      "0028 time:1.8523 score:5048957\n",
      "0029 time:1.8879 score:4969654\n",
      "0030 time:1.8485 score:4818351\n",
      "0031 time:1.8649 score:4383317\n",
      "0032 time:1.8594 score:5646077\n",
      "0033 time:1.8371 score:4564307\n",
      "0034 time:1.8777 score:5824299\n",
      "0035 time:1.8464 score:4975619\n",
      "0036 time:1.8492 score:6037277\n",
      "0037 time:1.8463 score:5019516\n",
      "0038 time:1.8445 score:5873051\n",
      "0039 time:1.8574 score:5395951\n",
      "0040 time:1.8436 score:5098104\n",
      "0041 time:1.8221 score:4369109\n",
      "0042 time:1.8514 score:5321773\n",
      "0043 time:1.8620 score:5145941\n",
      "0044 time:1.8509 score:5504375\n",
      "0045 time:1.8411 score:5196102\n",
      "0046 time:1.8569 score:5173364\n",
      "0047 time:1.8573 score:5292748\n",
      "0048 time:1.8339 score:4629342\n",
      "0049 time:1.8417 score:4798607\n",
      "0050 time:1.8320 score:4735113\n",
      "0051 time:1.8430 score:4775520\n",
      "0052 time:1.8441 score:4723786\n",
      "0053 time:1.8404 score:4808121\n",
      "0054 time:1.8627 score:4527322\n",
      "0055 time:1.8694 score:4574536\n",
      "0056 time:1.8819 score:4527868\n",
      "0057 time:1.8409 score:5111835\n",
      "0058 time:1.8526 score:4749635\n",
      "0059 time:1.8386 score:4797016\n",
      "0060 time:1.8681 score:4958207\n",
      "0061 time:1.8672 score:4837580\n",
      "0062 time:1.8075 score:5000700\n",
      "0063 time:1.8281 score:4635252\n",
      "0064 time:1.8612 score:4328513\n",
      "0065 time:1.8574 score:4859669\n",
      "0066 time:1.8316 score:5467684\n",
      "0067 time:1.8624 score:5302887\n",
      "0068 time:1.8773 score:5003293\n",
      "0069 time:1.8514 score:4244356\n",
      "0070 time:1.8637 score:5662799\n",
      "0071 time:1.8761 score:4474265\n",
      "0072 time:1.8553 score:4694354\n",
      "0073 time:1.8427 score:5483713\n",
      "0074 time:1.8500 score:5117631\n",
      "0075 time:1.8402 score:4167208\n",
      "0076 time:1.8355 score:4892946\n",
      "0077 time:1.8649 score:4661495\n",
      "0078 time:1.8574 score:5267129\n",
      "0079 time:1.8378 score:4996520\n",
      "0080 time:1.8280 score:4449619\n",
      "0081 time:1.8497 score:5588556\n",
      "0082 time:1.8462 score:5002888\n",
      "0083 time:1.8382 score:4756598\n",
      "0084 time:1.8342 score:4517538\n",
      "0085 time:1.8642 score:4962959\n",
      "0086 time:1.8682 score:5482372\n",
      "0087 time:1.8618 score:4796406\n",
      "0088 time:1.8504 score:4851880\n",
      "0089 time:1.8643 score:4590857\n",
      "0090 time:1.8709 score:5011146\n",
      "0091 time:1.8405 score:4747041\n",
      "0092 time:1.8514 score:5707468\n",
      "0093 time:1.8575 score:5159897\n",
      "0094 time:1.8563 score:4410211\n",
      "0095 time:1.8322 score:5456739\n",
      "0096 time:1.8679 score:4723860\n",
      "0097 time:1.8531 score:4892496\n",
      "0098 time:1.8520 score:4541446\n",
      "0099 time:1.8372 score:4602339\n",
      "0100 time:1.8709 score:4856972\n",
      "0101 time:1.8525 score:5234627\n",
      "0102 time:1.8365 score:4982894\n",
      "0103 time:1.8578 score:4961068\n",
      "0104 time:1.8834 score:4451246\n",
      "0105 time:1.8664 score:4878780\n",
      "0106 time:1.8435 score:5046504\n",
      "0107 time:1.8416 score:5002319\n",
      "0108 time:1.8569 score:4975957\n",
      "0109 time:1.8569 score:4724435\n",
      "0110 time:1.8470 score:4904319\n",
      "0111 time:1.8362 score:4878125\n",
      "0112 time:1.8491 score:4635383\n",
      "0113 time:1.8635 score:5578277\n",
      "0114 time:1.8553 score:4529169\n",
      "0115 time:1.8408 score:4691532\n",
      "0116 time:1.8453 score:5167811\n",
      "0117 time:1.8446 score:5335048\n",
      "0118 time:1.8510 score:5027137\n",
      "0119 time:1.8345 score:5091311\n",
      "0120 time:1.8379 score:5517301\n",
      "0121 time:1.8630 score:5431028\n",
      "0122 time:1.8380 score:5327445\n",
      "0123 time:1.8523 score:5074188\n",
      "0124 time:1.8554 score:5375687\n",
      "0125 time:1.8482 score:5047653\n",
      "0126 time:1.8481 score:5506882\n",
      "0127 time:1.8640 score:5528825\n",
      "0128 time:1.8534 score:4763172\n",
      "0129 time:1.8526 score:5574459\n",
      "0130 time:1.8291 score:4691550\n",
      "0131 time:1.8429 score:5195881\n",
      "0132 time:1.8472 score:5162728\n",
      "0133 time:1.8200 score:4981530\n",
      "0134 time:1.8788 score:5065319\n",
      "0135 time:1.8519 score:4628639\n",
      "0136 time:1.8831 score:5661648\n",
      "0137 time:1.8429 score:5260440\n",
      "0138 time:1.8506 score:4935916\n",
      "0139 time:1.8780 score:4798665\n",
      "0140 time:1.8563 score:4967992\n",
      "0141 time:1.8427 score:5431472\n",
      "0142 time:1.8741 score:4538545\n",
      "0143 time:1.8594 score:4961287\n",
      "0144 time:1.8354 score:4795377\n",
      "0145 time:1.8455 score:5324598\n",
      "0146 time:1.8541 score:4828107\n",
      "0147 time:1.8405 score:5191505\n",
      "0148 time:1.8652 score:4871216\n",
      "0149 time:1.8398 score:4758002\n",
      "0150 time:1.8789 score:5232768\n",
      "0151 time:1.8417 score:4285448\n",
      "0152 time:1.8361 score:4701913\n",
      "0153 time:1.8544 score:5198135\n",
      "0154 time:1.8530 score:4512939\n",
      "0155 time:1.8206 score:5067468\n",
      "0156 time:1.8533 score:5097592\n",
      "0157 time:1.8562 score:4887223\n",
      "0158 time:1.8638 score:5024323\n",
      "0159 time:1.8776 score:4569750\n",
      "0160 time:1.8577 score:6084426\n",
      "0161 time:1.8757 score:5430178\n",
      "0162 time:1.8437 score:4830363\n",
      "0163 time:1.8595 score:4908543\n",
      "0164 time:1.8523 score:5130446\n",
      "0165 time:1.8582 score:4919904\n",
      "0166 time:1.8516 score:4479863\n",
      "0167 time:1.8441 score:4637896\n",
      "0168 time:1.8231 score:5234871\n",
      "0169 time:1.8573 score:5066716\n",
      "0170 time:1.8464 score:5584020\n",
      "0171 time:1.8574 score:5048379\n",
      "0172 time:1.8391 score:4803798\n",
      "0173 time:1.8662 score:4976881\n",
      "0174 time:1.8358 score:4831522\n",
      "0175 time:1.8590 score:5398952\n",
      "0176 time:1.8768 score:5132455\n",
      "0177 time:1.8604 score:5329029\n",
      "0178 time:1.8547 score:5358324\n",
      "0179 time:1.8449 score:4924720\n",
      "0180 time:1.8485 score:4841358\n",
      "0181 time:1.8660 score:5162331\n",
      "0182 time:1.8498 score:5328203\n",
      "0183 time:1.8475 score:4923250\n",
      "0184 time:1.8371 score:4818663\n",
      "0185 time:1.8497 score:5111595\n",
      "0186 time:1.8642 score:4869465\n",
      "0187 time:1.8338 score:5323838\n",
      "0188 time:1.8508 score:5438794\n",
      "0189 time:1.8369 score:5071458\n",
      "0190 time:1.8795 score:5039172\n",
      "0191 time:1.8488 score:4201521\n",
      "0192 time:1.8682 score:4969230\n",
      "0193 time:1.8400 score:4857643\n",
      "0194 time:1.8403 score:4449616\n",
      "0195 time:1.8572 score:4630230\n",
      "0196 time:1.8279 score:5008497\n",
      "0197 time:1.8781 score:4769562\n",
      "0198 time:1.8493 score:5304045\n",
      "0199 time:1.8686 score:5509355\n"
     ]
    },
    {
     "data": {
      "text/plain": [
       "(249.97046225, 17.821631578592555)"
      ]
     },
     "execution_count": 6,
     "metadata": {},
     "output_type": "execute_result"
    }
   ],
   "source": [
    "# もとのスコアの確認\n",
    "\n",
    "scores = []\n",
    "times = []\n",
    "\n",
    "!mkdir out\n",
    "\n",
    "def parallel(i):\n",
    "    testcase = TESTCASES[i]\n",
    "    i = f\"{i:04d}\"\n",
    "    t0 = time()\n",
    "    !./{FILENAME}.out < {TESTCASE_DIRECTORY}{testcase} > ./out/{testcase} 2> /dev/null\n",
    "    t = time() - t0\n",
    "    score = !python3 ../A/tester/judge.py {TESTCASE_DIRECTORY}{testcase} ./out/{testcase}\n",
    "    print(i, f\"time:{t:.4f}\", *score)\n",
    "    score = int(score[0].split(\":\")[-1])\n",
    "    return score, t\n",
    "\n",
    "for i in range(200):\n",
    "    score, t = parallel(i)\n",
    "    scores.append(score)\n",
    "    times.append(t)\n",
    "\n",
    "# with Pool(15) as p:\n",
    "#     for score, t in p.map(parallel, range(N_TESTCASES)):\n",
    "#         scores.append(score)\n",
    "#         times.append(t)\n",
    "\n",
    "np.mean(scores) * 50 / 1e6, np.std(scores) * 50 / 1e6"
   ]
  },
  {
   "cell_type": "code",
   "execution_count": 7,
   "id": "eb7c89e4",
   "metadata": {},
   "outputs": [
    {
     "data": {
      "image/png": "[encoded data removed]",
      "text/plain": [
       "<Figure size 432x288 with 1 Axes>"
      ]
     },
     "metadata": {
      "needs_background": "light"
     },
     "output_type": "display_data"
    }
   ],
   "source": [
    "plt.hist(scores, bins=20)\n",
    "plt.show()"
   ]
  },
  {
   "cell_type": "code",
   "execution_count": 8,
   "id": "d09f872a",
   "metadata": {},
   "outputs": [
    {
     "name": "stdout",
     "output_type": "stream",
     "text": [
      "9 variables were found.\n"
     ]
    },
    {
     "data": {
      "text/html": [
       "<div>\n",
       "<style scoped>\n",
       "    .dataframe tbody tr th:only-of-type {\n",
       "        vertical-align: middle;\n",
       "    }\n",
       "\n",
       "    .dataframe tbody tr th {\n",
       "        vertical-align: top;\n",
       "    }\n",
       "\n",
       "    .dataframe thead th {\n",
       "        text-align: right;\n",
       "    }\n",
       "</style>\n",
       "<table border=\"1\" class=\"dataframe\">\n",
       "  <thead>\n",
       "    <tr style=\"text-align: right;\">\n",
       "      <th></th>\n",
       "      <th>name</th>\n",
       "      <th>method</th>\n",
       "      <th>min</th>\n",
       "      <th>max</th>\n",
       "      <th>log</th>\n",
       "      <th>left</th>\n",
       "      <th>right</th>\n",
       "      <th>choices</th>\n",
       "    </tr>\n",
       "  </thead>\n",
       "  <tbody>\n",
       "    <tr>\n",
       "      <th>0</th>\n",
       "      <td>hash_table_size</td>\n",
       "      <td>suggest_int</td>\n",
       "      <td>9.000</td>\n",
       "      <td>18.000</td>\n",
       "      <td>False</td>\n",
       "      <td>constexpr int hash_table_size =</td>\n",
       "      <td>;         // OPTIMIZE [9, 18]</td>\n",
       "      <td>NaN</td>\n",
       "    </tr>\n",
       "    <tr>\n",
       "      <th>1</th>\n",
       "      <td>K_START</td>\n",
       "      <td>suggest_float</td>\n",
       "      <td>0.040</td>\n",
       "      <td>0.200</td>\n",
       "      <td>True</td>\n",
       "      <td>constexpr double K_START =</td>\n",
       "      <td>;  // OPTIMIZE [0.04, 0.2] LOG</td>\n",
       "      <td>NaN</td>\n",
       "    </tr>\n",
       "    <tr>\n",
       "      <th>2</th>\n",
       "      <td>K_END</td>\n",
       "      <td>suggest_float</td>\n",
       "      <td>0.030</td>\n",
       "      <td>0.100</td>\n",
       "      <td>True</td>\n",
       "      <td>constexpr double K_END =</td>\n",
       "      <td>;   // OPTIMIZE [0.03, 0.1] LOG</td>\n",
       "      <td>NaN</td>\n",
       "    </tr>\n",
       "    <tr>\n",
       "      <th>3</th>\n",
       "      <td>K_H</td>\n",
       "      <td>suggest_float</td>\n",
       "      <td>0.001</td>\n",
       "      <td>0.999</td>\n",
       "      <td>False</td>\n",
       "      <td>constexpr double K_H =</td>\n",
       "      <td>;      // OPTIMIZE [0.001, 0.999]</td>\n",
       "      <td>NaN</td>\n",
       "    </tr>\n",
       "    <tr>\n",
       "      <th>4</th>\n",
       "      <td>PURCHASE_TURN_LIMIT</td>\n",
       "      <td>suggest_int</td>\n",
       "      <td>790.000</td>\n",
       "      <td>870.000</td>\n",
       "      <td>False</td>\n",
       "      <td>constexpr short PURCHASE_TURN_LIMIT =</td>\n",
       "      <td>;  // OPTIMIZE [790, 870]</td>\n",
       "      <td>NaN</td>\n",
       "    </tr>\n",
       "    <tr>\n",
       "      <th>5</th>\n",
       "      <td>ROUGH_HASH</td>\n",
       "      <td>suggest_categorical</td>\n",
       "      <td>NaN</td>\n",
       "      <td>NaN</td>\n",
       "      <td>NaN</td>\n",
       "      <td>constexpr int ROUGH_HASH =</td>\n",
       "      <td>;      // OPTIMIZE {0, 0b00000001, 0b00010001,...</td>\n",
       "      <td>[0, 0b00000001, 0b00010001, 0b00010011, 0b0011...</td>\n",
       "    </tr>\n",
       "    <tr>\n",
       "      <th>6</th>\n",
       "      <td>TARGET_BEAM_WIDTH_INCREASE_RATE</td>\n",
       "      <td>suggest_float</td>\n",
       "      <td>0.250</td>\n",
       "      <td>4.000</td>\n",
       "      <td>True</td>\n",
       "      <td>constexpr double TARGET_BEAM_WIDTH_INCREASE_RA...</td>\n",
       "      <td>;      // OPTIMIZE [0.25, 4.0] LOG</td>\n",
       "      <td>NaN</td>\n",
       "    </tr>\n",
       "    <tr>\n",
       "      <th>7</th>\n",
       "      <td>TARGET_BEAM_WIDTH_HALF_PROGRES_RATE</td>\n",
       "      <td>suggest_float</td>\n",
       "      <td>0.020</td>\n",
       "      <td>0.980</td>\n",
       "      <td>False</td>\n",
       "      <td>constexpr double TARGET_BEAM_WIDTH_HALF_PROGRE...</td>\n",
       "      <td>;  // OPTIMIZE [0.02, 0.98]</td>\n",
       "      <td>NaN</td>\n",
       "    </tr>\n",
       "    <tr>\n",
       "      <th>8</th>\n",
       "      <td>MAX_BEAM_WIDTH</td>\n",
       "      <td>suggest_int</td>\n",
       "      <td>400.000</td>\n",
       "      <td>4000.000</td>\n",
       "      <td>True</td>\n",
       "      <td>constexpr auto MAX_BEAM_WIDTH =</td>\n",
       "      <td>;                        // OPTIMIZE [400, 400...</td>\n",
       "      <td>NaN</td>\n",
       "    </tr>\n",
       "  </tbody>\n",
       "</table>\n",
       "</div>"
      ],
      "text/plain": [
       "                                  name               method      min  \\\n",
       "0                      hash_table_size          suggest_int    9.000   \n",
       "1                              K_START        suggest_float    0.040   \n",
       "2                                K_END        suggest_float    0.030   \n",
       "3                                  K_H        suggest_float    0.001   \n",
       "4                  PURCHASE_TURN_LIMIT          suggest_int  790.000   \n",
       "5                           ROUGH_HASH  suggest_categorical      NaN   \n",
       "6      TARGET_BEAM_WIDTH_INCREASE_RATE        suggest_float    0.250   \n",
       "7  TARGET_BEAM_WIDTH_HALF_PROGRES_RATE        suggest_float    0.020   \n",
       "8                       MAX_BEAM_WIDTH          suggest_int  400.000   \n",
       "\n",
       "        max    log                                               left  \\\n",
       "0    18.000  False                   constexpr int hash_table_size =    \n",
       "1     0.200   True                        constexpr double K_START =    \n",
       "2     0.100   True                          constexpr double K_END =    \n",
       "3     0.999  False                            constexpr double K_H =    \n",
       "4   870.000  False             constexpr short PURCHASE_TURN_LIMIT =    \n",
       "5       NaN    NaN                        constexpr int ROUGH_HASH =    \n",
       "6     4.000   True  constexpr double TARGET_BEAM_WIDTH_INCREASE_RA...   \n",
       "7     0.980  False  constexpr double TARGET_BEAM_WIDTH_HALF_PROGRE...   \n",
       "8  4000.000   True                   constexpr auto MAX_BEAM_WIDTH =    \n",
       "\n",
       "                                               right  \\\n",
       "0                      ;         // OPTIMIZE [9, 18]   \n",
       "1                     ;  // OPTIMIZE [0.04, 0.2] LOG   \n",
       "2                    ;   // OPTIMIZE [0.03, 0.1] LOG   \n",
       "3                  ;      // OPTIMIZE [0.001, 0.999]   \n",
       "4                          ;  // OPTIMIZE [790, 870]   \n",
       "5  ;      // OPTIMIZE {0, 0b00000001, 0b00010001,...   \n",
       "6                 ;      // OPTIMIZE [0.25, 4.0] LOG   \n",
       "7                        ;  // OPTIMIZE [0.02, 0.98]   \n",
       "8  ;                        // OPTIMIZE [400, 400...   \n",
       "\n",
       "                                             choices  \n",
       "0                                                NaN  \n",
       "1                                                NaN  \n",
       "2                                                NaN  \n",
       "3                                                NaN  \n",
       "4                                                NaN  \n",
       "5  [0, 0b00000001, 0b00010001, 0b00010011, 0b0011...  \n",
       "6                                                NaN  \n",
       "7                                                NaN  \n",
       "8                                                NaN  "
      ]
     },
     "metadata": {},
     "output_type": "display_data"
    }
   ],
   "source": [
    "# ここでエラー出力は何かおかしいかもしれない\n",
    "\n",
    "\n",
    "# パラメータ抽出\n",
    "with open(FILENAME) as f:\n",
    "    answer = f.read()\n",
    "\n",
    "\n",
    "variables_optimize = []\n",
    "\n",
    "for left, value, right, options in re.findall(r\"^([^/\\n]*=\\s*)(.+?)(\\s*;\\s*//(?:.*\\W)?OPTIMIZE(\\W.*))$\", answer, re.MULTILINE):\n",
    "    name = left.replace(\"=\", \"\").strip().split()[-1]\n",
    "    \n",
    "    searched = re.search(r\".*\\[(?P<min>.*),(?P<max>.*)\\].*\", options)\n",
    "    if searched:\n",
    "        min_value = max_value = None\n",
    "        try:\n",
    "            min_value = eval(searched.group(\"min\"))\n",
    "            max_value = eval(searched.group(\"max\"))\n",
    "            assert min_value <= max_value\n",
    "        except Exception as e:\n",
    "            print(f\"searched={searched}\", file=sys.stderr)\n",
    "            print(e, file=sys.stderr)\n",
    "            continue\n",
    "        log = \"LOG\" in options  # 雑、直したほうが良い\n",
    "        if type(min_value) != type(max_value):\n",
    "            print(f\"searched={searched}\", file=sys.stderr)\n",
    "            print(\"types not matched\", file=sys.stderr)\n",
    "            continue\n",
    "        if isinstance(min_value, int):\n",
    "            method = \"suggest_int\"\n",
    "        elif isinstance(min_value, float):\n",
    "            method = \"suggest_float\"\n",
    "        else:\n",
    "            print(f\"searched={searched}\", file=sys.stderr)\n",
    "            print(f\"unknown type ({type(min_value)})\", file=sys.stderr)\n",
    "            continue\n",
    "        variables_optimize.append({\n",
    "            \"name\": name,\n",
    "            \"method\": method,\n",
    "            \"min\": min_value,\n",
    "            \"max\": max_value,\n",
    "            \"log\": log,\n",
    "            \"left\": left,\n",
    "            \"right\": right,\n",
    "        })\n",
    "    elif searched := re.search(r\".*\\{(?P<choices>.*?)\\}.*\", options):\n",
    "        choices = list(map(lambda x: x.strip(), searched.group(\"choices\").split(\",\")))\n",
    "        variables_optimize.append({\n",
    "            \"name\": name,\n",
    "            \"method\": \"suggest_categorical\",\n",
    "            \"choices\": choices,\n",
    "            \"left\": left,\n",
    "            \"right\": right,\n",
    "        })\n",
    "    else:\n",
    "        print(f\"searched={searched}\", file=sys.stderr)\n",
    "        print(f\"pattern was matched but options are incorrect.\", file=sys.stderr)\n",
    "\n",
    "print(len(variables_optimize), \"variables were found.\")\n",
    "if globals().get(\"pd\"):\n",
    "    display(pd.DataFrame(variables_optimize))\n",
    "else:\n",
    "    pprint(variables_optimize)"
   ]
  },
  {
   "cell_type": "code",
   "execution_count": 9,
   "id": "e62e5673",
   "metadata": {},
   "outputs": [],
   "source": [
    "def escape(string):  # 正規表現の中でそのまま使いたい文字列をエスケープ\n",
    "    res = !echo '{string}' | sed -e 's/[]\\/$*.^[]/\\\\&/g'\n",
    "    return res[0]\n",
    "\n",
    "def escape_sed(string):  # sed の置換後の文字列用のエスケープ\n",
    "    res = !echo '{string}' | sed -e 's/[\\/&]/\\\\&/g'\n",
    "    return res[0]\n",
    "\n",
    "\n",
    "def objective_with_index(trial, n_internal_parallel):\n",
    "    index_parallel = trial.number % 12  # これ変数にする\n",
    "    print(f\"{index_parallel=}\")\n",
    "    \n",
    "    parameters_changed_filename = f\"{index_parallel}_{FILENAME}\"\n",
    "    #directory_input = \"./in\"  # \"/\" をつけない  # 中のすべてのファイルに対して実行される\n",
    "    \n",
    "    !mkdir {index_parallel}_out 2> /dev/null\n",
    "    !mkdir {index_parallel}_score 2> /dev/null\n",
    "    !rm {index_parallel}_out/*\n",
    "    !rm {index_parallel}_score/*\n",
    "    \n",
    "    # ファイル作成\n",
    "    !cp {FILENAME} {parameters_changed_filename}\n",
    "    sed_options = [f\"-i {parameters_changed_filename}\"]\n",
    "    for variable in variables_optimize:\n",
    "        if variable[\"method\"] == \"suggest_categorical\":\n",
    "            val =  trial.suggest_categorical(variable[\"name\"], variable[\"choices\"])\n",
    "        else:\n",
    "            val = getattr(trial, variable[\"method\"])(variable[\"name\"], variable[\"min\"], variable[\"max\"], log=variable[\"log\"])\n",
    "        left = variable[\"left\"]\n",
    "        right = variable[\"right\"]\n",
    "        sed_options.append(f\"\"\"-e 's/^{escape(left)}.*{escape(right)}$/{escape_sed(left)}{val}{escape_sed(right)}/'\"\"\")\n",
    "    command_sed = f\"sed {' '.join(sed_options)}\"\n",
    "    print(command_sed)\n",
    "    !{command_sed}\n",
    "    \n",
    "    # コンパイル\n",
    "    command_compile = f\"g++ {parameters_changed_filename} -std=gnu++17 -O2 -DONLINE_JUDGE -o {parameters_changed_filename}.out 2> /dev/null\"\n",
    "    print(command_compile)\n",
    "    !{command_compile}\n",
    "    \n",
    "    # 実行・採点コマンド (@ はファイル名)\n",
    "    command_exec = (\n",
    "        f\"./{parameters_changed_filename}.out < {TESTCASE_DIRECTORY}@ >./{index_parallel}_out/@ 2> /dev/null;\"\n",
    "        f\"python3 ../A/tester/judge.py {TESTCASE_DIRECTORY}@ ./{index_parallel}_out/@ > ./{index_parallel}_score/@\"\n",
    "        \n",
    "        #f\"cargo run --release --manifest-path ../tools/Cargo.toml --bin tester {directory_input}/@ $(pwd)/{parameters_changed_filename}.out 2>&1 | grep Score | sed -E s/[^0-9]+// > ./{index_parallel}_score/@;\"\n",
    "        \n",
    "        #f\"./{parameters_changed_filename}.out < {directory_input}/@ > ./{index_parallel}_out/@;\"\n",
    "        #f\"cargo run --release --manifest-path ./tools/Cargo.toml --bin vis {directory_input}/@ ./{index_parallel}_out/@ 2> /dev/null > ./{index_parallel}_score/@;\"\n",
    "    )\n",
    "    \n",
    "    # 並列実行 (sed はパスのディレクトリ部分を消してファイル名にしてる)\n",
    "    !find {TESTCASE_DIRECTORY}/* | sed 's!^.*/!!' | xargs -I@ -P {n_internal_parallel} sh -c '{command_exec}'\n",
    "    \n",
    "    # 集計\n",
    "    file_paths = !find ./{index_parallel}_score/*\n",
    "    sum_score = 0\n",
    "    for file_path in file_paths:  \n",
    "        with open(file_path) as f:\n",
    "            sum_score += int(f.read().split(\":\")[-1])\n",
    "    return sum_score"
   ]
  },
  {
   "cell_type": "code",
   "execution_count": 10,
   "id": "9b62e207",
   "metadata": {
    "scrolled": true
   },
   "outputs": [
    {
     "name": "stderr",
     "output_type": "stream",
     "text": [
      "\u001b[32m[I 2021-09-11 02:00:48,052]\u001b[0m A new study created in RDB with name: study\u001b[0m\n"
     ]
    },
    {
     "name": "stdout",
     "output_type": "stream",
     "text": [
      "index_parallel=2\n",
      "index_parallel=1\n",
      "index_parallel=0\n",
      "index_parallel=3\n"
     ]
    },
    {
     "name": "stderr",
     "output_type": "stream",
     "text": [
      "/home/nagis/anaconda3/lib/python3.8/site-packages/optuna/study/study.py:393: FutureWarning: `n_jobs` argument has been deprecated in v2.7.0. This feature will be removed in v4.0.0. See https://github.com/optuna/optuna/releases/tag/v2.7.0.\n",
      "  warnings.warn(\n"
     ]
    },
    {
     "name": "stdout",
     "output_type": "stream",
     "text": [
      "rm: cannot remove '1_out/*': No such file or directory\n",
      "rm: cannot remove '2_out/*': No such file or directory\n",
      "rm: cannot remove '0_out/*': No such file or directory\n",
      "rm: cannot remove '3_out/*': No such file or directory\n",
      "rm: cannot remove '1_score/*': No such file or directory\n",
      "rm: cannot remove '2_score/*': No such file or directory\n",
      "rm: cannot remove '0_score/*': No such file or directory\n",
      "rm: cannot remove '3_score/*': No such file or directory\n",
      "sed -i 1_main.cpp -e 's/^constexpr int hash_table_size = .*;         \\/\\/ OPTIMIZE \\[9, 18\\]$/constexpr int hash_table_size = 17;         \\/\\/ OPTIMIZE [9, 18]/' -e 's/^constexpr double K_START = .*;  \\/\\/ OPTIMIZE \\[0\\.04, 0\\.2\\] LOG$/constexpr double K_START = 0.1047085443252807;  \\/\\/ OPTIMIZE [0.04, 0.2] LOG/' -e 's/^constexpr double K_END = .*;   \\/\\/ OPTIMIZE \\[0\\.03, 0\\.1\\] LOG$/constexpr double K_END = 0.03610129260889597;   \\/\\/ OPTIMIZE [0.03, 0.1] LOG/' -e 's/^constexpr double K_H = .*;      \\/\\/ OPTIMIZE \\[0\\.001, 0\\.999\\]$/constexpr double K_H = 0.11782236554336321;      \\/\\/ OPTIMIZE [0.001, 0.999]/' -e 's/^constexpr short PURCHASE_TURN_LIMIT = .*;  \\/\\/ OPTIMIZE \\[790, 870\\]$/constexpr short PURCHASE_TURN_LIMIT = 797;  \\/\\/ OPTIMIZE [790, 870]/' -e 's/^constexpr int ROUGH_HASH = .*;      \\/\\/ OPTIMIZE {0, 0b00000001, 0b00010001, 0b00010011, 0b00110011}$/constexpr int ROUGH_HASH = 0b00110011;      \\/\\/ OPTIMIZE {0, 0b00000001, 0b00010001, 0b00010011, 0b00110011}/' -e 's/^constexpr double TARGET_BEAM_WIDTH_INCREASE_RATE = .*;      \\/\\/ OPTIMIZE \\[0\\.25, 4\\.0\\] LOG$/constexpr double TARGET_BEAM_WIDTH_INCREASE_RATE = 0.39293166415477404;      \\/\\/ OPTIMIZE [0.25, 4.0] LOG/' -e 's/^constexpr double TARGET_BEAM_WIDTH_HALF_PROGRES_RATE = .*;  \\/\\/ OPTIMIZE \\[0\\.02, 0\\.98\\]$/constexpr double TARGET_BEAM_WIDTH_HALF_PROGRES_RATE = 0.468441493157694;  \\/\\/ OPTIMIZE [0.02, 0.98]/' -e 's/^constexpr auto MAX_BEAM_WIDTH = .*;                        \\/\\/ OPTIMIZE \\[400, 4000\\] LOG$/constexpr auto MAX_BEAM_WIDTH = 837;                        \\/\\/ OPTIMIZE [400, 4000] LOG/'\n",
      "sed -i 3_main.cpp -e 's/^constexpr int hash_table_size = .*;         \\/\\/ OPTIMIZE \\[9, 18\\]$/constexpr int hash_table_size = 12;         \\/\\/ OPTIMIZE [9, 18]/' -e 's/^constexpr double K_START = .*;  \\/\\/ OPTIMIZE \\[0\\.04, 0\\.2\\] LOG$/constexpr double K_START = 0.11877157589047212;  \\/\\/ OPTIMIZE [0.04, 0.2] LOG/' -e 's/^constexpr double K_END = .*;   \\/\\/ OPTIMIZE \\[0\\.03, 0\\.1\\] LOG$/constexpr double K_END = 0.0661751048316381;   \\/\\/ OPTIMIZE [0.03, 0.1] LOG/' -e 's/^constexpr double K_H = .*;      \\/\\/ OPTIMIZE \\[0\\.001, 0\\.999\\]$/constexpr double K_H = 0.6062071803979464;      \\/\\/ OPTIMIZE [0.001, 0.999]/' -e 's/^constexpr short PURCHASE_TURN_LIMIT = .*;  \\/\\/ OPTIMIZE \\[790, 870\\]$/constexpr short PURCHASE_TURN_LIMIT = 803;  \\/\\/ OPTIMIZE [790, 870]/' -e 's/^constexpr int ROUGH_HASH = .*;      \\/\\/ OPTIMIZE {0, 0b00000001, 0b00010001, 0b00010011, 0b00110011}$/constexpr int ROUGH_HASH = 0;      \\/\\/ OPTIMIZE {0, 0b00000001, 0b00010001, 0b00010011, 0b00110011}/' -e 's/^constexpr double TARGET_BEAM_WIDTH_INCREASE_RATE = .*;      \\/\\/ OPTIMIZE \\[0\\.25, 4\\.0\\] LOG$/constexpr double TARGET_BEAM_WIDTH_INCREASE_RATE = 0.36978758243854837;      \\/\\/ OPTIMIZE [0.25, 4.0] LOG/' -e 's/^constexpr double TARGET_BEAM_WIDTH_HALF_PROGRES_RATE = .*;  \\/\\/ OPTIMIZE \\[0\\.02, 0\\.98\\]$/constexpr double TARGET_BEAM_WIDTH_HALF_PROGRES_RATE = 0.44078179895914826;  \\/\\/ OPTIMIZE [0.02, 0.98]/' -e 's/^constexpr auto MAX_BEAM_WIDTH = .*;                        \\/\\/ OPTIMIZE \\[400, 4000\\] LOG$/constexpr auto MAX_BEAM_WIDTH = 1959;                        \\/\\/ OPTIMIZE [400, 4000] LOG/'\n",
      "sed -i 2_main.cpp -e 's/^constexpr int hash_table_size = .*;         \\/\\/ OPTIMIZE \\[9, 18\\]$/constexpr int hash_table_size = 11;         \\/\\/ OPTIMIZE [9, 18]/' -e 's/^constexpr double K_START = .*;  \\/\\/ OPTIMIZE \\[0\\.04, 0\\.2\\] LOG$/constexpr double K_START = 0.06249055734408844;  \\/\\/ OPTIMIZE [0.04, 0.2] LOG/' -e 's/^constexpr double K_END = .*;   \\/\\/ OPTIMIZE \\[0\\.03, 0\\.1\\] LOG$/constexpr double K_END = 0.035195758700637056;   \\/\\/ OPTIMIZE [0.03, 0.1] LOG/' -e 's/^constexpr double K_H = .*;      \\/\\/ OPTIMIZE \\[0\\.001, 0\\.999\\]$/constexpr double K_H = 0.18604852242870176;      \\/\\/ OPTIMIZE [0.001, 0.999]/' -e 's/^constexpr short PURCHASE_TURN_LIMIT = .*;  \\/\\/ OPTIMIZE \\[790, 870\\]$/constexpr short PURCHASE_TURN_LIMIT = 814;  \\/\\/ OPTIMIZE [790, 870]/' -e 's/^constexpr int ROUGH_HASH = .*;      \\/\\/ OPTIMIZE {0, 0b00000001, 0b00010001, 0b00010011, 0b00110011}$/constexpr int ROUGH_HASH = 0b00000001;      \\/\\/ OPTIMIZE {0, 0b00000001, 0b00010001, 0b00010011, 0b00110011}/' -e 's/^constexpr double TARGET_BEAM_WIDTH_INCREASE_RATE = .*;      \\/\\/ OPTIMIZE \\[0\\.25, 4\\.0\\] LOG$/constexpr double TARGET_BEAM_WIDTH_INCREASE_RATE = 2.508037630559945;      \\/\\/ OPTIMIZE [0.25, 4.0] LOG/' -e 's/^constexpr double TARGET_BEAM_WIDTH_HALF_PROGRES_RATE = .*;  \\/\\/ OPTIMIZE \\[0\\.02, 0\\.98\\]$/constexpr double TARGET_BEAM_WIDTH_HALF_PROGRES_RATE = 0.0678102930282143;  \\/\\/ OPTIMIZE [0.02, 0.98]/' -e 's/^constexpr auto MAX_BEAM_WIDTH = .*;                        \\/\\/ OPTIMIZE \\[400, 4000\\] LOG$/constexpr auto MAX_BEAM_WIDTH = 1697;                        \\/\\/ OPTIMIZE [400, 4000] LOG/'\n",
      "sed -i 0_main.cpp -e 's/^constexpr int hash_table_size = .*;         \\/\\/ OPTIMIZE \\[9, 18\\]$/constexpr int hash_table_size = 14;         \\/\\/ OPTIMIZE [9, 18]/' -e 's/^constexpr double K_START = .*;  \\/\\/ OPTIMIZE \\[0\\.04, 0\\.2\\] LOG$/constexpr double K_START = 0.06414206485530669;  \\/\\/ OPTIMIZE [0.04, 0.2] LOG/' -e 's/^constexpr double K_END = .*;   \\/\\/ OPTIMIZE \\[0\\.03, 0\\.1\\] LOG$/constexpr double K_END = 0.05797211179036079;   \\/\\/ OPTIMIZE [0.03, 0.1] LOG/' -e 's/^constexpr double K_H = .*;      \\/\\/ OPTIMIZE \\[0\\.001, 0\\.999\\]$/constexpr double K_H = 0.822594762835271;      \\/\\/ OPTIMIZE [0.001, 0.999]/' -e 's/^constexpr short PURCHASE_TURN_LIMIT = .*;  \\/\\/ OPTIMIZE \\[790, 870\\]$/constexpr short PURCHASE_TURN_LIMIT = 820;  \\/\\/ OPTIMIZE [790, 870]/' -e 's/^constexpr int ROUGH_HASH = .*;      \\/\\/ OPTIMIZE {0, 0b00000001, 0b00010001, 0b00010011, 0b00110011}$/constexpr int ROUGH_HASH = 0b00000001;      \\/\\/ OPTIMIZE {0, 0b00000001, 0b00010001, 0b00010011, 0b00110011}/' -e 's/^constexpr double TARGET_BEAM_WIDTH_INCREASE_RATE = .*;      \\/\\/ OPTIMIZE \\[0\\.25, 4\\.0\\] LOG$/constexpr double TARGET_BEAM_WIDTH_INCREASE_RATE = 1.7500238353511155;      \\/\\/ OPTIMIZE [0.25, 4.0] LOG/' -e 's/^constexpr double TARGET_BEAM_WIDTH_HALF_PROGRES_RATE = .*;  \\/\\/ OPTIMIZE \\[0\\.02, 0\\.98\\]$/constexpr double TARGET_BEAM_WIDTH_HALF_PROGRES_RATE = 0.6716065198094479;  \\/\\/ OPTIMIZE [0.02, 0.98]/' -e 's/^constexpr auto MAX_BEAM_WIDTH = .*;                        \\/\\/ OPTIMIZE \\[400, 4000\\] LOG$/constexpr auto MAX_BEAM_WIDTH = 3186;                        \\/\\/ OPTIMIZE [400, 4000] LOG/'\n",
      "g++ 1_main.cpp -std=gnu++17 -O2 -DONLINE_JUDGE -o 1_main.cpp.out 2> /dev/null\n",
      "g++ 3_main.cpp -std=gnu++17 -O2 -DONLINE_JUDGE -o 3_main.cpp.out 2> /dev/null\n",
      "g++ 2_main.cpp -std=gnu++17 -O2 -DONLINE_JUDGE -o 2_main.cpp.out 2> /dev/null\n",
      "g++ 0_main.cpp -std=gnu++17 -O2 -DONLINE_JUDGE -o 0_main.cpp.out 2> /dev/null\n"
     ]
    },
    {
     "name": "stderr",
     "output_type": "stream",
     "text": [
      "\u001b[32m[I 2021-09-11 02:02:27,474]\u001b[0m Trial 2 finished with value: 971321293.0 and parameters: {'hash_table_size': 11, 'K_START': 0.06249055734408844, 'K_END': 0.035195758700637056, 'K_H': 0.18604852242870176, 'PURCHASE_TURN_LIMIT': 814, 'ROUGH_HASH': '0b00000001', 'TARGET_BEAM_WIDTH_INCREASE_RATE': 2.508037630559945, 'TARGET_BEAM_WIDTH_HALF_PROGRES_RATE': 0.0678102930282143, 'MAX_BEAM_WIDTH': 1697}. Best is trial 2 with value: 971321293.0.\u001b[0m\n"
     ]
    },
    {
     "name": "stdout",
     "output_type": "stream",
     "text": [
      "Updated! 971321293.0\n",
      "callback ok\n",
      "index_parallel=4\n",
      "rm: cannot remove '4_out/*': No such file or directory\n",
      "rm: cannot remove '4_score/*': No such file or directory\n",
      "sed -i 4_main.cpp -e 's/^constexpr int hash_table_size = .*;         \\/\\/ OPTIMIZE \\[9, 18\\]$/constexpr int hash_table_size = 17;         \\/\\/ OPTIMIZE [9, 18]/' -e 's/^constexpr double K_START = .*;  \\/\\/ OPTIMIZE \\[0\\.04, 0\\.2\\] LOG$/constexpr double K_START = 0.07713976944272556;  \\/\\/ OPTIMIZE [0.04, 0.2] LOG/' -e 's/^constexpr double K_END = .*;   \\/\\/ OPTIMIZE \\[0\\.03, 0\\.1\\] LOG$/constexpr double K_END = 0.0644540146809443;   \\/\\/ OPTIMIZE [0.03, 0.1] LOG/' -e 's/^constexpr double K_H = .*;      \\/\\/ OPTIMIZE \\[0\\.001, 0\\.999\\]$/constexpr double K_H = 0.3181829872667264;      \\/\\/ OPTIMIZE [0.001, 0.999]/' -e 's/^constexpr short PURCHASE_TURN_LIMIT = .*;  \\/\\/ OPTIMIZE \\[790, 870\\]$/constexpr short PURCHASE_TURN_LIMIT = 844;  \\/\\/ OPTIMIZE [790, 870]/' -e 's/^constexpr int ROUGH_HASH = .*;      \\/\\/ OPTIMIZE {0, 0b00000001, 0b00010001, 0b00010011, 0b00110011}$/constexpr int ROUGH_HASH = 0b00010011;      \\/\\/ OPTIMIZE {0, 0b00000001, 0b00010001, 0b00010011, 0b00110011}/' -e 's/^constexpr double TARGET_BEAM_WIDTH_INCREASE_RATE = .*;      \\/\\/ OPTIMIZE \\[0\\.25, 4\\.0\\] LOG$/constexpr double TARGET_BEAM_WIDTH_INCREASE_RATE = 0.8314631261003996;      \\/\\/ OPTIMIZE [0.25, 4.0] LOG/' -e 's/^constexpr double TARGET_BEAM_WIDTH_HALF_PROGRES_RATE = .*;  \\/\\/ OPTIMIZE \\[0\\.02, 0\\.98\\]$/constexpr double TARGET_BEAM_WIDTH_HALF_PROGRES_RATE = 0.9319738817134571;  \\/\\/ OPTIMIZE [0.02, 0.98]/' -e 's/^constexpr auto MAX_BEAM_WIDTH = .*;                        \\/\\/ OPTIMIZE \\[400, 4000\\] LOG$/constexpr auto MAX_BEAM_WIDTH = 1568;                        \\/\\/ OPTIMIZE [400, 4000] LOG/'\n",
      "g++ 4_main.cpp -std=gnu++17 -O2 -DONLINE_JUDGE -o 4_main.cpp.out 2> /dev/null\n"
     ]
    },
    {
     "name": "stderr",
     "output_type": "stream",
     "text": [
      "\u001b[32m[I 2021-09-11 02:02:34,225]\u001b[0m Trial 0 finished with value: 976913431.0 and parameters: {'hash_table_size': 14, 'K_START': 0.06414206485530669, 'K_END': 0.05797211179036079, 'K_H': 0.822594762835271, 'PURCHASE_TURN_LIMIT': 820, 'ROUGH_HASH': '0b00000001', 'TARGET_BEAM_WIDTH_INCREASE_RATE': 1.7500238353511155, 'TARGET_BEAM_WIDTH_HALF_PROGRES_RATE': 0.6716065198094479, 'MAX_BEAM_WIDTH': 3186}. Best is trial 0 with value: 976913431.0.\u001b[0m\n"
     ]
    },
    {
     "name": "stdout",
     "output_type": "stream",
     "text": [
      "Updated! 976913431.0\n",
      "callback ok\n",
      "index_parallel=5\n",
      "rm: cannot remove '5_out/*': No such file or directory\n",
      "rm: cannot remove '5_score/*': No such file or directory\n",
      "sed -i 5_main.cpp -e 's/^constexpr int hash_table_size = .*;         \\/\\/ OPTIMIZE \\[9, 18\\]$/constexpr int hash_table_size = 10;         \\/\\/ OPTIMIZE [9, 18]/' -e 's/^constexpr double K_START = .*;  \\/\\/ OPTIMIZE \\[0\\.04, 0\\.2\\] LOG$/constexpr double K_START = 0.07810478891838503;  \\/\\/ OPTIMIZE [0.04, 0.2] LOG/' -e 's/^constexpr double K_END = .*;   \\/\\/ OPTIMIZE \\[0\\.03, 0\\.1\\] LOG$/constexpr double K_END = 0.067590834623956;   \\/\\/ OPTIMIZE [0.03, 0.1] LOG/' -e 's/^constexpr double K_H = .*;      \\/\\/ OPTIMIZE \\[0\\.001, 0\\.999\\]$/constexpr double K_H = 0.05123437383372648;      \\/\\/ OPTIMIZE [0.001, 0.999]/' -e 's/^constexpr short PURCHASE_TURN_LIMIT = .*;  \\/\\/ OPTIMIZE \\[790, 870\\]$/constexpr short PURCHASE_TURN_LIMIT = 867;  \\/\\/ OPTIMIZE [790, 870]/' -e 's/^constexpr int ROUGH_HASH = .*;      \\/\\/ OPTIMIZE {0, 0b00000001, 0b00010001, 0b00010011, 0b00110011}$/constexpr int ROUGH_HASH = 0b00000001;      \\/\\/ OPTIMIZE {0, 0b00000001, 0b00010001, 0b00010011, 0b00110011}/' -e 's/^constexpr double TARGET_BEAM_WIDTH_INCREASE_RATE = .*;      \\/\\/ OPTIMIZE \\[0\\.25, 4\\.0\\] LOG$/constexpr double TARGET_BEAM_WIDTH_INCREASE_RATE = 0.33960329271945283;      \\/\\/ OPTIMIZE [0.25, 4.0] LOG/' -e 's/^constexpr double TARGET_BEAM_WIDTH_HALF_PROGRES_RATE = .*;  \\/\\/ OPTIMIZE \\[0\\.02, 0\\.98\\]$/constexpr double TARGET_BEAM_WIDTH_HALF_PROGRES_RATE = 0.33246694243420616;  \\/\\/ OPTIMIZE [0.02, 0.98]/' -e 's/^constexpr auto MAX_BEAM_WIDTH = .*;                        \\/\\/ OPTIMIZE \\[400, 4000\\] LOG$/constexpr auto MAX_BEAM_WIDTH = 653;                        \\/\\/ OPTIMIZE [400, 4000] LOG/'\n",
      "g++ 5_main.cpp -std=gnu++17 -O2 -DONLINE_JUDGE -o 5_main.cpp.out 2> /dev/null\n"
     ]
    },
    {
     "name": "stderr",
     "output_type": "stream",
     "text": [
      "\u001b[32m[I 2021-09-11 02:02:38,403]\u001b[0m Trial 1 finished with value: 938829484.0 and parameters: {'hash_table_size': 17, 'K_START': 0.1047085443252807, 'K_END': 0.03610129260889597, 'K_H': 0.11782236554336321, 'PURCHASE_TURN_LIMIT': 797, 'ROUGH_HASH': '0b00110011', 'TARGET_BEAM_WIDTH_INCREASE_RATE': 0.39293166415477404, 'TARGET_BEAM_WIDTH_HALF_PROGRES_RATE': 0.468441493157694, 'MAX_BEAM_WIDTH': 837}. Best is trial 0 with value: 976913431.0.\u001b[0m\n"
     ]
    },
    {
     "name": "stdout",
     "output_type": "stream",
     "text": [
      "callback ok\n",
      "index_parallel=6\n",
      "rm: cannot remove '6_out/*': No such file or directory\n",
      "rm: cannot remove '6_score/*': No such file or directory\n",
      "sed -i 6_main.cpp -e 's/^constexpr int hash_table_size = .*;         \\/\\/ OPTIMIZE \\[9, 18\\]$/constexpr int hash_table_size = 17;         \\/\\/ OPTIMIZE [9, 18]/' -e 's/^constexpr double K_START = .*;  \\/\\/ OPTIMIZE \\[0\\.04, 0\\.2\\] LOG$/constexpr double K_START = 0.08419663783448586;  \\/\\/ OPTIMIZE [0.04, 0.2] LOG/' -e 's/^constexpr double K_END = .*;   \\/\\/ OPTIMIZE \\[0\\.03, 0\\.1\\] LOG$/constexpr double K_END = 0.07278205215550367;   \\/\\/ OPTIMIZE [0.03, 0.1] LOG/' -e 's/^constexpr double K_H = .*;      \\/\\/ OPTIMIZE \\[0\\.001, 0\\.999\\]$/constexpr double K_H = 0.6011009754095767;      \\/\\/ OPTIMIZE [0.001, 0.999]/' -e 's/^constexpr short PURCHASE_TURN_LIMIT = .*;  \\/\\/ OPTIMIZE \\[790, 870\\]$/constexpr short PURCHASE_TURN_LIMIT = 812;  \\/\\/ OPTIMIZE [790, 870]/' -e 's/^constexpr int ROUGH_HASH = .*;      \\/\\/ OPTIMIZE {0, 0b00000001, 0b00010001, 0b00010011, 0b00110011}$/constexpr int ROUGH_HASH = 0b00110011;      \\/\\/ OPTIMIZE {0, 0b00000001, 0b00010001, 0b00010011, 0b00110011}/' -e 's/^constexpr double TARGET_BEAM_WIDTH_INCREASE_RATE = .*;      \\/\\/ OPTIMIZE \\[0\\.25, 4\\.0\\] LOG$/constexpr double TARGET_BEAM_WIDTH_INCREASE_RATE = 3.6130734999083396;      \\/\\/ OPTIMIZE [0.25, 4.0] LOG/' -e 's/^constexpr double TARGET_BEAM_WIDTH_HALF_PROGRES_RATE = .*;  \\/\\/ OPTIMIZE \\[0\\.02, 0\\.98\\]$/constexpr double TARGET_BEAM_WIDTH_HALF_PROGRES_RATE = 0.7482669342921872;  \\/\\/ OPTIMIZE [0.02, 0.98]/' -e 's/^constexpr auto MAX_BEAM_WIDTH = .*;                        \\/\\/ OPTIMIZE \\[400, 4000\\] LOG$/constexpr auto MAX_BEAM_WIDTH = 1471;                        \\/\\/ OPTIMIZE [400, 4000] LOG/'\n",
      "g++ 6_main.cpp -std=gnu++17 -O2 -DONLINE_JUDGE -o 6_main.cpp.out 2> /dev/null\n"
     ]
    },
    {
     "name": "stderr",
     "output_type": "stream",
     "text": [
      "\u001b[32m[I 2021-09-11 02:02:41,563]\u001b[0m Trial 3 finished with value: 955554995.0 and parameters: {'hash_table_size': 12, 'K_START': 0.11877157589047212, 'K_END': 0.0661751048316381, 'K_H': 0.6062071803979464, 'PURCHASE_TURN_LIMIT': 803, 'ROUGH_HASH': '0', 'TARGET_BEAM_WIDTH_INCREASE_RATE': 0.36978758243854837, 'TARGET_BEAM_WIDTH_HALF_PROGRES_RATE': 0.44078179895914826, 'MAX_BEAM_WIDTH': 1959}. Best is trial 0 with value: 976913431.0.\u001b[0m\n"
     ]
    },
    {
     "name": "stdout",
     "output_type": "stream",
     "text": [
      "callback ok\n",
      "index_parallel=7\n",
      "rm: cannot remove '7_out/*': No such file or directory\n",
      "rm: cannot remove '7_score/*': No such file or directory\n",
      "sed -i 7_main.cpp -e 's/^constexpr int hash_table_size = .*;         \\/\\/ OPTIMIZE \\[9, 18\\]$/constexpr int hash_table_size = 15;         \\/\\/ OPTIMIZE [9, 18]/' -e 's/^constexpr double K_START = .*;  \\/\\/ OPTIMIZE \\[0\\.04, 0\\.2\\] LOG$/constexpr double K_START = 0.12533858893693178;  \\/\\/ OPTIMIZE [0.04, 0.2] LOG/' -e 's/^constexpr double K_END = .*;   \\/\\/ OPTIMIZE \\[0\\.03, 0\\.1\\] LOG$/constexpr double K_END = 0.03482156353677146;   \\/\\/ OPTIMIZE [0.03, 0.1] LOG/' -e 's/^constexpr double K_H = .*;      \\/\\/ OPTIMIZE \\[0\\.001, 0\\.999\\]$/constexpr double K_H = 0.8692639930725636;      \\/\\/ OPTIMIZE [0.001, 0.999]/' -e 's/^constexpr short PURCHASE_TURN_LIMIT = .*;  \\/\\/ OPTIMIZE \\[790, 870\\]$/constexpr short PURCHASE_TURN_LIMIT = 833;  \\/\\/ OPTIMIZE [790, 870]/' -e 's/^constexpr int ROUGH_HASH = .*;      \\/\\/ OPTIMIZE {0, 0b00000001, 0b00010001, 0b00010011, 0b00110011}$/constexpr int ROUGH_HASH = 0b00010001;      \\/\\/ OPTIMIZE {0, 0b00000001, 0b00010001, 0b00010011, 0b00110011}/' -e 's/^constexpr double TARGET_BEAM_WIDTH_INCREASE_RATE = .*;      \\/\\/ OPTIMIZE \\[0\\.25, 4\\.0\\] LOG$/constexpr double TARGET_BEAM_WIDTH_INCREASE_RATE = 2.7674538818092937;      \\/\\/ OPTIMIZE [0.25, 4.0] LOG/' -e 's/^constexpr double TARGET_BEAM_WIDTH_HALF_PROGRES_RATE = .*;  \\/\\/ OPTIMIZE \\[0\\.02, 0\\.98\\]$/constexpr double TARGET_BEAM_WIDTH_HALF_PROGRES_RATE = 0.33246145658897625;  \\/\\/ OPTIMIZE [0.02, 0.98]/' -e 's/^constexpr auto MAX_BEAM_WIDTH = .*;                        \\/\\/ OPTIMIZE \\[400, 4000\\] LOG$/constexpr auto MAX_BEAM_WIDTH = 626;                        \\/\\/ OPTIMIZE [400, 4000] LOG/'\n",
      "g++ 7_main.cpp -std=gnu++17 -O2 -DONLINE_JUDGE -o 7_main.cpp.out 2> /dev/null\n"
     ]
    },
    {
     "name": "stderr",
     "output_type": "stream",
     "text": [
      "\u001b[32m[I 2021-09-11 02:04:14,207]\u001b[0m Trial 4 finished with value: 975641811.0 and parameters: {'hash_table_size': 17, 'K_START': 0.07713976944272556, 'K_END': 0.0644540146809443, 'K_H': 0.3181829872667264, 'PURCHASE_TURN_LIMIT': 844, 'ROUGH_HASH': '0b00010011', 'TARGET_BEAM_WIDTH_INCREASE_RATE': 0.8314631261003996, 'TARGET_BEAM_WIDTH_HALF_PROGRES_RATE': 0.9319738817134571, 'MAX_BEAM_WIDTH': 1568}. Best is trial 0 with value: 976913431.0.\u001b[0m\n"
     ]
    },
    {
     "name": "stdout",
     "output_type": "stream",
     "text": [
      "callback ok\n",
      "index_parallel=8\n",
      "rm: cannot remove '8_out/*': No such file or directory\n",
      "rm: cannot remove '8_score/*': No such file or directory\n",
      "sed -i 8_main.cpp -e 's/^constexpr int hash_table_size = .*;         \\/\\/ OPTIMIZE \\[9, 18\\]$/constexpr int hash_table_size = 17;         \\/\\/ OPTIMIZE [9, 18]/' -e 's/^constexpr double K_START = .*;  \\/\\/ OPTIMIZE \\[0\\.04, 0\\.2\\] LOG$/constexpr double K_START = 0.08286570566623046;  \\/\\/ OPTIMIZE [0.04, 0.2] LOG/' -e 's/^constexpr double K_END = .*;   \\/\\/ OPTIMIZE \\[0\\.03, 0\\.1\\] LOG$/constexpr double K_END = 0.06444596090772611;   \\/\\/ OPTIMIZE [0.03, 0.1] LOG/' -e 's/^constexpr double K_H = .*;      \\/\\/ OPTIMIZE \\[0\\.001, 0\\.999\\]$/constexpr double K_H = 0.9594611197785056;      \\/\\/ OPTIMIZE [0.001, 0.999]/' -e 's/^constexpr short PURCHASE_TURN_LIMIT = .*;  \\/\\/ OPTIMIZE \\[790, 870\\]$/constexpr short PURCHASE_TURN_LIMIT = 814;  \\/\\/ OPTIMIZE [790, 870]/' -e 's/^constexpr int ROUGH_HASH = .*;      \\/\\/ OPTIMIZE {0, 0b00000001, 0b00010001, 0b00010011, 0b00110011}$/constexpr int ROUGH_HASH = 0b00010001;      \\/\\/ OPTIMIZE {0, 0b00000001, 0b00010001, 0b00010011, 0b00110011}/' -e 's/^constexpr double TARGET_BEAM_WIDTH_INCREASE_RATE = .*;      \\/\\/ OPTIMIZE \\[0\\.25, 4\\.0\\] LOG$/constexpr double TARGET_BEAM_WIDTH_INCREASE_RATE = 0.48563648400410064;      \\/\\/ OPTIMIZE [0.25, 4.0] LOG/' -e 's/^constexpr double TARGET_BEAM_WIDTH_HALF_PROGRES_RATE = .*;  \\/\\/ OPTIMIZE \\[0\\.02, 0\\.98\\]$/constexpr double TARGET_BEAM_WIDTH_HALF_PROGRES_RATE = 0.17140489089566852;  \\/\\/ OPTIMIZE [0.02, 0.98]/' -e 's/^constexpr auto MAX_BEAM_WIDTH = .*;                        \\/\\/ OPTIMIZE \\[400, 4000\\] LOG$/constexpr auto MAX_BEAM_WIDTH = 573;                        \\/\\/ OPTIMIZE [400, 4000] LOG/'\n",
      "g++ 8_main.cpp -std=gnu++17 -O2 -DONLINE_JUDGE -o 8_main.cpp.out 2> /dev/null\n"
     ]
    },
    {
     "name": "stderr",
     "output_type": "stream",
     "text": [
      "\u001b[32m[I 2021-09-11 02:04:22,509]\u001b[0m Trial 5 finished with value: 952258681.0 and parameters: {'hash_table_size': 10, 'K_START': 0.07810478891838503, 'K_END': 0.067590834623956, 'K_H': 0.05123437383372648, 'PURCHASE_TURN_LIMIT': 867, 'ROUGH_HASH': '0b00000001', 'TARGET_BEAM_WIDTH_INCREASE_RATE': 0.33960329271945283, 'TARGET_BEAM_WIDTH_HALF_PROGRES_RATE': 0.33246694243420616, 'MAX_BEAM_WIDTH': 653}. Best is trial 0 with value: 976913431.0.\u001b[0m\n"
     ]
    },
    {
     "name": "stdout",
     "output_type": "stream",
     "text": [
      "callback ok\n",
      "index_parallel=9\n",
      "rm: cannot remove '9_out/*': No such file or directory\n",
      "rm: cannot remove '9_score/*': No such file or directory\n"
     ]
    },
    {
     "name": "stderr",
     "output_type": "stream",
     "text": [
      "\u001b[32m[I 2021-09-11 02:04:22,928]\u001b[0m Trial 7 finished with value: 969303837.0 and parameters: {'hash_table_size': 15, 'K_START': 0.12533858893693178, 'K_END': 0.03482156353677146, 'K_H': 0.8692639930725636, 'PURCHASE_TURN_LIMIT': 833, 'ROUGH_HASH': '0b00010001', 'TARGET_BEAM_WIDTH_INCREASE_RATE': 2.7674538818092937, 'TARGET_BEAM_WIDTH_HALF_PROGRES_RATE': 0.33246145658897625, 'MAX_BEAM_WIDTH': 626}. Best is trial 0 with value: 976913431.0.\u001b[0m\n"
     ]
    },
    {
     "name": "stdout",
     "output_type": "stream",
     "text": [
      "callback ok\n",
      "index_parallel=10\n",
      "rm: cannot remove '10_out/*': No such file or directory\n",
      "rm: cannot remove '10_score/*': No such file or directory\n",
      "sed -i 9_main.cpp -e 's/^constexpr int hash_table_size = .*;         \\/\\/ OPTIMIZE \\[9, 18\\]$/constexpr int hash_table_size = 11;         \\/\\/ OPTIMIZE [9, 18]/' -e 's/^constexpr double K_START = .*;  \\/\\/ OPTIMIZE \\[0\\.04, 0\\.2\\] LOG$/constexpr double K_START = 0.0964859027159489;  \\/\\/ OPTIMIZE [0.04, 0.2] LOG/' -e 's/^constexpr double K_END = .*;   \\/\\/ OPTIMIZE \\[0\\.03, 0\\.1\\] LOG$/constexpr double K_END = 0.05310496330613073;   \\/\\/ OPTIMIZE [0.03, 0.1] LOG/' -e 's/^constexpr double K_H = .*;      \\/\\/ OPTIMIZE \\[0\\.001, 0\\.999\\]$/constexpr double K_H = 0.11632143348898956;      \\/\\/ OPTIMIZE [0.001, 0.999]/' -e 's/^constexpr short PURCHASE_TURN_LIMIT = .*;  \\/\\/ OPTIMIZE \\[790, 870\\]$/constexpr short PURCHASE_TURN_LIMIT = 802;  \\/\\/ OPTIMIZE [790, 870]/' -e 's/^constexpr int ROUGH_HASH = .*;      \\/\\/ OPTIMIZE {0, 0b00000001, 0b00010001, 0b00010011, 0b00110011}$/constexpr int ROUGH_HASH = 0b00010011;      \\/\\/ OPTIMIZE {0, 0b00000001, 0b00010001, 0b00010011, 0b00110011}/' -e 's/^constexpr double TARGET_BEAM_WIDTH_INCREASE_RATE = .*;      \\/\\/ OPTIMIZE \\[0\\.25, 4\\.0\\] LOG$/constexpr double TARGET_BEAM_WIDTH_INCREASE_RATE = 0.6594650627268429;      \\/\\/ OPTIMIZE [0.25, 4.0] LOG/' -e 's/^constexpr double TARGET_BEAM_WIDTH_HALF_PROGRES_RATE = .*;  \\/\\/ OPTIMIZE \\[0\\.02, 0\\.98\\]$/constexpr double TARGET_BEAM_WIDTH_HALF_PROGRES_RATE = 0.4842920064295667;  \\/\\/ OPTIMIZE [0.02, 0.98]/' -e 's/^constexpr auto MAX_BEAM_WIDTH = .*;                        \\/\\/ OPTIMIZE \\[400, 4000\\] LOG$/constexpr auto MAX_BEAM_WIDTH = 1046;                        \\/\\/ OPTIMIZE [400, 4000] LOG/'\n",
      "g++ 9_main.cpp -std=gnu++17 -O2 -DONLINE_JUDGE -o 9_main.cpp.out 2> /dev/null\n",
      "sed -i 10_main.cpp -e 's/^constexpr int hash_table_size = .*;         \\/\\/ OPTIMIZE \\[9, 18\\]$/constexpr int hash_table_size = 12;         \\/\\/ OPTIMIZE [9, 18]/' -e 's/^constexpr double K_START = .*;  \\/\\/ OPTIMIZE \\[0\\.04, 0\\.2\\] LOG$/constexpr double K_START = 0.04477938621176998;  \\/\\/ OPTIMIZE [0.04, 0.2] LOG/' -e 's/^constexpr double K_END = .*;   \\/\\/ OPTIMIZE \\[0\\.03, 0\\.1\\] LOG$/constexpr double K_END = 0.07495810345319072;   \\/\\/ OPTIMIZE [0.03, 0.1] LOG/' -e 's/^constexpr double K_H = .*;      \\/\\/ OPTIMIZE \\[0\\.001, 0\\.999\\]$/constexpr double K_H = 0.3909011278951626;      \\/\\/ OPTIMIZE [0.001, 0.999]/' -e 's/^constexpr short PURCHASE_TURN_LIMIT = .*;  \\/\\/ OPTIMIZE \\[790, 870\\]$/constexpr short PURCHASE_TURN_LIMIT = 805;  \\/\\/ OPTIMIZE [790, 870]/' -e 's/^constexpr int ROUGH_HASH = .*;      \\/\\/ OPTIMIZE {0, 0b00000001, 0b00010001, 0b00010011, 0b00110011}$/constexpr int ROUGH_HASH = 0b00010001;      \\/\\/ OPTIMIZE {0, 0b00000001, 0b00010001, 0b00010011, 0b00110011}/' -e 's/^constexpr double TARGET_BEAM_WIDTH_INCREASE_RATE = .*;      \\/\\/ OPTIMIZE \\[0\\.25, 4\\.0\\] LOG$/constexpr double TARGET_BEAM_WIDTH_INCREASE_RATE = 0.6444772514845156;      \\/\\/ OPTIMIZE [0.25, 4.0] LOG/' -e 's/^constexpr double TARGET_BEAM_WIDTH_HALF_PROGRES_RATE = .*;  \\/\\/ OPTIMIZE \\[0\\.02, 0\\.98\\]$/constexpr double TARGET_BEAM_WIDTH_HALF_PROGRES_RATE = 0.1850045471849493;  \\/\\/ OPTIMIZE [0.02, 0.98]/' -e 's/^constexpr auto MAX_BEAM_WIDTH = .*;                        \\/\\/ OPTIMIZE \\[400, 4000\\] LOG$/constexpr auto MAX_BEAM_WIDTH = 1613;                        \\/\\/ OPTIMIZE [400, 4000] LOG/'\n"
     ]
    },
    {
     "name": "stderr",
     "output_type": "stream",
     "text": [
      "\u001b[32m[I 2021-09-11 02:04:24,188]\u001b[0m Trial 6 finished with value: 968408147.0 and parameters: {'hash_table_size': 17, 'K_START': 0.08419663783448586, 'K_END': 0.07278205215550367, 'K_H': 0.6011009754095767, 'PURCHASE_TURN_LIMIT': 812, 'ROUGH_HASH': '0b00110011', 'TARGET_BEAM_WIDTH_INCREASE_RATE': 3.6130734999083396, 'TARGET_BEAM_WIDTH_HALF_PROGRES_RATE': 0.7482669342921872, 'MAX_BEAM_WIDTH': 1471}. Best is trial 0 with value: 976913431.0.\u001b[0m\n"
     ]
    },
    {
     "name": "stdout",
     "output_type": "stream",
     "text": [
      "callback ok\n",
      "index_parallel=11\n",
      "g++ 10_main.cpp -std=gnu++17 -O2 -DONLINE_JUDGE -o 10_main.cpp.out 2> /dev/null\n",
      "rm: cannot remove '11_out/*': No such file or directory\n",
      "rm: cannot remove '11_score/*': No such file or directory\n",
      "sed -i 11_main.cpp -e 's/^constexpr int hash_table_size = .*;         \\/\\/ OPTIMIZE \\[9, 18\\]$/constexpr int hash_table_size = 9;         \\/\\/ OPTIMIZE [9, 18]/' -e 's/^constexpr double K_START = .*;  \\/\\/ OPTIMIZE \\[0\\.04, 0\\.2\\] LOG$/constexpr double K_START = 0.08815440397466986;  \\/\\/ OPTIMIZE [0.04, 0.2] LOG/' -e 's/^constexpr double K_END = .*;   \\/\\/ OPTIMIZE \\[0\\.03, 0\\.1\\] LOG$/constexpr double K_END = 0.049587460646411556;   \\/\\/ OPTIMIZE [0.03, 0.1] LOG/' -e 's/^constexpr double K_H = .*;      \\/\\/ OPTIMIZE \\[0\\.001, 0\\.999\\]$/constexpr double K_H = 0.6417034040252402;      \\/\\/ OPTIMIZE [0.001, 0.999]/' -e 's/^constexpr short PURCHASE_TURN_LIMIT = .*;  \\/\\/ OPTIMIZE \\[790, 870\\]$/constexpr short PURCHASE_TURN_LIMIT = 843;  \\/\\/ OPTIMIZE [790, 870]/' -e 's/^constexpr int ROUGH_HASH = .*;      \\/\\/ OPTIMIZE {0, 0b00000001, 0b00010001, 0b00010011, 0b00110011}$/constexpr int ROUGH_HASH = 0b00010001;      \\/\\/ OPTIMIZE {0, 0b00000001, 0b00010001, 0b00010011, 0b00110011}/' -e 's/^constexpr double TARGET_BEAM_WIDTH_INCREASE_RATE = .*;      \\/\\/ OPTIMIZE \\[0\\.25, 4\\.0\\] LOG$/constexpr double TARGET_BEAM_WIDTH_INCREASE_RATE = 2.6152035612988596;      \\/\\/ OPTIMIZE [0.25, 4.0] LOG/' -e 's/^constexpr double TARGET_BEAM_WIDTH_HALF_PROGRES_RATE = .*;  \\/\\/ OPTIMIZE \\[0\\.02, 0\\.98\\]$/constexpr double TARGET_BEAM_WIDTH_HALF_PROGRES_RATE = 0.08816347986656212;  \\/\\/ OPTIMIZE [0.02, 0.98]/' -e 's/^constexpr auto MAX_BEAM_WIDTH = .*;                        \\/\\/ OPTIMIZE \\[400, 4000\\] LOG$/constexpr auto MAX_BEAM_WIDTH = 588;                        \\/\\/ OPTIMIZE [400, 4000] LOG/'\n",
      "g++ 11_main.cpp -std=gnu++17 -O2 -DONLINE_JUDGE -o 11_main.cpp.out 2> /dev/null\n"
     ]
    },
    {
     "name": "stderr",
     "output_type": "stream",
     "text": [
      "\u001b[32m[I 2021-09-11 02:06:00,293]\u001b[0m Trial 8 finished with value: 964196934.0 and parameters: {'hash_table_size': 17, 'K_START': 0.08286570566623046, 'K_END': 0.06444596090772611, 'K_H': 0.9594611197785056, 'PURCHASE_TURN_LIMIT': 814, 'ROUGH_HASH': '0b00010001', 'TARGET_BEAM_WIDTH_INCREASE_RATE': 0.48563648400410064, 'TARGET_BEAM_WIDTH_HALF_PROGRES_RATE': 0.17140489089566852, 'MAX_BEAM_WIDTH': 573}. Best is trial 0 with value: 976913431.0.\u001b[0m\n"
     ]
    },
    {
     "name": "stdout",
     "output_type": "stream",
     "text": [
      "callback ok\n",
      "index_parallel=0\n",
      "sed -i 0_main.cpp -e 's/^constexpr int hash_table_size = .*;         \\/\\/ OPTIMIZE \\[9, 18\\]$/constexpr int hash_table_size = 12;         \\/\\/ OPTIMIZE [9, 18]/' -e 's/^constexpr double K_START = .*;  \\/\\/ OPTIMIZE \\[0\\.04, 0\\.2\\] LOG$/constexpr double K_START = 0.18588115242381037;  \\/\\/ OPTIMIZE [0.04, 0.2] LOG/' -e 's/^constexpr double K_END = .*;   \\/\\/ OPTIMIZE \\[0\\.03, 0\\.1\\] LOG$/constexpr double K_END = 0.049697245307889645;   \\/\\/ OPTIMIZE [0.03, 0.1] LOG/' -e 's/^constexpr double K_H = .*;      \\/\\/ OPTIMIZE \\[0\\.001, 0\\.999\\]$/constexpr double K_H = 0.2956113061784033;      \\/\\/ OPTIMIZE [0.001, 0.999]/' -e 's/^constexpr short PURCHASE_TURN_LIMIT = .*;  \\/\\/ OPTIMIZE \\[790, 870\\]$/constexpr short PURCHASE_TURN_LIMIT = 804;  \\/\\/ OPTIMIZE [790, 870]/' -e 's/^constexpr int ROUGH_HASH = .*;      \\/\\/ OPTIMIZE {0, 0b00000001, 0b00010001, 0b00010011, 0b00110011}$/constexpr int ROUGH_HASH = 0b00010011;      \\/\\/ OPTIMIZE {0, 0b00000001, 0b00010001, 0b00010011, 0b00110011}/' -e 's/^constexpr double TARGET_BEAM_WIDTH_INCREASE_RATE = .*;      \\/\\/ OPTIMIZE \\[0\\.25, 4\\.0\\] LOG$/constexpr double TARGET_BEAM_WIDTH_INCREASE_RATE = 0.28456716880029753;      \\/\\/ OPTIMIZE [0.25, 4.0] LOG/' -e 's/^constexpr double TARGET_BEAM_WIDTH_HALF_PROGRES_RATE = .*;  \\/\\/ OPTIMIZE \\[0\\.02, 0\\.98\\]$/constexpr double TARGET_BEAM_WIDTH_HALF_PROGRES_RATE = 0.6706640215818339;  \\/\\/ OPTIMIZE [0.02, 0.98]/' -e 's/^constexpr auto MAX_BEAM_WIDTH = .*;                        \\/\\/ OPTIMIZE \\[400, 4000\\] LOG$/constexpr auto MAX_BEAM_WIDTH = 1301;                        \\/\\/ OPTIMIZE [400, 4000] LOG/'\n",
      "g++ 0_main.cpp -std=gnu++17 -O2 -DONLINE_JUDGE -o 0_main.cpp.out 2> /dev/null\n"
     ]
    },
    {
     "name": "stderr",
     "output_type": "stream",
     "text": [
      "\u001b[32m[I 2021-09-11 02:06:02,850]\u001b[0m Trial 11 finished with value: 989217467.0 and parameters: {'hash_table_size': 9, 'K_START': 0.08815440397466986, 'K_END': 0.049587460646411556, 'K_H': 0.6417034040252402, 'PURCHASE_TURN_LIMIT': 843, 'ROUGH_HASH': '0b00010001', 'TARGET_BEAM_WIDTH_INCREASE_RATE': 2.6152035612988596, 'TARGET_BEAM_WIDTH_HALF_PROGRES_RATE': 0.08816347986656212, 'MAX_BEAM_WIDTH': 588}. Best is trial 11 with value: 989217467.0.\u001b[0m\n"
     ]
    },
    {
     "name": "stdout",
     "output_type": "stream",
     "text": [
      "Updated! 989217467.0\n",
      "callback ok\n",
      "index_parallel=1\n",
      "sed -i 1_main.cpp -e 's/^constexpr int hash_table_size = .*;         \\/\\/ OPTIMIZE \\[9, 18\\]$/constexpr int hash_table_size = 9;         \\/\\/ OPTIMIZE [9, 18]/' -e 's/^constexpr double K_START = .*;  \\/\\/ OPTIMIZE \\[0\\.04, 0\\.2\\] LOG$/constexpr double K_START = 0.18126084110388005;  \\/\\/ OPTIMIZE [0.04, 0.2] LOG/' -e 's/^constexpr double K_END = .*;   \\/\\/ OPTIMIZE \\[0\\.03, 0\\.1\\] LOG$/constexpr double K_END = 0.046201402061983046;   \\/\\/ OPTIMIZE [0.03, 0.1] LOG/' -e 's/^constexpr double K_H = .*;      \\/\\/ OPTIMIZE \\[0\\.001, 0\\.999\\]$/constexpr double K_H = 0.4300475472119264;      \\/\\/ OPTIMIZE [0.001, 0.999]/' -e 's/^constexpr short PURCHASE_TURN_LIMIT = .*;  \\/\\/ OPTIMIZE \\[790, 870\\]$/constexpr short PURCHASE_TURN_LIMIT = 855;  \\/\\/ OPTIMIZE [790, 870]/' -e 's/^constexpr int ROUGH_HASH = .*;      \\/\\/ OPTIMIZE {0, 0b00000001, 0b00010001, 0b00010011, 0b00110011}$/constexpr int ROUGH_HASH = 0b00010001;      \\/\\/ OPTIMIZE {0, 0b00000001, 0b00010001, 0b00010011, 0b00110011}/' -e 's/^constexpr double TARGET_BEAM_WIDTH_INCREASE_RATE = .*;      \\/\\/ OPTIMIZE \\[0\\.25, 4\\.0\\] LOG$/constexpr double TARGET_BEAM_WIDTH_INCREASE_RATE = 1.3043352524796088;      \\/\\/ OPTIMIZE [0.25, 4.0] LOG/' -e 's/^constexpr double TARGET_BEAM_WIDTH_HALF_PROGRES_RATE = .*;  \\/\\/ OPTIMIZE \\[0\\.02, 0\\.98\\]$/constexpr double TARGET_BEAM_WIDTH_HALF_PROGRES_RATE = 0.023381262529186222;  \\/\\/ OPTIMIZE [0.02, 0.98]/' -e 's/^constexpr auto MAX_BEAM_WIDTH = .*;                        \\/\\/ OPTIMIZE \\[400, 4000\\] LOG$/constexpr auto MAX_BEAM_WIDTH = 403;                        \\/\\/ OPTIMIZE [400, 4000] LOG/'\n",
      "g++ 1_main.cpp -std=gnu++17 -O2 -DONLINE_JUDGE -o 1_main.cpp.out 2> /dev/null\n"
     ]
    },
    {
     "name": "stderr",
     "output_type": "stream",
     "text": [
      "\u001b[32m[I 2021-09-11 02:06:06,738]\u001b[0m Trial 10 finished with value: 959084855.0 and parameters: {'hash_table_size': 12, 'K_START': 0.04477938621176998, 'K_END': 0.07495810345319072, 'K_H': 0.3909011278951626, 'PURCHASE_TURN_LIMIT': 805, 'ROUGH_HASH': '0b00010001', 'TARGET_BEAM_WIDTH_INCREASE_RATE': 0.6444772514845156, 'TARGET_BEAM_WIDTH_HALF_PROGRES_RATE': 0.1850045471849493, 'MAX_BEAM_WIDTH': 1613}. Best is trial 11 with value: 989217467.0.\u001b[0m\n"
     ]
    },
    {
     "name": "stdout",
     "output_type": "stream",
     "text": [
      "callback ok\n",
      "index_parallel=2\n",
      "sed -i 2_main.cpp -e 's/^constexpr int hash_table_size = .*;         \\/\\/ OPTIMIZE \\[9, 18\\]$/constexpr int hash_table_size = 14;         \\/\\/ OPTIMIZE [9, 18]/' -e 's/^constexpr double K_START = .*;  \\/\\/ OPTIMIZE \\[0\\.04, 0\\.2\\] LOG$/constexpr double K_START = 0.052855501879432124;  \\/\\/ OPTIMIZE [0.04, 0.2] LOG/' -e 's/^constexpr double K_END = .*;   \\/\\/ OPTIMIZE \\[0\\.03, 0\\.1\\] LOG$/constexpr double K_END = 0.04861111224346202;   \\/\\/ OPTIMIZE [0.03, 0.1] LOG/' -e 's/^constexpr double K_H = .*;      \\/\\/ OPTIMIZE \\[0\\.001, 0\\.999\\]$/constexpr double K_H = 0.7449046898627545;      \\/\\/ OPTIMIZE [0.001, 0.999]/' -e 's/^constexpr short PURCHASE_TURN_LIMIT = .*;  \\/\\/ OPTIMIZE \\[790, 870\\]$/constexpr short PURCHASE_TURN_LIMIT = 852;  \\/\\/ OPTIMIZE [790, 870]/' -e 's/^constexpr int ROUGH_HASH = .*;      \\/\\/ OPTIMIZE {0, 0b00000001, 0b00010001, 0b00010011, 0b00110011}$/constexpr int ROUGH_HASH = 0b00000001;      \\/\\/ OPTIMIZE {0, 0b00000001, 0b00010001, 0b00010011, 0b00110011}/' -e 's/^constexpr double TARGET_BEAM_WIDTH_INCREASE_RATE = .*;      \\/\\/ OPTIMIZE \\[0\\.25, 4\\.0\\] LOG$/constexpr double TARGET_BEAM_WIDTH_INCREASE_RATE = 1.4578896171095674;      \\/\\/ OPTIMIZE [0.25, 4.0] LOG/' -e 's/^constexpr double TARGET_BEAM_WIDTH_HALF_PROGRES_RATE = .*;  \\/\\/ OPTIMIZE \\[0\\.02, 0\\.98\\]$/constexpr double TARGET_BEAM_WIDTH_HALF_PROGRES_RATE = 0.6902524778889214;  \\/\\/ OPTIMIZE [0.02, 0.98]/' -e 's/^constexpr auto MAX_BEAM_WIDTH = .*;                        \\/\\/ OPTIMIZE \\[400, 4000\\] LOG$/constexpr auto MAX_BEAM_WIDTH = 3820;                        \\/\\/ OPTIMIZE [400, 4000] LOG/'\n",
      "g++ 2_main.cpp -std=gnu++17 -O2 -DONLINE_JUDGE -o 2_main.cpp.out 2> /dev/null\n"
     ]
    },
    {
     "name": "stderr",
     "output_type": "stream",
     "text": [
      "\u001b[32m[I 2021-09-11 02:06:13,191]\u001b[0m Trial 9 finished with value: 963384961.0 and parameters: {'hash_table_size': 11, 'K_START': 0.0964859027159489, 'K_END': 0.05310496330613073, 'K_H': 0.11632143348898956, 'PURCHASE_TURN_LIMIT': 802, 'ROUGH_HASH': '0b00010011', 'TARGET_BEAM_WIDTH_INCREASE_RATE': 0.6594650627268429, 'TARGET_BEAM_WIDTH_HALF_PROGRES_RATE': 0.4842920064295667, 'MAX_BEAM_WIDTH': 1046}. Best is trial 11 with value: 989217467.0.\u001b[0m\n"
     ]
    },
    {
     "name": "stdout",
     "output_type": "stream",
     "text": [
      "callback ok\n",
      "index_parallel=3\n",
      "sed -i 3_main.cpp -e 's/^constexpr int hash_table_size = .*;         \\/\\/ OPTIMIZE \\[9, 18\\]$/constexpr int hash_table_size = 14;         \\/\\/ OPTIMIZE [9, 18]/' -e 's/^constexpr double K_START = .*;  \\/\\/ OPTIMIZE \\[0\\.04, 0\\.2\\] LOG$/constexpr double K_START = 0.16579149503715837;  \\/\\/ OPTIMIZE [0.04, 0.2] LOG/' -e 's/^constexpr double K_END = .*;   \\/\\/ OPTIMIZE \\[0\\.03, 0\\.1\\] LOG$/constexpr double K_END = 0.04597429041364704;   \\/\\/ OPTIMIZE [0.03, 0.1] LOG/' -e 's/^constexpr double K_H = .*;      \\/\\/ OPTIMIZE \\[0\\.001, 0\\.999\\]$/constexpr double K_H = 0.7634088995750786;      \\/\\/ OPTIMIZE [0.001, 0.999]/' -e 's/^constexpr short PURCHASE_TURN_LIMIT = .*;  \\/\\/ OPTIMIZE \\[790, 870\\]$/constexpr short PURCHASE_TURN_LIMIT = 853;  \\/\\/ OPTIMIZE [790, 870]/' -e 's/^constexpr int ROUGH_HASH = .*;      \\/\\/ OPTIMIZE {0, 0b00000001, 0b00010001, 0b00010011, 0b00110011}$/constexpr int ROUGH_HASH = 0b00000001;      \\/\\/ OPTIMIZE {0, 0b00000001, 0b00010001, 0b00010011, 0b00110011}/' -e 's/^constexpr double TARGET_BEAM_WIDTH_INCREASE_RATE = .*;      \\/\\/ OPTIMIZE \\[0\\.25, 4\\.0\\] LOG$/constexpr double TARGET_BEAM_WIDTH_INCREASE_RATE = 1.5054392697767343;      \\/\\/ OPTIMIZE [0.25, 4.0] LOG/' -e 's/^constexpr double TARGET_BEAM_WIDTH_HALF_PROGRES_RATE = .*;  \\/\\/ OPTIMIZE \\[0\\.02, 0\\.98\\]$/constexpr double TARGET_BEAM_WIDTH_HALF_PROGRES_RATE = 0.6888420031219286;  \\/\\/ OPTIMIZE [0.02, 0.98]/' -e 's/^constexpr auto MAX_BEAM_WIDTH = .*;                        \\/\\/ OPTIMIZE \\[400, 4000\\] LOG$/constexpr auto MAX_BEAM_WIDTH = 3679;                        \\/\\/ OPTIMIZE [400, 4000] LOG/'\n",
      "g++ 3_main.cpp -std=gnu++17 -O2 -DONLINE_JUDGE -o 3_main.cpp.out 2> /dev/null\n"
     ]
    },
    {
     "name": "stderr",
     "output_type": "stream",
     "text": [
      "\u001b[32m[I 2021-09-11 02:07:46,550]\u001b[0m Trial 13 finished with value: 974114838.0 and parameters: {'hash_table_size': 9, 'K_START': 0.18126084110388005, 'K_END': 0.046201402061983046, 'K_H': 0.4300475472119264, 'PURCHASE_TURN_LIMIT': 855, 'ROUGH_HASH': '0b00010001', 'TARGET_BEAM_WIDTH_INCREASE_RATE': 1.3043352524796088, 'TARGET_BEAM_WIDTH_HALF_PROGRES_RATE': 0.023381262529186222, 'MAX_BEAM_WIDTH': 403}. Best is trial 11 with value: 989217467.0.\u001b[0m\n"
     ]
    },
    {
     "name": "stdout",
     "output_type": "stream",
     "text": [
      "callback ok\n",
      "index_parallel=4\n",
      "sed -i 4_main.cpp -e 's/^constexpr int hash_table_size = .*;         \\/\\/ OPTIMIZE \\[9, 18\\]$/constexpr int hash_table_size = 14;         \\/\\/ OPTIMIZE [9, 18]/' -e 's/^constexpr double K_START = .*;  \\/\\/ OPTIMIZE \\[0\\.04, 0\\.2\\] LOG$/constexpr double K_START = 0.053911358570003926;  \\/\\/ OPTIMIZE [0.04, 0.2] LOG/' -e 's/^constexpr double K_END = .*;   \\/\\/ OPTIMIZE \\[0\\.03, 0\\.1\\] LOG$/constexpr double K_END = 0.0465594508344116;   \\/\\/ OPTIMIZE [0.03, 0.1] LOG/' -e 's/^constexpr double K_H = .*;      \\/\\/ OPTIMIZE \\[0\\.001, 0\\.999\\]$/constexpr double K_H = 0.7672008754657449;      \\/\\/ OPTIMIZE [0.001, 0.999]/' -e 's/^constexpr short PURCHASE_TURN_LIMIT = .*;  \\/\\/ OPTIMIZE \\[790, 870\\]$/constexpr short PURCHASE_TURN_LIMIT = 828;  \\/\\/ OPTIMIZE [790, 870]/' -e 's/^constexpr int ROUGH_HASH = .*;      \\/\\/ OPTIMIZE {0, 0b00000001, 0b00010001, 0b00010011, 0b00110011}$/constexpr int ROUGH_HASH = 0b00000001;      \\/\\/ OPTIMIZE {0, 0b00000001, 0b00010001, 0b00010011, 0b00110011}/' -e 's/^constexpr double TARGET_BEAM_WIDTH_INCREASE_RATE = .*;      \\/\\/ OPTIMIZE \\[0\\.25, 4\\.0\\] LOG$/constexpr double TARGET_BEAM_WIDTH_INCREASE_RATE = 1.5394396647714674;      \\/\\/ OPTIMIZE [0.25, 4.0] LOG/' -e 's/^constexpr double TARGET_BEAM_WIDTH_HALF_PROGRES_RATE = .*;  \\/\\/ OPTIMIZE \\[0\\.02, 0\\.98\\]$/constexpr double TARGET_BEAM_WIDTH_HALF_PROGRES_RATE = 0.6804583373286399;  \\/\\/ OPTIMIZE [0.02, 0.98]/' -e 's/^constexpr auto MAX_BEAM_WIDTH = .*;                        \\/\\/ OPTIMIZE \\[400, 4000\\] LOG$/constexpr auto MAX_BEAM_WIDTH = 3875;                        \\/\\/ OPTIMIZE [400, 4000] LOG/'\n",
      "g++ 4_main.cpp -std=gnu++17 -O2 -DONLINE_JUDGE -o 4_main.cpp.out 2> /dev/null\n"
     ]
    },
    {
     "name": "stderr",
     "output_type": "stream",
     "text": [
      "\u001b[32m[I 2021-09-11 02:07:48,143]\u001b[0m Trial 12 finished with value: 942203124.0 and parameters: {'hash_table_size': 12, 'K_START': 0.18588115242381037, 'K_END': 0.049697245307889645, 'K_H': 0.2956113061784033, 'PURCHASE_TURN_LIMIT': 804, 'ROUGH_HASH': '0b00010011', 'TARGET_BEAM_WIDTH_INCREASE_RATE': 0.28456716880029753, 'TARGET_BEAM_WIDTH_HALF_PROGRES_RATE': 0.6706640215818339, 'MAX_BEAM_WIDTH': 1301}. Best is trial 11 with value: 989217467.0.\u001b[0m\n"
     ]
    },
    {
     "name": "stdout",
     "output_type": "stream",
     "text": [
      "callback ok\n",
      "index_parallel=5\n",
      "sed -i 5_main.cpp -e 's/^constexpr int hash_table_size = .*;         \\/\\/ OPTIMIZE \\[9, 18\\]$/constexpr int hash_table_size = 14;         \\/\\/ OPTIMIZE [9, 18]/' -e 's/^constexpr double K_START = .*;  \\/\\/ OPTIMIZE \\[0\\.04, 0\\.2\\] LOG$/constexpr double K_START = 0.05697542620230798;  \\/\\/ OPTIMIZE [0.04, 0.2] LOG/' -e 's/^constexpr double K_END = .*;   \\/\\/ OPTIMIZE \\[0\\.03, 0\\.1\\] LOG$/constexpr double K_END = 0.09921162968423518;   \\/\\/ OPTIMIZE [0.03, 0.1] LOG/' -e 's/^constexpr double K_H = .*;      \\/\\/ OPTIMIZE \\[0\\.001, 0\\.999\\]$/constexpr double K_H = 0.7876965909967683;      \\/\\/ OPTIMIZE [0.001, 0.999]/' -e 's/^constexpr short PURCHASE_TURN_LIMIT = .*;  \\/\\/ OPTIMIZE \\[790, 870\\]$/constexpr short PURCHASE_TURN_LIMIT = 830;  \\/\\/ OPTIMIZE [790, 870]/' -e 's/^constexpr int ROUGH_HASH = .*;      \\/\\/ OPTIMIZE {0, 0b00000001, 0b00010001, 0b00010011, 0b00110011}$/constexpr int ROUGH_HASH = 0b00000001;      \\/\\/ OPTIMIZE {0, 0b00000001, 0b00010001, 0b00010011, 0b00110011}/' -e 's/^constexpr double TARGET_BEAM_WIDTH_INCREASE_RATE = .*;      \\/\\/ OPTIMIZE \\[0\\.25, 4\\.0\\] LOG$/constexpr double TARGET_BEAM_WIDTH_INCREASE_RATE = 1.5383132157170376;      \\/\\/ OPTIMIZE [0.25, 4.0] LOG/' -e 's/^constexpr double TARGET_BEAM_WIDTH_HALF_PROGRES_RATE = .*;  \\/\\/ OPTIMIZE \\[0\\.02, 0\\.98\\]$/constexpr double TARGET_BEAM_WIDTH_HALF_PROGRES_RATE = 0.7106371715753373;  \\/\\/ OPTIMIZE [0.02, 0.98]/' -e 's/^constexpr auto MAX_BEAM_WIDTH = .*;                        \\/\\/ OPTIMIZE \\[400, 4000\\] LOG$/constexpr auto MAX_BEAM_WIDTH = 3480;                        \\/\\/ OPTIMIZE [400, 4000] LOG/'\n",
      "g++ 5_main.cpp -std=gnu++17 -O2 -DONLINE_JUDGE -o 5_main.cpp.out 2> /dev/null\n"
     ]
    },
    {
     "name": "stderr",
     "output_type": "stream",
     "text": [
      "\u001b[32m[I 2021-09-11 02:07:53,982]\u001b[0m Trial 14 finished with value: 966393999.0 and parameters: {'hash_table_size': 14, 'K_START': 0.052855501879432124, 'K_END': 0.04861111224346202, 'K_H': 0.7449046898627545, 'PURCHASE_TURN_LIMIT': 852, 'ROUGH_HASH': '0b00000001', 'TARGET_BEAM_WIDTH_INCREASE_RATE': 1.4578896171095674, 'TARGET_BEAM_WIDTH_HALF_PROGRES_RATE': 0.6902524778889214, 'MAX_BEAM_WIDTH': 3820}. Best is trial 11 with value: 989217467.0.\u001b[0m\n"
     ]
    },
    {
     "name": "stdout",
     "output_type": "stream",
     "text": [
      "callback ok\n",
      "index_parallel=6\n",
      "sed -i 6_main.cpp -e 's/^constexpr int hash_table_size = .*;         \\/\\/ OPTIMIZE \\[9, 18\\]$/constexpr int hash_table_size = 15;         \\/\\/ OPTIMIZE [9, 18]/' -e 's/^constexpr double K_START = .*;  \\/\\/ OPTIMIZE \\[0\\.04, 0\\.2\\] LOG$/constexpr double K_START = 0.06323943319970371;  \\/\\/ OPTIMIZE [0.04, 0.2] LOG/' -e 's/^constexpr double K_END = .*;   \\/\\/ OPTIMIZE \\[0\\.03, 0\\.1\\] LOG$/constexpr double K_END = 0.09796582288090341;   \\/\\/ OPTIMIZE [0.03, 0.1] LOG/' -e 's/^constexpr double K_H = .*;      \\/\\/ OPTIMIZE \\[0\\.001, 0\\.999\\]$/constexpr double K_H = 0.7567418316690506;      \\/\\/ OPTIMIZE [0.001, 0.999]/' -e 's/^constexpr short PURCHASE_TURN_LIMIT = .*;  \\/\\/ OPTIMIZE \\[790, 870\\]$/constexpr short PURCHASE_TURN_LIMIT = 832;  \\/\\/ OPTIMIZE [790, 870]/' -e 's/^constexpr int ROUGH_HASH = .*;      \\/\\/ OPTIMIZE {0, 0b00000001, 0b00010001, 0b00010011, 0b00110011}$/constexpr int ROUGH_HASH = 0;      \\/\\/ OPTIMIZE {0, 0b00000001, 0b00010001, 0b00010011, 0b00110011}/' -e 's/^constexpr double TARGET_BEAM_WIDTH_INCREASE_RATE = .*;      \\/\\/ OPTIMIZE \\[0\\.25, 4\\.0\\] LOG$/constexpr double TARGET_BEAM_WIDTH_INCREASE_RATE = 1.73659494596055;      \\/\\/ OPTIMIZE [0.25, 4.0] LOG/' -e 's/^constexpr double TARGET_BEAM_WIDTH_HALF_PROGRES_RATE = .*;  \\/\\/ OPTIMIZE \\[0\\.02, 0\\.98\\]$/constexpr double TARGET_BEAM_WIDTH_HALF_PROGRES_RATE = 0.8304753108739549;  \\/\\/ OPTIMIZE [0.02, 0.98]/' -e 's/^constexpr auto MAX_BEAM_WIDTH = .*;                        \\/\\/ OPTIMIZE \\[400, 4000\\] LOG$/constexpr auto MAX_BEAM_WIDTH = 2737;                        \\/\\/ OPTIMIZE [400, 4000] LOG/'\n",
      "g++ 6_main.cpp -std=gnu++17 -O2 -DONLINE_JUDGE -o 6_main.cpp.out 2> /dev/null\n"
     ]
    },
    {
     "name": "stderr",
     "output_type": "stream",
     "text": [
      "\u001b[32m[I 2021-09-11 02:08:01,078]\u001b[0m Trial 15 finished with value: 971540875.0 and parameters: {'hash_table_size': 14, 'K_START': 0.16579149503715837, 'K_END': 0.04597429041364704, 'K_H': 0.7634088995750786, 'PURCHASE_TURN_LIMIT': 853, 'ROUGH_HASH': '0b00000001', 'TARGET_BEAM_WIDTH_INCREASE_RATE': 1.5054392697767343, 'TARGET_BEAM_WIDTH_HALF_PROGRES_RATE': 0.6888420031219286, 'MAX_BEAM_WIDTH': 3679}. Best is trial 11 with value: 989217467.0.\u001b[0m\n"
     ]
    },
    {
     "name": "stdout",
     "output_type": "stream",
     "text": [
      "callback ok\n",
      "index_parallel=7\n",
      "sed -i 7_main.cpp -e 's/^constexpr int hash_table_size = .*;         \\/\\/ OPTIMIZE \\[9, 18\\]$/constexpr int hash_table_size = 15;         \\/\\/ OPTIMIZE [9, 18]/' -e 's/^constexpr double K_START = .*;  \\/\\/ OPTIMIZE \\[0\\.04, 0\\.2\\] LOG$/constexpr double K_START = 0.06180433279275023;  \\/\\/ OPTIMIZE [0.04, 0.2] LOG/' -e 's/^constexpr double K_END = .*;   \\/\\/ OPTIMIZE \\[0\\.03, 0\\.1\\] LOG$/constexpr double K_END = 0.09440182021130633;   \\/\\/ OPTIMIZE [0.03, 0.1] LOG/' -e 's/^constexpr double K_H = .*;      \\/\\/ OPTIMIZE \\[0\\.001, 0\\.999\\]$/constexpr double K_H = 0.5652754270379698;      \\/\\/ OPTIMIZE [0.001, 0.999]/' -e 's/^constexpr short PURCHASE_TURN_LIMIT = .*;  \\/\\/ OPTIMIZE \\[790, 870\\]$/constexpr short PURCHASE_TURN_LIMIT = 828;  \\/\\/ OPTIMIZE [790, 870]/' -e 's/^constexpr int ROUGH_HASH = .*;      \\/\\/ OPTIMIZE {0, 0b00000001, 0b00010001, 0b00010011, 0b00110011}$/constexpr int ROUGH_HASH = 0;      \\/\\/ OPTIMIZE {0, 0b00000001, 0b00010001, 0b00010011, 0b00110011}/' -e 's/^constexpr double TARGET_BEAM_WIDTH_INCREASE_RATE = .*;      \\/\\/ OPTIMIZE \\[0\\.25, 4\\.0\\] LOG$/constexpr double TARGET_BEAM_WIDTH_INCREASE_RATE = 2.105864879618525;      \\/\\/ OPTIMIZE [0.25, 4.0] LOG/' -e 's/^constexpr double TARGET_BEAM_WIDTH_HALF_PROGRES_RATE = .*;  \\/\\/ OPTIMIZE \\[0\\.02, 0\\.98\\]$/constexpr double TARGET_BEAM_WIDTH_HALF_PROGRES_RATE = 0.8622238094982844;  \\/\\/ OPTIMIZE [0.02, 0.98]/' -e 's/^constexpr auto MAX_BEAM_WIDTH = .*;                        \\/\\/ OPTIMIZE \\[400, 4000\\] LOG$/constexpr auto MAX_BEAM_WIDTH = 2487;                        \\/\\/ OPTIMIZE [400, 4000] LOG/'\n",
      "g++ 7_main.cpp -std=gnu++17 -O2 -DONLINE_JUDGE -o 7_main.cpp.out 2> /dev/null\n"
     ]
    },
    {
     "name": "stderr",
     "output_type": "stream",
     "text": [
      "\u001b[32m[I 2021-09-11 02:09:33,097]\u001b[0m Trial 16 finished with value: 972561042.0 and parameters: {'hash_table_size': 14, 'K_START': 0.053911358570003926, 'K_END': 0.0465594508344116, 'K_H': 0.7672008754657449, 'PURCHASE_TURN_LIMIT': 828, 'ROUGH_HASH': '0b00000001', 'TARGET_BEAM_WIDTH_INCREASE_RATE': 1.5394396647714674, 'TARGET_BEAM_WIDTH_HALF_PROGRES_RATE': 0.6804583373286399, 'MAX_BEAM_WIDTH': 3875}. Best is trial 11 with value: 989217467.0.\u001b[0m\n"
     ]
    },
    {
     "name": "stdout",
     "output_type": "stream",
     "text": [
      "callback ok\n",
      "index_parallel=8\n",
      "sed -i 8_main.cpp -e 's/^constexpr int hash_table_size = .*;         \\/\\/ OPTIMIZE \\[9, 18\\]$/constexpr int hash_table_size = 15;         \\/\\/ OPTIMIZE [9, 18]/' -e 's/^constexpr double K_START = .*;  \\/\\/ OPTIMIZE \\[0\\.04, 0\\.2\\] LOG$/constexpr double K_START = 0.06500255528188674;  \\/\\/ OPTIMIZE [0.04, 0.2] LOG/' -e 's/^constexpr double K_END = .*;   \\/\\/ OPTIMIZE \\[0\\.03, 0\\.1\\] LOG$/constexpr double K_END = 0.09294924394363487;   \\/\\/ OPTIMIZE [0.03, 0.1] LOG/' -e 's/^constexpr double K_H = .*;      \\/\\/ OPTIMIZE \\[0\\.001, 0\\.999\\]$/constexpr double K_H = 0.6195671163772435;      \\/\\/ OPTIMIZE [0.001, 0.999]/' -e 's/^constexpr short PURCHASE_TURN_LIMIT = .*;  \\/\\/ OPTIMIZE \\[790, 870\\]$/constexpr short PURCHASE_TURN_LIMIT = 828;  \\/\\/ OPTIMIZE [790, 870]/' -e 's/^constexpr int ROUGH_HASH = .*;      \\/\\/ OPTIMIZE {0, 0b00000001, 0b00010001, 0b00010011, 0b00110011}$/constexpr int ROUGH_HASH = 0;      \\/\\/ OPTIMIZE {0, 0b00000001, 0b00010001, 0b00010011, 0b00110011}/' -e 's/^constexpr double TARGET_BEAM_WIDTH_INCREASE_RATE = .*;      \\/\\/ OPTIMIZE \\[0\\.25, 4\\.0\\] LOG$/constexpr double TARGET_BEAM_WIDTH_INCREASE_RATE = 2.3965640982154968;      \\/\\/ OPTIMIZE [0.25, 4.0] LOG/' -e 's/^constexpr double TARGET_BEAM_WIDTH_HALF_PROGRES_RATE = .*;  \\/\\/ OPTIMIZE \\[0\\.02, 0\\.98\\]$/constexpr double TARGET_BEAM_WIDTH_HALF_PROGRES_RATE = 0.9143085225989713;  \\/\\/ OPTIMIZE [0.02, 0.98]/' -e 's/^constexpr auto MAX_BEAM_WIDTH = .*;                        \\/\\/ OPTIMIZE \\[400, 4000\\] LOG$/constexpr auto MAX_BEAM_WIDTH = 2501;                        \\/\\/ OPTIMIZE [400, 4000] LOG/'\n",
      "g++ 8_main.cpp -std=gnu++17 -O2 -DONLINE_JUDGE -o 8_main.cpp.out 2> /dev/null\n"
     ]
    },
    {
     "name": "stderr",
     "output_type": "stream",
     "text": [
      "\u001b[32m[I 2021-09-11 02:09:35,890]\u001b[0m Trial 17 finished with value: 957365670.0 and parameters: {'hash_table_size': 14, 'K_START': 0.05697542620230798, 'K_END': 0.09921162968423518, 'K_H': 0.7876965909967683, 'PURCHASE_TURN_LIMIT': 830, 'ROUGH_HASH': '0b00000001', 'TARGET_BEAM_WIDTH_INCREASE_RATE': 1.5383132157170376, 'TARGET_BEAM_WIDTH_HALF_PROGRES_RATE': 0.7106371715753373, 'MAX_BEAM_WIDTH': 3480}. Best is trial 11 with value: 989217467.0.\u001b[0m\n"
     ]
    },
    {
     "name": "stdout",
     "output_type": "stream",
     "text": [
      "callback ok\n",
      "index_parallel=9\n",
      "sed -i 9_main.cpp -e 's/^constexpr int hash_table_size = .*;         \\/\\/ OPTIMIZE \\[9, 18\\]$/constexpr int hash_table_size = 9;         \\/\\/ OPTIMIZE [9, 18]/' -e 's/^constexpr double K_START = .*;  \\/\\/ OPTIMIZE \\[0\\.04, 0\\.2\\] LOG$/constexpr double K_START = 0.06600216328691774;  \\/\\/ OPTIMIZE [0.04, 0.2] LOG/' -e 's/^constexpr double K_END = .*;   \\/\\/ OPTIMIZE \\[0\\.03, 0\\.1\\] LOG$/constexpr double K_END = 0.040199710094356224;   \\/\\/ OPTIMIZE [0.03, 0.1] LOG/' -e 's/^constexpr double K_H = .*;      \\/\\/ OPTIMIZE \\[0\\.001, 0\\.999\\]$/constexpr double K_H = 0.6045122971933964;      \\/\\/ OPTIMIZE [0.001, 0.999]/' -e 's/^constexpr short PURCHASE_TURN_LIMIT = .*;  \\/\\/ OPTIMIZE \\[790, 870\\]$/constexpr short PURCHASE_TURN_LIMIT = 837;  \\/\\/ OPTIMIZE [790, 870]/' -e 's/^constexpr int ROUGH_HASH = .*;      \\/\\/ OPTIMIZE {0, 0b00000001, 0b00010001, 0b00010011, 0b00110011}$/constexpr int ROUGH_HASH = 0;      \\/\\/ OPTIMIZE {0, 0b00000001, 0b00010001, 0b00010011, 0b00110011}/' -e 's/^constexpr double TARGET_BEAM_WIDTH_INCREASE_RATE = .*;      \\/\\/ OPTIMIZE \\[0\\.25, 4\\.0\\] LOG$/constexpr double TARGET_BEAM_WIDTH_INCREASE_RATE = 2.2578895144082205;      \\/\\/ OPTIMIZE [0.25, 4.0] LOG/' -e 's/^constexpr double TARGET_BEAM_WIDTH_HALF_PROGRES_RATE = .*;  \\/\\/ OPTIMIZE \\[0\\.02, 0\\.98\\]$/constexpr double TARGET_BEAM_WIDTH_HALF_PROGRES_RATE = 0.8564043361878868;  \\/\\/ OPTIMIZE [0.02, 0.98]/' -e 's/^constexpr auto MAX_BEAM_WIDTH = .*;                        \\/\\/ OPTIMIZE \\[400, 4000\\] LOG$/constexpr auto MAX_BEAM_WIDTH = 2745;                        \\/\\/ OPTIMIZE [400, 4000] LOG/'\n",
      "g++ 9_main.cpp -std=gnu++17 -O2 -DONLINE_JUDGE -o 9_main.cpp.out 2> /dev/null\n"
     ]
    },
    {
     "name": "stderr",
     "output_type": "stream",
     "text": [
      "\u001b[32m[I 2021-09-11 02:09:40,841]\u001b[0m Trial 18 finished with value: 959775666.0 and parameters: {'hash_table_size': 15, 'K_START': 0.06323943319970371, 'K_END': 0.09796582288090341, 'K_H': 0.7567418316690506, 'PURCHASE_TURN_LIMIT': 832, 'ROUGH_HASH': '0', 'TARGET_BEAM_WIDTH_INCREASE_RATE': 1.73659494596055, 'TARGET_BEAM_WIDTH_HALF_PROGRES_RATE': 0.8304753108739549, 'MAX_BEAM_WIDTH': 2737}. Best is trial 11 with value: 989217467.0.\u001b[0m\n"
     ]
    },
    {
     "name": "stdout",
     "output_type": "stream",
     "text": [
      "callback ok\n",
      "index_parallel=10\n",
      "sed -i 10_main.cpp -e 's/^constexpr int hash_table_size = .*;         \\/\\/ OPTIMIZE \\[9, 18\\]$/constexpr int hash_table_size = 9;         \\/\\/ OPTIMIZE [9, 18]/' -e 's/^constexpr double K_START = .*;  \\/\\/ OPTIMIZE \\[0\\.04, 0\\.2\\] LOG$/constexpr double K_START = 0.043784252423073516;  \\/\\/ OPTIMIZE [0.04, 0.2] LOG/' -e 's/^constexpr double K_END = .*;   \\/\\/ OPTIMIZE \\[0\\.03, 0\\.1\\] LOG$/constexpr double K_END = 0.04210062932116091;   \\/\\/ OPTIMIZE [0.03, 0.1] LOG/' -e 's/^constexpr double K_H = .*;      \\/\\/ OPTIMIZE \\[0\\.001, 0\\.999\\]$/constexpr double K_H = 0.5912143528056276;      \\/\\/ OPTIMIZE [0.001, 0.999]/' -e 's/^constexpr short PURCHASE_TURN_LIMIT = .*;  \\/\\/ OPTIMIZE \\[790, 870\\]$/constexpr short PURCHASE_TURN_LIMIT = 840;  \\/\\/ OPTIMIZE [790, 870]/' -e 's/^constexpr int ROUGH_HASH = .*;      \\/\\/ OPTIMIZE {0, 0b00000001, 0b00010001, 0b00010011, 0b00110011}$/constexpr int ROUGH_HASH = 0b00010001;      \\/\\/ OPTIMIZE {0, 0b00000001, 0b00010001, 0b00010011, 0b00110011}/' -e 's/^constexpr double TARGET_BEAM_WIDTH_INCREASE_RATE = .*;      \\/\\/ OPTIMIZE \\[0\\.25, 4\\.0\\] LOG$/constexpr double TARGET_BEAM_WIDTH_INCREASE_RATE = 2.4444280688166105;      \\/\\/ OPTIMIZE [0.25, 4.0] LOG/' -e 's/^constexpr double TARGET_BEAM_WIDTH_HALF_PROGRES_RATE = .*;  \\/\\/ OPTIMIZE \\[0\\.02, 0\\.98\\]$/constexpr double TARGET_BEAM_WIDTH_HALF_PROGRES_RATE = 0.5994866405728771;  \\/\\/ OPTIMIZE [0.02, 0.98]/' -e 's/^constexpr auto MAX_BEAM_WIDTH = .*;                        \\/\\/ OPTIMIZE \\[400, 4000\\] LOG$/constexpr auto MAX_BEAM_WIDTH = 2131;                        \\/\\/ OPTIMIZE [400, 4000] LOG/'\n",
      "g++ 10_main.cpp -std=gnu++17 -O2 -DONLINE_JUDGE -o 10_main.cpp.out 2> /dev/null\n"
     ]
    },
    {
     "name": "stderr",
     "output_type": "stream",
     "text": [
      "\u001b[32m[I 2021-09-11 02:09:47,875]\u001b[0m Trial 19 finished with value: 965471518.0 and parameters: {'hash_table_size': 15, 'K_START': 0.06180433279275023, 'K_END': 0.09440182021130633, 'K_H': 0.5652754270379698, 'PURCHASE_TURN_LIMIT': 828, 'ROUGH_HASH': '0', 'TARGET_BEAM_WIDTH_INCREASE_RATE': 2.105864879618525, 'TARGET_BEAM_WIDTH_HALF_PROGRES_RATE': 0.8622238094982844, 'MAX_BEAM_WIDTH': 2487}. Best is trial 11 with value: 989217467.0.\u001b[0m\n"
     ]
    },
    {
     "name": "stdout",
     "output_type": "stream",
     "text": [
      "callback ok\n",
      "index_parallel=11\n",
      "sed -i 11_main.cpp -e 's/^constexpr int hash_table_size = .*;         \\/\\/ OPTIMIZE \\[9, 18\\]$/constexpr int hash_table_size = 9;         \\/\\/ OPTIMIZE [9, 18]/' -e 's/^constexpr double K_START = .*;  \\/\\/ OPTIMIZE \\[0\\.04, 0\\.2\\] LOG$/constexpr double K_START = 0.04125093833650878;  \\/\\/ OPTIMIZE [0.04, 0.2] LOG/' -e 's/^constexpr double K_END = .*;   \\/\\/ OPTIMIZE \\[0\\.03, 0\\.1\\] LOG$/constexpr double K_END = 0.0393122394378171;   \\/\\/ OPTIMIZE [0.03, 0.1] LOG/' -e 's/^constexpr double K_H = .*;      \\/\\/ OPTIMIZE \\[0\\.001, 0\\.999\\]$/constexpr double K_H = 0.9584124791887532;      \\/\\/ OPTIMIZE [0.001, 0.999]/' -e 's/^constexpr short PURCHASE_TURN_LIMIT = .*;  \\/\\/ OPTIMIZE \\[790, 870\\]$/constexpr short PURCHASE_TURN_LIMIT = 841;  \\/\\/ OPTIMIZE [790, 870]/' -e 's/^constexpr int ROUGH_HASH = .*;      \\/\\/ OPTIMIZE {0, 0b00000001, 0b00010001, 0b00010011, 0b00110011}$/constexpr int ROUGH_HASH = 0b00010001;      \\/\\/ OPTIMIZE {0, 0b00000001, 0b00010001, 0b00010011, 0b00110011}/' -e 's/^constexpr double TARGET_BEAM_WIDTH_INCREASE_RATE = .*;      \\/\\/ OPTIMIZE \\[0\\.25, 4\\.0\\] LOG$/constexpr double TARGET_BEAM_WIDTH_INCREASE_RATE = 3.6291489152845418;      \\/\\/ OPTIMIZE [0.25, 4.0] LOG/' -e 's/^constexpr double TARGET_BEAM_WIDTH_HALF_PROGRES_RATE = .*;  \\/\\/ OPTIMIZE \\[0\\.02, 0\\.98\\]$/constexpr double TARGET_BEAM_WIDTH_HALF_PROGRES_RATE = 0.5869718070653848;  \\/\\/ OPTIMIZE [0.02, 0.98]/' -e 's/^constexpr auto MAX_BEAM_WIDTH = .*;                        \\/\\/ OPTIMIZE \\[400, 4000\\] LOG$/constexpr auto MAX_BEAM_WIDTH = 422;                        \\/\\/ OPTIMIZE [400, 4000] LOG/'\n",
      "g++ 11_main.cpp -std=gnu++17 -O2 -DONLINE_JUDGE -o 11_main.cpp.out 2> /dev/null\n"
     ]
    },
    {
     "name": "stderr",
     "output_type": "stream",
     "text": [
      "\u001b[32m[I 2021-09-11 02:11:18,821]\u001b[0m Trial 20 finished with value: 963443064.0 and parameters: {'hash_table_size': 15, 'K_START': 0.06500255528188674, 'K_END': 0.09294924394363487, 'K_H': 0.6195671163772435, 'PURCHASE_TURN_LIMIT': 828, 'ROUGH_HASH': '0', 'TARGET_BEAM_WIDTH_INCREASE_RATE': 2.3965640982154968, 'TARGET_BEAM_WIDTH_HALF_PROGRES_RATE': 0.9143085225989713, 'MAX_BEAM_WIDTH': 2501}. Best is trial 11 with value: 989217467.0.\u001b[0m\n"
     ]
    },
    {
     "name": "stdout",
     "output_type": "stream",
     "text": [
      "callback ok\n",
      "index_parallel=0\n",
      "sed -i 0_main.cpp -e 's/^constexpr int hash_table_size = .*;         \\/\\/ OPTIMIZE \\[9, 18\\]$/constexpr int hash_table_size = 18;         \\/\\/ OPTIMIZE [9, 18]/' -e 's/^constexpr double K_START = .*;  \\/\\/ OPTIMIZE \\[0\\.04, 0\\.2\\] LOG$/constexpr double K_START = 0.07298596695357779;  \\/\\/ OPTIMIZE [0.04, 0.2] LOG/' -e 's/^constexpr double K_END = .*;   \\/\\/ OPTIMIZE \\[0\\.03, 0\\.1\\] LOG$/constexpr double K_END = 0.05784034878090583;   \\/\\/ OPTIMIZE [0.03, 0.1] LOG/' -e 's/^constexpr double K_H = .*;      \\/\\/ OPTIMIZE \\[0\\.001, 0\\.999\\]$/constexpr double K_H = 0.2865192923755049;      \\/\\/ OPTIMIZE [0.001, 0.999]/' -e 's/^constexpr short PURCHASE_TURN_LIMIT = .*;  \\/\\/ OPTIMIZE \\[790, 870\\]$/constexpr short PURCHASE_TURN_LIMIT = 842;  \\/\\/ OPTIMIZE [790, 870]/' -e 's/^constexpr int ROUGH_HASH = .*;      \\/\\/ OPTIMIZE {0, 0b00000001, 0b00010001, 0b00010011, 0b00110011}$/constexpr int ROUGH_HASH = 0b00010011;      \\/\\/ OPTIMIZE {0, 0b00000001, 0b00010001, 0b00010011, 0b00110011}/' -e 's/^constexpr double TARGET_BEAM_WIDTH_INCREASE_RATE = .*;      \\/\\/ OPTIMIZE \\[0\\.25, 4\\.0\\] LOG$/constexpr double TARGET_BEAM_WIDTH_INCREASE_RATE = 0.9106386184887683;      \\/\\/ OPTIMIZE [0.25, 4.0] LOG/' -e 's/^constexpr double TARGET_BEAM_WIDTH_HALF_PROGRES_RATE = .*;  \\/\\/ OPTIMIZE \\[0\\.02, 0\\.98\\]$/constexpr double TARGET_BEAM_WIDTH_HALF_PROGRES_RATE = 0.5834622893064664;  \\/\\/ OPTIMIZE [0.02, 0.98]/' -e 's/^constexpr auto MAX_BEAM_WIDTH = .*;                        \\/\\/ OPTIMIZE \\[400, 4000\\] LOG$/constexpr auto MAX_BEAM_WIDTH = 1022;                        \\/\\/ OPTIMIZE [400, 4000] LOG/'\n",
      "g++ 0_main.cpp -std=gnu++17 -O2 -DONLINE_JUDGE -o 0_main.cpp.out 2> /dev/null\n"
     ]
    },
    {
     "name": "stderr",
     "output_type": "stream",
     "text": [
      "\u001b[32m[I 2021-09-11 02:11:22,834]\u001b[0m Trial 21 finished with value: 982718024.0 and parameters: {'hash_table_size': 9, 'K_START': 0.06600216328691774, 'K_END': 0.040199710094356224, 'K_H': 0.6045122971933964, 'PURCHASE_TURN_LIMIT': 837, 'ROUGH_HASH': '0', 'TARGET_BEAM_WIDTH_INCREASE_RATE': 2.2578895144082205, 'TARGET_BEAM_WIDTH_HALF_PROGRES_RATE': 0.8564043361878868, 'MAX_BEAM_WIDTH': 2745}. Best is trial 11 with value: 989217467.0.\u001b[0m\n"
     ]
    },
    {
     "name": "stdout",
     "output_type": "stream",
     "text": [
      "callback ok\n",
      "index_parallel=1\n",
      "sed -i 1_main.cpp -e 's/^constexpr int hash_table_size = .*;         \\/\\/ OPTIMIZE \\[9, 18\\]$/constexpr int hash_table_size = 9;         \\/\\/ OPTIMIZE [9, 18]/' -e 's/^constexpr double K_START = .*;  \\/\\/ OPTIMIZE \\[0\\.04, 0\\.2\\] LOG$/constexpr double K_START = 0.04015261623623952;  \\/\\/ OPTIMIZE [0.04, 0.2] LOG/' -e 's/^constexpr double K_END = .*;   \\/\\/ OPTIMIZE \\[0\\.03, 0\\.1\\] LOG$/constexpr double K_END = 0.040205459754231135;   \\/\\/ OPTIMIZE [0.03, 0.1] LOG/' -e 's/^constexpr double K_H = .*;      \\/\\/ OPTIMIZE \\[0\\.001, 0\\.999\\]$/constexpr double K_H = 0.5032833932864936;      \\/\\/ OPTIMIZE [0.001, 0.999]/' -e 's/^constexpr short PURCHASE_TURN_LIMIT = .*;  \\/\\/ OPTIMIZE \\[790, 870\\]$/constexpr short PURCHASE_TURN_LIMIT = 843;  \\/\\/ OPTIMIZE [790, 870]/' -e 's/^constexpr int ROUGH_HASH = .*;      \\/\\/ OPTIMIZE {0, 0b00000001, 0b00010001, 0b00010011, 0b00110011}$/constexpr int ROUGH_HASH = 0;      \\/\\/ OPTIMIZE {0, 0b00000001, 0b00010001, 0b00010011, 0b00110011}/' -e 's/^constexpr double TARGET_BEAM_WIDTH_INCREASE_RATE = .*;      \\/\\/ OPTIMIZE \\[0\\.25, 4\\.0\\] LOG$/constexpr double TARGET_BEAM_WIDTH_INCREASE_RATE = 3.6938420516015413;      \\/\\/ OPTIMIZE [0.25, 4.0] LOG/' -e 's/^constexpr double TARGET_BEAM_WIDTH_HALF_PROGRES_RATE = .*;  \\/\\/ OPTIMIZE \\[0\\.02, 0\\.98\\]$/constexpr double TARGET_BEAM_WIDTH_HALF_PROGRES_RATE = 0.5388973341762944;  \\/\\/ OPTIMIZE [0.02, 0.98]/' -e 's/^constexpr auto MAX_BEAM_WIDTH = .*;                        \\/\\/ OPTIMIZE \\[400, 4000\\] LOG$/constexpr auto MAX_BEAM_WIDTH = 2099;                        \\/\\/ OPTIMIZE [400, 4000] LOG/'\n",
      "g++ 1_main.cpp -std=gnu++17 -O2 -DONLINE_JUDGE -o 1_main.cpp.out 2> /dev/null\n"
     ]
    },
    {
     "name": "stderr",
     "output_type": "stream",
     "text": [
      "\u001b[32m[I 2021-09-11 02:11:26,632]\u001b[0m Trial 22 finished with value: 980401403.0 and parameters: {'hash_table_size': 9, 'K_START': 0.043784252423073516, 'K_END': 0.04210062932116091, 'K_H': 0.5912143528056276, 'PURCHASE_TURN_LIMIT': 840, 'ROUGH_HASH': '0b00010001', 'TARGET_BEAM_WIDTH_INCREASE_RATE': 2.4444280688166105, 'TARGET_BEAM_WIDTH_HALF_PROGRES_RATE': 0.5994866405728771, 'MAX_BEAM_WIDTH': 2131}. Best is trial 11 with value: 989217467.0.\u001b[0m\n"
     ]
    },
    {
     "name": "stdout",
     "output_type": "stream",
     "text": [
      "callback ok\n",
      "index_parallel=2\n",
      "sed -i 2_main.cpp -e 's/^constexpr int hash_table_size = .*;         \\/\\/ OPTIMIZE \\[9, 18\\]$/constexpr int hash_table_size = 9;         \\/\\/ OPTIMIZE [9, 18]/' -e 's/^constexpr double K_START = .*;  \\/\\/ OPTIMIZE \\[0\\.04, 0\\.2\\] LOG$/constexpr double K_START = 0.046613431099102896;  \\/\\/ OPTIMIZE [0.04, 0.2] LOG/' -e 's/^constexpr double K_END = .*;   \\/\\/ OPTIMIZE \\[0\\.03, 0\\.1\\] LOG$/constexpr double K_END = 0.0399785551516523;   \\/\\/ OPTIMIZE [0.03, 0.1] LOG/' -e 's/^constexpr double K_H = .*;      \\/\\/ OPTIMIZE \\[0\\.001, 0\\.999\\]$/constexpr double K_H = 0.5118080236040459;      \\/\\/ OPTIMIZE [0.001, 0.999]/' -e 's/^constexpr short PURCHASE_TURN_LIMIT = .*;  \\/\\/ OPTIMIZE \\[790, 870\\]$/constexpr short PURCHASE_TURN_LIMIT = 842;  \\/\\/ OPTIMIZE [790, 870]/' -e 's/^constexpr int ROUGH_HASH = .*;      \\/\\/ OPTIMIZE {0, 0b00000001, 0b00010001, 0b00010011, 0b00110011}$/constexpr int ROUGH_HASH = 0b00010001;      \\/\\/ OPTIMIZE {0, 0b00000001, 0b00010001, 0b00010011, 0b00110011}/' -e 's/^constexpr double TARGET_BEAM_WIDTH_INCREASE_RATE = .*;      \\/\\/ OPTIMIZE \\[0\\.25, 4\\.0\\] LOG$/constexpr double TARGET_BEAM_WIDTH_INCREASE_RATE = 3.9744082079318384;      \\/\\/ OPTIMIZE [0.25, 4.0] LOG/' -e 's/^constexpr double TARGET_BEAM_WIDTH_HALF_PROGRES_RATE = .*;  \\/\\/ OPTIMIZE \\[0\\.02, 0\\.98\\]$/constexpr double TARGET_BEAM_WIDTH_HALF_PROGRES_RATE = 0.5787046745096875;  \\/\\/ OPTIMIZE [0.02, 0.98]/' -e 's/^constexpr auto MAX_BEAM_WIDTH = .*;                        \\/\\/ OPTIMIZE \\[400, 4000\\] LOG$/constexpr auto MAX_BEAM_WIDTH = 2170;                        \\/\\/ OPTIMIZE [400, 4000] LOG/'\n",
      "g++ 2_main.cpp -std=gnu++17 -O2 -DONLINE_JUDGE -o 2_main.cpp.out 2> /dev/null\n"
     ]
    },
    {
     "name": "stderr",
     "output_type": "stream",
     "text": [
      "\u001b[32m[I 2021-09-11 02:11:33,771]\u001b[0m Trial 23 finished with value: 983956874.0 and parameters: {'hash_table_size': 9, 'K_START': 0.04125093833650878, 'K_END': 0.0393122394378171, 'K_H': 0.9584124791887532, 'PURCHASE_TURN_LIMIT': 841, 'ROUGH_HASH': '0b00010001', 'TARGET_BEAM_WIDTH_INCREASE_RATE': 3.6291489152845418, 'TARGET_BEAM_WIDTH_HALF_PROGRES_RATE': 0.5869718070653848, 'MAX_BEAM_WIDTH': 422}. Best is trial 11 with value: 989217467.0.\u001b[0m\n"
     ]
    },
    {
     "name": "stdout",
     "output_type": "stream",
     "text": [
      "callback ok\n",
      "index_parallel=3\n",
      "sed -i 3_main.cpp -e 's/^constexpr int hash_table_size = .*;         \\/\\/ OPTIMIZE \\[9, 18\\]$/constexpr int hash_table_size = 10;         \\/\\/ OPTIMIZE [9, 18]/' -e 's/^constexpr double K_START = .*;  \\/\\/ OPTIMIZE \\[0\\.04, 0\\.2\\] LOG$/constexpr double K_START = 0.14088041121127548;  \\/\\/ OPTIMIZE [0.04, 0.2] LOG/' -e 's/^constexpr double K_END = .*;   \\/\\/ OPTIMIZE \\[0\\.03, 0\\.1\\] LOG$/constexpr double K_END = 0.04051169354801927;   \\/\\/ OPTIMIZE [0.03, 0.1] LOG/' -e 's/^constexpr double K_H = .*;      \\/\\/ OPTIMIZE \\[0\\.001, 0\\.999\\]$/constexpr double K_H = 0.9250348267637485;      \\/\\/ OPTIMIZE [0.001, 0.999]/' -e 's/^constexpr short PURCHASE_TURN_LIMIT = .*;  \\/\\/ OPTIMIZE \\[790, 870\\]$/constexpr short PURCHASE_TURN_LIMIT = 843;  \\/\\/ OPTIMIZE [790, 870]/' -e 's/^constexpr int ROUGH_HASH = .*;      \\/\\/ OPTIMIZE {0, 0b00000001, 0b00010001, 0b00010011, 0b00110011}$/constexpr int ROUGH_HASH = 0b00010001;      \\/\\/ OPTIMIZE {0, 0b00000001, 0b00010001, 0b00010011, 0b00110011}/' -e 's/^constexpr double TARGET_BEAM_WIDTH_INCREASE_RATE = .*;      \\/\\/ OPTIMIZE \\[0\\.25, 4\\.0\\] LOG$/constexpr double TARGET_BEAM_WIDTH_INCREASE_RATE = 3.9233156481384945;      \\/\\/ OPTIMIZE [0.25, 4.0] LOG/' -e 's/^constexpr double TARGET_BEAM_WIDTH_HALF_PROGRES_RATE = .*;  \\/\\/ OPTIMIZE \\[0\\.02, 0\\.98\\]$/constexpr double TARGET_BEAM_WIDTH_HALF_PROGRES_RATE = 0.5550442100630735;  \\/\\/ OPTIMIZE [0.02, 0.98]/' -e 's/^constexpr auto MAX_BEAM_WIDTH = .*;                        \\/\\/ OPTIMIZE \\[400, 4000\\] LOG$/constexpr auto MAX_BEAM_WIDTH = 411;                        \\/\\/ OPTIMIZE [400, 4000] LOG/'\n",
      "g++ 3_main.cpp -std=gnu++17 -O2 -DONLINE_JUDGE -o 3_main.cpp.out 2> /dev/null\n"
     ]
    },
    {
     "name": "stderr",
     "output_type": "stream",
     "text": [
      "\u001b[32m[I 2021-09-11 02:13:05,062]\u001b[0m Trial 24 finished with value: 975651118.0 and parameters: {'hash_table_size': 18, 'K_START': 0.07298596695357779, 'K_END': 0.05784034878090583, 'K_H': 0.2865192923755049, 'PURCHASE_TURN_LIMIT': 842, 'ROUGH_HASH': '0b00010011', 'TARGET_BEAM_WIDTH_INCREASE_RATE': 0.9106386184887683, 'TARGET_BEAM_WIDTH_HALF_PROGRES_RATE': 0.5834622893064664, 'MAX_BEAM_WIDTH': 1022}. Best is trial 11 with value: 989217467.0.\u001b[0m\n"
     ]
    },
    {
     "name": "stdout",
     "output_type": "stream",
     "text": [
      "callback ok\n",
      "index_parallel=4\n",
      "sed -i 4_main.cpp -e 's/^constexpr int hash_table_size = .*;         \\/\\/ OPTIMIZE \\[9, 18\\]$/constexpr int hash_table_size = 10;         \\/\\/ OPTIMIZE [9, 18]/' -e 's/^constexpr double K_START = .*;  \\/\\/ OPTIMIZE \\[0\\.04, 0\\.2\\] LOG$/constexpr double K_START = 0.040297525395858666;  \\/\\/ OPTIMIZE [0.04, 0.2] LOG/' -e 's/^constexpr double K_END = .*;   \\/\\/ OPTIMIZE \\[0\\.03, 0\\.1\\] LOG$/constexpr double K_END = 0.04006531236132111;   \\/\\/ OPTIMIZE [0.03, 0.1] LOG/' -e 's/^constexpr double K_H = .*;      \\/\\/ OPTIMIZE \\[0\\.001, 0\\.999\\]$/constexpr double K_H = 0.9844167955982805;      \\/\\/ OPTIMIZE [0.001, 0.999]/' -e 's/^constexpr short PURCHASE_TURN_LIMIT = .*;  \\/\\/ OPTIMIZE \\[790, 870\\]$/constexpr short PURCHASE_TURN_LIMIT = 860;  \\/\\/ OPTIMIZE [790, 870]/' -e 's/^constexpr int ROUGH_HASH = .*;      \\/\\/ OPTIMIZE {0, 0b00000001, 0b00010001, 0b00010011, 0b00110011}$/constexpr int ROUGH_HASH = 0b00010001;      \\/\\/ OPTIMIZE {0, 0b00000001, 0b00010001, 0b00010011, 0b00110011}/' -e 's/^constexpr double TARGET_BEAM_WIDTH_INCREASE_RATE = .*;      \\/\\/ OPTIMIZE \\[0\\.25, 4\\.0\\] LOG$/constexpr double TARGET_BEAM_WIDTH_INCREASE_RATE = 3.8009226913415213;      \\/\\/ OPTIMIZE [0.25, 4.0] LOG/' -e 's/^constexpr double TARGET_BEAM_WIDTH_HALF_PROGRES_RATE = .*;  \\/\\/ OPTIMIZE \\[0\\.02, 0\\.98\\]$/constexpr double TARGET_BEAM_WIDTH_HALF_PROGRES_RATE = 0.32453021415167127;  \\/\\/ OPTIMIZE [0.02, 0.98]/' -e 's/^constexpr auto MAX_BEAM_WIDTH = .*;                        \\/\\/ OPTIMIZE \\[400, 4000\\] LOG$/constexpr auto MAX_BEAM_WIDTH = 400;                        \\/\\/ OPTIMIZE [400, 4000] LOG/'\n",
      "g++ 4_main.cpp -std=gnu++17 -O2 -DONLINE_JUDGE -o 4_main.cpp.out 2> /dev/null\n"
     ]
    },
    {
     "name": "stderr",
     "output_type": "stream",
     "text": [
      "\u001b[32m[I 2021-09-11 02:13:09,079]\u001b[0m Trial 25 finished with value: 985746298.0 and parameters: {'hash_table_size': 9, 'K_START': 0.04015261623623952, 'K_END': 0.040205459754231135, 'K_H': 0.5032833932864936, 'PURCHASE_TURN_LIMIT': 843, 'ROUGH_HASH': '0', 'TARGET_BEAM_WIDTH_INCREASE_RATE': 3.6938420516015413, 'TARGET_BEAM_WIDTH_HALF_PROGRES_RATE': 0.5388973341762944, 'MAX_BEAM_WIDTH': 2099}. Best is trial 11 with value: 989217467.0.\u001b[0m\n"
     ]
    },
    {
     "name": "stdout",
     "output_type": "stream",
     "text": [
      "callback ok\n",
      "index_parallel=5\n",
      "sed -i 5_main.cpp -e 's/^constexpr int hash_table_size = .*;         \\/\\/ OPTIMIZE \\[9, 18\\]$/constexpr int hash_table_size = 10;         \\/\\/ OPTIMIZE [9, 18]/' -e 's/^constexpr double K_START = .*;  \\/\\/ OPTIMIZE \\[0\\.04, 0\\.2\\] LOG$/constexpr double K_START = 0.04050742420134395;  \\/\\/ OPTIMIZE [0.04, 0.2] LOG/' -e 's/^constexpr double K_END = .*;   \\/\\/ OPTIMIZE \\[0\\.03, 0\\.1\\] LOG$/constexpr double K_END = 0.030146910573548756;   \\/\\/ OPTIMIZE [0.03, 0.1] LOG/' -e 's/^constexpr double K_H = .*;      \\/\\/ OPTIMIZE \\[0\\.001, 0\\.999\\]$/constexpr double K_H = 0.9626288222311005;      \\/\\/ OPTIMIZE [0.001, 0.999]/' -e 's/^constexpr short PURCHASE_TURN_LIMIT = .*;  \\/\\/ OPTIMIZE \\[790, 870\\]$/constexpr short PURCHASE_TURN_LIMIT = 862;  \\/\\/ OPTIMIZE [790, 870]/' -e 's/^constexpr int ROUGH_HASH = .*;      \\/\\/ OPTIMIZE {0, 0b00000001, 0b00010001, 0b00010011, 0b00110011}$/constexpr int ROUGH_HASH = 0b00010001;      \\/\\/ OPTIMIZE {0, 0b00000001, 0b00010001, 0b00010011, 0b00110011}/' -e 's/^constexpr double TARGET_BEAM_WIDTH_INCREASE_RATE = .*;      \\/\\/ OPTIMIZE \\[0\\.25, 4\\.0\\] LOG$/constexpr double TARGET_BEAM_WIDTH_INCREASE_RATE = 3.925947690793767;      \\/\\/ OPTIMIZE [0.25, 4.0] LOG/' -e 's/^constexpr double TARGET_BEAM_WIDTH_HALF_PROGRES_RATE = .*;  \\/\\/ OPTIMIZE \\[0\\.02, 0\\.98\\]$/constexpr double TARGET_BEAM_WIDTH_HALF_PROGRES_RATE = 0.3710385117843006;  \\/\\/ OPTIMIZE [0.02, 0.98]/' -e 's/^constexpr auto MAX_BEAM_WIDTH = .*;                        \\/\\/ OPTIMIZE \\[400, 4000\\] LOG$/constexpr auto MAX_BEAM_WIDTH = 417;                        \\/\\/ OPTIMIZE [400, 4000] LOG/'\n",
      "g++ 5_main.cpp -std=gnu++17 -O2 -DONLINE_JUDGE -o 5_main.cpp.out 2> /dev/null\n"
     ]
    },
    {
     "name": "stderr",
     "output_type": "stream",
     "text": [
      "\u001b[32m[I 2021-09-11 02:13:12,233]\u001b[0m Trial 26 finished with value: 981399483.0 and parameters: {'hash_table_size': 9, 'K_START': 0.046613431099102896, 'K_END': 0.0399785551516523, 'K_H': 0.5118080236040459, 'PURCHASE_TURN_LIMIT': 842, 'ROUGH_HASH': '0b00010001', 'TARGET_BEAM_WIDTH_INCREASE_RATE': 3.9744082079318384, 'TARGET_BEAM_WIDTH_HALF_PROGRES_RATE': 0.5787046745096875, 'MAX_BEAM_WIDTH': 2170}. Best is trial 11 with value: 989217467.0.\u001b[0m\n"
     ]
    },
    {
     "name": "stdout",
     "output_type": "stream",
     "text": [
      "callback ok\n",
      "index_parallel=6\n",
      "sed -i 6_main.cpp -e 's/^constexpr int hash_table_size = .*;         \\/\\/ OPTIMIZE \\[9, 18\\]$/constexpr int hash_table_size = 10;         \\/\\/ OPTIMIZE [9, 18]/' -e 's/^constexpr double K_START = .*;  \\/\\/ OPTIMIZE \\[0\\.04, 0\\.2\\] LOG$/constexpr double K_START = 0.04039197796027616;  \\/\\/ OPTIMIZE [0.04, 0.2] LOG/' -e 's/^constexpr double K_END = .*;   \\/\\/ OPTIMIZE \\[0\\.03, 0\\.1\\] LOG$/constexpr double K_END = 0.037919495468338976;   \\/\\/ OPTIMIZE [0.03, 0.1] LOG/' -e 's/^constexpr double K_H = .*;      \\/\\/ OPTIMIZE \\[0\\.001, 0\\.999\\]$/constexpr double K_H = 0.9271529298406067;      \\/\\/ OPTIMIZE [0.001, 0.999]/' -e 's/^constexpr short PURCHASE_TURN_LIMIT = .*;  \\/\\/ OPTIMIZE \\[790, 870\\]$/constexpr short PURCHASE_TURN_LIMIT = 862;  \\/\\/ OPTIMIZE [790, 870]/' -e 's/^constexpr int ROUGH_HASH = .*;      \\/\\/ OPTIMIZE {0, 0b00000001, 0b00010001, 0b00010011, 0b00110011}$/constexpr int ROUGH_HASH = 0b00010001;      \\/\\/ OPTIMIZE {0, 0b00000001, 0b00010001, 0b00010011, 0b00110011}/' -e 's/^constexpr double TARGET_BEAM_WIDTH_INCREASE_RATE = .*;      \\/\\/ OPTIMIZE \\[0\\.25, 4\\.0\\] LOG$/constexpr double TARGET_BEAM_WIDTH_INCREASE_RATE = 3.2389400677684477;      \\/\\/ OPTIMIZE [0.25, 4.0] LOG/' -e 's/^constexpr double TARGET_BEAM_WIDTH_HALF_PROGRES_RATE = .*;  \\/\\/ OPTIMIZE \\[0\\.02, 0\\.98\\]$/constexpr double TARGET_BEAM_WIDTH_HALF_PROGRES_RATE = 0.3822021459531625;  \\/\\/ OPTIMIZE [0.02, 0.98]/' -e 's/^constexpr auto MAX_BEAM_WIDTH = .*;                        \\/\\/ OPTIMIZE \\[400, 4000\\] LOG$/constexpr auto MAX_BEAM_WIDTH = 432;                        \\/\\/ OPTIMIZE [400, 4000] LOG/'\n",
      "g++ 6_main.cpp -std=gnu++17 -O2 -DONLINE_JUDGE -o 6_main.cpp.out 2> /dev/null\n"
     ]
    },
    {
     "name": "stderr",
     "output_type": "stream",
     "text": [
      "\u001b[32m[I 2021-09-11 02:13:19,137]\u001b[0m Trial 27 finished with value: 986909039.0 and parameters: {'hash_table_size': 10, 'K_START': 0.14088041121127548, 'K_END': 0.04051169354801927, 'K_H': 0.9250348267637485, 'PURCHASE_TURN_LIMIT': 843, 'ROUGH_HASH': '0b00010001', 'TARGET_BEAM_WIDTH_INCREASE_RATE': 3.9233156481384945, 'TARGET_BEAM_WIDTH_HALF_PROGRES_RATE': 0.5550442100630735, 'MAX_BEAM_WIDTH': 411}. Best is trial 11 with value: 989217467.0.\u001b[0m\n"
     ]
    },
    {
     "name": "stdout",
     "output_type": "stream",
     "text": [
      "callback ok\n",
      "index_parallel=7\n",
      "sed -i 7_main.cpp -e 's/^constexpr int hash_table_size = .*;         \\/\\/ OPTIMIZE \\[9, 18\\]$/constexpr int hash_table_size = 10;         \\/\\/ OPTIMIZE [9, 18]/' -e 's/^constexpr double K_START = .*;  \\/\\/ OPTIMIZE \\[0\\.04, 0\\.2\\] LOG$/constexpr double K_START = 0.14249821844182978;  \\/\\/ OPTIMIZE [0.04, 0.2] LOG/' -e 's/^constexpr double K_END = .*;   \\/\\/ OPTIMIZE \\[0\\.03, 0\\.1\\] LOG$/constexpr double K_END = 0.03135604334585824;   \\/\\/ OPTIMIZE [0.03, 0.1] LOG/' -e 's/^constexpr double K_H = .*;      \\/\\/ OPTIMIZE \\[0\\.001, 0\\.999\\]$/constexpr double K_H = 0.662825264908199;      \\/\\/ OPTIMIZE [0.001, 0.999]/' -e 's/^constexpr short PURCHASE_TURN_LIMIT = .*;  \\/\\/ OPTIMIZE \\[790, 870\\]$/constexpr short PURCHASE_TURN_LIMIT = 863;  \\/\\/ OPTIMIZE [790, 870]/' -e 's/^constexpr int ROUGH_HASH = .*;      \\/\\/ OPTIMIZE {0, 0b00000001, 0b00010001, 0b00010011, 0b00110011}$/constexpr int ROUGH_HASH = 0b00010001;      \\/\\/ OPTIMIZE {0, 0b00000001, 0b00010001, 0b00010011, 0b00110011}/' -e 's/^constexpr double TARGET_BEAM_WIDTH_INCREASE_RATE = .*;      \\/\\/ OPTIMIZE \\[0\\.25, 4\\.0\\] LOG$/constexpr double TARGET_BEAM_WIDTH_INCREASE_RATE = 3.1384261941712217;      \\/\\/ OPTIMIZE [0.25, 4.0] LOG/' -e 's/^constexpr double TARGET_BEAM_WIDTH_HALF_PROGRES_RATE = .*;  \\/\\/ OPTIMIZE \\[0\\.02, 0\\.98\\]$/constexpr double TARGET_BEAM_WIDTH_HALF_PROGRES_RATE = 0.3751207273742888;  \\/\\/ OPTIMIZE [0.02, 0.98]/' -e 's/^constexpr auto MAX_BEAM_WIDTH = .*;                        \\/\\/ OPTIMIZE \\[400, 4000\\] LOG$/constexpr auto MAX_BEAM_WIDTH = 497;                        \\/\\/ OPTIMIZE [400, 4000] LOG/'\n",
      "g++ 7_main.cpp -std=gnu++17 -O2 -DONLINE_JUDGE -o 7_main.cpp.out 2> /dev/null\n"
     ]
    },
    {
     "name": "stderr",
     "output_type": "stream",
     "text": [
      "\u001b[32m[I 2021-09-11 02:14:45,767]\u001b[0m Trial 28 finished with value: 967110924.0 and parameters: {'hash_table_size': 10, 'K_START': 0.040297525395858666, 'K_END': 0.04006531236132111, 'K_H': 0.9844167955982805, 'PURCHASE_TURN_LIMIT': 860, 'ROUGH_HASH': '0b00010001', 'TARGET_BEAM_WIDTH_INCREASE_RATE': 3.8009226913415213, 'TARGET_BEAM_WIDTH_HALF_PROGRES_RATE': 0.32453021415167127, 'MAX_BEAM_WIDTH': 400}. Best is trial 11 with value: 989217467.0.\u001b[0m\n"
     ]
    },
    {
     "name": "stdout",
     "output_type": "stream",
     "text": [
      "callback ok\n",
      "index_parallel=8\n",
      "sed -i 8_main.cpp -e 's/^constexpr int hash_table_size = .*;         \\/\\/ OPTIMIZE \\[9, 18\\]$/constexpr int hash_table_size = 10;         \\/\\/ OPTIMIZE [9, 18]/' -e 's/^constexpr double K_START = .*;  \\/\\/ OPTIMIZE \\[0\\.04, 0\\.2\\] LOG$/constexpr double K_START = 0.14321453557224054;  \\/\\/ OPTIMIZE [0.04, 0.2] LOG/' -e 's/^constexpr double K_END = .*;   \\/\\/ OPTIMIZE \\[0\\.03, 0\\.1\\] LOG$/constexpr double K_END = 0.05219918359364673;   \\/\\/ OPTIMIZE [0.03, 0.1] LOG/' -e 's/^constexpr double K_H = .*;      \\/\\/ OPTIMIZE \\[0\\.001, 0\\.999\\]$/constexpr double K_H = 0.689112653584158;      \\/\\/ OPTIMIZE [0.001, 0.999]/' -e 's/^constexpr short PURCHASE_TURN_LIMIT = .*;  \\/\\/ OPTIMIZE \\[790, 870\\]$/constexpr short PURCHASE_TURN_LIMIT = 848;  \\/\\/ OPTIMIZE [790, 870]/' -e 's/^constexpr int ROUGH_HASH = .*;      \\/\\/ OPTIMIZE {0, 0b00000001, 0b00010001, 0b00010011, 0b00110011}$/constexpr int ROUGH_HASH = 0b00110011;      \\/\\/ OPTIMIZE {0, 0b00000001, 0b00010001, 0b00010011, 0b00110011}/' -e 's/^constexpr double TARGET_BEAM_WIDTH_INCREASE_RATE = .*;      \\/\\/ OPTIMIZE \\[0\\.25, 4\\.0\\] LOG$/constexpr double TARGET_BEAM_WIDTH_INCREASE_RATE = 3.0009181590485725;      \\/\\/ OPTIMIZE [0.25, 4.0] LOG/' -e 's/^constexpr double TARGET_BEAM_WIDTH_HALF_PROGRES_RATE = .*;  \\/\\/ OPTIMIZE \\[0\\.02, 0\\.98\\]$/constexpr double TARGET_BEAM_WIDTH_HALF_PROGRES_RATE = 0.4043553778365212;  \\/\\/ OPTIMIZE [0.02, 0.98]/' -e 's/^constexpr auto MAX_BEAM_WIDTH = .*;                        \\/\\/ OPTIMIZE \\[400, 4000\\] LOG$/constexpr auto MAX_BEAM_WIDTH = 495;                        \\/\\/ OPTIMIZE [400, 4000] LOG/'\n",
      "g++ 8_main.cpp -std=gnu++17 -O2 -DONLINE_JUDGE -o 8_main.cpp.out 2> /dev/null\n"
     ]
    },
    {
     "name": "stderr",
     "output_type": "stream",
     "text": [
      "\u001b[32m[I 2021-09-11 02:14:49,749]\u001b[0m Trial 29 finished with value: 945289299.0 and parameters: {'hash_table_size': 10, 'K_START': 0.04050742420134395, 'K_END': 0.030146910573548756, 'K_H': 0.9626288222311005, 'PURCHASE_TURN_LIMIT': 862, 'ROUGH_HASH': '0b00010001', 'TARGET_BEAM_WIDTH_INCREASE_RATE': 3.925947690793767, 'TARGET_BEAM_WIDTH_HALF_PROGRES_RATE': 0.3710385117843006, 'MAX_BEAM_WIDTH': 417}. Best is trial 11 with value: 989217467.0.\u001b[0m\n"
     ]
    },
    {
     "name": "stdout",
     "output_type": "stream",
     "text": [
      "callback ok\n",
      "index_parallel=9\n",
      "sed -i 9_main.cpp -e 's/^constexpr int hash_table_size = .*;         \\/\\/ OPTIMIZE \\[9, 18\\]$/constexpr int hash_table_size = 11;         \\/\\/ OPTIMIZE [9, 18]/' -e 's/^constexpr double K_START = .*;  \\/\\/ OPTIMIZE \\[0\\.04, 0\\.2\\] LOG$/constexpr double K_START = 0.14968605234525828;  \\/\\/ OPTIMIZE [0.04, 0.2] LOG/' -e 's/^constexpr double K_END = .*;   \\/\\/ OPTIMIZE \\[0\\.03, 0\\.1\\] LOG$/constexpr double K_END = 0.05484094053144343;   \\/\\/ OPTIMIZE [0.03, 0.1] LOG/' -e 's/^constexpr double K_H = .*;      \\/\\/ OPTIMIZE \\[0\\.001, 0\\.999\\]$/constexpr double K_H = 0.683669001375448;      \\/\\/ OPTIMIZE [0.001, 0.999]/' -e 's/^constexpr short PURCHASE_TURN_LIMIT = .*;  \\/\\/ OPTIMIZE \\[790, 870\\]$/constexpr short PURCHASE_TURN_LIMIT = 848;  \\/\\/ OPTIMIZE [790, 870]/' -e 's/^constexpr int ROUGH_HASH = .*;      \\/\\/ OPTIMIZE {0, 0b00000001, 0b00010001, 0b00010011, 0b00110011}$/constexpr int ROUGH_HASH = 0b00110011;      \\/\\/ OPTIMIZE {0, 0b00000001, 0b00010001, 0b00010011, 0b00110011}/' -e 's/^constexpr double TARGET_BEAM_WIDTH_INCREASE_RATE = .*;      \\/\\/ OPTIMIZE \\[0\\.25, 4\\.0\\] LOG$/constexpr double TARGET_BEAM_WIDTH_INCREASE_RATE = 3.0351995447200166;      \\/\\/ OPTIMIZE [0.25, 4.0] LOG/' -e 's/^constexpr double TARGET_BEAM_WIDTH_HALF_PROGRES_RATE = .*;  \\/\\/ OPTIMIZE \\[0\\.02, 0\\.98\\]$/constexpr double TARGET_BEAM_WIDTH_HALF_PROGRES_RATE = 0.24665493910424408;  \\/\\/ OPTIMIZE [0.02, 0.98]/' -e 's/^constexpr auto MAX_BEAM_WIDTH = .*;                        \\/\\/ OPTIMIZE \\[400, 4000\\] LOG$/constexpr auto MAX_BEAM_WIDTH = 511;                        \\/\\/ OPTIMIZE [400, 4000] LOG/'\n",
      "g++ 9_main.cpp -std=gnu++17 -O2 -DONLINE_JUDGE -o 9_main.cpp.out 2> /dev/null\n"
     ]
    },
    {
     "name": "stderr",
     "output_type": "stream",
     "text": [
      "\u001b[32m[I 2021-09-11 02:14:54,144]\u001b[0m Trial 30 finished with value: 964915367.0 and parameters: {'hash_table_size': 10, 'K_START': 0.04039197796027616, 'K_END': 0.037919495468338976, 'K_H': 0.9271529298406067, 'PURCHASE_TURN_LIMIT': 862, 'ROUGH_HASH': '0b00010001', 'TARGET_BEAM_WIDTH_INCREASE_RATE': 3.2389400677684477, 'TARGET_BEAM_WIDTH_HALF_PROGRES_RATE': 0.3822021459531625, 'MAX_BEAM_WIDTH': 432}. Best is trial 11 with value: 989217467.0.\u001b[0m\n"
     ]
    },
    {
     "name": "stdout",
     "output_type": "stream",
     "text": [
      "callback ok\n",
      "index_parallel=10\n",
      "sed -i 10_main.cpp -e 's/^constexpr int hash_table_size = .*;         \\/\\/ OPTIMIZE \\[9, 18\\]$/constexpr int hash_table_size = 11;         \\/\\/ OPTIMIZE [9, 18]/' -e 's/^constexpr double K_START = .*;  \\/\\/ OPTIMIZE \\[0\\.04, 0\\.2\\] LOG$/constexpr double K_START = 0.14814026632727703;  \\/\\/ OPTIMIZE [0.04, 0.2] LOG/' -e 's/^constexpr double K_END = .*;   \\/\\/ OPTIMIZE \\[0\\.03, 0\\.1\\] LOG$/constexpr double K_END = 0.03172142296138857;   \\/\\/ OPTIMIZE [0.03, 0.1] LOG/' -e 's/^constexpr double K_H = .*;      \\/\\/ OPTIMIZE \\[0\\.001, 0\\.999\\]$/constexpr double K_H = 0.6918234326997228;      \\/\\/ OPTIMIZE [0.001, 0.999]/' -e 's/^constexpr short PURCHASE_TURN_LIMIT = .*;  \\/\\/ OPTIMIZE \\[790, 870\\]$/constexpr short PURCHASE_TURN_LIMIT = 847;  \\/\\/ OPTIMIZE [790, 870]/' -e 's/^constexpr int ROUGH_HASH = .*;      \\/\\/ OPTIMIZE {0, 0b00000001, 0b00010001, 0b00010011, 0b00110011}$/constexpr int ROUGH_HASH = 0b00010001;      \\/\\/ OPTIMIZE {0, 0b00000001, 0b00010001, 0b00010011, 0b00110011}/' -e 's/^constexpr double TARGET_BEAM_WIDTH_INCREASE_RATE = .*;      \\/\\/ OPTIMIZE \\[0\\.25, 4\\.0\\] LOG$/constexpr double TARGET_BEAM_WIDTH_INCREASE_RATE = 3.1139669250930178;      \\/\\/ OPTIMIZE [0.25, 4.0] LOG/' -e 's/^constexpr double TARGET_BEAM_WIDTH_HALF_PROGRES_RATE = .*;  \\/\\/ OPTIMIZE \\[0\\.02, 0\\.98\\]$/constexpr double TARGET_BEAM_WIDTH_HALF_PROGRES_RATE = 0.5445716336277009;  \\/\\/ OPTIMIZE [0.02, 0.98]/' -e 's/^constexpr auto MAX_BEAM_WIDTH = .*;                        \\/\\/ OPTIMIZE \\[400, 4000\\] LOG$/constexpr auto MAX_BEAM_WIDTH = 525;                        \\/\\/ OPTIMIZE [400, 4000] LOG/'\n",
      "g++ 10_main.cpp -std=gnu++17 -O2 -DONLINE_JUDGE -o 10_main.cpp.out 2> /dev/null\n"
     ]
    },
    {
     "name": "stderr",
     "output_type": "stream",
     "text": [
      "\u001b[32m[I 2021-09-11 02:15:01,346]\u001b[0m Trial 31 finished with value: 968155310.0 and parameters: {'hash_table_size': 10, 'K_START': 0.14249821844182978, 'K_END': 0.03135604334585824, 'K_H': 0.662825264908199, 'PURCHASE_TURN_LIMIT': 863, 'ROUGH_HASH': '0b00010001', 'TARGET_BEAM_WIDTH_INCREASE_RATE': 3.1384261941712217, 'TARGET_BEAM_WIDTH_HALF_PROGRES_RATE': 0.3751207273742888, 'MAX_BEAM_WIDTH': 497}. Best is trial 11 with value: 989217467.0.\u001b[0m\n"
     ]
    },
    {
     "name": "stdout",
     "output_type": "stream",
     "text": [
      "callback ok\n",
      "index_parallel=11\n",
      "sed -i 11_main.cpp -e 's/^constexpr int hash_table_size = .*;         \\/\\/ OPTIMIZE \\[9, 18\\]$/constexpr int hash_table_size = 11;         \\/\\/ OPTIMIZE [9, 18]/' -e 's/^constexpr double K_START = .*;  \\/\\/ OPTIMIZE \\[0\\.04, 0\\.2\\] LOG$/constexpr double K_START = 0.04898282780438623;  \\/\\/ OPTIMIZE [0.04, 0.2] LOG/' -e 's/^constexpr double K_END = .*;   \\/\\/ OPTIMIZE \\[0\\.03, 0\\.1\\] LOG$/constexpr double K_END = 0.04233679329339199;   \\/\\/ OPTIMIZE [0.03, 0.1] LOG/' -e 's/^constexpr double K_H = .*;      \\/\\/ OPTIMIZE \\[0\\.001, 0\\.999\\]$/constexpr double K_H = 0.8873410679193158;      \\/\\/ OPTIMIZE [0.001, 0.999]/' -e 's/^constexpr short PURCHASE_TURN_LIMIT = .*;  \\/\\/ OPTIMIZE \\[790, 870\\]$/constexpr short PURCHASE_TURN_LIMIT = 848;  \\/\\/ OPTIMIZE [790, 870]/' -e 's/^constexpr int ROUGH_HASH = .*;      \\/\\/ OPTIMIZE {0, 0b00000001, 0b00010001, 0b00010011, 0b00110011}$/constexpr int ROUGH_HASH = 0b00110011;      \\/\\/ OPTIMIZE {0, 0b00000001, 0b00010001, 0b00010011, 0b00110011}/' -e 's/^constexpr double TARGET_BEAM_WIDTH_INCREASE_RATE = .*;      \\/\\/ OPTIMIZE \\[0\\.25, 4\\.0\\] LOG$/constexpr double TARGET_BEAM_WIDTH_INCREASE_RATE = 3.2179949070739537;      \\/\\/ OPTIMIZE [0.25, 4.0] LOG/' -e 's/^constexpr double TARGET_BEAM_WIDTH_HALF_PROGRES_RATE = .*;  \\/\\/ OPTIMIZE \\[0\\.02, 0\\.98\\]$/constexpr double TARGET_BEAM_WIDTH_HALF_PROGRES_RATE = 0.5562221548568875;  \\/\\/ OPTIMIZE [0.02, 0.98]/' -e 's/^constexpr auto MAX_BEAM_WIDTH = .*;                        \\/\\/ OPTIMIZE \\[400, 4000\\] LOG$/constexpr auto MAX_BEAM_WIDTH = 802;                        \\/\\/ OPTIMIZE [400, 4000] LOG/'\n",
      "g++ 11_main.cpp -std=gnu++17 -O2 -DONLINE_JUDGE -o 11_main.cpp.out 2> /dev/null\n"
     ]
    },
    {
     "name": "stderr",
     "output_type": "stream",
     "text": [
      "\u001b[32m[I 2021-09-11 02:16:27,113]\u001b[0m Trial 32 finished with value: 978952768.0 and parameters: {'hash_table_size': 10, 'K_START': 0.14321453557224054, 'K_END': 0.05219918359364673, 'K_H': 0.689112653584158, 'PURCHASE_TURN_LIMIT': 848, 'ROUGH_HASH': '0b00110011', 'TARGET_BEAM_WIDTH_INCREASE_RATE': 3.0009181590485725, 'TARGET_BEAM_WIDTH_HALF_PROGRES_RATE': 0.4043553778365212, 'MAX_BEAM_WIDTH': 495}. Best is trial 11 with value: 989217467.0.\u001b[0m\n"
     ]
    },
    {
     "name": "stdout",
     "output_type": "stream",
     "text": [
      "callback ok\n",
      "index_parallel=0\n",
      "sed -i 0_main.cpp -e 's/^constexpr int hash_table_size = .*;         \\/\\/ OPTIMIZE \\[9, 18\\]$/constexpr int hash_table_size = 11;         \\/\\/ OPTIMIZE [9, 18]/' -e 's/^constexpr double K_START = .*;  \\/\\/ OPTIMIZE \\[0\\.04, 0\\.2\\] LOG$/constexpr double K_START = 0.048814987938075254;  \\/\\/ OPTIMIZE [0.04, 0.2] LOG/' -e 's/^constexpr double K_END = .*;   \\/\\/ OPTIMIZE \\[0\\.03, 0\\.1\\] LOG$/constexpr double K_END = 0.043279786359944165;   \\/\\/ OPTIMIZE [0.03, 0.1] LOG/' -e 's/^constexpr double K_H = .*;      \\/\\/ OPTIMIZE \\[0\\.001, 0\\.999\\]$/constexpr double K_H = 0.8494392823550561;      \\/\\/ OPTIMIZE [0.001, 0.999]/' -e 's/^constexpr short PURCHASE_TURN_LIMIT = .*;  \\/\\/ OPTIMIZE \\[790, 870\\]$/constexpr short PURCHASE_TURN_LIMIT = 848;  \\/\\/ OPTIMIZE [790, 870]/' -e 's/^constexpr int ROUGH_HASH = .*;      \\/\\/ OPTIMIZE {0, 0b00000001, 0b00010001, 0b00010011, 0b00110011}$/constexpr int ROUGH_HASH = 0b00010001;      \\/\\/ OPTIMIZE {0, 0b00000001, 0b00010001, 0b00010011, 0b00110011}/' -e 's/^constexpr double TARGET_BEAM_WIDTH_INCREASE_RATE = .*;      \\/\\/ OPTIMIZE \\[0\\.25, 4\\.0\\] LOG$/constexpr double TARGET_BEAM_WIDTH_INCREASE_RATE = 1.964113850732473;      \\/\\/ OPTIMIZE [0.25, 4.0] LOG/' -e 's/^constexpr double TARGET_BEAM_WIDTH_HALF_PROGRES_RATE = .*;  \\/\\/ OPTIMIZE \\[0\\.02, 0\\.98\\]$/constexpr double TARGET_BEAM_WIDTH_HALF_PROGRES_RATE = 0.532878454722512;  \\/\\/ OPTIMIZE [0.02, 0.98]/' -e 's/^constexpr auto MAX_BEAM_WIDTH = .*;                        \\/\\/ OPTIMIZE \\[400, 4000\\] LOG$/constexpr auto MAX_BEAM_WIDTH = 711;                        \\/\\/ OPTIMIZE [400, 4000] LOG/'\n",
      "g++ 0_main.cpp -std=gnu++17 -O2 -DONLINE_JUDGE -o 0_main.cpp.out 2> /dev/null\n"
     ]
    },
    {
     "name": "stderr",
     "output_type": "stream",
     "text": [
      "\u001b[32m[I 2021-09-11 02:16:30,541]\u001b[0m Trial 33 finished with value: 973642136.0 and parameters: {'hash_table_size': 11, 'K_START': 0.14968605234525828, 'K_END': 0.05484094053144343, 'K_H': 0.683669001375448, 'PURCHASE_TURN_LIMIT': 848, 'ROUGH_HASH': '0b00110011', 'TARGET_BEAM_WIDTH_INCREASE_RATE': 3.0351995447200166, 'TARGET_BEAM_WIDTH_HALF_PROGRES_RATE': 0.24665493910424408, 'MAX_BEAM_WIDTH': 511}. Best is trial 11 with value: 989217467.0.\u001b[0m\n"
     ]
    },
    {
     "name": "stdout",
     "output_type": "stream",
     "text": [
      "callback ok\n",
      "index_parallel=1\n",
      "sed -i 1_main.cpp -e 's/^constexpr int hash_table_size = .*;         \\/\\/ OPTIMIZE \\[9, 18\\]$/constexpr int hash_table_size = 9;         \\/\\/ OPTIMIZE [9, 18]/' -e 's/^constexpr double K_START = .*;  \\/\\/ OPTIMIZE \\[0\\.04, 0\\.2\\] LOG$/constexpr double K_START = 0.1050951891367634;  \\/\\/ OPTIMIZE [0.04, 0.2] LOG/' -e 's/^constexpr double K_END = .*;   \\/\\/ OPTIMIZE \\[0\\.03, 0\\.1\\] LOG$/constexpr double K_END = 0.0439548830231956;   \\/\\/ OPTIMIZE [0.03, 0.1] LOG/' -e 's/^constexpr double K_H = .*;      \\/\\/ OPTIMIZE \\[0\\.001, 0\\.999\\]$/constexpr double K_H = 0.8721091612758117;      \\/\\/ OPTIMIZE [0.001, 0.999]/' -e 's/^constexpr short PURCHASE_TURN_LIMIT = .*;  \\/\\/ OPTIMIZE \\[790, 870\\]$/constexpr short PURCHASE_TURN_LIMIT = 822;  \\/\\/ OPTIMIZE [790, 870]/' -e 's/^constexpr int ROUGH_HASH = .*;      \\/\\/ OPTIMIZE {0, 0b00000001, 0b00010001, 0b00010011, 0b00110011}$/constexpr int ROUGH_HASH = 0b00010001;      \\/\\/ OPTIMIZE {0, 0b00000001, 0b00010001, 0b00010011, 0b00110011}/' -e 's/^constexpr double TARGET_BEAM_WIDTH_INCREASE_RATE = .*;      \\/\\/ OPTIMIZE \\[0\\.25, 4\\.0\\] LOG$/constexpr double TARGET_BEAM_WIDTH_INCREASE_RATE = 2.020592061785447;      \\/\\/ OPTIMIZE [0.25, 4.0] LOG/' -e 's/^constexpr double TARGET_BEAM_WIDTH_HALF_PROGRES_RATE = .*;  \\/\\/ OPTIMIZE \\[0\\.02, 0\\.98\\]$/constexpr double TARGET_BEAM_WIDTH_HALF_PROGRES_RATE = 0.5253275597106891;  \\/\\/ OPTIMIZE [0.02, 0.98]/' -e 's/^constexpr auto MAX_BEAM_WIDTH = .*;                        \\/\\/ OPTIMIZE \\[400, 4000\\] LOG$/constexpr auto MAX_BEAM_WIDTH = 876;                        \\/\\/ OPTIMIZE [400, 4000] LOG/'\n",
      "g++ 1_main.cpp -std=gnu++17 -O2 -DONLINE_JUDGE -o 1_main.cpp.out 2> /dev/null\n"
     ]
    },
    {
     "name": "stderr",
     "output_type": "stream",
     "text": [
      "\u001b[32m[I 2021-09-11 02:16:40,177]\u001b[0m Trial 34 finished with value: 981399422.0 and parameters: {'hash_table_size': 11, 'K_START': 0.14814026632727703, 'K_END': 0.03172142296138857, 'K_H': 0.6918234326997228, 'PURCHASE_TURN_LIMIT': 847, 'ROUGH_HASH': '0b00010001', 'TARGET_BEAM_WIDTH_INCREASE_RATE': 3.1139669250930178, 'TARGET_BEAM_WIDTH_HALF_PROGRES_RATE': 0.5445716336277009, 'MAX_BEAM_WIDTH': 525}. Best is trial 11 with value: 989217467.0.\u001b[0m\n"
     ]
    },
    {
     "name": "stdout",
     "output_type": "stream",
     "text": [
      "callback ok\n",
      "index_parallel=2\n",
      "sed -i 2_main.cpp -e 's/^constexpr int hash_table_size = .*;         \\/\\/ OPTIMIZE \\[9, 18\\]$/constexpr int hash_table_size = 9;         \\/\\/ OPTIMIZE [9, 18]/' -e 's/^constexpr double K_START = .*;  \\/\\/ OPTIMIZE \\[0\\.04, 0\\.2\\] LOG$/constexpr double K_START = 0.1126970507053043;  \\/\\/ OPTIMIZE [0.04, 0.2] LOG/' -e 's/^constexpr double K_END = .*;   \\/\\/ OPTIMIZE \\[0\\.03, 0\\.1\\] LOG$/constexpr double K_END = 0.03595510005230502;   \\/\\/ OPTIMIZE [0.03, 0.1] LOG/' -e 's/^constexpr double K_H = .*;      \\/\\/ OPTIMIZE \\[0\\.001, 0\\.999\\]$/constexpr double K_H = 0.8388985105032;      \\/\\/ OPTIMIZE [0.001, 0.999]/' -e 's/^constexpr short PURCHASE_TURN_LIMIT = .*;  \\/\\/ OPTIMIZE \\[790, 870\\]$/constexpr short PURCHASE_TURN_LIMIT = 836;  \\/\\/ OPTIMIZE [790, 870]/' -e 's/^constexpr int ROUGH_HASH = .*;      \\/\\/ OPTIMIZE {0, 0b00000001, 0b00010001, 0b00010011, 0b00110011}$/constexpr int ROUGH_HASH = 0;      \\/\\/ OPTIMIZE {0, 0b00000001, 0b00010001, 0b00010011, 0b00110011}/' -e 's/^constexpr double TARGET_BEAM_WIDTH_INCREASE_RATE = .*;      \\/\\/ OPTIMIZE \\[0\\.25, 4\\.0\\] LOG$/constexpr double TARGET_BEAM_WIDTH_INCREASE_RATE = 1.1432971394285896;      \\/\\/ OPTIMIZE [0.25, 4.0] LOG/' -e 's/^constexpr double TARGET_BEAM_WIDTH_HALF_PROGRES_RATE = .*;  \\/\\/ OPTIMIZE \\[0\\.02, 0\\.98\\]$/constexpr double TARGET_BEAM_WIDTH_HALF_PROGRES_RATE = 0.49463504264450936;  \\/\\/ OPTIMIZE [0.02, 0.98]/' -e 's/^constexpr auto MAX_BEAM_WIDTH = .*;                        \\/\\/ OPTIMIZE \\[400, 4000\\] LOG$/constexpr auto MAX_BEAM_WIDTH = 772;                        \\/\\/ OPTIMIZE [400, 4000] LOG/'\n",
      "g++ 2_main.cpp -std=gnu++17 -O2 -DONLINE_JUDGE -o 2_main.cpp.out 2> /dev/null\n"
     ]
    },
    {
     "name": "stderr",
     "output_type": "stream",
     "text": [
      "\u001b[32m[I 2021-09-11 02:16:47,204]\u001b[0m Trial 35 finished with value: 969614241.0 and parameters: {'hash_table_size': 11, 'K_START': 0.04898282780438623, 'K_END': 0.04233679329339199, 'K_H': 0.8873410679193158, 'PURCHASE_TURN_LIMIT': 848, 'ROUGH_HASH': '0b00110011', 'TARGET_BEAM_WIDTH_INCREASE_RATE': 3.2179949070739537, 'TARGET_BEAM_WIDTH_HALF_PROGRES_RATE': 0.5562221548568875, 'MAX_BEAM_WIDTH': 802}. Best is trial 11 with value: 989217467.0.\u001b[0m\n"
     ]
    },
    {
     "name": "stdout",
     "output_type": "stream",
     "text": [
      "callback ok\n",
      "index_parallel=3\n",
      "sed -i 3_main.cpp -e 's/^constexpr int hash_table_size = .*;         \\/\\/ OPTIMIZE \\[9, 18\\]$/constexpr int hash_table_size = 9;         \\/\\/ OPTIMIZE [9, 18]/' -e 's/^constexpr double K_START = .*;  \\/\\/ OPTIMIZE \\[0\\.04, 0\\.2\\] LOG$/constexpr double K_START = 0.10784610896092768;  \\/\\/ OPTIMIZE [0.04, 0.2] LOG/' -e 's/^constexpr double K_END = .*;   \\/\\/ OPTIMIZE \\[0\\.03, 0\\.1\\] LOG$/constexpr double K_END = 0.03399964028047804;   \\/\\/ OPTIMIZE [0.03, 0.1] LOG/' -e 's/^constexpr double K_H = .*;      \\/\\/ OPTIMIZE \\[0\\.001, 0\\.999\\]$/constexpr double K_H = 0.863423889395089;      \\/\\/ OPTIMIZE [0.001, 0.999]/' -e 's/^constexpr short PURCHASE_TURN_LIMIT = .*;  \\/\\/ OPTIMIZE \\[790, 870\\]$/constexpr short PURCHASE_TURN_LIMIT = 837;  \\/\\/ OPTIMIZE [790, 870]/' -e 's/^constexpr int ROUGH_HASH = .*;      \\/\\/ OPTIMIZE {0, 0b00000001, 0b00010001, 0b00010011, 0b00110011}$/constexpr int ROUGH_HASH = 0;      \\/\\/ OPTIMIZE {0, 0b00000001, 0b00010001, 0b00010011, 0b00110011}/' -e 's/^constexpr double TARGET_BEAM_WIDTH_INCREASE_RATE = .*;      \\/\\/ OPTIMIZE \\[0\\.25, 4\\.0\\] LOG$/constexpr double TARGET_BEAM_WIDTH_INCREASE_RATE = 1.994544902966975;      \\/\\/ OPTIMIZE [0.25, 4.0] LOG/' -e 's/^constexpr double TARGET_BEAM_WIDTH_HALF_PROGRES_RATE = .*;  \\/\\/ OPTIMIZE \\[0\\.02, 0\\.98\\]$/constexpr double TARGET_BEAM_WIDTH_HALF_PROGRES_RATE = 0.5092064561937922;  \\/\\/ OPTIMIZE [0.02, 0.98]/' -e 's/^constexpr auto MAX_BEAM_WIDTH = .*;                        \\/\\/ OPTIMIZE \\[400, 4000\\] LOG$/constexpr auto MAX_BEAM_WIDTH = 761;                        \\/\\/ OPTIMIZE [400, 4000] LOG/'\n",
      "g++ 3_main.cpp -std=gnu++17 -O2 -DONLINE_JUDGE -o 3_main.cpp.out 2> /dev/null\n"
     ]
    },
    {
     "name": "stderr",
     "output_type": "stream",
     "text": [
      "\u001b[32m[I 2021-09-11 02:18:12,786]\u001b[0m Trial 36 finished with value: 982797180.0 and parameters: {'hash_table_size': 11, 'K_START': 0.048814987938075254, 'K_END': 0.043279786359944165, 'K_H': 0.8494392823550561, 'PURCHASE_TURN_LIMIT': 848, 'ROUGH_HASH': '0b00010001', 'TARGET_BEAM_WIDTH_INCREASE_RATE': 1.964113850732473, 'TARGET_BEAM_WIDTH_HALF_PROGRES_RATE': 0.532878454722512, 'MAX_BEAM_WIDTH': 711}. Best is trial 11 with value: 989217467.0.\u001b[0m\n"
     ]
    },
    {
     "name": "stdout",
     "output_type": "stream",
     "text": [
      "callback ok\n",
      "index_parallel=4\n",
      "sed -i 4_main.cpp -e 's/^constexpr int hash_table_size = .*;         \\/\\/ OPTIMIZE \\[9, 18\\]$/constexpr int hash_table_size = 9;         \\/\\/ OPTIMIZE [9, 18]/' -e 's/^constexpr double K_START = .*;  \\/\\/ OPTIMIZE \\[0\\.04, 0\\.2\\] LOG$/constexpr double K_START = 0.10897351233998842;  \\/\\/ OPTIMIZE [0.04, 0.2] LOG/' -e 's/^constexpr double K_END = .*;   \\/\\/ OPTIMIZE \\[0\\.03, 0\\.1\\] LOG$/constexpr double K_END = 0.034903893342435655;   \\/\\/ OPTIMIZE [0.03, 0.1] LOG/' -e 's/^constexpr double K_H = .*;      \\/\\/ OPTIMIZE \\[0\\.001, 0\\.999\\]$/constexpr double K_H = 0.46099787887166643;      \\/\\/ OPTIMIZE [0.001, 0.999]/' -e 's/^constexpr short PURCHASE_TURN_LIMIT = .*;  \\/\\/ OPTIMIZE \\[790, 870\\]$/constexpr short PURCHASE_TURN_LIMIT = 823;  \\/\\/ OPTIMIZE [790, 870]/' -e 's/^constexpr int ROUGH_HASH = .*;      \\/\\/ OPTIMIZE {0, 0b00000001, 0b00010001, 0b00010011, 0b00110011}$/constexpr int ROUGH_HASH = 0;      \\/\\/ OPTIMIZE {0, 0b00000001, 0b00010001, 0b00010011, 0b00110011}/' -e 's/^constexpr double TARGET_BEAM_WIDTH_INCREASE_RATE = .*;      \\/\\/ OPTIMIZE \\[0\\.25, 4\\.0\\] LOG$/constexpr double TARGET_BEAM_WIDTH_INCREASE_RATE = 2.670739923330471;      \\/\\/ OPTIMIZE [0.25, 4.0] LOG/' -e 's/^constexpr double TARGET_BEAM_WIDTH_HALF_PROGRES_RATE = .*;  \\/\\/ OPTIMIZE \\[0\\.02, 0\\.98\\]$/constexpr double TARGET_BEAM_WIDTH_HALF_PROGRES_RATE = 0.45847093548745943;  \\/\\/ OPTIMIZE [0.02, 0.98]/' -e 's/^constexpr auto MAX_BEAM_WIDTH = .*;                        \\/\\/ OPTIMIZE \\[400, 4000\\] LOG$/constexpr auto MAX_BEAM_WIDTH = 1043;                        \\/\\/ OPTIMIZE [400, 4000] LOG/'\n",
      "g++ 4_main.cpp -std=gnu++17 -O2 -DONLINE_JUDGE -o 4_main.cpp.out 2> /dev/null\n"
     ]
    },
    {
     "name": "stderr",
     "output_type": "stream",
     "text": [
      "\u001b[32m[I 2021-09-11 02:18:15,520]\u001b[0m Trial 37 finished with value: 986271639.0 and parameters: {'hash_table_size': 9, 'K_START': 0.1050951891367634, 'K_END': 0.0439548830231956, 'K_H': 0.8721091612758117, 'PURCHASE_TURN_LIMIT': 822, 'ROUGH_HASH': '0b00010001', 'TARGET_BEAM_WIDTH_INCREASE_RATE': 2.020592061785447, 'TARGET_BEAM_WIDTH_HALF_PROGRES_RATE': 0.5253275597106891, 'MAX_BEAM_WIDTH': 876}. Best is trial 11 with value: 989217467.0.\u001b[0m\n"
     ]
    },
    {
     "name": "stdout",
     "output_type": "stream",
     "text": [
      "callback ok\n",
      "index_parallel=5\n",
      "sed -i 5_main.cpp -e 's/^constexpr int hash_table_size = .*;         \\/\\/ OPTIMIZE \\[9, 18\\]$/constexpr int hash_table_size = 9;         \\/\\/ OPTIMIZE [9, 18]/' -e 's/^constexpr double K_START = .*;  \\/\\/ OPTIMIZE \\[0\\.04, 0\\.2\\] LOG$/constexpr double K_START = 0.12045370170251542;  \\/\\/ OPTIMIZE [0.04, 0.2] LOG/' -e 's/^constexpr double K_END = .*;   \\/\\/ OPTIMIZE \\[0\\.03, 0\\.1\\] LOG$/constexpr double K_END = 0.03567244260700483;   \\/\\/ OPTIMIZE [0.03, 0.1] LOG/' -e 's/^constexpr double K_H = .*;      \\/\\/ OPTIMIZE \\[0\\.001, 0\\.999\\]$/constexpr double K_H = 0.5014346803500982;      \\/\\/ OPTIMIZE [0.001, 0.999]/' -e 's/^constexpr short PURCHASE_TURN_LIMIT = .*;  \\/\\/ OPTIMIZE \\[790, 870\\]$/constexpr short PURCHASE_TURN_LIMIT = 822;  \\/\\/ OPTIMIZE [790, 870]/' -e 's/^constexpr int ROUGH_HASH = .*;      \\/\\/ OPTIMIZE {0, 0b00000001, 0b00010001, 0b00010011, 0b00110011}$/constexpr int ROUGH_HASH = 0;      \\/\\/ OPTIMIZE {0, 0b00000001, 0b00010001, 0b00010011, 0b00110011}/' -e 's/^constexpr double TARGET_BEAM_WIDTH_INCREASE_RATE = .*;      \\/\\/ OPTIMIZE \\[0\\.25, 4\\.0\\] LOG$/constexpr double TARGET_BEAM_WIDTH_INCREASE_RATE = 1.8853189029756678;      \\/\\/ OPTIMIZE [0.25, 4.0] LOG/' -e 's/^constexpr double TARGET_BEAM_WIDTH_HALF_PROGRES_RATE = .*;  \\/\\/ OPTIMIZE \\[0\\.02, 0\\.98\\]$/constexpr double TARGET_BEAM_WIDTH_HALF_PROGRES_RATE = 0.4519135300489884;  \\/\\/ OPTIMIZE [0.02, 0.98]/' -e 's/^constexpr auto MAX_BEAM_WIDTH = .*;                        \\/\\/ OPTIMIZE \\[400, 4000\\] LOG$/constexpr auto MAX_BEAM_WIDTH = 1013;                        \\/\\/ OPTIMIZE [400, 4000] LOG/'\n",
      "g++ 5_main.cpp -std=gnu++17 -O2 -DONLINE_JUDGE -o 5_main.cpp.out 2> /dev/null\n"
     ]
    },
    {
     "name": "stderr",
     "output_type": "stream",
     "text": [
      "\u001b[32m[I 2021-09-11 02:18:30,901]\u001b[0m Trial 38 finished with value: 989419162.0 and parameters: {'hash_table_size': 9, 'K_START': 0.1126970507053043, 'K_END': 0.03595510005230502, 'K_H': 0.8388985105032, 'PURCHASE_TURN_LIMIT': 836, 'ROUGH_HASH': '0', 'TARGET_BEAM_WIDTH_INCREASE_RATE': 1.1432971394285896, 'TARGET_BEAM_WIDTH_HALF_PROGRES_RATE': 0.49463504264450936, 'MAX_BEAM_WIDTH': 772}. Best is trial 38 with value: 989419162.0.\u001b[0m\n"
     ]
    },
    {
     "name": "stdout",
     "output_type": "stream",
     "text": [
      "Updated! 989419162.0\n",
      "callback ok\n",
      "index_parallel=6\n",
      "sed -i 6_main.cpp -e 's/^constexpr int hash_table_size = .*;         \\/\\/ OPTIMIZE \\[9, 18\\]$/constexpr int hash_table_size = 12;         \\/\\/ OPTIMIZE [9, 18]/' -e 's/^constexpr double K_START = .*;  \\/\\/ OPTIMIZE \\[0\\.04, 0\\.2\\] LOG$/constexpr double K_START = 0.10612829564343114;  \\/\\/ OPTIMIZE [0.04, 0.2] LOG/' -e 's/^constexpr double K_END = .*;   \\/\\/ OPTIMIZE \\[0\\.03, 0\\.1\\] LOG$/constexpr double K_END = 0.03522051755402619;   \\/\\/ OPTIMIZE [0.03, 0.1] LOG/' -e 's/^constexpr double K_H = .*;      \\/\\/ OPTIMIZE \\[0\\.001, 0\\.999\\]$/constexpr double K_H = 0.8391919965709378;      \\/\\/ OPTIMIZE [0.001, 0.999]/' -e 's/^constexpr short PURCHASE_TURN_LIMIT = .*;  \\/\\/ OPTIMIZE \\[790, 870\\]$/constexpr short PURCHASE_TURN_LIMIT = 822;  \\/\\/ OPTIMIZE [790, 870]/' -e 's/^constexpr int ROUGH_HASH = .*;      \\/\\/ OPTIMIZE {0, 0b00000001, 0b00010001, 0b00010011, 0b00110011}$/constexpr int ROUGH_HASH = 0;      \\/\\/ OPTIMIZE {0, 0b00000001, 0b00010001, 0b00010011, 0b00110011}/' -e 's/^constexpr double TARGET_BEAM_WIDTH_INCREASE_RATE = .*;      \\/\\/ OPTIMIZE \\[0\\.25, 4\\.0\\] LOG$/constexpr double TARGET_BEAM_WIDTH_INCREASE_RATE = 1.1168516707011167;      \\/\\/ OPTIMIZE [0.25, 4.0] LOG/' -e 's/^constexpr double TARGET_BEAM_WIDTH_HALF_PROGRES_RATE = .*;  \\/\\/ OPTIMIZE \\[0\\.02, 0\\.98\\]$/constexpr double TARGET_BEAM_WIDTH_HALF_PROGRES_RATE = 0.45827026392033143;  \\/\\/ OPTIMIZE [0.02, 0.98]/' -e 's/^constexpr auto MAX_BEAM_WIDTH = .*;                        \\/\\/ OPTIMIZE \\[400, 4000\\] LOG$/constexpr auto MAX_BEAM_WIDTH = 905;                        \\/\\/ OPTIMIZE [400, 4000] LOG/'\n",
      "g++ 6_main.cpp -std=gnu++17 -O2 -DONLINE_JUDGE -o 6_main.cpp.out 2> /dev/null\n"
     ]
    },
    {
     "name": "stderr",
     "output_type": "stream",
     "text": [
      "\u001b[32m[I 2021-09-11 02:18:33,121]\u001b[0m Trial 39 finished with value: 982827533.0 and parameters: {'hash_table_size': 9, 'K_START': 0.10784610896092768, 'K_END': 0.03399964028047804, 'K_H': 0.863423889395089, 'PURCHASE_TURN_LIMIT': 837, 'ROUGH_HASH': '0', 'TARGET_BEAM_WIDTH_INCREASE_RATE': 1.994544902966975, 'TARGET_BEAM_WIDTH_HALF_PROGRES_RATE': 0.5092064561937922, 'MAX_BEAM_WIDTH': 761}. Best is trial 38 with value: 989419162.0.\u001b[0m\n"
     ]
    },
    {
     "name": "stdout",
     "output_type": "stream",
     "text": [
      "callback ok\n",
      "index_parallel=7\n",
      "sed -i 7_main.cpp -e 's/^constexpr int hash_table_size = .*;         \\/\\/ OPTIMIZE \\[9, 18\\]$/constexpr int hash_table_size = 12;         \\/\\/ OPTIMIZE [9, 18]/' -e 's/^constexpr double K_START = .*;  \\/\\/ OPTIMIZE \\[0\\.04, 0\\.2\\] LOG$/constexpr double K_START = 0.1204917320665975;  \\/\\/ OPTIMIZE [0.04, 0.2] LOG/' -e 's/^constexpr double K_END = .*;   \\/\\/ OPTIMIZE \\[0\\.03, 0\\.1\\] LOG$/constexpr double K_END = 0.03667386080817692;   \\/\\/ OPTIMIZE [0.03, 0.1] LOG/' -e 's/^constexpr double K_H = .*;      \\/\\/ OPTIMIZE \\[0\\.001, 0\\.999\\]$/constexpr double K_H = 0.8212310473307838;      \\/\\/ OPTIMIZE [0.001, 0.999]/' -e 's/^constexpr short PURCHASE_TURN_LIMIT = .*;  \\/\\/ OPTIMIZE \\[790, 870\\]$/constexpr short PURCHASE_TURN_LIMIT = 821;  \\/\\/ OPTIMIZE [790, 870]/' -e 's/^constexpr int ROUGH_HASH = .*;      \\/\\/ OPTIMIZE {0, 0b00000001, 0b00010001, 0b00010011, 0b00110011}$/constexpr int ROUGH_HASH = 0b00010001;      \\/\\/ OPTIMIZE {0, 0b00000001, 0b00010001, 0b00010011, 0b00110011}/' -e 's/^constexpr double TARGET_BEAM_WIDTH_INCREASE_RATE = .*;      \\/\\/ OPTIMIZE \\[0\\.25, 4\\.0\\] LOG$/constexpr double TARGET_BEAM_WIDTH_INCREASE_RATE = 1.177960514394645;      \\/\\/ OPTIMIZE [0.25, 4.0] LOG/' -e 's/^constexpr double TARGET_BEAM_WIDTH_HALF_PROGRES_RATE = .*;  \\/\\/ OPTIMIZE \\[0\\.02, 0\\.98\\]$/constexpr double TARGET_BEAM_WIDTH_HALF_PROGRES_RATE = 0.441537390156707;  \\/\\/ OPTIMIZE [0.02, 0.98]/' -e 's/^constexpr auto MAX_BEAM_WIDTH = .*;                        \\/\\/ OPTIMIZE \\[400, 4000\\] LOG$/constexpr auto MAX_BEAM_WIDTH = 945;                        \\/\\/ OPTIMIZE [400, 4000] LOG/'\n",
      "g++ 7_main.cpp -std=gnu++17 -O2 -DONLINE_JUDGE -o 7_main.cpp.out 2> /dev/null\n"
     ]
    },
    {
     "name": "stderr",
     "output_type": "stream",
     "text": [
      "\u001b[32m[I 2021-09-11 02:20:03,656]\u001b[0m Trial 40 finished with value: 994833354.0 and parameters: {'hash_table_size': 9, 'K_START': 0.10897351233998842, 'K_END': 0.034903893342435655, 'K_H': 0.46099787887166643, 'PURCHASE_TURN_LIMIT': 823, 'ROUGH_HASH': '0', 'TARGET_BEAM_WIDTH_INCREASE_RATE': 2.670739923330471, 'TARGET_BEAM_WIDTH_HALF_PROGRES_RATE': 0.45847093548745943, 'MAX_BEAM_WIDTH': 1043}. Best is trial 40 with value: 994833354.0.\u001b[0m\n"
     ]
    },
    {
     "name": "stdout",
     "output_type": "stream",
     "text": [
      "Updated! 994833354.0\n",
      "callback ok\n",
      "index_parallel=8\n",
      "sed -i 8_main.cpp -e 's/^constexpr int hash_table_size = .*;         \\/\\/ OPTIMIZE \\[9, 18\\]$/constexpr int hash_table_size = 10;         \\/\\/ OPTIMIZE [9, 18]/' -e 's/^constexpr double K_START = .*;  \\/\\/ OPTIMIZE \\[0\\.04, 0\\.2\\] LOG$/constexpr double K_START = 0.1183674656967424;  \\/\\/ OPTIMIZE [0.04, 0.2] LOG/' -e 's/^constexpr double K_END = .*;   \\/\\/ OPTIMIZE \\[0\\.03, 0\\.1\\] LOG$/constexpr double K_END = 0.03610659903389084;   \\/\\/ OPTIMIZE [0.03, 0.1] LOG/' -e 's/^constexpr double K_H = .*;      \\/\\/ OPTIMIZE \\[0\\.001, 0\\.999\\]$/constexpr double K_H = 0.8168658986908146;      \\/\\/ OPTIMIZE [0.001, 0.999]/' -e 's/^constexpr short PURCHASE_TURN_LIMIT = .*;  \\/\\/ OPTIMIZE \\[790, 870\\]$/constexpr short PURCHASE_TURN_LIMIT = 821;  \\/\\/ OPTIMIZE [790, 870]/' -e 's/^constexpr int ROUGH_HASH = .*;      \\/\\/ OPTIMIZE {0, 0b00000001, 0b00010001, 0b00010011, 0b00110011}$/constexpr int ROUGH_HASH = 0;      \\/\\/ OPTIMIZE {0, 0b00000001, 0b00010001, 0b00010011, 0b00110011}/' -e 's/^constexpr double TARGET_BEAM_WIDTH_INCREASE_RATE = .*;      \\/\\/ OPTIMIZE \\[0\\.25, 4\\.0\\] LOG$/constexpr double TARGET_BEAM_WIDTH_INCREASE_RATE = 1.1539040597984582;      \\/\\/ OPTIMIZE [0.25, 4.0] LOG/' -e 's/^constexpr double TARGET_BEAM_WIDTH_HALF_PROGRES_RATE = .*;  \\/\\/ OPTIMIZE \\[0\\.02, 0\\.98\\]$/constexpr double TARGET_BEAM_WIDTH_HALF_PROGRES_RATE = 0.4511149799644346;  \\/\\/ OPTIMIZE [0.02, 0.98]/' -e 's/^constexpr auto MAX_BEAM_WIDTH = .*;                        \\/\\/ OPTIMIZE \\[400, 4000\\] LOG$/constexpr auto MAX_BEAM_WIDTH = 936;                        \\/\\/ OPTIMIZE [400, 4000] LOG/'\n",
      "g++ 8_main.cpp -std=gnu++17 -O2 -DONLINE_JUDGE -o 8_main.cpp.out 2> /dev/null\n"
     ]
    },
    {
     "name": "stderr",
     "output_type": "stream",
     "text": [
      "\u001b[32m[I 2021-09-11 02:20:06,837]\u001b[0m Trial 41 finished with value: 995270908.0 and parameters: {'hash_table_size': 9, 'K_START': 0.12045370170251542, 'K_END': 0.03567244260700483, 'K_H': 0.5014346803500982, 'PURCHASE_TURN_LIMIT': 822, 'ROUGH_HASH': '0', 'TARGET_BEAM_WIDTH_INCREASE_RATE': 1.8853189029756678, 'TARGET_BEAM_WIDTH_HALF_PROGRES_RATE': 0.4519135300489884, 'MAX_BEAM_WIDTH': 1013}. Best is trial 41 with value: 995270908.0.\u001b[0m\n"
     ]
    },
    {
     "name": "stdout",
     "output_type": "stream",
     "text": [
      "Updated! 995270908.0\n",
      "callback ok\n",
      "index_parallel=9\n",
      "sed -i 9_main.cpp -e 's/^constexpr int hash_table_size = .*;         \\/\\/ OPTIMIZE \\[9, 18\\]$/constexpr int hash_table_size = 10;         \\/\\/ OPTIMIZE [9, 18]/' -e 's/^constexpr double K_START = .*;  \\/\\/ OPTIMIZE \\[0\\.04, 0\\.2\\] LOG$/constexpr double K_START = 0.11997871610164007;  \\/\\/ OPTIMIZE [0.04, 0.2] LOG/' -e 's/^constexpr double K_END = .*;   \\/\\/ OPTIMIZE \\[0\\.03, 0\\.1\\] LOG$/constexpr double K_END = 0.03624115906822809;   \\/\\/ OPTIMIZE [0.03, 0.1] LOG/' -e 's/^constexpr double K_H = .*;      \\/\\/ OPTIMIZE \\[0\\.001, 0\\.999\\]$/constexpr double K_H = 0.4026679726157561;      \\/\\/ OPTIMIZE [0.001, 0.999]/' -e 's/^constexpr short PURCHASE_TURN_LIMIT = .*;  \\/\\/ OPTIMIZE \\[790, 870\\]$/constexpr short PURCHASE_TURN_LIMIT = 823;  \\/\\/ OPTIMIZE [790, 870]/' -e 's/^constexpr int ROUGH_HASH = .*;      \\/\\/ OPTIMIZE {0, 0b00000001, 0b00010001, 0b00010011, 0b00110011}$/constexpr int ROUGH_HASH = 0;      \\/\\/ OPTIMIZE {0, 0b00000001, 0b00010001, 0b00010011, 0b00110011}/' -e 's/^constexpr double TARGET_BEAM_WIDTH_INCREASE_RATE = .*;      \\/\\/ OPTIMIZE \\[0\\.25, 4\\.0\\] LOG$/constexpr double TARGET_BEAM_WIDTH_INCREASE_RATE = 2.6203407851249163;      \\/\\/ OPTIMIZE [0.25, 4.0] LOG/' -e 's/^constexpr double TARGET_BEAM_WIDTH_HALF_PROGRES_RATE = .*;  \\/\\/ OPTIMIZE \\[0\\.02, 0\\.98\\]$/constexpr double TARGET_BEAM_WIDTH_HALF_PROGRES_RATE = 0.45022061078667147;  \\/\\/ OPTIMIZE [0.02, 0.98]/' -e 's/^constexpr auto MAX_BEAM_WIDTH = .*;                        \\/\\/ OPTIMIZE \\[400, 4000\\] LOG$/constexpr auto MAX_BEAM_WIDTH = 944;                        \\/\\/ OPTIMIZE [400, 4000] LOG/'\n",
      "g++ 9_main.cpp -std=gnu++17 -O2 -DONLINE_JUDGE -o 9_main.cpp.out 2> /dev/null\n"
     ]
    },
    {
     "name": "stderr",
     "output_type": "stream",
     "text": [
      "\u001b[32m[I 2021-09-11 02:20:22,578]\u001b[0m Trial 42 finished with value: 970851416.0 and parameters: {'hash_table_size': 12, 'K_START': 0.10612829564343114, 'K_END': 0.03522051755402619, 'K_H': 0.8391919965709378, 'PURCHASE_TURN_LIMIT': 822, 'ROUGH_HASH': '0', 'TARGET_BEAM_WIDTH_INCREASE_RATE': 1.1168516707011167, 'TARGET_BEAM_WIDTH_HALF_PROGRES_RATE': 0.45827026392033143, 'MAX_BEAM_WIDTH': 905}. Best is trial 41 with value: 995270908.0.\u001b[0m\n"
     ]
    },
    {
     "name": "stdout",
     "output_type": "stream",
     "text": [
      "callback ok\n",
      "index_parallel=10\n",
      "sed -i 10_main.cpp -e 's/^constexpr int hash_table_size = .*;         \\/\\/ OPTIMIZE \\[9, 18\\]$/constexpr int hash_table_size = 10;         \\/\\/ OPTIMIZE [9, 18]/' -e 's/^constexpr double K_START = .*;  \\/\\/ OPTIMIZE \\[0\\.04, 0\\.2\\] LOG$/constexpr double K_START = 0.12190406717865625;  \\/\\/ OPTIMIZE [0.04, 0.2] LOG/' -e 's/^constexpr double K_END = .*;   \\/\\/ OPTIMIZE \\[0\\.03, 0\\.1\\] LOG$/constexpr double K_END = 0.037065045289297896;   \\/\\/ OPTIMIZE [0.03, 0.1] LOG/' -e 's/^constexpr double K_H = .*;      \\/\\/ OPTIMIZE \\[0\\.001, 0\\.999\\]$/constexpr double K_H = 0.38584301419108863;      \\/\\/ OPTIMIZE [0.001, 0.999]/' -e 's/^constexpr short PURCHASE_TURN_LIMIT = .*;  \\/\\/ OPTIMIZE \\[790, 870\\]$/constexpr short PURCHASE_TURN_LIMIT = 816;  \\/\\/ OPTIMIZE [790, 870]/' -e 's/^constexpr int ROUGH_HASH = .*;      \\/\\/ OPTIMIZE {0, 0b00000001, 0b00010001, 0b00010011, 0b00110011}$/constexpr int ROUGH_HASH = 0;      \\/\\/ OPTIMIZE {0, 0b00000001, 0b00010001, 0b00010011, 0b00110011}/' -e 's/^constexpr double TARGET_BEAM_WIDTH_INCREASE_RATE = .*;      \\/\\/ OPTIMIZE \\[0\\.25, 4\\.0\\] LOG$/constexpr double TARGET_BEAM_WIDTH_INCREASE_RATE = 2.5948056491238827;      \\/\\/ OPTIMIZE [0.25, 4.0] LOG/' -e 's/^constexpr double TARGET_BEAM_WIDTH_HALF_PROGRES_RATE = .*;  \\/\\/ OPTIMIZE \\[0\\.02, 0\\.98\\]$/constexpr double TARGET_BEAM_WIDTH_HALF_PROGRES_RATE = 0.4315390702560498;  \\/\\/ OPTIMIZE [0.02, 0.98]/' -e 's/^constexpr auto MAX_BEAM_WIDTH = .*;                        \\/\\/ OPTIMIZE \\[400, 4000\\] LOG$/constexpr auto MAX_BEAM_WIDTH = 1193;                        \\/\\/ OPTIMIZE [400, 4000] LOG/'\n",
      "g++ 10_main.cpp -std=gnu++17 -O2 -DONLINE_JUDGE -o 10_main.cpp.out 2> /dev/null\n"
     ]
    },
    {
     "name": "stderr",
     "output_type": "stream",
     "text": [
      "\u001b[32m[I 2021-09-11 02:20:25,762]\u001b[0m Trial 43 finished with value: 971535616.0 and parameters: {'hash_table_size': 12, 'K_START': 0.1204917320665975, 'K_END': 0.03667386080817692, 'K_H': 0.8212310473307838, 'PURCHASE_TURN_LIMIT': 821, 'ROUGH_HASH': '0b00010001', 'TARGET_BEAM_WIDTH_INCREASE_RATE': 1.177960514394645, 'TARGET_BEAM_WIDTH_HALF_PROGRES_RATE': 0.441537390156707, 'MAX_BEAM_WIDTH': 945}. Best is trial 41 with value: 995270908.0.\u001b[0m\n"
     ]
    },
    {
     "name": "stdout",
     "output_type": "stream",
     "text": [
      "callback ok\n",
      "index_parallel=11\n",
      "sed -i 11_main.cpp -e 's/^constexpr int hash_table_size = .*;         \\/\\/ OPTIMIZE \\[9, 18\\]$/constexpr int hash_table_size = 10;         \\/\\/ OPTIMIZE [9, 18]/' -e 's/^constexpr double K_START = .*;  \\/\\/ OPTIMIZE \\[0\\.04, 0\\.2\\] LOG$/constexpr double K_START = 0.09630606868315679;  \\/\\/ OPTIMIZE [0.04, 0.2] LOG/' -e 's/^constexpr double K_END = .*;   \\/\\/ OPTIMIZE \\[0\\.03, 0\\.1\\] LOG$/constexpr double K_END = 0.03394300265070662;   \\/\\/ OPTIMIZE [0.03, 0.1] LOG/' -e 's/^constexpr double K_H = .*;      \\/\\/ OPTIMIZE \\[0\\.001, 0\\.999\\]$/constexpr double K_H = 0.431998436770541;      \\/\\/ OPTIMIZE [0.001, 0.999]/' -e 's/^constexpr short PURCHASE_TURN_LIMIT = .*;  \\/\\/ OPTIMIZE \\[790, 870\\]$/constexpr short PURCHASE_TURN_LIMIT = 816;  \\/\\/ OPTIMIZE [790, 870]/' -e 's/^constexpr int ROUGH_HASH = .*;      \\/\\/ OPTIMIZE {0, 0b00000001, 0b00010001, 0b00010011, 0b00110011}$/constexpr int ROUGH_HASH = 0;      \\/\\/ OPTIMIZE {0, 0b00000001, 0b00010001, 0b00010011, 0b00110011}/' -e 's/^constexpr double TARGET_BEAM_WIDTH_INCREASE_RATE = .*;      \\/\\/ OPTIMIZE \\[0\\.25, 4\\.0\\] LOG$/constexpr double TARGET_BEAM_WIDTH_INCREASE_RATE = 2.659766467113771;      \\/\\/ OPTIMIZE [0.25, 4.0] LOG/' -e 's/^constexpr double TARGET_BEAM_WIDTH_HALF_PROGRES_RATE = .*;  \\/\\/ OPTIMIZE \\[0\\.02, 0\\.98\\]$/constexpr double TARGET_BEAM_WIDTH_HALF_PROGRES_RATE = 0.26771942051169517;  \\/\\/ OPTIMIZE [0.02, 0.98]/' -e 's/^constexpr auto MAX_BEAM_WIDTH = .*;                        \\/\\/ OPTIMIZE \\[400, 4000\\] LOG$/constexpr auto MAX_BEAM_WIDTH = 1239;                        \\/\\/ OPTIMIZE [400, 4000] LOG/'\n",
      "g++ 11_main.cpp -std=gnu++17 -O2 -DONLINE_JUDGE -o 11_main.cpp.out 2> /dev/null\n"
     ]
    },
    {
     "name": "stderr",
     "output_type": "stream",
     "text": [
      "\u001b[32m[I 2021-09-11 02:21:55,628]\u001b[0m Trial 44 finished with value: 976181167.0 and parameters: {'hash_table_size': 10, 'K_START': 0.1183674656967424, 'K_END': 0.03610659903389084, 'K_H': 0.8168658986908146, 'PURCHASE_TURN_LIMIT': 821, 'ROUGH_HASH': '0', 'TARGET_BEAM_WIDTH_INCREASE_RATE': 1.1539040597984582, 'TARGET_BEAM_WIDTH_HALF_PROGRES_RATE': 0.4511149799644346, 'MAX_BEAM_WIDTH': 936}. Best is trial 41 with value: 995270908.0.\u001b[0m\n"
     ]
    },
    {
     "name": "stdout",
     "output_type": "stream",
     "text": [
      "callback ok\n",
      "index_parallel=0\n",
      "sed -i 0_main.cpp -e 's/^constexpr int hash_table_size = .*;         \\/\\/ OPTIMIZE \\[9, 18\\]$/constexpr int hash_table_size = 13;         \\/\\/ OPTIMIZE [9, 18]/' -e 's/^constexpr double K_START = .*;  \\/\\/ OPTIMIZE \\[0\\.04, 0\\.2\\] LOG$/constexpr double K_START = 0.09343863017454576;  \\/\\/ OPTIMIZE [0.04, 0.2] LOG/' -e 's/^constexpr double K_END = .*;   \\/\\/ OPTIMIZE \\[0\\.03, 0\\.1\\] LOG$/constexpr double K_END = 0.03214958937207857;   \\/\\/ OPTIMIZE [0.03, 0.1] LOG/' -e 's/^constexpr double K_H = .*;      \\/\\/ OPTIMIZE \\[0\\.001, 0\\.999\\]$/constexpr double K_H = 0.4071741758703258;      \\/\\/ OPTIMIZE [0.001, 0.999]/' -e 's/^constexpr short PURCHASE_TURN_LIMIT = .*;  \\/\\/ OPTIMIZE \\[790, 870\\]$/constexpr short PURCHASE_TURN_LIMIT = 811;  \\/\\/ OPTIMIZE [790, 870]/' -e 's/^constexpr int ROUGH_HASH = .*;      \\/\\/ OPTIMIZE {0, 0b00000001, 0b00010001, 0b00010011, 0b00110011}$/constexpr int ROUGH_HASH = 0;      \\/\\/ OPTIMIZE {0, 0b00000001, 0b00010001, 0b00010011, 0b00110011}/' -e 's/^constexpr double TARGET_BEAM_WIDTH_INCREASE_RATE = .*;      \\/\\/ OPTIMIZE \\[0\\.25, 4\\.0\\] LOG$/constexpr double TARGET_BEAM_WIDTH_INCREASE_RATE = 2.6155652524057644;      \\/\\/ OPTIMIZE [0.25, 4.0] LOG/' -e 's/^constexpr double TARGET_BEAM_WIDTH_HALF_PROGRES_RATE = .*;  \\/\\/ OPTIMIZE \\[0\\.02, 0\\.98\\]$/constexpr double TARGET_BEAM_WIDTH_HALF_PROGRES_RATE = 0.12671829302449605;  \\/\\/ OPTIMIZE [0.02, 0.98]/' -e 's/^constexpr auto MAX_BEAM_WIDTH = .*;                        \\/\\/ OPTIMIZE \\[400, 4000\\] LOG$/constexpr auto MAX_BEAM_WIDTH = 620;                        \\/\\/ OPTIMIZE [400, 4000] LOG/'\n",
      "g++ 0_main.cpp -std=gnu++17 -O2 -DONLINE_JUDGE -o 0_main.cpp.out 2> /dev/null\n"
     ]
    },
    {
     "name": "stderr",
     "output_type": "stream",
     "text": [
      "\u001b[32m[I 2021-09-11 02:21:58,945]\u001b[0m Trial 45 finished with value: 991043694.0 and parameters: {'hash_table_size': 10, 'K_START': 0.11997871610164007, 'K_END': 0.03624115906822809, 'K_H': 0.4026679726157561, 'PURCHASE_TURN_LIMIT': 823, 'ROUGH_HASH': '0', 'TARGET_BEAM_WIDTH_INCREASE_RATE': 2.6203407851249163, 'TARGET_BEAM_WIDTH_HALF_PROGRES_RATE': 0.45022061078667147, 'MAX_BEAM_WIDTH': 944}. Best is trial 41 with value: 995270908.0.\u001b[0m\n"
     ]
    },
    {
     "name": "stdout",
     "output_type": "stream",
     "text": [
      "callback ok\n",
      "index_parallel=1\n",
      "sed -i 1_main.cpp -e 's/^constexpr int hash_table_size = .*;         \\/\\/ OPTIMIZE \\[9, 18\\]$/constexpr int hash_table_size = 13;         \\/\\/ OPTIMIZE [9, 18]/' -e 's/^constexpr double K_START = .*;  \\/\\/ OPTIMIZE \\[0\\.04, 0\\.2\\] LOG$/constexpr double K_START = 0.09164090367817522;  \\/\\/ OPTIMIZE [0.04, 0.2] LOG/' -e 's/^constexpr double K_END = .*;   \\/\\/ OPTIMIZE \\[0\\.03, 0\\.1\\] LOG$/constexpr double K_END = 0.033542682539319836;   \\/\\/ OPTIMIZE [0.03, 0.1] LOG/' -e 's/^constexpr double K_H = .*;      \\/\\/ OPTIMIZE \\[0\\.001, 0\\.999\\]$/constexpr double K_H = 0.4197373830433452;      \\/\\/ OPTIMIZE [0.001, 0.999]/' -e 's/^constexpr short PURCHASE_TURN_LIMIT = .*;  \\/\\/ OPTIMIZE \\[790, 870\\]$/constexpr short PURCHASE_TURN_LIMIT = 812;  \\/\\/ OPTIMIZE [790, 870]/' -e 's/^constexpr int ROUGH_HASH = .*;      \\/\\/ OPTIMIZE {0, 0b00000001, 0b00010001, 0b00010011, 0b00110011}$/constexpr int ROUGH_HASH = 0;      \\/\\/ OPTIMIZE {0, 0b00000001, 0b00010001, 0b00010011, 0b00110011}/' -e 's/^constexpr double TARGET_BEAM_WIDTH_INCREASE_RATE = .*;      \\/\\/ OPTIMIZE \\[0\\.25, 4\\.0\\] LOG$/constexpr double TARGET_BEAM_WIDTH_INCREASE_RATE = 2.6259861327134484;      \\/\\/ OPTIMIZE [0.25, 4.0] LOG/' -e 's/^constexpr double TARGET_BEAM_WIDTH_HALF_PROGRES_RATE = .*;  \\/\\/ OPTIMIZE \\[0\\.02, 0\\.98\\]$/constexpr double TARGET_BEAM_WIDTH_HALF_PROGRES_RATE = 0.1226881813434943;  \\/\\/ OPTIMIZE [0.02, 0.98]/' -e 's/^constexpr auto MAX_BEAM_WIDTH = .*;                        \\/\\/ OPTIMIZE \\[400, 4000\\] LOG$/constexpr auto MAX_BEAM_WIDTH = 1217;                        \\/\\/ OPTIMIZE [400, 4000] LOG/'\n",
      "g++ 1_main.cpp -std=gnu++17 -O2 -DONLINE_JUDGE -o 1_main.cpp.out 2> /dev/null\n"
     ]
    },
    {
     "name": "stderr",
     "output_type": "stream",
     "text": [
      "\u001b[32m[I 2021-09-11 02:22:05,223]\u001b[0m Trial 47 finished with value: 979156801.0 and parameters: {'hash_table_size': 10, 'K_START': 0.09630606868315679, 'K_END': 0.03394300265070662, 'K_H': 0.431998436770541, 'PURCHASE_TURN_LIMIT': 816, 'ROUGH_HASH': '0', 'TARGET_BEAM_WIDTH_INCREASE_RATE': 2.659766467113771, 'TARGET_BEAM_WIDTH_HALF_PROGRES_RATE': 0.26771942051169517, 'MAX_BEAM_WIDTH': 1239}. Best is trial 41 with value: 995270908.0.\u001b[0m\n"
     ]
    },
    {
     "name": "stdout",
     "output_type": "stream",
     "text": [
      "callback ok\n",
      "index_parallel=2\n",
      "sed -i 2_main.cpp -e 's/^constexpr int hash_table_size = .*;         \\/\\/ OPTIMIZE \\[9, 18\\]$/constexpr int hash_table_size = 9;         \\/\\/ OPTIMIZE [9, 18]/' -e 's/^constexpr double K_START = .*;  \\/\\/ OPTIMIZE \\[0\\.04, 0\\.2\\] LOG$/constexpr double K_START = 0.09165659663672049;  \\/\\/ OPTIMIZE [0.04, 0.2] LOG/' -e 's/^constexpr double K_END = .*;   \\/\\/ OPTIMIZE \\[0\\.03, 0\\.1\\] LOG$/constexpr double K_END = 0.03293597709762632;   \\/\\/ OPTIMIZE [0.03, 0.1] LOG/' -e 's/^constexpr double K_H = .*;      \\/\\/ OPTIMIZE \\[0\\.001, 0\\.999\\]$/constexpr double K_H = 0.3801088958077694;      \\/\\/ OPTIMIZE [0.001, 0.999]/' -e 's/^constexpr short PURCHASE_TURN_LIMIT = .*;  \\/\\/ OPTIMIZE \\[790, 870\\]$/constexpr short PURCHASE_TURN_LIMIT = 817;  \\/\\/ OPTIMIZE [790, 870]/' -e 's/^constexpr int ROUGH_HASH = .*;      \\/\\/ OPTIMIZE {0, 0b00000001, 0b00010001, 0b00010011, 0b00110011}$/constexpr int ROUGH_HASH = 0;      \\/\\/ OPTIMIZE {0, 0b00000001, 0b00010001, 0b00010011, 0b00110011}/' -e 's/^constexpr double TARGET_BEAM_WIDTH_INCREASE_RATE = .*;      \\/\\/ OPTIMIZE \\[0\\.25, 4\\.0\\] LOG$/constexpr double TARGET_BEAM_WIDTH_INCREASE_RATE = 1.7640067749492594;      \\/\\/ OPTIMIZE [0.25, 4.0] LOG/' -e 's/^constexpr double TARGET_BEAM_WIDTH_HALF_PROGRES_RATE = .*;  \\/\\/ OPTIMIZE \\[0\\.02, 0\\.98\\]$/constexpr double TARGET_BEAM_WIDTH_HALF_PROGRES_RATE = 0.12060054064256409;  \\/\\/ OPTIMIZE [0.02, 0.98]/' -e 's/^constexpr auto MAX_BEAM_WIDTH = .*;                        \\/\\/ OPTIMIZE \\[400, 4000\\] LOG$/constexpr auto MAX_BEAM_WIDTH = 1150;                        \\/\\/ OPTIMIZE [400, 4000] LOG/'\n",
      "g++ 2_main.cpp -std=gnu++17 -O2 -DONLINE_JUDGE -o 2_main.cpp.out 2> /dev/null\n"
     ]
    },
    {
     "name": "stderr",
     "output_type": "stream",
     "text": [
      "\u001b[32m[I 2021-09-11 02:22:14,415]\u001b[0m Trial 46 finished with value: 987922806.0 and parameters: {'hash_table_size': 10, 'K_START': 0.12190406717865625, 'K_END': 0.037065045289297896, 'K_H': 0.38584301419108863, 'PURCHASE_TURN_LIMIT': 816, 'ROUGH_HASH': '0', 'TARGET_BEAM_WIDTH_INCREASE_RATE': 2.5948056491238827, 'TARGET_BEAM_WIDTH_HALF_PROGRES_RATE': 0.4315390702560498, 'MAX_BEAM_WIDTH': 1193}. Best is trial 41 with value: 995270908.0.\u001b[0m\n"
     ]
    },
    {
     "name": "stdout",
     "output_type": "stream",
     "text": [
      "callback ok\n",
      "index_parallel=3\n",
      "sed -i 3_main.cpp -e 's/^constexpr int hash_table_size = .*;         \\/\\/ OPTIMIZE \\[9, 18\\]$/constexpr int hash_table_size = 13;         \\/\\/ OPTIMIZE [9, 18]/' -e 's/^constexpr double K_START = .*;  \\/\\/ OPTIMIZE \\[0\\.04, 0\\.2\\] LOG$/constexpr double K_START = 0.0916336362455829;  \\/\\/ OPTIMIZE [0.04, 0.2] LOG/' -e 's/^constexpr double K_END = .*;   \\/\\/ OPTIMIZE \\[0\\.03, 0\\.1\\] LOG$/constexpr double K_END = 0.03253332122682316;   \\/\\/ OPTIMIZE [0.03, 0.1] LOG/' -e 's/^constexpr double K_H = .*;      \\/\\/ OPTIMIZE \\[0\\.001, 0\\.999\\]$/constexpr double K_H = 0.25026179351933964;      \\/\\/ OPTIMIZE [0.001, 0.999]/' -e 's/^constexpr short PURCHASE_TURN_LIMIT = .*;  \\/\\/ OPTIMIZE \\[790, 870\\]$/constexpr short PURCHASE_TURN_LIMIT = 809;  \\/\\/ OPTIMIZE [790, 870]/' -e 's/^constexpr int ROUGH_HASH = .*;      \\/\\/ OPTIMIZE {0, 0b00000001, 0b00010001, 0b00010011, 0b00110011}$/constexpr int ROUGH_HASH = 0;      \\/\\/ OPTIMIZE {0, 0b00000001, 0b00010001, 0b00010011, 0b00110011}/' -e 's/^constexpr double TARGET_BEAM_WIDTH_INCREASE_RATE = .*;      \\/\\/ OPTIMIZE \\[0\\.25, 4\\.0\\] LOG$/constexpr double TARGET_BEAM_WIDTH_INCREASE_RATE = 0.6845632870477073;      \\/\\/ OPTIMIZE [0.25, 4.0] LOG/' -e 's/^constexpr double TARGET_BEAM_WIDTH_HALF_PROGRES_RATE = .*;  \\/\\/ OPTIMIZE \\[0\\.02, 0\\.98\\]$/constexpr double TARGET_BEAM_WIDTH_HALF_PROGRES_RATE = 0.6326801461462032;  \\/\\/ OPTIMIZE [0.02, 0.98]/' -e 's/^constexpr auto MAX_BEAM_WIDTH = .*;                        \\/\\/ OPTIMIZE \\[400, 4000\\] LOG$/constexpr auto MAX_BEAM_WIDTH = 668;                        \\/\\/ OPTIMIZE [400, 4000] LOG/'\n",
      "g++ 3_main.cpp -std=gnu++17 -O2 -DONLINE_JUDGE -o 3_main.cpp.out 2> /dev/null\n"
     ]
    },
    {
     "name": "stderr",
     "output_type": "stream",
     "text": [
      "\u001b[32m[I 2021-09-11 02:23:33,905]\u001b[0m Trial 48 finished with value: 973660789.0 and parameters: {'hash_table_size': 13, 'K_START': 0.09343863017454576, 'K_END': 0.03214958937207857, 'K_H': 0.4071741758703258, 'PURCHASE_TURN_LIMIT': 811, 'ROUGH_HASH': '0', 'TARGET_BEAM_WIDTH_INCREASE_RATE': 2.6155652524057644, 'TARGET_BEAM_WIDTH_HALF_PROGRES_RATE': 0.12671829302449605, 'MAX_BEAM_WIDTH': 620}. Best is trial 41 with value: 995270908.0.\u001b[0m\n"
     ]
    },
    {
     "name": "stdout",
     "output_type": "stream",
     "text": [
      "callback ok\n",
      "index_parallel=4\n",
      "sed -i 4_main.cpp -e 's/^constexpr int hash_table_size = .*;         \\/\\/ OPTIMIZE \\[9, 18\\]$/constexpr int hash_table_size = 9;         \\/\\/ OPTIMIZE [9, 18]/' -e 's/^constexpr double K_START = .*;  \\/\\/ OPTIMIZE \\[0\\.04, 0\\.2\\] LOG$/constexpr double K_START = 0.13312289354333406;  \\/\\/ OPTIMIZE [0.04, 0.2] LOG/' -e 's/^constexpr double K_END = .*;   \\/\\/ OPTIMIZE \\[0\\.03, 0\\.1\\] LOG$/constexpr double K_END = 0.03334016180270514;   \\/\\/ OPTIMIZE [0.03, 0.1] LOG/' -e 's/^constexpr double K_H = .*;      \\/\\/ OPTIMIZE \\[0\\.001, 0\\.999\\]$/constexpr double K_H = 0.24055639300895926;      \\/\\/ OPTIMIZE [0.001, 0.999]/' -e 's/^constexpr short PURCHASE_TURN_LIMIT = .*;  \\/\\/ OPTIMIZE \\[790, 870\\]$/constexpr short PURCHASE_TURN_LIMIT = 793;  \\/\\/ OPTIMIZE [790, 870]/' -e 's/^constexpr int ROUGH_HASH = .*;      \\/\\/ OPTIMIZE {0, 0b00000001, 0b00010001, 0b00010011, 0b00110011}$/constexpr int ROUGH_HASH = 0;      \\/\\/ OPTIMIZE {0, 0b00000001, 0b00010001, 0b00010011, 0b00110011}/' -e 's/^constexpr double TARGET_BEAM_WIDTH_INCREASE_RATE = .*;      \\/\\/ OPTIMIZE \\[0\\.25, 4\\.0\\] LOG$/constexpr double TARGET_BEAM_WIDTH_INCREASE_RATE = 1.8378734689425271;      \\/\\/ OPTIMIZE [0.25, 4.0] LOG/' -e 's/^constexpr double TARGET_BEAM_WIDTH_HALF_PROGRES_RATE = .*;  \\/\\/ OPTIMIZE \\[0\\.02, 0\\.98\\]$/constexpr double TARGET_BEAM_WIDTH_HALF_PROGRES_RATE = 0.2946626985097971;  \\/\\/ OPTIMIZE [0.02, 0.98]/' -e 's/^constexpr auto MAX_BEAM_WIDTH = .*;                        \\/\\/ OPTIMIZE \\[400, 4000\\] LOG$/constexpr auto MAX_BEAM_WIDTH = 1404;                        \\/\\/ OPTIMIZE [400, 4000] LOG/'\n",
      "g++ 4_main.cpp -std=gnu++17 -O2 -DONLINE_JUDGE -o 4_main.cpp.out 2> /dev/null\n"
     ]
    },
    {
     "name": "stderr",
     "output_type": "stream",
     "text": [
      "\u001b[32m[I 2021-09-11 02:23:38,177]\u001b[0m Trial 49 finished with value: 974828125.0 and parameters: {'hash_table_size': 13, 'K_START': 0.09164090367817522, 'K_END': 0.033542682539319836, 'K_H': 0.4197373830433452, 'PURCHASE_TURN_LIMIT': 812, 'ROUGH_HASH': '0', 'TARGET_BEAM_WIDTH_INCREASE_RATE': 2.6259861327134484, 'TARGET_BEAM_WIDTH_HALF_PROGRES_RATE': 0.1226881813434943, 'MAX_BEAM_WIDTH': 1217}. Best is trial 41 with value: 995270908.0.\u001b[0m\n"
     ]
    },
    {
     "name": "stdout",
     "output_type": "stream",
     "text": [
      "callback ok\n",
      "index_parallel=5\n",
      "sed -i 5_main.cpp -e 's/^constexpr int hash_table_size = .*;         \\/\\/ OPTIMIZE \\[9, 18\\]$/constexpr int hash_table_size = 9;         \\/\\/ OPTIMIZE [9, 18]/' -e 's/^constexpr double K_START = .*;  \\/\\/ OPTIMIZE \\[0\\.04, 0\\.2\\] LOG$/constexpr double K_START = 0.13165840982223623;  \\/\\/ OPTIMIZE [0.04, 0.2] LOG/' -e 's/^constexpr double K_END = .*;   \\/\\/ OPTIMIZE \\[0\\.03, 0\\.1\\] LOG$/constexpr double K_END = 0.08340188740700616;   \\/\\/ OPTIMIZE [0.03, 0.1] LOG/' -e 's/^constexpr double K_H = .*;      \\/\\/ OPTIMIZE \\[0\\.001, 0\\.999\\]$/constexpr double K_H = 0.22782954294294125;      \\/\\/ OPTIMIZE [0.001, 0.999]/' -e 's/^constexpr short PURCHASE_TURN_LIMIT = .*;  \\/\\/ OPTIMIZE \\[790, 870\\]$/constexpr short PURCHASE_TURN_LIMIT = 835;  \\/\\/ OPTIMIZE [790, 870]/' -e 's/^constexpr int ROUGH_HASH = .*;      \\/\\/ OPTIMIZE {0, 0b00000001, 0b00010001, 0b00010011, 0b00110011}$/constexpr int ROUGH_HASH = 0;      \\/\\/ OPTIMIZE {0, 0b00000001, 0b00010001, 0b00010011, 0b00110011}/' -e 's/^constexpr double TARGET_BEAM_WIDTH_INCREASE_RATE = .*;      \\/\\/ OPTIMIZE \\[0\\.25, 4\\.0\\] LOG$/constexpr double TARGET_BEAM_WIDTH_INCREASE_RATE = 0.6912582860202676;      \\/\\/ OPTIMIZE [0.25, 4.0] LOG/' -e 's/^constexpr double TARGET_BEAM_WIDTH_HALF_PROGRES_RATE = .*;  \\/\\/ OPTIMIZE \\[0\\.02, 0\\.98\\]$/constexpr double TARGET_BEAM_WIDTH_HALF_PROGRES_RATE = 0.2947915708099581;  \\/\\/ OPTIMIZE [0.02, 0.98]/' -e 's/^constexpr auto MAX_BEAM_WIDTH = .*;                        \\/\\/ OPTIMIZE \\[400, 4000\\] LOG$/constexpr auto MAX_BEAM_WIDTH = 677;                        \\/\\/ OPTIMIZE [400, 4000] LOG/'\n",
      "g++ 5_main.cpp -std=gnu++17 -O2 -DONLINE_JUDGE -o 5_main.cpp.out 2> /dev/null\n"
     ]
    },
    {
     "name": "stderr",
     "output_type": "stream",
     "text": [
      "\u001b[32m[I 2021-09-11 02:23:46,116]\u001b[0m Trial 50 finished with value: 982172590.0 and parameters: {'hash_table_size': 9, 'K_START': 0.09165659663672049, 'K_END': 0.03293597709762632, 'K_H': 0.3801088958077694, 'PURCHASE_TURN_LIMIT': 817, 'ROUGH_HASH': '0', 'TARGET_BEAM_WIDTH_INCREASE_RATE': 1.7640067749492594, 'TARGET_BEAM_WIDTH_HALF_PROGRES_RATE': 0.12060054064256409, 'MAX_BEAM_WIDTH': 1150}. Best is trial 41 with value: 995270908.0.\u001b[0m\n"
     ]
    },
    {
     "name": "stdout",
     "output_type": "stream",
     "text": [
      "callback ok\n",
      "index_parallel=6\n",
      "sed -i 6_main.cpp -e 's/^constexpr int hash_table_size = .*;         \\/\\/ OPTIMIZE \\[9, 18\\]$/constexpr int hash_table_size = 9;         \\/\\/ OPTIMIZE [9, 18]/' -e 's/^constexpr double K_START = .*;  \\/\\/ OPTIMIZE \\[0\\.04, 0\\.2\\] LOG$/constexpr double K_START = 0.1287860430349627;  \\/\\/ OPTIMIZE [0.04, 0.2] LOG/' -e 's/^constexpr double K_END = .*;   \\/\\/ OPTIMIZE \\[0\\.03, 0\\.1\\] LOG$/constexpr double K_END = 0.03689683259423554;   \\/\\/ OPTIMIZE [0.03, 0.1] LOG/' -e 's/^constexpr double K_H = .*;      \\/\\/ OPTIMIZE \\[0\\.001, 0\\.999\\]$/constexpr double K_H = 0.3410124280496699;      \\/\\/ OPTIMIZE [0.001, 0.999]/' -e 's/^constexpr short PURCHASE_TURN_LIMIT = .*;  \\/\\/ OPTIMIZE \\[790, 870\\]$/constexpr short PURCHASE_TURN_LIMIT = 790;  \\/\\/ OPTIMIZE [790, 870]/' -e 's/^constexpr int ROUGH_HASH = .*;      \\/\\/ OPTIMIZE {0, 0b00000001, 0b00010001, 0b00010011, 0b00110011}$/constexpr int ROUGH_HASH = 0;      \\/\\/ OPTIMIZE {0, 0b00000001, 0b00010001, 0b00010011, 0b00110011}/' -e 's/^constexpr double TARGET_BEAM_WIDTH_INCREASE_RATE = .*;      \\/\\/ OPTIMIZE \\[0\\.25, 4\\.0\\] LOG$/constexpr double TARGET_BEAM_WIDTH_INCREASE_RATE = 0.7143842478390231;      \\/\\/ OPTIMIZE [0.25, 4.0] LOG/' -e 's/^constexpr double TARGET_BEAM_WIDTH_HALF_PROGRES_RATE = .*;  \\/\\/ OPTIMIZE \\[0\\.02, 0\\.98\\]$/constexpr double TARGET_BEAM_WIDTH_HALF_PROGRES_RATE = 0.4814551742302855;  \\/\\/ OPTIMIZE [0.02, 0.98]/' -e 's/^constexpr auto MAX_BEAM_WIDTH = .*;                        \\/\\/ OPTIMIZE \\[400, 4000\\] LOG$/constexpr auto MAX_BEAM_WIDTH = 1440;                        \\/\\/ OPTIMIZE [400, 4000] LOG/'\n",
      "g++ 6_main.cpp -std=gnu++17 -O2 -DONLINE_JUDGE -o 6_main.cpp.out 2> /dev/null\n"
     ]
    },
    {
     "name": "stderr",
     "output_type": "stream",
     "text": [
      "\u001b[32m[I 2021-09-11 02:23:59,578]\u001b[0m Trial 51 finished with value: 971526428.0 and parameters: {'hash_table_size': 13, 'K_START': 0.0916336362455829, 'K_END': 0.03253332122682316, 'K_H': 0.25026179351933964, 'PURCHASE_TURN_LIMIT': 809, 'ROUGH_HASH': '0', 'TARGET_BEAM_WIDTH_INCREASE_RATE': 0.6845632870477073, 'TARGET_BEAM_WIDTH_HALF_PROGRES_RATE': 0.6326801461462032, 'MAX_BEAM_WIDTH': 668}. Best is trial 41 with value: 995270908.0.\u001b[0m\n"
     ]
    },
    {
     "name": "stdout",
     "output_type": "stream",
     "text": [
      "callback ok\n",
      "index_parallel=7\n",
      "sed -i 7_main.cpp -e 's/^constexpr int hash_table_size = .*;         \\/\\/ OPTIMIZE \\[9, 18\\]$/constexpr int hash_table_size = 9;         \\/\\/ OPTIMIZE [9, 18]/' -e 's/^constexpr double K_START = .*;  \\/\\/ OPTIMIZE \\[0\\.04, 0\\.2\\] LOG$/constexpr double K_START = 0.13198843388992135;  \\/\\/ OPTIMIZE [0.04, 0.2] LOG/' -e 's/^constexpr double K_END = .*;   \\/\\/ OPTIMIZE \\[0\\.03, 0\\.1\\] LOG$/constexpr double K_END = 0.03674189201866352;   \\/\\/ OPTIMIZE [0.03, 0.1] LOG/' -e 's/^constexpr double K_H = .*;      \\/\\/ OPTIMIZE \\[0\\.001, 0\\.999\\]$/constexpr double K_H = 0.47708820638252003;      \\/\\/ OPTIMIZE [0.001, 0.999]/' -e 's/^constexpr short PURCHASE_TURN_LIMIT = .*;  \\/\\/ OPTIMIZE \\[790, 870\\]$/constexpr short PURCHASE_TURN_LIMIT = 796;  \\/\\/ OPTIMIZE [790, 870]/' -e 's/^constexpr int ROUGH_HASH = .*;      \\/\\/ OPTIMIZE {0, 0b00000001, 0b00010001, 0b00010011, 0b00110011}$/constexpr int ROUGH_HASH = 0;      \\/\\/ OPTIMIZE {0, 0b00000001, 0b00010001, 0b00010011, 0b00110011}/' -e 's/^constexpr double TARGET_BEAM_WIDTH_INCREASE_RATE = .*;      \\/\\/ OPTIMIZE \\[0\\.25, 4\\.0\\] LOG$/constexpr double TARGET_BEAM_WIDTH_INCREASE_RATE = 1.7799960587607693;      \\/\\/ OPTIMIZE [0.25, 4.0] LOG/' -e 's/^constexpr double TARGET_BEAM_WIDTH_HALF_PROGRES_RATE = .*;  \\/\\/ OPTIMIZE \\[0\\.02, 0\\.98\\]$/constexpr double TARGET_BEAM_WIDTH_HALF_PROGRES_RATE = 0.30279300081935157;  \\/\\/ OPTIMIZE [0.02, 0.98]/' -e 's/^constexpr auto MAX_BEAM_WIDTH = .*;                        \\/\\/ OPTIMIZE \\[400, 4000\\] LOG$/constexpr auto MAX_BEAM_WIDTH = 1056;                        \\/\\/ OPTIMIZE [400, 4000] LOG/'\n",
      "g++ 7_main.cpp -std=gnu++17 -O2 -DONLINE_JUDGE -o 7_main.cpp.out 2> /dev/null\n"
     ]
    },
    {
     "name": "stderr",
     "output_type": "stream",
     "text": [
      "\u001b[32m[I 2021-09-11 02:25:13,953]\u001b[0m Trial 52 finished with value: 957269310.0 and parameters: {'hash_table_size': 9, 'K_START': 0.13312289354333406, 'K_END': 0.03334016180270514, 'K_H': 0.24055639300895926, 'PURCHASE_TURN_LIMIT': 793, 'ROUGH_HASH': '0', 'TARGET_BEAM_WIDTH_INCREASE_RATE': 1.8378734689425271, 'TARGET_BEAM_WIDTH_HALF_PROGRES_RATE': 0.2946626985097971, 'MAX_BEAM_WIDTH': 1404}. Best is trial 41 with value: 995270908.0.\u001b[0m\n"
     ]
    },
    {
     "name": "stdout",
     "output_type": "stream",
     "text": [
      "callback ok\n",
      "index_parallel=8\n",
      "sed -i 8_main.cpp -e 's/^constexpr int hash_table_size = .*;         \\/\\/ OPTIMIZE \\[9, 18\\]$/constexpr int hash_table_size = 10;         \\/\\/ OPTIMIZE [9, 18]/' -e 's/^constexpr double K_START = .*;  \\/\\/ OPTIMIZE \\[0\\.04, 0\\.2\\] LOG$/constexpr double K_START = 0.1133319026792525;  \\/\\/ OPTIMIZE [0.04, 0.2] LOG/' -e 's/^constexpr double K_END = .*;   \\/\\/ OPTIMIZE \\[0\\.03, 0\\.1\\] LOG$/constexpr double K_END = 0.03744428064600851;   \\/\\/ OPTIMIZE [0.03, 0.1] LOG/' -e 's/^constexpr double K_H = .*;      \\/\\/ OPTIMIZE \\[0\\.001, 0\\.999\\]$/constexpr double K_H = 0.3498619142998969;      \\/\\/ OPTIMIZE [0.001, 0.999]/' -e 's/^constexpr short PURCHASE_TURN_LIMIT = .*;  \\/\\/ OPTIMIZE \\[790, 870\\]$/constexpr short PURCHASE_TURN_LIMIT = 826;  \\/\\/ OPTIMIZE [790, 870]/' -e 's/^constexpr int ROUGH_HASH = .*;      \\/\\/ OPTIMIZE {0, 0b00000001, 0b00010001, 0b00010011, 0b00110011}$/constexpr int ROUGH_HASH = 0;      \\/\\/ OPTIMIZE {0, 0b00000001, 0b00010001, 0b00010011, 0b00110011}/' -e 's/^constexpr double TARGET_BEAM_WIDTH_INCREASE_RATE = .*;      \\/\\/ OPTIMIZE \\[0\\.25, 4\\.0\\] LOG$/constexpr double TARGET_BEAM_WIDTH_INCREASE_RATE = 2.288648895933497;      \\/\\/ OPTIMIZE [0.25, 4.0] LOG/' -e 's/^constexpr double TARGET_BEAM_WIDTH_HALF_PROGRES_RATE = .*;  \\/\\/ OPTIMIZE \\[0\\.02, 0\\.98\\]$/constexpr double TARGET_BEAM_WIDTH_HALF_PROGRES_RATE = 0.48331961636344073;  \\/\\/ OPTIMIZE [0.02, 0.98]/' -e 's/^constexpr auto MAX_BEAM_WIDTH = .*;                        \\/\\/ OPTIMIZE \\[400, 4000\\] LOG$/constexpr auto MAX_BEAM_WIDTH = 1052;                        \\/\\/ OPTIMIZE [400, 4000] LOG/'\n",
      "g++ 8_main.cpp -std=gnu++17 -O2 -DONLINE_JUDGE -o 8_main.cpp.out 2> /dev/null\n"
     ]
    },
    {
     "name": "stderr",
     "output_type": "stream",
     "text": [
      "\u001b[32m[I 2021-09-11 02:25:22,260]\u001b[0m Trial 53 finished with value: 966966393.0 and parameters: {'hash_table_size': 9, 'K_START': 0.13165840982223623, 'K_END': 0.08340188740700616, 'K_H': 0.22782954294294125, 'PURCHASE_TURN_LIMIT': 835, 'ROUGH_HASH': '0', 'TARGET_BEAM_WIDTH_INCREASE_RATE': 0.6912582860202676, 'TARGET_BEAM_WIDTH_HALF_PROGRES_RATE': 0.2947915708099581, 'MAX_BEAM_WIDTH': 677}. Best is trial 41 with value: 995270908.0.\u001b[0m\n"
     ]
    },
    {
     "name": "stdout",
     "output_type": "stream",
     "text": [
      "callback ok\n",
      "index_parallel=9\n",
      "sed -i 9_main.cpp -e 's/^constexpr int hash_table_size = .*;         \\/\\/ OPTIMIZE \\[9, 18\\]$/constexpr int hash_table_size = 10;         \\/\\/ OPTIMIZE [9, 18]/' -e 's/^constexpr double K_START = .*;  \\/\\/ OPTIMIZE \\[0\\.04, 0\\.2\\] LOG$/constexpr double K_START = 0.11125798252852184;  \\/\\/ OPTIMIZE [0.04, 0.2] LOG/' -e 's/^constexpr double K_END = .*;   \\/\\/ OPTIMIZE \\[0\\.03, 0\\.1\\] LOG$/constexpr double K_END = 0.0375941418968079;   \\/\\/ OPTIMIZE [0.03, 0.1] LOG/' -e 's/^constexpr double K_H = .*;      \\/\\/ OPTIMIZE \\[0\\.001, 0\\.999\\]$/constexpr double K_H = 0.46298937259879275;      \\/\\/ OPTIMIZE [0.001, 0.999]/' -e 's/^constexpr short PURCHASE_TURN_LIMIT = .*;  \\/\\/ OPTIMIZE \\[790, 870\\]$/constexpr short PURCHASE_TURN_LIMIT = 824;  \\/\\/ OPTIMIZE [790, 870]/' -e 's/^constexpr int ROUGH_HASH = .*;      \\/\\/ OPTIMIZE {0, 0b00000001, 0b00010001, 0b00010011, 0b00110011}$/constexpr int ROUGH_HASH = 0;      \\/\\/ OPTIMIZE {0, 0b00000001, 0b00010001, 0b00010011, 0b00110011}/' -e 's/^constexpr double TARGET_BEAM_WIDTH_INCREASE_RATE = .*;      \\/\\/ OPTIMIZE \\[0\\.25, 4\\.0\\] LOG$/constexpr double TARGET_BEAM_WIDTH_INCREASE_RATE = 2.2288461204044774;      \\/\\/ OPTIMIZE [0.25, 4.0] LOG/' -e 's/^constexpr double TARGET_BEAM_WIDTH_HALF_PROGRES_RATE = .*;  \\/\\/ OPTIMIZE \\[0\\.02, 0\\.98\\]$/constexpr double TARGET_BEAM_WIDTH_HALF_PROGRES_RATE = 0.4883880415331775;  \\/\\/ OPTIMIZE [0.02, 0.98]/' -e 's/^constexpr auto MAX_BEAM_WIDTH = .*;                        \\/\\/ OPTIMIZE \\[400, 4000\\] LOG$/constexpr auto MAX_BEAM_WIDTH = 1100;                        \\/\\/ OPTIMIZE [400, 4000] LOG/'\n",
      "g++ 9_main.cpp -std=gnu++17 -O2 -DONLINE_JUDGE -o 9_main.cpp.out 2> /dev/null\n"
     ]
    },
    {
     "name": "stderr",
     "output_type": "stream",
     "text": [
      "\u001b[32m[I 2021-09-11 02:25:36,619]\u001b[0m Trial 54 finished with value: 961668306.0 and parameters: {'hash_table_size': 9, 'K_START': 0.1287860430349627, 'K_END': 0.03689683259423554, 'K_H': 0.3410124280496699, 'PURCHASE_TURN_LIMIT': 790, 'ROUGH_HASH': '0', 'TARGET_BEAM_WIDTH_INCREASE_RATE': 0.7143842478390231, 'TARGET_BEAM_WIDTH_HALF_PROGRES_RATE': 0.4814551742302855, 'MAX_BEAM_WIDTH': 1440}. Best is trial 41 with value: 995270908.0.\u001b[0m\n"
     ]
    },
    {
     "name": "stdout",
     "output_type": "stream",
     "text": [
      "callback ok\n",
      "index_parallel=10\n",
      "sed -i 10_main.cpp -e 's/^constexpr int hash_table_size = .*;         \\/\\/ OPTIMIZE \\[9, 18\\]$/constexpr int hash_table_size = 16;         \\/\\/ OPTIMIZE [9, 18]/' -e 's/^constexpr double K_START = .*;  \\/\\/ OPTIMIZE \\[0\\.04, 0\\.2\\] LOG$/constexpr double K_START = 0.11633307181196845;  \\/\\/ OPTIMIZE [0.04, 0.2] LOG/' -e 's/^constexpr double K_END = .*;   \\/\\/ OPTIMIZE \\[0\\.03, 0\\.1\\] LOG$/constexpr double K_END = 0.030420723680585945;   \\/\\/ OPTIMIZE [0.03, 0.1] LOG/' -e 's/^constexpr double K_H = .*;      \\/\\/ OPTIMIZE \\[0\\.001, 0\\.999\\]$/constexpr double K_H = 0.5424527001181604;      \\/\\/ OPTIMIZE [0.001, 0.999]/' -e 's/^constexpr short PURCHASE_TURN_LIMIT = .*;  \\/\\/ OPTIMIZE \\[790, 870\\]$/constexpr short PURCHASE_TURN_LIMIT = 827;  \\/\\/ OPTIMIZE [790, 870]/' -e 's/^constexpr int ROUGH_HASH = .*;      \\/\\/ OPTIMIZE {0, 0b00000001, 0b00010001, 0b00010011, 0b00110011}$/constexpr int ROUGH_HASH = 0b00010011;      \\/\\/ OPTIMIZE {0, 0b00000001, 0b00010001, 0b00010011, 0b00110011}/' -e 's/^constexpr double TARGET_BEAM_WIDTH_INCREASE_RATE = .*;      \\/\\/ OPTIMIZE \\[0\\.25, 4\\.0\\] LOG$/constexpr double TARGET_BEAM_WIDTH_INCREASE_RATE = 0.5302628654040604;      \\/\\/ OPTIMIZE [0.25, 4.0] LOG/' -e 's/^constexpr double TARGET_BEAM_WIDTH_HALF_PROGRES_RATE = .*;  \\/\\/ OPTIMIZE \\[0\\.02, 0\\.98\\]$/constexpr double TARGET_BEAM_WIDTH_HALF_PROGRES_RATE = 0.21484378672279564;  \\/\\/ OPTIMIZE [0.02, 0.98]/' -e 's/^constexpr auto MAX_BEAM_WIDTH = .*;                        \\/\\/ OPTIMIZE \\[400, 4000\\] LOG$/constexpr auto MAX_BEAM_WIDTH = 1051;                        \\/\\/ OPTIMIZE [400, 4000] LOG/'\n",
      "g++ 10_main.cpp -std=gnu++17 -O2 -DONLINE_JUDGE -o 10_main.cpp.out 2> /dev/null\n"
     ]
    },
    {
     "name": "stderr",
     "output_type": "stream",
     "text": [
      "\u001b[32m[I 2021-09-11 02:25:39,597]\u001b[0m Trial 55 finished with value: 964493927.0 and parameters: {'hash_table_size': 9, 'K_START': 0.13198843388992135, 'K_END': 0.03674189201866352, 'K_H': 0.47708820638252003, 'PURCHASE_TURN_LIMIT': 796, 'ROUGH_HASH': '0', 'TARGET_BEAM_WIDTH_INCREASE_RATE': 1.7799960587607693, 'TARGET_BEAM_WIDTH_HALF_PROGRES_RATE': 0.30279300081935157, 'MAX_BEAM_WIDTH': 1056}. Best is trial 41 with value: 995270908.0.\u001b[0m\n"
     ]
    },
    {
     "name": "stdout",
     "output_type": "stream",
     "text": [
      "callback ok\n",
      "index_parallel=11\n",
      "sed -i 11_main.cpp -e 's/^constexpr int hash_table_size = .*;         \\/\\/ OPTIMIZE \\[9, 18\\]$/constexpr int hash_table_size = 10;         \\/\\/ OPTIMIZE [9, 18]/' -e 's/^constexpr double K_START = .*;  \\/\\/ OPTIMIZE \\[0\\.04, 0\\.2\\] LOG$/constexpr double K_START = 0.11423040201735576;  \\/\\/ OPTIMIZE [0.04, 0.2] LOG/' -e 's/^constexpr double K_END = .*;   \\/\\/ OPTIMIZE \\[0\\.03, 0\\.1\\] LOG$/constexpr double K_END = 0.03765871166066131;   \\/\\/ OPTIMIZE [0.03, 0.1] LOG/' -e 's/^constexpr double K_H = .*;      \\/\\/ OPTIMIZE \\[0\\.001, 0\\.999\\]$/constexpr double K_H = 0.5483964187348087;      \\/\\/ OPTIMIZE [0.001, 0.999]/' -e 's/^constexpr short PURCHASE_TURN_LIMIT = .*;  \\/\\/ OPTIMIZE \\[790, 870\\]$/constexpr short PURCHASE_TURN_LIMIT = 825;  \\/\\/ OPTIMIZE [790, 870]/' -e 's/^constexpr int ROUGH_HASH = .*;      \\/\\/ OPTIMIZE {0, 0b00000001, 0b00010001, 0b00010011, 0b00110011}$/constexpr int ROUGH_HASH = 0b00010011;      \\/\\/ OPTIMIZE {0, 0b00000001, 0b00010001, 0b00010011, 0b00110011}/' -e 's/^constexpr double TARGET_BEAM_WIDTH_INCREASE_RATE = .*;      \\/\\/ OPTIMIZE \\[0\\.25, 4\\.0\\] LOG$/constexpr double TARGET_BEAM_WIDTH_INCREASE_RATE = 0.5163849437223503;      \\/\\/ OPTIMIZE [0.25, 4.0] LOG/' -e 's/^constexpr double TARGET_BEAM_WIDTH_HALF_PROGRES_RATE = .*;  \\/\\/ OPTIMIZE \\[0\\.02, 0\\.98\\]$/constexpr double TARGET_BEAM_WIDTH_HALF_PROGRES_RATE = 0.41699728772808947;  \\/\\/ OPTIMIZE [0.02, 0.98]/' -e 's/^constexpr auto MAX_BEAM_WIDTH = .*;                        \\/\\/ OPTIMIZE \\[400, 4000\\] LOG$/constexpr auto MAX_BEAM_WIDTH = 758;                        \\/\\/ OPTIMIZE [400, 4000] LOG/'\n",
      "g++ 11_main.cpp -std=gnu++17 -O2 -DONLINE_JUDGE -o 11_main.cpp.out 2> /dev/null\n"
     ]
    },
    {
     "name": "stderr",
     "output_type": "stream",
     "text": [
      "\u001b[32m[I 2021-09-11 02:27:06,054]\u001b[0m Trial 56 finished with value: 993035439.0 and parameters: {'hash_table_size': 10, 'K_START': 0.1133319026792525, 'K_END': 0.03744428064600851, 'K_H': 0.3498619142998969, 'PURCHASE_TURN_LIMIT': 826, 'ROUGH_HASH': '0', 'TARGET_BEAM_WIDTH_INCREASE_RATE': 2.288648895933497, 'TARGET_BEAM_WIDTH_HALF_PROGRES_RATE': 0.48331961636344073, 'MAX_BEAM_WIDTH': 1052}. Best is trial 41 with value: 995270908.0.\u001b[0m\n"
     ]
    },
    {
     "name": "stdout",
     "output_type": "stream",
     "text": [
      "callback ok\n",
      "index_parallel=0\n",
      "sed -i 0_main.cpp -e 's/^constexpr int hash_table_size = .*;         \\/\\/ OPTIMIZE \\[9, 18\\]$/constexpr int hash_table_size = 16;         \\/\\/ OPTIMIZE [9, 18]/' -e 's/^constexpr double K_START = .*;  \\/\\/ OPTIMIZE \\[0\\.04, 0\\.2\\] LOG$/constexpr double K_START = 0.11216318233203833;  \\/\\/ OPTIMIZE [0.04, 0.2] LOG/' -e 's/^constexpr double K_END = .*;   \\/\\/ OPTIMIZE \\[0\\.03, 0\\.1\\] LOG$/constexpr double K_END = 0.03035354809823461;   \\/\\/ OPTIMIZE [0.03, 0.1] LOG/' -e 's/^constexpr double K_H = .*;      \\/\\/ OPTIMIZE \\[0\\.001, 0\\.999\\]$/constexpr double K_H = 0.5417031210561704;      \\/\\/ OPTIMIZE [0.001, 0.999]/' -e 's/^constexpr short PURCHASE_TURN_LIMIT = .*;  \\/\\/ OPTIMIZE \\[790, 870\\]$/constexpr short PURCHASE_TURN_LIMIT = 826;  \\/\\/ OPTIMIZE [790, 870]/' -e 's/^constexpr int ROUGH_HASH = .*;      \\/\\/ OPTIMIZE {0, 0b00000001, 0b00010001, 0b00010011, 0b00110011}$/constexpr int ROUGH_HASH = 0b00010011;      \\/\\/ OPTIMIZE {0, 0b00000001, 0b00010001, 0b00010011, 0b00110011}/' -e 's/^constexpr double TARGET_BEAM_WIDTH_INCREASE_RATE = .*;      \\/\\/ OPTIMIZE \\[0\\.25, 4\\.0\\] LOG$/constexpr double TARGET_BEAM_WIDTH_INCREASE_RATE = 2.2506125738650047;      \\/\\/ OPTIMIZE [0.25, 4.0] LOG/' -e 's/^constexpr double TARGET_BEAM_WIDTH_HALF_PROGRES_RATE = .*;  \\/\\/ OPTIMIZE \\[0\\.02, 0\\.98\\]$/constexpr double TARGET_BEAM_WIDTH_HALF_PROGRES_RATE = 0.7601185509224397;  \\/\\/ OPTIMIZE [0.02, 0.98]/' -e 's/^constexpr auto MAX_BEAM_WIDTH = .*;                        \\/\\/ OPTIMIZE \\[400, 4000\\] LOG$/constexpr auto MAX_BEAM_WIDTH = 768;                        \\/\\/ OPTIMIZE [400, 4000] LOG/'\n",
      "g++ 0_main.cpp -std=gnu++17 -O2 -DONLINE_JUDGE -o 0_main.cpp.out 2> /dev/null\n"
     ]
    },
    {
     "name": "stderr",
     "output_type": "stream",
     "text": [
      "\u001b[32m[I 2021-09-11 02:27:13,791]\u001b[0m Trial 57 finished with value: 996773700.0 and parameters: {'hash_table_size': 10, 'K_START': 0.11125798252852184, 'K_END': 0.0375941418968079, 'K_H': 0.46298937259879275, 'PURCHASE_TURN_LIMIT': 824, 'ROUGH_HASH': '0', 'TARGET_BEAM_WIDTH_INCREASE_RATE': 2.2288461204044774, 'TARGET_BEAM_WIDTH_HALF_PROGRES_RATE': 0.4883880415331775, 'MAX_BEAM_WIDTH': 1100}. Best is trial 57 with value: 996773700.0.\u001b[0m\n"
     ]
    },
    {
     "name": "stdout",
     "output_type": "stream",
     "text": [
      "Updated! 996773700.0\n",
      "callback ok\n",
      "index_parallel=1\n",
      "sed -i 1_main.cpp -e 's/^constexpr int hash_table_size = .*;         \\/\\/ OPTIMIZE \\[9, 18\\]$/constexpr int hash_table_size = 16;         \\/\\/ OPTIMIZE [9, 18]/' -e 's/^constexpr double K_START = .*;  \\/\\/ OPTIMIZE \\[0\\.04, 0\\.2\\] LOG$/constexpr double K_START = 0.1131221637518096;  \\/\\/ OPTIMIZE [0.04, 0.2] LOG/' -e 's/^constexpr double K_END = .*;   \\/\\/ OPTIMIZE \\[0\\.03, 0\\.1\\] LOG$/constexpr double K_END = 0.03497821921997441;   \\/\\/ OPTIMIZE [0.03, 0.1] LOG/' -e 's/^constexpr double K_H = .*;      \\/\\/ OPTIMIZE \\[0\\.001, 0\\.999\\]$/constexpr double K_H = 0.14304111222964422;      \\/\\/ OPTIMIZE [0.001, 0.999]/' -e 's/^constexpr short PURCHASE_TURN_LIMIT = .*;  \\/\\/ OPTIMIZE \\[790, 870\\]$/constexpr short PURCHASE_TURN_LIMIT = 824;  \\/\\/ OPTIMIZE [790, 870]/' -e 's/^constexpr int ROUGH_HASH = .*;      \\/\\/ OPTIMIZE {0, 0b00000001, 0b00010001, 0b00010011, 0b00110011}$/constexpr int ROUGH_HASH = 0b00010011;      \\/\\/ OPTIMIZE {0, 0b00000001, 0b00010001, 0b00010011, 0b00110011}/' -e 's/^constexpr double TARGET_BEAM_WIDTH_INCREASE_RATE = .*;      \\/\\/ OPTIMIZE \\[0\\.25, 4\\.0\\] LOG$/constexpr double TARGET_BEAM_WIDTH_INCREASE_RATE = 2.227819841125041;      \\/\\/ OPTIMIZE [0.25, 4.0] LOG/' -e 's/^constexpr double TARGET_BEAM_WIDTH_HALF_PROGRES_RATE = .*;  \\/\\/ OPTIMIZE \\[0\\.02, 0\\.98\\]$/constexpr double TARGET_BEAM_WIDTH_HALF_PROGRES_RATE = 0.4893732032422515;  \\/\\/ OPTIMIZE [0.02, 0.98]/' -e 's/^constexpr auto MAX_BEAM_WIDTH = .*;                        \\/\\/ OPTIMIZE \\[400, 4000\\] LOG$/constexpr auto MAX_BEAM_WIDTH = 1085;                        \\/\\/ OPTIMIZE [400, 4000] LOG/'\n",
      "g++ 1_main.cpp -std=gnu++17 -O2 -DONLINE_JUDGE -o 1_main.cpp.out 2> /dev/null\n"
     ]
    },
    {
     "name": "stderr",
     "output_type": "stream",
     "text": [
      "\u001b[32m[I 2021-09-11 02:27:22,253]\u001b[0m Trial 58 finished with value: 964303983.0 and parameters: {'hash_table_size': 16, 'K_START': 0.11633307181196845, 'K_END': 0.030420723680585945, 'K_H': 0.5424527001181604, 'PURCHASE_TURN_LIMIT': 827, 'ROUGH_HASH': '0b00010011', 'TARGET_BEAM_WIDTH_INCREASE_RATE': 0.5302628654040604, 'TARGET_BEAM_WIDTH_HALF_PROGRES_RATE': 0.21484378672279564, 'MAX_BEAM_WIDTH': 1051}. Best is trial 57 with value: 996773700.0.\u001b[0m\n"
     ]
    },
    {
     "name": "stdout",
     "output_type": "stream",
     "text": [
      "callback ok\n",
      "index_parallel=2\n",
      "sed -i 2_main.cpp -e 's/^constexpr int hash_table_size = .*;         \\/\\/ OPTIMIZE \\[9, 18\\]$/constexpr int hash_table_size = 11;         \\/\\/ OPTIMIZE [9, 18]/' -e 's/^constexpr double K_START = .*;  \\/\\/ OPTIMIZE \\[0\\.04, 0\\.2\\] LOG$/constexpr double K_START = 0.08321898615880867;  \\/\\/ OPTIMIZE [0.04, 0.2] LOG/' -e 's/^constexpr double K_END = .*;   \\/\\/ OPTIMIZE \\[0\\.03, 0\\.1\\] LOG$/constexpr double K_END = 0.03833243741913185;   \\/\\/ OPTIMIZE [0.03, 0.1] LOG/' -e 's/^constexpr double K_H = .*;      \\/\\/ OPTIMIZE \\[0\\.001, 0\\.999\\]$/constexpr double K_H = 0.3456648292508403;      \\/\\/ OPTIMIZE [0.001, 0.999]/' -e 's/^constexpr short PURCHASE_TURN_LIMIT = .*;  \\/\\/ OPTIMIZE \\[790, 870\\]$/constexpr short PURCHASE_TURN_LIMIT = 824;  \\/\\/ OPTIMIZE [790, 870]/' -e 's/^constexpr int ROUGH_HASH = .*;      \\/\\/ OPTIMIZE {0, 0b00000001, 0b00010001, 0b00010011, 0b00110011}$/constexpr int ROUGH_HASH = 0;      \\/\\/ OPTIMIZE {0, 0b00000001, 0b00010001, 0b00010011, 0b00110011}/' -e 's/^constexpr double TARGET_BEAM_WIDTH_INCREASE_RATE = .*;      \\/\\/ OPTIMIZE \\[0\\.25, 4\\.0\\] LOG$/constexpr double TARGET_BEAM_WIDTH_INCREASE_RATE = 2.2814968984761435;      \\/\\/ OPTIMIZE [0.25, 4.0] LOG/' -e 's/^constexpr double TARGET_BEAM_WIDTH_HALF_PROGRES_RATE = .*;  \\/\\/ OPTIMIZE \\[0\\.02, 0\\.98\\]$/constexpr double TARGET_BEAM_WIDTH_HALF_PROGRES_RATE = 0.40986201137398065;  \\/\\/ OPTIMIZE [0.02, 0.98]/' -e 's/^constexpr auto MAX_BEAM_WIDTH = .*;                        \\/\\/ OPTIMIZE \\[400, 4000\\] LOG$/constexpr auto MAX_BEAM_WIDTH = 804;                        \\/\\/ OPTIMIZE [400, 4000] LOG/'\n",
      "g++ 2_main.cpp -std=gnu++17 -O2 -DONLINE_JUDGE -o 2_main.cpp.out 2> /dev/null\n"
     ]
    },
    {
     "name": "stderr",
     "output_type": "stream",
     "text": [
      "\u001b[32m[I 2021-09-11 02:27:31,570]\u001b[0m Trial 59 finished with value: 970745721.0 and parameters: {'hash_table_size': 10, 'K_START': 0.11423040201735576, 'K_END': 0.03765871166066131, 'K_H': 0.5483964187348087, 'PURCHASE_TURN_LIMIT': 825, 'ROUGH_HASH': '0b00010011', 'TARGET_BEAM_WIDTH_INCREASE_RATE': 0.5163849437223503, 'TARGET_BEAM_WIDTH_HALF_PROGRES_RATE': 0.41699728772808947, 'MAX_BEAM_WIDTH': 758}. Best is trial 57 with value: 996773700.0.\u001b[0m\n"
     ]
    },
    {
     "name": "stdout",
     "output_type": "stream",
     "text": [
      "callback ok\n",
      "index_parallel=3\n",
      "sed -i 3_main.cpp -e 's/^constexpr int hash_table_size = .*;         \\/\\/ OPTIMIZE \\[9, 18\\]$/constexpr int hash_table_size = 11;         \\/\\/ OPTIMIZE [9, 18]/' -e 's/^constexpr double K_START = .*;  \\/\\/ OPTIMIZE \\[0\\.04, 0\\.2\\] LOG$/constexpr double K_START = 0.10987618290987036;  \\/\\/ OPTIMIZE [0.04, 0.2] LOG/' -e 's/^constexpr double K_END = .*;   \\/\\/ OPTIMIZE \\[0\\.03, 0\\.1\\] LOG$/constexpr double K_END = 0.034911856370407585;   \\/\\/ OPTIMIZE [0.03, 0.1] LOG/' -e 's/^constexpr double K_H = .*;      \\/\\/ OPTIMIZE \\[0\\.001, 0\\.999\\]$/constexpr double K_H = 0.13016824675271538;      \\/\\/ OPTIMIZE [0.001, 0.999]/' -e 's/^constexpr short PURCHASE_TURN_LIMIT = .*;  \\/\\/ OPTIMIZE \\[790, 870\\]$/constexpr short PURCHASE_TURN_LIMIT = 831;  \\/\\/ OPTIMIZE [790, 870]/' -e 's/^constexpr int ROUGH_HASH = .*;      \\/\\/ OPTIMIZE {0, 0b00000001, 0b00010001, 0b00010011, 0b00110011}$/constexpr int ROUGH_HASH = 0;      \\/\\/ OPTIMIZE {0, 0b00000001, 0b00010001, 0b00010011, 0b00110011}/' -e 's/^constexpr double TARGET_BEAM_WIDTH_INCREASE_RATE = .*;      \\/\\/ OPTIMIZE \\[0\\.25, 4\\.0\\] LOG$/constexpr double TARGET_BEAM_WIDTH_INCREASE_RATE = 2.203292754711496;      \\/\\/ OPTIMIZE [0.25, 4.0] LOG/' -e 's/^constexpr double TARGET_BEAM_WIDTH_HALF_PROGRES_RATE = .*;  \\/\\/ OPTIMIZE \\[0\\.02, 0\\.98\\]$/constexpr double TARGET_BEAM_WIDTH_HALF_PROGRES_RATE = 0.6308422035441933;  \\/\\/ OPTIMIZE [0.02, 0.98]/' -e 's/^constexpr auto MAX_BEAM_WIDTH = .*;                        \\/\\/ OPTIMIZE \\[400, 4000\\] LOG$/constexpr auto MAX_BEAM_WIDTH = 1353;                        \\/\\/ OPTIMIZE [400, 4000] LOG/'\n",
      "g++ 3_main.cpp -std=gnu++17 -O2 -DONLINE_JUDGE -o 3_main.cpp.out 2> /dev/null\n"
     ]
    },
    {
     "name": "stderr",
     "output_type": "stream",
     "text": [
      "\u001b[32m[I 2021-09-11 02:28:51,849]\u001b[0m Trial 60 finished with value: 973979796.0 and parameters: {'hash_table_size': 16, 'K_START': 0.11216318233203833, 'K_END': 0.03035354809823461, 'K_H': 0.5417031210561704, 'PURCHASE_TURN_LIMIT': 826, 'ROUGH_HASH': '0b00010011', 'TARGET_BEAM_WIDTH_INCREASE_RATE': 2.2506125738650047, 'TARGET_BEAM_WIDTH_HALF_PROGRES_RATE': 0.7601185509224397, 'MAX_BEAM_WIDTH': 768}. Best is trial 57 with value: 996773700.0.\u001b[0m\n"
     ]
    },
    {
     "name": "stdout",
     "output_type": "stream",
     "text": [
      "callback ok\n",
      "index_parallel=4\n",
      "sed -i 4_main.cpp -e 's/^constexpr int hash_table_size = .*;         \\/\\/ OPTIMIZE \\[9, 18\\]$/constexpr int hash_table_size = 11;         \\/\\/ OPTIMIZE [9, 18]/' -e 's/^constexpr double K_START = .*;  \\/\\/ OPTIMIZE \\[0\\.04, 0\\.2\\] LOG$/constexpr double K_START = 0.08507860464756777;  \\/\\/ OPTIMIZE [0.04, 0.2] LOG/' -e 's/^constexpr double K_END = .*;   \\/\\/ OPTIMIZE \\[0\\.03, 0\\.1\\] LOG$/constexpr double K_END = 0.03536868499945165;   \\/\\/ OPTIMIZE [0.03, 0.1] LOG/' -e 's/^constexpr double K_H = .*;      \\/\\/ OPTIMIZE \\[0\\.001, 0\\.999\\]$/constexpr double K_H = 0.465833322381053;      \\/\\/ OPTIMIZE [0.001, 0.999]/' -e 's/^constexpr short PURCHASE_TURN_LIMIT = .*;  \\/\\/ OPTIMIZE \\[790, 870\\]$/constexpr short PURCHASE_TURN_LIMIT = 832;  \\/\\/ OPTIMIZE [790, 870]/' -e 's/^constexpr int ROUGH_HASH = .*;      \\/\\/ OPTIMIZE {0, 0b00000001, 0b00010001, 0b00010011, 0b00110011}$/constexpr int ROUGH_HASH = 0;      \\/\\/ OPTIMIZE {0, 0b00000001, 0b00010001, 0b00010011, 0b00110011}/' -e 's/^constexpr double TARGET_BEAM_WIDTH_INCREASE_RATE = .*;      \\/\\/ OPTIMIZE \\[0\\.25, 4\\.0\\] LOG$/constexpr double TARGET_BEAM_WIDTH_INCREASE_RATE = 2.2649402195398456;      \\/\\/ OPTIMIZE [0.25, 4.0] LOG/' -e 's/^constexpr double TARGET_BEAM_WIDTH_HALF_PROGRES_RATE = .*;  \\/\\/ OPTIMIZE \\[0\\.02, 0\\.98\\]$/constexpr double TARGET_BEAM_WIDTH_HALF_PROGRES_RATE = 0.47972112714626486;  \\/\\/ OPTIMIZE [0.02, 0.98]/' -e 's/^constexpr auto MAX_BEAM_WIDTH = .*;                        \\/\\/ OPTIMIZE \\[400, 4000\\] LOG$/constexpr auto MAX_BEAM_WIDTH = 1123;                        \\/\\/ OPTIMIZE [400, 4000] LOG/'\n",
      "g++ 4_main.cpp -std=gnu++17 -O2 -DONLINE_JUDGE -o 4_main.cpp.out 2> /dev/null\n"
     ]
    },
    {
     "name": "stderr",
     "output_type": "stream",
     "text": [
      "\u001b[32m[I 2021-09-11 02:29:06,435]\u001b[0m Trial 61 finished with value: 981320479.0 and parameters: {'hash_table_size': 16, 'K_START': 0.1131221637518096, 'K_END': 0.03497821921997441, 'K_H': 0.14304111222964422, 'PURCHASE_TURN_LIMIT': 824, 'ROUGH_HASH': '0b00010011', 'TARGET_BEAM_WIDTH_INCREASE_RATE': 2.227819841125041, 'TARGET_BEAM_WIDTH_HALF_PROGRES_RATE': 0.4893732032422515, 'MAX_BEAM_WIDTH': 1085}. Best is trial 57 with value: 996773700.0.\u001b[0m\n"
     ]
    },
    {
     "name": "stdout",
     "output_type": "stream",
     "text": [
      "callback ok\n",
      "index_parallel=5\n",
      "sed -i 5_main.cpp -e 's/^constexpr int hash_table_size = .*;         \\/\\/ OPTIMIZE \\[9, 18\\]$/constexpr int hash_table_size = 11;         \\/\\/ OPTIMIZE [9, 18]/' -e 's/^constexpr double K_START = .*;  \\/\\/ OPTIMIZE \\[0\\.04, 0\\.2\\] LOG$/constexpr double K_START = 0.09999631794657206;  \\/\\/ OPTIMIZE [0.04, 0.2] LOG/' -e 's/^constexpr double K_END = .*;   \\/\\/ OPTIMIZE \\[0\\.03, 0\\.1\\] LOG$/constexpr double K_END = 0.044966133800326644;   \\/\\/ OPTIMIZE [0.03, 0.1] LOG/' -e 's/^constexpr double K_H = .*;      \\/\\/ OPTIMIZE \\[0\\.001, 0\\.999\\]$/constexpr double K_H = 0.4842804437759386;      \\/\\/ OPTIMIZE [0.001, 0.999]/' -e 's/^constexpr short PURCHASE_TURN_LIMIT = .*;  \\/\\/ OPTIMIZE \\[790, 870\\]$/constexpr short PURCHASE_TURN_LIMIT = 832;  \\/\\/ OPTIMIZE [790, 870]/' -e 's/^constexpr int ROUGH_HASH = .*;      \\/\\/ OPTIMIZE {0, 0b00000001, 0b00010001, 0b00010011, 0b00110011}$/constexpr int ROUGH_HASH = 0;      \\/\\/ OPTIMIZE {0, 0b00000001, 0b00010001, 0b00010011, 0b00110011}/' -e 's/^constexpr double TARGET_BEAM_WIDTH_INCREASE_RATE = .*;      \\/\\/ OPTIMIZE \\[0\\.25, 4\\.0\\] LOG$/constexpr double TARGET_BEAM_WIDTH_INCREASE_RATE = 1.4130590440398576;      \\/\\/ OPTIMIZE [0.25, 4.0] LOG/' -e 's/^constexpr double TARGET_BEAM_WIDTH_HALF_PROGRES_RATE = .*;  \\/\\/ OPTIMIZE \\[0\\.02, 0\\.98\\]$/constexpr double TARGET_BEAM_WIDTH_HALF_PROGRES_RATE = 0.6221207679544667;  \\/\\/ OPTIMIZE [0.02, 0.98]/' -e 's/^constexpr auto MAX_BEAM_WIDTH = .*;                        \\/\\/ OPTIMIZE \\[400, 4000\\] LOG$/constexpr auto MAX_BEAM_WIDTH = 836;                        \\/\\/ OPTIMIZE [400, 4000] LOG/'\n",
      "g++ 5_main.cpp -std=gnu++17 -O2 -DONLINE_JUDGE -o 5_main.cpp.out 2> /dev/null\n"
     ]
    },
    {
     "name": "stderr",
     "output_type": "stream",
     "text": [
      "\u001b[32m[I 2021-09-11 02:29:13,891]\u001b[0m Trial 62 finished with value: 987963724.0 and parameters: {'hash_table_size': 11, 'K_START': 0.08321898615880867, 'K_END': 0.03833243741913185, 'K_H': 0.3456648292508403, 'PURCHASE_TURN_LIMIT': 824, 'ROUGH_HASH': '0', 'TARGET_BEAM_WIDTH_INCREASE_RATE': 2.2814968984761435, 'TARGET_BEAM_WIDTH_HALF_PROGRES_RATE': 0.40986201137398065, 'MAX_BEAM_WIDTH': 804}. Best is trial 57 with value: 996773700.0.\u001b[0m\n"
     ]
    },
    {
     "name": "stdout",
     "output_type": "stream",
     "text": [
      "callback ok\n",
      "index_parallel=6\n",
      "sed -i 6_main.cpp -e 's/^constexpr int hash_table_size = .*;         \\/\\/ OPTIMIZE \\[9, 18\\]$/constexpr int hash_table_size = 10;         \\/\\/ OPTIMIZE [9, 18]/' -e 's/^constexpr double K_START = .*;  \\/\\/ OPTIMIZE \\[0\\.04, 0\\.2\\] LOG$/constexpr double K_START = 0.10021370389717908;  \\/\\/ OPTIMIZE [0.04, 0.2] LOG/' -e 's/^constexpr double K_END = .*;   \\/\\/ OPTIMIZE \\[0\\.03, 0\\.1\\] LOG$/constexpr double K_END = 0.03539185817862256;   \\/\\/ OPTIMIZE [0.03, 0.1] LOG/' -e 's/^constexpr double K_H = .*;      \\/\\/ OPTIMIZE \\[0\\.001, 0\\.999\\]$/constexpr double K_H = 0.024004393116686673;      \\/\\/ OPTIMIZE [0.001, 0.999]/' -e 's/^constexpr short PURCHASE_TURN_LIMIT = .*;  \\/\\/ OPTIMIZE \\[790, 870\\]$/constexpr short PURCHASE_TURN_LIMIT = 831;  \\/\\/ OPTIMIZE [790, 870]/' -e 's/^constexpr int ROUGH_HASH = .*;      \\/\\/ OPTIMIZE {0, 0b00000001, 0b00010001, 0b00010011, 0b00110011}$/constexpr int ROUGH_HASH = 0;      \\/\\/ OPTIMIZE {0, 0b00000001, 0b00010001, 0b00010011, 0b00110011}/' -e 's/^constexpr double TARGET_BEAM_WIDTH_INCREASE_RATE = .*;      \\/\\/ OPTIMIZE \\[0\\.25, 4\\.0\\] LOG$/constexpr double TARGET_BEAM_WIDTH_INCREASE_RATE = 1.3370636505817683;      \\/\\/ OPTIMIZE [0.25, 4.0] LOG/' -e 's/^constexpr double TARGET_BEAM_WIDTH_HALF_PROGRES_RATE = .*;  \\/\\/ OPTIMIZE \\[0\\.02, 0\\.98\\]$/constexpr double TARGET_BEAM_WIDTH_HALF_PROGRES_RATE = 0.6285076868664597;  \\/\\/ OPTIMIZE [0.02, 0.98]/' -e 's/^constexpr auto MAX_BEAM_WIDTH = .*;                        \\/\\/ OPTIMIZE \\[400, 4000\\] LOG$/constexpr auto MAX_BEAM_WIDTH = 993;                        \\/\\/ OPTIMIZE [400, 4000] LOG/'\n",
      "g++ 6_main.cpp -std=gnu++17 -O2 -DONLINE_JUDGE -o 6_main.cpp.out 2> /dev/null\n"
     ]
    },
    {
     "name": "stderr",
     "output_type": "stream",
     "text": [
      "\u001b[32m[I 2021-09-11 02:29:17,705]\u001b[0m Trial 63 finished with value: 989922258.0 and parameters: {'hash_table_size': 11, 'K_START': 0.10987618290987036, 'K_END': 0.034911856370407585, 'K_H': 0.13016824675271538, 'PURCHASE_TURN_LIMIT': 831, 'ROUGH_HASH': '0', 'TARGET_BEAM_WIDTH_INCREASE_RATE': 2.203292754711496, 'TARGET_BEAM_WIDTH_HALF_PROGRES_RATE': 0.6308422035441933, 'MAX_BEAM_WIDTH': 1353}. Best is trial 57 with value: 996773700.0.\u001b[0m\n"
     ]
    },
    {
     "name": "stdout",
     "output_type": "stream",
     "text": [
      "callback ok\n",
      "index_parallel=7\n",
      "sed -i 7_main.cpp -e 's/^constexpr int hash_table_size = .*;         \\/\\/ OPTIMIZE \\[9, 18\\]$/constexpr int hash_table_size = 11;         \\/\\/ OPTIMIZE [9, 18]/' -e 's/^constexpr double K_START = .*;  \\/\\/ OPTIMIZE \\[0\\.04, 0\\.2\\] LOG$/constexpr double K_START = 0.0987302142280498;  \\/\\/ OPTIMIZE [0.04, 0.2] LOG/' -e 's/^constexpr double K_END = .*;   \\/\\/ OPTIMIZE \\[0\\.03, 0\\.1\\] LOG$/constexpr double K_END = 0.03527422532928023;   \\/\\/ OPTIMIZE [0.03, 0.1] LOG/' -e 's/^constexpr double K_H = .*;      \\/\\/ OPTIMIZE \\[0\\.001, 0\\.999\\]$/constexpr double K_H = 0.06153845044085521;      \\/\\/ OPTIMIZE [0.001, 0.999]/' -e 's/^constexpr short PURCHASE_TURN_LIMIT = .*;  \\/\\/ OPTIMIZE \\[790, 870\\]$/constexpr short PURCHASE_TURN_LIMIT = 830;  \\/\\/ OPTIMIZE [790, 870]/' -e 's/^constexpr int ROUGH_HASH = .*;      \\/\\/ OPTIMIZE {0, 0b00000001, 0b00010001, 0b00010011, 0b00110011}$/constexpr int ROUGH_HASH = 0;      \\/\\/ OPTIMIZE {0, 0b00000001, 0b00010001, 0b00010011, 0b00110011}/' -e 's/^constexpr double TARGET_BEAM_WIDTH_INCREASE_RATE = .*;      \\/\\/ OPTIMIZE \\[0\\.25, 4\\.0\\] LOG$/constexpr double TARGET_BEAM_WIDTH_INCREASE_RATE = 1.4355934959139853;      \\/\\/ OPTIMIZE [0.25, 4.0] LOG/' -e 's/^constexpr double TARGET_BEAM_WIDTH_HALF_PROGRES_RATE = .*;  \\/\\/ OPTIMIZE \\[0\\.02, 0\\.98\\]$/constexpr double TARGET_BEAM_WIDTH_HALF_PROGRES_RATE = 0.48702488982761083;  \\/\\/ OPTIMIZE [0.02, 0.98]/' -e 's/^constexpr auto MAX_BEAM_WIDTH = .*;                        \\/\\/ OPTIMIZE \\[400, 4000\\] LOG$/constexpr auto MAX_BEAM_WIDTH = 1704;                        \\/\\/ OPTIMIZE [400, 4000] LOG/'\n",
      "g++ 7_main.cpp -std=gnu++17 -O2 -DONLINE_JUDGE -o 7_main.cpp.out 2> /dev/null\n"
     ]
    },
    {
     "name": "stderr",
     "output_type": "stream",
     "text": [
      "\u001b[32m[I 2021-09-11 02:30:45,153]\u001b[0m Trial 64 finished with value: 989729339.0 and parameters: {'hash_table_size': 11, 'K_START': 0.08507860464756777, 'K_END': 0.03536868499945165, 'K_H': 0.465833322381053, 'PURCHASE_TURN_LIMIT': 832, 'ROUGH_HASH': '0', 'TARGET_BEAM_WIDTH_INCREASE_RATE': 2.2649402195398456, 'TARGET_BEAM_WIDTH_HALF_PROGRES_RATE': 0.47972112714626486, 'MAX_BEAM_WIDTH': 1123}. Best is trial 57 with value: 996773700.0.\u001b[0m\n"
     ]
    },
    {
     "name": "stdout",
     "output_type": "stream",
     "text": [
      "callback ok\n",
      "index_parallel=8\n",
      "sed -i 8_main.cpp -e 's/^constexpr int hash_table_size = .*;         \\/\\/ OPTIMIZE \\[9, 18\\]$/constexpr int hash_table_size = 11;         \\/\\/ OPTIMIZE [9, 18]/' -e 's/^constexpr double K_START = .*;  \\/\\/ OPTIMIZE \\[0\\.04, 0\\.2\\] LOG$/constexpr double K_START = 0.10104630981134849;  \\/\\/ OPTIMIZE [0.04, 0.2] LOG/' -e 's/^constexpr double K_END = .*;   \\/\\/ OPTIMIZE \\[0\\.03, 0\\.1\\] LOG$/constexpr double K_END = 0.03452117591434067;   \\/\\/ OPTIMIZE [0.03, 0.1] LOG/' -e 's/^constexpr double K_H = .*;      \\/\\/ OPTIMIZE \\[0\\.001, 0\\.999\\]$/constexpr double K_H = 0.0015217286194786628;      \\/\\/ OPTIMIZE [0.001, 0.999]/' -e 's/^constexpr short PURCHASE_TURN_LIMIT = .*;  \\/\\/ OPTIMIZE \\[790, 870\\]$/constexpr short PURCHASE_TURN_LIMIT = 831;  \\/\\/ OPTIMIZE [790, 870]/' -e 's/^constexpr int ROUGH_HASH = .*;      \\/\\/ OPTIMIZE {0, 0b00000001, 0b00010001, 0b00010011, 0b00110011}$/constexpr int ROUGH_HASH = 0;      \\/\\/ OPTIMIZE {0, 0b00000001, 0b00010001, 0b00010011, 0b00110011}/' -e 's/^constexpr double TARGET_BEAM_WIDTH_INCREASE_RATE = .*;      \\/\\/ OPTIMIZE \\[0\\.25, 4\\.0\\] LOG$/constexpr double TARGET_BEAM_WIDTH_INCREASE_RATE = 1.4225225931002665;      \\/\\/ OPTIMIZE [0.25, 4.0] LOG/' -e 's/^constexpr double TARGET_BEAM_WIDTH_HALF_PROGRES_RATE = .*;  \\/\\/ OPTIMIZE \\[0\\.02, 0\\.98\\]$/constexpr double TARGET_BEAM_WIDTH_HALF_PROGRES_RATE = 0.624535962439452;  \\/\\/ OPTIMIZE [0.02, 0.98]/' -e 's/^constexpr auto MAX_BEAM_WIDTH = .*;                        \\/\\/ OPTIMIZE \\[400, 4000\\] LOG$/constexpr auto MAX_BEAM_WIDTH = 1732;                        \\/\\/ OPTIMIZE [400, 4000] LOG/'\n",
      "g++ 8_main.cpp -std=gnu++17 -O2 -DONLINE_JUDGE -o 8_main.cpp.out 2> /dev/null\n"
     ]
    },
    {
     "name": "stderr",
     "output_type": "stream",
     "text": [
      "\u001b[32m[I 2021-09-11 02:30:52,437]\u001b[0m Trial 65 finished with value: 993540750.0 and parameters: {'hash_table_size': 11, 'K_START': 0.09999631794657206, 'K_END': 0.044966133800326644, 'K_H': 0.4842804437759386, 'PURCHASE_TURN_LIMIT': 832, 'ROUGH_HASH': '0', 'TARGET_BEAM_WIDTH_INCREASE_RATE': 1.4130590440398576, 'TARGET_BEAM_WIDTH_HALF_PROGRES_RATE': 0.6221207679544667, 'MAX_BEAM_WIDTH': 836}. Best is trial 57 with value: 996773700.0.\u001b[0m\n"
     ]
    },
    {
     "name": "stdout",
     "output_type": "stream",
     "text": [
      "callback ok\n",
      "index_parallel=9\n",
      "sed -i 9_main.cpp -e 's/^constexpr int hash_table_size = .*;         \\/\\/ OPTIMIZE \\[9, 18\\]$/constexpr int hash_table_size = 11;         \\/\\/ OPTIMIZE [9, 18]/' -e 's/^constexpr double K_START = .*;  \\/\\/ OPTIMIZE \\[0\\.04, 0\\.2\\] LOG$/constexpr double K_START = 0.10080162832361424;  \\/\\/ OPTIMIZE [0.04, 0.2] LOG/' -e 's/^constexpr double K_END = .*;   \\/\\/ OPTIMIZE \\[0\\.03, 0\\.1\\] LOG$/constexpr double K_END = 0.03882033431665186;   \\/\\/ OPTIMIZE [0.03, 0.1] LOG/' -e 's/^constexpr double K_H = .*;      \\/\\/ OPTIMIZE \\[0\\.001, 0\\.999\\]$/constexpr double K_H = 0.042170497918763525;      \\/\\/ OPTIMIZE [0.001, 0.999]/' -e 's/^constexpr short PURCHASE_TURN_LIMIT = .*;  \\/\\/ OPTIMIZE \\[790, 870\\]$/constexpr short PURCHASE_TURN_LIMIT = 830;  \\/\\/ OPTIMIZE [790, 870]/' -e 's/^constexpr int ROUGH_HASH = .*;      \\/\\/ OPTIMIZE {0, 0b00000001, 0b00010001, 0b00010011, 0b00110011}$/constexpr int ROUGH_HASH = 0;      \\/\\/ OPTIMIZE {0, 0b00000001, 0b00010001, 0b00010011, 0b00110011}/' -e 's/^constexpr double TARGET_BEAM_WIDTH_INCREASE_RATE = .*;      \\/\\/ OPTIMIZE \\[0\\.25, 4\\.0\\] LOG$/constexpr double TARGET_BEAM_WIDTH_INCREASE_RATE = 1.3603029886051996;      \\/\\/ OPTIMIZE [0.25, 4.0] LOG/' -e 's/^constexpr double TARGET_BEAM_WIDTH_HALF_PROGRES_RATE = .*;  \\/\\/ OPTIMIZE \\[0\\.02, 0\\.98\\]$/constexpr double TARGET_BEAM_WIDTH_HALF_PROGRES_RATE = 0.6336379316300464;  \\/\\/ OPTIMIZE [0.02, 0.98]/' -e 's/^constexpr auto MAX_BEAM_WIDTH = .*;                        \\/\\/ OPTIMIZE \\[400, 4000\\] LOG$/constexpr auto MAX_BEAM_WIDTH = 1346;                        \\/\\/ OPTIMIZE [400, 4000] LOG/'\n",
      "g++ 9_main.cpp -std=gnu++17 -O2 -DONLINE_JUDGE -o 9_main.cpp.out 2> /dev/null\n"
     ]
    },
    {
     "name": "stderr",
     "output_type": "stream",
     "text": [
      "\u001b[32m[I 2021-09-11 02:30:59,486]\u001b[0m Trial 66 finished with value: 987186010.0 and parameters: {'hash_table_size': 10, 'K_START': 0.10021370389717908, 'K_END': 0.03539185817862256, 'K_H': 0.024004393116686673, 'PURCHASE_TURN_LIMIT': 831, 'ROUGH_HASH': '0', 'TARGET_BEAM_WIDTH_INCREASE_RATE': 1.3370636505817683, 'TARGET_BEAM_WIDTH_HALF_PROGRES_RATE': 0.6285076868664597, 'MAX_BEAM_WIDTH': 993}. Best is trial 57 with value: 996773700.0.\u001b[0m\n"
     ]
    },
    {
     "name": "stdout",
     "output_type": "stream",
     "text": [
      "callback ok\n",
      "index_parallel=10\n",
      "sed -i 10_main.cpp -e 's/^constexpr int hash_table_size = .*;         \\/\\/ OPTIMIZE \\[9, 18\\]$/constexpr int hash_table_size = 12;         \\/\\/ OPTIMIZE [9, 18]/' -e 's/^constexpr double K_START = .*;  \\/\\/ OPTIMIZE \\[0\\.04, 0\\.2\\] LOG$/constexpr double K_START = 0.10127758007707277;  \\/\\/ OPTIMIZE [0.04, 0.2] LOG/' -e 's/^constexpr double K_END = .*;   \\/\\/ OPTIMIZE \\[0\\.03, 0\\.1\\] LOG$/constexpr double K_END = 0.04468237575335057;   \\/\\/ OPTIMIZE [0.03, 0.1] LOG/' -e 's/^constexpr double K_H = .*;      \\/\\/ OPTIMIZE \\[0\\.001, 0\\.999\\]$/constexpr double K_H = 0.4575860309357852;      \\/\\/ OPTIMIZE [0.001, 0.999]/' -e 's/^constexpr short PURCHASE_TURN_LIMIT = .*;  \\/\\/ OPTIMIZE \\[790, 870\\]$/constexpr short PURCHASE_TURN_LIMIT = 829;  \\/\\/ OPTIMIZE [790, 870]/' -e 's/^constexpr int ROUGH_HASH = .*;      \\/\\/ OPTIMIZE {0, 0b00000001, 0b00010001, 0b00010011, 0b00110011}$/constexpr int ROUGH_HASH = 0b00000001;      \\/\\/ OPTIMIZE {0, 0b00000001, 0b00010001, 0b00010011, 0b00110011}/' -e 's/^constexpr double TARGET_BEAM_WIDTH_INCREASE_RATE = .*;      \\/\\/ OPTIMIZE \\[0\\.25, 4\\.0\\] LOG$/constexpr double TARGET_BEAM_WIDTH_INCREASE_RATE = 1.652121720268135;      \\/\\/ OPTIMIZE [0.25, 4.0] LOG/' -e 's/^constexpr double TARGET_BEAM_WIDTH_HALF_PROGRES_RATE = .*;  \\/\\/ OPTIMIZE \\[0\\.02, 0\\.98\\]$/constexpr double TARGET_BEAM_WIDTH_HALF_PROGRES_RATE = 0.7442540079102341;  \\/\\/ OPTIMIZE [0.02, 0.98]/' -e 's/^constexpr auto MAX_BEAM_WIDTH = .*;                        \\/\\/ OPTIMIZE \\[400, 4000\\] LOG$/constexpr auto MAX_BEAM_WIDTH = 1702;                        \\/\\/ OPTIMIZE [400, 4000] LOG/'\n",
      "g++ 10_main.cpp -std=gnu++17 -O2 -DONLINE_JUDGE -o 10_main.cpp.out 2> /dev/null\n"
     ]
    },
    {
     "name": "stderr",
     "output_type": "stream",
     "text": [
      "\u001b[32m[I 2021-09-11 02:31:11,246]\u001b[0m Trial 67 finished with value: 989894848.0 and parameters: {'hash_table_size': 11, 'K_START': 0.0987302142280498, 'K_END': 0.03527422532928023, 'K_H': 0.06153845044085521, 'PURCHASE_TURN_LIMIT': 830, 'ROUGH_HASH': '0', 'TARGET_BEAM_WIDTH_INCREASE_RATE': 1.4355934959139853, 'TARGET_BEAM_WIDTH_HALF_PROGRES_RATE': 0.48702488982761083, 'MAX_BEAM_WIDTH': 1704}. Best is trial 57 with value: 996773700.0.\u001b[0m\n"
     ]
    },
    {
     "name": "stdout",
     "output_type": "stream",
     "text": [
      "callback ok\n",
      "index_parallel=11\n",
      "sed -i 11_main.cpp -e 's/^constexpr int hash_table_size = .*;         \\/\\/ OPTIMIZE \\[9, 18\\]$/constexpr int hash_table_size = 12;         \\/\\/ OPTIMIZE [9, 18]/' -e 's/^constexpr double K_START = .*;  \\/\\/ OPTIMIZE \\[0\\.04, 0\\.2\\] LOG$/constexpr double K_START = 0.16286230968453438;  \\/\\/ OPTIMIZE [0.04, 0.2] LOG/' -e 's/^constexpr double K_END = .*;   \\/\\/ OPTIMIZE \\[0\\.03, 0\\.1\\] LOG$/constexpr double K_END = 0.04500933729201068;   \\/\\/ OPTIMIZE [0.03, 0.1] LOG/' -e 's/^constexpr double K_H = .*;      \\/\\/ OPTIMIZE \\[0\\.001, 0\\.999\\]$/constexpr double K_H = 0.447481898781499;      \\/\\/ OPTIMIZE [0.001, 0.999]/' -e 's/^constexpr short PURCHASE_TURN_LIMIT = .*;  \\/\\/ OPTIMIZE \\[790, 870\\]$/constexpr short PURCHASE_TURN_LIMIT = 819;  \\/\\/ OPTIMIZE [790, 870]/' -e 's/^constexpr int ROUGH_HASH = .*;      \\/\\/ OPTIMIZE {0, 0b00000001, 0b00010001, 0b00010011, 0b00110011}$/constexpr int ROUGH_HASH = 0b00000001;      \\/\\/ OPTIMIZE {0, 0b00000001, 0b00010001, 0b00010011, 0b00110011}/' -e 's/^constexpr double TARGET_BEAM_WIDTH_INCREASE_RATE = .*;      \\/\\/ OPTIMIZE \\[0\\.25, 4\\.0\\] LOG$/constexpr double TARGET_BEAM_WIDTH_INCREASE_RATE = 1.617164551611245;      \\/\\/ OPTIMIZE [0.25, 4.0] LOG/' -e 's/^constexpr double TARGET_BEAM_WIDTH_HALF_PROGRES_RATE = .*;  \\/\\/ OPTIMIZE \\[0\\.02, 0\\.98\\]$/constexpr double TARGET_BEAM_WIDTH_HALF_PROGRES_RATE = 0.6359271332046296;  \\/\\/ OPTIMIZE [0.02, 0.98]/' -e 's/^constexpr auto MAX_BEAM_WIDTH = .*;                        \\/\\/ OPTIMIZE \\[400, 4000\\] LOG$/constexpr auto MAX_BEAM_WIDTH = 1347;                        \\/\\/ OPTIMIZE [400, 4000] LOG/'\n",
      "g++ 11_main.cpp -std=gnu++17 -O2 -DONLINE_JUDGE -o 11_main.cpp.out 2> /dev/null\n"
     ]
    },
    {
     "name": "stderr",
     "output_type": "stream",
     "text": [
      "\u001b[32m[I 2021-09-11 02:32:31,654]\u001b[0m Trial 68 finished with value: 980088481.0 and parameters: {'hash_table_size': 11, 'K_START': 0.10104630981134849, 'K_END': 0.03452117591434067, 'K_H': 0.0015217286194786628, 'PURCHASE_TURN_LIMIT': 831, 'ROUGH_HASH': '0', 'TARGET_BEAM_WIDTH_INCREASE_RATE': 1.4225225931002665, 'TARGET_BEAM_WIDTH_HALF_PROGRES_RATE': 0.624535962439452, 'MAX_BEAM_WIDTH': 1732}. Best is trial 57 with value: 996773700.0.\u001b[0m\n"
     ]
    },
    {
     "name": "stdout",
     "output_type": "stream",
     "text": [
      "callback ok\n",
      "index_parallel=0\n",
      "sed -i 0_main.cpp -e 's/^constexpr int hash_table_size = .*;         \\/\\/ OPTIMIZE \\[9, 18\\]$/constexpr int hash_table_size = 12;         \\/\\/ OPTIMIZE [9, 18]/' -e 's/^constexpr double K_START = .*;  \\/\\/ OPTIMIZE \\[0\\.04, 0\\.2\\] LOG$/constexpr double K_START = 0.12644267779899906;  \\/\\/ OPTIMIZE [0.04, 0.2] LOG/' -e 's/^constexpr double K_END = .*;   \\/\\/ OPTIMIZE \\[0\\.03, 0\\.1\\] LOG$/constexpr double K_END = 0.0416975650641426;   \\/\\/ OPTIMIZE [0.03, 0.1] LOG/' -e 's/^constexpr double K_H = .*;      \\/\\/ OPTIMIZE \\[0\\.001, 0\\.999\\]$/constexpr double K_H = 0.4659425268232945;      \\/\\/ OPTIMIZE [0.001, 0.999]/' -e 's/^constexpr short PURCHASE_TURN_LIMIT = .*;  \\/\\/ OPTIMIZE \\[790, 870\\]$/constexpr short PURCHASE_TURN_LIMIT = 818;  \\/\\/ OPTIMIZE [790, 870]/' -e 's/^constexpr int ROUGH_HASH = .*;      \\/\\/ OPTIMIZE {0, 0b00000001, 0b00010001, 0b00010011, 0b00110011}$/constexpr int ROUGH_HASH = 0b00000001;      \\/\\/ OPTIMIZE {0, 0b00000001, 0b00010001, 0b00010011, 0b00110011}/' -e 's/^constexpr double TARGET_BEAM_WIDTH_INCREASE_RATE = .*;      \\/\\/ OPTIMIZE \\[0\\.25, 4\\.0\\] LOG$/constexpr double TARGET_BEAM_WIDTH_INCREASE_RATE = 1.6071588025588852;      \\/\\/ OPTIMIZE [0.25, 4.0] LOG/' -e 's/^constexpr double TARGET_BEAM_WIDTH_HALF_PROGRES_RATE = .*;  \\/\\/ OPTIMIZE \\[0\\.02, 0\\.98\\]$/constexpr double TARGET_BEAM_WIDTH_HALF_PROGRES_RATE = 0.655353350096273;  \\/\\/ OPTIMIZE [0.02, 0.98]/' -e 's/^constexpr auto MAX_BEAM_WIDTH = .*;                        \\/\\/ OPTIMIZE \\[400, 4000\\] LOG$/constexpr auto MAX_BEAM_WIDTH = 1364;                        \\/\\/ OPTIMIZE [400, 4000] LOG/'\n",
      "g++ 0_main.cpp -std=gnu++17 -O2 -DONLINE_JUDGE -o 0_main.cpp.out 2> /dev/null\n"
     ]
    },
    {
     "name": "stderr",
     "output_type": "stream",
     "text": [
      "\u001b[32m[I 2021-09-11 02:32:38,479]\u001b[0m Trial 69 finished with value: 985583240.0 and parameters: {'hash_table_size': 11, 'K_START': 0.10080162832361424, 'K_END': 0.03882033431665186, 'K_H': 0.042170497918763525, 'PURCHASE_TURN_LIMIT': 830, 'ROUGH_HASH': '0', 'TARGET_BEAM_WIDTH_INCREASE_RATE': 1.3603029886051996, 'TARGET_BEAM_WIDTH_HALF_PROGRES_RATE': 0.6336379316300464, 'MAX_BEAM_WIDTH': 1346}. Best is trial 57 with value: 996773700.0.\u001b[0m\n"
     ]
    },
    {
     "name": "stdout",
     "output_type": "stream",
     "text": [
      "callback ok\n",
      "index_parallel=1\n",
      "sed -i 1_main.cpp -e 's/^constexpr int hash_table_size = .*;         \\/\\/ OPTIMIZE \\[9, 18\\]$/constexpr int hash_table_size = 12;         \\/\\/ OPTIMIZE [9, 18]/' -e 's/^constexpr double K_START = .*;  \\/\\/ OPTIMIZE \\[0\\.04, 0\\.2\\] LOG$/constexpr double K_START = 0.1585112017231592;  \\/\\/ OPTIMIZE [0.04, 0.2] LOG/' -e 's/^constexpr double K_END = .*;   \\/\\/ OPTIMIZE \\[0\\.03, 0\\.1\\] LOG$/constexpr double K_END = 0.044936387198787446;   \\/\\/ OPTIMIZE [0.03, 0.1] LOG/' -e 's/^constexpr double K_H = .*;      \\/\\/ OPTIMIZE \\[0\\.001, 0\\.999\\]$/constexpr double K_H = 0.4573307135380173;      \\/\\/ OPTIMIZE [0.001, 0.999]/' -e 's/^constexpr short PURCHASE_TURN_LIMIT = .*;  \\/\\/ OPTIMIZE \\[790, 870\\]$/constexpr short PURCHASE_TURN_LIMIT = 819;  \\/\\/ OPTIMIZE [790, 870]/' -e 's/^constexpr int ROUGH_HASH = .*;      \\/\\/ OPTIMIZE {0, 0b00000001, 0b00010001, 0b00010011, 0b00110011}$/constexpr int ROUGH_HASH = 0b00000001;      \\/\\/ OPTIMIZE {0, 0b00000001, 0b00010001, 0b00010011, 0b00110011}/' -e 's/^constexpr double TARGET_BEAM_WIDTH_INCREASE_RATE = .*;      \\/\\/ OPTIMIZE \\[0\\.25, 4\\.0\\] LOG$/constexpr double TARGET_BEAM_WIDTH_INCREASE_RATE = 1.5776849135325244;      \\/\\/ OPTIMIZE [0.25, 4.0] LOG/' -e 's/^constexpr double TARGET_BEAM_WIDTH_HALF_PROGRES_RATE = .*;  \\/\\/ OPTIMIZE \\[0\\.02, 0\\.98\\]$/constexpr double TARGET_BEAM_WIDTH_HALF_PROGRES_RATE = 0.34600902259580224;  \\/\\/ OPTIMIZE [0.02, 0.98]/' -e 's/^constexpr auto MAX_BEAM_WIDTH = .*;                        \\/\\/ OPTIMIZE \\[400, 4000\\] LOG$/constexpr auto MAX_BEAM_WIDTH = 860;                        \\/\\/ OPTIMIZE [400, 4000] LOG/'\n",
      "g++ 1_main.cpp -std=gnu++17 -O2 -DONLINE_JUDGE -o 1_main.cpp.out 2> /dev/null\n"
     ]
    },
    {
     "name": "stderr",
     "output_type": "stream",
     "text": [
      "\u001b[32m[I 2021-09-11 02:32:45,622]\u001b[0m Trial 70 finished with value: 984386704.0 and parameters: {'hash_table_size': 12, 'K_START': 0.10127758007707277, 'K_END': 0.04468237575335057, 'K_H': 0.4575860309357852, 'PURCHASE_TURN_LIMIT': 829, 'ROUGH_HASH': '0b00000001', 'TARGET_BEAM_WIDTH_INCREASE_RATE': 1.652121720268135, 'TARGET_BEAM_WIDTH_HALF_PROGRES_RATE': 0.7442540079102341, 'MAX_BEAM_WIDTH': 1702}. Best is trial 57 with value: 996773700.0.\u001b[0m\n"
     ]
    },
    {
     "name": "stdout",
     "output_type": "stream",
     "text": [
      "callback ok\n",
      "index_parallel=2\n",
      "sed -i 2_main.cpp -e 's/^constexpr int hash_table_size = .*;         \\/\\/ OPTIMIZE \\[9, 18\\]$/constexpr int hash_table_size = 12;         \\/\\/ OPTIMIZE [9, 18]/' -e 's/^constexpr double K_START = .*;  \\/\\/ OPTIMIZE \\[0\\.04, 0\\.2\\] LOG$/constexpr double K_START = 0.12470214002895424;  \\/\\/ OPTIMIZE [0.04, 0.2] LOG/' -e 's/^constexpr double K_END = .*;   \\/\\/ OPTIMIZE \\[0\\.03, 0\\.1\\] LOG$/constexpr double K_END = 0.0408961210814411;   \\/\\/ OPTIMIZE [0.03, 0.1] LOG/' -e 's/^constexpr double K_H = .*;      \\/\\/ OPTIMIZE \\[0\\.001, 0\\.999\\]$/constexpr double K_H = 0.09836046930165893;      \\/\\/ OPTIMIZE [0.001, 0.999]/' -e 's/^constexpr short PURCHASE_TURN_LIMIT = .*;  \\/\\/ OPTIMIZE \\[790, 870\\]$/constexpr short PURCHASE_TURN_LIMIT = 818;  \\/\\/ OPTIMIZE [790, 870]/' -e 's/^constexpr int ROUGH_HASH = .*;      \\/\\/ OPTIMIZE {0, 0b00000001, 0b00010001, 0b00010011, 0b00110011}$/constexpr int ROUGH_HASH = 0;      \\/\\/ OPTIMIZE {0, 0b00000001, 0b00010001, 0b00010011, 0b00110011}/' -e 's/^constexpr double TARGET_BEAM_WIDTH_INCREASE_RATE = .*;      \\/\\/ OPTIMIZE \\[0\\.25, 4\\.0\\] LOG$/constexpr double TARGET_BEAM_WIDTH_INCREASE_RATE = 2.842298133202306;      \\/\\/ OPTIMIZE [0.25, 4.0] LOG/' -e 's/^constexpr double TARGET_BEAM_WIDTH_HALF_PROGRES_RATE = .*;  \\/\\/ OPTIMIZE \\[0\\.02, 0\\.98\\]$/constexpr double TARGET_BEAM_WIDTH_HALF_PROGRES_RATE = 0.5156752126105536;  \\/\\/ OPTIMIZE [0.02, 0.98]/' -e 's/^constexpr auto MAX_BEAM_WIDTH = .*;                        \\/\\/ OPTIMIZE \\[400, 4000\\] LOG$/constexpr auto MAX_BEAM_WIDTH = 1540;                        \\/\\/ OPTIMIZE [400, 4000] LOG/'\n",
      "g++ 2_main.cpp -std=gnu++17 -O2 -DONLINE_JUDGE -o 2_main.cpp.out 2> /dev/null\n"
     ]
    },
    {
     "name": "stderr",
     "output_type": "stream",
     "text": [
      "\u001b[32m[I 2021-09-11 02:32:57,328]\u001b[0m Trial 71 finished with value: 981292519.0 and parameters: {'hash_table_size': 12, 'K_START': 0.16286230968453438, 'K_END': 0.04500933729201068, 'K_H': 0.447481898781499, 'PURCHASE_TURN_LIMIT': 819, 'ROUGH_HASH': '0b00000001', 'TARGET_BEAM_WIDTH_INCREASE_RATE': 1.617164551611245, 'TARGET_BEAM_WIDTH_HALF_PROGRES_RATE': 0.6359271332046296, 'MAX_BEAM_WIDTH': 1347}. Best is trial 57 with value: 996773700.0.\u001b[0m\n"
     ]
    },
    {
     "name": "stdout",
     "output_type": "stream",
     "text": [
      "callback ok\n",
      "index_parallel=3\n",
      "sed -i 3_main.cpp -e 's/^constexpr int hash_table_size = .*;         \\/\\/ OPTIMIZE \\[9, 18\\]$/constexpr int hash_table_size = 10;         \\/\\/ OPTIMIZE [9, 18]/' -e 's/^constexpr double K_START = .*;  \\/\\/ OPTIMIZE \\[0\\.04, 0\\.2\\] LOG$/constexpr double K_START = 0.07629572866357716;  \\/\\/ OPTIMIZE [0.04, 0.2] LOG/' -e 's/^constexpr double K_END = .*;   \\/\\/ OPTIMIZE \\[0\\.03, 0\\.1\\] LOG$/constexpr double K_END = 0.04137169380310512;   \\/\\/ OPTIMIZE [0.03, 0.1] LOG/' -e 's/^constexpr double K_H = .*;      \\/\\/ OPTIMIZE \\[0\\.001, 0\\.999\\]$/constexpr double K_H = 0.08307296320349039;      \\/\\/ OPTIMIZE [0.001, 0.999]/' -e 's/^constexpr short PURCHASE_TURN_LIMIT = .*;  \\/\\/ OPTIMIZE \\[790, 870\\]$/constexpr short PURCHASE_TURN_LIMIT = 833;  \\/\\/ OPTIMIZE [790, 870]/' -e 's/^constexpr int ROUGH_HASH = .*;      \\/\\/ OPTIMIZE {0, 0b00000001, 0b00010001, 0b00010011, 0b00110011}$/constexpr int ROUGH_HASH = 0;      \\/\\/ OPTIMIZE {0, 0b00000001, 0b00010001, 0b00010011, 0b00110011}/' -e 's/^constexpr double TARGET_BEAM_WIDTH_INCREASE_RATE = .*;      \\/\\/ OPTIMIZE \\[0\\.25, 4\\.0\\] LOG$/constexpr double TARGET_BEAM_WIDTH_INCREASE_RATE = 2.8379639350015564;      \\/\\/ OPTIMIZE [0.25, 4.0] LOG/' -e 's/^constexpr double TARGET_BEAM_WIDTH_HALF_PROGRES_RATE = .*;  \\/\\/ OPTIMIZE \\[0\\.02, 0\\.98\\]$/constexpr double TARGET_BEAM_WIDTH_HALF_PROGRES_RATE = 0.34963431362825914;  \\/\\/ OPTIMIZE [0.02, 0.98]/' -e 's/^constexpr auto MAX_BEAM_WIDTH = .*;                        \\/\\/ OPTIMIZE \\[400, 4000\\] LOG$/constexpr auto MAX_BEAM_WIDTH = 1601;                        \\/\\/ OPTIMIZE [400, 4000] LOG/'\n",
      "g++ 3_main.cpp -std=gnu++17 -O2 -DONLINE_JUDGE -o 3_main.cpp.out 2> /dev/null\n"
     ]
    },
    {
     "name": "stderr",
     "output_type": "stream",
     "text": [
      "\u001b[32m[I 2021-09-11 02:34:17,019]\u001b[0m Trial 72 finished with value: 983724043.0 and parameters: {'hash_table_size': 12, 'K_START': 0.12644267779899906, 'K_END': 0.0416975650641426, 'K_H': 0.4659425268232945, 'PURCHASE_TURN_LIMIT': 818, 'ROUGH_HASH': '0b00000001', 'TARGET_BEAM_WIDTH_INCREASE_RATE': 1.6071588025588852, 'TARGET_BEAM_WIDTH_HALF_PROGRES_RATE': 0.655353350096273, 'MAX_BEAM_WIDTH': 1364}. Best is trial 57 with value: 996773700.0.\u001b[0m\n"
     ]
    },
    {
     "name": "stdout",
     "output_type": "stream",
     "text": [
      "callback ok\n",
      "index_parallel=4\n",
      "sed -i 4_main.cpp -e 's/^constexpr int hash_table_size = .*;         \\/\\/ OPTIMIZE \\[9, 18\\]$/constexpr int hash_table_size = 10;         \\/\\/ OPTIMIZE [9, 18]/' -e 's/^constexpr double K_START = .*;  \\/\\/ OPTIMIZE \\[0\\.04, 0\\.2\\] LOG$/constexpr double K_START = 0.10718258678834887;  \\/\\/ OPTIMIZE [0.04, 0.2] LOG/' -e 's/^constexpr double K_END = .*;   \\/\\/ OPTIMIZE \\[0\\.03, 0\\.1\\] LOG$/constexpr double K_END = 0.03868474110059297;   \\/\\/ OPTIMIZE [0.03, 0.1] LOG/' -e 's/^constexpr double K_H = .*;      \\/\\/ OPTIMIZE \\[0\\.001, 0\\.999\\]$/constexpr double K_H = 0.16492418121982488;      \\/\\/ OPTIMIZE [0.001, 0.999]/' -e 's/^constexpr short PURCHASE_TURN_LIMIT = .*;  \\/\\/ OPTIMIZE \\[790, 870\\]$/constexpr short PURCHASE_TURN_LIMIT = 834;  \\/\\/ OPTIMIZE [790, 870]/' -e 's/^constexpr int ROUGH_HASH = .*;      \\/\\/ OPTIMIZE {0, 0b00000001, 0b00010001, 0b00010011, 0b00110011}$/constexpr int ROUGH_HASH = 0;      \\/\\/ OPTIMIZE {0, 0b00000001, 0b00010001, 0b00010011, 0b00110011}/' -e 's/^constexpr double TARGET_BEAM_WIDTH_INCREASE_RATE = .*;      \\/\\/ OPTIMIZE \\[0\\.25, 4\\.0\\] LOG$/constexpr double TARGET_BEAM_WIDTH_INCREASE_RATE = 2.8006383435692994;      \\/\\/ OPTIMIZE [0.25, 4.0] LOG/' -e 's/^constexpr double TARGET_BEAM_WIDTH_HALF_PROGRES_RATE = .*;  \\/\\/ OPTIMIZE \\[0\\.02, 0\\.98\\]$/constexpr double TARGET_BEAM_WIDTH_HALF_PROGRES_RATE = 0.3455846746717002;  \\/\\/ OPTIMIZE [0.02, 0.98]/' -e 's/^constexpr auto MAX_BEAM_WIDTH = .*;                        \\/\\/ OPTIMIZE \\[400, 4000\\] LOG$/constexpr auto MAX_BEAM_WIDTH = 975;                        \\/\\/ OPTIMIZE [400, 4000] LOG/'\n",
      "g++ 4_main.cpp -std=gnu++17 -O2 -DONLINE_JUDGE -o 4_main.cpp.out 2> /dev/null\n"
     ]
    },
    {
     "name": "stderr",
     "output_type": "stream",
     "text": [
      "\u001b[32m[I 2021-09-11 02:34:20,872]\u001b[0m Trial 73 finished with value: 977233209.0 and parameters: {'hash_table_size': 12, 'K_START': 0.1585112017231592, 'K_END': 0.044936387198787446, 'K_H': 0.4573307135380173, 'PURCHASE_TURN_LIMIT': 819, 'ROUGH_HASH': '0b00000001', 'TARGET_BEAM_WIDTH_INCREASE_RATE': 1.5776849135325244, 'TARGET_BEAM_WIDTH_HALF_PROGRES_RATE': 0.34600902259580224, 'MAX_BEAM_WIDTH': 860}. Best is trial 57 with value: 996773700.0.\u001b[0m\n"
     ]
    },
    {
     "name": "stdout",
     "output_type": "stream",
     "text": [
      "callback ok\n",
      "index_parallel=5\n",
      "sed -i 5_main.cpp -e 's/^constexpr int hash_table_size = .*;         \\/\\/ OPTIMIZE \\[9, 18\\]$/constexpr int hash_table_size = 10;         \\/\\/ OPTIMIZE [9, 18]/' -e 's/^constexpr double K_START = .*;  \\/\\/ OPTIMIZE \\[0\\.04, 0\\.2\\] LOG$/constexpr double K_START = 0.10788049711977131;  \\/\\/ OPTIMIZE [0.04, 0.2] LOG/' -e 's/^constexpr double K_END = .*;   \\/\\/ OPTIMIZE \\[0\\.03, 0\\.1\\] LOG$/constexpr double K_END = 0.03880435892119478;   \\/\\/ OPTIMIZE [0.03, 0.1] LOG/' -e 's/^constexpr double K_H = .*;      \\/\\/ OPTIMIZE \\[0\\.001, 0\\.999\\]$/constexpr double K_H = 0.10882690660049493;      \\/\\/ OPTIMIZE [0.001, 0.999]/' -e 's/^constexpr short PURCHASE_TURN_LIMIT = .*;  \\/\\/ OPTIMIZE \\[790, 870\\]$/constexpr short PURCHASE_TURN_LIMIT = 834;  \\/\\/ OPTIMIZE [790, 870]/' -e 's/^constexpr int ROUGH_HASH = .*;      \\/\\/ OPTIMIZE {0, 0b00000001, 0b00010001, 0b00010011, 0b00110011}$/constexpr int ROUGH_HASH = 0;      \\/\\/ OPTIMIZE {0, 0b00000001, 0b00010001, 0b00010011, 0b00110011}/' -e 's/^constexpr double TARGET_BEAM_WIDTH_INCREASE_RATE = .*;      \\/\\/ OPTIMIZE \\[0\\.25, 4\\.0\\] LOG$/constexpr double TARGET_BEAM_WIDTH_INCREASE_RATE = 2.8880269842097883;      \\/\\/ OPTIMIZE [0.25, 4.0] LOG/' -e 's/^constexpr double TARGET_BEAM_WIDTH_HALF_PROGRES_RATE = .*;  \\/\\/ OPTIMIZE \\[0\\.02, 0\\.98\\]$/constexpr double TARGET_BEAM_WIDTH_HALF_PROGRES_RATE = 0.5152589746761979;  \\/\\/ OPTIMIZE [0.02, 0.98]/' -e 's/^constexpr auto MAX_BEAM_WIDTH = .*;                        \\/\\/ OPTIMIZE \\[400, 4000\\] LOG$/constexpr auto MAX_BEAM_WIDTH = 1547;                        \\/\\/ OPTIMIZE [400, 4000] LOG/'\n",
      "g++ 5_main.cpp -std=gnu++17 -O2 -DONLINE_JUDGE -o 5_main.cpp.out 2> /dev/null\n"
     ]
    },
    {
     "name": "stderr",
     "output_type": "stream",
     "text": [
      "\u001b[32m[I 2021-09-11 02:34:31,198]\u001b[0m Trial 74 finished with value: 979457523.0 and parameters: {'hash_table_size': 12, 'K_START': 0.12470214002895424, 'K_END': 0.0408961210814411, 'K_H': 0.09836046930165893, 'PURCHASE_TURN_LIMIT': 818, 'ROUGH_HASH': '0', 'TARGET_BEAM_WIDTH_INCREASE_RATE': 2.842298133202306, 'TARGET_BEAM_WIDTH_HALF_PROGRES_RATE': 0.5156752126105536, 'MAX_BEAM_WIDTH': 1540}. Best is trial 57 with value: 996773700.0.\u001b[0m\n"
     ]
    },
    {
     "name": "stdout",
     "output_type": "stream",
     "text": [
      "callback ok\n",
      "index_parallel=6\n",
      "sed -i 6_main.cpp -e 's/^constexpr int hash_table_size = .*;         \\/\\/ OPTIMIZE \\[9, 18\\]$/constexpr int hash_table_size = 10;         \\/\\/ OPTIMIZE [9, 18]/' -e 's/^constexpr double K_START = .*;  \\/\\/ OPTIMIZE \\[0\\.04, 0\\.2\\] LOG$/constexpr double K_START = 0.10989062447126884;  \\/\\/ OPTIMIZE [0.04, 0.2] LOG/' -e 's/^constexpr double K_END = .*;   \\/\\/ OPTIMIZE \\[0\\.03, 0\\.1\\] LOG$/constexpr double K_END = 0.048253303141315;   \\/\\/ OPTIMIZE [0.03, 0.1] LOG/' -e 's/^constexpr double K_H = .*;      \\/\\/ OPTIMIZE \\[0\\.001, 0\\.999\\]$/constexpr double K_H = 0.1940348836861812;      \\/\\/ OPTIMIZE [0.001, 0.999]/' -e 's/^constexpr short PURCHASE_TURN_LIMIT = .*;  \\/\\/ OPTIMIZE \\[790, 870\\]$/constexpr short PURCHASE_TURN_LIMIT = 835;  \\/\\/ OPTIMIZE [790, 870]/' -e 's/^constexpr int ROUGH_HASH = .*;      \\/\\/ OPTIMIZE {0, 0b00000001, 0b00010001, 0b00010011, 0b00110011}$/constexpr int ROUGH_HASH = 0;      \\/\\/ OPTIMIZE {0, 0b00000001, 0b00010001, 0b00010011, 0b00110011}/' -e 's/^constexpr double TARGET_BEAM_WIDTH_INCREASE_RATE = .*;      \\/\\/ OPTIMIZE \\[0\\.25, 4\\.0\\] LOG$/constexpr double TARGET_BEAM_WIDTH_INCREASE_RATE = 1.9416613299444268;      \\/\\/ OPTIMIZE [0.25, 4.0] LOG/' -e 's/^constexpr double TARGET_BEAM_WIDTH_HALF_PROGRES_RATE = .*;  \\/\\/ OPTIMIZE \\[0\\.02, 0\\.98\\]$/constexpr double TARGET_BEAM_WIDTH_HALF_PROGRES_RATE = 0.5629431895025239;  \\/\\/ OPTIMIZE [0.02, 0.98]/' -e 's/^constexpr auto MAX_BEAM_WIDTH = .*;                        \\/\\/ OPTIMIZE \\[400, 4000\\] LOG$/constexpr auto MAX_BEAM_WIDTH = 976;                        \\/\\/ OPTIMIZE [400, 4000] LOG/'\n",
      "g++ 6_main.cpp -std=gnu++17 -O2 -DONLINE_JUDGE -o 6_main.cpp.out 2> /dev/null\n"
     ]
    },
    {
     "name": "stderr",
     "output_type": "stream",
     "text": [
      "\u001b[32m[I 2021-09-11 02:34:38,723]\u001b[0m Trial 75 finished with value: 988105651.0 and parameters: {'hash_table_size': 10, 'K_START': 0.07629572866357716, 'K_END': 0.04137169380310512, 'K_H': 0.08307296320349039, 'PURCHASE_TURN_LIMIT': 833, 'ROUGH_HASH': '0', 'TARGET_BEAM_WIDTH_INCREASE_RATE': 2.8379639350015564, 'TARGET_BEAM_WIDTH_HALF_PROGRES_RATE': 0.34963431362825914, 'MAX_BEAM_WIDTH': 1601}. Best is trial 57 with value: 996773700.0.\u001b[0m\n"
     ]
    },
    {
     "name": "stdout",
     "output_type": "stream",
     "text": [
      "callback ok\n",
      "index_parallel=7\n",
      "sed -i 7_main.cpp -e 's/^constexpr int hash_table_size = .*;         \\/\\/ OPTIMIZE \\[9, 18\\]$/constexpr int hash_table_size = 10;         \\/\\/ OPTIMIZE [9, 18]/' -e 's/^constexpr double K_START = .*;  \\/\\/ OPTIMIZE \\[0\\.04, 0\\.2\\] LOG$/constexpr double K_START = 0.10911099991542468;  \\/\\/ OPTIMIZE [0.04, 0.2] LOG/' -e 's/^constexpr double K_END = .*;   \\/\\/ OPTIMIZE \\[0\\.03, 0\\.1\\] LOG$/constexpr double K_END = 0.03879741214166609;   \\/\\/ OPTIMIZE [0.03, 0.1] LOG/' -e 's/^constexpr double K_H = .*;      \\/\\/ OPTIMIZE \\[0\\.001, 0\\.999\\]$/constexpr double K_H = 0.14686584422279803;      \\/\\/ OPTIMIZE [0.001, 0.999]/' -e 's/^constexpr short PURCHASE_TURN_LIMIT = .*;  \\/\\/ OPTIMIZE \\[790, 870\\]$/constexpr short PURCHASE_TURN_LIMIT = 839;  \\/\\/ OPTIMIZE [790, 870]/' -e 's/^constexpr int ROUGH_HASH = .*;      \\/\\/ OPTIMIZE {0, 0b00000001, 0b00010001, 0b00010011, 0b00110011}$/constexpr int ROUGH_HASH = 0;      \\/\\/ OPTIMIZE {0, 0b00000001, 0b00010001, 0b00010011, 0b00110011}/' -e 's/^constexpr double TARGET_BEAM_WIDTH_INCREASE_RATE = .*;      \\/\\/ OPTIMIZE \\[0\\.25, 4\\.0\\] LOG$/constexpr double TARGET_BEAM_WIDTH_INCREASE_RATE = 1.8636402650304655;      \\/\\/ OPTIMIZE [0.25, 4.0] LOG/' -e 's/^constexpr double TARGET_BEAM_WIDTH_HALF_PROGRES_RATE = .*;  \\/\\/ OPTIMIZE \\[0\\.02, 0\\.98\\]$/constexpr double TARGET_BEAM_WIDTH_HALF_PROGRES_RATE = 0.5700528669382546;  \\/\\/ OPTIMIZE [0.02, 0.98]/' -e 's/^constexpr auto MAX_BEAM_WIDTH = .*;                        \\/\\/ OPTIMIZE \\[400, 4000\\] LOG$/constexpr auto MAX_BEAM_WIDTH = 1282;                        \\/\\/ OPTIMIZE [400, 4000] LOG/'\n",
      "g++ 7_main.cpp -std=gnu++17 -O2 -DONLINE_JUDGE -o 7_main.cpp.out 2> /dev/null\n"
     ]
    },
    {
     "name": "stderr",
     "output_type": "stream",
     "text": [
      "\u001b[32m[I 2021-09-11 02:35:57,871]\u001b[0m Trial 76 finished with value: 988455320.0 and parameters: {'hash_table_size': 10, 'K_START': 0.10718258678834887, 'K_END': 0.03868474110059297, 'K_H': 0.16492418121982488, 'PURCHASE_TURN_LIMIT': 834, 'ROUGH_HASH': '0', 'TARGET_BEAM_WIDTH_INCREASE_RATE': 2.8006383435692994, 'TARGET_BEAM_WIDTH_HALF_PROGRES_RATE': 0.3455846746717002, 'MAX_BEAM_WIDTH': 975}. Best is trial 57 with value: 996773700.0.\u001b[0m\n"
     ]
    },
    {
     "name": "stdout",
     "output_type": "stream",
     "text": [
      "callback ok\n",
      "index_parallel=8\n",
      "sed -i 8_main.cpp -e 's/^constexpr int hash_table_size = .*;         \\/\\/ OPTIMIZE \\[9, 18\\]$/constexpr int hash_table_size = 11;         \\/\\/ OPTIMIZE [9, 18]/' -e 's/^constexpr double K_START = .*;  \\/\\/ OPTIMIZE \\[0\\.04, 0\\.2\\] LOG$/constexpr double K_START = 0.10976770559920317;  \\/\\/ OPTIMIZE [0.04, 0.2] LOG/' -e 's/^constexpr double K_END = .*;   \\/\\/ OPTIMIZE \\[0\\.03, 0\\.1\\] LOG$/constexpr double K_END = 0.031401186528054584;   \\/\\/ OPTIMIZE [0.03, 0.1] LOG/' -e 's/^constexpr double K_H = .*;      \\/\\/ OPTIMIZE \\[0\\.001, 0\\.999\\]$/constexpr double K_H = 0.5797382033823749;      \\/\\/ OPTIMIZE [0.001, 0.999]/' -e 's/^constexpr short PURCHASE_TURN_LIMIT = .*;  \\/\\/ OPTIMIZE \\[790, 870\\]$/constexpr short PURCHASE_TURN_LIMIT = 823;  \\/\\/ OPTIMIZE [790, 870]/' -e 's/^constexpr int ROUGH_HASH = .*;      \\/\\/ OPTIMIZE {0, 0b00000001, 0b00010001, 0b00010011, 0b00110011}$/constexpr int ROUGH_HASH = 0;      \\/\\/ OPTIMIZE {0, 0b00000001, 0b00010001, 0b00010011, 0b00110011}/' -e 's/^constexpr double TARGET_BEAM_WIDTH_INCREASE_RATE = .*;      \\/\\/ OPTIMIZE \\[0\\.25, 4\\.0\\] LOG$/constexpr double TARGET_BEAM_WIDTH_INCREASE_RATE = 1.922624065102517;      \\/\\/ OPTIMIZE [0.25, 4.0] LOG/' -e 's/^constexpr double TARGET_BEAM_WIDTH_HALF_PROGRES_RATE = .*;  \\/\\/ OPTIMIZE \\[0\\.02, 0\\.98\\]$/constexpr double TARGET_BEAM_WIDTH_HALF_PROGRES_RATE = 0.5757417871097068;  \\/\\/ OPTIMIZE [0.02, 0.98]/' -e 's/^constexpr auto MAX_BEAM_WIDTH = .*;                        \\/\\/ OPTIMIZE \\[400, 4000\\] LOG$/constexpr auto MAX_BEAM_WIDTH = 1803;                        \\/\\/ OPTIMIZE [400, 4000] LOG/'\n",
      "g++ 8_main.cpp -std=gnu++17 -O2 -DONLINE_JUDGE -o 8_main.cpp.out 2> /dev/null\n"
     ]
    },
    {
     "name": "stderr",
     "output_type": "stream",
     "text": [
      "\u001b[32m[I 2021-09-11 02:36:07,496]\u001b[0m Trial 77 finished with value: 992673616.0 and parameters: {'hash_table_size': 10, 'K_START': 0.10788049711977131, 'K_END': 0.03880435892119478, 'K_H': 0.10882690660049493, 'PURCHASE_TURN_LIMIT': 834, 'ROUGH_HASH': '0', 'TARGET_BEAM_WIDTH_INCREASE_RATE': 2.8880269842097883, 'TARGET_BEAM_WIDTH_HALF_PROGRES_RATE': 0.5152589746761979, 'MAX_BEAM_WIDTH': 1547}. Best is trial 57 with value: 996773700.0.\u001b[0m\n"
     ]
    },
    {
     "name": "stdout",
     "output_type": "stream",
     "text": [
      "callback ok\n",
      "index_parallel=9\n",
      "sed -i 9_main.cpp -e 's/^constexpr int hash_table_size = .*;         \\/\\/ OPTIMIZE \\[9, 18\\]$/constexpr int hash_table_size = 10;         \\/\\/ OPTIMIZE [9, 18]/' -e 's/^constexpr double K_START = .*;  \\/\\/ OPTIMIZE \\[0\\.04, 0\\.2\\] LOG$/constexpr double K_START = 0.1072879102071483;  \\/\\/ OPTIMIZE [0.04, 0.2] LOG/' -e 's/^constexpr double K_END = .*;   \\/\\/ OPTIMIZE \\[0\\.03, 0\\.1\\] LOG$/constexpr double K_END = 0.04716287256380926;   \\/\\/ OPTIMIZE [0.03, 0.1] LOG/' -e 's/^constexpr double K_H = .*;      \\/\\/ OPTIMIZE \\[0\\.001, 0\\.999\\]$/constexpr double K_H = 0.4988932475938365;      \\/\\/ OPTIMIZE [0.001, 0.999]/' -e 's/^constexpr short PURCHASE_TURN_LIMIT = .*;  \\/\\/ OPTIMIZE \\[790, 870\\]$/constexpr short PURCHASE_TURN_LIMIT = 838;  \\/\\/ OPTIMIZE [790, 870]/' -e 's/^constexpr int ROUGH_HASH = .*;      \\/\\/ OPTIMIZE {0, 0b00000001, 0b00010001, 0b00010011, 0b00110011}$/constexpr int ROUGH_HASH = 0b00110011;      \\/\\/ OPTIMIZE {0, 0b00000001, 0b00010001, 0b00010011, 0b00110011}/' -e 's/^constexpr double TARGET_BEAM_WIDTH_INCREASE_RATE = .*;      \\/\\/ OPTIMIZE \\[0\\.25, 4\\.0\\] LOG$/constexpr double TARGET_BEAM_WIDTH_INCREASE_RATE = 3.425701892269634;      \\/\\/ OPTIMIZE [0.25, 4.0] LOG/' -e 's/^constexpr double TARGET_BEAM_WIDTH_HALF_PROGRES_RATE = .*;  \\/\\/ OPTIMIZE \\[0\\.02, 0\\.98\\]$/constexpr double TARGET_BEAM_WIDTH_HALF_PROGRES_RATE = 0.5638780507504311;  \\/\\/ OPTIMIZE [0.02, 0.98]/' -e 's/^constexpr auto MAX_BEAM_WIDTH = .*;                        \\/\\/ OPTIMIZE \\[400, 4000\\] LOG$/constexpr auto MAX_BEAM_WIDTH = 1276;                        \\/\\/ OPTIMIZE [400, 4000] LOG/'\n",
      "g++ 9_main.cpp -std=gnu++17 -O2 -DONLINE_JUDGE -o 9_main.cpp.out 2> /dev/null\n"
     ]
    },
    {
     "name": "stderr",
     "output_type": "stream",
     "text": [
      "\u001b[32m[I 2021-09-11 02:36:17,265]\u001b[0m Trial 78 finished with value: 992173748.0 and parameters: {'hash_table_size': 10, 'K_START': 0.10989062447126884, 'K_END': 0.048253303141315, 'K_H': 0.1940348836861812, 'PURCHASE_TURN_LIMIT': 835, 'ROUGH_HASH': '0', 'TARGET_BEAM_WIDTH_INCREASE_RATE': 1.9416613299444268, 'TARGET_BEAM_WIDTH_HALF_PROGRES_RATE': 0.5629431895025239, 'MAX_BEAM_WIDTH': 976}. Best is trial 57 with value: 996773700.0.\u001b[0m\n"
     ]
    },
    {
     "name": "stdout",
     "output_type": "stream",
     "text": [
      "callback ok\n",
      "index_parallel=10\n",
      "sed -i 10_main.cpp -e 's/^constexpr int hash_table_size = .*;         \\/\\/ OPTIMIZE \\[9, 18\\]$/constexpr int hash_table_size = 10;         \\/\\/ OPTIMIZE [9, 18]/' -e 's/^constexpr double K_START = .*;  \\/\\/ OPTIMIZE \\[0\\.04, 0\\.2\\] LOG$/constexpr double K_START = 0.1360074755991234;  \\/\\/ OPTIMIZE [0.04, 0.2] LOG/' -e 's/^constexpr double K_END = .*;   \\/\\/ OPTIMIZE \\[0\\.03, 0\\.1\\] LOG$/constexpr double K_END = 0.04821097071163492;   \\/\\/ OPTIMIZE [0.03, 0.1] LOG/' -e 's/^constexpr double K_H = .*;      \\/\\/ OPTIMIZE \\[0\\.001, 0\\.999\\]$/constexpr double K_H = 0.5080941312866942;      \\/\\/ OPTIMIZE [0.001, 0.999]/' -e 's/^constexpr short PURCHASE_TURN_LIMIT = .*;  \\/\\/ OPTIMIZE \\[790, 870\\]$/constexpr short PURCHASE_TURN_LIMIT = 824;  \\/\\/ OPTIMIZE [790, 870]/' -e 's/^constexpr int ROUGH_HASH = .*;      \\/\\/ OPTIMIZE {0, 0b00000001, 0b00010001, 0b00010011, 0b00110011}$/constexpr int ROUGH_HASH = 0b00110011;      \\/\\/ OPTIMIZE {0, 0b00000001, 0b00010001, 0b00010011, 0b00110011}/' -e 's/^constexpr double TARGET_BEAM_WIDTH_INCREASE_RATE = .*;      \\/\\/ OPTIMIZE \\[0\\.25, 4\\.0\\] LOG$/constexpr double TARGET_BEAM_WIDTH_INCREASE_RATE = 2.431366044084697;      \\/\\/ OPTIMIZE [0.25, 4.0] LOG/' -e 's/^constexpr double TARGET_BEAM_WIDTH_HALF_PROGRES_RATE = .*;  \\/\\/ OPTIMIZE \\[0\\.02, 0\\.98\\]$/constexpr double TARGET_BEAM_WIDTH_HALF_PROGRES_RATE = 0.5729583794726851;  \\/\\/ OPTIMIZE [0.02, 0.98]/' -e 's/^constexpr auto MAX_BEAM_WIDTH = .*;                        \\/\\/ OPTIMIZE \\[400, 4000\\] LOG$/constexpr auto MAX_BEAM_WIDTH = 908;                        \\/\\/ OPTIMIZE [400, 4000] LOG/'\n",
      "g++ 10_main.cpp -std=gnu++17 -O2 -DONLINE_JUDGE -o 10_main.cpp.out 2> /dev/null\n"
     ]
    },
    {
     "name": "stderr",
     "output_type": "stream",
     "text": [
      "\u001b[32m[I 2021-09-11 02:36:24,814]\u001b[0m Trial 79 finished with value: 991297781.0 and parameters: {'hash_table_size': 10, 'K_START': 0.10911099991542468, 'K_END': 0.03879741214166609, 'K_H': 0.14686584422279803, 'PURCHASE_TURN_LIMIT': 839, 'ROUGH_HASH': '0', 'TARGET_BEAM_WIDTH_INCREASE_RATE': 1.8636402650304655, 'TARGET_BEAM_WIDTH_HALF_PROGRES_RATE': 0.5700528669382546, 'MAX_BEAM_WIDTH': 1282}. Best is trial 57 with value: 996773700.0.\u001b[0m\n"
     ]
    },
    {
     "name": "stdout",
     "output_type": "stream",
     "text": [
      "callback ok\n",
      "index_parallel=11\n",
      "sed -i 11_main.cpp -e 's/^constexpr int hash_table_size = .*;         \\/\\/ OPTIMIZE \\[9, 18\\]$/constexpr int hash_table_size = 10;         \\/\\/ OPTIMIZE [9, 18]/' -e 's/^constexpr double K_START = .*;  \\/\\/ OPTIMIZE \\[0\\.04, 0\\.2\\] LOG$/constexpr double K_START = 0.13783909287386917;  \\/\\/ OPTIMIZE [0.04, 0.2] LOG/' -e 's/^constexpr double K_END = .*;   \\/\\/ OPTIMIZE \\[0\\.03, 0\\.1\\] LOG$/constexpr double K_END = 0.047939966428091736;   \\/\\/ OPTIMIZE [0.03, 0.1] LOG/' -e 's/^constexpr double K_H = .*;      \\/\\/ OPTIMIZE \\[0\\.001, 0\\.999\\]$/constexpr double K_H = 0.19406660543287868;      \\/\\/ OPTIMIZE [0.001, 0.999]/' -e 's/^constexpr short PURCHASE_TURN_LIMIT = .*;  \\/\\/ OPTIMIZE \\[790, 870\\]$/constexpr short PURCHASE_TURN_LIMIT = 840;  \\/\\/ OPTIMIZE [790, 870]/' -e 's/^constexpr int ROUGH_HASH = .*;      \\/\\/ OPTIMIZE {0, 0b00000001, 0b00010001, 0b00010011, 0b00110011}$/constexpr int ROUGH_HASH = 0b00110011;      \\/\\/ OPTIMIZE {0, 0b00000001, 0b00010001, 0b00010011, 0b00110011}/' -e 's/^constexpr double TARGET_BEAM_WIDTH_INCREASE_RATE = .*;      \\/\\/ OPTIMIZE \\[0\\.25, 4\\.0\\] LOG$/constexpr double TARGET_BEAM_WIDTH_INCREASE_RATE = 3.4433897622325826;      \\/\\/ OPTIMIZE [0.25, 4.0] LOG/' -e 's/^constexpr double TARGET_BEAM_WIDTH_HALF_PROGRES_RATE = .*;  \\/\\/ OPTIMIZE \\[0\\.02, 0\\.98\\]$/constexpr double TARGET_BEAM_WIDTH_HALF_PROGRES_RATE = 0.5617779281223204;  \\/\\/ OPTIMIZE [0.02, 0.98]/' -e 's/^constexpr auto MAX_BEAM_WIDTH = .*;                        \\/\\/ OPTIMIZE \\[400, 4000\\] LOG$/constexpr auto MAX_BEAM_WIDTH = 1889;                        \\/\\/ OPTIMIZE [400, 4000] LOG/'\n",
      "g++ 11_main.cpp -std=gnu++17 -O2 -DONLINE_JUDGE -o 11_main.cpp.out 2> /dev/null\n"
     ]
    },
    {
     "name": "stderr",
     "output_type": "stream",
     "text": [
      "\u001b[32m[I 2021-09-11 02:37:43,632]\u001b[0m Trial 80 finished with value: 985203623.0 and parameters: {'hash_table_size': 11, 'K_START': 0.10976770559920317, 'K_END': 0.031401186528054584, 'K_H': 0.5797382033823749, 'PURCHASE_TURN_LIMIT': 823, 'ROUGH_HASH': '0', 'TARGET_BEAM_WIDTH_INCREASE_RATE': 1.922624065102517, 'TARGET_BEAM_WIDTH_HALF_PROGRES_RATE': 0.5757417871097068, 'MAX_BEAM_WIDTH': 1803}. Best is trial 57 with value: 996773700.0.\u001b[0m\n"
     ]
    },
    {
     "name": "stdout",
     "output_type": "stream",
     "text": [
      "callback ok\n",
      "index_parallel=0\n",
      "sed -i 0_main.cpp -e 's/^constexpr int hash_table_size = .*;         \\/\\/ OPTIMIZE \\[9, 18\\]$/constexpr int hash_table_size = 10;         \\/\\/ OPTIMIZE [9, 18]/' -e 's/^constexpr double K_START = .*;  \\/\\/ OPTIMIZE \\[0\\.04, 0\\.2\\] LOG$/constexpr double K_START = 0.11687415802778477;  \\/\\/ OPTIMIZE [0.04, 0.2] LOG/' -e 's/^constexpr double K_END = .*;   \\/\\/ OPTIMIZE \\[0\\.03, 0\\.1\\] LOG$/constexpr double K_END = 0.04772367843107238;   \\/\\/ OPTIMIZE [0.03, 0.1] LOG/' -e 's/^constexpr double K_H = .*;      \\/\\/ OPTIMIZE \\[0\\.001, 0\\.999\\]$/constexpr double K_H = 0.2057056842907327;      \\/\\/ OPTIMIZE [0.001, 0.999]/' -e 's/^constexpr short PURCHASE_TURN_LIMIT = .*;  \\/\\/ OPTIMIZE \\[790, 870\\]$/constexpr short PURCHASE_TURN_LIMIT = 837;  \\/\\/ OPTIMIZE [790, 870]/' -e 's/^constexpr int ROUGH_HASH = .*;      \\/\\/ OPTIMIZE {0, 0b00000001, 0b00010001, 0b00010011, 0b00110011}$/constexpr int ROUGH_HASH = 0;      \\/\\/ OPTIMIZE {0, 0b00000001, 0b00010001, 0b00010011, 0b00110011}/' -e 's/^constexpr double TARGET_BEAM_WIDTH_INCREASE_RATE = .*;      \\/\\/ OPTIMIZE \\[0\\.25, 4\\.0\\] LOG$/constexpr double TARGET_BEAM_WIDTH_INCREASE_RATE = 2.461961570765011;      \\/\\/ OPTIMIZE [0.25, 4.0] LOG/' -e 's/^constexpr double TARGET_BEAM_WIDTH_HALF_PROGRES_RATE = .*;  \\/\\/ OPTIMIZE \\[0\\.02, 0\\.98\\]$/constexpr double TARGET_BEAM_WIDTH_HALF_PROGRES_RATE = 0.6038772749724142;  \\/\\/ OPTIMIZE [0.02, 0.98]/' -e 's/^constexpr auto MAX_BEAM_WIDTH = .*;                        \\/\\/ OPTIMIZE \\[400, 4000\\] LOG$/constexpr auto MAX_BEAM_WIDTH = 906;                        \\/\\/ OPTIMIZE [400, 4000] LOG/'\n",
      "g++ 0_main.cpp -std=gnu++17 -O2 -DONLINE_JUDGE -o 0_main.cpp.out 2> /dev/null\n"
     ]
    },
    {
     "name": "stderr",
     "output_type": "stream",
     "text": [
      "\u001b[32m[I 2021-09-11 02:37:53,746]\u001b[0m Trial 81 finished with value: 980121774.0 and parameters: {'hash_table_size': 10, 'K_START': 0.1072879102071483, 'K_END': 0.04716287256380926, 'K_H': 0.4988932475938365, 'PURCHASE_TURN_LIMIT': 838, 'ROUGH_HASH': '0b00110011', 'TARGET_BEAM_WIDTH_INCREASE_RATE': 3.425701892269634, 'TARGET_BEAM_WIDTH_HALF_PROGRES_RATE': 0.5638780507504311, 'MAX_BEAM_WIDTH': 1276}. Best is trial 57 with value: 996773700.0.\u001b[0m\n"
     ]
    },
    {
     "name": "stdout",
     "output_type": "stream",
     "text": [
      "callback ok\n",
      "index_parallel=1\n",
      "sed -i 1_main.cpp -e 's/^constexpr int hash_table_size = .*;         \\/\\/ OPTIMIZE \\[9, 18\\]$/constexpr int hash_table_size = 10;         \\/\\/ OPTIMIZE [9, 18]/' -e 's/^constexpr double K_START = .*;  \\/\\/ OPTIMIZE \\[0\\.04, 0\\.2\\] LOG$/constexpr double K_START = 0.13734662494184516;  \\/\\/ OPTIMIZE [0.04, 0.2] LOG/' -e 's/^constexpr double K_END = .*;   \\/\\/ OPTIMIZE \\[0\\.03, 0\\.1\\] LOG$/constexpr double K_END = 0.04855640478968469;   \\/\\/ OPTIMIZE [0.03, 0.1] LOG/' -e 's/^constexpr double K_H = .*;      \\/\\/ OPTIMIZE \\[0\\.001, 0\\.999\\]$/constexpr double K_H = 0.19738158742590664;      \\/\\/ OPTIMIZE [0.001, 0.999]/' -e 's/^constexpr short PURCHASE_TURN_LIMIT = .*;  \\/\\/ OPTIMIZE \\[790, 870\\]$/constexpr short PURCHASE_TURN_LIMIT = 840;  \\/\\/ OPTIMIZE [790, 870]/' -e 's/^constexpr int ROUGH_HASH = .*;      \\/\\/ OPTIMIZE {0, 0b00000001, 0b00010001, 0b00010011, 0b00110011}$/constexpr int ROUGH_HASH = 0;      \\/\\/ OPTIMIZE {0, 0b00000001, 0b00010001, 0b00010011, 0b00110011}/' -e 's/^constexpr double TARGET_BEAM_WIDTH_INCREASE_RATE = .*;      \\/\\/ OPTIMIZE \\[0\\.25, 4\\.0\\] LOG$/constexpr double TARGET_BEAM_WIDTH_INCREASE_RATE = 2.399425514430576;      \\/\\/ OPTIMIZE [0.25, 4.0] LOG/' -e 's/^constexpr double TARGET_BEAM_WIDTH_HALF_PROGRES_RATE = .*;  \\/\\/ OPTIMIZE \\[0\\.02, 0\\.98\\]$/constexpr double TARGET_BEAM_WIDTH_HALF_PROGRES_RATE = 0.46696514271522704;  \\/\\/ OPTIMIZE [0.02, 0.98]/' -e 's/^constexpr auto MAX_BEAM_WIDTH = .*;                        \\/\\/ OPTIMIZE \\[400, 4000\\] LOG$/constexpr auto MAX_BEAM_WIDTH = 912;                        \\/\\/ OPTIMIZE [400, 4000] LOG/'\n",
      "g++ 1_main.cpp -std=gnu++17 -O2 -DONLINE_JUDGE -o 1_main.cpp.out 2> /dev/null\n"
     ]
    },
    {
     "name": "stderr",
     "output_type": "stream",
     "text": [
      "\u001b[32m[I 2021-09-11 02:38:03,394]\u001b[0m Trial 82 finished with value: 978790645.0 and parameters: {'hash_table_size': 10, 'K_START': 0.1360074755991234, 'K_END': 0.04821097071163492, 'K_H': 0.5080941312866942, 'PURCHASE_TURN_LIMIT': 824, 'ROUGH_HASH': '0b00110011', 'TARGET_BEAM_WIDTH_INCREASE_RATE': 2.431366044084697, 'TARGET_BEAM_WIDTH_HALF_PROGRES_RATE': 0.5729583794726851, 'MAX_BEAM_WIDTH': 908}. Best is trial 57 with value: 996773700.0.\u001b[0m\n"
     ]
    },
    {
     "name": "stdout",
     "output_type": "stream",
     "text": [
      "callback ok\n",
      "index_parallel=2\n",
      "sed -i 2_main.cpp -e 's/^constexpr int hash_table_size = .*;         \\/\\/ OPTIMIZE \\[9, 18\\]$/constexpr int hash_table_size = 10;         \\/\\/ OPTIMIZE [9, 18]/' -e 's/^constexpr double K_START = .*;  \\/\\/ OPTIMIZE \\[0\\.04, 0\\.2\\] LOG$/constexpr double K_START = 0.11827753265014367;  \\/\\/ OPTIMIZE [0.04, 0.2] LOG/' -e 's/^constexpr double K_END = .*;   \\/\\/ OPTIMIZE \\[0\\.03, 0\\.1\\] LOG$/constexpr double K_END = 0.05162489700220701;   \\/\\/ OPTIMIZE [0.03, 0.1] LOG/' -e 's/^constexpr double K_H = .*;      \\/\\/ OPTIMIZE \\[0\\.001, 0\\.999\\]$/constexpr double K_H = 0.21475100241817835;      \\/\\/ OPTIMIZE [0.001, 0.999]/' -e 's/^constexpr short PURCHASE_TURN_LIMIT = .*;  \\/\\/ OPTIMIZE \\[790, 870\\]$/constexpr short PURCHASE_TURN_LIMIT = 839;  \\/\\/ OPTIMIZE [790, 870]/' -e 's/^constexpr int ROUGH_HASH = .*;      \\/\\/ OPTIMIZE {0, 0b00000001, 0b00010001, 0b00010011, 0b00110011}$/constexpr int ROUGH_HASH = 0;      \\/\\/ OPTIMIZE {0, 0b00000001, 0b00010001, 0b00010011, 0b00110011}/' -e 's/^constexpr double TARGET_BEAM_WIDTH_INCREASE_RATE = .*;      \\/\\/ OPTIMIZE \\[0\\.25, 4\\.0\\] LOG$/constexpr double TARGET_BEAM_WIDTH_INCREASE_RATE = 2.067947551812502;      \\/\\/ OPTIMIZE [0.25, 4.0] LOG/' -e 's/^constexpr double TARGET_BEAM_WIDTH_HALF_PROGRES_RATE = .*;  \\/\\/ OPTIMIZE \\[0\\.02, 0\\.98\\]$/constexpr double TARGET_BEAM_WIDTH_HALF_PROGRES_RATE = 0.4555354798871406;  \\/\\/ OPTIMIZE [0.02, 0.98]/' -e 's/^constexpr auto MAX_BEAM_WIDTH = .*;                        \\/\\/ OPTIMIZE \\[400, 4000\\] LOG$/constexpr auto MAX_BEAM_WIDTH = 1135;                        \\/\\/ OPTIMIZE [400, 4000] LOG/'\n",
      "g++ 2_main.cpp -std=gnu++17 -O2 -DONLINE_JUDGE -o 2_main.cpp.out 2> /dev/null\n"
     ]
    },
    {
     "name": "stderr",
     "output_type": "stream",
     "text": [
      "\u001b[32m[I 2021-09-11 02:38:11,065]\u001b[0m Trial 83 finished with value: 976839519.0 and parameters: {'hash_table_size': 10, 'K_START': 0.13783909287386917, 'K_END': 0.047939966428091736, 'K_H': 0.19406660543287868, 'PURCHASE_TURN_LIMIT': 840, 'ROUGH_HASH': '0b00110011', 'TARGET_BEAM_WIDTH_INCREASE_RATE': 3.4433897622325826, 'TARGET_BEAM_WIDTH_HALF_PROGRES_RATE': 0.5617779281223204, 'MAX_BEAM_WIDTH': 1889}. Best is trial 57 with value: 996773700.0.\u001b[0m\n"
     ]
    },
    {
     "name": "stdout",
     "output_type": "stream",
     "text": [
      "callback ok\n",
      "index_parallel=3\n",
      "sed -i 3_main.cpp -e 's/^constexpr int hash_table_size = .*;         \\/\\/ OPTIMIZE \\[9, 18\\]$/constexpr int hash_table_size = 9;         \\/\\/ OPTIMIZE [9, 18]/' -e 's/^constexpr double K_START = .*;  \\/\\/ OPTIMIZE \\[0\\.04, 0\\.2\\] LOG$/constexpr double K_START = 0.11917360870766497;  \\/\\/ OPTIMIZE [0.04, 0.2] LOG/' -e 's/^constexpr double K_END = .*;   \\/\\/ OPTIMIZE \\[0\\.03, 0\\.1\\] LOG$/constexpr double K_END = 0.051647796732395404;   \\/\\/ OPTIMIZE [0.03, 0.1] LOG/' -e 's/^constexpr double K_H = .*;      \\/\\/ OPTIMIZE \\[0\\.001, 0\\.999\\]$/constexpr double K_H = 0.36486175770791957;      \\/\\/ OPTIMIZE [0.001, 0.999]/' -e 's/^constexpr short PURCHASE_TURN_LIMIT = .*;  \\/\\/ OPTIMIZE \\[790, 870\\]$/constexpr short PURCHASE_TURN_LIMIT = 826;  \\/\\/ OPTIMIZE [790, 870]/' -e 's/^constexpr int ROUGH_HASH = .*;      \\/\\/ OPTIMIZE {0, 0b00000001, 0b00010001, 0b00010011, 0b00110011}$/constexpr int ROUGH_HASH = 0;      \\/\\/ OPTIMIZE {0, 0b00000001, 0b00010001, 0b00010011, 0b00110011}/' -e 's/^constexpr double TARGET_BEAM_WIDTH_INCREASE_RATE = .*;      \\/\\/ OPTIMIZE \\[0\\.25, 4\\.0\\] LOG$/constexpr double TARGET_BEAM_WIDTH_INCREASE_RATE = 2.056101625648984;      \\/\\/ OPTIMIZE [0.25, 4.0] LOG/' -e 's/^constexpr double TARGET_BEAM_WIDTH_HALF_PROGRES_RATE = .*;  \\/\\/ OPTIMIZE \\[0\\.02, 0\\.98\\]$/constexpr double TARGET_BEAM_WIDTH_HALF_PROGRES_RATE = 0.6035212310065741;  \\/\\/ OPTIMIZE [0.02, 0.98]/' -e 's/^constexpr auto MAX_BEAM_WIDTH = .*;                        \\/\\/ OPTIMIZE \\[400, 4000\\] LOG$/constexpr auto MAX_BEAM_WIDTH = 1141;                        \\/\\/ OPTIMIZE [400, 4000] LOG/'\n",
      "g++ 3_main.cpp -std=gnu++17 -O2 -DONLINE_JUDGE -o 3_main.cpp.out 2> /dev/null\n"
     ]
    },
    {
     "name": "stderr",
     "output_type": "stream",
     "text": [
      "\u001b[32m[I 2021-09-11 02:39:29,207]\u001b[0m Trial 84 finished with value: 992235154.0 and parameters: {'hash_table_size': 10, 'K_START': 0.11687415802778477, 'K_END': 0.04772367843107238, 'K_H': 0.2057056842907327, 'PURCHASE_TURN_LIMIT': 837, 'ROUGH_HASH': '0', 'TARGET_BEAM_WIDTH_INCREASE_RATE': 2.461961570765011, 'TARGET_BEAM_WIDTH_HALF_PROGRES_RATE': 0.6038772749724142, 'MAX_BEAM_WIDTH': 906}. Best is trial 57 with value: 996773700.0.\u001b[0m\n"
     ]
    },
    {
     "name": "stdout",
     "output_type": "stream",
     "text": [
      "callback ok\n",
      "index_parallel=4\n",
      "sed -i 4_main.cpp -e 's/^constexpr int hash_table_size = .*;         \\/\\/ OPTIMIZE \\[9, 18\\]$/constexpr int hash_table_size = 9;         \\/\\/ OPTIMIZE [9, 18]/' -e 's/^constexpr double K_START = .*;  \\/\\/ OPTIMIZE \\[0\\.04, 0\\.2\\] LOG$/constexpr double K_START = 0.0964869789275799;  \\/\\/ OPTIMIZE [0.04, 0.2] LOG/' -e 's/^constexpr double K_END = .*;   \\/\\/ OPTIMIZE \\[0\\.03, 0\\.1\\] LOG$/constexpr double K_END = 0.05040979486145228;   \\/\\/ OPTIMIZE [0.03, 0.1] LOG/' -e 's/^constexpr double K_H = .*;      \\/\\/ OPTIMIZE \\[0\\.001, 0\\.999\\]$/constexpr double K_H = 0.20105350671352296;      \\/\\/ OPTIMIZE [0.001, 0.999]/' -e 's/^constexpr short PURCHASE_TURN_LIMIT = .*;  \\/\\/ OPTIMIZE \\[790, 870\\]$/constexpr short PURCHASE_TURN_LIMIT = 845;  \\/\\/ OPTIMIZE [790, 870]/' -e 's/^constexpr int ROUGH_HASH = .*;      \\/\\/ OPTIMIZE {0, 0b00000001, 0b00010001, 0b00010011, 0b00110011}$/constexpr int ROUGH_HASH = 0;      \\/\\/ OPTIMIZE {0, 0b00000001, 0b00010001, 0b00010011, 0b00110011}/' -e 's/^constexpr double TARGET_BEAM_WIDTH_INCREASE_RATE = .*;      \\/\\/ OPTIMIZE \\[0\\.25, 4\\.0\\] LOG$/constexpr double TARGET_BEAM_WIDTH_INCREASE_RATE = 1.8719688510855241;      \\/\\/ OPTIMIZE [0.25, 4.0] LOG/' -e 's/^constexpr double TARGET_BEAM_WIDTH_HALF_PROGRES_RATE = .*;  \\/\\/ OPTIMIZE \\[0\\.02, 0\\.98\\]$/constexpr double TARGET_BEAM_WIDTH_HALF_PROGRES_RATE = 0.6017727352623037;  \\/\\/ OPTIMIZE [0.02, 0.98]/' -e 's/^constexpr auto MAX_BEAM_WIDTH = .*;                        \\/\\/ OPTIMIZE \\[400, 4000\\] LOG$/constexpr auto MAX_BEAM_WIDTH = 1126;                        \\/\\/ OPTIMIZE [400, 4000] LOG/'\n",
      "g++ 4_main.cpp -std=gnu++17 -O2 -DONLINE_JUDGE -o 4_main.cpp.out 2> /dev/null\n"
     ]
    },
    {
     "name": "stderr",
     "output_type": "stream",
     "text": [
      "\u001b[32m[I 2021-09-11 02:39:46,329]\u001b[0m Trial 85 finished with value: 986001031.0 and parameters: {'hash_table_size': 10, 'K_START': 0.13734662494184516, 'K_END': 0.04855640478968469, 'K_H': 0.19738158742590664, 'PURCHASE_TURN_LIMIT': 840, 'ROUGH_HASH': '0', 'TARGET_BEAM_WIDTH_INCREASE_RATE': 2.399425514430576, 'TARGET_BEAM_WIDTH_HALF_PROGRES_RATE': 0.46696514271522704, 'MAX_BEAM_WIDTH': 912}. Best is trial 57 with value: 996773700.0.\u001b[0m\n"
     ]
    },
    {
     "name": "stdout",
     "output_type": "stream",
     "text": [
      "callback ok\n",
      "index_parallel=5\n",
      "sed -i 5_main.cpp -e 's/^constexpr int hash_table_size = .*;         \\/\\/ OPTIMIZE \\[9, 18\\]$/constexpr int hash_table_size = 9;         \\/\\/ OPTIMIZE [9, 18]/' -e 's/^constexpr double K_START = .*;  \\/\\/ OPTIMIZE \\[0\\.04, 0\\.2\\] LOG$/constexpr double K_START = 0.10440523466044932;  \\/\\/ OPTIMIZE [0.04, 0.2] LOG/' -e 's/^constexpr double K_END = .*;   \\/\\/ OPTIMIZE \\[0\\.03, 0\\.1\\] LOG$/constexpr double K_END = 0.050317654894661376;   \\/\\/ OPTIMIZE [0.03, 0.1] LOG/' -e 's/^constexpr double K_H = .*;      \\/\\/ OPTIMIZE \\[0\\.001, 0\\.999\\]$/constexpr double K_H = 0.2884044958071752;      \\/\\/ OPTIMIZE [0.001, 0.999]/' -e 's/^constexpr short PURCHASE_TURN_LIMIT = .*;  \\/\\/ OPTIMIZE \\[790, 870\\]$/constexpr short PURCHASE_TURN_LIMIT = 838;  \\/\\/ OPTIMIZE [790, 870]/' -e 's/^constexpr int ROUGH_HASH = .*;      \\/\\/ OPTIMIZE {0, 0b00000001, 0b00010001, 0b00010011, 0b00110011}$/constexpr int ROUGH_HASH = 0;      \\/\\/ OPTIMIZE {0, 0b00000001, 0b00010001, 0b00010011, 0b00110011}/' -e 's/^constexpr double TARGET_BEAM_WIDTH_INCREASE_RATE = .*;      \\/\\/ OPTIMIZE \\[0\\.25, 4\\.0\\] LOG$/constexpr double TARGET_BEAM_WIDTH_INCREASE_RATE = 2.102071625308938;      \\/\\/ OPTIMIZE [0.25, 4.0] LOG/' -e 's/^constexpr double TARGET_BEAM_WIDTH_HALF_PROGRES_RATE = .*;  \\/\\/ OPTIMIZE \\[0\\.02, 0\\.98\\]$/constexpr double TARGET_BEAM_WIDTH_HALF_PROGRES_RATE = 0.5273469060204841;  \\/\\/ OPTIMIZE [0.02, 0.98]/' -e 's/^constexpr auto MAX_BEAM_WIDTH = .*;                        \\/\\/ OPTIMIZE \\[400, 4000\\] LOG$/constexpr auto MAX_BEAM_WIDTH = 1143;                        \\/\\/ OPTIMIZE [400, 4000] LOG/'\n",
      "g++ 5_main.cpp -std=gnu++17 -O2 -DONLINE_JUDGE -o 5_main.cpp.out 2> /dev/null\n"
     ]
    },
    {
     "name": "stderr",
     "output_type": "stream",
     "text": [
      "\u001b[32m[I 2021-09-11 02:39:56,605]\u001b[0m Trial 86 finished with value: 988351709.0 and parameters: {'hash_table_size': 10, 'K_START': 0.11827753265014367, 'K_END': 0.05162489700220701, 'K_H': 0.21475100241817835, 'PURCHASE_TURN_LIMIT': 839, 'ROUGH_HASH': '0', 'TARGET_BEAM_WIDTH_INCREASE_RATE': 2.067947551812502, 'TARGET_BEAM_WIDTH_HALF_PROGRES_RATE': 0.4555354798871406, 'MAX_BEAM_WIDTH': 1135}. Best is trial 57 with value: 996773700.0.\u001b[0m\n"
     ]
    },
    {
     "name": "stdout",
     "output_type": "stream",
     "text": [
      "callback ok\n",
      "index_parallel=6\n"
     ]
    },
    {
     "name": "stderr",
     "output_type": "stream",
     "text": [
      "\u001b[32m[I 2021-09-11 02:39:57,443]\u001b[0m Trial 87 finished with value: 996836200.0 and parameters: {'hash_table_size': 9, 'K_START': 0.11917360870766497, 'K_END': 0.051647796732395404, 'K_H': 0.36486175770791957, 'PURCHASE_TURN_LIMIT': 826, 'ROUGH_HASH': '0', 'TARGET_BEAM_WIDTH_INCREASE_RATE': 2.056101625648984, 'TARGET_BEAM_WIDTH_HALF_PROGRES_RATE': 0.6035212310065741, 'MAX_BEAM_WIDTH': 1141}. Best is trial 87 with value: 996836200.0.\u001b[0m\n"
     ]
    },
    {
     "name": "stdout",
     "output_type": "stream",
     "text": [
      "Updated! 996836200.0\n",
      "callback ok\n",
      "index_parallel=7\n",
      "sed -i 6_main.cpp -e 's/^constexpr int hash_table_size = .*;         \\/\\/ OPTIMIZE \\[9, 18\\]$/constexpr int hash_table_size = 9;         \\/\\/ OPTIMIZE [9, 18]/' -e 's/^constexpr double K_START = .*;  \\/\\/ OPTIMIZE \\[0\\.04, 0\\.2\\] LOG$/constexpr double K_START = 0.09530506578069844;  \\/\\/ OPTIMIZE [0.04, 0.2] LOG/' -e 's/^constexpr double K_END = .*;   \\/\\/ OPTIMIZE \\[0\\.03, 0\\.1\\] LOG$/constexpr double K_END = 0.05039855892391094;   \\/\\/ OPTIMIZE [0.03, 0.1] LOG/' -e 's/^constexpr double K_H = .*;      \\/\\/ OPTIMIZE \\[0\\.001, 0\\.999\\]$/constexpr double K_H = 0.2884523994040279;      \\/\\/ OPTIMIZE [0.001, 0.999]/' -e 's/^constexpr short PURCHASE_TURN_LIMIT = .*;  \\/\\/ OPTIMIZE \\[790, 870\\]$/constexpr short PURCHASE_TURN_LIMIT = 845;  \\/\\/ OPTIMIZE [790, 870]/' -e 's/^constexpr int ROUGH_HASH = .*;      \\/\\/ OPTIMIZE {0, 0b00000001, 0b00010001, 0b00010011, 0b00110011}$/constexpr int ROUGH_HASH = 0;      \\/\\/ OPTIMIZE {0, 0b00000001, 0b00010001, 0b00010011, 0b00110011}/' -e 's/^constexpr double TARGET_BEAM_WIDTH_INCREASE_RATE = .*;      \\/\\/ OPTIMIZE \\[0\\.25, 4\\.0\\] LOG$/constexpr double TARGET_BEAM_WIDTH_INCREASE_RATE = 2.125627170043344;      \\/\\/ OPTIMIZE [0.25, 4.0] LOG/' -e 's/^constexpr double TARGET_BEAM_WIDTH_HALF_PROGRES_RATE = .*;  \\/\\/ OPTIMIZE \\[0\\.02, 0\\.98\\]$/constexpr double TARGET_BEAM_WIDTH_HALF_PROGRES_RATE = 0.6121543162982143;  \\/\\/ OPTIMIZE [0.02, 0.98]/' -e 's/^constexpr auto MAX_BEAM_WIDTH = .*;                        \\/\\/ OPTIMIZE \\[400, 4000\\] LOG$/constexpr auto MAX_BEAM_WIDTH = 1028;                        \\/\\/ OPTIMIZE [400, 4000] LOG/'\n",
      "g++ 6_main.cpp -std=gnu++17 -O2 -DONLINE_JUDGE -o 6_main.cpp.out 2> /dev/null\n",
      "sed -i 7_main.cpp -e 's/^constexpr int hash_table_size = .*;         \\/\\/ OPTIMIZE \\[9, 18\\]$/constexpr int hash_table_size = 9;         \\/\\/ OPTIMIZE [9, 18]/' -e 's/^constexpr double K_START = .*;  \\/\\/ OPTIMIZE \\[0\\.04, 0\\.2\\] LOG$/constexpr double K_START = 0.08807134554429216;  \\/\\/ OPTIMIZE [0.04, 0.2] LOG/' -e 's/^constexpr double K_END = .*;   \\/\\/ OPTIMIZE \\[0\\.03, 0\\.1\\] LOG$/constexpr double K_END = 0.059039124372993024;   \\/\\/ OPTIMIZE [0.03, 0.1] LOG/' -e 's/^constexpr double K_H = .*;      \\/\\/ OPTIMIZE \\[0\\.001, 0\\.999\\]$/constexpr double K_H = 0.38319458028633896;      \\/\\/ OPTIMIZE [0.001, 0.999]/' -e 's/^constexpr short PURCHASE_TURN_LIMIT = .*;  \\/\\/ OPTIMIZE \\[790, 870\\]$/constexpr short PURCHASE_TURN_LIMIT = 834;  \\/\\/ OPTIMIZE [790, 870]/' -e 's/^constexpr int ROUGH_HASH = .*;      \\/\\/ OPTIMIZE {0, 0b00000001, 0b00010001, 0b00010011, 0b00110011}$/constexpr int ROUGH_HASH = 0;      \\/\\/ OPTIMIZE {0, 0b00000001, 0b00010001, 0b00010011, 0b00110011}/' -e 's/^constexpr double TARGET_BEAM_WIDTH_INCREASE_RATE = .*;      \\/\\/ OPTIMIZE \\[0\\.25, 4\\.0\\] LOG$/constexpr double TARGET_BEAM_WIDTH_INCREASE_RATE = 2.1412721203595075;      \\/\\/ OPTIMIZE [0.25, 4.0] LOG/' -e 's/^constexpr double TARGET_BEAM_WIDTH_HALF_PROGRES_RATE = .*;  \\/\\/ OPTIMIZE \\[0\\.02, 0\\.98\\]$/constexpr double TARGET_BEAM_WIDTH_HALF_PROGRES_RATE = 0.6045803158780454;  \\/\\/ OPTIMIZE [0.02, 0.98]/' -e 's/^constexpr auto MAX_BEAM_WIDTH = .*;                        \\/\\/ OPTIMIZE \\[400, 4000\\] LOG$/constexpr auto MAX_BEAM_WIDTH = 841;                        \\/\\/ OPTIMIZE [400, 4000] LOG/'\n",
      "g++ 7_main.cpp -std=gnu++17 -O2 -DONLINE_JUDGE -o 7_main.cpp.out 2> /dev/null\n"
     ]
    },
    {
     "name": "stderr",
     "output_type": "stream",
     "text": [
      "\u001b[32m[I 2021-09-11 02:41:14,938]\u001b[0m Trial 88 finished with value: 990693305.0 and parameters: {'hash_table_size': 9, 'K_START': 0.0964869789275799, 'K_END': 0.05040979486145228, 'K_H': 0.20105350671352296, 'PURCHASE_TURN_LIMIT': 845, 'ROUGH_HASH': '0', 'TARGET_BEAM_WIDTH_INCREASE_RATE': 1.8719688510855241, 'TARGET_BEAM_WIDTH_HALF_PROGRES_RATE': 0.6017727352623037, 'MAX_BEAM_WIDTH': 1126}. Best is trial 87 with value: 996836200.0.\u001b[0m\n"
     ]
    },
    {
     "name": "stdout",
     "output_type": "stream",
     "text": [
      "callback ok\n",
      "index_parallel=8\n",
      "sed -i 8_main.cpp -e 's/^constexpr int hash_table_size = .*;         \\/\\/ OPTIMIZE \\[9, 18\\]$/constexpr int hash_table_size = 9;         \\/\\/ OPTIMIZE [9, 18]/' -e 's/^constexpr double K_START = .*;  \\/\\/ OPTIMIZE \\[0\\.04, 0\\.2\\] LOG$/constexpr double K_START = 0.08727476059172716;  \\/\\/ OPTIMIZE [0.04, 0.2] LOG/' -e 's/^constexpr double K_END = .*;   \\/\\/ OPTIMIZE \\[0\\.03, 0\\.1\\] LOG$/constexpr double K_END = 0.055490223253005885;   \\/\\/ OPTIMIZE [0.03, 0.1] LOG/' -e 's/^constexpr double K_H = .*;      \\/\\/ OPTIMIZE \\[0\\.001, 0\\.999\\]$/constexpr double K_H = 0.31241706027929694;      \\/\\/ OPTIMIZE [0.001, 0.999]/' -e 's/^constexpr short PURCHASE_TURN_LIMIT = .*;  \\/\\/ OPTIMIZE \\[790, 870\\]$/constexpr short PURCHASE_TURN_LIMIT = 827;  \\/\\/ OPTIMIZE [790, 870]/' -e 's/^constexpr int ROUGH_HASH = .*;      \\/\\/ OPTIMIZE {0, 0b00000001, 0b00010001, 0b00010011, 0b00110011}$/constexpr int ROUGH_HASH = 0;      \\/\\/ OPTIMIZE {0, 0b00000001, 0b00010001, 0b00010011, 0b00110011}/' -e 's/^constexpr double TARGET_BEAM_WIDTH_INCREASE_RATE = .*;      \\/\\/ OPTIMIZE \\[0\\.25, 4\\.0\\] LOG$/constexpr double TARGET_BEAM_WIDTH_INCREASE_RATE = 2.11150593498847;      \\/\\/ OPTIMIZE [0.25, 4.0] LOG/' -e 's/^constexpr double TARGET_BEAM_WIDTH_HALF_PROGRES_RATE = .*;  \\/\\/ OPTIMIZE \\[0\\.02, 0\\.98\\]$/constexpr double TARGET_BEAM_WIDTH_HALF_PROGRES_RATE = 0.6063812914437594;  \\/\\/ OPTIMIZE [0.02, 0.98]/' -e 's/^constexpr auto MAX_BEAM_WIDTH = .*;                        \\/\\/ OPTIMIZE \\[400, 4000\\] LOG$/constexpr auto MAX_BEAM_WIDTH = 1004;                        \\/\\/ OPTIMIZE [400, 4000] LOG/'\n",
      "g++ 8_main.cpp -std=gnu++17 -O2 -DONLINE_JUDGE -o 8_main.cpp.out 2> /dev/null\n"
     ]
    },
    {
     "name": "stderr",
     "output_type": "stream",
     "text": [
      "\u001b[32m[I 2021-09-11 02:41:32,565]\u001b[0m Trial 89 finished with value: 993782499.0 and parameters: {'hash_table_size': 9, 'K_START': 0.10440523466044932, 'K_END': 0.050317654894661376, 'K_H': 0.2884044958071752, 'PURCHASE_TURN_LIMIT': 838, 'ROUGH_HASH': '0', 'TARGET_BEAM_WIDTH_INCREASE_RATE': 2.102071625308938, 'TARGET_BEAM_WIDTH_HALF_PROGRES_RATE': 0.5273469060204841, 'MAX_BEAM_WIDTH': 1143}. Best is trial 87 with value: 996836200.0.\u001b[0m\n"
     ]
    },
    {
     "name": "stdout",
     "output_type": "stream",
     "text": [
      "callback ok\n",
      "index_parallel=9\n",
      "sed -i 9_main.cpp -e 's/^constexpr int hash_table_size = .*;         \\/\\/ OPTIMIZE \\[9, 18\\]$/constexpr int hash_table_size = 9;         \\/\\/ OPTIMIZE [9, 18]/' -e 's/^constexpr double K_START = .*;  \\/\\/ OPTIMIZE \\[0\\.04, 0\\.2\\] LOG$/constexpr double K_START = 0.10409158121619132;  \\/\\/ OPTIMIZE [0.04, 0.2] LOG/' -e 's/^constexpr double K_END = .*;   \\/\\/ OPTIMIZE \\[0\\.03, 0\\.1\\] LOG$/constexpr double K_END = 0.04313796848837637;   \\/\\/ OPTIMIZE [0.03, 0.1] LOG/' -e 's/^constexpr double K_H = .*;      \\/\\/ OPTIMIZE \\[0\\.001, 0\\.999\\]$/constexpr double K_H = 0.2756223444268193;      \\/\\/ OPTIMIZE [0.001, 0.999]/' -e 's/^constexpr short PURCHASE_TURN_LIMIT = .*;  \\/\\/ OPTIMIZE \\[790, 870\\]$/constexpr short PURCHASE_TURN_LIMIT = 827;  \\/\\/ OPTIMIZE [790, 870]/' -e 's/^constexpr int ROUGH_HASH = .*;      \\/\\/ OPTIMIZE {0, 0b00000001, 0b00010001, 0b00010011, 0b00110011}$/constexpr int ROUGH_HASH = 0;      \\/\\/ OPTIMIZE {0, 0b00000001, 0b00010001, 0b00010011, 0b00110011}/' -e 's/^constexpr double TARGET_BEAM_WIDTH_INCREASE_RATE = .*;      \\/\\/ OPTIMIZE \\[0\\.25, 4\\.0\\] LOG$/constexpr double TARGET_BEAM_WIDTH_INCREASE_RATE = 2.095660116546507;      \\/\\/ OPTIMIZE [0.25, 4.0] LOG/' -e 's/^constexpr double TARGET_BEAM_WIDTH_HALF_PROGRES_RATE = .*;  \\/\\/ OPTIMIZE \\[0\\.02, 0\\.98\\]$/constexpr double TARGET_BEAM_WIDTH_HALF_PROGRES_RATE = 0.513725898097791;  \\/\\/ OPTIMIZE [0.02, 0.98]/' -e 's/^constexpr auto MAX_BEAM_WIDTH = .*;                        \\/\\/ OPTIMIZE \\[400, 4000\\] LOG$/constexpr auto MAX_BEAM_WIDTH = 844;                        \\/\\/ OPTIMIZE [400, 4000] LOG/'\n",
      "g++ 9_main.cpp -std=gnu++17 -O2 -DONLINE_JUDGE -o 9_main.cpp.out 2> /dev/null\n"
     ]
    },
    {
     "name": "stderr",
     "output_type": "stream",
     "text": [
      "\u001b[32m[I 2021-09-11 02:41:42,097]\u001b[0m Trial 90 finished with value: 993177720.0 and parameters: {'hash_table_size': 9, 'K_START': 0.09530506578069844, 'K_END': 0.05039855892391094, 'K_H': 0.2884523994040279, 'PURCHASE_TURN_LIMIT': 845, 'ROUGH_HASH': '0', 'TARGET_BEAM_WIDTH_INCREASE_RATE': 2.125627170043344, 'TARGET_BEAM_WIDTH_HALF_PROGRES_RATE': 0.6121543162982143, 'MAX_BEAM_WIDTH': 1028}. Best is trial 87 with value: 996836200.0.\u001b[0m\n"
     ]
    },
    {
     "name": "stdout",
     "output_type": "stream",
     "text": [
      "callback ok\n",
      "index_parallel=10\n",
      "sed -i 10_main.cpp -e 's/^constexpr int hash_table_size = .*;         \\/\\/ OPTIMIZE \\[9, 18\\]$/constexpr int hash_table_size = 9;         \\/\\/ OPTIMIZE [9, 18]/' -e 's/^constexpr double K_START = .*;  \\/\\/ OPTIMIZE \\[0\\.04, 0\\.2\\] LOG$/constexpr double K_START = 0.08765939750268291;  \\/\\/ OPTIMIZE [0.04, 0.2] LOG/' -e 's/^constexpr double K_END = .*;   \\/\\/ OPTIMIZE \\[0\\.03, 0\\.1\\] LOG$/constexpr double K_END = 0.05547767524174491;   \\/\\/ OPTIMIZE [0.03, 0.1] LOG/' -e 's/^constexpr double K_H = .*;      \\/\\/ OPTIMIZE \\[0\\.001, 0\\.999\\]$/constexpr double K_H = 0.29134903198689244;      \\/\\/ OPTIMIZE [0.001, 0.999]/' -e 's/^constexpr short PURCHASE_TURN_LIMIT = .*;  \\/\\/ OPTIMIZE \\[790, 870\\]$/constexpr short PURCHASE_TURN_LIMIT = 827;  \\/\\/ OPTIMIZE [790, 870]/' -e 's/^constexpr int ROUGH_HASH = .*;      \\/\\/ OPTIMIZE {0, 0b00000001, 0b00010001, 0b00010011, 0b00110011}$/constexpr int ROUGH_HASH = 0;      \\/\\/ OPTIMIZE {0, 0b00000001, 0b00010001, 0b00010011, 0b00110011}/' -e 's/^constexpr double TARGET_BEAM_WIDTH_INCREASE_RATE = .*;      \\/\\/ OPTIMIZE \\[0\\.25, 4\\.0\\] LOG$/constexpr double TARGET_BEAM_WIDTH_INCREASE_RATE = 2.1366303993559073;      \\/\\/ OPTIMIZE [0.25, 4.0] LOG/' -e 's/^constexpr double TARGET_BEAM_WIDTH_HALF_PROGRES_RATE = .*;  \\/\\/ OPTIMIZE \\[0\\.02, 0\\.98\\]$/constexpr double TARGET_BEAM_WIDTH_HALF_PROGRES_RATE = 0.7114703060269164;  \\/\\/ OPTIMIZE [0.02, 0.98]/' -e 's/^constexpr auto MAX_BEAM_WIDTH = .*;                        \\/\\/ OPTIMIZE \\[400, 4000\\] LOG$/constexpr auto MAX_BEAM_WIDTH = 1026;                        \\/\\/ OPTIMIZE [400, 4000] LOG/'\n",
      "g++ 10_main.cpp -std=gnu++17 -O2 -DONLINE_JUDGE -o 10_main.cpp.out 2> /dev/null\n"
     ]
    },
    {
     "name": "stderr",
     "output_type": "stream",
     "text": [
      "\u001b[32m[I 2021-09-11 02:41:43,813]\u001b[0m Trial 91 finished with value: 994167735.0 and parameters: {'hash_table_size': 9, 'K_START': 0.08807134554429216, 'K_END': 0.059039124372993024, 'K_H': 0.38319458028633896, 'PURCHASE_TURN_LIMIT': 834, 'ROUGH_HASH': '0', 'TARGET_BEAM_WIDTH_INCREASE_RATE': 2.1412721203595075, 'TARGET_BEAM_WIDTH_HALF_PROGRES_RATE': 0.6045803158780454, 'MAX_BEAM_WIDTH': 841}. Best is trial 87 with value: 996836200.0.\u001b[0m\n"
     ]
    },
    {
     "name": "stdout",
     "output_type": "stream",
     "text": [
      "callback ok\n",
      "index_parallel=11\n",
      "sed -i 11_main.cpp -e 's/^constexpr int hash_table_size = .*;         \\/\\/ OPTIMIZE \\[9, 18\\]$/constexpr int hash_table_size = 9;         \\/\\/ OPTIMIZE [9, 18]/' -e 's/^constexpr double K_START = .*;  \\/\\/ OPTIMIZE \\[0\\.04, 0\\.2\\] LOG$/constexpr double K_START = 0.08877230251159501;  \\/\\/ OPTIMIZE [0.04, 0.2] LOG/' -e 's/^constexpr double K_END = .*;   \\/\\/ OPTIMIZE \\[0\\.03, 0\\.1\\] LOG$/constexpr double K_END = 0.06073320484602717;   \\/\\/ OPTIMIZE [0.03, 0.1] LOG/' -e 's/^constexpr double K_H = .*;      \\/\\/ OPTIMIZE \\[0\\.001, 0\\.999\\]$/constexpr double K_H = 0.2887853687520944;      \\/\\/ OPTIMIZE [0.001, 0.999]/' -e 's/^constexpr short PURCHASE_TURN_LIMIT = .*;  \\/\\/ OPTIMIZE \\[790, 870\\]$/constexpr short PURCHASE_TURN_LIMIT = 827;  \\/\\/ OPTIMIZE [790, 870]/' -e 's/^constexpr int ROUGH_HASH = .*;      \\/\\/ OPTIMIZE {0, 0b00000001, 0b00010001, 0b00010011, 0b00110011}$/constexpr int ROUGH_HASH = 0;      \\/\\/ OPTIMIZE {0, 0b00000001, 0b00010001, 0b00010011, 0b00110011}/' -e 's/^constexpr double TARGET_BEAM_WIDTH_INCREASE_RATE = .*;      \\/\\/ OPTIMIZE \\[0\\.25, 4\\.0\\] LOG$/constexpr double TARGET_BEAM_WIDTH_INCREASE_RATE = 2.083223802157844;      \\/\\/ OPTIMIZE [0.25, 4.0] LOG/' -e 's/^constexpr double TARGET_BEAM_WIDTH_HALF_PROGRES_RATE = .*;  \\/\\/ OPTIMIZE \\[0\\.02, 0\\.98\\]$/constexpr double TARGET_BEAM_WIDTH_HALF_PROGRES_RATE = 0.5317301812116431;  \\/\\/ OPTIMIZE [0.02, 0.98]/' -e 's/^constexpr auto MAX_BEAM_WIDTH = .*;                        \\/\\/ OPTIMIZE \\[400, 4000\\] LOG$/constexpr auto MAX_BEAM_WIDTH = 1018;                        \\/\\/ OPTIMIZE [400, 4000] LOG/'\n",
      "g++ 11_main.cpp -std=gnu++17 -O2 -DONLINE_JUDGE -o 11_main.cpp.out 2> /dev/null\n"
     ]
    },
    {
     "name": "stderr",
     "output_type": "stream",
     "text": [
      "\u001b[32m[I 2021-09-11 02:43:00,316]\u001b[0m Trial 92 finished with value: 993889191.0 and parameters: {'hash_table_size': 9, 'K_START': 0.08727476059172716, 'K_END': 0.055490223253005885, 'K_H': 0.31241706027929694, 'PURCHASE_TURN_LIMIT': 827, 'ROUGH_HASH': '0', 'TARGET_BEAM_WIDTH_INCREASE_RATE': 2.11150593498847, 'TARGET_BEAM_WIDTH_HALF_PROGRES_RATE': 0.6063812914437594, 'MAX_BEAM_WIDTH': 1004}. Best is trial 87 with value: 996836200.0.\u001b[0m\n"
     ]
    },
    {
     "name": "stdout",
     "output_type": "stream",
     "text": [
      "callback ok\n",
      "index_parallel=0\n",
      "sed -i 0_main.cpp -e 's/^constexpr int hash_table_size = .*;         \\/\\/ OPTIMIZE \\[9, 18\\]$/constexpr int hash_table_size = 9;         \\/\\/ OPTIMIZE [9, 18]/' -e 's/^constexpr double K_START = .*;  \\/\\/ OPTIMIZE \\[0\\.04, 0\\.2\\] LOG$/constexpr double K_START = 0.08753269614631765;  \\/\\/ OPTIMIZE [0.04, 0.2] LOG/' -e 's/^constexpr double K_END = .*;   \\/\\/ OPTIMIZE \\[0\\.03, 0\\.1\\] LOG$/constexpr double K_END = 0.05852986934679796;   \\/\\/ OPTIMIZE [0.03, 0.1] LOG/' -e 's/^constexpr double K_H = .*;      \\/\\/ OPTIMIZE \\[0\\.001, 0\\.999\\]$/constexpr double K_H = 0.2883928137505829;      \\/\\/ OPTIMIZE [0.001, 0.999]/' -e 's/^constexpr short PURCHASE_TURN_LIMIT = .*;  \\/\\/ OPTIMIZE \\[790, 870\\]$/constexpr short PURCHASE_TURN_LIMIT = 828;  \\/\\/ OPTIMIZE [790, 870]/' -e 's/^constexpr int ROUGH_HASH = .*;      \\/\\/ OPTIMIZE {0, 0b00000001, 0b00010001, 0b00010011, 0b00110011}$/constexpr int ROUGH_HASH = 0;      \\/\\/ OPTIMIZE {0, 0b00000001, 0b00010001, 0b00010011, 0b00110011}/' -e 's/^constexpr double TARGET_BEAM_WIDTH_INCREASE_RATE = .*;      \\/\\/ OPTIMIZE \\[0\\.25, 4\\.0\\] LOG$/constexpr double TARGET_BEAM_WIDTH_INCREASE_RATE = 2.14007893431984;      \\/\\/ OPTIMIZE [0.25, 4.0] LOG/' -e 's/^constexpr double TARGET_BEAM_WIDTH_HALF_PROGRES_RATE = .*;  \\/\\/ OPTIMIZE \\[0\\.02, 0\\.98\\]$/constexpr double TARGET_BEAM_WIDTH_HALF_PROGRES_RATE = 0.7069308217101357;  \\/\\/ OPTIMIZE [0.02, 0.98]/' -e 's/^constexpr auto MAX_BEAM_WIDTH = .*;                        \\/\\/ OPTIMIZE \\[400, 4000\\] LOG$/constexpr auto MAX_BEAM_WIDTH = 828;                        \\/\\/ OPTIMIZE [400, 4000] LOG/'\n",
      "g++ 0_main.cpp -std=gnu++17 -O2 -DONLINE_JUDGE -o 0_main.cpp.out 2> /dev/null\n"
     ]
    },
    {
     "name": "stderr",
     "output_type": "stream",
     "text": [
      "\u001b[32m[I 2021-09-11 02:43:18,229]\u001b[0m Trial 93 finished with value: 998170114.0 and parameters: {'hash_table_size': 9, 'K_START': 0.10409158121619132, 'K_END': 0.04313796848837637, 'K_H': 0.2756223444268193, 'PURCHASE_TURN_LIMIT': 827, 'ROUGH_HASH': '0', 'TARGET_BEAM_WIDTH_INCREASE_RATE': 2.095660116546507, 'TARGET_BEAM_WIDTH_HALF_PROGRES_RATE': 0.513725898097791, 'MAX_BEAM_WIDTH': 844}. Best is trial 93 with value: 998170114.0.\u001b[0m\n"
     ]
    },
    {
     "name": "stdout",
     "output_type": "stream",
     "text": [
      "Updated! 998170114.0\n",
      "callback ok\n",
      "index_parallel=1\n",
      "sed -i 1_main.cpp -e 's/^constexpr int hash_table_size = .*;         \\/\\/ OPTIMIZE \\[9, 18\\]$/constexpr int hash_table_size = 9;         \\/\\/ OPTIMIZE [9, 18]/' -e 's/^constexpr double K_START = .*;  \\/\\/ OPTIMIZE \\[0\\.04, 0\\.2\\] LOG$/constexpr double K_START = 0.07915222834043543;  \\/\\/ OPTIMIZE [0.04, 0.2] LOG/' -e 's/^constexpr double K_END = .*;   \\/\\/ OPTIMIZE \\[0\\.03, 0\\.1\\] LOG$/constexpr double K_END = 0.06092887814450636;   \\/\\/ OPTIMIZE [0.03, 0.1] LOG/' -e 's/^constexpr double K_H = .*;      \\/\\/ OPTIMIZE \\[0\\.001, 0\\.999\\]$/constexpr double K_H = 0.3070055903063124;      \\/\\/ OPTIMIZE [0.001, 0.999]/' -e 's/^constexpr short PURCHASE_TURN_LIMIT = .*;  \\/\\/ OPTIMIZE \\[790, 870\\]$/constexpr short PURCHASE_TURN_LIMIT = 828;  \\/\\/ OPTIMIZE [790, 870]/' -e 's/^constexpr int ROUGH_HASH = .*;      \\/\\/ OPTIMIZE {0, 0b00000001, 0b00010001, 0b00010011, 0b00110011}$/constexpr int ROUGH_HASH = 0;      \\/\\/ OPTIMIZE {0, 0b00000001, 0b00010001, 0b00010011, 0b00110011}/' -e 's/^constexpr double TARGET_BEAM_WIDTH_INCREASE_RATE = .*;      \\/\\/ OPTIMIZE \\[0\\.25, 4\\.0\\] LOG$/constexpr double TARGET_BEAM_WIDTH_INCREASE_RATE = 1.744880856810672;      \\/\\/ OPTIMIZE [0.25, 4.0] LOG/' -e 's/^constexpr double TARGET_BEAM_WIDTH_HALF_PROGRES_RATE = .*;  \\/\\/ OPTIMIZE \\[0\\.02, 0\\.98\\]$/constexpr double TARGET_BEAM_WIDTH_HALF_PROGRES_RATE = 0.7077152511533134;  \\/\\/ OPTIMIZE [0.02, 0.98]/' -e 's/^constexpr auto MAX_BEAM_WIDTH = .*;                        \\/\\/ OPTIMIZE \\[400, 4000\\] LOG$/constexpr auto MAX_BEAM_WIDTH = 806;                        \\/\\/ OPTIMIZE [400, 4000] LOG/'\n",
      "g++ 1_main.cpp -std=gnu++17 -O2 -DONLINE_JUDGE -o 1_main.cpp.out 2> /dev/null\n"
     ]
    },
    {
     "name": "stderr",
     "output_type": "stream",
     "text": [
      "\u001b[32m[I 2021-09-11 02:43:27,015]\u001b[0m Trial 94 finished with value: 994501091.0 and parameters: {'hash_table_size': 9, 'K_START': 0.08765939750268291, 'K_END': 0.05547767524174491, 'K_H': 0.29134903198689244, 'PURCHASE_TURN_LIMIT': 827, 'ROUGH_HASH': '0', 'TARGET_BEAM_WIDTH_INCREASE_RATE': 2.1366303993559073, 'TARGET_BEAM_WIDTH_HALF_PROGRES_RATE': 0.7114703060269164, 'MAX_BEAM_WIDTH': 1026}. Best is trial 93 with value: 998170114.0.\u001b[0m\n"
     ]
    },
    {
     "name": "stdout",
     "output_type": "stream",
     "text": [
      "callback ok\n",
      "index_parallel=2\n",
      "sed -i 2_main.cpp -e 's/^constexpr int hash_table_size = .*;         \\/\\/ OPTIMIZE \\[9, 18\\]$/constexpr int hash_table_size = 9;         \\/\\/ OPTIMIZE [9, 18]/' -e 's/^constexpr double K_START = .*;  \\/\\/ OPTIMIZE \\[0\\.04, 0\\.2\\] LOG$/constexpr double K_START = 0.0874373874769322;  \\/\\/ OPTIMIZE [0.04, 0.2] LOG/' -e 's/^constexpr double K_END = .*;   \\/\\/ OPTIMIZE \\[0\\.03, 0\\.1\\] LOG$/constexpr double K_END = 0.06180493875058541;   \\/\\/ OPTIMIZE [0.03, 0.1] LOG/' -e 's/^constexpr double K_H = .*;      \\/\\/ OPTIMIZE \\[0\\.001, 0\\.999\\]$/constexpr double K_H = 0.3146356592665595;      \\/\\/ OPTIMIZE [0.001, 0.999]/' -e 's/^constexpr short PURCHASE_TURN_LIMIT = .*;  \\/\\/ OPTIMIZE \\[790, 870\\]$/constexpr short PURCHASE_TURN_LIMIT = 828;  \\/\\/ OPTIMIZE [790, 870]/' -e 's/^constexpr int ROUGH_HASH = .*;      \\/\\/ OPTIMIZE {0, 0b00000001, 0b00010001, 0b00010011, 0b00110011}$/constexpr int ROUGH_HASH = 0;      \\/\\/ OPTIMIZE {0, 0b00000001, 0b00010001, 0b00010011, 0b00110011}/' -e 's/^constexpr double TARGET_BEAM_WIDTH_INCREASE_RATE = .*;      \\/\\/ OPTIMIZE \\[0\\.25, 4\\.0\\] LOG$/constexpr double TARGET_BEAM_WIDTH_INCREASE_RATE = 1.7499931272569569;      \\/\\/ OPTIMIZE [0.25, 4.0] LOG/' -e 's/^constexpr double TARGET_BEAM_WIDTH_HALF_PROGRES_RATE = .*;  \\/\\/ OPTIMIZE \\[0\\.02, 0\\.98\\]$/constexpr double TARGET_BEAM_WIDTH_HALF_PROGRES_RATE = 0.7340755282838368;  \\/\\/ OPTIMIZE [0.02, 0.98]/' -e 's/^constexpr auto MAX_BEAM_WIDTH = .*;                        \\/\\/ OPTIMIZE \\[400, 4000\\] LOG$/constexpr auto MAX_BEAM_WIDTH = 828;                        \\/\\/ OPTIMIZE [400, 4000] LOG/'\n",
      "g++ 2_main.cpp -std=gnu++17 -O2 -DONLINE_JUDGE -o 2_main.cpp.out 2> /dev/null\n"
     ]
    },
    {
     "name": "stderr",
     "output_type": "stream",
     "text": [
      "\u001b[32m[I 2021-09-11 02:43:29,432]\u001b[0m Trial 95 finished with value: 992917591.0 and parameters: {'hash_table_size': 9, 'K_START': 0.08877230251159501, 'K_END': 0.06073320484602717, 'K_H': 0.2887853687520944, 'PURCHASE_TURN_LIMIT': 827, 'ROUGH_HASH': '0', 'TARGET_BEAM_WIDTH_INCREASE_RATE': 2.083223802157844, 'TARGET_BEAM_WIDTH_HALF_PROGRES_RATE': 0.5317301812116431, 'MAX_BEAM_WIDTH': 1018}. Best is trial 93 with value: 998170114.0.\u001b[0m\n"
     ]
    },
    {
     "name": "stdout",
     "output_type": "stream",
     "text": [
      "callback ok\n",
      "index_parallel=3\n",
      "sed -i 3_main.cpp -e 's/^constexpr int hash_table_size = .*;         \\/\\/ OPTIMIZE \\[9, 18\\]$/constexpr int hash_table_size = 9;         \\/\\/ OPTIMIZE [9, 18]/' -e 's/^constexpr double K_START = .*;  \\/\\/ OPTIMIZE \\[0\\.04, 0\\.2\\] LOG$/constexpr double K_START = 0.07603420059241033;  \\/\\/ OPTIMIZE [0.04, 0.2] LOG/' -e 's/^constexpr double K_END = .*;   \\/\\/ OPTIMIZE \\[0\\.03, 0\\.1\\] LOG$/constexpr double K_END = 0.05588926423037649;   \\/\\/ OPTIMIZE [0.03, 0.1] LOG/' -e 's/^constexpr double K_H = .*;      \\/\\/ OPTIMIZE \\[0\\.001, 0\\.999\\]$/constexpr double K_H = 0.31893893539020135;      \\/\\/ OPTIMIZE [0.001, 0.999]/' -e 's/^constexpr short PURCHASE_TURN_LIMIT = .*;  \\/\\/ OPTIMIZE \\[790, 870\\]$/constexpr short PURCHASE_TURN_LIMIT = 828;  \\/\\/ OPTIMIZE [790, 870]/' -e 's/^constexpr int ROUGH_HASH = .*;      \\/\\/ OPTIMIZE {0, 0b00000001, 0b00010001, 0b00010011, 0b00110011}$/constexpr int ROUGH_HASH = 0;      \\/\\/ OPTIMIZE {0, 0b00000001, 0b00010001, 0b00010011, 0b00110011}/' -e 's/^constexpr double TARGET_BEAM_WIDTH_INCREASE_RATE = .*;      \\/\\/ OPTIMIZE \\[0\\.25, 4\\.0\\] LOG$/constexpr double TARGET_BEAM_WIDTH_INCREASE_RATE = 1.2427494842404139;      \\/\\/ OPTIMIZE [0.25, 4.0] LOG/' -e 's/^constexpr double TARGET_BEAM_WIDTH_HALF_PROGRES_RATE = .*;  \\/\\/ OPTIMIZE \\[0\\.02, 0\\.98\\]$/constexpr double TARGET_BEAM_WIDTH_HALF_PROGRES_RATE = 0.7046051962440105;  \\/\\/ OPTIMIZE [0.02, 0.98]/' -e 's/^constexpr auto MAX_BEAM_WIDTH = .*;                        \\/\\/ OPTIMIZE \\[400, 4000\\] LOG$/constexpr auto MAX_BEAM_WIDTH = 838;                        \\/\\/ OPTIMIZE [400, 4000] LOG/'\n",
      "g++ 3_main.cpp -std=gnu++17 -O2 -DONLINE_JUDGE -o 3_main.cpp.out 2> /dev/null\n"
     ]
    },
    {
     "name": "stderr",
     "output_type": "stream",
     "text": [
      "\u001b[32m[I 2021-09-11 02:44:45,916]\u001b[0m Trial 96 finished with value: 991896619.0 and parameters: {'hash_table_size': 9, 'K_START': 0.08753269614631765, 'K_END': 0.05852986934679796, 'K_H': 0.2883928137505829, 'PURCHASE_TURN_LIMIT': 828, 'ROUGH_HASH': '0', 'TARGET_BEAM_WIDTH_INCREASE_RATE': 2.14007893431984, 'TARGET_BEAM_WIDTH_HALF_PROGRES_RATE': 0.7069308217101357, 'MAX_BEAM_WIDTH': 828}. Best is trial 93 with value: 998170114.0.\u001b[0m\n"
     ]
    },
    {
     "name": "stdout",
     "output_type": "stream",
     "text": [
      "callback ok\n",
      "index_parallel=4\n",
      "sed -i 4_main.cpp -e 's/^constexpr int hash_table_size = .*;         \\/\\/ OPTIMIZE \\[9, 18\\]$/constexpr int hash_table_size = 9;         \\/\\/ OPTIMIZE [9, 18]/' -e 's/^constexpr double K_START = .*;  \\/\\/ OPTIMIZE \\[0\\.04, 0\\.2\\] LOG$/constexpr double K_START = 0.07753723190967186;  \\/\\/ OPTIMIZE [0.04, 0.2] LOG/' -e 's/^constexpr double K_END = .*;   \\/\\/ OPTIMIZE \\[0\\.03, 0\\.1\\] LOG$/constexpr double K_END = 0.05528732168156734;   \\/\\/ OPTIMIZE [0.03, 0.1] LOG/' -e 's/^constexpr double K_H = .*;      \\/\\/ OPTIMIZE \\[0\\.001, 0\\.999\\]$/constexpr double K_H = 0.31111265683822553;      \\/\\/ OPTIMIZE [0.001, 0.999]/' -e 's/^constexpr short PURCHASE_TURN_LIMIT = .*;  \\/\\/ OPTIMIZE \\[790, 870\\]$/constexpr short PURCHASE_TURN_LIMIT = 820;  \\/\\/ OPTIMIZE [790, 870]/' -e 's/^constexpr int ROUGH_HASH = .*;      \\/\\/ OPTIMIZE {0, 0b00000001, 0b00010001, 0b00010011, 0b00110011}$/constexpr int ROUGH_HASH = 0;      \\/\\/ OPTIMIZE {0, 0b00000001, 0b00010001, 0b00010011, 0b00110011}/' -e 's/^constexpr double TARGET_BEAM_WIDTH_INCREASE_RATE = .*;      \\/\\/ OPTIMIZE \\[0\\.25, 4\\.0\\] LOG$/constexpr double TARGET_BEAM_WIDTH_INCREASE_RATE = 0.2862321825243182;      \\/\\/ OPTIMIZE [0.25, 4.0] LOG/' -e 's/^constexpr double TARGET_BEAM_WIDTH_HALF_PROGRES_RATE = .*;  \\/\\/ OPTIMIZE \\[0\\.02, 0\\.98\\]$/constexpr double TARGET_BEAM_WIDTH_HALF_PROGRES_RATE = 0.7040864910739975;  \\/\\/ OPTIMIZE [0.02, 0.98]/' -e 's/^constexpr auto MAX_BEAM_WIDTH = .*;                        \\/\\/ OPTIMIZE \\[400, 4000\\] LOG$/constexpr auto MAX_BEAM_WIDTH = 1189;                        \\/\\/ OPTIMIZE [400, 4000] LOG/'\n",
      "g++ 4_main.cpp -std=gnu++17 -O2 -DONLINE_JUDGE -o 4_main.cpp.out 2> /dev/null\n"
     ]
    },
    {
     "name": "stderr",
     "output_type": "stream",
     "text": [
      "\u001b[32m[I 2021-09-11 02:45:04,215]\u001b[0m Trial 97 finished with value: 997845082.0 and parameters: {'hash_table_size': 9, 'K_START': 0.07915222834043543, 'K_END': 0.06092887814450636, 'K_H': 0.3070055903063124, 'PURCHASE_TURN_LIMIT': 828, 'ROUGH_HASH': '0', 'TARGET_BEAM_WIDTH_INCREASE_RATE': 1.744880856810672, 'TARGET_BEAM_WIDTH_HALF_PROGRES_RATE': 0.7077152511533134, 'MAX_BEAM_WIDTH': 806}. Best is trial 93 with value: 998170114.0.\u001b[0m\n"
     ]
    },
    {
     "name": "stdout",
     "output_type": "stream",
     "text": [
      "callback ok\n",
      "index_parallel=5\n",
      "sed -i 5_main.cpp -e 's/^constexpr int hash_table_size = .*;         \\/\\/ OPTIMIZE \\[9, 18\\]$/constexpr int hash_table_size = 9;         \\/\\/ OPTIMIZE [9, 18]/' -e 's/^constexpr double K_START = .*;  \\/\\/ OPTIMIZE \\[0\\.04, 0\\.2\\] LOG$/constexpr double K_START = 0.07152797929055144;  \\/\\/ OPTIMIZE [0.04, 0.2] LOG/' -e 's/^constexpr double K_END = .*;   \\/\\/ OPTIMIZE \\[0\\.03, 0\\.1\\] LOG$/constexpr double K_END = 0.06367423195155275;   \\/\\/ OPTIMIZE [0.03, 0.1] LOG/' -e 's/^constexpr double K_H = .*;      \\/\\/ OPTIMIZE \\[0\\.001, 0\\.999\\]$/constexpr double K_H = 0.31871111701519816;      \\/\\/ OPTIMIZE [0.001, 0.999]/' -e 's/^constexpr short PURCHASE_TURN_LIMIT = .*;  \\/\\/ OPTIMIZE \\[790, 870\\]$/constexpr short PURCHASE_TURN_LIMIT = 814;  \\/\\/ OPTIMIZE [790, 870]/' -e 's/^constexpr int ROUGH_HASH = .*;      \\/\\/ OPTIMIZE {0, 0b00000001, 0b00010001, 0b00010011, 0b00110011}$/constexpr int ROUGH_HASH = 0;      \\/\\/ OPTIMIZE {0, 0b00000001, 0b00010001, 0b00010011, 0b00110011}/' -e 's/^constexpr double TARGET_BEAM_WIDTH_INCREASE_RATE = .*;      \\/\\/ OPTIMIZE \\[0\\.25, 4\\.0\\] LOG$/constexpr double TARGET_BEAM_WIDTH_INCREASE_RATE = 1.7101599138068422;      \\/\\/ OPTIMIZE [0.25, 4.0] LOG/' -e 's/^constexpr double TARGET_BEAM_WIDTH_HALF_PROGRES_RATE = .*;  \\/\\/ OPTIMIZE \\[0\\.02, 0\\.98\\]$/constexpr double TARGET_BEAM_WIDTH_HALF_PROGRES_RATE = 0.7835917562820796;  \\/\\/ OPTIMIZE [0.02, 0.98]/' -e 's/^constexpr auto MAX_BEAM_WIDTH = .*;                        \\/\\/ OPTIMIZE \\[400, 4000\\] LOG$/constexpr auto MAX_BEAM_WIDTH = 1202;                        \\/\\/ OPTIMIZE [400, 4000] LOG/'\n",
      "g++ 5_main.cpp -std=gnu++17 -O2 -DONLINE_JUDGE -o 5_main.cpp.out 2> /dev/null\n"
     ]
    },
    {
     "name": "stderr",
     "output_type": "stream",
     "text": [
      "\u001b[32m[I 2021-09-11 02:45:11,996]\u001b[0m Trial 98 finished with value: 995340623.0 and parameters: {'hash_table_size': 9, 'K_START': 0.0874373874769322, 'K_END': 0.06180493875058541, 'K_H': 0.3146356592665595, 'PURCHASE_TURN_LIMIT': 828, 'ROUGH_HASH': '0', 'TARGET_BEAM_WIDTH_INCREASE_RATE': 1.7499931272569569, 'TARGET_BEAM_WIDTH_HALF_PROGRES_RATE': 0.7340755282838368, 'MAX_BEAM_WIDTH': 828}. Best is trial 93 with value: 998170114.0.\u001b[0m\n"
     ]
    },
    {
     "name": "stdout",
     "output_type": "stream",
     "text": [
      "callback ok\n",
      "index_parallel=6\n",
      "sed -i 6_main.cpp -e 's/^constexpr int hash_table_size = .*;         \\/\\/ OPTIMIZE \\[9, 18\\]$/constexpr int hash_table_size = 9;         \\/\\/ OPTIMIZE [9, 18]/' -e 's/^constexpr double K_START = .*;  \\/\\/ OPTIMIZE \\[0\\.04, 0\\.2\\] LOG$/constexpr double K_START = 0.08596643249516048;  \\/\\/ OPTIMIZE [0.04, 0.2] LOG/' -e 's/^constexpr double K_END = .*;   \\/\\/ OPTIMIZE \\[0\\.03, 0\\.1\\] LOG$/constexpr double K_END = 0.06646700779240444;   \\/\\/ OPTIMIZE [0.03, 0.1] LOG/' -e 's/^constexpr double K_H = .*;      \\/\\/ OPTIMIZE \\[0\\.001, 0\\.999\\]$/constexpr double K_H = 0.3272794037561671;      \\/\\/ OPTIMIZE [0.001, 0.999]/' -e 's/^constexpr short PURCHASE_TURN_LIMIT = .*;  \\/\\/ OPTIMIZE \\[790, 870\\]$/constexpr short PURCHASE_TURN_LIMIT = 814;  \\/\\/ OPTIMIZE [790, 870]/' -e 's/^constexpr int ROUGH_HASH = .*;      \\/\\/ OPTIMIZE {0, 0b00000001, 0b00010001, 0b00010011, 0b00110011}$/constexpr int ROUGH_HASH = 0;      \\/\\/ OPTIMIZE {0, 0b00000001, 0b00010001, 0b00010011, 0b00110011}/' -e 's/^constexpr double TARGET_BEAM_WIDTH_INCREASE_RATE = .*;      \\/\\/ OPTIMIZE \\[0\\.25, 4\\.0\\] LOG$/constexpr double TARGET_BEAM_WIDTH_INCREASE_RATE = 1.771991670079004;      \\/\\/ OPTIMIZE [0.25, 4.0] LOG/' -e 's/^constexpr double TARGET_BEAM_WIDTH_HALF_PROGRES_RATE = .*;  \\/\\/ OPTIMIZE \\[0\\.02, 0\\.98\\]$/constexpr double TARGET_BEAM_WIDTH_HALF_PROGRES_RATE = 0.7941014120691701;  \\/\\/ OPTIMIZE [0.02, 0.98]/' -e 's/^constexpr auto MAX_BEAM_WIDTH = .*;                        \\/\\/ OPTIMIZE \\[400, 4000\\] LOG$/constexpr auto MAX_BEAM_WIDTH = 739;                        \\/\\/ OPTIMIZE [400, 4000] LOG/'\n",
      "g++ 6_main.cpp -std=gnu++17 -O2 -DONLINE_JUDGE -o 6_main.cpp.out 2> /dev/null\n"
     ]
    },
    {
     "name": "stderr",
     "output_type": "stream",
     "text": [
      "\u001b[32m[I 2021-09-11 02:45:15,017]\u001b[0m Trial 99 finished with value: 992632911.0 and parameters: {'hash_table_size': 9, 'K_START': 0.07603420059241033, 'K_END': 0.05588926423037649, 'K_H': 0.31893893539020135, 'PURCHASE_TURN_LIMIT': 828, 'ROUGH_HASH': '0', 'TARGET_BEAM_WIDTH_INCREASE_RATE': 1.2427494842404139, 'TARGET_BEAM_WIDTH_HALF_PROGRES_RATE': 0.7046051962440105, 'MAX_BEAM_WIDTH': 838}. Best is trial 93 with value: 998170114.0.\u001b[0m\n"
     ]
    },
    {
     "name": "stdout",
     "output_type": "stream",
     "text": [
      "callback ok\n",
      "index_parallel=7\n",
      "sed -i 7_main.cpp -e 's/^constexpr int hash_table_size = .*;         \\/\\/ OPTIMIZE \\[9, 18\\]$/constexpr int hash_table_size = 9;         \\/\\/ OPTIMIZE [9, 18]/' -e 's/^constexpr double K_START = .*;  \\/\\/ OPTIMIZE \\[0\\.04, 0\\.2\\] LOG$/constexpr double K_START = 0.07134340111717045;  \\/\\/ OPTIMIZE [0.04, 0.2] LOG/' -e 's/^constexpr double K_END = .*;   \\/\\/ OPTIMIZE \\[0\\.03, 0\\.1\\] LOG$/constexpr double K_END = 0.06946022316045228;   \\/\\/ OPTIMIZE [0.03, 0.1] LOG/' -e 's/^constexpr double K_H = .*;      \\/\\/ OPTIMIZE \\[0\\.001, 0\\.999\\]$/constexpr double K_H = 0.2555284757665028;      \\/\\/ OPTIMIZE [0.001, 0.999]/' -e 's/^constexpr short PURCHASE_TURN_LIMIT = .*;  \\/\\/ OPTIMIZE \\[790, 870\\]$/constexpr short PURCHASE_TURN_LIMIT = 821;  \\/\\/ OPTIMIZE [790, 870]/' -e 's/^constexpr int ROUGH_HASH = .*;      \\/\\/ OPTIMIZE {0, 0b00000001, 0b00010001, 0b00010011, 0b00110011}$/constexpr int ROUGH_HASH = 0;      \\/\\/ OPTIMIZE {0, 0b00000001, 0b00010001, 0b00010011, 0b00110011}/' -e 's/^constexpr double TARGET_BEAM_WIDTH_INCREASE_RATE = .*;      \\/\\/ OPTIMIZE \\[0\\.25, 4\\.0\\] LOG$/constexpr double TARGET_BEAM_WIDTH_INCREASE_RATE = 1.7510680538559467;      \\/\\/ OPTIMIZE [0.25, 4.0] LOG/' -e 's/^constexpr double TARGET_BEAM_WIDTH_HALF_PROGRES_RATE = .*;  \\/\\/ OPTIMIZE \\[0\\.02, 0\\.98\\]$/constexpr double TARGET_BEAM_WIDTH_HALF_PROGRES_RATE = 0.8111484229778254;  \\/\\/ OPTIMIZE [0.02, 0.98]/' -e 's/^constexpr auto MAX_BEAM_WIDTH = .*;                        \\/\\/ OPTIMIZE \\[400, 4000\\] LOG$/constexpr auto MAX_BEAM_WIDTH = 735;                        \\/\\/ OPTIMIZE [400, 4000] LOG/'\n",
      "g++ 7_main.cpp -std=gnu++17 -O2 -DONLINE_JUDGE -o 7_main.cpp.out 2> /dev/null\n"
     ]
    },
    {
     "name": "stderr",
     "output_type": "stream",
     "text": [
      "\u001b[32m[I 2021-09-11 02:46:33,475]\u001b[0m Trial 100 finished with value: 975484981.0 and parameters: {'hash_table_size': 9, 'K_START': 0.07753723190967186, 'K_END': 0.05528732168156734, 'K_H': 0.31111265683822553, 'PURCHASE_TURN_LIMIT': 820, 'ROUGH_HASH': '0', 'TARGET_BEAM_WIDTH_INCREASE_RATE': 0.2862321825243182, 'TARGET_BEAM_WIDTH_HALF_PROGRES_RATE': 0.7040864910739975, 'MAX_BEAM_WIDTH': 1189}. Best is trial 93 with value: 998170114.0.\u001b[0m\n"
     ]
    },
    {
     "name": "stdout",
     "output_type": "stream",
     "text": [
      "callback ok\n",
      "index_parallel=8\n",
      "sed -i 8_main.cpp -e 's/^constexpr int hash_table_size = .*;         \\/\\/ OPTIMIZE \\[9, 18\\]$/constexpr int hash_table_size = 9;         \\/\\/ OPTIMIZE [9, 18]/' -e 's/^constexpr double K_START = .*;  \\/\\/ OPTIMIZE \\[0\\.04, 0\\.2\\] LOG$/constexpr double K_START = 0.07291452996277083;  \\/\\/ OPTIMIZE [0.04, 0.2] LOG/' -e 's/^constexpr double K_END = .*;   \\/\\/ OPTIMIZE \\[0\\.03, 0\\.1\\] LOG$/constexpr double K_END = 0.064737498232282;   \\/\\/ OPTIMIZE [0.03, 0.1] LOG/' -e 's/^constexpr double K_H = .*;      \\/\\/ OPTIMIZE \\[0\\.001, 0\\.999\\]$/constexpr double K_H = 0.26365069169218225;      \\/\\/ OPTIMIZE [0.001, 0.999]/' -e 's/^constexpr short PURCHASE_TURN_LIMIT = .*;  \\/\\/ OPTIMIZE \\[790, 870\\]$/constexpr short PURCHASE_TURN_LIMIT = 826;  \\/\\/ OPTIMIZE [790, 870]/' -e 's/^constexpr int ROUGH_HASH = .*;      \\/\\/ OPTIMIZE {0, 0b00000001, 0b00010001, 0b00010011, 0b00110011}$/constexpr int ROUGH_HASH = 0;      \\/\\/ OPTIMIZE {0, 0b00000001, 0b00010001, 0b00010011, 0b00110011}/' -e 's/^constexpr double TARGET_BEAM_WIDTH_INCREASE_RATE = .*;      \\/\\/ OPTIMIZE \\[0\\.25, 4\\.0\\] LOG$/constexpr double TARGET_BEAM_WIDTH_INCREASE_RATE = 1.7240079751045772;      \\/\\/ OPTIMIZE [0.25, 4.0] LOG/' -e 's/^constexpr double TARGET_BEAM_WIDTH_HALF_PROGRES_RATE = .*;  \\/\\/ OPTIMIZE \\[0\\.02, 0\\.98\\]$/constexpr double TARGET_BEAM_WIDTH_HALF_PROGRES_RATE = 0.6676382128585061;  \\/\\/ OPTIMIZE [0.02, 0.98]/' -e 's/^constexpr auto MAX_BEAM_WIDTH = .*;                        \\/\\/ OPTIMIZE \\[400, 4000\\] LOG$/constexpr auto MAX_BEAM_WIDTH = 717;                        \\/\\/ OPTIMIZE [400, 4000] LOG/'\n",
      "g++ 8_main.cpp -std=gnu++17 -O2 -DONLINE_JUDGE -o 8_main.cpp.out 2> /dev/null\n"
     ]
    },
    {
     "name": "stderr",
     "output_type": "stream",
     "text": [
      "\u001b[32m[I 2021-09-11 02:46:48,938]\u001b[0m Trial 101 finished with value: 987920308.0 and parameters: {'hash_table_size': 9, 'K_START': 0.07152797929055144, 'K_END': 0.06367423195155275, 'K_H': 0.31871111701519816, 'PURCHASE_TURN_LIMIT': 814, 'ROUGH_HASH': '0', 'TARGET_BEAM_WIDTH_INCREASE_RATE': 1.7101599138068422, 'TARGET_BEAM_WIDTH_HALF_PROGRES_RATE': 0.7835917562820796, 'MAX_BEAM_WIDTH': 1202}. Best is trial 93 with value: 998170114.0.\u001b[0m\n"
     ]
    },
    {
     "name": "stdout",
     "output_type": "stream",
     "text": [
      "callback ok\n",
      "index_parallel=9\n",
      "sed -i 9_main.cpp -e 's/^constexpr int hash_table_size = .*;         \\/\\/ OPTIMIZE \\[9, 18\\]$/constexpr int hash_table_size = 9;         \\/\\/ OPTIMIZE [9, 18]/' -e 's/^constexpr double K_START = .*;  \\/\\/ OPTIMIZE \\[0\\.04, 0\\.2\\] LOG$/constexpr double K_START = 0.08243635095547362;  \\/\\/ OPTIMIZE [0.04, 0.2] LOG/' -e 's/^constexpr double K_END = .*;   \\/\\/ OPTIMIZE \\[0\\.03, 0\\.1\\] LOG$/constexpr double K_END = 0.0694470281215361;   \\/\\/ OPTIMIZE [0.03, 0.1] LOG/' -e 's/^constexpr double K_H = .*;      \\/\\/ OPTIMIZE \\[0\\.001, 0\\.999\\]$/constexpr double K_H = 0.2647184155174983;      \\/\\/ OPTIMIZE [0.001, 0.999]/' -e 's/^constexpr short PURCHASE_TURN_LIMIT = .*;  \\/\\/ OPTIMIZE \\[790, 870\\]$/constexpr short PURCHASE_TURN_LIMIT = 825;  \\/\\/ OPTIMIZE [790, 870]/' -e 's/^constexpr int ROUGH_HASH = .*;      \\/\\/ OPTIMIZE {0, 0b00000001, 0b00010001, 0b00010011, 0b00110011}$/constexpr int ROUGH_HASH = 0;      \\/\\/ OPTIMIZE {0, 0b00000001, 0b00010001, 0b00010011, 0b00110011}/' -e 's/^constexpr double TARGET_BEAM_WIDTH_INCREASE_RATE = .*;      \\/\\/ OPTIMIZE \\[0\\.25, 4\\.0\\] LOG$/constexpr double TARGET_BEAM_WIDTH_INCREASE_RATE = 1.7324721624393764;      \\/\\/ OPTIMIZE [0.25, 4.0] LOG/' -e 's/^constexpr double TARGET_BEAM_WIDTH_HALF_PROGRES_RATE = .*;  \\/\\/ OPTIMIZE \\[0\\.02, 0\\.98\\]$/constexpr double TARGET_BEAM_WIDTH_HALF_PROGRES_RATE = 0.6597421139696252;  \\/\\/ OPTIMIZE [0.02, 0.98]/' -e 's/^constexpr auto MAX_BEAM_WIDTH = .*;                        \\/\\/ OPTIMIZE \\[400, 4000\\] LOG$/constexpr auto MAX_BEAM_WIDTH = 741;                        \\/\\/ OPTIMIZE [400, 4000] LOG/'\n",
      "g++ 9_main.cpp -std=gnu++17 -O2 -DONLINE_JUDGE -o 9_main.cpp.out 2> /dev/null\n"
     ]
    },
    {
     "name": "stderr",
     "output_type": "stream",
     "text": [
      "\u001b[32m[I 2021-09-11 02:46:56,968]\u001b[0m Trial 102 finished with value: 983916167.0 and parameters: {'hash_table_size': 9, 'K_START': 0.08596643249516048, 'K_END': 0.06646700779240444, 'K_H': 0.3272794037561671, 'PURCHASE_TURN_LIMIT': 814, 'ROUGH_HASH': '0', 'TARGET_BEAM_WIDTH_INCREASE_RATE': 1.771991670079004, 'TARGET_BEAM_WIDTH_HALF_PROGRES_RATE': 0.7941014120691701, 'MAX_BEAM_WIDTH': 739}. Best is trial 93 with value: 998170114.0.\u001b[0m\n"
     ]
    },
    {
     "name": "stdout",
     "output_type": "stream",
     "text": [
      "callback ok\n",
      "index_parallel=10\n",
      "sed -i 10_main.cpp -e 's/^constexpr int hash_table_size = .*;         \\/\\/ OPTIMIZE \\[9, 18\\]$/constexpr int hash_table_size = 9;         \\/\\/ OPTIMIZE [9, 18]/' -e 's/^constexpr double K_START = .*;  \\/\\/ OPTIMIZE \\[0\\.04, 0\\.2\\] LOG$/constexpr double K_START = 0.08065439549879914;  \\/\\/ OPTIMIZE [0.04, 0.2] LOG/' -e 's/^constexpr double K_END = .*;   \\/\\/ OPTIMIZE \\[0\\.03, 0\\.1\\] LOG$/constexpr double K_END = 0.06252222262224755;   \\/\\/ OPTIMIZE [0.03, 0.1] LOG/' -e 's/^constexpr double K_H = .*;      \\/\\/ OPTIMIZE \\[0\\.001, 0\\.999\\]$/constexpr double K_H = 0.25969008374735875;      \\/\\/ OPTIMIZE [0.001, 0.999]/' -e 's/^constexpr short PURCHASE_TURN_LIMIT = .*;  \\/\\/ OPTIMIZE \\[790, 870\\]$/constexpr short PURCHASE_TURN_LIMIT = 826;  \\/\\/ OPTIMIZE [790, 870]/' -e 's/^constexpr int ROUGH_HASH = .*;      \\/\\/ OPTIMIZE {0, 0b00000001, 0b00010001, 0b00010011, 0b00110011}$/constexpr int ROUGH_HASH = 0;      \\/\\/ OPTIMIZE {0, 0b00000001, 0b00010001, 0b00010011, 0b00110011}/' -e 's/^constexpr double TARGET_BEAM_WIDTH_INCREASE_RATE = .*;      \\/\\/ OPTIMIZE \\[0\\.25, 4\\.0\\] LOG$/constexpr double TARGET_BEAM_WIDTH_INCREASE_RATE = 1.0233541414458514;      \\/\\/ OPTIMIZE [0.25, 4.0] LOG/' -e 's/^constexpr double TARGET_BEAM_WIDTH_HALF_PROGRES_RATE = .*;  \\/\\/ OPTIMIZE \\[0\\.02, 0\\.98\\]$/constexpr double TARGET_BEAM_WIDTH_HALF_PROGRES_RATE = 0.6677794039779573;  \\/\\/ OPTIMIZE [0.02, 0.98]/' -e 's/^constexpr auto MAX_BEAM_WIDTH = .*;                        \\/\\/ OPTIMIZE \\[400, 4000\\] LOG$/constexpr auto MAX_BEAM_WIDTH = 1085;                        \\/\\/ OPTIMIZE [400, 4000] LOG/'\n",
      "g++ 10_main.cpp -std=gnu++17 -O2 -DONLINE_JUDGE -o 10_main.cpp.out 2> /dev/null\n"
     ]
    },
    {
     "name": "stderr",
     "output_type": "stream",
     "text": [
      "\u001b[32m[I 2021-09-11 02:46:59,482]\u001b[0m Trial 103 finished with value: 987980198.0 and parameters: {'hash_table_size': 9, 'K_START': 0.07134340111717045, 'K_END': 0.06946022316045228, 'K_H': 0.2555284757665028, 'PURCHASE_TURN_LIMIT': 821, 'ROUGH_HASH': '0', 'TARGET_BEAM_WIDTH_INCREASE_RATE': 1.7510680538559467, 'TARGET_BEAM_WIDTH_HALF_PROGRES_RATE': 0.8111484229778254, 'MAX_BEAM_WIDTH': 735}. Best is trial 93 with value: 998170114.0.\u001b[0m\n"
     ]
    },
    {
     "name": "stdout",
     "output_type": "stream",
     "text": [
      "callback ok\n",
      "index_parallel=11\n",
      "sed -i 11_main.cpp -e 's/^constexpr int hash_table_size = .*;         \\/\\/ OPTIMIZE \\[9, 18\\]$/constexpr int hash_table_size = 9;         \\/\\/ OPTIMIZE [9, 18]/' -e 's/^constexpr double K_START = .*;  \\/\\/ OPTIMIZE \\[0\\.04, 0\\.2\\] LOG$/constexpr double K_START = 0.08043108312726265;  \\/\\/ OPTIMIZE [0.04, 0.2] LOG/' -e 's/^constexpr double K_END = .*;   \\/\\/ OPTIMIZE \\[0\\.03, 0\\.1\\] LOG$/constexpr double K_END = 0.061323198914170075;   \\/\\/ OPTIMIZE [0.03, 0.1] LOG/' -e 's/^constexpr double K_H = .*;      \\/\\/ OPTIMIZE \\[0\\.001, 0\\.999\\]$/constexpr double K_H = 0.3719213503760369;      \\/\\/ OPTIMIZE [0.001, 0.999]/' -e 's/^constexpr short PURCHASE_TURN_LIMIT = .*;  \\/\\/ OPTIMIZE \\[790, 870\\]$/constexpr short PURCHASE_TURN_LIMIT = 826;  \\/\\/ OPTIMIZE [790, 870]/' -e 's/^constexpr int ROUGH_HASH = .*;      \\/\\/ OPTIMIZE {0, 0b00000001, 0b00010001, 0b00010011, 0b00110011}$/constexpr int ROUGH_HASH = 0;      \\/\\/ OPTIMIZE {0, 0b00000001, 0b00010001, 0b00010011, 0b00110011}/' -e 's/^constexpr double TARGET_BEAM_WIDTH_INCREASE_RATE = .*;      \\/\\/ OPTIMIZE \\[0\\.25, 4\\.0\\] LOG$/constexpr double TARGET_BEAM_WIDTH_INCREASE_RATE = 1.9640134887496816;      \\/\\/ OPTIMIZE [0.25, 4.0] LOG/' -e 's/^constexpr double TARGET_BEAM_WIDTH_HALF_PROGRES_RATE = .*;  \\/\\/ OPTIMIZE \\[0\\.02, 0\\.98\\]$/constexpr double TARGET_BEAM_WIDTH_HALF_PROGRES_RATE = 0.6714876305522828;  \\/\\/ OPTIMIZE [0.02, 0.98]/' -e 's/^constexpr auto MAX_BEAM_WIDTH = .*;                        \\/\\/ OPTIMIZE \\[400, 4000\\] LOG$/constexpr auto MAX_BEAM_WIDTH = 1095;                        \\/\\/ OPTIMIZE [400, 4000] LOG/'\n",
      "g++ 11_main.cpp -std=gnu++17 -O2 -DONLINE_JUDGE -o 11_main.cpp.out 2> /dev/null\n"
     ]
    },
    {
     "name": "stderr",
     "output_type": "stream",
     "text": [
      "\u001b[32m[I 2021-09-11 02:48:19,393]\u001b[0m Trial 104 finished with value: 991449408.0 and parameters: {'hash_table_size': 9, 'K_START': 0.07291452996277083, 'K_END': 0.064737498232282, 'K_H': 0.26365069169218225, 'PURCHASE_TURN_LIMIT': 826, 'ROUGH_HASH': '0', 'TARGET_BEAM_WIDTH_INCREASE_RATE': 1.7240079751045772, 'TARGET_BEAM_WIDTH_HALF_PROGRES_RATE': 0.6676382128585061, 'MAX_BEAM_WIDTH': 717}. Best is trial 93 with value: 998170114.0.\u001b[0m\n"
     ]
    },
    {
     "name": "stdout",
     "output_type": "stream",
     "text": [
      "callback ok\n",
      "index_parallel=0\n",
      "sed -i 0_main.cpp -e 's/^constexpr int hash_table_size = .*;         \\/\\/ OPTIMIZE \\[9, 18\\]$/constexpr int hash_table_size = 9;         \\/\\/ OPTIMIZE [9, 18]/' -e 's/^constexpr double K_START = .*;  \\/\\/ OPTIMIZE \\[0\\.04, 0\\.2\\] LOG$/constexpr double K_START = 0.07883696101700848;  \\/\\/ OPTIMIZE [0.04, 0.2] LOG/' -e 's/^constexpr double K_END = .*;   \\/\\/ OPTIMIZE \\[0\\.03, 0\\.1\\] LOG$/constexpr double K_END = 0.0536876743503749;   \\/\\/ OPTIMIZE [0.03, 0.1] LOG/' -e 's/^constexpr double K_H = .*;      \\/\\/ OPTIMIZE \\[0\\.001, 0\\.999\\]$/constexpr double K_H = 0.3669595081826738;      \\/\\/ OPTIMIZE [0.001, 0.999]/' -e 's/^constexpr short PURCHASE_TURN_LIMIT = .*;  \\/\\/ OPTIMIZE \\[790, 870\\]$/constexpr short PURCHASE_TURN_LIMIT = 825;  \\/\\/ OPTIMIZE [790, 870]/' -e 's/^constexpr int ROUGH_HASH = .*;      \\/\\/ OPTIMIZE {0, 0b00000001, 0b00010001, 0b00010011, 0b00110011}$/constexpr int ROUGH_HASH = 0;      \\/\\/ OPTIMIZE {0, 0b00000001, 0b00010001, 0b00010011, 0b00110011}/' -e 's/^constexpr double TARGET_BEAM_WIDTH_INCREASE_RATE = .*;      \\/\\/ OPTIMIZE \\[0\\.25, 4\\.0\\] LOG$/constexpr double TARGET_BEAM_WIDTH_INCREASE_RATE = 2.376414763153736;      \\/\\/ OPTIMIZE [0.25, 4.0] LOG/' -e 's/^constexpr double TARGET_BEAM_WIDTH_HALF_PROGRES_RATE = .*;  \\/\\/ OPTIMIZE \\[0\\.02, 0\\.98\\]$/constexpr double TARGET_BEAM_WIDTH_HALF_PROGRES_RATE = 0.738664620664066;  \\/\\/ OPTIMIZE [0.02, 0.98]/' -e 's/^constexpr auto MAX_BEAM_WIDTH = .*;                        \\/\\/ OPTIMIZE \\[400, 4000\\] LOG$/constexpr auto MAX_BEAM_WIDTH = 1089;                        \\/\\/ OPTIMIZE [400, 4000] LOG/'\n",
      "g++ 0_main.cpp -std=gnu++17 -O2 -DONLINE_JUDGE -o 0_main.cpp.out 2> /dev/null\n"
     ]
    },
    {
     "name": "stderr",
     "output_type": "stream",
     "text": [
      "\u001b[32m[I 2021-09-11 02:48:34,250]\u001b[0m Trial 105 finished with value: 989184069.0 and parameters: {'hash_table_size': 9, 'K_START': 0.08243635095547362, 'K_END': 0.0694470281215361, 'K_H': 0.2647184155174983, 'PURCHASE_TURN_LIMIT': 825, 'ROUGH_HASH': '0', 'TARGET_BEAM_WIDTH_INCREASE_RATE': 1.7324721624393764, 'TARGET_BEAM_WIDTH_HALF_PROGRES_RATE': 0.6597421139696252, 'MAX_BEAM_WIDTH': 741}. Best is trial 93 with value: 998170114.0.\u001b[0m\n"
     ]
    },
    {
     "name": "stdout",
     "output_type": "stream",
     "text": [
      "callback ok\n",
      "index_parallel=1\n",
      "sed -i 1_main.cpp -e 's/^constexpr int hash_table_size = .*;         \\/\\/ OPTIMIZE \\[9, 18\\]$/constexpr int hash_table_size = 9;         \\/\\/ OPTIMIZE [9, 18]/' -e 's/^constexpr double K_START = .*;  \\/\\/ OPTIMIZE \\[0\\.04, 0\\.2\\] LOG$/constexpr double K_START = 0.08030604534585165;  \\/\\/ OPTIMIZE [0.04, 0.2] LOG/' -e 's/^constexpr double K_END = .*;   \\/\\/ OPTIMIZE \\[0\\.03, 0\\.1\\] LOG$/constexpr double K_END = 0.06138584185921066;   \\/\\/ OPTIMIZE [0.03, 0.1] LOG/' -e 's/^constexpr double K_H = .*;      \\/\\/ OPTIMIZE \\[0\\.001, 0\\.999\\]$/constexpr double K_H = 0.35708262724650097;      \\/\\/ OPTIMIZE [0.001, 0.999]/' -e 's/^constexpr short PURCHASE_TURN_LIMIT = .*;  \\/\\/ OPTIMIZE \\[790, 870\\]$/constexpr short PURCHASE_TURN_LIMIT = 822;  \\/\\/ OPTIMIZE [790, 870]/' -e 's/^constexpr int ROUGH_HASH = .*;      \\/\\/ OPTIMIZE {0, 0b00000001, 0b00010001, 0b00010011, 0b00110011}$/constexpr int ROUGH_HASH = 0;      \\/\\/ OPTIMIZE {0, 0b00000001, 0b00010001, 0b00010011, 0b00110011}/' -e 's/^constexpr double TARGET_BEAM_WIDTH_INCREASE_RATE = .*;      \\/\\/ OPTIMIZE \\[0\\.25, 4\\.0\\] LOG$/constexpr double TARGET_BEAM_WIDTH_INCREASE_RATE = 1.5099549594745347;      \\/\\/ OPTIMIZE [0.25, 4.0] LOG/' -e 's/^constexpr double TARGET_BEAM_WIDTH_HALF_PROGRES_RATE = .*;  \\/\\/ OPTIMIZE \\[0\\.02, 0\\.98\\]$/constexpr double TARGET_BEAM_WIDTH_HALF_PROGRES_RATE = 0.7374113511368683;  \\/\\/ OPTIMIZE [0.02, 0.98]/' -e 's/^constexpr auto MAX_BEAM_WIDTH = .*;                        \\/\\/ OPTIMIZE \\[400, 4000\\] LOG$/constexpr auto MAX_BEAM_WIDTH = 1095;                        \\/\\/ OPTIMIZE [400, 4000] LOG/'\n",
      "g++ 1_main.cpp -std=gnu++17 -O2 -DONLINE_JUDGE -o 1_main.cpp.out 2> /dev/null\n"
     ]
    },
    {
     "name": "stderr",
     "output_type": "stream",
     "text": [
      "\u001b[32m[I 2021-09-11 02:48:41,808]\u001b[0m Trial 106 finished with value: 989409073.0 and parameters: {'hash_table_size': 9, 'K_START': 0.08065439549879914, 'K_END': 0.06252222262224755, 'K_H': 0.25969008374735875, 'PURCHASE_TURN_LIMIT': 826, 'ROUGH_HASH': '0', 'TARGET_BEAM_WIDTH_INCREASE_RATE': 1.0233541414458514, 'TARGET_BEAM_WIDTH_HALF_PROGRES_RATE': 0.6677794039779573, 'MAX_BEAM_WIDTH': 1085}. Best is trial 93 with value: 998170114.0.\u001b[0m\n"
     ]
    },
    {
     "name": "stdout",
     "output_type": "stream",
     "text": [
      "callback ok\n",
      "index_parallel=2\n",
      "sed -i 2_main.cpp -e 's/^constexpr int hash_table_size = .*;         \\/\\/ OPTIMIZE \\[9, 18\\]$/constexpr int hash_table_size = 9;         \\/\\/ OPTIMIZE [9, 18]/' -e 's/^constexpr double K_START = .*;  \\/\\/ OPTIMIZE \\[0\\.04, 0\\.2\\] LOG$/constexpr double K_START = 0.07948708662668495;  \\/\\/ OPTIMIZE [0.04, 0.2] LOG/' -e 's/^constexpr double K_END = .*;   \\/\\/ OPTIMIZE \\[0\\.03, 0\\.1\\] LOG$/constexpr double K_END = 0.053520204037155066;   \\/\\/ OPTIMIZE [0.03, 0.1] LOG/' -e 's/^constexpr double K_H = .*;      \\/\\/ OPTIMIZE \\[0\\.001, 0\\.999\\]$/constexpr double K_H = 0.36023334341979796;      \\/\\/ OPTIMIZE [0.001, 0.999]/' -e 's/^constexpr short PURCHASE_TURN_LIMIT = .*;  \\/\\/ OPTIMIZE \\[790, 870\\]$/constexpr short PURCHASE_TURN_LIMIT = 870;  \\/\\/ OPTIMIZE [790, 870]/' -e 's/^constexpr int ROUGH_HASH = .*;      \\/\\/ OPTIMIZE {0, 0b00000001, 0b00010001, 0b00010011, 0b00110011}$/constexpr int ROUGH_HASH = 0;      \\/\\/ OPTIMIZE {0, 0b00000001, 0b00010001, 0b00010011, 0b00110011}/' -e 's/^constexpr double TARGET_BEAM_WIDTH_INCREASE_RATE = .*;      \\/\\/ OPTIMIZE \\[0\\.25, 4\\.0\\] LOG$/constexpr double TARGET_BEAM_WIDTH_INCREASE_RATE = 1.9943246188832588;      \\/\\/ OPTIMIZE [0.25, 4.0] LOG/' -e 's/^constexpr double TARGET_BEAM_WIDTH_HALF_PROGRES_RATE = .*;  \\/\\/ OPTIMIZE \\[0\\.02, 0\\.98\\]$/constexpr double TARGET_BEAM_WIDTH_HALF_PROGRES_RATE = 0.7344970244107345;  \\/\\/ OPTIMIZE [0.02, 0.98]/' -e 's/^constexpr auto MAX_BEAM_WIDTH = .*;                        \\/\\/ OPTIMIZE \\[400, 4000\\] LOG$/constexpr auto MAX_BEAM_WIDTH = 863;                        \\/\\/ OPTIMIZE [400, 4000] LOG/'\n",
      "g++ 2_main.cpp -std=gnu++17 -O2 -DONLINE_JUDGE -o 2_main.cpp.out 2> /dev/null\n"
     ]
    },
    {
     "name": "stderr",
     "output_type": "stream",
     "text": [
      "\u001b[32m[I 2021-09-11 02:48:44,924]\u001b[0m Trial 107 finished with value: 996168627.0 and parameters: {'hash_table_size': 9, 'K_START': 0.08043108312726265, 'K_END': 0.061323198914170075, 'K_H': 0.3719213503760369, 'PURCHASE_TURN_LIMIT': 826, 'ROUGH_HASH': '0', 'TARGET_BEAM_WIDTH_INCREASE_RATE': 1.9640134887496816, 'TARGET_BEAM_WIDTH_HALF_PROGRES_RATE': 0.6714876305522828, 'MAX_BEAM_WIDTH': 1095}. Best is trial 93 with value: 998170114.0.\u001b[0m\n"
     ]
    },
    {
     "name": "stdout",
     "output_type": "stream",
     "text": [
      "callback ok\n",
      "index_parallel=3\n",
      "sed -i 3_main.cpp -e 's/^constexpr int hash_table_size = .*;         \\/\\/ OPTIMIZE \\[9, 18\\]$/constexpr int hash_table_size = 9;         \\/\\/ OPTIMIZE [9, 18]/' -e 's/^constexpr double K_START = .*;  \\/\\/ OPTIMIZE \\[0\\.04, 0\\.2\\] LOG$/constexpr double K_START = 0.08065747810984257;  \\/\\/ OPTIMIZE [0.04, 0.2] LOG/' -e 's/^constexpr double K_END = .*;   \\/\\/ OPTIMIZE \\[0\\.03, 0\\.1\\] LOG$/constexpr double K_END = 0.058231167055621785;   \\/\\/ OPTIMIZE [0.03, 0.1] LOG/' -e 's/^constexpr double K_H = .*;      \\/\\/ OPTIMIZE \\[0\\.001, 0\\.999\\]$/constexpr double K_H = 0.3673337754027709;      \\/\\/ OPTIMIZE [0.001, 0.999]/' -e 's/^constexpr short PURCHASE_TURN_LIMIT = .*;  \\/\\/ OPTIMIZE \\[790, 870\\]$/constexpr short PURCHASE_TURN_LIMIT = 822;  \\/\\/ OPTIMIZE [790, 870]/' -e 's/^constexpr int ROUGH_HASH = .*;      \\/\\/ OPTIMIZE {0, 0b00000001, 0b00010001, 0b00010011, 0b00110011}$/constexpr int ROUGH_HASH = 0;      \\/\\/ OPTIMIZE {0, 0b00000001, 0b00010001, 0b00010011, 0b00110011}/' -e 's/^constexpr double TARGET_BEAM_WIDTH_INCREASE_RATE = .*;      \\/\\/ OPTIMIZE \\[0\\.25, 4\\.0\\] LOG$/constexpr double TARGET_BEAM_WIDTH_INCREASE_RATE = 1.9997005206330625;      \\/\\/ OPTIMIZE [0.25, 4.0] LOG/' -e 's/^constexpr double TARGET_BEAM_WIDTH_HALF_PROGRES_RATE = .*;  \\/\\/ OPTIMIZE \\[0\\.02, 0\\.98\\]$/constexpr double TARGET_BEAM_WIDTH_HALF_PROGRES_RATE = 0.7509472158246561;  \\/\\/ OPTIMIZE [0.02, 0.98]/' -e 's/^constexpr auto MAX_BEAM_WIDTH = .*;                        \\/\\/ OPTIMIZE \\[400, 4000\\] LOG$/constexpr auto MAX_BEAM_WIDTH = 867;                        \\/\\/ OPTIMIZE [400, 4000] LOG/'\n",
      "g++ 3_main.cpp -std=gnu++17 -O2 -DONLINE_JUDGE -o 3_main.cpp.out 2> /dev/null\n"
     ]
    },
    {
     "name": "stderr",
     "output_type": "stream",
     "text": [
      "\u001b[32m[I 2021-09-11 02:50:04,592]\u001b[0m Trial 108 finished with value: 994119237.0 and parameters: {'hash_table_size': 9, 'K_START': 0.07883696101700848, 'K_END': 0.0536876743503749, 'K_H': 0.3669595081826738, 'PURCHASE_TURN_LIMIT': 825, 'ROUGH_HASH': '0', 'TARGET_BEAM_WIDTH_INCREASE_RATE': 2.376414763153736, 'TARGET_BEAM_WIDTH_HALF_PROGRES_RATE': 0.738664620664066, 'MAX_BEAM_WIDTH': 1089}. Best is trial 93 with value: 998170114.0.\u001b[0m\n"
     ]
    },
    {
     "name": "stdout",
     "output_type": "stream",
     "text": [
      "callback ok\n",
      "index_parallel=4\n",
      "sed -i 4_main.cpp -e 's/^constexpr int hash_table_size = .*;         \\/\\/ OPTIMIZE \\[9, 18\\]$/constexpr int hash_table_size = 9;         \\/\\/ OPTIMIZE [9, 18]/' -e 's/^constexpr double K_START = .*;  \\/\\/ OPTIMIZE \\[0\\.04, 0\\.2\\] LOG$/constexpr double K_START = 0.08107850270294474;  \\/\\/ OPTIMIZE [0.04, 0.2] LOG/' -e 's/^constexpr double K_END = .*;   \\/\\/ OPTIMIZE \\[0\\.03, 0\\.1\\] LOG$/constexpr double K_END = 0.059343015804650324;   \\/\\/ OPTIMIZE [0.03, 0.1] LOG/' -e 's/^constexpr double K_H = .*;      \\/\\/ OPTIMIZE \\[0\\.001, 0\\.999\\]$/constexpr double K_H = 0.36850542547111664;      \\/\\/ OPTIMIZE [0.001, 0.999]/' -e 's/^constexpr short PURCHASE_TURN_LIMIT = .*;  \\/\\/ OPTIMIZE \\[790, 870\\]$/constexpr short PURCHASE_TURN_LIMIT = 829;  \\/\\/ OPTIMIZE [790, 870]/' -e 's/^constexpr int ROUGH_HASH = .*;      \\/\\/ OPTIMIZE {0, 0b00000001, 0b00010001, 0b00010011, 0b00110011}$/constexpr int ROUGH_HASH = 0;      \\/\\/ OPTIMIZE {0, 0b00000001, 0b00010001, 0b00010011, 0b00110011}/' -e 's/^constexpr double TARGET_BEAM_WIDTH_INCREASE_RATE = .*;      \\/\\/ OPTIMIZE \\[0\\.25, 4\\.0\\] LOG$/constexpr double TARGET_BEAM_WIDTH_INCREASE_RATE = 1.5036460866389483;      \\/\\/ OPTIMIZE [0.25, 4.0] LOG/' -e 's/^constexpr double TARGET_BEAM_WIDTH_HALF_PROGRES_RATE = .*;  \\/\\/ OPTIMIZE \\[0\\.02, 0\\.98\\]$/constexpr double TARGET_BEAM_WIDTH_HALF_PROGRES_RATE = 0.7302573027054178;  \\/\\/ OPTIMIZE [0.02, 0.98]/' -e 's/^constexpr auto MAX_BEAM_WIDTH = .*;                        \\/\\/ OPTIMIZE \\[400, 4000\\] LOG$/constexpr auto MAX_BEAM_WIDTH = 805;                        \\/\\/ OPTIMIZE [400, 4000] LOG/'\n",
      "g++ 4_main.cpp -std=gnu++17 -O2 -DONLINE_JUDGE -o 4_main.cpp.out 2> /dev/null\n"
     ]
    },
    {
     "name": "stderr",
     "output_type": "stream",
     "text": [
      "\u001b[32m[I 2021-09-11 02:50:19,940]\u001b[0m Trial 109 finished with value: 993619506.0 and parameters: {'hash_table_size': 9, 'K_START': 0.08030604534585165, 'K_END': 0.06138584185921066, 'K_H': 0.35708262724650097, 'PURCHASE_TURN_LIMIT': 822, 'ROUGH_HASH': '0', 'TARGET_BEAM_WIDTH_INCREASE_RATE': 1.5099549594745347, 'TARGET_BEAM_WIDTH_HALF_PROGRES_RATE': 0.7374113511368683, 'MAX_BEAM_WIDTH': 1095}. Best is trial 93 with value: 998170114.0.\u001b[0m\n"
     ]
    },
    {
     "name": "stdout",
     "output_type": "stream",
     "text": [
      "callback ok\n",
      "index_parallel=5\n",
      "sed -i 5_main.cpp -e 's/^constexpr int hash_table_size = .*;         \\/\\/ OPTIMIZE \\[9, 18\\]$/constexpr int hash_table_size = 9;         \\/\\/ OPTIMIZE [9, 18]/' -e 's/^constexpr double K_START = .*;  \\/\\/ OPTIMIZE \\[0\\.04, 0\\.2\\] LOG$/constexpr double K_START = 0.08008963467998552;  \\/\\/ OPTIMIZE [0.04, 0.2] LOG/' -e 's/^constexpr double K_END = .*;   \\/\\/ OPTIMIZE \\[0\\.03, 0\\.1\\] LOG$/constexpr double K_END = 0.05765598012602705;   \\/\\/ OPTIMIZE [0.03, 0.1] LOG/' -e 's/^constexpr double K_H = .*;      \\/\\/ OPTIMIZE \\[0\\.001, 0\\.999\\]$/constexpr double K_H = 0.3675012108164444;      \\/\\/ OPTIMIZE [0.001, 0.999]/' -e 's/^constexpr short PURCHASE_TURN_LIMIT = .*;  \\/\\/ OPTIMIZE \\[790, 870\\]$/constexpr short PURCHASE_TURN_LIMIT = 823;  \\/\\/ OPTIMIZE [790, 870]/' -e 's/^constexpr int ROUGH_HASH = .*;      \\/\\/ OPTIMIZE {0, 0b00000001, 0b00010001, 0b00010011, 0b00110011}$/constexpr int ROUGH_HASH = 0;      \\/\\/ OPTIMIZE {0, 0b00000001, 0b00010001, 0b00010011, 0b00110011}/' -e 's/^constexpr double TARGET_BEAM_WIDTH_INCREASE_RATE = .*;      \\/\\/ OPTIMIZE \\[0\\.25, 4\\.0\\] LOG$/constexpr double TARGET_BEAM_WIDTH_INCREASE_RATE = 2.526637587108958;      \\/\\/ OPTIMIZE [0.25, 4.0] LOG/' -e 's/^constexpr double TARGET_BEAM_WIDTH_HALF_PROGRES_RATE = .*;  \\/\\/ OPTIMIZE \\[0\\.02, 0\\.98\\]$/constexpr double TARGET_BEAM_WIDTH_HALF_PROGRES_RATE = 0.7311024841395783;  \\/\\/ OPTIMIZE [0.02, 0.98]/' -e 's/^constexpr auto MAX_BEAM_WIDTH = .*;                        \\/\\/ OPTIMIZE \\[400, 4000\\] LOG$/constexpr auto MAX_BEAM_WIDTH = 874;                        \\/\\/ OPTIMIZE [400, 4000] LOG/'\n",
      "g++ 5_main.cpp -std=gnu++17 -O2 -DONLINE_JUDGE -o 5_main.cpp.out 2> /dev/null\n"
     ]
    },
    {
     "name": "stderr",
     "output_type": "stream",
     "text": [
      "\u001b[32m[I 2021-09-11 02:50:28,080]\u001b[0m Trial 110 finished with value: 968242799.0 and parameters: {'hash_table_size': 9, 'K_START': 0.07948708662668495, 'K_END': 0.053520204037155066, 'K_H': 0.36023334341979796, 'PURCHASE_TURN_LIMIT': 870, 'ROUGH_HASH': '0', 'TARGET_BEAM_WIDTH_INCREASE_RATE': 1.9943246188832588, 'TARGET_BEAM_WIDTH_HALF_PROGRES_RATE': 0.7344970244107345, 'MAX_BEAM_WIDTH': 863}. Best is trial 93 with value: 998170114.0.\u001b[0m\n"
     ]
    },
    {
     "name": "stdout",
     "output_type": "stream",
     "text": [
      "callback ok\n",
      "index_parallel=6\n",
      "sed -i 6_main.cpp -e 's/^constexpr int hash_table_size = .*;         \\/\\/ OPTIMIZE \\[9, 18\\]$/constexpr int hash_table_size = 9;         \\/\\/ OPTIMIZE [9, 18]/' -e 's/^constexpr double K_START = .*;  \\/\\/ OPTIMIZE \\[0\\.04, 0\\.2\\] LOG$/constexpr double K_START = 0.08953154048532878;  \\/\\/ OPTIMIZE [0.04, 0.2] LOG/' -e 's/^constexpr double K_END = .*;   \\/\\/ OPTIMIZE \\[0\\.03, 0\\.1\\] LOG$/constexpr double K_END = 0.05895788866110778;   \\/\\/ OPTIMIZE [0.03, 0.1] LOG/' -e 's/^constexpr double K_H = .*;      \\/\\/ OPTIMIZE \\[0\\.001, 0\\.999\\]$/constexpr double K_H = 0.37070100808716727;      \\/\\/ OPTIMIZE [0.001, 0.999]/' -e 's/^constexpr short PURCHASE_TURN_LIMIT = .*;  \\/\\/ OPTIMIZE \\[790, 870\\]$/constexpr short PURCHASE_TURN_LIMIT = 828;  \\/\\/ OPTIMIZE [790, 870]/' -e 's/^constexpr int ROUGH_HASH = .*;      \\/\\/ OPTIMIZE {0, 0b00000001, 0b00010001, 0b00010011, 0b00110011}$/constexpr int ROUGH_HASH = 0;      \\/\\/ OPTIMIZE {0, 0b00000001, 0b00010001, 0b00010011, 0b00110011}/' -e 's/^constexpr double TARGET_BEAM_WIDTH_INCREASE_RATE = .*;      \\/\\/ OPTIMIZE \\[0\\.25, 4\\.0\\] LOG$/constexpr double TARGET_BEAM_WIDTH_INCREASE_RATE = 2.2942520366496533;      \\/\\/ OPTIMIZE [0.25, 4.0] LOG/' -e 's/^constexpr double TARGET_BEAM_WIDTH_HALF_PROGRES_RATE = .*;  \\/\\/ OPTIMIZE \\[0\\.02, 0\\.98\\]$/constexpr double TARGET_BEAM_WIDTH_HALF_PROGRES_RATE = 0.7710397691783547;  \\/\\/ OPTIMIZE [0.02, 0.98]/' -e 's/^constexpr auto MAX_BEAM_WIDTH = .*;                        \\/\\/ OPTIMIZE \\[400, 4000\\] LOG$/constexpr auto MAX_BEAM_WIDTH = 960;                        \\/\\/ OPTIMIZE [400, 4000] LOG/'\n",
      "g++ 6_main.cpp -std=gnu++17 -O2 -DONLINE_JUDGE -o 6_main.cpp.out 2> /dev/null\n"
     ]
    },
    {
     "name": "stderr",
     "output_type": "stream",
     "text": [
      "\u001b[32m[I 2021-09-11 02:50:30,408]\u001b[0m Trial 111 finished with value: 992707053.0 and parameters: {'hash_table_size': 9, 'K_START': 0.08065747810984257, 'K_END': 0.058231167055621785, 'K_H': 0.3673337754027709, 'PURCHASE_TURN_LIMIT': 822, 'ROUGH_HASH': '0', 'TARGET_BEAM_WIDTH_INCREASE_RATE': 1.9997005206330625, 'TARGET_BEAM_WIDTH_HALF_PROGRES_RATE': 0.7509472158246561, 'MAX_BEAM_WIDTH': 867}. Best is trial 93 with value: 998170114.0.\u001b[0m\n"
     ]
    },
    {
     "name": "stdout",
     "output_type": "stream",
     "text": [
      "callback ok\n",
      "index_parallel=7\n",
      "sed -i 7_main.cpp -e 's/^constexpr int hash_table_size = .*;         \\/\\/ OPTIMIZE \\[9, 18\\]$/constexpr int hash_table_size = 9;         \\/\\/ OPTIMIZE [9, 18]/' -e 's/^constexpr double K_START = .*;  \\/\\/ OPTIMIZE \\[0\\.04, 0\\.2\\] LOG$/constexpr double K_START = 0.06865455233143479;  \\/\\/ OPTIMIZE [0.04, 0.2] LOG/' -e 's/^constexpr double K_END = .*;   \\/\\/ OPTIMIZE \\[0\\.03, 0\\.1\\] LOG$/constexpr double K_END = 0.06044928913180263;   \\/\\/ OPTIMIZE [0.03, 0.1] LOG/' -e 's/^constexpr double K_H = .*;      \\/\\/ OPTIMIZE \\[0\\.001, 0\\.999\\]$/constexpr double K_H = 0.397463045582165;      \\/\\/ OPTIMIZE [0.001, 0.999]/' -e 's/^constexpr short PURCHASE_TURN_LIMIT = .*;  \\/\\/ OPTIMIZE \\[790, 870\\]$/constexpr short PURCHASE_TURN_LIMIT = 829;  \\/\\/ OPTIMIZE [790, 870]/' -e 's/^constexpr int ROUGH_HASH = .*;      \\/\\/ OPTIMIZE {0, 0b00000001, 0b00010001, 0b00010011, 0b00110011}$/constexpr int ROUGH_HASH = 0;      \\/\\/ OPTIMIZE {0, 0b00000001, 0b00010001, 0b00010011, 0b00110011}/' -e 's/^constexpr double TARGET_BEAM_WIDTH_INCREASE_RATE = .*;      \\/\\/ OPTIMIZE \\[0\\.25, 4\\.0\\] LOG$/constexpr double TARGET_BEAM_WIDTH_INCREASE_RATE = 2.517199477833161;      \\/\\/ OPTIMIZE [0.25, 4.0] LOG/' -e 's/^constexpr double TARGET_BEAM_WIDTH_HALF_PROGRES_RATE = .*;  \\/\\/ OPTIMIZE \\[0\\.02, 0\\.98\\]$/constexpr double TARGET_BEAM_WIDTH_HALF_PROGRES_RATE = 0.6837707474397555;  \\/\\/ OPTIMIZE [0.02, 0.98]/' -e 's/^constexpr auto MAX_BEAM_WIDTH = .*;                        \\/\\/ OPTIMIZE \\[400, 4000\\] LOG$/constexpr auto MAX_BEAM_WIDTH = 953;                        \\/\\/ OPTIMIZE [400, 4000] LOG/'\n",
      "g++ 7_main.cpp -std=gnu++17 -O2 -DONLINE_JUDGE -o 7_main.cpp.out 2> /dev/null\n"
     ]
    },
    {
     "name": "stderr",
     "output_type": "stream",
     "text": [
      "\u001b[32m[I 2021-09-11 02:51:49,899]\u001b[0m Trial 112 finished with value: 994005796.0 and parameters: {'hash_table_size': 9, 'K_START': 0.08107850270294474, 'K_END': 0.059343015804650324, 'K_H': 0.36850542547111664, 'PURCHASE_TURN_LIMIT': 829, 'ROUGH_HASH': '0', 'TARGET_BEAM_WIDTH_INCREASE_RATE': 1.5036460866389483, 'TARGET_BEAM_WIDTH_HALF_PROGRES_RATE': 0.7302573027054178, 'MAX_BEAM_WIDTH': 805}. Best is trial 93 with value: 998170114.0.\u001b[0m\n"
     ]
    },
    {
     "name": "stdout",
     "output_type": "stream",
     "text": [
      "callback ok\n",
      "index_parallel=8\n",
      "sed -i 8_main.cpp -e 's/^constexpr int hash_table_size = .*;         \\/\\/ OPTIMIZE \\[9, 18\\]$/constexpr int hash_table_size = 9;         \\/\\/ OPTIMIZE [9, 18]/' -e 's/^constexpr double K_START = .*;  \\/\\/ OPTIMIZE \\[0\\.04, 0\\.2\\] LOG$/constexpr double K_START = 0.06903746230493653;  \\/\\/ OPTIMIZE [0.04, 0.2] LOG/' -e 's/^constexpr double K_END = .*;   \\/\\/ OPTIMIZE \\[0\\.03, 0\\.1\\] LOG$/constexpr double K_END = 0.059873397175360575;   \\/\\/ OPTIMIZE [0.03, 0.1] LOG/' -e 's/^constexpr double K_H = .*;      \\/\\/ OPTIMIZE \\[0\\.001, 0\\.999\\]$/constexpr double K_H = 0.3960725874837821;      \\/\\/ OPTIMIZE [0.001, 0.999]/' -e 's/^constexpr short PURCHASE_TURN_LIMIT = .*;  \\/\\/ OPTIMIZE \\[790, 870\\]$/constexpr short PURCHASE_TURN_LIMIT = 829;  \\/\\/ OPTIMIZE [790, 870]/' -e 's/^constexpr int ROUGH_HASH = .*;      \\/\\/ OPTIMIZE {0, 0b00000001, 0b00010001, 0b00010011, 0b00110011}$/constexpr int ROUGH_HASH = 0;      \\/\\/ OPTIMIZE {0, 0b00000001, 0b00010001, 0b00010011, 0b00110011}/' -e 's/^constexpr double TARGET_BEAM_WIDTH_INCREASE_RATE = .*;      \\/\\/ OPTIMIZE \\[0\\.25, 4\\.0\\] LOG$/constexpr double TARGET_BEAM_WIDTH_INCREASE_RATE = 2.5202686383778974;      \\/\\/ OPTIMIZE [0.25, 4.0] LOG/' -e 's/^constexpr double TARGET_BEAM_WIDTH_HALF_PROGRES_RATE = .*;  \\/\\/ OPTIMIZE \\[0\\.02, 0\\.98\\]$/constexpr double TARGET_BEAM_WIDTH_HALF_PROGRES_RATE = 0.7261950208587116;  \\/\\/ OPTIMIZE [0.02, 0.98]/' -e 's/^constexpr auto MAX_BEAM_WIDTH = .*;                        \\/\\/ OPTIMIZE \\[400, 4000\\] LOG$/constexpr auto MAX_BEAM_WIDTH = 806;                        \\/\\/ OPTIMIZE [400, 4000] LOG/'\n",
      "g++ 8_main.cpp -std=gnu++17 -O2 -DONLINE_JUDGE -o 8_main.cpp.out 2> /dev/null\n"
     ]
    },
    {
     "name": "stderr",
     "output_type": "stream",
     "text": [
      "\u001b[32m[I 2021-09-11 02:52:05,393]\u001b[0m Trial 113 finished with value: 993554683.0 and parameters: {'hash_table_size': 9, 'K_START': 0.08008963467998552, 'K_END': 0.05765598012602705, 'K_H': 0.3675012108164444, 'PURCHASE_TURN_LIMIT': 823, 'ROUGH_HASH': '0', 'TARGET_BEAM_WIDTH_INCREASE_RATE': 2.526637587108958, 'TARGET_BEAM_WIDTH_HALF_PROGRES_RATE': 0.7311024841395783, 'MAX_BEAM_WIDTH': 874}. Best is trial 93 with value: 998170114.0.\u001b[0m\n"
     ]
    },
    {
     "name": "stdout",
     "output_type": "stream",
     "text": [
      "callback ok\n",
      "index_parallel=9\n",
      "sed -i 9_main.cpp -e 's/^constexpr int hash_table_size = .*;         \\/\\/ OPTIMIZE \\[9, 18\\]$/constexpr int hash_table_size = 9;         \\/\\/ OPTIMIZE [9, 18]/' -e 's/^constexpr double K_START = .*;  \\/\\/ OPTIMIZE \\[0\\.04, 0\\.2\\] LOG$/constexpr double K_START = 0.06693221179553076;  \\/\\/ OPTIMIZE [0.04, 0.2] LOG/' -e 's/^constexpr double K_END = .*;   \\/\\/ OPTIMIZE \\[0\\.03, 0\\.1\\] LOG$/constexpr double K_END = 0.05978540193306843;   \\/\\/ OPTIMIZE [0.03, 0.1] LOG/' -e 's/^constexpr double K_H = .*;      \\/\\/ OPTIMIZE \\[0\\.001, 0\\.999\\]$/constexpr double K_H = 0.404876225019802;      \\/\\/ OPTIMIZE [0.001, 0.999]/' -e 's/^constexpr short PURCHASE_TURN_LIMIT = .*;  \\/\\/ OPTIMIZE \\[790, 870\\]$/constexpr short PURCHASE_TURN_LIMIT = 829;  \\/\\/ OPTIMIZE [790, 870]/' -e 's/^constexpr int ROUGH_HASH = .*;      \\/\\/ OPTIMIZE {0, 0b00000001, 0b00010001, 0b00010011, 0b00110011}$/constexpr int ROUGH_HASH = 0;      \\/\\/ OPTIMIZE {0, 0b00000001, 0b00010001, 0b00010011, 0b00110011}/' -e 's/^constexpr double TARGET_BEAM_WIDTH_INCREASE_RATE = .*;      \\/\\/ OPTIMIZE \\[0\\.25, 4\\.0\\] LOG$/constexpr double TARGET_BEAM_WIDTH_INCREASE_RATE = 2.3700636598367635;      \\/\\/ OPTIMIZE [0.25, 4.0] LOG/' -e 's/^constexpr double TARGET_BEAM_WIDTH_HALF_PROGRES_RATE = .*;  \\/\\/ OPTIMIZE \\[0\\.02, 0\\.98\\]$/constexpr double TARGET_BEAM_WIDTH_HALF_PROGRES_RATE = 0.7677835226658531;  \\/\\/ OPTIMIZE [0.02, 0.98]/' -e 's/^constexpr auto MAX_BEAM_WIDTH = .*;                        \\/\\/ OPTIMIZE \\[400, 4000\\] LOG$/constexpr auto MAX_BEAM_WIDTH = 794;                        \\/\\/ OPTIMIZE [400, 4000] LOG/'\n",
      "g++ 9_main.cpp -std=gnu++17 -O2 -DONLINE_JUDGE -o 9_main.cpp.out 2> /dev/null\n"
     ]
    },
    {
     "name": "stderr",
     "output_type": "stream",
     "text": [
      "\u001b[32m[I 2021-09-11 02:52:13,034]\u001b[0m Trial 114 finished with value: 992560411.0 and parameters: {'hash_table_size': 9, 'K_START': 0.08953154048532878, 'K_END': 0.05895788866110778, 'K_H': 0.37070100808716727, 'PURCHASE_TURN_LIMIT': 828, 'ROUGH_HASH': '0', 'TARGET_BEAM_WIDTH_INCREASE_RATE': 2.2942520366496533, 'TARGET_BEAM_WIDTH_HALF_PROGRES_RATE': 0.7710397691783547, 'MAX_BEAM_WIDTH': 960}. Best is trial 93 with value: 998170114.0.\u001b[0m\n"
     ]
    },
    {
     "name": "stdout",
     "output_type": "stream",
     "text": [
      "callback ok\n",
      "index_parallel=10\n",
      "sed -i 10_main.cpp -e 's/^constexpr int hash_table_size = .*;         \\/\\/ OPTIMIZE \\[9, 18\\]$/constexpr int hash_table_size = 9;         \\/\\/ OPTIMIZE [9, 18]/' -e 's/^constexpr double K_START = .*;  \\/\\/ OPTIMIZE \\[0\\.04, 0\\.2\\] LOG$/constexpr double K_START = 0.08305091707088341;  \\/\\/ OPTIMIZE [0.04, 0.2] LOG/' -e 's/^constexpr double K_END = .*;   \\/\\/ OPTIMIZE \\[0\\.03, 0\\.1\\] LOG$/constexpr double K_END = 0.059967561393376154;   \\/\\/ OPTIMIZE [0.03, 0.1] LOG/' -e 's/^constexpr double K_H = .*;      \\/\\/ OPTIMIZE \\[0\\.001, 0\\.999\\]$/constexpr double K_H = 0.4071594119885012;      \\/\\/ OPTIMIZE [0.001, 0.999]/' -e 's/^constexpr short PURCHASE_TURN_LIMIT = .*;  \\/\\/ OPTIMIZE \\[790, 870\\]$/constexpr short PURCHASE_TURN_LIMIT = 829;  \\/\\/ OPTIMIZE [790, 870]/' -e 's/^constexpr int ROUGH_HASH = .*;      \\/\\/ OPTIMIZE {0, 0b00000001, 0b00010001, 0b00010011, 0b00110011}$/constexpr int ROUGH_HASH = 0;      \\/\\/ OPTIMIZE {0, 0b00000001, 0b00010001, 0b00010011, 0b00110011}/' -e 's/^constexpr double TARGET_BEAM_WIDTH_INCREASE_RATE = .*;      \\/\\/ OPTIMIZE \\[0\\.25, 4\\.0\\] LOG$/constexpr double TARGET_BEAM_WIDTH_INCREASE_RATE = 2.3914095264595723;      \\/\\/ OPTIMIZE [0.25, 4.0] LOG/' -e 's/^constexpr double TARGET_BEAM_WIDTH_HALF_PROGRES_RATE = .*;  \\/\\/ OPTIMIZE \\[0\\.02, 0\\.98\\]$/constexpr double TARGET_BEAM_WIDTH_HALF_PROGRES_RATE = 0.8532831605804542;  \\/\\/ OPTIMIZE [0.02, 0.98]/' -e 's/^constexpr auto MAX_BEAM_WIDTH = .*;                        \\/\\/ OPTIMIZE \\[400, 4000\\] LOG$/constexpr auto MAX_BEAM_WIDTH = 951;                        \\/\\/ OPTIMIZE [400, 4000] LOG/'\n",
      "g++ 10_main.cpp -std=gnu++17 -O2 -DONLINE_JUDGE -o 10_main.cpp.out 2> /dev/null\n"
     ]
    },
    {
     "name": "stderr",
     "output_type": "stream",
     "text": [
      "\u001b[32m[I 2021-09-11 02:52:16,023]\u001b[0m Trial 115 finished with value: 995719428.0 and parameters: {'hash_table_size': 9, 'K_START': 0.06865455233143479, 'K_END': 0.06044928913180263, 'K_H': 0.397463045582165, 'PURCHASE_TURN_LIMIT': 829, 'ROUGH_HASH': '0', 'TARGET_BEAM_WIDTH_INCREASE_RATE': 2.517199477833161, 'TARGET_BEAM_WIDTH_HALF_PROGRES_RATE': 0.6837707474397555, 'MAX_BEAM_WIDTH': 953}. Best is trial 93 with value: 998170114.0.\u001b[0m\n"
     ]
    },
    {
     "name": "stdout",
     "output_type": "stream",
     "text": [
      "callback ok\n",
      "index_parallel=11\n",
      "sed -i 11_main.cpp -e 's/^constexpr int hash_table_size = .*;         \\/\\/ OPTIMIZE \\[9, 18\\]$/constexpr int hash_table_size = 9;         \\/\\/ OPTIMIZE [9, 18]/' -e 's/^constexpr double K_START = .*;  \\/\\/ OPTIMIZE \\[0\\.04, 0\\.2\\] LOG$/constexpr double K_START = 0.05718870098242116;  \\/\\/ OPTIMIZE [0.04, 0.2] LOG/' -e 's/^constexpr double K_END = .*;   \\/\\/ OPTIMIZE \\[0\\.03, 0\\.1\\] LOG$/constexpr double K_END = 0.05678093377434586;   \\/\\/ OPTIMIZE [0.03, 0.1] LOG/' -e 's/^constexpr double K_H = .*;      \\/\\/ OPTIMIZE \\[0\\.001, 0\\.999\\]$/constexpr double K_H = 0.4093913466466393;      \\/\\/ OPTIMIZE [0.001, 0.999]/' -e 's/^constexpr short PURCHASE_TURN_LIMIT = .*;  \\/\\/ OPTIMIZE \\[790, 870\\]$/constexpr short PURCHASE_TURN_LIMIT = 830;  \\/\\/ OPTIMIZE [790, 870]/' -e 's/^constexpr int ROUGH_HASH = .*;      \\/\\/ OPTIMIZE {0, 0b00000001, 0b00010001, 0b00010011, 0b00110011}$/constexpr int ROUGH_HASH = 0;      \\/\\/ OPTIMIZE {0, 0b00000001, 0b00010001, 0b00010011, 0b00110011}/' -e 's/^constexpr double TARGET_BEAM_WIDTH_INCREASE_RATE = .*;      \\/\\/ OPTIMIZE \\[0\\.25, 4\\.0\\] LOG$/constexpr double TARGET_BEAM_WIDTH_INCREASE_RATE = 2.3659759093657327;      \\/\\/ OPTIMIZE [0.25, 4.0] LOG/' -e 's/^constexpr double TARGET_BEAM_WIDTH_HALF_PROGRES_RATE = .*;  \\/\\/ OPTIMIZE \\[0\\.02, 0\\.98\\]$/constexpr double TARGET_BEAM_WIDTH_HALF_PROGRES_RATE = 0.6944866388582864;  \\/\\/ OPTIMIZE [0.02, 0.98]/' -e 's/^constexpr auto MAX_BEAM_WIDTH = .*;                        \\/\\/ OPTIMIZE \\[400, 4000\\] LOG$/constexpr auto MAX_BEAM_WIDTH = 936;                        \\/\\/ OPTIMIZE [400, 4000] LOG/'\n",
      "g++ 11_main.cpp -std=gnu++17 -O2 -DONLINE_JUDGE -o 11_main.cpp.out 2> /dev/null\n"
     ]
    },
    {
     "name": "stderr",
     "output_type": "stream",
     "text": [
      "\u001b[32m[I 2021-09-11 02:53:35,321]\u001b[0m Trial 116 finished with value: 997303007.0 and parameters: {'hash_table_size': 9, 'K_START': 0.06903746230493653, 'K_END': 0.059873397175360575, 'K_H': 0.3960725874837821, 'PURCHASE_TURN_LIMIT': 829, 'ROUGH_HASH': '0', 'TARGET_BEAM_WIDTH_INCREASE_RATE': 2.5202686383778974, 'TARGET_BEAM_WIDTH_HALF_PROGRES_RATE': 0.7261950208587116, 'MAX_BEAM_WIDTH': 806}. Best is trial 93 with value: 998170114.0.\u001b[0m\n"
     ]
    },
    {
     "name": "stdout",
     "output_type": "stream",
     "text": [
      "callback ok\n",
      "index_parallel=0\n",
      "sed -i 0_main.cpp -e 's/^constexpr int hash_table_size = .*;         \\/\\/ OPTIMIZE \\[9, 18\\]$/constexpr int hash_table_size = 9;         \\/\\/ OPTIMIZE [9, 18]/' -e 's/^constexpr double K_START = .*;  \\/\\/ OPTIMIZE \\[0\\.04, 0\\.2\\] LOG$/constexpr double K_START = 0.06846175949055881;  \\/\\/ OPTIMIZE [0.04, 0.2] LOG/' -e 's/^constexpr double K_END = .*;   \\/\\/ OPTIMIZE \\[0\\.03, 0\\.1\\] LOG$/constexpr double K_END = 0.06175894384389138;   \\/\\/ OPTIMIZE [0.03, 0.1] LOG/' -e 's/^constexpr double K_H = .*;      \\/\\/ OPTIMIZE \\[0\\.001, 0\\.999\\]$/constexpr double K_H = 0.39953729193218646;      \\/\\/ OPTIMIZE [0.001, 0.999]/' -e 's/^constexpr short PURCHASE_TURN_LIMIT = .*;  \\/\\/ OPTIMIZE \\[790, 870\\]$/constexpr short PURCHASE_TURN_LIMIT = 833;  \\/\\/ OPTIMIZE [790, 870]/' -e 's/^constexpr int ROUGH_HASH = .*;      \\/\\/ OPTIMIZE {0, 0b00000001, 0b00010001, 0b00010011, 0b00110011}$/constexpr int ROUGH_HASH = 0b00010011;      \\/\\/ OPTIMIZE {0, 0b00000001, 0b00010001, 0b00010011, 0b00110011}/' -e 's/^constexpr double TARGET_BEAM_WIDTH_INCREASE_RATE = .*;      \\/\\/ OPTIMIZE \\[0\\.25, 4\\.0\\] LOG$/constexpr double TARGET_BEAM_WIDTH_INCREASE_RATE = 2.6816746829256117;      \\/\\/ OPTIMIZE [0.25, 4.0] LOG/' -e 's/^constexpr double TARGET_BEAM_WIDTH_HALF_PROGRES_RATE = .*;  \\/\\/ OPTIMIZE \\[0\\.02, 0\\.98\\]$/constexpr double TARGET_BEAM_WIDTH_HALF_PROGRES_RATE = 0.6881354169288779;  \\/\\/ OPTIMIZE [0.02, 0.98]/' -e 's/^constexpr auto MAX_BEAM_WIDTH = .*;                        \\/\\/ OPTIMIZE \\[400, 4000\\] LOG$/constexpr auto MAX_BEAM_WIDTH = 646;                        \\/\\/ OPTIMIZE [400, 4000] LOG/'\n",
      "g++ 0_main.cpp -std=gnu++17 -O2 -DONLINE_JUDGE -o 0_main.cpp.out 2> /dev/null\n"
     ]
    },
    {
     "name": "stderr",
     "output_type": "stream",
     "text": [
      "\u001b[32m[I 2021-09-11 02:53:50,779]\u001b[0m Trial 117 finished with value: 996953102.0 and parameters: {'hash_table_size': 9, 'K_START': 0.06693221179553076, 'K_END': 0.05978540193306843, 'K_H': 0.404876225019802, 'PURCHASE_TURN_LIMIT': 829, 'ROUGH_HASH': '0', 'TARGET_BEAM_WIDTH_INCREASE_RATE': 2.3700636598367635, 'TARGET_BEAM_WIDTH_HALF_PROGRES_RATE': 0.7677835226658531, 'MAX_BEAM_WIDTH': 794}. Best is trial 93 with value: 998170114.0.\u001b[0m\n"
     ]
    },
    {
     "name": "stdout",
     "output_type": "stream",
     "text": [
      "callback ok\n",
      "index_parallel=1\n",
      "sed -i 1_main.cpp -e 's/^constexpr int hash_table_size = .*;         \\/\\/ OPTIMIZE \\[9, 18\\]$/constexpr int hash_table_size = 9;         \\/\\/ OPTIMIZE [9, 18]/' -e 's/^constexpr double K_START = .*;  \\/\\/ OPTIMIZE \\[0\\.04, 0\\.2\\] LOG$/constexpr double K_START = 0.06006207907115921;  \\/\\/ OPTIMIZE [0.04, 0.2] LOG/' -e 's/^constexpr double K_END = .*;   \\/\\/ OPTIMIZE \\[0\\.03, 0\\.1\\] LOG$/constexpr double K_END = 0.06098118439044822;   \\/\\/ OPTIMIZE [0.03, 0.1] LOG/' -e 's/^constexpr double K_H = .*;      \\/\\/ OPTIMIZE \\[0\\.001, 0\\.999\\]$/constexpr double K_H = 0.42858406369050994;      \\/\\/ OPTIMIZE [0.001, 0.999]/' -e 's/^constexpr short PURCHASE_TURN_LIMIT = .*;  \\/\\/ OPTIMIZE \\[790, 870\\]$/constexpr short PURCHASE_TURN_LIMIT = 830;  \\/\\/ OPTIMIZE [790, 870]/' -e 's/^constexpr int ROUGH_HASH = .*;      \\/\\/ OPTIMIZE {0, 0b00000001, 0b00010001, 0b00010011, 0b00110011}$/constexpr int ROUGH_HASH = 0b00010011;      \\/\\/ OPTIMIZE {0, 0b00000001, 0b00010001, 0b00010011, 0b00110011}/' -e 's/^constexpr double TARGET_BEAM_WIDTH_INCREASE_RATE = .*;      \\/\\/ OPTIMIZE \\[0\\.25, 4\\.0\\] LOG$/constexpr double TARGET_BEAM_WIDTH_INCREASE_RATE = 2.7049997673636996;      \\/\\/ OPTIMIZE [0.25, 4.0] LOG/' -e 's/^constexpr double TARGET_BEAM_WIDTH_HALF_PROGRES_RATE = .*;  \\/\\/ OPTIMIZE \\[0\\.02, 0\\.98\\]$/constexpr double TARGET_BEAM_WIDTH_HALF_PROGRES_RATE = 0.8924225616136288;  \\/\\/ OPTIMIZE [0.02, 0.98]/' -e 's/^constexpr auto MAX_BEAM_WIDTH = .*;                        \\/\\/ OPTIMIZE \\[400, 4000\\] LOG$/constexpr auto MAX_BEAM_WIDTH = 643;                        \\/\\/ OPTIMIZE [400, 4000] LOG/'\n",
      "g++ 1_main.cpp -std=gnu++17 -O2 -DONLINE_JUDGE -o 1_main.cpp.out 2> /dev/null\n"
     ]
    },
    {
     "name": "stderr",
     "output_type": "stream",
     "text": [
      "\u001b[32m[I 2021-09-11 02:53:58,072]\u001b[0m Trial 118 finished with value: 993668013.0 and parameters: {'hash_table_size': 9, 'K_START': 0.08305091707088341, 'K_END': 0.059967561393376154, 'K_H': 0.4071594119885012, 'PURCHASE_TURN_LIMIT': 829, 'ROUGH_HASH': '0', 'TARGET_BEAM_WIDTH_INCREASE_RATE': 2.3914095264595723, 'TARGET_BEAM_WIDTH_HALF_PROGRES_RATE': 0.8532831605804542, 'MAX_BEAM_WIDTH': 951}. Best is trial 93 with value: 998170114.0.\u001b[0m\n"
     ]
    },
    {
     "name": "stdout",
     "output_type": "stream",
     "text": [
      "callback ok\n",
      "index_parallel=2\n",
      "sed -i 2_main.cpp -e 's/^constexpr int hash_table_size = .*;         \\/\\/ OPTIMIZE \\[9, 18\\]$/constexpr int hash_table_size = 18;         \\/\\/ OPTIMIZE [9, 18]/' -e 's/^constexpr double K_START = .*;  \\/\\/ OPTIMIZE \\[0\\.04, 0\\.2\\] LOG$/constexpr double K_START = 0.06887217447602215;  \\/\\/ OPTIMIZE [0.04, 0.2] LOG/' -e 's/^constexpr double K_END = .*;   \\/\\/ OPTIMIZE \\[0\\.03, 0\\.1\\] LOG$/constexpr double K_END = 0.06200839535143868;   \\/\\/ OPTIMIZE [0.03, 0.1] LOG/' -e 's/^constexpr double K_H = .*;      \\/\\/ OPTIMIZE \\[0\\.001, 0\\.999\\]$/constexpr double K_H = 0.41754790440618084;      \\/\\/ OPTIMIZE [0.001, 0.999]/' -e 's/^constexpr short PURCHASE_TURN_LIMIT = .*;  \\/\\/ OPTIMIZE \\[790, 870\\]$/constexpr short PURCHASE_TURN_LIMIT = 831;  \\/\\/ OPTIMIZE [790, 870]/' -e 's/^constexpr int ROUGH_HASH = .*;      \\/\\/ OPTIMIZE {0, 0b00000001, 0b00010001, 0b00010011, 0b00110011}$/constexpr int ROUGH_HASH = 0b00010011;      \\/\\/ OPTIMIZE {0, 0b00000001, 0b00010001, 0b00010011, 0b00110011}/' -e 's/^constexpr double TARGET_BEAM_WIDTH_INCREASE_RATE = .*;      \\/\\/ OPTIMIZE \\[0\\.25, 4\\.0\\] LOG$/constexpr double TARGET_BEAM_WIDTH_INCREASE_RATE = 2.6350249060737445;      \\/\\/ OPTIMIZE [0.25, 4.0] LOG/' -e 's/^constexpr double TARGET_BEAM_WIDTH_HALF_PROGRES_RATE = .*;  \\/\\/ OPTIMIZE \\[0\\.02, 0\\.98\\]$/constexpr double TARGET_BEAM_WIDTH_HALF_PROGRES_RATE = 0.6830490601799052;  \\/\\/ OPTIMIZE [0.02, 0.98]/' -e 's/^constexpr auto MAX_BEAM_WIDTH = .*;                        \\/\\/ OPTIMIZE \\[400, 4000\\] LOG$/constexpr auto MAX_BEAM_WIDTH = 646;                        \\/\\/ OPTIMIZE [400, 4000] LOG/'\n",
      "g++ 2_main.cpp -std=gnu++17 -O2 -DONLINE_JUDGE -o 2_main.cpp.out 2> /dev/null\n"
     ]
    },
    {
     "name": "stderr",
     "output_type": "stream",
     "text": [
      "\u001b[32m[I 2021-09-11 02:54:01,282]\u001b[0m Trial 119 finished with value: 995353527.0 and parameters: {'hash_table_size': 9, 'K_START': 0.05718870098242116, 'K_END': 0.05678093377434586, 'K_H': 0.4093913466466393, 'PURCHASE_TURN_LIMIT': 830, 'ROUGH_HASH': '0', 'TARGET_BEAM_WIDTH_INCREASE_RATE': 2.3659759093657327, 'TARGET_BEAM_WIDTH_HALF_PROGRES_RATE': 0.6944866388582864, 'MAX_BEAM_WIDTH': 936}. Best is trial 93 with value: 998170114.0.\u001b[0m\n"
     ]
    },
    {
     "name": "stdout",
     "output_type": "stream",
     "text": [
      "callback ok\n",
      "index_parallel=3\n",
      "sed -i 3_main.cpp -e 's/^constexpr int hash_table_size = .*;         \\/\\/ OPTIMIZE \\[9, 18\\]$/constexpr int hash_table_size = 9;         \\/\\/ OPTIMIZE [9, 18]/' -e 's/^constexpr double K_START = .*;  \\/\\/ OPTIMIZE \\[0\\.04, 0\\.2\\] LOG$/constexpr double K_START = 0.060042473314576336;  \\/\\/ OPTIMIZE [0.04, 0.2] LOG/' -e 's/^constexpr double K_END = .*;   \\/\\/ OPTIMIZE \\[0\\.03, 0\\.1\\] LOG$/constexpr double K_END = 0.05717568290808348;   \\/\\/ OPTIMIZE [0.03, 0.1] LOG/' -e 's/^constexpr double K_H = .*;      \\/\\/ OPTIMIZE \\[0\\.001, 0\\.999\\]$/constexpr double K_H = 0.41757249154995635;      \\/\\/ OPTIMIZE [0.001, 0.999]/' -e 's/^constexpr short PURCHASE_TURN_LIMIT = .*;  \\/\\/ OPTIMIZE \\[790, 870\\]$/constexpr short PURCHASE_TURN_LIMIT = 832;  \\/\\/ OPTIMIZE [790, 870]/' -e 's/^constexpr int ROUGH_HASH = .*;      \\/\\/ OPTIMIZE {0, 0b00000001, 0b00010001, 0b00010011, 0b00110011}$/constexpr int ROUGH_HASH = 0b00010011;      \\/\\/ OPTIMIZE {0, 0b00000001, 0b00010001, 0b00010011, 0b00110011}/' -e 's/^constexpr double TARGET_BEAM_WIDTH_INCREASE_RATE = .*;      \\/\\/ OPTIMIZE \\[0\\.25, 4\\.0\\] LOG$/constexpr double TARGET_BEAM_WIDTH_INCREASE_RATE = 3.026171928936343;      \\/\\/ OPTIMIZE [0.25, 4.0] LOG/' -e 's/^constexpr double TARGET_BEAM_WIDTH_HALF_PROGRES_RATE = .*;  \\/\\/ OPTIMIZE \\[0\\.02, 0\\.98\\]$/constexpr double TARGET_BEAM_WIDTH_HALF_PROGRES_RATE = 0.6903244312031602;  \\/\\/ OPTIMIZE [0.02, 0.98]/' -e 's/^constexpr auto MAX_BEAM_WIDTH = .*;                        \\/\\/ OPTIMIZE \\[400, 4000\\] LOG$/constexpr auto MAX_BEAM_WIDTH = 704;                        \\/\\/ OPTIMIZE [400, 4000] LOG/'\n",
      "g++ 3_main.cpp -std=gnu++17 -O2 -DONLINE_JUDGE -o 3_main.cpp.out 2> /dev/null\n"
     ]
    },
    {
     "name": "stderr",
     "output_type": "stream",
     "text": [
      "\u001b[32m[I 2021-09-11 02:55:21,864]\u001b[0m Trial 120 finished with value: 989523674.0 and parameters: {'hash_table_size': 9, 'K_START': 0.06846175949055881, 'K_END': 0.06175894384389138, 'K_H': 0.39953729193218646, 'PURCHASE_TURN_LIMIT': 833, 'ROUGH_HASH': '0b00010011', 'TARGET_BEAM_WIDTH_INCREASE_RATE': 2.6816746829256117, 'TARGET_BEAM_WIDTH_HALF_PROGRES_RATE': 0.6881354169288779, 'MAX_BEAM_WIDTH': 646}. Best is trial 93 with value: 998170114.0.\u001b[0m\n"
     ]
    },
    {
     "name": "stdout",
     "output_type": "stream",
     "text": [
      "callback ok\n",
      "index_parallel=4\n",
      "sed -i 4_main.cpp -e 's/^constexpr int hash_table_size = .*;         \\/\\/ OPTIMIZE \\[9, 18\\]$/constexpr int hash_table_size = 9;         \\/\\/ OPTIMIZE [9, 18]/' -e 's/^constexpr double K_START = .*;  \\/\\/ OPTIMIZE \\[0\\.04, 0\\.2\\] LOG$/constexpr double K_START = 0.057474777692139614;  \\/\\/ OPTIMIZE [0.04, 0.2] LOG/' -e 's/^constexpr double K_END = .*;   \\/\\/ OPTIMIZE \\[0\\.03, 0\\.1\\] LOG$/constexpr double K_END = 0.05735195785925475;   \\/\\/ OPTIMIZE [0.03, 0.1] LOG/' -e 's/^constexpr double K_H = .*;      \\/\\/ OPTIMIZE \\[0\\.001, 0\\.999\\]$/constexpr double K_H = 0.43276022824432303;      \\/\\/ OPTIMIZE [0.001, 0.999]/' -e 's/^constexpr short PURCHASE_TURN_LIMIT = .*;  \\/\\/ OPTIMIZE \\[790, 870\\]$/constexpr short PURCHASE_TURN_LIMIT = 830;  \\/\\/ OPTIMIZE [790, 870]/' -e 's/^constexpr int ROUGH_HASH = .*;      \\/\\/ OPTIMIZE {0, 0b00000001, 0b00010001, 0b00010011, 0b00110011}$/constexpr int ROUGH_HASH = 0;      \\/\\/ OPTIMIZE {0, 0b00000001, 0b00010001, 0b00010011, 0b00110011}/' -e 's/^constexpr double TARGET_BEAM_WIDTH_INCREASE_RATE = .*;      \\/\\/ OPTIMIZE \\[0\\.25, 4\\.0\\] LOG$/constexpr double TARGET_BEAM_WIDTH_INCREASE_RATE = 2.9655344810231554;      \\/\\/ OPTIMIZE [0.25, 4.0] LOG/' -e 's/^constexpr double TARGET_BEAM_WIDTH_HALF_PROGRES_RATE = .*;  \\/\\/ OPTIMIZE \\[0\\.02, 0\\.98\\]$/constexpr double TARGET_BEAM_WIDTH_HALF_PROGRES_RATE = 0.6872995489683951;  \\/\\/ OPTIMIZE [0.02, 0.98]/' -e 's/^constexpr auto MAX_BEAM_WIDTH = .*;                        \\/\\/ OPTIMIZE \\[400, 4000\\] LOG$/constexpr auto MAX_BEAM_WIDTH = 781;                        \\/\\/ OPTIMIZE [400, 4000] LOG/'\n",
      "g++ 4_main.cpp -std=gnu++17 -O2 -DONLINE_JUDGE -o 4_main.cpp.out 2> /dev/null\n"
     ]
    },
    {
     "name": "stderr",
     "output_type": "stream",
     "text": [
      "\u001b[32m[I 2021-09-11 02:55:36,415]\u001b[0m Trial 121 finished with value: 986796267.0 and parameters: {'hash_table_size': 9, 'K_START': 0.06006207907115921, 'K_END': 0.06098118439044822, 'K_H': 0.42858406369050994, 'PURCHASE_TURN_LIMIT': 830, 'ROUGH_HASH': '0b00010011', 'TARGET_BEAM_WIDTH_INCREASE_RATE': 2.7049997673636996, 'TARGET_BEAM_WIDTH_HALF_PROGRES_RATE': 0.8924225616136288, 'MAX_BEAM_WIDTH': 643}. Best is trial 93 with value: 998170114.0.\u001b[0m\n"
     ]
    },
    {
     "name": "stdout",
     "output_type": "stream",
     "text": [
      "callback ok\n",
      "index_parallel=5\n",
      "sed -i 5_main.cpp -e 's/^constexpr int hash_table_size = .*;         \\/\\/ OPTIMIZE \\[9, 18\\]$/constexpr int hash_table_size = 9;         \\/\\/ OPTIMIZE [9, 18]/' -e 's/^constexpr double K_START = .*;  \\/\\/ OPTIMIZE \\[0\\.04, 0\\.2\\] LOG$/constexpr double K_START = 0.0668234412429865;  \\/\\/ OPTIMIZE [0.04, 0.2] LOG/' -e 's/^constexpr double K_END = .*;   \\/\\/ OPTIMIZE \\[0\\.03, 0\\.1\\] LOG$/constexpr double K_END = 0.06338051839863693;   \\/\\/ OPTIMIZE [0.03, 0.1] LOG/' -e 's/^constexpr double K_H = .*;      \\/\\/ OPTIMIZE \\[0\\.001, 0\\.999\\]$/constexpr double K_H = 0.4347745546710448;      \\/\\/ OPTIMIZE [0.001, 0.999]/' -e 's/^constexpr short PURCHASE_TURN_LIMIT = .*;  \\/\\/ OPTIMIZE \\[790, 870\\]$/constexpr short PURCHASE_TURN_LIMIT = 824;  \\/\\/ OPTIMIZE [790, 870]/' -e 's/^constexpr int ROUGH_HASH = .*;      \\/\\/ OPTIMIZE {0, 0b00000001, 0b00010001, 0b00010011, 0b00110011}$/constexpr int ROUGH_HASH = 0;      \\/\\/ OPTIMIZE {0, 0b00000001, 0b00010001, 0b00010011, 0b00110011}/' -e 's/^constexpr double TARGET_BEAM_WIDTH_INCREASE_RATE = .*;      \\/\\/ OPTIMIZE \\[0\\.25, 4\\.0\\] LOG$/constexpr double TARGET_BEAM_WIDTH_INCREASE_RATE = 2.9375041224977467;      \\/\\/ OPTIMIZE [0.25, 4.0] LOG/' -e 's/^constexpr double TARGET_BEAM_WIDTH_HALF_PROGRES_RATE = .*;  \\/\\/ OPTIMIZE \\[0\\.02, 0\\.98\\]$/constexpr double TARGET_BEAM_WIDTH_HALF_PROGRES_RATE = 0.6879516137724396;  \\/\\/ OPTIMIZE [0.02, 0.98]/' -e 's/^constexpr auto MAX_BEAM_WIDTH = .*;                        \\/\\/ OPTIMIZE \\[400, 4000\\] LOG$/constexpr auto MAX_BEAM_WIDTH = 785;                        \\/\\/ OPTIMIZE [400, 4000] LOG/'\n",
      "g++ 5_main.cpp -std=gnu++17 -O2 -DONLINE_JUDGE -o 5_main.cpp.out 2> /dev/null\n"
     ]
    },
    {
     "name": "stderr",
     "output_type": "stream",
     "text": [
      "\u001b[32m[I 2021-09-11 02:55:43,366]\u001b[0m Trial 122 finished with value: 985034304.0 and parameters: {'hash_table_size': 18, 'K_START': 0.06887217447602215, 'K_END': 0.06200839535143868, 'K_H': 0.41754790440618084, 'PURCHASE_TURN_LIMIT': 831, 'ROUGH_HASH': '0b00010011', 'TARGET_BEAM_WIDTH_INCREASE_RATE': 2.6350249060737445, 'TARGET_BEAM_WIDTH_HALF_PROGRES_RATE': 0.6830490601799052, 'MAX_BEAM_WIDTH': 646}. Best is trial 93 with value: 998170114.0.\u001b[0m\n"
     ]
    },
    {
     "name": "stdout",
     "output_type": "stream",
     "text": [
      "callback ok\n",
      "index_parallel=6\n",
      "sed -i 6_main.cpp -e 's/^constexpr int hash_table_size = .*;         \\/\\/ OPTIMIZE \\[9, 18\\]$/constexpr int hash_table_size = 9;         \\/\\/ OPTIMIZE [9, 18]/' -e 's/^constexpr double K_START = .*;  \\/\\/ OPTIMIZE \\[0\\.04, 0\\.2\\] LOG$/constexpr double K_START = 0.0627404502547764;  \\/\\/ OPTIMIZE [0.04, 0.2] LOG/' -e 's/^constexpr double K_END = .*;   \\/\\/ OPTIMIZE \\[0\\.03, 0\\.1\\] LOG$/constexpr double K_END = 0.06372742889047923;   \\/\\/ OPTIMIZE [0.03, 0.1] LOG/' -e 's/^constexpr double K_H = .*;      \\/\\/ OPTIMIZE \\[0\\.001, 0\\.999\\]$/constexpr double K_H = 0.4358455719211304;      \\/\\/ OPTIMIZE [0.001, 0.999]/' -e 's/^constexpr short PURCHASE_TURN_LIMIT = .*;  \\/\\/ OPTIMIZE \\[790, 870\\]$/constexpr short PURCHASE_TURN_LIMIT = 824;  \\/\\/ OPTIMIZE [790, 870]/' -e 's/^constexpr int ROUGH_HASH = .*;      \\/\\/ OPTIMIZE {0, 0b00000001, 0b00010001, 0b00010011, 0b00110011}$/constexpr int ROUGH_HASH = 0;      \\/\\/ OPTIMIZE {0, 0b00000001, 0b00010001, 0b00010011, 0b00110011}/' -e 's/^constexpr double TARGET_BEAM_WIDTH_INCREASE_RATE = .*;      \\/\\/ OPTIMIZE \\[0\\.25, 4\\.0\\] LOG$/constexpr double TARGET_BEAM_WIDTH_INCREASE_RATE = 2.4723693752647895;      \\/\\/ OPTIMIZE [0.25, 4.0] LOG/' -e 's/^constexpr double TARGET_BEAM_WIDTH_HALF_PROGRES_RATE = .*;  \\/\\/ OPTIMIZE \\[0\\.02, 0\\.98\\]$/constexpr double TARGET_BEAM_WIDTH_HALF_PROGRES_RATE = 0.719742701633157;  \\/\\/ OPTIMIZE [0.02, 0.98]/' -e 's/^constexpr auto MAX_BEAM_WIDTH = .*;                        \\/\\/ OPTIMIZE \\[400, 4000\\] LOG$/constexpr auto MAX_BEAM_WIDTH = 685;                        \\/\\/ OPTIMIZE [400, 4000] LOG/'\n",
      "g++ 6_main.cpp -std=gnu++17 -O2 -DONLINE_JUDGE -o 6_main.cpp.out 2> /dev/null\n"
     ]
    },
    {
     "name": "stderr",
     "output_type": "stream",
     "text": [
      "\u001b[32m[I 2021-09-11 02:55:47,405]\u001b[0m Trial 123 finished with value: 989650114.0 and parameters: {'hash_table_size': 9, 'K_START': 0.060042473314576336, 'K_END': 0.05717568290808348, 'K_H': 0.41757249154995635, 'PURCHASE_TURN_LIMIT': 832, 'ROUGH_HASH': '0b00010011', 'TARGET_BEAM_WIDTH_INCREASE_RATE': 3.026171928936343, 'TARGET_BEAM_WIDTH_HALF_PROGRES_RATE': 0.6903244312031602, 'MAX_BEAM_WIDTH': 704}. Best is trial 93 with value: 998170114.0.\u001b[0m\n"
     ]
    },
    {
     "name": "stdout",
     "output_type": "stream",
     "text": [
      "callback ok\n",
      "index_parallel=7\n",
      "sed -i 7_main.cpp -e 's/^constexpr int hash_table_size = .*;         \\/\\/ OPTIMIZE \\[9, 18\\]$/constexpr int hash_table_size = 9;         \\/\\/ OPTIMIZE [9, 18]/' -e 's/^constexpr double K_START = .*;  \\/\\/ OPTIMIZE \\[0\\.04, 0\\.2\\] LOG$/constexpr double K_START = 0.06535989058809194;  \\/\\/ OPTIMIZE [0.04, 0.2] LOG/' -e 's/^constexpr double K_END = .*;   \\/\\/ OPTIMIZE \\[0\\.03, 0\\.1\\] LOG$/constexpr double K_END = 0.05641668939079935;   \\/\\/ OPTIMIZE [0.03, 0.1] LOG/' -e 's/^constexpr double K_H = .*;      \\/\\/ OPTIMIZE \\[0\\.001, 0\\.999\\]$/constexpr double K_H = 0.44191105837905126;      \\/\\/ OPTIMIZE [0.001, 0.999]/' -e 's/^constexpr short PURCHASE_TURN_LIMIT = .*;  \\/\\/ OPTIMIZE \\[790, 870\\]$/constexpr short PURCHASE_TURN_LIMIT = 824;  \\/\\/ OPTIMIZE [790, 870]/' -e 's/^constexpr int ROUGH_HASH = .*;      \\/\\/ OPTIMIZE {0, 0b00000001, 0b00010001, 0b00010011, 0b00110011}$/constexpr int ROUGH_HASH = 0;      \\/\\/ OPTIMIZE {0, 0b00000001, 0b00010001, 0b00010011, 0b00110011}/' -e 's/^constexpr double TARGET_BEAM_WIDTH_INCREASE_RATE = .*;      \\/\\/ OPTIMIZE \\[0\\.25, 4\\.0\\] LOG$/constexpr double TARGET_BEAM_WIDTH_INCREASE_RATE = 1.8326059089186142;      \\/\\/ OPTIMIZE [0.25, 4.0] LOG/' -e 's/^constexpr double TARGET_BEAM_WIDTH_HALF_PROGRES_RATE = .*;  \\/\\/ OPTIMIZE \\[0\\.02, 0\\.98\\]$/constexpr double TARGET_BEAM_WIDTH_HALF_PROGRES_RATE = 0.6486611959855886;  \\/\\/ OPTIMIZE [0.02, 0.98]/' -e 's/^constexpr auto MAX_BEAM_WIDTH = .*;                        \\/\\/ OPTIMIZE \\[400, 4000\\] LOG$/constexpr auto MAX_BEAM_WIDTH = 778;                        \\/\\/ OPTIMIZE [400, 4000] LOG/'\n",
      "g++ 7_main.cpp -std=gnu++17 -O2 -DONLINE_JUDGE -o 7_main.cpp.out 2> /dev/null\n"
     ]
    },
    {
     "name": "stderr",
     "output_type": "stream",
     "text": [
      "\u001b[32m[I 2021-09-11 02:57:07,094]\u001b[0m Trial 124 finished with value: 999226849.0 and parameters: {'hash_table_size': 9, 'K_START': 0.057474777692139614, 'K_END': 0.05735195785925475, 'K_H': 0.43276022824432303, 'PURCHASE_TURN_LIMIT': 830, 'ROUGH_HASH': '0', 'TARGET_BEAM_WIDTH_INCREASE_RATE': 2.9655344810231554, 'TARGET_BEAM_WIDTH_HALF_PROGRES_RATE': 0.6872995489683951, 'MAX_BEAM_WIDTH': 781}. Best is trial 124 with value: 999226849.0.\u001b[0m\n"
     ]
    },
    {
     "name": "stdout",
     "output_type": "stream",
     "text": [
      "Updated! 999226849.0\n",
      "callback ok\n",
      "index_parallel=8\n",
      "sed -i 8_main.cpp -e 's/^constexpr int hash_table_size = .*;         \\/\\/ OPTIMIZE \\[9, 18\\]$/constexpr int hash_table_size = 9;         \\/\\/ OPTIMIZE [9, 18]/' -e 's/^constexpr double K_START = .*;  \\/\\/ OPTIMIZE \\[0\\.04, 0\\.2\\] LOG$/constexpr double K_START = 0.057573589574647824;  \\/\\/ OPTIMIZE [0.04, 0.2] LOG/' -e 's/^constexpr double K_END = .*;   \\/\\/ OPTIMIZE \\[0\\.03, 0\\.1\\] LOG$/constexpr double K_END = 0.06334264863734797;   \\/\\/ OPTIMIZE [0.03, 0.1] LOG/' -e 's/^constexpr double K_H = .*;      \\/\\/ OPTIMIZE \\[0\\.001, 0\\.999\\]$/constexpr double K_H = 0.4425250156258141;      \\/\\/ OPTIMIZE [0.001, 0.999]/' -e 's/^constexpr short PURCHASE_TURN_LIMIT = .*;  \\/\\/ OPTIMIZE \\[790, 870\\]$/constexpr short PURCHASE_TURN_LIMIT = 824;  \\/\\/ OPTIMIZE [790, 870]/' -e 's/^constexpr int ROUGH_HASH = .*;      \\/\\/ OPTIMIZE {0, 0b00000001, 0b00010001, 0b00010011, 0b00110011}$/constexpr int ROUGH_HASH = 0;      \\/\\/ OPTIMIZE {0, 0b00000001, 0b00010001, 0b00010011, 0b00110011}/' -e 's/^constexpr double TARGET_BEAM_WIDTH_INCREASE_RATE = .*;      \\/\\/ OPTIMIZE \\[0\\.25, 4\\.0\\] LOG$/constexpr double TARGET_BEAM_WIDTH_INCREASE_RATE = 3.230112055314401;      \\/\\/ OPTIMIZE [0.25, 4.0] LOG/' -e 's/^constexpr double TARGET_BEAM_WIDTH_HALF_PROGRES_RATE = .*;  \\/\\/ OPTIMIZE \\[0\\.02, 0\\.98\\]$/constexpr double TARGET_BEAM_WIDTH_HALF_PROGRES_RATE = 0.6488502540278579;  \\/\\/ OPTIMIZE [0.02, 0.98]/' -e 's/^constexpr auto MAX_BEAM_WIDTH = .*;                        \\/\\/ OPTIMIZE \\[400, 4000\\] LOG$/constexpr auto MAX_BEAM_WIDTH = 788;                        \\/\\/ OPTIMIZE [400, 4000] LOG/'\n",
      "g++ 8_main.cpp -std=gnu++17 -O2 -DONLINE_JUDGE -o 8_main.cpp.out 2> /dev/null\n"
     ]
    },
    {
     "name": "stderr",
     "output_type": "stream",
     "text": [
      "\u001b[32m[I 2021-09-11 02:57:21,605]\u001b[0m Trial 125 finished with value: 993215400.0 and parameters: {'hash_table_size': 9, 'K_START': 0.0668234412429865, 'K_END': 0.06338051839863693, 'K_H': 0.4347745546710448, 'PURCHASE_TURN_LIMIT': 824, 'ROUGH_HASH': '0', 'TARGET_BEAM_WIDTH_INCREASE_RATE': 2.9375041224977467, 'TARGET_BEAM_WIDTH_HALF_PROGRES_RATE': 0.6879516137724396, 'MAX_BEAM_WIDTH': 785}. Best is trial 124 with value: 999226849.0.\u001b[0m\n"
     ]
    },
    {
     "name": "stdout",
     "output_type": "stream",
     "text": [
      "callback ok\n",
      "index_parallel=9\n",
      "sed -i 9_main.cpp -e 's/^constexpr int hash_table_size = .*;         \\/\\/ OPTIMIZE \\[9, 18\\]$/constexpr int hash_table_size = 9;         \\/\\/ OPTIMIZE [9, 18]/' -e 's/^constexpr double K_START = .*;  \\/\\/ OPTIMIZE \\[0\\.04, 0\\.2\\] LOG$/constexpr double K_START = 0.054342062470876175;  \\/\\/ OPTIMIZE [0.04, 0.2] LOG/' -e 's/^constexpr double K_END = .*;   \\/\\/ OPTIMIZE \\[0\\.03, 0\\.1\\] LOG$/constexpr double K_END = 0.056694625239362396;   \\/\\/ OPTIMIZE [0.03, 0.1] LOG/' -e 's/^constexpr double K_H = .*;      \\/\\/ OPTIMIZE \\[0\\.001, 0\\.999\\]$/constexpr double K_H = 0.4887035704720623;      \\/\\/ OPTIMIZE [0.001, 0.999]/' -e 's/^constexpr short PURCHASE_TURN_LIMIT = .*;  \\/\\/ OPTIMIZE \\[790, 870\\]$/constexpr short PURCHASE_TURN_LIMIT = 820;  \\/\\/ OPTIMIZE [790, 870]/' -e 's/^constexpr int ROUGH_HASH = .*;      \\/\\/ OPTIMIZE {0, 0b00000001, 0b00010001, 0b00010011, 0b00110011}$/constexpr int ROUGH_HASH = 0;      \\/\\/ OPTIMIZE {0, 0b00000001, 0b00010001, 0b00010011, 0b00110011}/' -e 's/^constexpr double TARGET_BEAM_WIDTH_INCREASE_RATE = .*;      \\/\\/ OPTIMIZE \\[0\\.25, 4\\.0\\] LOG$/constexpr double TARGET_BEAM_WIDTH_INCREASE_RATE = 3.397968280743138;      \\/\\/ OPTIMIZE [0.25, 4.0] LOG/' -e 's/^constexpr double TARGET_BEAM_WIDTH_HALF_PROGRES_RATE = .*;  \\/\\/ OPTIMIZE \\[0\\.02, 0\\.98\\]$/constexpr double TARGET_BEAM_WIDTH_HALF_PROGRES_RATE = 0.7680161057936556;  \\/\\/ OPTIMIZE [0.02, 0.98]/' -e 's/^constexpr auto MAX_BEAM_WIDTH = .*;                        \\/\\/ OPTIMIZE \\[400, 4000\\] LOG$/constexpr auto MAX_BEAM_WIDTH = 798;                        \\/\\/ OPTIMIZE [400, 4000] LOG/'\n",
      "g++ 9_main.cpp -std=gnu++17 -O2 -DONLINE_JUDGE -o 9_main.cpp.out 2> /dev/null\n"
     ]
    },
    {
     "name": "stderr",
     "output_type": "stream",
     "text": [
      "\u001b[32m[I 2021-09-11 02:57:28,351]\u001b[0m Trial 126 finished with value: 992510268.0 and parameters: {'hash_table_size': 9, 'K_START': 0.0627404502547764, 'K_END': 0.06372742889047923, 'K_H': 0.4358455719211304, 'PURCHASE_TURN_LIMIT': 824, 'ROUGH_HASH': '0', 'TARGET_BEAM_WIDTH_INCREASE_RATE': 2.4723693752647895, 'TARGET_BEAM_WIDTH_HALF_PROGRES_RATE': 0.719742701633157, 'MAX_BEAM_WIDTH': 685}. Best is trial 124 with value: 999226849.0.\u001b[0m\n"
     ]
    },
    {
     "name": "stdout",
     "output_type": "stream",
     "text": [
      "callback ok\n",
      "index_parallel=10\n",
      "sed -i 10_main.cpp -e 's/^constexpr int hash_table_size = .*;         \\/\\/ OPTIMIZE \\[9, 18\\]$/constexpr int hash_table_size = 9;         \\/\\/ OPTIMIZE [9, 18]/' -e 's/^constexpr double K_START = .*;  \\/\\/ OPTIMIZE \\[0\\.04, 0\\.2\\] LOG$/constexpr double K_START = 0.04963647279956792;  \\/\\/ OPTIMIZE [0.04, 0.2] LOG/' -e 's/^constexpr double K_END = .*;   \\/\\/ OPTIMIZE \\[0\\.03, 0\\.1\\] LOG$/constexpr double K_END = 0.05681750239919151;   \\/\\/ OPTIMIZE [0.03, 0.1] LOG/' -e 's/^constexpr double K_H = .*;      \\/\\/ OPTIMIZE \\[0\\.001, 0\\.999\\]$/constexpr double K_H = 0.5238739533580452;      \\/\\/ OPTIMIZE [0.001, 0.999]/' -e 's/^constexpr short PURCHASE_TURN_LIMIT = .*;  \\/\\/ OPTIMIZE \\[790, 870\\]$/constexpr short PURCHASE_TURN_LIMIT = 820;  \\/\\/ OPTIMIZE [790, 870]/' -e 's/^constexpr int ROUGH_HASH = .*;      \\/\\/ OPTIMIZE {0, 0b00000001, 0b00010001, 0b00010011, 0b00110011}$/constexpr int ROUGH_HASH = 0;      \\/\\/ OPTIMIZE {0, 0b00000001, 0b00010001, 0b00010011, 0b00110011}/' -e 's/^constexpr double TARGET_BEAM_WIDTH_INCREASE_RATE = .*;      \\/\\/ OPTIMIZE \\[0\\.25, 4\\.0\\] LOG$/constexpr double TARGET_BEAM_WIDTH_INCREASE_RATE = 1.8527117658872716;      \\/\\/ OPTIMIZE [0.25, 4.0] LOG/' -e 's/^constexpr double TARGET_BEAM_WIDTH_HALF_PROGRES_RATE = .*;  \\/\\/ OPTIMIZE \\[0\\.02, 0\\.98\\]$/constexpr double TARGET_BEAM_WIDTH_HALF_PROGRES_RATE = 0.7692823409339282;  \\/\\/ OPTIMIZE [0.02, 0.98]/' -e 's/^constexpr auto MAX_BEAM_WIDTH = .*;                        \\/\\/ OPTIMIZE \\[400, 4000\\] LOG$/constexpr auto MAX_BEAM_WIDTH = 579;                        \\/\\/ OPTIMIZE [400, 4000] LOG/'\n",
      "g++ 10_main.cpp -std=gnu++17 -O2 -DONLINE_JUDGE -o 10_main.cpp.out 2> /dev/null\n"
     ]
    },
    {
     "name": "stderr",
     "output_type": "stream",
     "text": [
      "\u001b[32m[I 2021-09-11 02:57:32,684]\u001b[0m Trial 127 finished with value: 993970155.0 and parameters: {'hash_table_size': 9, 'K_START': 0.06535989058809194, 'K_END': 0.05641668939079935, 'K_H': 0.44191105837905126, 'PURCHASE_TURN_LIMIT': 824, 'ROUGH_HASH': '0', 'TARGET_BEAM_WIDTH_INCREASE_RATE': 1.8326059089186142, 'TARGET_BEAM_WIDTH_HALF_PROGRES_RATE': 0.6486611959855886, 'MAX_BEAM_WIDTH': 778}. Best is trial 124 with value: 999226849.0.\u001b[0m\n"
     ]
    },
    {
     "name": "stdout",
     "output_type": "stream",
     "text": [
      "callback ok\n",
      "index_parallel=11\n",
      "sed -i 11_main.cpp -e 's/^constexpr int hash_table_size = .*;         \\/\\/ OPTIMIZE \\[9, 18\\]$/constexpr int hash_table_size = 10;         \\/\\/ OPTIMIZE [9, 18]/' -e 's/^constexpr double K_START = .*;  \\/\\/ OPTIMIZE \\[0\\.04, 0\\.2\\] LOG$/constexpr double K_START = 0.05601419483984067;  \\/\\/ OPTIMIZE [0.04, 0.2] LOG/' -e 's/^constexpr double K_END = .*;   \\/\\/ OPTIMIZE \\[0\\.03, 0\\.1\\] LOG$/constexpr double K_END = 0.06517245255788956;   \\/\\/ OPTIMIZE [0.03, 0.1] LOG/' -e 's/^constexpr double K_H = .*;      \\/\\/ OPTIMIZE \\[0\\.001, 0\\.999\\]$/constexpr double K_H = 0.48501602769601326;      \\/\\/ OPTIMIZE [0.001, 0.999]/' -e 's/^constexpr short PURCHASE_TURN_LIMIT = .*;  \\/\\/ OPTIMIZE \\[790, 870\\]$/constexpr short PURCHASE_TURN_LIMIT = 830;  \\/\\/ OPTIMIZE [790, 870]/' -e 's/^constexpr int ROUGH_HASH = .*;      \\/\\/ OPTIMIZE {0, 0b00000001, 0b00010001, 0b00010011, 0b00110011}$/constexpr int ROUGH_HASH = 0;      \\/\\/ OPTIMIZE {0, 0b00000001, 0b00010001, 0b00010011, 0b00110011}/' -e 's/^constexpr double TARGET_BEAM_WIDTH_INCREASE_RATE = .*;      \\/\\/ OPTIMIZE \\[0\\.25, 4\\.0\\] LOG$/constexpr double TARGET_BEAM_WIDTH_INCREASE_RATE = 3.2001966732692915;      \\/\\/ OPTIMIZE [0.25, 4.0] LOG/' -e 's/^constexpr double TARGET_BEAM_WIDTH_HALF_PROGRES_RATE = .*;  \\/\\/ OPTIMIZE \\[0\\.02, 0\\.98\\]$/constexpr double TARGET_BEAM_WIDTH_HALF_PROGRES_RATE = 0.7700352111915252;  \\/\\/ OPTIMIZE [0.02, 0.98]/' -e 's/^constexpr auto MAX_BEAM_WIDTH = .*;                        \\/\\/ OPTIMIZE \\[400, 4000\\] LOG$/constexpr auto MAX_BEAM_WIDTH = 903;                        \\/\\/ OPTIMIZE [400, 4000] LOG/'\n",
      "g++ 11_main.cpp -std=gnu++17 -O2 -DONLINE_JUDGE -o 11_main.cpp.out 2> /dev/null\n"
     ]
    },
    {
     "name": "stderr",
     "output_type": "stream",
     "text": [
      "\u001b[32m[I 2021-09-11 02:58:52,234]\u001b[0m Trial 128 finished with value: 997424847.0 and parameters: {'hash_table_size': 9, 'K_START': 0.057573589574647824, 'K_END': 0.06334264863734797, 'K_H': 0.4425250156258141, 'PURCHASE_TURN_LIMIT': 824, 'ROUGH_HASH': '0', 'TARGET_BEAM_WIDTH_INCREASE_RATE': 3.230112055314401, 'TARGET_BEAM_WIDTH_HALF_PROGRES_RATE': 0.6488502540278579, 'MAX_BEAM_WIDTH': 788}. Best is trial 124 with value: 999226849.0.\u001b[0m\n"
     ]
    },
    {
     "name": "stdout",
     "output_type": "stream",
     "text": [
      "callback ok\n",
      "index_parallel=0\n",
      "sed -i 0_main.cpp -e 's/^constexpr int hash_table_size = .*;         \\/\\/ OPTIMIZE \\[9, 18\\]$/constexpr int hash_table_size = 10;         \\/\\/ OPTIMIZE [9, 18]/' -e 's/^constexpr double K_START = .*;  \\/\\/ OPTIMIZE \\[0\\.04, 0\\.2\\] LOG$/constexpr double K_START = 0.05169687125718017;  \\/\\/ OPTIMIZE [0.04, 0.2] LOG/' -e 's/^constexpr double K_END = .*;   \\/\\/ OPTIMIZE \\[0\\.03, 0\\.1\\] LOG$/constexpr double K_END = 0.06642748520866086;   \\/\\/ OPTIMIZE [0.03, 0.1] LOG/' -e 's/^constexpr double K_H = .*;      \\/\\/ OPTIMIZE \\[0\\.001, 0\\.999\\]$/constexpr double K_H = 0.4872684195412807;      \\/\\/ OPTIMIZE [0.001, 0.999]/' -e 's/^constexpr short PURCHASE_TURN_LIMIT = .*;  \\/\\/ OPTIMIZE \\[790, 870\\]$/constexpr short PURCHASE_TURN_LIMIT = 830;  \\/\\/ OPTIMIZE [790, 870]/' -e 's/^constexpr int ROUGH_HASH = .*;      \\/\\/ OPTIMIZE {0, 0b00000001, 0b00010001, 0b00010011, 0b00110011}$/constexpr int ROUGH_HASH = 0;      \\/\\/ OPTIMIZE {0, 0b00000001, 0b00010001, 0b00010011, 0b00110011}/' -e 's/^constexpr double TARGET_BEAM_WIDTH_INCREASE_RATE = .*;      \\/\\/ OPTIMIZE \\[0\\.25, 4\\.0\\] LOG$/constexpr double TARGET_BEAM_WIDTH_INCREASE_RATE = 3.0601549775472754;      \\/\\/ OPTIMIZE [0.25, 4.0] LOG/' -e 's/^constexpr double TARGET_BEAM_WIDTH_HALF_PROGRES_RATE = .*;  \\/\\/ OPTIMIZE \\[0\\.02, 0\\.98\\]$/constexpr double TARGET_BEAM_WIDTH_HALF_PROGRES_RATE = 0.7732475971771821;  \\/\\/ OPTIMIZE [0.02, 0.98]/' -e 's/^constexpr auto MAX_BEAM_WIDTH = .*;                        \\/\\/ OPTIMIZE \\[400, 4000\\] LOG$/constexpr auto MAX_BEAM_WIDTH = 914;                        \\/\\/ OPTIMIZE [400, 4000] LOG/'\n",
      "g++ 0_main.cpp -std=gnu++17 -O2 -DONLINE_JUDGE -o 0_main.cpp.out 2> /dev/null\n"
     ]
    },
    {
     "name": "stderr",
     "output_type": "stream",
     "text": [
      "\u001b[32m[I 2021-09-11 02:59:06,683]\u001b[0m Trial 129 finished with value: 993829998.0 and parameters: {'hash_table_size': 9, 'K_START': 0.054342062470876175, 'K_END': 0.056694625239362396, 'K_H': 0.4887035704720623, 'PURCHASE_TURN_LIMIT': 820, 'ROUGH_HASH': '0', 'TARGET_BEAM_WIDTH_INCREASE_RATE': 3.397968280743138, 'TARGET_BEAM_WIDTH_HALF_PROGRES_RATE': 0.7680161057936556, 'MAX_BEAM_WIDTH': 798}. Best is trial 124 with value: 999226849.0.\u001b[0m\n"
     ]
    },
    {
     "name": "stdout",
     "output_type": "stream",
     "text": [
      "callback ok\n",
      "index_parallel=1\n",
      "sed -i 1_main.cpp -e 's/^constexpr int hash_table_size = .*;         \\/\\/ OPTIMIZE \\[9, 18\\]$/constexpr int hash_table_size = 9;         \\/\\/ OPTIMIZE [9, 18]/' -e 's/^constexpr double K_START = .*;  \\/\\/ OPTIMIZE \\[0\\.04, 0\\.2\\] LOG$/constexpr double K_START = 0.05761709889846701;  \\/\\/ OPTIMIZE [0.04, 0.2] LOG/' -e 's/^constexpr double K_END = .*;   \\/\\/ OPTIMIZE \\[0\\.03, 0\\.1\\] LOG$/constexpr double K_END = 0.06590857736274336;   \\/\\/ OPTIMIZE [0.03, 0.1] LOG/' -e 's/^constexpr double K_H = .*;      \\/\\/ OPTIMIZE \\[0\\.001, 0\\.999\\]$/constexpr double K_H = 0.39841167523642185;      \\/\\/ OPTIMIZE [0.001, 0.999]/' -e 's/^constexpr short PURCHASE_TURN_LIMIT = .*;  \\/\\/ OPTIMIZE \\[790, 870\\]$/constexpr short PURCHASE_TURN_LIMIT = 830;  \\/\\/ OPTIMIZE [790, 870]/' -e 's/^constexpr int ROUGH_HASH = .*;      \\/\\/ OPTIMIZE {0, 0b00000001, 0b00010001, 0b00010011, 0b00110011}$/constexpr int ROUGH_HASH = 0;      \\/\\/ OPTIMIZE {0, 0b00000001, 0b00010001, 0b00010011, 0b00110011}/' -e 's/^constexpr double TARGET_BEAM_WIDTH_INCREASE_RATE = .*;      \\/\\/ OPTIMIZE \\[0\\.25, 4\\.0\\] LOG$/constexpr double TARGET_BEAM_WIDTH_INCREASE_RATE = 2.3264121731947496;      \\/\\/ OPTIMIZE [0.25, 4.0] LOG/' -e 's/^constexpr double TARGET_BEAM_WIDTH_HALF_PROGRES_RATE = .*;  \\/\\/ OPTIMIZE \\[0\\.02, 0\\.98\\]$/constexpr double TARGET_BEAM_WIDTH_HALF_PROGRES_RATE = 0.809928214420205;  \\/\\/ OPTIMIZE [0.02, 0.98]/' -e 's/^constexpr auto MAX_BEAM_WIDTH = .*;                        \\/\\/ OPTIMIZE \\[400, 4000\\] LOG$/constexpr auto MAX_BEAM_WIDTH = 910;                        \\/\\/ OPTIMIZE [400, 4000] LOG/'\n",
      "g++ 1_main.cpp -std=gnu++17 -O2 -DONLINE_JUDGE -o 1_main.cpp.out 2> /dev/null\n"
     ]
    },
    {
     "name": "stderr",
     "output_type": "stream",
     "text": [
      "\u001b[32m[I 2021-09-11 02:59:12,946]\u001b[0m Trial 130 finished with value: 989716181.0 and parameters: {'hash_table_size': 9, 'K_START': 0.04963647279956792, 'K_END': 0.05681750239919151, 'K_H': 0.5238739533580452, 'PURCHASE_TURN_LIMIT': 820, 'ROUGH_HASH': '0', 'TARGET_BEAM_WIDTH_INCREASE_RATE': 1.8527117658872716, 'TARGET_BEAM_WIDTH_HALF_PROGRES_RATE': 0.7692823409339282, 'MAX_BEAM_WIDTH': 579}. Best is trial 124 with value: 999226849.0.\u001b[0m\n"
     ]
    },
    {
     "name": "stdout",
     "output_type": "stream",
     "text": [
      "callback ok\n",
      "index_parallel=2\n",
      "sed -i 2_main.cpp -e 's/^constexpr int hash_table_size = .*;         \\/\\/ OPTIMIZE \\[9, 18\\]$/constexpr int hash_table_size = 9;         \\/\\/ OPTIMIZE [9, 18]/' -e 's/^constexpr double K_START = .*;  \\/\\/ OPTIMIZE \\[0\\.04, 0\\.2\\] LOG$/constexpr double K_START = 0.055544275458506896;  \\/\\/ OPTIMIZE [0.04, 0.2] LOG/' -e 's/^constexpr double K_END = .*;   \\/\\/ OPTIMIZE \\[0\\.03, 0\\.1\\] LOG$/constexpr double K_END = 0.06551387353295288;   \\/\\/ OPTIMIZE [0.03, 0.1] LOG/' -e 's/^constexpr double K_H = .*;      \\/\\/ OPTIMIZE \\[0\\.001, 0\\.999\\]$/constexpr double K_H = 0.3883503234903495;      \\/\\/ OPTIMIZE [0.001, 0.999]/' -e 's/^constexpr short PURCHASE_TURN_LIMIT = .*;  \\/\\/ OPTIMIZE \\[790, 870\\]$/constexpr short PURCHASE_TURN_LIMIT = 829;  \\/\\/ OPTIMIZE [790, 870]/' -e 's/^constexpr int ROUGH_HASH = .*;      \\/\\/ OPTIMIZE {0, 0b00000001, 0b00010001, 0b00010011, 0b00110011}$/constexpr int ROUGH_HASH = 0;      \\/\\/ OPTIMIZE {0, 0b00000001, 0b00010001, 0b00010011, 0b00110011}/' -e 's/^constexpr double TARGET_BEAM_WIDTH_INCREASE_RATE = .*;      \\/\\/ OPTIMIZE \\[0\\.25, 4\\.0\\] LOG$/constexpr double TARGET_BEAM_WIDTH_INCREASE_RATE = 3.1103876383953013;      \\/\\/ OPTIMIZE [0.25, 4.0] LOG/' -e 's/^constexpr double TARGET_BEAM_WIDTH_HALF_PROGRES_RATE = .*;  \\/\\/ OPTIMIZE \\[0\\.02, 0\\.98\\]$/constexpr double TARGET_BEAM_WIDTH_HALF_PROGRES_RATE = 0.6444385020424502;  \\/\\/ OPTIMIZE [0.02, 0.98]/' -e 's/^constexpr auto MAX_BEAM_WIDTH = .*;                        \\/\\/ OPTIMIZE \\[400, 4000\\] LOG$/constexpr auto MAX_BEAM_WIDTH = 908;                        \\/\\/ OPTIMIZE [400, 4000] LOG/'\n",
      "g++ 2_main.cpp -std=gnu++17 -O2 -DONLINE_JUDGE -o 2_main.cpp.out 2> /dev/null\n"
     ]
    },
    {
     "name": "stderr",
     "output_type": "stream",
     "text": [
      "\u001b[32m[I 2021-09-11 02:59:18,032]\u001b[0m Trial 131 finished with value: 991443977.0 and parameters: {'hash_table_size': 10, 'K_START': 0.05601419483984067, 'K_END': 0.06517245255788956, 'K_H': 0.48501602769601326, 'PURCHASE_TURN_LIMIT': 830, 'ROUGH_HASH': '0', 'TARGET_BEAM_WIDTH_INCREASE_RATE': 3.2001966732692915, 'TARGET_BEAM_WIDTH_HALF_PROGRES_RATE': 0.7700352111915252, 'MAX_BEAM_WIDTH': 903}. Best is trial 124 with value: 999226849.0.\u001b[0m\n"
     ]
    },
    {
     "name": "stdout",
     "output_type": "stream",
     "text": [
      "callback ok\n",
      "index_parallel=3\n",
      "sed -i 3_main.cpp -e 's/^constexpr int hash_table_size = .*;         \\/\\/ OPTIMIZE \\[9, 18\\]$/constexpr int hash_table_size = 9;         \\/\\/ OPTIMIZE [9, 18]/' -e 's/^constexpr double K_START = .*;  \\/\\/ OPTIMIZE \\[0\\.04, 0\\.2\\] LOG$/constexpr double K_START = 0.0591380454649554;  \\/\\/ OPTIMIZE [0.04, 0.2] LOG/' -e 's/^constexpr double K_END = .*;   \\/\\/ OPTIMIZE \\[0\\.03, 0\\.1\\] LOG$/constexpr double K_END = 0.0670311667452031;   \\/\\/ OPTIMIZE [0.03, 0.1] LOG/' -e 's/^constexpr double K_H = .*;      \\/\\/ OPTIMIZE \\[0\\.001, 0\\.999\\]$/constexpr double K_H = 0.3948976587284317;      \\/\\/ OPTIMIZE [0.001, 0.999]/' -e 's/^constexpr short PURCHASE_TURN_LIMIT = .*;  \\/\\/ OPTIMIZE \\[790, 870\\]$/constexpr short PURCHASE_TURN_LIMIT = 826;  \\/\\/ OPTIMIZE [790, 870]/' -e 's/^constexpr int ROUGH_HASH = .*;      \\/\\/ OPTIMIZE {0, 0b00000001, 0b00010001, 0b00010011, 0b00110011}$/constexpr int ROUGH_HASH = 0;      \\/\\/ OPTIMIZE {0, 0b00000001, 0b00010001, 0b00010011, 0b00110011}/' -e 's/^constexpr double TARGET_BEAM_WIDTH_INCREASE_RATE = .*;      \\/\\/ OPTIMIZE \\[0\\.25, 4\\.0\\] LOG$/constexpr double TARGET_BEAM_WIDTH_INCREASE_RATE = 2.540541835068327;      \\/\\/ OPTIMIZE [0.25, 4.0] LOG/' -e 's/^constexpr double TARGET_BEAM_WIDTH_HALF_PROGRES_RATE = .*;  \\/\\/ OPTIMIZE \\[0\\.02, 0\\.98\\]$/constexpr double TARGET_BEAM_WIDTH_HALF_PROGRES_RATE = 0.42655686903800005;  \\/\\/ OPTIMIZE [0.02, 0.98]/' -e 's/^constexpr auto MAX_BEAM_WIDTH = .*;                        \\/\\/ OPTIMIZE \\[400, 4000\\] LOG$/constexpr auto MAX_BEAM_WIDTH = 920;                        \\/\\/ OPTIMIZE [400, 4000] LOG/'\n",
      "g++ 3_main.cpp -std=gnu++17 -O2 -DONLINE_JUDGE -o 3_main.cpp.out 2> /dev/null\n"
     ]
    },
    {
     "name": "stderr",
     "output_type": "stream",
     "text": [
      "\u001b[32m[I 2021-09-11 03:00:37,771]\u001b[0m Trial 132 finished with value: 990375867.0 and parameters: {'hash_table_size': 10, 'K_START': 0.05169687125718017, 'K_END': 0.06642748520866086, 'K_H': 0.4872684195412807, 'PURCHASE_TURN_LIMIT': 830, 'ROUGH_HASH': '0', 'TARGET_BEAM_WIDTH_INCREASE_RATE': 3.0601549775472754, 'TARGET_BEAM_WIDTH_HALF_PROGRES_RATE': 0.7732475971771821, 'MAX_BEAM_WIDTH': 914}. Best is trial 124 with value: 999226849.0.\u001b[0m\n"
     ]
    },
    {
     "name": "stdout",
     "output_type": "stream",
     "text": [
      "callback ok\n",
      "index_parallel=4\n",
      "sed -i 4_main.cpp -e 's/^constexpr int hash_table_size = .*;         \\/\\/ OPTIMIZE \\[9, 18\\]$/constexpr int hash_table_size = 9;         \\/\\/ OPTIMIZE [9, 18]/' -e 's/^constexpr double K_START = .*;  \\/\\/ OPTIMIZE \\[0\\.04, 0\\.2\\] LOG$/constexpr double K_START = 0.05848630838547311;  \\/\\/ OPTIMIZE [0.04, 0.2] LOG/' -e 's/^constexpr double K_END = .*;   \\/\\/ OPTIMIZE \\[0\\.03, 0\\.1\\] LOG$/constexpr double K_END = 0.06045602841034221;   \\/\\/ OPTIMIZE [0.03, 0.1] LOG/' -e 's/^constexpr double K_H = .*;      \\/\\/ OPTIMIZE \\[0\\.001, 0\\.999\\]$/constexpr double K_H = 0.3396999744791638;      \\/\\/ OPTIMIZE [0.001, 0.999]/' -e 's/^constexpr short PURCHASE_TURN_LIMIT = .*;  \\/\\/ OPTIMIZE \\[790, 870\\]$/constexpr short PURCHASE_TURN_LIMIT = 826;  \\/\\/ OPTIMIZE [790, 870]/' -e 's/^constexpr int ROUGH_HASH = .*;      \\/\\/ OPTIMIZE {0, 0b00000001, 0b00010001, 0b00010011, 0b00110011}$/constexpr int ROUGH_HASH = 0;      \\/\\/ OPTIMIZE {0, 0b00000001, 0b00010001, 0b00010011, 0b00110011}/' -e 's/^constexpr double TARGET_BEAM_WIDTH_INCREASE_RATE = .*;      \\/\\/ OPTIMIZE \\[0\\.25, 4\\.0\\] LOG$/constexpr double TARGET_BEAM_WIDTH_INCREASE_RATE = 2.30145649094603;      \\/\\/ OPTIMIZE [0.25, 4.0] LOG/' -e 's/^constexpr double TARGET_BEAM_WIDTH_HALF_PROGRES_RATE = .*;  \\/\\/ OPTIMIZE \\[0\\.02, 0\\.98\\]$/constexpr double TARGET_BEAM_WIDTH_HALF_PROGRES_RATE = 0.42096228808226677;  \\/\\/ OPTIMIZE [0.02, 0.98]/' -e 's/^constexpr auto MAX_BEAM_WIDTH = .*;                        \\/\\/ OPTIMIZE \\[400, 4000\\] LOG$/constexpr auto MAX_BEAM_WIDTH = 811;                        \\/\\/ OPTIMIZE [400, 4000] LOG/'\n",
      "g++ 4_main.cpp -std=gnu++17 -O2 -DONLINE_JUDGE -o 4_main.cpp.out 2> /dev/null\n"
     ]
    },
    {
     "name": "stderr",
     "output_type": "stream",
     "text": [
      "\u001b[32m[I 2021-09-11 03:00:51,688]\u001b[0m Trial 133 finished with value: 992609941.0 and parameters: {'hash_table_size': 9, 'K_START': 0.05761709889846701, 'K_END': 0.06590857736274336, 'K_H': 0.39841167523642185, 'PURCHASE_TURN_LIMIT': 830, 'ROUGH_HASH': '0', 'TARGET_BEAM_WIDTH_INCREASE_RATE': 2.3264121731947496, 'TARGET_BEAM_WIDTH_HALF_PROGRES_RATE': 0.809928214420205, 'MAX_BEAM_WIDTH': 910}. Best is trial 124 with value: 999226849.0.\u001b[0m\n"
     ]
    },
    {
     "name": "stdout",
     "output_type": "stream",
     "text": [
      "callback ok\n",
      "index_parallel=5\n",
      "sed -i 5_main.cpp -e 's/^constexpr int hash_table_size = .*;         \\/\\/ OPTIMIZE \\[9, 18\\]$/constexpr int hash_table_size = 9;         \\/\\/ OPTIMIZE [9, 18]/' -e 's/^constexpr double K_START = .*;  \\/\\/ OPTIMIZE \\[0\\.04, 0\\.2\\] LOG$/constexpr double K_START = 0.05668128014974997;  \\/\\/ OPTIMIZE [0.04, 0.2] LOG/' -e 's/^constexpr double K_END = .*;   \\/\\/ OPTIMIZE \\[0\\.03, 0\\.1\\] LOG$/constexpr double K_END = 0.05995699268444649;   \\/\\/ OPTIMIZE [0.03, 0.1] LOG/' -e 's/^constexpr double K_H = .*;      \\/\\/ OPTIMIZE \\[0\\.001, 0\\.999\\]$/constexpr double K_H = 0.3882044033431489;      \\/\\/ OPTIMIZE [0.001, 0.999]/' -e 's/^constexpr short PURCHASE_TURN_LIMIT = .*;  \\/\\/ OPTIMIZE \\[790, 870\\]$/constexpr short PURCHASE_TURN_LIMIT = 826;  \\/\\/ OPTIMIZE [790, 870]/' -e 's/^constexpr int ROUGH_HASH = .*;      \\/\\/ OPTIMIZE {0, 0b00000001, 0b00010001, 0b00010011, 0b00110011}$/constexpr int ROUGH_HASH = 0;      \\/\\/ OPTIMIZE {0, 0b00000001, 0b00010001, 0b00010011, 0b00110011}/' -e 's/^constexpr double TARGET_BEAM_WIDTH_INCREASE_RATE = .*;      \\/\\/ OPTIMIZE \\[0\\.25, 4\\.0\\] LOG$/constexpr double TARGET_BEAM_WIDTH_INCREASE_RATE = 2.5129729184772205;      \\/\\/ OPTIMIZE [0.25, 4.0] LOG/' -e 's/^constexpr double TARGET_BEAM_WIDTH_HALF_PROGRES_RATE = .*;  \\/\\/ OPTIMIZE \\[0\\.02, 0\\.98\\]$/constexpr double TARGET_BEAM_WIDTH_HALF_PROGRES_RATE = 0.6498109655946391;  \\/\\/ OPTIMIZE [0.02, 0.98]/' -e 's/^constexpr auto MAX_BEAM_WIDTH = .*;                        \\/\\/ OPTIMIZE \\[400, 4000\\] LOG$/constexpr auto MAX_BEAM_WIDTH = 977;                        \\/\\/ OPTIMIZE [400, 4000] LOG/'\n",
      "g++ 5_main.cpp -std=gnu++17 -O2 -DONLINE_JUDGE -o 5_main.cpp.out 2> /dev/null\n"
     ]
    },
    {
     "name": "stderr",
     "output_type": "stream",
     "text": [
      "\u001b[32m[I 2021-09-11 03:00:58,289]\u001b[0m Trial 134 finished with value: 996721096.0 and parameters: {'hash_table_size': 9, 'K_START': 0.055544275458506896, 'K_END': 0.06551387353295288, 'K_H': 0.3883503234903495, 'PURCHASE_TURN_LIMIT': 829, 'ROUGH_HASH': '0', 'TARGET_BEAM_WIDTH_INCREASE_RATE': 3.1103876383953013, 'TARGET_BEAM_WIDTH_HALF_PROGRES_RATE': 0.6444385020424502, 'MAX_BEAM_WIDTH': 908}. Best is trial 124 with value: 999226849.0.\u001b[0m\n"
     ]
    },
    {
     "name": "stdout",
     "output_type": "stream",
     "text": [
      "callback ok\n",
      "index_parallel=6\n",
      "sed -i 6_main.cpp -e 's/^constexpr int hash_table_size = .*;         \\/\\/ OPTIMIZE \\[9, 18\\]$/constexpr int hash_table_size = 9;         \\/\\/ OPTIMIZE [9, 18]/' -e 's/^constexpr double K_START = .*;  \\/\\/ OPTIMIZE \\[0\\.04, 0\\.2\\] LOG$/constexpr double K_START = 0.05279735876996074;  \\/\\/ OPTIMIZE [0.04, 0.2] LOG/' -e 's/^constexpr double K_END = .*;   \\/\\/ OPTIMIZE \\[0\\.03, 0\\.1\\] LOG$/constexpr double K_END = 0.06846783547746263;   \\/\\/ OPTIMIZE [0.03, 0.1] LOG/' -e 's/^constexpr double K_H = .*;      \\/\\/ OPTIMIZE \\[0\\.001, 0\\.999\\]$/constexpr double K_H = 0.33892035077201804;      \\/\\/ OPTIMIZE [0.001, 0.999]/' -e 's/^constexpr short PURCHASE_TURN_LIMIT = .*;  \\/\\/ OPTIMIZE \\[790, 870\\]$/constexpr short PURCHASE_TURN_LIMIT = 826;  \\/\\/ OPTIMIZE [790, 870]/' -e 's/^constexpr int ROUGH_HASH = .*;      \\/\\/ OPTIMIZE {0, 0b00000001, 0b00010001, 0b00010011, 0b00110011}$/constexpr int ROUGH_HASH = 0;      \\/\\/ OPTIMIZE {0, 0b00000001, 0b00010001, 0b00010011, 0b00110011}/' -e 's/^constexpr double TARGET_BEAM_WIDTH_INCREASE_RATE = .*;      \\/\\/ OPTIMIZE \\[0\\.25, 4\\.0\\] LOG$/constexpr double TARGET_BEAM_WIDTH_INCREASE_RATE = 3.352444223448605;      \\/\\/ OPTIMIZE [0.25, 4.0] LOG/' -e 's/^constexpr double TARGET_BEAM_WIDTH_HALF_PROGRES_RATE = .*;  \\/\\/ OPTIMIZE \\[0\\.02, 0\\.98\\]$/constexpr double TARGET_BEAM_WIDTH_HALF_PROGRES_RATE = 0.6467273970099062;  \\/\\/ OPTIMIZE [0.02, 0.98]/' -e 's/^constexpr auto MAX_BEAM_WIDTH = .*;                        \\/\\/ OPTIMIZE \\[400, 4000\\] LOG$/constexpr auto MAX_BEAM_WIDTH = 957;                        \\/\\/ OPTIMIZE [400, 4000] LOG/'\n",
      "g++ 6_main.cpp -std=gnu++17 -O2 -DONLINE_JUDGE -o 6_main.cpp.out 2> /dev/null\n"
     ]
    },
    {
     "name": "stderr",
     "output_type": "stream",
     "text": [
      "\u001b[32m[I 2021-09-11 03:01:08,911]\u001b[0m Trial 135 finished with value: 996247988.0 and parameters: {'hash_table_size': 9, 'K_START': 0.0591380454649554, 'K_END': 0.0670311667452031, 'K_H': 0.3948976587284317, 'PURCHASE_TURN_LIMIT': 826, 'ROUGH_HASH': '0', 'TARGET_BEAM_WIDTH_INCREASE_RATE': 2.540541835068327, 'TARGET_BEAM_WIDTH_HALF_PROGRES_RATE': 0.42655686903800005, 'MAX_BEAM_WIDTH': 920}. Best is trial 124 with value: 999226849.0.\u001b[0m\n"
     ]
    },
    {
     "name": "stdout",
     "output_type": "stream",
     "text": [
      "callback ok\n",
      "index_parallel=7\n",
      "sed -i 7_main.cpp -e 's/^constexpr int hash_table_size = .*;         \\/\\/ OPTIMIZE \\[9, 18\\]$/constexpr int hash_table_size = 9;         \\/\\/ OPTIMIZE [9, 18]/' -e 's/^constexpr double K_START = .*;  \\/\\/ OPTIMIZE \\[0\\.04, 0\\.2\\] LOG$/constexpr double K_START = 0.0608579307075621;  \\/\\/ OPTIMIZE [0.04, 0.2] LOG/' -e 's/^constexpr double K_END = .*;   \\/\\/ OPTIMIZE \\[0\\.03, 0\\.1\\] LOG$/constexpr double K_END = 0.07246855687830722;   \\/\\/ OPTIMIZE [0.03, 0.1] LOG/' -e 's/^constexpr double K_H = .*;      \\/\\/ OPTIMIZE \\[0\\.001, 0\\.999\\]$/constexpr double K_H = 0.32903495705437746;      \\/\\/ OPTIMIZE [0.001, 0.999]/' -e 's/^constexpr short PURCHASE_TURN_LIMIT = .*;  \\/\\/ OPTIMIZE \\[790, 870\\]$/constexpr short PURCHASE_TURN_LIMIT = 826;  \\/\\/ OPTIMIZE [790, 870]/' -e 's/^constexpr int ROUGH_HASH = .*;      \\/\\/ OPTIMIZE {0, 0b00000001, 0b00010001, 0b00010011, 0b00110011}$/constexpr int ROUGH_HASH = 0;      \\/\\/ OPTIMIZE {0, 0b00000001, 0b00010001, 0b00010011, 0b00110011}/' -e 's/^constexpr double TARGET_BEAM_WIDTH_INCREASE_RATE = .*;      \\/\\/ OPTIMIZE \\[0\\.25, 4\\.0\\] LOG$/constexpr double TARGET_BEAM_WIDTH_INCREASE_RATE = 2.773271444480848;      \\/\\/ OPTIMIZE [0.25, 4.0] LOG/' -e 's/^constexpr double TARGET_BEAM_WIDTH_HALF_PROGRES_RATE = .*;  \\/\\/ OPTIMIZE \\[0\\.02, 0\\.98\\]$/constexpr double TARGET_BEAM_WIDTH_HALF_PROGRES_RATE = 0.6472303592821833;  \\/\\/ OPTIMIZE [0.02, 0.98]/' -e 's/^constexpr auto MAX_BEAM_WIDTH = .*;                        \\/\\/ OPTIMIZE \\[400, 4000\\] LOG$/constexpr auto MAX_BEAM_WIDTH = 817;                        \\/\\/ OPTIMIZE [400, 4000] LOG/'\n",
      "g++ 7_main.cpp -std=gnu++17 -O2 -DONLINE_JUDGE -o 7_main.cpp.out 2> /dev/null\n"
     ]
    },
    {
     "name": "stderr",
     "output_type": "stream",
     "text": [
      "\u001b[32m[I 2021-09-11 03:02:28,342]\u001b[0m Trial 136 finished with value: 994635232.0 and parameters: {'hash_table_size': 9, 'K_START': 0.05848630838547311, 'K_END': 0.06045602841034221, 'K_H': 0.3396999744791638, 'PURCHASE_TURN_LIMIT': 826, 'ROUGH_HASH': '0', 'TARGET_BEAM_WIDTH_INCREASE_RATE': 2.30145649094603, 'TARGET_BEAM_WIDTH_HALF_PROGRES_RATE': 0.42096228808226677, 'MAX_BEAM_WIDTH': 811}. Best is trial 124 with value: 999226849.0.\u001b[0m\n"
     ]
    },
    {
     "name": "stdout",
     "output_type": "stream",
     "text": [
      "callback ok\n",
      "index_parallel=8\n",
      "sed -i 8_main.cpp -e 's/^constexpr int hash_table_size = .*;         \\/\\/ OPTIMIZE \\[9, 18\\]$/constexpr int hash_table_size = 9;         \\/\\/ OPTIMIZE [9, 18]/' -e 's/^constexpr double K_START = .*;  \\/\\/ OPTIMIZE \\[0\\.04, 0\\.2\\] LOG$/constexpr double K_START = 0.05540164058221172;  \\/\\/ OPTIMIZE [0.04, 0.2] LOG/' -e 's/^constexpr double K_END = .*;   \\/\\/ OPTIMIZE \\[0\\.03, 0\\.1\\] LOG$/constexpr double K_END = 0.0696875280470653;   \\/\\/ OPTIMIZE [0.03, 0.1] LOG/' -e 's/^constexpr double K_H = .*;      \\/\\/ OPTIMIZE \\[0\\.001, 0\\.999\\]$/constexpr double K_H = 0.39054484012633484;      \\/\\/ OPTIMIZE [0.001, 0.999]/' -e 's/^constexpr short PURCHASE_TURN_LIMIT = .*;  \\/\\/ OPTIMIZE \\[790, 870\\]$/constexpr short PURCHASE_TURN_LIMIT = 828;  \\/\\/ OPTIMIZE [790, 870]/' -e 's/^constexpr int ROUGH_HASH = .*;      \\/\\/ OPTIMIZE {0, 0b00000001, 0b00010001, 0b00010011, 0b00110011}$/constexpr int ROUGH_HASH = 0b00110011;      \\/\\/ OPTIMIZE {0, 0b00000001, 0b00010001, 0b00010011, 0b00110011}/' -e 's/^constexpr double TARGET_BEAM_WIDTH_INCREASE_RATE = .*;      \\/\\/ OPTIMIZE \\[0\\.25, 4\\.0\\] LOG$/constexpr double TARGET_BEAM_WIDTH_INCREASE_RATE = 2.7833695966719554;      \\/\\/ OPTIMIZE [0.25, 4.0] LOG/' -e 's/^constexpr double TARGET_BEAM_WIDTH_HALF_PROGRES_RATE = .*;  \\/\\/ OPTIMIZE \\[0\\.02, 0\\.98\\]$/constexpr double TARGET_BEAM_WIDTH_HALF_PROGRES_RATE = 0.6476662548241385;  \\/\\/ OPTIMIZE [0.02, 0.98]/' -e 's/^constexpr auto MAX_BEAM_WIDTH = .*;                        \\/\\/ OPTIMIZE \\[400, 4000\\] LOG$/constexpr auto MAX_BEAM_WIDTH = 972;                        \\/\\/ OPTIMIZE [400, 4000] LOG/'\n",
      "g++ 8_main.cpp -std=gnu++17 -O2 -DONLINE_JUDGE -o 8_main.cpp.out 2> /dev/null\n"
     ]
    },
    {
     "name": "stderr",
     "output_type": "stream",
     "text": [
      "\u001b[32m[I 2021-09-11 03:02:37,377]\u001b[0m Trial 137 finished with value: 995640364.0 and parameters: {'hash_table_size': 9, 'K_START': 0.05668128014974997, 'K_END': 0.05995699268444649, 'K_H': 0.3882044033431489, 'PURCHASE_TURN_LIMIT': 826, 'ROUGH_HASH': '0', 'TARGET_BEAM_WIDTH_INCREASE_RATE': 2.5129729184772205, 'TARGET_BEAM_WIDTH_HALF_PROGRES_RATE': 0.6498109655946391, 'MAX_BEAM_WIDTH': 977}. Best is trial 124 with value: 999226849.0.\u001b[0m\n"
     ]
    },
    {
     "name": "stdout",
     "output_type": "stream",
     "text": [
      "callback ok\n",
      "index_parallel=9\n",
      "sed -i 9_main.cpp -e 's/^constexpr int hash_table_size = .*;         \\/\\/ OPTIMIZE \\[9, 18\\]$/constexpr int hash_table_size = 9;         \\/\\/ OPTIMIZE [9, 18]/' -e 's/^constexpr double K_START = .*;  \\/\\/ OPTIMIZE \\[0\\.04, 0\\.2\\] LOG$/constexpr double K_START = 0.06094924371262531;  \\/\\/ OPTIMIZE [0.04, 0.2] LOG/' -e 's/^constexpr double K_END = .*;   \\/\\/ OPTIMIZE \\[0\\.03, 0\\.1\\] LOG$/constexpr double K_END = 0.07456388680598235;   \\/\\/ OPTIMIZE [0.03, 0.1] LOG/' -e 's/^constexpr double K_H = .*;      \\/\\/ OPTIMIZE \\[0\\.001, 0\\.999\\]$/constexpr double K_H = 0.3893548668920328;      \\/\\/ OPTIMIZE [0.001, 0.999]/' -e 's/^constexpr short PURCHASE_TURN_LIMIT = .*;  \\/\\/ OPTIMIZE \\[790, 870\\]$/constexpr short PURCHASE_TURN_LIMIT = 832;  \\/\\/ OPTIMIZE [790, 870]/' -e 's/^constexpr int ROUGH_HASH = .*;      \\/\\/ OPTIMIZE {0, 0b00000001, 0b00010001, 0b00010011, 0b00110011}$/constexpr int ROUGH_HASH = 0b00110011;      \\/\\/ OPTIMIZE {0, 0b00000001, 0b00010001, 0b00010011, 0b00110011}/' -e 's/^constexpr double TARGET_BEAM_WIDTH_INCREASE_RATE = .*;      \\/\\/ OPTIMIZE \\[0\\.25, 4\\.0\\] LOG$/constexpr double TARGET_BEAM_WIDTH_INCREASE_RATE = 3.620713923891356;      \\/\\/ OPTIMIZE [0.25, 4.0] LOG/' -e 's/^constexpr double TARGET_BEAM_WIDTH_HALF_PROGRES_RATE = .*;  \\/\\/ OPTIMIZE \\[0\\.02, 0\\.98\\]$/constexpr double TARGET_BEAM_WIDTH_HALF_PROGRES_RATE = 0.6419017279287803;  \\/\\/ OPTIMIZE [0.02, 0.98]/' -e 's/^constexpr auto MAX_BEAM_WIDTH = .*;                        \\/\\/ OPTIMIZE \\[400, 4000\\] LOG$/constexpr auto MAX_BEAM_WIDTH = 979;                        \\/\\/ OPTIMIZE [400, 4000] LOG/'\n",
      "g++ 9_main.cpp -std=gnu++17 -O2 -DONLINE_JUDGE -o 9_main.cpp.out 2> /dev/null\n"
     ]
    },
    {
     "name": "stderr",
     "output_type": "stream",
     "text": [
      "\u001b[32m[I 2021-09-11 03:02:43,696]\u001b[0m Trial 138 finished with value: 994655501.0 and parameters: {'hash_table_size': 9, 'K_START': 0.05279735876996074, 'K_END': 0.06846783547746263, 'K_H': 0.33892035077201804, 'PURCHASE_TURN_LIMIT': 826, 'ROUGH_HASH': '0', 'TARGET_BEAM_WIDTH_INCREASE_RATE': 3.352444223448605, 'TARGET_BEAM_WIDTH_HALF_PROGRES_RATE': 0.6467273970099062, 'MAX_BEAM_WIDTH': 957}. Best is trial 124 with value: 999226849.0.\u001b[0m\n"
     ]
    },
    {
     "name": "stdout",
     "output_type": "stream",
     "text": [
      "callback ok\n",
      "index_parallel=10\n",
      "sed -i 10_main.cpp -e 's/^constexpr int hash_table_size = .*;         \\/\\/ OPTIMIZE \\[9, 18\\]$/constexpr int hash_table_size = 9;         \\/\\/ OPTIMIZE [9, 18]/' -e 's/^constexpr double K_START = .*;  \\/\\/ OPTIMIZE \\[0\\.04, 0\\.2\\] LOG$/constexpr double K_START = 0.06141275552792412;  \\/\\/ OPTIMIZE [0.04, 0.2] LOG/' -e 's/^constexpr double K_END = .*;   \\/\\/ OPTIMIZE \\[0\\.03, 0\\.1\\] LOG$/constexpr double K_END = 0.07234615301943392;   \\/\\/ OPTIMIZE [0.03, 0.1] LOG/' -e 's/^constexpr double K_H = .*;      \\/\\/ OPTIMIZE \\[0\\.001, 0\\.999\\]$/constexpr double K_H = 0.4023466687972875;      \\/\\/ OPTIMIZE [0.001, 0.999]/' -e 's/^constexpr short PURCHASE_TURN_LIMIT = .*;  \\/\\/ OPTIMIZE \\[790, 870\\]$/constexpr short PURCHASE_TURN_LIMIT = 828;  \\/\\/ OPTIMIZE [790, 870]/' -e 's/^constexpr int ROUGH_HASH = .*;      \\/\\/ OPTIMIZE {0, 0b00000001, 0b00010001, 0b00010011, 0b00110011}$/constexpr int ROUGH_HASH = 0b00110011;      \\/\\/ OPTIMIZE {0, 0b00000001, 0b00010001, 0b00010011, 0b00110011}/' -e 's/^constexpr double TARGET_BEAM_WIDTH_INCREASE_RATE = .*;      \\/\\/ OPTIMIZE \\[0\\.25, 4\\.0\\] LOG$/constexpr double TARGET_BEAM_WIDTH_INCREASE_RATE = 2.8273142179303647;      \\/\\/ OPTIMIZE [0.25, 4.0] LOG/' -e 's/^constexpr double TARGET_BEAM_WIDTH_HALF_PROGRES_RATE = .*;  \\/\\/ OPTIMIZE \\[0\\.02, 0\\.98\\]$/constexpr double TARGET_BEAM_WIDTH_HALF_PROGRES_RATE = 0.6701199491434909;  \\/\\/ OPTIMIZE [0.02, 0.98]/' -e 's/^constexpr auto MAX_BEAM_WIDTH = .*;                        \\/\\/ OPTIMIZE \\[400, 4000\\] LOG$/constexpr auto MAX_BEAM_WIDTH = 871;                        \\/\\/ OPTIMIZE [400, 4000] LOG/'\n",
      "g++ 10_main.cpp -std=gnu++17 -O2 -DONLINE_JUDGE -o 10_main.cpp.out 2> /dev/null\n"
     ]
    },
    {
     "name": "stderr",
     "output_type": "stream",
     "text": [
      "\u001b[32m[I 2021-09-11 03:02:53,816]\u001b[0m Trial 139 finished with value: 994591326.0 and parameters: {'hash_table_size': 9, 'K_START': 0.0608579307075621, 'K_END': 0.07246855687830722, 'K_H': 0.32903495705437746, 'PURCHASE_TURN_LIMIT': 826, 'ROUGH_HASH': '0', 'TARGET_BEAM_WIDTH_INCREASE_RATE': 2.773271444480848, 'TARGET_BEAM_WIDTH_HALF_PROGRES_RATE': 0.6472303592821833, 'MAX_BEAM_WIDTH': 817}. Best is trial 124 with value: 999226849.0.\u001b[0m\n"
     ]
    },
    {
     "name": "stdout",
     "output_type": "stream",
     "text": [
      "callback ok\n",
      "index_parallel=11\n",
      "sed -i 11_main.cpp -e 's/^constexpr int hash_table_size = .*;         \\/\\/ OPTIMIZE \\[9, 18\\]$/constexpr int hash_table_size = 10;         \\/\\/ OPTIMIZE [9, 18]/' -e 's/^constexpr double K_START = .*;  \\/\\/ OPTIMIZE \\[0\\.04, 0\\.2\\] LOG$/constexpr double K_START = 0.055519668509667386;  \\/\\/ OPTIMIZE [0.04, 0.2] LOG/' -e 's/^constexpr double K_END = .*;   \\/\\/ OPTIMIZE \\[0\\.03, 0\\.1\\] LOG$/constexpr double K_END = 0.06746867743831021;   \\/\\/ OPTIMIZE [0.03, 0.1] LOG/' -e 's/^constexpr double K_H = .*;      \\/\\/ OPTIMIZE \\[0\\.001, 0\\.999\\]$/constexpr double K_H = 0.3967887905788815;      \\/\\/ OPTIMIZE [0.001, 0.999]/' -e 's/^constexpr short PURCHASE_TURN_LIMIT = .*;  \\/\\/ OPTIMIZE \\[790, 870\\]$/constexpr short PURCHASE_TURN_LIMIT = 835;  \\/\\/ OPTIMIZE [790, 870]/' -e 's/^constexpr int ROUGH_HASH = .*;      \\/\\/ OPTIMIZE {0, 0b00000001, 0b00010001, 0b00010011, 0b00110011}$/constexpr int ROUGH_HASH = 0;      \\/\\/ OPTIMIZE {0, 0b00000001, 0b00010001, 0b00010011, 0b00110011}/' -e 's/^constexpr double TARGET_BEAM_WIDTH_INCREASE_RATE = .*;      \\/\\/ OPTIMIZE \\[0\\.25, 4\\.0\\] LOG$/constexpr double TARGET_BEAM_WIDTH_INCREASE_RATE = 3.540485284424944;      \\/\\/ OPTIMIZE [0.25, 4.0] LOG/' -e 's/^constexpr double TARGET_BEAM_WIDTH_HALF_PROGRES_RATE = .*;  \\/\\/ OPTIMIZE \\[0\\.02, 0\\.98\\]$/constexpr double TARGET_BEAM_WIDTH_HALF_PROGRES_RATE = 0.6653273712707194;  \\/\\/ OPTIMIZE [0.02, 0.98]/' -e 's/^constexpr auto MAX_BEAM_WIDTH = .*;                        \\/\\/ OPTIMIZE \\[400, 4000\\] LOG$/constexpr auto MAX_BEAM_WIDTH = 989;                        \\/\\/ OPTIMIZE [400, 4000] LOG/'\n",
      "g++ 11_main.cpp -std=gnu++17 -O2 -DONLINE_JUDGE -o 11_main.cpp.out 2> /dev/null\n"
     ]
    },
    {
     "name": "stderr",
     "output_type": "stream",
     "text": [
      "\u001b[32m[I 2021-09-11 03:04:13,772]\u001b[0m Trial 140 finished with value: 975623266.0 and parameters: {'hash_table_size': 9, 'K_START': 0.05540164058221172, 'K_END': 0.0696875280470653, 'K_H': 0.39054484012633484, 'PURCHASE_TURN_LIMIT': 828, 'ROUGH_HASH': '0b00110011', 'TARGET_BEAM_WIDTH_INCREASE_RATE': 2.7833695966719554, 'TARGET_BEAM_WIDTH_HALF_PROGRES_RATE': 0.6476662548241385, 'MAX_BEAM_WIDTH': 972}. Best is trial 124 with value: 999226849.0.\u001b[0m\n"
     ]
    },
    {
     "name": "stdout",
     "output_type": "stream",
     "text": [
      "callback ok\n",
      "index_parallel=0\n",
      "sed -i 0_main.cpp -e 's/^constexpr int hash_table_size = .*;         \\/\\/ OPTIMIZE \\[9, 18\\]$/constexpr int hash_table_size = 9;         \\/\\/ OPTIMIZE [9, 18]/' -e 's/^constexpr double K_START = .*;  \\/\\/ OPTIMIZE \\[0\\.04, 0\\.2\\] LOG$/constexpr double K_START = 0.05824362408680581;  \\/\\/ OPTIMIZE [0.04, 0.2] LOG/' -e 's/^constexpr double K_END = .*;   \\/\\/ OPTIMIZE \\[0\\.03, 0\\.1\\] LOG$/constexpr double K_END = 0.06301642659660969;   \\/\\/ OPTIMIZE [0.03, 0.1] LOG/' -e 's/^constexpr double K_H = .*;      \\/\\/ OPTIMIZE \\[0\\.001, 0\\.999\\]$/constexpr double K_H = 0.38308104889342853;      \\/\\/ OPTIMIZE [0.001, 0.999]/' -e 's/^constexpr short PURCHASE_TURN_LIMIT = .*;  \\/\\/ OPTIMIZE \\[790, 870\\]$/constexpr short PURCHASE_TURN_LIMIT = 832;  \\/\\/ OPTIMIZE [790, 870]/' -e 's/^constexpr int ROUGH_HASH = .*;      \\/\\/ OPTIMIZE {0, 0b00000001, 0b00010001, 0b00010011, 0b00110011}$/constexpr int ROUGH_HASH = 0;      \\/\\/ OPTIMIZE {0, 0b00000001, 0b00010001, 0b00010011, 0b00110011}/' -e 's/^constexpr double TARGET_BEAM_WIDTH_INCREASE_RATE = .*;      \\/\\/ OPTIMIZE \\[0\\.25, 4\\.0\\] LOG$/constexpr double TARGET_BEAM_WIDTH_INCREASE_RATE = 3.753650604683648;      \\/\\/ OPTIMIZE [0.25, 4.0] LOG/' -e 's/^constexpr double TARGET_BEAM_WIDTH_HALF_PROGRES_RATE = .*;  \\/\\/ OPTIMIZE \\[0\\.02, 0\\.98\\]$/constexpr double TARGET_BEAM_WIDTH_HALF_PROGRES_RATE = 0.39461836047754517;  \\/\\/ OPTIMIZE [0.02, 0.98]/' -e 's/^constexpr auto MAX_BEAM_WIDTH = .*;                        \\/\\/ OPTIMIZE \\[400, 4000\\] LOG$/constexpr auto MAX_BEAM_WIDTH = 757;                        \\/\\/ OPTIMIZE [400, 4000] LOG/'\n",
      "g++ 0_main.cpp -std=gnu++17 -O2 -DONLINE_JUDGE -o 0_main.cpp.out 2> /dev/null\n"
     ]
    },
    {
     "name": "stderr",
     "output_type": "stream",
     "text": [
      "\u001b[32m[I 2021-09-11 03:04:22,219]\u001b[0m Trial 141 finished with value: 981357823.0 and parameters: {'hash_table_size': 9, 'K_START': 0.06094924371262531, 'K_END': 0.07456388680598235, 'K_H': 0.3893548668920328, 'PURCHASE_TURN_LIMIT': 832, 'ROUGH_HASH': '0b00110011', 'TARGET_BEAM_WIDTH_INCREASE_RATE': 3.620713923891356, 'TARGET_BEAM_WIDTH_HALF_PROGRES_RATE': 0.6419017279287803, 'MAX_BEAM_WIDTH': 979}. Best is trial 124 with value: 999226849.0.\u001b[0m\n"
     ]
    },
    {
     "name": "stdout",
     "output_type": "stream",
     "text": [
      "callback ok\n",
      "index_parallel=1\n",
      "sed -i 1_main.cpp -e 's/^constexpr int hash_table_size = .*;         \\/\\/ OPTIMIZE \\[9, 18\\]$/constexpr int hash_table_size = 9;         \\/\\/ OPTIMIZE [9, 18]/' -e 's/^constexpr double K_START = .*;  \\/\\/ OPTIMIZE \\[0\\.04, 0\\.2\\] LOG$/constexpr double K_START = 0.062955006800703;  \\/\\/ OPTIMIZE [0.04, 0.2] LOG/' -e 's/^constexpr double K_END = .*;   \\/\\/ OPTIMIZE \\[0\\.03, 0\\.1\\] LOG$/constexpr double K_END = 0.06308818117610993;   \\/\\/ OPTIMIZE [0.03, 0.1] LOG/' -e 's/^constexpr double K_H = .*;      \\/\\/ OPTIMIZE \\[0\\.001, 0\\.999\\]$/constexpr double K_H = 0.4137315382149191;      \\/\\/ OPTIMIZE [0.001, 0.999]/' -e 's/^constexpr short PURCHASE_TURN_LIMIT = .*;  \\/\\/ OPTIMIZE \\[790, 870\\]$/constexpr short PURCHASE_TURN_LIMIT = 828;  \\/\\/ OPTIMIZE [790, 870]/' -e 's/^constexpr int ROUGH_HASH = .*;      \\/\\/ OPTIMIZE {0, 0b00000001, 0b00010001, 0b00010011, 0b00110011}$/constexpr int ROUGH_HASH = 0;      \\/\\/ OPTIMIZE {0, 0b00000001, 0b00010001, 0b00010011, 0b00110011}/' -e 's/^constexpr double TARGET_BEAM_WIDTH_INCREASE_RATE = .*;      \\/\\/ OPTIMIZE \\[0\\.25, 4\\.0\\] LOG$/constexpr double TARGET_BEAM_WIDTH_INCREASE_RATE = 2.574571192577328;      \\/\\/ OPTIMIZE [0.25, 4.0] LOG/' -e 's/^constexpr double TARGET_BEAM_WIDTH_HALF_PROGRES_RATE = .*;  \\/\\/ OPTIMIZE \\[0\\.02, 0\\.98\\]$/constexpr double TARGET_BEAM_WIDTH_HALF_PROGRES_RATE = 0.6701664559045892;  \\/\\/ OPTIMIZE [0.02, 0.98]/' -e 's/^constexpr auto MAX_BEAM_WIDTH = .*;                        \\/\\/ OPTIMIZE \\[400, 4000\\] LOG$/constexpr auto MAX_BEAM_WIDTH = 844;                        \\/\\/ OPTIMIZE [400, 4000] LOG/'\n",
      "g++ 1_main.cpp -std=gnu++17 -O2 -DONLINE_JUDGE -o 1_main.cpp.out 2> /dev/null\n"
     ]
    },
    {
     "name": "stderr",
     "output_type": "stream",
     "text": [
      "\u001b[32m[I 2021-09-11 03:04:29,899]\u001b[0m Trial 142 finished with value: 980512038.0 and parameters: {'hash_table_size': 9, 'K_START': 0.06141275552792412, 'K_END': 0.07234615301943392, 'K_H': 0.4023466687972875, 'PURCHASE_TURN_LIMIT': 828, 'ROUGH_HASH': '0b00110011', 'TARGET_BEAM_WIDTH_INCREASE_RATE': 2.8273142179303647, 'TARGET_BEAM_WIDTH_HALF_PROGRES_RATE': 0.6701199491434909, 'MAX_BEAM_WIDTH': 871}. Best is trial 124 with value: 999226849.0.\u001b[0m\n"
     ]
    },
    {
     "name": "stdout",
     "output_type": "stream",
     "text": [
      "callback ok\n",
      "index_parallel=2\n",
      "sed -i 2_main.cpp -e 's/^constexpr int hash_table_size = .*;         \\/\\/ OPTIMIZE \\[9, 18\\]$/constexpr int hash_table_size = 9;         \\/\\/ OPTIMIZE [9, 18]/' -e 's/^constexpr double K_START = .*;  \\/\\/ OPTIMIZE \\[0\\.04, 0\\.2\\] LOG$/constexpr double K_START = 0.050650207905347064;  \\/\\/ OPTIMIZE [0.04, 0.2] LOG/' -e 's/^constexpr double K_END = .*;   \\/\\/ OPTIMIZE \\[0\\.03, 0\\.1\\] LOG$/constexpr double K_END = 0.06262515818441829;   \\/\\/ OPTIMIZE [0.03, 0.1] LOG/' -e 's/^constexpr double K_H = .*;      \\/\\/ OPTIMIZE \\[0\\.001, 0\\.999\\]$/constexpr double K_H = 0.4193175027917191;      \\/\\/ OPTIMIZE [0.001, 0.999]/' -e 's/^constexpr short PURCHASE_TURN_LIMIT = .*;  \\/\\/ OPTIMIZE \\[790, 870\\]$/constexpr short PURCHASE_TURN_LIMIT = 836;  \\/\\/ OPTIMIZE [790, 870]/' -e 's/^constexpr int ROUGH_HASH = .*;      \\/\\/ OPTIMIZE {0, 0b00000001, 0b00010001, 0b00010011, 0b00110011}$/constexpr int ROUGH_HASH = 0;      \\/\\/ OPTIMIZE {0, 0b00000001, 0b00010001, 0b00010011, 0b00110011}/' -e 's/^constexpr double TARGET_BEAM_WIDTH_INCREASE_RATE = .*;      \\/\\/ OPTIMIZE \\[0\\.25, 4\\.0\\] LOG$/constexpr double TARGET_BEAM_WIDTH_INCREASE_RATE = 2.458736646481223;      \\/\\/ OPTIMIZE [0.25, 4.0] LOG/' -e 's/^constexpr double TARGET_BEAM_WIDTH_HALF_PROGRES_RATE = .*;  \\/\\/ OPTIMIZE \\[0\\.02, 0\\.98\\]$/constexpr double TARGET_BEAM_WIDTH_HALF_PROGRES_RATE = 0.695010346326313;  \\/\\/ OPTIMIZE [0.02, 0.98]/' -e 's/^constexpr auto MAX_BEAM_WIDTH = .*;                        \\/\\/ OPTIMIZE \\[400, 4000\\] LOG$/constexpr auto MAX_BEAM_WIDTH = 774;                        \\/\\/ OPTIMIZE [400, 4000] LOG/'\n",
      "g++ 2_main.cpp -std=gnu++17 -O2 -DONLINE_JUDGE -o 2_main.cpp.out 2> /dev/null\n"
     ]
    },
    {
     "name": "stderr",
     "output_type": "stream",
     "text": [
      "\u001b[32m[I 2021-09-11 03:04:39,490]\u001b[0m Trial 143 finished with value: 997058055.0 and parameters: {'hash_table_size': 10, 'K_START': 0.055519668509667386, 'K_END': 0.06746867743831021, 'K_H': 0.3967887905788815, 'PURCHASE_TURN_LIMIT': 835, 'ROUGH_HASH': '0', 'TARGET_BEAM_WIDTH_INCREASE_RATE': 3.540485284424944, 'TARGET_BEAM_WIDTH_HALF_PROGRES_RATE': 0.6653273712707194, 'MAX_BEAM_WIDTH': 989}. Best is trial 124 with value: 999226849.0.\u001b[0m\n"
     ]
    },
    {
     "name": "stdout",
     "output_type": "stream",
     "text": [
      "callback ok\n",
      "index_parallel=3\n",
      "sed -i 3_main.cpp -e 's/^constexpr int hash_table_size = .*;         \\/\\/ OPTIMIZE \\[9, 18\\]$/constexpr int hash_table_size = 10;         \\/\\/ OPTIMIZE [9, 18]/' -e 's/^constexpr double K_START = .*;  \\/\\/ OPTIMIZE \\[0\\.04, 0\\.2\\] LOG$/constexpr double K_START = 0.06413037829053715;  \\/\\/ OPTIMIZE [0.04, 0.2] LOG/' -e 's/^constexpr double K_END = .*;   \\/\\/ OPTIMIZE \\[0\\.03, 0\\.1\\] LOG$/constexpr double K_END = 0.06309067043635112;   \\/\\/ OPTIMIZE [0.03, 0.1] LOG/' -e 's/^constexpr double K_H = .*;      \\/\\/ OPTIMIZE \\[0\\.001, 0\\.999\\]$/constexpr double K_H = 0.45091294047934816;      \\/\\/ OPTIMIZE [0.001, 0.999]/' -e 's/^constexpr short PURCHASE_TURN_LIMIT = .*;  \\/\\/ OPTIMIZE \\[790, 870\\]$/constexpr short PURCHASE_TURN_LIMIT = 836;  \\/\\/ OPTIMIZE [790, 870]/' -e 's/^constexpr int ROUGH_HASH = .*;      \\/\\/ OPTIMIZE {0, 0b00000001, 0b00010001, 0b00010011, 0b00110011}$/constexpr int ROUGH_HASH = 0;      \\/\\/ OPTIMIZE {0, 0b00000001, 0b00010001, 0b00010011, 0b00110011}/' -e 's/^constexpr double TARGET_BEAM_WIDTH_INCREASE_RATE = .*;      \\/\\/ OPTIMIZE \\[0\\.25, 4\\.0\\] LOG$/constexpr double TARGET_BEAM_WIDTH_INCREASE_RATE = 3.7694299535518434;      \\/\\/ OPTIMIZE [0.25, 4.0] LOG/' -e 's/^constexpr double TARGET_BEAM_WIDTH_HALF_PROGRES_RATE = .*;  \\/\\/ OPTIMIZE \\[0\\.02, 0\\.98\\]$/constexpr double TARGET_BEAM_WIDTH_HALF_PROGRES_RATE = 0.7034855084729816;  \\/\\/ OPTIMIZE [0.02, 0.98]/' -e 's/^constexpr auto MAX_BEAM_WIDTH = .*;                        \\/\\/ OPTIMIZE \\[400, 4000\\] LOG$/constexpr auto MAX_BEAM_WIDTH = 765;                        \\/\\/ OPTIMIZE [400, 4000] LOG/'\n",
      "g++ 3_main.cpp -std=gnu++17 -O2 -DONLINE_JUDGE -o 3_main.cpp.out 2> /dev/null\n"
     ]
    },
    {
     "name": "stderr",
     "output_type": "stream",
     "text": [
      "\u001b[32m[I 2021-09-11 03:05:53,130]\u001b[0m Trial 144 finished with value: 993504161.0 and parameters: {'hash_table_size': 9, 'K_START': 0.05824362408680581, 'K_END': 0.06301642659660969, 'K_H': 0.38308104889342853, 'PURCHASE_TURN_LIMIT': 832, 'ROUGH_HASH': '0', 'TARGET_BEAM_WIDTH_INCREASE_RATE': 3.753650604683648, 'TARGET_BEAM_WIDTH_HALF_PROGRES_RATE': 0.39461836047754517, 'MAX_BEAM_WIDTH': 757}. Best is trial 124 with value: 999226849.0.\u001b[0m\n"
     ]
    },
    {
     "name": "stdout",
     "output_type": "stream",
     "text": [
      "callback ok\n",
      "index_parallel=4\n",
      "sed -i 4_main.cpp -e 's/^constexpr int hash_table_size = .*;         \\/\\/ OPTIMIZE \\[9, 18\\]$/constexpr int hash_table_size = 10;         \\/\\/ OPTIMIZE [9, 18]/' -e 's/^constexpr double K_START = .*;  \\/\\/ OPTIMIZE \\[0\\.04, 0\\.2\\] LOG$/constexpr double K_START = 0.06360678252572478;  \\/\\/ OPTIMIZE [0.04, 0.2] LOG/' -e 's/^constexpr double K_END = .*;   \\/\\/ OPTIMIZE \\[0\\.03, 0\\.1\\] LOG$/constexpr double K_END = 0.07956885760740044;   \\/\\/ OPTIMIZE [0.03, 0.1] LOG/' -e 's/^constexpr double K_H = .*;      \\/\\/ OPTIMIZE \\[0\\.001, 0\\.999\\]$/constexpr double K_H = 0.4504692689077508;      \\/\\/ OPTIMIZE [0.001, 0.999]/' -e 's/^constexpr short PURCHASE_TURN_LIMIT = .*;  \\/\\/ OPTIMIZE \\[790, 870\\]$/constexpr short PURCHASE_TURN_LIMIT = 836;  \\/\\/ OPTIMIZE [790, 870]/' -e 's/^constexpr int ROUGH_HASH = .*;      \\/\\/ OPTIMIZE {0, 0b00000001, 0b00010001, 0b00010011, 0b00110011}$/constexpr int ROUGH_HASH = 0b00000001;      \\/\\/ OPTIMIZE {0, 0b00000001, 0b00010001, 0b00010011, 0b00110011}/' -e 's/^constexpr double TARGET_BEAM_WIDTH_INCREASE_RATE = .*;      \\/\\/ OPTIMIZE \\[0\\.25, 4\\.0\\] LOG$/constexpr double TARGET_BEAM_WIDTH_INCREASE_RATE = 3.1383343464686853;      \\/\\/ OPTIMIZE [0.25, 4.0] LOG/' -e 's/^constexpr double TARGET_BEAM_WIDTH_HALF_PROGRES_RATE = .*;  \\/\\/ OPTIMIZE \\[0\\.02, 0\\.98\\]$/constexpr double TARGET_BEAM_WIDTH_HALF_PROGRES_RATE = 0.6962400019835222;  \\/\\/ OPTIMIZE [0.02, 0.98]/' -e 's/^constexpr auto MAX_BEAM_WIDTH = .*;                        \\/\\/ OPTIMIZE \\[400, 4000\\] LOG$/constexpr auto MAX_BEAM_WIDTH = 1053;                        \\/\\/ OPTIMIZE [400, 4000] LOG/'\n",
      "g++ 4_main.cpp -std=gnu++17 -O2 -DONLINE_JUDGE -o 4_main.cpp.out 2> /dev/null\n"
     ]
    },
    {
     "name": "stderr",
     "output_type": "stream",
     "text": [
      "\u001b[32m[I 2021-09-11 03:06:07,643]\u001b[0m Trial 145 finished with value: 997540247.0 and parameters: {'hash_table_size': 9, 'K_START': 0.062955006800703, 'K_END': 0.06308818117610993, 'K_H': 0.4137315382149191, 'PURCHASE_TURN_LIMIT': 828, 'ROUGH_HASH': '0', 'TARGET_BEAM_WIDTH_INCREASE_RATE': 2.574571192577328, 'TARGET_BEAM_WIDTH_HALF_PROGRES_RATE': 0.6701664559045892, 'MAX_BEAM_WIDTH': 844}. Best is trial 124 with value: 999226849.0.\u001b[0m\n"
     ]
    },
    {
     "name": "stdout",
     "output_type": "stream",
     "text": [
      "callback ok\n",
      "index_parallel=5\n",
      "sed -i 5_main.cpp -e 's/^constexpr int hash_table_size = .*;         \\/\\/ OPTIMIZE \\[9, 18\\]$/constexpr int hash_table_size = 10;         \\/\\/ OPTIMIZE [9, 18]/' -e 's/^constexpr double K_START = .*;  \\/\\/ OPTIMIZE \\[0\\.04, 0\\.2\\] LOG$/constexpr double K_START = 0.06342885996703448;  \\/\\/ OPTIMIZE [0.04, 0.2] LOG/' -e 's/^constexpr double K_END = .*;   \\/\\/ OPTIMIZE \\[0\\.03, 0\\.1\\] LOG$/constexpr double K_END = 0.07090191146713523;   \\/\\/ OPTIMIZE [0.03, 0.1] LOG/' -e 's/^constexpr double K_H = .*;      \\/\\/ OPTIMIZE \\[0\\.001, 0\\.999\\]$/constexpr double K_H = 0.4622195432016938;      \\/\\/ OPTIMIZE [0.001, 0.999]/' -e 's/^constexpr short PURCHASE_TURN_LIMIT = .*;  \\/\\/ OPTIMIZE \\[790, 870\\]$/constexpr short PURCHASE_TURN_LIMIT = 835;  \\/\\/ OPTIMIZE [790, 870]/' -e 's/^constexpr int ROUGH_HASH = .*;      \\/\\/ OPTIMIZE {0, 0b00000001, 0b00010001, 0b00010011, 0b00110011}$/constexpr int ROUGH_HASH = 0b00000001;      \\/\\/ OPTIMIZE {0, 0b00000001, 0b00010001, 0b00010011, 0b00110011}/' -e 's/^constexpr double TARGET_BEAM_WIDTH_INCREASE_RATE = .*;      \\/\\/ OPTIMIZE \\[0\\.25, 4\\.0\\] LOG$/constexpr double TARGET_BEAM_WIDTH_INCREASE_RATE = 2.5508930345905365;      \\/\\/ OPTIMIZE [0.25, 4.0] LOG/' -e 's/^constexpr double TARGET_BEAM_WIDTH_HALF_PROGRES_RATE = .*;  \\/\\/ OPTIMIZE \\[0\\.02, 0\\.98\\]$/constexpr double TARGET_BEAM_WIDTH_HALF_PROGRES_RATE = 0.669373278971341;  \\/\\/ OPTIMIZE [0.02, 0.98]/' -e 's/^constexpr auto MAX_BEAM_WIDTH = .*;                        \\/\\/ OPTIMIZE \\[400, 4000\\] LOG$/constexpr auto MAX_BEAM_WIDTH = 880;                        \\/\\/ OPTIMIZE [400, 4000] LOG/'\n",
      "g++ 5_main.cpp -std=gnu++17 -O2 -DONLINE_JUDGE -o 5_main.cpp.out 2> /dev/null\n"
     ]
    },
    {
     "name": "stderr",
     "output_type": "stream",
     "text": [
      "\u001b[32m[I 2021-09-11 03:06:14,895]\u001b[0m Trial 146 finished with value: 996631144.0 and parameters: {'hash_table_size': 9, 'K_START': 0.050650207905347064, 'K_END': 0.06262515818441829, 'K_H': 0.4193175027917191, 'PURCHASE_TURN_LIMIT': 836, 'ROUGH_HASH': '0', 'TARGET_BEAM_WIDTH_INCREASE_RATE': 2.458736646481223, 'TARGET_BEAM_WIDTH_HALF_PROGRES_RATE': 0.695010346326313, 'MAX_BEAM_WIDTH': 774}. Best is trial 124 with value: 999226849.0.\u001b[0m\n"
     ]
    },
    {
     "name": "stdout",
     "output_type": "stream",
     "text": [
      "callback ok\n",
      "index_parallel=6\n",
      "sed -i 6_main.cpp -e 's/^constexpr int hash_table_size = .*;         \\/\\/ OPTIMIZE \\[9, 18\\]$/constexpr int hash_table_size = 10;         \\/\\/ OPTIMIZE [9, 18]/' -e 's/^constexpr double K_START = .*;  \\/\\/ OPTIMIZE \\[0\\.04, 0\\.2\\] LOG$/constexpr double K_START = 0.053437829323431676;  \\/\\/ OPTIMIZE [0.04, 0.2] LOG/' -e 's/^constexpr double K_END = .*;   \\/\\/ OPTIMIZE \\[0\\.03, 0\\.1\\] LOG$/constexpr double K_END = 0.06823111734549107;   \\/\\/ OPTIMIZE [0.03, 0.1] LOG/' -e 's/^constexpr double K_H = .*;      \\/\\/ OPTIMIZE \\[0\\.001, 0\\.999\\]$/constexpr double K_H = 0.4566405162564221;      \\/\\/ OPTIMIZE [0.001, 0.999]/' -e 's/^constexpr short PURCHASE_TURN_LIMIT = .*;  \\/\\/ OPTIMIZE \\[790, 870\\]$/constexpr short PURCHASE_TURN_LIMIT = 835;  \\/\\/ OPTIMIZE [790, 870]/' -e 's/^constexpr int ROUGH_HASH = .*;      \\/\\/ OPTIMIZE {0, 0b00000001, 0b00010001, 0b00010011, 0b00110011}$/constexpr int ROUGH_HASH = 0;      \\/\\/ OPTIMIZE {0, 0b00000001, 0b00010001, 0b00010011, 0b00110011}/' -e 's/^constexpr double TARGET_BEAM_WIDTH_INCREASE_RATE = .*;      \\/\\/ OPTIMIZE \\[0\\.25, 4\\.0\\] LOG$/constexpr double TARGET_BEAM_WIDTH_INCREASE_RATE = 3.2173416893276516;      \\/\\/ OPTIMIZE [0.25, 4.0] LOG/' -e 's/^constexpr double TARGET_BEAM_WIDTH_HALF_PROGRES_RATE = .*;  \\/\\/ OPTIMIZE \\[0\\.02, 0\\.98\\]$/constexpr double TARGET_BEAM_WIDTH_HALF_PROGRES_RATE = 0.6730685083652537;  \\/\\/ OPTIMIZE [0.02, 0.98]/' -e 's/^constexpr auto MAX_BEAM_WIDTH = .*;                        \\/\\/ OPTIMIZE \\[400, 4000\\] LOG$/constexpr auto MAX_BEAM_WIDTH = 612;                        \\/\\/ OPTIMIZE [400, 4000] LOG/'\n",
      "g++ 6_main.cpp -std=gnu++17 -O2 -DONLINE_JUDGE -o 6_main.cpp.out 2> /dev/null\n"
     ]
    },
    {
     "name": "stderr",
     "output_type": "stream",
     "text": [
      "\u001b[32m[I 2021-09-11 03:06:25,312]\u001b[0m Trial 147 finished with value: 996029389.0 and parameters: {'hash_table_size': 10, 'K_START': 0.06413037829053715, 'K_END': 0.06309067043635112, 'K_H': 0.45091294047934816, 'PURCHASE_TURN_LIMIT': 836, 'ROUGH_HASH': '0', 'TARGET_BEAM_WIDTH_INCREASE_RATE': 3.7694299535518434, 'TARGET_BEAM_WIDTH_HALF_PROGRES_RATE': 0.7034855084729816, 'MAX_BEAM_WIDTH': 765}. Best is trial 124 with value: 999226849.0.\u001b[0m\n"
     ]
    },
    {
     "name": "stdout",
     "output_type": "stream",
     "text": [
      "callback ok\n",
      "index_parallel=7\n",
      "sed -i 7_main.cpp -e 's/^constexpr int hash_table_size = .*;         \\/\\/ OPTIMIZE \\[9, 18\\]$/constexpr int hash_table_size = 10;         \\/\\/ OPTIMIZE [9, 18]/' -e 's/^constexpr double K_START = .*;  \\/\\/ OPTIMIZE \\[0\\.04, 0\\.2\\] LOG$/constexpr double K_START = 0.05054277155136189;  \\/\\/ OPTIMIZE [0.04, 0.2] LOG/' -e 's/^constexpr double K_END = .*;   \\/\\/ OPTIMIZE \\[0\\.03, 0\\.1\\] LOG$/constexpr double K_END = 0.0673264738250411;   \\/\\/ OPTIMIZE [0.03, 0.1] LOG/' -e 's/^constexpr double K_H = .*;      \\/\\/ OPTIMIZE \\[0\\.001, 0\\.999\\]$/constexpr double K_H = 0.46539148387384;      \\/\\/ OPTIMIZE [0.001, 0.999]/' -e 's/^constexpr short PURCHASE_TURN_LIMIT = .*;  \\/\\/ OPTIMIZE \\[790, 870\\]$/constexpr short PURCHASE_TURN_LIMIT = 835;  \\/\\/ OPTIMIZE [790, 870]/' -e 's/^constexpr int ROUGH_HASH = .*;      \\/\\/ OPTIMIZE {0, 0b00000001, 0b00010001, 0b00010011, 0b00110011}$/constexpr int ROUGH_HASH = 0b00000001;      \\/\\/ OPTIMIZE {0, 0b00000001, 0b00010001, 0b00010011, 0b00110011}/' -e 's/^constexpr double TARGET_BEAM_WIDTH_INCREASE_RATE = .*;      \\/\\/ OPTIMIZE \\[0\\.25, 4\\.0\\] LOG$/constexpr double TARGET_BEAM_WIDTH_INCREASE_RATE = 3.2988522093096986;      \\/\\/ OPTIMIZE [0.25, 4.0] LOG/' -e 's/^constexpr double TARGET_BEAM_WIDTH_HALF_PROGRES_RATE = .*;  \\/\\/ OPTIMIZE \\[0\\.02, 0\\.98\\]$/constexpr double TARGET_BEAM_WIDTH_HALF_PROGRES_RATE = 0.7193772591668471;  \\/\\/ OPTIMIZE [0.02, 0.98]/' -e 's/^constexpr auto MAX_BEAM_WIDTH = .*;                        \\/\\/ OPTIMIZE \\[400, 4000\\] LOG$/constexpr auto MAX_BEAM_WIDTH = 703;                        \\/\\/ OPTIMIZE [400, 4000] LOG/'\n",
      "g++ 7_main.cpp -std=gnu++17 -O2 -DONLINE_JUDGE -o 7_main.cpp.out 2> /dev/null\n"
     ]
    },
    {
     "name": "stderr",
     "output_type": "stream",
     "text": [
      "\u001b[32m[I 2021-09-11 03:07:38,553]\u001b[0m Trial 148 finished with value: 988398816.0 and parameters: {'hash_table_size': 10, 'K_START': 0.06360678252572478, 'K_END': 0.07956885760740044, 'K_H': 0.4504692689077508, 'PURCHASE_TURN_LIMIT': 836, 'ROUGH_HASH': '0b00000001', 'TARGET_BEAM_WIDTH_INCREASE_RATE': 3.1383343464686853, 'TARGET_BEAM_WIDTH_HALF_PROGRES_RATE': 0.6962400019835222, 'MAX_BEAM_WIDTH': 1053}. Best is trial 124 with value: 999226849.0.\u001b[0m\n"
     ]
    },
    {
     "name": "stdout",
     "output_type": "stream",
     "text": [
      "callback ok\n",
      "index_parallel=8\n",
      "sed -i 8_main.cpp -e 's/^constexpr int hash_table_size = .*;         \\/\\/ OPTIMIZE \\[9, 18\\]$/constexpr int hash_table_size = 10;         \\/\\/ OPTIMIZE [9, 18]/' -e 's/^constexpr double K_START = .*;  \\/\\/ OPTIMIZE \\[0\\.04, 0\\.2\\] LOG$/constexpr double K_START = 0.04696741979372346;  \\/\\/ OPTIMIZE [0.04, 0.2] LOG/' -e 's/^constexpr double K_END = .*;   \\/\\/ OPTIMIZE \\[0\\.03, 0\\.1\\] LOG$/constexpr double K_END = 0.06728022678201169;   \\/\\/ OPTIMIZE [0.03, 0.1] LOG/' -e 's/^constexpr double K_H = .*;      \\/\\/ OPTIMIZE \\[0\\.001, 0\\.999\\]$/constexpr double K_H = 0.42506210612166884;      \\/\\/ OPTIMIZE [0.001, 0.999]/' -e 's/^constexpr short PURCHASE_TURN_LIMIT = .*;  \\/\\/ OPTIMIZE \\[790, 870\\]$/constexpr short PURCHASE_TURN_LIMIT = 836;  \\/\\/ OPTIMIZE [790, 870]/' -e 's/^constexpr int ROUGH_HASH = .*;      \\/\\/ OPTIMIZE {0, 0b00000001, 0b00010001, 0b00010011, 0b00110011}$/constexpr int ROUGH_HASH = 0;      \\/\\/ OPTIMIZE {0, 0b00000001, 0b00010001, 0b00010011, 0b00110011}/' -e 's/^constexpr double TARGET_BEAM_WIDTH_INCREASE_RATE = .*;      \\/\\/ OPTIMIZE \\[0\\.25, 4\\.0\\] LOG$/constexpr double TARGET_BEAM_WIDTH_INCREASE_RATE = 3.569403478683251;      \\/\\/ OPTIMIZE [0.25, 4.0] LOG/' -e 's/^constexpr double TARGET_BEAM_WIDTH_HALF_PROGRES_RATE = .*;  \\/\\/ OPTIMIZE \\[0\\.02, 0\\.98\\]$/constexpr double TARGET_BEAM_WIDTH_HALF_PROGRES_RATE = 0.5914215835801243;  \\/\\/ OPTIMIZE [0.02, 0.98]/' -e 's/^constexpr auto MAX_BEAM_WIDTH = .*;                        \\/\\/ OPTIMIZE \\[400, 4000\\] LOG$/constexpr auto MAX_BEAM_WIDTH = 699;                        \\/\\/ OPTIMIZE [400, 4000] LOG/'\n",
      "g++ 8_main.cpp -std=gnu++17 -O2 -DONLINE_JUDGE -o 8_main.cpp.out 2> /dev/null\n"
     ]
    },
    {
     "name": "stderr",
     "output_type": "stream",
     "text": [
      "\u001b[32m[I 2021-09-11 03:07:53,466]\u001b[0m Trial 149 finished with value: 989551562.0 and parameters: {'hash_table_size': 10, 'K_START': 0.06342885996703448, 'K_END': 0.07090191146713523, 'K_H': 0.4622195432016938, 'PURCHASE_TURN_LIMIT': 835, 'ROUGH_HASH': '0b00000001', 'TARGET_BEAM_WIDTH_INCREASE_RATE': 2.5508930345905365, 'TARGET_BEAM_WIDTH_HALF_PROGRES_RATE': 0.669373278971341, 'MAX_BEAM_WIDTH': 880}. Best is trial 124 with value: 999226849.0.\u001b[0m\n"
     ]
    },
    {
     "name": "stdout",
     "output_type": "stream",
     "text": [
      "callback ok\n",
      "index_parallel=9\n",
      "sed -i 9_main.cpp -e 's/^constexpr int hash_table_size = .*;         \\/\\/ OPTIMIZE \\[9, 18\\]$/constexpr int hash_table_size = 10;         \\/\\/ OPTIMIZE [9, 18]/' -e 's/^constexpr double K_START = .*;  \\/\\/ OPTIMIZE \\[0\\.04, 0\\.2\\] LOG$/constexpr double K_START = 0.05107713069014255;  \\/\\/ OPTIMIZE [0.04, 0.2] LOG/' -e 's/^constexpr double K_END = .*;   \\/\\/ OPTIMIZE \\[0\\.03, 0\\.1\\] LOG$/constexpr double K_END = 0.0676398409186206;   \\/\\/ OPTIMIZE [0.03, 0.1] LOG/' -e 's/^constexpr double K_H = .*;      \\/\\/ OPTIMIZE \\[0\\.001, 0\\.999\\]$/constexpr double K_H = 0.43034422168606845;      \\/\\/ OPTIMIZE [0.001, 0.999]/' -e 's/^constexpr short PURCHASE_TURN_LIMIT = .*;  \\/\\/ OPTIMIZE \\[790, 870\\]$/constexpr short PURCHASE_TURN_LIMIT = 836;  \\/\\/ OPTIMIZE [790, 870]/' -e 's/^constexpr int ROUGH_HASH = .*;      \\/\\/ OPTIMIZE {0, 0b00000001, 0b00010001, 0b00010011, 0b00110011}$/constexpr int ROUGH_HASH = 0;      \\/\\/ OPTIMIZE {0, 0b00000001, 0b00010001, 0b00010011, 0b00110011}/' -e 's/^constexpr double TARGET_BEAM_WIDTH_INCREASE_RATE = .*;      \\/\\/ OPTIMIZE \\[0\\.25, 4\\.0\\] LOG$/constexpr double TARGET_BEAM_WIDTH_INCREASE_RATE = 3.8999974743383374;      \\/\\/ OPTIMIZE [0.25, 4.0] LOG/' -e 's/^constexpr double TARGET_BEAM_WIDTH_HALF_PROGRES_RATE = .*;  \\/\\/ OPTIMIZE \\[0\\.02, 0\\.98\\]$/constexpr double TARGET_BEAM_WIDTH_HALF_PROGRES_RATE = 0.7163569590078961;  \\/\\/ OPTIMIZE [0.02, 0.98]/' -e 's/^constexpr auto MAX_BEAM_WIDTH = .*;                        \\/\\/ OPTIMIZE \\[400, 4000\\] LOG$/constexpr auto MAX_BEAM_WIDTH = 699;                        \\/\\/ OPTIMIZE [400, 4000] LOG/'\n",
      "g++ 9_main.cpp -std=gnu++17 -O2 -DONLINE_JUDGE -o 9_main.cpp.out 2> /dev/null\n"
     ]
    },
    {
     "name": "stderr",
     "output_type": "stream",
     "text": [
      "\u001b[32m[I 2021-09-11 03:08:00,891]\u001b[0m Trial 150 finished with value: 991905138.0 and parameters: {'hash_table_size': 10, 'K_START': 0.053437829323431676, 'K_END': 0.06823111734549107, 'K_H': 0.4566405162564221, 'PURCHASE_TURN_LIMIT': 835, 'ROUGH_HASH': '0', 'TARGET_BEAM_WIDTH_INCREASE_RATE': 3.2173416893276516, 'TARGET_BEAM_WIDTH_HALF_PROGRES_RATE': 0.6730685083652537, 'MAX_BEAM_WIDTH': 612}. Best is trial 124 with value: 999226849.0.\u001b[0m\n"
     ]
    },
    {
     "name": "stdout",
     "output_type": "stream",
     "text": [
      "callback ok\n",
      "index_parallel=10\n",
      "sed -i 10_main.cpp -e 's/^constexpr int hash_table_size = .*;         \\/\\/ OPTIMIZE \\[9, 18\\]$/constexpr int hash_table_size = 10;         \\/\\/ OPTIMIZE [9, 18]/' -e 's/^constexpr double K_START = .*;  \\/\\/ OPTIMIZE \\[0\\.04, 0\\.2\\] LOG$/constexpr double K_START = 0.051592157138165305;  \\/\\/ OPTIMIZE [0.04, 0.2] LOG/' -e 's/^constexpr double K_END = .*;   \\/\\/ OPTIMIZE \\[0\\.03, 0\\.1\\] LOG$/constexpr double K_END = 0.06711078341704234;   \\/\\/ OPTIMIZE [0.03, 0.1] LOG/' -e 's/^constexpr double K_H = .*;      \\/\\/ OPTIMIZE \\[0\\.001, 0\\.999\\]$/constexpr double K_H = 0.4160857257005346;      \\/\\/ OPTIMIZE [0.001, 0.999]/' -e 's/^constexpr short PURCHASE_TURN_LIMIT = .*;  \\/\\/ OPTIMIZE \\[790, 870\\]$/constexpr short PURCHASE_TURN_LIMIT = 833;  \\/\\/ OPTIMIZE [790, 870]/' -e 's/^constexpr int ROUGH_HASH = .*;      \\/\\/ OPTIMIZE {0, 0b00000001, 0b00010001, 0b00010011, 0b00110011}$/constexpr int ROUGH_HASH = 0;      \\/\\/ OPTIMIZE {0, 0b00000001, 0b00010001, 0b00010011, 0b00110011}/' -e 's/^constexpr double TARGET_BEAM_WIDTH_INCREASE_RATE = .*;      \\/\\/ OPTIMIZE \\[0\\.25, 4\\.0\\] LOG$/constexpr double TARGET_BEAM_WIDTH_INCREASE_RATE = 3.6421488981692054;      \\/\\/ OPTIMIZE [0.25, 4.0] LOG/' -e 's/^constexpr double TARGET_BEAM_WIDTH_HALF_PROGRES_RATE = .*;  \\/\\/ OPTIMIZE \\[0\\.02, 0\\.98\\]$/constexpr double TARGET_BEAM_WIDTH_HALF_PROGRES_RATE = 0.7165847973941162;  \\/\\/ OPTIMIZE [0.02, 0.98]/' -e 's/^constexpr auto MAX_BEAM_WIDTH = .*;                        \\/\\/ OPTIMIZE \\[400, 4000\\] LOG$/constexpr auto MAX_BEAM_WIDTH = 695;                        \\/\\/ OPTIMIZE [400, 4000] LOG/'\n",
      "g++ 10_main.cpp -std=gnu++17 -O2 -DONLINE_JUDGE -o 10_main.cpp.out 2> /dev/null\n"
     ]
    },
    {
     "name": "stderr",
     "output_type": "stream",
     "text": [
      "\u001b[32m[I 2021-09-11 03:08:11,341]\u001b[0m Trial 151 finished with value: 993853752.0 and parameters: {'hash_table_size': 10, 'K_START': 0.05054277155136189, 'K_END': 0.0673264738250411, 'K_H': 0.46539148387384, 'PURCHASE_TURN_LIMIT': 835, 'ROUGH_HASH': '0b00000001', 'TARGET_BEAM_WIDTH_INCREASE_RATE': 3.2988522093096986, 'TARGET_BEAM_WIDTH_HALF_PROGRES_RATE': 0.7193772591668471, 'MAX_BEAM_WIDTH': 703}. Best is trial 124 with value: 999226849.0.\u001b[0m\n"
     ]
    },
    {
     "name": "stdout",
     "output_type": "stream",
     "text": [
      "callback ok\n",
      "index_parallel=11\n",
      "sed -i 11_main.cpp -e 's/^constexpr int hash_table_size = .*;         \\/\\/ OPTIMIZE \\[9, 18\\]$/constexpr int hash_table_size = 10;         \\/\\/ OPTIMIZE [9, 18]/' -e 's/^constexpr double K_START = .*;  \\/\\/ OPTIMIZE \\[0\\.04, 0\\.2\\] LOG$/constexpr double K_START = 0.06778715945625118;  \\/\\/ OPTIMIZE [0.04, 0.2] LOG/' -e 's/^constexpr double K_END = .*;   \\/\\/ OPTIMIZE \\[0\\.03, 0\\.1\\] LOG$/constexpr double K_END = 0.06435109876297351;   \\/\\/ OPTIMIZE [0.03, 0.1] LOG/' -e 's/^constexpr double K_H = .*;      \\/\\/ OPTIMIZE \\[0\\.001, 0\\.999\\]$/constexpr double K_H = 0.43365373175487865;      \\/\\/ OPTIMIZE [0.001, 0.999]/' -e 's/^constexpr short PURCHASE_TURN_LIMIT = .*;  \\/\\/ OPTIMIZE \\[790, 870\\]$/constexpr short PURCHASE_TURN_LIMIT = 833;  \\/\\/ OPTIMIZE [790, 870]/' -e 's/^constexpr int ROUGH_HASH = .*;      \\/\\/ OPTIMIZE {0, 0b00000001, 0b00010001, 0b00010011, 0b00110011}$/constexpr int ROUGH_HASH = 0;      \\/\\/ OPTIMIZE {0, 0b00000001, 0b00010001, 0b00010011, 0b00110011}/' -e 's/^constexpr double TARGET_BEAM_WIDTH_INCREASE_RATE = .*;      \\/\\/ OPTIMIZE \\[0\\.25, 4\\.0\\] LOG$/constexpr double TARGET_BEAM_WIDTH_INCREASE_RATE = 3.5713248476040214;      \\/\\/ OPTIMIZE [0.25, 4.0] LOG/' -e 's/^constexpr double TARGET_BEAM_WIDTH_HALF_PROGRES_RATE = .*;  \\/\\/ OPTIMIZE \\[0\\.02, 0\\.98\\]$/constexpr double TARGET_BEAM_WIDTH_HALF_PROGRES_RATE = 0.7101080121176933;  \\/\\/ OPTIMIZE [0.02, 0.98]/' -e 's/^constexpr auto MAX_BEAM_WIDTH = .*;                        \\/\\/ OPTIMIZE \\[400, 4000\\] LOG$/constexpr auto MAX_BEAM_WIDTH = 762;                        \\/\\/ OPTIMIZE [400, 4000] LOG/'\n",
      "g++ 11_main.cpp -std=gnu++17 -O2 -DONLINE_JUDGE -o 11_main.cpp.out 2> /dev/null\n"
     ]
    },
    {
     "name": "stderr",
     "output_type": "stream",
     "text": [
      "\u001b[32m[I 2021-09-11 03:09:24,352]\u001b[0m Trial 152 finished with value: 992134342.0 and parameters: {'hash_table_size': 10, 'K_START': 0.04696741979372346, 'K_END': 0.06728022678201169, 'K_H': 0.42506210612166884, 'PURCHASE_TURN_LIMIT': 836, 'ROUGH_HASH': '0', 'TARGET_BEAM_WIDTH_INCREASE_RATE': 3.569403478683251, 'TARGET_BEAM_WIDTH_HALF_PROGRES_RATE': 0.5914215835801243, 'MAX_BEAM_WIDTH': 699}. Best is trial 124 with value: 999226849.0.\u001b[0m\n"
     ]
    },
    {
     "name": "stdout",
     "output_type": "stream",
     "text": [
      "callback ok\n",
      "index_parallel=0\n",
      "sed -i 0_main.cpp -e 's/^constexpr int hash_table_size = .*;         \\/\\/ OPTIMIZE \\[9, 18\\]$/constexpr int hash_table_size = 9;         \\/\\/ OPTIMIZE [9, 18]/' -e 's/^constexpr double K_START = .*;  \\/\\/ OPTIMIZE \\[0\\.04, 0\\.2\\] LOG$/constexpr double K_START = 0.06809062644195177;  \\/\\/ OPTIMIZE [0.04, 0.2] LOG/' -e 's/^constexpr double K_END = .*;   \\/\\/ OPTIMIZE \\[0\\.03, 0\\.1\\] LOG$/constexpr double K_END = 0.06404651780164843;   \\/\\/ OPTIMIZE [0.03, 0.1] LOG/' -e 's/^constexpr double K_H = .*;      \\/\\/ OPTIMIZE \\[0\\.001, 0\\.999\\]$/constexpr double K_H = 0.4365728947977388;      \\/\\/ OPTIMIZE [0.001, 0.999]/' -e 's/^constexpr short PURCHASE_TURN_LIMIT = .*;  \\/\\/ OPTIMIZE \\[790, 870\\]$/constexpr short PURCHASE_TURN_LIMIT = 829;  \\/\\/ OPTIMIZE [790, 870]/' -e 's/^constexpr int ROUGH_HASH = .*;      \\/\\/ OPTIMIZE {0, 0b00000001, 0b00010001, 0b00010011, 0b00110011}$/constexpr int ROUGH_HASH = 0;      \\/\\/ OPTIMIZE {0, 0b00000001, 0b00010001, 0b00010011, 0b00110011}/' -e 's/^constexpr double TARGET_BEAM_WIDTH_INCREASE_RATE = .*;      \\/\\/ OPTIMIZE \\[0\\.25, 4\\.0\\] LOG$/constexpr double TARGET_BEAM_WIDTH_INCREASE_RATE = 2.941897379359875;      \\/\\/ OPTIMIZE [0.25, 4.0] LOG/' -e 's/^constexpr double TARGET_BEAM_WIDTH_HALF_PROGRES_RATE = .*;  \\/\\/ OPTIMIZE \\[0\\.02, 0\\.98\\]$/constexpr double TARGET_BEAM_WIDTH_HALF_PROGRES_RATE = 0.7114610591632002;  \\/\\/ OPTIMIZE [0.02, 0.98]/' -e 's/^constexpr auto MAX_BEAM_WIDTH = .*;                        \\/\\/ OPTIMIZE \\[400, 4000\\] LOG$/constexpr auto MAX_BEAM_WIDTH = 780;                        \\/\\/ OPTIMIZE [400, 4000] LOG/'\n",
      "g++ 0_main.cpp -std=gnu++17 -O2 -DONLINE_JUDGE -o 0_main.cpp.out 2> /dev/null\n"
     ]
    },
    {
     "name": "stderr",
     "output_type": "stream",
     "text": [
      "\u001b[32m[I 2021-09-11 03:09:38,885]\u001b[0m Trial 153 finished with value: 991688519.0 and parameters: {'hash_table_size': 10, 'K_START': 0.05107713069014255, 'K_END': 0.0676398409186206, 'K_H': 0.43034422168606845, 'PURCHASE_TURN_LIMIT': 836, 'ROUGH_HASH': '0', 'TARGET_BEAM_WIDTH_INCREASE_RATE': 3.8999974743383374, 'TARGET_BEAM_WIDTH_HALF_PROGRES_RATE': 0.7163569590078961, 'MAX_BEAM_WIDTH': 699}. Best is trial 124 with value: 999226849.0.\u001b[0m\n"
     ]
    },
    {
     "name": "stdout",
     "output_type": "stream",
     "text": [
      "callback ok\n",
      "index_parallel=1\n",
      "sed -i 1_main.cpp -e 's/^constexpr int hash_table_size = .*;         \\/\\/ OPTIMIZE \\[9, 18\\]$/constexpr int hash_table_size = 9;         \\/\\/ OPTIMIZE [9, 18]/' -e 's/^constexpr double K_START = .*;  \\/\\/ OPTIMIZE \\[0\\.04, 0\\.2\\] LOG$/constexpr double K_START = 0.0683663468545273;  \\/\\/ OPTIMIZE [0.04, 0.2] LOG/' -e 's/^constexpr double K_END = .*;   \\/\\/ OPTIMIZE \\[0\\.03, 0\\.1\\] LOG$/constexpr double K_END = 0.06426260575109771;   \\/\\/ OPTIMIZE [0.03, 0.1] LOG/' -e 's/^constexpr double K_H = .*;      \\/\\/ OPTIMIZE \\[0\\.001, 0\\.999\\]$/constexpr double K_H = 0.415938776853223;      \\/\\/ OPTIMIZE [0.001, 0.999]/' -e 's/^constexpr short PURCHASE_TURN_LIMIT = .*;  \\/\\/ OPTIMIZE \\[790, 870\\]$/constexpr short PURCHASE_TURN_LIMIT = 833;  \\/\\/ OPTIMIZE [790, 870]/' -e 's/^constexpr int ROUGH_HASH = .*;      \\/\\/ OPTIMIZE {0, 0b00000001, 0b00010001, 0b00010011, 0b00110011}$/constexpr int ROUGH_HASH = 0;      \\/\\/ OPTIMIZE {0, 0b00000001, 0b00010001, 0b00010011, 0b00110011}/' -e 's/^constexpr double TARGET_BEAM_WIDTH_INCREASE_RATE = .*;      \\/\\/ OPTIMIZE \\[0\\.25, 4\\.0\\] LOG$/constexpr double TARGET_BEAM_WIDTH_INCREASE_RATE = 2.8976701185759373;      \\/\\/ OPTIMIZE [0.25, 4.0] LOG/' -e 's/^constexpr double TARGET_BEAM_WIDTH_HALF_PROGRES_RATE = .*;  \\/\\/ OPTIMIZE \\[0\\.02, 0\\.98\\]$/constexpr double TARGET_BEAM_WIDTH_HALF_PROGRES_RATE = 0.623040132062217;  \\/\\/ OPTIMIZE [0.02, 0.98]/' -e 's/^constexpr auto MAX_BEAM_WIDTH = .*;                        \\/\\/ OPTIMIZE \\[400, 4000\\] LOG$/constexpr auto MAX_BEAM_WIDTH = 768;                        \\/\\/ OPTIMIZE [400, 4000] LOG/'\n",
      "g++ 1_main.cpp -std=gnu++17 -O2 -DONLINE_JUDGE -o 1_main.cpp.out 2> /dev/null\n"
     ]
    },
    {
     "name": "stderr",
     "output_type": "stream",
     "text": [
      "\u001b[32m[I 2021-09-11 03:09:46,149]\u001b[0m Trial 154 finished with value: 989967264.0 and parameters: {'hash_table_size': 10, 'K_START': 0.051592157138165305, 'K_END': 0.06711078341704234, 'K_H': 0.4160857257005346, 'PURCHASE_TURN_LIMIT': 833, 'ROUGH_HASH': '0', 'TARGET_BEAM_WIDTH_INCREASE_RATE': 3.6421488981692054, 'TARGET_BEAM_WIDTH_HALF_PROGRES_RATE': 0.7165847973941162, 'MAX_BEAM_WIDTH': 695}. Best is trial 124 with value: 999226849.0.\u001b[0m\n"
     ]
    },
    {
     "name": "stdout",
     "output_type": "stream",
     "text": [
      "callback ok\n",
      "index_parallel=2\n",
      "sed -i 2_main.cpp -e 's/^constexpr int hash_table_size = .*;         \\/\\/ OPTIMIZE \\[9, 18\\]$/constexpr int hash_table_size = 9;         \\/\\/ OPTIMIZE [9, 18]/' -e 's/^constexpr double K_START = .*;  \\/\\/ OPTIMIZE \\[0\\.04, 0\\.2\\] LOG$/constexpr double K_START = 0.06869699548478635;  \\/\\/ OPTIMIZE [0.04, 0.2] LOG/' -e 's/^constexpr double K_END = .*;   \\/\\/ OPTIMIZE \\[0\\.03, 0\\.1\\] LOG$/constexpr double K_END = 0.06490433433716081;   \\/\\/ OPTIMIZE [0.03, 0.1] LOG/' -e 's/^constexpr double K_H = .*;      \\/\\/ OPTIMIZE \\[0\\.001, 0\\.999\\]$/constexpr double K_H = 0.524929099057626;      \\/\\/ OPTIMIZE [0.001, 0.999]/' -e 's/^constexpr short PURCHASE_TURN_LIMIT = .*;  \\/\\/ OPTIMIZE \\[790, 870\\]$/constexpr short PURCHASE_TURN_LIMIT = 829;  \\/\\/ OPTIMIZE [790, 870]/' -e 's/^constexpr int ROUGH_HASH = .*;      \\/\\/ OPTIMIZE {0, 0b00000001, 0b00010001, 0b00010011, 0b00110011}$/constexpr int ROUGH_HASH = 0;      \\/\\/ OPTIMIZE {0, 0b00000001, 0b00010001, 0b00010011, 0b00110011}/' -e 's/^constexpr double TARGET_BEAM_WIDTH_INCREASE_RATE = .*;      \\/\\/ OPTIMIZE \\[0\\.25, 4\\.0\\] LOG$/constexpr double TARGET_BEAM_WIDTH_INCREASE_RATE = 3.0120602119814657;      \\/\\/ OPTIMIZE [0.25, 4.0] LOG/' -e 's/^constexpr double TARGET_BEAM_WIDTH_HALF_PROGRES_RATE = .*;  \\/\\/ OPTIMIZE \\[0\\.02, 0\\.98\\]$/constexpr double TARGET_BEAM_WIDTH_HALF_PROGRES_RATE = 0.6181558826552483;  \\/\\/ OPTIMIZE [0.02, 0.98]/' -e 's/^constexpr auto MAX_BEAM_WIDTH = .*;                        \\/\\/ OPTIMIZE \\[400, 4000\\] LOG$/constexpr auto MAX_BEAM_WIDTH = 776;                        \\/\\/ OPTIMIZE [400, 4000] LOG/'\n",
      "g++ 2_main.cpp -std=gnu++17 -O2 -DONLINE_JUDGE -o 2_main.cpp.out 2> /dev/null\n"
     ]
    },
    {
     "name": "stderr",
     "output_type": "stream",
     "text": [
      "\u001b[32m[I 2021-09-11 03:09:57,198]\u001b[0m Trial 155 finished with value: 996267407.0 and parameters: {'hash_table_size': 10, 'K_START': 0.06778715945625118, 'K_END': 0.06435109876297351, 'K_H': 0.43365373175487865, 'PURCHASE_TURN_LIMIT': 833, 'ROUGH_HASH': '0', 'TARGET_BEAM_WIDTH_INCREASE_RATE': 3.5713248476040214, 'TARGET_BEAM_WIDTH_HALF_PROGRES_RATE': 0.7101080121176933, 'MAX_BEAM_WIDTH': 762}. Best is trial 124 with value: 999226849.0.\u001b[0m\n"
     ]
    },
    {
     "name": "stdout",
     "output_type": "stream",
     "text": [
      "callback ok\n",
      "index_parallel=3\n",
      "sed -i 3_main.cpp -e 's/^constexpr int hash_table_size = .*;         \\/\\/ OPTIMIZE \\[9, 18\\]$/constexpr int hash_table_size = 10;         \\/\\/ OPTIMIZE [9, 18]/' -e 's/^constexpr double K_START = .*;  \\/\\/ OPTIMIZE \\[0\\.04, 0\\.2\\] LOG$/constexpr double K_START = 0.07438035717835953;  \\/\\/ OPTIMIZE [0.04, 0.2] LOG/' -e 's/^constexpr double K_END = .*;   \\/\\/ OPTIMIZE \\[0\\.03, 0\\.1\\] LOG$/constexpr double K_END = 0.06464919262457478;   \\/\\/ OPTIMIZE [0.03, 0.1] LOG/' -e 's/^constexpr double K_H = .*;      \\/\\/ OPTIMIZE \\[0\\.001, 0\\.999\\]$/constexpr double K_H = 0.44307873411148874;      \\/\\/ OPTIMIZE [0.001, 0.999]/' -e 's/^constexpr short PURCHASE_TURN_LIMIT = .*;  \\/\\/ OPTIMIZE \\[790, 870\\]$/constexpr short PURCHASE_TURN_LIMIT = 833;  \\/\\/ OPTIMIZE [790, 870]/' -e 's/^constexpr int ROUGH_HASH = .*;      \\/\\/ OPTIMIZE {0, 0b00000001, 0b00010001, 0b00010011, 0b00110011}$/constexpr int ROUGH_HASH = 0;      \\/\\/ OPTIMIZE {0, 0b00000001, 0b00010001, 0b00010011, 0b00110011}/' -e 's/^constexpr double TARGET_BEAM_WIDTH_INCREASE_RATE = .*;      \\/\\/ OPTIMIZE \\[0\\.25, 4\\.0\\] LOG$/constexpr double TARGET_BEAM_WIDTH_INCREASE_RATE = 2.998465119346773;      \\/\\/ OPTIMIZE [0.25, 4.0] LOG/' -e 's/^constexpr double TARGET_BEAM_WIDTH_HALF_PROGRES_RATE = .*;  \\/\\/ OPTIMIZE \\[0\\.02, 0\\.98\\]$/constexpr double TARGET_BEAM_WIDTH_HALF_PROGRES_RATE = 0.7477479019750022;  \\/\\/ OPTIMIZE [0.02, 0.98]/' -e 's/^constexpr auto MAX_BEAM_WIDTH = .*;                        \\/\\/ OPTIMIZE \\[400, 4000\\] LOG$/constexpr auto MAX_BEAM_WIDTH = 756;                        \\/\\/ OPTIMIZE [400, 4000] LOG/'\n",
      "g++ 3_main.cpp -std=gnu++17 -O2 -DONLINE_JUDGE -o 3_main.cpp.out 2> /dev/null\n"
     ]
    },
    {
     "name": "stderr",
     "output_type": "stream",
     "text": [
      "\u001b[32m[I 2021-09-11 03:11:09,327]\u001b[0m Trial 156 finished with value: 996005494.0 and parameters: {'hash_table_size': 9, 'K_START': 0.06809062644195177, 'K_END': 0.06404651780164843, 'K_H': 0.4365728947977388, 'PURCHASE_TURN_LIMIT': 829, 'ROUGH_HASH': '0', 'TARGET_BEAM_WIDTH_INCREASE_RATE': 2.941897379359875, 'TARGET_BEAM_WIDTH_HALF_PROGRES_RATE': 0.7114610591632002, 'MAX_BEAM_WIDTH': 780}. Best is trial 124 with value: 999226849.0.\u001b[0m\n"
     ]
    },
    {
     "name": "stdout",
     "output_type": "stream",
     "text": [
      "callback ok\n",
      "index_parallel=4\n",
      "sed -i 4_main.cpp -e 's/^constexpr int hash_table_size = .*;         \\/\\/ OPTIMIZE \\[9, 18\\]$/constexpr int hash_table_size = 10;         \\/\\/ OPTIMIZE [9, 18]/' -e 's/^constexpr double K_START = .*;  \\/\\/ OPTIMIZE \\[0\\.04, 0\\.2\\] LOG$/constexpr double K_START = 0.07493875381915745;  \\/\\/ OPTIMIZE [0.04, 0.2] LOG/' -e 's/^constexpr double K_END = .*;   \\/\\/ OPTIMIZE \\[0\\.03, 0\\.1\\] LOG$/constexpr double K_END = 0.0651842350583063;   \\/\\/ OPTIMIZE [0.03, 0.1] LOG/' -e 's/^constexpr double K_H = .*;      \\/\\/ OPTIMIZE \\[0\\.001, 0\\.999\\]$/constexpr double K_H = 0.3495850780306083;      \\/\\/ OPTIMIZE [0.001, 0.999]/' -e 's/^constexpr short PURCHASE_TURN_LIMIT = .*;  \\/\\/ OPTIMIZE \\[790, 870\\]$/constexpr short PURCHASE_TURN_LIMIT = 833;  \\/\\/ OPTIMIZE [790, 870]/' -e 's/^constexpr int ROUGH_HASH = .*;      \\/\\/ OPTIMIZE {0, 0b00000001, 0b00010001, 0b00010011, 0b00110011}$/constexpr int ROUGH_HASH = 0;      \\/\\/ OPTIMIZE {0, 0b00000001, 0b00010001, 0b00010011, 0b00110011}/' -e 's/^constexpr double TARGET_BEAM_WIDTH_INCREASE_RATE = .*;      \\/\\/ OPTIMIZE \\[0\\.25, 4\\.0\\] LOG$/constexpr double TARGET_BEAM_WIDTH_INCREASE_RATE = 3.8564297570767336;      \\/\\/ OPTIMIZE [0.25, 4.0] LOG/' -e 's/^constexpr double TARGET_BEAM_WIDTH_HALF_PROGRES_RATE = .*;  \\/\\/ OPTIMIZE \\[0\\.02, 0\\.98\\]$/constexpr double TARGET_BEAM_WIDTH_HALF_PROGRES_RATE = 0.6213297887176004;  \\/\\/ OPTIMIZE [0.02, 0.98]/' -e 's/^constexpr auto MAX_BEAM_WIDTH = .*;                        \\/\\/ OPTIMIZE \\[400, 4000\\] LOG$/constexpr auto MAX_BEAM_WIDTH = 743;                        \\/\\/ OPTIMIZE [400, 4000] LOG/'\n",
      "g++ 4_main.cpp -std=gnu++17 -O2 -DONLINE_JUDGE -o 4_main.cpp.out 2> /dev/null\n"
     ]
    },
    {
     "name": "stderr",
     "output_type": "stream",
     "text": [
      "\u001b[32m[I 2021-09-11 03:11:24,862]\u001b[0m Trial 157 finished with value: 996951230.0 and parameters: {'hash_table_size': 9, 'K_START': 0.0683663468545273, 'K_END': 0.06426260575109771, 'K_H': 0.415938776853223, 'PURCHASE_TURN_LIMIT': 833, 'ROUGH_HASH': '0', 'TARGET_BEAM_WIDTH_INCREASE_RATE': 2.8976701185759373, 'TARGET_BEAM_WIDTH_HALF_PROGRES_RATE': 0.623040132062217, 'MAX_BEAM_WIDTH': 768}. Best is trial 124 with value: 999226849.0.\u001b[0m\n"
     ]
    },
    {
     "name": "stdout",
     "output_type": "stream",
     "text": [
      "callback ok\n",
      "index_parallel=5\n",
      "sed -i 5_main.cpp -e 's/^constexpr int hash_table_size = .*;         \\/\\/ OPTIMIZE \\[9, 18\\]$/constexpr int hash_table_size = 9;         \\/\\/ OPTIMIZE [9, 18]/' -e 's/^constexpr double K_START = .*;  \\/\\/ OPTIMIZE \\[0\\.04, 0\\.2\\] LOG$/constexpr double K_START = 0.06568119623248607;  \\/\\/ OPTIMIZE [0.04, 0.2] LOG/' -e 's/^constexpr double K_END = .*;   \\/\\/ OPTIMIZE \\[0\\.03, 0\\.1\\] LOG$/constexpr double K_END = 0.06550421609691276;   \\/\\/ OPTIMIZE [0.03, 0.1] LOG/' -e 's/^constexpr double K_H = .*;      \\/\\/ OPTIMIZE \\[0\\.001, 0\\.999\\]$/constexpr double K_H = 0.3638603677530461;      \\/\\/ OPTIMIZE [0.001, 0.999]/' -e 's/^constexpr short PURCHASE_TURN_LIMIT = .*;  \\/\\/ OPTIMIZE \\[790, 870\\]$/constexpr short PURCHASE_TURN_LIMIT = 833;  \\/\\/ OPTIMIZE [790, 870]/' -e 's/^constexpr int ROUGH_HASH = .*;      \\/\\/ OPTIMIZE {0, 0b00000001, 0b00010001, 0b00010011, 0b00110011}$/constexpr int ROUGH_HASH = 0;      \\/\\/ OPTIMIZE {0, 0b00000001, 0b00010001, 0b00010011, 0b00110011}/' -e 's/^constexpr double TARGET_BEAM_WIDTH_INCREASE_RATE = .*;      \\/\\/ OPTIMIZE \\[0\\.25, 4\\.0\\] LOG$/constexpr double TARGET_BEAM_WIDTH_INCREASE_RATE = 3.082841103256525;      \\/\\/ OPTIMIZE [0.25, 4.0] LOG/' -e 's/^constexpr double TARGET_BEAM_WIDTH_HALF_PROGRES_RATE = .*;  \\/\\/ OPTIMIZE \\[0\\.02, 0\\.98\\]$/constexpr double TARGET_BEAM_WIDTH_HALF_PROGRES_RATE = 0.6172901256169799;  \\/\\/ OPTIMIZE [0.02, 0.98]/' -e 's/^constexpr auto MAX_BEAM_WIDTH = .*;                        \\/\\/ OPTIMIZE \\[400, 4000\\] LOG$/constexpr auto MAX_BEAM_WIDTH = 743;                        \\/\\/ OPTIMIZE [400, 4000] LOG/'\n",
      "g++ 5_main.cpp -std=gnu++17 -O2 -DONLINE_JUDGE -o 5_main.cpp.out 2> /dev/null\n"
     ]
    },
    {
     "name": "stderr",
     "output_type": "stream",
     "text": [
      "\u001b[32m[I 2021-09-11 03:11:31,406]\u001b[0m Trial 158 finished with value: 996396050.0 and parameters: {'hash_table_size': 9, 'K_START': 0.06869699548478635, 'K_END': 0.06490433433716081, 'K_H': 0.524929099057626, 'PURCHASE_TURN_LIMIT': 829, 'ROUGH_HASH': '0', 'TARGET_BEAM_WIDTH_INCREASE_RATE': 3.0120602119814657, 'TARGET_BEAM_WIDTH_HALF_PROGRES_RATE': 0.6181558826552483, 'MAX_BEAM_WIDTH': 776}. Best is trial 124 with value: 999226849.0.\u001b[0m\n"
     ]
    },
    {
     "name": "stdout",
     "output_type": "stream",
     "text": [
      "callback ok\n",
      "index_parallel=6\n",
      "sed -i 6_main.cpp -e 's/^constexpr int hash_table_size = .*;         \\/\\/ OPTIMIZE \\[9, 18\\]$/constexpr int hash_table_size = 9;         \\/\\/ OPTIMIZE [9, 18]/' -e 's/^constexpr double K_START = .*;  \\/\\/ OPTIMIZE \\[0\\.04, 0\\.2\\] LOG$/constexpr double K_START = 0.07146214170991326;  \\/\\/ OPTIMIZE [0.04, 0.2] LOG/' -e 's/^constexpr double K_END = .*;   \\/\\/ OPTIMIZE \\[0\\.03, 0\\.1\\] LOG$/constexpr double K_END = 0.06533718053851446;   \\/\\/ OPTIMIZE [0.03, 0.1] LOG/' -e 's/^constexpr double K_H = .*;      \\/\\/ OPTIMIZE \\[0\\.001, 0\\.999\\]$/constexpr double K_H = 0.52085119591272;      \\/\\/ OPTIMIZE [0.001, 0.999]/' -e 's/^constexpr short PURCHASE_TURN_LIMIT = .*;  \\/\\/ OPTIMIZE \\[790, 870\\]$/constexpr short PURCHASE_TURN_LIMIT = 831;  \\/\\/ OPTIMIZE [790, 870]/' -e 's/^constexpr int ROUGH_HASH = .*;      \\/\\/ OPTIMIZE {0, 0b00000001, 0b00010001, 0b00010011, 0b00110011}$/constexpr int ROUGH_HASH = 0;      \\/\\/ OPTIMIZE {0, 0b00000001, 0b00010001, 0b00010011, 0b00110011}/' -e 's/^constexpr double TARGET_BEAM_WIDTH_INCREASE_RATE = .*;      \\/\\/ OPTIMIZE \\[0\\.25, 4\\.0\\] LOG$/constexpr double TARGET_BEAM_WIDTH_INCREASE_RATE = 3.0290698516383787;      \\/\\/ OPTIMIZE [0.25, 4.0] LOG/' -e 's/^constexpr double TARGET_BEAM_WIDTH_HALF_PROGRES_RATE = .*;  \\/\\/ OPTIMIZE \\[0\\.02, 0\\.98\\]$/constexpr double TARGET_BEAM_WIDTH_HALF_PROGRES_RATE = 0.5483775480885935;  \\/\\/ OPTIMIZE [0.02, 0.98]/' -e 's/^constexpr auto MAX_BEAM_WIDTH = .*;                        \\/\\/ OPTIMIZE \\[400, 4000\\] LOG$/constexpr auto MAX_BEAM_WIDTH = 734;                        \\/\\/ OPTIMIZE [400, 4000] LOG/'\n",
      "g++ 6_main.cpp -std=gnu++17 -O2 -DONLINE_JUDGE -o 6_main.cpp.out 2> /dev/null\n"
     ]
    },
    {
     "name": "stderr",
     "output_type": "stream",
     "text": [
      "\u001b[32m[I 2021-09-11 03:11:42,257]\u001b[0m Trial 159 finished with value: 993119858.0 and parameters: {'hash_table_size': 10, 'K_START': 0.07438035717835953, 'K_END': 0.06464919262457478, 'K_H': 0.44307873411148874, 'PURCHASE_TURN_LIMIT': 833, 'ROUGH_HASH': '0', 'TARGET_BEAM_WIDTH_INCREASE_RATE': 2.998465119346773, 'TARGET_BEAM_WIDTH_HALF_PROGRES_RATE': 0.7477479019750022, 'MAX_BEAM_WIDTH': 756}. Best is trial 124 with value: 999226849.0.\u001b[0m\n"
     ]
    },
    {
     "name": "stdout",
     "output_type": "stream",
     "text": [
      "callback ok\n",
      "index_parallel=7\n",
      "sed -i 7_main.cpp -e 's/^constexpr int hash_table_size = .*;         \\/\\/ OPTIMIZE \\[9, 18\\]$/constexpr int hash_table_size = 9;         \\/\\/ OPTIMIZE [9, 18]/' -e 's/^constexpr double K_START = .*;  \\/\\/ OPTIMIZE \\[0\\.04, 0\\.2\\] LOG$/constexpr double K_START = 0.06617666099073918;  \\/\\/ OPTIMIZE [0.04, 0.2] LOG/' -e 's/^constexpr double K_END = .*;   \\/\\/ OPTIMIZE \\[0\\.03, 0\\.1\\] LOG$/constexpr double K_END = 0.06562181660956096;   \\/\\/ OPTIMIZE [0.03, 0.1] LOG/' -e 's/^constexpr double K_H = .*;      \\/\\/ OPTIMIZE \\[0\\.001, 0\\.999\\]$/constexpr double K_H = 0.5331512288000025;      \\/\\/ OPTIMIZE [0.001, 0.999]/' -e 's/^constexpr short PURCHASE_TURN_LIMIT = .*;  \\/\\/ OPTIMIZE \\[790, 870\\]$/constexpr short PURCHASE_TURN_LIMIT = 831;  \\/\\/ OPTIMIZE [790, 870]/' -e 's/^constexpr int ROUGH_HASH = .*;      \\/\\/ OPTIMIZE {0, 0b00000001, 0b00010001, 0b00010011, 0b00110011}$/constexpr int ROUGH_HASH = 0;      \\/\\/ OPTIMIZE {0, 0b00000001, 0b00010001, 0b00010011, 0b00110011}/' -e 's/^constexpr double TARGET_BEAM_WIDTH_INCREASE_RATE = .*;      \\/\\/ OPTIMIZE \\[0\\.25, 4\\.0\\] LOG$/constexpr double TARGET_BEAM_WIDTH_INCREASE_RATE = 3.4166630029874554;      \\/\\/ OPTIMIZE [0.25, 4.0] LOG/' -e 's/^constexpr double TARGET_BEAM_WIDTH_HALF_PROGRES_RATE = .*;  \\/\\/ OPTIMIZE \\[0\\.02, 0\\.98\\]$/constexpr double TARGET_BEAM_WIDTH_HALF_PROGRES_RATE = 0.6191945667017876;  \\/\\/ OPTIMIZE [0.02, 0.98]/' -e 's/^constexpr auto MAX_BEAM_WIDTH = .*;                        \\/\\/ OPTIMIZE \\[400, 4000\\] LOG$/constexpr auto MAX_BEAM_WIDTH = 731;                        \\/\\/ OPTIMIZE [400, 4000] LOG/'\n",
      "g++ 7_main.cpp -std=gnu++17 -O2 -DONLINE_JUDGE -o 7_main.cpp.out 2> /dev/null\n"
     ]
    },
    {
     "name": "stderr",
     "output_type": "stream",
     "text": [
      "\u001b[32m[I 2021-09-11 03:12:55,217]\u001b[0m Trial 160 finished with value: 994843359.0 and parameters: {'hash_table_size': 10, 'K_START': 0.07493875381915745, 'K_END': 0.0651842350583063, 'K_H': 0.3495850780306083, 'PURCHASE_TURN_LIMIT': 833, 'ROUGH_HASH': '0', 'TARGET_BEAM_WIDTH_INCREASE_RATE': 3.8564297570767336, 'TARGET_BEAM_WIDTH_HALF_PROGRES_RATE': 0.6213297887176004, 'MAX_BEAM_WIDTH': 743}. Best is trial 124 with value: 999226849.0.\u001b[0m\n"
     ]
    },
    {
     "name": "stdout",
     "output_type": "stream",
     "text": [
      "callback ok\n",
      "index_parallel=8\n",
      "sed -i 8_main.cpp -e 's/^constexpr int hash_table_size = .*;         \\/\\/ OPTIMIZE \\[9, 18\\]$/constexpr int hash_table_size = 9;         \\/\\/ OPTIMIZE [9, 18]/' -e 's/^constexpr double K_START = .*;  \\/\\/ OPTIMIZE \\[0\\.04, 0\\.2\\] LOG$/constexpr double K_START = 0.0664105464484135;  \\/\\/ OPTIMIZE [0.04, 0.2] LOG/' -e 's/^constexpr double K_END = .*;   \\/\\/ OPTIMIZE \\[0\\.03, 0\\.1\\] LOG$/constexpr double K_END = 0.06223328576633005;   \\/\\/ OPTIMIZE [0.03, 0.1] LOG/' -e 's/^constexpr double K_H = .*;      \\/\\/ OPTIMIZE \\[0\\.001, 0\\.999\\]$/constexpr double K_H = 0.5198713891849717;      \\/\\/ OPTIMIZE [0.001, 0.999]/' -e 's/^constexpr short PURCHASE_TURN_LIMIT = .*;  \\/\\/ OPTIMIZE \\[790, 870\\]$/constexpr short PURCHASE_TURN_LIMIT = 831;  \\/\\/ OPTIMIZE [790, 870]/' -e 's/^constexpr int ROUGH_HASH = .*;      \\/\\/ OPTIMIZE {0, 0b00000001, 0b00010001, 0b00010011, 0b00110011}$/constexpr int ROUGH_HASH = 0;      \\/\\/ OPTIMIZE {0, 0b00000001, 0b00010001, 0b00010011, 0b00110011}/' -e 's/^constexpr double TARGET_BEAM_WIDTH_INCREASE_RATE = .*;      \\/\\/ OPTIMIZE \\[0\\.25, 4\\.0\\] LOG$/constexpr double TARGET_BEAM_WIDTH_INCREASE_RATE = 3.490200059609882;      \\/\\/ OPTIMIZE [0.25, 4.0] LOG/' -e 's/^constexpr double TARGET_BEAM_WIDTH_HALF_PROGRES_RATE = .*;  \\/\\/ OPTIMIZE \\[0\\.02, 0\\.98\\]$/constexpr double TARGET_BEAM_WIDTH_HALF_PROGRES_RATE = 0.616943491687719;  \\/\\/ OPTIMIZE [0.02, 0.98]/' -e 's/^constexpr auto MAX_BEAM_WIDTH = .*;                        \\/\\/ OPTIMIZE \\[400, 4000\\] LOG$/constexpr auto MAX_BEAM_WIDTH = 831;                        \\/\\/ OPTIMIZE [400, 4000] LOG/'\n",
      "g++ 8_main.cpp -std=gnu++17 -O2 -DONLINE_JUDGE -o 8_main.cpp.out 2> /dev/null\n"
     ]
    },
    {
     "name": "stderr",
     "output_type": "stream",
     "text": [
      "\u001b[32m[I 2021-09-11 03:13:10,094]\u001b[0m Trial 161 finished with value: 996137450.0 and parameters: {'hash_table_size': 9, 'K_START': 0.06568119623248607, 'K_END': 0.06550421609691276, 'K_H': 0.3638603677530461, 'PURCHASE_TURN_LIMIT': 833, 'ROUGH_HASH': '0', 'TARGET_BEAM_WIDTH_INCREASE_RATE': 3.082841103256525, 'TARGET_BEAM_WIDTH_HALF_PROGRES_RATE': 0.6172901256169799, 'MAX_BEAM_WIDTH': 743}. Best is trial 124 with value: 999226849.0.\u001b[0m\n"
     ]
    },
    {
     "name": "stdout",
     "output_type": "stream",
     "text": [
      "callback ok\n",
      "index_parallel=9\n",
      "sed -i 9_main.cpp -e 's/^constexpr int hash_table_size = .*;         \\/\\/ OPTIMIZE \\[9, 18\\]$/constexpr int hash_table_size = 9;         \\/\\/ OPTIMIZE [9, 18]/' -e 's/^constexpr double K_START = .*;  \\/\\/ OPTIMIZE \\[0\\.04, 0\\.2\\] LOG$/constexpr double K_START = 0.05950860982663893;  \\/\\/ OPTIMIZE [0.04, 0.2] LOG/' -e 's/^constexpr double K_END = .*;   \\/\\/ OPTIMIZE \\[0\\.03, 0\\.1\\] LOG$/constexpr double K_END = 0.0623192105092334;   \\/\\/ OPTIMIZE [0.03, 0.1] LOG/' -e 's/^constexpr double K_H = .*;      \\/\\/ OPTIMIZE \\[0\\.001, 0\\.999\\]$/constexpr double K_H = 0.5186368949380054;      \\/\\/ OPTIMIZE [0.001, 0.999]/' -e 's/^constexpr short PURCHASE_TURN_LIMIT = .*;  \\/\\/ OPTIMIZE \\[790, 870\\]$/constexpr short PURCHASE_TURN_LIMIT = 831;  \\/\\/ OPTIMIZE [790, 870]/' -e 's/^constexpr int ROUGH_HASH = .*;      \\/\\/ OPTIMIZE {0, 0b00000001, 0b00010001, 0b00010011, 0b00110011}$/constexpr int ROUGH_HASH = 0;      \\/\\/ OPTIMIZE {0, 0b00000001, 0b00010001, 0b00010011, 0b00110011}/' -e 's/^constexpr double TARGET_BEAM_WIDTH_INCREASE_RATE = .*;      \\/\\/ OPTIMIZE \\[0\\.25, 4\\.0\\] LOG$/constexpr double TARGET_BEAM_WIDTH_INCREASE_RATE = 3.3816503937165994;      \\/\\/ OPTIMIZE [0.25, 4.0] LOG/' -e 's/^constexpr double TARGET_BEAM_WIDTH_HALF_PROGRES_RATE = .*;  \\/\\/ OPTIMIZE \\[0\\.02, 0\\.98\\]$/constexpr double TARGET_BEAM_WIDTH_HALF_PROGRES_RATE = 0.6615030615786587;  \\/\\/ OPTIMIZE [0.02, 0.98]/' -e 's/^constexpr auto MAX_BEAM_WIDTH = .*;                        \\/\\/ OPTIMIZE \\[400, 4000\\] LOG$/constexpr auto MAX_BEAM_WIDTH = 836;                        \\/\\/ OPTIMIZE [400, 4000] LOG/'\n",
      "g++ 9_main.cpp -std=gnu++17 -O2 -DONLINE_JUDGE -o 9_main.cpp.out 2> /dev/null\n"
     ]
    },
    {
     "name": "stderr",
     "output_type": "stream",
     "text": [
      "\u001b[32m[I 2021-09-11 03:13:17,117]\u001b[0m Trial 162 finished with value: 996597849.0 and parameters: {'hash_table_size': 9, 'K_START': 0.07146214170991326, 'K_END': 0.06533718053851446, 'K_H': 0.52085119591272, 'PURCHASE_TURN_LIMIT': 831, 'ROUGH_HASH': '0', 'TARGET_BEAM_WIDTH_INCREASE_RATE': 3.0290698516383787, 'TARGET_BEAM_WIDTH_HALF_PROGRES_RATE': 0.5483775480885935, 'MAX_BEAM_WIDTH': 734}. Best is trial 124 with value: 999226849.0.\u001b[0m\n"
     ]
    },
    {
     "name": "stdout",
     "output_type": "stream",
     "text": [
      "callback ok\n",
      "index_parallel=10\n",
      "sed -i 10_main.cpp -e 's/^constexpr int hash_table_size = .*;         \\/\\/ OPTIMIZE \\[9, 18\\]$/constexpr int hash_table_size = 9;         \\/\\/ OPTIMIZE [9, 18]/' -e 's/^constexpr double K_START = .*;  \\/\\/ OPTIMIZE \\[0\\.04, 0\\.2\\] LOG$/constexpr double K_START = 0.06646391759689263;  \\/\\/ OPTIMIZE [0.04, 0.2] LOG/' -e 's/^constexpr double K_END = .*;   \\/\\/ OPTIMIZE \\[0\\.03, 0\\.1\\] LOG$/constexpr double K_END = 0.042848557018179856;   \\/\\/ OPTIMIZE [0.03, 0.1] LOG/' -e 's/^constexpr double K_H = .*;      \\/\\/ OPTIMIZE \\[0\\.001, 0\\.999\\]$/constexpr double K_H = 0.5220984788109995;      \\/\\/ OPTIMIZE [0.001, 0.999]/' -e 's/^constexpr short PURCHASE_TURN_LIMIT = .*;  \\/\\/ OPTIMIZE \\[790, 870\\]$/constexpr short PURCHASE_TURN_LIMIT = 830;  \\/\\/ OPTIMIZE [790, 870]/' -e 's/^constexpr int ROUGH_HASH = .*;      \\/\\/ OPTIMIZE {0, 0b00000001, 0b00010001, 0b00010011, 0b00110011}$/constexpr int ROUGH_HASH = 0;      \\/\\/ OPTIMIZE {0, 0b00000001, 0b00010001, 0b00010011, 0b00110011}/' -e 's/^constexpr double TARGET_BEAM_WIDTH_INCREASE_RATE = .*;      \\/\\/ OPTIMIZE \\[0\\.25, 4\\.0\\] LOG$/constexpr double TARGET_BEAM_WIDTH_INCREASE_RATE = 3.5564697606817073;      \\/\\/ OPTIMIZE [0.25, 4.0] LOG/' -e 's/^constexpr double TARGET_BEAM_WIDTH_HALF_PROGRES_RATE = .*;  \\/\\/ OPTIMIZE \\[0\\.02, 0\\.98\\]$/constexpr double TARGET_BEAM_WIDTH_HALF_PROGRES_RATE = 0.5436913767486985;  \\/\\/ OPTIMIZE [0.02, 0.98]/' -e 's/^constexpr auto MAX_BEAM_WIDTH = .*;                        \\/\\/ OPTIMIZE \\[400, 4000\\] LOG$/constexpr auto MAX_BEAM_WIDTH = 834;                        \\/\\/ OPTIMIZE [400, 4000] LOG/'\n",
      "g++ 10_main.cpp -std=gnu++17 -O2 -DONLINE_JUDGE -o 10_main.cpp.out 2> /dev/null\n"
     ]
    },
    {
     "name": "stderr",
     "output_type": "stream",
     "text": [
      "\u001b[32m[I 2021-09-11 03:13:27,459]\u001b[0m Trial 163 finished with value: 998266157.0 and parameters: {'hash_table_size': 9, 'K_START': 0.06617666099073918, 'K_END': 0.06562181660956096, 'K_H': 0.5331512288000025, 'PURCHASE_TURN_LIMIT': 831, 'ROUGH_HASH': '0', 'TARGET_BEAM_WIDTH_INCREASE_RATE': 3.4166630029874554, 'TARGET_BEAM_WIDTH_HALF_PROGRES_RATE': 0.6191945667017876, 'MAX_BEAM_WIDTH': 731}. Best is trial 124 with value: 999226849.0.\u001b[0m\n"
     ]
    },
    {
     "name": "stdout",
     "output_type": "stream",
     "text": [
      "callback ok\n",
      "index_parallel=11\n",
      "sed -i 11_main.cpp -e 's/^constexpr int hash_table_size = .*;         \\/\\/ OPTIMIZE \\[9, 18\\]$/constexpr int hash_table_size = 9;         \\/\\/ OPTIMIZE [9, 18]/' -e 's/^constexpr double K_START = .*;  \\/\\/ OPTIMIZE \\[0\\.04, 0\\.2\\] LOG$/constexpr double K_START = 0.07220763871373925;  \\/\\/ OPTIMIZE [0.04, 0.2] LOG/' -e 's/^constexpr double K_END = .*;   \\/\\/ OPTIMIZE \\[0\\.03, 0\\.1\\] LOG$/constexpr double K_END = 0.06258647968746844;   \\/\\/ OPTIMIZE [0.03, 0.1] LOG/' -e 's/^constexpr double K_H = .*;      \\/\\/ OPTIMIZE \\[0\\.001, 0\\.999\\]$/constexpr double K_H = 0.5631589162465404;      \\/\\/ OPTIMIZE [0.001, 0.999]/' -e 's/^constexpr short PURCHASE_TURN_LIMIT = .*;  \\/\\/ OPTIMIZE \\[790, 870\\]$/constexpr short PURCHASE_TURN_LIMIT = 832;  \\/\\/ OPTIMIZE [790, 870]/' -e 's/^constexpr int ROUGH_HASH = .*;      \\/\\/ OPTIMIZE {0, 0b00000001, 0b00010001, 0b00010011, 0b00110011}$/constexpr int ROUGH_HASH = 0b00010001;      \\/\\/ OPTIMIZE {0, 0b00000001, 0b00010001, 0b00010011, 0b00110011}/' -e 's/^constexpr double TARGET_BEAM_WIDTH_INCREASE_RATE = .*;      \\/\\/ OPTIMIZE \\[0\\.25, 4\\.0\\] LOG$/constexpr double TARGET_BEAM_WIDTH_INCREASE_RATE = 3.464737653449133;      \\/\\/ OPTIMIZE [0.25, 4.0] LOG/' -e 's/^constexpr double TARGET_BEAM_WIDTH_HALF_PROGRES_RATE = .*;  \\/\\/ OPTIMIZE \\[0\\.02, 0\\.98\\]$/constexpr double TARGET_BEAM_WIDTH_HALF_PROGRES_RATE = 0.5077787159456489;  \\/\\/ OPTIMIZE [0.02, 0.98]/' -e 's/^constexpr auto MAX_BEAM_WIDTH = .*;                        \\/\\/ OPTIMIZE \\[400, 4000\\] LOG$/constexpr auto MAX_BEAM_WIDTH = 839;                        \\/\\/ OPTIMIZE [400, 4000] LOG/'\n",
      "g++ 11_main.cpp -std=gnu++17 -O2 -DONLINE_JUDGE -o 11_main.cpp.out 2> /dev/null\n"
     ]
    },
    {
     "name": "stderr",
     "output_type": "stream",
     "text": [
      "\u001b[32m[I 2021-09-11 03:14:40,756]\u001b[0m Trial 164 finished with value: 998358024.0 and parameters: {'hash_table_size': 9, 'K_START': 0.0664105464484135, 'K_END': 0.06223328576633005, 'K_H': 0.5198713891849717, 'PURCHASE_TURN_LIMIT': 831, 'ROUGH_HASH': '0', 'TARGET_BEAM_WIDTH_INCREASE_RATE': 3.490200059609882, 'TARGET_BEAM_WIDTH_HALF_PROGRES_RATE': 0.616943491687719, 'MAX_BEAM_WIDTH': 831}. Best is trial 124 with value: 999226849.0.\u001b[0m\n"
     ]
    },
    {
     "name": "stdout",
     "output_type": "stream",
     "text": [
      "callback ok\n",
      "index_parallel=0\n",
      "sed -i 0_main.cpp -e 's/^constexpr int hash_table_size = .*;         \\/\\/ OPTIMIZE \\[9, 18\\]$/constexpr int hash_table_size = 9;         \\/\\/ OPTIMIZE [9, 18]/' -e 's/^constexpr double K_START = .*;  \\/\\/ OPTIMIZE \\[0\\.04, 0\\.2\\] LOG$/constexpr double K_START = 0.06930108376021878;  \\/\\/ OPTIMIZE [0.04, 0.2] LOG/' -e 's/^constexpr double K_END = .*;   \\/\\/ OPTIMIZE \\[0\\.03, 0\\.1\\] LOG$/constexpr double K_END = 0.06257080176301621;   \\/\\/ OPTIMIZE [0.03, 0.1] LOG/' -e 's/^constexpr double K_H = .*;      \\/\\/ OPTIMIZE \\[0\\.001, 0\\.999\\]$/constexpr double K_H = 0.5263875558594572;      \\/\\/ OPTIMIZE [0.001, 0.999]/' -e 's/^constexpr short PURCHASE_TURN_LIMIT = .*;  \\/\\/ OPTIMIZE \\[790, 870\\]$/constexpr short PURCHASE_TURN_LIMIT = 831;  \\/\\/ OPTIMIZE [790, 870]/' -e 's/^constexpr int ROUGH_HASH = .*;      \\/\\/ OPTIMIZE {0, 0b00000001, 0b00010001, 0b00010011, 0b00110011}$/constexpr int ROUGH_HASH = 0;      \\/\\/ OPTIMIZE {0, 0b00000001, 0b00010001, 0b00010011, 0b00110011}/' -e 's/^constexpr double TARGET_BEAM_WIDTH_INCREASE_RATE = .*;      \\/\\/ OPTIMIZE \\[0\\.25, 4\\.0\\] LOG$/constexpr double TARGET_BEAM_WIDTH_INCREASE_RATE = 3.3085551194613996;      \\/\\/ OPTIMIZE [0.25, 4.0] LOG/' -e 's/^constexpr double TARGET_BEAM_WIDTH_HALF_PROGRES_RATE = .*;  \\/\\/ OPTIMIZE \\[0\\.02, 0\\.98\\]$/constexpr double TARGET_BEAM_WIDTH_HALF_PROGRES_RATE = 0.5501334339695788;  \\/\\/ OPTIMIZE [0.02, 0.98]/' -e 's/^constexpr auto MAX_BEAM_WIDTH = .*;                        \\/\\/ OPTIMIZE \\[400, 4000\\] LOG$/constexpr auto MAX_BEAM_WIDTH = 831;                        \\/\\/ OPTIMIZE [400, 4000] LOG/'\n",
      "g++ 0_main.cpp -std=gnu++17 -O2 -DONLINE_JUDGE -o 0_main.cpp.out 2> /dev/null\n"
     ]
    },
    {
     "name": "stderr",
     "output_type": "stream",
     "text": [
      "\u001b[32m[I 2021-09-11 03:14:54,699]\u001b[0m Trial 165 finished with value: 998102365.0 and parameters: {'hash_table_size': 9, 'K_START': 0.05950860982663893, 'K_END': 0.0623192105092334, 'K_H': 0.5186368949380054, 'PURCHASE_TURN_LIMIT': 831, 'ROUGH_HASH': '0', 'TARGET_BEAM_WIDTH_INCREASE_RATE': 3.3816503937165994, 'TARGET_BEAM_WIDTH_HALF_PROGRES_RATE': 0.6615030615786587, 'MAX_BEAM_WIDTH': 836}. Best is trial 124 with value: 999226849.0.\u001b[0m\n"
     ]
    },
    {
     "name": "stdout",
     "output_type": "stream",
     "text": [
      "callback ok\n",
      "index_parallel=1\n",
      "sed -i 1_main.cpp -e 's/^constexpr int hash_table_size = .*;         \\/\\/ OPTIMIZE \\[9, 18\\]$/constexpr int hash_table_size = 9;         \\/\\/ OPTIMIZE [9, 18]/' -e 's/^constexpr double K_START = .*;  \\/\\/ OPTIMIZE \\[0\\.04, 0\\.2\\] LOG$/constexpr double K_START = 0.0725740117999646;  \\/\\/ OPTIMIZE [0.04, 0.2] LOG/' -e 's/^constexpr double K_END = .*;   \\/\\/ OPTIMIZE \\[0\\.03, 0\\.1\\] LOG$/constexpr double K_END = 0.06281237810629228;   \\/\\/ OPTIMIZE [0.03, 0.1] LOG/' -e 's/^constexpr double K_H = .*;      \\/\\/ OPTIMIZE \\[0\\.001, 0\\.999\\]$/constexpr double K_H = 0.5549004089133476;      \\/\\/ OPTIMIZE [0.001, 0.999]/' -e 's/^constexpr short PURCHASE_TURN_LIMIT = .*;  \\/\\/ OPTIMIZE \\[790, 870\\]$/constexpr short PURCHASE_TURN_LIMIT = 831;  \\/\\/ OPTIMIZE [790, 870]/' -e 's/^constexpr int ROUGH_HASH = .*;      \\/\\/ OPTIMIZE {0, 0b00000001, 0b00010001, 0b00010011, 0b00110011}$/constexpr int ROUGH_HASH = 0b00010001;      \\/\\/ OPTIMIZE {0, 0b00000001, 0b00010001, 0b00010011, 0b00110011}/' -e 's/^constexpr double TARGET_BEAM_WIDTH_INCREASE_RATE = .*;      \\/\\/ OPTIMIZE \\[0\\.25, 4\\.0\\] LOG$/constexpr double TARGET_BEAM_WIDTH_INCREASE_RATE = 3.3812756013883383;      \\/\\/ OPTIMIZE [0.25, 4.0] LOG/' -e 's/^constexpr double TARGET_BEAM_WIDTH_HALF_PROGRES_RATE = .*;  \\/\\/ OPTIMIZE \\[0\\.02, 0\\.98\\]$/constexpr double TARGET_BEAM_WIDTH_HALF_PROGRES_RATE = 0.5950576701247998;  \\/\\/ OPTIMIZE [0.02, 0.98]/' -e 's/^constexpr auto MAX_BEAM_WIDTH = .*;                        \\/\\/ OPTIMIZE \\[400, 4000\\] LOG$/constexpr auto MAX_BEAM_WIDTH = 837;                        \\/\\/ OPTIMIZE [400, 4000] LOG/'\n",
      "g++ 1_main.cpp -std=gnu++17 -O2 -DONLINE_JUDGE -o 1_main.cpp.out 2> /dev/null\n"
     ]
    },
    {
     "name": "stderr",
     "output_type": "stream",
     "text": [
      "\u001b[32m[I 2021-09-11 03:15:02,643]\u001b[0m Trial 166 finished with value: 998390514.0 and parameters: {'hash_table_size': 9, 'K_START': 0.06646391759689263, 'K_END': 0.042848557018179856, 'K_H': 0.5220984788109995, 'PURCHASE_TURN_LIMIT': 830, 'ROUGH_HASH': '0', 'TARGET_BEAM_WIDTH_INCREASE_RATE': 3.5564697606817073, 'TARGET_BEAM_WIDTH_HALF_PROGRES_RATE': 0.5436913767486985, 'MAX_BEAM_WIDTH': 834}. Best is trial 124 with value: 999226849.0.\u001b[0m\n"
     ]
    },
    {
     "name": "stdout",
     "output_type": "stream",
     "text": [
      "callback ok\n",
      "index_parallel=2\n",
      "sed -i 2_main.cpp -e 's/^constexpr int hash_table_size = .*;         \\/\\/ OPTIMIZE \\[9, 18\\]$/constexpr int hash_table_size = 9;         \\/\\/ OPTIMIZE [9, 18]/' -e 's/^constexpr double K_START = .*;  \\/\\/ OPTIMIZE \\[0\\.04, 0\\.2\\] LOG$/constexpr double K_START = 0.054776853136102116;  \\/\\/ OPTIMIZE [0.04, 0.2] LOG/' -e 's/^constexpr double K_END = .*;   \\/\\/ OPTIMIZE \\[0\\.03, 0\\.1\\] LOG$/constexpr double K_END = 0.06231616463310797;   \\/\\/ OPTIMIZE [0.03, 0.1] LOG/' -e 's/^constexpr double K_H = .*;      \\/\\/ OPTIMIZE \\[0\\.001, 0\\.999\\]$/constexpr double K_H = 0.5576839363399662;      \\/\\/ OPTIMIZE [0.001, 0.999]/' -e 's/^constexpr short PURCHASE_TURN_LIMIT = .*;  \\/\\/ OPTIMIZE \\[790, 870\\]$/constexpr short PURCHASE_TURN_LIMIT = 831;  \\/\\/ OPTIMIZE [790, 870]/' -e 's/^constexpr int ROUGH_HASH = .*;      \\/\\/ OPTIMIZE {0, 0b00000001, 0b00010001, 0b00010011, 0b00110011}$/constexpr int ROUGH_HASH = 0b00010001;      \\/\\/ OPTIMIZE {0, 0b00000001, 0b00010001, 0b00010011, 0b00110011}/' -e 's/^constexpr double TARGET_BEAM_WIDTH_INCREASE_RATE = .*;      \\/\\/ OPTIMIZE \\[0\\.25, 4\\.0\\] LOG$/constexpr double TARGET_BEAM_WIDTH_INCREASE_RATE = 3.4222706245222683;      \\/\\/ OPTIMIZE [0.25, 4.0] LOG/' -e 's/^constexpr double TARGET_BEAM_WIDTH_HALF_PROGRES_RATE = .*;  \\/\\/ OPTIMIZE \\[0\\.02, 0\\.98\\]$/constexpr double TARGET_BEAM_WIDTH_HALF_PROGRES_RATE = 0.5823167119820611;  \\/\\/ OPTIMIZE [0.02, 0.98]/' -e 's/^constexpr auto MAX_BEAM_WIDTH = .*;                        \\/\\/ OPTIMIZE \\[400, 4000\\] LOG$/constexpr auto MAX_BEAM_WIDTH = 843;                        \\/\\/ OPTIMIZE [400, 4000] LOG/'\n",
      "g++ 2_main.cpp -std=gnu++17 -O2 -DONLINE_JUDGE -o 2_main.cpp.out 2> /dev/null\n"
     ]
    },
    {
     "name": "stderr",
     "output_type": "stream",
     "text": [
      "\u001b[32m[I 2021-09-11 03:15:13,410]\u001b[0m Trial 167 finished with value: 993263434.0 and parameters: {'hash_table_size': 9, 'K_START': 0.07220763871373925, 'K_END': 0.06258647968746844, 'K_H': 0.5631589162465404, 'PURCHASE_TURN_LIMIT': 832, 'ROUGH_HASH': '0b00010001', 'TARGET_BEAM_WIDTH_INCREASE_RATE': 3.464737653449133, 'TARGET_BEAM_WIDTH_HALF_PROGRES_RATE': 0.5077787159456489, 'MAX_BEAM_WIDTH': 839}. Best is trial 124 with value: 999226849.0.\u001b[0m\n"
     ]
    },
    {
     "name": "stdout",
     "output_type": "stream",
     "text": [
      "callback ok\n",
      "index_parallel=3\n",
      "sed -i 3_main.cpp -e 's/^constexpr int hash_table_size = .*;         \\/\\/ OPTIMIZE \\[9, 18\\]$/constexpr int hash_table_size = 9;         \\/\\/ OPTIMIZE [9, 18]/' -e 's/^constexpr double K_START = .*;  \\/\\/ OPTIMIZE \\[0\\.04, 0\\.2\\] LOG$/constexpr double K_START = 0.06592867310452494;  \\/\\/ OPTIMIZE [0.04, 0.2] LOG/' -e 's/^constexpr double K_END = .*;   \\/\\/ OPTIMIZE \\[0\\.03, 0\\.1\\] LOG$/constexpr double K_END = 0.05940645948557269;   \\/\\/ OPTIMIZE [0.03, 0.1] LOG/' -e 's/^constexpr double K_H = .*;      \\/\\/ OPTIMIZE \\[0\\.001, 0\\.999\\]$/constexpr double K_H = 0.5930177295283943;      \\/\\/ OPTIMIZE [0.001, 0.999]/' -e 's/^constexpr short PURCHASE_TURN_LIMIT = .*;  \\/\\/ OPTIMIZE \\[790, 870\\]$/constexpr short PURCHASE_TURN_LIMIT = 838;  \\/\\/ OPTIMIZE [790, 870]/' -e 's/^constexpr int ROUGH_HASH = .*;      \\/\\/ OPTIMIZE {0, 0b00000001, 0b00010001, 0b00010011, 0b00110011}$/constexpr int ROUGH_HASH = 0;      \\/\\/ OPTIMIZE {0, 0b00000001, 0b00010001, 0b00010011, 0b00110011}/' -e 's/^constexpr double TARGET_BEAM_WIDTH_INCREASE_RATE = .*;      \\/\\/ OPTIMIZE \\[0\\.25, 4\\.0\\] LOG$/constexpr double TARGET_BEAM_WIDTH_INCREASE_RATE = 3.267381960149682;      \\/\\/ OPTIMIZE [0.25, 4.0] LOG/' -e 's/^constexpr double TARGET_BEAM_WIDTH_HALF_PROGRES_RATE = .*;  \\/\\/ OPTIMIZE \\[0\\.02, 0\\.98\\]$/constexpr double TARGET_BEAM_WIDTH_HALF_PROGRES_RATE = 0.5896052016931765;  \\/\\/ OPTIMIZE [0.02, 0.98]/' -e 's/^constexpr auto MAX_BEAM_WIDTH = .*;                        \\/\\/ OPTIMIZE \\[400, 4000\\] LOG$/constexpr auto MAX_BEAM_WIDTH = 835;                        \\/\\/ OPTIMIZE [400, 4000] LOG/'\n",
      "g++ 3_main.cpp -std=gnu++17 -O2 -DONLINE_JUDGE -o 3_main.cpp.out 2> /dev/null\n"
     ]
    },
    {
     "name": "stderr",
     "output_type": "stream",
     "text": [
      "\u001b[32m[I 2021-09-11 03:16:25,789]\u001b[0m Trial 168 finished with value: 998174496.0 and parameters: {'hash_table_size': 9, 'K_START': 0.06930108376021878, 'K_END': 0.06257080176301621, 'K_H': 0.5263875558594572, 'PURCHASE_TURN_LIMIT': 831, 'ROUGH_HASH': '0', 'TARGET_BEAM_WIDTH_INCREASE_RATE': 3.3085551194613996, 'TARGET_BEAM_WIDTH_HALF_PROGRES_RATE': 0.5501334339695788, 'MAX_BEAM_WIDTH': 831}. Best is trial 124 with value: 999226849.0.\u001b[0m\n"
     ]
    },
    {
     "name": "stdout",
     "output_type": "stream",
     "text": [
      "callback ok\n",
      "index_parallel=4\n",
      "sed -i 4_main.cpp -e 's/^constexpr int hash_table_size = .*;         \\/\\/ OPTIMIZE \\[9, 18\\]$/constexpr int hash_table_size = 9;         \\/\\/ OPTIMIZE [9, 18]/' -e 's/^constexpr double K_START = .*;  \\/\\/ OPTIMIZE \\[0\\.04, 0\\.2\\] LOG$/constexpr double K_START = 0.06574897872422841;  \\/\\/ OPTIMIZE [0.04, 0.2] LOG/' -e 's/^constexpr double K_END = .*;   \\/\\/ OPTIMIZE \\[0\\.03, 0\\.1\\] LOG$/constexpr double K_END = 0.04328084802202679;   \\/\\/ OPTIMIZE [0.03, 0.1] LOG/' -e 's/^constexpr double K_H = .*;      \\/\\/ OPTIMIZE \\[0\\.001, 0\\.999\\]$/constexpr double K_H = 0.6151302261128214;      \\/\\/ OPTIMIZE [0.001, 0.999]/' -e 's/^constexpr short PURCHASE_TURN_LIMIT = .*;  \\/\\/ OPTIMIZE \\[790, 870\\]$/constexpr short PURCHASE_TURN_LIMIT = 831;  \\/\\/ OPTIMIZE [790, 870]/' -e 's/^constexpr int ROUGH_HASH = .*;      \\/\\/ OPTIMIZE {0, 0b00000001, 0b00010001, 0b00010011, 0b00110011}$/constexpr int ROUGH_HASH = 0;      \\/\\/ OPTIMIZE {0, 0b00000001, 0b00010001, 0b00010011, 0b00110011}/' -e 's/^constexpr double TARGET_BEAM_WIDTH_INCREASE_RATE = .*;      \\/\\/ OPTIMIZE \\[0\\.25, 4\\.0\\] LOG$/constexpr double TARGET_BEAM_WIDTH_INCREASE_RATE = 3.333259792511256;      \\/\\/ OPTIMIZE [0.25, 4.0] LOG/' -e 's/^constexpr double TARGET_BEAM_WIDTH_HALF_PROGRES_RATE = .*;  \\/\\/ OPTIMIZE \\[0\\.02, 0\\.98\\]$/constexpr double TARGET_BEAM_WIDTH_HALF_PROGRES_RATE = 0.5857457333882011;  \\/\\/ OPTIMIZE [0.02, 0.98]/' -e 's/^constexpr auto MAX_BEAM_WIDTH = .*;                        \\/\\/ OPTIMIZE \\[400, 4000\\] LOG$/constexpr auto MAX_BEAM_WIDTH = 837;                        \\/\\/ OPTIMIZE [400, 4000] LOG/'\n",
      "g++ 4_main.cpp -std=gnu++17 -O2 -DONLINE_JUDGE -o 4_main.cpp.out 2> /dev/null\n"
     ]
    },
    {
     "name": "stderr",
     "output_type": "stream",
     "text": [
      "\u001b[32m[I 2021-09-11 03:16:39,841]\u001b[0m Trial 169 finished with value: 995415794.0 and parameters: {'hash_table_size': 9, 'K_START': 0.0725740117999646, 'K_END': 0.06281237810629228, 'K_H': 0.5549004089133476, 'PURCHASE_TURN_LIMIT': 831, 'ROUGH_HASH': '0b00010001', 'TARGET_BEAM_WIDTH_INCREASE_RATE': 3.3812756013883383, 'TARGET_BEAM_WIDTH_HALF_PROGRES_RATE': 0.5950576701247998, 'MAX_BEAM_WIDTH': 837}. Best is trial 124 with value: 999226849.0.\u001b[0m\n"
     ]
    },
    {
     "name": "stdout",
     "output_type": "stream",
     "text": [
      "callback ok\n",
      "index_parallel=5\n",
      "sed -i 5_main.cpp -e 's/^constexpr int hash_table_size = .*;         \\/\\/ OPTIMIZE \\[9, 18\\]$/constexpr int hash_table_size = 9;         \\/\\/ OPTIMIZE [9, 18]/' -e 's/^constexpr double K_START = .*;  \\/\\/ OPTIMIZE \\[0\\.04, 0\\.2\\] LOG$/constexpr double K_START = 0.06548670215200875;  \\/\\/ OPTIMIZE [0.04, 0.2] LOG/' -e 's/^constexpr double K_END = .*;   \\/\\/ OPTIMIZE \\[0\\.03, 0\\.1\\] LOG$/constexpr double K_END = 0.043355386170943894;   \\/\\/ OPTIMIZE [0.03, 0.1] LOG/' -e 's/^constexpr double K_H = .*;      \\/\\/ OPTIMIZE \\[0\\.001, 0\\.999\\]$/constexpr double K_H = 0.581575762320396;      \\/\\/ OPTIMIZE [0.001, 0.999]/' -e 's/^constexpr short PURCHASE_TURN_LIMIT = .*;  \\/\\/ OPTIMIZE \\[790, 870\\]$/constexpr short PURCHASE_TURN_LIMIT = 828;  \\/\\/ OPTIMIZE [790, 870]/' -e 's/^constexpr int ROUGH_HASH = .*;      \\/\\/ OPTIMIZE {0, 0b00000001, 0b00010001, 0b00010011, 0b00110011}$/constexpr int ROUGH_HASH = 0;      \\/\\/ OPTIMIZE {0, 0b00000001, 0b00010001, 0b00010011, 0b00110011}/' -e 's/^constexpr double TARGET_BEAM_WIDTH_INCREASE_RATE = .*;      \\/\\/ OPTIMIZE \\[0\\.25, 4\\.0\\] LOG$/constexpr double TARGET_BEAM_WIDTH_INCREASE_RATE = 3.3152160703263305;      \\/\\/ OPTIMIZE [0.25, 4.0] LOG/' -e 's/^constexpr double TARGET_BEAM_WIDTH_HALF_PROGRES_RATE = .*;  \\/\\/ OPTIMIZE \\[0\\.02, 0\\.98\\]$/constexpr double TARGET_BEAM_WIDTH_HALF_PROGRES_RATE = 0.5445506804844288;  \\/\\/ OPTIMIZE [0.02, 0.98]/' -e 's/^constexpr auto MAX_BEAM_WIDTH = .*;                        \\/\\/ OPTIMIZE \\[400, 4000\\] LOG$/constexpr auto MAX_BEAM_WIDTH = 811;                        \\/\\/ OPTIMIZE [400, 4000] LOG/'\n",
      "g++ 5_main.cpp -std=gnu++17 -O2 -DONLINE_JUDGE -o 5_main.cpp.out 2> /dev/null\n"
     ]
    },
    {
     "name": "stderr",
     "output_type": "stream",
     "text": [
      "\u001b[32m[I 2021-09-11 03:16:48,175]\u001b[0m Trial 170 finished with value: 991054864.0 and parameters: {'hash_table_size': 9, 'K_START': 0.054776853136102116, 'K_END': 0.06231616463310797, 'K_H': 0.5576839363399662, 'PURCHASE_TURN_LIMIT': 831, 'ROUGH_HASH': '0b00010001', 'TARGET_BEAM_WIDTH_INCREASE_RATE': 3.4222706245222683, 'TARGET_BEAM_WIDTH_HALF_PROGRES_RATE': 0.5823167119820611, 'MAX_BEAM_WIDTH': 843}. Best is trial 124 with value: 999226849.0.\u001b[0m\n"
     ]
    },
    {
     "name": "stdout",
     "output_type": "stream",
     "text": [
      "callback ok\n",
      "index_parallel=6\n",
      "sed -i 6_main.cpp -e 's/^constexpr int hash_table_size = .*;         \\/\\/ OPTIMIZE \\[9, 18\\]$/constexpr int hash_table_size = 9;         \\/\\/ OPTIMIZE [9, 18]/' -e 's/^constexpr double K_START = .*;  \\/\\/ OPTIMIZE \\[0\\.04, 0\\.2\\] LOG$/constexpr double K_START = 0.06478917418979442;  \\/\\/ OPTIMIZE [0.04, 0.2] LOG/' -e 's/^constexpr double K_END = .*;   \\/\\/ OPTIMIZE \\[0\\.03, 0\\.1\\] LOG$/constexpr double K_END = 0.04275490589200036;   \\/\\/ OPTIMIZE [0.03, 0.1] LOG/' -e 's/^constexpr double K_H = .*;      \\/\\/ OPTIMIZE \\[0\\.001, 0\\.999\\]$/constexpr double K_H = 0.6063097792432669;      \\/\\/ OPTIMIZE [0.001, 0.999]/' -e 's/^constexpr short PURCHASE_TURN_LIMIT = .*;  \\/\\/ OPTIMIZE \\[790, 870\\]$/constexpr short PURCHASE_TURN_LIMIT = 828;  \\/\\/ OPTIMIZE [790, 870]/' -e 's/^constexpr int ROUGH_HASH = .*;      \\/\\/ OPTIMIZE {0, 0b00000001, 0b00010001, 0b00010011, 0b00110011}$/constexpr int ROUGH_HASH = 0;      \\/\\/ OPTIMIZE {0, 0b00000001, 0b00010001, 0b00010011, 0b00110011}/' -e 's/^constexpr double TARGET_BEAM_WIDTH_INCREASE_RATE = .*;      \\/\\/ OPTIMIZE \\[0\\.25, 4\\.0\\] LOG$/constexpr double TARGET_BEAM_WIDTH_INCREASE_RATE = 3.2626135650637584;      \\/\\/ OPTIMIZE [0.25, 4.0] LOG/' -e 's/^constexpr double TARGET_BEAM_WIDTH_HALF_PROGRES_RATE = .*;  \\/\\/ OPTIMIZE \\[0\\.02, 0\\.98\\]$/constexpr double TARGET_BEAM_WIDTH_HALF_PROGRES_RATE = 0.5425995917066075;  \\/\\/ OPTIMIZE [0.02, 0.98]/' -e 's/^constexpr auto MAX_BEAM_WIDTH = .*;                        \\/\\/ OPTIMIZE \\[400, 4000\\] LOG$/constexpr auto MAX_BEAM_WIDTH = 829;                        \\/\\/ OPTIMIZE [400, 4000] LOG/'\n",
      "g++ 6_main.cpp -std=gnu++17 -O2 -DONLINE_JUDGE -o 6_main.cpp.out 2> /dev/null\n"
     ]
    },
    {
     "name": "stderr",
     "output_type": "stream",
     "text": [
      "\u001b[32m[I 2021-09-11 03:16:58,770]\u001b[0m Trial 171 finished with value: 999728175.0 and parameters: {'hash_table_size': 9, 'K_START': 0.06592867310452494, 'K_END': 0.05940645948557269, 'K_H': 0.5930177295283943, 'PURCHASE_TURN_LIMIT': 838, 'ROUGH_HASH': '0', 'TARGET_BEAM_WIDTH_INCREASE_RATE': 3.267381960149682, 'TARGET_BEAM_WIDTH_HALF_PROGRES_RATE': 0.5896052016931765, 'MAX_BEAM_WIDTH': 835}. Best is trial 171 with value: 999728175.0.\u001b[0m\n"
     ]
    },
    {
     "name": "stdout",
     "output_type": "stream",
     "text": [
      "Updated! 999728175.0\n",
      "callback ok\n",
      "index_parallel=7\n",
      "sed -i 7_main.cpp -e 's/^constexpr int hash_table_size = .*;         \\/\\/ OPTIMIZE \\[9, 18\\]$/constexpr int hash_table_size = 9;         \\/\\/ OPTIMIZE [9, 18]/' -e 's/^constexpr double K_START = .*;  \\/\\/ OPTIMIZE \\[0\\.04, 0\\.2\\] LOG$/constexpr double K_START = 0.06632974380817286;  \\/\\/ OPTIMIZE [0.04, 0.2] LOG/' -e 's/^constexpr double K_END = .*;   \\/\\/ OPTIMIZE \\[0\\.03, 0\\.1\\] LOG$/constexpr double K_END = 0.05928033700782551;   \\/\\/ OPTIMIZE [0.03, 0.1] LOG/' -e 's/^constexpr double K_H = .*;      \\/\\/ OPTIMIZE \\[0\\.001, 0\\.999\\]$/constexpr double K_H = 0.610919970590303;      \\/\\/ OPTIMIZE [0.001, 0.999]/' -e 's/^constexpr short PURCHASE_TURN_LIMIT = .*;  \\/\\/ OPTIMIZE \\[790, 870\\]$/constexpr short PURCHASE_TURN_LIMIT = 828;  \\/\\/ OPTIMIZE [790, 870]/' -e 's/^constexpr int ROUGH_HASH = .*;      \\/\\/ OPTIMIZE {0, 0b00000001, 0b00010001, 0b00010011, 0b00110011}$/constexpr int ROUGH_HASH = 0;      \\/\\/ OPTIMIZE {0, 0b00000001, 0b00010001, 0b00010011, 0b00110011}/' -e 's/^constexpr double TARGET_BEAM_WIDTH_INCREASE_RATE = .*;      \\/\\/ OPTIMIZE \\[0\\.25, 4\\.0\\] LOG$/constexpr double TARGET_BEAM_WIDTH_INCREASE_RATE = 3.300322201582558;      \\/\\/ OPTIMIZE [0.25, 4.0] LOG/' -e 's/^constexpr double TARGET_BEAM_WIDTH_HALF_PROGRES_RATE = .*;  \\/\\/ OPTIMIZE \\[0\\.02, 0\\.98\\]$/constexpr double TARGET_BEAM_WIDTH_HALF_PROGRES_RATE = 0.5489685486444621;  \\/\\/ OPTIMIZE [0.02, 0.98]/' -e 's/^constexpr auto MAX_BEAM_WIDTH = .*;                        \\/\\/ OPTIMIZE \\[400, 4000\\] LOG$/constexpr auto MAX_BEAM_WIDTH = 864;                        \\/\\/ OPTIMIZE [400, 4000] LOG/'\n",
      "g++ 7_main.cpp -std=gnu++17 -O2 -DONLINE_JUDGE -o 7_main.cpp.out 2> /dev/null\n"
     ]
    },
    {
     "name": "stderr",
     "output_type": "stream",
     "text": [
      "\u001b[32m[I 2021-09-11 03:18:12,240]\u001b[0m Trial 172 finished with value: 995319476.0 and parameters: {'hash_table_size': 9, 'K_START': 0.06574897872422841, 'K_END': 0.04328084802202679, 'K_H': 0.6151302261128214, 'PURCHASE_TURN_LIMIT': 831, 'ROUGH_HASH': '0', 'TARGET_BEAM_WIDTH_INCREASE_RATE': 3.333259792511256, 'TARGET_BEAM_WIDTH_HALF_PROGRES_RATE': 0.5857457333882011, 'MAX_BEAM_WIDTH': 837}. Best is trial 171 with value: 999728175.0.\u001b[0m\n"
     ]
    },
    {
     "name": "stdout",
     "output_type": "stream",
     "text": [
      "callback ok\n",
      "index_parallel=8\n",
      "sed -i 8_main.cpp -e 's/^constexpr int hash_table_size = .*;         \\/\\/ OPTIMIZE \\[9, 18\\]$/constexpr int hash_table_size = 9;         \\/\\/ OPTIMIZE [9, 18]/' -e 's/^constexpr double K_START = .*;  \\/\\/ OPTIMIZE \\[0\\.04, 0\\.2\\] LOG$/constexpr double K_START = 0.06222003908164069;  \\/\\/ OPTIMIZE [0.04, 0.2] LOG/' -e 's/^constexpr double K_END = .*;   \\/\\/ OPTIMIZE \\[0\\.03, 0\\.1\\] LOG$/constexpr double K_END = 0.059922918510150934;   \\/\\/ OPTIMIZE [0.03, 0.1] LOG/' -e 's/^constexpr double K_H = .*;      \\/\\/ OPTIMIZE \\[0\\.001, 0\\.999\\]$/constexpr double K_H = 0.5898229575784366;      \\/\\/ OPTIMIZE [0.001, 0.999]/' -e 's/^constexpr short PURCHASE_TURN_LIMIT = .*;  \\/\\/ OPTIMIZE \\[790, 870\\]$/constexpr short PURCHASE_TURN_LIMIT = 838;  \\/\\/ OPTIMIZE [790, 870]/' -e 's/^constexpr int ROUGH_HASH = .*;      \\/\\/ OPTIMIZE {0, 0b00000001, 0b00010001, 0b00010011, 0b00110011}$/constexpr int ROUGH_HASH = 0;      \\/\\/ OPTIMIZE {0, 0b00000001, 0b00010001, 0b00010011, 0b00110011}/' -e 's/^constexpr double TARGET_BEAM_WIDTH_INCREASE_RATE = .*;      \\/\\/ OPTIMIZE \\[0\\.25, 4\\.0\\] LOG$/constexpr double TARGET_BEAM_WIDTH_INCREASE_RATE = 3.188493063187799;      \\/\\/ OPTIMIZE [0.25, 4.0] LOG/' -e 's/^constexpr double TARGET_BEAM_WIDTH_HALF_PROGRES_RATE = .*;  \\/\\/ OPTIMIZE \\[0\\.02, 0\\.98\\]$/constexpr double TARGET_BEAM_WIDTH_HALF_PROGRES_RATE = 0.5300612376204931;  \\/\\/ OPTIMIZE [0.02, 0.98]/' -e 's/^constexpr auto MAX_BEAM_WIDTH = .*;                        \\/\\/ OPTIMIZE \\[400, 4000\\] LOG$/constexpr auto MAX_BEAM_WIDTH = 801;                        \\/\\/ OPTIMIZE [400, 4000] LOG/'\n",
      "g++ 8_main.cpp -std=gnu++17 -O2 -DONLINE_JUDGE -o 8_main.cpp.out 2> /dev/null\n"
     ]
    },
    {
     "name": "stderr",
     "output_type": "stream",
     "text": [
      "\u001b[32m[I 2021-09-11 03:18:25,782]\u001b[0m Trial 173 finished with value: 995628529.0 and parameters: {'hash_table_size': 9, 'K_START': 0.06548670215200875, 'K_END': 0.043355386170943894, 'K_H': 0.581575762320396, 'PURCHASE_TURN_LIMIT': 828, 'ROUGH_HASH': '0', 'TARGET_BEAM_WIDTH_INCREASE_RATE': 3.3152160703263305, 'TARGET_BEAM_WIDTH_HALF_PROGRES_RATE': 0.5445506804844288, 'MAX_BEAM_WIDTH': 811}. Best is trial 171 with value: 999728175.0.\u001b[0m\n"
     ]
    },
    {
     "name": "stdout",
     "output_type": "stream",
     "text": [
      "callback ok\n",
      "index_parallel=9\n",
      "sed -i 9_main.cpp -e 's/^constexpr int hash_table_size = .*;         \\/\\/ OPTIMIZE \\[9, 18\\]$/constexpr int hash_table_size = 9;         \\/\\/ OPTIMIZE [9, 18]/' -e 's/^constexpr double K_START = .*;  \\/\\/ OPTIMIZE \\[0\\.04, 0\\.2\\] LOG$/constexpr double K_START = 0.0618887915384712;  \\/\\/ OPTIMIZE [0.04, 0.2] LOG/' -e 's/^constexpr double K_END = .*;   \\/\\/ OPTIMIZE \\[0\\.03, 0\\.1\\] LOG$/constexpr double K_END = 0.058232535550097;   \\/\\/ OPTIMIZE [0.03, 0.1] LOG/' -e 's/^constexpr double K_H = .*;      \\/\\/ OPTIMIZE \\[0\\.001, 0\\.999\\]$/constexpr double K_H = 0.5351649015181967;      \\/\\/ OPTIMIZE [0.001, 0.999]/' -e 's/^constexpr short PURCHASE_TURN_LIMIT = .*;  \\/\\/ OPTIMIZE \\[790, 870\\]$/constexpr short PURCHASE_TURN_LIMIT = 827;  \\/\\/ OPTIMIZE [790, 870]/' -e 's/^constexpr int ROUGH_HASH = .*;      \\/\\/ OPTIMIZE {0, 0b00000001, 0b00010001, 0b00010011, 0b00110011}$/constexpr int ROUGH_HASH = 0;      \\/\\/ OPTIMIZE {0, 0b00000001, 0b00010001, 0b00010011, 0b00110011}/' -e 's/^constexpr double TARGET_BEAM_WIDTH_INCREASE_RATE = .*;      \\/\\/ OPTIMIZE \\[0\\.25, 4\\.0\\] LOG$/constexpr double TARGET_BEAM_WIDTH_INCREASE_RATE = 3.171531529735317;      \\/\\/ OPTIMIZE [0.25, 4.0] LOG/' -e 's/^constexpr double TARGET_BEAM_WIDTH_HALF_PROGRES_RATE = .*;  \\/\\/ OPTIMIZE \\[0\\.02, 0\\.98\\]$/constexpr double TARGET_BEAM_WIDTH_HALF_PROGRES_RATE = 0.5321031132818276;  \\/\\/ OPTIMIZE [0.02, 0.98]/' -e 's/^constexpr auto MAX_BEAM_WIDTH = .*;                        \\/\\/ OPTIMIZE \\[400, 4000\\] LOG$/constexpr auto MAX_BEAM_WIDTH = 863;                        \\/\\/ OPTIMIZE [400, 4000] LOG/'\n",
      "g++ 9_main.cpp -std=gnu++17 -O2 -DONLINE_JUDGE -o 9_main.cpp.out 2> /dev/null\n"
     ]
    },
    {
     "name": "stderr",
     "output_type": "stream",
     "text": [
      "\u001b[32m[I 2021-09-11 03:18:33,602]\u001b[0m Trial 174 finished with value: 997129121.0 and parameters: {'hash_table_size': 9, 'K_START': 0.06478917418979442, 'K_END': 0.04275490589200036, 'K_H': 0.6063097792432669, 'PURCHASE_TURN_LIMIT': 828, 'ROUGH_HASH': '0', 'TARGET_BEAM_WIDTH_INCREASE_RATE': 3.2626135650637584, 'TARGET_BEAM_WIDTH_HALF_PROGRES_RATE': 0.5425995917066075, 'MAX_BEAM_WIDTH': 829}. Best is trial 171 with value: 999728175.0.\u001b[0m\n"
     ]
    },
    {
     "name": "stdout",
     "output_type": "stream",
     "text": [
      "callback ok\n",
      "index_parallel=10\n",
      "sed -i 10_main.cpp -e 's/^constexpr int hash_table_size = .*;         \\/\\/ OPTIMIZE \\[9, 18\\]$/constexpr int hash_table_size = 9;         \\/\\/ OPTIMIZE [9, 18]/' -e 's/^constexpr double K_START = .*;  \\/\\/ OPTIMIZE \\[0\\.04, 0\\.2\\] LOG$/constexpr double K_START = 0.062484902460577134;  \\/\\/ OPTIMIZE [0.04, 0.2] LOG/' -e 's/^constexpr double K_END = .*;   \\/\\/ OPTIMIZE \\[0\\.03, 0\\.1\\] LOG$/constexpr double K_END = 0.042030448699140605;   \\/\\/ OPTIMIZE [0.03, 0.1] LOG/' -e 's/^constexpr double K_H = .*;      \\/\\/ OPTIMIZE \\[0\\.001, 0\\.999\\]$/constexpr double K_H = 0.62948873254601;      \\/\\/ OPTIMIZE [0.001, 0.999]/' -e 's/^constexpr short PURCHASE_TURN_LIMIT = .*;  \\/\\/ OPTIMIZE \\[790, 870\\]$/constexpr short PURCHASE_TURN_LIMIT = 838;  \\/\\/ OPTIMIZE [790, 870]/' -e 's/^constexpr int ROUGH_HASH = .*;      \\/\\/ OPTIMIZE {0, 0b00000001, 0b00010001, 0b00010011, 0b00110011}$/constexpr int ROUGH_HASH = 0;      \\/\\/ OPTIMIZE {0, 0b00000001, 0b00010001, 0b00010011, 0b00110011}/' -e 's/^constexpr double TARGET_BEAM_WIDTH_INCREASE_RATE = .*;      \\/\\/ OPTIMIZE \\[0\\.25, 4\\.0\\] LOG$/constexpr double TARGET_BEAM_WIDTH_INCREASE_RATE = 3.6215705299087513;      \\/\\/ OPTIMIZE [0.25, 4.0] LOG/' -e 's/^constexpr double TARGET_BEAM_WIDTH_HALF_PROGRES_RATE = .*;  \\/\\/ OPTIMIZE \\[0\\.02, 0\\.98\\]$/constexpr double TARGET_BEAM_WIDTH_HALF_PROGRES_RATE = 0.5017100115154906;  \\/\\/ OPTIMIZE [0.02, 0.98]/' -e 's/^constexpr auto MAX_BEAM_WIDTH = .*;                        \\/\\/ OPTIMIZE \\[400, 4000\\] LOG$/constexpr auto MAX_BEAM_WIDTH = 874;                        \\/\\/ OPTIMIZE [400, 4000] LOG/'\n",
      "g++ 10_main.cpp -std=gnu++17 -O2 -DONLINE_JUDGE -o 10_main.cpp.out 2> /dev/null\n"
     ]
    },
    {
     "name": "stderr",
     "output_type": "stream",
     "text": [
      "\u001b[32m[I 2021-09-11 03:18:44,683]\u001b[0m Trial 175 finished with value: 998285890.0 and parameters: {'hash_table_size': 9, 'K_START': 0.06632974380817286, 'K_END': 0.05928033700782551, 'K_H': 0.610919970590303, 'PURCHASE_TURN_LIMIT': 828, 'ROUGH_HASH': '0', 'TARGET_BEAM_WIDTH_INCREASE_RATE': 3.300322201582558, 'TARGET_BEAM_WIDTH_HALF_PROGRES_RATE': 0.5489685486444621, 'MAX_BEAM_WIDTH': 864}. Best is trial 171 with value: 999728175.0.\u001b[0m\n"
     ]
    },
    {
     "name": "stdout",
     "output_type": "stream",
     "text": [
      "callback ok\n",
      "index_parallel=11\n",
      "sed -i 11_main.cpp -e 's/^constexpr int hash_table_size = .*;         \\/\\/ OPTIMIZE \\[9, 18\\]$/constexpr int hash_table_size = 9;         \\/\\/ OPTIMIZE [9, 18]/' -e 's/^constexpr double K_START = .*;  \\/\\/ OPTIMIZE \\[0\\.04, 0\\.2\\] LOG$/constexpr double K_START = 0.0701008750764635;  \\/\\/ OPTIMIZE [0.04, 0.2] LOG/' -e 's/^constexpr double K_END = .*;   \\/\\/ OPTIMIZE \\[0\\.03, 0\\.1\\] LOG$/constexpr double K_END = 0.058572254115694826;   \\/\\/ OPTIMIZE [0.03, 0.1] LOG/' -e 's/^constexpr double K_H = .*;      \\/\\/ OPTIMIZE \\[0\\.001, 0\\.999\\]$/constexpr double K_H = 0.6334159440391149;      \\/\\/ OPTIMIZE [0.001, 0.999]/' -e 's/^constexpr short PURCHASE_TURN_LIMIT = .*;  \\/\\/ OPTIMIZE \\[790, 870\\]$/constexpr short PURCHASE_TURN_LIMIT = 838;  \\/\\/ OPTIMIZE [790, 870]/' -e 's/^constexpr int ROUGH_HASH = .*;      \\/\\/ OPTIMIZE {0, 0b00000001, 0b00010001, 0b00010011, 0b00110011}$/constexpr int ROUGH_HASH = 0;      \\/\\/ OPTIMIZE {0, 0b00000001, 0b00010001, 0b00010011, 0b00110011}/' -e 's/^constexpr double TARGET_BEAM_WIDTH_INCREASE_RATE = .*;      \\/\\/ OPTIMIZE \\[0\\.25, 4\\.0\\] LOG$/constexpr double TARGET_BEAM_WIDTH_INCREASE_RATE = 3.6051293145435626;      \\/\\/ OPTIMIZE [0.25, 4.0] LOG/' -e 's/^constexpr double TARGET_BEAM_WIDTH_HALF_PROGRES_RATE = .*;  \\/\\/ OPTIMIZE \\[0\\.02, 0\\.98\\]$/constexpr double TARGET_BEAM_WIDTH_HALF_PROGRES_RATE = 0.5502998889023832;  \\/\\/ OPTIMIZE [0.02, 0.98]/' -e 's/^constexpr auto MAX_BEAM_WIDTH = .*;                        \\/\\/ OPTIMIZE \\[400, 4000\\] LOG$/constexpr auto MAX_BEAM_WIDTH = 864;                        \\/\\/ OPTIMIZE [400, 4000] LOG/'\n",
      "g++ 11_main.cpp -std=gnu++17 -O2 -DONLINE_JUDGE -o 11_main.cpp.out 2> /dev/null\n"
     ]
    },
    {
     "name": "stderr",
     "output_type": "stream",
     "text": [
      "\u001b[32m[I 2021-09-11 03:19:57,733]\u001b[0m Trial 176 finished with value: 1002301718.0 and parameters: {'hash_table_size': 9, 'K_START': 0.06222003908164069, 'K_END': 0.059922918510150934, 'K_H': 0.5898229575784366, 'PURCHASE_TURN_LIMIT': 838, 'ROUGH_HASH': '0', 'TARGET_BEAM_WIDTH_INCREASE_RATE': 3.188493063187799, 'TARGET_BEAM_WIDTH_HALF_PROGRES_RATE': 0.5300612376204931, 'MAX_BEAM_WIDTH': 801}. Best is trial 176 with value: 1002301718.0.\u001b[0m\n"
     ]
    },
    {
     "name": "stdout",
     "output_type": "stream",
     "text": [
      "Updated! 1002301718.0\n",
      "callback ok\n",
      "index_parallel=0\n",
      "sed -i 0_main.cpp -e 's/^constexpr int hash_table_size = .*;         \\/\\/ OPTIMIZE \\[9, 18\\]$/constexpr int hash_table_size = 9;         \\/\\/ OPTIMIZE [9, 18]/' -e 's/^constexpr double K_START = .*;  \\/\\/ OPTIMIZE \\[0\\.04, 0\\.2\\] LOG$/constexpr double K_START = 0.06271597083361939;  \\/\\/ OPTIMIZE [0.04, 0.2] LOG/' -e 's/^constexpr double K_END = .*;   \\/\\/ OPTIMIZE \\[0\\.03, 0\\.1\\] LOG$/constexpr double K_END = 0.05920327509536168;   \\/\\/ OPTIMIZE [0.03, 0.1] LOG/' -e 's/^constexpr double K_H = .*;      \\/\\/ OPTIMIZE \\[0\\.001, 0\\.999\\]$/constexpr double K_H = 0.6256894196054323;      \\/\\/ OPTIMIZE [0.001, 0.999]/' -e 's/^constexpr short PURCHASE_TURN_LIMIT = .*;  \\/\\/ OPTIMIZE \\[790, 870\\]$/constexpr short PURCHASE_TURN_LIMIT = 840;  \\/\\/ OPTIMIZE [790, 870]/' -e 's/^constexpr int ROUGH_HASH = .*;      \\/\\/ OPTIMIZE {0, 0b00000001, 0b00010001, 0b00010011, 0b00110011}$/constexpr int ROUGH_HASH = 0;      \\/\\/ OPTIMIZE {0, 0b00000001, 0b00010001, 0b00010011, 0b00110011}/' -e 's/^constexpr double TARGET_BEAM_WIDTH_INCREASE_RATE = .*;      \\/\\/ OPTIMIZE \\[0\\.25, 4\\.0\\] LOG$/constexpr double TARGET_BEAM_WIDTH_INCREASE_RATE = 3.5223471038720775;      \\/\\/ OPTIMIZE [0.25, 4.0] LOG/' -e 's/^constexpr double TARGET_BEAM_WIDTH_HALF_PROGRES_RATE = .*;  \\/\\/ OPTIMIZE \\[0\\.02, 0\\.98\\]$/constexpr double TARGET_BEAM_WIDTH_HALF_PROGRES_RATE = 0.5317286362546891;  \\/\\/ OPTIMIZE [0.02, 0.98]/' -e 's/^constexpr auto MAX_BEAM_WIDTH = .*;                        \\/\\/ OPTIMIZE \\[400, 4000\\] LOG$/constexpr auto MAX_BEAM_WIDTH = 806;                        \\/\\/ OPTIMIZE [400, 4000] LOG/'\n",
      "g++ 0_main.cpp -std=gnu++17 -O2 -DONLINE_JUDGE -o 0_main.cpp.out 2> /dev/null\n"
     ]
    },
    {
     "name": "stderr",
     "output_type": "stream",
     "text": [
      "\u001b[32m[I 2021-09-11 03:20:10,712]\u001b[0m Trial 177 finished with value: 998901476.0 and parameters: {'hash_table_size': 9, 'K_START': 0.0618887915384712, 'K_END': 0.058232535550097, 'K_H': 0.5351649015181967, 'PURCHASE_TURN_LIMIT': 827, 'ROUGH_HASH': '0', 'TARGET_BEAM_WIDTH_INCREASE_RATE': 3.171531529735317, 'TARGET_BEAM_WIDTH_HALF_PROGRES_RATE': 0.5321031132818276, 'MAX_BEAM_WIDTH': 863}. Best is trial 176 with value: 1002301718.0.\u001b[0m\n"
     ]
    },
    {
     "name": "stdout",
     "output_type": "stream",
     "text": [
      "callback ok\n",
      "index_parallel=1\n",
      "sed -i 1_main.cpp -e 's/^constexpr int hash_table_size = .*;         \\/\\/ OPTIMIZE \\[9, 18\\]$/constexpr int hash_table_size = 9;         \\/\\/ OPTIMIZE [9, 18]/' -e 's/^constexpr double K_START = .*;  \\/\\/ OPTIMIZE \\[0\\.04, 0\\.2\\] LOG$/constexpr double K_START = 0.06228084273724094;  \\/\\/ OPTIMIZE [0.04, 0.2] LOG/' -e 's/^constexpr double K_END = .*;   \\/\\/ OPTIMIZE \\[0\\.03, 0\\.1\\] LOG$/constexpr double K_END = 0.058189248163259585;   \\/\\/ OPTIMIZE [0.03, 0.1] LOG/' -e 's/^constexpr double K_H = .*;      \\/\\/ OPTIMIZE \\[0\\.001, 0\\.999\\]$/constexpr double K_H = 0.64868673244759;      \\/\\/ OPTIMIZE [0.001, 0.999]/' -e 's/^constexpr short PURCHASE_TURN_LIMIT = .*;  \\/\\/ OPTIMIZE \\[790, 870\\]$/constexpr short PURCHASE_TURN_LIMIT = 841;  \\/\\/ OPTIMIZE [790, 870]/' -e 's/^constexpr int ROUGH_HASH = .*;      \\/\\/ OPTIMIZE {0, 0b00000001, 0b00010001, 0b00010011, 0b00110011}$/constexpr int ROUGH_HASH = 0;      \\/\\/ OPTIMIZE {0, 0b00000001, 0b00010001, 0b00010011, 0b00110011}/' -e 's/^constexpr double TARGET_BEAM_WIDTH_INCREASE_RATE = .*;      \\/\\/ OPTIMIZE \\[0\\.25, 4\\.0\\] LOG$/constexpr double TARGET_BEAM_WIDTH_INCREASE_RATE = 3.6431175088072116;      \\/\\/ OPTIMIZE [0.25, 4.0] LOG/' -e 's/^constexpr double TARGET_BEAM_WIDTH_HALF_PROGRES_RATE = .*;  \\/\\/ OPTIMIZE \\[0\\.02, 0\\.98\\]$/constexpr double TARGET_BEAM_WIDTH_HALF_PROGRES_RATE = 0.5303391724132652;  \\/\\/ OPTIMIZE [0.02, 0.98]/' -e 's/^constexpr auto MAX_BEAM_WIDTH = .*;                        \\/\\/ OPTIMIZE \\[400, 4000\\] LOG$/constexpr auto MAX_BEAM_WIDTH = 868;                        \\/\\/ OPTIMIZE [400, 4000] LOG/'\n",
      "g++ 1_main.cpp -std=gnu++17 -O2 -DONLINE_JUDGE -o 1_main.cpp.out 2> /dev/null\n"
     ]
    },
    {
     "name": "stderr",
     "output_type": "stream",
     "text": [
      "\u001b[32m[I 2021-09-11 03:20:19,279]\u001b[0m Trial 178 finished with value: 993999013.0 and parameters: {'hash_table_size': 9, 'K_START': 0.062484902460577134, 'K_END': 0.042030448699140605, 'K_H': 0.62948873254601, 'PURCHASE_TURN_LIMIT': 838, 'ROUGH_HASH': '0', 'TARGET_BEAM_WIDTH_INCREASE_RATE': 3.6215705299087513, 'TARGET_BEAM_WIDTH_HALF_PROGRES_RATE': 0.5017100115154906, 'MAX_BEAM_WIDTH': 874}. Best is trial 176 with value: 1002301718.0.\u001b[0m\n"
     ]
    },
    {
     "name": "stdout",
     "output_type": "stream",
     "text": [
      "callback ok\n",
      "index_parallel=2\n",
      "sed -i 2_main.cpp -e 's/^constexpr int hash_table_size = .*;         \\/\\/ OPTIMIZE \\[9, 18\\]$/constexpr int hash_table_size = 9;         \\/\\/ OPTIMIZE [9, 18]/' -e 's/^constexpr double K_START = .*;  \\/\\/ OPTIMIZE \\[0\\.04, 0\\.2\\] LOG$/constexpr double K_START = 0.062106438699437494;  \\/\\/ OPTIMIZE [0.04, 0.2] LOG/' -e 's/^constexpr double K_END = .*;   \\/\\/ OPTIMIZE \\[0\\.03, 0\\.1\\] LOG$/constexpr double K_END = 0.05834695893589638;   \\/\\/ OPTIMIZE [0.03, 0.1] LOG/' -e 's/^constexpr double K_H = .*;      \\/\\/ OPTIMIZE \\[0\\.001, 0\\.999\\]$/constexpr double K_H = 0.6627397944172694;      \\/\\/ OPTIMIZE [0.001, 0.999]/' -e 's/^constexpr short PURCHASE_TURN_LIMIT = .*;  \\/\\/ OPTIMIZE \\[790, 870\\]$/constexpr short PURCHASE_TURN_LIMIT = 841;  \\/\\/ OPTIMIZE [790, 870]/' -e 's/^constexpr int ROUGH_HASH = .*;      \\/\\/ OPTIMIZE {0, 0b00000001, 0b00010001, 0b00010011, 0b00110011}$/constexpr int ROUGH_HASH = 0;      \\/\\/ OPTIMIZE {0, 0b00000001, 0b00010001, 0b00010011, 0b00110011}/' -e 's/^constexpr double TARGET_BEAM_WIDTH_INCREASE_RATE = .*;      \\/\\/ OPTIMIZE \\[0\\.25, 4\\.0\\] LOG$/constexpr double TARGET_BEAM_WIDTH_INCREASE_RATE = 3.1644576787193635;      \\/\\/ OPTIMIZE [0.25, 4.0] LOG/' -e 's/^constexpr double TARGET_BEAM_WIDTH_HALF_PROGRES_RATE = .*;  \\/\\/ OPTIMIZE \\[0\\.02, 0\\.98\\]$/constexpr double TARGET_BEAM_WIDTH_HALF_PROGRES_RATE = 0.5254405033638014;  \\/\\/ OPTIMIZE [0.02, 0.98]/' -e 's/^constexpr auto MAX_BEAM_WIDTH = .*;                        \\/\\/ OPTIMIZE \\[400, 4000\\] LOG$/constexpr auto MAX_BEAM_WIDTH = 797;                        \\/\\/ OPTIMIZE [400, 4000] LOG/'\n",
      "g++ 2_main.cpp -std=gnu++17 -O2 -DONLINE_JUDGE -o 2_main.cpp.out 2> /dev/null\n"
     ]
    },
    {
     "name": "stderr",
     "output_type": "stream",
     "text": [
      "\u001b[32m[I 2021-09-11 03:20:30,316]\u001b[0m Trial 179 finished with value: 999791242.0 and parameters: {'hash_table_size': 9, 'K_START': 0.0701008750764635, 'K_END': 0.058572254115694826, 'K_H': 0.6334159440391149, 'PURCHASE_TURN_LIMIT': 838, 'ROUGH_HASH': '0', 'TARGET_BEAM_WIDTH_INCREASE_RATE': 3.6051293145435626, 'TARGET_BEAM_WIDTH_HALF_PROGRES_RATE': 0.5502998889023832, 'MAX_BEAM_WIDTH': 864}. Best is trial 176 with value: 1002301718.0.\u001b[0m\n"
     ]
    },
    {
     "name": "stdout",
     "output_type": "stream",
     "text": [
      "callback ok\n",
      "index_parallel=3\n",
      "sed -i 3_main.cpp -e 's/^constexpr int hash_table_size = .*;         \\/\\/ OPTIMIZE \\[9, 18\\]$/constexpr int hash_table_size = 9;         \\/\\/ OPTIMIZE [9, 18]/' -e 's/^constexpr double K_START = .*;  \\/\\/ OPTIMIZE \\[0\\.04, 0\\.2\\] LOG$/constexpr double K_START = 0.0703500646534734;  \\/\\/ OPTIMIZE [0.04, 0.2] LOG/' -e 's/^constexpr double K_END = .*;   \\/\\/ OPTIMIZE \\[0\\.03, 0\\.1\\] LOG$/constexpr double K_END = 0.05824452505685442;   \\/\\/ OPTIMIZE [0.03, 0.1] LOG/' -e 's/^constexpr double K_H = .*;      \\/\\/ OPTIMIZE \\[0\\.001, 0\\.999\\]$/constexpr double K_H = 0.6498568184973839;      \\/\\/ OPTIMIZE [0.001, 0.999]/' -e 's/^constexpr short PURCHASE_TURN_LIMIT = .*;  \\/\\/ OPTIMIZE \\[790, 870\\]$/constexpr short PURCHASE_TURN_LIMIT = 837;  \\/\\/ OPTIMIZE [790, 870]/' -e 's/^constexpr int ROUGH_HASH = .*;      \\/\\/ OPTIMIZE {0, 0b00000001, 0b00010001, 0b00010011, 0b00110011}$/constexpr int ROUGH_HASH = 0;      \\/\\/ OPTIMIZE {0, 0b00000001, 0b00010001, 0b00010011, 0b00110011}/' -e 's/^constexpr double TARGET_BEAM_WIDTH_INCREASE_RATE = .*;      \\/\\/ OPTIMIZE \\[0\\.25, 4\\.0\\] LOG$/constexpr double TARGET_BEAM_WIDTH_INCREASE_RATE = 3.2418896091720306;      \\/\\/ OPTIMIZE [0.25, 4.0] LOG/' -e 's/^constexpr double TARGET_BEAM_WIDTH_HALF_PROGRES_RATE = .*;  \\/\\/ OPTIMIZE \\[0\\.02, 0\\.98\\]$/constexpr double TARGET_BEAM_WIDTH_HALF_PROGRES_RATE = 0.5327508280021841;  \\/\\/ OPTIMIZE [0.02, 0.98]/' -e 's/^constexpr auto MAX_BEAM_WIDTH = .*;                        \\/\\/ OPTIMIZE \\[400, 4000\\] LOG$/constexpr auto MAX_BEAM_WIDTH = 882;                        \\/\\/ OPTIMIZE [400, 4000] LOG/'\n",
      "g++ 3_main.cpp -std=gnu++17 -O2 -DONLINE_JUDGE -o 3_main.cpp.out 2> /dev/null\n"
     ]
    },
    {
     "name": "stderr",
     "output_type": "stream",
     "text": [
      "\u001b[32m[I 2021-09-11 03:21:43,934]\u001b[0m Trial 180 finished with value: 998942806.0 and parameters: {'hash_table_size': 9, 'K_START': 0.06271597083361939, 'K_END': 0.05920327509536168, 'K_H': 0.6256894196054323, 'PURCHASE_TURN_LIMIT': 840, 'ROUGH_HASH': '0', 'TARGET_BEAM_WIDTH_INCREASE_RATE': 3.5223471038720775, 'TARGET_BEAM_WIDTH_HALF_PROGRES_RATE': 0.5317286362546891, 'MAX_BEAM_WIDTH': 806}. Best is trial 176 with value: 1002301718.0.\u001b[0m\n"
     ]
    },
    {
     "name": "stdout",
     "output_type": "stream",
     "text": [
      "callback ok\n",
      "index_parallel=4\n",
      "sed -i 4_main.cpp -e 's/^constexpr int hash_table_size = .*;         \\/\\/ OPTIMIZE \\[9, 18\\]$/constexpr int hash_table_size = 9;         \\/\\/ OPTIMIZE [9, 18]/' -e 's/^constexpr double K_START = .*;  \\/\\/ OPTIMIZE \\[0\\.04, 0\\.2\\] LOG$/constexpr double K_START = 0.07019603573404347;  \\/\\/ OPTIMIZE [0.04, 0.2] LOG/' -e 's/^constexpr double K_END = .*;   \\/\\/ OPTIMIZE \\[0\\.03, 0\\.1\\] LOG$/constexpr double K_END = 0.058177073434298954;   \\/\\/ OPTIMIZE [0.03, 0.1] LOG/' -e 's/^constexpr double K_H = .*;      \\/\\/ OPTIMIZE \\[0\\.001, 0\\.999\\]$/constexpr double K_H = 0.6714135485352257;      \\/\\/ OPTIMIZE [0.001, 0.999]/' -e 's/^constexpr short PURCHASE_TURN_LIMIT = .*;  \\/\\/ OPTIMIZE \\[790, 870\\]$/constexpr short PURCHASE_TURN_LIMIT = 838;  \\/\\/ OPTIMIZE [790, 870]/' -e 's/^constexpr int ROUGH_HASH = .*;      \\/\\/ OPTIMIZE {0, 0b00000001, 0b00010001, 0b00010011, 0b00110011}$/constexpr int ROUGH_HASH = 0;      \\/\\/ OPTIMIZE {0, 0b00000001, 0b00010001, 0b00010011, 0b00110011}/' -e 's/^constexpr double TARGET_BEAM_WIDTH_INCREASE_RATE = .*;      \\/\\/ OPTIMIZE \\[0\\.25, 4\\.0\\] LOG$/constexpr double TARGET_BEAM_WIDTH_INCREASE_RATE = 3.945056696018664;      \\/\\/ OPTIMIZE [0.25, 4.0] LOG/' -e 's/^constexpr double TARGET_BEAM_WIDTH_HALF_PROGRES_RATE = .*;  \\/\\/ OPTIMIZE \\[0\\.02, 0\\.98\\]$/constexpr double TARGET_BEAM_WIDTH_HALF_PROGRES_RATE = 0.5530568879917194;  \\/\\/ OPTIMIZE [0.02, 0.98]/' -e 's/^constexpr auto MAX_BEAM_WIDTH = .*;                        \\/\\/ OPTIMIZE \\[400, 4000\\] LOG$/constexpr auto MAX_BEAM_WIDTH = 805;                        \\/\\/ OPTIMIZE [400, 4000] LOG/'\n",
      "g++ 4_main.cpp -std=gnu++17 -O2 -DONLINE_JUDGE -o 4_main.cpp.out 2> /dev/null\n"
     ]
    },
    {
     "name": "stderr",
     "output_type": "stream",
     "text": [
      "\u001b[32m[I 2021-09-11 03:21:56,873]\u001b[0m Trial 181 finished with value: 997056142.0 and parameters: {'hash_table_size': 9, 'K_START': 0.06228084273724094, 'K_END': 0.058189248163259585, 'K_H': 0.64868673244759, 'PURCHASE_TURN_LIMIT': 841, 'ROUGH_HASH': '0', 'TARGET_BEAM_WIDTH_INCREASE_RATE': 3.6431175088072116, 'TARGET_BEAM_WIDTH_HALF_PROGRES_RATE': 0.5303391724132652, 'MAX_BEAM_WIDTH': 868}. Best is trial 176 with value: 1002301718.0.\u001b[0m\n"
     ]
    },
    {
     "name": "stdout",
     "output_type": "stream",
     "text": [
      "callback ok\n",
      "index_parallel=5\n",
      "sed -i 5_main.cpp -e 's/^constexpr int hash_table_size = .*;         \\/\\/ OPTIMIZE \\[9, 18\\]$/constexpr int hash_table_size = 9;         \\/\\/ OPTIMIZE [9, 18]/' -e 's/^constexpr double K_START = .*;  \\/\\/ OPTIMIZE \\[0\\.04, 0\\.2\\] LOG$/constexpr double K_START = 0.06446155778061825;  \\/\\/ OPTIMIZE [0.04, 0.2] LOG/' -e 's/^constexpr double K_END = .*;   \\/\\/ OPTIMIZE \\[0\\.03, 0\\.1\\] LOG$/constexpr double K_END = 0.05443594220999807;   \\/\\/ OPTIMIZE [0.03, 0.1] LOG/' -e 's/^constexpr double K_H = .*;      \\/\\/ OPTIMIZE \\[0\\.001, 0\\.999\\]$/constexpr double K_H = 0.5947538539701951;      \\/\\/ OPTIMIZE [0.001, 0.999]/' -e 's/^constexpr short PURCHASE_TURN_LIMIT = .*;  \\/\\/ OPTIMIZE \\[790, 870\\]$/constexpr short PURCHASE_TURN_LIMIT = 843;  \\/\\/ OPTIMIZE [790, 870]/' -e 's/^constexpr int ROUGH_HASH = .*;      \\/\\/ OPTIMIZE {0, 0b00000001, 0b00010001, 0b00010011, 0b00110011}$/constexpr int ROUGH_HASH = 0;      \\/\\/ OPTIMIZE {0, 0b00000001, 0b00010001, 0b00010011, 0b00110011}/' -e 's/^constexpr double TARGET_BEAM_WIDTH_INCREASE_RATE = .*;      \\/\\/ OPTIMIZE \\[0\\.25, 4\\.0\\] LOG$/constexpr double TARGET_BEAM_WIDTH_INCREASE_RATE = 3.9279515714418984;      \\/\\/ OPTIMIZE [0.25, 4.0] LOG/' -e 's/^constexpr double TARGET_BEAM_WIDTH_HALF_PROGRES_RATE = .*;  \\/\\/ OPTIMIZE \\[0\\.02, 0\\.98\\]$/constexpr double TARGET_BEAM_WIDTH_HALF_PROGRES_RATE = 0.5501936732349177;  \\/\\/ OPTIMIZE [0.02, 0.98]/' -e 's/^constexpr auto MAX_BEAM_WIDTH = .*;                        \\/\\/ OPTIMIZE \\[400, 4000\\] LOG$/constexpr auto MAX_BEAM_WIDTH = 815;                        \\/\\/ OPTIMIZE [400, 4000] LOG/'\n",
      "g++ 5_main.cpp -std=gnu++17 -O2 -DONLINE_JUDGE -o 5_main.cpp.out 2> /dev/null\n"
     ]
    },
    {
     "name": "stderr",
     "output_type": "stream",
     "text": [
      "\u001b[32m[I 2021-09-11 03:22:05,150]\u001b[0m Trial 182 finished with value: 998233600.0 and parameters: {'hash_table_size': 9, 'K_START': 0.062106438699437494, 'K_END': 0.05834695893589638, 'K_H': 0.6627397944172694, 'PURCHASE_TURN_LIMIT': 841, 'ROUGH_HASH': '0', 'TARGET_BEAM_WIDTH_INCREASE_RATE': 3.1644576787193635, 'TARGET_BEAM_WIDTH_HALF_PROGRES_RATE': 0.5254405033638014, 'MAX_BEAM_WIDTH': 797}. Best is trial 176 with value: 1002301718.0.\u001b[0m\n"
     ]
    },
    {
     "name": "stdout",
     "output_type": "stream",
     "text": [
      "callback ok\n",
      "index_parallel=6\n",
      "sed -i 6_main.cpp -e 's/^constexpr int hash_table_size = .*;         \\/\\/ OPTIMIZE \\[9, 18\\]$/constexpr int hash_table_size = 9;         \\/\\/ OPTIMIZE [9, 18]/' -e 's/^constexpr double K_START = .*;  \\/\\/ OPTIMIZE \\[0\\.04, 0\\.2\\] LOG$/constexpr double K_START = 0.07003336492260084;  \\/\\/ OPTIMIZE [0.04, 0.2] LOG/' -e 's/^constexpr double K_END = .*;   \\/\\/ OPTIMIZE \\[0\\.03, 0\\.1\\] LOG$/constexpr double K_END = 0.05835240183719732;   \\/\\/ OPTIMIZE [0.03, 0.1] LOG/' -e 's/^constexpr double K_H = .*;      \\/\\/ OPTIMIZE \\[0\\.001, 0\\.999\\]$/constexpr double K_H = 0.668249928630005;      \\/\\/ OPTIMIZE [0.001, 0.999]/' -e 's/^constexpr short PURCHASE_TURN_LIMIT = .*;  \\/\\/ OPTIMIZE \\[790, 870\\]$/constexpr short PURCHASE_TURN_LIMIT = 839;  \\/\\/ OPTIMIZE [790, 870]/' -e 's/^constexpr int ROUGH_HASH = .*;      \\/\\/ OPTIMIZE {0, 0b00000001, 0b00010001, 0b00010011, 0b00110011}$/constexpr int ROUGH_HASH = 0;      \\/\\/ OPTIMIZE {0, 0b00000001, 0b00010001, 0b00010011, 0b00110011}/' -e 's/^constexpr double TARGET_BEAM_WIDTH_INCREASE_RATE = .*;      \\/\\/ OPTIMIZE \\[0\\.25, 4\\.0\\] LOG$/constexpr double TARGET_BEAM_WIDTH_INCREASE_RATE = 3.2721996366350745;      \\/\\/ OPTIMIZE [0.25, 4.0] LOG/' -e 's/^constexpr double TARGET_BEAM_WIDTH_HALF_PROGRES_RATE = .*;  \\/\\/ OPTIMIZE \\[0\\.02, 0\\.98\\]$/constexpr double TARGET_BEAM_WIDTH_HALF_PROGRES_RATE = 0.5465521182573296;  \\/\\/ OPTIMIZE [0.02, 0.98]/' -e 's/^constexpr auto MAX_BEAM_WIDTH = .*;                        \\/\\/ OPTIMIZE \\[400, 4000\\] LOG$/constexpr auto MAX_BEAM_WIDTH = 807;                        \\/\\/ OPTIMIZE [400, 4000] LOG/'\n",
      "g++ 6_main.cpp -std=gnu++17 -O2 -DONLINE_JUDGE -o 6_main.cpp.out 2> /dev/null\n"
     ]
    },
    {
     "name": "stderr",
     "output_type": "stream",
     "text": [
      "\u001b[32m[I 2021-09-11 03:22:16,528]\u001b[0m Trial 183 finished with value: 999080103.0 and parameters: {'hash_table_size': 9, 'K_START': 0.0703500646534734, 'K_END': 0.05824452505685442, 'K_H': 0.6498568184973839, 'PURCHASE_TURN_LIMIT': 837, 'ROUGH_HASH': '0', 'TARGET_BEAM_WIDTH_INCREASE_RATE': 3.2418896091720306, 'TARGET_BEAM_WIDTH_HALF_PROGRES_RATE': 0.5327508280021841, 'MAX_BEAM_WIDTH': 882}. Best is trial 176 with value: 1002301718.0.\u001b[0m\n"
     ]
    },
    {
     "name": "stdout",
     "output_type": "stream",
     "text": [
      "callback ok\n",
      "index_parallel=7\n",
      "sed -i 7_main.cpp -e 's/^constexpr int hash_table_size = .*;         \\/\\/ OPTIMIZE \\[9, 18\\]$/constexpr int hash_table_size = 9;         \\/\\/ OPTIMIZE [9, 18]/' -e 's/^constexpr double K_START = .*;  \\/\\/ OPTIMIZE \\[0\\.04, 0\\.2\\] LOG$/constexpr double K_START = 0.06947236384194933;  \\/\\/ OPTIMIZE [0.04, 0.2] LOG/' -e 's/^constexpr double K_END = .*;   \\/\\/ OPTIMIZE \\[0\\.03, 0\\.1\\] LOG$/constexpr double K_END = 0.05424952674723591;   \\/\\/ OPTIMIZE [0.03, 0.1] LOG/' -e 's/^constexpr double K_H = .*;      \\/\\/ OPTIMIZE \\[0\\.001, 0\\.999\\]$/constexpr double K_H = 0.7171206145643699;      \\/\\/ OPTIMIZE [0.001, 0.999]/' -e 's/^constexpr short PURCHASE_TURN_LIMIT = .*;  \\/\\/ OPTIMIZE \\[790, 870\\]$/constexpr short PURCHASE_TURN_LIMIT = 843;  \\/\\/ OPTIMIZE [790, 870]/' -e 's/^constexpr int ROUGH_HASH = .*;      \\/\\/ OPTIMIZE {0, 0b00000001, 0b00010001, 0b00010011, 0b00110011}$/constexpr int ROUGH_HASH = 0;      \\/\\/ OPTIMIZE {0, 0b00000001, 0b00010001, 0b00010011, 0b00110011}/' -e 's/^constexpr double TARGET_BEAM_WIDTH_INCREASE_RATE = .*;      \\/\\/ OPTIMIZE \\[0\\.25, 4\\.0\\] LOG$/constexpr double TARGET_BEAM_WIDTH_INCREASE_RATE = 3.8573283864899914;      \\/\\/ OPTIMIZE [0.25, 4.0] LOG/' -e 's/^constexpr double TARGET_BEAM_WIDTH_HALF_PROGRES_RATE = .*;  \\/\\/ OPTIMIZE \\[0\\.02, 0\\.98\\]$/constexpr double TARGET_BEAM_WIDTH_HALF_PROGRES_RATE = 0.5589689127536719;  \\/\\/ OPTIMIZE [0.02, 0.98]/' -e 's/^constexpr auto MAX_BEAM_WIDTH = .*;                        \\/\\/ OPTIMIZE \\[400, 4000\\] LOG$/constexpr auto MAX_BEAM_WIDTH = 880;                        \\/\\/ OPTIMIZE [400, 4000] LOG/'\n",
      "g++ 7_main.cpp -std=gnu++17 -O2 -DONLINE_JUDGE -o 7_main.cpp.out 2> /dev/null\n"
     ]
    },
    {
     "name": "stderr",
     "output_type": "stream",
     "text": [
      "\u001b[32m[I 2021-09-11 03:23:29,267]\u001b[0m Trial 184 finished with value: 999065162.0 and parameters: {'hash_table_size': 9, 'K_START': 0.07019603573404347, 'K_END': 0.058177073434298954, 'K_H': 0.6714135485352257, 'PURCHASE_TURN_LIMIT': 838, 'ROUGH_HASH': '0', 'TARGET_BEAM_WIDTH_INCREASE_RATE': 3.945056696018664, 'TARGET_BEAM_WIDTH_HALF_PROGRES_RATE': 0.5530568879917194, 'MAX_BEAM_WIDTH': 805}. Best is trial 176 with value: 1002301718.0.\u001b[0m\n"
     ]
    },
    {
     "name": "stdout",
     "output_type": "stream",
     "text": [
      "callback ok\n",
      "index_parallel=8\n",
      "sed -i 8_main.cpp -e 's/^constexpr int hash_table_size = .*;         \\/\\/ OPTIMIZE \\[9, 18\\]$/constexpr int hash_table_size = 9;         \\/\\/ OPTIMIZE [9, 18]/' -e 's/^constexpr double K_START = .*;  \\/\\/ OPTIMIZE \\[0\\.04, 0\\.2\\] LOG$/constexpr double K_START = 0.07032242091019246;  \\/\\/ OPTIMIZE [0.04, 0.2] LOG/' -e 's/^constexpr double K_END = .*;   \\/\\/ OPTIMIZE \\[0\\.03, 0\\.1\\] LOG$/constexpr double K_END = 0.05848203319173358;   \\/\\/ OPTIMIZE [0.03, 0.1] LOG/' -e 's/^constexpr double K_H = .*;      \\/\\/ OPTIMIZE \\[0\\.001, 0\\.999\\]$/constexpr double K_H = 0.7260498402445015;      \\/\\/ OPTIMIZE [0.001, 0.999]/' -e 's/^constexpr short PURCHASE_TURN_LIMIT = .*;  \\/\\/ OPTIMIZE \\[790, 870\\]$/constexpr short PURCHASE_TURN_LIMIT = 842;  \\/\\/ OPTIMIZE [790, 870]/' -e 's/^constexpr int ROUGH_HASH = .*;      \\/\\/ OPTIMIZE {0, 0b00000001, 0b00010001, 0b00010011, 0b00110011}$/constexpr int ROUGH_HASH = 0;      \\/\\/ OPTIMIZE {0, 0b00000001, 0b00010001, 0b00010011, 0b00110011}/' -e 's/^constexpr double TARGET_BEAM_WIDTH_INCREASE_RATE = .*;      \\/\\/ OPTIMIZE \\[0\\.25, 4\\.0\\] LOG$/constexpr double TARGET_BEAM_WIDTH_INCREASE_RATE = 3.792165991001185;      \\/\\/ OPTIMIZE [0.25, 4.0] LOG/' -e 's/^constexpr double TARGET_BEAM_WIDTH_HALF_PROGRES_RATE = .*;  \\/\\/ OPTIMIZE \\[0\\.02, 0\\.98\\]$/constexpr double TARGET_BEAM_WIDTH_HALF_PROGRES_RATE = 0.56122767282982;  \\/\\/ OPTIMIZE [0.02, 0.98]/' -e 's/^constexpr auto MAX_BEAM_WIDTH = .*;                        \\/\\/ OPTIMIZE \\[400, 4000\\] LOG$/constexpr auto MAX_BEAM_WIDTH = 880;                        \\/\\/ OPTIMIZE [400, 4000] LOG/'\n",
      "g++ 8_main.cpp -std=gnu++17 -O2 -DONLINE_JUDGE -o 8_main.cpp.out 2> /dev/null\n"
     ]
    },
    {
     "name": "stderr",
     "output_type": "stream",
     "text": [
      "\u001b[32m[I 2021-09-11 03:23:42,422]\u001b[0m Trial 185 finished with value: 998606102.0 and parameters: {'hash_table_size': 9, 'K_START': 0.06446155778061825, 'K_END': 0.05443594220999807, 'K_H': 0.5947538539701951, 'PURCHASE_TURN_LIMIT': 843, 'ROUGH_HASH': '0', 'TARGET_BEAM_WIDTH_INCREASE_RATE': 3.9279515714418984, 'TARGET_BEAM_WIDTH_HALF_PROGRES_RATE': 0.5501936732349177, 'MAX_BEAM_WIDTH': 815}. Best is trial 176 with value: 1002301718.0.\u001b[0m\n"
     ]
    },
    {
     "name": "stdout",
     "output_type": "stream",
     "text": [
      "callback ok\n",
      "index_parallel=9\n",
      "sed -i 9_main.cpp -e 's/^constexpr int hash_table_size = .*;         \\/\\/ OPTIMIZE \\[9, 18\\]$/constexpr int hash_table_size = 9;         \\/\\/ OPTIMIZE [9, 18]/' -e 's/^constexpr double K_START = .*;  \\/\\/ OPTIMIZE \\[0\\.04, 0\\.2\\] LOG$/constexpr double K_START = 0.070642075683297;  \\/\\/ OPTIMIZE [0.04, 0.2] LOG/' -e 's/^constexpr double K_END = .*;   \\/\\/ OPTIMIZE \\[0\\.03, 0\\.1\\] LOG$/constexpr double K_END = 0.05442384660220219;   \\/\\/ OPTIMIZE [0.03, 0.1] LOG/' -e 's/^constexpr double K_H = .*;      \\/\\/ OPTIMIZE \\[0\\.001, 0\\.999\\]$/constexpr double K_H = 0.6861346368708253;      \\/\\/ OPTIMIZE [0.001, 0.999]/' -e 's/^constexpr short PURCHASE_TURN_LIMIT = .*;  \\/\\/ OPTIMIZE \\[790, 870\\]$/constexpr short PURCHASE_TURN_LIMIT = 843;  \\/\\/ OPTIMIZE [790, 870]/' -e 's/^constexpr int ROUGH_HASH = .*;      \\/\\/ OPTIMIZE {0, 0b00000001, 0b00010001, 0b00010011, 0b00110011}$/constexpr int ROUGH_HASH = 0;      \\/\\/ OPTIMIZE {0, 0b00000001, 0b00010001, 0b00010011, 0b00110011}/' -e 's/^constexpr double TARGET_BEAM_WIDTH_INCREASE_RATE = .*;      \\/\\/ OPTIMIZE \\[0\\.25, 4\\.0\\] LOG$/constexpr double TARGET_BEAM_WIDTH_INCREASE_RATE = 3.9446529353452524;      \\/\\/ OPTIMIZE [0.25, 4.0] LOG/' -e 's/^constexpr double TARGET_BEAM_WIDTH_HALF_PROGRES_RATE = .*;  \\/\\/ OPTIMIZE \\[0\\.02, 0\\.98\\]$/constexpr double TARGET_BEAM_WIDTH_HALF_PROGRES_RATE = 0.9776460535364667;  \\/\\/ OPTIMIZE [0.02, 0.98]/' -e 's/^constexpr auto MAX_BEAM_WIDTH = .*;                        \\/\\/ OPTIMIZE \\[400, 4000\\] LOG$/constexpr auto MAX_BEAM_WIDTH = 858;                        \\/\\/ OPTIMIZE [400, 4000] LOG/'\n",
      "g++ 9_main.cpp -std=gnu++17 -O2 -DONLINE_JUDGE -o 9_main.cpp.out 2> /dev/null\n"
     ]
    },
    {
     "name": "stderr",
     "output_type": "stream",
     "text": [
      "\u001b[32m[I 2021-09-11 03:23:51,082]\u001b[0m Trial 186 finished with value: 996626602.0 and parameters: {'hash_table_size': 9, 'K_START': 0.07003336492260084, 'K_END': 0.05835240183719732, 'K_H': 0.668249928630005, 'PURCHASE_TURN_LIMIT': 839, 'ROUGH_HASH': '0', 'TARGET_BEAM_WIDTH_INCREASE_RATE': 3.2721996366350745, 'TARGET_BEAM_WIDTH_HALF_PROGRES_RATE': 0.5465521182573296, 'MAX_BEAM_WIDTH': 807}. Best is trial 176 with value: 1002301718.0.\u001b[0m\n"
     ]
    },
    {
     "name": "stdout",
     "output_type": "stream",
     "text": [
      "callback ok\n",
      "index_parallel=10\n",
      "sed -i 10_main.cpp -e 's/^constexpr int hash_table_size = .*;         \\/\\/ OPTIMIZE \\[9, 18\\]$/constexpr int hash_table_size = 9;         \\/\\/ OPTIMIZE [9, 18]/' -e 's/^constexpr double K_START = .*;  \\/\\/ OPTIMIZE \\[0\\.04, 0\\.2\\] LOG$/constexpr double K_START = 0.06418922391848435;  \\/\\/ OPTIMIZE [0.04, 0.2] LOG/' -e 's/^constexpr double K_END = .*;   \\/\\/ OPTIMIZE \\[0\\.03, 0\\.1\\] LOG$/constexpr double K_END = 0.05854422048175255;   \\/\\/ OPTIMIZE [0.03, 0.1] LOG/' -e 's/^constexpr double K_H = .*;      \\/\\/ OPTIMIZE \\[0\\.001, 0\\.999\\]$/constexpr double K_H = 0.6961060117955198;      \\/\\/ OPTIMIZE [0.001, 0.999]/' -e 's/^constexpr short PURCHASE_TURN_LIMIT = .*;  \\/\\/ OPTIMIZE \\[790, 870\\]$/constexpr short PURCHASE_TURN_LIMIT = 842;  \\/\\/ OPTIMIZE [790, 870]/' -e 's/^constexpr int ROUGH_HASH = .*;      \\/\\/ OPTIMIZE {0, 0b00000001, 0b00010001, 0b00010011, 0b00110011}$/constexpr int ROUGH_HASH = 0;      \\/\\/ OPTIMIZE {0, 0b00000001, 0b00010001, 0b00010011, 0b00110011}/' -e 's/^constexpr double TARGET_BEAM_WIDTH_INCREASE_RATE = .*;      \\/\\/ OPTIMIZE \\[0\\.25, 4\\.0\\] LOG$/constexpr double TARGET_BEAM_WIDTH_INCREASE_RATE = 3.9548895621257145;      \\/\\/ OPTIMIZE [0.25, 4.0] LOG/' -e 's/^constexpr double TARGET_BEAM_WIDTH_HALF_PROGRES_RATE = .*;  \\/\\/ OPTIMIZE \\[0\\.02, 0\\.98\\]$/constexpr double TARGET_BEAM_WIDTH_HALF_PROGRES_RATE = 0.5204976543802208;  \\/\\/ OPTIMIZE [0.02, 0.98]/' -e 's/^constexpr auto MAX_BEAM_WIDTH = .*;                        \\/\\/ OPTIMIZE \\[400, 4000\\] LOG$/constexpr auto MAX_BEAM_WIDTH = 863;                        \\/\\/ OPTIMIZE [400, 4000] LOG/'\n",
      "g++ 10_main.cpp -std=gnu++17 -O2 -DONLINE_JUDGE -o 10_main.cpp.out 2> /dev/null\n"
     ]
    },
    {
     "name": "stderr",
     "output_type": "stream",
     "text": [
      "\u001b[32m[I 2021-09-11 03:24:02,095]\u001b[0m Trial 187 finished with value: 998185243.0 and parameters: {'hash_table_size': 9, 'K_START': 0.06947236384194933, 'K_END': 0.05424952674723591, 'K_H': 0.7171206145643699, 'PURCHASE_TURN_LIMIT': 843, 'ROUGH_HASH': '0', 'TARGET_BEAM_WIDTH_INCREASE_RATE': 3.8573283864899914, 'TARGET_BEAM_WIDTH_HALF_PROGRES_RATE': 0.5589689127536719, 'MAX_BEAM_WIDTH': 880}. Best is trial 176 with value: 1002301718.0.\u001b[0m\n"
     ]
    },
    {
     "name": "stdout",
     "output_type": "stream",
     "text": [
      "callback ok\n",
      "index_parallel=11\n",
      "sed -i 11_main.cpp -e 's/^constexpr int hash_table_size = .*;         \\/\\/ OPTIMIZE \\[9, 18\\]$/constexpr int hash_table_size = 17;         \\/\\/ OPTIMIZE [9, 18]/' -e 's/^constexpr double K_START = .*;  \\/\\/ OPTIMIZE \\[0\\.04, 0\\.2\\] LOG$/constexpr double K_START = 0.07017625255118046;  \\/\\/ OPTIMIZE [0.04, 0.2] LOG/' -e 's/^constexpr double K_END = .*;   \\/\\/ OPTIMIZE \\[0\\.03, 0\\.1\\] LOG$/constexpr double K_END = 0.05435862187852602;   \\/\\/ OPTIMIZE [0.03, 0.1] LOG/' -e 's/^constexpr double K_H = .*;      \\/\\/ OPTIMIZE \\[0\\.001, 0\\.999\\]$/constexpr double K_H = 0.7227895546454103;      \\/\\/ OPTIMIZE [0.001, 0.999]/' -e 's/^constexpr short PURCHASE_TURN_LIMIT = .*;  \\/\\/ OPTIMIZE \\[790, 870\\]$/constexpr short PURCHASE_TURN_LIMIT = 842;  \\/\\/ OPTIMIZE [790, 870]/' -e 's/^constexpr int ROUGH_HASH = .*;      \\/\\/ OPTIMIZE {0, 0b00000001, 0b00010001, 0b00010011, 0b00110011}$/constexpr int ROUGH_HASH = 0;      \\/\\/ OPTIMIZE {0, 0b00000001, 0b00010001, 0b00010011, 0b00110011}/' -e 's/^constexpr double TARGET_BEAM_WIDTH_INCREASE_RATE = .*;      \\/\\/ OPTIMIZE \\[0\\.25, 4\\.0\\] LOG$/constexpr double TARGET_BEAM_WIDTH_INCREASE_RATE = 3.836092998992808;      \\/\\/ OPTIMIZE [0.25, 4.0] LOG/' -e 's/^constexpr double TARGET_BEAM_WIDTH_HALF_PROGRES_RATE = .*;  \\/\\/ OPTIMIZE \\[0\\.02, 0\\.98\\]$/constexpr double TARGET_BEAM_WIDTH_HALF_PROGRES_RATE = 0.5149355334130964;  \\/\\/ OPTIMIZE [0.02, 0.98]/' -e 's/^constexpr auto MAX_BEAM_WIDTH = .*;                        \\/\\/ OPTIMIZE \\[400, 4000\\] LOG$/constexpr auto MAX_BEAM_WIDTH = 881;                        \\/\\/ OPTIMIZE [400, 4000] LOG/'\n",
      "g++ 11_main.cpp -std=gnu++17 -O2 -DONLINE_JUDGE -o 11_main.cpp.out 2> /dev/null\n"
     ]
    },
    {
     "name": "stderr",
     "output_type": "stream",
     "text": [
      "\u001b[32m[I 2021-09-11 03:25:14,649]\u001b[0m Trial 188 finished with value: 998691247.0 and parameters: {'hash_table_size': 9, 'K_START': 0.07032242091019246, 'K_END': 0.05848203319173358, 'K_H': 0.7260498402445015, 'PURCHASE_TURN_LIMIT': 842, 'ROUGH_HASH': '0', 'TARGET_BEAM_WIDTH_INCREASE_RATE': 3.792165991001185, 'TARGET_BEAM_WIDTH_HALF_PROGRES_RATE': 0.56122767282982, 'MAX_BEAM_WIDTH': 880}. Best is trial 176 with value: 1002301718.0.\u001b[0m\n"
     ]
    },
    {
     "name": "stdout",
     "output_type": "stream",
     "text": [
      "callback ok\n",
      "index_parallel=0\n",
      "sed -i 0_main.cpp -e 's/^constexpr int hash_table_size = .*;         \\/\\/ OPTIMIZE \\[9, 18\\]$/constexpr int hash_table_size = 9;         \\/\\/ OPTIMIZE [9, 18]/' -e 's/^constexpr double K_START = .*;  \\/\\/ OPTIMIZE \\[0\\.04, 0\\.2\\] LOG$/constexpr double K_START = 0.06668689910610792;  \\/\\/ OPTIMIZE [0.04, 0.2] LOG/' -e 's/^constexpr double K_END = .*;   \\/\\/ OPTIMIZE \\[0\\.03, 0\\.1\\] LOG$/constexpr double K_END = 0.05547695123575339;   \\/\\/ OPTIMIZE [0.03, 0.1] LOG/' -e 's/^constexpr double K_H = .*;      \\/\\/ OPTIMIZE \\[0\\.001, 0\\.999\\]$/constexpr double K_H = 0.7077623257256527;      \\/\\/ OPTIMIZE [0.001, 0.999]/' -e 's/^constexpr short PURCHASE_TURN_LIMIT = .*;  \\/\\/ OPTIMIZE \\[790, 870\\]$/constexpr short PURCHASE_TURN_LIMIT = 843;  \\/\\/ OPTIMIZE [790, 870]/' -e 's/^constexpr int ROUGH_HASH = .*;      \\/\\/ OPTIMIZE {0, 0b00000001, 0b00010001, 0b00010011, 0b00110011}$/constexpr int ROUGH_HASH = 0;      \\/\\/ OPTIMIZE {0, 0b00000001, 0b00010001, 0b00010011, 0b00110011}/' -e 's/^constexpr double TARGET_BEAM_WIDTH_INCREASE_RATE = .*;      \\/\\/ OPTIMIZE \\[0\\.25, 4\\.0\\] LOG$/constexpr double TARGET_BEAM_WIDTH_INCREASE_RATE = 3.960035755442573;      \\/\\/ OPTIMIZE [0.25, 4.0] LOG/' -e 's/^constexpr double TARGET_BEAM_WIDTH_HALF_PROGRES_RATE = .*;  \\/\\/ OPTIMIZE \\[0\\.02, 0\\.98\\]$/constexpr double TARGET_BEAM_WIDTH_HALF_PROGRES_RATE = 0.5184537446042153;  \\/\\/ OPTIMIZE [0.02, 0.98]/' -e 's/^constexpr auto MAX_BEAM_WIDTH = .*;                        \\/\\/ OPTIMIZE \\[400, 4000\\] LOG$/constexpr auto MAX_BEAM_WIDTH = 883;                        \\/\\/ OPTIMIZE [400, 4000] LOG/'\n",
      "g++ 0_main.cpp -std=gnu++17 -O2 -DONLINE_JUDGE -o 0_main.cpp.out 2> /dev/null\n"
     ]
    },
    {
     "name": "stderr",
     "output_type": "stream",
     "text": [
      "\u001b[32m[I 2021-09-11 03:25:27,620]\u001b[0m Trial 189 finished with value: 994774205.0 and parameters: {'hash_table_size': 9, 'K_START': 0.070642075683297, 'K_END': 0.05442384660220219, 'K_H': 0.6861346368708253, 'PURCHASE_TURN_LIMIT': 843, 'ROUGH_HASH': '0', 'TARGET_BEAM_WIDTH_INCREASE_RATE': 3.9446529353452524, 'TARGET_BEAM_WIDTH_HALF_PROGRES_RATE': 0.9776460535364667, 'MAX_BEAM_WIDTH': 858}. Best is trial 176 with value: 1002301718.0.\u001b[0m\n"
     ]
    },
    {
     "name": "stdout",
     "output_type": "stream",
     "text": [
      "callback ok\n",
      "index_parallel=1\n",
      "sed -i 1_main.cpp -e 's/^constexpr int hash_table_size = .*;         \\/\\/ OPTIMIZE \\[9, 18\\]$/constexpr int hash_table_size = 9;         \\/\\/ OPTIMIZE [9, 18]/' -e 's/^constexpr double K_START = .*;  \\/\\/ OPTIMIZE \\[0\\.04, 0\\.2\\] LOG$/constexpr double K_START = 0.06565369470994319;  \\/\\/ OPTIMIZE [0.04, 0.2] LOG/' -e 's/^constexpr double K_END = .*;   \\/\\/ OPTIMIZE \\[0\\.03, 0\\.1\\] LOG$/constexpr double K_END = 0.05429208533830118;   \\/\\/ OPTIMIZE [0.03, 0.1] LOG/' -e 's/^constexpr double K_H = .*;      \\/\\/ OPTIMIZE \\[0\\.001, 0\\.999\\]$/constexpr double K_H = 0.7088643874124206;      \\/\\/ OPTIMIZE [0.001, 0.999]/' -e 's/^constexpr short PURCHASE_TURN_LIMIT = .*;  \\/\\/ OPTIMIZE \\[790, 870\\]$/constexpr short PURCHASE_TURN_LIMIT = 846;  \\/\\/ OPTIMIZE [790, 870]/' -e 's/^constexpr int ROUGH_HASH = .*;      \\/\\/ OPTIMIZE {0, 0b00000001, 0b00010001, 0b00010011, 0b00110011}$/constexpr int ROUGH_HASH = 0;      \\/\\/ OPTIMIZE {0, 0b00000001, 0b00010001, 0b00010011, 0b00110011}/' -e 's/^constexpr double TARGET_BEAM_WIDTH_INCREASE_RATE = .*;      \\/\\/ OPTIMIZE \\[0\\.25, 4\\.0\\] LOG$/constexpr double TARGET_BEAM_WIDTH_INCREASE_RATE = 3.911814284270591;      \\/\\/ OPTIMIZE [0.25, 4.0] LOG/' -e 's/^constexpr double TARGET_BEAM_WIDTH_HALF_PROGRES_RATE = .*;  \\/\\/ OPTIMIZE \\[0\\.02, 0\\.98\\]$/constexpr double TARGET_BEAM_WIDTH_HALF_PROGRES_RATE = 0.5176935900368728;  \\/\\/ OPTIMIZE [0.02, 0.98]/' -e 's/^constexpr auto MAX_BEAM_WIDTH = .*;                        \\/\\/ OPTIMIZE \\[400, 4000\\] LOG$/constexpr auto MAX_BEAM_WIDTH = 891;                        \\/\\/ OPTIMIZE [400, 4000] LOG/'\n",
      "g++ 1_main.cpp -std=gnu++17 -O2 -DONLINE_JUDGE -o 1_main.cpp.out 2> /dev/null\n"
     ]
    },
    {
     "name": "stderr",
     "output_type": "stream",
     "text": [
      "\u001b[32m[I 2021-09-11 03:25:36,875]\u001b[0m Trial 190 finished with value: 997551229.0 and parameters: {'hash_table_size': 9, 'K_START': 0.06418922391848435, 'K_END': 0.05854422048175255, 'K_H': 0.6961060117955198, 'PURCHASE_TURN_LIMIT': 842, 'ROUGH_HASH': '0', 'TARGET_BEAM_WIDTH_INCREASE_RATE': 3.9548895621257145, 'TARGET_BEAM_WIDTH_HALF_PROGRES_RATE': 0.5204976543802208, 'MAX_BEAM_WIDTH': 863}. Best is trial 176 with value: 1002301718.0.\u001b[0m\n"
     ]
    },
    {
     "name": "stdout",
     "output_type": "stream",
     "text": [
      "callback ok\n",
      "index_parallel=2\n",
      "sed -i 2_main.cpp -e 's/^constexpr int hash_table_size = .*;         \\/\\/ OPTIMIZE \\[9, 18\\]$/constexpr int hash_table_size = 17;         \\/\\/ OPTIMIZE [9, 18]/' -e 's/^constexpr double K_START = .*;  \\/\\/ OPTIMIZE \\[0\\.04, 0\\.2\\] LOG$/constexpr double K_START = 0.06665982549702036;  \\/\\/ OPTIMIZE [0.04, 0.2] LOG/' -e 's/^constexpr double K_END = .*;   \\/\\/ OPTIMIZE \\[0\\.03, 0\\.1\\] LOG$/constexpr double K_END = 0.05417860646263118;   \\/\\/ OPTIMIZE [0.03, 0.1] LOG/' -e 's/^constexpr double K_H = .*;      \\/\\/ OPTIMIZE \\[0\\.001, 0\\.999\\]$/constexpr double K_H = 0.7190168800485159;      \\/\\/ OPTIMIZE [0.001, 0.999]/' -e 's/^constexpr short PURCHASE_TURN_LIMIT = .*;  \\/\\/ OPTIMIZE \\[790, 870\\]$/constexpr short PURCHASE_TURN_LIMIT = 846;  \\/\\/ OPTIMIZE [790, 870]/' -e 's/^constexpr int ROUGH_HASH = .*;      \\/\\/ OPTIMIZE {0, 0b00000001, 0b00010001, 0b00010011, 0b00110011}$/constexpr int ROUGH_HASH = 0;      \\/\\/ OPTIMIZE {0, 0b00000001, 0b00010001, 0b00010011, 0b00110011}/' -e 's/^constexpr double TARGET_BEAM_WIDTH_INCREASE_RATE = .*;      \\/\\/ OPTIMIZE \\[0\\.25, 4\\.0\\] LOG$/constexpr double TARGET_BEAM_WIDTH_INCREASE_RATE = 3.9935530604758713;      \\/\\/ OPTIMIZE [0.25, 4.0] LOG/' -e 's/^constexpr double TARGET_BEAM_WIDTH_HALF_PROGRES_RATE = .*;  \\/\\/ OPTIMIZE \\[0\\.02, 0\\.98\\]$/constexpr double TARGET_BEAM_WIDTH_HALF_PROGRES_RATE = 0.552750826642834;  \\/\\/ OPTIMIZE [0.02, 0.98]/' -e 's/^constexpr auto MAX_BEAM_WIDTH = .*;                        \\/\\/ OPTIMIZE \\[400, 4000\\] LOG$/constexpr auto MAX_BEAM_WIDTH = 892;                        \\/\\/ OPTIMIZE [400, 4000] LOG/'\n",
      "g++ 2_main.cpp -std=gnu++17 -O2 -DONLINE_JUDGE -o 2_main.cpp.out 2> /dev/null\n"
     ]
    },
    {
     "name": "stderr",
     "output_type": "stream",
     "text": [
      "\u001b[32m[I 2021-09-11 03:25:48,310]\u001b[0m Trial 191 finished with value: 989084209.0 and parameters: {'hash_table_size': 17, 'K_START': 0.07017625255118046, 'K_END': 0.05435862187852602, 'K_H': 0.7227895546454103, 'PURCHASE_TURN_LIMIT': 842, 'ROUGH_HASH': '0', 'TARGET_BEAM_WIDTH_INCREASE_RATE': 3.836092998992808, 'TARGET_BEAM_WIDTH_HALF_PROGRES_RATE': 0.5149355334130964, 'MAX_BEAM_WIDTH': 881}. Best is trial 176 with value: 1002301718.0.\u001b[0m\n"
     ]
    },
    {
     "name": "stdout",
     "output_type": "stream",
     "text": [
      "callback ok\n",
      "index_parallel=3\n",
      "sed -i 3_main.cpp -e 's/^constexpr int hash_table_size = .*;         \\/\\/ OPTIMIZE \\[9, 18\\]$/constexpr int hash_table_size = 9;         \\/\\/ OPTIMIZE [9, 18]/' -e 's/^constexpr double K_START = .*;  \\/\\/ OPTIMIZE \\[0\\.04, 0\\.2\\] LOG$/constexpr double K_START = 0.06588509694316604;  \\/\\/ OPTIMIZE [0.04, 0.2] LOG/' -e 's/^constexpr double K_END = .*;   \\/\\/ OPTIMIZE \\[0\\.03, 0\\.1\\] LOG$/constexpr double K_END = 0.057738813181592324;   \\/\\/ OPTIMIZE [0.03, 0.1] LOG/' -e 's/^constexpr double K_H = .*;      \\/\\/ OPTIMIZE \\[0\\.001, 0\\.999\\]$/constexpr double K_H = 0.7127757716696472;      \\/\\/ OPTIMIZE [0.001, 0.999]/' -e 's/^constexpr short PURCHASE_TURN_LIMIT = .*;  \\/\\/ OPTIMIZE \\[790, 870\\]$/constexpr short PURCHASE_TURN_LIMIT = 847;  \\/\\/ OPTIMIZE [790, 870]/' -e 's/^constexpr int ROUGH_HASH = .*;      \\/\\/ OPTIMIZE {0, 0b00000001, 0b00010001, 0b00010011, 0b00110011}$/constexpr int ROUGH_HASH = 0;      \\/\\/ OPTIMIZE {0, 0b00000001, 0b00010001, 0b00010011, 0b00110011}/' -e 's/^constexpr double TARGET_BEAM_WIDTH_INCREASE_RATE = .*;      \\/\\/ OPTIMIZE \\[0\\.25, 4\\.0\\] LOG$/constexpr double TARGET_BEAM_WIDTH_INCREASE_RATE = 3.739068813604073;      \\/\\/ OPTIMIZE [0.25, 4.0] LOG/' -e 's/^constexpr double TARGET_BEAM_WIDTH_HALF_PROGRES_RATE = .*;  \\/\\/ OPTIMIZE \\[0\\.02, 0\\.98\\]$/constexpr double TARGET_BEAM_WIDTH_HALF_PROGRES_RATE = 0.5561596800319144;  \\/\\/ OPTIMIZE [0.02, 0.98]/' -e 's/^constexpr auto MAX_BEAM_WIDTH = .*;                        \\/\\/ OPTIMIZE \\[400, 4000\\] LOG$/constexpr auto MAX_BEAM_WIDTH = 807;                        \\/\\/ OPTIMIZE [400, 4000] LOG/'\n",
      "g++ 3_main.cpp -std=gnu++17 -O2 -DONLINE_JUDGE -o 3_main.cpp.out 2> /dev/null\n"
     ]
    },
    {
     "name": "stderr",
     "output_type": "stream",
     "text": [
      "\u001b[32m[I 2021-09-11 03:27:00,871]\u001b[0m Trial 192 finished with value: 998856547.0 and parameters: {'hash_table_size': 9, 'K_START': 0.06668689910610792, 'K_END': 0.05547695123575339, 'K_H': 0.7077623257256527, 'PURCHASE_TURN_LIMIT': 843, 'ROUGH_HASH': '0', 'TARGET_BEAM_WIDTH_INCREASE_RATE': 3.960035755442573, 'TARGET_BEAM_WIDTH_HALF_PROGRES_RATE': 0.5184537446042153, 'MAX_BEAM_WIDTH': 883}. Best is trial 176 with value: 1002301718.0.\u001b[0m\n"
     ]
    },
    {
     "name": "stdout",
     "output_type": "stream",
     "text": [
      "callback ok\n",
      "index_parallel=4\n",
      "sed -i 4_main.cpp -e 's/^constexpr int hash_table_size = .*;         \\/\\/ OPTIMIZE \\[9, 18\\]$/constexpr int hash_table_size = 9;         \\/\\/ OPTIMIZE [9, 18]/' -e 's/^constexpr double K_START = .*;  \\/\\/ OPTIMIZE \\[0\\.04, 0\\.2\\] LOG$/constexpr double K_START = 0.0665467796986724;  \\/\\/ OPTIMIZE [0.04, 0.2] LOG/' -e 's/^constexpr double K_END = .*;   \\/\\/ OPTIMIZE \\[0\\.03, 0\\.1\\] LOG$/constexpr double K_END = 0.05271877894774672;   \\/\\/ OPTIMIZE [0.03, 0.1] LOG/' -e 's/^constexpr double K_H = .*;      \\/\\/ OPTIMIZE \\[0\\.001, 0\\.999\\]$/constexpr double K_H = 0.7138538177896809;      \\/\\/ OPTIMIZE [0.001, 0.999]/' -e 's/^constexpr short PURCHASE_TURN_LIMIT = .*;  \\/\\/ OPTIMIZE \\[790, 870\\]$/constexpr short PURCHASE_TURN_LIMIT = 845;  \\/\\/ OPTIMIZE [790, 870]/' -e 's/^constexpr int ROUGH_HASH = .*;      \\/\\/ OPTIMIZE {0, 0b00000001, 0b00010001, 0b00010011, 0b00110011}$/constexpr int ROUGH_HASH = 0;      \\/\\/ OPTIMIZE {0, 0b00000001, 0b00010001, 0b00010011, 0b00110011}/' -e 's/^constexpr double TARGET_BEAM_WIDTH_INCREASE_RATE = .*;      \\/\\/ OPTIMIZE \\[0\\.25, 4\\.0\\] LOG$/constexpr double TARGET_BEAM_WIDTH_INCREASE_RATE = 3.9997933584047454;      \\/\\/ OPTIMIZE [0.25, 4.0] LOG/' -e 's/^constexpr double TARGET_BEAM_WIDTH_HALF_PROGRES_RATE = .*;  \\/\\/ OPTIMIZE \\[0\\.02, 0\\.98\\]$/constexpr double TARGET_BEAM_WIDTH_HALF_PROGRES_RATE = 0.561460949808755;  \\/\\/ OPTIMIZE [0.02, 0.98]/' -e 's/^constexpr auto MAX_BEAM_WIDTH = .*;                        \\/\\/ OPTIMIZE \\[400, 4000\\] LOG$/constexpr auto MAX_BEAM_WIDTH = 920;                        \\/\\/ OPTIMIZE [400, 4000] LOG/'\n",
      "g++ 4_main.cpp -std=gnu++17 -O2 -DONLINE_JUDGE -o 4_main.cpp.out 2> /dev/null\n"
     ]
    },
    {
     "name": "stderr",
     "output_type": "stream",
     "text": [
      "\u001b[32m[I 2021-09-11 03:27:13,467]\u001b[0m Trial 193 finished with value: 996533920.0 and parameters: {'hash_table_size': 9, 'K_START': 0.06565369470994319, 'K_END': 0.05429208533830118, 'K_H': 0.7088643874124206, 'PURCHASE_TURN_LIMIT': 846, 'ROUGH_HASH': '0', 'TARGET_BEAM_WIDTH_INCREASE_RATE': 3.911814284270591, 'TARGET_BEAM_WIDTH_HALF_PROGRES_RATE': 0.5176935900368728, 'MAX_BEAM_WIDTH': 891}. Best is trial 176 with value: 1002301718.0.\u001b[0m\n"
     ]
    },
    {
     "name": "stdout",
     "output_type": "stream",
     "text": [
      "callback ok\n",
      "index_parallel=5\n",
      "sed -i 5_main.cpp -e 's/^constexpr int hash_table_size = .*;         \\/\\/ OPTIMIZE \\[9, 18\\]$/constexpr int hash_table_size = 9;         \\/\\/ OPTIMIZE [9, 18]/' -e 's/^constexpr double K_START = .*;  \\/\\/ OPTIMIZE \\[0\\.04, 0\\.2\\] LOG$/constexpr double K_START = 0.06013441396968959;  \\/\\/ OPTIMIZE [0.04, 0.2] LOG/' -e 's/^constexpr double K_END = .*;   \\/\\/ OPTIMIZE \\[0\\.03, 0\\.1\\] LOG$/constexpr double K_END = 0.05247031119224862;   \\/\\/ OPTIMIZE [0.03, 0.1] LOG/' -e 's/^constexpr double K_H = .*;      \\/\\/ OPTIMIZE \\[0\\.001, 0\\.999\\]$/constexpr double K_H = 0.7410239335509684;      \\/\\/ OPTIMIZE [0.001, 0.999]/' -e 's/^constexpr short PURCHASE_TURN_LIMIT = .*;  \\/\\/ OPTIMIZE \\[790, 870\\]$/constexpr short PURCHASE_TURN_LIMIT = 841;  \\/\\/ OPTIMIZE [790, 870]/' -e 's/^constexpr int ROUGH_HASH = .*;      \\/\\/ OPTIMIZE {0, 0b00000001, 0b00010001, 0b00010011, 0b00110011}$/constexpr int ROUGH_HASH = 0;      \\/\\/ OPTIMIZE {0, 0b00000001, 0b00010001, 0b00010011, 0b00110011}/' -e 's/^constexpr double TARGET_BEAM_WIDTH_INCREASE_RATE = .*;      \\/\\/ OPTIMIZE \\[0\\.25, 4\\.0\\] LOG$/constexpr double TARGET_BEAM_WIDTH_INCREASE_RATE = 3.5179207829034014;      \\/\\/ OPTIMIZE [0.25, 4.0] LOG/' -e 's/^constexpr double TARGET_BEAM_WIDTH_HALF_PROGRES_RATE = .*;  \\/\\/ OPTIMIZE \\[0\\.02, 0\\.98\\]$/constexpr double TARGET_BEAM_WIDTH_HALF_PROGRES_RATE = 0.5667917394346816;  \\/\\/ OPTIMIZE [0.02, 0.98]/' -e 's/^constexpr auto MAX_BEAM_WIDTH = .*;                        \\/\\/ OPTIMIZE \\[400, 4000\\] LOG$/constexpr auto MAX_BEAM_WIDTH = 918;                        \\/\\/ OPTIMIZE [400, 4000] LOG/'\n",
      "g++ 5_main.cpp -std=gnu++17 -O2 -DONLINE_JUDGE -o 5_main.cpp.out 2> /dev/null\n"
     ]
    },
    {
     "name": "stderr",
     "output_type": "stream",
     "text": [
      "\u001b[32m[I 2021-09-11 03:27:22,425]\u001b[0m Trial 194 finished with value: 985693861.0 and parameters: {'hash_table_size': 17, 'K_START': 0.06665982549702036, 'K_END': 0.05417860646263118, 'K_H': 0.7190168800485159, 'PURCHASE_TURN_LIMIT': 846, 'ROUGH_HASH': '0', 'TARGET_BEAM_WIDTH_INCREASE_RATE': 3.9935530604758713, 'TARGET_BEAM_WIDTH_HALF_PROGRES_RATE': 0.552750826642834, 'MAX_BEAM_WIDTH': 892}. Best is trial 176 with value: 1002301718.0.\u001b[0m\n"
     ]
    },
    {
     "name": "stdout",
     "output_type": "stream",
     "text": [
      "callback ok\n",
      "index_parallel=6\n",
      "sed -i 6_main.cpp -e 's/^constexpr int hash_table_size = .*;         \\/\\/ OPTIMIZE \\[9, 18\\]$/constexpr int hash_table_size = 9;         \\/\\/ OPTIMIZE [9, 18]/' -e 's/^constexpr double K_START = .*;  \\/\\/ OPTIMIZE \\[0\\.04, 0\\.2\\] LOG$/constexpr double K_START = 0.06100933846647188;  \\/\\/ OPTIMIZE [0.04, 0.2] LOG/' -e 's/^constexpr double K_END = .*;   \\/\\/ OPTIMIZE \\[0\\.03, 0\\.1\\] LOG$/constexpr double K_END = 0.05727488728209249;   \\/\\/ OPTIMIZE [0.03, 0.1] LOG/' -e 's/^constexpr double K_H = .*;      \\/\\/ OPTIMIZE \\[0\\.001, 0\\.999\\]$/constexpr double K_H = 0.7813539250154566;      \\/\\/ OPTIMIZE [0.001, 0.999]/' -e 's/^constexpr short PURCHASE_TURN_LIMIT = .*;  \\/\\/ OPTIMIZE \\[790, 870\\]$/constexpr short PURCHASE_TURN_LIMIT = 850;  \\/\\/ OPTIMIZE [790, 870]/' -e 's/^constexpr int ROUGH_HASH = .*;      \\/\\/ OPTIMIZE {0, 0b00000001, 0b00010001, 0b00010011, 0b00110011}$/constexpr int ROUGH_HASH = 0;      \\/\\/ OPTIMIZE {0, 0b00000001, 0b00010001, 0b00010011, 0b00110011}/' -e 's/^constexpr double TARGET_BEAM_WIDTH_INCREASE_RATE = .*;      \\/\\/ OPTIMIZE \\[0\\.25, 4\\.0\\] LOG$/constexpr double TARGET_BEAM_WIDTH_INCREASE_RATE = 3.6759740587022836;      \\/\\/ OPTIMIZE [0.25, 4.0] LOG/' -e 's/^constexpr double TARGET_BEAM_WIDTH_HALF_PROGRES_RATE = .*;  \\/\\/ OPTIMIZE \\[0\\.02, 0\\.98\\]$/constexpr double TARGET_BEAM_WIDTH_HALF_PROGRES_RATE = 0.567685103289723;  \\/\\/ OPTIMIZE [0.02, 0.98]/' -e 's/^constexpr auto MAX_BEAM_WIDTH = .*;                        \\/\\/ OPTIMIZE \\[400, 4000\\] LOG$/constexpr auto MAX_BEAM_WIDTH = 931;                        \\/\\/ OPTIMIZE [400, 4000] LOG/'\n",
      "g++ 6_main.cpp -std=gnu++17 -O2 -DONLINE_JUDGE -o 6_main.cpp.out 2> /dev/null\n"
     ]
    },
    {
     "name": "stderr",
     "output_type": "stream",
     "text": [
      "\u001b[32m[I 2021-09-11 03:27:34,347]\u001b[0m Trial 195 finished with value: 996503831.0 and parameters: {'hash_table_size': 9, 'K_START': 0.06588509694316604, 'K_END': 0.057738813181592324, 'K_H': 0.7127757716696472, 'PURCHASE_TURN_LIMIT': 847, 'ROUGH_HASH': '0', 'TARGET_BEAM_WIDTH_INCREASE_RATE': 3.739068813604073, 'TARGET_BEAM_WIDTH_HALF_PROGRES_RATE': 0.5561596800319144, 'MAX_BEAM_WIDTH': 807}. Best is trial 176 with value: 1002301718.0.\u001b[0m\n"
     ]
    },
    {
     "name": "stdout",
     "output_type": "stream",
     "text": [
      "callback ok\n",
      "index_parallel=7\n",
      "sed -i 7_main.cpp -e 's/^constexpr int hash_table_size = .*;         \\/\\/ OPTIMIZE \\[9, 18\\]$/constexpr int hash_table_size = 9;         \\/\\/ OPTIMIZE [9, 18]/' -e 's/^constexpr double K_START = .*;  \\/\\/ OPTIMIZE \\[0\\.04, 0\\.2\\] LOG$/constexpr double K_START = 0.06012717139410203;  \\/\\/ OPTIMIZE [0.04, 0.2] LOG/' -e 's/^constexpr double K_END = .*;   \\/\\/ OPTIMIZE \\[0\\.03, 0\\.1\\] LOG$/constexpr double K_END = 0.05596873521853021;   \\/\\/ OPTIMIZE [0.03, 0.1] LOG/' -e 's/^constexpr double K_H = .*;      \\/\\/ OPTIMIZE \\[0\\.001, 0\\.999\\]$/constexpr double K_H = 0.7527697651222968;      \\/\\/ OPTIMIZE [0.001, 0.999]/' -e 's/^constexpr short PURCHASE_TURN_LIMIT = .*;  \\/\\/ OPTIMIZE \\[790, 870\\]$/constexpr short PURCHASE_TURN_LIMIT = 844;  \\/\\/ OPTIMIZE [790, 870]/' -e 's/^constexpr int ROUGH_HASH = .*;      \\/\\/ OPTIMIZE {0, 0b00000001, 0b00010001, 0b00010011, 0b00110011}$/constexpr int ROUGH_HASH = 0;      \\/\\/ OPTIMIZE {0, 0b00000001, 0b00010001, 0b00010011, 0b00110011}/' -e 's/^constexpr double TARGET_BEAM_WIDTH_INCREASE_RATE = .*;      \\/\\/ OPTIMIZE \\[0\\.25, 4\\.0\\] LOG$/constexpr double TARGET_BEAM_WIDTH_INCREASE_RATE = 3.592978786745183;      \\/\\/ OPTIMIZE [0.25, 4.0] LOG/' -e 's/^constexpr double TARGET_BEAM_WIDTH_HALF_PROGRES_RATE = .*;  \\/\\/ OPTIMIZE \\[0\\.02, 0\\.98\\]$/constexpr double TARGET_BEAM_WIDTH_HALF_PROGRES_RATE = 0.5752545304843563;  \\/\\/ OPTIMIZE [0.02, 0.98]/' -e 's/^constexpr auto MAX_BEAM_WIDTH = .*;                        \\/\\/ OPTIMIZE \\[400, 4000\\] LOG$/constexpr auto MAX_BEAM_WIDTH = 916;                        \\/\\/ OPTIMIZE [400, 4000] LOG/'\n",
      "g++ 7_main.cpp -std=gnu++17 -O2 -DONLINE_JUDGE -o 7_main.cpp.out 2> /dev/null\n"
     ]
    },
    {
     "name": "stderr",
     "output_type": "stream",
     "text": [
      "\u001b[32m[I 2021-09-11 03:28:47,182]\u001b[0m Trial 196 finished with value: 998349374.0 and parameters: {'hash_table_size': 9, 'K_START': 0.0665467796986724, 'K_END': 0.05271877894774672, 'K_H': 0.7138538177896809, 'PURCHASE_TURN_LIMIT': 845, 'ROUGH_HASH': '0', 'TARGET_BEAM_WIDTH_INCREASE_RATE': 3.9997933584047454, 'TARGET_BEAM_WIDTH_HALF_PROGRES_RATE': 0.561460949808755, 'MAX_BEAM_WIDTH': 920}. Best is trial 176 with value: 1002301718.0.\u001b[0m\n"
     ]
    },
    {
     "name": "stdout",
     "output_type": "stream",
     "text": [
      "callback ok\n",
      "index_parallel=8\n",
      "sed -i 8_main.cpp -e 's/^constexpr int hash_table_size = .*;         \\/\\/ OPTIMIZE \\[9, 18\\]$/constexpr int hash_table_size = 9;         \\/\\/ OPTIMIZE [9, 18]/' -e 's/^constexpr double K_START = .*;  \\/\\/ OPTIMIZE \\[0\\.04, 0\\.2\\] LOG$/constexpr double K_START = 0.07460989854534548;  \\/\\/ OPTIMIZE [0.04, 0.2] LOG/' -e 's/^constexpr double K_END = .*;   \\/\\/ OPTIMIZE \\[0\\.03, 0\\.1\\] LOG$/constexpr double K_END = 0.052964908256743826;   \\/\\/ OPTIMIZE [0.03, 0.1] LOG/' -e 's/^constexpr double K_H = .*;      \\/\\/ OPTIMIZE \\[0\\.001, 0\\.999\\]$/constexpr double K_H = 0.7873618126606552;      \\/\\/ OPTIMIZE [0.001, 0.999]/' -e 's/^constexpr short PURCHASE_TURN_LIMIT = .*;  \\/\\/ OPTIMIZE \\[790, 870\\]$/constexpr short PURCHASE_TURN_LIMIT = 843;  \\/\\/ OPTIMIZE [790, 870]/' -e 's/^constexpr int ROUGH_HASH = .*;      \\/\\/ OPTIMIZE {0, 0b00000001, 0b00010001, 0b00010011, 0b00110011}$/constexpr int ROUGH_HASH = 0;      \\/\\/ OPTIMIZE {0, 0b00000001, 0b00010001, 0b00010011, 0b00110011}/' -e 's/^constexpr double TARGET_BEAM_WIDTH_INCREASE_RATE = .*;      \\/\\/ OPTIMIZE \\[0\\.25, 4\\.0\\] LOG$/constexpr double TARGET_BEAM_WIDTH_INCREASE_RATE = 3.55213429243863;      \\/\\/ OPTIMIZE [0.25, 4.0] LOG/' -e 's/^constexpr double TARGET_BEAM_WIDTH_HALF_PROGRES_RATE = .*;  \\/\\/ OPTIMIZE \\[0\\.02, 0\\.98\\]$/constexpr double TARGET_BEAM_WIDTH_HALF_PROGRES_RATE = 0.5773213997671881;  \\/\\/ OPTIMIZE [0.02, 0.98]/' -e 's/^constexpr auto MAX_BEAM_WIDTH = .*;                        \\/\\/ OPTIMIZE \\[400, 4000\\] LOG$/constexpr auto MAX_BEAM_WIDTH = 904;                        \\/\\/ OPTIMIZE [400, 4000] LOG/'\n",
      "g++ 8_main.cpp -std=gnu++17 -O2 -DONLINE_JUDGE -o 8_main.cpp.out 2> /dev/null\n"
     ]
    },
    {
     "name": "stderr",
     "output_type": "stream",
     "text": [
      "\u001b[32m[I 2021-09-11 03:28:59,656]\u001b[0m Trial 197 finished with value: 995713758.0 and parameters: {'hash_table_size': 9, 'K_START': 0.06013441396968959, 'K_END': 0.05247031119224862, 'K_H': 0.7410239335509684, 'PURCHASE_TURN_LIMIT': 841, 'ROUGH_HASH': '0', 'TARGET_BEAM_WIDTH_INCREASE_RATE': 3.5179207829034014, 'TARGET_BEAM_WIDTH_HALF_PROGRES_RATE': 0.5667917394346816, 'MAX_BEAM_WIDTH': 918}. Best is trial 176 with value: 1002301718.0.\u001b[0m\n"
     ]
    },
    {
     "name": "stdout",
     "output_type": "stream",
     "text": [
      "callback ok\n",
      "index_parallel=9\n",
      "sed -i 9_main.cpp -e 's/^constexpr int hash_table_size = .*;         \\/\\/ OPTIMIZE \\[9, 18\\]$/constexpr int hash_table_size = 9;         \\/\\/ OPTIMIZE [9, 18]/' -e 's/^constexpr double K_START = .*;  \\/\\/ OPTIMIZE \\[0\\.04, 0\\.2\\] LOG$/constexpr double K_START = 0.07487767384136187;  \\/\\/ OPTIMIZE [0.04, 0.2] LOG/' -e 's/^constexpr double K_END = .*;   \\/\\/ OPTIMIZE \\[0\\.03, 0\\.1\\] LOG$/constexpr double K_END = 0.05647620469963216;   \\/\\/ OPTIMIZE [0.03, 0.1] LOG/' -e 's/^constexpr double K_H = .*;      \\/\\/ OPTIMIZE \\[0\\.001, 0\\.999\\]$/constexpr double K_H = 0.6486548827576445;      \\/\\/ OPTIMIZE [0.001, 0.999]/' -e 's/^constexpr short PURCHASE_TURN_LIMIT = .*;  \\/\\/ OPTIMIZE \\[790, 870\\]$/constexpr short PURCHASE_TURN_LIMIT = 844;  \\/\\/ OPTIMIZE [790, 870]/' -e 's/^constexpr int ROUGH_HASH = .*;      \\/\\/ OPTIMIZE {0, 0b00000001, 0b00010001, 0b00010011, 0b00110011}$/constexpr int ROUGH_HASH = 0;      \\/\\/ OPTIMIZE {0, 0b00000001, 0b00010001, 0b00010011, 0b00110011}/' -e 's/^constexpr double TARGET_BEAM_WIDTH_INCREASE_RATE = .*;      \\/\\/ OPTIMIZE \\[0\\.25, 4\\.0\\] LOG$/constexpr double TARGET_BEAM_WIDTH_INCREASE_RATE = 3.730221891844565;      \\/\\/ OPTIMIZE [0.25, 4.0] LOG/' -e 's/^constexpr double TARGET_BEAM_WIDTH_HALF_PROGRES_RATE = .*;  \\/\\/ OPTIMIZE \\[0\\.02, 0\\.98\\]$/constexpr double TARGET_BEAM_WIDTH_HALF_PROGRES_RATE = 0.495724270238242;  \\/\\/ OPTIMIZE [0.02, 0.98]/' -e 's/^constexpr auto MAX_BEAM_WIDTH = .*;                        \\/\\/ OPTIMIZE \\[400, 4000\\] LOG$/constexpr auto MAX_BEAM_WIDTH = 722;                        \\/\\/ OPTIMIZE [400, 4000] LOG/'\n",
      "g++ 9_main.cpp -std=gnu++17 -O2 -DONLINE_JUDGE -o 9_main.cpp.out 2> /dev/null\n"
     ]
    },
    {
     "name": "stderr",
     "output_type": "stream",
     "text": [
      "\u001b[32m[I 2021-09-11 03:29:08,753]\u001b[0m Trial 198 finished with value: 992925202.0 and parameters: {'hash_table_size': 9, 'K_START': 0.06100933846647188, 'K_END': 0.05727488728209249, 'K_H': 0.7813539250154566, 'PURCHASE_TURN_LIMIT': 850, 'ROUGH_HASH': '0', 'TARGET_BEAM_WIDTH_INCREASE_RATE': 3.6759740587022836, 'TARGET_BEAM_WIDTH_HALF_PROGRES_RATE': 0.567685103289723, 'MAX_BEAM_WIDTH': 931}. Best is trial 176 with value: 1002301718.0.\u001b[0m\n"
     ]
    },
    {
     "name": "stdout",
     "output_type": "stream",
     "text": [
      "callback ok\n",
      "index_parallel=10\n",
      "sed -i 10_main.cpp -e 's/^constexpr int hash_table_size = .*;         \\/\\/ OPTIMIZE \\[9, 18\\]$/constexpr int hash_table_size = 9;         \\/\\/ OPTIMIZE [9, 18]/' -e 's/^constexpr double K_START = .*;  \\/\\/ OPTIMIZE \\[0\\.04, 0\\.2\\] LOG$/constexpr double K_START = 0.07368639869164648;  \\/\\/ OPTIMIZE [0.04, 0.2] LOG/' -e 's/^constexpr double K_END = .*;   \\/\\/ OPTIMIZE \\[0\\.03, 0\\.1\\] LOG$/constexpr double K_END = 0.05521638807441871;   \\/\\/ OPTIMIZE [0.03, 0.1] LOG/' -e 's/^constexpr double K_H = .*;      \\/\\/ OPTIMIZE \\[0\\.001, 0\\.999\\]$/constexpr double K_H = 0.6450980430613985;      \\/\\/ OPTIMIZE [0.001, 0.999]/' -e 's/^constexpr short PURCHASE_TURN_LIMIT = .*;  \\/\\/ OPTIMIZE \\[790, 870\\]$/constexpr short PURCHASE_TURN_LIMIT = 844;  \\/\\/ OPTIMIZE [790, 870]/' -e 's/^constexpr int ROUGH_HASH = .*;      \\/\\/ OPTIMIZE {0, 0b00000001, 0b00010001, 0b00010011, 0b00110011}$/constexpr int ROUGH_HASH = 0;      \\/\\/ OPTIMIZE {0, 0b00000001, 0b00010001, 0b00010011, 0b00110011}/' -e 's/^constexpr double TARGET_BEAM_WIDTH_INCREASE_RATE = .*;      \\/\\/ OPTIMIZE \\[0\\.25, 4\\.0\\] LOG$/constexpr double TARGET_BEAM_WIDTH_INCREASE_RATE = 3.7275232945426415;      \\/\\/ OPTIMIZE [0.25, 4.0] LOG/' -e 's/^constexpr double TARGET_BEAM_WIDTH_HALF_PROGRES_RATE = .*;  \\/\\/ OPTIMIZE \\[0\\.02, 0\\.98\\]$/constexpr double TARGET_BEAM_WIDTH_HALF_PROGRES_RATE = 0.49710712798937606;  \\/\\/ OPTIMIZE [0.02, 0.98]/' -e 's/^constexpr auto MAX_BEAM_WIDTH = .*;                        \\/\\/ OPTIMIZE \\[400, 4000\\] LOG$/constexpr auto MAX_BEAM_WIDTH = 717;                        \\/\\/ OPTIMIZE [400, 4000] LOG/'\n",
      "g++ 10_main.cpp -std=gnu++17 -O2 -DONLINE_JUDGE -o 10_main.cpp.out 2> /dev/null\n"
     ]
    },
    {
     "name": "stderr",
     "output_type": "stream",
     "text": [
      "\u001b[32m[I 2021-09-11 03:29:20,573]\u001b[0m Trial 199 finished with value: 996789594.0 and parameters: {'hash_table_size': 9, 'K_START': 0.06012717139410203, 'K_END': 0.05596873521853021, 'K_H': 0.7527697651222968, 'PURCHASE_TURN_LIMIT': 844, 'ROUGH_HASH': '0', 'TARGET_BEAM_WIDTH_INCREASE_RATE': 3.592978786745183, 'TARGET_BEAM_WIDTH_HALF_PROGRES_RATE': 0.5752545304843563, 'MAX_BEAM_WIDTH': 916}. Best is trial 176 with value: 1002301718.0.\u001b[0m\n"
     ]
    },
    {
     "name": "stdout",
     "output_type": "stream",
     "text": [
      "callback ok\n",
      "index_parallel=11\n",
      "sed -i 11_main.cpp -e 's/^constexpr int hash_table_size = .*;         \\/\\/ OPTIMIZE \\[9, 18\\]$/constexpr int hash_table_size = 9;         \\/\\/ OPTIMIZE [9, 18]/' -e 's/^constexpr double K_START = .*;  \\/\\/ OPTIMIZE \\[0\\.04, 0\\.2\\] LOG$/constexpr double K_START = 0.0735092589143015;  \\/\\/ OPTIMIZE [0.04, 0.2] LOG/' -e 's/^constexpr double K_END = .*;   \\/\\/ OPTIMIZE \\[0\\.03, 0\\.1\\] LOG$/constexpr double K_END = 0.055468619898725126;   \\/\\/ OPTIMIZE [0.03, 0.1] LOG/' -e 's/^constexpr double K_H = .*;      \\/\\/ OPTIMIZE \\[0\\.001, 0\\.999\\]$/constexpr double K_H = 0.6669187666143539;      \\/\\/ OPTIMIZE [0.001, 0.999]/' -e 's/^constexpr short PURCHASE_TURN_LIMIT = .*;  \\/\\/ OPTIMIZE \\[790, 870\\]$/constexpr short PURCHASE_TURN_LIMIT = 840;  \\/\\/ OPTIMIZE [790, 870]/' -e 's/^constexpr int ROUGH_HASH = .*;      \\/\\/ OPTIMIZE {0, 0b00000001, 0b00010001, 0b00010011, 0b00110011}$/constexpr int ROUGH_HASH = 0;      \\/\\/ OPTIMIZE {0, 0b00000001, 0b00010001, 0b00010011, 0b00110011}/' -e 's/^constexpr double TARGET_BEAM_WIDTH_INCREASE_RATE = .*;      \\/\\/ OPTIMIZE \\[0\\.25, 4\\.0\\] LOG$/constexpr double TARGET_BEAM_WIDTH_INCREASE_RATE = 3.987425710746877;      \\/\\/ OPTIMIZE [0.25, 4.0] LOG/' -e 's/^constexpr double TARGET_BEAM_WIDTH_HALF_PROGRES_RATE = .*;  \\/\\/ OPTIMIZE \\[0\\.02, 0\\.98\\]$/constexpr double TARGET_BEAM_WIDTH_HALF_PROGRES_RATE = 0.5306699238499332;  \\/\\/ OPTIMIZE [0.02, 0.98]/' -e 's/^constexpr auto MAX_BEAM_WIDTH = .*;                        \\/\\/ OPTIMIZE \\[400, 4000\\] LOG$/constexpr auto MAX_BEAM_WIDTH = 736;                        \\/\\/ OPTIMIZE [400, 4000] LOG/'\n",
      "g++ 11_main.cpp -std=gnu++17 -O2 -DONLINE_JUDGE -o 11_main.cpp.out 2> /dev/null\n"
     ]
    },
    {
     "name": "stderr",
     "output_type": "stream",
     "text": [
      "\u001b[32m[I 2021-09-11 03:30:33,688]\u001b[0m Trial 200 finished with value: 997302267.0 and parameters: {'hash_table_size': 9, 'K_START': 0.07460989854534548, 'K_END': 0.052964908256743826, 'K_H': 0.7873618126606552, 'PURCHASE_TURN_LIMIT': 843, 'ROUGH_HASH': '0', 'TARGET_BEAM_WIDTH_INCREASE_RATE': 3.55213429243863, 'TARGET_BEAM_WIDTH_HALF_PROGRES_RATE': 0.5773213997671881, 'MAX_BEAM_WIDTH': 904}. Best is trial 176 with value: 1002301718.0.\u001b[0m\n"
     ]
    },
    {
     "name": "stdout",
     "output_type": "stream",
     "text": [
      "callback ok\n",
      "index_parallel=0\n",
      "sed -i 0_main.cpp -e 's/^constexpr int hash_table_size = .*;         \\/\\/ OPTIMIZE \\[9, 18\\]$/constexpr int hash_table_size = 9;         \\/\\/ OPTIMIZE [9, 18]/' -e 's/^constexpr double K_START = .*;  \\/\\/ OPTIMIZE \\[0\\.04, 0\\.2\\] LOG$/constexpr double K_START = 0.06321811404748123;  \\/\\/ OPTIMIZE [0.04, 0.2] LOG/' -e 's/^constexpr double K_END = .*;   \\/\\/ OPTIMIZE \\[0\\.03, 0\\.1\\] LOG$/constexpr double K_END = 0.05928632615928001;   \\/\\/ OPTIMIZE [0.03, 0.1] LOG/' -e 's/^constexpr double K_H = .*;      \\/\\/ OPTIMIZE \\[0\\.001, 0\\.999\\]$/constexpr double K_H = 0.659834282701734;      \\/\\/ OPTIMIZE [0.001, 0.999]/' -e 's/^constexpr short PURCHASE_TURN_LIMIT = .*;  \\/\\/ OPTIMIZE \\[790, 870\\]$/constexpr short PURCHASE_TURN_LIMIT = 840;  \\/\\/ OPTIMIZE [790, 870]/' -e 's/^constexpr int ROUGH_HASH = .*;      \\/\\/ OPTIMIZE {0, 0b00000001, 0b00010001, 0b00010011, 0b00110011}$/constexpr int ROUGH_HASH = 0;      \\/\\/ OPTIMIZE {0, 0b00000001, 0b00010001, 0b00010011, 0b00110011}/' -e 's/^constexpr double TARGET_BEAM_WIDTH_INCREASE_RATE = .*;      \\/\\/ OPTIMIZE \\[0\\.25, 4\\.0\\] LOG$/constexpr double TARGET_BEAM_WIDTH_INCREASE_RATE = 3.9985358293682483;      \\/\\/ OPTIMIZE [0.25, 4.0] LOG/' -e 's/^constexpr double TARGET_BEAM_WIDTH_HALF_PROGRES_RATE = .*;  \\/\\/ OPTIMIZE \\[0\\.02, 0\\.98\\]$/constexpr double TARGET_BEAM_WIDTH_HALF_PROGRES_RATE = 0.49508321427012275;  \\/\\/ OPTIMIZE [0.02, 0.98]/' -e 's/^constexpr auto MAX_BEAM_WIDTH = .*;                        \\/\\/ OPTIMIZE \\[400, 4000\\] LOG$/constexpr auto MAX_BEAM_WIDTH = 835;                        \\/\\/ OPTIMIZE [400, 4000] LOG/'\n",
      "g++ 0_main.cpp -std=gnu++17 -O2 -DONLINE_JUDGE -o 0_main.cpp.out 2> /dev/null\n"
     ]
    },
    {
     "name": "stderr",
     "output_type": "stream",
     "text": [
      "\u001b[32m[I 2021-09-11 03:30:49,684]\u001b[0m Trial 201 finished with value: 1003674091.0 and parameters: {'hash_table_size': 9, 'K_START': 0.07487767384136187, 'K_END': 0.05647620469963216, 'K_H': 0.6486548827576445, 'PURCHASE_TURN_LIMIT': 844, 'ROUGH_HASH': '0', 'TARGET_BEAM_WIDTH_INCREASE_RATE': 3.730221891844565, 'TARGET_BEAM_WIDTH_HALF_PROGRES_RATE': 0.495724270238242, 'MAX_BEAM_WIDTH': 722}. Best is trial 201 with value: 1003674091.0.\u001b[0m\n"
     ]
    },
    {
     "name": "stdout",
     "output_type": "stream",
     "text": [
      "Updated! 1003674091.0\n",
      "callback ok\n",
      "index_parallel=1\n",
      "sed -i 1_main.cpp -e 's/^constexpr int hash_table_size = .*;         \\/\\/ OPTIMIZE \\[9, 18\\]$/constexpr int hash_table_size = 9;         \\/\\/ OPTIMIZE [9, 18]/' -e 's/^constexpr double K_START = .*;  \\/\\/ OPTIMIZE \\[0\\.04, 0\\.2\\] LOG$/constexpr double K_START = 0.07014597309492179;  \\/\\/ OPTIMIZE [0.04, 0.2] LOG/' -e 's/^constexpr double K_END = .*;   \\/\\/ OPTIMIZE \\[0\\.03, 0\\.1\\] LOG$/constexpr double K_END = 0.05529140384463508;   \\/\\/ OPTIMIZE [0.03, 0.1] LOG/' -e 's/^constexpr double K_H = .*;      \\/\\/ OPTIMIZE \\[0\\.001, 0\\.999\\]$/constexpr double K_H = 0.6538502137726815;      \\/\\/ OPTIMIZE [0.001, 0.999]/' -e 's/^constexpr short PURCHASE_TURN_LIMIT = .*;  \\/\\/ OPTIMIZE \\[790, 870\\]$/constexpr short PURCHASE_TURN_LIMIT = 840;  \\/\\/ OPTIMIZE [790, 870]/' -e 's/^constexpr int ROUGH_HASH = .*;      \\/\\/ OPTIMIZE {0, 0b00000001, 0b00010001, 0b00010011, 0b00110011}$/constexpr int ROUGH_HASH = 0;      \\/\\/ OPTIMIZE {0, 0b00000001, 0b00010001, 0b00010011, 0b00110011}/' -e 's/^constexpr double TARGET_BEAM_WIDTH_INCREASE_RATE = .*;      \\/\\/ OPTIMIZE \\[0\\.25, 4\\.0\\] LOG$/constexpr double TARGET_BEAM_WIDTH_INCREASE_RATE = 3.9930930679382275;      \\/\\/ OPTIMIZE [0.25, 4.0] LOG/' -e 's/^constexpr double TARGET_BEAM_WIDTH_HALF_PROGRES_RATE = .*;  \\/\\/ OPTIMIZE \\[0\\.02, 0\\.98\\]$/constexpr double TARGET_BEAM_WIDTH_HALF_PROGRES_RATE = 0.5019324857307936;  \\/\\/ OPTIMIZE [0.02, 0.98]/' -e 's/^constexpr auto MAX_BEAM_WIDTH = .*;                        \\/\\/ OPTIMIZE \\[400, 4000\\] LOG$/constexpr auto MAX_BEAM_WIDTH = 725;                        \\/\\/ OPTIMIZE [400, 4000] LOG/'\n",
      "g++ 1_main.cpp -std=gnu++17 -O2 -DONLINE_JUDGE -o 1_main.cpp.out 2> /dev/null\n"
     ]
    },
    {
     "name": "stderr",
     "output_type": "stream",
     "text": [
      "\u001b[32m[I 2021-09-11 03:30:58,981]\u001b[0m Trial 202 finished with value: 1001874105.0 and parameters: {'hash_table_size': 9, 'K_START': 0.07368639869164648, 'K_END': 0.05521638807441871, 'K_H': 0.6450980430613985, 'PURCHASE_TURN_LIMIT': 844, 'ROUGH_HASH': '0', 'TARGET_BEAM_WIDTH_INCREASE_RATE': 3.7275232945426415, 'TARGET_BEAM_WIDTH_HALF_PROGRES_RATE': 0.49710712798937606, 'MAX_BEAM_WIDTH': 717}. Best is trial 201 with value: 1003674091.0.\u001b[0m\n"
     ]
    },
    {
     "name": "stdout",
     "output_type": "stream",
     "text": [
      "callback ok\n",
      "index_parallel=2\n",
      "sed -i 2_main.cpp -e 's/^constexpr int hash_table_size = .*;         \\/\\/ OPTIMIZE \\[9, 18\\]$/constexpr int hash_table_size = 9;         \\/\\/ OPTIMIZE [9, 18]/' -e 's/^constexpr double K_START = .*;  \\/\\/ OPTIMIZE \\[0\\.04, 0\\.2\\] LOG$/constexpr double K_START = 0.07091702316263845;  \\/\\/ OPTIMIZE [0.04, 0.2] LOG/' -e 's/^constexpr double K_END = .*;   \\/\\/ OPTIMIZE \\[0\\.03, 0\\.1\\] LOG$/constexpr double K_END = 0.055788642489565006;   \\/\\/ OPTIMIZE [0.03, 0.1] LOG/' -e 's/^constexpr double K_H = .*;      \\/\\/ OPTIMIZE \\[0\\.001, 0\\.999\\]$/constexpr double K_H = 0.6476326910751125;      \\/\\/ OPTIMIZE [0.001, 0.999]/' -e 's/^constexpr short PURCHASE_TURN_LIMIT = .*;  \\/\\/ OPTIMIZE \\[790, 870\\]$/constexpr short PURCHASE_TURN_LIMIT = 844;  \\/\\/ OPTIMIZE [790, 870]/' -e 's/^constexpr int ROUGH_HASH = .*;      \\/\\/ OPTIMIZE {0, 0b00000001, 0b00010001, 0b00010011, 0b00110011}$/constexpr int ROUGH_HASH = 0;      \\/\\/ OPTIMIZE {0, 0b00000001, 0b00010001, 0b00010011, 0b00110011}/' -e 's/^constexpr double TARGET_BEAM_WIDTH_INCREASE_RATE = .*;      \\/\\/ OPTIMIZE \\[0\\.25, 4\\.0\\] LOG$/constexpr double TARGET_BEAM_WIDTH_INCREASE_RATE = 3.758731541527393;      \\/\\/ OPTIMIZE [0.25, 4.0] LOG/' -e 's/^constexpr double TARGET_BEAM_WIDTH_HALF_PROGRES_RATE = .*;  \\/\\/ OPTIMIZE \\[0\\.02, 0\\.98\\]$/constexpr double TARGET_BEAM_WIDTH_HALF_PROGRES_RATE = 0.49181227846864795;  \\/\\/ OPTIMIZE [0.02, 0.98]/' -e 's/^constexpr auto MAX_BEAM_WIDTH = .*;                        \\/\\/ OPTIMIZE \\[400, 4000\\] LOG$/constexpr auto MAX_BEAM_WIDTH = 712;                        \\/\\/ OPTIMIZE [400, 4000] LOG/'\n",
      "g++ 2_main.cpp -std=gnu++17 -O2 -DONLINE_JUDGE -o 2_main.cpp.out 2> /dev/null\n"
     ]
    },
    {
     "name": "stderr",
     "output_type": "stream",
     "text": [
      "\u001b[32m[I 2021-09-11 03:31:06,704]\u001b[0m Trial 203 finished with value: 999682595.0 and parameters: {'hash_table_size': 9, 'K_START': 0.0735092589143015, 'K_END': 0.055468619898725126, 'K_H': 0.6669187666143539, 'PURCHASE_TURN_LIMIT': 840, 'ROUGH_HASH': '0', 'TARGET_BEAM_WIDTH_INCREASE_RATE': 3.987425710746877, 'TARGET_BEAM_WIDTH_HALF_PROGRES_RATE': 0.5306699238499332, 'MAX_BEAM_WIDTH': 736}. Best is trial 201 with value: 1003674091.0.\u001b[0m\n"
     ]
    },
    {
     "name": "stdout",
     "output_type": "stream",
     "text": [
      "callback ok\n",
      "index_parallel=3\n",
      "sed -i 3_main.cpp -e 's/^constexpr int hash_table_size = .*;         \\/\\/ OPTIMIZE \\[9, 18\\]$/constexpr int hash_table_size = 9;         \\/\\/ OPTIMIZE [9, 18]/' -e 's/^constexpr double K_START = .*;  \\/\\/ OPTIMIZE \\[0\\.04, 0\\.2\\] LOG$/constexpr double K_START = 0.07430496661220143;  \\/\\/ OPTIMIZE [0.04, 0.2] LOG/' -e 's/^constexpr double K_END = .*;   \\/\\/ OPTIMIZE \\[0\\.03, 0\\.1\\] LOG$/constexpr double K_END = 0.05568957355537027;   \\/\\/ OPTIMIZE [0.03, 0.1] LOG/' -e 's/^constexpr double K_H = .*;      \\/\\/ OPTIMIZE \\[0\\.001, 0\\.999\\]$/constexpr double K_H = 0.654178684877909;      \\/\\/ OPTIMIZE [0.001, 0.999]/' -e 's/^constexpr short PURCHASE_TURN_LIMIT = .*;  \\/\\/ OPTIMIZE \\[790, 870\\]$/constexpr short PURCHASE_TURN_LIMIT = 840;  \\/\\/ OPTIMIZE [790, 870]/' -e 's/^constexpr int ROUGH_HASH = .*;      \\/\\/ OPTIMIZE {0, 0b00000001, 0b00010001, 0b00010011, 0b00110011}$/constexpr int ROUGH_HASH = 0;      \\/\\/ OPTIMIZE {0, 0b00000001, 0b00010001, 0b00010011, 0b00110011}/' -e 's/^constexpr double TARGET_BEAM_WIDTH_INCREASE_RATE = .*;      \\/\\/ OPTIMIZE \\[0\\.25, 4\\.0\\] LOG$/constexpr double TARGET_BEAM_WIDTH_INCREASE_RATE = 3.9939622284295;      \\/\\/ OPTIMIZE [0.25, 4.0] LOG/' -e 's/^constexpr double TARGET_BEAM_WIDTH_HALF_PROGRES_RATE = .*;  \\/\\/ OPTIMIZE \\[0\\.02, 0\\.98\\]$/constexpr double TARGET_BEAM_WIDTH_HALF_PROGRES_RATE = 0.49346712546879873;  \\/\\/ OPTIMIZE [0.02, 0.98]/' -e 's/^constexpr auto MAX_BEAM_WIDTH = .*;                        \\/\\/ OPTIMIZE \\[400, 4000\\] LOG$/constexpr auto MAX_BEAM_WIDTH = 671;                        \\/\\/ OPTIMIZE [400, 4000] LOG/'\n",
      "g++ 3_main.cpp -std=gnu++17 -O2 -DONLINE_JUDGE -o 3_main.cpp.out 2> /dev/null\n"
     ]
    },
    {
     "name": "stderr",
     "output_type": "stream",
     "text": [
      "\u001b[32m[I 2021-09-11 03:32:24,513]\u001b[0m Trial 204 finished with value: 1004499288.0 and parameters: {'hash_table_size': 9, 'K_START': 0.06321811404748123, 'K_END': 0.05928632615928001, 'K_H': 0.659834282701734, 'PURCHASE_TURN_LIMIT': 840, 'ROUGH_HASH': '0', 'TARGET_BEAM_WIDTH_INCREASE_RATE': 3.9985358293682483, 'TARGET_BEAM_WIDTH_HALF_PROGRES_RATE': 0.49508321427012275, 'MAX_BEAM_WIDTH': 835}. Best is trial 204 with value: 1004499288.0.\u001b[0m\n"
     ]
    },
    {
     "name": "stdout",
     "output_type": "stream",
     "text": [
      "Updated! 1004499288.0\n",
      "callback ok\n",
      "index_parallel=4\n",
      "sed -i 4_main.cpp -e 's/^constexpr int hash_table_size = .*;         \\/\\/ OPTIMIZE \\[9, 18\\]$/constexpr int hash_table_size = 15;         \\/\\/ OPTIMIZE [9, 18]/' -e 's/^constexpr double K_START = .*;  \\/\\/ OPTIMIZE \\[0\\.04, 0\\.2\\] LOG$/constexpr double K_START = 0.06366189291296936;  \\/\\/ OPTIMIZE [0.04, 0.2] LOG/' -e 's/^constexpr double K_END = .*;   \\/\\/ OPTIMIZE \\[0\\.03, 0\\.1\\] LOG$/constexpr double K_END = 0.055861371490983185;   \\/\\/ OPTIMIZE [0.03, 0.1] LOG/' -e 's/^constexpr double K_H = .*;      \\/\\/ OPTIMIZE \\[0\\.001, 0\\.999\\]$/constexpr double K_H = 0.6540243753433417;      \\/\\/ OPTIMIZE [0.001, 0.999]/' -e 's/^constexpr short PURCHASE_TURN_LIMIT = .*;  \\/\\/ OPTIMIZE \\[790, 870\\]$/constexpr short PURCHASE_TURN_LIMIT = 839;  \\/\\/ OPTIMIZE [790, 870]/' -e 's/^constexpr int ROUGH_HASH = .*;      \\/\\/ OPTIMIZE {0, 0b00000001, 0b00010001, 0b00010011, 0b00110011}$/constexpr int ROUGH_HASH = 0;      \\/\\/ OPTIMIZE {0, 0b00000001, 0b00010001, 0b00010011, 0b00110011}/' -e 's/^constexpr double TARGET_BEAM_WIDTH_INCREASE_RATE = .*;      \\/\\/ OPTIMIZE \\[0\\.25, 4\\.0\\] LOG$/constexpr double TARGET_BEAM_WIDTH_INCREASE_RATE = 3.723389625923474;      \\/\\/ OPTIMIZE [0.25, 4.0] LOG/' -e 's/^constexpr double TARGET_BEAM_WIDTH_HALF_PROGRES_RATE = .*;  \\/\\/ OPTIMIZE \\[0\\.02, 0\\.98\\]$/constexpr double TARGET_BEAM_WIDTH_HALF_PROGRES_RATE = 0.47123771956132615;  \\/\\/ OPTIMIZE [0.02, 0.98]/' -e 's/^constexpr auto MAX_BEAM_WIDTH = .*;                        \\/\\/ OPTIMIZE \\[400, 4000\\] LOG$/constexpr auto MAX_BEAM_WIDTH = 678;                        \\/\\/ OPTIMIZE [400, 4000] LOG/'\n",
      "g++ 4_main.cpp -std=gnu++17 -O2 -DONLINE_JUDGE -o 4_main.cpp.out 2> /dev/null\n"
     ]
    },
    {
     "name": "stderr",
     "output_type": "stream",
     "text": [
      "\u001b[32m[I 2021-09-11 03:32:36,097]\u001b[0m Trial 205 finished with value: 1001155036.0 and parameters: {'hash_table_size': 9, 'K_START': 0.07014597309492179, 'K_END': 0.05529140384463508, 'K_H': 0.6538502137726815, 'PURCHASE_TURN_LIMIT': 840, 'ROUGH_HASH': '0', 'TARGET_BEAM_WIDTH_INCREASE_RATE': 3.9930930679382275, 'TARGET_BEAM_WIDTH_HALF_PROGRES_RATE': 0.5019324857307936, 'MAX_BEAM_WIDTH': 725}. Best is trial 204 with value: 1004499288.0.\u001b[0m\n"
     ]
    },
    {
     "name": "stdout",
     "output_type": "stream",
     "text": [
      "callback ok\n",
      "index_parallel=5\n",
      "sed -i 5_main.cpp -e 's/^constexpr int hash_table_size = .*;         \\/\\/ OPTIMIZE \\[9, 18\\]$/constexpr int hash_table_size = 9;         \\/\\/ OPTIMIZE [9, 18]/' -e 's/^constexpr double K_START = .*;  \\/\\/ OPTIMIZE \\[0\\.04, 0\\.2\\] LOG$/constexpr double K_START = 0.07365611898175568;  \\/\\/ OPTIMIZE [0.04, 0.2] LOG/' -e 's/^constexpr double K_END = .*;   \\/\\/ OPTIMIZE \\[0\\.03, 0\\.1\\] LOG$/constexpr double K_END = 0.05588131372820233;   \\/\\/ OPTIMIZE [0.03, 0.1] LOG/' -e 's/^constexpr double K_H = .*;      \\/\\/ OPTIMIZE \\[0\\.001, 0\\.999\\]$/constexpr double K_H = 0.6328604053307512;      \\/\\/ OPTIMIZE [0.001, 0.999]/' -e 's/^constexpr short PURCHASE_TURN_LIMIT = .*;  \\/\\/ OPTIMIZE \\[790, 870\\]$/constexpr short PURCHASE_TURN_LIMIT = 839;  \\/\\/ OPTIMIZE [790, 870]/' -e 's/^constexpr int ROUGH_HASH = .*;      \\/\\/ OPTIMIZE {0, 0b00000001, 0b00010001, 0b00010011, 0b00110011}$/constexpr int ROUGH_HASH = 0;      \\/\\/ OPTIMIZE {0, 0b00000001, 0b00010001, 0b00010011, 0b00110011}/' -e 's/^constexpr double TARGET_BEAM_WIDTH_INCREASE_RATE = .*;      \\/\\/ OPTIMIZE \\[0\\.25, 4\\.0\\] LOG$/constexpr double TARGET_BEAM_WIDTH_INCREASE_RATE = 3.7843314437704283;      \\/\\/ OPTIMIZE [0.25, 4.0] LOG/' -e 's/^constexpr double TARGET_BEAM_WIDTH_HALF_PROGRES_RATE = .*;  \\/\\/ OPTIMIZE \\[0\\.02, 0\\.98\\]$/constexpr double TARGET_BEAM_WIDTH_HALF_PROGRES_RATE = 0.47616940639511635;  \\/\\/ OPTIMIZE [0.02, 0.98]/' -e 's/^constexpr auto MAX_BEAM_WIDTH = .*;                        \\/\\/ OPTIMIZE \\[400, 4000\\] LOG$/constexpr auto MAX_BEAM_WIDTH = 722;                        \\/\\/ OPTIMIZE [400, 4000] LOG/'\n",
      "g++ 5_main.cpp -std=gnu++17 -O2 -DONLINE_JUDGE -o 5_main.cpp.out 2> /dev/null\n"
     ]
    },
    {
     "name": "stderr",
     "output_type": "stream",
     "text": [
      "\u001b[32m[I 2021-09-11 03:32:50,143]\u001b[0m Trial 206 finished with value: 1001370112.0 and parameters: {'hash_table_size': 9, 'K_START': 0.07091702316263845, 'K_END': 0.055788642489565006, 'K_H': 0.6476326910751125, 'PURCHASE_TURN_LIMIT': 844, 'ROUGH_HASH': '0', 'TARGET_BEAM_WIDTH_INCREASE_RATE': 3.758731541527393, 'TARGET_BEAM_WIDTH_HALF_PROGRES_RATE': 0.49181227846864795, 'MAX_BEAM_WIDTH': 712}. Best is trial 204 with value: 1004499288.0.\u001b[0m\n"
     ]
    },
    {
     "name": "stdout",
     "output_type": "stream",
     "text": [
      "callback ok\n",
      "index_parallel=6\n",
      "sed -i 6_main.cpp -e 's/^constexpr int hash_table_size = .*;         \\/\\/ OPTIMIZE \\[9, 18\\]$/constexpr int hash_table_size = 9;         \\/\\/ OPTIMIZE [9, 18]/' -e 's/^constexpr double K_START = .*;  \\/\\/ OPTIMIZE \\[0\\.04, 0\\.2\\] LOG$/constexpr double K_START = 0.07415555760496555;  \\/\\/ OPTIMIZE [0.04, 0.2] LOG/' -e 's/^constexpr double K_END = .*;   \\/\\/ OPTIMIZE \\[0\\.03, 0\\.1\\] LOG$/constexpr double K_END = 0.05613945150609315;   \\/\\/ OPTIMIZE [0.03, 0.1] LOG/' -e 's/^constexpr double K_H = .*;      \\/\\/ OPTIMIZE \\[0\\.001, 0\\.999\\]$/constexpr double K_H = 0.6368655985376507;      \\/\\/ OPTIMIZE [0.001, 0.999]/' -e 's/^constexpr short PURCHASE_TURN_LIMIT = .*;  \\/\\/ OPTIMIZE \\[790, 870\\]$/constexpr short PURCHASE_TURN_LIMIT = 839;  \\/\\/ OPTIMIZE [790, 870]/' -e 's/^constexpr int ROUGH_HASH = .*;      \\/\\/ OPTIMIZE {0, 0b00000001, 0b00010001, 0b00010011, 0b00110011}$/constexpr int ROUGH_HASH = 0;      \\/\\/ OPTIMIZE {0, 0b00000001, 0b00010001, 0b00010011, 0b00110011}/' -e 's/^constexpr double TARGET_BEAM_WIDTH_INCREASE_RATE = .*;      \\/\\/ OPTIMIZE \\[0\\.25, 4\\.0\\] LOG$/constexpr double TARGET_BEAM_WIDTH_INCREASE_RATE = 3.995492391575086;      \\/\\/ OPTIMIZE [0.25, 4.0] LOG/' -e 's/^constexpr double TARGET_BEAM_WIDTH_HALF_PROGRES_RATE = .*;  \\/\\/ OPTIMIZE \\[0\\.02, 0\\.98\\]$/constexpr double TARGET_BEAM_WIDTH_HALF_PROGRES_RATE = 0.4785065268346192;  \\/\\/ OPTIMIZE [0.02, 0.98]/' -e 's/^constexpr auto MAX_BEAM_WIDTH = .*;                        \\/\\/ OPTIMIZE \\[400, 4000\\] LOG$/constexpr auto MAX_BEAM_WIDTH = 672;                        \\/\\/ OPTIMIZE [400, 4000] LOG/'\n",
      "g++ 6_main.cpp -std=gnu++17 -O2 -DONLINE_JUDGE -o 6_main.cpp.out 2> /dev/null\n"
     ]
    },
    {
     "name": "stderr",
     "output_type": "stream",
     "text": [
      "\u001b[32m[I 2021-09-11 03:32:57,558]\u001b[0m Trial 207 finished with value: 1003760813.0 and parameters: {'hash_table_size': 9, 'K_START': 0.07430496661220143, 'K_END': 0.05568957355537027, 'K_H': 0.654178684877909, 'PURCHASE_TURN_LIMIT': 840, 'ROUGH_HASH': '0', 'TARGET_BEAM_WIDTH_INCREASE_RATE': 3.9939622284295, 'TARGET_BEAM_WIDTH_HALF_PROGRES_RATE': 0.49346712546879873, 'MAX_BEAM_WIDTH': 671}. Best is trial 204 with value: 1004499288.0.\u001b[0m\n"
     ]
    },
    {
     "name": "stdout",
     "output_type": "stream",
     "text": [
      "callback ok\n",
      "index_parallel=7\n",
      "sed -i 7_main.cpp -e 's/^constexpr int hash_table_size = .*;         \\/\\/ OPTIMIZE \\[9, 18\\]$/constexpr int hash_table_size = 9;         \\/\\/ OPTIMIZE [9, 18]/' -e 's/^constexpr double K_START = .*;  \\/\\/ OPTIMIZE \\[0\\.04, 0\\.2\\] LOG$/constexpr double K_START = 0.07673615987371904;  \\/\\/ OPTIMIZE [0.04, 0.2] LOG/' -e 's/^constexpr double K_END = .*;   \\/\\/ OPTIMIZE \\[0\\.03, 0\\.1\\] LOG$/constexpr double K_END = 0.055669307169565835;   \\/\\/ OPTIMIZE [0.03, 0.1] LOG/' -e 's/^constexpr double K_H = .*;      \\/\\/ OPTIMIZE \\[0\\.001, 0\\.999\\]$/constexpr double K_H = 0.63263593313212;      \\/\\/ OPTIMIZE [0.001, 0.999]/' -e 's/^constexpr short PURCHASE_TURN_LIMIT = .*;  \\/\\/ OPTIMIZE \\[790, 870\\]$/constexpr short PURCHASE_TURN_LIMIT = 840;  \\/\\/ OPTIMIZE [790, 870]/' -e 's/^constexpr int ROUGH_HASH = .*;      \\/\\/ OPTIMIZE {0, 0b00000001, 0b00010001, 0b00010011, 0b00110011}$/constexpr int ROUGH_HASH = 0;      \\/\\/ OPTIMIZE {0, 0b00000001, 0b00010001, 0b00010011, 0b00110011}/' -e 's/^constexpr double TARGET_BEAM_WIDTH_INCREASE_RATE = .*;      \\/\\/ OPTIMIZE \\[0\\.25, 4\\.0\\] LOG$/constexpr double TARGET_BEAM_WIDTH_INCREASE_RATE = 3.9642730432407527;      \\/\\/ OPTIMIZE [0.25, 4.0] LOG/' -e 's/^constexpr double TARGET_BEAM_WIDTH_HALF_PROGRES_RATE = .*;  \\/\\/ OPTIMIZE \\[0\\.02, 0\\.98\\]$/constexpr double TARGET_BEAM_WIDTH_HALF_PROGRES_RATE = 0.4770181868018854;  \\/\\/ OPTIMIZE [0.02, 0.98]/' -e 's/^constexpr auto MAX_BEAM_WIDTH = .*;                        \\/\\/ OPTIMIZE \\[400, 4000\\] LOG$/constexpr auto MAX_BEAM_WIDTH = 664;                        \\/\\/ OPTIMIZE [400, 4000] LOG/'\n",
      "g++ 7_main.cpp -std=gnu++17 -O2 -DONLINE_JUDGE -o 7_main.cpp.out 2> /dev/null\n"
     ]
    },
    {
     "name": "stderr",
     "output_type": "stream",
     "text": [
      "\u001b[32m[I 2021-09-11 03:34:16,438]\u001b[0m Trial 208 finished with value: 988553929.0 and parameters: {'hash_table_size': 15, 'K_START': 0.06366189291296936, 'K_END': 0.055861371490983185, 'K_H': 0.6540243753433417, 'PURCHASE_TURN_LIMIT': 839, 'ROUGH_HASH': '0', 'TARGET_BEAM_WIDTH_INCREASE_RATE': 3.723389625923474, 'TARGET_BEAM_WIDTH_HALF_PROGRES_RATE': 0.47123771956132615, 'MAX_BEAM_WIDTH': 678}. Best is trial 204 with value: 1004499288.0.\u001b[0m\n"
     ]
    },
    {
     "name": "stdout",
     "output_type": "stream",
     "text": [
      "callback ok\n",
      "index_parallel=8\n",
      "sed -i 8_main.cpp -e 's/^constexpr int hash_table_size = .*;         \\/\\/ OPTIMIZE \\[9, 18\\]$/constexpr int hash_table_size = 9;         \\/\\/ OPTIMIZE [9, 18]/' -e 's/^constexpr double K_START = .*;  \\/\\/ OPTIMIZE \\[0\\.04, 0\\.2\\] LOG$/constexpr double K_START = 0.07366736568610345;  \\/\\/ OPTIMIZE [0.04, 0.2] LOG/' -e 's/^constexpr double K_END = .*;   \\/\\/ OPTIMIZE \\[0\\.03, 0\\.1\\] LOG$/constexpr double K_END = 0.05521754331551447;   \\/\\/ OPTIMIZE [0.03, 0.1] LOG/' -e 's/^constexpr double K_H = .*;      \\/\\/ OPTIMIZE \\[0\\.001, 0\\.999\\]$/constexpr double K_H = 0.6381927727796843;      \\/\\/ OPTIMIZE [0.001, 0.999]/' -e 's/^constexpr short PURCHASE_TURN_LIMIT = .*;  \\/\\/ OPTIMIZE \\[790, 870\\]$/constexpr short PURCHASE_TURN_LIMIT = 844;  \\/\\/ OPTIMIZE [790, 870]/' -e 's/^constexpr int ROUGH_HASH = .*;      \\/\\/ OPTIMIZE {0, 0b00000001, 0b00010001, 0b00010011, 0b00110011}$/constexpr int ROUGH_HASH = 0;      \\/\\/ OPTIMIZE {0, 0b00000001, 0b00010001, 0b00010011, 0b00110011}/' -e 's/^constexpr double TARGET_BEAM_WIDTH_INCREASE_RATE = .*;      \\/\\/ OPTIMIZE \\[0\\.25, 4\\.0\\] LOG$/constexpr double TARGET_BEAM_WIDTH_INCREASE_RATE = 3.9755643987347677;      \\/\\/ OPTIMIZE [0.25, 4.0] LOG/' -e 's/^constexpr double TARGET_BEAM_WIDTH_HALF_PROGRES_RATE = .*;  \\/\\/ OPTIMIZE \\[0\\.02, 0\\.98\\]$/constexpr double TARGET_BEAM_WIDTH_HALF_PROGRES_RATE = 0.49445917088504054;  \\/\\/ OPTIMIZE [0.02, 0.98]/' -e 's/^constexpr auto MAX_BEAM_WIDTH = .*;                        \\/\\/ OPTIMIZE \\[400, 4000\\] LOG$/constexpr auto MAX_BEAM_WIDTH = 611;                        \\/\\/ OPTIMIZE [400, 4000] LOG/'\n",
      "g++ 8_main.cpp -std=gnu++17 -O2 -DONLINE_JUDGE -o 8_main.cpp.out 2> /dev/null\n"
     ]
    },
    {
     "name": "stderr",
     "output_type": "stream",
     "text": [
      "\u001b[32m[I 2021-09-11 03:34:27,699]\u001b[0m Trial 209 finished with value: 1001444382.0 and parameters: {'hash_table_size': 9, 'K_START': 0.07365611898175568, 'K_END': 0.05588131372820233, 'K_H': 0.6328604053307512, 'PURCHASE_TURN_LIMIT': 839, 'ROUGH_HASH': '0', 'TARGET_BEAM_WIDTH_INCREASE_RATE': 3.7843314437704283, 'TARGET_BEAM_WIDTH_HALF_PROGRES_RATE': 0.47616940639511635, 'MAX_BEAM_WIDTH': 722}. Best is trial 204 with value: 1004499288.0.\u001b[0m\n"
     ]
    },
    {
     "name": "stdout",
     "output_type": "stream",
     "text": [
      "callback ok\n",
      "index_parallel=9\n",
      "sed -i 9_main.cpp -e 's/^constexpr int hash_table_size = .*;         \\/\\/ OPTIMIZE \\[9, 18\\]$/constexpr int hash_table_size = 9;         \\/\\/ OPTIMIZE [9, 18]/' -e 's/^constexpr double K_START = .*;  \\/\\/ OPTIMIZE \\[0\\.04, 0\\.2\\] LOG$/constexpr double K_START = 0.07479266543924384;  \\/\\/ OPTIMIZE [0.04, 0.2] LOG/' -e 's/^constexpr double K_END = .*;   \\/\\/ OPTIMIZE \\[0\\.03, 0\\.1\\] LOG$/constexpr double K_END = 0.05595715785767199;   \\/\\/ OPTIMIZE [0.03, 0.1] LOG/' -e 's/^constexpr double K_H = .*;      \\/\\/ OPTIMIZE \\[0\\.001, 0\\.999\\]$/constexpr double K_H = 0.6303087328096019;      \\/\\/ OPTIMIZE [0.001, 0.999]/' -e 's/^constexpr short PURCHASE_TURN_LIMIT = .*;  \\/\\/ OPTIMIZE \\[790, 870\\]$/constexpr short PURCHASE_TURN_LIMIT = 840;  \\/\\/ OPTIMIZE [790, 870]/' -e 's/^constexpr int ROUGH_HASH = .*;      \\/\\/ OPTIMIZE {0, 0b00000001, 0b00010001, 0b00010011, 0b00110011}$/constexpr int ROUGH_HASH = 0;      \\/\\/ OPTIMIZE {0, 0b00000001, 0b00010001, 0b00010011, 0b00110011}/' -e 's/^constexpr double TARGET_BEAM_WIDTH_INCREASE_RATE = .*;      \\/\\/ OPTIMIZE \\[0\\.25, 4\\.0\\] LOG$/constexpr double TARGET_BEAM_WIDTH_INCREASE_RATE = 3.756203314252137;      \\/\\/ OPTIMIZE [0.25, 4.0] LOG/' -e 's/^constexpr double TARGET_BEAM_WIDTH_HALF_PROGRES_RATE = .*;  \\/\\/ OPTIMIZE \\[0\\.02, 0\\.98\\]$/constexpr double TARGET_BEAM_WIDTH_HALF_PROGRES_RATE = 0.4887973898269477;  \\/\\/ OPTIMIZE [0.02, 0.98]/' -e 's/^constexpr auto MAX_BEAM_WIDTH = .*;                        \\/\\/ OPTIMIZE \\[400, 4000\\] LOG$/constexpr auto MAX_BEAM_WIDTH = 624;                        \\/\\/ OPTIMIZE [400, 4000] LOG/'\n",
      "g++ 9_main.cpp -std=gnu++17 -O2 -DONLINE_JUDGE -o 9_main.cpp.out 2> /dev/null\n"
     ]
    },
    {
     "name": "stderr",
     "output_type": "stream",
     "text": [
      "\u001b[32m[I 2021-09-11 03:34:41,674]\u001b[0m Trial 210 finished with value: 1005999086.0 and parameters: {'hash_table_size': 9, 'K_START': 0.07415555760496555, 'K_END': 0.05613945150609315, 'K_H': 0.6368655985376507, 'PURCHASE_TURN_LIMIT': 839, 'ROUGH_HASH': '0', 'TARGET_BEAM_WIDTH_INCREASE_RATE': 3.995492391575086, 'TARGET_BEAM_WIDTH_HALF_PROGRES_RATE': 0.4785065268346192, 'MAX_BEAM_WIDTH': 672}. Best is trial 210 with value: 1005999086.0.\u001b[0m\n"
     ]
    },
    {
     "name": "stdout",
     "output_type": "stream",
     "text": [
      "Updated! 1005999086.0\n",
      "callback ok\n",
      "index_parallel=10\n",
      "sed -i 10_main.cpp -e 's/^constexpr int hash_table_size = .*;         \\/\\/ OPTIMIZE \\[9, 18\\]$/constexpr int hash_table_size = 14;         \\/\\/ OPTIMIZE [9, 18]/' -e 's/^constexpr double K_START = .*;  \\/\\/ OPTIMIZE \\[0\\.04, 0\\.2\\] LOG$/constexpr double K_START = 0.07610188932517749;  \\/\\/ OPTIMIZE [0.04, 0.2] LOG/' -e 's/^constexpr double K_END = .*;   \\/\\/ OPTIMIZE \\[0\\.03, 0\\.1\\] LOG$/constexpr double K_END = 0.05622614661222147;   \\/\\/ OPTIMIZE [0.03, 0.1] LOG/' -e 's/^constexpr double K_H = .*;      \\/\\/ OPTIMIZE \\[0\\.001, 0\\.999\\]$/constexpr double K_H = 0.6324542261286071;      \\/\\/ OPTIMIZE [0.001, 0.999]/' -e 's/^constexpr short PURCHASE_TURN_LIMIT = .*;  \\/\\/ OPTIMIZE \\[790, 870\\]$/constexpr short PURCHASE_TURN_LIMIT = 838;  \\/\\/ OPTIMIZE [790, 870]/' -e 's/^constexpr int ROUGH_HASH = .*;      \\/\\/ OPTIMIZE {0, 0b00000001, 0b00010001, 0b00010011, 0b00110011}$/constexpr int ROUGH_HASH = 0;      \\/\\/ OPTIMIZE {0, 0b00000001, 0b00010001, 0b00010011, 0b00110011}/' -e 's/^constexpr double TARGET_BEAM_WIDTH_INCREASE_RATE = .*;      \\/\\/ OPTIMIZE \\[0\\.25, 4\\.0\\] LOG$/constexpr double TARGET_BEAM_WIDTH_INCREASE_RATE = 3.7503367440415833;      \\/\\/ OPTIMIZE [0.25, 4.0] LOG/' -e 's/^constexpr double TARGET_BEAM_WIDTH_HALF_PROGRES_RATE = .*;  \\/\\/ OPTIMIZE \\[0\\.02, 0\\.98\\]$/constexpr double TARGET_BEAM_WIDTH_HALF_PROGRES_RATE = 0.49169384198884186;  \\/\\/ OPTIMIZE [0.02, 0.98]/' -e 's/^constexpr auto MAX_BEAM_WIDTH = .*;                        \\/\\/ OPTIMIZE \\[400, 4000\\] LOG$/constexpr auto MAX_BEAM_WIDTH = 663;                        \\/\\/ OPTIMIZE [400, 4000] LOG/'\n",
      "g++ 10_main.cpp -std=gnu++17 -O2 -DONLINE_JUDGE -o 10_main.cpp.out 2> /dev/null\n"
     ]
    },
    {
     "name": "stderr",
     "output_type": "stream",
     "text": [
      "\u001b[32m[I 2021-09-11 03:34:48,991]\u001b[0m Trial 211 finished with value: 1000963021.0 and parameters: {'hash_table_size': 9, 'K_START': 0.07673615987371904, 'K_END': 0.055669307169565835, 'K_H': 0.63263593313212, 'PURCHASE_TURN_LIMIT': 840, 'ROUGH_HASH': '0', 'TARGET_BEAM_WIDTH_INCREASE_RATE': 3.9642730432407527, 'TARGET_BEAM_WIDTH_HALF_PROGRES_RATE': 0.4770181868018854, 'MAX_BEAM_WIDTH': 664}. Best is trial 210 with value: 1005999086.0.\u001b[0m\n"
     ]
    },
    {
     "name": "stdout",
     "output_type": "stream",
     "text": [
      "callback ok\n",
      "index_parallel=11\n",
      "sed -i 11_main.cpp -e 's/^constexpr int hash_table_size = .*;         \\/\\/ OPTIMIZE \\[9, 18\\]$/constexpr int hash_table_size = 9;         \\/\\/ OPTIMIZE [9, 18]/' -e 's/^constexpr double K_START = .*;  \\/\\/ OPTIMIZE \\[0\\.04, 0\\.2\\] LOG$/constexpr double K_START = 0.07597432353289009;  \\/\\/ OPTIMIZE [0.04, 0.2] LOG/' -e 's/^constexpr double K_END = .*;   \\/\\/ OPTIMIZE \\[0\\.03, 0\\.1\\] LOG$/constexpr double K_END = 0.0554007530992315;   \\/\\/ OPTIMIZE [0.03, 0.1] LOG/' -e 's/^constexpr double K_H = .*;      \\/\\/ OPTIMIZE \\[0\\.001, 0\\.999\\]$/constexpr double K_H = 0.6345401991455966;      \\/\\/ OPTIMIZE [0.001, 0.999]/' -e 's/^constexpr short PURCHASE_TURN_LIMIT = .*;  \\/\\/ OPTIMIZE \\[790, 870\\]$/constexpr short PURCHASE_TURN_LIMIT = 840;  \\/\\/ OPTIMIZE [790, 870]/' -e 's/^constexpr int ROUGH_HASH = .*;      \\/\\/ OPTIMIZE {0, 0b00000001, 0b00010001, 0b00010011, 0b00110011}$/constexpr int ROUGH_HASH = 0;      \\/\\/ OPTIMIZE {0, 0b00000001, 0b00010001, 0b00010011, 0b00110011}/' -e 's/^constexpr double TARGET_BEAM_WIDTH_INCREASE_RATE = .*;      \\/\\/ OPTIMIZE \\[0\\.25, 4\\.0\\] LOG$/constexpr double TARGET_BEAM_WIDTH_INCREASE_RATE = 3.7377061153806785;      \\/\\/ OPTIMIZE [0.25, 4.0] LOG/' -e 's/^constexpr double TARGET_BEAM_WIDTH_HALF_PROGRES_RATE = .*;  \\/\\/ OPTIMIZE \\[0\\.02, 0\\.98\\]$/constexpr double TARGET_BEAM_WIDTH_HALF_PROGRES_RATE = 0.4924737027524121;  \\/\\/ OPTIMIZE [0.02, 0.98]/' -e 's/^constexpr auto MAX_BEAM_WIDTH = .*;                        \\/\\/ OPTIMIZE \\[400, 4000\\] LOG$/constexpr auto MAX_BEAM_WIDTH = 629;                        \\/\\/ OPTIMIZE [400, 4000] LOG/'\n",
      "g++ 11_main.cpp -std=gnu++17 -O2 -DONLINE_JUDGE -o 11_main.cpp.out 2> /dev/null\n"
     ]
    },
    {
     "name": "stderr",
     "output_type": "stream",
     "text": [
      "\u001b[32m[I 2021-09-11 03:36:07,012]\u001b[0m Trial 212 finished with value: 1003927244.0 and parameters: {'hash_table_size': 9, 'K_START': 0.07366736568610345, 'K_END': 0.05521754331551447, 'K_H': 0.6381927727796843, 'PURCHASE_TURN_LIMIT': 844, 'ROUGH_HASH': '0', 'TARGET_BEAM_WIDTH_INCREASE_RATE': 3.9755643987347677, 'TARGET_BEAM_WIDTH_HALF_PROGRES_RATE': 0.49445917088504054, 'MAX_BEAM_WIDTH': 611}. Best is trial 210 with value: 1005999086.0.\u001b[0m\n"
     ]
    },
    {
     "name": "stdout",
     "output_type": "stream",
     "text": [
      "callback ok\n",
      "index_parallel=0\n",
      "sed -i 0_main.cpp -e 's/^constexpr int hash_table_size = .*;         \\/\\/ OPTIMIZE \\[9, 18\\]$/constexpr int hash_table_size = 9;         \\/\\/ OPTIMIZE [9, 18]/' -e 's/^constexpr double K_START = .*;  \\/\\/ OPTIMIZE \\[0\\.04, 0\\.2\\] LOG$/constexpr double K_START = 0.07684566522292001;  \\/\\/ OPTIMIZE [0.04, 0.2] LOG/' -e 's/^constexpr double K_END = .*;   \\/\\/ OPTIMIZE \\[0\\.03, 0\\.1\\] LOG$/constexpr double K_END = 0.055694664699313993;   \\/\\/ OPTIMIZE [0.03, 0.1] LOG/' -e 's/^constexpr double K_H = .*;      \\/\\/ OPTIMIZE \\[0\\.001, 0\\.999\\]$/constexpr double K_H = 0.6399404802196484;      \\/\\/ OPTIMIZE [0.001, 0.999]/' -e 's/^constexpr short PURCHASE_TURN_LIMIT = .*;  \\/\\/ OPTIMIZE \\[790, 870\\]$/constexpr short PURCHASE_TURN_LIMIT = 838;  \\/\\/ OPTIMIZE [790, 870]/' -e 's/^constexpr int ROUGH_HASH = .*;      \\/\\/ OPTIMIZE {0, 0b00000001, 0b00010001, 0b00010011, 0b00110011}$/constexpr int ROUGH_HASH = 0;      \\/\\/ OPTIMIZE {0, 0b00000001, 0b00010001, 0b00010011, 0b00110011}/' -e 's/^constexpr double TARGET_BEAM_WIDTH_INCREASE_RATE = .*;      \\/\\/ OPTIMIZE \\[0\\.25, 4\\.0\\] LOG$/constexpr double TARGET_BEAM_WIDTH_INCREASE_RATE = 3.766020386467783;      \\/\\/ OPTIMIZE [0.25, 4.0] LOG/' -e 's/^constexpr double TARGET_BEAM_WIDTH_HALF_PROGRES_RATE = .*;  \\/\\/ OPTIMIZE \\[0\\.02, 0\\.98\\]$/constexpr double TARGET_BEAM_WIDTH_HALF_PROGRES_RATE = 0.492054456097243;  \\/\\/ OPTIMIZE [0.02, 0.98]/' -e 's/^constexpr auto MAX_BEAM_WIDTH = .*;                        \\/\\/ OPTIMIZE \\[400, 4000\\] LOG$/constexpr auto MAX_BEAM_WIDTH = 596;                        \\/\\/ OPTIMIZE [400, 4000] LOG/'\n",
      "g++ 0_main.cpp -std=gnu++17 -O2 -DONLINE_JUDGE -o 0_main.cpp.out 2> /dev/null\n"
     ]
    },
    {
     "name": "stderr",
     "output_type": "stream",
     "text": [
      "\u001b[32m[I 2021-09-11 03:36:18,547]\u001b[0m Trial 213 finished with value: 1003234343.0 and parameters: {'hash_table_size': 9, 'K_START': 0.07479266543924384, 'K_END': 0.05595715785767199, 'K_H': 0.6303087328096019, 'PURCHASE_TURN_LIMIT': 840, 'ROUGH_HASH': '0', 'TARGET_BEAM_WIDTH_INCREASE_RATE': 3.756203314252137, 'TARGET_BEAM_WIDTH_HALF_PROGRES_RATE': 0.4887973898269477, 'MAX_BEAM_WIDTH': 624}. Best is trial 210 with value: 1005999086.0.\u001b[0m\n"
     ]
    },
    {
     "name": "stdout",
     "output_type": "stream",
     "text": [
      "callback ok\n",
      "index_parallel=1\n",
      "sed -i 1_main.cpp -e 's/^constexpr int hash_table_size = .*;         \\/\\/ OPTIMIZE \\[9, 18\\]$/constexpr int hash_table_size = 9;         \\/\\/ OPTIMIZE [9, 18]/' -e 's/^constexpr double K_START = .*;  \\/\\/ OPTIMIZE \\[0\\.04, 0\\.2\\] LOG$/constexpr double K_START = 0.07530102560220216;  \\/\\/ OPTIMIZE [0.04, 0.2] LOG/' -e 's/^constexpr double K_END = .*;   \\/\\/ OPTIMIZE \\[0\\.03, 0\\.1\\] LOG$/constexpr double K_END = 0.0555767974115814;   \\/\\/ OPTIMIZE [0.03, 0.1] LOG/' -e 's/^constexpr double K_H = .*;      \\/\\/ OPTIMIZE \\[0\\.001, 0\\.999\\]$/constexpr double K_H = 0.6371595086849972;      \\/\\/ OPTIMIZE [0.001, 0.999]/' -e 's/^constexpr short PURCHASE_TURN_LIMIT = .*;  \\/\\/ OPTIMIZE \\[790, 870\\]$/constexpr short PURCHASE_TURN_LIMIT = 840;  \\/\\/ OPTIMIZE [790, 870]/' -e 's/^constexpr int ROUGH_HASH = .*;      \\/\\/ OPTIMIZE {0, 0b00000001, 0b00010001, 0b00010011, 0b00110011}$/constexpr int ROUGH_HASH = 0;      \\/\\/ OPTIMIZE {0, 0b00000001, 0b00010001, 0b00010011, 0b00110011}/' -e 's/^constexpr double TARGET_BEAM_WIDTH_INCREASE_RATE = .*;      \\/\\/ OPTIMIZE \\[0\\.25, 4\\.0\\] LOG$/constexpr double TARGET_BEAM_WIDTH_INCREASE_RATE = 3.765926304366272;      \\/\\/ OPTIMIZE [0.25, 4.0] LOG/' -e 's/^constexpr double TARGET_BEAM_WIDTH_HALF_PROGRES_RATE = .*;  \\/\\/ OPTIMIZE \\[0\\.02, 0\\.98\\]$/constexpr double TARGET_BEAM_WIDTH_HALF_PROGRES_RATE = 0.48219590563864045;  \\/\\/ OPTIMIZE [0.02, 0.98]/' -e 's/^constexpr auto MAX_BEAM_WIDTH = .*;                        \\/\\/ OPTIMIZE \\[400, 4000\\] LOG$/constexpr auto MAX_BEAM_WIDTH = 546;                        \\/\\/ OPTIMIZE [400, 4000] LOG/'\n",
      "g++ 1_main.cpp -std=gnu++17 -O2 -DONLINE_JUDGE -o 1_main.cpp.out 2> /dev/null\n"
     ]
    },
    {
     "name": "stderr",
     "output_type": "stream",
     "text": [
      "\u001b[32m[I 2021-09-11 03:36:33,205]\u001b[0m Trial 214 finished with value: 995922150.0 and parameters: {'hash_table_size': 14, 'K_START': 0.07610188932517749, 'K_END': 0.05622614661222147, 'K_H': 0.6324542261286071, 'PURCHASE_TURN_LIMIT': 838, 'ROUGH_HASH': '0', 'TARGET_BEAM_WIDTH_INCREASE_RATE': 3.7503367440415833, 'TARGET_BEAM_WIDTH_HALF_PROGRES_RATE': 0.49169384198884186, 'MAX_BEAM_WIDTH': 663}. Best is trial 210 with value: 1005999086.0.\u001b[0m\n"
     ]
    },
    {
     "name": "stdout",
     "output_type": "stream",
     "text": [
      "callback ok\n",
      "index_parallel=2\n",
      "sed -i 2_main.cpp -e 's/^constexpr int hash_table_size = .*;         \\/\\/ OPTIMIZE \\[9, 18\\]$/constexpr int hash_table_size = 9;         \\/\\/ OPTIMIZE [9, 18]/' -e 's/^constexpr double K_START = .*;  \\/\\/ OPTIMIZE \\[0\\.04, 0\\.2\\] LOG$/constexpr double K_START = 0.0737117499861572;  \\/\\/ OPTIMIZE [0.04, 0.2] LOG/' -e 's/^constexpr double K_END = .*;   \\/\\/ OPTIMIZE \\[0\\.03, 0\\.1\\] LOG$/constexpr double K_END = 0.05564774694657766;   \\/\\/ OPTIMIZE [0.03, 0.1] LOG/' -e 's/^constexpr double K_H = .*;      \\/\\/ OPTIMIZE \\[0\\.001, 0\\.999\\]$/constexpr double K_H = 0.6734118178655941;      \\/\\/ OPTIMIZE [0.001, 0.999]/' -e 's/^constexpr short PURCHASE_TURN_LIMIT = .*;  \\/\\/ OPTIMIZE \\[790, 870\\]$/constexpr short PURCHASE_TURN_LIMIT = 840;  \\/\\/ OPTIMIZE [790, 870]/' -e 's/^constexpr int ROUGH_HASH = .*;      \\/\\/ OPTIMIZE {0, 0b00000001, 0b00010001, 0b00010011, 0b00110011}$/constexpr int ROUGH_HASH = 0;      \\/\\/ OPTIMIZE {0, 0b00000001, 0b00010001, 0b00010011, 0b00110011}/' -e 's/^constexpr double TARGET_BEAM_WIDTH_INCREASE_RATE = .*;      \\/\\/ OPTIMIZE \\[0\\.25, 4\\.0\\] LOG$/constexpr double TARGET_BEAM_WIDTH_INCREASE_RATE = 3.990087219009428;      \\/\\/ OPTIMIZE [0.25, 4.0] LOG/' -e 's/^constexpr double TARGET_BEAM_WIDTH_HALF_PROGRES_RATE = .*;  \\/\\/ OPTIMIZE \\[0\\.02, 0\\.98\\]$/constexpr double TARGET_BEAM_WIDTH_HALF_PROGRES_RATE = 0.4674155397584594;  \\/\\/ OPTIMIZE [0.02, 0.98]/' -e 's/^constexpr auto MAX_BEAM_WIDTH = .*;                        \\/\\/ OPTIMIZE \\[400, 4000\\] LOG$/constexpr auto MAX_BEAM_WIDTH = 637;                        \\/\\/ OPTIMIZE [400, 4000] LOG/'\n",
      "g++ 2_main.cpp -std=gnu++17 -O2 -DONLINE_JUDGE -o 2_main.cpp.out 2> /dev/null\n"
     ]
    },
    {
     "name": "stderr",
     "output_type": "stream",
     "text": [
      "\u001b[32m[I 2021-09-11 03:36:40,069]\u001b[0m Trial 215 finished with value: 1002589562.0 and parameters: {'hash_table_size': 9, 'K_START': 0.07597432353289009, 'K_END': 0.0554007530992315, 'K_H': 0.6345401991455966, 'PURCHASE_TURN_LIMIT': 840, 'ROUGH_HASH': '0', 'TARGET_BEAM_WIDTH_INCREASE_RATE': 3.7377061153806785, 'TARGET_BEAM_WIDTH_HALF_PROGRES_RATE': 0.4924737027524121, 'MAX_BEAM_WIDTH': 629}. Best is trial 210 with value: 1005999086.0.\u001b[0m\n"
     ]
    },
    {
     "name": "stdout",
     "output_type": "stream",
     "text": [
      "callback ok\n",
      "index_parallel=3\n",
      "sed -i 3_main.cpp -e 's/^constexpr int hash_table_size = .*;         \\/\\/ OPTIMIZE \\[9, 18\\]$/constexpr int hash_table_size = 9;         \\/\\/ OPTIMIZE [9, 18]/' -e 's/^constexpr double K_START = .*;  \\/\\/ OPTIMIZE \\[0\\.04, 0\\.2\\] LOG$/constexpr double K_START = 0.07328936759863218;  \\/\\/ OPTIMIZE [0.04, 0.2] LOG/' -e 's/^constexpr double K_END = .*;   \\/\\/ OPTIMIZE \\[0\\.03, 0\\.1\\] LOG$/constexpr double K_END = 0.05591789590007465;   \\/\\/ OPTIMIZE [0.03, 0.1] LOG/' -e 's/^constexpr double K_H = .*;      \\/\\/ OPTIMIZE \\[0\\.001, 0\\.999\\]$/constexpr double K_H = 0.6432216391484499;      \\/\\/ OPTIMIZE [0.001, 0.999]/' -e 's/^constexpr short PURCHASE_TURN_LIMIT = .*;  \\/\\/ OPTIMIZE \\[790, 870\\]$/constexpr short PURCHASE_TURN_LIMIT = 840;  \\/\\/ OPTIMIZE [790, 870]/' -e 's/^constexpr int ROUGH_HASH = .*;      \\/\\/ OPTIMIZE {0, 0b00000001, 0b00010001, 0b00010011, 0b00110011}$/constexpr int ROUGH_HASH = 0;      \\/\\/ OPTIMIZE {0, 0b00000001, 0b00010001, 0b00010011, 0b00110011}/' -e 's/^constexpr double TARGET_BEAM_WIDTH_INCREASE_RATE = .*;      \\/\\/ OPTIMIZE \\[0\\.25, 4\\.0\\] LOG$/constexpr double TARGET_BEAM_WIDTH_INCREASE_RATE = 3.7270082350014615;      \\/\\/ OPTIMIZE [0.25, 4.0] LOG/' -e 's/^constexpr double TARGET_BEAM_WIDTH_HALF_PROGRES_RATE = .*;  \\/\\/ OPTIMIZE \\[0\\.02, 0\\.98\\]$/constexpr double TARGET_BEAM_WIDTH_HALF_PROGRES_RATE = 0.4720606472164599;  \\/\\/ OPTIMIZE [0.02, 0.98]/' -e 's/^constexpr auto MAX_BEAM_WIDTH = .*;                        \\/\\/ OPTIMIZE \\[400, 4000\\] LOG$/constexpr auto MAX_BEAM_WIDTH = 602;                        \\/\\/ OPTIMIZE [400, 4000] LOG/'\n",
      "g++ 3_main.cpp -std=gnu++17 -O2 -DONLINE_JUDGE -o 3_main.cpp.out 2> /dev/null\n"
     ]
    },
    {
     "name": "stderr",
     "output_type": "stream",
     "text": [
      "\u001b[32m[I 2021-09-11 03:37:57,984]\u001b[0m Trial 216 finished with value: 1007263419.0 and parameters: {'hash_table_size': 9, 'K_START': 0.07684566522292001, 'K_END': 0.055694664699313993, 'K_H': 0.6399404802196484, 'PURCHASE_TURN_LIMIT': 838, 'ROUGH_HASH': '0', 'TARGET_BEAM_WIDTH_INCREASE_RATE': 3.766020386467783, 'TARGET_BEAM_WIDTH_HALF_PROGRES_RATE': 0.492054456097243, 'MAX_BEAM_WIDTH': 596}. Best is trial 216 with value: 1007263419.0.\u001b[0m\n"
     ]
    },
    {
     "name": "stdout",
     "output_type": "stream",
     "text": [
      "Updated! 1007263419.0\n",
      "callback ok\n",
      "index_parallel=4\n",
      "sed -i 4_main.cpp -e 's/^constexpr int hash_table_size = .*;         \\/\\/ OPTIMIZE \\[9, 18\\]$/constexpr int hash_table_size = 9;         \\/\\/ OPTIMIZE [9, 18]/' -e 's/^constexpr double K_START = .*;  \\/\\/ OPTIMIZE \\[0\\.04, 0\\.2\\] LOG$/constexpr double K_START = 0.07735556545025812;  \\/\\/ OPTIMIZE [0.04, 0.2] LOG/' -e 's/^constexpr double K_END = .*;   \\/\\/ OPTIMIZE \\[0\\.03, 0\\.1\\] LOG$/constexpr double K_END = 0.05686372401810789;   \\/\\/ OPTIMIZE [0.03, 0.1] LOG/' -e 's/^constexpr double K_H = .*;      \\/\\/ OPTIMIZE \\[0\\.001, 0\\.999\\]$/constexpr double K_H = 0.6437775896612423;      \\/\\/ OPTIMIZE [0.001, 0.999]/' -e 's/^constexpr short PURCHASE_TURN_LIMIT = .*;  \\/\\/ OPTIMIZE \\[790, 870\\]$/constexpr short PURCHASE_TURN_LIMIT = 840;  \\/\\/ OPTIMIZE [790, 870]/' -e 's/^constexpr int ROUGH_HASH = .*;      \\/\\/ OPTIMIZE {0, 0b00000001, 0b00010001, 0b00010011, 0b00110011}$/constexpr int ROUGH_HASH = 0;      \\/\\/ OPTIMIZE {0, 0b00000001, 0b00010001, 0b00010011, 0b00110011}/' -e 's/^constexpr double TARGET_BEAM_WIDTH_INCREASE_RATE = .*;      \\/\\/ OPTIMIZE \\[0\\.25, 4\\.0\\] LOG$/constexpr double TARGET_BEAM_WIDTH_INCREASE_RATE = 3.7185784968599336;      \\/\\/ OPTIMIZE [0.25, 4.0] LOG/' -e 's/^constexpr double TARGET_BEAM_WIDTH_HALF_PROGRES_RATE = .*;  \\/\\/ OPTIMIZE \\[0\\.02, 0\\.98\\]$/constexpr double TARGET_BEAM_WIDTH_HALF_PROGRES_RATE = 0.4679656542420343;  \\/\\/ OPTIMIZE [0.02, 0.98]/' -e 's/^constexpr auto MAX_BEAM_WIDTH = .*;                        \\/\\/ OPTIMIZE \\[400, 4000\\] LOG$/constexpr auto MAX_BEAM_WIDTH = 552;                        \\/\\/ OPTIMIZE [400, 4000] LOG/'\n",
      "g++ 4_main.cpp -std=gnu++17 -O2 -DONLINE_JUDGE -o 4_main.cpp.out 2> /dev/null\n"
     ]
    },
    {
     "name": "stderr",
     "output_type": "stream",
     "text": [
      "\u001b[32m[I 2021-09-11 03:38:10,065]\u001b[0m Trial 217 finished with value: 1003032748.0 and parameters: {'hash_table_size': 9, 'K_START': 0.07530102560220216, 'K_END': 0.0555767974115814, 'K_H': 0.6371595086849972, 'PURCHASE_TURN_LIMIT': 840, 'ROUGH_HASH': '0', 'TARGET_BEAM_WIDTH_INCREASE_RATE': 3.765926304366272, 'TARGET_BEAM_WIDTH_HALF_PROGRES_RATE': 0.48219590563864045, 'MAX_BEAM_WIDTH': 546}. Best is trial 216 with value: 1007263419.0.\u001b[0m\n"
     ]
    },
    {
     "name": "stdout",
     "output_type": "stream",
     "text": [
      "callback ok\n",
      "index_parallel=5\n",
      "sed -i 5_main.cpp -e 's/^constexpr int hash_table_size = .*;         \\/\\/ OPTIMIZE \\[9, 18\\]$/constexpr int hash_table_size = 9;         \\/\\/ OPTIMIZE [9, 18]/' -e 's/^constexpr double K_START = .*;  \\/\\/ OPTIMIZE \\[0\\.04, 0\\.2\\] LOG$/constexpr double K_START = 0.07713441050125112;  \\/\\/ OPTIMIZE [0.04, 0.2] LOG/' -e 's/^constexpr double K_END = .*;   \\/\\/ OPTIMIZE \\[0\\.03, 0\\.1\\] LOG$/constexpr double K_END = 0.056722309554261836;   \\/\\/ OPTIMIZE [0.03, 0.1] LOG/' -e 's/^constexpr double K_H = .*;      \\/\\/ OPTIMIZE \\[0\\.001, 0\\.999\\]$/constexpr double K_H = 0.6378122392567168;      \\/\\/ OPTIMIZE [0.001, 0.999]/' -e 's/^constexpr short PURCHASE_TURN_LIMIT = .*;  \\/\\/ OPTIMIZE \\[790, 870\\]$/constexpr short PURCHASE_TURN_LIMIT = 840;  \\/\\/ OPTIMIZE [790, 870]/' -e 's/^constexpr int ROUGH_HASH = .*;      \\/\\/ OPTIMIZE {0, 0b00000001, 0b00010001, 0b00010011, 0b00110011}$/constexpr int ROUGH_HASH = 0;      \\/\\/ OPTIMIZE {0, 0b00000001, 0b00010001, 0b00010011, 0b00110011}/' -e 's/^constexpr double TARGET_BEAM_WIDTH_INCREASE_RATE = .*;      \\/\\/ OPTIMIZE \\[0\\.25, 4\\.0\\] LOG$/constexpr double TARGET_BEAM_WIDTH_INCREASE_RATE = 3.9983743045720384;      \\/\\/ OPTIMIZE [0.25, 4.0] LOG/' -e 's/^constexpr double TARGET_BEAM_WIDTH_HALF_PROGRES_RATE = .*;  \\/\\/ OPTIMIZE \\[0\\.02, 0\\.98\\]$/constexpr double TARGET_BEAM_WIDTH_HALF_PROGRES_RATE = 0.46912396922775884;  \\/\\/ OPTIMIZE [0.02, 0.98]/' -e 's/^constexpr auto MAX_BEAM_WIDTH = .*;                        \\/\\/ OPTIMIZE \\[400, 4000\\] LOG$/constexpr auto MAX_BEAM_WIDTH = 525;                        \\/\\/ OPTIMIZE [400, 4000] LOG/'\n",
      "g++ 5_main.cpp -std=gnu++17 -O2 -DONLINE_JUDGE -o 5_main.cpp.out 2> /dev/null\n"
     ]
    },
    {
     "name": "stderr",
     "output_type": "stream",
     "text": [
      "\u001b[32m[I 2021-09-11 03:38:24,573]\u001b[0m Trial 218 finished with value: 1001380595.0 and parameters: {'hash_table_size': 9, 'K_START': 0.0737117499861572, 'K_END': 0.05564774694657766, 'K_H': 0.6734118178655941, 'PURCHASE_TURN_LIMIT': 840, 'ROUGH_HASH': '0', 'TARGET_BEAM_WIDTH_INCREASE_RATE': 3.990087219009428, 'TARGET_BEAM_WIDTH_HALF_PROGRES_RATE': 0.4674155397584594, 'MAX_BEAM_WIDTH': 637}. Best is trial 216 with value: 1007263419.0.\u001b[0m\n"
     ]
    },
    {
     "name": "stdout",
     "output_type": "stream",
     "text": [
      "callback ok\n",
      "index_parallel=6\n",
      "sed -i 6_main.cpp -e 's/^constexpr int hash_table_size = .*;         \\/\\/ OPTIMIZE \\[9, 18\\]$/constexpr int hash_table_size = 9;         \\/\\/ OPTIMIZE [9, 18]/' -e 's/^constexpr double K_START = .*;  \\/\\/ OPTIMIZE \\[0\\.04, 0\\.2\\] LOG$/constexpr double K_START = 0.07688687889711891;  \\/\\/ OPTIMIZE [0.04, 0.2] LOG/' -e 's/^constexpr double K_END = .*;   \\/\\/ OPTIMIZE \\[0\\.03, 0\\.1\\] LOG$/constexpr double K_END = 0.056219977071604595;   \\/\\/ OPTIMIZE [0.03, 0.1] LOG/' -e 's/^constexpr double K_H = .*;      \\/\\/ OPTIMIZE \\[0\\.001, 0\\.999\\]$/constexpr double K_H = 0.6672961259353881;      \\/\\/ OPTIMIZE [0.001, 0.999]/' -e 's/^constexpr short PURCHASE_TURN_LIMIT = .*;  \\/\\/ OPTIMIZE \\[790, 870\\]$/constexpr short PURCHASE_TURN_LIMIT = 840;  \\/\\/ OPTIMIZE [790, 870]/' -e 's/^constexpr int ROUGH_HASH = .*;      \\/\\/ OPTIMIZE {0, 0b00000001, 0b00010001, 0b00010011, 0b00110011}$/constexpr int ROUGH_HASH = 0;      \\/\\/ OPTIMIZE {0, 0b00000001, 0b00010001, 0b00010011, 0b00110011}/' -e 's/^constexpr double TARGET_BEAM_WIDTH_INCREASE_RATE = .*;      \\/\\/ OPTIMIZE \\[0\\.25, 4\\.0\\] LOG$/constexpr double TARGET_BEAM_WIDTH_INCREASE_RATE = 3.7422593993312714;      \\/\\/ OPTIMIZE [0.25, 4.0] LOG/' -e 's/^constexpr double TARGET_BEAM_WIDTH_HALF_PROGRES_RATE = .*;  \\/\\/ OPTIMIZE \\[0\\.02, 0\\.98\\]$/constexpr double TARGET_BEAM_WIDTH_HALF_PROGRES_RATE = 0.4494127569968977;  \\/\\/ OPTIMIZE [0.02, 0.98]/' -e 's/^constexpr auto MAX_BEAM_WIDTH = .*;                        \\/\\/ OPTIMIZE \\[400, 4000\\] LOG$/constexpr auto MAX_BEAM_WIDTH = 595;                        \\/\\/ OPTIMIZE [400, 4000] LOG/'\n",
      "g++ 6_main.cpp -std=gnu++17 -O2 -DONLINE_JUDGE -o 6_main.cpp.out 2> /dev/null\n"
     ]
    },
    {
     "name": "stderr",
     "output_type": "stream",
     "text": [
      "\u001b[32m[I 2021-09-11 03:38:31,601]\u001b[0m Trial 219 finished with value: 1001024303.0 and parameters: {'hash_table_size': 9, 'K_START': 0.07328936759863218, 'K_END': 0.05591789590007465, 'K_H': 0.6432216391484499, 'PURCHASE_TURN_LIMIT': 840, 'ROUGH_HASH': '0', 'TARGET_BEAM_WIDTH_INCREASE_RATE': 3.7270082350014615, 'TARGET_BEAM_WIDTH_HALF_PROGRES_RATE': 0.4720606472164599, 'MAX_BEAM_WIDTH': 602}. Best is trial 216 with value: 1007263419.0.\u001b[0m\n"
     ]
    },
    {
     "name": "stdout",
     "output_type": "stream",
     "text": [
      "callback ok\n",
      "index_parallel=7\n",
      "sed -i 7_main.cpp -e 's/^constexpr int hash_table_size = .*;         \\/\\/ OPTIMIZE \\[9, 18\\]$/constexpr int hash_table_size = 9;         \\/\\/ OPTIMIZE [9, 18]/' -e 's/^constexpr double K_START = .*;  \\/\\/ OPTIMIZE \\[0\\.04, 0\\.2\\] LOG$/constexpr double K_START = 0.07744511933030121;  \\/\\/ OPTIMIZE [0.04, 0.2] LOG/' -e 's/^constexpr double K_END = .*;   \\/\\/ OPTIMIZE \\[0\\.03, 0\\.1\\] LOG$/constexpr double K_END = 0.05127356665790762;   \\/\\/ OPTIMIZE [0.03, 0.1] LOG/' -e 's/^constexpr double K_H = .*;      \\/\\/ OPTIMIZE \\[0\\.001, 0\\.999\\]$/constexpr double K_H = 0.6441807567739075;      \\/\\/ OPTIMIZE [0.001, 0.999]/' -e 's/^constexpr short PURCHASE_TURN_LIMIT = .*;  \\/\\/ OPTIMIZE \\[790, 870\\]$/constexpr short PURCHASE_TURN_LIMIT = 840;  \\/\\/ OPTIMIZE [790, 870]/' -e 's/^constexpr int ROUGH_HASH = .*;      \\/\\/ OPTIMIZE {0, 0b00000001, 0b00010001, 0b00010011, 0b00110011}$/constexpr int ROUGH_HASH = 0;      \\/\\/ OPTIMIZE {0, 0b00000001, 0b00010001, 0b00010011, 0b00110011}/' -e 's/^constexpr double TARGET_BEAM_WIDTH_INCREASE_RATE = .*;      \\/\\/ OPTIMIZE \\[0\\.25, 4\\.0\\] LOG$/constexpr double TARGET_BEAM_WIDTH_INCREASE_RATE = 3.724010574082096;      \\/\\/ OPTIMIZE [0.25, 4.0] LOG/' -e 's/^constexpr double TARGET_BEAM_WIDTH_HALF_PROGRES_RATE = .*;  \\/\\/ OPTIMIZE \\[0\\.02, 0\\.98\\]$/constexpr double TARGET_BEAM_WIDTH_HALF_PROGRES_RATE = 0.47076192697599006;  \\/\\/ OPTIMIZE [0.02, 0.98]/' -e 's/^constexpr auto MAX_BEAM_WIDTH = .*;                        \\/\\/ OPTIMIZE \\[400, 4000\\] LOG$/constexpr auto MAX_BEAM_WIDTH = 525;                        \\/\\/ OPTIMIZE [400, 4000] LOG/'\n",
      "g++ 7_main.cpp -std=gnu++17 -O2 -DONLINE_JUDGE -o 7_main.cpp.out 2> /dev/null\n"
     ]
    },
    {
     "name": "stderr",
     "output_type": "stream",
     "text": [
      "\u001b[32m[I 2021-09-11 03:39:49,393]\u001b[0m Trial 220 finished with value: 1000585643.0 and parameters: {'hash_table_size': 9, 'K_START': 0.07735556545025812, 'K_END': 0.05686372401810789, 'K_H': 0.6437775896612423, 'PURCHASE_TURN_LIMIT': 840, 'ROUGH_HASH': '0', 'TARGET_BEAM_WIDTH_INCREASE_RATE': 3.7185784968599336, 'TARGET_BEAM_WIDTH_HALF_PROGRES_RATE': 0.4679656542420343, 'MAX_BEAM_WIDTH': 552}. Best is trial 216 with value: 1007263419.0.\u001b[0m\n"
     ]
    },
    {
     "name": "stdout",
     "output_type": "stream",
     "text": [
      "callback ok\n",
      "index_parallel=8\n",
      "sed -i 8_main.cpp -e 's/^constexpr int hash_table_size = .*;         \\/\\/ OPTIMIZE \\[9, 18\\]$/constexpr int hash_table_size = 9;         \\/\\/ OPTIMIZE [9, 18]/' -e 's/^constexpr double K_START = .*;  \\/\\/ OPTIMIZE \\[0\\.04, 0\\.2\\] LOG$/constexpr double K_START = 0.07691480938638301;  \\/\\/ OPTIMIZE [0.04, 0.2] LOG/' -e 's/^constexpr double K_END = .*;   \\/\\/ OPTIMIZE \\[0\\.03, 0\\.1\\] LOG$/constexpr double K_END = 0.05558250922459322;   \\/\\/ OPTIMIZE [0.03, 0.1] LOG/' -e 's/^constexpr double K_H = .*;      \\/\\/ OPTIMIZE \\[0\\.001, 0\\.999\\]$/constexpr double K_H = 0.6442241239755778;      \\/\\/ OPTIMIZE [0.001, 0.999]/' -e 's/^constexpr short PURCHASE_TURN_LIMIT = .*;  \\/\\/ OPTIMIZE \\[790, 870\\]$/constexpr short PURCHASE_TURN_LIMIT = 840;  \\/\\/ OPTIMIZE [790, 870]/' -e 's/^constexpr int ROUGH_HASH = .*;      \\/\\/ OPTIMIZE {0, 0b00000001, 0b00010001, 0b00010011, 0b00110011}$/constexpr int ROUGH_HASH = 0;      \\/\\/ OPTIMIZE {0, 0b00000001, 0b00010001, 0b00010011, 0b00110011}/' -e 's/^constexpr double TARGET_BEAM_WIDTH_INCREASE_RATE = .*;      \\/\\/ OPTIMIZE \\[0\\.25, 4\\.0\\] LOG$/constexpr double TARGET_BEAM_WIDTH_INCREASE_RATE = 3.7412928429126846;      \\/\\/ OPTIMIZE [0.25, 4.0] LOG/' -e 's/^constexpr double TARGET_BEAM_WIDTH_HALF_PROGRES_RATE = .*;  \\/\\/ OPTIMIZE \\[0\\.02, 0\\.98\\]$/constexpr double TARGET_BEAM_WIDTH_HALF_PROGRES_RATE = 0.4680583369467877;  \\/\\/ OPTIMIZE [0.02, 0.98]/' -e 's/^constexpr auto MAX_BEAM_WIDTH = .*;                        \\/\\/ OPTIMIZE \\[400, 4000\\] LOG$/constexpr auto MAX_BEAM_WIDTH = 545;                        \\/\\/ OPTIMIZE [400, 4000] LOG/'\n",
      "g++ 8_main.cpp -std=gnu++17 -O2 -DONLINE_JUDGE -o 8_main.cpp.out 2> /dev/null\n"
     ]
    },
    {
     "name": "stderr",
     "output_type": "stream",
     "text": [
      "\u001b[32m[I 2021-09-11 03:40:01,636]\u001b[0m Trial 221 finished with value: 1002362390.0 and parameters: {'hash_table_size': 9, 'K_START': 0.07713441050125112, 'K_END': 0.056722309554261836, 'K_H': 0.6378122392567168, 'PURCHASE_TURN_LIMIT': 840, 'ROUGH_HASH': '0', 'TARGET_BEAM_WIDTH_INCREASE_RATE': 3.9983743045720384, 'TARGET_BEAM_WIDTH_HALF_PROGRES_RATE': 0.46912396922775884, 'MAX_BEAM_WIDTH': 525}. Best is trial 216 with value: 1007263419.0.\u001b[0m\n"
     ]
    },
    {
     "name": "stdout",
     "output_type": "stream",
     "text": [
      "callback ok\n",
      "index_parallel=9\n",
      "sed -i 9_main.cpp -e 's/^constexpr int hash_table_size = .*;         \\/\\/ OPTIMIZE \\[9, 18\\]$/constexpr int hash_table_size = 9;         \\/\\/ OPTIMIZE [9, 18]/' -e 's/^constexpr double K_START = .*;  \\/\\/ OPTIMIZE \\[0\\.04, 0\\.2\\] LOG$/constexpr double K_START = 0.07674760824008077;  \\/\\/ OPTIMIZE [0.04, 0.2] LOG/' -e 's/^constexpr double K_END = .*;   \\/\\/ OPTIMIZE \\[0\\.03, 0\\.1\\] LOG$/constexpr double K_END = 0.05530172449971638;   \\/\\/ OPTIMIZE [0.03, 0.1] LOG/' -e 's/^constexpr double K_H = .*;      \\/\\/ OPTIMIZE \\[0\\.001, 0\\.999\\]$/constexpr double K_H = 0.6403694630465172;      \\/\\/ OPTIMIZE [0.001, 0.999]/' -e 's/^constexpr short PURCHASE_TURN_LIMIT = .*;  \\/\\/ OPTIMIZE \\[790, 870\\]$/constexpr short PURCHASE_TURN_LIMIT = 840;  \\/\\/ OPTIMIZE [790, 870]/' -e 's/^constexpr int ROUGH_HASH = .*;      \\/\\/ OPTIMIZE {0, 0b00000001, 0b00010001, 0b00010011, 0b00110011}$/constexpr int ROUGH_HASH = 0;      \\/\\/ OPTIMIZE {0, 0b00000001, 0b00010001, 0b00010011, 0b00110011}/' -e 's/^constexpr double TARGET_BEAM_WIDTH_INCREASE_RATE = .*;      \\/\\/ OPTIMIZE \\[0\\.25, 4\\.0\\] LOG$/constexpr double TARGET_BEAM_WIDTH_INCREASE_RATE = 3.7363759650990005;      \\/\\/ OPTIMIZE [0.25, 4.0] LOG/' -e 's/^constexpr double TARGET_BEAM_WIDTH_HALF_PROGRES_RATE = .*;  \\/\\/ OPTIMIZE \\[0\\.02, 0\\.98\\]$/constexpr double TARGET_BEAM_WIDTH_HALF_PROGRES_RATE = 0.4455404370339155;  \\/\\/ OPTIMIZE [0.02, 0.98]/' -e 's/^constexpr auto MAX_BEAM_WIDTH = .*;                        \\/\\/ OPTIMIZE \\[400, 4000\\] LOG$/constexpr auto MAX_BEAM_WIDTH = 550;                        \\/\\/ OPTIMIZE [400, 4000] LOG/'\n",
      "g++ 9_main.cpp -std=gnu++17 -O2 -DONLINE_JUDGE -o 9_main.cpp.out 2> /dev/null\n"
     ]
    },
    {
     "name": "stderr",
     "output_type": "stream",
     "text": [
      "\u001b[32m[I 2021-09-11 03:40:15,880]\u001b[0m Trial 222 finished with value: 1000408558.0 and parameters: {'hash_table_size': 9, 'K_START': 0.07688687889711891, 'K_END': 0.056219977071604595, 'K_H': 0.6672961259353881, 'PURCHASE_TURN_LIMIT': 840, 'ROUGH_HASH': '0', 'TARGET_BEAM_WIDTH_INCREASE_RATE': 3.7422593993312714, 'TARGET_BEAM_WIDTH_HALF_PROGRES_RATE': 0.4494127569968977, 'MAX_BEAM_WIDTH': 595}. Best is trial 216 with value: 1007263419.0.\u001b[0m\n"
     ]
    },
    {
     "name": "stdout",
     "output_type": "stream",
     "text": [
      "callback ok\n",
      "index_parallel=10\n",
      "sed -i 10_main.cpp -e 's/^constexpr int hash_table_size = .*;         \\/\\/ OPTIMIZE \\[9, 18\\]$/constexpr int hash_table_size = 9;         \\/\\/ OPTIMIZE [9, 18]/' -e 's/^constexpr double K_START = .*;  \\/\\/ OPTIMIZE \\[0\\.04, 0\\.2\\] LOG$/constexpr double K_START = 0.0743370335936659;  \\/\\/ OPTIMIZE [0.04, 0.2] LOG/' -e 's/^constexpr double K_END = .*;   \\/\\/ OPTIMIZE \\[0\\.03, 0\\.1\\] LOG$/constexpr double K_END = 0.05535767726968692;   \\/\\/ OPTIMIZE [0.03, 0.1] LOG/' -e 's/^constexpr double K_H = .*;      \\/\\/ OPTIMIZE \\[0\\.001, 0\\.999\\]$/constexpr double K_H = 0.6369931902888558;      \\/\\/ OPTIMIZE [0.001, 0.999]/' -e 's/^constexpr short PURCHASE_TURN_LIMIT = .*;  \\/\\/ OPTIMIZE \\[790, 870\\]$/constexpr short PURCHASE_TURN_LIMIT = 840;  \\/\\/ OPTIMIZE [790, 870]/' -e 's/^constexpr int ROUGH_HASH = .*;      \\/\\/ OPTIMIZE {0, 0b00000001, 0b00010001, 0b00010011, 0b00110011}$/constexpr int ROUGH_HASH = 0;      \\/\\/ OPTIMIZE {0, 0b00000001, 0b00010001, 0b00010011, 0b00110011}/' -e 's/^constexpr double TARGET_BEAM_WIDTH_INCREASE_RATE = .*;      \\/\\/ OPTIMIZE \\[0\\.25, 4\\.0\\] LOG$/constexpr double TARGET_BEAM_WIDTH_INCREASE_RATE = 3.7196525543556884;      \\/\\/ OPTIMIZE [0.25, 4.0] LOG/' -e 's/^constexpr double TARGET_BEAM_WIDTH_HALF_PROGRES_RATE = .*;  \\/\\/ OPTIMIZE \\[0\\.02, 0\\.98\\]$/constexpr double TARGET_BEAM_WIDTH_HALF_PROGRES_RATE = 0.4445717195754848;  \\/\\/ OPTIMIZE [0.02, 0.98]/' -e 's/^constexpr auto MAX_BEAM_WIDTH = .*;                        \\/\\/ OPTIMIZE \\[400, 4000\\] LOG$/constexpr auto MAX_BEAM_WIDTH = 548;                        \\/\\/ OPTIMIZE [400, 4000] LOG/'\n",
      "g++ 10_main.cpp -std=gnu++17 -O2 -DONLINE_JUDGE -o 10_main.cpp.out 2> /dev/null\n"
     ]
    },
    {
     "name": "stderr",
     "output_type": "stream",
     "text": [
      "\u001b[32m[I 2021-09-11 03:40:23,480]\u001b[0m Trial 223 finished with value: 1002218720.0 and parameters: {'hash_table_size': 9, 'K_START': 0.07744511933030121, 'K_END': 0.05127356665790762, 'K_H': 0.6441807567739075, 'PURCHASE_TURN_LIMIT': 840, 'ROUGH_HASH': '0', 'TARGET_BEAM_WIDTH_INCREASE_RATE': 3.724010574082096, 'TARGET_BEAM_WIDTH_HALF_PROGRES_RATE': 0.47076192697599006, 'MAX_BEAM_WIDTH': 525}. Best is trial 216 with value: 1007263419.0.\u001b[0m\n"
     ]
    },
    {
     "name": "stdout",
     "output_type": "stream",
     "text": [
      "callback ok\n",
      "index_parallel=11\n",
      "sed -i 11_main.cpp -e 's/^constexpr int hash_table_size = .*;         \\/\\/ OPTIMIZE \\[9, 18\\]$/constexpr int hash_table_size = 9;         \\/\\/ OPTIMIZE [9, 18]/' -e 's/^constexpr double K_START = .*;  \\/\\/ OPTIMIZE \\[0\\.04, 0\\.2\\] LOG$/constexpr double K_START = 0.07702231254307394;  \\/\\/ OPTIMIZE [0.04, 0.2] LOG/' -e 's/^constexpr double K_END = .*;   \\/\\/ OPTIMIZE \\[0\\.03, 0\\.1\\] LOG$/constexpr double K_END = 0.05205934093848545;   \\/\\/ OPTIMIZE [0.03, 0.1] LOG/' -e 's/^constexpr double K_H = .*;      \\/\\/ OPTIMIZE \\[0\\.001, 0\\.999\\]$/constexpr double K_H = 0.6357054431508161;      \\/\\/ OPTIMIZE [0.001, 0.999]/' -e 's/^constexpr short PURCHASE_TURN_LIMIT = .*;  \\/\\/ OPTIMIZE \\[790, 870\\]$/constexpr short PURCHASE_TURN_LIMIT = 840;  \\/\\/ OPTIMIZE [790, 870]/' -e 's/^constexpr int ROUGH_HASH = .*;      \\/\\/ OPTIMIZE {0, 0b00000001, 0b00010001, 0b00010011, 0b00110011}$/constexpr int ROUGH_HASH = 0;      \\/\\/ OPTIMIZE {0, 0b00000001, 0b00010001, 0b00010011, 0b00110011}/' -e 's/^constexpr double TARGET_BEAM_WIDTH_INCREASE_RATE = .*;      \\/\\/ OPTIMIZE \\[0\\.25, 4\\.0\\] LOG$/constexpr double TARGET_BEAM_WIDTH_INCREASE_RATE = 3.741608051191474;      \\/\\/ OPTIMIZE [0.25, 4.0] LOG/' -e 's/^constexpr double TARGET_BEAM_WIDTH_HALF_PROGRES_RATE = .*;  \\/\\/ OPTIMIZE \\[0\\.02, 0\\.98\\]$/constexpr double TARGET_BEAM_WIDTH_HALF_PROGRES_RATE = 0.4524660110012426;  \\/\\/ OPTIMIZE [0.02, 0.98]/' -e 's/^constexpr auto MAX_BEAM_WIDTH = .*;                        \\/\\/ OPTIMIZE \\[400, 4000\\] LOG$/constexpr auto MAX_BEAM_WIDTH = 539;                        \\/\\/ OPTIMIZE [400, 4000] LOG/'\n",
      "g++ 11_main.cpp -std=gnu++17 -O2 -DONLINE_JUDGE -o 11_main.cpp.out 2> /dev/null\n"
     ]
    },
    {
     "name": "stderr",
     "output_type": "stream",
     "text": [
      "\u001b[32m[I 2021-09-11 03:41:40,720]\u001b[0m Trial 224 finished with value: 999701204.0 and parameters: {'hash_table_size': 9, 'K_START': 0.07691480938638301, 'K_END': 0.05558250922459322, 'K_H': 0.6442241239755778, 'PURCHASE_TURN_LIMIT': 840, 'ROUGH_HASH': '0', 'TARGET_BEAM_WIDTH_INCREASE_RATE': 3.7412928429126846, 'TARGET_BEAM_WIDTH_HALF_PROGRES_RATE': 0.4680583369467877, 'MAX_BEAM_WIDTH': 545}. Best is trial 216 with value: 1007263419.0.\u001b[0m\n"
     ]
    },
    {
     "name": "stdout",
     "output_type": "stream",
     "text": [
      "callback ok\n",
      "index_parallel=0\n",
      "sed -i 0_main.cpp -e 's/^constexpr int hash_table_size = .*;         \\/\\/ OPTIMIZE \\[9, 18\\]$/constexpr int hash_table_size = 9;         \\/\\/ OPTIMIZE [9, 18]/' -e 's/^constexpr double K_START = .*;  \\/\\/ OPTIMIZE \\[0\\.04, 0\\.2\\] LOG$/constexpr double K_START = 0.07824103019681831;  \\/\\/ OPTIMIZE [0.04, 0.2] LOG/' -e 's/^constexpr double K_END = .*;   \\/\\/ OPTIMIZE \\[0\\.03, 0\\.1\\] LOG$/constexpr double K_END = 0.051792204302296745;   \\/\\/ OPTIMIZE [0.03, 0.1] LOG/' -e 's/^constexpr double K_H = .*;      \\/\\/ OPTIMIZE \\[0\\.001, 0\\.999\\]$/constexpr double K_H = 0.6339243957116024;      \\/\\/ OPTIMIZE [0.001, 0.999]/' -e 's/^constexpr short PURCHASE_TURN_LIMIT = .*;  \\/\\/ OPTIMIZE \\[790, 870\\]$/constexpr short PURCHASE_TURN_LIMIT = 841;  \\/\\/ OPTIMIZE [790, 870]/' -e 's/^constexpr int ROUGH_HASH = .*;      \\/\\/ OPTIMIZE {0, 0b00000001, 0b00010001, 0b00010011, 0b00110011}$/constexpr int ROUGH_HASH = 0;      \\/\\/ OPTIMIZE {0, 0b00000001, 0b00010001, 0b00010011, 0b00110011}/' -e 's/^constexpr double TARGET_BEAM_WIDTH_INCREASE_RATE = .*;      \\/\\/ OPTIMIZE \\[0\\.25, 4\\.0\\] LOG$/constexpr double TARGET_BEAM_WIDTH_INCREASE_RATE = 3.7301573985546264;      \\/\\/ OPTIMIZE [0.25, 4.0] LOG/' -e 's/^constexpr double TARGET_BEAM_WIDTH_HALF_PROGRES_RATE = .*;  \\/\\/ OPTIMIZE \\[0\\.02, 0\\.98\\]$/constexpr double TARGET_BEAM_WIDTH_HALF_PROGRES_RATE = 0.444368231060401;  \\/\\/ OPTIMIZE [0.02, 0.98]/' -e 's/^constexpr auto MAX_BEAM_WIDTH = .*;                        \\/\\/ OPTIMIZE \\[400, 4000\\] LOG$/constexpr auto MAX_BEAM_WIDTH = 549;                        \\/\\/ OPTIMIZE [400, 4000] LOG/'\n",
      "g++ 0_main.cpp -std=gnu++17 -O2 -DONLINE_JUDGE -o 0_main.cpp.out 2> /dev/null\n"
     ]
    },
    {
     "name": "stderr",
     "output_type": "stream",
     "text": [
      "\u001b[32m[I 2021-09-11 03:41:53,287]\u001b[0m Trial 225 finished with value: 1002482184.0 and parameters: {'hash_table_size': 9, 'K_START': 0.07674760824008077, 'K_END': 0.05530172449971638, 'K_H': 0.6403694630465172, 'PURCHASE_TURN_LIMIT': 840, 'ROUGH_HASH': '0', 'TARGET_BEAM_WIDTH_INCREASE_RATE': 3.7363759650990005, 'TARGET_BEAM_WIDTH_HALF_PROGRES_RATE': 0.4455404370339155, 'MAX_BEAM_WIDTH': 550}. Best is trial 216 with value: 1007263419.0.\u001b[0m\n"
     ]
    },
    {
     "name": "stdout",
     "output_type": "stream",
     "text": [
      "callback ok\n",
      "index_parallel=1\n",
      "sed -i 1_main.cpp -e 's/^constexpr int hash_table_size = .*;         \\/\\/ OPTIMIZE \\[9, 18\\]$/constexpr int hash_table_size = 9;         \\/\\/ OPTIMIZE [9, 18]/' -e 's/^constexpr double K_START = .*;  \\/\\/ OPTIMIZE \\[0\\.04, 0\\.2\\] LOG$/constexpr double K_START = 0.07664029172799307;  \\/\\/ OPTIMIZE [0.04, 0.2] LOG/' -e 's/^constexpr double K_END = .*;   \\/\\/ OPTIMIZE \\[0\\.03, 0\\.1\\] LOG$/constexpr double K_END = 0.051068198341609125;   \\/\\/ OPTIMIZE [0.03, 0.1] LOG/' -e 's/^constexpr double K_H = .*;      \\/\\/ OPTIMIZE \\[0\\.001, 0\\.999\\]$/constexpr double K_H = 0.6325368505595174;      \\/\\/ OPTIMIZE [0.001, 0.999]/' -e 's/^constexpr short PURCHASE_TURN_LIMIT = .*;  \\/\\/ OPTIMIZE \\[790, 870\\]$/constexpr short PURCHASE_TURN_LIMIT = 841;  \\/\\/ OPTIMIZE [790, 870]/' -e 's/^constexpr int ROUGH_HASH = .*;      \\/\\/ OPTIMIZE {0, 0b00000001, 0b00010001, 0b00010011, 0b00110011}$/constexpr int ROUGH_HASH = 0;      \\/\\/ OPTIMIZE {0, 0b00000001, 0b00010001, 0b00010011, 0b00110011}/' -e 's/^constexpr double TARGET_BEAM_WIDTH_INCREASE_RATE = .*;      \\/\\/ OPTIMIZE \\[0\\.25, 4\\.0\\] LOG$/constexpr double TARGET_BEAM_WIDTH_INCREASE_RATE = 3.6657335259553467;      \\/\\/ OPTIMIZE [0.25, 4.0] LOG/' -e 's/^constexpr double TARGET_BEAM_WIDTH_HALF_PROGRES_RATE = .*;  \\/\\/ OPTIMIZE \\[0\\.02, 0\\.98\\]$/constexpr double TARGET_BEAM_WIDTH_HALF_PROGRES_RATE = 0.43933256211837474;  \\/\\/ OPTIMIZE [0.02, 0.98]/' -e 's/^constexpr auto MAX_BEAM_WIDTH = .*;                        \\/\\/ OPTIMIZE \\[400, 4000\\] LOG$/constexpr auto MAX_BEAM_WIDTH = 466;                        \\/\\/ OPTIMIZE [400, 4000] LOG/'\n",
      "g++ 1_main.cpp -std=gnu++17 -O2 -DONLINE_JUDGE -o 1_main.cpp.out 2> /dev/null\n"
     ]
    },
    {
     "name": "stderr",
     "output_type": "stream",
     "text": [
      "\u001b[32m[I 2021-09-11 03:42:07,519]\u001b[0m Trial 226 finished with value: 998252301.0 and parameters: {'hash_table_size': 9, 'K_START': 0.0743370335936659, 'K_END': 0.05535767726968692, 'K_H': 0.6369931902888558, 'PURCHASE_TURN_LIMIT': 840, 'ROUGH_HASH': '0', 'TARGET_BEAM_WIDTH_INCREASE_RATE': 3.7196525543556884, 'TARGET_BEAM_WIDTH_HALF_PROGRES_RATE': 0.4445717195754848, 'MAX_BEAM_WIDTH': 548}. Best is trial 216 with value: 1007263419.0.\u001b[0m\n"
     ]
    },
    {
     "name": "stdout",
     "output_type": "stream",
     "text": [
      "callback ok\n",
      "index_parallel=2\n",
      "sed -i 2_main.cpp -e 's/^constexpr int hash_table_size = .*;         \\/\\/ OPTIMIZE \\[9, 18\\]$/constexpr int hash_table_size = 9;         \\/\\/ OPTIMIZE [9, 18]/' -e 's/^constexpr double K_START = .*;  \\/\\/ OPTIMIZE \\[0\\.04, 0\\.2\\] LOG$/constexpr double K_START = 0.07737732433942303;  \\/\\/ OPTIMIZE [0.04, 0.2] LOG/' -e 's/^constexpr double K_END = .*;   \\/\\/ OPTIMIZE \\[0\\.03, 0\\.1\\] LOG$/constexpr double K_END = 0.05113617928347438;   \\/\\/ OPTIMIZE [0.03, 0.1] LOG/' -e 's/^constexpr double K_H = .*;      \\/\\/ OPTIMIZE \\[0\\.001, 0\\.999\\]$/constexpr double K_H = 0.6274011946194137;      \\/\\/ OPTIMIZE [0.001, 0.999]/' -e 's/^constexpr short PURCHASE_TURN_LIMIT = .*;  \\/\\/ OPTIMIZE \\[790, 870\\]$/constexpr short PURCHASE_TURN_LIMIT = 841;  \\/\\/ OPTIMIZE [790, 870]/' -e 's/^constexpr int ROUGH_HASH = .*;      \\/\\/ OPTIMIZE {0, 0b00000001, 0b00010001, 0b00010011, 0b00110011}$/constexpr int ROUGH_HASH = 0;      \\/\\/ OPTIMIZE {0, 0b00000001, 0b00010001, 0b00010011, 0b00110011}/' -e 's/^constexpr double TARGET_BEAM_WIDTH_INCREASE_RATE = .*;      \\/\\/ OPTIMIZE \\[0\\.25, 4\\.0\\] LOG$/constexpr double TARGET_BEAM_WIDTH_INCREASE_RATE = 3.7281481006016937;      \\/\\/ OPTIMIZE [0.25, 4.0] LOG/' -e 's/^constexpr double TARGET_BEAM_WIDTH_HALF_PROGRES_RATE = .*;  \\/\\/ OPTIMIZE \\[0\\.02, 0\\.98\\]$/constexpr double TARGET_BEAM_WIDTH_HALF_PROGRES_RATE = 0.48544486263483394;  \\/\\/ OPTIMIZE [0.02, 0.98]/' -e 's/^constexpr auto MAX_BEAM_WIDTH = .*;                        \\/\\/ OPTIMIZE \\[400, 4000\\] LOG$/constexpr auto MAX_BEAM_WIDTH = 477;                        \\/\\/ OPTIMIZE [400, 4000] LOG/'\n",
      "g++ 2_main.cpp -std=gnu++17 -O2 -DONLINE_JUDGE -o 2_main.cpp.out 2> /dev/null\n"
     ]
    },
    {
     "name": "stderr",
     "output_type": "stream",
     "text": [
      "\u001b[32m[I 2021-09-11 03:42:14,676]\u001b[0m Trial 227 finished with value: 1000690510.0 and parameters: {'hash_table_size': 9, 'K_START': 0.07702231254307394, 'K_END': 0.05205934093848545, 'K_H': 0.6357054431508161, 'PURCHASE_TURN_LIMIT': 840, 'ROUGH_HASH': '0', 'TARGET_BEAM_WIDTH_INCREASE_RATE': 3.741608051191474, 'TARGET_BEAM_WIDTH_HALF_PROGRES_RATE': 0.4524660110012426, 'MAX_BEAM_WIDTH': 539}. Best is trial 216 with value: 1007263419.0.\u001b[0m\n"
     ]
    },
    {
     "name": "stdout",
     "output_type": "stream",
     "text": [
      "callback ok\n",
      "index_parallel=3\n",
      "sed -i 3_main.cpp -e 's/^constexpr int hash_table_size = .*;         \\/\\/ OPTIMIZE \\[9, 18\\]$/constexpr int hash_table_size = 9;         \\/\\/ OPTIMIZE [9, 18]/' -e 's/^constexpr double K_START = .*;  \\/\\/ OPTIMIZE \\[0\\.04, 0\\.2\\] LOG$/constexpr double K_START = 0.07760264386019862;  \\/\\/ OPTIMIZE [0.04, 0.2] LOG/' -e 's/^constexpr double K_END = .*;   \\/\\/ OPTIMIZE \\[0\\.03, 0\\.1\\] LOG$/constexpr double K_END = 0.051174644089060306;   \\/\\/ OPTIMIZE [0.03, 0.1] LOG/' -e 's/^constexpr double K_H = .*;      \\/\\/ OPTIMIZE \\[0\\.001, 0\\.999\\]$/constexpr double K_H = 0.6808026618277107;      \\/\\/ OPTIMIZE [0.001, 0.999]/' -e 's/^constexpr short PURCHASE_TURN_LIMIT = .*;  \\/\\/ OPTIMIZE \\[790, 870\\]$/constexpr short PURCHASE_TURN_LIMIT = 841;  \\/\\/ OPTIMIZE [790, 870]/' -e 's/^constexpr int ROUGH_HASH = .*;      \\/\\/ OPTIMIZE {0, 0b00000001, 0b00010001, 0b00010011, 0b00110011}$/constexpr int ROUGH_HASH = 0;      \\/\\/ OPTIMIZE {0, 0b00000001, 0b00010001, 0b00010011, 0b00110011}/' -e 's/^constexpr double TARGET_BEAM_WIDTH_INCREASE_RATE = .*;      \\/\\/ OPTIMIZE \\[0\\.25, 4\\.0\\] LOG$/constexpr double TARGET_BEAM_WIDTH_INCREASE_RATE = 3.998712630683912;      \\/\\/ OPTIMIZE [0.25, 4.0] LOG/' -e 's/^constexpr double TARGET_BEAM_WIDTH_HALF_PROGRES_RATE = .*;  \\/\\/ OPTIMIZE \\[0\\.02, 0\\.98\\]$/constexpr double TARGET_BEAM_WIDTH_HALF_PROGRES_RATE = 0.47946290781998285;  \\/\\/ OPTIMIZE [0.02, 0.98]/' -e 's/^constexpr auto MAX_BEAM_WIDTH = .*;                        \\/\\/ OPTIMIZE \\[400, 4000\\] LOG$/constexpr auto MAX_BEAM_WIDTH = 506;                        \\/\\/ OPTIMIZE [400, 4000] LOG/'\n",
      "g++ 3_main.cpp -std=gnu++17 -O2 -DONLINE_JUDGE -o 3_main.cpp.out 2> /dev/null\n"
     ]
    },
    {
     "name": "stderr",
     "output_type": "stream",
     "text": [
      "\u001b[32m[I 2021-09-11 03:43:32,645]\u001b[0m Trial 228 finished with value: 1002271548.0 and parameters: {'hash_table_size': 9, 'K_START': 0.07824103019681831, 'K_END': 0.051792204302296745, 'K_H': 0.6339243957116024, 'PURCHASE_TURN_LIMIT': 841, 'ROUGH_HASH': '0', 'TARGET_BEAM_WIDTH_INCREASE_RATE': 3.7301573985546264, 'TARGET_BEAM_WIDTH_HALF_PROGRES_RATE': 0.444368231060401, 'MAX_BEAM_WIDTH': 549}. Best is trial 216 with value: 1007263419.0.\u001b[0m\n"
     ]
    },
    {
     "name": "stdout",
     "output_type": "stream",
     "text": [
      "callback ok\n",
      "index_parallel=4\n",
      "sed -i 4_main.cpp -e 's/^constexpr int hash_table_size = .*;         \\/\\/ OPTIMIZE \\[9, 18\\]$/constexpr int hash_table_size = 9;         \\/\\/ OPTIMIZE [9, 18]/' -e 's/^constexpr double K_START = .*;  \\/\\/ OPTIMIZE \\[0\\.04, 0\\.2\\] LOG$/constexpr double K_START = 0.0783797439851514;  \\/\\/ OPTIMIZE [0.04, 0.2] LOG/' -e 's/^constexpr double K_END = .*;   \\/\\/ OPTIMIZE \\[0\\.03, 0\\.1\\] LOG$/constexpr double K_END = 0.05143948952183223;   \\/\\/ OPTIMIZE [0.03, 0.1] LOG/' -e 's/^constexpr double K_H = .*;      \\/\\/ OPTIMIZE \\[0\\.001, 0\\.999\\]$/constexpr double K_H = 0.6169924982931776;      \\/\\/ OPTIMIZE [0.001, 0.999]/' -e 's/^constexpr short PURCHASE_TURN_LIMIT = .*;  \\/\\/ OPTIMIZE \\[790, 870\\]$/constexpr short PURCHASE_TURN_LIMIT = 844;  \\/\\/ OPTIMIZE [790, 870]/' -e 's/^constexpr int ROUGH_HASH = .*;      \\/\\/ OPTIMIZE {0, 0b00000001, 0b00010001, 0b00010011, 0b00110011}$/constexpr int ROUGH_HASH = 0;      \\/\\/ OPTIMIZE {0, 0b00000001, 0b00010001, 0b00010011, 0b00110011}/' -e 's/^constexpr double TARGET_BEAM_WIDTH_INCREASE_RATE = .*;      \\/\\/ OPTIMIZE \\[0\\.25, 4\\.0\\] LOG$/constexpr double TARGET_BEAM_WIDTH_INCREASE_RATE = 3.9982844593699576;      \\/\\/ OPTIMIZE [0.25, 4.0] LOG/' -e 's/^constexpr double TARGET_BEAM_WIDTH_HALF_PROGRES_RATE = .*;  \\/\\/ OPTIMIZE \\[0\\.02, 0\\.98\\]$/constexpr double TARGET_BEAM_WIDTH_HALF_PROGRES_RATE = 0.4824394565859435;  \\/\\/ OPTIMIZE [0.02, 0.98]/' -e 's/^constexpr auto MAX_BEAM_WIDTH = .*;                        \\/\\/ OPTIMIZE \\[400, 4000\\] LOG$/constexpr auto MAX_BEAM_WIDTH = 498;                        \\/\\/ OPTIMIZE [400, 4000] LOG/'\n",
      "g++ 4_main.cpp -std=gnu++17 -O2 -DONLINE_JUDGE -o 4_main.cpp.out 2> /dev/null\n"
     ]
    },
    {
     "name": "stderr",
     "output_type": "stream",
     "text": [
      "\u001b[32m[I 2021-09-11 03:43:44,043]\u001b[0m Trial 229 finished with value: 1002564459.0 and parameters: {'hash_table_size': 9, 'K_START': 0.07664029172799307, 'K_END': 0.051068198341609125, 'K_H': 0.6325368505595174, 'PURCHASE_TURN_LIMIT': 841, 'ROUGH_HASH': '0', 'TARGET_BEAM_WIDTH_INCREASE_RATE': 3.6657335259553467, 'TARGET_BEAM_WIDTH_HALF_PROGRES_RATE': 0.43933256211837474, 'MAX_BEAM_WIDTH': 466}. Best is trial 216 with value: 1007263419.0.\u001b[0m\n"
     ]
    },
    {
     "name": "stdout",
     "output_type": "stream",
     "text": [
      "callback ok\n",
      "index_parallel=5\n",
      "sed -i 5_main.cpp -e 's/^constexpr int hash_table_size = .*;         \\/\\/ OPTIMIZE \\[9, 18\\]$/constexpr int hash_table_size = 9;         \\/\\/ OPTIMIZE [9, 18]/' -e 's/^constexpr double K_START = .*;  \\/\\/ OPTIMIZE \\[0\\.04, 0\\.2\\] LOG$/constexpr double K_START = 0.0782514112788065;  \\/\\/ OPTIMIZE [0.04, 0.2] LOG/' -e 's/^constexpr double K_END = .*;   \\/\\/ OPTIMIZE \\[0\\.03, 0\\.1\\] LOG$/constexpr double K_END = 0.05088155840058163;   \\/\\/ OPTIMIZE [0.03, 0.1] LOG/' -e 's/^constexpr double K_H = .*;      \\/\\/ OPTIMIZE \\[0\\.001, 0\\.999\\]$/constexpr double K_H = 0.6153785543045318;      \\/\\/ OPTIMIZE [0.001, 0.999]/' -e 's/^constexpr short PURCHASE_TURN_LIMIT = .*;  \\/\\/ OPTIMIZE \\[790, 870\\]$/constexpr short PURCHASE_TURN_LIMIT = 844;  \\/\\/ OPTIMIZE [790, 870]/' -e 's/^constexpr int ROUGH_HASH = .*;      \\/\\/ OPTIMIZE {0, 0b00000001, 0b00010001, 0b00010011, 0b00110011}$/constexpr int ROUGH_HASH = 0;      \\/\\/ OPTIMIZE {0, 0b00000001, 0b00010001, 0b00010011, 0b00110011}/' -e 's/^constexpr double TARGET_BEAM_WIDTH_INCREASE_RATE = .*;      \\/\\/ OPTIMIZE \\[0\\.25, 4\\.0\\] LOG$/constexpr double TARGET_BEAM_WIDTH_INCREASE_RATE = 3.999612116128516;      \\/\\/ OPTIMIZE [0.25, 4.0] LOG/' -e 's/^constexpr double TARGET_BEAM_WIDTH_HALF_PROGRES_RATE = .*;  \\/\\/ OPTIMIZE \\[0\\.02, 0\\.98\\]$/constexpr double TARGET_BEAM_WIDTH_HALF_PROGRES_RATE = 0.4851753619112386;  \\/\\/ OPTIMIZE [0.02, 0.98]/' -e 's/^constexpr auto MAX_BEAM_WIDTH = .*;                        \\/\\/ OPTIMIZE \\[400, 4000\\] LOG$/constexpr auto MAX_BEAM_WIDTH = 461;                        \\/\\/ OPTIMIZE [400, 4000] LOG/'\n",
      "g++ 5_main.cpp -std=gnu++17 -O2 -DONLINE_JUDGE -o 5_main.cpp.out 2> /dev/null\n"
     ]
    },
    {
     "name": "stderr",
     "output_type": "stream",
     "text": [
      "\u001b[32m[I 2021-09-11 03:43:59,080]\u001b[0m Trial 230 finished with value: 1000828309.0 and parameters: {'hash_table_size': 9, 'K_START': 0.07737732433942303, 'K_END': 0.05113617928347438, 'K_H': 0.6274011946194137, 'PURCHASE_TURN_LIMIT': 841, 'ROUGH_HASH': '0', 'TARGET_BEAM_WIDTH_INCREASE_RATE': 3.7281481006016937, 'TARGET_BEAM_WIDTH_HALF_PROGRES_RATE': 0.48544486263483394, 'MAX_BEAM_WIDTH': 477}. Best is trial 216 with value: 1007263419.0.\u001b[0m\n"
     ]
    },
    {
     "name": "stdout",
     "output_type": "stream",
     "text": [
      "callback ok\n",
      "index_parallel=6\n",
      "sed -i 6_main.cpp -e 's/^constexpr int hash_table_size = .*;         \\/\\/ OPTIMIZE \\[9, 18\\]$/constexpr int hash_table_size = 9;         \\/\\/ OPTIMIZE [9, 18]/' -e 's/^constexpr double K_START = .*;  \\/\\/ OPTIMIZE \\[0\\.04, 0\\.2\\] LOG$/constexpr double K_START = 0.07820463370570756;  \\/\\/ OPTIMIZE [0.04, 0.2] LOG/' -e 's/^constexpr double K_END = .*;   \\/\\/ OPTIMIZE \\[0\\.03, 0\\.1\\] LOG$/constexpr double K_END = 0.051216973085554375;   \\/\\/ OPTIMIZE [0.03, 0.1] LOG/' -e 's/^constexpr double K_H = .*;      \\/\\/ OPTIMIZE \\[0\\.001, 0\\.999\\]$/constexpr double K_H = 0.6111186703214601;      \\/\\/ OPTIMIZE [0.001, 0.999]/' -e 's/^constexpr short PURCHASE_TURN_LIMIT = .*;  \\/\\/ OPTIMIZE \\[790, 870\\]$/constexpr short PURCHASE_TURN_LIMIT = 844;  \\/\\/ OPTIMIZE [790, 870]/' -e 's/^constexpr int ROUGH_HASH = .*;      \\/\\/ OPTIMIZE {0, 0b00000001, 0b00010001, 0b00010011, 0b00110011}$/constexpr int ROUGH_HASH = 0;      \\/\\/ OPTIMIZE {0, 0b00000001, 0b00010001, 0b00010011, 0b00110011}/' -e 's/^constexpr double TARGET_BEAM_WIDTH_INCREASE_RATE = .*;      \\/\\/ OPTIMIZE \\[0\\.25, 4\\.0\\] LOG$/constexpr double TARGET_BEAM_WIDTH_INCREASE_RATE = 3.996708284456632;      \\/\\/ OPTIMIZE [0.25, 4.0] LOG/' -e 's/^constexpr double TARGET_BEAM_WIDTH_HALF_PROGRES_RATE = .*;  \\/\\/ OPTIMIZE \\[0\\.02, 0\\.98\\]$/constexpr double TARGET_BEAM_WIDTH_HALF_PROGRES_RATE = 0.4883476127581288;  \\/\\/ OPTIMIZE [0.02, 0.98]/' -e 's/^constexpr auto MAX_BEAM_WIDTH = .*;                        \\/\\/ OPTIMIZE \\[400, 4000\\] LOG$/constexpr auto MAX_BEAM_WIDTH = 484;                        \\/\\/ OPTIMIZE [400, 4000] LOG/'\n",
      "g++ 6_main.cpp -std=gnu++17 -O2 -DONLINE_JUDGE -o 6_main.cpp.out 2> /dev/null\n"
     ]
    },
    {
     "name": "stderr",
     "output_type": "stream",
     "text": [
      "\u001b[32m[I 2021-09-11 03:44:05,914]\u001b[0m Trial 231 finished with value: 996896959.0 and parameters: {'hash_table_size': 9, 'K_START': 0.07760264386019862, 'K_END': 0.051174644089060306, 'K_H': 0.6808026618277107, 'PURCHASE_TURN_LIMIT': 841, 'ROUGH_HASH': '0', 'TARGET_BEAM_WIDTH_INCREASE_RATE': 3.998712630683912, 'TARGET_BEAM_WIDTH_HALF_PROGRES_RATE': 0.47946290781998285, 'MAX_BEAM_WIDTH': 506}. Best is trial 216 with value: 1007263419.0.\u001b[0m\n"
     ]
    },
    {
     "name": "stdout",
     "output_type": "stream",
     "text": [
      "callback ok\n",
      "index_parallel=7\n",
      "sed -i 7_main.cpp -e 's/^constexpr int hash_table_size = .*;         \\/\\/ OPTIMIZE \\[9, 18\\]$/constexpr int hash_table_size = 9;         \\/\\/ OPTIMIZE [9, 18]/' -e 's/^constexpr double K_START = .*;  \\/\\/ OPTIMIZE \\[0\\.04, 0\\.2\\] LOG$/constexpr double K_START = 0.07381292602532762;  \\/\\/ OPTIMIZE [0.04, 0.2] LOG/' -e 's/^constexpr double K_END = .*;   \\/\\/ OPTIMIZE \\[0\\.03, 0\\.1\\] LOG$/constexpr double K_END = 0.049533193214290894;   \\/\\/ OPTIMIZE [0.03, 0.1] LOG/' -e 's/^constexpr double K_H = .*;      \\/\\/ OPTIMIZE \\[0\\.001, 0\\.999\\]$/constexpr double K_H = 0.6156807170584134;      \\/\\/ OPTIMIZE [0.001, 0.999]/' -e 's/^constexpr short PURCHASE_TURN_LIMIT = .*;  \\/\\/ OPTIMIZE \\[790, 870\\]$/constexpr short PURCHASE_TURN_LIMIT = 844;  \\/\\/ OPTIMIZE [790, 870]/' -e 's/^constexpr int ROUGH_HASH = .*;      \\/\\/ OPTIMIZE {0, 0b00000001, 0b00010001, 0b00010011, 0b00110011}$/constexpr int ROUGH_HASH = 0;      \\/\\/ OPTIMIZE {0, 0b00000001, 0b00010001, 0b00010011, 0b00110011}/' -e 's/^constexpr double TARGET_BEAM_WIDTH_INCREASE_RATE = .*;      \\/\\/ OPTIMIZE \\[0\\.25, 4\\.0\\] LOG$/constexpr double TARGET_BEAM_WIDTH_INCREASE_RATE = 3.7703944780960508;      \\/\\/ OPTIMIZE [0.25, 4.0] LOG/' -e 's/^constexpr double TARGET_BEAM_WIDTH_HALF_PROGRES_RATE = .*;  \\/\\/ OPTIMIZE \\[0\\.02, 0\\.98\\]$/constexpr double TARGET_BEAM_WIDTH_HALF_PROGRES_RATE = 0.43312058753786725;  \\/\\/ OPTIMIZE [0.02, 0.98]/' -e 's/^constexpr auto MAX_BEAM_WIDTH = .*;                        \\/\\/ OPTIMIZE \\[400, 4000\\] LOG$/constexpr auto MAX_BEAM_WIDTH = 471;                        \\/\\/ OPTIMIZE [400, 4000] LOG/'\n",
      "g++ 7_main.cpp -std=gnu++17 -O2 -DONLINE_JUDGE -o 7_main.cpp.out 2> /dev/null\n"
     ]
    },
    {
     "name": "stderr",
     "output_type": "stream",
     "text": [
      "\u001b[32m[I 2021-09-11 03:45:24,199]\u001b[0m Trial 232 finished with value: 1001728343.0 and parameters: {'hash_table_size': 9, 'K_START': 0.0783797439851514, 'K_END': 0.05143948952183223, 'K_H': 0.6169924982931776, 'PURCHASE_TURN_LIMIT': 844, 'ROUGH_HASH': '0', 'TARGET_BEAM_WIDTH_INCREASE_RATE': 3.9982844593699576, 'TARGET_BEAM_WIDTH_HALF_PROGRES_RATE': 0.4824394565859435, 'MAX_BEAM_WIDTH': 498}. Best is trial 216 with value: 1007263419.0.\u001b[0m\n"
     ]
    },
    {
     "name": "stdout",
     "output_type": "stream",
     "text": [
      "callback ok\n",
      "index_parallel=8\n",
      "sed -i 8_main.cpp -e 's/^constexpr int hash_table_size = .*;         \\/\\/ OPTIMIZE \\[9, 18\\]$/constexpr int hash_table_size = 9;         \\/\\/ OPTIMIZE [9, 18]/' -e 's/^constexpr double K_START = .*;  \\/\\/ OPTIMIZE \\[0\\.04, 0\\.2\\] LOG$/constexpr double K_START = 0.07385314193932158;  \\/\\/ OPTIMIZE [0.04, 0.2] LOG/' -e 's/^constexpr double K_END = .*;   \\/\\/ OPTIMIZE \\[0\\.03, 0\\.1\\] LOG$/constexpr double K_END = 0.05052234786697607;   \\/\\/ OPTIMIZE [0.03, 0.1] LOG/' -e 's/^constexpr double K_H = .*;      \\/\\/ OPTIMIZE \\[0\\.001, 0\\.999\\]$/constexpr double K_H = 0.6174013145509022;      \\/\\/ OPTIMIZE [0.001, 0.999]/' -e 's/^constexpr short PURCHASE_TURN_LIMIT = .*;  \\/\\/ OPTIMIZE \\[790, 870\\]$/constexpr short PURCHASE_TURN_LIMIT = 845;  \\/\\/ OPTIMIZE [790, 870]/' -e 's/^constexpr int ROUGH_HASH = .*;      \\/\\/ OPTIMIZE {0, 0b00000001, 0b00010001, 0b00010011, 0b00110011}$/constexpr int ROUGH_HASH = 0;      \\/\\/ OPTIMIZE {0, 0b00000001, 0b00010001, 0b00010011, 0b00110011}/' -e 's/^constexpr double TARGET_BEAM_WIDTH_INCREASE_RATE = .*;      \\/\\/ OPTIMIZE \\[0\\.25, 4\\.0\\] LOG$/constexpr double TARGET_BEAM_WIDTH_INCREASE_RATE = 3.7819685869582464;      \\/\\/ OPTIMIZE [0.25, 4.0] LOG/' -e 's/^constexpr double TARGET_BEAM_WIDTH_HALF_PROGRES_RATE = .*;  \\/\\/ OPTIMIZE \\[0\\.02, 0\\.98\\]$/constexpr double TARGET_BEAM_WIDTH_HALF_PROGRES_RATE = 0.4930178248358496;  \\/\\/ OPTIMIZE [0.02, 0.98]/' -e 's/^constexpr auto MAX_BEAM_WIDTH = .*;                        \\/\\/ OPTIMIZE \\[400, 4000\\] LOG$/constexpr auto MAX_BEAM_WIDTH = 491;                        \\/\\/ OPTIMIZE [400, 4000] LOG/'\n",
      "g++ 8_main.cpp -std=gnu++17 -O2 -DONLINE_JUDGE -o 8_main.cpp.out 2> /dev/null\n"
     ]
    },
    {
     "name": "stderr",
     "output_type": "stream",
     "text": [
      "\u001b[32m[I 2021-09-11 03:45:35,276]\u001b[0m Trial 233 finished with value: 1000811526.0 and parameters: {'hash_table_size': 9, 'K_START': 0.0782514112788065, 'K_END': 0.05088155840058163, 'K_H': 0.6153785543045318, 'PURCHASE_TURN_LIMIT': 844, 'ROUGH_HASH': '0', 'TARGET_BEAM_WIDTH_INCREASE_RATE': 3.999612116128516, 'TARGET_BEAM_WIDTH_HALF_PROGRES_RATE': 0.4851753619112386, 'MAX_BEAM_WIDTH': 461}. Best is trial 216 with value: 1007263419.0.\u001b[0m\n"
     ]
    },
    {
     "name": "stdout",
     "output_type": "stream",
     "text": [
      "callback ok\n",
      "index_parallel=9\n",
      "sed -i 9_main.cpp -e 's/^constexpr int hash_table_size = .*;         \\/\\/ OPTIMIZE \\[9, 18\\]$/constexpr int hash_table_size = 9;         \\/\\/ OPTIMIZE [9, 18]/' -e 's/^constexpr double K_START = .*;  \\/\\/ OPTIMIZE \\[0\\.04, 0\\.2\\] LOG$/constexpr double K_START = 0.07410022657578612;  \\/\\/ OPTIMIZE [0.04, 0.2] LOG/' -e 's/^constexpr double K_END = .*;   \\/\\/ OPTIMIZE \\[0\\.03, 0\\.1\\] LOG$/constexpr double K_END = 0.05327518989266962;   \\/\\/ OPTIMIZE [0.03, 0.1] LOG/' -e 's/^constexpr double K_H = .*;      \\/\\/ OPTIMIZE \\[0\\.001, 0\\.999\\]$/constexpr double K_H = 0.613313316340717;      \\/\\/ OPTIMIZE [0.001, 0.999]/' -e 's/^constexpr short PURCHASE_TURN_LIMIT = .*;  \\/\\/ OPTIMIZE \\[790, 870\\]$/constexpr short PURCHASE_TURN_LIMIT = 845;  \\/\\/ OPTIMIZE [790, 870]/' -e 's/^constexpr int ROUGH_HASH = .*;      \\/\\/ OPTIMIZE {0, 0b00000001, 0b00010001, 0b00010011, 0b00110011}$/constexpr int ROUGH_HASH = 0;      \\/\\/ OPTIMIZE {0, 0b00000001, 0b00010001, 0b00010011, 0b00110011}/' -e 's/^constexpr double TARGET_BEAM_WIDTH_INCREASE_RATE = .*;      \\/\\/ OPTIMIZE \\[0\\.25, 4\\.0\\] LOG$/constexpr double TARGET_BEAM_WIDTH_INCREASE_RATE = 3.780650671370954;      \\/\\/ OPTIMIZE [0.25, 4.0] LOG/' -e 's/^constexpr double TARGET_BEAM_WIDTH_HALF_PROGRES_RATE = .*;  \\/\\/ OPTIMIZE \\[0\\.02, 0\\.98\\]$/constexpr double TARGET_BEAM_WIDTH_HALF_PROGRES_RATE = 0.49803350947186725;  \\/\\/ OPTIMIZE [0.02, 0.98]/' -e 's/^constexpr auto MAX_BEAM_WIDTH = .*;                        \\/\\/ OPTIMIZE \\[400, 4000\\] LOG$/constexpr auto MAX_BEAM_WIDTH = 470;                        \\/\\/ OPTIMIZE [400, 4000] LOG/'\n",
      "g++ 9_main.cpp -std=gnu++17 -O2 -DONLINE_JUDGE -o 9_main.cpp.out 2> /dev/null\n"
     ]
    },
    {
     "name": "stderr",
     "output_type": "stream",
     "text": [
      "\u001b[32m[I 2021-09-11 03:45:50,329]\u001b[0m Trial 234 finished with value: 999239027.0 and parameters: {'hash_table_size': 9, 'K_START': 0.07820463370570756, 'K_END': 0.051216973085554375, 'K_H': 0.6111186703214601, 'PURCHASE_TURN_LIMIT': 844, 'ROUGH_HASH': '0', 'TARGET_BEAM_WIDTH_INCREASE_RATE': 3.996708284456632, 'TARGET_BEAM_WIDTH_HALF_PROGRES_RATE': 0.4883476127581288, 'MAX_BEAM_WIDTH': 484}. Best is trial 216 with value: 1007263419.0.\u001b[0m\n"
     ]
    },
    {
     "name": "stdout",
     "output_type": "stream",
     "text": [
      "callback ok\n",
      "index_parallel=10\n",
      "sed -i 10_main.cpp -e 's/^constexpr int hash_table_size = .*;         \\/\\/ OPTIMIZE \\[9, 18\\]$/constexpr int hash_table_size = 9;         \\/\\/ OPTIMIZE [9, 18]/' -e 's/^constexpr double K_START = .*;  \\/\\/ OPTIMIZE \\[0\\.04, 0\\.2\\] LOG$/constexpr double K_START = 0.07433691904956963;  \\/\\/ OPTIMIZE [0.04, 0.2] LOG/' -e 's/^constexpr double K_END = .*;   \\/\\/ OPTIMIZE \\[0\\.03, 0\\.1\\] LOG$/constexpr double K_END = 0.05304299584918686;   \\/\\/ OPTIMIZE [0.03, 0.1] LOG/' -e 's/^constexpr double K_H = .*;      \\/\\/ OPTIMIZE \\[0\\.001, 0\\.999\\]$/constexpr double K_H = 0.5883038354245131;      \\/\\/ OPTIMIZE [0.001, 0.999]/' -e 's/^constexpr short PURCHASE_TURN_LIMIT = .*;  \\/\\/ OPTIMIZE \\[790, 870\\]$/constexpr short PURCHASE_TURN_LIMIT = 842;  \\/\\/ OPTIMIZE [790, 870]/' -e 's/^constexpr int ROUGH_HASH = .*;      \\/\\/ OPTIMIZE {0, 0b00000001, 0b00010001, 0b00010011, 0b00110011}$/constexpr int ROUGH_HASH = 0;      \\/\\/ OPTIMIZE {0, 0b00000001, 0b00010001, 0b00010011, 0b00110011}/' -e 's/^constexpr double TARGET_BEAM_WIDTH_INCREASE_RATE = .*;      \\/\\/ OPTIMIZE \\[0\\.25, 4\\.0\\] LOG$/constexpr double TARGET_BEAM_WIDTH_INCREASE_RATE = 3.710309403376576;      \\/\\/ OPTIMIZE [0.25, 4.0] LOG/' -e 's/^constexpr double TARGET_BEAM_WIDTH_HALF_PROGRES_RATE = .*;  \\/\\/ OPTIMIZE \\[0\\.02, 0\\.98\\]$/constexpr double TARGET_BEAM_WIDTH_HALF_PROGRES_RATE = 0.431650458111218;  \\/\\/ OPTIMIZE [0.02, 0.98]/' -e 's/^constexpr auto MAX_BEAM_WIDTH = .*;                        \\/\\/ OPTIMIZE \\[400, 4000\\] LOG$/constexpr auto MAX_BEAM_WIDTH = 609;                        \\/\\/ OPTIMIZE [400, 4000] LOG/'\n",
      "g++ 10_main.cpp -std=gnu++17 -O2 -DONLINE_JUDGE -o 10_main.cpp.out 2> /dev/null\n"
     ]
    },
    {
     "name": "stderr",
     "output_type": "stream",
     "text": [
      "\u001b[32m[I 2021-09-11 03:45:57,528]\u001b[0m Trial 235 finished with value: 995077156.0 and parameters: {'hash_table_size': 9, 'K_START': 0.07381292602532762, 'K_END': 0.049533193214290894, 'K_H': 0.6156807170584134, 'PURCHASE_TURN_LIMIT': 844, 'ROUGH_HASH': '0', 'TARGET_BEAM_WIDTH_INCREASE_RATE': 3.7703944780960508, 'TARGET_BEAM_WIDTH_HALF_PROGRES_RATE': 0.43312058753786725, 'MAX_BEAM_WIDTH': 471}. Best is trial 216 with value: 1007263419.0.\u001b[0m\n"
     ]
    },
    {
     "name": "stdout",
     "output_type": "stream",
     "text": [
      "callback ok\n",
      "index_parallel=11\n",
      "sed -i 11_main.cpp -e 's/^constexpr int hash_table_size = .*;         \\/\\/ OPTIMIZE \\[9, 18\\]$/constexpr int hash_table_size = 9;         \\/\\/ OPTIMIZE [9, 18]/' -e 's/^constexpr double K_START = .*;  \\/\\/ OPTIMIZE \\[0\\.04, 0\\.2\\] LOG$/constexpr double K_START = 0.07509887565513747;  \\/\\/ OPTIMIZE [0.04, 0.2] LOG/' -e 's/^constexpr double K_END = .*;   \\/\\/ OPTIMIZE \\[0\\.03, 0\\.1\\] LOG$/constexpr double K_END = 0.053580281596147174;   \\/\\/ OPTIMIZE [0.03, 0.1] LOG/' -e 's/^constexpr double K_H = .*;      \\/\\/ OPTIMIZE \\[0\\.001, 0\\.999\\]$/constexpr double K_H = 0.6522348205941781;      \\/\\/ OPTIMIZE [0.001, 0.999]/' -e 's/^constexpr short PURCHASE_TURN_LIMIT = .*;  \\/\\/ OPTIMIZE \\[790, 870\\]$/constexpr short PURCHASE_TURN_LIMIT = 842;  \\/\\/ OPTIMIZE [790, 870]/' -e 's/^constexpr int ROUGH_HASH = .*;      \\/\\/ OPTIMIZE {0, 0b00000001, 0b00010001, 0b00010011, 0b00110011}$/constexpr int ROUGH_HASH = 0;      \\/\\/ OPTIMIZE {0, 0b00000001, 0b00010001, 0b00010011, 0b00110011}/' -e 's/^constexpr double TARGET_BEAM_WIDTH_INCREASE_RATE = .*;      \\/\\/ OPTIMIZE \\[0\\.25, 4\\.0\\] LOG$/constexpr double TARGET_BEAM_WIDTH_INCREASE_RATE = 3.5654929014197245;      \\/\\/ OPTIMIZE [0.25, 4.0] LOG/' -e 's/^constexpr double TARGET_BEAM_WIDTH_HALF_PROGRES_RATE = .*;  \\/\\/ OPTIMIZE \\[0\\.02, 0\\.98\\]$/constexpr double TARGET_BEAM_WIDTH_HALF_PROGRES_RATE = 0.4975464847137332;  \\/\\/ OPTIMIZE [0.02, 0.98]/' -e 's/^constexpr auto MAX_BEAM_WIDTH = .*;                        \\/\\/ OPTIMIZE \\[400, 4000\\] LOG$/constexpr auto MAX_BEAM_WIDTH = 619;                        \\/\\/ OPTIMIZE [400, 4000] LOG/'\n",
      "g++ 11_main.cpp -std=gnu++17 -O2 -DONLINE_JUDGE -o 11_main.cpp.out 2> /dev/null\n"
     ]
    },
    {
     "name": "stderr",
     "output_type": "stream",
     "text": [
      "\u001b[32m[I 2021-09-11 03:47:15,620]\u001b[0m Trial 236 finished with value: 1005276141.0 and parameters: {'hash_table_size': 9, 'K_START': 0.07385314193932158, 'K_END': 0.05052234786697607, 'K_H': 0.6174013145509022, 'PURCHASE_TURN_LIMIT': 845, 'ROUGH_HASH': '0', 'TARGET_BEAM_WIDTH_INCREASE_RATE': 3.7819685869582464, 'TARGET_BEAM_WIDTH_HALF_PROGRES_RATE': 0.4930178248358496, 'MAX_BEAM_WIDTH': 491}. Best is trial 216 with value: 1007263419.0.\u001b[0m\n"
     ]
    },
    {
     "name": "stdout",
     "output_type": "stream",
     "text": [
      "callback ok\n",
      "index_parallel=0\n",
      "sed -i 0_main.cpp -e 's/^constexpr int hash_table_size = .*;         \\/\\/ OPTIMIZE \\[9, 18\\]$/constexpr int hash_table_size = 9;         \\/\\/ OPTIMIZE [9, 18]/' -e 's/^constexpr double K_START = .*;  \\/\\/ OPTIMIZE \\[0\\.04, 0\\.2\\] LOG$/constexpr double K_START = 0.07443525203994529;  \\/\\/ OPTIMIZE [0.04, 0.2] LOG/' -e 's/^constexpr double K_END = .*;   \\/\\/ OPTIMIZE \\[0\\.03, 0\\.1\\] LOG$/constexpr double K_END = 0.053362853181941276;   \\/\\/ OPTIMIZE [0.03, 0.1] LOG/' -e 's/^constexpr double K_H = .*;      \\/\\/ OPTIMIZE \\[0\\.001, 0\\.999\\]$/constexpr double K_H = 0.5902879579639191;      \\/\\/ OPTIMIZE [0.001, 0.999]/' -e 's/^constexpr short PURCHASE_TURN_LIMIT = .*;  \\/\\/ OPTIMIZE \\[790, 870\\]$/constexpr short PURCHASE_TURN_LIMIT = 846;  \\/\\/ OPTIMIZE [790, 870]/' -e 's/^constexpr int ROUGH_HASH = .*;      \\/\\/ OPTIMIZE {0, 0b00000001, 0b00010001, 0b00010011, 0b00110011}$/constexpr int ROUGH_HASH = 0;      \\/\\/ OPTIMIZE {0, 0b00000001, 0b00010001, 0b00010011, 0b00110011}/' -e 's/^constexpr double TARGET_BEAM_WIDTH_INCREASE_RATE = .*;      \\/\\/ OPTIMIZE \\[0\\.25, 4\\.0\\] LOG$/constexpr double TARGET_BEAM_WIDTH_INCREASE_RATE = 3.4996173715061474;      \\/\\/ OPTIMIZE [0.25, 4.0] LOG/' -e 's/^constexpr double TARGET_BEAM_WIDTH_HALF_PROGRES_RATE = .*;  \\/\\/ OPTIMIZE \\[0\\.02, 0\\.98\\]$/constexpr double TARGET_BEAM_WIDTH_HALF_PROGRES_RATE = 0.501261049454403;  \\/\\/ OPTIMIZE [0.02, 0.98]/' -e 's/^constexpr auto MAX_BEAM_WIDTH = .*;                        \\/\\/ OPTIMIZE \\[400, 4000\\] LOG$/constexpr auto MAX_BEAM_WIDTH = 615;                        \\/\\/ OPTIMIZE [400, 4000] LOG/'\n",
      "g++ 0_main.cpp -std=gnu++17 -O2 -DONLINE_JUDGE -o 0_main.cpp.out 2> /dev/null\n"
     ]
    },
    {
     "name": "stderr",
     "output_type": "stream",
     "text": [
      "\u001b[32m[I 2021-09-11 03:47:25,278]\u001b[0m Trial 237 finished with value: 998262608.0 and parameters: {'hash_table_size': 9, 'K_START': 0.07410022657578612, 'K_END': 0.05327518989266962, 'K_H': 0.613313316340717, 'PURCHASE_TURN_LIMIT': 845, 'ROUGH_HASH': '0', 'TARGET_BEAM_WIDTH_INCREASE_RATE': 3.780650671370954, 'TARGET_BEAM_WIDTH_HALF_PROGRES_RATE': 0.49803350947186725, 'MAX_BEAM_WIDTH': 470}. Best is trial 216 with value: 1007263419.0.\u001b[0m\n"
     ]
    },
    {
     "name": "stdout",
     "output_type": "stream",
     "text": [
      "callback ok\n",
      "index_parallel=1\n",
      "sed -i 1_main.cpp -e 's/^constexpr int hash_table_size = .*;         \\/\\/ OPTIMIZE \\[9, 18\\]$/constexpr int hash_table_size = 9;         \\/\\/ OPTIMIZE [9, 18]/' -e 's/^constexpr double K_START = .*;  \\/\\/ OPTIMIZE \\[0\\.04, 0\\.2\\] LOG$/constexpr double K_START = 0.07348202982744478;  \\/\\/ OPTIMIZE [0.04, 0.2] LOG/' -e 's/^constexpr double K_END = .*;   \\/\\/ OPTIMIZE \\[0\\.03, 0\\.1\\] LOG$/constexpr double K_END = 0.053013358549872686;   \\/\\/ OPTIMIZE [0.03, 0.1] LOG/' -e 's/^constexpr double K_H = .*;      \\/\\/ OPTIMIZE \\[0\\.001, 0\\.999\\]$/constexpr double K_H = 0.6541012376870878;      \\/\\/ OPTIMIZE [0.001, 0.999]/' -e 's/^constexpr short PURCHASE_TURN_LIMIT = .*;  \\/\\/ OPTIMIZE \\[790, 870\\]$/constexpr short PURCHASE_TURN_LIMIT = 849;  \\/\\/ OPTIMIZE [790, 870]/' -e 's/^constexpr int ROUGH_HASH = .*;      \\/\\/ OPTIMIZE {0, 0b00000001, 0b00010001, 0b00010011, 0b00110011}$/constexpr int ROUGH_HASH = 0;      \\/\\/ OPTIMIZE {0, 0b00000001, 0b00010001, 0b00010011, 0b00110011}/' -e 's/^constexpr double TARGET_BEAM_WIDTH_INCREASE_RATE = .*;      \\/\\/ OPTIMIZE \\[0\\.25, 4\\.0\\] LOG$/constexpr double TARGET_BEAM_WIDTH_INCREASE_RATE = 3.515436413119717;      \\/\\/ OPTIMIZE [0.25, 4.0] LOG/' -e 's/^constexpr double TARGET_BEAM_WIDTH_HALF_PROGRES_RATE = .*;  \\/\\/ OPTIMIZE \\[0\\.02, 0\\.98\\]$/constexpr double TARGET_BEAM_WIDTH_HALF_PROGRES_RATE = 0.469405673041163;  \\/\\/ OPTIMIZE [0.02, 0.98]/' -e 's/^constexpr auto MAX_BEAM_WIDTH = .*;                        \\/\\/ OPTIMIZE \\[400, 4000\\] LOG$/constexpr auto MAX_BEAM_WIDTH = 619;                        \\/\\/ OPTIMIZE [400, 4000] LOG/'\n",
      "g++ 1_main.cpp -std=gnu++17 -O2 -DONLINE_JUDGE -o 1_main.cpp.out 2> /dev/null\n"
     ]
    },
    {
     "name": "stderr",
     "output_type": "stream",
     "text": [
      "\u001b[32m[I 2021-09-11 03:47:41,195]\u001b[0m Trial 238 finished with value: 1000296973.0 and parameters: {'hash_table_size': 9, 'K_START': 0.07433691904956963, 'K_END': 0.05304299584918686, 'K_H': 0.5883038354245131, 'PURCHASE_TURN_LIMIT': 842, 'ROUGH_HASH': '0', 'TARGET_BEAM_WIDTH_INCREASE_RATE': 3.710309403376576, 'TARGET_BEAM_WIDTH_HALF_PROGRES_RATE': 0.431650458111218, 'MAX_BEAM_WIDTH': 609}. Best is trial 216 with value: 1007263419.0.\u001b[0m\n"
     ]
    },
    {
     "name": "stdout",
     "output_type": "stream",
     "text": [
      "callback ok\n",
      "index_parallel=2\n",
      "sed -i 2_main.cpp -e 's/^constexpr int hash_table_size = .*;         \\/\\/ OPTIMIZE \\[9, 18\\]$/constexpr int hash_table_size = 9;         \\/\\/ OPTIMIZE [9, 18]/' -e 's/^constexpr double K_START = .*;  \\/\\/ OPTIMIZE \\[0\\.04, 0\\.2\\] LOG$/constexpr double K_START = 0.08288054504895126;  \\/\\/ OPTIMIZE [0.04, 0.2] LOG/' -e 's/^constexpr double K_END = .*;   \\/\\/ OPTIMIZE \\[0\\.03, 0\\.1\\] LOG$/constexpr double K_END = 0.053418681781314675;   \\/\\/ OPTIMIZE [0.03, 0.1] LOG/' -e 's/^constexpr double K_H = .*;      \\/\\/ OPTIMIZE \\[0\\.001, 0\\.999\\]$/constexpr double K_H = 0.6554398177404114;      \\/\\/ OPTIMIZE [0.001, 0.999]/' -e 's/^constexpr short PURCHASE_TURN_LIMIT = .*;  \\/\\/ OPTIMIZE \\[790, 870\\]$/constexpr short PURCHASE_TURN_LIMIT = 847;  \\/\\/ OPTIMIZE [790, 870]/' -e 's/^constexpr int ROUGH_HASH = .*;      \\/\\/ OPTIMIZE {0, 0b00000001, 0b00010001, 0b00010011, 0b00110011}$/constexpr int ROUGH_HASH = 0b00010011;      \\/\\/ OPTIMIZE {0, 0b00000001, 0b00010001, 0b00010011, 0b00110011}/' -e 's/^constexpr double TARGET_BEAM_WIDTH_INCREASE_RATE = .*;      \\/\\/ OPTIMIZE \\[0\\.25, 4\\.0\\] LOG$/constexpr double TARGET_BEAM_WIDTH_INCREASE_RATE = 3.5008215723001372;      \\/\\/ OPTIMIZE [0.25, 4.0] LOG/' -e 's/^constexpr double TARGET_BEAM_WIDTH_HALF_PROGRES_RATE = .*;  \\/\\/ OPTIMIZE \\[0\\.02, 0\\.98\\]$/constexpr double TARGET_BEAM_WIDTH_HALF_PROGRES_RATE = 0.4615101699674891;  \\/\\/ OPTIMIZE [0.02, 0.98]/' -e 's/^constexpr auto MAX_BEAM_WIDTH = .*;                        \\/\\/ OPTIMIZE \\[400, 4000\\] LOG$/constexpr auto MAX_BEAM_WIDTH = 569;                        \\/\\/ OPTIMIZE [400, 4000] LOG/'\n",
      "g++ 2_main.cpp -std=gnu++17 -O2 -DONLINE_JUDGE -o 2_main.cpp.out 2> /dev/null\n"
     ]
    },
    {
     "name": "stderr",
     "output_type": "stream",
     "text": [
      "\u001b[32m[I 2021-09-11 03:47:46,378]\u001b[0m Trial 239 finished with value: 1004388691.0 and parameters: {'hash_table_size': 9, 'K_START': 0.07509887565513747, 'K_END': 0.053580281596147174, 'K_H': 0.6522348205941781, 'PURCHASE_TURN_LIMIT': 842, 'ROUGH_HASH': '0', 'TARGET_BEAM_WIDTH_INCREASE_RATE': 3.5654929014197245, 'TARGET_BEAM_WIDTH_HALF_PROGRES_RATE': 0.4975464847137332, 'MAX_BEAM_WIDTH': 619}. Best is trial 216 with value: 1007263419.0.\u001b[0m\n"
     ]
    },
    {
     "name": "stdout",
     "output_type": "stream",
     "text": [
      "callback ok\n",
      "index_parallel=3\n",
      "sed -i 3_main.cpp -e 's/^constexpr int hash_table_size = .*;         \\/\\/ OPTIMIZE \\[9, 18\\]$/constexpr int hash_table_size = 9;         \\/\\/ OPTIMIZE [9, 18]/' -e 's/^constexpr double K_START = .*;  \\/\\/ OPTIMIZE \\[0\\.04, 0\\.2\\] LOG$/constexpr double K_START = 0.0845590514115702;  \\/\\/ OPTIMIZE [0.04, 0.2] LOG/' -e 's/^constexpr double K_END = .*;   \\/\\/ OPTIMIZE \\[0\\.03, 0\\.1\\] LOG$/constexpr double K_END = 0.04952197305252307;   \\/\\/ OPTIMIZE [0.03, 0.1] LOG/' -e 's/^constexpr double K_H = .*;      \\/\\/ OPTIMIZE \\[0\\.001, 0\\.999\\]$/constexpr double K_H = 0.6563373659284502;      \\/\\/ OPTIMIZE [0.001, 0.999]/' -e 's/^constexpr short PURCHASE_TURN_LIMIT = .*;  \\/\\/ OPTIMIZE \\[790, 870\\]$/constexpr short PURCHASE_TURN_LIMIT = 842;  \\/\\/ OPTIMIZE [790, 870]/' -e 's/^constexpr int ROUGH_HASH = .*;      \\/\\/ OPTIMIZE {0, 0b00000001, 0b00010001, 0b00010011, 0b00110011}$/constexpr int ROUGH_HASH = 0b00010011;      \\/\\/ OPTIMIZE {0, 0b00000001, 0b00010001, 0b00010011, 0b00110011}/' -e 's/^constexpr double TARGET_BEAM_WIDTH_INCREASE_RATE = .*;      \\/\\/ OPTIMIZE \\[0\\.25, 4\\.0\\] LOG$/constexpr double TARGET_BEAM_WIDTH_INCREASE_RATE = 0.44099242317537973;      \\/\\/ OPTIMIZE [0.25, 4.0] LOG/' -e 's/^constexpr double TARGET_BEAM_WIDTH_HALF_PROGRES_RATE = .*;  \\/\\/ OPTIMIZE \\[0\\.02, 0\\.98\\]$/constexpr double TARGET_BEAM_WIDTH_HALF_PROGRES_RATE = 0.4598593173676136;  \\/\\/ OPTIMIZE [0.02, 0.98]/' -e 's/^constexpr auto MAX_BEAM_WIDTH = .*;                        \\/\\/ OPTIMIZE \\[400, 4000\\] LOG$/constexpr auto MAX_BEAM_WIDTH = 571;                        \\/\\/ OPTIMIZE [400, 4000] LOG/'\n",
      "g++ 3_main.cpp -std=gnu++17 -O2 -DONLINE_JUDGE -o 3_main.cpp.out 2> /dev/null\n"
     ]
    },
    {
     "name": "stderr",
     "output_type": "stream",
     "text": [
      "\u001b[32m[I 2021-09-11 03:49:02,276]\u001b[0m Trial 240 finished with value: 998268195.0 and parameters: {'hash_table_size': 9, 'K_START': 0.07443525203994529, 'K_END': 0.053362853181941276, 'K_H': 0.5902879579639191, 'PURCHASE_TURN_LIMIT': 846, 'ROUGH_HASH': '0', 'TARGET_BEAM_WIDTH_INCREASE_RATE': 3.4996173715061474, 'TARGET_BEAM_WIDTH_HALF_PROGRES_RATE': 0.501261049454403, 'MAX_BEAM_WIDTH': 615}. Best is trial 216 with value: 1007263419.0.\u001b[0m\n"
     ]
    },
    {
     "name": "stdout",
     "output_type": "stream",
     "text": [
      "callback ok\n",
      "index_parallel=4\n",
      "sed -i 4_main.cpp -e 's/^constexpr int hash_table_size = .*;         \\/\\/ OPTIMIZE \\[9, 18\\]$/constexpr int hash_table_size = 9;         \\/\\/ OPTIMIZE [9, 18]/' -e 's/^constexpr double K_START = .*;  \\/\\/ OPTIMIZE \\[0\\.04, 0\\.2\\] LOG$/constexpr double K_START = 0.08351293082479734;  \\/\\/ OPTIMIZE [0.04, 0.2] LOG/' -e 's/^constexpr double K_END = .*;   \\/\\/ OPTIMIZE \\[0\\.03, 0\\.1\\] LOG$/constexpr double K_END = 0.054690798573944197;   \\/\\/ OPTIMIZE [0.03, 0.1] LOG/' -e 's/^constexpr double K_H = .*;      \\/\\/ OPTIMIZE \\[0\\.001, 0\\.999\\]$/constexpr double K_H = 0.6552710648199476;      \\/\\/ OPTIMIZE [0.001, 0.999]/' -e 's/^constexpr short PURCHASE_TURN_LIMIT = .*;  \\/\\/ OPTIMIZE \\[790, 870\\]$/constexpr short PURCHASE_TURN_LIMIT = 849;  \\/\\/ OPTIMIZE [790, 870]/' -e 's/^constexpr int ROUGH_HASH = .*;      \\/\\/ OPTIMIZE {0, 0b00000001, 0b00010001, 0b00010011, 0b00110011}$/constexpr int ROUGH_HASH = 0;      \\/\\/ OPTIMIZE {0, 0b00000001, 0b00010001, 0b00010011, 0b00110011}/' -e 's/^constexpr double TARGET_BEAM_WIDTH_INCREASE_RATE = .*;      \\/\\/ OPTIMIZE \\[0\\.25, 4\\.0\\] LOG$/constexpr double TARGET_BEAM_WIDTH_INCREASE_RATE = 3.5366651668446663;      \\/\\/ OPTIMIZE [0.25, 4.0] LOG/' -e 's/^constexpr double TARGET_BEAM_WIDTH_HALF_PROGRES_RATE = .*;  \\/\\/ OPTIMIZE \\[0\\.02, 0\\.98\\]$/constexpr double TARGET_BEAM_WIDTH_HALF_PROGRES_RATE = 0.46530646524783764;  \\/\\/ OPTIMIZE [0.02, 0.98]/' -e 's/^constexpr auto MAX_BEAM_WIDTH = .*;                        \\/\\/ OPTIMIZE \\[400, 4000\\] LOG$/constexpr auto MAX_BEAM_WIDTH = 575;                        \\/\\/ OPTIMIZE [400, 4000] LOG/'\n",
      "g++ 4_main.cpp -std=gnu++17 -O2 -DONLINE_JUDGE -o 4_main.cpp.out 2> /dev/null\n"
     ]
    },
    {
     "name": "stderr",
     "output_type": "stream",
     "text": [
      "\u001b[32m[I 2021-09-11 03:49:17,032]\u001b[0m Trial 241 finished with value: 999168401.0 and parameters: {'hash_table_size': 9, 'K_START': 0.07348202982744478, 'K_END': 0.053013358549872686, 'K_H': 0.6541012376870878, 'PURCHASE_TURN_LIMIT': 849, 'ROUGH_HASH': '0', 'TARGET_BEAM_WIDTH_INCREASE_RATE': 3.515436413119717, 'TARGET_BEAM_WIDTH_HALF_PROGRES_RATE': 0.469405673041163, 'MAX_BEAM_WIDTH': 619}. Best is trial 216 with value: 1007263419.0.\u001b[0m\n"
     ]
    },
    {
     "name": "stdout",
     "output_type": "stream",
     "text": [
      "callback ok\n",
      "index_parallel=5\n",
      "sed -i 5_main.cpp -e 's/^constexpr int hash_table_size = .*;         \\/\\/ OPTIMIZE \\[9, 18\\]$/constexpr int hash_table_size = 9;         \\/\\/ OPTIMIZE [9, 18]/' -e 's/^constexpr double K_START = .*;  \\/\\/ OPTIMIZE \\[0\\.04, 0\\.2\\] LOG$/constexpr double K_START = 0.08164902970008486;  \\/\\/ OPTIMIZE [0.04, 0.2] LOG/' -e 's/^constexpr double K_END = .*;   \\/\\/ OPTIMIZE \\[0\\.03, 0\\.1\\] LOG$/constexpr double K_END = 0.04978935912337244;   \\/\\/ OPTIMIZE [0.03, 0.1] LOG/' -e 's/^constexpr double K_H = .*;      \\/\\/ OPTIMIZE \\[0\\.001, 0\\.999\\]$/constexpr double K_H = 0.655591587318993;      \\/\\/ OPTIMIZE [0.001, 0.999]/' -e 's/^constexpr short PURCHASE_TURN_LIMIT = .*;  \\/\\/ OPTIMIZE \\[790, 870\\]$/constexpr short PURCHASE_TURN_LIMIT = 842;  \\/\\/ OPTIMIZE [790, 870]/' -e 's/^constexpr int ROUGH_HASH = .*;      \\/\\/ OPTIMIZE {0, 0b00000001, 0b00010001, 0b00010011, 0b00110011}$/constexpr int ROUGH_HASH = 0;      \\/\\/ OPTIMIZE {0, 0b00000001, 0b00010001, 0b00010011, 0b00110011}/' -e 's/^constexpr double TARGET_BEAM_WIDTH_INCREASE_RATE = .*;      \\/\\/ OPTIMIZE \\[0\\.25, 4\\.0\\] LOG$/constexpr double TARGET_BEAM_WIDTH_INCREASE_RATE = 3.584300721841341;      \\/\\/ OPTIMIZE [0.25, 4.0] LOG/' -e 's/^constexpr double TARGET_BEAM_WIDTH_HALF_PROGRES_RATE = .*;  \\/\\/ OPTIMIZE \\[0\\.02, 0\\.98\\]$/constexpr double TARGET_BEAM_WIDTH_HALF_PROGRES_RATE = 0.4629448273488184;  \\/\\/ OPTIMIZE [0.02, 0.98]/' -e 's/^constexpr auto MAX_BEAM_WIDTH = .*;                        \\/\\/ OPTIMIZE \\[400, 4000\\] LOG$/constexpr auto MAX_BEAM_WIDTH = 567;                        \\/\\/ OPTIMIZE [400, 4000] LOG/'\n",
      "g++ 5_main.cpp -std=gnu++17 -O2 -DONLINE_JUDGE -o 5_main.cpp.out 2> /dev/null\n"
     ]
    },
    {
     "name": "stderr",
     "output_type": "stream",
     "text": [
      "\u001b[32m[I 2021-09-11 03:49:33,049]\u001b[0m Trial 242 finished with value: 992802057.0 and parameters: {'hash_table_size': 9, 'K_START': 0.08288054504895126, 'K_END': 0.053418681781314675, 'K_H': 0.6554398177404114, 'PURCHASE_TURN_LIMIT': 847, 'ROUGH_HASH': '0b00010011', 'TARGET_BEAM_WIDTH_INCREASE_RATE': 3.5008215723001372, 'TARGET_BEAM_WIDTH_HALF_PROGRES_RATE': 0.4615101699674891, 'MAX_BEAM_WIDTH': 569}. Best is trial 216 with value: 1007263419.0.\u001b[0m\n"
     ]
    },
    {
     "name": "stdout",
     "output_type": "stream",
     "text": [
      "callback ok\n",
      "index_parallel=6\n",
      "sed -i 6_main.cpp -e 's/^constexpr int hash_table_size = .*;         \\/\\/ OPTIMIZE \\[9, 18\\]$/constexpr int hash_table_size = 9;         \\/\\/ OPTIMIZE [9, 18]/' -e 's/^constexpr double K_START = .*;  \\/\\/ OPTIMIZE \\[0\\.04, 0\\.2\\] LOG$/constexpr double K_START = 0.19946799093634335;  \\/\\/ OPTIMIZE [0.04, 0.2] LOG/' -e 's/^constexpr double K_END = .*;   \\/\\/ OPTIMIZE \\[0\\.03, 0\\.1\\] LOG$/constexpr double K_END = 0.04926891414774845;   \\/\\/ OPTIMIZE [0.03, 0.1] LOG/' -e 's/^constexpr double K_H = .*;      \\/\\/ OPTIMIZE \\[0\\.001, 0\\.999\\]$/constexpr double K_H = 0.684209654966899;      \\/\\/ OPTIMIZE [0.001, 0.999]/' -e 's/^constexpr short PURCHASE_TURN_LIMIT = .*;  \\/\\/ OPTIMIZE \\[790, 870\\]$/constexpr short PURCHASE_TURN_LIMIT = 842;  \\/\\/ OPTIMIZE [790, 870]/' -e 's/^constexpr int ROUGH_HASH = .*;      \\/\\/ OPTIMIZE {0, 0b00000001, 0b00010001, 0b00010011, 0b00110011}$/constexpr int ROUGH_HASH = 0;      \\/\\/ OPTIMIZE {0, 0b00000001, 0b00010001, 0b00010011, 0b00110011}/' -e 's/^constexpr double TARGET_BEAM_WIDTH_INCREASE_RATE = .*;      \\/\\/ OPTIMIZE \\[0\\.25, 4\\.0\\] LOG$/constexpr double TARGET_BEAM_WIDTH_INCREASE_RATE = 3.9969356800203233;      \\/\\/ OPTIMIZE [0.25, 4.0] LOG/' -e 's/^constexpr double TARGET_BEAM_WIDTH_HALF_PROGRES_RATE = .*;  \\/\\/ OPTIMIZE \\[0\\.02, 0\\.98\\]$/constexpr double TARGET_BEAM_WIDTH_HALF_PROGRES_RATE = 0.4960916371981501;  \\/\\/ OPTIMIZE [0.02, 0.98]/' -e 's/^constexpr auto MAX_BEAM_WIDTH = .*;                        \\/\\/ OPTIMIZE \\[400, 4000\\] LOG$/constexpr auto MAX_BEAM_WIDTH = 575;                        \\/\\/ OPTIMIZE [400, 4000] LOG/'\n",
      "g++ 6_main.cpp -std=gnu++17 -O2 -DONLINE_JUDGE -o 6_main.cpp.out 2> /dev/null\n"
     ]
    },
    {
     "name": "stderr",
     "output_type": "stream",
     "text": [
      "\u001b[32m[I 2021-09-11 03:49:37,818]\u001b[0m Trial 243 finished with value: 977664783.0 and parameters: {'hash_table_size': 9, 'K_START': 0.0845590514115702, 'K_END': 0.04952197305252307, 'K_H': 0.6563373659284502, 'PURCHASE_TURN_LIMIT': 842, 'ROUGH_HASH': '0b00010011', 'TARGET_BEAM_WIDTH_INCREASE_RATE': 0.44099242317537973, 'TARGET_BEAM_WIDTH_HALF_PROGRES_RATE': 0.4598593173676136, 'MAX_BEAM_WIDTH': 571}. Best is trial 216 with value: 1007263419.0.\u001b[0m\n"
     ]
    },
    {
     "name": "stdout",
     "output_type": "stream",
     "text": [
      "callback ok\n",
      "index_parallel=7\n",
      "sed -i 7_main.cpp -e 's/^constexpr int hash_table_size = .*;         \\/\\/ OPTIMIZE \\[9, 18\\]$/constexpr int hash_table_size = 9;         \\/\\/ OPTIMIZE [9, 18]/' -e 's/^constexpr double K_START = .*;  \\/\\/ OPTIMIZE \\[0\\.04, 0\\.2\\] LOG$/constexpr double K_START = 0.07261278056831184;  \\/\\/ OPTIMIZE [0.04, 0.2] LOG/' -e 's/^constexpr double K_END = .*;   \\/\\/ OPTIMIZE \\[0\\.03, 0\\.1\\] LOG$/constexpr double K_END = 0.054637041300685425;   \\/\\/ OPTIMIZE [0.03, 0.1] LOG/' -e 's/^constexpr double K_H = .*;      \\/\\/ OPTIMIZE \\[0\\.001, 0\\.999\\]$/constexpr double K_H = 0.6826740670836141;      \\/\\/ OPTIMIZE [0.001, 0.999]/' -e 's/^constexpr short PURCHASE_TURN_LIMIT = .*;  \\/\\/ OPTIMIZE \\[790, 870\\]$/constexpr short PURCHASE_TURN_LIMIT = 838;  \\/\\/ OPTIMIZE [790, 870]/' -e 's/^constexpr int ROUGH_HASH = .*;      \\/\\/ OPTIMIZE {0, 0b00000001, 0b00010001, 0b00010011, 0b00110011}$/constexpr int ROUGH_HASH = 0;      \\/\\/ OPTIMIZE {0, 0b00000001, 0b00010001, 0b00010011, 0b00110011}/' -e 's/^constexpr double TARGET_BEAM_WIDTH_INCREASE_RATE = .*;      \\/\\/ OPTIMIZE \\[0\\.25, 4\\.0\\] LOG$/constexpr double TARGET_BEAM_WIDTH_INCREASE_RATE = 3.789208809063338;      \\/\\/ OPTIMIZE [0.25, 4.0] LOG/' -e 's/^constexpr double TARGET_BEAM_WIDTH_HALF_PROGRES_RATE = .*;  \\/\\/ OPTIMIZE \\[0\\.02, 0\\.98\\]$/constexpr double TARGET_BEAM_WIDTH_HALF_PROGRES_RATE = 0.5005489073322985;  \\/\\/ OPTIMIZE [0.02, 0.98]/' -e 's/^constexpr auto MAX_BEAM_WIDTH = .*;                        \\/\\/ OPTIMIZE \\[400, 4000\\] LOG$/constexpr auto MAX_BEAM_WIDTH = 508;                        \\/\\/ OPTIMIZE [400, 4000] LOG/'\n",
      "g++ 7_main.cpp -std=gnu++17 -O2 -DONLINE_JUDGE -o 7_main.cpp.out 2> /dev/null\n"
     ]
    },
    {
     "name": "stderr",
     "output_type": "stream",
     "text": [
      "\u001b[32m[I 2021-09-11 03:50:54,418]\u001b[0m Trial 244 finished with value: 994661306.0 and parameters: {'hash_table_size': 9, 'K_START': 0.08351293082479734, 'K_END': 0.054690798573944197, 'K_H': 0.6552710648199476, 'PURCHASE_TURN_LIMIT': 849, 'ROUGH_HASH': '0', 'TARGET_BEAM_WIDTH_INCREASE_RATE': 3.5366651668446663, 'TARGET_BEAM_WIDTH_HALF_PROGRES_RATE': 0.46530646524783764, 'MAX_BEAM_WIDTH': 575}. Best is trial 216 with value: 1007263419.0.\u001b[0m\n"
     ]
    },
    {
     "name": "stdout",
     "output_type": "stream",
     "text": [
      "callback ok\n",
      "index_parallel=8\n",
      "sed -i 8_main.cpp -e 's/^constexpr int hash_table_size = .*;         \\/\\/ OPTIMIZE \\[9, 18\\]$/constexpr int hash_table_size = 13;         \\/\\/ OPTIMIZE [9, 18]/' -e 's/^constexpr double K_START = .*;  \\/\\/ OPTIMIZE \\[0\\.04, 0\\.2\\] LOG$/constexpr double K_START = 0.07583306754273968;  \\/\\/ OPTIMIZE [0.04, 0.2] LOG/' -e 's/^constexpr double K_END = .*;   \\/\\/ OPTIMIZE \\[0\\.03, 0\\.1\\] LOG$/constexpr double K_END = 0.052109387164971495;   \\/\\/ OPTIMIZE [0.03, 0.1] LOG/' -e 's/^constexpr double K_H = .*;      \\/\\/ OPTIMIZE \\[0\\.001, 0\\.999\\]$/constexpr double K_H = 0.6860619461374309;      \\/\\/ OPTIMIZE [0.001, 0.999]/' -e 's/^constexpr short PURCHASE_TURN_LIMIT = .*;  \\/\\/ OPTIMIZE \\[790, 870\\]$/constexpr short PURCHASE_TURN_LIMIT = 839;  \\/\\/ OPTIMIZE [790, 870]/' -e 's/^constexpr int ROUGH_HASH = .*;      \\/\\/ OPTIMIZE {0, 0b00000001, 0b00010001, 0b00010011, 0b00110011}$/constexpr int ROUGH_HASH = 0b00110011;      \\/\\/ OPTIMIZE {0, 0b00000001, 0b00010001, 0b00010011, 0b00110011}/' -e 's/^constexpr double TARGET_BEAM_WIDTH_INCREASE_RATE = .*;      \\/\\/ OPTIMIZE \\[0\\.25, 4\\.0\\] LOG$/constexpr double TARGET_BEAM_WIDTH_INCREASE_RATE = 3.780567816197265;      \\/\\/ OPTIMIZE [0.25, 4.0] LOG/' -e 's/^constexpr double TARGET_BEAM_WIDTH_HALF_PROGRES_RATE = .*;  \\/\\/ OPTIMIZE \\[0\\.02, 0\\.98\\]$/constexpr double TARGET_BEAM_WIDTH_HALF_PROGRES_RATE = 0.4995927166586419;  \\/\\/ OPTIMIZE [0.02, 0.98]/' -e 's/^constexpr auto MAX_BEAM_WIDTH = .*;                        \\/\\/ OPTIMIZE \\[400, 4000\\] LOG$/constexpr auto MAX_BEAM_WIDTH = 522;                        \\/\\/ OPTIMIZE [400, 4000] LOG/'\n",
      "g++ 8_main.cpp -std=gnu++17 -O2 -DONLINE_JUDGE -o 8_main.cpp.out 2> /dev/null\n"
     ]
    },
    {
     "name": "stderr",
     "output_type": "stream",
     "text": [
      "\u001b[32m[I 2021-09-11 03:51:08,028]\u001b[0m Trial 245 finished with value: 1001648417.0 and parameters: {'hash_table_size': 9, 'K_START': 0.08164902970008486, 'K_END': 0.04978935912337244, 'K_H': 0.655591587318993, 'PURCHASE_TURN_LIMIT': 842, 'ROUGH_HASH': '0', 'TARGET_BEAM_WIDTH_INCREASE_RATE': 3.584300721841341, 'TARGET_BEAM_WIDTH_HALF_PROGRES_RATE': 0.4629448273488184, 'MAX_BEAM_WIDTH': 567}. Best is trial 216 with value: 1007263419.0.\u001b[0m\n"
     ]
    },
    {
     "name": "stdout",
     "output_type": "stream",
     "text": [
      "callback ok\n",
      "index_parallel=9\n",
      "sed -i 9_main.cpp -e 's/^constexpr int hash_table_size = .*;         \\/\\/ OPTIMIZE \\[9, 18\\]$/constexpr int hash_table_size = 9;         \\/\\/ OPTIMIZE [9, 18]/' -e 's/^constexpr double K_START = .*;  \\/\\/ OPTIMIZE \\[0\\.04, 0\\.2\\] LOG$/constexpr double K_START = 0.08012055310511912;  \\/\\/ OPTIMIZE [0.04, 0.2] LOG/' -e 's/^constexpr double K_END = .*;   \\/\\/ OPTIMIZE \\[0\\.03, 0\\.1\\] LOG$/constexpr double K_END = 0.04962028789898218;   \\/\\/ OPTIMIZE [0.03, 0.1] LOG/' -e 's/^constexpr double K_H = .*;      \\/\\/ OPTIMIZE \\[0\\.001, 0\\.999\\]$/constexpr double K_H = 0.6891715899253595;      \\/\\/ OPTIMIZE [0.001, 0.999]/' -e 's/^constexpr short PURCHASE_TURN_LIMIT = .*;  \\/\\/ OPTIMIZE \\[790, 870\\]$/constexpr short PURCHASE_TURN_LIMIT = 842;  \\/\\/ OPTIMIZE [790, 870]/' -e 's/^constexpr int ROUGH_HASH = .*;      \\/\\/ OPTIMIZE {0, 0b00000001, 0b00010001, 0b00010011, 0b00110011}$/constexpr int ROUGH_HASH = 0b00110011;      \\/\\/ OPTIMIZE {0, 0b00000001, 0b00010001, 0b00010011, 0b00110011}/' -e 's/^constexpr double TARGET_BEAM_WIDTH_INCREASE_RATE = .*;      \\/\\/ OPTIMIZE \\[0\\.25, 4\\.0\\] LOG$/constexpr double TARGET_BEAM_WIDTH_INCREASE_RATE = 3.718751594949563;      \\/\\/ OPTIMIZE [0.25, 4.0] LOG/' -e 's/^constexpr double TARGET_BEAM_WIDTH_HALF_PROGRES_RATE = .*;  \\/\\/ OPTIMIZE \\[0\\.02, 0\\.98\\]$/constexpr double TARGET_BEAM_WIDTH_HALF_PROGRES_RATE = 0.4053784515451959;  \\/\\/ OPTIMIZE [0.02, 0.98]/' -e 's/^constexpr auto MAX_BEAM_WIDTH = .*;                        \\/\\/ OPTIMIZE \\[400, 4000\\] LOG$/constexpr auto MAX_BEAM_WIDTH = 513;                        \\/\\/ OPTIMIZE [400, 4000] LOG/'\n",
      "g++ 9_main.cpp -std=gnu++17 -O2 -DONLINE_JUDGE -o 9_main.cpp.out 2> /dev/null\n"
     ]
    },
    {
     "name": "stderr",
     "output_type": "stream",
     "text": [
      "\u001b[32m[I 2021-09-11 03:51:23,248]\u001b[0m Trial 246 finished with value: 1005346629.0 and parameters: {'hash_table_size': 9, 'K_START': 0.19946799093634335, 'K_END': 0.04926891414774845, 'K_H': 0.684209654966899, 'PURCHASE_TURN_LIMIT': 842, 'ROUGH_HASH': '0', 'TARGET_BEAM_WIDTH_INCREASE_RATE': 3.9969356800203233, 'TARGET_BEAM_WIDTH_HALF_PROGRES_RATE': 0.4960916371981501, 'MAX_BEAM_WIDTH': 575}. Best is trial 216 with value: 1007263419.0.\u001b[0m\n"
     ]
    },
    {
     "name": "stdout",
     "output_type": "stream",
     "text": [
      "callback ok\n",
      "index_parallel=10\n"
     ]
    },
    {
     "name": "stderr",
     "output_type": "stream",
     "text": [
      "\u001b[32m[I 2021-09-11 03:51:23,623]\u001b[0m Trial 247 finished with value: 1001580136.0 and parameters: {'hash_table_size': 9, 'K_START': 0.07261278056831184, 'K_END': 0.054637041300685425, 'K_H': 0.6826740670836141, 'PURCHASE_TURN_LIMIT': 838, 'ROUGH_HASH': '0', 'TARGET_BEAM_WIDTH_INCREASE_RATE': 3.789208809063338, 'TARGET_BEAM_WIDTH_HALF_PROGRES_RATE': 0.5005489073322985, 'MAX_BEAM_WIDTH': 508}. Best is trial 216 with value: 1007263419.0.\u001b[0m\n"
     ]
    },
    {
     "name": "stdout",
     "output_type": "stream",
     "text": [
      "callback ok\n",
      "index_parallel=11\n",
      "sed -i 10_main.cpp -e 's/^constexpr int hash_table_size = .*;         \\/\\/ OPTIMIZE \\[9, 18\\]$/constexpr int hash_table_size = 9;         \\/\\/ OPTIMIZE [9, 18]/' -e 's/^constexpr double K_START = .*;  \\/\\/ OPTIMIZE \\[0\\.04, 0\\.2\\] LOG$/constexpr double K_START = 0.08039252057791521;  \\/\\/ OPTIMIZE [0.04, 0.2] LOG/' -e 's/^constexpr double K_END = .*;   \\/\\/ OPTIMIZE \\[0\\.03, 0\\.1\\] LOG$/constexpr double K_END = 0.04926658515264948;   \\/\\/ OPTIMIZE [0.03, 0.1] LOG/' -e 's/^constexpr double K_H = .*;      \\/\\/ OPTIMIZE \\[0\\.001, 0\\.999\\]$/constexpr double K_H = 0.684502211554584;      \\/\\/ OPTIMIZE [0.001, 0.999]/' -e 's/^constexpr short PURCHASE_TURN_LIMIT = .*;  \\/\\/ OPTIMIZE \\[790, 870\\]$/constexpr short PURCHASE_TURN_LIMIT = 842;  \\/\\/ OPTIMIZE [790, 870]/' -e 's/^constexpr int ROUGH_HASH = .*;      \\/\\/ OPTIMIZE {0, 0b00000001, 0b00010001, 0b00010011, 0b00110011}$/constexpr int ROUGH_HASH = 0;      \\/\\/ OPTIMIZE {0, 0b00000001, 0b00010001, 0b00010011, 0b00110011}/' -e 's/^constexpr double TARGET_BEAM_WIDTH_INCREASE_RATE = .*;      \\/\\/ OPTIMIZE \\[0\\.25, 4\\.0\\] LOG$/constexpr double TARGET_BEAM_WIDTH_INCREASE_RATE = 3.6255658839172265;      \\/\\/ OPTIMIZE [0.25, 4.0] LOG/' -e 's/^constexpr double TARGET_BEAM_WIDTH_HALF_PROGRES_RATE = .*;  \\/\\/ OPTIMIZE \\[0\\.02, 0\\.98\\]$/constexpr double TARGET_BEAM_WIDTH_HALF_PROGRES_RATE = 0.4042126102578624;  \\/\\/ OPTIMIZE [0.02, 0.98]/' -e 's/^constexpr auto MAX_BEAM_WIDTH = .*;                        \\/\\/ OPTIMIZE \\[400, 4000\\] LOG$/constexpr auto MAX_BEAM_WIDTH = 514;                        \\/\\/ OPTIMIZE [400, 4000] LOG/'\n",
      "g++ 10_main.cpp -std=gnu++17 -O2 -DONLINE_JUDGE -o 10_main.cpp.out 2> /dev/null\n",
      "sed -i 11_main.cpp -e 's/^constexpr int hash_table_size = .*;         \\/\\/ OPTIMIZE \\[9, 18\\]$/constexpr int hash_table_size = 9;         \\/\\/ OPTIMIZE [9, 18]/' -e 's/^constexpr double K_START = .*;  \\/\\/ OPTIMIZE \\[0\\.04, 0\\.2\\] LOG$/constexpr double K_START = 0.08066333931680501;  \\/\\/ OPTIMIZE [0.04, 0.2] LOG/' -e 's/^constexpr double K_END = .*;   \\/\\/ OPTIMIZE \\[0\\.03, 0\\.1\\] LOG$/constexpr double K_END = 0.046262627178373344;   \\/\\/ OPTIMIZE [0.03, 0.1] LOG/' -e 's/^constexpr double K_H = .*;      \\/\\/ OPTIMIZE \\[0\\.001, 0\\.999\\]$/constexpr double K_H = 0.6869109933178753;      \\/\\/ OPTIMIZE [0.001, 0.999]/' -e 's/^constexpr short PURCHASE_TURN_LIMIT = .*;  \\/\\/ OPTIMIZE \\[790, 870\\]$/constexpr short PURCHASE_TURN_LIMIT = 842;  \\/\\/ OPTIMIZE [790, 870]/' -e 's/^constexpr int ROUGH_HASH = .*;      \\/\\/ OPTIMIZE {0, 0b00000001, 0b00010001, 0b00010011, 0b00110011}$/constexpr int ROUGH_HASH = 0;      \\/\\/ OPTIMIZE {0, 0b00000001, 0b00010001, 0b00010011, 0b00110011}/' -e 's/^constexpr double TARGET_BEAM_WIDTH_INCREASE_RATE = .*;      \\/\\/ OPTIMIZE \\[0\\.25, 4\\.0\\] LOG$/constexpr double TARGET_BEAM_WIDTH_INCREASE_RATE = 3.6506126532836567;      \\/\\/ OPTIMIZE [0.25, 4.0] LOG/' -e 's/^constexpr double TARGET_BEAM_WIDTH_HALF_PROGRES_RATE = .*;  \\/\\/ OPTIMIZE \\[0\\.02, 0\\.98\\]$/constexpr double TARGET_BEAM_WIDTH_HALF_PROGRES_RATE = 0.44114579989542724;  \\/\\/ OPTIMIZE [0.02, 0.98]/' -e 's/^constexpr auto MAX_BEAM_WIDTH = .*;                        \\/\\/ OPTIMIZE \\[400, 4000\\] LOG$/constexpr auto MAX_BEAM_WIDTH = 515;                        \\/\\/ OPTIMIZE [400, 4000] LOG/'\n",
      "g++ 11_main.cpp -std=gnu++17 -O2 -DONLINE_JUDGE -o 11_main.cpp.out 2> /dev/null\n"
     ]
    },
    {
     "name": "stderr",
     "output_type": "stream",
     "text": [
      "\u001b[32m[I 2021-09-11 03:52:41,180]\u001b[0m Trial 248 finished with value: 981655198.0 and parameters: {'hash_table_size': 13, 'K_START': 0.07583306754273968, 'K_END': 0.052109387164971495, 'K_H': 0.6860619461374309, 'PURCHASE_TURN_LIMIT': 839, 'ROUGH_HASH': '0b00110011', 'TARGET_BEAM_WIDTH_INCREASE_RATE': 3.780567816197265, 'TARGET_BEAM_WIDTH_HALF_PROGRES_RATE': 0.4995927166586419, 'MAX_BEAM_WIDTH': 522}. Best is trial 216 with value: 1007263419.0.\u001b[0m\n"
     ]
    },
    {
     "name": "stdout",
     "output_type": "stream",
     "text": [
      "callback ok\n",
      "index_parallel=0\n",
      "sed -i 0_main.cpp -e 's/^constexpr int hash_table_size = .*;         \\/\\/ OPTIMIZE \\[9, 18\\]$/constexpr int hash_table_size = 9;         \\/\\/ OPTIMIZE [9, 18]/' -e 's/^constexpr double K_START = .*;  \\/\\/ OPTIMIZE \\[0\\.04, 0\\.2\\] LOG$/constexpr double K_START = 0.08017705681282354;  \\/\\/ OPTIMIZE [0.04, 0.2] LOG/' -e 's/^constexpr double K_END = .*;   \\/\\/ OPTIMIZE \\[0\\.03, 0\\.1\\] LOG$/constexpr double K_END = 0.04925221245968427;   \\/\\/ OPTIMIZE [0.03, 0.1] LOG/' -e 's/^constexpr double K_H = .*;      \\/\\/ OPTIMIZE \\[0\\.001, 0\\.999\\]$/constexpr double K_H = 0.6833203074545648;      \\/\\/ OPTIMIZE [0.001, 0.999]/' -e 's/^constexpr short PURCHASE_TURN_LIMIT = .*;  \\/\\/ OPTIMIZE \\[790, 870\\]$/constexpr short PURCHASE_TURN_LIMIT = 842;  \\/\\/ OPTIMIZE [790, 870]/' -e 's/^constexpr int ROUGH_HASH = .*;      \\/\\/ OPTIMIZE {0, 0b00000001, 0b00010001, 0b00010011, 0b00110011}$/constexpr int ROUGH_HASH = 0;      \\/\\/ OPTIMIZE {0, 0b00000001, 0b00010001, 0b00010011, 0b00110011}/' -e 's/^constexpr double TARGET_BEAM_WIDTH_INCREASE_RATE = .*;      \\/\\/ OPTIMIZE \\[0\\.25, 4\\.0\\] LOG$/constexpr double TARGET_BEAM_WIDTH_INCREASE_RATE = 3.6120802272047676;      \\/\\/ OPTIMIZE [0.25, 4.0] LOG/' -e 's/^constexpr double TARGET_BEAM_WIDTH_HALF_PROGRES_RATE = .*;  \\/\\/ OPTIMIZE \\[0\\.02, 0\\.98\\]$/constexpr double TARGET_BEAM_WIDTH_HALF_PROGRES_RATE = 0.41329256232262557;  \\/\\/ OPTIMIZE [0.02, 0.98]/' -e 's/^constexpr auto MAX_BEAM_WIDTH = .*;                        \\/\\/ OPTIMIZE \\[400, 4000\\] LOG$/constexpr auto MAX_BEAM_WIDTH = 510;                        \\/\\/ OPTIMIZE [400, 4000] LOG/'\n",
      "g++ 0_main.cpp -std=gnu++17 -O2 -DONLINE_JUDGE -o 0_main.cpp.out 2> /dev/null\n"
     ]
    },
    {
     "name": "stderr",
     "output_type": "stream",
     "text": [
      "\u001b[32m[I 2021-09-11 03:52:47,615]\u001b[0m Trial 249 finished with value: 975529390.0 and parameters: {'hash_table_size': 9, 'K_START': 0.08012055310511912, 'K_END': 0.04962028789898218, 'K_H': 0.6891715899253595, 'PURCHASE_TURN_LIMIT': 842, 'ROUGH_HASH': '0b00110011', 'TARGET_BEAM_WIDTH_INCREASE_RATE': 3.718751594949563, 'TARGET_BEAM_WIDTH_HALF_PROGRES_RATE': 0.4053784515451959, 'MAX_BEAM_WIDTH': 513}. Best is trial 216 with value: 1007263419.0.\u001b[0m\n"
     ]
    },
    {
     "name": "stdout",
     "output_type": "stream",
     "text": [
      "callback ok\n",
      "index_parallel=1\n",
      "sed -i 1_main.cpp -e 's/^constexpr int hash_table_size = .*;         \\/\\/ OPTIMIZE \\[9, 18\\]$/constexpr int hash_table_size = 9;         \\/\\/ OPTIMIZE [9, 18]/' -e 's/^constexpr double K_START = .*;  \\/\\/ OPTIMIZE \\[0\\.04, 0\\.2\\] LOG$/constexpr double K_START = 0.08092361653906747;  \\/\\/ OPTIMIZE [0.04, 0.2] LOG/' -e 's/^constexpr double K_END = .*;   \\/\\/ OPTIMIZE \\[0\\.03, 0\\.1\\] LOG$/constexpr double K_END = 0.04993891667486599;   \\/\\/ OPTIMIZE [0.03, 0.1] LOG/' -e 's/^constexpr double K_H = .*;      \\/\\/ OPTIMIZE \\[0\\.001, 0\\.999\\]$/constexpr double K_H = 0.675669444772354;      \\/\\/ OPTIMIZE [0.001, 0.999]/' -e 's/^constexpr short PURCHASE_TURN_LIMIT = .*;  \\/\\/ OPTIMIZE \\[790, 870\\]$/constexpr short PURCHASE_TURN_LIMIT = 844;  \\/\\/ OPTIMIZE [790, 870]/' -e 's/^constexpr int ROUGH_HASH = .*;      \\/\\/ OPTIMIZE {0, 0b00000001, 0b00010001, 0b00010011, 0b00110011}$/constexpr int ROUGH_HASH = 0;      \\/\\/ OPTIMIZE {0, 0b00000001, 0b00010001, 0b00010011, 0b00110011}/' -e 's/^constexpr double TARGET_BEAM_WIDTH_INCREASE_RATE = .*;      \\/\\/ OPTIMIZE \\[0\\.25, 4\\.0\\] LOG$/constexpr double TARGET_BEAM_WIDTH_INCREASE_RATE = 3.582691595072261;      \\/\\/ OPTIMIZE [0.25, 4.0] LOG/' -e 's/^constexpr double TARGET_BEAM_WIDTH_HALF_PROGRES_RATE = .*;  \\/\\/ OPTIMIZE \\[0\\.02, 0\\.98\\]$/constexpr double TARGET_BEAM_WIDTH_HALF_PROGRES_RATE = 0.4435081322398059;  \\/\\/ OPTIMIZE [0.02, 0.98]/' -e 's/^constexpr auto MAX_BEAM_WIDTH = .*;                        \\/\\/ OPTIMIZE \\[400, 4000\\] LOG$/constexpr auto MAX_BEAM_WIDTH = 435;                        \\/\\/ OPTIMIZE [400, 4000] LOG/'\n",
      "g++ 1_main.cpp -std=gnu++17 -O2 -DONLINE_JUDGE -o 1_main.cpp.out 2> /dev/null\n"
     ]
    },
    {
     "name": "stderr",
     "output_type": "stream",
     "text": [
      "\u001b[32m[I 2021-09-11 03:53:03,869]\u001b[0m Trial 250 finished with value: 989611460.0 and parameters: {'hash_table_size': 9, 'K_START': 0.08039252057791521, 'K_END': 0.04926658515264948, 'K_H': 0.684502211554584, 'PURCHASE_TURN_LIMIT': 842, 'ROUGH_HASH': '0', 'TARGET_BEAM_WIDTH_INCREASE_RATE': 3.6255658839172265, 'TARGET_BEAM_WIDTH_HALF_PROGRES_RATE': 0.4042126102578624, 'MAX_BEAM_WIDTH': 514}. Best is trial 216 with value: 1007263419.0.\u001b[0m\n"
     ]
    },
    {
     "name": "stdout",
     "output_type": "stream",
     "text": [
      "callback ok\n",
      "index_parallel=2\n",
      "sed -i 2_main.cpp -e 's/^constexpr int hash_table_size = .*;         \\/\\/ OPTIMIZE \\[9, 18\\]$/constexpr int hash_table_size = 9;         \\/\\/ OPTIMIZE [9, 18]/' -e 's/^constexpr double K_START = .*;  \\/\\/ OPTIMIZE \\[0\\.04, 0\\.2\\] LOG$/constexpr double K_START = 0.07951672207860784;  \\/\\/ OPTIMIZE [0.04, 0.2] LOG/' -e 's/^constexpr double K_END = .*;   \\/\\/ OPTIMIZE \\[0\\.03, 0\\.1\\] LOG$/constexpr double K_END = 0.050719676210428805;   \\/\\/ OPTIMIZE [0.03, 0.1] LOG/' -e 's/^constexpr double K_H = .*;      \\/\\/ OPTIMIZE \\[0\\.001, 0\\.999\\]$/constexpr double K_H = 0.6749180371958421;      \\/\\/ OPTIMIZE [0.001, 0.999]/' -e 's/^constexpr short PURCHASE_TURN_LIMIT = .*;  \\/\\/ OPTIMIZE \\[790, 870\\]$/constexpr short PURCHASE_TURN_LIMIT = 845;  \\/\\/ OPTIMIZE [790, 870]/' -e 's/^constexpr int ROUGH_HASH = .*;      \\/\\/ OPTIMIZE {0, 0b00000001, 0b00010001, 0b00010011, 0b00110011}$/constexpr int ROUGH_HASH = 0b00000001;      \\/\\/ OPTIMIZE {0, 0b00000001, 0b00010001, 0b00010011, 0b00110011}/' -e 's/^constexpr double TARGET_BEAM_WIDTH_INCREASE_RATE = .*;      \\/\\/ OPTIMIZE \\[0\\.25, 4\\.0\\] LOG$/constexpr double TARGET_BEAM_WIDTH_INCREASE_RATE = 0.612526989241207;      \\/\\/ OPTIMIZE [0.25, 4.0] LOG/' -e 's/^constexpr double TARGET_BEAM_WIDTH_HALF_PROGRES_RATE = .*;  \\/\\/ OPTIMIZE \\[0\\.02, 0\\.98\\]$/constexpr double TARGET_BEAM_WIDTH_HALF_PROGRES_RATE = 0.44444686743241885;  \\/\\/ OPTIMIZE [0.02, 0.98]/' -e 's/^constexpr auto MAX_BEAM_WIDTH = .*;                        \\/\\/ OPTIMIZE \\[400, 4000\\] LOG$/constexpr auto MAX_BEAM_WIDTH = 451;                        \\/\\/ OPTIMIZE [400, 4000] LOG/'\n",
      "g++ 2_main.cpp -std=gnu++17 -O2 -DONLINE_JUDGE -o 2_main.cpp.out 2> /dev/null\n"
     ]
    },
    {
     "name": "stderr",
     "output_type": "stream",
     "text": [
      "\u001b[32m[I 2021-09-11 03:53:14,942]\u001b[0m Trial 251 finished with value: 998600474.0 and parameters: {'hash_table_size': 9, 'K_START': 0.08066333931680501, 'K_END': 0.046262627178373344, 'K_H': 0.6869109933178753, 'PURCHASE_TURN_LIMIT': 842, 'ROUGH_HASH': '0', 'TARGET_BEAM_WIDTH_INCREASE_RATE': 3.6506126532836567, 'TARGET_BEAM_WIDTH_HALF_PROGRES_RATE': 0.44114579989542724, 'MAX_BEAM_WIDTH': 515}. Best is trial 216 with value: 1007263419.0.\u001b[0m\n"
     ]
    },
    {
     "name": "stdout",
     "output_type": "stream",
     "text": [
      "callback ok\n",
      "index_parallel=3\n",
      "sed -i 3_main.cpp -e 's/^constexpr int hash_table_size = .*;         \\/\\/ OPTIMIZE \\[9, 18\\]$/constexpr int hash_table_size = 9;         \\/\\/ OPTIMIZE [9, 18]/' -e 's/^constexpr double K_START = .*;  \\/\\/ OPTIMIZE \\[0\\.04, 0\\.2\\] LOG$/constexpr double K_START = 0.1794607137240861;  \\/\\/ OPTIMIZE [0.04, 0.2] LOG/' -e 's/^constexpr double K_END = .*;   \\/\\/ OPTIMIZE \\[0\\.03, 0\\.1\\] LOG$/constexpr double K_END = 0.051795892518823744;   \\/\\/ OPTIMIZE [0.03, 0.1] LOG/' -e 's/^constexpr double K_H = .*;      \\/\\/ OPTIMIZE \\[0\\.001, 0\\.999\\]$/constexpr double K_H = 0.6701585247378912;      \\/\\/ OPTIMIZE [0.001, 0.999]/' -e 's/^constexpr short PURCHASE_TURN_LIMIT = .*;  \\/\\/ OPTIMIZE \\[790, 870\\]$/constexpr short PURCHASE_TURN_LIMIT = 837;  \\/\\/ OPTIMIZE [790, 870]/' -e 's/^constexpr int ROUGH_HASH = .*;      \\/\\/ OPTIMIZE {0, 0b00000001, 0b00010001, 0b00010011, 0b00110011}$/constexpr int ROUGH_HASH = 0;      \\/\\/ OPTIMIZE {0, 0b00000001, 0b00010001, 0b00010011, 0b00110011}/' -e 's/^constexpr double TARGET_BEAM_WIDTH_INCREASE_RATE = .*;      \\/\\/ OPTIMIZE \\[0\\.25, 4\\.0\\] LOG$/constexpr double TARGET_BEAM_WIDTH_INCREASE_RATE = 3.440853933709329;      \\/\\/ OPTIMIZE [0.25, 4.0] LOG/' -e 's/^constexpr double TARGET_BEAM_WIDTH_HALF_PROGRES_RATE = .*;  \\/\\/ OPTIMIZE \\[0\\.02, 0\\.98\\]$/constexpr double TARGET_BEAM_WIDTH_HALF_PROGRES_RATE = 0.49424563533760163;  \\/\\/ OPTIMIZE [0.02, 0.98]/' -e 's/^constexpr auto MAX_BEAM_WIDTH = .*;                        \\/\\/ OPTIMIZE \\[400, 4000\\] LOG$/constexpr auto MAX_BEAM_WIDTH = 449;                        \\/\\/ OPTIMIZE [400, 4000] LOG/'\n",
      "g++ 3_main.cpp -std=gnu++17 -O2 -DONLINE_JUDGE -o 3_main.cpp.out 2> /dev/null\n"
     ]
    },
    {
     "name": "stderr",
     "output_type": "stream",
     "text": [
      "\u001b[32m[I 2021-09-11 03:54:31,666]\u001b[0m Trial 252 finished with value: 997896987.0 and parameters: {'hash_table_size': 9, 'K_START': 0.08017705681282354, 'K_END': 0.04925221245968427, 'K_H': 0.6833203074545648, 'PURCHASE_TURN_LIMIT': 842, 'ROUGH_HASH': '0', 'TARGET_BEAM_WIDTH_INCREASE_RATE': 3.6120802272047676, 'TARGET_BEAM_WIDTH_HALF_PROGRES_RATE': 0.41329256232262557, 'MAX_BEAM_WIDTH': 510}. Best is trial 216 with value: 1007263419.0.\u001b[0m\n"
     ]
    },
    {
     "name": "stdout",
     "output_type": "stream",
     "text": [
      "callback ok\n",
      "index_parallel=4\n",
      "sed -i 4_main.cpp -e 's/^constexpr int hash_table_size = .*;         \\/\\/ OPTIMIZE \\[9, 18\\]$/constexpr int hash_table_size = 9;         \\/\\/ OPTIMIZE [9, 18]/' -e 's/^constexpr double K_START = .*;  \\/\\/ OPTIMIZE \\[0\\.04, 0\\.2\\] LOG$/constexpr double K_START = 0.17862186655389023;  \\/\\/ OPTIMIZE [0.04, 0.2] LOG/' -e 's/^constexpr double K_END = .*;   \\/\\/ OPTIMIZE \\[0\\.03, 0\\.1\\] LOG$/constexpr double K_END = 0.05063004332538912;   \\/\\/ OPTIMIZE [0.03, 0.1] LOG/' -e 's/^constexpr double K_H = .*;      \\/\\/ OPTIMIZE \\[0\\.001, 0\\.999\\]$/constexpr double K_H = 0.627794450726207;      \\/\\/ OPTIMIZE [0.001, 0.999]/' -e 's/^constexpr short PURCHASE_TURN_LIMIT = .*;  \\/\\/ OPTIMIZE \\[790, 870\\]$/constexpr short PURCHASE_TURN_LIMIT = 837;  \\/\\/ OPTIMIZE [790, 870]/' -e 's/^constexpr int ROUGH_HASH = .*;      \\/\\/ OPTIMIZE {0, 0b00000001, 0b00010001, 0b00010011, 0b00110011}$/constexpr int ROUGH_HASH = 0b00000001;      \\/\\/ OPTIMIZE {0, 0b00000001, 0b00010001, 0b00010011, 0b00110011}/' -e 's/^constexpr double TARGET_BEAM_WIDTH_INCREASE_RATE = .*;      \\/\\/ OPTIMIZE \\[0\\.25, 4\\.0\\] LOG$/constexpr double TARGET_BEAM_WIDTH_INCREASE_RATE = 3.8273090154721388;      \\/\\/ OPTIMIZE [0.25, 4.0] LOG/' -e 's/^constexpr double TARGET_BEAM_WIDTH_HALF_PROGRES_RATE = .*;  \\/\\/ OPTIMIZE \\[0\\.02, 0\\.98\\]$/constexpr double TARGET_BEAM_WIDTH_HALF_PROGRES_RATE = 0.4945792478606798;  \\/\\/ OPTIMIZE [0.02, 0.98]/' -e 's/^constexpr auto MAX_BEAM_WIDTH = .*;                        \\/\\/ OPTIMIZE \\[400, 4000\\] LOG$/constexpr auto MAX_BEAM_WIDTH = 637;                        \\/\\/ OPTIMIZE [400, 4000] LOG/'\n",
      "g++ 4_main.cpp -std=gnu++17 -O2 -DONLINE_JUDGE -o 4_main.cpp.out 2> /dev/null\n"
     ]
    },
    {
     "name": "stderr",
     "output_type": "stream",
     "text": [
      "\u001b[32m[I 2021-09-11 03:54:38,761]\u001b[0m Trial 253 finished with value: 1000809475.0 and parameters: {'hash_table_size': 9, 'K_START': 0.08092361653906747, 'K_END': 0.04993891667486599, 'K_H': 0.675669444772354, 'PURCHASE_TURN_LIMIT': 844, 'ROUGH_HASH': '0', 'TARGET_BEAM_WIDTH_INCREASE_RATE': 3.582691595072261, 'TARGET_BEAM_WIDTH_HALF_PROGRES_RATE': 0.4435081322398059, 'MAX_BEAM_WIDTH': 435}. Best is trial 216 with value: 1007263419.0.\u001b[0m\n"
     ]
    },
    {
     "name": "stdout",
     "output_type": "stream",
     "text": [
      "callback ok\n",
      "index_parallel=5\n",
      "sed -i 5_main.cpp -e 's/^constexpr int hash_table_size = .*;         \\/\\/ OPTIMIZE \\[9, 18\\]$/constexpr int hash_table_size = 9;         \\/\\/ OPTIMIZE [9, 18]/' -e 's/^constexpr double K_START = .*;  \\/\\/ OPTIMIZE \\[0\\.04, 0\\.2\\] LOG$/constexpr double K_START = 0.0723521233535378;  \\/\\/ OPTIMIZE [0.04, 0.2] LOG/' -e 's/^constexpr double K_END = .*;   \\/\\/ OPTIMIZE \\[0\\.03, 0\\.1\\] LOG$/constexpr double K_END = 0.051476717403873905;   \\/\\/ OPTIMIZE [0.03, 0.1] LOG/' -e 's/^constexpr double K_H = .*;      \\/\\/ OPTIMIZE \\[0\\.001, 0\\.999\\]$/constexpr double K_H = 0.6223534166912145;      \\/\\/ OPTIMIZE [0.001, 0.999]/' -e 's/^constexpr short PURCHASE_TURN_LIMIT = .*;  \\/\\/ OPTIMIZE \\[790, 870\\]$/constexpr short PURCHASE_TURN_LIMIT = 837;  \\/\\/ OPTIMIZE [790, 870]/' -e 's/^constexpr int ROUGH_HASH = .*;      \\/\\/ OPTIMIZE {0, 0b00000001, 0b00010001, 0b00010011, 0b00110011}$/constexpr int ROUGH_HASH = 0;      \\/\\/ OPTIMIZE {0, 0b00000001, 0b00010001, 0b00010011, 0b00110011}/' -e 's/^constexpr double TARGET_BEAM_WIDTH_INCREASE_RATE = .*;      \\/\\/ OPTIMIZE \\[0\\.25, 4\\.0\\] LOG$/constexpr double TARGET_BEAM_WIDTH_INCREASE_RATE = 3.857738875995886;      \\/\\/ OPTIMIZE [0.25, 4.0] LOG/' -e 's/^constexpr double TARGET_BEAM_WIDTH_HALF_PROGRES_RATE = .*;  \\/\\/ OPTIMIZE \\[0\\.02, 0\\.98\\]$/constexpr double TARGET_BEAM_WIDTH_HALF_PROGRES_RATE = 0.4964118817538072;  \\/\\/ OPTIMIZE [0.02, 0.98]/' -e 's/^constexpr auto MAX_BEAM_WIDTH = .*;                        \\/\\/ OPTIMIZE \\[400, 4000\\] LOG$/constexpr auto MAX_BEAM_WIDTH = 644;                        \\/\\/ OPTIMIZE [400, 4000] LOG/'\n",
      "g++ 5_main.cpp -std=gnu++17 -O2 -DONLINE_JUDGE -o 5_main.cpp.out 2> /dev/null\n"
     ]
    },
    {
     "name": "stderr",
     "output_type": "stream",
     "text": [
      "\u001b[32m[I 2021-09-11 03:54:55,450]\u001b[0m Trial 254 finished with value: 986365256.0 and parameters: {'hash_table_size': 9, 'K_START': 0.07951672207860784, 'K_END': 0.050719676210428805, 'K_H': 0.6749180371958421, 'PURCHASE_TURN_LIMIT': 845, 'ROUGH_HASH': '0b00000001', 'TARGET_BEAM_WIDTH_INCREASE_RATE': 0.612526989241207, 'TARGET_BEAM_WIDTH_HALF_PROGRES_RATE': 0.44444686743241885, 'MAX_BEAM_WIDTH': 451}. Best is trial 216 with value: 1007263419.0.\u001b[0m\n"
     ]
    },
    {
     "name": "stdout",
     "output_type": "stream",
     "text": [
      "callback ok\n",
      "index_parallel=6\n",
      "sed -i 6_main.cpp -e 's/^constexpr int hash_table_size = .*;         \\/\\/ OPTIMIZE \\[9, 18\\]$/constexpr int hash_table_size = 9;         \\/\\/ OPTIMIZE [9, 18]/' -e 's/^constexpr double K_START = .*;  \\/\\/ OPTIMIZE \\[0\\.04, 0\\.2\\] LOG$/constexpr double K_START = 0.18123680566372974;  \\/\\/ OPTIMIZE [0.04, 0.2] LOG/' -e 's/^constexpr double K_END = .*;   \\/\\/ OPTIMIZE \\[0\\.03, 0\\.1\\] LOG$/constexpr double K_END = 0.05407831716617847;   \\/\\/ OPTIMIZE [0.03, 0.1] LOG/' -e 's/^constexpr double K_H = .*;      \\/\\/ OPTIMIZE \\[0\\.001, 0\\.999\\]$/constexpr double K_H = 0.6010307559003807;      \\/\\/ OPTIMIZE [0.001, 0.999]/' -e 's/^constexpr short PURCHASE_TURN_LIMIT = .*;  \\/\\/ OPTIMIZE \\[790, 870\\]$/constexpr short PURCHASE_TURN_LIMIT = 837;  \\/\\/ OPTIMIZE [790, 870]/' -e 's/^constexpr int ROUGH_HASH = .*;      \\/\\/ OPTIMIZE {0, 0b00000001, 0b00010001, 0b00010011, 0b00110011}$/constexpr int ROUGH_HASH = 0;      \\/\\/ OPTIMIZE {0, 0b00000001, 0b00010001, 0b00010011, 0b00110011}/' -e 's/^constexpr double TARGET_BEAM_WIDTH_INCREASE_RATE = .*;      \\/\\/ OPTIMIZE \\[0\\.25, 4\\.0\\] LOG$/constexpr double TARGET_BEAM_WIDTH_INCREASE_RATE = 3.8289149405006153;      \\/\\/ OPTIMIZE [0.25, 4.0] LOG/' -e 's/^constexpr double TARGET_BEAM_WIDTH_HALF_PROGRES_RATE = .*;  \\/\\/ OPTIMIZE \\[0\\.02, 0\\.98\\]$/constexpr double TARGET_BEAM_WIDTH_HALF_PROGRES_RATE = 0.49420240909260166;  \\/\\/ OPTIMIZE [0.02, 0.98]/' -e 's/^constexpr auto MAX_BEAM_WIDTH = .*;                        \\/\\/ OPTIMIZE \\[400, 4000\\] LOG$/constexpr auto MAX_BEAM_WIDTH = 639;                        \\/\\/ OPTIMIZE [400, 4000] LOG/'\n",
      "g++ 6_main.cpp -std=gnu++17 -O2 -DONLINE_JUDGE -o 6_main.cpp.out 2> /dev/null\n"
     ]
    },
    {
     "name": "stderr",
     "output_type": "stream",
     "text": [
      "\u001b[32m[I 2021-09-11 03:55:06,278]\u001b[0m Trial 255 finished with value: 1005849953.0 and parameters: {'hash_table_size': 9, 'K_START': 0.1794607137240861, 'K_END': 0.051795892518823744, 'K_H': 0.6701585247378912, 'PURCHASE_TURN_LIMIT': 837, 'ROUGH_HASH': '0', 'TARGET_BEAM_WIDTH_INCREASE_RATE': 3.440853933709329, 'TARGET_BEAM_WIDTH_HALF_PROGRES_RATE': 0.49424563533760163, 'MAX_BEAM_WIDTH': 449}. Best is trial 216 with value: 1007263419.0.\u001b[0m\n"
     ]
    },
    {
     "name": "stdout",
     "output_type": "stream",
     "text": [
      "callback ok\n",
      "index_parallel=7\n",
      "sed -i 7_main.cpp -e 's/^constexpr int hash_table_size = .*;         \\/\\/ OPTIMIZE \\[9, 18\\]$/constexpr int hash_table_size = 9;         \\/\\/ OPTIMIZE [9, 18]/' -e 's/^constexpr double K_START = .*;  \\/\\/ OPTIMIZE \\[0\\.04, 0\\.2\\] LOG$/constexpr double K_START = 0.07544174741789068;  \\/\\/ OPTIMIZE [0.04, 0.2] LOG/' -e 's/^constexpr double K_END = .*;   \\/\\/ OPTIMIZE \\[0\\.03, 0\\.1\\] LOG$/constexpr double K_END = 0.05154913715343313;   \\/\\/ OPTIMIZE [0.03, 0.1] LOG/' -e 's/^constexpr double K_H = .*;      \\/\\/ OPTIMIZE \\[0\\.001, 0\\.999\\]$/constexpr double K_H = 0.6218099131265;      \\/\\/ OPTIMIZE [0.001, 0.999]/' -e 's/^constexpr short PURCHASE_TURN_LIMIT = .*;  \\/\\/ OPTIMIZE \\[790, 870\\]$/constexpr short PURCHASE_TURN_LIMIT = 837;  \\/\\/ OPTIMIZE [790, 870]/' -e 's/^constexpr int ROUGH_HASH = .*;      \\/\\/ OPTIMIZE {0, 0b00000001, 0b00010001, 0b00010011, 0b00110011}$/constexpr int ROUGH_HASH = 0;      \\/\\/ OPTIMIZE {0, 0b00000001, 0b00010001, 0b00010011, 0b00110011}/' -e 's/^constexpr double TARGET_BEAM_WIDTH_INCREASE_RATE = .*;      \\/\\/ OPTIMIZE \\[0\\.25, 4\\.0\\] LOG$/constexpr double TARGET_BEAM_WIDTH_INCREASE_RATE = 3.429424692396913;      \\/\\/ OPTIMIZE [0.25, 4.0] LOG/' -e 's/^constexpr double TARGET_BEAM_WIDTH_HALF_PROGRES_RATE = .*;  \\/\\/ OPTIMIZE \\[0\\.02, 0\\.98\\]$/constexpr double TARGET_BEAM_WIDTH_HALF_PROGRES_RATE = 0.5033850168796875;  \\/\\/ OPTIMIZE [0.02, 0.98]/' -e 's/^constexpr auto MAX_BEAM_WIDTH = .*;                        \\/\\/ OPTIMIZE \\[400, 4000\\] LOG$/constexpr auto MAX_BEAM_WIDTH = 651;                        \\/\\/ OPTIMIZE [400, 4000] LOG/'\n",
      "g++ 7_main.cpp -std=gnu++17 -O2 -DONLINE_JUDGE -o 7_main.cpp.out 2> /dev/null\n"
     ]
    },
    {
     "name": "stderr",
     "output_type": "stream",
     "text": [
      "\u001b[32m[I 2021-09-11 03:56:22,018]\u001b[0m Trial 256 finished with value: 1002461269.0 and parameters: {'hash_table_size': 9, 'K_START': 0.17862186655389023, 'K_END': 0.05063004332538912, 'K_H': 0.627794450726207, 'PURCHASE_TURN_LIMIT': 837, 'ROUGH_HASH': '0b00000001', 'TARGET_BEAM_WIDTH_INCREASE_RATE': 3.8273090154721388, 'TARGET_BEAM_WIDTH_HALF_PROGRES_RATE': 0.4945792478606798, 'MAX_BEAM_WIDTH': 637}. Best is trial 216 with value: 1007263419.0.\u001b[0m\n"
     ]
    },
    {
     "name": "stdout",
     "output_type": "stream",
     "text": [
      "callback ok\n",
      "index_parallel=8\n",
      "sed -i 8_main.cpp -e 's/^constexpr int hash_table_size = .*;         \\/\\/ OPTIMIZE \\[9, 18\\]$/constexpr int hash_table_size = 9;         \\/\\/ OPTIMIZE [9, 18]/' -e 's/^constexpr double K_START = .*;  \\/\\/ OPTIMIZE \\[0\\.04, 0\\.2\\] LOG$/constexpr double K_START = 0.1854190261814199;  \\/\\/ OPTIMIZE [0.04, 0.2] LOG/' -e 's/^constexpr double K_END = .*;   \\/\\/ OPTIMIZE \\[0\\.03, 0\\.1\\] LOG$/constexpr double K_END = 0.05120940210456808;   \\/\\/ OPTIMIZE [0.03, 0.1] LOG/' -e 's/^constexpr double K_H = .*;      \\/\\/ OPTIMIZE \\[0\\.001, 0\\.999\\]$/constexpr double K_H = 0.6226833490581969;      \\/\\/ OPTIMIZE [0.001, 0.999]/' -e 's/^constexpr short PURCHASE_TURN_LIMIT = .*;  \\/\\/ OPTIMIZE \\[790, 870\\]$/constexpr short PURCHASE_TURN_LIMIT = 837;  \\/\\/ OPTIMIZE [790, 870]/' -e 's/^constexpr int ROUGH_HASH = .*;      \\/\\/ OPTIMIZE {0, 0b00000001, 0b00010001, 0b00010011, 0b00110011}$/constexpr int ROUGH_HASH = 0b00000001;      \\/\\/ OPTIMIZE {0, 0b00000001, 0b00010001, 0b00010011, 0b00110011}/' -e 's/^constexpr double TARGET_BEAM_WIDTH_INCREASE_RATE = .*;      \\/\\/ OPTIMIZE \\[0\\.25, 4\\.0\\] LOG$/constexpr double TARGET_BEAM_WIDTH_INCREASE_RATE = 3.437479086686753;      \\/\\/ OPTIMIZE [0.25, 4.0] LOG/' -e 's/^constexpr double TARGET_BEAM_WIDTH_HALF_PROGRES_RATE = .*;  \\/\\/ OPTIMIZE \\[0\\.02, 0\\.98\\]$/constexpr double TARGET_BEAM_WIDTH_HALF_PROGRES_RATE = 0.497648527613495;  \\/\\/ OPTIMIZE [0.02, 0.98]/' -e 's/^constexpr auto MAX_BEAM_WIDTH = .*;                        \\/\\/ OPTIMIZE \\[400, 4000\\] LOG$/constexpr auto MAX_BEAM_WIDTH = 587;                        \\/\\/ OPTIMIZE [400, 4000] LOG/'\n",
      "g++ 8_main.cpp -std=gnu++17 -O2 -DONLINE_JUDGE -o 8_main.cpp.out 2> /dev/null\n"
     ]
    },
    {
     "name": "stderr",
     "output_type": "stream",
     "text": [
      "\u001b[32m[I 2021-09-11 03:56:29,094]\u001b[0m Trial 257 finished with value: 1006265700.0 and parameters: {'hash_table_size': 9, 'K_START': 0.0723521233535378, 'K_END': 0.051476717403873905, 'K_H': 0.6223534166912145, 'PURCHASE_TURN_LIMIT': 837, 'ROUGH_HASH': '0', 'TARGET_BEAM_WIDTH_INCREASE_RATE': 3.857738875995886, 'TARGET_BEAM_WIDTH_HALF_PROGRES_RATE': 0.4964118817538072, 'MAX_BEAM_WIDTH': 644}. Best is trial 216 with value: 1007263419.0.\u001b[0m\n"
     ]
    },
    {
     "name": "stdout",
     "output_type": "stream",
     "text": [
      "callback ok\n",
      "index_parallel=9\n",
      "sed -i 9_main.cpp -e 's/^constexpr int hash_table_size = .*;         \\/\\/ OPTIMIZE \\[9, 18\\]$/constexpr int hash_table_size = 9;         \\/\\/ OPTIMIZE [9, 18]/' -e 's/^constexpr double K_START = .*;  \\/\\/ OPTIMIZE \\[0\\.04, 0\\.2\\] LOG$/constexpr double K_START = 0.18174635045825202;  \\/\\/ OPTIMIZE [0.04, 0.2] LOG/' -e 's/^constexpr double K_END = .*;   \\/\\/ OPTIMIZE \\[0\\.03, 0\\.1\\] LOG$/constexpr double K_END = 0.04730165600426887;   \\/\\/ OPTIMIZE [0.03, 0.1] LOG/' -e 's/^constexpr double K_H = .*;      \\/\\/ OPTIMIZE \\[0\\.001, 0\\.999\\]$/constexpr double K_H = 0.6127122277101894;      \\/\\/ OPTIMIZE [0.001, 0.999]/' -e 's/^constexpr short PURCHASE_TURN_LIMIT = .*;  \\/\\/ OPTIMIZE \\[790, 870\\]$/constexpr short PURCHASE_TURN_LIMIT = 837;  \\/\\/ OPTIMIZE [790, 870]/' -e 's/^constexpr int ROUGH_HASH = .*;      \\/\\/ OPTIMIZE {0, 0b00000001, 0b00010001, 0b00010011, 0b00110011}$/constexpr int ROUGH_HASH = 0b00000001;      \\/\\/ OPTIMIZE {0, 0b00000001, 0b00010001, 0b00010011, 0b00110011}/' -e 's/^constexpr double TARGET_BEAM_WIDTH_INCREASE_RATE = .*;      \\/\\/ OPTIMIZE \\[0\\.25, 4\\.0\\] LOG$/constexpr double TARGET_BEAM_WIDTH_INCREASE_RATE = 3.428703102113933;      \\/\\/ OPTIMIZE [0.25, 4.0] LOG/' -e 's/^constexpr double TARGET_BEAM_WIDTH_HALF_PROGRES_RATE = .*;  \\/\\/ OPTIMIZE \\[0\\.02, 0\\.98\\]$/constexpr double TARGET_BEAM_WIDTH_HALF_PROGRES_RATE = 0.5053913281163116;  \\/\\/ OPTIMIZE [0.02, 0.98]/' -e 's/^constexpr auto MAX_BEAM_WIDTH = .*;                        \\/\\/ OPTIMIZE \\[400, 4000\\] LOG$/constexpr auto MAX_BEAM_WIDTH = 579;                        \\/\\/ OPTIMIZE [400, 4000] LOG/'\n",
      "g++ 9_main.cpp -std=gnu++17 -O2 -DONLINE_JUDGE -o 9_main.cpp.out 2> /dev/null\n"
     ]
    },
    {
     "name": "stderr",
     "output_type": "stream",
     "text": [
      "\u001b[32m[I 2021-09-11 03:56:46,314]\u001b[0m Trial 258 finished with value: 1003860637.0 and parameters: {'hash_table_size': 9, 'K_START': 0.18123680566372974, 'K_END': 0.05407831716617847, 'K_H': 0.6010307559003807, 'PURCHASE_TURN_LIMIT': 837, 'ROUGH_HASH': '0', 'TARGET_BEAM_WIDTH_INCREASE_RATE': 3.8289149405006153, 'TARGET_BEAM_WIDTH_HALF_PROGRES_RATE': 0.49420240909260166, 'MAX_BEAM_WIDTH': 639}. Best is trial 216 with value: 1007263419.0.\u001b[0m\n"
     ]
    },
    {
     "name": "stdout",
     "output_type": "stream",
     "text": [
      "callback ok\n",
      "index_parallel=10\n",
      "sed -i 10_main.cpp -e 's/^constexpr int hash_table_size = .*;         \\/\\/ OPTIMIZE \\[9, 18\\]$/constexpr int hash_table_size = 9;         \\/\\/ OPTIMIZE [9, 18]/' -e 's/^constexpr double K_START = .*;  \\/\\/ OPTIMIZE \\[0\\.04, 0\\.2\\] LOG$/constexpr double K_START = 0.19968077803187567;  \\/\\/ OPTIMIZE [0.04, 0.2] LOG/' -e 's/^constexpr double K_END = .*;   \\/\\/ OPTIMIZE \\[0\\.03, 0\\.1\\] LOG$/constexpr double K_END = 0.04751268190817104;   \\/\\/ OPTIMIZE [0.03, 0.1] LOG/' -e 's/^constexpr double K_H = .*;      \\/\\/ OPTIMIZE \\[0\\.001, 0\\.999\\]$/constexpr double K_H = 0.5962513516432082;      \\/\\/ OPTIMIZE [0.001, 0.999]/' -e 's/^constexpr short PURCHASE_TURN_LIMIT = .*;  \\/\\/ OPTIMIZE \\[790, 870\\]$/constexpr short PURCHASE_TURN_LIMIT = 837;  \\/\\/ OPTIMIZE [790, 870]/' -e 's/^constexpr int ROUGH_HASH = .*;      \\/\\/ OPTIMIZE {0, 0b00000001, 0b00010001, 0b00010011, 0b00110011}$/constexpr int ROUGH_HASH = 0b00000001;      \\/\\/ OPTIMIZE {0, 0b00000001, 0b00010001, 0b00010011, 0b00110011}/' -e 's/^constexpr double TARGET_BEAM_WIDTH_INCREASE_RATE = .*;      \\/\\/ OPTIMIZE \\[0\\.25, 4\\.0\\] LOG$/constexpr double TARGET_BEAM_WIDTH_INCREASE_RATE = 3.47326047955602;      \\/\\/ OPTIMIZE [0.25, 4.0] LOG/' -e 's/^constexpr double TARGET_BEAM_WIDTH_HALF_PROGRES_RATE = .*;  \\/\\/ OPTIMIZE \\[0\\.02, 0\\.98\\]$/constexpr double TARGET_BEAM_WIDTH_HALF_PROGRES_RATE = 0.5068209804778165;  \\/\\/ OPTIMIZE [0.02, 0.98]/' -e 's/^constexpr auto MAX_BEAM_WIDTH = .*;                        \\/\\/ OPTIMIZE \\[400, 4000\\] LOG$/constexpr auto MAX_BEAM_WIDTH = 636;                        \\/\\/ OPTIMIZE [400, 4000] LOG/'\n",
      "g++ 10_main.cpp -std=gnu++17 -O2 -DONLINE_JUDGE -o 10_main.cpp.out 2> /dev/null\n"
     ]
    },
    {
     "name": "stderr",
     "output_type": "stream",
     "text": [
      "\u001b[32m[I 2021-09-11 03:56:52,534]\u001b[0m Trial 259 finished with value: 1000557268.0 and parameters: {'hash_table_size': 9, 'K_START': 0.07544174741789068, 'K_END': 0.05154913715343313, 'K_H': 0.6218099131265, 'PURCHASE_TURN_LIMIT': 837, 'ROUGH_HASH': '0', 'TARGET_BEAM_WIDTH_INCREASE_RATE': 3.429424692396913, 'TARGET_BEAM_WIDTH_HALF_PROGRES_RATE': 0.5033850168796875, 'MAX_BEAM_WIDTH': 651}. Best is trial 216 with value: 1007263419.0.\u001b[0m\n"
     ]
    },
    {
     "name": "stdout",
     "output_type": "stream",
     "text": [
      "callback ok\n",
      "index_parallel=11\n",
      "sed -i 11_main.cpp -e 's/^constexpr int hash_table_size = .*;         \\/\\/ OPTIMIZE \\[9, 18\\]$/constexpr int hash_table_size = 9;         \\/\\/ OPTIMIZE [9, 18]/' -e 's/^constexpr double K_START = .*;  \\/\\/ OPTIMIZE \\[0\\.04, 0\\.2\\] LOG$/constexpr double K_START = 0.17540511193042188;  \\/\\/ OPTIMIZE [0.04, 0.2] LOG/' -e 's/^constexpr double K_END = .*;   \\/\\/ OPTIMIZE \\[0\\.03, 0\\.1\\] LOG$/constexpr double K_END = 0.04837724360726453;   \\/\\/ OPTIMIZE [0.03, 0.1] LOG/' -e 's/^constexpr double K_H = .*;      \\/\\/ OPTIMIZE \\[0\\.001, 0\\.999\\]$/constexpr double K_H = 0.5733050990176143;      \\/\\/ OPTIMIZE [0.001, 0.999]/' -e 's/^constexpr short PURCHASE_TURN_LIMIT = .*;  \\/\\/ OPTIMIZE \\[790, 870\\]$/constexpr short PURCHASE_TURN_LIMIT = 838;  \\/\\/ OPTIMIZE [790, 870]/' -e 's/^constexpr int ROUGH_HASH = .*;      \\/\\/ OPTIMIZE {0, 0b00000001, 0b00010001, 0b00010011, 0b00110011}$/constexpr int ROUGH_HASH = 0b00000001;      \\/\\/ OPTIMIZE {0, 0b00000001, 0b00010001, 0b00010011, 0b00110011}/' -e 's/^constexpr double TARGET_BEAM_WIDTH_INCREASE_RATE = .*;      \\/\\/ OPTIMIZE \\[0\\.25, 4\\.0\\] LOG$/constexpr double TARGET_BEAM_WIDTH_INCREASE_RATE = 3.4020779577117732;      \\/\\/ OPTIMIZE [0.25, 4.0] LOG/' -e 's/^constexpr double TARGET_BEAM_WIDTH_HALF_PROGRES_RATE = .*;  \\/\\/ OPTIMIZE \\[0\\.02, 0\\.98\\]$/constexpr double TARGET_BEAM_WIDTH_HALF_PROGRES_RATE = 0.4869010026343992;  \\/\\/ OPTIMIZE [0.02, 0.98]/' -e 's/^constexpr auto MAX_BEAM_WIDTH = .*;                        \\/\\/ OPTIMIZE \\[400, 4000\\] LOG$/constexpr auto MAX_BEAM_WIDTH = 595;                        \\/\\/ OPTIMIZE [400, 4000] LOG/'\n",
      "g++ 11_main.cpp -std=gnu++17 -O2 -DONLINE_JUDGE -o 11_main.cpp.out 2> /dev/null\n"
     ]
    },
    {
     "name": "stderr",
     "output_type": "stream",
     "text": [
      "\u001b[32m[I 2021-09-11 03:58:11,770]\u001b[0m Trial 260 finished with value: 999537567.0 and parameters: {'hash_table_size': 9, 'K_START': 0.1854190261814199, 'K_END': 0.05120940210456808, 'K_H': 0.6226833490581969, 'PURCHASE_TURN_LIMIT': 837, 'ROUGH_HASH': '0b00000001', 'TARGET_BEAM_WIDTH_INCREASE_RATE': 3.437479086686753, 'TARGET_BEAM_WIDTH_HALF_PROGRES_RATE': 0.497648527613495, 'MAX_BEAM_WIDTH': 587}. Best is trial 216 with value: 1007263419.0.\u001b[0m\n"
     ]
    },
    {
     "name": "stdout",
     "output_type": "stream",
     "text": [
      "callback ok\n",
      "index_parallel=0\n",
      "sed -i 0_main.cpp -e 's/^constexpr int hash_table_size = .*;         \\/\\/ OPTIMIZE \\[9, 18\\]$/constexpr int hash_table_size = 9;         \\/\\/ OPTIMIZE [9, 18]/' -e 's/^constexpr double K_START = .*;  \\/\\/ OPTIMIZE \\[0\\.04, 0\\.2\\] LOG$/constexpr double K_START = 0.1992557372126239;  \\/\\/ OPTIMIZE [0.04, 0.2] LOG/' -e 's/^constexpr double K_END = .*;   \\/\\/ OPTIMIZE \\[0\\.03, 0\\.1\\] LOG$/constexpr double K_END = 0.047549036465613786;   \\/\\/ OPTIMIZE [0.03, 0.1] LOG/' -e 's/^constexpr double K_H = .*;      \\/\\/ OPTIMIZE \\[0\\.001, 0\\.999\\]$/constexpr double K_H = 0.6069236868785498;      \\/\\/ OPTIMIZE [0.001, 0.999]/' -e 's/^constexpr short PURCHASE_TURN_LIMIT = .*;  \\/\\/ OPTIMIZE \\[790, 870\\]$/constexpr short PURCHASE_TURN_LIMIT = 837;  \\/\\/ OPTIMIZE [790, 870]/' -e 's/^constexpr int ROUGH_HASH = .*;      \\/\\/ OPTIMIZE {0, 0b00000001, 0b00010001, 0b00010011, 0b00110011}$/constexpr int ROUGH_HASH = 0b00010001;      \\/\\/ OPTIMIZE {0, 0b00000001, 0b00010001, 0b00010011, 0b00110011}/' -e 's/^constexpr double TARGET_BEAM_WIDTH_INCREASE_RATE = .*;      \\/\\/ OPTIMIZE \\[0\\.25, 4\\.0\\] LOG$/constexpr double TARGET_BEAM_WIDTH_INCREASE_RATE = 3.4393138574704185;      \\/\\/ OPTIMIZE [0.25, 4.0] LOG/' -e 's/^constexpr double TARGET_BEAM_WIDTH_HALF_PROGRES_RATE = .*;  \\/\\/ OPTIMIZE \\[0\\.02, 0\\.98\\]$/constexpr double TARGET_BEAM_WIDTH_HALF_PROGRES_RATE = 0.48380023297345043;  \\/\\/ OPTIMIZE [0.02, 0.98]/' -e 's/^constexpr auto MAX_BEAM_WIDTH = .*;                        \\/\\/ OPTIMIZE \\[400, 4000\\] LOG$/constexpr auto MAX_BEAM_WIDTH = 559;                        \\/\\/ OPTIMIZE [400, 4000] LOG/'\n",
      "g++ 0_main.cpp -std=gnu++17 -O2 -DONLINE_JUDGE -o 0_main.cpp.out 2> /dev/null\n"
     ]
    },
    {
     "name": "stderr",
     "output_type": "stream",
     "text": [
      "\u001b[32m[I 2021-09-11 03:58:14,436]\u001b[0m Trial 261 finished with value: 996560653.0 and parameters: {'hash_table_size': 9, 'K_START': 0.18174635045825202, 'K_END': 0.04730165600426887, 'K_H': 0.6127122277101894, 'PURCHASE_TURN_LIMIT': 837, 'ROUGH_HASH': '0b00000001', 'TARGET_BEAM_WIDTH_INCREASE_RATE': 3.428703102113933, 'TARGET_BEAM_WIDTH_HALF_PROGRES_RATE': 0.5053913281163116, 'MAX_BEAM_WIDTH': 579}. Best is trial 216 with value: 1007263419.0.\u001b[0m\n"
     ]
    },
    {
     "name": "stdout",
     "output_type": "stream",
     "text": [
      "callback ok\n",
      "index_parallel=1\n",
      "sed -i 1_main.cpp -e 's/^constexpr int hash_table_size = .*;         \\/\\/ OPTIMIZE \\[9, 18\\]$/constexpr int hash_table_size = 9;         \\/\\/ OPTIMIZE [9, 18]/' -e 's/^constexpr double K_START = .*;  \\/\\/ OPTIMIZE \\[0\\.04, 0\\.2\\] LOG$/constexpr double K_START = 0.19193010737361335;  \\/\\/ OPTIMIZE [0.04, 0.2] LOG/' -e 's/^constexpr double K_END = .*;   \\/\\/ OPTIMIZE \\[0\\.03, 0\\.1\\] LOG$/constexpr double K_END = 0.04836729556107236;   \\/\\/ OPTIMIZE [0.03, 0.1] LOG/' -e 's/^constexpr double K_H = .*;      \\/\\/ OPTIMIZE \\[0\\.001, 0\\.999\\]$/constexpr double K_H = 0.5782734568425045;      \\/\\/ OPTIMIZE [0.001, 0.999]/' -e 's/^constexpr short PURCHASE_TURN_LIMIT = .*;  \\/\\/ OPTIMIZE \\[790, 870\\]$/constexpr short PURCHASE_TURN_LIMIT = 838;  \\/\\/ OPTIMIZE [790, 870]/' -e 's/^constexpr int ROUGH_HASH = .*;      \\/\\/ OPTIMIZE {0, 0b00000001, 0b00010001, 0b00010011, 0b00110011}$/constexpr int ROUGH_HASH = 0b00000001;      \\/\\/ OPTIMIZE {0, 0b00000001, 0b00010001, 0b00010011, 0b00110011}/' -e 's/^constexpr double TARGET_BEAM_WIDTH_INCREASE_RATE = .*;      \\/\\/ OPTIMIZE \\[0\\.25, 4\\.0\\] LOG$/constexpr double TARGET_BEAM_WIDTH_INCREASE_RATE = 3.831387703513247;      \\/\\/ OPTIMIZE [0.25, 4.0] LOG/' -e 's/^constexpr double TARGET_BEAM_WIDTH_HALF_PROGRES_RATE = .*;  \\/\\/ OPTIMIZE \\[0\\.02, 0\\.98\\]$/constexpr double TARGET_BEAM_WIDTH_HALF_PROGRES_RATE = 0.4819265013653229;  \\/\\/ OPTIMIZE [0.02, 0.98]/' -e 's/^constexpr auto MAX_BEAM_WIDTH = .*;                        \\/\\/ OPTIMIZE \\[400, 4000\\] LOG$/constexpr auto MAX_BEAM_WIDTH = 626;                        \\/\\/ OPTIMIZE [400, 4000] LOG/'\n",
      "g++ 1_main.cpp -std=gnu++17 -O2 -DONLINE_JUDGE -o 1_main.cpp.out 2> /dev/null\n"
     ]
    },
    {
     "name": "stderr",
     "output_type": "stream",
     "text": [
      "\u001b[32m[I 2021-09-11 03:58:32,558]\u001b[0m Trial 262 finished with value: 995774124.0 and parameters: {'hash_table_size': 9, 'K_START': 0.19968077803187567, 'K_END': 0.04751268190817104, 'K_H': 0.5962513516432082, 'PURCHASE_TURN_LIMIT': 837, 'ROUGH_HASH': '0b00000001', 'TARGET_BEAM_WIDTH_INCREASE_RATE': 3.47326047955602, 'TARGET_BEAM_WIDTH_HALF_PROGRES_RATE': 0.5068209804778165, 'MAX_BEAM_WIDTH': 636}. Best is trial 216 with value: 1007263419.0.\u001b[0m\n"
     ]
    },
    {
     "name": "stdout",
     "output_type": "stream",
     "text": [
      "callback ok\n",
      "index_parallel=2\n",
      "sed -i 2_main.cpp -e 's/^constexpr int hash_table_size = .*;         \\/\\/ OPTIMIZE \\[9, 18\\]$/constexpr int hash_table_size = 9;         \\/\\/ OPTIMIZE [9, 18]/' -e 's/^constexpr double K_START = .*;  \\/\\/ OPTIMIZE \\[0\\.04, 0\\.2\\] LOG$/constexpr double K_START = 0.1692841485769646;  \\/\\/ OPTIMIZE [0.04, 0.2] LOG/' -e 's/^constexpr double K_END = .*;   \\/\\/ OPTIMIZE \\[0\\.03, 0\\.1\\] LOG$/constexpr double K_END = 0.05222167890533787;   \\/\\/ OPTIMIZE [0.03, 0.1] LOG/' -e 's/^constexpr double K_H = .*;      \\/\\/ OPTIMIZE \\[0\\.001, 0\\.999\\]$/constexpr double K_H = 0.6008159983132734;      \\/\\/ OPTIMIZE [0.001, 0.999]/' -e 's/^constexpr short PURCHASE_TURN_LIMIT = .*;  \\/\\/ OPTIMIZE \\[790, 870\\]$/constexpr short PURCHASE_TURN_LIMIT = 839;  \\/\\/ OPTIMIZE [790, 870]/' -e 's/^constexpr int ROUGH_HASH = .*;      \\/\\/ OPTIMIZE {0, 0b00000001, 0b00010001, 0b00010011, 0b00110011}$/constexpr int ROUGH_HASH = 0b00000001;      \\/\\/ OPTIMIZE {0, 0b00000001, 0b00010001, 0b00010011, 0b00110011}/' -e 's/^constexpr double TARGET_BEAM_WIDTH_INCREASE_RATE = .*;      \\/\\/ OPTIMIZE \\[0\\.25, 4\\.0\\] LOG$/constexpr double TARGET_BEAM_WIDTH_INCREASE_RATE = 3.9831357841544315;      \\/\\/ OPTIMIZE [0.25, 4.0] LOG/' -e 's/^constexpr double TARGET_BEAM_WIDTH_HALF_PROGRES_RATE = .*;  \\/\\/ OPTIMIZE \\[0\\.02, 0\\.98\\]$/constexpr double TARGET_BEAM_WIDTH_HALF_PROGRES_RATE = 0.4856322133654652;  \\/\\/ OPTIMIZE [0.02, 0.98]/' -e 's/^constexpr auto MAX_BEAM_WIDTH = .*;                        \\/\\/ OPTIMIZE \\[400, 4000\\] LOG$/constexpr auto MAX_BEAM_WIDTH = 544;                        \\/\\/ OPTIMIZE [400, 4000] LOG/'\n",
      "g++ 2_main.cpp -std=gnu++17 -O2 -DONLINE_JUDGE -o 2_main.cpp.out 2> /dev/null\n"
     ]
    },
    {
     "name": "stderr",
     "output_type": "stream",
     "text": [
      "\u001b[32m[I 2021-09-11 03:58:43,914]\u001b[0m Trial 263 finished with value: 1000223731.0 and parameters: {'hash_table_size': 9, 'K_START': 0.17540511193042188, 'K_END': 0.04837724360726453, 'K_H': 0.5733050990176143, 'PURCHASE_TURN_LIMIT': 838, 'ROUGH_HASH': '0b00000001', 'TARGET_BEAM_WIDTH_INCREASE_RATE': 3.4020779577117732, 'TARGET_BEAM_WIDTH_HALF_PROGRES_RATE': 0.4869010026343992, 'MAX_BEAM_WIDTH': 595}. Best is trial 216 with value: 1007263419.0.\u001b[0m\n"
     ]
    },
    {
     "name": "stdout",
     "output_type": "stream",
     "text": [
      "callback ok\n",
      "index_parallel=3\n",
      "sed -i 3_main.cpp -e 's/^constexpr int hash_table_size = .*;         \\/\\/ OPTIMIZE \\[9, 18\\]$/constexpr int hash_table_size = 9;         \\/\\/ OPTIMIZE [9, 18]/' -e 's/^constexpr double K_START = .*;  \\/\\/ OPTIMIZE \\[0\\.04, 0\\.2\\] LOG$/constexpr double K_START = 0.17508676922976;  \\/\\/ OPTIMIZE [0.04, 0.2] LOG/' -e 's/^constexpr double K_END = .*;   \\/\\/ OPTIMIZE \\[0\\.03, 0\\.1\\] LOG$/constexpr double K_END = 0.052558685030545754;   \\/\\/ OPTIMIZE [0.03, 0.1] LOG/' -e 's/^constexpr double K_H = .*;      \\/\\/ OPTIMIZE \\[0\\.001, 0\\.999\\]$/constexpr double K_H = 0.5990950085261691;      \\/\\/ OPTIMIZE [0.001, 0.999]/' -e 's/^constexpr short PURCHASE_TURN_LIMIT = .*;  \\/\\/ OPTIMIZE \\[790, 870\\]$/constexpr short PURCHASE_TURN_LIMIT = 839;  \\/\\/ OPTIMIZE [790, 870]/' -e 's/^constexpr int ROUGH_HASH = .*;      \\/\\/ OPTIMIZE {0, 0b00000001, 0b00010001, 0b00010011, 0b00110011}$/constexpr int ROUGH_HASH = 0;      \\/\\/ OPTIMIZE {0, 0b00000001, 0b00010001, 0b00010011, 0b00110011}/' -e 's/^constexpr double TARGET_BEAM_WIDTH_INCREASE_RATE = .*;      \\/\\/ OPTIMIZE \\[0\\.25, 4\\.0\\] LOG$/constexpr double TARGET_BEAM_WIDTH_INCREASE_RATE = 3.980384871589228;      \\/\\/ OPTIMIZE [0.25, 4.0] LOG/' -e 's/^constexpr double TARGET_BEAM_WIDTH_HALF_PROGRES_RATE = .*;  \\/\\/ OPTIMIZE \\[0\\.02, 0\\.98\\]$/constexpr double TARGET_BEAM_WIDTH_HALF_PROGRES_RATE = 0.48005723835760195;  \\/\\/ OPTIMIZE [0.02, 0.98]/' -e 's/^constexpr auto MAX_BEAM_WIDTH = .*;                        \\/\\/ OPTIMIZE \\[400, 4000\\] LOG$/constexpr auto MAX_BEAM_WIDTH = 554;                        \\/\\/ OPTIMIZE [400, 4000] LOG/'\n",
      "g++ 3_main.cpp -std=gnu++17 -O2 -DONLINE_JUDGE -o 3_main.cpp.out 2> /dev/null\n"
     ]
    },
    {
     "name": "stderr",
     "output_type": "stream",
     "text": [
      "\u001b[32m[I 2021-09-11 04:00:03,269]\u001b[0m Trial 264 finished with value: 995457200.0 and parameters: {'hash_table_size': 9, 'K_START': 0.1992557372126239, 'K_END': 0.047549036465613786, 'K_H': 0.6069236868785498, 'PURCHASE_TURN_LIMIT': 837, 'ROUGH_HASH': '0b00010001', 'TARGET_BEAM_WIDTH_INCREASE_RATE': 3.4393138574704185, 'TARGET_BEAM_WIDTH_HALF_PROGRES_RATE': 0.48380023297345043, 'MAX_BEAM_WIDTH': 559}. Best is trial 216 with value: 1007263419.0.\u001b[0m\n"
     ]
    },
    {
     "name": "stdout",
     "output_type": "stream",
     "text": [
      "callback ok\n",
      "index_parallel=4\n",
      "sed -i 4_main.cpp -e 's/^constexpr int hash_table_size = .*;         \\/\\/ OPTIMIZE \\[9, 18\\]$/constexpr int hash_table_size = 9;         \\/\\/ OPTIMIZE [9, 18]/' -e 's/^constexpr double K_START = .*;  \\/\\/ OPTIMIZE \\[0\\.04, 0\\.2\\] LOG$/constexpr double K_START = 0.15617042589202;  \\/\\/ OPTIMIZE [0.04, 0.2] LOG/' -e 's/^constexpr double K_END = .*;   \\/\\/ OPTIMIZE \\[0\\.03, 0\\.1\\] LOG$/constexpr double K_END = 0.052601471657353495;   \\/\\/ OPTIMIZE [0.03, 0.1] LOG/' -e 's/^constexpr double K_H = .*;      \\/\\/ OPTIMIZE \\[0\\.001, 0\\.999\\]$/constexpr double K_H = 0.5757453794499083;      \\/\\/ OPTIMIZE [0.001, 0.999]/' -e 's/^constexpr short PURCHASE_TURN_LIMIT = .*;  \\/\\/ OPTIMIZE \\[790, 870\\]$/constexpr short PURCHASE_TURN_LIMIT = 839;  \\/\\/ OPTIMIZE [790, 870]/' -e 's/^constexpr int ROUGH_HASH = .*;      \\/\\/ OPTIMIZE {0, 0b00000001, 0b00010001, 0b00010011, 0b00110011}$/constexpr int ROUGH_HASH = 0;      \\/\\/ OPTIMIZE {0, 0b00000001, 0b00010001, 0b00010011, 0b00110011}/' -e 's/^constexpr double TARGET_BEAM_WIDTH_INCREASE_RATE = .*;      \\/\\/ OPTIMIZE \\[0\\.25, 4\\.0\\] LOG$/constexpr double TARGET_BEAM_WIDTH_INCREASE_RATE = 3.9891838037536367;      \\/\\/ OPTIMIZE [0.25, 4.0] LOG/' -e 's/^constexpr double TARGET_BEAM_WIDTH_HALF_PROGRES_RATE = .*;  \\/\\/ OPTIMIZE \\[0\\.02, 0\\.98\\]$/constexpr double TARGET_BEAM_WIDTH_HALF_PROGRES_RATE = 0.45684926922850666;  \\/\\/ OPTIMIZE [0.02, 0.98]/' -e 's/^constexpr auto MAX_BEAM_WIDTH = .*;                        \\/\\/ OPTIMIZE \\[400, 4000\\] LOG$/constexpr auto MAX_BEAM_WIDTH = 541;                        \\/\\/ OPTIMIZE [400, 4000] LOG/'\n",
      "g++ 4_main.cpp -std=gnu++17 -O2 -DONLINE_JUDGE -o 4_main.cpp.out 2> /dev/null\n"
     ]
    },
    {
     "name": "stderr",
     "output_type": "stream",
     "text": [
      "\u001b[32m[I 2021-09-11 04:00:05,393]\u001b[0m Trial 265 finished with value: 999771766.0 and parameters: {'hash_table_size': 9, 'K_START': 0.19193010737361335, 'K_END': 0.04836729556107236, 'K_H': 0.5782734568425045, 'PURCHASE_TURN_LIMIT': 838, 'ROUGH_HASH': '0b00000001', 'TARGET_BEAM_WIDTH_INCREASE_RATE': 3.831387703513247, 'TARGET_BEAM_WIDTH_HALF_PROGRES_RATE': 0.4819265013653229, 'MAX_BEAM_WIDTH': 626}. Best is trial 216 with value: 1007263419.0.\u001b[0m\n"
     ]
    },
    {
     "name": "stdout",
     "output_type": "stream",
     "text": [
      "callback ok\n",
      "index_parallel=5\n",
      "sed -i 5_main.cpp -e 's/^constexpr int hash_table_size = .*;         \\/\\/ OPTIMIZE \\[9, 18\\]$/constexpr int hash_table_size = 9;         \\/\\/ OPTIMIZE [9, 18]/' -e 's/^constexpr double K_START = .*;  \\/\\/ OPTIMIZE \\[0\\.04, 0\\.2\\] LOG$/constexpr double K_START = 0.16901272584059002;  \\/\\/ OPTIMIZE [0.04, 0.2] LOG/' -e 's/^constexpr double K_END = .*;   \\/\\/ OPTIMIZE \\[0\\.03, 0\\.1\\] LOG$/constexpr double K_END = 0.05191966747324967;   \\/\\/ OPTIMIZE [0.03, 0.1] LOG/' -e 's/^constexpr double K_H = .*;      \\/\\/ OPTIMIZE \\[0\\.001, 0\\.999\\]$/constexpr double K_H = 0.6421418188053879;      \\/\\/ OPTIMIZE [0.001, 0.999]/' -e 's/^constexpr short PURCHASE_TURN_LIMIT = .*;  \\/\\/ OPTIMIZE \\[790, 870\\]$/constexpr short PURCHASE_TURN_LIMIT = 843;  \\/\\/ OPTIMIZE [790, 870]/' -e 's/^constexpr int ROUGH_HASH = .*;      \\/\\/ OPTIMIZE {0, 0b00000001, 0b00010001, 0b00010011, 0b00110011}$/constexpr int ROUGH_HASH = 0;      \\/\\/ OPTIMIZE {0, 0b00000001, 0b00010001, 0b00010011, 0b00110011}/' -e 's/^constexpr double TARGET_BEAM_WIDTH_INCREASE_RATE = .*;      \\/\\/ OPTIMIZE \\[0\\.25, 4\\.0\\] LOG$/constexpr double TARGET_BEAM_WIDTH_INCREASE_RATE = 3.9860576475798117;      \\/\\/ OPTIMIZE [0.25, 4.0] LOG/' -e 's/^constexpr double TARGET_BEAM_WIDTH_HALF_PROGRES_RATE = .*;  \\/\\/ OPTIMIZE \\[0\\.02, 0\\.98\\]$/constexpr double TARGET_BEAM_WIDTH_HALF_PROGRES_RATE = 0.46044673296487526;  \\/\\/ OPTIMIZE [0.02, 0.98]/' -e 's/^constexpr auto MAX_BEAM_WIDTH = .*;                        \\/\\/ OPTIMIZE \\[400, 4000\\] LOG$/constexpr auto MAX_BEAM_WIDTH = 491;                        \\/\\/ OPTIMIZE [400, 4000] LOG/'\n",
      "g++ 5_main.cpp -std=gnu++17 -O2 -DONLINE_JUDGE -o 5_main.cpp.out 2> /dev/null\n"
     ]
    },
    {
     "name": "stderr",
     "output_type": "stream",
     "text": [
      "\u001b[32m[I 2021-09-11 04:00:23,743]\u001b[0m Trial 266 finished with value: 999192363.0 and parameters: {'hash_table_size': 9, 'K_START': 0.1692841485769646, 'K_END': 0.05222167890533787, 'K_H': 0.6008159983132734, 'PURCHASE_TURN_LIMIT': 839, 'ROUGH_HASH': '0b00000001', 'TARGET_BEAM_WIDTH_INCREASE_RATE': 3.9831357841544315, 'TARGET_BEAM_WIDTH_HALF_PROGRES_RATE': 0.4856322133654652, 'MAX_BEAM_WIDTH': 544}. Best is trial 216 with value: 1007263419.0.\u001b[0m\n"
     ]
    },
    {
     "name": "stdout",
     "output_type": "stream",
     "text": [
      "callback ok\n",
      "index_parallel=6\n",
      "sed -i 6_main.cpp -e 's/^constexpr int hash_table_size = .*;         \\/\\/ OPTIMIZE \\[9, 18\\]$/constexpr int hash_table_size = 9;         \\/\\/ OPTIMIZE [9, 18]/' -e 's/^constexpr double K_START = .*;  \\/\\/ OPTIMIZE \\[0\\.04, 0\\.2\\] LOG$/constexpr double K_START = 0.16805624739318453;  \\/\\/ OPTIMIZE [0.04, 0.2] LOG/' -e 's/^constexpr double K_END = .*;   \\/\\/ OPTIMIZE \\[0\\.03, 0\\.1\\] LOG$/constexpr double K_END = 0.05227678522858968;   \\/\\/ OPTIMIZE [0.03, 0.1] LOG/' -e 's/^constexpr double K_H = .*;      \\/\\/ OPTIMIZE \\[0\\.001, 0\\.999\\]$/constexpr double K_H = 0.6358148889530866;      \\/\\/ OPTIMIZE [0.001, 0.999]/' -e 's/^constexpr short PURCHASE_TURN_LIMIT = .*;  \\/\\/ OPTIMIZE \\[790, 870\\]$/constexpr short PURCHASE_TURN_LIMIT = 843;  \\/\\/ OPTIMIZE [790, 870]/' -e 's/^constexpr int ROUGH_HASH = .*;      \\/\\/ OPTIMIZE {0, 0b00000001, 0b00010001, 0b00010011, 0b00110011}$/constexpr int ROUGH_HASH = 0;      \\/\\/ OPTIMIZE {0, 0b00000001, 0b00010001, 0b00010011, 0b00110011}/' -e 's/^constexpr double TARGET_BEAM_WIDTH_INCREASE_RATE = .*;      \\/\\/ OPTIMIZE \\[0\\.25, 4\\.0\\] LOG$/constexpr double TARGET_BEAM_WIDTH_INCREASE_RATE = 3.6275526379732144;      \\/\\/ OPTIMIZE [0.25, 4.0] LOG/' -e 's/^constexpr double TARGET_BEAM_WIDTH_HALF_PROGRES_RATE = .*;  \\/\\/ OPTIMIZE \\[0\\.02, 0\\.98\\]$/constexpr double TARGET_BEAM_WIDTH_HALF_PROGRES_RATE = 0.45560833108612897;  \\/\\/ OPTIMIZE [0.02, 0.98]/' -e 's/^constexpr auto MAX_BEAM_WIDTH = .*;                        \\/\\/ OPTIMIZE \\[400, 4000\\] LOG$/constexpr auto MAX_BEAM_WIDTH = 450;                        \\/\\/ OPTIMIZE [400, 4000] LOG/'\n",
      "g++ 6_main.cpp -std=gnu++17 -O2 -DONLINE_JUDGE -o 6_main.cpp.out 2> /dev/null\n"
     ]
    },
    {
     "name": "stderr",
     "output_type": "stream",
     "text": [
      "\u001b[32m[I 2021-09-11 04:00:35,693]\u001b[0m Trial 267 finished with value: 1001622410.0 and parameters: {'hash_table_size': 9, 'K_START': 0.17508676922976, 'K_END': 0.052558685030545754, 'K_H': 0.5990950085261691, 'PURCHASE_TURN_LIMIT': 839, 'ROUGH_HASH': '0', 'TARGET_BEAM_WIDTH_INCREASE_RATE': 3.980384871589228, 'TARGET_BEAM_WIDTH_HALF_PROGRES_RATE': 0.48005723835760195, 'MAX_BEAM_WIDTH': 554}. Best is trial 216 with value: 1007263419.0.\u001b[0m\n"
     ]
    },
    {
     "name": "stdout",
     "output_type": "stream",
     "text": [
      "callback ok\n",
      "index_parallel=7\n",
      "sed -i 7_main.cpp -e 's/^constexpr int hash_table_size = .*;         \\/\\/ OPTIMIZE \\[9, 18\\]$/constexpr int hash_table_size = 9;         \\/\\/ OPTIMIZE [9, 18]/' -e 's/^constexpr double K_START = .*;  \\/\\/ OPTIMIZE \\[0\\.04, 0\\.2\\] LOG$/constexpr double K_START = 0.1520391541063988;  \\/\\/ OPTIMIZE [0.04, 0.2] LOG/' -e 's/^constexpr double K_END = .*;   \\/\\/ OPTIMIZE \\[0\\.03, 0\\.1\\] LOG$/constexpr double K_END = 0.05211737317547626;   \\/\\/ OPTIMIZE [0.03, 0.1] LOG/' -e 's/^constexpr double K_H = .*;      \\/\\/ OPTIMIZE \\[0\\.001, 0\\.999\\]$/constexpr double K_H = 0.6357153353263005;      \\/\\/ OPTIMIZE [0.001, 0.999]/' -e 's/^constexpr short PURCHASE_TURN_LIMIT = .*;  \\/\\/ OPTIMIZE \\[790, 870\\]$/constexpr short PURCHASE_TURN_LIMIT = 846;  \\/\\/ OPTIMIZE [790, 870]/' -e 's/^constexpr int ROUGH_HASH = .*;      \\/\\/ OPTIMIZE {0, 0b00000001, 0b00010001, 0b00010011, 0b00110011}$/constexpr int ROUGH_HASH = 0;      \\/\\/ OPTIMIZE {0, 0b00000001, 0b00010001, 0b00010011, 0b00110011}/' -e 's/^constexpr double TARGET_BEAM_WIDTH_INCREASE_RATE = .*;      \\/\\/ OPTIMIZE \\[0\\.25, 4\\.0\\] LOG$/constexpr double TARGET_BEAM_WIDTH_INCREASE_RATE = 3.616631204052295;      \\/\\/ OPTIMIZE [0.25, 4.0] LOG/' -e 's/^constexpr double TARGET_BEAM_WIDTH_HALF_PROGRES_RATE = .*;  \\/\\/ OPTIMIZE \\[0\\.02, 0\\.98\\]$/constexpr double TARGET_BEAM_WIDTH_HALF_PROGRES_RATE = 0.5157100546115178;  \\/\\/ OPTIMIZE [0.02, 0.98]/' -e 's/^constexpr auto MAX_BEAM_WIDTH = .*;                        \\/\\/ OPTIMIZE \\[400, 4000\\] LOG$/constexpr auto MAX_BEAM_WIDTH = 532;                        \\/\\/ OPTIMIZE [400, 4000] LOG/'\n",
      "g++ 7_main.cpp -std=gnu++17 -O2 -DONLINE_JUDGE -o 7_main.cpp.out 2> /dev/null\n"
     ]
    },
    {
     "name": "stderr",
     "output_type": "stream",
     "text": [
      "\u001b[32m[I 2021-09-11 04:01:54,160]\u001b[0m Trial 268 finished with value: 998887355.0 and parameters: {'hash_table_size': 9, 'K_START': 0.15617042589202, 'K_END': 0.052601471657353495, 'K_H': 0.5757453794499083, 'PURCHASE_TURN_LIMIT': 839, 'ROUGH_HASH': '0', 'TARGET_BEAM_WIDTH_INCREASE_RATE': 3.9891838037536367, 'TARGET_BEAM_WIDTH_HALF_PROGRES_RATE': 0.45684926922850666, 'MAX_BEAM_WIDTH': 541}. Best is trial 216 with value: 1007263419.0.\u001b[0m\n"
     ]
    },
    {
     "name": "stdout",
     "output_type": "stream",
     "text": [
      "callback ok\n",
      "index_parallel=8\n",
      "sed -i 8_main.cpp -e 's/^constexpr int hash_table_size = .*;         \\/\\/ OPTIMIZE \\[9, 18\\]$/constexpr int hash_table_size = 9;         \\/\\/ OPTIMIZE [9, 18]/' -e 's/^constexpr double K_START = .*;  \\/\\/ OPTIMIZE \\[0\\.04, 0\\.2\\] LOG$/constexpr double K_START = 0.07660984672376794;  \\/\\/ OPTIMIZE [0.04, 0.2] LOG/' -e 's/^constexpr double K_END = .*;   \\/\\/ OPTIMIZE \\[0\\.03, 0\\.1\\] LOG$/constexpr double K_END = 0.053847155636422755;   \\/\\/ OPTIMIZE [0.03, 0.1] LOG/' -e 's/^constexpr double K_H = .*;      \\/\\/ OPTIMIZE \\[0\\.001, 0\\.999\\]$/constexpr double K_H = 0.6371174401945902;      \\/\\/ OPTIMIZE [0.001, 0.999]/' -e 's/^constexpr short PURCHASE_TURN_LIMIT = .*;  \\/\\/ OPTIMIZE \\[790, 870\\]$/constexpr short PURCHASE_TURN_LIMIT = 843;  \\/\\/ OPTIMIZE [790, 870]/' -e 's/^constexpr int ROUGH_HASH = .*;      \\/\\/ OPTIMIZE {0, 0b00000001, 0b00010001, 0b00010011, 0b00110011}$/constexpr int ROUGH_HASH = 0;      \\/\\/ OPTIMIZE {0, 0b00000001, 0b00010001, 0b00010011, 0b00110011}/' -e 's/^constexpr double TARGET_BEAM_WIDTH_INCREASE_RATE = .*;      \\/\\/ OPTIMIZE \\[0\\.25, 4\\.0\\] LOG$/constexpr double TARGET_BEAM_WIDTH_INCREASE_RATE = 0.8527487385252864;      \\/\\/ OPTIMIZE [0.25, 4.0] LOG/' -e 's/^constexpr double TARGET_BEAM_WIDTH_HALF_PROGRES_RATE = .*;  \\/\\/ OPTIMIZE \\[0\\.02, 0\\.98\\]$/constexpr double TARGET_BEAM_WIDTH_HALF_PROGRES_RATE = 0.5146306519212299;  \\/\\/ OPTIMIZE [0.02, 0.98]/' -e 's/^constexpr auto MAX_BEAM_WIDTH = .*;                        \\/\\/ OPTIMIZE \\[400, 4000\\] LOG$/constexpr auto MAX_BEAM_WIDTH = 665;                        \\/\\/ OPTIMIZE [400, 4000] LOG/'\n",
      "g++ 8_main.cpp -std=gnu++17 -O2 -DONLINE_JUDGE -o 8_main.cpp.out 2> /dev/null\n"
     ]
    },
    {
     "name": "stderr",
     "output_type": "stream",
     "text": [
      "\u001b[32m[I 2021-09-11 04:01:57,125]\u001b[0m Trial 269 finished with value: 999430137.0 and parameters: {'hash_table_size': 9, 'K_START': 0.16901272584059002, 'K_END': 0.05191966747324967, 'K_H': 0.6421418188053879, 'PURCHASE_TURN_LIMIT': 843, 'ROUGH_HASH': '0', 'TARGET_BEAM_WIDTH_INCREASE_RATE': 3.9860576475798117, 'TARGET_BEAM_WIDTH_HALF_PROGRES_RATE': 0.46044673296487526, 'MAX_BEAM_WIDTH': 491}. Best is trial 216 with value: 1007263419.0.\u001b[0m\n"
     ]
    },
    {
     "name": "stdout",
     "output_type": "stream",
     "text": [
      "callback ok\n",
      "index_parallel=9\n",
      "sed -i 9_main.cpp -e 's/^constexpr int hash_table_size = .*;         \\/\\/ OPTIMIZE \\[9, 18\\]$/constexpr int hash_table_size = 9;         \\/\\/ OPTIMIZE [9, 18]/' -e 's/^constexpr double K_START = .*;  \\/\\/ OPTIMIZE \\[0\\.04, 0\\.2\\] LOG$/constexpr double K_START = 0.18811154357707924;  \\/\\/ OPTIMIZE [0.04, 0.2] LOG/' -e 's/^constexpr double K_END = .*;   \\/\\/ OPTIMIZE \\[0\\.03, 0\\.1\\] LOG$/constexpr double K_END = 0.054038130062582075;   \\/\\/ OPTIMIZE [0.03, 0.1] LOG/' -e 's/^constexpr double K_H = .*;      \\/\\/ OPTIMIZE \\[0\\.001, 0\\.999\\]$/constexpr double K_H = 0.6340230011146012;      \\/\\/ OPTIMIZE [0.001, 0.999]/' -e 's/^constexpr short PURCHASE_TURN_LIMIT = .*;  \\/\\/ OPTIMIZE \\[790, 870\\]$/constexpr short PURCHASE_TURN_LIMIT = 846;  \\/\\/ OPTIMIZE [790, 870]/' -e 's/^constexpr int ROUGH_HASH = .*;      \\/\\/ OPTIMIZE {0, 0b00000001, 0b00010001, 0b00010011, 0b00110011}$/constexpr int ROUGH_HASH = 0;      \\/\\/ OPTIMIZE {0, 0b00000001, 0b00010001, 0b00010011, 0b00110011}/' -e 's/^constexpr double TARGET_BEAM_WIDTH_INCREASE_RATE = .*;      \\/\\/ OPTIMIZE \\[0\\.25, 4\\.0\\] LOG$/constexpr double TARGET_BEAM_WIDTH_INCREASE_RATE = 3.611513707706191;      \\/\\/ OPTIMIZE [0.25, 4.0] LOG/' -e 's/^constexpr double TARGET_BEAM_WIDTH_HALF_PROGRES_RATE = .*;  \\/\\/ OPTIMIZE \\[0\\.02, 0\\.98\\]$/constexpr double TARGET_BEAM_WIDTH_HALF_PROGRES_RATE = 0.5176998354714399;  \\/\\/ OPTIMIZE [0.02, 0.98]/' -e 's/^constexpr auto MAX_BEAM_WIDTH = .*;                        \\/\\/ OPTIMIZE \\[400, 4000\\] LOG$/constexpr auto MAX_BEAM_WIDTH = 449;                        \\/\\/ OPTIMIZE [400, 4000] LOG/'\n",
      "g++ 9_main.cpp -std=gnu++17 -O2 -DONLINE_JUDGE -o 9_main.cpp.out 2> /dev/null\n"
     ]
    },
    {
     "name": "stderr",
     "output_type": "stream",
     "text": [
      "\u001b[32m[I 2021-09-11 04:02:15,430]\u001b[0m Trial 270 finished with value: 1001015230.0 and parameters: {'hash_table_size': 9, 'K_START': 0.16805624739318453, 'K_END': 0.05227678522858968, 'K_H': 0.6358148889530866, 'PURCHASE_TURN_LIMIT': 843, 'ROUGH_HASH': '0', 'TARGET_BEAM_WIDTH_INCREASE_RATE': 3.6275526379732144, 'TARGET_BEAM_WIDTH_HALF_PROGRES_RATE': 0.45560833108612897, 'MAX_BEAM_WIDTH': 450}. Best is trial 216 with value: 1007263419.0.\u001b[0m\n"
     ]
    },
    {
     "name": "stdout",
     "output_type": "stream",
     "text": [
      "callback ok\n",
      "index_parallel=10\n",
      "sed -i 10_main.cpp -e 's/^constexpr int hash_table_size = .*;         \\/\\/ OPTIMIZE \\[9, 18\\]$/constexpr int hash_table_size = 9;         \\/\\/ OPTIMIZE [9, 18]/' -e 's/^constexpr double K_START = .*;  \\/\\/ OPTIMIZE \\[0\\.04, 0\\.2\\] LOG$/constexpr double K_START = 0.18971574231306979;  \\/\\/ OPTIMIZE [0.04, 0.2] LOG/' -e 's/^constexpr double K_END = .*;   \\/\\/ OPTIMIZE \\[0\\.03, 0\\.1\\] LOG$/constexpr double K_END = 0.05023773119097435;   \\/\\/ OPTIMIZE [0.03, 0.1] LOG/' -e 's/^constexpr double K_H = .*;      \\/\\/ OPTIMIZE \\[0\\.001, 0\\.999\\]$/constexpr double K_H = 0.6579996260838933;      \\/\\/ OPTIMIZE [0.001, 0.999]/' -e 's/^constexpr short PURCHASE_TURN_LIMIT = .*;  \\/\\/ OPTIMIZE \\[790, 870\\]$/constexpr short PURCHASE_TURN_LIMIT = 841;  \\/\\/ OPTIMIZE [790, 870]/' -e 's/^constexpr int ROUGH_HASH = .*;      \\/\\/ OPTIMIZE {0, 0b00000001, 0b00010001, 0b00010011, 0b00110011}$/constexpr int ROUGH_HASH = 0;      \\/\\/ OPTIMIZE {0, 0b00000001, 0b00010001, 0b00010011, 0b00110011}/' -e 's/^constexpr double TARGET_BEAM_WIDTH_INCREASE_RATE = .*;      \\/\\/ OPTIMIZE \\[0\\.25, 4\\.0\\] LOG$/constexpr double TARGET_BEAM_WIDTH_INCREASE_RATE = 3.6692680128866932;      \\/\\/ OPTIMIZE [0.25, 4.0] LOG/' -e 's/^constexpr double TARGET_BEAM_WIDTH_HALF_PROGRES_RATE = .*;  \\/\\/ OPTIMIZE \\[0\\.02, 0\\.98\\]$/constexpr double TARGET_BEAM_WIDTH_HALF_PROGRES_RATE = 0.5120339717807284;  \\/\\/ OPTIMIZE [0.02, 0.98]/' -e 's/^constexpr auto MAX_BEAM_WIDTH = .*;                        \\/\\/ OPTIMIZE \\[400, 4000\\] LOG$/constexpr auto MAX_BEAM_WIDTH = 667;                        \\/\\/ OPTIMIZE [400, 4000] LOG/'\n",
      "g++ 10_main.cpp -std=gnu++17 -O2 -DONLINE_JUDGE -o 10_main.cpp.out 2> /dev/null\n"
     ]
    },
    {
     "name": "stderr",
     "output_type": "stream",
     "text": [
      "\u001b[32m[I 2021-09-11 04:02:21,717]\u001b[0m Trial 271 finished with value: 998118274.0 and parameters: {'hash_table_size': 9, 'K_START': 0.1520391541063988, 'K_END': 0.05211737317547626, 'K_H': 0.6357153353263005, 'PURCHASE_TURN_LIMIT': 846, 'ROUGH_HASH': '0', 'TARGET_BEAM_WIDTH_INCREASE_RATE': 3.616631204052295, 'TARGET_BEAM_WIDTH_HALF_PROGRES_RATE': 0.5157100546115178, 'MAX_BEAM_WIDTH': 532}. Best is trial 216 with value: 1007263419.0.\u001b[0m\n"
     ]
    },
    {
     "name": "stdout",
     "output_type": "stream",
     "text": [
      "callback ok\n",
      "index_parallel=11\n",
      "sed -i 11_main.cpp -e 's/^constexpr int hash_table_size = .*;         \\/\\/ OPTIMIZE \\[9, 18\\]$/constexpr int hash_table_size = 9;         \\/\\/ OPTIMIZE [9, 18]/' -e 's/^constexpr double K_START = .*;  \\/\\/ OPTIMIZE \\[0\\.04, 0\\.2\\] LOG$/constexpr double K_START = 0.1915224450876066;  \\/\\/ OPTIMIZE [0.04, 0.2] LOG/' -e 's/^constexpr double K_END = .*;   \\/\\/ OPTIMIZE \\[0\\.03, 0\\.1\\] LOG$/constexpr double K_END = 0.050189764271040146;   \\/\\/ OPTIMIZE [0.03, 0.1] LOG/' -e 's/^constexpr double K_H = .*;      \\/\\/ OPTIMIZE \\[0\\.001, 0\\.999\\]$/constexpr double K_H = 0.6549263650018428;      \\/\\/ OPTIMIZE [0.001, 0.999]/' -e 's/^constexpr short PURCHASE_TURN_LIMIT = .*;  \\/\\/ OPTIMIZE \\[790, 870\\]$/constexpr short PURCHASE_TURN_LIMIT = 841;  \\/\\/ OPTIMIZE [790, 870]/' -e 's/^constexpr int ROUGH_HASH = .*;      \\/\\/ OPTIMIZE {0, 0b00000001, 0b00010001, 0b00010011, 0b00110011}$/constexpr int ROUGH_HASH = 0;      \\/\\/ OPTIMIZE {0, 0b00000001, 0b00010001, 0b00010011, 0b00110011}/' -e 's/^constexpr double TARGET_BEAM_WIDTH_INCREASE_RATE = .*;      \\/\\/ OPTIMIZE \\[0\\.25, 4\\.0\\] LOG$/constexpr double TARGET_BEAM_WIDTH_INCREASE_RATE = 3.824909632652351;      \\/\\/ OPTIMIZE [0.25, 4.0] LOG/' -e 's/^constexpr double TARGET_BEAM_WIDTH_HALF_PROGRES_RATE = .*;  \\/\\/ OPTIMIZE \\[0\\.02, 0\\.98\\]$/constexpr double TARGET_BEAM_WIDTH_HALF_PROGRES_RATE = 0.4252659259994167;  \\/\\/ OPTIMIZE [0.02, 0.98]/' -e 's/^constexpr auto MAX_BEAM_WIDTH = .*;                        \\/\\/ OPTIMIZE \\[400, 4000\\] LOG$/constexpr auto MAX_BEAM_WIDTH = 662;                        \\/\\/ OPTIMIZE [400, 4000] LOG/'\n",
      "g++ 11_main.cpp -std=gnu++17 -O2 -DONLINE_JUDGE -o 11_main.cpp.out 2> /dev/null\n"
     ]
    },
    {
     "ename": "KeyboardInterrupt",
     "evalue": "",
     "output_type": "error",
     "traceback": [
      "\u001b[0;31m---------------------------------------------------------------------------\u001b[0m",
      "\u001b[0;31mKeyboardInterrupt\u001b[0m                         Traceback (most recent call last)",
      "\u001b[0;32m~/anaconda3/lib/python3.8/site-packages/optuna/study/_optimize.py\u001b[0m in \u001b[0;36m_optimize\u001b[0;34m(study, func, n_trials, timeout, n_jobs, catch, callbacks, gc_after_trial, show_progress_bar)\u001b[0m\n\u001b[1;32m    102\u001b[0m                     \u001b[0;32mif\u001b[0m \u001b[0mlen\u001b[0m\u001b[0;34m(\u001b[0m\u001b[0mfutures\u001b[0m\u001b[0;34m)\u001b[0m \u001b[0;34m>=\u001b[0m \u001b[0mn_jobs\u001b[0m\u001b[0;34m:\u001b[0m\u001b[0;34m\u001b[0m\u001b[0;34m\u001b[0m\u001b[0m\n\u001b[0;32m--> 103\u001b[0;31m                         \u001b[0mcompleted\u001b[0m\u001b[0;34m,\u001b[0m \u001b[0mfutures\u001b[0m \u001b[0;34m=\u001b[0m \u001b[0mwait\u001b[0m\u001b[0;34m(\u001b[0m\u001b[0mfutures\u001b[0m\u001b[0;34m,\u001b[0m \u001b[0mreturn_when\u001b[0m\u001b[0;34m=\u001b[0m\u001b[0mFIRST_COMPLETED\u001b[0m\u001b[0;34m)\u001b[0m\u001b[0;34m\u001b[0m\u001b[0;34m\u001b[0m\u001b[0m\n\u001b[0m\u001b[1;32m    104\u001b[0m                         \u001b[0;31m# Raise if exception occurred in executing the completed futures.\u001b[0m\u001b[0;34m\u001b[0m\u001b[0;34m\u001b[0m\u001b[0;34m\u001b[0m\u001b[0m\n",
      "\u001b[0;32m~/anaconda3/lib/python3.8/concurrent/futures/_base.py\u001b[0m in \u001b[0;36mwait\u001b[0;34m(fs, timeout, return_when)\u001b[0m\n\u001b[1;32m    304\u001b[0m \u001b[0;34m\u001b[0m\u001b[0m\n\u001b[0;32m--> 305\u001b[0;31m     \u001b[0mwaiter\u001b[0m\u001b[0;34m.\u001b[0m\u001b[0mevent\u001b[0m\u001b[0;34m.\u001b[0m\u001b[0mwait\u001b[0m\u001b[0;34m(\u001b[0m\u001b[0mtimeout\u001b[0m\u001b[0;34m)\u001b[0m\u001b[0;34m\u001b[0m\u001b[0;34m\u001b[0m\u001b[0m\n\u001b[0m\u001b[1;32m    306\u001b[0m     \u001b[0;32mfor\u001b[0m \u001b[0mf\u001b[0m \u001b[0;32min\u001b[0m \u001b[0mfs\u001b[0m\u001b[0;34m:\u001b[0m\u001b[0;34m\u001b[0m\u001b[0;34m\u001b[0m\u001b[0m\n",
      "\u001b[0;32m~/anaconda3/lib/python3.8/threading.py\u001b[0m in \u001b[0;36mwait\u001b[0;34m(self, timeout)\u001b[0m\n\u001b[1;32m    557\u001b[0m             \u001b[0;32mif\u001b[0m \u001b[0;32mnot\u001b[0m \u001b[0msignaled\u001b[0m\u001b[0;34m:\u001b[0m\u001b[0;34m\u001b[0m\u001b[0;34m\u001b[0m\u001b[0m\n\u001b[0;32m--> 558\u001b[0;31m                 \u001b[0msignaled\u001b[0m \u001b[0;34m=\u001b[0m \u001b[0mself\u001b[0m\u001b[0;34m.\u001b[0m\u001b[0m_cond\u001b[0m\u001b[0;34m.\u001b[0m\u001b[0mwait\u001b[0m\u001b[0;34m(\u001b[0m\u001b[0mtimeout\u001b[0m\u001b[0;34m)\u001b[0m\u001b[0;34m\u001b[0m\u001b[0;34m\u001b[0m\u001b[0m\n\u001b[0m\u001b[1;32m    559\u001b[0m             \u001b[0;32mreturn\u001b[0m \u001b[0msignaled\u001b[0m\u001b[0;34m\u001b[0m\u001b[0;34m\u001b[0m\u001b[0m\n",
      "\u001b[0;32m~/anaconda3/lib/python3.8/threading.py\u001b[0m in \u001b[0;36mwait\u001b[0;34m(self, timeout)\u001b[0m\n\u001b[1;32m    301\u001b[0m             \u001b[0;32mif\u001b[0m \u001b[0mtimeout\u001b[0m \u001b[0;32mis\u001b[0m \u001b[0;32mNone\u001b[0m\u001b[0;34m:\u001b[0m\u001b[0;34m\u001b[0m\u001b[0;34m\u001b[0m\u001b[0m\n\u001b[0;32m--> 302\u001b[0;31m                 \u001b[0mwaiter\u001b[0m\u001b[0;34m.\u001b[0m\u001b[0macquire\u001b[0m\u001b[0;34m(\u001b[0m\u001b[0;34m)\u001b[0m\u001b[0;34m\u001b[0m\u001b[0;34m\u001b[0m\u001b[0m\n\u001b[0m\u001b[1;32m    303\u001b[0m                 \u001b[0mgotit\u001b[0m \u001b[0;34m=\u001b[0m \u001b[0;32mTrue\u001b[0m\u001b[0;34m\u001b[0m\u001b[0;34m\u001b[0m\u001b[0m\n",
      "\u001b[0;31mKeyboardInterrupt\u001b[0m: ",
      "\nDuring handling of the above exception, another exception occurred:\n",
      "\u001b[0;31mKeyboardInterrupt\u001b[0m                         Traceback (most recent call last)",
      "\u001b[0;32m<ipython-input-10-695d49607de3>\u001b[0m in \u001b[0;36m<module>\u001b[0;34m\u001b[0m\n\u001b[1;32m     16\u001b[0m \u001b[0;34m\u001b[0m\u001b[0m\n\u001b[1;32m     17\u001b[0m \u001b[0mobjective\u001b[0m \u001b[0;34m=\u001b[0m \u001b[0mpartial\u001b[0m\u001b[0;34m(\u001b[0m\u001b[0mobjective_with_index\u001b[0m\u001b[0;34m,\u001b[0m \u001b[0mn_internal_parallel\u001b[0m\u001b[0;34m=\u001b[0m\u001b[0;36m4\u001b[0m\u001b[0;34m)\u001b[0m\u001b[0;34m\u001b[0m\u001b[0;34m\u001b[0m\u001b[0m\n\u001b[0;32m---> 18\u001b[0;31m \u001b[0mstudy\u001b[0m\u001b[0;34m.\u001b[0m\u001b[0moptimize\u001b[0m\u001b[0;34m(\u001b[0m\u001b[0mobjective\u001b[0m\u001b[0;34m,\u001b[0m \u001b[0mn_trials\u001b[0m\u001b[0;34m=\u001b[0m\u001b[0;36m3000\u001b[0m\u001b[0;34m,\u001b[0m \u001b[0mtimeout\u001b[0m\u001b[0;34m=\u001b[0m\u001b[0;36m86400\u001b[0m\u001b[0;34m,\u001b[0m \u001b[0mn_jobs\u001b[0m\u001b[0;34m=\u001b[0m\u001b[0;36m4\u001b[0m\u001b[0;34m,\u001b[0m \u001b[0mcallbacks\u001b[0m\u001b[0;34m=\u001b[0m\u001b[0;34m[\u001b[0m\u001b[0mcallback\u001b[0m\u001b[0;34m]\u001b[0m\u001b[0;34m)\u001b[0m\u001b[0;34m\u001b[0m\u001b[0;34m\u001b[0m\u001b[0m\n\u001b[0m",
      "\u001b[0;32m~/anaconda3/lib/python3.8/site-packages/optuna/study/study.py\u001b[0m in \u001b[0;36moptimize\u001b[0;34m(self, func, n_trials, timeout, n_jobs, catch, callbacks, gc_after_trial, show_progress_bar)\u001b[0m\n\u001b[1;32m    398\u001b[0m             )\n\u001b[1;32m    399\u001b[0m \u001b[0;34m\u001b[0m\u001b[0m\n\u001b[0;32m--> 400\u001b[0;31m         _optimize(\n\u001b[0m\u001b[1;32m    401\u001b[0m             \u001b[0mstudy\u001b[0m\u001b[0;34m=\u001b[0m\u001b[0mself\u001b[0m\u001b[0;34m,\u001b[0m\u001b[0;34m\u001b[0m\u001b[0;34m\u001b[0m\u001b[0m\n\u001b[1;32m    402\u001b[0m             \u001b[0mfunc\u001b[0m\u001b[0;34m=\u001b[0m\u001b[0mfunc\u001b[0m\u001b[0;34m,\u001b[0m\u001b[0;34m\u001b[0m\u001b[0;34m\u001b[0m\u001b[0m\n",
      "\u001b[0;32m~/anaconda3/lib/python3.8/site-packages/optuna/study/_optimize.py\u001b[0m in \u001b[0;36m_optimize\u001b[0;34m(study, func, n_trials, timeout, n_jobs, catch, callbacks, gc_after_trial, show_progress_bar)\u001b[0m\n\u001b[1;32m    106\u001b[0m                             \u001b[0mf\u001b[0m\u001b[0;34m.\u001b[0m\u001b[0mresult\u001b[0m\u001b[0;34m(\u001b[0m\u001b[0;34m)\u001b[0m\u001b[0;34m\u001b[0m\u001b[0;34m\u001b[0m\u001b[0m\n\u001b[1;32m    107\u001b[0m \u001b[0;34m\u001b[0m\u001b[0m\n\u001b[0;32m--> 108\u001b[0;31m                     futures.add(\n\u001b[0m\u001b[1;32m    109\u001b[0m                         executor.submit(\n\u001b[1;32m    110\u001b[0m                             \u001b[0m_optimize_sequential\u001b[0m\u001b[0;34m,\u001b[0m\u001b[0;34m\u001b[0m\u001b[0;34m\u001b[0m\u001b[0m\n",
      "\u001b[0;32m~/anaconda3/lib/python3.8/concurrent/futures/_base.py\u001b[0m in \u001b[0;36m__exit__\u001b[0;34m(self, exc_type, exc_val, exc_tb)\u001b[0m\n\u001b[1;32m    634\u001b[0m \u001b[0;34m\u001b[0m\u001b[0m\n\u001b[1;32m    635\u001b[0m     \u001b[0;32mdef\u001b[0m \u001b[0m__exit__\u001b[0m\u001b[0;34m(\u001b[0m\u001b[0mself\u001b[0m\u001b[0;34m,\u001b[0m \u001b[0mexc_type\u001b[0m\u001b[0;34m,\u001b[0m \u001b[0mexc_val\u001b[0m\u001b[0;34m,\u001b[0m \u001b[0mexc_tb\u001b[0m\u001b[0;34m)\u001b[0m\u001b[0;34m:\u001b[0m\u001b[0;34m\u001b[0m\u001b[0;34m\u001b[0m\u001b[0m\n\u001b[0;32m--> 636\u001b[0;31m         \u001b[0mself\u001b[0m\u001b[0;34m.\u001b[0m\u001b[0mshutdown\u001b[0m\u001b[0;34m(\u001b[0m\u001b[0mwait\u001b[0m\u001b[0;34m=\u001b[0m\u001b[0;32mTrue\u001b[0m\u001b[0;34m)\u001b[0m\u001b[0;34m\u001b[0m\u001b[0;34m\u001b[0m\u001b[0m\n\u001b[0m\u001b[1;32m    637\u001b[0m         \u001b[0;32mreturn\u001b[0m \u001b[0;32mFalse\u001b[0m\u001b[0;34m\u001b[0m\u001b[0;34m\u001b[0m\u001b[0m\n\u001b[1;32m    638\u001b[0m \u001b[0;34m\u001b[0m\u001b[0m\n",
      "\u001b[0;32m~/anaconda3/lib/python3.8/concurrent/futures/thread.py\u001b[0m in \u001b[0;36mshutdown\u001b[0;34m(self, wait)\u001b[0m\n\u001b[1;32m    234\u001b[0m         \u001b[0;32mif\u001b[0m \u001b[0mwait\u001b[0m\u001b[0;34m:\u001b[0m\u001b[0;34m\u001b[0m\u001b[0;34m\u001b[0m\u001b[0m\n\u001b[1;32m    235\u001b[0m             \u001b[0;32mfor\u001b[0m \u001b[0mt\u001b[0m \u001b[0;32min\u001b[0m \u001b[0mself\u001b[0m\u001b[0;34m.\u001b[0m\u001b[0m_threads\u001b[0m\u001b[0;34m:\u001b[0m\u001b[0;34m\u001b[0m\u001b[0;34m\u001b[0m\u001b[0m\n\u001b[0;32m--> 236\u001b[0;31m                 \u001b[0mt\u001b[0m\u001b[0;34m.\u001b[0m\u001b[0mjoin\u001b[0m\u001b[0;34m(\u001b[0m\u001b[0;34m)\u001b[0m\u001b[0;34m\u001b[0m\u001b[0;34m\u001b[0m\u001b[0m\n\u001b[0m\u001b[1;32m    237\u001b[0m     \u001b[0mshutdown\u001b[0m\u001b[0;34m.\u001b[0m\u001b[0m__doc__\u001b[0m \u001b[0;34m=\u001b[0m \u001b[0m_base\u001b[0m\u001b[0;34m.\u001b[0m\u001b[0mExecutor\u001b[0m\u001b[0;34m.\u001b[0m\u001b[0mshutdown\u001b[0m\u001b[0;34m.\u001b[0m\u001b[0m__doc__\u001b[0m\u001b[0;34m\u001b[0m\u001b[0;34m\u001b[0m\u001b[0m\n",
      "\u001b[0;32m~/anaconda3/lib/python3.8/threading.py\u001b[0m in \u001b[0;36mjoin\u001b[0;34m(self, timeout)\u001b[0m\n\u001b[1;32m   1009\u001b[0m \u001b[0;34m\u001b[0m\u001b[0m\n\u001b[1;32m   1010\u001b[0m         \u001b[0;32mif\u001b[0m \u001b[0mtimeout\u001b[0m \u001b[0;32mis\u001b[0m \u001b[0;32mNone\u001b[0m\u001b[0;34m:\u001b[0m\u001b[0;34m\u001b[0m\u001b[0;34m\u001b[0m\u001b[0m\n\u001b[0;32m-> 1011\u001b[0;31m             \u001b[0mself\u001b[0m\u001b[0;34m.\u001b[0m\u001b[0m_wait_for_tstate_lock\u001b[0m\u001b[0;34m(\u001b[0m\u001b[0;34m)\u001b[0m\u001b[0;34m\u001b[0m\u001b[0;34m\u001b[0m\u001b[0m\n\u001b[0m\u001b[1;32m   1012\u001b[0m         \u001b[0;32melse\u001b[0m\u001b[0;34m:\u001b[0m\u001b[0;34m\u001b[0m\u001b[0;34m\u001b[0m\u001b[0m\n\u001b[1;32m   1013\u001b[0m             \u001b[0;31m# the behavior of a negative timeout isn't documented, but\u001b[0m\u001b[0;34m\u001b[0m\u001b[0;34m\u001b[0m\u001b[0;34m\u001b[0m\u001b[0m\n",
      "\u001b[0;32m~/anaconda3/lib/python3.8/threading.py\u001b[0m in \u001b[0;36m_wait_for_tstate_lock\u001b[0;34m(self, block, timeout)\u001b[0m\n\u001b[1;32m   1025\u001b[0m         \u001b[0;32mif\u001b[0m \u001b[0mlock\u001b[0m \u001b[0;32mis\u001b[0m \u001b[0;32mNone\u001b[0m\u001b[0;34m:\u001b[0m  \u001b[0;31m# already determined that the C code is done\u001b[0m\u001b[0;34m\u001b[0m\u001b[0;34m\u001b[0m\u001b[0m\n\u001b[1;32m   1026\u001b[0m             \u001b[0;32massert\u001b[0m \u001b[0mself\u001b[0m\u001b[0;34m.\u001b[0m\u001b[0m_is_stopped\u001b[0m\u001b[0;34m\u001b[0m\u001b[0;34m\u001b[0m\u001b[0m\n\u001b[0;32m-> 1027\u001b[0;31m         \u001b[0;32melif\u001b[0m \u001b[0mlock\u001b[0m\u001b[0;34m.\u001b[0m\u001b[0macquire\u001b[0m\u001b[0;34m(\u001b[0m\u001b[0mblock\u001b[0m\u001b[0;34m,\u001b[0m \u001b[0mtimeout\u001b[0m\u001b[0;34m)\u001b[0m\u001b[0;34m:\u001b[0m\u001b[0;34m\u001b[0m\u001b[0;34m\u001b[0m\u001b[0m\n\u001b[0m\u001b[1;32m   1028\u001b[0m             \u001b[0mlock\u001b[0m\u001b[0;34m.\u001b[0m\u001b[0mrelease\u001b[0m\u001b[0;34m(\u001b[0m\u001b[0;34m)\u001b[0m\u001b[0;34m\u001b[0m\u001b[0;34m\u001b[0m\u001b[0m\n\u001b[1;32m   1029\u001b[0m             \u001b[0mself\u001b[0m\u001b[0;34m.\u001b[0m\u001b[0m_stop\u001b[0m\u001b[0;34m(\u001b[0m\u001b[0;34m)\u001b[0m\u001b[0;34m\u001b[0m\u001b[0;34m\u001b[0m\u001b[0m\n",
      "\u001b[0;31mKeyboardInterrupt\u001b[0m: "
     ]
    }
   ],
   "source": [
    "storage_path = f\"study.db\"\n",
    "storage = f\"sqlite:///{storage_path}\"\n",
    "study_name = \"study\"\n",
    "study = optuna.create_study(storage=storage, load_if_exists=True, study_name=study_name, direction=\"maximize\")\n",
    "\n",
    "def callback(study, trial):\n",
    "    try:\n",
    "        if study.best_value == trial.value:\n",
    "            print(f\"Updated! {study.best_value}\")\n",
    "            index_parallel = trial.number % 12\n",
    "            parameters_changed_filename = f\"{index_parallel}_{FILENAME}\"\n",
    "            !cp {parameters_changed_filename} 00000optimized.cpp\n",
    "        print(\"callback ok\")\n",
    "    except:\n",
    "        print(\":(\")\n",
    "\n",
    "objective = partial(objective_with_index, n_internal_parallel=4)\n",
    "study.optimize(objective, n_trials=3000, timeout=86400, n_jobs=4, callbacks=[callback])"
   ]
  },
  {
   "cell_type": "code",
   "execution_count": null,
   "id": "8b4ad3ce",
   "metadata": {},
   "outputs": [],
   "source": []
  }
 ],
 "metadata": {
  "kernelspec": {
   "display_name": "Python 3",
   "language": "python",
   "name": "python3"
  },
  "language_info": {
   "codemirror_mode": {
    "name": "ipython",
    "version": 3
   },
   "file_extension": ".py",
   "mimetype": "text/x-python",
   "name": "python",
   "nbconvert_exporter": "python",
   "pygments_lexer": "ipython3",
   "version": "3.8.8"
  }
 },
 "nbformat": 4,
 "nbformat_minor": 5
}
